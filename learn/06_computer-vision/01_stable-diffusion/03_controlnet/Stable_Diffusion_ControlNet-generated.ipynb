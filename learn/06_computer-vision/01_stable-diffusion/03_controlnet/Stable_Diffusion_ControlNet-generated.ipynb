{
 "cells": [
  {
   "cell_type": "markdown",
   "id": "84f818ae",
   "metadata": {},
   "source": [
    "# ControlNet with Stable Diffusion"
   ]
  },
  {
   "cell_type": "markdown",
   "id": "eb266800",
   "metadata": {},
   "source": [
    "This ControlNet is considered another way to guide the results in terms of composition and general of the image, as we have learned before."
   ]
  },
  {
   "cell_type": "markdown",
   "id": "a1801540",
   "metadata": {},
   "source": [
    "As we know, it is possible to generate images from text, from images, and even by training custom model. However, Control Net introduces a new way to guide the generation of images, for example, we can control the Depth to Image, where both a text prompt and a depth image are used to condition the model. This allows you to get even more accurate results than the common image-to-image technique."
   ]
  },
  {
   "cell_type": "markdown",
   "id": "fe061383",
   "metadata": {},
   "source": [
    "# About the technique"
   ]
  },
  {
   "cell_type": "markdown",
   "id": "5affbdad",
   "metadata": {},
   "source": [
    "Paper: https://arxiv.org/pdf/2302.05543.pdf"
   ]
  },
  {
   "cell_type": "markdown",
   "id": "810e93b4",
   "metadata": {},
   "source": [
    "ControlNet is a method used to manage the behavior of a neural network. It does this by adjusting the input conditions of the building blocks of the neural network, which are called network blocks. For example, in a restnet pretrained CNN model, residual network is a network block."
   ]
  },
  {
   "cell_type": "markdown",
   "id": "9f3083fa",
   "metadata": {},
   "source": [
    "# ControlNet 1.0"
   ]
  },
  {
   "cell_type": "markdown",
   "id": "f869028f",
   "metadata": {},
   "source": []
  },
  {
   "cell_type": "markdown",
   "id": "88a186cd",
   "metadata": {},
   "source": [
    "![Image](https://raw.githubusercontent.com/lllyasviel/ControlNet/main/github_page/he.png)"
   ]
  },
  {
   "cell_type": "markdown",
   "id": "f62d7d38",
   "metadata": {},
   "source": [
    "The image illustrates how to apply a ControlNet to any neural network block."
   ]
  },
  {
   "cell_type": "markdown",
   "id": "cfac86af",
   "metadata": {},
   "source": [
    "The x and y represent deep features in neural networks. These are the complex representations that the network learns from the input data."
   ]
  },
  {
   "cell_type": "markdown",
   "id": "7bfccef2",
   "metadata": {},
   "source": [
    "The + symbol refers to feature addition, which is a way of combining the information from different features."
   ]
  },
  {
   "cell_type": "markdown",
   "id": "23a751c0",
   "metadata": {},
   "source": [
    "The c represents an extra condition that is added to the neural network. This could be any additional information that you want the network to consider when making its predictions."
   ]
  },
  {
   "cell_type": "markdown",
   "id": "500fc489",
   "metadata": {},
   "source": [
    "In implementing ControlNet, there are various techniques that can be used to condition the model. However, for this discussion, the focus will be on two specific methods:"
   ]
  },
  {
   "cell_type": "markdown",
   "id": "1e49f24f",
   "metadata": {},
   "source": [
    "This technique involves identifying the boundaries of objects within an image. The Canny Edge Detection method is a popular algorithm that’s used to detect a wide range of edges in images. It’s used to help the model understand the shapes present in the input."
   ]
  },
  {
   "cell_type": "markdown",
   "id": "84579019",
   "metadata": {},
   "source": [
    "This technique is about understanding the pose of a person in an image or video. Open Pose is a library that allows for real-time multi-person keypoint detection. It can identify where people are and how they are posed in an image or video. This information can be used to condition the model to understand and learn from the poses present in the input."
   ]
  },
  {
   "cell_type": "markdown",
   "id": "e88188f7",
   "metadata": {},
   "source": [
    "For more detailed information about implementing ControlNet and the various techniques used to condition the model, you can refer to the ControlNet GitHub repository. This resource provides comprehensive documentation, code examples, and further reading to help you understand and implement ControlNet effectively."
   ]
  },
  {
   "cell_type": "markdown",
   "id": "cb72b3ce",
   "metadata": {},
   "source": [
    "# Installing the libraries"
   ]
  },
  {
   "cell_type": "code",
   "execution_count": null,
   "id": "1bc85e18",
   "metadata": {},
   "outputs": [],
   "source": [
    "!pip install diffusers==0.14\n",
    "!pip install -q accelerate transformers xformers"
   ]
  },
  {
   "cell_type": "code",
   "execution_count": null,
   "id": "711dec36",
   "metadata": {},
   "outputs": [],
   "source": [
    "!pip install -q opencv-contrib-python\n",
    "!pip install -q controlnet_aux"
   ]
  },
  {
   "cell_type": "code",
   "execution_count": null,
   "id": "f51f97fd",
   "metadata": {},
   "outputs": [],
   "source": [
    "from diffusers import StableDiffusionControlNetPipeline, ControlNetModel\n",
    "import torch\n",
    "import cv2\n",
    "from PIL import Image\n",
    "import numpy as np"
   ]
  },
  {
   "cell_type": "code",
   "execution_count": null,
   "id": "862ed03f",
   "metadata": {},
   "outputs": [],
   "source": [
    "#function show image as grid\n",
    "def grid_img(imgs, rows=1, cols=3, scale=1):\n",
    "  assert len(imgs) == rows * cols\n",
    "\n",
    "  w, h = imgs[0].size\n",
    "  w, h = int(w*scale), int(h*scale)\n",
    "\n",
    "  grid = Image.new('RGB', size=(cols*w, rows*h))\n",
    "  grid_w, grid_h = grid.size\n",
    "\n",
    "  for i, img in enumerate(imgs):\n",
    "      img = img.resize((w,h), Image.ANTIALIAS)\n",
    "      grid.paste(img, box=(i%cols*w, i//cols*h))\n",
    "  return grid"
   ]
  },
  {
   "cell_type": "markdown",
   "id": "49b20b22",
   "metadata": {},
   "source": [
    "# Generating Images Using Edges"
   ]
  },
  {
   "cell_type": "markdown",
   "id": "e4e7dab6",
   "metadata": {},
   "source": [
    "# ControlNet Model + Canny Edge"
   ]
  },
  {
   "cell_type": "markdown",
   "id": "c147df7e",
   "metadata": {},
   "source": [
    "This is the algorithm used to extract the edges of images. It will be easier to understand during the implementations."
   ]
  },
  {
   "cell_type": "markdown",
   "id": "d5d40014",
   "metadata": {},
   "source": [
    "We are creating the variable control_net_canny_model with the corresponding link to download it from the repository."
   ]
  },
  {
   "cell_type": "code",
   "execution_count": null,
   "id": "e81ea1ad",
   "metadata": {},
   "outputs": [],
   "source": [
    "controlnet_canny_model = 'lllyasviel/sd-controlnet-canny'\n",
    "control_net_canny = ControlNetModel.from_pretrained(controlnet_canny_model, torch_dtype=torch.float16)"
   ]
  },
  {
   "cell_type": "code",
   "execution_count": null,
   "id": "cc0624b2",
   "metadata": {},
   "outputs": [],
   "source": [
    "pipe = StableDiffusionControlNetPipeline.from_pretrained('runwayml/stable-diffusion-v1-5',\n",
    "                                                         controlnet=control_net_canny,\n",
    "                                                         torch_dtype=torch.float16)"
   ]
  },
  {
   "cell_type": "code",
   "execution_count": null,
   "id": "55ba8702",
   "metadata": {},
   "outputs": [],
   "source": [
    "from diffusers import UniPCMultistepScheduler\n",
    "pipe.scheduler = UniPCMultistepScheduler.from_config(pipe.scheduler.config)"
   ]
  },
  {
   "cell_type": "code",
   "execution_count": null,
   "id": "70ca2f03",
   "metadata": {},
   "outputs": [],
   "source": [
    "pipe.enable_attention_slicing()\n",
    "pipe.enable_xformers_memory_efficient_attention()"
   ]
  },
  {
   "cell_type": "code",
   "execution_count": null,
   "id": "6b127421",
   "metadata": {},
   "outputs": [],
   "source": [
    "pipe.enable_model_cpu_offload()"
   ]
  },
  {
   "cell_type": "markdown",
   "id": "90c1ff58",
   "metadata": {},
   "source": [
    "# Loading the image"
   ]
  },
  {
   "cell_type": "markdown",
   "id": "3c9f0730",
   "metadata": {},
   "source": [
    "Now we can load the image."
   ]
  },
  {
   "cell_type": "code",
   "execution_count": null,
   "id": "fa659f71",
   "metadata": {},
   "outputs": [],
   "source": [
    "img = Image.open('/content/bird2.jpg')\n",
    "img"
   ]
  },
  {
   "cell_type": "markdown",
   "id": "c5844c28",
   "metadata": {},
   "source": []
  },
  {
   "cell_type": "markdown",
   "id": "c9f77a76",
   "metadata": {},
   "source": [
    "# Detecting edges using Canny Edge"
   ]
  },
  {
   "cell_type": "markdown",
   "id": "8cbe2e18",
   "metadata": {},
   "source": [
    "In this technique, we are going to use the Canny edge algorithm to extract only the borders of the image. So instead of sending the whole image to the algorithm, we are going to send only the borders."
   ]
  },
  {
   "cell_type": "markdown",
   "id": "cd02b496",
   "metadata": {},
   "source": [
    "We are going to create a function that will receive as parameter this image and will return the edges. We don’t need to worry about it because OpenCV has a pre-built function, so we just need to call it to extract the edges."
   ]
  },
  {
   "cell_type": "code",
   "execution_count": null,
   "id": "8c8d4795",
   "metadata": {},
   "outputs": [],
   "source": [
    "def canny_edge(img, low_threshold = 100, high_threshold = 200):\n",
    "  img = np.array(img)\n",
    "\n",
    "  img = cv2.Canny(img, low_threshold, high_threshold)\n",
    "\n",
    "  img = img[:, :, None]\n",
    "\n",
    "  img = np.concatenate([img, img, img], axis = 2)\n",
    "\n",
    "  canny_img = Image.fromarray(img)\n",
    "\n",
    "  return canny_img"
   ]
  },
  {
   "cell_type": "markdown",
   "id": "6858f5e0",
   "metadata": {},
   "source": [
    "we can visualize the edges."
   ]
  },
  {
   "cell_type": "code",
   "execution_count": null,
   "id": "15d63bfa",
   "metadata": {},
   "outputs": [],
   "source": [
    "canny_img = canny_edge(img)\n",
    "canny_img"
   ]
  },
  {
   "cell_type": "markdown",
   "id": "cdc457af",
   "metadata": {},
   "source": []
  },
  {
   "cell_type": "markdown",
   "id": "34605602",
   "metadata": {},
   "source": [
    "we are able to visualize only the edges that have been extracted. Just a reminder that instead of sending the whole image to the algorithm, we are going to send only the edges. Then the algorithm will be able to generate new birds according to the edges."
   ]
  },
  {
   "cell_type": "markdown",
   "id": "fdab09c7",
   "metadata": {},
   "source": [
    "We create a prompt, a seed for reproducibility, and a generator. Then we call the pipeline, sending the prompt and the edges of the image as parameters."
   ]
  },
  {
   "cell_type": "code",
   "execution_count": null,
   "id": "b36b2926",
   "metadata": {},
   "outputs": [],
   "source": [
    "prompt = \"realistic photo of a blue bird with purple details, high quality, natural light\"\n",
    "neg_prompt = \"\"\n",
    "\n",
    "seed = 777\n",
    "generator = torch.Generator(device=\"cuda\").manual_seed(seed)\n",
    "\n",
    "imgs = pipe(\n",
    "    prompt,\n",
    "    canny_img,\n",
    "    negative_prompt=neg_prompt,\n",
    "    generator=generator,\n",
    "    num_inference_steps=20,\n",
    ")"
   ]
  },
  {
   "cell_type": "code",
   "execution_count": null,
   "id": "97d43c1e",
   "metadata": {},
   "outputs": [],
   "source": [
    "imgs.images[0]"
   ]
  },
  {
   "cell_type": "markdown",
   "id": "b7cbea1a",
   "metadata": {},
   "source": []
  },
  {
   "cell_type": "markdown",
   "id": "cb0a3090",
   "metadata": {},
   "source": [
    "We can see a high-quality image that is related to the edges and is also in accordance with the prompt."
   ]
  },
  {
   "cell_type": "markdown",
   "id": "7b1c357f",
   "metadata": {},
   "source": [
    "We can perform tests using different prompts and negative prompts."
   ]
  },
  {
   "cell_type": "code",
   "execution_count": null,
   "id": "aff12123",
   "metadata": {},
   "outputs": [],
   "source": [
    "prompt = [\"realistic photo of a blue bird with purple details, high quality, natural light\",\n",
    "          \"realistic photo of a bird in new york during autumn, city in the background\",\n",
    "          \"oil painting of a black bird in the desert, realistic, vivid, fantasy, surrealist, best quality, extremely detailed\",\n",
    "          \"digital painting of a blue bird in space, stars and galaxy in the background, trending on artstation\"]\n",
    "\n",
    "neg_prompt = [\"blurred, lowres, bad anatomy, ugly, worst quality, low quality, monochrome, signature\"] * len(prompt)\n",
    "\n",
    "seed = 777\n",
    "generator = torch.Generator(device=\"cuda\").manual_seed(seed)\n",
    "\n",
    "imgs = pipe(\n",
    "    prompt,\n",
    "    canny_img,\n",
    "    negative_prompt=neg_prompt,\n",
    "    generator=generator,\n",
    "    num_inference_steps=20,\n",
    ")"
   ]
  },
  {
   "cell_type": "code",
   "execution_count": null,
   "id": "6e52b3e0",
   "metadata": {},
   "outputs": [],
   "source": [
    "grid_img(imgs.images, 1, len(prompt), scale=0.75)"
   ]
  },
  {
   "cell_type": "code",
   "execution_count": null,
   "id": "1b5363c2",
   "metadata": {},
   "outputs": [],
   "source": [
    "DeprecationWarning: ANTIALIAS is deprecated and will be removed in Pillow 10 (2023-07-01). Use LANCZOS or Resampling.LANCZOS instead.\n",
    "  img = img.resize((w,h), Image.ANTIALIAS)"
   ]
  },
  {
   "cell_type": "markdown",
   "id": "ecfaa28e",
   "metadata": {},
   "source": []
  },
  {
   "cell_type": "markdown",
   "id": "df8a28f2",
   "metadata": {},
   "source": [
    "Let’s try with another image"
   ]
  },
  {
   "cell_type": "code",
   "execution_count": null,
   "id": "9fab671c",
   "metadata": {},
   "outputs": [],
   "source": [
    "img = Image.open(\"/content/wolf.jpg\")"
   ]
  },
  {
   "cell_type": "code",
   "execution_count": null,
   "id": "4e09ce3c",
   "metadata": {},
   "outputs": [],
   "source": [
    "canny_img = canny_edge(img, 200, 255)\n",
    "\n",
    "grid_img([img, canny_img], 1, 2)"
   ]
  },
  {
   "cell_type": "code",
   "execution_count": null,
   "id": "df279e23",
   "metadata": {},
   "outputs": [],
   "source": [
    "DeprecationWarning: ANTIALIAS is deprecated and will be removed in Pillow 10 (2023-07-01). Use LANCZOS or Resampling.LANCZOS instead.\n",
    "  img = img.resize((w,h), Image.ANTIALIAS)"
   ]
  },
  {
   "cell_type": "markdown",
   "id": "131cf409",
   "metadata": {},
   "source": []
  },
  {
   "cell_type": "code",
   "execution_count": null,
   "id": "e2235ee4",
   "metadata": {},
   "outputs": [],
   "source": [
    "prompt = [\"realistic photo of a wolf, high quality, natural light, full moon\",\n",
    "          \"realistic photo of a wolf in the snow, best quality, extremely detailed\",\n",
    "          \"oil painting of wolf the desert, canyons in the background, realistic, vivid, fantasy, surrealist, best quality, extremely detailed\",\n",
    "          \"watercolor painting of a wolf in space, blue and purple tones, stars and earth in the background\"]\n",
    "\n",
    "neg_prompt = [\"blurred, lowres, bad anatomy, ugly, worst quality, low quality, monochrome, signature\"] * len(prompt)\n",
    "\n",
    "seed = 777\n",
    "generator = torch.Generator(device=\"cuda\").manual_seed(seed)\n",
    "\n",
    "imgs = pipe(\n",
    "    prompt,\n",
    "    canny_img,\n",
    "    negative_prompt=neg_prompt,\n",
    "    generator=generator,\n",
    "    num_inference_steps=20,\n",
    ")"
   ]
  },
  {
   "cell_type": "code",
   "execution_count": null,
   "id": "86333192",
   "metadata": {},
   "outputs": [],
   "source": [
    "grid_img(imgs.images, 1, len(prompt), scale=0.75)"
   ]
  },
  {
   "cell_type": "code",
   "execution_count": null,
   "id": "01f2d718",
   "metadata": {},
   "outputs": [],
   "source": [
    "DeprecationWarning: ANTIALIAS is deprecated and will be removed in Pillow 10 (2023-07-01). Use LANCZOS or Resampling.LANCZOS instead.\n",
    "  img = img.resize((w,h), Image.ANTIALIAS)"
   ]
  },
  {
   "cell_type": "markdown",
   "id": "1741f71d",
   "metadata": {},
   "source": []
  },
  {
   "cell_type": "markdown",
   "id": "a125ba2a",
   "metadata": {},
   "source": [
    "# Generating Images Using Poses"
   ]
  },
  {
   "cell_type": "markdown",
   "id": "1f2e86c0",
   "metadata": {},
   "source": [
    "We will learn how to generate images using poses."
   ]
  },
  {
   "cell_type": "markdown",
   "id": "cd747d3b",
   "metadata": {},
   "source": [
    "If the desired images cannot be found, there are several online 3D software options available for creating posed images:"
   ]
  },
  {
   "cell_type": "markdown",
   "id": "d4e4b483",
   "metadata": {},
   "source": [
    "# Loading the model to extract poses"
   ]
  },
  {
   "cell_type": "markdown",
   "id": "58353339",
   "metadata": {},
   "source": [
    "The first step is to download the model from controlnet_aux, a library we will import."
   ]
  },
  {
   "cell_type": "markdown",
   "id": "9450f8bf",
   "metadata": {},
   "source": [
    "We will also import the OpenposeDetector. We will send an image to this detector and it will return the pose of that image."
   ]
  },
  {
   "cell_type": "code",
   "execution_count": null,
   "id": "07570570",
   "metadata": {},
   "outputs": [],
   "source": [
    "from controlnet_aux import OpenposeDetector\n",
    "pose_model = OpenposeDetector.from_pretrained('lllyasviel/ControlNet')"
   ]
  },
  {
   "cell_type": "markdown",
   "id": "418b437a",
   "metadata": {},
   "source": [
    "# Extract The Pose"
   ]
  },
  {
   "cell_type": "markdown",
   "id": "cfcab493",
   "metadata": {},
   "source": [
    "First, the image is loaded. Then, the pose is extracted using the pose_model function."
   ]
  },
  {
   "cell_type": "markdown",
   "id": "57920076",
   "metadata": {},
   "source": [
    "We will see the pose that has been extracted from the image."
   ]
  },
  {
   "cell_type": "markdown",
   "id": "66658f7c",
   "metadata": {},
   "source": [
    "The extracted keypoints represent specific points related to various body parts such as the head, shoulders, arms, hands, legs, feet, and so on."
   ]
  },
  {
   "cell_type": "code",
   "execution_count": null,
   "id": "0b22b26c",
   "metadata": {},
   "outputs": [],
   "source": [
    "img_pose = Image.open('/content/pose01.jpg')"
   ]
  },
  {
   "cell_type": "code",
   "execution_count": null,
   "id": "400b0d6d",
   "metadata": {},
   "outputs": [],
   "source": [
    "pose = pose_model(img_pose)\n",
    "grid_img([img_pose, pose], rows=1, cols=2, scale=0.75)"
   ]
  },
  {
   "cell_type": "code",
   "execution_count": null,
   "id": "765ef459",
   "metadata": {},
   "outputs": [],
   "source": [
    "DeprecationWarning: ANTIALIAS is deprecated and will be removed in Pillow 10 (2023-07-01). Use LANCZOS or Resampling.LANCZOS instead.\n",
    "  img = img.resize((w,h), Image.ANTIALIAS)"
   ]
  },
  {
   "cell_type": "markdown",
   "id": "1e852ba6",
   "metadata": {},
   "source": []
  },
  {
   "cell_type": "markdown",
   "id": "22c34d1a",
   "metadata": {},
   "source": [
    "# Loading the ControlNet model"
   ]
  },
  {
   "cell_type": "markdown",
   "id": "deadfc58",
   "metadata": {},
   "source": [
    "The next step is to load the ControlNet model."
   ]
  },
  {
   "cell_type": "code",
   "execution_count": null,
   "id": "f1742627",
   "metadata": {},
   "outputs": [],
   "source": [
    "controlnet_pose_model = ControlNetModel.from_pretrained('thibaud/controlnet-sd21-openpose-diffusers', torch_dtype=torch.float16)\n",
    "sd_controlpose = StableDiffusionControlNetPipeline.from_pretrained('stabilityai/stable-diffusion-2-1-base',\n",
    "                                                                   controlnet=controlnet_pose_model,\n",
    "                                                                   torch_dtype=torch.float16)"
   ]
  },
  {
   "cell_type": "code",
   "execution_count": null,
   "id": "1fa3613e",
   "metadata": {},
   "outputs": [],
   "source": [
    "sd_controlpose.enable_model_cpu_offload()\n",
    "sd_controlpose.enable_attention_slicing()\n",
    "sd_controlpose.enable_xformers_memory_efficient_attention()"
   ]
  },
  {
   "cell_type": "code",
   "execution_count": null,
   "id": "0f507c7d",
   "metadata": {},
   "outputs": [],
   "source": [
    "from diffusers import DEISMultistepScheduler\n",
    "\n",
    "sd_controlpose.scheduler = DEISMultistepScheduler.from_config(sd_controlpose.scheduler.config)"
   ]
  },
  {
   "cell_type": "code",
   "execution_count": null,
   "id": "c39022d3",
   "metadata": {},
   "outputs": [],
   "source": [
    "seed = 555\n",
    "generator = torch.Generator(device=\"cuda\").manual_seed(seed)\n",
    "prompt = \"professional photo of a young woman in the street, casual fashion, sharp focus, insanely detailed, photorealistic, sunset, side light\"\n",
    "neg_prompt = \"ugly, tiling, closed eyes, poorly drawn hands, poorly drawn feet, poorly drawn face, out of frame, extra limbs, disfigured, deformed, body out of frame, bad anatomy, watermark, signature, cut off, low contrast, underexposed, overexposed, bad art, beginner, amateur, distorted face\"\n",
    "\n",
    "imgs = sd_controlpose(\n",
    "    prompt,\n",
    "    pose,\n",
    "    negative_prompt=neg_prompt,\n",
    "    num_images_per_prompt=4,\n",
    "    generator=generator,\n",
    "    num_inference_steps=20,\n",
    ")\n",
    "grid_img(imgs.images, 1, 4, 0.75)"
   ]
  },
  {
   "cell_type": "code",
   "execution_count": null,
   "id": "392c6739",
   "metadata": {},
   "outputs": [],
   "source": [
    "DeprecationWarning: ANTIALIAS is deprecated and will be removed in Pillow 10 (2023-07-01). Use LANCZOS or Resampling.LANCZOS instead.\n",
    "  img = img.resize((w,h), Image.ANTIALIAS)"
   ]
  },
  {
   "cell_type": "markdown",
   "id": "056d53ed",
   "metadata": {},
   "source": []
  },
  {
   "cell_type": "markdown",
   "id": "6c63ae9a",
   "metadata": {},
   "source": [
    "# Trying Different Images and Prompts"
   ]
  },
  {
   "cell_type": "markdown",
   "id": "c87c89af",
   "metadata": {},
   "source": [
    "Let’s switch things up and use a different pose image."
   ]
  },
  {
   "cell_type": "code",
   "execution_count": null,
   "id": "9cacdb6b",
   "metadata": {},
   "outputs": [],
   "source": [
    "img_pose = Image.open(\"man-pose.jpg\")\n",
    "\n",
    "pose = pose_model(img_pose)\n",
    "\n",
    "grid_img([img_pose, pose], 1, 2, scale=0.5)"
   ]
  },
  {
   "cell_type": "code",
   "execution_count": null,
   "id": "045ca167",
   "metadata": {},
   "outputs": [],
   "source": [
    "DeprecationWarning: ANTIALIAS is deprecated and will be removed in Pillow 10 (2023-07-01). Use LANCZOS or Resampling.LANCZOS instead.\n",
    "  img = img.resize((w,h), Image.ANTIALIAS)"
   ]
  },
  {
   "cell_type": "markdown",
   "id": "7ada526f",
   "metadata": {},
   "source": []
  },
  {
   "cell_type": "code",
   "execution_count": null,
   "id": "e5001624",
   "metadata": {},
   "outputs": [],
   "source": [
    "seed = 999\n",
    "generator = torch.Generator(device=\"cuda\").manual_seed(seed)\n",
    "prompt = \"professional photo of a young asian man in the office, formal fashion, smile, waring hat, sharp focus, insanely detailed, photorealistic, side light\"\n",
    "neg_prompt = \"ugly, tiling, closed eyes, poorly drawn hands, poorly drawn feet, poorly drawn face, out of frame, extra limbs, disfigured, deformed, body out of frame, bad anatomy, watermark, signature, cut off, low contrast, underexposed, overexposed, bad art, beginner, amateur, distorted face\"\n",
    "\n",
    "imgs = sd_controlpose(\n",
    "    prompt,\n",
    "    pose,\n",
    "    negative_prompt=neg_prompt,\n",
    "    num_images_per_prompt=4,\n",
    "    generator=generator,\n",
    "    num_inference_steps=20,\n",
    ")\n",
    "grid_img(imgs.images, 1, 4, 0.75)"
   ]
  },
  {
   "cell_type": "code",
   "execution_count": null,
   "id": "8d1c1060",
   "metadata": {},
   "outputs": [],
   "source": [
    "DeprecationWarning: ANTIALIAS is deprecated and will be removed in Pillow 10 (2023-07-01). Use LANCZOS or Resampling.LANCZOS instead.\n",
    "  img = img.resize((w,h), Image.ANTIALIAS)"
   ]
  },
  {
   "cell_type": "markdown",
   "id": "a3bf914f",
   "metadata": {},
   "source": []
  },
  {
   "cell_type": "code",
   "execution_count": null,
   "id": "e5740920",
   "metadata": {},
   "outputs": [],
   "source": [
    "seed = 123\n",
    "prompt = [\"oil painting walter white wearing a suit and black hat and sunglasses, face portrait, in the desert, realistic, vivid\",\n",
    "          \"oil painting walter white wearing a jedi brown coat, face portrait, wearing a hood, holding a cup of coffee, in another planet, realistic, vivid\",\n",
    "          \"professional photo of walter white wearing a space suit, face portrait, in mars, realistic, vivid\",\n",
    "          \"professional photo of walter white in the kitchen, face portrait, realistic, vivid\"]\n",
    "\n",
    "neg_prompt = [\"helmet, ugly, tiling, closed eyes, poorly drawn hands, poorly drawn feet, poorly drawn face, out of frame, extra limbs, disfigured, deformed, body out of frame, bad anatomy, watermark, signature, cut off, low contrast, underexposed, overexposed, bad art, beginner, amateur, distorted face\"] * len(prompt)\n",
    "num_imgs = 1\n",
    "\n",
    "generator = torch.Generator(device=\"cuda\").manual_seed(seed)\n",
    "imgs = sd_controlpose(\n",
    "    prompt,\n",
    "    pose,\n",
    "    negative_prompt=neg_prompt,\n",
    "    generator=generator,\n",
    "    num_inference_steps=20,\n",
    ")\n",
    "grid_img(imgs.images, 1, len(prompt), 0.75)"
   ]
  },
  {
   "cell_type": "code",
   "execution_count": null,
   "id": "4ebc4048",
   "metadata": {},
   "outputs": [],
   "source": [
    "DeprecationWarning: ANTIALIAS is deprecated and will be removed in Pillow 10 (2023-07-01). Use LANCZOS or Resampling.LANCZOS instead.\n",
    "  img = img.resize((w,h), Image.ANTIALIAS)"
   ]
  },
  {
   "cell_type": "markdown",
   "id": "5dd9f6ed",
   "metadata": {},
   "source": []
  },
  {
   "cell_type": "markdown",
   "id": "b87ce828",
   "metadata": {},
   "source": [
    "# Improve The Result"
   ]
  },
  {
   "cell_type": "markdown",
   "id": "9887ec1c",
   "metadata": {},
   "source": [
    "For enhanced results:"
   ]
  },
  {
   "cell_type": "markdown",
   "id": "ce4ac1e4",
   "metadata": {},
   "source": [
    "# Exercise ControlNet"
   ]
  },
  {
   "cell_type": "code",
   "execution_count": null,
   "id": "3a9475d7",
   "metadata": {},
   "outputs": [],
   "source": [
    "# @title #### Student Identity\n",
    "student_id = \"your student id\" # @param {type:\"string\"}\n",
    "name = \"your name\" # @param {type:\"string\"}"
   ]
  },
  {
   "cell_type": "code",
   "execution_count": null,
   "id": "4821efaf",
   "metadata": {},
   "outputs": [],
   "source": [
    "# Intalling Libs\n",
    "%pip install diffusers==0.14\n",
    "%pip install -q accelerate transformers xformers\n",
    "%pip install -q controlnet_aux\n",
    "%pip install rggrader"
   ]
  },
  {
   "cell_type": "code",
   "execution_count": null,
   "id": "d7aa987d",
   "metadata": {},
   "outputs": [],
   "source": [
    "# @title #### 00. Generating Images Using Poses\n",
    "from rggrader import submit_image\n",
    "from diffusers import StableDiffusionControlNetPipeline, ControlNetModel\n",
    "import torch\n",
    "import cv2\n",
    "from PIL import Image\n",
    "from controlnet_aux import OpenposeDetector\n",
    "from diffusers import DEISMultistepScheduler\n",
    "\n",
    "# TODO:\n",
    "# 1. Use the 'lllyasviel/ControlNet' model to extract the pose from the reference image. This model will allow us to understand the pose that is present in the image.\n",
    "# 2. Use the ControlNet models 'thibaud/controlnet-sd21-openpose-diffusers' and 'stabilityai/stable-diffusion-2-1-base' to generate the desired image. These models will take the pose extracted from the previous step and use it to generate a new image.\n",
    "# 3. The image generation will be based on the prompt that you input. Make sure your prompt is clear and describes the image you want to generate accurately.\n",
    "# 4. Once the image is generated, save it in the 'results' folder. This will ensure that you can easily locate and review the image later.\n",
    "# 5. Finally, select one of the generated images to upload. This image will be the final output of your exercise.\n",
    "\n",
    "# NOTE: Remember, the quality of the generated image will greatly depend on the accuracy of the pose extracted from the reference image and the clarity of your prompt.\n",
    "\n",
    "# Loading model and create output dir\n",
    "pose_model = OpenposeDetector.from_pretrained('lllyasviel/ControlNet')\n",
    "\n",
    "# Put your code here:\n",
    "imgs = None\n",
    "\n",
    "# ---- End of your code ----"
   ]
  },
  {
   "cell_type": "code",
   "execution_count": null,
   "id": "af08fa6d",
   "metadata": {},
   "outputs": [],
   "source": [
    "# Saving the results\n",
    "!mkdir results\n",
    "for i, img in enumerate(imgs.images):\n",
    "  img.save('results/result_{}.png'.format(i+1))"
   ]
  },
  {
   "cell_type": "code",
   "execution_count": null,
   "id": "e7eb2a1f",
   "metadata": {},
   "outputs": [],
   "source": [
    "# Submit Method\n",
    "assignment_id = \"00_controlnet\"\n",
    "question_id = \"00_generating_images_using_poses\"\n",
    "submit_image(student_id, question_id, 'your_image.png') # change 'your_image.png' to the name of the image you want to upload (eg. results/result_3.png)"
   ]
  }
 ],
 "metadata": {},
 "nbformat": 4,
 "nbformat_minor": 5
}
