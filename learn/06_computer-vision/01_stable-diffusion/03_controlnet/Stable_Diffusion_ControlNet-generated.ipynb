{
 "cells": [
  {
   "cell_type": "markdown",
   "id": "52a3c7b7",
   "metadata": {},
   "source": [
    "source: [link](https://ai-bootcamp.ruangguru.com/learn/06_computer-vision/01_stable-diffusion/03_controlnet/Stable_Diffusion_ControlNet.html)"
   ]
  },
  {
   "cell_type": "markdown",
   "id": "2b0cfc45",
   "metadata": {},
   "source": [
    "# ControlNet with Stable Diffusion"
   ]
  },
  {
   "cell_type": "markdown",
   "id": "0b22f2d6",
   "metadata": {},
   "source": [
    "This ControlNet is considered another way to guide the results in terms of composition and general of the image, as we have learned before."
   ]
  },
  {
   "cell_type": "markdown",
   "id": "17cc7501",
   "metadata": {},
   "source": [
    "As we know, it is possible to generate images from text, from images, and even by training custom model. However, Control Net introduces a new way to guide the generation of images, for example, we can control the Depth to Image, where both a text prompt and a depth image are used to condition the model. This allows you to get even more accurate results than the common image-to-image technique."
   ]
  },
  {
   "cell_type": "markdown",
   "id": "a37bbf36",
   "metadata": {},
   "source": [
    "# About the technique"
   ]
  },
  {
   "cell_type": "markdown",
   "id": "ae64611a",
   "metadata": {},
   "source": [
    "- PaperAdding Conditional Control to Text-to-Image Diffusion Modelspublished in February 2023\n",
    "- ControlNet was developed from the idea that only text is not enough to solve all problems in image generation.\n",
    "- First version: https://github.com/lllyasviel/ControlNet#below-is-controlnet-10\n",
    "- Diagram and additional explanation: https://github.com/lllyasviel/ControlNet#stable-diffusion–controlnet"
   ]
  },
  {
   "cell_type": "markdown",
   "id": "87eb81c9",
   "metadata": {},
   "source": [
    "Paper: https://arxiv.org/pdf/2302.05543.pdf"
   ]
  },
  {
   "cell_type": "markdown",
   "id": "2b017118",
   "metadata": {},
   "source": [
    "ControlNet is a method used to manage the behavior of a neural network. It does this by adjusting the input conditions of the building blocks of the neural network, which are called network blocks. For example, in a restnet pretrained CNN model, residual network is a network block."
   ]
  },
  {
   "cell_type": "markdown",
   "id": "19f49b32",
   "metadata": {},
   "source": [
    "# ControlNet 1.0"
   ]
  },
  {
   "cell_type": "markdown",
   "id": "36eeecd9",
   "metadata": {},
   "source": []
  },
  {
   "cell_type": "markdown",
   "id": "68dd7cc1",
   "metadata": {},
   "source": [
    "![Image](https://raw.githubusercontent.com/lllyasviel/ControlNet/main/github_page/he.png)"
   ]
  },
  {
   "cell_type": "markdown",
   "id": "ffd77050",
   "metadata": {},
   "source": [
    "The image illustrates how to apply a ControlNet to any neural network block."
   ]
  },
  {
   "cell_type": "markdown",
   "id": "b66dd4f2",
   "metadata": {},
   "source": [
    "- Thexandyrepresent deep features in neural networks. These are the complex representations that the network learns from the input data.\n",
    "- The+symbol refers to feature addition, which is a way of combining the information from different features.\n",
    "- Thecrepresents an extra condition that is added to the neural network. This could be any additional information that you want the network to consider when making its predictions."
   ]
  },
  {
   "cell_type": "markdown",
   "id": "c58eefb7",
   "metadata": {},
   "source": [
    "The x and y represent deep features in neural networks. These are the complex representations that the network learns from the input data."
   ]
  },
  {
   "cell_type": "markdown",
   "id": "7b78af5d",
   "metadata": {},
   "source": [
    "The + symbol refers to feature addition, which is a way of combining the information from different features."
   ]
  },
  {
   "cell_type": "markdown",
   "id": "3f34ec76",
   "metadata": {},
   "source": [
    "The c represents an extra condition that is added to the neural network. This could be any additional information that you want the network to consider when making its predictions."
   ]
  },
  {
   "cell_type": "markdown",
   "id": "687e49eb",
   "metadata": {},
   "source": [
    "In implementing ControlNet, there are various techniques that can be used to condition the model. However, for this discussion, the focus will be on two specific methods:"
   ]
  },
  {
   "cell_type": "markdown",
   "id": "7dd9e27a",
   "metadata": {},
   "source": [
    "This technique involves identifying the boundaries of objects within an image. The Canny Edge Detection method is a popular algorithm that’s used to detect a wide range of edges in images. It’s used to help the model understand the shapes present in the input."
   ]
  },
  {
   "cell_type": "markdown",
   "id": "55e4aec3",
   "metadata": {},
   "source": [
    "This technique is about understanding the pose of a person in an image or video. Open Pose is a library that allows for real-time multi-person keypoint detection. It can identify where people are and how they are posed in an image or video. This information can be used to condition the model to understand and learn from the poses present in the input."
   ]
  },
  {
   "cell_type": "markdown",
   "id": "c7608713",
   "metadata": {},
   "source": [
    "For more detailed information about implementing ControlNet and the various techniques used to condition the model, you can refer to the ControlNet GitHub repository. This resource provides comprehensive documentation, code examples, and further reading to help you understand and implement ControlNet effectively."
   ]
  },
  {
   "cell_type": "markdown",
   "id": "bc20e877",
   "metadata": {},
   "source": [
    "# Installing the libraries"
   ]
  },
  {
   "cell_type": "code",
   "execution_count": null,
   "id": "5a34ca7d",
   "metadata": {},
   "outputs": [],
   "source": [
    "!pip install diffusers==0.14\n",
    "!pip install -q accelerate transformers xformers"
   ]
  },
  {
   "cell_type": "markdown",
   "id": "461f344f",
   "metadata": {},
   "source": [
    "- opencv-contrib-pythonis a library for computer vision tasks, including edge detection using the Canny edge algorithm.\n",
    "- controlnet-auxis a library that contains auxiliary functions for the Control Net model."
   ]
  },
  {
   "cell_type": "code",
   "execution_count": null,
   "id": "b34760c4",
   "metadata": {},
   "outputs": [],
   "source": [
    "!pip install -q opencv-contrib-python\n",
    "!pip install -q controlnet_aux"
   ]
  },
  {
   "cell_type": "code",
   "execution_count": null,
   "id": "dd42488a",
   "metadata": {},
   "outputs": [],
   "source": [
    "from diffusers import StableDiffusionControlNetPipeline, ControlNetModel\n",
    "import torch\n",
    "import cv2\n",
    "from PIL import Image\n",
    "import numpy as np"
   ]
  },
  {
   "cell_type": "code",
   "execution_count": null,
   "id": "a61eba1b",
   "metadata": {},
   "outputs": [],
   "source": [
    "#function show image as grid\n",
    "def grid_img(imgs, rows=1, cols=3, scale=1):\n",
    "  assert len(imgs) == rows * cols\n",
    "\n",
    "  w, h = imgs[0].size\n",
    "  w, h = int(w*scale), int(h*scale)\n",
    "\n",
    "  grid = Image.new('RGB', size=(cols*w, rows*h))\n",
    "  grid_w, grid_h = grid.size\n",
    "\n",
    "  for i, img in enumerate(imgs):\n",
    "      img = img.resize((w,h), Image.ANTIALIAS)\n",
    "      grid.paste(img, box=(i%cols*w, i//cols*h))\n",
    "  return grid"
   ]
  },
  {
   "cell_type": "markdown",
   "id": "c4195646",
   "metadata": {},
   "source": [
    "# Generating Images Using Edges"
   ]
  },
  {
   "cell_type": "markdown",
   "id": "02ccf86f",
   "metadata": {},
   "source": [
    "# ControlNet Model + Canny Edge"
   ]
  },
  {
   "cell_type": "markdown",
   "id": "d108a50e",
   "metadata": {},
   "source": [
    "This is the algorithm used to extract the edges of images. It will be easier to understand during the implementations."
   ]
  },
  {
   "cell_type": "markdown",
   "id": "91afbfb9",
   "metadata": {},
   "source": [
    "- More information about the model: https://huggingface.co/lllyasviel/sd-controlnet-canny"
   ]
  },
  {
   "cell_type": "markdown",
   "id": "4cacaef6",
   "metadata": {},
   "source": [
    "We are creating the variable control_net_canny_model with the corresponding link to download it from the repository."
   ]
  },
  {
   "cell_type": "code",
   "execution_count": null,
   "id": "03d9cfad",
   "metadata": {},
   "outputs": [],
   "source": [
    "controlnet_canny_model = 'lllyasviel/sd-controlnet-canny'\n",
    "control_net_canny = ControlNetModel.from_pretrained(controlnet_canny_model, torch_dtype=torch.float16)"
   ]
  },
  {
   "cell_type": "code",
   "execution_count": null,
   "id": "0581ca6d",
   "metadata": {},
   "outputs": [],
   "source": [
    "pipe = StableDiffusionControlNetPipeline.from_pretrained('runwayml/stable-diffusion-v1-5',\n",
    "                                                         controlnet=control_net_canny,\n",
    "                                                         torch_dtype=torch.float16)"
   ]
  },
  {
   "cell_type": "code",
   "execution_count": null,
   "id": "a4b23001",
   "metadata": {},
   "outputs": [],
   "source": [
    "from diffusers import UniPCMultistepScheduler\n",
    "pipe.scheduler = UniPCMultistepScheduler.from_config(pipe.scheduler.config)"
   ]
  },
  {
   "cell_type": "code",
   "execution_count": null,
   "id": "1c7d9837",
   "metadata": {},
   "outputs": [],
   "source": [
    "pipe.enable_attention_slicing()\n",
    "pipe.enable_xformers_memory_efficient_attention()"
   ]
  },
  {
   "cell_type": "code",
   "execution_count": null,
   "id": "38133bad",
   "metadata": {},
   "outputs": [],
   "source": [
    "pipe.enable_model_cpu_offload()"
   ]
  },
  {
   "cell_type": "markdown",
   "id": "aad53dd2",
   "metadata": {},
   "source": [
    "# Loading the image"
   ]
  },
  {
   "cell_type": "markdown",
   "id": "1f9efaf8",
   "metadata": {},
   "source": [
    "Now we can load the image."
   ]
  },
  {
   "cell_type": "markdown",
   "id": "bc5de091",
   "metadata": {},
   "source": [
    "- Image source: https://unsplash.com/pt-br/fotografias/OjhSUsHUIYM"
   ]
  },
  {
   "cell_type": "code",
   "execution_count": null,
   "id": "e708fb60",
   "metadata": {},
   "outputs": [],
   "source": [
    "img = Image.open('/content/bird2.jpg')\n",
    "img"
   ]
  },
  {
   "cell_type": "markdown",
   "id": "a46e029a",
   "metadata": {},
   "source": []
  },
  {
   "cell_type": "markdown",
   "id": "1d9d6de3",
   "metadata": {},
   "source": [
    "# Detecting edges using Canny Edge"
   ]
  },
  {
   "cell_type": "markdown",
   "id": "d9ce7be1",
   "metadata": {},
   "source": [
    "In this technique, we are going to use the Canny edge algorithm to extract only the borders of the image. So instead of sending the whole image to the algorithm, we are going to send only the borders."
   ]
  },
  {
   "cell_type": "markdown",
   "id": "2d1dfacb",
   "metadata": {},
   "source": [
    "We are going to create a function that will receive as parameter this image and will return the edges. We don’t need to worry about it because OpenCV has a pre-built function, so we just need to call it to extract the edges."
   ]
  },
  {
   "cell_type": "markdown",
   "id": "fd3e7075",
   "metadata": {},
   "source": [
    "- More about the algorithm: http://justin-liang.com/tutorials/canny/\n",
    "- More about the implemetation in OpenCV: https://docs.opencv.org/3.4/da/d22/tutorial_py_canny.html"
   ]
  },
  {
   "cell_type": "code",
   "execution_count": null,
   "id": "3a91a6e4",
   "metadata": {},
   "outputs": [],
   "source": [
    "def canny_edge(img, low_threshold = 100, high_threshold = 200):\n",
    "  img = np.array(img)\n",
    "\n",
    "  img = cv2.Canny(img, low_threshold, high_threshold)\n",
    "\n",
    "  img = img[:, :, None]\n",
    "\n",
    "  img = np.concatenate([img, img, img], axis = 2)\n",
    "\n",
    "  canny_img = Image.fromarray(img)\n",
    "\n",
    "  return canny_img"
   ]
  },
  {
   "cell_type": "markdown",
   "id": "bde814ca",
   "metadata": {},
   "source": [
    "we can visualize the edges."
   ]
  },
  {
   "cell_type": "code",
   "execution_count": null,
   "id": "29bdad22",
   "metadata": {},
   "outputs": [],
   "source": [
    "canny_img = canny_edge(img)\n",
    "canny_img"
   ]
  },
  {
   "cell_type": "markdown",
   "id": "5e4bcec5",
   "metadata": {},
   "source": []
  },
  {
   "cell_type": "markdown",
   "id": "c382a0ba",
   "metadata": {},
   "source": [
    "we are able to visualize only the edges that have been extracted. Just a reminder that instead of sending the whole image to the algorithm, we are going to send only the edges. Then the algorithm will be able to generate new birds according to the edges."
   ]
  },
  {
   "cell_type": "markdown",
   "id": "1b07758a",
   "metadata": {},
   "source": [
    "We create a prompt, a seed for reproducibility, and a generator. Then we call the pipeline, sending the prompt and the edges of the image as parameters."
   ]
  },
  {
   "cell_type": "code",
   "execution_count": null,
   "id": "992a99ec",
   "metadata": {},
   "outputs": [],
   "source": [
    "prompt = \"realistic photo of a blue bird with purple details, high quality, natural light\"\n",
    "neg_prompt = \"\"\n",
    "\n",
    "seed = 777\n",
    "generator = torch.Generator(device=\"cuda\").manual_seed(seed)\n",
    "\n",
    "imgs = pipe(\n",
    "    prompt,\n",
    "    canny_img,\n",
    "    negative_prompt=neg_prompt,\n",
    "    generator=generator,\n",
    "    num_inference_steps=20,\n",
    ")"
   ]
  },
  {
   "cell_type": "code",
   "execution_count": null,
   "id": "c5334ec5",
   "metadata": {},
   "outputs": [],
   "source": [
    "imgs.images[0]"
   ]
  },
  {
   "cell_type": "markdown",
   "id": "4d580555",
   "metadata": {},
   "source": []
  },
  {
   "cell_type": "markdown",
   "id": "d4a24cd0",
   "metadata": {},
   "source": [
    "We can see a high-quality image that is related to the edges and is also in accordance with the prompt."
   ]
  },
  {
   "cell_type": "markdown",
   "id": "675595d3",
   "metadata": {},
   "source": [
    "We can perform tests using different prompts and negative prompts."
   ]
  },
  {
   "cell_type": "code",
   "execution_count": null,
   "id": "79732db0",
   "metadata": {},
   "outputs": [],
   "source": [
    "prompt = [\"realistic photo of a blue bird with purple details, high quality, natural light\",\n",
    "          \"realistic photo of a bird in new york during autumn, city in the background\",\n",
    "          \"oil painting of a black bird in the desert, realistic, vivid, fantasy, surrealist, best quality, extremely detailed\",\n",
    "          \"digital painting of a blue bird in space, stars and galaxy in the background, trending on artstation\"]\n",
    "\n",
    "neg_prompt = [\"blurred, lowres, bad anatomy, ugly, worst quality, low quality, monochrome, signature\"] * len(prompt)\n",
    "\n",
    "seed = 777\n",
    "generator = torch.Generator(device=\"cuda\").manual_seed(seed)\n",
    "\n",
    "imgs = pipe(\n",
    "    prompt,\n",
    "    canny_img,\n",
    "    negative_prompt=neg_prompt,\n",
    "    generator=generator,\n",
    "    num_inference_steps=20,\n",
    ")"
   ]
  },
  {
   "cell_type": "code",
   "execution_count": null,
   "id": "2c560983",
   "metadata": {},
   "outputs": [],
   "source": [
    "grid_img(imgs.images, 1, len(prompt), scale=0.75)"
   ]
  },
  {
   "cell_type": "code",
   "execution_count": null,
   "id": "1a4648b3",
   "metadata": {},
   "outputs": [],
   "source": [
    "DeprecationWarning: ANTIALIAS is deprecated and will be removed in Pillow 10 (2023-07-01). Use LANCZOS or Resampling.LANCZOS instead.\n",
    "  img = img.resize((w,h), Image.ANTIALIAS)"
   ]
  },
  {
   "cell_type": "markdown",
   "id": "5ade9706",
   "metadata": {},
   "source": []
  },
  {
   "cell_type": "markdown",
   "id": "65d04461",
   "metadata": {},
   "source": [
    "Let’s try with another image"
   ]
  },
  {
   "cell_type": "code",
   "execution_count": null,
   "id": "c0239414",
   "metadata": {},
   "outputs": [],
   "source": [
    "img = Image.open(\"/content/wolf.jpg\")"
   ]
  },
  {
   "cell_type": "code",
   "execution_count": null,
   "id": "711df3bb",
   "metadata": {},
   "outputs": [],
   "source": [
    "canny_img = canny_edge(img, 200, 255)\n",
    "\n",
    "grid_img([img, canny_img], 1, 2)"
   ]
  },
  {
   "cell_type": "code",
   "execution_count": null,
   "id": "ca93525c",
   "metadata": {},
   "outputs": [],
   "source": [
    "DeprecationWarning: ANTIALIAS is deprecated and will be removed in Pillow 10 (2023-07-01). Use LANCZOS or Resampling.LANCZOS instead.\n",
    "  img = img.resize((w,h), Image.ANTIALIAS)"
   ]
  },
  {
   "cell_type": "markdown",
   "id": "14c4c030",
   "metadata": {},
   "source": []
  },
  {
   "cell_type": "code",
   "execution_count": null,
   "id": "a01d01f9",
   "metadata": {},
   "outputs": [],
   "source": [
    "prompt = [\"realistic photo of a wolf, high quality, natural light, full moon\",\n",
    "          \"realistic photo of a wolf in the snow, best quality, extremely detailed\",\n",
    "          \"oil painting of wolf the desert, canyons in the background, realistic, vivid, fantasy, surrealist, best quality, extremely detailed\",\n",
    "          \"watercolor painting of a wolf in space, blue and purple tones, stars and earth in the background\"]\n",
    "\n",
    "neg_prompt = [\"blurred, lowres, bad anatomy, ugly, worst quality, low quality, monochrome, signature\"] * len(prompt)\n",
    "\n",
    "seed = 777\n",
    "generator = torch.Generator(device=\"cuda\").manual_seed(seed)\n",
    "\n",
    "imgs = pipe(\n",
    "    prompt,\n",
    "    canny_img,\n",
    "    negative_prompt=neg_prompt,\n",
    "    generator=generator,\n",
    "    num_inference_steps=20,\n",
    ")"
   ]
  },
  {
   "cell_type": "code",
   "execution_count": null,
   "id": "11e91d1e",
   "metadata": {},
   "outputs": [],
   "source": [
    "grid_img(imgs.images, 1, len(prompt), scale=0.75)"
   ]
  },
  {
   "cell_type": "code",
   "execution_count": null,
   "id": "d2fe121c",
   "metadata": {},
   "outputs": [],
   "source": [
    "DeprecationWarning: ANTIALIAS is deprecated and will be removed in Pillow 10 (2023-07-01). Use LANCZOS or Resampling.LANCZOS instead.\n",
    "  img = img.resize((w,h), Image.ANTIALIAS)"
   ]
  },
  {
   "cell_type": "markdown",
   "id": "431bc5d1",
   "metadata": {},
   "source": []
  },
  {
   "cell_type": "markdown",
   "id": "ae8abe09",
   "metadata": {},
   "source": [
    "# Generating Images Using Poses"
   ]
  },
  {
   "cell_type": "markdown",
   "id": "af0596c4",
   "metadata": {},
   "source": [
    "We will learn how to generate images using poses."
   ]
  },
  {
   "cell_type": "markdown",
   "id": "8e40265c",
   "metadata": {},
   "source": [
    "If the desired images cannot be found, there are several online 3D software options available for creating posed images:"
   ]
  },
  {
   "cell_type": "markdown",
   "id": "58d53df4",
   "metadata": {},
   "source": [
    "- 3D software to create posed images:Magicposer: https://magicposer.com/\n",
    "- Magicposer: https://magicposer.com/\n",
    "- Posemyart: https://posemy.art/"
   ]
  },
  {
   "cell_type": "markdown",
   "id": "e5f1c493",
   "metadata": {},
   "source": [
    "- Magicposer: https://magicposer.com/"
   ]
  },
  {
   "cell_type": "markdown",
   "id": "6567f513",
   "metadata": {},
   "source": [
    "# Loading the model to extract poses"
   ]
  },
  {
   "cell_type": "markdown",
   "id": "3cfe471b",
   "metadata": {},
   "source": [
    "The first step is to download the model from controlnet_aux, a library we will import."
   ]
  },
  {
   "cell_type": "markdown",
   "id": "31f8957f",
   "metadata": {},
   "source": [
    "We will also import the OpenposeDetector. We will send an image to this detector and it will return the pose of that image."
   ]
  },
  {
   "cell_type": "code",
   "execution_count": null,
   "id": "fb71d8d0",
   "metadata": {},
   "outputs": [],
   "source": [
    "from controlnet_aux import OpenposeDetector\n",
    "pose_model = OpenposeDetector.from_pretrained('lllyasviel/ControlNet')"
   ]
  },
  {
   "cell_type": "markdown",
   "id": "fe84e871",
   "metadata": {},
   "source": [
    "# Extract The Pose"
   ]
  },
  {
   "cell_type": "markdown",
   "id": "22a170fd",
   "metadata": {},
   "source": [
    "First, the image is loaded. Then, the pose is extracted using the pose_model function."
   ]
  },
  {
   "cell_type": "markdown",
   "id": "3b20c09f",
   "metadata": {},
   "source": [
    "We will see the pose that has been extracted from the image."
   ]
  },
  {
   "cell_type": "markdown",
   "id": "0c565f22",
   "metadata": {},
   "source": [
    "The extracted keypoints represent specific points related to various body parts such as the head, shoulders, arms, hands, legs, feet, and so on."
   ]
  },
  {
   "cell_type": "code",
   "execution_count": null,
   "id": "b567a588",
   "metadata": {},
   "outputs": [],
   "source": [
    "img_pose = Image.open('/content/pose01.jpg')"
   ]
  },
  {
   "cell_type": "code",
   "execution_count": null,
   "id": "4d8f8c67",
   "metadata": {},
   "outputs": [],
   "source": [
    "pose = pose_model(img_pose)\n",
    "grid_img([img_pose, pose], rows=1, cols=2, scale=0.75)"
   ]
  },
  {
   "cell_type": "code",
   "execution_count": null,
   "id": "c70098e0",
   "metadata": {},
   "outputs": [],
   "source": [
    "DeprecationWarning: ANTIALIAS is deprecated and will be removed in Pillow 10 (2023-07-01). Use LANCZOS or Resampling.LANCZOS instead.\n",
    "  img = img.resize((w,h), Image.ANTIALIAS)"
   ]
  },
  {
   "cell_type": "markdown",
   "id": "a827004c",
   "metadata": {},
   "source": []
  },
  {
   "cell_type": "markdown",
   "id": "269bed1d",
   "metadata": {},
   "source": [
    "# Loading the ControlNet model"
   ]
  },
  {
   "cell_type": "markdown",
   "id": "b0f3851a",
   "metadata": {},
   "source": [
    "The next step is to load the ControlNet model."
   ]
  },
  {
   "cell_type": "code",
   "execution_count": null,
   "id": "3733e19d",
   "metadata": {},
   "outputs": [],
   "source": [
    "controlnet_pose_model = ControlNetModel.from_pretrained('thibaud/controlnet-sd21-openpose-diffusers', torch_dtype=torch.float16)\n",
    "sd_controlpose = StableDiffusionControlNetPipeline.from_pretrained('stabilityai/stable-diffusion-2-1-base',\n",
    "                                                                   controlnet=controlnet_pose_model,\n",
    "                                                                   torch_dtype=torch.float16)"
   ]
  },
  {
   "cell_type": "code",
   "execution_count": null,
   "id": "db3bb49b",
   "metadata": {},
   "outputs": [],
   "source": [
    "sd_controlpose.enable_model_cpu_offload()\n",
    "sd_controlpose.enable_attention_slicing()\n",
    "sd_controlpose.enable_xformers_memory_efficient_attention()"
   ]
  },
  {
   "cell_type": "code",
   "execution_count": null,
   "id": "936e7126",
   "metadata": {},
   "outputs": [],
   "source": [
    "from diffusers import DEISMultistepScheduler\n",
    "\n",
    "sd_controlpose.scheduler = DEISMultistepScheduler.from_config(sd_controlpose.scheduler.config)"
   ]
  },
  {
   "cell_type": "code",
   "execution_count": null,
   "id": "b3c13b67",
   "metadata": {},
   "outputs": [],
   "source": [
    "seed = 555\n",
    "generator = torch.Generator(device=\"cuda\").manual_seed(seed)\n",
    "prompt = \"professional photo of a young woman in the street, casual fashion, sharp focus, insanely detailed, photorealistic, sunset, side light\"\n",
    "neg_prompt = \"ugly, tiling, closed eyes, poorly drawn hands, poorly drawn feet, poorly drawn face, out of frame, extra limbs, disfigured, deformed, body out of frame, bad anatomy, watermark, signature, cut off, low contrast, underexposed, overexposed, bad art, beginner, amateur, distorted face\"\n",
    "\n",
    "imgs = sd_controlpose(\n",
    "    prompt,\n",
    "    pose,\n",
    "    negative_prompt=neg_prompt,\n",
    "    num_images_per_prompt=4,\n",
    "    generator=generator,\n",
    "    num_inference_steps=20,\n",
    ")\n",
    "grid_img(imgs.images, 1, 4, 0.75)"
   ]
  },
  {
   "cell_type": "code",
   "execution_count": null,
   "id": "65c302b8",
   "metadata": {},
   "outputs": [],
   "source": [
    "DeprecationWarning: ANTIALIAS is deprecated and will be removed in Pillow 10 (2023-07-01). Use LANCZOS or Resampling.LANCZOS instead.\n",
    "  img = img.resize((w,h), Image.ANTIALIAS)"
   ]
  },
  {
   "cell_type": "markdown",
   "id": "259f3edd",
   "metadata": {},
   "source": []
  },
  {
   "cell_type": "markdown",
   "id": "cdd4b8d0",
   "metadata": {},
   "source": [
    "# Trying Different Images and Prompts"
   ]
  },
  {
   "cell_type": "markdown",
   "id": "3ccb6bc0",
   "metadata": {},
   "source": [
    "Let’s switch things up and use a different pose image."
   ]
  },
  {
   "cell_type": "code",
   "execution_count": null,
   "id": "74947cec",
   "metadata": {},
   "outputs": [],
   "source": [
    "img_pose = Image.open(\"man-pose.jpg\")\n",
    "\n",
    "pose = pose_model(img_pose)\n",
    "\n",
    "grid_img([img_pose, pose], 1, 2, scale=0.5)"
   ]
  },
  {
   "cell_type": "code",
   "execution_count": null,
   "id": "8a7efbf1",
   "metadata": {},
   "outputs": [],
   "source": [
    "DeprecationWarning: ANTIALIAS is deprecated and will be removed in Pillow 10 (2023-07-01). Use LANCZOS or Resampling.LANCZOS instead.\n",
    "  img = img.resize((w,h), Image.ANTIALIAS)"
   ]
  },
  {
   "cell_type": "markdown",
   "id": "52bd8c38",
   "metadata": {},
   "source": []
  },
  {
   "cell_type": "code",
   "execution_count": null,
   "id": "75ef4be0",
   "metadata": {},
   "outputs": [],
   "source": [
    "seed = 999\n",
    "generator = torch.Generator(device=\"cuda\").manual_seed(seed)\n",
    "prompt = \"professional photo of a young asian man in the office, formal fashion, smile, waring hat, sharp focus, insanely detailed, photorealistic, side light\"\n",
    "neg_prompt = \"ugly, tiling, closed eyes, poorly drawn hands, poorly drawn feet, poorly drawn face, out of frame, extra limbs, disfigured, deformed, body out of frame, bad anatomy, watermark, signature, cut off, low contrast, underexposed, overexposed, bad art, beginner, amateur, distorted face\"\n",
    "\n",
    "imgs = sd_controlpose(\n",
    "    prompt,\n",
    "    pose,\n",
    "    negative_prompt=neg_prompt,\n",
    "    num_images_per_prompt=4,\n",
    "    generator=generator,\n",
    "    num_inference_steps=20,\n",
    ")\n",
    "grid_img(imgs.images, 1, 4, 0.75)"
   ]
  },
  {
   "cell_type": "code",
   "execution_count": null,
   "id": "49a3cdb1",
   "metadata": {},
   "outputs": [],
   "source": [
    "DeprecationWarning: ANTIALIAS is deprecated and will be removed in Pillow 10 (2023-07-01). Use LANCZOS or Resampling.LANCZOS instead.\n",
    "  img = img.resize((w,h), Image.ANTIALIAS)"
   ]
  },
  {
   "cell_type": "markdown",
   "id": "51641be2",
   "metadata": {},
   "source": []
  },
  {
   "cell_type": "code",
   "execution_count": null,
   "id": "ea2b7c02",
   "metadata": {},
   "outputs": [],
   "source": [
    "seed = 123\n",
    "prompt = [\"oil painting walter white wearing a suit and black hat and sunglasses, face portrait, in the desert, realistic, vivid\",\n",
    "          \"oil painting walter white wearing a jedi brown coat, face portrait, wearing a hood, holding a cup of coffee, in another planet, realistic, vivid\",\n",
    "          \"professional photo of walter white wearing a space suit, face portrait, in mars, realistic, vivid\",\n",
    "          \"professional photo of walter white in the kitchen, face portrait, realistic, vivid\"]\n",
    "\n",
    "neg_prompt = [\"helmet, ugly, tiling, closed eyes, poorly drawn hands, poorly drawn feet, poorly drawn face, out of frame, extra limbs, disfigured, deformed, body out of frame, bad anatomy, watermark, signature, cut off, low contrast, underexposed, overexposed, bad art, beginner, amateur, distorted face\"] * len(prompt)\n",
    "num_imgs = 1\n",
    "\n",
    "generator = torch.Generator(device=\"cuda\").manual_seed(seed)\n",
    "imgs = sd_controlpose(\n",
    "    prompt,\n",
    "    pose,\n",
    "    negative_prompt=neg_prompt,\n",
    "    generator=generator,\n",
    "    num_inference_steps=20,\n",
    ")\n",
    "grid_img(imgs.images, 1, len(prompt), 0.75)"
   ]
  },
  {
   "cell_type": "code",
   "execution_count": null,
   "id": "0e5dfc3f",
   "metadata": {},
   "outputs": [],
   "source": [
    "DeprecationWarning: ANTIALIAS is deprecated and will be removed in Pillow 10 (2023-07-01). Use LANCZOS or Resampling.LANCZOS instead.\n",
    "  img = img.resize((w,h), Image.ANTIALIAS)"
   ]
  },
  {
   "cell_type": "markdown",
   "id": "c81fb055",
   "metadata": {},
   "source": []
  },
  {
   "cell_type": "markdown",
   "id": "3ae8a414",
   "metadata": {},
   "source": [
    "# Improve The Result"
   ]
  },
  {
   "cell_type": "markdown",
   "id": "68e1cad6",
   "metadata": {},
   "source": [
    "For enhanced results:"
   ]
  },
  {
   "cell_type": "markdown",
   "id": "73757def",
   "metadata": {},
   "source": [
    "- Experiment with various schedulers. Euler A is also suggested for use with ControlNet.\n",
    "- Modify the parameters (CFG, steps, etc.).\n",
    "- Employ effective negative prompts.\n",
    "- Tailor the prompt to closely match the initial pose.\n",
    "- Providing more context about the action is advisable. For instance, “walking in the street” typically yields better outcomes than simply “in the street”.\n",
    "- Inpainting can be utilized to correct faces that haven’t been generated accurately."
   ]
  },
  {
   "cell_type": "markdown",
   "id": "9ac2ab32",
   "metadata": {},
   "source": [
    "# Exercise ControlNet"
   ]
  },
  {
   "cell_type": "code",
   "execution_count": null,
   "id": "48c48658",
   "metadata": {},
   "outputs": [],
   "source": [
    "# @title #### Student Identity\n",
    "student_id = \"your student id\" # @param {type:\"string\"}\n",
    "name = \"your name\" # @param {type:\"string\"}"
   ]
  },
  {
   "cell_type": "code",
   "execution_count": null,
   "id": "99c9a922",
   "metadata": {},
   "outputs": [],
   "source": [
    "# Intalling Libs\n",
    "%pip install diffusers==0.14\n",
    "%pip install -q accelerate transformers xformers\n",
    "%pip install -q controlnet_aux\n",
    "%pip install rggrader"
   ]
  },
  {
   "cell_type": "code",
   "execution_count": null,
   "id": "c7060621",
   "metadata": {},
   "outputs": [],
   "source": [
    "# @title #### 00. Generating Images Using Poses\n",
    "from rggrader import submit_image\n",
    "from diffusers import StableDiffusionControlNetPipeline, ControlNetModel\n",
    "import torch\n",
    "import cv2\n",
    "from PIL import Image\n",
    "from controlnet_aux import OpenposeDetector\n",
    "from diffusers import DEISMultistepScheduler\n",
    "\n",
    "# TODO:\n",
    "# 1. Use the 'lllyasviel/ControlNet' model to extract the pose from the reference image. This model will allow us to understand the pose that is present in the image.\n",
    "# 2. Use the ControlNet models 'thibaud/controlnet-sd21-openpose-diffusers' and 'stabilityai/stable-diffusion-2-1-base' to generate the desired image. These models will take the pose extracted from the previous step and use it to generate a new image.\n",
    "# 3. The image generation will be based on the prompt that you input. Make sure your prompt is clear and describes the image you want to generate accurately.\n",
    "# 4. Once the image is generated, save it in the 'results' folder. This will ensure that you can easily locate and review the image later.\n",
    "# 5. Finally, select one of the generated images to upload. This image will be the final output of your exercise.\n",
    "\n",
    "# NOTE: Remember, the quality of the generated image will greatly depend on the accuracy of the pose extracted from the reference image and the clarity of your prompt.\n",
    "\n",
    "# Loading model and create output dir\n",
    "pose_model = OpenposeDetector.from_pretrained('lllyasviel/ControlNet')\n",
    "\n",
    "# Put your code here:\n",
    "imgs = None\n",
    "\n",
    "# ---- End of your code ----"
   ]
  },
  {
   "cell_type": "code",
   "execution_count": null,
   "id": "41d691d9",
   "metadata": {},
   "outputs": [],
   "source": [
    "# Saving the results\n",
    "!mkdir results\n",
    "for i, img in enumerate(imgs.images):\n",
    "  img.save('results/result_{}.png'.format(i+1))"
   ]
  },
  {
   "cell_type": "code",
   "execution_count": null,
   "id": "b9ea4336",
   "metadata": {},
   "outputs": [],
   "source": [
    "# Submit Method\n",
    "assignment_id = \"00_controlnet\"\n",
    "question_id = \"00_generating_images_using_poses\"\n",
    "submit_image(student_id, question_id, 'your_image.png') # change 'your_image.png' to the name of the image you want to upload (eg. results/result_3.png)"
   ]
  }
 ],
 "metadata": {},
 "nbformat": 4,
 "nbformat_minor": 5
}
