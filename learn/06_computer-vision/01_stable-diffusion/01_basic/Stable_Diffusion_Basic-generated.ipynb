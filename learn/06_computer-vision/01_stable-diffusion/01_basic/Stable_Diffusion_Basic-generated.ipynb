{
 "cells": [
  {
   "cell_type": "markdown",
   "id": "9627602f",
   "metadata": {},
   "source": [
    "source: [https://ai-bootcamp.ruangguru.com/learn/06_computer-vision/01_stable-diffusion/01_basic/Stable_Diffusion_Basic.html](https://ai-bootcamp.ruangguru.com/learn/06_computer-vision/01_stable-diffusion/01_basic/Stable_Diffusion_Basic.html)"
   ]
  },
  {
   "cell_type": "markdown",
   "id": "ed777111",
   "metadata": {},
   "source": [
    "# Stable Diffusion - Basic"
   ]
  },
  {
   "cell_type": "markdown",
   "id": "fda99bdb",
   "metadata": {},
   "source": [
    "[ ! Attention ] It’s crucial to verify the license of the models, particularly if there’s an intention to use the obtained results for commercial purposes."
   ]
  },
  {
   "cell_type": "markdown",
   "id": "7e740f3e",
   "metadata": {},
   "source": [
    "It’s essential to utilize these models responsibly and ethically. They should not be employed to create or disseminate illegal or harmful content. This includes, but is not limited to, content that is violent, hateful, sexually explicit, or infringes on someone’s privacy or rights."
   ]
  },
  {
   "cell_type": "markdown",
   "id": "6f184930",
   "metadata": {},
   "source": [
    "As a user, the rights to the outputs generated using the model are retained. However, accountability for how these outputs are used also lies with the user. They should not be used in a manner that breaches the terms of the license or any applicable laws or regulations."
   ]
  },
  {
   "cell_type": "markdown",
   "id": "83ffd3cb",
   "metadata": {},
   "source": [
    "The model can be used commercially or as a service, and the weights can be redistributed. However, if this is done, the same use restrictions as those in the original license must be included. A copy of the CreativeML OpenRAIL-M license must also be provided to all users."
   ]
  },
  {
   "cell_type": "markdown",
   "id": "bfbc2ffa",
   "metadata": {},
   "source": [
    "(Licence of v1.4 e v1.5 https://huggingface.co/spaces/CompVis/stable-diffusion-license)"
   ]
  },
  {
   "cell_type": "markdown",
   "id": "1de27dc9",
   "metadata": {},
   "source": [
    "With that out of the way, let’s try out various things we can do with Stable Diffusion. Let’s get started!"
   ]
  },
  {
   "cell_type": "markdown",
   "id": "50822cd0",
   "metadata": {},
   "source": [
    "> Note: - Some images when re-run will not be the same, even with the same seed. - Stable Diffusion is resource intensive in terms of need for GPU and large hard disk space, we may need to “disconnect and delete the runtime” and continue halfway through this notebook."
   ]
  },
  {
   "cell_type": "markdown",
   "id": "7c141229",
   "metadata": {},
   "source": [
    "Note: - Some images when re-run will not be the same, even with the same seed. - Stable Diffusion is resource intensive in terms of need for GPU and large hard disk space, we may need to “disconnect and delete the runtime” and continue halfway through this notebook."
   ]
  },
  {
   "cell_type": "code",
   "execution_count": null,
   "id": "b7d024e0",
   "metadata": {},
   "outputs": [],
   "source": [
    "!nvidia-smi"
   ]
  },
  {
   "cell_type": "markdown",
   "id": "1f302147",
   "metadata": {},
   "source": [
    "# Installing the libraries"
   ]
  },
  {
   "cell_type": "markdown",
   "id": "bc529b50",
   "metadata": {},
   "source": [
    "- Install the necessary libraries for stable diffusion\n",
    "- xformersfor memory optimization"
   ]
  },
  {
   "cell_type": "code",
   "execution_count": null,
   "id": "c8945c97",
   "metadata": {},
   "outputs": [],
   "source": [
    "!pip install diffusers==0.11.1\n",
    "!pip install -q accelerate transformers ftfy bitsandbytes==0.35.0 gradio natsort safetensors xformers"
   ]
  },
  {
   "cell_type": "markdown",
   "id": "0df401a7",
   "metadata": {},
   "source": [
    "# Pipeline for image generation"
   ]
  },
  {
   "cell_type": "markdown",
   "id": "a92cdca8",
   "metadata": {},
   "source": [
    "- We can define with little effort a pipeline to use the Stable Diffusion model, through theStableDiffusionPipeline"
   ]
  },
  {
   "cell_type": "code",
   "execution_count": null,
   "id": "5cb0aed6",
   "metadata": {},
   "outputs": [],
   "source": [
    "import torch #PyTorch\n",
    "from diffusers import StableDiffusionPipeline"
   ]
  },
  {
   "cell_type": "code",
   "execution_count": null,
   "id": "5051d7fd",
   "metadata": {},
   "outputs": [],
   "source": [
    "pipe = StableDiffusionPipeline.from_pretrained(\"CompVis/stable-diffusion-v1-4\", torch_dtype=torch.float16)"
   ]
  },
  {
   "cell_type": "code",
   "execution_count": null,
   "id": "869e2bde",
   "metadata": {},
   "outputs": [],
   "source": [
    "pipe = pipe.to('cuda') #We'll always use GPU, make sure your change your runtime to use GPU is you're on Collab"
   ]
  },
  {
   "cell_type": "code",
   "execution_count": null,
   "id": "7aff0d65",
   "metadata": {},
   "outputs": [],
   "source": [
    "pipe.enable_attention_slicing()\n",
    "pipe.enable_xformers_memory_efficient_attention()"
   ]
  },
  {
   "cell_type": "markdown",
   "id": "e9b4d9d5",
   "metadata": {},
   "source": [
    "Sometime during image generation, the image may come out all black, to avoid this we can disable safety checker."
   ]
  },
  {
   "cell_type": "code",
   "execution_count": null,
   "id": "7f250814",
   "metadata": {},
   "outputs": [],
   "source": [
    "#avoid all black images, disabling it is easy, you can do this:\n",
    "pipe.safety_checker = lambda images, clip_input: (images, False)"
   ]
  },
  {
   "cell_type": "markdown",
   "id": "471b26d0",
   "metadata": {},
   "source": [
    "# Creating the prompt"
   ]
  },
  {
   "cell_type": "code",
   "execution_count": null,
   "id": "c5d846d7",
   "metadata": {},
   "outputs": [],
   "source": [
    "prompt = 'orange cat'"
   ]
  },
  {
   "cell_type": "markdown",
   "id": "de2435a9",
   "metadata": {},
   "source": [
    "# Generating the image"
   ]
  },
  {
   "cell_type": "code",
   "execution_count": null,
   "id": "50ded5e8",
   "metadata": {},
   "outputs": [],
   "source": [
    "img = pipe(prompt).images[0]"
   ]
  },
  {
   "cell_type": "markdown",
   "id": "4f4251bf",
   "metadata": {},
   "source": [
    "# Display the image"
   ]
  },
  {
   "cell_type": "code",
   "execution_count": null,
   "id": "bc699aa7",
   "metadata": {},
   "outputs": [],
   "source": [
    "img"
   ]
  },
  {
   "cell_type": "markdown",
   "id": "18c60cd1",
   "metadata": {},
   "source": []
  },
  {
   "cell_type": "markdown",
   "id": "e7ea1360",
   "metadata": {},
   "source": [
    "# Saving the result"
   ]
  },
  {
   "cell_type": "code",
   "execution_count": null,
   "id": "e9a640e4",
   "metadata": {},
   "outputs": [],
   "source": [
    "img.save('result.png')"
   ]
  },
  {
   "cell_type": "markdown",
   "id": "5d9ffce7",
   "metadata": {},
   "source": [
    "# Let’s continue our experimentation."
   ]
  },
  {
   "cell_type": "code",
   "execution_count": null,
   "id": "86c7d310",
   "metadata": {},
   "outputs": [],
   "source": [
    "prompt = 'photograph of orange cat, realistic, full hd'\n",
    "img = pipe(prompt).images[0]\n",
    "img"
   ]
  },
  {
   "cell_type": "markdown",
   "id": "fbb848b9",
   "metadata": {},
   "source": []
  },
  {
   "cell_type": "code",
   "execution_count": null,
   "id": "c76d482b",
   "metadata": {},
   "outputs": [],
   "source": [
    "prompt = 'a photograph of orange cat'\n",
    "img = pipe(prompt).images[0]\n",
    "img"
   ]
  },
  {
   "cell_type": "markdown",
   "id": "c9fd4145",
   "metadata": {},
   "source": []
  },
  {
   "cell_type": "markdown",
   "id": "e3c2eab3",
   "metadata": {},
   "source": [
    "# Generating multiple images"
   ]
  },
  {
   "cell_type": "code",
   "execution_count": null,
   "id": "f7039dba",
   "metadata": {},
   "outputs": [],
   "source": [
    "from PIL import Image\n",
    "\n",
    "def grid_img(imgs, rows=1, cols=3, scale=1):\n",
    "  assert len(imgs) == rows * cols\n",
    "\n",
    "  w, h = imgs[0].size\n",
    "  w, h = int(w * scale), int(h * scale)\n",
    "\n",
    "  grid = Image.new('RGB', size = (cols * w, rows * h))\n",
    "  grid_w, grid_h = grid.size\n",
    "\n",
    "  for i, img in enumerate(imgs):\n",
    "    img = img.resize((w, h), Image.ANTIALIAS)\n",
    "    grid.paste(img, box=(i % cols * w, i // cols * h))\n",
    "  return grid"
   ]
  },
  {
   "cell_type": "code",
   "execution_count": null,
   "id": "a7c53e3c",
   "metadata": {},
   "outputs": [],
   "source": [
    "num_imgs = 3\n",
    "prompt = 'photograph of orange cat'\n",
    "imgs = pipe(prompt, num_images_per_prompt=num_imgs).images\n",
    "grid = grid_img(imgs, rows=1, cols=3, scale=0.75)\n",
    "grid"
   ]
  },
  {
   "cell_type": "markdown",
   "id": "26fb33ff",
   "metadata": {},
   "source": []
  },
  {
   "cell_type": "markdown",
   "id": "b6a4f578",
   "metadata": {},
   "source": [
    "# Parameters"
   ]
  },
  {
   "cell_type": "markdown",
   "id": "0d29a58b",
   "metadata": {},
   "source": [
    "There are some parameters we can set"
   ]
  },
  {
   "cell_type": "markdown",
   "id": "401ce18c",
   "metadata": {},
   "source": [
    "# Seed"
   ]
  },
  {
   "cell_type": "markdown",
   "id": "65dd3bc8",
   "metadata": {},
   "source": [
    "We can set seed if we want to generate similar images."
   ]
  },
  {
   "cell_type": "code",
   "execution_count": null,
   "id": "bbba87e9",
   "metadata": {},
   "outputs": [],
   "source": [
    "seed = 2000\n",
    "generator = torch.Generator('cuda').manual_seed(seed)\n",
    "img = pipe(prompt, generator=generator).images[0]\n",
    "img"
   ]
  },
  {
   "cell_type": "markdown",
   "id": "413e2487",
   "metadata": {},
   "source": []
  },
  {
   "cell_type": "code",
   "execution_count": null,
   "id": "7f7a98fd",
   "metadata": {},
   "outputs": [],
   "source": [
    "prompt = \"photograph of orange cat\"\n",
    "seed = 2000\n",
    "generator = torch.Generator(\"cuda\").manual_seed(seed)\n",
    "imgs = pipe(prompt, num_images_per_prompt=num_imgs, generator=generator).images\n",
    "grid = grid_img(imgs, rows=1, cols=3, scale=0.75)\n",
    "grid"
   ]
  },
  {
   "cell_type": "markdown",
   "id": "2e42641a",
   "metadata": {},
   "source": []
  },
  {
   "cell_type": "code",
   "execution_count": null,
   "id": "3e8892e1",
   "metadata": {},
   "outputs": [],
   "source": [
    "prompt = \"van gogh painting of an orange cat\"\n",
    "generator = torch.Generator(\"cuda\").manual_seed(seed)\n",
    "imgs = pipe(prompt, num_images_per_prompt=num_imgs, generator=generator).images\n",
    "grid = grid_img(imgs, rows=1, cols=3, scale=0.75)\n",
    "grid"
   ]
  },
  {
   "cell_type": "markdown",
   "id": "859d0359",
   "metadata": {},
   "source": []
  },
  {
   "cell_type": "markdown",
   "id": "36e6149c",
   "metadata": {},
   "source": [
    "# Inference steps"
   ]
  },
  {
   "cell_type": "markdown",
   "id": "004c247f",
   "metadata": {},
   "source": [
    "Inference steps refer to the number of denoising steps to reach the final image. The default number of inference steps of 50. If you want faster results you can use a smaller number. If you want potentially higher quality results, you can use larger numbers."
   ]
  },
  {
   "cell_type": "markdown",
   "id": "d7723f50",
   "metadata": {},
   "source": [
    "Let’s try out running the pipeline with less denoising steps."
   ]
  },
  {
   "cell_type": "code",
   "execution_count": null,
   "id": "64a62a8d",
   "metadata": {},
   "outputs": [],
   "source": [
    "prompt = \"photograph of orange cat, realistic, full hd\"\n",
    "generator = torch.Generator(\"cuda\").manual_seed(seed)\n",
    "img = pipe(prompt, num_inference_steps=3, generator=generator).images[0]\n",
    "img"
   ]
  },
  {
   "cell_type": "markdown",
   "id": "62bba81c",
   "metadata": {},
   "source": []
  },
  {
   "cell_type": "code",
   "execution_count": null,
   "id": "e0bc038c",
   "metadata": {},
   "outputs": [],
   "source": [
    "import matplotlib.pyplot as plt\n",
    "\n",
    "plt.figure(figsize=(18,8))\n",
    "for i in range(1, 6):\n",
    "  n_steps = i * 1\n",
    "  #print(n_steps)\n",
    "  generator = torch.Generator('cuda').manual_seed(seed)\n",
    "  img = pipe(prompt, num_inference_steps=n_steps, generator=generator).images[0]\n",
    "\n",
    "  plt.subplot(1, 5, i)\n",
    "  plt.title('num_inference_steps: {}'.format(n_steps))\n",
    "  plt.imshow(img)\n",
    "  plt.axis('off')\n",
    "plt.show()"
   ]
  },
  {
   "cell_type": "markdown",
   "id": "6ee3e960",
   "metadata": {},
   "source": []
  },
  {
   "cell_type": "markdown",
   "id": "78052168",
   "metadata": {},
   "source": [
    "# Guidance Scale (CFG / Strength)"
   ]
  },
  {
   "cell_type": "markdown",
   "id": "646c4a89",
   "metadata": {},
   "source": [
    "CFG stands for Classifier-Free Guidance, so CFG scale can be referred to as Classifier-Free Guidance scale."
   ]
  },
  {
   "cell_type": "markdown",
   "id": "87a037ba",
   "metadata": {},
   "source": [
    "So, before 2022, there was a method called classifier guidance. It’s a method that can balance between mode coverage and sample quality in diffusion models after training, similar to low-temperature sampling or truncation in other generative models. Essentially, classifier guidance is a mix between the score estimate from the diffusion model and the gradient from the image classifier. However, if we want to use it, we have to train an image classifier that’s different from the diffusion model."
   ]
  },
  {
   "cell_type": "markdown",
   "id": "aca80de0",
   "metadata": {},
   "source": [
    "Then, a question arises, can we have guidance without a classifier?"
   ]
  },
  {
   "cell_type": "markdown",
   "id": "ce98f420",
   "metadata": {},
   "source": [
    "In 2022, Jonathan Ho and Tim Salimans from Google Brain demonstrated that we can use a pure generative model without a classifier. The title of their paper is “Classifier-Free Guidance”. They train both conditional and unconditional diffusion models together, then they combine the score estimates from both to achieve a trade-off between sample quality and diversity, similar to using classifier guidance."
   ]
  },
  {
   "cell_type": "markdown",
   "id": "447549a6",
   "metadata": {},
   "source": [
    "It’s this CFG that Stable Diffusion uses to balance between the prompt and the Stable Diffusion model. If the CFG Scale is low, the image won’t follow the prompt. But if the CFG Scale is high, the result will be a random colorful image that doesn’t resemble the prompt at all."
   ]
  },
  {
   "cell_type": "markdown",
   "id": "1cf3a6e5",
   "metadata": {},
   "source": [
    "The most suitable choice for CFG Scale is between 6.0 - 15.0. Lower values are good for photorealistic images, while higher values are suitable for a more artistic style."
   ]
  },
  {
   "cell_type": "code",
   "execution_count": null,
   "id": "d1be4405",
   "metadata": {},
   "outputs": [],
   "source": [
    "prompt = \"a man sit in front of the door\"\n",
    "\n",
    "generator = torch.Generator(\"cuda\").manual_seed(seed)\n",
    "img = pipe(prompt, guidance_scale=7, generator=generator).images[0]\n",
    "img"
   ]
  },
  {
   "cell_type": "markdown",
   "id": "fec97f9f",
   "metadata": {},
   "source": []
  },
  {
   "cell_type": "code",
   "execution_count": null,
   "id": "1e35d620",
   "metadata": {},
   "outputs": [],
   "source": [
    "plt.figure(figsize=(18,8))\n",
    "for i in range(1, 6):\n",
    "\n",
    "  n_guidance = i + 3\n",
    "  generator = torch.Generator(\"cuda\").manual_seed(seed)\n",
    "  img = pipe(prompt, guidance_scale=n_guidance, generator=generator).images[0]\n",
    "\n",
    "  plt.subplot(1,5,i)\n",
    "  plt.title('guidance_scale: {}'.format(n_guidance))\n",
    "  plt.imshow(img)\n",
    "  plt.axis('off')\n",
    "\n",
    "plt.show()"
   ]
  },
  {
   "cell_type": "markdown",
   "id": "0527b0bc",
   "metadata": {},
   "source": []
  },
  {
   "cell_type": "markdown",
   "id": "5d8c8b42",
   "metadata": {},
   "source": [
    "# Image size (dimensions)"
   ]
  },
  {
   "cell_type": "markdown",
   "id": "6e0a21c9",
   "metadata": {},
   "source": [
    "The generated images are 512 x 512 pixels"
   ]
  },
  {
   "cell_type": "markdown",
   "id": "6a61a915",
   "metadata": {},
   "source": [
    "Recommendations in case you want other dimensions:"
   ]
  },
  {
   "cell_type": "markdown",
   "id": "a31a2cb7",
   "metadata": {},
   "source": [
    "- make sure the height and width are multiples of 8\n",
    "- less than 512 will result in lower quality images\n",
    "- exceeding 512 in both directions (width and height) will repeat areas of the image (“global coherence” is lost)"
   ]
  },
  {
   "cell_type": "markdown",
   "id": "f0b4fdec",
   "metadata": {},
   "source": [
    "> Landscape mode"
   ]
  },
  {
   "cell_type": "markdown",
   "id": "2fe30379",
   "metadata": {},
   "source": [
    "Landscape mode"
   ]
  },
  {
   "cell_type": "code",
   "execution_count": null,
   "id": "5dee76ee",
   "metadata": {},
   "outputs": [],
   "source": [
    "seed = 777\n",
    "prompt = \"photograph of orange cat\"\n",
    "generator = torch.Generator(\"cuda\").manual_seed(seed)\n",
    "h, w = 512, 512\n",
    "img = pipe(prompt, height=h, width=w, generator=generator).images[0]\n",
    "img"
   ]
  },
  {
   "cell_type": "markdown",
   "id": "9e7e3bc5",
   "metadata": {},
   "source": []
  },
  {
   "cell_type": "markdown",
   "id": "46dfb53e",
   "metadata": {},
   "source": [
    "> Portrait mode"
   ]
  },
  {
   "cell_type": "markdown",
   "id": "ea32585e",
   "metadata": {},
   "source": [
    "Portrait mode"
   ]
  },
  {
   "cell_type": "code",
   "execution_count": null,
   "id": "51c24fae",
   "metadata": {},
   "outputs": [],
   "source": [
    "generator = torch.Generator(\"cuda\").manual_seed(seed)\n",
    "h, w = 768, 512\n",
    "img = pipe(prompt, height=h, width=w, generator=generator).images[0]\n",
    "img"
   ]
  },
  {
   "cell_type": "markdown",
   "id": "9b1854f9",
   "metadata": {},
   "source": []
  },
  {
   "cell_type": "markdown",
   "id": "48b76a7e",
   "metadata": {},
   "source": [
    "# Negative prompt"
   ]
  },
  {
   "cell_type": "markdown",
   "id": "57192e60",
   "metadata": {},
   "source": [
    "We can use negative prompt to tell Stable Diffusion things we don’t want in our image."
   ]
  },
  {
   "cell_type": "code",
   "execution_count": null,
   "id": "2fcc3e73",
   "metadata": {},
   "outputs": [],
   "source": [
    "num_images = 3\n",
    "\n",
    "prompt = 'photograph of old car'\n",
    "neg_prompt = 'black white'\n",
    "\n",
    "imgs = pipe(prompt, negative_prompt = neg_prompt, num_images_per_prompt=num_images).images\n",
    "\n",
    "grid = grid_img(imgs, rows = 1, cols = 3, scale=0.75)\n",
    "grid"
   ]
  },
  {
   "cell_type": "markdown",
   "id": "328e7f2d",
   "metadata": {},
   "source": []
  },
  {
   "cell_type": "markdown",
   "id": "190a9deb",
   "metadata": {},
   "source": [
    "# Other models"
   ]
  },
  {
   "cell_type": "markdown",
   "id": "752b0b14",
   "metadata": {},
   "source": [
    "# SD v1.5"
   ]
  },
  {
   "cell_type": "code",
   "execution_count": null,
   "id": "77ad60c6",
   "metadata": {},
   "outputs": [],
   "source": [
    "sd15 = StableDiffusionPipeline.from_pretrained(\"runwayml/stable-diffusion-v1-5\", torch_dtype=torch.float16)\n",
    "sd15 = sd15.to('cuda')\n",
    "sd15.enable_attention_slicing()\n",
    "sd15.enable_xformers_memory_efficient_attention()"
   ]
  },
  {
   "cell_type": "code",
   "execution_count": null,
   "id": "f383a3b8",
   "metadata": {},
   "outputs": [],
   "source": [
    "num_imgs = 3\n",
    "\n",
    "prompt = \"photograph of an old car\"\n",
    "neg_prompt = 'black white'\n",
    "\n",
    "imgs = sd15(prompt, negative_prompt=neg_prompt, num_images_per_prompt=num_imgs).images\n",
    "\n",
    "grid = grid_img(imgs, rows=1, cols=3, scale=0.75)\n",
    "grid"
   ]
  },
  {
   "cell_type": "markdown",
   "id": "dd389eb5",
   "metadata": {},
   "source": []
  },
  {
   "cell_type": "code",
   "execution_count": null,
   "id": "787c85c2",
   "metadata": {},
   "outputs": [],
   "source": [
    "prompt = \"photo of a futuristic city on another planet, realistic, full hd\"\n",
    "neg_prompt = 'buildings'\n",
    "\n",
    "imgs = sd15(prompt, negative_prompt = neg_prompt, num_images_per_prompt=num_imgs).images\n",
    "\n",
    "grid = grid_img(imgs, rows=1, cols=3, scale=0.75)\n",
    "grid"
   ]
  },
  {
   "cell_type": "markdown",
   "id": "cd4db60d",
   "metadata": {},
   "source": [
    "# SD v2.x"
   ]
  },
  {
   "cell_type": "code",
   "execution_count": null,
   "id": "1f184880",
   "metadata": {},
   "outputs": [],
   "source": [
    "sd2 = StableDiffusionPipeline.from_pretrained(\"stabilityai/stable-diffusion-2-1\", torch_dtype=torch.float16)\n",
    "sd2 = sd2.to(\"cuda\")\n",
    "sd2.enable_attention_slicing()\n",
    "sd2.enable_xformers_memory_efficient_attention()"
   ]
  },
  {
   "cell_type": "code",
   "execution_count": null,
   "id": "4691d24b",
   "metadata": {},
   "outputs": [],
   "source": [
    "prompt = \"photograph of an old car\"\n",
    "neg_prompt = 'black white'\n",
    "\n",
    "\n",
    "imgs = sd2(prompt, negative_prompt=neg_prompt, num_images_per_prompt=num_imgs).images\n",
    "\n",
    "grid = grid_img(imgs, rows=1, cols=3, scale=0.75)\n",
    "grid"
   ]
  },
  {
   "cell_type": "markdown",
   "id": "70bc72b1",
   "metadata": {},
   "source": []
  },
  {
   "cell_type": "markdown",
   "id": "dd7f6d83",
   "metadata": {},
   "source": [
    "# Fine-tuned models with specific styles"
   ]
  },
  {
   "cell_type": "markdown",
   "id": "b92ad406",
   "metadata": {},
   "source": [
    "> Mo-di-diffusion (Modern Disney style)"
   ]
  },
  {
   "cell_type": "markdown",
   "id": "0a840665",
   "metadata": {},
   "source": [
    "Mo-di-diffusion (Modern Disney style)"
   ]
  },
  {
   "cell_type": "markdown",
   "id": "7054862a",
   "metadata": {},
   "source": [
    "https://huggingface.co/nitrosocke/mo-di-diffusion"
   ]
  },
  {
   "cell_type": "code",
   "execution_count": null,
   "id": "99489690",
   "metadata": {},
   "outputs": [],
   "source": [
    "modi = StableDiffusionPipeline.from_pretrained(\"nitrosocke/mo-di-diffusion\", torch_dtype=torch.float16)\n",
    "modi = modi.to(\"cuda\")\n",
    "modi.enable_attention_slicing()\n",
    "modi.enable_xformers_memory_efficient_attention()"
   ]
  },
  {
   "cell_type": "code",
   "execution_count": null,
   "id": "f7c5e3f8",
   "metadata": {},
   "outputs": [],
   "source": [
    "prompt = \"a photograph of an astronaut riding a horse, modern disney style\"\n",
    "\n",
    "seed = 777\n",
    "generator = torch.Generator(\"cuda\").manual_seed(seed)\n",
    "\n",
    "imgs = modi(prompt, generator=generator, num_images_per_prompt=num_imgs).images\n",
    "\n",
    "grid = grid_img(imgs, rows=1, cols=3, scale=0.75)\n",
    "grid"
   ]
  },
  {
   "cell_type": "code",
   "execution_count": null,
   "id": "e4c81b20",
   "metadata": {},
   "outputs": [],
   "source": [
    "prompt = \"orange cat, modern disney style\"\n",
    "\n",
    "generator = torch.Generator(\"cuda\").manual_seed(seed)\n",
    "imgs = modi(prompt, generator=generator, num_images_per_prompt=3).images\n",
    "\n",
    "grid = grid_img(imgs, rows=1, cols=3, scale=0.5)\n",
    "grid"
   ]
  },
  {
   "cell_type": "code",
   "execution_count": null,
   "id": "fc17a280",
   "metadata": {},
   "outputs": [],
   "source": [
    "prompt = [\"albert einstein, modern disney style\",\n",
    "          \"modern disney style old chevette driving in the desert, golden hour\",\n",
    "          \"modern disney style delorean\"]\n",
    "\n",
    "seed = 777\n",
    "print(\"Seed: \".format(str(seed)))\n",
    "generator = torch.Generator(\"cuda\").manual_seed(seed)\n",
    "imgs = modi(prompt, generator=generator).images\n",
    "\n",
    "grid = grid_img(imgs, rows=1, cols=3, scale=0.75)\n",
    "grid"
   ]
  },
  {
   "cell_type": "markdown",
   "id": "c6b7016a",
   "metadata": {},
   "source": [
    "# Other models"
   ]
  },
  {
   "cell_type": "markdown",
   "id": "d6047914",
   "metadata": {},
   "source": [
    "- Classic Disney Style - https://huggingface.co/nitrosocke/classic-anim-diffusion\n",
    "- High resolution 3D animation - https://huggingface.co/nitrosocke/redshift-diffusion\n",
    "- Futuristic images - https://huggingface.co/nitrosocke/Future-Diffusion\n",
    "- Other animation styles:\n",
    "- https://huggingface.co/nitrosocke/Ghibli-Diffusion\n",
    "- https://huggingface.co/nitrosocke/spider-verse-diffusion\n",
    "- more models https://huggingface.co/models?other=stable-diffusion-diffusers"
   ]
  },
  {
   "cell_type": "markdown",
   "id": "76f440cf",
   "metadata": {},
   "source": [
    "Classic Disney Style - https://huggingface.co/nitrosocke/classic-anim-diffusion"
   ]
  },
  {
   "cell_type": "markdown",
   "id": "f4c50062",
   "metadata": {},
   "source": [
    "High resolution 3D animation - https://huggingface.co/nitrosocke/redshift-diffusion"
   ]
  },
  {
   "cell_type": "markdown",
   "id": "c1a7de77",
   "metadata": {},
   "source": [
    "Futuristic images - https://huggingface.co/nitrosocke/Future-Diffusion"
   ]
  },
  {
   "cell_type": "markdown",
   "id": "aefd578e",
   "metadata": {},
   "source": [
    "Other animation styles:"
   ]
  },
  {
   "cell_type": "markdown",
   "id": "a3c2af89",
   "metadata": {},
   "source": [
    "https://huggingface.co/nitrosocke/Ghibli-Diffusion"
   ]
  },
  {
   "cell_type": "markdown",
   "id": "afb49dec",
   "metadata": {},
   "source": [
    "https://huggingface.co/nitrosocke/spider-verse-diffusion"
   ]
  },
  {
   "cell_type": "markdown",
   "id": "6305f6e6",
   "metadata": {},
   "source": [
    "more models https://huggingface.co/models?other=stable-diffusion-diffusers"
   ]
  },
  {
   "cell_type": "markdown",
   "id": "04b985b8",
   "metadata": {},
   "source": [
    "# Changing the scheduler (sampler)"
   ]
  },
  {
   "cell_type": "markdown",
   "id": "362913be",
   "metadata": {},
   "source": [
    "We can also change the scheduler for our Stable Diffusion."
   ]
  },
  {
   "cell_type": "markdown",
   "id": "64eee8df",
   "metadata": {},
   "source": [
    "- Available schedulers: https://huggingface.co/docs/diffusers/using-diffusers/schedulers#schedulers-summary"
   ]
  },
  {
   "cell_type": "markdown",
   "id": "5995b0fa",
   "metadata": {},
   "source": [
    "Default is PNDMScheduler."
   ]
  },
  {
   "cell_type": "code",
   "execution_count": null,
   "id": "3b0037a3",
   "metadata": {},
   "outputs": [],
   "source": [
    "sd15 = StableDiffusionPipeline.from_pretrained(\"runwayml/stable-diffusion-v1-5\", torch_dtype=torch.float16)\n",
    "sd15 = sd15.to(\"cuda\")\n",
    "sd15.enable_attention_slicing()\n",
    "sd15.enable_xformers_memory_efficient_attention()"
   ]
  },
  {
   "cell_type": "code",
   "execution_count": null,
   "id": "09b56a9a",
   "metadata": {},
   "outputs": [],
   "source": [
    "sd15.scheduler"
   ]
  },
  {
   "cell_type": "code",
   "execution_count": null,
   "id": "045c9c4f",
   "metadata": {},
   "outputs": [],
   "source": [
    "seed = 777\n",
    "prompt = \"a photo of a orange cat wearing sunglasses, on the beach, ocean in the background\"\n",
    "generator = torch.Generator('cuda').manual_seed(seed)\n",
    "img = sd15(prompt, generator=generator).images[0]\n",
    "img"
   ]
  },
  {
   "cell_type": "code",
   "execution_count": null,
   "id": "4ec69df7",
   "metadata": {},
   "outputs": [],
   "source": [
    "sd15.scheduler.compatibles"
   ]
  },
  {
   "cell_type": "code",
   "execution_count": null,
   "id": "337d2f82",
   "metadata": {},
   "outputs": [],
   "source": [
    "sd15.scheduler.config"
   ]
  },
  {
   "cell_type": "code",
   "execution_count": null,
   "id": "35ad9a7b",
   "metadata": {},
   "outputs": [],
   "source": [
    "from diffusers import DDIMScheduler\n",
    "sd15.scheduler = DDIMScheduler.from_config(sd15.scheduler.config)"
   ]
  },
  {
   "cell_type": "code",
   "execution_count": null,
   "id": "612c9a07",
   "metadata": {},
   "outputs": [],
   "source": [
    "generator = torch.Generator(device = 'cuda').manual_seed(seed)\n",
    "img = sd15(prompt, generator=generator).images[0]\n",
    "img"
   ]
  },
  {
   "cell_type": "code",
   "execution_count": null,
   "id": "3af5e079",
   "metadata": {},
   "outputs": [],
   "source": [
    "from diffusers import LMSDiscreteScheduler\n",
    "sd15.scheduler = LMSDiscreteScheduler.from_config(sd15.scheduler.config)\n",
    "generator = torch.Generator(device = 'cuda').manual_seed(seed)\n",
    "img = sd15(prompt, num_inference_steps = 60, generator=generator).images[0]\n",
    "img"
   ]
  },
  {
   "cell_type": "code",
   "execution_count": null,
   "id": "43148df0",
   "metadata": {},
   "outputs": [],
   "source": [
    "from diffusers import EulerAncestralDiscreteScheduler\n",
    "\n",
    "sd15.scheduler = EulerAncestralDiscreteScheduler.from_config(pipe.scheduler.config)\n",
    "\n",
    "generator = torch.Generator(device=\"cuda\").manual_seed(seed)\n",
    "img = sd15(prompt, generator=generator, num_inference_steps=50).images[0]\n",
    "img"
   ]
  },
  {
   "cell_type": "code",
   "execution_count": null,
   "id": "7b6f68d3",
   "metadata": {},
   "outputs": [],
   "source": [
    "from diffusers import EulerDiscreteScheduler\n",
    "\n",
    "sd15.scheduler = EulerDiscreteScheduler.from_config(pipe.scheduler.config)\n",
    "\n",
    "generator = torch.Generator(device=\"cuda\").manual_seed(seed)\n",
    "img = sd15(prompt, generator=generator, num_inference_steps=50).images[0]\n",
    "img"
   ]
  }
 ],
 "metadata": {},
 "nbformat": 4,
 "nbformat_minor": 5
}
