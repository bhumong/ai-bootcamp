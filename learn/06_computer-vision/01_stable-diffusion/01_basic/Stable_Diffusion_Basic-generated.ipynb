{
 "cells": [
  {
   "cell_type": "markdown",
   "id": "2deb4685",
   "metadata": {},
   "source": [
    "source: [link](https://ai-bootcamp.ruangguru.com/learn/06_computer-vision/01_stable-diffusion/01_basic/Stable_Diffusion_Basic.html)"
   ]
  },
  {
   "cell_type": "markdown",
   "id": "08908c09",
   "metadata": {},
   "source": [
    "# Stable Diffusion - Basic"
   ]
  },
  {
   "cell_type": "markdown",
   "id": "c79920ea",
   "metadata": {},
   "source": [
    "[ ! Attention ] It’s crucial to verify the license of the models, particularly if there’s an intention to use the obtained results for commercial purposes."
   ]
  },
  {
   "cell_type": "markdown",
   "id": "00fdea52",
   "metadata": {},
   "source": [
    "It’s essential to utilize these models responsibly and ethically. They should not be employed to create or disseminate illegal or harmful content. This includes, but is not limited to, content that is violent, hateful, sexually explicit, or infringes on someone’s privacy or rights."
   ]
  },
  {
   "cell_type": "markdown",
   "id": "b4e3b050",
   "metadata": {},
   "source": [
    "As a user, the rights to the outputs generated using the model are retained. However, accountability for how these outputs are used also lies with the user. They should not be used in a manner that breaches the terms of the license or any applicable laws or regulations."
   ]
  },
  {
   "cell_type": "markdown",
   "id": "ec744813",
   "metadata": {},
   "source": [
    "The model can be used commercially or as a service, and the weights can be redistributed. However, if this is done, the same use restrictions as those in the original license must be included. A copy of the CreativeML OpenRAIL-M license must also be provided to all users."
   ]
  },
  {
   "cell_type": "markdown",
   "id": "67f8836f",
   "metadata": {},
   "source": [
    "(Licence of v1.4 e v1.5 https://huggingface.co/spaces/CompVis/stable-diffusion-license)"
   ]
  },
  {
   "cell_type": "markdown",
   "id": "4f230140",
   "metadata": {},
   "source": [
    "With that out of the way, let’s try out various things we can do with Stable Diffusion. Let’s get started!"
   ]
  },
  {
   "cell_type": "markdown",
   "id": "9b25f03b",
   "metadata": {},
   "source": [
    "Note: - Some images when re-run will not be the same, even with the same seed. - Stable Diffusion is resource intensive in terms of need for GPU and large hard disk space, we may need to “disconnect and delete the runtime” and continue halfway through this notebook."
   ]
  },
  {
   "cell_type": "code",
   "execution_count": null,
   "id": "9debd79a",
   "metadata": {},
   "outputs": [],
   "source": [
    "!nvidia-smi"
   ]
  },
  {
   "cell_type": "markdown",
   "id": "448dbba0",
   "metadata": {},
   "source": [
    "# Installing the libraries"
   ]
  },
  {
   "cell_type": "markdown",
   "id": "cf55a510",
   "metadata": {},
   "source": [
    "- Install the necessary libraries for stable diffusion\n",
    "- xformersfor memory optimization"
   ]
  },
  {
   "cell_type": "code",
   "execution_count": null,
   "id": "542011a0",
   "metadata": {},
   "outputs": [],
   "source": [
    "!pip install diffusers==0.11.1\n",
    "!pip install -q accelerate transformers ftfy bitsandbytes==0.35.0 gradio natsort safetensors xformers"
   ]
  },
  {
   "cell_type": "markdown",
   "id": "6972aa27",
   "metadata": {},
   "source": [
    "# Pipeline for image generation"
   ]
  },
  {
   "cell_type": "markdown",
   "id": "794311a5",
   "metadata": {},
   "source": [
    "- We can define with little effort a pipeline to use the Stable Diffusion model, through theStableDiffusionPipeline"
   ]
  },
  {
   "cell_type": "code",
   "execution_count": null,
   "id": "c422a1f0",
   "metadata": {},
   "outputs": [],
   "source": [
    "import torch #PyTorch\n",
    "from diffusers import StableDiffusionPipeline"
   ]
  },
  {
   "cell_type": "code",
   "execution_count": null,
   "id": "ae544b32",
   "metadata": {},
   "outputs": [],
   "source": [
    "pipe = StableDiffusionPipeline.from_pretrained(\"CompVis/stable-diffusion-v1-4\", torch_dtype=torch.float16)"
   ]
  },
  {
   "cell_type": "code",
   "execution_count": null,
   "id": "f5097a95",
   "metadata": {},
   "outputs": [],
   "source": [
    "pipe = pipe.to('cuda') #We'll always use GPU, make sure your change your runtime to use GPU is you're on Collab"
   ]
  },
  {
   "cell_type": "code",
   "execution_count": null,
   "id": "b6f434ef",
   "metadata": {},
   "outputs": [],
   "source": [
    "pipe.enable_attention_slicing()\n",
    "pipe.enable_xformers_memory_efficient_attention()"
   ]
  },
  {
   "cell_type": "markdown",
   "id": "ca8d0a08",
   "metadata": {},
   "source": [
    "Sometime during image generation, the image may come out all black, to avoid this we can disable safety checker."
   ]
  },
  {
   "cell_type": "code",
   "execution_count": null,
   "id": "8088fd3e",
   "metadata": {},
   "outputs": [],
   "source": [
    "#avoid all black images, disabling it is easy, you can do this:\n",
    "pipe.safety_checker = lambda images, clip_input: (images, False)"
   ]
  },
  {
   "cell_type": "markdown",
   "id": "e77787bd",
   "metadata": {},
   "source": [
    "# Creating the prompt"
   ]
  },
  {
   "cell_type": "code",
   "execution_count": null,
   "id": "4acab242",
   "metadata": {},
   "outputs": [],
   "source": [
    "prompt = 'orange cat'"
   ]
  },
  {
   "cell_type": "markdown",
   "id": "b1e3a0c3",
   "metadata": {},
   "source": [
    "# Generating the image"
   ]
  },
  {
   "cell_type": "code",
   "execution_count": null,
   "id": "5713f173",
   "metadata": {},
   "outputs": [],
   "source": [
    "img = pipe(prompt).images[0]"
   ]
  },
  {
   "cell_type": "markdown",
   "id": "bc440e5b",
   "metadata": {},
   "source": [
    "# Display the image"
   ]
  },
  {
   "cell_type": "code",
   "execution_count": null,
   "id": "2f60b7a2",
   "metadata": {},
   "outputs": [],
   "source": [
    "img"
   ]
  },
  {
   "cell_type": "markdown",
   "id": "f732070e",
   "metadata": {},
   "source": []
  },
  {
   "cell_type": "markdown",
   "id": "91222e7a",
   "metadata": {},
   "source": [
    "# Saving the result"
   ]
  },
  {
   "cell_type": "code",
   "execution_count": null,
   "id": "7f673541",
   "metadata": {},
   "outputs": [],
   "source": [
    "img.save('result.png')"
   ]
  },
  {
   "cell_type": "markdown",
   "id": "c3a2e35a",
   "metadata": {},
   "source": [
    "# Let’s continue our experimentation."
   ]
  },
  {
   "cell_type": "code",
   "execution_count": null,
   "id": "2bd0fc48",
   "metadata": {},
   "outputs": [],
   "source": [
    "prompt = 'photograph of orange cat, realistic, full hd'\n",
    "img = pipe(prompt).images[0]\n",
    "img"
   ]
  },
  {
   "cell_type": "markdown",
   "id": "12eb6b1a",
   "metadata": {},
   "source": []
  },
  {
   "cell_type": "code",
   "execution_count": null,
   "id": "bf2e5857",
   "metadata": {},
   "outputs": [],
   "source": [
    "prompt = 'a photograph of orange cat'\n",
    "img = pipe(prompt).images[0]\n",
    "img"
   ]
  },
  {
   "cell_type": "markdown",
   "id": "2e42bede",
   "metadata": {},
   "source": []
  },
  {
   "cell_type": "markdown",
   "id": "46611c35",
   "metadata": {},
   "source": [
    "# Generating multiple images"
   ]
  },
  {
   "cell_type": "code",
   "execution_count": null,
   "id": "8b51c222",
   "metadata": {},
   "outputs": [],
   "source": [
    "from PIL import Image\n",
    "\n",
    "def grid_img(imgs, rows=1, cols=3, scale=1):\n",
    "  assert len(imgs) == rows * cols\n",
    "\n",
    "  w, h = imgs[0].size\n",
    "  w, h = int(w * scale), int(h * scale)\n",
    "\n",
    "  grid = Image.new('RGB', size = (cols * w, rows * h))\n",
    "  grid_w, grid_h = grid.size\n",
    "\n",
    "  for i, img in enumerate(imgs):\n",
    "    img = img.resize((w, h), Image.ANTIALIAS)\n",
    "    grid.paste(img, box=(i % cols * w, i // cols * h))\n",
    "  return grid"
   ]
  },
  {
   "cell_type": "code",
   "execution_count": null,
   "id": "9fe38624",
   "metadata": {},
   "outputs": [],
   "source": [
    "num_imgs = 3\n",
    "prompt = 'photograph of orange cat'\n",
    "imgs = pipe(prompt, num_images_per_prompt=num_imgs).images\n",
    "grid = grid_img(imgs, rows=1, cols=3, scale=0.75)\n",
    "grid"
   ]
  },
  {
   "cell_type": "markdown",
   "id": "9ce8a5db",
   "metadata": {},
   "source": []
  },
  {
   "cell_type": "markdown",
   "id": "cba88343",
   "metadata": {},
   "source": [
    "# Parameters"
   ]
  },
  {
   "cell_type": "markdown",
   "id": "600a2ee5",
   "metadata": {},
   "source": [
    "There are some parameters we can set"
   ]
  },
  {
   "cell_type": "markdown",
   "id": "a7556e63",
   "metadata": {},
   "source": [
    "# Seed"
   ]
  },
  {
   "cell_type": "markdown",
   "id": "77b8f1c2",
   "metadata": {},
   "source": [
    "We can set seed if we want to generate similar images."
   ]
  },
  {
   "cell_type": "code",
   "execution_count": null,
   "id": "a683cfbe",
   "metadata": {},
   "outputs": [],
   "source": [
    "seed = 2000\n",
    "generator = torch.Generator('cuda').manual_seed(seed)\n",
    "img = pipe(prompt, generator=generator).images[0]\n",
    "img"
   ]
  },
  {
   "cell_type": "markdown",
   "id": "d7c0d228",
   "metadata": {},
   "source": []
  },
  {
   "cell_type": "code",
   "execution_count": null,
   "id": "c6a5e857",
   "metadata": {},
   "outputs": [],
   "source": [
    "prompt = \"photograph of orange cat\"\n",
    "seed = 2000\n",
    "generator = torch.Generator(\"cuda\").manual_seed(seed)\n",
    "imgs = pipe(prompt, num_images_per_prompt=num_imgs, generator=generator).images\n",
    "grid = grid_img(imgs, rows=1, cols=3, scale=0.75)\n",
    "grid"
   ]
  },
  {
   "cell_type": "markdown",
   "id": "813f309c",
   "metadata": {},
   "source": []
  },
  {
   "cell_type": "code",
   "execution_count": null,
   "id": "d551e6f3",
   "metadata": {},
   "outputs": [],
   "source": [
    "prompt = \"van gogh painting of an orange cat\"\n",
    "generator = torch.Generator(\"cuda\").manual_seed(seed)\n",
    "imgs = pipe(prompt, num_images_per_prompt=num_imgs, generator=generator).images\n",
    "grid = grid_img(imgs, rows=1, cols=3, scale=0.75)\n",
    "grid"
   ]
  },
  {
   "cell_type": "markdown",
   "id": "3566b0b7",
   "metadata": {},
   "source": []
  },
  {
   "cell_type": "markdown",
   "id": "e9f7adc8",
   "metadata": {},
   "source": [
    "# Inference steps"
   ]
  },
  {
   "cell_type": "markdown",
   "id": "d3fc0211",
   "metadata": {},
   "source": [
    "Inference steps refer to the number of denoising steps to reach the final image. The default number of inference steps of 50. If you want faster results you can use a smaller number. If you want potentially higher quality results, you can use larger numbers."
   ]
  },
  {
   "cell_type": "markdown",
   "id": "e59b760c",
   "metadata": {},
   "source": [
    "Let’s try out running the pipeline with less denoising steps."
   ]
  },
  {
   "cell_type": "code",
   "execution_count": null,
   "id": "238ffcf8",
   "metadata": {},
   "outputs": [],
   "source": [
    "prompt = \"photograph of orange cat, realistic, full hd\"\n",
    "generator = torch.Generator(\"cuda\").manual_seed(seed)\n",
    "img = pipe(prompt, num_inference_steps=3, generator=generator).images[0]\n",
    "img"
   ]
  },
  {
   "cell_type": "markdown",
   "id": "eb9fac78",
   "metadata": {},
   "source": []
  },
  {
   "cell_type": "code",
   "execution_count": null,
   "id": "793ec3c6",
   "metadata": {},
   "outputs": [],
   "source": [
    "import matplotlib.pyplot as plt\n",
    "\n",
    "plt.figure(figsize=(18,8))\n",
    "for i in range(1, 6):\n",
    "  n_steps = i * 1\n",
    "  #print(n_steps)\n",
    "  generator = torch.Generator('cuda').manual_seed(seed)\n",
    "  img = pipe(prompt, num_inference_steps=n_steps, generator=generator).images[0]\n",
    "\n",
    "  plt.subplot(1, 5, i)\n",
    "  plt.title('num_inference_steps: {}'.format(n_steps))\n",
    "  plt.imshow(img)\n",
    "  plt.axis('off')\n",
    "plt.show()"
   ]
  },
  {
   "cell_type": "markdown",
   "id": "c54cd37d",
   "metadata": {},
   "source": []
  },
  {
   "cell_type": "markdown",
   "id": "1791d27d",
   "metadata": {},
   "source": [
    "# Guidance Scale (CFG / Strength)"
   ]
  },
  {
   "cell_type": "markdown",
   "id": "de48d6ce",
   "metadata": {},
   "source": [
    "CFG stands for Classifier-Free Guidance, so CFG scale can be referred to as Classifier-Free Guidance scale."
   ]
  },
  {
   "cell_type": "markdown",
   "id": "7b282185",
   "metadata": {},
   "source": [
    "So, before 2022, there was a method called classifier guidance. It’s a method that can balance between mode coverage and sample quality in diffusion models after training, similar to low-temperature sampling or truncation in other generative models. Essentially, classifier guidance is a mix between the score estimate from the diffusion model and the gradient from the image classifier. However, if we want to use it, we have to train an image classifier that’s different from the diffusion model."
   ]
  },
  {
   "cell_type": "markdown",
   "id": "2d279ae9",
   "metadata": {},
   "source": [
    "Then, a question arises, can we have guidance without a classifier?"
   ]
  },
  {
   "cell_type": "markdown",
   "id": "4ca07544",
   "metadata": {},
   "source": [
    "In 2022, Jonathan Ho and Tim Salimans from Google Brain demonstrated that we can use a pure generative model without a classifier. The title of their paper is “Classifier-Free Guidance”. They train both conditional and unconditional diffusion models together, then they combine the score estimates from both to achieve a trade-off between sample quality and diversity, similar to using classifier guidance."
   ]
  },
  {
   "cell_type": "markdown",
   "id": "85c11b2f",
   "metadata": {},
   "source": [
    "It’s this CFG that Stable Diffusion uses to balance between the prompt and the Stable Diffusion model. If the CFG Scale is low, the image won’t follow the prompt. But if the CFG Scale is high, the result will be a random colorful image that doesn’t resemble the prompt at all."
   ]
  },
  {
   "cell_type": "markdown",
   "id": "977be727",
   "metadata": {},
   "source": [
    "The most suitable choice for CFG Scale is between 6.0 - 15.0. Lower values are good for photorealistic images, while higher values are suitable for a more artistic style."
   ]
  },
  {
   "cell_type": "code",
   "execution_count": null,
   "id": "1d1ea9c5",
   "metadata": {},
   "outputs": [],
   "source": [
    "prompt = \"a man sit in front of the door\"\n",
    "\n",
    "generator = torch.Generator(\"cuda\").manual_seed(seed)\n",
    "img = pipe(prompt, guidance_scale=7, generator=generator).images[0]\n",
    "img"
   ]
  },
  {
   "cell_type": "markdown",
   "id": "64a2b276",
   "metadata": {},
   "source": []
  },
  {
   "cell_type": "code",
   "execution_count": null,
   "id": "2024ed32",
   "metadata": {},
   "outputs": [],
   "source": [
    "plt.figure(figsize=(18,8))\n",
    "for i in range(1, 6):\n",
    "\n",
    "  n_guidance = i + 3\n",
    "  generator = torch.Generator(\"cuda\").manual_seed(seed)\n",
    "  img = pipe(prompt, guidance_scale=n_guidance, generator=generator).images[0]\n",
    "\n",
    "  plt.subplot(1,5,i)\n",
    "  plt.title('guidance_scale: {}'.format(n_guidance))\n",
    "  plt.imshow(img)\n",
    "  plt.axis('off')\n",
    "\n",
    "plt.show()"
   ]
  },
  {
   "cell_type": "markdown",
   "id": "c863a95a",
   "metadata": {},
   "source": []
  },
  {
   "cell_type": "markdown",
   "id": "a037fef7",
   "metadata": {},
   "source": [
    "# Image size (dimensions)"
   ]
  },
  {
   "cell_type": "markdown",
   "id": "4700ab04",
   "metadata": {},
   "source": [
    "The generated images are 512 x 512 pixels"
   ]
  },
  {
   "cell_type": "markdown",
   "id": "42ddbe4b",
   "metadata": {},
   "source": [
    "Recommendations in case you want other dimensions:"
   ]
  },
  {
   "cell_type": "markdown",
   "id": "54d99131",
   "metadata": {},
   "source": [
    "- make sure the height and width are multiples of 8\n",
    "- less than 512 will result in lower quality images\n",
    "- exceeding 512 in both directions (width and height) will repeat areas of the image (“global coherence” is lost)"
   ]
  },
  {
   "cell_type": "markdown",
   "id": "14916178",
   "metadata": {},
   "source": [
    "Landscape mode"
   ]
  },
  {
   "cell_type": "code",
   "execution_count": null,
   "id": "befadfbe",
   "metadata": {},
   "outputs": [],
   "source": [
    "seed = 777\n",
    "prompt = \"photograph of orange cat\"\n",
    "generator = torch.Generator(\"cuda\").manual_seed(seed)\n",
    "h, w = 512, 512\n",
    "img = pipe(prompt, height=h, width=w, generator=generator).images[0]\n",
    "img"
   ]
  },
  {
   "cell_type": "markdown",
   "id": "a37415bc",
   "metadata": {},
   "source": []
  },
  {
   "cell_type": "markdown",
   "id": "55515555",
   "metadata": {},
   "source": [
    "Portrait mode"
   ]
  },
  {
   "cell_type": "code",
   "execution_count": null,
   "id": "34cb0d99",
   "metadata": {},
   "outputs": [],
   "source": [
    "generator = torch.Generator(\"cuda\").manual_seed(seed)\n",
    "h, w = 768, 512\n",
    "img = pipe(prompt, height=h, width=w, generator=generator).images[0]\n",
    "img"
   ]
  },
  {
   "cell_type": "markdown",
   "id": "daf8fbd8",
   "metadata": {},
   "source": []
  },
  {
   "cell_type": "markdown",
   "id": "e7b62060",
   "metadata": {},
   "source": [
    "# Negative prompt"
   ]
  },
  {
   "cell_type": "markdown",
   "id": "b9762d1e",
   "metadata": {},
   "source": [
    "We can use negative prompt to tell Stable Diffusion things we don’t want in our image."
   ]
  },
  {
   "cell_type": "code",
   "execution_count": null,
   "id": "e84aed0f",
   "metadata": {},
   "outputs": [],
   "source": [
    "num_images = 3\n",
    "\n",
    "prompt = 'photograph of old car'\n",
    "neg_prompt = 'black white'\n",
    "\n",
    "imgs = pipe(prompt, negative_prompt = neg_prompt, num_images_per_prompt=num_images).images\n",
    "\n",
    "grid = grid_img(imgs, rows = 1, cols = 3, scale=0.75)\n",
    "grid"
   ]
  },
  {
   "cell_type": "markdown",
   "id": "e326ad39",
   "metadata": {},
   "source": []
  },
  {
   "cell_type": "markdown",
   "id": "06d2c6b2",
   "metadata": {},
   "source": [
    "# Other models"
   ]
  },
  {
   "cell_type": "markdown",
   "id": "15e1cff3",
   "metadata": {},
   "source": [
    "# SD v1.5"
   ]
  },
  {
   "cell_type": "code",
   "execution_count": null,
   "id": "a7f6a34f",
   "metadata": {},
   "outputs": [],
   "source": [
    "sd15 = StableDiffusionPipeline.from_pretrained(\"runwayml/stable-diffusion-v1-5\", torch_dtype=torch.float16)\n",
    "sd15 = sd15.to('cuda')\n",
    "sd15.enable_attention_slicing()\n",
    "sd15.enable_xformers_memory_efficient_attention()"
   ]
  },
  {
   "cell_type": "code",
   "execution_count": null,
   "id": "2c9229d5",
   "metadata": {},
   "outputs": [],
   "source": [
    "num_imgs = 3\n",
    "\n",
    "prompt = \"photograph of an old car\"\n",
    "neg_prompt = 'black white'\n",
    "\n",
    "imgs = sd15(prompt, negative_prompt=neg_prompt, num_images_per_prompt=num_imgs).images\n",
    "\n",
    "grid = grid_img(imgs, rows=1, cols=3, scale=0.75)\n",
    "grid"
   ]
  },
  {
   "cell_type": "markdown",
   "id": "3e3e3e0d",
   "metadata": {},
   "source": []
  },
  {
   "cell_type": "code",
   "execution_count": null,
   "id": "c98e3c21",
   "metadata": {},
   "outputs": [],
   "source": [
    "prompt = \"photo of a futuristic city on another planet, realistic, full hd\"\n",
    "neg_prompt = 'buildings'\n",
    "\n",
    "imgs = sd15(prompt, negative_prompt = neg_prompt, num_images_per_prompt=num_imgs).images\n",
    "\n",
    "grid = grid_img(imgs, rows=1, cols=3, scale=0.75)\n",
    "grid"
   ]
  },
  {
   "cell_type": "markdown",
   "id": "ae9310c6",
   "metadata": {},
   "source": [
    "# SD v2.x"
   ]
  },
  {
   "cell_type": "code",
   "execution_count": null,
   "id": "083e4dad",
   "metadata": {},
   "outputs": [],
   "source": [
    "sd2 = StableDiffusionPipeline.from_pretrained(\"stabilityai/stable-diffusion-2-1\", torch_dtype=torch.float16)\n",
    "sd2 = sd2.to(\"cuda\")\n",
    "sd2.enable_attention_slicing()\n",
    "sd2.enable_xformers_memory_efficient_attention()"
   ]
  },
  {
   "cell_type": "code",
   "execution_count": null,
   "id": "f48f00fd",
   "metadata": {},
   "outputs": [],
   "source": [
    "prompt = \"photograph of an old car\"\n",
    "neg_prompt = 'black white'\n",
    "\n",
    "\n",
    "imgs = sd2(prompt, negative_prompt=neg_prompt, num_images_per_prompt=num_imgs).images\n",
    "\n",
    "grid = grid_img(imgs, rows=1, cols=3, scale=0.75)\n",
    "grid"
   ]
  },
  {
   "cell_type": "markdown",
   "id": "c7d8f47d",
   "metadata": {},
   "source": []
  },
  {
   "cell_type": "markdown",
   "id": "e07257ea",
   "metadata": {},
   "source": [
    "# Fine-tuned models with specific styles"
   ]
  },
  {
   "cell_type": "markdown",
   "id": "32e98c1a",
   "metadata": {},
   "source": [
    "Mo-di-diffusion (Modern Disney style)"
   ]
  },
  {
   "cell_type": "markdown",
   "id": "8c8e8d13",
   "metadata": {},
   "source": [
    "https://huggingface.co/nitrosocke/mo-di-diffusion"
   ]
  },
  {
   "cell_type": "code",
   "execution_count": null,
   "id": "f3640a0d",
   "metadata": {},
   "outputs": [],
   "source": [
    "modi = StableDiffusionPipeline.from_pretrained(\"nitrosocke/mo-di-diffusion\", torch_dtype=torch.float16)\n",
    "modi = modi.to(\"cuda\")\n",
    "modi.enable_attention_slicing()\n",
    "modi.enable_xformers_memory_efficient_attention()"
   ]
  },
  {
   "cell_type": "code",
   "execution_count": null,
   "id": "8cfa2db7",
   "metadata": {},
   "outputs": [],
   "source": [
    "prompt = \"a photograph of an astronaut riding a horse, modern disney style\"\n",
    "\n",
    "seed = 777\n",
    "generator = torch.Generator(\"cuda\").manual_seed(seed)\n",
    "\n",
    "imgs = modi(prompt, generator=generator, num_images_per_prompt=num_imgs).images\n",
    "\n",
    "grid = grid_img(imgs, rows=1, cols=3, scale=0.75)\n",
    "grid"
   ]
  },
  {
   "cell_type": "code",
   "execution_count": null,
   "id": "98e5eccc",
   "metadata": {},
   "outputs": [],
   "source": [
    "prompt = \"orange cat, modern disney style\"\n",
    "\n",
    "generator = torch.Generator(\"cuda\").manual_seed(seed)\n",
    "imgs = modi(prompt, generator=generator, num_images_per_prompt=3).images\n",
    "\n",
    "grid = grid_img(imgs, rows=1, cols=3, scale=0.5)\n",
    "grid"
   ]
  },
  {
   "cell_type": "code",
   "execution_count": null,
   "id": "c62a2063",
   "metadata": {},
   "outputs": [],
   "source": [
    "prompt = [\"albert einstein, modern disney style\",\n",
    "          \"modern disney style old chevette driving in the desert, golden hour\",\n",
    "          \"modern disney style delorean\"]\n",
    "\n",
    "seed = 777\n",
    "print(\"Seed: \".format(str(seed)))\n",
    "generator = torch.Generator(\"cuda\").manual_seed(seed)\n",
    "imgs = modi(prompt, generator=generator).images\n",
    "\n",
    "grid = grid_img(imgs, rows=1, cols=3, scale=0.75)\n",
    "grid"
   ]
  },
  {
   "cell_type": "markdown",
   "id": "17ecaae6",
   "metadata": {},
   "source": [
    "# Other models"
   ]
  },
  {
   "cell_type": "markdown",
   "id": "c5152945",
   "metadata": {},
   "source": [
    "- Classic Disney Style - https://huggingface.co/nitrosocke/classic-anim-diffusion\n",
    "- High resolution 3D animation - https://huggingface.co/nitrosocke/redshift-diffusion\n",
    "- Futuristic images - https://huggingface.co/nitrosocke/Future-Diffusion\n",
    "- Other animation styles:\n",
    "- https://huggingface.co/nitrosocke/Ghibli-Diffusion\n",
    "- https://huggingface.co/nitrosocke/spider-verse-diffusion\n",
    "- more models https://huggingface.co/models?other=stable-diffusion-diffusers"
   ]
  },
  {
   "cell_type": "markdown",
   "id": "3a451783",
   "metadata": {},
   "source": [
    "Classic Disney Style - https://huggingface.co/nitrosocke/classic-anim-diffusion"
   ]
  },
  {
   "cell_type": "markdown",
   "id": "b9fc7274",
   "metadata": {},
   "source": [
    "High resolution 3D animation - https://huggingface.co/nitrosocke/redshift-diffusion"
   ]
  },
  {
   "cell_type": "markdown",
   "id": "acdab997",
   "metadata": {},
   "source": [
    "Futuristic images - https://huggingface.co/nitrosocke/Future-Diffusion"
   ]
  },
  {
   "cell_type": "markdown",
   "id": "9ddade63",
   "metadata": {},
   "source": [
    "Other animation styles:"
   ]
  },
  {
   "cell_type": "markdown",
   "id": "71f27011",
   "metadata": {},
   "source": [
    "https://huggingface.co/nitrosocke/Ghibli-Diffusion"
   ]
  },
  {
   "cell_type": "markdown",
   "id": "2fa77c84",
   "metadata": {},
   "source": [
    "https://huggingface.co/nitrosocke/spider-verse-diffusion"
   ]
  },
  {
   "cell_type": "markdown",
   "id": "12212a64",
   "metadata": {},
   "source": [
    "more models https://huggingface.co/models?other=stable-diffusion-diffusers"
   ]
  },
  {
   "cell_type": "markdown",
   "id": "e8b16e11",
   "metadata": {},
   "source": [
    "# Changing the scheduler (sampler)"
   ]
  },
  {
   "cell_type": "markdown",
   "id": "58e9c7b0",
   "metadata": {},
   "source": [
    "We can also change the scheduler for our Stable Diffusion."
   ]
  },
  {
   "cell_type": "markdown",
   "id": "6a60e2b8",
   "metadata": {},
   "source": [
    "- Available schedulers: https://huggingface.co/docs/diffusers/using-diffusers/schedulers#schedulers-summary"
   ]
  },
  {
   "cell_type": "markdown",
   "id": "d58734d2",
   "metadata": {},
   "source": [
    "Default is PNDMScheduler."
   ]
  },
  {
   "cell_type": "code",
   "execution_count": null,
   "id": "2aaff087",
   "metadata": {},
   "outputs": [],
   "source": [
    "sd15 = StableDiffusionPipeline.from_pretrained(\"runwayml/stable-diffusion-v1-5\", torch_dtype=torch.float16)\n",
    "sd15 = sd15.to(\"cuda\")\n",
    "sd15.enable_attention_slicing()\n",
    "sd15.enable_xformers_memory_efficient_attention()"
   ]
  },
  {
   "cell_type": "code",
   "execution_count": null,
   "id": "80d67113",
   "metadata": {},
   "outputs": [],
   "source": [
    "sd15.scheduler"
   ]
  },
  {
   "cell_type": "code",
   "execution_count": null,
   "id": "06ba2ce6",
   "metadata": {},
   "outputs": [],
   "source": [
    "seed = 777\n",
    "prompt = \"a photo of a orange cat wearing sunglasses, on the beach, ocean in the background\"\n",
    "generator = torch.Generator('cuda').manual_seed(seed)\n",
    "img = sd15(prompt, generator=generator).images[0]\n",
    "img"
   ]
  },
  {
   "cell_type": "code",
   "execution_count": null,
   "id": "2db0a215",
   "metadata": {},
   "outputs": [],
   "source": [
    "sd15.scheduler.compatibles"
   ]
  },
  {
   "cell_type": "code",
   "execution_count": null,
   "id": "6a97b44a",
   "metadata": {},
   "outputs": [],
   "source": [
    "sd15.scheduler.config"
   ]
  },
  {
   "cell_type": "code",
   "execution_count": null,
   "id": "5dc7d7a5",
   "metadata": {},
   "outputs": [],
   "source": [
    "from diffusers import DDIMScheduler\n",
    "sd15.scheduler = DDIMScheduler.from_config(sd15.scheduler.config)"
   ]
  },
  {
   "cell_type": "code",
   "execution_count": null,
   "id": "797731b5",
   "metadata": {},
   "outputs": [],
   "source": [
    "generator = torch.Generator(device = 'cuda').manual_seed(seed)\n",
    "img = sd15(prompt, generator=generator).images[0]\n",
    "img"
   ]
  },
  {
   "cell_type": "code",
   "execution_count": null,
   "id": "a077cf4b",
   "metadata": {},
   "outputs": [],
   "source": [
    "from diffusers import LMSDiscreteScheduler\n",
    "sd15.scheduler = LMSDiscreteScheduler.from_config(sd15.scheduler.config)\n",
    "generator = torch.Generator(device = 'cuda').manual_seed(seed)\n",
    "img = sd15(prompt, num_inference_steps = 60, generator=generator).images[0]\n",
    "img"
   ]
  },
  {
   "cell_type": "code",
   "execution_count": null,
   "id": "1a62b41d",
   "metadata": {},
   "outputs": [],
   "source": [
    "from diffusers import EulerAncestralDiscreteScheduler\n",
    "\n",
    "sd15.scheduler = EulerAncestralDiscreteScheduler.from_config(pipe.scheduler.config)\n",
    "\n",
    "generator = torch.Generator(device=\"cuda\").manual_seed(seed)\n",
    "img = sd15(prompt, generator=generator, num_inference_steps=50).images[0]\n",
    "img"
   ]
  },
  {
   "cell_type": "code",
   "execution_count": null,
   "id": "8b271982",
   "metadata": {},
   "outputs": [],
   "source": [
    "from diffusers import EulerDiscreteScheduler\n",
    "\n",
    "sd15.scheduler = EulerDiscreteScheduler.from_config(pipe.scheduler.config)\n",
    "\n",
    "generator = torch.Generator(device=\"cuda\").manual_seed(seed)\n",
    "img = sd15(prompt, generator=generator, num_inference_steps=50).images[0]\n",
    "img"
   ]
  }
 ],
 "metadata": {},
 "nbformat": 4,
 "nbformat_minor": 5
}
