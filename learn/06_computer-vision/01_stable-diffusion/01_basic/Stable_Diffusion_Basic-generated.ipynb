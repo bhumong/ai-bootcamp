{
 "cells": [
  {
   "cell_type": "markdown",
   "id": "897451ab",
   "metadata": {},
   "source": [
    "# Stable Diffusion - Basic"
   ]
  },
  {
   "cell_type": "markdown",
   "id": "2f1e0725",
   "metadata": {},
   "source": [
    "[ ! Attention ] It’s crucial to verify the license of the models, particularly if there’s an intention to use the obtained results for commercial purposes."
   ]
  },
  {
   "cell_type": "markdown",
   "id": "2d91d5aa",
   "metadata": {},
   "source": [
    "It’s essential to utilize these models responsibly and ethically. They should not be employed to create or disseminate illegal or harmful content. This includes, but is not limited to, content that is violent, hateful, sexually explicit, or infringes on someone’s privacy or rights."
   ]
  },
  {
   "cell_type": "markdown",
   "id": "c5a2bfb7",
   "metadata": {},
   "source": [
    "As a user, the rights to the outputs generated using the model are retained. However, accountability for how these outputs are used also lies with the user. They should not be used in a manner that breaches the terms of the license or any applicable laws or regulations."
   ]
  },
  {
   "cell_type": "markdown",
   "id": "8f7bed38",
   "metadata": {},
   "source": [
    "The model can be used commercially or as a service, and the weights can be redistributed. However, if this is done, the same use restrictions as those in the original license must be included. A copy of the CreativeML OpenRAIL-M license must also be provided to all users."
   ]
  },
  {
   "cell_type": "markdown",
   "id": "895229b3",
   "metadata": {},
   "source": [
    "(Licence of v1.4 e v1.5 https://huggingface.co/spaces/CompVis/stable-diffusion-license)"
   ]
  },
  {
   "cell_type": "markdown",
   "id": "72c55934",
   "metadata": {},
   "source": [
    "With that out of the way, let’s try out various things we can do with Stable Diffusion. Let’s get started!"
   ]
  },
  {
   "cell_type": "markdown",
   "id": "36e1a6d4",
   "metadata": {},
   "source": [
    "Note: - Some images when re-run will not be the same, even with the same seed. - Stable Diffusion is resource intensive in terms of need for GPU and large hard disk space, we may need to “disconnect and delete the runtime” and continue halfway through this notebook."
   ]
  },
  {
   "cell_type": "code",
   "execution_count": null,
   "id": "05be4fb5",
   "metadata": {},
   "outputs": [],
   "source": [
    "!nvidia-smi"
   ]
  },
  {
   "cell_type": "markdown",
   "id": "7a43364d",
   "metadata": {},
   "source": [
    "# Installing the libraries"
   ]
  },
  {
   "cell_type": "code",
   "execution_count": null,
   "id": "1b60dbe0",
   "metadata": {},
   "outputs": [],
   "source": [
    "!pip install diffusers==0.11.1\n",
    "!pip install -q accelerate transformers ftfy bitsandbytes==0.35.0 gradio natsort safetensors xformers"
   ]
  },
  {
   "cell_type": "markdown",
   "id": "f4913589",
   "metadata": {},
   "source": [
    "# Pipeline for image generation"
   ]
  },
  {
   "cell_type": "code",
   "execution_count": null,
   "id": "57b7b708",
   "metadata": {},
   "outputs": [],
   "source": [
    "import torch #PyTorch\n",
    "from diffusers import StableDiffusionPipeline"
   ]
  },
  {
   "cell_type": "code",
   "execution_count": null,
   "id": "b9387339",
   "metadata": {},
   "outputs": [],
   "source": [
    "pipe = StableDiffusionPipeline.from_pretrained(\"CompVis/stable-diffusion-v1-4\", torch_dtype=torch.float16)"
   ]
  },
  {
   "cell_type": "code",
   "execution_count": null,
   "id": "22082e59",
   "metadata": {},
   "outputs": [],
   "source": [
    "pipe = pipe.to('cuda') #We'll always use GPU, make sure your change your runtime to use GPU is you're on Collab"
   ]
  },
  {
   "cell_type": "code",
   "execution_count": null,
   "id": "fc8bbe26",
   "metadata": {},
   "outputs": [],
   "source": [
    "pipe.enable_attention_slicing()\n",
    "pipe.enable_xformers_memory_efficient_attention()"
   ]
  },
  {
   "cell_type": "markdown",
   "id": "456c2b55",
   "metadata": {},
   "source": [
    "Sometime during image generation, the image may come out all black, to avoid this we can disable safety checker."
   ]
  },
  {
   "cell_type": "code",
   "execution_count": null,
   "id": "31853f94",
   "metadata": {},
   "outputs": [],
   "source": [
    "#avoid all black images, disabling it is easy, you can do this:\n",
    "pipe.safety_checker = lambda images, clip_input: (images, False)"
   ]
  },
  {
   "cell_type": "markdown",
   "id": "f9730f5d",
   "metadata": {},
   "source": [
    "# Creating the prompt"
   ]
  },
  {
   "cell_type": "code",
   "execution_count": null,
   "id": "c57eca63",
   "metadata": {},
   "outputs": [],
   "source": [
    "prompt = 'orange cat'"
   ]
  },
  {
   "cell_type": "markdown",
   "id": "e4001f3c",
   "metadata": {},
   "source": [
    "# Generating the image"
   ]
  },
  {
   "cell_type": "code",
   "execution_count": null,
   "id": "eb8b104f",
   "metadata": {},
   "outputs": [],
   "source": [
    "img = pipe(prompt).images[0]"
   ]
  },
  {
   "cell_type": "markdown",
   "id": "781fb90f",
   "metadata": {},
   "source": [
    "# Display the image"
   ]
  },
  {
   "cell_type": "code",
   "execution_count": null,
   "id": "4e1b1111",
   "metadata": {},
   "outputs": [],
   "source": [
    "img"
   ]
  },
  {
   "cell_type": "markdown",
   "id": "86a29586",
   "metadata": {},
   "source": []
  },
  {
   "cell_type": "markdown",
   "id": "5281a437",
   "metadata": {},
   "source": [
    "# Saving the result"
   ]
  },
  {
   "cell_type": "code",
   "execution_count": null,
   "id": "ddedfff0",
   "metadata": {},
   "outputs": [],
   "source": [
    "img.save('result.png')"
   ]
  },
  {
   "cell_type": "markdown",
   "id": "a566bb4d",
   "metadata": {},
   "source": [
    "# Let’s continue our experimentation."
   ]
  },
  {
   "cell_type": "code",
   "execution_count": null,
   "id": "8e5b5134",
   "metadata": {},
   "outputs": [],
   "source": [
    "prompt = 'photograph of orange cat, realistic, full hd'\n",
    "img = pipe(prompt).images[0]\n",
    "img"
   ]
  },
  {
   "cell_type": "markdown",
   "id": "d7aef571",
   "metadata": {},
   "source": []
  },
  {
   "cell_type": "code",
   "execution_count": null,
   "id": "e85cc15f",
   "metadata": {},
   "outputs": [],
   "source": [
    "prompt = 'a photograph of orange cat'\n",
    "img = pipe(prompt).images[0]\n",
    "img"
   ]
  },
  {
   "cell_type": "markdown",
   "id": "3be66eaa",
   "metadata": {},
   "source": []
  },
  {
   "cell_type": "markdown",
   "id": "351edf46",
   "metadata": {},
   "source": [
    "# Generating multiple images"
   ]
  },
  {
   "cell_type": "code",
   "execution_count": null,
   "id": "dad71ed1",
   "metadata": {},
   "outputs": [],
   "source": [
    "from PIL import Image\n",
    "\n",
    "def grid_img(imgs, rows=1, cols=3, scale=1):\n",
    "  assert len(imgs) == rows * cols\n",
    "\n",
    "  w, h = imgs[0].size\n",
    "  w, h = int(w * scale), int(h * scale)\n",
    "\n",
    "  grid = Image.new('RGB', size = (cols * w, rows * h))\n",
    "  grid_w, grid_h = grid.size\n",
    "\n",
    "  for i, img in enumerate(imgs):\n",
    "    img = img.resize((w, h), Image.ANTIALIAS)\n",
    "    grid.paste(img, box=(i % cols * w, i // cols * h))\n",
    "  return grid"
   ]
  },
  {
   "cell_type": "code",
   "execution_count": null,
   "id": "df9b9e17",
   "metadata": {},
   "outputs": [],
   "source": [
    "num_imgs = 3\n",
    "prompt = 'photograph of orange cat'\n",
    "imgs = pipe(prompt, num_images_per_prompt=num_imgs).images\n",
    "grid = grid_img(imgs, rows=1, cols=3, scale=0.75)\n",
    "grid"
   ]
  },
  {
   "cell_type": "markdown",
   "id": "377adf9a",
   "metadata": {},
   "source": []
  },
  {
   "cell_type": "markdown",
   "id": "d687e94b",
   "metadata": {},
   "source": [
    "# Parameters"
   ]
  },
  {
   "cell_type": "markdown",
   "id": "ce2f6236",
   "metadata": {},
   "source": [
    "There are some parameters we can set"
   ]
  },
  {
   "cell_type": "markdown",
   "id": "4e491e3b",
   "metadata": {},
   "source": [
    "# Seed"
   ]
  },
  {
   "cell_type": "markdown",
   "id": "e3675664",
   "metadata": {},
   "source": [
    "We can set seed if we want to generate similar images."
   ]
  },
  {
   "cell_type": "code",
   "execution_count": null,
   "id": "e7a315a2",
   "metadata": {},
   "outputs": [],
   "source": [
    "seed = 2000\n",
    "generator = torch.Generator('cuda').manual_seed(seed)\n",
    "img = pipe(prompt, generator=generator).images[0]\n",
    "img"
   ]
  },
  {
   "cell_type": "markdown",
   "id": "8e327f46",
   "metadata": {},
   "source": []
  },
  {
   "cell_type": "code",
   "execution_count": null,
   "id": "c9175885",
   "metadata": {},
   "outputs": [],
   "source": [
    "prompt = \"photograph of orange cat\"\n",
    "seed = 2000\n",
    "generator = torch.Generator(\"cuda\").manual_seed(seed)\n",
    "imgs = pipe(prompt, num_images_per_prompt=num_imgs, generator=generator).images\n",
    "grid = grid_img(imgs, rows=1, cols=3, scale=0.75)\n",
    "grid"
   ]
  },
  {
   "cell_type": "markdown",
   "id": "15219180",
   "metadata": {},
   "source": []
  },
  {
   "cell_type": "code",
   "execution_count": null,
   "id": "c01c4d99",
   "metadata": {},
   "outputs": [],
   "source": [
    "prompt = \"van gogh painting of an orange cat\"\n",
    "generator = torch.Generator(\"cuda\").manual_seed(seed)\n",
    "imgs = pipe(prompt, num_images_per_prompt=num_imgs, generator=generator).images\n",
    "grid = grid_img(imgs, rows=1, cols=3, scale=0.75)\n",
    "grid"
   ]
  },
  {
   "cell_type": "markdown",
   "id": "5b6f9940",
   "metadata": {},
   "source": []
  },
  {
   "cell_type": "markdown",
   "id": "a0c110cf",
   "metadata": {},
   "source": [
    "# Inference steps"
   ]
  },
  {
   "cell_type": "markdown",
   "id": "4722cf34",
   "metadata": {},
   "source": [
    "Inference steps refer to the number of denoising steps to reach the final image. The default number of inference steps of 50. If you want faster results you can use a smaller number. If you want potentially higher quality results, you can use larger numbers."
   ]
  },
  {
   "cell_type": "markdown",
   "id": "797867a9",
   "metadata": {},
   "source": [
    "Let’s try out running the pipeline with less denoising steps."
   ]
  },
  {
   "cell_type": "code",
   "execution_count": null,
   "id": "60c0dac7",
   "metadata": {},
   "outputs": [],
   "source": [
    "prompt = \"photograph of orange cat, realistic, full hd\"\n",
    "generator = torch.Generator(\"cuda\").manual_seed(seed)\n",
    "img = pipe(prompt, num_inference_steps=3, generator=generator).images[0]\n",
    "img"
   ]
  },
  {
   "cell_type": "markdown",
   "id": "51336ff9",
   "metadata": {},
   "source": []
  },
  {
   "cell_type": "code",
   "execution_count": null,
   "id": "c075a60a",
   "metadata": {},
   "outputs": [],
   "source": [
    "import matplotlib.pyplot as plt\n",
    "\n",
    "plt.figure(figsize=(18,8))\n",
    "for i in range(1, 6):\n",
    "  n_steps = i * 1\n",
    "  #print(n_steps)\n",
    "  generator = torch.Generator('cuda').manual_seed(seed)\n",
    "  img = pipe(prompt, num_inference_steps=n_steps, generator=generator).images[0]\n",
    "\n",
    "  plt.subplot(1, 5, i)\n",
    "  plt.title('num_inference_steps: {}'.format(n_steps))\n",
    "  plt.imshow(img)\n",
    "  plt.axis('off')\n",
    "plt.show()"
   ]
  },
  {
   "cell_type": "markdown",
   "id": "c9f3af49",
   "metadata": {},
   "source": []
  },
  {
   "cell_type": "markdown",
   "id": "3052dea1",
   "metadata": {},
   "source": [
    "# Guidance Scale (CFG / Strength)"
   ]
  },
  {
   "cell_type": "markdown",
   "id": "cd3bca9c",
   "metadata": {},
   "source": [
    "CFG stands for Classifier-Free Guidance, so CFG scale can be referred to as Classifier-Free Guidance scale."
   ]
  },
  {
   "cell_type": "markdown",
   "id": "cd60fc68",
   "metadata": {},
   "source": [
    "So, before 2022, there was a method called classifier guidance. It’s a method that can balance between mode coverage and sample quality in diffusion models after training, similar to low-temperature sampling or truncation in other generative models. Essentially, classifier guidance is a mix between the score estimate from the diffusion model and the gradient from the image classifier. However, if we want to use it, we have to train an image classifier that’s different from the diffusion model."
   ]
  },
  {
   "cell_type": "markdown",
   "id": "7447a895",
   "metadata": {},
   "source": [
    "Then, a question arises, can we have guidance without a classifier?"
   ]
  },
  {
   "cell_type": "markdown",
   "id": "62f2ed8c",
   "metadata": {},
   "source": [
    "In 2022, Jonathan Ho and Tim Salimans from Google Brain demonstrated that we can use a pure generative model without a classifier. The title of their paper is “Classifier-Free Guidance”. They train both conditional and unconditional diffusion models together, then they combine the score estimates from both to achieve a trade-off between sample quality and diversity, similar to using classifier guidance."
   ]
  },
  {
   "cell_type": "markdown",
   "id": "aa1d6ba9",
   "metadata": {},
   "source": [
    "It’s this CFG that Stable Diffusion uses to balance between the prompt and the Stable Diffusion model. If the CFG Scale is low, the image won’t follow the prompt. But if the CFG Scale is high, the result will be a random colorful image that doesn’t resemble the prompt at all."
   ]
  },
  {
   "cell_type": "markdown",
   "id": "81247f31",
   "metadata": {},
   "source": [
    "The most suitable choice for CFG Scale is between 6.0 - 15.0. Lower values are good for photorealistic images, while higher values are suitable for a more artistic style."
   ]
  },
  {
   "cell_type": "code",
   "execution_count": null,
   "id": "c4efabf5",
   "metadata": {},
   "outputs": [],
   "source": [
    "prompt = \"a man sit in front of the door\"\n",
    "\n",
    "generator = torch.Generator(\"cuda\").manual_seed(seed)\n",
    "img = pipe(prompt, guidance_scale=7, generator=generator).images[0]\n",
    "img"
   ]
  },
  {
   "cell_type": "markdown",
   "id": "4f06d292",
   "metadata": {},
   "source": []
  },
  {
   "cell_type": "code",
   "execution_count": null,
   "id": "f416f10a",
   "metadata": {},
   "outputs": [],
   "source": [
    "plt.figure(figsize=(18,8))\n",
    "for i in range(1, 6):\n",
    "\n",
    "  n_guidance = i + 3\n",
    "  generator = torch.Generator(\"cuda\").manual_seed(seed)\n",
    "  img = pipe(prompt, guidance_scale=n_guidance, generator=generator).images[0]\n",
    "\n",
    "  plt.subplot(1,5,i)\n",
    "  plt.title('guidance_scale: {}'.format(n_guidance))\n",
    "  plt.imshow(img)\n",
    "  plt.axis('off')\n",
    "\n",
    "plt.show()"
   ]
  },
  {
   "cell_type": "markdown",
   "id": "70688192",
   "metadata": {},
   "source": []
  },
  {
   "cell_type": "markdown",
   "id": "e25d0aa0",
   "metadata": {},
   "source": [
    "# Image size (dimensions)"
   ]
  },
  {
   "cell_type": "markdown",
   "id": "507414da",
   "metadata": {},
   "source": [
    "The generated images are 512 x 512 pixels"
   ]
  },
  {
   "cell_type": "markdown",
   "id": "432baa03",
   "metadata": {},
   "source": [
    "Recommendations in case you want other dimensions:"
   ]
  },
  {
   "cell_type": "markdown",
   "id": "689f8acf",
   "metadata": {},
   "source": [
    "Landscape mode"
   ]
  },
  {
   "cell_type": "code",
   "execution_count": null,
   "id": "49852a94",
   "metadata": {},
   "outputs": [],
   "source": [
    "seed = 777\n",
    "prompt = \"photograph of orange cat\"\n",
    "generator = torch.Generator(\"cuda\").manual_seed(seed)\n",
    "h, w = 512, 512\n",
    "img = pipe(prompt, height=h, width=w, generator=generator).images[0]\n",
    "img"
   ]
  },
  {
   "cell_type": "markdown",
   "id": "9b74749e",
   "metadata": {},
   "source": []
  },
  {
   "cell_type": "markdown",
   "id": "8423aca8",
   "metadata": {},
   "source": [
    "Portrait mode"
   ]
  },
  {
   "cell_type": "code",
   "execution_count": null,
   "id": "5758c00a",
   "metadata": {},
   "outputs": [],
   "source": [
    "generator = torch.Generator(\"cuda\").manual_seed(seed)\n",
    "h, w = 768, 512\n",
    "img = pipe(prompt, height=h, width=w, generator=generator).images[0]\n",
    "img"
   ]
  },
  {
   "cell_type": "markdown",
   "id": "9d05aabf",
   "metadata": {},
   "source": []
  },
  {
   "cell_type": "markdown",
   "id": "f833ce5a",
   "metadata": {},
   "source": [
    "# Negative prompt"
   ]
  },
  {
   "cell_type": "markdown",
   "id": "47efb54f",
   "metadata": {},
   "source": [
    "We can use negative prompt to tell Stable Diffusion things we don’t want in our image."
   ]
  },
  {
   "cell_type": "code",
   "execution_count": null,
   "id": "23fa1ce1",
   "metadata": {},
   "outputs": [],
   "source": [
    "num_images = 3\n",
    "\n",
    "prompt = 'photograph of old car'\n",
    "neg_prompt = 'black white'\n",
    "\n",
    "imgs = pipe(prompt, negative_prompt = neg_prompt, num_images_per_prompt=num_images).images\n",
    "\n",
    "grid = grid_img(imgs, rows = 1, cols = 3, scale=0.75)\n",
    "grid"
   ]
  },
  {
   "cell_type": "markdown",
   "id": "d46372be",
   "metadata": {},
   "source": []
  },
  {
   "cell_type": "markdown",
   "id": "b93bce39",
   "metadata": {},
   "source": [
    "# Other models"
   ]
  },
  {
   "cell_type": "markdown",
   "id": "eb79a953",
   "metadata": {},
   "source": [
    "# SD v1.5"
   ]
  },
  {
   "cell_type": "code",
   "execution_count": null,
   "id": "20e5af6a",
   "metadata": {},
   "outputs": [],
   "source": [
    "sd15 = StableDiffusionPipeline.from_pretrained(\"runwayml/stable-diffusion-v1-5\", torch_dtype=torch.float16)\n",
    "sd15 = sd15.to('cuda')\n",
    "sd15.enable_attention_slicing()\n",
    "sd15.enable_xformers_memory_efficient_attention()"
   ]
  },
  {
   "cell_type": "code",
   "execution_count": null,
   "id": "326898d7",
   "metadata": {},
   "outputs": [],
   "source": [
    "num_imgs = 3\n",
    "\n",
    "prompt = \"photograph of an old car\"\n",
    "neg_prompt = 'black white'\n",
    "\n",
    "imgs = sd15(prompt, negative_prompt=neg_prompt, num_images_per_prompt=num_imgs).images\n",
    "\n",
    "grid = grid_img(imgs, rows=1, cols=3, scale=0.75)\n",
    "grid"
   ]
  },
  {
   "cell_type": "markdown",
   "id": "c8735a3c",
   "metadata": {},
   "source": []
  },
  {
   "cell_type": "code",
   "execution_count": null,
   "id": "60e526c7",
   "metadata": {},
   "outputs": [],
   "source": [
    "prompt = \"photo of a futuristic city on another planet, realistic, full hd\"\n",
    "neg_prompt = 'buildings'\n",
    "\n",
    "imgs = sd15(prompt, negative_prompt = neg_prompt, num_images_per_prompt=num_imgs).images\n",
    "\n",
    "grid = grid_img(imgs, rows=1, cols=3, scale=0.75)\n",
    "grid"
   ]
  },
  {
   "cell_type": "markdown",
   "id": "2bd9b591",
   "metadata": {},
   "source": [
    "# SD v2.x"
   ]
  },
  {
   "cell_type": "code",
   "execution_count": null,
   "id": "76577582",
   "metadata": {},
   "outputs": [],
   "source": [
    "sd2 = StableDiffusionPipeline.from_pretrained(\"stabilityai/stable-diffusion-2-1\", torch_dtype=torch.float16)\n",
    "sd2 = sd2.to(\"cuda\")\n",
    "sd2.enable_attention_slicing()\n",
    "sd2.enable_xformers_memory_efficient_attention()"
   ]
  },
  {
   "cell_type": "code",
   "execution_count": null,
   "id": "60191c05",
   "metadata": {},
   "outputs": [],
   "source": [
    "prompt = \"photograph of an old car\"\n",
    "neg_prompt = 'black white'\n",
    "\n",
    "\n",
    "imgs = sd2(prompt, negative_prompt=neg_prompt, num_images_per_prompt=num_imgs).images\n",
    "\n",
    "grid = grid_img(imgs, rows=1, cols=3, scale=0.75)\n",
    "grid"
   ]
  },
  {
   "cell_type": "markdown",
   "id": "eadbdebb",
   "metadata": {},
   "source": []
  },
  {
   "cell_type": "markdown",
   "id": "1d6b0445",
   "metadata": {},
   "source": [
    "# Fine-tuned models with specific styles"
   ]
  },
  {
   "cell_type": "markdown",
   "id": "2092be65",
   "metadata": {},
   "source": [
    "Mo-di-diffusion (Modern Disney style)"
   ]
  },
  {
   "cell_type": "markdown",
   "id": "396cfe8c",
   "metadata": {},
   "source": [
    "https://huggingface.co/nitrosocke/mo-di-diffusion"
   ]
  },
  {
   "cell_type": "code",
   "execution_count": null,
   "id": "7ec8ea27",
   "metadata": {},
   "outputs": [],
   "source": [
    "modi = StableDiffusionPipeline.from_pretrained(\"nitrosocke/mo-di-diffusion\", torch_dtype=torch.float16)\n",
    "modi = modi.to(\"cuda\")\n",
    "modi.enable_attention_slicing()\n",
    "modi.enable_xformers_memory_efficient_attention()"
   ]
  },
  {
   "cell_type": "code",
   "execution_count": null,
   "id": "023a7fe4",
   "metadata": {},
   "outputs": [],
   "source": [
    "prompt = \"a photograph of an astronaut riding a horse, modern disney style\"\n",
    "\n",
    "seed = 777\n",
    "generator = torch.Generator(\"cuda\").manual_seed(seed)\n",
    "\n",
    "imgs = modi(prompt, generator=generator, num_images_per_prompt=num_imgs).images\n",
    "\n",
    "grid = grid_img(imgs, rows=1, cols=3, scale=0.75)\n",
    "grid"
   ]
  },
  {
   "cell_type": "code",
   "execution_count": null,
   "id": "a1bc9d1d",
   "metadata": {},
   "outputs": [],
   "source": [
    "prompt = \"orange cat, modern disney style\"\n",
    "\n",
    "generator = torch.Generator(\"cuda\").manual_seed(seed)\n",
    "imgs = modi(prompt, generator=generator, num_images_per_prompt=3).images\n",
    "\n",
    "grid = grid_img(imgs, rows=1, cols=3, scale=0.5)\n",
    "grid"
   ]
  },
  {
   "cell_type": "code",
   "execution_count": null,
   "id": "253dcbcb",
   "metadata": {},
   "outputs": [],
   "source": [
    "prompt = [\"albert einstein, modern disney style\",\n",
    "          \"modern disney style old chevette driving in the desert, golden hour\",\n",
    "          \"modern disney style delorean\"]\n",
    "\n",
    "seed = 777\n",
    "print(\"Seed: \".format(str(seed)))\n",
    "generator = torch.Generator(\"cuda\").manual_seed(seed)\n",
    "imgs = modi(prompt, generator=generator).images\n",
    "\n",
    "grid = grid_img(imgs, rows=1, cols=3, scale=0.75)\n",
    "grid"
   ]
  },
  {
   "cell_type": "markdown",
   "id": "1cdf9f5e",
   "metadata": {},
   "source": [
    "# Other models"
   ]
  },
  {
   "cell_type": "markdown",
   "id": "b562623a",
   "metadata": {},
   "source": [
    "Classic Disney Style - https://huggingface.co/nitrosocke/classic-anim-diffusion"
   ]
  },
  {
   "cell_type": "markdown",
   "id": "6b32234c",
   "metadata": {},
   "source": [
    "High resolution 3D animation - https://huggingface.co/nitrosocke/redshift-diffusion"
   ]
  },
  {
   "cell_type": "markdown",
   "id": "4c214e01",
   "metadata": {},
   "source": [
    "Futuristic images - https://huggingface.co/nitrosocke/Future-Diffusion"
   ]
  },
  {
   "cell_type": "markdown",
   "id": "30e5233f",
   "metadata": {},
   "source": [
    "Other animation styles:"
   ]
  },
  {
   "cell_type": "markdown",
   "id": "ab21e6d9",
   "metadata": {},
   "source": [
    "https://huggingface.co/nitrosocke/Ghibli-Diffusion"
   ]
  },
  {
   "cell_type": "markdown",
   "id": "c1131f31",
   "metadata": {},
   "source": [
    "https://huggingface.co/nitrosocke/spider-verse-diffusion"
   ]
  },
  {
   "cell_type": "markdown",
   "id": "bce95c6c",
   "metadata": {},
   "source": [
    "more models https://huggingface.co/models?other=stable-diffusion-diffusers"
   ]
  },
  {
   "cell_type": "markdown",
   "id": "8dad0197",
   "metadata": {},
   "source": [
    "# Changing the scheduler (sampler)"
   ]
  },
  {
   "cell_type": "markdown",
   "id": "3d2c6341",
   "metadata": {},
   "source": [
    "We can also change the scheduler for our Stable Diffusion."
   ]
  },
  {
   "cell_type": "markdown",
   "id": "70cc0897",
   "metadata": {},
   "source": [
    "Default is PNDMScheduler."
   ]
  },
  {
   "cell_type": "code",
   "execution_count": null,
   "id": "729f074f",
   "metadata": {},
   "outputs": [],
   "source": [
    "sd15 = StableDiffusionPipeline.from_pretrained(\"runwayml/stable-diffusion-v1-5\", torch_dtype=torch.float16)\n",
    "sd15 = sd15.to(\"cuda\")\n",
    "sd15.enable_attention_slicing()\n",
    "sd15.enable_xformers_memory_efficient_attention()"
   ]
  },
  {
   "cell_type": "code",
   "execution_count": null,
   "id": "9a0d5384",
   "metadata": {},
   "outputs": [],
   "source": [
    "sd15.scheduler"
   ]
  },
  {
   "cell_type": "code",
   "execution_count": null,
   "id": "23763b6a",
   "metadata": {},
   "outputs": [],
   "source": [
    "seed = 777\n",
    "prompt = \"a photo of a orange cat wearing sunglasses, on the beach, ocean in the background\"\n",
    "generator = torch.Generator('cuda').manual_seed(seed)\n",
    "img = sd15(prompt, generator=generator).images[0]\n",
    "img"
   ]
  },
  {
   "cell_type": "code",
   "execution_count": null,
   "id": "acf5c4f3",
   "metadata": {},
   "outputs": [],
   "source": [
    "sd15.scheduler.compatibles"
   ]
  },
  {
   "cell_type": "code",
   "execution_count": null,
   "id": "7fda78cb",
   "metadata": {},
   "outputs": [],
   "source": [
    "sd15.scheduler.config"
   ]
  },
  {
   "cell_type": "code",
   "execution_count": null,
   "id": "e1f8e645",
   "metadata": {},
   "outputs": [],
   "source": [
    "from diffusers import DDIMScheduler\n",
    "sd15.scheduler = DDIMScheduler.from_config(sd15.scheduler.config)"
   ]
  },
  {
   "cell_type": "code",
   "execution_count": null,
   "id": "80f85861",
   "metadata": {},
   "outputs": [],
   "source": [
    "generator = torch.Generator(device = 'cuda').manual_seed(seed)\n",
    "img = sd15(prompt, generator=generator).images[0]\n",
    "img"
   ]
  },
  {
   "cell_type": "code",
   "execution_count": null,
   "id": "8879b922",
   "metadata": {},
   "outputs": [],
   "source": [
    "from diffusers import LMSDiscreteScheduler\n",
    "sd15.scheduler = LMSDiscreteScheduler.from_config(sd15.scheduler.config)\n",
    "generator = torch.Generator(device = 'cuda').manual_seed(seed)\n",
    "img = sd15(prompt, num_inference_steps = 60, generator=generator).images[0]\n",
    "img"
   ]
  },
  {
   "cell_type": "code",
   "execution_count": null,
   "id": "8aab6519",
   "metadata": {},
   "outputs": [],
   "source": [
    "from diffusers import EulerAncestralDiscreteScheduler\n",
    "\n",
    "sd15.scheduler = EulerAncestralDiscreteScheduler.from_config(pipe.scheduler.config)\n",
    "\n",
    "generator = torch.Generator(device=\"cuda\").manual_seed(seed)\n",
    "img = sd15(prompt, generator=generator, num_inference_steps=50).images[0]\n",
    "img"
   ]
  },
  {
   "cell_type": "code",
   "execution_count": null,
   "id": "ac64fa00",
   "metadata": {},
   "outputs": [],
   "source": [
    "from diffusers import EulerDiscreteScheduler\n",
    "\n",
    "sd15.scheduler = EulerDiscreteScheduler.from_config(pipe.scheduler.config)\n",
    "\n",
    "generator = torch.Generator(device=\"cuda\").manual_seed(seed)\n",
    "img = sd15(prompt, generator=generator, num_inference_steps=50).images[0]\n",
    "img"
   ]
  }
 ],
 "metadata": {},
 "nbformat": 4,
 "nbformat_minor": 5
}
