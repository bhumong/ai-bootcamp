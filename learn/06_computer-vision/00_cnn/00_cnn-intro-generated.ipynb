{
 "cells": [
  {
   "cell_type": "markdown",
   "id": "cb6d296f",
   "metadata": {},
   "source": [
    "source: [link](https://ai-bootcamp.ruangguru.com/learn/06_computer-vision/00_cnn/00_cnn-intro.html)"
   ]
  },
  {
   "cell_type": "markdown",
   "id": "0829d10c",
   "metadata": {},
   "source": [
    "# Computer Vision"
   ]
  },
  {
   "cell_type": "markdown",
   "id": "c38e4c79",
   "metadata": {},
   "source": []
  },
  {
   "cell_type": "markdown",
   "id": "159a0938",
   "metadata": {},
   "source": [
    "![Image](https://storage.googleapis.com/rg-ai-bootcamp/cnn/computer-vision-leo.png)"
   ]
  },
  {
   "cell_type": "markdown",
   "id": "6f2e7da5",
   "metadata": {},
   "source": [
    "Source: TED Talk"
   ]
  },
  {
   "cell_type": "markdown",
   "id": "aa66f4fd",
   "metadata": {},
   "source": [
    "Computers are very good at being consistent and processing numbers. But they’re blind, sure they can show images for us in our monitor, but it cannot directly interact with us like human-to-human interaction. Like giving us feedback or help us monitor our CCTV feed and let us know if something is suspicious. That’s because until the recent age of AI, computers are blind. There are attempts to emulate vision, which is what the field Computer Vision is. Let’s start with how we see the world."
   ]
  },
  {
   "cell_type": "markdown",
   "id": "6c22a037",
   "metadata": {},
   "source": [
    "# How humans see the world"
   ]
  },
  {
   "cell_type": "markdown",
   "id": "d06d2e68",
   "metadata": {},
   "source": [
    "Have you ever think about what’s happening when we see with our eyes ? Look around and what do you see ? A chair, a table, a computer, a smartphone and many others. How do we know that object is indeed a chair or A table ?"
   ]
  },
  {
   "cell_type": "markdown",
   "id": "a8f879ca",
   "metadata": {},
   "source": [
    "If we think about it, back when we were younger, our parents or other people would point out an object and call out it’s name. Sometimes it’s explicit, for example “that’s a green apple”. Sometimes it’s implicit, “let’s sit at the chair over there”. We will then observe the object, take notes and give it an appropriate label. So we identify an object and give it a label."
   ]
  },
  {
   "cell_type": "markdown",
   "id": "ff754472",
   "metadata": {},
   "source": [
    "# How do computers see the world ?"
   ]
  },
  {
   "cell_type": "markdown",
   "id": "b91a4015",
   "metadata": {},
   "source": [
    "The story began back in 1959 where a group of neurophysiologists showed a cat an array of images, attempting to correlate a response in its brain. They discovered that it responded first to hard edges or lines, and scientifically, this meant that image processing starts with simple shapes like straight or curved edges, not objects. Interesting isn’t it ?"
   ]
  },
  {
   "cell_type": "markdown",
   "id": "8d90141b",
   "metadata": {},
   "source": [
    "# How Computer Vision works"
   ]
  },
  {
   "cell_type": "markdown",
   "id": "04800e05",
   "metadata": {},
   "source": [
    "Which one is correct ? Well, apparently both of them, the field of computer vision does follow how our brain works, so we also start with the edges before the object, but it’s happening so fast that we don’t even think about it anymore."
   ]
  },
  {
   "cell_type": "markdown",
   "id": "bbb49c86",
   "metadata": {},
   "source": [
    "In any case, we are not going to discuss how our brain works in relation to computers, we are here to learn about the application of computer vision to enable computers to see."
   ]
  },
  {
   "cell_type": "markdown",
   "id": "931fabbe",
   "metadata": {},
   "source": [
    "Two essential technologies are used to accomplish this: - A type of machine learning called deep learning, which we already covered earlier - A convolutional neural network (CNN), which we are going to learn next"
   ]
  },
  {
   "cell_type": "markdown",
   "id": "3c10c12b",
   "metadata": {},
   "source": [
    "# Convolutional Neural Network (CNN)"
   ]
  },
  {
   "cell_type": "markdown",
   "id": "9c8c22d2",
   "metadata": {},
   "source": [
    "A Convolutional Neural Network (CNN) is a type of artificial neural network (ANN), that was designed for image recognition using a special type of layer, aptly named a convolutional layer, and has proven very effective to learn from image and image-like data. Regarding image data, CNNs can be used for many different computer vision tasks, such as image processing, classification, segmentation, and object detection."
   ]
  },
  {
   "cell_type": "markdown",
   "id": "8b699365",
   "metadata": {},
   "source": [
    "In total, there are three main types of CNN layers:"
   ]
  },
  {
   "cell_type": "markdown",
   "id": "0d9d26e6",
   "metadata": {},
   "source": [
    "- Convolutional layer\n",
    "- Pooling layer\n",
    "- Fully-connected (FC) layer"
   ]
  },
  {
   "cell_type": "markdown",
   "id": "05a4cf03",
   "metadata": {},
   "source": []
  },
  {
   "cell_type": "markdown",
   "id": "00cb9459",
   "metadata": {},
   "source": [
    "![Image](https://storage.googleapis.com/rg-ai-bootcamp/cnn/convnet-layers.png)"
   ]
  },
  {
   "cell_type": "markdown",
   "id": "919af061",
   "metadata": {},
   "source": [
    "Source: Research Gate"
   ]
  },
  {
   "cell_type": "markdown",
   "id": "06c85dd8",
   "metadata": {},
   "source": [
    "From the picture above, the input image goes through the convolution process in the convolution layer and the output is a feature map. The feature map then went through subsampling in the Pooling layer (subsampling layer) which effectively reduces the size by half, and so on, until it reaches the final layer which is a fully connected layer where the input is processed to return a probability between 0 and 1. With each layer, the CNN increases in its complexity, identifying greater portions of the image. Earlier layers focus on simple features, such as colors and edges. As the image data progresses through the layers of the CNN, it starts to recognize larger elements or shapes of the object until it finally identifies the intended object."
   ]
  },
  {
   "cell_type": "markdown",
   "id": "16bbfc9f",
   "metadata": {},
   "source": [
    "> Note: ANN is actually the same Neural Network that we learn earlier, so we’ll use the term Neural Network or NN going forward."
   ]
  },
  {
   "cell_type": "markdown",
   "id": "cfcd23bf",
   "metadata": {},
   "source": [
    "Note: ANN is actually the same Neural Network that we learn earlier, so we’ll use the term Neural Network or NN going forward."
   ]
  },
  {
   "cell_type": "markdown",
   "id": "5ae5a05c",
   "metadata": {},
   "source": [
    "# Application of Computer Vision"
   ]
  },
  {
   "cell_type": "markdown",
   "id": "9829ae14",
   "metadata": {},
   "source": [
    "Source: AI Index Stanford"
   ]
  },
  {
   "cell_type": "markdown",
   "id": "77a658a8",
   "metadata": {},
   "source": []
  },
  {
   "cell_type": "markdown",
   "id": "212c922f",
   "metadata": {},
   "source": [
    "![Image](https://storage.googleapis.com/rg-ai-bootcamp/cnn/face-detection.png)"
   ]
  },
  {
   "cell_type": "markdown",
   "id": "20abfec9",
   "metadata": {},
   "source": []
  },
  {
   "cell_type": "markdown",
   "id": "d9c1382d",
   "metadata": {},
   "source": [
    "![Image](https://storage.googleapis.com/rg-ai-bootcamp/cnn/human-pose-estimation.png)"
   ]
  },
  {
   "cell_type": "markdown",
   "id": "e27b6b71",
   "metadata": {},
   "source": []
  },
  {
   "cell_type": "markdown",
   "id": "79e9a0db",
   "metadata": {},
   "source": [
    "![Image](https://storage.googleapis.com/rg-ai-bootcamp/cnn/semantic-segmentation.png)"
   ]
  },
  {
   "cell_type": "markdown",
   "id": "bc4949c7",
   "metadata": {},
   "source": []
  },
  {
   "cell_type": "markdown",
   "id": "f102da99",
   "metadata": {},
   "source": [
    "![Image](https://storage.googleapis.com/rg-ai-bootcamp/cnn/medical-image-segmentation.png)"
   ]
  },
  {
   "cell_type": "markdown",
   "id": "2049a733",
   "metadata": {},
   "source": []
  },
  {
   "cell_type": "markdown",
   "id": "d7ea82a9",
   "metadata": {},
   "source": [
    "![Image](https://storage.googleapis.com/rg-ai-bootcamp/cnn/object-detection.png)"
   ]
  },
  {
   "cell_type": "markdown",
   "id": "e45aa533",
   "metadata": {},
   "source": []
  },
  {
   "cell_type": "markdown",
   "id": "22a96a3d",
   "metadata": {},
   "source": [
    "![Image](https://storage.googleapis.com/rg-ai-bootcamp/cnn/which-face-is-real.png)"
   ]
  },
  {
   "cell_type": "markdown",
   "id": "5b1e97db",
   "metadata": {},
   "source": [
    "Source: MIT 6.S191: Convolutional Neural Networks"
   ]
  },
  {
   "cell_type": "markdown",
   "id": "ca41fda4",
   "metadata": {},
   "source": []
  },
  {
   "cell_type": "markdown",
   "id": "1ebfdbc0",
   "metadata": {},
   "source": [
    "![Image](https://storage.googleapis.com/rg-ai-bootcamp/cnn/self-driving-car.png)"
   ]
  }
 ],
 "metadata": {},
 "nbformat": 4,
 "nbformat_minor": 5
}
