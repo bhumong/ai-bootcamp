{
 "cells": [
  {
   "cell_type": "markdown",
   "id": "966bef42",
   "metadata": {},
   "source": [
    "source: [link](https://ai-bootcamp.ruangguru.com/learn/06_computer-vision/00_cnn/08_object-detection.html)"
   ]
  },
  {
   "cell_type": "markdown",
   "id": "ae8d91bf",
   "metadata": {},
   "source": [
    "# Applied CNN: Object Detection and YOLO in Action"
   ]
  },
  {
   "cell_type": "markdown",
   "id": "4de52366",
   "metadata": {},
   "source": [
    "# Object Detection"
   ]
  },
  {
   "cell_type": "markdown",
   "id": "7488d600",
   "metadata": {},
   "source": [
    "In the real world, an image can have multiple objects, our previous CNN model can only detect one object. In this section, we will learn how to detect multiple objects in an image."
   ]
  },
  {
   "cell_type": "markdown",
   "id": "dfc0677a",
   "metadata": {},
   "source": []
  },
  {
   "cell_type": "markdown",
   "id": "b68547be",
   "metadata": {},
   "source": [
    "![Image](https://littleml.files.wordpress.com/2022/06/screen-shot-2022-06-05-at-11.41.49-am.png)"
   ]
  },
  {
   "cell_type": "markdown",
   "id": "90acccd1",
   "metadata": {},
   "source": [
    "Image source"
   ]
  },
  {
   "cell_type": "markdown",
   "id": "0e4625db",
   "metadata": {},
   "source": [
    "Object detection involves identifying and locating objects of interest within an image or a video. Above, in the left image, truck and car are identified, which is image classification. The image on the right illustrates object detection by surrounding the members of each class — cars and trucks — with a bounding box and showing the correct labels."
   ]
  },
  {
   "cell_type": "markdown",
   "id": "2f355c0b",
   "metadata": {},
   "source": [
    "# Object localization"
   ]
  },
  {
   "cell_type": "markdown",
   "id": "fe6dc33c",
   "metadata": {},
   "source": [
    "The bounding box is called object localization. We already learn about the image classification task where an algorithm looks a picture and gives an output saying this is a car. The problem of classification with localization is not only do you have to label this as, say, a car but the algorithm also is responsible for put a bounding box or drawing a red rectangle around the position of the car in the image, where the term localization refers to figuring out where in the picture is the car you detected."
   ]
  },
  {
   "cell_type": "markdown",
   "id": "c78336e4",
   "metadata": {},
   "source": [
    "Let’s try the following image:"
   ]
  },
  {
   "cell_type": "markdown",
   "id": "6176f654",
   "metadata": {},
   "source": []
  },
  {
   "cell_type": "markdown",
   "id": "9fdd1dcd",
   "metadata": {},
   "source": [
    "![Image](https://storage.googleapis.com/rg-ai-bootcamp/cnn/cars.jpeg)"
   ]
  },
  {
   "cell_type": "markdown",
   "id": "7d2cf8ed",
   "metadata": {},
   "source": [
    "To add bounding box, we can use the following CLI command (don’t worry, we will learn how to do it in Python later):"
   ]
  },
  {
   "cell_type": "code",
   "execution_count": null,
   "id": "155ab4fc",
   "metadata": {},
   "outputs": [],
   "source": [
    "!yolo predict model=yolov8s.pt source=\"./assets/cars.jpeg\""
   ]
  },
  {
   "cell_type": "markdown",
   "id": "6a43f71d",
   "metadata": {},
   "source": [
    "Voila! We have successfully added bounding boxes to the cars in the image."
   ]
  },
  {
   "cell_type": "markdown",
   "id": "4474cec6",
   "metadata": {},
   "source": []
  },
  {
   "cell_type": "markdown",
   "id": "a532741d",
   "metadata": {},
   "source": [
    "![Image](https://storage.googleapis.com/rg-ai-bootcamp/cnn/cars-yolo.jpeg)"
   ]
  },
  {
   "cell_type": "markdown",
   "id": "15c1326e",
   "metadata": {},
   "source": [
    "We can say here that the bounding box is basically a set of coordinates that forms around the object that identify closely with a label."
   ]
  },
  {
   "cell_type": "markdown",
   "id": "2671ef4c",
   "metadata": {},
   "source": [
    "We also know that if we we define the model to be able to detect 10 classes, we’ll have an output containing the 10 classes with percentage of each class."
   ]
  },
  {
   "cell_type": "markdown",
   "id": "f9a97f0f",
   "metadata": {},
   "source": [
    "If we add them up together, then, for object localization, the output will not only contain class probabilities for the detected objects but also bounding box coordinates that specify the location of each detected object within the image. This allows the model to not only classify objects into predefined classes but also localize and outline their positions using bounding boxes."
   ]
  },
  {
   "cell_type": "markdown",
   "id": "2ce1fbd5",
   "metadata": {},
   "source": [
    "The question is how we do that ?"
   ]
  },
  {
   "cell_type": "markdown",
   "id": "2db2c422",
   "metadata": {},
   "source": [
    "# Building Bounding Box"
   ]
  },
  {
   "cell_type": "markdown",
   "id": "da085df7",
   "metadata": {},
   "source": [
    "In the previous section, we have learned how to build a CNN model for image classification."
   ]
  },
  {
   "cell_type": "markdown",
   "id": "8a938b63",
   "metadata": {},
   "source": [
    "In the case of image classification, the model output is"
   ]
  },
  {
   "cell_type": "markdown",
   "id": "f3611a73",
   "metadata": {},
   "source": [
    "\\[\n",
    "\\hat{y} = \\begin{bmatrix} p_1 \\\\ p_2 \\\\ p_3 \\end{bmatrix}\n",
    "\\]"
   ]
  },
  {
   "cell_type": "markdown",
   "id": "83b50132",
   "metadata": {},
   "source": [
    "where \\(\\hat{y}\\) is the predicted class probabilities for the three classes. Then we can use the argmax function to get the class with the highest probability."
   ]
  },
  {
   "cell_type": "markdown",
   "id": "d9090e18",
   "metadata": {},
   "source": [
    "However, in the context of object detection, we need to add bounding box coordinates to the output. We need to add four more elements to the output vector to represent the bounding box coordinates."
   ]
  },
  {
   "cell_type": "markdown",
   "id": "b3f419e8",
   "metadata": {},
   "source": [
    "\\[\n",
    "\\hat{y} = \\begin{bmatrix} x \\\\ y \\\\ w \\\\ h \\\\ p_1 \\\\ p_2 \\\\ p_3 \\end{bmatrix}\n",
    "\\]"
   ]
  },
  {
   "cell_type": "markdown",
   "id": "88428f6c",
   "metadata": {},
   "source": [
    "Where \\(x\\) and \\(y\\) are the coordinates of the center of the bounding box, \\(w\\) and \\(h\\) are the width and height of the bounding box"
   ]
  },
  {
   "cell_type": "markdown",
   "id": "0e30f707",
   "metadata": {},
   "source": [
    "# Empty Bounding Box"
   ]
  },
  {
   "cell_type": "markdown",
   "id": "adbeec61",
   "metadata": {},
   "source": [
    "But what if there is no object in the image?"
   ]
  },
  {
   "cell_type": "markdown",
   "id": "a6718a32",
   "metadata": {},
   "source": [
    "To represent empty box, we can add a new output element to indicate the probability of the image containing an object."
   ]
  },
  {
   "cell_type": "markdown",
   "id": "1871f302",
   "metadata": {},
   "source": [
    "\\[\n",
    "\\hat{y} = \\begin{bmatrix} confidence \\\\ x \\\\ y \\\\ w \\\\ h \\\\ p_1 \\\\ p_2 \\\\ p_3 \\end{bmatrix}\n",
    "\\]"
   ]
  },
  {
   "cell_type": "markdown",
   "id": "7a1e8906",
   "metadata": {},
   "source": [
    "Where \\(confidence\\) is the probability of the image containing an object."
   ]
  },
  {
   "cell_type": "markdown",
   "id": "a0559de7",
   "metadata": {},
   "source": [
    "Note that it differs from \\(p_1\\), \\(p_2\\), and \\(p_3\\), which are the probabilities of the image containing a car, a truck, and a motorcycle, respectively."
   ]
  },
  {
   "cell_type": "markdown",
   "id": "8166f640",
   "metadata": {},
   "source": [
    "Example:"
   ]
  },
  {
   "cell_type": "markdown",
   "id": "6cef62ac",
   "metadata": {},
   "source": [
    "\\[\n",
    "\\hat{y} = \\begin{bmatrix} 0.9 \\\\ 200 \\\\ 300 \\\\ 20 \\\\ 30 \\\\ 0.1 \\\\ 0.1 \\\\ 0.8 \\end{bmatrix}\n",
    "\\]"
   ]
  },
  {
   "cell_type": "markdown",
   "id": "24d11e5a",
   "metadata": {},
   "source": [
    "It means that the model predict 0.9 probability that the image contains an object, and the object is a car with 0.1 probability, a truck with 0.1 probability, and a motorcycle with 0.8 probability. The bounding box is located at (200, 300) with width 20 and height 30."
   ]
  },
  {
   "cell_type": "markdown",
   "id": "7a7cd8b9",
   "metadata": {},
   "source": [
    "Another example:"
   ]
  },
  {
   "cell_type": "markdown",
   "id": "f82d4195",
   "metadata": {},
   "source": [
    "\\[\n",
    "\\hat{y} = \\begin{bmatrix} 0 \\\\ 0 \\\\ 0 \\\\ 0 \\\\ 0 \\\\ 0.1 \\\\ 0.1 \\\\ 0.8 \\end{bmatrix}\n",
    "\\]"
   ]
  },
  {
   "cell_type": "markdown",
   "id": "440074fa",
   "metadata": {},
   "source": [
    "The model predicts 0 probability that the image contains an object. We can forget the remaining elements because they are not relevant."
   ]
  },
  {
   "cell_type": "markdown",
   "id": "92107ae6",
   "metadata": {},
   "source": [
    "# Sliding Window"
   ]
  },
  {
   "cell_type": "markdown",
   "id": "7eceac58",
   "metadata": {},
   "source": [
    "Now that we have found a way to define a bounding box in our model, next let’s think about how we’ll implement object detection."
   ]
  },
  {
   "cell_type": "markdown",
   "id": "7ac45b48",
   "metadata": {},
   "source": [
    "From our own logic, once we define a bounding box, the easiest and fastest way to detect the object is to simply test the box on the image, much like how a convolution or pooling works in CNN, except we don’t do any calculation, but we take the image inside the box and check if the object exists inside the box. Then move on to the next pixel. Let’s call this a sliding window."
   ]
  },
  {
   "cell_type": "markdown",
   "id": "476c3114",
   "metadata": {},
   "source": [
    "After 1 pass through the image and we did not find anything, we then change the size of the bounding box and try again. Rinse and repeat."
   ]
  },
  {
   "cell_type": "markdown",
   "id": "7e5cabc9",
   "metadata": {},
   "source": []
  },
  {
   "cell_type": "markdown",
   "id": "652bde0b",
   "metadata": {},
   "source": [
    "![Image](https://storage.googleapis.com/rg-ai-bootcamp/cnn/sliding-window.png)"
   ]
  },
  {
   "cell_type": "markdown",
   "id": "2a23fe60",
   "metadata": {},
   "source": [
    "Image source"
   ]
  },
  {
   "cell_type": "markdown",
   "id": "9470b015",
   "metadata": {},
   "source": [
    "The above algorithm surely is not efficient. But there is a way to make it more efficient."
   ]
  },
  {
   "cell_type": "markdown",
   "id": "04d778e2",
   "metadata": {},
   "source": [
    "Remember the convolution operation in CNN? It is basically a sliding window with a kernel. The kernel is a matrix of weights that we multiply with the image pixels. The kernel is then moved to the next pixel and the process is repeated."
   ]
  },
  {
   "cell_type": "markdown",
   "id": "3fcb24e9",
   "metadata": {},
   "source": [
    "It turns out that we can implement the sliding window algorithm using convolution. However, the detail is beyond the scope of this course."
   ]
  },
  {
   "cell_type": "markdown",
   "id": "45caf6b7",
   "metadata": {},
   "source": [
    "# YOLO Algorithm"
   ]
  },
  {
   "cell_type": "markdown",
   "id": "a8296b41",
   "metadata": {},
   "source": []
  },
  {
   "cell_type": "markdown",
   "id": "351bbdf8",
   "metadata": {},
   "source": [
    "![Image](https://storage.googleapis.com/rg-ai-bootcamp/cnn/yolo5.gif)"
   ]
  },
  {
   "cell_type": "markdown",
   "id": "9ea28085",
   "metadata": {},
   "source": [
    "Image source"
   ]
  },
  {
   "cell_type": "markdown",
   "id": "0113060a",
   "metadata": {},
   "source": [
    "YOLO, short for “You Only Look Once,” is a popular object detection algorithm known for its efficiency and real-time performance. It excels at swiftly detecting and localizing objects within images or video frames, making it valuable for various applications, including autonomous driving, surveillance, and computer vision tasks. YOLO’s fame stems from its unique approach of dividing images into grids and simultaneously predicting bounding boxes and class probabilities within each grid cell. This one-pass design makes it exceptionally fast and suitable for real-time tasks. While YOLO is versatile and widely used, it may not be ideal for scenarios involving small objects, extreme size variations, or very high localization precision requirements, and it typically demands substantial training data for optimal performance."
   ]
  },
  {
   "cell_type": "markdown",
   "id": "02c8dd1f",
   "metadata": {},
   "source": [
    "# How does Yolo works ?"
   ]
  },
  {
   "cell_type": "markdown",
   "id": "c3aff65d",
   "metadata": {},
   "source": [
    "Souce: MLForNerds"
   ]
  },
  {
   "cell_type": "markdown",
   "id": "0830cd2c",
   "metadata": {},
   "source": [
    "This is based on YOLOv1, the original YOLO paper."
   ]
  },
  {
   "cell_type": "markdown",
   "id": "486ae668",
   "metadata": {},
   "source": [
    "# Smaller Grid"
   ]
  },
  {
   "cell_type": "markdown",
   "id": "d12e029b",
   "metadata": {},
   "source": []
  },
  {
   "cell_type": "markdown",
   "id": "0d352ead",
   "metadata": {},
   "source": [
    "![Image](https://storage.googleapis.com/rg-ai-bootcamp/cnn/yolo-step-1.png)"
   ]
  },
  {
   "cell_type": "markdown",
   "id": "2e0873be",
   "metadata": {},
   "source": [
    "First the original image is divided into $ S x S $ grid cells of equal size. Each cell in the grid will predict the class of the object inside the cell, if there is one."
   ]
  },
  {
   "cell_type": "markdown",
   "id": "0490ca02",
   "metadata": {},
   "source": [
    "# Bounding Box Definition"
   ]
  },
  {
   "cell_type": "markdown",
   "id": "87c8216b",
   "metadata": {},
   "source": []
  },
  {
   "cell_type": "markdown",
   "id": "d7bbed36",
   "metadata": {},
   "source": [
    "![Image](https://storage.googleapis.com/rg-ai-bootcamp/cnn/yolo-step-2.png)"
   ]
  },
  {
   "cell_type": "markdown",
   "id": "ea579190",
   "metadata": {},
   "source": [
    "Inside the cell, we will predict the bounding box coordinates. One cell predicts 2 bounding boxes. The bounding box is defined by the center of the box, width, and height."
   ]
  },
  {
   "cell_type": "markdown",
   "id": "d5bd4f38",
   "metadata": {},
   "source": [
    "So in the above picture, the red dot is the center of the red box, the blue dot is the center of the blue box"
   ]
  },
  {
   "cell_type": "markdown",
   "id": "804061e3",
   "metadata": {},
   "source": [
    "# Bounding Box Encoding"
   ]
  },
  {
   "cell_type": "markdown",
   "id": "80cea01c",
   "metadata": {},
   "source": [
    "The bounding box is encoded as follow:"
   ]
  },
  {
   "cell_type": "markdown",
   "id": "bb27c5f7",
   "metadata": {},
   "source": [
    "\\(x\\) and \\(y\\) are calculated relative to the cell top-left corner (anchor) and normalized by the cell width and height."
   ]
  },
  {
   "cell_type": "markdown",
   "id": "31d6bc72",
   "metadata": {},
   "source": [
    "\\[\n",
    "x = \\frac{x_{center} - x_{anchor}}{cell\\_width} \\\\\n",
    "y = \\frac{y_{center} - y_{anchor}}{cell\\_height}\n",
    "\\]"
   ]
  },
  {
   "cell_type": "markdown",
   "id": "24adb80e",
   "metadata": {},
   "source": [
    "and \\(w\\) and \\(h\\) are calculated relative to the whole image width and height."
   ]
  },
  {
   "cell_type": "markdown",
   "id": "10506a7f",
   "metadata": {},
   "source": [
    "\\[\n",
    "w = \\frac{w_{box}}{image\\_width} \\\\\n",
    "h = \\frac{h_{box}}{image\\_height}\n",
    "\\]"
   ]
  },
  {
   "cell_type": "markdown",
   "id": "7e23f663",
   "metadata": {},
   "source": [
    "# Data representation"
   ]
  },
  {
   "cell_type": "markdown",
   "id": "ea997b4a",
   "metadata": {},
   "source": [
    "In previous section, we model the data as follow:"
   ]
  },
  {
   "cell_type": "markdown",
   "id": "e5e78a46",
   "metadata": {},
   "source": [
    "\\[\n",
    "\\hat{y} = \\begin{bmatrix} confidence \\\\ x \\\\ y \\\\ w \\\\ h \\\\ p_1 \\\\ p_2 \\\\ p_3 \\end{bmatrix}\n",
    "\\]"
   ]
  },
  {
   "cell_type": "markdown",
   "id": "0c44d03e",
   "metadata": {},
   "source": [
    "In YOLO - since we have multiple grids - we model the data as follow:"
   ]
  },
  {
   "cell_type": "markdown",
   "id": "e5ffeaba",
   "metadata": {},
   "source": [
    "\\[\n",
    "\\hat{y} = \\begin{bmatrix} confidence \\\\ x \\\\ y \\\\ w \\\\ h \\\\ confidence \\\\ x \\\\ y \\\\ w \\\\ h \\\\ ... \\\\ p_1 \\\\ p_2 \\\\ p_3 \\end{bmatrix}\n",
    "\\]"
   ]
  },
  {
   "cell_type": "markdown",
   "id": "43fa13d4",
   "metadata": {},
   "source": [
    "So we repeat the confidence, x, y, w, and h for each grid."
   ]
  },
  {
   "cell_type": "markdown",
   "id": "1d5305b2",
   "metadata": {},
   "source": []
  },
  {
   "cell_type": "markdown",
   "id": "6f615588",
   "metadata": {},
   "source": [
    "![Image](https://storage.googleapis.com/rg-ai-bootcamp/cnn/yolo-step-3.png)"
   ]
  },
  {
   "cell_type": "markdown",
   "id": "71545d3b",
   "metadata": {},
   "source": [
    "# Combining the output"
   ]
  },
  {
   "cell_type": "markdown",
   "id": "c47f9163",
   "metadata": {},
   "source": []
  },
  {
   "cell_type": "markdown",
   "id": "c69a9d08",
   "metadata": {},
   "source": [
    "![Image](https://storage.googleapis.com/rg-ai-bootcamp/cnn/yolo-step-4.png)"
   ]
  },
  {
   "cell_type": "markdown",
   "id": "ee7c0421",
   "metadata": {},
   "source": [
    "# Intersection over Union (IoU)"
   ]
  },
  {
   "cell_type": "markdown",
   "id": "487d27b7",
   "metadata": {},
   "source": []
  },
  {
   "cell_type": "markdown",
   "id": "e2eabf11",
   "metadata": {},
   "source": [
    "![Image](https://storage.googleapis.com/rg-ai-bootcamp/cnn/yolo-howto-05.png)"
   ]
  },
  {
   "cell_type": "markdown",
   "id": "5149255a",
   "metadata": {},
   "source": [
    "Naturally the bounding box will overlap with more than one grid cells. The goal of IoU is to keep only those that are relevant to the image."
   ]
  },
  {
   "cell_type": "markdown",
   "id": "609b036f",
   "metadata": {},
   "source": [
    "Here is how we do it logically:"
   ]
  },
  {
   "cell_type": "markdown",
   "id": "66fe4787",
   "metadata": {},
   "source": [
    "# YOLO in action"
   ]
  },
  {
   "cell_type": "code",
   "execution_count": null,
   "id": "ce3e5df3",
   "metadata": {},
   "outputs": [],
   "source": [
    "!pip install ultralytics"
   ]
  },
  {
   "cell_type": "code",
   "execution_count": null,
   "id": "ad1fbd9f",
   "metadata": {},
   "outputs": [],
   "source": [
    "import torch\n",
    "from pathlib import Path\n",
    "from PIL import Image\n",
    "\n",
    "# Load YOLOv5 model (you may need to adjust the model path)\n",
    "model_path = 'yolov5s.pt'\n",
    "model = torch.hub.load('ultralytics/yolov5:master', 'yolov5s')\n",
    "\n",
    "# Load an input image\n",
    "image_path = './assets/yolo-input.jpg'\n",
    "img = Image.open(image_path)\n",
    "\n",
    "# Perform object detection\n",
    "results = model(img)\n",
    "\n",
    "# Print detected classes and confidence scores\n",
    "#print(results.names)\n",
    "#print(results.pred[0][:, -1].tolist())  # Confidence scores\n",
    "\n",
    "# Show the annotated image with bounding boxes\n",
    "results.show()"
   ]
  },
  {
   "cell_type": "code",
   "execution_count": null,
   "id": "633c3185",
   "metadata": {},
   "outputs": [],
   "source": [
    "Using cache found in /Users/ruangguru/.cache/torch/hub/ultralytics_yolov5_master\n",
    "requirements: Ultralytics requirement ['setuptools>=65.5.1'] not found, attempting AutoUpdate...\n",
    "Requirement already satisfied: setuptools>=65.5.1 in /Users/ruangguru/Projects/ai-bootcamp/env/lib/python3.11/site-packages (68.2.2)\n",
    "\n",
    "requirements: AutoUpdate success ✅ 2.6s, installed 1 package: ['setuptools>=65.5.1']\n",
    "requirements: ⚠️ Restart runtime or rerun command for updates to take effect\n",
    "\n",
    "YOLOv5 🚀 2023-9-14 Python-3.11.3 torch-2.0.1 CPU\n",
    "\n",
    "Fusing layers... \n",
    "YOLOv5s summary: 213 layers, 7225885 parameters, 0 gradients\n",
    "Adding AutoShape... "
   ]
  },
  {
   "cell_type": "markdown",
   "id": "7351cee5",
   "metadata": {},
   "source": []
  },
  {
   "cell_type": "markdown",
   "id": "81378515",
   "metadata": {},
   "source": [
    "# Realtime Object Detection"
   ]
  },
  {
   "cell_type": "markdown",
   "id": "2f9869c0",
   "metadata": {},
   "source": [
    "Let’s use YOLO to detect objects in a video."
   ]
  },
  {
   "cell_type": "code",
   "execution_count": null,
   "id": "484adb6d",
   "metadata": {},
   "outputs": [],
   "source": [
    "!pip install opencv-python"
   ]
  },
  {
   "cell_type": "code",
   "execution_count": null,
   "id": "11bf59fa",
   "metadata": {},
   "outputs": [],
   "source": [
    "# use YOLO v5 to detect objects in a video via webcam\n",
    "\n",
    "import cv2\n",
    "import torch\n",
    "from pathlib import Path\n",
    "from PIL import Image\n",
    "\n",
    "model_path = 'yolov5s.pt'\n",
    "model = torch.hub.load('ultralytics/yolov5:master', 'yolov5s')\n",
    "\n",
    "# use webcam as the video source\n",
    "cap = cv2.VideoCapture(0)\n",
    "\n",
    "while True:\n",
    "    # Capture frame-by-frame\n",
    "    ret, frame = cap.read()\n",
    "\n",
    "    # Convert the frame to a PIL Image\n",
    "    pil_img = Image.fromarray(frame)\n",
    "\n",
    "    # Perform object detection\n",
    "    results = model(pil_img)\n",
    "\n",
    "    # Print the detected classes and confidence scores\n",
    "    #print(results.names)\n",
    "    #print(results.pred[0][:, -1].tolist())  # Confidence scores\n",
    "\n",
    "    # Show the annotated image with bounding boxes\n",
    "    results.show()\n",
    "\n",
    "    # Display the resulting frame\n",
    "    #cv2.imshow('frame', frame)\n",
    "\n",
    "    # Press Q on keyboard to  exit\n",
    "    if cv2.waitKey(1) & 0xFF == ord('q'):\n",
    "        break\n",
    "\n",
    "    print(\"continue? [Y/n]\")\n",
    "    if input() == 'n':\n",
    "        break\n",
    "\n",
    "\n",
    "\n",
    "# When everything done, release the capture\n",
    "cap.release()\n",
    "cv2.destroyAllWindows()"
   ]
  }
 ],
 "metadata": {},
 "nbformat": 4,
 "nbformat_minor": 5
}
