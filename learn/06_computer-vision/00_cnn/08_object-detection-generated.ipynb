{
 "cells": [
  {
   "cell_type": "markdown",
   "id": "51abee1a",
   "metadata": {},
   "source": [
    "# Applied CNN: Object Detection and YOLO in Action"
   ]
  },
  {
   "cell_type": "markdown",
   "id": "b3194ee0",
   "metadata": {},
   "source": [
    "# Object Detection"
   ]
  },
  {
   "cell_type": "markdown",
   "id": "32d7e5a5",
   "metadata": {},
   "source": [
    "In the real world, an image can have multiple objects, our previous CNN model can only detect one object. In this section, we will learn how to detect multiple objects in an image."
   ]
  },
  {
   "cell_type": "markdown",
   "id": "6f15f648",
   "metadata": {},
   "source": []
  },
  {
   "cell_type": "markdown",
   "id": "85726cd6",
   "metadata": {},
   "source": [
    "Image source"
   ]
  },
  {
   "cell_type": "markdown",
   "id": "bfd6c264",
   "metadata": {},
   "source": [
    "Object detection involves identifying and locating objects of interest within an image or a video. Above, in the left image, truck and car are identified, which is image classification. The image on the right illustrates object detection by surrounding the members of each class — cars and trucks — with a bounding box and showing the correct labels."
   ]
  },
  {
   "cell_type": "markdown",
   "id": "913a9ac8",
   "metadata": {},
   "source": [
    "# Object localization"
   ]
  },
  {
   "cell_type": "markdown",
   "id": "7b8ae270",
   "metadata": {},
   "source": [
    "The bounding box is called object localization. We already learn about the image classification task where an algorithm looks a picture and gives an output saying this is a car. The problem of classification with localization is not only do you have to label this as, say, a car but the algorithm also is responsible for put a bounding box or drawing a red rectangle around the position of the car in the image, where the term localization refers to figuring out where in the picture is the car you detected."
   ]
  },
  {
   "cell_type": "markdown",
   "id": "6a2f6b26",
   "metadata": {},
   "source": [
    "Let’s try the following image:"
   ]
  },
  {
   "cell_type": "markdown",
   "id": "36b869ec",
   "metadata": {},
   "source": []
  },
  {
   "cell_type": "markdown",
   "id": "a1559d42",
   "metadata": {},
   "source": [
    "To add bounding box, we can use the following CLI command (don’t worry, we will learn how to do it in Python later):"
   ]
  },
  {
   "cell_type": "code",
   "execution_count": null,
   "id": "7f81904f",
   "metadata": {},
   "outputs": [],
   "source": [
    "!yolo predict model=yolov8s.pt source=\"./assets/cars.jpeg\""
   ]
  },
  {
   "cell_type": "markdown",
   "id": "8171c6f0",
   "metadata": {},
   "source": [
    "Voila! We have successfully added bounding boxes to the cars in the image."
   ]
  },
  {
   "cell_type": "markdown",
   "id": "feeff08b",
   "metadata": {},
   "source": []
  },
  {
   "cell_type": "markdown",
   "id": "27148b3b",
   "metadata": {},
   "source": [
    "We can say here that the bounding box is basically a set of coordinates that forms around the object that identify closely with a label."
   ]
  },
  {
   "cell_type": "markdown",
   "id": "2bcc68bd",
   "metadata": {},
   "source": [
    "We also know that if we we define the model to be able to detect 10 classes, we’ll have an output containing the 10 classes with percentage of each class."
   ]
  },
  {
   "cell_type": "markdown",
   "id": "7aaa43a2",
   "metadata": {},
   "source": [
    "If we add them up together, then, for object localization, the output will not only contain class probabilities for the detected objects but also bounding box coordinates that specify the location of each detected object within the image. This allows the model to not only classify objects into predefined classes but also localize and outline their positions using bounding boxes."
   ]
  },
  {
   "cell_type": "markdown",
   "id": "89d7a216",
   "metadata": {},
   "source": [
    "The question is how we do that ?"
   ]
  },
  {
   "cell_type": "markdown",
   "id": "da77b2be",
   "metadata": {},
   "source": [
    "# Building Bounding Box"
   ]
  },
  {
   "cell_type": "markdown",
   "id": "9803c1c6",
   "metadata": {},
   "source": [
    "In the previous section, we have learned how to build a CNN model for image classification."
   ]
  },
  {
   "cell_type": "markdown",
   "id": "04e1c1b4",
   "metadata": {},
   "source": [
    "In the case of image classification, the model output is"
   ]
  },
  {
   "cell_type": "markdown",
   "id": "aef1de5c",
   "metadata": {},
   "source": [
    "\\[\n",
    "\\hat{y} = \\begin{bmatrix} p_1 \\\\ p_2 \\\\ p_3 \\end{bmatrix}\n",
    "\\]"
   ]
  },
  {
   "cell_type": "markdown",
   "id": "20161ea8",
   "metadata": {},
   "source": [
    "where \\(\\hat{y}\\) is the predicted class probabilities for the three classes. Then we can use the argmax function to get the class with the highest probability."
   ]
  },
  {
   "cell_type": "markdown",
   "id": "44a5a85e",
   "metadata": {},
   "source": [
    "However, in the context of object detection, we need to add bounding box coordinates to the output. We need to add four more elements to the output vector to represent the bounding box coordinates."
   ]
  },
  {
   "cell_type": "markdown",
   "id": "0eea326c",
   "metadata": {},
   "source": [
    "\\[\n",
    "\\hat{y} = \\begin{bmatrix} x \\\\ y \\\\ w \\\\ h \\\\ p_1 \\\\ p_2 \\\\ p_3 \\end{bmatrix}\n",
    "\\]"
   ]
  },
  {
   "cell_type": "markdown",
   "id": "f6c58c2c",
   "metadata": {},
   "source": [
    "Where \\(x\\) and \\(y\\) are the coordinates of the center of the bounding box, \\(w\\) and \\(h\\) are the width and height of the bounding box"
   ]
  },
  {
   "cell_type": "markdown",
   "id": "a2eddc8e",
   "metadata": {},
   "source": [
    "# Empty Bounding Box"
   ]
  },
  {
   "cell_type": "markdown",
   "id": "8e9bf858",
   "metadata": {},
   "source": [
    "But what if there is no object in the image?"
   ]
  },
  {
   "cell_type": "markdown",
   "id": "1545131b",
   "metadata": {},
   "source": [
    "To represent empty box, we can add a new output element to indicate the probability of the image containing an object."
   ]
  },
  {
   "cell_type": "markdown",
   "id": "aa25d586",
   "metadata": {},
   "source": [
    "\\[\n",
    "\\hat{y} = \\begin{bmatrix} confidence \\\\ x \\\\ y \\\\ w \\\\ h \\\\ p_1 \\\\ p_2 \\\\ p_3 \\end{bmatrix}\n",
    "\\]"
   ]
  },
  {
   "cell_type": "markdown",
   "id": "185acf22",
   "metadata": {},
   "source": [
    "Where \\(confidence\\) is the probability of the image containing an object."
   ]
  },
  {
   "cell_type": "markdown",
   "id": "6ea2e792",
   "metadata": {},
   "source": [
    "Note that it differs from \\(p_1\\), \\(p_2\\), and \\(p_3\\), which are the probabilities of the image containing a car, a truck, and a motorcycle, respectively."
   ]
  },
  {
   "cell_type": "markdown",
   "id": "6a0f8c8b",
   "metadata": {},
   "source": [
    "Example:"
   ]
  },
  {
   "cell_type": "markdown",
   "id": "1de706f8",
   "metadata": {},
   "source": [
    "\\[\n",
    "\\hat{y} = \\begin{bmatrix} 0.9 \\\\ 200 \\\\ 300 \\\\ 20 \\\\ 30 \\\\ 0.1 \\\\ 0.1 \\\\ 0.8 \\end{bmatrix}\n",
    "\\]"
   ]
  },
  {
   "cell_type": "markdown",
   "id": "45b8bf92",
   "metadata": {},
   "source": [
    "It means that the model predict 0.9 probability that the image contains an object, and the object is a car with 0.1 probability, a truck with 0.1 probability, and a motorcycle with 0.8 probability. The bounding box is located at (200, 300) with width 20 and height 30."
   ]
  },
  {
   "cell_type": "markdown",
   "id": "15a6a391",
   "metadata": {},
   "source": [
    "Another example:"
   ]
  },
  {
   "cell_type": "markdown",
   "id": "9dee27cd",
   "metadata": {},
   "source": [
    "\\[\n",
    "\\hat{y} = \\begin{bmatrix} 0 \\\\ 0 \\\\ 0 \\\\ 0 \\\\ 0 \\\\ 0.1 \\\\ 0.1 \\\\ 0.8 \\end{bmatrix}\n",
    "\\]"
   ]
  },
  {
   "cell_type": "markdown",
   "id": "09fac22b",
   "metadata": {},
   "source": [
    "The model predicts 0 probability that the image contains an object. We can forget the remaining elements because they are not relevant."
   ]
  },
  {
   "cell_type": "markdown",
   "id": "f85e03c6",
   "metadata": {},
   "source": [
    "# Sliding Window"
   ]
  },
  {
   "cell_type": "markdown",
   "id": "7e93ad0b",
   "metadata": {},
   "source": [
    "Now that we have found a way to define a bounding box in our model, next let’s think about how we’ll implement object detection."
   ]
  },
  {
   "cell_type": "markdown",
   "id": "56ad768d",
   "metadata": {},
   "source": [
    "From our own logic, once we define a bounding box, the easiest and fastest way to detect the object is to simply test the box on the image, much like how a convolution or pooling works in CNN, except we don’t do any calculation, but we take the image inside the box and check if the object exists inside the box. Then move on to the next pixel. Let’s call this a sliding window."
   ]
  },
  {
   "cell_type": "markdown",
   "id": "daf33f41",
   "metadata": {},
   "source": [
    "After 1 pass through the image and we did not find anything, we then change the size of the bounding box and try again. Rinse and repeat."
   ]
  },
  {
   "cell_type": "markdown",
   "id": "f6df4b6a",
   "metadata": {},
   "source": []
  },
  {
   "cell_type": "markdown",
   "id": "f5ae021a",
   "metadata": {},
   "source": [
    "Image source"
   ]
  },
  {
   "cell_type": "markdown",
   "id": "307288f1",
   "metadata": {},
   "source": [
    "The above algorithm surely is not efficient. But there is a way to make it more efficient."
   ]
  },
  {
   "cell_type": "markdown",
   "id": "e8804649",
   "metadata": {},
   "source": [
    "Remember the convolution operation in CNN? It is basically a sliding window with a kernel. The kernel is a matrix of weights that we multiply with the image pixels. The kernel is then moved to the next pixel and the process is repeated."
   ]
  },
  {
   "cell_type": "markdown",
   "id": "11f8acd5",
   "metadata": {},
   "source": [
    "It turns out that we can implement the sliding window algorithm using convolution. However, the detail is beyond the scope of this course."
   ]
  },
  {
   "cell_type": "markdown",
   "id": "d82380fb",
   "metadata": {},
   "source": [
    "# YOLO Algorithm"
   ]
  },
  {
   "cell_type": "markdown",
   "id": "fc9b6c73",
   "metadata": {},
   "source": []
  },
  {
   "cell_type": "markdown",
   "id": "23be8e68",
   "metadata": {},
   "source": [
    "Image source"
   ]
  },
  {
   "cell_type": "markdown",
   "id": "2f7933da",
   "metadata": {},
   "source": [
    "YOLO, short for “You Only Look Once,” is a popular object detection algorithm known for its efficiency and real-time performance. It excels at swiftly detecting and localizing objects within images or video frames, making it valuable for various applications, including autonomous driving, surveillance, and computer vision tasks. YOLO’s fame stems from its unique approach of dividing images into grids and simultaneously predicting bounding boxes and class probabilities within each grid cell. This one-pass design makes it exceptionally fast and suitable for real-time tasks. While YOLO is versatile and widely used, it may not be ideal for scenarios involving small objects, extreme size variations, or very high localization precision requirements, and it typically demands substantial training data for optimal performance."
   ]
  },
  {
   "cell_type": "markdown",
   "id": "4de2750a",
   "metadata": {},
   "source": [
    "# How does Yolo works ?"
   ]
  },
  {
   "cell_type": "markdown",
   "id": "6bb32c6c",
   "metadata": {},
   "source": [
    "Souce: MLForNerds"
   ]
  },
  {
   "cell_type": "markdown",
   "id": "a2f6fd7d",
   "metadata": {},
   "source": [
    "This is based on YOLOv1, the original YOLO paper."
   ]
  },
  {
   "cell_type": "markdown",
   "id": "5651ed9c",
   "metadata": {},
   "source": [
    "# Smaller Grid"
   ]
  },
  {
   "cell_type": "markdown",
   "id": "54422b5c",
   "metadata": {},
   "source": []
  },
  {
   "cell_type": "markdown",
   "id": "9fa18b92",
   "metadata": {},
   "source": [
    "First the original image is divided into $ S x S $ grid cells of equal size. Each cell in the grid will predict the class of the object inside the cell, if there is one."
   ]
  },
  {
   "cell_type": "markdown",
   "id": "ba28247d",
   "metadata": {},
   "source": [
    "# Bounding Box Definition"
   ]
  },
  {
   "cell_type": "markdown",
   "id": "2435b15c",
   "metadata": {},
   "source": []
  },
  {
   "cell_type": "markdown",
   "id": "11ddf717",
   "metadata": {},
   "source": [
    "Inside the cell, we will predict the bounding box coordinates. One cell predicts 2 bounding boxes. The bounding box is defined by the center of the box, width, and height."
   ]
  },
  {
   "cell_type": "markdown",
   "id": "e36be736",
   "metadata": {},
   "source": [
    "So in the above picture, the red dot is the center of the red box, the blue dot is the center of the blue box"
   ]
  },
  {
   "cell_type": "markdown",
   "id": "5d03e699",
   "metadata": {},
   "source": [
    "# Bounding Box Encoding"
   ]
  },
  {
   "cell_type": "markdown",
   "id": "a51572f0",
   "metadata": {},
   "source": [
    "The bounding box is encoded as follow:"
   ]
  },
  {
   "cell_type": "markdown",
   "id": "5041b0e0",
   "metadata": {},
   "source": [
    "\\(x\\) and \\(y\\) are calculated relative to the cell top-left corner (anchor) and normalized by the cell width and height."
   ]
  },
  {
   "cell_type": "markdown",
   "id": "6e36b382",
   "metadata": {},
   "source": [
    "\\[\n",
    "x = \\frac{x_{center} - x_{anchor}}{cell\\_width} \\\\\n",
    "y = \\frac{y_{center} - y_{anchor}}{cell\\_height}\n",
    "\\]"
   ]
  },
  {
   "cell_type": "markdown",
   "id": "4380f1df",
   "metadata": {},
   "source": [
    "and \\(w\\) and \\(h\\) are calculated relative to the whole image width and height."
   ]
  },
  {
   "cell_type": "markdown",
   "id": "271df910",
   "metadata": {},
   "source": [
    "\\[\n",
    "w = \\frac{w_{box}}{image\\_width} \\\\\n",
    "h = \\frac{h_{box}}{image\\_height}\n",
    "\\]"
   ]
  },
  {
   "cell_type": "markdown",
   "id": "ab701335",
   "metadata": {},
   "source": [
    "# Data representation"
   ]
  },
  {
   "cell_type": "markdown",
   "id": "4ad576bb",
   "metadata": {},
   "source": [
    "In previous section, we model the data as follow:"
   ]
  },
  {
   "cell_type": "markdown",
   "id": "43d70981",
   "metadata": {},
   "source": [
    "\\[\n",
    "\\hat{y} = \\begin{bmatrix} confidence \\\\ x \\\\ y \\\\ w \\\\ h \\\\ p_1 \\\\ p_2 \\\\ p_3 \\end{bmatrix}\n",
    "\\]"
   ]
  },
  {
   "cell_type": "markdown",
   "id": "250dfc98",
   "metadata": {},
   "source": [
    "In YOLO - since we have multiple grids - we model the data as follow:"
   ]
  },
  {
   "cell_type": "markdown",
   "id": "4f67d66c",
   "metadata": {},
   "source": [
    "\\[\n",
    "\\hat{y} = \\begin{bmatrix} confidence \\\\ x \\\\ y \\\\ w \\\\ h \\\\ confidence \\\\ x \\\\ y \\\\ w \\\\ h \\\\ ... \\\\ p_1 \\\\ p_2 \\\\ p_3 \\end{bmatrix}\n",
    "\\]"
   ]
  },
  {
   "cell_type": "markdown",
   "id": "d2195701",
   "metadata": {},
   "source": [
    "So we repeat the confidence, x, y, w, and h for each grid."
   ]
  },
  {
   "cell_type": "markdown",
   "id": "dfa39fa6",
   "metadata": {},
   "source": []
  },
  {
   "cell_type": "markdown",
   "id": "b56009e7",
   "metadata": {},
   "source": [
    "# Combining the output"
   ]
  },
  {
   "cell_type": "markdown",
   "id": "c8de3a3f",
   "metadata": {},
   "source": []
  },
  {
   "cell_type": "markdown",
   "id": "31a43e04",
   "metadata": {},
   "source": [
    "# Intersection over Union (IoU)"
   ]
  },
  {
   "cell_type": "markdown",
   "id": "93346c31",
   "metadata": {},
   "source": []
  },
  {
   "cell_type": "markdown",
   "id": "bb33c081",
   "metadata": {},
   "source": [
    "Naturally the bounding box will overlap with more than one grid cells. The goal of IoU is to keep only those that are relevant to the image."
   ]
  },
  {
   "cell_type": "markdown",
   "id": "f746a020",
   "metadata": {},
   "source": [
    "Here is how we do it logically:"
   ]
  },
  {
   "cell_type": "markdown",
   "id": "e3df1ac7",
   "metadata": {},
   "source": [
    "# YOLO in action"
   ]
  },
  {
   "cell_type": "code",
   "execution_count": null,
   "id": "1f5627d5",
   "metadata": {},
   "outputs": [],
   "source": [
    "!pip install ultralytics"
   ]
  },
  {
   "cell_type": "code",
   "execution_count": null,
   "id": "46d78e04",
   "metadata": {},
   "outputs": [],
   "source": [
    "import torch\n",
    "from pathlib import Path\n",
    "from PIL import Image\n",
    "\n",
    "# Load YOLOv5 model (you may need to adjust the model path)\n",
    "model_path = 'yolov5s.pt'\n",
    "model = torch.hub.load('ultralytics/yolov5:master', 'yolov5s')\n",
    "\n",
    "# Load an input image\n",
    "image_path = './assets/yolo-input.jpg'\n",
    "img = Image.open(image_path)\n",
    "\n",
    "# Perform object detection\n",
    "results = model(img)\n",
    "\n",
    "# Print detected classes and confidence scores\n",
    "#print(results.names)\n",
    "#print(results.pred[0][:, -1].tolist())  # Confidence scores\n",
    "\n",
    "# Show the annotated image with bounding boxes\n",
    "results.show()"
   ]
  },
  {
   "cell_type": "code",
   "execution_count": null,
   "id": "eb04d358",
   "metadata": {},
   "outputs": [],
   "source": [
    "Using cache found in /Users/ruangguru/.cache/torch/hub/ultralytics_yolov5_master\n",
    "requirements: Ultralytics requirement ['setuptools>=65.5.1'] not found, attempting AutoUpdate...\n",
    "Requirement already satisfied: setuptools>=65.5.1 in /Users/ruangguru/Projects/ai-bootcamp/env/lib/python3.11/site-packages (68.2.2)\n",
    "\n",
    "requirements: AutoUpdate success ✅ 2.6s, installed 1 package: ['setuptools>=65.5.1']\n",
    "requirements: ⚠️ Restart runtime or rerun command for updates to take effect\n",
    "\n",
    "YOLOv5 🚀 2023-9-14 Python-3.11.3 torch-2.0.1 CPU\n",
    "\n",
    "Fusing layers... \n",
    "YOLOv5s summary: 213 layers, 7225885 parameters, 0 gradients\n",
    "Adding AutoShape... "
   ]
  },
  {
   "cell_type": "markdown",
   "id": "5228a080",
   "metadata": {},
   "source": []
  },
  {
   "cell_type": "markdown",
   "id": "cd0cbc74",
   "metadata": {},
   "source": [
    "# Realtime Object Detection"
   ]
  },
  {
   "cell_type": "markdown",
   "id": "02b1a1ad",
   "metadata": {},
   "source": [
    "Let’s use YOLO to detect objects in a video."
   ]
  },
  {
   "cell_type": "code",
   "execution_count": null,
   "id": "30339dfc",
   "metadata": {},
   "outputs": [],
   "source": [
    "!pip install opencv-python"
   ]
  },
  {
   "cell_type": "code",
   "execution_count": null,
   "id": "4715da33",
   "metadata": {},
   "outputs": [],
   "source": [
    "# use YOLO v5 to detect objects in a video via webcam\n",
    "\n",
    "import cv2\n",
    "import torch\n",
    "from pathlib import Path\n",
    "from PIL import Image\n",
    "\n",
    "model_path = 'yolov5s.pt'\n",
    "model = torch.hub.load('ultralytics/yolov5:master', 'yolov5s')\n",
    "\n",
    "# use webcam as the video source\n",
    "cap = cv2.VideoCapture(0)\n",
    "\n",
    "while True:\n",
    "    # Capture frame-by-frame\n",
    "    ret, frame = cap.read()\n",
    "\n",
    "    # Convert the frame to a PIL Image\n",
    "    pil_img = Image.fromarray(frame)\n",
    "\n",
    "    # Perform object detection\n",
    "    results = model(pil_img)\n",
    "\n",
    "    # Print the detected classes and confidence scores\n",
    "    #print(results.names)\n",
    "    #print(results.pred[0][:, -1].tolist())  # Confidence scores\n",
    "\n",
    "    # Show the annotated image with bounding boxes\n",
    "    results.show()\n",
    "\n",
    "    # Display the resulting frame\n",
    "    #cv2.imshow('frame', frame)\n",
    "\n",
    "    # Press Q on keyboard to  exit\n",
    "    if cv2.waitKey(1) & 0xFF == ord('q'):\n",
    "        break\n",
    "\n",
    "    print(\"continue? [Y/n]\")\n",
    "    if input() == 'n':\n",
    "        break\n",
    "\n",
    "\n",
    "\n",
    "# When everything done, release the capture\n",
    "cap.release()\n",
    "cv2.destroyAllWindows()"
   ]
  }
 ],
 "metadata": {},
 "nbformat": 4,
 "nbformat_minor": 5
}
