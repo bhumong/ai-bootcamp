{
 "cells": [
  {
   "cell_type": "markdown",
   "id": "e2921676",
   "metadata": {},
   "source": [
    "# Fully Connected Layer"
   ]
  },
  {
   "cell_type": "markdown",
   "id": "adfcce48",
   "metadata": {},
   "source": [
    "# Fully Connected Layer"
   ]
  },
  {
   "cell_type": "markdown",
   "id": "b3dd55f6",
   "metadata": {},
   "source": [
    "The result coming out of the Convolution/Pooling layer combination is still in the form of features. To classify or come to a conclusion we need to take into account all the data or feature that we have collected so far and check all the possible combination. This is the job of the Fully Connected layer, which is basically our regular Neural Network that we learn prior to CNN, where all the nodes are connected to nodes from the previous layer."
   ]
  },
  {
   "cell_type": "markdown",
   "id": "b0df0728",
   "metadata": {},
   "source": [
    "As shown in the picture below, the output of the last pooling layer is serialized before it is fed into a fully connected layer. In this example only one fully connected layer is applied. Since there are 8 neurons in the output of the fully connected layer, this example architecture can be applied for a classification into 8 classes. In this case the output is usually processed by a softmax-activation function, which is not depicted in the image below."
   ]
  },
  {
   "cell_type": "markdown",
   "id": "91f724a8",
   "metadata": {},
   "source": [
    "Note that the fully connected layer only accept 1 Dimensional data. To convert our 3D data to 1D, we can use the function flatten in Python. This essentially arranges our 3D volume into a 1D vector."
   ]
  },
  {
   "cell_type": "markdown",
   "id": "7cf9ce38",
   "metadata": {},
   "source": []
  },
  {
   "cell_type": "markdown",
   "id": "df547fed",
   "metadata": {},
   "source": [
    "# Softmax"
   ]
  },
  {
   "cell_type": "markdown",
   "id": "05120a25",
   "metadata": {},
   "source": [
    "A softmax operation serves a key purpose: making sure the CNN outputs sum to 1. Because of this, softmax operations are useful to scale model outputs into probabilities with a range from 0 to 1."
   ]
  },
  {
   "cell_type": "markdown",
   "id": "ee131a36",
   "metadata": {},
   "source": [
    "This topic has been covered earlier, so if you need to refresh, then please visit the appropriate course."
   ]
  }
 ],
 "metadata": {},
 "nbformat": 4,
 "nbformat_minor": 5
}
