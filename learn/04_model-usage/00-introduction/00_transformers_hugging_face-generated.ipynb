{
 "cells": [
  {
   "cell_type": "markdown",
   "id": "0968b5eb",
   "metadata": {},
   "source": [
    "source: [https://ai-bootcamp.ruangguru.com/learn/04_model-usage/00-introduction/00_transformers_hugging_face.html](https://ai-bootcamp.ruangguru.com/learn/04_model-usage/00-introduction/00_transformers_hugging_face.html)"
   ]
  },
  {
   "cell_type": "markdown",
   "id": "fdc00b2f",
   "metadata": {},
   "source": [
    "# Hugging Face"
   ]
  },
  {
   "cell_type": "markdown",
   "id": "995a3611",
   "metadata": {},
   "source": [
    "Welcome to Hugging Face: the pioneer in Natural Language Processing (NLP). Built on PyTorch, it offers a rich ecosystem that simplifies working with Transformer models. With Hugging Face, leveraging state-of-the-art NLP capabilities becomes an exciting exploration rather than a complex task."
   ]
  },
  {
   "cell_type": "markdown",
   "id": "42acbcf3",
   "metadata": {},
   "source": [
    "# Why Hugging Face?"
   ]
  },
  {
   "cell_type": "markdown",
   "id": "7ab9f290",
   "metadata": {},
   "source": [
    "Explore the Hugging Face Library for all your Natural Language Processing (NLP) needs:"
   ]
  },
  {
   "cell_type": "markdown",
   "id": "9a4b5153",
   "metadata": {},
   "source": [
    "# Installation and Configuration"
   ]
  },
  {
   "cell_type": "markdown",
   "id": "78ff1086",
   "metadata": {},
   "source": [
    "Starting your NLP journey with the Hugging Face Library is easy! If you use pip or conda, simply open your terminal and type in:"
   ]
  },
  {
   "cell_type": "code",
   "execution_count": null,
   "id": "6a15b71a",
   "metadata": {},
   "outputs": [],
   "source": [
    "# For pip users:\n",
    "pip install transformers\n",
    "\n",
    "# For conda aficionados:\n",
    "conda install -c huggingface transformers"
   ]
  },
  {
   "cell_type": "markdown",
   "id": "1b7b29d9",
   "metadata": {},
   "source": [
    "For a more detailed guide, visit the official documentation. Welcome aboard the NLP adventure!"
   ]
  },
  {
   "cell_type": "code",
   "execution_count": null,
   "id": "ccbf5264",
   "metadata": {},
   "outputs": [],
   "source": [
    "%pip install transformers sentencepiece"
   ]
  },
  {
   "cell_type": "markdown",
   "id": "4d290973",
   "metadata": {},
   "source": [
    "The code snippet showcases how to use the Hugging Face Library:"
   ]
  },
  {
   "cell_type": "markdown",
   "id": "37e1dd13",
   "metadata": {},
   "source": [
    "It imports pipeline from transformers and builds a text classification pipeline with a “distilbert-base-uncased-finetuned-sst-2-english” model. It then classifies the phrase “Hello world”. This succinct code conducts sentiment analysis using a pretrained DistilBERT model!"
   ]
  },
  {
   "cell_type": "code",
   "execution_count": null,
   "id": "1a74ebba",
   "metadata": {},
   "outputs": [],
   "source": [
    "from transformers import pipeline\n",
    "pipe = pipeline(\"text-classification\", model=\"distilbert-base-uncased-finetuned-sst-2-english\")\n",
    "pipe(\"Hello world\")"
   ]
  },
  {
   "cell_type": "code",
   "execution_count": null,
   "id": "95af698a",
   "metadata": {},
   "outputs": [],
   "source": [
    "[{'label': 'POSITIVE', 'score': 0.9997522234916687}]"
   ]
  },
  {
   "cell_type": "markdown",
   "id": "c4731416",
   "metadata": {},
   "source": [
    "# Transformers"
   ]
  },
  {
   "cell_type": "markdown",
   "id": "bf57b120",
   "metadata": {},
   "source": [
    "This model, from a “High-Level Look”, acts as a ‘black box’ in machine translation applications with transformer model, converting a sentence from one language into its translation in another."
   ]
  },
  {
   "cell_type": "markdown",
   "id": "30452fcc",
   "metadata": {},
   "source": []
  },
  {
   "cell_type": "markdown",
   "id": "56cf2791",
   "metadata": {},
   "source": [
    "![Image](https://storage.googleapis.com/rg-ai-bootcamp/model_usage/transformer-1.png)"
   ]
  },
  {
   "cell_type": "code",
   "execution_count": null,
   "id": "520cd71e",
   "metadata": {},
   "outputs": [],
   "source": [
    "from transformers import pipeline\n",
    "\n",
    "def translation(input):\n",
    "    translator = pipeline(\"translation\", model=\"Helsinki-NLP/opus-mt-en-id\")\n",
    "    output = translator(input, max_length=40)[0]['translation_text']\n",
    "    return output"
   ]
  },
  {
   "cell_type": "code",
   "execution_count": null,
   "id": "8ec53bbb",
   "metadata": {},
   "outputs": [],
   "source": [
    "input_text = \"I am a student\"\n",
    "output = translation(input_text)\n",
    "print(output)"
   ]
  },
  {
   "cell_type": "code",
   "execution_count": null,
   "id": "3ca2f017",
   "metadata": {},
   "outputs": [],
   "source": [
    "Saya seorang mahasiswa"
   ]
  },
  {
   "cell_type": "markdown",
   "id": "66108741",
   "metadata": {},
   "source": [
    "Let’s see what’s inside transformers?"
   ]
  },
  {
   "cell_type": "markdown",
   "id": "7c6edc43",
   "metadata": {},
   "source": [
    "Popping open that Transformer, we can observe an encoding component, a decoding component, and the intricate connections between them."
   ]
  },
  {
   "cell_type": "markdown",
   "id": "7ea7983f",
   "metadata": {},
   "source": []
  },
  {
   "cell_type": "markdown",
   "id": "11e3d0b4",
   "metadata": {},
   "source": [
    "![Image](https://storage.googleapis.com/rg-ai-bootcamp/model_usage/transformer-2.png)"
   ]
  },
  {
   "cell_type": "markdown",
   "id": "10cd14e4",
   "metadata": {},
   "source": [
    "In the Transformer model, the encoding section is made up of a stack of encoders, while the decoding section has an equal stack of decoders."
   ]
  },
  {
   "cell_type": "markdown",
   "id": "d7585e68",
   "metadata": {},
   "source": []
  },
  {
   "cell_type": "markdown",
   "id": "99500095",
   "metadata": {},
   "source": [
    "![Image](https://storage.googleapis.com/rg-ai-bootcamp/model_usage/transformer-3.png)"
   ]
  },
  {
   "cell_type": "markdown",
   "id": "7ff97cd0",
   "metadata": {},
   "source": [
    "# Code overview of how the Encoder and Decoder Transformer Model work"
   ]
  },
  {
   "cell_type": "markdown",
   "id": "5d4d9bb4",
   "metadata": {},
   "source": [
    "First, import the model and tokenizer from the transformers with pretrained model “Helsinki-NLP/opus-mt-en-id”:"
   ]
  },
  {
   "cell_type": "code",
   "execution_count": null,
   "id": "e1f5db57",
   "metadata": {},
   "outputs": [],
   "source": [
    "from transformers import AutoTokenizer, AutoModelForSeq2SeqLM\n",
    "\n",
    "model = AutoModelForSeq2SeqLM.from_pretrained(\"Helsinki-NLP/opus-mt-en-id\")\n",
    "tokenizer = AutoTokenizer.from_pretrained(\"Helsinki-NLP/opus-mt-en-id\")"
   ]
  },
  {
   "cell_type": "markdown",
   "id": "71171e9d",
   "metadata": {},
   "source": [
    "Here, model is a pretrained Seq2Seq Transformer model (Encoder and Decoder) and tokenizer is a way to turn plain text into tokens that the model can understand."
   ]
  },
  {
   "cell_type": "markdown",
   "id": "2f4c15ab",
   "metadata": {},
   "source": [
    "Next, we take the sentence, “I am a student”, and convert it to tokens:"
   ]
  },
  {
   "cell_type": "code",
   "execution_count": null,
   "id": "17d18560",
   "metadata": {},
   "outputs": [],
   "source": [
    "sentence = \"I am a student\"\n",
    "inputs = tokenizer.encode(sentence, return_tensors=\"pt\")\n",
    "\n",
    "print(inputs)"
   ]
  },
  {
   "cell_type": "code",
   "execution_count": null,
   "id": "4a462c79",
   "metadata": {},
   "outputs": [],
   "source": [
    "tensor([[   7,  303,   15, 4846,    0]])"
   ]
  },
  {
   "cell_type": "markdown",
   "id": "30c85c1e",
   "metadata": {},
   "source": [
    "inputs is now a tokenized representation of the sentence that can be processed by the model."
   ]
  },
  {
   "cell_type": "markdown",
   "id": "56439b98",
   "metadata": {},
   "source": [
    "Following the typical Seq2Seq model workflow, in this step, the encoder of the Seq2Seq model processes the input and generates an internal representation:"
   ]
  },
  {
   "cell_type": "code",
   "execution_count": null,
   "id": "fc13ea88",
   "metadata": {},
   "outputs": [],
   "source": [
    "outputs = model.generate(inputs, max_length=40)\n",
    "print(outputs)"
   ]
  },
  {
   "cell_type": "code",
   "execution_count": null,
   "id": "94cb7efc",
   "metadata": {},
   "outputs": [],
   "source": [
    "tensor([[54795,   200,   227,  8912,     0]])"
   ]
  },
  {
   "cell_type": "markdown",
   "id": "9af2176f",
   "metadata": {},
   "source": [
    "outputs is the internal representation created by the encoder part of the model."
   ]
  },
  {
   "cell_type": "markdown",
   "id": "bd5afcbd",
   "metadata": {},
   "source": [
    "Finally, we decode this output back into human-readable text:"
   ]
  },
  {
   "cell_type": "code",
   "execution_count": null,
   "id": "b61ecd03",
   "metadata": {},
   "outputs": [],
   "source": [
    "decoded = tokenizer.decode(outputs[0])\n",
    "print(decoded)"
   ]
  },
  {
   "cell_type": "code",
   "execution_count": null,
   "id": "64c296dc",
   "metadata": {},
   "outputs": [],
   "source": [
    "<pad> Saya seorang mahasiswa</s>"
   ]
  },
  {
   "cell_type": "markdown",
   "id": "44472bea",
   "metadata": {},
   "source": [
    "decoded is the translated text output by the model. At this stage, the decoder has taken the internal representation from the encoder and produced the desired text output."
   ]
  },
  {
   "cell_type": "markdown",
   "id": "c167462c",
   "metadata": {},
   "source": [
    "# Flow of Information"
   ]
  },
  {
   "cell_type": "markdown",
   "id": "e7f58bdc",
   "metadata": {},
   "source": [
    "The animation below illustrates how we apply the Transformer to machine translation"
   ]
  },
  {
   "cell_type": "markdown",
   "id": "882daacf",
   "metadata": {},
   "source": []
  },
  {
   "cell_type": "markdown",
   "id": "faa03ace",
   "metadata": {},
   "source": [
    "![Image](https://storage.googleapis.com/rg-ai-bootcamp/model_usage/transform20fps.gif)"
   ]
  },
  {
   "cell_type": "markdown",
   "id": "ba9e6c04",
   "metadata": {},
   "source": [
    "Google’s Visualization describes it all!"
   ]
  },
  {
   "cell_type": "markdown",
   "id": "2860b18a",
   "metadata": {},
   "source": [
    "## Self-Attention"
   ]
  },
  {
   "cell_type": "markdown",
   "id": "f2637013",
   "metadata": {},
   "source": [
    "Transformers are deep learning models that use self-attention to process sequential input data, such as natural language or images. Now, what is Self-Attention?"
   ]
  },
  {
   "cell_type": "markdown",
   "id": "db41815c",
   "metadata": {},
   "source": []
  },
  {
   "cell_type": "markdown",
   "id": "15171025",
   "metadata": {},
   "source": [
    "![Image](https://storage.googleapis.com/rg-ai-bootcamp/model_usage/sentence-example-attention.png)"
   ]
  },
  {
   "cell_type": "markdown",
   "id": "568a3cc6",
   "metadata": {},
   "source": [
    "One word “attends” to other words in the same sentence differently"
   ]
  },
  {
   "cell_type": "markdown",
   "id": "71ab3b85",
   "metadata": {},
   "source": [
    "Self-attention, or transformer attention, is a vital component in Transformer models that allows each token in a sentence to interrelate with every other token, regardless of their distance. It enables the model to better understand linguistic context and nuances."
   ]
  },
  {
   "cell_type": "markdown",
   "id": "4f2db194",
   "metadata": {},
   "source": [
    "# Attention Basic"
   ]
  },
  {
   "cell_type": "markdown",
   "id": "c6e220ac",
   "metadata": {},
   "source": [
    "The architecture of “Attention” in machine learning is like an author using a summarizer to highlight key points. It’s like the author questioning the summarizer (representing the “attention” mechanism), who offers summarized important points instead of direct answers."
   ]
  },
  {
   "cell_type": "code",
   "execution_count": null,
   "id": "0387dbdb",
   "metadata": {},
   "outputs": [],
   "source": [
    "%pip install graphviz"
   ]
  },
  {
   "cell_type": "code",
   "execution_count": null,
   "id": "eba73fae",
   "metadata": {},
   "outputs": [],
   "source": [
    "Collecting graphviz\n",
    "  Downloading graphviz-0.20.1-py3-none-any.whl (47 kB)\n",
    "     ---------------------------------------- 0.0/47.0 kB ? eta -:--:--\n",
    "     ------------------------ ------------- 30.7/47.0 kB 435.7 kB/s eta 0:00:01\n",
    "     -------------------------------------- 47.0/47.0 kB 593.5 kB/s eta 0:00:00\n",
    "Installing collected packages: graphviz\n",
    "Successfully installed graphviz-0.20.1\n",
    "Note: you may need to restart the kernel to use updated packages."
   ]
  },
  {
   "cell_type": "code",
   "execution_count": null,
   "id": "36749e54",
   "metadata": {},
   "outputs": [],
   "source": [
    "from graphviz import Digraph\n",
    "\n",
    "dot = Digraph()\n",
    "dot.attr('node', shape='ellipse')\n",
    "dot.attr(rankdir='LR')\n",
    "\n",
    "# Add nodes (with individual attributes)\n",
    "dot.node('A', '🧑‍🏫 Author', shape='box', color='blue')\n",
    "dot.node('B', '🧑‍💻 Summarizer (attention)', shape='box', color='green')\n",
    "\n",
    "# Add edges (with individual attributes)\n",
    "dot.edge('A', 'B', label='ask question', color='blue')\n",
    "dot.edge('B', 'A', label='gives summary', color='green')\n",
    "\n",
    "dot"
   ]
  },
  {
   "cell_type": "markdown",
   "id": "2ec85a8e",
   "metadata": {},
   "source": []
  },
  {
   "cell_type": "markdown",
   "id": "a752aa21",
   "metadata": {},
   "source": [
    "For example: For the input text, “I am Ridho, I live in Jakarta, I am a software engineer at Ruangguru”. When the author queries, “Who is being introduced in this sentence?”, the summarizer (attention) gives a summary: “I am Ridho, I live in Jakarta, I am a software engineer at Ruangguru”."
   ]
  },
  {
   "cell_type": "markdown",
   "id": "8098b58a",
   "metadata": {},
   "source": [
    "Another example with seaborn visualization: for “I just moved here and I want to show you my house, oh by the way, my name is Imam”, the query is “What is my name?”"
   ]
  },
  {
   "cell_type": "code",
   "execution_count": null,
   "id": "8e5ee12d",
   "metadata": {},
   "outputs": [],
   "source": [
    "%pip install seaborn"
   ]
  },
  {
   "cell_type": "code",
   "execution_count": null,
   "id": "c3929446",
   "metadata": {},
   "outputs": [],
   "source": [
    "import seaborn as sns\n",
    "import matplotlib.pyplot as plt\n",
    "import pandas as pd\n",
    "import numpy as np\n",
    "\n",
    "sentence = \"I just moved here and I want to show you my house, oh by the way, my name is Imam\".split()\n",
    "scores = np.array([0.1, 0.1, 0.1, 0.1, 0.1, 0.1, 0.1, 0.1, 0.1, 0.1, 0.1, 0.1, 0.1, 0.1, 0.1, 0.1, 0.2, 0.4, 0.3, 0.5]).reshape(1, -1)\n",
    "\n",
    "df_scores = pd.DataFrame(scores, columns=sentence)\n",
    "\n",
    "plt.figure(figsize=(16, 2))\n",
    "sns.heatmap(df_scores, cmap='YlGnBu', cbar=False)\n",
    "plt.yticks([])\n",
    "plt.ylabel(\"Attention Scoring\")\n",
    "plt.show()"
   ]
  },
  {
   "cell_type": "markdown",
   "id": "a3fa0162",
   "metadata": {},
   "source": []
  },
  {
   "cell_type": "markdown",
   "id": "819012e0",
   "metadata": {},
   "source": [
    "Seaborn visualization can be used to show which words in the sentence are most important. The darker the visualization, the more important the word is. If the author needs more information, they can look at the next lighter keywords."
   ]
  },
  {
   "cell_type": "markdown",
   "id": "f9c358bd",
   "metadata": {},
   "source": [
    "It is important to remember that attention doesn’t directly resolve the question. It provides clues (through attention scoring) that aid us in finding the answer by pointing out the most crucial words we need to be aware of to answer the question."
   ]
  },
  {
   "cell_type": "markdown",
   "id": "46b58144",
   "metadata": {},
   "source": [
    "# Multi-Head Attention"
   ]
  },
  {
   "cell_type": "markdown",
   "id": "0027e5b4",
   "metadata": {},
   "source": [
    "Transformers utilize a mechanism known as multi-head attention. But why is this important? Multi-head attention allows the model to focus on different positional contexts simultaneously. This resolves the challenge of understanding the various contextual implications of words in a sentence. Each ‘head’ can pay attention to different parts of the input, thereby providing a richer understanding of the data."
   ]
  },
  {
   "cell_type": "code",
   "execution_count": null,
   "id": "c711d76b",
   "metadata": {},
   "outputs": [],
   "source": [
    "from graphviz import Digraph\n",
    "\n",
    "dot = Digraph()\n",
    "dot.attr('node', shape='ellipse')\n",
    "dot.attr(rankdir='LR')\n",
    "\n",
    "# Add nodes (with individual attributes)\n",
    "dot.node('A', '🧑‍🏫 Author', shape='box', color='blue')\n",
    "dot.node('B', '🧑‍💻 🧑‍💻 🧑‍💻 🧑‍💻 🧑‍💻 🧑‍💻 🧑‍💻 🧑‍💻 🧑‍💻 🧑‍💻 🧑‍💻 🧑‍💻Summarizer (Multi head attention)', shape='box', color='green')\n",
    "\n",
    "# Add edges (with individual attributes)\n",
    "dot.edge('A', 'B', label='ask question', color='blue')\n",
    "dot.edge('B', 'A', label='gives summary', color='green')\n",
    "\n",
    "dot"
   ]
  },
  {
   "cell_type": "markdown",
   "id": "417f5606",
   "metadata": {},
   "source": []
  },
  {
   "cell_type": "markdown",
   "id": "31082a67",
   "metadata": {},
   "source": [
    "For example: For the input text, “Taylor feels lonely as his friends move out of the town”. When the author queries, “What does Taylor feel?”"
   ]
  },
  {
   "cell_type": "code",
   "execution_count": null,
   "id": "c0326e9e",
   "metadata": {},
   "outputs": [],
   "source": [
    "import seaborn as sns\n",
    "import matplotlib.pyplot as plt\n",
    "import pandas as pd\n",
    "import numpy as np\n",
    "\n",
    "sentence = \"Taylor feels lonely as his friends move out of the town\".split()\n",
    "scores = np.array([0.3, 0.25, 0.4, 0.15, 0.1, 0.1, 0.1, 0.1, 0.1, 0.1, 0.2]).reshape(1, -1)\n",
    "\n",
    "df_scores = pd.DataFrame(scores, columns=sentence)\n",
    "\n",
    "plt.figure(figsize=(16, 2))\n",
    "sns.heatmap(df_scores, cmap='YlGnBu', cbar=False)\n",
    "plt.yticks([])\n",
    "plt.ylabel(\"Attention Scoring\")\n",
    "plt.show()"
   ]
  },
  {
   "cell_type": "markdown",
   "id": "21a8a8a7",
   "metadata": {},
   "source": []
  },
  {
   "cell_type": "markdown",
   "id": "ef6ab128",
   "metadata": {},
   "source": [
    "Each of them summarizes in their own style"
   ]
  },
  {
   "cell_type": "code",
   "execution_count": null,
   "id": "e8ea135a",
   "metadata": {},
   "outputs": [],
   "source": [
    "import seaborn as sns\n",
    "import matplotlib.pyplot as plt\n",
    "import pandas as pd\n",
    "import numpy as np\n",
    "\n",
    "sentence = \"Taylor feels lonely as his friends move out of the town\".split()\n",
    "num_heads = 12\n",
    "\n",
    "scores = np.array([\n",
    "    [0.13, 0.15, 0.19, 0.15, 0.1, 0.1, 0.1, 0.1, 0.1, 0.1, 0.1],\n",
    "    [0.2, 0.2, 0.19, 0.15, 0.1, 0.1, 0.1, 0.1, 0.1, 0.1, 0.1], \n",
    "    [0.3, 0.25, 0.4, 0.15, 0.1, 0.1, 0.1, 0.1, 0.1, 0.1, 0.2],\n",
    "    [0.1, 0.2, 0.3, 0.15, 0.1, 0.1, 0.1, 0.1, 0.1, 0.1, 0.12],\n",
    "    [0.3, 0.25, 0.2, 0.15, 0.1, 0.1, 0.1, 0.2, 0.1, 0.1, 0.2],\n",
    "    [0.3, 0.25, 0.2, 0.15, 0.1, 0.1, 0.1, 0.1, 0.1, 0.1, 0.2],\n",
    "    [0.2, 0.28, 0.1, 0.11, 0.1, 0.1, 0.1, 0.1, 0.1, 0.1, 0.1],\n",
    "    [0.1, 0.25, 0.2, 0.15, 0.1, 0.1, 0.2, 0.1, 0.1, 0.1, 0.2],\n",
    "    [0.3, 0.25, 0.3, 0.15, 0.1, 0.1, 0.1, 0.1, 0.1, 0.1, 0.2],\n",
    "    [0.15, 0.23, 0.15, 0.2, 0.15, 0.1, 0.1, 0.1, 0.1, 0.1, 0.1],\n",
    "    [0.3, 0.15, 0.3, 0.15, 0.1, 0.1, 0.1, 0.1, 0.1, 0.1, 0.2],\n",
    "    [0.1, 0.3, 0.2, 0.1, 0.15, 0.1, 0.1, 0.1, 0.1, 0.1, 0.1]\n",
    "]) \n",
    "\n",
    "df_scores = pd.DataFrame(scores, columns=sentence)\n",
    "\n",
    "plt.figure(figsize=(16, num_heads * 0.5))\n",
    "sns.heatmap(df_scores, cmap='YlGnBu')\n",
    "plt.ylabel(\"12 Summary Committee\")\n",
    "plt.yticks(np.arange(num_heads)+0.5, [f'Head_{i+1}' for i in range(num_heads)], rotation=0)\n",
    "plt.show()"
   ]
  },
  {
   "cell_type": "markdown",
   "id": "f393e79f",
   "metadata": {},
   "source": []
  },
  {
   "cell_type": "markdown",
   "id": "681e22fc",
   "metadata": {},
   "source": [
    "Their voices are united"
   ]
  },
  {
   "cell_type": "code",
   "execution_count": null,
   "id": "f8d1180f",
   "metadata": {},
   "outputs": [],
   "source": [
    "import seaborn as sns\n",
    "import matplotlib.pyplot as plt\n",
    "import pandas as pd\n",
    "import numpy as np\n",
    "\n",
    "sentence = \"Taylor feels lonely as his friends move out of the town\".split()\n",
    "scores = np.array([0.22083333, 0.21525, 0.25416667, 0.14666667, 0.10833333, 0.1, 0.10833333, 0.10833333, 0.1, 0.1, 0.15166667]).reshape(1, -1)\n",
    "\n",
    "df_scores = pd.DataFrame(scores, columns=sentence)\n",
    "\n",
    "plt.figure(figsize=(16, 2))\n",
    "sns.heatmap(df_scores, cmap='YlGnBu', cbar=False)\n",
    "plt.yticks([])\n",
    "plt.ylabel(\"Attention Scoring\")\n",
    "plt.show()"
   ]
  },
  {
   "cell_type": "markdown",
   "id": "060f7b38",
   "metadata": {},
   "source": []
  },
  {
   "cell_type": "markdown",
   "id": "7a4bb316",
   "metadata": {},
   "source": [
    "Can we explain what each head is “thinking”? 🤔"
   ]
  },
  {
   "cell_type": "markdown",
   "id": "01b48969",
   "metadata": {},
   "source": [
    "The answer is NO."
   ]
  },
  {
   "cell_type": "markdown",
   "id": "cb9c5be6",
   "metadata": {},
   "source": [
    "The unity of the heads’ voices is essentially the aggregation of the attention scores from each head, emphasizing the most relevant parts of the input that answer the query. However, not all heads agree on the significance of each word. For instance, some heads may consider the word “move” relevant, hence its dark cyan color, potentially because they think it is a crucial factor leading to Taylor’s loneliness."
   ]
  },
  {
   "cell_type": "markdown",
   "id": "7157059c",
   "metadata": {},
   "source": [
    "We can only speculate each head’s focus. Perhaps one focuses on sentence structure, another on context, and so on. Due to the inscrutability of neural networks, we cannot ascertain the exact thought process of each head (lack of interpretability)."
   ]
  },
  {
   "cell_type": "markdown",
   "id": "bcaac2fc",
   "metadata": {},
   "source": [
    "Conclusion:"
   ]
  },
  {
   "cell_type": "markdown",
   "id": "e98395c9",
   "metadata": {},
   "source": [
    "- Multi-head attention allows each head to focus on different parts of the input to enhance understanding.\n",
    "- Each head assigns a score to each word, determining its relevance.\n",
    "- The composite of these scores forms the final attention score.\n",
    "- The number of heads is dependent on the model."
   ]
  },
  {
   "cell_type": "markdown",
   "id": "60a42241",
   "metadata": {},
   "source": [
    "# Multi-Layer Attention"
   ]
  },
  {
   "cell_type": "markdown",
   "id": "c8c8d260",
   "metadata": {},
   "source": [
    "Transformers also incorporate multi-layer attention. But what does this mean, and why is it necessary? Multi-layer attention allows the model to iteratively refine its understanding of the inputs over multiple layers. Each layer offers the model another opportunity to learn the associations within the data. This layered approach addresses the need for deeper understanding and more complex relationships in the data."
   ]
  },
  {
   "cell_type": "markdown",
   "id": "481749ce",
   "metadata": {},
   "source": []
  },
  {
   "cell_type": "markdown",
   "id": "8e640de6",
   "metadata": {},
   "source": [
    "![Image](https://storage.googleapis.com/rg-ai-bootcamp/model_usage/multi-layer-attention.png)"
   ]
  },
  {
   "cell_type": "markdown",
   "id": "814cbbaf",
   "metadata": {},
   "source": [
    "The heads are duplicated across layers, each being asked to re-learn its task. The number of layers varies depending on the model. The final layer incorporates the heads that best understand the task at hand. However, all heads across all layers are preserved. In rare situations, a head from an earlier layer might be more efficient at accomplishing a task than those in later layers."
   ]
  },
  {
   "cell_type": "markdown",
   "id": "397ba76c",
   "metadata": {},
   "source": [
    "# Interactive attention with BertViz"
   ]
  },
  {
   "cell_type": "markdown",
   "id": "88c40926",
   "metadata": {},
   "source": [
    "Now, we’ll use BertViz to visualize self-attention in a pre-trained BERT model with multiple “heads” capturing different word relationships. A 12-layer, 12-head model generates 144 unique attention mechanisms."
   ]
  },
  {
   "cell_type": "code",
   "execution_count": null,
   "id": "f41521c3",
   "metadata": {},
   "outputs": [],
   "source": [
    "%pip install bertviz"
   ]
  },
  {
   "cell_type": "code",
   "execution_count": null,
   "id": "1ec7953a",
   "metadata": {},
   "outputs": [],
   "source": [
    "from transformers import BertTokenizer, BertModel\n",
    "from bertviz import head_view\n",
    "\n",
    "model_version = 'bert-base-uncased'\n",
    "model = BertModel.from_pretrained(model_version, output_attentions=True)\n",
    "tokenizer = BertTokenizer.from_pretrained(model_version)\n",
    "inputs = tokenizer.encode_plus(\"She is eating a green apple\", \"She bought the apple from the local market.\", return_tensors='pt')\n",
    "\n",
    "attention = model(inputs['input_ids'], token_type_ids=inputs['token_type_ids'])[-1]\n",
    "tokens = tokenizer.convert_ids_to_tokens(inputs['input_ids'][0].tolist()) \n",
    "\n",
    "head_view(attention, tokens, inputs['token_type_ids'][0].tolist().index(1))"
   ]
  },
  {
   "cell_type": "markdown",
   "id": "b3e58887",
   "metadata": {},
   "source": [
    "# Transformers Applications"
   ]
  },
  {
   "cell_type": "markdown",
   "id": "e9ef3d68",
   "metadata": {},
   "source": [
    "Transformers are adaptable and can learn from large data sets for tasks like: - Translation: Breaking down language barriers. - Summarization: Turning long texts into brief summaries. - Text Generation: Creating new text on its own. - and etc."
   ]
  },
  {
   "cell_type": "markdown",
   "id": "57fadadb",
   "metadata": {},
   "source": [
    "We’ll explore these amazing uses in more detail in our next discussions!"
   ]
  }
 ],
 "metadata": {},
 "nbformat": 4,
 "nbformat_minor": 5
}
