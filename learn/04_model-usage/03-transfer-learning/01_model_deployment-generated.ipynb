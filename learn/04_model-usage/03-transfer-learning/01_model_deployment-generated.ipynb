{
 "cells": [
  {
   "cell_type": "markdown",
   "id": "cc431114",
   "metadata": {},
   "source": [
    "source: [https://ai-bootcamp.ruangguru.com/learn/04_model-usage/03-transfer-learning/01_model_deployment.html](https://ai-bootcamp.ruangguru.com/learn/04_model-usage/03-transfer-learning/01_model_deployment.html)"
   ]
  },
  {
   "cell_type": "markdown",
   "id": "8a4ce714",
   "metadata": {},
   "source": [
    "> Note: Materi ini merupakan materi supplemental, tidak bersifat wajib. Namun akan mendukung kalian menjadi seorangAI engineeryang handal."
   ]
  },
  {
   "cell_type": "markdown",
   "id": "6ea52b22",
   "metadata": {},
   "source": [
    "Note: Materi ini merupakan materi supplemental, tidak bersifat wajib. Namun akan mendukung kalian menjadi seorang AI engineer yang handal."
   ]
  },
  {
   "cell_type": "markdown",
   "id": "7a0f54ed",
   "metadata": {},
   "source": [
    "# Model Deployment"
   ]
  },
  {
   "cell_type": "markdown",
   "id": "a9e6b0ee",
   "metadata": {},
   "source": [
    "Model deployment is a crucial step in the machine learning development where the trained model is made accessible for users and integrated into applications."
   ]
  },
  {
   "cell_type": "markdown",
   "id": "9d809a11",
   "metadata": {},
   "source": [
    "It involves saving the model after training and providing a means for users, frontend (FE), and/or backend (BE) systems to access predictions. In this notebook, we’ll cover various aspects of model deployment, including different deployment options and strategies for optimizing models for deployment on CPU deployment"
   ]
  },
  {
   "cell_type": "markdown",
   "id": "6b6cb3f3",
   "metadata": {},
   "source": [
    "# Various type of Model Deployment"
   ]
  },
  {
   "cell_type": "markdown",
   "id": "5e76bf69",
   "metadata": {},
   "source": [
    "Deploying a machine learning model means making it accessible to users and other systems. This involves creating an interface through which users can provide input data and receive predictions. Here are some common deployment options:"
   ]
  },
  {
   "cell_type": "markdown",
   "id": "c6266929",
   "metadata": {},
   "source": [
    "- API (Application Programming Interface): An API serves as a bridge between your model and external applications. Flask and FastAPI are popular frameworks for building APIs in Python.\n",
    "- Mobile Apps: For mobile deployment, you can use frameworks likePyTorch Mobile,TensorFlow Lite (TFLite)CoreML. These frameworks allow you to integrate your model into Android or iOS applications, enabling real-time inference on mobile devices.\n",
    "- PC Apps: When deploying models in desktop applications, the choice of technology depends on the application platform. For Python-based apps, you can use libraries like Tkinter or PyQt. For cross-platform apps, consider using Flutter for a consistent user experience across different operating systems.\n",
    "- Web Apps: You also can deploy your model using Tensorflow JS to a web app without having to rely on a backend server, With Tensorflow JS you can use both CPU and GPU from user for accelerating the model deployment process. Keep in mind that if we deploy our model to a web app, we’ll basically use end-user computing power to process our model, so consider only using this method on simple and small model."
   ]
  },
  {
   "cell_type": "markdown",
   "id": "915e47d1",
   "metadata": {},
   "source": [
    "API (Application Programming Interface): An API serves as a bridge between your model and external applications. Flask and FastAPI are popular frameworks for building APIs in Python."
   ]
  },
  {
   "cell_type": "markdown",
   "id": "ced37ee4",
   "metadata": {},
   "source": [
    "Mobile Apps: For mobile deployment, you can use frameworks like PyTorch Mobile, TensorFlow Lite (TFLite) CoreML. These frameworks allow you to integrate your model into Android or iOS applications, enabling real-time inference on mobile devices."
   ]
  },
  {
   "cell_type": "markdown",
   "id": "6f065326",
   "metadata": {},
   "source": [
    "PC Apps: When deploying models in desktop applications, the choice of technology depends on the application platform. For Python-based apps, you can use libraries like Tkinter or PyQt. For cross-platform apps, consider using Flutter for a consistent user experience across different operating systems."
   ]
  },
  {
   "cell_type": "markdown",
   "id": "0f16ddc5",
   "metadata": {},
   "source": [
    "Web Apps: You also can deploy your model using Tensorflow JS to a web app without having to rely on a backend server, With Tensorflow JS you can use both CPU and GPU from user for accelerating the model deployment process. Keep in mind that if we deploy our model to a web app, we’ll basically use end-user computing power to process our model, so consider only using this method on simple and small model."
   ]
  },
  {
   "cell_type": "markdown",
   "id": "f585a518",
   "metadata": {},
   "source": [
    "# Model Optimization for Deployment"
   ]
  },
  {
   "cell_type": "markdown",
   "id": "71757970",
   "metadata": {},
   "source": [
    "In this notebook, we’ll focus on optimizing models for deployment on CPU environments by quantize model using ONNX (Open Neural Network Exchange) framework"
   ]
  },
  {
   "cell_type": "markdown",
   "id": "42c09b96",
   "metadata": {},
   "source": [
    "But before we begin, Why using ONNX instead of Tensofrlow or Pytorch directly?"
   ]
  },
  {
   "cell_type": "markdown",
   "id": "d30a93b1",
   "metadata": {},
   "source": [
    "ONNX is faster for inference using ONNX Runtime to do inference, resulted slightly faster inference time than pytorch in some cases in fp32 weights, but more faster in fp16 weights example case (will discuss more in the next section about fp32, fp16 and int8 later)"
   ]
  },
  {
   "cell_type": "markdown",
   "id": "8e23f91d",
   "metadata": {},
   "source": [
    "Framework Interoperability: ONNX allows you to train a model in one language and then export and run it in another. This can be very advantageous for teams that use different frameworks or if you want to build a model in one language and then deploy it in another."
   ]
  },
  {
   "cell_type": "markdown",
   "id": "712652e6",
   "metadata": {},
   "source": [
    "Portability and Deployment Ease: ONNX can be used for running models on various platforms including cloud, edge devices, or on-premises servers. This way, you can avoid rewriting and retraining models for all these settings."
   ]
  },
  {
   "cell_type": "markdown",
   "id": "d184f3c2",
   "metadata": {},
   "source": [
    "Broad Support: Several well-known organizations and software vendors have thrown their support behind ONNX, ensuring that it would not be abandoned anytime soon. These include Microsoft, Facebook, Amazon, Intel, AMD, NVIDIA, IBM, and more."
   ]
  },
  {
   "cell_type": "markdown",
   "id": "f15ae816",
   "metadata": {},
   "source": [
    "Install depedencies"
   ]
  },
  {
   "cell_type": "code",
   "execution_count": null,
   "id": "106d952a",
   "metadata": {},
   "outputs": [],
   "source": [
    "!pip install torch torchvision torchaudio --index-url https://download.pytorch.org/whl/cpu\n",
    "!pip install transformers\n",
    "!pip install optimum[\"onnxruntime\"]"
   ]
  },
  {
   "cell_type": "markdown",
   "id": "d662bb23",
   "metadata": {},
   "source": [
    "# Accelerate inference using model quantization"
   ]
  },
  {
   "cell_type": "markdown",
   "id": "7266d21d",
   "metadata": {},
   "source": [
    "# Create Performance Baseline"
   ]
  },
  {
   "cell_type": "markdown",
   "id": "93c22caa",
   "metadata": {},
   "source": [
    "Before optimizing a model, it’s important to establish a baseline for comparison so later we can compare it and see if our optimization has any effect. In this case, we’ll measure * Time taken to generate predictions on the CPU using the original model. * Model performance, in this case is accuracy"
   ]
  },
  {
   "cell_type": "markdown",
   "id": "15225012",
   "metadata": {},
   "source": [
    "Here we are using Fine-tuned model (model from transfer learning) as our baseline model The dataset used for this notebook is indonlu-smsa, which used for sentiment analysis"
   ]
  },
  {
   "cell_type": "code",
   "execution_count": null,
   "id": "19107523",
   "metadata": {},
   "outputs": [],
   "source": [
    "from transformers import AutoTokenizer, AutoModelForSequenceClassification\n",
    "from transformers import pipeline\n",
    "import time\n",
    "\n",
    "tokenizer = AutoTokenizer.from_pretrained(\"ayameRushia/roberta-base-indonesian-1.5G-sentiment-analysis-smsa\")\n",
    "model = AutoModelForSequenceClassification.from_pretrained(\"ayameRushia/roberta-base-indonesian-1.5G-sentiment-analysis-smsa\")\n",
    "\n",
    "cls = pipeline(\"text-classification\", model=model, tokenizer=tokenizer)"
   ]
  },
  {
   "cell_type": "markdown",
   "id": "3df66295",
   "metadata": {},
   "source": [
    "Download Dataset for Testing from Huggingface dataset, in here we will use dataset from indonlu-smsa"
   ]
  },
  {
   "cell_type": "code",
   "execution_count": null,
   "id": "0cb3b564",
   "metadata": {},
   "outputs": [],
   "source": [
    "from datasets import load_dataset\n",
    "\n",
    "dataset = load_dataset(\"indonlp/indonlu\", \"smsa\")\n",
    "\n",
    "# establish testing input and label\n",
    "testing_input = dataset[\"validation\"][\"text\"]\n",
    "testing_label = dataset[\"validation\"][\"label\"]"
   ]
  },
  {
   "cell_type": "code",
   "execution_count": null,
   "id": "b39fe944",
   "metadata": {},
   "outputs": [],
   "source": [
    "# sneak peek to testing data\n",
    "\n",
    "print(testing_input[:5])\n",
    "print(testing_label[:5])"
   ]
  },
  {
   "cell_type": "markdown",
   "id": "29499610",
   "metadata": {},
   "source": [
    "# Measure Accuracy and time taken to inference all testing data"
   ]
  },
  {
   "cell_type": "code",
   "execution_count": null,
   "id": "3be2bfc4",
   "metadata": {},
   "outputs": [],
   "source": [
    "import evaluate\n",
    "\n",
    "# We use the evaluate function to evaluate our model on the testing data, and the metrisc we want to use is accuracy\n",
    "precision_metric = evaluate.load(\"accuracy\")"
   ]
  },
  {
   "cell_type": "markdown",
   "id": "76087178",
   "metadata": {},
   "source": [
    "Measure inference time of the baseline model"
   ]
  },
  {
   "cell_type": "code",
   "execution_count": null,
   "id": "f721b4ad",
   "metadata": {},
   "outputs": [],
   "source": [
    "t1 = time.time()\n",
    "result = cls(dataset[\"validation\"][\"text\"])\n",
    "result = [model.config.label2id[x[\"label\"]] for x in result]\n",
    "t2 = time.time()\n",
    "\n",
    "inference_time_vanilla = t2-t1\n",
    "avg_time_vanilla = inference_time_vanilla/len(result)\n",
    "\n",
    "print(f'Total inference time for vanilla model is {inference_time_vanilla:.3f} s')\n",
    "print(f'average inference time for vanilla model is {avg_time_vanilla:.3f} s')"
   ]
  },
  {
   "cell_type": "code",
   "execution_count": null,
   "id": "56bd7bbd",
   "metadata": {},
   "outputs": [],
   "source": [
    "300.5123541355133"
   ]
  },
  {
   "cell_type": "markdown",
   "id": "5115a335",
   "metadata": {},
   "source": [
    "Measure accuracy of the baseline model"
   ]
  },
  {
   "cell_type": "code",
   "execution_count": null,
   "id": "d056a6f1",
   "metadata": {},
   "outputs": [],
   "source": [
    "results_vanilla = precision_metric.compute(\n",
    "    references=testing_label, predictions=result)\n",
    "\n",
    "print(f'Accuracy of the vanilla model on testing dataset {results_vanilla[\"accuracy\"]*100:.3f}%')"
   ]
  },
  {
   "cell_type": "markdown",
   "id": "541ad261",
   "metadata": {},
   "source": [
    "# Now lets try optimize our model"
   ]
  },
  {
   "cell_type": "markdown",
   "id": "35412c65",
   "metadata": {},
   "source": [
    "# Quantization Model"
   ]
  },
  {
   "cell_type": "markdown",
   "id": "5ed788ba",
   "metadata": {},
   "source": [
    "The optimization process taken in this notebook is called quantization"
   ]
  },
  {
   "cell_type": "markdown",
   "id": "74a36eb2",
   "metadata": {},
   "source": [
    "Quantization is a technique to reduce the computational and memory costs of running inference by representing the weights and activations with low-precision data types like 8-bit integer (int8) instead of the usual 32-bit floating point (float32)."
   ]
  },
  {
   "cell_type": "markdown",
   "id": "d7797564",
   "metadata": {},
   "source": [
    "Reducing the number of bits means the resulting model requires less memory storage, consumes less energy (in theory), and operations like matrix multiplication can be performed much faster with integer arithmetic. It also allows to run models on embedded devices, which sometimes only support integer data types."
   ]
  },
  {
   "cell_type": "markdown",
   "id": "2ebcfbd3",
   "metadata": {},
   "source": [
    "While the quantization process substantially reduces the computational and memory load by using low-precision data types like 8-bit integers for representing weights and activations, it’s crucial to be aware of its impact on model accuracy. The inherent reduction in precision due to quantization can potentially degrade model performance, as it relies on a degree of approximation. This may not be acceptable for use-cases necessitating high precision."
   ]
  },
  {
   "cell_type": "markdown",
   "id": "d9bc3c9c",
   "metadata": {},
   "source": [
    "There are two ways of doing quantization, we won’t be explaining the concept in detail, but rather the difference in their output for both methods :"
   ]
  },
  {
   "cell_type": "markdown",
   "id": "257faa91",
   "metadata": {},
   "source": [
    "Quantization parameters can be computed on a per-tensor basis, faster but slightly less accurate and requires less memory."
   ]
  },
  {
   "cell_type": "markdown",
   "id": "e2d06186",
   "metadata": {},
   "source": [
    "Quantization parameters can be computed on a per-channel basis, better accuracy, it requires more memory and slower"
   ]
  },
  {
   "cell_type": "markdown",
   "id": "e8967507",
   "metadata": {},
   "source": [
    "# Quantization Calibration"
   ]
  },
  {
   "cell_type": "markdown",
   "id": "84297dbf",
   "metadata": {},
   "source": [
    "Calibration is the step during quantization where the float32 ranges are computed. For weights it is quite easy since the actual range is known at quantization-time. But it is less clear for activations, and different approaches exist:"
   ]
  },
  {
   "cell_type": "markdown",
   "id": "3753bb53",
   "metadata": {},
   "source": [
    "Post training dynamic quantization: the range for each activation is computed on the fly at runtime, This is the simplest approach but slower when compared to static quantization"
   ]
  },
  {
   "cell_type": "markdown",
   "id": "45ad1e6d",
   "metadata": {},
   "source": [
    "Post training static quantization: the range for each activation is computed in advance at quantization-time, typically by passing representative data through the model and recording the activation values. Thus, make the inference time faster"
   ]
  },
  {
   "cell_type": "markdown",
   "id": "998f8e98",
   "metadata": {},
   "source": [
    "# In this notebook we will use per-tensor quantization with post training dynamic quantization"
   ]
  },
  {
   "cell_type": "markdown",
   "id": "ce188fdf",
   "metadata": {},
   "source": [
    "Without further ado, let’s quantize our model!"
   ]
  },
  {
   "cell_type": "markdown",
   "id": "6740942b",
   "metadata": {},
   "source": [
    "First we export our model to onnx from pytorch"
   ]
  },
  {
   "cell_type": "code",
   "execution_count": null,
   "id": "6bff5471",
   "metadata": {},
   "outputs": [],
   "source": [
    "from optimum.onnxruntime import ORTModelForSequenceClassification, ORTQuantizer\n",
    "from optimum.onnxruntime.configuration import AutoQuantizationConfig\n",
    "\n",
    "# Load the model from the hub and export it to the ONNX format\n",
    "model = ORTModelForSequenceClassification.from_pretrained(\n",
    "    \"ayameRushia/roberta-base-indonesian-1.5G-sentiment-analysis-smsa\", export=True)"
   ]
  },
  {
   "cell_type": "markdown",
   "id": "07bd7bf3",
   "metadata": {},
   "source": [
    "# After exporting the model to onnx we will use ORTQuantizer to quantize our model and add quantization config."
   ]
  },
  {
   "cell_type": "code",
   "execution_count": null,
   "id": "0b2a0ce6",
   "metadata": {},
   "outputs": [],
   "source": [
    "  - AVX512 (general user CPU, intel and amd)\n",
    "  - ARM (mobile CPU, apple silicon, embedded device such as Jetson Nano from nvidia or raspberry pi)\n",
    "  - AVX2 (older CPU, intel and amd)"
   ]
  },
  {
   "cell_type": "code",
   "execution_count": null,
   "id": "6165cbad",
   "metadata": {},
   "outputs": [],
   "source": [
    "quantizer = ORTQuantizer.from_pretrained(model)\n",
    "dqconfig = AutoQuantizationConfig.avx512_vnni(is_static=False, per_channel=False)"
   ]
  },
  {
   "cell_type": "markdown",
   "id": "696ea458",
   "metadata": {},
   "source": [
    "Then, quantize the model using defined quantizer and quantization config"
   ]
  },
  {
   "cell_type": "code",
   "execution_count": null,
   "id": "14ae7bfb",
   "metadata": {},
   "outputs": [],
   "source": [
    "save_dir = \"model/model_onnx\"\n",
    "\n",
    "model_quantized_path = quantizer.quantize(\n",
    "    save_dir=save_dir,\n",
    "    quantization_config=dqconfig,\n",
    ")"
   ]
  },
  {
   "cell_type": "markdown",
   "id": "7127432b",
   "metadata": {},
   "source": [
    "In hypothesis, after quantizing our model from fp32 to int8, the model size will be reduced and the inference time will be faster Then, lets first compute the size of the model before and after quantization"
   ]
  },
  {
   "cell_type": "code",
   "execution_count": null,
   "id": "f2f05ea2",
   "metadata": {},
   "outputs": [],
   "source": [
    "import os\n",
    "\n",
    "size_model_q = os.path.getsize(\"/content/model/model_onnx/model_quantized.onnx\")/1024/1024  # divide by 1024 because the result is in bytes, divide by 1024 again to get the result in MB\n",
    "print(f\"Size of the quantized model is {size_model_q:.3f} MB\")"
   ]
  },
  {
   "cell_type": "markdown",
   "id": "f14c204e",
   "metadata": {},
   "source": [
    "The result is pretty good, we reduce the model size from 518 MB (vanilla pytorch) to only 120.98 MB (quantized model)"
   ]
  },
  {
   "cell_type": "markdown",
   "id": "0aa4dc7f",
   "metadata": {},
   "source": [
    "Now, lets try to measure the inference time of the quantized model"
   ]
  },
  {
   "cell_type": "markdown",
   "id": "897f47d1",
   "metadata": {},
   "source": [
    "Create pipeline using quantized model from optimum (also library from huggingface)"
   ]
  },
  {
   "cell_type": "code",
   "execution_count": null,
   "id": "305a24a3",
   "metadata": {},
   "outputs": [],
   "source": [
    "from optimum.pipelines import pipeline\n",
    "\n",
    "model = ORTModelForSequenceClassification.from_pretrained(\"model/model_onnx\")\n",
    "onnx_clx = pipeline(\"text-classification\", model=model)"
   ]
  },
  {
   "cell_type": "code",
   "execution_count": null,
   "id": "d4562b50",
   "metadata": {},
   "outputs": [],
   "source": [
    "t1_onnx = time.time()\n",
    "result_q = onnx_clx(dataset[\"validation\"][\"text\"])\n",
    "result_q = [model.config.label2id[x[\"label\"]] for x in result_q]\n",
    "t2_onnx = time.time()\n",
    "\n",
    "time_onnx = (t2_onnx-t1_onnx)/len(result_q) * 1000"
   ]
  },
  {
   "cell_type": "markdown",
   "id": "3c1d97cb",
   "metadata": {},
   "source": [
    "After measure the inference time, lets measure its performance using evaluate function"
   ]
  },
  {
   "cell_type": "code",
   "execution_count": null,
   "id": "2040d0be",
   "metadata": {},
   "outputs": [],
   "source": [
    "import evaluate\n",
    "precision_metric = evaluate.load(\"accuracy\")\n",
    "results_q = precision_metric.compute(references=dataset[\"validation\"][\"label\"], predictions=result_q)\n",
    "print(f'Accuracy of the vanilla model on testing dataset {results_q[\"accuracy\"]*100:.3f}%')"
   ]
  },
  {
   "cell_type": "markdown",
   "id": "2bc7475a",
   "metadata": {},
   "source": [
    "# Comparison Visualization"
   ]
  },
  {
   "cell_type": "code",
   "execution_count": null,
   "id": "e8539711",
   "metadata": {},
   "outputs": [],
   "source": [
    "import matplotlib.pyplot as plt\n",
    "\n",
    "labels = ['Results (Q)', 'Results']\n",
    "accuracy_values = [results_q['accuracy'], results_vanilla['accuracy']]\n",
    "\n",
    "plt.figure(figsize=(8, 6))\n",
    "plt.bar(labels, accuracy_values, color=['blue', 'green'])\n",
    "plt.ylim(0.9, 1.0)  # Set the y-axis limits to ensure the entire range is visible\n",
    "\n",
    "# Add labels and a title\n",
    "plt.xlabel('Results')\n",
    "plt.ylabel('Accuracy')\n",
    "plt.title('Accuracy Comparison')\n",
    "\n",
    "# Add text labels above the bars\n",
    "for i in range(len(labels)):\n",
    "    plt.text(i, accuracy_values[i] + 0.005, f'{accuracy_values[i]:.5f}', ha='center', fontsize=12)\n",
    "\n",
    "# Show the plot\n",
    "plt.show()"
   ]
  },
  {
   "cell_type": "markdown",
   "id": "07fba4e9",
   "metadata": {},
   "source": []
  },
  {
   "cell_type": "code",
   "execution_count": null,
   "id": "ed7b8539",
   "metadata": {},
   "outputs": [],
   "source": [
    "import matplotlib.pyplot as plt\n",
    "\n",
    "# Define the inference times\n",
    "time_onnx = (t2_onnx - t1_onnx) / len(result_q)\n",
    "time_vanilla = (t2 - t1) / len(result)\n",
    "\n",
    "# Create a bar chart to visualize the inference times\n",
    "labels = ['ONNX Model', 'Vanilla Model']\n",
    "inference_times = [time_onnx, time_vanilla]\n",
    "\n",
    "plt.figure(figsize=(8, 6))\n",
    "plt.bar(labels, inference_times, color=['blue', 'green'])\n",
    "plt.ylim(0, max(inference_times) * 1.2)  # Set the y-axis limits to ensure the entire range is visible\n",
    "\n",
    "# Add labels and a title\n",
    "plt.xlabel('Model Type')\n",
    "plt.ylabel('Inference Time (per sample)')\n",
    "plt.title('Average Inference Time Comparison (per sample)')\n",
    "\n",
    "# Add text labels above the bars\n",
    "for i in range(len(labels)):\n",
    "    plt.text(i, inference_times[i] + max(inference_times) * 0.02, f'{inference_times[i]:.4f} seconds', ha='center', fontsize=12)\n",
    "\n",
    "# Show the plot\n",
    "plt.show()"
   ]
  },
  {
   "cell_type": "markdown",
   "id": "f23d9242",
   "metadata": {},
   "source": []
  },
  {
   "cell_type": "code",
   "execution_count": null,
   "id": "fcd84673",
   "metadata": {},
   "outputs": [],
   "source": [
    "optimization_percentage = ((time_vanilla - time_onnx) / time_vanilla) * 100\n",
    "print(f'Inference time optimized by {optimization_percentage:.3f}%')"
   ]
  }
 ],
 "metadata": {},
 "nbformat": 4,
 "nbformat_minor": 5
}
