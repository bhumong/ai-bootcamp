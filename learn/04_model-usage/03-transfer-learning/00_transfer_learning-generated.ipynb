{
 "cells": [
  {
   "cell_type": "markdown",
   "id": "5ea8c004",
   "metadata": {},
   "source": [
    "source: [link](https://ai-bootcamp.ruangguru.com/learn/04_model-usage/03-transfer-learning/00_transfer_learning.html)"
   ]
  },
  {
   "cell_type": "markdown",
   "id": "1742bc0c",
   "metadata": {},
   "source": [
    "# Transfer Learning"
   ]
  },
  {
   "cell_type": "markdown",
   "id": "959b4b0e",
   "metadata": {},
   "source": []
  },
  {
   "cell_type": "markdown",
   "id": "40c64de9",
   "metadata": {},
   "source": [
    "![Image](https://storage.googleapis.com/rg-ai-bootcamp/model_usage/transfer-learning.gif)"
   ]
  },
  {
   "cell_type": "markdown",
   "id": "911b59b9",
   "metadata": {},
   "source": [
    "# Introduction"
   ]
  },
  {
   "cell_type": "markdown",
   "id": "d7ca632c",
   "metadata": {},
   "source": [
    "Do you need help to train complex models due to limited high-quality data and resources? 🤔 Don’t panic! The answer is Transfer Learning. This technique leverages pre-trained models, like BERT for NLP or ImageNet for image classification, to significantly reduce training time. Think of it as teaching an old dog new tricks: You can easily adapt an ImageNet model to tasks like dog breed classification. And voila! You’ve just made quick progress even with scarce data."
   ]
  },
  {
   "cell_type": "markdown",
   "id": "a14581bd",
   "metadata": {},
   "source": [
    "# How does Neural Network change in Transfer Learning?"
   ]
  },
  {
   "cell_type": "markdown",
   "id": "96b0abf5",
   "metadata": {},
   "source": [
    "Imagine a chef who is skilled in baking cakes. Suppose this chef needs to cook a new dish, like pasta. Instead of starting from scratch, they leverage their culinary skills, adjusting only where necessary for the pasta-specific nuances."
   ]
  },
  {
   "cell_type": "markdown",
   "id": "100d77ac",
   "metadata": {},
   "source": [
    "Similarly, two possible approaches exist in machine learning: “Training from Scratch” and “Transfer Learning”. In the former, a model like CNN is trained on a new dataset, like Vehicles, without prior knowledge. In the latter, the model leverages prior knowledge acquired from a different dataset, like Animals, and adjusts this understanding to the new task."
   ]
  },
  {
   "cell_type": "markdown",
   "id": "05e969f8",
   "metadata": {},
   "source": []
  },
  {
   "cell_type": "markdown",
   "id": "bca93d91",
   "metadata": {},
   "source": [
    "![Image](https://miro.medium.com/v2/resize:fit:720/0*xNjEPIZmPvKeqss6.png)"
   ]
  },
  {
   "cell_type": "markdown",
   "id": "1711d1f3",
   "metadata": {},
   "source": [
    "The image above illustrates this concept. As shown, a model trained from scratch (the top one) is set up to learn directly from the vehicle dataset. It starts with no inherent understanding of images and must learn the features that differentiate one vehicle from another."
   ]
  },
  {
   "cell_type": "markdown",
   "id": "8a211bcf",
   "metadata": {},
   "source": [
    "In contrast, a transfer learning model (the bottom) begins with a pre-trained network with pre-existing knowledge about different animals. This model is fine-tuned to distinguish different types of vehicles, typically achieving faster and more efficient results than training from scratch."
   ]
  },
  {
   "cell_type": "markdown",
   "id": "bd780778",
   "metadata": {},
   "source": [
    "In essence, while both models aim to classify different types of vehicles, they learn differently: the model trained from scratch learns all features independently, like a chef learning a new dish from scratch, whereas the transfer learning model refines existing knowledge for the new task, similar to a chef adapting their existing skills to a new recipe."
   ]
  },
  {
   "cell_type": "markdown",
   "id": "261aff8d",
   "metadata": {},
   "source": [
    "# Hands-On with MNIST"
   ]
  },
  {
   "cell_type": "markdown",
   "id": "a9684efc",
   "metadata": {},
   "source": [
    "Let’s see transfer learning in action on the famous MNIST dataset, a large collection of handwritten numbers. We will use PyTorch, a powerful open source library for machine learning in Python, as we have done in previous PyTorch materials."
   ]
  },
  {
   "cell_type": "markdown",
   "id": "e1f7194b",
   "metadata": {},
   "source": [
    "# Data Loader"
   ]
  },
  {
   "cell_type": "markdown",
   "id": "6235011b",
   "metadata": {},
   "source": [
    "First, we have to load the data and check it. But how can you load large data sets in manageable batches? PyTorch DataLoader makes this possible and efficient. This is especially useful when the data is large and cannot be loaded into memory."
   ]
  },
  {
   "cell_type": "code",
   "execution_count": null,
   "id": "d95cadac",
   "metadata": {},
   "outputs": [],
   "source": [
    "import torch\n",
    "\n",
    "# Load MNIST data\n",
    "from torchvision import datasets, transforms\n",
    "from torch.utils.data import DataLoader\n",
    "\n",
    "# Load MNIST data\n",
    "mnist_train = datasets.MNIST(root='./data', train=True, transform=transforms.ToTensor(), download=True)\n",
    "mnist_test = datasets.MNIST(root='./data', train=False, transform=transforms.ToTensor(), download=True)\n",
    "\n",
    "# Inspect data\n",
    "print(mnist_train)\n",
    "print(mnist_test)\n",
    "\n",
    "# Use Data Loader\n",
    "train_loader = DataLoader(mnist_train, batch_size=100, shuffle=True)\n",
    "test_loader = DataLoader(mnist_test, batch_size=100, shuffle=False)\n",
    "\n",
    "# Iterate through data\n",
    "for images, labels in train_loader:\n",
    "    print('Image batch dimensions:', images.shape)\n",
    "    print('Image label dimensions:', labels.shape)\n",
    "    break"
   ]
  },
  {
   "cell_type": "markdown",
   "id": "87d53fec",
   "metadata": {},
   "source": [
    "# Visualizing the Data"
   ]
  },
  {
   "cell_type": "markdown",
   "id": "e43139fa",
   "metadata": {},
   "source": [
    "Visualizing our data can help us understand it better. But what if you’re not sure how to display images from your dataset? No worries! With matplotlib, a powerful plotting library in Python, we can easily visualize our images."
   ]
  },
  {
   "cell_type": "code",
   "execution_count": null,
   "id": "ef4dfced",
   "metadata": {},
   "outputs": [],
   "source": [
    "import matplotlib.pyplot as plt\n",
    "import numpy as np\n",
    "\n",
    "# Define label mapping\n",
    "classes = [str(i) for i in range(10)] # because MNIST has 10 classes from digit 0 to digit 9\n",
    "# Load a batch of images\n",
    "images, labels = next(iter(train_loader))\n",
    "# Convert images to numpy for visualization\n",
    "images = images.numpy()\n",
    "# Convert images from 1 channel to 3 channels for visualization\n",
    "images = np.repeat(images, 3, axis=1)\n",
    "# Plot the images with their labels\n",
    "fig = plt.figure(figsize=(25, 4))\n",
    "\n",
    "# Display 20 images\n",
    "for idx in range(20):\n",
    "    ax = fig.add_subplot(2, 20//2, idx+1, xticks=[], yticks=[])\n",
    "    plt.imshow(np.transpose(images[idx], (1, 2, 0)))\n",
    "    ax.set_title(classes[labels[idx]])"
   ]
  },
  {
   "cell_type": "markdown",
   "id": "86f57497",
   "metadata": {},
   "source": [
    "OK, now let’s start training with the model we created ourselves."
   ]
  },
  {
   "cell_type": "code",
   "execution_count": null,
   "id": "9425405d",
   "metadata": {},
   "outputs": [],
   "source": [
    "import torch.nn as nn\n",
    "\n",
    "# Define model\n",
    "class CreateModel(nn.Module):\n",
    "    def __init__(self):\n",
    "        super().__init__()\n",
    "        self.linear = nn.Linear(784, 100)\n",
    "        self.hidden = nn.Linear(100, 10)\n",
    "\n",
    "    def forward(self, xb):\n",
    "        # Flatten the image tensors using reshape\n",
    "        xb = xb.reshape(-1, 784)\n",
    "        out = self.linear(xb)\n",
    "        out = self.hidden(out)\n",
    "        return out\n",
    "    \n",
    "# Instantiate the model\n",
    "model = CreateModel()\n",
    "\n",
    "# Define loss function\n",
    "loss_fn = nn.CrossEntropyLoss()\n",
    "\n",
    "# Define optimizer\n",
    "learning_rate = 1e-2\n",
    "optimizer = torch.optim.SGD(model.parameters(), lr=learning_rate)\n",
    "\n",
    "# Define accuracy function\n",
    "def accuracy(outputs, labels):\n",
    "    _, preds = torch.max(outputs, dim=1)\n",
    "    return torch.tensor(torch.sum(preds == labels).item() / len(preds))\n",
    "\n",
    "# Train\n",
    "for epoch in range(20):\n",
    "    for images, labels in train_loader:\n",
    "        # Generate predictions\n",
    "        outputs = model(images)\n",
    "        loss = loss_fn(outputs, labels)\n",
    "        # Perform gradient descent\n",
    "        optimizer.zero_grad()\n",
    "        loss.backward()\n",
    "        optimizer.step()\n",
    "        print('Epoch [{}/{}], Loss: {:.4f}'.format(epoch+1, 20, loss.item()))\n",
    "\n",
    "# Evaluate\n",
    "with torch.no_grad():\n",
    "    accum_acc = 0\n",
    "    for images, labels in test_loader:\n",
    "        outputs = model(images)\n",
    "        loss = loss_fn(outputs, labels)\n",
    "        acc = accuracy(outputs, labels)\n",
    "        accum_acc += acc\n",
    "    \n",
    "    print('Test loss: {:.4f}, Test accuracy: {:.4f}'.format(loss.item(), accum_acc/len(test_loader)))"
   ]
  },
  {
   "cell_type": "markdown",
   "id": "5502168b",
   "metadata": {},
   "source": [
    "# Making Individual Predictions"
   ]
  },
  {
   "cell_type": "markdown",
   "id": "a49878b4",
   "metadata": {},
   "source": [
    "Building and training a model is great, but how do we make predictions on individual images? What if you’re not sure how to use your newly trained model? The predict_image function provides a straightforward way to get your model’s prediction for a single image."
   ]
  },
  {
   "cell_type": "code",
   "execution_count": null,
   "id": "5905181d",
   "metadata": {},
   "outputs": [],
   "source": [
    "import matplotlib.pyplot as plt\n",
    "\n",
    "def predict_image(img, model):\n",
    "    xb = img.unsqueeze(0)\n",
    "    yb = model(xb)\n",
    "    _, preds  = torch.max(yb, dim=1)\n",
    "    return preds[0].item()\n",
    "\n",
    "img, label = mnist_test[4] # Explore the data with index\n",
    "plt.imshow(img[0], cmap='gray')\n",
    "print('Label:', label, ', Predicted:', predict_image(img, model))"
   ]
  },
  {
   "cell_type": "markdown",
   "id": "f20a6514",
   "metadata": {},
   "source": [
    "# Fine-tuning with FashionMNIST"
   ]
  },
  {
   "cell_type": "markdown",
   "id": "ba852a8c",
   "metadata": {},
   "source": [
    "Now, what if we want to classify different types of clothing, not just digits? Transfer learning to the rescue! We can fine-tune our pre-trained model on the new data to achieve great results."
   ]
  },
  {
   "cell_type": "markdown",
   "id": "8128b9d8",
   "metadata": {},
   "source": [
    "That’s where the FashionMNIST dataset comes in. It’s a dataset of Zalando’s article images, consisting of a training set of 60,000 examples and a test set of 10,000 examples. Each example is a 28x28 grayscale image, associated with a label from 10 classes."
   ]
  },
  {
   "cell_type": "markdown",
   "id": "668709f6",
   "metadata": {},
   "source": [
    "Sounds daunting? Don’t worry! With transfer learning, we can leverage the experience our model gained from MNIST to tackle this new task."
   ]
  },
  {
   "cell_type": "markdown",
   "id": "a58317f5",
   "metadata": {},
   "source": [
    "# Data Loader"
   ]
  },
  {
   "cell_type": "markdown",
   "id": "e6e0491b",
   "metadata": {},
   "source": [
    "The first step, we have to load the FashionMNIST data as we do in MNIST."
   ]
  },
  {
   "cell_type": "code",
   "execution_count": null,
   "id": "9aa742f0",
   "metadata": {},
   "outputs": [],
   "source": [
    "# Load FashionMNIST data\n",
    "from torchvision import datasets, transforms\n",
    "from torch.utils.data import DataLoader\n",
    "\n",
    "fashion_train = datasets.FashionMNIST(root='./data', train=True, transform=transforms.ToTensor(), download=True)\n",
    "fashion_test = datasets.FashionMNIST(root='./data', train=False, transform=transforms.ToTensor(), download=True)\n",
    "\n",
    "# Inspect data\n",
    "print(fashion_train)\n",
    "print(fashion_test)\n",
    "\n",
    "# Use Data Loader\n",
    "fashion_train_loader = DataLoader(fashion_train, batch_size=100, shuffle=True)\n",
    "fashion_test_loader = DataLoader(fashion_test, batch_size=100, shuffle=False)\n",
    "\n",
    "# Iterate through data\n",
    "for images, labels in fashion_train_loader:\n",
    "    print('Image batch dimensions:', images.shape)\n",
    "    print('Image label dimensions:', labels.shape)\n",
    "    break"
   ]
  },
  {
   "cell_type": "markdown",
   "id": "69b99776",
   "metadata": {},
   "source": [
    "# Visualizing the FashionMNIST Data with Class Labels"
   ]
  },
  {
   "cell_type": "markdown",
   "id": "d225724e",
   "metadata": {},
   "source": [
    "Visualizing data is helpful, but wouldn’t it be even better if we could visualize it with the corresponding class labels? What if you’re not sure how to map the labels of your data to their actual class names? That’s where the classes list comes into play."
   ]
  },
  {
   "cell_type": "code",
   "execution_count": null,
   "id": "23144b32",
   "metadata": {},
   "outputs": [],
   "source": [
    "import matplotlib.pyplot as plt\n",
    "import numpy as np\n",
    "\n",
    "# Define label mapping for FashionMNIST\n",
    "classes = ['T-shirt/top', 'Trouser', 'Pullover', 'Dress', 'Coat', \n",
    "           'Sandal', 'Shirt', 'Sneaker', 'Bag', 'Ankle boot']\n",
    "\n",
    "images, labels = next(iter(fashion_train_loader))\n",
    "images = images.numpy()\n",
    "images = np.repeat(images, 3, axis=1)\n",
    "fig = plt.figure(figsize=(25, 4))\n",
    "\n",
    "# Display 20 images\n",
    "for idx in range(20):\n",
    "    ax = fig.add_subplot(2, 20//2, idx+1, xticks=[], yticks=[])\n",
    "    plt.imshow(np.transpose(images[idx], (1, 2, 0)))\n",
    "    ax.set_title(f\"{labels[idx]}. {classes[labels[idx]]}\")"
   ]
  },
  {
   "cell_type": "markdown",
   "id": "a9226535",
   "metadata": {},
   "source": [
    "# Testing the Model’s Predictions on Unseen FashionMNIST Data"
   ]
  },
  {
   "cell_type": "markdown",
   "id": "4e798ad5",
   "metadata": {},
   "source": [
    "After training our model on the MNIST dataset, we might wonder how it would perform on the FashionMNIST dataset without any further training. What if we could use our model to make a prediction on a FashionMNIST image? By calling the predict_image function, we can do exactly that!"
   ]
  },
  {
   "cell_type": "code",
   "execution_count": null,
   "id": "74373c88",
   "metadata": {},
   "outputs": [],
   "source": [
    "import matplotlib.pyplot as plt\n",
    "\n",
    "img, label = fashion_test[6] # Explore the data with index\n",
    "plt.imshow(img[0], cmap='gray')\n",
    "print('Label:', label, ', Predicted:', predict_image(img, model))"
   ]
  },
  {
   "cell_type": "markdown",
   "id": "9f487952",
   "metadata": {},
   "source": [
    "Unfortunately, without any further training, the model struggles to correctly classify images from the FashionMNIST dataset. This result may seem disappointing, but it is not entirely surprising. The MNIST and FashionMNIST datasets, despite sharing the same structure, represent completely different kinds of images (handwritten digits versus clothing items), and it’s a tough ask for a model trained specifically on digits to accurately classify clothing items."
   ]
  },
  {
   "cell_type": "markdown",
   "id": "fed04bf6",
   "metadata": {},
   "source": [
    "This is exactly where the power of transfer learning shines! Let’s start training with the model architecture that we used for MNIST but this time, we’ll fine-tune it on the FashionMNIST data. With this approach, our model can quickly learn to generalize from digits to clothing items, showcasing the strength of transfer learning in practice."
   ]
  },
  {
   "cell_type": "code",
   "execution_count": null,
   "id": "fc7953cc",
   "metadata": {},
   "outputs": [],
   "source": [
    "# Fine-tuning with FashionMNIST data\n",
    "for epoch in range(10):\n",
    "    for images, labels in fashion_train_loader:\n",
    "        # Generate predictions\n",
    "        outputs = model(images)\n",
    "        loss = loss_fn(outputs, labels)\n",
    "        \n",
    "        # Perform gradient descent\n",
    "        optimizer.zero_grad()\n",
    "        loss.backward()\n",
    "        optimizer.step()\n",
    "        \n",
    "        print('Epoch [{}/{}], Loss: {:.4f}'.format(epoch+1, 20, loss.item()))\n",
    "\n",
    "# Evaluate with FashionMNIST test data\n",
    "with torch.no_grad():\n",
    "    accum_acc = 0\n",
    "    for images, labels in fashion_test_loader:\n",
    "        outputs = model(images)\n",
    "        loss = loss_fn(outputs, labels)\n",
    "        acc = accuracy(outputs, labels)\n",
    "        accum_acc += acc\n",
    "    \n",
    "    print('Test loss: {:.4f}, Test accuracy: {:.4f}'.format(loss.item(), accum_acc/len(fashion_test_loader)))"
   ]
  },
  {
   "cell_type": "markdown",
   "id": "16e3fe88",
   "metadata": {},
   "source": [
    "# Testing the Model’s Predictions After Fine-Tuning"
   ]
  },
  {
   "cell_type": "markdown",
   "id": "b57b2045",
   "metadata": {},
   "source": [
    "After fine-tuning our model on the FashionMNIST dataset, we need to verify if it improved the model’s performance. What if we could test our model’s prediction on a FashionMNIST image again, but this time after fine-tuning? That’s precisely where the predict_image function comes in handy."
   ]
  },
  {
   "cell_type": "code",
   "execution_count": null,
   "id": "856d3717",
   "metadata": {},
   "outputs": [],
   "source": [
    "import matplotlib.pyplot as plt\n",
    "\n",
    "label_map = {\n",
    "    0: \"T-shirt/top\",\n",
    "    1: \"Trouser\",\n",
    "    2: \"Pullover\",\n",
    "    3: \"Dress\",\n",
    "    4: \"Coat\",\n",
    "    5: \"Sandal\",\n",
    "    6: \"Shirt\",\n",
    "    7: \"Sneaker\",\n",
    "    8: \"Bag\",\n",
    "    9: \"Ankle boot\",\n",
    "}\n",
    "\n",
    "img, label = fashion_test[1] # Explore the data with index\n",
    "plt.imshow(img[0], cmap='gray')\n",
    "print(f\"Label: {label}. is: {label_map[label]}, Predicted: {predict_image(img, model)}. is: {label_map[predict_image(img, model)]}\")"
   ]
  },
  {
   "cell_type": "markdown",
   "id": "f6b05e6d",
   "metadata": {},
   "source": [
    "# Exploring Further Into Fine-Tuning and Use Cases"
   ]
  },
  {
   "cell_type": "markdown",
   "id": "65b62271",
   "metadata": {},
   "source": [
    "After testing our model on FashionMNIST data, we should now further deepen our understanding of fine-tuning. This sophisticated technique is not only limited to image classification tasks but can also be applied across various domains, including:"
   ]
  },
  {
   "cell_type": "markdown",
   "id": "4c2d91a3",
   "metadata": {},
   "source": [
    "One such example is audio classification. By using a pre-trained model like Wav2Vec2 and fine-tuning it on a specific dataset, we can create a powerful audio classification model even with less training data. This process includes several steps such as loading the dataset, preprocessing the data, setting up an evaluation metric, and finally training and evaluating the model."
   ]
  },
  {
   "cell_type": "markdown",
   "id": "dc839ebe",
   "metadata": {},
   "source": [
    "Let’s see how we can apply fine-tuning to develop an audio classification model and test its performance!"
   ]
  },
  {
   "cell_type": "markdown",
   "id": "92e39c08",
   "metadata": {},
   "source": [
    "# Audio Classification"
   ]
  },
  {
   "cell_type": "markdown",
   "id": "c91c1c66",
   "metadata": {},
   "source": [
    "Imagine you are a wildlife conservationist, you have a library of sounds, and you want to classify whether they come from one animal species or another. You struggle because there are so many audio files and analyzing them manually takes so much time and effort!"
   ]
  },
  {
   "cell_type": "markdown",
   "id": "6bf5ab8a",
   "metadata": {},
   "source": [
    "But don’t worry! With the power of AI, we can make this process significantly easier and faster using a technique called Audio Classification."
   ]
  },
  {
   "cell_type": "markdown",
   "id": "091447f4",
   "metadata": {},
   "source": []
  },
  {
   "cell_type": "markdown",
   "id": "24cdb948",
   "metadata": {},
   "source": [
    "![Image](https://storage.googleapis.com/rg-ai-bootcamp/model_usage/audio-classification.png)"
   ]
  },
  {
   "cell_type": "markdown",
   "id": "4a415146",
   "metadata": {},
   "source": [
    "Tasks: Audio Classification (source: youtube.com)"
   ]
  },
  {
   "cell_type": "markdown",
   "id": "5799c6fd",
   "metadata": {},
   "source": [
    "Audio Classification can be used for various applications, including detecting speaker’s intent, classifying languages, or in our case, identifying animal species by their sounds."
   ]
  },
  {
   "cell_type": "markdown",
   "id": "05247036",
   "metadata": {},
   "source": [
    "For this purpose, we are going to utilize the pre-trained Wav2Vec2 model and fine-tune it on the MInDS-14 dataset specifically designed for this task. This approach reduces our training time and improves the model’s performance even with less data!"
   ]
  },
  {
   "cell_type": "markdown",
   "id": "3e485f89",
   "metadata": {},
   "source": [
    "Before we start, we need to make sure to have all the necessary Python libraries installed. Run this command in your Python environment:"
   ]
  },
  {
   "cell_type": "code",
   "execution_count": null,
   "id": "bec639ee",
   "metadata": {},
   "outputs": [],
   "source": [
    "%pip install transformers datasets evaluate"
   ]
  },
  {
   "cell_type": "markdown",
   "id": "89d19389",
   "metadata": {},
   "source": [
    "We also encourage you to log in to your Hugging Face account so you can upload and share your model with the community. If you are prompted, enter your token to login:"
   ]
  },
  {
   "cell_type": "code",
   "execution_count": null,
   "id": "83fff43b",
   "metadata": {},
   "outputs": [],
   "source": [
    "from huggingface_hub import notebook_login\n",
    "\n",
    "notebook_login()"
   ]
  },
  {
   "cell_type": "markdown",
   "id": "6a93471d",
   "metadata": {},
   "source": [
    "Load MInDS-14 dataset"
   ]
  },
  {
   "cell_type": "markdown",
   "id": "eb54cce1",
   "metadata": {},
   "source": [
    "Now we are ready to load our dataset, MInDS-14, from the Datasets library:"
   ]
  },
  {
   "cell_type": "code",
   "execution_count": null,
   "id": "7909eda7",
   "metadata": {},
   "outputs": [],
   "source": [
    "from datasets import load_dataset, Audio\n",
    "\n",
    "minds = load_dataset(\"PolyAI/minds14\", name=\"en-US\", split=\"train\")"
   ]
  },
  {
   "cell_type": "markdown",
   "id": "0d5f1ef9",
   "metadata": {},
   "source": [
    "We will then split our dataset into a smaller training and testing set. This step allows us to experiment and validate our model before spending more time on the full dataset."
   ]
  },
  {
   "cell_type": "code",
   "execution_count": null,
   "id": "3da16e8c",
   "metadata": {},
   "outputs": [],
   "source": [
    "minds = minds.train_test_split(test_size=0.2)"
   ]
  },
  {
   "cell_type": "markdown",
   "id": "f5b49ad4",
   "metadata": {},
   "source": [
    "Then take a look at the dataset:"
   ]
  },
  {
   "cell_type": "code",
   "execution_count": null,
   "id": "ef913168",
   "metadata": {},
   "outputs": [],
   "source": [
    "minds"
   ]
  },
  {
   "cell_type": "markdown",
   "id": "30b78df1",
   "metadata": {},
   "source": [
    "While our dataset contains a lot of useful information, we will focus on the audio and intent_class in this guide. Let’s remove the other columns:"
   ]
  },
  {
   "cell_type": "code",
   "execution_count": null,
   "id": "d1f73521",
   "metadata": {},
   "outputs": [],
   "source": [
    "minds = minds.remove_columns([\"path\", \"transcription\", \"english_transcription\", \"lang_id\"])"
   ]
  },
  {
   "cell_type": "markdown",
   "id": "832c9f30",
   "metadata": {},
   "source": [
    "Now let’s take a look at an example in our dataset:"
   ]
  },
  {
   "cell_type": "code",
   "execution_count": null,
   "id": "4185a82e",
   "metadata": {},
   "outputs": [],
   "source": [
    "minds[\"train\"][0]"
   ]
  },
  {
   "cell_type": "markdown",
   "id": "124b1c93",
   "metadata": {},
   "source": [
    "Great! Now we have our dataset loaded and ready. Its fields are: - audio: a 1-dimensional array of the speech signal that we will use for training our model. - intent_class: represents the class id of the speaker’s intent (or in our case, the species of the animal)."
   ]
  },
  {
   "cell_type": "markdown",
   "id": "38175ade",
   "metadata": {},
   "source": [
    "To make it easier for the model to get the label name from the label id, we create a dictionary that maps the label name to an integer and vice versa:"
   ]
  },
  {
   "cell_type": "code",
   "execution_count": null,
   "id": "20c785f8",
   "metadata": {},
   "outputs": [],
   "source": [
    "labels = minds[\"train\"].features[\"intent_class\"].names\n",
    "label2id, id2label = dict(), dict()\n",
    "for i, label in enumerate(labels):\n",
    "    label2id[label] = str(i)\n",
    "    id2label[str(i)] = label"
   ]
  },
  {
   "cell_type": "markdown",
   "id": "624ed045",
   "metadata": {},
   "source": [
    "Now we can easily convert a label id to a label name:"
   ]
  },
  {
   "cell_type": "code",
   "execution_count": null,
   "id": "3a4c15b1",
   "metadata": {},
   "outputs": [],
   "source": [
    "id2label[str(2)]"
   ]
  },
  {
   "cell_type": "markdown",
   "id": "87ce5830",
   "metadata": {},
   "source": [
    "Preprocess"
   ]
  },
  {
   "cell_type": "markdown",
   "id": "ffcee807",
   "metadata": {},
   "source": [
    "Now comes the interesting part: Preprocessing. In this step, we are going to load a Wav2Vec2 feature extractor to process the audio signal:"
   ]
  },
  {
   "cell_type": "code",
   "execution_count": null,
   "id": "0d311b5f",
   "metadata": {},
   "outputs": [],
   "source": [
    "from transformers import AutoFeatureExtractor\n",
    "\n",
    "feature_extractor = AutoFeatureExtractor.from_pretrained(\"facebook/wav2vec2-base\")"
   ]
  },
  {
   "cell_type": "markdown",
   "id": "da6f136c",
   "metadata": {},
   "source": [
    "The MInDS-14 dataset has a sampling rate of 8000kHz, as found in its dataset card. The trained Wav2Vec2 model, however, requires the audio input to have a sampling rate of 16000kHz. Therefore, we must resample our dataset to convert the sampling rate from 8000kHz to 16000kHz to meet the model’s requirements."
   ]
  },
  {
   "cell_type": "code",
   "execution_count": null,
   "id": "fbaff1bb",
   "metadata": {},
   "outputs": [],
   "source": [
    "minds = minds.cast_column(\"audio\", Audio(sampling_rate=16_000))\n",
    "minds[\"train\"][0]"
   ]
  },
  {
   "cell_type": "markdown",
   "id": "fbe0b2cf",
   "metadata": {},
   "source": [
    "We then create a preprocessing function to load and resample the audio file and ensure it matches the sampling rate of the model’s pre-training data."
   ]
  },
  {
   "cell_type": "code",
   "execution_count": null,
   "id": "f0fed2c9",
   "metadata": {},
   "outputs": [],
   "source": [
    "def preprocess_function(examples):\n",
    "    audio_arrays = [x[\"array\"] for x in examples[\"audio\"]]\n",
    "    inputs = feature_extractor(\n",
    "        audio_arrays, sampling_rate=feature_extractor.sampling_rate, max_length=16000, truncation=True\n",
    "    )\n",
    "    return inputs"
   ]
  },
  {
   "cell_type": "markdown",
   "id": "4e6283e0",
   "metadata": {},
   "source": [
    "We use the Datasets map function to apply the preprocessing function across the complete dataset. Speed it up by enabling batched=True to process multiple dataset elements simultaneously. Remove unnecessary columns and rename intent_class to label, as the model expects this name."
   ]
  },
  {
   "cell_type": "markdown",
   "id": "5330f5b8",
   "metadata": {},
   "source": [
    "Let’s apply our preprocessing function across the complete dataset:"
   ]
  },
  {
   "cell_type": "code",
   "execution_count": null,
   "id": "d8039532",
   "metadata": {},
   "outputs": [],
   "source": [
    "encoded_minds = minds.map(preprocess_function, remove_columns=\"audio\", batched=True)"
   ]
  },
  {
   "cell_type": "markdown",
   "id": "7a70e9f6",
   "metadata": {},
   "source": [
    "After applying our preprocessing function, we rename our column name from intent_class to label because our model expects this name:"
   ]
  },
  {
   "cell_type": "code",
   "execution_count": null,
   "id": "15cd1ddc",
   "metadata": {},
   "outputs": [],
   "source": [
    "encoded_minds = encoded_minds.rename_column(\"intent_class\", \"label\")"
   ]
  },
  {
   "cell_type": "markdown",
   "id": "e791b205",
   "metadata": {},
   "source": [
    "Setting up Evaluation Metric"
   ]
  },
  {
   "cell_type": "markdown",
   "id": "71fe46ee",
   "metadata": {},
   "source": [
    "Now, how can we know if our model is performing well? We need a yardstick to measure it. That’s when Evaluation Metrics come into play. We will use the accuracy metric from the evaluate library for this task."
   ]
  },
  {
   "cell_type": "code",
   "execution_count": null,
   "id": "909f1533",
   "metadata": {},
   "outputs": [],
   "source": [
    "import evaluate\n",
    "\n",
    "accuracy = evaluate.load(\"accuracy\")"
   ]
  },
  {
   "cell_type": "markdown",
   "id": "ae334081",
   "metadata": {},
   "source": [
    "Then, we create a function that will take our model’s predictions and labels to calculate the accuracy:"
   ]
  },
  {
   "cell_type": "code",
   "execution_count": null,
   "id": "edfdb9c5",
   "metadata": {},
   "outputs": [],
   "source": [
    "import numpy as np\n",
    "\n",
    "def compute_metrics(eval_pred):\n",
    "    predictions = np.argmax(eval_pred.predictions, axis=1)\n",
    "    return accuracy.compute(predictions=predictions, references=eval_pred.label_ids)"
   ]
  },
  {
   "cell_type": "markdown",
   "id": "75fefa7e",
   "metadata": {},
   "source": [
    "Now, our compute_metrics function is ready to be used for training."
   ]
  },
  {
   "cell_type": "markdown",
   "id": "a8eec3f7",
   "metadata": {},
   "source": [
    "Training and Evaluation"
   ]
  },
  {
   "cell_type": "markdown",
   "id": "cc5d21db",
   "metadata": {},
   "source": [
    "We’ve come a long way! It’s time to Train and Evaluate our model. We’re going to load the Wav2Vec2 model along with the number of expected labels, and the label mappings:"
   ]
  },
  {
   "cell_type": "code",
   "execution_count": null,
   "id": "2af1bd39",
   "metadata": {},
   "outputs": [],
   "source": [
    "from transformers import AutoModelForAudioClassification\n",
    "\n",
    "num_labels = len(id2label)\n",
    "model = AutoModelForAudioClassification.from_pretrained(\n",
    "    \"facebook/wav2vec2-base\", num_labels=num_labels, label2id=label2id, id2label=id2label\n",
    ")"
   ]
  },
  {
   "cell_type": "markdown",
   "id": "9c66a9d5",
   "metadata": {},
   "source": [
    "During training, we will use an optimization strategy where we set a learning rate and batch size. We also set the load_best_model_at_end=True option which means our trainer will load the model with the highest accuracy at the end of the training:"
   ]
  },
  {
   "cell_type": "code",
   "execution_count": null,
   "id": "6dd658a7",
   "metadata": {},
   "outputs": [],
   "source": [
    "from transformers import TrainingArguments, Trainer\n",
    "\n",
    "training_args = TrainingArguments(\n",
    "    output_dir=\"model/audio_classification\",\n",
    "    evaluation_strategy=\"epoch\",\n",
    "    save_strategy=\"epoch\",\n",
    "    learning_rate=3e-5,                  # learning rate\n",
    "    per_device_train_batch_size=32,      # training batch size\n",
    "    gradient_accumulation_steps=4,\n",
    "    per_device_eval_batch_size=32,\n",
    "    num_train_epochs=10,\n",
    "    warmup_ratio=0.1,\n",
    "    logging_steps=10,\n",
    "    load_best_model_at_end=True,         # model optimization via early stopping\n",
    "    metric_for_best_model=\"accuracy\",\n",
    "    push_to_hub=True, # When set to True, this allows the trained model to be directly uploaded to the Hugging Face Model Hub.\n",
    ")\n",
    "\n",
    "trainer = Trainer(\n",
    "    model=model,\n",
    "    args=training_args,\n",
    "    train_dataset=encoded_minds[\"train\"],\n",
    "    eval_dataset=encoded_minds[\"test\"],\n",
    "    tokenizer=feature_extractor,\n",
    "    compute_metrics=compute_metrics,\n",
    ")\n",
    "\n",
    "trainer.train()"
   ]
  },
  {
   "cell_type": "markdown",
   "id": "ffca4add",
   "metadata": {},
   "source": [
    "Once training is completed, we can share our model to the Hugging Face Model Hub so that everyone can use our model:"
   ]
  },
  {
   "cell_type": "code",
   "execution_count": null,
   "id": "fd1fe8b9",
   "metadata": {},
   "outputs": [],
   "source": [
    "trainer.push_to_hub()"
   ]
  },
  {
   "cell_type": "markdown",
   "id": "3e9993ee",
   "metadata": {},
   "source": [
    "Here is an example of a model that has been trained: https://huggingface.co/aditira/audio_classification"
   ]
  },
  {
   "cell_type": "markdown",
   "id": "0d3118f7",
   "metadata": {},
   "source": [
    "Inference"
   ]
  },
  {
   "cell_type": "markdown",
   "id": "daad9e17",
   "metadata": {},
   "source": [
    "Finally, let’s test our model with a new audio file. This step is called Inference. We will load an audio file and run our model to classify it. Remember to resample the audio file to match the model’s sampling rate!"
   ]
  },
  {
   "cell_type": "code",
   "execution_count": null,
   "id": "d166db7b",
   "metadata": {},
   "outputs": [],
   "source": [
    "from datasets import load_dataset, Audio\n",
    "from transformers import pipeline\n",
    "\n",
    "dataset = load_dataset(\"PolyAI/minds14\", name=\"en-US\", split=\"train\")\n",
    "dataset = dataset.cast_column(\"audio\", Audio(sampling_rate=16000))\n",
    "sampling_rate = dataset.features[\"audio\"].sampling_rate\n",
    "audio_file = dataset[0][\"audio\"][\"path\"]\n",
    "\n",
    "classifier = pipeline(\"audio-classification\", model=\"model/audio_classification\")\n",
    "classifier(audio_file)"
   ]
  },
  {
   "cell_type": "markdown",
   "id": "ebd2bb3e",
   "metadata": {},
   "source": [
    "Congratulations! You just classified an audio file using your fine-tuned model! Now, you can classify your entire library of animal sounds and make your work as a wildlife conservationist a bit easier."
   ]
  },
  {
   "cell_type": "markdown",
   "id": "be9fc536",
   "metadata": {},
   "source": [
    "# Image classification"
   ]
  },
  {
   "cell_type": "markdown",
   "id": "c6261349",
   "metadata": {},
   "source": [
    "Imagine you’ve just been hired as a data scientist at a health-focused tech startup. You’re tasked with developing a system that identifies food items from images uploaded by users. The goal is to enable users to track their nutrition intake simply by taking a picture. But how would you go about this?"
   ]
  },
  {
   "cell_type": "markdown",
   "id": "e946c10d",
   "metadata": {},
   "source": [
    "Well, the good news is, with the advent of Image Classification in machine learning, this task is no longer a pipe dream, but a very achievable reality."
   ]
  },
  {
   "cell_type": "markdown",
   "id": "6a617cd6",
   "metadata": {},
   "source": []
  },
  {
   "cell_type": "markdown",
   "id": "38be7724",
   "metadata": {},
   "source": [
    "![Image](https://storage.googleapis.com/rg-ai-bootcamp/model_usage/image-classification.png)"
   ]
  },
  {
   "cell_type": "markdown",
   "id": "86764bf7",
   "metadata": {},
   "source": [
    "Tasks: Image Classification (source: youtube.com)"
   ]
  },
  {
   "cell_type": "markdown",
   "id": "07196c01",
   "metadata": {},
   "source": [
    "Image classification can be used in countless applications, ranging from detecting objects in satellite images to medical imaging. In our case, we aim to classify food items from given images. We will use a pre-trained model called the Vision Transformer, or ViT for short. ViT is a model that applies the transformer architecture, which was initially built for text data, to image data. We will fine-tune this model on the Food-101 dataset to classify images into 101 food categories."
   ]
  },
  {
   "cell_type": "markdown",
   "id": "9c8a0b51",
   "metadata": {},
   "source": [
    "Load Food-101 dataset"
   ]
  },
  {
   "cell_type": "markdown",
   "id": "64069373",
   "metadata": {},
   "source": [
    "Let’s start with Loading our Food-101 dataset. We will load only a small subset of it to ensure everything works before committing to training on the full dataset:"
   ]
  },
  {
   "cell_type": "code",
   "execution_count": null,
   "id": "357384cd",
   "metadata": {},
   "outputs": [],
   "source": [
    "from datasets import load_dataset\n",
    "\n",
    "food = load_dataset(\"food101\", split=\"train[:5000]\")"
   ]
  },
  {
   "cell_type": "markdown",
   "id": "1a5b1dd2",
   "metadata": {},
   "source": [
    "We then split our dataset into a training set and a testing set:"
   ]
  },
  {
   "cell_type": "code",
   "execution_count": null,
   "id": "b47b37a4",
   "metadata": {},
   "outputs": [],
   "source": [
    "food = food.train_test_split(test_size=0.2)"
   ]
  },
  {
   "cell_type": "markdown",
   "id": "c240a0da",
   "metadata": {},
   "source": [
    "Let’s take a look at an example from our dataset:"
   ]
  },
  {
   "cell_type": "code",
   "execution_count": null,
   "id": "59776792",
   "metadata": {},
   "outputs": [],
   "source": [
    "food[\"train\"][0]"
   ]
  },
  {
   "cell_type": "markdown",
   "id": "9796a00c",
   "metadata": {},
   "source": [
    "Each example in the dataset has two fields: - image: a PIL image of the food item - label: the label class of the food item"
   ]
  },
  {
   "cell_type": "markdown",
   "id": "5ac41b72",
   "metadata": {},
   "source": [
    "To make it easier for the model to get the label name from the label id, create a dictionary that maps the label name to an integer and vice versa:"
   ]
  },
  {
   "cell_type": "code",
   "execution_count": null,
   "id": "96a27213",
   "metadata": {},
   "outputs": [],
   "source": [
    "labels = food[\"train\"].features[\"label\"].names\n",
    "label2id, id2label = dict(), dict()\n",
    "for i, label in enumerate(labels):\n",
    "    label2id[label] = str(i)\n",
    "    id2label[str(i)] = label"
   ]
  },
  {
   "cell_type": "markdown",
   "id": "09b302d2",
   "metadata": {},
   "source": [
    "Now we can easily convert a label id to a label name:"
   ]
  },
  {
   "cell_type": "code",
   "execution_count": null,
   "id": "6bcf198e",
   "metadata": {},
   "outputs": [],
   "source": [
    "id2label[str(79)]"
   ]
  },
  {
   "cell_type": "markdown",
   "id": "ab1a7201",
   "metadata": {},
   "source": [
    "Preprocess"
   ]
  },
  {
   "cell_type": "markdown",
   "id": "21a63aa3",
   "metadata": {},
   "source": [
    "The next step is Preprocessing. Here we load a ViT image processor to process the image into a tensor:"
   ]
  },
  {
   "cell_type": "code",
   "execution_count": null,
   "id": "45b270b6",
   "metadata": {},
   "outputs": [],
   "source": [
    "from transformers import AutoImageProcessor\n",
    "\n",
    "checkpoint = \"google/vit-base-patch16-224-in21k\"\n",
    "image_processor = AutoImageProcessor.from_pretrained(checkpoint)"
   ]
  },
  {
   "cell_type": "markdown",
   "id": "981592f9",
   "metadata": {},
   "source": [
    "To make our model robust against overfitting, we apply some image transformations to the images. Here we are using torchvision’s transforms module, but you can also use any image library you like. We crop a random part of the image, resize it, and normalize it with the image mean and standard deviation:"
   ]
  },
  {
   "cell_type": "code",
   "execution_count": null,
   "id": "b07fa7b5",
   "metadata": {},
   "outputs": [],
   "source": [
    "from torchvision.transforms import RandomResizedCrop, Compose, Normalize, ToTensor\n",
    "\n",
    "normalize = Normalize(mean=image_processor.image_mean, std=image_processor.image_std)\n",
    "size = (\n",
    "    image_processor.size[\"shortest_edge\"]\n",
    "    if \"shortest_edge\" in image_processor.size\n",
    "    else (image_processor.size[\"height\"], image_processor.size[\"width\"])\n",
    ")\n",
    "_transforms = Compose([RandomResizedCrop(size), ToTensor(), normalize])"
   ]
  },
  {
   "cell_type": "markdown",
   "id": "67fad237",
   "metadata": {},
   "source": [
    "Then we create a preprocessing function to apply the transforms and return the pixel_values - the inputs to the model - of the image:"
   ]
  },
  {
   "cell_type": "code",
   "execution_count": null,
   "id": "74418d13",
   "metadata": {},
   "outputs": [],
   "source": [
    "def transforms(examples):\n",
    "    examples[\"pixel_values\"] = [_transforms(img.convert(\"RGB\")) for img in examples[\"image\"]]\n",
    "    del examples[\"image\"]\n",
    "    return examples"
   ]
  },
  {
   "cell_type": "markdown",
   "id": "146cca4f",
   "metadata": {},
   "source": [
    "To apply the preprocessing function over the entire dataset, use Datasets with_transform method. The transforms are applied on the fly when you load an element of the dataset:"
   ]
  },
  {
   "cell_type": "code",
   "execution_count": null,
   "id": "47a34dac",
   "metadata": {},
   "outputs": [],
   "source": [
    "food = food.with_transform(transforms)"
   ]
  },
  {
   "cell_type": "markdown",
   "id": "8ea07427",
   "metadata": {},
   "source": [
    "Next, we create a batch of examples using DefaultDataCollator. Unlike other data collators, the DefaultDataCollator does not apply additional preprocessing such as padding."
   ]
  },
  {
   "cell_type": "code",
   "execution_count": null,
   "id": "c0e1a167",
   "metadata": {},
   "outputs": [],
   "source": [
    "from transformers import DefaultDataCollator\n",
    "\n",
    "data_collator = DefaultDataCollator()"
   ]
  },
  {
   "cell_type": "markdown",
   "id": "e835de37",
   "metadata": {},
   "source": [
    "Setting up Evaluation Metric"
   ]
  },
  {
   "cell_type": "markdown",
   "id": "01341783",
   "metadata": {},
   "source": [
    "Including a metric during training is beneficial for evaluating your model’s performance. We can load an evaluation method with the Evaluate library:"
   ]
  },
  {
   "cell_type": "code",
   "execution_count": null,
   "id": "91f057bb",
   "metadata": {},
   "outputs": [],
   "source": [
    "import evaluate\n",
    "\n",
    "accuracy = evaluate.load(\"accuracy\")"
   ]
  },
  {
   "cell_type": "markdown",
   "id": "0c4b751a",
   "metadata": {},
   "source": [
    "Now, we’ll create a function that will take our model’s predictions and labels to calculate the accuracy:"
   ]
  },
  {
   "cell_type": "code",
   "execution_count": null,
   "id": "bdd0b81d",
   "metadata": {},
   "outputs": [],
   "source": [
    "import numpy as np\n",
    "\n",
    "def compute_metrics(eval_pred):\n",
    "    predictions, labels = eval_pred\n",
    "    predictions = np.argmax(predictions, axis=1)\n",
    "    return accuracy.compute(predictions=predictions, references=labels)"
   ]
  },
  {
   "cell_type": "markdown",
   "id": "b95c21bf",
   "metadata": {},
   "source": [
    "Our compute_metrics function is ready now, and we’ll use it when we set up our training."
   ]
  },
  {
   "cell_type": "markdown",
   "id": "7285a1d6",
   "metadata": {},
   "source": [
    "Training and Evaluation"
   ]
  },
  {
   "cell_type": "markdown",
   "id": "cbe89bd4",
   "metadata": {},
   "source": [
    "It’s time to Train and Evaluate our model. We’re going to load ViT with AutoModelForImageClassification. We’ll specify the number of labels along with the number of expected labels, and the label mappings:"
   ]
  },
  {
   "cell_type": "code",
   "execution_count": null,
   "id": "0a93909c",
   "metadata": {},
   "outputs": [],
   "source": [
    "from transformers import AutoModelForImageClassification\n",
    "\n",
    "model = AutoModelForImageClassification.from_pretrained(\n",
    "    checkpoint,\n",
    "    num_labels=len(labels),\n",
    "    id2label=id2label,\n",
    "    label2id=label2id,\n",
    ")"
   ]
  },
  {
   "cell_type": "markdown",
   "id": "07ed46d0",
   "metadata": {},
   "source": [
    "At this point, we’ll set our training hyperparameters in TrainingArguments. We’ll make sure to set remove_unused_columns=False to keep the image column, which is crucial for creating pixel_values. We’ll specify output_dir to save your model and enable push_to_hub to upload to Hugging Face. The Trainer will evaluate the accuracy and save a checkpoint after each epoch:"
   ]
  },
  {
   "cell_type": "code",
   "execution_count": null,
   "id": "9bc5f545",
   "metadata": {},
   "outputs": [],
   "source": [
    "from transformers import TrainingArguments, Trainer\n",
    "\n",
    "training_args = TrainingArguments(\n",
    "    output_dir=\"model/image_classification\",\n",
    "    remove_unused_columns=False,\n",
    "    evaluation_strategy=\"epoch\",\n",
    "    save_strategy=\"epoch\",\n",
    "    learning_rate=5e-5,                 # learning rate\n",
    "    per_device_train_batch_size=16,     # training batch size\n",
    "    gradient_accumulation_steps=4,\n",
    "    per_device_eval_batch_size=16,\n",
    "    num_train_epochs=3,\n",
    "    warmup_ratio=0.1,\n",
    "    logging_steps=10,\n",
    "    load_best_model_at_end=True,        # model optimization via early stopping\n",
    "    metric_for_best_model=\"accuracy\",\n",
    "    push_to_hub=True, # When set to True, this allows the trained model to be directly uploaded to the Hugging Face Model Hub.\n",
    ")\n",
    "\n",
    "trainer = Trainer(\n",
    "    model=model,\n",
    "    args=training_args,\n",
    "    data_collator=data_collator,\n",
    "    train_dataset=food[\"train\"],\n",
    "    eval_dataset=food[\"test\"],\n",
    "    tokenizer=image_processor,\n",
    "    compute_metrics=compute_metrics,\n",
    ")\n",
    "\n",
    "trainer.train()"
   ]
  },
  {
   "cell_type": "markdown",
   "id": "49f7783f",
   "metadata": {},
   "source": [
    "Evaluating the Trained Model"
   ]
  },
  {
   "cell_type": "markdown",
   "id": "e7d74ad4",
   "metadata": {},
   "source": [
    "After the training is completed, we need to evaluate the model. We’ll use the accuracy metric from the evaluate library to assess the model’s performance."
   ]
  },
  {
   "cell_type": "code",
   "execution_count": null,
   "id": "62c21385",
   "metadata": {},
   "outputs": [],
   "source": [
    "eval_result = trainer.evaluate(eval_dataset=food[\"test\"])\n",
    "print(eval_result)"
   ]
  },
  {
   "cell_type": "markdown",
   "id": "79866f55",
   "metadata": {},
   "source": [
    "The evaluation results will give us the accuracy of the test set. If this accuracy is satisfactory, we could decide to publish the model. If not, we might need to revisit the preprocessing, model architecture, or training process (e.g., tuning hyperparameters and increasing the number of epochs)."
   ]
  },
  {
   "cell_type": "markdown",
   "id": "434657f3",
   "metadata": {},
   "source": [
    "Once the training is completed, we can share our model to Hugging Face Model Hub so the model can be accessed by anyone:"
   ]
  },
  {
   "cell_type": "code",
   "execution_count": null,
   "id": "0f1c3866",
   "metadata": {},
   "outputs": [],
   "source": [
    "trainer.push_to_hub()"
   ]
  },
  {
   "cell_type": "markdown",
   "id": "14bce7c3",
   "metadata": {},
   "source": [
    "Here is an example of a model that has been trained: https://huggingface.co/aditira/image_classification"
   ]
  },
  {
   "cell_type": "markdown",
   "id": "0e98402e",
   "metadata": {},
   "source": [
    "Inference"
   ]
  },
  {
   "cell_type": "markdown",
   "id": "355e91e3",
   "metadata": {},
   "source": [
    "With the model trained, we can now make use of it for Inference. Let’s load an image we’d like to run inference on:"
   ]
  },
  {
   "cell_type": "code",
   "execution_count": null,
   "id": "235c8c3f",
   "metadata": {},
   "outputs": [],
   "source": [
    "ds = load_dataset(\"food101\", split=\"validation[:10]\")\n",
    "image = ds[\"image\"][0]"
   ]
  },
  {
   "cell_type": "markdown",
   "id": "cfbaedd1",
   "metadata": {},
   "source": [
    "The simplest way to try out our fine-tuned model for inference is to use it in a pipeline(). Instantiate a pipeline for image classification with our model, and pass our image to it:"
   ]
  },
  {
   "cell_type": "code",
   "execution_count": null,
   "id": "ccc02ae9",
   "metadata": {},
   "outputs": [],
   "source": [
    "from transformers import pipeline\n",
    "\n",
    "classifier = pipeline(\"image-classification\", model=\"my_awesome_food_model\")\n",
    "classifier(image)"
   ]
  },
  {
   "cell_type": "markdown",
   "id": "12c81335",
   "metadata": {},
   "source": [
    "Congratulations! You’ve managed to classify a food item from an image, bringing our startup’s vision one step closer to reality. Now you can continue to refine and apply this model, making nutrition tracking easier and more accessible for users around the world."
   ]
  },
  {
   "cell_type": "markdown",
   "id": "f5a46ecb",
   "metadata": {},
   "source": [
    "# Conclusion: The Power of Fine-Tuning and the Right Choice of Pre-trained Models"
   ]
  },
  {
   "cell_type": "markdown",
   "id": "eab2ddd7",
   "metadata": {},
   "source": [
    "Think of learning as building a house. Starting from scratch, you’d need to lay down the foundation, put up the walls, install the plumbing and wiring, and then finally add the finishing touches like paint and furniture."
   ]
  },
  {
   "cell_type": "markdown",
   "id": "f89a62cd",
   "metadata": {},
   "source": []
  },
  {
   "cell_type": "markdown",
   "id": "0a53f9aa",
   "metadata": {},
   "source": [
    "![Image](https://kutaisitoday.com/wp-content/uploads/2021/07/ilustrasi-membangun-rumah.jpg)"
   ]
  },
  {
   "cell_type": "markdown",
   "id": "4fdf2961",
   "metadata": {},
   "source": [
    "Building a House (source: kutaisitoday.com)"
   ]
  },
  {
   "cell_type": "markdown",
   "id": "6ce6178a",
   "metadata": {},
   "source": [
    "Similarly, training a model from scratch requires learning all the features and architectures, often requiring a large amount of data and computational resources, which is not always feasible."
   ]
  },
  {
   "cell_type": "markdown",
   "id": "cf1a7e87",
   "metadata": {},
   "source": [
    "Now, what if you could start with a house that’s already built and just rearrange the furniture and repaint the walls to suit your taste? This is the idea behind transfer learning or fine-tuning. We start with a model that has already learned useful features from a large-scale dataset (the pre-built house), and then fine-tune it on our specific task (rearranging and repainting)."
   ]
  },
  {
   "cell_type": "markdown",
   "id": "ff784dbe",
   "metadata": {},
   "source": [
    "In our case, the ‘house’ is the Vision Transformer (ViT), pre-trained on the ImageNet dataset. It’s a robust and versatile model, well-suited for various image classification tasks. But it’s not specialized in identifying food items."
   ]
  },
  {
   "cell_type": "markdown",
   "id": "b5517e60",
   "metadata": {},
   "source": [
    "So, we give it a makeover. We fine-tune the ViT on our Food-101 dataset. The model keeps its acquired knowledge and tailors it to our specific purpose - classifying food images. It’s like hiring an interior designer (the fine-tuning process) to transform a generic house (the pre-trained ViT) into a gourmet restaurant (the food-classification model)."
   ]
  },
  {
   "cell_type": "markdown",
   "id": "222f5282",
   "metadata": {},
   "source": [
    "But why ViT? Why not another model? 🤔"
   ]
  },
  {
   "cell_type": "markdown",
   "id": "1a0433ea",
   "metadata": {},
   "source": [
    "The choice of a pre-trained model is crucial. It should ideally have an architecture that’s well-suited to your task and has been trained on a large, diverse dataset. ViT is a good choice because it brings the power of transformers, which can capture complex dependencies in data, into the realm of vision. It’s been pre-trained on ImageNet, a large-scale, diverse dataset, allowing it to learn a wide variety of features."
   ]
  },
  {
   "cell_type": "markdown",
   "id": "7b25cd0f",
   "metadata": {},
   "source": [
    "Yet it’s important to remember that there is no one-size-fits-all model. The choice would depend on your task, data, and computational resources."
   ]
  }
 ],
 "metadata": {},
 "nbformat": 4,
 "nbformat_minor": 5
}
