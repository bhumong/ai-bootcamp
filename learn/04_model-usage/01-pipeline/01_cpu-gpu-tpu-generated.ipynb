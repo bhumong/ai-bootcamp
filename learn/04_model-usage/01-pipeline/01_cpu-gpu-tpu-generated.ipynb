{
 "cells": [
  {
   "cell_type": "markdown",
   "id": "84334765",
   "metadata": {},
   "source": [
    "source: [link](https://ai-bootcamp.ruangguru.com/learn/04_model-usage/01-pipeline/01_cpu-gpu-tpu.html)"
   ]
  },
  {
   "cell_type": "markdown",
   "id": "fc49d88c",
   "metadata": {},
   "source": [
    "Note: Materi ini merupakan materi supplemental, tidak bersifat wajib. Namun akan mendukung kalian menjadi seorang AI engineer yang handal."
   ]
  },
  {
   "cell_type": "markdown",
   "id": "8de5ed2b",
   "metadata": {},
   "source": [
    "# Choosing the Right Processing Unit for Machine Learning: CPU, GPU, or TPU?"
   ]
  },
  {
   "cell_type": "markdown",
   "id": "8a877b8f",
   "metadata": {},
   "source": []
  },
  {
   "cell_type": "markdown",
   "id": "6f91b03c",
   "metadata": {},
   "source": [
    "![Image](https://miro.medium.com/v2/resize:fit:1200/1*aghXQaSFQyo7lRPL6-73Bg.png)"
   ]
  },
  {
   "cell_type": "markdown",
   "id": "eb568d9e",
   "metadata": {},
   "source": [
    "CPU vs TPU vs GPU (source miro.medium.com)"
   ]
  },
  {
   "cell_type": "markdown",
   "id": "b25f1c29",
   "metadata": {},
   "source": [
    "The world of machine learning is full of challenging decisions. One of these is choosing between a Central Processing Unit (CPU), Graphics Processing Unit (GPU), and Tensor Processing Unit (TPU) for your machine learning tasks. Are you unsure about which one to pick? Don’t sweat! We’re here to help you understand the implications of this decision and guide you towards the right choice."
   ]
  },
  {
   "cell_type": "markdown",
   "id": "62498538",
   "metadata": {},
   "source": [
    "# CPU (Central Processing Unit): The Jack-of-all-Trades"
   ]
  },
  {
   "cell_type": "markdown",
   "id": "01d9f7f8",
   "metadata": {},
   "source": [
    "Have you ever thought about what makes your computer tick? That’s the job of the CPU!"
   ]
  },
  {
   "cell_type": "markdown",
   "id": "01481e19",
   "metadata": {},
   "source": [
    "A CPU is the primary component of a computer that does most of the processing inside the computer. Basically, it’s responsible for the “thinking”. CPUs provide computational abilities for a wide variety of tasks, not just machine learning."
   ]
  },
  {
   "cell_type": "markdown",
   "id": "252d8039",
   "metadata": {},
   "source": [
    "So, when would you choose CPU for your machine learning journey?"
   ]
  },
  {
   "cell_type": "markdown",
   "id": "35bf10a0",
   "metadata": {},
   "source": [
    "Pros:"
   ]
  },
  {
   "cell_type": "markdown",
   "id": "3ad70709",
   "metadata": {},
   "source": [
    "Cons:"
   ]
  },
  {
   "cell_type": "markdown",
   "id": "5d025aea",
   "metadata": {},
   "source": [
    "# GPU (Graphics Processing Unit): The Hardcore Processor"
   ]
  },
  {
   "cell_type": "markdown",
   "id": "c6e83d56",
   "metadata": {},
   "source": [
    "Have you ever wondered how your computer displays high-quality images and videos so quickly? For that, you can thank the GPU!"
   ]
  },
  {
   "cell_type": "markdown",
   "id": "03989559",
   "metadata": {},
   "source": [
    "GPUs, initially designed for rendering high-quality images and videos, are now being increasingly used in machine learning due to their ability to perform parallel operations."
   ]
  },
  {
   "cell_type": "markdown",
   "id": "d53f2b15",
   "metadata": {},
   "source": [
    "So, when should you opt for a GPU in your machine learning journey?"
   ]
  },
  {
   "cell_type": "markdown",
   "id": "af7b9b0f",
   "metadata": {},
   "source": [
    "Pros:"
   ]
  },
  {
   "cell_type": "markdown",
   "id": "59e1d0e9",
   "metadata": {},
   "source": [
    "Cons:"
   ]
  },
  {
   "cell_type": "markdown",
   "id": "0201b450",
   "metadata": {},
   "source": [
    "# TPU (Tensor Processing Unit): The Machine Learning Maestro"
   ]
  },
  {
   "cell_type": "markdown",
   "id": "9857be00",
   "metadata": {},
   "source": [
    "Ever heard of Google’s secret weapon for machine learning? It’s the TPU!"
   ]
  },
  {
   "cell_type": "markdown",
   "id": "380a438f",
   "metadata": {},
   "source": [
    "TPUs are Google’s custom-developed application-specific integrated circuits (ASICs) that are specifically designed to accelerate machine learning workloads."
   ]
  },
  {
   "cell_type": "markdown",
   "id": "8e542f5e",
   "metadata": {},
   "source": [
    "So, when making the big leap into serious machine learning, is a TPU the right choice?"
   ]
  },
  {
   "cell_type": "markdown",
   "id": "96982da6",
   "metadata": {},
   "source": [
    "Pros:"
   ]
  },
  {
   "cell_type": "markdown",
   "id": "56037f53",
   "metadata": {},
   "source": [
    "Cons:"
   ]
  },
  {
   "cell_type": "markdown",
   "id": "3e0abcf9",
   "metadata": {},
   "source": [
    "For more information, visit the following video link: https://www.youtube.com/watch"
   ]
  },
  {
   "cell_type": "markdown",
   "id": "bd07a649",
   "metadata": {},
   "source": [
    "# The CPU vs GPU Showdown: A Simple Experiment"
   ]
  },
  {
   "cell_type": "markdown",
   "id": "e1148cea",
   "metadata": {},
   "source": [
    "Enough theory, let’s see these two in action! We will conduct a simple experiment using PyTorch and Matplotlib to illustrate the difference in execution times between CPU and GPU. But remember, your mileage may vary based on the specific task and available hardware."
   ]
  },
  {
   "cell_type": "markdown",
   "id": "41af4d5b",
   "metadata": {},
   "source": [
    "Sadly, we will have to exclude the TPU in this test, as running on TPUs in PyTorch is complicated since it’s not natively supported."
   ]
  },
  {
   "cell_type": "markdown",
   "id": "14fcc649",
   "metadata": {},
   "source": [
    "Please make sure to run the below code in a system that has both a CPU and GPU, or else the GPU portion won’t work."
   ]
  },
  {
   "cell_type": "code",
   "execution_count": null,
   "id": "284fac18",
   "metadata": {},
   "outputs": [],
   "source": [
    "# Importing the necessary libraries\n",
    "import torch\n",
    "import time\n",
    "import matplotlib.pyplot as plt\n",
    "\n",
    "# Check for CUDA\n",
    "if not torch.cuda.is_available():\n",
    "    print('CUDA is not available. The script will run on a CPU.')\n",
    "device_cpu = torch.device(\"cpu\")\n",
    "device_gpu = torch.device(\"cuda\") \n",
    "\n",
    "# Function to test speed\n",
    "def speed_test(device, size=10000, runs=100):\n",
    "    print(f'\\nRunning on {device}')\n",
    "    times = []\n",
    "    for _ in range(runs):\n",
    "        start = time.time()\n",
    "        _ = torch.ones((size, size), device=device)\n",
    "        elapsed = time.time() - start\n",
    "        times.append(elapsed)\n",
    "    return times\n",
    "\n",
    "# Running the speed test\n",
    "cpu_times = speed_test(device_cpu)\n",
    "gpu_times = speed_test(device_gpu)\n",
    "\n",
    "# Printing the average execution time\n",
    "print(\"\\nAverage execution time on CPU: \", sum(cpu_times)/len(cpu_times), \" seconds\")\n",
    "print(\"Average execution time on GPU: \", sum(gpu_times)/len(gpu_times), \" seconds\")\n",
    "\n",
    "# Visualizing the results\n",
    "plt.figure(figsize=(10, 7))\n",
    "\n",
    "plt.hist(cpu_times, bins=30, alpha=0.5, label='CPU')\n",
    "plt.hist(gpu_times, bins=30, alpha=0.5, label='GPU')\n",
    "\n",
    "plt.xlabel('Execution Time (Seconds)', size=14)\n",
    "plt.ylabel('Count', size=14)\n",
    "plt.title('Execution Time Distribution by Hardware (CPU vs GPU)', size=14)\n",
    "\n",
    "plt.legend(loc='upper right')\n",
    "\n",
    "plt.show()"
   ]
  },
  {
   "cell_type": "markdown",
   "id": "598231e3",
   "metadata": {},
   "source": [
    "This script creates a tensor of ones on the specified device (CPU or GPU) over and over again, recording the time for each run. These times are then visualized in a handy histogram. From this, we can see the difference in execution times."
   ]
  },
  {
   "cell_type": "markdown",
   "id": "60595fed",
   "metadata": {},
   "source": [
    "But always remember, this is a simple, naive example and real-world tasks will often involve much more complex computations and data transfers, which can increase the execution time when run on a GPU or TPU."
   ]
  },
  {
   "cell_type": "markdown",
   "id": "6fc8290e",
   "metadata": {},
   "source": [
    "# Bringing ML into the Picture: A Natural Language Processing Task"
   ]
  },
  {
   "cell_type": "markdown",
   "id": "eab0fb1d",
   "metadata": {},
   "source": [
    "Let’s raise the stakes a bit and include a typical machine learning task: text classification. This time, we’ll be using the Hugging Face Transformers library with the popular BERT model. We’ll run this model on both CPU and GPU and compare execution times."
   ]
  },
  {
   "cell_type": "markdown",
   "id": "acf26653",
   "metadata": {},
   "source": [
    "Let’s witness the showdown between CPU and GPU in a real-life scenario!"
   ]
  },
  {
   "cell_type": "code",
   "execution_count": null,
   "id": "94f26f93",
   "metadata": {},
   "outputs": [],
   "source": [
    "%pip install transformers"
   ]
  },
  {
   "cell_type": "markdown",
   "id": "df0989d7",
   "metadata": {},
   "source": [
    "After installing the Transformers library, it’s time to get the model humming:"
   ]
  },
  {
   "cell_type": "code",
   "execution_count": null,
   "id": "0debd84b",
   "metadata": {},
   "outputs": [],
   "source": [
    "# Importing the necessary libraries\n",
    "import torch\n",
    "from transformers import pipeline\n",
    "import time\n",
    "import matplotlib.pyplot as plt\n",
    "\n",
    "# Check for CUDA\n",
    "if not torch.cuda.is_available():\n",
    "    print('CUDA is not available. The script will run on a CPU.')\n",
    "device_cpu = 'cpu'\n",
    "device_gpu = 'cuda' \n",
    "\n",
    "# Function to test speed and print pipeline results\n",
    "def speed_test(device, runs=100):\n",
    "    print(f'\\nRunning on {device}')\n",
    "    nlp = pipeline('sentiment-analysis', model=\"distilbert-base-uncased-finetuned-sst-2-english\", device=0 if device == device_gpu else -1)  # GPU if available, else CPU\n",
    "    text = \"This is a sample text for sentiment analysis.\"\n",
    "    times = []\n",
    "    for _ in range(runs):\n",
    "        start = time.time()\n",
    "        result = nlp(text)\n",
    "        elapsed = time.time() - start\n",
    "        times.append(elapsed)\n",
    "        if _ == 0:\n",
    "            print(\"Pipeline output for run 0: \", result)\n",
    "    return times\n",
    "\n",
    "# Running the speed test\n",
    "cpu_times = speed_test(device_cpu)\n",
    "gpu_times = speed_test(device_gpu)\n",
    "\n",
    "# Printing the average execution time\n",
    "print(\"\\nAverage execution time on CPU: \", sum(cpu_times)/len(cpu_times), \" seconds\")\n",
    "print(\"Average execution time on GPU: \", sum(gpu_times)/len(gpu_times), \" seconds\")\n",
    "\n",
    "# Visualizing the results\n",
    "plt.figure(figsize=(10, 7))\n",
    "\n",
    "plt.hist(cpu_times, bins=30, alpha=0.5, label='CPU')\n",
    "plt.hist(gpu_times, bins=30, alpha=0.5, label='GPU')\n",
    "\n",
    "plt.xlabel('Execution Time (Seconds)', size=14)\n",
    "plt.ylabel('Count', size=14)\n",
    "plt.title('Execution Time Distribution by Hardware (CPU vs GPU)', size=14)\n",
    "\n",
    "plt.legend(loc='upper right')\n",
    "\n",
    "plt.show()"
   ]
  },
  {
   "cell_type": "markdown",
   "id": "0dd2cba0",
   "metadata": {},
   "source": [
    "This script performs sentiment analysis on a piece of text using the powerful BERT model, records the execution time on both the CPU and GPU, and finally plots a histogram to compare the execution time distributions."
   ]
  },
  {
   "cell_type": "markdown",
   "id": "ec904080",
   "metadata": {},
   "source": [
    "# Real-World Applications"
   ]
  },
  {
   "cell_type": "markdown",
   "id": "581976f8",
   "metadata": {},
   "source": [
    "In the real world, the choice between CPUs, GPUs, and TPUs depends largely on the task at hand and the available resources. For instance, in image rendering or deep learning tasks, which require handling a massive volume of parallel computations, GPUs and TPUs tend to be the preferred choice. On the other hand, for general purpose tasks or when the resources are limited, CPUs might be the way to go."
   ]
  },
  {
   "cell_type": "markdown",
   "id": "fbde7cb2",
   "metadata": {},
   "source": [
    "# Future Trends"
   ]
  },
  {
   "cell_type": "markdown",
   "id": "1f35079b",
   "metadata": {},
   "source": [
    "The future of machine learning hardware is likely to see new entrants. As the demand for high-performance computing continues to grow, companies may start developing their own application-specific processors, similar to Google’s TPUs. Furthermore, advancements in hardware design, such as implementing quantum computing for machine learning tasks, could also revolutionize the landscape."
   ]
  },
  {
   "cell_type": "markdown",
   "id": "c9e3c676",
   "metadata": {},
   "source": [
    "# In a Nutshell"
   ]
  },
  {
   "cell_type": "markdown",
   "id": "351564f4",
   "metadata": {},
   "source": [
    "To summarize, the choice between CPUs, GPUs, and TPUs for machine learning tasks largely depends on the nature of the task and the resources at hand. CPUs are general-purpose processors and perform well for single-thread tasks. GPUs, originally designed for graphics rendering, excel in parallel computations, making them suitable for large-scale machine learning tasks. TPUs, specifically designed for machine learning tasks, boast incredible speed but are not as versatile as CPUs or GPUs."
   ]
  },
  {
   "cell_type": "markdown",
   "id": "323894eb",
   "metadata": {},
   "source": [
    "We hope this guide has illuminated the differences between these three types of hardware and will help you make an informed decision for your next machine learning project!"
   ]
  }
 ],
 "metadata": {},
 "nbformat": 4,
 "nbformat_minor": 5
}
