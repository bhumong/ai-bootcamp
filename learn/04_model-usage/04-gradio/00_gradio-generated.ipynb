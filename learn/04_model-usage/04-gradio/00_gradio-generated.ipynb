{
 "cells": [
  {
   "cell_type": "markdown",
   "id": "aba7b299",
   "metadata": {},
   "source": [
    "# Gradio"
   ]
  },
  {
   "cell_type": "markdown",
   "id": "b177f8bb",
   "metadata": {},
   "source": [
    "Suppose you’ve just built a fantastic machine-learning model. It crunched the numbers, learned from the data, and made impressive predictions. You’re excited and ready to harness its power, but there’s one problem — how to share it so everyone can easily test and use it?"
   ]
  },
  {
   "cell_type": "markdown",
   "id": "61a81e7b",
   "metadata": {},
   "source": [
    "This is where Gradio comes to the rescue!"
   ]
  },
  {
   "cell_type": "markdown",
   "id": "c45518d6",
   "metadata": {},
   "source": [
    "# Light Up Your Models With Gradio!"
   ]
  },
  {
   "cell_type": "markdown",
   "id": "9e0a766a",
   "metadata": {},
   "source": [
    "Gradio is an open-source Python library that lets you quickly whip up an efficient interface for your models. Yep, you heard it right! No more endless lines of code or complex setups. This library is all about simplicity and functionality, allowing you to interactively experiment with your models and share them effortlessly with others."
   ]
  },
  {
   "cell_type": "markdown",
   "id": "511770d3",
   "metadata": {},
   "source": [
    "# Enough Talk, Let’s Dive In!"
   ]
  },
  {
   "cell_type": "markdown",
   "id": "3bc01dfe",
   "metadata": {},
   "source": [
    "Here’s your step-by-step guide to mastering Gradio and exploring its amazing features:"
   ]
  },
  {
   "cell_type": "markdown",
   "id": "9537f198",
   "metadata": {},
   "source": [
    "First, install Gradio using pip:"
   ]
  },
  {
   "cell_type": "code",
   "execution_count": null,
   "id": "6148e97f",
   "metadata": {},
   "outputs": [],
   "source": [
    "%pip install gradio"
   ]
  },
  {
   "cell_type": "markdown",
   "id": "aee097d9",
   "metadata": {},
   "source": [
    "Let’s kick things off with a simple function greet."
   ]
  },
  {
   "cell_type": "code",
   "execution_count": null,
   "id": "24d3071e",
   "metadata": {},
   "outputs": [],
   "source": [
    "def greet(name):\n",
    "    return \"Hello \" + name + \"!\""
   ]
  },
  {
   "cell_type": "markdown",
   "id": "c6e20c52",
   "metadata": {},
   "source": [
    "Now, let’s put Gradio to work:"
   ]
  },
  {
   "cell_type": "code",
   "execution_count": null,
   "id": "f91d5a8b",
   "metadata": {},
   "outputs": [],
   "source": [
    "import gradio as gr\n",
    "\n",
    "iface = gr.Interface(fn=greet, inputs=\"text\", outputs=\"text\")\n",
    "iface.launch()  # Let's launch the interface"
   ]
  },
  {
   "cell_type": "markdown",
   "id": "a8b31bb5",
   "metadata": {},
   "source": [
    "Bam! You’ve just created an intuitive interface for your function. Users can provide their names in the interface and instantly see a personalized greeting message without coding chops!"
   ]
  },
  {
   "cell_type": "markdown",
   "id": "259c9dbe",
   "metadata": {},
   "source": [
    "But we’re just getting warmed up. Gradio is all about customization and versatility."
   ]
  },
  {
   "cell_type": "markdown",
   "id": "4b8393fb",
   "metadata": {},
   "source": [
    "# Inputs (required)"
   ]
  },
  {
   "cell_type": "markdown",
   "id": "b2e07fe0",
   "metadata": {},
   "source": [
    "The inputs parameter defines the input type, Gradio has a lot of input types, let’s try a few:"
   ]
  },
  {
   "cell_type": "code",
   "execution_count": null,
   "id": "86f57022",
   "metadata": {},
   "outputs": [],
   "source": [
    "import gradio as gr\n",
    "\n",
    "def plus_one(number):\n",
    "    return number + 1\n",
    "\n",
    "iface = gr.Interface(fn=plus_one, inputs=\"slider\", outputs=\"text\")\n",
    "iface.launch() "
   ]
  },
  {
   "cell_type": "markdown",
   "id": "a65d1f41",
   "metadata": {},
   "source": [
    "# Outputs (required)"
   ]
  },
  {
   "cell_type": "markdown",
   "id": "9aeb2143",
   "metadata": {},
   "source": [
    "The outputs parameter defines the output type"
   ]
  },
  {
   "cell_type": "code",
   "execution_count": null,
   "id": "37155967",
   "metadata": {},
   "outputs": [],
   "source": [
    "import gradio as gr\n",
    "\n",
    "def plus_one(number):\n",
    "    return number + 1\n",
    "\n",
    "iface = gr.Interface(fn=plus_one, inputs=\"slider\", outputs=\"label\")\n",
    "iface.launch() "
   ]
  },
  {
   "cell_type": "markdown",
   "id": "8925fde3",
   "metadata": {},
   "source": [
    "What if I want to change the input and it automatically changes the output? Unfortunately, Gradio does not support automatic output updates based on input changes without submission. This design ensures that resource-intensive functions are only called when the user is prepared to submit their input."
   ]
  },
  {
   "cell_type": "markdown",
   "id": "85e1c512",
   "metadata": {},
   "source": [
    "Here are some selected parameters that can be used as input or output in Gradio:"
   ]
  },
  {
   "cell_type": "markdown",
   "id": "f0f0a4bc",
   "metadata": {},
   "source": [
    "Input:"
   ]
  },
  {
   "cell_type": "markdown",
   "id": "7cb4ac0d",
   "metadata": {},
   "source": [
    "Output:"
   ]
  },
  {
   "cell_type": "markdown",
   "id": "3668497a",
   "metadata": {},
   "source": [
    "These are just a few examples. For a full list, you can refer to the Gradio Interface API documentation."
   ]
  },
  {
   "cell_type": "markdown",
   "id": "5d521111",
   "metadata": {},
   "source": [
    "# fn (required)"
   ]
  },
  {
   "cell_type": "markdown",
   "id": "ad701d78",
   "metadata": {},
   "source": [
    "The fn parameter maps the inputs to the outputs."
   ]
  },
  {
   "cell_type": "code",
   "execution_count": null,
   "id": "c935dfb1",
   "metadata": {},
   "outputs": [],
   "source": [
    "from fastbook import *\n",
    "\n",
    "gv('''\n",
    "inputs -> fn -> outputs\n",
    "''')"
   ]
  },
  {
   "cell_type": "markdown",
   "id": "64d1744d",
   "metadata": {},
   "source": []
  },
  {
   "cell_type": "code",
   "execution_count": null,
   "id": "1833180b",
   "metadata": {},
   "outputs": [],
   "source": [
    "import gradio as gr\n",
    "\n",
    "def upper_case(text):\n",
    "    return text.upper()\n",
    "\n",
    "iface = gr.Interface(fn=upper_case, inputs=\"text\", outputs=\"text\")\n",
    "iface.launch() "
   ]
  },
  {
   "cell_type": "markdown",
   "id": "8f42924a",
   "metadata": {},
   "source": [
    "# Examples (optional)"
   ]
  },
  {
   "cell_type": "markdown",
   "id": "44530f92",
   "metadata": {},
   "source": [
    "To make our UI easier to understand, we can provide a sample of the input and output."
   ]
  },
  {
   "cell_type": "code",
   "execution_count": null,
   "id": "8801c7f3",
   "metadata": {},
   "outputs": [],
   "source": [
    "import gradio as gr\n",
    "\n",
    "def upper_case(text):\n",
    "    return text.upper()\n",
    "\n",
    "iface = gr.Interface(fn=upper_case, inputs=\"text\", outputs=\"text\", examples=[[\"hello world\"], [\"goodbye world\"]])\n",
    "iface.launch() "
   ]
  },
  {
   "cell_type": "markdown",
   "id": "36d79780",
   "metadata": {},
   "source": [
    "The examples will be rendered in the UI and can be clicked to quickly test the function."
   ]
  },
  {
   "cell_type": "markdown",
   "id": "2d03e546",
   "metadata": {},
   "source": [
    "# Title and Description (optional)"
   ]
  },
  {
   "cell_type": "markdown",
   "id": "98ca0a74",
   "metadata": {},
   "source": [
    "Let’s add title and description to our interface so that users can understand what it does."
   ]
  },
  {
   "cell_type": "code",
   "execution_count": null,
   "id": "1a3670d9",
   "metadata": {},
   "outputs": [],
   "source": [
    "import gradio as gr\n",
    "\n",
    "def upper_case(text):\n",
    "    return text.upper()\n",
    "\n",
    "iface = gr.Interface(fn=upper_case, inputs=\"text\", outputs=\"text\", title=\"Uppercase Text\", description=\"An interface for model that converts text to uppercase.\")\n",
    "iface.launch() "
   ]
  },
  {
   "cell_type": "markdown",
   "id": "32dccbfe",
   "metadata": {},
   "source": [
    "# Flag"
   ]
  },
  {
   "cell_type": "markdown",
   "id": "b8f8ef31",
   "metadata": {},
   "source": [
    "Notice that when the UI is rendered, there is a Flag button on the top right corner. This button allows users to record the input and output of the function and save it as a CSV file. Details can be seen here: https://www.gradio.app/docs/flagging"
   ]
  },
  {
   "cell_type": "markdown",
   "id": "5e138063",
   "metadata": {},
   "source": [
    "# Exercise:"
   ]
  },
  {
   "cell_type": "markdown",
   "id": "2f3ab57d",
   "metadata": {},
   "source": [
    "# Student Identity"
   ]
  },
  {
   "cell_type": "code",
   "execution_count": null,
   "id": "b50af020",
   "metadata": {},
   "outputs": [],
   "source": [
    "# @title #### Student Identity\n",
    "student_id = \"\" # @param {type:\"string\"}\n",
    "name = \"\" # @param {type:\"string\"}\n",
    "drive_link = \"\"  # @param {type:\"string\"}"
   ]
  },
  {
   "cell_type": "code",
   "execution_count": null,
   "id": "d7d05298",
   "metadata": {},
   "outputs": [],
   "source": [
    "%pip install rggrader\n",
    "from rggrader import submit"
   ]
  },
  {
   "cell_type": "code",
   "execution_count": null,
   "id": "32987bd4",
   "metadata": {},
   "outputs": [],
   "source": [
    "# @title #### 00 Creating a \"Mood Interpreter\" with Gradio\n",
    "\n",
    "# In this exercise, let's create a fun and simple Gradio application - a mood interpreter. \n",
    "# The interface should take as input a user's mood (in text form) and return a fun interpretation of that mood. \n",
    "# For example, if a user enters \"happy\", the interpreter might return, \"Wow, you're shining brighter than the sun!\"\n",
    "\n",
    "# Here's a list of moods:\n",
    "        # \"happy\": \"Wow, you're shining brighter than the sun!\",\n",
    "        # \"sad\": \"Oh no, it's little gloomy today, isn't it?\",\n",
    "        # \"excited\": \"Seems like someone's energy is through the roof!\",\n",
    "        # \"tired\": \"Ah, a good rest will work wonders.\",\n",
    "        # \"angry\": \"Uh oh, someone's a bit hot-headed today!\"\n",
    "\n",
    "# Put your code here:\n",
    "import gradio as gr\n",
    "\n",
    "def mood_interpreter(mood):\n",
    "    return None\n",
    "\n",
    "iface = None\n",
    "\n",
    "\n",
    "\n",
    "# ---- End of your code ----\n",
    "\n",
    "# Submit Method\n",
    "assignment_id = \"00_gradio\"\n",
    "question_id = \"00_gradio_mood_interpreter\"\n",
    "submit(student_id, name, assignment_id, str(mood_interpreter(\"happy\")), question_id, drive_link)"
   ]
  },
  {
   "cell_type": "code",
   "execution_count": null,
   "id": "44201f5e",
   "metadata": {},
   "outputs": [],
   "source": [
    "# @title #### 01 Creating a Palindrome Checker with Gradio\n",
    "\n",
    "# A palindrome is a word, phrase, number, or other sequence of characters that reads the same backward as forward, ignoring spaces, punctuation, and capitalization. \n",
    "# In this exercise, you will create a simple Gradio interface for a palindrome checker. \n",
    "# The interface should take a word as input and return whether the input is a palindrome or not.\n",
    "\n",
    "# put your code here:\n",
    "import gradio as gr\n",
    "\n",
    "def palindrome_checker(word):\n",
    "    return None\n",
    "\n",
    "iface = None\n",
    "\n",
    "\n",
    "\n",
    "# ---- End of your code ----\n",
    "\n",
    "# Submit Method\n",
    "assignment_id = \"00_gradio\"\n",
    "question_id = \"01_gradio_palindrome_checker\"\n",
    "submit(student_id, name, assignment_id, str(palindrome_checker(\"aditira\")) question_id, drive_link)"
   ]
  },
  {
   "cell_type": "markdown",
   "id": "a4f1ffa6",
   "metadata": {},
   "source": [
    "# Level Up with Gradio!"
   ]
  },
  {
   "cell_type": "markdown",
   "id": "006796f9",
   "metadata": {},
   "source": [
    "Gradio comes with a variety of built-in components that you can leverage to customize your UI. The possibilities are endless, from sliders and dropdowns to checkboxes and radio buttons!"
   ]
  },
  {
   "cell_type": "markdown",
   "id": "557274a3",
   "metadata": {},
   "source": []
  },
  {
   "cell_type": "markdown",
   "id": "446ff539",
   "metadata": {},
   "source": [
    "Gradio Component (Source: (www.gradio.app/docs/components))"
   ]
  },
  {
   "cell_type": "markdown",
   "id": "6eba79cb",
   "metadata": {},
   "source": [
    "Gradio includes pre-built components that can be used as inputs or outputs in your Interface with a single line of code."
   ]
  },
  {
   "cell_type": "markdown",
   "id": "a09fb610",
   "metadata": {},
   "source": [
    "From the previous examples, we assign values to the input and output parameters by providing a string value representing IOComponent:"
   ]
  },
  {
   "cell_type": "code",
   "execution_count": null,
   "id": "0130f04d",
   "metadata": {},
   "outputs": [],
   "source": [
    "import gradio as gr\n",
    "\n",
    "def calculate_area(length: int) -> str:\n",
    "    area = length * length\n",
    "    if area > 20:\n",
    "        return \"Large area\"\n",
    "    else:\n",
    "        return \"Small area\"\n",
    "\n",
    "iface = gr.Interface(calculate_area, \n",
    "    inputs=\"slider\", outputs=\"label\")\n",
    "iface.launch()"
   ]
  },
  {
   "cell_type": "markdown",
   "id": "9e594815",
   "metadata": {},
   "source": [
    "But, what if we want to customize the minimum and maximum values of the slider? We can call IOComponent in this example gr.inputs.Slider and customize it there."
   ]
  },
  {
   "cell_type": "code",
   "execution_count": null,
   "id": "0883d679",
   "metadata": {},
   "outputs": [],
   "source": [
    "import gradio as gr\n",
    "\n",
    "def calculate_area(length: int) -> str:\n",
    "    area = length * length\n",
    "    if area > 20:\n",
    "        return \"Large area\"\n",
    "    else:\n",
    "        return \"Small area\"\n",
    "\n",
    "iface = gr.Interface(calculate_area, \n",
    "    inputs = gr.inputs.Slider(minimum=0, maximum=40),\n",
    "    outputs = gr.outputs.Label())\n",
    "iface.launch()"
   ]
  },
  {
   "cell_type": "markdown",
   "id": "6e57ce55",
   "metadata": {},
   "source": [
    "# Multiple Inputs"
   ]
  },
  {
   "cell_type": "markdown",
   "id": "9264d2d9",
   "metadata": {},
   "source": [
    "What if we want to have multiple inputs? We can call several IOComponent in a list for the value of the input."
   ]
  },
  {
   "cell_type": "markdown",
   "id": "89b1ce6c",
   "metadata": {},
   "source": [
    "The above function calculates the area of a rectangle, using two sliders to capture the length and width. Simple and interactive!"
   ]
  },
  {
   "cell_type": "code",
   "execution_count": null,
   "id": "b4d4e7b3",
   "metadata": {},
   "outputs": [],
   "source": [
    "import json\n",
    "import gradio as gr\n",
    "\n",
    "def calculate_area(length: int, width: int) -> json:\n",
    "    area = length * width\n",
    "    if area > 20:\n",
    "        return {\n",
    "            \"area\": area,\n",
    "            \"size\": \"Large area\",\n",
    "        }\n",
    "    else:\n",
    "        return {\n",
    "            \"area\": area,\n",
    "            \"size\": \"Small area\",\n",
    "        }\n",
    "\n",
    "iface = gr.Interface(calculate_area, \n",
    "    inputs = [gr.inputs.Slider(minimum=0, maximum=40), gr.inputs.Slider(minimum=0, maximum=100)], # Inputs with multiple values in a list\n",
    "    outputs = gr.outputs.JSON())\n",
    "iface.launch()"
   ]
  },
  {
   "cell_type": "markdown",
   "id": "1f853be1",
   "metadata": {},
   "source": [
    "Note also that the value sent from the list in the input is read by the function that takes two parameters (adjusts to the list index) and we return the value in json form so that the output in Gradio using IOComponent is gr.outputs.JSON()"
   ]
  },
  {
   "cell_type": "markdown",
   "id": "69bace87",
   "metadata": {},
   "source": [
    "What about multiple inputs with different components? Of course Gradio can also build this by adding radio buttons and drop-down menus in one input example:"
   ]
  },
  {
   "cell_type": "code",
   "execution_count": null,
   "id": "767d5f04",
   "metadata": {},
   "outputs": [],
   "source": [
    "import gradio as gr\n",
    "\n",
    "def greet(name, title):\n",
    "    return f\"{title} {name}, nice to meet you!\"\n",
    "\n",
    "iface = gr.Interface(greet, \n",
    "    [gr.inputs.Textbox(), gr.inputs.Dropdown(choices=[\"Mr.\", \"Ms.\", \"Dr.\", \"Prof.\"])],\n",
    "    gr.outputs.Textbox())\n",
    "iface.launch()"
   ]
  },
  {
   "cell_type": "markdown",
   "id": "13ccf9df",
   "metadata": {},
   "source": [
    "Here we have a greeting function with a dropdown menu for users to select their title!"
   ]
  },
  {
   "cell_type": "markdown",
   "id": "ea180bef",
   "metadata": {},
   "source": [
    "# Multiple Output"
   ]
  },
  {
   "cell_type": "markdown",
   "id": "fc30d665",
   "metadata": {},
   "source": [
    "What if you have a function that produces multiple outputs and you want to display all of them in the interface? Actually, Gradio can handle this perfectly. Let’s look at an example where a function calculates the area and perimeter of a square given the length of its side:"
   ]
  },
  {
   "cell_type": "code",
   "execution_count": null,
   "id": "2f92853b",
   "metadata": {},
   "outputs": [],
   "source": [
    "import gradio as gr\n",
    "\n",
    "def calculate_area_and_perimeter(length: int):\n",
    "    area = length * length\n",
    "    perimeter = 4 * length\n",
    "    return area, perimeter\n",
    "\n",
    "# To display multiple outputs, we use brackets `[...]` and list the types for each of the outputs. In this case, we have two numbers to display, so we have `outputs=[\"number\", \"number\"]`.\n",
    "\n",
    "iface = gr.Interface(calculate_area_and_perimeter, \n",
    "    inputs=gr.inputs.Slider(1, 10, 1, label=\"Length\"), \n",
    "    outputs=[\"number\", \"number\"])\n",
    "iface.launch()"
   ]
  },
  {
   "cell_type": "markdown",
   "id": "b38cf82b",
   "metadata": {},
   "source": [
    "This will create a Gradio interface that allows the user to adjust the length of the square’s side using a slider, and then it will display both the area and the perimeter of the square."
   ]
  },
  {
   "cell_type": "markdown",
   "id": "03bf556a",
   "metadata": {},
   "source": [
    "# Image Processing with Gradio"
   ]
  },
  {
   "cell_type": "markdown",
   "id": "49bf748d",
   "metadata": {},
   "source": [
    "Gradio is not just about numbers and text. It also supports a variety of other types, including images! Let’s see an example where we create a Gradio interface that takes an image as input and outputs a grayscale version of the same image:"
   ]
  },
  {
   "cell_type": "code",
   "execution_count": null,
   "id": "4199437f",
   "metadata": {},
   "outputs": [],
   "source": [
    "import gradio as gr\n",
    "from PIL import Image\n",
    "import numpy as np\n",
    "\n",
    "def to_grayscale(input_image: gr.inputs.Image) -> gr.outputs.Image:\n",
    "    pil_image = Image.fromarray(input_image)  # Convert the numpy array into a PIL Image object\n",
    "    grayscale_image = pil_image.convert('L')  # Convert the image to grayscale\n",
    "    return np.array(grayscale_image)  # Convert the PIL Image object back into a numpy array\n",
    "\n",
    "iface = gr.Interface(fn=to_grayscale, inputs=\"image\", outputs=gr.outputs.Image(type=\"numpy\"))\n",
    "iface.launch()"
   ]
  },
  {
   "cell_type": "markdown",
   "id": "c0c20e76",
   "metadata": {},
   "source": [
    "This Gradio interface allows the user to upload an image, then it processes the image to create a grayscale version, and finally displays the grayscale image."
   ]
  },
  {
   "cell_type": "markdown",
   "id": "d3623158",
   "metadata": {},
   "source": [
    "As you can see, the sky’s the limit for Gradio. It provides an end-to-end solution for rapid UI creation, allowing you to focus more on your models and less on user interface challenges."
   ]
  },
  {
   "cell_type": "markdown",
   "id": "4d919717",
   "metadata": {},
   "source": [
    "# Understanding the Magic behind launch()"
   ]
  },
  {
   "cell_type": "markdown",
   "id": "b6eedb5a",
   "metadata": {},
   "source": [
    "To start the Gradio app and bring your Gradio interface to life, we use the launch() function. Here are some key parameters used with launch():"
   ]
  },
  {
   "cell_type": "markdown",
   "id": "8bc03588",
   "metadata": {},
   "source": [
    "# Share"
   ]
  },
  {
   "cell_type": "markdown",
   "id": "4128f732",
   "metadata": {},
   "source": [
    "What if you created a great Gradio interface and now you want to share it with others? The share parameter is your friend here. By setting this parameter to True, you can make your interface accessible via a public link. However, remember that your model needs to be hosted on a server or cloud that’s publicly accessible. You cannot share an interface running on your local machine. By default, share is set to False."
   ]
  },
  {
   "cell_type": "code",
   "execution_count": null,
   "id": "5c928f3f",
   "metadata": {},
   "outputs": [],
   "source": [
    "import gradio as gr\n",
    "\n",
    "def upper_case(text):\n",
    "    return text.upper()\n",
    "\n",
    "iface = gr.Interface(fn=upper_case, inputs=\"text\", outputs=\"text\")\n",
    "iface.launch(share=True)"
   ]
  },
  {
   "cell_type": "markdown",
   "id": "28e00b01",
   "metadata": {},
   "source": [
    "# Debug"
   ]
  },
  {
   "cell_type": "markdown",
   "id": "1dafb9dc",
   "metadata": {},
   "source": [
    "What if an error occurs in our Gradio application and we have to do debugging? Yes, Debugging can be a headache, especially when you are dealing with UIs. That’s where the debug parameter comes into play. Setting this to True will give you detailed error messages if something goes wrong while running the UI. By default, debug is set to False."
   ]
  },
  {
   "cell_type": "markdown",
   "id": "892f3bb8",
   "metadata": {},
   "source": [
    "Let’s take a simple example where we unintentionally introduce an error into our function and see how to use the debug parameter to help us fix it."
   ]
  },
  {
   "cell_type": "markdown",
   "id": "3660d1e0",
   "metadata": {},
   "source": [
    "Consider the following function that should return the length of the input string. However, we’ve written it incorrectly, as it tries to get the length of an integer, which will result in a TypeError."
   ]
  },
  {
   "cell_type": "code",
   "execution_count": null,
   "id": "d3fe5fd0",
   "metadata": {},
   "outputs": [],
   "source": [
    "import gradio as gr\n",
    "\n",
    "def string_length(text):\n",
    "    return len(5)  # This will cause a TypeError: object of type 'int' has no len()\n",
    "\n",
    "iface = gr.Interface(fn=string_length, inputs=\"text\", outputs=\"text\")\n",
    "iface.launch()"
   ]
  },
  {
   "cell_type": "markdown",
   "id": "973f12cb",
   "metadata": {},
   "source": [
    "This will fail silently because we haven’t enabled debugging yet. Let’s try it again, but this time with debug=True."
   ]
  },
  {
   "cell_type": "code",
   "execution_count": null,
   "id": "7d16d45a",
   "metadata": {},
   "outputs": [],
   "source": [
    "import gradio as gr\n",
    "\n",
    "def string_length(text):\n",
    "    return len(5)  # This will cause a TypeError: object of type 'int' has no len()\n",
    "\n",
    "iface = gr.Interface(fn=string_length, inputs=\"text\", outputs=\"text\")\n",
    "iface.launch(debug=True)"
   ]
  },
  {
   "cell_type": "markdown",
   "id": "8771d825",
   "metadata": {},
   "source": [
    "Now you will see a detailed error trace in the console, which will help you debug the issue. Here’s the error trace:"
   ]
  },
  {
   "cell_type": "code",
   "execution_count": null,
   "id": "982350d2",
   "metadata": {},
   "outputs": [],
   "source": [
    "TypeError: object of type 'int' has no len()"
   ]
  },
  {
   "cell_type": "markdown",
   "id": "910957cf",
   "metadata": {},
   "source": [
    "This message suggests there’s a TypeError because we’re trying to get the length of an integer. To correct it, we need to replace the integer with the text parameter in the len function as below:"
   ]
  },
  {
   "cell_type": "code",
   "execution_count": null,
   "id": "e71e108b",
   "metadata": {},
   "outputs": [],
   "source": [
    "import gradio as gr\n",
    "\n",
    "def string_length(text):\n",
    "    return len(text)  # Correctly gets the length of the input string\n",
    "\n",
    "iface = gr.Interface(fn=string_length, inputs=\"text\", outputs=\"text\")\n",
    "iface.launch(debug=True)"
   ]
  },
  {
   "cell_type": "markdown",
   "id": "15c0f084",
   "metadata": {},
   "source": [
    "Now, the interface should work as expected and return the length of the user’s input string."
   ]
  },
  {
   "cell_type": "markdown",
   "id": "9dbbf2ad",
   "metadata": {},
   "source": [
    "# Exercise"
   ]
  },
  {
   "cell_type": "code",
   "execution_count": null,
   "id": "d1b191c3",
   "metadata": {},
   "outputs": [],
   "source": [
    "# @title #### 02 Name and Age Greetings App\n",
    "\n",
    "# In this exercise, you are going to create a Gradio interface for an application that greets the user in a more personalized way. \n",
    "# Your Gradio interface should take two inputs: the user's name and their age. The interface should return two outputs: a greeting that includes the user's name and a message based on the user's age.\n",
    "\n",
    "# For example, if a user inputs \"John\" for the name and \"25\" for the age, the application might return, \"Hello, John!\" and \"You're in the prime of your youth!\"\n",
    "\n",
    "# These are the rules for age_message:\n",
    "# - If user is younger than 18   : \"Enjoy your youth, life is an adventure waiting!\"\n",
    "# - If user is between 18 and 29 : \"You're in the prime of your youth!\"\n",
    "# - If user is between 30 and 49 : \"You are old enough to know better and still young enough to do it.\"\n",
    "# - If user is 50 or older       : \"ge is just a state of mind!\"\n",
    "\n",
    "# Put your code here:\n",
    "import gradio as gr\n",
    "\n",
    "def personalized_greeting(name, age):\n",
    "    greetings = \"\"\n",
    "    age_message = \"\"\n",
    "    return greetings, age_message\n",
    "\n",
    "iface = None\n",
    "\n",
    "\n",
    "\n",
    "# ---- End of your code ----\n",
    "\n",
    "# Submit Method\n",
    "assignment_id = \"00_gradio\"\n",
    "question_id = \"02_gradio_personalized_greeting\"\n",
    "submit(student_id, name, assignment_id, str(personalized_greeting(\"John\", 25)), question_id, drive_link)"
   ]
  },
  {
   "cell_type": "markdown",
   "id": "8cb6e853",
   "metadata": {},
   "source": [
    "# Now, the Fun Part - Building Mini Apps with Gradio!"
   ]
  },
  {
   "cell_type": "markdown",
   "id": "ff5d52a4",
   "metadata": {},
   "source": [
    "# Case 1: Age Predictor Mini-App"
   ]
  },
  {
   "cell_type": "markdown",
   "id": "2799a315",
   "metadata": {},
   "source": [
    "Suppose we have a machine learning model that predicts a person’s age based on their name (for the sake of simplicity, let’s define a dummy model here). We could build an intuitive user interface using Gradio:"
   ]
  },
  {
   "cell_type": "code",
   "execution_count": null,
   "id": "0893e7d5",
   "metadata": {},
   "outputs": [],
   "source": [
    "import gradio as gr\n",
    "\n",
    "def age_predictor(name):\n",
    "    # Let's pretend that our model predicts age 25 for every name\n",
    "    prediction = 25\n",
    "    return f\"The predicted age for {name} is: {prediction}\"\n",
    "\n",
    "iface = gr.Interface(age_predictor, \"text\", \"text\")\n",
    "iface.launch()"
   ]
  },
  {
   "cell_type": "markdown",
   "id": "d46103ad",
   "metadata": {},
   "source": [
    "Voilà! Our app is ready to use. As usual, you just wrote a Python function, and Gradio transformed it into an interactive web-based app!"
   ]
  },
  {
   "cell_type": "markdown",
   "id": "1466eeec",
   "metadata": {},
   "source": [
    "# Case 2: Image Classifier Mini-App"
   ]
  },
  {
   "cell_type": "markdown",
   "id": "e059d17d",
   "metadata": {},
   "source": [
    "Let’s tackle something a bit more complex now. Assume we have an image classification model to classify a given image into different categories. We want to expand our model’s use to those who understand machine learning or programming. So, let’s build a web-based app using Gradio:"
   ]
  },
  {
   "cell_type": "code",
   "execution_count": null,
   "id": "d6e2f2a0",
   "metadata": {},
   "outputs": [],
   "source": [
    "def classify_image(inp):\n",
    "    # For the sake of simplicity, let's say our model always predicts 'cat'\n",
    "    return {'cat': 0.99, 'dog': 0.01, 'bird': 0.00}\n",
    "\n",
    "image = gr.inputs.Image(shape=(224, 224))\n",
    "label = gr.outputs.Label(num_top_classes=3)\n",
    "\n",
    "iface = gr.Interface(classify_image, image, label)\n",
    "iface.launch()"
   ]
  },
  {
   "cell_type": "markdown",
   "id": "1ee2ef81",
   "metadata": {},
   "source": [
    "That’s it! Any user can now upload an image and get an instant prediction from your image classification model without writing a single line of code!"
   ]
  },
  {
   "cell_type": "markdown",
   "id": "3516e90a",
   "metadata": {},
   "source": [
    "# Case 4: Text Translation Mini-App"
   ]
  },
  {
   "cell_type": "markdown",
   "id": "54b0e9f5",
   "metadata": {},
   "source": [
    "Let’s consider a more advanced use case: text translation. If you have a text translation model that can translate English text into French (for example), Gradio can help bring it to life:"
   ]
  },
  {
   "cell_type": "code",
   "execution_count": null,
   "id": "bf7b70ce",
   "metadata": {},
   "outputs": [],
   "source": [
    "def translate_text(input):\n",
    "    # Here is a dummy translation function.\n",
    "    return \"C'est un bel exemple de texte français.\"\n",
    "\n",
    "iface = gr.Interface(translate_text, \"text\", \"text\")\n",
    "iface.launch()"
   ]
  },
  {
   "cell_type": "markdown",
   "id": "ec2c6f70",
   "metadata": {},
   "source": [
    "With Gradio, users can now test your text translation model interactively, making your model more accessible than ever!"
   ]
  },
  {
   "cell_type": "markdown",
   "id": "288ea368",
   "metadata": {},
   "source": [
    "# Complex Gradio Interface: Recipe Finder Mini-App"
   ]
  },
  {
   "cell_type": "markdown",
   "id": "54c20a04",
   "metadata": {},
   "source": [
    "Suppose we have a model that can recommend a possible dish and its recipe given a set of ingredients. Let’s build a web-based UI for our model using Gradio."
   ]
  },
  {
   "cell_type": "code",
   "execution_count": null,
   "id": "d1bcf29b",
   "metadata": {},
   "outputs": [],
   "source": [
    "import gradio as gr\n",
    "\n",
    "def suggest_recipe(ingredients, cuisine, vegetarian):\n",
    "    # Our function receives a list of ingredients, cuisine preference, and a vegetarian flag\n",
    "    # For simplicity, let's return a dummy recipe here\n",
    "    return \"Recipe: Dummy Recipe\"\n",
    "\n",
    "# Multi-option input for ingredients, with autocomplete feature\n",
    "ingredients_input = gr.inputs.Textbox(lines=5, label=\"Input Ingredients (comma-separated)\")\n",
    "\n",
    "# Dropdown for cuisine preference\n",
    "cuisine_input = gr.inputs.Dropdown(choices=[\"Italian\", \"Mexican\", \"Indian\", \"Chinese\", \"American\"], label=\"Cuisine Preference\")\n",
    "\n",
    "# Checkbox for vegetarian preference\n",
    "vegetarian_input = gr.inputs.Checkbox(label=\"Vegetarian\")\n",
    "\n",
    "iface = gr.Interface(suggest_recipe, [ingredients_input, cuisine_input, vegetarian_input], \"text\")\n",
    "iface.launch()"
   ]
  },
  {
   "cell_type": "markdown",
   "id": "a92a6e7d",
   "metadata": {},
   "source": [
    "Voila! We have created a more complex Gradio interface for our recipe-finding model. Users can input a list of ingredients, select their cuisine preference from a dropdown list, tick a checkbox if they want a vegetarian recipe, and our model will suggest a suitable recipe!"
   ]
  },
  {
   "cell_type": "markdown",
   "id": "bfe03932",
   "metadata": {},
   "source": [
    "Combining different Gradio components allows you to build incredibly rich and interactive UIs for your machine-learning models. Not only does Gradio make your models more accessible to a broader audience, but it also enhances the overall user experience, making your models easier to understand and interact with!"
   ]
  },
  {
   "cell_type": "markdown",
   "id": "19bbc104",
   "metadata": {},
   "source": [
    "# Sentiment Analysis with Gradio & Hugging Face"
   ]
  },
  {
   "cell_type": "markdown",
   "id": "23594dc8",
   "metadata": {},
   "source": [
    "Gradio allows easy creation of a web-based UI for our model. We’ll use Hugging Face’s pipeline to simplify loading the model and tokenizer."
   ]
  },
  {
   "cell_type": "code",
   "execution_count": null,
   "id": "03841357",
   "metadata": {},
   "outputs": [],
   "source": [
    "%pip install transformers"
   ]
  },
  {
   "cell_type": "code",
   "execution_count": null,
   "id": "05ac456a",
   "metadata": {},
   "outputs": [],
   "source": [
    "# load the sentiment analysis pipeline\n",
    "from transformers import pipeline\n",
    "nlp_model = pipeline('sentiment-analysis')\n",
    "\n",
    "# function to be used in Gradio interface\n",
    "def predict_sentiment(text):\n",
    "    result = nlp_model(text)[0]\n",
    "    return f\"label: {result['label']}, with score: {round(result['score'], 4)}\"\n",
    "\n",
    "iface = gr.Interface(fn=predict_sentiment, inputs=\"textbox\", outputs=\"text\")\n",
    "iface.launch()"
   ]
  },
  {
   "cell_type": "markdown",
   "id": "18e83330",
   "metadata": {},
   "source": [
    "This cell loads the sentiment analysis model using Hugging Face’s pipeline function and then sets up a Gradio interface for this model. The Gradio interface takes the text input, gets the model’s predictions, and shows the sentiment label and the respective score as output."
   ]
  },
  {
   "cell_type": "markdown",
   "id": "4da196ea",
   "metadata": {},
   "source": [
    "# Voice Conversion App - Combining Interfaces"
   ]
  },
  {
   "cell_type": "markdown",
   "id": "ec14f8ae",
   "metadata": {},
   "source": [
    "Gradio shines in building mini apps for various models and functions. One powerful feature is the ability to combine multiple interfaces into a single app using the TabbedInterface function. This is especially useful when you want to showcase multiple related capabilities together. For instance, let’s build a mini app that houses both a text-to-speech (TTS) and a speech-to-text (STT) model:"
   ]
  },
  {
   "cell_type": "code",
   "execution_count": null,
   "id": "dc8ba60b",
   "metadata": {},
   "outputs": [],
   "source": [
    "import gradio as gr\n",
    "\n",
    "tts_examples = [\n",
    "    \"I love learning machine learning\",\n",
    "    \"How do you do?\",\n",
    "]\n",
    "\n",
    "# Load the TTS model and interface\n",
    "tts_demo = gr.load(\n",
    "    \"huggingface/facebook/fastspeech2-en-ljspeech\",\n",
    "    title=None,\n",
    "    examples=tts_examples,\n",
    "    description=\"Give me something to say!\",\n",
    ")\n",
    "\n",
    "# Load the STT model and interface\n",
    "stt_demo = gr.load(\n",
    "    \"huggingface/facebook/wav2vec2-large-960h\",\n",
    "    title=None,\n",
    "    inputs=\"mic\",\n",
    "    description=\"Let me try to guess what you're saying!\",\n",
    ")\n",
    "\n",
    "# Combine the two interfaces into a tabbed interface\n",
    "demo = gr.TabbedInterface([tts_demo, stt_demo], [\"Text-to-speech\", \"Speech-to-text\"])\n",
    "\n",
    "if __name__ == \"__main__\":\n",
    "    demo.launch(debug=True)  # Launch the mini app!"
   ]
  },
  {
   "cell_type": "markdown",
   "id": "0649ecec",
   "metadata": {},
   "source": [
    "Now you have a mini app that capitalizes on Gradio’s power to deliver interactive and user-friendly experiences for model exploration! Details can be seen here: combining-interfaces"
   ]
  },
  {
   "cell_type": "markdown",
   "id": "eb981dd1",
   "metadata": {},
   "source": [
    "# Personalized Welcome App - Blocks"
   ]
  },
  {
   "cell_type": "markdown",
   "id": "df02754d",
   "metadata": {},
   "source": [
    "Gradio’s Blocks is a powerful feature that allows you to compose more complex interfaces with a variety of layout options, including rows and columns. Blocks can also contain other interface elements like markdown, inputs, outputs, and even buttons."
   ]
  },
  {
   "cell_type": "markdown",
   "id": "9aae5916",
   "metadata": {},
   "source": [
    "Let’s create a simple mini-app where user can input their name and get a personalized welcome message:"
   ]
  },
  {
   "cell_type": "code",
   "execution_count": null,
   "id": "5d84eb0c",
   "metadata": {},
   "outputs": [],
   "source": [
    "import gradio as gr\n",
    "\n",
    "# This is the function that gets executed when the \"Run\" button is clicked.\n",
    "def update(name):\n",
    "    return f\"Welcome to Gradio, {name}!\"\n",
    "\n",
    "# With Blocks, we can create more complex Gradio interfaces.\n",
    "with gr.Blocks() as demo:\n",
    "    gr.Markdown(\"Start typing below and then click **Run** to see the output.\")\n",
    "    with gr.Row():  # Adds a row to the interface\n",
    "        inp = gr.Textbox(placeholder=\"What is your name?\")\n",
    "        out = gr.Textbox()\n",
    "    btn = gr.Button(\"Run\")  # Adds a button to the interface\n",
    "    btn.click(fn=update, inputs=inp, outputs=out)  # Attaches the 'update' function to the button\n",
    "\n",
    "demo.launch()  # Launches the mini app!"
   ]
  },
  {
   "cell_type": "markdown",
   "id": "b283912b",
   "metadata": {},
   "source": [
    "Let’s build a mini app with multiple rows and columns. This app will capture two users’ names and welcome message for them."
   ]
  },
  {
   "cell_type": "code",
   "execution_count": null,
   "id": "efc326d6",
   "metadata": {},
   "outputs": [],
   "source": [
    "import gradio as gr\n",
    "\n",
    "# This is the function that gets executed when the \"Run\" button is clicked.\n",
    "def update(name1, name2):\n",
    "    return f\"Welcome to Gradio, {name1} and {name2}!\"\n",
    "\n",
    "# We can create more complex Gradio interfaces with multiple rows and columns.\n",
    "with gr.Blocks() as demo:\n",
    "    gr.Markdown(\"Start typing below and then click **Run** to see the output.\")\n",
    "    with gr.Row():  # Adds the first row to the interface\n",
    "        inp1 = gr.Textbox(placeholder=\"User 1, what is your name?\")\n",
    "        out1 = gr.Textbox()\n",
    "    with gr.Row():  # Adds the second row to the interface\n",
    "        inp2 = gr.Textbox(placeholder=\"User 2, what is your name?\")\n",
    "        out2 = gr.Textbox()\n",
    "    btn = gr.Button(\"Run\")  # Adds a button to the interface\n",
    "    btn.click(fn=update, inputs=[inp1, inp2], outputs=[out1, out2])  # Attaches the 'update' function to the button\n",
    "\n",
    "demo.launch()  # Launches the mini app!"
   ]
  },
  {
   "cell_type": "markdown",
   "id": "bbc7c4f0",
   "metadata": {},
   "source": [
    "This mini app takes two users’ names as inputs in separate rows and provides personalized welcome messages for them. Details can be seen here: blocks and block-layouts."
   ]
  },
  {
   "cell_type": "markdown",
   "id": "9fbf3d87",
   "metadata": {},
   "source": [
    "# Building Mini Apps with Gradio: Interactive Chatbot"
   ]
  },
  {
   "cell_type": "markdown",
   "id": "70619d1a",
   "metadata": {},
   "source": [
    "Do you know ChatGPT? In Gradio, there is something called ChatInterface and that is a powerful tool to create chatbox-style interfaces like ChatGPT."
   ]
  },
  {
   "cell_type": "markdown",
   "id": "de7e8e7a",
   "metadata": {},
   "source": [
    "Here, we’re going to build a very simple chatbot using Gradio. This chatbot doesn’t have any real understanding of the user’s input. Instead, it will randomly respond with either “Yes” or “No” whenever a new message is submitted."
   ]
  },
  {
   "cell_type": "code",
   "execution_count": null,
   "id": "9a119bf6",
   "metadata": {},
   "outputs": [],
   "source": [
    "import random\n",
    "import gradio as gr\n",
    "\n",
    "def random_response(message, history):\n",
    "    return random.choice([\"Yes\", \"No\"])\n",
    "\n",
    "demo = gr.ChatInterface(random_response)\n",
    "\n",
    "if __name__ == \"__main__\":\n",
    "    demo.launch()"
   ]
  },
  {
   "cell_type": "markdown",
   "id": "408829fc",
   "metadata": {},
   "source": [
    "After launching this Gradio app, you’ll see a textbox where you can type your message. When you hit “submit”, the random_response function is called with your message, and the chatbot responds with either “Yes” or “No”. Since the responses are randomly selected, you’ll get different responses each time you send a message. It’s a very simple example, but it shows how easy it is to get started with a chat interface in Gradio!"
   ]
  },
  {
   "cell_type": "markdown",
   "id": "e64ecfac",
   "metadata": {},
   "source": [
    "What about the original model, for example GPT2?"
   ]
  },
  {
   "cell_type": "markdown",
   "id": "70ae63ee",
   "metadata": {},
   "source": [
    "In this example, we’re going to build a simple chatbot that uses the text-generation pipeline from the Hugging Face transformers library. This pipeline uses the GPT-2 model to generate text based on the user’s input."
   ]
  },
  {
   "cell_type": "code",
   "execution_count": null,
   "id": "118c466f",
   "metadata": {},
   "outputs": [],
   "source": [
    "import gradio as gr\n",
    "from transformers import pipeline\n",
    "\n",
    "# Instantiate a gpt2 text-generation pipeline\n",
    "generator = pipeline('text-generation', model='gpt2')\n",
    "\n",
    "def gpt2_chatbot(message, history):\n",
    "    # Even though we're not using history in generating our response,\n",
    "    # it still needs to be a parameter in the function.\n",
    "\n",
    "    # Use the gpt2 model to generate a response. Let's limit it to 50 tokens.\n",
    "    generated_response = generator(message, max_length=50, temperature=0.7)[0]['generated_text']\n",
    "    \n",
    "    # Extract the generated text and return it.\n",
    "    bot_message = generated_response.split('\\n')[-1]\n",
    "    return bot_message\n",
    "\n",
    "# We create a ChatInterface, using the gpt2_chatbot function as the logic for the chatbot.\n",
    "demo = gr.ChatInterface(fn=gpt2_chatbot, title=\"GPT-2 Chatbot\")\n",
    "demo.launch()"
   ]
  },
  {
   "cell_type": "markdown",
   "id": "316b4b46",
   "metadata": {},
   "source": [
    "This code creates a chat interface using Gradio. The chat interface uses the GPT-2 model to generate responses to user input. When the user types a message and hits “submit”, the message is sent to the gpt2_chatbot function. That function uses the GPT-2 model to generate a response, and that response is displayed on the screen."
   ]
  },
  {
   "cell_type": "markdown",
   "id": "99820ad5",
   "metadata": {},
   "source": [
    "# Wrapping Up"
   ]
  },
  {
   "cell_type": "markdown",
   "id": "24e56493",
   "metadata": {},
   "source": [
    "Gradio is a versatile tool that unlocks a sea of possibilities for your machine-learning models. It allows you to create user-friendly interfaces quickly, facilitating real-time interaction, sharing, and collaboration. The best part? It requires just a few lines of code. So, try Gradio and start building amazing apps for your models!"
   ]
  }
 ],
 "metadata": {},
 "nbformat": 4,
 "nbformat_minor": 5
}
