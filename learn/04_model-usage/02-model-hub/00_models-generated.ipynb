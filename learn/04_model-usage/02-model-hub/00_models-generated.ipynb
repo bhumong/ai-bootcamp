{
 "cells": [
  {
   "cell_type": "markdown",
   "id": "f4d0d1f5",
   "metadata": {},
   "source": [
    "source: [link](https://ai-bootcamp.ruangguru.com/learn/04_model-usage/02-model-hub/00_models.html)"
   ]
  },
  {
   "cell_type": "markdown",
   "id": "7a750eaf",
   "metadata": {},
   "source": [
    "# Model Hub 🗃️"
   ]
  },
  {
   "cell_type": "markdown",
   "id": "ee799bb5",
   "metadata": {},
   "source": [
    "Have you ever wished for a one-stop-shop where you could access and share many pre-trained models, especially when knee-deep in NLP research? Hmm, Sounds familiar? 🤔"
   ]
  },
  {
   "cell_type": "markdown",
   "id": "081a44cd",
   "metadata": {},
   "source": [
    "Well, good news! Model Hub is the knight in shining armour we’ve all been waiting for. In essence, Model Hub is like a bustling marketplace teeming with community-shared, pre-trained models or, as we call them, ‘model checkpoints’."
   ]
  },
  {
   "cell_type": "markdown",
   "id": "d21a820d",
   "metadata": {},
   "source": [
    "# Relation to the Pipeline API"
   ]
  },
  {
   "cell_type": "markdown",
   "id": "40d0e995",
   "metadata": {},
   "source": [
    "The benefit of using the Model Hub over the Pipeline API is that you can use the Model Hub to find models that are not available in the Pipeline API. Moreover in the Model Hub, we can fine-tune the model to our liking. We will learn about fine-tuning in the next section."
   ]
  },
  {
   "cell_type": "markdown",
   "id": "33b42da6",
   "metadata": {},
   "source": [
    "# Meet Hugging Face Model Hub"
   ]
  },
  {
   "cell_type": "markdown",
   "id": "45a83fa6",
   "metadata": {},
   "source": [
    "One such treasure trove is the Hugging Face Model Hub. Picture this: over 10,000 pre-trained models speaking more than 100 different ‘languages’, including crowd-favourites such as BERT, GPT-2, and RoBERTa. Yes, you read it right!"
   ]
  },
  {
   "cell_type": "markdown",
   "id": "290639f0",
   "metadata": {},
   "source": [
    "Long story short, these models are ready to use and are fine-tunable to your requirements via PyTorch. For instance, see how we summon a BERT model:"
   ]
  },
  {
   "cell_type": "code",
   "execution_count": null,
   "id": "53fdf686",
   "metadata": {},
   "outputs": [],
   "source": [
    "!pip install rggrader\n",
    "!pip install transformers\n",
    "!pip install sentencepiece"
   ]
  },
  {
   "cell_type": "code",
   "execution_count": null,
   "id": "199ebac8",
   "metadata": {},
   "outputs": [],
   "source": [
    "#versi ke 2 cara pemanggilan suatu model di model hub\n",
    "from transformers import AutoModel\n",
    "model = AutoModel.from_pretrained('bert-base-uncased')\n",
    "print(model)"
   ]
  },
  {
   "cell_type": "code",
   "execution_count": null,
   "id": "7b12648b",
   "metadata": {},
   "outputs": [],
   "source": [
    "BertModel(\n",
    "  (embeddings): BertEmbeddings(\n",
    "    (word_embeddings): Embedding(30522, 768, padding_idx=0)\n",
    "    (position_embeddings): Embedding(512, 768)\n",
    "    (token_type_embeddings): Embedding(2, 768)\n",
    "    (LayerNorm): LayerNorm((768,), eps=1e-12, elementwise_affine=True)\n",
    "    (dropout): Dropout(p=0.1, inplace=False)\n",
    "  )\n",
    "  (encoder): BertEncoder(\n",
    "    (layer): ModuleList(\n",
    "      (0-11): 12 x BertLayer(\n",
    "        (attention): BertAttention(\n",
    "          (self): BertSelfAttention(\n",
    "            (query): Linear(in_features=768, out_features=768, bias=True)\n",
    "            (key): Linear(in_features=768, out_features=768, bias=True)\n",
    "            (value): Linear(in_features=768, out_features=768, bias=True)\n",
    "            (dropout): Dropout(p=0.1, inplace=False)\n",
    "          )\n",
    "          (output): BertSelfOutput(\n",
    "            (dense): Linear(in_features=768, out_features=768, bias=True)\n",
    "            (LayerNorm): LayerNorm((768,), eps=1e-12, elementwise_affine=True)\n",
    "            (dropout): Dropout(p=0.1, inplace=False)\n",
    "          )\n",
    "        )\n",
    "        (intermediate): BertIntermediate(\n",
    "          (dense): Linear(in_features=768, out_features=3072, bias=True)\n",
    "          (intermediate_act_fn): GELUActivation()\n",
    "        )\n",
    "        (output): BertOutput(\n",
    "          (dense): Linear(in_features=3072, out_features=768, bias=True)\n",
    "          (LayerNorm): LayerNorm((768,), eps=1e-12, elementwise_affine=True)\n",
    "          (dropout): Dropout(p=0.1, inplace=False)\n",
    "        )\n",
    "      )\n",
    "    )\n",
    "  )\n",
    "  (pooler): BertPooler(\n",
    "    (dense): Linear(in_features=768, out_features=768, bias=True)\n",
    "    (activation): Tanh()\n",
    "  )\n",
    ")"
   ]
  },
  {
   "cell_type": "markdown",
   "id": "78b43abe",
   "metadata": {},
   "source": [
    "AutoModel is a generic class that will be instantiated as one of the model classes. By using AutoModel we don’t need to specify the model class. The from_pretrained method downloads the model from the Hugging Face Model Hub."
   ]
  },
  {
   "cell_type": "markdown",
   "id": "c340954d",
   "metadata": {},
   "source": [
    "The code above is similar to :"
   ]
  },
  {
   "cell_type": "code",
   "execution_count": null,
   "id": "28a83d1c",
   "metadata": {},
   "outputs": [],
   "source": [
    "#cara panggil versi 1 / jadul menurut saya\n",
    "\n",
    "from transformers import BertModel, BertTokenizer\n",
    "model = BertModel.from_pretrained('bert-base-uncased')\n",
    "print(model)"
   ]
  },
  {
   "cell_type": "code",
   "execution_count": null,
   "id": "50e6e348",
   "metadata": {},
   "outputs": [],
   "source": [
    "BertModel(\n",
    "  (embeddings): BertEmbeddings(\n",
    "    (word_embeddings): Embedding(30522, 768, padding_idx=0)\n",
    "    (position_embeddings): Embedding(512, 768)\n",
    "    (token_type_embeddings): Embedding(2, 768)\n",
    "    (LayerNorm): LayerNorm((768,), eps=1e-12, elementwise_affine=True)\n",
    "    (dropout): Dropout(p=0.1, inplace=False)\n",
    "  )\n",
    "  (encoder): BertEncoder(\n",
    "    (layer): ModuleList(\n",
    "      (0-11): 12 x BertLayer(\n",
    "        (attention): BertAttention(\n",
    "          (self): BertSelfAttention(\n",
    "            (query): Linear(in_features=768, out_features=768, bias=True)\n",
    "            (key): Linear(in_features=768, out_features=768, bias=True)\n",
    "            (value): Linear(in_features=768, out_features=768, bias=True)\n",
    "            (dropout): Dropout(p=0.1, inplace=False)\n",
    "          )\n",
    "          (output): BertSelfOutput(\n",
    "            (dense): Linear(in_features=768, out_features=768, bias=True)\n",
    "            (LayerNorm): LayerNorm((768,), eps=1e-12, elementwise_affine=True)\n",
    "            (dropout): Dropout(p=0.1, inplace=False)\n",
    "          )\n",
    "        )\n",
    "        (intermediate): BertIntermediate(\n",
    "          (dense): Linear(in_features=768, out_features=3072, bias=True)\n",
    "          (intermediate_act_fn): GELUActivation()\n",
    "        )\n",
    "        (output): BertOutput(\n",
    "          (dense): Linear(in_features=3072, out_features=768, bias=True)\n",
    "          (LayerNorm): LayerNorm((768,), eps=1e-12, elementwise_affine=True)\n",
    "          (dropout): Dropout(p=0.1, inplace=False)\n",
    "        )\n",
    "      )\n",
    "    )\n",
    "  )\n",
    "  (pooler): BertPooler(\n",
    "    (dense): Linear(in_features=768, out_features=768, bias=True)\n",
    "    (activation): Tanh()\n",
    "  )\n",
    ")"
   ]
  },
  {
   "cell_type": "markdown",
   "id": "125c8799",
   "metadata": {},
   "source": [
    "# Important ‘Tech-Talk’ Corner 🗣️"
   ]
  },
  {
   "cell_type": "markdown",
   "id": "e3e78081",
   "metadata": {},
   "source": [
    "Don’t worry! We will only let you delve into the Model Hub world if you are armed. So here’s a quick ‘tech-talk’ session to equip you with some crucial jargon:"
   ]
  },
  {
   "cell_type": "markdown",
   "id": "f4a485d8",
   "metadata": {},
   "source": [
    "Tokenizer: Think of it as a ‘word-whittler’. It chops a sentence into individual ‘tokens’ or words because, let’s face it, our machine-learning models are different from raw text data. Peek into the life of a tokenizer here: openai-tokenizer"
   ]
  },
  {
   "cell_type": "markdown",
   "id": "d6b54de7",
   "metadata": {},
   "source": []
  },
  {
   "cell_type": "markdown",
   "id": "08eae01f",
   "metadata": {},
   "source": [
    "![Image](https://storage.googleapis.com/rg-ai-bootcamp/model_usage/openai-tokenizer.png)"
   ]
  },
  {
   "cell_type": "markdown",
   "id": "6a5367e9",
   "metadata": {},
   "source": [
    "kalimat = “saya sedang belajar”"
   ]
  },
  {
   "cell_type": "markdown",
   "id": "a5ff85db",
   "metadata": {},
   "source": [
    "token = “saya”, “sedang”, “bealajar” –> vector 0 , 1, 2"
   ]
  },
  {
   "cell_type": "markdown",
   "id": "985b275f",
   "metadata": {},
   "source": [
    "tokenizer ="
   ]
  },
  {
   "cell_type": "markdown",
   "id": "70cd2a58",
   "metadata": {},
   "source": [
    "vector = mengubah token menjadi suatu angka"
   ]
  },
  {
   "cell_type": "markdown",
   "id": "95e05aca",
   "metadata": {},
   "source": [
    "vectorizer = bag of words / n gram / tf idf / embeddings"
   ]
  },
  {
   "cell_type": "markdown",
   "id": "aa37587d",
   "metadata": {},
   "source": [
    "# Decoding the Mind of Models 🧠"
   ]
  },
  {
   "cell_type": "markdown",
   "id": "d01bf113",
   "metadata": {},
   "source": [
    "Have you ever felt like interpreting these cognitive machine-learning models is like cracking a secret code? You’re not alone! Understanding how these models work under the hood and how we can manipulate them to solve various NLP tasks can seem daunting. But don’t worry, we’ve got you covered!"
   ]
  },
  {
   "cell_type": "markdown",
   "id": "c28ecad7",
   "metadata": {},
   "source": [
    "# The Hugging Face Model Playbook 📒"
   ]
  },
  {
   "cell_type": "markdown",
   "id": "74b8b2a8",
   "metadata": {},
   "source": [
    "To make our lives easier, the Hugging Face Model Hub categorizes models into different classes, each with its own ‘superpower’:"
   ]
  },
  {
   "cell_type": "markdown",
   "id": "6c106c41",
   "metadata": {},
   "source": [
    "And there you have it! A quick primer on the various classes of models you’ll encounter on the Hub."
   ]
  },
  {
   "cell_type": "code",
   "execution_count": null,
   "id": "c86224d9",
   "metadata": {},
   "outputs": [],
   "source": [
    "saya lagi belajar python\n",
    "saya lagi belajar [MASK]"
   ]
  },
  {
   "cell_type": "markdown",
   "id": "a7e10186",
   "metadata": {},
   "source": [
    "# Autoregressive Models: The Wordsmiths 🖋️"
   ]
  },
  {
   "cell_type": "markdown",
   "id": "ca6a4b3e",
   "metadata": {},
   "source": [
    "Let’s zoom in on autoregressive models, such as GPT-2, typically employed for text-generation tasks. These models are like seasoned writers, leveraging their language syntax and semantics understanding to craft coherent and contextually relevant sentences."
   ]
  },
  {
   "cell_type": "markdown",
   "id": "29a21502",
   "metadata": {},
   "source": [
    "Let’s play a little ‘Complete the Sentence’ game with our GPT-2 model. We’re going to feed it with a sentence fragment, “Hello, I’m a language model,” and let’s see how it completes it in five different ways:"
   ]
  },
  {
   "cell_type": "code",
   "execution_count": null,
   "id": "28dcca26",
   "metadata": {},
   "outputs": [],
   "source": [
    "from transformers import GPT2LMHeadModel, GPT2Tokenizer\n",
    "import torch\n",
    "\n",
    "# Setting up model and tokenizer\n",
    "tokenizer = GPT2Tokenizer.from_pretrained('gpt2')\n",
    "model = GPT2LMHeadModel.from_pretrained('gpt2')\n",
    "\n",
    "# Setting seed for reproducibility\n",
    "torch.manual_seed(42)\n",
    "\n",
    "# Input text\n",
    "input_text = \"Hello, I'm a language model,\"\n",
    "input_ids = tokenizer.encode(input_text, return_tensors='pt')\n",
    "\n",
    "# Let's generate text\n",
    "output = model.generate(input_ids, max_length=30, num_return_sequences=5, do_sample=True)\n",
    "\n",
    "# Now, it's time to decode the generated text\n",
    "for i in range(5):\n",
    "    print(\"==========================================\\n\")\n",
    "    sequence = tokenizer.decode(output[i], skip_special_tokens=True)\n",
    "    print(f\"{i+1}. {sequence}\")"
   ]
  },
  {
   "cell_type": "code",
   "execution_count": null,
   "id": "03091de8",
   "metadata": {},
   "outputs": [],
   "source": [
    "The attention mask and the pad token id were not set. As a consequence, you may observe unexpected behavior. Please pass your input's `attention_mask` to obtain reliable results.\n",
    "Setting `pad_token_id` to `eos_token_id`:50256 for open-end generation."
   ]
  },
  {
   "cell_type": "code",
   "execution_count": null,
   "id": "7a2fcd1b",
   "metadata": {},
   "outputs": [],
   "source": [
    "==========================================\n",
    "\n",
    "1. Hello, I'm a language model, but what I'm really doing is making a human-readable document. There are other languages, but those are\n",
    "==========================================\n",
    "\n",
    "2. Hello, I'm a language model, not a syntax model. That's why I like it. I've done a lot of programming projects.\n",
    "\n",
    "==========================================\n",
    "\n",
    "3. Hello, I'm a language model, and I'll do it in no time!\n",
    "\n",
    "One of the things we learned from talking to my friend\n",
    "==========================================\n",
    "\n",
    "4. Hello, I'm a language model, not a command line tool.\n",
    "\n",
    "If my code is simple enough:\n",
    "\n",
    "if (use (string\n",
    "==========================================\n",
    "\n",
    "5. Hello, I'm a language model, I've been using Language in all my work. Just a small example, let's see a simplified example."
   ]
  },
  {
   "cell_type": "code",
   "execution_count": null,
   "id": "51b40fbe",
   "metadata": {},
   "outputs": [],
   "source": [
    "from transformers import pipeline, set_seed\n",
    "generator = pipeline('text-generation', model='gpt2')\n",
    "set_seed(42)\n",
    "text = generator(\"Hello, I'm a language model,\", max_length=30, num_return_sequences=1)"
   ]
  },
  {
   "cell_type": "code",
   "execution_count": null,
   "id": "3855adc5",
   "metadata": {},
   "outputs": [],
   "source": [
    "Setting `pad_token_id` to `eos_token_id`:50256 for open-end generation."
   ]
  },
  {
   "cell_type": "code",
   "execution_count": null,
   "id": "c0f7977a",
   "metadata": {},
   "outputs": [],
   "source": [
    "text[0]['generated_text']"
   ]
  },
  {
   "cell_type": "code",
   "execution_count": null,
   "id": "e8501b2b",
   "metadata": {},
   "outputs": [],
   "source": [
    "\"Hello, I'm a language model, but what I'm really doing is making a human-readable document. There are other languages, but those are\""
   ]
  },
  {
   "cell_type": "markdown",
   "id": "3f3ce530",
   "metadata": {},
   "source": [
    "And there you have your five unique continuations! Isn’t it fascinating how one model can offer a variety of completions, each making sense in its way? Trust me, it’s just the beginning!"
   ]
  },
  {
   "cell_type": "markdown",
   "id": "1deaf5e5",
   "metadata": {},
   "source": [
    "# Autoencoding Models: The Text Restorers 🧩"
   ]
  },
  {
   "cell_type": "markdown",
   "id": "7258d8ec",
   "metadata": {},
   "source": [
    "Let’s switch gears and delve into the world of autoencoding models, such as BERT. Have you ever wished you could fill in the gaps or missing parts in a text? Well, these models are designed to do just that!"
   ]
  },
  {
   "cell_type": "markdown",
   "id": "0ce16031",
   "metadata": {},
   "source": [
    "Consider the ‘Fill in the Blanks’ game we all used to play as kids. Similarly, we can use BERT to fill in a ‘[MASK]’ token in a sentence. Let’s give it a try:"
   ]
  },
  {
   "cell_type": "code",
   "execution_count": null,
   "id": "0081b180",
   "metadata": {},
   "outputs": [],
   "source": [
    "from transformers import BertTokenizer, BertForMaskedLM\n",
    "import torch\n",
    "\n",
    "# Setting up model and tokenizer\n",
    "tokenizer = BertTokenizer.from_pretrained('bert-base-uncased')\n",
    "model = BertForMaskedLM.from_pretrained('bert-base-uncased')\n",
    "\n",
    "# Input text with a masked token\n",
    "input_text = \"Hello, I'm a [MASK] model.\"\n",
    "input_ids = tokenizer.encode(input_text, return_tensors='pt')\n",
    "\n",
    "# Let's predict the masked token\n",
    "output = model(input_ids).logits\n",
    "\n",
    "# Let's get the predicted token\n",
    "predicted_index = torch.argmax(output[0, input_ids[0].tolist().index(103)]).item()\n",
    "predicted_token = tokenizer.convert_ids_to_tokens([predicted_index])[0]\n",
    "\n",
    "print(\"==========================================\")\n",
    "print(f\"The masked token is: {predicted_token}\")"
   ]
  },
  {
   "cell_type": "code",
   "execution_count": null,
   "id": "74f039b7",
   "metadata": {},
   "outputs": [],
   "source": [
    "Some weights of the model checkpoint at bert-base-uncased were not used when initializing BertForMaskedLM: ['bert.pooler.dense.bias', 'cls.seq_relationship.bias', 'cls.seq_relationship.weight', 'bert.pooler.dense.weight']\n",
    "- This IS expected if you are initializing BertForMaskedLM from the checkpoint of a model trained on another task or with another architecture (e.g. initializing a BertForSequenceClassification model from a BertForPreTraining model).\n",
    "- This IS NOT expected if you are initializing BertForMaskedLM from the checkpoint of a model that you expect to be exactly identical (initializing a BertForSequenceClassification model from a BertForSequenceClassification model)."
   ]
  },
  {
   "cell_type": "code",
   "execution_count": null,
   "id": "44393e87",
   "metadata": {},
   "outputs": [],
   "source": [
    "==========================================\n",
    "The masked token is: role"
   ]
  },
  {
   "cell_type": "markdown",
   "id": "ca493f41",
   "metadata": {},
   "source": [
    "Now, you might wonder what’s happening in the last two lines of code. Here’s a quick rundown:"
   ]
  },
  {
   "cell_type": "markdown",
   "id": "d5e38299",
   "metadata": {},
   "source": [
    "And there you have it! BERT magically filled in the blank for us! These models have come a long way from the ‘Hangman’ games we used to play, right?"
   ]
  },
  {
   "cell_type": "code",
   "execution_count": null,
   "id": "2a2f9e5a",
   "metadata": {},
   "outputs": [],
   "source": [
    "from transformers import pipeline\n",
    "unmasker = pipeline('fill-mask', model='bert-base-uncased')\n",
    "unmasker(\"Hello I'm a [MASK] model.\")"
   ]
  },
  {
   "cell_type": "code",
   "execution_count": null,
   "id": "f5dca476",
   "metadata": {},
   "outputs": [],
   "source": [
    "Some weights of the model checkpoint at bert-base-uncased were not used when initializing BertForMaskedLM: ['bert.pooler.dense.bias', 'cls.seq_relationship.bias', 'cls.seq_relationship.weight', 'bert.pooler.dense.weight']\n",
    "- This IS expected if you are initializing BertForMaskedLM from the checkpoint of a model trained on another task or with another architecture (e.g. initializing a BertForSequenceClassification model from a BertForPreTraining model).\n",
    "- This IS NOT expected if you are initializing BertForMaskedLM from the checkpoint of a model that you expect to be exactly identical (initializing a BertForSequenceClassification model from a BertForSequenceClassification model)."
   ]
  },
  {
   "cell_type": "code",
   "execution_count": null,
   "id": "8d290b7c",
   "metadata": {},
   "outputs": [],
   "source": [
    "[{'score': 0.10731087625026703,\n",
    "  'token': 4827,\n",
    "  'token_str': 'fashion',\n",
    "  'sequence': \"hello i'm a fashion model.\"},\n",
    " {'score': 0.08774476498365402,\n",
    "  'token': 2535,\n",
    "  'token_str': 'role',\n",
    "  'sequence': \"hello i'm a role model.\"},\n",
    " {'score': 0.053383879363536835,\n",
    "  'token': 2047,\n",
    "  'token_str': 'new',\n",
    "  'sequence': \"hello i'm a new model.\"},\n",
    " {'score': 0.04667221009731293,\n",
    "  'token': 3565,\n",
    "  'token_str': 'super',\n",
    "  'sequence': \"hello i'm a super model.\"},\n",
    " {'score': 0.027095887809991837,\n",
    "  'token': 2986,\n",
    "  'token_str': 'fine',\n",
    "  'sequence': \"hello i'm a fine model.\"}]"
   ]
  },
  {
   "cell_type": "markdown",
   "id": "550a22ed",
   "metadata": {},
   "source": [
    "# Sequence-to-Sequence Models: The Language Translators 🌐"
   ]
  },
  {
   "cell_type": "markdown",
   "id": "16211449",
   "metadata": {},
   "source": [
    "Have you ever marvelled at effortlessly converting one sequence into another, such as translating English text to French? Sequence-to-Sequence models, also known as Seq2Seq models, are your magic wands for this task. Our star of the show today is FSMT (Fairseq Sequence-to-Sequence), chosen for its prowess in language translation."
   ]
  },
  {
   "cell_type": "markdown",
   "id": "731022da",
   "metadata": {},
   "source": [
    "Enough said, let’s witness its magic in action:"
   ]
  },
  {
   "cell_type": "code",
   "execution_count": null,
   "id": "9b19b167",
   "metadata": {},
   "outputs": [],
   "source": [
    "from transformers import MarianMTModel, MarianTokenizer\n",
    "\n",
    "# Define the model and the tokenizer\n",
    "model_name = 'Helsinki-NLP/opus-mt-en-fr'\n",
    "tokenizer = MarianTokenizer.from_pretrained(model_name)\n",
    "model = MarianMTModel.from_pretrained(model_name)\n",
    "\n",
    "# Input text (English)\n",
    "input_text = \"Hello, I'm a language model.\"\n",
    "\n",
    "# Encode the text\n",
    "input_ids = tokenizer.encode(input_text, return_tensors='pt')\n",
    "\n",
    "# Generate translation (French)\n",
    "output = model.generate(input_ids)\n",
    "translation = tokenizer.decode(output[0], skip_special_tokens=True)\n",
    "\n",
    "print(\"==========================================\")\n",
    "print(f\"Translation: {translation}\")"
   ]
  },
  {
   "cell_type": "code",
   "execution_count": null,
   "id": "d90f9418",
   "metadata": {},
   "outputs": [],
   "source": [
    "/usr/local/lib/python3.10/dist-packages/transformers/models/marian/tokenization_marian.py:194: UserWarning: Recommended: pip install sacremoses.\n",
    "  warnings.warn(\"Recommended: pip install sacremoses.\")"
   ]
  },
  {
   "cell_type": "code",
   "execution_count": null,
   "id": "c9d7ba89",
   "metadata": {},
   "outputs": [],
   "source": [
    "==========================================\n",
    "Translation: Bonjour, je suis un modèle de langue."
   ]
  },
  {
   "cell_type": "code",
   "execution_count": null,
   "id": "d0793abc",
   "metadata": {},
   "outputs": [],
   "source": [
    "from transformers import pipeline\n",
    "pipe = pipeline(\"translation\", model=\"Helsinki-NLP/opus-mt-tc-big-en-fr\")\n",
    "print(pipe(\"The Portuguese teacher is very demanding.\"))"
   ]
  },
  {
   "cell_type": "code",
   "execution_count": null,
   "id": "4b888570",
   "metadata": {},
   "outputs": [],
   "source": [
    "[{'translation_text': 'aboutissant aboutissant aboutissant aboutissant aboutissant aboutissant aboutissant aboutissant aboutissant aboutissant aboutissant aboutissant aboutissant aboutissant aboutissant aboutissant aboutissant garage aboutissant aboutissant aboutissant aboutissant aboutissant aboutissant aboutissant aboutissant aboutissant aboutissant aboutissant aboutissant aboutissant aboutissant aboutissant aboutissant aboutissant aboutissant aboutissant aboutissant aboutissant aboutissant aboutissant aboutissant aboutissant aboutissant aboutissant aboutissant aboutissant aboutissant aboutissant aboutissant aboutissant aboutissant aboutissant aboutissant aboutissant aboutissant aboutissant aboutissant aboutissant aboutissant aboutissant aboutissant aboutissant aboutissant aboutissant aboutissant aboutissant aboutissant aboutissant aboutissant aboutissant aboutissant aboutissant aboutissant aboutissant aboutissant aboutissant aboutissant aboutissant aboutissant aboutissant aboutissant aboutissant aboutissant aboutissant aboutissant aboutissant aboutissant aboutissant aboutissant aboutissant aboutissant aboutissant aboutissant aboutissant aboutissant aboutissant aboutissant aboutissant aboutissant aboutissant aboutissant aboutissant aboutissant aboutissant aboutissant aboutissant aboutissant aboutissant aboutissant aboutissant aboutissant aboutissant aboutissant aboutissant aboutissant aboutissant aboutissant aboutissant aboutissant aboutissant aboutissant aboutissant aboutissant aboutissant aboutissant aboutissant aboutissant aboutissant aboutissant aboutissant aboutissant aboutissant aboutissant aboutissant aboutissant aboutissant aboutissant aboutissant aboutissant aboutissant aboutissant aboutissant aboutissant aboutissant aboutissant aboutissant aboutissant aboutissant aboutissant aboutissant aboutissant aboutissant aboutissant aboutissant aboutissant aboutissant aboutissant aboutissant aboutissant aboutissant aboutissant aboutissant aboutissant aboutissant aboutissant aboutissant aboutissant aboutissant aboutissant aboutissant aboutissant aboutissant aboutissant aboutissant aboutissant aboutissant aboutissant aboutissant aboutissant aboutissant aboutissant aboutissant aboutissant aboutissant aboutissant aboutissant aboutissant aboutissant aboutissant aboutissant aboutissant aboutissant aboutissant aboutissant aboutissant aboutissant aboutissant aboutissant aboutissant aboutissant aboutissant aboutissant aboutissant aboutissant aboutissant aboutissant aboutissant aboutissant aboutissant aboutissant aboutissant aboutissant aboutissant aboutissant aboutissant aboutissant aboutissant aboutissant aboutissant aboutissant aboutissant aboutissant aboutissant aboutissant aboutissant aboutissant aboutissant aboutissant aboutissant aboutissant aboutissant aboutissant aboutissant aboutissant aboutissant aboutissant aboutissant aboutissant aboutissant aboutissant aboutissant aboutissant aboutissant aboutissant aboutissant aboutissant aboutissant aboutissant aboutissant aboutissant aboutissant aboutissant aboutissant aboutissant aboutissant aboutissant aboutissant aboutissant aboutissant aboutissant aboutissant aboutissant aboutissant aboutissant aboutissant aboutissant aboutissant aboutissant aboutissant aboutissant aboutissant aboutissant aboutissant aboutissant aboutissant aboutissant aboutissant aboutissant aboutissant aboutissant aboutissant aboutissant aboutissant aboutissant aboutissant aboutissant aboutissant aboutissant aboutissant aboutissant aboutissant aboutissant aboutissant aboutissant aboutissant aboutissant aboutissant aboutissant aboutissant aboutissant aboutissant aboutissant aboutissant aboutissant aboutissant aboutissant aboutissant aboutissant aboutissant aboutissant aboutissant aboutissant aboutissant aboutissant aboutissant aboutissant aboutissant aboutissant aboutissant aboutissant aboutissant aboutissant aboutissant aboutissant aboutissant aboutissant aboutissant aboutissant aboutissant aboutissant aboutissant aboutissant aboutissant aboutissant aboutissant aboutissant aboutissant aboutissant aboutissant aboutissant aboutissant aboutissant aboutissant aboutissant aboutissant aboutissant aboutissant aboutissant aboutissant aboutissant aboutissant aboutissant aboutissant aboutissant aboutissant aboutissant aboutissant aboutissant aboutissant aboutissant aboutissant aboutissant aboutissant aboutissant aboutissant aboutissant aboutissant aboutissant aboutissant aboutissant aboutissant aboutissant aboutissant aboutissant aboutissant garage garage garage garage garage garage garage garage garage garage garage garage garage garage garage garage garage garage garage garage garage garage garage garage garage garage garage garage garage garage garage garage garage garage garage garage garage garage garage garage garage garage garage garage garage garage garage garage garage garage garage garage garage garage garage garage garage garage garage garage garage garage garage garage garage garage garage garage garage garage garage garage garage garage garage garage garage garage garage garage garage garage garage garage garage garage garage garage garage garage garage garage garage garage garage garage garage garage garage garage garage garage garage garage garage garage garage garage garage garage garage garage garage garage garage garage garage garage garage garage garage garage garage garage garage garage garage garage garage garage garage garage garage garage'}]"
   ]
  },
  {
   "cell_type": "markdown",
   "id": "16b9b459",
   "metadata": {},
   "source": [
    "Et voilà! Your English sentence is transformed into French! Isn’t it fascinating how these Seq2Seq models mimic the very essence of human translators, translating not only the words but also preserving the underlying context and semantics? These models are a testament to how far Natural Language Processing has come!"
   ]
  },
  {
   "cell_type": "markdown",
   "id": "d51c20b0",
   "metadata": {},
   "source": [
    "# Multimodal Models: Vision Meets Language 👀🗣️"
   ]
  },
  {
   "cell_type": "markdown",
   "id": "2b2ab9d6",
   "metadata": {},
   "source": [
    "Stepping into the fascinating world of multimodal models, we meet an interesting species, like CLIP, that can juggle multiple inputs, such as text and images. Unlike humans, who can naturally appreciate a picture and describe what they see, machines don’t share this ability. However, we are making strides in bridging this gap with multimodal models."
   ]
  },
  {
   "cell_type": "markdown",
   "id": "859f793c",
   "metadata": {},
   "source": [
    "Picture this scenario: You give CLIP an image and a text description. What it does next is pure magic! It generates feature vectors for both the image and text. But wait, what are these ‘feature vectors’? Think of them as a summary capturing the essence of the image/text."
   ]
  },
  {
   "cell_type": "markdown",
   "id": "821a68a5",
   "metadata": {},
   "source": [
    "Next, we measure these ‘essences’ and convert them into simpler forms, known as scalar values. Why scalar values? Having scalar values makes it easier to compare and quantify the relevance between the image and the text."
   ]
  },
  {
   "cell_type": "markdown",
   "id": "3a890201",
   "metadata": {},
   "source": [
    "Let’s see this in action with a simple image captioning example:"
   ]
  },
  {
   "cell_type": "code",
   "execution_count": null,
   "id": "1e80bebb",
   "metadata": {},
   "outputs": [],
   "source": [
    "from transformers import CLIPProcessor, CLIPModel\n",
    "from PIL import Image\n",
    "import requests\n",
    "from io import BytesIO\n",
    "\n",
    "# Setting up model and processor\n",
    "model = CLIPModel.from_pretrained(\"openai/clip-vit-base-patch32\")\n",
    "processor = CLIPProcessor.from_pretrained(\"openai/clip-vit-base-patch32\")\n",
    "\n",
    "# Downloading image from the internet\n",
    "response = requests.get(\"http://2.bp.blogspot.com/-DVxWhcnFNDM/U0n13msQgkI/AAAAAAAAUkM/eJ5UlFYF-nc/s1600/Gambar_Daun_set01_03.jpg\")\n",
    "image = Image.open(BytesIO(response.content))\n",
    "\n",
    "# Preprocess the image and text\n",
    "inputs = processor(text=\"a photo of a horse\", images=image, return_tensors=\"pt\", padding=True)\n",
    "\n",
    "# Generate image and text features\n",
    "image_features = model.get_image_features(pixel_values=inputs['pixel_values'])\n",
    "text_features = model.get_text_features(input_ids=inputs['input_ids'], attention_mask=inputs['attention_mask'])\n",
    "\n",
    "# Reduce features to scalar values for comparison\n",
    "image_relevance = image_features.norm(dim=-1)\n",
    "text_relevance = text_features.norm(dim=-1)\n",
    "\n",
    "print(f\"Image relevance: {image_relevance.item()}\")\n",
    "print(f\"Text relevance: {text_relevance.item()}\")"
   ]
  },
  {
   "cell_type": "code",
   "execution_count": null,
   "id": "7a597b9b",
   "metadata": {},
   "outputs": [],
   "source": [
    "Image relevance: 10.93500804901123\n",
    "Text relevance: 10.32463550567627"
   ]
  },
  {
   "cell_type": "markdown",
   "id": "a3d85bbf",
   "metadata": {},
   "source": [
    "So, what’s going on here? We’re checking if the image matches the description “a photo of a leaf”. The image_relevance and text_relevance represent the ‘strengths’ of the image and text respectively. By comparing these two, we can gauge how relevant the image is to the text description. That’s how we create an intelligent image captioning system! 🖼️+📜=✨"
   ]
  },
  {
   "cell_type": "code",
   "execution_count": null,
   "id": "26423765",
   "metadata": {},
   "outputs": [],
   "source": [
    "from transformers import pipeline\n",
    "\n",
    "summarizer = pipeline(\"summarization\", model=\"facebook/bart-base\")\n",
    "\n",
    "ARTICLE = \"\"\" New York (CNN)When Liana Barrientos was 23 years old, she got married in Westchester County, New York.\n",
    "A year later, she got married again in Westchester County, but to a different man and without divorcing her first husband.\n",
    "Only 18 days after that marriage, she got hitched yet again. Then, Barrientos declared \"I do\" five more times, sometimes only within two weeks of each other.\n",
    "In 2010, she married once more, this time in the Bronx. In an application for a marriage license, she stated it was her \"first and only\" marriage.\n",
    "Barrientos, now 39, is facing two criminal counts of \"offering a false instrument for filing in the first degree,\" referring to her false statements on the\n",
    "2010 marriage license application, according to court documents.\n",
    "Prosecutors said the marriages were part of an immigration scam.\n",
    "On Friday, she pleaded not guilty at State Supreme Court in the Bronx, according to her attorney, Christopher Wright, who declined to comment further.\n",
    "After leaving court, Barrientos was arrested and charged with theft of service and criminal trespass for allegedly sneaking into the New York subway through an emergency exit, said Detective\n",
    "Annette Markowski, a police spokeswoman. In total, Barrientos has been married 10 times, with nine of her marriages occurring between 1999 and 2002.\n",
    "All occurred either in Westchester County, Long Island, New Jersey or the Bronx. She is believed to still be married to four men, and at one time, she was married to eight men at once, prosecutors say.\n",
    "Prosecutors said the immigration scam involved some of her husbands, who filed for permanent residence status shortly after the marriages.\n",
    "Any divorces happened only after such filings were approved. It was unclear whether any of the men will be prosecuted.\n",
    "The case was referred to the Bronx District Attorney\\'s Office by Immigration and Customs Enforcement and the Department of Homeland Security\\'s\n",
    "Investigation Division. Seven of the men are from so-called \"red-flagged\" countries, including Egypt, Turkey, Georgia, Pakistan and Mali.\n",
    "Her eighth husband, Rashid Rajput, was deported in 2006 to his native Pakistan after an investigation by the Joint Terrorism Task Force.\n",
    "If convicted, Barrientos faces up to four years in prison.  Her next court appearance is scheduled for May 18.\n",
    "\"\"\"\n",
    "print(summarizer(ARTICLE, max_length=130, min_length=30, do_sample=False))"
   ]
  },
  {
   "cell_type": "code",
   "execution_count": null,
   "id": "e1c677ed",
   "metadata": {},
   "outputs": [],
   "source": [
    "[{'summary_text': ' New York (CNN)When Liana Barrientos was 23 years old, she got married in Westchester County, New York. She declared \"I do\" five times, sometimes only within two weeks of each other, according to court documents.She then filed for a marriage license in the Bronx, but without divorcing her first husband. She filed for permanent residence status in 2009.Only 18 days after that marriage, she became pregnant again. She got hitched yet again. Then, Barrientios declared \"you do\" four more times, and again, she filed for residency status in 2010.In 2010, she married'}]"
   ]
  },
  {
   "cell_type": "markdown",
   "id": "3d6a16f9",
   "metadata": {},
   "source": [
    "# Putting Models to Work in Different NLP Tasks 🛠️"
   ]
  },
  {
   "cell_type": "markdown",
   "id": "4186d41b",
   "metadata": {},
   "source": [
    "Were we thrilled with our newfound understanding of these models? Now, let’s roll up our sleeves and see how we can put these models to work in a range of NLP tasks."
   ]
  },
  {
   "cell_type": "markdown",
   "id": "08ebc118",
   "metadata": {},
   "source": [
    "Every model in the hub is like a multi-talented artist who can take on various roles - text generation, token classification, sentence classification, multiple choice classification, or even question answering. However, like all artists, each model has its strengths and weaknesses, and recognizing them is crucial when choosing the right model for your unique tasks."
   ]
  },
  {
   "cell_type": "markdown",
   "id": "76cbcac8",
   "metadata": {},
   "source": [
    "# A Guide to Navigating the Model Hub 🧭"
   ]
  },
  {
   "cell_type": "markdown",
   "id": "55a57304",
   "metadata": {},
   "source": [
    "Are you overwhelmed with so many models at your disposal? No worries! We’ve prepared a helpful guide to help you navigate this ‘model maze’. Click on the picture below to access a video tutorial on how to find your way in the Model Hub:"
   ]
  },
  {
   "cell_type": "markdown",
   "id": "434319f3",
   "metadata": {},
   "source": []
  },
  {
   "cell_type": "markdown",
   "id": "74be927d",
   "metadata": {},
   "source": [
    "![Image](https://storage.googleapis.com/rg-ai-bootcamp/model_usage/navigating-model-hub.png)"
   ]
  },
  {
   "cell_type": "markdown",
   "id": "69a22369",
   "metadata": {},
   "source": [
    "Feel free to revisit this tutorial as you journey through the fascinating world of NLP models. Happy exploring! 🚀"
   ]
  },
  {
   "cell_type": "markdown",
   "id": "bf9906ad",
   "metadata": {},
   "source": [
    "# Diving into Experiments: Transformers in Computer Vision World 🖼️"
   ]
  },
  {
   "cell_type": "markdown",
   "id": "b87b053b",
   "metadata": {},
   "source": [
    "Who said transformers are only good with words? Let’s broaden our horizons and explore another exciting application of transformers in Computer Vision. Despite their linguistic prowess, transformers are not limited to text processing only. They are also powerful tools for image-processing tasks!"
   ]
  },
  {
   "cell_type": "markdown",
   "id": "45923f72",
   "metadata": {},
   "source": [
    "In this experiment, we’ll delve into the task of image classification. We will use the pre-trained model microsoft/resnet-50 to see if our transformer can figure out what’s in an image."
   ]
  },
  {
   "cell_type": "code",
   "execution_count": null,
   "id": "bdde3fc8",
   "metadata": {},
   "outputs": [],
   "source": [
    "from PIL import Image\n",
    "from transformers import AutoImageProcessor, ResNetForImageClassification\n",
    "import torch\n",
    "import matplotlib.pyplot as plt\n",
    "\n",
    "image = Image.open(\"/content/daun.jpg\")"
   ]
  },
  {
   "cell_type": "markdown",
   "id": "3d6f9be8",
   "metadata": {},
   "source": [
    "First, we load an image that we want to classify. In this case, it’s a picture of a leaf."
   ]
  },
  {
   "cell_type": "code",
   "execution_count": null,
   "id": "8d00b1cf",
   "metadata": {},
   "outputs": [],
   "source": [
    "plt.imshow(image)\n",
    "plt.axis('off')\n",
    "plt.show()"
   ]
  },
  {
   "cell_type": "markdown",
   "id": "8f13b18f",
   "metadata": {},
   "source": []
  },
  {
   "cell_type": "markdown",
   "id": "6ad16763",
   "metadata": {},
   "source": [
    "Next, we use the matplotlib library to visualize the image."
   ]
  },
  {
   "cell_type": "code",
   "execution_count": null,
   "id": "8a80951e",
   "metadata": {},
   "outputs": [],
   "source": [
    "processor = AutoImageProcessor.from_pretrained(\"microsoft/resnet-50\")\n",
    "model = ResNetForImageClassification.from_pretrained(\"microsoft/resnet-50\")"
   ]
  },
  {
   "cell_type": "code",
   "execution_count": null,
   "id": "b4069b6e",
   "metadata": {},
   "outputs": [],
   "source": [
    "Could not find image processor class in the image processor config or the model config. Loading based on pattern matching with the model's feature extractor configuration."
   ]
  },
  {
   "cell_type": "markdown",
   "id": "de30ed20",
   "metadata": {},
   "source": [
    "Subsequently, we load the AutoImageProcessor and ResNetForImageClassification model. ResNet-50 is a convolutional neural network that is 50 layers deep and widely used model for image classification tasks."
   ]
  },
  {
   "cell_type": "code",
   "execution_count": null,
   "id": "565a0195",
   "metadata": {},
   "outputs": [],
   "source": [
    "inputs = processor(image, return_tensors=\"pt\")"
   ]
  },
  {
   "cell_type": "markdown",
   "id": "02e70700",
   "metadata": {},
   "source": [
    "We then process the image using the same processor and transform it into tensors so the model can understand it."
   ]
  },
  {
   "cell_type": "code",
   "execution_count": null,
   "id": "83b9d5a0",
   "metadata": {},
   "outputs": [],
   "source": [
    "with torch.no_grad():\n",
    "    logits = model(**inputs).logits"
   ]
  },
  {
   "cell_type": "markdown",
   "id": "bf29dc8f",
   "metadata": {},
   "source": [
    "Let’s feed the processed image to the model! The model returns logits, which can be seen as raw predictions from the model."
   ]
  },
  {
   "cell_type": "code",
   "execution_count": null,
   "id": "5cfa713b",
   "metadata": {},
   "outputs": [],
   "source": [
    "predicted_label = logits.argmax(-1).item()\n",
    "print(f\"The image is classified as: {model.config.id2label[predicted_label]}\")"
   ]
  },
  {
   "cell_type": "code",
   "execution_count": null,
   "id": "91208bcf",
   "metadata": {},
   "outputs": [],
   "source": [
    "The image is classified as: leafhopper"
   ]
  },
  {
   "cell_type": "markdown",
   "id": "cc0ad3fe",
   "metadata": {},
   "source": [
    "Finally, we identify the most probable label from the logits and print it out. The model config has kindly provided us with a dictionary (id2label) to map predicted label IDs back to their human-readable labels."
   ]
  },
  {
   "cell_type": "markdown",
   "id": "4fd552bd",
   "metadata": {},
   "source": [
    "And voila! You’ve just used a transformer to identify the content of an image. From NLP to computer vision, transformers are transformative tools for machine learning tasks!"
   ]
  },
  {
   "cell_type": "markdown",
   "id": "d73d8a1a",
   "metadata": {},
   "source": [
    "# Exercise Model Hub"
   ]
  },
  {
   "cell_type": "code",
   "execution_count": null,
   "id": "a36ab698",
   "metadata": {},
   "outputs": [],
   "source": [
    "!pip install rggrader"
   ]
  },
  {
   "cell_type": "code",
   "execution_count": null,
   "id": "6e0c131b",
   "metadata": {},
   "outputs": [],
   "source": [
    "# @title #### Student Identity\n",
    "student_id = \"your student id\" # @param {type:\"string\"}\n",
    "name = \"your name\" # @param {type:\"string\"}"
   ]
  },
  {
   "cell_type": "code",
   "execution_count": null,
   "id": "df36add8",
   "metadata": {},
   "outputs": [],
   "source": [
    "# @title #### 00. Autoregressive Models\n",
    "from rggrader import submit\n",
    "from transformers import GPT2LMHeadModel, GPT2Tokenizer\n",
    "\n",
    "# TODO:\n",
    "# You have the following sentence: \"Hello, I'm Ruangguru student,\"\n",
    "# Use an autoregressive model to complete the sentence.\n",
    "# You can use a library like GPT-2 from Hugging Face to do this.\n",
    "\n",
    "# Put your code here:\n",
    "text = none\n",
    "\n",
    "\n",
    "# ---- End of your code ----\n",
    "\n",
    "# Submit Method\n",
    "assignment_id = \"00_model_hub\"\n",
    "question_id = \"00_autoregressive_models\"\n",
    "submit(student_id, name, assignment_id, text, question_id)\n",
    "\n",
    "# Example of Expected Output: Hello, I'm Ruangguru student, and this is my first year of the Academy. I want to become a teacher"
   ]
  },
  {
   "cell_type": "code",
   "execution_count": null,
   "id": "7c144ec1",
   "metadata": {},
   "outputs": [],
   "source": [
    "# @title #### 01. Autoencoding Models\n",
    "from rggrader import submit\n",
    "from transformers import BertTokenizer, BertForMaskedLM\n",
    "import torch\n",
    "\n",
    "# TODO:\n",
    "# Given the following sentence: \"I went to the ___ on the weekend.\"\n",
    "# Use an autoencoding model like BERT to predict missing words.\n",
    "# You can use a library like transformers from Hugging Face to do this.\n",
    "\n",
    "# Put your code here:\n",
    "predicted_word = none\n",
    "\n",
    "\n",
    "# ---- End of your code ----\n",
    "\n",
    "# Submit Method\n",
    "assignment_id = \"00_model_hub\"\n",
    "question_id = \"01_autoencoding_models\"\n",
    "submit(student_id, name, assignment_id, predicted_word, question_id)\n",
    "\n",
    "# Example of Expected Output: movies"
   ]
  },
  {
   "cell_type": "code",
   "execution_count": null,
   "id": "5c9159bb",
   "metadata": {},
   "outputs": [],
   "source": [
    "from transformers import pipeline\n",
    "unmasker = pipeline('fill-mask', model='bert-base-uncased')\n",
    "unmasker(\"Hello I'm a [MASK] model.\")"
   ]
  },
  {
   "cell_type": "code",
   "execution_count": null,
   "id": "c70a84a1",
   "metadata": {},
   "outputs": [],
   "source": [
    "from transformers import pipeline\n",
    "unmasker = pipeline('fill-mask', model='bert-base-uncased')\n",
    "\n",
    "unmask_result = unmasker(\"I went to the [MASK] on the weekend.\")\n",
    "predicted_word = unmask_result[0][\"token_str\"]\n",
    "print(predicted_word)"
   ]
  },
  {
   "cell_type": "code",
   "execution_count": null,
   "id": "00372f51",
   "metadata": {},
   "outputs": [],
   "source": [
    "Some weights of the model checkpoint at bert-base-uncased were not used when initializing BertForMaskedLM: ['bert.pooler.dense.bias', 'cls.seq_relationship.bias', 'cls.seq_relationship.weight', 'bert.pooler.dense.weight']\n",
    "- This IS expected if you are initializing BertForMaskedLM from the checkpoint of a model trained on another task or with another architecture (e.g. initializing a BertForSequenceClassification model from a BertForPreTraining model).\n",
    "- This IS NOT expected if you are initializing BertForMaskedLM from the checkpoint of a model that you expect to be exactly identical (initializing a BertForSequenceClassification model from a BertForSequenceClassification model)."
   ]
  },
  {
   "cell_type": "code",
   "execution_count": null,
   "id": "fb013024",
   "metadata": {},
   "outputs": [],
   "source": [
    "movies"
   ]
  },
  {
   "cell_type": "code",
   "execution_count": null,
   "id": "6a063648",
   "metadata": {},
   "outputs": [],
   "source": [
    "# @title #### 02. Multimodal Models\n",
    "from rggrader import submit\n",
    "import torch\n",
    "from PIL import Image\n",
    "import requests\n",
    "from io import BytesIO\n",
    "from torchvision.transforms import Compose, Resize, CenterCrop, ToTensor\n",
    "from transformers import CLIPProcessor, CLIPModel\n",
    "\n",
    "# TODO:\n",
    "# You are given an image URL and a text description: \"A small dog is sitting on the sofa.\"\n",
    "# Use OpenAI's CLIP multimodal model to generate similarity scores between images and text.\n",
    "# You can use the transformers library from Hugging Face to do this.\n",
    "\n",
    "# Note: The similarity score measures how well the image and text match each other according to the model.\n",
    "# Higher scores indicate greater similarity.\n",
    "\n",
    "# Put your code here:\n",
    "image_url = \"https://images.unsplash.com/photo-1546447147-3fc2b8181a74?ixlib=rb-4.0.3&ixid=M3wxMjA3fDB8MHxzZWFyY2h8Mnx8ZG9nJTIwc2l0dGluZyUyMG9uJTIwdGhlJTIwc29mYXxlbnwwfHwwfHx8MA%3D%3D&auto=format&fit=crop&w=500&q=60\"\n",
    "similarity_score = none\n",
    "\n",
    "# ---- End of your code ----\n",
    "\n",
    "# Submit Method\n",
    "assignment_id = \"00_model_hub\"\n",
    "question_id = \"02_multimodal_models\"\n",
    "submit(student_id, name, assignment_id, similarity_score, question_id)\n",
    "\n",
    "# Example of Expected Output: 1.0"
   ]
  }
 ],
 "metadata": {},
 "nbformat": 4,
 "nbformat_minor": 5
}
