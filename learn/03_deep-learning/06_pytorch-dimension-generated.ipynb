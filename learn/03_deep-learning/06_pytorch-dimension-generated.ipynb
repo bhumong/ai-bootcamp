{
 "cells": [
  {
   "cell_type": "markdown",
   "id": "7e7e8551",
   "metadata": {},
   "source": [
    "source: [link](https://ai-bootcamp.ruangguru.com/learn/03_deep-learning/06_pytorch-dimension.html)"
   ]
  },
  {
   "cell_type": "markdown",
   "id": "9b62ec6d",
   "metadata": {},
   "source": [
    "# Pytorch Dimension Modification"
   ]
  },
  {
   "cell_type": "markdown",
   "id": "63ca0cfa",
   "metadata": {},
   "source": [
    "One of the common mistakes in Pytorch is wrong dimension. To avoid this, we need to know how to modify the dimension of the tensor to fit the requirement of the model."
   ]
  },
  {
   "cell_type": "markdown",
   "id": "0157f14c",
   "metadata": {},
   "source": [
    "# Unsqueeze"
   ]
  },
  {
   "cell_type": "markdown",
   "id": "52f9765c",
   "metadata": {},
   "source": [
    "Unsqueeze is used to add a dimension to a tensor."
   ]
  },
  {
   "cell_type": "code",
   "execution_count": null,
   "id": "2c1372a6",
   "metadata": {},
   "outputs": [],
   "source": [
    "# Unsqueeze demo\n",
    "import torch\n",
    "\n",
    "# Unsqueeze\n",
    "x = torch.tensor([1, 2, 3, 4])\n",
    "print(x.shape)\n",
    "print(x)\n",
    "print()\n",
    "\n",
    "x = x.unsqueeze(0)\n",
    "print(x.shape)\n",
    "print(x)\n",
    "print()\n",
    "\n",
    "x = x.unsqueeze(1)\n",
    "print(x.shape)\n",
    "print(x)\n",
    "print()"
   ]
  },
  {
   "cell_type": "code",
   "execution_count": null,
   "id": "efa68f71",
   "metadata": {},
   "outputs": [],
   "source": [
    "torch.Size([4])\n",
    "tensor([1, 2, 3, 4])\n",
    "\n",
    "torch.Size([1, 4])\n",
    "tensor([[1, 2, 3, 4]])\n",
    "\n",
    "torch.Size([1, 1, 4])\n",
    "tensor([[[1, 2, 3, 4]]])\n"
   ]
  },
  {
   "cell_type": "markdown",
   "id": "809ac479",
   "metadata": {},
   "source": [
    "By default, the dimension is added at the beginning. For example, if the input tensor has shape (3, 4), the output tensor will have shape (1, 3, 4) after unsqueeze."
   ]
  },
  {
   "cell_type": "markdown",
   "id": "92157318",
   "metadata": {},
   "source": [
    "We can also specify specific dimension to be added:"
   ]
  },
  {
   "cell_type": "code",
   "execution_count": null,
   "id": "af830adc",
   "metadata": {},
   "outputs": [],
   "source": [
    "import torch\n",
    "\n",
    "# Unsqueeze\n",
    "x = torch.tensor([1, 2, 3, 4])\n",
    "print(x.shape)\n",
    "print(x)\n",
    "print()\n",
    "\n",
    "x = x.unsqueeze(0)\n",
    "print(x.shape)\n",
    "print(x)\n",
    "print()\n",
    "\n",
    "x = x.unsqueeze(2)\n",
    "print(x.shape)\n",
    "print(x)\n",
    "print()"
   ]
  },
  {
   "cell_type": "code",
   "execution_count": null,
   "id": "f5f2d05e",
   "metadata": {},
   "outputs": [],
   "source": [
    "torch.Size([4])\n",
    "tensor([1, 2, 3, 4])\n",
    "\n",
    "torch.Size([1, 4])\n",
    "tensor([[1, 2, 3, 4]])\n",
    "\n",
    "torch.Size([1, 4, 1])\n",
    "tensor([[[1],\n",
    "         [2],\n",
    "         [3],\n",
    "         [4]]])\n"
   ]
  },
  {
   "cell_type": "markdown",
   "id": "2171cb34",
   "metadata": {},
   "source": [
    "# Squeeze"
   ]
  },
  {
   "cell_type": "markdown",
   "id": "46f11564",
   "metadata": {},
   "source": [
    "Squeeze is used to remove a dimension from a tensor. It’s like squeezing a bottle of water, the bottle becomes smaller."
   ]
  },
  {
   "cell_type": "code",
   "execution_count": null,
   "id": "4a50109f",
   "metadata": {},
   "outputs": [],
   "source": [
    "# Squeeze demo\n",
    "import torch\n",
    "\n",
    "x = torch.tensor([[[1, 2, 3, 4]]])\n",
    "\n",
    "print(x.shape)\n",
    "print(x)\n",
    "print()\n",
    "\n",
    "x = x.squeeze(0)\n",
    "print(x.shape)\n",
    "print(x)\n",
    "print()"
   ]
  },
  {
   "cell_type": "code",
   "execution_count": null,
   "id": "46f31cb7",
   "metadata": {},
   "outputs": [],
   "source": [
    "torch.Size([1, 1, 4])\n",
    "tensor([[[1, 2, 3, 4]]])\n",
    "\n",
    "torch.Size([1, 4])\n",
    "tensor([[1, 2, 3, 4]])\n"
   ]
  },
  {
   "cell_type": "markdown",
   "id": "bb9ce3fe",
   "metadata": {},
   "source": [
    "If we don’t specify the dimension to be removed, squeeze will remove all the dimensions with size 1."
   ]
  },
  {
   "cell_type": "markdown",
   "id": "9bc89fe0",
   "metadata": {},
   "source": [
    "A x B x 1 x C x 1 x D will become A x B x C x D after squeeze."
   ]
  },
  {
   "cell_type": "code",
   "execution_count": null,
   "id": "a925991a",
   "metadata": {},
   "outputs": [],
   "source": [
    "import torch\n",
    "\n",
    "x = torch.tensor([[[1, 2, 3, 4]]])\n",
    "\n",
    "print(x.shape)\n",
    "print(x)\n",
    "print()\n",
    "\n",
    "x = x.squeeze()\n",
    "print(x.shape)\n",
    "print(x)\n",
    "print()"
   ]
  },
  {
   "cell_type": "code",
   "execution_count": null,
   "id": "78eb6322",
   "metadata": {},
   "outputs": [],
   "source": [
    "torch.Size([1, 1, 4])\n",
    "tensor([[[1, 2, 3, 4]]])\n",
    "\n",
    "torch.Size([4])\n",
    "tensor([1, 2, 3, 4])\n"
   ]
  },
  {
   "cell_type": "markdown",
   "id": "fd6f0817",
   "metadata": {},
   "source": [
    "If the input is of shape A x 1 x B x C x 1 x D then the out tensor will be of shape: A x B x C x D"
   ]
  },
  {
   "cell_type": "code",
   "execution_count": null,
   "id": "feadcdea",
   "metadata": {},
   "outputs": [],
   "source": [
    "import torch\n",
    "\n",
    "x = torch.ones(2, 1, 2)\n",
    "\n",
    "print(x.shape)\n",
    "print(x)\n",
    "print()\n",
    "\n",
    "x = x.squeeze(1)\n",
    "\n",
    "print(x.shape)\n",
    "print(x)\n",
    "print()"
   ]
  },
  {
   "cell_type": "code",
   "execution_count": null,
   "id": "bd24c875",
   "metadata": {},
   "outputs": [],
   "source": [
    "torch.Size([2, 1, 2])\n",
    "tensor([[[1., 1.]],\n",
    "\n",
    "        [[1., 1.]]])\n",
    "\n",
    "torch.Size([2, 2])\n",
    "tensor([[1., 1.],\n",
    "        [1., 1.]])\n"
   ]
  },
  {
   "cell_type": "markdown",
   "id": "1f352f74",
   "metadata": {},
   "source": [
    "If the specified dimension does not have size 1, the input tensor is returned unchanged."
   ]
  },
  {
   "cell_type": "code",
   "execution_count": null,
   "id": "bf4b7636",
   "metadata": {},
   "outputs": [],
   "source": [
    "import torch\n",
    "\n",
    "x = torch.ones(2, 1, 2)\n",
    "\n",
    "print(x.shape)\n",
    "print(x)\n",
    "print()\n",
    "\n",
    "x = x.squeeze(2)\n",
    "\n",
    "print(x.shape)\n",
    "print(x)\n",
    "print()"
   ]
  },
  {
   "cell_type": "code",
   "execution_count": null,
   "id": "a013b1e6",
   "metadata": {},
   "outputs": [],
   "source": [
    "torch.Size([2, 1, 2])\n",
    "tensor([[[1., 1.]],\n",
    "\n",
    "        [[1., 1.]]])\n",
    "\n",
    "torch.Size([2, 1, 2])\n",
    "tensor([[[1., 1.]],\n",
    "\n",
    "        [[1., 1.]]])\n"
   ]
  },
  {
   "cell_type": "markdown",
   "id": "d4f50ade",
   "metadata": {},
   "source": [
    "# Reshape"
   ]
  },
  {
   "cell_type": "markdown",
   "id": "743a922d",
   "metadata": {},
   "source": [
    "Reshape is used to change the shape of a tensor. It’s commonly used, so understanding it is very important."
   ]
  },
  {
   "cell_type": "code",
   "execution_count": null,
   "id": "272cd19f",
   "metadata": {},
   "outputs": [],
   "source": [
    "## Reshape demo\n",
    "import torch\n",
    "\n",
    "x = torch.tensor([[1, 2, 3, 4], [5, 6, 7, 8]])\n",
    "print(x.shape)\n",
    "print(x)\n",
    "print()\n",
    "\n",
    "x = x.reshape(4, 2)\n",
    "print(x.shape)\n",
    "print(x)\n",
    "print()"
   ]
  },
  {
   "cell_type": "code",
   "execution_count": null,
   "id": "75bf2163",
   "metadata": {},
   "outputs": [],
   "source": [
    "torch.Size([2, 4])\n",
    "tensor([[1, 2, 3, 4],\n",
    "        [5, 6, 7, 8]])\n",
    "\n",
    "torch.Size([4, 2])\n",
    "tensor([[1, 2],\n",
    "        [3, 4],\n",
    "        [5, 6],\n",
    "        [7, 8]])\n"
   ]
  },
  {
   "cell_type": "markdown",
   "id": "afd34969",
   "metadata": {},
   "source": [
    "Let’s explore more:"
   ]
  },
  {
   "cell_type": "code",
   "execution_count": null,
   "id": "9f554651",
   "metadata": {},
   "outputs": [],
   "source": [
    "import torch\n",
    "\n",
    "x = torch.tensor([[1, 2, 3, 4], [5, 6, 7, 8]])\n",
    "\n",
    "x = x.reshape(2, 2, 2)\n",
    "print(x.shape)\n",
    "print(x)\n",
    "print()\n",
    "\n",
    "x = x.reshape(2, 2, 2, 1)\n",
    "print(x.shape)\n",
    "print(x)\n",
    "print()\n",
    "\n",
    "x = x.reshape(8, 1)\n",
    "print(x.shape)\n",
    "print(x)\n",
    "print()"
   ]
  },
  {
   "cell_type": "code",
   "execution_count": null,
   "id": "9eed0eed",
   "metadata": {},
   "outputs": [],
   "source": [
    "torch.Size([2, 2, 2])\n",
    "tensor([[[1, 2],\n",
    "         [3, 4]],\n",
    "\n",
    "        [[5, 6],\n",
    "         [7, 8]]])\n",
    "\n",
    "torch.Size([2, 2, 2, 1])\n",
    "tensor([[[[1],\n",
    "          [2]],\n",
    "\n",
    "         [[3],\n",
    "          [4]]],\n",
    "\n",
    "\n",
    "        [[[5],\n",
    "          [6]],\n",
    "\n",
    "         [[7],\n",
    "          [8]]]])\n",
    "\n",
    "torch.Size([8, 1])\n",
    "tensor([[1],\n",
    "        [2],\n",
    "        [3],\n",
    "        [4],\n",
    "        [5],\n",
    "        [6],\n",
    "        [7],\n",
    "        [8]])\n"
   ]
  },
  {
   "cell_type": "markdown",
   "id": "c7872716",
   "metadata": {},
   "source": [
    "What would be the output of the following?"
   ]
  },
  {
   "cell_type": "code",
   "execution_count": null,
   "id": "ad1d1632",
   "metadata": {},
   "outputs": [],
   "source": [
    "import torch\n",
    "\n",
    "x = torch.tensor([[1, 2, 3, 4], [5, 6, 7, 8]])\n",
    "x = x.reshape(1, 8)\n",
    "print(x.shape)\n",
    "print(x)\n",
    "print()"
   ]
  },
  {
   "cell_type": "markdown",
   "id": "462485ec",
   "metadata": {},
   "source": [
    "How about this:"
   ]
  },
  {
   "cell_type": "code",
   "execution_count": null,
   "id": "7fe8162b",
   "metadata": {},
   "outputs": [],
   "source": [
    "import torch\n",
    "\n",
    "x = torch.tensor([[1, 2, 3, 4], [5, 6, 7, 8]])\n",
    "x = x.reshape(4)\n",
    "print(x.shape)\n",
    "print(x)\n",
    "print()"
   ]
  },
  {
   "cell_type": "code",
   "execution_count": null,
   "id": "d350442f",
   "metadata": {},
   "outputs": [],
   "source": [
    "---------------------------------------------------------------------------\n",
    "RuntimeError                              Traceback (most recent call last)\n",
    "Cell In[26], line 4\n",
    "      1 import torch\n",
    "      3 x = torch.tensor([[1, 2, 3, 4], [5, 6, 7, 8]])\n",
    "----> 4 x = x.reshape(4)\n",
    "      5 print(x.shape)\n",
    "      6 print(x)\n",
    "\n",
    "RuntimeError: shape '[4]' is invalid for input of size 8"
   ]
  },
  {
   "cell_type": "markdown",
   "id": "f53521b3",
   "metadata": {},
   "source": [
    "# Flatten"
   ]
  },
  {
   "cell_type": "markdown",
   "id": "a7ce96aa",
   "metadata": {},
   "source": [
    "Flatten is used to flatten a tensor."
   ]
  },
  {
   "cell_type": "code",
   "execution_count": null,
   "id": "827b7c80",
   "metadata": {},
   "outputs": [],
   "source": [
    "# Flatten demo\n",
    "\n",
    "import torch\n",
    "\n",
    "x = torch.tensor([[1, 2, 3, 4], [5, 6, 7, 8]])\n",
    "x = x.flatten()\n",
    "print(x.shape)\n",
    "print(x)\n",
    "print()"
   ]
  },
  {
   "cell_type": "code",
   "execution_count": null,
   "id": "1c7b21e2",
   "metadata": {},
   "outputs": [],
   "source": [
    "torch.Size([8])\n",
    "tensor([1, 2, 3, 4, 5, 6, 7, 8])\n"
   ]
  },
  {
   "cell_type": "markdown",
   "id": "9c9fe8bc",
   "metadata": {},
   "source": [
    "Flatten will always convert a tensor into a 1D array. The dimension of the output tensor is 1."
   ]
  },
  {
   "cell_type": "code",
   "execution_count": null,
   "id": "534a414c",
   "metadata": {},
   "outputs": [],
   "source": [
    "# Multi-dimension tensor\n",
    "\n",
    "import torch\n",
    "x = torch.ones(2, 2, 2, 2)\n",
    "print(x.shape)\n",
    "print(x)\n",
    "print()\n",
    "\n",
    "x = x.flatten()\n",
    "print(x.shape)\n",
    "print(x)\n",
    "print()"
   ]
  },
  {
   "cell_type": "code",
   "execution_count": null,
   "id": "985c5e82",
   "metadata": {},
   "outputs": [],
   "source": [
    "torch.Size([2, 2, 2, 2])\n",
    "tensor([[[[1., 1.],\n",
    "          [1., 1.]],\n",
    "\n",
    "         [[1., 1.],\n",
    "          [1., 1.]]],\n",
    "\n",
    "\n",
    "        [[[1., 1.],\n",
    "          [1., 1.]],\n",
    "\n",
    "         [[1., 1.],\n",
    "          [1., 1.]]]])\n",
    "\n",
    "torch.Size([16])\n",
    "tensor([1., 1., 1., 1., 1., 1., 1., 1., 1., 1., 1., 1., 1., 1., 1., 1.])\n"
   ]
  },
  {
   "cell_type": "markdown",
   "id": "1baadf40",
   "metadata": {},
   "source": [
    "# Permute"
   ]
  },
  {
   "cell_type": "markdown",
   "id": "1a6ea4f2",
   "metadata": {},
   "source": [
    "Permute is used to change the order of the dimensions of a tensor."
   ]
  },
  {
   "cell_type": "markdown",
   "id": "be87507e",
   "metadata": {},
   "source": [
    "The parameter is the new order of the dimensions"
   ]
  },
  {
   "cell_type": "markdown",
   "id": "47f3e148",
   "metadata": {},
   "source": [
    "So, if we have a tensor of shape (A, B, C, D), the output tensor will have shape (D, C, B, A) given parameter (3, 2, 1, 0)."
   ]
  },
  {
   "cell_type": "code",
   "execution_count": null,
   "id": "0f556c60",
   "metadata": {},
   "outputs": [],
   "source": [
    "# Permute demo\n",
    "\n",
    "import torch\n",
    "\n",
    "x = torch.ones(2, 3, 4)\n",
    "print(x.shape)\n",
    "print(x)\n",
    "print()\n",
    "\n",
    "x = x.permute(2, 0, 1)\n",
    "print(x.shape)\n",
    "print(x)\n",
    "print()"
   ]
  },
  {
   "cell_type": "code",
   "execution_count": null,
   "id": "b32bac84",
   "metadata": {},
   "outputs": [],
   "source": [
    "torch.Size([2, 3, 4])\n",
    "tensor([[[1., 1., 1., 1.],\n",
    "         [1., 1., 1., 1.],\n",
    "         [1., 1., 1., 1.]],\n",
    "\n",
    "        [[1., 1., 1., 1.],\n",
    "         [1., 1., 1., 1.],\n",
    "         [1., 1., 1., 1.]]])\n",
    "\n",
    "torch.Size([4, 2, 3])\n",
    "tensor([[[1., 1., 1.],\n",
    "         [1., 1., 1.]],\n",
    "\n",
    "        [[1., 1., 1.],\n",
    "         [1., 1., 1.]],\n",
    "\n",
    "        [[1., 1., 1.],\n",
    "         [1., 1., 1.]],\n",
    "\n",
    "        [[1., 1., 1.],\n",
    "         [1., 1., 1.]]])\n"
   ]
  }
 ],
 "metadata": {},
 "nbformat": 4,
 "nbformat_minor": 5
}
