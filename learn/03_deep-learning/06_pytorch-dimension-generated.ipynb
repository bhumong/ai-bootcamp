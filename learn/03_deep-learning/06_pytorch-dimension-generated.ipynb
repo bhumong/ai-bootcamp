{
 "cells": [
  {
   "cell_type": "markdown",
   "id": "209e12e6",
   "metadata": {},
   "source": [
    "source: [https://ai-bootcamp.ruangguru.com/learn/03_deep-learning/06_pytorch-dimension.html](https://ai-bootcamp.ruangguru.com/learn/03_deep-learning/06_pytorch-dimension.html)"
   ]
  },
  {
   "cell_type": "markdown",
   "id": "222b0484",
   "metadata": {},
   "source": [
    "# Pytorch Dimension Modification"
   ]
  },
  {
   "cell_type": "markdown",
   "id": "d833630d",
   "metadata": {},
   "source": [
    "One of the common mistakes in Pytorch is wrong dimension. To avoid this, we need to know how to modify the dimension of the tensor to fit the requirement of the model."
   ]
  },
  {
   "cell_type": "markdown",
   "id": "a0104a66",
   "metadata": {},
   "source": [
    "# Unsqueeze"
   ]
  },
  {
   "cell_type": "markdown",
   "id": "76b34c5f",
   "metadata": {},
   "source": [
    "Unsqueeze is used to add a dimension to a tensor."
   ]
  },
  {
   "cell_type": "code",
   "execution_count": null,
   "id": "8ea06383",
   "metadata": {},
   "outputs": [],
   "source": [
    "# Unsqueeze demo\n",
    "import torch\n",
    "\n",
    "# Unsqueeze\n",
    "x = torch.tensor([1, 2, 3, 4])\n",
    "print(x.shape)\n",
    "print(x)\n",
    "print()\n",
    "\n",
    "x = x.unsqueeze(0)\n",
    "print(x.shape)\n",
    "print(x)\n",
    "print()\n",
    "\n",
    "x = x.unsqueeze(1)\n",
    "print(x.shape)\n",
    "print(x)\n",
    "print()"
   ]
  },
  {
   "cell_type": "code",
   "execution_count": null,
   "id": "a7162a2f",
   "metadata": {},
   "outputs": [],
   "source": [
    "torch.Size([4])\n",
    "tensor([1, 2, 3, 4])\n",
    "\n",
    "torch.Size([1, 4])\n",
    "tensor([[1, 2, 3, 4]])\n",
    "\n",
    "torch.Size([1, 1, 4])\n",
    "tensor([[[1, 2, 3, 4]]])\n"
   ]
  },
  {
   "cell_type": "markdown",
   "id": "b4c9d09b",
   "metadata": {},
   "source": [
    "By default, the dimension is added at the beginning. For example, if the input tensor has shape (3, 4), the output tensor will have shape (1, 3, 4) after unsqueeze."
   ]
  },
  {
   "cell_type": "markdown",
   "id": "47ebebd0",
   "metadata": {},
   "source": [
    "We can also specify specific dimension to be added:"
   ]
  },
  {
   "cell_type": "code",
   "execution_count": null,
   "id": "62f596f1",
   "metadata": {},
   "outputs": [],
   "source": [
    "import torch\n",
    "\n",
    "# Unsqueeze\n",
    "x = torch.tensor([1, 2, 3, 4])\n",
    "print(x.shape)\n",
    "print(x)\n",
    "print()\n",
    "\n",
    "x = x.unsqueeze(0)\n",
    "print(x.shape)\n",
    "print(x)\n",
    "print()\n",
    "\n",
    "x = x.unsqueeze(2)\n",
    "print(x.shape)\n",
    "print(x)\n",
    "print()"
   ]
  },
  {
   "cell_type": "code",
   "execution_count": null,
   "id": "4edeffaa",
   "metadata": {},
   "outputs": [],
   "source": [
    "torch.Size([4])\n",
    "tensor([1, 2, 3, 4])\n",
    "\n",
    "torch.Size([1, 4])\n",
    "tensor([[1, 2, 3, 4]])\n",
    "\n",
    "torch.Size([1, 4, 1])\n",
    "tensor([[[1],\n",
    "         [2],\n",
    "         [3],\n",
    "         [4]]])\n"
   ]
  },
  {
   "cell_type": "markdown",
   "id": "33ebdc9e",
   "metadata": {},
   "source": [
    "# Squeeze"
   ]
  },
  {
   "cell_type": "markdown",
   "id": "311ea63f",
   "metadata": {},
   "source": [
    "Squeeze is used to remove a dimension from a tensor. It’s like squeezing a bottle of water, the bottle becomes smaller."
   ]
  },
  {
   "cell_type": "code",
   "execution_count": null,
   "id": "eb318d88",
   "metadata": {},
   "outputs": [],
   "source": [
    "# Squeeze demo\n",
    "import torch\n",
    "\n",
    "x = torch.tensor([[[1, 2, 3, 4]]])\n",
    "\n",
    "print(x.shape)\n",
    "print(x)\n",
    "print()\n",
    "\n",
    "x = x.squeeze(0)\n",
    "print(x.shape)\n",
    "print(x)\n",
    "print()"
   ]
  },
  {
   "cell_type": "code",
   "execution_count": null,
   "id": "4bebe76a",
   "metadata": {},
   "outputs": [],
   "source": [
    "torch.Size([1, 1, 4])\n",
    "tensor([[[1, 2, 3, 4]]])\n",
    "\n",
    "torch.Size([1, 4])\n",
    "tensor([[1, 2, 3, 4]])\n"
   ]
  },
  {
   "cell_type": "markdown",
   "id": "7f2b189e",
   "metadata": {},
   "source": [
    "If we don’t specify the dimension to be removed, squeeze will remove all the dimensions with size 1."
   ]
  },
  {
   "cell_type": "markdown",
   "id": "55f660b8",
   "metadata": {},
   "source": [
    "A x B x 1 x C x 1 x D will become A x B x C x D after squeeze."
   ]
  },
  {
   "cell_type": "code",
   "execution_count": null,
   "id": "1be2c0de",
   "metadata": {},
   "outputs": [],
   "source": [
    "import torch\n",
    "\n",
    "x = torch.tensor([[[1, 2, 3, 4]]])\n",
    "\n",
    "print(x.shape)\n",
    "print(x)\n",
    "print()\n",
    "\n",
    "x = x.squeeze()\n",
    "print(x.shape)\n",
    "print(x)\n",
    "print()"
   ]
  },
  {
   "cell_type": "code",
   "execution_count": null,
   "id": "f87834b8",
   "metadata": {},
   "outputs": [],
   "source": [
    "torch.Size([1, 1, 4])\n",
    "tensor([[[1, 2, 3, 4]]])\n",
    "\n",
    "torch.Size([4])\n",
    "tensor([1, 2, 3, 4])\n"
   ]
  },
  {
   "cell_type": "markdown",
   "id": "08a15742",
   "metadata": {},
   "source": [
    "If the input is of shape A x 1 x B x C x 1 x D then the out tensor will be of shape: A x B x C x D"
   ]
  },
  {
   "cell_type": "code",
   "execution_count": null,
   "id": "f8673b1c",
   "metadata": {},
   "outputs": [],
   "source": [
    "import torch\n",
    "\n",
    "x = torch.ones(2, 1, 2)\n",
    "\n",
    "print(x.shape)\n",
    "print(x)\n",
    "print()\n",
    "\n",
    "x = x.squeeze(1)\n",
    "\n",
    "print(x.shape)\n",
    "print(x)\n",
    "print()"
   ]
  },
  {
   "cell_type": "code",
   "execution_count": null,
   "id": "580edce6",
   "metadata": {},
   "outputs": [],
   "source": [
    "torch.Size([2, 1, 2])\n",
    "tensor([[[1., 1.]],\n",
    "\n",
    "        [[1., 1.]]])\n",
    "\n",
    "torch.Size([2, 2])\n",
    "tensor([[1., 1.],\n",
    "        [1., 1.]])\n"
   ]
  },
  {
   "cell_type": "markdown",
   "id": "bdd0a0c8",
   "metadata": {},
   "source": [
    "If the specified dimension does not have size 1, the input tensor is returned unchanged."
   ]
  },
  {
   "cell_type": "code",
   "execution_count": null,
   "id": "9e79ba55",
   "metadata": {},
   "outputs": [],
   "source": [
    "import torch\n",
    "\n",
    "x = torch.ones(2, 1, 2)\n",
    "\n",
    "print(x.shape)\n",
    "print(x)\n",
    "print()\n",
    "\n",
    "x = x.squeeze(2)\n",
    "\n",
    "print(x.shape)\n",
    "print(x)\n",
    "print()"
   ]
  },
  {
   "cell_type": "code",
   "execution_count": null,
   "id": "90aca6e0",
   "metadata": {},
   "outputs": [],
   "source": [
    "torch.Size([2, 1, 2])\n",
    "tensor([[[1., 1.]],\n",
    "\n",
    "        [[1., 1.]]])\n",
    "\n",
    "torch.Size([2, 1, 2])\n",
    "tensor([[[1., 1.]],\n",
    "\n",
    "        [[1., 1.]]])\n"
   ]
  },
  {
   "cell_type": "markdown",
   "id": "f2b998a3",
   "metadata": {},
   "source": [
    "# Reshape"
   ]
  },
  {
   "cell_type": "markdown",
   "id": "01b26618",
   "metadata": {},
   "source": [
    "Reshape is used to change the shape of a tensor. It’s commonly used, so understanding it is very important."
   ]
  },
  {
   "cell_type": "code",
   "execution_count": null,
   "id": "1f90e060",
   "metadata": {},
   "outputs": [],
   "source": [
    "## Reshape demo\n",
    "import torch\n",
    "\n",
    "x = torch.tensor([[1, 2, 3, 4], [5, 6, 7, 8]])\n",
    "print(x.shape)\n",
    "print(x)\n",
    "print()\n",
    "\n",
    "x = x.reshape(4, 2)\n",
    "print(x.shape)\n",
    "print(x)\n",
    "print()"
   ]
  },
  {
   "cell_type": "code",
   "execution_count": null,
   "id": "d5eb4f80",
   "metadata": {},
   "outputs": [],
   "source": [
    "torch.Size([2, 4])\n",
    "tensor([[1, 2, 3, 4],\n",
    "        [5, 6, 7, 8]])\n",
    "\n",
    "torch.Size([4, 2])\n",
    "tensor([[1, 2],\n",
    "        [3, 4],\n",
    "        [5, 6],\n",
    "        [7, 8]])\n"
   ]
  },
  {
   "cell_type": "markdown",
   "id": "b7222c9e",
   "metadata": {},
   "source": [
    "Let’s explore more:"
   ]
  },
  {
   "cell_type": "code",
   "execution_count": null,
   "id": "5b62673d",
   "metadata": {},
   "outputs": [],
   "source": [
    "import torch\n",
    "\n",
    "x = torch.tensor([[1, 2, 3, 4], [5, 6, 7, 8]])\n",
    "\n",
    "x = x.reshape(2, 2, 2)\n",
    "print(x.shape)\n",
    "print(x)\n",
    "print()\n",
    "\n",
    "x = x.reshape(2, 2, 2, 1)\n",
    "print(x.shape)\n",
    "print(x)\n",
    "print()\n",
    "\n",
    "x = x.reshape(8, 1)\n",
    "print(x.shape)\n",
    "print(x)\n",
    "print()"
   ]
  },
  {
   "cell_type": "code",
   "execution_count": null,
   "id": "8e847044",
   "metadata": {},
   "outputs": [],
   "source": [
    "torch.Size([2, 2, 2])\n",
    "tensor([[[1, 2],\n",
    "         [3, 4]],\n",
    "\n",
    "        [[5, 6],\n",
    "         [7, 8]]])\n",
    "\n",
    "torch.Size([2, 2, 2, 1])\n",
    "tensor([[[[1],\n",
    "          [2]],\n",
    "\n",
    "         [[3],\n",
    "          [4]]],\n",
    "\n",
    "\n",
    "        [[[5],\n",
    "          [6]],\n",
    "\n",
    "         [[7],\n",
    "          [8]]]])\n",
    "\n",
    "torch.Size([8, 1])\n",
    "tensor([[1],\n",
    "        [2],\n",
    "        [3],\n",
    "        [4],\n",
    "        [5],\n",
    "        [6],\n",
    "        [7],\n",
    "        [8]])\n"
   ]
  },
  {
   "cell_type": "markdown",
   "id": "279b7810",
   "metadata": {},
   "source": [
    "What would be the output of the following?"
   ]
  },
  {
   "cell_type": "code",
   "execution_count": null,
   "id": "ffdca23b",
   "metadata": {},
   "outputs": [],
   "source": [
    "import torch\n",
    "\n",
    "x = torch.tensor([[1, 2, 3, 4], [5, 6, 7, 8]])\n",
    "x = x.reshape(1, 8)\n",
    "print(x.shape)\n",
    "print(x)\n",
    "print()"
   ]
  },
  {
   "cell_type": "markdown",
   "id": "311b6c52",
   "metadata": {},
   "source": [
    "How about this:"
   ]
  },
  {
   "cell_type": "code",
   "execution_count": null,
   "id": "c1dd3201",
   "metadata": {},
   "outputs": [],
   "source": [
    "import torch\n",
    "\n",
    "x = torch.tensor([[1, 2, 3, 4], [5, 6, 7, 8]])\n",
    "x = x.reshape(4)\n",
    "print(x.shape)\n",
    "print(x)\n",
    "print()"
   ]
  },
  {
   "cell_type": "code",
   "execution_count": null,
   "id": "d6eb90ba",
   "metadata": {},
   "outputs": [],
   "source": [
    "---------------------------------------------------------------------------\n",
    "RuntimeError                              Traceback (most recent call last)\n",
    "Cell In[26], line 4\n",
    "      1 import torch\n",
    "      3 x = torch.tensor([[1, 2, 3, 4], [5, 6, 7, 8]])\n",
    "----> 4 x = x.reshape(4)\n",
    "      5 print(x.shape)\n",
    "      6 print(x)\n",
    "\n",
    "RuntimeError: shape '[4]' is invalid for input of size 8"
   ]
  },
  {
   "cell_type": "markdown",
   "id": "bce2b931",
   "metadata": {},
   "source": [
    "# Flatten"
   ]
  },
  {
   "cell_type": "markdown",
   "id": "95c99773",
   "metadata": {},
   "source": [
    "Flatten is used to flatten a tensor."
   ]
  },
  {
   "cell_type": "code",
   "execution_count": null,
   "id": "206b0a0d",
   "metadata": {},
   "outputs": [],
   "source": [
    "# Flatten demo\n",
    "\n",
    "import torch\n",
    "\n",
    "x = torch.tensor([[1, 2, 3, 4], [5, 6, 7, 8]])\n",
    "x = x.flatten()\n",
    "print(x.shape)\n",
    "print(x)\n",
    "print()"
   ]
  },
  {
   "cell_type": "code",
   "execution_count": null,
   "id": "38ab2429",
   "metadata": {},
   "outputs": [],
   "source": [
    "torch.Size([8])\n",
    "tensor([1, 2, 3, 4, 5, 6, 7, 8])\n"
   ]
  },
  {
   "cell_type": "markdown",
   "id": "5a4594a0",
   "metadata": {},
   "source": [
    "Flatten will always convert a tensor into a 1D array. The dimension of the output tensor is 1."
   ]
  },
  {
   "cell_type": "code",
   "execution_count": null,
   "id": "13bbc445",
   "metadata": {},
   "outputs": [],
   "source": [
    "# Multi-dimension tensor\n",
    "\n",
    "import torch\n",
    "x = torch.ones(2, 2, 2, 2)\n",
    "print(x.shape)\n",
    "print(x)\n",
    "print()\n",
    "\n",
    "x = x.flatten()\n",
    "print(x.shape)\n",
    "print(x)\n",
    "print()"
   ]
  },
  {
   "cell_type": "code",
   "execution_count": null,
   "id": "93ac90ef",
   "metadata": {},
   "outputs": [],
   "source": [
    "torch.Size([2, 2, 2, 2])\n",
    "tensor([[[[1., 1.],\n",
    "          [1., 1.]],\n",
    "\n",
    "         [[1., 1.],\n",
    "          [1., 1.]]],\n",
    "\n",
    "\n",
    "        [[[1., 1.],\n",
    "          [1., 1.]],\n",
    "\n",
    "         [[1., 1.],\n",
    "          [1., 1.]]]])\n",
    "\n",
    "torch.Size([16])\n",
    "tensor([1., 1., 1., 1., 1., 1., 1., 1., 1., 1., 1., 1., 1., 1., 1., 1.])\n"
   ]
  },
  {
   "cell_type": "markdown",
   "id": "11d958e8",
   "metadata": {},
   "source": [
    "# Permute"
   ]
  },
  {
   "cell_type": "markdown",
   "id": "1e5e14df",
   "metadata": {},
   "source": [
    "Permute is used to change the order of the dimensions of a tensor."
   ]
  },
  {
   "cell_type": "markdown",
   "id": "a8e7711b",
   "metadata": {},
   "source": [
    "The parameter is the new order of the dimensions"
   ]
  },
  {
   "cell_type": "markdown",
   "id": "9fc9659b",
   "metadata": {},
   "source": [
    "So, if we have a tensor of shape (A, B, C, D), the output tensor will have shape (D, C, B, A) given parameter (3, 2, 1, 0)."
   ]
  },
  {
   "cell_type": "code",
   "execution_count": null,
   "id": "088e49c2",
   "metadata": {},
   "outputs": [],
   "source": [
    "# Permute demo\n",
    "\n",
    "import torch\n",
    "\n",
    "x = torch.ones(2, 3, 4)\n",
    "print(x.shape)\n",
    "print(x)\n",
    "print()\n",
    "\n",
    "x = x.permute(2, 0, 1)\n",
    "print(x.shape)\n",
    "print(x)\n",
    "print()"
   ]
  },
  {
   "cell_type": "code",
   "execution_count": null,
   "id": "e550aa3d",
   "metadata": {},
   "outputs": [],
   "source": [
    "torch.Size([2, 3, 4])\n",
    "tensor([[[1., 1., 1., 1.],\n",
    "         [1., 1., 1., 1.],\n",
    "         [1., 1., 1., 1.]],\n",
    "\n",
    "        [[1., 1., 1., 1.],\n",
    "         [1., 1., 1., 1.],\n",
    "         [1., 1., 1., 1.]]])\n",
    "\n",
    "torch.Size([4, 2, 3])\n",
    "tensor([[[1., 1., 1.],\n",
    "         [1., 1., 1.]],\n",
    "\n",
    "        [[1., 1., 1.],\n",
    "         [1., 1., 1.]],\n",
    "\n",
    "        [[1., 1., 1.],\n",
    "         [1., 1., 1.]],\n",
    "\n",
    "        [[1., 1., 1.],\n",
    "         [1., 1., 1.]]])\n"
   ]
  }
 ],
 "metadata": {},
 "nbformat": 4,
 "nbformat_minor": 5
}
