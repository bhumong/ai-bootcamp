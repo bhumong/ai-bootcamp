{
 "cells": [
  {
   "cell_type": "markdown",
   "id": "d664e4da",
   "metadata": {},
   "source": [
    "source: [link](https://ai-bootcamp.ruangguru.com/learn/03_deep-learning/06_pytorch-dimension.html)"
   ]
  },
  {
   "cell_type": "markdown",
   "id": "b83643e6",
   "metadata": {},
   "source": [
    "# Pytorch Dimension Modification"
   ]
  },
  {
   "cell_type": "markdown",
   "id": "0bda8dfe",
   "metadata": {},
   "source": [
    "One of the common mistakes in Pytorch is wrong dimension. To avoid this, we need to know how to modify the dimension of the tensor to fit the requirement of the model."
   ]
  },
  {
   "cell_type": "markdown",
   "id": "bdd6a1b2",
   "metadata": {},
   "source": [
    "# Unsqueeze"
   ]
  },
  {
   "cell_type": "markdown",
   "id": "db0c6c3c",
   "metadata": {},
   "source": [
    "Unsqueeze is used to add a dimension to a tensor."
   ]
  },
  {
   "cell_type": "code",
   "execution_count": null,
   "id": "0c9d0c94",
   "metadata": {},
   "outputs": [],
   "source": [
    "# Unsqueeze demo\n",
    "import torch\n",
    "\n",
    "# Unsqueeze\n",
    "x = torch.tensor([1, 2, 3, 4])\n",
    "print(x.shape)\n",
    "print(x)\n",
    "print()\n",
    "\n",
    "x = x.unsqueeze(0)\n",
    "print(x.shape)\n",
    "print(x)\n",
    "print()\n",
    "\n",
    "x = x.unsqueeze(1)\n",
    "print(x.shape)\n",
    "print(x)\n",
    "print()"
   ]
  },
  {
   "cell_type": "code",
   "execution_count": null,
   "id": "5a5700b9",
   "metadata": {},
   "outputs": [],
   "source": [
    "torch.Size([4])\n",
    "tensor([1, 2, 3, 4])\n",
    "\n",
    "torch.Size([1, 4])\n",
    "tensor([[1, 2, 3, 4]])\n",
    "\n",
    "torch.Size([1, 1, 4])\n",
    "tensor([[[1, 2, 3, 4]]])\n"
   ]
  },
  {
   "cell_type": "markdown",
   "id": "b5f9547b",
   "metadata": {},
   "source": [
    "By default, the dimension is added at the beginning. For example, if the input tensor has shape (3, 4), the output tensor will have shape (1, 3, 4) after unsqueeze."
   ]
  },
  {
   "cell_type": "markdown",
   "id": "6e8fe14f",
   "metadata": {},
   "source": [
    "We can also specify specific dimension to be added:"
   ]
  },
  {
   "cell_type": "code",
   "execution_count": null,
   "id": "2e291a50",
   "metadata": {},
   "outputs": [],
   "source": [
    "import torch\n",
    "\n",
    "# Unsqueeze\n",
    "x = torch.tensor([1, 2, 3, 4])\n",
    "print(x.shape)\n",
    "print(x)\n",
    "print()\n",
    "\n",
    "x = x.unsqueeze(0)\n",
    "print(x.shape)\n",
    "print(x)\n",
    "print()\n",
    "\n",
    "x = x.unsqueeze(2)\n",
    "print(x.shape)\n",
    "print(x)\n",
    "print()"
   ]
  },
  {
   "cell_type": "code",
   "execution_count": null,
   "id": "55d8c388",
   "metadata": {},
   "outputs": [],
   "source": [
    "torch.Size([4])\n",
    "tensor([1, 2, 3, 4])\n",
    "\n",
    "torch.Size([1, 4])\n",
    "tensor([[1, 2, 3, 4]])\n",
    "\n",
    "torch.Size([1, 4, 1])\n",
    "tensor([[[1],\n",
    "         [2],\n",
    "         [3],\n",
    "         [4]]])\n"
   ]
  },
  {
   "cell_type": "markdown",
   "id": "8ffb09ce",
   "metadata": {},
   "source": [
    "# Squeeze"
   ]
  },
  {
   "cell_type": "markdown",
   "id": "2e0f438a",
   "metadata": {},
   "source": [
    "Squeeze is used to remove a dimension from a tensor. It’s like squeezing a bottle of water, the bottle becomes smaller."
   ]
  },
  {
   "cell_type": "code",
   "execution_count": null,
   "id": "e4557f6b",
   "metadata": {},
   "outputs": [],
   "source": [
    "# Squeeze demo\n",
    "import torch\n",
    "\n",
    "x = torch.tensor([[[1, 2, 3, 4]]])\n",
    "\n",
    "print(x.shape)\n",
    "print(x)\n",
    "print()\n",
    "\n",
    "x = x.squeeze(0)\n",
    "print(x.shape)\n",
    "print(x)\n",
    "print()"
   ]
  },
  {
   "cell_type": "code",
   "execution_count": null,
   "id": "983b7157",
   "metadata": {},
   "outputs": [],
   "source": [
    "torch.Size([1, 1, 4])\n",
    "tensor([[[1, 2, 3, 4]]])\n",
    "\n",
    "torch.Size([1, 4])\n",
    "tensor([[1, 2, 3, 4]])\n"
   ]
  },
  {
   "cell_type": "markdown",
   "id": "680a531e",
   "metadata": {},
   "source": [
    "If we don’t specify the dimension to be removed, squeeze will remove all the dimensions with size 1."
   ]
  },
  {
   "cell_type": "markdown",
   "id": "4f8fa634",
   "metadata": {},
   "source": [
    "A x B x 1 x C x 1 x D will become A x B x C x D after squeeze."
   ]
  },
  {
   "cell_type": "code",
   "execution_count": null,
   "id": "d723b99a",
   "metadata": {},
   "outputs": [],
   "source": [
    "import torch\n",
    "\n",
    "x = torch.tensor([[[1, 2, 3, 4]]])\n",
    "\n",
    "print(x.shape)\n",
    "print(x)\n",
    "print()\n",
    "\n",
    "x = x.squeeze()\n",
    "print(x.shape)\n",
    "print(x)\n",
    "print()"
   ]
  },
  {
   "cell_type": "code",
   "execution_count": null,
   "id": "56cc547f",
   "metadata": {},
   "outputs": [],
   "source": [
    "torch.Size([1, 1, 4])\n",
    "tensor([[[1, 2, 3, 4]]])\n",
    "\n",
    "torch.Size([4])\n",
    "tensor([1, 2, 3, 4])\n"
   ]
  },
  {
   "cell_type": "markdown",
   "id": "57ae46c7",
   "metadata": {},
   "source": [
    "If the input is of shape A x 1 x B x C x 1 x D then the out tensor will be of shape: A x B x C x D"
   ]
  },
  {
   "cell_type": "code",
   "execution_count": null,
   "id": "4312ec9d",
   "metadata": {},
   "outputs": [],
   "source": [
    "import torch\n",
    "\n",
    "x = torch.ones(2, 1, 2)\n",
    "\n",
    "print(x.shape)\n",
    "print(x)\n",
    "print()\n",
    "\n",
    "x = x.squeeze(1)\n",
    "\n",
    "print(x.shape)\n",
    "print(x)\n",
    "print()"
   ]
  },
  {
   "cell_type": "code",
   "execution_count": null,
   "id": "c623ffcb",
   "metadata": {},
   "outputs": [],
   "source": [
    "torch.Size([2, 1, 2])\n",
    "tensor([[[1., 1.]],\n",
    "\n",
    "        [[1., 1.]]])\n",
    "\n",
    "torch.Size([2, 2])\n",
    "tensor([[1., 1.],\n",
    "        [1., 1.]])\n"
   ]
  },
  {
   "cell_type": "markdown",
   "id": "a977404a",
   "metadata": {},
   "source": [
    "If the specified dimension does not have size 1, the input tensor is returned unchanged."
   ]
  },
  {
   "cell_type": "code",
   "execution_count": null,
   "id": "eaf750d7",
   "metadata": {},
   "outputs": [],
   "source": [
    "import torch\n",
    "\n",
    "x = torch.ones(2, 1, 2)\n",
    "\n",
    "print(x.shape)\n",
    "print(x)\n",
    "print()\n",
    "\n",
    "x = x.squeeze(2)\n",
    "\n",
    "print(x.shape)\n",
    "print(x)\n",
    "print()"
   ]
  },
  {
   "cell_type": "code",
   "execution_count": null,
   "id": "cc4ef454",
   "metadata": {},
   "outputs": [],
   "source": [
    "torch.Size([2, 1, 2])\n",
    "tensor([[[1., 1.]],\n",
    "\n",
    "        [[1., 1.]]])\n",
    "\n",
    "torch.Size([2, 1, 2])\n",
    "tensor([[[1., 1.]],\n",
    "\n",
    "        [[1., 1.]]])\n"
   ]
  },
  {
   "cell_type": "markdown",
   "id": "27833c50",
   "metadata": {},
   "source": [
    "# Reshape"
   ]
  },
  {
   "cell_type": "markdown",
   "id": "62e34fa1",
   "metadata": {},
   "source": [
    "Reshape is used to change the shape of a tensor. It’s commonly used, so understanding it is very important."
   ]
  },
  {
   "cell_type": "code",
   "execution_count": null,
   "id": "097e9f14",
   "metadata": {},
   "outputs": [],
   "source": [
    "## Reshape demo\n",
    "import torch\n",
    "\n",
    "x = torch.tensor([[1, 2, 3, 4], [5, 6, 7, 8]])\n",
    "print(x.shape)\n",
    "print(x)\n",
    "print()\n",
    "\n",
    "x = x.reshape(4, 2)\n",
    "print(x.shape)\n",
    "print(x)\n",
    "print()"
   ]
  },
  {
   "cell_type": "code",
   "execution_count": null,
   "id": "4e945c2b",
   "metadata": {},
   "outputs": [],
   "source": [
    "torch.Size([2, 4])\n",
    "tensor([[1, 2, 3, 4],\n",
    "        [5, 6, 7, 8]])\n",
    "\n",
    "torch.Size([4, 2])\n",
    "tensor([[1, 2],\n",
    "        [3, 4],\n",
    "        [5, 6],\n",
    "        [7, 8]])\n"
   ]
  },
  {
   "cell_type": "markdown",
   "id": "077b85fa",
   "metadata": {},
   "source": [
    "Let’s explore more:"
   ]
  },
  {
   "cell_type": "code",
   "execution_count": null,
   "id": "779577a2",
   "metadata": {},
   "outputs": [],
   "source": [
    "import torch\n",
    "\n",
    "x = torch.tensor([[1, 2, 3, 4], [5, 6, 7, 8]])\n",
    "\n",
    "x = x.reshape(2, 2, 2)\n",
    "print(x.shape)\n",
    "print(x)\n",
    "print()\n",
    "\n",
    "x = x.reshape(2, 2, 2, 1)\n",
    "print(x.shape)\n",
    "print(x)\n",
    "print()\n",
    "\n",
    "x = x.reshape(8, 1)\n",
    "print(x.shape)\n",
    "print(x)\n",
    "print()"
   ]
  },
  {
   "cell_type": "code",
   "execution_count": null,
   "id": "51f42bca",
   "metadata": {},
   "outputs": [],
   "source": [
    "torch.Size([2, 2, 2])\n",
    "tensor([[[1, 2],\n",
    "         [3, 4]],\n",
    "\n",
    "        [[5, 6],\n",
    "         [7, 8]]])\n",
    "\n",
    "torch.Size([2, 2, 2, 1])\n",
    "tensor([[[[1],\n",
    "          [2]],\n",
    "\n",
    "         [[3],\n",
    "          [4]]],\n",
    "\n",
    "\n",
    "        [[[5],\n",
    "          [6]],\n",
    "\n",
    "         [[7],\n",
    "          [8]]]])\n",
    "\n",
    "torch.Size([8, 1])\n",
    "tensor([[1],\n",
    "        [2],\n",
    "        [3],\n",
    "        [4],\n",
    "        [5],\n",
    "        [6],\n",
    "        [7],\n",
    "        [8]])\n"
   ]
  },
  {
   "cell_type": "markdown",
   "id": "ba70b309",
   "metadata": {},
   "source": [
    "What would be the output of the following?"
   ]
  },
  {
   "cell_type": "code",
   "execution_count": null,
   "id": "cde13f0a",
   "metadata": {},
   "outputs": [],
   "source": [
    "import torch\n",
    "\n",
    "x = torch.tensor([[1, 2, 3, 4], [5, 6, 7, 8]])\n",
    "x = x.reshape(1, 8)\n",
    "print(x.shape)\n",
    "print(x)\n",
    "print()"
   ]
  },
  {
   "cell_type": "markdown",
   "id": "6af6d96a",
   "metadata": {},
   "source": [
    "How about this:"
   ]
  },
  {
   "cell_type": "code",
   "execution_count": null,
   "id": "4b293367",
   "metadata": {},
   "outputs": [],
   "source": [
    "import torch\n",
    "\n",
    "x = torch.tensor([[1, 2, 3, 4], [5, 6, 7, 8]])\n",
    "x = x.reshape(4)\n",
    "print(x.shape)\n",
    "print(x)\n",
    "print()"
   ]
  },
  {
   "cell_type": "code",
   "execution_count": null,
   "id": "fa191178",
   "metadata": {},
   "outputs": [],
   "source": [
    "---------------------------------------------------------------------------\n",
    "RuntimeError                              Traceback (most recent call last)\n",
    "Cell In[26], line 4\n",
    "      1 import torch\n",
    "      3 x = torch.tensor([[1, 2, 3, 4], [5, 6, 7, 8]])\n",
    "----> 4 x = x.reshape(4)\n",
    "      5 print(x.shape)\n",
    "      6 print(x)\n",
    "\n",
    "RuntimeError: shape '[4]' is invalid for input of size 8"
   ]
  },
  {
   "cell_type": "markdown",
   "id": "30a18182",
   "metadata": {},
   "source": [
    "# Flatten"
   ]
  },
  {
   "cell_type": "markdown",
   "id": "2539ca29",
   "metadata": {},
   "source": [
    "Flatten is used to flatten a tensor."
   ]
  },
  {
   "cell_type": "code",
   "execution_count": null,
   "id": "f73d93e5",
   "metadata": {},
   "outputs": [],
   "source": [
    "# Flatten demo\n",
    "\n",
    "import torch\n",
    "\n",
    "x = torch.tensor([[1, 2, 3, 4], [5, 6, 7, 8]])\n",
    "x = x.flatten()\n",
    "print(x.shape)\n",
    "print(x)\n",
    "print()"
   ]
  },
  {
   "cell_type": "code",
   "execution_count": null,
   "id": "f0c002c8",
   "metadata": {},
   "outputs": [],
   "source": [
    "torch.Size([8])\n",
    "tensor([1, 2, 3, 4, 5, 6, 7, 8])\n"
   ]
  },
  {
   "cell_type": "markdown",
   "id": "ffd0f5be",
   "metadata": {},
   "source": [
    "Flatten will always convert a tensor into a 1D array. The dimension of the output tensor is 1."
   ]
  },
  {
   "cell_type": "code",
   "execution_count": null,
   "id": "cf253237",
   "metadata": {},
   "outputs": [],
   "source": [
    "# Multi-dimension tensor\n",
    "\n",
    "import torch\n",
    "x = torch.ones(2, 2, 2, 2)\n",
    "print(x.shape)\n",
    "print(x)\n",
    "print()\n",
    "\n",
    "x = x.flatten()\n",
    "print(x.shape)\n",
    "print(x)\n",
    "print()"
   ]
  },
  {
   "cell_type": "code",
   "execution_count": null,
   "id": "88f9d349",
   "metadata": {},
   "outputs": [],
   "source": [
    "torch.Size([2, 2, 2, 2])\n",
    "tensor([[[[1., 1.],\n",
    "          [1., 1.]],\n",
    "\n",
    "         [[1., 1.],\n",
    "          [1., 1.]]],\n",
    "\n",
    "\n",
    "        [[[1., 1.],\n",
    "          [1., 1.]],\n",
    "\n",
    "         [[1., 1.],\n",
    "          [1., 1.]]]])\n",
    "\n",
    "torch.Size([16])\n",
    "tensor([1., 1., 1., 1., 1., 1., 1., 1., 1., 1., 1., 1., 1., 1., 1., 1.])\n"
   ]
  },
  {
   "cell_type": "markdown",
   "id": "48f8f2ff",
   "metadata": {},
   "source": [
    "# Permute"
   ]
  },
  {
   "cell_type": "markdown",
   "id": "51e428db",
   "metadata": {},
   "source": [
    "Permute is used to change the order of the dimensions of a tensor."
   ]
  },
  {
   "cell_type": "markdown",
   "id": "f8929e01",
   "metadata": {},
   "source": [
    "The parameter is the new order of the dimensions"
   ]
  },
  {
   "cell_type": "markdown",
   "id": "02d7b8b5",
   "metadata": {},
   "source": [
    "So, if we have a tensor of shape (A, B, C, D), the output tensor will have shape (D, C, B, A) given parameter (3, 2, 1, 0)."
   ]
  },
  {
   "cell_type": "code",
   "execution_count": null,
   "id": "7196c0cd",
   "metadata": {},
   "outputs": [],
   "source": [
    "# Permute demo\n",
    "\n",
    "import torch\n",
    "\n",
    "x = torch.ones(2, 3, 4)\n",
    "print(x.shape)\n",
    "print(x)\n",
    "print()\n",
    "\n",
    "x = x.permute(2, 0, 1)\n",
    "print(x.shape)\n",
    "print(x)\n",
    "print()"
   ]
  },
  {
   "cell_type": "code",
   "execution_count": null,
   "id": "efde8b5b",
   "metadata": {},
   "outputs": [],
   "source": [
    "torch.Size([2, 3, 4])\n",
    "tensor([[[1., 1., 1., 1.],\n",
    "         [1., 1., 1., 1.],\n",
    "         [1., 1., 1., 1.]],\n",
    "\n",
    "        [[1., 1., 1., 1.],\n",
    "         [1., 1., 1., 1.],\n",
    "         [1., 1., 1., 1.]]])\n",
    "\n",
    "torch.Size([4, 2, 3])\n",
    "tensor([[[1., 1., 1.],\n",
    "         [1., 1., 1.]],\n",
    "\n",
    "        [[1., 1., 1.],\n",
    "         [1., 1., 1.]],\n",
    "\n",
    "        [[1., 1., 1.],\n",
    "         [1., 1., 1.]],\n",
    "\n",
    "        [[1., 1., 1.],\n",
    "         [1., 1., 1.]]])\n"
   ]
  }
 ],
 "metadata": {},
 "nbformat": 4,
 "nbformat_minor": 5
}
