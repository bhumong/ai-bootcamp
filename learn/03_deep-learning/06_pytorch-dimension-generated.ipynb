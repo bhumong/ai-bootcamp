{
 "cells": [
  {
   "cell_type": "markdown",
   "id": "5d0fde0a",
   "metadata": {},
   "source": [
    "source: [link](https://ai-bootcamp.ruangguru.com/learn/03_deep-learning/06_pytorch-dimension.html)"
   ]
  },
  {
   "cell_type": "markdown",
   "id": "f255bd67",
   "metadata": {},
   "source": [
    "# Pytorch Dimension Modification"
   ]
  },
  {
   "cell_type": "markdown",
   "id": "84720855",
   "metadata": {},
   "source": [
    "One of the common mistakes in Pytorch is wrong dimension. To avoid this, we need to know how to modify the dimension of the tensor to fit the requirement of the model."
   ]
  },
  {
   "cell_type": "markdown",
   "id": "968f126b",
   "metadata": {},
   "source": [
    "# Unsqueeze"
   ]
  },
  {
   "cell_type": "markdown",
   "id": "0010bca1",
   "metadata": {},
   "source": [
    "Unsqueeze is used to add a dimension to a tensor."
   ]
  },
  {
   "cell_type": "code",
   "execution_count": null,
   "id": "6e6e51a3",
   "metadata": {},
   "outputs": [],
   "source": [
    "# Unsqueeze demo\n",
    "import torch\n",
    "\n",
    "# Unsqueeze\n",
    "x = torch.tensor([1, 2, 3, 4])\n",
    "print(x.shape)\n",
    "print(x)\n",
    "print()\n",
    "\n",
    "x = x.unsqueeze(0)\n",
    "print(x.shape)\n",
    "print(x)\n",
    "print()\n",
    "\n",
    "x = x.unsqueeze(1)\n",
    "print(x.shape)\n",
    "print(x)\n",
    "print()"
   ]
  },
  {
   "cell_type": "code",
   "execution_count": null,
   "id": "94b19fa2",
   "metadata": {},
   "outputs": [],
   "source": [
    "torch.Size([4])\n",
    "tensor([1, 2, 3, 4])\n",
    "\n",
    "torch.Size([1, 4])\n",
    "tensor([[1, 2, 3, 4]])\n",
    "\n",
    "torch.Size([1, 1, 4])\n",
    "tensor([[[1, 2, 3, 4]]])\n"
   ]
  },
  {
   "cell_type": "markdown",
   "id": "8bb7743e",
   "metadata": {},
   "source": [
    "By default, the dimension is added at the beginning. For example, if the input tensor has shape (3, 4), the output tensor will have shape (1, 3, 4) after unsqueeze."
   ]
  },
  {
   "cell_type": "markdown",
   "id": "a527d3c0",
   "metadata": {},
   "source": [
    "We can also specify specific dimension to be added:"
   ]
  },
  {
   "cell_type": "code",
   "execution_count": null,
   "id": "996c6805",
   "metadata": {},
   "outputs": [],
   "source": [
    "import torch\n",
    "\n",
    "# Unsqueeze\n",
    "x = torch.tensor([1, 2, 3, 4])\n",
    "print(x.shape)\n",
    "print(x)\n",
    "print()\n",
    "\n",
    "x = x.unsqueeze(0)\n",
    "print(x.shape)\n",
    "print(x)\n",
    "print()\n",
    "\n",
    "x = x.unsqueeze(2)\n",
    "print(x.shape)\n",
    "print(x)\n",
    "print()"
   ]
  },
  {
   "cell_type": "code",
   "execution_count": null,
   "id": "729bae04",
   "metadata": {},
   "outputs": [],
   "source": [
    "torch.Size([4])\n",
    "tensor([1, 2, 3, 4])\n",
    "\n",
    "torch.Size([1, 4])\n",
    "tensor([[1, 2, 3, 4]])\n",
    "\n",
    "torch.Size([1, 4, 1])\n",
    "tensor([[[1],\n",
    "         [2],\n",
    "         [3],\n",
    "         [4]]])\n"
   ]
  },
  {
   "cell_type": "markdown",
   "id": "9bef7f07",
   "metadata": {},
   "source": [
    "# Squeeze"
   ]
  },
  {
   "cell_type": "markdown",
   "id": "24db07d1",
   "metadata": {},
   "source": [
    "Squeeze is used to remove a dimension from a tensor. It’s like squeezing a bottle of water, the bottle becomes smaller."
   ]
  },
  {
   "cell_type": "code",
   "execution_count": null,
   "id": "2f81ce71",
   "metadata": {},
   "outputs": [],
   "source": [
    "# Squeeze demo\n",
    "import torch\n",
    "\n",
    "x = torch.tensor([[[1, 2, 3, 4]]])\n",
    "\n",
    "print(x.shape)\n",
    "print(x)\n",
    "print()\n",
    "\n",
    "x = x.squeeze(0)\n",
    "print(x.shape)\n",
    "print(x)\n",
    "print()"
   ]
  },
  {
   "cell_type": "code",
   "execution_count": null,
   "id": "faef470e",
   "metadata": {},
   "outputs": [],
   "source": [
    "torch.Size([1, 1, 4])\n",
    "tensor([[[1, 2, 3, 4]]])\n",
    "\n",
    "torch.Size([1, 4])\n",
    "tensor([[1, 2, 3, 4]])\n"
   ]
  },
  {
   "cell_type": "markdown",
   "id": "a45a1b8c",
   "metadata": {},
   "source": [
    "If we don’t specify the dimension to be removed, squeeze will remove all the dimensions with size 1."
   ]
  },
  {
   "cell_type": "markdown",
   "id": "b281cd42",
   "metadata": {},
   "source": [
    "A x B x 1 x C x 1 x D will become A x B x C x D after squeeze."
   ]
  },
  {
   "cell_type": "code",
   "execution_count": null,
   "id": "28fd51b0",
   "metadata": {},
   "outputs": [],
   "source": [
    "import torch\n",
    "\n",
    "x = torch.tensor([[[1, 2, 3, 4]]])\n",
    "\n",
    "print(x.shape)\n",
    "print(x)\n",
    "print()\n",
    "\n",
    "x = x.squeeze()\n",
    "print(x.shape)\n",
    "print(x)\n",
    "print()"
   ]
  },
  {
   "cell_type": "code",
   "execution_count": null,
   "id": "41c79de5",
   "metadata": {},
   "outputs": [],
   "source": [
    "torch.Size([1, 1, 4])\n",
    "tensor([[[1, 2, 3, 4]]])\n",
    "\n",
    "torch.Size([4])\n",
    "tensor([1, 2, 3, 4])\n"
   ]
  },
  {
   "cell_type": "markdown",
   "id": "112785de",
   "metadata": {},
   "source": [
    "If the input is of shape A x 1 x B x C x 1 x D then the out tensor will be of shape: A x B x C x D"
   ]
  },
  {
   "cell_type": "code",
   "execution_count": null,
   "id": "25114c4e",
   "metadata": {},
   "outputs": [],
   "source": [
    "import torch\n",
    "\n",
    "x = torch.ones(2, 1, 2)\n",
    "\n",
    "print(x.shape)\n",
    "print(x)\n",
    "print()\n",
    "\n",
    "x = x.squeeze(1)\n",
    "\n",
    "print(x.shape)\n",
    "print(x)\n",
    "print()"
   ]
  },
  {
   "cell_type": "code",
   "execution_count": null,
   "id": "e707b96d",
   "metadata": {},
   "outputs": [],
   "source": [
    "torch.Size([2, 1, 2])\n",
    "tensor([[[1., 1.]],\n",
    "\n",
    "        [[1., 1.]]])\n",
    "\n",
    "torch.Size([2, 2])\n",
    "tensor([[1., 1.],\n",
    "        [1., 1.]])\n"
   ]
  },
  {
   "cell_type": "markdown",
   "id": "6e7e38e6",
   "metadata": {},
   "source": [
    "If the specified dimension does not have size 1, the input tensor is returned unchanged."
   ]
  },
  {
   "cell_type": "code",
   "execution_count": null,
   "id": "15d75bd4",
   "metadata": {},
   "outputs": [],
   "source": [
    "import torch\n",
    "\n",
    "x = torch.ones(2, 1, 2)\n",
    "\n",
    "print(x.shape)\n",
    "print(x)\n",
    "print()\n",
    "\n",
    "x = x.squeeze(2)\n",
    "\n",
    "print(x.shape)\n",
    "print(x)\n",
    "print()"
   ]
  },
  {
   "cell_type": "code",
   "execution_count": null,
   "id": "5e4d64bf",
   "metadata": {},
   "outputs": [],
   "source": [
    "torch.Size([2, 1, 2])\n",
    "tensor([[[1., 1.]],\n",
    "\n",
    "        [[1., 1.]]])\n",
    "\n",
    "torch.Size([2, 1, 2])\n",
    "tensor([[[1., 1.]],\n",
    "\n",
    "        [[1., 1.]]])\n"
   ]
  },
  {
   "cell_type": "markdown",
   "id": "4b980a9e",
   "metadata": {},
   "source": [
    "# Reshape"
   ]
  },
  {
   "cell_type": "markdown",
   "id": "f341c7aa",
   "metadata": {},
   "source": [
    "Reshape is used to change the shape of a tensor. It’s commonly used, so understanding it is very important."
   ]
  },
  {
   "cell_type": "code",
   "execution_count": null,
   "id": "459e829c",
   "metadata": {},
   "outputs": [],
   "source": [
    "## Reshape demo\n",
    "import torch\n",
    "\n",
    "x = torch.tensor([[1, 2, 3, 4], [5, 6, 7, 8]])\n",
    "print(x.shape)\n",
    "print(x)\n",
    "print()\n",
    "\n",
    "x = x.reshape(4, 2)\n",
    "print(x.shape)\n",
    "print(x)\n",
    "print()"
   ]
  },
  {
   "cell_type": "code",
   "execution_count": null,
   "id": "6f6eb842",
   "metadata": {},
   "outputs": [],
   "source": [
    "torch.Size([2, 4])\n",
    "tensor([[1, 2, 3, 4],\n",
    "        [5, 6, 7, 8]])\n",
    "\n",
    "torch.Size([4, 2])\n",
    "tensor([[1, 2],\n",
    "        [3, 4],\n",
    "        [5, 6],\n",
    "        [7, 8]])\n"
   ]
  },
  {
   "cell_type": "markdown",
   "id": "c0e88cf1",
   "metadata": {},
   "source": [
    "Let’s explore more:"
   ]
  },
  {
   "cell_type": "code",
   "execution_count": null,
   "id": "3e1d4a67",
   "metadata": {},
   "outputs": [],
   "source": [
    "import torch\n",
    "\n",
    "x = torch.tensor([[1, 2, 3, 4], [5, 6, 7, 8]])\n",
    "\n",
    "x = x.reshape(2, 2, 2)\n",
    "print(x.shape)\n",
    "print(x)\n",
    "print()\n",
    "\n",
    "x = x.reshape(2, 2, 2, 1)\n",
    "print(x.shape)\n",
    "print(x)\n",
    "print()\n",
    "\n",
    "x = x.reshape(8, 1)\n",
    "print(x.shape)\n",
    "print(x)\n",
    "print()"
   ]
  },
  {
   "cell_type": "code",
   "execution_count": null,
   "id": "29cb1626",
   "metadata": {},
   "outputs": [],
   "source": [
    "torch.Size([2, 2, 2])\n",
    "tensor([[[1, 2],\n",
    "         [3, 4]],\n",
    "\n",
    "        [[5, 6],\n",
    "         [7, 8]]])\n",
    "\n",
    "torch.Size([2, 2, 2, 1])\n",
    "tensor([[[[1],\n",
    "          [2]],\n",
    "\n",
    "         [[3],\n",
    "          [4]]],\n",
    "\n",
    "\n",
    "        [[[5],\n",
    "          [6]],\n",
    "\n",
    "         [[7],\n",
    "          [8]]]])\n",
    "\n",
    "torch.Size([8, 1])\n",
    "tensor([[1],\n",
    "        [2],\n",
    "        [3],\n",
    "        [4],\n",
    "        [5],\n",
    "        [6],\n",
    "        [7],\n",
    "        [8]])\n"
   ]
  },
  {
   "cell_type": "markdown",
   "id": "b9f41f19",
   "metadata": {},
   "source": [
    "What would be the output of the following?"
   ]
  },
  {
   "cell_type": "code",
   "execution_count": null,
   "id": "7b2a5342",
   "metadata": {},
   "outputs": [],
   "source": [
    "import torch\n",
    "\n",
    "x = torch.tensor([[1, 2, 3, 4], [5, 6, 7, 8]])\n",
    "x = x.reshape(1, 8)\n",
    "print(x.shape)\n",
    "print(x)\n",
    "print()"
   ]
  },
  {
   "cell_type": "markdown",
   "id": "e8a542bd",
   "metadata": {},
   "source": [
    "How about this:"
   ]
  },
  {
   "cell_type": "code",
   "execution_count": null,
   "id": "a1a1cd8a",
   "metadata": {},
   "outputs": [],
   "source": [
    "import torch\n",
    "\n",
    "x = torch.tensor([[1, 2, 3, 4], [5, 6, 7, 8]])\n",
    "x = x.reshape(4)\n",
    "print(x.shape)\n",
    "print(x)\n",
    "print()"
   ]
  },
  {
   "cell_type": "code",
   "execution_count": null,
   "id": "7cf29617",
   "metadata": {},
   "outputs": [],
   "source": [
    "---------------------------------------------------------------------------\n",
    "RuntimeError                              Traceback (most recent call last)\n",
    "Cell In[26], line 4\n",
    "      1 import torch\n",
    "      3 x = torch.tensor([[1, 2, 3, 4], [5, 6, 7, 8]])\n",
    "----> 4 x = x.reshape(4)\n",
    "      5 print(x.shape)\n",
    "      6 print(x)\n",
    "\n",
    "RuntimeError: shape '[4]' is invalid for input of size 8"
   ]
  },
  {
   "cell_type": "markdown",
   "id": "f6834ec8",
   "metadata": {},
   "source": [
    "# Flatten"
   ]
  },
  {
   "cell_type": "markdown",
   "id": "1d348bcf",
   "metadata": {},
   "source": [
    "Flatten is used to flatten a tensor."
   ]
  },
  {
   "cell_type": "code",
   "execution_count": null,
   "id": "e68964fd",
   "metadata": {},
   "outputs": [],
   "source": [
    "# Flatten demo\n",
    "\n",
    "import torch\n",
    "\n",
    "x = torch.tensor([[1, 2, 3, 4], [5, 6, 7, 8]])\n",
    "x = x.flatten()\n",
    "print(x.shape)\n",
    "print(x)\n",
    "print()"
   ]
  },
  {
   "cell_type": "code",
   "execution_count": null,
   "id": "07f43127",
   "metadata": {},
   "outputs": [],
   "source": [
    "torch.Size([8])\n",
    "tensor([1, 2, 3, 4, 5, 6, 7, 8])\n"
   ]
  },
  {
   "cell_type": "markdown",
   "id": "def71aab",
   "metadata": {},
   "source": [
    "Flatten will always convert a tensor into a 1D array. The dimension of the output tensor is 1."
   ]
  },
  {
   "cell_type": "code",
   "execution_count": null,
   "id": "c91b1a45",
   "metadata": {},
   "outputs": [],
   "source": [
    "# Multi-dimension tensor\n",
    "\n",
    "import torch\n",
    "x = torch.ones(2, 2, 2, 2)\n",
    "print(x.shape)\n",
    "print(x)\n",
    "print()\n",
    "\n",
    "x = x.flatten()\n",
    "print(x.shape)\n",
    "print(x)\n",
    "print()"
   ]
  },
  {
   "cell_type": "code",
   "execution_count": null,
   "id": "975df069",
   "metadata": {},
   "outputs": [],
   "source": [
    "torch.Size([2, 2, 2, 2])\n",
    "tensor([[[[1., 1.],\n",
    "          [1., 1.]],\n",
    "\n",
    "         [[1., 1.],\n",
    "          [1., 1.]]],\n",
    "\n",
    "\n",
    "        [[[1., 1.],\n",
    "          [1., 1.]],\n",
    "\n",
    "         [[1., 1.],\n",
    "          [1., 1.]]]])\n",
    "\n",
    "torch.Size([16])\n",
    "tensor([1., 1., 1., 1., 1., 1., 1., 1., 1., 1., 1., 1., 1., 1., 1., 1.])\n"
   ]
  },
  {
   "cell_type": "markdown",
   "id": "589277fe",
   "metadata": {},
   "source": [
    "# Permute"
   ]
  },
  {
   "cell_type": "markdown",
   "id": "3d84d5dd",
   "metadata": {},
   "source": [
    "Permute is used to change the order of the dimensions of a tensor."
   ]
  },
  {
   "cell_type": "markdown",
   "id": "5cd825ce",
   "metadata": {},
   "source": [
    "The parameter is the new order of the dimensions"
   ]
  },
  {
   "cell_type": "markdown",
   "id": "63f26b0a",
   "metadata": {},
   "source": [
    "So, if we have a tensor of shape (A, B, C, D), the output tensor will have shape (D, C, B, A) given parameter (3, 2, 1, 0)."
   ]
  },
  {
   "cell_type": "code",
   "execution_count": null,
   "id": "64832407",
   "metadata": {},
   "outputs": [],
   "source": [
    "# Permute demo\n",
    "\n",
    "import torch\n",
    "\n",
    "x = torch.ones(2, 3, 4)\n",
    "print(x.shape)\n",
    "print(x)\n",
    "print()\n",
    "\n",
    "x = x.permute(2, 0, 1)\n",
    "print(x.shape)\n",
    "print(x)\n",
    "print()"
   ]
  },
  {
   "cell_type": "code",
   "execution_count": null,
   "id": "b4f877e9",
   "metadata": {},
   "outputs": [],
   "source": [
    "torch.Size([2, 3, 4])\n",
    "tensor([[[1., 1., 1., 1.],\n",
    "         [1., 1., 1., 1.],\n",
    "         [1., 1., 1., 1.]],\n",
    "\n",
    "        [[1., 1., 1., 1.],\n",
    "         [1., 1., 1., 1.],\n",
    "         [1., 1., 1., 1.]]])\n",
    "\n",
    "torch.Size([4, 2, 3])\n",
    "tensor([[[1., 1., 1.],\n",
    "         [1., 1., 1.]],\n",
    "\n",
    "        [[1., 1., 1.],\n",
    "         [1., 1., 1.]],\n",
    "\n",
    "        [[1., 1., 1.],\n",
    "         [1., 1., 1.]],\n",
    "\n",
    "        [[1., 1., 1.],\n",
    "         [1., 1., 1.]]])\n"
   ]
  }
 ],
 "metadata": {},
 "nbformat": 4,
 "nbformat_minor": 5
}
