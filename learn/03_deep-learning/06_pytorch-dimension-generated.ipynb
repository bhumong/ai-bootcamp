{
 "cells": [
  {
   "cell_type": "markdown",
   "id": "876f68c4",
   "metadata": {},
   "source": [
    "# Pytorch Dimension Modification"
   ]
  },
  {
   "cell_type": "markdown",
   "id": "0f76ad78",
   "metadata": {},
   "source": [
    "One of the common mistakes in Pytorch is wrong dimension. To avoid this, we need to know how to modify the dimension of the tensor to fit the requirement of the model."
   ]
  },
  {
   "cell_type": "markdown",
   "id": "46c3643b",
   "metadata": {},
   "source": [
    "# Unsqueeze"
   ]
  },
  {
   "cell_type": "markdown",
   "id": "df50421e",
   "metadata": {},
   "source": [
    "Unsqueeze is used to add a dimension to a tensor."
   ]
  },
  {
   "cell_type": "code",
   "execution_count": null,
   "id": "69870b86",
   "metadata": {},
   "outputs": [],
   "source": [
    "# Unsqueeze demo\n",
    "import torch\n",
    "\n",
    "# Unsqueeze\n",
    "x = torch.tensor([1, 2, 3, 4])\n",
    "print(x.shape)\n",
    "print(x)\n",
    "print()\n",
    "\n",
    "x = x.unsqueeze(0)\n",
    "print(x.shape)\n",
    "print(x)\n",
    "print()\n",
    "\n",
    "x = x.unsqueeze(1)\n",
    "print(x.shape)\n",
    "print(x)\n",
    "print()"
   ]
  },
  {
   "cell_type": "code",
   "execution_count": null,
   "id": "8571e35b",
   "metadata": {},
   "outputs": [],
   "source": [
    "torch.Size([4])\n",
    "tensor([1, 2, 3, 4])\n",
    "\n",
    "torch.Size([1, 4])\n",
    "tensor([[1, 2, 3, 4]])\n",
    "\n",
    "torch.Size([1, 1, 4])\n",
    "tensor([[[1, 2, 3, 4]]])\n"
   ]
  },
  {
   "cell_type": "markdown",
   "id": "fa04023c",
   "metadata": {},
   "source": [
    "By default, the dimension is added at the beginning. For example, if the input tensor has shape (3, 4), the output tensor will have shape (1, 3, 4) after unsqueeze."
   ]
  },
  {
   "cell_type": "markdown",
   "id": "4a74cd31",
   "metadata": {},
   "source": [
    "We can also specify specific dimension to be added:"
   ]
  },
  {
   "cell_type": "code",
   "execution_count": null,
   "id": "9ee1536d",
   "metadata": {},
   "outputs": [],
   "source": [
    "import torch\n",
    "\n",
    "# Unsqueeze\n",
    "x = torch.tensor([1, 2, 3, 4])\n",
    "print(x.shape)\n",
    "print(x)\n",
    "print()\n",
    "\n",
    "x = x.unsqueeze(0)\n",
    "print(x.shape)\n",
    "print(x)\n",
    "print()\n",
    "\n",
    "x = x.unsqueeze(2)\n",
    "print(x.shape)\n",
    "print(x)\n",
    "print()"
   ]
  },
  {
   "cell_type": "code",
   "execution_count": null,
   "id": "9e3b7e34",
   "metadata": {},
   "outputs": [],
   "source": [
    "torch.Size([4])\n",
    "tensor([1, 2, 3, 4])\n",
    "\n",
    "torch.Size([1, 4])\n",
    "tensor([[1, 2, 3, 4]])\n",
    "\n",
    "torch.Size([1, 4, 1])\n",
    "tensor([[[1],\n",
    "         [2],\n",
    "         [3],\n",
    "         [4]]])\n"
   ]
  },
  {
   "cell_type": "markdown",
   "id": "36e302c0",
   "metadata": {},
   "source": [
    "# Squeeze"
   ]
  },
  {
   "cell_type": "markdown",
   "id": "d14b778c",
   "metadata": {},
   "source": [
    "Squeeze is used to remove a dimension from a tensor. It’s like squeezing a bottle of water, the bottle becomes smaller."
   ]
  },
  {
   "cell_type": "code",
   "execution_count": null,
   "id": "4e76fb2b",
   "metadata": {},
   "outputs": [],
   "source": [
    "# Squeeze demo\n",
    "import torch\n",
    "\n",
    "x = torch.tensor([[[1, 2, 3, 4]]])\n",
    "\n",
    "print(x.shape)\n",
    "print(x)\n",
    "print()\n",
    "\n",
    "x = x.squeeze(0)\n",
    "print(x.shape)\n",
    "print(x)\n",
    "print()"
   ]
  },
  {
   "cell_type": "code",
   "execution_count": null,
   "id": "b65ff2b4",
   "metadata": {},
   "outputs": [],
   "source": [
    "torch.Size([1, 1, 4])\n",
    "tensor([[[1, 2, 3, 4]]])\n",
    "\n",
    "torch.Size([1, 4])\n",
    "tensor([[1, 2, 3, 4]])\n"
   ]
  },
  {
   "cell_type": "markdown",
   "id": "3a77e066",
   "metadata": {},
   "source": [
    "If we don’t specify the dimension to be removed, squeeze will remove all the dimensions with size 1."
   ]
  },
  {
   "cell_type": "markdown",
   "id": "8dd7109a",
   "metadata": {},
   "source": [
    "A x B x 1 x C x 1 x D will become A x B x C x D after squeeze."
   ]
  },
  {
   "cell_type": "code",
   "execution_count": null,
   "id": "f08482a5",
   "metadata": {},
   "outputs": [],
   "source": [
    "import torch\n",
    "\n",
    "x = torch.tensor([[[1, 2, 3, 4]]])\n",
    "\n",
    "print(x.shape)\n",
    "print(x)\n",
    "print()\n",
    "\n",
    "x = x.squeeze()\n",
    "print(x.shape)\n",
    "print(x)\n",
    "print()"
   ]
  },
  {
   "cell_type": "code",
   "execution_count": null,
   "id": "0c7c3de1",
   "metadata": {},
   "outputs": [],
   "source": [
    "torch.Size([1, 1, 4])\n",
    "tensor([[[1, 2, 3, 4]]])\n",
    "\n",
    "torch.Size([4])\n",
    "tensor([1, 2, 3, 4])\n"
   ]
  },
  {
   "cell_type": "markdown",
   "id": "d6f1476a",
   "metadata": {},
   "source": [
    "If the input is of shape A x 1 x B x C x 1 x D then the out tensor will be of shape: A x B x C x D"
   ]
  },
  {
   "cell_type": "code",
   "execution_count": null,
   "id": "590d2402",
   "metadata": {},
   "outputs": [],
   "source": [
    "import torch\n",
    "\n",
    "x = torch.ones(2, 1, 2)\n",
    "\n",
    "print(x.shape)\n",
    "print(x)\n",
    "print()\n",
    "\n",
    "x = x.squeeze(1)\n",
    "\n",
    "print(x.shape)\n",
    "print(x)\n",
    "print()"
   ]
  },
  {
   "cell_type": "code",
   "execution_count": null,
   "id": "28498745",
   "metadata": {},
   "outputs": [],
   "source": [
    "torch.Size([2, 1, 2])\n",
    "tensor([[[1., 1.]],\n",
    "\n",
    "        [[1., 1.]]])\n",
    "\n",
    "torch.Size([2, 2])\n",
    "tensor([[1., 1.],\n",
    "        [1., 1.]])\n"
   ]
  },
  {
   "cell_type": "markdown",
   "id": "9fe55c1b",
   "metadata": {},
   "source": [
    "If the specified dimension does not have size 1, the input tensor is returned unchanged."
   ]
  },
  {
   "cell_type": "code",
   "execution_count": null,
   "id": "a4b3b688",
   "metadata": {},
   "outputs": [],
   "source": [
    "import torch\n",
    "\n",
    "x = torch.ones(2, 1, 2)\n",
    "\n",
    "print(x.shape)\n",
    "print(x)\n",
    "print()\n",
    "\n",
    "x = x.squeeze(2)\n",
    "\n",
    "print(x.shape)\n",
    "print(x)\n",
    "print()"
   ]
  },
  {
   "cell_type": "code",
   "execution_count": null,
   "id": "ab7beba4",
   "metadata": {},
   "outputs": [],
   "source": [
    "torch.Size([2, 1, 2])\n",
    "tensor([[[1., 1.]],\n",
    "\n",
    "        [[1., 1.]]])\n",
    "\n",
    "torch.Size([2, 1, 2])\n",
    "tensor([[[1., 1.]],\n",
    "\n",
    "        [[1., 1.]]])\n"
   ]
  },
  {
   "cell_type": "markdown",
   "id": "b1471b57",
   "metadata": {},
   "source": [
    "# Reshape"
   ]
  },
  {
   "cell_type": "markdown",
   "id": "a84bb8a5",
   "metadata": {},
   "source": [
    "Reshape is used to change the shape of a tensor. It’s commonly used, so understanding it is very important."
   ]
  },
  {
   "cell_type": "code",
   "execution_count": null,
   "id": "8dcc227d",
   "metadata": {},
   "outputs": [],
   "source": [
    "## Reshape demo\n",
    "import torch\n",
    "\n",
    "x = torch.tensor([[1, 2, 3, 4], [5, 6, 7, 8]])\n",
    "print(x.shape)\n",
    "print(x)\n",
    "print()\n",
    "\n",
    "x = x.reshape(4, 2)\n",
    "print(x.shape)\n",
    "print(x)\n",
    "print()"
   ]
  },
  {
   "cell_type": "code",
   "execution_count": null,
   "id": "42ac8699",
   "metadata": {},
   "outputs": [],
   "source": [
    "torch.Size([2, 4])\n",
    "tensor([[1, 2, 3, 4],\n",
    "        [5, 6, 7, 8]])\n",
    "\n",
    "torch.Size([4, 2])\n",
    "tensor([[1, 2],\n",
    "        [3, 4],\n",
    "        [5, 6],\n",
    "        [7, 8]])\n"
   ]
  },
  {
   "cell_type": "markdown",
   "id": "19f57fb1",
   "metadata": {},
   "source": [
    "Let’s explore more:"
   ]
  },
  {
   "cell_type": "code",
   "execution_count": null,
   "id": "337df513",
   "metadata": {},
   "outputs": [],
   "source": [
    "import torch\n",
    "\n",
    "x = torch.tensor([[1, 2, 3, 4], [5, 6, 7, 8]])\n",
    "\n",
    "x = x.reshape(2, 2, 2)\n",
    "print(x.shape)\n",
    "print(x)\n",
    "print()\n",
    "\n",
    "x = x.reshape(2, 2, 2, 1)\n",
    "print(x.shape)\n",
    "print(x)\n",
    "print()\n",
    "\n",
    "x = x.reshape(8, 1)\n",
    "print(x.shape)\n",
    "print(x)\n",
    "print()"
   ]
  },
  {
   "cell_type": "code",
   "execution_count": null,
   "id": "5561f3a7",
   "metadata": {},
   "outputs": [],
   "source": [
    "torch.Size([2, 2, 2])\n",
    "tensor([[[1, 2],\n",
    "         [3, 4]],\n",
    "\n",
    "        [[5, 6],\n",
    "         [7, 8]]])\n",
    "\n",
    "torch.Size([2, 2, 2, 1])\n",
    "tensor([[[[1],\n",
    "          [2]],\n",
    "\n",
    "         [[3],\n",
    "          [4]]],\n",
    "\n",
    "\n",
    "        [[[5],\n",
    "          [6]],\n",
    "\n",
    "         [[7],\n",
    "          [8]]]])\n",
    "\n",
    "torch.Size([8, 1])\n",
    "tensor([[1],\n",
    "        [2],\n",
    "        [3],\n",
    "        [4],\n",
    "        [5],\n",
    "        [6],\n",
    "        [7],\n",
    "        [8]])\n"
   ]
  },
  {
   "cell_type": "markdown",
   "id": "31cf66fd",
   "metadata": {},
   "source": [
    "What would be the output of the following?"
   ]
  },
  {
   "cell_type": "code",
   "execution_count": null,
   "id": "b9922885",
   "metadata": {},
   "outputs": [],
   "source": [
    "import torch\n",
    "\n",
    "x = torch.tensor([[1, 2, 3, 4], [5, 6, 7, 8]])\n",
    "x = x.reshape(1, 8)\n",
    "print(x.shape)\n",
    "print(x)\n",
    "print()"
   ]
  },
  {
   "cell_type": "markdown",
   "id": "bd07f468",
   "metadata": {},
   "source": [
    "How about this:"
   ]
  },
  {
   "cell_type": "code",
   "execution_count": null,
   "id": "a1fa3d76",
   "metadata": {},
   "outputs": [],
   "source": [
    "import torch\n",
    "\n",
    "x = torch.tensor([[1, 2, 3, 4], [5, 6, 7, 8]])\n",
    "x = x.reshape(4)\n",
    "print(x.shape)\n",
    "print(x)\n",
    "print()"
   ]
  },
  {
   "cell_type": "code",
   "execution_count": null,
   "id": "ce865980",
   "metadata": {},
   "outputs": [],
   "source": [
    "---------------------------------------------------------------------------\n",
    "RuntimeError                              Traceback (most recent call last)\n",
    "Cell In[26], line 4\n",
    "      1 import torch\n",
    "      3 x = torch.tensor([[1, 2, 3, 4], [5, 6, 7, 8]])\n",
    "----> 4 x = x.reshape(4)\n",
    "      5 print(x.shape)\n",
    "      6 print(x)\n",
    "\n",
    "RuntimeError: shape '[4]' is invalid for input of size 8"
   ]
  },
  {
   "cell_type": "markdown",
   "id": "3681e0eb",
   "metadata": {},
   "source": [
    "# Flatten"
   ]
  },
  {
   "cell_type": "markdown",
   "id": "4b1e10d6",
   "metadata": {},
   "source": [
    "Flatten is used to flatten a tensor."
   ]
  },
  {
   "cell_type": "code",
   "execution_count": null,
   "id": "e1ce0e1d",
   "metadata": {},
   "outputs": [],
   "source": [
    "# Flatten demo\n",
    "\n",
    "import torch\n",
    "\n",
    "x = torch.tensor([[1, 2, 3, 4], [5, 6, 7, 8]])\n",
    "x = x.flatten()\n",
    "print(x.shape)\n",
    "print(x)\n",
    "print()"
   ]
  },
  {
   "cell_type": "code",
   "execution_count": null,
   "id": "bef63800",
   "metadata": {},
   "outputs": [],
   "source": [
    "torch.Size([8])\n",
    "tensor([1, 2, 3, 4, 5, 6, 7, 8])\n"
   ]
  },
  {
   "cell_type": "markdown",
   "id": "4743528f",
   "metadata": {},
   "source": [
    "Flatten will always convert a tensor into a 1D array. The dimension of the output tensor is 1."
   ]
  },
  {
   "cell_type": "code",
   "execution_count": null,
   "id": "e3af72ec",
   "metadata": {},
   "outputs": [],
   "source": [
    "# Multi-dimension tensor\n",
    "\n",
    "import torch\n",
    "x = torch.ones(2, 2, 2, 2)\n",
    "print(x.shape)\n",
    "print(x)\n",
    "print()\n",
    "\n",
    "x = x.flatten()\n",
    "print(x.shape)\n",
    "print(x)\n",
    "print()"
   ]
  },
  {
   "cell_type": "code",
   "execution_count": null,
   "id": "15f39173",
   "metadata": {},
   "outputs": [],
   "source": [
    "torch.Size([2, 2, 2, 2])\n",
    "tensor([[[[1., 1.],\n",
    "          [1., 1.]],\n",
    "\n",
    "         [[1., 1.],\n",
    "          [1., 1.]]],\n",
    "\n",
    "\n",
    "        [[[1., 1.],\n",
    "          [1., 1.]],\n",
    "\n",
    "         [[1., 1.],\n",
    "          [1., 1.]]]])\n",
    "\n",
    "torch.Size([16])\n",
    "tensor([1., 1., 1., 1., 1., 1., 1., 1., 1., 1., 1., 1., 1., 1., 1., 1.])\n"
   ]
  },
  {
   "cell_type": "markdown",
   "id": "e83d4cc6",
   "metadata": {},
   "source": [
    "# Permute"
   ]
  },
  {
   "cell_type": "markdown",
   "id": "ae959d2a",
   "metadata": {},
   "source": [
    "Permute is used to change the order of the dimensions of a tensor."
   ]
  },
  {
   "cell_type": "markdown",
   "id": "1be6618f",
   "metadata": {},
   "source": [
    "The parameter is the new order of the dimensions"
   ]
  },
  {
   "cell_type": "markdown",
   "id": "e206a97b",
   "metadata": {},
   "source": [
    "So, if we have a tensor of shape (A, B, C, D), the output tensor will have shape (D, C, B, A) given parameter (3, 2, 1, 0)."
   ]
  },
  {
   "cell_type": "code",
   "execution_count": null,
   "id": "b579d98f",
   "metadata": {},
   "outputs": [],
   "source": [
    "# Permute demo\n",
    "\n",
    "import torch\n",
    "\n",
    "x = torch.ones(2, 3, 4)\n",
    "print(x.shape)\n",
    "print(x)\n",
    "print()\n",
    "\n",
    "x = x.permute(2, 0, 1)\n",
    "print(x.shape)\n",
    "print(x)\n",
    "print()"
   ]
  },
  {
   "cell_type": "code",
   "execution_count": null,
   "id": "6c001e0e",
   "metadata": {},
   "outputs": [],
   "source": [
    "torch.Size([2, 3, 4])\n",
    "tensor([[[1., 1., 1., 1.],\n",
    "         [1., 1., 1., 1.],\n",
    "         [1., 1., 1., 1.]],\n",
    "\n",
    "        [[1., 1., 1., 1.],\n",
    "         [1., 1., 1., 1.],\n",
    "         [1., 1., 1., 1.]]])\n",
    "\n",
    "torch.Size([4, 2, 3])\n",
    "tensor([[[1., 1., 1.],\n",
    "         [1., 1., 1.]],\n",
    "\n",
    "        [[1., 1., 1.],\n",
    "         [1., 1., 1.]],\n",
    "\n",
    "        [[1., 1., 1.],\n",
    "         [1., 1., 1.]],\n",
    "\n",
    "        [[1., 1., 1.],\n",
    "         [1., 1., 1.]]])\n"
   ]
  }
 ],
 "metadata": {},
 "nbformat": 4,
 "nbformat_minor": 5
}
