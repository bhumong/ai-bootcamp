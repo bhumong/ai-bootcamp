{
 "cells": [
  {
   "cell_type": "markdown",
   "id": "0747cf15",
   "metadata": {},
   "source": [
    "source: [link](https://ai-bootcamp.ruangguru.com/learn/03_deep-learning/04_pytorch-basic.html)"
   ]
  },
  {
   "cell_type": "markdown",
   "id": "5281333e",
   "metadata": {},
   "source": [
    "# Pytorch Basic"
   ]
  },
  {
   "cell_type": "markdown",
   "id": "f084619f",
   "metadata": {},
   "source": [
    "Pytorch is a python library for deep learning. It provides a high level abstraction which make it easy to train deep neural networks."
   ]
  },
  {
   "cell_type": "markdown",
   "id": "917bd7d8",
   "metadata": {},
   "source": [
    "Let’s install pytorch first."
   ]
  },
  {
   "cell_type": "code",
   "execution_count": null,
   "id": "710f04a3",
   "metadata": {},
   "outputs": [],
   "source": [
    "!pip install torch\n",
    "!pip install fastbook"
   ]
  },
  {
   "cell_type": "markdown",
   "id": "40d57c90",
   "metadata": {},
   "source": [
    "For this tutorial, we will use the following version:"
   ]
  },
  {
   "cell_type": "code",
   "execution_count": null,
   "id": "6ab2e7f1",
   "metadata": {},
   "outputs": [],
   "source": [
    "# Check pytorch version\n",
    "import torch\n",
    "print(torch.__version__)"
   ]
  },
  {
   "cell_type": "code",
   "execution_count": null,
   "id": "d3f82ef1",
   "metadata": {},
   "outputs": [],
   "source": [
    "2.0.0"
   ]
  },
  {
   "cell_type": "markdown",
   "id": "83c0d1b7",
   "metadata": {},
   "source": [
    "# Tensor"
   ]
  },
  {
   "cell_type": "markdown",
   "id": "7268c75f",
   "metadata": {},
   "source": [
    "Tensor is the basic data structure in pytorch. It is similar to numpy array, but it provides automatic differentiation and it can be run on GPU."
   ]
  },
  {
   "cell_type": "markdown",
   "id": "0f0ed96c",
   "metadata": {},
   "source": [
    "If we look at the trend, it’s current the most popular deep learning library"
   ]
  },
  {
   "cell_type": "markdown",
   "id": "6e628665",
   "metadata": {},
   "source": [
    "The capability of running on GPU is very important for deep learning. It can speed up the training process by a lot by parallelizing the computation. Watch this demo: GPU vs CPU Demonstration"
   ]
  },
  {
   "cell_type": "markdown",
   "id": "c3eff7d3",
   "metadata": {},
   "source": [
    "Tensor is n-dimensional array. When n is 0, it is a scalar. When n is 1, it is a vector. When n is 2, it is a matrix. When n is 3, it is a cube. When n is 4, it is a 4-dimensional array. And so on."
   ]
  },
  {
   "cell_type": "code",
   "execution_count": null,
   "id": "975614a2",
   "metadata": {},
   "outputs": [],
   "source": [
    "# 0 dimension tensor\n",
    "import torch\n",
    "\n",
    "x = torch.tensor(42)\n",
    "print(x)"
   ]
  },
  {
   "cell_type": "code",
   "execution_count": null,
   "id": "a84cf469",
   "metadata": {},
   "outputs": [],
   "source": [
    "tensor(42)"
   ]
  },
  {
   "cell_type": "code",
   "execution_count": null,
   "id": "458fe820",
   "metadata": {},
   "outputs": [],
   "source": [
    "# 1 dimension tensor\n",
    "import torch\n",
    "\n",
    "x = torch.tensor([42, 43])\n",
    "print(x)"
   ]
  },
  {
   "cell_type": "code",
   "execution_count": null,
   "id": "3b3d8b8c",
   "metadata": {},
   "outputs": [],
   "source": [
    "tensor([42, 43])"
   ]
  },
  {
   "cell_type": "code",
   "execution_count": null,
   "id": "29c547b5",
   "metadata": {},
   "outputs": [],
   "source": [
    "# 2 dimension tensor\n",
    "import torch\n",
    "\n",
    "x = torch.tensor([[42, 43], [44, 45]])\n",
    "print(x)"
   ]
  },
  {
   "cell_type": "code",
   "execution_count": null,
   "id": "383933a3",
   "metadata": {},
   "outputs": [],
   "source": [
    "tensor([[42, 43],\n",
    "        [44, 45]])"
   ]
  },
  {
   "cell_type": "code",
   "execution_count": null,
   "id": "6abcbcac",
   "metadata": {},
   "outputs": [],
   "source": [
    "# 3 dimension tensor\n",
    "import torch\n",
    "\n",
    "x = torch.tensor([[[42, 43], [44, 45]], [[46, 47], [48, 49]]])\n",
    "print(x)"
   ]
  },
  {
   "cell_type": "code",
   "execution_count": null,
   "id": "018447a4",
   "metadata": {},
   "outputs": [],
   "source": [
    "tensor([[[42, 43],\n",
    "         [44, 45]],\n",
    "\n",
    "        [[46, 47],\n",
    "         [48, 49]]])"
   ]
  },
  {
   "cell_type": "markdown",
   "id": "ce03fee8",
   "metadata": {},
   "source": [
    "To check the dimension of a tensor, we can use the dim() method."
   ]
  },
  {
   "cell_type": "code",
   "execution_count": null,
   "id": "89d564bd",
   "metadata": {},
   "outputs": [],
   "source": [
    "x = torch.tensor([[[42, 43], [44, 45]], [[46, 47], [48, 49]]])\n",
    "print(x.dim())\n",
    "\n",
    "x = torch.tensor(42)\n",
    "print(x.dim())"
   ]
  },
  {
   "cell_type": "code",
   "execution_count": null,
   "id": "0df18717",
   "metadata": {},
   "outputs": [],
   "source": [
    "3\n",
    "0"
   ]
  },
  {
   "cell_type": "markdown",
   "id": "a8daec1b",
   "metadata": {},
   "source": [
    "# Constructing Tensor"
   ]
  },
  {
   "cell_type": "markdown",
   "id": "28cc5ef2",
   "metadata": {},
   "source": [
    "# Random Tensor"
   ]
  },
  {
   "cell_type": "code",
   "execution_count": null,
   "id": "4bd8e467",
   "metadata": {},
   "outputs": [],
   "source": [
    "import torch\n",
    "torch.rand(5, 3)"
   ]
  },
  {
   "cell_type": "code",
   "execution_count": null,
   "id": "12f55c1b",
   "metadata": {},
   "outputs": [],
   "source": [
    "tensor([[0.2247, 0.7425, 0.7174],\n",
    "        [0.6279, 0.4899, 0.3813],\n",
    "        [0.5859, 0.6029, 0.3960],\n",
    "        [0.3568, 0.9450, 0.2779],\n",
    "        [0.8900, 0.5270, 0.5401]])"
   ]
  },
  {
   "cell_type": "markdown",
   "id": "64f13f12",
   "metadata": {},
   "source": [
    "The parameters of the rand() method are the dimension of the tensor. For example, torch.rand(2, 3) will create a 2x3 tensor with random values."
   ]
  },
  {
   "cell_type": "code",
   "execution_count": null,
   "id": "7c7bab89",
   "metadata": {},
   "outputs": [],
   "source": [
    "import torch\n",
    "# One dimensional tensor containing 5 random numbers\n",
    "torch.rand(5)"
   ]
  },
  {
   "cell_type": "code",
   "execution_count": null,
   "id": "584b73bb",
   "metadata": {},
   "outputs": [],
   "source": [
    "tensor([0.3616, 0.8951, 0.4249, 0.0801, 0.5676])"
   ]
  },
  {
   "cell_type": "markdown",
   "id": "6819b0df",
   "metadata": {},
   "source": [
    "# Ones Tensor"
   ]
  },
  {
   "cell_type": "markdown",
   "id": "b503ba93",
   "metadata": {},
   "source": [
    "Ones tensor is a tensor with all values equal to 1"
   ]
  },
  {
   "cell_type": "code",
   "execution_count": null,
   "id": "cc52daf6",
   "metadata": {},
   "outputs": [],
   "source": [
    "import torch\n",
    "torch.ones(2, 3)"
   ]
  },
  {
   "cell_type": "code",
   "execution_count": null,
   "id": "b13e75ae",
   "metadata": {},
   "outputs": [],
   "source": [
    "tensor([[1., 1., 1.],\n",
    "        [1., 1., 1.]])"
   ]
  },
  {
   "cell_type": "markdown",
   "id": "0c0490b7",
   "metadata": {},
   "source": [
    "Quiz: what’s the output of torch.ones(1, 2)?"
   ]
  },
  {
   "cell_type": "code",
   "execution_count": null,
   "id": "f50e7b3b",
   "metadata": {},
   "outputs": [],
   "source": [
    "import torch\n",
    "torch.ones(1, 2)"
   ]
  },
  {
   "cell_type": "code",
   "execution_count": null,
   "id": "cbb526ca",
   "metadata": {},
   "outputs": [],
   "source": [
    "tensor([[1., 1.]])"
   ]
  },
  {
   "cell_type": "markdown",
   "id": "2ae3deb7",
   "metadata": {},
   "source": [
    "# Zeros Tensor"
   ]
  },
  {
   "cell_type": "markdown",
   "id": "ef5a819e",
   "metadata": {},
   "source": [
    "Zeros tensor is a tensor with all values equal to 0"
   ]
  },
  {
   "cell_type": "code",
   "execution_count": null,
   "id": "1aa883d8",
   "metadata": {},
   "outputs": [],
   "source": [
    "import torch\n",
    "torch.zeros(1,2,3)"
   ]
  },
  {
   "cell_type": "code",
   "execution_count": null,
   "id": "f342dfb3",
   "metadata": {},
   "outputs": [],
   "source": [
    "tensor([[[0., 0., 0.],\n",
    "         [0., 0., 0.]]])"
   ]
  },
  {
   "cell_type": "markdown",
   "id": "6f21e3de",
   "metadata": {},
   "source": [
    "# Range Tensor"
   ]
  },
  {
   "cell_type": "markdown",
   "id": "0a8abf21",
   "metadata": {},
   "source": [
    "If we want to create a tensor with values from 0 to n-1, we can use the torch.arange(n) method."
   ]
  },
  {
   "cell_type": "code",
   "execution_count": null,
   "id": "a5e58136",
   "metadata": {},
   "outputs": [],
   "source": [
    "import torch\n",
    "torch.arange(1, 10)"
   ]
  },
  {
   "cell_type": "code",
   "execution_count": null,
   "id": "b4147a32",
   "metadata": {},
   "outputs": [],
   "source": [
    "tensor([1, 2, 3, 4, 5, 6, 7, 8, 9])"
   ]
  },
  {
   "cell_type": "code",
   "execution_count": null,
   "id": "e0aa5f71",
   "metadata": {},
   "outputs": [],
   "source": [
    "torch.arange(-3, 3, 2)"
   ]
  },
  {
   "cell_type": "code",
   "execution_count": null,
   "id": "31f4a731",
   "metadata": {},
   "outputs": [],
   "source": [
    "tensor([-3, -1,  1])"
   ]
  },
  {
   "cell_type": "markdown",
   "id": "33c3a890",
   "metadata": {},
   "source": [
    "# Full"
   ]
  },
  {
   "cell_type": "markdown",
   "id": "a4f05a9c",
   "metadata": {},
   "source": [
    "If we want to create a tensor with all values equal to a constant, we can use the torch.full() method."
   ]
  },
  {
   "cell_type": "code",
   "execution_count": null,
   "id": "ba89d808",
   "metadata": {},
   "outputs": [],
   "source": [
    "import torch\n",
    "torch.full((2, ), 42)"
   ]
  },
  {
   "cell_type": "code",
   "execution_count": null,
   "id": "2a852cc1",
   "metadata": {},
   "outputs": [],
   "source": [
    "tensor([42, 42])"
   ]
  },
  {
   "cell_type": "code",
   "execution_count": null,
   "id": "aab89e93",
   "metadata": {},
   "outputs": [],
   "source": [
    "import torch\n",
    "torch.full((2, 3), 42)"
   ]
  },
  {
   "cell_type": "code",
   "execution_count": null,
   "id": "8ac70e1f",
   "metadata": {},
   "outputs": [],
   "source": [
    "tensor([[42, 42, 42],\n",
    "        [42, 42, 42]])"
   ]
  },
  {
   "cell_type": "markdown",
   "id": "47cac691",
   "metadata": {},
   "source": [
    "If we don’t have full method, we can use ones method and multiply it with the constant."
   ]
  },
  {
   "cell_type": "code",
   "execution_count": null,
   "id": "471ca2c0",
   "metadata": {},
   "outputs": [],
   "source": [
    "import torch\n",
    "torch.ones(2, 3) * 42"
   ]
  },
  {
   "cell_type": "code",
   "execution_count": null,
   "id": "8c512c96",
   "metadata": {},
   "outputs": [],
   "source": [
    "tensor([[42., 42., 42.],\n",
    "        [42., 42., 42.]])"
   ]
  },
  {
   "cell_type": "markdown",
   "id": "c1980374",
   "metadata": {},
   "source": [
    "# Tensor Operations"
   ]
  },
  {
   "cell_type": "markdown",
   "id": "c7207d34",
   "metadata": {},
   "source": [
    "We can do normal arithmetic operations on tensor:"
   ]
  },
  {
   "cell_type": "code",
   "execution_count": null,
   "id": "8e440400",
   "metadata": {},
   "outputs": [],
   "source": [
    "x = torch.tensor(42)\n",
    "print(x + 2)\n",
    "print(x * 3)\n",
    "print(x ** 2)\n",
    "print(x / 2)"
   ]
  },
  {
   "cell_type": "code",
   "execution_count": null,
   "id": "eb6cb88c",
   "metadata": {},
   "outputs": [],
   "source": [
    "tensor(44)\n",
    "tensor(126)\n",
    "tensor(1764)\n",
    "tensor(21.)"
   ]
  },
  {
   "cell_type": "markdown",
   "id": "c26de376",
   "metadata": {},
   "source": [
    "We can do similar operations on higher dimensional tensors:"
   ]
  },
  {
   "cell_type": "code",
   "execution_count": null,
   "id": "71633679",
   "metadata": {},
   "outputs": [],
   "source": [
    "x = torch.tensor([1, 2])\n",
    "print(x + 1)\n",
    "\n",
    "x = torch.tensor([[1, 2], [3, 4]])\n",
    "print(x + 1)"
   ]
  },
  {
   "cell_type": "code",
   "execution_count": null,
   "id": "becd1778",
   "metadata": {},
   "outputs": [],
   "source": [
    "tensor([2, 3])\n",
    "tensor([[2, 3],\n",
    "        [4, 5]])"
   ]
  },
  {
   "cell_type": "markdown",
   "id": "46a7b4a8",
   "metadata": {},
   "source": [
    "Wow from mathematic lesson, didn’t we learn that addition operations are only defined for tensors with the same shape? How come we can add a scalar tensor (0 dim) with a 2 dim tensor?"
   ]
  },
  {
   "cell_type": "markdown",
   "id": "fe6f9892",
   "metadata": {},
   "source": [
    "This is because of broadcasting. Pytorch will automatically broadcast the scalar tensor to match the shape of the other tensor."
   ]
  },
  {
   "cell_type": "markdown",
   "id": "38143d6a",
   "metadata": {},
   "source": [
    "So,"
   ]
  },
  {
   "cell_type": "markdown",
   "id": "81fe633f",
   "metadata": {},
   "source": [
    "\\[\n",
    "\\begin{bmatrix}\n",
    "1 & 2 & 3 \\\\\n",
    "4 & 5 & 6 \\\\\n",
    "\\end{bmatrix}\n",
    "+ 1\n",
    "\\]"
   ]
  },
  {
   "cell_type": "markdown",
   "id": "24bfef88",
   "metadata": {},
   "source": [
    "would become"
   ]
  },
  {
   "cell_type": "markdown",
   "id": "1517d056",
   "metadata": {},
   "source": [
    "\\[\n",
    "\\begin{bmatrix}\n",
    "1 & 2 & 3 \\\\\n",
    "4 & 5 & 6 \\\\\n",
    "\\end{bmatrix}\n",
    "+\n",
    "\\begin{bmatrix}\n",
    "1 & 1 & 1 \\\\\n",
    "1 & 1 & 1 \\\\\n",
    "\\end{bmatrix}\n",
    "\\]"
   ]
  },
  {
   "cell_type": "markdown",
   "id": "fa627cfd",
   "metadata": {},
   "source": [
    "# Broadcasting"
   ]
  },
  {
   "cell_type": "markdown",
   "id": "bb5138ea",
   "metadata": {},
   "source": [
    "So how does broadcasting work?"
   ]
  },
  {
   "cell_type": "markdown",
   "id": "65d6477c",
   "metadata": {},
   "source": [
    "Taken from Pytorch Docs:"
   ]
  },
  {
   "cell_type": "markdown",
   "id": "344d872d",
   "metadata": {},
   "source": [
    "Two tensors are “broadcastable” if the following rules hold:"
   ]
  },
  {
   "cell_type": "markdown",
   "id": "7cc143b3",
   "metadata": {},
   "source": [
    "- Each tensor has at least one dimension.\n",
    "- When iterating over the dimension sizes, starting at the trailing dimension, the dimension sizes must either be equal, one of them is 1, or one of them does not exist."
   ]
  },
  {
   "cell_type": "markdown",
   "id": "834818a8",
   "metadata": {},
   "source": [
    "Broadcasting rules:"
   ]
  },
  {
   "cell_type": "markdown",
   "id": "3c5fbb92",
   "metadata": {},
   "source": [
    "- If the number of dimensions of x and y are not equal, prepend 1 to the dimensions of the tensor with fewer dimensions to make them equal length.\n",
    "- Then, for each dimension size, the resulting dimension size is the max of the sizes of x and y along that dimension."
   ]
  },
  {
   "cell_type": "code",
   "execution_count": null,
   "id": "81cb4cb7",
   "metadata": {},
   "outputs": [],
   "source": [
    "import torch\n",
    "torch.full((1,), 5) + torch.ones(3)"
   ]
  },
  {
   "cell_type": "code",
   "execution_count": null,
   "id": "03a3eab6",
   "metadata": {},
   "outputs": [],
   "source": [
    "tensor([6., 6., 6.])"
   ]
  },
  {
   "cell_type": "markdown",
   "id": "c6ede748",
   "metadata": {},
   "source": [
    "\\[\n",
    "\\begin{bmatrix}\n",
    "5\n",
    "\\end{bmatrix}\n",
    "+\n",
    "\\begin{bmatrix}\n",
    "1 \\\\\n",
    "1 \\\\\n",
    "1\n",
    "\\end{bmatrix}\n",
    "=\n",
    "\\begin{bmatrix}\n",
    "5 \\\\\n",
    "5 \\\\\n",
    "5\n",
    "\\end{bmatrix}\n",
    "+\n",
    "\\begin{bmatrix}\n",
    "1 \\\\\n",
    "1 \\\\\n",
    "1\n",
    "\\end{bmatrix}\n",
    "\\]"
   ]
  },
  {
   "cell_type": "code",
   "execution_count": null,
   "id": "8a35a5d9",
   "metadata": {},
   "outputs": [],
   "source": [
    "import torch\n",
    "# Error\n",
    "torch.ones(3) + torch.ones(5)"
   ]
  },
  {
   "cell_type": "markdown",
   "id": "360bfbf5",
   "metadata": {},
   "source": [
    "\\[\n",
    "\\begin{bmatrix}\n",
    "1 \\\\\n",
    "1 \\\\\n",
    "1\n",
    "\\end{bmatrix}\n",
    "+\n",
    "\\begin{bmatrix}\n",
    "1 \\\\\n",
    "1 \\\\\n",
    "1 \\\\\n",
    "1 \\\\\n",
    "1\n",
    "\\end{bmatrix}\n",
    "=\n",
    "error\n",
    "\\]"
   ]
  },
  {
   "cell_type": "markdown",
   "id": "ab163597",
   "metadata": {},
   "source": [
    "Why is it an error?"
   ]
  },
  {
   "cell_type": "markdown",
   "id": "d91bf667",
   "metadata": {},
   "source": [
    "Remember this rule:"
   ]
  },
  {
   "cell_type": "markdown",
   "id": "2b9323a7",
   "metadata": {},
   "source": [
    "When iterating over the dimension sizes, starting at the trailing dimension, the dimension sizes must either be equal, one of them is 1, or one of them does not exist."
   ]
  },
  {
   "cell_type": "markdown",
   "id": "502c47f5",
   "metadata": {},
   "source": [
    "The trailing dimension of the first tensor is 3, while the trailing dimension of the second tensor is 5. They are not equal, one of them is not 1, and one of them does not exist. So it’s an error."
   ]
  },
  {
   "cell_type": "markdown",
   "id": "57049447",
   "metadata": {},
   "source": [
    "Let’s try again"
   ]
  },
  {
   "cell_type": "code",
   "execution_count": null,
   "id": "ff8496df",
   "metadata": {},
   "outputs": [],
   "source": [
    "import torch\n",
    "\n",
    "torch.full((2, 2), 5) + torch.full((1, 2), 3)"
   ]
  },
  {
   "cell_type": "code",
   "execution_count": null,
   "id": "da3e375f",
   "metadata": {},
   "outputs": [],
   "source": [
    "tensor([[8, 8],\n",
    "        [8, 8]])"
   ]
  },
  {
   "cell_type": "markdown",
   "id": "0743eb59",
   "metadata": {},
   "source": [
    "\\[\n",
    "\\begin{bmatrix}\n",
    "5 && 5 \\\\\n",
    "5 && 5 \\\\\n",
    "\\end{bmatrix}\n",
    "+\n",
    "\\begin{bmatrix}\n",
    "3 && 3\n",
    "\\end{bmatrix}\n",
    "=\n",
    "\\begin{bmatrix}\n",
    "5 && 5 \\\\\n",
    "5 && 5 \\\\\n",
    "\\end{bmatrix}\n",
    "+\n",
    "\\begin{bmatrix}\n",
    "3 && 3 \\\\\n",
    "3 && 3 \\\\\n",
    "\\end{bmatrix}\n",
    "\\]"
   ]
  },
  {
   "cell_type": "code",
   "execution_count": null,
   "id": "24109382",
   "metadata": {},
   "outputs": [],
   "source": [
    "import torch\n",
    "\n",
    "x = torch.full((3, 4, 2), 5)\n",
    "y = torch.full((2,), 3) \n",
    "z = x + y\n",
    "print('x =', x)\n",
    "print('y =', y)\n",
    "print('z = ',z)"
   ]
  },
  {
   "cell_type": "code",
   "execution_count": null,
   "id": "46607210",
   "metadata": {},
   "outputs": [],
   "source": [
    "x = tensor([[[5, 5],\n",
    "         [5, 5],\n",
    "         [5, 5],\n",
    "         [5, 5]],\n",
    "\n",
    "        [[5, 5],\n",
    "         [5, 5],\n",
    "         [5, 5],\n",
    "         [5, 5]],\n",
    "\n",
    "        [[5, 5],\n",
    "         [5, 5],\n",
    "         [5, 5],\n",
    "         [5, 5]]])\n",
    "y = tensor([3, 3])\n",
    "z =  tensor([[[8, 8],\n",
    "         [8, 8],\n",
    "         [8, 8],\n",
    "         [8, 8]],\n",
    "\n",
    "        [[8, 8],\n",
    "         [8, 8],\n",
    "         [8, 8],\n",
    "         [8, 8]],\n",
    "\n",
    "        [[8, 8],\n",
    "         [8, 8],\n",
    "         [8, 8],\n",
    "         [8, 8]]])"
   ]
  },
  {
   "cell_type": "markdown",
   "id": "01aad624",
   "metadata": {},
   "source": [
    "# Matrix Operation"
   ]
  },
  {
   "cell_type": "markdown",
   "id": "89306df3",
   "metadata": {},
   "source": [
    "Tensor can be multiplied with another tensor using the matmul() method or the @ operator."
   ]
  },
  {
   "cell_type": "code",
   "execution_count": null,
   "id": "fb5410b0",
   "metadata": {},
   "outputs": [],
   "source": [
    "import torch\n",
    "\n",
    "x = torch.tensor([[3, 4]])\n",
    "print(x.shape)\n",
    "y = torch.tensor([[1, 2, 3], [4, 5, 6]])\n",
    "print(y.shape)\n",
    "x @ y\n",
    "x.matmul(y)\n",
    "x.mm(y)"
   ]
  },
  {
   "cell_type": "code",
   "execution_count": null,
   "id": "5facc76e",
   "metadata": {},
   "outputs": [],
   "source": [
    "torch.Size([1, 2])\n",
    "torch.Size([2, 3])"
   ]
  },
  {
   "cell_type": "code",
   "execution_count": null,
   "id": "47b96cb5",
   "metadata": {},
   "outputs": [],
   "source": [
    "tensor([[19, 26, 33]])"
   ]
  },
  {
   "cell_type": "markdown",
   "id": "58f60168",
   "metadata": {},
   "source": [
    "\\[\n",
    "\\begin{bmatrix}\n",
    "3 && 4\n",
    "\\end{bmatrix}\n",
    "\\dot\\\\\n",
    "\\begin{bmatrix}\n",
    "1 && 2 && 3 \\\\\n",
    "4 && 5 && 6\n",
    "\\end{bmatrix}\n",
    "\\]"
   ]
  },
  {
   "cell_type": "markdown",
   "id": "64c5d192",
   "metadata": {},
   "source": [
    "Be careful not to be confused with the * operator. The * operator is element-wise multiplication."
   ]
  },
  {
   "cell_type": "code",
   "execution_count": null,
   "id": "dcd027aa",
   "metadata": {},
   "outputs": [],
   "source": [
    "import torch\n",
    "\n",
    "x = torch.tensor([[3, 4]])\n",
    "x * x"
   ]
  },
  {
   "cell_type": "code",
   "execution_count": null,
   "id": "c96a5324",
   "metadata": {},
   "outputs": [],
   "source": [
    "tensor([[ 9, 16]])"
   ]
  },
  {
   "cell_type": "markdown",
   "id": "68e16bcb",
   "metadata": {},
   "source": [
    "# Transpose"
   ]
  },
  {
   "cell_type": "markdown",
   "id": "70cd3a1f",
   "metadata": {},
   "source": [
    "We can transpose a tensor using the t method."
   ]
  },
  {
   "cell_type": "code",
   "execution_count": null,
   "id": "bca309af",
   "metadata": {},
   "outputs": [],
   "source": [
    "import torch\n",
    "\n",
    "x = torch.tensor([[3, 4]])\n",
    "print(x)\n",
    "print(x.shape)\n",
    "print(x.T)\n",
    "print(x.T.shape)"
   ]
  },
  {
   "cell_type": "code",
   "execution_count": null,
   "id": "044d0b51",
   "metadata": {},
   "outputs": [],
   "source": [
    "tensor([[3, 4]])\n",
    "torch.Size([1, 2])\n",
    "tensor([[3],\n",
    "        [4]])\n",
    "torch.Size([2, 1])"
   ]
  },
  {
   "cell_type": "markdown",
   "id": "e1afb05d",
   "metadata": {},
   "source": [
    "# Neural Network with Pytorch"
   ]
  },
  {
   "cell_type": "markdown",
   "id": "32298c33",
   "metadata": {},
   "source": [
    "Now we have learned the required knowledge to build a neural network with pytorch."
   ]
  },
  {
   "cell_type": "code",
   "execution_count": null,
   "id": "6a5fdd9d",
   "metadata": {},
   "outputs": [],
   "source": [
    "from fastbook import *\n",
    "\n",
    "\n",
    "# Draw neurons with multiple inputs and weights\n",
    "gv('''\n",
    "z[shape=box3d width=1 height=0.7]\n",
    "bias[shape=circle width=0.3]\n",
    "x_0[label=1]\n",
    "x_1[label=2]\n",
    "// Subgraph to force alignment on x-axis\n",
    "subgraph {\n",
    "    rank=same;\n",
    "    z;\n",
    "    bias;\n",
    "    alignmentNode [style=invis, width=0]; // invisible node for alignment\n",
    "    bias -> alignmentNode [style=invis]; // invisible edge\n",
    "    z -> alignmentNode [style=invis]; // invisible edge\n",
    "}\n",
    "x_0->z [label=\"3\"]\n",
    "x_1->z [label=\"4\"]\n",
    "bias->z [label=\"5\" pos=\"0,1.2!\"]\n",
    "z->a \n",
    "a->output [label=\"ReLU\"]\n",
    "''')"
   ]
  },
  {
   "cell_type": "markdown",
   "id": "94a587b1",
   "metadata": {},
   "source": []
  },
  {
   "cell_type": "markdown",
   "id": "81295fec",
   "metadata": {},
   "source": [
    "Remember the equation"
   ]
  },
  {
   "cell_type": "markdown",
   "id": "efd7b620",
   "metadata": {},
   "source": [
    "\\[\n",
    "z = wx + b\\\\\n",
    "a = ReLU(z)\n",
    "\\]"
   ]
  },
  {
   "cell_type": "markdown",
   "id": "2240842f",
   "metadata": {},
   "source": [
    "Let’s represent it in pytorch"
   ]
  },
  {
   "cell_type": "code",
   "execution_count": null,
   "id": "2d3a1461",
   "metadata": {},
   "outputs": [],
   "source": [
    "x = torch.tensor([[1],[2]])\n",
    "\n",
    "w = torch.tensor([3, 4])\n",
    "b = torch.tensor(5)\n",
    "z = w @ x + b\n",
    "a = torch.relu(z)\n",
    "a"
   ]
  },
  {
   "cell_type": "code",
   "execution_count": null,
   "id": "f06d4666",
   "metadata": {},
   "outputs": [],
   "source": [
    "tensor([16])"
   ]
  },
  {
   "cell_type": "markdown",
   "id": "456b9b72",
   "metadata": {},
   "source": [
    "How about multiple layers? Easy!"
   ]
  },
  {
   "cell_type": "code",
   "execution_count": null,
   "id": "c9e26157",
   "metadata": {},
   "outputs": [],
   "source": [
    "from fastbook import *\n",
    "\n",
    "gv('''\n",
    "   x_0[label=1]\n",
    "   x_1[label=2]\n",
    "   a_0_0[label=\"b=3\"]\n",
    "   a_0_1[label=\"b=2\"]\n",
    "   a_1_0[label=\"b=1\"]\n",
    "   x_0 -> a_0_0 [label=-3]\n",
    "   x_0 -> a_0_1 [label=4]\n",
    "   x_1 -> a_0_0 [label=5]\n",
    "   x_1 -> a_0_1 [label=-6]\n",
    "   a_0_0 -> a_1_0 [label=7]\n",
    "   a_0_1 -> a_1_0 [label=8]\n",
    "   a_1_0 -> output\n",
    "   ''')"
   ]
  },
  {
   "cell_type": "markdown",
   "id": "084975f7",
   "metadata": {},
   "source": []
  },
  {
   "cell_type": "code",
   "execution_count": null,
   "id": "100c28b3",
   "metadata": {},
   "outputs": [],
   "source": [
    "x = torch.tensor([[1],[2]])\n",
    "\n",
    "w_0 = torch.tensor([[-3, 5], [4, -6]])\n",
    "b_0 = torch.tensor([[3, 2]])\n",
    "a_0 = torch.relu(w_0 @ x + b_0)\n",
    "\n",
    "w_1 = torch.tensor([[7, 8]])\n",
    "b_1 = torch.tensor([[1]])\n",
    "a_1 = torch.relu(w_1 @ a_0 + b_1)\n",
    "a_1"
   ]
  },
  {
   "cell_type": "code",
   "execution_count": null,
   "id": "f21eef6d",
   "metadata": {},
   "outputs": [],
   "source": [
    "tensor([[71]])"
   ]
  },
  {
   "cell_type": "markdown",
   "id": "fbe366ef",
   "metadata": {},
   "source": [
    "# Exercise"
   ]
  },
  {
   "cell_type": "code",
   "execution_count": null,
   "id": "114df515",
   "metadata": {},
   "outputs": [],
   "source": [
    "!pip install rggrader"
   ]
  },
  {
   "cell_type": "code",
   "execution_count": null,
   "id": "f217fa5b",
   "metadata": {},
   "outputs": [],
   "source": [
    "# @title #### Student Identity\n",
    "student_id = \"your student id\" # @param {type:\"string\"}\n",
    "name = \"your name\" # @param {type:\"string\"}"
   ]
  },
  {
   "cell_type": "markdown",
   "id": "659c5c5a",
   "metadata": {},
   "source": [
    "Implement the following neural network"
   ]
  },
  {
   "cell_type": "code",
   "execution_count": null,
   "id": "d3880fc4",
   "metadata": {},
   "outputs": [],
   "source": [
    "from fastbook import *\n",
    "\n",
    "gv('''\n",
    "   x_0[label=3]\n",
    "   a_0_0[label=\"b=-2, ReLU\"]\n",
    "   a_0_1[label=\"b=5, ReLU\"]\n",
    "   a_1_0[label=\"b=0, ReLU\"]\n",
    "   x_0 -> a_0_0 [label=-2]\n",
    "   x_0 -> a_0_1 [label=5]\n",
    "   a_0_0 -> a_1_0 [label=3]\n",
    "   a_0_1 -> a_1_0 [label=2]\n",
    "   \n",
    "   a_1_0 -> output\n",
    "   ''')"
   ]
  },
  {
   "cell_type": "markdown",
   "id": "d799481e",
   "metadata": {},
   "source": []
  },
  {
   "cell_type": "code",
   "execution_count": null,
   "id": "dfb4d9db",
   "metadata": {},
   "outputs": [],
   "source": [
    "from rggrader import submit\n",
    "\n",
    "# Put your code here\n",
    "answer = 0\n",
    "\n",
    "assignment_id = \"10_pytorch-basic\"\n",
    "question_id = \"00_single-input-nn\"\n",
    "submit(student_id, name, assignment_id, str(answer), question_id)"
   ]
  },
  {
   "cell_type": "code",
   "execution_count": null,
   "id": "0a481de3",
   "metadata": {},
   "outputs": [],
   "source": [
    "from fastbook import *\n",
    "\n",
    "gv('''\n",
    "   x_0[label=3]\n",
    "   x_1[label=5]\n",
    "   a_0_0[label=\"b=8, ReLU\"]\n",
    "   a_0_1[label=\"b=-2, ReLU\"]\n",
    "   a_0_2[label=\"b=4, ReLU\"]\n",
    "   a_1_0[label=\"b=3, ReLU\"]\n",
    "   x_0 -> a_0_0 [label=-2]\n",
    "   x_0 -> a_0_1 [label=5]\n",
    "   x_0 -> a_0_2 [label=3]\n",
    "   x_1 -> a_0_0 [label=8]\n",
    "   x_1 -> a_0_1 [label=-2]\n",
    "   x_1 -> a_0_2 [label=4]\n",
    "   a_0_0 -> a_1_0 [label=3]\n",
    "   a_0_1 -> a_1_0 [label=2]\n",
    "   a_0_2 -> a_1_0 [label=8]\n",
    "   \n",
    "   a_1_0 -> output\n",
    "   ''')"
   ]
  },
  {
   "cell_type": "markdown",
   "id": "fb226a80",
   "metadata": {},
   "source": []
  },
  {
   "cell_type": "code",
   "execution_count": null,
   "id": "3fee94e0",
   "metadata": {},
   "outputs": [],
   "source": [
    "from rggrader import submit\n",
    "\n",
    "# Put your code here\n",
    "answer = 0\n",
    "\n",
    "assignment_id = \"10_pytorch-basic\"\n",
    "question_id = \"01_multi-input-nn\"\n",
    "submit(student_id, name, assignment_id, str(answer), question_id)"
   ]
  }
 ],
 "metadata": {},
 "nbformat": 4,
 "nbformat_minor": 5
}
