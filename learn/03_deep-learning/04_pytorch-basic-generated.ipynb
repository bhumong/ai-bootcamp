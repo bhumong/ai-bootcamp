{
 "cells": [
  {
   "cell_type": "markdown",
   "id": "5ce381a9",
   "metadata": {},
   "source": [
    "source: [link](https://ai-bootcamp.ruangguru.com/learn/03_deep-learning/04_pytorch-basic.html)"
   ]
  },
  {
   "cell_type": "markdown",
   "id": "8c205a3e",
   "metadata": {},
   "source": [
    "# Pytorch Basic"
   ]
  },
  {
   "cell_type": "markdown",
   "id": "a8436f07",
   "metadata": {},
   "source": [
    "Pytorch is a python library for deep learning. It provides a high level abstraction which make it easy to train deep neural networks."
   ]
  },
  {
   "cell_type": "markdown",
   "id": "314eb308",
   "metadata": {},
   "source": [
    "Let’s install pytorch first."
   ]
  },
  {
   "cell_type": "code",
   "execution_count": null,
   "id": "b033751d",
   "metadata": {},
   "outputs": [],
   "source": [
    "!pip install torch\n",
    "!pip install fastbook"
   ]
  },
  {
   "cell_type": "markdown",
   "id": "c2ab63cc",
   "metadata": {},
   "source": [
    "For this tutorial, we will use the following version:"
   ]
  },
  {
   "cell_type": "code",
   "execution_count": null,
   "id": "0c9b3a88",
   "metadata": {},
   "outputs": [],
   "source": [
    "# Check pytorch version\n",
    "import torch\n",
    "print(torch.__version__)"
   ]
  },
  {
   "cell_type": "code",
   "execution_count": null,
   "id": "ef5019e9",
   "metadata": {},
   "outputs": [],
   "source": [
    "2.0.0"
   ]
  },
  {
   "cell_type": "markdown",
   "id": "1c7c1918",
   "metadata": {},
   "source": [
    "# Tensor"
   ]
  },
  {
   "cell_type": "markdown",
   "id": "688eae8b",
   "metadata": {},
   "source": [
    "Tensor is the basic data structure in pytorch. It is similar to numpy array, but it provides automatic differentiation and it can be run on GPU."
   ]
  },
  {
   "cell_type": "markdown",
   "id": "c1ebaa87",
   "metadata": {},
   "source": [
    "If we look at the trend, it’s current the most popular deep learning library"
   ]
  },
  {
   "cell_type": "markdown",
   "id": "74d9552a",
   "metadata": {},
   "source": [
    "The capability of running on GPU is very important for deep learning. It can speed up the training process by a lot by parallelizing the computation. Watch this demo: GPU vs CPU Demonstration"
   ]
  },
  {
   "cell_type": "markdown",
   "id": "18ea98bd",
   "metadata": {},
   "source": [
    "Tensor is n-dimensional array. When n is 0, it is a scalar. When n is 1, it is a vector. When n is 2, it is a matrix. When n is 3, it is a cube. When n is 4, it is a 4-dimensional array. And so on."
   ]
  },
  {
   "cell_type": "code",
   "execution_count": null,
   "id": "6841ea7d",
   "metadata": {},
   "outputs": [],
   "source": [
    "# 0 dimension tensor\n",
    "import torch\n",
    "\n",
    "x = torch.tensor(42)\n",
    "print(x)"
   ]
  },
  {
   "cell_type": "code",
   "execution_count": null,
   "id": "22554cc0",
   "metadata": {},
   "outputs": [],
   "source": [
    "tensor(42)"
   ]
  },
  {
   "cell_type": "code",
   "execution_count": null,
   "id": "8014ad77",
   "metadata": {},
   "outputs": [],
   "source": [
    "# 1 dimension tensor\n",
    "import torch\n",
    "\n",
    "x = torch.tensor([42, 43])\n",
    "print(x)"
   ]
  },
  {
   "cell_type": "code",
   "execution_count": null,
   "id": "df3ef3ac",
   "metadata": {},
   "outputs": [],
   "source": [
    "tensor([42, 43])"
   ]
  },
  {
   "cell_type": "code",
   "execution_count": null,
   "id": "274bf94f",
   "metadata": {},
   "outputs": [],
   "source": [
    "# 2 dimension tensor\n",
    "import torch\n",
    "\n",
    "x = torch.tensor([[42, 43], [44, 45]])\n",
    "print(x)"
   ]
  },
  {
   "cell_type": "code",
   "execution_count": null,
   "id": "5e3ed0ce",
   "metadata": {},
   "outputs": [],
   "source": [
    "tensor([[42, 43],\n",
    "        [44, 45]])"
   ]
  },
  {
   "cell_type": "code",
   "execution_count": null,
   "id": "348d0eaf",
   "metadata": {},
   "outputs": [],
   "source": [
    "# 3 dimension tensor\n",
    "import torch\n",
    "\n",
    "x = torch.tensor([[[42, 43], [44, 45]], [[46, 47], [48, 49]]])\n",
    "print(x)"
   ]
  },
  {
   "cell_type": "code",
   "execution_count": null,
   "id": "d8e8d386",
   "metadata": {},
   "outputs": [],
   "source": [
    "tensor([[[42, 43],\n",
    "         [44, 45]],\n",
    "\n",
    "        [[46, 47],\n",
    "         [48, 49]]])"
   ]
  },
  {
   "cell_type": "markdown",
   "id": "361dfdda",
   "metadata": {},
   "source": [
    "To check the dimension of a tensor, we can use the dim() method."
   ]
  },
  {
   "cell_type": "code",
   "execution_count": null,
   "id": "bcd1fb2e",
   "metadata": {},
   "outputs": [],
   "source": [
    "x = torch.tensor([[[42, 43], [44, 45]], [[46, 47], [48, 49]]])\n",
    "print(x.dim())\n",
    "\n",
    "x = torch.tensor(42)\n",
    "print(x.dim())"
   ]
  },
  {
   "cell_type": "code",
   "execution_count": null,
   "id": "c91e4e19",
   "metadata": {},
   "outputs": [],
   "source": [
    "3\n",
    "0"
   ]
  },
  {
   "cell_type": "markdown",
   "id": "d1a6b00d",
   "metadata": {},
   "source": [
    "# Constructing Tensor"
   ]
  },
  {
   "cell_type": "markdown",
   "id": "0bc60caa",
   "metadata": {},
   "source": [
    "# Random Tensor"
   ]
  },
  {
   "cell_type": "code",
   "execution_count": null,
   "id": "3ea07858",
   "metadata": {},
   "outputs": [],
   "source": [
    "import torch\n",
    "torch.rand(5, 3)"
   ]
  },
  {
   "cell_type": "code",
   "execution_count": null,
   "id": "34f8db08",
   "metadata": {},
   "outputs": [],
   "source": [
    "tensor([[0.2247, 0.7425, 0.7174],\n",
    "        [0.6279, 0.4899, 0.3813],\n",
    "        [0.5859, 0.6029, 0.3960],\n",
    "        [0.3568, 0.9450, 0.2779],\n",
    "        [0.8900, 0.5270, 0.5401]])"
   ]
  },
  {
   "cell_type": "markdown",
   "id": "be2d47d8",
   "metadata": {},
   "source": [
    "The parameters of the rand() method are the dimension of the tensor. For example, torch.rand(2, 3) will create a 2x3 tensor with random values."
   ]
  },
  {
   "cell_type": "code",
   "execution_count": null,
   "id": "d851568e",
   "metadata": {},
   "outputs": [],
   "source": [
    "import torch\n",
    "# One dimensional tensor containing 5 random numbers\n",
    "torch.rand(5)"
   ]
  },
  {
   "cell_type": "code",
   "execution_count": null,
   "id": "dfbfee1d",
   "metadata": {},
   "outputs": [],
   "source": [
    "tensor([0.3616, 0.8951, 0.4249, 0.0801, 0.5676])"
   ]
  },
  {
   "cell_type": "markdown",
   "id": "bf5ce472",
   "metadata": {},
   "source": [
    "# Ones Tensor"
   ]
  },
  {
   "cell_type": "markdown",
   "id": "53c8eb27",
   "metadata": {},
   "source": [
    "Ones tensor is a tensor with all values equal to 1"
   ]
  },
  {
   "cell_type": "code",
   "execution_count": null,
   "id": "b49ae1f5",
   "metadata": {},
   "outputs": [],
   "source": [
    "import torch\n",
    "torch.ones(2, 3)"
   ]
  },
  {
   "cell_type": "code",
   "execution_count": null,
   "id": "c97551b4",
   "metadata": {},
   "outputs": [],
   "source": [
    "tensor([[1., 1., 1.],\n",
    "        [1., 1., 1.]])"
   ]
  },
  {
   "cell_type": "markdown",
   "id": "f8e3edd3",
   "metadata": {},
   "source": [
    "Quiz: what’s the output of torch.ones(1, 2)?"
   ]
  },
  {
   "cell_type": "code",
   "execution_count": null,
   "id": "e80f81da",
   "metadata": {},
   "outputs": [],
   "source": [
    "import torch\n",
    "torch.ones(1, 2)"
   ]
  },
  {
   "cell_type": "code",
   "execution_count": null,
   "id": "ff27a937",
   "metadata": {},
   "outputs": [],
   "source": [
    "tensor([[1., 1.]])"
   ]
  },
  {
   "cell_type": "markdown",
   "id": "f4a4ac29",
   "metadata": {},
   "source": [
    "# Zeros Tensor"
   ]
  },
  {
   "cell_type": "markdown",
   "id": "0c00b5c5",
   "metadata": {},
   "source": [
    "Zeros tensor is a tensor with all values equal to 0"
   ]
  },
  {
   "cell_type": "code",
   "execution_count": null,
   "id": "734d3f57",
   "metadata": {},
   "outputs": [],
   "source": [
    "import torch\n",
    "torch.zeros(1,2,3)"
   ]
  },
  {
   "cell_type": "code",
   "execution_count": null,
   "id": "93c58c3c",
   "metadata": {},
   "outputs": [],
   "source": [
    "tensor([[[0., 0., 0.],\n",
    "         [0., 0., 0.]]])"
   ]
  },
  {
   "cell_type": "markdown",
   "id": "91da1127",
   "metadata": {},
   "source": [
    "# Range Tensor"
   ]
  },
  {
   "cell_type": "markdown",
   "id": "009ac72a",
   "metadata": {},
   "source": [
    "If we want to create a tensor with values from 0 to n-1, we can use the torch.arange(n) method."
   ]
  },
  {
   "cell_type": "code",
   "execution_count": null,
   "id": "cae6b1cd",
   "metadata": {},
   "outputs": [],
   "source": [
    "import torch\n",
    "torch.arange(1, 10)"
   ]
  },
  {
   "cell_type": "code",
   "execution_count": null,
   "id": "975615ae",
   "metadata": {},
   "outputs": [],
   "source": [
    "tensor([1, 2, 3, 4, 5, 6, 7, 8, 9])"
   ]
  },
  {
   "cell_type": "code",
   "execution_count": null,
   "id": "dc7897fd",
   "metadata": {},
   "outputs": [],
   "source": [
    "torch.arange(-3, 3, 2)"
   ]
  },
  {
   "cell_type": "code",
   "execution_count": null,
   "id": "d18030fc",
   "metadata": {},
   "outputs": [],
   "source": [
    "tensor([-3, -1,  1])"
   ]
  },
  {
   "cell_type": "markdown",
   "id": "e1fbaa88",
   "metadata": {},
   "source": [
    "# Full"
   ]
  },
  {
   "cell_type": "markdown",
   "id": "b2673437",
   "metadata": {},
   "source": [
    "If we want to create a tensor with all values equal to a constant, we can use the torch.full() method."
   ]
  },
  {
   "cell_type": "code",
   "execution_count": null,
   "id": "4deaa3fa",
   "metadata": {},
   "outputs": [],
   "source": [
    "import torch\n",
    "torch.full((2, ), 42)"
   ]
  },
  {
   "cell_type": "code",
   "execution_count": null,
   "id": "ada0921a",
   "metadata": {},
   "outputs": [],
   "source": [
    "tensor([42, 42])"
   ]
  },
  {
   "cell_type": "code",
   "execution_count": null,
   "id": "62d799aa",
   "metadata": {},
   "outputs": [],
   "source": [
    "import torch\n",
    "torch.full((2, 3), 42)"
   ]
  },
  {
   "cell_type": "code",
   "execution_count": null,
   "id": "ece72234",
   "metadata": {},
   "outputs": [],
   "source": [
    "tensor([[42, 42, 42],\n",
    "        [42, 42, 42]])"
   ]
  },
  {
   "cell_type": "markdown",
   "id": "5a491e50",
   "metadata": {},
   "source": [
    "If we don’t have full method, we can use ones method and multiply it with the constant."
   ]
  },
  {
   "cell_type": "code",
   "execution_count": null,
   "id": "23155e84",
   "metadata": {},
   "outputs": [],
   "source": [
    "import torch\n",
    "torch.ones(2, 3) * 42"
   ]
  },
  {
   "cell_type": "code",
   "execution_count": null,
   "id": "a4a26096",
   "metadata": {},
   "outputs": [],
   "source": [
    "tensor([[42., 42., 42.],\n",
    "        [42., 42., 42.]])"
   ]
  },
  {
   "cell_type": "markdown",
   "id": "b7571350",
   "metadata": {},
   "source": [
    "# Tensor Operations"
   ]
  },
  {
   "cell_type": "markdown",
   "id": "087a3dfe",
   "metadata": {},
   "source": [
    "We can do normal arithmetic operations on tensor:"
   ]
  },
  {
   "cell_type": "code",
   "execution_count": null,
   "id": "a857909b",
   "metadata": {},
   "outputs": [],
   "source": [
    "x = torch.tensor(42)\n",
    "print(x + 2)\n",
    "print(x * 3)\n",
    "print(x ** 2)\n",
    "print(x / 2)"
   ]
  },
  {
   "cell_type": "code",
   "execution_count": null,
   "id": "fd6b67c8",
   "metadata": {},
   "outputs": [],
   "source": [
    "tensor(44)\n",
    "tensor(126)\n",
    "tensor(1764)\n",
    "tensor(21.)"
   ]
  },
  {
   "cell_type": "markdown",
   "id": "55111519",
   "metadata": {},
   "source": [
    "We can do similar operations on higher dimensional tensors:"
   ]
  },
  {
   "cell_type": "code",
   "execution_count": null,
   "id": "d474746e",
   "metadata": {},
   "outputs": [],
   "source": [
    "x = torch.tensor([1, 2])\n",
    "print(x + 1)\n",
    "\n",
    "x = torch.tensor([[1, 2], [3, 4]])\n",
    "print(x + 1)"
   ]
  },
  {
   "cell_type": "code",
   "execution_count": null,
   "id": "c6134c0c",
   "metadata": {},
   "outputs": [],
   "source": [
    "tensor([2, 3])\n",
    "tensor([[2, 3],\n",
    "        [4, 5]])"
   ]
  },
  {
   "cell_type": "markdown",
   "id": "0d6a094b",
   "metadata": {},
   "source": [
    "Wow from mathematic lesson, didn’t we learn that addition operations are only defined for tensors with the same shape? How come we can add a scalar tensor (0 dim) with a 2 dim tensor?"
   ]
  },
  {
   "cell_type": "markdown",
   "id": "98b2ab2a",
   "metadata": {},
   "source": [
    "This is because of broadcasting. Pytorch will automatically broadcast the scalar tensor to match the shape of the other tensor."
   ]
  },
  {
   "cell_type": "markdown",
   "id": "d479b7ad",
   "metadata": {},
   "source": [
    "So,"
   ]
  },
  {
   "cell_type": "markdown",
   "id": "4eca1e43",
   "metadata": {},
   "source": [
    "\\[\n",
    "\\begin{bmatrix}\n",
    "1 & 2 & 3 \\\\\n",
    "4 & 5 & 6 \\\\\n",
    "\\end{bmatrix}\n",
    "+ 1\n",
    "\\]"
   ]
  },
  {
   "cell_type": "markdown",
   "id": "aad3c923",
   "metadata": {},
   "source": [
    "would become"
   ]
  },
  {
   "cell_type": "markdown",
   "id": "96db98b8",
   "metadata": {},
   "source": [
    "\\[\n",
    "\\begin{bmatrix}\n",
    "1 & 2 & 3 \\\\\n",
    "4 & 5 & 6 \\\\\n",
    "\\end{bmatrix}\n",
    "+\n",
    "\\begin{bmatrix}\n",
    "1 & 1 & 1 \\\\\n",
    "1 & 1 & 1 \\\\\n",
    "\\end{bmatrix}\n",
    "\\]"
   ]
  },
  {
   "cell_type": "markdown",
   "id": "8ba824a0",
   "metadata": {},
   "source": [
    "# Broadcasting"
   ]
  },
  {
   "cell_type": "markdown",
   "id": "5514d9f9",
   "metadata": {},
   "source": [
    "So how does broadcasting work?"
   ]
  },
  {
   "cell_type": "markdown",
   "id": "aa198e1e",
   "metadata": {},
   "source": [
    "Taken from Pytorch Docs:"
   ]
  },
  {
   "cell_type": "markdown",
   "id": "336e3815",
   "metadata": {},
   "source": [
    "Two tensors are “broadcastable” if the following rules hold:"
   ]
  },
  {
   "cell_type": "markdown",
   "id": "2ec20fd5",
   "metadata": {},
   "source": [
    "Broadcasting rules:"
   ]
  },
  {
   "cell_type": "code",
   "execution_count": null,
   "id": "a8d51c0b",
   "metadata": {},
   "outputs": [],
   "source": [
    "import torch\n",
    "torch.full((1,), 5) + torch.ones(3)"
   ]
  },
  {
   "cell_type": "code",
   "execution_count": null,
   "id": "a2e324cc",
   "metadata": {},
   "outputs": [],
   "source": [
    "tensor([6., 6., 6.])"
   ]
  },
  {
   "cell_type": "markdown",
   "id": "f45fc1bc",
   "metadata": {},
   "source": [
    "\\[\n",
    "\\begin{bmatrix}\n",
    "5\n",
    "\\end{bmatrix}\n",
    "+\n",
    "\\begin{bmatrix}\n",
    "1 \\\\\n",
    "1 \\\\\n",
    "1\n",
    "\\end{bmatrix}\n",
    "=\n",
    "\\begin{bmatrix}\n",
    "5 \\\\\n",
    "5 \\\\\n",
    "5\n",
    "\\end{bmatrix}\n",
    "+\n",
    "\\begin{bmatrix}\n",
    "1 \\\\\n",
    "1 \\\\\n",
    "1\n",
    "\\end{bmatrix}\n",
    "\\]"
   ]
  },
  {
   "cell_type": "code",
   "execution_count": null,
   "id": "0e9df033",
   "metadata": {},
   "outputs": [],
   "source": [
    "import torch\n",
    "# Error\n",
    "torch.ones(3) + torch.ones(5)"
   ]
  },
  {
   "cell_type": "markdown",
   "id": "1f8f55d7",
   "metadata": {},
   "source": [
    "\\[\n",
    "\\begin{bmatrix}\n",
    "1 \\\\\n",
    "1 \\\\\n",
    "1\n",
    "\\end{bmatrix}\n",
    "+\n",
    "\\begin{bmatrix}\n",
    "1 \\\\\n",
    "1 \\\\\n",
    "1 \\\\\n",
    "1 \\\\\n",
    "1\n",
    "\\end{bmatrix}\n",
    "=\n",
    "error\n",
    "\\]"
   ]
  },
  {
   "cell_type": "markdown",
   "id": "bad9894c",
   "metadata": {},
   "source": [
    "Why is it an error?"
   ]
  },
  {
   "cell_type": "markdown",
   "id": "789aed5e",
   "metadata": {},
   "source": [
    "Remember this rule:"
   ]
  },
  {
   "cell_type": "markdown",
   "id": "f15c92fa",
   "metadata": {},
   "source": [
    "When iterating over the dimension sizes, starting at the trailing dimension, the dimension sizes must either be equal, one of them is 1, or one of them does not exist."
   ]
  },
  {
   "cell_type": "markdown",
   "id": "037d203a",
   "metadata": {},
   "source": [
    "The trailing dimension of the first tensor is 3, while the trailing dimension of the second tensor is 5. They are not equal, one of them is not 1, and one of them does not exist. So it’s an error."
   ]
  },
  {
   "cell_type": "markdown",
   "id": "4d1284a0",
   "metadata": {},
   "source": [
    "Let’s try again"
   ]
  },
  {
   "cell_type": "code",
   "execution_count": null,
   "id": "89c50e13",
   "metadata": {},
   "outputs": [],
   "source": [
    "import torch\n",
    "\n",
    "torch.full((2, 2), 5) + torch.full((1, 2), 3)"
   ]
  },
  {
   "cell_type": "code",
   "execution_count": null,
   "id": "cedd3cba",
   "metadata": {},
   "outputs": [],
   "source": [
    "tensor([[8, 8],\n",
    "        [8, 8]])"
   ]
  },
  {
   "cell_type": "markdown",
   "id": "cadc8037",
   "metadata": {},
   "source": [
    "\\[\n",
    "\\begin{bmatrix}\n",
    "5 && 5 \\\\\n",
    "5 && 5 \\\\\n",
    "\\end{bmatrix}\n",
    "+\n",
    "\\begin{bmatrix}\n",
    "3 && 3\n",
    "\\end{bmatrix}\n",
    "=\n",
    "\\begin{bmatrix}\n",
    "5 && 5 \\\\\n",
    "5 && 5 \\\\\n",
    "\\end{bmatrix}\n",
    "+\n",
    "\\begin{bmatrix}\n",
    "3 && 3 \\\\\n",
    "3 && 3 \\\\\n",
    "\\end{bmatrix}\n",
    "\\]"
   ]
  },
  {
   "cell_type": "code",
   "execution_count": null,
   "id": "3222e447",
   "metadata": {},
   "outputs": [],
   "source": [
    "import torch\n",
    "\n",
    "x = torch.full((3, 4, 2), 5)\n",
    "y = torch.full((2,), 3) \n",
    "z = x + y\n",
    "print('x =', x)\n",
    "print('y =', y)\n",
    "print('z = ',z)"
   ]
  },
  {
   "cell_type": "code",
   "execution_count": null,
   "id": "e68da5c8",
   "metadata": {},
   "outputs": [],
   "source": [
    "x = tensor([[[5, 5],\n",
    "         [5, 5],\n",
    "         [5, 5],\n",
    "         [5, 5]],\n",
    "\n",
    "        [[5, 5],\n",
    "         [5, 5],\n",
    "         [5, 5],\n",
    "         [5, 5]],\n",
    "\n",
    "        [[5, 5],\n",
    "         [5, 5],\n",
    "         [5, 5],\n",
    "         [5, 5]]])\n",
    "y = tensor([3, 3])\n",
    "z =  tensor([[[8, 8],\n",
    "         [8, 8],\n",
    "         [8, 8],\n",
    "         [8, 8]],\n",
    "\n",
    "        [[8, 8],\n",
    "         [8, 8],\n",
    "         [8, 8],\n",
    "         [8, 8]],\n",
    "\n",
    "        [[8, 8],\n",
    "         [8, 8],\n",
    "         [8, 8],\n",
    "         [8, 8]]])"
   ]
  },
  {
   "cell_type": "markdown",
   "id": "b661ba89",
   "metadata": {},
   "source": [
    "# Matrix Operation"
   ]
  },
  {
   "cell_type": "markdown",
   "id": "f5f8cc56",
   "metadata": {},
   "source": [
    "Tensor can be multiplied with another tensor using the matmul() method or the @ operator."
   ]
  },
  {
   "cell_type": "code",
   "execution_count": null,
   "id": "28ff21df",
   "metadata": {},
   "outputs": [],
   "source": [
    "import torch\n",
    "\n",
    "x = torch.tensor([[3, 4]])\n",
    "print(x.shape)\n",
    "y = torch.tensor([[1, 2, 3], [4, 5, 6]])\n",
    "print(y.shape)\n",
    "x @ y\n",
    "x.matmul(y)\n",
    "x.mm(y)"
   ]
  },
  {
   "cell_type": "code",
   "execution_count": null,
   "id": "323c9412",
   "metadata": {},
   "outputs": [],
   "source": [
    "torch.Size([1, 2])\n",
    "torch.Size([2, 3])"
   ]
  },
  {
   "cell_type": "code",
   "execution_count": null,
   "id": "c44e4a93",
   "metadata": {},
   "outputs": [],
   "source": [
    "tensor([[19, 26, 33]])"
   ]
  },
  {
   "cell_type": "markdown",
   "id": "740c5c70",
   "metadata": {},
   "source": [
    "\\[\n",
    "\\begin{bmatrix}\n",
    "3 && 4\n",
    "\\end{bmatrix}\n",
    "\\dot\\\\\n",
    "\\begin{bmatrix}\n",
    "1 && 2 && 3 \\\\\n",
    "4 && 5 && 6\n",
    "\\end{bmatrix}\n",
    "\\]"
   ]
  },
  {
   "cell_type": "markdown",
   "id": "a63852b2",
   "metadata": {},
   "source": [
    "Be careful not to be confused with the * operator. The * operator is element-wise multiplication."
   ]
  },
  {
   "cell_type": "code",
   "execution_count": null,
   "id": "56745cc6",
   "metadata": {},
   "outputs": [],
   "source": [
    "import torch\n",
    "\n",
    "x = torch.tensor([[3, 4]])\n",
    "x * x"
   ]
  },
  {
   "cell_type": "code",
   "execution_count": null,
   "id": "9f768f3a",
   "metadata": {},
   "outputs": [],
   "source": [
    "tensor([[ 9, 16]])"
   ]
  },
  {
   "cell_type": "markdown",
   "id": "01d26b81",
   "metadata": {},
   "source": [
    "# Transpose"
   ]
  },
  {
   "cell_type": "markdown",
   "id": "8a960a9a",
   "metadata": {},
   "source": [
    "We can transpose a tensor using the t method."
   ]
  },
  {
   "cell_type": "code",
   "execution_count": null,
   "id": "2e80c778",
   "metadata": {},
   "outputs": [],
   "source": [
    "import torch\n",
    "\n",
    "x = torch.tensor([[3, 4]])\n",
    "print(x)\n",
    "print(x.shape)\n",
    "print(x.T)\n",
    "print(x.T.shape)"
   ]
  },
  {
   "cell_type": "code",
   "execution_count": null,
   "id": "86ac1eea",
   "metadata": {},
   "outputs": [],
   "source": [
    "tensor([[3, 4]])\n",
    "torch.Size([1, 2])\n",
    "tensor([[3],\n",
    "        [4]])\n",
    "torch.Size([2, 1])"
   ]
  },
  {
   "cell_type": "markdown",
   "id": "a9973ecc",
   "metadata": {},
   "source": [
    "# Neural Network with Pytorch"
   ]
  },
  {
   "cell_type": "markdown",
   "id": "5318cb25",
   "metadata": {},
   "source": [
    "Now we have learned the required knowledge to build a neural network with pytorch."
   ]
  },
  {
   "cell_type": "code",
   "execution_count": null,
   "id": "9c60f8fd",
   "metadata": {},
   "outputs": [],
   "source": [
    "from fastbook import *\n",
    "\n",
    "\n",
    "# Draw neurons with multiple inputs and weights\n",
    "gv('''\n",
    "z[shape=box3d width=1 height=0.7]\n",
    "bias[shape=circle width=0.3]\n",
    "x_0[label=1]\n",
    "x_1[label=2]\n",
    "// Subgraph to force alignment on x-axis\n",
    "subgraph {\n",
    "    rank=same;\n",
    "    z;\n",
    "    bias;\n",
    "    alignmentNode [style=invis, width=0]; // invisible node for alignment\n",
    "    bias -> alignmentNode [style=invis]; // invisible edge\n",
    "    z -> alignmentNode [style=invis]; // invisible edge\n",
    "}\n",
    "x_0->z [label=\"3\"]\n",
    "x_1->z [label=\"4\"]\n",
    "bias->z [label=\"5\" pos=\"0,1.2!\"]\n",
    "z->a \n",
    "a->output [label=\"ReLU\"]\n",
    "''')"
   ]
  },
  {
   "cell_type": "markdown",
   "id": "85eefbcf",
   "metadata": {},
   "source": []
  },
  {
   "cell_type": "markdown",
   "id": "4ebbdce9",
   "metadata": {},
   "source": [
    "Remember the equation"
   ]
  },
  {
   "cell_type": "markdown",
   "id": "91657f7c",
   "metadata": {},
   "source": [
    "\\[\n",
    "z = wx + b\\\\\n",
    "a = ReLU(z)\n",
    "\\]"
   ]
  },
  {
   "cell_type": "markdown",
   "id": "0891b8b8",
   "metadata": {},
   "source": [
    "Let’s represent it in pytorch"
   ]
  },
  {
   "cell_type": "code",
   "execution_count": null,
   "id": "95ba8e0b",
   "metadata": {},
   "outputs": [],
   "source": [
    "x = torch.tensor([[1],[2]])\n",
    "\n",
    "w = torch.tensor([3, 4])\n",
    "b = torch.tensor(5)\n",
    "z = w @ x + b\n",
    "a = torch.relu(z)\n",
    "a"
   ]
  },
  {
   "cell_type": "code",
   "execution_count": null,
   "id": "cf60acb0",
   "metadata": {},
   "outputs": [],
   "source": [
    "tensor([16])"
   ]
  },
  {
   "cell_type": "markdown",
   "id": "82b731ef",
   "metadata": {},
   "source": [
    "How about multiple layers? Easy!"
   ]
  },
  {
   "cell_type": "code",
   "execution_count": null,
   "id": "67493b8e",
   "metadata": {},
   "outputs": [],
   "source": [
    "from fastbook import *\n",
    "\n",
    "gv('''\n",
    "   x_0[label=1]\n",
    "   x_1[label=2]\n",
    "   a_0_0[label=\"b=3\"]\n",
    "   a_0_1[label=\"b=2\"]\n",
    "   a_1_0[label=\"b=1\"]\n",
    "   x_0 -> a_0_0 [label=-3]\n",
    "   x_0 -> a_0_1 [label=4]\n",
    "   x_1 -> a_0_0 [label=5]\n",
    "   x_1 -> a_0_1 [label=-6]\n",
    "   a_0_0 -> a_1_0 [label=7]\n",
    "   a_0_1 -> a_1_0 [label=8]\n",
    "   a_1_0 -> output\n",
    "   ''')"
   ]
  },
  {
   "cell_type": "markdown",
   "id": "19a792a3",
   "metadata": {},
   "source": []
  },
  {
   "cell_type": "code",
   "execution_count": null,
   "id": "383d23d2",
   "metadata": {},
   "outputs": [],
   "source": [
    "x = torch.tensor([[1],[2]])\n",
    "\n",
    "w_0 = torch.tensor([[-3, 5], [4, -6]])\n",
    "b_0 = torch.tensor([[3, 2]])\n",
    "a_0 = torch.relu(w_0 @ x + b_0)\n",
    "\n",
    "w_1 = torch.tensor([[7, 8]])\n",
    "b_1 = torch.tensor([[1]])\n",
    "a_1 = torch.relu(w_1 @ a_0 + b_1)\n",
    "a_1"
   ]
  },
  {
   "cell_type": "code",
   "execution_count": null,
   "id": "fb94822e",
   "metadata": {},
   "outputs": [],
   "source": [
    "tensor([[71]])"
   ]
  },
  {
   "cell_type": "markdown",
   "id": "db4dc0aa",
   "metadata": {},
   "source": [
    "# Exercise"
   ]
  },
  {
   "cell_type": "code",
   "execution_count": null,
   "id": "8a962780",
   "metadata": {},
   "outputs": [],
   "source": [
    "!pip install rggrader"
   ]
  },
  {
   "cell_type": "code",
   "execution_count": null,
   "id": "f587f11b",
   "metadata": {},
   "outputs": [],
   "source": [
    "# @title #### Student Identity\n",
    "student_id = \"your student id\" # @param {type:\"string\"}\n",
    "name = \"your name\" # @param {type:\"string\"}"
   ]
  },
  {
   "cell_type": "markdown",
   "id": "d18fa358",
   "metadata": {},
   "source": [
    "Implement the following neural network"
   ]
  },
  {
   "cell_type": "code",
   "execution_count": null,
   "id": "375273d2",
   "metadata": {},
   "outputs": [],
   "source": [
    "from fastbook import *\n",
    "\n",
    "gv('''\n",
    "   x_0[label=3]\n",
    "   a_0_0[label=\"b=-2, ReLU\"]\n",
    "   a_0_1[label=\"b=5, ReLU\"]\n",
    "   a_1_0[label=\"b=0, ReLU\"]\n",
    "   x_0 -> a_0_0 [label=-2]\n",
    "   x_0 -> a_0_1 [label=5]\n",
    "   a_0_0 -> a_1_0 [label=3]\n",
    "   a_0_1 -> a_1_0 [label=2]\n",
    "   \n",
    "   a_1_0 -> output\n",
    "   ''')"
   ]
  },
  {
   "cell_type": "markdown",
   "id": "fa33eb30",
   "metadata": {},
   "source": []
  },
  {
   "cell_type": "code",
   "execution_count": null,
   "id": "df840b0c",
   "metadata": {},
   "outputs": [],
   "source": [
    "from rggrader import submit\n",
    "\n",
    "# Put your code here\n",
    "answer = 0\n",
    "\n",
    "assignment_id = \"10_pytorch-basic\"\n",
    "question_id = \"00_single-input-nn\"\n",
    "submit(student_id, name, assignment_id, str(answer), question_id)"
   ]
  },
  {
   "cell_type": "code",
   "execution_count": null,
   "id": "09b0ae71",
   "metadata": {},
   "outputs": [],
   "source": [
    "from fastbook import *\n",
    "\n",
    "gv('''\n",
    "   x_0[label=3]\n",
    "   x_1[label=5]\n",
    "   a_0_0[label=\"b=8, ReLU\"]\n",
    "   a_0_1[label=\"b=-2, ReLU\"]\n",
    "   a_0_2[label=\"b=4, ReLU\"]\n",
    "   a_1_0[label=\"b=3, ReLU\"]\n",
    "   x_0 -> a_0_0 [label=-2]\n",
    "   x_0 -> a_0_1 [label=5]\n",
    "   x_0 -> a_0_2 [label=3]\n",
    "   x_1 -> a_0_0 [label=8]\n",
    "   x_1 -> a_0_1 [label=-2]\n",
    "   x_1 -> a_0_2 [label=4]\n",
    "   a_0_0 -> a_1_0 [label=3]\n",
    "   a_0_1 -> a_1_0 [label=2]\n",
    "   a_0_2 -> a_1_0 [label=8]\n",
    "   \n",
    "   a_1_0 -> output\n",
    "   ''')"
   ]
  },
  {
   "cell_type": "markdown",
   "id": "c9304bee",
   "metadata": {},
   "source": []
  },
  {
   "cell_type": "code",
   "execution_count": null,
   "id": "60137b05",
   "metadata": {},
   "outputs": [],
   "source": [
    "from rggrader import submit\n",
    "\n",
    "# Put your code here\n",
    "answer = 0\n",
    "\n",
    "assignment_id = \"10_pytorch-basic\"\n",
    "question_id = \"01_multi-input-nn\"\n",
    "submit(student_id, name, assignment_id, str(answer), question_id)"
   ]
  }
 ],
 "metadata": {},
 "nbformat": 4,
 "nbformat_minor": 5
}
