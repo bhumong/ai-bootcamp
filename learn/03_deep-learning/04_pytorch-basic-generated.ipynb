{
 "cells": [
  {
   "cell_type": "markdown",
   "id": "0b309ce6",
   "metadata": {},
   "source": [
    "# Pytorch Basic"
   ]
  },
  {
   "cell_type": "markdown",
   "id": "065d500f",
   "metadata": {},
   "source": [
    "Pytorch is a python library for deep learning. It provides a high level abstraction which make it easy to train deep neural networks."
   ]
  },
  {
   "cell_type": "markdown",
   "id": "24685fba",
   "metadata": {},
   "source": [
    "Let’s install pytorch first."
   ]
  },
  {
   "cell_type": "code",
   "execution_count": null,
   "id": "dc5a3c1e",
   "metadata": {},
   "outputs": [],
   "source": [
    "!pip install torch\n",
    "!pip install fastbook"
   ]
  },
  {
   "cell_type": "markdown",
   "id": "61d0d6d2",
   "metadata": {},
   "source": [
    "For this tutorial, we will use the following version:"
   ]
  },
  {
   "cell_type": "code",
   "execution_count": null,
   "id": "0f1bc08e",
   "metadata": {},
   "outputs": [],
   "source": [
    "# Check pytorch version\n",
    "import torch\n",
    "print(torch.__version__)"
   ]
  },
  {
   "cell_type": "code",
   "execution_count": null,
   "id": "99af8c85",
   "metadata": {},
   "outputs": [],
   "source": [
    "2.0.0"
   ]
  },
  {
   "cell_type": "markdown",
   "id": "12a004d1",
   "metadata": {},
   "source": [
    "# Tensor"
   ]
  },
  {
   "cell_type": "markdown",
   "id": "924b6a62",
   "metadata": {},
   "source": [
    "Tensor is the basic data structure in pytorch. It is similar to numpy array, but it provides automatic differentiation and it can be run on GPU."
   ]
  },
  {
   "cell_type": "markdown",
   "id": "20d02c2b",
   "metadata": {},
   "source": [
    "If we look at the trend, it’s current the most popular deep learning library"
   ]
  },
  {
   "cell_type": "markdown",
   "id": "0744cd23",
   "metadata": {},
   "source": [
    "The capability of running on GPU is very important for deep learning. It can speed up the training process by a lot by parallelizing the computation. Watch this demo: GPU vs CPU Demonstration"
   ]
  },
  {
   "cell_type": "markdown",
   "id": "907a533c",
   "metadata": {},
   "source": [
    "Tensor is n-dimensional array. When n is 0, it is a scalar. When n is 1, it is a vector. When n is 2, it is a matrix. When n is 3, it is a cube. When n is 4, it is a 4-dimensional array. And so on."
   ]
  },
  {
   "cell_type": "code",
   "execution_count": null,
   "id": "1d554bc5",
   "metadata": {},
   "outputs": [],
   "source": [
    "# 0 dimension tensor\n",
    "import torch\n",
    "\n",
    "x = torch.tensor(42)\n",
    "print(x)"
   ]
  },
  {
   "cell_type": "code",
   "execution_count": null,
   "id": "45fbb07e",
   "metadata": {},
   "outputs": [],
   "source": [
    "tensor(42)"
   ]
  },
  {
   "cell_type": "code",
   "execution_count": null,
   "id": "839b9727",
   "metadata": {},
   "outputs": [],
   "source": [
    "# 1 dimension tensor\n",
    "import torch\n",
    "\n",
    "x = torch.tensor([42, 43])\n",
    "print(x)"
   ]
  },
  {
   "cell_type": "code",
   "execution_count": null,
   "id": "32c8b4f6",
   "metadata": {},
   "outputs": [],
   "source": [
    "tensor([42, 43])"
   ]
  },
  {
   "cell_type": "code",
   "execution_count": null,
   "id": "a00c1837",
   "metadata": {},
   "outputs": [],
   "source": [
    "# 2 dimension tensor\n",
    "import torch\n",
    "\n",
    "x = torch.tensor([[42, 43], [44, 45]])\n",
    "print(x)"
   ]
  },
  {
   "cell_type": "code",
   "execution_count": null,
   "id": "196b26b1",
   "metadata": {},
   "outputs": [],
   "source": [
    "tensor([[42, 43],\n",
    "        [44, 45]])"
   ]
  },
  {
   "cell_type": "code",
   "execution_count": null,
   "id": "48317133",
   "metadata": {},
   "outputs": [],
   "source": [
    "# 3 dimension tensor\n",
    "import torch\n",
    "\n",
    "x = torch.tensor([[[42, 43], [44, 45]], [[46, 47], [48, 49]]])\n",
    "print(x)"
   ]
  },
  {
   "cell_type": "code",
   "execution_count": null,
   "id": "a651893c",
   "metadata": {},
   "outputs": [],
   "source": [
    "tensor([[[42, 43],\n",
    "         [44, 45]],\n",
    "\n",
    "        [[46, 47],\n",
    "         [48, 49]]])"
   ]
  },
  {
   "cell_type": "markdown",
   "id": "d55b8e0d",
   "metadata": {},
   "source": [
    "To check the dimension of a tensor, we can use the dim() method."
   ]
  },
  {
   "cell_type": "code",
   "execution_count": null,
   "id": "a77aae34",
   "metadata": {},
   "outputs": [],
   "source": [
    "x = torch.tensor([[[42, 43], [44, 45]], [[46, 47], [48, 49]]])\n",
    "print(x.dim())\n",
    "\n",
    "x = torch.tensor(42)\n",
    "print(x.dim())"
   ]
  },
  {
   "cell_type": "code",
   "execution_count": null,
   "id": "d737da73",
   "metadata": {},
   "outputs": [],
   "source": [
    "3\n",
    "0"
   ]
  },
  {
   "cell_type": "markdown",
   "id": "717fcbc3",
   "metadata": {},
   "source": [
    "# Constructing Tensor"
   ]
  },
  {
   "cell_type": "markdown",
   "id": "bb8e4e55",
   "metadata": {},
   "source": [
    "# Random Tensor"
   ]
  },
  {
   "cell_type": "code",
   "execution_count": null,
   "id": "c98a7017",
   "metadata": {},
   "outputs": [],
   "source": [
    "import torch\n",
    "torch.rand(5, 3)"
   ]
  },
  {
   "cell_type": "code",
   "execution_count": null,
   "id": "e8ec05b2",
   "metadata": {},
   "outputs": [],
   "source": [
    "tensor([[0.2247, 0.7425, 0.7174],\n",
    "        [0.6279, 0.4899, 0.3813],\n",
    "        [0.5859, 0.6029, 0.3960],\n",
    "        [0.3568, 0.9450, 0.2779],\n",
    "        [0.8900, 0.5270, 0.5401]])"
   ]
  },
  {
   "cell_type": "markdown",
   "id": "2281bd12",
   "metadata": {},
   "source": [
    "The parameters of the rand() method are the dimension of the tensor. For example, torch.rand(2, 3) will create a 2x3 tensor with random values."
   ]
  },
  {
   "cell_type": "code",
   "execution_count": null,
   "id": "594504ad",
   "metadata": {},
   "outputs": [],
   "source": [
    "import torch\n",
    "# One dimensional tensor containing 5 random numbers\n",
    "torch.rand(5)"
   ]
  },
  {
   "cell_type": "code",
   "execution_count": null,
   "id": "6db2669f",
   "metadata": {},
   "outputs": [],
   "source": [
    "tensor([0.3616, 0.8951, 0.4249, 0.0801, 0.5676])"
   ]
  },
  {
   "cell_type": "markdown",
   "id": "f2808109",
   "metadata": {},
   "source": [
    "# Ones Tensor"
   ]
  },
  {
   "cell_type": "markdown",
   "id": "3e4b2f06",
   "metadata": {},
   "source": [
    "Ones tensor is a tensor with all values equal to 1"
   ]
  },
  {
   "cell_type": "code",
   "execution_count": null,
   "id": "37749c74",
   "metadata": {},
   "outputs": [],
   "source": [
    "import torch\n",
    "torch.ones(2, 3)"
   ]
  },
  {
   "cell_type": "code",
   "execution_count": null,
   "id": "4cbf8d2a",
   "metadata": {},
   "outputs": [],
   "source": [
    "tensor([[1., 1., 1.],\n",
    "        [1., 1., 1.]])"
   ]
  },
  {
   "cell_type": "markdown",
   "id": "ccc9d6fa",
   "metadata": {},
   "source": [
    "Quiz: what’s the output of torch.ones(1, 2)?"
   ]
  },
  {
   "cell_type": "code",
   "execution_count": null,
   "id": "eff30e2e",
   "metadata": {},
   "outputs": [],
   "source": [
    "import torch\n",
    "torch.ones(1, 2)"
   ]
  },
  {
   "cell_type": "code",
   "execution_count": null,
   "id": "2607eef9",
   "metadata": {},
   "outputs": [],
   "source": [
    "tensor([[1., 1.]])"
   ]
  },
  {
   "cell_type": "markdown",
   "id": "a88facaf",
   "metadata": {},
   "source": [
    "# Zeros Tensor"
   ]
  },
  {
   "cell_type": "markdown",
   "id": "754d7f50",
   "metadata": {},
   "source": [
    "Zeros tensor is a tensor with all values equal to 0"
   ]
  },
  {
   "cell_type": "code",
   "execution_count": null,
   "id": "9d514c02",
   "metadata": {},
   "outputs": [],
   "source": [
    "import torch\n",
    "torch.zeros(1,2,3)"
   ]
  },
  {
   "cell_type": "code",
   "execution_count": null,
   "id": "a6703901",
   "metadata": {},
   "outputs": [],
   "source": [
    "tensor([[[0., 0., 0.],\n",
    "         [0., 0., 0.]]])"
   ]
  },
  {
   "cell_type": "markdown",
   "id": "fff21dd8",
   "metadata": {},
   "source": [
    "# Range Tensor"
   ]
  },
  {
   "cell_type": "markdown",
   "id": "c21dcaec",
   "metadata": {},
   "source": [
    "If we want to create a tensor with values from 0 to n-1, we can use the torch.arange(n) method."
   ]
  },
  {
   "cell_type": "code",
   "execution_count": null,
   "id": "a6c9ce50",
   "metadata": {},
   "outputs": [],
   "source": [
    "import torch\n",
    "torch.arange(1, 10)"
   ]
  },
  {
   "cell_type": "code",
   "execution_count": null,
   "id": "1660d835",
   "metadata": {},
   "outputs": [],
   "source": [
    "tensor([1, 2, 3, 4, 5, 6, 7, 8, 9])"
   ]
  },
  {
   "cell_type": "code",
   "execution_count": null,
   "id": "53a119c6",
   "metadata": {},
   "outputs": [],
   "source": [
    "torch.arange(-3, 3, 2)"
   ]
  },
  {
   "cell_type": "code",
   "execution_count": null,
   "id": "c07bc2ae",
   "metadata": {},
   "outputs": [],
   "source": [
    "tensor([-3, -1,  1])"
   ]
  },
  {
   "cell_type": "markdown",
   "id": "22c9ea90",
   "metadata": {},
   "source": [
    "# Full"
   ]
  },
  {
   "cell_type": "markdown",
   "id": "051df7ab",
   "metadata": {},
   "source": [
    "If we want to create a tensor with all values equal to a constant, we can use the torch.full() method."
   ]
  },
  {
   "cell_type": "code",
   "execution_count": null,
   "id": "6b88aa20",
   "metadata": {},
   "outputs": [],
   "source": [
    "import torch\n",
    "torch.full((2, ), 42)"
   ]
  },
  {
   "cell_type": "code",
   "execution_count": null,
   "id": "ad179284",
   "metadata": {},
   "outputs": [],
   "source": [
    "tensor([42, 42])"
   ]
  },
  {
   "cell_type": "code",
   "execution_count": null,
   "id": "77c168b5",
   "metadata": {},
   "outputs": [],
   "source": [
    "import torch\n",
    "torch.full((2, 3), 42)"
   ]
  },
  {
   "cell_type": "code",
   "execution_count": null,
   "id": "64670211",
   "metadata": {},
   "outputs": [],
   "source": [
    "tensor([[42, 42, 42],\n",
    "        [42, 42, 42]])"
   ]
  },
  {
   "cell_type": "markdown",
   "id": "de4621c3",
   "metadata": {},
   "source": [
    "If we don’t have full method, we can use ones method and multiply it with the constant."
   ]
  },
  {
   "cell_type": "code",
   "execution_count": null,
   "id": "29d18949",
   "metadata": {},
   "outputs": [],
   "source": [
    "import torch\n",
    "torch.ones(2, 3) * 42"
   ]
  },
  {
   "cell_type": "code",
   "execution_count": null,
   "id": "6b441fae",
   "metadata": {},
   "outputs": [],
   "source": [
    "tensor([[42., 42., 42.],\n",
    "        [42., 42., 42.]])"
   ]
  },
  {
   "cell_type": "markdown",
   "id": "cf249727",
   "metadata": {},
   "source": [
    "# Tensor Operations"
   ]
  },
  {
   "cell_type": "markdown",
   "id": "9c006819",
   "metadata": {},
   "source": [
    "We can do normal arithmetic operations on tensor:"
   ]
  },
  {
   "cell_type": "code",
   "execution_count": null,
   "id": "051318d6",
   "metadata": {},
   "outputs": [],
   "source": [
    "x = torch.tensor(42)\n",
    "print(x + 2)\n",
    "print(x * 3)\n",
    "print(x ** 2)\n",
    "print(x / 2)"
   ]
  },
  {
   "cell_type": "code",
   "execution_count": null,
   "id": "668e4e08",
   "metadata": {},
   "outputs": [],
   "source": [
    "tensor(44)\n",
    "tensor(126)\n",
    "tensor(1764)\n",
    "tensor(21.)"
   ]
  },
  {
   "cell_type": "markdown",
   "id": "513bd868",
   "metadata": {},
   "source": [
    "We can do similar operations on higher dimensional tensors:"
   ]
  },
  {
   "cell_type": "code",
   "execution_count": null,
   "id": "6a0b5e68",
   "metadata": {},
   "outputs": [],
   "source": [
    "x = torch.tensor([1, 2])\n",
    "print(x + 1)\n",
    "\n",
    "x = torch.tensor([[1, 2], [3, 4]])\n",
    "print(x + 1)"
   ]
  },
  {
   "cell_type": "code",
   "execution_count": null,
   "id": "ec8fe1f7",
   "metadata": {},
   "outputs": [],
   "source": [
    "tensor([2, 3])\n",
    "tensor([[2, 3],\n",
    "        [4, 5]])"
   ]
  },
  {
   "cell_type": "markdown",
   "id": "c8d55f61",
   "metadata": {},
   "source": [
    "Wow from mathematic lesson, didn’t we learn that addition operations are only defined for tensors with the same shape? How come we can add a scalar tensor (0 dim) with a 2 dim tensor?"
   ]
  },
  {
   "cell_type": "markdown",
   "id": "a560bd39",
   "metadata": {},
   "source": [
    "This is because of broadcasting. Pytorch will automatically broadcast the scalar tensor to match the shape of the other tensor."
   ]
  },
  {
   "cell_type": "markdown",
   "id": "5bd631b4",
   "metadata": {},
   "source": [
    "So,"
   ]
  },
  {
   "cell_type": "markdown",
   "id": "b664e081",
   "metadata": {},
   "source": [
    "\\[\n",
    "\\begin{bmatrix}\n",
    "1 & 2 & 3 \\\\\n",
    "4 & 5 & 6 \\\\\n",
    "\\end{bmatrix}\n",
    "+ 1\n",
    "\\]"
   ]
  },
  {
   "cell_type": "markdown",
   "id": "cc779747",
   "metadata": {},
   "source": [
    "would become"
   ]
  },
  {
   "cell_type": "markdown",
   "id": "92cd9947",
   "metadata": {},
   "source": [
    "\\[\n",
    "\\begin{bmatrix}\n",
    "1 & 2 & 3 \\\\\n",
    "4 & 5 & 6 \\\\\n",
    "\\end{bmatrix}\n",
    "+\n",
    "\\begin{bmatrix}\n",
    "1 & 1 & 1 \\\\\n",
    "1 & 1 & 1 \\\\\n",
    "\\end{bmatrix}\n",
    "\\]"
   ]
  },
  {
   "cell_type": "markdown",
   "id": "f8071468",
   "metadata": {},
   "source": [
    "# Broadcasting"
   ]
  },
  {
   "cell_type": "markdown",
   "id": "46b2252d",
   "metadata": {},
   "source": [
    "So how does broadcasting work?"
   ]
  },
  {
   "cell_type": "markdown",
   "id": "f485755d",
   "metadata": {},
   "source": [
    "Taken from Pytorch Docs:"
   ]
  },
  {
   "cell_type": "markdown",
   "id": "4d4dfd71",
   "metadata": {},
   "source": [
    "Two tensors are “broadcastable” if the following rules hold:"
   ]
  },
  {
   "cell_type": "markdown",
   "id": "c8e42b57",
   "metadata": {},
   "source": [
    "Broadcasting rules:"
   ]
  },
  {
   "cell_type": "code",
   "execution_count": null,
   "id": "5ed2d74b",
   "metadata": {},
   "outputs": [],
   "source": [
    "import torch\n",
    "torch.full((1,), 5) + torch.ones(3)"
   ]
  },
  {
   "cell_type": "code",
   "execution_count": null,
   "id": "35a05a6c",
   "metadata": {},
   "outputs": [],
   "source": [
    "tensor([6., 6., 6.])"
   ]
  },
  {
   "cell_type": "markdown",
   "id": "6c826b13",
   "metadata": {},
   "source": [
    "\\[\n",
    "\\begin{bmatrix}\n",
    "5\n",
    "\\end{bmatrix}\n",
    "+\n",
    "\\begin{bmatrix}\n",
    "1 \\\\\n",
    "1 \\\\\n",
    "1\n",
    "\\end{bmatrix}\n",
    "=\n",
    "\\begin{bmatrix}\n",
    "5 \\\\\n",
    "5 \\\\\n",
    "5\n",
    "\\end{bmatrix}\n",
    "+\n",
    "\\begin{bmatrix}\n",
    "1 \\\\\n",
    "1 \\\\\n",
    "1\n",
    "\\end{bmatrix}\n",
    "\\]"
   ]
  },
  {
   "cell_type": "code",
   "execution_count": null,
   "id": "21d0ef3a",
   "metadata": {},
   "outputs": [],
   "source": [
    "import torch\n",
    "# Error\n",
    "torch.ones(3) + torch.ones(5)"
   ]
  },
  {
   "cell_type": "markdown",
   "id": "e99ad118",
   "metadata": {},
   "source": [
    "\\[\n",
    "\\begin{bmatrix}\n",
    "1 \\\\\n",
    "1 \\\\\n",
    "1\n",
    "\\end{bmatrix}\n",
    "+\n",
    "\\begin{bmatrix}\n",
    "1 \\\\\n",
    "1 \\\\\n",
    "1 \\\\\n",
    "1 \\\\\n",
    "1\n",
    "\\end{bmatrix}\n",
    "=\n",
    "error\n",
    "\\]"
   ]
  },
  {
   "cell_type": "markdown",
   "id": "8aa6a25a",
   "metadata": {},
   "source": [
    "Why is it an error?"
   ]
  },
  {
   "cell_type": "markdown",
   "id": "4e0d74f8",
   "metadata": {},
   "source": [
    "Remember this rule:"
   ]
  },
  {
   "cell_type": "markdown",
   "id": "df834ecc",
   "metadata": {},
   "source": [
    "When iterating over the dimension sizes, starting at the trailing dimension, the dimension sizes must either be equal, one of them is 1, or one of them does not exist."
   ]
  },
  {
   "cell_type": "markdown",
   "id": "c6460d11",
   "metadata": {},
   "source": [
    "The trailing dimension of the first tensor is 3, while the trailing dimension of the second tensor is 5. They are not equal, one of them is not 1, and one of them does not exist. So it’s an error."
   ]
  },
  {
   "cell_type": "markdown",
   "id": "9378bdf4",
   "metadata": {},
   "source": [
    "Let’s try again"
   ]
  },
  {
   "cell_type": "code",
   "execution_count": null,
   "id": "fa98c241",
   "metadata": {},
   "outputs": [],
   "source": [
    "import torch\n",
    "\n",
    "torch.full((2, 2), 5) + torch.full((1, 2), 3)"
   ]
  },
  {
   "cell_type": "code",
   "execution_count": null,
   "id": "337825e8",
   "metadata": {},
   "outputs": [],
   "source": [
    "tensor([[8, 8],\n",
    "        [8, 8]])"
   ]
  },
  {
   "cell_type": "markdown",
   "id": "27d393bc",
   "metadata": {},
   "source": [
    "\\[\n",
    "\\begin{bmatrix}\n",
    "5 && 5 \\\\\n",
    "5 && 5 \\\\\n",
    "\\end{bmatrix}\n",
    "+\n",
    "\\begin{bmatrix}\n",
    "3 && 3\n",
    "\\end{bmatrix}\n",
    "=\n",
    "\\begin{bmatrix}\n",
    "5 && 5 \\\\\n",
    "5 && 5 \\\\\n",
    "\\end{bmatrix}\n",
    "+\n",
    "\\begin{bmatrix}\n",
    "3 && 3 \\\\\n",
    "3 && 3 \\\\\n",
    "\\end{bmatrix}\n",
    "\\]"
   ]
  },
  {
   "cell_type": "code",
   "execution_count": null,
   "id": "0df57c95",
   "metadata": {},
   "outputs": [],
   "source": [
    "import torch\n",
    "\n",
    "x = torch.full((3, 4, 2), 5)\n",
    "y = torch.full((2,), 3) \n",
    "z = x + y\n",
    "print('x =', x)\n",
    "print('y =', y)\n",
    "print('z = ',z)"
   ]
  },
  {
   "cell_type": "code",
   "execution_count": null,
   "id": "c0e13f6d",
   "metadata": {},
   "outputs": [],
   "source": [
    "x = tensor([[[5, 5],\n",
    "         [5, 5],\n",
    "         [5, 5],\n",
    "         [5, 5]],\n",
    "\n",
    "        [[5, 5],\n",
    "         [5, 5],\n",
    "         [5, 5],\n",
    "         [5, 5]],\n",
    "\n",
    "        [[5, 5],\n",
    "         [5, 5],\n",
    "         [5, 5],\n",
    "         [5, 5]]])\n",
    "y = tensor([3, 3])\n",
    "z =  tensor([[[8, 8],\n",
    "         [8, 8],\n",
    "         [8, 8],\n",
    "         [8, 8]],\n",
    "\n",
    "        [[8, 8],\n",
    "         [8, 8],\n",
    "         [8, 8],\n",
    "         [8, 8]],\n",
    "\n",
    "        [[8, 8],\n",
    "         [8, 8],\n",
    "         [8, 8],\n",
    "         [8, 8]]])"
   ]
  },
  {
   "cell_type": "markdown",
   "id": "c3b69960",
   "metadata": {},
   "source": [
    "# Matrix Operation"
   ]
  },
  {
   "cell_type": "markdown",
   "id": "881a66e6",
   "metadata": {},
   "source": [
    "Tensor can be multiplied with another tensor using the matmul() method or the @ operator."
   ]
  },
  {
   "cell_type": "code",
   "execution_count": null,
   "id": "7cf8e9b0",
   "metadata": {},
   "outputs": [],
   "source": [
    "import torch\n",
    "\n",
    "x = torch.tensor([[3, 4]])\n",
    "print(x.shape)\n",
    "y = torch.tensor([[1, 2, 3], [4, 5, 6]])\n",
    "print(y.shape)\n",
    "x @ y\n",
    "x.matmul(y)\n",
    "x.mm(y)"
   ]
  },
  {
   "cell_type": "code",
   "execution_count": null,
   "id": "e785bc36",
   "metadata": {},
   "outputs": [],
   "source": [
    "torch.Size([1, 2])\n",
    "torch.Size([2, 3])"
   ]
  },
  {
   "cell_type": "code",
   "execution_count": null,
   "id": "2d76a518",
   "metadata": {},
   "outputs": [],
   "source": [
    "tensor([[19, 26, 33]])"
   ]
  },
  {
   "cell_type": "markdown",
   "id": "1616d0ab",
   "metadata": {},
   "source": [
    "\\[\n",
    "\\begin{bmatrix}\n",
    "3 && 4\n",
    "\\end{bmatrix}\n",
    "\\dot\\\\\n",
    "\\begin{bmatrix}\n",
    "1 && 2 && 3 \\\\\n",
    "4 && 5 && 6\n",
    "\\end{bmatrix}\n",
    "\\]"
   ]
  },
  {
   "cell_type": "markdown",
   "id": "a6e21c97",
   "metadata": {},
   "source": [
    "Be careful not to be confused with the * operator. The * operator is element-wise multiplication."
   ]
  },
  {
   "cell_type": "code",
   "execution_count": null,
   "id": "0148ffd3",
   "metadata": {},
   "outputs": [],
   "source": [
    "import torch\n",
    "\n",
    "x = torch.tensor([[3, 4]])\n",
    "x * x"
   ]
  },
  {
   "cell_type": "code",
   "execution_count": null,
   "id": "530dbaf7",
   "metadata": {},
   "outputs": [],
   "source": [
    "tensor([[ 9, 16]])"
   ]
  },
  {
   "cell_type": "markdown",
   "id": "93f57508",
   "metadata": {},
   "source": [
    "# Transpose"
   ]
  },
  {
   "cell_type": "markdown",
   "id": "0075b902",
   "metadata": {},
   "source": [
    "We can transpose a tensor using the t method."
   ]
  },
  {
   "cell_type": "code",
   "execution_count": null,
   "id": "fd9ed041",
   "metadata": {},
   "outputs": [],
   "source": [
    "import torch\n",
    "\n",
    "x = torch.tensor([[3, 4]])\n",
    "print(x)\n",
    "print(x.shape)\n",
    "print(x.T)\n",
    "print(x.T.shape)"
   ]
  },
  {
   "cell_type": "code",
   "execution_count": null,
   "id": "d6e7c9e8",
   "metadata": {},
   "outputs": [],
   "source": [
    "tensor([[3, 4]])\n",
    "torch.Size([1, 2])\n",
    "tensor([[3],\n",
    "        [4]])\n",
    "torch.Size([2, 1])"
   ]
  },
  {
   "cell_type": "markdown",
   "id": "05ca3c86",
   "metadata": {},
   "source": [
    "# Neural Network with Pytorch"
   ]
  },
  {
   "cell_type": "markdown",
   "id": "767e6fed",
   "metadata": {},
   "source": [
    "Now we have learned the required knowledge to build a neural network with pytorch."
   ]
  },
  {
   "cell_type": "code",
   "execution_count": null,
   "id": "2fc5d463",
   "metadata": {},
   "outputs": [],
   "source": [
    "from fastbook import *\n",
    "\n",
    "\n",
    "# Draw neurons with multiple inputs and weights\n",
    "gv('''\n",
    "z[shape=box3d width=1 height=0.7]\n",
    "bias[shape=circle width=0.3]\n",
    "x_0[label=1]\n",
    "x_1[label=2]\n",
    "// Subgraph to force alignment on x-axis\n",
    "subgraph {\n",
    "    rank=same;\n",
    "    z;\n",
    "    bias;\n",
    "    alignmentNode [style=invis, width=0]; // invisible node for alignment\n",
    "    bias -> alignmentNode [style=invis]; // invisible edge\n",
    "    z -> alignmentNode [style=invis]; // invisible edge\n",
    "}\n",
    "x_0->z [label=\"3\"]\n",
    "x_1->z [label=\"4\"]\n",
    "bias->z [label=\"5\" pos=\"0,1.2!\"]\n",
    "z->a \n",
    "a->output [label=\"ReLU\"]\n",
    "''')"
   ]
  },
  {
   "cell_type": "markdown",
   "id": "9a2e97b3",
   "metadata": {},
   "source": []
  },
  {
   "cell_type": "markdown",
   "id": "0560a139",
   "metadata": {},
   "source": [
    "Remember the equation"
   ]
  },
  {
   "cell_type": "markdown",
   "id": "8371c425",
   "metadata": {},
   "source": [
    "\\[\n",
    "z = wx + b\\\\\n",
    "a = ReLU(z)\n",
    "\\]"
   ]
  },
  {
   "cell_type": "markdown",
   "id": "81ed2410",
   "metadata": {},
   "source": [
    "Let’s represent it in pytorch"
   ]
  },
  {
   "cell_type": "code",
   "execution_count": null,
   "id": "eeab4243",
   "metadata": {},
   "outputs": [],
   "source": [
    "x = torch.tensor([[1],[2]])\n",
    "\n",
    "w = torch.tensor([3, 4])\n",
    "b = torch.tensor(5)\n",
    "z = w @ x + b\n",
    "a = torch.relu(z)\n",
    "a"
   ]
  },
  {
   "cell_type": "code",
   "execution_count": null,
   "id": "e10a1091",
   "metadata": {},
   "outputs": [],
   "source": [
    "tensor([16])"
   ]
  },
  {
   "cell_type": "markdown",
   "id": "f10e731a",
   "metadata": {},
   "source": [
    "How about multiple layers? Easy!"
   ]
  },
  {
   "cell_type": "code",
   "execution_count": null,
   "id": "e7386018",
   "metadata": {},
   "outputs": [],
   "source": [
    "from fastbook import *\n",
    "\n",
    "gv('''\n",
    "   x_0[label=1]\n",
    "   x_1[label=2]\n",
    "   a_0_0[label=\"b=3\"]\n",
    "   a_0_1[label=\"b=2\"]\n",
    "   a_1_0[label=\"b=1\"]\n",
    "   x_0 -> a_0_0 [label=-3]\n",
    "   x_0 -> a_0_1 [label=4]\n",
    "   x_1 -> a_0_0 [label=5]\n",
    "   x_1 -> a_0_1 [label=-6]\n",
    "   a_0_0 -> a_1_0 [label=7]\n",
    "   a_0_1 -> a_1_0 [label=8]\n",
    "   a_1_0 -> output\n",
    "   ''')"
   ]
  },
  {
   "cell_type": "markdown",
   "id": "f3997cb0",
   "metadata": {},
   "source": []
  },
  {
   "cell_type": "code",
   "execution_count": null,
   "id": "ddccc478",
   "metadata": {},
   "outputs": [],
   "source": [
    "x = torch.tensor([[1],[2]])\n",
    "\n",
    "w_0 = torch.tensor([[-3, 5], [4, -6]])\n",
    "b_0 = torch.tensor([[3, 2]])\n",
    "a_0 = torch.relu(w_0 @ x + b_0)\n",
    "\n",
    "w_1 = torch.tensor([[7, 8]])\n",
    "b_1 = torch.tensor([[1]])\n",
    "a_1 = torch.relu(w_1 @ a_0 + b_1)\n",
    "a_1"
   ]
  },
  {
   "cell_type": "code",
   "execution_count": null,
   "id": "bbcbe0bd",
   "metadata": {},
   "outputs": [],
   "source": [
    "tensor([[71]])"
   ]
  },
  {
   "cell_type": "markdown",
   "id": "62e099ff",
   "metadata": {},
   "source": [
    "# Exercise"
   ]
  },
  {
   "cell_type": "code",
   "execution_count": null,
   "id": "f891a93c",
   "metadata": {},
   "outputs": [],
   "source": [
    "!pip install rggrader"
   ]
  },
  {
   "cell_type": "code",
   "execution_count": null,
   "id": "412fd8a9",
   "metadata": {},
   "outputs": [],
   "source": [
    "# @title #### Student Identity\n",
    "student_id = \"your student id\" # @param {type:\"string\"}\n",
    "name = \"your name\" # @param {type:\"string\"}"
   ]
  },
  {
   "cell_type": "markdown",
   "id": "c7912160",
   "metadata": {},
   "source": [
    "Implement the following neural network"
   ]
  },
  {
   "cell_type": "code",
   "execution_count": null,
   "id": "91bd18a1",
   "metadata": {},
   "outputs": [],
   "source": [
    "from fastbook import *\n",
    "\n",
    "gv('''\n",
    "   x_0[label=3]\n",
    "   a_0_0[label=\"b=-2, ReLU\"]\n",
    "   a_0_1[label=\"b=5, ReLU\"]\n",
    "   a_1_0[label=\"b=0, ReLU\"]\n",
    "   x_0 -> a_0_0 [label=-2]\n",
    "   x_0 -> a_0_1 [label=5]\n",
    "   a_0_0 -> a_1_0 [label=3]\n",
    "   a_0_1 -> a_1_0 [label=2]\n",
    "   \n",
    "   a_1_0 -> output\n",
    "   ''')"
   ]
  },
  {
   "cell_type": "markdown",
   "id": "e51c1ebd",
   "metadata": {},
   "source": []
  },
  {
   "cell_type": "code",
   "execution_count": null,
   "id": "98a8394e",
   "metadata": {},
   "outputs": [],
   "source": [
    "from rggrader import submit\n",
    "\n",
    "# Put your code here\n",
    "answer = 0\n",
    "\n",
    "assignment_id = \"10_pytorch-basic\"\n",
    "question_id = \"00_single-input-nn\"\n",
    "submit(student_id, name, assignment_id, str(answer), question_id)"
   ]
  },
  {
   "cell_type": "code",
   "execution_count": null,
   "id": "b85501d9",
   "metadata": {},
   "outputs": [],
   "source": [
    "from fastbook import *\n",
    "\n",
    "gv('''\n",
    "   x_0[label=3]\n",
    "   x_1[label=5]\n",
    "   a_0_0[label=\"b=8, ReLU\"]\n",
    "   a_0_1[label=\"b=-2, ReLU\"]\n",
    "   a_0_2[label=\"b=4, ReLU\"]\n",
    "   a_1_0[label=\"b=3, ReLU\"]\n",
    "   x_0 -> a_0_0 [label=-2]\n",
    "   x_0 -> a_0_1 [label=5]\n",
    "   x_0 -> a_0_2 [label=3]\n",
    "   x_1 -> a_0_0 [label=8]\n",
    "   x_1 -> a_0_1 [label=-2]\n",
    "   x_1 -> a_0_2 [label=4]\n",
    "   a_0_0 -> a_1_0 [label=3]\n",
    "   a_0_1 -> a_1_0 [label=2]\n",
    "   a_0_2 -> a_1_0 [label=8]\n",
    "   \n",
    "   a_1_0 -> output\n",
    "   ''')"
   ]
  },
  {
   "cell_type": "markdown",
   "id": "ba01a2da",
   "metadata": {},
   "source": []
  },
  {
   "cell_type": "code",
   "execution_count": null,
   "id": "bc9eb886",
   "metadata": {},
   "outputs": [],
   "source": [
    "from rggrader import submit\n",
    "\n",
    "# Put your code here\n",
    "answer = 0\n",
    "\n",
    "assignment_id = \"10_pytorch-basic\"\n",
    "question_id = \"01_multi-input-nn\"\n",
    "submit(student_id, name, assignment_id, str(answer), question_id)"
   ]
  }
 ],
 "metadata": {},
 "nbformat": 4,
 "nbformat_minor": 5
}
