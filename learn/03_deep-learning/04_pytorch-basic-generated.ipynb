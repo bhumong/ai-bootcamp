{
 "cells": [
  {
   "cell_type": "markdown",
   "id": "241eae32",
   "metadata": {},
   "source": [
    "source: [link](https://ai-bootcamp.ruangguru.com/learn/03_deep-learning/04_pytorch-basic.html)"
   ]
  },
  {
   "cell_type": "markdown",
   "id": "1f81054b",
   "metadata": {},
   "source": [
    "# Pytorch Basic"
   ]
  },
  {
   "cell_type": "markdown",
   "id": "9ff10742",
   "metadata": {},
   "source": [
    "Pytorch is a python library for deep learning. It provides a high level abstraction which make it easy to train deep neural networks."
   ]
  },
  {
   "cell_type": "markdown",
   "id": "dc9e4022",
   "metadata": {},
   "source": [
    "Let’s install pytorch first."
   ]
  },
  {
   "cell_type": "code",
   "execution_count": null,
   "id": "d116f974",
   "metadata": {},
   "outputs": [],
   "source": [
    "!pip install torch\n",
    "!pip install fastbook"
   ]
  },
  {
   "cell_type": "markdown",
   "id": "61194edc",
   "metadata": {},
   "source": [
    "For this tutorial, we will use the following version:"
   ]
  },
  {
   "cell_type": "code",
   "execution_count": null,
   "id": "125cd47c",
   "metadata": {},
   "outputs": [],
   "source": [
    "# Check pytorch version\n",
    "import torch\n",
    "print(torch.__version__)"
   ]
  },
  {
   "cell_type": "code",
   "execution_count": null,
   "id": "d61483c9",
   "metadata": {},
   "outputs": [],
   "source": [
    "2.0.0"
   ]
  },
  {
   "cell_type": "markdown",
   "id": "130226cc",
   "metadata": {},
   "source": [
    "# Tensor"
   ]
  },
  {
   "cell_type": "markdown",
   "id": "4d151fc8",
   "metadata": {},
   "source": [
    "Tensor is the basic data structure in pytorch. It is similar to numpy array, but it provides automatic differentiation and it can be run on GPU."
   ]
  },
  {
   "cell_type": "markdown",
   "id": "846d1df0",
   "metadata": {},
   "source": [
    "If we look at the trend, it’s current the most popular deep learning library"
   ]
  },
  {
   "cell_type": "markdown",
   "id": "0769a63e",
   "metadata": {},
   "source": [
    "The capability of running on GPU is very important for deep learning. It can speed up the training process by a lot by parallelizing the computation. Watch this demo: GPU vs CPU Demonstration"
   ]
  },
  {
   "cell_type": "markdown",
   "id": "ac8794c4",
   "metadata": {},
   "source": [
    "Tensor is n-dimensional array. When n is 0, it is a scalar. When n is 1, it is a vector. When n is 2, it is a matrix. When n is 3, it is a cube. When n is 4, it is a 4-dimensional array. And so on."
   ]
  },
  {
   "cell_type": "code",
   "execution_count": null,
   "id": "3558c520",
   "metadata": {},
   "outputs": [],
   "source": [
    "# 0 dimension tensor\n",
    "import torch\n",
    "\n",
    "x = torch.tensor(42)\n",
    "print(x)"
   ]
  },
  {
   "cell_type": "code",
   "execution_count": null,
   "id": "66e4c6c2",
   "metadata": {},
   "outputs": [],
   "source": [
    "tensor(42)"
   ]
  },
  {
   "cell_type": "code",
   "execution_count": null,
   "id": "999e0aa0",
   "metadata": {},
   "outputs": [],
   "source": [
    "# 1 dimension tensor\n",
    "import torch\n",
    "\n",
    "x = torch.tensor([42, 43])\n",
    "print(x)"
   ]
  },
  {
   "cell_type": "code",
   "execution_count": null,
   "id": "6ccf47b1",
   "metadata": {},
   "outputs": [],
   "source": [
    "tensor([42, 43])"
   ]
  },
  {
   "cell_type": "code",
   "execution_count": null,
   "id": "90219ccb",
   "metadata": {},
   "outputs": [],
   "source": [
    "# 2 dimension tensor\n",
    "import torch\n",
    "\n",
    "x = torch.tensor([[42, 43], [44, 45]])\n",
    "print(x)"
   ]
  },
  {
   "cell_type": "code",
   "execution_count": null,
   "id": "9847acfb",
   "metadata": {},
   "outputs": [],
   "source": [
    "tensor([[42, 43],\n",
    "        [44, 45]])"
   ]
  },
  {
   "cell_type": "code",
   "execution_count": null,
   "id": "3ca0bf6d",
   "metadata": {},
   "outputs": [],
   "source": [
    "# 3 dimension tensor\n",
    "import torch\n",
    "\n",
    "x = torch.tensor([[[42, 43], [44, 45]], [[46, 47], [48, 49]]])\n",
    "print(x)"
   ]
  },
  {
   "cell_type": "code",
   "execution_count": null,
   "id": "e4b00ffd",
   "metadata": {},
   "outputs": [],
   "source": [
    "tensor([[[42, 43],\n",
    "         [44, 45]],\n",
    "\n",
    "        [[46, 47],\n",
    "         [48, 49]]])"
   ]
  },
  {
   "cell_type": "markdown",
   "id": "7cb13f7b",
   "metadata": {},
   "source": [
    "To check the dimension of a tensor, we can use the dim() method."
   ]
  },
  {
   "cell_type": "code",
   "execution_count": null,
   "id": "ef666fc4",
   "metadata": {},
   "outputs": [],
   "source": [
    "x = torch.tensor([[[42, 43], [44, 45]], [[46, 47], [48, 49]]])\n",
    "print(x.dim())\n",
    "\n",
    "x = torch.tensor(42)\n",
    "print(x.dim())"
   ]
  },
  {
   "cell_type": "code",
   "execution_count": null,
   "id": "3b50ecbc",
   "metadata": {},
   "outputs": [],
   "source": [
    "3\n",
    "0"
   ]
  },
  {
   "cell_type": "markdown",
   "id": "a7636255",
   "metadata": {},
   "source": [
    "# Constructing Tensor"
   ]
  },
  {
   "cell_type": "markdown",
   "id": "5e424562",
   "metadata": {},
   "source": [
    "# Random Tensor"
   ]
  },
  {
   "cell_type": "code",
   "execution_count": null,
   "id": "29edba1c",
   "metadata": {},
   "outputs": [],
   "source": [
    "import torch\n",
    "torch.rand(5, 3)"
   ]
  },
  {
   "cell_type": "code",
   "execution_count": null,
   "id": "c8ccff5a",
   "metadata": {},
   "outputs": [],
   "source": [
    "tensor([[0.2247, 0.7425, 0.7174],\n",
    "        [0.6279, 0.4899, 0.3813],\n",
    "        [0.5859, 0.6029, 0.3960],\n",
    "        [0.3568, 0.9450, 0.2779],\n",
    "        [0.8900, 0.5270, 0.5401]])"
   ]
  },
  {
   "cell_type": "markdown",
   "id": "b5bd5b06",
   "metadata": {},
   "source": [
    "The parameters of the rand() method are the dimension of the tensor. For example, torch.rand(2, 3) will create a 2x3 tensor with random values."
   ]
  },
  {
   "cell_type": "code",
   "execution_count": null,
   "id": "7ff45539",
   "metadata": {},
   "outputs": [],
   "source": [
    "import torch\n",
    "# One dimensional tensor containing 5 random numbers\n",
    "torch.rand(5)"
   ]
  },
  {
   "cell_type": "code",
   "execution_count": null,
   "id": "eba69df4",
   "metadata": {},
   "outputs": [],
   "source": [
    "tensor([0.3616, 0.8951, 0.4249, 0.0801, 0.5676])"
   ]
  },
  {
   "cell_type": "markdown",
   "id": "1e5f955e",
   "metadata": {},
   "source": [
    "# Ones Tensor"
   ]
  },
  {
   "cell_type": "markdown",
   "id": "e08b6be0",
   "metadata": {},
   "source": [
    "Ones tensor is a tensor with all values equal to 1"
   ]
  },
  {
   "cell_type": "code",
   "execution_count": null,
   "id": "de3585cd",
   "metadata": {},
   "outputs": [],
   "source": [
    "import torch\n",
    "torch.ones(2, 3)"
   ]
  },
  {
   "cell_type": "code",
   "execution_count": null,
   "id": "e3fede85",
   "metadata": {},
   "outputs": [],
   "source": [
    "tensor([[1., 1., 1.],\n",
    "        [1., 1., 1.]])"
   ]
  },
  {
   "cell_type": "markdown",
   "id": "c31d8caa",
   "metadata": {},
   "source": [
    "Quiz: what’s the output of torch.ones(1, 2)?"
   ]
  },
  {
   "cell_type": "code",
   "execution_count": null,
   "id": "464b740c",
   "metadata": {},
   "outputs": [],
   "source": [
    "import torch\n",
    "torch.ones(1, 2)"
   ]
  },
  {
   "cell_type": "code",
   "execution_count": null,
   "id": "67f3ac89",
   "metadata": {},
   "outputs": [],
   "source": [
    "tensor([[1., 1.]])"
   ]
  },
  {
   "cell_type": "markdown",
   "id": "1bf251e4",
   "metadata": {},
   "source": [
    "# Zeros Tensor"
   ]
  },
  {
   "cell_type": "markdown",
   "id": "11566a8e",
   "metadata": {},
   "source": [
    "Zeros tensor is a tensor with all values equal to 0"
   ]
  },
  {
   "cell_type": "code",
   "execution_count": null,
   "id": "c1409433",
   "metadata": {},
   "outputs": [],
   "source": [
    "import torch\n",
    "torch.zeros(1,2,3)"
   ]
  },
  {
   "cell_type": "code",
   "execution_count": null,
   "id": "440cde62",
   "metadata": {},
   "outputs": [],
   "source": [
    "tensor([[[0., 0., 0.],\n",
    "         [0., 0., 0.]]])"
   ]
  },
  {
   "cell_type": "markdown",
   "id": "50cd13e3",
   "metadata": {},
   "source": [
    "# Range Tensor"
   ]
  },
  {
   "cell_type": "markdown",
   "id": "ee270441",
   "metadata": {},
   "source": [
    "If we want to create a tensor with values from 0 to n-1, we can use the torch.arange(n) method."
   ]
  },
  {
   "cell_type": "code",
   "execution_count": null,
   "id": "b7b805fa",
   "metadata": {},
   "outputs": [],
   "source": [
    "import torch\n",
    "torch.arange(1, 10)"
   ]
  },
  {
   "cell_type": "code",
   "execution_count": null,
   "id": "58e8314a",
   "metadata": {},
   "outputs": [],
   "source": [
    "tensor([1, 2, 3, 4, 5, 6, 7, 8, 9])"
   ]
  },
  {
   "cell_type": "code",
   "execution_count": null,
   "id": "f5a250bf",
   "metadata": {},
   "outputs": [],
   "source": [
    "torch.arange(-3, 3, 2)"
   ]
  },
  {
   "cell_type": "code",
   "execution_count": null,
   "id": "dc1334ad",
   "metadata": {},
   "outputs": [],
   "source": [
    "tensor([-3, -1,  1])"
   ]
  },
  {
   "cell_type": "markdown",
   "id": "de6e7ae6",
   "metadata": {},
   "source": [
    "# Full"
   ]
  },
  {
   "cell_type": "markdown",
   "id": "e1ba6103",
   "metadata": {},
   "source": [
    "If we want to create a tensor with all values equal to a constant, we can use the torch.full() method."
   ]
  },
  {
   "cell_type": "code",
   "execution_count": null,
   "id": "290e3ce3",
   "metadata": {},
   "outputs": [],
   "source": [
    "import torch\n",
    "torch.full((2, ), 42)"
   ]
  },
  {
   "cell_type": "code",
   "execution_count": null,
   "id": "fdf1d99a",
   "metadata": {},
   "outputs": [],
   "source": [
    "tensor([42, 42])"
   ]
  },
  {
   "cell_type": "code",
   "execution_count": null,
   "id": "852b07b8",
   "metadata": {},
   "outputs": [],
   "source": [
    "import torch\n",
    "torch.full((2, 3), 42)"
   ]
  },
  {
   "cell_type": "code",
   "execution_count": null,
   "id": "c67dc289",
   "metadata": {},
   "outputs": [],
   "source": [
    "tensor([[42, 42, 42],\n",
    "        [42, 42, 42]])"
   ]
  },
  {
   "cell_type": "markdown",
   "id": "fc027e2e",
   "metadata": {},
   "source": [
    "If we don’t have full method, we can use ones method and multiply it with the constant."
   ]
  },
  {
   "cell_type": "code",
   "execution_count": null,
   "id": "a784b97f",
   "metadata": {},
   "outputs": [],
   "source": [
    "import torch\n",
    "torch.ones(2, 3) * 42"
   ]
  },
  {
   "cell_type": "code",
   "execution_count": null,
   "id": "a8e6b8e5",
   "metadata": {},
   "outputs": [],
   "source": [
    "tensor([[42., 42., 42.],\n",
    "        [42., 42., 42.]])"
   ]
  },
  {
   "cell_type": "markdown",
   "id": "6dc4e77f",
   "metadata": {},
   "source": [
    "# Tensor Operations"
   ]
  },
  {
   "cell_type": "markdown",
   "id": "61c8d475",
   "metadata": {},
   "source": [
    "We can do normal arithmetic operations on tensor:"
   ]
  },
  {
   "cell_type": "code",
   "execution_count": null,
   "id": "14026bba",
   "metadata": {},
   "outputs": [],
   "source": [
    "x = torch.tensor(42)\n",
    "print(x + 2)\n",
    "print(x * 3)\n",
    "print(x ** 2)\n",
    "print(x / 2)"
   ]
  },
  {
   "cell_type": "code",
   "execution_count": null,
   "id": "08defa57",
   "metadata": {},
   "outputs": [],
   "source": [
    "tensor(44)\n",
    "tensor(126)\n",
    "tensor(1764)\n",
    "tensor(21.)"
   ]
  },
  {
   "cell_type": "markdown",
   "id": "a0a17cc1",
   "metadata": {},
   "source": [
    "We can do similar operations on higher dimensional tensors:"
   ]
  },
  {
   "cell_type": "code",
   "execution_count": null,
   "id": "24b68100",
   "metadata": {},
   "outputs": [],
   "source": [
    "x = torch.tensor([1, 2])\n",
    "print(x + 1)\n",
    "\n",
    "x = torch.tensor([[1, 2], [3, 4]])\n",
    "print(x + 1)"
   ]
  },
  {
   "cell_type": "code",
   "execution_count": null,
   "id": "a20d6640",
   "metadata": {},
   "outputs": [],
   "source": [
    "tensor([2, 3])\n",
    "tensor([[2, 3],\n",
    "        [4, 5]])"
   ]
  },
  {
   "cell_type": "markdown",
   "id": "987f91d4",
   "metadata": {},
   "source": [
    "Wow from mathematic lesson, didn’t we learn that addition operations are only defined for tensors with the same shape? How come we can add a scalar tensor (0 dim) with a 2 dim tensor?"
   ]
  },
  {
   "cell_type": "markdown",
   "id": "97672073",
   "metadata": {},
   "source": [
    "This is because of broadcasting. Pytorch will automatically broadcast the scalar tensor to match the shape of the other tensor."
   ]
  },
  {
   "cell_type": "markdown",
   "id": "d9291aca",
   "metadata": {},
   "source": [
    "So,"
   ]
  },
  {
   "cell_type": "markdown",
   "id": "75ab55e2",
   "metadata": {},
   "source": [
    "\\[\n",
    "\\begin{bmatrix}\n",
    "1 & 2 & 3 \\\\\n",
    "4 & 5 & 6 \\\\\n",
    "\\end{bmatrix}\n",
    "+ 1\n",
    "\\]"
   ]
  },
  {
   "cell_type": "markdown",
   "id": "4fc63956",
   "metadata": {},
   "source": [
    "would become"
   ]
  },
  {
   "cell_type": "markdown",
   "id": "3384d38a",
   "metadata": {},
   "source": [
    "\\[\n",
    "\\begin{bmatrix}\n",
    "1 & 2 & 3 \\\\\n",
    "4 & 5 & 6 \\\\\n",
    "\\end{bmatrix}\n",
    "+\n",
    "\\begin{bmatrix}\n",
    "1 & 1 & 1 \\\\\n",
    "1 & 1 & 1 \\\\\n",
    "\\end{bmatrix}\n",
    "\\]"
   ]
  },
  {
   "cell_type": "markdown",
   "id": "d9914f34",
   "metadata": {},
   "source": [
    "# Broadcasting"
   ]
  },
  {
   "cell_type": "markdown",
   "id": "b3673ecf",
   "metadata": {},
   "source": [
    "So how does broadcasting work?"
   ]
  },
  {
   "cell_type": "markdown",
   "id": "c0283be6",
   "metadata": {},
   "source": [
    "Taken from Pytorch Docs:"
   ]
  },
  {
   "cell_type": "markdown",
   "id": "5082b9c5",
   "metadata": {},
   "source": [
    "Two tensors are “broadcastable” if the following rules hold:"
   ]
  },
  {
   "cell_type": "markdown",
   "id": "721e5378",
   "metadata": {},
   "source": [
    "Broadcasting rules:"
   ]
  },
  {
   "cell_type": "code",
   "execution_count": null,
   "id": "55b0a5cb",
   "metadata": {},
   "outputs": [],
   "source": [
    "import torch\n",
    "torch.full((1,), 5) + torch.ones(3)"
   ]
  },
  {
   "cell_type": "code",
   "execution_count": null,
   "id": "8d25074d",
   "metadata": {},
   "outputs": [],
   "source": [
    "tensor([6., 6., 6.])"
   ]
  },
  {
   "cell_type": "markdown",
   "id": "9ac42ee3",
   "metadata": {},
   "source": [
    "\\[\n",
    "\\begin{bmatrix}\n",
    "5\n",
    "\\end{bmatrix}\n",
    "+\n",
    "\\begin{bmatrix}\n",
    "1 \\\\\n",
    "1 \\\\\n",
    "1\n",
    "\\end{bmatrix}\n",
    "=\n",
    "\\begin{bmatrix}\n",
    "5 \\\\\n",
    "5 \\\\\n",
    "5\n",
    "\\end{bmatrix}\n",
    "+\n",
    "\\begin{bmatrix}\n",
    "1 \\\\\n",
    "1 \\\\\n",
    "1\n",
    "\\end{bmatrix}\n",
    "\\]"
   ]
  },
  {
   "cell_type": "code",
   "execution_count": null,
   "id": "db326ad6",
   "metadata": {},
   "outputs": [],
   "source": [
    "import torch\n",
    "# Error\n",
    "torch.ones(3) + torch.ones(5)"
   ]
  },
  {
   "cell_type": "markdown",
   "id": "63a75714",
   "metadata": {},
   "source": [
    "\\[\n",
    "\\begin{bmatrix}\n",
    "1 \\\\\n",
    "1 \\\\\n",
    "1\n",
    "\\end{bmatrix}\n",
    "+\n",
    "\\begin{bmatrix}\n",
    "1 \\\\\n",
    "1 \\\\\n",
    "1 \\\\\n",
    "1 \\\\\n",
    "1\n",
    "\\end{bmatrix}\n",
    "=\n",
    "error\n",
    "\\]"
   ]
  },
  {
   "cell_type": "markdown",
   "id": "0e354c72",
   "metadata": {},
   "source": [
    "Why is it an error?"
   ]
  },
  {
   "cell_type": "markdown",
   "id": "1ac5dc5d",
   "metadata": {},
   "source": [
    "Remember this rule:"
   ]
  },
  {
   "cell_type": "markdown",
   "id": "89939fbf",
   "metadata": {},
   "source": [
    "When iterating over the dimension sizes, starting at the trailing dimension, the dimension sizes must either be equal, one of them is 1, or one of them does not exist."
   ]
  },
  {
   "cell_type": "markdown",
   "id": "010b0d9d",
   "metadata": {},
   "source": [
    "The trailing dimension of the first tensor is 3, while the trailing dimension of the second tensor is 5. They are not equal, one of them is not 1, and one of them does not exist. So it’s an error."
   ]
  },
  {
   "cell_type": "markdown",
   "id": "7726b215",
   "metadata": {},
   "source": [
    "Let’s try again"
   ]
  },
  {
   "cell_type": "code",
   "execution_count": null,
   "id": "ff5e9df6",
   "metadata": {},
   "outputs": [],
   "source": [
    "import torch\n",
    "\n",
    "torch.full((2, 2), 5) + torch.full((1, 2), 3)"
   ]
  },
  {
   "cell_type": "code",
   "execution_count": null,
   "id": "a843a77e",
   "metadata": {},
   "outputs": [],
   "source": [
    "tensor([[8, 8],\n",
    "        [8, 8]])"
   ]
  },
  {
   "cell_type": "markdown",
   "id": "a36e1bb8",
   "metadata": {},
   "source": [
    "\\[\n",
    "\\begin{bmatrix}\n",
    "5 && 5 \\\\\n",
    "5 && 5 \\\\\n",
    "\\end{bmatrix}\n",
    "+\n",
    "\\begin{bmatrix}\n",
    "3 && 3\n",
    "\\end{bmatrix}\n",
    "=\n",
    "\\begin{bmatrix}\n",
    "5 && 5 \\\\\n",
    "5 && 5 \\\\\n",
    "\\end{bmatrix}\n",
    "+\n",
    "\\begin{bmatrix}\n",
    "3 && 3 \\\\\n",
    "3 && 3 \\\\\n",
    "\\end{bmatrix}\n",
    "\\]"
   ]
  },
  {
   "cell_type": "code",
   "execution_count": null,
   "id": "a74b3b04",
   "metadata": {},
   "outputs": [],
   "source": [
    "import torch\n",
    "\n",
    "x = torch.full((3, 4, 2), 5)\n",
    "y = torch.full((2,), 3) \n",
    "z = x + y\n",
    "print('x =', x)\n",
    "print('y =', y)\n",
    "print('z = ',z)"
   ]
  },
  {
   "cell_type": "code",
   "execution_count": null,
   "id": "3ab38dea",
   "metadata": {},
   "outputs": [],
   "source": [
    "x = tensor([[[5, 5],\n",
    "         [5, 5],\n",
    "         [5, 5],\n",
    "         [5, 5]],\n",
    "\n",
    "        [[5, 5],\n",
    "         [5, 5],\n",
    "         [5, 5],\n",
    "         [5, 5]],\n",
    "\n",
    "        [[5, 5],\n",
    "         [5, 5],\n",
    "         [5, 5],\n",
    "         [5, 5]]])\n",
    "y = tensor([3, 3])\n",
    "z =  tensor([[[8, 8],\n",
    "         [8, 8],\n",
    "         [8, 8],\n",
    "         [8, 8]],\n",
    "\n",
    "        [[8, 8],\n",
    "         [8, 8],\n",
    "         [8, 8],\n",
    "         [8, 8]],\n",
    "\n",
    "        [[8, 8],\n",
    "         [8, 8],\n",
    "         [8, 8],\n",
    "         [8, 8]]])"
   ]
  },
  {
   "cell_type": "markdown",
   "id": "8593ffa5",
   "metadata": {},
   "source": [
    "# Matrix Operation"
   ]
  },
  {
   "cell_type": "markdown",
   "id": "84582204",
   "metadata": {},
   "source": [
    "Tensor can be multiplied with another tensor using the matmul() method or the @ operator."
   ]
  },
  {
   "cell_type": "code",
   "execution_count": null,
   "id": "bb8461f5",
   "metadata": {},
   "outputs": [],
   "source": [
    "import torch\n",
    "\n",
    "x = torch.tensor([[3, 4]])\n",
    "print(x.shape)\n",
    "y = torch.tensor([[1, 2, 3], [4, 5, 6]])\n",
    "print(y.shape)\n",
    "x @ y\n",
    "x.matmul(y)\n",
    "x.mm(y)"
   ]
  },
  {
   "cell_type": "code",
   "execution_count": null,
   "id": "900baa3b",
   "metadata": {},
   "outputs": [],
   "source": [
    "torch.Size([1, 2])\n",
    "torch.Size([2, 3])"
   ]
  },
  {
   "cell_type": "code",
   "execution_count": null,
   "id": "5665d4a8",
   "metadata": {},
   "outputs": [],
   "source": [
    "tensor([[19, 26, 33]])"
   ]
  },
  {
   "cell_type": "markdown",
   "id": "8898f01d",
   "metadata": {},
   "source": [
    "\\[\n",
    "\\begin{bmatrix}\n",
    "3 && 4\n",
    "\\end{bmatrix}\n",
    "\\dot\\\\\n",
    "\\begin{bmatrix}\n",
    "1 && 2 && 3 \\\\\n",
    "4 && 5 && 6\n",
    "\\end{bmatrix}\n",
    "\\]"
   ]
  },
  {
   "cell_type": "markdown",
   "id": "1d2623b9",
   "metadata": {},
   "source": [
    "Be careful not to be confused with the * operator. The * operator is element-wise multiplication."
   ]
  },
  {
   "cell_type": "code",
   "execution_count": null,
   "id": "359f5753",
   "metadata": {},
   "outputs": [],
   "source": [
    "import torch\n",
    "\n",
    "x = torch.tensor([[3, 4]])\n",
    "x * x"
   ]
  },
  {
   "cell_type": "code",
   "execution_count": null,
   "id": "e17252bb",
   "metadata": {},
   "outputs": [],
   "source": [
    "tensor([[ 9, 16]])"
   ]
  },
  {
   "cell_type": "markdown",
   "id": "92c694f8",
   "metadata": {},
   "source": [
    "# Transpose"
   ]
  },
  {
   "cell_type": "markdown",
   "id": "66d0e0b5",
   "metadata": {},
   "source": [
    "We can transpose a tensor using the t method."
   ]
  },
  {
   "cell_type": "code",
   "execution_count": null,
   "id": "1ebf32b8",
   "metadata": {},
   "outputs": [],
   "source": [
    "import torch\n",
    "\n",
    "x = torch.tensor([[3, 4]])\n",
    "print(x)\n",
    "print(x.shape)\n",
    "print(x.T)\n",
    "print(x.T.shape)"
   ]
  },
  {
   "cell_type": "code",
   "execution_count": null,
   "id": "1ae54b2f",
   "metadata": {},
   "outputs": [],
   "source": [
    "tensor([[3, 4]])\n",
    "torch.Size([1, 2])\n",
    "tensor([[3],\n",
    "        [4]])\n",
    "torch.Size([2, 1])"
   ]
  },
  {
   "cell_type": "markdown",
   "id": "c8c67cea",
   "metadata": {},
   "source": [
    "# Neural Network with Pytorch"
   ]
  },
  {
   "cell_type": "markdown",
   "id": "7f3a3dcb",
   "metadata": {},
   "source": [
    "Now we have learned the required knowledge to build a neural network with pytorch."
   ]
  },
  {
   "cell_type": "code",
   "execution_count": null,
   "id": "83b9b59c",
   "metadata": {},
   "outputs": [],
   "source": [
    "from fastbook import *\n",
    "\n",
    "\n",
    "# Draw neurons with multiple inputs and weights\n",
    "gv('''\n",
    "z[shape=box3d width=1 height=0.7]\n",
    "bias[shape=circle width=0.3]\n",
    "x_0[label=1]\n",
    "x_1[label=2]\n",
    "// Subgraph to force alignment on x-axis\n",
    "subgraph {\n",
    "    rank=same;\n",
    "    z;\n",
    "    bias;\n",
    "    alignmentNode [style=invis, width=0]; // invisible node for alignment\n",
    "    bias -> alignmentNode [style=invis]; // invisible edge\n",
    "    z -> alignmentNode [style=invis]; // invisible edge\n",
    "}\n",
    "x_0->z [label=\"3\"]\n",
    "x_1->z [label=\"4\"]\n",
    "bias->z [label=\"5\" pos=\"0,1.2!\"]\n",
    "z->a \n",
    "a->output [label=\"ReLU\"]\n",
    "''')"
   ]
  },
  {
   "cell_type": "markdown",
   "id": "b543e354",
   "metadata": {},
   "source": []
  },
  {
   "cell_type": "markdown",
   "id": "430ab8cd",
   "metadata": {},
   "source": [
    "Remember the equation"
   ]
  },
  {
   "cell_type": "markdown",
   "id": "89315904",
   "metadata": {},
   "source": [
    "\\[\n",
    "z = wx + b\\\\\n",
    "a = ReLU(z)\n",
    "\\]"
   ]
  },
  {
   "cell_type": "markdown",
   "id": "ce5ec815",
   "metadata": {},
   "source": [
    "Let’s represent it in pytorch"
   ]
  },
  {
   "cell_type": "code",
   "execution_count": null,
   "id": "7a43e85e",
   "metadata": {},
   "outputs": [],
   "source": [
    "x = torch.tensor([[1],[2]])\n",
    "\n",
    "w = torch.tensor([3, 4])\n",
    "b = torch.tensor(5)\n",
    "z = w @ x + b\n",
    "a = torch.relu(z)\n",
    "a"
   ]
  },
  {
   "cell_type": "code",
   "execution_count": null,
   "id": "8c00cf72",
   "metadata": {},
   "outputs": [],
   "source": [
    "tensor([16])"
   ]
  },
  {
   "cell_type": "markdown",
   "id": "0445af9c",
   "metadata": {},
   "source": [
    "How about multiple layers? Easy!"
   ]
  },
  {
   "cell_type": "code",
   "execution_count": null,
   "id": "ed4f6ff3",
   "metadata": {},
   "outputs": [],
   "source": [
    "from fastbook import *\n",
    "\n",
    "gv('''\n",
    "   x_0[label=1]\n",
    "   x_1[label=2]\n",
    "   a_0_0[label=\"b=3\"]\n",
    "   a_0_1[label=\"b=2\"]\n",
    "   a_1_0[label=\"b=1\"]\n",
    "   x_0 -> a_0_0 [label=-3]\n",
    "   x_0 -> a_0_1 [label=4]\n",
    "   x_1 -> a_0_0 [label=5]\n",
    "   x_1 -> a_0_1 [label=-6]\n",
    "   a_0_0 -> a_1_0 [label=7]\n",
    "   a_0_1 -> a_1_0 [label=8]\n",
    "   a_1_0 -> output\n",
    "   ''')"
   ]
  },
  {
   "cell_type": "markdown",
   "id": "0fc8fcaf",
   "metadata": {},
   "source": []
  },
  {
   "cell_type": "code",
   "execution_count": null,
   "id": "d3708a0f",
   "metadata": {},
   "outputs": [],
   "source": [
    "x = torch.tensor([[1],[2]])\n",
    "\n",
    "w_0 = torch.tensor([[-3, 5], [4, -6]])\n",
    "b_0 = torch.tensor([[3, 2]])\n",
    "a_0 = torch.relu(w_0 @ x + b_0)\n",
    "\n",
    "w_1 = torch.tensor([[7, 8]])\n",
    "b_1 = torch.tensor([[1]])\n",
    "a_1 = torch.relu(w_1 @ a_0 + b_1)\n",
    "a_1"
   ]
  },
  {
   "cell_type": "code",
   "execution_count": null,
   "id": "2c731f2c",
   "metadata": {},
   "outputs": [],
   "source": [
    "tensor([[71]])"
   ]
  },
  {
   "cell_type": "markdown",
   "id": "d452adff",
   "metadata": {},
   "source": [
    "# Exercise"
   ]
  },
  {
   "cell_type": "code",
   "execution_count": null,
   "id": "90de55bd",
   "metadata": {},
   "outputs": [],
   "source": [
    "!pip install rggrader"
   ]
  },
  {
   "cell_type": "code",
   "execution_count": null,
   "id": "adca9349",
   "metadata": {},
   "outputs": [],
   "source": [
    "# @title #### Student Identity\n",
    "student_id = \"your student id\" # @param {type:\"string\"}\n",
    "name = \"your name\" # @param {type:\"string\"}"
   ]
  },
  {
   "cell_type": "markdown",
   "id": "dd31fcdb",
   "metadata": {},
   "source": [
    "Implement the following neural network"
   ]
  },
  {
   "cell_type": "code",
   "execution_count": null,
   "id": "1c2db041",
   "metadata": {},
   "outputs": [],
   "source": [
    "from fastbook import *\n",
    "\n",
    "gv('''\n",
    "   x_0[label=3]\n",
    "   a_0_0[label=\"b=-2, ReLU\"]\n",
    "   a_0_1[label=\"b=5, ReLU\"]\n",
    "   a_1_0[label=\"b=0, ReLU\"]\n",
    "   x_0 -> a_0_0 [label=-2]\n",
    "   x_0 -> a_0_1 [label=5]\n",
    "   a_0_0 -> a_1_0 [label=3]\n",
    "   a_0_1 -> a_1_0 [label=2]\n",
    "   \n",
    "   a_1_0 -> output\n",
    "   ''')"
   ]
  },
  {
   "cell_type": "markdown",
   "id": "b1448999",
   "metadata": {},
   "source": []
  },
  {
   "cell_type": "code",
   "execution_count": null,
   "id": "15b356cd",
   "metadata": {},
   "outputs": [],
   "source": [
    "from rggrader import submit\n",
    "\n",
    "# Put your code here\n",
    "answer = 0\n",
    "\n",
    "assignment_id = \"10_pytorch-basic\"\n",
    "question_id = \"00_single-input-nn\"\n",
    "submit(student_id, name, assignment_id, str(answer), question_id)"
   ]
  },
  {
   "cell_type": "code",
   "execution_count": null,
   "id": "0eb48cda",
   "metadata": {},
   "outputs": [],
   "source": [
    "from fastbook import *\n",
    "\n",
    "gv('''\n",
    "   x_0[label=3]\n",
    "   x_1[label=5]\n",
    "   a_0_0[label=\"b=8, ReLU\"]\n",
    "   a_0_1[label=\"b=-2, ReLU\"]\n",
    "   a_0_2[label=\"b=4, ReLU\"]\n",
    "   a_1_0[label=\"b=3, ReLU\"]\n",
    "   x_0 -> a_0_0 [label=-2]\n",
    "   x_0 -> a_0_1 [label=5]\n",
    "   x_0 -> a_0_2 [label=3]\n",
    "   x_1 -> a_0_0 [label=8]\n",
    "   x_1 -> a_0_1 [label=-2]\n",
    "   x_1 -> a_0_2 [label=4]\n",
    "   a_0_0 -> a_1_0 [label=3]\n",
    "   a_0_1 -> a_1_0 [label=2]\n",
    "   a_0_2 -> a_1_0 [label=8]\n",
    "   \n",
    "   a_1_0 -> output\n",
    "   ''')"
   ]
  },
  {
   "cell_type": "markdown",
   "id": "a5ccb27b",
   "metadata": {},
   "source": []
  },
  {
   "cell_type": "code",
   "execution_count": null,
   "id": "2f81c22e",
   "metadata": {},
   "outputs": [],
   "source": [
    "from rggrader import submit\n",
    "\n",
    "# Put your code here\n",
    "answer = 0\n",
    "\n",
    "assignment_id = \"10_pytorch-basic\"\n",
    "question_id = \"01_multi-input-nn\"\n",
    "submit(student_id, name, assignment_id, str(answer), question_id)"
   ]
  }
 ],
 "metadata": {},
 "nbformat": 4,
 "nbformat_minor": 5
}
