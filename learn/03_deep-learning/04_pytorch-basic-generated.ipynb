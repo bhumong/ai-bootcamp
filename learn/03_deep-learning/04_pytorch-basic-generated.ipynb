{
 "cells": [
  {
   "cell_type": "markdown",
   "id": "39d40af1",
   "metadata": {},
   "source": [
    "source: [https://ai-bootcamp.ruangguru.com/learn/03_deep-learning/04_pytorch-basic.html](https://ai-bootcamp.ruangguru.com/learn/03_deep-learning/04_pytorch-basic.html)"
   ]
  },
  {
   "cell_type": "markdown",
   "id": "04a9a4e3",
   "metadata": {},
   "source": [
    "# Pytorch Basic"
   ]
  },
  {
   "cell_type": "markdown",
   "id": "21f7b95a",
   "metadata": {},
   "source": [
    "Pytorch is a python library for deep learning. It provides a high level abstraction which make it easy to train deep neural networks."
   ]
  },
  {
   "cell_type": "markdown",
   "id": "3a534605",
   "metadata": {},
   "source": [
    "Let’s install pytorch first."
   ]
  },
  {
   "cell_type": "code",
   "execution_count": null,
   "id": "29d849d8",
   "metadata": {},
   "outputs": [],
   "source": [
    "!pip install torch\n",
    "!pip install fastbook"
   ]
  },
  {
   "cell_type": "markdown",
   "id": "824ac2a8",
   "metadata": {},
   "source": [
    "For this tutorial, we will use the following version:"
   ]
  },
  {
   "cell_type": "code",
   "execution_count": null,
   "id": "31f9c0d5",
   "metadata": {},
   "outputs": [],
   "source": [
    "# Check pytorch version\n",
    "import torch\n",
    "print(torch.__version__)"
   ]
  },
  {
   "cell_type": "code",
   "execution_count": null,
   "id": "92f15d81",
   "metadata": {},
   "outputs": [],
   "source": [
    "2.0.0"
   ]
  },
  {
   "cell_type": "markdown",
   "id": "1c952a6a",
   "metadata": {},
   "source": [
    "# Tensor"
   ]
  },
  {
   "cell_type": "markdown",
   "id": "434d1c9c",
   "metadata": {},
   "source": [
    "Tensor is the basic data structure in pytorch. It is similar to numpy array, but it provides automatic differentiation and it can be run on GPU."
   ]
  },
  {
   "cell_type": "markdown",
   "id": "6e933df6",
   "metadata": {},
   "source": [
    "If we look at the trend, it’s current the most popular deep learning library"
   ]
  },
  {
   "cell_type": "markdown",
   "id": "e5aa3e5b",
   "metadata": {},
   "source": [
    "The capability of running on GPU is very important for deep learning. It can speed up the training process by a lot by parallelizing the computation. Watch this demo: GPU vs CPU Demonstration"
   ]
  },
  {
   "cell_type": "markdown",
   "id": "5febdea7",
   "metadata": {},
   "source": [
    "Tensor is n-dimensional array. When n is 0, it is a scalar. When n is 1, it is a vector. When n is 2, it is a matrix. When n is 3, it is a cube. When n is 4, it is a 4-dimensional array. And so on."
   ]
  },
  {
   "cell_type": "code",
   "execution_count": null,
   "id": "3ffc80fb",
   "metadata": {},
   "outputs": [],
   "source": [
    "# 0 dimension tensor\n",
    "import torch\n",
    "\n",
    "x = torch.tensor(42)\n",
    "print(x)"
   ]
  },
  {
   "cell_type": "code",
   "execution_count": null,
   "id": "f64ec6e8",
   "metadata": {},
   "outputs": [],
   "source": [
    "tensor(42)"
   ]
  },
  {
   "cell_type": "code",
   "execution_count": null,
   "id": "54d6ee56",
   "metadata": {},
   "outputs": [],
   "source": [
    "# 1 dimension tensor\n",
    "import torch\n",
    "\n",
    "x = torch.tensor([42, 43])\n",
    "print(x)"
   ]
  },
  {
   "cell_type": "code",
   "execution_count": null,
   "id": "d957abf8",
   "metadata": {},
   "outputs": [],
   "source": [
    "tensor([42, 43])"
   ]
  },
  {
   "cell_type": "code",
   "execution_count": null,
   "id": "3fe28722",
   "metadata": {},
   "outputs": [],
   "source": [
    "# 2 dimension tensor\n",
    "import torch\n",
    "\n",
    "x = torch.tensor([[42, 43], [44, 45]])\n",
    "print(x)"
   ]
  },
  {
   "cell_type": "code",
   "execution_count": null,
   "id": "08b036e2",
   "metadata": {},
   "outputs": [],
   "source": [
    "tensor([[42, 43],\n",
    "        [44, 45]])"
   ]
  },
  {
   "cell_type": "code",
   "execution_count": null,
   "id": "3857ddb6",
   "metadata": {},
   "outputs": [],
   "source": [
    "# 3 dimension tensor\n",
    "import torch\n",
    "\n",
    "x = torch.tensor([[[42, 43], [44, 45]], [[46, 47], [48, 49]]])\n",
    "print(x)"
   ]
  },
  {
   "cell_type": "code",
   "execution_count": null,
   "id": "f3fa034c",
   "metadata": {},
   "outputs": [],
   "source": [
    "tensor([[[42, 43],\n",
    "         [44, 45]],\n",
    "\n",
    "        [[46, 47],\n",
    "         [48, 49]]])"
   ]
  },
  {
   "cell_type": "markdown",
   "id": "6d7813f3",
   "metadata": {},
   "source": [
    "To check the dimension of a tensor, we can use the dim() method."
   ]
  },
  {
   "cell_type": "code",
   "execution_count": null,
   "id": "66f67c03",
   "metadata": {},
   "outputs": [],
   "source": [
    "x = torch.tensor([[[42, 43], [44, 45]], [[46, 47], [48, 49]]])\n",
    "print(x.dim())\n",
    "\n",
    "x = torch.tensor(42)\n",
    "print(x.dim())"
   ]
  },
  {
   "cell_type": "code",
   "execution_count": null,
   "id": "4f0d80c4",
   "metadata": {},
   "outputs": [],
   "source": [
    "3\n",
    "0"
   ]
  },
  {
   "cell_type": "markdown",
   "id": "7508bc4a",
   "metadata": {},
   "source": [
    "# Constructing Tensor"
   ]
  },
  {
   "cell_type": "markdown",
   "id": "5b743d53",
   "metadata": {},
   "source": [
    "# Random Tensor"
   ]
  },
  {
   "cell_type": "code",
   "execution_count": null,
   "id": "ba516863",
   "metadata": {},
   "outputs": [],
   "source": [
    "import torch\n",
    "torch.rand(5, 3)"
   ]
  },
  {
   "cell_type": "code",
   "execution_count": null,
   "id": "c44c91ab",
   "metadata": {},
   "outputs": [],
   "source": [
    "tensor([[0.2247, 0.7425, 0.7174],\n",
    "        [0.6279, 0.4899, 0.3813],\n",
    "        [0.5859, 0.6029, 0.3960],\n",
    "        [0.3568, 0.9450, 0.2779],\n",
    "        [0.8900, 0.5270, 0.5401]])"
   ]
  },
  {
   "cell_type": "markdown",
   "id": "37325e15",
   "metadata": {},
   "source": [
    "The parameters of the rand() method are the dimension of the tensor. For example, torch.rand(2, 3) will create a 2x3 tensor with random values."
   ]
  },
  {
   "cell_type": "code",
   "execution_count": null,
   "id": "41ae979b",
   "metadata": {},
   "outputs": [],
   "source": [
    "import torch\n",
    "# One dimensional tensor containing 5 random numbers\n",
    "torch.rand(5)"
   ]
  },
  {
   "cell_type": "code",
   "execution_count": null,
   "id": "f1cedd0f",
   "metadata": {},
   "outputs": [],
   "source": [
    "tensor([0.3616, 0.8951, 0.4249, 0.0801, 0.5676])"
   ]
  },
  {
   "cell_type": "markdown",
   "id": "440bd9ba",
   "metadata": {},
   "source": [
    "# Ones Tensor"
   ]
  },
  {
   "cell_type": "markdown",
   "id": "fac57f5e",
   "metadata": {},
   "source": [
    "Ones tensor is a tensor with all values equal to 1"
   ]
  },
  {
   "cell_type": "code",
   "execution_count": null,
   "id": "5a515145",
   "metadata": {},
   "outputs": [],
   "source": [
    "import torch\n",
    "torch.ones(2, 3)"
   ]
  },
  {
   "cell_type": "code",
   "execution_count": null,
   "id": "0fa45f19",
   "metadata": {},
   "outputs": [],
   "source": [
    "tensor([[1., 1., 1.],\n",
    "        [1., 1., 1.]])"
   ]
  },
  {
   "cell_type": "markdown",
   "id": "378d0b56",
   "metadata": {},
   "source": [
    "Quiz: what’s the output of torch.ones(1, 2)?"
   ]
  },
  {
   "cell_type": "code",
   "execution_count": null,
   "id": "b90d79ea",
   "metadata": {},
   "outputs": [],
   "source": [
    "import torch\n",
    "torch.ones(1, 2)"
   ]
  },
  {
   "cell_type": "code",
   "execution_count": null,
   "id": "2f3adba4",
   "metadata": {},
   "outputs": [],
   "source": [
    "tensor([[1., 1.]])"
   ]
  },
  {
   "cell_type": "markdown",
   "id": "b7a19c8a",
   "metadata": {},
   "source": [
    "# Zeros Tensor"
   ]
  },
  {
   "cell_type": "markdown",
   "id": "1478c3cc",
   "metadata": {},
   "source": [
    "Zeros tensor is a tensor with all values equal to 0"
   ]
  },
  {
   "cell_type": "code",
   "execution_count": null,
   "id": "577808a4",
   "metadata": {},
   "outputs": [],
   "source": [
    "import torch\n",
    "torch.zeros(1,2,3)"
   ]
  },
  {
   "cell_type": "code",
   "execution_count": null,
   "id": "d0ac5e50",
   "metadata": {},
   "outputs": [],
   "source": [
    "tensor([[[0., 0., 0.],\n",
    "         [0., 0., 0.]]])"
   ]
  },
  {
   "cell_type": "markdown",
   "id": "a10b770d",
   "metadata": {},
   "source": [
    "# Range Tensor"
   ]
  },
  {
   "cell_type": "markdown",
   "id": "099c75a8",
   "metadata": {},
   "source": [
    "If we want to create a tensor with values from 0 to n-1, we can use the torch.arange(n) method."
   ]
  },
  {
   "cell_type": "code",
   "execution_count": null,
   "id": "52191a2a",
   "metadata": {},
   "outputs": [],
   "source": [
    "import torch\n",
    "torch.arange(1, 10)"
   ]
  },
  {
   "cell_type": "code",
   "execution_count": null,
   "id": "58d71469",
   "metadata": {},
   "outputs": [],
   "source": [
    "tensor([1, 2, 3, 4, 5, 6, 7, 8, 9])"
   ]
  },
  {
   "cell_type": "code",
   "execution_count": null,
   "id": "86f928a1",
   "metadata": {},
   "outputs": [],
   "source": [
    "torch.arange(-3, 3, 2)"
   ]
  },
  {
   "cell_type": "code",
   "execution_count": null,
   "id": "6b1fb5f6",
   "metadata": {},
   "outputs": [],
   "source": [
    "tensor([-3, -1,  1])"
   ]
  },
  {
   "cell_type": "markdown",
   "id": "376324ae",
   "metadata": {},
   "source": [
    "# Full"
   ]
  },
  {
   "cell_type": "markdown",
   "id": "d09c4b48",
   "metadata": {},
   "source": [
    "If we want to create a tensor with all values equal to a constant, we can use the torch.full() method."
   ]
  },
  {
   "cell_type": "code",
   "execution_count": null,
   "id": "4f28b28e",
   "metadata": {},
   "outputs": [],
   "source": [
    "import torch\n",
    "torch.full((2, ), 42)"
   ]
  },
  {
   "cell_type": "code",
   "execution_count": null,
   "id": "5d86b143",
   "metadata": {},
   "outputs": [],
   "source": [
    "tensor([42, 42])"
   ]
  },
  {
   "cell_type": "code",
   "execution_count": null,
   "id": "b5d69450",
   "metadata": {},
   "outputs": [],
   "source": [
    "import torch\n",
    "torch.full((2, 3), 42)"
   ]
  },
  {
   "cell_type": "code",
   "execution_count": null,
   "id": "b7916a71",
   "metadata": {},
   "outputs": [],
   "source": [
    "tensor([[42, 42, 42],\n",
    "        [42, 42, 42]])"
   ]
  },
  {
   "cell_type": "markdown",
   "id": "5185725b",
   "metadata": {},
   "source": [
    "If we don’t have full method, we can use ones method and multiply it with the constant."
   ]
  },
  {
   "cell_type": "code",
   "execution_count": null,
   "id": "8c2a69be",
   "metadata": {},
   "outputs": [],
   "source": [
    "import torch\n",
    "torch.ones(2, 3) * 42"
   ]
  },
  {
   "cell_type": "code",
   "execution_count": null,
   "id": "27f5b413",
   "metadata": {},
   "outputs": [],
   "source": [
    "tensor([[42., 42., 42.],\n",
    "        [42., 42., 42.]])"
   ]
  },
  {
   "cell_type": "markdown",
   "id": "3fe9a39b",
   "metadata": {},
   "source": [
    "# Tensor Operations"
   ]
  },
  {
   "cell_type": "markdown",
   "id": "5f3b140c",
   "metadata": {},
   "source": [
    "We can do normal arithmetic operations on tensor:"
   ]
  },
  {
   "cell_type": "code",
   "execution_count": null,
   "id": "36e27b5f",
   "metadata": {},
   "outputs": [],
   "source": [
    "x = torch.tensor(42)\n",
    "print(x + 2)\n",
    "print(x * 3)\n",
    "print(x ** 2)\n",
    "print(x / 2)"
   ]
  },
  {
   "cell_type": "code",
   "execution_count": null,
   "id": "687f2f55",
   "metadata": {},
   "outputs": [],
   "source": [
    "tensor(44)\n",
    "tensor(126)\n",
    "tensor(1764)\n",
    "tensor(21.)"
   ]
  },
  {
   "cell_type": "markdown",
   "id": "ad18eb03",
   "metadata": {},
   "source": [
    "We can do similar operations on higher dimensional tensors:"
   ]
  },
  {
   "cell_type": "code",
   "execution_count": null,
   "id": "79fd9384",
   "metadata": {},
   "outputs": [],
   "source": [
    "x = torch.tensor([1, 2])\n",
    "print(x + 1)\n",
    "\n",
    "x = torch.tensor([[1, 2], [3, 4]])\n",
    "print(x + 1)"
   ]
  },
  {
   "cell_type": "code",
   "execution_count": null,
   "id": "17356b19",
   "metadata": {},
   "outputs": [],
   "source": [
    "tensor([2, 3])\n",
    "tensor([[2, 3],\n",
    "        [4, 5]])"
   ]
  },
  {
   "cell_type": "markdown",
   "id": "52052422",
   "metadata": {},
   "source": [
    "Wow from mathematic lesson, didn’t we learn that addition operations are only defined for tensors with the same shape? How come we can add a scalar tensor (0 dim) with a 2 dim tensor?"
   ]
  },
  {
   "cell_type": "markdown",
   "id": "625c8550",
   "metadata": {},
   "source": [
    "This is because of broadcasting. Pytorch will automatically broadcast the scalar tensor to match the shape of the other tensor."
   ]
  },
  {
   "cell_type": "markdown",
   "id": "0035c73b",
   "metadata": {},
   "source": [
    "So,"
   ]
  },
  {
   "cell_type": "markdown",
   "id": "73bfba25",
   "metadata": {},
   "source": [
    "\n",
    "\\[\n",
    "\\begin{bmatrix}\n",
    "1 & 2 & 3 \\\\\n",
    "4 & 5 & 6 \\\\\n",
    "\\end{bmatrix}\n",
    "+ 1\n",
    "\\]\n"
   ]
  },
  {
   "cell_type": "markdown",
   "id": "ecf7d2ed",
   "metadata": {},
   "source": [
    "would become"
   ]
  },
  {
   "cell_type": "markdown",
   "id": "de289b69",
   "metadata": {},
   "source": [
    "\n",
    "\\[\n",
    "\\begin{bmatrix}\n",
    "1 & 2 & 3 \\\\\n",
    "4 & 5 & 6 \\\\\n",
    "\\end{bmatrix}\n",
    "+\n",
    "\\begin{bmatrix}\n",
    "1 & 1 & 1 \\\\\n",
    "1 & 1 & 1 \\\\\n",
    "\\end{bmatrix}\n",
    "\\]\n"
   ]
  },
  {
   "cell_type": "markdown",
   "id": "f1f71358",
   "metadata": {},
   "source": [
    "# Broadcasting"
   ]
  },
  {
   "cell_type": "markdown",
   "id": "4a8d30f7",
   "metadata": {},
   "source": [
    "So how does broadcasting work?"
   ]
  },
  {
   "cell_type": "markdown",
   "id": "6070fa5f",
   "metadata": {},
   "source": [
    "Taken from Pytorch Docs:"
   ]
  },
  {
   "cell_type": "markdown",
   "id": "7ffd3f33",
   "metadata": {},
   "source": [
    "Two tensors are “broadcastable” if the following rules hold:"
   ]
  },
  {
   "cell_type": "markdown",
   "id": "2cca04ea",
   "metadata": {},
   "source": [
    "- Each tensor has at least one dimension.\n",
    "- When iterating over the dimension sizes, starting at the trailing dimension, the dimension sizes must either be equal, one of them is 1, or one of them does not exist."
   ]
  },
  {
   "cell_type": "markdown",
   "id": "198a089b",
   "metadata": {},
   "source": [
    "Broadcasting rules:"
   ]
  },
  {
   "cell_type": "markdown",
   "id": "781893f7",
   "metadata": {},
   "source": [
    "- If the number of dimensions of x and y are not equal, prepend 1 to the dimensions of the tensor with fewer dimensions to make them equal length.\n",
    "- Then, for each dimension size, the resulting dimension size is the max of the sizes of x and y along that dimension."
   ]
  },
  {
   "cell_type": "code",
   "execution_count": null,
   "id": "aee711bc",
   "metadata": {},
   "outputs": [],
   "source": [
    "import torch\n",
    "torch.full((1,), 5) + torch.ones(3)"
   ]
  },
  {
   "cell_type": "code",
   "execution_count": null,
   "id": "b48c05a1",
   "metadata": {},
   "outputs": [],
   "source": [
    "tensor([6., 6., 6.])"
   ]
  },
  {
   "cell_type": "markdown",
   "id": "69caeaa5",
   "metadata": {},
   "source": [
    "\n",
    "\\[\n",
    "\\begin{bmatrix}\n",
    "5\n",
    "\\end{bmatrix}\n",
    "+\n",
    "\\begin{bmatrix}\n",
    "1 \\\\\n",
    "1 \\\\\n",
    "1\n",
    "\\end{bmatrix}\n",
    "=\n",
    "\\begin{bmatrix}\n",
    "5 \\\\\n",
    "5 \\\\\n",
    "5\n",
    "\\end{bmatrix}\n",
    "+\n",
    "\\begin{bmatrix}\n",
    "1 \\\\\n",
    "1 \\\\\n",
    "1\n",
    "\\end{bmatrix}\n",
    "\\]\n"
   ]
  },
  {
   "cell_type": "code",
   "execution_count": null,
   "id": "f7c0c85f",
   "metadata": {},
   "outputs": [],
   "source": [
    "import torch\n",
    "# Error\n",
    "torch.ones(3) + torch.ones(5)"
   ]
  },
  {
   "cell_type": "markdown",
   "id": "a9556712",
   "metadata": {},
   "source": [
    "\n",
    "\\[\n",
    "\\begin{bmatrix}\n",
    "1 \\\\\n",
    "1 \\\\\n",
    "1\n",
    "\\end{bmatrix}\n",
    "+\n",
    "\\begin{bmatrix}\n",
    "1 \\\\\n",
    "1 \\\\\n",
    "1 \\\\\n",
    "1 \\\\\n",
    "1\n",
    "\\end{bmatrix}\n",
    "=\n",
    "error\n",
    "\\]\n"
   ]
  },
  {
   "cell_type": "markdown",
   "id": "e49d81a8",
   "metadata": {},
   "source": [
    "Why is it an error?"
   ]
  },
  {
   "cell_type": "markdown",
   "id": "a79d934b",
   "metadata": {},
   "source": [
    "Remember this rule:"
   ]
  },
  {
   "cell_type": "markdown",
   "id": "b55310af",
   "metadata": {},
   "source": [
    "> When iterating over the dimension sizes, starting at the trailing dimension, the dimension sizes must either be equal, one of them is 1, or one of them does not exist."
   ]
  },
  {
   "cell_type": "markdown",
   "id": "4f553f64",
   "metadata": {},
   "source": [
    "When iterating over the dimension sizes, starting at the trailing dimension, the dimension sizes must either be equal, one of them is 1, or one of them does not exist."
   ]
  },
  {
   "cell_type": "markdown",
   "id": "a4382984",
   "metadata": {},
   "source": [
    "The trailing dimension of the first tensor is 3, while the trailing dimension of the second tensor is 5. They are not equal, one of them is not 1, and one of them does not exist. So it’s an error."
   ]
  },
  {
   "cell_type": "markdown",
   "id": "046b3113",
   "metadata": {},
   "source": [
    "Let’s try again"
   ]
  },
  {
   "cell_type": "code",
   "execution_count": null,
   "id": "8dcf817c",
   "metadata": {},
   "outputs": [],
   "source": [
    "import torch\n",
    "\n",
    "torch.full((2, 2), 5) + torch.full((1, 2), 3)"
   ]
  },
  {
   "cell_type": "code",
   "execution_count": null,
   "id": "bc3b5d73",
   "metadata": {},
   "outputs": [],
   "source": [
    "tensor([[8, 8],\n",
    "        [8, 8]])"
   ]
  },
  {
   "cell_type": "markdown",
   "id": "d38f0101",
   "metadata": {},
   "source": [
    "\n",
    "\\[\n",
    "\\begin{bmatrix}\n",
    "5 && 5 \\\\\n",
    "5 && 5 \\\\\n",
    "\\end{bmatrix}\n",
    "+\n",
    "\\begin{bmatrix}\n",
    "3 && 3\n",
    "\\end{bmatrix}\n",
    "=\n",
    "\\begin{bmatrix}\n",
    "5 && 5 \\\\\n",
    "5 && 5 \\\\\n",
    "\\end{bmatrix}\n",
    "+\n",
    "\\begin{bmatrix}\n",
    "3 && 3 \\\\\n",
    "3 && 3 \\\\\n",
    "\\end{bmatrix}\n",
    "\\]\n"
   ]
  },
  {
   "cell_type": "code",
   "execution_count": null,
   "id": "643ed3f4",
   "metadata": {},
   "outputs": [],
   "source": [
    "import torch\n",
    "\n",
    "x = torch.full((3, 4, 2), 5)\n",
    "y = torch.full((2,), 3) \n",
    "z = x + y\n",
    "print('x =', x)\n",
    "print('y =', y)\n",
    "print('z = ',z)"
   ]
  },
  {
   "cell_type": "code",
   "execution_count": null,
   "id": "78407d39",
   "metadata": {},
   "outputs": [],
   "source": [
    "x = tensor([[[5, 5],\n",
    "         [5, 5],\n",
    "         [5, 5],\n",
    "         [5, 5]],\n",
    "\n",
    "        [[5, 5],\n",
    "         [5, 5],\n",
    "         [5, 5],\n",
    "         [5, 5]],\n",
    "\n",
    "        [[5, 5],\n",
    "         [5, 5],\n",
    "         [5, 5],\n",
    "         [5, 5]]])\n",
    "y = tensor([3, 3])\n",
    "z =  tensor([[[8, 8],\n",
    "         [8, 8],\n",
    "         [8, 8],\n",
    "         [8, 8]],\n",
    "\n",
    "        [[8, 8],\n",
    "         [8, 8],\n",
    "         [8, 8],\n",
    "         [8, 8]],\n",
    "\n",
    "        [[8, 8],\n",
    "         [8, 8],\n",
    "         [8, 8],\n",
    "         [8, 8]]])"
   ]
  },
  {
   "cell_type": "markdown",
   "id": "e488a752",
   "metadata": {},
   "source": [
    "# Matrix Operation"
   ]
  },
  {
   "cell_type": "markdown",
   "id": "894e5a2e",
   "metadata": {},
   "source": [
    "Tensor can be multiplied with another tensor using the matmul() method or the @ operator."
   ]
  },
  {
   "cell_type": "code",
   "execution_count": null,
   "id": "83b9e816",
   "metadata": {},
   "outputs": [],
   "source": [
    "import torch\n",
    "\n",
    "x = torch.tensor([[3, 4]])\n",
    "print(x.shape)\n",
    "y = torch.tensor([[1, 2, 3], [4, 5, 6]])\n",
    "print(y.shape)\n",
    "x @ y\n",
    "x.matmul(y)\n",
    "x.mm(y)"
   ]
  },
  {
   "cell_type": "code",
   "execution_count": null,
   "id": "ade3de06",
   "metadata": {},
   "outputs": [],
   "source": [
    "torch.Size([1, 2])\n",
    "torch.Size([2, 3])"
   ]
  },
  {
   "cell_type": "code",
   "execution_count": null,
   "id": "84adadaf",
   "metadata": {},
   "outputs": [],
   "source": [
    "tensor([[19, 26, 33]])"
   ]
  },
  {
   "cell_type": "markdown",
   "id": "2704d711",
   "metadata": {},
   "source": [
    "\n",
    "\\[\n",
    "\\begin{bmatrix}\n",
    "3 && 4\n",
    "\\end{bmatrix}\n",
    "\\dot\\\\\n",
    "\\begin{bmatrix}\n",
    "1 && 2 && 3 \\\\\n",
    "4 && 5 && 6\n",
    "\\end{bmatrix}\n",
    "\\]\n"
   ]
  },
  {
   "cell_type": "markdown",
   "id": "628b9aec",
   "metadata": {},
   "source": [
    "Be careful not to be confused with the * operator. The * operator is element-wise multiplication."
   ]
  },
  {
   "cell_type": "code",
   "execution_count": null,
   "id": "7bd5c425",
   "metadata": {},
   "outputs": [],
   "source": [
    "import torch\n",
    "\n",
    "x = torch.tensor([[3, 4]])\n",
    "x * x"
   ]
  },
  {
   "cell_type": "code",
   "execution_count": null,
   "id": "f659767a",
   "metadata": {},
   "outputs": [],
   "source": [
    "tensor([[ 9, 16]])"
   ]
  },
  {
   "cell_type": "markdown",
   "id": "c0ddf1f8",
   "metadata": {},
   "source": [
    "# Transpose"
   ]
  },
  {
   "cell_type": "markdown",
   "id": "93a240bb",
   "metadata": {},
   "source": [
    "We can transpose a tensor using the t method."
   ]
  },
  {
   "cell_type": "code",
   "execution_count": null,
   "id": "5b91edeb",
   "metadata": {},
   "outputs": [],
   "source": [
    "import torch\n",
    "\n",
    "x = torch.tensor([[3, 4]])\n",
    "print(x)\n",
    "print(x.shape)\n",
    "print(x.T)\n",
    "print(x.T.shape)"
   ]
  },
  {
   "cell_type": "code",
   "execution_count": null,
   "id": "8f846fff",
   "metadata": {},
   "outputs": [],
   "source": [
    "tensor([[3, 4]])\n",
    "torch.Size([1, 2])\n",
    "tensor([[3],\n",
    "        [4]])\n",
    "torch.Size([2, 1])"
   ]
  },
  {
   "cell_type": "markdown",
   "id": "906f6d15",
   "metadata": {},
   "source": [
    "# Neural Network with Pytorch"
   ]
  },
  {
   "cell_type": "markdown",
   "id": "f9758c21",
   "metadata": {},
   "source": [
    "Now we have learned the required knowledge to build a neural network with pytorch."
   ]
  },
  {
   "cell_type": "code",
   "execution_count": null,
   "id": "f26b6b40",
   "metadata": {},
   "outputs": [],
   "source": [
    "from fastbook import *\n",
    "\n",
    "\n",
    "# Draw neurons with multiple inputs and weights\n",
    "gv('''\n",
    "z[shape=box3d width=1 height=0.7]\n",
    "bias[shape=circle width=0.3]\n",
    "x_0[label=1]\n",
    "x_1[label=2]\n",
    "// Subgraph to force alignment on x-axis\n",
    "subgraph {\n",
    "    rank=same;\n",
    "    z;\n",
    "    bias;\n",
    "    alignmentNode [style=invis, width=0]; // invisible node for alignment\n",
    "    bias -> alignmentNode [style=invis]; // invisible edge\n",
    "    z -> alignmentNode [style=invis]; // invisible edge\n",
    "}\n",
    "x_0->z [label=\"3\"]\n",
    "x_1->z [label=\"4\"]\n",
    "bias->z [label=\"5\" pos=\"0,1.2!\"]\n",
    "z->a \n",
    "a->output [label=\"ReLU\"]\n",
    "''')"
   ]
  },
  {
   "cell_type": "markdown",
   "id": "82249df4",
   "metadata": {},
   "source": []
  },
  {
   "cell_type": "markdown",
   "id": "bf8fbb1a",
   "metadata": {},
   "source": [
    "Remember the equation"
   ]
  },
  {
   "cell_type": "markdown",
   "id": "8720aa75",
   "metadata": {},
   "source": [
    "\n",
    "\\[\n",
    "z = wx + b\\\\\n",
    "a = ReLU(z)\n",
    "\\]\n"
   ]
  },
  {
   "cell_type": "markdown",
   "id": "d7cd6964",
   "metadata": {},
   "source": [
    "Let’s represent it in pytorch"
   ]
  },
  {
   "cell_type": "code",
   "execution_count": null,
   "id": "46782873",
   "metadata": {},
   "outputs": [],
   "source": [
    "x = torch.tensor([[1],[2]])\n",
    "\n",
    "w = torch.tensor([3, 4])\n",
    "b = torch.tensor(5)\n",
    "z = w @ x + b\n",
    "a = torch.relu(z)\n",
    "a"
   ]
  },
  {
   "cell_type": "code",
   "execution_count": null,
   "id": "5ef4b934",
   "metadata": {},
   "outputs": [],
   "source": [
    "tensor([16])"
   ]
  },
  {
   "cell_type": "markdown",
   "id": "6d86e188",
   "metadata": {},
   "source": [
    "How about multiple layers? Easy!"
   ]
  },
  {
   "cell_type": "code",
   "execution_count": null,
   "id": "7a9b7488",
   "metadata": {},
   "outputs": [],
   "source": [
    "from fastbook import *\n",
    "\n",
    "gv('''\n",
    "   x_0[label=1]\n",
    "   x_1[label=2]\n",
    "   a_0_0[label=\"b=3\"]\n",
    "   a_0_1[label=\"b=2\"]\n",
    "   a_1_0[label=\"b=1\"]\n",
    "   x_0 -> a_0_0 [label=-3]\n",
    "   x_0 -> a_0_1 [label=4]\n",
    "   x_1 -> a_0_0 [label=5]\n",
    "   x_1 -> a_0_1 [label=-6]\n",
    "   a_0_0 -> a_1_0 [label=7]\n",
    "   a_0_1 -> a_1_0 [label=8]\n",
    "   a_1_0 -> output\n",
    "   ''')"
   ]
  },
  {
   "cell_type": "markdown",
   "id": "7b5e8581",
   "metadata": {},
   "source": []
  },
  {
   "cell_type": "code",
   "execution_count": null,
   "id": "799ea8db",
   "metadata": {},
   "outputs": [],
   "source": [
    "x = torch.tensor([[1],[2]])\n",
    "\n",
    "w_0 = torch.tensor([[-3, 5], [4, -6]])\n",
    "b_0 = torch.tensor([[3, 2]])\n",
    "a_0 = torch.relu(w_0 @ x + b_0)\n",
    "\n",
    "w_1 = torch.tensor([[7, 8]])\n",
    "b_1 = torch.tensor([[1]])\n",
    "a_1 = torch.relu(w_1 @ a_0 + b_1)\n",
    "a_1"
   ]
  },
  {
   "cell_type": "code",
   "execution_count": null,
   "id": "095c6f90",
   "metadata": {},
   "outputs": [],
   "source": [
    "tensor([[71]])"
   ]
  },
  {
   "cell_type": "markdown",
   "id": "cd7ca54c",
   "metadata": {},
   "source": [
    "# Exercise"
   ]
  },
  {
   "cell_type": "code",
   "execution_count": null,
   "id": "19527e67",
   "metadata": {},
   "outputs": [],
   "source": [
    "!pip install rggrader"
   ]
  },
  {
   "cell_type": "code",
   "execution_count": null,
   "id": "a8fc4ac6",
   "metadata": {},
   "outputs": [],
   "source": [
    "# @title #### Student Identity\n",
    "student_id = \"your student id\" # @param {type:\"string\"}\n",
    "name = \"your name\" # @param {type:\"string\"}"
   ]
  },
  {
   "cell_type": "markdown",
   "id": "953b5a32",
   "metadata": {},
   "source": [
    "Implement the following neural network"
   ]
  },
  {
   "cell_type": "code",
   "execution_count": null,
   "id": "85e9ed0e",
   "metadata": {},
   "outputs": [],
   "source": [
    "from fastbook import *\n",
    "\n",
    "gv('''\n",
    "   x_0[label=3]\n",
    "   a_0_0[label=\"b=-2, ReLU\"]\n",
    "   a_0_1[label=\"b=5, ReLU\"]\n",
    "   a_1_0[label=\"b=0, ReLU\"]\n",
    "   x_0 -> a_0_0 [label=-2]\n",
    "   x_0 -> a_0_1 [label=5]\n",
    "   a_0_0 -> a_1_0 [label=3]\n",
    "   a_0_1 -> a_1_0 [label=2]\n",
    "   \n",
    "   a_1_0 -> output\n",
    "   ''')"
   ]
  },
  {
   "cell_type": "markdown",
   "id": "8af8315a",
   "metadata": {},
   "source": []
  },
  {
   "cell_type": "code",
   "execution_count": null,
   "id": "c9c777e7",
   "metadata": {},
   "outputs": [],
   "source": [
    "from rggrader import submit\n",
    "\n",
    "# Put your code here\n",
    "answer = 0\n",
    "\n",
    "assignment_id = \"10_pytorch-basic\"\n",
    "question_id = \"00_single-input-nn\"\n",
    "submit(student_id, name, assignment_id, str(answer), question_id)"
   ]
  },
  {
   "cell_type": "code",
   "execution_count": null,
   "id": "d698fb7b",
   "metadata": {},
   "outputs": [],
   "source": [
    "from fastbook import *\n",
    "\n",
    "gv('''\n",
    "   x_0[label=3]\n",
    "   x_1[label=5]\n",
    "   a_0_0[label=\"b=8, ReLU\"]\n",
    "   a_0_1[label=\"b=-2, ReLU\"]\n",
    "   a_0_2[label=\"b=4, ReLU\"]\n",
    "   a_1_0[label=\"b=3, ReLU\"]\n",
    "   x_0 -> a_0_0 [label=-2]\n",
    "   x_0 -> a_0_1 [label=5]\n",
    "   x_0 -> a_0_2 [label=3]\n",
    "   x_1 -> a_0_0 [label=8]\n",
    "   x_1 -> a_0_1 [label=-2]\n",
    "   x_1 -> a_0_2 [label=4]\n",
    "   a_0_0 -> a_1_0 [label=3]\n",
    "   a_0_1 -> a_1_0 [label=2]\n",
    "   a_0_2 -> a_1_0 [label=8]\n",
    "   \n",
    "   a_1_0 -> output\n",
    "   ''')"
   ]
  },
  {
   "cell_type": "markdown",
   "id": "1081f5f4",
   "metadata": {},
   "source": []
  },
  {
   "cell_type": "code",
   "execution_count": null,
   "id": "d6560cd2",
   "metadata": {},
   "outputs": [],
   "source": [
    "from rggrader import submit\n",
    "\n",
    "# Put your code here\n",
    "answer = 0\n",
    "\n",
    "assignment_id = \"10_pytorch-basic\"\n",
    "question_id = \"01_multi-input-nn\"\n",
    "submit(student_id, name, assignment_id, str(answer), question_id)"
   ]
  }
 ],
 "metadata": {},
 "nbformat": 4,
 "nbformat_minor": 5
}
