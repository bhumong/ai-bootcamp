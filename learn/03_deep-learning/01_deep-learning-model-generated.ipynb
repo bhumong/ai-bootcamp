{
 "cells": [
  {
   "cell_type": "markdown",
   "id": "570d1e0f",
   "metadata": {},
   "source": [
    "source: [link](https://ai-bootcamp.ruangguru.com/learn/03_deep-learning/01_deep-learning-model.html)"
   ]
  },
  {
   "cell_type": "markdown",
   "id": "07081df1",
   "metadata": {},
   "source": [
    "# Deep Learning Model"
   ]
  },
  {
   "cell_type": "markdown",
   "id": "ceeebc45",
   "metadata": {},
   "source": [
    "Deep Learning consists of neural networks with many layers. The layers are connected to each other and each layer has a weight. The weight is used to calculate the output of each layer. The output of the previous layer is used as the input of the next layer. The output of the last layer is the output of the model."
   ]
  },
  {
   "cell_type": "markdown",
   "id": "40db44bd",
   "metadata": {},
   "source": [
    "So what is neural networks?"
   ]
  },
  {
   "cell_type": "markdown",
   "id": "14340a30",
   "metadata": {},
   "source": [
    "# Neural Networks"
   ]
  },
  {
   "cell_type": "markdown",
   "id": "64530558",
   "metadata": {},
   "source": [
    "Neural Networks consists of neurons. Each neuron has inputs, weights, bias, an activation function, and an output."
   ]
  },
  {
   "cell_type": "code",
   "execution_count": null,
   "id": "a4de8094",
   "metadata": {},
   "outputs": [],
   "source": [
    "from fastbook import *\n",
    "\n",
    "\n",
    "# Draw neurons with multiple inputs and weights\n",
    "gv('''\n",
    "z[shape=box3d width=1 height=0.7]\n",
    "bias[shape=circle width=0.3]\n",
    "// Subgraph to force alignment on x-axis\n",
    "subgraph {\n",
    "    rank=same;\n",
    "    z;\n",
    "    bias;\n",
    "    alignmentNode [style=invis, width=0]; // invisible node for alignment\n",
    "    bias -> alignmentNode [style=invis]; // invisible edge\n",
    "    z -> alignmentNode [style=invis]; // invisible edge\n",
    "}\n",
    "x_0->z [label=\"w_0\"]\n",
    "x_1->z [label=\"w_1\"]\n",
    "bias->z [label=\"b\" pos=\"0,1.2!\"]\n",
    "z->output [label=\"z = w_0 x_0 + w_1 x_1 + b\"]\n",
    "''')"
   ]
  },
  {
   "cell_type": "markdown",
   "id": "264ee867",
   "metadata": {},
   "source": []
  },
  {
   "cell_type": "markdown",
   "id": "f6122079",
   "metadata": {},
   "source": [
    "We can have multiple neurons in one layer"
   ]
  },
  {
   "cell_type": "code",
   "execution_count": null,
   "id": "e22c6aca",
   "metadata": {},
   "outputs": [],
   "source": [
    "from fastbook import *\n",
    "\n",
    "# Draw neurons with multiple inputs and weights\n",
    "gv('''\n",
    "z0[shape=box3d width=1 height=0.7]\n",
    "z1[shape=box3d width=1 height=0.7]\n",
    "bias_0[shape=circle width=0.3]\n",
    "bias_1[shape=circle width=0.3]\n",
    "\n",
    "subgraph {\n",
    "    rank=same;\n",
    "    z0;\n",
    "    bias_0;\n",
    "    alignmentNode [style=invis, width=0]; // invisible node for alignment\n",
    "    bias_0 -> alignmentNode [style=invis]; // invisible edge\n",
    "    z0 -> alignmentNode [style=invis]; // invisible edge\n",
    "}\n",
    "\n",
    "subgraph {\n",
    "    rank=same;\n",
    "    z1;\n",
    "    bias_1;\n",
    "    alignmentNode [style=invis, width=0]; // invisible node for alignment\n",
    "    bias_1 -> alignmentNode [style=invis]; // invisible edge\n",
    "    z1 -> alignmentNode [style=invis]; // invisible edge\n",
    "}\n",
    "x_0->z0 [label=\"w_0,0\"]\n",
    "x_1->z0 [label=\"w_0,1\"]\n",
    "bias_0->z0 [label=\"b_0\" pos=\"0,1.2!\"]\n",
    "z0->output_0 [label=\"z0 = w_0,0 x_0 + w_0,1 x_1 + b_0\"]\n",
    "   \n",
    "x_0->z1 [label=\"w_1,0\"]\n",
    "x_1->z1 [label=\"w_1,1\"]\n",
    "bias_1->z1 [label=\"b_1\" pos=\"0,1.2!\"]\n",
    "z1->output_1 [label=\"z1 = w_1,0 x_0 + w_1,1 x_1 + b_1\"]\n",
    "''')"
   ]
  },
  {
   "cell_type": "markdown",
   "id": "c862072d",
   "metadata": {},
   "source": []
  },
  {
   "cell_type": "markdown",
   "id": "7a174950",
   "metadata": {},
   "source": [
    "# Multilayer Neural Networks"
   ]
  },
  {
   "cell_type": "markdown",
   "id": "38628d17",
   "metadata": {},
   "source": [
    "The output of the previous layer can be used as the input of the next layer. The output of the last layer is the output of the model."
   ]
  },
  {
   "cell_type": "code",
   "execution_count": null,
   "id": "1e0987ff",
   "metadata": {},
   "outputs": [],
   "source": [
    "from fastbook import *\n",
    "\n",
    "gv('''\n",
    "   x_0 -> z_0_0\n",
    "   x_0 -> z_0_1\n",
    "   x_1 -> z_0_0\n",
    "   x_1 -> z_0_1\n",
    "   z_0_0 -> z_1_0\n",
    "   z_0_1 -> z_1_0\n",
    "   z_1_0 -> output\n",
    "   ''')"
   ]
  },
  {
   "cell_type": "markdown",
   "id": "348cb3f0",
   "metadata": {},
   "source": []
  },
  {
   "cell_type": "markdown",
   "id": "dbd51430",
   "metadata": {},
   "source": [
    "Note that the network is fully connected, so the following is not a valid network"
   ]
  },
  {
   "cell_type": "code",
   "execution_count": null,
   "id": "f6e5ef44",
   "metadata": {},
   "outputs": [],
   "source": [
    "from fastbook import *\n",
    "\n",
    "gv('''\n",
    "   x_0 -> z_0_0\n",
    "   x_1 -> z_0_1\n",
    "   z_0_0 -> z_1_0\n",
    "   z_0_1 -> z_1_0\n",
    "   z_1_0 -> output\n",
    "   ''')"
   ]
  },
  {
   "cell_type": "markdown",
   "id": "99900d21",
   "metadata": {},
   "source": []
  },
  {
   "cell_type": "markdown",
   "id": "48a4740e",
   "metadata": {},
   "source": [
    "# Vectorized"
   ]
  },
  {
   "cell_type": "markdown",
   "id": "5ec1ae14",
   "metadata": {},
   "source": [
    "Operations in neurons can be vectorized. This is important because it can speed up the calculation."
   ]
  },
  {
   "cell_type": "markdown",
   "id": "deb6ef5e",
   "metadata": {},
   "source": [
    "It also simplifies the code. Let’s go back to the previous example."
   ]
  },
  {
   "cell_type": "code",
   "execution_count": null,
   "id": "a74a233d",
   "metadata": {},
   "outputs": [],
   "source": [
    "from fastbook import *\n",
    "\n",
    "\n",
    "# Draw neurons with multiple inputs and weights\n",
    "gv('''\n",
    "z[shape=box3d width=1 height=0.7]\n",
    "bias[shape=circle width=0.3]\n",
    "// Subgraph to force alignment on x-axis\n",
    "subgraph {\n",
    "    rank=same;\n",
    "    z;\n",
    "    bias;\n",
    "    alignmentNode [style=invis, width=0]; // invisible node for alignment\n",
    "    bias -> alignmentNode [style=invis]; // invisible edge\n",
    "    z -> alignmentNode [style=invis]; // invisible edge\n",
    "}\n",
    "x_0->z [label=\"w_0\"]\n",
    "x_1->z [label=\"w_1\"]\n",
    "bias->z [label=\"b\" pos=\"0,1.2!\"]\n",
    "z->output [label=\"z = w_0 x_0 + w_1 x_1 + b\"]\n",
    "''')"
   ]
  },
  {
   "cell_type": "markdown",
   "id": "bdaa877b",
   "metadata": {},
   "source": []
  },
  {
   "cell_type": "markdown",
   "id": "8c1913f1",
   "metadata": {},
   "source": [
    "Matrix representation"
   ]
  },
  {
   "cell_type": "markdown",
   "id": "db5c069e",
   "metadata": {},
   "source": [
    "\\[\n",
    "x =\n",
    "\\begin{bmatrix}\n",
    "x_0 \\\\\n",
    "x_1\n",
    "\\end{bmatrix}\n",
    "\\]"
   ]
  },
  {
   "cell_type": "markdown",
   "id": "786466a5",
   "metadata": {},
   "source": [
    "\\[\n",
    "w =\n",
    "\\begin{bmatrix}\n",
    "w_0 & w_1\n",
    "\\end{bmatrix}\n",
    "\\]"
   ]
  },
  {
   "cell_type": "markdown",
   "id": "c5226b53",
   "metadata": {},
   "source": [
    "\\[\n",
    "b =\n",
    "\\begin{bmatrix}\n",
    "b_0\n",
    "\\end{bmatrix}\n",
    "\\]"
   ]
  },
  {
   "cell_type": "markdown",
   "id": "31a7caef",
   "metadata": {},
   "source": [
    "\\[\n",
    "z = wx + b\n",
    "\\]"
   ]
  },
  {
   "cell_type": "markdown",
   "id": "90f4cc05",
   "metadata": {},
   "source": [
    "If we have multiple neurons in one layer, we can write it as follow"
   ]
  },
  {
   "cell_type": "code",
   "execution_count": null,
   "id": "e68e825e",
   "metadata": {},
   "outputs": [],
   "source": [
    "from fastbook import *\n",
    "\n",
    "# Draw neurons with multiple inputs and weights\n",
    "gv('''\n",
    "z0[shape=box3d width=1 height=0.7]\n",
    "z1[shape=box3d width=1 height=0.7]\n",
    "bias_0[shape=circle width=0.3]\n",
    "bias_1[shape=circle width=0.3]\n",
    "\n",
    "subgraph {\n",
    "    rank=same;\n",
    "    z0;\n",
    "    bias_0;\n",
    "    alignmentNode [style=invis, width=0]; // invisible node for alignment\n",
    "    bias_0 -> alignmentNode [style=invis]; // invisible edge\n",
    "    z0 -> alignmentNode [style=invis]; // invisible edge\n",
    "}\n",
    "\n",
    "subgraph {\n",
    "    rank=same;\n",
    "    z1;\n",
    "    bias_1;\n",
    "    alignmentNode [style=invis, width=0]; // invisible node for alignment\n",
    "    bias_1 -> alignmentNode [style=invis]; // invisible edge\n",
    "    z1 -> alignmentNode [style=invis]; // invisible edge\n",
    "}\n",
    "x_0->z0 [label=\"w_0,0\"]\n",
    "x_1->z0 [label=\"w_0,1\"]\n",
    "bias_0->z0 [label=\"b_0\" pos=\"0,1.2!\"]\n",
    "z0->output_0 [label=\"z0 = w_0,0 x_0 + w_0,1 x_1 + b_0\"]\n",
    "   \n",
    "x_0->z1 [label=\"w_1,0\"]\n",
    "x_1->z1 [label=\"w_1,1\"]\n",
    "bias_1->z1 [label=\"b_1\" pos=\"0,1.2!\"]\n",
    "z1->output_1 [label=\"z1 = w_1,0 x_0 + w_1,1 x_1 + b_1\"]\n",
    "''')"
   ]
  },
  {
   "cell_type": "markdown",
   "id": "e0d650b2",
   "metadata": {},
   "source": []
  },
  {
   "cell_type": "markdown",
   "id": "7e3a957c",
   "metadata": {},
   "source": [
    "Matrix representation"
   ]
  },
  {
   "cell_type": "markdown",
   "id": "9c7a5413",
   "metadata": {},
   "source": [
    "\\[\n",
    "x =\n",
    "\\begin{bmatrix}\n",
    "x_0 \\\\\n",
    "x_1\n",
    "\\end{bmatrix}\n",
    "\\]"
   ]
  },
  {
   "cell_type": "markdown",
   "id": "cf406667",
   "metadata": {},
   "source": [
    "\\[\n",
    "w =\n",
    "\\begin{bmatrix}\n",
    "w_{00} & w_{01} \\\\\n",
    "w_{10} & w_{11}\n",
    "\\end{bmatrix}\n",
    "\\]"
   ]
  },
  {
   "cell_type": "markdown",
   "id": "4b3ccf4b",
   "metadata": {},
   "source": [
    "\\[\n",
    "b =\n",
    "\\begin{bmatrix}\n",
    "b_0 \\\\\n",
    "b_1\n",
    "\\end{bmatrix}\n",
    "\\]"
   ]
  },
  {
   "cell_type": "markdown",
   "id": "56f70ca8",
   "metadata": {},
   "source": [
    "\\[\n",
    "z = wx + b\n",
    "\\]"
   ]
  },
  {
   "cell_type": "markdown",
   "id": "f0cf5050",
   "metadata": {},
   "source": [
    "Let’s try 3 neurons and 2 inputs"
   ]
  },
  {
   "cell_type": "code",
   "execution_count": null,
   "id": "d1815048",
   "metadata": {},
   "outputs": [],
   "source": [
    "from fastbook import *\n",
    "\n",
    "gv('''\n",
    "   x_0 -> z_0\n",
    "   x_0 -> z_1\n",
    "   x_0 -> z_2\n",
    "   x_1 -> z_0\n",
    "   x_1 -> z_1\n",
    "   x_1 -> z_2\n",
    "   z_0 -> output_0\n",
    "   z_1 -> output_1\n",
    "   z_2 -> output_2\n",
    "   ''')"
   ]
  },
  {
   "cell_type": "markdown",
   "id": "2bbf04e4",
   "metadata": {},
   "source": []
  },
  {
   "cell_type": "markdown",
   "id": "33b5d825",
   "metadata": {},
   "source": [
    "Matrix representation"
   ]
  },
  {
   "cell_type": "markdown",
   "id": "2ed52b0f",
   "metadata": {},
   "source": [
    "\\[\n",
    "x =\n",
    "\\begin{bmatrix}\n",
    "x_0 \\\\\n",
    "x_1\n",
    "\\end{bmatrix}\n",
    "\\]"
   ]
  },
  {
   "cell_type": "markdown",
   "id": "5fc5c2a6",
   "metadata": {},
   "source": [
    "\\[\n",
    "w =\n",
    "\\begin{bmatrix}\n",
    "w_{00} & w_{01} \\\\\n",
    "w_{10} & w_{11} \\\\\n",
    "w_{20} & w_{21}\n",
    "\\end{bmatrix}\n",
    "\\]"
   ]
  },
  {
   "cell_type": "markdown",
   "id": "4491682c",
   "metadata": {},
   "source": [
    "\\[\n",
    "b =\n",
    "\\begin{bmatrix}\n",
    "b_0 \\\\\n",
    "b_1 \\\\\n",
    "b_2\n",
    "\\end{bmatrix}\n",
    "\\]"
   ]
  },
  {
   "cell_type": "markdown",
   "id": "1f173d23",
   "metadata": {},
   "source": [
    "\\[\n",
    "z = wx + b\n",
    "\\]"
   ]
  },
  {
   "cell_type": "markdown",
   "id": "ab5cbc57",
   "metadata": {},
   "source": [
    "Lastly, let’s try vectorized multi layers"
   ]
  },
  {
   "cell_type": "code",
   "execution_count": null,
   "id": "e687c556",
   "metadata": {},
   "outputs": [],
   "source": [
    "from fastbook import *\n",
    "\n",
    "gv('''\n",
    "   x_0 -> z_0_0\n",
    "   x_0 -> z_0_1\n",
    "   x_1 -> z_0_0\n",
    "   x_1 -> z_0_1\n",
    "   z_0_0 -> z_1_0\n",
    "   z_0_1 -> z_1_0\n",
    "   z_1_0 -> output\n",
    "   ''')"
   ]
  },
  {
   "cell_type": "markdown",
   "id": "07c966f2",
   "metadata": {},
   "source": []
  },
  {
   "cell_type": "markdown",
   "id": "dfa3520d",
   "metadata": {},
   "source": [
    "Matrix representation"
   ]
  },
  {
   "cell_type": "markdown",
   "id": "9241e033",
   "metadata": {},
   "source": [
    "\\[\n",
    "x =\n",
    "\\begin{bmatrix}\n",
    "x_0 \\\\\n",
    "x_1\n",
    "\\end{bmatrix}\n",
    "\\]"
   ]
  },
  {
   "cell_type": "markdown",
   "id": "05c99eac",
   "metadata": {},
   "source": [
    "First layer"
   ]
  },
  {
   "cell_type": "markdown",
   "id": "86deb9db",
   "metadata": {},
   "source": [
    "\\[\n",
    "w^{[0]} =\n",
    "\\begin{bmatrix}\n",
    "w_{00} & w_{01} \\\\\n",
    "w_{10} & w_{11} \\\\\n",
    "\\end{bmatrix}\n",
    "\\]"
   ]
  },
  {
   "cell_type": "markdown",
   "id": "c3456abf",
   "metadata": {},
   "source": [
    "\\[\n",
    "b^{[0]} =\n",
    "\\begin{bmatrix}\n",
    "b_0 \\\\\n",
    "b_1\n",
    "\\end{bmatrix}\n",
    "\\]"
   ]
  },
  {
   "cell_type": "markdown",
   "id": "005b9032",
   "metadata": {},
   "source": [
    "\\[\n",
    "z^{[0]} = w^{[0]}x + b^{[0]}\n",
    "\\]"
   ]
  },
  {
   "cell_type": "markdown",
   "id": "6f39030d",
   "metadata": {},
   "source": [
    "Second layer"
   ]
  },
  {
   "cell_type": "markdown",
   "id": "e73b99cb",
   "metadata": {},
   "source": [
    "\\[\n",
    "w^{[1]} =\n",
    "\\begin{bmatrix}\n",
    "w_{00} & w_{01}\n",
    "\\end{bmatrix}\n",
    "\\]"
   ]
  },
  {
   "cell_type": "markdown",
   "id": "efb5c551",
   "metadata": {},
   "source": [
    "\\[\n",
    "b^{[1]} =\n",
    "\\begin{bmatrix}\n",
    "b_0\n",
    "\\end{bmatrix}\n",
    "\\]"
   ]
  },
  {
   "cell_type": "markdown",
   "id": "970fa1f6",
   "metadata": {},
   "source": [
    "\\[\n",
    "z^{[1]} = w^{[1]}z^{[0]} + b^{[1]}\n",
    "\\]"
   ]
  },
  {
   "cell_type": "markdown",
   "id": "019dd1fe",
   "metadata": {},
   "source": [
    "We can write the full equation as follow"
   ]
  },
  {
   "cell_type": "markdown",
   "id": "27fccc74",
   "metadata": {},
   "source": [
    "\\[\n",
    "z^{[1]} = w^{[1]}(w^{[0]}x + b^{[0]}) + b^{[1]}\n",
    "= w^{[1]}w^{[0]}x + w^{[1]}b^{[0]} + b^{[1]}\n",
    "\\]"
   ]
  },
  {
   "cell_type": "markdown",
   "id": "e2d4986e",
   "metadata": {},
   "source": [
    "# Activation Function"
   ]
  },
  {
   "cell_type": "markdown",
   "id": "c1361bb1",
   "metadata": {},
   "source": [
    "Notice the equation above:"
   ]
  },
  {
   "cell_type": "markdown",
   "id": "0c5fa086",
   "metadata": {},
   "source": [
    "\\[\n",
    "z^{[1]} = w^{[1]}w^{[0]}x + w^{[1]}b^{[0]} + b^{[1]}\n",
    "\\]"
   ]
  },
  {
   "cell_type": "markdown",
   "id": "15da369c",
   "metadata": {},
   "source": [
    "By associativity, we can write it as follow"
   ]
  },
  {
   "cell_type": "markdown",
   "id": "b77bfd2b",
   "metadata": {},
   "source": [
    "\\[\n",
    "z^{[1]} = (w^{[1]}w^{[0]})x + w^{[1]}b^{[0]} + b^{[1]}\n",
    "\\]"
   ]
  },
  {
   "cell_type": "markdown",
   "id": "740aec1e",
   "metadata": {},
   "source": [
    "Let’s substitute \\[\n",
    "W = w^{[1]}w^{[0]}\n",
    "\\]"
   ]
  },
  {
   "cell_type": "markdown",
   "id": "9d7ca3fc",
   "metadata": {},
   "source": [
    "\\[\n",
    "z^{[1]} = Wx + (w^{[1]}b^{[0]} + b^{[1]})\n",
    "= Wx + B\n",
    "\\]"
   ]
  },
  {
   "cell_type": "markdown",
   "id": "b51a82a2",
   "metadata": {},
   "source": [
    "The final equation is still linear, it doesn’t differ from a single layer."
   ]
  },
  {
   "cell_type": "markdown",
   "id": "f72cfeb7",
   "metadata": {},
   "source": [
    "By being linear the final equation would still be a straight line."
   ]
  },
  {
   "cell_type": "markdown",
   "id": "dda8ca2a",
   "metadata": {},
   "source": [
    "To introduce non-linearity, we need to add an activation function."
   ]
  },
  {
   "cell_type": "markdown",
   "id": "f7bbf305",
   "metadata": {},
   "source": [
    "\\[\n",
    "a^{[0]} = g(z^{[0]})\n",
    "\\]"
   ]
  },
  {
   "cell_type": "code",
   "execution_count": null,
   "id": "2d1c0ac1",
   "metadata": {},
   "outputs": [],
   "source": [
    "from fastbook import *\n",
    "\n",
    "\n",
    "# Draw neurons with multiple inputs and weights\n",
    "gv('''\n",
    "z[shape=box3d width=1 height=0.7]\n",
    "bias[shape=circle width=0.3]\n",
    "// Subgraph to force alignment on x-axis\n",
    "subgraph {\n",
    "    rank=same;\n",
    "    z;\n",
    "    bias;\n",
    "    alignmentNode [style=invis, width=0]; // invisible node for alignment\n",
    "    bias -> alignmentNode [style=invis]; // invisible edge\n",
    "    z -> alignmentNode [style=invis]; // invisible edge\n",
    "}\n",
    "x_0->z [label=\"w_0\"]\n",
    "x_1->z [label=\"w_1\"]\n",
    "bias->z [label=\"b\" pos=\"0,1.2!\"]\n",
    "z->a [label=\"z = w_0 x_0 + w_1 x_1 + b\"]\n",
    "a->output [label=\"a = g(z)\"]\n",
    "''')"
   ]
  },
  {
   "cell_type": "markdown",
   "id": "30544a2c",
   "metadata": {},
   "source": []
  },
  {
   "cell_type": "markdown",
   "id": "a3635b56",
   "metadata": {},
   "source": [
    "There are many activation functions, but the most common ones are: - Sigmoid \\[\n",
    "g(z) = \\frac{1}{1 + e^{-z}}\n",
    "\\] - Tanh \\[\n",
    "g(z) = \\frac{e^z - e^{-z}}{e^z + e^{-z}}\n",
    "\\] - ReLU \\[\n",
    "g(z) = max(0, z)\n",
    "\\] - Leaky ReLU \\[\n",
    "g(z) = max(0.01z, z)\n",
    "\\]"
   ]
  },
  {
   "cell_type": "markdown",
   "id": "2d967856",
   "metadata": {},
   "source": [
    "The decision to use which activation function depends on the problem. - Sigmoid used to be the most popular activation function, but it has a problem called vanishing gradient. It means that the gradient becomes very small and the model doesn’t learn anymore. - Tanh is similar to sigmoid, but it has a range from -1 to 1. - ReLU is the most popular activation function right now. It is simple and it doesn’t have vanishing gradient problem. - Leaky ReLU is a variation of ReLU. It is used to solve the dying ReLU problem. Dying ReLU is a problem where the neuron doesn’t activate anymore because the input is always negative."
   ]
  },
  {
   "cell_type": "code",
   "execution_count": null,
   "id": "2d235a8a",
   "metadata": {},
   "outputs": [],
   "source": [
    "# Draw sigmoid, tanh, ReLU, and Leaky ReLU activation functions using matplotlib\n",
    "\n",
    "import matplotlib.pyplot as plt\n",
    "import numpy as np\n",
    "\n",
    "x = np.linspace(-10, 10, 100)\n",
    "sigmoid = 1/(1+np.exp(-x))\n",
    "tanh = (np.exp(x)-np.exp(-x))/(np.exp(x)+np.exp(-x))\n",
    "relu = np.maximum(0, x)\n",
    "leaky_relu = np.maximum(0.1*x, x)\n",
    "\n",
    "# Draw each in a separate plot\n",
    "plt.plot(x, sigmoid)\n",
    "plt.title(\"Sigmoid\")\n",
    "# Draw x and y axes, make it dotted\n",
    "plt.axhline(y=0, color='k', linestyle='dotted')\n",
    "plt.axvline(x=0, color='k', linestyle='dotted')\n",
    "plt.show()\n",
    "\n",
    "plt.plot(x, tanh)\n",
    "plt.title(\"Tanh\")\n",
    "plt.axhline(y=0, color='k', linestyle='dotted')\n",
    "plt.axvline(x=0, color='k', linestyle='dotted')\n",
    "plt.show()\n",
    "\n",
    "plt.plot(x, relu)\n",
    "plt.title(\"ReLU\")\n",
    "plt.axhline(y=0, color='k', linestyle='dotted')\n",
    "plt.axvline(x=0, color='k', linestyle='dotted')\n",
    "plt.show()\n",
    "\n",
    "plt.plot(x, leaky_relu)\n",
    "plt.title(\"Leaky ReLU\")\n",
    "plt.axhline(y=0, color='k', linestyle='dotted')\n",
    "plt.axvline(x=0, color='k', linestyle='dotted')\n",
    "plt.show()"
   ]
  },
  {
   "cell_type": "markdown",
   "id": "6503e509",
   "metadata": {},
   "source": []
  },
  {
   "cell_type": "markdown",
   "id": "9e67eda0",
   "metadata": {},
   "source": []
  },
  {
   "cell_type": "markdown",
   "id": "7f1766e8",
   "metadata": {},
   "source": []
  },
  {
   "cell_type": "markdown",
   "id": "f686aa35",
   "metadata": {},
   "source": []
  },
  {
   "cell_type": "markdown",
   "id": "4b486fae",
   "metadata": {},
   "source": [
    "# Matrix Representation with Activation Function"
   ]
  },
  {
   "cell_type": "markdown",
   "id": "903703c6",
   "metadata": {},
   "source": [
    "Let’s try to add activation function to the previous example"
   ]
  },
  {
   "cell_type": "markdown",
   "id": "135af802",
   "metadata": {},
   "source": [
    "\\[\n",
    "x =\n",
    "\\begin{bmatrix}\n",
    "x_0 \\\\\n",
    "x_1\n",
    "\\end{bmatrix}\n",
    "\\]"
   ]
  },
  {
   "cell_type": "markdown",
   "id": "969eea7c",
   "metadata": {},
   "source": [
    "First layer"
   ]
  },
  {
   "cell_type": "markdown",
   "id": "66ed0088",
   "metadata": {},
   "source": [
    "\\[\n",
    "w^{[0]} =\n",
    "\\begin{bmatrix}\n",
    "w_{00} & w_{01} \\\\\n",
    "w_{10} & w_{11} \\\\\n",
    "\\end{bmatrix}\n",
    "\\]"
   ]
  },
  {
   "cell_type": "markdown",
   "id": "7d23f06f",
   "metadata": {},
   "source": [
    "\\[\n",
    "b^{[0]} =\n",
    "\\begin{bmatrix}\n",
    "b_0 \\\\\n",
    "b_1\n",
    "\\end{bmatrix}\n",
    "\\]"
   ]
  },
  {
   "cell_type": "markdown",
   "id": "02ef120e",
   "metadata": {},
   "source": [
    "\\[\n",
    "z^{[0]} = w^{[0]}x + b^{[0]}\n",
    "\\]"
   ]
  },
  {
   "cell_type": "markdown",
   "id": "61e6e34e",
   "metadata": {},
   "source": [
    "\\[\n",
    "a^{[0]} = g^{[0]}(z^{[0]})\n",
    "\\]"
   ]
  },
  {
   "cell_type": "markdown",
   "id": "6db7b083",
   "metadata": {},
   "source": [
    "Second layer"
   ]
  },
  {
   "cell_type": "markdown",
   "id": "59535454",
   "metadata": {},
   "source": [
    "\\[\n",
    "w^{[1]} =\n",
    "\\begin{bmatrix}\n",
    "w_{00} & w_{01}\n",
    "\\end{bmatrix}\n",
    "\\]"
   ]
  },
  {
   "cell_type": "markdown",
   "id": "53c8fc52",
   "metadata": {},
   "source": [
    "\\[\n",
    "b^{[1]} =\n",
    "\\begin{bmatrix}\n",
    "b_0\n",
    "\\end{bmatrix}\n",
    "\\]"
   ]
  },
  {
   "cell_type": "markdown",
   "id": "2be1eccc",
   "metadata": {},
   "source": [
    "\\[\n",
    "z^{[1]} = w^{[1]}a^{[0]} + b^{[1]}\n",
    "\\]"
   ]
  },
  {
   "cell_type": "markdown",
   "id": "cf28c249",
   "metadata": {},
   "source": [
    "\\[\n",
    "a^{[1]} = g^{[1]}(z^{[1]})\n",
    "\\]"
   ]
  },
  {
   "cell_type": "markdown",
   "id": "ef3e9609",
   "metadata": {},
   "source": [
    "We can write the full equation as follow"
   ]
  },
  {
   "cell_type": "markdown",
   "id": "2a5fada7",
   "metadata": {},
   "source": [
    "\\[\n",
    "a^{[1]} = g^{[1]}(w^{[1]}(g^{[0]}(w^{[0]}x + b^{[0]})) + b^{[1]})\n",
    "\\]"
   ]
  },
  {
   "cell_type": "markdown",
   "id": "b81d0b6d",
   "metadata": {},
   "source": [
    "Let’s wrap up with a diagram of multi layer NN with activation functions"
   ]
  },
  {
   "cell_type": "code",
   "execution_count": null,
   "id": "c15049bf",
   "metadata": {},
   "outputs": [],
   "source": [
    "from fastbook import *\n",
    "\n",
    "gv('''\n",
    "   x_0 -> z_0_0 \n",
    "   x_0 -> z_0_1 \n",
    "   x_1 -> z_0_0\n",
    "   x_1 -> z_0_1\n",
    "   z_0_0 -> a_0_0 -> z_1_0\n",
    "   z_0_1 -> a_0_1 -> z_1_0\n",
    "   z_1_0 -> a_1_0 -> output\n",
    "   ''')"
   ]
  },
  {
   "cell_type": "markdown",
   "id": "858847ab",
   "metadata": {},
   "source": []
  },
  {
   "cell_type": "markdown",
   "id": "34ee54e6",
   "metadata": {},
   "source": [
    "# Cost Function"
   ]
  },
  {
   "cell_type": "markdown",
   "id": "03f97c24",
   "metadata": {},
   "source": [
    "The cost function formula for multi layer NN is the same as the single layer NN:"
   ]
  },
  {
   "cell_type": "markdown",
   "id": "772ce326",
   "metadata": {},
   "source": [
    "\\[\n",
    "J = \\frac{1}{m}\\sum_{i=1}^{m}L(\\hat{y}^{(i)}, y^{(i)})\n",
    "\\]"
   ]
  },
  {
   "cell_type": "markdown",
   "id": "5ddff13c",
   "metadata": {},
   "source": [
    "or can also be simplified as"
   ]
  },
  {
   "cell_type": "markdown",
   "id": "7daae3c5",
   "metadata": {},
   "source": [
    "\\[\n",
    "J = \\sum_{i=1}^{m}L(a^{[L](i)}, y^{(i)})\n",
    "\\]"
   ]
  }
 ],
 "metadata": {},
 "nbformat": 4,
 "nbformat_minor": 5
}
