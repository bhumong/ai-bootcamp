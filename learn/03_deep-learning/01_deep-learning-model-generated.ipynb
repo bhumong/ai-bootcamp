{
 "cells": [
  {
   "cell_type": "markdown",
   "id": "e4c3ccc9",
   "metadata": {},
   "source": [
    "source: [link](https://ai-bootcamp.ruangguru.com/learn/03_deep-learning/01_deep-learning-model.html)"
   ]
  },
  {
   "cell_type": "markdown",
   "id": "10953db4",
   "metadata": {},
   "source": [
    "# Deep Learning Model"
   ]
  },
  {
   "cell_type": "markdown",
   "id": "b161fd29",
   "metadata": {},
   "source": [
    "Deep Learning consists of neural networks with many layers. The layers are connected to each other and each layer has a weight. The weight is used to calculate the output of each layer. The output of the previous layer is used as the input of the next layer. The output of the last layer is the output of the model."
   ]
  },
  {
   "cell_type": "markdown",
   "id": "4f588cde",
   "metadata": {},
   "source": [
    "So what is neural networks?"
   ]
  },
  {
   "cell_type": "markdown",
   "id": "42f122f3",
   "metadata": {},
   "source": [
    "# Neural Networks"
   ]
  },
  {
   "cell_type": "markdown",
   "id": "f57e2592",
   "metadata": {},
   "source": [
    "Neural Networks consists of neurons. Each neuron has inputs, weights, bias, an activation function, and an output."
   ]
  },
  {
   "cell_type": "code",
   "execution_count": null,
   "id": "3c11b8ad",
   "metadata": {},
   "outputs": [],
   "source": [
    "from fastbook import *\n",
    "\n",
    "\n",
    "# Draw neurons with multiple inputs and weights\n",
    "gv('''\n",
    "z[shape=box3d width=1 height=0.7]\n",
    "bias[shape=circle width=0.3]\n",
    "// Subgraph to force alignment on x-axis\n",
    "subgraph {\n",
    "    rank=same;\n",
    "    z;\n",
    "    bias;\n",
    "    alignmentNode [style=invis, width=0]; // invisible node for alignment\n",
    "    bias -> alignmentNode [style=invis]; // invisible edge\n",
    "    z -> alignmentNode [style=invis]; // invisible edge\n",
    "}\n",
    "x_0->z [label=\"w_0\"]\n",
    "x_1->z [label=\"w_1\"]\n",
    "bias->z [label=\"b\" pos=\"0,1.2!\"]\n",
    "z->output [label=\"z = w_0 x_0 + w_1 x_1 + b\"]\n",
    "''')"
   ]
  },
  {
   "cell_type": "markdown",
   "id": "db34543d",
   "metadata": {},
   "source": []
  },
  {
   "cell_type": "markdown",
   "id": "239e0e0d",
   "metadata": {},
   "source": [
    "We can have multiple neurons in one layer"
   ]
  },
  {
   "cell_type": "code",
   "execution_count": null,
   "id": "50b74bc3",
   "metadata": {},
   "outputs": [],
   "source": [
    "from fastbook import *\n",
    "\n",
    "# Draw neurons with multiple inputs and weights\n",
    "gv('''\n",
    "z0[shape=box3d width=1 height=0.7]\n",
    "z1[shape=box3d width=1 height=0.7]\n",
    "bias_0[shape=circle width=0.3]\n",
    "bias_1[shape=circle width=0.3]\n",
    "\n",
    "subgraph {\n",
    "    rank=same;\n",
    "    z0;\n",
    "    bias_0;\n",
    "    alignmentNode [style=invis, width=0]; // invisible node for alignment\n",
    "    bias_0 -> alignmentNode [style=invis]; // invisible edge\n",
    "    z0 -> alignmentNode [style=invis]; // invisible edge\n",
    "}\n",
    "\n",
    "subgraph {\n",
    "    rank=same;\n",
    "    z1;\n",
    "    bias_1;\n",
    "    alignmentNode [style=invis, width=0]; // invisible node for alignment\n",
    "    bias_1 -> alignmentNode [style=invis]; // invisible edge\n",
    "    z1 -> alignmentNode [style=invis]; // invisible edge\n",
    "}\n",
    "x_0->z0 [label=\"w_0,0\"]\n",
    "x_1->z0 [label=\"w_0,1\"]\n",
    "bias_0->z0 [label=\"b_0\" pos=\"0,1.2!\"]\n",
    "z0->output_0 [label=\"z0 = w_0,0 x_0 + w_0,1 x_1 + b_0\"]\n",
    "   \n",
    "x_0->z1 [label=\"w_1,0\"]\n",
    "x_1->z1 [label=\"w_1,1\"]\n",
    "bias_1->z1 [label=\"b_1\" pos=\"0,1.2!\"]\n",
    "z1->output_1 [label=\"z1 = w_1,0 x_0 + w_1,1 x_1 + b_1\"]\n",
    "''')"
   ]
  },
  {
   "cell_type": "markdown",
   "id": "9a034d39",
   "metadata": {},
   "source": []
  },
  {
   "cell_type": "markdown",
   "id": "3bff3a81",
   "metadata": {},
   "source": [
    "# Multilayer Neural Networks"
   ]
  },
  {
   "cell_type": "markdown",
   "id": "e91381d8",
   "metadata": {},
   "source": [
    "The output of the previous layer can be used as the input of the next layer. The output of the last layer is the output of the model."
   ]
  },
  {
   "cell_type": "code",
   "execution_count": null,
   "id": "bb1d2ac7",
   "metadata": {},
   "outputs": [],
   "source": [
    "from fastbook import *\n",
    "\n",
    "gv('''\n",
    "   x_0 -> z_0_0\n",
    "   x_0 -> z_0_1\n",
    "   x_1 -> z_0_0\n",
    "   x_1 -> z_0_1\n",
    "   z_0_0 -> z_1_0\n",
    "   z_0_1 -> z_1_0\n",
    "   z_1_0 -> output\n",
    "   ''')"
   ]
  },
  {
   "cell_type": "markdown",
   "id": "c44027dc",
   "metadata": {},
   "source": []
  },
  {
   "cell_type": "markdown",
   "id": "fc118bfe",
   "metadata": {},
   "source": [
    "Note that the network is fully connected, so the following is not a valid network"
   ]
  },
  {
   "cell_type": "code",
   "execution_count": null,
   "id": "79944315",
   "metadata": {},
   "outputs": [],
   "source": [
    "from fastbook import *\n",
    "\n",
    "gv('''\n",
    "   x_0 -> z_0_0\n",
    "   x_1 -> z_0_1\n",
    "   z_0_0 -> z_1_0\n",
    "   z_0_1 -> z_1_0\n",
    "   z_1_0 -> output\n",
    "   ''')"
   ]
  },
  {
   "cell_type": "markdown",
   "id": "593996cd",
   "metadata": {},
   "source": []
  },
  {
   "cell_type": "markdown",
   "id": "8be251e0",
   "metadata": {},
   "source": [
    "# Vectorized"
   ]
  },
  {
   "cell_type": "markdown",
   "id": "6b30c542",
   "metadata": {},
   "source": [
    "Operations in neurons can be vectorized. This is important because it can speed up the calculation."
   ]
  },
  {
   "cell_type": "markdown",
   "id": "0b5ef349",
   "metadata": {},
   "source": [
    "It also simplifies the code. Let’s go back to the previous example."
   ]
  },
  {
   "cell_type": "code",
   "execution_count": null,
   "id": "8f6c4375",
   "metadata": {},
   "outputs": [],
   "source": [
    "from fastbook import *\n",
    "\n",
    "\n",
    "# Draw neurons with multiple inputs and weights\n",
    "gv('''\n",
    "z[shape=box3d width=1 height=0.7]\n",
    "bias[shape=circle width=0.3]\n",
    "// Subgraph to force alignment on x-axis\n",
    "subgraph {\n",
    "    rank=same;\n",
    "    z;\n",
    "    bias;\n",
    "    alignmentNode [style=invis, width=0]; // invisible node for alignment\n",
    "    bias -> alignmentNode [style=invis]; // invisible edge\n",
    "    z -> alignmentNode [style=invis]; // invisible edge\n",
    "}\n",
    "x_0->z [label=\"w_0\"]\n",
    "x_1->z [label=\"w_1\"]\n",
    "bias->z [label=\"b\" pos=\"0,1.2!\"]\n",
    "z->output [label=\"z = w_0 x_0 + w_1 x_1 + b\"]\n",
    "''')"
   ]
  },
  {
   "cell_type": "markdown",
   "id": "2bcfd096",
   "metadata": {},
   "source": []
  },
  {
   "cell_type": "markdown",
   "id": "79483f63",
   "metadata": {},
   "source": [
    "Matrix representation"
   ]
  },
  {
   "cell_type": "markdown",
   "id": "358ab5f9",
   "metadata": {},
   "source": [
    "\\[\n",
    "x =\n",
    "\\begin{bmatrix}\n",
    "x_0 \\\\\n",
    "x_1\n",
    "\\end{bmatrix}\n",
    "\\]"
   ]
  },
  {
   "cell_type": "markdown",
   "id": "599c02a9",
   "metadata": {},
   "source": [
    "\\[\n",
    "w =\n",
    "\\begin{bmatrix}\n",
    "w_0 & w_1\n",
    "\\end{bmatrix}\n",
    "\\]"
   ]
  },
  {
   "cell_type": "markdown",
   "id": "4a6cce56",
   "metadata": {},
   "source": [
    "\\[\n",
    "b =\n",
    "\\begin{bmatrix}\n",
    "b_0\n",
    "\\end{bmatrix}\n",
    "\\]"
   ]
  },
  {
   "cell_type": "markdown",
   "id": "ffdbfbfa",
   "metadata": {},
   "source": [
    "\\[\n",
    "z = wx + b\n",
    "\\]"
   ]
  },
  {
   "cell_type": "markdown",
   "id": "22ca5276",
   "metadata": {},
   "source": [
    "If we have multiple neurons in one layer, we can write it as follow"
   ]
  },
  {
   "cell_type": "code",
   "execution_count": null,
   "id": "220b7dda",
   "metadata": {},
   "outputs": [],
   "source": [
    "from fastbook import *\n",
    "\n",
    "# Draw neurons with multiple inputs and weights\n",
    "gv('''\n",
    "z0[shape=box3d width=1 height=0.7]\n",
    "z1[shape=box3d width=1 height=0.7]\n",
    "bias_0[shape=circle width=0.3]\n",
    "bias_1[shape=circle width=0.3]\n",
    "\n",
    "subgraph {\n",
    "    rank=same;\n",
    "    z0;\n",
    "    bias_0;\n",
    "    alignmentNode [style=invis, width=0]; // invisible node for alignment\n",
    "    bias_0 -> alignmentNode [style=invis]; // invisible edge\n",
    "    z0 -> alignmentNode [style=invis]; // invisible edge\n",
    "}\n",
    "\n",
    "subgraph {\n",
    "    rank=same;\n",
    "    z1;\n",
    "    bias_1;\n",
    "    alignmentNode [style=invis, width=0]; // invisible node for alignment\n",
    "    bias_1 -> alignmentNode [style=invis]; // invisible edge\n",
    "    z1 -> alignmentNode [style=invis]; // invisible edge\n",
    "}\n",
    "x_0->z0 [label=\"w_0,0\"]\n",
    "x_1->z0 [label=\"w_0,1\"]\n",
    "bias_0->z0 [label=\"b_0\" pos=\"0,1.2!\"]\n",
    "z0->output_0 [label=\"z0 = w_0,0 x_0 + w_0,1 x_1 + b_0\"]\n",
    "   \n",
    "x_0->z1 [label=\"w_1,0\"]\n",
    "x_1->z1 [label=\"w_1,1\"]\n",
    "bias_1->z1 [label=\"b_1\" pos=\"0,1.2!\"]\n",
    "z1->output_1 [label=\"z1 = w_1,0 x_0 + w_1,1 x_1 + b_1\"]\n",
    "''')"
   ]
  },
  {
   "cell_type": "markdown",
   "id": "f816a1ad",
   "metadata": {},
   "source": []
  },
  {
   "cell_type": "markdown",
   "id": "19cf8f3f",
   "metadata": {},
   "source": [
    "Matrix representation"
   ]
  },
  {
   "cell_type": "markdown",
   "id": "3dca6be0",
   "metadata": {},
   "source": [
    "\\[\n",
    "x =\n",
    "\\begin{bmatrix}\n",
    "x_0 \\\\\n",
    "x_1\n",
    "\\end{bmatrix}\n",
    "\\]"
   ]
  },
  {
   "cell_type": "markdown",
   "id": "86ad3614",
   "metadata": {},
   "source": [
    "\\[\n",
    "w =\n",
    "\\begin{bmatrix}\n",
    "w_{00} & w_{01} \\\\\n",
    "w_{10} & w_{11}\n",
    "\\end{bmatrix}\n",
    "\\]"
   ]
  },
  {
   "cell_type": "markdown",
   "id": "6f87207d",
   "metadata": {},
   "source": [
    "\\[\n",
    "b =\n",
    "\\begin{bmatrix}\n",
    "b_0 \\\\\n",
    "b_1\n",
    "\\end{bmatrix}\n",
    "\\]"
   ]
  },
  {
   "cell_type": "markdown",
   "id": "862ee98b",
   "metadata": {},
   "source": [
    "\\[\n",
    "z = wx + b\n",
    "\\]"
   ]
  },
  {
   "cell_type": "markdown",
   "id": "6c276c97",
   "metadata": {},
   "source": [
    "Let’s try 3 neurons and 2 inputs"
   ]
  },
  {
   "cell_type": "code",
   "execution_count": null,
   "id": "2f32e612",
   "metadata": {},
   "outputs": [],
   "source": [
    "from fastbook import *\n",
    "\n",
    "gv('''\n",
    "   x_0 -> z_0\n",
    "   x_0 -> z_1\n",
    "   x_0 -> z_2\n",
    "   x_1 -> z_0\n",
    "   x_1 -> z_1\n",
    "   x_1 -> z_2\n",
    "   z_0 -> output_0\n",
    "   z_1 -> output_1\n",
    "   z_2 -> output_2\n",
    "   ''')"
   ]
  },
  {
   "cell_type": "markdown",
   "id": "030fe15e",
   "metadata": {},
   "source": []
  },
  {
   "cell_type": "markdown",
   "id": "bb3fb3cc",
   "metadata": {},
   "source": [
    "Matrix representation"
   ]
  },
  {
   "cell_type": "markdown",
   "id": "181df7de",
   "metadata": {},
   "source": [
    "\\[\n",
    "x =\n",
    "\\begin{bmatrix}\n",
    "x_0 \\\\\n",
    "x_1\n",
    "\\end{bmatrix}\n",
    "\\]"
   ]
  },
  {
   "cell_type": "markdown",
   "id": "e82430b9",
   "metadata": {},
   "source": [
    "\\[\n",
    "w =\n",
    "\\begin{bmatrix}\n",
    "w_{00} & w_{01} \\\\\n",
    "w_{10} & w_{11} \\\\\n",
    "w_{20} & w_{21}\n",
    "\\end{bmatrix}\n",
    "\\]"
   ]
  },
  {
   "cell_type": "markdown",
   "id": "ee0ecc28",
   "metadata": {},
   "source": [
    "\\[\n",
    "b =\n",
    "\\begin{bmatrix}\n",
    "b_0 \\\\\n",
    "b_1 \\\\\n",
    "b_2\n",
    "\\end{bmatrix}\n",
    "\\]"
   ]
  },
  {
   "cell_type": "markdown",
   "id": "5589cdbe",
   "metadata": {},
   "source": [
    "\\[\n",
    "z = wx + b\n",
    "\\]"
   ]
  },
  {
   "cell_type": "markdown",
   "id": "171bcf59",
   "metadata": {},
   "source": [
    "Lastly, let’s try vectorized multi layers"
   ]
  },
  {
   "cell_type": "code",
   "execution_count": null,
   "id": "d11e55a4",
   "metadata": {},
   "outputs": [],
   "source": [
    "from fastbook import *\n",
    "\n",
    "gv('''\n",
    "   x_0 -> z_0_0\n",
    "   x_0 -> z_0_1\n",
    "   x_1 -> z_0_0\n",
    "   x_1 -> z_0_1\n",
    "   z_0_0 -> z_1_0\n",
    "   z_0_1 -> z_1_0\n",
    "   z_1_0 -> output\n",
    "   ''')"
   ]
  },
  {
   "cell_type": "markdown",
   "id": "675f680b",
   "metadata": {},
   "source": []
  },
  {
   "cell_type": "markdown",
   "id": "4f702f4b",
   "metadata": {},
   "source": [
    "Matrix representation"
   ]
  },
  {
   "cell_type": "markdown",
   "id": "34cb1908",
   "metadata": {},
   "source": [
    "\\[\n",
    "x =\n",
    "\\begin{bmatrix}\n",
    "x_0 \\\\\n",
    "x_1\n",
    "\\end{bmatrix}\n",
    "\\]"
   ]
  },
  {
   "cell_type": "markdown",
   "id": "df4e59ea",
   "metadata": {},
   "source": [
    "First layer"
   ]
  },
  {
   "cell_type": "markdown",
   "id": "1cb9cf7b",
   "metadata": {},
   "source": [
    "\\[\n",
    "w^{[0]} =\n",
    "\\begin{bmatrix}\n",
    "w_{00} & w_{01} \\\\\n",
    "w_{10} & w_{11} \\\\\n",
    "\\end{bmatrix}\n",
    "\\]"
   ]
  },
  {
   "cell_type": "markdown",
   "id": "f9f6d617",
   "metadata": {},
   "source": [
    "\\[\n",
    "b^{[0]} =\n",
    "\\begin{bmatrix}\n",
    "b_0 \\\\\n",
    "b_1\n",
    "\\end{bmatrix}\n",
    "\\]"
   ]
  },
  {
   "cell_type": "markdown",
   "id": "e4ded519",
   "metadata": {},
   "source": [
    "\\[\n",
    "z^{[0]} = w^{[0]}x + b^{[0]}\n",
    "\\]"
   ]
  },
  {
   "cell_type": "markdown",
   "id": "5e5b9774",
   "metadata": {},
   "source": [
    "Second layer"
   ]
  },
  {
   "cell_type": "markdown",
   "id": "788afc64",
   "metadata": {},
   "source": [
    "\\[\n",
    "w^{[1]} =\n",
    "\\begin{bmatrix}\n",
    "w_{00} & w_{01}\n",
    "\\end{bmatrix}\n",
    "\\]"
   ]
  },
  {
   "cell_type": "markdown",
   "id": "51d424f1",
   "metadata": {},
   "source": [
    "\\[\n",
    "b^{[1]} =\n",
    "\\begin{bmatrix}\n",
    "b_0\n",
    "\\end{bmatrix}\n",
    "\\]"
   ]
  },
  {
   "cell_type": "markdown",
   "id": "ecd57640",
   "metadata": {},
   "source": [
    "\\[\n",
    "z^{[1]} = w^{[1]}z^{[0]} + b^{[1]}\n",
    "\\]"
   ]
  },
  {
   "cell_type": "markdown",
   "id": "613c4c6a",
   "metadata": {},
   "source": [
    "We can write the full equation as follow"
   ]
  },
  {
   "cell_type": "markdown",
   "id": "b346c7f0",
   "metadata": {},
   "source": [
    "\\[\n",
    "z^{[1]} = w^{[1]}(w^{[0]}x + b^{[0]}) + b^{[1]}\n",
    "= w^{[1]}w^{[0]}x + w^{[1]}b^{[0]} + b^{[1]}\n",
    "\\]"
   ]
  },
  {
   "cell_type": "markdown",
   "id": "2a9bf64e",
   "metadata": {},
   "source": [
    "# Activation Function"
   ]
  },
  {
   "cell_type": "markdown",
   "id": "6727549f",
   "metadata": {},
   "source": [
    "Notice the equation above:"
   ]
  },
  {
   "cell_type": "markdown",
   "id": "79b5e28f",
   "metadata": {},
   "source": [
    "\\[\n",
    "z^{[1]} = w^{[1]}w^{[0]}x + w^{[1]}b^{[0]} + b^{[1]}\n",
    "\\]"
   ]
  },
  {
   "cell_type": "markdown",
   "id": "8e7ac570",
   "metadata": {},
   "source": [
    "By associativity, we can write it as follow"
   ]
  },
  {
   "cell_type": "markdown",
   "id": "7abba271",
   "metadata": {},
   "source": [
    "\\[\n",
    "z^{[1]} = (w^{[1]}w^{[0]})x + w^{[1]}b^{[0]} + b^{[1]}\n",
    "\\]"
   ]
  },
  {
   "cell_type": "markdown",
   "id": "e0b26f1b",
   "metadata": {},
   "source": [
    "Let’s substitute \\[\n",
    "W = w^{[1]}w^{[0]}\n",
    "\\]"
   ]
  },
  {
   "cell_type": "markdown",
   "id": "2a004d0d",
   "metadata": {},
   "source": [
    "\\[\n",
    "z^{[1]} = Wx + (w^{[1]}b^{[0]} + b^{[1]})\n",
    "= Wx + B\n",
    "\\]"
   ]
  },
  {
   "cell_type": "markdown",
   "id": "636b92e0",
   "metadata": {},
   "source": [
    "The final equation is still linear, it doesn’t differ from a single layer."
   ]
  },
  {
   "cell_type": "markdown",
   "id": "7138d730",
   "metadata": {},
   "source": [
    "By being linear the final equation would still be a straight line."
   ]
  },
  {
   "cell_type": "markdown",
   "id": "85c597dd",
   "metadata": {},
   "source": [
    "To introduce non-linearity, we need to add an activation function."
   ]
  },
  {
   "cell_type": "markdown",
   "id": "2904aa6a",
   "metadata": {},
   "source": [
    "\\[\n",
    "a^{[0]} = g(z^{[0]})\n",
    "\\]"
   ]
  },
  {
   "cell_type": "code",
   "execution_count": null,
   "id": "c27cf1db",
   "metadata": {},
   "outputs": [],
   "source": [
    "from fastbook import *\n",
    "\n",
    "\n",
    "# Draw neurons with multiple inputs and weights\n",
    "gv('''\n",
    "z[shape=box3d width=1 height=0.7]\n",
    "bias[shape=circle width=0.3]\n",
    "// Subgraph to force alignment on x-axis\n",
    "subgraph {\n",
    "    rank=same;\n",
    "    z;\n",
    "    bias;\n",
    "    alignmentNode [style=invis, width=0]; // invisible node for alignment\n",
    "    bias -> alignmentNode [style=invis]; // invisible edge\n",
    "    z -> alignmentNode [style=invis]; // invisible edge\n",
    "}\n",
    "x_0->z [label=\"w_0\"]\n",
    "x_1->z [label=\"w_1\"]\n",
    "bias->z [label=\"b\" pos=\"0,1.2!\"]\n",
    "z->a [label=\"z = w_0 x_0 + w_1 x_1 + b\"]\n",
    "a->output [label=\"a = g(z)\"]\n",
    "''')"
   ]
  },
  {
   "cell_type": "markdown",
   "id": "64769d63",
   "metadata": {},
   "source": []
  },
  {
   "cell_type": "markdown",
   "id": "b6d8267c",
   "metadata": {},
   "source": [
    "There are many activation functions, but the most common ones are: - Sigmoid \\[\n",
    "g(z) = \\frac{1}{1 + e^{-z}}\n",
    "\\] - Tanh \\[\n",
    "g(z) = \\frac{e^z - e^{-z}}{e^z + e^{-z}}\n",
    "\\] - ReLU \\[\n",
    "g(z) = max(0, z)\n",
    "\\] - Leaky ReLU \\[\n",
    "g(z) = max(0.01z, z)\n",
    "\\]"
   ]
  },
  {
   "cell_type": "markdown",
   "id": "6c6d238f",
   "metadata": {},
   "source": [
    "The decision to use which activation function depends on the problem. - Sigmoid used to be the most popular activation function, but it has a problem called vanishing gradient. It means that the gradient becomes very small and the model doesn’t learn anymore. - Tanh is similar to sigmoid, but it has a range from -1 to 1. - ReLU is the most popular activation function right now. It is simple and it doesn’t have vanishing gradient problem. - Leaky ReLU is a variation of ReLU. It is used to solve the dying ReLU problem. Dying ReLU is a problem where the neuron doesn’t activate anymore because the input is always negative."
   ]
  },
  {
   "cell_type": "code",
   "execution_count": null,
   "id": "ec9e29e0",
   "metadata": {},
   "outputs": [],
   "source": [
    "# Draw sigmoid, tanh, ReLU, and Leaky ReLU activation functions using matplotlib\n",
    "\n",
    "import matplotlib.pyplot as plt\n",
    "import numpy as np\n",
    "\n",
    "x = np.linspace(-10, 10, 100)\n",
    "sigmoid = 1/(1+np.exp(-x))\n",
    "tanh = (np.exp(x)-np.exp(-x))/(np.exp(x)+np.exp(-x))\n",
    "relu = np.maximum(0, x)\n",
    "leaky_relu = np.maximum(0.1*x, x)\n",
    "\n",
    "# Draw each in a separate plot\n",
    "plt.plot(x, sigmoid)\n",
    "plt.title(\"Sigmoid\")\n",
    "# Draw x and y axes, make it dotted\n",
    "plt.axhline(y=0, color='k', linestyle='dotted')\n",
    "plt.axvline(x=0, color='k', linestyle='dotted')\n",
    "plt.show()\n",
    "\n",
    "plt.plot(x, tanh)\n",
    "plt.title(\"Tanh\")\n",
    "plt.axhline(y=0, color='k', linestyle='dotted')\n",
    "plt.axvline(x=0, color='k', linestyle='dotted')\n",
    "plt.show()\n",
    "\n",
    "plt.plot(x, relu)\n",
    "plt.title(\"ReLU\")\n",
    "plt.axhline(y=0, color='k', linestyle='dotted')\n",
    "plt.axvline(x=0, color='k', linestyle='dotted')\n",
    "plt.show()\n",
    "\n",
    "plt.plot(x, leaky_relu)\n",
    "plt.title(\"Leaky ReLU\")\n",
    "plt.axhline(y=0, color='k', linestyle='dotted')\n",
    "plt.axvline(x=0, color='k', linestyle='dotted')\n",
    "plt.show()"
   ]
  },
  {
   "cell_type": "markdown",
   "id": "32104bd1",
   "metadata": {},
   "source": []
  },
  {
   "cell_type": "markdown",
   "id": "7e3cd37e",
   "metadata": {},
   "source": []
  },
  {
   "cell_type": "markdown",
   "id": "689b1c2b",
   "metadata": {},
   "source": []
  },
  {
   "cell_type": "markdown",
   "id": "bb7cf349",
   "metadata": {},
   "source": []
  },
  {
   "cell_type": "markdown",
   "id": "b83a8bf4",
   "metadata": {},
   "source": [
    "# Matrix Representation with Activation Function"
   ]
  },
  {
   "cell_type": "markdown",
   "id": "767871b8",
   "metadata": {},
   "source": [
    "Let’s try to add activation function to the previous example"
   ]
  },
  {
   "cell_type": "markdown",
   "id": "2728ce26",
   "metadata": {},
   "source": [
    "\\[\n",
    "x =\n",
    "\\begin{bmatrix}\n",
    "x_0 \\\\\n",
    "x_1\n",
    "\\end{bmatrix}\n",
    "\\]"
   ]
  },
  {
   "cell_type": "markdown",
   "id": "d84b01a2",
   "metadata": {},
   "source": [
    "First layer"
   ]
  },
  {
   "cell_type": "markdown",
   "id": "85803366",
   "metadata": {},
   "source": [
    "\\[\n",
    "w^{[0]} =\n",
    "\\begin{bmatrix}\n",
    "w_{00} & w_{01} \\\\\n",
    "w_{10} & w_{11} \\\\\n",
    "\\end{bmatrix}\n",
    "\\]"
   ]
  },
  {
   "cell_type": "markdown",
   "id": "777dd38b",
   "metadata": {},
   "source": [
    "\\[\n",
    "b^{[0]} =\n",
    "\\begin{bmatrix}\n",
    "b_0 \\\\\n",
    "b_1\n",
    "\\end{bmatrix}\n",
    "\\]"
   ]
  },
  {
   "cell_type": "markdown",
   "id": "48522c85",
   "metadata": {},
   "source": [
    "\\[\n",
    "z^{[0]} = w^{[0]}x + b^{[0]}\n",
    "\\]"
   ]
  },
  {
   "cell_type": "markdown",
   "id": "b1667976",
   "metadata": {},
   "source": [
    "\\[\n",
    "a^{[0]} = g^{[0]}(z^{[0]})\n",
    "\\]"
   ]
  },
  {
   "cell_type": "markdown",
   "id": "c77b7637",
   "metadata": {},
   "source": [
    "Second layer"
   ]
  },
  {
   "cell_type": "markdown",
   "id": "05bece1b",
   "metadata": {},
   "source": [
    "\\[\n",
    "w^{[1]} =\n",
    "\\begin{bmatrix}\n",
    "w_{00} & w_{01}\n",
    "\\end{bmatrix}\n",
    "\\]"
   ]
  },
  {
   "cell_type": "markdown",
   "id": "fcd96e65",
   "metadata": {},
   "source": [
    "\\[\n",
    "b^{[1]} =\n",
    "\\begin{bmatrix}\n",
    "b_0\n",
    "\\end{bmatrix}\n",
    "\\]"
   ]
  },
  {
   "cell_type": "markdown",
   "id": "76e613cb",
   "metadata": {},
   "source": [
    "\\[\n",
    "z^{[1]} = w^{[1]}a^{[0]} + b^{[1]}\n",
    "\\]"
   ]
  },
  {
   "cell_type": "markdown",
   "id": "2a9a9dda",
   "metadata": {},
   "source": [
    "\\[\n",
    "a^{[1]} = g^{[1]}(z^{[1]})\n",
    "\\]"
   ]
  },
  {
   "cell_type": "markdown",
   "id": "90b79174",
   "metadata": {},
   "source": [
    "We can write the full equation as follow"
   ]
  },
  {
   "cell_type": "markdown",
   "id": "7f048c25",
   "metadata": {},
   "source": [
    "\\[\n",
    "a^{[1]} = g^{[1]}(w^{[1]}(g^{[0]}(w^{[0]}x + b^{[0]})) + b^{[1]})\n",
    "\\]"
   ]
  },
  {
   "cell_type": "markdown",
   "id": "39f02a2f",
   "metadata": {},
   "source": [
    "Let’s wrap up with a diagram of multi layer NN with activation functions"
   ]
  },
  {
   "cell_type": "code",
   "execution_count": null,
   "id": "37efb195",
   "metadata": {},
   "outputs": [],
   "source": [
    "from fastbook import *\n",
    "\n",
    "gv('''\n",
    "   x_0 -> z_0_0 \n",
    "   x_0 -> z_0_1 \n",
    "   x_1 -> z_0_0\n",
    "   x_1 -> z_0_1\n",
    "   z_0_0 -> a_0_0 -> z_1_0\n",
    "   z_0_1 -> a_0_1 -> z_1_0\n",
    "   z_1_0 -> a_1_0 -> output\n",
    "   ''')"
   ]
  },
  {
   "cell_type": "markdown",
   "id": "a506589c",
   "metadata": {},
   "source": []
  },
  {
   "cell_type": "markdown",
   "id": "b4ac46ac",
   "metadata": {},
   "source": [
    "# Cost Function"
   ]
  },
  {
   "cell_type": "markdown",
   "id": "752138d3",
   "metadata": {},
   "source": [
    "The cost function formula for multi layer NN is the same as the single layer NN:"
   ]
  },
  {
   "cell_type": "markdown",
   "id": "0fb1314b",
   "metadata": {},
   "source": [
    "\\[\n",
    "J = \\frac{1}{m}\\sum_{i=1}^{m}L(\\hat{y}^{(i)}, y^{(i)})\n",
    "\\]"
   ]
  },
  {
   "cell_type": "markdown",
   "id": "e990b1f1",
   "metadata": {},
   "source": [
    "or can also be simplified as"
   ]
  },
  {
   "cell_type": "markdown",
   "id": "356539eb",
   "metadata": {},
   "source": [
    "\\[\n",
    "J = \\sum_{i=1}^{m}L(a^{[L](i)}, y^{(i)})\n",
    "\\]"
   ]
  }
 ],
 "metadata": {},
 "nbformat": 4,
 "nbformat_minor": 5
}
