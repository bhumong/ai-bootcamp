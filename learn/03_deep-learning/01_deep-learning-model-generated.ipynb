{
 "cells": [
  {
   "cell_type": "markdown",
   "id": "f796fcdb",
   "metadata": {},
   "source": [
    "source: [https://ai-bootcamp.ruangguru.com/learn/03_deep-learning/01_deep-learning-model.html](https://ai-bootcamp.ruangguru.com/learn/03_deep-learning/01_deep-learning-model.html)"
   ]
  },
  {
   "cell_type": "markdown",
   "id": "a9c26a70",
   "metadata": {},
   "source": [
    "# Deep Learning Model"
   ]
  },
  {
   "cell_type": "markdown",
   "id": "736f4787",
   "metadata": {},
   "source": [
    "Deep Learning consists of neural networks with many layers. The layers are connected to each other and each layer has a weight. The weight is used to calculate the output of each layer. The output of the previous layer is used as the input of the next layer. The output of the last layer is the output of the model."
   ]
  },
  {
   "cell_type": "markdown",
   "id": "559f0e1a",
   "metadata": {},
   "source": [
    "So what is neural networks?"
   ]
  },
  {
   "cell_type": "markdown",
   "id": "32e654c0",
   "metadata": {},
   "source": [
    "# Neural Networks"
   ]
  },
  {
   "cell_type": "markdown",
   "id": "5f37e544",
   "metadata": {},
   "source": [
    "Neural Networks consists of neurons. Each neuron has inputs, weights, bias, an activation function, and an output."
   ]
  },
  {
   "cell_type": "code",
   "execution_count": null,
   "id": "b305bdaa",
   "metadata": {},
   "outputs": [],
   "source": [
    "from fastbook import *\n",
    "\n",
    "\n",
    "# Draw neurons with multiple inputs and weights\n",
    "gv('''\n",
    "z[shape=box3d width=1 height=0.7]\n",
    "bias[shape=circle width=0.3]\n",
    "// Subgraph to force alignment on x-axis\n",
    "subgraph {\n",
    "    rank=same;\n",
    "    z;\n",
    "    bias;\n",
    "    alignmentNode [style=invis, width=0]; // invisible node for alignment\n",
    "    bias -> alignmentNode [style=invis]; // invisible edge\n",
    "    z -> alignmentNode [style=invis]; // invisible edge\n",
    "}\n",
    "x_0->z [label=\"w_0\"]\n",
    "x_1->z [label=\"w_1\"]\n",
    "bias->z [label=\"b\" pos=\"0,1.2!\"]\n",
    "z->output [label=\"z = w_0 x_0 + w_1 x_1 + b\"]\n",
    "''')"
   ]
  },
  {
   "cell_type": "markdown",
   "id": "6a7899df",
   "metadata": {},
   "source": []
  },
  {
   "cell_type": "markdown",
   "id": "6d5400b6",
   "metadata": {},
   "source": [
    "We can have multiple neurons in one layer"
   ]
  },
  {
   "cell_type": "code",
   "execution_count": null,
   "id": "dbd285d0",
   "metadata": {},
   "outputs": [],
   "source": [
    "from fastbook import *\n",
    "\n",
    "# Draw neurons with multiple inputs and weights\n",
    "gv('''\n",
    "z0[shape=box3d width=1 height=0.7]\n",
    "z1[shape=box3d width=1 height=0.7]\n",
    "bias_0[shape=circle width=0.3]\n",
    "bias_1[shape=circle width=0.3]\n",
    "\n",
    "subgraph {\n",
    "    rank=same;\n",
    "    z0;\n",
    "    bias_0;\n",
    "    alignmentNode [style=invis, width=0]; // invisible node for alignment\n",
    "    bias_0 -> alignmentNode [style=invis]; // invisible edge\n",
    "    z0 -> alignmentNode [style=invis]; // invisible edge\n",
    "}\n",
    "\n",
    "subgraph {\n",
    "    rank=same;\n",
    "    z1;\n",
    "    bias_1;\n",
    "    alignmentNode [style=invis, width=0]; // invisible node for alignment\n",
    "    bias_1 -> alignmentNode [style=invis]; // invisible edge\n",
    "    z1 -> alignmentNode [style=invis]; // invisible edge\n",
    "}\n",
    "x_0->z0 [label=\"w_0,0\"]\n",
    "x_1->z0 [label=\"w_0,1\"]\n",
    "bias_0->z0 [label=\"b_0\" pos=\"0,1.2!\"]\n",
    "z0->output_0 [label=\"z0 = w_0,0 x_0 + w_0,1 x_1 + b_0\"]\n",
    "   \n",
    "x_0->z1 [label=\"w_1,0\"]\n",
    "x_1->z1 [label=\"w_1,1\"]\n",
    "bias_1->z1 [label=\"b_1\" pos=\"0,1.2!\"]\n",
    "z1->output_1 [label=\"z1 = w_1,0 x_0 + w_1,1 x_1 + b_1\"]\n",
    "''')"
   ]
  },
  {
   "cell_type": "markdown",
   "id": "1f4edec9",
   "metadata": {},
   "source": []
  },
  {
   "cell_type": "markdown",
   "id": "59de8a37",
   "metadata": {},
   "source": [
    "# Multilayer Neural Networks"
   ]
  },
  {
   "cell_type": "markdown",
   "id": "54cddb03",
   "metadata": {},
   "source": [
    "The output of the previous layer can be used as the input of the next layer. The output of the last layer is the output of the model."
   ]
  },
  {
   "cell_type": "code",
   "execution_count": null,
   "id": "045488ac",
   "metadata": {},
   "outputs": [],
   "source": [
    "from fastbook import *\n",
    "\n",
    "gv('''\n",
    "   x_0 -> z_0_0\n",
    "   x_0 -> z_0_1\n",
    "   x_1 -> z_0_0\n",
    "   x_1 -> z_0_1\n",
    "   z_0_0 -> z_1_0\n",
    "   z_0_1 -> z_1_0\n",
    "   z_1_0 -> output\n",
    "   ''')"
   ]
  },
  {
   "cell_type": "markdown",
   "id": "ee604a88",
   "metadata": {},
   "source": []
  },
  {
   "cell_type": "markdown",
   "id": "6f8d6527",
   "metadata": {},
   "source": [
    "Note that the network is fully connected, so the following is not a valid network"
   ]
  },
  {
   "cell_type": "code",
   "execution_count": null,
   "id": "58a43a6d",
   "metadata": {},
   "outputs": [],
   "source": [
    "from fastbook import *\n",
    "\n",
    "gv('''\n",
    "   x_0 -> z_0_0\n",
    "   x_1 -> z_0_1\n",
    "   z_0_0 -> z_1_0\n",
    "   z_0_1 -> z_1_0\n",
    "   z_1_0 -> output\n",
    "   ''')"
   ]
  },
  {
   "cell_type": "markdown",
   "id": "e1d070f1",
   "metadata": {},
   "source": []
  },
  {
   "cell_type": "markdown",
   "id": "a5977496",
   "metadata": {},
   "source": [
    "# Vectorized"
   ]
  },
  {
   "cell_type": "markdown",
   "id": "1b7a8aaf",
   "metadata": {},
   "source": [
    "Operations in neurons can be vectorized. This is important because it can speed up the calculation."
   ]
  },
  {
   "cell_type": "markdown",
   "id": "bfd70fcb",
   "metadata": {},
   "source": [
    "It also simplifies the code. Let’s go back to the previous example."
   ]
  },
  {
   "cell_type": "code",
   "execution_count": null,
   "id": "d35a110a",
   "metadata": {},
   "outputs": [],
   "source": [
    "from fastbook import *\n",
    "\n",
    "\n",
    "# Draw neurons with multiple inputs and weights\n",
    "gv('''\n",
    "z[shape=box3d width=1 height=0.7]\n",
    "bias[shape=circle width=0.3]\n",
    "// Subgraph to force alignment on x-axis\n",
    "subgraph {\n",
    "    rank=same;\n",
    "    z;\n",
    "    bias;\n",
    "    alignmentNode [style=invis, width=0]; // invisible node for alignment\n",
    "    bias -> alignmentNode [style=invis]; // invisible edge\n",
    "    z -> alignmentNode [style=invis]; // invisible edge\n",
    "}\n",
    "x_0->z [label=\"w_0\"]\n",
    "x_1->z [label=\"w_1\"]\n",
    "bias->z [label=\"b\" pos=\"0,1.2!\"]\n",
    "z->output [label=\"z = w_0 x_0 + w_1 x_1 + b\"]\n",
    "''')"
   ]
  },
  {
   "cell_type": "markdown",
   "id": "c0e04b62",
   "metadata": {},
   "source": []
  },
  {
   "cell_type": "markdown",
   "id": "ce93f92d",
   "metadata": {},
   "source": [
    "Matrix representation"
   ]
  },
  {
   "cell_type": "markdown",
   "id": "773c956b",
   "metadata": {},
   "source": [
    "\n",
    "\\[\n",
    "x =\n",
    "\\begin{bmatrix}\n",
    "x_0 \\\\\n",
    "x_1\n",
    "\\end{bmatrix}\n",
    "\\]\n"
   ]
  },
  {
   "cell_type": "markdown",
   "id": "b87a314c",
   "metadata": {},
   "source": [
    "\n",
    "\\[\n",
    "w =\n",
    "\\begin{bmatrix}\n",
    "w_0 & w_1\n",
    "\\end{bmatrix}\n",
    "\\]\n"
   ]
  },
  {
   "cell_type": "markdown",
   "id": "4c45ee6a",
   "metadata": {},
   "source": [
    "\n",
    "\\[\n",
    "b =\n",
    "\\begin{bmatrix}\n",
    "b_0\n",
    "\\end{bmatrix}\n",
    "\\]\n"
   ]
  },
  {
   "cell_type": "markdown",
   "id": "3560a51e",
   "metadata": {},
   "source": [
    "\n",
    "\\[\n",
    "z = wx + b\n",
    "\\]\n"
   ]
  },
  {
   "cell_type": "markdown",
   "id": "1e87b594",
   "metadata": {},
   "source": [
    "If we have multiple neurons in one layer, we can write it as follow"
   ]
  },
  {
   "cell_type": "code",
   "execution_count": null,
   "id": "3f80bfb4",
   "metadata": {},
   "outputs": [],
   "source": [
    "from fastbook import *\n",
    "\n",
    "# Draw neurons with multiple inputs and weights\n",
    "gv('''\n",
    "z0[shape=box3d width=1 height=0.7]\n",
    "z1[shape=box3d width=1 height=0.7]\n",
    "bias_0[shape=circle width=0.3]\n",
    "bias_1[shape=circle width=0.3]\n",
    "\n",
    "subgraph {\n",
    "    rank=same;\n",
    "    z0;\n",
    "    bias_0;\n",
    "    alignmentNode [style=invis, width=0]; // invisible node for alignment\n",
    "    bias_0 -> alignmentNode [style=invis]; // invisible edge\n",
    "    z0 -> alignmentNode [style=invis]; // invisible edge\n",
    "}\n",
    "\n",
    "subgraph {\n",
    "    rank=same;\n",
    "    z1;\n",
    "    bias_1;\n",
    "    alignmentNode [style=invis, width=0]; // invisible node for alignment\n",
    "    bias_1 -> alignmentNode [style=invis]; // invisible edge\n",
    "    z1 -> alignmentNode [style=invis]; // invisible edge\n",
    "}\n",
    "x_0->z0 [label=\"w_0,0\"]\n",
    "x_1->z0 [label=\"w_0,1\"]\n",
    "bias_0->z0 [label=\"b_0\" pos=\"0,1.2!\"]\n",
    "z0->output_0 [label=\"z0 = w_0,0 x_0 + w_0,1 x_1 + b_0\"]\n",
    "   \n",
    "x_0->z1 [label=\"w_1,0\"]\n",
    "x_1->z1 [label=\"w_1,1\"]\n",
    "bias_1->z1 [label=\"b_1\" pos=\"0,1.2!\"]\n",
    "z1->output_1 [label=\"z1 = w_1,0 x_0 + w_1,1 x_1 + b_1\"]\n",
    "''')"
   ]
  },
  {
   "cell_type": "markdown",
   "id": "f16d565f",
   "metadata": {},
   "source": []
  },
  {
   "cell_type": "markdown",
   "id": "85942216",
   "metadata": {},
   "source": [
    "Matrix representation"
   ]
  },
  {
   "cell_type": "markdown",
   "id": "a6d17133",
   "metadata": {},
   "source": [
    "\n",
    "\\[\n",
    "x =\n",
    "\\begin{bmatrix}\n",
    "x_0 \\\\\n",
    "x_1\n",
    "\\end{bmatrix}\n",
    "\\]\n"
   ]
  },
  {
   "cell_type": "markdown",
   "id": "f552d40d",
   "metadata": {},
   "source": [
    "\n",
    "\\[\n",
    "w =\n",
    "\\begin{bmatrix}\n",
    "w_{00} & w_{01} \\\\\n",
    "w_{10} & w_{11}\n",
    "\\end{bmatrix}\n",
    "\\]\n"
   ]
  },
  {
   "cell_type": "markdown",
   "id": "db46fcfc",
   "metadata": {},
   "source": [
    "\n",
    "\\[\n",
    "b =\n",
    "\\begin{bmatrix}\n",
    "b_0 \\\\\n",
    "b_1\n",
    "\\end{bmatrix}\n",
    "\\]\n"
   ]
  },
  {
   "cell_type": "markdown",
   "id": "3636d80c",
   "metadata": {},
   "source": [
    "\n",
    "\\[\n",
    "z = wx + b\n",
    "\\]\n"
   ]
  },
  {
   "cell_type": "markdown",
   "id": "88ab36cb",
   "metadata": {},
   "source": [
    "Let’s try 3 neurons and 2 inputs"
   ]
  },
  {
   "cell_type": "code",
   "execution_count": null,
   "id": "4bbc9bb6",
   "metadata": {},
   "outputs": [],
   "source": [
    "from fastbook import *\n",
    "\n",
    "gv('''\n",
    "   x_0 -> z_0\n",
    "   x_0 -> z_1\n",
    "   x_0 -> z_2\n",
    "   x_1 -> z_0\n",
    "   x_1 -> z_1\n",
    "   x_1 -> z_2\n",
    "   z_0 -> output_0\n",
    "   z_1 -> output_1\n",
    "   z_2 -> output_2\n",
    "   ''')"
   ]
  },
  {
   "cell_type": "markdown",
   "id": "299e146c",
   "metadata": {},
   "source": []
  },
  {
   "cell_type": "markdown",
   "id": "a9023bf8",
   "metadata": {},
   "source": [
    "Matrix representation"
   ]
  },
  {
   "cell_type": "markdown",
   "id": "73459547",
   "metadata": {},
   "source": [
    "\n",
    "\\[\n",
    "x =\n",
    "\\begin{bmatrix}\n",
    "x_0 \\\\\n",
    "x_1\n",
    "\\end{bmatrix}\n",
    "\\]\n"
   ]
  },
  {
   "cell_type": "markdown",
   "id": "81f42a2a",
   "metadata": {},
   "source": [
    "\n",
    "\\[\n",
    "w =\n",
    "\\begin{bmatrix}\n",
    "w_{00} & w_{01} \\\\\n",
    "w_{10} & w_{11} \\\\\n",
    "w_{20} & w_{21}\n",
    "\\end{bmatrix}\n",
    "\\]\n"
   ]
  },
  {
   "cell_type": "markdown",
   "id": "8ff6a652",
   "metadata": {},
   "source": [
    "\n",
    "\\[\n",
    "b =\n",
    "\\begin{bmatrix}\n",
    "b_0 \\\\\n",
    "b_1 \\\\\n",
    "b_2\n",
    "\\end{bmatrix}\n",
    "\\]\n"
   ]
  },
  {
   "cell_type": "markdown",
   "id": "532e1d2f",
   "metadata": {},
   "source": [
    "\n",
    "\\[\n",
    "z = wx + b\n",
    "\\]\n"
   ]
  },
  {
   "cell_type": "markdown",
   "id": "3498877a",
   "metadata": {},
   "source": [
    "Lastly, let’s try vectorized multi layers"
   ]
  },
  {
   "cell_type": "code",
   "execution_count": null,
   "id": "fdd4d28e",
   "metadata": {},
   "outputs": [],
   "source": [
    "from fastbook import *\n",
    "\n",
    "gv('''\n",
    "   x_0 -> z_0_0\n",
    "   x_0 -> z_0_1\n",
    "   x_1 -> z_0_0\n",
    "   x_1 -> z_0_1\n",
    "   z_0_0 -> z_1_0\n",
    "   z_0_1 -> z_1_0\n",
    "   z_1_0 -> output\n",
    "   ''')"
   ]
  },
  {
   "cell_type": "markdown",
   "id": "82c87187",
   "metadata": {},
   "source": []
  },
  {
   "cell_type": "markdown",
   "id": "9f59b044",
   "metadata": {},
   "source": [
    "Matrix representation"
   ]
  },
  {
   "cell_type": "markdown",
   "id": "b2762080",
   "metadata": {},
   "source": [
    "\n",
    "\\[\n",
    "x =\n",
    "\\begin{bmatrix}\n",
    "x_0 \\\\\n",
    "x_1\n",
    "\\end{bmatrix}\n",
    "\\]\n"
   ]
  },
  {
   "cell_type": "markdown",
   "id": "37748d8d",
   "metadata": {},
   "source": [
    "First layer"
   ]
  },
  {
   "cell_type": "markdown",
   "id": "6c04f0cf",
   "metadata": {},
   "source": [
    "\n",
    "\\[\n",
    "w^{[0]} =\n",
    "\\begin{bmatrix}\n",
    "w_{00} & w_{01} \\\\\n",
    "w_{10} & w_{11} \\\\\n",
    "\\end{bmatrix}\n",
    "\\]\n"
   ]
  },
  {
   "cell_type": "markdown",
   "id": "0a71606e",
   "metadata": {},
   "source": [
    "\n",
    "\\[\n",
    "b^{[0]} =\n",
    "\\begin{bmatrix}\n",
    "b_0 \\\\\n",
    "b_1\n",
    "\\end{bmatrix}\n",
    "\\]\n"
   ]
  },
  {
   "cell_type": "markdown",
   "id": "18f58e04",
   "metadata": {},
   "source": [
    "\n",
    "\\[\n",
    "z^{[0]} = w^{[0]}x + b^{[0]}\n",
    "\\]\n"
   ]
  },
  {
   "cell_type": "markdown",
   "id": "2858ccd9",
   "metadata": {},
   "source": [
    "Second layer"
   ]
  },
  {
   "cell_type": "markdown",
   "id": "307d3143",
   "metadata": {},
   "source": [
    "\n",
    "\\[\n",
    "w^{[1]} =\n",
    "\\begin{bmatrix}\n",
    "w_{00} & w_{01}\n",
    "\\end{bmatrix}\n",
    "\\]\n"
   ]
  },
  {
   "cell_type": "markdown",
   "id": "30797596",
   "metadata": {},
   "source": [
    "\n",
    "\\[\n",
    "b^{[1]} =\n",
    "\\begin{bmatrix}\n",
    "b_0\n",
    "\\end{bmatrix}\n",
    "\\]\n"
   ]
  },
  {
   "cell_type": "markdown",
   "id": "f6102840",
   "metadata": {},
   "source": [
    "\n",
    "\\[\n",
    "z^{[1]} = w^{[1]}z^{[0]} + b^{[1]}\n",
    "\\]\n"
   ]
  },
  {
   "cell_type": "markdown",
   "id": "90d06b24",
   "metadata": {},
   "source": [
    "We can write the full equation as follow"
   ]
  },
  {
   "cell_type": "markdown",
   "id": "e45d8a39",
   "metadata": {},
   "source": [
    "\n",
    "\\[\n",
    "z^{[1]} = w^{[1]}(w^{[0]}x + b^{[0]}) + b^{[1]}\n",
    "= w^{[1]}w^{[0]}x + w^{[1]}b^{[0]} + b^{[1]}\n",
    "\\]\n"
   ]
  },
  {
   "cell_type": "markdown",
   "id": "e1a50beb",
   "metadata": {},
   "source": [
    "# Activation Function"
   ]
  },
  {
   "cell_type": "markdown",
   "id": "357772a5",
   "metadata": {},
   "source": [
    "Notice the equation above:"
   ]
  },
  {
   "cell_type": "markdown",
   "id": "a65c8d14",
   "metadata": {},
   "source": [
    "\n",
    "\\[\n",
    "z^{[1]} = w^{[1]}w^{[0]}x + w^{[1]}b^{[0]} + b^{[1]}\n",
    "\\]\n"
   ]
  },
  {
   "cell_type": "markdown",
   "id": "45f1442a",
   "metadata": {},
   "source": [
    "By associativity, we can write it as follow"
   ]
  },
  {
   "cell_type": "markdown",
   "id": "a3e33ee6",
   "metadata": {},
   "source": [
    "\n",
    "\\[\n",
    "z^{[1]} = (w^{[1]}w^{[0]})x + w^{[1]}b^{[0]} + b^{[1]}\n",
    "\\]\n"
   ]
  },
  {
   "cell_type": "markdown",
   "id": "f8e91b25",
   "metadata": {},
   "source": [
    "Let’s substitute \n",
    "\\[\n",
    "W = w^{[1]}w^{[0]}\n",
    "\\]\n"
   ]
  },
  {
   "cell_type": "markdown",
   "id": "d36da149",
   "metadata": {},
   "source": [
    "\n",
    "\\[\n",
    "z^{[1]} = Wx + (w^{[1]}b^{[0]} + b^{[1]})\n",
    "= Wx + B\n",
    "\\]\n"
   ]
  },
  {
   "cell_type": "markdown",
   "id": "e1f03f51",
   "metadata": {},
   "source": [
    "The final equation is still linear, it doesn’t differ from a single layer."
   ]
  },
  {
   "cell_type": "markdown",
   "id": "0889af4c",
   "metadata": {},
   "source": [
    "By being linear the final equation would still be a straight line."
   ]
  },
  {
   "cell_type": "markdown",
   "id": "1526eeaa",
   "metadata": {},
   "source": [
    "To introduce non-linearity, we need to add an activation function."
   ]
  },
  {
   "cell_type": "markdown",
   "id": "25096384",
   "metadata": {},
   "source": [
    "\n",
    "\\[\n",
    "a^{[0]} = g(z^{[0]})\n",
    "\\]\n"
   ]
  },
  {
   "cell_type": "code",
   "execution_count": null,
   "id": "8e2228f1",
   "metadata": {},
   "outputs": [],
   "source": [
    "from fastbook import *\n",
    "\n",
    "\n",
    "# Draw neurons with multiple inputs and weights\n",
    "gv('''\n",
    "z[shape=box3d width=1 height=0.7]\n",
    "bias[shape=circle width=0.3]\n",
    "// Subgraph to force alignment on x-axis\n",
    "subgraph {\n",
    "    rank=same;\n",
    "    z;\n",
    "    bias;\n",
    "    alignmentNode [style=invis, width=0]; // invisible node for alignment\n",
    "    bias -> alignmentNode [style=invis]; // invisible edge\n",
    "    z -> alignmentNode [style=invis]; // invisible edge\n",
    "}\n",
    "x_0->z [label=\"w_0\"]\n",
    "x_1->z [label=\"w_1\"]\n",
    "bias->z [label=\"b\" pos=\"0,1.2!\"]\n",
    "z->a [label=\"z = w_0 x_0 + w_1 x_1 + b\"]\n",
    "a->output [label=\"a = g(z)\"]\n",
    "''')"
   ]
  },
  {
   "cell_type": "markdown",
   "id": "38f8434f",
   "metadata": {},
   "source": []
  },
  {
   "cell_type": "markdown",
   "id": "52e4fee5",
   "metadata": {},
   "source": [
    "There are many activation functions, but the most common ones are: - Sigmoid \n",
    "\\[\n",
    "g(z) = \\frac{1}{1 + e^{-z}}\n",
    "\\]\n",
    " - Tanh \n",
    "\\[\n",
    "g(z) = \\frac{e^z - e^{-z}}{e^z + e^{-z}}\n",
    "\\]\n",
    " - ReLU \n",
    "\\[\n",
    "g(z) = max(0, z)\n",
    "\\]\n",
    " - Leaky ReLU \n",
    "\\[\n",
    "g(z) = max(0.01z, z)\n",
    "\\]\n"
   ]
  },
  {
   "cell_type": "markdown",
   "id": "20b62730",
   "metadata": {},
   "source": [
    "The decision to use which activation function depends on the problem. - Sigmoid used to be the most popular activation function, but it has a problem called vanishing gradient. It means that the gradient becomes very small and the model doesn’t learn anymore. - Tanh is similar to sigmoid, but it has a range from -1 to 1. - ReLU is the most popular activation function right now. It is simple and it doesn’t have vanishing gradient problem. - Leaky ReLU is a variation of ReLU. It is used to solve the dying ReLU problem. Dying ReLU is a problem where the neuron doesn’t activate anymore because the input is always negative."
   ]
  },
  {
   "cell_type": "code",
   "execution_count": null,
   "id": "7056aa4b",
   "metadata": {},
   "outputs": [],
   "source": [
    "# Draw sigmoid, tanh, ReLU, and Leaky ReLU activation functions using matplotlib\n",
    "\n",
    "import matplotlib.pyplot as plt\n",
    "import numpy as np\n",
    "\n",
    "x = np.linspace(-10, 10, 100)\n",
    "sigmoid = 1/(1+np.exp(-x))\n",
    "tanh = (np.exp(x)-np.exp(-x))/(np.exp(x)+np.exp(-x))\n",
    "relu = np.maximum(0, x)\n",
    "leaky_relu = np.maximum(0.1*x, x)\n",
    "\n",
    "# Draw each in a separate plot\n",
    "plt.plot(x, sigmoid)\n",
    "plt.title(\"Sigmoid\")\n",
    "# Draw x and y axes, make it dotted\n",
    "plt.axhline(y=0, color='k', linestyle='dotted')\n",
    "plt.axvline(x=0, color='k', linestyle='dotted')\n",
    "plt.show()\n",
    "\n",
    "plt.plot(x, tanh)\n",
    "plt.title(\"Tanh\")\n",
    "plt.axhline(y=0, color='k', linestyle='dotted')\n",
    "plt.axvline(x=0, color='k', linestyle='dotted')\n",
    "plt.show()\n",
    "\n",
    "plt.plot(x, relu)\n",
    "plt.title(\"ReLU\")\n",
    "plt.axhline(y=0, color='k', linestyle='dotted')\n",
    "plt.axvline(x=0, color='k', linestyle='dotted')\n",
    "plt.show()\n",
    "\n",
    "plt.plot(x, leaky_relu)\n",
    "plt.title(\"Leaky ReLU\")\n",
    "plt.axhline(y=0, color='k', linestyle='dotted')\n",
    "plt.axvline(x=0, color='k', linestyle='dotted')\n",
    "plt.show()"
   ]
  },
  {
   "cell_type": "markdown",
   "id": "f6666848",
   "metadata": {},
   "source": []
  },
  {
   "cell_type": "markdown",
   "id": "98c5e700",
   "metadata": {},
   "source": []
  },
  {
   "cell_type": "markdown",
   "id": "12fb220a",
   "metadata": {},
   "source": []
  },
  {
   "cell_type": "markdown",
   "id": "b60bb294",
   "metadata": {},
   "source": []
  },
  {
   "cell_type": "markdown",
   "id": "ff65f235",
   "metadata": {},
   "source": [
    "# Matrix Representation with Activation Function"
   ]
  },
  {
   "cell_type": "markdown",
   "id": "73590e23",
   "metadata": {},
   "source": [
    "Let’s try to add activation function to the previous example"
   ]
  },
  {
   "cell_type": "markdown",
   "id": "b9bd7c05",
   "metadata": {},
   "source": [
    "\n",
    "\\[\n",
    "x =\n",
    "\\begin{bmatrix}\n",
    "x_0 \\\\\n",
    "x_1\n",
    "\\end{bmatrix}\n",
    "\\]\n"
   ]
  },
  {
   "cell_type": "markdown",
   "id": "5d557e2d",
   "metadata": {},
   "source": [
    "First layer"
   ]
  },
  {
   "cell_type": "markdown",
   "id": "10d2ffed",
   "metadata": {},
   "source": [
    "\n",
    "\\[\n",
    "w^{[0]} =\n",
    "\\begin{bmatrix}\n",
    "w_{00} & w_{01} \\\\\n",
    "w_{10} & w_{11} \\\\\n",
    "\\end{bmatrix}\n",
    "\\]\n"
   ]
  },
  {
   "cell_type": "markdown",
   "id": "300897ef",
   "metadata": {},
   "source": [
    "\n",
    "\\[\n",
    "b^{[0]} =\n",
    "\\begin{bmatrix}\n",
    "b_0 \\\\\n",
    "b_1\n",
    "\\end{bmatrix}\n",
    "\\]\n"
   ]
  },
  {
   "cell_type": "markdown",
   "id": "347aeb46",
   "metadata": {},
   "source": [
    "\n",
    "\\[\n",
    "z^{[0]} = w^{[0]}x + b^{[0]}\n",
    "\\]\n"
   ]
  },
  {
   "cell_type": "markdown",
   "id": "58aff5f2",
   "metadata": {},
   "source": [
    "\n",
    "\\[\n",
    "a^{[0]} = g^{[0]}(z^{[0]})\n",
    "\\]\n"
   ]
  },
  {
   "cell_type": "markdown",
   "id": "dd91954f",
   "metadata": {},
   "source": [
    "Second layer"
   ]
  },
  {
   "cell_type": "markdown",
   "id": "32b10f42",
   "metadata": {},
   "source": [
    "\n",
    "\\[\n",
    "w^{[1]} =\n",
    "\\begin{bmatrix}\n",
    "w_{00} & w_{01}\n",
    "\\end{bmatrix}\n",
    "\\]\n"
   ]
  },
  {
   "cell_type": "markdown",
   "id": "6e9f7a8d",
   "metadata": {},
   "source": [
    "\n",
    "\\[\n",
    "b^{[1]} =\n",
    "\\begin{bmatrix}\n",
    "b_0\n",
    "\\end{bmatrix}\n",
    "\\]\n"
   ]
  },
  {
   "cell_type": "markdown",
   "id": "44f48f11",
   "metadata": {},
   "source": [
    "\n",
    "\\[\n",
    "z^{[1]} = w^{[1]}a^{[0]} + b^{[1]}\n",
    "\\]\n"
   ]
  },
  {
   "cell_type": "markdown",
   "id": "708ae9a4",
   "metadata": {},
   "source": [
    "\n",
    "\\[\n",
    "a^{[1]} = g^{[1]}(z^{[1]})\n",
    "\\]\n"
   ]
  },
  {
   "cell_type": "markdown",
   "id": "6882dfbf",
   "metadata": {},
   "source": [
    "We can write the full equation as follow"
   ]
  },
  {
   "cell_type": "markdown",
   "id": "b4e93d1e",
   "metadata": {},
   "source": [
    "\n",
    "\\[\n",
    "a^{[1]} = g^{[1]}(w^{[1]}(g^{[0]}(w^{[0]}x + b^{[0]})) + b^{[1]})\n",
    "\\]\n"
   ]
  },
  {
   "cell_type": "markdown",
   "id": "c416214b",
   "metadata": {},
   "source": [
    "Let’s wrap up with a diagram of multi layer NN with activation functions"
   ]
  },
  {
   "cell_type": "code",
   "execution_count": null,
   "id": "359808a5",
   "metadata": {},
   "outputs": [],
   "source": [
    "from fastbook import *\n",
    "\n",
    "gv('''\n",
    "   x_0 -> z_0_0 \n",
    "   x_0 -> z_0_1 \n",
    "   x_1 -> z_0_0\n",
    "   x_1 -> z_0_1\n",
    "   z_0_0 -> a_0_0 -> z_1_0\n",
    "   z_0_1 -> a_0_1 -> z_1_0\n",
    "   z_1_0 -> a_1_0 -> output\n",
    "   ''')"
   ]
  },
  {
   "cell_type": "markdown",
   "id": "8bf96b76",
   "metadata": {},
   "source": []
  },
  {
   "cell_type": "markdown",
   "id": "9827e8c3",
   "metadata": {},
   "source": [
    "# Cost Function"
   ]
  },
  {
   "cell_type": "markdown",
   "id": "b5aefbb7",
   "metadata": {},
   "source": [
    "The cost function formula for multi layer NN is the same as the single layer NN:"
   ]
  },
  {
   "cell_type": "markdown",
   "id": "451ec06c",
   "metadata": {},
   "source": [
    "\n",
    "\\[\n",
    "J = \\frac{1}{m}\\sum_{i=1}^{m}L(\\hat{y}^{(i)}, y^{(i)})\n",
    "\\]\n"
   ]
  },
  {
   "cell_type": "markdown",
   "id": "eab42c76",
   "metadata": {},
   "source": [
    "or can also be simplified as"
   ]
  },
  {
   "cell_type": "markdown",
   "id": "08ed57e8",
   "metadata": {},
   "source": [
    "\n",
    "\\[\n",
    "J = \\sum_{i=1}^{m}L(a^{[L](i)}, y^{(i)})\n",
    "\\]\n"
   ]
  }
 ],
 "metadata": {},
 "nbformat": 4,
 "nbformat_minor": 5
}
