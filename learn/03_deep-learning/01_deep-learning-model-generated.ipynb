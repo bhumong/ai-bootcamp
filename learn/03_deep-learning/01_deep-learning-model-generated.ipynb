{
 "cells": [
  {
   "cell_type": "markdown",
   "id": "882a94c9",
   "metadata": {},
   "source": [
    "# Deep Learning Model"
   ]
  },
  {
   "cell_type": "markdown",
   "id": "87f9a91d",
   "metadata": {},
   "source": [
    "Deep Learning consists of neural networks with many layers. The layers are connected to each other and each layer has a weight. The weight is used to calculate the output of each layer. The output of the previous layer is used as the input of the next layer. The output of the last layer is the output of the model."
   ]
  },
  {
   "cell_type": "markdown",
   "id": "a50aa629",
   "metadata": {},
   "source": [
    "So what is neural networks?"
   ]
  },
  {
   "cell_type": "markdown",
   "id": "4749677c",
   "metadata": {},
   "source": [
    "# Neural Networks"
   ]
  },
  {
   "cell_type": "markdown",
   "id": "9873184c",
   "metadata": {},
   "source": [
    "Neural Networks consists of neurons. Each neuron has inputs, weights, bias, an activation function, and an output."
   ]
  },
  {
   "cell_type": "code",
   "execution_count": null,
   "id": "65e0e6f1",
   "metadata": {},
   "outputs": [],
   "source": [
    "from fastbook import *\n",
    "\n",
    "\n",
    "# Draw neurons with multiple inputs and weights\n",
    "gv('''\n",
    "z[shape=box3d width=1 height=0.7]\n",
    "bias[shape=circle width=0.3]\n",
    "// Subgraph to force alignment on x-axis\n",
    "subgraph {\n",
    "    rank=same;\n",
    "    z;\n",
    "    bias;\n",
    "    alignmentNode [style=invis, width=0]; // invisible node for alignment\n",
    "    bias -> alignmentNode [style=invis]; // invisible edge\n",
    "    z -> alignmentNode [style=invis]; // invisible edge\n",
    "}\n",
    "x_0->z [label=\"w_0\"]\n",
    "x_1->z [label=\"w_1\"]\n",
    "bias->z [label=\"b\" pos=\"0,1.2!\"]\n",
    "z->output [label=\"z = w_0 x_0 + w_1 x_1 + b\"]\n",
    "''')"
   ]
  },
  {
   "cell_type": "markdown",
   "id": "d21e2f85",
   "metadata": {},
   "source": []
  },
  {
   "cell_type": "markdown",
   "id": "f53c3976",
   "metadata": {},
   "source": [
    "We can have multiple neurons in one layer"
   ]
  },
  {
   "cell_type": "code",
   "execution_count": null,
   "id": "62108d4b",
   "metadata": {},
   "outputs": [],
   "source": [
    "from fastbook import *\n",
    "\n",
    "# Draw neurons with multiple inputs and weights\n",
    "gv('''\n",
    "z0[shape=box3d width=1 height=0.7]\n",
    "z1[shape=box3d width=1 height=0.7]\n",
    "bias_0[shape=circle width=0.3]\n",
    "bias_1[shape=circle width=0.3]\n",
    "\n",
    "subgraph {\n",
    "    rank=same;\n",
    "    z0;\n",
    "    bias_0;\n",
    "    alignmentNode [style=invis, width=0]; // invisible node for alignment\n",
    "    bias_0 -> alignmentNode [style=invis]; // invisible edge\n",
    "    z0 -> alignmentNode [style=invis]; // invisible edge\n",
    "}\n",
    "\n",
    "subgraph {\n",
    "    rank=same;\n",
    "    z1;\n",
    "    bias_1;\n",
    "    alignmentNode [style=invis, width=0]; // invisible node for alignment\n",
    "    bias_1 -> alignmentNode [style=invis]; // invisible edge\n",
    "    z1 -> alignmentNode [style=invis]; // invisible edge\n",
    "}\n",
    "x_0->z0 [label=\"w_0,0\"]\n",
    "x_1->z0 [label=\"w_0,1\"]\n",
    "bias_0->z0 [label=\"b_0\" pos=\"0,1.2!\"]\n",
    "z0->output_0 [label=\"z0 = w_0,0 x_0 + w_0,1 x_1 + b_0\"]\n",
    "   \n",
    "x_0->z1 [label=\"w_1,0\"]\n",
    "x_1->z1 [label=\"w_1,1\"]\n",
    "bias_1->z1 [label=\"b_1\" pos=\"0,1.2!\"]\n",
    "z1->output_1 [label=\"z1 = w_1,0 x_0 + w_1,1 x_1 + b_1\"]\n",
    "''')"
   ]
  },
  {
   "cell_type": "markdown",
   "id": "dcc75b84",
   "metadata": {},
   "source": []
  },
  {
   "cell_type": "markdown",
   "id": "de141222",
   "metadata": {},
   "source": [
    "# Multilayer Neural Networks"
   ]
  },
  {
   "cell_type": "markdown",
   "id": "a02eeade",
   "metadata": {},
   "source": [
    "The output of the previous layer can be used as the input of the next layer. The output of the last layer is the output of the model."
   ]
  },
  {
   "cell_type": "code",
   "execution_count": null,
   "id": "fc2c0688",
   "metadata": {},
   "outputs": [],
   "source": [
    "from fastbook import *\n",
    "\n",
    "gv('''\n",
    "   x_0 -> z_0_0\n",
    "   x_0 -> z_0_1\n",
    "   x_1 -> z_0_0\n",
    "   x_1 -> z_0_1\n",
    "   z_0_0 -> z_1_0\n",
    "   z_0_1 -> z_1_0\n",
    "   z_1_0 -> output\n",
    "   ''')"
   ]
  },
  {
   "cell_type": "markdown",
   "id": "31834602",
   "metadata": {},
   "source": []
  },
  {
   "cell_type": "markdown",
   "id": "cf3470d4",
   "metadata": {},
   "source": [
    "Note that the network is fully connected, so the following is not a valid network"
   ]
  },
  {
   "cell_type": "code",
   "execution_count": null,
   "id": "7b88ff38",
   "metadata": {},
   "outputs": [],
   "source": [
    "from fastbook import *\n",
    "\n",
    "gv('''\n",
    "   x_0 -> z_0_0\n",
    "   x_1 -> z_0_1\n",
    "   z_0_0 -> z_1_0\n",
    "   z_0_1 -> z_1_0\n",
    "   z_1_0 -> output\n",
    "   ''')"
   ]
  },
  {
   "cell_type": "markdown",
   "id": "94b02405",
   "metadata": {},
   "source": []
  },
  {
   "cell_type": "markdown",
   "id": "01477fb8",
   "metadata": {},
   "source": [
    "# Vectorized"
   ]
  },
  {
   "cell_type": "markdown",
   "id": "aace9b58",
   "metadata": {},
   "source": [
    "Operations in neurons can be vectorized. This is important because it can speed up the calculation."
   ]
  },
  {
   "cell_type": "markdown",
   "id": "caf88e5d",
   "metadata": {},
   "source": [
    "It also simplifies the code. Let’s go back to the previous example."
   ]
  },
  {
   "cell_type": "code",
   "execution_count": null,
   "id": "08bd4b9e",
   "metadata": {},
   "outputs": [],
   "source": [
    "from fastbook import *\n",
    "\n",
    "\n",
    "# Draw neurons with multiple inputs and weights\n",
    "gv('''\n",
    "z[shape=box3d width=1 height=0.7]\n",
    "bias[shape=circle width=0.3]\n",
    "// Subgraph to force alignment on x-axis\n",
    "subgraph {\n",
    "    rank=same;\n",
    "    z;\n",
    "    bias;\n",
    "    alignmentNode [style=invis, width=0]; // invisible node for alignment\n",
    "    bias -> alignmentNode [style=invis]; // invisible edge\n",
    "    z -> alignmentNode [style=invis]; // invisible edge\n",
    "}\n",
    "x_0->z [label=\"w_0\"]\n",
    "x_1->z [label=\"w_1\"]\n",
    "bias->z [label=\"b\" pos=\"0,1.2!\"]\n",
    "z->output [label=\"z = w_0 x_0 + w_1 x_1 + b\"]\n",
    "''')"
   ]
  },
  {
   "cell_type": "markdown",
   "id": "c264d90c",
   "metadata": {},
   "source": []
  },
  {
   "cell_type": "markdown",
   "id": "d7233a2d",
   "metadata": {},
   "source": [
    "Matrix representation"
   ]
  },
  {
   "cell_type": "markdown",
   "id": "e1975127",
   "metadata": {},
   "source": [
    "\\[\n",
    "x =\n",
    "\\begin{bmatrix}\n",
    "x_0 \\\\\n",
    "x_1\n",
    "\\end{bmatrix}\n",
    "\\]"
   ]
  },
  {
   "cell_type": "markdown",
   "id": "96e02c1f",
   "metadata": {},
   "source": [
    "\\[\n",
    "w =\n",
    "\\begin{bmatrix}\n",
    "w_0 & w_1\n",
    "\\end{bmatrix}\n",
    "\\]"
   ]
  },
  {
   "cell_type": "markdown",
   "id": "90f31dd9",
   "metadata": {},
   "source": [
    "\\[\n",
    "b =\n",
    "\\begin{bmatrix}\n",
    "b_0\n",
    "\\end{bmatrix}\n",
    "\\]"
   ]
  },
  {
   "cell_type": "markdown",
   "id": "f36cb8c1",
   "metadata": {},
   "source": [
    "\\[\n",
    "z = wx + b\n",
    "\\]"
   ]
  },
  {
   "cell_type": "markdown",
   "id": "2e7b69fe",
   "metadata": {},
   "source": [
    "If we have multiple neurons in one layer, we can write it as follow"
   ]
  },
  {
   "cell_type": "code",
   "execution_count": null,
   "id": "5bdf1baf",
   "metadata": {},
   "outputs": [],
   "source": [
    "from fastbook import *\n",
    "\n",
    "# Draw neurons with multiple inputs and weights\n",
    "gv('''\n",
    "z0[shape=box3d width=1 height=0.7]\n",
    "z1[shape=box3d width=1 height=0.7]\n",
    "bias_0[shape=circle width=0.3]\n",
    "bias_1[shape=circle width=0.3]\n",
    "\n",
    "subgraph {\n",
    "    rank=same;\n",
    "    z0;\n",
    "    bias_0;\n",
    "    alignmentNode [style=invis, width=0]; // invisible node for alignment\n",
    "    bias_0 -> alignmentNode [style=invis]; // invisible edge\n",
    "    z0 -> alignmentNode [style=invis]; // invisible edge\n",
    "}\n",
    "\n",
    "subgraph {\n",
    "    rank=same;\n",
    "    z1;\n",
    "    bias_1;\n",
    "    alignmentNode [style=invis, width=0]; // invisible node for alignment\n",
    "    bias_1 -> alignmentNode [style=invis]; // invisible edge\n",
    "    z1 -> alignmentNode [style=invis]; // invisible edge\n",
    "}\n",
    "x_0->z0 [label=\"w_0,0\"]\n",
    "x_1->z0 [label=\"w_0,1\"]\n",
    "bias_0->z0 [label=\"b_0\" pos=\"0,1.2!\"]\n",
    "z0->output_0 [label=\"z0 = w_0,0 x_0 + w_0,1 x_1 + b_0\"]\n",
    "   \n",
    "x_0->z1 [label=\"w_1,0\"]\n",
    "x_1->z1 [label=\"w_1,1\"]\n",
    "bias_1->z1 [label=\"b_1\" pos=\"0,1.2!\"]\n",
    "z1->output_1 [label=\"z1 = w_1,0 x_0 + w_1,1 x_1 + b_1\"]\n",
    "''')"
   ]
  },
  {
   "cell_type": "markdown",
   "id": "71a12085",
   "metadata": {},
   "source": []
  },
  {
   "cell_type": "markdown",
   "id": "72f1efa0",
   "metadata": {},
   "source": [
    "Matrix representation"
   ]
  },
  {
   "cell_type": "markdown",
   "id": "cc36b0b4",
   "metadata": {},
   "source": [
    "\\[\n",
    "x =\n",
    "\\begin{bmatrix}\n",
    "x_0 \\\\\n",
    "x_1\n",
    "\\end{bmatrix}\n",
    "\\]"
   ]
  },
  {
   "cell_type": "markdown",
   "id": "d1f5c706",
   "metadata": {},
   "source": [
    "\\[\n",
    "w =\n",
    "\\begin{bmatrix}\n",
    "w_{00} & w_{01} \\\\\n",
    "w_{10} & w_{11}\n",
    "\\end{bmatrix}\n",
    "\\]"
   ]
  },
  {
   "cell_type": "markdown",
   "id": "b32a2e73",
   "metadata": {},
   "source": [
    "\\[\n",
    "b =\n",
    "\\begin{bmatrix}\n",
    "b_0 \\\\\n",
    "b_1\n",
    "\\end{bmatrix}\n",
    "\\]"
   ]
  },
  {
   "cell_type": "markdown",
   "id": "17705bec",
   "metadata": {},
   "source": [
    "\\[\n",
    "z = wx + b\n",
    "\\]"
   ]
  },
  {
   "cell_type": "markdown",
   "id": "fa700d77",
   "metadata": {},
   "source": [
    "Let’s try 3 neurons and 2 inputs"
   ]
  },
  {
   "cell_type": "code",
   "execution_count": null,
   "id": "b6fd8b5f",
   "metadata": {},
   "outputs": [],
   "source": [
    "from fastbook import *\n",
    "\n",
    "gv('''\n",
    "   x_0 -> z_0\n",
    "   x_0 -> z_1\n",
    "   x_0 -> z_2\n",
    "   x_1 -> z_0\n",
    "   x_1 -> z_1\n",
    "   x_1 -> z_2\n",
    "   z_0 -> output_0\n",
    "   z_1 -> output_1\n",
    "   z_2 -> output_2\n",
    "   ''')"
   ]
  },
  {
   "cell_type": "markdown",
   "id": "31457d5e",
   "metadata": {},
   "source": []
  },
  {
   "cell_type": "markdown",
   "id": "fb48081c",
   "metadata": {},
   "source": [
    "Matrix representation"
   ]
  },
  {
   "cell_type": "markdown",
   "id": "15a0361a",
   "metadata": {},
   "source": [
    "\\[\n",
    "x =\n",
    "\\begin{bmatrix}\n",
    "x_0 \\\\\n",
    "x_1\n",
    "\\end{bmatrix}\n",
    "\\]"
   ]
  },
  {
   "cell_type": "markdown",
   "id": "97bb70e1",
   "metadata": {},
   "source": [
    "\\[\n",
    "w =\n",
    "\\begin{bmatrix}\n",
    "w_{00} & w_{01} \\\\\n",
    "w_{10} & w_{11} \\\\\n",
    "w_{20} & w_{21}\n",
    "\\end{bmatrix}\n",
    "\\]"
   ]
  },
  {
   "cell_type": "markdown",
   "id": "5862060f",
   "metadata": {},
   "source": [
    "\\[\n",
    "b =\n",
    "\\begin{bmatrix}\n",
    "b_0 \\\\\n",
    "b_1 \\\\\n",
    "b_2\n",
    "\\end{bmatrix}\n",
    "\\]"
   ]
  },
  {
   "cell_type": "markdown",
   "id": "bd625c3d",
   "metadata": {},
   "source": [
    "\\[\n",
    "z = wx + b\n",
    "\\]"
   ]
  },
  {
   "cell_type": "markdown",
   "id": "b122cbf6",
   "metadata": {},
   "source": [
    "Lastly, let’s try vectorized multi layers"
   ]
  },
  {
   "cell_type": "code",
   "execution_count": null,
   "id": "8f6b514e",
   "metadata": {},
   "outputs": [],
   "source": [
    "from fastbook import *\n",
    "\n",
    "gv('''\n",
    "   x_0 -> z_0_0\n",
    "   x_0 -> z_0_1\n",
    "   x_1 -> z_0_0\n",
    "   x_1 -> z_0_1\n",
    "   z_0_0 -> z_1_0\n",
    "   z_0_1 -> z_1_0\n",
    "   z_1_0 -> output\n",
    "   ''')"
   ]
  },
  {
   "cell_type": "markdown",
   "id": "99c90fb1",
   "metadata": {},
   "source": []
  },
  {
   "cell_type": "markdown",
   "id": "5238ddaf",
   "metadata": {},
   "source": [
    "Matrix representation"
   ]
  },
  {
   "cell_type": "markdown",
   "id": "f8b9c08c",
   "metadata": {},
   "source": [
    "\\[\n",
    "x =\n",
    "\\begin{bmatrix}\n",
    "x_0 \\\\\n",
    "x_1\n",
    "\\end{bmatrix}\n",
    "\\]"
   ]
  },
  {
   "cell_type": "markdown",
   "id": "3e9242a3",
   "metadata": {},
   "source": [
    "First layer"
   ]
  },
  {
   "cell_type": "markdown",
   "id": "5bb675a3",
   "metadata": {},
   "source": [
    "\\[\n",
    "w^{[0]} =\n",
    "\\begin{bmatrix}\n",
    "w_{00} & w_{01} \\\\\n",
    "w_{10} & w_{11} \\\\\n",
    "\\end{bmatrix}\n",
    "\\]"
   ]
  },
  {
   "cell_type": "markdown",
   "id": "ff62d55b",
   "metadata": {},
   "source": [
    "\\[\n",
    "b^{[0]} =\n",
    "\\begin{bmatrix}\n",
    "b_0 \\\\\n",
    "b_1\n",
    "\\end{bmatrix}\n",
    "\\]"
   ]
  },
  {
   "cell_type": "markdown",
   "id": "9e1c963a",
   "metadata": {},
   "source": [
    "\\[\n",
    "z^{[0]} = w^{[0]}x + b^{[0]}\n",
    "\\]"
   ]
  },
  {
   "cell_type": "markdown",
   "id": "60ab5229",
   "metadata": {},
   "source": [
    "Second layer"
   ]
  },
  {
   "cell_type": "markdown",
   "id": "3779e049",
   "metadata": {},
   "source": [
    "\\[\n",
    "w^{[1]} =\n",
    "\\begin{bmatrix}\n",
    "w_{00} & w_{01}\n",
    "\\end{bmatrix}\n",
    "\\]"
   ]
  },
  {
   "cell_type": "markdown",
   "id": "b688a965",
   "metadata": {},
   "source": [
    "\\[\n",
    "b^{[1]} =\n",
    "\\begin{bmatrix}\n",
    "b_0\n",
    "\\end{bmatrix}\n",
    "\\]"
   ]
  },
  {
   "cell_type": "markdown",
   "id": "f3d24ef0",
   "metadata": {},
   "source": [
    "\\[\n",
    "z^{[1]} = w^{[1]}z^{[0]} + b^{[1]}\n",
    "\\]"
   ]
  },
  {
   "cell_type": "markdown",
   "id": "6631999f",
   "metadata": {},
   "source": [
    "We can write the full equation as follow"
   ]
  },
  {
   "cell_type": "markdown",
   "id": "c047cc5d",
   "metadata": {},
   "source": [
    "\\[\n",
    "z^{[1]} = w^{[1]}(w^{[0]}x + b^{[0]}) + b^{[1]}\n",
    "= w^{[1]}w^{[0]}x + w^{[1]}b^{[0]} + b^{[1]}\n",
    "\\]"
   ]
  },
  {
   "cell_type": "markdown",
   "id": "f713cc89",
   "metadata": {},
   "source": [
    "# Activation Function"
   ]
  },
  {
   "cell_type": "markdown",
   "id": "6c36dcf7",
   "metadata": {},
   "source": [
    "Notice the equation above:"
   ]
  },
  {
   "cell_type": "markdown",
   "id": "9504b3f8",
   "metadata": {},
   "source": [
    "\\[\n",
    "z^{[1]} = w^{[1]}w^{[0]}x + w^{[1]}b^{[0]} + b^{[1]}\n",
    "\\]"
   ]
  },
  {
   "cell_type": "markdown",
   "id": "10e973a2",
   "metadata": {},
   "source": [
    "By associativity, we can write it as follow"
   ]
  },
  {
   "cell_type": "markdown",
   "id": "2f49b9e4",
   "metadata": {},
   "source": [
    "\\[\n",
    "z^{[1]} = (w^{[1]}w^{[0]})x + w^{[1]}b^{[0]} + b^{[1]}\n",
    "\\]"
   ]
  },
  {
   "cell_type": "markdown",
   "id": "7f59dbcf",
   "metadata": {},
   "source": [
    "Let’s substitute \\[\n",
    "W = w^{[1]}w^{[0]}\n",
    "\\]"
   ]
  },
  {
   "cell_type": "markdown",
   "id": "0d71323a",
   "metadata": {},
   "source": [
    "\\[\n",
    "z^{[1]} = Wx + (w^{[1]}b^{[0]} + b^{[1]})\n",
    "= Wx + B\n",
    "\\]"
   ]
  },
  {
   "cell_type": "markdown",
   "id": "39677880",
   "metadata": {},
   "source": [
    "The final equation is still linear, it doesn’t differ from a single layer."
   ]
  },
  {
   "cell_type": "markdown",
   "id": "2e13a75e",
   "metadata": {},
   "source": [
    "By being linear the final equation would still be a straight line."
   ]
  },
  {
   "cell_type": "markdown",
   "id": "6f086cc2",
   "metadata": {},
   "source": [
    "To introduce non-linearity, we need to add an activation function."
   ]
  },
  {
   "cell_type": "markdown",
   "id": "b7cb2bff",
   "metadata": {},
   "source": [
    "\\[\n",
    "a^{[0]} = g(z^{[0]})\n",
    "\\]"
   ]
  },
  {
   "cell_type": "code",
   "execution_count": null,
   "id": "d81c9cb7",
   "metadata": {},
   "outputs": [],
   "source": [
    "from fastbook import *\n",
    "\n",
    "\n",
    "# Draw neurons with multiple inputs and weights\n",
    "gv('''\n",
    "z[shape=box3d width=1 height=0.7]\n",
    "bias[shape=circle width=0.3]\n",
    "// Subgraph to force alignment on x-axis\n",
    "subgraph {\n",
    "    rank=same;\n",
    "    z;\n",
    "    bias;\n",
    "    alignmentNode [style=invis, width=0]; // invisible node for alignment\n",
    "    bias -> alignmentNode [style=invis]; // invisible edge\n",
    "    z -> alignmentNode [style=invis]; // invisible edge\n",
    "}\n",
    "x_0->z [label=\"w_0\"]\n",
    "x_1->z [label=\"w_1\"]\n",
    "bias->z [label=\"b\" pos=\"0,1.2!\"]\n",
    "z->a [label=\"z = w_0 x_0 + w_1 x_1 + b\"]\n",
    "a->output [label=\"a = g(z)\"]\n",
    "''')"
   ]
  },
  {
   "cell_type": "markdown",
   "id": "5477acd9",
   "metadata": {},
   "source": []
  },
  {
   "cell_type": "markdown",
   "id": "3191101e",
   "metadata": {},
   "source": [
    "There are many activation functions, but the most common ones are: - Sigmoid \\[\n",
    "g(z) = \\frac{1}{1 + e^{-z}}\n",
    "\\] - Tanh \\[\n",
    "g(z) = \\frac{e^z - e^{-z}}{e^z + e^{-z}}\n",
    "\\] - ReLU \\[\n",
    "g(z) = max(0, z)\n",
    "\\] - Leaky ReLU \\[\n",
    "g(z) = max(0.01z, z)\n",
    "\\]"
   ]
  },
  {
   "cell_type": "markdown",
   "id": "fa4afb08",
   "metadata": {},
   "source": [
    "The decision to use which activation function depends on the problem. - Sigmoid used to be the most popular activation function, but it has a problem called vanishing gradient. It means that the gradient becomes very small and the model doesn’t learn anymore. - Tanh is similar to sigmoid, but it has a range from -1 to 1. - ReLU is the most popular activation function right now. It is simple and it doesn’t have vanishing gradient problem. - Leaky ReLU is a variation of ReLU. It is used to solve the dying ReLU problem. Dying ReLU is a problem where the neuron doesn’t activate anymore because the input is always negative."
   ]
  },
  {
   "cell_type": "code",
   "execution_count": null,
   "id": "22881f1d",
   "metadata": {},
   "outputs": [],
   "source": [
    "# Draw sigmoid, tanh, ReLU, and Leaky ReLU activation functions using matplotlib\n",
    "\n",
    "import matplotlib.pyplot as plt\n",
    "import numpy as np\n",
    "\n",
    "x = np.linspace(-10, 10, 100)\n",
    "sigmoid = 1/(1+np.exp(-x))\n",
    "tanh = (np.exp(x)-np.exp(-x))/(np.exp(x)+np.exp(-x))\n",
    "relu = np.maximum(0, x)\n",
    "leaky_relu = np.maximum(0.1*x, x)\n",
    "\n",
    "# Draw each in a separate plot\n",
    "plt.plot(x, sigmoid)\n",
    "plt.title(\"Sigmoid\")\n",
    "# Draw x and y axes, make it dotted\n",
    "plt.axhline(y=0, color='k', linestyle='dotted')\n",
    "plt.axvline(x=0, color='k', linestyle='dotted')\n",
    "plt.show()\n",
    "\n",
    "plt.plot(x, tanh)\n",
    "plt.title(\"Tanh\")\n",
    "plt.axhline(y=0, color='k', linestyle='dotted')\n",
    "plt.axvline(x=0, color='k', linestyle='dotted')\n",
    "plt.show()\n",
    "\n",
    "plt.plot(x, relu)\n",
    "plt.title(\"ReLU\")\n",
    "plt.axhline(y=0, color='k', linestyle='dotted')\n",
    "plt.axvline(x=0, color='k', linestyle='dotted')\n",
    "plt.show()\n",
    "\n",
    "plt.plot(x, leaky_relu)\n",
    "plt.title(\"Leaky ReLU\")\n",
    "plt.axhline(y=0, color='k', linestyle='dotted')\n",
    "plt.axvline(x=0, color='k', linestyle='dotted')\n",
    "plt.show()"
   ]
  },
  {
   "cell_type": "markdown",
   "id": "4d4b1bde",
   "metadata": {},
   "source": []
  },
  {
   "cell_type": "markdown",
   "id": "990e90ad",
   "metadata": {},
   "source": []
  },
  {
   "cell_type": "markdown",
   "id": "e2079b75",
   "metadata": {},
   "source": []
  },
  {
   "cell_type": "markdown",
   "id": "c7932470",
   "metadata": {},
   "source": []
  },
  {
   "cell_type": "markdown",
   "id": "fe443586",
   "metadata": {},
   "source": [
    "# Matrix Representation with Activation Function"
   ]
  },
  {
   "cell_type": "markdown",
   "id": "79979f48",
   "metadata": {},
   "source": [
    "Let’s try to add activation function to the previous example"
   ]
  },
  {
   "cell_type": "markdown",
   "id": "a674c27f",
   "metadata": {},
   "source": [
    "\\[\n",
    "x =\n",
    "\\begin{bmatrix}\n",
    "x_0 \\\\\n",
    "x_1\n",
    "\\end{bmatrix}\n",
    "\\]"
   ]
  },
  {
   "cell_type": "markdown",
   "id": "0845d456",
   "metadata": {},
   "source": [
    "First layer"
   ]
  },
  {
   "cell_type": "markdown",
   "id": "a6386d8e",
   "metadata": {},
   "source": [
    "\\[\n",
    "w^{[0]} =\n",
    "\\begin{bmatrix}\n",
    "w_{00} & w_{01} \\\\\n",
    "w_{10} & w_{11} \\\\\n",
    "\\end{bmatrix}\n",
    "\\]"
   ]
  },
  {
   "cell_type": "markdown",
   "id": "178ed64c",
   "metadata": {},
   "source": [
    "\\[\n",
    "b^{[0]} =\n",
    "\\begin{bmatrix}\n",
    "b_0 \\\\\n",
    "b_1\n",
    "\\end{bmatrix}\n",
    "\\]"
   ]
  },
  {
   "cell_type": "markdown",
   "id": "a308f969",
   "metadata": {},
   "source": [
    "\\[\n",
    "z^{[0]} = w^{[0]}x + b^{[0]}\n",
    "\\]"
   ]
  },
  {
   "cell_type": "markdown",
   "id": "6c28cbbf",
   "metadata": {},
   "source": [
    "\\[\n",
    "a^{[0]} = g^{[0]}(z^{[0]})\n",
    "\\]"
   ]
  },
  {
   "cell_type": "markdown",
   "id": "e639deb5",
   "metadata": {},
   "source": [
    "Second layer"
   ]
  },
  {
   "cell_type": "markdown",
   "id": "f66f9f16",
   "metadata": {},
   "source": [
    "\\[\n",
    "w^{[1]} =\n",
    "\\begin{bmatrix}\n",
    "w_{00} & w_{01}\n",
    "\\end{bmatrix}\n",
    "\\]"
   ]
  },
  {
   "cell_type": "markdown",
   "id": "896408c8",
   "metadata": {},
   "source": [
    "\\[\n",
    "b^{[1]} =\n",
    "\\begin{bmatrix}\n",
    "b_0\n",
    "\\end{bmatrix}\n",
    "\\]"
   ]
  },
  {
   "cell_type": "markdown",
   "id": "89071dad",
   "metadata": {},
   "source": [
    "\\[\n",
    "z^{[1]} = w^{[1]}a^{[0]} + b^{[1]}\n",
    "\\]"
   ]
  },
  {
   "cell_type": "markdown",
   "id": "e30c20d4",
   "metadata": {},
   "source": [
    "\\[\n",
    "a^{[1]} = g^{[1]}(z^{[1]})\n",
    "\\]"
   ]
  },
  {
   "cell_type": "markdown",
   "id": "da2643fe",
   "metadata": {},
   "source": [
    "We can write the full equation as follow"
   ]
  },
  {
   "cell_type": "markdown",
   "id": "1a87528c",
   "metadata": {},
   "source": [
    "\\[\n",
    "a^{[1]} = g^{[1]}(w^{[1]}(g^{[0]}(w^{[0]}x + b^{[0]})) + b^{[1]})\n",
    "\\]"
   ]
  },
  {
   "cell_type": "markdown",
   "id": "2e183361",
   "metadata": {},
   "source": [
    "Let’s wrap up with a diagram of multi layer NN with activation functions"
   ]
  },
  {
   "cell_type": "code",
   "execution_count": null,
   "id": "de020728",
   "metadata": {},
   "outputs": [],
   "source": [
    "from fastbook import *\n",
    "\n",
    "gv('''\n",
    "   x_0 -> z_0_0 \n",
    "   x_0 -> z_0_1 \n",
    "   x_1 -> z_0_0\n",
    "   x_1 -> z_0_1\n",
    "   z_0_0 -> a_0_0 -> z_1_0\n",
    "   z_0_1 -> a_0_1 -> z_1_0\n",
    "   z_1_0 -> a_1_0 -> output\n",
    "   ''')"
   ]
  },
  {
   "cell_type": "markdown",
   "id": "2cc122c7",
   "metadata": {},
   "source": []
  },
  {
   "cell_type": "markdown",
   "id": "2f0adc16",
   "metadata": {},
   "source": [
    "# Cost Function"
   ]
  },
  {
   "cell_type": "markdown",
   "id": "1cb4cd2d",
   "metadata": {},
   "source": [
    "The cost function formula for multi layer NN is the same as the single layer NN:"
   ]
  },
  {
   "cell_type": "markdown",
   "id": "9e6e205b",
   "metadata": {},
   "source": [
    "\\[\n",
    "J = \\frac{1}{m}\\sum_{i=1}^{m}L(\\hat{y}^{(i)}, y^{(i)})\n",
    "\\]"
   ]
  },
  {
   "cell_type": "markdown",
   "id": "ef22bfa0",
   "metadata": {},
   "source": [
    "or can also be simplified as"
   ]
  },
  {
   "cell_type": "markdown",
   "id": "e100543c",
   "metadata": {},
   "source": [
    "\\[\n",
    "J = \\sum_{i=1}^{m}L(a^{[L](i)}, y^{(i)})\n",
    "\\]"
   ]
  }
 ],
 "metadata": {},
 "nbformat": 4,
 "nbformat_minor": 5
}
