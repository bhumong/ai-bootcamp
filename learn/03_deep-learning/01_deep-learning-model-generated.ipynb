{
 "cells": [
  {
   "cell_type": "markdown",
   "id": "44ccd4d8",
   "metadata": {},
   "source": [
    "# Deep Learning Model"
   ]
  },
  {
   "cell_type": "markdown",
   "id": "3bb070a4",
   "metadata": {},
   "source": [
    "Deep Learning consists of neural networks with many layers. The layers are connected to each other and each layer has a weight. The weight is used to calculate the output of each layer. The output of the previous layer is used as the input of the next layer. The output of the last layer is the output of the model."
   ]
  },
  {
   "cell_type": "markdown",
   "id": "e8b4405c",
   "metadata": {},
   "source": [
    "So what is neural networks?"
   ]
  },
  {
   "cell_type": "markdown",
   "id": "7a315555",
   "metadata": {},
   "source": [
    "# Neural Networks"
   ]
  },
  {
   "cell_type": "markdown",
   "id": "0b1b9bab",
   "metadata": {},
   "source": [
    "Neural Networks consists of neurons. Each neuron has inputs, weights, bias, an activation function, and an output."
   ]
  },
  {
   "cell_type": "code",
   "execution_count": null,
   "id": "0f149c80",
   "metadata": {},
   "outputs": [],
   "source": [
    "from fastbook import *\n",
    "\n",
    "\n",
    "# Draw neurons with multiple inputs and weights\n",
    "gv('''\n",
    "z[shape=box3d width=1 height=0.7]\n",
    "bias[shape=circle width=0.3]\n",
    "// Subgraph to force alignment on x-axis\n",
    "subgraph {\n",
    "    rank=same;\n",
    "    z;\n",
    "    bias;\n",
    "    alignmentNode [style=invis, width=0]; // invisible node for alignment\n",
    "    bias -> alignmentNode [style=invis]; // invisible edge\n",
    "    z -> alignmentNode [style=invis]; // invisible edge\n",
    "}\n",
    "x_0->z [label=\"w_0\"]\n",
    "x_1->z [label=\"w_1\"]\n",
    "bias->z [label=\"b\" pos=\"0,1.2!\"]\n",
    "z->output [label=\"z = w_0 x_0 + w_1 x_1 + b\"]\n",
    "''')"
   ]
  },
  {
   "cell_type": "markdown",
   "id": "7b0c09a5",
   "metadata": {},
   "source": []
  },
  {
   "cell_type": "markdown",
   "id": "745b7d91",
   "metadata": {},
   "source": [
    "We can have multiple neurons in one layer"
   ]
  },
  {
   "cell_type": "code",
   "execution_count": null,
   "id": "ccb98bdd",
   "metadata": {},
   "outputs": [],
   "source": [
    "from fastbook import *\n",
    "\n",
    "# Draw neurons with multiple inputs and weights\n",
    "gv('''\n",
    "z0[shape=box3d width=1 height=0.7]\n",
    "z1[shape=box3d width=1 height=0.7]\n",
    "bias_0[shape=circle width=0.3]\n",
    "bias_1[shape=circle width=0.3]\n",
    "\n",
    "subgraph {\n",
    "    rank=same;\n",
    "    z0;\n",
    "    bias_0;\n",
    "    alignmentNode [style=invis, width=0]; // invisible node for alignment\n",
    "    bias_0 -> alignmentNode [style=invis]; // invisible edge\n",
    "    z0 -> alignmentNode [style=invis]; // invisible edge\n",
    "}\n",
    "\n",
    "subgraph {\n",
    "    rank=same;\n",
    "    z1;\n",
    "    bias_1;\n",
    "    alignmentNode [style=invis, width=0]; // invisible node for alignment\n",
    "    bias_1 -> alignmentNode [style=invis]; // invisible edge\n",
    "    z1 -> alignmentNode [style=invis]; // invisible edge\n",
    "}\n",
    "x_0->z0 [label=\"w_0,0\"]\n",
    "x_1->z0 [label=\"w_0,1\"]\n",
    "bias_0->z0 [label=\"b_0\" pos=\"0,1.2!\"]\n",
    "z0->output_0 [label=\"z0 = w_0,0 x_0 + w_0,1 x_1 + b_0\"]\n",
    "   \n",
    "x_0->z1 [label=\"w_1,0\"]\n",
    "x_1->z1 [label=\"w_1,1\"]\n",
    "bias_1->z1 [label=\"b_1\" pos=\"0,1.2!\"]\n",
    "z1->output_1 [label=\"z1 = w_1,0 x_0 + w_1,1 x_1 + b_1\"]\n",
    "''')"
   ]
  },
  {
   "cell_type": "markdown",
   "id": "8fa6545e",
   "metadata": {},
   "source": []
  },
  {
   "cell_type": "markdown",
   "id": "1010da36",
   "metadata": {},
   "source": [
    "# Multilayer Neural Networks"
   ]
  },
  {
   "cell_type": "markdown",
   "id": "de38bbad",
   "metadata": {},
   "source": [
    "The output of the previous layer can be used as the input of the next layer. The output of the last layer is the output of the model."
   ]
  },
  {
   "cell_type": "code",
   "execution_count": null,
   "id": "22da6fac",
   "metadata": {},
   "outputs": [],
   "source": [
    "from fastbook import *\n",
    "\n",
    "gv('''\n",
    "   x_0 -> z_0_0\n",
    "   x_0 -> z_0_1\n",
    "   x_1 -> z_0_0\n",
    "   x_1 -> z_0_1\n",
    "   z_0_0 -> z_1_0\n",
    "   z_0_1 -> z_1_0\n",
    "   z_1_0 -> output\n",
    "   ''')"
   ]
  },
  {
   "cell_type": "markdown",
   "id": "257a2f05",
   "metadata": {},
   "source": []
  },
  {
   "cell_type": "markdown",
   "id": "2d596c8d",
   "metadata": {},
   "source": [
    "Note that the network is fully connected, so the following is not a valid network"
   ]
  },
  {
   "cell_type": "code",
   "execution_count": null,
   "id": "7f64194c",
   "metadata": {},
   "outputs": [],
   "source": [
    "from fastbook import *\n",
    "\n",
    "gv('''\n",
    "   x_0 -> z_0_0\n",
    "   x_1 -> z_0_1\n",
    "   z_0_0 -> z_1_0\n",
    "   z_0_1 -> z_1_0\n",
    "   z_1_0 -> output\n",
    "   ''')"
   ]
  },
  {
   "cell_type": "markdown",
   "id": "50b213f3",
   "metadata": {},
   "source": []
  },
  {
   "cell_type": "markdown",
   "id": "7889dab8",
   "metadata": {},
   "source": [
    "# Vectorized"
   ]
  },
  {
   "cell_type": "markdown",
   "id": "5b53753a",
   "metadata": {},
   "source": [
    "Operations in neurons can be vectorized. This is important because it can speed up the calculation."
   ]
  },
  {
   "cell_type": "markdown",
   "id": "eeec6e9c",
   "metadata": {},
   "source": [
    "It also simplifies the code. Let’s go back to the previous example."
   ]
  },
  {
   "cell_type": "code",
   "execution_count": null,
   "id": "91be1c97",
   "metadata": {},
   "outputs": [],
   "source": [
    "from fastbook import *\n",
    "\n",
    "\n",
    "# Draw neurons with multiple inputs and weights\n",
    "gv('''\n",
    "z[shape=box3d width=1 height=0.7]\n",
    "bias[shape=circle width=0.3]\n",
    "// Subgraph to force alignment on x-axis\n",
    "subgraph {\n",
    "    rank=same;\n",
    "    z;\n",
    "    bias;\n",
    "    alignmentNode [style=invis, width=0]; // invisible node for alignment\n",
    "    bias -> alignmentNode [style=invis]; // invisible edge\n",
    "    z -> alignmentNode [style=invis]; // invisible edge\n",
    "}\n",
    "x_0->z [label=\"w_0\"]\n",
    "x_1->z [label=\"w_1\"]\n",
    "bias->z [label=\"b\" pos=\"0,1.2!\"]\n",
    "z->output [label=\"z = w_0 x_0 + w_1 x_1 + b\"]\n",
    "''')"
   ]
  },
  {
   "cell_type": "markdown",
   "id": "7373c557",
   "metadata": {},
   "source": []
  },
  {
   "cell_type": "markdown",
   "id": "628e16dd",
   "metadata": {},
   "source": [
    "Matrix representation"
   ]
  },
  {
   "cell_type": "markdown",
   "id": "5268bb2b",
   "metadata": {},
   "source": [
    "\\[\n",
    "x =\n",
    "\\begin{bmatrix}\n",
    "x_0 \\\\\n",
    "x_1\n",
    "\\end{bmatrix}\n",
    "\\]"
   ]
  },
  {
   "cell_type": "markdown",
   "id": "f086e6ee",
   "metadata": {},
   "source": [
    "\\[\n",
    "w =\n",
    "\\begin{bmatrix}\n",
    "w_0 & w_1\n",
    "\\end{bmatrix}\n",
    "\\]"
   ]
  },
  {
   "cell_type": "markdown",
   "id": "0129353d",
   "metadata": {},
   "source": [
    "\\[\n",
    "b =\n",
    "\\begin{bmatrix}\n",
    "b_0\n",
    "\\end{bmatrix}\n",
    "\\]"
   ]
  },
  {
   "cell_type": "markdown",
   "id": "adaeba5d",
   "metadata": {},
   "source": [
    "\\[\n",
    "z = wx + b\n",
    "\\]"
   ]
  },
  {
   "cell_type": "markdown",
   "id": "849cf81a",
   "metadata": {},
   "source": [
    "If we have multiple neurons in one layer, we can write it as follow"
   ]
  },
  {
   "cell_type": "code",
   "execution_count": null,
   "id": "c38abefd",
   "metadata": {},
   "outputs": [],
   "source": [
    "from fastbook import *\n",
    "\n",
    "# Draw neurons with multiple inputs and weights\n",
    "gv('''\n",
    "z0[shape=box3d width=1 height=0.7]\n",
    "z1[shape=box3d width=1 height=0.7]\n",
    "bias_0[shape=circle width=0.3]\n",
    "bias_1[shape=circle width=0.3]\n",
    "\n",
    "subgraph {\n",
    "    rank=same;\n",
    "    z0;\n",
    "    bias_0;\n",
    "    alignmentNode [style=invis, width=0]; // invisible node for alignment\n",
    "    bias_0 -> alignmentNode [style=invis]; // invisible edge\n",
    "    z0 -> alignmentNode [style=invis]; // invisible edge\n",
    "}\n",
    "\n",
    "subgraph {\n",
    "    rank=same;\n",
    "    z1;\n",
    "    bias_1;\n",
    "    alignmentNode [style=invis, width=0]; // invisible node for alignment\n",
    "    bias_1 -> alignmentNode [style=invis]; // invisible edge\n",
    "    z1 -> alignmentNode [style=invis]; // invisible edge\n",
    "}\n",
    "x_0->z0 [label=\"w_0,0\"]\n",
    "x_1->z0 [label=\"w_0,1\"]\n",
    "bias_0->z0 [label=\"b_0\" pos=\"0,1.2!\"]\n",
    "z0->output_0 [label=\"z0 = w_0,0 x_0 + w_0,1 x_1 + b_0\"]\n",
    "   \n",
    "x_0->z1 [label=\"w_1,0\"]\n",
    "x_1->z1 [label=\"w_1,1\"]\n",
    "bias_1->z1 [label=\"b_1\" pos=\"0,1.2!\"]\n",
    "z1->output_1 [label=\"z1 = w_1,0 x_0 + w_1,1 x_1 + b_1\"]\n",
    "''')"
   ]
  },
  {
   "cell_type": "markdown",
   "id": "6a9b7acd",
   "metadata": {},
   "source": []
  },
  {
   "cell_type": "markdown",
   "id": "14ea02c7",
   "metadata": {},
   "source": [
    "Matrix representation"
   ]
  },
  {
   "cell_type": "markdown",
   "id": "aa6ef137",
   "metadata": {},
   "source": [
    "\\[\n",
    "x =\n",
    "\\begin{bmatrix}\n",
    "x_0 \\\\\n",
    "x_1\n",
    "\\end{bmatrix}\n",
    "\\]"
   ]
  },
  {
   "cell_type": "markdown",
   "id": "0a656fc7",
   "metadata": {},
   "source": [
    "\\[\n",
    "w =\n",
    "\\begin{bmatrix}\n",
    "w_{00} & w_{01} \\\\\n",
    "w_{10} & w_{11}\n",
    "\\end{bmatrix}\n",
    "\\]"
   ]
  },
  {
   "cell_type": "markdown",
   "id": "cfc8a6a5",
   "metadata": {},
   "source": [
    "\\[\n",
    "b =\n",
    "\\begin{bmatrix}\n",
    "b_0 \\\\\n",
    "b_1\n",
    "\\end{bmatrix}\n",
    "\\]"
   ]
  },
  {
   "cell_type": "markdown",
   "id": "e514adf7",
   "metadata": {},
   "source": [
    "\\[\n",
    "z = wx + b\n",
    "\\]"
   ]
  },
  {
   "cell_type": "markdown",
   "id": "378aa511",
   "metadata": {},
   "source": [
    "Let’s try 3 neurons and 2 inputs"
   ]
  },
  {
   "cell_type": "code",
   "execution_count": null,
   "id": "c1f52fcc",
   "metadata": {},
   "outputs": [],
   "source": [
    "from fastbook import *\n",
    "\n",
    "gv('''\n",
    "   x_0 -> z_0\n",
    "   x_0 -> z_1\n",
    "   x_0 -> z_2\n",
    "   x_1 -> z_0\n",
    "   x_1 -> z_1\n",
    "   x_1 -> z_2\n",
    "   z_0 -> output_0\n",
    "   z_1 -> output_1\n",
    "   z_2 -> output_2\n",
    "   ''')"
   ]
  },
  {
   "cell_type": "markdown",
   "id": "56e7b758",
   "metadata": {},
   "source": []
  },
  {
   "cell_type": "markdown",
   "id": "789b4619",
   "metadata": {},
   "source": [
    "Matrix representation"
   ]
  },
  {
   "cell_type": "markdown",
   "id": "d0adacec",
   "metadata": {},
   "source": [
    "\\[\n",
    "x =\n",
    "\\begin{bmatrix}\n",
    "x_0 \\\\\n",
    "x_1\n",
    "\\end{bmatrix}\n",
    "\\]"
   ]
  },
  {
   "cell_type": "markdown",
   "id": "7917a135",
   "metadata": {},
   "source": [
    "\\[\n",
    "w =\n",
    "\\begin{bmatrix}\n",
    "w_{00} & w_{01} \\\\\n",
    "w_{10} & w_{11} \\\\\n",
    "w_{20} & w_{21}\n",
    "\\end{bmatrix}\n",
    "\\]"
   ]
  },
  {
   "cell_type": "markdown",
   "id": "e9b215a5",
   "metadata": {},
   "source": [
    "\\[\n",
    "b =\n",
    "\\begin{bmatrix}\n",
    "b_0 \\\\\n",
    "b_1 \\\\\n",
    "b_2\n",
    "\\end{bmatrix}\n",
    "\\]"
   ]
  },
  {
   "cell_type": "markdown",
   "id": "a1b8ceb7",
   "metadata": {},
   "source": [
    "\\[\n",
    "z = wx + b\n",
    "\\]"
   ]
  },
  {
   "cell_type": "markdown",
   "id": "3e7c79e8",
   "metadata": {},
   "source": [
    "Lastly, let’s try vectorized multi layers"
   ]
  },
  {
   "cell_type": "code",
   "execution_count": null,
   "id": "d52dba26",
   "metadata": {},
   "outputs": [],
   "source": [
    "from fastbook import *\n",
    "\n",
    "gv('''\n",
    "   x_0 -> z_0_0\n",
    "   x_0 -> z_0_1\n",
    "   x_1 -> z_0_0\n",
    "   x_1 -> z_0_1\n",
    "   z_0_0 -> z_1_0\n",
    "   z_0_1 -> z_1_0\n",
    "   z_1_0 -> output\n",
    "   ''')"
   ]
  },
  {
   "cell_type": "markdown",
   "id": "388448f9",
   "metadata": {},
   "source": []
  },
  {
   "cell_type": "markdown",
   "id": "2a1b17df",
   "metadata": {},
   "source": [
    "Matrix representation"
   ]
  },
  {
   "cell_type": "markdown",
   "id": "4163d004",
   "metadata": {},
   "source": [
    "\\[\n",
    "x =\n",
    "\\begin{bmatrix}\n",
    "x_0 \\\\\n",
    "x_1\n",
    "\\end{bmatrix}\n",
    "\\]"
   ]
  },
  {
   "cell_type": "markdown",
   "id": "919f1d16",
   "metadata": {},
   "source": [
    "First layer"
   ]
  },
  {
   "cell_type": "markdown",
   "id": "e20dff54",
   "metadata": {},
   "source": [
    "\\[\n",
    "w^{[0]} =\n",
    "\\begin{bmatrix}\n",
    "w_{00} & w_{01} \\\\\n",
    "w_{10} & w_{11} \\\\\n",
    "\\end{bmatrix}\n",
    "\\]"
   ]
  },
  {
   "cell_type": "markdown",
   "id": "3408c2f2",
   "metadata": {},
   "source": [
    "\\[\n",
    "b^{[0]} =\n",
    "\\begin{bmatrix}\n",
    "b_0 \\\\\n",
    "b_1\n",
    "\\end{bmatrix}\n",
    "\\]"
   ]
  },
  {
   "cell_type": "markdown",
   "id": "c819b380",
   "metadata": {},
   "source": [
    "\\[\n",
    "z^{[0]} = w^{[0]}x + b^{[0]}\n",
    "\\]"
   ]
  },
  {
   "cell_type": "markdown",
   "id": "174f44a2",
   "metadata": {},
   "source": [
    "Second layer"
   ]
  },
  {
   "cell_type": "markdown",
   "id": "aa3bab9e",
   "metadata": {},
   "source": [
    "\\[\n",
    "w^{[1]} =\n",
    "\\begin{bmatrix}\n",
    "w_{00} & w_{01}\n",
    "\\end{bmatrix}\n",
    "\\]"
   ]
  },
  {
   "cell_type": "markdown",
   "id": "d6870492",
   "metadata": {},
   "source": [
    "\\[\n",
    "b^{[1]} =\n",
    "\\begin{bmatrix}\n",
    "b_0\n",
    "\\end{bmatrix}\n",
    "\\]"
   ]
  },
  {
   "cell_type": "markdown",
   "id": "275cd68d",
   "metadata": {},
   "source": [
    "\\[\n",
    "z^{[1]} = w^{[1]}z^{[0]} + b^{[1]}\n",
    "\\]"
   ]
  },
  {
   "cell_type": "markdown",
   "id": "0c0a1cf3",
   "metadata": {},
   "source": [
    "We can write the full equation as follow"
   ]
  },
  {
   "cell_type": "markdown",
   "id": "7c137a26",
   "metadata": {},
   "source": [
    "\\[\n",
    "z^{[1]} = w^{[1]}(w^{[0]}x + b^{[0]}) + b^{[1]}\n",
    "= w^{[1]}w^{[0]}x + w^{[1]}b^{[0]} + b^{[1]}\n",
    "\\]"
   ]
  },
  {
   "cell_type": "markdown",
   "id": "5d74c8b7",
   "metadata": {},
   "source": [
    "# Activation Function"
   ]
  },
  {
   "cell_type": "markdown",
   "id": "a0ad9c35",
   "metadata": {},
   "source": [
    "Notice the equation above:"
   ]
  },
  {
   "cell_type": "markdown",
   "id": "953db68a",
   "metadata": {},
   "source": [
    "\\[\n",
    "z^{[1]} = w^{[1]}w^{[0]}x + w^{[1]}b^{[0]} + b^{[1]}\n",
    "\\]"
   ]
  },
  {
   "cell_type": "markdown",
   "id": "c95b19d0",
   "metadata": {},
   "source": [
    "By associativity, we can write it as follow"
   ]
  },
  {
   "cell_type": "markdown",
   "id": "01e1f915",
   "metadata": {},
   "source": [
    "\\[\n",
    "z^{[1]} = (w^{[1]}w^{[0]})x + w^{[1]}b^{[0]} + b^{[1]}\n",
    "\\]"
   ]
  },
  {
   "cell_type": "markdown",
   "id": "79ca6b8c",
   "metadata": {},
   "source": [
    "Let’s substitute \\[\n",
    "W = w^{[1]}w^{[0]}\n",
    "\\]"
   ]
  },
  {
   "cell_type": "markdown",
   "id": "e59bb367",
   "metadata": {},
   "source": [
    "\\[\n",
    "z^{[1]} = Wx + (w^{[1]}b^{[0]} + b^{[1]})\n",
    "= Wx + B\n",
    "\\]"
   ]
  },
  {
   "cell_type": "markdown",
   "id": "7f3fb7a3",
   "metadata": {},
   "source": [
    "The final equation is still linear, it doesn’t differ from a single layer."
   ]
  },
  {
   "cell_type": "markdown",
   "id": "00d28673",
   "metadata": {},
   "source": [
    "By being linear the final equation would still be a straight line."
   ]
  },
  {
   "cell_type": "markdown",
   "id": "b050bbe4",
   "metadata": {},
   "source": [
    "To introduce non-linearity, we need to add an activation function."
   ]
  },
  {
   "cell_type": "markdown",
   "id": "811fbeea",
   "metadata": {},
   "source": [
    "\\[\n",
    "a^{[0]} = g(z^{[0]})\n",
    "\\]"
   ]
  },
  {
   "cell_type": "code",
   "execution_count": null,
   "id": "3be73acd",
   "metadata": {},
   "outputs": [],
   "source": [
    "from fastbook import *\n",
    "\n",
    "\n",
    "# Draw neurons with multiple inputs and weights\n",
    "gv('''\n",
    "z[shape=box3d width=1 height=0.7]\n",
    "bias[shape=circle width=0.3]\n",
    "// Subgraph to force alignment on x-axis\n",
    "subgraph {\n",
    "    rank=same;\n",
    "    z;\n",
    "    bias;\n",
    "    alignmentNode [style=invis, width=0]; // invisible node for alignment\n",
    "    bias -> alignmentNode [style=invis]; // invisible edge\n",
    "    z -> alignmentNode [style=invis]; // invisible edge\n",
    "}\n",
    "x_0->z [label=\"w_0\"]\n",
    "x_1->z [label=\"w_1\"]\n",
    "bias->z [label=\"b\" pos=\"0,1.2!\"]\n",
    "z->a [label=\"z = w_0 x_0 + w_1 x_1 + b\"]\n",
    "a->output [label=\"a = g(z)\"]\n",
    "''')"
   ]
  },
  {
   "cell_type": "markdown",
   "id": "bcb2cd46",
   "metadata": {},
   "source": []
  },
  {
   "cell_type": "markdown",
   "id": "2b3346e8",
   "metadata": {},
   "source": [
    "There are many activation functions, but the most common ones are: - Sigmoid \\[\n",
    "g(z) = \\frac{1}{1 + e^{-z}}\n",
    "\\] - Tanh \\[\n",
    "g(z) = \\frac{e^z - e^{-z}}{e^z + e^{-z}}\n",
    "\\] - ReLU \\[\n",
    "g(z) = max(0, z)\n",
    "\\] - Leaky ReLU \\[\n",
    "g(z) = max(0.01z, z)\n",
    "\\]"
   ]
  },
  {
   "cell_type": "markdown",
   "id": "adfdd96a",
   "metadata": {},
   "source": [
    "The decision to use which activation function depends on the problem. - Sigmoid used to be the most popular activation function, but it has a problem called vanishing gradient. It means that the gradient becomes very small and the model doesn’t learn anymore. - Tanh is similar to sigmoid, but it has a range from -1 to 1. - ReLU is the most popular activation function right now. It is simple and it doesn’t have vanishing gradient problem. - Leaky ReLU is a variation of ReLU. It is used to solve the dying ReLU problem. Dying ReLU is a problem where the neuron doesn’t activate anymore because the input is always negative."
   ]
  },
  {
   "cell_type": "code",
   "execution_count": null,
   "id": "126a9d6e",
   "metadata": {},
   "outputs": [],
   "source": [
    "# Draw sigmoid, tanh, ReLU, and Leaky ReLU activation functions using matplotlib\n",
    "\n",
    "import matplotlib.pyplot as plt\n",
    "import numpy as np\n",
    "\n",
    "x = np.linspace(-10, 10, 100)\n",
    "sigmoid = 1/(1+np.exp(-x))\n",
    "tanh = (np.exp(x)-np.exp(-x))/(np.exp(x)+np.exp(-x))\n",
    "relu = np.maximum(0, x)\n",
    "leaky_relu = np.maximum(0.1*x, x)\n",
    "\n",
    "# Draw each in a separate plot\n",
    "plt.plot(x, sigmoid)\n",
    "plt.title(\"Sigmoid\")\n",
    "# Draw x and y axes, make it dotted\n",
    "plt.axhline(y=0, color='k', linestyle='dotted')\n",
    "plt.axvline(x=0, color='k', linestyle='dotted')\n",
    "plt.show()\n",
    "\n",
    "plt.plot(x, tanh)\n",
    "plt.title(\"Tanh\")\n",
    "plt.axhline(y=0, color='k', linestyle='dotted')\n",
    "plt.axvline(x=0, color='k', linestyle='dotted')\n",
    "plt.show()\n",
    "\n",
    "plt.plot(x, relu)\n",
    "plt.title(\"ReLU\")\n",
    "plt.axhline(y=0, color='k', linestyle='dotted')\n",
    "plt.axvline(x=0, color='k', linestyle='dotted')\n",
    "plt.show()\n",
    "\n",
    "plt.plot(x, leaky_relu)\n",
    "plt.title(\"Leaky ReLU\")\n",
    "plt.axhline(y=0, color='k', linestyle='dotted')\n",
    "plt.axvline(x=0, color='k', linestyle='dotted')\n",
    "plt.show()"
   ]
  },
  {
   "cell_type": "markdown",
   "id": "d0f6a950",
   "metadata": {},
   "source": []
  },
  {
   "cell_type": "markdown",
   "id": "dec16514",
   "metadata": {},
   "source": []
  },
  {
   "cell_type": "markdown",
   "id": "a6430d25",
   "metadata": {},
   "source": []
  },
  {
   "cell_type": "markdown",
   "id": "b2539d19",
   "metadata": {},
   "source": []
  },
  {
   "cell_type": "markdown",
   "id": "c4ee27b4",
   "metadata": {},
   "source": [
    "# Matrix Representation with Activation Function"
   ]
  },
  {
   "cell_type": "markdown",
   "id": "d7806d8a",
   "metadata": {},
   "source": [
    "Let’s try to add activation function to the previous example"
   ]
  },
  {
   "cell_type": "markdown",
   "id": "266fe5c8",
   "metadata": {},
   "source": [
    "\\[\n",
    "x =\n",
    "\\begin{bmatrix}\n",
    "x_0 \\\\\n",
    "x_1\n",
    "\\end{bmatrix}\n",
    "\\]"
   ]
  },
  {
   "cell_type": "markdown",
   "id": "73910d34",
   "metadata": {},
   "source": [
    "First layer"
   ]
  },
  {
   "cell_type": "markdown",
   "id": "b9e46be5",
   "metadata": {},
   "source": [
    "\\[\n",
    "w^{[0]} =\n",
    "\\begin{bmatrix}\n",
    "w_{00} & w_{01} \\\\\n",
    "w_{10} & w_{11} \\\\\n",
    "\\end{bmatrix}\n",
    "\\]"
   ]
  },
  {
   "cell_type": "markdown",
   "id": "e9e0e0e4",
   "metadata": {},
   "source": [
    "\\[\n",
    "b^{[0]} =\n",
    "\\begin{bmatrix}\n",
    "b_0 \\\\\n",
    "b_1\n",
    "\\end{bmatrix}\n",
    "\\]"
   ]
  },
  {
   "cell_type": "markdown",
   "id": "9cdb3496",
   "metadata": {},
   "source": [
    "\\[\n",
    "z^{[0]} = w^{[0]}x + b^{[0]}\n",
    "\\]"
   ]
  },
  {
   "cell_type": "markdown",
   "id": "239c9ed8",
   "metadata": {},
   "source": [
    "\\[\n",
    "a^{[0]} = g^{[0]}(z^{[0]})\n",
    "\\]"
   ]
  },
  {
   "cell_type": "markdown",
   "id": "b7d190a9",
   "metadata": {},
   "source": [
    "Second layer"
   ]
  },
  {
   "cell_type": "markdown",
   "id": "1ba212bd",
   "metadata": {},
   "source": [
    "\\[\n",
    "w^{[1]} =\n",
    "\\begin{bmatrix}\n",
    "w_{00} & w_{01}\n",
    "\\end{bmatrix}\n",
    "\\]"
   ]
  },
  {
   "cell_type": "markdown",
   "id": "b979ad85",
   "metadata": {},
   "source": [
    "\\[\n",
    "b^{[1]} =\n",
    "\\begin{bmatrix}\n",
    "b_0\n",
    "\\end{bmatrix}\n",
    "\\]"
   ]
  },
  {
   "cell_type": "markdown",
   "id": "2319a783",
   "metadata": {},
   "source": [
    "\\[\n",
    "z^{[1]} = w^{[1]}a^{[0]} + b^{[1]}\n",
    "\\]"
   ]
  },
  {
   "cell_type": "markdown",
   "id": "9b166945",
   "metadata": {},
   "source": [
    "\\[\n",
    "a^{[1]} = g^{[1]}(z^{[1]})\n",
    "\\]"
   ]
  },
  {
   "cell_type": "markdown",
   "id": "a7fb65c1",
   "metadata": {},
   "source": [
    "We can write the full equation as follow"
   ]
  },
  {
   "cell_type": "markdown",
   "id": "f5375e7f",
   "metadata": {},
   "source": [
    "\\[\n",
    "a^{[1]} = g^{[1]}(w^{[1]}(g^{[0]}(w^{[0]}x + b^{[0]})) + b^{[1]})\n",
    "\\]"
   ]
  },
  {
   "cell_type": "markdown",
   "id": "daacf1bc",
   "metadata": {},
   "source": [
    "Let’s wrap up with a diagram of multi layer NN with activation functions"
   ]
  },
  {
   "cell_type": "code",
   "execution_count": null,
   "id": "b86da3ad",
   "metadata": {},
   "outputs": [],
   "source": [
    "from fastbook import *\n",
    "\n",
    "gv('''\n",
    "   x_0 -> z_0_0 \n",
    "   x_0 -> z_0_1 \n",
    "   x_1 -> z_0_0\n",
    "   x_1 -> z_0_1\n",
    "   z_0_0 -> a_0_0 -> z_1_0\n",
    "   z_0_1 -> a_0_1 -> z_1_0\n",
    "   z_1_0 -> a_1_0 -> output\n",
    "   ''')"
   ]
  },
  {
   "cell_type": "markdown",
   "id": "2994ba05",
   "metadata": {},
   "source": []
  },
  {
   "cell_type": "markdown",
   "id": "fc86d1ff",
   "metadata": {},
   "source": [
    "# Cost Function"
   ]
  },
  {
   "cell_type": "markdown",
   "id": "56c97e00",
   "metadata": {},
   "source": [
    "The cost function formula for multi layer NN is the same as the single layer NN:"
   ]
  },
  {
   "cell_type": "markdown",
   "id": "2f14e749",
   "metadata": {},
   "source": [
    "\\[\n",
    "J = \\frac{1}{m}\\sum_{i=1}^{m}L(\\hat{y}^{(i)}, y^{(i)})\n",
    "\\]"
   ]
  },
  {
   "cell_type": "markdown",
   "id": "444eebeb",
   "metadata": {},
   "source": [
    "or can also be simplified as"
   ]
  },
  {
   "cell_type": "markdown",
   "id": "dff1f8a6",
   "metadata": {},
   "source": [
    "\\[\n",
    "J = \\sum_{i=1}^{m}L(a^{[L](i)}, y^{(i)})\n",
    "\\]"
   ]
  }
 ],
 "metadata": {},
 "nbformat": 4,
 "nbformat_minor": 5
}
