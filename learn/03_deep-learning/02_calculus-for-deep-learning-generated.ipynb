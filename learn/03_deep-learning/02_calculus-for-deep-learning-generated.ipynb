{
 "cells": [
  {
   "cell_type": "markdown",
   "id": "05f7c9c2",
   "metadata": {},
   "source": [
    "source: [link](https://ai-bootcamp.ruangguru.com/learn/03_deep-learning/02_calculus-for-deep-learning.html)"
   ]
  },
  {
   "cell_type": "markdown",
   "id": "eb6a715e",
   "metadata": {},
   "source": [
    "# Calculus"
   ]
  },
  {
   "cell_type": "markdown",
   "id": "49cfd35e",
   "metadata": {},
   "source": [
    "Today we will learn about calculus, which is the study of change. Calculus is a branch of mathematics that is used to study continuous change. It has two main branches: differential calculus and integral calculus. Differential calculus is used to study the rate of change of a function, while integral calculus is used to study the accumulation of quantities, or the area under a curve."
   ]
  },
  {
   "cell_type": "markdown",
   "id": "2b7a0e28",
   "metadata": {},
   "source": [
    "# Derivatives"
   ]
  },
  {
   "cell_type": "markdown",
   "id": "f40d8e06",
   "metadata": {},
   "source": [
    "We all - probably know - that the derivative of"
   ]
  },
  {
   "cell_type": "markdown",
   "id": "1813f928",
   "metadata": {},
   "source": [
    "\n",
    "\\[\n",
    "f(x) = 2x^3 + 3x^2 + 2x + 5\n",
    "\\]\n"
   ]
  },
  {
   "cell_type": "markdown",
   "id": "f1c53c9a",
   "metadata": {},
   "source": [
    "is \n",
    "\\[\n",
    "f'(x) = 6x^2 + 6x + 2\n",
    "\\]\n"
   ]
  },
  {
   "cell_type": "markdown",
   "id": "dd929b6c",
   "metadata": {},
   "source": [
    "But what does that mean?"
   ]
  },
  {
   "cell_type": "markdown",
   "id": "e49b17fc",
   "metadata": {},
   "source": [
    "The derivative of a function $f(x)$ is actually defined as:"
   ]
  },
  {
   "cell_type": "markdown",
   "id": "9955f140",
   "metadata": {},
   "source": [
    "\n",
    "\\[\n",
    "\\frac{df(x)}{dx} = \\lim_{\\delta \\to 0} \\frac{f(x+\\delta) - f(x)}{\\delta}\n",
    "\\]\n"
   ]
  },
  {
   "cell_type": "markdown",
   "id": "0f8e981c",
   "metadata": {},
   "source": [
    "To understand what this means, let’s plot $f(x)$ and $f'(x)$."
   ]
  },
  {
   "cell_type": "code",
   "execution_count": null,
   "id": "bf031bdd",
   "metadata": {},
   "outputs": [],
   "source": [
    "# Plot 2x^3 - 3x^2 + 2x + 5\n",
    "\n",
    "import numpy as np\n",
    "import matplotlib.pyplot as plt\n",
    "\n",
    "x = np.linspace(-2, 3, 100)\n",
    "y = 2*x**3 - 3*x**2 + 2*x + 5\n",
    "\n",
    "plt.plot(x, y)\n",
    "plt.xlabel('x')\n",
    "plt.ylabel('y')\n",
    "\n",
    "# add legend\n",
    "plt.legend(['2x^3 - 3x^2 + 2x + 5'])\n",
    "plt.grid()\n",
    "\n",
    "plt.show()"
   ]
  },
  {
   "cell_type": "markdown",
   "id": "cf78a6f9",
   "metadata": {},
   "source": []
  },
  {
   "cell_type": "markdown",
   "id": "d06f0acc",
   "metadata": {},
   "source": [
    "Now, let’s plot a tangent line to $f(x)$ at $x=2$."
   ]
  },
  {
   "cell_type": "code",
   "execution_count": null,
   "id": "ca601340",
   "metadata": {},
   "outputs": [],
   "source": [
    "# Plot 2x^3 - 3x^2 + 2x + 5\n",
    "\n",
    "import numpy as np\n",
    "import matplotlib.pyplot as plt\n",
    "\n",
    "x = np.linspace(-2, 3, 100)\n",
    "y = 2*x**3 - 3*x**2 + 2*x + 5\n",
    "\n",
    "# Tangent line at x = 2\n",
    "x1 = 2\n",
    "y1 = 2*x1**3 - 3*x1**2 + 2*x1 + 5\n",
    "m = 6*x1**2 - 6*x1 + 2\n",
    "y2 = m*(x - x1) + y1\n",
    "\n",
    "# Plot the main function\n",
    "plt.plot(x, y)\n",
    "# Plot tangent line\n",
    "plt.plot(x, y2, 'r--')\n",
    "\n",
    "plt.legend(['2x^3 - 3x^2 + 2x + 5', 'Tangent line at x = 2'])\n",
    "\n",
    "plt.xlabel('x')\n",
    "plt.ylabel('y')\n",
    "plt.grid()\n",
    "plt.show()"
   ]
  },
  {
   "cell_type": "markdown",
   "id": "bde06cc5",
   "metadata": {},
   "source": []
  },
  {
   "cell_type": "markdown",
   "id": "9c3401c7",
   "metadata": {},
   "source": [
    "What is the slope of the tangent line at $x=2$?"
   ]
  },
  {
   "cell_type": "markdown",
   "id": "4492a2fb",
   "metadata": {},
   "source": [
    "That’s right, it’s $f'(2)$."
   ]
  },
  {
   "cell_type": "markdown",
   "id": "dacd01cc",
   "metadata": {},
   "source": [
    "But - without the knowledge of calculus - how would we calculate that slope?"
   ]
  },
  {
   "cell_type": "markdown",
   "id": "1bf4defc",
   "metadata": {},
   "source": [
    "Actually we can, we just need to zoom in and calculate the slope of the line that is “close enough” to the tangent line."
   ]
  },
  {
   "cell_type": "code",
   "execution_count": null,
   "id": "16766a06",
   "metadata": {},
   "outputs": [],
   "source": [
    "# Plot 2x^3 - 3x^2 + 2x + 5\n",
    "\n",
    "import numpy as np\n",
    "import matplotlib.pyplot as plt\n",
    "\n",
    "def f(x):\n",
    "    return 2*x**3 - 3*x**2 + 2*x + 5\n",
    "\n",
    "x = np.linspace(-2, 3, 100)\n",
    "y = f(x)\n",
    "\n",
    "# Plot the main function\n",
    "plt.plot(x, y)\n",
    "\n",
    "# Create a vertical line at x = 2 and x = 3\n",
    "plt.axvline(x=2, color='orange', linestyle='--')\n",
    "plt.axvline(x=3, color='g', linestyle='--')\n",
    "\n",
    "plt.legend(['2x^3 - 3x^2 + 2x + 5'])\n",
    "\n",
    "x1 = 2\n",
    "y1 = f(x1)\n",
    "# create a dot at (x1, y1) with label (2, y1)\n",
    "plt.plot(x1, y1, 'ro')\n",
    "plt.annotate('({},{})'.format(x1, y1), xy=(x1, y1), xytext=(x1, y1))\n",
    "\n",
    "x2 = 3\n",
    "y2 = f(x2)\n",
    "# create a dot at (x2, y2) with label (3, y2)\n",
    "plt.plot(x2, y2, 'ro')\n",
    "plt.annotate('({},{})'.format(x2, y2), xy=(x2, y2), xytext=(x2, y2))\n",
    "\n",
    "plt.xlabel('x')\n",
    "plt.ylabel('y')\n",
    "plt.grid()\n",
    "plt.show()"
   ]
  },
  {
   "cell_type": "markdown",
   "id": "ce4520d9",
   "metadata": {},
   "source": []
  },
  {
   "cell_type": "markdown",
   "id": "770bca0e",
   "metadata": {},
   "source": [
    "Then create a straight line from $x=2$ to $x=3$."
   ]
  },
  {
   "cell_type": "markdown",
   "id": "c981a435",
   "metadata": {},
   "source": [
    "The slope of that line is:"
   ]
  },
  {
   "cell_type": "markdown",
   "id": "71546de8",
   "metadata": {},
   "source": [
    "\n",
    "\\[\n",
    "m = \\frac{f(3) - f(2)}{3 - 2}\n",
    "  = \\frac{38-13}{3-2}\n",
    "  = 25\n",
    "\\]\n"
   ]
  },
  {
   "cell_type": "markdown",
   "id": "8a0d04a0",
   "metadata": {},
   "source": [
    "The y-intercept of that line is:"
   ]
  },
  {
   "cell_type": "markdown",
   "id": "9b776d95",
   "metadata": {},
   "source": [
    "\n",
    "\\[\n",
    "f(x) = mx + c\\\\\n",
    "c = f(x) - mx\n",
    "\\]\n"
   ]
  },
  {
   "cell_type": "markdown",
   "id": "550668cc",
   "metadata": {},
   "source": [
    "Substitute $x=2$ and $y=f(2)$: \n",
    "\\[\n",
    "c = f(2) - m \\cdot 2\n",
    "  = 13 - 25 \\cdot 2\n",
    "  = -37\n",
    "\\]\n"
   ]
  },
  {
   "cell_type": "markdown",
   "id": "bf4de4d4",
   "metadata": {},
   "source": [
    "So the equation of the line is: \n",
    "\\[\n",
    "y = 25x - 37\n",
    "\\]\n"
   ]
  },
  {
   "cell_type": "markdown",
   "id": "d76ac221",
   "metadata": {},
   "source": [
    "Let’s draw that line."
   ]
  },
  {
   "cell_type": "code",
   "execution_count": null,
   "id": "32cec223",
   "metadata": {},
   "outputs": [],
   "source": [
    "# Plot 2x^3 - 3x^2 + 2x + 5\n",
    "\n",
    "import numpy as np\n",
    "import matplotlib.pyplot as plt\n",
    "\n",
    "def f(x):\n",
    "    return 2*x**3 - 3*x**2 + 2*x + 5\n",
    "\n",
    "x = np.linspace(-2, 3, 100)\n",
    "y = f(x)\n",
    "\n",
    "# Plot the main function\n",
    "plt.plot(x, y, label='2x^3 - 3x^2 + 2x + 5')\n",
    "\n",
    "# Create a vertical line at x = 2 and x = 3\n",
    "plt.axvline(x=2, color='orange', linestyle='--')\n",
    "plt.axvline(x=3, color='g', linestyle='--')\n",
    "\n",
    "\n",
    "x1 = 2\n",
    "y1 = f(x1)\n",
    "# create a dot at (x1, y1) with label (2, y1)\n",
    "plt.plot(x1, y1, 'ro')\n",
    "plt.annotate('({},{})'.format(x1, y1), xy=(x1, y1), xytext=(x1, y1))\n",
    "\n",
    "x2 = 3\n",
    "y2 = f(x2)\n",
    "# create a dot at (x2, y2) with label (3, y2)\n",
    "plt.plot(x2, y2, 'ro')\n",
    "plt.annotate('({},{})'.format(x2, y2), xy=(x2, y2), xytext=(x2, y2))\n",
    "\n",
    "#  Draw y = 25x - 37\n",
    "x3 = np.linspace(0, 3, 100)\n",
    "y3 = 25*x3 - 37\n",
    "plt.plot(x3, y3, 'r--', label='y = 25x - 37')\n",
    "\n",
    "plt.legend()\n",
    "\n",
    "plt.xlabel('x')\n",
    "plt.ylabel('y')\n",
    "plt.grid()\n",
    "plt.show()"
   ]
  },
  {
   "cell_type": "markdown",
   "id": "70f13395",
   "metadata": {},
   "source": []
  },
  {
   "cell_type": "markdown",
   "id": "791697b2",
   "metadata": {},
   "source": [
    "Now we know that the slop is $37$, but that’s not the exact slope of the tangent line."
   ]
  },
  {
   "cell_type": "markdown",
   "id": "3765229a",
   "metadata": {},
   "source": [
    "Let’s draw both lines together"
   ]
  },
  {
   "cell_type": "code",
   "execution_count": null,
   "id": "3ff45416",
   "metadata": {},
   "outputs": [],
   "source": [
    "# Plot 2x^3 - 3x^2 + 2x + 5\n",
    "\n",
    "import numpy as np\n",
    "import matplotlib.pyplot as plt\n",
    "\n",
    "x = np.linspace(-2, 3, 100)\n",
    "y = 2*x**3 - 3*x**2 + 2*x + 5\n",
    "\n",
    "# Tangent line at x = 2\n",
    "x1 = 2\n",
    "y1 = 2*x1**3 - 3*x1**2 + 2*x1 + 5\n",
    "m = 6*x1**2 - 6*x1 + 2\n",
    "y2 = m*(x - x1) + y1\n",
    "\n",
    "# Plot the main function\n",
    "plt.plot(x, y, label=\"2x^3 - 3x^2 + 2x + 5\")\n",
    "# Plot tangent line\n",
    "plt.plot(x, y2, 'r--', label='Tangent line at x = 2')\n",
    "\n",
    "x1 = 2\n",
    "y1 = f(x1)\n",
    "# create a dot at (x1, y1) with label (2, y1)\n",
    "plt.plot(x1, y1, 'ro')\n",
    "plt.annotate('({},{})'.format(x1, y1), xy=(x1, y1), xytext=(x1, y1))\n",
    "\n",
    "x2 = 3\n",
    "y2 = f(x2)\n",
    "# create a dot at (x2, y2) with label (3, y2)\n",
    "plt.plot(x2, y2, 'ro')\n",
    "plt.annotate('({},{})'.format(x2, y2), xy=(x2, y2), xytext=(x2, y2))\n",
    "\n",
    "#  Draw y = 25x - 37\n",
    "x3 = np.linspace(0, 3, 100)\n",
    "y3 = 25*x3 - 37\n",
    "plt.plot(x3, y3, 'g--', label='y = 25x - 37')\n",
    "\n",
    "plt.legend()\n",
    "plt.xlabel('x')\n",
    "plt.ylabel('y')\n",
    "plt.grid()\n",
    "plt.show()"
   ]
  },
  {
   "cell_type": "markdown",
   "id": "13a04da4",
   "metadata": {},
   "source": []
  },
  {
   "cell_type": "markdown",
   "id": "24e1a927",
   "metadata": {},
   "source": [
    "Hmm, not quite right. Perhaps, let’s try drawing line at x = 2$ and $x = 2.5$?"
   ]
  },
  {
   "cell_type": "code",
   "execution_count": null,
   "id": "bc2693df",
   "metadata": {},
   "outputs": [],
   "source": [
    "# Plot 2x^3 - 3x^2 + 2x + 5\n",
    "\n",
    "import numpy as np\n",
    "import matplotlib.pyplot as plt\n",
    "\n",
    "x = np.linspace(-2, 3, 100)\n",
    "y = 2*x**3 - 3*x**2 + 2*x + 5\n",
    "\n",
    "# Tangent line at x = 2\n",
    "x1 = 2\n",
    "y1 = 2*x1**3 - 3*x1**2 + 2*x1 + 5\n",
    "m = 6*x1**2 - 6*x1 + 2\n",
    "y2 = m*(x - x1) + y1\n",
    "\n",
    "# Plot the main function\n",
    "plt.plot(x, y, label=\"2x^3 - 3x^2 + 2x + 5\")\n",
    "# Plot tangent line\n",
    "plt.plot(x, y2, 'r--', label='Tangent line at x = 2')\n",
    "\n",
    "x1 = 2\n",
    "y1 = f(x1)\n",
    "# create a dot at (x1, y1) with label (2, y1)\n",
    "plt.plot(x1, y1, 'ro')\n",
    "plt.annotate('({},{})'.format(x1, y1), xy=(x1, y1), xytext=(x1, y1))\n",
    "\n",
    "x2 = 2.5\n",
    "y2 = f(x2)\n",
    "# create a dot at (x2, y2) with label (3, y2)\n",
    "plt.plot(x2, y2, 'ro')\n",
    "plt.annotate('({},{})'.format(x2, y2), xy=(x2, y2), xytext=(x2, y2))\n",
    "\n",
    "m = (y2 - y1) / (x2 - x1)\n",
    "c = y2 - m*x2\n",
    "y3 = m*x + c\n",
    "plt.plot(x, y3, 'g--', label='y = {}x + {}'.format(m, c))\n",
    "\n",
    "plt.legend()\n",
    "plt.xlabel('x')\n",
    "plt.ylabel('y')\n",
    "plt.grid()\n",
    "plt.show()"
   ]
  },
  {
   "cell_type": "markdown",
   "id": "5f10f380",
   "metadata": {},
   "source": []
  },
  {
   "cell_type": "markdown",
   "id": "6f1ca5a0",
   "metadata": {},
   "source": [
    "It’s getting closer to the tangent line. Let’s zoom in the graph"
   ]
  },
  {
   "cell_type": "code",
   "execution_count": null,
   "id": "66c7b245",
   "metadata": {},
   "outputs": [],
   "source": [
    "# Plot 2x^3 - 3x^2 + 2x + 5\n",
    "\n",
    "import numpy as np\n",
    "import matplotlib.pyplot as plt\n",
    "\n",
    "x = np.linspace(1.5, 3, 100)\n",
    "y = 2*x**3 - 3*x**2 + 2*x + 5\n",
    "\n",
    "# Tangent line at x = 2\n",
    "x1 = 2\n",
    "y1 = 2*x1**3 - 3*x1**2 + 2*x1 + 5\n",
    "m = 6*x1**2 - 6*x1 + 2\n",
    "y2 = m*(x - x1) + y1\n",
    "\n",
    "# Plot the main function\n",
    "plt.plot(x, y, label=\"2x^3 - 3x^2 + 2x + 5\")\n",
    "# Plot tangent line\n",
    "plt.plot(x, y2, 'r--', label='Tangent line at x = 2')\n",
    "\n",
    "x1 = 2\n",
    "y1 = f(x1)\n",
    "# create a dot at (x1, y1) with label (2, y1)\n",
    "plt.plot(x1, y1, 'ro')\n",
    "plt.annotate('({},{})'.format(x1, y1), xy=(x1, y1), xytext=(x1, y1))\n",
    "\n",
    "x2 = 2.5\n",
    "y2 = f(x2)\n",
    "# create a dot at (x2, y2) with label (3, y2)\n",
    "plt.plot(x2, y2, 'ro')\n",
    "plt.annotate('({},{})'.format(x2, y2), xy=(x2, y2), xytext=(x2, y2))\n",
    "\n",
    "m = (y2 - y1) / (x2 - x1)\n",
    "c = y2 - m*x2\n",
    "y3 = m*x + c\n",
    "plt.plot(x, y3, 'g--', label='y = {}x + {}'.format(m, c))\n",
    "\n",
    "plt.legend()\n",
    "plt.xlabel('x')\n",
    "plt.ylabel('y')\n",
    "plt.grid()\n",
    "plt.show()"
   ]
  },
  {
   "cell_type": "markdown",
   "id": "661ac936",
   "metadata": {},
   "source": []
  },
  {
   "cell_type": "markdown",
   "id": "96b5e78a",
   "metadata": {},
   "source": [
    "The idea is, if we can get $x_2$ closer to $x_1$, we can get the slope of the line closer to the tangent line."
   ]
  },
  {
   "cell_type": "markdown",
   "id": "9d973ce9",
   "metadata": {},
   "source": [
    "Let’s try to generalize"
   ]
  },
  {
   "cell_type": "code",
   "execution_count": null,
   "id": "b67b6957",
   "metadata": {},
   "outputs": [],
   "source": [
    "# Plot 2x^3 - 3x^2 + 2x + 5\n",
    "\n",
    "import numpy as np\n",
    "import matplotlib.pyplot as plt\n",
    "\n",
    "x = np.linspace(1.5, 3, 100)\n",
    "y = 2*x**3 - 3*x**2 + 2*x + 5\n",
    "\n",
    "# Plot the main function\n",
    "plt.plot(x, y, label=\"2x^3 - 3x^2 + 2x + 5\")\n",
    "\n",
    "x1 = 2\n",
    "y1 = f(x1)\n",
    "# create a dot at (x1, y1) with label (2, y1)\n",
    "plt.plot(x1, y1, 'ro')\n",
    "plt.annotate('(x1, y1)', xy=(x1, y1), xytext=(x1, y1))\n",
    "\n",
    "x2 = 2.5\n",
    "y2 = f(x2)\n",
    "# create a dot at (x2, y2) with label (3, y2)\n",
    "plt.plot(x2, y2, 'ro')\n",
    "plt.annotate('(x2, y2)', xy=(x2, y2), xytext=(x2, y2))\n",
    "\n",
    "m = (y2 - y1) / (x2 - x1)\n",
    "c = y2 - m*x2\n",
    "y3 = m*x + c\n",
    "plt.plot(x, y3, 'g--', label='y = mx + c')\n",
    "\n",
    "plt.legend()\n",
    "plt.xlabel('x')\n",
    "plt.ylabel('y')\n",
    "plt.grid()\n",
    "plt.show()"
   ]
  },
  {
   "cell_type": "markdown",
   "id": "fba935ba",
   "metadata": {},
   "source": []
  },
  {
   "cell_type": "markdown",
   "id": "8e1e5739",
   "metadata": {},
   "source": [
    "To find the slope, we need to find the change in $y$ divided by the change in $x$."
   ]
  },
  {
   "cell_type": "code",
   "execution_count": null,
   "id": "701c34c9",
   "metadata": {},
   "outputs": [],
   "source": [
    "# Plot 2x^3 - 3x^2 + 2x + 5\n",
    "\n",
    "import numpy as np\n",
    "import matplotlib.pyplot as plt\n",
    "\n",
    "x = np.linspace(1.5, 3, 100)\n",
    "y = 2*x**3 - 3*x**2 + 2*x + 5\n",
    "\n",
    "# Plot the main function\n",
    "plt.plot(x, y, label=\"2x^3 - 3x^2 + 2x + 5\")\n",
    "\n",
    "x1 = 2\n",
    "y1 = f(x1)\n",
    "# create a dot at (x1, y1) with label (2, y1)\n",
    "plt.plot(x1, y1, 'ro')\n",
    "plt.annotate('(x1, y1)', xy=(x1, y1), xytext=(x1, y1))\n",
    "\n",
    "x2 = 2.5\n",
    "y2 = f(x2)\n",
    "# create a dot at (x2, y2) with label (3, y2)\n",
    "plt.plot(x2, y2, 'ro')\n",
    "plt.annotate('(x2, y2)', xy=(x2, y2), xytext=(x2, y2))\n",
    "\n",
    "m = (y2 - y1) / (x2 - x1)\n",
    "c = y2 - m*x2\n",
    "y3 = m*x + c\n",
    "plt.plot(x, y3, 'g--', label='y = mx + c')\n",
    "\n",
    "x4 = np.linspace(x1, x2, 100)\n",
    "y4 = np.linspace(y1, y1, 100)\n",
    "plt.plot(x4, y4, 'b--')\n",
    "# add text near that plot\n",
    "plt.text(2.2, 11, 'δx', fontsize=12)\n",
    "\n",
    "x5 = np.linspace(x2, x2, 100)\n",
    "y5 = np.linspace(y1, y2, 100)\n",
    "plt.plot(x5, y5, 'b--')\n",
    "# add text near that plot\n",
    "plt.text(2.55, 17, 'δy', fontsize=12)\n",
    "\n",
    "plt.legend()\n",
    "plt.xlabel('x')\n",
    "plt.ylabel('y')\n",
    "plt.grid()\n",
    "plt.show()"
   ]
  },
  {
   "cell_type": "markdown",
   "id": "12048613",
   "metadata": {},
   "source": []
  },
  {
   "cell_type": "markdown",
   "id": "ea34ea0e",
   "metadata": {},
   "source": [
    "The slope $m$ is:"
   ]
  },
  {
   "cell_type": "markdown",
   "id": "f595d81f",
   "metadata": {},
   "source": [
    "\n",
    "\\[\n",
    "m = \\frac{f(x_2) - f(x_1)}{x_2 - x_1}\n",
    "\\]\n"
   ]
  },
  {
   "cell_type": "markdown",
   "id": "0608980c",
   "metadata": {},
   "source": [
    "\n",
    "\\[\n",
    "m = \\frac{f(x_1 + \\delta x) - f(x_1)}{\\delta x}\n",
    "\\]\n"
   ]
  },
  {
   "cell_type": "markdown",
   "id": "0523c894",
   "metadata": {},
   "source": [
    "Since $m$ is $\\frac{\\delta y}{\\delta x}$"
   ]
  },
  {
   "cell_type": "markdown",
   "id": "da25ee16",
   "metadata": {},
   "source": [
    "\n",
    "\\[\n",
    "\\frac{\\delta y}{\\delta x} = \\frac{f(x_1 + \\delta x) - f(x_1)}{\\delta x}\n",
    "\\]\n"
   ]
  },
  {
   "cell_type": "markdown",
   "id": "6f54a633",
   "metadata": {},
   "source": [
    "If we let $\\delta x$ approach $0$, we get the tangent line:"
   ]
  },
  {
   "cell_type": "markdown",
   "id": "631e42b8",
   "metadata": {},
   "source": [
    "\n",
    "\\[\n",
    "\\frac{df(x)}{dx} = \\lim_{\\delta x \\to 0} \\frac{f(x_1 + \\delta x) - f(x_1)}{\\delta x}\n",
    "\\]\n"
   ]
  },
  {
   "cell_type": "markdown",
   "id": "e15cc21b",
   "metadata": {},
   "source": [
    "Interestingly, we can derive many different derivative formula using this method."
   ]
  },
  {
   "cell_type": "markdown",
   "id": "4bb40523",
   "metadata": {},
   "source": [
    "For example, the derivative of $f(x) = x^2$ is:"
   ]
  },
  {
   "cell_type": "markdown",
   "id": "e9eaf85a",
   "metadata": {},
   "source": [
    "\n",
    "\\[\n",
    "\\frac{df(x)}{dx} = \\lim_{\\delta x \\to 0} \\frac{(x + \\delta x)^2 - x^2}{\\delta x}\n",
    "= \\lim_{\\delta x \\to 0} \\frac{x^2 + 2x\\delta x + \\delta x^2 - x^2}{\\delta x}\n",
    "= \\lim_{\\delta x \\to 0} \\frac{2x\\delta x + \\delta x^2}{\\delta x}\n",
    "= \\lim_{\\delta x \\to 0} 2x + \\delta x\n",
    "\\]\n"
   ]
  },
  {
   "cell_type": "markdown",
   "id": "7a85406f",
   "metadata": {},
   "source": [
    "Since $\\delta x$ approaches $0$, we can ignore it:"
   ]
  },
  {
   "cell_type": "markdown",
   "id": "8cba3290",
   "metadata": {},
   "source": [
    "\n",
    "\\[\n",
    "\\frac{df(x)}{dx} = 2x\n",
    "\\]\n"
   ]
  },
  {
   "cell_type": "markdown",
   "id": "9144ca59",
   "metadata": {},
   "source": [
    "One more example, the derivative of $f(x) = x^3$ is:"
   ]
  },
  {
   "cell_type": "markdown",
   "id": "3c209bac",
   "metadata": {},
   "source": [
    "\n",
    "\\[\n",
    "\\frac{df(x)}{dx} = \\lim_{\\delta x \\to 0} \\frac{(x + \\delta x)^3 - x^3}{\\delta x}\n",
    "= \\lim_{\\delta x \\to 0} \\frac{x^3 + 3x^2\\delta x + 3x\\delta x^2 + \\delta x^3 - x^3}{\\delta x}\n",
    "= \\lim_{\\delta x \\to 0} \\frac{3x^2\\delta x + 3x\\delta x^2 + \\delta x^3}{\\delta x}\n",
    "= \\lim_{\\delta x \\to 0} 3x^2 + 3x\\delta x + \\delta x^2\n",
    "\\]\n"
   ]
  },
  {
   "cell_type": "markdown",
   "id": "a0668989",
   "metadata": {},
   "source": [
    "Since $\\delta x$ approaches $0$, we can ignore it:"
   ]
  },
  {
   "cell_type": "markdown",
   "id": "44595e1c",
   "metadata": {},
   "source": [
    "\n",
    "\\[\n",
    "\\frac{df(x)}{dx} = 3x^2\n",
    "\\]\n"
   ]
  },
  {
   "cell_type": "markdown",
   "id": "4c745260",
   "metadata": {},
   "source": [
    "# Derivative rules"
   ]
  },
  {
   "cell_type": "markdown",
   "id": "a3b6f46c",
   "metadata": {},
   "source": [
    "Here we only list down the rules, but actually the concepts are simple."
   ]
  },
  {
   "cell_type": "markdown",
   "id": "3a35dba1",
   "metadata": {},
   "source": [
    "Please watch the following videos:"
   ]
  },
  {
   "cell_type": "markdown",
   "id": "4030feb6",
   "metadata": {},
   "source": [
    "Visualizing the chain rule and product rule | Chapter 4, Essence of calculus"
   ]
  },
  {
   "cell_type": "markdown",
   "id": "3699eb00",
   "metadata": {},
   "source": [
    "# Addition rule"
   ]
  },
  {
   "cell_type": "markdown",
   "id": "52100491",
   "metadata": {},
   "source": [
    "\n",
    "\\[\n",
    "\\frac{d}{dx} (f(x) + g(x)) = \\frac{df(x)}{dx} + \\frac{dg(x)}{dx}\n",
    "\\]\n"
   ]
  },
  {
   "cell_type": "markdown",
   "id": "9588537e",
   "metadata": {},
   "source": [
    "Example:"
   ]
  },
  {
   "cell_type": "markdown",
   "id": "d62a165f",
   "metadata": {},
   "source": [
    "\n",
    "\\[\n",
    "\\frac{d}{dx} (x^2 + 2x) = \\frac{d}{dx} (x^2) + \\frac{d}{dx} (2x) = 2x + 2\n",
    "\\]\n"
   ]
  },
  {
   "cell_type": "markdown",
   "id": "8fed6bc2",
   "metadata": {},
   "source": [
    "# Multiplication rule"
   ]
  },
  {
   "cell_type": "markdown",
   "id": "4a4413bf",
   "metadata": {},
   "source": [
    "\n",
    "\\[\n",
    "\\frac{d}{dx} (f(x) \\cdot g(x)) = f(x) \\cdot \\frac{dg(x)}{dx} + g(x) \\cdot \\frac{df(x)}{dx}\n",
    "\\]\n"
   ]
  },
  {
   "cell_type": "markdown",
   "id": "d1ecdf62",
   "metadata": {},
   "source": [
    "Example:"
   ]
  },
  {
   "cell_type": "markdown",
   "id": "50a6a64d",
   "metadata": {},
   "source": [
    "\n",
    "\\[\n",
    "\\frac{d}{dx} (x^2 \\cdot 2x) = x^2 \\cdot \\frac{d}{dx} (2x) + 2x \\cdot \\frac{d}{dx} (x^2) = x^2 \\cdot 2 + 2x \\cdot 2x = 6x^2\n",
    "\\]\n"
   ]
  },
  {
   "cell_type": "markdown",
   "id": "f618aa12",
   "metadata": {},
   "source": [
    "# Power rule"
   ]
  },
  {
   "cell_type": "markdown",
   "id": "9c6484a7",
   "metadata": {},
   "source": [
    "\n",
    "\\[\n",
    "\\frac{d}{dx} (x^n) = n \\cdot x^{n-1}\n",
    "\\]\n"
   ]
  },
  {
   "cell_type": "markdown",
   "id": "e1b04b67",
   "metadata": {},
   "source": [
    "Example:"
   ]
  },
  {
   "cell_type": "markdown",
   "id": "024574df",
   "metadata": {},
   "source": [
    "\n",
    "\\[\n",
    "\\frac{d}{dx} (x^3) = 3x^2\n",
    "\\]\n"
   ]
  },
  {
   "cell_type": "markdown",
   "id": "11bc548e",
   "metadata": {},
   "source": [
    "# Chain rule"
   ]
  },
  {
   "cell_type": "markdown",
   "id": "28f0561d",
   "metadata": {},
   "source": [
    "\n",
    "\\[\n",
    "\\frac{d}{dx} f(g(x)) = \\frac{df(g(x))}{dg(x)} \\cdot \\frac{dg(x)}{dx}\n",
    "\\]\n"
   ]
  },
  {
   "cell_type": "markdown",
   "id": "333ac49d",
   "metadata": {},
   "source": [
    "Or it can also be written as:"
   ]
  },
  {
   "cell_type": "markdown",
   "id": "3fa204d8",
   "metadata": {},
   "source": [
    "Let’s denote $u = g(x)$:"
   ]
  },
  {
   "cell_type": "markdown",
   "id": "8d513e45",
   "metadata": {},
   "source": [
    "\n",
    "\\[\n",
    "\\frac{d}{dx} f(u) = \\frac{df(u)}{du} \\cdot \\frac{du}{dx}\n",
    "\\]\n"
   ]
  },
  {
   "cell_type": "markdown",
   "id": "76426476",
   "metadata": {},
   "source": [
    "Please remember this rule, it will be used a lot in deep learning."
   ]
  }
 ],
 "metadata": {},
 "nbformat": 4,
 "nbformat_minor": 5
}
