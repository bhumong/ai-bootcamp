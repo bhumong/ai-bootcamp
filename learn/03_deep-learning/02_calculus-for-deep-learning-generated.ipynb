{
 "cells": [
  {
   "cell_type": "markdown",
   "id": "adceac3d",
   "metadata": {},
   "source": [
    "# Calculus"
   ]
  },
  {
   "cell_type": "markdown",
   "id": "7bd6b7de",
   "metadata": {},
   "source": [
    "Today we will learn about calculus, which is the study of change. Calculus is a branch of mathematics that is used to study continuous change. It has two main branches: differential calculus and integral calculus. Differential calculus is used to study the rate of change of a function, while integral calculus is used to study the accumulation of quantities, or the area under a curve."
   ]
  },
  {
   "cell_type": "markdown",
   "id": "a52c2b4b",
   "metadata": {},
   "source": [
    "# Derivatives"
   ]
  },
  {
   "cell_type": "markdown",
   "id": "62d2aa91",
   "metadata": {},
   "source": [
    "We all - probably know - that the derivative of"
   ]
  },
  {
   "cell_type": "markdown",
   "id": "a1637e41",
   "metadata": {},
   "source": [
    "\\[\n",
    "f(x) = 2x^3 + 3x^2 + 2x + 5\n",
    "\\]"
   ]
  },
  {
   "cell_type": "markdown",
   "id": "ee73c123",
   "metadata": {},
   "source": [
    "is \\[\n",
    "f'(x) = 6x^2 + 6x + 2\n",
    "\\]"
   ]
  },
  {
   "cell_type": "markdown",
   "id": "6f7c5ca0",
   "metadata": {},
   "source": [
    "But what does that mean?"
   ]
  },
  {
   "cell_type": "markdown",
   "id": "b4c07c96",
   "metadata": {},
   "source": [
    "The derivative of a function \\(f(x)\\) is actually defined as:"
   ]
  },
  {
   "cell_type": "markdown",
   "id": "b65d2d2f",
   "metadata": {},
   "source": [
    "\\[\n",
    "\\frac{df(x)}{dx} = \\lim_{\\delta \\to 0} \\frac{f(x+\\delta) - f(x)}{\\delta}\n",
    "\\]"
   ]
  },
  {
   "cell_type": "markdown",
   "id": "5c5c2ce7",
   "metadata": {},
   "source": [
    "To understand what this means, let’s plot \\(f(x)\\) and \\(f'(x)\\)."
   ]
  },
  {
   "cell_type": "code",
   "execution_count": null,
   "id": "2c058611",
   "metadata": {},
   "outputs": [],
   "source": [
    "# Plot 2x^3 - 3x^2 + 2x + 5\n",
    "\n",
    "import numpy as np\n",
    "import matplotlib.pyplot as plt\n",
    "\n",
    "x = np.linspace(-2, 3, 100)\n",
    "y = 2*x**3 - 3*x**2 + 2*x + 5\n",
    "\n",
    "plt.plot(x, y)\n",
    "plt.xlabel('x')\n",
    "plt.ylabel('y')\n",
    "\n",
    "# add legend\n",
    "plt.legend(['2x^3 - 3x^2 + 2x + 5'])\n",
    "plt.grid()\n",
    "\n",
    "plt.show()"
   ]
  },
  {
   "cell_type": "markdown",
   "id": "68c8c792",
   "metadata": {},
   "source": []
  },
  {
   "cell_type": "markdown",
   "id": "74ba7dac",
   "metadata": {},
   "source": [
    "Now, let’s plot a tangent line to \\(f(x)\\) at \\(x=2\\)."
   ]
  },
  {
   "cell_type": "code",
   "execution_count": null,
   "id": "3731350b",
   "metadata": {},
   "outputs": [],
   "source": [
    "# Plot 2x^3 - 3x^2 + 2x + 5\n",
    "\n",
    "import numpy as np\n",
    "import matplotlib.pyplot as plt\n",
    "\n",
    "x = np.linspace(-2, 3, 100)\n",
    "y = 2*x**3 - 3*x**2 + 2*x + 5\n",
    "\n",
    "# Tangent line at x = 2\n",
    "x1 = 2\n",
    "y1 = 2*x1**3 - 3*x1**2 + 2*x1 + 5\n",
    "m = 6*x1**2 - 6*x1 + 2\n",
    "y2 = m*(x - x1) + y1\n",
    "\n",
    "# Plot the main function\n",
    "plt.plot(x, y)\n",
    "# Plot tangent line\n",
    "plt.plot(x, y2, 'r--')\n",
    "\n",
    "plt.legend(['2x^3 - 3x^2 + 2x + 5', 'Tangent line at x = 2'])\n",
    "\n",
    "plt.xlabel('x')\n",
    "plt.ylabel('y')\n",
    "plt.grid()\n",
    "plt.show()"
   ]
  },
  {
   "cell_type": "markdown",
   "id": "f37ca01a",
   "metadata": {},
   "source": []
  },
  {
   "cell_type": "markdown",
   "id": "9d869d37",
   "metadata": {},
   "source": [
    "What is the slope of the tangent line at \\(x=2\\)?"
   ]
  },
  {
   "cell_type": "markdown",
   "id": "861e67d1",
   "metadata": {},
   "source": [
    "That’s right, it’s \\(f'(2)\\)."
   ]
  },
  {
   "cell_type": "markdown",
   "id": "8e6251c5",
   "metadata": {},
   "source": [
    "But - without the knowledge of calculus - how would we calculate that slope?"
   ]
  },
  {
   "cell_type": "markdown",
   "id": "c0303553",
   "metadata": {},
   "source": [
    "Actually we can, we just need to zoom in and calculate the slope of the line that is “close enough” to the tangent line."
   ]
  },
  {
   "cell_type": "code",
   "execution_count": null,
   "id": "c1be34b3",
   "metadata": {},
   "outputs": [],
   "source": [
    "# Plot 2x^3 - 3x^2 + 2x + 5\n",
    "\n",
    "import numpy as np\n",
    "import matplotlib.pyplot as plt\n",
    "\n",
    "def f(x):\n",
    "    return 2*x**3 - 3*x**2 + 2*x + 5\n",
    "\n",
    "x = np.linspace(-2, 3, 100)\n",
    "y = f(x)\n",
    "\n",
    "# Plot the main function\n",
    "plt.plot(x, y)\n",
    "\n",
    "# Create a vertical line at x = 2 and x = 3\n",
    "plt.axvline(x=2, color='orange', linestyle='--')\n",
    "plt.axvline(x=3, color='g', linestyle='--')\n",
    "\n",
    "plt.legend(['2x^3 - 3x^2 + 2x + 5'])\n",
    "\n",
    "x1 = 2\n",
    "y1 = f(x1)\n",
    "# create a dot at (x1, y1) with label (2, y1)\n",
    "plt.plot(x1, y1, 'ro')\n",
    "plt.annotate('({},{})'.format(x1, y1), xy=(x1, y1), xytext=(x1, y1))\n",
    "\n",
    "x2 = 3\n",
    "y2 = f(x2)\n",
    "# create a dot at (x2, y2) with label (3, y2)\n",
    "plt.plot(x2, y2, 'ro')\n",
    "plt.annotate('({},{})'.format(x2, y2), xy=(x2, y2), xytext=(x2, y2))\n",
    "\n",
    "plt.xlabel('x')\n",
    "plt.ylabel('y')\n",
    "plt.grid()\n",
    "plt.show()"
   ]
  },
  {
   "cell_type": "markdown",
   "id": "abf1b594",
   "metadata": {},
   "source": []
  },
  {
   "cell_type": "markdown",
   "id": "a3e19d94",
   "metadata": {},
   "source": [
    "Then create a straight line from \\(x=2\\) to \\(x=3\\)."
   ]
  },
  {
   "cell_type": "markdown",
   "id": "f8310676",
   "metadata": {},
   "source": [
    "The slope of that line is:"
   ]
  },
  {
   "cell_type": "markdown",
   "id": "edc63dc4",
   "metadata": {},
   "source": [
    "\\[\n",
    "m = \\frac{f(3) - f(2)}{3 - 2}\n",
    "  = \\frac{38-13}{3-2}\n",
    "  = 25\n",
    "\\]"
   ]
  },
  {
   "cell_type": "markdown",
   "id": "fc043598",
   "metadata": {},
   "source": [
    "The y-intercept of that line is:"
   ]
  },
  {
   "cell_type": "markdown",
   "id": "dcdb7abc",
   "metadata": {},
   "source": [
    "\\[\n",
    "f(x) = mx + c\\\\\n",
    "c = f(x) - mx\n",
    "\\]"
   ]
  },
  {
   "cell_type": "markdown",
   "id": "88b4b62e",
   "metadata": {},
   "source": [
    "Substitute \\(x=2\\) and \\(y=f(2)\\): \\[\n",
    "c = f(2) - m \\cdot 2\n",
    "  = 13 - 25 \\cdot 2\n",
    "  = -37\n",
    "\\]"
   ]
  },
  {
   "cell_type": "markdown",
   "id": "0ac5bea4",
   "metadata": {},
   "source": [
    "So the equation of the line is: \\[\n",
    "y = 25x - 37\n",
    "\\]"
   ]
  },
  {
   "cell_type": "markdown",
   "id": "6fff0fee",
   "metadata": {},
   "source": [
    "Let’s draw that line."
   ]
  },
  {
   "cell_type": "code",
   "execution_count": null,
   "id": "9230cd8e",
   "metadata": {},
   "outputs": [],
   "source": [
    "# Plot 2x^3 - 3x^2 + 2x + 5\n",
    "\n",
    "import numpy as np\n",
    "import matplotlib.pyplot as plt\n",
    "\n",
    "def f(x):\n",
    "    return 2*x**3 - 3*x**2 + 2*x + 5\n",
    "\n",
    "x = np.linspace(-2, 3, 100)\n",
    "y = f(x)\n",
    "\n",
    "# Plot the main function\n",
    "plt.plot(x, y, label='2x^3 - 3x^2 + 2x + 5')\n",
    "\n",
    "# Create a vertical line at x = 2 and x = 3\n",
    "plt.axvline(x=2, color='orange', linestyle='--')\n",
    "plt.axvline(x=3, color='g', linestyle='--')\n",
    "\n",
    "\n",
    "x1 = 2\n",
    "y1 = f(x1)\n",
    "# create a dot at (x1, y1) with label (2, y1)\n",
    "plt.plot(x1, y1, 'ro')\n",
    "plt.annotate('({},{})'.format(x1, y1), xy=(x1, y1), xytext=(x1, y1))\n",
    "\n",
    "x2 = 3\n",
    "y2 = f(x2)\n",
    "# create a dot at (x2, y2) with label (3, y2)\n",
    "plt.plot(x2, y2, 'ro')\n",
    "plt.annotate('({},{})'.format(x2, y2), xy=(x2, y2), xytext=(x2, y2))\n",
    "\n",
    "#  Draw y = 25x - 37\n",
    "x3 = np.linspace(0, 3, 100)\n",
    "y3 = 25*x3 - 37\n",
    "plt.plot(x3, y3, 'r--', label='y = 25x - 37')\n",
    "\n",
    "plt.legend()\n",
    "\n",
    "plt.xlabel('x')\n",
    "plt.ylabel('y')\n",
    "plt.grid()\n",
    "plt.show()"
   ]
  },
  {
   "cell_type": "markdown",
   "id": "1bdbe139",
   "metadata": {},
   "source": []
  },
  {
   "cell_type": "markdown",
   "id": "5f39eacf",
   "metadata": {},
   "source": [
    "Now we know that the slop is \\(37\\), but that’s not the exact slope of the tangent line."
   ]
  },
  {
   "cell_type": "markdown",
   "id": "f03c7f0a",
   "metadata": {},
   "source": [
    "Let’s draw both lines together"
   ]
  },
  {
   "cell_type": "code",
   "execution_count": null,
   "id": "ff1e2d03",
   "metadata": {},
   "outputs": [],
   "source": [
    "# Plot 2x^3 - 3x^2 + 2x + 5\n",
    "\n",
    "import numpy as np\n",
    "import matplotlib.pyplot as plt\n",
    "\n",
    "x = np.linspace(-2, 3, 100)\n",
    "y = 2*x**3 - 3*x**2 + 2*x + 5\n",
    "\n",
    "# Tangent line at x = 2\n",
    "x1 = 2\n",
    "y1 = 2*x1**3 - 3*x1**2 + 2*x1 + 5\n",
    "m = 6*x1**2 - 6*x1 + 2\n",
    "y2 = m*(x - x1) + y1\n",
    "\n",
    "# Plot the main function\n",
    "plt.plot(x, y, label=\"2x^3 - 3x^2 + 2x + 5\")\n",
    "# Plot tangent line\n",
    "plt.plot(x, y2, 'r--', label='Tangent line at x = 2')\n",
    "\n",
    "x1 = 2\n",
    "y1 = f(x1)\n",
    "# create a dot at (x1, y1) with label (2, y1)\n",
    "plt.plot(x1, y1, 'ro')\n",
    "plt.annotate('({},{})'.format(x1, y1), xy=(x1, y1), xytext=(x1, y1))\n",
    "\n",
    "x2 = 3\n",
    "y2 = f(x2)\n",
    "# create a dot at (x2, y2) with label (3, y2)\n",
    "plt.plot(x2, y2, 'ro')\n",
    "plt.annotate('({},{})'.format(x2, y2), xy=(x2, y2), xytext=(x2, y2))\n",
    "\n",
    "#  Draw y = 25x - 37\n",
    "x3 = np.linspace(0, 3, 100)\n",
    "y3 = 25*x3 - 37\n",
    "plt.plot(x3, y3, 'g--', label='y = 25x - 37')\n",
    "\n",
    "plt.legend()\n",
    "plt.xlabel('x')\n",
    "plt.ylabel('y')\n",
    "plt.grid()\n",
    "plt.show()"
   ]
  },
  {
   "cell_type": "markdown",
   "id": "a1b0404d",
   "metadata": {},
   "source": []
  },
  {
   "cell_type": "markdown",
   "id": "78897737",
   "metadata": {},
   "source": [
    "Hmm, not quite right. Perhaps, let’s try drawing line at x = 2$ and \\(x = 2.5\\)?"
   ]
  },
  {
   "cell_type": "code",
   "execution_count": null,
   "id": "5faafa56",
   "metadata": {},
   "outputs": [],
   "source": [
    "# Plot 2x^3 - 3x^2 + 2x + 5\n",
    "\n",
    "import numpy as np\n",
    "import matplotlib.pyplot as plt\n",
    "\n",
    "x = np.linspace(-2, 3, 100)\n",
    "y = 2*x**3 - 3*x**2 + 2*x + 5\n",
    "\n",
    "# Tangent line at x = 2\n",
    "x1 = 2\n",
    "y1 = 2*x1**3 - 3*x1**2 + 2*x1 + 5\n",
    "m = 6*x1**2 - 6*x1 + 2\n",
    "y2 = m*(x - x1) + y1\n",
    "\n",
    "# Plot the main function\n",
    "plt.plot(x, y, label=\"2x^3 - 3x^2 + 2x + 5\")\n",
    "# Plot tangent line\n",
    "plt.plot(x, y2, 'r--', label='Tangent line at x = 2')\n",
    "\n",
    "x1 = 2\n",
    "y1 = f(x1)\n",
    "# create a dot at (x1, y1) with label (2, y1)\n",
    "plt.plot(x1, y1, 'ro')\n",
    "plt.annotate('({},{})'.format(x1, y1), xy=(x1, y1), xytext=(x1, y1))\n",
    "\n",
    "x2 = 2.5\n",
    "y2 = f(x2)\n",
    "# create a dot at (x2, y2) with label (3, y2)\n",
    "plt.plot(x2, y2, 'ro')\n",
    "plt.annotate('({},{})'.format(x2, y2), xy=(x2, y2), xytext=(x2, y2))\n",
    "\n",
    "m = (y2 - y1) / (x2 - x1)\n",
    "c = y2 - m*x2\n",
    "y3 = m*x + c\n",
    "plt.plot(x, y3, 'g--', label='y = {}x + {}'.format(m, c))\n",
    "\n",
    "plt.legend()\n",
    "plt.xlabel('x')\n",
    "plt.ylabel('y')\n",
    "plt.grid()\n",
    "plt.show()"
   ]
  },
  {
   "cell_type": "markdown",
   "id": "431c3208",
   "metadata": {},
   "source": []
  },
  {
   "cell_type": "markdown",
   "id": "b998f116",
   "metadata": {},
   "source": [
    "It’s getting closer to the tangent line. Let’s zoom in the graph"
   ]
  },
  {
   "cell_type": "code",
   "execution_count": null,
   "id": "cec7a6ff",
   "metadata": {},
   "outputs": [],
   "source": [
    "# Plot 2x^3 - 3x^2 + 2x + 5\n",
    "\n",
    "import numpy as np\n",
    "import matplotlib.pyplot as plt\n",
    "\n",
    "x = np.linspace(1.5, 3, 100)\n",
    "y = 2*x**3 - 3*x**2 + 2*x + 5\n",
    "\n",
    "# Tangent line at x = 2\n",
    "x1 = 2\n",
    "y1 = 2*x1**3 - 3*x1**2 + 2*x1 + 5\n",
    "m = 6*x1**2 - 6*x1 + 2\n",
    "y2 = m*(x - x1) + y1\n",
    "\n",
    "# Plot the main function\n",
    "plt.plot(x, y, label=\"2x^3 - 3x^2 + 2x + 5\")\n",
    "# Plot tangent line\n",
    "plt.plot(x, y2, 'r--', label='Tangent line at x = 2')\n",
    "\n",
    "x1 = 2\n",
    "y1 = f(x1)\n",
    "# create a dot at (x1, y1) with label (2, y1)\n",
    "plt.plot(x1, y1, 'ro')\n",
    "plt.annotate('({},{})'.format(x1, y1), xy=(x1, y1), xytext=(x1, y1))\n",
    "\n",
    "x2 = 2.5\n",
    "y2 = f(x2)\n",
    "# create a dot at (x2, y2) with label (3, y2)\n",
    "plt.plot(x2, y2, 'ro')\n",
    "plt.annotate('({},{})'.format(x2, y2), xy=(x2, y2), xytext=(x2, y2))\n",
    "\n",
    "m = (y2 - y1) / (x2 - x1)\n",
    "c = y2 - m*x2\n",
    "y3 = m*x + c\n",
    "plt.plot(x, y3, 'g--', label='y = {}x + {}'.format(m, c))\n",
    "\n",
    "plt.legend()\n",
    "plt.xlabel('x')\n",
    "plt.ylabel('y')\n",
    "plt.grid()\n",
    "plt.show()"
   ]
  },
  {
   "cell_type": "markdown",
   "id": "10c09b41",
   "metadata": {},
   "source": []
  },
  {
   "cell_type": "markdown",
   "id": "ced21035",
   "metadata": {},
   "source": [
    "The idea is, if we can get \\(x_2\\) closer to \\(x_1\\), we can get the slope of the line closer to the tangent line."
   ]
  },
  {
   "cell_type": "markdown",
   "id": "557d9f05",
   "metadata": {},
   "source": [
    "Let’s try to generalize"
   ]
  },
  {
   "cell_type": "code",
   "execution_count": null,
   "id": "70d3eb5a",
   "metadata": {},
   "outputs": [],
   "source": [
    "# Plot 2x^3 - 3x^2 + 2x + 5\n",
    "\n",
    "import numpy as np\n",
    "import matplotlib.pyplot as plt\n",
    "\n",
    "x = np.linspace(1.5, 3, 100)\n",
    "y = 2*x**3 - 3*x**2 + 2*x + 5\n",
    "\n",
    "# Plot the main function\n",
    "plt.plot(x, y, label=\"2x^3 - 3x^2 + 2x + 5\")\n",
    "\n",
    "x1 = 2\n",
    "y1 = f(x1)\n",
    "# create a dot at (x1, y1) with label (2, y1)\n",
    "plt.plot(x1, y1, 'ro')\n",
    "plt.annotate('(x1, y1)', xy=(x1, y1), xytext=(x1, y1))\n",
    "\n",
    "x2 = 2.5\n",
    "y2 = f(x2)\n",
    "# create a dot at (x2, y2) with label (3, y2)\n",
    "plt.plot(x2, y2, 'ro')\n",
    "plt.annotate('(x2, y2)', xy=(x2, y2), xytext=(x2, y2))\n",
    "\n",
    "m = (y2 - y1) / (x2 - x1)\n",
    "c = y2 - m*x2\n",
    "y3 = m*x + c\n",
    "plt.plot(x, y3, 'g--', label='y = mx + c')\n",
    "\n",
    "plt.legend()\n",
    "plt.xlabel('x')\n",
    "plt.ylabel('y')\n",
    "plt.grid()\n",
    "plt.show()"
   ]
  },
  {
   "cell_type": "markdown",
   "id": "bce8e684",
   "metadata": {},
   "source": []
  },
  {
   "cell_type": "markdown",
   "id": "a833f5f4",
   "metadata": {},
   "source": [
    "To find the slope, we need to find the change in \\(y\\) divided by the change in \\(x\\)."
   ]
  },
  {
   "cell_type": "code",
   "execution_count": null,
   "id": "320e9572",
   "metadata": {},
   "outputs": [],
   "source": [
    "# Plot 2x^3 - 3x^2 + 2x + 5\n",
    "\n",
    "import numpy as np\n",
    "import matplotlib.pyplot as plt\n",
    "\n",
    "x = np.linspace(1.5, 3, 100)\n",
    "y = 2*x**3 - 3*x**2 + 2*x + 5\n",
    "\n",
    "# Plot the main function\n",
    "plt.plot(x, y, label=\"2x^3 - 3x^2 + 2x + 5\")\n",
    "\n",
    "x1 = 2\n",
    "y1 = f(x1)\n",
    "# create a dot at (x1, y1) with label (2, y1)\n",
    "plt.plot(x1, y1, 'ro')\n",
    "plt.annotate('(x1, y1)', xy=(x1, y1), xytext=(x1, y1))\n",
    "\n",
    "x2 = 2.5\n",
    "y2 = f(x2)\n",
    "# create a dot at (x2, y2) with label (3, y2)\n",
    "plt.plot(x2, y2, 'ro')\n",
    "plt.annotate('(x2, y2)', xy=(x2, y2), xytext=(x2, y2))\n",
    "\n",
    "m = (y2 - y1) / (x2 - x1)\n",
    "c = y2 - m*x2\n",
    "y3 = m*x + c\n",
    "plt.plot(x, y3, 'g--', label='y = mx + c')\n",
    "\n",
    "x4 = np.linspace(x1, x2, 100)\n",
    "y4 = np.linspace(y1, y1, 100)\n",
    "plt.plot(x4, y4, 'b--')\n",
    "# add text near that plot\n",
    "plt.text(2.2, 11, 'δx', fontsize=12)\n",
    "\n",
    "x5 = np.linspace(x2, x2, 100)\n",
    "y5 = np.linspace(y1, y2, 100)\n",
    "plt.plot(x5, y5, 'b--')\n",
    "# add text near that plot\n",
    "plt.text(2.55, 17, 'δy', fontsize=12)\n",
    "\n",
    "plt.legend()\n",
    "plt.xlabel('x')\n",
    "plt.ylabel('y')\n",
    "plt.grid()\n",
    "plt.show()"
   ]
  },
  {
   "cell_type": "markdown",
   "id": "e672917d",
   "metadata": {},
   "source": []
  },
  {
   "cell_type": "markdown",
   "id": "5da78405",
   "metadata": {},
   "source": [
    "The slope \\(m\\) is:"
   ]
  },
  {
   "cell_type": "markdown",
   "id": "85823ac2",
   "metadata": {},
   "source": [
    "\\[\n",
    "m = \\frac{f(x_2) - f(x_1)}{x_2 - x_1}\n",
    "\\]"
   ]
  },
  {
   "cell_type": "markdown",
   "id": "d02623ff",
   "metadata": {},
   "source": [
    "\\[\n",
    "m = \\frac{f(x_1 + \\delta x) - f(x_1)}{\\delta x}\n",
    "\\]"
   ]
  },
  {
   "cell_type": "markdown",
   "id": "035059aa",
   "metadata": {},
   "source": [
    "Since \\(m\\) is \\(\\frac{\\delta y}{\\delta x}\\)"
   ]
  },
  {
   "cell_type": "markdown",
   "id": "56bfdc96",
   "metadata": {},
   "source": [
    "\\[\n",
    "\\frac{\\delta y}{\\delta x} = \\frac{f(x_1 + \\delta x) - f(x_1)}{\\delta x}\n",
    "\\]"
   ]
  },
  {
   "cell_type": "markdown",
   "id": "f4b7d9d0",
   "metadata": {},
   "source": [
    "If we let \\(\\delta x\\) approach \\(0\\), we get the tangent line:"
   ]
  },
  {
   "cell_type": "markdown",
   "id": "649a7a4a",
   "metadata": {},
   "source": [
    "\\[\n",
    "\\frac{df(x)}{dx} = \\lim_{\\delta x \\to 0} \\frac{f(x_1 + \\delta x) - f(x_1)}{\\delta x}\n",
    "\\]"
   ]
  },
  {
   "cell_type": "markdown",
   "id": "3165aaa8",
   "metadata": {},
   "source": [
    "Interestingly, we can derive many different derivative formula using this method."
   ]
  },
  {
   "cell_type": "markdown",
   "id": "69bb5a16",
   "metadata": {},
   "source": [
    "For example, the derivative of \\(f(x) = x^2\\) is:"
   ]
  },
  {
   "cell_type": "markdown",
   "id": "a0be9836",
   "metadata": {},
   "source": [
    "\\[\n",
    "\\frac{df(x)}{dx} = \\lim_{\\delta x \\to 0} \\frac{(x + \\delta x)^2 - x^2}{\\delta x}\n",
    "= \\lim_{\\delta x \\to 0} \\frac{x^2 + 2x\\delta x + \\delta x^2 - x^2}{\\delta x}\n",
    "= \\lim_{\\delta x \\to 0} \\frac{2x\\delta x + \\delta x^2}{\\delta x}\n",
    "= \\lim_{\\delta x \\to 0} 2x + \\delta x\n",
    "\\]"
   ]
  },
  {
   "cell_type": "markdown",
   "id": "475e6747",
   "metadata": {},
   "source": [
    "Since \\(\\delta x\\) approaches \\(0\\), we can ignore it:"
   ]
  },
  {
   "cell_type": "markdown",
   "id": "aff11651",
   "metadata": {},
   "source": [
    "\\[\n",
    "\\frac{df(x)}{dx} = 2x\n",
    "\\]"
   ]
  },
  {
   "cell_type": "markdown",
   "id": "bc0a166a",
   "metadata": {},
   "source": [
    "One more example, the derivative of \\(f(x) = x^3\\) is:"
   ]
  },
  {
   "cell_type": "markdown",
   "id": "bfeedca1",
   "metadata": {},
   "source": [
    "\\[\n",
    "\\frac{df(x)}{dx} = \\lim_{\\delta x \\to 0} \\frac{(x + \\delta x)^3 - x^3}{\\delta x}\n",
    "= \\lim_{\\delta x \\to 0} \\frac{x^3 + 3x^2\\delta x + 3x\\delta x^2 + \\delta x^3 - x^3}{\\delta x}\n",
    "= \\lim_{\\delta x \\to 0} \\frac{3x^2\\delta x + 3x\\delta x^2 + \\delta x^3}{\\delta x}\n",
    "= \\lim_{\\delta x \\to 0} 3x^2 + 3x\\delta x + \\delta x^2\n",
    "\\]"
   ]
  },
  {
   "cell_type": "markdown",
   "id": "6e952fd1",
   "metadata": {},
   "source": [
    "Since \\(\\delta x\\) approaches \\(0\\), we can ignore it:"
   ]
  },
  {
   "cell_type": "markdown",
   "id": "d2a125df",
   "metadata": {},
   "source": [
    "\\[\n",
    "\\frac{df(x)}{dx} = 3x^2\n",
    "\\]"
   ]
  },
  {
   "cell_type": "markdown",
   "id": "2a03d2aa",
   "metadata": {},
   "source": [
    "# Derivative rules"
   ]
  },
  {
   "cell_type": "markdown",
   "id": "e40d1ad2",
   "metadata": {},
   "source": [
    "Here we only list down the rules, but actually the concepts are simple."
   ]
  },
  {
   "cell_type": "markdown",
   "id": "dfd0ec22",
   "metadata": {},
   "source": [
    "Please watch the following videos:"
   ]
  },
  {
   "cell_type": "markdown",
   "id": "db88eba9",
   "metadata": {},
   "source": [
    "Visualizing the chain rule and product rule | Chapter 4, Essence of calculus"
   ]
  },
  {
   "cell_type": "markdown",
   "id": "ec39cda0",
   "metadata": {},
   "source": [
    "# Addition rule"
   ]
  },
  {
   "cell_type": "markdown",
   "id": "f6b445ea",
   "metadata": {},
   "source": [
    "\\[\n",
    "\\frac{d}{dx} (f(x) + g(x)) = \\frac{df(x)}{dx} + \\frac{dg(x)}{dx}\n",
    "\\]"
   ]
  },
  {
   "cell_type": "markdown",
   "id": "74c18572",
   "metadata": {},
   "source": [
    "Example:"
   ]
  },
  {
   "cell_type": "markdown",
   "id": "48e4acb6",
   "metadata": {},
   "source": [
    "\\[\n",
    "\\frac{d}{dx} (x^2 + 2x) = \\frac{d}{dx} (x^2) + \\frac{d}{dx} (2x) = 2x + 2\n",
    "\\]"
   ]
  },
  {
   "cell_type": "markdown",
   "id": "e2ad3ab5",
   "metadata": {},
   "source": [
    "# Multiplication rule"
   ]
  },
  {
   "cell_type": "markdown",
   "id": "16573a48",
   "metadata": {},
   "source": [
    "\\[\n",
    "\\frac{d}{dx} (f(x) \\cdot g(x)) = f(x) \\cdot \\frac{dg(x)}{dx} + g(x) \\cdot \\frac{df(x)}{dx}\n",
    "\\]"
   ]
  },
  {
   "cell_type": "markdown",
   "id": "e4507651",
   "metadata": {},
   "source": [
    "Example:"
   ]
  },
  {
   "cell_type": "markdown",
   "id": "32090a3a",
   "metadata": {},
   "source": [
    "\\[\n",
    "\\frac{d}{dx} (x^2 \\cdot 2x) = x^2 \\cdot \\frac{d}{dx} (2x) + 2x \\cdot \\frac{d}{dx} (x^2) = x^2 \\cdot 2 + 2x \\cdot 2x = 6x^2\n",
    "\\]"
   ]
  },
  {
   "cell_type": "markdown",
   "id": "d11e4515",
   "metadata": {},
   "source": [
    "# Power rule"
   ]
  },
  {
   "cell_type": "markdown",
   "id": "c32c3f66",
   "metadata": {},
   "source": [
    "\\[\n",
    "\\frac{d}{dx} (x^n) = n \\cdot x^{n-1}\n",
    "\\]"
   ]
  },
  {
   "cell_type": "markdown",
   "id": "fad6815a",
   "metadata": {},
   "source": [
    "Example:"
   ]
  },
  {
   "cell_type": "markdown",
   "id": "d4d52365",
   "metadata": {},
   "source": [
    "\\[\n",
    "\\frac{d}{dx} (x^3) = 3x^2\n",
    "\\]"
   ]
  },
  {
   "cell_type": "markdown",
   "id": "8506e0b8",
   "metadata": {},
   "source": [
    "# Chain rule"
   ]
  },
  {
   "cell_type": "markdown",
   "id": "c5a0bd60",
   "metadata": {},
   "source": [
    "\\[\n",
    "\\frac{d}{dx} f(g(x)) = \\frac{df(g(x))}{dg(x)} \\cdot \\frac{dg(x)}{dx}\n",
    "\\]"
   ]
  },
  {
   "cell_type": "markdown",
   "id": "221142de",
   "metadata": {},
   "source": [
    "Or it can also be written as:"
   ]
  },
  {
   "cell_type": "markdown",
   "id": "65ca11f6",
   "metadata": {},
   "source": [
    "Let’s denote \\(u = g(x)\\):"
   ]
  },
  {
   "cell_type": "markdown",
   "id": "31889395",
   "metadata": {},
   "source": [
    "\\[\n",
    "\\frac{d}{dx} f(u) = \\frac{df(u)}{du} \\cdot \\frac{du}{dx}\n",
    "\\]"
   ]
  },
  {
   "cell_type": "markdown",
   "id": "ef08b077",
   "metadata": {},
   "source": [
    "Please remember this rule, it will be used a lot in deep learning."
   ]
  }
 ],
 "metadata": {},
 "nbformat": 4,
 "nbformat_minor": 5
}
