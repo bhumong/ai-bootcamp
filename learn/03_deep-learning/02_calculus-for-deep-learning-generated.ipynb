{
 "cells": [
  {
   "cell_type": "markdown",
   "id": "d1d1e048",
   "metadata": {},
   "source": [
    "source: [link](https://ai-bootcamp.ruangguru.com/learn/03_deep-learning/02_calculus-for-deep-learning.html)"
   ]
  },
  {
   "cell_type": "markdown",
   "id": "5ba76286",
   "metadata": {},
   "source": [
    "# Calculus"
   ]
  },
  {
   "cell_type": "markdown",
   "id": "4823416e",
   "metadata": {},
   "source": [
    "Today we will learn about calculus, which is the study of change. Calculus is a branch of mathematics that is used to study continuous change. It has two main branches: differential calculus and integral calculus. Differential calculus is used to study the rate of change of a function, while integral calculus is used to study the accumulation of quantities, or the area under a curve."
   ]
  },
  {
   "cell_type": "markdown",
   "id": "3aee4b83",
   "metadata": {},
   "source": [
    "# Derivatives"
   ]
  },
  {
   "cell_type": "markdown",
   "id": "e2a87174",
   "metadata": {},
   "source": [
    "We all - probably know - that the derivative of"
   ]
  },
  {
   "cell_type": "markdown",
   "id": "f68cadbb",
   "metadata": {},
   "source": [
    "\\[\n",
    "f(x) = 2x^3 + 3x^2 + 2x + 5\n",
    "\\]"
   ]
  },
  {
   "cell_type": "markdown",
   "id": "850ce207",
   "metadata": {},
   "source": [
    "is \\[\n",
    "f'(x) = 6x^2 + 6x + 2\n",
    "\\]"
   ]
  },
  {
   "cell_type": "markdown",
   "id": "b2f72226",
   "metadata": {},
   "source": [
    "But what does that mean?"
   ]
  },
  {
   "cell_type": "markdown",
   "id": "081d74b8",
   "metadata": {},
   "source": [
    "The derivative of a function \\(f(x)\\) is actually defined as:"
   ]
  },
  {
   "cell_type": "markdown",
   "id": "ca8f03ee",
   "metadata": {},
   "source": [
    "\\[\n",
    "\\frac{df(x)}{dx} = \\lim_{\\delta \\to 0} \\frac{f(x+\\delta) - f(x)}{\\delta}\n",
    "\\]"
   ]
  },
  {
   "cell_type": "markdown",
   "id": "eb00f8b5",
   "metadata": {},
   "source": [
    "To understand what this means, let’s plot \\(f(x)\\) and \\(f'(x)\\)."
   ]
  },
  {
   "cell_type": "code",
   "execution_count": null,
   "id": "35ccfc0f",
   "metadata": {},
   "outputs": [],
   "source": [
    "# Plot 2x^3 - 3x^2 + 2x + 5\n",
    "\n",
    "import numpy as np\n",
    "import matplotlib.pyplot as plt\n",
    "\n",
    "x = np.linspace(-2, 3, 100)\n",
    "y = 2*x**3 - 3*x**2 + 2*x + 5\n",
    "\n",
    "plt.plot(x, y)\n",
    "plt.xlabel('x')\n",
    "plt.ylabel('y')\n",
    "\n",
    "# add legend\n",
    "plt.legend(['2x^3 - 3x^2 + 2x + 5'])\n",
    "plt.grid()\n",
    "\n",
    "plt.show()"
   ]
  },
  {
   "cell_type": "markdown",
   "id": "57cd08f2",
   "metadata": {},
   "source": []
  },
  {
   "cell_type": "markdown",
   "id": "a4b32540",
   "metadata": {},
   "source": [
    "Now, let’s plot a tangent line to \\(f(x)\\) at \\(x=2\\)."
   ]
  },
  {
   "cell_type": "code",
   "execution_count": null,
   "id": "aee09a51",
   "metadata": {},
   "outputs": [],
   "source": [
    "# Plot 2x^3 - 3x^2 + 2x + 5\n",
    "\n",
    "import numpy as np\n",
    "import matplotlib.pyplot as plt\n",
    "\n",
    "x = np.linspace(-2, 3, 100)\n",
    "y = 2*x**3 - 3*x**2 + 2*x + 5\n",
    "\n",
    "# Tangent line at x = 2\n",
    "x1 = 2\n",
    "y1 = 2*x1**3 - 3*x1**2 + 2*x1 + 5\n",
    "m = 6*x1**2 - 6*x1 + 2\n",
    "y2 = m*(x - x1) + y1\n",
    "\n",
    "# Plot the main function\n",
    "plt.plot(x, y)\n",
    "# Plot tangent line\n",
    "plt.plot(x, y2, 'r--')\n",
    "\n",
    "plt.legend(['2x^3 - 3x^2 + 2x + 5', 'Tangent line at x = 2'])\n",
    "\n",
    "plt.xlabel('x')\n",
    "plt.ylabel('y')\n",
    "plt.grid()\n",
    "plt.show()"
   ]
  },
  {
   "cell_type": "markdown",
   "id": "a53f7731",
   "metadata": {},
   "source": []
  },
  {
   "cell_type": "markdown",
   "id": "859aa3df",
   "metadata": {},
   "source": [
    "What is the slope of the tangent line at \\(x=2\\)?"
   ]
  },
  {
   "cell_type": "markdown",
   "id": "2e9e710f",
   "metadata": {},
   "source": [
    "That’s right, it’s \\(f'(2)\\)."
   ]
  },
  {
   "cell_type": "markdown",
   "id": "4bd48549",
   "metadata": {},
   "source": [
    "But - without the knowledge of calculus - how would we calculate that slope?"
   ]
  },
  {
   "cell_type": "markdown",
   "id": "98af2dda",
   "metadata": {},
   "source": [
    "Actually we can, we just need to zoom in and calculate the slope of the line that is “close enough” to the tangent line."
   ]
  },
  {
   "cell_type": "code",
   "execution_count": null,
   "id": "721c64a5",
   "metadata": {},
   "outputs": [],
   "source": [
    "# Plot 2x^3 - 3x^2 + 2x + 5\n",
    "\n",
    "import numpy as np\n",
    "import matplotlib.pyplot as plt\n",
    "\n",
    "def f(x):\n",
    "    return 2*x**3 - 3*x**2 + 2*x + 5\n",
    "\n",
    "x = np.linspace(-2, 3, 100)\n",
    "y = f(x)\n",
    "\n",
    "# Plot the main function\n",
    "plt.plot(x, y)\n",
    "\n",
    "# Create a vertical line at x = 2 and x = 3\n",
    "plt.axvline(x=2, color='orange', linestyle='--')\n",
    "plt.axvline(x=3, color='g', linestyle='--')\n",
    "\n",
    "plt.legend(['2x^3 - 3x^2 + 2x + 5'])\n",
    "\n",
    "x1 = 2\n",
    "y1 = f(x1)\n",
    "# create a dot at (x1, y1) with label (2, y1)\n",
    "plt.plot(x1, y1, 'ro')\n",
    "plt.annotate('({},{})'.format(x1, y1), xy=(x1, y1), xytext=(x1, y1))\n",
    "\n",
    "x2 = 3\n",
    "y2 = f(x2)\n",
    "# create a dot at (x2, y2) with label (3, y2)\n",
    "plt.plot(x2, y2, 'ro')\n",
    "plt.annotate('({},{})'.format(x2, y2), xy=(x2, y2), xytext=(x2, y2))\n",
    "\n",
    "plt.xlabel('x')\n",
    "plt.ylabel('y')\n",
    "plt.grid()\n",
    "plt.show()"
   ]
  },
  {
   "cell_type": "markdown",
   "id": "bbb30212",
   "metadata": {},
   "source": []
  },
  {
   "cell_type": "markdown",
   "id": "87326d8e",
   "metadata": {},
   "source": [
    "Then create a straight line from \\(x=2\\) to \\(x=3\\)."
   ]
  },
  {
   "cell_type": "markdown",
   "id": "9281d1a2",
   "metadata": {},
   "source": [
    "The slope of that line is:"
   ]
  },
  {
   "cell_type": "markdown",
   "id": "74088b2c",
   "metadata": {},
   "source": [
    "\\[\n",
    "m = \\frac{f(3) - f(2)}{3 - 2}\n",
    "  = \\frac{38-13}{3-2}\n",
    "  = 25\n",
    "\\]"
   ]
  },
  {
   "cell_type": "markdown",
   "id": "8c93f49e",
   "metadata": {},
   "source": [
    "The y-intercept of that line is:"
   ]
  },
  {
   "cell_type": "markdown",
   "id": "b7955f30",
   "metadata": {},
   "source": [
    "\\[\n",
    "f(x) = mx + c\\\\\n",
    "c = f(x) - mx\n",
    "\\]"
   ]
  },
  {
   "cell_type": "markdown",
   "id": "24df0cfd",
   "metadata": {},
   "source": [
    "Substitute \\(x=2\\) and \\(y=f(2)\\): \\[\n",
    "c = f(2) - m \\cdot 2\n",
    "  = 13 - 25 \\cdot 2\n",
    "  = -37\n",
    "\\]"
   ]
  },
  {
   "cell_type": "markdown",
   "id": "6b1f8e14",
   "metadata": {},
   "source": [
    "So the equation of the line is: \\[\n",
    "y = 25x - 37\n",
    "\\]"
   ]
  },
  {
   "cell_type": "markdown",
   "id": "06d5af2d",
   "metadata": {},
   "source": [
    "Let’s draw that line."
   ]
  },
  {
   "cell_type": "code",
   "execution_count": null,
   "id": "1d6c89f7",
   "metadata": {},
   "outputs": [],
   "source": [
    "# Plot 2x^3 - 3x^2 + 2x + 5\n",
    "\n",
    "import numpy as np\n",
    "import matplotlib.pyplot as plt\n",
    "\n",
    "def f(x):\n",
    "    return 2*x**3 - 3*x**2 + 2*x + 5\n",
    "\n",
    "x = np.linspace(-2, 3, 100)\n",
    "y = f(x)\n",
    "\n",
    "# Plot the main function\n",
    "plt.plot(x, y, label='2x^3 - 3x^2 + 2x + 5')\n",
    "\n",
    "# Create a vertical line at x = 2 and x = 3\n",
    "plt.axvline(x=2, color='orange', linestyle='--')\n",
    "plt.axvline(x=3, color='g', linestyle='--')\n",
    "\n",
    "\n",
    "x1 = 2\n",
    "y1 = f(x1)\n",
    "# create a dot at (x1, y1) with label (2, y1)\n",
    "plt.plot(x1, y1, 'ro')\n",
    "plt.annotate('({},{})'.format(x1, y1), xy=(x1, y1), xytext=(x1, y1))\n",
    "\n",
    "x2 = 3\n",
    "y2 = f(x2)\n",
    "# create a dot at (x2, y2) with label (3, y2)\n",
    "plt.plot(x2, y2, 'ro')\n",
    "plt.annotate('({},{})'.format(x2, y2), xy=(x2, y2), xytext=(x2, y2))\n",
    "\n",
    "#  Draw y = 25x - 37\n",
    "x3 = np.linspace(0, 3, 100)\n",
    "y3 = 25*x3 - 37\n",
    "plt.plot(x3, y3, 'r--', label='y = 25x - 37')\n",
    "\n",
    "plt.legend()\n",
    "\n",
    "plt.xlabel('x')\n",
    "plt.ylabel('y')\n",
    "plt.grid()\n",
    "plt.show()"
   ]
  },
  {
   "cell_type": "markdown",
   "id": "78beac1c",
   "metadata": {},
   "source": []
  },
  {
   "cell_type": "markdown",
   "id": "dc6410a8",
   "metadata": {},
   "source": [
    "Now we know that the slop is \\(37\\), but that’s not the exact slope of the tangent line."
   ]
  },
  {
   "cell_type": "markdown",
   "id": "8a49cdbb",
   "metadata": {},
   "source": [
    "Let’s draw both lines together"
   ]
  },
  {
   "cell_type": "code",
   "execution_count": null,
   "id": "03dc5c14",
   "metadata": {},
   "outputs": [],
   "source": [
    "# Plot 2x^3 - 3x^2 + 2x + 5\n",
    "\n",
    "import numpy as np\n",
    "import matplotlib.pyplot as plt\n",
    "\n",
    "x = np.linspace(-2, 3, 100)\n",
    "y = 2*x**3 - 3*x**2 + 2*x + 5\n",
    "\n",
    "# Tangent line at x = 2\n",
    "x1 = 2\n",
    "y1 = 2*x1**3 - 3*x1**2 + 2*x1 + 5\n",
    "m = 6*x1**2 - 6*x1 + 2\n",
    "y2 = m*(x - x1) + y1\n",
    "\n",
    "# Plot the main function\n",
    "plt.plot(x, y, label=\"2x^3 - 3x^2 + 2x + 5\")\n",
    "# Plot tangent line\n",
    "plt.plot(x, y2, 'r--', label='Tangent line at x = 2')\n",
    "\n",
    "x1 = 2\n",
    "y1 = f(x1)\n",
    "# create a dot at (x1, y1) with label (2, y1)\n",
    "plt.plot(x1, y1, 'ro')\n",
    "plt.annotate('({},{})'.format(x1, y1), xy=(x1, y1), xytext=(x1, y1))\n",
    "\n",
    "x2 = 3\n",
    "y2 = f(x2)\n",
    "# create a dot at (x2, y2) with label (3, y2)\n",
    "plt.plot(x2, y2, 'ro')\n",
    "plt.annotate('({},{})'.format(x2, y2), xy=(x2, y2), xytext=(x2, y2))\n",
    "\n",
    "#  Draw y = 25x - 37\n",
    "x3 = np.linspace(0, 3, 100)\n",
    "y3 = 25*x3 - 37\n",
    "plt.plot(x3, y3, 'g--', label='y = 25x - 37')\n",
    "\n",
    "plt.legend()\n",
    "plt.xlabel('x')\n",
    "plt.ylabel('y')\n",
    "plt.grid()\n",
    "plt.show()"
   ]
  },
  {
   "cell_type": "markdown",
   "id": "2fbf7bc9",
   "metadata": {},
   "source": []
  },
  {
   "cell_type": "markdown",
   "id": "f3ed6af1",
   "metadata": {},
   "source": [
    "Hmm, not quite right. Perhaps, let’s try drawing line at x = 2$ and \\(x = 2.5\\)?"
   ]
  },
  {
   "cell_type": "code",
   "execution_count": null,
   "id": "6c8e2958",
   "metadata": {},
   "outputs": [],
   "source": [
    "# Plot 2x^3 - 3x^2 + 2x + 5\n",
    "\n",
    "import numpy as np\n",
    "import matplotlib.pyplot as plt\n",
    "\n",
    "x = np.linspace(-2, 3, 100)\n",
    "y = 2*x**3 - 3*x**2 + 2*x + 5\n",
    "\n",
    "# Tangent line at x = 2\n",
    "x1 = 2\n",
    "y1 = 2*x1**3 - 3*x1**2 + 2*x1 + 5\n",
    "m = 6*x1**2 - 6*x1 + 2\n",
    "y2 = m*(x - x1) + y1\n",
    "\n",
    "# Plot the main function\n",
    "plt.plot(x, y, label=\"2x^3 - 3x^2 + 2x + 5\")\n",
    "# Plot tangent line\n",
    "plt.plot(x, y2, 'r--', label='Tangent line at x = 2')\n",
    "\n",
    "x1 = 2\n",
    "y1 = f(x1)\n",
    "# create a dot at (x1, y1) with label (2, y1)\n",
    "plt.plot(x1, y1, 'ro')\n",
    "plt.annotate('({},{})'.format(x1, y1), xy=(x1, y1), xytext=(x1, y1))\n",
    "\n",
    "x2 = 2.5\n",
    "y2 = f(x2)\n",
    "# create a dot at (x2, y2) with label (3, y2)\n",
    "plt.plot(x2, y2, 'ro')\n",
    "plt.annotate('({},{})'.format(x2, y2), xy=(x2, y2), xytext=(x2, y2))\n",
    "\n",
    "m = (y2 - y1) / (x2 - x1)\n",
    "c = y2 - m*x2\n",
    "y3 = m*x + c\n",
    "plt.plot(x, y3, 'g--', label='y = {}x + {}'.format(m, c))\n",
    "\n",
    "plt.legend()\n",
    "plt.xlabel('x')\n",
    "plt.ylabel('y')\n",
    "plt.grid()\n",
    "plt.show()"
   ]
  },
  {
   "cell_type": "markdown",
   "id": "bac29944",
   "metadata": {},
   "source": []
  },
  {
   "cell_type": "markdown",
   "id": "1afe3389",
   "metadata": {},
   "source": [
    "It’s getting closer to the tangent line. Let’s zoom in the graph"
   ]
  },
  {
   "cell_type": "code",
   "execution_count": null,
   "id": "5d19c942",
   "metadata": {},
   "outputs": [],
   "source": [
    "# Plot 2x^3 - 3x^2 + 2x + 5\n",
    "\n",
    "import numpy as np\n",
    "import matplotlib.pyplot as plt\n",
    "\n",
    "x = np.linspace(1.5, 3, 100)\n",
    "y = 2*x**3 - 3*x**2 + 2*x + 5\n",
    "\n",
    "# Tangent line at x = 2\n",
    "x1 = 2\n",
    "y1 = 2*x1**3 - 3*x1**2 + 2*x1 + 5\n",
    "m = 6*x1**2 - 6*x1 + 2\n",
    "y2 = m*(x - x1) + y1\n",
    "\n",
    "# Plot the main function\n",
    "plt.plot(x, y, label=\"2x^3 - 3x^2 + 2x + 5\")\n",
    "# Plot tangent line\n",
    "plt.plot(x, y2, 'r--', label='Tangent line at x = 2')\n",
    "\n",
    "x1 = 2\n",
    "y1 = f(x1)\n",
    "# create a dot at (x1, y1) with label (2, y1)\n",
    "plt.plot(x1, y1, 'ro')\n",
    "plt.annotate('({},{})'.format(x1, y1), xy=(x1, y1), xytext=(x1, y1))\n",
    "\n",
    "x2 = 2.5\n",
    "y2 = f(x2)\n",
    "# create a dot at (x2, y2) with label (3, y2)\n",
    "plt.plot(x2, y2, 'ro')\n",
    "plt.annotate('({},{})'.format(x2, y2), xy=(x2, y2), xytext=(x2, y2))\n",
    "\n",
    "m = (y2 - y1) / (x2 - x1)\n",
    "c = y2 - m*x2\n",
    "y3 = m*x + c\n",
    "plt.plot(x, y3, 'g--', label='y = {}x + {}'.format(m, c))\n",
    "\n",
    "plt.legend()\n",
    "plt.xlabel('x')\n",
    "plt.ylabel('y')\n",
    "plt.grid()\n",
    "plt.show()"
   ]
  },
  {
   "cell_type": "markdown",
   "id": "6d208ed0",
   "metadata": {},
   "source": []
  },
  {
   "cell_type": "markdown",
   "id": "666bfe95",
   "metadata": {},
   "source": [
    "The idea is, if we can get \\(x_2\\) closer to \\(x_1\\), we can get the slope of the line closer to the tangent line."
   ]
  },
  {
   "cell_type": "markdown",
   "id": "102deda2",
   "metadata": {},
   "source": [
    "Let’s try to generalize"
   ]
  },
  {
   "cell_type": "code",
   "execution_count": null,
   "id": "e7c227f3",
   "metadata": {},
   "outputs": [],
   "source": [
    "# Plot 2x^3 - 3x^2 + 2x + 5\n",
    "\n",
    "import numpy as np\n",
    "import matplotlib.pyplot as plt\n",
    "\n",
    "x = np.linspace(1.5, 3, 100)\n",
    "y = 2*x**3 - 3*x**2 + 2*x + 5\n",
    "\n",
    "# Plot the main function\n",
    "plt.plot(x, y, label=\"2x^3 - 3x^2 + 2x + 5\")\n",
    "\n",
    "x1 = 2\n",
    "y1 = f(x1)\n",
    "# create a dot at (x1, y1) with label (2, y1)\n",
    "plt.plot(x1, y1, 'ro')\n",
    "plt.annotate('(x1, y1)', xy=(x1, y1), xytext=(x1, y1))\n",
    "\n",
    "x2 = 2.5\n",
    "y2 = f(x2)\n",
    "# create a dot at (x2, y2) with label (3, y2)\n",
    "plt.plot(x2, y2, 'ro')\n",
    "plt.annotate('(x2, y2)', xy=(x2, y2), xytext=(x2, y2))\n",
    "\n",
    "m = (y2 - y1) / (x2 - x1)\n",
    "c = y2 - m*x2\n",
    "y3 = m*x + c\n",
    "plt.plot(x, y3, 'g--', label='y = mx + c')\n",
    "\n",
    "plt.legend()\n",
    "plt.xlabel('x')\n",
    "plt.ylabel('y')\n",
    "plt.grid()\n",
    "plt.show()"
   ]
  },
  {
   "cell_type": "markdown",
   "id": "5de71bc0",
   "metadata": {},
   "source": []
  },
  {
   "cell_type": "markdown",
   "id": "5eaedcec",
   "metadata": {},
   "source": [
    "To find the slope, we need to find the change in \\(y\\) divided by the change in \\(x\\)."
   ]
  },
  {
   "cell_type": "code",
   "execution_count": null,
   "id": "20996aea",
   "metadata": {},
   "outputs": [],
   "source": [
    "# Plot 2x^3 - 3x^2 + 2x + 5\n",
    "\n",
    "import numpy as np\n",
    "import matplotlib.pyplot as plt\n",
    "\n",
    "x = np.linspace(1.5, 3, 100)\n",
    "y = 2*x**3 - 3*x**2 + 2*x + 5\n",
    "\n",
    "# Plot the main function\n",
    "plt.plot(x, y, label=\"2x^3 - 3x^2 + 2x + 5\")\n",
    "\n",
    "x1 = 2\n",
    "y1 = f(x1)\n",
    "# create a dot at (x1, y1) with label (2, y1)\n",
    "plt.plot(x1, y1, 'ro')\n",
    "plt.annotate('(x1, y1)', xy=(x1, y1), xytext=(x1, y1))\n",
    "\n",
    "x2 = 2.5\n",
    "y2 = f(x2)\n",
    "# create a dot at (x2, y2) with label (3, y2)\n",
    "plt.plot(x2, y2, 'ro')\n",
    "plt.annotate('(x2, y2)', xy=(x2, y2), xytext=(x2, y2))\n",
    "\n",
    "m = (y2 - y1) / (x2 - x1)\n",
    "c = y2 - m*x2\n",
    "y3 = m*x + c\n",
    "plt.plot(x, y3, 'g--', label='y = mx + c')\n",
    "\n",
    "x4 = np.linspace(x1, x2, 100)\n",
    "y4 = np.linspace(y1, y1, 100)\n",
    "plt.plot(x4, y4, 'b--')\n",
    "# add text near that plot\n",
    "plt.text(2.2, 11, 'δx', fontsize=12)\n",
    "\n",
    "x5 = np.linspace(x2, x2, 100)\n",
    "y5 = np.linspace(y1, y2, 100)\n",
    "plt.plot(x5, y5, 'b--')\n",
    "# add text near that plot\n",
    "plt.text(2.55, 17, 'δy', fontsize=12)\n",
    "\n",
    "plt.legend()\n",
    "plt.xlabel('x')\n",
    "plt.ylabel('y')\n",
    "plt.grid()\n",
    "plt.show()"
   ]
  },
  {
   "cell_type": "markdown",
   "id": "911c27b3",
   "metadata": {},
   "source": []
  },
  {
   "cell_type": "markdown",
   "id": "7ab87aa7",
   "metadata": {},
   "source": [
    "The slope \\(m\\) is:"
   ]
  },
  {
   "cell_type": "markdown",
   "id": "5d3df365",
   "metadata": {},
   "source": [
    "\\[\n",
    "m = \\frac{f(x_2) - f(x_1)}{x_2 - x_1}\n",
    "\\]"
   ]
  },
  {
   "cell_type": "markdown",
   "id": "f11b67ba",
   "metadata": {},
   "source": [
    "\\[\n",
    "m = \\frac{f(x_1 + \\delta x) - f(x_1)}{\\delta x}\n",
    "\\]"
   ]
  },
  {
   "cell_type": "markdown",
   "id": "5e06e064",
   "metadata": {},
   "source": [
    "Since \\(m\\) is \\(\\frac{\\delta y}{\\delta x}\\)"
   ]
  },
  {
   "cell_type": "markdown",
   "id": "9c6f20f0",
   "metadata": {},
   "source": [
    "\\[\n",
    "\\frac{\\delta y}{\\delta x} = \\frac{f(x_1 + \\delta x) - f(x_1)}{\\delta x}\n",
    "\\]"
   ]
  },
  {
   "cell_type": "markdown",
   "id": "fa51251b",
   "metadata": {},
   "source": [
    "If we let \\(\\delta x\\) approach \\(0\\), we get the tangent line:"
   ]
  },
  {
   "cell_type": "markdown",
   "id": "5b268aea",
   "metadata": {},
   "source": [
    "\\[\n",
    "\\frac{df(x)}{dx} = \\lim_{\\delta x \\to 0} \\frac{f(x_1 + \\delta x) - f(x_1)}{\\delta x}\n",
    "\\]"
   ]
  },
  {
   "cell_type": "markdown",
   "id": "e33a0659",
   "metadata": {},
   "source": [
    "Interestingly, we can derive many different derivative formula using this method."
   ]
  },
  {
   "cell_type": "markdown",
   "id": "90c75689",
   "metadata": {},
   "source": [
    "For example, the derivative of \\(f(x) = x^2\\) is:"
   ]
  },
  {
   "cell_type": "markdown",
   "id": "2336a518",
   "metadata": {},
   "source": [
    "\\[\n",
    "\\frac{df(x)}{dx} = \\lim_{\\delta x \\to 0} \\frac{(x + \\delta x)^2 - x^2}{\\delta x}\n",
    "= \\lim_{\\delta x \\to 0} \\frac{x^2 + 2x\\delta x + \\delta x^2 - x^2}{\\delta x}\n",
    "= \\lim_{\\delta x \\to 0} \\frac{2x\\delta x + \\delta x^2}{\\delta x}\n",
    "= \\lim_{\\delta x \\to 0} 2x + \\delta x\n",
    "\\]"
   ]
  },
  {
   "cell_type": "markdown",
   "id": "e7b80b08",
   "metadata": {},
   "source": [
    "Since \\(\\delta x\\) approaches \\(0\\), we can ignore it:"
   ]
  },
  {
   "cell_type": "markdown",
   "id": "cbb34f1a",
   "metadata": {},
   "source": [
    "\\[\n",
    "\\frac{df(x)}{dx} = 2x\n",
    "\\]"
   ]
  },
  {
   "cell_type": "markdown",
   "id": "fbbeefd2",
   "metadata": {},
   "source": [
    "One more example, the derivative of \\(f(x) = x^3\\) is:"
   ]
  },
  {
   "cell_type": "markdown",
   "id": "c1e8b156",
   "metadata": {},
   "source": [
    "\\[\n",
    "\\frac{df(x)}{dx} = \\lim_{\\delta x \\to 0} \\frac{(x + \\delta x)^3 - x^3}{\\delta x}\n",
    "= \\lim_{\\delta x \\to 0} \\frac{x^3 + 3x^2\\delta x + 3x\\delta x^2 + \\delta x^3 - x^3}{\\delta x}\n",
    "= \\lim_{\\delta x \\to 0} \\frac{3x^2\\delta x + 3x\\delta x^2 + \\delta x^3}{\\delta x}\n",
    "= \\lim_{\\delta x \\to 0} 3x^2 + 3x\\delta x + \\delta x^2\n",
    "\\]"
   ]
  },
  {
   "cell_type": "markdown",
   "id": "36f01203",
   "metadata": {},
   "source": [
    "Since \\(\\delta x\\) approaches \\(0\\), we can ignore it:"
   ]
  },
  {
   "cell_type": "markdown",
   "id": "80859ffc",
   "metadata": {},
   "source": [
    "\\[\n",
    "\\frac{df(x)}{dx} = 3x^2\n",
    "\\]"
   ]
  },
  {
   "cell_type": "markdown",
   "id": "c12c2100",
   "metadata": {},
   "source": [
    "# Derivative rules"
   ]
  },
  {
   "cell_type": "markdown",
   "id": "48d33929",
   "metadata": {},
   "source": [
    "Here we only list down the rules, but actually the concepts are simple."
   ]
  },
  {
   "cell_type": "markdown",
   "id": "24a547f8",
   "metadata": {},
   "source": [
    "Please watch the following videos:"
   ]
  },
  {
   "cell_type": "markdown",
   "id": "8207a47b",
   "metadata": {},
   "source": [
    "Visualizing the chain rule and product rule | Chapter 4, Essence of calculus"
   ]
  },
  {
   "cell_type": "markdown",
   "id": "6766ab2e",
   "metadata": {},
   "source": [
    "# Addition rule"
   ]
  },
  {
   "cell_type": "markdown",
   "id": "3980f49d",
   "metadata": {},
   "source": [
    "\\[\n",
    "\\frac{d}{dx} (f(x) + g(x)) = \\frac{df(x)}{dx} + \\frac{dg(x)}{dx}\n",
    "\\]"
   ]
  },
  {
   "cell_type": "markdown",
   "id": "53df7d85",
   "metadata": {},
   "source": [
    "Example:"
   ]
  },
  {
   "cell_type": "markdown",
   "id": "d5bd68fd",
   "metadata": {},
   "source": [
    "\\[\n",
    "\\frac{d}{dx} (x^2 + 2x) = \\frac{d}{dx} (x^2) + \\frac{d}{dx} (2x) = 2x + 2\n",
    "\\]"
   ]
  },
  {
   "cell_type": "markdown",
   "id": "646721eb",
   "metadata": {},
   "source": [
    "# Multiplication rule"
   ]
  },
  {
   "cell_type": "markdown",
   "id": "bfd2763d",
   "metadata": {},
   "source": [
    "\\[\n",
    "\\frac{d}{dx} (f(x) \\cdot g(x)) = f(x) \\cdot \\frac{dg(x)}{dx} + g(x) \\cdot \\frac{df(x)}{dx}\n",
    "\\]"
   ]
  },
  {
   "cell_type": "markdown",
   "id": "52043c1f",
   "metadata": {},
   "source": [
    "Example:"
   ]
  },
  {
   "cell_type": "markdown",
   "id": "cd6d88c3",
   "metadata": {},
   "source": [
    "\\[\n",
    "\\frac{d}{dx} (x^2 \\cdot 2x) = x^2 \\cdot \\frac{d}{dx} (2x) + 2x \\cdot \\frac{d}{dx} (x^2) = x^2 \\cdot 2 + 2x \\cdot 2x = 6x^2\n",
    "\\]"
   ]
  },
  {
   "cell_type": "markdown",
   "id": "ac57ac84",
   "metadata": {},
   "source": [
    "# Power rule"
   ]
  },
  {
   "cell_type": "markdown",
   "id": "ca130c2d",
   "metadata": {},
   "source": [
    "\\[\n",
    "\\frac{d}{dx} (x^n) = n \\cdot x^{n-1}\n",
    "\\]"
   ]
  },
  {
   "cell_type": "markdown",
   "id": "8c708285",
   "metadata": {},
   "source": [
    "Example:"
   ]
  },
  {
   "cell_type": "markdown",
   "id": "17c6af47",
   "metadata": {},
   "source": [
    "\\[\n",
    "\\frac{d}{dx} (x^3) = 3x^2\n",
    "\\]"
   ]
  },
  {
   "cell_type": "markdown",
   "id": "79777634",
   "metadata": {},
   "source": [
    "# Chain rule"
   ]
  },
  {
   "cell_type": "markdown",
   "id": "3c99fcc4",
   "metadata": {},
   "source": [
    "\\[\n",
    "\\frac{d}{dx} f(g(x)) = \\frac{df(g(x))}{dg(x)} \\cdot \\frac{dg(x)}{dx}\n",
    "\\]"
   ]
  },
  {
   "cell_type": "markdown",
   "id": "963d76e2",
   "metadata": {},
   "source": [
    "Or it can also be written as:"
   ]
  },
  {
   "cell_type": "markdown",
   "id": "7a27a9cb",
   "metadata": {},
   "source": [
    "Let’s denote \\(u = g(x)\\):"
   ]
  },
  {
   "cell_type": "markdown",
   "id": "4a303a3c",
   "metadata": {},
   "source": [
    "\\[\n",
    "\\frac{d}{dx} f(u) = \\frac{df(u)}{du} \\cdot \\frac{du}{dx}\n",
    "\\]"
   ]
  },
  {
   "cell_type": "markdown",
   "id": "df6873d7",
   "metadata": {},
   "source": [
    "Please remember this rule, it will be used a lot in deep learning."
   ]
  }
 ],
 "metadata": {},
 "nbformat": 4,
 "nbformat_minor": 5
}
