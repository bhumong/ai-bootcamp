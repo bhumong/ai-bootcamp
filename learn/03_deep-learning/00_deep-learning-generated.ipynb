{
 "cells": [
  {
   "cell_type": "markdown",
   "id": "a61c9561",
   "metadata": {},
   "source": [
    "source: [https://ai-bootcamp.ruangguru.com/learn/03_deep-learning/00_deep-learning.html](https://ai-bootcamp.ruangguru.com/learn/03_deep-learning/00_deep-learning.html)"
   ]
  },
  {
   "cell_type": "markdown",
   "id": "341915eb",
   "metadata": {},
   "source": [
    "# Deep Learning"
   ]
  },
  {
   "cell_type": "markdown",
   "id": "5764fd5f",
   "metadata": {},
   "source": [
    "# Concept"
   ]
  },
  {
   "cell_type": "markdown",
   "id": "62dd39d2",
   "metadata": {},
   "source": [
    "One of goal of the deep learning algorithm is to find the best function with minimum lost value. Rather than manually adjusting the weight and bias of the function, we can use the gradient descent algorithm to find the best function."
   ]
  },
  {
   "cell_type": "markdown",
   "id": "5593a189",
   "metadata": {},
   "source": [
    "y = ax + b"
   ]
  },
  {
   "cell_type": "markdown",
   "id": "2fa57026",
   "metadata": {},
   "source": [
    "a is the weight and b is the bias."
   ]
  },
  {
   "cell_type": "markdown",
   "id": "0ba0d406",
   "metadata": {},
   "source": [
    "In the case of three variables:"
   ]
  },
  {
   "cell_type": "markdown",
   "id": "36c271a8",
   "metadata": {},
   "source": [
    "z = ax + by + c"
   ]
  },
  {
   "cell_type": "markdown",
   "id": "cb133734",
   "metadata": {},
   "source": [
    "a and b are the weights and c is the bias."
   ]
  },
  {
   "cell_type": "code",
   "execution_count": null,
   "id": "57779930",
   "metadata": {},
   "outputs": [],
   "source": [
    "import numpy as np\n",
    "\n",
    "x_data = np.random.rand(100) * 10\n",
    "noise = np.random.normal(0, 2, x_data.shape)\n",
    "y_data = 3*x_data + 8 + noise"
   ]
  },
  {
   "cell_type": "code",
   "execution_count": null,
   "id": "80bbf002",
   "metadata": {},
   "outputs": [],
   "source": [
    "# plot the data\n",
    "\n",
    "import matplotlib.pyplot as plt\n",
    "plt.scatter(x_data, y_data)\n",
    "plt.show()"
   ]
  },
  {
   "cell_type": "markdown",
   "id": "d4c4f69d",
   "metadata": {},
   "source": []
  },
  {
   "cell_type": "markdown",
   "id": "71f8a683",
   "metadata": {},
   "source": [
    "Now let’s create a simple neural network to automatically find the best function."
   ]
  },
  {
   "cell_type": "markdown",
   "id": "120e5513",
   "metadata": {},
   "source": [
    "(You may skip the code at this moment, we will explain it in the next section.)"
   ]
  },
  {
   "cell_type": "code",
   "execution_count": null,
   "id": "4985ec30",
   "metadata": {},
   "outputs": [],
   "source": [
    "# solve the equation above using pytorch\n",
    "\n",
    "import torch\n",
    "\n",
    "class MySimpleNeuralNetwork(torch.nn.Module):\n",
    "    def __init__(self):\n",
    "        super().__init__()\n",
    "        self.linear = torch.nn.Linear(1, 1)\n",
    "\n",
    "    def forward(self, x):\n",
    "        return self.linear(x)\n",
    "\n",
    "\n",
    "def loss(y, y_pred):\n",
    "    return ((y_pred - y)**2).mean()\n",
    "\n",
    "\n",
    "model = MySimpleNeuralNetwork()\n",
    "optimizer = torch.optim.SGD(model.parameters(), lr=0.01)\n",
    "\n",
    "x_tensor = torch.from_numpy(x_data).float().view(-1, 1)\n",
    "y_tensor = torch.from_numpy(y_data).float().view(-1, 1)\n",
    "\n",
    "for epoch in range(100):\n",
    "    y_pred = model(x_tensor)\n",
    "    l = loss(y_tensor, y_pred)\n",
    "    optimizer.zero_grad()\n",
    "    l.backward()\n",
    "    optimizer.step()\n",
    "\n",
    "    if epoch % 10 == 0:\n",
    "        print(f'epoch {epoch+1}, loss {l.item():.4f}, w {model.linear.weight.item():.4f}, b {model.linear.bias.item():.4f}')"
   ]
  },
  {
   "cell_type": "code",
   "execution_count": null,
   "id": "9d08634c",
   "metadata": {},
   "outputs": [],
   "source": [
    "epoch 1, loss 634.9247, w 2.6423, b 1.3815\n",
    "epoch 11, loss 13.7847, w 3.9210, b 1.9116\n",
    "epoch 21, loss 12.7600, w 3.8742, b 2.2269\n",
    "epoch 31, loss 11.8386, w 3.8297, b 2.5259\n",
    "epoch 41, loss 11.0100, w 3.7875, b 2.8095\n",
    "epoch 51, loss 10.2649, w 3.7475, b 3.0784\n",
    "epoch 61, loss 9.5949, w 3.7096, b 3.3334\n",
    "epoch 71, loss 8.9924, w 3.6736, b 3.5752\n",
    "epoch 81, loss 8.4506, w 3.6395, b 3.8044\n",
    "epoch 91, loss 7.9635, w 3.6072, b 4.0219"
   ]
  },
  {
   "cell_type": "code",
   "execution_count": null,
   "id": "056beb39",
   "metadata": {},
   "outputs": [],
   "source": [
    "# Plot the result\n",
    "plt.scatter(x_data, y_data)\n",
    "plt.plot(x_data, model(x_tensor).detach().numpy(), 'r')\n",
    "\n",
    "plt.title('y = {:.4f}x + {:.4f}'.format(model.linear.weight.item(), model.linear.bias.item()))"
   ]
  },
  {
   "cell_type": "code",
   "execution_count": null,
   "id": "c8c18928",
   "metadata": {},
   "outputs": [],
   "source": [
    "Text(0.5, 1.0, 'y = 3.5795x + 4.2079')"
   ]
  },
  {
   "cell_type": "markdown",
   "id": "7f5f73a5",
   "metadata": {},
   "source": []
  },
  {
   "cell_type": "markdown",
   "id": "0f80fdce",
   "metadata": {},
   "source": [
    "Let’s continue with more epoch"
   ]
  },
  {
   "cell_type": "code",
   "execution_count": null,
   "id": "d32a52b4",
   "metadata": {},
   "outputs": [],
   "source": [
    "\n",
    "for epoch in range(200):\n",
    "    y_pred = model(x_tensor)\n",
    "    l = loss(y_tensor, y_pred)\n",
    "    optimizer.zero_grad()\n",
    "    l.backward()\n",
    "    optimizer.step()\n",
    "\n",
    "    if epoch % 10 == 0:\n",
    "        print(f'epoch {epoch+1}, loss {l.item():.4f}, w {model.linear.weight.item():.4f}, b {model.linear.bias.item():.4f}')"
   ]
  },
  {
   "cell_type": "code",
   "execution_count": null,
   "id": "b71c7d50",
   "metadata": {},
   "outputs": [],
   "source": [
    "epoch 1, loss 7.5254, w 3.5765, b 4.2280\n",
    "epoch 11, loss 7.1314, w 3.5474, b 4.4236\n",
    "epoch 21, loss 6.7772, w 3.5198, b 4.6090\n",
    "epoch 31, loss 6.4587, w 3.4937, b 4.7848\n",
    "epoch 41, loss 6.1722, w 3.4689, b 4.9515\n",
    "epoch 51, loss 5.9146, w 3.4454, b 5.1096\n",
    "epoch 61, loss 5.6830, w 3.4231, b 5.2595\n",
    "epoch 71, loss 5.4747, w 3.4019, b 5.4017\n",
    "epoch 81, loss 5.2874, w 3.3819, b 5.5365\n",
    "epoch 91, loss 5.1190, w 3.3628, b 5.6643\n",
    "epoch 101, loss 4.9676, w 3.3448, b 5.7856\n",
    "epoch 111, loss 4.8314, w 3.3277, b 5.9005\n",
    "epoch 121, loss 4.7089, w 3.3115, b 6.0095\n",
    "epoch 131, loss 4.5988, w 3.2961, b 6.1129\n",
    "epoch 141, loss 4.4998, w 3.2815, b 6.2109\n",
    "epoch 151, loss 4.4107, w 3.2677, b 6.3039\n",
    "epoch 161, loss 4.3306, w 3.2546, b 6.3920\n",
    "epoch 171, loss 4.2586, w 3.2422, b 6.4756\n",
    "epoch 181, loss 4.1939, w 3.2304, b 6.5549\n",
    "epoch 191, loss 4.1357, w 3.2192, b 6.6300"
   ]
  },
  {
   "cell_type": "code",
   "execution_count": null,
   "id": "23532e80",
   "metadata": {},
   "outputs": [],
   "source": [
    "# Plot the result\n",
    "plt.scatter(x_data, y_data)\n",
    "plt.plot(x_data, model(x_tensor).detach().numpy(), 'r')\n",
    "\n",
    "plt.title('y = {:.4f}x + {:.4f}'.format(model.linear.weight.item(), model.linear.bias.item()))"
   ]
  },
  {
   "cell_type": "code",
   "execution_count": null,
   "id": "28ece0cc",
   "metadata": {},
   "outputs": [],
   "source": [
    "Text(0.5, 1.0, 'y = 3.2096x + 6.6944')"
   ]
  },
  {
   "cell_type": "markdown",
   "id": "607d0449",
   "metadata": {},
   "source": []
  },
  {
   "cell_type": "code",
   "execution_count": null,
   "id": "377b57cf",
   "metadata": {},
   "outputs": [],
   "source": [
    "from fastbook import *\n",
    "\n",
    "#Visualize the neural network, input -> node -> output\n",
    "gv('''\n",
    "input -> \"n1\" [label=3]\n",
    "bias -> \"n1\" [label=8]\n",
    "\"n1\" -> output\n",
    "''')"
   ]
  },
  {
   "cell_type": "markdown",
   "id": "38e1d1cf",
   "metadata": {},
   "source": []
  },
  {
   "cell_type": "markdown",
   "id": "a799dfb6",
   "metadata": {},
   "source": [
    "Experiment more here: https://playground.tensorflow.org/"
   ]
  },
  {
   "cell_type": "markdown",
   "id": "e1af29b5",
   "metadata": {},
   "source": [
    "# Non Linear Function"
   ]
  },
  {
   "cell_type": "markdown",
   "id": "d249188a",
   "metadata": {},
   "source": [
    "Some problems doesn’t have linear relationship. In this case, linear function is not enough to solve the problem. We need to use non-linear function."
   ]
  },
  {
   "cell_type": "markdown",
   "id": "e6662b9b",
   "metadata": {},
   "source": [
    "Example:"
   ]
  },
  {
   "cell_type": "code",
   "execution_count": null,
   "id": "1da5ddb8",
   "metadata": {},
   "outputs": [],
   "source": [
    "# create a non linear data with single feature\n",
    "# y = sin(x) + noise\n",
    "\n",
    "x_data = np.random.rand(100) * 10\n",
    "noise = np.random.normal(0, 0.1, x_data.shape)\n",
    "y_data = np.sin(x_data) ** 3 + noise\n",
    "\n",
    "# plot the data\n",
    "plt.scatter(x_data, y_data)\n",
    "plt.show()"
   ]
  },
  {
   "cell_type": "markdown",
   "id": "81d42b90",
   "metadata": {},
   "source": []
  },
  {
   "cell_type": "code",
   "execution_count": null,
   "id": "73c3eb96",
   "metadata": {},
   "outputs": [],
   "source": [
    "# solve the equation above using pytorch\n",
    "\n",
    "import torch\n",
    "\n",
    "class MySimpleNeuralNetwork(torch.nn.Module):\n",
    "    def __init__(self):\n",
    "        super().__init__()\n",
    "        self.linear = torch.nn.Linear(1, 1)\n",
    "\n",
    "    def forward(self, x):\n",
    "        return self.linear(x)\n",
    "\n",
    "\n",
    "def loss(y, y_pred):\n",
    "    return ((y_pred - y)**2).mean()\n",
    "\n",
    "\n",
    "model = MySimpleNeuralNetwork()\n",
    "optimizer = torch.optim.SGD(model.parameters(), lr=0.01)\n",
    "\n",
    "x_tensor = torch.from_numpy(x_data).float().view(-1, 1)\n",
    "y_tensor = torch.from_numpy(y_data).float().view(-1, 1)\n",
    "\n",
    "for epoch in range(100):\n",
    "    y_pred = model(x_tensor)\n",
    "    l = loss(y_tensor, y_pred)\n",
    "    optimizer.zero_grad()\n",
    "    l.backward()\n",
    "    optimizer.step()\n",
    "\n",
    "    if epoch % 10 == 0:\n",
    "        print(f'epoch {epoch+1}, loss {l.item():.4f}, w {model.linear.weight.item():.4f}, b {model.linear.bias.item():.4f}')"
   ]
  },
  {
   "cell_type": "code",
   "execution_count": null,
   "id": "d7671e22",
   "metadata": {},
   "outputs": [],
   "source": [
    "epoch 1, loss 14.1075, w 0.2398, b -0.4101\n",
    "epoch 11, loss 0.3650, w 0.0678, b -0.4115\n",
    "epoch 21, loss 0.3599, w 0.0645, b -0.3891\n",
    "epoch 31, loss 0.3552, w 0.0614, b -0.3679\n",
    "epoch 41, loss 0.3510, w 0.0584, b -0.3476\n",
    "epoch 51, loss 0.3472, w 0.0555, b -0.3282\n",
    "epoch 61, loss 0.3437, w 0.0528, b -0.3098\n",
    "epoch 71, loss 0.3405, w 0.0502, b -0.2922\n",
    "epoch 81, loss 0.3376, w 0.0478, b -0.2754\n",
    "epoch 91, loss 0.3349, w 0.0454, b -0.2594"
   ]
  },
  {
   "cell_type": "code",
   "execution_count": null,
   "id": "fe76258d",
   "metadata": {},
   "outputs": [],
   "source": [
    "# Plot the model\n",
    "plt.scatter(x_data, y_data)\n",
    "plt.scatter(x_data, model(x_tensor).detach().numpy(), s=10, c='r')\n",
    "\n",
    "plt.show()"
   ]
  },
  {
   "cell_type": "markdown",
   "id": "56e9202a",
   "metadata": {},
   "source": []
  },
  {
   "cell_type": "markdown",
   "id": "5c7d39bc",
   "metadata": {},
   "source": [
    "Our linear function is not good enough. How about if we add more layer?"
   ]
  },
  {
   "cell_type": "code",
   "execution_count": null,
   "id": "fdda957a",
   "metadata": {},
   "outputs": [],
   "source": [
    "# solve the equation above using pytorch\n",
    "\n",
    "import torch\n",
    "\n",
    "class MySimpleNeuralNetwork(torch.nn.Module):\n",
    "    def __init__(self):\n",
    "        super().__init__()\n",
    "        self.linear_1 = torch.nn.Linear(1, 10)\n",
    "        self.linear_2 = torch.nn.Linear(10, 10)\n",
    "        self.linear_3 = torch.nn.Linear(10, 1)\n",
    "\n",
    "    def forward(self, x):\n",
    "        return self.linear_3(self.linear_2(self.linear_1(x)))\n",
    "\n",
    "\n",
    "def loss(y, y_pred):\n",
    "    return ((y_pred - y)**2).mean()\n",
    "\n",
    "\n",
    "model = MySimpleNeuralNetwork()\n",
    "optimizer = torch.optim.SGD(model.parameters(), lr=0.01)\n",
    "\n",
    "x_tensor = torch.from_numpy(x_data).float().view(-1, 1)\n",
    "y_tensor = torch.from_numpy(y_data).float().view(-1, 1)\n",
    "\n",
    "for epoch in range(100):\n",
    "    y_pred = model(x_tensor)\n",
    "    l = loss(y_tensor, y_pred)\n",
    "    optimizer.zero_grad()\n",
    "    l.backward()\n",
    "    optimizer.step()\n",
    "\n",
    "    if epoch % 10 == 0:\n",
    "        print(f'epoch {epoch}, loss {l.item():.4f}')"
   ]
  },
  {
   "cell_type": "code",
   "execution_count": null,
   "id": "4d20f93c",
   "metadata": {},
   "outputs": [],
   "source": [
    "epoch 0, loss 0.4440\n",
    "epoch 10, loss 0.3502\n",
    "epoch 20, loss 0.3346\n",
    "epoch 30, loss 0.3250\n",
    "epoch 40, loss 0.3191\n",
    "epoch 50, loss 0.3153\n",
    "epoch 60, loss 0.3129\n",
    "epoch 70, loss 0.3114\n",
    "epoch 80, loss 0.3104\n",
    "epoch 90, loss 0.3098"
   ]
  },
  {
   "cell_type": "code",
   "execution_count": null,
   "id": "94af2386",
   "metadata": {},
   "outputs": [],
   "source": [
    "# Plot the model\n",
    "plt.scatter(x_data, y_data)\n",
    "plt.scatter(x_data, model(x_tensor).detach().numpy(), s=10, c='r')\n",
    "\n",
    "plt.show()"
   ]
  },
  {
   "cell_type": "markdown",
   "id": "02951e9f",
   "metadata": {},
   "source": []
  },
  {
   "cell_type": "markdown",
   "id": "dd1a9e70",
   "metadata": {},
   "source": [
    "Hmm not good enough, we need to add non-linearity to our function."
   ]
  },
  {
   "cell_type": "code",
   "execution_count": null,
   "id": "f2a29cee",
   "metadata": {},
   "outputs": [],
   "source": [
    "# solve the equation above using pytorch\n",
    "\n",
    "import torch\n",
    "\n",
    "class MySimpleNeuralNetwork(torch.nn.Module):\n",
    "    def __init__(self):\n",
    "        super().__init__()\n",
    "        self.linear_1 = torch.nn.Linear(1, 100)\n",
    "        self.linear_2 = torch.nn.Linear(100, 100)\n",
    "        self.linear_3 = torch.nn.Linear(100, 1)\n",
    "        self.relu = torch.nn.ReLU()\n",
    "\n",
    "    def forward(self, x):\n",
    "        return self.linear_3(self.relu(self.linear_2(self.relu(self.linear_1(x)))))\n",
    "\n",
    "\n",
    "def loss(y, y_pred):\n",
    "    return ((y_pred - y)**2).mean()\n",
    "\n",
    "\n",
    "model = MySimpleNeuralNetwork()\n",
    "optimizer = torch.optim.SGD(model.parameters(), lr=0.01)\n",
    "\n",
    "x_tensor = torch.from_numpy(x_data).float().view(-1, 1)\n",
    "y_tensor = torch.from_numpy(y_data).float().view(-1, 1)\n",
    "\n",
    "for epoch in range(10000):\n",
    "    y_pred = model(x_tensor)\n",
    "    l = loss(y_tensor, y_pred)\n",
    "    optimizer.zero_grad()\n",
    "    l.backward()\n",
    "    optimizer.step()\n",
    "\n",
    "    if epoch % 1000 == 0:\n",
    "        print(f'epoch {epoch}, loss {l.item():.4f}')"
   ]
  },
  {
   "cell_type": "code",
   "execution_count": null,
   "id": "c48eacfc",
   "metadata": {},
   "outputs": [],
   "source": [
    "epoch 0, loss 0.3111\n",
    "epoch 1000, loss 0.1667\n",
    "epoch 2000, loss 0.1191\n",
    "epoch 3000, loss 0.1051\n",
    "epoch 4000, loss 0.0926\n",
    "epoch 5000, loss 0.0755\n",
    "epoch 6000, loss 0.0586\n",
    "epoch 7000, loss 0.0456\n",
    "epoch 8000, loss 0.0352\n",
    "epoch 9000, loss 0.0280"
   ]
  },
  {
   "cell_type": "code",
   "execution_count": null,
   "id": "a9dae3cf",
   "metadata": {},
   "outputs": [],
   "source": [
    "plt.scatter(x_data, y_data)\n",
    "# Plot the model output using scatter plot\n",
    "plt.scatter(x_data, model(x_tensor).detach().numpy(), s=10, c='r')\n",
    "\n",
    "plt.show()"
   ]
  },
  {
   "cell_type": "markdown",
   "id": "9d0ec25a",
   "metadata": {},
   "source": []
  },
  {
   "cell_type": "markdown",
   "id": "3476db2c",
   "metadata": {},
   "source": [
    "# Non Linear Function (3D)"
   ]
  },
  {
   "cell_type": "markdown",
   "id": "b834ee4c",
   "metadata": {},
   "source": [
    "How about non linear with two variables?"
   ]
  },
  {
   "cell_type": "code",
   "execution_count": null,
   "id": "c6041c0f",
   "metadata": {},
   "outputs": [],
   "source": [
    "import numpy as np\n",
    "import matplotlib.pyplot as plt\n",
    "from mpl_toolkits.mplot3d import Axes3D\n",
    "\n",
    "# Generate circle data set for regression\n",
    "n_samples = 1000\n",
    "X = np.random.rand(n_samples, 2) * 2 - 1\n",
    "y = np.sqrt(X[:, 0]**2 + X[:, 1]**2)\n",
    "# add noise to y\n",
    "y += 0.1 * np.random.randn(n_samples)\n",
    "\n",
    "# Create a 3D scatter plot\n",
    "fig = plt.figure()\n",
    "ax = fig.add_subplot(111, projection='3d')\n",
    "ax.scatter(X[:, 0], X[:, 1], y)\n",
    "\n",
    "# Set the x, y, and z labels\n",
    "ax.set_xlabel('X')\n",
    "ax.set_ylabel('Y')\n",
    "ax.set_zlabel('Target')\n",
    "\n",
    "plt.show()"
   ]
  },
  {
   "cell_type": "markdown",
   "id": "8c06cfaa",
   "metadata": {},
   "source": []
  },
  {
   "cell_type": "code",
   "execution_count": null,
   "id": "a1b20d67",
   "metadata": {},
   "outputs": [],
   "source": [
    "# solve the equation above using pytorch\n",
    "\n",
    "import torch\n",
    "\n",
    "class MySimpleNeuralNetwork(torch.nn.Module):\n",
    "    def __init__(self):\n",
    "        super().__init__()\n",
    "        self.linear_1 = torch.nn.Linear(2, 100)\n",
    "        self.linear_2 = torch.nn.Linear(100, 100)\n",
    "        self.linear_3 = torch.nn.Linear(100, 1)\n",
    "        # self.relu = torch.nn.ReLU()\n",
    "\n",
    "    def forward(self, x):\n",
    "        # return self.relu(self.linear_3(self.relu(self.linear_2(self.relu(self.linear_1(x))))))\n",
    "        return self.linear_3(self.linear_2(self.linear_1(x)))\n",
    "    \n",
    "loss = torch.nn.MSELoss()\n",
    "\n",
    "model = MySimpleNeuralNetwork()\n",
    "optimizer = torch.optim.Adam(model.parameters(), lr=0.01)\n",
    "\n",
    "x_tensor = torch.from_numpy(X).float()\n",
    "y_tensor = torch.from_numpy(y).float().view(-1, 1)\n",
    "\n",
    "for epoch in range(1000):\n",
    "    y_pred = model(x_tensor)\n",
    "    l = loss(y_tensor, y_pred)\n",
    "    optimizer.zero_grad()\n",
    "    l.backward()\n",
    "    optimizer.step()\n",
    "\n",
    "    if epoch % 100 == 0:\n",
    "        print(f'epoch {epoch+1}, loss {l.item():.4f}')"
   ]
  },
  {
   "cell_type": "code",
   "execution_count": null,
   "id": "7b79daa7",
   "metadata": {},
   "outputs": [],
   "source": [
    "epoch 1, loss 0.8750\n",
    "epoch 101, loss 0.0946\n",
    "epoch 201, loss 0.0946\n",
    "epoch 301, loss 0.0946\n",
    "epoch 401, loss 0.0946\n",
    "epoch 501, loss 0.0946\n",
    "epoch 601, loss 0.0946\n",
    "epoch 701, loss 0.0946\n",
    "epoch 801, loss 0.0946\n",
    "epoch 901, loss 0.0946"
   ]
  },
  {
   "cell_type": "code",
   "execution_count": null,
   "id": "465d27f8",
   "metadata": {},
   "outputs": [],
   "source": [
    "# Plot the result\n",
    "\n",
    "\n",
    "# Create a 3D scatter plot\n",
    "fig = plt.figure()\n",
    "ax = fig.add_subplot(111, projection='3d')\n",
    "ax.scatter(X[:, 0], X[:, 1], y)\n",
    "\n",
    "# Set the x, y, and z labels\n",
    "ax.set_xlabel('X')\n",
    "ax.set_ylabel('Y')\n",
    "ax.set_zlabel('Target')\n",
    "\n",
    "# draw the model\n",
    "ax.scatter(X[:, 0], X[:, 1], model(x_tensor).detach().numpy(), c='r')\n",
    "\n",
    "plt.show()"
   ]
  },
  {
   "cell_type": "markdown",
   "id": "645ec32e",
   "metadata": {},
   "source": []
  },
  {
   "cell_type": "code",
   "execution_count": null,
   "id": "de7fcf3c",
   "metadata": {},
   "outputs": [],
   "source": [
    "# solve the equation above using pytorch\n",
    "\n",
    "import torch\n",
    "\n",
    "class MySimpleNeuralNetwork(torch.nn.Module):\n",
    "    def __init__(self):\n",
    "        super().__init__()\n",
    "        self.linear_1 = torch.nn.Linear(2, 100)\n",
    "        self.linear_2 = torch.nn.Linear(100, 100)\n",
    "        self.linear_3 = torch.nn.Linear(100, 1)\n",
    "        self.relu = torch.nn.ReLU()\n",
    "\n",
    "    def forward(self, x):\n",
    "        return self.relu(self.linear_3(self.relu(self.linear_2(self.relu(self.linear_1(x))))))\n",
    "    \n",
    "loss = torch.nn.MSELoss()\n",
    "\n",
    "model = MySimpleNeuralNetwork()\n",
    "optimizer = torch.optim.Adam(model.parameters(), lr=0.01)\n",
    "\n",
    "x_tensor = torch.from_numpy(X).float()\n",
    "y_tensor = torch.from_numpy(y).float().view(-1, 1)\n",
    "\n",
    "for epoch in range(1000):\n",
    "    y_pred = model(x_tensor)\n",
    "    l = loss(y_tensor, y_pred)\n",
    "    optimizer.zero_grad()\n",
    "    l.backward()\n",
    "    optimizer.step()\n",
    "\n",
    "    if epoch % 100 == 0:\n",
    "        print(f'epoch {epoch+1}, loss {l.item():.4f}')"
   ]
  },
  {
   "cell_type": "code",
   "execution_count": null,
   "id": "e567ec7c",
   "metadata": {},
   "outputs": [],
   "source": [
    "epoch 1, loss 0.6848\n",
    "epoch 101, loss 0.0101\n",
    "epoch 201, loss 0.0095\n",
    "epoch 301, loss 0.0093\n",
    "epoch 401, loss 0.0092\n",
    "epoch 501, loss 0.0090\n",
    "epoch 601, loss 0.0089\n",
    "epoch 701, loss 0.0088\n",
    "epoch 801, loss 0.0088\n",
    "epoch 901, loss 0.0088"
   ]
  },
  {
   "cell_type": "code",
   "execution_count": null,
   "id": "cd444080",
   "metadata": {},
   "outputs": [],
   "source": [
    "# Plot the result\n",
    "\n",
    "\n",
    "# Create a 3D scatter plot\n",
    "fig = plt.figure()\n",
    "ax = fig.add_subplot(111, projection='3d')\n",
    "ax.scatter(X[:, 0], X[:, 1], y)\n",
    "\n",
    "# Set the x, y, and z labels\n",
    "ax.set_xlabel('X')\n",
    "ax.set_ylabel('Y')\n",
    "ax.set_zlabel('Target')\n",
    "\n",
    "# draw the model\n",
    "ax.scatter(X[:, 0], X[:, 1], model(x_tensor).detach().numpy(), c='r')\n",
    "\n",
    "plt.show()"
   ]
  },
  {
   "cell_type": "markdown",
   "id": "dccb291e",
   "metadata": {},
   "source": []
  }
 ],
 "metadata": {},
 "nbformat": 4,
 "nbformat_minor": 5
}
