{
 "cells": [
  {
   "cell_type": "markdown",
   "id": "4f0e5b5a",
   "metadata": {},
   "source": [
    "source: [https://ai-bootcamp.ruangguru.com/learn/09_mlops/00_docker/02_deploy_docker_images.html](https://ai-bootcamp.ruangguru.com/learn/09_mlops/00_docker/02_deploy_docker_images.html)"
   ]
  },
  {
   "cell_type": "markdown",
   "id": "aa53e14e",
   "metadata": {},
   "source": [
    "# Deploying Python Apps with Docker Compose"
   ]
  },
  {
   "cell_type": "markdown",
   "id": "d9e626b0",
   "metadata": {},
   "source": [
    "After playing with Docker and building our own image using Docker build, you understand that Docker is all about creating, deploying, and running applications by using containerization, right? Docker Compose builds on this concept and simplifies the process of managing multiple Docker containers at once."
   ]
  },
  {
   "cell_type": "markdown",
   "id": "f75ae462",
   "metadata": {},
   "source": [
    "# Introduction to Docker Compose"
   ]
  },
  {
   "cell_type": "markdown",
   "id": "4f51fe0f",
   "metadata": {},
   "source": [
    "Docker Compose is a tool for defining and managing multi-container Docker applications. But what does multi-container means? Do we even need multi-container?"
   ]
  },
  {
   "cell_type": "markdown",
   "id": "ed1294af",
   "metadata": {},
   "source": [
    "Docker Compose is a tool that allows you to orchestrate multiple Docker containers at the same time. It lets you manage the lifecycle of multiple containers as a single unit, which is incredibly useful when you have an application that consists of multiple services running in separate containers."
   ]
  },
  {
   "cell_type": "markdown",
   "id": "f43583ce",
   "metadata": {},
   "source": [
    "For example, consider a Python web application that interacts with an Elasticsearch database. In this scenario, you may have two Docker containers: one for your Python application and one for your Elasticsearch database. Without Docker Compose, you would have to individually manage these containers, which can be tedious. With Docker Compose, you can start, stop, and scale both these containers together by writing a simple YAML configuration file named docker-compose.yml."
   ]
  },
  {
   "cell_type": "markdown",
   "id": "5cbc9be4",
   "metadata": {},
   "source": [
    "# Understanding docker-compose.yml"
   ]
  },
  {
   "cell_type": "markdown",
   "id": "171df8b2",
   "metadata": {},
   "source": [
    "The YAML file (by default, docker-compose.yml) configures the application’s services and creates and starts all the services from your configuration."
   ]
  },
  {
   "cell_type": "markdown",
   "id": "d537f383",
   "metadata": {},
   "source": [
    "Here’s a breakdown of a python app example:"
   ]
  },
  {
   "cell_type": "code",
   "execution_count": null,
   "id": "ecc01bc8",
   "metadata": {},
   "outputs": [],
   "source": [
    "version: \"3\"\n",
    "services:\n",
    "  web:\n",
    "    build: .\n",
    "    command: python myapp.py runserver 0.0.0.0:8000\n",
    "    volumes:\n",
    "      - .:/code\n",
    "    ports:\n",
    "      - 8000:8000"
   ]
  },
  {
   "cell_type": "markdown",
   "id": "a090ce7f",
   "metadata": {},
   "source": [
    "- version: Specifies the Docker Compose file format version.\n",
    "- services: This section is where you define your services (containers). In this example, you have one service calledweb.\n",
    "- build: .: This tells Docker to build an image using the Dockerfile in the current directory.\n",
    "- command: This is the command that gets executed inside of your container. In this case, it runs your Python app on port 8000.\n",
    "- volumes: The.refers to the current directory on your host machine, and/codeis the path inside the container. This line is essentially syncing your host machine’s current directory with the/codedirectory inside the container.\n",
    "- ports: This section is for port mapping. It maps port 8000 of the container to port 8000 of your host machine."
   ]
  },
  {
   "cell_type": "markdown",
   "id": "fe144372",
   "metadata": {},
   "source": [
    "What if we want to add another container, for example Elasticsearch?"
   ]
  },
  {
   "cell_type": "markdown",
   "id": "a3b2caa2",
   "metadata": {},
   "source": [
    "In your docker-compose.yml, you would add a new service for Elasticsearch. Here’s an example of what that might look like:"
   ]
  },
  {
   "cell_type": "code",
   "execution_count": null,
   "id": "3891f22e",
   "metadata": {},
   "outputs": [],
   "source": [
    "version: \"3\"\n",
    "services:\n",
    "  web:\n",
    "    build: .\n",
    "    command: python myapp.py runserver 0.0.0.0:8000\n",
    "    volumes:\n",
    "      - .:/code\n",
    "    ports:\n",
    "      - 8000:8000\n",
    "    depends_on:\n",
    "      - elasticsearch\n",
    "  elasticsearch:\n",
    "    image: docker.elastic.co/elasticsearch/elasticsearch:7.6.2\n",
    "    environment:\n",
    "      - discovery.type=single-node\n",
    "    ports:\n",
    "      - 9200:9200"
   ]
  },
  {
   "cell_type": "markdown",
   "id": "267ace32",
   "metadata": {},
   "source": [
    "In this example, we’ve added the elasticsearch service to our Docker Compose file. It uses an official Elasticsearch image (docker.elastic.co/elasticsearch/elasticsearch:7.6.2). We’ve also specified an environment variable (discovery.type=single-node) to run Elasticsearch in single-node mode."
   ]
  },
  {
   "cell_type": "markdown",
   "id": "0ba2fa77",
   "metadata": {},
   "source": [
    "The depends_on option under the web service ensures that the web service only starts once the elasticsearch service is up and running."
   ]
  },
  {
   "cell_type": "markdown",
   "id": "b3f25a1e",
   "metadata": {},
   "source": [
    "The ports section under the elasticsearch service maps the port 9200 of the container (the default port for Elasticsearch) to port 9200 on your host machine, allowing you to interact with Elasticsearch via localhost:9200."
   ]
  },
  {
   "cell_type": "markdown",
   "id": "6f1d9d7c",
   "metadata": {},
   "source": [
    "Remember to replace the image version (7.6.2 in this case) with the version of Elasticsearch you want to use."
   ]
  },
  {
   "cell_type": "markdown",
   "id": "615eeb68",
   "metadata": {},
   "source": [
    "# Scaling and Managing with Docker Compose"
   ]
  },
  {
   "cell_type": "markdown",
   "id": "dfee2a60",
   "metadata": {},
   "source": [
    "Docker Compose not only takes care of starting and stopping multi-container applications, but it also provides the ability to scale services. Using the --scale service command, you can easily scale up or down the number of containers running a particular service."
   ]
  },
  {
   "cell_type": "markdown",
   "id": "1148c869",
   "metadata": {},
   "source": [
    "For instance, if you want to run three instances of the “web” service, you would use:"
   ]
  },
  {
   "cell_type": "code",
   "execution_count": null,
   "id": "23a84e20",
   "metadata": {},
   "outputs": [],
   "source": [
    "docker-compose up --scale web=3"
   ]
  },
  {
   "cell_type": "markdown",
   "id": "69da2468",
   "metadata": {},
   "source": [
    "This command tells Docker Compose to run three containers for the “web” service."
   ]
  },
  {
   "cell_type": "markdown",
   "id": "4848823a",
   "metadata": {},
   "source": [
    "In a nutshell, Docker Compose enhances the Docker experience by managing the complexity of dealing with multi-container applications. It allows you to define, manage, and scale containers easily using just a single YAML configuration file."
   ]
  },
  {
   "cell_type": "markdown",
   "id": "b781b181",
   "metadata": {},
   "source": [
    "# Managing Your Docker Containers"
   ]
  },
  {
   "cell_type": "markdown",
   "id": "6eeee862",
   "metadata": {},
   "source": [
    "With Docker Compose, you can manage your Docker containers effectively. For example, to start your application, you would navigate to the directory containing your docker-compose.yml file and use the command docker-compose up. To stop your application, you would use docker-compose down."
   ]
  },
  {
   "cell_type": "markdown",
   "id": "dffadd6e",
   "metadata": {},
   "source": [
    "With the understanding of Docker Compose, you can easily manage multi-container Python applications. Docker Compose simplifies the process of dealing with applications that consist of multiple containers, allowing you to define, build and manage them as a single entity."
   ]
  }
 ],
 "metadata": {},
 "nbformat": 4,
 "nbformat_minor": 5
}
