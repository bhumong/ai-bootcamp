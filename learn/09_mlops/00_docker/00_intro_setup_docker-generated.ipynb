{
 "cells": [
  {
   "cell_type": "markdown",
   "id": "c7d27aca",
   "metadata": {},
   "source": [
    "source: [link](https://ai-bootcamp.ruangguru.com/learn/09_mlops/00_docker/00_intro_setup_docker.html)"
   ]
  },
  {
   "cell_type": "markdown",
   "id": "4dd8e27c",
   "metadata": {},
   "source": [
    "# Introduction to Docker"
   ]
  },
  {
   "cell_type": "markdown",
   "id": "6bfedfd7",
   "metadata": {},
   "source": [
    "One of the problem associated with collaborative work is caused by inconsistent environment. For example, you as an AI engineer is working on a Machine Learning (ML) model that works in your Windows environment, producing a model.exe file. The company server however runs on Linux, your AI engineer colleague, Dito is working with a MacOS environment and your model.exe doesn’t work on non-Windows environment. Then there is also the module dependency issues, installing them one-by-one for each and every computer is such a hassle."
   ]
  },
  {
   "cell_type": "markdown",
   "id": "4fe859c3",
   "metadata": {},
   "source": [
    "This is where Docker comes in handy. Docker is an open-source platform that utilizes OS-level virtualization to deliver software in packages called containers. It has become a popular tool among developers, including AI engineers and system administrators due to its ability to guarantee consistency across multiple development and release cycles."
   ]
  },
  {
   "cell_type": "markdown",
   "id": "096ebfe6",
   "metadata": {},
   "source": [
    "# Benefits of Using Docker Containers"
   ]
  },
  {
   "cell_type": "markdown",
   "id": "0b870651",
   "metadata": {},
   "source": [
    "There are several key benefits to using Docker containers:"
   ]
  },
  {
   "cell_type": "markdown",
   "id": "a5ed9477",
   "metadata": {},
   "source": [
    "In summary, Docker enables developers to easily pack, ship, and run any application as a lightweight, portable, self-sufficient container, which can run virtually anywhere. Containers are completely sandboxed and do not interface directly with the host OS, this ensures that they run uniformly, regardless of where they are deployed."
   ]
  },
  {
   "cell_type": "markdown",
   "id": "954dc92e",
   "metadata": {},
   "source": [
    "# Docker Terminology"
   ]
  },
  {
   "cell_type": "markdown",
   "id": "6024e840",
   "metadata": {},
   "source": [
    "Before we go into practical usage for Docker, let’s review two essential Docker terminology first:"
   ]
  },
  {
   "cell_type": "markdown",
   "id": "ae3223e5",
   "metadata": {},
   "source": [
    "Images: These are read-only templates with instructions for creating a Docker container. They can be based on other images and can have version tags."
   ]
  },
  {
   "cell_type": "markdown",
   "id": "eb17239e",
   "metadata": {},
   "source": [
    "Containers: A runnable instance of an image. You can create, start, stop, move, or delete a container using the Docker API or CLI. You can connect a container to one or more networks, attach storage to it, or even create a new image based on its current state."
   ]
  },
  {
   "cell_type": "markdown",
   "id": "02de6159",
   "metadata": {},
   "source": [
    "What is the difference between Images and Containers? Let’s use an analogy of food, “recipe” and “dishes”: - Docker images are like a recipe for a dish, containing a list of ingredients and steps to make it. They are static and unchangeable, yet can be shared and used to recreate the same dish anywhere. - Docker containers, on the other hand, are like the actual dishes prepared from the recipe. They are dynamic, can be started or stopped at any time, and don’t affect or interfere with other dishes (containers). All dishes made from the same recipe will have the same taste and nutrients, just like all containers created from the same Docker image will have the same software."
   ]
  },
  {
   "cell_type": "markdown",
   "id": "ecc6520d",
   "metadata": {},
   "source": [
    "Now, when we create a container, Docker will use an image which is automatically downloaded from the internet. This image is stored locally in our computer or our server if we are deploying to a server. Because an image is used like a recipe, there is only one needed in a local computer. We can created basically unlimited number of containers."
   ]
  },
  {
   "cell_type": "markdown",
   "id": "c51e5747",
   "metadata": {},
   "source": [
    "Now, let’s put the knowledge into practical use!"
   ]
  },
  {
   "cell_type": "markdown",
   "id": "b09eee3f",
   "metadata": {},
   "source": [
    "# Setting Up Docker"
   ]
  },
  {
   "cell_type": "markdown",
   "id": "6655c6a5",
   "metadata": {},
   "source": [
    "After understanding the basic concepts and benefits of Docker, let’s move on to setting it up on your system. This involves installation, configuration, downloading and running Docker images, and some basic Docker commands."
   ]
  },
  {
   "cell_type": "markdown",
   "id": "5bbf68a2",
   "metadata": {},
   "source": [
    "# Installation and Configuration of Docker on Your System"
   ]
  },
  {
   "cell_type": "markdown",
   "id": "b4cdc787",
   "metadata": {},
   "source": [
    "Installation of Docker differs based on the operating system you are using."
   ]
  },
  {
   "cell_type": "markdown",
   "id": "24a29214",
   "metadata": {},
   "source": [
    "For Linux: Docker provides a convenient script for installation on Linux systems. You can download and execute this script using the command below:"
   ]
  },
  {
   "cell_type": "code",
   "execution_count": null,
   "id": "72234bf6",
   "metadata": {},
   "outputs": [],
   "source": [
    "curl -fsSL https://get.docker.com -o get-docker.sh\n",
    "sudo sh get-docker.sh"
   ]
  },
  {
   "cell_type": "markdown",
   "id": "85a04555",
   "metadata": {},
   "source": [
    "For Windows and Mac: Docker Desktop is an easy-to-install application for your Mac or Windows environment that enables you to start coding and containerizing in minutes. Download Docker Desktop from the Docker Hub."
   ]
  },
  {
   "cell_type": "markdown",
   "id": "d0591821",
   "metadata": {},
   "source": [
    "Once Docker is installed, you can confirm that it’s working correctly by running: docker run hello-world."
   ]
  },
  {
   "cell_type": "markdown",
   "id": "95d06111",
   "metadata": {},
   "source": []
  },
  {
   "cell_type": "markdown",
   "id": "ade369bc",
   "metadata": {},
   "source": [
    "![Image](https://storage.googleapis.com/rg-ai-bootcamp/mlops/docker-hello-world.png)"
   ]
  },
  {
   "cell_type": "markdown",
   "id": "e366ffdd",
   "metadata": {},
   "source": [
    "# Downloading and Running Docker Images"
   ]
  },
  {
   "cell_type": "markdown",
   "id": "09c399a5",
   "metadata": {},
   "source": [
    "The Docker ecosystem have evolved so much that we don’t have to build the image ourselves, we can simply download Docker images from a registry such as Docker Hub. Once you have an image, you can launch a container from it. Let’s try running a Jupyter Notebook inside Docker:"
   ]
  },
  {
   "cell_type": "code",
   "execution_count": null,
   "id": "0df7adf8",
   "metadata": {},
   "outputs": [],
   "source": [
    "docker run -p 8888:8888 -d --name myjupyter jupyter/base-notebook"
   ]
  },
  {
   "cell_type": "markdown",
   "id": "f043c984",
   "metadata": {},
   "source": [
    "This command tells Docker to run a new container in detached mode (-d) using the jupyter/base-notebook image. The -p option maps port 8080 on the host to port 80 on the container. The --name option gives a name to the container."
   ]
  },
  {
   "cell_type": "markdown",
   "id": "44d7bfed",
   "metadata": {},
   "source": [
    "This command instructs Docker to run a new container in detached mode (-d) using the jupyter/base-notebook image. The -p option maps port 8888 on the host to port 8888 on the Jupyter notebook server running inside the container. The --name option provides a name for the container, in our case it’s myjupyter. Feel free to change the name for the container."
   ]
  },
  {
   "cell_type": "markdown",
   "id": "30a3193c",
   "metadata": {},
   "source": []
  },
  {
   "cell_type": "markdown",
   "id": "02696070",
   "metadata": {},
   "source": [
    "![Image](https://storage.googleapis.com/rg-ai-bootcamp/mlops/docker-jupyter-notebook.png)"
   ]
  },
  {
   "cell_type": "markdown",
   "id": "aff68eba",
   "metadata": {},
   "source": [
    "When you run this, the Jupyter Notebook server gets started inside the container at port 8888. It’s accessible from your host machine at localhost:8888."
   ]
  },
  {
   "cell_type": "markdown",
   "id": "b1af8b75",
   "metadata": {},
   "source": []
  },
  {
   "cell_type": "markdown",
   "id": "d126b4aa",
   "metadata": {},
   "source": [
    "![Image](https://storage.googleapis.com/rg-ai-bootcamp/mlops/docker-jupyter-notebook-browser-login.png)"
   ]
  },
  {
   "cell_type": "markdown",
   "id": "a1e2f975",
   "metadata": {},
   "source": [
    "Please note that when you run this command, the Jupyter Notebook server is started in the container and a token is generated. You will need this token to log in to the Jupyter Notebook server. You can see the token in the console logs by running:"
   ]
  },
  {
   "cell_type": "code",
   "execution_count": null,
   "id": "af0b4617",
   "metadata": {},
   "outputs": [],
   "source": [
    "docker logs myjupyter"
   ]
  },
  {
   "cell_type": "markdown",
   "id": "59e7280a",
   "metadata": {},
   "source": [
    "The console will output a URL that contains the token to access the Jupyter notebook."
   ]
  },
  {
   "cell_type": "markdown",
   "id": "9e873252",
   "metadata": {},
   "source": []
  },
  {
   "cell_type": "markdown",
   "id": "2caecc57",
   "metadata": {},
   "source": [
    "![Image](https://storage.googleapis.com/rg-ai-bootcamp/mlops/docker-jupyter-notebook-log.png)"
   ]
  },
  {
   "cell_type": "markdown",
   "id": "e6272f2a",
   "metadata": {},
   "source": [
    "We can input the token into the login page and we should arrive at this page:"
   ]
  },
  {
   "cell_type": "markdown",
   "id": "a89b7202",
   "metadata": {},
   "source": []
  },
  {
   "cell_type": "markdown",
   "id": "46df79ed",
   "metadata": {},
   "source": [
    "![Image](https://storage.googleapis.com/rg-ai-bootcamp/mlops/docker-jupyter-notebook-success-login.png)"
   ]
  },
  {
   "cell_type": "markdown",
   "id": "2f65c1ab",
   "metadata": {},
   "source": [
    "# Basic Docker Commands"
   ]
  },
  {
   "cell_type": "markdown",
   "id": "49720813",
   "metadata": {},
   "source": [
    "Let’s run through some basic Docker commands that you’ll most likely use on a regular basis. Don’t worry, we’ll walk you through each of these commands as we move forward."
   ]
  },
  {
   "cell_type": "markdown",
   "id": "0cb2c018",
   "metadata": {},
   "source": [
    "Understanding these basic Docker commands is crucial in your Docker journey as they offer the functionality required to manage your containers and images. Consequently, this makes application development more efficient, allowing you to focus more on creating amazing applications."
   ]
  },
  {
   "cell_type": "markdown",
   "id": "f9f5c92b",
   "metadata": {},
   "source": [
    "docker run: This command is used to create a new container from an image."
   ]
  },
  {
   "cell_type": "markdown",
   "id": "8957c36f",
   "metadata": {},
   "source": [
    "docker ps: This command is used to list running containers."
   ]
  },
  {
   "cell_type": "markdown",
   "id": "fc80daae",
   "metadata": {},
   "source": [
    "docker stop: This command is used to stop a running container."
   ]
  },
  {
   "cell_type": "markdown",
   "id": "c0b471de",
   "metadata": {},
   "source": [
    "docker start: This command is used to start a container given the image already exists."
   ]
  },
  {
   "cell_type": "markdown",
   "id": "97d2d3dd",
   "metadata": {},
   "source": [
    "docker rm: This command is used to remove an existing Docker container."
   ]
  },
  {
   "cell_type": "markdown",
   "id": "a9805d10",
   "metadata": {},
   "source": [
    "docker images: This command lists all images on the local system."
   ]
  },
  {
   "cell_type": "markdown",
   "id": "53decbba",
   "metadata": {},
   "source": [
    "docker rmi: This command is used to remove Docker images."
   ]
  },
  {
   "cell_type": "markdown",
   "id": "b9a9df2a",
   "metadata": {},
   "source": [
    "docker build: This command is used to build Docker images from a Dockerfile."
   ]
  },
  {
   "cell_type": "markdown",
   "id": "b4e8c5a6",
   "metadata": {},
   "source": [
    "Now, let’s do a walkthrough of all the above docker commands, except for docker build, we’ll go through it the next notebook. Make sure docker is running in your system, if not, please consult the following documentation to get it started: Start the Docker Daemon Documentation"
   ]
  },
  {
   "cell_type": "markdown",
   "id": "7f02626f",
   "metadata": {},
   "source": [
    "# docker run"
   ]
  },
  {
   "cell_type": "markdown",
   "id": "2ef71f9f",
   "metadata": {},
   "source": [
    "We already see this in action above, what this command does is actually it will download the image from the internet, usually via Docker Hub. To do this it actually calls a docker command called docker pull, which we won’t go into detail right now. Once the image is downloaded, Docker will then create a container using the image and run the container."
   ]
  },
  {
   "cell_type": "markdown",
   "id": "b8ab0be9",
   "metadata": {},
   "source": [
    "Let’s review some of the command flags that’s commonly used: - -d flag = detached mode. This means to run the container and once the container is running, Docker will return the terminal back to us. This way we can then use the terminal to input other commands, such as docker ps to check the running containers. Without the -d flag, the terminal will appear to “hang up” because it’s being used by the Docker container. - -p flag = port mapping. This flag is used commonly like this: -p 8888:8888 which means we want to map the host port of 8888 at the front with the container port of 8888 at the back. This allows for some customization. Let’s say for example, the host port of 8888 is taken, we can then map the host port to another empty port, such as 8889. Thus the flag becomes -p 8889:8888. - --name flag = naming the container. This flag is used to create a text identifier which is easier to remember for human, compared to the alphanumeric ID of the container."
   ]
  },
  {
   "cell_type": "markdown",
   "id": "25f9f45e",
   "metadata": {},
   "source": [
    "In choosing a port for use by Docker container, keep in mind that port below 1024 is reserved, so you must not use it, because it may interfere with the working of your computer."
   ]
  },
  {
   "cell_type": "markdown",
   "id": "fe02b8b8",
   "metadata": {},
   "source": [
    "# docker ps"
   ]
  },
  {
   "cell_type": "markdown",
   "id": "ed46b3fd",
   "metadata": {},
   "source": [
    "When we want to know what containers are running in our system, we use docker ps to list all running containers. Since we still have our Jupyter Notebook running, when we run this command, we should get something like this:"
   ]
  },
  {
   "cell_type": "markdown",
   "id": "7f0d28e9",
   "metadata": {},
   "source": []
  },
  {
   "cell_type": "markdown",
   "id": "49fb19c6",
   "metadata": {},
   "source": [
    "![Image](https://storage.googleapis.com/rg-ai-bootcamp/mlops/docker-ps.png)"
   ]
  },
  {
   "cell_type": "markdown",
   "id": "a8f52c55",
   "metadata": {},
   "source": [
    "The terminal is a bit small, so the information is divided into two lines. Here’s the pair of information: | Key | Value | |——–|——–| | CONTAINER ID | 9af65e58e9df | | IMAGE | jupyter/base-notebook | | COMMAND | “tini -g – start-no…” | | CREATED | 13 seconds ago | | STATUS | Up 12 seconds (healthy) | | PORTS | 0.0.0.0:8888->8888/tcp | | NAMES | myjupyter |"
   ]
  },
  {
   "cell_type": "markdown",
   "id": "2965046c",
   "metadata": {},
   "source": [
    "Note that your information Value may be different because the data is unique to each computer."
   ]
  },
  {
   "cell_type": "markdown",
   "id": "3a2eaaca",
   "metadata": {},
   "source": [
    "Now, docker ps only shows activly running container, to list all container, we need to pass the switch -a, like this:"
   ]
  },
  {
   "cell_type": "code",
   "execution_count": null,
   "id": "8d9465cc",
   "metadata": {},
   "outputs": [],
   "source": [
    "docker ps -a"
   ]
  },
  {
   "cell_type": "markdown",
   "id": "8cb828a1",
   "metadata": {},
   "source": [
    "Here’s what it looks like:"
   ]
  },
  {
   "cell_type": "markdown",
   "id": "2ac97cc8",
   "metadata": {},
   "source": []
  },
  {
   "cell_type": "markdown",
   "id": "1ccb68a6",
   "metadata": {},
   "source": [
    "![Image](https://storage.googleapis.com/rg-ai-bootcamp/mlops/docker-ps-a.png)"
   ]
  },
  {
   "cell_type": "markdown",
   "id": "ccf5c65b",
   "metadata": {},
   "source": [
    "# docker stop"
   ]
  },
  {
   "cell_type": "markdown",
   "id": "d29022e5",
   "metadata": {},
   "source": [
    "To stop a running container, we use docker stop followed by either the Container ID or Container Name. Using our prior example, we can issue the following command:"
   ]
  },
  {
   "cell_type": "code",
   "execution_count": null,
   "id": "49a3320e",
   "metadata": {},
   "outputs": [],
   "source": [
    "docker stop myjupyter"
   ]
  },
  {
   "cell_type": "markdown",
   "id": "eb790500",
   "metadata": {},
   "source": [
    "Where myjupyter is the name of our container. We can then check if the container is no longer running using docker ps"
   ]
  },
  {
   "cell_type": "markdown",
   "id": "f40780cf",
   "metadata": {},
   "source": [
    "Here’s what it looks like:"
   ]
  },
  {
   "cell_type": "markdown",
   "id": "cbdcae59",
   "metadata": {},
   "source": []
  },
  {
   "cell_type": "markdown",
   "id": "9f0c567a",
   "metadata": {},
   "source": [
    "![Image](https://storage.googleapis.com/rg-ai-bootcamp/mlops/docker-stop.png)"
   ]
  },
  {
   "cell_type": "markdown",
   "id": "994adb12",
   "metadata": {},
   "source": [
    "Note that I deliberately add extra lines so you can clearly see what each command output is. As you can see, docker ps no longer contains anything."
   ]
  },
  {
   "cell_type": "markdown",
   "id": "4e8dd8c4",
   "metadata": {},
   "source": [
    "# docker start"
   ]
  },
  {
   "cell_type": "markdown",
   "id": "b151d8f7",
   "metadata": {},
   "source": [
    "We can start a container that already exists in our local Docker image using docker start. We’ll cover Docker image after this, please bear with me for a while."
   ]
  },
  {
   "cell_type": "markdown",
   "id": "acf736ce",
   "metadata": {},
   "source": [
    "If you recall, we give a name to our container myjupyter which we set when we set up using docker run and we also use the name when we stop the container. We can also use the name to start a container."
   ]
  },
  {
   "cell_type": "code",
   "execution_count": null,
   "id": "b7de245e",
   "metadata": {},
   "outputs": [],
   "source": [
    "docker start myjupyter"
   ]
  },
  {
   "cell_type": "markdown",
   "id": "92c480c3",
   "metadata": {},
   "source": [
    "Here’s what it looks like:"
   ]
  },
  {
   "cell_type": "markdown",
   "id": "736509d3",
   "metadata": {},
   "source": []
  },
  {
   "cell_type": "markdown",
   "id": "316541f5",
   "metadata": {},
   "source": [
    "![Image](https://storage.googleapis.com/rg-ai-bootcamp/mlops/docker-start.png)"
   ]
  },
  {
   "cell_type": "markdown",
   "id": "00ca4baa",
   "metadata": {},
   "source": [
    "# docker rm"
   ]
  },
  {
   "cell_type": "markdown",
   "id": "10e7da17",
   "metadata": {},
   "source": [
    "This command is used when we want to save disk space because this will delete the container from the hard disk. Once this is done, we cannot use docker start, instead we have to use docker run to reinstall the container. This is useful if for example we have a new version of jupyter notebook that we want to try out before using it for our AI application. Once we finish the try out, we can then either move our AI application to the new version and delete the old version or vice versa."
   ]
  },
  {
   "cell_type": "markdown",
   "id": "bf3afa5c",
   "metadata": {},
   "source": [
    "To remove a container, we can simply issue the command using the name of the container, alternatively we can also use the Container ID."
   ]
  },
  {
   "cell_type": "markdown",
   "id": "8a5dd5a3",
   "metadata": {},
   "source": [
    "Note that in order to remove a container we have to stop the container first."
   ]
  },
  {
   "cell_type": "code",
   "execution_count": null,
   "id": "25d63bf1",
   "metadata": {},
   "outputs": [],
   "source": [
    "docker rm myjupyter"
   ]
  },
  {
   "cell_type": "markdown",
   "id": "b6c8b0b5",
   "metadata": {},
   "source": [
    "Here’s what it looks like:"
   ]
  },
  {
   "cell_type": "markdown",
   "id": "a35755ec",
   "metadata": {},
   "source": []
  },
  {
   "cell_type": "markdown",
   "id": "221137d3",
   "metadata": {},
   "source": [
    "![Image](https://storage.googleapis.com/rg-ai-bootcamp/mlops/docker-rm.png)"
   ]
  },
  {
   "cell_type": "markdown",
   "id": "2b122ab7",
   "metadata": {},
   "source": [
    "# docker images"
   ]
  },
  {
   "cell_type": "markdown",
   "id": "0c0153c6",
   "metadata": {},
   "source": [
    "Since images and containers are two different objects, we have different commands for images."
   ]
  },
  {
   "cell_type": "markdown",
   "id": "6223fe28",
   "metadata": {},
   "source": [
    "To see what images are available in our computer, we can run:"
   ]
  },
  {
   "cell_type": "code",
   "execution_count": null,
   "id": "db86575e",
   "metadata": {},
   "outputs": [],
   "source": [
    "docker images"
   ]
  },
  {
   "cell_type": "markdown",
   "id": "e22860fc",
   "metadata": {},
   "source": [
    "Let’s see what it looks like:"
   ]
  },
  {
   "cell_type": "markdown",
   "id": "fccdafa6",
   "metadata": {},
   "source": []
  },
  {
   "cell_type": "markdown",
   "id": "f502581e",
   "metadata": {},
   "source": [
    "![Image](https://storage.googleapis.com/rg-ai-bootcamp/mlops/docker-images.png)"
   ]
  },
  {
   "cell_type": "markdown",
   "id": "ef02422b",
   "metadata": {},
   "source": [
    "As you can see, we have jupyter/base-notebook image which is used for creating our container named myjupyter earlier. There is also the hello-world image. There are also other Docker images which are created in the author’s computer."
   ]
  },
  {
   "cell_type": "markdown",
   "id": "412828f2",
   "metadata": {},
   "source": [
    "# docker rmi"
   ]
  },
  {
   "cell_type": "markdown",
   "id": "2e8a39ab",
   "metadata": {},
   "source": [
    "Keep in mind that both containers and images takes up disk space, so we may want to delete them once we no longer use them. We already know how to remove a container, we can do the same with images. We run the the command docker rmi followed by the Image Name or ID which we can get from the docker images command. The Image Name is listed under Repository"
   ]
  },
  {
   "cell_type": "markdown",
   "id": "4c3cc87a",
   "metadata": {},
   "source": [
    "Let’s say we want to delete hello-world image:"
   ]
  },
  {
   "cell_type": "code",
   "execution_count": null,
   "id": "df11a871",
   "metadata": {},
   "outputs": [],
   "source": [
    "docker rmi hello-world"
   ]
  },
  {
   "cell_type": "markdown",
   "id": "c990874f",
   "metadata": {},
   "source": [
    "You may encounter some error when deleting, make sure that you have stopped and removed the container that uses the image first. Use docker ps -a to list all the containers, not just active ones."
   ]
  },
  {
   "cell_type": "markdown",
   "id": "cc2b67a3",
   "metadata": {},
   "source": [
    "Now, here’s what the result looks like:"
   ]
  },
  {
   "cell_type": "markdown",
   "id": "9835c2f0",
   "metadata": {},
   "source": []
  },
  {
   "cell_type": "markdown",
   "id": "1c780824",
   "metadata": {},
   "source": [
    "![Image](https://storage.googleapis.com/rg-ai-bootcamp/mlops/docker-rmi.png)"
   ]
  },
  {
   "cell_type": "markdown",
   "id": "1f57dd82",
   "metadata": {},
   "source": [
    "Now that we know how Docker works, let’s head over to the next notebook, where we will create our own Docker image. Using docker build of course."
   ]
  }
 ],
 "metadata": {},
 "nbformat": 4,
 "nbformat_minor": 5
}
