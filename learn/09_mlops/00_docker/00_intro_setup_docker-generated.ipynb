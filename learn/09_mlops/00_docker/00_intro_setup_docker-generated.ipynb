{
 "cells": [
  {
   "cell_type": "markdown",
   "id": "f4b7fa21",
   "metadata": {},
   "source": [
    "source: [https://ai-bootcamp.ruangguru.com/learn/09_mlops/00_docker/00_intro_setup_docker.html](https://ai-bootcamp.ruangguru.com/learn/09_mlops/00_docker/00_intro_setup_docker.html)"
   ]
  },
  {
   "cell_type": "markdown",
   "id": "039369ec",
   "metadata": {},
   "source": [
    "# Introduction to Docker"
   ]
  },
  {
   "cell_type": "markdown",
   "id": "3cbf205e",
   "metadata": {},
   "source": [
    "One of the problem associated with collaborative work is caused by inconsistent environment. For example, you as an AI engineer is working on a Machine Learning (ML) model that works in your Windows environment, producing a model.exe file. The company server however runs on Linux, your AI engineer colleague, Dito is working with a MacOS environment and your model.exe doesn’t work on non-Windows environment. Then there is also the module dependency issues, installing them one-by-one for each and every computer is such a hassle."
   ]
  },
  {
   "cell_type": "markdown",
   "id": "97584912",
   "metadata": {},
   "source": [
    "This is where Docker comes in handy. Docker is an open-source platform that utilizes OS-level virtualization to deliver software in packages called containers. It has become a popular tool among developers, including AI engineers and system administrators due to its ability to guarantee consistency across multiple development and release cycles."
   ]
  },
  {
   "cell_type": "markdown",
   "id": "c342eacc",
   "metadata": {},
   "source": [
    "# Benefits of Using Docker Containers"
   ]
  },
  {
   "cell_type": "markdown",
   "id": "446752f8",
   "metadata": {},
   "source": [
    "There are several key benefits to using Docker containers:"
   ]
  },
  {
   "cell_type": "markdown",
   "id": "e48c65cd",
   "metadata": {},
   "source": [
    "- Portability: Docker containers can run on any computer, on any infrastructure and in any cloud.\n",
    "- Version Control: Each update to a Docker container is a new version, which can be rolled back to if necessary.\n",
    "- Isolation: Docker ensures your applications and resources are isolated and segregated.\n",
    "- Lightweight: Docker images are small, which facilitates easy scaling and rapid delivery.\n",
    "- Scalability: Docker can be integrated with orchestration tools like Kubernetes for automated deployment, scaling, and management of containerized applications."
   ]
  },
  {
   "cell_type": "markdown",
   "id": "00c939bd",
   "metadata": {},
   "source": [
    "In summary, Docker enables developers to easily pack, ship, and run any application as a lightweight, portable, self-sufficient container, which can run virtually anywhere. Containers are completely sandboxed and do not interface directly with the host OS, this ensures that they run uniformly, regardless of where they are deployed."
   ]
  },
  {
   "cell_type": "markdown",
   "id": "3a6f9302",
   "metadata": {},
   "source": [
    "# Docker Terminology"
   ]
  },
  {
   "cell_type": "markdown",
   "id": "fa2a313a",
   "metadata": {},
   "source": [
    "Before we go into practical usage for Docker, let’s review two essential Docker terminology first:"
   ]
  },
  {
   "cell_type": "markdown",
   "id": "00aca6ea",
   "metadata": {},
   "source": [
    "- Images: These are read-only templates with instructions for creating a Docker container. They can be based on other images and can have version tags.\n",
    "- Containers: A runnable instance of an image. You can create, start, stop, move, or delete a container using the Docker API or CLI. You can connect a container to one or more networks, attach storage to it, or even create a new image based on its current state."
   ]
  },
  {
   "cell_type": "markdown",
   "id": "a57ed1c6",
   "metadata": {},
   "source": [
    "Images: These are read-only templates with instructions for creating a Docker container. They can be based on other images and can have version tags."
   ]
  },
  {
   "cell_type": "markdown",
   "id": "20071aab",
   "metadata": {},
   "source": [
    "Containers: A runnable instance of an image. You can create, start, stop, move, or delete a container using the Docker API or CLI. You can connect a container to one or more networks, attach storage to it, or even create a new image based on its current state."
   ]
  },
  {
   "cell_type": "markdown",
   "id": "03a2da94",
   "metadata": {},
   "source": [
    "What is the difference between Images and Containers? Let’s use an analogy of food, “recipe” and “dishes”: - Docker images are like a recipe for a dish, containing a list of ingredients and steps to make it. They are static and unchangeable, yet can be shared and used to recreate the same dish anywhere. - Docker containers, on the other hand, are like the actual dishes prepared from the recipe. They are dynamic, can be started or stopped at any time, and don’t affect or interfere with other dishes (containers). All dishes made from the same recipe will have the same taste and nutrients, just like all containers created from the same Docker image will have the same software."
   ]
  },
  {
   "cell_type": "markdown",
   "id": "e0667e9e",
   "metadata": {},
   "source": [
    "Now, when we create a container, Docker will use an image which is automatically downloaded from the internet. This image is stored locally in our computer or our server if we are deploying to a server. Because an image is used like a recipe, there is only one needed in a local computer. We can created basically unlimited number of containers."
   ]
  },
  {
   "cell_type": "markdown",
   "id": "04eb0b02",
   "metadata": {},
   "source": [
    "Now, let’s put the knowledge into practical use!"
   ]
  },
  {
   "cell_type": "markdown",
   "id": "8d237d95",
   "metadata": {},
   "source": [
    "# Setting Up Docker"
   ]
  },
  {
   "cell_type": "markdown",
   "id": "c42732f1",
   "metadata": {},
   "source": [
    "After understanding the basic concepts and benefits of Docker, let’s move on to setting it up on your system. This involves installation, configuration, downloading and running Docker images, and some basic Docker commands."
   ]
  },
  {
   "cell_type": "markdown",
   "id": "7c04fc64",
   "metadata": {},
   "source": [
    "# Installation and Configuration of Docker on Your System"
   ]
  },
  {
   "cell_type": "markdown",
   "id": "4552a6cf",
   "metadata": {},
   "source": [
    "Installation of Docker differs based on the operating system you are using."
   ]
  },
  {
   "cell_type": "markdown",
   "id": "ee1cdd4f",
   "metadata": {},
   "source": [
    "- For Linux: Docker provides a convenient script for installation on Linux systems. You can download and execute this script using the command below:curl -fsSL https://get.docker.com -o get-docker.sh\n",
    "sudo sh get-docker.sh\n",
    "- For Windows and Mac: Docker Desktop is an easy-to-install application for your Mac or Windows environment that enables you to start coding and containerizing in minutes. Download Docker Desktop from theDocker Hub."
   ]
  },
  {
   "cell_type": "markdown",
   "id": "1b53ed61",
   "metadata": {},
   "source": [
    "For Linux: Docker provides a convenient script for installation on Linux systems. You can download and execute this script using the command below:"
   ]
  },
  {
   "cell_type": "code",
   "execution_count": null,
   "id": "a7b9c09a",
   "metadata": {},
   "outputs": [],
   "source": [
    "curl -fsSL https://get.docker.com -o get-docker.sh\n",
    "sudo sh get-docker.sh"
   ]
  },
  {
   "cell_type": "markdown",
   "id": "4c97720f",
   "metadata": {},
   "source": [
    "For Windows and Mac: Docker Desktop is an easy-to-install application for your Mac or Windows environment that enables you to start coding and containerizing in minutes. Download Docker Desktop from the Docker Hub."
   ]
  },
  {
   "cell_type": "markdown",
   "id": "3762d66c",
   "metadata": {},
   "source": [
    "Once Docker is installed, you can confirm that it’s working correctly by running: docker run hello-world."
   ]
  },
  {
   "cell_type": "markdown",
   "id": "0b8349fa",
   "metadata": {},
   "source": []
  },
  {
   "cell_type": "markdown",
   "id": "6fbd8567",
   "metadata": {},
   "source": [
    "![Image](https://storage.googleapis.com/rg-ai-bootcamp/mlops/docker-hello-world.png)"
   ]
  },
  {
   "cell_type": "markdown",
   "id": "c78c713d",
   "metadata": {},
   "source": [
    "# Downloading and Running Docker Images"
   ]
  },
  {
   "cell_type": "markdown",
   "id": "246c3957",
   "metadata": {},
   "source": [
    "The Docker ecosystem have evolved so much that we don’t have to build the image ourselves, we can simply download Docker images from a registry such as Docker Hub. Once you have an image, you can launch a container from it. Let’s try running a Jupyter Notebook inside Docker:"
   ]
  },
  {
   "cell_type": "code",
   "execution_count": null,
   "id": "71ae2e1f",
   "metadata": {},
   "outputs": [],
   "source": [
    "docker run -p 8888:8888 -d --name myjupyter jupyter/base-notebook"
   ]
  },
  {
   "cell_type": "markdown",
   "id": "74381442",
   "metadata": {},
   "source": [
    "This command tells Docker to run a new container in detached mode (-d) using the jupyter/base-notebook image. The -p option maps port 8080 on the host to port 80 on the container. The --name option gives a name to the container."
   ]
  },
  {
   "cell_type": "markdown",
   "id": "ff56227f",
   "metadata": {},
   "source": [
    "This command instructs Docker to run a new container in detached mode (-d) using the jupyter/base-notebook image. The -p option maps port 8888 on the host to port 8888 on the Jupyter notebook server running inside the container. The --name option provides a name for the container, in our case it’s myjupyter. Feel free to change the name for the container."
   ]
  },
  {
   "cell_type": "markdown",
   "id": "71238aff",
   "metadata": {},
   "source": []
  },
  {
   "cell_type": "markdown",
   "id": "b835ecd7",
   "metadata": {},
   "source": [
    "![Image](https://storage.googleapis.com/rg-ai-bootcamp/mlops/docker-jupyter-notebook.png)"
   ]
  },
  {
   "cell_type": "markdown",
   "id": "93ee11e0",
   "metadata": {},
   "source": [
    "When you run this, the Jupyter Notebook server gets started inside the container at port 8888. It’s accessible from your host machine at localhost:8888."
   ]
  },
  {
   "cell_type": "markdown",
   "id": "16103461",
   "metadata": {},
   "source": []
  },
  {
   "cell_type": "markdown",
   "id": "d9853f54",
   "metadata": {},
   "source": [
    "![Image](https://storage.googleapis.com/rg-ai-bootcamp/mlops/docker-jupyter-notebook-browser-login.png)"
   ]
  },
  {
   "cell_type": "markdown",
   "id": "ea82b0fe",
   "metadata": {},
   "source": [
    "Please note that when you run this command, the Jupyter Notebook server is started in the container and a token is generated. You will need this token to log in to the Jupyter Notebook server. You can see the token in the console logs by running:"
   ]
  },
  {
   "cell_type": "code",
   "execution_count": null,
   "id": "565f3958",
   "metadata": {},
   "outputs": [],
   "source": [
    "docker logs myjupyter"
   ]
  },
  {
   "cell_type": "markdown",
   "id": "6f0d1bb0",
   "metadata": {},
   "source": [
    "The console will output a URL that contains the token to access the Jupyter notebook."
   ]
  },
  {
   "cell_type": "markdown",
   "id": "a2de7326",
   "metadata": {},
   "source": []
  },
  {
   "cell_type": "markdown",
   "id": "b221f4ab",
   "metadata": {},
   "source": [
    "![Image](https://storage.googleapis.com/rg-ai-bootcamp/mlops/docker-jupyter-notebook-log.png)"
   ]
  },
  {
   "cell_type": "markdown",
   "id": "9a602518",
   "metadata": {},
   "source": [
    "We can input the token into the login page and we should arrive at this page:"
   ]
  },
  {
   "cell_type": "markdown",
   "id": "2b601077",
   "metadata": {},
   "source": []
  },
  {
   "cell_type": "markdown",
   "id": "3308e604",
   "metadata": {},
   "source": [
    "![Image](https://storage.googleapis.com/rg-ai-bootcamp/mlops/docker-jupyter-notebook-success-login.png)"
   ]
  },
  {
   "cell_type": "markdown",
   "id": "f1724d49",
   "metadata": {},
   "source": [
    "# Basic Docker Commands"
   ]
  },
  {
   "cell_type": "markdown",
   "id": "6ff69d63",
   "metadata": {},
   "source": [
    "Let’s run through some basic Docker commands that you’ll most likely use on a regular basis. Don’t worry, we’ll walk you through each of these commands as we move forward."
   ]
  },
  {
   "cell_type": "markdown",
   "id": "bd274cd6",
   "metadata": {},
   "source": [
    "Understanding these basic Docker commands is crucial in your Docker journey as they offer the functionality required to manage your containers and images. Consequently, this makes application development more efficient, allowing you to focus more on creating amazing applications."
   ]
  },
  {
   "cell_type": "markdown",
   "id": "d8970322",
   "metadata": {},
   "source": [
    "- docker run: This command is used to create a new container from an image.\n",
    "- docker ps: This command is used to list running containers.\n",
    "- docker stop: This command is used to stop a running container.\n",
    "- docker start: This command is used to start a container given the image already exists.\n",
    "- docker rm: This command is used to remove an existing Docker container.\n",
    "- docker images: This command lists all images on the local system.\n",
    "- docker rmi: This command is used to remove Docker images.\n",
    "- docker build: This command is used to build Docker images from a Dockerfile."
   ]
  },
  {
   "cell_type": "markdown",
   "id": "b5a10092",
   "metadata": {},
   "source": [
    "docker run: This command is used to create a new container from an image."
   ]
  },
  {
   "cell_type": "markdown",
   "id": "50c8dd18",
   "metadata": {},
   "source": [
    "docker ps: This command is used to list running containers."
   ]
  },
  {
   "cell_type": "markdown",
   "id": "7b00c0e3",
   "metadata": {},
   "source": [
    "docker stop: This command is used to stop a running container."
   ]
  },
  {
   "cell_type": "markdown",
   "id": "090ab9e4",
   "metadata": {},
   "source": [
    "docker start: This command is used to start a container given the image already exists."
   ]
  },
  {
   "cell_type": "markdown",
   "id": "0ab34a57",
   "metadata": {},
   "source": [
    "docker rm: This command is used to remove an existing Docker container."
   ]
  },
  {
   "cell_type": "markdown",
   "id": "dae035c3",
   "metadata": {},
   "source": [
    "docker images: This command lists all images on the local system."
   ]
  },
  {
   "cell_type": "markdown",
   "id": "236d5edf",
   "metadata": {},
   "source": [
    "docker rmi: This command is used to remove Docker images."
   ]
  },
  {
   "cell_type": "markdown",
   "id": "b0e72c81",
   "metadata": {},
   "source": [
    "docker build: This command is used to build Docker images from a Dockerfile."
   ]
  },
  {
   "cell_type": "markdown",
   "id": "56c120de",
   "metadata": {},
   "source": [
    "Now, let’s do a walkthrough of all the above docker commands, except for docker build, we’ll go through it the next notebook. Make sure docker is running in your system, if not, please consult the following documentation to get it started: Start the Docker Daemon Documentation"
   ]
  },
  {
   "cell_type": "markdown",
   "id": "ddded024",
   "metadata": {},
   "source": [
    "# docker run"
   ]
  },
  {
   "cell_type": "markdown",
   "id": "70830bff",
   "metadata": {},
   "source": [
    "We already see this in action above, what this command does is actually it will download the image from the internet, usually via Docker Hub. To do this it actually calls a docker command called docker pull, which we won’t go into detail right now. Once the image is downloaded, Docker will then create a container using the image and run the container."
   ]
  },
  {
   "cell_type": "markdown",
   "id": "db5f4692",
   "metadata": {},
   "source": [
    "Let’s review some of the command flags that’s commonly used: - -d flag = detached mode. This means to run the container and once the container is running, Docker will return the terminal back to us. This way we can then use the terminal to input other commands, such as docker ps to check the running containers. Without the -d flag, the terminal will appear to “hang up” because it’s being used by the Docker container. - -p flag = port mapping. This flag is used commonly like this: -p 8888:8888 which means we want to map the host port of 8888 at the front with the container port of 8888 at the back. This allows for some customization. Let’s say for example, the host port of 8888 is taken, we can then map the host port to another empty port, such as 8889. Thus the flag becomes -p 8889:8888. - --name flag = naming the container. This flag is used to create a text identifier which is easier to remember for human, compared to the alphanumeric ID of the container."
   ]
  },
  {
   "cell_type": "markdown",
   "id": "9c368398",
   "metadata": {},
   "source": [
    "> In choosing a port for use by Docker container, keep in mind that port below 1024 is reserved, so you must not use it, because it may interfere with the working of your computer."
   ]
  },
  {
   "cell_type": "markdown",
   "id": "26934dc9",
   "metadata": {},
   "source": [
    "In choosing a port for use by Docker container, keep in mind that port below 1024 is reserved, so you must not use it, because it may interfere with the working of your computer."
   ]
  },
  {
   "cell_type": "markdown",
   "id": "4acf4a47",
   "metadata": {},
   "source": [
    "# docker ps"
   ]
  },
  {
   "cell_type": "markdown",
   "id": "649be39a",
   "metadata": {},
   "source": [
    "When we want to know what containers are running in our system, we use docker ps to list all running containers. Since we still have our Jupyter Notebook running, when we run this command, we should get something like this:"
   ]
  },
  {
   "cell_type": "markdown",
   "id": "14f799ce",
   "metadata": {},
   "source": []
  },
  {
   "cell_type": "markdown",
   "id": "a2d5a09d",
   "metadata": {},
   "source": [
    "![Image](https://storage.googleapis.com/rg-ai-bootcamp/mlops/docker-ps.png)"
   ]
  },
  {
   "cell_type": "markdown",
   "id": "88f5b6a1",
   "metadata": {},
   "source": [
    "The terminal is a bit small, so the information is divided into two lines. Here’s the pair of information: | Key | Value | |——–|——–| | CONTAINER ID | 9af65e58e9df | | IMAGE | jupyter/base-notebook | | COMMAND | “tini -g – start-no…” | | CREATED | 13 seconds ago | | STATUS | Up 12 seconds (healthy) | | PORTS | 0.0.0.0:8888->8888/tcp | | NAMES | myjupyter |"
   ]
  },
  {
   "cell_type": "markdown",
   "id": "57d028ca",
   "metadata": {},
   "source": [
    "Note that your information Value may be different because the data is unique to each computer."
   ]
  },
  {
   "cell_type": "markdown",
   "id": "57e6a754",
   "metadata": {},
   "source": [
    "Now, docker ps only shows activly running container, to list all container, we need to pass the switch -a, like this:"
   ]
  },
  {
   "cell_type": "code",
   "execution_count": null,
   "id": "9a6af19d",
   "metadata": {},
   "outputs": [],
   "source": [
    "docker ps -a"
   ]
  },
  {
   "cell_type": "markdown",
   "id": "70184759",
   "metadata": {},
   "source": [
    "Here’s what it looks like:"
   ]
  },
  {
   "cell_type": "markdown",
   "id": "3a67abe6",
   "metadata": {},
   "source": []
  },
  {
   "cell_type": "markdown",
   "id": "fe86c721",
   "metadata": {},
   "source": [
    "![Image](https://storage.googleapis.com/rg-ai-bootcamp/mlops/docker-ps-a.png)"
   ]
  },
  {
   "cell_type": "markdown",
   "id": "6fe3246b",
   "metadata": {},
   "source": [
    "# docker stop"
   ]
  },
  {
   "cell_type": "markdown",
   "id": "15f8881b",
   "metadata": {},
   "source": [
    "To stop a running container, we use docker stop followed by either the Container ID or Container Name. Using our prior example, we can issue the following command:"
   ]
  },
  {
   "cell_type": "code",
   "execution_count": null,
   "id": "e7a41355",
   "metadata": {},
   "outputs": [],
   "source": [
    "docker stop myjupyter"
   ]
  },
  {
   "cell_type": "markdown",
   "id": "e6499470",
   "metadata": {},
   "source": [
    "Where myjupyter is the name of our container. We can then check if the container is no longer running using docker ps"
   ]
  },
  {
   "cell_type": "markdown",
   "id": "0e19b382",
   "metadata": {},
   "source": [
    "Here’s what it looks like:"
   ]
  },
  {
   "cell_type": "markdown",
   "id": "60d9ec65",
   "metadata": {},
   "source": []
  },
  {
   "cell_type": "markdown",
   "id": "5af5f1fe",
   "metadata": {},
   "source": [
    "![Image](https://storage.googleapis.com/rg-ai-bootcamp/mlops/docker-stop.png)"
   ]
  },
  {
   "cell_type": "markdown",
   "id": "ebd98e30",
   "metadata": {},
   "source": [
    "Note that I deliberately add extra lines so you can clearly see what each command output is. As you can see, docker ps no longer contains anything."
   ]
  },
  {
   "cell_type": "markdown",
   "id": "a1a23f6c",
   "metadata": {},
   "source": [
    "# docker start"
   ]
  },
  {
   "cell_type": "markdown",
   "id": "bb12032e",
   "metadata": {},
   "source": [
    "We can start a container that already exists in our local Docker image using docker start. We’ll cover Docker image after this, please bear with me for a while."
   ]
  },
  {
   "cell_type": "markdown",
   "id": "52bd469a",
   "metadata": {},
   "source": [
    "If you recall, we give a name to our container myjupyter which we set when we set up using docker run and we also use the name when we stop the container. We can also use the name to start a container."
   ]
  },
  {
   "cell_type": "code",
   "execution_count": null,
   "id": "d76d7443",
   "metadata": {},
   "outputs": [],
   "source": [
    "docker start myjupyter"
   ]
  },
  {
   "cell_type": "markdown",
   "id": "e03aa5e4",
   "metadata": {},
   "source": [
    "Here’s what it looks like:"
   ]
  },
  {
   "cell_type": "markdown",
   "id": "a4c1d104",
   "metadata": {},
   "source": []
  },
  {
   "cell_type": "markdown",
   "id": "e500d508",
   "metadata": {},
   "source": [
    "![Image](https://storage.googleapis.com/rg-ai-bootcamp/mlops/docker-start.png)"
   ]
  },
  {
   "cell_type": "markdown",
   "id": "50f2c59c",
   "metadata": {},
   "source": [
    "# docker rm"
   ]
  },
  {
   "cell_type": "markdown",
   "id": "434b3673",
   "metadata": {},
   "source": [
    "This command is used when we want to save disk space because this will delete the container from the hard disk. Once this is done, we cannot use docker start, instead we have to use docker run to reinstall the container. This is useful if for example we have a new version of jupyter notebook that we want to try out before using it for our AI application. Once we finish the try out, we can then either move our AI application to the new version and delete the old version or vice versa."
   ]
  },
  {
   "cell_type": "markdown",
   "id": "d7c51b3f",
   "metadata": {},
   "source": [
    "To remove a container, we can simply issue the command using the name of the container, alternatively we can also use the Container ID."
   ]
  },
  {
   "cell_type": "markdown",
   "id": "44740f4b",
   "metadata": {},
   "source": [
    "> Note that in order to remove a container we have to stop the container first."
   ]
  },
  {
   "cell_type": "markdown",
   "id": "2ffb8e84",
   "metadata": {},
   "source": [
    "Note that in order to remove a container we have to stop the container first."
   ]
  },
  {
   "cell_type": "code",
   "execution_count": null,
   "id": "ad2cab6c",
   "metadata": {},
   "outputs": [],
   "source": [
    "docker rm myjupyter"
   ]
  },
  {
   "cell_type": "markdown",
   "id": "37ae418c",
   "metadata": {},
   "source": [
    "Here’s what it looks like:"
   ]
  },
  {
   "cell_type": "markdown",
   "id": "66fad89a",
   "metadata": {},
   "source": []
  },
  {
   "cell_type": "markdown",
   "id": "164d4fb5",
   "metadata": {},
   "source": [
    "![Image](https://storage.googleapis.com/rg-ai-bootcamp/mlops/docker-rm.png)"
   ]
  },
  {
   "cell_type": "markdown",
   "id": "ea3e9358",
   "metadata": {},
   "source": [
    "# docker images"
   ]
  },
  {
   "cell_type": "markdown",
   "id": "3dc64a95",
   "metadata": {},
   "source": [
    "Since images and containers are two different objects, we have different commands for images."
   ]
  },
  {
   "cell_type": "markdown",
   "id": "b0aa956f",
   "metadata": {},
   "source": [
    "To see what images are available in our computer, we can run:"
   ]
  },
  {
   "cell_type": "code",
   "execution_count": null,
   "id": "9ffacd81",
   "metadata": {},
   "outputs": [],
   "source": [
    "docker images"
   ]
  },
  {
   "cell_type": "markdown",
   "id": "0b93b299",
   "metadata": {},
   "source": [
    "Let’s see what it looks like:"
   ]
  },
  {
   "cell_type": "markdown",
   "id": "f94bfbcd",
   "metadata": {},
   "source": []
  },
  {
   "cell_type": "markdown",
   "id": "1f4ff619",
   "metadata": {},
   "source": [
    "![Image](https://storage.googleapis.com/rg-ai-bootcamp/mlops/docker-images.png)"
   ]
  },
  {
   "cell_type": "markdown",
   "id": "515f5cb6",
   "metadata": {},
   "source": [
    "As you can see, we have jupyter/base-notebook image which is used for creating our container named myjupyter earlier. There is also the hello-world image. There are also other Docker images which are created in the author’s computer."
   ]
  },
  {
   "cell_type": "markdown",
   "id": "6f8b42e3",
   "metadata": {},
   "source": [
    "# docker rmi"
   ]
  },
  {
   "cell_type": "markdown",
   "id": "46c2642b",
   "metadata": {},
   "source": [
    "Keep in mind that both containers and images takes up disk space, so we may want to delete them once we no longer use them. We already know how to remove a container, we can do the same with images. We run the the command docker rmi followed by the Image Name or ID which we can get from the docker images command. The Image Name is listed under Repository"
   ]
  },
  {
   "cell_type": "markdown",
   "id": "d3b39cdf",
   "metadata": {},
   "source": [
    "Let’s say we want to delete hello-world image:"
   ]
  },
  {
   "cell_type": "code",
   "execution_count": null,
   "id": "b3c229b2",
   "metadata": {},
   "outputs": [],
   "source": [
    "docker rmi hello-world"
   ]
  },
  {
   "cell_type": "markdown",
   "id": "5cc11c8c",
   "metadata": {},
   "source": [
    "You may encounter some error when deleting, make sure that you have stopped and removed the container that uses the image first. Use docker ps -a to list all the containers, not just active ones."
   ]
  },
  {
   "cell_type": "markdown",
   "id": "5b09d140",
   "metadata": {},
   "source": [
    "Now, here’s what the result looks like:"
   ]
  },
  {
   "cell_type": "markdown",
   "id": "24df8136",
   "metadata": {},
   "source": []
  },
  {
   "cell_type": "markdown",
   "id": "c9678699",
   "metadata": {},
   "source": [
    "![Image](https://storage.googleapis.com/rg-ai-bootcamp/mlops/docker-rmi.png)"
   ]
  },
  {
   "cell_type": "markdown",
   "id": "3534d420",
   "metadata": {},
   "source": [
    "Now that we know how Docker works, let’s head over to the next notebook, where we will create our own Docker image. Using docker build of course."
   ]
  }
 ],
 "metadata": {},
 "nbformat": 4,
 "nbformat_minor": 5
}
