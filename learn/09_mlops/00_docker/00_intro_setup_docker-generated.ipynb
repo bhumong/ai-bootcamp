{
 "cells": [
  {
   "cell_type": "markdown",
   "id": "c6757835",
   "metadata": {},
   "source": [
    "source: [link](https://ai-bootcamp.ruangguru.com/learn/09_mlops/00_docker/00_intro_setup_docker.html)"
   ]
  },
  {
   "cell_type": "markdown",
   "id": "1aa1790c",
   "metadata": {},
   "source": [
    "# Introduction to Docker"
   ]
  },
  {
   "cell_type": "markdown",
   "id": "18d6896c",
   "metadata": {},
   "source": [
    "One of the problem associated with collaborative work is caused by inconsistent environment. For example, you as an AI engineer is working on a Machine Learning (ML) model that works in your Windows environment, producing a model.exe file. The company server however runs on Linux, your AI engineer colleague, Dito is working with a MacOS environment and your model.exe doesn’t work on non-Windows environment. Then there is also the module dependency issues, installing them one-by-one for each and every computer is such a hassle."
   ]
  },
  {
   "cell_type": "markdown",
   "id": "16ba56fe",
   "metadata": {},
   "source": [
    "This is where Docker comes in handy. Docker is an open-source platform that utilizes OS-level virtualization to deliver software in packages called containers. It has become a popular tool among developers, including AI engineers and system administrators due to its ability to guarantee consistency across multiple development and release cycles."
   ]
  },
  {
   "cell_type": "markdown",
   "id": "40b17b7c",
   "metadata": {},
   "source": [
    "# Benefits of Using Docker Containers"
   ]
  },
  {
   "cell_type": "markdown",
   "id": "a951788b",
   "metadata": {},
   "source": [
    "There are several key benefits to using Docker containers:"
   ]
  },
  {
   "cell_type": "markdown",
   "id": "ca6662b6",
   "metadata": {},
   "source": [
    "- Portability: Docker containers can run on any computer, on any infrastructure and in any cloud.\n",
    "- Version Control: Each update to a Docker container is a new version, which can be rolled back to if necessary.\n",
    "- Isolation: Docker ensures your applications and resources are isolated and segregated.\n",
    "- Lightweight: Docker images are small, which facilitates easy scaling and rapid delivery.\n",
    "- Scalability: Docker can be integrated with orchestration tools like Kubernetes for automated deployment, scaling, and management of containerized applications."
   ]
  },
  {
   "cell_type": "markdown",
   "id": "ee685405",
   "metadata": {},
   "source": [
    "In summary, Docker enables developers to easily pack, ship, and run any application as a lightweight, portable, self-sufficient container, which can run virtually anywhere. Containers are completely sandboxed and do not interface directly with the host OS, this ensures that they run uniformly, regardless of where they are deployed."
   ]
  },
  {
   "cell_type": "markdown",
   "id": "ea7a0a0c",
   "metadata": {},
   "source": [
    "# Docker Terminology"
   ]
  },
  {
   "cell_type": "markdown",
   "id": "7e1a8c50",
   "metadata": {},
   "source": [
    "Before we go into practical usage for Docker, let’s review two essential Docker terminology first:"
   ]
  },
  {
   "cell_type": "markdown",
   "id": "17766965",
   "metadata": {},
   "source": [
    "- Images: These are read-only templates with instructions for creating a Docker container. They can be based on other images and can have version tags.\n",
    "- Containers: A runnable instance of an image. You can create, start, stop, move, or delete a container using the Docker API or CLI. You can connect a container to one or more networks, attach storage to it, or even create a new image based on its current state."
   ]
  },
  {
   "cell_type": "markdown",
   "id": "09d9dfab",
   "metadata": {},
   "source": [
    "Images: These are read-only templates with instructions for creating a Docker container. They can be based on other images and can have version tags."
   ]
  },
  {
   "cell_type": "markdown",
   "id": "cc681454",
   "metadata": {},
   "source": [
    "Containers: A runnable instance of an image. You can create, start, stop, move, or delete a container using the Docker API or CLI. You can connect a container to one or more networks, attach storage to it, or even create a new image based on its current state."
   ]
  },
  {
   "cell_type": "markdown",
   "id": "51848501",
   "metadata": {},
   "source": [
    "What is the difference between Images and Containers? Let’s use an analogy of food, “recipe” and “dishes”: - Docker images are like a recipe for a dish, containing a list of ingredients and steps to make it. They are static and unchangeable, yet can be shared and used to recreate the same dish anywhere. - Docker containers, on the other hand, are like the actual dishes prepared from the recipe. They are dynamic, can be started or stopped at any time, and don’t affect or interfere with other dishes (containers). All dishes made from the same recipe will have the same taste and nutrients, just like all containers created from the same Docker image will have the same software."
   ]
  },
  {
   "cell_type": "markdown",
   "id": "70b7f223",
   "metadata": {},
   "source": [
    "Now, when we create a container, Docker will use an image which is automatically downloaded from the internet. This image is stored locally in our computer or our server if we are deploying to a server. Because an image is used like a recipe, there is only one needed in a local computer. We can created basically unlimited number of containers."
   ]
  },
  {
   "cell_type": "markdown",
   "id": "ce193b7b",
   "metadata": {},
   "source": [
    "Now, let’s put the knowledge into practical use!"
   ]
  },
  {
   "cell_type": "markdown",
   "id": "7054a579",
   "metadata": {},
   "source": [
    "# Setting Up Docker"
   ]
  },
  {
   "cell_type": "markdown",
   "id": "e5cfaddc",
   "metadata": {},
   "source": [
    "After understanding the basic concepts and benefits of Docker, let’s move on to setting it up on your system. This involves installation, configuration, downloading and running Docker images, and some basic Docker commands."
   ]
  },
  {
   "cell_type": "markdown",
   "id": "57ac6895",
   "metadata": {},
   "source": [
    "# Installation and Configuration of Docker on Your System"
   ]
  },
  {
   "cell_type": "markdown",
   "id": "43cfd95c",
   "metadata": {},
   "source": [
    "Installation of Docker differs based on the operating system you are using."
   ]
  },
  {
   "cell_type": "markdown",
   "id": "5f4cbdac",
   "metadata": {},
   "source": [
    "- For Linux: Docker provides a convenient script for installation on Linux systems. You can download and execute this script using the command below:curl -fsSL https://get.docker.com -o get-docker.sh\n",
    "sudo sh get-docker.sh\n",
    "- For Windows and Mac: Docker Desktop is an easy-to-install application for your Mac or Windows environment that enables you to start coding and containerizing in minutes. Download Docker Desktop from theDocker Hub."
   ]
  },
  {
   "cell_type": "markdown",
   "id": "7641458f",
   "metadata": {},
   "source": [
    "For Linux: Docker provides a convenient script for installation on Linux systems. You can download and execute this script using the command below:"
   ]
  },
  {
   "cell_type": "code",
   "execution_count": null,
   "id": "0bcc3e92",
   "metadata": {},
   "outputs": [],
   "source": [
    "curl -fsSL https://get.docker.com -o get-docker.sh\n",
    "sudo sh get-docker.sh"
   ]
  },
  {
   "cell_type": "markdown",
   "id": "cdee85a5",
   "metadata": {},
   "source": [
    "For Windows and Mac: Docker Desktop is an easy-to-install application for your Mac or Windows environment that enables you to start coding and containerizing in minutes. Download Docker Desktop from the Docker Hub."
   ]
  },
  {
   "cell_type": "markdown",
   "id": "42668ad5",
   "metadata": {},
   "source": [
    "Once Docker is installed, you can confirm that it’s working correctly by running: docker run hello-world."
   ]
  },
  {
   "cell_type": "markdown",
   "id": "8640fc24",
   "metadata": {},
   "source": []
  },
  {
   "cell_type": "markdown",
   "id": "16a1f231",
   "metadata": {},
   "source": [
    "![Image](https://storage.googleapis.com/rg-ai-bootcamp/mlops/docker-hello-world.png)"
   ]
  },
  {
   "cell_type": "markdown",
   "id": "9eafc218",
   "metadata": {},
   "source": [
    "# Downloading and Running Docker Images"
   ]
  },
  {
   "cell_type": "markdown",
   "id": "6a5b970a",
   "metadata": {},
   "source": [
    "The Docker ecosystem have evolved so much that we don’t have to build the image ourselves, we can simply download Docker images from a registry such as Docker Hub. Once you have an image, you can launch a container from it. Let’s try running a Jupyter Notebook inside Docker:"
   ]
  },
  {
   "cell_type": "code",
   "execution_count": null,
   "id": "20cf7274",
   "metadata": {},
   "outputs": [],
   "source": [
    "docker run -p 8888:8888 -d --name myjupyter jupyter/base-notebook"
   ]
  },
  {
   "cell_type": "markdown",
   "id": "90a7c69b",
   "metadata": {},
   "source": [
    "This command tells Docker to run a new container in detached mode (-d) using the jupyter/base-notebook image. The -p option maps port 8080 on the host to port 80 on the container. The --name option gives a name to the container."
   ]
  },
  {
   "cell_type": "markdown",
   "id": "02aaefc4",
   "metadata": {},
   "source": [
    "This command instructs Docker to run a new container in detached mode (-d) using the jupyter/base-notebook image. The -p option maps port 8888 on the host to port 8888 on the Jupyter notebook server running inside the container. The --name option provides a name for the container, in our case it’s myjupyter. Feel free to change the name for the container."
   ]
  },
  {
   "cell_type": "markdown",
   "id": "9f0348b4",
   "metadata": {},
   "source": []
  },
  {
   "cell_type": "markdown",
   "id": "d21adc2f",
   "metadata": {},
   "source": [
    "![Image](https://storage.googleapis.com/rg-ai-bootcamp/mlops/docker-jupyter-notebook.png)"
   ]
  },
  {
   "cell_type": "markdown",
   "id": "03f9f360",
   "metadata": {},
   "source": [
    "When you run this, the Jupyter Notebook server gets started inside the container at port 8888. It’s accessible from your host machine at localhost:8888."
   ]
  },
  {
   "cell_type": "markdown",
   "id": "f4e73c75",
   "metadata": {},
   "source": []
  },
  {
   "cell_type": "markdown",
   "id": "70087cd7",
   "metadata": {},
   "source": [
    "![Image](https://storage.googleapis.com/rg-ai-bootcamp/mlops/docker-jupyter-notebook-browser-login.png)"
   ]
  },
  {
   "cell_type": "markdown",
   "id": "c57a75e7",
   "metadata": {},
   "source": [
    "Please note that when you run this command, the Jupyter Notebook server is started in the container and a token is generated. You will need this token to log in to the Jupyter Notebook server. You can see the token in the console logs by running:"
   ]
  },
  {
   "cell_type": "code",
   "execution_count": null,
   "id": "01d42daa",
   "metadata": {},
   "outputs": [],
   "source": [
    "docker logs myjupyter"
   ]
  },
  {
   "cell_type": "markdown",
   "id": "e82e4b70",
   "metadata": {},
   "source": [
    "The console will output a URL that contains the token to access the Jupyter notebook."
   ]
  },
  {
   "cell_type": "markdown",
   "id": "263c32f3",
   "metadata": {},
   "source": []
  },
  {
   "cell_type": "markdown",
   "id": "20f99634",
   "metadata": {},
   "source": [
    "![Image](https://storage.googleapis.com/rg-ai-bootcamp/mlops/docker-jupyter-notebook-log.png)"
   ]
  },
  {
   "cell_type": "markdown",
   "id": "73a803ba",
   "metadata": {},
   "source": [
    "We can input the token into the login page and we should arrive at this page:"
   ]
  },
  {
   "cell_type": "markdown",
   "id": "fea0f0bb",
   "metadata": {},
   "source": []
  },
  {
   "cell_type": "markdown",
   "id": "9408123f",
   "metadata": {},
   "source": [
    "![Image](https://storage.googleapis.com/rg-ai-bootcamp/mlops/docker-jupyter-notebook-success-login.png)"
   ]
  },
  {
   "cell_type": "markdown",
   "id": "e6808d70",
   "metadata": {},
   "source": [
    "# Basic Docker Commands"
   ]
  },
  {
   "cell_type": "markdown",
   "id": "596203a9",
   "metadata": {},
   "source": [
    "Let’s run through some basic Docker commands that you’ll most likely use on a regular basis. Don’t worry, we’ll walk you through each of these commands as we move forward."
   ]
  },
  {
   "cell_type": "markdown",
   "id": "10528cef",
   "metadata": {},
   "source": [
    "Understanding these basic Docker commands is crucial in your Docker journey as they offer the functionality required to manage your containers and images. Consequently, this makes application development more efficient, allowing you to focus more on creating amazing applications."
   ]
  },
  {
   "cell_type": "markdown",
   "id": "5a76d5d2",
   "metadata": {},
   "source": [
    "- docker run: This command is used to create a new container from an image.\n",
    "- docker ps: This command is used to list running containers.\n",
    "- docker stop: This command is used to stop a running container.\n",
    "- docker start: This command is used to start a container given the image already exists.\n",
    "- docker rm: This command is used to remove an existing Docker container.\n",
    "- docker images: This command lists all images on the local system.\n",
    "- docker rmi: This command is used to remove Docker images.\n",
    "- docker build: This command is used to build Docker images from a Dockerfile."
   ]
  },
  {
   "cell_type": "markdown",
   "id": "0eecae14",
   "metadata": {},
   "source": [
    "docker run: This command is used to create a new container from an image."
   ]
  },
  {
   "cell_type": "markdown",
   "id": "92bf6d0e",
   "metadata": {},
   "source": [
    "docker ps: This command is used to list running containers."
   ]
  },
  {
   "cell_type": "markdown",
   "id": "2ea58058",
   "metadata": {},
   "source": [
    "docker stop: This command is used to stop a running container."
   ]
  },
  {
   "cell_type": "markdown",
   "id": "7d64dc91",
   "metadata": {},
   "source": [
    "docker start: This command is used to start a container given the image already exists."
   ]
  },
  {
   "cell_type": "markdown",
   "id": "d6fe81aa",
   "metadata": {},
   "source": [
    "docker rm: This command is used to remove an existing Docker container."
   ]
  },
  {
   "cell_type": "markdown",
   "id": "fcdd543e",
   "metadata": {},
   "source": [
    "docker images: This command lists all images on the local system."
   ]
  },
  {
   "cell_type": "markdown",
   "id": "bd6bb5b7",
   "metadata": {},
   "source": [
    "docker rmi: This command is used to remove Docker images."
   ]
  },
  {
   "cell_type": "markdown",
   "id": "aaa2b495",
   "metadata": {},
   "source": [
    "docker build: This command is used to build Docker images from a Dockerfile."
   ]
  },
  {
   "cell_type": "markdown",
   "id": "ac56bc2d",
   "metadata": {},
   "source": [
    "Now, let’s do a walkthrough of all the above docker commands, except for docker build, we’ll go through it the next notebook. Make sure docker is running in your system, if not, please consult the following documentation to get it started: Start the Docker Daemon Documentation"
   ]
  },
  {
   "cell_type": "markdown",
   "id": "9d6c321d",
   "metadata": {},
   "source": [
    "# docker run"
   ]
  },
  {
   "cell_type": "markdown",
   "id": "8ddfc651",
   "metadata": {},
   "source": [
    "We already see this in action above, what this command does is actually it will download the image from the internet, usually via Docker Hub. To do this it actually calls a docker command called docker pull, which we won’t go into detail right now. Once the image is downloaded, Docker will then create a container using the image and run the container."
   ]
  },
  {
   "cell_type": "markdown",
   "id": "ff95ccdc",
   "metadata": {},
   "source": [
    "Let’s review some of the command flags that’s commonly used: - -d flag = detached mode. This means to run the container and once the container is running, Docker will return the terminal back to us. This way we can then use the terminal to input other commands, such as docker ps to check the running containers. Without the -d flag, the terminal will appear to “hang up” because it’s being used by the Docker container. - -p flag = port mapping. This flag is used commonly like this: -p 8888:8888 which means we want to map the host port of 8888 at the front with the container port of 8888 at the back. This allows for some customization. Let’s say for example, the host port of 8888 is taken, we can then map the host port to another empty port, such as 8889. Thus the flag becomes -p 8889:8888. - --name flag = naming the container. This flag is used to create a text identifier which is easier to remember for human, compared to the alphanumeric ID of the container."
   ]
  },
  {
   "cell_type": "markdown",
   "id": "60130e2e",
   "metadata": {},
   "source": [
    "In choosing a port for use by Docker container, keep in mind that port below 1024 is reserved, so you must not use it, because it may interfere with the working of your computer."
   ]
  },
  {
   "cell_type": "markdown",
   "id": "60be5695",
   "metadata": {},
   "source": [
    "# docker ps"
   ]
  },
  {
   "cell_type": "markdown",
   "id": "0386a2c7",
   "metadata": {},
   "source": [
    "When we want to know what containers are running in our system, we use docker ps to list all running containers. Since we still have our Jupyter Notebook running, when we run this command, we should get something like this:"
   ]
  },
  {
   "cell_type": "markdown",
   "id": "e85db9d8",
   "metadata": {},
   "source": []
  },
  {
   "cell_type": "markdown",
   "id": "e496340a",
   "metadata": {},
   "source": [
    "![Image](https://storage.googleapis.com/rg-ai-bootcamp/mlops/docker-ps.png)"
   ]
  },
  {
   "cell_type": "markdown",
   "id": "c23e103b",
   "metadata": {},
   "source": [
    "The terminal is a bit small, so the information is divided into two lines. Here’s the pair of information: | Key | Value | |——–|——–| | CONTAINER ID | 9af65e58e9df | | IMAGE | jupyter/base-notebook | | COMMAND | “tini -g – start-no…” | | CREATED | 13 seconds ago | | STATUS | Up 12 seconds (healthy) | | PORTS | 0.0.0.0:8888->8888/tcp | | NAMES | myjupyter |"
   ]
  },
  {
   "cell_type": "markdown",
   "id": "ef3e32aa",
   "metadata": {},
   "source": [
    "Note that your information Value may be different because the data is unique to each computer."
   ]
  },
  {
   "cell_type": "markdown",
   "id": "fa6d772f",
   "metadata": {},
   "source": [
    "Now, docker ps only shows activly running container, to list all container, we need to pass the switch -a, like this:"
   ]
  },
  {
   "cell_type": "code",
   "execution_count": null,
   "id": "7117eede",
   "metadata": {},
   "outputs": [],
   "source": [
    "docker ps -a"
   ]
  },
  {
   "cell_type": "markdown",
   "id": "38336e42",
   "metadata": {},
   "source": [
    "Here’s what it looks like:"
   ]
  },
  {
   "cell_type": "markdown",
   "id": "d4525f37",
   "metadata": {},
   "source": []
  },
  {
   "cell_type": "markdown",
   "id": "1c591924",
   "metadata": {},
   "source": [
    "![Image](https://storage.googleapis.com/rg-ai-bootcamp/mlops/docker-ps-a.png)"
   ]
  },
  {
   "cell_type": "markdown",
   "id": "74b34d6e",
   "metadata": {},
   "source": [
    "# docker stop"
   ]
  },
  {
   "cell_type": "markdown",
   "id": "cf23c31f",
   "metadata": {},
   "source": [
    "To stop a running container, we use docker stop followed by either the Container ID or Container Name. Using our prior example, we can issue the following command:"
   ]
  },
  {
   "cell_type": "code",
   "execution_count": null,
   "id": "7936dd1c",
   "metadata": {},
   "outputs": [],
   "source": [
    "docker stop myjupyter"
   ]
  },
  {
   "cell_type": "markdown",
   "id": "1d1ef15a",
   "metadata": {},
   "source": [
    "Where myjupyter is the name of our container. We can then check if the container is no longer running using docker ps"
   ]
  },
  {
   "cell_type": "markdown",
   "id": "39a6c6f9",
   "metadata": {},
   "source": [
    "Here’s what it looks like:"
   ]
  },
  {
   "cell_type": "markdown",
   "id": "5a9b7735",
   "metadata": {},
   "source": []
  },
  {
   "cell_type": "markdown",
   "id": "4d03818f",
   "metadata": {},
   "source": [
    "![Image](https://storage.googleapis.com/rg-ai-bootcamp/mlops/docker-stop.png)"
   ]
  },
  {
   "cell_type": "markdown",
   "id": "12645f7f",
   "metadata": {},
   "source": [
    "Note that I deliberately add extra lines so you can clearly see what each command output is. As you can see, docker ps no longer contains anything."
   ]
  },
  {
   "cell_type": "markdown",
   "id": "3d49fcda",
   "metadata": {},
   "source": [
    "# docker start"
   ]
  },
  {
   "cell_type": "markdown",
   "id": "f68d162c",
   "metadata": {},
   "source": [
    "We can start a container that already exists in our local Docker image using docker start. We’ll cover Docker image after this, please bear with me for a while."
   ]
  },
  {
   "cell_type": "markdown",
   "id": "1290d5ea",
   "metadata": {},
   "source": [
    "If you recall, we give a name to our container myjupyter which we set when we set up using docker run and we also use the name when we stop the container. We can also use the name to start a container."
   ]
  },
  {
   "cell_type": "code",
   "execution_count": null,
   "id": "de41af84",
   "metadata": {},
   "outputs": [],
   "source": [
    "docker start myjupyter"
   ]
  },
  {
   "cell_type": "markdown",
   "id": "e19e8694",
   "metadata": {},
   "source": [
    "Here’s what it looks like:"
   ]
  },
  {
   "cell_type": "markdown",
   "id": "30384877",
   "metadata": {},
   "source": []
  },
  {
   "cell_type": "markdown",
   "id": "3b990219",
   "metadata": {},
   "source": [
    "![Image](https://storage.googleapis.com/rg-ai-bootcamp/mlops/docker-start.png)"
   ]
  },
  {
   "cell_type": "markdown",
   "id": "6f4346b5",
   "metadata": {},
   "source": [
    "# docker rm"
   ]
  },
  {
   "cell_type": "markdown",
   "id": "53ccb92f",
   "metadata": {},
   "source": [
    "This command is used when we want to save disk space because this will delete the container from the hard disk. Once this is done, we cannot use docker start, instead we have to use docker run to reinstall the container. This is useful if for example we have a new version of jupyter notebook that we want to try out before using it for our AI application. Once we finish the try out, we can then either move our AI application to the new version and delete the old version or vice versa."
   ]
  },
  {
   "cell_type": "markdown",
   "id": "c5a2dafd",
   "metadata": {},
   "source": [
    "To remove a container, we can simply issue the command using the name of the container, alternatively we can also use the Container ID."
   ]
  },
  {
   "cell_type": "markdown",
   "id": "36dad161",
   "metadata": {},
   "source": [
    "Note that in order to remove a container we have to stop the container first."
   ]
  },
  {
   "cell_type": "code",
   "execution_count": null,
   "id": "a89d8dbb",
   "metadata": {},
   "outputs": [],
   "source": [
    "docker rm myjupyter"
   ]
  },
  {
   "cell_type": "markdown",
   "id": "1cb71e55",
   "metadata": {},
   "source": [
    "Here’s what it looks like:"
   ]
  },
  {
   "cell_type": "markdown",
   "id": "887a1188",
   "metadata": {},
   "source": []
  },
  {
   "cell_type": "markdown",
   "id": "0ece8d59",
   "metadata": {},
   "source": [
    "![Image](https://storage.googleapis.com/rg-ai-bootcamp/mlops/docker-rm.png)"
   ]
  },
  {
   "cell_type": "markdown",
   "id": "8718dfcc",
   "metadata": {},
   "source": [
    "# docker images"
   ]
  },
  {
   "cell_type": "markdown",
   "id": "38b107b5",
   "metadata": {},
   "source": [
    "Since images and containers are two different objects, we have different commands for images."
   ]
  },
  {
   "cell_type": "markdown",
   "id": "74b434bf",
   "metadata": {},
   "source": [
    "To see what images are available in our computer, we can run:"
   ]
  },
  {
   "cell_type": "code",
   "execution_count": null,
   "id": "bd80130b",
   "metadata": {},
   "outputs": [],
   "source": [
    "docker images"
   ]
  },
  {
   "cell_type": "markdown",
   "id": "7b85cc46",
   "metadata": {},
   "source": [
    "Let’s see what it looks like:"
   ]
  },
  {
   "cell_type": "markdown",
   "id": "f221b161",
   "metadata": {},
   "source": []
  },
  {
   "cell_type": "markdown",
   "id": "518746af",
   "metadata": {},
   "source": [
    "![Image](https://storage.googleapis.com/rg-ai-bootcamp/mlops/docker-images.png)"
   ]
  },
  {
   "cell_type": "markdown",
   "id": "6b94799d",
   "metadata": {},
   "source": [
    "As you can see, we have jupyter/base-notebook image which is used for creating our container named myjupyter earlier. There is also the hello-world image. There are also other Docker images which are created in the author’s computer."
   ]
  },
  {
   "cell_type": "markdown",
   "id": "04bfc818",
   "metadata": {},
   "source": [
    "# docker rmi"
   ]
  },
  {
   "cell_type": "markdown",
   "id": "644ed5d2",
   "metadata": {},
   "source": [
    "Keep in mind that both containers and images takes up disk space, so we may want to delete them once we no longer use them. We already know how to remove a container, we can do the same with images. We run the the command docker rmi followed by the Image Name or ID which we can get from the docker images command. The Image Name is listed under Repository"
   ]
  },
  {
   "cell_type": "markdown",
   "id": "9063ab0e",
   "metadata": {},
   "source": [
    "Let’s say we want to delete hello-world image:"
   ]
  },
  {
   "cell_type": "code",
   "execution_count": null,
   "id": "4e9eb8cd",
   "metadata": {},
   "outputs": [],
   "source": [
    "docker rmi hello-world"
   ]
  },
  {
   "cell_type": "markdown",
   "id": "f3e77639",
   "metadata": {},
   "source": [
    "You may encounter some error when deleting, make sure that you have stopped and removed the container that uses the image first. Use docker ps -a to list all the containers, not just active ones."
   ]
  },
  {
   "cell_type": "markdown",
   "id": "a7847929",
   "metadata": {},
   "source": [
    "Now, here’s what the result looks like:"
   ]
  },
  {
   "cell_type": "markdown",
   "id": "ec3e4dd9",
   "metadata": {},
   "source": []
  },
  {
   "cell_type": "markdown",
   "id": "6a11cc17",
   "metadata": {},
   "source": [
    "![Image](https://storage.googleapis.com/rg-ai-bootcamp/mlops/docker-rmi.png)"
   ]
  },
  {
   "cell_type": "markdown",
   "id": "b3f663a5",
   "metadata": {},
   "source": [
    "Now that we know how Docker works, let’s head over to the next notebook, where we will create our own Docker image. Using docker build of course."
   ]
  }
 ],
 "metadata": {},
 "nbformat": 4,
 "nbformat_minor": 5
}
