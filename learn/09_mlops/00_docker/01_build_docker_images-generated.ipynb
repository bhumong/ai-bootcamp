{
 "cells": [
  {
   "cell_type": "markdown",
   "id": "3e74620d",
   "metadata": {},
   "source": [
    "source: [link](https://ai-bootcamp.ruangguru.com/learn/09_mlops/00_docker/01_build_docker_images.html)"
   ]
  },
  {
   "cell_type": "markdown",
   "id": "7d3c34a7",
   "metadata": {},
   "source": [
    "# Building Docker Images for Python Apps"
   ]
  },
  {
   "cell_type": "markdown",
   "id": "4aea5a1e",
   "metadata": {},
   "source": [
    "Now that we are familiar with Docker commands and how it works, let’s create our own Docker image using docker build. First things first, building a Docker image for Python applications involves creating a Dockerfile, specifying a base image, installing Python dependencies, copying your application code, and exposing necessary ports."
   ]
  },
  {
   "cell_type": "markdown",
   "id": "d4fe4066",
   "metadata": {},
   "source": [
    "In summary, a Dockerfile is a text file that contains a set of instructions Docker uses to construct an image. So, we are essentially building our own Docker image."
   ]
  },
  {
   "cell_type": "markdown",
   "id": "a8858a44",
   "metadata": {},
   "source": [
    "# Simple Demo App"
   ]
  },
  {
   "cell_type": "markdown",
   "id": "fcd0df1d",
   "metadata": {},
   "source": [
    "For demo purposes, we’ll be using a simple sentiment analysis model called TextBlob and expose it using Gradio."
   ]
  },
  {
   "cell_type": "markdown",
   "id": "233565db",
   "metadata": {},
   "source": [
    "You can of course swap TextBlob with your own model, also feel free to change Gradio with FastAPI or similar tools."
   ]
  },
  {
   "cell_type": "markdown",
   "id": "ff4472f3",
   "metadata": {},
   "source": [
    "Please download the following file beforehand so you can focus on building Docker Images: 1. requirements.txt 2. app.py"
   ]
  },
  {
   "cell_type": "markdown",
   "id": "7f53b3ad",
   "metadata": {},
   "source": [
    "First create a folder for the project, next copy the two files downloaded above to the project folder, then continue with the steps outlined below."
   ]
  },
  {
   "cell_type": "markdown",
   "id": "b008f2e3",
   "metadata": {},
   "source": [
    "# Creating a Dockerfile"
   ]
  },
  {
   "cell_type": "markdown",
   "id": "37b282d1",
   "metadata": {},
   "source": [
    "The first step is to create a Dockerfile. A Dockerfile is a text document that contains all the commands a user could call on the command line to assemble an image. It’s typically placed in the root directory of your application. To create one, you can use any text editor to create a new file and save it as Dockerfile."
   ]
  },
  {
   "cell_type": "markdown",
   "id": "3726a915",
   "metadata": {},
   "source": [
    "# Specifying the Base Image"
   ]
  },
  {
   "cell_type": "markdown",
   "id": "2c3c0037",
   "metadata": {},
   "source": [
    "In the Dockerfile, you specify a base image using the FROM keyword. For Python applications, you could use one of the official Python images from Docker Hub. For instance, if you’re using Python 3, your Dockerfile might start with this line:"
   ]
  },
  {
   "cell_type": "code",
   "execution_count": null,
   "id": "8c7bfe43",
   "metadata": {},
   "outputs": [],
   "source": [
    "FROM python:3.8-slim-buster"
   ]
  },
  {
   "cell_type": "markdown",
   "id": "bca1049b",
   "metadata": {},
   "source": [
    "# Specify the Work Directory"
   ]
  },
  {
   "cell_type": "markdown",
   "id": "706d12c3",
   "metadata": {},
   "source": [
    "Next, you will need to specify the working directory where your application will run. This sets the working directory in the container. All following instructions (COPY, RUN, CMD, etc.) will be run in this /app directory. For example:"
   ]
  },
  {
   "cell_type": "code",
   "execution_count": null,
   "id": "8083ba4f",
   "metadata": {},
   "outputs": [],
   "source": [
    "WORKDIR /app"
   ]
  },
  {
   "cell_type": "markdown",
   "id": "230573d4",
   "metadata": {},
   "source": [
    "# Installing Python Dependencies"
   ]
  },
  {
   "cell_type": "markdown",
   "id": "ea0a4e9e",
   "metadata": {},
   "source": [
    "Next, you will need to add the Python dependencies. Your Python dependencies are typically listed in a requirements.txt file. The ADD command copies the requirements file from your local system to the Docker container. The RUN command then uses pip, Python’s package installer, to install those dependencies into the Docker image. It might look like this:"
   ]
  },
  {
   "cell_type": "code",
   "execution_count": null,
   "id": "e90ba15b",
   "metadata": {},
   "outputs": [],
   "source": [
    "ADD requirements.txt /app/\n",
    "RUN pip install -r /app/requirements.txt"
   ]
  },
  {
   "cell_type": "markdown",
   "id": "529678fc",
   "metadata": {},
   "source": [
    "# Copying Your Application Code"
   ]
  },
  {
   "cell_type": "markdown",
   "id": "fd44fdb2",
   "metadata": {},
   "source": [
    "Once dependencies are installed, you can copy your application code to the Docker container using the COPY command. For example:"
   ]
  },
  {
   "cell_type": "code",
   "execution_count": null,
   "id": "5178fc21",
   "metadata": {},
   "outputs": [],
   "source": [
    "COPY app.py /app/"
   ]
  },
  {
   "cell_type": "markdown",
   "id": "d40df645",
   "metadata": {},
   "source": [
    "# Exposing Ports"
   ]
  },
  {
   "cell_type": "markdown",
   "id": "879f16f7",
   "metadata": {},
   "source": [
    "To allow your application to communicate with the outside world, you will need to expose a port using the EXPOSE keyword. For example:"
   ]
  },
  {
   "cell_type": "code",
   "execution_count": null,
   "id": "c5c3c094",
   "metadata": {},
   "outputs": [],
   "source": [
    "EXPOSE 7860"
   ]
  },
  {
   "cell_type": "markdown",
   "id": "b40e1a94",
   "metadata": {},
   "source": [
    "Note that 7860 is the default port used by Gradio, if you are using Fast API, then the default port is 5000 which you must specify here."
   ]
  },
  {
   "cell_type": "markdown",
   "id": "9a5e259d",
   "metadata": {},
   "source": [
    "# Running the application"
   ]
  },
  {
   "cell_type": "markdown",
   "id": "245c951d",
   "metadata": {},
   "source": [
    "To run the application, we need to use the CMD command"
   ]
  },
  {
   "cell_type": "code",
   "execution_count": null,
   "id": "3a29999a",
   "metadata": {},
   "outputs": [],
   "source": [
    "CMD [\"sh\", \"-c\", \"python /app/app.py & tail -f /dev/null\"]"
   ]
  },
  {
   "cell_type": "markdown",
   "id": "283a75b4",
   "metadata": {},
   "source": [
    "The command above starts your application when the Docker container is run. It’s saying: “When this container runs, execute python app.py”."
   ]
  },
  {
   "cell_type": "markdown",
   "id": "ce1f782b",
   "metadata": {},
   "source": [
    "Don’t worry about tail -f /dev/null for now, it’s a quick hack to let Gradio runs indefinitely inside the container."
   ]
  },
  {
   "cell_type": "markdown",
   "id": "c1ead727",
   "metadata": {},
   "source": [
    "That’s it for the Dockerfile, now to actually build the image."
   ]
  },
  {
   "cell_type": "markdown",
   "id": "15223ee3",
   "metadata": {},
   "source": [
    "# Building and Running Your Docker Image"
   ]
  },
  {
   "cell_type": "markdown",
   "id": "8a6efaed",
   "metadata": {},
   "source": [
    "You should now have 3 files inside your project folder, like this:"
   ]
  },
  {
   "cell_type": "markdown",
   "id": "a1db326f",
   "metadata": {},
   "source": []
  },
  {
   "cell_type": "markdown",
   "id": "3d737e10",
   "metadata": {},
   "source": [
    "![Image](https://storage.googleapis.com/rg-ai-bootcamp/mlops/docker-build-app-directory.png)"
   ]
  },
  {
   "cell_type": "markdown",
   "id": "32c46f96",
   "metadata": {},
   "source": [
    "Finally, navigate to the directory containing your Dockerfile and run the following command to build your Docker image:"
   ]
  },
  {
   "cell_type": "code",
   "execution_count": null,
   "id": "c69f7cce",
   "metadata": {},
   "outputs": [],
   "source": [
    "docker build -t my-ai-app ."
   ]
  },
  {
   "cell_type": "markdown",
   "id": "dce25494",
   "metadata": {},
   "source": [
    "Note: include the “.” also, so the whole command includes the dot “.”. In Unix-like terminal such as Linux, the “.” refers to current directory."
   ]
  },
  {
   "cell_type": "markdown",
   "id": "89379c3e",
   "metadata": {},
   "source": []
  },
  {
   "cell_type": "markdown",
   "id": "3f79c1de",
   "metadata": {},
   "source": [
    "![Image](https://storage.googleapis.com/rg-ai-bootcamp/mlops/docker-build.png)"
   ]
  },
  {
   "cell_type": "markdown",
   "id": "ed07b903",
   "metadata": {},
   "source": [
    "To run your Docker image, use the docker run command followed by the image name:"
   ]
  },
  {
   "cell_type": "code",
   "execution_count": null,
   "id": "b742066d",
   "metadata": {},
   "outputs": [],
   "source": [
    "docker run -d -p 7860:7860 --name ai-app my-ai-app"
   ]
  },
  {
   "cell_type": "markdown",
   "id": "ca019ae4",
   "metadata": {},
   "source": []
  },
  {
   "cell_type": "markdown",
   "id": "a4bfb222",
   "metadata": {},
   "source": [
    "![Image](https://storage.googleapis.com/rg-ai-bootcamp/mlops/docker-build-run.png)"
   ]
  },
  {
   "cell_type": "markdown",
   "id": "649290a8",
   "metadata": {},
   "source": [
    "Congratulations, you now have a working AI application inside a Docker container! Go to http://localhost:7860 and have fun!"
   ]
  },
  {
   "cell_type": "markdown",
   "id": "d4b2ea6e",
   "metadata": {},
   "source": []
  },
  {
   "cell_type": "markdown",
   "id": "c2ed0098",
   "metadata": {},
   "source": [
    "![Image](https://storage.googleapis.com/rg-ai-bootcamp/mlops/docker-build-browser.png)"
   ]
  },
  {
   "cell_type": "markdown",
   "id": "06252423",
   "metadata": {},
   "source": [
    "With these steps, you’ve successfully containerized a Python application with Docker. You can use similar processes to containerize applications written in other programming languages as well. Remember, the key to Docker is that it allows you to package an application with all of its dependencies into a standardized unit for software development. This process guarantees that your application will always run the same, no matter where it is deployed."
   ]
  },
  {
   "cell_type": "markdown",
   "id": "4b094f85",
   "metadata": {},
   "source": [
    "Docker simplifies the software development process by ensuring quick, reliable deployments, and fostering collaboration through a consistent working environment. It addresses traditional software development challenges, from managing dependencies to maintaining consistency across different environments. Embracing Docker can revolutionize the entire application lifecycle, infusing innovation and efficiency into your workflows. Ultimately, Docker’s key benefit lies in its ability to package an application with all its dependencies into a standardized unit, ensuring consistent functionality irrespective of the deployment location."
   ]
  }
 ],
 "metadata": {},
 "nbformat": 4,
 "nbformat_minor": 5
}
