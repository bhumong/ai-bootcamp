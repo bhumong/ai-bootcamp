{
 "cells": [
  {
   "cell_type": "markdown",
   "id": "435344d0",
   "metadata": {},
   "source": [
    "source: [https://ai-bootcamp.ruangguru.com/learn/09_mlops/00_docker/01_build_docker_images.html](https://ai-bootcamp.ruangguru.com/learn/09_mlops/00_docker/01_build_docker_images.html)"
   ]
  },
  {
   "cell_type": "markdown",
   "id": "40f09e3f",
   "metadata": {},
   "source": [
    "# Building Docker Images for Python Apps"
   ]
  },
  {
   "cell_type": "markdown",
   "id": "bf50fc3f",
   "metadata": {},
   "source": [
    "Now that we are familiar with Docker commands and how it works, let’s create our own Docker image using docker build. First things first, building a Docker image for Python applications involves creating a Dockerfile, specifying a base image, installing Python dependencies, copying your application code, and exposing necessary ports."
   ]
  },
  {
   "cell_type": "markdown",
   "id": "da764b07",
   "metadata": {},
   "source": [
    "In summary, a Dockerfile is a text file that contains a set of instructions Docker uses to construct an image. So, we are essentially building our own Docker image."
   ]
  },
  {
   "cell_type": "markdown",
   "id": "17c6a8dc",
   "metadata": {},
   "source": [
    "# Simple Demo App"
   ]
  },
  {
   "cell_type": "markdown",
   "id": "0869fdd3",
   "metadata": {},
   "source": [
    "For demo purposes, we’ll be using a simple sentiment analysis model called TextBlob and expose it using Gradio."
   ]
  },
  {
   "cell_type": "markdown",
   "id": "7c3d4e75",
   "metadata": {},
   "source": [
    "You can of course swap TextBlob with your own model, also feel free to change Gradio with FastAPI or similar tools."
   ]
  },
  {
   "cell_type": "markdown",
   "id": "938fb84e",
   "metadata": {},
   "source": [
    "Please download the following file beforehand so you can focus on building Docker Images: 1. requirements.txt 2. app.py"
   ]
  },
  {
   "cell_type": "markdown",
   "id": "11c4abea",
   "metadata": {},
   "source": [
    "First create a folder for the project, next copy the two files downloaded above to the project folder, then continue with the steps outlined below."
   ]
  },
  {
   "cell_type": "markdown",
   "id": "2b37354d",
   "metadata": {},
   "source": [
    "# Creating a Dockerfile"
   ]
  },
  {
   "cell_type": "markdown",
   "id": "e5cfc7db",
   "metadata": {},
   "source": [
    "The first step is to create a Dockerfile. A Dockerfile is a text document that contains all the commands a user could call on the command line to assemble an image. It’s typically placed in the root directory of your application. To create one, you can use any text editor to create a new file and save it as Dockerfile."
   ]
  },
  {
   "cell_type": "markdown",
   "id": "34da6d4e",
   "metadata": {},
   "source": [
    "# Specifying the Base Image"
   ]
  },
  {
   "cell_type": "markdown",
   "id": "b1f8d3d5",
   "metadata": {},
   "source": [
    "In the Dockerfile, you specify a base image using the FROM keyword. For Python applications, you could use one of the official Python images from Docker Hub. For instance, if you’re using Python 3, your Dockerfile might start with this line:"
   ]
  },
  {
   "cell_type": "code",
   "execution_count": null,
   "id": "8a171188",
   "metadata": {},
   "outputs": [],
   "source": [
    "FROM python:3.8-slim-buster"
   ]
  },
  {
   "cell_type": "markdown",
   "id": "601cbf38",
   "metadata": {},
   "source": [
    "# Specify the Work Directory"
   ]
  },
  {
   "cell_type": "markdown",
   "id": "388c74df",
   "metadata": {},
   "source": [
    "Next, you will need to specify the working directory where your application will run. This sets the working directory in the container. All following instructions (COPY, RUN, CMD, etc.) will be run in this /app directory. For example:"
   ]
  },
  {
   "cell_type": "code",
   "execution_count": null,
   "id": "9a9889c2",
   "metadata": {},
   "outputs": [],
   "source": [
    "WORKDIR /app"
   ]
  },
  {
   "cell_type": "markdown",
   "id": "58d316f2",
   "metadata": {},
   "source": [
    "# Installing Python Dependencies"
   ]
  },
  {
   "cell_type": "markdown",
   "id": "8999dc15",
   "metadata": {},
   "source": [
    "Next, you will need to add the Python dependencies. Your Python dependencies are typically listed in a requirements.txt file. The ADD command copies the requirements file from your local system to the Docker container. The RUN command then uses pip, Python’s package installer, to install those dependencies into the Docker image. It might look like this:"
   ]
  },
  {
   "cell_type": "code",
   "execution_count": null,
   "id": "a1346b1f",
   "metadata": {},
   "outputs": [],
   "source": [
    "ADD requirements.txt /app/\n",
    "RUN pip install -r /app/requirements.txt"
   ]
  },
  {
   "cell_type": "markdown",
   "id": "32ba93e6",
   "metadata": {},
   "source": [
    "# Copying Your Application Code"
   ]
  },
  {
   "cell_type": "markdown",
   "id": "94e5e0cd",
   "metadata": {},
   "source": [
    "Once dependencies are installed, you can copy your application code to the Docker container using the COPY command. For example:"
   ]
  },
  {
   "cell_type": "code",
   "execution_count": null,
   "id": "5ddba641",
   "metadata": {},
   "outputs": [],
   "source": [
    "COPY app.py /app/"
   ]
  },
  {
   "cell_type": "markdown",
   "id": "1efebf07",
   "metadata": {},
   "source": [
    "# Exposing Ports"
   ]
  },
  {
   "cell_type": "markdown",
   "id": "0f9b2d50",
   "metadata": {},
   "source": [
    "To allow your application to communicate with the outside world, you will need to expose a port using the EXPOSE keyword. For example:"
   ]
  },
  {
   "cell_type": "code",
   "execution_count": null,
   "id": "3be2b6b9",
   "metadata": {},
   "outputs": [],
   "source": [
    "EXPOSE 7860"
   ]
  },
  {
   "cell_type": "markdown",
   "id": "c3d7b4b3",
   "metadata": {},
   "source": [
    "Note that 7860 is the default port used by Gradio, if you are using Fast API, then the default port is 5000 which you must specify here."
   ]
  },
  {
   "cell_type": "markdown",
   "id": "5829c3e5",
   "metadata": {},
   "source": [
    "# Running the application"
   ]
  },
  {
   "cell_type": "markdown",
   "id": "a0a70e88",
   "metadata": {},
   "source": [
    "To run the application, we need to use the CMD command"
   ]
  },
  {
   "cell_type": "code",
   "execution_count": null,
   "id": "1f058232",
   "metadata": {},
   "outputs": [],
   "source": [
    "CMD [\"sh\", \"-c\", \"python /app/app.py & tail -f /dev/null\"]"
   ]
  },
  {
   "cell_type": "markdown",
   "id": "b25af132",
   "metadata": {},
   "source": [
    "The command above starts your application when the Docker container is run. It’s saying: “When this container runs, execute python app.py”."
   ]
  },
  {
   "cell_type": "markdown",
   "id": "3aa3cd3f",
   "metadata": {},
   "source": [
    "> Don’t worry abouttail -f /dev/nullfor now, it’s a quick hack to let Gradio runs indefinitely inside the container."
   ]
  },
  {
   "cell_type": "markdown",
   "id": "3e8038a7",
   "metadata": {},
   "source": [
    "Don’t worry about tail -f /dev/null for now, it’s a quick hack to let Gradio runs indefinitely inside the container."
   ]
  },
  {
   "cell_type": "markdown",
   "id": "b1626021",
   "metadata": {},
   "source": [
    "That’s it for the Dockerfile, now to actually build the image."
   ]
  },
  {
   "cell_type": "markdown",
   "id": "c20c768a",
   "metadata": {},
   "source": [
    "# Building and Running Your Docker Image"
   ]
  },
  {
   "cell_type": "markdown",
   "id": "25db6f58",
   "metadata": {},
   "source": [
    "You should now have 3 files inside your project folder, like this:"
   ]
  },
  {
   "cell_type": "markdown",
   "id": "68bcf2bc",
   "metadata": {},
   "source": []
  },
  {
   "cell_type": "markdown",
   "id": "c19989e5",
   "metadata": {},
   "source": [
    "![Image](https://storage.googleapis.com/rg-ai-bootcamp/mlops/docker-build-app-directory.png)"
   ]
  },
  {
   "cell_type": "markdown",
   "id": "67f2fbcf",
   "metadata": {},
   "source": [
    "Finally, navigate to the directory containing your Dockerfile and run the following command to build your Docker image:"
   ]
  },
  {
   "cell_type": "code",
   "execution_count": null,
   "id": "d1003d37",
   "metadata": {},
   "outputs": [],
   "source": [
    "docker build -t my-ai-app ."
   ]
  },
  {
   "cell_type": "markdown",
   "id": "d994ad1a",
   "metadata": {},
   "source": [
    "> Note: include the “.” also, so the whole command includes the dot “.”. In Unix-like terminal such as Linux, the “.” refers to current directory."
   ]
  },
  {
   "cell_type": "markdown",
   "id": "8a6d377a",
   "metadata": {},
   "source": [
    "Note: include the “.” also, so the whole command includes the dot “.”. In Unix-like terminal such as Linux, the “.” refers to current directory."
   ]
  },
  {
   "cell_type": "markdown",
   "id": "f17f71de",
   "metadata": {},
   "source": []
  },
  {
   "cell_type": "markdown",
   "id": "06059c10",
   "metadata": {},
   "source": [
    "![Image](https://storage.googleapis.com/rg-ai-bootcamp/mlops/docker-build.png)"
   ]
  },
  {
   "cell_type": "markdown",
   "id": "1190754e",
   "metadata": {},
   "source": [
    "To run your Docker image, use the docker run command followed by the image name:"
   ]
  },
  {
   "cell_type": "code",
   "execution_count": null,
   "id": "c8c26d12",
   "metadata": {},
   "outputs": [],
   "source": [
    "docker run -d -p 7860:7860 --name ai-app my-ai-app"
   ]
  },
  {
   "cell_type": "markdown",
   "id": "b2920692",
   "metadata": {},
   "source": []
  },
  {
   "cell_type": "markdown",
   "id": "0380dc2e",
   "metadata": {},
   "source": [
    "![Image](https://storage.googleapis.com/rg-ai-bootcamp/mlops/docker-build-run.png)"
   ]
  },
  {
   "cell_type": "markdown",
   "id": "85c1a69c",
   "metadata": {},
   "source": [
    "Congratulations, you now have a working AI application inside a Docker container! Go to http://localhost:7860 and have fun!"
   ]
  },
  {
   "cell_type": "markdown",
   "id": "f0d08fad",
   "metadata": {},
   "source": []
  },
  {
   "cell_type": "markdown",
   "id": "e67bd870",
   "metadata": {},
   "source": [
    "![Image](https://storage.googleapis.com/rg-ai-bootcamp/mlops/docker-build-browser.png)"
   ]
  },
  {
   "cell_type": "markdown",
   "id": "44d32f07",
   "metadata": {},
   "source": [
    "With these steps, you’ve successfully containerized a Python application with Docker. You can use similar processes to containerize applications written in other programming languages as well. Remember, the key to Docker is that it allows you to package an application with all of its dependencies into a standardized unit for software development. This process guarantees that your application will always run the same, no matter where it is deployed."
   ]
  },
  {
   "cell_type": "markdown",
   "id": "8ce63f56",
   "metadata": {},
   "source": [
    "Docker simplifies the software development process by ensuring quick, reliable deployments, and fostering collaboration through a consistent working environment. It addresses traditional software development challenges, from managing dependencies to maintaining consistency across different environments. Embracing Docker can revolutionize the entire application lifecycle, infusing innovation and efficiency into your workflows. Ultimately, Docker’s key benefit lies in its ability to package an application with all its dependencies into a standardized unit, ensuring consistent functionality irrespective of the deployment location."
   ]
  }
 ],
 "metadata": {},
 "nbformat": 4,
 "nbformat_minor": 5
}
