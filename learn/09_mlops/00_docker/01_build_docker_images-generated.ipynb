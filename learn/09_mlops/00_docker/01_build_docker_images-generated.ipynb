{
 "cells": [
  {
   "cell_type": "markdown",
   "id": "dc4654c5",
   "metadata": {},
   "source": [
    "# Building Docker Images for Python Apps"
   ]
  },
  {
   "cell_type": "markdown",
   "id": "83196be5",
   "metadata": {},
   "source": [
    "Now that we are familiar with Docker commands and how it works, let’s create our own Docker image using docker build. First things first, building a Docker image for Python applications involves creating a Dockerfile, specifying a base image, installing Python dependencies, copying your application code, and exposing necessary ports."
   ]
  },
  {
   "cell_type": "markdown",
   "id": "7b73a248",
   "metadata": {},
   "source": [
    "In summary, a Dockerfile is a text file that contains a set of instructions Docker uses to construct an image. So, we are essentially building our own Docker image."
   ]
  },
  {
   "cell_type": "markdown",
   "id": "f12ee3d6",
   "metadata": {},
   "source": [
    "# Simple Demo App"
   ]
  },
  {
   "cell_type": "markdown",
   "id": "78d1cda6",
   "metadata": {},
   "source": [
    "For demo purposes, we’ll be using a simple sentiment analysis model called TextBlob and expose it using Gradio."
   ]
  },
  {
   "cell_type": "markdown",
   "id": "ba72c2b7",
   "metadata": {},
   "source": [
    "You can of course swap TextBlob with your own model, also feel free to change Gradio with FastAPI or similar tools."
   ]
  },
  {
   "cell_type": "markdown",
   "id": "d6d33c96",
   "metadata": {},
   "source": [
    "Please download the following file beforehand so you can focus on building Docker Images: 1. requirements.txt 2. app.py"
   ]
  },
  {
   "cell_type": "markdown",
   "id": "8750e65a",
   "metadata": {},
   "source": [
    "First create a folder for the project, next copy the two files downloaded above to the project folder, then continue with the steps outlined below."
   ]
  },
  {
   "cell_type": "markdown",
   "id": "edb008fa",
   "metadata": {},
   "source": [
    "# Creating a Dockerfile"
   ]
  },
  {
   "cell_type": "markdown",
   "id": "7ff7674b",
   "metadata": {},
   "source": [
    "The first step is to create a Dockerfile. A Dockerfile is a text document that contains all the commands a user could call on the command line to assemble an image. It’s typically placed in the root directory of your application. To create one, you can use any text editor to create a new file and save it as Dockerfile."
   ]
  },
  {
   "cell_type": "markdown",
   "id": "8d75e5dd",
   "metadata": {},
   "source": [
    "# Specifying the Base Image"
   ]
  },
  {
   "cell_type": "markdown",
   "id": "377647ec",
   "metadata": {},
   "source": [
    "In the Dockerfile, you specify a base image using the FROM keyword. For Python applications, you could use one of the official Python images from Docker Hub. For instance, if you’re using Python 3, your Dockerfile might start with this line:"
   ]
  },
  {
   "cell_type": "code",
   "execution_count": null,
   "id": "649ac262",
   "metadata": {},
   "outputs": [],
   "source": [
    "FROM python:3.8-slim-buster"
   ]
  },
  {
   "cell_type": "markdown",
   "id": "b39780e8",
   "metadata": {},
   "source": [
    "# Specify the Work Directory"
   ]
  },
  {
   "cell_type": "markdown",
   "id": "ad951f69",
   "metadata": {},
   "source": [
    "Next, you will need to specify the working directory where your application will run. This sets the working directory in the container. All following instructions (COPY, RUN, CMD, etc.) will be run in this /app directory. For example:"
   ]
  },
  {
   "cell_type": "code",
   "execution_count": null,
   "id": "809cf5d7",
   "metadata": {},
   "outputs": [],
   "source": [
    "WORKDIR /app"
   ]
  },
  {
   "cell_type": "markdown",
   "id": "d80c9b39",
   "metadata": {},
   "source": [
    "# Installing Python Dependencies"
   ]
  },
  {
   "cell_type": "markdown",
   "id": "194b6929",
   "metadata": {},
   "source": [
    "Next, you will need to add the Python dependencies. Your Python dependencies are typically listed in a requirements.txt file. The ADD command copies the requirements file from your local system to the Docker container. The RUN command then uses pip, Python’s package installer, to install those dependencies into the Docker image. It might look like this:"
   ]
  },
  {
   "cell_type": "code",
   "execution_count": null,
   "id": "b67a1d8d",
   "metadata": {},
   "outputs": [],
   "source": [
    "ADD requirements.txt /app/\n",
    "RUN pip install -r /app/requirements.txt"
   ]
  },
  {
   "cell_type": "markdown",
   "id": "a7413ddf",
   "metadata": {},
   "source": [
    "# Copying Your Application Code"
   ]
  },
  {
   "cell_type": "markdown",
   "id": "cd4e7439",
   "metadata": {},
   "source": [
    "Once dependencies are installed, you can copy your application code to the Docker container using the COPY command. For example:"
   ]
  },
  {
   "cell_type": "code",
   "execution_count": null,
   "id": "810d9ae3",
   "metadata": {},
   "outputs": [],
   "source": [
    "COPY app.py /app/"
   ]
  },
  {
   "cell_type": "markdown",
   "id": "1d8978fc",
   "metadata": {},
   "source": [
    "# Exposing Ports"
   ]
  },
  {
   "cell_type": "markdown",
   "id": "3f7ae9af",
   "metadata": {},
   "source": [
    "To allow your application to communicate with the outside world, you will need to expose a port using the EXPOSE keyword. For example:"
   ]
  },
  {
   "cell_type": "code",
   "execution_count": null,
   "id": "80614b13",
   "metadata": {},
   "outputs": [],
   "source": [
    "EXPOSE 7860"
   ]
  },
  {
   "cell_type": "markdown",
   "id": "bf858e24",
   "metadata": {},
   "source": [
    "Note that 7860 is the default port used by Gradio, if you are using Fast API, then the default port is 5000 which you must specify here."
   ]
  },
  {
   "cell_type": "markdown",
   "id": "cf5bce4f",
   "metadata": {},
   "source": [
    "# Running the application"
   ]
  },
  {
   "cell_type": "markdown",
   "id": "1569380b",
   "metadata": {},
   "source": [
    "To run the application, we need to use the CMD command"
   ]
  },
  {
   "cell_type": "code",
   "execution_count": null,
   "id": "46ebe479",
   "metadata": {},
   "outputs": [],
   "source": [
    "CMD [\"sh\", \"-c\", \"python /app/app.py & tail -f /dev/null\"]"
   ]
  },
  {
   "cell_type": "markdown",
   "id": "ad645694",
   "metadata": {},
   "source": [
    "The command above starts your application when the Docker container is run. It’s saying: “When this container runs, execute python app.py”."
   ]
  },
  {
   "cell_type": "markdown",
   "id": "b08e2079",
   "metadata": {},
   "source": [
    "Don’t worry about tail -f /dev/null for now, it’s a quick hack to let Gradio runs indefinitely inside the container."
   ]
  },
  {
   "cell_type": "markdown",
   "id": "3a9953dc",
   "metadata": {},
   "source": [
    "That’s it for the Dockerfile, now to actually build the image."
   ]
  },
  {
   "cell_type": "markdown",
   "id": "c9ec4319",
   "metadata": {},
   "source": [
    "# Building and Running Your Docker Image"
   ]
  },
  {
   "cell_type": "markdown",
   "id": "bd32a604",
   "metadata": {},
   "source": [
    "You should now have 3 files inside your project folder, like this:"
   ]
  },
  {
   "cell_type": "markdown",
   "id": "eccb3828",
   "metadata": {},
   "source": []
  },
  {
   "cell_type": "markdown",
   "id": "68b47fdb",
   "metadata": {},
   "source": [
    "Finally, navigate to the directory containing your Dockerfile and run the following command to build your Docker image:"
   ]
  },
  {
   "cell_type": "code",
   "execution_count": null,
   "id": "9e2d8000",
   "metadata": {},
   "outputs": [],
   "source": [
    "docker build -t my-ai-app ."
   ]
  },
  {
   "cell_type": "markdown",
   "id": "ee8c862c",
   "metadata": {},
   "source": [
    "Note: include the “.” also, so the whole command includes the dot “.”. In Unix-like terminal such as Linux, the “.” refers to current directory."
   ]
  },
  {
   "cell_type": "markdown",
   "id": "fd34cbd1",
   "metadata": {},
   "source": []
  },
  {
   "cell_type": "markdown",
   "id": "1a954bcb",
   "metadata": {},
   "source": [
    "To run your Docker image, use the docker run command followed by the image name:"
   ]
  },
  {
   "cell_type": "code",
   "execution_count": null,
   "id": "d4b2c96c",
   "metadata": {},
   "outputs": [],
   "source": [
    "docker run -d -p 7860:7860 --name ai-app my-ai-app"
   ]
  },
  {
   "cell_type": "markdown",
   "id": "20cdb093",
   "metadata": {},
   "source": []
  },
  {
   "cell_type": "markdown",
   "id": "7518e5be",
   "metadata": {},
   "source": [
    "Congratulations, you now have a working AI application inside a Docker container! Go to http://localhost:7860 and have fun!"
   ]
  },
  {
   "cell_type": "markdown",
   "id": "4a4122d0",
   "metadata": {},
   "source": []
  },
  {
   "cell_type": "markdown",
   "id": "5e869c6b",
   "metadata": {},
   "source": [
    "With these steps, you’ve successfully containerized a Python application with Docker. You can use similar processes to containerize applications written in other programming languages as well. Remember, the key to Docker is that it allows you to package an application with all of its dependencies into a standardized unit for software development. This process guarantees that your application will always run the same, no matter where it is deployed."
   ]
  },
  {
   "cell_type": "markdown",
   "id": "9d3f18e8",
   "metadata": {},
   "source": [
    "Docker simplifies the software development process by ensuring quick, reliable deployments, and fostering collaboration through a consistent working environment. It addresses traditional software development challenges, from managing dependencies to maintaining consistency across different environments. Embracing Docker can revolutionize the entire application lifecycle, infusing innovation and efficiency into your workflows. Ultimately, Docker’s key benefit lies in its ability to package an application with all its dependencies into a standardized unit, ensuring consistent functionality irrespective of the deployment location."
   ]
  }
 ],
 "metadata": {},
 "nbformat": 4,
 "nbformat_minor": 5
}
