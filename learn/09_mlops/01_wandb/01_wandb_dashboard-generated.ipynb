{
 "cells": [
  {
   "cell_type": "markdown",
   "id": "5443a3f8",
   "metadata": {},
   "source": [
    "source: [link](https://ai-bootcamp.ruangguru.com/learn/09_mlops/01_wandb/01_wandb_dashboard.html)"
   ]
  },
  {
   "cell_type": "markdown",
   "id": "b6f86126",
   "metadata": {},
   "source": [
    "# Dashboards in WanDB"
   ]
  },
  {
   "cell_type": "markdown",
   "id": "1de77897",
   "metadata": {},
   "source": [
    "# A. The Importance and Benefits of Dashboards"
   ]
  },
  {
   "cell_type": "markdown",
   "id": "7059b63d",
   "metadata": {},
   "source": [
    "Dashboards in WanDB provide a centralized, visual representation of your machine learning model’s performance. It allows for real-time tracking of multiple aspects of a run, such as loss, accuracy, and other custom metrics."
   ]
  },
  {
   "cell_type": "markdown",
   "id": "64ab92d0",
   "metadata": {},
   "source": [
    "The benefits of using dashboards include:"
   ]
  },
  {
   "cell_type": "markdown",
   "id": "51e40bcf",
   "metadata": {},
   "source": [
    "Collaboration: Dashboards allow team members to share their results and insights, fostering a collaborative environment."
   ]
  },
  {
   "cell_type": "markdown",
   "id": "74fdea6b",
   "metadata": {},
   "source": [
    "Visualization: They provide clear visualizations of complex data, which can reveal patterns and insights that might be hard to understand in raw, numeric format."
   ]
  },
  {
   "cell_type": "markdown",
   "id": "41a302b2",
   "metadata": {},
   "source": [
    "Real-time Monitoring: Dashboards are updated in real-time, enabling you to immediately identify and rectify any issues during the training process."
   ]
  },
  {
   "cell_type": "markdown",
   "id": "39763398",
   "metadata": {},
   "source": [
    "# B. Your Dashboard"
   ]
  },
  {
   "cell_type": "markdown",
   "id": "616abe54",
   "metadata": {},
   "source": [
    "When we create a project, WanDB will automatically create a dashboard for it, you can find it using the left navigation bar icon called Workspace."
   ]
  },
  {
   "cell_type": "markdown",
   "id": "e0279775",
   "metadata": {},
   "source": [
    "You can view it here: WanDB Dashboard"
   ]
  },
  {
   "cell_type": "markdown",
   "id": "ca85548d",
   "metadata": {},
   "source": [
    "Here’s a screenshot:"
   ]
  },
  {
   "cell_type": "markdown",
   "id": "2e574a13",
   "metadata": {},
   "source": []
  },
  {
   "cell_type": "markdown",
   "id": "42dcc2ac",
   "metadata": {},
   "source": [
    "![Image](https://storage.googleapis.com/rg-ai-bootcamp/mlops/wandb-project.png)"
   ]
  },
  {
   "cell_type": "markdown",
   "id": "150ba0c1",
   "metadata": {},
   "source": [
    "# Runs"
   ]
  },
  {
   "cell_type": "markdown",
   "id": "470fa2f1",
   "metadata": {},
   "source": [
    "The area between the navigation bar on the left and the Sections on the right is called Runs. This area shows all the completed working run on the model."
   ]
  },
  {
   "cell_type": "markdown",
   "id": "f3494ab0",
   "metadata": {},
   "source": []
  },
  {
   "cell_type": "markdown",
   "id": "0945cfb5",
   "metadata": {},
   "source": [
    "![Image](https://storage.googleapis.com/rg-ai-bootcamp/mlops/wandb-runs.png)"
   ]
  },
  {
   "cell_type": "markdown",
   "id": "fb239e8e",
   "metadata": {},
   "source": [
    "# Sections"
   ]
  },
  {
   "cell_type": "markdown",
   "id": "9271965a",
   "metadata": {},
   "source": [
    "The dashboard is divided into sections. In the screenshot we can see 3 sections: 1. Charts - Display charts related to the model. 2. System - Display charts related to the hardware used to run the model. 3. Hidden Panel - A special section to hide the charts that you find important but don’t want to clutter the other sections."
   ]
  },
  {
   "cell_type": "markdown",
   "id": "2eb1329f",
   "metadata": {},
   "source": [
    "If we want to add a new section, we can click on the Add Section button at the bottom."
   ]
  },
  {
   "cell_type": "markdown",
   "id": "736e0264",
   "metadata": {},
   "source": []
  },
  {
   "cell_type": "markdown",
   "id": "5cb4d03d",
   "metadata": {},
   "source": [
    "![Image](https://storage.googleapis.com/rg-ai-bootcamp/mlops/wandb-section.png)"
   ]
  },
  {
   "cell_type": "markdown",
   "id": "6d4a6c58",
   "metadata": {},
   "source": [
    "# Panels"
   ]
  },
  {
   "cell_type": "markdown",
   "id": "69cace56",
   "metadata": {},
   "source": [
    "Inside each sections we have panels. If we look at the Charts section, there are 3 panels or charts inside. Each panel can be customized and edited. If we want to add a new panel, there is an Add Panel button at the top right of the section."
   ]
  },
  {
   "cell_type": "markdown",
   "id": "19811df2",
   "metadata": {},
   "source": []
  },
  {
   "cell_type": "markdown",
   "id": "d028c696",
   "metadata": {},
   "source": [
    "![Image](https://storage.googleapis.com/rg-ai-bootcamp/mlops/wandb-panel.png)"
   ]
  },
  {
   "cell_type": "markdown",
   "id": "85b44f0e",
   "metadata": {},
   "source": [
    "# C. Customizing Your Dashboard"
   ]
  },
  {
   "cell_type": "markdown",
   "id": "6a2376bc",
   "metadata": {},
   "source": [
    "You can customize your dashboard to showcase the data that are most relevant to you:"
   ]
  },
  {
   "cell_type": "markdown",
   "id": "dd9946bc",
   "metadata": {},
   "source": [
    "Adding Visualizations: Click on the Add Panel icon in a section to add a visualization. You can choose from a variety of chart types, such as line plots, scatter plots, bar charts, and more."
   ]
  },
  {
   "cell_type": "markdown",
   "id": "296f0a27",
   "metadata": {},
   "source": [
    "Rearranging Sections: To rearrange sections in your dashboard, simply drag and drop them into the desired order."
   ]
  },
  {
   "cell_type": "markdown",
   "id": "2c64257b",
   "metadata": {},
   "source": [
    "Editing Section Titles: Click on the section title to edit it."
   ]
  },
  {
   "cell_type": "markdown",
   "id": "f09de155",
   "metadata": {},
   "source": [
    "# D. Tracking Important Project Information"
   ]
  },
  {
   "cell_type": "markdown",
   "id": "6d37ee1a",
   "metadata": {},
   "source": [
    "Tracking important project information on your dashboard is crucial for evaluation and decision-making:"
   ]
  },
  {
   "cell_type": "markdown",
   "id": "2f090e89",
   "metadata": {},
   "source": [
    "- Model Performance Metrics: Track key metrics such as accuracy, precision, recall, F1 score, and ROC AUC, among others, depending on your specific use case.\n",
    "- System Metrics: You can also track system metrics like GPU usage, CPU usage, memory usage, and more to understand the computational efficiency of your model.\n",
    "- Hyperparameters: Track the hyperparameters used in each run to understand their impact on the model’s performance.\n",
    "- Loss Graphs: Visualize how your model’s loss changes over time to identify if and when your model is converging."
   ]
  },
  {
   "cell_type": "markdown",
   "id": "68e3af47",
   "metadata": {},
   "source": [
    "Model Performance Metrics: Track key metrics such as accuracy, precision, recall, F1 score, and ROC AUC, among others, depending on your specific use case."
   ]
  },
  {
   "cell_type": "markdown",
   "id": "a54f1ddc",
   "metadata": {},
   "source": [
    "System Metrics: You can also track system metrics like GPU usage, CPU usage, memory usage, and more to understand the computational efficiency of your model."
   ]
  },
  {
   "cell_type": "markdown",
   "id": "deb41f14",
   "metadata": {},
   "source": [
    "Hyperparameters: Track the hyperparameters used in each run to understand their impact on the model’s performance."
   ]
  },
  {
   "cell_type": "markdown",
   "id": "b35181fd",
   "metadata": {},
   "source": [
    "Loss Graphs: Visualize how your model’s loss changes over time to identify if and when your model is converging."
   ]
  },
  {
   "cell_type": "markdown",
   "id": "ab4407bb",
   "metadata": {},
   "source": [
    "Remember, what you track will depend on your project’s specific goals and requirements."
   ]
  },
  {
   "cell_type": "markdown",
   "id": "c09efc53",
   "metadata": {},
   "source": [
    "# Monitoring Models with WanDB"
   ]
  },
  {
   "cell_type": "markdown",
   "id": "c9686d65",
   "metadata": {},
   "source": [
    "# A. Uploading a Model for Monitoring"
   ]
  },
  {
   "cell_type": "markdown",
   "id": "85a52065",
   "metadata": {},
   "source": [
    "Once you’ve trained your model, you can upload it to WanDB for monitoring:"
   ]
  },
  {
   "cell_type": "code",
   "execution_count": null,
   "id": "9ef5c247",
   "metadata": {},
   "outputs": [],
   "source": [
    "wandb.save(\"path_to_your_model\")"
   ]
  },
  {
   "cell_type": "markdown",
   "id": "f4341131",
   "metadata": {},
   "source": [
    "This creates a new artifact with the contents of your file and links it to your run."
   ]
  },
  {
   "cell_type": "markdown",
   "id": "244e7859",
   "metadata": {},
   "source": [
    "If you run your model inside a Jupyter notebook and did not use wandb.save then WanDB will create an artifact pointing to your Jupyter notebook."
   ]
  },
  {
   "cell_type": "markdown",
   "id": "7403dfab",
   "metadata": {},
   "source": [
    "# B. Understanding the Metrics and Logs"
   ]
  },
  {
   "cell_type": "markdown",
   "id": "edcfc96a",
   "metadata": {},
   "source": [
    "WanDB allows you to log various types of metrics:"
   ]
  },
  {
   "cell_type": "markdown",
   "id": "8454d118",
   "metadata": {},
   "source": [
    "- System Metrics: These metrics include CPU usage, memory usage, GPU temperature, etc. They can be helpful to monitor the computational efficiency of your model.\n",
    "- Model Metrics: These are metrics that indicate the performance of your model, such as loss, accuracy, precision, recall, etc.\n",
    "- Custom Metrics: You can also create and log custom metrics based on your specific needs."
   ]
  },
  {
   "cell_type": "markdown",
   "id": "1bc9e14a",
   "metadata": {},
   "source": [
    "System Metrics: These metrics include CPU usage, memory usage, GPU temperature, etc. They can be helpful to monitor the computational efficiency of your model."
   ]
  },
  {
   "cell_type": "markdown",
   "id": "abde9b5f",
   "metadata": {},
   "source": [
    "Model Metrics: These are metrics that indicate the performance of your model, such as loss, accuracy, precision, recall, etc."
   ]
  },
  {
   "cell_type": "markdown",
   "id": "3dcfbab5",
   "metadata": {},
   "source": [
    "Custom Metrics: You can also create and log custom metrics based on your specific needs."
   ]
  },
  {
   "cell_type": "markdown",
   "id": "ab594f46",
   "metadata": {},
   "source": [
    "To log a metric, use the wandb.log function:"
   ]
  },
  {
   "cell_type": "code",
   "execution_count": null,
   "id": "a8766ccc",
   "metadata": {},
   "outputs": [],
   "source": [
    "wandb.log({\"metric_name\": metric_value})"
   ]
  },
  {
   "cell_type": "markdown",
   "id": "8b90197f",
   "metadata": {},
   "source": [
    "# C. Interpreting Graphs and Charts"
   ]
  },
  {
   "cell_type": "markdown",
   "id": "9ad3d975",
   "metadata": {},
   "source": [
    "WanDB provides a variety of graphs and charts to visualize your logged data:"
   ]
  },
  {
   "cell_type": "markdown",
   "id": "632f7fd4",
   "metadata": {},
   "source": [
    "- Line Plots: These are used primarily to track changes in metrics over time, like loss or accuracy during the training process.\n",
    "- Histograms: These can be used to visualize the distribution of a metric or parameter.\n",
    "- Scatter Plots: These can be used to explore the relationship between two variables.\n",
    "- Bar Charts: These can be useful to compare the performance of different models or runs."
   ]
  },
  {
   "cell_type": "markdown",
   "id": "fcf219cf",
   "metadata": {},
   "source": [
    "Line Plots: These are used primarily to track changes in metrics over time, like loss or accuracy during the training process."
   ]
  },
  {
   "cell_type": "markdown",
   "id": "ac3db383",
   "metadata": {},
   "source": [
    "Histograms: These can be used to visualize the distribution of a metric or parameter."
   ]
  },
  {
   "cell_type": "markdown",
   "id": "c136704f",
   "metadata": {},
   "source": [
    "Scatter Plots: These can be used to explore the relationship between two variables."
   ]
  },
  {
   "cell_type": "markdown",
   "id": "bf7b52bb",
   "metadata": {},
   "source": [
    "Bar Charts: These can be useful to compare the performance of different models or runs."
   ]
  },
  {
   "cell_type": "markdown",
   "id": "5e9aa2fc",
   "metadata": {},
   "source": [
    "You can mouse over any point on a graph or chart to see the exact values, and you can click on any point to go to the corresponding step in the run."
   ]
  },
  {
   "cell_type": "markdown",
   "id": "a4221edf",
   "metadata": {},
   "source": [
    "# D. Comparing Different Models"
   ]
  },
  {
   "cell_type": "markdown",
   "id": "203d0951",
   "metadata": {},
   "source": [
    "WanDB makes it easy to compare different models or runs:"
   ]
  },
  {
   "cell_type": "markdown",
   "id": "64c059b8",
   "metadata": {},
   "source": [
    "In the comparison view, you can see a variety of information, including the values of different metrics, the system and model parameters, and more. This feature makes it easy to identify the best-performing model and understand why it performs well."
   ]
  },
  {
   "cell_type": "markdown",
   "id": "d1f557e0",
   "metadata": {},
   "source": [
    "Let’s view a few examples of WanDB usage:"
   ]
  },
  {
   "cell_type": "markdown",
   "id": "8aa8ff92",
   "metadata": {},
   "source": [
    "- CIFAR10 Model: https://colab.research.google.com/drive/1-aV6DZJwHnN24rQFZwl2i3pSqO9RL6Xj\n",
    "- CIFAR10 WanDB: https://wandb.ai/ayamerushia/cifar10-cnn-wandb/overview\n",
    "- Text Classification on Huggingface Model : https://colab.research.google.com/drive/1wwZp46jhMubG-qgp2GGOf-A-IhZ3J1RO\n",
    "- Text Classification on Huggingface WanDB: https://wandb.ai/ayamerushia/indo-roberta-small-finetune-sentiment-analysis/overview?workspace=user-ayamerushia"
   ]
  },
  {
   "cell_type": "markdown",
   "id": "d3b1dbfe",
   "metadata": {},
   "source": [
    "CIFAR10 Model: https://colab.research.google.com/drive/1-aV6DZJwHnN24rQFZwl2i3pSqO9RL6Xj"
   ]
  },
  {
   "cell_type": "markdown",
   "id": "c2f7a86e",
   "metadata": {},
   "source": [
    "CIFAR10 WanDB: https://wandb.ai/ayamerushia/cifar10-cnn-wandb/overview"
   ]
  },
  {
   "cell_type": "markdown",
   "id": "7d807acb",
   "metadata": {},
   "source": [
    "Text Classification on Huggingface Model : https://colab.research.google.com/drive/1wwZp46jhMubG-qgp2GGOf-A-IhZ3J1RO"
   ]
  },
  {
   "cell_type": "markdown",
   "id": "6544dc69",
   "metadata": {},
   "source": [
    "Text Classification on Huggingface WanDB: https://wandb.ai/ayamerushia/indo-roberta-small-finetune-sentiment-analysis/overview?workspace=user-ayamerushia"
   ]
  }
 ],
 "metadata": {},
 "nbformat": 4,
 "nbformat_minor": 5
}
