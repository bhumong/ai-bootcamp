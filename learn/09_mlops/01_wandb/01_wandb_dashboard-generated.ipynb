{
 "cells": [
  {
   "cell_type": "markdown",
   "id": "b1884395",
   "metadata": {},
   "source": [
    "source: [link](https://ai-bootcamp.ruangguru.com/learn/09_mlops/01_wandb/01_wandb_dashboard.html)"
   ]
  },
  {
   "cell_type": "markdown",
   "id": "dc3cdb79",
   "metadata": {},
   "source": [
    "# Dashboards in WanDB"
   ]
  },
  {
   "cell_type": "markdown",
   "id": "c4d5c362",
   "metadata": {},
   "source": [
    "# A. The Importance and Benefits of Dashboards"
   ]
  },
  {
   "cell_type": "markdown",
   "id": "9fdf5d0f",
   "metadata": {},
   "source": [
    "Dashboards in WanDB provide a centralized, visual representation of your machine learning model’s performance. It allows for real-time tracking of multiple aspects of a run, such as loss, accuracy, and other custom metrics."
   ]
  },
  {
   "cell_type": "markdown",
   "id": "ac91d37c",
   "metadata": {},
   "source": [
    "The benefits of using dashboards include:"
   ]
  },
  {
   "cell_type": "markdown",
   "id": "24c73a80",
   "metadata": {},
   "source": [
    "Collaboration: Dashboards allow team members to share their results and insights, fostering a collaborative environment."
   ]
  },
  {
   "cell_type": "markdown",
   "id": "0cf922c0",
   "metadata": {},
   "source": [
    "Visualization: They provide clear visualizations of complex data, which can reveal patterns and insights that might be hard to understand in raw, numeric format."
   ]
  },
  {
   "cell_type": "markdown",
   "id": "0cfb5856",
   "metadata": {},
   "source": [
    "Real-time Monitoring: Dashboards are updated in real-time, enabling you to immediately identify and rectify any issues during the training process."
   ]
  },
  {
   "cell_type": "markdown",
   "id": "e010237e",
   "metadata": {},
   "source": [
    "# B. Your Dashboard"
   ]
  },
  {
   "cell_type": "markdown",
   "id": "ed8942ab",
   "metadata": {},
   "source": [
    "When we create a project, WanDB will automatically create a dashboard for it, you can find it using the left navigation bar icon called Workspace."
   ]
  },
  {
   "cell_type": "markdown",
   "id": "ec937bec",
   "metadata": {},
   "source": [
    "You can view it here: WanDB Dashboard"
   ]
  },
  {
   "cell_type": "markdown",
   "id": "3cd4bbea",
   "metadata": {},
   "source": [
    "Here’s a screenshot:"
   ]
  },
  {
   "cell_type": "markdown",
   "id": "c8383fb2",
   "metadata": {},
   "source": []
  },
  {
   "cell_type": "markdown",
   "id": "ca3ffd0c",
   "metadata": {},
   "source": [
    "![Image](https://storage.googleapis.com/rg-ai-bootcamp/mlops/wandb-project.png)"
   ]
  },
  {
   "cell_type": "markdown",
   "id": "c345cd8e",
   "metadata": {},
   "source": [
    "# Runs"
   ]
  },
  {
   "cell_type": "markdown",
   "id": "9e7d85ae",
   "metadata": {},
   "source": [
    "The area between the navigation bar on the left and the Sections on the right is called Runs. This area shows all the completed working run on the model."
   ]
  },
  {
   "cell_type": "markdown",
   "id": "47828d5f",
   "metadata": {},
   "source": []
  },
  {
   "cell_type": "markdown",
   "id": "797aae6e",
   "metadata": {},
   "source": [
    "![Image](https://storage.googleapis.com/rg-ai-bootcamp/mlops/wandb-runs.png)"
   ]
  },
  {
   "cell_type": "markdown",
   "id": "d4f558e2",
   "metadata": {},
   "source": [
    "# Sections"
   ]
  },
  {
   "cell_type": "markdown",
   "id": "cff0ad77",
   "metadata": {},
   "source": [
    "The dashboard is divided into sections. In the screenshot we can see 3 sections: 1. Charts - Display charts related to the model. 2. System - Display charts related to the hardware used to run the model. 3. Hidden Panel - A special section to hide the charts that you find important but don’t want to clutter the other sections."
   ]
  },
  {
   "cell_type": "markdown",
   "id": "c53376fd",
   "metadata": {},
   "source": [
    "If we want to add a new section, we can click on the Add Section button at the bottom."
   ]
  },
  {
   "cell_type": "markdown",
   "id": "18cf6c5b",
   "metadata": {},
   "source": []
  },
  {
   "cell_type": "markdown",
   "id": "0f1b6577",
   "metadata": {},
   "source": [
    "![Image](https://storage.googleapis.com/rg-ai-bootcamp/mlops/wandb-section.png)"
   ]
  },
  {
   "cell_type": "markdown",
   "id": "366f79bb",
   "metadata": {},
   "source": [
    "# Panels"
   ]
  },
  {
   "cell_type": "markdown",
   "id": "edba545a",
   "metadata": {},
   "source": [
    "Inside each sections we have panels. If we look at the Charts section, there are 3 panels or charts inside. Each panel can be customized and edited. If we want to add a new panel, there is an Add Panel button at the top right of the section."
   ]
  },
  {
   "cell_type": "markdown",
   "id": "554fc2a0",
   "metadata": {},
   "source": []
  },
  {
   "cell_type": "markdown",
   "id": "23355e25",
   "metadata": {},
   "source": [
    "![Image](https://storage.googleapis.com/rg-ai-bootcamp/mlops/wandb-panel.png)"
   ]
  },
  {
   "cell_type": "markdown",
   "id": "3aceb0c2",
   "metadata": {},
   "source": [
    "# C. Customizing Your Dashboard"
   ]
  },
  {
   "cell_type": "markdown",
   "id": "fd1900ed",
   "metadata": {},
   "source": [
    "You can customize your dashboard to showcase the data that are most relevant to you:"
   ]
  },
  {
   "cell_type": "markdown",
   "id": "226e8f52",
   "metadata": {},
   "source": [
    "Adding Visualizations: Click on the Add Panel icon in a section to add a visualization. You can choose from a variety of chart types, such as line plots, scatter plots, bar charts, and more."
   ]
  },
  {
   "cell_type": "markdown",
   "id": "bfcc5ec0",
   "metadata": {},
   "source": [
    "Rearranging Sections: To rearrange sections in your dashboard, simply drag and drop them into the desired order."
   ]
  },
  {
   "cell_type": "markdown",
   "id": "51b733a9",
   "metadata": {},
   "source": [
    "Editing Section Titles: Click on the section title to edit it."
   ]
  },
  {
   "cell_type": "markdown",
   "id": "52d87e87",
   "metadata": {},
   "source": [
    "# D. Tracking Important Project Information"
   ]
  },
  {
   "cell_type": "markdown",
   "id": "6d3bbddc",
   "metadata": {},
   "source": [
    "Tracking important project information on your dashboard is crucial for evaluation and decision-making:"
   ]
  },
  {
   "cell_type": "markdown",
   "id": "b9e4b6c8",
   "metadata": {},
   "source": [
    "- Model Performance Metrics: Track key metrics such as accuracy, precision, recall, F1 score, and ROC AUC, among others, depending on your specific use case.\n",
    "- System Metrics: You can also track system metrics like GPU usage, CPU usage, memory usage, and more to understand the computational efficiency of your model.\n",
    "- Hyperparameters: Track the hyperparameters used in each run to understand their impact on the model’s performance.\n",
    "- Loss Graphs: Visualize how your model’s loss changes over time to identify if and when your model is converging."
   ]
  },
  {
   "cell_type": "markdown",
   "id": "adbab899",
   "metadata": {},
   "source": [
    "Model Performance Metrics: Track key metrics such as accuracy, precision, recall, F1 score, and ROC AUC, among others, depending on your specific use case."
   ]
  },
  {
   "cell_type": "markdown",
   "id": "717b8eb4",
   "metadata": {},
   "source": [
    "System Metrics: You can also track system metrics like GPU usage, CPU usage, memory usage, and more to understand the computational efficiency of your model."
   ]
  },
  {
   "cell_type": "markdown",
   "id": "398cd95b",
   "metadata": {},
   "source": [
    "Hyperparameters: Track the hyperparameters used in each run to understand their impact on the model’s performance."
   ]
  },
  {
   "cell_type": "markdown",
   "id": "884ce656",
   "metadata": {},
   "source": [
    "Loss Graphs: Visualize how your model’s loss changes over time to identify if and when your model is converging."
   ]
  },
  {
   "cell_type": "markdown",
   "id": "728bd13b",
   "metadata": {},
   "source": [
    "Remember, what you track will depend on your project’s specific goals and requirements."
   ]
  },
  {
   "cell_type": "markdown",
   "id": "2b4f5845",
   "metadata": {},
   "source": [
    "# Monitoring Models with WanDB"
   ]
  },
  {
   "cell_type": "markdown",
   "id": "379324e3",
   "metadata": {},
   "source": [
    "# A. Uploading a Model for Monitoring"
   ]
  },
  {
   "cell_type": "markdown",
   "id": "cca13a2f",
   "metadata": {},
   "source": [
    "Once you’ve trained your model, you can upload it to WanDB for monitoring:"
   ]
  },
  {
   "cell_type": "code",
   "execution_count": null,
   "id": "2538fec5",
   "metadata": {},
   "outputs": [],
   "source": [
    "wandb.save(\"path_to_your_model\")"
   ]
  },
  {
   "cell_type": "markdown",
   "id": "4fb55655",
   "metadata": {},
   "source": [
    "This creates a new artifact with the contents of your file and links it to your run."
   ]
  },
  {
   "cell_type": "markdown",
   "id": "cf43f744",
   "metadata": {},
   "source": [
    "If you run your model inside a Jupyter notebook and did not use wandb.save then WanDB will create an artifact pointing to your Jupyter notebook."
   ]
  },
  {
   "cell_type": "markdown",
   "id": "e13b5195",
   "metadata": {},
   "source": [
    "# B. Understanding the Metrics and Logs"
   ]
  },
  {
   "cell_type": "markdown",
   "id": "d2052c14",
   "metadata": {},
   "source": [
    "WanDB allows you to log various types of metrics:"
   ]
  },
  {
   "cell_type": "markdown",
   "id": "135bd5d8",
   "metadata": {},
   "source": [
    "- System Metrics: These metrics include CPU usage, memory usage, GPU temperature, etc. They can be helpful to monitor the computational efficiency of your model.\n",
    "- Model Metrics: These are metrics that indicate the performance of your model, such as loss, accuracy, precision, recall, etc.\n",
    "- Custom Metrics: You can also create and log custom metrics based on your specific needs."
   ]
  },
  {
   "cell_type": "markdown",
   "id": "7a8e83a6",
   "metadata": {},
   "source": [
    "System Metrics: These metrics include CPU usage, memory usage, GPU temperature, etc. They can be helpful to monitor the computational efficiency of your model."
   ]
  },
  {
   "cell_type": "markdown",
   "id": "7f3d4a1d",
   "metadata": {},
   "source": [
    "Model Metrics: These are metrics that indicate the performance of your model, such as loss, accuracy, precision, recall, etc."
   ]
  },
  {
   "cell_type": "markdown",
   "id": "67857639",
   "metadata": {},
   "source": [
    "Custom Metrics: You can also create and log custom metrics based on your specific needs."
   ]
  },
  {
   "cell_type": "markdown",
   "id": "368c3173",
   "metadata": {},
   "source": [
    "To log a metric, use the wandb.log function:"
   ]
  },
  {
   "cell_type": "code",
   "execution_count": null,
   "id": "a24fb555",
   "metadata": {},
   "outputs": [],
   "source": [
    "wandb.log({\"metric_name\": metric_value})"
   ]
  },
  {
   "cell_type": "markdown",
   "id": "bd44de09",
   "metadata": {},
   "source": [
    "# C. Interpreting Graphs and Charts"
   ]
  },
  {
   "cell_type": "markdown",
   "id": "8c38c729",
   "metadata": {},
   "source": [
    "WanDB provides a variety of graphs and charts to visualize your logged data:"
   ]
  },
  {
   "cell_type": "markdown",
   "id": "f00f4f5f",
   "metadata": {},
   "source": [
    "- Line Plots: These are used primarily to track changes in metrics over time, like loss or accuracy during the training process.\n",
    "- Histograms: These can be used to visualize the distribution of a metric or parameter.\n",
    "- Scatter Plots: These can be used to explore the relationship between two variables.\n",
    "- Bar Charts: These can be useful to compare the performance of different models or runs."
   ]
  },
  {
   "cell_type": "markdown",
   "id": "e45ba695",
   "metadata": {},
   "source": [
    "Line Plots: These are used primarily to track changes in metrics over time, like loss or accuracy during the training process."
   ]
  },
  {
   "cell_type": "markdown",
   "id": "0914b23d",
   "metadata": {},
   "source": [
    "Histograms: These can be used to visualize the distribution of a metric or parameter."
   ]
  },
  {
   "cell_type": "markdown",
   "id": "d005516b",
   "metadata": {},
   "source": [
    "Scatter Plots: These can be used to explore the relationship between two variables."
   ]
  },
  {
   "cell_type": "markdown",
   "id": "daf5efbc",
   "metadata": {},
   "source": [
    "Bar Charts: These can be useful to compare the performance of different models or runs."
   ]
  },
  {
   "cell_type": "markdown",
   "id": "278cc5b7",
   "metadata": {},
   "source": [
    "You can mouse over any point on a graph or chart to see the exact values, and you can click on any point to go to the corresponding step in the run."
   ]
  },
  {
   "cell_type": "markdown",
   "id": "c12d41f9",
   "metadata": {},
   "source": [
    "# D. Comparing Different Models"
   ]
  },
  {
   "cell_type": "markdown",
   "id": "dcf6878b",
   "metadata": {},
   "source": [
    "WanDB makes it easy to compare different models or runs:"
   ]
  },
  {
   "cell_type": "markdown",
   "id": "9a950927",
   "metadata": {},
   "source": [
    "In the comparison view, you can see a variety of information, including the values of different metrics, the system and model parameters, and more. This feature makes it easy to identify the best-performing model and understand why it performs well."
   ]
  },
  {
   "cell_type": "markdown",
   "id": "96879474",
   "metadata": {},
   "source": [
    "Let’s view a few examples of WanDB usage:"
   ]
  },
  {
   "cell_type": "markdown",
   "id": "4340948d",
   "metadata": {},
   "source": [
    "- CIFAR10 Model: https://colab.research.google.com/drive/1-aV6DZJwHnN24rQFZwl2i3pSqO9RL6Xj\n",
    "- CIFAR10 WanDB: https://wandb.ai/ayamerushia/cifar10-cnn-wandb/overview\n",
    "- Text Classification on Huggingface Model : https://colab.research.google.com/drive/1wwZp46jhMubG-qgp2GGOf-A-IhZ3J1RO\n",
    "- Text Classification on Huggingface WanDB: https://wandb.ai/ayamerushia/indo-roberta-small-finetune-sentiment-analysis/overview?workspace=user-ayamerushia"
   ]
  },
  {
   "cell_type": "markdown",
   "id": "06354519",
   "metadata": {},
   "source": [
    "CIFAR10 Model: https://colab.research.google.com/drive/1-aV6DZJwHnN24rQFZwl2i3pSqO9RL6Xj"
   ]
  },
  {
   "cell_type": "markdown",
   "id": "659f2719",
   "metadata": {},
   "source": [
    "CIFAR10 WanDB: https://wandb.ai/ayamerushia/cifar10-cnn-wandb/overview"
   ]
  },
  {
   "cell_type": "markdown",
   "id": "669d4931",
   "metadata": {},
   "source": [
    "Text Classification on Huggingface Model : https://colab.research.google.com/drive/1wwZp46jhMubG-qgp2GGOf-A-IhZ3J1RO"
   ]
  },
  {
   "cell_type": "markdown",
   "id": "eea3fcab",
   "metadata": {},
   "source": [
    "Text Classification on Huggingface WanDB: https://wandb.ai/ayamerushia/indo-roberta-small-finetune-sentiment-analysis/overview?workspace=user-ayamerushia"
   ]
  }
 ],
 "metadata": {},
 "nbformat": 4,
 "nbformat_minor": 5
}
