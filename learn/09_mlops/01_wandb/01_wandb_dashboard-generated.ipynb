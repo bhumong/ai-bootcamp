{
 "cells": [
  {
   "cell_type": "markdown",
   "id": "b8388adb",
   "metadata": {},
   "source": [
    "source: [https://ai-bootcamp.ruangguru.com/learn/09_mlops/01_wandb/01_wandb_dashboard.html](https://ai-bootcamp.ruangguru.com/learn/09_mlops/01_wandb/01_wandb_dashboard.html)"
   ]
  },
  {
   "cell_type": "markdown",
   "id": "45074510",
   "metadata": {},
   "source": [
    "# Dashboards in WanDB"
   ]
  },
  {
   "cell_type": "markdown",
   "id": "2b717072",
   "metadata": {},
   "source": [
    "# A. The Importance and Benefits of Dashboards"
   ]
  },
  {
   "cell_type": "markdown",
   "id": "c38e82ed",
   "metadata": {},
   "source": [
    "Dashboards in WanDB provide a centralized, visual representation of your machine learning model’s performance. It allows for real-time tracking of multiple aspects of a run, such as loss, accuracy, and other custom metrics."
   ]
  },
  {
   "cell_type": "markdown",
   "id": "ca1ea262",
   "metadata": {},
   "source": [
    "The benefits of using dashboards include:"
   ]
  },
  {
   "cell_type": "markdown",
   "id": "a4f75453",
   "metadata": {},
   "source": [
    "Collaboration: Dashboards allow team members to share their results and insights, fostering a collaborative environment."
   ]
  },
  {
   "cell_type": "markdown",
   "id": "801d675c",
   "metadata": {},
   "source": [
    "Visualization: They provide clear visualizations of complex data, which can reveal patterns and insights that might be hard to understand in raw, numeric format."
   ]
  },
  {
   "cell_type": "markdown",
   "id": "1a80ee0d",
   "metadata": {},
   "source": [
    "Real-time Monitoring: Dashboards are updated in real-time, enabling you to immediately identify and rectify any issues during the training process."
   ]
  },
  {
   "cell_type": "markdown",
   "id": "031dd0b2",
   "metadata": {},
   "source": [
    "# B. Your Dashboard"
   ]
  },
  {
   "cell_type": "markdown",
   "id": "c2f33892",
   "metadata": {},
   "source": [
    "When we create a project, WanDB will automatically create a dashboard for it, you can find it using the left navigation bar icon called Workspace."
   ]
  },
  {
   "cell_type": "markdown",
   "id": "63ba4007",
   "metadata": {},
   "source": [
    "You can view it here: WanDB Dashboard"
   ]
  },
  {
   "cell_type": "markdown",
   "id": "2018f8dd",
   "metadata": {},
   "source": [
    "Here’s a screenshot:"
   ]
  },
  {
   "cell_type": "markdown",
   "id": "949fff70",
   "metadata": {},
   "source": []
  },
  {
   "cell_type": "markdown",
   "id": "c51d4be6",
   "metadata": {},
   "source": [
    "![Image](https://storage.googleapis.com/rg-ai-bootcamp/mlops/wandb-project.png)"
   ]
  },
  {
   "cell_type": "markdown",
   "id": "f5039a17",
   "metadata": {},
   "source": [
    "# Runs"
   ]
  },
  {
   "cell_type": "markdown",
   "id": "4210eb49",
   "metadata": {},
   "source": [
    "The area between the navigation bar on the left and the Sections on the right is called Runs. This area shows all the completed working run on the model."
   ]
  },
  {
   "cell_type": "markdown",
   "id": "7b17f2c1",
   "metadata": {},
   "source": []
  },
  {
   "cell_type": "markdown",
   "id": "b03ccd80",
   "metadata": {},
   "source": [
    "![Image](https://storage.googleapis.com/rg-ai-bootcamp/mlops/wandb-runs.png)"
   ]
  },
  {
   "cell_type": "markdown",
   "id": "e978cee3",
   "metadata": {},
   "source": [
    "# Sections"
   ]
  },
  {
   "cell_type": "markdown",
   "id": "35749952",
   "metadata": {},
   "source": [
    "The dashboard is divided into sections. In the screenshot we can see 3 sections: 1. Charts - Display charts related to the model. 2. System - Display charts related to the hardware used to run the model. 3. Hidden Panel - A special section to hide the charts that you find important but don’t want to clutter the other sections."
   ]
  },
  {
   "cell_type": "markdown",
   "id": "16241593",
   "metadata": {},
   "source": [
    "If we want to add a new section, we can click on the Add Section button at the bottom."
   ]
  },
  {
   "cell_type": "markdown",
   "id": "0dd97a7d",
   "metadata": {},
   "source": []
  },
  {
   "cell_type": "markdown",
   "id": "659ebad2",
   "metadata": {},
   "source": [
    "![Image](https://storage.googleapis.com/rg-ai-bootcamp/mlops/wandb-section.png)"
   ]
  },
  {
   "cell_type": "markdown",
   "id": "a16dce1a",
   "metadata": {},
   "source": [
    "# Panels"
   ]
  },
  {
   "cell_type": "markdown",
   "id": "dfc8f934",
   "metadata": {},
   "source": [
    "Inside each sections we have panels. If we look at the Charts section, there are 3 panels or charts inside. Each panel can be customized and edited. If we want to add a new panel, there is an Add Panel button at the top right of the section."
   ]
  },
  {
   "cell_type": "markdown",
   "id": "03c8f270",
   "metadata": {},
   "source": []
  },
  {
   "cell_type": "markdown",
   "id": "53430c8b",
   "metadata": {},
   "source": [
    "![Image](https://storage.googleapis.com/rg-ai-bootcamp/mlops/wandb-panel.png)"
   ]
  },
  {
   "cell_type": "markdown",
   "id": "cec32a0d",
   "metadata": {},
   "source": [
    "# C. Customizing Your Dashboard"
   ]
  },
  {
   "cell_type": "markdown",
   "id": "f81cddd2",
   "metadata": {},
   "source": [
    "You can customize your dashboard to showcase the data that are most relevant to you:"
   ]
  },
  {
   "cell_type": "markdown",
   "id": "fcf28cfe",
   "metadata": {},
   "source": [
    "Adding Visualizations: Click on the Add Panel icon in a section to add a visualization. You can choose from a variety of chart types, such as line plots, scatter plots, bar charts, and more."
   ]
  },
  {
   "cell_type": "markdown",
   "id": "4c85fa41",
   "metadata": {},
   "source": [
    "Rearranging Sections: To rearrange sections in your dashboard, simply drag and drop them into the desired order."
   ]
  },
  {
   "cell_type": "markdown",
   "id": "c2cc2f8c",
   "metadata": {},
   "source": [
    "Editing Section Titles: Click on the section title to edit it."
   ]
  },
  {
   "cell_type": "markdown",
   "id": "1ec40654",
   "metadata": {},
   "source": [
    "# D. Tracking Important Project Information"
   ]
  },
  {
   "cell_type": "markdown",
   "id": "3b48a174",
   "metadata": {},
   "source": [
    "Tracking important project information on your dashboard is crucial for evaluation and decision-making:"
   ]
  },
  {
   "cell_type": "markdown",
   "id": "dd275097",
   "metadata": {},
   "source": [
    "- Model Performance Metrics: Track key metrics such as accuracy, precision, recall, F1 score, and ROC AUC, among others, depending on your specific use case.\n",
    "- System Metrics: You can also track system metrics like GPU usage, CPU usage, memory usage, and more to understand the computational efficiency of your model.\n",
    "- Hyperparameters: Track the hyperparameters used in each run to understand their impact on the model’s performance.\n",
    "- Loss Graphs: Visualize how your model’s loss changes over time to identify if and when your model is converging."
   ]
  },
  {
   "cell_type": "markdown",
   "id": "5ce8fb90",
   "metadata": {},
   "source": [
    "Model Performance Metrics: Track key metrics such as accuracy, precision, recall, F1 score, and ROC AUC, among others, depending on your specific use case."
   ]
  },
  {
   "cell_type": "markdown",
   "id": "16c95e2e",
   "metadata": {},
   "source": [
    "System Metrics: You can also track system metrics like GPU usage, CPU usage, memory usage, and more to understand the computational efficiency of your model."
   ]
  },
  {
   "cell_type": "markdown",
   "id": "02c7d858",
   "metadata": {},
   "source": [
    "Hyperparameters: Track the hyperparameters used in each run to understand their impact on the model’s performance."
   ]
  },
  {
   "cell_type": "markdown",
   "id": "a8261b04",
   "metadata": {},
   "source": [
    "Loss Graphs: Visualize how your model’s loss changes over time to identify if and when your model is converging."
   ]
  },
  {
   "cell_type": "markdown",
   "id": "cfd81c37",
   "metadata": {},
   "source": [
    "Remember, what you track will depend on your project’s specific goals and requirements."
   ]
  },
  {
   "cell_type": "markdown",
   "id": "337537d3",
   "metadata": {},
   "source": [
    "# Monitoring Models with WanDB"
   ]
  },
  {
   "cell_type": "markdown",
   "id": "882b3eaf",
   "metadata": {},
   "source": [
    "# A. Uploading a Model for Monitoring"
   ]
  },
  {
   "cell_type": "markdown",
   "id": "13170284",
   "metadata": {},
   "source": [
    "Once you’ve trained your model, you can upload it to WanDB for monitoring:"
   ]
  },
  {
   "cell_type": "code",
   "execution_count": null,
   "id": "dc4f1d86",
   "metadata": {},
   "outputs": [],
   "source": [
    "wandb.save(\"path_to_your_model\")"
   ]
  },
  {
   "cell_type": "markdown",
   "id": "eddd5fda",
   "metadata": {},
   "source": [
    "This creates a new artifact with the contents of your file and links it to your run."
   ]
  },
  {
   "cell_type": "markdown",
   "id": "675892d5",
   "metadata": {},
   "source": [
    "If you run your model inside a Jupyter notebook and did not use wandb.save then WanDB will create an artifact pointing to your Jupyter notebook."
   ]
  },
  {
   "cell_type": "markdown",
   "id": "209f1aa0",
   "metadata": {},
   "source": [
    "# B. Understanding the Metrics and Logs"
   ]
  },
  {
   "cell_type": "markdown",
   "id": "b4cae19b",
   "metadata": {},
   "source": [
    "WanDB allows you to log various types of metrics:"
   ]
  },
  {
   "cell_type": "markdown",
   "id": "cef766f4",
   "metadata": {},
   "source": [
    "- System Metrics: These metrics include CPU usage, memory usage, GPU temperature, etc. They can be helpful to monitor the computational efficiency of your model.\n",
    "- Model Metrics: These are metrics that indicate the performance of your model, such as loss, accuracy, precision, recall, etc.\n",
    "- Custom Metrics: You can also create and log custom metrics based on your specific needs."
   ]
  },
  {
   "cell_type": "markdown",
   "id": "3deeac7e",
   "metadata": {},
   "source": [
    "System Metrics: These metrics include CPU usage, memory usage, GPU temperature, etc. They can be helpful to monitor the computational efficiency of your model."
   ]
  },
  {
   "cell_type": "markdown",
   "id": "29df428a",
   "metadata": {},
   "source": [
    "Model Metrics: These are metrics that indicate the performance of your model, such as loss, accuracy, precision, recall, etc."
   ]
  },
  {
   "cell_type": "markdown",
   "id": "5f98c26d",
   "metadata": {},
   "source": [
    "Custom Metrics: You can also create and log custom metrics based on your specific needs."
   ]
  },
  {
   "cell_type": "markdown",
   "id": "bb91cf99",
   "metadata": {},
   "source": [
    "To log a metric, use the wandb.log function:"
   ]
  },
  {
   "cell_type": "code",
   "execution_count": null,
   "id": "03f32fbd",
   "metadata": {},
   "outputs": [],
   "source": [
    "wandb.log({\"metric_name\": metric_value})"
   ]
  },
  {
   "cell_type": "markdown",
   "id": "59f3f870",
   "metadata": {},
   "source": [
    "# C. Interpreting Graphs and Charts"
   ]
  },
  {
   "cell_type": "markdown",
   "id": "bb719470",
   "metadata": {},
   "source": [
    "WanDB provides a variety of graphs and charts to visualize your logged data:"
   ]
  },
  {
   "cell_type": "markdown",
   "id": "899b1e50",
   "metadata": {},
   "source": [
    "- Line Plots: These are used primarily to track changes in metrics over time, like loss or accuracy during the training process.\n",
    "- Histograms: These can be used to visualize the distribution of a metric or parameter.\n",
    "- Scatter Plots: These can be used to explore the relationship between two variables.\n",
    "- Bar Charts: These can be useful to compare the performance of different models or runs."
   ]
  },
  {
   "cell_type": "markdown",
   "id": "adff29e7",
   "metadata": {},
   "source": [
    "Line Plots: These are used primarily to track changes in metrics over time, like loss or accuracy during the training process."
   ]
  },
  {
   "cell_type": "markdown",
   "id": "9c5d0cd5",
   "metadata": {},
   "source": [
    "Histograms: These can be used to visualize the distribution of a metric or parameter."
   ]
  },
  {
   "cell_type": "markdown",
   "id": "bbc34742",
   "metadata": {},
   "source": [
    "Scatter Plots: These can be used to explore the relationship between two variables."
   ]
  },
  {
   "cell_type": "markdown",
   "id": "7fe5e148",
   "metadata": {},
   "source": [
    "Bar Charts: These can be useful to compare the performance of different models or runs."
   ]
  },
  {
   "cell_type": "markdown",
   "id": "7f685254",
   "metadata": {},
   "source": [
    "You can mouse over any point on a graph or chart to see the exact values, and you can click on any point to go to the corresponding step in the run."
   ]
  },
  {
   "cell_type": "markdown",
   "id": "a2e478e4",
   "metadata": {},
   "source": [
    "# D. Comparing Different Models"
   ]
  },
  {
   "cell_type": "markdown",
   "id": "6c560a4e",
   "metadata": {},
   "source": [
    "WanDB makes it easy to compare different models or runs:"
   ]
  },
  {
   "cell_type": "markdown",
   "id": "da39f5f5",
   "metadata": {},
   "source": [
    "In the comparison view, you can see a variety of information, including the values of different metrics, the system and model parameters, and more. This feature makes it easy to identify the best-performing model and understand why it performs well."
   ]
  },
  {
   "cell_type": "markdown",
   "id": "326733c9",
   "metadata": {},
   "source": [
    "Let’s view a few examples of WanDB usage:"
   ]
  },
  {
   "cell_type": "markdown",
   "id": "6500c607",
   "metadata": {},
   "source": [
    "- CIFAR10 Model: https://colab.research.google.com/drive/1-aV6DZJwHnN24rQFZwl2i3pSqO9RL6Xj\n",
    "- CIFAR10 WanDB: https://wandb.ai/ayamerushia/cifar10-cnn-wandb/overview\n",
    "- Text Classification on Huggingface Model : https://colab.research.google.com/drive/1wwZp46jhMubG-qgp2GGOf-A-IhZ3J1RO\n",
    "- Text Classification on Huggingface WanDB: https://wandb.ai/ayamerushia/indo-roberta-small-finetune-sentiment-analysis/overview?workspace=user-ayamerushia"
   ]
  },
  {
   "cell_type": "markdown",
   "id": "724ea605",
   "metadata": {},
   "source": [
    "CIFAR10 Model: https://colab.research.google.com/drive/1-aV6DZJwHnN24rQFZwl2i3pSqO9RL6Xj"
   ]
  },
  {
   "cell_type": "markdown",
   "id": "7678259f",
   "metadata": {},
   "source": [
    "CIFAR10 WanDB: https://wandb.ai/ayamerushia/cifar10-cnn-wandb/overview"
   ]
  },
  {
   "cell_type": "markdown",
   "id": "bcfcee61",
   "metadata": {},
   "source": [
    "Text Classification on Huggingface Model : https://colab.research.google.com/drive/1wwZp46jhMubG-qgp2GGOf-A-IhZ3J1RO"
   ]
  },
  {
   "cell_type": "markdown",
   "id": "78668dc7",
   "metadata": {},
   "source": [
    "Text Classification on Huggingface WanDB: https://wandb.ai/ayamerushia/indo-roberta-small-finetune-sentiment-analysis/overview?workspace=user-ayamerushia"
   ]
  }
 ],
 "metadata": {},
 "nbformat": 4,
 "nbformat_minor": 5
}
