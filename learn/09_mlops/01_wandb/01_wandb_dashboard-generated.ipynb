{
 "cells": [
  {
   "cell_type": "markdown",
   "id": "a5ce1b37",
   "metadata": {},
   "source": [
    "# Dashboards in WanDB"
   ]
  },
  {
   "cell_type": "markdown",
   "id": "23f59267",
   "metadata": {},
   "source": [
    "# A. The Importance and Benefits of Dashboards"
   ]
  },
  {
   "cell_type": "markdown",
   "id": "e3ab11e8",
   "metadata": {},
   "source": [
    "Dashboards in WanDB provide a centralized, visual representation of your machine learning model’s performance. It allows for real-time tracking of multiple aspects of a run, such as loss, accuracy, and other custom metrics."
   ]
  },
  {
   "cell_type": "markdown",
   "id": "95c62450",
   "metadata": {},
   "source": [
    "The benefits of using dashboards include:"
   ]
  },
  {
   "cell_type": "markdown",
   "id": "e940060a",
   "metadata": {},
   "source": [
    "Collaboration: Dashboards allow team members to share their results and insights, fostering a collaborative environment."
   ]
  },
  {
   "cell_type": "markdown",
   "id": "93560329",
   "metadata": {},
   "source": [
    "Visualization: They provide clear visualizations of complex data, which can reveal patterns and insights that might be hard to understand in raw, numeric format."
   ]
  },
  {
   "cell_type": "markdown",
   "id": "395638f8",
   "metadata": {},
   "source": [
    "Real-time Monitoring: Dashboards are updated in real-time, enabling you to immediately identify and rectify any issues during the training process."
   ]
  },
  {
   "cell_type": "markdown",
   "id": "da1aa3aa",
   "metadata": {},
   "source": [
    "# B. Your Dashboard"
   ]
  },
  {
   "cell_type": "markdown",
   "id": "3106a623",
   "metadata": {},
   "source": [
    "When we create a project, WanDB will automatically create a dashboard for it, you can find it using the left navigation bar icon called Workspace."
   ]
  },
  {
   "cell_type": "markdown",
   "id": "c3cdc4a8",
   "metadata": {},
   "source": [
    "You can view it here: WanDB Dashboard"
   ]
  },
  {
   "cell_type": "markdown",
   "id": "66c31ca2",
   "metadata": {},
   "source": [
    "Here’s a screenshot:"
   ]
  },
  {
   "cell_type": "markdown",
   "id": "92ffb97b",
   "metadata": {},
   "source": []
  },
  {
   "cell_type": "markdown",
   "id": "792d16fa",
   "metadata": {},
   "source": [
    "# Runs"
   ]
  },
  {
   "cell_type": "markdown",
   "id": "ab7e1576",
   "metadata": {},
   "source": [
    "The area between the navigation bar on the left and the Sections on the right is called Runs. This area shows all the completed working run on the model."
   ]
  },
  {
   "cell_type": "markdown",
   "id": "72afee76",
   "metadata": {},
   "source": []
  },
  {
   "cell_type": "markdown",
   "id": "65b599ef",
   "metadata": {},
   "source": [
    "# Sections"
   ]
  },
  {
   "cell_type": "markdown",
   "id": "7aaa6205",
   "metadata": {},
   "source": [
    "The dashboard is divided into sections. In the screenshot we can see 3 sections: 1. Charts - Display charts related to the model. 2. System - Display charts related to the hardware used to run the model. 3. Hidden Panel - A special section to hide the charts that you find important but don’t want to clutter the other sections."
   ]
  },
  {
   "cell_type": "markdown",
   "id": "633050a4",
   "metadata": {},
   "source": [
    "If we want to add a new section, we can click on the Add Section button at the bottom."
   ]
  },
  {
   "cell_type": "markdown",
   "id": "0fbad736",
   "metadata": {},
   "source": []
  },
  {
   "cell_type": "markdown",
   "id": "ff310305",
   "metadata": {},
   "source": [
    "# Panels"
   ]
  },
  {
   "cell_type": "markdown",
   "id": "2314a68e",
   "metadata": {},
   "source": [
    "Inside each sections we have panels. If we look at the Charts section, there are 3 panels or charts inside. Each panel can be customized and edited. If we want to add a new panel, there is an Add Panel button at the top right of the section."
   ]
  },
  {
   "cell_type": "markdown",
   "id": "2c555334",
   "metadata": {},
   "source": []
  },
  {
   "cell_type": "markdown",
   "id": "a5817ca5",
   "metadata": {},
   "source": [
    "# C. Customizing Your Dashboard"
   ]
  },
  {
   "cell_type": "markdown",
   "id": "679409f0",
   "metadata": {},
   "source": [
    "You can customize your dashboard to showcase the data that are most relevant to you:"
   ]
  },
  {
   "cell_type": "markdown",
   "id": "12ae417e",
   "metadata": {},
   "source": [
    "Adding Visualizations: Click on the Add Panel icon in a section to add a visualization. You can choose from a variety of chart types, such as line plots, scatter plots, bar charts, and more."
   ]
  },
  {
   "cell_type": "markdown",
   "id": "9444ac81",
   "metadata": {},
   "source": [
    "Rearranging Sections: To rearrange sections in your dashboard, simply drag and drop them into the desired order."
   ]
  },
  {
   "cell_type": "markdown",
   "id": "6cf2d93e",
   "metadata": {},
   "source": [
    "Editing Section Titles: Click on the section title to edit it."
   ]
  },
  {
   "cell_type": "markdown",
   "id": "2eb67e69",
   "metadata": {},
   "source": [
    "# D. Tracking Important Project Information"
   ]
  },
  {
   "cell_type": "markdown",
   "id": "51ed5e71",
   "metadata": {},
   "source": [
    "Tracking important project information on your dashboard is crucial for evaluation and decision-making:"
   ]
  },
  {
   "cell_type": "markdown",
   "id": "ee84af9a",
   "metadata": {},
   "source": [
    "Model Performance Metrics: Track key metrics such as accuracy, precision, recall, F1 score, and ROC AUC, among others, depending on your specific use case."
   ]
  },
  {
   "cell_type": "markdown",
   "id": "1f151815",
   "metadata": {},
   "source": [
    "System Metrics: You can also track system metrics like GPU usage, CPU usage, memory usage, and more to understand the computational efficiency of your model."
   ]
  },
  {
   "cell_type": "markdown",
   "id": "a52958aa",
   "metadata": {},
   "source": [
    "Hyperparameters: Track the hyperparameters used in each run to understand their impact on the model’s performance."
   ]
  },
  {
   "cell_type": "markdown",
   "id": "4d5092b4",
   "metadata": {},
   "source": [
    "Loss Graphs: Visualize how your model’s loss changes over time to identify if and when your model is converging."
   ]
  },
  {
   "cell_type": "markdown",
   "id": "d53d8f66",
   "metadata": {},
   "source": [
    "Remember, what you track will depend on your project’s specific goals and requirements."
   ]
  },
  {
   "cell_type": "markdown",
   "id": "9f7b89b3",
   "metadata": {},
   "source": [
    "# Monitoring Models with WanDB"
   ]
  },
  {
   "cell_type": "markdown",
   "id": "d1091b7c",
   "metadata": {},
   "source": [
    "# A. Uploading a Model for Monitoring"
   ]
  },
  {
   "cell_type": "markdown",
   "id": "a60190fd",
   "metadata": {},
   "source": [
    "Once you’ve trained your model, you can upload it to WanDB for monitoring:"
   ]
  },
  {
   "cell_type": "code",
   "execution_count": null,
   "id": "730e5216",
   "metadata": {},
   "outputs": [],
   "source": [
    "wandb.save(\"path_to_your_model\")"
   ]
  },
  {
   "cell_type": "markdown",
   "id": "7761eac9",
   "metadata": {},
   "source": [
    "This creates a new artifact with the contents of your file and links it to your run."
   ]
  },
  {
   "cell_type": "markdown",
   "id": "2306ecd0",
   "metadata": {},
   "source": [
    "If you run your model inside a Jupyter notebook and did not use wandb.save then WanDB will create an artifact pointing to your Jupyter notebook."
   ]
  },
  {
   "cell_type": "markdown",
   "id": "a4fcf4f1",
   "metadata": {},
   "source": [
    "# B. Understanding the Metrics and Logs"
   ]
  },
  {
   "cell_type": "markdown",
   "id": "5278df1c",
   "metadata": {},
   "source": [
    "WanDB allows you to log various types of metrics:"
   ]
  },
  {
   "cell_type": "markdown",
   "id": "31cfba17",
   "metadata": {},
   "source": [
    "System Metrics: These metrics include CPU usage, memory usage, GPU temperature, etc. They can be helpful to monitor the computational efficiency of your model."
   ]
  },
  {
   "cell_type": "markdown",
   "id": "a7ef8577",
   "metadata": {},
   "source": [
    "Model Metrics: These are metrics that indicate the performance of your model, such as loss, accuracy, precision, recall, etc."
   ]
  },
  {
   "cell_type": "markdown",
   "id": "af0e1530",
   "metadata": {},
   "source": [
    "Custom Metrics: You can also create and log custom metrics based on your specific needs."
   ]
  },
  {
   "cell_type": "markdown",
   "id": "2e73e6ee",
   "metadata": {},
   "source": [
    "To log a metric, use the wandb.log function:"
   ]
  },
  {
   "cell_type": "code",
   "execution_count": null,
   "id": "fc575aa2",
   "metadata": {},
   "outputs": [],
   "source": [
    "wandb.log({\"metric_name\": metric_value})"
   ]
  },
  {
   "cell_type": "markdown",
   "id": "77a51f17",
   "metadata": {},
   "source": [
    "# C. Interpreting Graphs and Charts"
   ]
  },
  {
   "cell_type": "markdown",
   "id": "fe926e24",
   "metadata": {},
   "source": [
    "WanDB provides a variety of graphs and charts to visualize your logged data:"
   ]
  },
  {
   "cell_type": "markdown",
   "id": "0fec4757",
   "metadata": {},
   "source": [
    "Line Plots: These are used primarily to track changes in metrics over time, like loss or accuracy during the training process."
   ]
  },
  {
   "cell_type": "markdown",
   "id": "9797f6fd",
   "metadata": {},
   "source": [
    "Histograms: These can be used to visualize the distribution of a metric or parameter."
   ]
  },
  {
   "cell_type": "markdown",
   "id": "56d07b60",
   "metadata": {},
   "source": [
    "Scatter Plots: These can be used to explore the relationship between two variables."
   ]
  },
  {
   "cell_type": "markdown",
   "id": "716d35f2",
   "metadata": {},
   "source": [
    "Bar Charts: These can be useful to compare the performance of different models or runs."
   ]
  },
  {
   "cell_type": "markdown",
   "id": "90510a27",
   "metadata": {},
   "source": [
    "You can mouse over any point on a graph or chart to see the exact values, and you can click on any point to go to the corresponding step in the run."
   ]
  },
  {
   "cell_type": "markdown",
   "id": "9c4d7a39",
   "metadata": {},
   "source": [
    "# D. Comparing Different Models"
   ]
  },
  {
   "cell_type": "markdown",
   "id": "d57dab2e",
   "metadata": {},
   "source": [
    "WanDB makes it easy to compare different models or runs:"
   ]
  },
  {
   "cell_type": "markdown",
   "id": "f806c263",
   "metadata": {},
   "source": [
    "In the comparison view, you can see a variety of information, including the values of different metrics, the system and model parameters, and more. This feature makes it easy to identify the best-performing model and understand why it performs well."
   ]
  },
  {
   "cell_type": "markdown",
   "id": "f3053aac",
   "metadata": {},
   "source": [
    "Let’s view a few examples of WanDB usage:"
   ]
  },
  {
   "cell_type": "markdown",
   "id": "aa9bc1d5",
   "metadata": {},
   "source": [
    "CIFAR10 Model: https://colab.research.google.com/drive/1-aV6DZJwHnN24rQFZwl2i3pSqO9RL6Xj"
   ]
  },
  {
   "cell_type": "markdown",
   "id": "7bafaae5",
   "metadata": {},
   "source": [
    "CIFAR10 WanDB: https://wandb.ai/ayamerushia/cifar10-cnn-wandb/overview"
   ]
  },
  {
   "cell_type": "markdown",
   "id": "154725c6",
   "metadata": {},
   "source": [
    "Text Classification on Huggingface Model : https://colab.research.google.com/drive/1wwZp46jhMubG-qgp2GGOf-A-IhZ3J1RO"
   ]
  },
  {
   "cell_type": "markdown",
   "id": "54a4e1eb",
   "metadata": {},
   "source": [
    "Text Classification on Huggingface WanDB: https://wandb.ai/ayamerushia/indo-roberta-small-finetune-sentiment-analysis/overview?workspace=user-ayamerushia"
   ]
  }
 ],
 "metadata": {},
 "nbformat": 4,
 "nbformat_minor": 5
}
