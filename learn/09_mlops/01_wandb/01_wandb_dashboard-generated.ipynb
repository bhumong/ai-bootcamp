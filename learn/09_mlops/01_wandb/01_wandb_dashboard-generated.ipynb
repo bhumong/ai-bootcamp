{
 "cells": [
  {
   "cell_type": "markdown",
   "id": "8290d737",
   "metadata": {},
   "source": [
    "# Dashboards in WanDB"
   ]
  },
  {
   "cell_type": "markdown",
   "id": "99d921de",
   "metadata": {},
   "source": [
    "# A. The Importance and Benefits of Dashboards"
   ]
  },
  {
   "cell_type": "markdown",
   "id": "8d16d51d",
   "metadata": {},
   "source": [
    "Dashboards in WanDB provide a centralized, visual representation of your machine learning model’s performance. It allows for real-time tracking of multiple aspects of a run, such as loss, accuracy, and other custom metrics."
   ]
  },
  {
   "cell_type": "markdown",
   "id": "15c56a63",
   "metadata": {},
   "source": [
    "The benefits of using dashboards include:"
   ]
  },
  {
   "cell_type": "markdown",
   "id": "bc738df9",
   "metadata": {},
   "source": [
    "Collaboration: Dashboards allow team members to share their results and insights, fostering a collaborative environment."
   ]
  },
  {
   "cell_type": "markdown",
   "id": "c9dafca1",
   "metadata": {},
   "source": [
    "Visualization: They provide clear visualizations of complex data, which can reveal patterns and insights that might be hard to understand in raw, numeric format."
   ]
  },
  {
   "cell_type": "markdown",
   "id": "2cfaafa8",
   "metadata": {},
   "source": [
    "Real-time Monitoring: Dashboards are updated in real-time, enabling you to immediately identify and rectify any issues during the training process."
   ]
  },
  {
   "cell_type": "markdown",
   "id": "647670f1",
   "metadata": {},
   "source": [
    "# B. Your Dashboard"
   ]
  },
  {
   "cell_type": "markdown",
   "id": "82a90228",
   "metadata": {},
   "source": [
    "When we create a project, WanDB will automatically create a dashboard for it, you can find it using the left navigation bar icon called Workspace."
   ]
  },
  {
   "cell_type": "markdown",
   "id": "7e9567ba",
   "metadata": {},
   "source": [
    "You can view it here: WanDB Dashboard"
   ]
  },
  {
   "cell_type": "markdown",
   "id": "d10cb71e",
   "metadata": {},
   "source": [
    "Here’s a screenshot:"
   ]
  },
  {
   "cell_type": "markdown",
   "id": "76464b5f",
   "metadata": {},
   "source": []
  },
  {
   "cell_type": "markdown",
   "id": "a5a787ff",
   "metadata": {},
   "source": [
    "![Image](https://storage.googleapis.com/rg-ai-bootcamp/mlops/wandb-project.png)"
   ]
  },
  {
   "cell_type": "markdown",
   "id": "ddabf314",
   "metadata": {},
   "source": [
    "# Runs"
   ]
  },
  {
   "cell_type": "markdown",
   "id": "d67c91fb",
   "metadata": {},
   "source": [
    "The area between the navigation bar on the left and the Sections on the right is called Runs. This area shows all the completed working run on the model."
   ]
  },
  {
   "cell_type": "markdown",
   "id": "154dcabd",
   "metadata": {},
   "source": []
  },
  {
   "cell_type": "markdown",
   "id": "d2ccc097",
   "metadata": {},
   "source": [
    "![Image](https://storage.googleapis.com/rg-ai-bootcamp/mlops/wandb-runs.png)"
   ]
  },
  {
   "cell_type": "markdown",
   "id": "a813f3fd",
   "metadata": {},
   "source": [
    "# Sections"
   ]
  },
  {
   "cell_type": "markdown",
   "id": "2e788715",
   "metadata": {},
   "source": [
    "The dashboard is divided into sections. In the screenshot we can see 3 sections: 1. Charts - Display charts related to the model. 2. System - Display charts related to the hardware used to run the model. 3. Hidden Panel - A special section to hide the charts that you find important but don’t want to clutter the other sections."
   ]
  },
  {
   "cell_type": "markdown",
   "id": "d2bc14e0",
   "metadata": {},
   "source": [
    "If we want to add a new section, we can click on the Add Section button at the bottom."
   ]
  },
  {
   "cell_type": "markdown",
   "id": "078aac08",
   "metadata": {},
   "source": []
  },
  {
   "cell_type": "markdown",
   "id": "5940f5e2",
   "metadata": {},
   "source": [
    "![Image](https://storage.googleapis.com/rg-ai-bootcamp/mlops/wandb-section.png)"
   ]
  },
  {
   "cell_type": "markdown",
   "id": "0bc80fae",
   "metadata": {},
   "source": [
    "# Panels"
   ]
  },
  {
   "cell_type": "markdown",
   "id": "c7ca8718",
   "metadata": {},
   "source": [
    "Inside each sections we have panels. If we look at the Charts section, there are 3 panels or charts inside. Each panel can be customized and edited. If we want to add a new panel, there is an Add Panel button at the top right of the section."
   ]
  },
  {
   "cell_type": "markdown",
   "id": "d8f77d38",
   "metadata": {},
   "source": []
  },
  {
   "cell_type": "markdown",
   "id": "fdf0c9f7",
   "metadata": {},
   "source": [
    "![Image](https://storage.googleapis.com/rg-ai-bootcamp/mlops/wandb-panel.png)"
   ]
  },
  {
   "cell_type": "markdown",
   "id": "6da33d99",
   "metadata": {},
   "source": [
    "# C. Customizing Your Dashboard"
   ]
  },
  {
   "cell_type": "markdown",
   "id": "4a174da1",
   "metadata": {},
   "source": [
    "You can customize your dashboard to showcase the data that are most relevant to you:"
   ]
  },
  {
   "cell_type": "markdown",
   "id": "d6183771",
   "metadata": {},
   "source": [
    "Adding Visualizations: Click on the Add Panel icon in a section to add a visualization. You can choose from a variety of chart types, such as line plots, scatter plots, bar charts, and more."
   ]
  },
  {
   "cell_type": "markdown",
   "id": "33bbbaa9",
   "metadata": {},
   "source": [
    "Rearranging Sections: To rearrange sections in your dashboard, simply drag and drop them into the desired order."
   ]
  },
  {
   "cell_type": "markdown",
   "id": "965b0f10",
   "metadata": {},
   "source": [
    "Editing Section Titles: Click on the section title to edit it."
   ]
  },
  {
   "cell_type": "markdown",
   "id": "356b33df",
   "metadata": {},
   "source": [
    "# D. Tracking Important Project Information"
   ]
  },
  {
   "cell_type": "markdown",
   "id": "22057a1d",
   "metadata": {},
   "source": [
    "Tracking important project information on your dashboard is crucial for evaluation and decision-making:"
   ]
  },
  {
   "cell_type": "markdown",
   "id": "69254464",
   "metadata": {},
   "source": [
    "Model Performance Metrics: Track key metrics such as accuracy, precision, recall, F1 score, and ROC AUC, among others, depending on your specific use case."
   ]
  },
  {
   "cell_type": "markdown",
   "id": "7bb23572",
   "metadata": {},
   "source": [
    "System Metrics: You can also track system metrics like GPU usage, CPU usage, memory usage, and more to understand the computational efficiency of your model."
   ]
  },
  {
   "cell_type": "markdown",
   "id": "3a56cf89",
   "metadata": {},
   "source": [
    "Hyperparameters: Track the hyperparameters used in each run to understand their impact on the model’s performance."
   ]
  },
  {
   "cell_type": "markdown",
   "id": "892cc0c2",
   "metadata": {},
   "source": [
    "Loss Graphs: Visualize how your model’s loss changes over time to identify if and when your model is converging."
   ]
  },
  {
   "cell_type": "markdown",
   "id": "f30289f9",
   "metadata": {},
   "source": [
    "Remember, what you track will depend on your project’s specific goals and requirements."
   ]
  },
  {
   "cell_type": "markdown",
   "id": "c6b06298",
   "metadata": {},
   "source": [
    "# Monitoring Models with WanDB"
   ]
  },
  {
   "cell_type": "markdown",
   "id": "403ff06f",
   "metadata": {},
   "source": [
    "# A. Uploading a Model for Monitoring"
   ]
  },
  {
   "cell_type": "markdown",
   "id": "9c23b11f",
   "metadata": {},
   "source": [
    "Once you’ve trained your model, you can upload it to WanDB for monitoring:"
   ]
  },
  {
   "cell_type": "code",
   "execution_count": null,
   "id": "c6040f8d",
   "metadata": {},
   "outputs": [],
   "source": [
    "wandb.save(\"path_to_your_model\")"
   ]
  },
  {
   "cell_type": "markdown",
   "id": "13c9513a",
   "metadata": {},
   "source": [
    "This creates a new artifact with the contents of your file and links it to your run."
   ]
  },
  {
   "cell_type": "markdown",
   "id": "56de6c7a",
   "metadata": {},
   "source": [
    "If you run your model inside a Jupyter notebook and did not use wandb.save then WanDB will create an artifact pointing to your Jupyter notebook."
   ]
  },
  {
   "cell_type": "markdown",
   "id": "5a308db3",
   "metadata": {},
   "source": [
    "# B. Understanding the Metrics and Logs"
   ]
  },
  {
   "cell_type": "markdown",
   "id": "7e7c26ef",
   "metadata": {},
   "source": [
    "WanDB allows you to log various types of metrics:"
   ]
  },
  {
   "cell_type": "markdown",
   "id": "db248955",
   "metadata": {},
   "source": [
    "System Metrics: These metrics include CPU usage, memory usage, GPU temperature, etc. They can be helpful to monitor the computational efficiency of your model."
   ]
  },
  {
   "cell_type": "markdown",
   "id": "9d48bd42",
   "metadata": {},
   "source": [
    "Model Metrics: These are metrics that indicate the performance of your model, such as loss, accuracy, precision, recall, etc."
   ]
  },
  {
   "cell_type": "markdown",
   "id": "ca73ee31",
   "metadata": {},
   "source": [
    "Custom Metrics: You can also create and log custom metrics based on your specific needs."
   ]
  },
  {
   "cell_type": "markdown",
   "id": "484a692a",
   "metadata": {},
   "source": [
    "To log a metric, use the wandb.log function:"
   ]
  },
  {
   "cell_type": "code",
   "execution_count": null,
   "id": "3244efd7",
   "metadata": {},
   "outputs": [],
   "source": [
    "wandb.log({\"metric_name\": metric_value})"
   ]
  },
  {
   "cell_type": "markdown",
   "id": "42edefbd",
   "metadata": {},
   "source": [
    "# C. Interpreting Graphs and Charts"
   ]
  },
  {
   "cell_type": "markdown",
   "id": "7cca4227",
   "metadata": {},
   "source": [
    "WanDB provides a variety of graphs and charts to visualize your logged data:"
   ]
  },
  {
   "cell_type": "markdown",
   "id": "c784b9c2",
   "metadata": {},
   "source": [
    "Line Plots: These are used primarily to track changes in metrics over time, like loss or accuracy during the training process."
   ]
  },
  {
   "cell_type": "markdown",
   "id": "79a395e2",
   "metadata": {},
   "source": [
    "Histograms: These can be used to visualize the distribution of a metric or parameter."
   ]
  },
  {
   "cell_type": "markdown",
   "id": "666854d4",
   "metadata": {},
   "source": [
    "Scatter Plots: These can be used to explore the relationship between two variables."
   ]
  },
  {
   "cell_type": "markdown",
   "id": "764451c7",
   "metadata": {},
   "source": [
    "Bar Charts: These can be useful to compare the performance of different models or runs."
   ]
  },
  {
   "cell_type": "markdown",
   "id": "110a18a9",
   "metadata": {},
   "source": [
    "You can mouse over any point on a graph or chart to see the exact values, and you can click on any point to go to the corresponding step in the run."
   ]
  },
  {
   "cell_type": "markdown",
   "id": "6b6ddc93",
   "metadata": {},
   "source": [
    "# D. Comparing Different Models"
   ]
  },
  {
   "cell_type": "markdown",
   "id": "80fb0d00",
   "metadata": {},
   "source": [
    "WanDB makes it easy to compare different models or runs:"
   ]
  },
  {
   "cell_type": "markdown",
   "id": "71d0f3cf",
   "metadata": {},
   "source": [
    "In the comparison view, you can see a variety of information, including the values of different metrics, the system and model parameters, and more. This feature makes it easy to identify the best-performing model and understand why it performs well."
   ]
  },
  {
   "cell_type": "markdown",
   "id": "657285ad",
   "metadata": {},
   "source": [
    "Let’s view a few examples of WanDB usage:"
   ]
  },
  {
   "cell_type": "markdown",
   "id": "ab17ef7d",
   "metadata": {},
   "source": [
    "CIFAR10 Model: https://colab.research.google.com/drive/1-aV6DZJwHnN24rQFZwl2i3pSqO9RL6Xj"
   ]
  },
  {
   "cell_type": "markdown",
   "id": "bca66ebc",
   "metadata": {},
   "source": [
    "CIFAR10 WanDB: https://wandb.ai/ayamerushia/cifar10-cnn-wandb/overview"
   ]
  },
  {
   "cell_type": "markdown",
   "id": "a51277b0",
   "metadata": {},
   "source": [
    "Text Classification on Huggingface Model : https://colab.research.google.com/drive/1wwZp46jhMubG-qgp2GGOf-A-IhZ3J1RO"
   ]
  },
  {
   "cell_type": "markdown",
   "id": "1a3086c6",
   "metadata": {},
   "source": [
    "Text Classification on Huggingface WanDB: https://wandb.ai/ayamerushia/indo-roberta-small-finetune-sentiment-analysis/overview?workspace=user-ayamerushia"
   ]
  }
 ],
 "metadata": {},
 "nbformat": 4,
 "nbformat_minor": 5
}
