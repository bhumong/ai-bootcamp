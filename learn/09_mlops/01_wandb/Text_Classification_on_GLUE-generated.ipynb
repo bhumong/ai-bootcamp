{
 "cells": [
  {
   "cell_type": "markdown",
   "id": "f2e4d55c",
   "metadata": {},
   "source": [
    "source: [link](https://ai-bootcamp.ruangguru.com/learn/09_mlops/01_wandb/Text_Classification_on_GLUE.html)"
   ]
  },
  {
   "cell_type": "code",
   "execution_count": null,
   "id": "4d73ed91",
   "metadata": {},
   "outputs": [],
   "source": [
    "!pip install -q datasets transformers\n",
    "!pip install transformers[torch]"
   ]
  },
  {
   "cell_type": "code",
   "execution_count": null,
   "id": "fcba9e8c",
   "metadata": {},
   "outputs": [],
   "source": [
    "Requirement already satisfied: transformers[torch] in /usr/local/lib/python3.10/dist-packages (4.38.2)\n",
    "Requirement already satisfied: filelock in /usr/local/lib/python3.10/dist-packages (from transformers[torch]) (3.13.1)\n",
    "Requirement already satisfied: huggingface-hub<1.0,>=0.19.3 in /usr/local/lib/python3.10/dist-packages (from transformers[torch]) (0.20.3)\n",
    "Requirement already satisfied: numpy>=1.17 in /usr/local/lib/python3.10/dist-packages (from transformers[torch]) (1.25.2)\n",
    "Requirement already satisfied: packaging>=20.0 in /usr/local/lib/python3.10/dist-packages (from transformers[torch]) (23.2)\n",
    "Requirement already satisfied: pyyaml>=5.1 in /usr/local/lib/python3.10/dist-packages (from transformers[torch]) (6.0.1)\n",
    "Requirement already satisfied: regex!=2019.12.17 in /usr/local/lib/python3.10/dist-packages (from transformers[torch]) (2023.12.25)\n",
    "Requirement already satisfied: requests in /usr/local/lib/python3.10/dist-packages (from transformers[torch]) (2.31.0)\n",
    "Requirement already satisfied: tokenizers<0.19,>=0.14 in /usr/local/lib/python3.10/dist-packages (from transformers[torch]) (0.15.2)\n",
    "Requirement already satisfied: safetensors>=0.4.1 in /usr/local/lib/python3.10/dist-packages (from transformers[torch]) (0.4.2)\n",
    "Requirement already satisfied: tqdm>=4.27 in /usr/local/lib/python3.10/dist-packages (from transformers[torch]) (4.66.2)\n",
    "Requirement already satisfied: torch in /usr/local/lib/python3.10/dist-packages (from transformers[torch]) (2.1.0+cu121)\n",
    "Requirement already satisfied: accelerate>=0.21.0 in /usr/local/lib/python3.10/dist-packages (from transformers[torch]) (0.27.2)\n",
    "Requirement already satisfied: psutil in /usr/local/lib/python3.10/dist-packages (from accelerate>=0.21.0->transformers[torch]) (5.9.5)\n",
    "Requirement already satisfied: fsspec>=2023.5.0 in /usr/local/lib/python3.10/dist-packages (from huggingface-hub<1.0,>=0.19.3->transformers[torch]) (2023.6.0)\n",
    "Requirement already satisfied: typing-extensions>=3.7.4.3 in /usr/local/lib/python3.10/dist-packages (from huggingface-hub<1.0,>=0.19.3->transformers[torch]) (4.10.0)\n",
    "Requirement already satisfied: sympy in /usr/local/lib/python3.10/dist-packages (from torch->transformers[torch]) (1.12)\n",
    "Requirement already satisfied: networkx in /usr/local/lib/python3.10/dist-packages (from torch->transformers[torch]) (3.2.1)\n",
    "Requirement already satisfied: jinja2 in /usr/local/lib/python3.10/dist-packages (from torch->transformers[torch]) (3.1.3)\n",
    "Requirement already satisfied: triton==2.1.0 in /usr/local/lib/python3.10/dist-packages (from torch->transformers[torch]) (2.1.0)\n",
    "Requirement already satisfied: charset-normalizer<4,>=2 in /usr/local/lib/python3.10/dist-packages (from requests->transformers[torch]) (3.3.2)\n",
    "Requirement already satisfied: idna<4,>=2.5 in /usr/local/lib/python3.10/dist-packages (from requests->transformers[torch]) (3.6)\n",
    "Requirement already satisfied: urllib3<3,>=1.21.1 in /usr/local/lib/python3.10/dist-packages (from requests->transformers[torch]) (2.0.7)\n",
    "Requirement already satisfied: certifi>=2017.4.17 in /usr/local/lib/python3.10/dist-packages (from requests->transformers[torch]) (2024.2.2)\n",
    "Requirement already satisfied: MarkupSafe>=2.0 in /usr/local/lib/python3.10/dist-packages (from jinja2->torch->transformers[torch]) (2.1.5)\n",
    "Requirement already satisfied: mpmath>=0.19 in /usr/local/lib/python3.10/dist-packages (from sympy->torch->transformers[torch]) (1.3.0)"
   ]
  },
  {
   "cell_type": "code",
   "execution_count": null,
   "id": "c6e652d8",
   "metadata": {},
   "outputs": [],
   "source": [
    "!pip -q install wandb\n",
    "!wandb login\n",
    "%env WANDB_PROJECT=indo-roberta-small-finetune-sentiment-analysis\n",
    "%env WANDB_WATCH=true\n",
    "%env WANDB_LOG_MODEL=true"
   ]
  },
  {
   "cell_type": "code",
   "execution_count": null,
   "id": "6f63394d",
   "metadata": {},
   "outputs": [],
   "source": [
    "wandb: Currently logged in as: ayamerushia. Use `wandb login --relogin` to force relogin\n",
    "env: WANDB_PROJECT=indo-roberta-small-finetune-sentiment-analysis\n",
    "env: WANDB_WATCH=true\n",
    "env: WANDB_LOG_MODEL=true"
   ]
  },
  {
   "cell_type": "markdown",
   "id": "766e844e",
   "metadata": {},
   "source": [
    "If you’re opening this notebook locally, make sure your environment has an install from the last version of those libraries."
   ]
  },
  {
   "cell_type": "markdown",
   "id": "d12a83d6",
   "metadata": {},
   "source": [
    "To be able to share your model with the community and generate results like the one shown in the picture below via the inference API, there are a few more steps to follow."
   ]
  },
  {
   "cell_type": "markdown",
   "id": "9a899062",
   "metadata": {},
   "source": [
    "First you have to store your authentication token from the Hugging Face website (sign up here if you haven’t already!) then execute the following cell and input your username and password:"
   ]
  },
  {
   "cell_type": "code",
   "execution_count": null,
   "id": "22bfa4e0",
   "metadata": {},
   "outputs": [],
   "source": [
    "from huggingface_hub import notebook_login\n",
    "\n",
    "notebook_login()"
   ]
  },
  {
   "cell_type": "markdown",
   "id": "a30b2921",
   "metadata": {},
   "source": [
    "Then you need to install Git-LFS. Uncomment the following instructions:"
   ]
  },
  {
   "cell_type": "code",
   "execution_count": null,
   "id": "9dbd0f26",
   "metadata": {},
   "outputs": [],
   "source": [
    "!apt install git-lfs"
   ]
  },
  {
   "cell_type": "code",
   "execution_count": null,
   "id": "20dc6297",
   "metadata": {},
   "outputs": [],
   "source": [
    "Reading package lists... Done\n",
    "Building dependency tree... Done\n",
    "Reading state information... Done\n",
    "git-lfs is already the newest version (3.0.2-1ubuntu0.2).\n",
    "0 upgraded, 0 newly installed, 0 to remove and 35 not upgraded."
   ]
  },
  {
   "cell_type": "markdown",
   "id": "2b15b2bf",
   "metadata": {},
   "source": [
    "Make sure your version of Transformers is at least 4.11.0 since the functionality was introduced in that version:"
   ]
  },
  {
   "cell_type": "code",
   "execution_count": null,
   "id": "05273717",
   "metadata": {},
   "outputs": [],
   "source": [
    "import transformers\n",
    "\n",
    "print(transformers.__version__)"
   ]
  },
  {
   "cell_type": "code",
   "execution_count": null,
   "id": "5e2e4214",
   "metadata": {},
   "outputs": [],
   "source": [
    "4.38.2"
   ]
  },
  {
   "cell_type": "markdown",
   "id": "d63fed0f",
   "metadata": {},
   "source": [
    "You can find a script version of this notebook to fine-tune your model in a distributed fashion using multiple GPUs or TPUs here."
   ]
  },
  {
   "cell_type": "markdown",
   "id": "fe82d62f",
   "metadata": {},
   "source": [
    "# Fine-tuning a model on a text classification task"
   ]
  },
  {
   "cell_type": "markdown",
   "id": "5bdf8689",
   "metadata": {},
   "source": [
    "In this notebook, we will see how to fine-tune one of the 🤗 Transformers model to a text classification task of the GLUE Benchmark."
   ]
  },
  {
   "cell_type": "markdown",
   "id": "ee1a2bb6",
   "metadata": {},
   "source": []
  },
  {
   "cell_type": "markdown",
   "id": "8a139bed",
   "metadata": {},
   "source": [
    "![Image](https://github.com/huggingface/notebooks/blob/master/examples/images/text_classification.png?raw=1)"
   ]
  },
  {
   "cell_type": "markdown",
   "id": "4cf7491f",
   "metadata": {},
   "source": [
    "The GLUE Benchmark is a group of nine classification tasks on sentences or pairs of sentences which are:"
   ]
  },
  {
   "cell_type": "markdown",
   "id": "7707eefd",
   "metadata": {},
   "source": [
    "We will see how to easily load the dataset for each one of those tasks and use the Trainer API to fine-tune a model on it. Each task is named by its acronym, with mnli-mm standing for the mismatched version of MNLI (so same training set as mnli but different validation and test sets):"
   ]
  },
  {
   "cell_type": "code",
   "execution_count": null,
   "id": "e9360cab",
   "metadata": {},
   "outputs": [],
   "source": [
    "GLUE_TASKS = [\"cola\", \"mnli\", \"mnli-mm\", \"mrpc\", \"qnli\", \"qqp\", \"rte\", \"sst2\", \"stsb\", \"wnli\"]"
   ]
  },
  {
   "cell_type": "markdown",
   "id": "37e11828",
   "metadata": {},
   "source": [
    "This notebook is built to run on any of the tasks in the list above, with any model checkpoint from the Model Hub as long as that model has a version with a classification head. Depending on you model and the GPU you are using, you might need to adjust the batch size to avoid out-of-memory errors. Set those three parameters, then the rest of the notebook should run smoothly:"
   ]
  },
  {
   "cell_type": "code",
   "execution_count": null,
   "id": "da71c438",
   "metadata": {},
   "outputs": [],
   "source": [
    "task = \"wnli\"\n",
    "model_checkpoint = \"w11wo/indo-roberta-small\"\n",
    "batch_size = 64"
   ]
  },
  {
   "cell_type": "markdown",
   "id": "c0a7e501",
   "metadata": {},
   "source": [
    "# Loading the dataset"
   ]
  },
  {
   "cell_type": "markdown",
   "id": "04228c55",
   "metadata": {},
   "source": [
    "We will use the 🤗 Datasets library to download the data and get the metric we need to use for evaluation (to compare our model to the benchmark). This can be easily done with the functions load_dataset and load_metric."
   ]
  },
  {
   "cell_type": "code",
   "execution_count": null,
   "id": "610a81e5",
   "metadata": {},
   "outputs": [],
   "source": [
    "from datasets import load_dataset, load_metric"
   ]
  },
  {
   "cell_type": "markdown",
   "id": "a594b976",
   "metadata": {},
   "source": [
    "Apart from mnli-mm being a special code, we can directly pass our task name to those functions. load_dataset will cache the dataset to avoid downloading it again the next time you run this cell."
   ]
  },
  {
   "cell_type": "code",
   "execution_count": null,
   "id": "85d8ac4f",
   "metadata": {},
   "outputs": [],
   "source": [
    "# actual_task = \"mnli\" if task == \"mnli-mm\" else task\n",
    "# dataset = load_dataset(\"glue\", actual_task)\n",
    "\n",
    "\n",
    "dataset = load_dataset(\"indonlu\", \"smsa\")\n",
    "metric = load_metric('glue', \"mnli\")"
   ]
  },
  {
   "cell_type": "code",
   "execution_count": null,
   "id": "43235000",
   "metadata": {},
   "outputs": [],
   "source": [
    "/usr/local/lib/python3.10/dist-packages/huggingface_hub/utils/_token.py:88: UserWarning: \n",
    "The secret `HF_TOKEN` does not exist in your Colab secrets.\n",
    "To authenticate with the Hugging Face Hub, create a token in your settings tab (https://huggingface.co/settings/tokens), set it as secret in your Google Colab and restart your session.\n",
    "You will be able to reuse this secret in all of your notebooks.\n",
    "Please note that authentication is recommended but still optional to access public models or datasets.\n",
    "  warnings.warn(\n",
    "/usr/local/lib/python3.10/dist-packages/datasets/load.py:1461: FutureWarning: The repository for indonlu contains custom code which must be executed to correctly load the dataset. You can inspect the repository content at https://hf.co/datasets/indonlu\n",
    "You can avoid this message in future by passing the argument `trust_remote_code=True`.\n",
    "Passing `trust_remote_code=True` will be mandatory to load this dataset from the next major release of `datasets`.\n",
    "  warnings.warn(\n",
    "<ipython-input-9-777f794771cd>:6: FutureWarning: load_metric is deprecated and will be removed in the next major version of datasets. Use 'evaluate.load' instead, from the new library 🤗 Evaluate: https://huggingface.co/docs/evaluate\n",
    "  metric = load_metric('glue', \"mnli\")\n",
    "/usr/local/lib/python3.10/dist-packages/datasets/load.py:756: FutureWarning: The repository for glue contains custom code which must be executed to correctly load the metric. You can inspect the repository content at https://raw.githubusercontent.com/huggingface/datasets/2.18.0/metrics/glue/glue.py\n",
    "You can avoid this message in future by passing the argument `trust_remote_code=True`.\n",
    "Passing `trust_remote_code=True` will be mandatory to load this metric from the next major release of `datasets`.\n",
    "  warnings.warn("
   ]
  },
  {
   "cell_type": "markdown",
   "id": "faa648e9",
   "metadata": {},
   "source": [
    "The metric is an instance of datasets.Metric:"
   ]
  },
  {
   "cell_type": "markdown",
   "id": "7cbe6ea2",
   "metadata": {},
   "source": [
    "# Preprocessing the data"
   ]
  },
  {
   "cell_type": "code",
   "execution_count": null,
   "id": "070c743a",
   "metadata": {},
   "outputs": [],
   "source": [
    "from transformers import AutoTokenizer\n",
    "\n",
    "tokenizer = AutoTokenizer.from_pretrained(model_checkpoint, use_fast=True)"
   ]
  },
  {
   "cell_type": "code",
   "execution_count": null,
   "id": "cd38d94e",
   "metadata": {},
   "outputs": [],
   "source": [
    "def tokenize_function(example):\n",
    "    return tokenizer(example[\"text\"], truncation=True)\n",
    "\n",
    "encoded_dataset = dataset.map(tokenize_function, batched=True)"
   ]
  },
  {
   "cell_type": "markdown",
   "id": "15845487",
   "metadata": {},
   "source": [
    "# Fine-tuning the model"
   ]
  },
  {
   "cell_type": "code",
   "execution_count": null,
   "id": "388e03ac",
   "metadata": {},
   "outputs": [],
   "source": [
    "from transformers import AutoModelForSequenceClassification, TrainingArguments, Trainer\n",
    "\n",
    "num_labels = 3\n",
    "model = AutoModelForSequenceClassification.from_pretrained(model_checkpoint, num_labels=num_labels)"
   ]
  },
  {
   "cell_type": "code",
   "execution_count": null,
   "id": "a8e9b474",
   "metadata": {},
   "outputs": [],
   "source": [
    "Some weights of RobertaForSequenceClassification were not initialized from the model checkpoint at w11wo/indo-roberta-small and are newly initialized: ['classifier.dense.bias', 'classifier.dense.weight', 'classifier.out_proj.bias', 'classifier.out_proj.weight']\n",
    "You should probably TRAIN this model on a down-stream task to be able to use it for predictions and inference."
   ]
  },
  {
   "cell_type": "code",
   "execution_count": null,
   "id": "ace37d0a",
   "metadata": {},
   "outputs": [],
   "source": [
    "metric_name = \"pearson\" if task == \"stsb\" else \"matthews_correlation\" if task == \"cola\" else \"accuracy\"\n",
    "model_name = model_checkpoint.split(\"/\")[-1]\n",
    "\n",
    "args = TrainingArguments(\n",
    "    f\"{model_name}-finetuned-indonlu-smsa\",\n",
    "    evaluation_strategy = \"epoch\",\n",
    "    save_strategy = \"epoch\",\n",
    "    overwrite_output_dir = True,\n",
    "    learning_rate=2e-5,\n",
    "    per_device_train_batch_size=batch_size,\n",
    "    per_device_eval_batch_size=batch_size,\n",
    "    num_train_epochs=10,\n",
    "    weight_decay=0.005,\n",
    "    warmup_steps = 1000,\n",
    "    load_best_model_at_end=True,\n",
    "    metric_for_best_model=metric_name,\n",
    "    push_to_hub=True,\n",
    "    report_to = 'wandb',\n",
    "    run_name = 'roberta-mini-run-2'\n",
    ")"
   ]
  },
  {
   "cell_type": "markdown",
   "id": "3dcefd41",
   "metadata": {},
   "source": [
    "Here we set the evaluation to be done at the end of each epoch, tweak the learning rate, use the batch_size defined at the top of the notebook and customize the number of epochs for training, as well as the weight decay. Since the best model might not be the one at the end of training, we ask the Trainer to load the best model it saved (according to metric_name) at the end of training."
   ]
  },
  {
   "cell_type": "markdown",
   "id": "a43947de",
   "metadata": {},
   "source": [
    "The last argument to setup everything so we can push the model to the Hub regularly during training. Remove it if you didn’t follow the installation steps at the top of the notebook. If you want to save your model locally in a name that is different than the name of the repository it will be pushed, or if you want to push your model under an organization and not your name space, use the hub_model_id argument to set the repo name (it needs to be the full name, including your namespace: for instance \"sgugger/bert-finetuned-mrpc\" or \"huggingface/bert-finetuned-mrpc\")."
   ]
  },
  {
   "cell_type": "markdown",
   "id": "0cce33ff",
   "metadata": {},
   "source": [
    "The last thing to define for our Trainer is how to compute the metrics from the predictions. We need to define a function for this, which will just use the metric we loaded earlier, the only preprocessing we have to do is to take the argmax of our predicted logits (our just squeeze the last axis in the case of STS-B):"
   ]
  },
  {
   "cell_type": "code",
   "execution_count": null,
   "id": "275150f1",
   "metadata": {},
   "outputs": [],
   "source": [
    "def compute_metrics(eval_pred):\n",
    "    predictions, labels = eval_pred\n",
    "    if task != \"stsb\":\n",
    "        predictions = np.argmax(predictions, axis=1)\n",
    "    else:\n",
    "        predictions = predictions[:, 0]\n",
    "    return metric.compute(predictions=predictions, references=labels)"
   ]
  },
  {
   "cell_type": "markdown",
   "id": "c52ab9ff",
   "metadata": {},
   "source": [
    "Then we just need to pass all of this along with our datasets to the Trainer:"
   ]
  },
  {
   "cell_type": "code",
   "execution_count": null,
   "id": "995e26fc",
   "metadata": {},
   "outputs": [],
   "source": [
    "validation_key = \"validation_mismatched\" if task == \"mnli-mm\" else \"validation_matched\" if task == \"mnli\" else \"validation\"\n",
    "trainer = Trainer(\n",
    "    model,\n",
    "    args,\n",
    "    train_dataset=encoded_dataset[\"train\"],\n",
    "    eval_dataset=encoded_dataset[validation_key],\n",
    "    tokenizer=tokenizer,\n",
    "    compute_metrics=compute_metrics\n",
    ")"
   ]
  },
  {
   "cell_type": "markdown",
   "id": "7ba17948",
   "metadata": {},
   "source": [
    "You might wonder why we pass along the tokenizer when we already preprocessed our data. This is because we will use it once last time to make all the samples we gather the same length by applying padding, which requires knowing the model’s preferences regarding padding (to the left or right? with which token?). The tokenizer has a pad method that will do all of this right for us, and the Trainer will use it. You can customize this part by defining and passing your own data_collator which will receive the samples like the dictionaries seen above and will need to return a dictionary of tensors."
   ]
  },
  {
   "cell_type": "markdown",
   "id": "f9075744",
   "metadata": {},
   "source": [
    "We can now finetune our model by just calling the train method:"
   ]
  },
  {
   "cell_type": "code",
   "execution_count": null,
   "id": "321f6603",
   "metadata": {},
   "outputs": [],
   "source": [
    " import numpy as np\n",
    "trainer.train()"
   ]
  },
  {
   "cell_type": "code",
   "execution_count": null,
   "id": "8db9e0e5",
   "metadata": {},
   "outputs": [],
   "source": [
    "wandb: Currently logged in as: ayamerushia. Use `wandb login --relogin` to force relogin"
   ]
  },
  {
   "cell_type": "markdown",
   "id": "3c4683ca",
   "metadata": {},
   "source": [
    "| Epoch | Training Loss | Validation Loss | Accuracy |\n",
    "| --- | --- | --- | --- |\n",
    "| 1 | No log | 0.650164 | 0.714286 |\n",
    "| 2 | No log | 0.472029 | 0.812698 |\n",
    "| 3 | 0.616800 | 0.451087 | 0.835714 |\n",
    "| 4 | 0.616800 | 0.382544 | 0.853968 |\n",
    "| 5 | 0.616800 | 0.365464 | 0.859524 |\n",
    "| 6 | 0.295400 | 0.367193 | 0.868254 |\n",
    "| 7 | 0.295400 | 0.383897 | 0.874603 |\n",
    "| 8 | 0.295400 | 0.421972 | 0.870635 |\n",
    "| 9 | 0.132800 | 0.449737 | 0.888095 |\n",
    "| 10 | 0.132800 | 0.445541 | 0.886508 |"
   ]
  },
  {
   "cell_type": "markdown",
   "id": "6032f5b7",
   "metadata": {},
   "source": [
    "\n"
   ]
  },
  {
   "cell_type": "code",
   "execution_count": null,
   "id": "dd6bc49c",
   "metadata": {},
   "outputs": [],
   "source": [
    "Checkpoint destination directory indo-roberta-small-finetuned-indonlu-smsa/checkpoint-344 already exists and is non-empty. Saving will proceed but saved results may be invalid.\n",
    "Checkpoint destination directory indo-roberta-small-finetuned-indonlu-smsa/checkpoint-688 already exists and is non-empty. Saving will proceed but saved results may be invalid.\n",
    "Checkpoint destination directory indo-roberta-small-finetuned-indonlu-smsa/checkpoint-1032 already exists and is non-empty. Saving will proceed but saved results may be invalid.\n",
    "Checkpoint destination directory indo-roberta-small-finetuned-indonlu-smsa/checkpoint-1376 already exists and is non-empty. Saving will proceed but saved results may be invalid.\n",
    "Checkpoint destination directory indo-roberta-small-finetuned-indonlu-smsa/checkpoint-1720 already exists and is non-empty. Saving will proceed but saved results may be invalid."
   ]
  },
  {
   "cell_type": "code",
   "execution_count": null,
   "id": "f45e1629",
   "metadata": {},
   "outputs": [],
   "source": [
    "TrainOutput(global_step=1720, training_loss=0.31177856478580207, metrics={'train_runtime': 950.9864, 'train_samples_per_second': 115.669, 'train_steps_per_second': 1.809, 'total_flos': 2701973296566432.0, 'train_loss': 0.31177856478580207, 'epoch': 10.0})"
   ]
  },
  {
   "cell_type": "markdown",
   "id": "5d8c2b55",
   "metadata": {},
   "source": [
    "We can check with the evaluate method that our Trainer did reload the best model properly (if it was not the last one):"
   ]
  },
  {
   "cell_type": "code",
   "execution_count": null,
   "id": "ffcfbc04",
   "metadata": {},
   "outputs": [],
   "source": [
    "trainer.evaluate()"
   ]
  },
  {
   "cell_type": "code",
   "execution_count": null,
   "id": "8f553765",
   "metadata": {},
   "outputs": [],
   "source": [
    "{'eval_loss': 0.44973695278167725,\n",
    " 'eval_accuracy': 0.888095238095238,\n",
    " 'eval_runtime': 3.2955,\n",
    " 'eval_samples_per_second': 382.345,\n",
    " 'eval_steps_per_second': 6.069,\n",
    " 'epoch': 10.0}"
   ]
  },
  {
   "cell_type": "markdown",
   "id": "6e617ef6",
   "metadata": {},
   "source": [
    "To see how your model fared you can compare it to the GLUE Benchmark leaderboard."
   ]
  },
  {
   "cell_type": "markdown",
   "id": "d4b0f646",
   "metadata": {},
   "source": [
    "You can now upload the result of the training to the Hub, just execute this instruction:"
   ]
  },
  {
   "cell_type": "code",
   "execution_count": null,
   "id": "710c1fe3",
   "metadata": {},
   "outputs": [],
   "source": [
    "trainer.push_to_hub()"
   ]
  },
  {
   "cell_type": "code",
   "execution_count": null,
   "id": "562ebf11",
   "metadata": {},
   "outputs": [],
   "source": [
    "CommitInfo(commit_url='https://huggingface.co/ayameRushia/indo-roberta-small-finetuned-indonlu-smsa/commit/9c77581eec0a70db3a03de4600796e21ed57c7e9', commit_message='End of training', commit_description='', oid='9c77581eec0a70db3a03de4600796e21ed57c7e9', pr_url=None, pr_revision=None, pr_num=None)"
   ]
  }
 ],
 "metadata": {},
 "nbformat": 4,
 "nbformat_minor": 5
}
