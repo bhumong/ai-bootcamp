{
 "cells": [
  {
   "cell_type": "markdown",
   "id": "b6a5c942",
   "metadata": {},
   "source": [
    "source: [link](https://ai-bootcamp.ruangguru.com/learn/01_toolkits/02_foundational_statistics/03_distributions_statistics.html)"
   ]
  },
  {
   "cell_type": "markdown",
   "id": "ac7cea34",
   "metadata": {},
   "source": [
    "# Distributions in Statistics"
   ]
  },
  {
   "cell_type": "markdown",
   "id": "24d92691",
   "metadata": {},
   "source": []
  },
  {
   "cell_type": "markdown",
   "id": "264b597b",
   "metadata": {},
   "source": [
    "![Image](https://storage.googleapis.com/rg-ai-bootcamp/toolkits/discrete-vs-continues-min.png)"
   ]
  },
  {
   "cell_type": "markdown",
   "id": "b83de610",
   "metadata": {},
   "source": [
    "Discrete vs. continuous data (Source: g2.com)"
   ]
  },
  {
   "cell_type": "markdown",
   "id": "33ca52c2",
   "metadata": {},
   "source": [
    "# Distribution Overview"
   ]
  },
  {
   "cell_type": "markdown",
   "id": "95b07904",
   "metadata": {},
   "source": [
    "What is Distribution in Statistics? 🤔 Distribution is a tool in statistics that outlines the potential values a variable can assume and their frequency. Also known as a probability distribution, it demonstrates how probabilities are dispersed across different outcomes. It helps uncover patterns, randomness, and frequency, essential in theory and practice."
   ]
  },
  {
   "cell_type": "markdown",
   "id": "65b2d060",
   "metadata": {},
   "source": [
    "Before we begin, let’s understand the key notation. Notation is a system of symbols representing specific concepts, crucial for clear communication in fields like mathematics and statistics."
   ]
  },
  {
   "cell_type": "markdown",
   "id": "cb50d40d",
   "metadata": {},
   "source": [
    "In probability, \\(Y\\) represents an actual event outcome, while \\(y\\) represents any potential event outcome. The probability notation \\(P (Y=y)\\) or \\(p (y)\\) is used to describe the likelihood that a random variable \\(Y\\) will equal a specific value \\(y\\)."
   ]
  },
  {
   "cell_type": "markdown",
   "id": "99ac8564",
   "metadata": {},
   "source": [
    "For instance, consider drawing red marbles \\((Y)\\) from a bag . If y is a specific count like 3 or 5, we might ask: - What is the probability of drawing 5 red marbles? This can be expressed as \\(P (Y=5)\\) or \\(p (5)\\)."
   ]
  },
  {
   "cell_type": "markdown",
   "id": "2413e4e6",
   "metadata": {},
   "source": [
    "![Image](https://storage.googleapis.com/rg-ai-bootcamp/toolkits/marbles-min.png)"
   ]
  },
  {
   "cell_type": "markdown",
   "id": "ba69b6bf",
   "metadata": {},
   "source": [
    "Why do we need to know this? ⚠️ Understanding this is crucial as many decisions in fields like data science are based on understanding probabilities. For example, machine learning models often make predictions based on probability."
   ]
  },
  {
   "cell_type": "markdown",
   "id": "4290a079",
   "metadata": {},
   "source": [
    "Now, we’ll proceed with some key definitions in statistical distribution."
   ]
  },
  {
   "cell_type": "markdown",
   "id": "d49fa52f",
   "metadata": {},
   "source": [
    "# Population vs Sample"
   ]
  },
  {
   "cell_type": "markdown",
   "id": "fa0c2050",
   "metadata": {},
   "source": [
    "In data analysis, we differentiate between:"
   ]
  },
  {
   "cell_type": "markdown",
   "id": "f11cec4a",
   "metadata": {},
   "source": [
    "- Population data: All the data.\n",
    "- Sample data: A subset of the population data."
   ]
  },
  {
   "cell_type": "markdown",
   "id": "175084ee",
   "metadata": {},
   "source": [
    "Look at this illustration for further clarification:"
   ]
  },
  {
   "cell_type": "markdown",
   "id": "f56964e9",
   "metadata": {},
   "source": []
  },
  {
   "cell_type": "markdown",
   "id": "73cc782c",
   "metadata": {},
   "source": [
    "![Image](https://storage.googleapis.com/rg-ai-bootcamp/toolkits/population-vs-sample2-min.png)"
   ]
  },
  {
   "cell_type": "markdown",
   "id": "dd156694",
   "metadata": {},
   "source": [
    "For example, if an employer surveys a department’s commute methods, that data is the population for that department, but is a sample for the entire company."
   ]
  },
  {
   "cell_type": "markdown",
   "id": "9ed38bd8",
   "metadata": {},
   "source": [
    "Why is it important🤔 This distinction is crucial in statistical distributions as it affects measures of central tendency, spread, and distribution shape. These measures can significantly differ between a population and a sample. The type of data also determines the statistical tests used and how accurately we infer population characteristics."
   ]
  },
  {
   "cell_type": "markdown",
   "id": "febd74df",
   "metadata": {},
   "source": [
    "# Types of Probability Distributions"
   ]
  },
  {
   "cell_type": "markdown",
   "id": "c98b849a",
   "metadata": {},
   "source": [
    "Probability distributions are primarily classified based on the number of possible outcomes:"
   ]
  },
  {
   "cell_type": "markdown",
   "id": "36270779",
   "metadata": {},
   "source": [
    "- Discrete distributions: Used when outcomes arefinite, like rolling a die 🎲.\n",
    "- Continuous distributions: Used when outcomes areinfinite, like measuring time ⏰ or distance 📏."
   ]
  },
  {
   "cell_type": "markdown",
   "id": "b6cfdcf8",
   "metadata": {},
   "source": [
    "Discrete Distributions:"
   ]
  },
  {
   "cell_type": "markdown",
   "id": "e745c6b4",
   "metadata": {},
   "source": [
    "- Bernoulli Distributionis used inbinary classificationproblems in machine learning, representing a situation with only two outcomes. An example is a model predicting whether an email is spam or not.\n",
    "- Binomial Distributionis used formulti-classificationproblems, where an event has more than two possible outcomes. An example is a model predicting weather conditions like ‘sunny’, ‘rainy’, or ‘cloudy’."
   ]
  },
  {
   "cell_type": "markdown",
   "id": "b0eecd49",
   "metadata": {},
   "source": [
    "Bernoulli Distribution is used in binary classification problems in machine learning, representing a situation with only two outcomes. An example is a model predicting whether an email is spam or not."
   ]
  },
  {
   "cell_type": "markdown",
   "id": "1fcc6b25",
   "metadata": {},
   "source": [
    "Binomial Distribution is used for multi-classification problems, where an event has more than two possible outcomes. An example is a model predicting weather conditions like ‘sunny’, ‘rainy’, or ‘cloudy’."
   ]
  },
  {
   "cell_type": "markdown",
   "id": "b6d02469",
   "metadata": {},
   "source": [
    "Continuous Distributions:"
   ]
  },
  {
   "cell_type": "markdown",
   "id": "c47ec450",
   "metadata": {},
   "source": [
    "- Normal Distributionis a commonlyobserved distributionin many natural phenomena and is often used in machine learning for regression problems. It’s widely used due to its unique statistical properties and its ability to accurately describe many natural occurrences. An example is a model predicting the height of trees, where most predictions cluster around the mean value with rare outliers."
   ]
  },
  {
   "cell_type": "markdown",
   "id": "ae6f4a70",
   "metadata": {},
   "source": [
    "OK, now let’s discuss it in more depth."
   ]
  },
  {
   "cell_type": "markdown",
   "id": "96c94c87",
   "metadata": {},
   "source": [
    "# Discrete Distribution"
   ]
  },
  {
   "cell_type": "markdown",
   "id": "33f86bd9",
   "metadata": {},
   "source": [
    "# Understanding bernoulli and binomial distributions by helping our friend’s business: John Bakery"
   ]
  },
  {
   "cell_type": "markdown",
   "id": "0c559a7c",
   "metadata": {},
   "source": []
  },
  {
   "cell_type": "markdown",
   "id": "7f9a8213",
   "metadata": {},
   "source": [
    "![Image](https://storage.googleapis.com/rg-ai-bootcamp/toolkits/john-bakery-min.png)"
   ]
  },
  {
   "cell_type": "markdown",
   "id": "4f91b7ba",
   "metadata": {},
   "source": [
    "Image made by Dall-E in ChatGPT 4"
   ]
  },
  {
   "cell_type": "markdown",
   "id": "60bbd63e",
   "metadata": {},
   "source": [
    "Hi new statistician! 👋 John is an owner of a bakery. He needs our help to know how. Are you up for the challenge? 🤔"
   ]
  },
  {
   "cell_type": "markdown",
   "id": "911a9aaa",
   "metadata": {},
   "source": [
    "# Likeliness of John’s success in daily sales"
   ]
  },
  {
   "cell_type": "markdown",
   "id": "2a915f3b",
   "metadata": {},
   "source": [
    "So after careful calculation, John said to us that what he called a “successful day” is when he sells 30 or more breads. Let’s see"
   ]
  },
  {
   "cell_type": "code",
   "execution_count": null,
   "id": "a972bc9b",
   "metadata": {},
   "outputs": [],
   "source": [
    "import gradio as gr\n",
    "import pandas as pd\n",
    "\n",
    "# Define the data\n",
    "sales_data = [\n",
    "    {'Day': 1, 'Breads Sold': 39},\n",
    "    {'Day': 2, 'Breads Sold': 36},\n",
    "    {'Day': 3, 'Breads Sold': 21},\n",
    "    {'Day': 4, 'Breads Sold': 33},\n",
    "    {'Day': 5, 'Breads Sold': 38},\n",
    "    {'Day': 6, 'Breads Sold': 32},\n",
    "    {'Day': 7, 'Breads Sold': 36},\n",
    "    {'Day': 8, 'Breads Sold': 38},\n",
    "    {'Day': 9, 'Breads Sold': 33},\n",
    "    {'Day': 10, 'Breads Sold': 24},\n",
    "    {'Day': 11, 'Breads Sold': 23},\n",
    "    {'Day': 12, 'Breads Sold': 37},\n",
    "    {'Day': 13, 'Breads Sold': 37},\n",
    "    {'Day': 14, 'Breads Sold': 28},\n",
    "    {'Day': 15, 'Breads Sold': 23},\n",
    "    {'Day': 16, 'Breads Sold': 34},\n",
    "    {'Day': 17, 'Breads Sold': 30},\n",
    "    {'Day': 18, 'Breads Sold': 20},\n",
    "    {'Day': 19, 'Breads Sold': 35},\n",
    "    {'Day': 20, 'Breads Sold': 40},\n",
    "    {'Day': 21, 'Breads Sold': 25},\n",
    "    {'Day': 22, 'Breads Sold': 29},\n",
    "    {'Day': 23, 'Breads Sold': 28},\n",
    "    {'Day': 24, 'Breads Sold': 37},\n",
    "    {'Day': 25, 'Breads Sold': 29},\n",
    "    {'Day': 26, 'Breads Sold': 33},\n",
    "    {'Day': 27, 'Breads Sold': 27},\n",
    "    {'Day': 28, 'Breads Sold': 35},\n",
    "    {'Day': 29, 'Breads Sold': 25},\n",
    "    {'Day': 30, 'Breads Sold': 31}\n",
    "]\n",
    "\n",
    "# Convert the data to a pandas DataFrame\n",
    "df = pd.DataFrame(sales_data)\n",
    "\n",
    "# Create a new column \"Is Success\" based on the condition\n",
    "df['Is Success'] = df['Breads Sold'] >= 30\n",
    "\n",
    "# Calculate the number of successful days (where \"Breads Sold\" is 30 or more)\n",
    "successful_days = len(df[df['Breads Sold'] >= 30])\n",
    "\n",
    "# Calculate the total number of days\n",
    "total_days = len(df)\n",
    "\n",
    "# Calculate the probability of success and convert to percentage\n",
    "probability_of_success = (successful_days / total_days) * 100\n",
    "\n",
    "print(df)\n",
    "# Display the probability as a percentage\n",
    "print(\"Probability of success:\", probability_of_success, \"%\")"
   ]
  },
  {
   "cell_type": "code",
   "execution_count": null,
   "id": "e316116f",
   "metadata": {},
   "outputs": [],
   "source": [
    "    Day  Breads Sold  Is Success\n",
    "0     1           39        True\n",
    "1     2           36        True\n",
    "2     3           21       False\n",
    "3     4           33        True\n",
    "4     5           38        True\n",
    "5     6           32        True\n",
    "6     7           36        True\n",
    "7     8           38        True\n",
    "8     9           33        True\n",
    "9    10           24       False\n",
    "10   11           23       False\n",
    "11   12           37        True\n",
    "12   13           37        True\n",
    "13   14           28       False\n",
    "14   15           23       False\n",
    "15   16           34        True\n",
    "16   17           30        True\n",
    "17   18           20       False\n",
    "18   19           35        True\n",
    "19   20           40        True\n",
    "20   21           25       False\n",
    "21   22           29       False\n",
    "22   23           28       False\n",
    "23   24           37        True\n",
    "24   25           29       False\n",
    "25   26           33        True\n",
    "26   27           27       False\n",
    "27   28           35        True\n",
    "28   29           25       False\n",
    "29   30           31        True\n",
    "Probability of success: 60.0 %"
   ]
  },
  {
   "cell_type": "markdown",
   "id": "fadbd6ad",
   "metadata": {},
   "source": [
    "As we can see above that after reviewing John’s sales data from the past 30 days that the probability of John’s success in daily sales is 60%."
   ]
  },
  {
   "cell_type": "markdown",
   "id": "1a71dae4",
   "metadata": {},
   "source": [
    "# The output can only be success or not"
   ]
  },
  {
   "cell_type": "markdown",
   "id": "7eb8c92a",
   "metadata": {},
   "source": [
    "John’s business is a binary problem where the only thing that we care about is whether John’s business is successful on that day or not. For this kind of problem, we can use two distributions: Bernoulli and Binomial."
   ]
  },
  {
   "cell_type": "markdown",
   "id": "cc18549b",
   "metadata": {},
   "source": [
    "# Single Sample"
   ]
  },
  {
   "cell_type": "markdown",
   "id": "46b05f71",
   "metadata": {},
   "source": [
    "Bernoulli distribution is really simple: It’s a distribution where the output can only be success or not on only one sample. So we can say that it’s the P for the success and 1 - P for the not success, because the output is binary and the prediction should add up to 1 (prediction of success + prediction of not success = 1). For our friend John, we know that the probability of him failing in achieving his daily sales target is 40% (1 - 0.6 = 0.4). If we put it in a chart it would look like this."
   ]
  },
  {
   "cell_type": "code",
   "execution_count": null,
   "id": "11e3b4a8",
   "metadata": {},
   "outputs": [],
   "source": [
    "# @title #### John Bakery Chart\n",
    "\n",
    "import matplotlib.pyplot as plt\n",
    "import numpy as np\n",
    "import ipywidgets as widgets\n",
    "\n",
    "def plot_bernoulli(p=0.6):\n",
    "    variance = p * (1 - p)\n",
    "    mean = p  # Mean of a Bernoulli distribution is equal to its parameter p\n",
    "\n",
    "    outcomes = np.array([0, 1])\n",
    "    probabilities = np.array([1-p, p])\n",
    "\n",
    "    plt.bar(outcomes, probabilities, color=['orange', 'green'])\n",
    "    plt.xticks(outcomes, ['Fail', 'Success'])\n",
    "\n",
    "    plt.ylabel('Probability')\n",
    "    plt.xlabel('Outcomes')\n",
    "    plt.title('Bernoulli Distribution of John\\'s Bakery')\n",
    "\n",
    "    # plt.text(0.5, 0.5, 'Mean: {:.2f}'.format(mean), ha='center', va='center', \n",
    "    #          bbox=dict(facecolor='white', alpha=0.5, boxstyle=\"round,pad=0.5\"))\n",
    "\n",
    "    # plt.text(0.5, 0.4, 'Variance: {:.2f}'.format(variance), ha='center', va='center', \n",
    "    #          bbox=dict(facecolor='white', alpha=0.5, boxstyle=\"round,pad=0.5\"))\n",
    "    \n",
    "    plt.show()\n",
    "\n",
    "widgets.interact(plot_bernoulli, p=(0, 1, 0.01))"
   ]
  },
  {
   "cell_type": "code",
   "execution_count": null,
   "id": "3886841c",
   "metadata": {},
   "outputs": [],
   "source": [
    "<function __main__.plot_bernoulli(p=0.6)>"
   ]
  },
  {
   "cell_type": "markdown",
   "id": "ff8ea040",
   "metadata": {},
   "source": [
    "# Spreading probability to several samples"
   ]
  },
  {
   "cell_type": "markdown",
   "id": "cf7d02a2",
   "metadata": {},
   "source": [
    "Bernoulli distribution is focusing on having two possible output on one sample. But how many days that he is likely to be successful in a month? We can use binomial distribution to answer this question. Binomial distribution is a distribution where we can spread the probability of success from bernoulli distribution to several samples. For example, when we work with bernoulli distribution, we only know the probability of success on a single day, but with binomial distribution, we can know the probability of success on several days, how many days that he is likely to be successful in a month, and so on."
   ]
  },
  {
   "cell_type": "markdown",
   "id": "f7cfafea",
   "metadata": {},
   "source": [
    "# Quick About Combination"
   ]
  },
  {
   "cell_type": "markdown",
   "id": "0b26eb25",
   "metadata": {},
   "source": [
    "# Let’s simplify first"
   ]
  },
  {
   "cell_type": "markdown",
   "id": "7c5fca56",
   "metadata": {},
   "source": [
    "Before we continue, let’s simplify our scenario first. Imagine if we want to know that we want to know how likely we are successful for exactly two days out of three days, and for now let’s keep it at 50/50 chance of success and failure. We can calculate it like this:"
   ]
  },
  {
   "cell_type": "markdown",
   "id": "e4faf599",
   "metadata": {},
   "source": [
    "- If we succeed on the first day, then if we either succeed on second or third day, it will count to our requirement, we won’t count the condition where we succeed on both second and third day. So for this first scenario we get 2 scenario where we succeed on exactly two days out of three days.\n",
    "- If we fail on the first day, then we need to succeed on both second and third day. So for this second scenario we get 1 scenario where we succeed on exactly two days out of three days."
   ]
  },
  {
   "cell_type": "markdown",
   "id": "90dc01e0",
   "metadata": {},
   "source": [
    "Below diagram is another way to visualize it, expanded on calculation of when we’re gettting exactly 0 days out of 3, 1 day out of 3, and 3 days out of 3."
   ]
  },
  {
   "cell_type": "markdown",
   "id": "3ef41a36",
   "metadata": {},
   "source": []
  },
  {
   "cell_type": "markdown",
   "id": "c9b9f67d",
   "metadata": {},
   "source": [
    "![Image](https://storage.googleapis.com/rg-ai-bootcamp/toolkits/success-fail-min.png)"
   ]
  },
  {
   "cell_type": "markdown",
   "id": "b4333374",
   "metadata": {},
   "source": [
    "Above concept is called combination, where we want to get exactly y times of success out of n trials, no matter the order (it’s the same if we’re successful on the first day and then the second day with the other way around). We can calculate it using this formula:"
   ]
  },
  {
   "cell_type": "markdown",
   "id": "b55482a7",
   "metadata": {},
   "source": [
    "\\[\\binom{n}{y} = \\frac{n!}{y!(n-y)!} \\]"
   ]
  },
  {
   "cell_type": "markdown",
   "id": "b85ef9b9",
   "metadata": {},
   "source": [
    "where \\(\\binom{n}{y}\\) is the notation of combination function and \\(n\\) is the number of trials and \\(y\\) is the number of success. So for our calculcation where the number of trials (days) is 3 and the number of success is 2, we can calculate it like this:"
   ]
  },
  {
   "cell_type": "markdown",
   "id": "d8396a97",
   "metadata": {},
   "source": [
    "\\[\\binom{3}{2} = \\frac{3!}{2!(3-2)!} = \\frac{3!}{2!1!} = 3\\]"
   ]
  },
  {
   "cell_type": "markdown",
   "id": "2ceaee43",
   "metadata": {},
   "source": [
    "# Probability function for binomial distribution"
   ]
  },
  {
   "cell_type": "markdown",
   "id": "f3417902",
   "metadata": {},
   "source": [
    "Above we already learned about combination, and we need to extend on that function if our likeliness between success and failure is not 50/50. We can do that by multiplying the probability of success with the probability of failure. So the probability function for binomial distribution is:"
   ]
  },
  {
   "cell_type": "markdown",
   "id": "383c5d6d",
   "metadata": {},
   "source": [
    "\\[P(y) = \\binom{n}{y} p^y (1-p)^{n-y}\\]"
   ]
  },
  {
   "cell_type": "markdown",
   "id": "7b1a675d",
   "metadata": {},
   "source": [
    "where \\(p\\) is the probability of success and \\(1-p\\) is the probability of failure."
   ]
  },
  {
   "cell_type": "markdown",
   "id": "f26b4efd",
   "metadata": {},
   "source": [
    "So if we try to plug in the p for our probability of success on 60%, n for the number of trials (days) which is 3, and y for the number of success which is 2, we can calculate it like this:"
   ]
  },
  {
   "cell_type": "markdown",
   "id": "f30b13bd",
   "metadata": {},
   "source": [
    "\\[P(y) = \\binom{3}{2} 0.6^2 (1-0.6)^{3-2} = 3 \\times 0.6^2 \\times 0.4^1 = 0.432\\]"
   ]
  },
  {
   "cell_type": "markdown",
   "id": "39e01d45",
   "metadata": {},
   "source": [
    "So the probability for John having exactly 2 days out of 3 days of success is 43.2%."
   ]
  },
  {
   "cell_type": "markdown",
   "id": "21d153d9",
   "metadata": {},
   "source": [
    "# Take it to graph"
   ]
  },
  {
   "cell_type": "markdown",
   "id": "e40c8815",
   "metadata": {},
   "source": [
    "Let’s try to plot our previously learned formula to graph!"
   ]
  },
  {
   "cell_type": "markdown",
   "id": "982c8e0d",
   "metadata": {},
   "source": [
    "\\[P(y) = \\binom{n}{y} p^y (1-p)^{n-y}\\]"
   ]
  },
  {
   "cell_type": "markdown",
   "id": "6ccfa2ba",
   "metadata": {},
   "source": [
    "We’ll let the y to be the x axis while the n will be set to 15 for now and the p will be set to 0.6."
   ]
  },
  {
   "cell_type": "markdown",
   "id": "fb48b4a7",
   "metadata": {},
   "source": [
    "\\[P(y) = \\binom{15}{y} 0.6^y (1-0.6)^{15-y}\\]"
   ]
  },
  {
   "cell_type": "code",
   "execution_count": null,
   "id": "ce20fff7",
   "metadata": {},
   "outputs": [],
   "source": [
    "import matplotlib.pyplot as plt\n",
    "import numpy as np\n",
    "from scipy.stats import binom\n",
    "from ipywidgets import interact, IntSlider, FloatSlider\n",
    "\n",
    "def plot_binomial_distribution(n, p):\n",
    "    x = np.arange(0, n+1)\n",
    "    y = binom.pmf(x, n, p)\n",
    "\n",
    "    plt.figure(figsize=(10, 6))\n",
    "    bars = plt.bar(x, y)\n",
    "    plt.xlabel('Number of Day With Success (y)')\n",
    "    plt.ylabel('Probability')\n",
    "    plt.title(f'Binomial Distribution - n={n}, p={p}')\n",
    "    plt.grid(axis='y')\n",
    "\n",
    "    # Adding probability values to each bar\n",
    "    for i, bar in enumerate(bars):\n",
    "        plt.text(bar.get_x() + bar.get_width() / 2, bar.get_height(),\n",
    "                 f'{y[i]:.2f}', ha='center', va='bottom')\n",
    "\n",
    "    plt.show()\n",
    "\n",
    "# Creating an interactive widget\n",
    "interact(plot_binomial_distribution, \n",
    "         n=IntSlider(min=3, max=30, step=1, value=15, description='n: Number of Trials'), \n",
    "         p=FloatSlider(min=0, max=1, step=0.01, value=0.6, description='p: Probability of Success'))"
   ]
  },
  {
   "cell_type": "code",
   "execution_count": null,
   "id": "e80462e0",
   "metadata": {},
   "outputs": [],
   "source": [
    "<function __main__.plot_binomial_distribution(n, p)>"
   ]
  },
  {
   "cell_type": "markdown",
   "id": "611da3f4",
   "metadata": {},
   "source": [
    "So if we look above graph, the most likely scenario is that John will have 9 days out of 15 days of success, and the probability of that happening is 0.21 or 21%, while it’s nearly impossible for John having 0, 1, 2, and 15 days out of 15 days of success."
   ]
  },
  {
   "cell_type": "markdown",
   "id": "459edfec",
   "metadata": {},
   "source": [
    "# Continuous Distributions"
   ]
  },
  {
   "cell_type": "markdown",
   "id": "7b45d877",
   "metadata": {},
   "source": [
    "# Normal Distribution"
   ]
  },
  {
   "cell_type": "markdown",
   "id": "7840e5cc",
   "metadata": {},
   "source": [
    "The Normal Distribution is one of the most commonly found continuous distributions in nature and life. The graph of a Normal Distribution is centered on the mean and if you see below, it’s somewhat shaped like a bell, and that’s why it’s also called the Bell Curve."
   ]
  },
  {
   "cell_type": "markdown",
   "id": "5bb256dc",
   "metadata": {},
   "source": []
  },
  {
   "cell_type": "markdown",
   "id": "aa6eec67",
   "metadata": {},
   "source": [
    "![Image](https://storage.googleapis.com/rg-ai-bootcamp/toolkits/bell-curve-min.png)"
   ]
  },
  {
   "cell_type": "markdown",
   "id": "bff29310",
   "metadata": {},
   "source": [
    "So as long as a data, when placed on a graph, forms a bell curve shape, it’s a normal distribution. There is of course a mathematical formula to calculate if a data is a normal distribution or not, but we won’t go into that."
   ]
  },
  {
   "cell_type": "markdown",
   "id": "ee1842f4",
   "metadata": {},
   "source": [
    "# Plotting to graph"
   ]
  },
  {
   "cell_type": "code",
   "execution_count": null,
   "id": "43736ab5",
   "metadata": {},
   "outputs": [],
   "source": [
    "import numpy as np\n",
    "import matplotlib.pyplot as plt\n",
    "import seaborn as sns\n",
    "import pandas as pd\n",
    "import ipywidgets as widgets\n",
    "from IPython.display import display\n",
    "from scipy import stats\n",
    "\n",
    "\n",
    "# Global variable to store the commute times data\n",
    "global_commute_times = None\n",
    "\n",
    "# Function to update the plot based on new mean and std_dev\n",
    "def update_plot(mean, std_dev):\n",
    "    global global_commute_times  # Referencing the global variable\n",
    "\n",
    "    # Generating 3000 data points\n",
    "    global_commute_times = np.random.normal(mean, std_dev, 3000)\n",
    "    \n",
    "    # Plotting\n",
    "    plt.figure(figsize=(25, 6))\n",
    "    sns.histplot(global_commute_times, kde=True, bins=30, color='blue')\n",
    "    plt.title(\"Distribution of Commute Times\")\n",
    "    plt.xlabel(\"Commute Time (minutes)\")\n",
    "    plt.ylabel(\"Frequency\")\n",
    "    \n",
    "    # Mean line\n",
    "    plt.axvline(x=mean, color='red', linestyle='--')\n",
    "    plt.text(mean+0.5, 25, f'Mean: {mean} min', color = 'red')\n",
    "    \n",
    "    # Standard deviation lines with different colors\n",
    "    colors = ['green', 'orange', 'purple']\n",
    "    for i in range(1, 4):\n",
    "        plt.axvline(x=mean + i*std_dev, color=colors[i-1], linestyle='--')\n",
    "        plt.axvline(x=mean - i*std_dev, color=colors[i-1], linestyle='--')\n",
    "        plt.text(mean + i*std_dev+0.5, 20, f'Stddev: {i*std_dev:.2f} min', color = colors[i-1])\n",
    "        plt.text(mean - i*std_dev+0.5, 20, f'Stddev: {i*std_dev:.2f} min', color = colors[i-1])\n",
    "    \n",
    "    plt.grid(True)\n",
    "    plt.show()\n",
    "\n",
    "    calculate_statistics(mean, std_dev)\n",
    "\n",
    "def calculate_statistics(mean, std_dev):\n",
    "    global global_commute_times\n",
    "    \n",
    "    # Calculating statistics\n",
    "    median = np.median(global_commute_times)\n",
    "    \n",
    "    variance = np.var(global_commute_times)\n",
    "    standard_deviation = np.std(global_commute_times)  # Recalculating in case the input std_dev is different\n",
    "\n",
    "    within_std_1 = np.sum((global_commute_times > mean - std_dev) & (global_commute_times < mean + std_dev))\n",
    "    within_std_2 = np.sum((global_commute_times > mean - 2*std_dev) & (global_commute_times < mean + 2*std_dev))\n",
    "    within_std_3 = np.sum((global_commute_times > mean - 3*std_dev) & (global_commute_times < mean + 3*std_dev))\n",
    "    total_data_points = len(global_commute_times)\n",
    "    percentage_within_std_1 = (within_std_1 / total_data_points) * 100\n",
    "    percentage_within_std_2 = (within_std_2 / total_data_points) * 100\n",
    "    percentage_within_std_3 = (within_std_3 / total_data_points) * 100\n",
    "\n",
    "    # Displaying the statistics\n",
    "    print(f\"Mean: {mean}\")\n",
    "    print(f\"Median: {median}\")\n",
    "    print(f\"Variance: {variance}\")\n",
    "    print(f\"Standard Deviation: {standard_deviation}\")\n",
    "    print(f\"Percentage within 1 std dev: {percentage_within_std_1:.2f}%\")\n",
    "    print(f\"Percentage within 2 std devs: {percentage_within_std_2:.2f}%\")\n",
    "    print(f\"Percentage within 3 std devs: {percentage_within_std_3:.2f}%\")\n",
    "\n",
    "\n",
    "# Creating widgets\n",
    "mean_widget = widgets.IntSlider(min=0, max=120, value=60, description='Mean:')\n",
    "std_dev_widget = widgets.IntSlider(min=1, max=50, value=10, description='Std Dev:')\n",
    "\n",
    "# Linking widgets to the update function\n",
    "ui = widgets.VBox([mean_widget, std_dev_widget])\n",
    "out = widgets.interactive_output(update_plot, {'mean': mean_widget, 'std_dev': std_dev_widget})\n",
    "\n",
    "# Displaying the widgets and the output\n",
    "display(ui, out)\n"
   ]
  },
  {
   "cell_type": "markdown",
   "id": "c9f925fb",
   "metadata": {},
   "source": [
    "On above graph, it’s a graph of data for “commute time”, it’s randomized data but this pattern is mostly what you’ll expect to see in real life. So let’s see what we can gather from this graph:"
   ]
  },
  {
   "cell_type": "markdown",
   "id": "58ef9b2e",
   "metadata": {},
   "source": [
    "# Mean and median"
   ]
  },
  {
   "cell_type": "markdown",
   "id": "dd85cdd6",
   "metadata": {},
   "source": [
    "One of the characteristics of normal distribution is that the mean and median is the same (or at least very close). So as you can see above, the mean is 60 minutes and the median is approximately 60 minutes as well."
   ]
  },
  {
   "cell_type": "markdown",
   "id": "e1d94992",
   "metadata": {},
   "source": [
    "# Variant"
   ]
  },
  {
   "cell_type": "markdown",
   "id": "8c36742d",
   "metadata": {},
   "source": [
    "The variant is the spread of the data"
   ]
  },
  {
   "cell_type": "markdown",
   "id": "d84a3d25",
   "metadata": {},
   "source": [
    "\\[\n",
    "\\sigma^2 = \\frac{1}{N}\\sum_{i=1}^{N}(x_i - \\mu)^2\n",
    "\\]"
   ]
  },
  {
   "cell_type": "markdown",
   "id": "5b129010",
   "metadata": {},
   "source": [
    "In this formula above, \\(\\sigma^2\\) is the variant, \\(N\\) is the number of data, \\(x_i\\) is the data, and \\(\\mu\\) is the mean."
   ]
  },
  {
   "cell_type": "markdown",
   "id": "f1b91fa3",
   "metadata": {},
   "source": [
    "So intuitively from the formula you should be able to gather that we just need to calculate the distance of each data from the mean to know how each data is different from the mean, and then we square it that distance so that the negative distance won’t cancel out the positive distance, and then we sum it all up and divide it by the number of data to get the average of the distance, and that’s the variant, the number that tells us how every data is different from the mean."
   ]
  },
  {
   "cell_type": "markdown",
   "id": "cd5e0f68",
   "metadata": {},
   "source": [
    "For above data the variant should be around 100, and can be different each time the data is randomized or you change any parameter."
   ]
  },
  {
   "cell_type": "markdown",
   "id": "f5fdb69f",
   "metadata": {},
   "source": [
    "# Standard deviation"
   ]
  },
  {
   "cell_type": "markdown",
   "id": "c6226290",
   "metadata": {},
   "source": [
    "Standard deviation is as simple as the square root of the variant."
   ]
  },
  {
   "cell_type": "markdown",
   "id": "e3ab4944",
   "metadata": {},
   "source": [
    "\\[\n",
    "\\sigma = \\sqrt{\\text{variant}}\n",
    "\\]"
   ]
  },
  {
   "cell_type": "markdown",
   "id": "03c41e33",
   "metadata": {},
   "source": [
    "Why? Basically because when we’re calculating the variant, we’re squaring the distance of each data from the mean, so to get the original distance we just need to square root it. It helps to visualize the spread of the data, and when it comes to normal distribution, most of the data is within $ - $ and $ + $."
   ]
  },
  {
   "cell_type": "markdown",
   "id": "d9227c31",
   "metadata": {},
   "source": [
    "# Most of the data will fall in the \\(mean \\pm 1 \\times standard\\ deviation\\) range"
   ]
  },
  {
   "cell_type": "markdown",
   "id": "352ef3e8",
   "metadata": {},
   "source": [
    "Standard deviation is a measure of how spread out the data is, and in normal distribution most of the data should fall in between of \\(mean - 1 \\times standard\\ deviation\\) and \\(mean + 1 \\times standard\\ deviation\\) range. You can check on above text of “Percentage within 1 std dev” to confirm that."
   ]
  },
  {
   "cell_type": "markdown",
   "id": "625e84f4",
   "metadata": {},
   "source": [
    "# 68-95-99.7 rule"
   ]
  },
  {
   "cell_type": "markdown",
   "id": "2f29b195",
   "metadata": {},
   "source": [
    "One of the most common pattern that you’ll see in normal distribution is the 68-95-99.7 rule. It’s a rule that says that :"
   ]
  },
  {
   "cell_type": "markdown",
   "id": "fdfd195b",
   "metadata": {},
   "source": [
    "- 68% of the data will fall in the\\(mean \\pm 1 \\times standard\\ deviation\\)range\n",
    "- 95% of the data will fall in the\\(mean \\pm 2 \\times standard\\ deviation\\)range\n",
    "- 99.7% of the data will fall in the\\(mean \\pm 3 \\times standard\\ deviation\\)range."
   ]
  },
  {
   "cell_type": "markdown",
   "id": "7e6b9fa3",
   "metadata": {},
   "source": [
    "This number can be slightly different in real life by a bit, but if your data is really a normal distribution, the data should be close to that number."
   ]
  },
  {
   "cell_type": "markdown",
   "id": "3951f834",
   "metadata": {},
   "source": [
    "# Exponential Distribution"
   ]
  },
  {
   "cell_type": "markdown",
   "id": "44430531",
   "metadata": {},
   "source": [
    "Exponential distribution is a distribution where the probability of an event occuring is proportional to the length of “waiting time” between the events. The distribution is mostly used in a data where the data is expected to finish in a certain amount of time, like the time between two consecutive arrivals of customers at a store or the time between two consecutive phone calls at a call center."
   ]
  },
  {
   "cell_type": "markdown",
   "id": "de84d510",
   "metadata": {},
   "source": [
    "# Let’s see on an example"
   ]
  },
  {
   "cell_type": "markdown",
   "id": "067e521f",
   "metadata": {},
   "source": [
    "On below graph you can see that graph of the time between two consecutive arrivals of customers at a store. Sometimes the time between one customer to another is short, sometimes it’s long, so below we can check how long we’re supposed to wait for the next customer to arrive."
   ]
  },
  {
   "cell_type": "code",
   "execution_count": null,
   "id": "09a96006",
   "metadata": {},
   "outputs": [],
   "source": [
    "import pandas as pd\n",
    "\n",
    "data = {\n",
    "    'Customer_Number': [1, 2, 3, 4, 5, 6, 7, 8, 9, 10, 11, 12, 13, 14, 15, 16, 17, 18, 19, 20],\n",
    "    'Interval_to_Previous_Customer': [0.00, 48.40, 0.54, 34.79, 66.44, 2.42, 113.98, 39.54, 1.68, 13.69, 165.46, 47.02, 6.12, 18.26, 32.86, 1.14, 28.57, 36.21, 15.04, 47.84]\n",
    "}\n",
    "\n",
    "df = pd.DataFrame(data)\n",
    "\n",
    "print(df)"
   ]
  },
  {
   "cell_type": "code",
   "execution_count": null,
   "id": "ab16cc0b",
   "metadata": {},
   "outputs": [],
   "source": [
    "    Customer_Number  Interval_to_Previous_Customer\n",
    "0                 1                           0.00\n",
    "1                 2                          48.40\n",
    "2                 3                           0.54\n",
    "3                 4                          34.79\n",
    "4                 5                          66.44\n",
    "5                 6                           2.42\n",
    "6                 7                         113.98\n",
    "7                 8                          39.54\n",
    "8                 9                           1.68\n",
    "9                10                          13.69\n",
    "10               11                         165.46\n",
    "11               12                          47.02\n",
    "12               13                           6.12\n",
    "13               14                          18.26\n",
    "14               15                          32.86\n",
    "15               16                           1.14\n",
    "16               17                          28.57\n",
    "17               18                          36.21\n",
    "18               19                          15.04\n",
    "19               20                          47.84"
   ]
  },
  {
   "cell_type": "code",
   "execution_count": null,
   "id": "7376779f",
   "metadata": {},
   "outputs": [],
   "source": [
    "import numpy as np\n",
    "import matplotlib.pyplot as plt\n",
    "from scipy.stats import expon\n",
    "import pandas as pd\n",
    "\n",
    "# Select the data for fitting the distribution\n",
    "data = df['Interval_to_Previous_Customer']\n",
    "\n",
    "# Fit an exponential distribution to the data\n",
    "loc, scale = expon.fit(data)\n",
    "\n",
    "# Generate sorted data for x-axis of CDF plot\n",
    "x = np.sort(data)\n",
    "\n",
    "# Generate y-axis data for CDF plot\n",
    "y = np.arange(len(x))/float(len(x))\n",
    "\n",
    "# Generate CDF for the exponential distribution\n",
    "exp_cdf = expon.cdf(x, loc, scale)\n",
    "\n",
    "# Create a plot\n",
    "plt.figure(figsize=(12,6))\n",
    "plt.plot(x, y, marker='.', linestyle='none')\n",
    "plt.plot(x, exp_cdf, label='Exponential CDF')\n",
    "plt.title(\"Exponential CDF and Empirical Data\")\n",
    "plt.xlabel('Interval to Previous Customer in minutes')\n",
    "plt.ylabel('Probability')\n",
    "\n",
    "# Add vertical lines and text annotations\n",
    "x_values = [5, 10, 25, 50, 75, 100, 125]\n",
    "for val in x_values:\n",
    "    plt.axvline(x=val, color='r', linestyle='--')\n",
    "    prob = expon.cdf(val, loc, scale)   # calculate the probability at the x value\n",
    "    plt.text(val+3, prob-0.05, f\"{prob:.2f}\", color='r')\n",
    "\n",
    "# Add x-values to x-axis\n",
    "plt.xticks(x_values)\n",
    "\n",
    "plt.legend()\n",
    "plt.show()\n",
    "\n",
    "# Print the percentage of people coming at each specified interval\n",
    "for val in x_values:\n",
    "    prob = expon.cdf(val, loc, scale)   # calculate the probability at the x value\n",
    "    print(f\"{prob*100:.2f}% of people arrive within an interval of {val} minutes.\")"
   ]
  },
  {
   "cell_type": "markdown",
   "id": "3178e6a7",
   "metadata": {},
   "source": []
  },
  {
   "cell_type": "code",
   "execution_count": null,
   "id": "11fbfcac",
   "metadata": {},
   "outputs": [],
   "source": [
    "12.97% of people arrive within an interval of 5 minutes.\n",
    "24.25% of people arrive within an interval of 10 minutes.\n",
    "50.06% of people arrive within an interval of 25 minutes.\n",
    "75.06% of people arrive within an interval of 50 minutes.\n",
    "87.55% of people arrive within an interval of 75 minutes.\n",
    "93.78% of people arrive within an interval of 100 minutes.\n",
    "96.90% of people arrive within an interval of 125 minutes."
   ]
  },
  {
   "cell_type": "markdown",
   "id": "03d59601",
   "metadata": {},
   "source": [
    "As you can see, exponential distribution is a distribution where the probability of an event occuring is increasing as the time goes on (we use a variation of exponential distribution where the probability of an event occuring is increasing as the time goes on called Cumulative Distribution Function or CDF, but we won’t go deeper into that). The blue dots is the data gathered from the store, while the orange line is the exponential distribution line, or basically the prediction of the probability of the next customer arriving at that time."
   ]
  },
  {
   "cell_type": "markdown",
   "id": "29e76732",
   "metadata": {},
   "source": [
    "To gather data from above graph is as simple as to check the x axist and then check the y axis for the probability that the event is occuring at that time. For example, if we see above graph at the 5 minutes mark it’s only 13% chance that the next customer will arrive at that time, so maybe we can wait for another 5 minutes, which will increase that chance to be 24%. 15 Minutes after that (25 minutes mark) it’s 50% chance that the next customer will arrive, and so on."
   ]
  }
 ],
 "metadata": {},
 "nbformat": 4,
 "nbformat_minor": 5
}
