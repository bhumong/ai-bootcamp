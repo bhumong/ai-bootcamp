{
 "cells": [
  {
   "cell_type": "markdown",
   "id": "3ee4e48a",
   "metadata": {},
   "source": [
    "# Descriptive Statistics"
   ]
  },
  {
   "cell_type": "markdown",
   "id": "e3403bfc",
   "metadata": {},
   "source": []
  },
  {
   "cell_type": "markdown",
   "id": "6c13eb2d",
   "metadata": {},
   "source": [
    "“Statistics is a way of reasoning, along with a collection of tools and methods, designed to help us understand the world” (De Veaux et al. 2006, A statistician and data science expert)."
   ]
  },
  {
   "cell_type": "markdown",
   "id": "6e2a4981",
   "metadata": {},
   "source": [
    "Descriptive Statistics is part of Statistical analysis, which is a way to understand patterns in data, mostly number-based data. It’s used by many, including scientists and businesses."
   ]
  },
  {
   "cell_type": "markdown",
   "id": "9997f31c",
   "metadata": {},
   "source": [
    "Why do we need statistical analysis, especially in machine learning? In Machine Learning, we are trying to make inferences or make predictions based on the input data. There are a lot of statistical concepts, such as Probability, Descriptive and Distribution Statistics, Bayes Theorem and many others, that helps in data understanding, pattern identification, improved prediction accuracy, and model validation to make data-driven decisions."
   ]
  },
  {
   "cell_type": "markdown",
   "id": "616d7187",
   "metadata": {},
   "source": [
    "Let’s start with the fundamental concept, Descriptive Statistics."
   ]
  },
  {
   "cell_type": "markdown",
   "id": "9a4e6fe2",
   "metadata": {},
   "source": [
    "# Introduction to Descriptive Statistics"
   ]
  },
  {
   "cell_type": "markdown",
   "id": "45ebe06e",
   "metadata": {},
   "source": [
    "In Descriptive statistics, we are trying to describe the data, so without looking at all the data, we can get a summary of the data."
   ]
  },
  {
   "cell_type": "markdown",
   "id": "21ffb458",
   "metadata": {},
   "source": [
    "# Types of descriptive statistics"
   ]
  },
  {
   "cell_type": "markdown",
   "id": "68954d5a",
   "metadata": {},
   "source": [
    "Here we will discuss the 2 main types of descriptive statistics:"
   ]
  },
  {
   "cell_type": "markdown",
   "id": "3d3f0b9f",
   "metadata": {},
   "source": []
  },
  {
   "cell_type": "markdown",
   "id": "0e25f245",
   "metadata": {},
   "source": [
    "# Measures of Central Tendency"
   ]
  },
  {
   "cell_type": "markdown",
   "id": "da765748",
   "metadata": {},
   "source": [
    "The ‘middle’ or ‘average’ of our data is called its central tendency. This helps us find the typical data value. The three key measures of central tendency are the mean, median, and mode."
   ]
  },
  {
   "cell_type": "markdown",
   "id": "9aa90c11",
   "metadata": {},
   "source": [
    "# Mean"
   ]
  },
  {
   "cell_type": "markdown",
   "id": "dedfa42c",
   "metadata": {},
   "source": [
    "The mean, or the average, is the most used way to find the center point of a dataset. It’s like finding the balance point of our data. To calculate the mean, you add all the values and then divide by how many values there are."
   ]
  },
  {
   "cell_type": "markdown",
   "id": "eda34c54",
   "metadata": {},
   "source": [
    "What happens if we don’t use the mean?"
   ]
  },
  {
   "cell_type": "markdown",
   "id": "7265e5aa",
   "metadata": {},
   "source": [
    "Imagine John, who runs a bakery. Initially, he guessed how many loaves to bake each day. The result? Sometimes, he had too many leftovers; other times, he ran out of bread, leaving customers disappointed."
   ]
  },
  {
   "cell_type": "markdown",
   "id": "cbacbf64",
   "metadata": {},
   "source": [
    "How does the mean solve the problem?"
   ]
  },
  {
   "cell_type": "markdown",
   "id": "3402d6c9",
   "metadata": {},
   "source": [
    "John started using the mean. He noted the number of loaves sold daily for a week, then divided the total sold by seven (days). This gave him the average (or ‘typical’) number of loaves his customers bought daily. Using this mean, John improved his baking plan, reducing waste and customer disappointment."
   ]
  },
  {
   "cell_type": "markdown",
   "id": "88bd4f71",
   "metadata": {},
   "source": [
    "Arithmetic mean calculator"
   ]
  },
  {
   "cell_type": "markdown",
   "id": "7005d88a",
   "metadata": {},
   "source": [
    "You can calculate the mean by hand or with the help of our arithmetic mean calculator below."
   ]
  },
  {
   "cell_type": "code",
   "execution_count": null,
   "id": "407e4b34",
   "metadata": {},
   "outputs": [],
   "source": [
    "!pip install gradio kaleido scipy"
   ]
  },
  {
   "cell_type": "code",
   "execution_count": null,
   "id": "6029e533",
   "metadata": {},
   "outputs": [],
   "source": [
    "!pip install gradio\n",
    "\n",
    "# @title #### Arithmetic mean calculator\n",
    "import gradio as gr\n",
    "import numpy as np\n",
    "\n",
    "def calculate_mean(numbers):\n",
    "    numbers = [float(num) for num in numbers.split(',')]\n",
    "    return np.mean(numbers)\n",
    "\n",
    "iface = gr.Interface(\n",
    "                     title=\"Arithmetic mean calculator\",\n",
    "                     fn=calculate_mean, \n",
    "                     inputs=\"text\", \n",
    "                     outputs=gr.Label(label=\"Mean\"),\n",
    "                     examples=[['23,45,67,89'], ['12,34,56'], ['11,22,33,44,55']])\n",
    "iface.launch()"
   ]
  },
  {
   "cell_type": "markdown",
   "id": "766e49ed",
   "metadata": {},
   "source": [
    "In research, we often draw data from a ‘sample’—a subset of the ‘population’—to make inferences about the whole population. The ‘population’ refers to the whole set we’re interested in studying."
   ]
  },
  {
   "cell_type": "markdown",
   "id": "12071dde",
   "metadata": {},
   "source": []
  },
  {
   "cell_type": "markdown",
   "id": "6c64d44e",
   "metadata": {},
   "source": [
    "Population vs Sample (Source :www.scribbr.com)"
   ]
  },
  {
   "cell_type": "markdown",
   "id": "7faed5d9",
   "metadata": {},
   "source": [
    "These sets can be anything, not just people—objects, events, organizations, countries, species, etc."
   ]
  },
  {
   "cell_type": "markdown",
   "id": "d4b61d8d",
   "metadata": {},
   "source": [
    "We calculate the mean (average) of a sample and a population with similar formulas, distinguished by notation—capital letters for population, lowercase for sample."
   ]
  },
  {
   "cell_type": "markdown",
   "id": "f6b69d55",
   "metadata": {},
   "source": [
    "Population mean (\\(\\bar{X}\\) or μ)"
   ]
  },
  {
   "cell_type": "markdown",
   "id": "fd354e59",
   "metadata": {},
   "source": [
    "\\[\\bar{X} = \\dfrac{\\sum X}{N}\\]"
   ]
  },
  {
   "cell_type": "markdown",
   "id": "e7270a6b",
   "metadata": {},
   "source": [
    "where \\(\\sum X\\) is the sum of all values and \\(N\\) is the number of values in the population."
   ]
  },
  {
   "cell_type": "markdown",
   "id": "60d0fc71",
   "metadata": {},
   "source": [
    "Sample mean (\\(\\bar{x}\\) or M)"
   ]
  },
  {
   "cell_type": "markdown",
   "id": "efbb5005",
   "metadata": {},
   "source": [
    "\\[\\bar{x} = \\dfrac{\\sum x}{n}\\]"
   ]
  },
  {
   "cell_type": "markdown",
   "id": "9e19d99a",
   "metadata": {},
   "source": [
    "where \\(\\sum x\\) is the sum of all sample values and \\(n\\) is the number of values in the sample."
   ]
  },
  {
   "cell_type": "markdown",
   "id": "bc9a025a",
   "metadata": {},
   "source": [
    "Calculating the Mean: An Example"
   ]
  },
  {
   "cell_type": "markdown",
   "id": "53c0d15e",
   "metadata": {},
   "source": [
    "Let’s calculate the mean number of loaves of bread sold daily in a bakery over a week."
   ]
  },
  {
   "cell_type": "markdown",
   "id": "c6cd5c59",
   "metadata": {},
   "source": [
    "Sample data: - \\(x\\) Number of loaves sold daily: 72, 64, 78, 84, 70, 76, 82"
   ]
  },
  {
   "cell_type": "markdown",
   "id": "a2f48fb9",
   "metadata": {},
   "source": [
    "First, add up all the values:"
   ]
  },
  {
   "cell_type": "markdown",
   "id": "06304442",
   "metadata": {},
   "source": [
    "\\[\\sum x = 72 + 64 + 78 + 84 + 70 + 76 + 82 = 526\\]"
   ]
  },
  {
   "cell_type": "markdown",
   "id": "f0e6e754",
   "metadata": {},
   "source": [
    "Next, divide the total by the number of values (7):"
   ]
  },
  {
   "cell_type": "markdown",
   "id": "bb41240b",
   "metadata": {},
   "source": [
    "\\[\\bar{x} = \\dfrac{\\sum x}{n} = \\dfrac{526}{7} = 75.14\\]"
   ]
  },
  {
   "cell_type": "markdown",
   "id": "c6ada779",
   "metadata": {},
   "source": [
    "So, on average, approximately 75 loaves of bread are sold daily. This average can help the bakery to better forecast demand, reduce waste, and improve customer satisfaction."
   ]
  },
  {
   "cell_type": "markdown",
   "id": "033fe09c",
   "metadata": {},
   "source": [
    "Now, What’s the role of the mean in machine learning?"
   ]
  },
  {
   "cell_type": "markdown",
   "id": "ce4f1c4f",
   "metadata": {},
   "source": [
    "Much like in John’s bakery, machine learning algorithms use the mean for making accurate predictions. Without the mean, they would lack a critical reference point, leading to less accurate predictions. 🎯"
   ]
  },
  {
   "cell_type": "markdown",
   "id": "97bd1649",
   "metadata": {},
   "source": [
    "Interactive chart Mean"
   ]
  },
  {
   "cell_type": "markdown",
   "id": "71c7c1e0",
   "metadata": {},
   "source": [
    "You can explore various different data to get the mean value and learn how the mean value is positioned from our tool below."
   ]
  },
  {
   "cell_type": "code",
   "execution_count": null,
   "id": "544c36ac",
   "metadata": {},
   "outputs": [],
   "source": [
    "!pip install -U gradio kaleido\n",
    "\n",
    "# @title #### Calculate mean and plot bar chart\n",
    "import warnings\n",
    "warnings.filterwarnings('ignore', category=UserWarning, module='gradio')\n",
    "import plotly.graph_objects as go\n",
    "import gradio as gr\n",
    "import plotly.io as pio\n",
    "from PIL import Image\n",
    "import io\n",
    "\n",
    "# Function to calculate mean and plot bar chart\n",
    "def interactive_plot(num_days, day1=0, day2=0, day3=0, day4=0, day5=0, day6=0, day7=0, sort_data=False):\n",
    "    num_days = int(num_days)  # Convert num_days to integer\n",
    "    days = [day1, day2, day3, day4, day5, day6, day7][:num_days]\n",
    "    days_names = ['day1', 'day2', 'day3', 'day4', 'day5', 'day6', 'day7'][:num_days]\n",
    "\n",
    "    if sort_data:\n",
    "        days, days_names = zip(*sorted(zip(days, days_names), key=lambda pair: pair[0]))\n",
    "\n",
    "    # Calculate the mean\n",
    "    mean_day = sum(days) / len(days)\n",
    "\n",
    "    # Create a bar chart\n",
    "    fig = go.Figure(data=go.Bar(y=days, x=days_names, name='days'))\n",
    "\n",
    "    # Add a horizontal line for the mean\n",
    "    fig.add_trace(go.Scatter(\n",
    "        x=[days_names[0], days_names[-1]],\n",
    "        y=[mean_day, mean_day],\n",
    "        mode='lines',\n",
    "        name=f'Mean: {mean_day:.2f}',\n",
    "        line=dict(color='Red', width=1, dash='dash')\n",
    "    ))\n",
    "\n",
    "    # Add labels for x and y axis\n",
    "    fig.update_layout(\n",
    "        xaxis_title=\"Days\",\n",
    "        yaxis_title=\"Number of loaves sold\",\n",
    "        font=dict(\n",
    "            size=14,\n",
    "        ),\n",
    "        legend=dict(\n",
    "            yanchor=\"top\",\n",
    "            y=1.2,\n",
    "            xanchor=\"center\",\n",
    "            x=0.5\n",
    "        )\n",
    "    )\n",
    "\n",
    "    # Convert the figure to PNG image\n",
    "    png_image = pio.to_image(fig, format='png')\n",
    "\n",
    "    # Create a PIL Image object for Gradio Output\n",
    "    image = Image.open(io.BytesIO(png_image))\n",
    "\n",
    "    return image\n",
    "\n",
    "# Create Gradio interface\n",
    "iface = gr.Interface(\n",
    "    title='Interactive Mean Plot Mean',\n",
    "    description='Interactive plot of the mean of 7 days',\n",
    "    live=True, \n",
    "    fn=interactive_plot, \n",
    "    inputs=[\n",
    "        gr.Dropdown(choices=[1, 2, 3, 4, 5, 6, 7], label=\"Number of days to use\", value=\"7\"),\n",
    "        gr.Slider(minimum=0, maximum=100, step=1, value=72),\n",
    "        gr.Slider(minimum=0, maximum=100, step=1, value=64),\n",
    "        gr.Slider(minimum=0, maximum=100, step=1, value=78),\n",
    "        gr.Slider(minimum=0, maximum=100, step=1, value=84),\n",
    "        gr.Slider(minimum=0, maximum=100, step=1, value=70),\n",
    "        gr.Slider(minimum=0, maximum=100, step=1, value=76),\n",
    "        gr.Slider(minimum=0, maximum=100, step=1, value=82),\n",
    "        gr.Checkbox(label=\"Sort data\")\n",
    "    ], \n",
    "    outputs=gr.Image(type='pil'),\n",
    "    examples=[\n",
    "        [7, 30, 35, 40, 45, 80, 90, 100], # Weekend Surge\n",
    "        [7, 80, 75, 30, 35, 75, 85, 90], # Midweek Drop\n",
    "        [7, 50, 70, 30, 90, 60, 40, 80], # Random Distribution\n",
    "        [7, 10, 20, 30, 40, 50, 60, 70], # Constant Growth\n",
    "        [7, 70, 60, 50, 40, 30, 20, 10], # Constant Decline\n",
    "    ]\n",
    ")\n",
    "\n",
    "iface.launch();"
   ]
  },
  {
   "cell_type": "markdown",
   "id": "c3219ed3",
   "metadata": {},
   "source": [
    "Caution When Using the Mean"
   ]
  },
  {
   "cell_type": "markdown",
   "id": "bf42eb61",
   "metadata": {},
   "source": [
    "The mean is a common measure of central tendency, but it isn’t always the best choice. In certain situations, the mean can be misleading as it may be ‘pulled’ towards extreme values."
   ]
  },
  {
   "cell_type": "markdown",
   "id": "0447f23f",
   "metadata": {},
   "source": [
    "For example, consider a company that has 9 employees who earn between \\$10,000 to \\$20,000 per year, with the exception of the CEO who earns \\$1,000,000. The median salary is \\$113,700, which does not accurately represent the typical salary in this case."
   ]
  },
  {
   "cell_type": "markdown",
   "id": "2c278355",
   "metadata": {},
   "source": [
    "Why? Because the CEO’s salary is very large compared to other employees, the average salary is very high and does not reflect the salary of ordinary employees."
   ]
  },
  {
   "cell_type": "code",
   "execution_count": null,
   "id": "b5c61ce6",
   "metadata": {},
   "outputs": [],
   "source": [
    "# @title #### Calculate mean and plot bar chart\n",
    "import plotly.graph_objects as go\n",
    "\n",
    "# Define the data\n",
    "salaries = [1000000, 13000, 19000, 10000, 18000, 16000, 13000, 19000, 10000, 19000]\n",
    "employee_names = ['CEO', 'Employee 1', 'Employee 2', 'Employee 3', 'Employee 4', 'Employee 5', 'Employee 6', 'Employee 7', 'Employee 8', 'Employee 9']\n",
    "\n",
    "# Calculate the mean\n",
    "mean_salary = sum(salaries) / len(salaries)\n",
    "\n",
    "# Create a bar chart\n",
    "fig = go.Figure(data=go.Bar(y=salaries, x=employee_names, name='Salaries'))\n",
    "\n",
    "# Add a horizontal line for the mean\n",
    "fig.add_trace(go.Scatter(\n",
    "    x=[employee_names[0], employee_names[-1]],\n",
    "    y=[mean_salary, mean_salary],\n",
    "    mode='lines',\n",
    "    name=f'Mean: {mean_salary:.2f}',\n",
    "    line=dict(color='Red', width=1, dash='dash')\n",
    "))\n",
    "\n",
    "# Add labels for x and y axis\n",
    "fig.update_layout(\n",
    "    xaxis_title=\"Employees\",\n",
    "    yaxis_title=\"Salary\",\n",
    "    font=dict(\n",
    "        size=14,\n",
    "    ),\n",
    "    legend=dict(\n",
    "        yanchor=\"top\",\n",
    "        y=1.2,\n",
    "        xanchor=\"center\",\n",
    "        x=0.5\n",
    "    )\n",
    ")\n",
    "\n",
    "# Show the plot\n",
    "fig.show()"
   ]
  },
  {
   "cell_type": "markdown",
   "id": "25b9c91e",
   "metadata": {},
   "source": []
  },
  {
   "cell_type": "markdown",
   "id": "6e47c9c4",
   "metadata": {},
   "source": [
    "A potential solution in such cases could be to use the Median instead."
   ]
  },
  {
   "cell_type": "markdown",
   "id": "5d72d5e8",
   "metadata": {},
   "source": [
    "# Median"
   ]
  },
  {
   "cell_type": "markdown",
   "id": "dd2f5bb4",
   "metadata": {},
   "source": [
    "What is a median? This is the middle value in a dataset once it’s sorted in order either descending or ascending. If the dataset has an even number of values, the median is the mean of the two middle numbers."
   ]
  },
  {
   "cell_type": "markdown",
   "id": "87a41de8",
   "metadata": {},
   "source": [
    "What happens if we don’t use the median?"
   ]
  },
  {
   "cell_type": "markdown",
   "id": "7ad44bdd",
   "metadata": {},
   "source": [
    "Take for example John, a baker. John wants to establish a reliable baking plan based on the number of loaves he sells each day. Using the average (mean) in calculating daily sales can be misleading, because extreme sales (for example 1000 loaves on a festival day or 10 loaves on a rainy day) can disrupt the calculations and plans."
   ]
  },
  {
   "cell_type": "markdown",
   "id": "5ecf0a65",
   "metadata": {},
   "source": [
    "How does the median solve the problem?"
   ]
  },
  {
   "cell_type": "markdown",
   "id": "65895575",
   "metadata": {},
   "source": [
    "By using the median, John gets a more stable picture of ‘typical’ daily sales, without being influenced by sales extremes, so his production plans are more reliable and efficient."
   ]
  },
  {
   "cell_type": "markdown",
   "id": "2cdc6d75",
   "metadata": {},
   "source": [
    "Median calculator"
   ]
  },
  {
   "cell_type": "markdown",
   "id": "f6c5d654",
   "metadata": {},
   "source": [
    "You can calculate the median by hand or with the help of our median calculator below."
   ]
  },
  {
   "cell_type": "code",
   "execution_count": null,
   "id": "47a899c0",
   "metadata": {},
   "outputs": [],
   "source": [
    "# @title #### Median calculator\n",
    "import gradio as gr\n",
    "import numpy as np\n",
    "\n",
    "def calculate_median(numbers):\n",
    "    numbers = [float(num) for num in numbers.split(',')]\n",
    "    return np.median(numbers)\n",
    "\n",
    "iface = gr.Interface(fn=calculate_median, \n",
    "                     inputs=\"text\", \n",
    "                     outputs=gr.Label(label=\"Median\"),\n",
    "                     examples=[['23,45,67,89'], ['12,34,56'], ['11,22,33,44,55']])\n",
    "iface.launch()"
   ]
  },
  {
   "cell_type": "markdown",
   "id": "74ea514d",
   "metadata": {},
   "source": [
    "Let’s consider some examples from the daily bread sales at a bakery."
   ]
  },
  {
   "cell_type": "markdown",
   "id": "ed2cec60",
   "metadata": {},
   "source": [
    "Odd Number of Data Points"
   ]
  },
  {
   "cell_type": "markdown",
   "id": "fca95fdf",
   "metadata": {},
   "source": [
    "If we track daily sales over 7 days: [72, 64, 78, 84, 70, 76, 82], and arrange the values in ascending order, the median is the middle value, which is 76."
   ]
  },
  {
   "cell_type": "markdown",
   "id": "27d5abc5",
   "metadata": {},
   "source": [
    "Even Number of Data Points"
   ]
  },
  {
   "cell_type": "markdown",
   "id": "1310cbb6",
   "metadata": {},
   "source": [
    "If we track daily sales over 8 days: [72, 64, 78, 84, 70, 76, 82, 88], and sort the values, the median is the mean of the two middle values. This equates to (76+78)/2 = 77."
   ]
  },
  {
   "cell_type": "markdown",
   "id": "e817fcfb",
   "metadata": {},
   "source": [
    "Why choose the median over the mean? The median is the central value of a data set, undistorted by outliers or skewness, making it a more accurate measure of central tendency for skewed data. After understanding the concept of the median, it’s vital to identify any outliers in our dataset as these can skew the data distribution. So, what are outliers and skewness?"
   ]
  },
  {
   "cell_type": "markdown",
   "id": "e4ac815a",
   "metadata": {},
   "source": [
    "Outliers are values that are significantly different from others in the dataset. They can excessively influence the mean, leading to a deceptive representation of the data."
   ]
  },
  {
   "cell_type": "markdown",
   "id": "28a2e162",
   "metadata": {},
   "source": [
    "Outliers can be detected using the Interquartile Range (IQR). Here’s how:"
   ]
  },
  {
   "cell_type": "markdown",
   "id": "df4c7e0c",
   "metadata": {},
   "source": [
    "Take for instance, the dataset: {1, 2, 3, 4, 4, 5, 100}"
   ]
  },
  {
   "cell_type": "markdown",
   "id": "4e72ebb5",
   "metadata": {},
   "source": [
    "Any value below -2.5 or above 9.5 is considered an outlier. Therefore, in this dataset 100 is an outlier."
   ]
  },
  {
   "cell_type": "markdown",
   "id": "872e42ed",
   "metadata": {},
   "source": []
  },
  {
   "cell_type": "markdown",
   "id": "5d90f8bc",
   "metadata": {},
   "source": [
    "Outliers in a box plot (Source: whatissixsigma.net)"
   ]
  },
  {
   "cell_type": "markdown",
   "id": "4b845a20",
   "metadata": {},
   "source": [
    "Skewness is an asymmetry in a dataset’s distribution. When the right tail (higher values) is longer or fatter, we have positive skewness, and the mean typically exceeds the median. Conversely, negative skewness implies a longer or fatter left tail (lower values), with the mean usually less than the median."
   ]
  },
  {
   "cell_type": "markdown",
   "id": "7589d4b6",
   "metadata": {},
   "source": []
  },
  {
   "cell_type": "markdown",
   "id": "21281667",
   "metadata": {},
   "source": [
    "Skewness (Source: deepai.org)"
   ]
  },
  {
   "cell_type": "markdown",
   "id": "8d4898d3",
   "metadata": {},
   "source": [
    "Skewness is crucial to consider as it can mislead data interpretation. For instance, in a positively skewed distribution, the mean could overestimate the typical value, making the median a more accurate measure of central tendency."
   ]
  },
  {
   "cell_type": "markdown",
   "id": "73275a99",
   "metadata": {},
   "source": [
    "Consider a company where all 9 employees earn between \\$10,000 to \\$20,000 per year, with the exception of the CEO who earns \\$1,000,000. In this scenario, the salary distribution exhibits positive skewness, because the CEO’s high salary pulls the average up, making the median (middle salary) a better representative of the typical salary within the company."
   ]
  },
  {
   "cell_type": "markdown",
   "id": "22216b31",
   "metadata": {},
   "source": [
    "If we were to consider a situation where most employees earn high salaries, but a few earn significantly less (negative skewness), the median salary would still provide a more accurate representation as it would be higher than the average, which is pulled down by the few low salaries."
   ]
  },
  {
   "cell_type": "markdown",
   "id": "32011867",
   "metadata": {},
   "source": [
    "Thus, in skewed salary data, the median is a more reliable and representative measure of central tendency."
   ]
  },
  {
   "cell_type": "code",
   "execution_count": null,
   "id": "ccffa7b1",
   "metadata": {},
   "outputs": [],
   "source": [
    "# @title #### Calculate mean, median and plot bar chart\n",
    "import plotly.graph_objects as go\n",
    "import statistics\n",
    "\n",
    "# Define the data\n",
    "salaries = [1000000, 13000, 19000, 10000, 18000, 16000, 13000, 19000, 10000, 19000]\n",
    "employee_names = ['CEO', 'Employee 1', 'Employee 2', 'Employee 3', 'Employee 4', 'Employee 5', 'Employee 6', 'Employee 7', 'Employee 8', 'Employee 9']\n",
    "\n",
    "# Calculate the mean\n",
    "mean_salary = sum(salaries) / len(salaries)\n",
    "\n",
    "# Calculate the median\n",
    "median_salary = statistics.median(salaries)\n",
    "\n",
    "# Create a bar chart\n",
    "fig = go.Figure(data=go.Bar(y=salaries, x=employee_names, name='Salaries'))\n",
    "\n",
    "# Add a horizontal line for the mean\n",
    "fig.add_trace(go.Scatter(\n",
    "    x=[employee_names[0], employee_names[-1]],\n",
    "    y=[mean_salary, mean_salary],\n",
    "    mode='lines',\n",
    "    name=f'Mean: {mean_salary:.2f}',\n",
    "    line=dict(color='Red', width=1, dash='dash')\n",
    "))\n",
    "\n",
    "# Add a horizontal line for the median\n",
    "fig.add_trace(go.Scatter(\n",
    "    x=[employee_names[0], employee_names[-1]],\n",
    "    y=[median_salary, median_salary],\n",
    "    mode='lines',\n",
    "    name=f'Median: {median_salary:.2f}',\n",
    "    line=dict(color='Blue', width=1, dash='dash')\n",
    "))\n",
    "\n",
    "# Add labels for x and y axis\n",
    "fig.update_layout(\n",
    "    xaxis_title=\"Employees\",\n",
    "    yaxis_title=\"Salary\",\n",
    "    font=dict(\n",
    "        size=14,\n",
    "    ),\n",
    "    legend=dict(\n",
    "        yanchor=\"top\",\n",
    "        y=1.2,\n",
    "        xanchor=\"center\",\n",
    "        x=0.5\n",
    "    )\n",
    ")\n",
    "\n",
    "# Show the plot\n",
    "fig.show()"
   ]
  },
  {
   "cell_type": "markdown",
   "id": "c577570c",
   "metadata": {},
   "source": []
  },
  {
   "cell_type": "markdown",
   "id": "93e0bec1",
   "metadata": {},
   "source": [
    "Now, What’s the role of the median in machine learning?"
   ]
  },
  {
   "cell_type": "markdown",
   "id": "ee481345",
   "metadata": {},
   "source": [
    "In machine learning, the median can sometimes be a better choice than the mean, especially when dealing with outliers (extremely high or low values) in the dataset. Using the median can help avoid this distortion and provide more reliable predictions. 🎯"
   ]
  },
  {
   "cell_type": "markdown",
   "id": "76671950",
   "metadata": {},
   "source": [
    "Interactive chart median"
   ]
  },
  {
   "cell_type": "markdown",
   "id": "1af7861f",
   "metadata": {},
   "source": [
    "You can explore various different data to get the median value and learn how the mean value is positioned from our tool below."
   ]
  },
  {
   "cell_type": "code",
   "execution_count": null,
   "id": "249d997c",
   "metadata": {},
   "outputs": [],
   "source": [
    "# @title #### Calculate mean, median and plot bar chart\n",
    "import warnings\n",
    "warnings.filterwarnings('ignore', category=UserWarning, module='gradio')\n",
    "import numpy as np\n",
    "import statistics\n",
    "\n",
    "# Function to calculate mean, median and plot bar chart\n",
    "def interactive_plot(num_days, day1=0, day2=0, day3=0, day4=0, day5=0, day6=0, day7=0, day8=0, statistics_to_show=None, sort_data=False):\n",
    "    num_days = int(num_days)  # Convert num_days to integer\n",
    "    days = [day1, day2, day3, day4, day5, day6, day7, day8][:num_days]\n",
    "    days_names = ['day1', 'day2', 'day3', 'day4', 'day5', 'day6', 'day7', 'day8'][:num_days]\n",
    "\n",
    "    # Sort the data if the option is selected\n",
    "    if sort_data:\n",
    "        days, days_names = zip(*sorted(zip(days, days_names), key=lambda pair: pair[0]))\n",
    "    \n",
    "    fig = go.Figure(data=go.Bar(y=days, x=days_names, name='days'))\n",
    "\n",
    "    if 'mean' in statistics_to_show:\n",
    "        # Calculate the mean\n",
    "        mean_day = np.mean(days)\n",
    "\n",
    "        # Add a horizontal line for the mean\n",
    "        fig.add_trace(go.Scatter(\n",
    "            x=[days_names[0], days_names[-1]],\n",
    "            y=[mean_day, mean_day],\n",
    "            mode='lines',\n",
    "            name=f'Mean: {mean_day:.2f}',\n",
    "            line=dict(color='Red', width=1, dash='dash')\n",
    "        ))\n",
    "\n",
    "    if 'median' in statistics_to_show:\n",
    "        # Calculate the median\n",
    "        median_day = statistics.median(days)\n",
    "\n",
    "        # Add a horizontal line for the median\n",
    "        fig.add_trace(go.Scatter(\n",
    "            x=[days_names[0], days_names[-1]],\n",
    "            y=[median_day, median_day],\n",
    "            mode='lines',\n",
    "            name=f'Median: {median_day:.2f}',\n",
    "            line=dict(color='Green', width=1, dash='dash')\n",
    "        ))\n",
    "\n",
    "    # Add labels for x and y axis\n",
    "    fig.update_layout(\n",
    "        xaxis_title=\"Days\",\n",
    "        yaxis_title=\"Number of loaves sold\",\n",
    "        font=dict(\n",
    "            size=14,\n",
    "        ),\n",
    "        legend=dict(\n",
    "            yanchor=\"top\",\n",
    "            y=0.99,\n",
    "            xanchor=\"left\",\n",
    "            x=0.01\n",
    "        )\n",
    "    )\n",
    "\n",
    "    # Convert the figure to PNG image\n",
    "    png_image = pio.to_image(fig, format='png')\n",
    "\n",
    "    # Create a PIL Image object for Gradio Output\n",
    "    image = Image.open(io.BytesIO(png_image))\n",
    "\n",
    "    return image\n",
    "\n",
    "\n",
    "# Create Gradio interface\n",
    "iface = gr.Interface(\n",
    "    title='Interactive Mean and Median Plot',\n",
    "    description='Interactive plot of the mean and median number of 8 days',\n",
    "    live=True,\n",
    "    fn=interactive_plot, \n",
    "    inputs=[\n",
    "        gr.Dropdown(choices=[1, 2, 3, 4, 5, 6, 7, 8], label=\"Number of days to use\", value=\"8\"),\n",
    "        gr.Slider(minimum=0, maximum=100, step=1, value=64),\n",
    "        gr.Slider(minimum=0, maximum=100, step=1, value=70),\n",
    "        gr.Slider(minimum=0, maximum=100, step=1, value=72),\n",
    "        gr.Slider(minimum=0, maximum=100, step=1, value=76),\n",
    "        gr.Slider(minimum=0, maximum=100, step=1, value=78),\n",
    "        gr.Slider(minimum=0, maximum=100, step=1, value=82),\n",
    "        gr.Slider(minimum=0, maximum=100, step=1, value=84),\n",
    "        gr.Slider(minimum=0, maximum=100, step=1, value=88),\n",
    "        gr.CheckboxGroup(choices=['mean', 'median'], value=['median'], label=\"Statistics to show\"),\n",
    "        gr.Checkbox(label=\"Sort data\")\n",
    "    ], \n",
    "    outputs=gr.Image(type='pil'),\n",
    ")\n",
    "\n",
    "iface.launch()"
   ]
  },
  {
   "cell_type": "markdown",
   "id": "72442eed",
   "metadata": {},
   "source": [
    "# Mode"
   ]
  },
  {
   "cell_type": "markdown",
   "id": "4201f0e1",
   "metadata": {},
   "source": [
    "After discussing the mean and median, another measure of central tendency we should consider is the mode. The mode is the value that appears most frequently in a dataset, and unlike the mean and median, it can be used with categorical data."
   ]
  },
  {
   "cell_type": "markdown",
   "id": "2dd0b848",
   "metadata": {},
   "source": [
    "What happens if we don’t use the mode?"
   ]
  },
  {
   "cell_type": "markdown",
   "id": "507d5c72",
   "metadata": {},
   "source": [
    "Imagine John, a baker. He wants to identify the most preferred type of loaf among his customers. However, without using any statistical method to analyze his sales data, he might fail to accurately identify the most sought-after loaf."
   ]
  },
  {
   "cell_type": "markdown",
   "id": "26718d1c",
   "metadata": {},
   "source": [
    "How does the mode solve the problem?"
   ]
  },
  {
   "cell_type": "markdown",
   "id": "3acce415",
   "metadata": {},
   "source": [
    "John decides to use the mode. He tallies up the types of loaves he sold within a month. The type of loaf with the highest count is the mode. This informs him of the most popular loaf type among his customers."
   ]
  },
  {
   "cell_type": "markdown",
   "id": "6c34cbb7",
   "metadata": {},
   "source": [
    "Mode calculator"
   ]
  },
  {
   "cell_type": "markdown",
   "id": "439819be",
   "metadata": {},
   "source": [
    "You can calculate the mode by hand or with the help of our mode calculator below."
   ]
  },
  {
   "cell_type": "code",
   "execution_count": null,
   "id": "c2edea1b",
   "metadata": {},
   "outputs": [],
   "source": [
    "!pip install -U gradio scipy\n",
    "\n",
    "# @title #### Mode calculator\n",
    "import gradio as gr\n",
    "from scipy import stats\n",
    "\n",
    "def calculate_mode(numbers):\n",
    "    numbers = [float(num) for num in numbers.split(',')]\n",
    "    mode = stats.mode(numbers)\n",
    "    return mode.mode[0]\n",
    "\n",
    "iface = gr.Interface(fn=calculate_mode, \n",
    "                     inputs=\"text\", \n",
    "                     outputs=gr.Label(label=\"Mode\"),\n",
    "                     examples=[['23,45,67,89,45'], ['12,34,56,34'], ['11,22,33,44,55,55']])\n",
    "iface.launch()"
   ]
  },
  {
   "cell_type": "markdown",
   "id": "3fe3883b",
   "metadata": {},
   "source": [
    "Steps for Calculating the Mode by Hand"
   ]
  },
  {
   "cell_type": "markdown",
   "id": "30466d6a",
   "metadata": {},
   "source": [
    "The ‘mode’ is the most frequently occurring value in a dataset. It’s useful when we want to find the most common value, and it’s applicable to both numerical and categorical data."
   ]
  },
  {
   "cell_type": "markdown",
   "id": "cc6aaa40",
   "metadata": {},
   "source": [
    "Let’s consider some examples from a bakery."
   ]
  },
  {
   "cell_type": "markdown",
   "id": "284788d7",
   "metadata": {},
   "source": [
    "Numerical Data Example"
   ]
  },
  {
   "cell_type": "markdown",
   "id": "2004faf4",
   "metadata": {},
   "source": [
    "If we track daily bread sales for 10 days: [72, 76, 72, 84, 70, 76, 76, 82, 70, 84], and tally up the frequency of each number of sales, 76 is the mode because it appears the most (3 times)."
   ]
  },
  {
   "cell_type": "markdown",
   "id": "252323a1",
   "metadata": {},
   "source": [
    "Categorical Data Example"
   ]
  },
  {
   "cell_type": "markdown",
   "id": "cf58d7fb",
   "metadata": {},
   "source": [
    "If we track the type of pastry sold most over 10 days: [Croissant, Baguette, Baguette, Croissant, Croissant, Baguette, Sourdough, Sourdough, Croissant, Baguette], both Croissant and Baguette are modes because they appear the most (4 times each)."
   ]
  },
  {
   "cell_type": "markdown",
   "id": "90452cdb",
   "metadata": {},
   "source": [
    "Grouped Data Example"
   ]
  },
  {
   "cell_type": "markdown",
   "id": "5bbada55",
   "metadata": {},
   "source": [
    "Let’s say we group bread sales into intervals (60-70, 70-80, 80-90, 90-100) and record the frequency of sales falling into each group over a month. If the frequencies are 5, 7, 9, 3 respectively, the mode is the group with the highest frequency, which is 80-90."
   ]
  },
  {
   "cell_type": "markdown",
   "id": "25342dbc",
   "metadata": {},
   "source": [
    "The mode is easy to understand and calculate, and it gives us valuable insights about the most typical or common value in our dataset."
   ]
  },
  {
   "cell_type": "markdown",
   "id": "704a426a",
   "metadata": {},
   "source": [
    "Now, What’s the role of the mode in machine learning?"
   ]
  },
  {
   "cell_type": "markdown",
   "id": "ac852fe6",
   "metadata": {},
   "source": [
    "In machine learning, the mode is used for categorical data. It helps identify the most common category in a dataset. Just like John’s loaf types, knowing the mode can help the model predict the most likely outcome based on past data. 🎯"
   ]
  },
  {
   "cell_type": "markdown",
   "id": "2b2bef3d",
   "metadata": {},
   "source": [
    "To see the problem and solution in the context of using fashion, let’s go back to the example of John the baker. For example, we have data on sales of different types of bread for one month, and we want to know what type of bread is the most popular."
   ]
  },
  {
   "cell_type": "code",
   "execution_count": null,
   "id": "a880f6a8",
   "metadata": {},
   "outputs": [],
   "source": [
    "# @title #### Calculate mode and plot bar chart\n",
    "import plotly.graph_objects as go\n",
    "from collections import Counter\n",
    "import pandas as pd\n",
    "\n",
    "# Define the data\n",
    "loaf_types = ['Croissant', 'Baguette', 'Baguette', 'Croissant', 'Baguette', 'Croissant', 'Baguette', 'Sourdough', 'Sourdough', 'Croissant', 'Baguette']\n",
    "loaf_counts = Counter(loaf_types)\n",
    "\n",
    "# Calculate the mode\n",
    "mode_loaf = max(loaf_counts, key=loaf_counts.get)\n",
    "\n",
    "# Create a bar chart\n",
    "fig = go.Figure(data=go.Bar(y=list(loaf_counts.values()), x=list(loaf_counts.keys()), name='Loaf Types'))\n",
    "\n",
    "# Add a horizontal line for the mode\n",
    "fig.add_trace(go.Scatter(\n",
    "    x=[mode_loaf, mode_loaf],\n",
    "    y=[0, max(loaf_counts.values())],\n",
    "    mode='lines',\n",
    "    name=f'Mode: {mode_loaf}',\n",
    "    line=dict(color='Red', width=1, dash='dash')\n",
    "))\n",
    "\n",
    "# Add labels for x and y axis\n",
    "fig.update_layout(\n",
    "    xaxis_title=\"Loaf Types\",\n",
    "    yaxis_title=\"Frequency\",\n",
    "    font=dict(\n",
    "        size=14,\n",
    "    ),\n",
    "    legend=dict(\n",
    "        yanchor=\"top\",\n",
    "        y=1.2,\n",
    "        xanchor=\"center\",\n",
    "        x=0.5\n",
    "    )\n",
    ")\n",
    "\n",
    "# Show the plot\n",
    "fig.show()\n",
    "\n",
    "# Convert to pandas DataFrame\n",
    "df = pd.DataFrame(loaf_types, columns=[\"Loaf Type\"])\n",
    "\n",
    "# Group by loaf types and count the frequency\n",
    "df.groupby(\"Loaf Type\").size().reset_index(name='Counts')"
   ]
  },
  {
   "cell_type": "markdown",
   "id": "e081623a",
   "metadata": {},
   "source": []
  },
  {
   "cell_type": "markdown",
   "id": "d19074cc",
   "metadata": {},
   "source": [
    "In this plot, the red line shows the mode i.e. the type of bread that is most frequently sold. The bar chart shows the frequency of sales of each type of bread, so we can see that fashion does reflect the most popular types of bread."
   ]
  },
  {
   "cell_type": "markdown",
   "id": "a77bd21a",
   "metadata": {},
   "source": [
    "Interactive chart mode"
   ]
  },
  {
   "cell_type": "markdown",
   "id": "ca0c4dc6",
   "metadata": {},
   "source": [
    "You can explore various different data to get the mode value and learn how the mean value is positioned from our tool below."
   ]
  },
  {
   "cell_type": "code",
   "execution_count": null,
   "id": "0d405522",
   "metadata": {},
   "outputs": [],
   "source": [
    "# @title #### Calculate mean, median, mode and plot bar chart\n",
    "import warnings\n",
    "warnings.filterwarnings('ignore', category=UserWarning, module='gradio')\n",
    "from scipy import stats\n",
    "\n",
    "# Function to calculate mean, median, mode and plot bar chart\n",
    "def interactive_plot(num_days, day1=0, day2=0, day3=0, day4=0, day5=0, day6=0, day7=0, day8=0, day9=0, day10=0, statistics_to_show=None, sort_data=False):\n",
    "    num_days = int(num_days)  # Convert num_days to integer\n",
    "    days = [day1, day2, day3, day4, day5, day6, day7, day8, day9, day10][:num_days]\n",
    "    days_names = ['day1', 'day2', 'day3', 'day4', 'day5', 'day6', 'day7', 'day8', 'day9', 'day10'][:num_days]\n",
    "\n",
    "    # Sort the data if the option is selected\n",
    "    if sort_data:\n",
    "        days, days_names = zip(*sorted(zip(days, days_names), key=lambda pair: pair[0]))\n",
    "    \n",
    "    fig = go.Figure(data=go.Bar(y=days, x=days_names, name='days'))\n",
    "\n",
    "    if 'mean' in statistics_to_show:\n",
    "        # Calculate the mean\n",
    "        mean_day = np.mean(days)\n",
    "\n",
    "        # Add a horizontal line for the mean\n",
    "        fig.add_trace(go.Scatter(\n",
    "            x=[days_names[0], days_names[-1]],\n",
    "            y=[mean_day, mean_day],\n",
    "            mode='lines',\n",
    "            name=f'Mean: {mean_day:.2f}',\n",
    "            line=dict(color='Red', width=1, dash='dash')\n",
    "        ))\n",
    "\n",
    "    if 'median' in statistics_to_show:\n",
    "        # Calculate the median\n",
    "        median_day = statistics.median(days)\n",
    "\n",
    "        # Add a horizontal line for the median\n",
    "        fig.add_trace(go.Scatter(\n",
    "            x=[days_names[0], days_names[-1]],\n",
    "            y=[median_day, median_day],\n",
    "            mode='lines',\n",
    "            name=f'Median: {median_day:.2f}',\n",
    "            line=dict(color='Green', width=1, dash='dash')\n",
    "        ))\n",
    "\n",
    "    if 'mode' in statistics_to_show:\n",
    "        # Calculate the mode\n",
    "        mode_day = stats.mode(days)[0][0]\n",
    "\n",
    "        # Add a horizontal line for the mode\n",
    "        fig.add_trace(go.Scatter(\n",
    "            x=[days_names[0], days_names[-1]],\n",
    "            y=[mode_day, mode_day],\n",
    "            mode='lines',\n",
    "            name=f'Mode: {mode_day:.2f}',\n",
    "            line=dict(color='Blue', width=1, dash='dash')\n",
    "        ))\n",
    "\n",
    "    # Add labels for x and y axis\n",
    "    fig.update_layout(\n",
    "        xaxis_title=\"days\",\n",
    "        yaxis_title=\"Number of loaves sold\",\n",
    "        font=dict(\n",
    "            size=14,\n",
    "        ),\n",
    "        legend=dict(\n",
    "            yanchor=\"top\",\n",
    "            y=0.99,\n",
    "            xanchor=\"left\",\n",
    "            x=0.01\n",
    "        )\n",
    "    )\n",
    "\n",
    "    # Convert the figure to PNG image\n",
    "    png_image = pio.to_image(fig, format='png')\n",
    "\n",
    "    # Create a PIL Image object for Gradio Output\n",
    "    image = Image.open(io.BytesIO(png_image))\n",
    "\n",
    "    return image\n",
    "\n",
    "\n",
    "# Create Gradio interface\n",
    "iface = gr.Interface(\n",
    "    title='Interactive Plot Mean, Median, Mode and Bar Chart',\n",
    "    live=True,\n",
    "    fn=interactive_plot, \n",
    "    inputs=[\n",
    "        gr.Dropdown(choices=[1, 2, 3, 4, 5, 6, 7, 8, 9, 10], label=\"Number of days to use\", value=\"10\"),\n",
    "        gr.Slider(minimum=0, maximum=100, step=1, value=72),\n",
    "        gr.Slider(minimum=0, maximum=100, step=1, value=76),\n",
    "        gr.Slider(minimum=0, maximum=100, step=1, value=72),\n",
    "        gr.Slider(minimum=0, maximum=100, step=1, value=84),\n",
    "        gr.Slider(minimum=0, maximum=100, step=1, value=70),\n",
    "        gr.Slider(minimum=0, maximum=100, step=1, value=76),\n",
    "        gr.Slider(minimum=0, maximum=100, step=1, value=76),\n",
    "        gr.Slider(minimum=0, maximum=100, step=1, value=82),\n",
    "        gr.Slider(minimum=0, maximum=100, step=1, value=70),\n",
    "        gr.Slider(minimum=0, maximum=100, step=1, value=84),\n",
    "        gr.CheckboxGroup(choices=['mean', 'median', 'mode'], value=['mode'], label=\"Statistics to show\"),\n",
    "        gr.Checkbox(label=\"Sort data\")\n",
    "    ], \n",
    "    outputs=gr.Image(type='pil'),\n",
    ")\n",
    "\n",
    "iface.launch()"
   ]
  },
  {
   "cell_type": "markdown",
   "id": "6a7636ba",
   "metadata": {},
   "source": [
    "# Measures of Variability"
   ]
  },
  {
   "cell_type": "markdown",
   "id": "5bd5f878",
   "metadata": {},
   "source": [
    "As we delve deeper into our data, we find measures that show how spread out or diverse our data is. These are called measures of variability and include elements like the range and standard deviation. Each of these measures provides a unique perspective on how scattered the values in our data are."
   ]
  },
  {
   "cell_type": "markdown",
   "id": "df856d5a",
   "metadata": {},
   "source": [
    "# Range"
   ]
  },
  {
   "cell_type": "markdown",
   "id": "b6a1fca6",
   "metadata": {},
   "source": [
    "What is range? This is the difference between the highest and lowest values in a dataset. In other words, it measures the spread or the dispersion of the data points in a dataset."
   ]
  },
  {
   "cell_type": "markdown",
   "id": "803776ca",
   "metadata": {},
   "source": [
    "Why use the range?"
   ]
  },
  {
   "cell_type": "markdown",
   "id": "0b705ffb",
   "metadata": {},
   "source": [
    "However, it is important to note that the range only considers the two extreme values in the dataset and does not take into account any of the other values in the dataset. This means it can be heavily influenced by outliers and may not accurately represent the dispersion for all datasets, especially those with extreme values. For a more robust measure of dispersion, consider using other statistics, such as standard deviation."
   ]
  },
  {
   "cell_type": "markdown",
   "id": "1ce47ba5",
   "metadata": {},
   "source": [
    "Range calculator"
   ]
  },
  {
   "cell_type": "markdown",
   "id": "b152068c",
   "metadata": {},
   "source": [
    "You can calculate the range by hand or with the help of our range calculator below."
   ]
  },
  {
   "cell_type": "code",
   "execution_count": null,
   "id": "d5d999dc",
   "metadata": {},
   "outputs": [],
   "source": [
    "# @title #### Range calculator\n",
    "import gradio as gr\n",
    "\n",
    "def calculate_range(numbers):\n",
    "    numbers = [float(num) for num in numbers.split(',')]\n",
    "    range_value = max(numbers) - min(numbers)\n",
    "    return range_value\n",
    "\n",
    "iface = gr.Interface(fn=calculate_range, \n",
    "                     inputs=\"text\", \n",
    "                     outputs=gr.Label(label=\"Range\"),\n",
    "                     examples=[['23,45,67,89'], ['12,34,56'], ['11,22,33,44,55']])\n",
    "iface.launch()"
   ]
  },
  {
   "cell_type": "markdown",
   "id": "102f00b4",
   "metadata": {},
   "source": [
    "Understanding the Significance and Calculation of Range"
   ]
  },
  {
   "cell_type": "markdown",
   "id": "fe46ebb6",
   "metadata": {},
   "source": [
    "Before diving into the mechanical aspect of calculating the range, it’s essential to understand its fundamental role."
   ]
  },
  {
   "cell_type": "markdown",
   "id": "a7d693c4",
   "metadata": {},
   "source": [
    "Range is a statistical measure that provides insights into the spread of your data. It helps us comprehend the variability within the dataset and gives us a handle on the extent of potential prediction outputs. This understanding ultimately contributes to making more accurate forecasts in machine learning models. 🎯"
   ]
  },
  {
   "cell_type": "markdown",
   "id": "b4905ca5",
   "metadata": {},
   "source": [
    "Now, intuitively, to gauge how spread out your data is, you’d want to consider the two extreme points - the highest and the lowest values. The greater the difference between these two, the larger is the spread, and hence, the bigger the range."
   ]
  },
  {
   "cell_type": "markdown",
   "id": "60ede9c7",
   "metadata": {},
   "source": [
    "With this intuitive understanding, let’s formalize the concept:"
   ]
  },
  {
   "cell_type": "markdown",
   "id": "975dc1af",
   "metadata": {},
   "source": [
    "To calculate the range, you indeed follow these steps:"
   ]
  },
  {
   "cell_type": "markdown",
   "id": "9538ba1e",
   "metadata": {},
   "source": [
    "These steps can be summarized in the formula:"
   ]
  },
  {
   "cell_type": "markdown",
   "id": "9bf661fe",
   "metadata": {},
   "source": [
    "\\[Range = Highest - Lowest\\]"
   ]
  },
  {
   "cell_type": "markdown",
   "id": "25e1ccff",
   "metadata": {},
   "source": [
    "Let’s apply this to an example:"
   ]
  },
  {
   "cell_type": "markdown",
   "id": "c7281211",
   "metadata": {},
   "source": [
    "Example Data: - Daily bread sales: 72, 64, 78, 84, 70, 76, 82"
   ]
  },
  {
   "cell_type": "markdown",
   "id": "bf4b3e55",
   "metadata": {},
   "source": [
    "Firstly, arrange the data:"
   ]
  },
  {
   "cell_type": "markdown",
   "id": "91d8be62",
   "metadata": {},
   "source": [
    "Applying the formula gives us the range:"
   ]
  },
  {
   "cell_type": "markdown",
   "id": "aadd2d9d",
   "metadata": {},
   "source": [
    "Range = 84 - 64"
   ]
  },
  {
   "cell_type": "markdown",
   "id": "74ffc91c",
   "metadata": {},
   "source": [
    "So, in our example, the range is 20 loaves. This tells us about the spread in daily bread sales but does not provide information on how sales are distributed within this range. Yet, it provides a quick overview of the data spread."
   ]
  },
  {
   "cell_type": "markdown",
   "id": "649f7049",
   "metadata": {},
   "source": [
    "Caution on the use of Range"
   ]
  },
  {
   "cell_type": "markdown",
   "id": "31e25c08",
   "metadata": {},
   "source": [
    "While range is very easy to calculate and can be a good indicator of data spread, just like the Mean, if we have one very big value or very small value (outliers), then the range will not reflect the data accurately."
   ]
  },
  {
   "cell_type": "markdown",
   "id": "17be41dd",
   "metadata": {},
   "source": [
    "Let’s say from the Daily bread sales above, there is one day where the sales of bread that day is 150, out data becomes: > - Daily bread sales: 72, 64, 78, 84, 70, 76, 82, 150"
   ]
  },
  {
   "cell_type": "markdown",
   "id": "62d5e647",
   "metadata": {},
   "source": [
    "Using the formula for Range:"
   ]
  },
  {
   "cell_type": "markdown",
   "id": "031d0642",
   "metadata": {},
   "source": [
    "Range = 150 - 64 = 86"
   ]
  },
  {
   "cell_type": "markdown",
   "id": "6d00ce54",
   "metadata": {},
   "source": [
    "Clearly 86 is a big jump compared to the previously calculated range of 20 loaves."
   ]
  },
  {
   "cell_type": "markdown",
   "id": "7af09dab",
   "metadata": {},
   "source": [
    "# Standard Deviation"
   ]
  },
  {
   "cell_type": "markdown",
   "id": "b18bf204",
   "metadata": {},
   "source": [
    "This is where Standard Deviation comes in, it measures the average distance your data values are from the Mean. This is crucial as it provides a gauge of how much the data varies and how reliable the average is in representing the data."
   ]
  },
  {
   "cell_type": "markdown",
   "id": "ac6f255f",
   "metadata": {},
   "source": [
    "For instance, consider five individuals who might have the following amounts of money in their wallets: \\$21, \\$50, \\$62, \\$85, \\$90. The mean (average) amount is \\$61.60 and the standard deviation is 28.01."
   ]
  },
  {
   "cell_type": "markdown",
   "id": "124e8b56",
   "metadata": {},
   "source": [
    "This means that the spread is 28.01 to the right of the Mean (\\$61.60) and also 28.01 to the left. Note that it does not match exactly the highest (\\$90 vs \\$89.61) and the lowest value (\\$21 vs \\$33.59)."
   ]
  },
  {
   "cell_type": "markdown",
   "id": "1284491d",
   "metadata": {},
   "source": [
    "The formal formula for standard deviation is as follows:"
   ]
  },
  {
   "cell_type": "markdown",
   "id": "89b5a9dd",
   "metadata": {},
   "source": [
    "For a population:"
   ]
  },
  {
   "cell_type": "markdown",
   "id": "9ddf2344",
   "metadata": {},
   "source": [
    "\\[\\sigma =\\sqrt{\\frac{\\sum{(X - \\mu)^2}}{N}}\\]"
   ]
  },
  {
   "cell_type": "markdown",
   "id": "30582e10",
   "metadata": {},
   "source": [
    "For a sample:"
   ]
  },
  {
   "cell_type": "markdown",
   "id": "bbc0154a",
   "metadata": {},
   "source": [
    "\\[s =\\sqrt{\\frac{\\sum{(X - \\bar{x})^2}}{n - 1}}\\]"
   ]
  },
  {
   "cell_type": "markdown",
   "id": "5dd8df87",
   "metadata": {},
   "source": [
    "The distinguishing factor between the sample and population formulas lies in the denominator. For a sample, we utilize n - 1 (known as the Bessel’s correction) as the divisor, rather than N. This technique is implemented to correct for bias in the estimation of the population variance, providing a more conservative estimate."
   ]
  },
  {
   "cell_type": "markdown",
   "id": "cab3d915",
   "metadata": {},
   "source": [
    "So, how do we calculate this in practice? Let’s illustrate this with an example of a dataset comprising six test scores to find the standard deviation:"
   ]
  },
  {
   "cell_type": "markdown",
   "id": "77616df1",
   "metadata": {},
   "source": [
    "Data set: \\(46, 69, 32, 60, 52, 41\\)"
   ]
  },
  {
   "cell_type": "markdown",
   "id": "ced04b97",
   "metadata": {},
   "source": [
    "Calculate the Mean (Average): This is the central point of our data. We need the mean as a reference point to measure how much our data varies."
   ]
  },
  {
   "cell_type": "markdown",
   "id": "c4ffbe03",
   "metadata": {},
   "source": [
    "Why? The mean serves as the central value of our dataset, and we measure the variation of our data based on how far these values deviate from this central point."
   ]
  },
  {
   "cell_type": "markdown",
   "id": "86f4368f",
   "metadata": {},
   "source": [
    "Let’s calculate the mean for our dataset:"
   ]
  },
  {
   "cell_type": "markdown",
   "id": "af777ad3",
   "metadata": {},
   "source": [
    "\\[\\mu = \\frac{\\sum{X}}{N} = \\frac{46 + 69 + 32 + 60 + 52 + 41}{6} = 50\\]"
   ]
  },
  {
   "cell_type": "markdown",
   "id": "f5506d92",
   "metadata": {},
   "source": [
    "Calculate the Difference of Each Value from the Mean: This is the distance of each data point from the mean."
   ]
  },
  {
   "cell_type": "markdown",
   "id": "c8664bb9",
   "metadata": {},
   "source": [
    "Why? We want to know how far each data point is from the average. The further a data point is from the average, the higher the variability."
   ]
  },
  {
   "cell_type": "markdown",
   "id": "b07260fb",
   "metadata": {},
   "source": [
    "Let’s calculate the differences:"
   ]
  },
  {
   "cell_type": "markdown",
   "id": "0baeab05",
   "metadata": {},
   "source": [
    "\\[\\begin{align*}\n",
    "46 - 50 &= -4 \\\\\n",
    "69 - 50 &= 19 \\\\\n",
    "32 - 50 &= -18 \\\\\n",
    "60 - 50 &= 10 \\\\\n",
    "52 - 50 &= 2 \\\\\n",
    "41 - 50 &= -9\n",
    "\\end{align*}\\]"
   ]
  },
  {
   "cell_type": "markdown",
   "id": "5e310f60",
   "metadata": {},
   "source": [
    "Square the Differences: We take the absolute value of the differences by squaring them."
   ]
  },
  {
   "cell_type": "markdown",
   "id": "8890cf3c",
   "metadata": {},
   "source": [
    "Why? There are two main reasons."
   ]
  },
  {
   "cell_type": "markdown",
   "id": "a95c0389",
   "metadata": {},
   "source": [
    "Let’s square the differences:"
   ]
  },
  {
   "cell_type": "markdown",
   "id": "f6dba147",
   "metadata": {},
   "source": [
    "\\[\\begin{align*}\n",
    "(-4)^2 &= 16 \\\\\n",
    "(19)^2 &= 361 \\\\\n",
    "(-18)^2 &= 324 \\\\\n",
    "(10)^2 &= 100 \\\\\n",
    "(2)^2 &= 4 \\\\\n",
    "(-9)^2 &= 81\n",
    "\\end{align*}\\]"
   ]
  },
  {
   "cell_type": "code",
   "execution_count": null,
   "id": "5cea17bf",
   "metadata": {},
   "outputs": [],
   "source": [
    "import plotly.express as px\n",
    "import pandas as pd\n",
    "import numpy as np\n",
    "import plotly.graph_objs as go\n",
    "\n",
    "# Create a DataFrame with your data\n",
    "df = pd.DataFrame({\n",
    "    'Test Scores': [46, 69, 32, 60, 52, 41]\n",
    "})\n",
    "\n",
    "# Calculate the mean\n",
    "mean = df['Test Scores'].mean()\n",
    "\n",
    "# Calculate the deviations\n",
    "df['Deviation'] = df['Test Scores'] - mean\n",
    "\n",
    "# Calculate the squared deviations\n",
    "df['Squared Deviations'] = np.square(df['Deviation'])\n",
    "\n",
    "# Create a bar chart of squared deviations\n",
    "fig = px.bar(df, x='Test Scores', y='Squared Deviations', \n",
    "             title='Squared Deviations of Test Scores',\n",
    "             labels={'Squared Deviations': 'Squared Deviations', 'Test Scores': 'Test Scores'})\n",
    "\n",
    "# Add an invisible trace for mean, just for the sake of legend\n",
    "fig.add_trace(go.Scatter(\n",
    "    x=[df['Test Scores'].min(), df['Test Scores'].max()],\n",
    "    y=[mean, mean],\n",
    "    mode=\"lines\",\n",
    "    line=go.scatter.Line(color=\"rgba(0,0,0,0)\"),  # Transparent color\n",
    "    showlegend=True,\n",
    "    name=\"Mean Test Scores: {:.2f}\".format(mean),  # Show mean value in the legend\n",
    "))\n",
    "\n",
    "fig.show()"
   ]
  },
  {
   "cell_type": "code",
   "execution_count": null,
   "id": "28eb4151",
   "metadata": {},
   "outputs": [],
   "source": [
    "Unable to display output for mime type(s): application/vnd.plotly.v1+json"
   ]
  },
  {
   "cell_type": "markdown",
   "id": "54741772",
   "metadata": {},
   "source": [
    "Average the Squared Differences: Now we calculate the average of all these squared difference values."
   ]
  },
  {
   "cell_type": "markdown",
   "id": "0fd9533b",
   "metadata": {},
   "source": [
    "Why? We want to know on average how spread out our data is. If we were to just sum these values, larger datasets would appear to have higher spreads. By taking the average, we normalize it."
   ]
  },
  {
   "cell_type": "markdown",
   "id": "d26a6d80",
   "metadata": {},
   "source": [
    "Let’s calculate the average:"
   ]
  },
  {
   "cell_type": "markdown",
   "id": "1f3272a7",
   "metadata": {},
   "source": [
    "\\[\\frac{\\sum{(X - \\mu)^2}}{N} = \\frac{16 + 361 + 324 + 100 + 4 + 81}{6} \\approx 147.67\\]"
   ]
  },
  {
   "cell_type": "markdown",
   "id": "2e78ab21",
   "metadata": {},
   "source": [
    "Take the Square Root of the Average of the Squared Differences: This is our final step, and it produces our standard deviation."
   ]
  },
  {
   "cell_type": "markdown",
   "id": "2d987148",
   "metadata": {},
   "source": [
    "Why? Since we squared the differences in step 3, we have square units. Taking the square root brings this value back to its original unit, giving us a measure of data spread that we can directly compare with the values in our data."
   ]
  },
  {
   "cell_type": "markdown",
   "id": "0579f8af",
   "metadata": {},
   "source": [
    "Let’s calculate the square root:"
   ]
  },
  {
   "cell_type": "markdown",
   "id": "8899870b",
   "metadata": {},
   "source": [
    "\\[\\sigma = \\sqrt{\\frac{\\sum{(X - \\mu)^2}}{N}} = \\sqrt{147.67} \\approx 12.15\\]"
   ]
  },
  {
   "cell_type": "markdown",
   "id": "4cdcdedc",
   "metadata": {},
   "source": [
    "So, the standard deviation of our dataset [46, 69, 32, 60, 52, 41] is approximately 12.15."
   ]
  },
  {
   "cell_type": "markdown",
   "id": "c8df4cf6",
   "metadata": {},
   "source": [
    "We’ll cover more about this in the next session on Distribution Statistics."
   ]
  },
  {
   "cell_type": "markdown",
   "id": "a8fcda4a",
   "metadata": {},
   "source": [
    "Standard deviation calculator"
   ]
  },
  {
   "cell_type": "markdown",
   "id": "df81d760",
   "metadata": {},
   "source": [
    "You can calculate the standard deviation by hand or with the help of our standard deviation calculator below."
   ]
  },
  {
   "cell_type": "code",
   "execution_count": null,
   "id": "8482372d",
   "metadata": {},
   "outputs": [],
   "source": [
    "# @title #### Standard deviation calculator\n",
    "import gradio as gr\n",
    "import numpy as np\n",
    "\n",
    "def calculate_std_dev(numbers):\n",
    "    numbers = [float(num) for num in numbers.split(',')]\n",
    "    pop_std_dev = np.std(numbers)  # population standard deviation\n",
    "    sample_std_dev = np.std(numbers, ddof=1)  # sample standard deviation\n",
    "    return pop_std_dev, sample_std_dev\n",
    "\n",
    "iface = gr.Interface(fn=calculate_std_dev, \n",
    "                     inputs=\"text\", \n",
    "                     outputs=[\n",
    "                         gr.Label(label=\"Population Standard Deviation\"),\n",
    "                         gr.Label(label=\"Sample Standard Deviation\")\n",
    "                     ],\n",
    "                     examples=[['21,50,62,85,90'], ['12,34,56'], ['11,22,33,44,55']])\n",
    "iface.launch()"
   ]
  },
  {
   "cell_type": "markdown",
   "id": "d9a404e6",
   "metadata": {},
   "source": [
    "The empirical rule"
   ]
  },
  {
   "cell_type": "markdown",
   "id": "6fe417f2",
   "metadata": {},
   "source": [
    "The empirical rule, or the 68-95-99.7 rule, tells you where your values lie: - About 68% of your values will fall within 1 standard deviation. - About 95% of your values will fall within 2 standard deviation. - About 99.7% of your values will fall within 3 standard deviation."
   ]
  },
  {
   "cell_type": "markdown",
   "id": "86eb27bc",
   "metadata": {},
   "source": [
    "This is very useful in forecasting the final outcome. It gives a rough estimate of how certain an outcome will/will not happen."
   ]
  },
  {
   "cell_type": "markdown",
   "id": "1a487c9f",
   "metadata": {},
   "source": [
    "For Example, the average height of an adult male in Indonesia is 5’10” with a standard deviation of 3 inches. Using empirical rule, it means that:"
   ]
  },
  {
   "cell_type": "markdown",
   "id": "b1bbc4bc",
   "metadata": {},
   "source": [
    "Therefore, only about 0.3% of Indonesian men deviate more than 9 inches from the average, with 0.15% taller than 6’7”, and 0.15% shorter than 5’1”."
   ]
  },
  {
   "cell_type": "markdown",
   "id": "3340dd17",
   "metadata": {},
   "source": [
    "Using the height example, we can safely say that it’s very unlikely that we will meet Indonesian men who are taller than 6’7”."
   ]
  },
  {
   "cell_type": "markdown",
   "id": "9547a8ab",
   "metadata": {},
   "source": []
  },
  {
   "cell_type": "markdown",
   "id": "5884f7f7",
   "metadata": {},
   "source": [
    "Role of Standard Deviation in Machine Learning"
   ]
  },
  {
   "cell_type": "markdown",
   "id": "ef6af413",
   "metadata": {},
   "source": [
    "In the realm of machine learning, understanding the standard deviation is key as it provides insights into the variability of data. Many algorithms require data to be normalized, and knowledge of data variability helps improve a model’s accuracy, thus enabling more reliable predictions. 🎯"
   ]
  },
  {
   "cell_type": "markdown",
   "id": "7cdede9e",
   "metadata": {},
   "source": [
    "Explore standard deviation here: geogebra.org"
   ]
  },
  {
   "cell_type": "markdown",
   "id": "0e66ab31",
   "metadata": {},
   "source": [
    "Interactive chart mode"
   ]
  },
  {
   "cell_type": "markdown",
   "id": "94913e62",
   "metadata": {},
   "source": [
    "You can explore various different data to get the variance, standard deviation value and learn how the value is positioned from our tool below."
   ]
  },
  {
   "cell_type": "code",
   "execution_count": null,
   "id": "24fb7d86",
   "metadata": {},
   "outputs": [],
   "source": [
    "# @title #### Bar chart, plot histogram and bellcurve\n",
    "import warnings\n",
    "warnings.filterwarnings('ignore', category=UserWarning, module='gradio')\n",
    "import matplotlib.pyplot as plt\n",
    "from scipy.stats import norm\n",
    "import plotly.graph_objects as go\n",
    "import gradio as gr\n",
    "import plotly.io as pio\n",
    "from PIL import Image\n",
    "import io\n",
    "import numpy as np\n",
    "    \n",
    "# Function to calculate mean, variance, standard deviation and plot bar chart\n",
    "def interactive_bar(num_scores, scores, statistics_to_show=None, sort_data=False):\n",
    "    scores_names = ['score1', 'score2', 'score3', 'score4', 'score5', 'score6'][:num_scores]\n",
    "\n",
    "    # Sort the data if the option is selected\n",
    "    if sort_data:\n",
    "        scores, scores_names = zip(*sorted(zip(scores, scores_names), key=lambda pair: pair[0]))\n",
    "    \n",
    "    fig = go.Figure(data=go.Bar(y=scores, x=scores_names, name='scores'))\n",
    "\n",
    "    # Calculate the mean\n",
    "    mean_score = np.mean(scores)\n",
    "\n",
    "    # Add a horizontal line for the mean\n",
    "    fig.add_trace(go.Scatter(x=[scores_names[0], scores_names[-1]], y=[mean_score, mean_score], mode='lines', name=f'Mean: {mean_score:.2f}', line=dict(color='Red', width=1, dash='dash')))\n",
    "\n",
    "    if 'variance' in statistics_to_show:\n",
    "        # Calculate the variance\n",
    "        variance = np.var(scores)\n",
    "\n",
    "        # Add a text annotation for the variance\n",
    "        fig.add_annotation(text=f'Variance: {variance:.2f}',\n",
    "                           xref='paper', x=0.95, yref='paper', y=0.95,\n",
    "                           showarrow=False, font=dict(size=14), bgcolor='white')\n",
    "\n",
    "    if 'std_dev' in statistics_to_show:\n",
    "        # Calculate the standard deviation\n",
    "        std_dev = np.std(scores, ddof=1)\n",
    "\n",
    "        # Add a text annotation for the standard deviation\n",
    "        fig.add_annotation(text=f'Standard Deviation: {std_dev:.2f}',\n",
    "                           xref='paper', x=0.95, yref='paper', y=0.9,\n",
    "                           showarrow=False, font=dict(size=14), bgcolor='white')\n",
    "\n",
    "    # Add labels for x and y axis\n",
    "    fig.update_layout(\n",
    "        xaxis_title=\"scores\",\n",
    "        yaxis_title=\"Value\",\n",
    "        font=dict(size=14),\n",
    "    )\n",
    "\n",
    "    # Convert the figure to PNG image\n",
    "    png_image = pio.to_image(fig, format='png')\n",
    "\n",
    "    # Create a PIL Image object for Gradio Output\n",
    "    image = Image.open(io.BytesIO(png_image))\n",
    "\n",
    "    return image\n",
    "\n",
    "# Function to create a bell curve\n",
    "def bell_curve(mean, std_dev):\n",
    "    x = np.linspace(mean - 3.5*std_dev, mean + 3.5*std_dev, 100)\n",
    "    plt.plot(x, norm.pdf(x, mean, std_dev), label=f\"mean = {mean:.2f}, std_dev = {std_dev:.2f}\")\n",
    "    \n",
    "    # Highlight areas within 1, 2, and 3 standard deviations of the mean\n",
    "    plt.fill_between(x, norm.pdf(x, mean, std_dev), where=((x < mean + std_dev) & (x > mean - std_dev)), alpha=0.6, color='grey')\n",
    "    plt.fill_between(x, norm.pdf(x, mean, std_dev), where=((x < mean + 2*std_dev) & (x > mean - 2*std_dev)), alpha=0.4, color='grey')\n",
    "    plt.fill_between(x, norm.pdf(x, mean, std_dev), where=((x < mean + 3*std_dev) & (x > mean - 3*std_dev)), alpha=0.2, color='grey')\n",
    "\n",
    "    # Add vertical lines for the mean and standard deviation\n",
    "    plt.axvline(mean, color='red', linestyle='-', linewidth=2, label=f'Mean: {mean:.2f}')\n",
    "    plt.axvline(mean-std_dev, color='blue', linestyle='--', linewidth=2, label=f'1 Std Dev below: {mean-std_dev:.2f}')\n",
    "    plt.axvline(mean+std_dev, color='blue', linestyle='--', linewidth=2, label=f'1 Std Dev above: {mean+std_dev:.2f}')\n",
    "\n",
    "    # Place the legend outside of the plot\n",
    "    plt.legend(loc='upper left', bbox_to_anchor=(1,1))\n",
    "\n",
    "    # Add labels for the mean and standard deviation multiples\n",
    "    plt.text(mean, 0.01, 'Average', horizontalalignment='center', fontsize=13)\n",
    "    plt.text(mean-std_dev, 0.01, '1 below', horizontalalignment='center', fontsize=10)\n",
    "    plt.text(mean+std_dev, 0.01, '1 above', horizontalalignment='center', fontsize=10)\n",
    "    plt.text(mean-2*std_dev, 0.01, '2 below', horizontalalignment='center', fontsize=10)\n",
    "    plt.text(mean+2*std_dev, 0.01, '2 above', horizontalalignment='center', fontsize=10)\n",
    "    plt.text(mean-3*std_dev, 0.01, '3 below', horizontalalignment='center', fontsize=10)\n",
    "    plt.text(mean+3*std_dev, 0.01, '3 above', horizontalalignment='center', fontsize=10)\n",
    "\n",
    "    plt.title(\"Distribution of Test Scores\")\n",
    "    plt.xlabel(\"Test Scores\")\n",
    "    plt.ylabel(\"Number of Students\")\n",
    "\n",
    "    # Convert the Matplotlib figure to a PIL Image and return it\n",
    "    buf = io.BytesIO()\n",
    "    plt.savefig(buf, format='png', bbox_inches='tight')\n",
    "    buf.seek(0)\n",
    "    image = Image.open(buf)\n",
    "\n",
    "    return image\n",
    "\n",
    "# Final function for Gradio interface\n",
    "def final_fn(num_scores, score1=0, score2=0, score3=0, score4=0, score5=0, score6=0, statistics_to_show=None, sort_data=False):\n",
    "    num_scores = int(num_scores)  # Convert num_scores to integer\n",
    "    scores = [score1, score2, score3, score4, score5, score6][:num_scores]\n",
    "\n",
    "    mean = np.mean(scores)\n",
    "    std_dev = np.std(scores, ddof=1)\n",
    "\n",
    "    bar_image = interactive_bar(num_scores, scores, statistics_to_show, sort_data)\n",
    "    bell_image = bell_curve(mean, std_dev)\n",
    "\n",
    "    return bar_image, bell_image\n",
    "\n",
    "\n",
    "# Create Gradio interface\n",
    "iface = gr.Interface(\n",
    "    title=\"Standard Deviation and Variance\",\n",
    "    live=True,\n",
    "    fn=final_fn,\n",
    "    inputs=[\n",
    "        gr.Dropdown(choices=[1, 2, 3, 4, 5, 6], label=\"Number of scores to use\", value=\"6\"),\n",
    "        gr.Slider(minimum=0, maximum=100, step=1, value=46),\n",
    "        gr.Slider(minimum=0, maximum=100, step=1, value=69),\n",
    "        gr.Slider(minimum=0, maximum=100, step=1, value=32),\n",
    "        gr.Slider(minimum=0, maximum=100, step=1, value=60),\n",
    "        gr.Slider(minimum=0, maximum=100, step=1, value=52),\n",
    "        gr.Slider(minimum=0, maximum=100, step=1, value=41),\n",
    "        gr.CheckboxGroup(choices=['variance', 'std_dev'], value=['variance', 'std_dev'], label=\"Statistics to show\"),\n",
    "        gr.Checkbox(label=\"Sort data\")\n",
    "    ], \n",
    "    outputs=[gr.Image(type='pil', label='Bar Chart'), gr.Image(type='pil', label='Bell Curve')],\n",
    ")\n",
    "\n",
    "iface.launch()"
   ]
  }
 ],
 "metadata": {},
 "nbformat": 4,
 "nbformat_minor": 5
}
