{
 "cells": [
  {
   "cell_type": "markdown",
   "id": "e4a4839d",
   "metadata": {},
   "source": [
    "source: [link](https://ai-bootcamp.ruangguru.com/learn/01_toolkits/02_foundational_statistics/04_bayesian_theory.html)"
   ]
  },
  {
   "cell_type": "markdown",
   "id": "4c56f2c1",
   "metadata": {},
   "source": [
    "# Bayesian Theory"
   ]
  },
  {
   "cell_type": "markdown",
   "id": "e4af4278",
   "metadata": {},
   "source": []
  },
  {
   "cell_type": "markdown",
   "id": "7efb73d0",
   "metadata": {},
   "source": [
    "![Image](https://upload.wikimedia.org/wikipedia/commons/1/18/Bayes%27_Theorem_MMB_01.jpg)"
   ]
  },
  {
   "cell_type": "markdown",
   "id": "1f804a01",
   "metadata": {},
   "source": [
    "Bayes Theorem (Source commons.wikimedia.org)"
   ]
  },
  {
   "cell_type": "markdown",
   "id": "a6a13ce3",
   "metadata": {},
   "source": [
    "# Bayesian Theorem: Adding quantitative evidence to our beliefs"
   ]
  },
  {
   "cell_type": "markdown",
   "id": "f72cfc71",
   "metadata": {},
   "source": [
    "Imagine that we already know that there are 50% librarian that are shy, while there is only 14% farmer that are shy. If we pick random person from the population that is considered shy, what is the probability that the person is a librarian? The heart of bayesian theorem is that when we’re considering our bias that it’s a lot more likely a librarian is shy than a farmer, when we want to say that “Then there should be a lot more shy librarian than shy farmer”, we need to consider that maybe there are a lot more farmer than librarian in the population."
   ]
  },
  {
   "cell_type": "markdown",
   "id": "2f7f9cf7",
   "metadata": {},
   "source": []
  },
  {
   "cell_type": "markdown",
   "id": "edf1876f",
   "metadata": {},
   "source": [
    "![Image](https://storage.googleapis.com/rg-ai-bootcamp/toolkits/bayesian-1-min.png)"
   ]
  },
  {
   "cell_type": "markdown",
   "id": "2b56821f",
   "metadata": {},
   "source": [
    "# Challenge your belief with quantitative evidence"
   ]
  },
  {
   "cell_type": "markdown",
   "id": "3bd7e48e",
   "metadata": {},
   "source": [
    "If you’re checking above image, you’ll see that farmers in our population of 64 people is a lot more than librarians. So let’s try to assess our belief: We say that lots of the librarian are shy (50%), and only small subset of farmer are shy (14%)."
   ]
  },
  {
   "cell_type": "markdown",
   "id": "7e94ab3e",
   "metadata": {},
   "source": []
  },
  {
   "cell_type": "markdown",
   "id": "67e2e156",
   "metadata": {},
   "source": [
    "![Image](https://storage.googleapis.com/rg-ai-bootcamp/toolkits/bayesian-2-min.png)"
   ]
  },
  {
   "cell_type": "markdown",
   "id": "6107967c",
   "metadata": {},
   "source": [
    "Now look at above image and we can calculate that 14%, when compared to above population of farmers which is 56, is 8 people (7.84 rounded up). While 50% of librarian, when compared to above population of librarians which is 8, is only 4 people. So, even though we know that a librarian is a lot more likely to be shy than a farmer, but because we consider the quantity of farmer in the population, it’s still more likely that if we randomly pick a shy person, it’s a farmer."
   ]
  },
  {
   "cell_type": "markdown",
   "id": "5492a00b",
   "metadata": {},
   "source": [
    "This theorem is one of the most important theorem in probability theory, which can help us validate our bias and human tendency, to acknowledge that when considering the quantity of the population, our bias might not be true: 50% librarian are shy, and only 14% farmer are shy, so of course there are more shy librarian than shy farmer. NOPE! Bayesiann theorem can help us to challenge our belief with accurate measurement."
   ]
  },
  {
   "cell_type": "markdown",
   "id": "eebf183d",
   "metadata": {},
   "source": [
    "# Formula"
   ]
  },
  {
   "cell_type": "markdown",
   "id": "1ddb5dc0",
   "metadata": {},
   "source": [
    "The mathematical representation for Bayes’ Theorem is:"
   ]
  },
  {
   "cell_type": "markdown",
   "id": "609e0217",
   "metadata": {},
   "source": [
    "\n",
    "\\[P(H|E) = \\frac{P(H).P(E|H)}{P(E)}\\]\n"
   ]
  },
  {
   "cell_type": "markdown",
   "id": "96f9a839",
   "metadata": {},
   "source": [
    "- \\(P(H)\\): Probability that ahypothesisis true before any evidence is available.\n",
    "- \\(P(E|H)\\): Probability of observing the evidence given that thehypothesisis true.\n",
    "- \\(P(E)\\): Probability of observing the evidence.\n",
    "- \\(P(H|E)\\): Probability that thehypothesisis true given some evidence."
   ]
  },
  {
   "cell_type": "markdown",
   "id": "eb2b07a3",
   "metadata": {},
   "source": [
    "Okay, formula might be intimidating, let’s try to make it more intuitive:"
   ]
  },
  {
   "cell_type": "markdown",
   "id": "e4892fc0",
   "metadata": {},
   "source": [
    "# How likely a person is a coffee drinker given that he is energic in the morning?"
   ]
  },
  {
   "cell_type": "markdown",
   "id": "bda3506e",
   "metadata": {},
   "source": [
    "\n",
    "\\[\n",
    "P(\\text{Coffee Drinker | Energic in the morning}) = \\frac{P(\\text{Coffee Drinker}).P(\\text{Energic in the morning | Coffee Drinker})}{P(\\text{Energic in the morning})}\n",
    "\\]\n"
   ]
  },
  {
   "cell_type": "markdown",
   "id": "4fae11ac",
   "metadata": {},
   "source": [
    "Some people are energic in the morning because they drink coffee, but some people are energic in the morning because they are just morning people. What’s the probability that a person is a coffee drinker given that he is energic in the morning?"
   ]
  },
  {
   "cell_type": "markdown",
   "id": "6187fc77",
   "metadata": {},
   "source": [
    "$P(\\text{Coffee Drinker | Energic in the morning})$: The probability that a person is a coffee drinker given that he is energic in the morning (not all energic people are coffee drinkers)"
   ]
  },
  {
   "cell_type": "markdown",
   "id": "7829c1b0",
   "metadata": {},
   "source": [
    "$P(\\text{Coffee Drinker})$: The percentage of coffee drinkers in the population"
   ]
  },
  {
   "cell_type": "markdown",
   "id": "44cf7266",
   "metadata": {},
   "source": [
    "$P(\\text{Energic in the morning | Coffee Drinker})$: The percentage of energic people given that they are coffee drinkers (not all coffee drinkers are energic)"
   ]
  },
  {
   "cell_type": "markdown",
   "id": "54cb9e50",
   "metadata": {},
   "source": [
    "$P(\\text{Energic in the morning})$: The percentage of energic people in the population"
   ]
  },
  {
   "cell_type": "markdown",
   "id": "68b23789",
   "metadata": {},
   "source": [
    "# How likely is it that a person is a librarian given that he is shy?"
   ]
  },
  {
   "cell_type": "markdown",
   "id": "999af7b9",
   "metadata": {},
   "source": [
    "\n",
    "\\[\n",
    "P(\\text{Librarian | Shy}) = \\frac{P(\\text{Librarian}) . P(\\text{Shy | Librarian})}{P(\\text{Shy})}\n",
    "\\]\n"
   ]
  },
  {
   "cell_type": "markdown",
   "id": "b1be7639",
   "metadata": {},
   "source": [
    "Some shy people are librarians, but some shy people are shy even though they are not librarians. What’s the probability that a person is a librarian given that he is shy?"
   ]
  },
  {
   "cell_type": "markdown",
   "id": "7bca9593",
   "metadata": {},
   "source": [
    "$P(\\text{Librarian | Shy})$: The probability that a person is a librarian given that he is shy (not all shy people are librarians)"
   ]
  },
  {
   "cell_type": "markdown",
   "id": "750cf6ec",
   "metadata": {},
   "source": [
    "$P(\\text{Librarian})$: The percentage of librarians in the population"
   ]
  },
  {
   "cell_type": "markdown",
   "id": "e26bff6a",
   "metadata": {},
   "source": [
    "$P(\\text{Shy | Librarian})$: The percentage of shy people given that they are librarians (not all librarians are shy)"
   ]
  },
  {
   "cell_type": "markdown",
   "id": "e587d2b8",
   "metadata": {},
   "source": [
    "$P(\\text{Shy})$: The percentage of shy people in the population"
   ]
  },
  {
   "cell_type": "markdown",
   "id": "23c7dc97",
   "metadata": {},
   "source": [
    "# | == Given that"
   ]
  },
  {
   "cell_type": "markdown",
   "id": "b624e7e8",
   "metadata": {},
   "source": [
    "One tips to remember the formula is that | can be seen as given that. So $P(\\text{Coffee Drinker | Energic in the morning})$ can be read as “The probability that a person is a coffee drinker given that he is energic in the morning”. It’s a way to easily remember the formula."
   ]
  },
  {
   "cell_type": "markdown",
   "id": "a10146a2",
   "metadata": {},
   "source": [
    "# Example"
   ]
  },
  {
   "cell_type": "markdown",
   "id": "85d2df3d",
   "metadata": {},
   "source": [
    "Let’s try to use below example to understand how Bayes’ Theorem works:"
   ]
  },
  {
   "cell_type": "markdown",
   "id": "5651caea",
   "metadata": {},
   "source": [
    "In a factory, there are several machines used for manufacturing a specific product. We want to know, if we observe a product defect, what is the probability that it was caused by a specific machine, let’s called it Machine A."
   ]
  },
  {
   "cell_type": "markdown",
   "id": "8622e19c",
   "metadata": {},
   "source": [
    "\n",
    "\\[\n",
    "P(\\text{Machine A | Defect}) = \\frac{P(\\text{Machine A}) \\times P(\\text{Defect | Machine A})}{P(\\text{Defect})}\n",
    "\\]\n"
   ]
  },
  {
   "cell_type": "markdown",
   "id": "e15abc38",
   "metadata": {},
   "source": [
    "Several things that we know is that there are 1000 products manufactured, 300 of them are made using Machine A. Out of the 1000 products, 20 of them are defective. Out of the 300 products made by Machine A, 5 of them are defective. So, what is the probability that a product is defective, given that it was manufactured by Machine A?"
   ]
  },
  {
   "cell_type": "markdown",
   "id": "ec735301",
   "metadata": {},
   "source": [
    "# Convert above formula to more “human” language"
   ]
  },
  {
   "cell_type": "markdown",
   "id": "7e86c865",
   "metadata": {},
   "source": [
    "Let’s change above formula to more understandable language:"
   ]
  },
  {
   "cell_type": "markdown",
   "id": "c0d800ac",
   "metadata": {},
   "source": [
    "\n",
    "\\[\n",
    "P(\\text{Probability of Machine A is used given that there is a defect}) = \\frac{P(\\text{Probability of Machine A is used}) \\times P(\\text{Probability of a defect given it's manufactured by Machine A})}{P(\\text{Probability of a defect})}\\]\n"
   ]
  },
  {
   "cell_type": "markdown",
   "id": "95fd8219",
   "metadata": {},
   "source": [
    "So basically when we’re looking at a random defective product, what is the probability that it was manufactured by Machine A?"
   ]
  },
  {
   "cell_type": "markdown",
   "id": "8ca787b4",
   "metadata": {},
   "source": [
    "# Plot the numbers"
   ]
  },
  {
   "cell_type": "markdown",
   "id": "436bf3e3",
   "metadata": {},
   "source": [
    "\n",
    "\\[\n",
    "P(\\text{Probability of Machine A is used given that there is a defect}) = \\frac{\\frac{300}{1000} \\times \\frac{5}{300}}{\\frac{20}{1000}} = 25\\%\n",
    "\\]\n"
   ]
  },
  {
   "cell_type": "markdown",
   "id": "f86c0ae8",
   "metadata": {},
   "source": [
    "Now after using the formula, we can see that if we choose a random defective product, there is 25% chance that it was manufactured by Machine A. This might be a high number say if we really don’t want any defective product, we can then choose to lessen the usage of Machine A. Of course it might be considered a low number if we consider that it’s only happening 20 out of 1000 times, it’s all about how the business considered high or low number. But the main takeaway is that we can use Bayes’ Theorem to expand our belief using a real data to validate our belief."
   ]
  }
 ],
 "metadata": {},
 "nbformat": 4,
 "nbformat_minor": 5
}
