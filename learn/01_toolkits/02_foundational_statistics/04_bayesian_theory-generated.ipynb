{
 "cells": [
  {
   "cell_type": "markdown",
   "id": "c308e428",
   "metadata": {},
   "source": [
    "source: [link](https://ai-bootcamp.ruangguru.com/learn/01_toolkits/02_foundational_statistics/04_bayesian_theory.html)"
   ]
  },
  {
   "cell_type": "markdown",
   "id": "d59002b4",
   "metadata": {},
   "source": [
    "# Bayesian Theory"
   ]
  },
  {
   "cell_type": "markdown",
   "id": "85115d5d",
   "metadata": {},
   "source": []
  },
  {
   "cell_type": "markdown",
   "id": "b07b2525",
   "metadata": {},
   "source": [
    "![Image](https://upload.wikimedia.org/wikipedia/commons/1/18/Bayes%27_Theorem_MMB_01.jpg)"
   ]
  },
  {
   "cell_type": "markdown",
   "id": "b0bb538b",
   "metadata": {},
   "source": [
    "Bayes Theorem (Source commons.wikimedia.org)"
   ]
  },
  {
   "cell_type": "markdown",
   "id": "58077369",
   "metadata": {},
   "source": [
    "# Bayesian Theorem: Adding quantitative evidence to our beliefs"
   ]
  },
  {
   "cell_type": "markdown",
   "id": "d3363b37",
   "metadata": {},
   "source": [
    "Imagine that we already know that there are 50% librarian that are shy, while there is only 14% farmer that are shy. If we pick random person from the population that is considered shy, what is the probability that the person is a librarian? The heart of bayesian theorem is that when we’re considering our bias that it’s a lot more likely a librarian is shy than a farmer, when we want to say that “Then there should be a lot more shy librarian than shy farmer”, we need to consider that maybe there are a lot more farmer than librarian in the population."
   ]
  },
  {
   "cell_type": "markdown",
   "id": "92f78575",
   "metadata": {},
   "source": []
  },
  {
   "cell_type": "markdown",
   "id": "a5e617a2",
   "metadata": {},
   "source": [
    "![Image](https://storage.googleapis.com/rg-ai-bootcamp/toolkits/bayesian-1-min.png)"
   ]
  },
  {
   "cell_type": "markdown",
   "id": "1582205e",
   "metadata": {},
   "source": [
    "# Challenge your belief with quantitative evidence"
   ]
  },
  {
   "cell_type": "markdown",
   "id": "1ac09b5b",
   "metadata": {},
   "source": [
    "If you’re checking above image, you’ll see that farmers in our population of 64 people is a lot more than librarians. So let’s try to assess our belief: We say that lots of the librarian are shy (50%), and only small subset of farmer are shy (14%)."
   ]
  },
  {
   "cell_type": "markdown",
   "id": "741d1966",
   "metadata": {},
   "source": []
  },
  {
   "cell_type": "markdown",
   "id": "a0c3bab8",
   "metadata": {},
   "source": [
    "![Image](https://storage.googleapis.com/rg-ai-bootcamp/toolkits/bayesian-2-min.png)"
   ]
  },
  {
   "cell_type": "markdown",
   "id": "06d92093",
   "metadata": {},
   "source": [
    "Now look at above image and we can calculate that 14%, when compared to above population of farmers which is 56, is 8 people (7.84 rounded up). While 50% of librarian, when compared to above population of librarians which is 8, is only 4 people. So, even though we know that a librarian is a lot more likely to be shy than a farmer, but because we consider the quantity of farmer in the population, it’s still more likely that if we randomly pick a shy person, it’s a farmer."
   ]
  },
  {
   "cell_type": "markdown",
   "id": "6b3e14e3",
   "metadata": {},
   "source": [
    "This theorem is one of the most important theorem in probability theory, which can help us validate our bias and human tendency, to acknowledge that when considering the quantity of the population, our bias might not be true: 50% librarian are shy, and only 14% farmer are shy, so of course there are more shy librarian than shy farmer. NOPE! Bayesiann theorem can help us to challenge our belief with accurate measurement."
   ]
  },
  {
   "cell_type": "markdown",
   "id": "64c6e0ab",
   "metadata": {},
   "source": [
    "# Formula"
   ]
  },
  {
   "cell_type": "markdown",
   "id": "fc4e3c93",
   "metadata": {},
   "source": [
    "The mathematical representation for Bayes’ Theorem is:"
   ]
  },
  {
   "cell_type": "markdown",
   "id": "dd1ae5be",
   "metadata": {},
   "source": [
    "\\[P(H|E) = \\frac{P(H).P(E|H)}{P(E)}\\]"
   ]
  },
  {
   "cell_type": "markdown",
   "id": "3e9d78a4",
   "metadata": {},
   "source": [
    "- \\(P(H)\\): Probability that ahypothesisis true before any evidence is available.\n",
    "- \\(P(E|H)\\): Probability of observing the evidence given that thehypothesisis true.\n",
    "- \\(P(E)\\): Probability of observing the evidence.\n",
    "- \\(P(H|E)\\): Probability that thehypothesisis true given some evidence."
   ]
  },
  {
   "cell_type": "markdown",
   "id": "e3fb1c4e",
   "metadata": {},
   "source": [
    "Okay, formula might be intimidating, let’s try to make it more intuitive:"
   ]
  },
  {
   "cell_type": "markdown",
   "id": "6e036018",
   "metadata": {},
   "source": [
    "# How likely a person is a coffee drinker given that he is energic in the morning?"
   ]
  },
  {
   "cell_type": "markdown",
   "id": "227946a9",
   "metadata": {},
   "source": [
    "\\[\n",
    "P(\\text{Coffee Drinker | Energic in the morning}) = \\frac{P(\\text{Coffee Drinker}).P(\\text{Energic in the morning | Coffee Drinker})}{P(\\text{Energic in the morning})}\n",
    "\\]"
   ]
  },
  {
   "cell_type": "markdown",
   "id": "0f198ebe",
   "metadata": {},
   "source": [
    "Some people are energic in the morning because they drink coffee, but some people are energic in the morning because they are just morning people. What’s the probability that a person is a coffee drinker given that he is energic in the morning?"
   ]
  },
  {
   "cell_type": "markdown",
   "id": "eb0a92ed",
   "metadata": {},
   "source": [
    "\\(P(\\text{Coffee Drinker | Energic in the morning})\\): The probability that a person is a coffee drinker given that he is energic in the morning (not all energic people are coffee drinkers)"
   ]
  },
  {
   "cell_type": "markdown",
   "id": "ba679282",
   "metadata": {},
   "source": [
    "\\(P(\\text{Coffee Drinker})\\): The percentage of coffee drinkers in the population"
   ]
  },
  {
   "cell_type": "markdown",
   "id": "2026411e",
   "metadata": {},
   "source": [
    "\\(P(\\text{Energic in the morning | Coffee Drinker})\\): The percentage of energic people given that they are coffee drinkers (not all coffee drinkers are energic)"
   ]
  },
  {
   "cell_type": "markdown",
   "id": "b608c63f",
   "metadata": {},
   "source": [
    "\\(P(\\text{Energic in the morning})\\): The percentage of energic people in the population"
   ]
  },
  {
   "cell_type": "markdown",
   "id": "e5c3d643",
   "metadata": {},
   "source": [
    "# How likely is it that a person is a librarian given that he is shy?"
   ]
  },
  {
   "cell_type": "markdown",
   "id": "89f6456f",
   "metadata": {},
   "source": [
    "\\[\n",
    "P(\\text{Librarian | Shy}) = \\frac{P(\\text{Librarian}) . P(\\text{Shy | Librarian})}{P(\\text{Shy})}\n",
    "\\]"
   ]
  },
  {
   "cell_type": "markdown",
   "id": "bdb7c0d8",
   "metadata": {},
   "source": [
    "Some shy people are librarians, but some shy people are shy even though they are not librarians. What’s the probability that a person is a librarian given that he is shy?"
   ]
  },
  {
   "cell_type": "markdown",
   "id": "036b98dd",
   "metadata": {},
   "source": [
    "\\(P(\\text{Librarian | Shy})\\): The probability that a person is a librarian given that he is shy (not all shy people are librarians)"
   ]
  },
  {
   "cell_type": "markdown",
   "id": "10701b95",
   "metadata": {},
   "source": [
    "\\(P(\\text{Librarian})\\): The percentage of librarians in the population"
   ]
  },
  {
   "cell_type": "markdown",
   "id": "fab3dece",
   "metadata": {},
   "source": [
    "\\(P(\\text{Shy | Librarian})\\): The percentage of shy people given that they are librarians (not all librarians are shy)"
   ]
  },
  {
   "cell_type": "markdown",
   "id": "28d0e40d",
   "metadata": {},
   "source": [
    "\\(P(\\text{Shy})\\): The percentage of shy people in the population"
   ]
  },
  {
   "cell_type": "markdown",
   "id": "118390a7",
   "metadata": {},
   "source": [
    "# | == Given that"
   ]
  },
  {
   "cell_type": "markdown",
   "id": "ef9ffaf1",
   "metadata": {},
   "source": [
    "One tips to remember the formula is that | can be seen as given that. So \\(P(\\text{Coffee Drinker | Energic in the morning})\\) can be read as “The probability that a person is a coffee drinker given that he is energic in the morning”. It’s a way to easily remember the formula."
   ]
  },
  {
   "cell_type": "markdown",
   "id": "38b31186",
   "metadata": {},
   "source": [
    "# Example"
   ]
  },
  {
   "cell_type": "markdown",
   "id": "5d714fe6",
   "metadata": {},
   "source": [
    "Let’s try to use below example to understand how Bayes’ Theorem works:"
   ]
  },
  {
   "cell_type": "markdown",
   "id": "c038e287",
   "metadata": {},
   "source": [
    "In a factory, there are several machines used for manufacturing a specific product. We want to know, if we observe a product defect, what is the probability that it was caused by a specific machine, let’s called it Machine A."
   ]
  },
  {
   "cell_type": "markdown",
   "id": "4eb67727",
   "metadata": {},
   "source": [
    "\\[\n",
    "P(\\text{Machine A | Defect}) = \\frac{P(\\text{Machine A}) \\times P(\\text{Defect | Machine A})}{P(\\text{Defect})}\n",
    "\\]"
   ]
  },
  {
   "cell_type": "markdown",
   "id": "b840c957",
   "metadata": {},
   "source": [
    "Several things that we know is that there are 1000 products manufactured, 300 of them are made using Machine A. Out of the 1000 products, 20 of them are defective. Out of the 300 products made by Machine A, 5 of them are defective. So, what is the probability that a product is defective, given that it was manufactured by Machine A?"
   ]
  },
  {
   "cell_type": "markdown",
   "id": "54a32c44",
   "metadata": {},
   "source": [
    "# Convert above formula to more “human” language"
   ]
  },
  {
   "cell_type": "markdown",
   "id": "40b43618",
   "metadata": {},
   "source": [
    "Let’s change above formula to more understandable language:"
   ]
  },
  {
   "cell_type": "markdown",
   "id": "50659bd7",
   "metadata": {},
   "source": [
    "\\[\n",
    "P(\\text{Probability of Machine A is used given that there is a defect}) = \\frac{P(\\text{Probability of Machine A is used}) \\times P(\\text{Probability of a defect given it's manufactured by Machine A})}{P(\\text{Probability of a defect})}\\]"
   ]
  },
  {
   "cell_type": "markdown",
   "id": "d181601f",
   "metadata": {},
   "source": [
    "So basically when we’re looking at a random defective product, what is the probability that it was manufactured by Machine A?"
   ]
  },
  {
   "cell_type": "markdown",
   "id": "a943c51b",
   "metadata": {},
   "source": [
    "# Plot the numbers"
   ]
  },
  {
   "cell_type": "markdown",
   "id": "1a1b2ba7",
   "metadata": {},
   "source": [
    "\\[\n",
    "P(\\text{Probability of Machine A is used given that there is a defect}) = \\frac{\\frac{300}{1000} \\times \\frac{5}{300}}{\\frac{20}{1000}} = 25\\%\n",
    "\\]"
   ]
  },
  {
   "cell_type": "markdown",
   "id": "ff3f684f",
   "metadata": {},
   "source": [
    "Now after using the formula, we can see that if we choose a random defective product, there is 25% chance that it was manufactured by Machine A. This might be a high number say if we really don’t want any defective product, we can then choose to lessen the usage of Machine A. Of course it might be considered a low number if we consider that it’s only happening 20 out of 1000 times, it’s all about how the business considered high or low number. But the main takeaway is that we can use Bayes’ Theorem to expand our belief using a real data to validate our belief."
   ]
  }
 ],
 "metadata": {},
 "nbformat": 4,
 "nbformat_minor": 5
}
