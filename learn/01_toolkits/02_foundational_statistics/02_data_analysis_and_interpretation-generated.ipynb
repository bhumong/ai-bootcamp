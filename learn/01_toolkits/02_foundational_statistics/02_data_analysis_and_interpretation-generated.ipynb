{
 "cells": [
  {
   "cell_type": "markdown",
   "id": "2e9b381e",
   "metadata": {},
   "source": [
    "source: [link](https://ai-bootcamp.ruangguru.com/learn/01_toolkits/02_foundational_statistics/02_data_analysis_and_interpretation.html)"
   ]
  },
  {
   "cell_type": "markdown",
   "id": "b64553ac",
   "metadata": {},
   "source": [
    "# Data Analysis and Interpretation"
   ]
  },
  {
   "cell_type": "markdown",
   "id": "3202306b",
   "metadata": {},
   "source": []
  },
  {
   "cell_type": "markdown",
   "id": "1b6b89a3",
   "metadata": {},
   "source": [
    "![Image](https://www.datapine.com/blog/wp-content/uploads/2016/08/data-interpretation-art.jpg)"
   ]
  },
  {
   "cell_type": "markdown",
   "id": "43bd11b7",
   "metadata": {},
   "source": [
    "Data Interpretation Art (Source datapine.com)"
   ]
  },
  {
   "cell_type": "markdown",
   "id": "fc7c9da1",
   "metadata": {},
   "source": [
    "# Why Interpret Data?"
   ]
  },
  {
   "cell_type": "markdown",
   "id": "34905c40",
   "metadata": {},
   "source": [
    "Data interpretation is not just a statistical process; it’s a strategic tool that helps businesses make informed decisions. It’s also a fundamental step in preparing for the exciting world of machine learning."
   ]
  },
  {
   "cell_type": "markdown",
   "id": "ff2f8c45",
   "metadata": {},
   "source": [
    "Why do businesses like ‘SodaPop’, a soft drink company, need to delve into data interpretation? 🤔 The answer lies in the need to answer crucial business questions, such as:"
   ]
  },
  {
   "cell_type": "markdown",
   "id": "c8d64cbd",
   "metadata": {},
   "source": [
    "In the case of ‘SodaPop’, they face a challenge. They have gathered customer survey data but are unsure how to interpret it to gain valuable insights about customer preferences. This is where data interpretation comes in."
   ]
  },
  {
   "cell_type": "markdown",
   "id": "5ff9d5d6",
   "metadata": {},
   "source": [
    "# Data Interpretation: A Critical Precursor to Machine Learning"
   ]
  },
  {
   "cell_type": "markdown",
   "id": "36dd5672",
   "metadata": {},
   "source": [
    "For instance, some customers might prefer “SodaPop Classic” due to its taste, while others might select “SodaPop Zero” for its lower calorie content. The interpretation process helps SodaPop uncover these consumer preferences and behaviors, setting the stage for predictive modeling and algorithmic decision-making in machine learning."
   ]
  },
  {
   "cell_type": "markdown",
   "id": "00f8133e",
   "metadata": {},
   "source": [
    "Data interpretation comes in two general flavors, both of which are intimately linked to machine learning:"
   ]
  },
  {
   "cell_type": "markdown",
   "id": "1e2c6f49",
   "metadata": {},
   "source": [
    "Before embarking on the data interpretation journey, SodaPop needs to decide on the data measurement scale. They might categorize data by product (a nominal scale), sort it by customer satisfaction level (an ordinal scale), analyze the distribution of customer ages (an interval scale) or analyze the ratio of customers who choose “SodaPop Classic” compared to “SodaPop Zero” (a ratio scale)."
   ]
  },
  {
   "cell_type": "markdown",
   "id": "c46faf5c",
   "metadata": {},
   "source": [
    "With the measurement scale selected, SodaPop can now choose the interpretation process that best suits their data needs. They might perform a trend analysis to understand how customer preferences change over time or a correlation analysis to see the relationship between variables like age and product preferences."
   ]
  },
  {
   "cell_type": "markdown",
   "id": "ed09d82a",
   "metadata": {},
   "source": [
    "# Data Interpretation in Practice: The SodaPop Example"
   ]
  },
  {
   "cell_type": "markdown",
   "id": "3debef62",
   "metadata": {},
   "source": [
    "Imagine we have survey data from the SodaPop company. This data includes columns for ‘Product’ (the product the customer chose), ‘Age’ (the customer’s age), ‘Satisfaction’ (the level of customer satisfaction), and ‘CalorieConcern’ (whether the customer is conscious about calorie intake)."
   ]
  },
  {
   "cell_type": "code",
   "execution_count": null,
   "id": "9fd8c41d",
   "metadata": {},
   "outputs": [],
   "source": [
    "# @title #### Generate Example Survey SodaPop\n",
    "\n",
    "import pandas as pd\n",
    "import numpy as np\n",
    "\n",
    "num_customers = 500\n",
    "\n",
    "products = np.random.choice(['SodaPop Classic', 'SodaPop Zero'], num_customers)\n",
    "\n",
    "ages = np.random.randint(18, 70, num_customers)\n",
    "\n",
    "satisfaction_levels = ['Very Unsatisfied', 'Unsatisfied', 'Neutral', 'Satisfied', 'Very Satisfied']\n",
    "satisfaction = np.random.choice(satisfaction_levels, num_customers, p=[0.1, 0.1, 0.3, 0.3, 0.2])\n",
    "\n",
    "calorie_concern = np.random.choice([0, 1], num_customers, p=[0.5, 0.5])  # 0 = No, 1 = Yes\n",
    "\n",
    "df = pd.DataFrame({\n",
    "    'Product': products,\n",
    "    'Age': ages,\n",
    "    'Satisfaction': satisfaction,\n",
    "    'CalorieConcern': calorie_concern\n",
    "})\n",
    "\n",
    "df.head()"
   ]
  },
  {
   "cell_type": "markdown",
   "id": "7327e45b",
   "metadata": {},
   "source": [
    "|  | Product | Age | Satisfaction | CalorieConcern |\n",
    "| --- | --- | --- | --- | --- |\n",
    "| 0 | SodaPop Zero | 56 | Neutral | 1 |\n",
    "| 1 | SodaPop Classic | 21 | Satisfied | 1 |\n",
    "| 2 | SodaPop Zero | 56 | Unsatisfied | 0 |\n",
    "| 3 | SodaPop Classic | 55 | Satisfied | 0 |\n",
    "| 4 | SodaPop Zero | 53 | Satisfied | 0 |"
   ]
  },
  {
   "cell_type": "markdown",
   "id": "005ee889",
   "metadata": {},
   "source": [
    "Note: Do note that this generated data serves as an example and might not fully reflect the actual situation a soft drink company may encounter."
   ]
  },
  {
   "cell_type": "markdown",
   "id": "308cd5f6",
   "metadata": {},
   "source": [
    "# Applying Data Interpretation"
   ]
  },
  {
   "cell_type": "markdown",
   "id": "4f699c35",
   "metadata": {},
   "source": [
    "Nominal Data"
   ]
  },
  {
   "cell_type": "markdown",
   "id": "6b1e2977",
   "metadata": {},
   "source": [
    "Nominal data is a type of categorical data where the variables have two or more categories without having any kind of order or priority. The “name” is the meaning of the word nominal."
   ]
  },
  {
   "cell_type": "markdown",
   "id": "c804b250",
   "metadata": {},
   "source": [
    "For example, in the context of the SodaPop company, the ‘Product’ variable is a nominal data type because it classifies data into distinct categories:"
   ]
  },
  {
   "cell_type": "markdown",
   "id": "281158f1",
   "metadata": {},
   "source": [
    "These categories don’t have a specific order or hierarchy."
   ]
  },
  {
   "cell_type": "markdown",
   "id": "7e299a9d",
   "metadata": {},
   "source": [
    "Nominal data is considered Qualitative as it expresses a characteristic or quality that can be counted but not measured on a standard scale."
   ]
  },
  {
   "cell_type": "markdown",
   "id": "220641f9",
   "metadata": {},
   "source": [
    "Ordinal Data"
   ]
  },
  {
   "cell_type": "markdown",
   "id": "6e4db21a",
   "metadata": {},
   "source": [
    "Ordinal data, on the other hand, is a type of categorical data with a set order or scale to it. It’s still qualitative, but unlike nominal data, the order of the values is important."
   ]
  },
  {
   "cell_type": "markdown",
   "id": "355cb687",
   "metadata": {},
   "source": [
    "For example, in the SodaPop context, ‘Satisfaction’ is an ordinal data type. The satisfaction levels range from ‘Very Unsatisfied’ to ‘Very Satisfied’, and the order of these categories carries significant meaning:"
   ]
  },
  {
   "cell_type": "markdown",
   "id": "e1160c23",
   "metadata": {},
   "source": [
    "Ordinal data is also considered Qualitative, as it represents discrete categories that have a ranked order."
   ]
  },
  {
   "cell_type": "markdown",
   "id": "95120a96",
   "metadata": {},
   "source": [
    "Interval Data"
   ]
  },
  {
   "cell_type": "markdown",
   "id": "0ed09f05",
   "metadata": {},
   "source": [
    "We use interval data to understand the distribution of a continuous variable, like ‘Age’ of customers. We can illustrate this distribution using a histogram. The height of each bar in the histogram indicates the number of customers in a specific age range. This visual representation allows companies to identify the most common age groups among their customers, which can be useful for tailoring marketing strategies."
   ]
  },
  {
   "cell_type": "markdown",
   "id": "22bf290a",
   "metadata": {},
   "source": [
    "Here is the simplified visualization:"
   ]
  },
  {
   "cell_type": "code",
   "execution_count": null,
   "id": "99bc731f",
   "metadata": {},
   "outputs": [],
   "source": [
    "# @title #### Interval Charts\n",
    "\n",
    "import seaborn as sns\n",
    "import matplotlib.pyplot as plt\n",
    "\n",
    "sns.set_style(\"whitegrid\")\n",
    "ax = sns.histplot(df['Age'].dropna(), bins=10, color='skyblue')\n",
    "ax.set_title('Age Distribution of Customers')\n",
    "ax.set_xlabel('Age')\n",
    "ax.set_ylabel('Frequency')\n",
    "sns.despine(ax=ax, top=True, right=True)\n",
    "\n",
    "plt.show()"
   ]
  },
  {
   "cell_type": "markdown",
   "id": "efcd81d3",
   "metadata": {},
   "source": []
  },
  {
   "cell_type": "markdown",
   "id": "0b88b6fa",
   "metadata": {},
   "source": [
    "Interval data is Quantitative as it represents measurements and hence numerical values. This type of data can be measured on a scale and has a clear numerical value."
   ]
  },
  {
   "cell_type": "markdown",
   "id": "ac8b475b",
   "metadata": {},
   "source": [
    "Ratio Data"
   ]
  },
  {
   "cell_type": "markdown",
   "id": "84cd62f9",
   "metadata": {},
   "source": [
    "Ratio data helps us understand the relationship between two quantities. In our case, we calculate the ratio of customers choosing “SodaPop Classic” versus “SodaPop Zero”. This gives us insight into customer preferences."
   ]
  },
  {
   "cell_type": "markdown",
   "id": "2645064d",
   "metadata": {},
   "source": [
    "\\[\\text{{Ratio}} = \\frac{{\\text{{Classic\\ amount }}}}{{\\text{{Zeros\\ amount}}}}\\]"
   ]
  },
  {
   "cell_type": "markdown",
   "id": "58749fbe",
   "metadata": {},
   "source": [
    "Here is the simplified code:"
   ]
  },
  {
   "cell_type": "code",
   "execution_count": null,
   "id": "024f6433",
   "metadata": {},
   "outputs": [],
   "source": [
    "# @title #### Ratio\n",
    "\n",
    "classic_count = df[df['Product'] == 'SodaPop Classic'].shape[0]\n",
    "zero_count = df[df['Product'] == 'SodaPop Zero'].shape[0]\n",
    "ratio = classic_count / zero_count\n",
    "\n",
    "print(f'Number of customers who chose SodaPop Classic: {classic_count}')\n",
    "print(f'Number of customers who chose SodaPop Zero: {zero_count}')\n",
    "\n",
    "# print calculate\n",
    "print(f'The ratio of customers who chose SodaPop Classic to SodaPop Zero is {ratio:.2f}')"
   ]
  },
  {
   "cell_type": "code",
   "execution_count": null,
   "id": "eeaaceb3",
   "metadata": {},
   "outputs": [],
   "source": [
    "Number of customers who chose SodaPop Classic: 255\n",
    "Number of customers who chose SodaPop Zero: 245\n",
    "The ratio of customers who chose SodaPop Classic to SodaPop Zero is 1.04"
   ]
  },
  {
   "cell_type": "markdown",
   "id": "ec61930f",
   "metadata": {},
   "source": [
    "Ratio data is also a Quantitative data type. Like interval data, ratio data can also be ordered, added or subtracted, but in addition, it provides a clear definition of zero, and it allows for multiplication and division."
   ]
  },
  {
   "cell_type": "markdown",
   "id": "3efd1897",
   "metadata": {},
   "source": [
    "# The Importance of Data Interpretation"
   ]
  },
  {
   "cell_type": "markdown",
   "id": "878a9a58",
   "metadata": {},
   "source": [
    "Data interpretation is key for informed decision-making, trend spotting, cost efficiency, and gaining clear insights. This process is fundamental not only for businesses like “SodaPop”, but also for machine learning applications."
   ]
  },
  {
   "cell_type": "markdown",
   "id": "0ea2f0fe",
   "metadata": {},
   "source": [
    "Informed Decision Making: Interpreting data allows “SodaPop” to make fact-based decisions. For example, if “SodaPop Classic” is preferred by customers, they might increase production. This mirrors supervised machine learning, where models make predictions based on training data patterns."
   ]
  },
  {
   "cell_type": "markdown",
   "id": "5330b0d6",
   "metadata": {},
   "source": [
    "Identifying Trends: Data interpretation helps “SodaPop” spot consumer trends, like a growing demand for low-calorie drinks, leading to new product ideas. This resembles the predictive nature of machine learning, where models forecast future trends based on past data."
   ]
  },
  {
   "cell_type": "markdown",
   "id": "71fe106d",
   "metadata": {},
   "source": [
    "Cost Efficiency: Correct data interpretation can result in cost savings. If the production costs of “SodaPop Classic” are higher than its demand, cutting production might be beneficial. This is similar to optimization in machine learning, where algorithms minimize a cost function to find the best solution."
   ]
  },
  {
   "cell_type": "markdown",
   "id": "79429d60",
   "metadata": {},
   "source": [
    "Clear Insights: Through data analysis, “SodaPop” can gain valuable insights about their business, like identifying sales dips during a particular month, prompting proactive measures. This echoes the exploratory phase in machine learning, which helps select the right model."
   ]
  },
  {
   "cell_type": "markdown",
   "id": "bfa61e46",
   "metadata": {},
   "source": [
    "In short, data interpretation is vital for companies like “SodaPop”. It supports better decision-making, improves business performance, and provides a foundation for advanced machine learning applications, where data interpretation is used for predictive modeling and algorithmic decision-making."
   ]
  },
  {
   "cell_type": "markdown",
   "id": "3bc8c6d1",
   "metadata": {},
   "source": [
    "# Leveraging the “Titanic” Dataset from Hugging Face for Advanced Analysis"
   ]
  },
  {
   "cell_type": "markdown",
   "id": "c39b1e99",
   "metadata": {},
   "source": [
    "Hugging Face provides a multitude of public datasets, including the “Titanic” dataset. This dataset contains passenger details such as age, gender, passenger class, and survival status. To perform advanced analysis, we first load and inspect the dataset:"
   ]
  },
  {
   "cell_type": "code",
   "execution_count": null,
   "id": "3959fa7e",
   "metadata": {},
   "outputs": [],
   "source": [
    "import pandas as pd\n",
    "\n",
    "url = \"https://raw.githubusercontent.com/datasciencedojo/datasets/master/titanic.csv\"\n",
    "df = pd.read_csv(url)\n",
    "df.head()"
   ]
  },
  {
   "cell_type": "markdown",
   "id": "6c7bf9bd",
   "metadata": {},
   "source": [
    "|  | PassengerId | Survived | Pclass | Name | Sex | Age | SibSp | Parch | Ticket | Fare | Cabin | Embarked |\n",
    "| --- | --- | --- | --- | --- | --- | --- | --- | --- | --- | --- | --- | --- |\n",
    "| 0 | 1 | 0 | 3 | Braund, Mr. Owen Harris | male | 22.0 | 1 | 0 | A/5 21171 | 7.2500 | NaN | S |\n",
    "| 1 | 2 | 1 | 1 | Cumings, Mrs. John Bradley (Florence Briggs Th... | female | 38.0 | 1 | 0 | PC 17599 | 71.2833 | C85 | C |\n",
    "| 2 | 3 | 1 | 3 | Heikkinen, Miss. Laina | female | 26.0 | 0 | 0 | STON/O2. 3101282 | 7.9250 | NaN | S |\n",
    "| 3 | 4 | 1 | 1 | Futrelle, Mrs. Jacques Heath (Lily May Peel) | female | 35.0 | 1 | 0 | 113803 | 53.1000 | C123 | S |\n",
    "| 4 | 5 | 0 | 3 | Allen, Mr. William Henry | male | 35.0 | 0 | 0 | 373450 | 8.0500 | NaN | S |"
   ]
  },
  {
   "cell_type": "markdown",
   "id": "3bc81a8c",
   "metadata": {},
   "source": [
    "Before diving into analysis, it’s crucial to preprocess the data, particularly handling missing values. Here are some standard strategies:"
   ]
  },
  {
   "cell_type": "code",
   "execution_count": null,
   "id": "6fffcbfd",
   "metadata": {},
   "outputs": [],
   "source": [
    "# Deletes rows with missing values\n",
    "df_cleaned = df.dropna()\n",
    "\n",
    "# Removes columns with missing values\n",
    "df_cleaned = df.dropna(axis=1)\n",
    "df_cleaned.head()"
   ]
  },
  {
   "cell_type": "markdown",
   "id": "fbb7cbd7",
   "metadata": {},
   "source": [
    "|  | PassengerId | Survived | Pclass | Name | Sex | SibSp | Parch | Ticket | Fare |\n",
    "| --- | --- | --- | --- | --- | --- | --- | --- | --- | --- |\n",
    "| 0 | 1 | 0 | 3 | Braund, Mr. Owen Harris | male | 1 | 0 | A/5 21171 | 7.2500 |\n",
    "| 1 | 2 | 1 | 1 | Cumings, Mrs. John Bradley (Florence Briggs Th... | female | 1 | 0 | PC 17599 | 71.2833 |\n",
    "| 2 | 3 | 1 | 3 | Heikkinen, Miss. Laina | female | 0 | 0 | STON/O2. 3101282 | 7.9250 |\n",
    "| 3 | 4 | 1 | 1 | Futrelle, Mrs. Jacques Heath (Lily May Peel) | female | 1 | 0 | 113803 | 53.1000 |\n",
    "| 4 | 5 | 0 | 3 | Allen, Mr. William Henry | male | 0 | 0 | 373450 | 8.0500 |"
   ]
  },
  {
   "cell_type": "code",
   "execution_count": null,
   "id": "9f798dca",
   "metadata": {},
   "outputs": [],
   "source": [
    "# Only select numeric columns\n",
    "df_numeric = df.select_dtypes(include=[np.number])\n",
    "\n",
    "# Fill in the missing values with the median of each column\n",
    "df_filled_numeric = df_numeric.fillna(df_numeric.median())\n",
    "\n",
    "# Replace numeric columns in df with df_filled_numeric\n",
    "df[df_filled_numeric.columns] = df_filled_numeric\n",
    "\n",
    "df.head()"
   ]
  },
  {
   "cell_type": "markdown",
   "id": "06877d8b",
   "metadata": {},
   "source": [
    "|  | PassengerId | Survived | Pclass | Name | Sex | Age | SibSp | Parch | Ticket | Fare | Cabin | Embarked |\n",
    "| --- | --- | --- | --- | --- | --- | --- | --- | --- | --- | --- | --- | --- |\n",
    "| 0 | 1 | 0 | 3 | Braund, Mr. Owen Harris | male | 22.0 | 1 | 0 | A/5 21171 | 7.2500 | NaN | S |\n",
    "| 1 | 2 | 1 | 1 | Cumings, Mrs. John Bradley (Florence Briggs Th... | female | 38.0 | 1 | 0 | PC 17599 | 71.2833 | C85 | C |\n",
    "| 2 | 3 | 1 | 3 | Heikkinen, Miss. Laina | female | 26.0 | 0 | 0 | STON/O2. 3101282 | 7.9250 | NaN | S |\n",
    "| 3 | 4 | 1 | 1 | Futrelle, Mrs. Jacques Heath (Lily May Peel) | female | 35.0 | 1 | 0 | 113803 | 53.1000 | C123 | S |\n",
    "| 4 | 5 | 0 | 3 | Allen, Mr. William Henry | male | 35.0 | 0 | 0 | 373450 | 8.0500 | NaN | S |"
   ]
  },
  {
   "cell_type": "markdown",
   "id": "d4befeb4",
   "metadata": {},
   "source": [
    "In the Titanic dataset, the ‘Age’ column contains missing values. Let’s impute these with the median:"
   ]
  },
  {
   "cell_type": "code",
   "execution_count": null,
   "id": "f58243e3",
   "metadata": {},
   "outputs": [],
   "source": [
    "df['Age'] = df['Age'].fillna(df['Age'].median())\n",
    "df.head()"
   ]
  },
  {
   "cell_type": "markdown",
   "id": "bd4a4c3c",
   "metadata": {},
   "source": [
    "|  | PassengerId | Survived | Pclass | Name | Sex | Age | SibSp | Parch | Ticket | Fare | Cabin | Embarked |\n",
    "| --- | --- | --- | --- | --- | --- | --- | --- | --- | --- | --- | --- | --- |\n",
    "| 0 | 1 | 0 | 3 | Braund, Mr. Owen Harris | male | 22.0 | 1 | 0 | A/5 21171 | 7.2500 | NaN | S |\n",
    "| 1 | 2 | 1 | 1 | Cumings, Mrs. John Bradley (Florence Briggs Th... | female | 38.0 | 1 | 0 | PC 17599 | 71.2833 | C85 | C |\n",
    "| 2 | 3 | 1 | 3 | Heikkinen, Miss. Laina | female | 26.0 | 0 | 0 | STON/O2. 3101282 | 7.9250 | NaN | S |\n",
    "| 3 | 4 | 1 | 1 | Futrelle, Mrs. Jacques Heath (Lily May Peel) | female | 35.0 | 1 | 0 | 113803 | 53.1000 | C123 | S |\n",
    "| 4 | 5 | 0 | 3 | Allen, Mr. William Henry | male | 35.0 | 0 | 0 | 373450 | 8.0500 | NaN | S |"
   ]
  },
  {
   "cell_type": "markdown",
   "id": "89aae8ce",
   "metadata": {},
   "source": [
    "With the cleaned and processed data, we can proceed with our analysis and visualization."
   ]
  },
  {
   "cell_type": "markdown",
   "id": "a24ee301",
   "metadata": {},
   "source": [
    "# Understanding Nominal Data"
   ]
  },
  {
   "cell_type": "markdown",
   "id": "a365665c",
   "metadata": {},
   "source": [
    "Nominal data comprises categorical variables without a specific order or priority. This qualitative data type is often used for labeling variables that lack a numerical value. In the Titanic dataset, ‘sex’ and ‘embarked’ are examples of nominal data."
   ]
  },
  {
   "cell_type": "markdown",
   "id": "4dad439d",
   "metadata": {},
   "source": [
    "Analysis of nominal data typically involves determining frequencies and percentages. For instance, with the Titanic dataset, we might be interested in the distribution of passengers by gender or departure location. Visualizations like count plots can illustrate the proportion of male to female passengers, or the likelihood of passenger departure points."
   ]
  },
  {
   "cell_type": "markdown",
   "id": "8d8a05fc",
   "metadata": {},
   "source": [
    "Why is nominal data analysis useful? This information can contribute to deeper analysis or predictive models. For example, if we discover that women passengers had a higher survival rate, our model could consider this. Likewise, if Cherbourg passengers were more likely to survive, our model might factor this in."
   ]
  },
  {
   "cell_type": "markdown",
   "id": "6f4410d6",
   "metadata": {},
   "source": [
    "Essentially, this analysis provides insights into the basic passenger characteristics and might reveal factors that impact their survival rates."
   ]
  },
  {
   "cell_type": "code",
   "execution_count": null,
   "id": "2001a4b3",
   "metadata": {},
   "outputs": [],
   "source": [
    "# @title #### Nominal Charts\n",
    "\n",
    "import seaborn as sns\n",
    "import matplotlib.pyplot as plt\n",
    "\n",
    "fig, axes = plt.subplots(1, 2, figsize=(12, 6))  # 1 row, 2 columns\n",
    "\n",
    "# Warna untuk pie chart\n",
    "colors = ['#66b3ff','#99ff99','#ffcc99','#c2c2f0','#ffb3e6']\n",
    "\n",
    "# Pie chart untuk 'Sex'\n",
    "sex_counts = df['Sex'].value_counts()\n",
    "axes[0].pie(sex_counts, labels=sex_counts.index, autopct='%1.1f%%', startangle=90, colors=colors)\n",
    "axes[0].set_title('Passenger Gender Distribution', fontsize=12)\n",
    "\n",
    "# Pie chart untuk 'Embarked'\n",
    "embarked_counts = df['Embarked'].value_counts()\n",
    "axes[1].pie(embarked_counts, labels=embarked_counts.index, autopct='%1.1f%%', startangle=90, colors=colors)\n",
    "axes[1].set_title('Passenger Embarkment Distribution', fontsize=12)\n",
    "\n",
    "# Equal aspect ratio ensures that pie is drawn as a circle\n",
    "axes[0].axis('equal')\n",
    "axes[1].axis('equal')\n",
    "\n",
    "plt.tight_layout()\n",
    "plt.show()"
   ]
  },
  {
   "cell_type": "markdown",
   "id": "54ed396c",
   "metadata": {},
   "source": []
  },
  {
   "cell_type": "markdown",
   "id": "9e71cc3a",
   "metadata": {},
   "source": [
    "# Exploring Ordinal Data"
   ]
  },
  {
   "cell_type": "markdown",
   "id": "6d87e7f3",
   "metadata": {},
   "source": [
    "Ordinal data is a kind of categorical data featuring a specific order or hierarchy. An instance of ordinal data from the Titanic dataset is the ‘pclass’ column, representing the passenger class."
   ]
  },
  {
   "cell_type": "markdown",
   "id": "4abd00fa",
   "metadata": {},
   "source": [
    "Similar to nominal data, we can analyze ordinal data using frequency and percentage calculations. However, the inherent order of ordinal data allows for additional analyses not applicable to nominal data."
   ]
  },
  {
   "cell_type": "markdown",
   "id": "9dbf03df",
   "metadata": {},
   "source": [
    "For instance, we might want to compare survival rates across different passenger classes. We could find that Class 1 passengers have higher survival rates than those in Classes 2 and 3. This could help determine whether passenger ‘class’ is a significant factor affecting survival rates."
   ]
  },
  {
   "cell_type": "markdown",
   "id": "c29b69d1",
   "metadata": {},
   "source": [
    "Below is how we can visualize the distribution of passenger classes:"
   ]
  },
  {
   "cell_type": "code",
   "execution_count": null,
   "id": "b5d383fa",
   "metadata": {},
   "outputs": [],
   "source": [
    "# @title #### Ordinal Charts\n",
    "\n",
    "import warnings\n",
    "import seaborn as sns\n",
    "import matplotlib.pyplot as plt\n",
    "\n",
    "sns.set(style=\"whitegrid\")\n",
    "\n",
    "with warnings.catch_warnings():\n",
    "    warnings.simplefilter('ignore')\n",
    "    ax = sns.countplot(x='Pclass', data=df, order=[1, 2, 3], palette='viridis')\n",
    "\n",
    "plt.title('Passenger Class Distribution', fontsize=16, fontweight='bold')\n",
    "\n",
    "ax.set_xlabel('Passenger Class', fontsize=12)\n",
    "ax.set_ylabel('Count', fontsize=12)\n",
    "\n",
    "sns.despine(ax=ax, top=True, right=True)\n",
    "\n",
    "plt.show()"
   ]
  },
  {
   "cell_type": "markdown",
   "id": "fa62b03c",
   "metadata": {},
   "source": []
  },
  {
   "cell_type": "markdown",
   "id": "09b85d82",
   "metadata": {},
   "source": [
    "# Understanding Interval Data"
   ]
  },
  {
   "cell_type": "markdown",
   "id": "3df08539",
   "metadata": {},
   "source": [
    "Interval data is a numerical category which has a defined order and fixed gap between values but lacks a true zero point. The ‘age’ column from the Titanic dataset is an example of interval data."
   ]
  },
  {
   "cell_type": "markdown",
   "id": "6efe2191",
   "metadata": {},
   "source": [
    "With interval data, we can carry out all basic mathematical operations (addition, subtraction, multiplication, and division) and descriptive statistics such as mean, median, and mode. For instance, we might want to know the average passenger age or the age distribution among passengers."
   ]
  },
  {
   "cell_type": "markdown",
   "id": "c9487251",
   "metadata": {},
   "source": [
    "Below is how we can visualize the passengers’ age distribution:"
   ]
  },
  {
   "cell_type": "code",
   "execution_count": null,
   "id": "ff95de1d",
   "metadata": {},
   "outputs": [],
   "source": [
    "# @title #### Interval Charts\n",
    "\n",
    "import seaborn as sns\n",
    "import matplotlib.pyplot as plt\n",
    "\n",
    "# Atur style plot\n",
    "sns.set(style=\"whitegrid\")\n",
    "\n",
    "# Membuat histogram untuk 'Age'\n",
    "sns.histplot(data=df, x='Age', bins=30, color='skyblue', kde=True)\n",
    "\n",
    "# Judul plot dengan font yang besar dan tebal\n",
    "plt.title('Age Distribution of Passengers', fontsize=16, fontweight='bold')\n",
    "\n",
    "# Label sumbu x dan y dengan font yang lebih besar\n",
    "plt.xlabel('Age', fontsize=12)\n",
    "plt.ylabel('Frequency', fontsize=12)\n",
    "\n",
    "# Hapus garis batas atas dan kanan\n",
    "sns.despine()\n",
    "\n",
    "plt.show()"
   ]
  },
  {
   "cell_type": "markdown",
   "id": "db96121e",
   "metadata": {},
   "source": []
  },
  {
   "cell_type": "markdown",
   "id": "52906988",
   "metadata": {},
   "source": [
    "This analysis can help us understand the age distribution of passengers and may provide insight into how age might influence survival rates."
   ]
  },
  {
   "cell_type": "markdown",
   "id": "16de3e3e",
   "metadata": {},
   "source": [
    "# Investigating Ratio Data"
   ]
  },
  {
   "cell_type": "markdown",
   "id": "229439e3",
   "metadata": {},
   "source": [
    "Ratio data is a numerical type that possesses all the properties of interval data, i.e., a fixed order and a consistent distance between values; moreover, it features an absolute zero point. The ‘fare’ column in the Titanic dataset is a case of ratio data."
   ]
  },
  {
   "cell_type": "markdown",
   "id": "62d1071e",
   "metadata": {},
   "source": [
    "Like interval data, ratio data supports all basic mathematical operations and descriptive statistics, including mean, median, and mode. For instance, we might want to determine the average fare paid by passengers or the distribution of fares among passengers."
   ]
  },
  {
   "cell_type": "markdown",
   "id": "c1205b40",
   "metadata": {},
   "source": [
    "Below is how we can visualize the distribution of passenger fares:"
   ]
  },
  {
   "cell_type": "code",
   "execution_count": null,
   "id": "e8f0b2c8",
   "metadata": {},
   "outputs": [],
   "source": [
    "# @title #### Ratio Charts\n",
    "\n",
    "import seaborn as sns\n",
    "import matplotlib.pyplot as plt\n",
    "\n",
    "# Atur style plot\n",
    "sns.set_style(\"whitegrid\")\n",
    "\n",
    "# Buat plot\n",
    "ax = sns.histplot(df['Fare'].dropna(), bins=30, color='skyblue', kde=True)\n",
    "\n",
    "# Judul dan label dengan font yang besar dan tebal\n",
    "ax.set_title('Fare Distribution of Passengers', fontsize=16, fontweight='bold')\n",
    "ax.set_xlabel('Fare', fontsize=12)\n",
    "ax.set_ylabel('Frequency', fontsize=12)\n",
    "\n",
    "# Hapus garis batas atas dan kanan\n",
    "sns.despine(ax=ax, top=True, right=True)\n",
    "\n",
    "plt.show()"
   ]
  },
  {
   "cell_type": "markdown",
   "id": "cab696a5",
   "metadata": {},
   "source": []
  },
  {
   "cell_type": "markdown",
   "id": "d9627ead",
   "metadata": {},
   "source": [
    "This analysis can help us understand the distribution of passenger fares and may provide insight into how fares might affect survival rates."
   ]
  }
 ],
 "metadata": {},
 "nbformat": 4,
 "nbformat_minor": 5
}
