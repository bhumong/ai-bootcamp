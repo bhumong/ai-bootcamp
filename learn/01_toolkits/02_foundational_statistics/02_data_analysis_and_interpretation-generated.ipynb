{
 "cells": [
  {
   "cell_type": "markdown",
   "id": "e7a5e068",
   "metadata": {},
   "source": [
    "# Data Analysis and Interpretation"
   ]
  },
  {
   "cell_type": "markdown",
   "id": "162fd96a",
   "metadata": {},
   "source": []
  },
  {
   "cell_type": "markdown",
   "id": "afe68393",
   "metadata": {},
   "source": [
    "Data Interpretation Art (Source datapine.com)"
   ]
  },
  {
   "cell_type": "markdown",
   "id": "37f0f753",
   "metadata": {},
   "source": [
    "# Why Interpret Data?"
   ]
  },
  {
   "cell_type": "markdown",
   "id": "43538868",
   "metadata": {},
   "source": [
    "Data interpretation is not just a statistical process; it’s a strategic tool that helps businesses make informed decisions. It’s also a fundamental step in preparing for the exciting world of machine learning."
   ]
  },
  {
   "cell_type": "markdown",
   "id": "a146d996",
   "metadata": {},
   "source": [
    "Why do businesses like ‘SodaPop’, a soft drink company, need to delve into data interpretation? 🤔 The answer lies in the need to answer crucial business questions, such as:"
   ]
  },
  {
   "cell_type": "markdown",
   "id": "d776313d",
   "metadata": {},
   "source": [
    "In the case of ‘SodaPop’, they face a challenge. They have gathered customer survey data but are unsure how to interpret it to gain valuable insights about customer preferences. This is where data interpretation comes in."
   ]
  },
  {
   "cell_type": "markdown",
   "id": "a8ff71de",
   "metadata": {},
   "source": [
    "# Data Interpretation: A Critical Precursor to Machine Learning"
   ]
  },
  {
   "cell_type": "markdown",
   "id": "c733279b",
   "metadata": {},
   "source": [
    "For instance, some customers might prefer “SodaPop Classic” due to its taste, while others might select “SodaPop Zero” for its lower calorie content. The interpretation process helps SodaPop uncover these consumer preferences and behaviors, setting the stage for predictive modeling and algorithmic decision-making in machine learning."
   ]
  },
  {
   "cell_type": "markdown",
   "id": "37561e21",
   "metadata": {},
   "source": [
    "Data interpretation comes in two general flavors, both of which are intimately linked to machine learning:"
   ]
  },
  {
   "cell_type": "markdown",
   "id": "113d0048",
   "metadata": {},
   "source": [
    "Before embarking on the data interpretation journey, SodaPop needs to decide on the data measurement scale. They might categorize data by product (a nominal scale), sort it by customer satisfaction level (an ordinal scale), analyze the distribution of customer ages (an interval scale) or analyze the ratio of customers who choose “SodaPop Classic” compared to “SodaPop Zero” (a ratio scale)."
   ]
  },
  {
   "cell_type": "markdown",
   "id": "573c7d8d",
   "metadata": {},
   "source": [
    "With the measurement scale selected, SodaPop can now choose the interpretation process that best suits their data needs. They might perform a trend analysis to understand how customer preferences change over time or a correlation analysis to see the relationship between variables like age and product preferences."
   ]
  },
  {
   "cell_type": "markdown",
   "id": "49f3c0aa",
   "metadata": {},
   "source": [
    "# Data Interpretation in Practice: The SodaPop Example"
   ]
  },
  {
   "cell_type": "markdown",
   "id": "8810c9e5",
   "metadata": {},
   "source": [
    "Imagine we have survey data from the SodaPop company. This data includes columns for ‘Product’ (the product the customer chose), ‘Age’ (the customer’s age), ‘Satisfaction’ (the level of customer satisfaction), and ‘CalorieConcern’ (whether the customer is conscious about calorie intake)."
   ]
  },
  {
   "cell_type": "code",
   "execution_count": null,
   "id": "ed6f343d",
   "metadata": {},
   "outputs": [],
   "source": [
    "# @title #### Generate Example Survey SodaPop\n",
    "\n",
    "import pandas as pd\n",
    "import numpy as np\n",
    "\n",
    "num_customers = 500\n",
    "\n",
    "products = np.random.choice(['SodaPop Classic', 'SodaPop Zero'], num_customers)\n",
    "\n",
    "ages = np.random.randint(18, 70, num_customers)\n",
    "\n",
    "satisfaction_levels = ['Very Unsatisfied', 'Unsatisfied', 'Neutral', 'Satisfied', 'Very Satisfied']\n",
    "satisfaction = np.random.choice(satisfaction_levels, num_customers, p=[0.1, 0.1, 0.3, 0.3, 0.2])\n",
    "\n",
    "calorie_concern = np.random.choice([0, 1], num_customers, p=[0.5, 0.5])  # 0 = No, 1 = Yes\n",
    "\n",
    "df = pd.DataFrame({\n",
    "    'Product': products,\n",
    "    'Age': ages,\n",
    "    'Satisfaction': satisfaction,\n",
    "    'CalorieConcern': calorie_concern\n",
    "})\n",
    "\n",
    "df.head()"
   ]
  },
  {
   "cell_type": "markdown",
   "id": "5dd3cc12",
   "metadata": {},
   "source": [
    "Note: Do note that this generated data serves as an example and might not fully reflect the actual situation a soft drink company may encounter."
   ]
  },
  {
   "cell_type": "markdown",
   "id": "dc25af3d",
   "metadata": {},
   "source": [
    "# Applying Data Interpretation"
   ]
  },
  {
   "cell_type": "markdown",
   "id": "6242753a",
   "metadata": {},
   "source": [
    "Nominal Data"
   ]
  },
  {
   "cell_type": "markdown",
   "id": "2fdd9d27",
   "metadata": {},
   "source": [
    "Nominal data is a type of categorical data where the variables have two or more categories without having any kind of order or priority. The “name” is the meaning of the word nominal."
   ]
  },
  {
   "cell_type": "markdown",
   "id": "1f0fd9f1",
   "metadata": {},
   "source": [
    "For example, in the context of the SodaPop company, the ‘Product’ variable is a nominal data type because it classifies data into distinct categories:"
   ]
  },
  {
   "cell_type": "markdown",
   "id": "e1692863",
   "metadata": {},
   "source": [
    "These categories don’t have a specific order or hierarchy."
   ]
  },
  {
   "cell_type": "markdown",
   "id": "64461656",
   "metadata": {},
   "source": [
    "Nominal data is considered Qualitative as it expresses a characteristic or quality that can be counted but not measured on a standard scale."
   ]
  },
  {
   "cell_type": "markdown",
   "id": "97918c0d",
   "metadata": {},
   "source": [
    "Ordinal Data"
   ]
  },
  {
   "cell_type": "markdown",
   "id": "3a5ee51a",
   "metadata": {},
   "source": [
    "Ordinal data, on the other hand, is a type of categorical data with a set order or scale to it. It’s still qualitative, but unlike nominal data, the order of the values is important."
   ]
  },
  {
   "cell_type": "markdown",
   "id": "0138d2e4",
   "metadata": {},
   "source": [
    "For example, in the SodaPop context, ‘Satisfaction’ is an ordinal data type. The satisfaction levels range from ‘Very Unsatisfied’ to ‘Very Satisfied’, and the order of these categories carries significant meaning:"
   ]
  },
  {
   "cell_type": "markdown",
   "id": "b767d6f4",
   "metadata": {},
   "source": [
    "Ordinal data is also considered Qualitative, as it represents discrete categories that have a ranked order."
   ]
  },
  {
   "cell_type": "markdown",
   "id": "a8e6733c",
   "metadata": {},
   "source": [
    "Interval Data"
   ]
  },
  {
   "cell_type": "markdown",
   "id": "61609eb9",
   "metadata": {},
   "source": [
    "We use interval data to understand the distribution of a continuous variable, like ‘Age’ of customers. We can illustrate this distribution using a histogram. The height of each bar in the histogram indicates the number of customers in a specific age range. This visual representation allows companies to identify the most common age groups among their customers, which can be useful for tailoring marketing strategies."
   ]
  },
  {
   "cell_type": "markdown",
   "id": "68bdc779",
   "metadata": {},
   "source": [
    "Here is the simplified visualization:"
   ]
  },
  {
   "cell_type": "code",
   "execution_count": null,
   "id": "e8c45b4b",
   "metadata": {},
   "outputs": [],
   "source": [
    "# @title #### Interval Charts\n",
    "\n",
    "import seaborn as sns\n",
    "import matplotlib.pyplot as plt\n",
    "\n",
    "sns.set_style(\"whitegrid\")\n",
    "ax = sns.histplot(df['Age'].dropna(), bins=10, color='skyblue')\n",
    "ax.set_title('Age Distribution of Customers')\n",
    "ax.set_xlabel('Age')\n",
    "ax.set_ylabel('Frequency')\n",
    "sns.despine(ax=ax, top=True, right=True)\n",
    "\n",
    "plt.show()"
   ]
  },
  {
   "cell_type": "markdown",
   "id": "00621f40",
   "metadata": {},
   "source": []
  },
  {
   "cell_type": "markdown",
   "id": "7a623349",
   "metadata": {},
   "source": [
    "Interval data is Quantitative as it represents measurements and hence numerical values. This type of data can be measured on a scale and has a clear numerical value."
   ]
  },
  {
   "cell_type": "markdown",
   "id": "06d97332",
   "metadata": {},
   "source": [
    "Ratio Data"
   ]
  },
  {
   "cell_type": "markdown",
   "id": "2fb34a26",
   "metadata": {},
   "source": [
    "Ratio data helps us understand the relationship between two quantities. In our case, we calculate the ratio of customers choosing “SodaPop Classic” versus “SodaPop Zero”. This gives us insight into customer preferences."
   ]
  },
  {
   "cell_type": "markdown",
   "id": "06e9a3ad",
   "metadata": {},
   "source": [
    "\\[\\text{{Ratio}} = \\frac{{\\text{{Classic\\ amount }}}}{{\\text{{Zeros\\ amount}}}}\\]"
   ]
  },
  {
   "cell_type": "markdown",
   "id": "8deb0069",
   "metadata": {},
   "source": [
    "Here is the simplified code:"
   ]
  },
  {
   "cell_type": "code",
   "execution_count": null,
   "id": "3f286258",
   "metadata": {},
   "outputs": [],
   "source": [
    "# @title #### Ratio\n",
    "\n",
    "classic_count = df[df['Product'] == 'SodaPop Classic'].shape[0]\n",
    "zero_count = df[df['Product'] == 'SodaPop Zero'].shape[0]\n",
    "ratio = classic_count / zero_count\n",
    "\n",
    "print(f'Number of customers who chose SodaPop Classic: {classic_count}')\n",
    "print(f'Number of customers who chose SodaPop Zero: {zero_count}')\n",
    "\n",
    "# print calculate\n",
    "print(f'The ratio of customers who chose SodaPop Classic to SodaPop Zero is {ratio:.2f}')"
   ]
  },
  {
   "cell_type": "code",
   "execution_count": null,
   "id": "a1b60c11",
   "metadata": {},
   "outputs": [],
   "source": [
    "Number of customers who chose SodaPop Classic: 255\n",
    "Number of customers who chose SodaPop Zero: 245\n",
    "The ratio of customers who chose SodaPop Classic to SodaPop Zero is 1.04"
   ]
  },
  {
   "cell_type": "markdown",
   "id": "37e9fe5f",
   "metadata": {},
   "source": [
    "Ratio data is also a Quantitative data type. Like interval data, ratio data can also be ordered, added or subtracted, but in addition, it provides a clear definition of zero, and it allows for multiplication and division."
   ]
  },
  {
   "cell_type": "markdown",
   "id": "8acc8984",
   "metadata": {},
   "source": [
    "# The Importance of Data Interpretation"
   ]
  },
  {
   "cell_type": "markdown",
   "id": "67fa31be",
   "metadata": {},
   "source": [
    "Data interpretation is key for informed decision-making, trend spotting, cost efficiency, and gaining clear insights. This process is fundamental not only for businesses like “SodaPop”, but also for machine learning applications."
   ]
  },
  {
   "cell_type": "markdown",
   "id": "9658153d",
   "metadata": {},
   "source": [
    "Informed Decision Making: Interpreting data allows “SodaPop” to make fact-based decisions. For example, if “SodaPop Classic” is preferred by customers, they might increase production. This mirrors supervised machine learning, where models make predictions based on training data patterns."
   ]
  },
  {
   "cell_type": "markdown",
   "id": "4fc92a8b",
   "metadata": {},
   "source": [
    "Identifying Trends: Data interpretation helps “SodaPop” spot consumer trends, like a growing demand for low-calorie drinks, leading to new product ideas. This resembles the predictive nature of machine learning, where models forecast future trends based on past data."
   ]
  },
  {
   "cell_type": "markdown",
   "id": "0a4c135e",
   "metadata": {},
   "source": [
    "Cost Efficiency: Correct data interpretation can result in cost savings. If the production costs of “SodaPop Classic” are higher than its demand, cutting production might be beneficial. This is similar to optimization in machine learning, where algorithms minimize a cost function to find the best solution."
   ]
  },
  {
   "cell_type": "markdown",
   "id": "bfab06d9",
   "metadata": {},
   "source": [
    "Clear Insights: Through data analysis, “SodaPop” can gain valuable insights about their business, like identifying sales dips during a particular month, prompting proactive measures. This echoes the exploratory phase in machine learning, which helps select the right model."
   ]
  },
  {
   "cell_type": "markdown",
   "id": "fba19246",
   "metadata": {},
   "source": [
    "In short, data interpretation is vital for companies like “SodaPop”. It supports better decision-making, improves business performance, and provides a foundation for advanced machine learning applications, where data interpretation is used for predictive modeling and algorithmic decision-making."
   ]
  },
  {
   "cell_type": "markdown",
   "id": "43e76795",
   "metadata": {},
   "source": [
    "# Leveraging the “Titanic” Dataset from Hugging Face for Advanced Analysis"
   ]
  },
  {
   "cell_type": "markdown",
   "id": "089717f8",
   "metadata": {},
   "source": [
    "Hugging Face provides a multitude of public datasets, including the “Titanic” dataset. This dataset contains passenger details such as age, gender, passenger class, and survival status. To perform advanced analysis, we first load and inspect the dataset:"
   ]
  },
  {
   "cell_type": "code",
   "execution_count": null,
   "id": "fe61d557",
   "metadata": {},
   "outputs": [],
   "source": [
    "import pandas as pd\n",
    "\n",
    "url = \"https://raw.githubusercontent.com/datasciencedojo/datasets/master/titanic.csv\"\n",
    "df = pd.read_csv(url)\n",
    "df.head()"
   ]
  },
  {
   "cell_type": "markdown",
   "id": "e72920cd",
   "metadata": {},
   "source": [
    "Before diving into analysis, it’s crucial to preprocess the data, particularly handling missing values. Here are some standard strategies:"
   ]
  },
  {
   "cell_type": "code",
   "execution_count": null,
   "id": "8a820fb7",
   "metadata": {},
   "outputs": [],
   "source": [
    "# Deletes rows with missing values\n",
    "df_cleaned = df.dropna()\n",
    "\n",
    "# Removes columns with missing values\n",
    "df_cleaned = df.dropna(axis=1)\n",
    "df_cleaned.head()"
   ]
  },
  {
   "cell_type": "code",
   "execution_count": null,
   "id": "37243ba5",
   "metadata": {},
   "outputs": [],
   "source": [
    "# Only select numeric columns\n",
    "df_numeric = df.select_dtypes(include=[np.number])\n",
    "\n",
    "# Fill in the missing values with the median of each column\n",
    "df_filled_numeric = df_numeric.fillna(df_numeric.median())\n",
    "\n",
    "# Replace numeric columns in df with df_filled_numeric\n",
    "df[df_filled_numeric.columns] = df_filled_numeric\n",
    "\n",
    "df.head()"
   ]
  },
  {
   "cell_type": "markdown",
   "id": "eafe7b60",
   "metadata": {},
   "source": [
    "In the Titanic dataset, the ‘Age’ column contains missing values. Let’s impute these with the median:"
   ]
  },
  {
   "cell_type": "code",
   "execution_count": null,
   "id": "18efe56c",
   "metadata": {},
   "outputs": [],
   "source": [
    "df['Age'] = df['Age'].fillna(df['Age'].median())\n",
    "df.head()"
   ]
  },
  {
   "cell_type": "markdown",
   "id": "600baa08",
   "metadata": {},
   "source": [
    "With the cleaned and processed data, we can proceed with our analysis and visualization."
   ]
  },
  {
   "cell_type": "markdown",
   "id": "30f4ba0b",
   "metadata": {},
   "source": [
    "# Understanding Nominal Data"
   ]
  },
  {
   "cell_type": "markdown",
   "id": "be90ba01",
   "metadata": {},
   "source": [
    "Nominal data comprises categorical variables without a specific order or priority. This qualitative data type is often used for labeling variables that lack a numerical value. In the Titanic dataset, ‘sex’ and ‘embarked’ are examples of nominal data."
   ]
  },
  {
   "cell_type": "markdown",
   "id": "042a0d44",
   "metadata": {},
   "source": [
    "Analysis of nominal data typically involves determining frequencies and percentages. For instance, with the Titanic dataset, we might be interested in the distribution of passengers by gender or departure location. Visualizations like count plots can illustrate the proportion of male to female passengers, or the likelihood of passenger departure points."
   ]
  },
  {
   "cell_type": "markdown",
   "id": "ceaca8b5",
   "metadata": {},
   "source": [
    "Why is nominal data analysis useful? This information can contribute to deeper analysis or predictive models. For example, if we discover that women passengers had a higher survival rate, our model could consider this. Likewise, if Cherbourg passengers were more likely to survive, our model might factor this in."
   ]
  },
  {
   "cell_type": "markdown",
   "id": "7b3ca5b3",
   "metadata": {},
   "source": [
    "Essentially, this analysis provides insights into the basic passenger characteristics and might reveal factors that impact their survival rates."
   ]
  },
  {
   "cell_type": "code",
   "execution_count": null,
   "id": "d6534173",
   "metadata": {},
   "outputs": [],
   "source": [
    "# @title #### Nominal Charts\n",
    "\n",
    "import seaborn as sns\n",
    "import matplotlib.pyplot as plt\n",
    "\n",
    "fig, axes = plt.subplots(1, 2, figsize=(12, 6))  # 1 row, 2 columns\n",
    "\n",
    "# Warna untuk pie chart\n",
    "colors = ['#66b3ff','#99ff99','#ffcc99','#c2c2f0','#ffb3e6']\n",
    "\n",
    "# Pie chart untuk 'Sex'\n",
    "sex_counts = df['Sex'].value_counts()\n",
    "axes[0].pie(sex_counts, labels=sex_counts.index, autopct='%1.1f%%', startangle=90, colors=colors)\n",
    "axes[0].set_title('Passenger Gender Distribution', fontsize=12)\n",
    "\n",
    "# Pie chart untuk 'Embarked'\n",
    "embarked_counts = df['Embarked'].value_counts()\n",
    "axes[1].pie(embarked_counts, labels=embarked_counts.index, autopct='%1.1f%%', startangle=90, colors=colors)\n",
    "axes[1].set_title('Passenger Embarkment Distribution', fontsize=12)\n",
    "\n",
    "# Equal aspect ratio ensures that pie is drawn as a circle\n",
    "axes[0].axis('equal')\n",
    "axes[1].axis('equal')\n",
    "\n",
    "plt.tight_layout()\n",
    "plt.show()"
   ]
  },
  {
   "cell_type": "markdown",
   "id": "b63d7463",
   "metadata": {},
   "source": []
  },
  {
   "cell_type": "markdown",
   "id": "100dc0e6",
   "metadata": {},
   "source": [
    "# Exploring Ordinal Data"
   ]
  },
  {
   "cell_type": "markdown",
   "id": "54301b11",
   "metadata": {},
   "source": [
    "Ordinal data is a kind of categorical data featuring a specific order or hierarchy. An instance of ordinal data from the Titanic dataset is the ‘pclass’ column, representing the passenger class."
   ]
  },
  {
   "cell_type": "markdown",
   "id": "755fc62a",
   "metadata": {},
   "source": [
    "Similar to nominal data, we can analyze ordinal data using frequency and percentage calculations. However, the inherent order of ordinal data allows for additional analyses not applicable to nominal data."
   ]
  },
  {
   "cell_type": "markdown",
   "id": "7ee2d4a6",
   "metadata": {},
   "source": [
    "For instance, we might want to compare survival rates across different passenger classes. We could find that Class 1 passengers have higher survival rates than those in Classes 2 and 3. This could help determine whether passenger ‘class’ is a significant factor affecting survival rates."
   ]
  },
  {
   "cell_type": "markdown",
   "id": "32221994",
   "metadata": {},
   "source": [
    "Below is how we can visualize the distribution of passenger classes:"
   ]
  },
  {
   "cell_type": "code",
   "execution_count": null,
   "id": "8431fa2b",
   "metadata": {},
   "outputs": [],
   "source": [
    "# @title #### Ordinal Charts\n",
    "\n",
    "import warnings\n",
    "import seaborn as sns\n",
    "import matplotlib.pyplot as plt\n",
    "\n",
    "sns.set(style=\"whitegrid\")\n",
    "\n",
    "with warnings.catch_warnings():\n",
    "    warnings.simplefilter('ignore')\n",
    "    ax = sns.countplot(x='Pclass', data=df, order=[1, 2, 3], palette='viridis')\n",
    "\n",
    "plt.title('Passenger Class Distribution', fontsize=16, fontweight='bold')\n",
    "\n",
    "ax.set_xlabel('Passenger Class', fontsize=12)\n",
    "ax.set_ylabel('Count', fontsize=12)\n",
    "\n",
    "sns.despine(ax=ax, top=True, right=True)\n",
    "\n",
    "plt.show()"
   ]
  },
  {
   "cell_type": "markdown",
   "id": "467d5598",
   "metadata": {},
   "source": []
  },
  {
   "cell_type": "markdown",
   "id": "cac727a9",
   "metadata": {},
   "source": [
    "# Understanding Interval Data"
   ]
  },
  {
   "cell_type": "markdown",
   "id": "729376d7",
   "metadata": {},
   "source": [
    "Interval data is a numerical category which has a defined order and fixed gap between values but lacks a true zero point. The ‘age’ column from the Titanic dataset is an example of interval data."
   ]
  },
  {
   "cell_type": "markdown",
   "id": "7ee4469b",
   "metadata": {},
   "source": [
    "With interval data, we can carry out all basic mathematical operations (addition, subtraction, multiplication, and division) and descriptive statistics such as mean, median, and mode. For instance, we might want to know the average passenger age or the age distribution among passengers."
   ]
  },
  {
   "cell_type": "markdown",
   "id": "fedf7b1d",
   "metadata": {},
   "source": [
    "Below is how we can visualize the passengers’ age distribution:"
   ]
  },
  {
   "cell_type": "code",
   "execution_count": null,
   "id": "2b82cb24",
   "metadata": {},
   "outputs": [],
   "source": [
    "# @title #### Interval Charts\n",
    "\n",
    "import seaborn as sns\n",
    "import matplotlib.pyplot as plt\n",
    "\n",
    "# Atur style plot\n",
    "sns.set(style=\"whitegrid\")\n",
    "\n",
    "# Membuat histogram untuk 'Age'\n",
    "sns.histplot(data=df, x='Age', bins=30, color='skyblue', kde=True)\n",
    "\n",
    "# Judul plot dengan font yang besar dan tebal\n",
    "plt.title('Age Distribution of Passengers', fontsize=16, fontweight='bold')\n",
    "\n",
    "# Label sumbu x dan y dengan font yang lebih besar\n",
    "plt.xlabel('Age', fontsize=12)\n",
    "plt.ylabel('Frequency', fontsize=12)\n",
    "\n",
    "# Hapus garis batas atas dan kanan\n",
    "sns.despine()\n",
    "\n",
    "plt.show()"
   ]
  },
  {
   "cell_type": "markdown",
   "id": "efa40dbe",
   "metadata": {},
   "source": []
  },
  {
   "cell_type": "markdown",
   "id": "41262d2f",
   "metadata": {},
   "source": [
    "This analysis can help us understand the age distribution of passengers and may provide insight into how age might influence survival rates."
   ]
  },
  {
   "cell_type": "markdown",
   "id": "7296ba27",
   "metadata": {},
   "source": [
    "# Investigating Ratio Data"
   ]
  },
  {
   "cell_type": "markdown",
   "id": "33a9f36a",
   "metadata": {},
   "source": [
    "Ratio data is a numerical type that possesses all the properties of interval data, i.e., a fixed order and a consistent distance between values; moreover, it features an absolute zero point. The ‘fare’ column in the Titanic dataset is a case of ratio data."
   ]
  },
  {
   "cell_type": "markdown",
   "id": "8b59532c",
   "metadata": {},
   "source": [
    "Like interval data, ratio data supports all basic mathematical operations and descriptive statistics, including mean, median, and mode. For instance, we might want to determine the average fare paid by passengers or the distribution of fares among passengers."
   ]
  },
  {
   "cell_type": "markdown",
   "id": "12de6788",
   "metadata": {},
   "source": [
    "Below is how we can visualize the distribution of passenger fares:"
   ]
  },
  {
   "cell_type": "code",
   "execution_count": null,
   "id": "03f7487b",
   "metadata": {},
   "outputs": [],
   "source": [
    "# @title #### Ratio Charts\n",
    "\n",
    "import seaborn as sns\n",
    "import matplotlib.pyplot as plt\n",
    "\n",
    "# Atur style plot\n",
    "sns.set_style(\"whitegrid\")\n",
    "\n",
    "# Buat plot\n",
    "ax = sns.histplot(df['Fare'].dropna(), bins=30, color='skyblue', kde=True)\n",
    "\n",
    "# Judul dan label dengan font yang besar dan tebal\n",
    "ax.set_title('Fare Distribution of Passengers', fontsize=16, fontweight='bold')\n",
    "ax.set_xlabel('Fare', fontsize=12)\n",
    "ax.set_ylabel('Frequency', fontsize=12)\n",
    "\n",
    "# Hapus garis batas atas dan kanan\n",
    "sns.despine(ax=ax, top=True, right=True)\n",
    "\n",
    "plt.show()"
   ]
  },
  {
   "cell_type": "markdown",
   "id": "544dad61",
   "metadata": {},
   "source": []
  },
  {
   "cell_type": "markdown",
   "id": "e24377ea",
   "metadata": {},
   "source": [
    "This analysis can help us understand the distribution of passenger fares and may provide insight into how fares might affect survival rates."
   ]
  }
 ],
 "metadata": {},
 "nbformat": 4,
 "nbformat_minor": 5
}
