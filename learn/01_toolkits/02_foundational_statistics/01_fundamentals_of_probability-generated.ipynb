{
 "cells": [
  {
   "cell_type": "markdown",
   "id": "9fe993cd",
   "metadata": {},
   "source": [
    "source: [link](https://ai-bootcamp.ruangguru.com/learn/01_toolkits/02_foundational_statistics/01_fundamentals_of_probability.html)"
   ]
  },
  {
   "cell_type": "markdown",
   "id": "c171f0d9",
   "metadata": {},
   "source": [
    "# Fundamentals of Probability"
   ]
  },
  {
   "cell_type": "markdown",
   "id": "a6cfa96b",
   "metadata": {},
   "source": [
    "This topic explores crucial theories for machine and deep learning, focusing on probability theory and distributions. We’ll cover:"
   ]
  },
  {
   "cell_type": "markdown",
   "id": "39454f29",
   "metadata": {},
   "source": [
    "We’ll then build our first probability frequency distribution, getting hands-on with permutations and their real-world applications. We’ll illustrate the differences between variations and permutations:"
   ]
  },
  {
   "cell_type": "markdown",
   "id": "3c9225fb",
   "metadata": {},
   "source": [
    "These concepts are vital for understanding examples in various fields."
   ]
  },
  {
   "cell_type": "markdown",
   "id": "74458a80",
   "metadata": {},
   "source": [
    "# Introduction"
   ]
  },
  {
   "cell_type": "markdown",
   "id": "a23d7d86",
   "metadata": {},
   "source": [
    "Life is full of uncertainties that often lead us to ask questions like: - What’s the best route to take for a journey? - Will it rain tomorrow? - Is it wise to invest in a certain financial product?"
   ]
  },
  {
   "cell_type": "markdown",
   "id": "8598cdd0",
   "metadata": {},
   "source": [
    "These questions require us to predict outcomes, and the methods we use to navigate these uncertainties are rooted in the fields of probability and statistics."
   ]
  },
  {
   "cell_type": "markdown",
   "id": "d759d505",
   "metadata": {},
   "source": [
    "These very principles form the bedrock of machine learning algorithms, enabling them to learn from data, make predictions, and improve over time."
   ]
  },
  {
   "cell_type": "markdown",
   "id": "74e8b04b",
   "metadata": {},
   "source": [
    "So, what’s probability? 🤔 It’s simply the likelihood of an event occurring. An “event” in probability denotes a specific or a combination of outcomes, like:"
   ]
  },
  {
   "cell_type": "markdown",
   "id": "c9374dac",
   "metadata": {},
   "source": [
    "For example, a coin toss isn’t a single-probability event as it can result in head or tails. We need to assign a probability for each outcome."
   ]
  },
  {
   "cell_type": "markdown",
   "id": "5e41e057",
   "metadata": {},
   "source": [
    "The outcomes can be: - “Head > Tail” - “Head = Tail” - “Head < Tail”."
   ]
  },
  {
   "cell_type": "markdown",
   "id": "0817b4da",
   "metadata": {},
   "source": [
    "Understanding uncertainty involves measuring and comparing probabilities to know which event is more likely. We represent probabilities numerically."
   ]
  },
  {
   "cell_type": "markdown",
   "id": "2686aedf",
   "metadata": {},
   "source": [
    "Probabilities can be percentages or fractions, but we typically express them as numbers between zero and one. For instance, 20% or \\(\\frac{1}{5}\\) will be written as 0.2."
   ]
  },
  {
   "cell_type": "markdown",
   "id": "2a1c97b2",
   "metadata": {},
   "source": [
    "Interpreting probability values: - 1 stands for the absolute certainty of an event, - 0 implies the event will certainly not happen. - Higher values indicate higher likelihoods."
   ]
  },
  {
   "cell_type": "markdown",
   "id": "13cc75e4",
   "metadata": {},
   "source": [
    "Most events will have probabilities between 0 and 1, so figures like 0.2, 0.5, and 0.66 are common."
   ]
  },
  {
   "cell_type": "markdown",
   "id": "8609df11",
   "metadata": {},
   "source": [
    "Let’s take a look at probabilities of events occuring and not occuring given the chances are equal:"
   ]
  },
  {
   "cell_type": "code",
   "execution_count": null,
   "id": "0ce0293a",
   "metadata": {},
   "outputs": [],
   "source": [
    "# @title #### Probabilities\n",
    "\n",
    "import matplotlib.pyplot as plt\n",
    "import numpy as np\n",
    "\n",
    "x = np.linspace(0, 1, 100)\n",
    "y = x \n",
    "\n",
    "plt.figure(figsize=(12, 8))\n",
    "plt.fill_between(x, y, color=\"skyblue\", alpha=0.3)\n",
    "\n",
    "plt.plot(x, y, color=\"Steelblue\", alpha=0.9, linewidth=2.5, label='Probability line')\n",
    "\n",
    "plt.scatter([0.2], [0], color='red', s=100, label='x = 0.2', edgecolors='black')\n",
    "plt.scatter([0.5], [0], color='green', s=100, label='x = 0.5', edgecolors='black')\n",
    "plt.scatter([0.66], [0], color='purple', s=100, label='x = 0.66', edgecolors='black')\n",
    "\n",
    "plt.xlabel('Event not occuring', fontsize=14)\n",
    "plt.ylabel('Event occuring', fontsize=14)\n",
    "\n",
    "plt.title('Probabilities', fontsize=18, pad=25)\n",
    "plt.legend(loc='upper left')\n",
    "\n",
    "plt.text(0.15, 0.15, '0: Absolute certainty of the event NOT occuring', ha='center', fontsize=10, bbox=dict(facecolor='white', edgecolor='black', boxstyle='round,pad=0.5'))\n",
    "plt.text(0.85, 0.85, '1: Absolute certainty of the event occuring', ha='center', fontsize=10, bbox=dict(facecolor='white', edgecolor='black', boxstyle='round,pad=0.5'))\n",
    "plt.text(1.05, 1, 'Higher likelihood', ha='center', fontsize=10, va='center')\n",
    "\n",
    "plt.xticks(np.arange(0, 1.1, 0.1)) \n",
    "plt.yticks(np.arange(0, 1.1, 0.1))\n",
    "\n",
    "plt.grid(True, linestyle='-.', alpha=0.4)\n",
    "\n",
    "plt.show()"
   ]
  },
  {
   "cell_type": "markdown",
   "id": "5e036d3c",
   "metadata": {},
   "source": []
  },
  {
   "cell_type": "markdown",
   "id": "18a7136d",
   "metadata": {},
   "source": [
    "As you can see, given all things are equal, the probabilities can be drawn as a straight line."
   ]
  },
  {
   "cell_type": "markdown",
   "id": "5bc7065b",
   "metadata": {},
   "source": [
    "# Favorable Outcomes"
   ]
  },
  {
   "cell_type": "markdown",
   "id": "67f46c61",
   "metadata": {},
   "source": [
    "Even without exact probabilities, it’s intuitive that some events are likelier. For instance, winning a coin toss is more probable than the lottery. Let’s take a look:"
   ]
  },
  {
   "cell_type": "markdown",
   "id": "6b0c328e",
   "metadata": {},
   "source": [
    "The probability of an event \\(A\\), denoted as \\(P(A)\\), is the ratio of desirable outcomes to total outcomes. Preferred or “favorable” outcomes are the results we aim for, while the sample space comprises all possible outcomes."
   ]
  },
  {
   "cell_type": "markdown",
   "id": "f3291429",
   "metadata": {},
   "source": [
    "\\[P(A)= \\frac{preferred}{all} \\to \\frac{favourable}{sample \\ space}\\]"
   ]
  },
  {
   "cell_type": "markdown",
   "id": "eb579af5",
   "metadata": {},
   "source": [
    "🪙 Coin flip"
   ]
  },
  {
   "cell_type": "markdown",
   "id": "2d25197f",
   "metadata": {},
   "source": [
    "If event \\(A\\) is flipping a coin for Heads, it’s the only desired outcome. With two possible outcomes, Heads or Tails, the probability is:"
   ]
  },
  {
   "cell_type": "markdown",
   "id": "f81699af",
   "metadata": {},
   "source": [
    "\\[P(A)= \\frac{1}{2} = 0.5\\]"
   ]
  },
  {
   "cell_type": "markdown",
   "id": "8950c914",
   "metadata": {},
   "source": [
    "🎲 Six-sided die roll"
   ]
  },
  {
   "cell_type": "markdown",
   "id": "de3f68ea",
   "metadata": {},
   "source": [
    "With a six-sided die, if we wish to roll a \\(4\\), the desired outcome is \\(1\\), with \\(6\\) possible outcomes. This gives a probability of:"
   ]
  },
  {
   "cell_type": "markdown",
   "id": "17d4101a",
   "metadata": {},
   "source": [
    "\\[P(A) = \\frac{1}{6} = 0.167\\]"
   ]
  },
  {
   "cell_type": "markdown",
   "id": "e0540e06",
   "metadata": {},
   "source": [
    "If we want a number divisible by 3, i.e., 3 or 6, desired outcomes are 2, giving a probability of:"
   ]
  },
  {
   "cell_type": "markdown",
   "id": "fc7284f1",
   "metadata": {},
   "source": [
    "\\[P(A) = \\frac{2}{6} = 0.33\\]"
   ]
  },
  {
   "cell_type": "markdown",
   "id": "e2776281",
   "metadata": {},
   "source": [
    "🎟️ Winning the lottery"
   ]
  },
  {
   "cell_type": "markdown",
   "id": "4fcafe04",
   "metadata": {},
   "source": [
    "With the lottery, you divide the number of tickets bought by all possible outcomes. Given there are over 175 million outcomes, each ticket’s probability is:"
   ]
  },
  {
   "cell_type": "markdown",
   "id": "f11235ce",
   "metadata": {},
   "source": [
    "\\[P(A)= \\frac{1}{175 000 000} = 0.000 000 005\\]"
   ]
  },
  {
   "cell_type": "markdown",
   "id": "fb3b8810",
   "metadata": {},
   "source": [
    "Buying more tickets increases the winning probability. Comparing this with a coin toss, the latter is more likely."
   ]
  },
  {
   "cell_type": "markdown",
   "id": "dd99af12",
   "metadata": {},
   "source": [
    "| Coin | Lottery |\n",
    "| --- | --- |\n",
    "| 🪙 | 🎟️ |\n",
    "| 0.5 | 0.000 000 005 |"
   ]
  },
  {
   "cell_type": "markdown",
   "id": "99b88c9a",
   "metadata": {},
   "source": [
    "# Expected Values"
   ]
  },
  {
   "cell_type": "markdown",
   "id": "610aff3f",
   "metadata": {},
   "source": [
    "The Expected Value in probability is the average outcome if an experiment is repeated 🧪. It can be estimated through multiple trials. The experimental probability is calculated by dividing successful trials by all trials:"
   ]
  },
  {
   "cell_type": "markdown",
   "id": "ee2b359e",
   "metadata": {},
   "source": [
    "\\[P(A) = \\frac{\\text{successful trial}}{\\text{all trials}}\\]"
   ]
  },
  {
   "cell_type": "markdown",
   "id": "c5570bea",
   "metadata": {},
   "source": [
    "The Expected Value of an event \\(A\\), \\(E(A)\\), is the anticipated result of an experiment. It’s found by multiplying the event’s theoretical probability \\(P(A)\\) by the number of trials \\(n\\)."
   ]
  },
  {
   "cell_type": "markdown",
   "id": "b16c9b51",
   "metadata": {},
   "source": [
    "\\[E(A) = P(A) \\times n\\]"
   ]
  },
  {
   "cell_type": "markdown",
   "id": "595ba8a9",
   "metadata": {},
   "source": [
    "Where:"
   ]
  },
  {
   "cell_type": "markdown",
   "id": "54ba20a3",
   "metadata": {},
   "source": [
    "🃏 Playing cards"
   ]
  },
  {
   "cell_type": "markdown",
   "id": "c878e335",
   "metadata": {},
   "source": [
    "For instance, we try to calculate the expected value of taking a “Spade ♠” type card in \\(20\\) card draws. It is known that the probability of picking a “Spade ♠” suit card (if it is assumed that we choose from a standard set of cards) is \\(0.25\\) or \\(1/4\\), because there are \\(13\\) “Spade ♠” cards out of a total of \\(52\\) cards."
   ]
  },
  {
   "cell_type": "markdown",
   "id": "ea7daf3c",
   "metadata": {},
   "source": [
    "\\[E(A) = 0.25 \\times 20 = 5\\]"
   ]
  },
  {
   "cell_type": "markdown",
   "id": "5c697b72",
   "metadata": {},
   "source": [
    "This suggests we expect to draw a spade 5 times, though actual results may vary."
   ]
  },
  {
   "cell_type": "markdown",
   "id": "1922ece2",
   "metadata": {},
   "source": [
    "Having understood the concept of expected value in the context of drawing Spades from a deck of cards, let’s now consider a different scenario."
   ]
  },
  {
   "cell_type": "markdown",
   "id": "d075a87a",
   "metadata": {},
   "source": [
    "🎯 Bullseye"
   ]
  },
  {
   "cell_type": "markdown",
   "id": "c15411ae",
   "metadata": {},
   "source": [
    "Imagine playing a game of darts where hitting the bullseye is our event of interest. Let’s say that after practicing, we found that our probability of hitting the bullseye is \\(1/3\\). If we throw the dart \\(20\\) times, we can calculate our expected number of bullseyes as follows:"
   ]
  },
  {
   "cell_type": "markdown",
   "id": "862d45d9",
   "metadata": {},
   "source": [
    "\\[E(Bullseye) = \\frac{1}{3} \\times 20 = 6.67\\]"
   ]
  },
  {
   "cell_type": "markdown",
   "id": "5cdd48da",
   "metadata": {},
   "source": [
    "This suggests we expect to hit the bullseye about 7 times, although actual results may vary."
   ]
  },
  {
   "cell_type": "markdown",
   "id": "41497290",
   "metadata": {},
   "source": [
    "However, the real world often presents us with scenarios that are more complex than a single event. In many cases, we have multiple outcomes, each with its own associated probability. This is where the concept of expected value for numerical outcomes comes into play."
   ]
  },
  {
   "cell_type": "markdown",
   "id": "2310bff0",
   "metadata": {},
   "source": [
    "In Numerical Outcomes, the expected value is the sum of each possible outcome multiplied by its respective probability. This is essentially a way to calculate a weighted average of all possible outcomes, where the weight for each outcome is its probability."
   ]
  },
  {
   "cell_type": "markdown",
   "id": "36f4a1cc",
   "metadata": {},
   "source": [
    "\\[E(X) = A.P(A) + B.P(B) + C.P(C) + ...\\]"
   ]
  },
  {
   "cell_type": "markdown",
   "id": "c885e722",
   "metadata": {},
   "source": [
    "Where:"
   ]
  },
  {
   "cell_type": "markdown",
   "id": "3c89434b",
   "metadata": {},
   "source": [
    "🎯Archery"
   ]
  },
  {
   "cell_type": "markdown",
   "id": "ca3e4d48",
   "metadata": {},
   "source": [
    "To illustrate this, let’s consider an archery target 🎯 with three layers:"
   ]
  },
  {
   "cell_type": "markdown",
   "id": "06671d16",
   "metadata": {},
   "source": [
    "In practice, these probability values may be based on empirical data or previous observations."
   ]
  },
  {
   "cell_type": "markdown",
   "id": "bc450165",
   "metadata": {},
   "source": [
    "The expected value for this scenario is:"
   ]
  },
  {
   "cell_type": "markdown",
   "id": "187447c9",
   "metadata": {},
   "source": [
    "\\[E(X) = 0.5 \\cdot 10 + 0.4 \\cdot 20 + 0.1 \\cdot 100 = 5 + 8 + 10 = 23\\]"
   ]
  },
  {
   "cell_type": "markdown",
   "id": "3fdd6437",
   "metadata": {},
   "source": [
    "So, if we take a lot of shots, our average expected score per shot is 23 points. (The more tries we take, the closer our average score will get to this expected value)"
   ]
  },
  {
   "cell_type": "markdown",
   "id": "cfdacfc6",
   "metadata": {},
   "source": [
    "What is this done for? This is usually useful in forecasting, such as weather prediction, where ranges are given due to inherent uncertainty. However, the results are sometimes equivocal or uninformative."
   ]
  },
  {
   "cell_type": "markdown",
   "id": "a691a7be",
   "metadata": {},
   "source": [
    "So far we have look at a single example, what if we have two events occuring at the same time?"
   ]
  },
  {
   "cell_type": "markdown",
   "id": "9b9632a2",
   "metadata": {},
   "source": [
    "Understanding Expected Value (E(A))"
   ]
  },
  {
   "cell_type": "markdown",
   "id": "1e035cae",
   "metadata": {},
   "source": [
    "Imagine a scenario where you roll two six-sided dice and add the numbers that come up on top. With six potential results for each die, the possible outcomes for the sum, denoted as \\(A\\), are:"
   ]
  },
  {
   "cell_type": "markdown",
   "id": "241f9a52",
   "metadata": {},
   "source": [
    "\\[A = 🎲(⚀⚁⚂⚃⚄⚅) + 🎲 (⚀⚁⚂⚃⚄⚅)\\]"
   ]
  },
  {
   "cell_type": "markdown",
   "id": "836d8792",
   "metadata": {},
   "source": [
    "The table below illustrates the sum of the die rolls for each possible outcome:"
   ]
  },
  {
   "cell_type": "markdown",
   "id": "c7f4cccc",
   "metadata": {},
   "source": [
    "| Die 1  Die 2 | ⚀ 1 | ⚁ 2 | ⚂ 3 | ⚃ 4 | ⚄ 5 | ⚅ 6 |\n",
    "| --- | --- | --- | --- | --- | --- | --- |\n",
    "| ⚀ 1 | 2 | 3 | 4 | 5 | 6 | 7 |\n",
    "| ⚁ 2 | 3 | 4 | 5 | 6 | 7 | 8 |\n",
    "| ⚂ 3 | 4 | 5 | 6 | 7 | 8 | 9 |\n",
    "| ⚃ 4 | 5 | 6 | 7 | 8 | 9 | 10 |\n",
    "| ⚄ 5 | 6 | 7 | 8 | 9 | 10 | 11 |\n",
    "| ⚅ 6 | 7 | 8 | 9 | 10 | 11 | 12 |"
   ]
  },
  {
   "cell_type": "markdown",
   "id": "02dd2dd0",
   "metadata": {},
   "source": [
    "In total, there are \\(6 \\times 6 = 36\\) possible outcomes."
   ]
  },
  {
   "cell_type": "markdown",
   "id": "97f30027",
   "metadata": {},
   "source": [
    "The number 7 appears 6 times among these 36 outcomes, which means the probability of the sum being 7 when rolling two dice, \\(P(7)\\) is \\(\\frac{6}{36} = \\frac{1}{6}\\)"
   ]
  },
  {
   "cell_type": "markdown",
   "id": "d6d095ba",
   "metadata": {},
   "source": [
    "The expected value of this scenario, \\(E(A)\\), is calculated by summing the product of each possible outcome and its probability:"
   ]
  },
  {
   "cell_type": "markdown",
   "id": "5f837356",
   "metadata": {},
   "source": [
    "\\[E(A) = P(2).2+P(3).3 + ... + P(12).12 = 7\\]"
   ]
  },
  {
   "cell_type": "markdown",
   "id": "abf1dd12",
   "metadata": {},
   "source": [
    "This formula gives us the “center” of the probability distribution or the average outcome expected if we were to repeat this dice roll many times. In this case, the expected value is 7."
   ]
  },
  {
   "cell_type": "markdown",
   "id": "2cbab875",
   "metadata": {},
   "source": [
    "However, it’s crucial to understand that the expected value being 7 does not mean that 7 is a “likely” outcome. With a probability of only one-sixth, the sum of 7, although the most probable single outcome, is not likely in absolute terms. So, betting on exactly 7 wouldn’t be a reasonable strategy."
   ]
  },
  {
   "cell_type": "markdown",
   "id": "573ead65",
   "metadata": {},
   "source": [
    "\\[P[E(A)] = P(7) = 1/6\\]"
   ]
  },
  {
   "cell_type": "markdown",
   "id": "adbb1fc3",
   "metadata": {},
   "source": [
    "This shows us that probability quantifies the likelihood of each individual event."
   ]
  },
  {
   "cell_type": "markdown",
   "id": "4be93690",
   "metadata": {},
   "source": [
    "A probability frequency distribution can help visualize all possible outcomes and their corresponding probabilities, highlighting how some outcomes are more probable than others, but no single outcome is “likely” in absolute terms."
   ]
  },
  {
   "cell_type": "markdown",
   "id": "2d393433",
   "metadata": {},
   "source": [
    "# Probability frequency distribution"
   ]
  },
  {
   "cell_type": "markdown",
   "id": "c7369ff5",
   "metadata": {},
   "source": [
    "In a probability frequency distribution, we note the frequency of each unique sum from the sample space."
   ]
  },
  {
   "cell_type": "markdown",
   "id": "9e47411e",
   "metadata": {},
   "source": [
    "| Sum | Frequency |\n",
    "| --- | --- |\n",
    "| 2 | 1 |\n",
    "| 3 | 2 |\n",
    "| 4 | 3 |\n",
    "| 5 | 4 |\n",
    "| 6 | 5 |\n",
    "| 7 | 6 |\n",
    "| 8 | 5 |\n",
    "| 9 | 4 |\n",
    "| 10 | 3 |\n",
    "| 11 | 2 |\n",
    "| 12 | 1 |"
   ]
  },
  {
   "cell_type": "markdown",
   "id": "805c4bf0",
   "metadata": {},
   "source": [
    "For instance, the sum 8 occurs 5 times, so its frequency is 5."
   ]
  },
  {
   "cell_type": "markdown",
   "id": "0fcbd1d6",
   "metadata": {},
   "source": [
    "To convert frequencies into probabilities, divide each frequency by the sample size (36). This produces a probability frequency distribution."
   ]
  },
  {
   "cell_type": "markdown",
   "id": "9e99bea8",
   "metadata": {},
   "source": [
    "| Sum | Frequency | Probability |\n",
    "| --- | --- | --- |\n",
    "| 2 | 1 | 1/36 |\n",
    "| 3 | 2 | 1/18 |\n",
    "| 4 | 3 | 1/12 |\n",
    "| 5 | 4 | 1/9 |\n",
    "| 6 | 5 | 5/36 |\n",
    "| 7 | 6 | 1/6 |\n",
    "| 8 | 5 | 5/36 |\n",
    "| 9 | 4 | 1/9 |\n",
    "| 10 | 3 | 1/12 |\n",
    "| 11 | 2 | 1/18 |\n",
    "| 12 | 1 | 1/36 |"
   ]
  },
  {
   "cell_type": "markdown",
   "id": "b47cabb7",
   "metadata": {},
   "source": [
    "This distribution can be shown in a table or a graph."
   ]
  },
  {
   "cell_type": "code",
   "execution_count": null,
   "id": "972daf11",
   "metadata": {},
   "outputs": [],
   "source": [
    "import matplotlib.pyplot as plt\n",
    "import pandas as pd\n",
    "from fractions import Fraction\n",
    "\n",
    "data = {'Sum': [2, 3, 4, 5, 6, 7, 8, 9, 10, 11, 12],\n",
    "        'Frequency': [1, 2, 3, 4, 5, 6, 5, 4, 3, 2, 1],\n",
    "        'Probability': [1/36, 1/18, 1/12, 1/9, 5/36, 1/6, 5/36, 1/9, 1/12, 1/18, 1/36]}\n",
    "\n",
    "df = pd.DataFrame(data)\n",
    "\n",
    "plt.figure(figsize=(10, 7))\n",
    "\n",
    "plt.bar(df['Sum'], df['Probability'], color='skyblue')\n",
    "\n",
    "plt.xlabel('Sum', fontsize=12)\n",
    "plt.ylabel('Probability', fontsize=12)\n",
    "\n",
    "fractions = [str(Fraction(i).limit_denominator()) for i in df['Probability'].unique()]\n",
    "plt.yticks(df['Probability'].unique(), labels=fractions)\n",
    "\n",
    "plt.title('Probability Frequency Distribution', fontsize=15, pad=20)\n",
    "\n",
    "plt.xticks(df['Sum'])\n",
    "\n",
    "plt.grid(True, linestyle='--', alpha=0.6)\n",
    "\n",
    "plt.show()"
   ]
  },
  {
   "cell_type": "markdown",
   "id": "49c18988",
   "metadata": {},
   "source": []
  },
  {
   "cell_type": "markdown",
   "id": "9c334e8a",
   "metadata": {},
   "source": [
    "In rolling two dice, the number 7 is likeliest. There are more ways to sum to 7 (1+6, 2+5, 3+4, 4+3, 5+2, 6+1) than to any other number."
   ]
  },
  {
   "cell_type": "markdown",
   "id": "530db8b6",
   "metadata": {},
   "source": [
    "Over many trials, 7 will appear more often. So, if guessing a roll’s outcome, 7 is the most reasonable choice based on probability. However, as each roll is an independent random event, a 7 isn’t guaranteed in any particular roll."
   ]
  },
  {
   "cell_type": "markdown",
   "id": "5e757b8a",
   "metadata": {},
   "source": [
    "This means the outcome of each die does not depend on the outcome of the other die, or on any previous rolls."
   ]
  },
  {
   "cell_type": "markdown",
   "id": "914b3974",
   "metadata": {},
   "source": [
    "For instance, let’s say you roll a pair of dice and get a 3 and a 4. The next time you roll the dice, the chances of getting any specific number (1 through 6) on each die remain exactly the same. Getting a 3 and a 4 on the first roll has no impact on the results of the second roll."
   ]
  },
  {
   "cell_type": "markdown",
   "id": "a2e7523a",
   "metadata": {},
   "source": [
    "This is the key characteristic of independent random events: - The outcome of one event does not influence the outcome of another."
   ]
  },
  {
   "cell_type": "markdown",
   "id": "49b8e58f",
   "metadata": {},
   "source": [
    "So in the context of rolling dice, each roll is its own unique event with the same probabilities each time, regardless of what numbers have come up in the past."
   ]
  },
  {
   "cell_type": "markdown",
   "id": "f2291e59",
   "metadata": {},
   "source": [
    "# Complements"
   ]
  },
  {
   "cell_type": "markdown",
   "id": "fce2aca1",
   "metadata": {},
   "source": [
    "In probability, an event’s complement is everything the event doesn’t include, completing the sample space."
   ]
  },
  {
   "cell_type": "markdown",
   "id": "dd778d8d",
   "metadata": {},
   "source": [
    "The total probability is the sum of different events’ probabilities."
   ]
  },
  {
   "cell_type": "markdown",
   "id": "520ddfa5",
   "metadata": {},
   "source": [
    "\\[A + A^c = \\text{sample space  A}\\]"
   ]
  },
  {
   "cell_type": "markdown",
   "id": "0a802516",
   "metadata": {},
   "source": [
    "Where:"
   ]
  },
  {
   "cell_type": "markdown",
   "id": "a4346219",
   "metadata": {},
   "source": [
    "The basic concept in probability is that the total of all possible outcomes is always equal to one, indicating 100% certainty that one of the outcomes will occur."
   ]
  },
  {
   "cell_type": "markdown",
   "id": "be050ba0",
   "metadata": {},
   "source": [
    "Suppose we have three possible outcomes in an experiment, we can call them A, B, and C."
   ]
  },
  {
   "cell_type": "markdown",
   "id": "2d281fc6",
   "metadata": {},
   "source": [
    "If we add up the probabilities of all possible outcomes, the sum must equal 1."
   ]
  },
  {
   "cell_type": "markdown",
   "id": "919f7244",
   "metadata": {},
   "source": [
    "\\[P(A) + P(B) + P(C) = 1 \\rightarrow 100 \\% \\ \\text{{Certain}}\\]"
   ]
  },
  {
   "cell_type": "markdown",
   "id": "00e59e80",
   "metadata": {},
   "source": [
    "In other words, there is 100% certainty that one of A, B, or C will occur."
   ]
  },
  {
   "cell_type": "markdown",
   "id": "47f8ce77",
   "metadata": {},
   "source": [
    "Let’s clarify this with examples."
   ]
  },
  {
   "cell_type": "markdown",
   "id": "5673f285",
   "metadata": {},
   "source": [
    "🪙 Coin Toss"
   ]
  },
  {
   "cell_type": "markdown",
   "id": "8b3f2aa1",
   "metadata": {},
   "source": [
    "Consider flipping a coin. The outcomes—heads or tails—are guaranteed. Thus, accounting for these sums the total probability to 1."
   ]
  },
  {
   "cell_type": "markdown",
   "id": "82cad543",
   "metadata": {},
   "source": [
    "\\[A \\rightarrow (Heads) \\ \\ B \\rightarrow (Tails)\\]"
   ]
  },
  {
   "cell_type": "markdown",
   "id": "a432338e",
   "metadata": {},
   "source": [
    "\\[P(A) + P(B) = 1\\]"
   ]
  },
  {
   "cell_type": "markdown",
   "id": "e31da4d2",
   "metadata": {},
   "source": [
    "What happens if \\(P(A) + P(B) > 1\\)?"
   ]
  },
  {
   "cell_type": "markdown",
   "id": "f2f8c8ec",
   "metadata": {},
   "source": [
    "A total probability greater than 1 lacks intuitive sense since probabilities denote absolute certainty. An example of this could be when some outcomes simultaneously occur, causing double-counting of outcomes. We’ll handle this with Bayesian notation later."
   ]
  },
  {
   "cell_type": "markdown",
   "id": "356fcc86",
   "metadata": {},
   "source": [
    "What happens if \\(P(A) + P(B) < 1\\)?"
   ]
  },
  {
   "cell_type": "markdown",
   "id": "c82ea9a3",
   "metadata": {},
   "source": [
    "If the sum of probabilities is less than 1, we’ve not accounted for some outcomes."
   ]
  },
  {
   "cell_type": "markdown",
   "id": "64f263ca",
   "metadata": {},
   "source": [
    "Before proceeding, note that each event has a complement (denoted by \\('\\)). For instance, complement of \\(A\\) is \\(A'\\)."
   ]
  },
  {
   "cell_type": "markdown",
   "id": "0094f79b",
   "metadata": {},
   "source": [
    "\\[A' \\leftarrow Complement\\]"
   ]
  },
  {
   "cell_type": "markdown",
   "id": "8455e2fe",
   "metadata": {},
   "source": [
    "The complement of a complement is the event itself: \\((A')' = A\\)."
   ]
  },
  {
   "cell_type": "markdown",
   "id": "b27c4c53",
   "metadata": {},
   "source": [
    "🎲 Rolling a die"
   ]
  },
  {
   "cell_type": "markdown",
   "id": "8a60a023",
   "metadata": {},
   "source": [
    "Consider rolling a six-sided die intending to roll an even number. The complement is rolling an odd number."
   ]
  },
  {
   "cell_type": "markdown",
   "id": "56eb27ea",
   "metadata": {},
   "source": [
    "\\[A = B\\]"
   ]
  },
  {
   "cell_type": "markdown",
   "id": "618c2646",
   "metadata": {},
   "source": [
    "Calculating the complement involves taking 1 minus the probability of the event."
   ]
  },
  {
   "cell_type": "markdown",
   "id": "f12387e1",
   "metadata": {},
   "source": [
    "All possible outcomes are \\(A\\), \\(B\\), and \\(C\\), and their probabilities must add up to 1"
   ]
  },
  {
   "cell_type": "markdown",
   "id": "93171900",
   "metadata": {},
   "source": [
    "\\[P(A) + P(B) + P(C) = 1\\]"
   ]
  },
  {
   "cell_type": "markdown",
   "id": "86141822",
   "metadata": {},
   "source": [
    "In this case, \\(A\\) (the complement of \\(A\\)) is equal to \\(B\\) plus \\(C\\) (\\(A' = B + C\\)) and the probability is:"
   ]
  },
  {
   "cell_type": "markdown",
   "id": "cd583089",
   "metadata": {},
   "source": [
    "\\[P(A') = 1 - P(A)\\]"
   ]
  },
  {
   "cell_type": "markdown",
   "id": "15a9c77e",
   "metadata": {},
   "source": [
    "Considering the example of rolling a 1, 2, 4, 5, or 6 (i.e., not a 3), the total probability is the sum of these outcomes’ probabilities. Since each outcome has a probability of one-sixth, the sum is 5/6."
   ]
  },
  {
   "cell_type": "markdown",
   "id": "a816be27",
   "metadata": {},
   "source": [
    "\\[P(A) = ⚀ + ⚁ + ⚃ + ⚄ + ⚅\\]"
   ]
  },
  {
   "cell_type": "markdown",
   "id": "b0955e18",
   "metadata": {},
   "source": [
    "\\[P(A) = P(1) + P(2) + P(4) + P(5) + P(6)\\]"
   ]
  },
  {
   "cell_type": "markdown",
   "id": "34134c42",
   "metadata": {},
   "source": [
    "\\[= \\frac{1}{6} + \\frac{1}{6} + \\frac{1}{6} + \\frac{1}{6} + \\frac{1}{6} = \\frac{5}{6}\\]"
   ]
  },
  {
   "cell_type": "markdown",
   "id": "56d471bb",
   "metadata": {},
   "source": [
    "Now we consider \\(B\\) where we don’t get a 3 when rolling the dice, and \\(B'\\) is a 3, then:"
   ]
  },
  {
   "cell_type": "markdown",
   "id": "a783b5f7",
   "metadata": {},
   "source": [
    "\\[P(B') = \\frac{1}{6}\\]"
   ]
  },
  {
   "cell_type": "markdown",
   "id": "f19bc644",
   "metadata": {},
   "source": [
    "And \\(P(B)\\) is the complement of \\(B'\\), so that:"
   ]
  },
  {
   "cell_type": "markdown",
   "id": "c2b5752c",
   "metadata": {},
   "source": [
    "\\[P(B) = 1 - P(B') = 1 - \\frac{1}{6} = \\frac{5}{6}\\]"
   ]
  },
  {
   "cell_type": "markdown",
   "id": "74c484cc",
   "metadata": {},
   "source": [
    "Thus, the probability of getting any number except 3 (i.e., \\(P(A)\\)) is equal to the probability of \\(P(B)\\)."
   ]
  },
  {
   "cell_type": "markdown",
   "id": "8f83b387",
   "metadata": {},
   "source": [
    "\\[P(A) = \\frac{5}{6} = P(B)\\]"
   ]
  }
 ],
 "metadata": {},
 "nbformat": 4,
 "nbformat_minor": 5
}
