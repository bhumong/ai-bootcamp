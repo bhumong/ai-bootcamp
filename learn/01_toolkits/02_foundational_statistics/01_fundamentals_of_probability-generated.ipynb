{
 "cells": [
  {
   "cell_type": "markdown",
   "id": "cf7663e1",
   "metadata": {},
   "source": [
    "# Fundamentals of Probability"
   ]
  },
  {
   "cell_type": "markdown",
   "id": "8424f77d",
   "metadata": {},
   "source": [
    "This topic explores crucial theories for machine and deep learning, focusing on probability theory and distributions. We’ll cover:"
   ]
  },
  {
   "cell_type": "markdown",
   "id": "957b13cb",
   "metadata": {},
   "source": [
    "We’ll then build our first probability frequency distribution, getting hands-on with permutations and their real-world applications. We’ll illustrate the differences between variations and permutations:"
   ]
  },
  {
   "cell_type": "markdown",
   "id": "6641a0c6",
   "metadata": {},
   "source": [
    "These concepts are vital for understanding examples in various fields."
   ]
  },
  {
   "cell_type": "markdown",
   "id": "adc99a36",
   "metadata": {},
   "source": [
    "# Introduction"
   ]
  },
  {
   "cell_type": "markdown",
   "id": "bc9dda08",
   "metadata": {},
   "source": [
    "Life is full of uncertainties that often lead us to ask questions like: - What’s the best route to take for a journey? - Will it rain tomorrow? - Is it wise to invest in a certain financial product?"
   ]
  },
  {
   "cell_type": "markdown",
   "id": "27f2eb16",
   "metadata": {},
   "source": [
    "These questions require us to predict outcomes, and the methods we use to navigate these uncertainties are rooted in the fields of probability and statistics."
   ]
  },
  {
   "cell_type": "markdown",
   "id": "9e123487",
   "metadata": {},
   "source": [
    "These very principles form the bedrock of machine learning algorithms, enabling them to learn from data, make predictions, and improve over time."
   ]
  },
  {
   "cell_type": "markdown",
   "id": "2c1d6c0b",
   "metadata": {},
   "source": [
    "So, what’s probability? 🤔 It’s simply the likelihood of an event occurring. An “event” in probability denotes a specific or a combination of outcomes, like:"
   ]
  },
  {
   "cell_type": "markdown",
   "id": "1e9e8ec0",
   "metadata": {},
   "source": [
    "For example, a coin toss isn’t a single-probability event as it can result in head or tails. We need to assign a probability for each outcome."
   ]
  },
  {
   "cell_type": "markdown",
   "id": "9f21e52a",
   "metadata": {},
   "source": [
    "The outcomes can be: - “Head > Tail” - “Head = Tail” - “Head < Tail”."
   ]
  },
  {
   "cell_type": "markdown",
   "id": "e0878613",
   "metadata": {},
   "source": [
    "Understanding uncertainty involves measuring and comparing probabilities to know which event is more likely. We represent probabilities numerically."
   ]
  },
  {
   "cell_type": "markdown",
   "id": "984a4a5b",
   "metadata": {},
   "source": [
    "Probabilities can be percentages or fractions, but we typically express them as numbers between zero and one. For instance, 20% or \\(\\frac{1}{5}\\) will be written as 0.2."
   ]
  },
  {
   "cell_type": "markdown",
   "id": "af62dbaf",
   "metadata": {},
   "source": [
    "Interpreting probability values: - 1 stands for the absolute certainty of an event, - 0 implies the event will certainly not happen. - Higher values indicate higher likelihoods."
   ]
  },
  {
   "cell_type": "markdown",
   "id": "543dcbbc",
   "metadata": {},
   "source": [
    "Most events will have probabilities between 0 and 1, so figures like 0.2, 0.5, and 0.66 are common."
   ]
  },
  {
   "cell_type": "markdown",
   "id": "274be11b",
   "metadata": {},
   "source": [
    "Let’s take a look at probabilities of events occuring and not occuring given the chances are equal:"
   ]
  },
  {
   "cell_type": "code",
   "execution_count": null,
   "id": "dd6b58d3",
   "metadata": {},
   "outputs": [],
   "source": [
    "# @title #### Probabilities\n",
    "\n",
    "import matplotlib.pyplot as plt\n",
    "import numpy as np\n",
    "\n",
    "x = np.linspace(0, 1, 100)\n",
    "y = x \n",
    "\n",
    "plt.figure(figsize=(12, 8))\n",
    "plt.fill_between(x, y, color=\"skyblue\", alpha=0.3)\n",
    "\n",
    "plt.plot(x, y, color=\"Steelblue\", alpha=0.9, linewidth=2.5, label='Probability line')\n",
    "\n",
    "plt.scatter([0.2], [0], color='red', s=100, label='x = 0.2', edgecolors='black')\n",
    "plt.scatter([0.5], [0], color='green', s=100, label='x = 0.5', edgecolors='black')\n",
    "plt.scatter([0.66], [0], color='purple', s=100, label='x = 0.66', edgecolors='black')\n",
    "\n",
    "plt.xlabel('Event not occuring', fontsize=14)\n",
    "plt.ylabel('Event occuring', fontsize=14)\n",
    "\n",
    "plt.title('Probabilities', fontsize=18, pad=25)\n",
    "plt.legend(loc='upper left')\n",
    "\n",
    "plt.text(0.15, 0.15, '0: Absolute certainty of the event NOT occuring', ha='center', fontsize=10, bbox=dict(facecolor='white', edgecolor='black', boxstyle='round,pad=0.5'))\n",
    "plt.text(0.85, 0.85, '1: Absolute certainty of the event occuring', ha='center', fontsize=10, bbox=dict(facecolor='white', edgecolor='black', boxstyle='round,pad=0.5'))\n",
    "plt.text(1.05, 1, 'Higher likelihood', ha='center', fontsize=10, va='center')\n",
    "\n",
    "plt.xticks(np.arange(0, 1.1, 0.1)) \n",
    "plt.yticks(np.arange(0, 1.1, 0.1))\n",
    "\n",
    "plt.grid(True, linestyle='-.', alpha=0.4)\n",
    "\n",
    "plt.show()"
   ]
  },
  {
   "cell_type": "markdown",
   "id": "e9e63934",
   "metadata": {},
   "source": []
  },
  {
   "cell_type": "markdown",
   "id": "53802a7b",
   "metadata": {},
   "source": [
    "As you can see, given all things are equal, the probabilities can be drawn as a straight line."
   ]
  },
  {
   "cell_type": "markdown",
   "id": "bce76cac",
   "metadata": {},
   "source": [
    "# Favorable Outcomes"
   ]
  },
  {
   "cell_type": "markdown",
   "id": "06436f52",
   "metadata": {},
   "source": [
    "Even without exact probabilities, it’s intuitive that some events are likelier. For instance, winning a coin toss is more probable than the lottery. Let’s take a look:"
   ]
  },
  {
   "cell_type": "markdown",
   "id": "6f6e753f",
   "metadata": {},
   "source": [
    "The probability of an event \\(A\\), denoted as \\(P(A)\\), is the ratio of desirable outcomes to total outcomes. Preferred or “favorable” outcomes are the results we aim for, while the sample space comprises all possible outcomes."
   ]
  },
  {
   "cell_type": "markdown",
   "id": "7af93189",
   "metadata": {},
   "source": [
    "\\[P(A)= \\frac{preferred}{all} \\to \\frac{favourable}{sample \\ space}\\]"
   ]
  },
  {
   "cell_type": "markdown",
   "id": "73b4f5fd",
   "metadata": {},
   "source": [
    "🪙 Coin flip"
   ]
  },
  {
   "cell_type": "markdown",
   "id": "d477f989",
   "metadata": {},
   "source": [
    "If event \\(A\\) is flipping a coin for Heads, it’s the only desired outcome. With two possible outcomes, Heads or Tails, the probability is:"
   ]
  },
  {
   "cell_type": "markdown",
   "id": "f6a82b36",
   "metadata": {},
   "source": [
    "\\[P(A)= \\frac{1}{2} = 0.5\\]"
   ]
  },
  {
   "cell_type": "markdown",
   "id": "27bb39bb",
   "metadata": {},
   "source": [
    "🎲 Six-sided die roll"
   ]
  },
  {
   "cell_type": "markdown",
   "id": "ed41aa9d",
   "metadata": {},
   "source": [
    "With a six-sided die, if we wish to roll a \\(4\\), the desired outcome is \\(1\\), with \\(6\\) possible outcomes. This gives a probability of:"
   ]
  },
  {
   "cell_type": "markdown",
   "id": "83bacd3f",
   "metadata": {},
   "source": [
    "\\[P(A) = \\frac{1}{6} = 0.167\\]"
   ]
  },
  {
   "cell_type": "markdown",
   "id": "651617ae",
   "metadata": {},
   "source": [
    "If we want a number divisible by 3, i.e., 3 or 6, desired outcomes are 2, giving a probability of:"
   ]
  },
  {
   "cell_type": "markdown",
   "id": "89bbb1bf",
   "metadata": {},
   "source": [
    "\\[P(A) = \\frac{2}{6} = 0.33\\]"
   ]
  },
  {
   "cell_type": "markdown",
   "id": "4f9ef3c6",
   "metadata": {},
   "source": [
    "🎟️ Winning the lottery"
   ]
  },
  {
   "cell_type": "markdown",
   "id": "ce31e043",
   "metadata": {},
   "source": [
    "With the lottery, you divide the number of tickets bought by all possible outcomes. Given there are over 175 million outcomes, each ticket’s probability is:"
   ]
  },
  {
   "cell_type": "markdown",
   "id": "3f1992f4",
   "metadata": {},
   "source": [
    "\\[P(A)= \\frac{1}{175 000 000} = 0.000 000 005\\]"
   ]
  },
  {
   "cell_type": "markdown",
   "id": "6c123e0e",
   "metadata": {},
   "source": [
    "Buying more tickets increases the winning probability. Comparing this with a coin toss, the latter is more likely."
   ]
  },
  {
   "cell_type": "markdown",
   "id": "d06ce6d5",
   "metadata": {},
   "source": [
    "# Expected Values"
   ]
  },
  {
   "cell_type": "markdown",
   "id": "e1a98cf7",
   "metadata": {},
   "source": [
    "The Expected Value in probability is the average outcome if an experiment is repeated 🧪. It can be estimated through multiple trials. The experimental probability is calculated by dividing successful trials by all trials:"
   ]
  },
  {
   "cell_type": "markdown",
   "id": "60d62631",
   "metadata": {},
   "source": [
    "\\[P(A) = \\frac{\\text{successful trial}}{\\text{all trials}}\\]"
   ]
  },
  {
   "cell_type": "markdown",
   "id": "2b6129ee",
   "metadata": {},
   "source": [
    "The Expected Value of an event \\(A\\), \\(E(A)\\), is the anticipated result of an experiment. It’s found by multiplying the event’s theoretical probability \\(P(A)\\) by the number of trials \\(n\\)."
   ]
  },
  {
   "cell_type": "markdown",
   "id": "b483466c",
   "metadata": {},
   "source": [
    "\\[E(A) = P(A) \\times n\\]"
   ]
  },
  {
   "cell_type": "markdown",
   "id": "0bc1b276",
   "metadata": {},
   "source": [
    "Where:"
   ]
  },
  {
   "cell_type": "markdown",
   "id": "0c96d39d",
   "metadata": {},
   "source": [
    "🃏 Playing cards"
   ]
  },
  {
   "cell_type": "markdown",
   "id": "3c493250",
   "metadata": {},
   "source": [
    "For instance, we try to calculate the expected value of taking a “Spade ♠” type card in \\(20\\) card draws. It is known that the probability of picking a “Spade ♠” suit card (if it is assumed that we choose from a standard set of cards) is \\(0.25\\) or \\(1/4\\), because there are \\(13\\) “Spade ♠” cards out of a total of \\(52\\) cards."
   ]
  },
  {
   "cell_type": "markdown",
   "id": "d023fc06",
   "metadata": {},
   "source": [
    "\\[E(A) = 0.25 \\times 20 = 5\\]"
   ]
  },
  {
   "cell_type": "markdown",
   "id": "fb60e198",
   "metadata": {},
   "source": [
    "This suggests we expect to draw a spade 5 times, though actual results may vary."
   ]
  },
  {
   "cell_type": "markdown",
   "id": "b3d2edbc",
   "metadata": {},
   "source": [
    "Having understood the concept of expected value in the context of drawing Spades from a deck of cards, let’s now consider a different scenario."
   ]
  },
  {
   "cell_type": "markdown",
   "id": "4bc31692",
   "metadata": {},
   "source": [
    "🎯 Bullseye"
   ]
  },
  {
   "cell_type": "markdown",
   "id": "8fe79163",
   "metadata": {},
   "source": [
    "Imagine playing a game of darts where hitting the bullseye is our event of interest. Let’s say that after practicing, we found that our probability of hitting the bullseye is \\(1/3\\). If we throw the dart \\(20\\) times, we can calculate our expected number of bullseyes as follows:"
   ]
  },
  {
   "cell_type": "markdown",
   "id": "9458c0b7",
   "metadata": {},
   "source": [
    "\\[E(Bullseye) = \\frac{1}{3} \\times 20 = 6.67\\]"
   ]
  },
  {
   "cell_type": "markdown",
   "id": "5d16931b",
   "metadata": {},
   "source": [
    "This suggests we expect to hit the bullseye about 7 times, although actual results may vary."
   ]
  },
  {
   "cell_type": "markdown",
   "id": "d62e7bc3",
   "metadata": {},
   "source": [
    "However, the real world often presents us with scenarios that are more complex than a single event. In many cases, we have multiple outcomes, each with its own associated probability. This is where the concept of expected value for numerical outcomes comes into play."
   ]
  },
  {
   "cell_type": "markdown",
   "id": "60b84782",
   "metadata": {},
   "source": [
    "In Numerical Outcomes, the expected value is the sum of each possible outcome multiplied by its respective probability. This is essentially a way to calculate a weighted average of all possible outcomes, where the weight for each outcome is its probability."
   ]
  },
  {
   "cell_type": "markdown",
   "id": "4a9914c0",
   "metadata": {},
   "source": [
    "\\[E(X) = A.P(A) + B.P(B) + C.P(C) + ...\\]"
   ]
  },
  {
   "cell_type": "markdown",
   "id": "ba12ce9d",
   "metadata": {},
   "source": [
    "Where:"
   ]
  },
  {
   "cell_type": "markdown",
   "id": "d07cdb12",
   "metadata": {},
   "source": [
    "🎯Archery"
   ]
  },
  {
   "cell_type": "markdown",
   "id": "5276829e",
   "metadata": {},
   "source": [
    "To illustrate this, let’s consider an archery target 🎯 with three layers:"
   ]
  },
  {
   "cell_type": "markdown",
   "id": "dd1dcd56",
   "metadata": {},
   "source": [
    "In practice, these probability values may be based on empirical data or previous observations."
   ]
  },
  {
   "cell_type": "markdown",
   "id": "1f264b66",
   "metadata": {},
   "source": [
    "The expected value for this scenario is:"
   ]
  },
  {
   "cell_type": "markdown",
   "id": "26dad338",
   "metadata": {},
   "source": [
    "\\[E(X) = 0.5 \\cdot 10 + 0.4 \\cdot 20 + 0.1 \\cdot 100 = 5 + 8 + 10 = 23\\]"
   ]
  },
  {
   "cell_type": "markdown",
   "id": "8306c13c",
   "metadata": {},
   "source": [
    "So, if we take a lot of shots, our average expected score per shot is 23 points. (The more tries we take, the closer our average score will get to this expected value)"
   ]
  },
  {
   "cell_type": "markdown",
   "id": "a05cc841",
   "metadata": {},
   "source": [
    "What is this done for? This is usually useful in forecasting, such as weather prediction, where ranges are given due to inherent uncertainty. However, the results are sometimes equivocal or uninformative."
   ]
  },
  {
   "cell_type": "markdown",
   "id": "ba45ca0b",
   "metadata": {},
   "source": [
    "So far we have look at a single example, what if we have two events occuring at the same time?"
   ]
  },
  {
   "cell_type": "markdown",
   "id": "7c10bf44",
   "metadata": {},
   "source": [
    "Understanding Expected Value (E(A))"
   ]
  },
  {
   "cell_type": "markdown",
   "id": "b6c5f84b",
   "metadata": {},
   "source": [
    "Imagine a scenario where you roll two six-sided dice and add the numbers that come up on top. With six potential results for each die, the possible outcomes for the sum, denoted as \\(A\\), are:"
   ]
  },
  {
   "cell_type": "markdown",
   "id": "4f46f613",
   "metadata": {},
   "source": [
    "\\[A = 🎲(⚀⚁⚂⚃⚄⚅) + 🎲 (⚀⚁⚂⚃⚄⚅)\\]"
   ]
  },
  {
   "cell_type": "markdown",
   "id": "c75f66d5",
   "metadata": {},
   "source": [
    "The table below illustrates the sum of the die rolls for each possible outcome:"
   ]
  },
  {
   "cell_type": "markdown",
   "id": "9f8f1e1e",
   "metadata": {},
   "source": [
    "In total, there are \\(6 \\times 6 = 36\\) possible outcomes."
   ]
  },
  {
   "cell_type": "markdown",
   "id": "6ae42c21",
   "metadata": {},
   "source": [
    "The number 7 appears 6 times among these 36 outcomes, which means the probability of the sum being 7 when rolling two dice, \\(P(7)\\) is \\(\\frac{6}{36} = \\frac{1}{6}\\)"
   ]
  },
  {
   "cell_type": "markdown",
   "id": "ff8dc37b",
   "metadata": {},
   "source": [
    "The expected value of this scenario, \\(E(A)\\), is calculated by summing the product of each possible outcome and its probability:"
   ]
  },
  {
   "cell_type": "markdown",
   "id": "f4333b0a",
   "metadata": {},
   "source": [
    "\\[E(A) = P(2).2+P(3).3 + ... + P(12).12 = 7\\]"
   ]
  },
  {
   "cell_type": "markdown",
   "id": "bdb7191c",
   "metadata": {},
   "source": [
    "This formula gives us the “center” of the probability distribution or the average outcome expected if we were to repeat this dice roll many times. In this case, the expected value is 7."
   ]
  },
  {
   "cell_type": "markdown",
   "id": "0b2ae110",
   "metadata": {},
   "source": [
    "However, it’s crucial to understand that the expected value being 7 does not mean that 7 is a “likely” outcome. With a probability of only one-sixth, the sum of 7, although the most probable single outcome, is not likely in absolute terms. So, betting on exactly 7 wouldn’t be a reasonable strategy."
   ]
  },
  {
   "cell_type": "markdown",
   "id": "d5f328d1",
   "metadata": {},
   "source": [
    "\\[P[E(A)] = P(7) = 1/6\\]"
   ]
  },
  {
   "cell_type": "markdown",
   "id": "929c3799",
   "metadata": {},
   "source": [
    "This shows us that probability quantifies the likelihood of each individual event."
   ]
  },
  {
   "cell_type": "markdown",
   "id": "67a758c5",
   "metadata": {},
   "source": [
    "A probability frequency distribution can help visualize all possible outcomes and their corresponding probabilities, highlighting how some outcomes are more probable than others, but no single outcome is “likely” in absolute terms."
   ]
  },
  {
   "cell_type": "markdown",
   "id": "ca9c119f",
   "metadata": {},
   "source": [
    "# Probability frequency distribution"
   ]
  },
  {
   "cell_type": "markdown",
   "id": "5bb367c2",
   "metadata": {},
   "source": [
    "In a probability frequency distribution, we note the frequency of each unique sum from the sample space."
   ]
  },
  {
   "cell_type": "markdown",
   "id": "4e5270de",
   "metadata": {},
   "source": [
    "For instance, the sum 8 occurs 5 times, so its frequency is 5."
   ]
  },
  {
   "cell_type": "markdown",
   "id": "8ce6437f",
   "metadata": {},
   "source": [
    "To convert frequencies into probabilities, divide each frequency by the sample size (36). This produces a probability frequency distribution."
   ]
  },
  {
   "cell_type": "markdown",
   "id": "2bb70f32",
   "metadata": {},
   "source": [
    "This distribution can be shown in a table or a graph."
   ]
  },
  {
   "cell_type": "code",
   "execution_count": null,
   "id": "52f0bc40",
   "metadata": {},
   "outputs": [],
   "source": [
    "import matplotlib.pyplot as plt\n",
    "import pandas as pd\n",
    "from fractions import Fraction\n",
    "\n",
    "data = {'Sum': [2, 3, 4, 5, 6, 7, 8, 9, 10, 11, 12],\n",
    "        'Frequency': [1, 2, 3, 4, 5, 6, 5, 4, 3, 2, 1],\n",
    "        'Probability': [1/36, 1/18, 1/12, 1/9, 5/36, 1/6, 5/36, 1/9, 1/12, 1/18, 1/36]}\n",
    "\n",
    "df = pd.DataFrame(data)\n",
    "\n",
    "plt.figure(figsize=(10, 7))\n",
    "\n",
    "plt.bar(df['Sum'], df['Probability'], color='skyblue')\n",
    "\n",
    "plt.xlabel('Sum', fontsize=12)\n",
    "plt.ylabel('Probability', fontsize=12)\n",
    "\n",
    "fractions = [str(Fraction(i).limit_denominator()) for i in df['Probability'].unique()]\n",
    "plt.yticks(df['Probability'].unique(), labels=fractions)\n",
    "\n",
    "plt.title('Probability Frequency Distribution', fontsize=15, pad=20)\n",
    "\n",
    "plt.xticks(df['Sum'])\n",
    "\n",
    "plt.grid(True, linestyle='--', alpha=0.6)\n",
    "\n",
    "plt.show()"
   ]
  },
  {
   "cell_type": "markdown",
   "id": "4f568193",
   "metadata": {},
   "source": []
  },
  {
   "cell_type": "markdown",
   "id": "33b13a27",
   "metadata": {},
   "source": [
    "In rolling two dice, the number 7 is likeliest. There are more ways to sum to 7 (1+6, 2+5, 3+4, 4+3, 5+2, 6+1) than to any other number."
   ]
  },
  {
   "cell_type": "markdown",
   "id": "37832204",
   "metadata": {},
   "source": [
    "Over many trials, 7 will appear more often. So, if guessing a roll’s outcome, 7 is the most reasonable choice based on probability. However, as each roll is an independent random event, a 7 isn’t guaranteed in any particular roll."
   ]
  },
  {
   "cell_type": "markdown",
   "id": "3d2d308c",
   "metadata": {},
   "source": [
    "This means the outcome of each die does not depend on the outcome of the other die, or on any previous rolls."
   ]
  },
  {
   "cell_type": "markdown",
   "id": "43ebc818",
   "metadata": {},
   "source": [
    "For instance, let’s say you roll a pair of dice and get a 3 and a 4. The next time you roll the dice, the chances of getting any specific number (1 through 6) on each die remain exactly the same. Getting a 3 and a 4 on the first roll has no impact on the results of the second roll."
   ]
  },
  {
   "cell_type": "markdown",
   "id": "2e004a84",
   "metadata": {},
   "source": [
    "This is the key characteristic of independent random events: - The outcome of one event does not influence the outcome of another."
   ]
  },
  {
   "cell_type": "markdown",
   "id": "d2f5cd6d",
   "metadata": {},
   "source": [
    "So in the context of rolling dice, each roll is its own unique event with the same probabilities each time, regardless of what numbers have come up in the past."
   ]
  },
  {
   "cell_type": "markdown",
   "id": "63090147",
   "metadata": {},
   "source": [
    "# Complements"
   ]
  },
  {
   "cell_type": "markdown",
   "id": "7522e78c",
   "metadata": {},
   "source": [
    "In probability, an event’s complement is everything the event doesn’t include, completing the sample space."
   ]
  },
  {
   "cell_type": "markdown",
   "id": "1b7058a1",
   "metadata": {},
   "source": [
    "The total probability is the sum of different events’ probabilities."
   ]
  },
  {
   "cell_type": "markdown",
   "id": "ee579987",
   "metadata": {},
   "source": [
    "\\[A + A^c = \\text{sample space  A}\\]"
   ]
  },
  {
   "cell_type": "markdown",
   "id": "3423517b",
   "metadata": {},
   "source": [
    "Where:"
   ]
  },
  {
   "cell_type": "markdown",
   "id": "94bdb5d8",
   "metadata": {},
   "source": [
    "The basic concept in probability is that the total of all possible outcomes is always equal to one, indicating 100% certainty that one of the outcomes will occur."
   ]
  },
  {
   "cell_type": "markdown",
   "id": "c3447fec",
   "metadata": {},
   "source": [
    "Suppose we have three possible outcomes in an experiment, we can call them A, B, and C."
   ]
  },
  {
   "cell_type": "markdown",
   "id": "942a190b",
   "metadata": {},
   "source": [
    "If we add up the probabilities of all possible outcomes, the sum must equal 1."
   ]
  },
  {
   "cell_type": "markdown",
   "id": "35ebcc4d",
   "metadata": {},
   "source": [
    "\\[P(A) + P(B) + P(C) = 1 \\rightarrow 100 \\% \\ \\text{{Certain}}\\]"
   ]
  },
  {
   "cell_type": "markdown",
   "id": "3fd1a8fa",
   "metadata": {},
   "source": [
    "In other words, there is 100% certainty that one of A, B, or C will occur."
   ]
  },
  {
   "cell_type": "markdown",
   "id": "88b86f20",
   "metadata": {},
   "source": [
    "Let’s clarify this with examples."
   ]
  },
  {
   "cell_type": "markdown",
   "id": "7e35b93b",
   "metadata": {},
   "source": [
    "🪙 Coin Toss"
   ]
  },
  {
   "cell_type": "markdown",
   "id": "9538b9ae",
   "metadata": {},
   "source": [
    "Consider flipping a coin. The outcomes—heads or tails—are guaranteed. Thus, accounting for these sums the total probability to 1."
   ]
  },
  {
   "cell_type": "markdown",
   "id": "a46f9f54",
   "metadata": {},
   "source": [
    "\\[A \\rightarrow (Heads) \\ \\ B \\rightarrow (Tails)\\]"
   ]
  },
  {
   "cell_type": "markdown",
   "id": "e2f118b5",
   "metadata": {},
   "source": [
    "\\[P(A) + P(B) = 1\\]"
   ]
  },
  {
   "cell_type": "markdown",
   "id": "ae3e6c05",
   "metadata": {},
   "source": [
    "What happens if \\(P(A) + P(B) > 1\\)?"
   ]
  },
  {
   "cell_type": "markdown",
   "id": "96305f46",
   "metadata": {},
   "source": [
    "A total probability greater than 1 lacks intuitive sense since probabilities denote absolute certainty. An example of this could be when some outcomes simultaneously occur, causing double-counting of outcomes. We’ll handle this with Bayesian notation later."
   ]
  },
  {
   "cell_type": "markdown",
   "id": "6eaddaaa",
   "metadata": {},
   "source": [
    "What happens if \\(P(A) + P(B) < 1\\)?"
   ]
  },
  {
   "cell_type": "markdown",
   "id": "7c9fe2ac",
   "metadata": {},
   "source": [
    "If the sum of probabilities is less than 1, we’ve not accounted for some outcomes."
   ]
  },
  {
   "cell_type": "markdown",
   "id": "d8fcf8c9",
   "metadata": {},
   "source": [
    "Before proceeding, note that each event has a complement (denoted by \\('\\)). For instance, complement of \\(A\\) is \\(A'\\)."
   ]
  },
  {
   "cell_type": "markdown",
   "id": "1f709dd7",
   "metadata": {},
   "source": [
    "\\[A' \\leftarrow Complement\\]"
   ]
  },
  {
   "cell_type": "markdown",
   "id": "bedb3ca0",
   "metadata": {},
   "source": [
    "The complement of a complement is the event itself: \\((A')' = A\\)."
   ]
  },
  {
   "cell_type": "markdown",
   "id": "55d540e7",
   "metadata": {},
   "source": [
    "🎲 Rolling a die"
   ]
  },
  {
   "cell_type": "markdown",
   "id": "670c5f0b",
   "metadata": {},
   "source": [
    "Consider rolling a six-sided die intending to roll an even number. The complement is rolling an odd number."
   ]
  },
  {
   "cell_type": "markdown",
   "id": "82f5cde0",
   "metadata": {},
   "source": [
    "\\[A = B\\]"
   ]
  },
  {
   "cell_type": "markdown",
   "id": "e6d016e3",
   "metadata": {},
   "source": [
    "Calculating the complement involves taking 1 minus the probability of the event."
   ]
  },
  {
   "cell_type": "markdown",
   "id": "b27d2e4b",
   "metadata": {},
   "source": [
    "All possible outcomes are \\(A\\), \\(B\\), and \\(C\\), and their probabilities must add up to 1"
   ]
  },
  {
   "cell_type": "markdown",
   "id": "5460c12d",
   "metadata": {},
   "source": [
    "\\[P(A) + P(B) + P(C) = 1\\]"
   ]
  },
  {
   "cell_type": "markdown",
   "id": "92446c63",
   "metadata": {},
   "source": [
    "In this case, \\(A\\) (the complement of \\(A\\)) is equal to \\(B\\) plus \\(C\\) (\\(A' = B + C\\)) and the probability is:"
   ]
  },
  {
   "cell_type": "markdown",
   "id": "4e24787d",
   "metadata": {},
   "source": [
    "\\[P(A') = 1 - P(A)\\]"
   ]
  },
  {
   "cell_type": "markdown",
   "id": "74be1ea4",
   "metadata": {},
   "source": [
    "Considering the example of rolling a 1, 2, 4, 5, or 6 (i.e., not a 3), the total probability is the sum of these outcomes’ probabilities. Since each outcome has a probability of one-sixth, the sum is 5/6."
   ]
  },
  {
   "cell_type": "markdown",
   "id": "582e935b",
   "metadata": {},
   "source": [
    "\\[P(A) = ⚀ + ⚁ + ⚃ + ⚄ + ⚅\\]"
   ]
  },
  {
   "cell_type": "markdown",
   "id": "0d790f4a",
   "metadata": {},
   "source": [
    "\\[P(A) = P(1) + P(2) + P(4) + P(5) + P(6)\\]"
   ]
  },
  {
   "cell_type": "markdown",
   "id": "368dfbfe",
   "metadata": {},
   "source": [
    "\\[= \\frac{1}{6} + \\frac{1}{6} + \\frac{1}{6} + \\frac{1}{6} + \\frac{1}{6} = \\frac{5}{6}\\]"
   ]
  },
  {
   "cell_type": "markdown",
   "id": "94ac1ec8",
   "metadata": {},
   "source": [
    "Now we consider \\(B\\) where we don’t get a 3 when rolling the dice, and \\(B'\\) is a 3, then:"
   ]
  },
  {
   "cell_type": "markdown",
   "id": "cf0edf8a",
   "metadata": {},
   "source": [
    "\\[P(B') = \\frac{1}{6}\\]"
   ]
  },
  {
   "cell_type": "markdown",
   "id": "dcd084db",
   "metadata": {},
   "source": [
    "And \\(P(B)\\) is the complement of \\(B'\\), so that:"
   ]
  },
  {
   "cell_type": "markdown",
   "id": "8024eea6",
   "metadata": {},
   "source": [
    "\\[P(B) = 1 - P(B') = 1 - \\frac{1}{6} = \\frac{5}{6}\\]"
   ]
  },
  {
   "cell_type": "markdown",
   "id": "58952ce4",
   "metadata": {},
   "source": [
    "Thus, the probability of getting any number except 3 (i.e., \\(P(A)\\)) is equal to the probability of \\(P(B)\\)."
   ]
  },
  {
   "cell_type": "markdown",
   "id": "f703803f",
   "metadata": {},
   "source": [
    "\\[P(A) = \\frac{5}{6} = P(B)\\]"
   ]
  }
 ],
 "metadata": {},
 "nbformat": 4,
 "nbformat_minor": 5
}
