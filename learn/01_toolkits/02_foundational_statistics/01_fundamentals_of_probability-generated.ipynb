{
 "cells": [
  {
   "cell_type": "markdown",
   "id": "af72b8cd",
   "metadata": {},
   "source": [
    "source: [https://ai-bootcamp.ruangguru.com/learn/01_toolkits/02_foundational_statistics/01_fundamentals_of_probability.html](https://ai-bootcamp.ruangguru.com/learn/01_toolkits/02_foundational_statistics/01_fundamentals_of_probability.html)"
   ]
  },
  {
   "cell_type": "markdown",
   "id": "362ceed1",
   "metadata": {},
   "source": [
    "# Fundamentals of Probability"
   ]
  },
  {
   "cell_type": "markdown",
   "id": "8b9ba6de",
   "metadata": {},
   "source": [
    "This topic explores crucial theories for machine and deep learning, focusing on probability theory and distributions. We’ll cover:"
   ]
  },
  {
   "cell_type": "markdown",
   "id": "16edea90",
   "metadata": {},
   "source": [
    "- 🎯 Favorable outcomes, expected values, frequencies, and complements."
   ]
  },
  {
   "cell_type": "markdown",
   "id": "5b56cac8",
   "metadata": {},
   "source": [
    "We’ll then build our first probability frequency distribution, getting hands-on with permutations and their real-world applications. We’ll illustrate the differences between variations and permutations:"
   ]
  },
  {
   "cell_type": "markdown",
   "id": "ff387d3e",
   "metadata": {},
   "source": [
    "- 📊 Graphical explanations\n",
    "- 🧮 Mathematical formulas\n",
    "- 📖 Real-life examples"
   ]
  },
  {
   "cell_type": "markdown",
   "id": "73c9dfd3",
   "metadata": {},
   "source": [
    "These concepts are vital for understanding examples in various fields."
   ]
  },
  {
   "cell_type": "markdown",
   "id": "fc643218",
   "metadata": {},
   "source": [
    "# Introduction"
   ]
  },
  {
   "cell_type": "markdown",
   "id": "2692ead8",
   "metadata": {},
   "source": [
    "Life is full of uncertainties that often lead us to ask questions like: - What’s the best route to take for a journey? - Will it rain tomorrow? - Is it wise to invest in a certain financial product?"
   ]
  },
  {
   "cell_type": "markdown",
   "id": "93b58e35",
   "metadata": {},
   "source": [
    "These questions require us to predict outcomes, and the methods we use to navigate these uncertainties are rooted in the fields of probability and statistics."
   ]
  },
  {
   "cell_type": "markdown",
   "id": "b3cbe47b",
   "metadata": {},
   "source": [
    "These very principles form the bedrock of machine learning algorithms, enabling them to learn from data, make predictions, and improve over time."
   ]
  },
  {
   "cell_type": "markdown",
   "id": "542d7c74",
   "metadata": {},
   "source": [
    "So, what’s probability? 🤔 It’s simply the likelihood of an event occurring. An “event” in probability denotes a specific or a combination of outcomes, like:"
   ]
  },
  {
   "cell_type": "markdown",
   "id": "85ad80dc",
   "metadata": {},
   "source": [
    "- 🪙 Coin toss results,\n",
    "- 🎲 Rolling a four on a dice, or\n",
    "- 🏃‍♂️ Running a mile under 6 minutes."
   ]
  },
  {
   "cell_type": "markdown",
   "id": "d40f6b9f",
   "metadata": {},
   "source": [
    "For example, a coin toss isn’t a single-probability event as it can result in head or tails. We need to assign a probability for each outcome."
   ]
  },
  {
   "cell_type": "markdown",
   "id": "05250691",
   "metadata": {},
   "source": [
    "The outcomes can be: - “Head > Tail” - “Head = Tail” - “Head < Tail”."
   ]
  },
  {
   "cell_type": "markdown",
   "id": "2d6f7717",
   "metadata": {},
   "source": [
    "Understanding uncertainty involves measuring and comparing probabilities to know which event is more likely. We represent probabilities numerically."
   ]
  },
  {
   "cell_type": "markdown",
   "id": "8a7187fc",
   "metadata": {},
   "source": [
    "Probabilities can be percentages or fractions, but we typically express them as numbers between zero and one. For instance, 20% or $\\frac{1}{5}$ will be written as 0.2."
   ]
  },
  {
   "cell_type": "markdown",
   "id": "f5de056b",
   "metadata": {},
   "source": [
    "Interpreting probability values: - 1 stands for the absolute certainty of an event, - 0 implies the event will certainly not happen. - Higher values indicate higher likelihoods."
   ]
  },
  {
   "cell_type": "markdown",
   "id": "039f2283",
   "metadata": {},
   "source": [
    "Most events will have probabilities between 0 and 1, so figures like 0.2, 0.5, and 0.66 are common."
   ]
  },
  {
   "cell_type": "markdown",
   "id": "44fc95e5",
   "metadata": {},
   "source": [
    "Let’s take a look at probabilities of events occuring and not occuring given the chances are equal:"
   ]
  },
  {
   "cell_type": "code",
   "execution_count": null,
   "id": "39e3d177",
   "metadata": {},
   "outputs": [],
   "source": [
    "# @title #### Probabilities\n",
    "\n",
    "import matplotlib.pyplot as plt\n",
    "import numpy as np\n",
    "\n",
    "x = np.linspace(0, 1, 100)\n",
    "y = x \n",
    "\n",
    "plt.figure(figsize=(12, 8))\n",
    "plt.fill_between(x, y, color=\"skyblue\", alpha=0.3)\n",
    "\n",
    "plt.plot(x, y, color=\"Steelblue\", alpha=0.9, linewidth=2.5, label='Probability line')\n",
    "\n",
    "plt.scatter([0.2], [0], color='red', s=100, label='x = 0.2', edgecolors='black')\n",
    "plt.scatter([0.5], [0], color='green', s=100, label='x = 0.5', edgecolors='black')\n",
    "plt.scatter([0.66], [0], color='purple', s=100, label='x = 0.66', edgecolors='black')\n",
    "\n",
    "plt.xlabel('Event not occuring', fontsize=14)\n",
    "plt.ylabel('Event occuring', fontsize=14)\n",
    "\n",
    "plt.title('Probabilities', fontsize=18, pad=25)\n",
    "plt.legend(loc='upper left')\n",
    "\n",
    "plt.text(0.15, 0.15, '0: Absolute certainty of the event NOT occuring', ha='center', fontsize=10, bbox=dict(facecolor='white', edgecolor='black', boxstyle='round,pad=0.5'))\n",
    "plt.text(0.85, 0.85, '1: Absolute certainty of the event occuring', ha='center', fontsize=10, bbox=dict(facecolor='white', edgecolor='black', boxstyle='round,pad=0.5'))\n",
    "plt.text(1.05, 1, 'Higher likelihood', ha='center', fontsize=10, va='center')\n",
    "\n",
    "plt.xticks(np.arange(0, 1.1, 0.1)) \n",
    "plt.yticks(np.arange(0, 1.1, 0.1))\n",
    "\n",
    "plt.grid(True, linestyle='-.', alpha=0.4)\n",
    "\n",
    "plt.show()"
   ]
  },
  {
   "cell_type": "markdown",
   "id": "3d5fa2e3",
   "metadata": {},
   "source": []
  },
  {
   "cell_type": "markdown",
   "id": "14c066ef",
   "metadata": {},
   "source": [
    "As you can see, given all things are equal, the probabilities can be drawn as a straight line."
   ]
  },
  {
   "cell_type": "markdown",
   "id": "b565637b",
   "metadata": {},
   "source": [
    "# Favorable Outcomes"
   ]
  },
  {
   "cell_type": "markdown",
   "id": "421761bb",
   "metadata": {},
   "source": [
    "Even without exact probabilities, it’s intuitive that some events are likelier. For instance, winning a coin toss is more probable than the lottery. Let’s take a look:"
   ]
  },
  {
   "cell_type": "markdown",
   "id": "cab0f167",
   "metadata": {},
   "source": [
    "The probability of an event $A$, denoted as $P(A)$, is the ratio of desirable outcomes to total outcomes. Preferred or “favorable” outcomes are the results we aim for, while the sample space comprises all possible outcomes."
   ]
  },
  {
   "cell_type": "markdown",
   "id": "dc2c8a5b",
   "metadata": {},
   "source": [
    "\n",
    "\\[P(A)= \\frac{preferred}{all} \\to \\frac{favourable}{sample \\ space}\\]\n"
   ]
  },
  {
   "cell_type": "markdown",
   "id": "938ef641",
   "metadata": {},
   "source": [
    "- 🪙 Coin flipIf event\\(A\\)is flipping a coin for Heads, it’s the only desired outcome. With two possible outcomes,HeadsorTails, the probability is:\\[P(A)= \\frac{1}{2} = 0.5\\]\n",
    "- 🎲 Six-sided die rollWith a six-sided die, if we wish to roll a\\(4\\), the desired outcome is\\(1\\), with\\(6\\)possible outcomes. This gives a probability of:\\[P(A) = \\frac{1}{6} = 0.167\\]If we want a number divisible by3, i.e.,3or6, desired outcomes are 2, giving a probability of:\\[P(A) = \\frac{2}{6} = 0.33\\]\n",
    "- 🎟️ Winning the lotteryWith the lottery, you divide the number of tickets bought by all possible outcomes. Given there are over175million outcomes, each ticket’s probability is:\\[P(A)= \\frac{1}{175 000 000} = 0.000 000 005\\]Buying more tickets increases the winning probability. Comparing this with a coin toss, the latter is more likely.CoinLottery🪙🎟️0.50.000 000 005"
   ]
  },
  {
   "cell_type": "markdown",
   "id": "ecaaae19",
   "metadata": {},
   "source": [
    "🪙 Coin flip"
   ]
  },
  {
   "cell_type": "markdown",
   "id": "4d1873ae",
   "metadata": {},
   "source": [
    "If event $A$ is flipping a coin for Heads, it’s the only desired outcome. With two possible outcomes, Heads or Tails, the probability is:"
   ]
  },
  {
   "cell_type": "markdown",
   "id": "3e02ba05",
   "metadata": {},
   "source": [
    "\n",
    "\\[P(A)= \\frac{1}{2} = 0.5\\]\n"
   ]
  },
  {
   "cell_type": "markdown",
   "id": "65a54509",
   "metadata": {},
   "source": [
    "🎲 Six-sided die roll"
   ]
  },
  {
   "cell_type": "markdown",
   "id": "30b4dd4c",
   "metadata": {},
   "source": [
    "With a six-sided die, if we wish to roll a $4$, the desired outcome is $1$, with $6$ possible outcomes. This gives a probability of:"
   ]
  },
  {
   "cell_type": "markdown",
   "id": "951d2558",
   "metadata": {},
   "source": [
    "\n",
    "\\[P(A) = \\frac{1}{6} = 0.167\\]\n"
   ]
  },
  {
   "cell_type": "markdown",
   "id": "c97c7c36",
   "metadata": {},
   "source": [
    "If we want a number divisible by 3, i.e., 3 or 6, desired outcomes are 2, giving a probability of:"
   ]
  },
  {
   "cell_type": "markdown",
   "id": "4caff085",
   "metadata": {},
   "source": [
    "\n",
    "\\[P(A) = \\frac{2}{6} = 0.33\\]\n"
   ]
  },
  {
   "cell_type": "markdown",
   "id": "ba12a5e4",
   "metadata": {},
   "source": [
    "🎟️ Winning the lottery"
   ]
  },
  {
   "cell_type": "markdown",
   "id": "ff9adda5",
   "metadata": {},
   "source": [
    "With the lottery, you divide the number of tickets bought by all possible outcomes. Given there are over 175 million outcomes, each ticket’s probability is:"
   ]
  },
  {
   "cell_type": "markdown",
   "id": "d36b2dba",
   "metadata": {},
   "source": [
    "\n",
    "\\[P(A)= \\frac{1}{175 000 000} = 0.000 000 005\\]\n"
   ]
  },
  {
   "cell_type": "markdown",
   "id": "32a2a46d",
   "metadata": {},
   "source": [
    "Buying more tickets increases the winning probability. Comparing this with a coin toss, the latter is more likely."
   ]
  },
  {
   "cell_type": "markdown",
   "id": "a7ef72ed",
   "metadata": {},
   "source": [
    "| Coin | Lottery |\n",
    "| --- | --- |\n",
    "| 🪙 | 🎟️ |\n",
    "| 0.5 | 0.000 000 005 |"
   ]
  },
  {
   "cell_type": "markdown",
   "id": "f477ae7d",
   "metadata": {},
   "source": [
    "# Expected Values"
   ]
  },
  {
   "cell_type": "markdown",
   "id": "ad7cbd13",
   "metadata": {},
   "source": [
    "The Expected Value in probability is the average outcome if an experiment is repeated 🧪. It can be estimated through multiple trials. The experimental probability is calculated by dividing successful trials by all trials:"
   ]
  },
  {
   "cell_type": "markdown",
   "id": "c57549c1",
   "metadata": {},
   "source": [
    "\n",
    "\\[P(A) = \\frac{\\text{successful trial}}{\\text{all trials}}\\]\n"
   ]
  },
  {
   "cell_type": "markdown",
   "id": "bb1d92d5",
   "metadata": {},
   "source": [
    "The Expected Value of an event $A$, $E(A)$, is the anticipated result of an experiment. It’s found by multiplying the event’s theoretical probability $P(A)$ by the number of trials $n$."
   ]
  },
  {
   "cell_type": "markdown",
   "id": "c678c504",
   "metadata": {},
   "source": [
    "\n",
    "\\[E(A) = P(A) \\times n\\]\n"
   ]
  },
  {
   "cell_type": "markdown",
   "id": "4850e935",
   "metadata": {},
   "source": [
    "Where:"
   ]
  },
  {
   "cell_type": "markdown",
   "id": "49832924",
   "metadata": {},
   "source": [
    "- \\(E(A)\\)is the expected value of an event\\(A\\),\n",
    "- \\(P(A)\\)is the probability that event\\(A\\)occurs, and\n",
    "- \\(n\\)is the number of trials."
   ]
  },
  {
   "cell_type": "markdown",
   "id": "254487a1",
   "metadata": {},
   "source": [
    "🃏 Playing cards"
   ]
  },
  {
   "cell_type": "markdown",
   "id": "f4793260",
   "metadata": {},
   "source": [
    "For instance, we try to calculate the expected value of taking a “Spade ♠” type card in $20$ card draws. It is known that the probability of picking a “Spade ♠” suit card (if it is assumed that we choose from a standard set of cards) is $0.25$ or $1/4$, because there are $13$ “Spade ♠” cards out of a total of $52$ cards."
   ]
  },
  {
   "cell_type": "markdown",
   "id": "d77cc146",
   "metadata": {},
   "source": [
    "\n",
    "\\[E(A) = 0.25 \\times 20 = 5\\]\n"
   ]
  },
  {
   "cell_type": "markdown",
   "id": "ede1e3af",
   "metadata": {},
   "source": [
    "This suggests we expect to draw a spade 5 times, though actual results may vary."
   ]
  },
  {
   "cell_type": "markdown",
   "id": "52e29a11",
   "metadata": {},
   "source": [
    "Having understood the concept of expected value in the context of drawing Spades from a deck of cards, let’s now consider a different scenario."
   ]
  },
  {
   "cell_type": "markdown",
   "id": "590dd770",
   "metadata": {},
   "source": [
    "🎯 Bullseye"
   ]
  },
  {
   "cell_type": "markdown",
   "id": "1a4dc79e",
   "metadata": {},
   "source": [
    "Imagine playing a game of darts where hitting the bullseye is our event of interest. Let’s say that after practicing, we found that our probability of hitting the bullseye is $1/3$. If we throw the dart $20$ times, we can calculate our expected number of bullseyes as follows:"
   ]
  },
  {
   "cell_type": "markdown",
   "id": "b6e291a5",
   "metadata": {},
   "source": [
    "\n",
    "\\[E(Bullseye) = \\frac{1}{3} \\times 20 = 6.67\\]\n"
   ]
  },
  {
   "cell_type": "markdown",
   "id": "59d5fee3",
   "metadata": {},
   "source": [
    "This suggests we expect to hit the bullseye about 7 times, although actual results may vary."
   ]
  },
  {
   "cell_type": "markdown",
   "id": "112d4cd5",
   "metadata": {},
   "source": [
    "However, the real world often presents us with scenarios that are more complex than a single event. In many cases, we have multiple outcomes, each with its own associated probability. This is where the concept of expected value for numerical outcomes comes into play."
   ]
  },
  {
   "cell_type": "markdown",
   "id": "493e42c1",
   "metadata": {},
   "source": [
    "In Numerical Outcomes, the expected value is the sum of each possible outcome multiplied by its respective probability. This is essentially a way to calculate a weighted average of all possible outcomes, where the weight for each outcome is its probability."
   ]
  },
  {
   "cell_type": "markdown",
   "id": "c0bcb60c",
   "metadata": {},
   "source": [
    "\n",
    "\\[E(X) = A.P(A) + B.P(B) + C.P(C) + ...\\]\n"
   ]
  },
  {
   "cell_type": "markdown",
   "id": "fa16d0af",
   "metadata": {},
   "source": [
    "Where:"
   ]
  },
  {
   "cell_type": "markdown",
   "id": "b28bb80a",
   "metadata": {},
   "source": [
    "- \\(E(X)\\)is the expected value,\n",
    "- \\(A, B, C,\\)etc. are possible outcomes, and\n",
    "- \\(P(A), P(B), P(C),\\)etc. are the probabilities of each outcome."
   ]
  },
  {
   "cell_type": "markdown",
   "id": "33e7f4eb",
   "metadata": {},
   "source": [
    "🎯Archery"
   ]
  },
  {
   "cell_type": "markdown",
   "id": "40f969d6",
   "metadata": {},
   "source": [
    "To illustrate this, let’s consider an archery target 🎯 with three layers:"
   ]
  },
  {
   "cell_type": "markdown",
   "id": "90b9a571",
   "metadata": {},
   "source": [
    "- Outer Layer (10 points) - 👉 50% probability (0.5)\n",
    "- Middle Layer (20 points) - 👉 40% probability (0.4)\n",
    "- Bullseye (100 points) - 👉 10% probability (0.1)"
   ]
  },
  {
   "cell_type": "markdown",
   "id": "22a9a700",
   "metadata": {},
   "source": [
    "In practice, these probability values may be based on empirical data or previous observations."
   ]
  },
  {
   "cell_type": "markdown",
   "id": "855798fe",
   "metadata": {},
   "source": [
    "The expected value for this scenario is:"
   ]
  },
  {
   "cell_type": "markdown",
   "id": "f83e97cd",
   "metadata": {},
   "source": [
    "\n",
    "\\[E(X) = 0.5 \\cdot 10 + 0.4 \\cdot 20 + 0.1 \\cdot 100 = 5 + 8 + 10 = 23\\]\n"
   ]
  },
  {
   "cell_type": "markdown",
   "id": "ae59ee48",
   "metadata": {},
   "source": [
    "So, if we take a lot of shots, our average expected score per shot is 23 points. (The more tries we take, the closer our average score will get to this expected value)"
   ]
  },
  {
   "cell_type": "markdown",
   "id": "e5f21f6b",
   "metadata": {},
   "source": [
    "What is this done for? This is usually useful in forecasting, such as weather prediction, where ranges are given due to inherent uncertainty. However, the results are sometimes equivocal or uninformative."
   ]
  },
  {
   "cell_type": "markdown",
   "id": "f73a05a3",
   "metadata": {},
   "source": [
    "So far we have look at a single example, what if we have two events occuring at the same time?"
   ]
  },
  {
   "cell_type": "markdown",
   "id": "f9361282",
   "metadata": {},
   "source": [
    "Understanding Expected Value (E(A))"
   ]
  },
  {
   "cell_type": "markdown",
   "id": "8b1efb6c",
   "metadata": {},
   "source": [
    "Imagine a scenario where you roll two six-sided dice and add the numbers that come up on top. With six potential results for each die, the possible outcomes for the sum, denoted as $A$, are:"
   ]
  },
  {
   "cell_type": "markdown",
   "id": "26908767",
   "metadata": {},
   "source": [
    "\n",
    "\\[A = 🎲(⚀⚁⚂⚃⚄⚅) + 🎲 (⚀⚁⚂⚃⚄⚅)\\]\n"
   ]
  },
  {
   "cell_type": "markdown",
   "id": "a37ad34f",
   "metadata": {},
   "source": [
    "The table below illustrates the sum of the die rolls for each possible outcome:"
   ]
  },
  {
   "cell_type": "markdown",
   "id": "b9a35aa4",
   "metadata": {},
   "source": [
    "| Die 1  Die 2 | ⚀ 1 | ⚁ 2 | ⚂ 3 | ⚃ 4 | ⚄ 5 | ⚅ 6 |\n",
    "| --- | --- | --- | --- | --- | --- | --- |\n",
    "| ⚀ 1 | 2 | 3 | 4 | 5 | 6 | 7 |\n",
    "| ⚁ 2 | 3 | 4 | 5 | 6 | 7 | 8 |\n",
    "| ⚂ 3 | 4 | 5 | 6 | 7 | 8 | 9 |\n",
    "| ⚃ 4 | 5 | 6 | 7 | 8 | 9 | 10 |\n",
    "| ⚄ 5 | 6 | 7 | 8 | 9 | 10 | 11 |\n",
    "| ⚅ 6 | 7 | 8 | 9 | 10 | 11 | 12 |"
   ]
  },
  {
   "cell_type": "markdown",
   "id": "bb7fa0cb",
   "metadata": {},
   "source": [
    "In total, there are $6 \\times 6 = 36$ possible outcomes."
   ]
  },
  {
   "cell_type": "markdown",
   "id": "7c5a44af",
   "metadata": {},
   "source": [
    "The number 7 appears 6 times among these 36 outcomes, which means the probability of the sum being 7 when rolling two dice, $P(7)$ is $\\frac{6}{36} = \\frac{1}{6}$"
   ]
  },
  {
   "cell_type": "markdown",
   "id": "fcaff18b",
   "metadata": {},
   "source": [
    "The expected value of this scenario, $E(A)$, is calculated by summing the product of each possible outcome and its probability:"
   ]
  },
  {
   "cell_type": "markdown",
   "id": "d8f0b111",
   "metadata": {},
   "source": [
    "\n",
    "\\[E(A) = P(2).2+P(3).3 + ... + P(12).12 = 7\\]\n"
   ]
  },
  {
   "cell_type": "markdown",
   "id": "74b46db6",
   "metadata": {},
   "source": [
    "This formula gives us the “center” of the probability distribution or the average outcome expected if we were to repeat this dice roll many times. In this case, the expected value is 7."
   ]
  },
  {
   "cell_type": "markdown",
   "id": "8b76c3e4",
   "metadata": {},
   "source": [
    "However, it’s crucial to understand that the expected value being 7 does not mean that 7 is a “likely” outcome. With a probability of only one-sixth, the sum of 7, although the most probable single outcome, is not likely in absolute terms. So, betting on exactly 7 wouldn’t be a reasonable strategy."
   ]
  },
  {
   "cell_type": "markdown",
   "id": "ffaa54e1",
   "metadata": {},
   "source": [
    "\n",
    "\\[P[E(A)] = P(7) = 1/6\\]\n"
   ]
  },
  {
   "cell_type": "markdown",
   "id": "c9ff0589",
   "metadata": {},
   "source": [
    "This shows us that probability quantifies the likelihood of each individual event."
   ]
  },
  {
   "cell_type": "markdown",
   "id": "5a7a1b8f",
   "metadata": {},
   "source": [
    "A probability frequency distribution can help visualize all possible outcomes and their corresponding probabilities, highlighting how some outcomes are more probable than others, but no single outcome is “likely” in absolute terms."
   ]
  },
  {
   "cell_type": "markdown",
   "id": "e7b769f0",
   "metadata": {},
   "source": [
    "# Probability frequency distribution"
   ]
  },
  {
   "cell_type": "markdown",
   "id": "a12cfa0e",
   "metadata": {},
   "source": [
    "In a probability frequency distribution, we note the frequency of each unique sum from the sample space."
   ]
  },
  {
   "cell_type": "markdown",
   "id": "261a78b8",
   "metadata": {},
   "source": [
    "| Sum | Frequency |\n",
    "| --- | --- |\n",
    "| 2 | 1 |\n",
    "| 3 | 2 |\n",
    "| 4 | 3 |\n",
    "| 5 | 4 |\n",
    "| 6 | 5 |\n",
    "| 7 | 6 |\n",
    "| 8 | 5 |\n",
    "| 9 | 4 |\n",
    "| 10 | 3 |\n",
    "| 11 | 2 |\n",
    "| 12 | 1 |"
   ]
  },
  {
   "cell_type": "markdown",
   "id": "6b63b590",
   "metadata": {},
   "source": [
    "For instance, the sum 8 occurs 5 times, so its frequency is 5."
   ]
  },
  {
   "cell_type": "markdown",
   "id": "2c8fe8eb",
   "metadata": {},
   "source": [
    "To convert frequencies into probabilities, divide each frequency by the sample size (36). This produces a probability frequency distribution."
   ]
  },
  {
   "cell_type": "markdown",
   "id": "5135c973",
   "metadata": {},
   "source": [
    "| Sum | Frequency | Probability |\n",
    "| --- | --- | --- |\n",
    "| 2 | 1 | 1/36 |\n",
    "| 3 | 2 | 1/18 |\n",
    "| 4 | 3 | 1/12 |\n",
    "| 5 | 4 | 1/9 |\n",
    "| 6 | 5 | 5/36 |\n",
    "| 7 | 6 | 1/6 |\n",
    "| 8 | 5 | 5/36 |\n",
    "| 9 | 4 | 1/9 |\n",
    "| 10 | 3 | 1/12 |\n",
    "| 11 | 2 | 1/18 |\n",
    "| 12 | 1 | 1/36 |"
   ]
  },
  {
   "cell_type": "markdown",
   "id": "8f7ac5d3",
   "metadata": {},
   "source": [
    "This distribution can be shown in a table or a graph."
   ]
  },
  {
   "cell_type": "code",
   "execution_count": null,
   "id": "f498ce9c",
   "metadata": {},
   "outputs": [],
   "source": [
    "import matplotlib.pyplot as plt\n",
    "import pandas as pd\n",
    "from fractions import Fraction\n",
    "\n",
    "data = {'Sum': [2, 3, 4, 5, 6, 7, 8, 9, 10, 11, 12],\n",
    "        'Frequency': [1, 2, 3, 4, 5, 6, 5, 4, 3, 2, 1],\n",
    "        'Probability': [1/36, 1/18, 1/12, 1/9, 5/36, 1/6, 5/36, 1/9, 1/12, 1/18, 1/36]}\n",
    "\n",
    "df = pd.DataFrame(data)\n",
    "\n",
    "plt.figure(figsize=(10, 7))\n",
    "\n",
    "plt.bar(df['Sum'], df['Probability'], color='skyblue')\n",
    "\n",
    "plt.xlabel('Sum', fontsize=12)\n",
    "plt.ylabel('Probability', fontsize=12)\n",
    "\n",
    "fractions = [str(Fraction(i).limit_denominator()) for i in df['Probability'].unique()]\n",
    "plt.yticks(df['Probability'].unique(), labels=fractions)\n",
    "\n",
    "plt.title('Probability Frequency Distribution', fontsize=15, pad=20)\n",
    "\n",
    "plt.xticks(df['Sum'])\n",
    "\n",
    "plt.grid(True, linestyle='--', alpha=0.6)\n",
    "\n",
    "plt.show()"
   ]
  },
  {
   "cell_type": "markdown",
   "id": "9f8fd8d2",
   "metadata": {},
   "source": []
  },
  {
   "cell_type": "markdown",
   "id": "66278c35",
   "metadata": {},
   "source": [
    "In rolling two dice, the number 7 is likeliest. There are more ways to sum to 7 (1+6, 2+5, 3+4, 4+3, 5+2, 6+1) than to any other number."
   ]
  },
  {
   "cell_type": "markdown",
   "id": "480fe380",
   "metadata": {},
   "source": [
    "Over many trials, 7 will appear more often. So, if guessing a roll’s outcome, 7 is the most reasonable choice based on probability. However, as each roll is an independent random event, a 7 isn’t guaranteed in any particular roll."
   ]
  },
  {
   "cell_type": "markdown",
   "id": "328e9d27",
   "metadata": {},
   "source": [
    "This means the outcome of each die does not depend on the outcome of the other die, or on any previous rolls."
   ]
  },
  {
   "cell_type": "markdown",
   "id": "a6ca3450",
   "metadata": {},
   "source": [
    "For instance, let’s say you roll a pair of dice and get a 3 and a 4. The next time you roll the dice, the chances of getting any specific number (1 through 6) on each die remain exactly the same. Getting a 3 and a 4 on the first roll has no impact on the results of the second roll."
   ]
  },
  {
   "cell_type": "markdown",
   "id": "cd5904c2",
   "metadata": {},
   "source": [
    "This is the key characteristic of independent random events: - The outcome of one event does not influence the outcome of another."
   ]
  },
  {
   "cell_type": "markdown",
   "id": "4f126d76",
   "metadata": {},
   "source": [
    "So in the context of rolling dice, each roll is its own unique event with the same probabilities each time, regardless of what numbers have come up in the past."
   ]
  },
  {
   "cell_type": "markdown",
   "id": "93f3be21",
   "metadata": {},
   "source": [
    "# Complements"
   ]
  },
  {
   "cell_type": "markdown",
   "id": "e07c9b08",
   "metadata": {},
   "source": [
    "In probability, an event’s complement is everything the event doesn’t include, completing the sample space."
   ]
  },
  {
   "cell_type": "markdown",
   "id": "1c802075",
   "metadata": {},
   "source": [
    "The total probability is the sum of different events’ probabilities."
   ]
  },
  {
   "cell_type": "markdown",
   "id": "d3b3ab51",
   "metadata": {},
   "source": [
    "\n",
    "\\[A + A^c = \\text{sample space  A}\\]\n"
   ]
  },
  {
   "cell_type": "markdown",
   "id": "2a021b1c",
   "metadata": {},
   "source": [
    "Where:"
   ]
  },
  {
   "cell_type": "markdown",
   "id": "8aa97fd1",
   "metadata": {},
   "source": [
    "- \\(A^c \\leftarrow \\text{Complement: Everything the event is not}\\)"
   ]
  },
  {
   "cell_type": "markdown",
   "id": "5a776c84",
   "metadata": {},
   "source": [
    "The basic concept in probability is that the total of all possible outcomes is always equal to one, indicating 100% certainty that one of the outcomes will occur."
   ]
  },
  {
   "cell_type": "markdown",
   "id": "d77c1ab3",
   "metadata": {},
   "source": [
    "Suppose we have three possible outcomes in an experiment, we can call them A, B, and C."
   ]
  },
  {
   "cell_type": "markdown",
   "id": "63debc29",
   "metadata": {},
   "source": [
    "- \\(P(A)\\)is the probability of A occurring\n",
    "- \\(P(B)\\)is the probability of B occurring\n",
    "- \\(P(C)\\)is the probability of C occurring"
   ]
  },
  {
   "cell_type": "markdown",
   "id": "7cc467bb",
   "metadata": {},
   "source": [
    "If we add up the probabilities of all possible outcomes, the sum must equal 1."
   ]
  },
  {
   "cell_type": "markdown",
   "id": "783e52dd",
   "metadata": {},
   "source": [
    "\n",
    "\\[P(A) + P(B) + P(C) = 1 \\rightarrow 100 \\% \\ \\text{{Certain}}\\]\n"
   ]
  },
  {
   "cell_type": "markdown",
   "id": "7f9716c2",
   "metadata": {},
   "source": [
    "In other words, there is 100% certainty that one of A, B, or C will occur."
   ]
  },
  {
   "cell_type": "markdown",
   "id": "92ace03f",
   "metadata": {},
   "source": [
    "Let’s clarify this with examples."
   ]
  },
  {
   "cell_type": "markdown",
   "id": "eb4bf474",
   "metadata": {},
   "source": [
    "🪙 Coin Toss"
   ]
  },
  {
   "cell_type": "markdown",
   "id": "6aafd1e2",
   "metadata": {},
   "source": [
    "Consider flipping a coin. The outcomes—heads or tails—are guaranteed. Thus, accounting for these sums the total probability to 1."
   ]
  },
  {
   "cell_type": "markdown",
   "id": "57cd0498",
   "metadata": {},
   "source": [
    "\n",
    "\\[A \\rightarrow (Heads) \\ \\ B \\rightarrow (Tails)\\]\n"
   ]
  },
  {
   "cell_type": "markdown",
   "id": "fda1af21",
   "metadata": {},
   "source": [
    "\n",
    "\\[P(A) + P(B) = 1\\]\n"
   ]
  },
  {
   "cell_type": "markdown",
   "id": "ccfb379f",
   "metadata": {},
   "source": [
    "- What happens if\\(P(A) + P(B) > 1\\)?A total probability greater than 1 lacks intuitive sense since probabilities denote absolute certainty. An example of this could be when some outcomes simultaneously occur, causing double-counting of outcomes. We’ll handle this withBayesiannotation later.\n",
    "- What happens if\\(P(A) + P(B) < 1\\)?If the sum of probabilities is less than 1, we’ve not accounted for some outcomes."
   ]
  },
  {
   "cell_type": "markdown",
   "id": "9428c853",
   "metadata": {},
   "source": [
    "What happens if $P(A) + P(B) > 1$?"
   ]
  },
  {
   "cell_type": "markdown",
   "id": "3dae4a49",
   "metadata": {},
   "source": [
    "A total probability greater than 1 lacks intuitive sense since probabilities denote absolute certainty. An example of this could be when some outcomes simultaneously occur, causing double-counting of outcomes. We’ll handle this with Bayesian notation later."
   ]
  },
  {
   "cell_type": "markdown",
   "id": "750ae4a1",
   "metadata": {},
   "source": [
    "What happens if $P(A) + P(B) < 1$?"
   ]
  },
  {
   "cell_type": "markdown",
   "id": "7b207623",
   "metadata": {},
   "source": [
    "If the sum of probabilities is less than 1, we’ve not accounted for some outcomes."
   ]
  },
  {
   "cell_type": "markdown",
   "id": "c8676299",
   "metadata": {},
   "source": [
    "Before proceeding, note that each event has a complement (denoted by $'$). For instance, complement of $A$ is $A'$."
   ]
  },
  {
   "cell_type": "markdown",
   "id": "095578ac",
   "metadata": {},
   "source": [
    "\n",
    "\\[A' \\leftarrow Complement\\]\n"
   ]
  },
  {
   "cell_type": "markdown",
   "id": "a5f7a481",
   "metadata": {},
   "source": [
    "The complement of a complement is the event itself: $(A')' = A$."
   ]
  },
  {
   "cell_type": "markdown",
   "id": "99d540b3",
   "metadata": {},
   "source": [
    "🎲 Rolling a die"
   ]
  },
  {
   "cell_type": "markdown",
   "id": "5953c6f1",
   "metadata": {},
   "source": [
    "Consider rolling a six-sided die intending to roll an even number. The complement is rolling an odd number."
   ]
  },
  {
   "cell_type": "markdown",
   "id": "bf47700a",
   "metadata": {},
   "source": [
    "- \\(A\\): ⚀⚁⚂⚃⚄⚅\n",
    "- \\(B\\): NOT 3"
   ]
  },
  {
   "cell_type": "markdown",
   "id": "49c858ac",
   "metadata": {},
   "source": [
    "\n",
    "\\[A = B\\]\n"
   ]
  },
  {
   "cell_type": "markdown",
   "id": "6517f54a",
   "metadata": {},
   "source": [
    "Calculating the complement involves taking 1 minus the probability of the event."
   ]
  },
  {
   "cell_type": "markdown",
   "id": "149e9e16",
   "metadata": {},
   "source": [
    "All possible outcomes are $A$, $B$, and $C$, and their probabilities must add up to 1"
   ]
  },
  {
   "cell_type": "markdown",
   "id": "8e8ca93f",
   "metadata": {},
   "source": [
    "\n",
    "\\[P(A) + P(B) + P(C) = 1\\]\n"
   ]
  },
  {
   "cell_type": "markdown",
   "id": "0e822f90",
   "metadata": {},
   "source": [
    "In this case, $A$ (the complement of $A$) is equal to $B$ plus $C$ ($A' = B + C$) and the probability is:"
   ]
  },
  {
   "cell_type": "markdown",
   "id": "576a1565",
   "metadata": {},
   "source": [
    "\n",
    "\\[P(A') = 1 - P(A)\\]\n"
   ]
  },
  {
   "cell_type": "markdown",
   "id": "deedb8f9",
   "metadata": {},
   "source": [
    "Considering the example of rolling a 1, 2, 4, 5, or 6 (i.e., not a 3), the total probability is the sum of these outcomes’ probabilities. Since each outcome has a probability of one-sixth, the sum is 5/6."
   ]
  },
  {
   "cell_type": "markdown",
   "id": "9e5a6bc2",
   "metadata": {},
   "source": [
    "\n",
    "\\[P(A) = ⚀ + ⚁ + ⚃ + ⚄ + ⚅\\]\n"
   ]
  },
  {
   "cell_type": "markdown",
   "id": "0542260a",
   "metadata": {},
   "source": [
    "\n",
    "\\[P(A) = P(1) + P(2) + P(4) + P(5) + P(6)\\]\n"
   ]
  },
  {
   "cell_type": "markdown",
   "id": "8f6eac14",
   "metadata": {},
   "source": [
    "\n",
    "\\[= \\frac{1}{6} + \\frac{1}{6} + \\frac{1}{6} + \\frac{1}{6} + \\frac{1}{6} = \\frac{5}{6}\\]\n"
   ]
  },
  {
   "cell_type": "markdown",
   "id": "25aadfd1",
   "metadata": {},
   "source": [
    "Now we consider $B$ where we don’t get a 3 when rolling the dice, and $B'$ is a 3, then:"
   ]
  },
  {
   "cell_type": "markdown",
   "id": "564f1858",
   "metadata": {},
   "source": [
    "\n",
    "\\[P(B') = \\frac{1}{6}\\]\n"
   ]
  },
  {
   "cell_type": "markdown",
   "id": "6c2a63b4",
   "metadata": {},
   "source": [
    "And $P(B)$ is the complement of $B'$, so that:"
   ]
  },
  {
   "cell_type": "markdown",
   "id": "3988e5d0",
   "metadata": {},
   "source": [
    "\n",
    "\\[P(B) = 1 - P(B') = 1 - \\frac{1}{6} = \\frac{5}{6}\\]\n"
   ]
  },
  {
   "cell_type": "markdown",
   "id": "8efdbdcb",
   "metadata": {},
   "source": [
    "Thus, the probability of getting any number except 3 (i.e., $P(A)$) is equal to the probability of $P(B)$."
   ]
  },
  {
   "cell_type": "markdown",
   "id": "473f7310",
   "metadata": {},
   "source": [
    "\n",
    "\\[P(A) = \\frac{5}{6} = P(B)\\]\n"
   ]
  }
 ],
 "metadata": {},
 "nbformat": 4,
 "nbformat_minor": 5
}
