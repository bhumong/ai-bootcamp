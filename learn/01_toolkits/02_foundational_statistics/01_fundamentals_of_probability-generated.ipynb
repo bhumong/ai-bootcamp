{
 "cells": [
  {
   "cell_type": "markdown",
   "id": "d6c9271f",
   "metadata": {},
   "source": [
    "# Fundamentals of Probability"
   ]
  },
  {
   "cell_type": "markdown",
   "id": "58283645",
   "metadata": {},
   "source": [
    "This topic explores crucial theories for machine and deep learning, focusing on probability theory and distributions. We’ll cover:"
   ]
  },
  {
   "cell_type": "markdown",
   "id": "f7019c8c",
   "metadata": {},
   "source": [
    "We’ll then build our first probability frequency distribution, getting hands-on with permutations and their real-world applications. We’ll illustrate the differences between variations and permutations:"
   ]
  },
  {
   "cell_type": "markdown",
   "id": "fce20741",
   "metadata": {},
   "source": [
    "These concepts are vital for understanding examples in various fields."
   ]
  },
  {
   "cell_type": "markdown",
   "id": "ee4e6e8e",
   "metadata": {},
   "source": [
    "# Introduction"
   ]
  },
  {
   "cell_type": "markdown",
   "id": "6ccbdff0",
   "metadata": {},
   "source": [
    "Life is full of uncertainties that often lead us to ask questions like: - What’s the best route to take for a journey? - Will it rain tomorrow? - Is it wise to invest in a certain financial product?"
   ]
  },
  {
   "cell_type": "markdown",
   "id": "d8dce0a6",
   "metadata": {},
   "source": [
    "These questions require us to predict outcomes, and the methods we use to navigate these uncertainties are rooted in the fields of probability and statistics."
   ]
  },
  {
   "cell_type": "markdown",
   "id": "95a5da90",
   "metadata": {},
   "source": [
    "These very principles form the bedrock of machine learning algorithms, enabling them to learn from data, make predictions, and improve over time."
   ]
  },
  {
   "cell_type": "markdown",
   "id": "f1330927",
   "metadata": {},
   "source": [
    "So, what’s probability? 🤔 It’s simply the likelihood of an event occurring. An “event” in probability denotes a specific or a combination of outcomes, like:"
   ]
  },
  {
   "cell_type": "markdown",
   "id": "3ac74494",
   "metadata": {},
   "source": [
    "For example, a coin toss isn’t a single-probability event as it can result in head or tails. We need to assign a probability for each outcome."
   ]
  },
  {
   "cell_type": "markdown",
   "id": "8946d843",
   "metadata": {},
   "source": [
    "The outcomes can be: - “Head > Tail” - “Head = Tail” - “Head < Tail”."
   ]
  },
  {
   "cell_type": "markdown",
   "id": "820a1f61",
   "metadata": {},
   "source": [
    "Understanding uncertainty involves measuring and comparing probabilities to know which event is more likely. We represent probabilities numerically."
   ]
  },
  {
   "cell_type": "markdown",
   "id": "2cc100f0",
   "metadata": {},
   "source": [
    "Probabilities can be percentages or fractions, but we typically express them as numbers between zero and one. For instance, 20% or \\(\\frac{1}{5}\\) will be written as 0.2."
   ]
  },
  {
   "cell_type": "markdown",
   "id": "d45027b3",
   "metadata": {},
   "source": [
    "Interpreting probability values: - 1 stands for the absolute certainty of an event, - 0 implies the event will certainly not happen. - Higher values indicate higher likelihoods."
   ]
  },
  {
   "cell_type": "markdown",
   "id": "f8cd6f2d",
   "metadata": {},
   "source": [
    "Most events will have probabilities between 0 and 1, so figures like 0.2, 0.5, and 0.66 are common."
   ]
  },
  {
   "cell_type": "markdown",
   "id": "30009182",
   "metadata": {},
   "source": [
    "Let’s take a look at probabilities of events occuring and not occuring given the chances are equal:"
   ]
  },
  {
   "cell_type": "code",
   "execution_count": null,
   "id": "9c1f147b",
   "metadata": {},
   "outputs": [],
   "source": [
    "# @title #### Probabilities\n",
    "\n",
    "import matplotlib.pyplot as plt\n",
    "import numpy as np\n",
    "\n",
    "x = np.linspace(0, 1, 100)\n",
    "y = x \n",
    "\n",
    "plt.figure(figsize=(12, 8))\n",
    "plt.fill_between(x, y, color=\"skyblue\", alpha=0.3)\n",
    "\n",
    "plt.plot(x, y, color=\"Steelblue\", alpha=0.9, linewidth=2.5, label='Probability line')\n",
    "\n",
    "plt.scatter([0.2], [0], color='red', s=100, label='x = 0.2', edgecolors='black')\n",
    "plt.scatter([0.5], [0], color='green', s=100, label='x = 0.5', edgecolors='black')\n",
    "plt.scatter([0.66], [0], color='purple', s=100, label='x = 0.66', edgecolors='black')\n",
    "\n",
    "plt.xlabel('Event not occuring', fontsize=14)\n",
    "plt.ylabel('Event occuring', fontsize=14)\n",
    "\n",
    "plt.title('Probabilities', fontsize=18, pad=25)\n",
    "plt.legend(loc='upper left')\n",
    "\n",
    "plt.text(0.15, 0.15, '0: Absolute certainty of the event NOT occuring', ha='center', fontsize=10, bbox=dict(facecolor='white', edgecolor='black', boxstyle='round,pad=0.5'))\n",
    "plt.text(0.85, 0.85, '1: Absolute certainty of the event occuring', ha='center', fontsize=10, bbox=dict(facecolor='white', edgecolor='black', boxstyle='round,pad=0.5'))\n",
    "plt.text(1.05, 1, 'Higher likelihood', ha='center', fontsize=10, va='center')\n",
    "\n",
    "plt.xticks(np.arange(0, 1.1, 0.1)) \n",
    "plt.yticks(np.arange(0, 1.1, 0.1))\n",
    "\n",
    "plt.grid(True, linestyle='-.', alpha=0.4)\n",
    "\n",
    "plt.show()"
   ]
  },
  {
   "cell_type": "markdown",
   "id": "79efbc9f",
   "metadata": {},
   "source": []
  },
  {
   "cell_type": "markdown",
   "id": "5d586a8d",
   "metadata": {},
   "source": [
    "As you can see, given all things are equal, the probabilities can be drawn as a straight line."
   ]
  },
  {
   "cell_type": "markdown",
   "id": "85d64608",
   "metadata": {},
   "source": [
    "# Favorable Outcomes"
   ]
  },
  {
   "cell_type": "markdown",
   "id": "ab8d8604",
   "metadata": {},
   "source": [
    "Even without exact probabilities, it’s intuitive that some events are likelier. For instance, winning a coin toss is more probable than the lottery. Let’s take a look:"
   ]
  },
  {
   "cell_type": "markdown",
   "id": "3cfcb651",
   "metadata": {},
   "source": [
    "The probability of an event \\(A\\), denoted as \\(P(A)\\), is the ratio of desirable outcomes to total outcomes. Preferred or “favorable” outcomes are the results we aim for, while the sample space comprises all possible outcomes."
   ]
  },
  {
   "cell_type": "markdown",
   "id": "cb1207db",
   "metadata": {},
   "source": [
    "\\[P(A)= \\frac{preferred}{all} \\to \\frac{favourable}{sample \\ space}\\]"
   ]
  },
  {
   "cell_type": "markdown",
   "id": "5dd91465",
   "metadata": {},
   "source": [
    "🪙 Coin flip"
   ]
  },
  {
   "cell_type": "markdown",
   "id": "266dec77",
   "metadata": {},
   "source": [
    "If event \\(A\\) is flipping a coin for Heads, it’s the only desired outcome. With two possible outcomes, Heads or Tails, the probability is:"
   ]
  },
  {
   "cell_type": "markdown",
   "id": "af9fa1b9",
   "metadata": {},
   "source": [
    "\\[P(A)= \\frac{1}{2} = 0.5\\]"
   ]
  },
  {
   "cell_type": "markdown",
   "id": "286a58ce",
   "metadata": {},
   "source": [
    "🎲 Six-sided die roll"
   ]
  },
  {
   "cell_type": "markdown",
   "id": "b2c1cc86",
   "metadata": {},
   "source": [
    "With a six-sided die, if we wish to roll a \\(4\\), the desired outcome is \\(1\\), with \\(6\\) possible outcomes. This gives a probability of:"
   ]
  },
  {
   "cell_type": "markdown",
   "id": "f1dd843a",
   "metadata": {},
   "source": [
    "\\[P(A) = \\frac{1}{6} = 0.167\\]"
   ]
  },
  {
   "cell_type": "markdown",
   "id": "2ec856cb",
   "metadata": {},
   "source": [
    "If we want a number divisible by 3, i.e., 3 or 6, desired outcomes are 2, giving a probability of:"
   ]
  },
  {
   "cell_type": "markdown",
   "id": "5052f4a2",
   "metadata": {},
   "source": [
    "\\[P(A) = \\frac{2}{6} = 0.33\\]"
   ]
  },
  {
   "cell_type": "markdown",
   "id": "75ce304c",
   "metadata": {},
   "source": [
    "🎟️ Winning the lottery"
   ]
  },
  {
   "cell_type": "markdown",
   "id": "710ca68d",
   "metadata": {},
   "source": [
    "With the lottery, you divide the number of tickets bought by all possible outcomes. Given there are over 175 million outcomes, each ticket’s probability is:"
   ]
  },
  {
   "cell_type": "markdown",
   "id": "a85e9ed8",
   "metadata": {},
   "source": [
    "\\[P(A)= \\frac{1}{175 000 000} = 0.000 000 005\\]"
   ]
  },
  {
   "cell_type": "markdown",
   "id": "5b0b973f",
   "metadata": {},
   "source": [
    "Buying more tickets increases the winning probability. Comparing this with a coin toss, the latter is more likely."
   ]
  },
  {
   "cell_type": "markdown",
   "id": "b511d02d",
   "metadata": {},
   "source": [
    "# Expected Values"
   ]
  },
  {
   "cell_type": "markdown",
   "id": "5176f4af",
   "metadata": {},
   "source": [
    "The Expected Value in probability is the average outcome if an experiment is repeated 🧪. It can be estimated through multiple trials. The experimental probability is calculated by dividing successful trials by all trials:"
   ]
  },
  {
   "cell_type": "markdown",
   "id": "eead99f3",
   "metadata": {},
   "source": [
    "\\[P(A) = \\frac{\\text{successful trial}}{\\text{all trials}}\\]"
   ]
  },
  {
   "cell_type": "markdown",
   "id": "b532b09d",
   "metadata": {},
   "source": [
    "The Expected Value of an event \\(A\\), \\(E(A)\\), is the anticipated result of an experiment. It’s found by multiplying the event’s theoretical probability \\(P(A)\\) by the number of trials \\(n\\)."
   ]
  },
  {
   "cell_type": "markdown",
   "id": "c1c0fd0d",
   "metadata": {},
   "source": [
    "\\[E(A) = P(A) \\times n\\]"
   ]
  },
  {
   "cell_type": "markdown",
   "id": "dcab0c58",
   "metadata": {},
   "source": [
    "Where:"
   ]
  },
  {
   "cell_type": "markdown",
   "id": "6319f5ec",
   "metadata": {},
   "source": [
    "🃏 Playing cards"
   ]
  },
  {
   "cell_type": "markdown",
   "id": "c9b011cc",
   "metadata": {},
   "source": [
    "For instance, we try to calculate the expected value of taking a “Spade ♠” type card in \\(20\\) card draws. It is known that the probability of picking a “Spade ♠” suit card (if it is assumed that we choose from a standard set of cards) is \\(0.25\\) or \\(1/4\\), because there are \\(13\\) “Spade ♠” cards out of a total of \\(52\\) cards."
   ]
  },
  {
   "cell_type": "markdown",
   "id": "284550df",
   "metadata": {},
   "source": [
    "\\[E(A) = 0.25 \\times 20 = 5\\]"
   ]
  },
  {
   "cell_type": "markdown",
   "id": "a11d0276",
   "metadata": {},
   "source": [
    "This suggests we expect to draw a spade 5 times, though actual results may vary."
   ]
  },
  {
   "cell_type": "markdown",
   "id": "99cc467a",
   "metadata": {},
   "source": [
    "Having understood the concept of expected value in the context of drawing Spades from a deck of cards, let’s now consider a different scenario."
   ]
  },
  {
   "cell_type": "markdown",
   "id": "bf604b3b",
   "metadata": {},
   "source": [
    "🎯 Bullseye"
   ]
  },
  {
   "cell_type": "markdown",
   "id": "0723827a",
   "metadata": {},
   "source": [
    "Imagine playing a game of darts where hitting the bullseye is our event of interest. Let’s say that after practicing, we found that our probability of hitting the bullseye is \\(1/3\\). If we throw the dart \\(20\\) times, we can calculate our expected number of bullseyes as follows:"
   ]
  },
  {
   "cell_type": "markdown",
   "id": "978a6ba8",
   "metadata": {},
   "source": [
    "\\[E(Bullseye) = \\frac{1}{3} \\times 20 = 6.67\\]"
   ]
  },
  {
   "cell_type": "markdown",
   "id": "83134f66",
   "metadata": {},
   "source": [
    "This suggests we expect to hit the bullseye about 7 times, although actual results may vary."
   ]
  },
  {
   "cell_type": "markdown",
   "id": "d83aa2c8",
   "metadata": {},
   "source": [
    "However, the real world often presents us with scenarios that are more complex than a single event. In many cases, we have multiple outcomes, each with its own associated probability. This is where the concept of expected value for numerical outcomes comes into play."
   ]
  },
  {
   "cell_type": "markdown",
   "id": "4a059e0b",
   "metadata": {},
   "source": [
    "In Numerical Outcomes, the expected value is the sum of each possible outcome multiplied by its respective probability. This is essentially a way to calculate a weighted average of all possible outcomes, where the weight for each outcome is its probability."
   ]
  },
  {
   "cell_type": "markdown",
   "id": "2a9ca66b",
   "metadata": {},
   "source": [
    "\\[E(X) = A.P(A) + B.P(B) + C.P(C) + ...\\]"
   ]
  },
  {
   "cell_type": "markdown",
   "id": "f4f91236",
   "metadata": {},
   "source": [
    "Where:"
   ]
  },
  {
   "cell_type": "markdown",
   "id": "e18b6fd6",
   "metadata": {},
   "source": [
    "🎯Archery"
   ]
  },
  {
   "cell_type": "markdown",
   "id": "a506e7d0",
   "metadata": {},
   "source": [
    "To illustrate this, let’s consider an archery target 🎯 with three layers:"
   ]
  },
  {
   "cell_type": "markdown",
   "id": "545a9102",
   "metadata": {},
   "source": [
    "In practice, these probability values may be based on empirical data or previous observations."
   ]
  },
  {
   "cell_type": "markdown",
   "id": "52b3e409",
   "metadata": {},
   "source": [
    "The expected value for this scenario is:"
   ]
  },
  {
   "cell_type": "markdown",
   "id": "aef8b14d",
   "metadata": {},
   "source": [
    "\\[E(X) = 0.5 \\cdot 10 + 0.4 \\cdot 20 + 0.1 \\cdot 100 = 5 + 8 + 10 = 23\\]"
   ]
  },
  {
   "cell_type": "markdown",
   "id": "04b1dd8a",
   "metadata": {},
   "source": [
    "So, if we take a lot of shots, our average expected score per shot is 23 points. (The more tries we take, the closer our average score will get to this expected value)"
   ]
  },
  {
   "cell_type": "markdown",
   "id": "be6e46b6",
   "metadata": {},
   "source": [
    "What is this done for? This is usually useful in forecasting, such as weather prediction, where ranges are given due to inherent uncertainty. However, the results are sometimes equivocal or uninformative."
   ]
  },
  {
   "cell_type": "markdown",
   "id": "3d4883c1",
   "metadata": {},
   "source": [
    "So far we have look at a single example, what if we have two events occuring at the same time?"
   ]
  },
  {
   "cell_type": "markdown",
   "id": "7b7eb778",
   "metadata": {},
   "source": [
    "Understanding Expected Value (E(A))"
   ]
  },
  {
   "cell_type": "markdown",
   "id": "3e8a25da",
   "metadata": {},
   "source": [
    "Imagine a scenario where you roll two six-sided dice and add the numbers that come up on top. With six potential results for each die, the possible outcomes for the sum, denoted as \\(A\\), are:"
   ]
  },
  {
   "cell_type": "markdown",
   "id": "bf93a569",
   "metadata": {},
   "source": [
    "\\[A = 🎲(⚀⚁⚂⚃⚄⚅) + 🎲 (⚀⚁⚂⚃⚄⚅)\\]"
   ]
  },
  {
   "cell_type": "markdown",
   "id": "d92967d1",
   "metadata": {},
   "source": [
    "The table below illustrates the sum of the die rolls for each possible outcome:"
   ]
  },
  {
   "cell_type": "markdown",
   "id": "aa590183",
   "metadata": {},
   "source": [
    "In total, there are \\(6 \\times 6 = 36\\) possible outcomes."
   ]
  },
  {
   "cell_type": "markdown",
   "id": "caa12fa0",
   "metadata": {},
   "source": [
    "The number 7 appears 6 times among these 36 outcomes, which means the probability of the sum being 7 when rolling two dice, \\(P(7)\\) is \\(\\frac{6}{36} = \\frac{1}{6}\\)"
   ]
  },
  {
   "cell_type": "markdown",
   "id": "4b5b39d8",
   "metadata": {},
   "source": [
    "The expected value of this scenario, \\(E(A)\\), is calculated by summing the product of each possible outcome and its probability:"
   ]
  },
  {
   "cell_type": "markdown",
   "id": "f4c6fc29",
   "metadata": {},
   "source": [
    "\\[E(A) = P(2).2+P(3).3 + ... + P(12).12 = 7\\]"
   ]
  },
  {
   "cell_type": "markdown",
   "id": "503489df",
   "metadata": {},
   "source": [
    "This formula gives us the “center” of the probability distribution or the average outcome expected if we were to repeat this dice roll many times. In this case, the expected value is 7."
   ]
  },
  {
   "cell_type": "markdown",
   "id": "07787a02",
   "metadata": {},
   "source": [
    "However, it’s crucial to understand that the expected value being 7 does not mean that 7 is a “likely” outcome. With a probability of only one-sixth, the sum of 7, although the most probable single outcome, is not likely in absolute terms. So, betting on exactly 7 wouldn’t be a reasonable strategy."
   ]
  },
  {
   "cell_type": "markdown",
   "id": "757883f3",
   "metadata": {},
   "source": [
    "\\[P[E(A)] = P(7) = 1/6\\]"
   ]
  },
  {
   "cell_type": "markdown",
   "id": "657d31cb",
   "metadata": {},
   "source": [
    "This shows us that probability quantifies the likelihood of each individual event."
   ]
  },
  {
   "cell_type": "markdown",
   "id": "0f5e28cc",
   "metadata": {},
   "source": [
    "A probability frequency distribution can help visualize all possible outcomes and their corresponding probabilities, highlighting how some outcomes are more probable than others, but no single outcome is “likely” in absolute terms."
   ]
  },
  {
   "cell_type": "markdown",
   "id": "3dd9c25b",
   "metadata": {},
   "source": [
    "# Probability frequency distribution"
   ]
  },
  {
   "cell_type": "markdown",
   "id": "a2ab9278",
   "metadata": {},
   "source": [
    "In a probability frequency distribution, we note the frequency of each unique sum from the sample space."
   ]
  },
  {
   "cell_type": "markdown",
   "id": "92d34b86",
   "metadata": {},
   "source": [
    "For instance, the sum 8 occurs 5 times, so its frequency is 5."
   ]
  },
  {
   "cell_type": "markdown",
   "id": "685dd8b5",
   "metadata": {},
   "source": [
    "To convert frequencies into probabilities, divide each frequency by the sample size (36). This produces a probability frequency distribution."
   ]
  },
  {
   "cell_type": "markdown",
   "id": "dac5f93e",
   "metadata": {},
   "source": [
    "This distribution can be shown in a table or a graph."
   ]
  },
  {
   "cell_type": "code",
   "execution_count": null,
   "id": "e7481625",
   "metadata": {},
   "outputs": [],
   "source": [
    "import matplotlib.pyplot as plt\n",
    "import pandas as pd\n",
    "from fractions import Fraction\n",
    "\n",
    "data = {'Sum': [2, 3, 4, 5, 6, 7, 8, 9, 10, 11, 12],\n",
    "        'Frequency': [1, 2, 3, 4, 5, 6, 5, 4, 3, 2, 1],\n",
    "        'Probability': [1/36, 1/18, 1/12, 1/9, 5/36, 1/6, 5/36, 1/9, 1/12, 1/18, 1/36]}\n",
    "\n",
    "df = pd.DataFrame(data)\n",
    "\n",
    "plt.figure(figsize=(10, 7))\n",
    "\n",
    "plt.bar(df['Sum'], df['Probability'], color='skyblue')\n",
    "\n",
    "plt.xlabel('Sum', fontsize=12)\n",
    "plt.ylabel('Probability', fontsize=12)\n",
    "\n",
    "fractions = [str(Fraction(i).limit_denominator()) for i in df['Probability'].unique()]\n",
    "plt.yticks(df['Probability'].unique(), labels=fractions)\n",
    "\n",
    "plt.title('Probability Frequency Distribution', fontsize=15, pad=20)\n",
    "\n",
    "plt.xticks(df['Sum'])\n",
    "\n",
    "plt.grid(True, linestyle='--', alpha=0.6)\n",
    "\n",
    "plt.show()"
   ]
  },
  {
   "cell_type": "markdown",
   "id": "6d9b9ff6",
   "metadata": {},
   "source": []
  },
  {
   "cell_type": "markdown",
   "id": "49cc3f49",
   "metadata": {},
   "source": [
    "In rolling two dice, the number 7 is likeliest. There are more ways to sum to 7 (1+6, 2+5, 3+4, 4+3, 5+2, 6+1) than to any other number."
   ]
  },
  {
   "cell_type": "markdown",
   "id": "bd697936",
   "metadata": {},
   "source": [
    "Over many trials, 7 will appear more often. So, if guessing a roll’s outcome, 7 is the most reasonable choice based on probability. However, as each roll is an independent random event, a 7 isn’t guaranteed in any particular roll."
   ]
  },
  {
   "cell_type": "markdown",
   "id": "3bc7950a",
   "metadata": {},
   "source": [
    "This means the outcome of each die does not depend on the outcome of the other die, or on any previous rolls."
   ]
  },
  {
   "cell_type": "markdown",
   "id": "f4aac10b",
   "metadata": {},
   "source": [
    "For instance, let’s say you roll a pair of dice and get a 3 and a 4. The next time you roll the dice, the chances of getting any specific number (1 through 6) on each die remain exactly the same. Getting a 3 and a 4 on the first roll has no impact on the results of the second roll."
   ]
  },
  {
   "cell_type": "markdown",
   "id": "7d7b5f86",
   "metadata": {},
   "source": [
    "This is the key characteristic of independent random events: - The outcome of one event does not influence the outcome of another."
   ]
  },
  {
   "cell_type": "markdown",
   "id": "e4cdb3c5",
   "metadata": {},
   "source": [
    "So in the context of rolling dice, each roll is its own unique event with the same probabilities each time, regardless of what numbers have come up in the past."
   ]
  },
  {
   "cell_type": "markdown",
   "id": "774befb3",
   "metadata": {},
   "source": [
    "# Complements"
   ]
  },
  {
   "cell_type": "markdown",
   "id": "887e7283",
   "metadata": {},
   "source": [
    "In probability, an event’s complement is everything the event doesn’t include, completing the sample space."
   ]
  },
  {
   "cell_type": "markdown",
   "id": "0db56287",
   "metadata": {},
   "source": [
    "The total probability is the sum of different events’ probabilities."
   ]
  },
  {
   "cell_type": "markdown",
   "id": "d8458f4a",
   "metadata": {},
   "source": [
    "\\[A + A^c = \\text{sample space  A}\\]"
   ]
  },
  {
   "cell_type": "markdown",
   "id": "79cb3aab",
   "metadata": {},
   "source": [
    "Where:"
   ]
  },
  {
   "cell_type": "markdown",
   "id": "5b0de421",
   "metadata": {},
   "source": [
    "The basic concept in probability is that the total of all possible outcomes is always equal to one, indicating 100% certainty that one of the outcomes will occur."
   ]
  },
  {
   "cell_type": "markdown",
   "id": "77ac6476",
   "metadata": {},
   "source": [
    "Suppose we have three possible outcomes in an experiment, we can call them A, B, and C."
   ]
  },
  {
   "cell_type": "markdown",
   "id": "e4fb661f",
   "metadata": {},
   "source": [
    "If we add up the probabilities of all possible outcomes, the sum must equal 1."
   ]
  },
  {
   "cell_type": "markdown",
   "id": "8eff89bd",
   "metadata": {},
   "source": [
    "\\[P(A) + P(B) + P(C) = 1 \\rightarrow 100 \\% \\ \\text{{Certain}}\\]"
   ]
  },
  {
   "cell_type": "markdown",
   "id": "cebcfb9c",
   "metadata": {},
   "source": [
    "In other words, there is 100% certainty that one of A, B, or C will occur."
   ]
  },
  {
   "cell_type": "markdown",
   "id": "cb69601f",
   "metadata": {},
   "source": [
    "Let’s clarify this with examples."
   ]
  },
  {
   "cell_type": "markdown",
   "id": "b6d2f5d2",
   "metadata": {},
   "source": [
    "🪙 Coin Toss"
   ]
  },
  {
   "cell_type": "markdown",
   "id": "6c19db56",
   "metadata": {},
   "source": [
    "Consider flipping a coin. The outcomes—heads or tails—are guaranteed. Thus, accounting for these sums the total probability to 1."
   ]
  },
  {
   "cell_type": "markdown",
   "id": "916c3fd4",
   "metadata": {},
   "source": [
    "\\[A \\rightarrow (Heads) \\ \\ B \\rightarrow (Tails)\\]"
   ]
  },
  {
   "cell_type": "markdown",
   "id": "9b819176",
   "metadata": {},
   "source": [
    "\\[P(A) + P(B) = 1\\]"
   ]
  },
  {
   "cell_type": "markdown",
   "id": "7c6f00d9",
   "metadata": {},
   "source": [
    "What happens if \\(P(A) + P(B) > 1\\)?"
   ]
  },
  {
   "cell_type": "markdown",
   "id": "96f1d66f",
   "metadata": {},
   "source": [
    "A total probability greater than 1 lacks intuitive sense since probabilities denote absolute certainty. An example of this could be when some outcomes simultaneously occur, causing double-counting of outcomes. We’ll handle this with Bayesian notation later."
   ]
  },
  {
   "cell_type": "markdown",
   "id": "b5de054c",
   "metadata": {},
   "source": [
    "What happens if \\(P(A) + P(B) < 1\\)?"
   ]
  },
  {
   "cell_type": "markdown",
   "id": "077216ad",
   "metadata": {},
   "source": [
    "If the sum of probabilities is less than 1, we’ve not accounted for some outcomes."
   ]
  },
  {
   "cell_type": "markdown",
   "id": "35f9f02f",
   "metadata": {},
   "source": [
    "Before proceeding, note that each event has a complement (denoted by \\('\\)). For instance, complement of \\(A\\) is \\(A'\\)."
   ]
  },
  {
   "cell_type": "markdown",
   "id": "14c1b996",
   "metadata": {},
   "source": [
    "\\[A' \\leftarrow Complement\\]"
   ]
  },
  {
   "cell_type": "markdown",
   "id": "648bad04",
   "metadata": {},
   "source": [
    "The complement of a complement is the event itself: \\((A')' = A\\)."
   ]
  },
  {
   "cell_type": "markdown",
   "id": "6282708d",
   "metadata": {},
   "source": [
    "🎲 Rolling a die"
   ]
  },
  {
   "cell_type": "markdown",
   "id": "55a09833",
   "metadata": {},
   "source": [
    "Consider rolling a six-sided die intending to roll an even number. The complement is rolling an odd number."
   ]
  },
  {
   "cell_type": "markdown",
   "id": "c17cd33a",
   "metadata": {},
   "source": [
    "\\[A = B\\]"
   ]
  },
  {
   "cell_type": "markdown",
   "id": "b98e0013",
   "metadata": {},
   "source": [
    "Calculating the complement involves taking 1 minus the probability of the event."
   ]
  },
  {
   "cell_type": "markdown",
   "id": "36c31b0b",
   "metadata": {},
   "source": [
    "All possible outcomes are \\(A\\), \\(B\\), and \\(C\\), and their probabilities must add up to 1"
   ]
  },
  {
   "cell_type": "markdown",
   "id": "d5f0cb1c",
   "metadata": {},
   "source": [
    "\\[P(A) + P(B) + P(C) = 1\\]"
   ]
  },
  {
   "cell_type": "markdown",
   "id": "64a611e9",
   "metadata": {},
   "source": [
    "In this case, \\(A\\) (the complement of \\(A\\)) is equal to \\(B\\) plus \\(C\\) (\\(A' = B + C\\)) and the probability is:"
   ]
  },
  {
   "cell_type": "markdown",
   "id": "ca8739c5",
   "metadata": {},
   "source": [
    "\\[P(A') = 1 - P(A)\\]"
   ]
  },
  {
   "cell_type": "markdown",
   "id": "73ac2905",
   "metadata": {},
   "source": [
    "Considering the example of rolling a 1, 2, 4, 5, or 6 (i.e., not a 3), the total probability is the sum of these outcomes’ probabilities. Since each outcome has a probability of one-sixth, the sum is 5/6."
   ]
  },
  {
   "cell_type": "markdown",
   "id": "77679a22",
   "metadata": {},
   "source": [
    "\\[P(A) = ⚀ + ⚁ + ⚃ + ⚄ + ⚅\\]"
   ]
  },
  {
   "cell_type": "markdown",
   "id": "976c3851",
   "metadata": {},
   "source": [
    "\\[P(A) = P(1) + P(2) + P(4) + P(5) + P(6)\\]"
   ]
  },
  {
   "cell_type": "markdown",
   "id": "38167701",
   "metadata": {},
   "source": [
    "\\[= \\frac{1}{6} + \\frac{1}{6} + \\frac{1}{6} + \\frac{1}{6} + \\frac{1}{6} = \\frac{5}{6}\\]"
   ]
  },
  {
   "cell_type": "markdown",
   "id": "efdc2915",
   "metadata": {},
   "source": [
    "Now we consider \\(B\\) where we don’t get a 3 when rolling the dice, and \\(B'\\) is a 3, then:"
   ]
  },
  {
   "cell_type": "markdown",
   "id": "278dbafd",
   "metadata": {},
   "source": [
    "\\[P(B') = \\frac{1}{6}\\]"
   ]
  },
  {
   "cell_type": "markdown",
   "id": "afc58672",
   "metadata": {},
   "source": [
    "And \\(P(B)\\) is the complement of \\(B'\\), so that:"
   ]
  },
  {
   "cell_type": "markdown",
   "id": "b07d71f0",
   "metadata": {},
   "source": [
    "\\[P(B) = 1 - P(B') = 1 - \\frac{1}{6} = \\frac{5}{6}\\]"
   ]
  },
  {
   "cell_type": "markdown",
   "id": "21469488",
   "metadata": {},
   "source": [
    "Thus, the probability of getting any number except 3 (i.e., \\(P(A)\\)) is equal to the probability of \\(P(B)\\)."
   ]
  },
  {
   "cell_type": "markdown",
   "id": "a43980f8",
   "metadata": {},
   "source": [
    "\\[P(A) = \\frac{5}{6} = P(B)\\]"
   ]
  }
 ],
 "metadata": {},
 "nbformat": 4,
 "nbformat_minor": 5
}
