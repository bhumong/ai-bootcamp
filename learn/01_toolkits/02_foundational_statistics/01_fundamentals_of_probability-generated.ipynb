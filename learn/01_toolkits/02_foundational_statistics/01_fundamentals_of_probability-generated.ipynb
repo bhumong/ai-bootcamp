{
 "cells": [
  {
   "cell_type": "markdown",
   "id": "c1391c25",
   "metadata": {},
   "source": [
    "source: [link](https://ai-bootcamp.ruangguru.com/learn/01_toolkits/02_foundational_statistics/01_fundamentals_of_probability.html)"
   ]
  },
  {
   "cell_type": "markdown",
   "id": "87acb36f",
   "metadata": {},
   "source": [
    "# Fundamentals of Probability"
   ]
  },
  {
   "cell_type": "markdown",
   "id": "9a338901",
   "metadata": {},
   "source": [
    "This topic explores crucial theories for machine and deep learning, focusing on probability theory and distributions. We’ll cover:"
   ]
  },
  {
   "cell_type": "markdown",
   "id": "7966327e",
   "metadata": {},
   "source": [
    "We’ll then build our first probability frequency distribution, getting hands-on with permutations and their real-world applications. We’ll illustrate the differences between variations and permutations:"
   ]
  },
  {
   "cell_type": "markdown",
   "id": "0034f1ab",
   "metadata": {},
   "source": [
    "These concepts are vital for understanding examples in various fields."
   ]
  },
  {
   "cell_type": "markdown",
   "id": "33d11b54",
   "metadata": {},
   "source": [
    "# Introduction"
   ]
  },
  {
   "cell_type": "markdown",
   "id": "8a0dd399",
   "metadata": {},
   "source": [
    "Life is full of uncertainties that often lead us to ask questions like: - What’s the best route to take for a journey? - Will it rain tomorrow? - Is it wise to invest in a certain financial product?"
   ]
  },
  {
   "cell_type": "markdown",
   "id": "fbdf0f7a",
   "metadata": {},
   "source": [
    "These questions require us to predict outcomes, and the methods we use to navigate these uncertainties are rooted in the fields of probability and statistics."
   ]
  },
  {
   "cell_type": "markdown",
   "id": "ae29df08",
   "metadata": {},
   "source": [
    "These very principles form the bedrock of machine learning algorithms, enabling them to learn from data, make predictions, and improve over time."
   ]
  },
  {
   "cell_type": "markdown",
   "id": "b6864b3f",
   "metadata": {},
   "source": [
    "So, what’s probability? 🤔 It’s simply the likelihood of an event occurring. An “event” in probability denotes a specific or a combination of outcomes, like:"
   ]
  },
  {
   "cell_type": "markdown",
   "id": "adf8bb25",
   "metadata": {},
   "source": [
    "For example, a coin toss isn’t a single-probability event as it can result in head or tails. We need to assign a probability for each outcome."
   ]
  },
  {
   "cell_type": "markdown",
   "id": "0026224e",
   "metadata": {},
   "source": [
    "The outcomes can be: - “Head > Tail” - “Head = Tail” - “Head < Tail”."
   ]
  },
  {
   "cell_type": "markdown",
   "id": "16703e2a",
   "metadata": {},
   "source": [
    "Understanding uncertainty involves measuring and comparing probabilities to know which event is more likely. We represent probabilities numerically."
   ]
  },
  {
   "cell_type": "markdown",
   "id": "f4696a21",
   "metadata": {},
   "source": [
    "Probabilities can be percentages or fractions, but we typically express them as numbers between zero and one. For instance, 20% or \\(\\frac{1}{5}\\) will be written as 0.2."
   ]
  },
  {
   "cell_type": "markdown",
   "id": "f54c92a5",
   "metadata": {},
   "source": [
    "Interpreting probability values: - 1 stands for the absolute certainty of an event, - 0 implies the event will certainly not happen. - Higher values indicate higher likelihoods."
   ]
  },
  {
   "cell_type": "markdown",
   "id": "58f13a50",
   "metadata": {},
   "source": [
    "Most events will have probabilities between 0 and 1, so figures like 0.2, 0.5, and 0.66 are common."
   ]
  },
  {
   "cell_type": "markdown",
   "id": "3b725f75",
   "metadata": {},
   "source": [
    "Let’s take a look at probabilities of events occuring and not occuring given the chances are equal:"
   ]
  },
  {
   "cell_type": "code",
   "execution_count": null,
   "id": "7c48e6ca",
   "metadata": {},
   "outputs": [],
   "source": [
    "# @title #### Probabilities\n",
    "\n",
    "import matplotlib.pyplot as plt\n",
    "import numpy as np\n",
    "\n",
    "x = np.linspace(0, 1, 100)\n",
    "y = x \n",
    "\n",
    "plt.figure(figsize=(12, 8))\n",
    "plt.fill_between(x, y, color=\"skyblue\", alpha=0.3)\n",
    "\n",
    "plt.plot(x, y, color=\"Steelblue\", alpha=0.9, linewidth=2.5, label='Probability line')\n",
    "\n",
    "plt.scatter([0.2], [0], color='red', s=100, label='x = 0.2', edgecolors='black')\n",
    "plt.scatter([0.5], [0], color='green', s=100, label='x = 0.5', edgecolors='black')\n",
    "plt.scatter([0.66], [0], color='purple', s=100, label='x = 0.66', edgecolors='black')\n",
    "\n",
    "plt.xlabel('Event not occuring', fontsize=14)\n",
    "plt.ylabel('Event occuring', fontsize=14)\n",
    "\n",
    "plt.title('Probabilities', fontsize=18, pad=25)\n",
    "plt.legend(loc='upper left')\n",
    "\n",
    "plt.text(0.15, 0.15, '0: Absolute certainty of the event NOT occuring', ha='center', fontsize=10, bbox=dict(facecolor='white', edgecolor='black', boxstyle='round,pad=0.5'))\n",
    "plt.text(0.85, 0.85, '1: Absolute certainty of the event occuring', ha='center', fontsize=10, bbox=dict(facecolor='white', edgecolor='black', boxstyle='round,pad=0.5'))\n",
    "plt.text(1.05, 1, 'Higher likelihood', ha='center', fontsize=10, va='center')\n",
    "\n",
    "plt.xticks(np.arange(0, 1.1, 0.1)) \n",
    "plt.yticks(np.arange(0, 1.1, 0.1))\n",
    "\n",
    "plt.grid(True, linestyle='-.', alpha=0.4)\n",
    "\n",
    "plt.show()"
   ]
  },
  {
   "cell_type": "markdown",
   "id": "a9e40a3d",
   "metadata": {},
   "source": []
  },
  {
   "cell_type": "markdown",
   "id": "b2c8a15a",
   "metadata": {},
   "source": [
    "As you can see, given all things are equal, the probabilities can be drawn as a straight line."
   ]
  },
  {
   "cell_type": "markdown",
   "id": "4958506c",
   "metadata": {},
   "source": [
    "# Favorable Outcomes"
   ]
  },
  {
   "cell_type": "markdown",
   "id": "8ba913bd",
   "metadata": {},
   "source": [
    "Even without exact probabilities, it’s intuitive that some events are likelier. For instance, winning a coin toss is more probable than the lottery. Let’s take a look:"
   ]
  },
  {
   "cell_type": "markdown",
   "id": "4d292ad9",
   "metadata": {},
   "source": [
    "The probability of an event \\(A\\), denoted as \\(P(A)\\), is the ratio of desirable outcomes to total outcomes. Preferred or “favorable” outcomes are the results we aim for, while the sample space comprises all possible outcomes."
   ]
  },
  {
   "cell_type": "markdown",
   "id": "b396a355",
   "metadata": {},
   "source": [
    "\\[P(A)= \\frac{preferred}{all} \\to \\frac{favourable}{sample \\ space}\\]"
   ]
  },
  {
   "cell_type": "markdown",
   "id": "7f379d87",
   "metadata": {},
   "source": [
    "🪙 Coin flip"
   ]
  },
  {
   "cell_type": "markdown",
   "id": "83c5e29f",
   "metadata": {},
   "source": [
    "If event \\(A\\) is flipping a coin for Heads, it’s the only desired outcome. With two possible outcomes, Heads or Tails, the probability is:"
   ]
  },
  {
   "cell_type": "markdown",
   "id": "a460d065",
   "metadata": {},
   "source": [
    "\\[P(A)= \\frac{1}{2} = 0.5\\]"
   ]
  },
  {
   "cell_type": "markdown",
   "id": "40224902",
   "metadata": {},
   "source": [
    "🎲 Six-sided die roll"
   ]
  },
  {
   "cell_type": "markdown",
   "id": "48bb22d5",
   "metadata": {},
   "source": [
    "With a six-sided die, if we wish to roll a \\(4\\), the desired outcome is \\(1\\), with \\(6\\) possible outcomes. This gives a probability of:"
   ]
  },
  {
   "cell_type": "markdown",
   "id": "2e2f20f1",
   "metadata": {},
   "source": [
    "\\[P(A) = \\frac{1}{6} = 0.167\\]"
   ]
  },
  {
   "cell_type": "markdown",
   "id": "91391944",
   "metadata": {},
   "source": [
    "If we want a number divisible by 3, i.e., 3 or 6, desired outcomes are 2, giving a probability of:"
   ]
  },
  {
   "cell_type": "markdown",
   "id": "514de6ba",
   "metadata": {},
   "source": [
    "\\[P(A) = \\frac{2}{6} = 0.33\\]"
   ]
  },
  {
   "cell_type": "markdown",
   "id": "85fe708a",
   "metadata": {},
   "source": [
    "🎟️ Winning the lottery"
   ]
  },
  {
   "cell_type": "markdown",
   "id": "f29a2272",
   "metadata": {},
   "source": [
    "With the lottery, you divide the number of tickets bought by all possible outcomes. Given there are over 175 million outcomes, each ticket’s probability is:"
   ]
  },
  {
   "cell_type": "markdown",
   "id": "8080e749",
   "metadata": {},
   "source": [
    "\\[P(A)= \\frac{1}{175 000 000} = 0.000 000 005\\]"
   ]
  },
  {
   "cell_type": "markdown",
   "id": "a9579fe9",
   "metadata": {},
   "source": [
    "Buying more tickets increases the winning probability. Comparing this with a coin toss, the latter is more likely."
   ]
  },
  {
   "cell_type": "markdown",
   "id": "16fc2904",
   "metadata": {},
   "source": [
    "# Expected Values"
   ]
  },
  {
   "cell_type": "markdown",
   "id": "62ccd7ca",
   "metadata": {},
   "source": [
    "The Expected Value in probability is the average outcome if an experiment is repeated 🧪. It can be estimated through multiple trials. The experimental probability is calculated by dividing successful trials by all trials:"
   ]
  },
  {
   "cell_type": "markdown",
   "id": "b92abfec",
   "metadata": {},
   "source": [
    "\\[P(A) = \\frac{\\text{successful trial}}{\\text{all trials}}\\]"
   ]
  },
  {
   "cell_type": "markdown",
   "id": "692036b7",
   "metadata": {},
   "source": [
    "The Expected Value of an event \\(A\\), \\(E(A)\\), is the anticipated result of an experiment. It’s found by multiplying the event’s theoretical probability \\(P(A)\\) by the number of trials \\(n\\)."
   ]
  },
  {
   "cell_type": "markdown",
   "id": "db98d801",
   "metadata": {},
   "source": [
    "\\[E(A) = P(A) \\times n\\]"
   ]
  },
  {
   "cell_type": "markdown",
   "id": "6168b69c",
   "metadata": {},
   "source": [
    "Where:"
   ]
  },
  {
   "cell_type": "markdown",
   "id": "4d7ca09e",
   "metadata": {},
   "source": [
    "🃏 Playing cards"
   ]
  },
  {
   "cell_type": "markdown",
   "id": "82afd491",
   "metadata": {},
   "source": [
    "For instance, we try to calculate the expected value of taking a “Spade ♠” type card in \\(20\\) card draws. It is known that the probability of picking a “Spade ♠” suit card (if it is assumed that we choose from a standard set of cards) is \\(0.25\\) or \\(1/4\\), because there are \\(13\\) “Spade ♠” cards out of a total of \\(52\\) cards."
   ]
  },
  {
   "cell_type": "markdown",
   "id": "097cf583",
   "metadata": {},
   "source": [
    "\\[E(A) = 0.25 \\times 20 = 5\\]"
   ]
  },
  {
   "cell_type": "markdown",
   "id": "02fe759e",
   "metadata": {},
   "source": [
    "This suggests we expect to draw a spade 5 times, though actual results may vary."
   ]
  },
  {
   "cell_type": "markdown",
   "id": "2eb5bfda",
   "metadata": {},
   "source": [
    "Having understood the concept of expected value in the context of drawing Spades from a deck of cards, let’s now consider a different scenario."
   ]
  },
  {
   "cell_type": "markdown",
   "id": "3beefc1d",
   "metadata": {},
   "source": [
    "🎯 Bullseye"
   ]
  },
  {
   "cell_type": "markdown",
   "id": "2acd8c4f",
   "metadata": {},
   "source": [
    "Imagine playing a game of darts where hitting the bullseye is our event of interest. Let’s say that after practicing, we found that our probability of hitting the bullseye is \\(1/3\\). If we throw the dart \\(20\\) times, we can calculate our expected number of bullseyes as follows:"
   ]
  },
  {
   "cell_type": "markdown",
   "id": "2f863af5",
   "metadata": {},
   "source": [
    "\\[E(Bullseye) = \\frac{1}{3} \\times 20 = 6.67\\]"
   ]
  },
  {
   "cell_type": "markdown",
   "id": "c54b586b",
   "metadata": {},
   "source": [
    "This suggests we expect to hit the bullseye about 7 times, although actual results may vary."
   ]
  },
  {
   "cell_type": "markdown",
   "id": "0d678482",
   "metadata": {},
   "source": [
    "However, the real world often presents us with scenarios that are more complex than a single event. In many cases, we have multiple outcomes, each with its own associated probability. This is where the concept of expected value for numerical outcomes comes into play."
   ]
  },
  {
   "cell_type": "markdown",
   "id": "4b01665c",
   "metadata": {},
   "source": [
    "In Numerical Outcomes, the expected value is the sum of each possible outcome multiplied by its respective probability. This is essentially a way to calculate a weighted average of all possible outcomes, where the weight for each outcome is its probability."
   ]
  },
  {
   "cell_type": "markdown",
   "id": "8809039d",
   "metadata": {},
   "source": [
    "\\[E(X) = A.P(A) + B.P(B) + C.P(C) + ...\\]"
   ]
  },
  {
   "cell_type": "markdown",
   "id": "4ab5d0e2",
   "metadata": {},
   "source": [
    "Where:"
   ]
  },
  {
   "cell_type": "markdown",
   "id": "6a7a0b85",
   "metadata": {},
   "source": [
    "🎯Archery"
   ]
  },
  {
   "cell_type": "markdown",
   "id": "7337ab7a",
   "metadata": {},
   "source": [
    "To illustrate this, let’s consider an archery target 🎯 with three layers:"
   ]
  },
  {
   "cell_type": "markdown",
   "id": "9e0986c3",
   "metadata": {},
   "source": [
    "In practice, these probability values may be based on empirical data or previous observations."
   ]
  },
  {
   "cell_type": "markdown",
   "id": "6fce1480",
   "metadata": {},
   "source": [
    "The expected value for this scenario is:"
   ]
  },
  {
   "cell_type": "markdown",
   "id": "c620fb51",
   "metadata": {},
   "source": [
    "\\[E(X) = 0.5 \\cdot 10 + 0.4 \\cdot 20 + 0.1 \\cdot 100 = 5 + 8 + 10 = 23\\]"
   ]
  },
  {
   "cell_type": "markdown",
   "id": "0c712732",
   "metadata": {},
   "source": [
    "So, if we take a lot of shots, our average expected score per shot is 23 points. (The more tries we take, the closer our average score will get to this expected value)"
   ]
  },
  {
   "cell_type": "markdown",
   "id": "b6f34d57",
   "metadata": {},
   "source": [
    "What is this done for? This is usually useful in forecasting, such as weather prediction, where ranges are given due to inherent uncertainty. However, the results are sometimes equivocal or uninformative."
   ]
  },
  {
   "cell_type": "markdown",
   "id": "3f193c15",
   "metadata": {},
   "source": [
    "So far we have look at a single example, what if we have two events occuring at the same time?"
   ]
  },
  {
   "cell_type": "markdown",
   "id": "4018e430",
   "metadata": {},
   "source": [
    "Understanding Expected Value (E(A))"
   ]
  },
  {
   "cell_type": "markdown",
   "id": "b27b92b8",
   "metadata": {},
   "source": [
    "Imagine a scenario where you roll two six-sided dice and add the numbers that come up on top. With six potential results for each die, the possible outcomes for the sum, denoted as \\(A\\), are:"
   ]
  },
  {
   "cell_type": "markdown",
   "id": "f2913235",
   "metadata": {},
   "source": [
    "\\[A = 🎲(⚀⚁⚂⚃⚄⚅) + 🎲 (⚀⚁⚂⚃⚄⚅)\\]"
   ]
  },
  {
   "cell_type": "markdown",
   "id": "6f51fa9c",
   "metadata": {},
   "source": [
    "The table below illustrates the sum of the die rolls for each possible outcome:"
   ]
  },
  {
   "cell_type": "markdown",
   "id": "550f9146",
   "metadata": {},
   "source": [
    "In total, there are \\(6 \\times 6 = 36\\) possible outcomes."
   ]
  },
  {
   "cell_type": "markdown",
   "id": "2afc58cb",
   "metadata": {},
   "source": [
    "The number 7 appears 6 times among these 36 outcomes, which means the probability of the sum being 7 when rolling two dice, \\(P(7)\\) is \\(\\frac{6}{36} = \\frac{1}{6}\\)"
   ]
  },
  {
   "cell_type": "markdown",
   "id": "e00cd09c",
   "metadata": {},
   "source": [
    "The expected value of this scenario, \\(E(A)\\), is calculated by summing the product of each possible outcome and its probability:"
   ]
  },
  {
   "cell_type": "markdown",
   "id": "14f70515",
   "metadata": {},
   "source": [
    "\\[E(A) = P(2).2+P(3).3 + ... + P(12).12 = 7\\]"
   ]
  },
  {
   "cell_type": "markdown",
   "id": "23573698",
   "metadata": {},
   "source": [
    "This formula gives us the “center” of the probability distribution or the average outcome expected if we were to repeat this dice roll many times. In this case, the expected value is 7."
   ]
  },
  {
   "cell_type": "markdown",
   "id": "3b091fa9",
   "metadata": {},
   "source": [
    "However, it’s crucial to understand that the expected value being 7 does not mean that 7 is a “likely” outcome. With a probability of only one-sixth, the sum of 7, although the most probable single outcome, is not likely in absolute terms. So, betting on exactly 7 wouldn’t be a reasonable strategy."
   ]
  },
  {
   "cell_type": "markdown",
   "id": "d164fd58",
   "metadata": {},
   "source": [
    "\\[P[E(A)] = P(7) = 1/6\\]"
   ]
  },
  {
   "cell_type": "markdown",
   "id": "4392b2a4",
   "metadata": {},
   "source": [
    "This shows us that probability quantifies the likelihood of each individual event."
   ]
  },
  {
   "cell_type": "markdown",
   "id": "7f85b8c7",
   "metadata": {},
   "source": [
    "A probability frequency distribution can help visualize all possible outcomes and their corresponding probabilities, highlighting how some outcomes are more probable than others, but no single outcome is “likely” in absolute terms."
   ]
  },
  {
   "cell_type": "markdown",
   "id": "dc8a1c37",
   "metadata": {},
   "source": [
    "# Probability frequency distribution"
   ]
  },
  {
   "cell_type": "markdown",
   "id": "3527a59f",
   "metadata": {},
   "source": [
    "In a probability frequency distribution, we note the frequency of each unique sum from the sample space."
   ]
  },
  {
   "cell_type": "markdown",
   "id": "c6d4cc15",
   "metadata": {},
   "source": [
    "For instance, the sum 8 occurs 5 times, so its frequency is 5."
   ]
  },
  {
   "cell_type": "markdown",
   "id": "69d4ab91",
   "metadata": {},
   "source": [
    "To convert frequencies into probabilities, divide each frequency by the sample size (36). This produces a probability frequency distribution."
   ]
  },
  {
   "cell_type": "markdown",
   "id": "38be8190",
   "metadata": {},
   "source": [
    "This distribution can be shown in a table or a graph."
   ]
  },
  {
   "cell_type": "code",
   "execution_count": null,
   "id": "4f1c74ee",
   "metadata": {},
   "outputs": [],
   "source": [
    "import matplotlib.pyplot as plt\n",
    "import pandas as pd\n",
    "from fractions import Fraction\n",
    "\n",
    "data = {'Sum': [2, 3, 4, 5, 6, 7, 8, 9, 10, 11, 12],\n",
    "        'Frequency': [1, 2, 3, 4, 5, 6, 5, 4, 3, 2, 1],\n",
    "        'Probability': [1/36, 1/18, 1/12, 1/9, 5/36, 1/6, 5/36, 1/9, 1/12, 1/18, 1/36]}\n",
    "\n",
    "df = pd.DataFrame(data)\n",
    "\n",
    "plt.figure(figsize=(10, 7))\n",
    "\n",
    "plt.bar(df['Sum'], df['Probability'], color='skyblue')\n",
    "\n",
    "plt.xlabel('Sum', fontsize=12)\n",
    "plt.ylabel('Probability', fontsize=12)\n",
    "\n",
    "fractions = [str(Fraction(i).limit_denominator()) for i in df['Probability'].unique()]\n",
    "plt.yticks(df['Probability'].unique(), labels=fractions)\n",
    "\n",
    "plt.title('Probability Frequency Distribution', fontsize=15, pad=20)\n",
    "\n",
    "plt.xticks(df['Sum'])\n",
    "\n",
    "plt.grid(True, linestyle='--', alpha=0.6)\n",
    "\n",
    "plt.show()"
   ]
  },
  {
   "cell_type": "markdown",
   "id": "fe4ad003",
   "metadata": {},
   "source": []
  },
  {
   "cell_type": "markdown",
   "id": "1e202123",
   "metadata": {},
   "source": [
    "In rolling two dice, the number 7 is likeliest. There are more ways to sum to 7 (1+6, 2+5, 3+4, 4+3, 5+2, 6+1) than to any other number."
   ]
  },
  {
   "cell_type": "markdown",
   "id": "9a684735",
   "metadata": {},
   "source": [
    "Over many trials, 7 will appear more often. So, if guessing a roll’s outcome, 7 is the most reasonable choice based on probability. However, as each roll is an independent random event, a 7 isn’t guaranteed in any particular roll."
   ]
  },
  {
   "cell_type": "markdown",
   "id": "e3fdaa54",
   "metadata": {},
   "source": [
    "This means the outcome of each die does not depend on the outcome of the other die, or on any previous rolls."
   ]
  },
  {
   "cell_type": "markdown",
   "id": "5c01b70a",
   "metadata": {},
   "source": [
    "For instance, let’s say you roll a pair of dice and get a 3 and a 4. The next time you roll the dice, the chances of getting any specific number (1 through 6) on each die remain exactly the same. Getting a 3 and a 4 on the first roll has no impact on the results of the second roll."
   ]
  },
  {
   "cell_type": "markdown",
   "id": "9be1f959",
   "metadata": {},
   "source": [
    "This is the key characteristic of independent random events: - The outcome of one event does not influence the outcome of another."
   ]
  },
  {
   "cell_type": "markdown",
   "id": "fc52c5e9",
   "metadata": {},
   "source": [
    "So in the context of rolling dice, each roll is its own unique event with the same probabilities each time, regardless of what numbers have come up in the past."
   ]
  },
  {
   "cell_type": "markdown",
   "id": "baa2dafd",
   "metadata": {},
   "source": [
    "# Complements"
   ]
  },
  {
   "cell_type": "markdown",
   "id": "d3dbe360",
   "metadata": {},
   "source": [
    "In probability, an event’s complement is everything the event doesn’t include, completing the sample space."
   ]
  },
  {
   "cell_type": "markdown",
   "id": "d6e08945",
   "metadata": {},
   "source": [
    "The total probability is the sum of different events’ probabilities."
   ]
  },
  {
   "cell_type": "markdown",
   "id": "25bb81ba",
   "metadata": {},
   "source": [
    "\\[A + A^c = \\text{sample space  A}\\]"
   ]
  },
  {
   "cell_type": "markdown",
   "id": "0246f74b",
   "metadata": {},
   "source": [
    "Where:"
   ]
  },
  {
   "cell_type": "markdown",
   "id": "0d25444d",
   "metadata": {},
   "source": [
    "The basic concept in probability is that the total of all possible outcomes is always equal to one, indicating 100% certainty that one of the outcomes will occur."
   ]
  },
  {
   "cell_type": "markdown",
   "id": "0ce6eae2",
   "metadata": {},
   "source": [
    "Suppose we have three possible outcomes in an experiment, we can call them A, B, and C."
   ]
  },
  {
   "cell_type": "markdown",
   "id": "dc565d69",
   "metadata": {},
   "source": [
    "If we add up the probabilities of all possible outcomes, the sum must equal 1."
   ]
  },
  {
   "cell_type": "markdown",
   "id": "1912e1ee",
   "metadata": {},
   "source": [
    "\\[P(A) + P(B) + P(C) = 1 \\rightarrow 100 \\% \\ \\text{{Certain}}\\]"
   ]
  },
  {
   "cell_type": "markdown",
   "id": "cd8837ee",
   "metadata": {},
   "source": [
    "In other words, there is 100% certainty that one of A, B, or C will occur."
   ]
  },
  {
   "cell_type": "markdown",
   "id": "ac058ad2",
   "metadata": {},
   "source": [
    "Let’s clarify this with examples."
   ]
  },
  {
   "cell_type": "markdown",
   "id": "655318cf",
   "metadata": {},
   "source": [
    "🪙 Coin Toss"
   ]
  },
  {
   "cell_type": "markdown",
   "id": "01c4e324",
   "metadata": {},
   "source": [
    "Consider flipping a coin. The outcomes—heads or tails—are guaranteed. Thus, accounting for these sums the total probability to 1."
   ]
  },
  {
   "cell_type": "markdown",
   "id": "43573baf",
   "metadata": {},
   "source": [
    "\\[A \\rightarrow (Heads) \\ \\ B \\rightarrow (Tails)\\]"
   ]
  },
  {
   "cell_type": "markdown",
   "id": "c4b751cf",
   "metadata": {},
   "source": [
    "\\[P(A) + P(B) = 1\\]"
   ]
  },
  {
   "cell_type": "markdown",
   "id": "2747011a",
   "metadata": {},
   "source": [
    "What happens if \\(P(A) + P(B) > 1\\)?"
   ]
  },
  {
   "cell_type": "markdown",
   "id": "d1a83017",
   "metadata": {},
   "source": [
    "A total probability greater than 1 lacks intuitive sense since probabilities denote absolute certainty. An example of this could be when some outcomes simultaneously occur, causing double-counting of outcomes. We’ll handle this with Bayesian notation later."
   ]
  },
  {
   "cell_type": "markdown",
   "id": "20059893",
   "metadata": {},
   "source": [
    "What happens if \\(P(A) + P(B) < 1\\)?"
   ]
  },
  {
   "cell_type": "markdown",
   "id": "680fe2a4",
   "metadata": {},
   "source": [
    "If the sum of probabilities is less than 1, we’ve not accounted for some outcomes."
   ]
  },
  {
   "cell_type": "markdown",
   "id": "ecc439c4",
   "metadata": {},
   "source": [
    "Before proceeding, note that each event has a complement (denoted by \\('\\)). For instance, complement of \\(A\\) is \\(A'\\)."
   ]
  },
  {
   "cell_type": "markdown",
   "id": "1182c449",
   "metadata": {},
   "source": [
    "\\[A' \\leftarrow Complement\\]"
   ]
  },
  {
   "cell_type": "markdown",
   "id": "5d77f51d",
   "metadata": {},
   "source": [
    "The complement of a complement is the event itself: \\((A')' = A\\)."
   ]
  },
  {
   "cell_type": "markdown",
   "id": "97f7ba2d",
   "metadata": {},
   "source": [
    "🎲 Rolling a die"
   ]
  },
  {
   "cell_type": "markdown",
   "id": "22155d8d",
   "metadata": {},
   "source": [
    "Consider rolling a six-sided die intending to roll an even number. The complement is rolling an odd number."
   ]
  },
  {
   "cell_type": "markdown",
   "id": "2fa0af49",
   "metadata": {},
   "source": [
    "\\[A = B\\]"
   ]
  },
  {
   "cell_type": "markdown",
   "id": "541a73ff",
   "metadata": {},
   "source": [
    "Calculating the complement involves taking 1 minus the probability of the event."
   ]
  },
  {
   "cell_type": "markdown",
   "id": "e756c029",
   "metadata": {},
   "source": [
    "All possible outcomes are \\(A\\), \\(B\\), and \\(C\\), and their probabilities must add up to 1"
   ]
  },
  {
   "cell_type": "markdown",
   "id": "1faf54aa",
   "metadata": {},
   "source": [
    "\\[P(A) + P(B) + P(C) = 1\\]"
   ]
  },
  {
   "cell_type": "markdown",
   "id": "5e6c97ed",
   "metadata": {},
   "source": [
    "In this case, \\(A\\) (the complement of \\(A\\)) is equal to \\(B\\) plus \\(C\\) (\\(A' = B + C\\)) and the probability is:"
   ]
  },
  {
   "cell_type": "markdown",
   "id": "3533b5b2",
   "metadata": {},
   "source": [
    "\\[P(A') = 1 - P(A)\\]"
   ]
  },
  {
   "cell_type": "markdown",
   "id": "d3283385",
   "metadata": {},
   "source": [
    "Considering the example of rolling a 1, 2, 4, 5, or 6 (i.e., not a 3), the total probability is the sum of these outcomes’ probabilities. Since each outcome has a probability of one-sixth, the sum is 5/6."
   ]
  },
  {
   "cell_type": "markdown",
   "id": "b417420b",
   "metadata": {},
   "source": [
    "\\[P(A) = ⚀ + ⚁ + ⚃ + ⚄ + ⚅\\]"
   ]
  },
  {
   "cell_type": "markdown",
   "id": "70b5fe81",
   "metadata": {},
   "source": [
    "\\[P(A) = P(1) + P(2) + P(4) + P(5) + P(6)\\]"
   ]
  },
  {
   "cell_type": "markdown",
   "id": "b832918c",
   "metadata": {},
   "source": [
    "\\[= \\frac{1}{6} + \\frac{1}{6} + \\frac{1}{6} + \\frac{1}{6} + \\frac{1}{6} = \\frac{5}{6}\\]"
   ]
  },
  {
   "cell_type": "markdown",
   "id": "06d8fbd4",
   "metadata": {},
   "source": [
    "Now we consider \\(B\\) where we don’t get a 3 when rolling the dice, and \\(B'\\) is a 3, then:"
   ]
  },
  {
   "cell_type": "markdown",
   "id": "890ab9f1",
   "metadata": {},
   "source": [
    "\\[P(B') = \\frac{1}{6}\\]"
   ]
  },
  {
   "cell_type": "markdown",
   "id": "bd27e1d5",
   "metadata": {},
   "source": [
    "And \\(P(B)\\) is the complement of \\(B'\\), so that:"
   ]
  },
  {
   "cell_type": "markdown",
   "id": "4eb13cef",
   "metadata": {},
   "source": [
    "\\[P(B) = 1 - P(B') = 1 - \\frac{1}{6} = \\frac{5}{6}\\]"
   ]
  },
  {
   "cell_type": "markdown",
   "id": "11ba0947",
   "metadata": {},
   "source": [
    "Thus, the probability of getting any number except 3 (i.e., \\(P(A)\\)) is equal to the probability of \\(P(B)\\)."
   ]
  },
  {
   "cell_type": "markdown",
   "id": "1c733cc3",
   "metadata": {},
   "source": [
    "\\[P(A) = \\frac{5}{6} = P(B)\\]"
   ]
  }
 ],
 "metadata": {},
 "nbformat": 4,
 "nbformat_minor": 5
}
