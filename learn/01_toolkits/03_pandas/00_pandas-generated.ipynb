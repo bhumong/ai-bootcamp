{
 "cells": [
  {
   "cell_type": "markdown",
   "id": "13708261",
   "metadata": {},
   "source": [
    "source: [link](https://ai-bootcamp.ruangguru.com/learn/01_toolkits/03_pandas/00_pandas.html)"
   ]
  },
  {
   "cell_type": "markdown",
   "id": "9f08625f",
   "metadata": {},
   "source": [
    "# Pandas"
   ]
  },
  {
   "cell_type": "markdown",
   "id": "2065b380",
   "metadata": {},
   "source": [
    "# What is Pandas?"
   ]
  },
  {
   "cell_type": "markdown",
   "id": "11ac42ea",
   "metadata": {},
   "source": [
    "Pandas is a popular open-source data analysis and manipulation library, built on top of the Python programming language. It provides flexible and efficient data structures that make it easier to handle and analyze data. Pandas is particularly well-suited for structured or tabular data, such as CSV and Excel files, SQL databases, or dataframes in Python."
   ]
  },
  {
   "cell_type": "markdown",
   "id": "8cfac58a",
   "metadata": {},
   "source": [
    "# Why use Pandas for Data Engineering?"
   ]
  },
  {
   "cell_type": "markdown",
   "id": "225393d3",
   "metadata": {},
   "source": [
    "Data Handling: Pandas can handle a variety of data sets in different formats - CSV files, Excel files, or database records."
   ]
  },
  {
   "cell_type": "markdown",
   "id": "c2df3a1c",
   "metadata": {},
   "source": [
    "Ease of Use: With only a few lines of code, Pandas makes it easy for users to read, write, and modify datasets."
   ]
  },
  {
   "cell_type": "markdown",
   "id": "937c3883",
   "metadata": {},
   "source": [
    "Data Transformation: It offers robust tools for cleaning and pivoting data, preparing it for analysis or visualization."
   ]
  },
  {
   "cell_type": "markdown",
   "id": "580f65dd",
   "metadata": {},
   "source": [
    "Efficient Operations: Pandas is built on top of NumPy, a Python library for numerical computation, which makes it efficient for performing operations on large datasets."
   ]
  },
  {
   "cell_type": "markdown",
   "id": "8f228682",
   "metadata": {},
   "source": [
    "Integration: It integrates well with many other libraries in the scientific Python ecosystem, such as Matplotlib for plotting graphs, Scikit-learn for machine learning, and many others."
   ]
  },
  {
   "cell_type": "markdown",
   "id": "45b10855",
   "metadata": {},
   "source": [
    "# Installing Pandas"
   ]
  },
  {
   "cell_type": "markdown",
   "id": "ff15adcf",
   "metadata": {},
   "source": [
    "Pandas can be installed in your Python environment using package managers like pip or conda."
   ]
  },
  {
   "cell_type": "markdown",
   "id": "2dc60a43",
   "metadata": {},
   "source": [
    "# Installing Pandas using pip:"
   ]
  },
  {
   "cell_type": "markdown",
   "id": "b88ddf89",
   "metadata": {},
   "source": [
    "If you’re using a Jupyter notebook, you can install it using the following command:"
   ]
  },
  {
   "cell_type": "code",
   "execution_count": null,
   "id": "27b020a8",
   "metadata": {},
   "outputs": [],
   "source": [
    "!pip install pandas"
   ]
  },
  {
   "cell_type": "markdown",
   "id": "296d0238",
   "metadata": {},
   "source": [
    "For installation on your system, you can use pip in your command line:"
   ]
  },
  {
   "cell_type": "code",
   "execution_count": null,
   "id": "96898196",
   "metadata": {},
   "outputs": [],
   "source": [
    "pip install pandas"
   ]
  },
  {
   "cell_type": "markdown",
   "id": "11aee18b",
   "metadata": {},
   "source": [
    "# Installing Pandas using conda:"
   ]
  },
  {
   "cell_type": "markdown",
   "id": "e5c8830a",
   "metadata": {},
   "source": [
    "If you are using the Anaconda distribution of Python, you can use the conda package manager to install pandas. Type the following command in your terminal:"
   ]
  },
  {
   "cell_type": "code",
   "execution_count": null,
   "id": "f11054d5",
   "metadata": {},
   "outputs": [],
   "source": [
    "conda install pandas"
   ]
  },
  {
   "cell_type": "markdown",
   "id": "2a5ca0f2",
   "metadata": {},
   "source": [
    "After installation, you can import and check the installed Pandas version in your Python script as follows:"
   ]
  },
  {
   "cell_type": "code",
   "execution_count": null,
   "id": "21b3deee",
   "metadata": {},
   "outputs": [],
   "source": [
    "import pandas as pd\n",
    "\n",
    "print(pd.__version__)"
   ]
  },
  {
   "cell_type": "code",
   "execution_count": null,
   "id": "dd273523",
   "metadata": {},
   "outputs": [],
   "source": [
    "1.5.3"
   ]
  },
  {
   "cell_type": "markdown",
   "id": "2f4a6209",
   "metadata": {},
   "source": [
    "This will print the version of Pandas installed in your environment to ensure it’s correctly installed."
   ]
  },
  {
   "cell_type": "markdown",
   "id": "af118663",
   "metadata": {},
   "source": [
    "# Pandas Data Structures"
   ]
  },
  {
   "cell_type": "markdown",
   "id": "a82842ae",
   "metadata": {},
   "source": [
    "# Pandas Series"
   ]
  },
  {
   "cell_type": "markdown",
   "id": "484120ac",
   "metadata": {},
   "source": [
    "What is a Series? A Series is a one-dimensional labeled array that can hold any data type. It is similar to a column in a spreadsheet or a vector in a mathematical matrix."
   ]
  },
  {
   "cell_type": "markdown",
   "id": "0cc9273c",
   "metadata": {},
   "source": [
    "# Key Features"
   ]
  },
  {
   "cell_type": "markdown",
   "id": "16ca320e",
   "metadata": {},
   "source": [
    "- It can be created from dictionaries, ndarrays, and scalar values.\n",
    "- Each item in a Series object has an index, which is a label that uniquely identifies it.\n",
    "- Series are similar to ndarrays and can be passed into most NumPy functions."
   ]
  },
  {
   "cell_type": "markdown",
   "id": "253dff99",
   "metadata": {},
   "source": [
    "# Pandas DataFrame"
   ]
  },
  {
   "cell_type": "markdown",
   "id": "62abe179",
   "metadata": {},
   "source": [
    "What is a DataFrame? A DataFrame is a 2-dimensional labeled data structure in Pandas, similar to a table in a relational database, an Excel spreadsheet, or a dictionary of Series objects."
   ]
  },
  {
   "cell_type": "markdown",
   "id": "85b1d435",
   "metadata": {},
   "source": [
    "Here is a basic example of a DataFrame:"
   ]
  },
  {
   "cell_type": "code",
   "execution_count": null,
   "id": "7794919b",
   "metadata": {},
   "outputs": [],
   "source": [
    "import pandas as pd\n",
    "\n",
    "data = {\n",
    "    'Name': ['John', 'Anna', 'Peter'],\n",
    "    'Age': [28, 23, 34]\n",
    "}\n",
    "df = pd.DataFrame(data)\n",
    "\n",
    "df"
   ]
  },
  {
   "cell_type": "markdown",
   "id": "94d49507",
   "metadata": {},
   "source": [
    "|  | Name | Age |\n",
    "| --- | --- | --- |\n",
    "| 0 | John | 28 |\n",
    "| 1 | Anna | 23 |\n",
    "| 2 | Peter | 34 |"
   ]
  },
  {
   "cell_type": "markdown",
   "id": "92b9d7fa",
   "metadata": {},
   "source": [
    "In this example, ‘Name’ and ‘Age’ are column labels and the numbers 0, 1, 2 on the left are the index labels."
   ]
  },
  {
   "cell_type": "markdown",
   "id": "55ee7cfc",
   "metadata": {},
   "source": [
    "An index in Pandas is a built-in data structure that makes data manipulation and analysis more efficient. It is an immutable array (cannot be changed) and an ordered set. By default Pandas uses a numeric sequence starting from 0 as index."
   ]
  },
  {
   "cell_type": "markdown",
   "id": "54d70de5",
   "metadata": {},
   "source": [
    "If you want to customize these index labels, you can do so when creating the DataFrame:"
   ]
  },
  {
   "cell_type": "code",
   "execution_count": null,
   "id": "bc5a0896",
   "metadata": {},
   "outputs": [],
   "source": [
    "df = pd.DataFrame(data, index=['a', 'b', 'c'])\n",
    "\n",
    "df"
   ]
  },
  {
   "cell_type": "markdown",
   "id": "60fd449b",
   "metadata": {},
   "source": [
    "|  | Name | Age |\n",
    "| --- | --- | --- |\n",
    "| a | John | 28 |\n",
    "| b | Anna | 23 |\n",
    "| c | Peter | 34 |"
   ]
  },
  {
   "cell_type": "markdown",
   "id": "0c05d3f7",
   "metadata": {},
   "source": [
    "Now, ‘a’, ‘b’, ‘c’ are the index labels. These can be used with loc method to access specific rows."
   ]
  },
  {
   "cell_type": "markdown",
   "id": "9e95b331",
   "metadata": {},
   "source": [
    "# Key Features"
   ]
  },
  {
   "cell_type": "markdown",
   "id": "48c4234d",
   "metadata": {},
   "source": [
    "- It can store data of different types (e.g., integer, string, float, Python objects, etc.).\n",
    "- Each row and column has labels for identification.\n",
    "- It is mutable in size, meaning you can modify rows and columns (insert or delete)."
   ]
  },
  {
   "cell_type": "markdown",
   "id": "cfa84fc6",
   "metadata": {},
   "source": [
    "# Why is it Useful?"
   ]
  },
  {
   "cell_type": "markdown",
   "id": "e10383c1",
   "metadata": {},
   "source": [
    "- Efficient data handling and storage.\n",
    "- Provides numerous built-in methods to manipulate and analyze data.\n",
    "- Integration with plotting libraries for data visualization.\n",
    "- Handles missing data gracefully and flexible reshaping of datasets."
   ]
  },
  {
   "cell_type": "markdown",
   "id": "2e19cc5f",
   "metadata": {},
   "source": [
    "# Basic Operations with Series and DataFrames"
   ]
  },
  {
   "cell_type": "markdown",
   "id": "f160186d",
   "metadata": {},
   "source": [
    "# Creating a Series"
   ]
  },
  {
   "cell_type": "markdown",
   "id": "67d4006b",
   "metadata": {},
   "source": [
    "You can create a Series from dictionaries, ndarrays, and scalar values."
   ]
  },
  {
   "cell_type": "code",
   "execution_count": null,
   "id": "221f62f1",
   "metadata": {},
   "outputs": [],
   "source": [
    "import pandas as pd\n",
    "\n",
    "# From a dictionary\n",
    "s1 = pd.Series({'a': 0, 'b': 1, 'c': 2})\n",
    "print(s1)\n",
    "\n",
    "# From an ndarray\n",
    "s2 = pd.Series(['a', 'b', 'c', 'd'])\n",
    "print(s2)\n",
    "\n",
    "# From a scalar\n",
    "s3 = pd.Series(5, index=[0, 1, 2, 3])\n",
    "print(s3)"
   ]
  },
  {
   "cell_type": "code",
   "execution_count": null,
   "id": "3c47d02b",
   "metadata": {},
   "outputs": [],
   "source": [
    "a    0\n",
    "b    1\n",
    "c    2\n",
    "dtype: int64\n",
    "0    a\n",
    "1    b\n",
    "2    c\n",
    "3    d\n",
    "dtype: object\n",
    "0    5\n",
    "1    5\n",
    "2    5\n",
    "3    5\n",
    "dtype: int64"
   ]
  },
  {
   "cell_type": "markdown",
   "id": "c140c432",
   "metadata": {},
   "source": [
    "# Indexing a Series"
   ]
  },
  {
   "cell_type": "markdown",
   "id": "62d23b36",
   "metadata": {},
   "source": [
    "You can access the elements of a Series in a similar way to indexing with native Python data structures"
   ]
  },
  {
   "cell_type": "code",
   "execution_count": null,
   "id": "97e31485",
   "metadata": {},
   "outputs": [],
   "source": [
    "import pandas as pd\n",
    "\n",
    "s = pd.Series(['a', 'b', 'c', 'd'])\n",
    "\n",
    "# Accessing a single element using its index\n",
    "print(s[0])\n",
    "\n",
    "# Accessing multiple elements using their indices\n",
    "print(s[[0, 1, 2]])"
   ]
  },
  {
   "cell_type": "code",
   "execution_count": null,
   "id": "e09219b2",
   "metadata": {},
   "outputs": [],
   "source": [
    "a\n",
    "0    a\n",
    "1    b\n",
    "2    c\n",
    "dtype: object"
   ]
  },
  {
   "cell_type": "markdown",
   "id": "0f24ff75",
   "metadata": {},
   "source": [
    "# Slicing a Series"
   ]
  },
  {
   "cell_type": "markdown",
   "id": "6b719614",
   "metadata": {},
   "source": [
    "Slicing a Series in pandas works in a similar way to slicing in Python."
   ]
  },
  {
   "cell_type": "code",
   "execution_count": null,
   "id": "b7a87a97",
   "metadata": {},
   "outputs": [],
   "source": [
    "import pandas as pd\n",
    "\n",
    "s = pd.Series([1, 2, 3, 4, 5], index=['a', 'b', 'c', 'd', 'e'])\n",
    "print(s)\n",
    "\n",
    "# Slice using the index values (explicit index) - Here 'end' value is included\n",
    "print(s['a':'c'])\n",
    "\n",
    "# Slice using index numbers (implicit index) - Here 'end' value is excluded\n",
    "print(s[0:2])"
   ]
  },
  {
   "cell_type": "code",
   "execution_count": null,
   "id": "ea6048f2",
   "metadata": {},
   "outputs": [],
   "source": [
    "a    1\n",
    "b    2\n",
    "c    3\n",
    "d    4\n",
    "e    5\n",
    "dtype: int64\n",
    "a    1\n",
    "b    2\n",
    "c    3\n",
    "dtype: int64\n",
    "a    1\n",
    "b    2\n",
    "dtype: int64"
   ]
  },
  {
   "cell_type": "markdown",
   "id": "97bc8c1b",
   "metadata": {},
   "source": [
    "Remember that when using explicit index (labels ‘a’, ‘b’, ‘c’, etc.), the slice includes the end index - that’s why ‘c’ is included in the result. While when using implicit index, the ‘end’ index is not included in the slice - so the 2nd index (which is ‘c’ and is the third element) is not included."
   ]
  },
  {
   "cell_type": "markdown",
   "id": "dc97ee6f",
   "metadata": {},
   "source": [
    "# Creating a DataFrame"
   ]
  },
  {
   "cell_type": "markdown",
   "id": "4cff9cea",
   "metadata": {},
   "source": [
    "You can create a DataFrame from various data types: dictionary, list of lists, list of dictionaries etc. In data engineering, creating a DataFrame is the first step before performing any data manipulation or analysis tasks."
   ]
  },
  {
   "cell_type": "code",
   "execution_count": null,
   "id": "bb82c217",
   "metadata": {},
   "outputs": [],
   "source": [
    "import pandas as pd\n",
    "\n",
    "# Creating DataFrame\n",
    "data = {\n",
    "    'Name': ['John', 'Anna', 'Peter'],\n",
    "    'Age': [25, 23, 31],\n",
    "    'Nationality': [\"UK\", \"USA\", \"UK\"]\n",
    "}\n",
    "df = pd.DataFrame(data, index=['a', 'b', 'c'])\n",
    "\n",
    "df"
   ]
  },
  {
   "cell_type": "markdown",
   "id": "9bc9d115",
   "metadata": {},
   "source": [
    "|  | Name | Age | Nationality |\n",
    "| --- | --- | --- | --- |\n",
    "| a | John | 25 | UK |\n",
    "| b | Anna | 23 | USA |\n",
    "| c | Peter | 31 | UK |"
   ]
  },
  {
   "cell_type": "markdown",
   "id": "6af538a0",
   "metadata": {},
   "source": [
    "# Indexing"
   ]
  },
  {
   "cell_type": "markdown",
   "id": "615b8404",
   "metadata": {},
   "source": [
    "Indexing is the process of accessing an element in a sequence using its position in the sequence (its index). In Pandas, indexing refers to accessing rows and columns of data from a DataFrame, whereas slicing refers to accessing a range of rows and columns."
   ]
  },
  {
   "cell_type": "markdown",
   "id": "0a57a950",
   "metadata": {},
   "source": [
    "We can access data or range of data from a DataFrame using different methods."
   ]
  },
  {
   "cell_type": "markdown",
   "id": "da734fa8",
   "metadata": {},
   "source": [
    "- Using column names\n",
    "- Using.locand.iloc"
   ]
  },
  {
   "cell_type": "markdown",
   "id": "367494cf",
   "metadata": {},
   "source": [
    "# Using column names:"
   ]
  },
  {
   "cell_type": "code",
   "execution_count": null,
   "id": "71f4a891",
   "metadata": {},
   "outputs": [],
   "source": [
    "# Accessing 'Name' column\n",
    "names = df['Name']\n",
    "print('- \"Name\" column:')\n",
    "print(names)\n",
    "\n",
    "# Accessing multiple columns\n",
    "subset = df[['Name', 'Nationality']]\n",
    "print('- multiple columns:')\n",
    "print(subset)"
   ]
  },
  {
   "cell_type": "code",
   "execution_count": null,
   "id": "23cde7c4",
   "metadata": {},
   "outputs": [],
   "source": [
    "- \"Name\" column:\n",
    "a     John\n",
    "b     Anna\n",
    "c    Peter\n",
    "Name: Name, dtype: object\n",
    "- multiple columns:\n",
    "    Name Nationality\n",
    "a   John          UK\n",
    "b   Anna         USA\n",
    "c  Peter          UK"
   ]
  },
  {
   "cell_type": "markdown",
   "id": "e4c4b3ed",
   "metadata": {},
   "source": [
    "# Using .loc and .iloc:"
   ]
  },
  {
   "cell_type": "markdown",
   "id": "98af7c51",
   "metadata": {},
   "source": [
    "Pandas provides various methods to index and access data in a DataFrame, including .loc and .iloc. These methods are used to access a group of rows and columns by labels or a boolean array."
   ]
  },
  {
   "cell_type": "markdown",
   "id": "ca98482b",
   "metadata": {},
   "source": [
    ".loc"
   ]
  },
  {
   "cell_type": "markdown",
   "id": "686c5a66",
   "metadata": {},
   "source": [
    "loc is a label-based data selection method which means that we have to pass the name of the row or column which we want to select. This method includes the last element of the range, unlike Python and iloc method."
   ]
  },
  {
   "cell_type": "code",
   "execution_count": null,
   "id": "722ff4ab",
   "metadata": {},
   "outputs": [],
   "source": [
    "# Accessing a single row\n",
    "print('- single row:')\n",
    "print(df.loc['a'])\n",
    "\n",
    "# Accessing multiple rows\n",
    "print('- multiple row:')\n",
    "print(df.loc[['a', 'b']])\n",
    "\n",
    "# Accessing rows and specific columns\n",
    "print('- rows and specific columns:')\n",
    "print(df.loc[['a', 'b'], 'Name'])\n",
    "\n",
    "# Accessing all rows and specific columns\n",
    "print('- all rows and specific columns:')\n",
    "print(df.loc[:, 'Name'])"
   ]
  },
  {
   "cell_type": "code",
   "execution_count": null,
   "id": "e49f794b",
   "metadata": {},
   "outputs": [],
   "source": [
    "- single row:\n",
    "Name           John\n",
    "Age              25\n",
    "Nationality      UK\n",
    "Name: a, dtype: object\n",
    "- multiple row:\n",
    "   Name  Age Nationality\n",
    "a  John   25          UK\n",
    "b  Anna   23         USA\n",
    "- rows and specific columns:\n",
    "a    John\n",
    "b    Anna\n",
    "Name: Name, dtype: object\n",
    "- all rows and specific columns:\n",
    "a     John\n",
    "b     Anna\n",
    "c    Peter\n",
    "Name: Name, dtype: object"
   ]
  },
  {
   "cell_type": "markdown",
   "id": "7fa3e8b0",
   "metadata": {},
   "source": [
    ".iloc"
   ]
  },
  {
   "cell_type": "markdown",
   "id": "ecc836b0",
   "metadata": {},
   "source": [
    "iloc is an integer index-based method which means that we have to pass integer index in the method to select specific rows/columns. This method does not include the last element of the range."
   ]
  },
  {
   "cell_type": "code",
   "execution_count": null,
   "id": "ea43c908",
   "metadata": {},
   "outputs": [],
   "source": [
    "# Accessing first row\n",
    "print('- first row:')\n",
    "print(df.iloc[0])\n",
    "\n",
    "# Accessing first and second rows\n",
    "print('- first and second rows:')\n",
    "print(df.iloc[0:2])\n",
    "\n",
    "# Accessing first row and first column\n",
    "print('- first row and first column:')\n",
    "print(df.iloc[0, 0])\n",
    "\n",
    "# Accessing all rows and first column\n",
    "print('- all rows and first column:')\n",
    "print(df.iloc[:, 0])\n",
    "\n",
    "# Accessing first two rows and first two columns\n",
    "print('- first two rows and first two columns:')\n",
    "print(df.iloc[0:2, 0:2])"
   ]
  },
  {
   "cell_type": "code",
   "execution_count": null,
   "id": "90d686d0",
   "metadata": {},
   "outputs": [],
   "source": [
    "- first row:\n",
    "Name           John\n",
    "Age              25\n",
    "Nationality      UK\n",
    "Name: a, dtype: object\n",
    "- first and second rows:\n",
    "   Name  Age Nationality\n",
    "a  John   25          UK\n",
    "b  Anna   23         USA\n",
    "- first row and first column:\n",
    "John\n",
    "- all rows and first column:\n",
    "a     John\n",
    "b     Anna\n",
    "c    Peter\n",
    "Name: Name, dtype: object\n",
    "- first two rows and first two columns:\n",
    "   Name  Age\n",
    "a  John   25\n",
    "b  Anna   23"
   ]
  },
  {
   "cell_type": "markdown",
   "id": "242973a1",
   "metadata": {},
   "source": [
    "# Slicing"
   ]
  },
  {
   "cell_type": "markdown",
   "id": "914ea098",
   "metadata": {},
   "source": [
    "Slicing is used to access a sequence of data in the dataframe. Slicing is often used in data engineering to divide the dataset into smaller chunks for further processing, for example, dividing the data into train and test sets for model training."
   ]
  },
  {
   "cell_type": "code",
   "execution_count": null,
   "id": "383185e9",
   "metadata": {},
   "outputs": [],
   "source": [
    "# Slice the first three rows\n",
    "first_three_rows = df[:3]\n",
    "print(first_three_rows)\n",
    "\n",
    "# Slice rows from index 1 to 3\n",
    "subset = df[1:4]\n",
    "print(subset)"
   ]
  },
  {
   "cell_type": "code",
   "execution_count": null,
   "id": "d45a5020",
   "metadata": {},
   "outputs": [],
   "source": [
    "    Name  Age Nationality\n",
    "a   John   25          UK\n",
    "b   Anna   23         USA\n",
    "c  Peter   31          UK\n",
    "    Name  Age Nationality\n",
    "b   Anna   23         USA\n",
    "c  Peter   31          UK"
   ]
  },
  {
   "cell_type": "markdown",
   "id": "db4ed57d",
   "metadata": {},
   "source": [
    "# Filtering Data"
   ]
  },
  {
   "cell_type": "markdown",
   "id": "cece8845",
   "metadata": {},
   "source": [
    "Filtering in Pandas allows you to select rows that satisfy a certain condition. You can use slicing with boolean indexing for this. Boolean indexing uses a boolean vector to filter the data. The boolean vector is generated by applying a logical condition to the data. The rows corresponding to True in the boolean vector are selected."
   ]
  },
  {
   "cell_type": "code",
   "execution_count": null,
   "id": "1947147c",
   "metadata": {},
   "outputs": [],
   "source": [
    "# Filter rows where 'Age' is greater than 30\n",
    "age_above_30 = df[df['Age'] > 30]\n",
    "\n",
    "print(age_above_30.head())"
   ]
  },
  {
   "cell_type": "code",
   "execution_count": null,
   "id": "036b696c",
   "metadata": {},
   "outputs": [],
   "source": [
    "    Name  Age Nationality\n",
    "c  Peter   31          UK"
   ]
  },
  {
   "cell_type": "markdown",
   "id": "96bc4d6f",
   "metadata": {},
   "source": [
    "You can also combine multiple conditions using the & (and) and | (or) operators."
   ]
  },
  {
   "cell_type": "code",
   "execution_count": null,
   "id": "fe49a1ff",
   "metadata": {},
   "outputs": [],
   "source": [
    "# Filter rows where 'Age' is greater than 30 and 'Paying_Status' is 'Paid'\n",
    "age_above_30_and_teacher = df[(df['Age'] > 30) & (df['Nationality'] == 'UK')]\n",
    "print(age_above_30_and_teacher)"
   ]
  },
  {
   "cell_type": "code",
   "execution_count": null,
   "id": "661bf67c",
   "metadata": {},
   "outputs": [],
   "source": [
    "    Name  Age Nationality\n",
    "c  Peter   31          UK"
   ]
  },
  {
   "cell_type": "markdown",
   "id": "ea5e9bfa",
   "metadata": {},
   "source": [
    "Remember, when combining conditions, you need to put each condition in parentheses. This is because the & and | operators have higher precedence than the comparison operators like > and ==."
   ]
  },
  {
   "cell_type": "markdown",
   "id": "c3befe40",
   "metadata": {},
   "source": [
    "# Data Import and Export"
   ]
  },
  {
   "cell_type": "markdown",
   "id": "4e11acaf",
   "metadata": {},
   "source": [
    "Indexing is useful in data engineering to access specific parts of the data for further operations like transformations, calculations etc."
   ]
  },
  {
   "cell_type": "markdown",
   "id": "516f4d2d",
   "metadata": {},
   "source": [
    "# Reading Data From CSV"
   ]
  },
  {
   "cell_type": "markdown",
   "id": "16664ff8",
   "metadata": {},
   "source": [
    "Reading data from a CSV file is an important task in data engineering and data science. It’s usually the first step when we have to analyze data which is stored in CSV format."
   ]
  },
  {
   "cell_type": "markdown",
   "id": "1026750b",
   "metadata": {},
   "source": [
    "Many programming languages provide libraries to read data from CSV files. For instance, in Python, we use libraries like pandas to read CSV data."
   ]
  },
  {
   "cell_type": "markdown",
   "id": "169f39b5",
   "metadata": {},
   "source": [
    "Here is a simple example:"
   ]
  },
  {
   "cell_type": "code",
   "execution_count": null,
   "id": "28882e7b",
   "metadata": {},
   "outputs": [],
   "source": [
    "import pandas as pd\n",
    "\n",
    "# load the data\n",
    "dataframe = pd.read_csv('https://storage.googleapis.com/rg-ai-bootcamp/pandas/import-data.csv')\n",
    "\n",
    "# print the first few lines of the dataframe\n",
    "dataframe.head()"
   ]
  },
  {
   "cell_type": "markdown",
   "id": "75cef1d8",
   "metadata": {},
   "source": [
    "|  | passengerId | class | sex | age | ticket | fare | cabin | embarked |\n",
    "| --- | --- | --- | --- | --- | --- | --- | --- | --- |\n",
    "| 0 | 1 | First | Male | 32 | A12345 | 50.0 | C10 | S |\n",
    "| 1 | 2 | Second | Female | 25 | B67890 | 30.5 | E25 | C |\n",
    "| 2 | 3 | Third | Male | 18 | C24680 | 10.0 | G12 | Q |\n",
    "| 3 | 4 | First | Female | 40 | D13579 | 100.0 | A5 | S |\n",
    "| 4 | 5 | Second | Male | 35 | E97531 | 20.0 | B15 | S |"
   ]
  },
  {
   "cell_type": "markdown",
   "id": "c3e334ef",
   "metadata": {},
   "source": [
    "In this example, the read_csv() function reads a CSV file and converts it into a Pandas DataFrame. dataframe.head() then prints the first 5 rows of the DataFrame."
   ]
  },
  {
   "cell_type": "markdown",
   "id": "0da6908b",
   "metadata": {},
   "source": [
    "Considerations while reading CSVs:"
   ]
  },
  {
   "cell_type": "markdown",
   "id": "f0a0eecc",
   "metadata": {},
   "source": [
    "Delimiter: A CSV file’s default delimiter is a comma. However, other characters like semicolons can be used. The correct delimiter should be specified when reading a CSV file."
   ]
  },
  {
   "cell_type": "markdown",
   "id": "b67af714",
   "metadata": {},
   "source": [
    "Header: If the first line of the CSV file is a header (names of columns), make sure the library correctly identifies it."
   ]
  },
  {
   "cell_type": "markdown",
   "id": "44b849d5",
   "metadata": {},
   "source": [
    "Encoding: CSV files can be written in different encodings. If you encounter a UnicodeDecodeError, you might need to specify the correct encoding."
   ]
  },
  {
   "cell_type": "markdown",
   "id": "100fcabf",
   "metadata": {},
   "source": [
    "# Writing Data To CSV"
   ]
  },
  {
   "cell_type": "markdown",
   "id": "f9d47155",
   "metadata": {},
   "source": [
    "We often need to write or export data to a CSV file after manipulating or analyzing it. This written data can then be used in other systems, shared with other teams, or merely stored for future use."
   ]
  },
  {
   "cell_type": "markdown",
   "id": "44f4699b",
   "metadata": {},
   "source": [
    "Here is a simple Python example of writing data to a CSV file using pandas:"
   ]
  },
  {
   "cell_type": "code",
   "execution_count": null,
   "id": "8c3a9412",
   "metadata": {},
   "outputs": [],
   "source": [
    "import pandas as pd\n",
    "\n",
    "# Create a simple dataframe\n",
    "new_dataframe = pd.DataFrame({\n",
    "   'PassengerId': [1, 2, 3],\n",
    "   'class': ['First', 'Second', 'First'],\n",
    "   'sex': ['Female', 'Male', 'Male'],\n",
    "   'age': [28, 24, 35],\n",
    "   'ticket': ['U64297', 'V91254', 'W72311'],\n",
    "   'fare': [75.40, 50.00, 100.00],\n",
    "   'cabin': ['C20', 'A1', 'Z5'],\n",
    "   'embarked': ['S', 'Q', 'S']\n",
    "})\n",
    "\n",
    "# write to a CSV file\n",
    "new_dataframe.to_csv('./data/export-data.csv', index=False)\n",
    "\n",
    "# print the dataframe\n",
    "new_dataframe"
   ]
  },
  {
   "cell_type": "markdown",
   "id": "d01bad95",
   "metadata": {},
   "source": [
    "|  | PassengerId | class | sex | age | ticket | fare | cabin | embarked |\n",
    "| --- | --- | --- | --- | --- | --- | --- | --- | --- |\n",
    "| 0 | 1 | First | Female | 28 | U64297 | 75.4 | C20 | S |\n",
    "| 1 | 2 | Second | Male | 24 | V91254 | 50.0 | A1 | Q |\n",
    "| 2 | 3 | First | Male | 35 | W72311 | 100.0 | Z5 | S |"
   ]
  },
  {
   "cell_type": "markdown",
   "id": "2c9f4bbc",
   "metadata": {},
   "source": [
    "In this case, the to_csv() function writes the DataFrame to a CSV file. The index=False argument prevents pandas from writing row indices into the CSV file."
   ]
  },
  {
   "cell_type": "markdown",
   "id": "ce0c80c9",
   "metadata": {},
   "source": [
    "Considerations while writing CSVs:"
   ]
  },
  {
   "cell_type": "markdown",
   "id": "a40a78dc",
   "metadata": {},
   "source": [
    "Delimiter: While a comma is standard, you might need to use a different character as a delimiter, which can be defined when writing a CSV file."
   ]
  },
  {
   "cell_type": "markdown",
   "id": "be1f78ac",
   "metadata": {},
   "source": [
    "Header: You can choose to include or exclude the header in your CSV file."
   ]
  },
  {
   "cell_type": "markdown",
   "id": "3d5173c0",
   "metadata": {},
   "source": [
    "Encoding: You can specify the type of encoding for your CSV file."
   ]
  },
  {
   "cell_type": "markdown",
   "id": "1f49fd7b",
   "metadata": {},
   "source": [
    "These functionalities to read and write CSV files form the basics of handling data in data engineering or data science tasks. They enable you to ingest data from various sources, process it as needed, and store or distribute results in a universally accepted format."
   ]
  },
  {
   "cell_type": "markdown",
   "id": "981ef18a",
   "metadata": {},
   "source": [
    "# Data Indexing and Selection"
   ]
  },
  {
   "cell_type": "markdown",
   "id": "9f432f5f",
   "metadata": {},
   "source": [
    "Data indexing and selection is a crucial aspect of data manipulation and analysis. It allows us to access specific subsets of data efficiently. This process is particularly important when dealing with large datasets where manual inspection is not feasible."
   ]
  },
  {
   "cell_type": "markdown",
   "id": "c31bd09f",
   "metadata": {},
   "source": [
    "# Selecting Data by Index, Columns, and Labels"
   ]
  },
  {
   "cell_type": "markdown",
   "id": "672fabbf",
   "metadata": {},
   "source": [
    "In Pandas, a popular data manipulation library in Python, you can select data based on the following 3 things: - Index - Columns - Labels"
   ]
  },
  {
   "cell_type": "markdown",
   "id": "77a2e1c1",
   "metadata": {},
   "source": [
    "First, you need to import the necessary libraries and load your data:"
   ]
  },
  {
   "cell_type": "code",
   "execution_count": null,
   "id": "184a3190",
   "metadata": {},
   "outputs": [],
   "source": [
    "import pandas as pd\n",
    "\n",
    "# Load the data from the .csv file\n",
    "dataframe = pd.read_csv('https://storage.googleapis.com/rg-ai-bootcamp/pandas/import-data.csv')\n",
    "\n",
    "dataframe.head(10)"
   ]
  },
  {
   "cell_type": "markdown",
   "id": "ded8a4ed",
   "metadata": {},
   "source": [
    "|  | passengerId | class | sex | age | ticket | fare | cabin | embarked |\n",
    "| --- | --- | --- | --- | --- | --- | --- | --- | --- |\n",
    "| 0 | 1 | First | Male | 32 | A12345 | 50.00 | C10 | S |\n",
    "| 1 | 2 | Second | Female | 25 | B67890 | 30.50 | E25 | C |\n",
    "| 2 | 3 | Third | Male | 18 | C24680 | 10.00 | G12 | Q |\n",
    "| 3 | 4 | First | Female | 40 | D13579 | 100.00 | A5 | S |\n",
    "| 4 | 5 | Second | Male | 35 | E97531 | 20.00 | B15 | S |\n",
    "| 5 | 6 | Third | Female | 28 | F86420 | 15.75 | C30 | Q |\n",
    "| 6 | 7 | First | Male | 50 | G75319 | 80.50 | D8 | C |\n",
    "| 7 | 8 | Second | Female | 22 | H64208 | 35.25 | E12 | S |\n",
    "| 8 | 9 | Third | Male | 19 | I35790 | 8.50 | F20 | S |\n",
    "| 9 | 10 | First | Female | 45 | J86420 | 90.00 | G5 | C |"
   ]
  },
  {
   "cell_type": "markdown",
   "id": "75acb2d2",
   "metadata": {},
   "source": [
    "# Selecting Data by Index"
   ]
  },
  {
   "cell_type": "markdown",
   "id": "6ecf82ff",
   "metadata": {},
   "source": [
    "The iloc function is used to select data by its numeric index, similar to how we access elements in a list. The i in iloc stands for integer. We can select a single row, or multiple rows, or even cut a range of rows."
   ]
  },
  {
   "cell_type": "markdown",
   "id": "b1517348",
   "metadata": {},
   "source": [
    "For example, here we want to see in detail the data from the first row, we can access it via index (index = 0)"
   ]
  },
  {
   "cell_type": "code",
   "execution_count": null,
   "id": "5d9709c3",
   "metadata": {},
   "outputs": [],
   "source": [
    "# Select the first row\n",
    "first_row = dataframe.iloc[0]\n",
    "\n",
    "first_row"
   ]
  },
  {
   "cell_type": "code",
   "execution_count": null,
   "id": "8503e4d6",
   "metadata": {},
   "outputs": [],
   "source": [
    "passengerId         1\n",
    "class           First\n",
    "sex              Male\n",
    "age                32\n",
    "ticket         A12345\n",
    "fare             50.0\n",
    "cabin             C10\n",
    "embarked            S\n",
    "Name: 0, dtype: object"
   ]
  },
  {
   "cell_type": "markdown",
   "id": "3ac5d785",
   "metadata": {},
   "source": [
    "# Selecting Data by Columns"
   ]
  },
  {
   "cell_type": "markdown",
   "id": "3e2c31be",
   "metadata": {},
   "source": [
    "We can select data by its column name in Pandas using the [] operator. This will return a Series object containing the data in the specified column. In this case, we want to look based on class in the data we have."
   ]
  },
  {
   "cell_type": "code",
   "execution_count": null,
   "id": "6418f54c",
   "metadata": {},
   "outputs": [],
   "source": [
    "# Select the 'embarked' column\n",
    "class_column = dataframe['class']\n",
    "\n",
    "class_column.head(10)"
   ]
  },
  {
   "cell_type": "code",
   "execution_count": null,
   "id": "a8f167ec",
   "metadata": {},
   "outputs": [],
   "source": [
    "0     First\n",
    "1    Second\n",
    "2     Third\n",
    "3     First\n",
    "4    Second\n",
    "5     Third\n",
    "6     First\n",
    "7    Second\n",
    "8     Third\n",
    "9     First\n",
    "Name: class, dtype: object"
   ]
  },
  {
   "cell_type": "markdown",
   "id": "c18025a4",
   "metadata": {},
   "source": [
    "# Selecting Data by Labels"
   ]
  },
  {
   "cell_type": "markdown",
   "id": "66e61b29",
   "metadata": {},
   "source": [
    "The loc function in Pandas is used to select rows based on their labels. In a DataFrame, row labels are indexes. By default, DataFrame indexes are numeric, similar to list indexes. However, we can set the index to be any column of the DataFrame, which allows us to use loc to select rows based on the values in that column. After we know the passenger class through the class column, now we want to see more detailed passenger data from the first class."
   ]
  },
  {
   "cell_type": "markdown",
   "id": "6be5fe6e",
   "metadata": {},
   "source": [
    "We can use the following way:"
   ]
  },
  {
   "cell_type": "code",
   "execution_count": null,
   "id": "a6d91731",
   "metadata": {},
   "outputs": [],
   "source": [
    "# Set the 'class' column as the index\n",
    "dataframe.set_index('class', inplace=True)\n",
    "\n",
    "# Select the row with the label 'First'\n",
    "first_row = dataframe.loc['First']\n",
    "\n",
    "first_row"
   ]
  },
  {
   "cell_type": "markdown",
   "id": "ddd7feb5",
   "metadata": {},
   "source": [
    "|  | passengerId | sex | age | ticket | fare | cabin | embarked |\n",
    "| --- | --- | --- | --- | --- | --- | --- | --- |\n",
    "| class |  |  |  |  |  |  |  |\n",
    "| First | 1 | Male | 32 | A12345 | 50.0 | C10 | S |\n",
    "| First | 4 | Female | 40 | D13579 | 100.0 | A5 | S |\n",
    "| First | 7 | Male | 50 | G75319 | 80.5 | D8 | C |\n",
    "| First | 10 | Female | 45 | J86420 | 90.0 | G5 | C |\n",
    "| First | 13 | Male | 55 | M75319 | 75.5 | C8 | S |\n",
    "| First | 16 | Female | 38 | P86420 | 95.0 | F5 | S |\n",
    "| First | 19 | Male | 60 | S75319 | 70.5 | I8 | C |"
   ]
  },
  {
   "cell_type": "markdown",
   "id": "bc631463",
   "metadata": {},
   "source": [
    "# Data Manipulation"
   ]
  },
  {
   "cell_type": "markdown",
   "id": "6dc28eb1",
   "metadata": {},
   "source": [
    "# Adding and Updating Column"
   ]
  },
  {
   "cell_type": "markdown",
   "id": "2ca7b094",
   "metadata": {},
   "source": [
    "# Adding Column"
   ]
  },
  {
   "cell_type": "markdown",
   "id": "209102da",
   "metadata": {},
   "source": [
    "You can add a new column to your DataFrame in several ways: 1. Assigning a scalar value to a new column 2. Adding a Series as a new column 3. Adding a calculated column"
   ]
  },
  {
   "cell_type": "markdown",
   "id": "e8525e7c",
   "metadata": {},
   "source": [
    "First, you need to import the necessary libraries and load your data:"
   ]
  },
  {
   "cell_type": "code",
   "execution_count": null,
   "id": "1fe388a2",
   "metadata": {},
   "outputs": [],
   "source": [
    "import pandas as pd\n",
    "\n",
    "# Load the data from the .csv file\n",
    "passenger_df = pd.read_csv('https://storage.googleapis.com/rg-ai-bootcamp/pandas/import-data.csv')\n",
    "\n",
    "passenger_df.head(10)"
   ]
  },
  {
   "cell_type": "markdown",
   "id": "c29df78d",
   "metadata": {},
   "source": [
    "|  | passengerId | class | sex | age | ticket | fare | cabin | embarked |\n",
    "| --- | --- | --- | --- | --- | --- | --- | --- | --- |\n",
    "| 0 | 1 | First | Male | 32 | A12345 | 50.00 | C10 | S |\n",
    "| 1 | 2 | Second | Female | 25 | B67890 | 30.50 | E25 | C |\n",
    "| 2 | 3 | Third | Male | 18 | C24680 | 10.00 | G12 | Q |\n",
    "| 3 | 4 | First | Female | 40 | D13579 | 100.00 | A5 | S |\n",
    "| 4 | 5 | Second | Male | 35 | E97531 | 20.00 | B15 | S |\n",
    "| 5 | 6 | Third | Female | 28 | F86420 | 15.75 | C30 | Q |\n",
    "| 6 | 7 | First | Male | 50 | G75319 | 80.50 | D8 | C |\n",
    "| 7 | 8 | Second | Female | 22 | H64208 | 35.25 | E12 | S |\n",
    "| 8 | 9 | Third | Male | 19 | I35790 | 8.50 | F20 | S |\n",
    "| 9 | 10 | First | Female | 45 | J86420 | 90.00 | G5 | C |"
   ]
  },
  {
   "cell_type": "markdown",
   "id": "a04ec05b",
   "metadata": {},
   "source": [
    "# 1. Assigning a scalar value to a new column"
   ]
  },
  {
   "cell_type": "markdown",
   "id": "74b0fc84",
   "metadata": {},
   "source": [
    "This will add a new column to our DataFrame with the supplied scalar values for all the rows. For example, we want to add a column for the discount given to all passengers of 0.15. We can add it in the following way."
   ]
  },
  {
   "cell_type": "code",
   "execution_count": null,
   "id": "ae321afb",
   "metadata": {},
   "outputs": [],
   "source": [
    "# Add a new column in df\n",
    "passenger_df['discount'] = 0.15\n",
    "\n",
    "passenger_df.head()"
   ]
  },
  {
   "cell_type": "markdown",
   "id": "7238373d",
   "metadata": {},
   "source": [
    "|  | passengerId | class | sex | age | ticket | fare | cabin | embarked | discount |\n",
    "| --- | --- | --- | --- | --- | --- | --- | --- | --- | --- |\n",
    "| 0 | 1 | First | Male | 32 | A12345 | 50.0 | C10 | S | 0.15 |\n",
    "| 1 | 2 | Second | Female | 25 | B67890 | 30.5 | E25 | C | 0.15 |\n",
    "| 2 | 3 | Third | Male | 18 | C24680 | 10.0 | G12 | Q | 0.15 |\n",
    "| 3 | 4 | First | Female | 40 | D13579 | 100.0 | A5 | S | 0.15 |\n",
    "| 4 | 5 | Second | Male | 35 | E97531 | 20.0 | B15 | S | 0.15 |"
   ]
  },
  {
   "cell_type": "markdown",
   "id": "6989896f",
   "metadata": {},
   "source": [
    "# 2. Adding a Series as a new column"
   ]
  },
  {
   "cell_type": "markdown",
   "id": "eeedcfda",
   "metadata": {},
   "source": [
    "So what if we want to add the owned status column using Series? We can use the method below. This will add a new column with the values from Series. Series must be the same length as the DataFrame."
   ]
  },
  {
   "cell_type": "code",
   "execution_count": null,
   "id": "9fff6212",
   "metadata": {},
   "outputs": [],
   "source": [
    "# Create a Series\n",
    "s = pd.Series(['Canceled', 'Active', 'Canceled', 'Active', 'Active'])\n",
    "\n",
    "# Add the Series as a new column in the DataFrame\n",
    "passenger_df['status'] = s\n",
    "\n",
    "passenger_df.head()"
   ]
  },
  {
   "cell_type": "markdown",
   "id": "61b5be57",
   "metadata": {},
   "source": [
    "|  | passengerId | class | sex | age | ticket | fare | cabin | embarked | discount | status |\n",
    "| --- | --- | --- | --- | --- | --- | --- | --- | --- | --- | --- |\n",
    "| 0 | 1 | First | Male | 32 | A12345 | 50.0 | C10 | S | 0.15 | Canceled |\n",
    "| 1 | 2 | Second | Female | 25 | B67890 | 30.5 | E25 | C | 0.15 | Active |\n",
    "| 2 | 3 | Third | Male | 18 | C24680 | 10.0 | G12 | Q | 0.15 | Canceled |\n",
    "| 3 | 4 | First | Female | 40 | D13579 | 100.0 | A5 | S | 0.15 | Active |\n",
    "| 4 | 5 | Second | Male | 35 | E97531 | 20.0 | B15 | S | 0.15 | Active |"
   ]
  },
  {
   "cell_type": "markdown",
   "id": "0ed0471e",
   "metadata": {},
   "source": [
    "# 3. Adding a column with a calculated value"
   ]
  },
  {
   "cell_type": "markdown",
   "id": "814fd2e4",
   "metadata": {},
   "source": [
    "We can add new columns that are calculated from existing columns. After previously we added discount for all passengers, in this case we want to add a column to see the total fare after the discount."
   ]
  },
  {
   "cell_type": "code",
   "execution_count": null,
   "id": "4c5640d5",
   "metadata": {},
   "outputs": [],
   "source": [
    "passenger_df['totalFare'] = passenger_df['fare'] - (passenger_df['fare'] * passenger_df['discount'])\n",
    "\n",
    "passenger_df.head()"
   ]
  },
  {
   "cell_type": "markdown",
   "id": "bb729a06",
   "metadata": {},
   "source": [
    "|  | passengerId | class | sex | age | ticket | fare | cabin | embarked | discount | status | totalFare |\n",
    "| --- | --- | --- | --- | --- | --- | --- | --- | --- | --- | --- | --- |\n",
    "| 0 | 1 | First | Male | 32 | A12345 | 50.0 | C10 | S | 0.15 | Canceled | 42.500 |\n",
    "| 1 | 2 | Second | Female | 25 | B67890 | 30.5 | E25 | C | 0.15 | Active | 25.925 |\n",
    "| 2 | 3 | Third | Male | 18 | C24680 | 10.0 | G12 | Q | 0.15 | Canceled | 8.500 |\n",
    "| 3 | 4 | First | Female | 40 | D13579 | 100.0 | A5 | S | 0.15 | Active | 85.000 |\n",
    "| 4 | 5 | Second | Male | 35 | E97531 | 20.0 | B15 | S | 0.15 | Active | 17.000 |"
   ]
  },
  {
   "cell_type": "markdown",
   "id": "4e7cd1c7",
   "metadata": {},
   "source": [
    "# Updating Columns"
   ]
  },
  {
   "cell_type": "markdown",
   "id": "a7686f40",
   "metadata": {},
   "source": [
    "Updating a column in a DataFrame is similar to adding a new column. We assign the new values to the column we want to update. The new values could be a scalar, a Series, or a calculated value."
   ]
  },
  {
   "cell_type": "markdown",
   "id": "52b695c0",
   "metadata": {},
   "source": [
    "# 1. Updating a column with a scalar value"
   ]
  },
  {
   "cell_type": "markdown",
   "id": "3af78c64",
   "metadata": {},
   "source": [
    "This will update the specified column with the supplied scalar value for all rows. For example, we want to change the amount of the discount given."
   ]
  },
  {
   "cell_type": "code",
   "execution_count": null,
   "id": "8cbb003f",
   "metadata": {},
   "outputs": [],
   "source": [
    "passenger_df['discount'] = 0.25\n",
    "\n",
    "passenger_df.head()"
   ]
  },
  {
   "cell_type": "markdown",
   "id": "32ca0c28",
   "metadata": {},
   "source": [
    "|  | passengerId | class | sex | age | ticket | fare | cabin | embarked | discount | status | totalFare |\n",
    "| --- | --- | --- | --- | --- | --- | --- | --- | --- | --- | --- | --- |\n",
    "| 0 | 1 | First | Male | 32 | A12345 | 50.0 | C10 | S | 0.25 | Canceled | 42.500 |\n",
    "| 1 | 2 | Second | Female | 25 | B67890 | 30.5 | E25 | C | 0.25 | Active | 25.925 |\n",
    "| 2 | 3 | Third | Male | 18 | C24680 | 10.0 | G12 | Q | 0.25 | Canceled | 8.500 |\n",
    "| 3 | 4 | First | Female | 40 | D13579 | 100.0 | A5 | S | 0.25 | Active | 85.000 |\n",
    "| 4 | 5 | Second | Male | 35 | E97531 | 20.0 | B15 | S | 0.25 | Active | 17.000 |"
   ]
  },
  {
   "cell_type": "markdown",
   "id": "73d5d916",
   "metadata": {},
   "source": [
    "# 2. Updating a column with a Series"
   ]
  },
  {
   "cell_type": "markdown",
   "id": "98cd4a18",
   "metadata": {},
   "source": [
    "This will update the specified column with the value from Series. Series must be the same length as the DataFrame. In this case, it turns out that we know that the status of some passengers is wrong and we want to replace it using the data series we have."
   ]
  },
  {
   "cell_type": "code",
   "execution_count": null,
   "id": "f4d2447b",
   "metadata": {},
   "outputs": [],
   "source": [
    "new_series = pd.Series(['Active', 'Active', 'Active', 'Active', 'Canceled', 'Active', 'Active', 'Canceled','Active', 'Active', 'Canceled', 'Active', 'Active', 'Canceled','Active', 'Canceled', 'Active', 'Active', 'Canceled','Active',])\n",
    "\n",
    "passenger_df['status'] = new_series\n",
    "\n",
    "passenger_df.head(10)"
   ]
  },
  {
   "cell_type": "markdown",
   "id": "f4dca038",
   "metadata": {},
   "source": [
    "|  | passengerId | class | sex | age | ticket | fare | cabin | embarked | discount | status | totalFare |\n",
    "| --- | --- | --- | --- | --- | --- | --- | --- | --- | --- | --- | --- |\n",
    "| 0 | 1 | First | Male | 32 | A12345 | 50.00 | C10 | S | 0.25 | Active | 42.5000 |\n",
    "| 1 | 2 | Second | Female | 25 | B67890 | 30.50 | E25 | C | 0.25 | Active | 25.9250 |\n",
    "| 2 | 3 | Third | Male | 18 | C24680 | 10.00 | G12 | Q | 0.25 | Active | 8.5000 |\n",
    "| 3 | 4 | First | Female | 40 | D13579 | 100.00 | A5 | S | 0.25 | Active | 85.0000 |\n",
    "| 4 | 5 | Second | Male | 35 | E97531 | 20.00 | B15 | S | 0.25 | Canceled | 17.0000 |\n",
    "| 5 | 6 | Third | Female | 28 | F86420 | 15.75 | C30 | Q | 0.25 | Active | 13.3875 |\n",
    "| 6 | 7 | First | Male | 50 | G75319 | 80.50 | D8 | C | 0.25 | Active | 68.4250 |\n",
    "| 7 | 8 | Second | Female | 22 | H64208 | 35.25 | E12 | S | 0.25 | Canceled | 29.9625 |\n",
    "| 8 | 9 | Third | Male | 19 | I35790 | 8.50 | F20 | S | 0.25 | Active | 7.2250 |\n",
    "| 9 | 10 | First | Female | 45 | J86420 | 90.00 | G5 | C | 0.25 | Active | 76.5000 |"
   ]
  },
  {
   "cell_type": "markdown",
   "id": "eae35fd1",
   "metadata": {},
   "source": [
    "# 3. Updating a column with a calculated value"
   ]
  },
  {
   "cell_type": "markdown",
   "id": "1ef11fb8",
   "metadata": {},
   "source": [
    "We can update columns with values calculated from other columns. For example, after we change the amount of discount given, we also need to change the calculation format and amount."
   ]
  },
  {
   "cell_type": "code",
   "execution_count": null,
   "id": "f450c305",
   "metadata": {},
   "outputs": [],
   "source": [
    "passenger_df['totalFare'] = passenger_df['fare'] - (passenger_df['fare'] * passenger_df['discount']) \n",
    "\n",
    "passenger_df.head(10)"
   ]
  },
  {
   "cell_type": "markdown",
   "id": "0fec2ebc",
   "metadata": {},
   "source": [
    "|  | passengerId | class | sex | age | ticket | fare | cabin | embarked | discount | status | totalFare |\n",
    "| --- | --- | --- | --- | --- | --- | --- | --- | --- | --- | --- | --- |\n",
    "| 0 | 1 | First | Male | 32 | A12345 | 50.00 | C10 | S | 0.25 | Active | 37.5000 |\n",
    "| 1 | 2 | Second | Female | 25 | B67890 | 30.50 | E25 | C | 0.25 | Active | 22.8750 |\n",
    "| 2 | 3 | Third | Male | 18 | C24680 | 10.00 | G12 | Q | 0.25 | Active | 7.5000 |\n",
    "| 3 | 4 | First | Female | 40 | D13579 | 100.00 | A5 | S | 0.25 | Active | 75.0000 |\n",
    "| 4 | 5 | Second | Male | 35 | E97531 | 20.00 | B15 | S | 0.25 | Canceled | 15.0000 |\n",
    "| 5 | 6 | Third | Female | 28 | F86420 | 15.75 | C30 | Q | 0.25 | Active | 11.8125 |\n",
    "| 6 | 7 | First | Male | 50 | G75319 | 80.50 | D8 | C | 0.25 | Active | 60.3750 |\n",
    "| 7 | 8 | Second | Female | 22 | H64208 | 35.25 | E12 | S | 0.25 | Canceled | 26.4375 |\n",
    "| 8 | 9 | Third | Male | 19 | I35790 | 8.50 | F20 | S | 0.25 | Active | 6.3750 |\n",
    "| 9 | 10 | First | Female | 45 | J86420 | 90.00 | G5 | C | 0.25 | Active | 67.5000 |"
   ]
  },
  {
   "cell_type": "markdown",
   "id": "e6cc5c51",
   "metadata": {},
   "source": [
    "# Updating Column Name"
   ]
  },
  {
   "cell_type": "markdown",
   "id": "ba33f0ff",
   "metadata": {},
   "source": [
    "At times, the naming of columns or features may lack consistency, possibly due to variations in letter case, among other factors. Maintaining a uniform naming convention enhances our efficiency when working with these features."
   ]
  },
  {
   "cell_type": "markdown",
   "id": "b4a67fa8",
   "metadata": {},
   "source": [
    "Let’s explore how we can modify or update the names of columns or features in our dataset. For example, we think that the column name sex is taboo or inappropriate, and we want to replace it with gender."
   ]
  },
  {
   "cell_type": "code",
   "execution_count": null,
   "id": "cec23ecc",
   "metadata": {},
   "outputs": [],
   "source": [
    "#update the column name\n",
    "passenger_df = passenger_df.rename(columns = {'sex':'gender'})\n",
    "\n",
    "passenger_df.head()"
   ]
  },
  {
   "cell_type": "markdown",
   "id": "086b22d2",
   "metadata": {},
   "source": [
    "|  | passengerId | class | gender | age | ticket | fare | cabin | embarked | discount | status | totalFare |\n",
    "| --- | --- | --- | --- | --- | --- | --- | --- | --- | --- | --- | --- |\n",
    "| 0 | 1 | First | Male | 32 | A12345 | 50.0 | C10 | S | 0.25 | Active | 37.500 |\n",
    "| 1 | 2 | Second | Female | 25 | B67890 | 30.5 | E25 | C | 0.25 | Active | 22.875 |\n",
    "| 2 | 3 | Third | Male | 18 | C24680 | 10.0 | G12 | Q | 0.25 | Active | 7.500 |\n",
    "| 3 | 4 | First | Female | 40 | D13579 | 100.0 | A5 | S | 0.25 | Active | 75.000 |\n",
    "| 4 | 5 | Second | Male | 35 | E97531 | 20.0 | B15 | S | 0.25 | Canceled | 15.000 |"
   ]
  },
  {
   "cell_type": "markdown",
   "id": "f49ed227",
   "metadata": {},
   "source": [
    "You can even update multiple column names at a single time. For that, you have to add other column names separated by a comma under the curl braces."
   ]
  },
  {
   "cell_type": "code",
   "execution_count": null,
   "id": "5134a2c6",
   "metadata": {},
   "outputs": [],
   "source": [
    "#multiple column update\n",
    "passenger_df = passenger_df.rename(columns = {'ticket':'ticketNumber','cabin':'cabinNumber'})\n",
    "\n",
    "passenger_df"
   ]
  },
  {
   "cell_type": "markdown",
   "id": "8f8b14eb",
   "metadata": {},
   "source": [
    "|  | passengerId | class | gender | age | ticketNumber | fare | cabinNumber | embarked | discount | status | totalFare |\n",
    "| --- | --- | --- | --- | --- | --- | --- | --- | --- | --- | --- | --- |\n",
    "| 0 | 1 | First | Male | 32 | A12345 | 50.00 | C10 | S | 0.25 | Active | 37.5000 |\n",
    "| 1 | 2 | Second | Female | 25 | B67890 | 30.50 | E25 | C | 0.25 | Active | 22.8750 |\n",
    "| 2 | 3 | Third | Male | 18 | C24680 | 10.00 | G12 | Q | 0.25 | Active | 7.5000 |\n",
    "| 3 | 4 | First | Female | 40 | D13579 | 100.00 | A5 | S | 0.25 | Active | 75.0000 |\n",
    "| 4 | 5 | Second | Male | 35 | E97531 | 20.00 | B15 | S | 0.25 | Canceled | 15.0000 |\n",
    "| 5 | 6 | Third | Female | 28 | F86420 | 15.75 | C30 | Q | 0.25 | Active | 11.8125 |\n",
    "| 6 | 7 | First | Male | 50 | G75319 | 80.50 | D8 | C | 0.25 | Active | 60.3750 |\n",
    "| 7 | 8 | Second | Female | 22 | H64208 | 35.25 | E12 | S | 0.25 | Canceled | 26.4375 |\n",
    "| 8 | 9 | Third | Male | 19 | I35790 | 8.50 | F20 | S | 0.25 | Active | 6.3750 |\n",
    "| 9 | 10 | First | Female | 45 | J86420 | 90.00 | G5 | C | 0.25 | Active | 67.5000 |\n",
    "| 10 | 11 | Second | Male | 30 | K97531 | 25.00 | A20 | S | 0.25 | Canceled | 18.7500 |\n",
    "| 11 | 12 | Third | Female | 21 | L24680 | 12.50 | B30 | Q | 0.25 | Active | 9.3750 |\n",
    "| 12 | 13 | First | Male | 55 | M75319 | 75.50 | C8 | S | 0.25 | Active | 56.6250 |\n",
    "| 13 | 14 | Second | Female | 28 | N64208 | 40.25 | D12 | C | 0.25 | Canceled | 30.1875 |\n",
    "| 14 | 15 | Third | Male | 20 | O35790 | 7.50 | E20 | S | 0.25 | Active | 5.6250 |\n",
    "| 15 | 16 | First | Female | 38 | P86420 | 95.00 | F5 | S | 0.25 | Canceled | 71.2500 |\n",
    "| 16 | 17 | Second | Male | 33 | Q97531 | 22.00 | G20 | S | 0.25 | Active | 16.5000 |\n",
    "| 17 | 18 | Third | Female | 26 | R24680 | 13.50 | H30 | Q | 0.25 | Active | 10.1250 |\n",
    "| 18 | 19 | First | Male | 60 | S75319 | 70.50 | I8 | C | 0.25 | Canceled | 52.8750 |\n",
    "| 19 | 20 | Second | Female | 24 | T64208 | 45.25 | J12 | S | 0.25 | Active | 33.9375 |"
   ]
  },
  {
   "cell_type": "markdown",
   "id": "c5d3aae4",
   "metadata": {},
   "source": [
    "# Adding, Updating and Deleting Rows"
   ]
  },
  {
   "cell_type": "markdown",
   "id": "550c46bc",
   "metadata": {},
   "source": [
    "# Adding Rows"
   ]
  },
  {
   "cell_type": "markdown",
   "id": "7f169c90",
   "metadata": {},
   "source": [
    "There are 2 ways to add rows into Pandas DataFrame object: 1. Use the DataFrame object’s loc attribute. 2. Use the DataFrame object’s concat method."
   ]
  },
  {
   "cell_type": "markdown",
   "id": "2923fc53",
   "metadata": {},
   "source": [
    "# 1. Adding Rows Using loc"
   ]
  },
  {
   "cell_type": "markdown",
   "id": "080b7ef8",
   "metadata": {},
   "source": [
    "What if we want to add the latest passenger data? One of them we can use loc as below. When adding a new row using loc, we can specify the index label of the new row. If this label doesn’t already exist, loc will add a new row with this label to the DataFrame."
   ]
  },
  {
   "cell_type": "code",
   "execution_count": null,
   "id": "970e1f9e",
   "metadata": {},
   "outputs": [],
   "source": [
    "new_row = {'passengerId': 21,\n",
    "           'class':'Third',\n",
    "           'gender':'Male',\n",
    "           'age':30,\n",
    "           'ticketNumber': 'F73925',\n",
    "           'fare':35,\n",
    "           'cabinNumber':'A55',\n",
    "           'embarked': 'C',\n",
    "           'discount': 0.25,\n",
    "           'status': 'Active',\n",
    "           'totalFare': 37.500}\n",
    "\n",
    "passenger_df.loc[len(passenger_df)] = new_row\n",
    "\n",
    "passenger_df"
   ]
  },
  {
   "cell_type": "markdown",
   "id": "cf9a2f11",
   "metadata": {},
   "source": [
    "|  | passengerId | class | gender | age | ticketNumber | fare | cabinNumber | embarked | discount | status | totalFare |\n",
    "| --- | --- | --- | --- | --- | --- | --- | --- | --- | --- | --- | --- |\n",
    "| 0 | 1 | First | Male | 32 | A12345 | 50.00 | C10 | S | 0.25 | Active | 37.5000 |\n",
    "| 1 | 2 | Second | Female | 25 | B67890 | 30.50 | E25 | C | 0.25 | Active | 22.8750 |\n",
    "| 2 | 3 | Third | Male | 18 | C24680 | 10.00 | G12 | Q | 0.25 | Active | 7.5000 |\n",
    "| 3 | 4 | First | Female | 40 | D13579 | 100.00 | A5 | S | 0.25 | Active | 75.0000 |\n",
    "| 4 | 5 | Second | Male | 35 | E97531 | 20.00 | B15 | S | 0.25 | Canceled | 15.0000 |\n",
    "| 5 | 6 | Third | Female | 28 | F86420 | 15.75 | C30 | Q | 0.25 | Active | 11.8125 |\n",
    "| 6 | 7 | First | Male | 50 | G75319 | 80.50 | D8 | C | 0.25 | Active | 60.3750 |\n",
    "| 7 | 8 | Second | Female | 22 | H64208 | 35.25 | E12 | S | 0.25 | Canceled | 26.4375 |\n",
    "| 8 | 9 | Third | Male | 19 | I35790 | 8.50 | F20 | S | 0.25 | Active | 6.3750 |\n",
    "| 9 | 10 | First | Female | 45 | J86420 | 90.00 | G5 | C | 0.25 | Active | 67.5000 |\n",
    "| 10 | 11 | Second | Male | 30 | K97531 | 25.00 | A20 | S | 0.25 | Canceled | 18.7500 |\n",
    "| 11 | 12 | Third | Female | 21 | L24680 | 12.50 | B30 | Q | 0.25 | Active | 9.3750 |\n",
    "| 12 | 13 | First | Male | 55 | M75319 | 75.50 | C8 | S | 0.25 | Active | 56.6250 |\n",
    "| 13 | 14 | Second | Female | 28 | N64208 | 40.25 | D12 | C | 0.25 | Canceled | 30.1875 |\n",
    "| 14 | 15 | Third | Male | 20 | O35790 | 7.50 | E20 | S | 0.25 | Active | 5.6250 |\n",
    "| 15 | 16 | First | Female | 38 | P86420 | 95.00 | F5 | S | 0.25 | Canceled | 71.2500 |\n",
    "| 16 | 17 | Second | Male | 33 | Q97531 | 22.00 | G20 | S | 0.25 | Active | 16.5000 |\n",
    "| 17 | 18 | Third | Female | 26 | R24680 | 13.50 | H30 | Q | 0.25 | Active | 10.1250 |\n",
    "| 18 | 19 | First | Male | 60 | S75319 | 70.50 | I8 | C | 0.25 | Canceled | 52.8750 |\n",
    "| 19 | 20 | Second | Female | 24 | T64208 | 45.25 | J12 | S | 0.25 | Active | 33.9375 |\n",
    "| 20 | 21 | Third | Male | 30 | F73925 | 35.00 | A55 | C | 0.25 | Active | 37.5000 |"
   ]
  },
  {
   "cell_type": "markdown",
   "id": "6a4f6ed4",
   "metadata": {},
   "source": [
    "# 2. Adding Rows Using concat"
   ]
  },
  {
   "cell_type": "markdown",
   "id": "b7421e8a",
   "metadata": {},
   "source": [
    "Or if we have another DataFrame and want to add it to our existing DataFrame. We can use the concat function. The concat function is used to concat another DataFrame row to the end of the given DataFrame, returning a new DataFrame object."
   ]
  },
  {
   "cell_type": "code",
   "execution_count": null,
   "id": "a12ffbe5",
   "metadata": {},
   "outputs": [],
   "source": [
    "new_rows = {'passengerId': [22, 23],\n",
    "            'class':['First','Third'],\n",
    "            'gender':['Male','Female'],\n",
    "            'age':[30,30],\n",
    "            'ticketNumber': ['G76201', 'H43599'],\n",
    "            'fare':[50,35],\n",
    "            'cabinNumber':['B5', 'B6'],\n",
    "            'embarked': ['C', 'S'],\n",
    "            'discount':[0.25, 0.25],\n",
    "            'status': ['Active','Active'],\n",
    "            'totalFare': [37.500, 37.500]}\n",
    "\n",
    "new_passenger_df = pd.DataFrame(data = new_rows)\n",
    "\n",
    "passenger_df = pd.concat([passenger_df, new_passenger_df], ignore_index=True)\n",
    "\n",
    "passenger_df"
   ]
  },
  {
   "cell_type": "markdown",
   "id": "b7cfd484",
   "metadata": {},
   "source": [
    "|  | passengerId | class | gender | age | ticketNumber | fare | cabinNumber | embarked | discount | status | totalFare |\n",
    "| --- | --- | --- | --- | --- | --- | --- | --- | --- | --- | --- | --- |\n",
    "| 0 | 1 | First | Male | 32 | A12345 | 50.00 | C10 | S | 0.25 | Active | 37.5000 |\n",
    "| 1 | 2 | Second | Female | 25 | B67890 | 30.50 | E25 | C | 0.25 | Active | 22.8750 |\n",
    "| 2 | 3 | Third | Male | 18 | C24680 | 10.00 | G12 | Q | 0.25 | Active | 7.5000 |\n",
    "| 3 | 4 | First | Female | 40 | D13579 | 100.00 | A5 | S | 0.25 | Active | 75.0000 |\n",
    "| 4 | 5 | Second | Male | 35 | E97531 | 20.00 | B15 | S | 0.25 | Canceled | 15.0000 |\n",
    "| 5 | 6 | Third | Female | 28 | F86420 | 15.75 | C30 | Q | 0.25 | Active | 11.8125 |\n",
    "| 6 | 7 | First | Male | 50 | G75319 | 80.50 | D8 | C | 0.25 | Active | 60.3750 |\n",
    "| 7 | 8 | Second | Female | 22 | H64208 | 35.25 | E12 | S | 0.25 | Canceled | 26.4375 |\n",
    "| 8 | 9 | Third | Male | 19 | I35790 | 8.50 | F20 | S | 0.25 | Active | 6.3750 |\n",
    "| 9 | 10 | First | Female | 45 | J86420 | 90.00 | G5 | C | 0.25 | Active | 67.5000 |\n",
    "| 10 | 11 | Second | Male | 30 | K97531 | 25.00 | A20 | S | 0.25 | Canceled | 18.7500 |\n",
    "| 11 | 12 | Third | Female | 21 | L24680 | 12.50 | B30 | Q | 0.25 | Active | 9.3750 |\n",
    "| 12 | 13 | First | Male | 55 | M75319 | 75.50 | C8 | S | 0.25 | Active | 56.6250 |\n",
    "| 13 | 14 | Second | Female | 28 | N64208 | 40.25 | D12 | C | 0.25 | Canceled | 30.1875 |\n",
    "| 14 | 15 | Third | Male | 20 | O35790 | 7.50 | E20 | S | 0.25 | Active | 5.6250 |\n",
    "| 15 | 16 | First | Female | 38 | P86420 | 95.00 | F5 | S | 0.25 | Canceled | 71.2500 |\n",
    "| 16 | 17 | Second | Male | 33 | Q97531 | 22.00 | G20 | S | 0.25 | Active | 16.5000 |\n",
    "| 17 | 18 | Third | Female | 26 | R24680 | 13.50 | H30 | Q | 0.25 | Active | 10.1250 |\n",
    "| 18 | 19 | First | Male | 60 | S75319 | 70.50 | I8 | C | 0.25 | Canceled | 52.8750 |\n",
    "| 19 | 20 | Second | Female | 24 | T64208 | 45.25 | J12 | S | 0.25 | Active | 33.9375 |\n",
    "| 20 | 21 | Third | Male | 30 | F73925 | 35.00 | A55 | C | 0.25 | Active | 37.5000 |\n",
    "| 21 | 22 | First | Male | 30 | G76201 | 50.00 | B5 | C | 0.25 | Active | 37.5000 |\n",
    "| 22 | 23 | Third | Female | 30 | H43599 | 35.00 | B6 | S | 0.25 | Active | 37.5000 |"
   ]
  },
  {
   "cell_type": "markdown",
   "id": "7a646421",
   "metadata": {},
   "source": [
    "# Updating Rows"
   ]
  },
  {
   "cell_type": "markdown",
   "id": "255153fa",
   "metadata": {},
   "source": [
    "You can update the values in a row using the loc indexer. The loc indexer is used to access a group of rows and columns by label(s) or a boolean array."
   ]
  },
  {
   "cell_type": "code",
   "execution_count": null,
   "id": "205908ee",
   "metadata": {},
   "outputs": [],
   "source": [
    "# Update a row\n",
    "passenger_df.loc[0, ['passengerId', 'cabinNumber']] = [24, 'C1']\n",
    "passenger_df.loc[1] = {'passengerId': 2, 'class':'Second', 'gender':'Female', 'age':'18', 'ticketNumber': 'B67890', 'fare':40, 'cabinNumber':'A1','embarked': 'Q', 'discount':0.25, 'status': 'Active', 'totalFare': 22.875}\n",
    "\n",
    "passenger_df"
   ]
  },
  {
   "cell_type": "markdown",
   "id": "bdc4bdad",
   "metadata": {},
   "source": [
    "|  | passengerId | class | gender | age | ticketNumber | fare | cabinNumber | embarked | discount | status | totalFare |\n",
    "| --- | --- | --- | --- | --- | --- | --- | --- | --- | --- | --- | --- |\n",
    "| 0 | 24 | First | Male | 32 | A12345 | 50.00 | C1 | S | 0.25 | Active | 37.5000 |\n",
    "| 1 | 2 | Second | Female | 18 | B67890 | 40.00 | A1 | Q | 0.25 | Active | 22.8750 |\n",
    "| 2 | 3 | Third | Male | 18 | C24680 | 10.00 | G12 | Q | 0.25 | Active | 7.5000 |\n",
    "| 3 | 4 | First | Female | 40 | D13579 | 100.00 | A5 | S | 0.25 | Active | 75.0000 |\n",
    "| 4 | 5 | Second | Male | 35 | E97531 | 20.00 | B15 | S | 0.25 | Canceled | 15.0000 |\n",
    "| 5 | 6 | Third | Female | 28 | F86420 | 15.75 | C30 | Q | 0.25 | Active | 11.8125 |\n",
    "| 6 | 7 | First | Male | 50 | G75319 | 80.50 | D8 | C | 0.25 | Active | 60.3750 |\n",
    "| 7 | 8 | Second | Female | 22 | H64208 | 35.25 | E12 | S | 0.25 | Canceled | 26.4375 |\n",
    "| 8 | 9 | Third | Male | 19 | I35790 | 8.50 | F20 | S | 0.25 | Active | 6.3750 |\n",
    "| 9 | 10 | First | Female | 45 | J86420 | 90.00 | G5 | C | 0.25 | Active | 67.5000 |\n",
    "| 10 | 11 | Second | Male | 30 | K97531 | 25.00 | A20 | S | 0.25 | Canceled | 18.7500 |\n",
    "| 11 | 12 | Third | Female | 21 | L24680 | 12.50 | B30 | Q | 0.25 | Active | 9.3750 |\n",
    "| 12 | 13 | First | Male | 55 | M75319 | 75.50 | C8 | S | 0.25 | Active | 56.6250 |\n",
    "| 13 | 14 | Second | Female | 28 | N64208 | 40.25 | D12 | C | 0.25 | Canceled | 30.1875 |\n",
    "| 14 | 15 | Third | Male | 20 | O35790 | 7.50 | E20 | S | 0.25 | Active | 5.6250 |\n",
    "| 15 | 16 | First | Female | 38 | P86420 | 95.00 | F5 | S | 0.25 | Canceled | 71.2500 |\n",
    "| 16 | 17 | Second | Male | 33 | Q97531 | 22.00 | G20 | S | 0.25 | Active | 16.5000 |\n",
    "| 17 | 18 | Third | Female | 26 | R24680 | 13.50 | H30 | Q | 0.25 | Active | 10.1250 |\n",
    "| 18 | 19 | First | Male | 60 | S75319 | 70.50 | I8 | C | 0.25 | Canceled | 52.8750 |\n",
    "| 19 | 20 | Second | Female | 24 | T64208 | 45.25 | J12 | S | 0.25 | Active | 33.9375 |\n",
    "| 20 | 21 | Third | Male | 30 | F73925 | 35.00 | A55 | C | 0.25 | Active | 37.5000 |\n",
    "| 21 | 22 | First | Male | 30 | G76201 | 50.00 | B5 | C | 0.25 | Active | 37.5000 |\n",
    "| 22 | 23 | Third | Female | 30 | H43599 | 35.00 | B6 | S | 0.25 | Active | 37.5000 |"
   ]
  },
  {
   "cell_type": "markdown",
   "id": "dab01128",
   "metadata": {},
   "source": [
    "# Deleting/Dropping Rows"
   ]
  },
  {
   "cell_type": "markdown",
   "id": "805c4c3e",
   "metadata": {},
   "source": [
    "You can delete rows from your DataFrame using the drop() function. This function removes the row or column(s) you specify from your DataFrame. The axis parameter indicates whether you want to drop labels from the index (axis=0 or axis='index') or columns (axis=1 or axis='columns')."
   ]
  },
  {
   "cell_type": "code",
   "execution_count": null,
   "id": "b9a42880",
   "metadata": {},
   "outputs": [],
   "source": [
    "# deleting single row\n",
    "passenger_df = passenger_df.drop(2, axis=0)\n",
    "\n",
    "# deleting multiple rows\n",
    "passenger_df = passenger_df.drop([3, 4], axis=0)\n",
    "\n",
    "passenger_df"
   ]
  },
  {
   "cell_type": "markdown",
   "id": "d7ca35df",
   "metadata": {},
   "source": [
    "|  | passengerId | class | gender | age | ticketNumber | fare | cabinNumber | embarked | discount | status | totalFare |\n",
    "| --- | --- | --- | --- | --- | --- | --- | --- | --- | --- | --- | --- |\n",
    "| 0 | 24 | First | Male | 32 | A12345 | 50.00 | C1 | S | 0.25 | Active | 37.5000 |\n",
    "| 1 | 2 | Second | Female | 18 | B67890 | 40.00 | A1 | Q | 0.25 | Active | 22.8750 |\n",
    "| 5 | 6 | Third | Female | 28 | F86420 | 15.75 | C30 | Q | 0.25 | Active | 11.8125 |\n",
    "| 6 | 7 | First | Male | 50 | G75319 | 80.50 | D8 | C | 0.25 | Active | 60.3750 |\n",
    "| 7 | 8 | Second | Female | 22 | H64208 | 35.25 | E12 | S | 0.25 | Canceled | 26.4375 |\n",
    "| 8 | 9 | Third | Male | 19 | I35790 | 8.50 | F20 | S | 0.25 | Active | 6.3750 |\n",
    "| 9 | 10 | First | Female | 45 | J86420 | 90.00 | G5 | C | 0.25 | Active | 67.5000 |\n",
    "| 10 | 11 | Second | Male | 30 | K97531 | 25.00 | A20 | S | 0.25 | Canceled | 18.7500 |\n",
    "| 11 | 12 | Third | Female | 21 | L24680 | 12.50 | B30 | Q | 0.25 | Active | 9.3750 |\n",
    "| 12 | 13 | First | Male | 55 | M75319 | 75.50 | C8 | S | 0.25 | Active | 56.6250 |\n",
    "| 13 | 14 | Second | Female | 28 | N64208 | 40.25 | D12 | C | 0.25 | Canceled | 30.1875 |\n",
    "| 14 | 15 | Third | Male | 20 | O35790 | 7.50 | E20 | S | 0.25 | Active | 5.6250 |\n",
    "| 15 | 16 | First | Female | 38 | P86420 | 95.00 | F5 | S | 0.25 | Canceled | 71.2500 |\n",
    "| 16 | 17 | Second | Male | 33 | Q97531 | 22.00 | G20 | S | 0.25 | Active | 16.5000 |\n",
    "| 17 | 18 | Third | Female | 26 | R24680 | 13.50 | H30 | Q | 0.25 | Active | 10.1250 |\n",
    "| 18 | 19 | First | Male | 60 | S75319 | 70.50 | I8 | C | 0.25 | Canceled | 52.8750 |\n",
    "| 19 | 20 | Second | Female | 24 | T64208 | 45.25 | J12 | S | 0.25 | Active | 33.9375 |\n",
    "| 20 | 21 | Third | Male | 30 | F73925 | 35.00 | A55 | C | 0.25 | Active | 37.5000 |\n",
    "| 21 | 22 | First | Male | 30 | G76201 | 50.00 | B5 | C | 0.25 | Active | 37.5000 |\n",
    "| 22 | 23 | Third | Female | 30 | H43599 | 35.00 | B6 | S | 0.25 | Active | 37.5000 |"
   ]
  },
  {
   "cell_type": "markdown",
   "id": "99dc50f4",
   "metadata": {},
   "source": [
    "# Sorting Data"
   ]
  },
  {
   "cell_type": "markdown",
   "id": "61f202d0",
   "metadata": {},
   "source": [
    "Sorting data in a Pandas DataFrame is a common operation that can be done using the sort_values() function."
   ]
  },
  {
   "cell_type": "markdown",
   "id": "a232dd97",
   "metadata": {},
   "source": [
    "We can sort by one or more columns. For example, here we want to see the ticket prices paid by passengers by sorting them. Here’s how you do it:"
   ]
  },
  {
   "cell_type": "code",
   "execution_count": null,
   "id": "84755bae",
   "metadata": {},
   "outputs": [],
   "source": [
    "# Sort by 'fare' in ascending order\n",
    "df_asc = passenger_df.sort_values('fare')\n",
    "\n",
    "df_asc.head(10)"
   ]
  },
  {
   "cell_type": "markdown",
   "id": "e3d29ba3",
   "metadata": {},
   "source": [
    "|  | passengerId | class | gender | age | ticketNumber | fare | cabinNumber | embarked | discount | status | totalFare |\n",
    "| --- | --- | --- | --- | --- | --- | --- | --- | --- | --- | --- | --- |\n",
    "| 14 | 15 | Third | Male | 20 | O35790 | 7.50 | E20 | S | 0.25 | Active | 5.6250 |\n",
    "| 8 | 9 | Third | Male | 19 | I35790 | 8.50 | F20 | S | 0.25 | Active | 6.3750 |\n",
    "| 11 | 12 | Third | Female | 21 | L24680 | 12.50 | B30 | Q | 0.25 | Active | 9.3750 |\n",
    "| 17 | 18 | Third | Female | 26 | R24680 | 13.50 | H30 | Q | 0.25 | Active | 10.1250 |\n",
    "| 5 | 6 | Third | Female | 28 | F86420 | 15.75 | C30 | Q | 0.25 | Active | 11.8125 |\n",
    "| 16 | 17 | Second | Male | 33 | Q97531 | 22.00 | G20 | S | 0.25 | Active | 16.5000 |\n",
    "| 10 | 11 | Second | Male | 30 | K97531 | 25.00 | A20 | S | 0.25 | Canceled | 18.7500 |\n",
    "| 22 | 23 | Third | Female | 30 | H43599 | 35.00 | B6 | S | 0.25 | Active | 37.5000 |\n",
    "| 20 | 21 | Third | Male | 30 | F73925 | 35.00 | A55 | C | 0.25 | Active | 37.5000 |\n",
    "| 7 | 8 | Second | Female | 22 | H64208 | 35.25 | E12 | S | 0.25 | Canceled | 26.4375 |"
   ]
  },
  {
   "cell_type": "code",
   "execution_count": null,
   "id": "1873e8f9",
   "metadata": {},
   "outputs": [],
   "source": [
    "# Sort by 'fare' in descending order\n",
    "df_desc = passenger_df.sort_values('fare', ascending=False)\n",
    "\n",
    "df_desc.head(10)"
   ]
  },
  {
   "cell_type": "markdown",
   "id": "24583684",
   "metadata": {},
   "source": [
    "|  | passengerId | class | gender | age | ticketNumber | fare | cabinNumber | embarked | discount | status | totalFare |\n",
    "| --- | --- | --- | --- | --- | --- | --- | --- | --- | --- | --- | --- |\n",
    "| 15 | 16 | First | Female | 38 | P86420 | 95.00 | F5 | S | 0.25 | Canceled | 71.2500 |\n",
    "| 9 | 10 | First | Female | 45 | J86420 | 90.00 | G5 | C | 0.25 | Active | 67.5000 |\n",
    "| 6 | 7 | First | Male | 50 | G75319 | 80.50 | D8 | C | 0.25 | Active | 60.3750 |\n",
    "| 12 | 13 | First | Male | 55 | M75319 | 75.50 | C8 | S | 0.25 | Active | 56.6250 |\n",
    "| 18 | 19 | First | Male | 60 | S75319 | 70.50 | I8 | C | 0.25 | Canceled | 52.8750 |\n",
    "| 0 | 24 | First | Male | 32 | A12345 | 50.00 | C1 | S | 0.25 | Active | 37.5000 |\n",
    "| 21 | 22 | First | Male | 30 | G76201 | 50.00 | B5 | C | 0.25 | Active | 37.5000 |\n",
    "| 19 | 20 | Second | Female | 24 | T64208 | 45.25 | J12 | S | 0.25 | Active | 33.9375 |\n",
    "| 13 | 14 | Second | Female | 28 | N64208 | 40.25 | D12 | C | 0.25 | Canceled | 30.1875 |\n",
    "| 1 | 2 | Second | Female | 18 | B67890 | 40.00 | A1 | Q | 0.25 | Active | 22.8750 |"
   ]
  },
  {
   "cell_type": "markdown",
   "id": "57dbefa8",
   "metadata": {},
   "source": [
    "We can also sort by multiple columns:"
   ]
  },
  {
   "cell_type": "code",
   "execution_count": null,
   "id": "17239e5e",
   "metadata": {},
   "outputs": [],
   "source": [
    "# Sort by 'class' and then 'cabinNumber', both in ascending order\n",
    "df_sorted = passenger_df.sort_values(['class', 'cabinNumber'])\n",
    "\n",
    "df_sorted.head(10)"
   ]
  },
  {
   "cell_type": "markdown",
   "id": "08d2a200",
   "metadata": {},
   "source": [
    "|  | passengerId | class | gender | age | ticketNumber | fare | cabinNumber | embarked | discount | status | totalFare |\n",
    "| --- | --- | --- | --- | --- | --- | --- | --- | --- | --- | --- | --- |\n",
    "| 21 | 22 | First | Male | 30 | G76201 | 50.00 | B5 | C | 0.25 | Active | 37.5000 |\n",
    "| 0 | 24 | First | Male | 32 | A12345 | 50.00 | C1 | S | 0.25 | Active | 37.5000 |\n",
    "| 12 | 13 | First | Male | 55 | M75319 | 75.50 | C8 | S | 0.25 | Active | 56.6250 |\n",
    "| 6 | 7 | First | Male | 50 | G75319 | 80.50 | D8 | C | 0.25 | Active | 60.3750 |\n",
    "| 15 | 16 | First | Female | 38 | P86420 | 95.00 | F5 | S | 0.25 | Canceled | 71.2500 |\n",
    "| 9 | 10 | First | Female | 45 | J86420 | 90.00 | G5 | C | 0.25 | Active | 67.5000 |\n",
    "| 18 | 19 | First | Male | 60 | S75319 | 70.50 | I8 | C | 0.25 | Canceled | 52.8750 |\n",
    "| 1 | 2 | Second | Female | 18 | B67890 | 40.00 | A1 | Q | 0.25 | Active | 22.8750 |\n",
    "| 10 | 11 | Second | Male | 30 | K97531 | 25.00 | A20 | S | 0.25 | Canceled | 18.7500 |\n",
    "| 13 | 14 | Second | Female | 28 | N64208 | 40.25 | D12 | C | 0.25 | Canceled | 30.1875 |"
   ]
  },
  {
   "cell_type": "code",
   "execution_count": null,
   "id": "381fe971",
   "metadata": {},
   "outputs": [],
   "source": [
    "# Sort by 'class' in ascending order, then 'cabinNumber' in descending order\n",
    "df_sorted = passenger_df.sort_values(['class', 'cabinNumber'], ascending=[True, False])\n",
    "\n",
    "df_sorted.head(10)"
   ]
  },
  {
   "cell_type": "markdown",
   "id": "ca469a79",
   "metadata": {},
   "source": [
    "|  | passengerId | class | gender | age | ticketNumber | fare | cabinNumber | embarked | discount | status | totalFare |\n",
    "| --- | --- | --- | --- | --- | --- | --- | --- | --- | --- | --- | --- |\n",
    "| 18 | 19 | First | Male | 60 | S75319 | 70.50 | I8 | C | 0.25 | Canceled | 52.8750 |\n",
    "| 9 | 10 | First | Female | 45 | J86420 | 90.00 | G5 | C | 0.25 | Active | 67.5000 |\n",
    "| 15 | 16 | First | Female | 38 | P86420 | 95.00 | F5 | S | 0.25 | Canceled | 71.2500 |\n",
    "| 6 | 7 | First | Male | 50 | G75319 | 80.50 | D8 | C | 0.25 | Active | 60.3750 |\n",
    "| 12 | 13 | First | Male | 55 | M75319 | 75.50 | C8 | S | 0.25 | Active | 56.6250 |\n",
    "| 0 | 24 | First | Male | 32 | A12345 | 50.00 | C1 | S | 0.25 | Active | 37.5000 |\n",
    "| 21 | 22 | First | Male | 30 | G76201 | 50.00 | B5 | C | 0.25 | Active | 37.5000 |\n",
    "| 19 | 20 | Second | Female | 24 | T64208 | 45.25 | J12 | S | 0.25 | Active | 33.9375 |\n",
    "| 16 | 17 | Second | Male | 33 | Q97531 | 22.00 | G20 | S | 0.25 | Active | 16.5000 |\n",
    "| 7 | 8 | Second | Female | 22 | H64208 | 35.25 | E12 | S | 0.25 | Canceled | 26.4375 |"
   ]
  },
  {
   "cell_type": "markdown",
   "id": "e3d1eaeb",
   "metadata": {},
   "source": [
    "After sorting, if you want to reset the index, we can use the reset_index() function:"
   ]
  },
  {
   "cell_type": "code",
   "execution_count": null,
   "id": "f8427a62",
   "metadata": {},
   "outputs": [],
   "source": [
    "df_sorted = df_sorted.reset_index(drop=True)\n",
    "\n",
    "df_sorted"
   ]
  },
  {
   "cell_type": "markdown",
   "id": "e92089bf",
   "metadata": {},
   "source": [
    "|  | passengerId | class | gender | age | ticketNumber | fare | cabinNumber | embarked | discount | status | totalFare |\n",
    "| --- | --- | --- | --- | --- | --- | --- | --- | --- | --- | --- | --- |\n",
    "| 0 | 19 | First | Male | 60 | S75319 | 70.50 | I8 | C | 0.25 | Canceled | 52.8750 |\n",
    "| 1 | 10 | First | Female | 45 | J86420 | 90.00 | G5 | C | 0.25 | Active | 67.5000 |\n",
    "| 2 | 16 | First | Female | 38 | P86420 | 95.00 | F5 | S | 0.25 | Canceled | 71.2500 |\n",
    "| 3 | 7 | First | Male | 50 | G75319 | 80.50 | D8 | C | 0.25 | Active | 60.3750 |\n",
    "| 4 | 13 | First | Male | 55 | M75319 | 75.50 | C8 | S | 0.25 | Active | 56.6250 |\n",
    "| 5 | 24 | First | Male | 32 | A12345 | 50.00 | C1 | S | 0.25 | Active | 37.5000 |\n",
    "| 6 | 22 | First | Male | 30 | G76201 | 50.00 | B5 | C | 0.25 | Active | 37.5000 |\n",
    "| 7 | 20 | Second | Female | 24 | T64208 | 45.25 | J12 | S | 0.25 | Active | 33.9375 |\n",
    "| 8 | 17 | Second | Male | 33 | Q97531 | 22.00 | G20 | S | 0.25 | Active | 16.5000 |\n",
    "| 9 | 8 | Second | Female | 22 | H64208 | 35.25 | E12 | S | 0.25 | Canceled | 26.4375 |\n",
    "| 10 | 14 | Second | Female | 28 | N64208 | 40.25 | D12 | C | 0.25 | Canceled | 30.1875 |\n",
    "| 11 | 11 | Second | Male | 30 | K97531 | 25.00 | A20 | S | 0.25 | Canceled | 18.7500 |\n",
    "| 12 | 2 | Second | Female | 18 | B67890 | 40.00 | A1 | Q | 0.25 | Active | 22.8750 |\n",
    "| 13 | 18 | Third | Female | 26 | R24680 | 13.50 | H30 | Q | 0.25 | Active | 10.1250 |\n",
    "| 14 | 9 | Third | Male | 19 | I35790 | 8.50 | F20 | S | 0.25 | Active | 6.3750 |\n",
    "| 15 | 15 | Third | Male | 20 | O35790 | 7.50 | E20 | S | 0.25 | Active | 5.6250 |\n",
    "| 16 | 6 | Third | Female | 28 | F86420 | 15.75 | C30 | Q | 0.25 | Active | 11.8125 |\n",
    "| 17 | 23 | Third | Female | 30 | H43599 | 35.00 | B6 | S | 0.25 | Active | 37.5000 |\n",
    "| 18 | 12 | Third | Female | 21 | L24680 | 12.50 | B30 | Q | 0.25 | Active | 9.3750 |\n",
    "| 19 | 21 | Third | Male | 30 | F73925 | 35.00 | A55 | C | 0.25 | Active | 37.5000 |"
   ]
  },
  {
   "cell_type": "markdown",
   "id": "d6c8890f",
   "metadata": {},
   "source": [
    "# Operations on DataFrames"
   ]
  },
  {
   "cell_type": "markdown",
   "id": "5bdf43cf",
   "metadata": {},
   "source": [
    "# Arithmetic operations"
   ]
  },
  {
   "cell_type": "markdown",
   "id": "58545312",
   "metadata": {},
   "source": [
    "Arithmetic operations can be performed on the numeric columns in DataFrame."
   ]
  },
  {
   "cell_type": "code",
   "execution_count": null,
   "id": "69c7585e",
   "metadata": {},
   "outputs": [],
   "source": [
    "passenger_df['discount'] = passenger_df['discount'] + 0.1\n",
    "passenger_df['totalFare'] = passenger_df['fare'] - (passenger_df['fare'] * passenger_df['discount']) \n",
    "passenger_df"
   ]
  },
  {
   "cell_type": "markdown",
   "id": "66616766",
   "metadata": {},
   "source": [
    "|  | passengerId | class | gender | age | ticketNumber | fare | cabinNumber | embarked | discount | status | totalFare |\n",
    "| --- | --- | --- | --- | --- | --- | --- | --- | --- | --- | --- | --- |\n",
    "| 0 | 24 | First | Male | 32 | A12345 | 50.00 | C1 | S | 0.35 | Active | 32.5000 |\n",
    "| 1 | 2 | Second | Female | 18 | B67890 | 40.00 | A1 | Q | 0.35 | Active | 26.0000 |\n",
    "| 5 | 6 | Third | Female | 28 | F86420 | 15.75 | C30 | Q | 0.35 | Active | 10.2375 |\n",
    "| 6 | 7 | First | Male | 50 | G75319 | 80.50 | D8 | C | 0.35 | Active | 52.3250 |\n",
    "| 7 | 8 | Second | Female | 22 | H64208 | 35.25 | E12 | S | 0.35 | Canceled | 22.9125 |\n",
    "| 8 | 9 | Third | Male | 19 | I35790 | 8.50 | F20 | S | 0.35 | Active | 5.5250 |\n",
    "| 9 | 10 | First | Female | 45 | J86420 | 90.00 | G5 | C | 0.35 | Active | 58.5000 |\n",
    "| 10 | 11 | Second | Male | 30 | K97531 | 25.00 | A20 | S | 0.35 | Canceled | 16.2500 |\n",
    "| 11 | 12 | Third | Female | 21 | L24680 | 12.50 | B30 | Q | 0.35 | Active | 8.1250 |\n",
    "| 12 | 13 | First | Male | 55 | M75319 | 75.50 | C8 | S | 0.35 | Active | 49.0750 |\n",
    "| 13 | 14 | Second | Female | 28 | N64208 | 40.25 | D12 | C | 0.35 | Canceled | 26.1625 |\n",
    "| 14 | 15 | Third | Male | 20 | O35790 | 7.50 | E20 | S | 0.35 | Active | 4.8750 |\n",
    "| 15 | 16 | First | Female | 38 | P86420 | 95.00 | F5 | S | 0.35 | Canceled | 61.7500 |\n",
    "| 16 | 17 | Second | Male | 33 | Q97531 | 22.00 | G20 | S | 0.35 | Active | 14.3000 |\n",
    "| 17 | 18 | Third | Female | 26 | R24680 | 13.50 | H30 | Q | 0.35 | Active | 8.7750 |\n",
    "| 18 | 19 | First | Male | 60 | S75319 | 70.50 | I8 | C | 0.35 | Canceled | 45.8250 |\n",
    "| 19 | 20 | Second | Female | 24 | T64208 | 45.25 | J12 | S | 0.35 | Active | 29.4125 |\n",
    "| 20 | 21 | Third | Male | 30 | F73925 | 35.00 | A55 | C | 0.35 | Active | 22.7500 |\n",
    "| 21 | 22 | First | Male | 30 | G76201 | 50.00 | B5 | C | 0.35 | Active | 32.5000 |\n",
    "| 22 | 23 | Third | Female | 30 | H43599 | 35.00 | B6 | S | 0.35 | Active | 22.7500 |"
   ]
  },
  {
   "cell_type": "markdown",
   "id": "82e7f6d8",
   "metadata": {},
   "source": [
    "Arithmetic operations are essential in feature engineering where you create new features from existing ones to provide more information to your machine learning models."
   ]
  },
  {
   "cell_type": "markdown",
   "id": "7a3c6ba1",
   "metadata": {},
   "source": [
    "# Aggregation Functions"
   ]
  },
  {
   "cell_type": "markdown",
   "id": "876eaf69",
   "metadata": {},
   "source": [
    "Aggregation functions in DataFrames are used to perform mathematical computations on groups of data. These functions provide a way to perform operations on groups of values, summarizing the information."
   ]
  },
  {
   "cell_type": "markdown",
   "id": "f2b52f06",
   "metadata": {},
   "source": [
    "Common aggregation functions include:"
   ]
  },
  {
   "cell_type": "markdown",
   "id": "78fe4244",
   "metadata": {},
   "source": [
    "- count(): Returns the number of non-null values in each DataFrame column.\n",
    "- sum(): Returns the sum of the values for each column.\n",
    "- mean(): Returns the mean of the values for each column.\n",
    "- median(): Returns the median of the values for each column.\n",
    "- min(): Returns the minimum of the values for each column.\n",
    "- max(): Returns the maximum of the values for each column.\n",
    "- std(): Returns the standard deviation of the values for each column.\n",
    "- var(): Returns the variance of values for each column.\n",
    "- first(): Returns the first of the values for each column.\n",
    "- last(): Returns the last of the values for each column."
   ]
  },
  {
   "cell_type": "markdown",
   "id": "4ae20288",
   "metadata": {},
   "source": [
    "count(): Returns the number of non-null values in each DataFrame column."
   ]
  },
  {
   "cell_type": "markdown",
   "id": "8b280e18",
   "metadata": {},
   "source": [
    "sum(): Returns the sum of the values for each column."
   ]
  },
  {
   "cell_type": "markdown",
   "id": "4544e02b",
   "metadata": {},
   "source": [
    "mean(): Returns the mean of the values for each column."
   ]
  },
  {
   "cell_type": "markdown",
   "id": "be005cb9",
   "metadata": {},
   "source": [
    "median(): Returns the median of the values for each column."
   ]
  },
  {
   "cell_type": "markdown",
   "id": "33f468b1",
   "metadata": {},
   "source": [
    "min(): Returns the minimum of the values for each column."
   ]
  },
  {
   "cell_type": "markdown",
   "id": "ce0d2f50",
   "metadata": {},
   "source": [
    "max(): Returns the maximum of the values for each column."
   ]
  },
  {
   "cell_type": "markdown",
   "id": "12fe847b",
   "metadata": {},
   "source": [
    "std(): Returns the standard deviation of the values for each column."
   ]
  },
  {
   "cell_type": "markdown",
   "id": "f78d302d",
   "metadata": {},
   "source": [
    "var(): Returns the variance of values for each column."
   ]
  },
  {
   "cell_type": "markdown",
   "id": "b8696c24",
   "metadata": {},
   "source": [
    "first(): Returns the first of the values for each column."
   ]
  },
  {
   "cell_type": "markdown",
   "id": "1ae2f486",
   "metadata": {},
   "source": [
    "last(): Returns the last of the values for each column."
   ]
  },
  {
   "cell_type": "code",
   "execution_count": null,
   "id": "6120c141",
   "metadata": {},
   "outputs": [],
   "source": [
    "passenger_df['age'] = passenger_df['age'].astype(int)\n",
    "\n",
    "# get the mean of 'Age'\n",
    "mean_age = passenger_df['age'].mean()\n",
    "print('Mean age: ',mean_age)\n",
    "\n",
    "# get the standard deviation of 'Age'\n",
    "std_age = passenger_df['age'].std()\n",
    "print('std age: ',std_age)\n",
    "\n",
    "# get the summary statistics of the dataframe\n",
    "summary = passenger_df.describe()\n",
    "summary"
   ]
  },
  {
   "cell_type": "code",
   "execution_count": null,
   "id": "afaf7940",
   "metadata": {},
   "outputs": [],
   "source": [
    "Mean age:  31.95\n",
    "std age:  11.966950101711047"
   ]
  },
  {
   "cell_type": "markdown",
   "id": "7fc61aa0",
   "metadata": {},
   "source": [
    "|  | passengerId | age | fare | discount | totalFare |\n",
    "| --- | --- | --- | --- | --- | --- |\n",
    "| count | 20.000000 | 20.00000 | 20.000000 | 2.000000e+01 | 20.000000 |\n",
    "| mean | 14.350000 | 31.95000 | 42.350000 | 3.500000e-01 | 27.527500 |\n",
    "| std | 6.200806 | 11.96695 | 27.327979 | 1.139065e-16 | 17.763186 |\n",
    "| min | 2.000000 | 18.00000 | 7.500000 | 3.500000e-01 | 4.875000 |\n",
    "| 25% | 9.750000 | 23.50000 | 20.437500 | 3.500000e-01 | 13.284375 |\n",
    "| 50% | 14.500000 | 30.00000 | 37.625000 | 3.500000e-01 | 24.456250 |\n",
    "| 75% | 19.250000 | 34.25000 | 55.125000 | 3.500000e-01 | 35.831250 |\n",
    "| max | 24.000000 | 60.00000 | 95.000000 | 3.500000e-01 | 61.750000 |"
   ]
  },
  {
   "cell_type": "markdown",
   "id": "c1ca773d",
   "metadata": {},
   "source": [
    "This is often the first step in any data analysis process to understand the distribution and central tendencies of the data."
   ]
  },
  {
   "cell_type": "markdown",
   "id": "19dc2c01",
   "metadata": {},
   "source": [
    "# Applying Functions in DataFrames"
   ]
  },
  {
   "cell_type": "markdown",
   "id": "47580319",
   "metadata": {},
   "source": [
    "Applying functions is a way to perform operations on a DataFrame or a series (column of a DataFrame). This is done using the apply() function in Pandas. The apply() function takes a function as an argument and applies this function to an entire DataFrame or series."
   ]
  },
  {
   "cell_type": "markdown",
   "id": "beb4b0db",
   "metadata": {},
   "source": [
    "# DataFrame.apply()"
   ]
  },
  {
   "cell_type": "markdown",
   "id": "2c240c38",
   "metadata": {},
   "source": [
    "When used on a DataFrame, apply() applies the function to each column of the DataFrame (default behavior), returning a series where each element is the result of applying the function to a column. If you want to apply the function to each row, you can set the axis parameter to 1."
   ]
  },
  {
   "cell_type": "markdown",
   "id": "41cf4ce5",
   "metadata": {},
   "source": [
    "For example, here we want to make a recent fare adjustment by increasing the fare by 5 dollars. Then, we also need to make adjustments to the totalFare. We can do it in the following way."
   ]
  },
  {
   "cell_type": "code",
   "execution_count": null,
   "id": "4430029d",
   "metadata": {},
   "outputs": [],
   "source": [
    "# Add passenger 'fare' by adding 5 to the 'fare'\n",
    "passenger_df['fare'] = passenger_df['fare'].apply(lambda x: x + 5)\n",
    "\n",
    "# Define the function to be applied\n",
    "def calculate_total_fare(row):\n",
    "    return row['fare'] - (row['fare'] * row['discount'])\n",
    "\n",
    "# Use the function on every row in the dataframe\n",
    "passenger_df['totalFare'] = passenger_df.apply(calculate_total_fare, axis=1)\n",
    "\n",
    "passenger_df"
   ]
  },
  {
   "cell_type": "markdown",
   "id": "9008bb8e",
   "metadata": {},
   "source": [
    "|  | passengerId | class | gender | age | ticketNumber | fare | cabinNumber | embarked | discount | status | totalFare |\n",
    "| --- | --- | --- | --- | --- | --- | --- | --- | --- | --- | --- | --- |\n",
    "| 0 | 24 | First | Male | 32 | A12345 | 55.00 | C1 | S | 0.35 | Active | 35.7500 |\n",
    "| 1 | 2 | Second | Female | 18 | B67890 | 45.00 | A1 | Q | 0.35 | Active | 29.2500 |\n",
    "| 5 | 6 | Third | Female | 28 | F86420 | 20.75 | C30 | Q | 0.35 | Active | 13.4875 |\n",
    "| 6 | 7 | First | Male | 50 | G75319 | 85.50 | D8 | C | 0.35 | Active | 55.5750 |\n",
    "| 7 | 8 | Second | Female | 22 | H64208 | 40.25 | E12 | S | 0.35 | Canceled | 26.1625 |\n",
    "| 8 | 9 | Third | Male | 19 | I35790 | 13.50 | F20 | S | 0.35 | Active | 8.7750 |\n",
    "| 9 | 10 | First | Female | 45 | J86420 | 95.00 | G5 | C | 0.35 | Active | 61.7500 |\n",
    "| 10 | 11 | Second | Male | 30 | K97531 | 30.00 | A20 | S | 0.35 | Canceled | 19.5000 |\n",
    "| 11 | 12 | Third | Female | 21 | L24680 | 17.50 | B30 | Q | 0.35 | Active | 11.3750 |\n",
    "| 12 | 13 | First | Male | 55 | M75319 | 80.50 | C8 | S | 0.35 | Active | 52.3250 |\n",
    "| 13 | 14 | Second | Female | 28 | N64208 | 45.25 | D12 | C | 0.35 | Canceled | 29.4125 |\n",
    "| 14 | 15 | Third | Male | 20 | O35790 | 12.50 | E20 | S | 0.35 | Active | 8.1250 |\n",
    "| 15 | 16 | First | Female | 38 | P86420 | 100.00 | F5 | S | 0.35 | Canceled | 65.0000 |\n",
    "| 16 | 17 | Second | Male | 33 | Q97531 | 27.00 | G20 | S | 0.35 | Active | 17.5500 |\n",
    "| 17 | 18 | Third | Female | 26 | R24680 | 18.50 | H30 | Q | 0.35 | Active | 12.0250 |\n",
    "| 18 | 19 | First | Male | 60 | S75319 | 75.50 | I8 | C | 0.35 | Canceled | 49.0750 |\n",
    "| 19 | 20 | Second | Female | 24 | T64208 | 50.25 | J12 | S | 0.35 | Active | 32.6625 |\n",
    "| 20 | 21 | Third | Male | 30 | F73925 | 40.00 | A55 | C | 0.35 | Active | 26.0000 |\n",
    "| 21 | 22 | First | Male | 30 | G76201 | 55.00 | B5 | C | 0.35 | Active | 35.7500 |\n",
    "| 22 | 23 | Third | Female | 30 | H43599 | 40.00 | B6 | S | 0.35 | Active | 26.0000 |"
   ]
  },
  {
   "cell_type": "markdown",
   "id": "a2b22e7a",
   "metadata": {},
   "source": [
    "# Introduction to Data Cleaning"
   ]
  },
  {
   "cell_type": "markdown",
   "id": "76e607a3",
   "metadata": {},
   "source": [
    "# What is Data Cleaning?"
   ]
  },
  {
   "cell_type": "markdown",
   "id": "d4e20273",
   "metadata": {},
   "source": [
    "Data cleaning, also known as data cleansing or data scrubbing, is the process of identifying and correcting or removing errors, inaccuracies, and inconsistencies in datasets."
   ]
  },
  {
   "cell_type": "markdown",
   "id": "f6961fed",
   "metadata": {},
   "source": [
    "This process is crucial in improving the quality and reliability of data, which is particularly important in data analysis and machine learning models where the output quality is directly dependent on the input quality."
   ]
  },
  {
   "cell_type": "markdown",
   "id": "2f91a929",
   "metadata": {},
   "source": [
    "In the context of the Python programming language, the Pandas library is often used for data cleaning. Pandas is a powerful data manipulation tool that provides functions for reading, writing, and modifying datasets."
   ]
  },
  {
   "cell_type": "markdown",
   "id": "d2d81ccc",
   "metadata": {},
   "source": [
    "# Why is Data Cleaning Important?"
   ]
  },
  {
   "cell_type": "markdown",
   "id": "aa1eb145",
   "metadata": {},
   "source": [
    "Data cleaning is a critical step in the data analysis process for several reasons:"
   ]
  },
  {
   "cell_type": "markdown",
   "id": "8672d8ef",
   "metadata": {},
   "source": [
    "Improving Data Quality: Raw data often contains errors, outliers, or inconsistencies that can distort analysis results. Data cleaning helps to ensure that the data used for analysis is accurate and reliable."
   ]
  },
  {
   "cell_type": "markdown",
   "id": "34ba41da",
   "metadata": {},
   "source": [
    "Enhancing Data Accuracy: Inaccurate data can lead to inaccurate conclusions. By cleaning data, you can ensure that your analyses and models are based on the most accurate information possible."
   ]
  },
  {
   "cell_type": "markdown",
   "id": "0c337152",
   "metadata": {},
   "source": [
    "Boosting Efficiency: Clean data is easier to work with and can make data analysis processes more efficient."
   ]
  },
  {
   "cell_type": "markdown",
   "id": "20a4fbe7",
   "metadata": {},
   "source": [
    "Better Decision Making: Clean data leads to more reliable analysis, which in turn leads to better decision-making. This is particularly important in fields like business or research where decisions need to be data-driven."
   ]
  },
  {
   "cell_type": "markdown",
   "id": "86d1a737",
   "metadata": {},
   "source": [
    "Ensuring Compliance: In some industries, maintaining clean data is a regulatory requirement. Data cleaning can help ensure compliance with these regulations."
   ]
  },
  {
   "cell_type": "markdown",
   "id": "bbbbee7d",
   "metadata": {},
   "source": [
    "# Data Cleaning Process"
   ]
  },
  {
   "cell_type": "markdown",
   "id": "cc6bed6a",
   "metadata": {},
   "source": [
    " (Sumber: knowledgehut)"
   ]
  },
  {
   "cell_type": "markdown",
   "id": "db15ee0e",
   "metadata": {},
   "source": [
    "![Image](https://storage.googleapis.com/rg-ai-bootcamp/toolkits/data-cleaning-in-data-science-min.png)"
   ]
  },
  {
   "cell_type": "markdown",
   "id": "ba5ee18a",
   "metadata": {},
   "source": [
    "# Handling Missing Data in Pandas"
   ]
  },
  {
   "cell_type": "markdown",
   "id": "43084e9f",
   "metadata": {},
   "source": [
    "Missing data is a common issue in data analysis. It refers to the absence of data in a column of a dataset. In Python’s Pandas library, missing data is represented by NaN (Not a Number) or None."
   ]
  },
  {
   "cell_type": "markdown",
   "id": "086a2266",
   "metadata": {},
   "source": [
    "# Detecting Missing Data"
   ]
  },
  {
   "cell_type": "markdown",
   "id": "b91d306f",
   "metadata": {},
   "source": [
    "Pandas provides the isnull() and notnull() functions to detect missing data. These functions return a Boolean mask indicating whether each element in the DataFrame is missing or not."
   ]
  },
  {
   "cell_type": "markdown",
   "id": "0f556741",
   "metadata": {},
   "source": [
    "Let’s take a look at the customer data we used earlier. We will find out if there is missing data in the customer data that we have."
   ]
  },
  {
   "cell_type": "code",
   "execution_count": null,
   "id": "7c179333",
   "metadata": {},
   "outputs": [],
   "source": [
    "import pandas as pd\n",
    "\n",
    "airbnb_df = pd.read_csv('https://storage.googleapis.com/rg-ai-bootcamp/pandas/airbnb-data.csv')\n",
    "airbnb_df"
   ]
  },
  {
   "cell_type": "markdown",
   "id": "dd217309",
   "metadata": {},
   "source": [
    "|  | id | name | host_id | host_identity_verified | host_name | neighbourhood_group | neighbourhood | country | country_code | instant_bookable | room_type | construction_year | price | service_fee | minimum_nights | number_of_reviews | review_rate_number | calculated_host_listings_count | license |\n",
    "| --- | --- | --- | --- | --- | --- | --- | --- | --- | --- | --- | --- | --- | --- | --- | --- | --- | --- | --- | --- |\n",
    "| 0 | 1001254.0 | Clean & quiet apt home by the park | 8.001449e+10 | unconfirmed | Madaline | Brooklyn | Kensington | United States | US | False | Private room | 2020.0 | $966 | $193 | 10.0 | 9.0 | 4.0 | 6.0 | NaN |\n",
    "| 1 | 1002102.0 | Skylit Midtown Castle | 5.233517e+10 | verified | Jenna | Manhattan | Midtown | United States | US | False | Entire home/apt | 2007.0 | $142 | $28 | 30.0 | 45.0 | 4.0 | 2.0 | NaN |\n",
    "| 2 | NaN | NaN | NaN | NaN | NaN | NaN | NaN | NaN | NaN | NaN | NaN | NaN | NaN | NaN | NaN | NaN | NaN | NaN | NaN |\n",
    "| 3 | 1002403.0 | THE VILLAGE OF HARLEM....NEW YORK ! | 7.882924e+10 | NaN | Elise | Manhattan | Harlem | United States | US | True | Private room | 2005.0 | $620 | $124 | 3.0 | 0.0 | 5.0 | 1.0 | NaN |\n",
    "| 4 | 1002755.0 | NaN | 8.509833e+10 | unconfirmed | Garry | Brooklyn | Clinton Hill | United States | US | True | Entire home/apt | 2005.0 | $368 | $74 | 30.0 | 270.0 | 4.0 | 1.0 | NaN |\n",
    "| ... | ... | ... | ... | ... | ... | ... | ... | ... | ... | ... | ... | ... | ... | ... | ... | ... | ... | ... | ... |\n",
    "| 3631 | 2998453.0 | Upper West Side elegance. Riverside | 3.204065e+10 | unconfirmed | Poppi | Manhattan | Upper West Side | United States | US | False | Entire home/apt | 2008.0 | $620 | $124 | 1.0 | 5.0 | 1.0 | 2.0 | NaN |\n",
    "| 3632 | NaN | NaN | NaN | NaN | NaN | NaN | NaN | NaN | NaN | NaN | NaN | NaN | NaN | NaN | NaN | NaN | NaN | NaN | NaN |\n",
    "| 3633 | 2999005.0 | BIG, BRIGHT, STYLISH + CONVENIENT | 4.074627e+10 | unconfirmed | Kerstin | Brooklyn | Bedford-Stuyvesant | United States | US | True | Private room | 2020.0 | $674 | $135 | 3.0 | 90.0 | 2.0 | 1.0 | NaN |\n",
    "| 3634 | 2999005.0 | BIG, BRIGHT, STYLISH + CONVENIENT | 4.074627e+10 | unconfirmed | Kerstin | Brooklyn | Bedford-Stuyvesant | United States | US | True | Private room | 2020.0 | $674 | $135 | 3.0 | 90.0 | 2.0 | 1.0 | NaN |\n",
    "| 3635 | 2999557.0 | Exclusive Upper East Side Studio | 2.446375e+10 | verified | Ellen | Manhattan | Upper East Side | United States | US | True | Entire home/apt | 2022.0 | $655 | $131 | 1.0 | 0.0 | 5.0 | 1.0 | NaN |"
   ]
  },
  {
   "cell_type": "markdown",
   "id": "43f1a6d8",
   "metadata": {},
   "source": [
    "3636 rows × 19 columns"
   ]
  },
  {
   "cell_type": "code",
   "execution_count": null,
   "id": "85f1bf0d",
   "metadata": {},
   "outputs": [],
   "source": [
    "# Detect missing values\n",
    "airbnb_df.isnull()"
   ]
  },
  {
   "cell_type": "markdown",
   "id": "20abcd2f",
   "metadata": {},
   "source": [
    "|  | id | name | host_id | host_identity_verified | host_name | neighbourhood_group | neighbourhood | country | country_code | instant_bookable | room_type | construction_year | price | service_fee | minimum_nights | number_of_reviews | review_rate_number | calculated_host_listings_count | license |\n",
    "| --- | --- | --- | --- | --- | --- | --- | --- | --- | --- | --- | --- | --- | --- | --- | --- | --- | --- | --- | --- |\n",
    "| 0 | False | False | False | False | False | False | False | False | False | False | False | False | False | False | False | False | False | False | True |\n",
    "| 1 | False | False | False | False | False | False | False | False | False | False | False | False | False | False | False | False | False | False | True |\n",
    "| 2 | True | True | True | True | True | True | True | True | True | True | True | True | True | True | True | True | True | True | True |\n",
    "| 3 | False | False | False | True | False | False | False | False | False | False | False | False | False | False | False | False | False | False | True |\n",
    "| 4 | False | True | False | False | False | False | False | False | False | False | False | False | False | False | False | False | False | False | True |\n",
    "| ... | ... | ... | ... | ... | ... | ... | ... | ... | ... | ... | ... | ... | ... | ... | ... | ... | ... | ... | ... |\n",
    "| 3631 | False | False | False | False | False | False | False | False | False | False | False | False | False | False | False | False | False | False | True |\n",
    "| 3632 | True | True | True | True | True | True | True | True | True | True | True | True | True | True | True | True | True | True | True |\n",
    "| 3633 | False | False | False | False | False | False | False | False | False | False | False | False | False | False | False | False | False | False | True |\n",
    "| 3634 | False | False | False | False | False | False | False | False | False | False | False | False | False | False | False | False | False | False | True |\n",
    "| 3635 | False | False | False | False | False | False | False | False | False | False | False | False | False | False | False | False | False | False | True |"
   ]
  },
  {
   "cell_type": "markdown",
   "id": "6449bd80",
   "metadata": {},
   "source": [
    "3636 rows × 19 columns"
   ]
  },
  {
   "cell_type": "markdown",
   "id": "75bc0d2b",
   "metadata": {},
   "source": [
    "This will print a DataFrame with the same size as the original, but with True in place where the original DataFrame had NaN or None, and False elsewhere. as can be seen that the row with index 2 has a value of true in each column, which means that there is missing data in that row."
   ]
  },
  {
   "cell_type": "markdown",
   "id": "0ff8a685",
   "metadata": {},
   "source": [
    "To be clear, if we want to know the amount and percentage of missing data, we can do it in the following way:"
   ]
  },
  {
   "cell_type": "code",
   "execution_count": null,
   "id": "4344b14c",
   "metadata": {},
   "outputs": [],
   "source": [
    "# Calculate the total amount of missing data\n",
    "total = airbnb_df.isnull().sum().sort_values(ascending=False)\n",
    "\n",
    "# Calculates the percentage of missing data\n",
    "persentase = (airbnb_df.isnull().sum()/airbnb_df.isnull().count()*100).sort_values(ascending=False)\n",
    "\n",
    "# Creates a new DataFrame to display the results\n",
    "missing_data = pd.concat([total, persentase], axis=1, keys=['Total', 'Persentase'])\n",
    "\n",
    "missing_data"
   ]
  },
  {
   "cell_type": "markdown",
   "id": "d9cc57df",
   "metadata": {},
   "source": [
    "|  | Total | Persentase |\n",
    "| --- | --- | --- |\n",
    "| license | 3636 | 100.000000 |\n",
    "| construction_year | 138 | 3.795380 |\n",
    "| review_rate_number | 96 | 2.640264 |\n",
    "| minimum_nights | 87 | 2.392739 |\n",
    "| country_code | 82 | 2.255226 |\n",
    "| instant_bookable | 82 | 2.255226 |\n",
    "| host_identity_verified | 78 | 2.145215 |\n",
    "| name | 60 | 1.650165 |\n",
    "| country | 53 | 1.457646 |\n",
    "| neighbourhood_group | 31 | 0.852585 |\n",
    "| host_name | 23 | 0.632563 |\n",
    "| neighbourhood | 19 | 0.522552 |\n",
    "| service_fee | 18 | 0.495050 |\n",
    "| calculated_host_listings_count | 18 | 0.495050 |\n",
    "| price | 14 | 0.385039 |\n",
    "| number_of_reviews | 10 | 0.275028 |\n",
    "| room_type | 3 | 0.082508 |\n",
    "| host_id | 3 | 0.082508 |\n",
    "| id | 3 | 0.082508 |"
   ]
  },
  {
   "cell_type": "markdown",
   "id": "7f61e863",
   "metadata": {},
   "source": [
    "# Dropping Missing Data"
   ]
  },
  {
   "cell_type": "markdown",
   "id": "80ea4f08",
   "metadata": {},
   "source": [
    "Pandas provides the dropna() function to remove missing data. By default, dropna() removes any row containing at least one missing value."
   ]
  },
  {
   "cell_type": "markdown",
   "id": "c97b0677",
   "metadata": {},
   "source": [
    "However, dropna() is more flexible than this. It provides several parameters that allow you to control how missing values are dropped:"
   ]
  },
  {
   "cell_type": "markdown",
   "id": "5de8c67d",
   "metadata": {},
   "source": [
    "Axis: By default, dropna() drops rows (axis=0). But you can also make it drop columns by setting axis=1. py     # Drop columns with missing values     df_dropped = df.dropna(axis=1) This will drop any column that contains at least one missing value."
   ]
  },
  {
   "cell_type": "markdown",
   "id": "c7c612f6",
   "metadata": {},
   "source": [
    "How: By default, dropna() drops a row or column if it contains any missing values (how='any'). But you can also make it drop only rows or columns where all values are missing by setting how='all'."
   ]
  },
  {
   "cell_type": "code",
   "execution_count": null,
   "id": "64a23a57",
   "metadata": {},
   "outputs": [],
   "source": [
    "# Drop rows where all values are missing\n",
    "df_dropped = df.dropna(how='all')"
   ]
  },
  {
   "cell_type": "markdown",
   "id": "5c7c5fc7",
   "metadata": {},
   "source": [
    "This will drop any row where all values are missing."
   ]
  },
  {
   "cell_type": "markdown",
   "id": "140cb9bb",
   "metadata": {},
   "source": [
    "Subset: You can specify a subset of columns to consider when dropping rows."
   ]
  },
  {
   "cell_type": "code",
   "execution_count": null,
   "id": "f1bc4162",
   "metadata": {},
   "outputs": [],
   "source": [
    "# Drop rows where 'house_rules' is missing\n",
    "df_dropped = df.dropna(subset=['house_rules'])"
   ]
  },
  {
   "cell_type": "markdown",
   "id": "e7ff8c3f",
   "metadata": {},
   "source": [
    "This will drop any row where ‘house_rules’ is missing."
   ]
  },
  {
   "cell_type": "markdown",
   "id": "fb458091",
   "metadata": {},
   "source": [
    "Inplace: By default, dropna() returns a new DataFrame and leaves the original unchanged. If you want to modify the original DataFrame, you can set inplace=True."
   ]
  },
  {
   "cell_type": "code",
   "execution_count": null,
   "id": "555d1e20",
   "metadata": {},
   "outputs": [],
   "source": [
    "# Drop rows with missing values in the original DataFrame\n",
    "df.dropna(inplace=True)"
   ]
  },
  {
   "cell_type": "markdown",
   "id": "7ec9d6dd",
   "metadata": {},
   "source": [
    "This will drop rows with missing values directly in the original DataFrame."
   ]
  },
  {
   "cell_type": "markdown",
   "id": "df731ad8",
   "metadata": {},
   "source": [
    "As seen earlier the license column and some rows have no data at all, we will try to remove them using dropna()."
   ]
  },
  {
   "cell_type": "code",
   "execution_count": null,
   "id": "84846d84",
   "metadata": {},
   "outputs": [],
   "source": [
    "# Drop the column 'license' which has no data at all\n",
    "airbnb_df = airbnb_df.drop(['license'], axis=1)\n",
    "\n",
    "# Drop any line where 'id', 'name', 'host_id' and 'host_name' are missing\n",
    "airbnb_df = airbnb_df.dropna(subset=['id', 'name', 'host_id', 'host_name'])\n",
    "\n",
    "# Drop rows where all values are missing\n",
    "airbnb_df = airbnb_df.dropna(how='all')\n",
    "\n",
    "airbnb_df"
   ]
  },
  {
   "cell_type": "markdown",
   "id": "9f7fea63",
   "metadata": {},
   "source": [
    "|  | id | name | host_id | host_identity_verified | host_name | neighbourhood_group | neighbourhood | country | country_code | instant_bookable | room_type | construction_year | price | service_fee | minimum_nights | number_of_reviews | review_rate_number | calculated_host_listings_count |\n",
    "| --- | --- | --- | --- | --- | --- | --- | --- | --- | --- | --- | --- | --- | --- | --- | --- | --- | --- | --- |\n",
    "| 0 | 1001254.0 | Clean & quiet apt home by the park | 8.001449e+10 | unconfirmed | Madaline | Brooklyn | Kensington | United States | US | False | Private room | 2020.0 | $966 | $193 | 10.0 | 9.0 | 4.0 | 6.0 |\n",
    "| 1 | 1002102.0 | Skylit Midtown Castle | 5.233517e+10 | verified | Jenna | Manhattan | Midtown | United States | US | False | Entire home/apt | 2007.0 | $142 | $28 | 30.0 | 45.0 | 4.0 | 2.0 |\n",
    "| 3 | 1002403.0 | THE VILLAGE OF HARLEM....NEW YORK ! | 7.882924e+10 | NaN | Elise | Manhattan | Harlem | United States | US | True | Private room | 2005.0 | $620 | $124 | 3.0 | 0.0 | 5.0 | 1.0 |\n",
    "| 5 | 1003689.0 | Entire Apt: Spacious Studio/Loft by central park | 9.203760e+10 | verified | Lyndon | Manhattan | East Harlem | United States | US | False | Entire home/apt | 2009.0 | $204 | $41 | 10.0 | 9.0 | 3.0 | 1.0 |\n",
    "| 6 | 1004098.0 | Large Cozy 1 BR Apartment In Midtown East | 4.549855e+10 | verified | Michelle | Manhattan | Murray Hill | United States | US | True | Entire home/apt | 2013.0 | $577 | $115 | 3.0 | 74.0 | 3.0 | 1.0 |\n",
    "| ... | ... | ... | ... | ... | ... | ... | ... | ... | ... | ... | ... | ... | ... | ... | ... | ... | ... | ... |\n",
    "| 3630 | 2997901.0 | Brooklyn NY, Comfy,Spacious Repose! | 5.626794e+10 | verified | Benjamin | Brooklyn | Bushwick | United States | US | False | Private room | 2007.0 | $767 | $153 | 3.0 | 40.0 | 2.0 | 1.0 |\n",
    "| 3631 | 2998453.0 | Upper West Side elegance. Riverside | 3.204065e+10 | unconfirmed | Poppi | Manhattan | Upper West Side | United States | US | False | Entire home/apt | 2008.0 | $620 | $124 | 1.0 | 5.0 | 1.0 | 2.0 |\n",
    "| 3633 | 2999005.0 | BIG, BRIGHT, STYLISH + CONVENIENT | 4.074627e+10 | unconfirmed | Kerstin | Brooklyn | Bedford-Stuyvesant | United States | US | True | Private room | 2020.0 | $674 | $135 | 3.0 | 90.0 | 2.0 | 1.0 |\n",
    "| 3634 | 2999005.0 | BIG, BRIGHT, STYLISH + CONVENIENT | 4.074627e+10 | unconfirmed | Kerstin | Brooklyn | Bedford-Stuyvesant | United States | US | True | Private room | 2020.0 | $674 | $135 | 3.0 | 90.0 | 2.0 | 1.0 |\n",
    "| 3635 | 2999557.0 | Exclusive Upper East Side Studio | 2.446375e+10 | verified | Ellen | Manhattan | Upper East Side | United States | US | True | Entire home/apt | 2022.0 | $655 | $131 | 1.0 | 0.0 | 5.0 | 1.0 |"
   ]
  },
  {
   "cell_type": "markdown",
   "id": "3d00f5f7",
   "metadata": {},
   "source": [
    "3562 rows × 18 columns"
   ]
  },
  {
   "cell_type": "markdown",
   "id": "a2ef9ed5",
   "metadata": {},
   "source": [
    "This will remove the licence column and row where all values are missing as well as rows from the id, name, host_id and host_name columns which have missing data."
   ]
  },
  {
   "cell_type": "markdown",
   "id": "3b3f714e",
   "metadata": {},
   "source": [
    "# Filling Missing Data in Pandas"
   ]
  },
  {
   "cell_type": "markdown",
   "id": "02e6b41c",
   "metadata": {},
   "source": [
    "Instead of dropping missing values, we can also fill them with some value using the fillna() function. Pandas provides the fillna() function to fill missing values in a DataFrame. This function is highly flexible and allows you to fill missing values in a variety of ways."
   ]
  },
  {
   "cell_type": "markdown",
   "id": "4956c623",
   "metadata": {},
   "source": [
    "However, fillna() provides several parameters that allow you to control how missing values are filled:"
   ]
  },
  {
   "cell_type": "markdown",
   "id": "da19eb29",
   "metadata": {},
   "source": [
    "Value: This is the value that will replace missing values. It can be a constant, or a dictionary, Series, or DataFrame that specifies different fill values for different columns."
   ]
  },
  {
   "cell_type": "code",
   "execution_count": null,
   "id": "cea666ba",
   "metadata": {},
   "outputs": [],
   "source": [
    "# Fill missing values with different values for different columns\n",
    "df_filled = df.fillna({'construction_year': 'unknown', 'minimum_nights': df['minimum_nights'].mean()})"
   ]
  },
  {
   "cell_type": "markdown",
   "id": "f59d1c73",
   "metadata": {},
   "source": [
    "Method: This specifies the method to use to fill missing values. Options include ‘forward fill’ (ffill or pad), which fills missing values with the previous value in the column, and ‘backward fill’ (bfill or backfill), which fills missing values with the next value in the column."
   ]
  },
  {
   "cell_type": "code",
   "execution_count": null,
   "id": "5bf2095b",
   "metadata": {},
   "outputs": [],
   "source": [
    "# Forward fill\n",
    "df_filled = df.fillna(method='ffill')\n",
    "\n",
    "# Backward fill\n",
    "df_filled = df.fillna(method='bfill')"
   ]
  },
  {
   "cell_type": "markdown",
   "id": "d0b6a12c",
   "metadata": {},
   "source": [
    "Axis: By default, fillna() fills missing values along the rows (axis=0). But you can also make it fill along the columns by setting axis=1."
   ]
  },
  {
   "cell_type": "code",
   "execution_count": null,
   "id": "27b60967",
   "metadata": {},
   "outputs": [],
   "source": [
    "# Forward fill along columns\n",
    "df_filled = df.fillna(method='ffill', axis=1)"
   ]
  },
  {
   "cell_type": "markdown",
   "id": "f4efdc95",
   "metadata": {},
   "source": [
    "Inplace: By default, fillna() returns a new DataFrame and leaves the original unchanged. If you want to modify the original DataFrame, you can set inplace=True."
   ]
  },
  {
   "cell_type": "code",
   "execution_count": null,
   "id": "80a2dfcb",
   "metadata": {},
   "outputs": [],
   "source": [
    "# Fill missing values in the original DataFrame\n",
    "df.fillna(\"Unknown\", inplace=True)"
   ]
  },
  {
   "cell_type": "markdown",
   "id": "a43ad7aa",
   "metadata": {},
   "source": [
    "As seen earlier, some of the columns have missing values. Now we will try to fill in the missing values using fillna()."
   ]
  },
  {
   "cell_type": "code",
   "execution_count": null,
   "id": "bb9c705f",
   "metadata": {},
   "outputs": [],
   "source": [
    "airbnb_df = airbnb_df.fillna({\n",
    "'construction_year': 'unknown',\n",
    "'review_rate_number': airbnb_df['review_rate_number'].mean(),\n",
    "'minimum_nights': airbnb_df['minimum_nights'].mean(),\n",
    "'instant_bookable': 'unknown',\n",
    "'country_code': 'unknown',\n",
    "'host_identity_verified': 'unknown',\n",
    "'country': 'unknown',\n",
    "'neighbourhood_group': 'unknown',\n",
    "'neighbourhood': 'unknown',\n",
    "'service_fee': 'unknown',\n",
    "'calculated_host_listings_count': airbnb_df['calculated_host_listings_count'].mean(),\n",
    "'price': 'unknown',\n",
    "'number_of_reviews': airbnb_df['number_of_reviews'].mean(),\n",
    "})\n",
    "\n",
    "airbnb_df"
   ]
  },
  {
   "cell_type": "markdown",
   "id": "e169e75b",
   "metadata": {},
   "source": [
    "|  | id | name | host_id | host_identity_verified | host_name | neighbourhood_group | neighbourhood | country | country_code | instant_bookable | room_type | construction_year | price | service_fee | minimum_nights | number_of_reviews | review_rate_number | calculated_host_listings_count |\n",
    "| --- | --- | --- | --- | --- | --- | --- | --- | --- | --- | --- | --- | --- | --- | --- | --- | --- | --- | --- |\n",
    "| 0 | 1001254.0 | Clean & quiet apt home by the park | 8.001449e+10 | unconfirmed | Madaline | Brooklyn | Kensington | United States | US | False | Private room | 2020.0 | $966 | $193 | 10.0 | 9.0 | 4.0 | 6.0 |\n",
    "| 1 | 1002102.0 | Skylit Midtown Castle | 5.233517e+10 | verified | Jenna | Manhattan | Midtown | United States | US | False | Entire home/apt | 2007.0 | $142 | $28 | 30.0 | 45.0 | 4.0 | 2.0 |\n",
    "| 3 | 1002403.0 | THE VILLAGE OF HARLEM....NEW YORK ! | 7.882924e+10 | unknown | Elise | Manhattan | Harlem | United States | US | True | Private room | 2005.0 | $620 | $124 | 3.0 | 0.0 | 5.0 | 1.0 |\n",
    "| 5 | 1003689.0 | Entire Apt: Spacious Studio/Loft by central park | 9.203760e+10 | verified | Lyndon | Manhattan | East Harlem | United States | US | False | Entire home/apt | 2009.0 | $204 | $41 | 10.0 | 9.0 | 3.0 | 1.0 |\n",
    "| 6 | 1004098.0 | Large Cozy 1 BR Apartment In Midtown East | 4.549855e+10 | verified | Michelle | Manhattan | Murray Hill | United States | US | True | Entire home/apt | 2013.0 | $577 | $115 | 3.0 | 74.0 | 3.0 | 1.0 |\n",
    "| ... | ... | ... | ... | ... | ... | ... | ... | ... | ... | ... | ... | ... | ... | ... | ... | ... | ... | ... |\n",
    "| 3630 | 2997901.0 | Brooklyn NY, Comfy,Spacious Repose! | 5.626794e+10 | verified | Benjamin | Brooklyn | Bushwick | United States | US | False | Private room | 2007.0 | $767 | $153 | 3.0 | 40.0 | 2.0 | 1.0 |\n",
    "| 3631 | 2998453.0 | Upper West Side elegance. Riverside | 3.204065e+10 | unconfirmed | Poppi | Manhattan | Upper West Side | United States | US | False | Entire home/apt | 2008.0 | $620 | $124 | 1.0 | 5.0 | 1.0 | 2.0 |\n",
    "| 3633 | 2999005.0 | BIG, BRIGHT, STYLISH + CONVENIENT | 4.074627e+10 | unconfirmed | Kerstin | Brooklyn | Bedford-Stuyvesant | United States | US | True | Private room | 2020.0 | $674 | $135 | 3.0 | 90.0 | 2.0 | 1.0 |\n",
    "| 3634 | 2999005.0 | BIG, BRIGHT, STYLISH + CONVENIENT | 4.074627e+10 | unconfirmed | Kerstin | Brooklyn | Bedford-Stuyvesant | United States | US | True | Private room | 2020.0 | $674 | $135 | 3.0 | 90.0 | 2.0 | 1.0 |\n",
    "| 3635 | 2999557.0 | Exclusive Upper East Side Studio | 2.446375e+10 | verified | Ellen | Manhattan | Upper East Side | United States | US | True | Entire home/apt | 2022.0 | $655 | $131 | 1.0 | 0.0 | 5.0 | 1.0 |"
   ]
  },
  {
   "cell_type": "markdown",
   "id": "890cfbba",
   "metadata": {},
   "source": [
    "3562 rows × 18 columns"
   ]
  },
  {
   "cell_type": "markdown",
   "id": "38332ad9",
   "metadata": {},
   "source": [
    "This will fill in missing values in the review_rate_number , minimum_nights, calculated_host_listings_count and number_of_reviews columns with the average and missing values in the other columns with unknown."
   ]
  },
  {
   "cell_type": "markdown",
   "id": "9e869578",
   "metadata": {},
   "source": [
    "# Data Type Conversion in Pandas"
   ]
  },
  {
   "cell_type": "markdown",
   "id": "fc020df7",
   "metadata": {},
   "source": [
    "Data type conversion, also known as type casting, is an important step in data cleaning. It involves converting data from one type to another. This is often necessary because the type of data that Pandas infers upon loading a dataset might not always be what you want."
   ]
  },
  {
   "cell_type": "markdown",
   "id": "2ae2e4a6",
   "metadata": {},
   "source": [
    "# Converting Data Types in Pandas"
   ]
  },
  {
   "cell_type": "markdown",
   "id": "5e00a9d8",
   "metadata": {},
   "source": [
    "Data type conversion is a crucial step in data cleaning, especially when the data is imported from various sources which may categorize data in different types. Pandas provides the astype() function to convert data types."
   ]
  },
  {
   "cell_type": "markdown",
   "id": "706878fa",
   "metadata": {},
   "source": [
    "As can be seen, the data in the id, host_id, minimum_nights, number_of_reviews,review_rate_number, and calculated_host_listings_count columns are of the float data type. We will convert the data into an integer using astype() function."
   ]
  },
  {
   "cell_type": "code",
   "execution_count": null,
   "id": "4206dffd",
   "metadata": {},
   "outputs": [],
   "source": [
    "# Change the column with the value `float` to `int`\n",
    "airbnb_df[['id', 'host_id', 'minimum_nights', 'number_of_reviews','review_rate_number','calculated_host_listings_count']] = airbnb_df[['id', 'host_id', 'minimum_nights', 'number_of_reviews','review_rate_number','calculated_host_listings_count']].astype(int)\n",
    "\n",
    "airbnb_df"
   ]
  },
  {
   "cell_type": "markdown",
   "id": "0840e831",
   "metadata": {},
   "source": [
    "|  | id | name | host_id | host_identity_verified | host_name | neighbourhood_group | neighbourhood | country | country_code | instant_bookable | room_type | construction_year | price | service_fee | minimum_nights | number_of_reviews | review_rate_number | calculated_host_listings_count |\n",
    "| --- | --- | --- | --- | --- | --- | --- | --- | --- | --- | --- | --- | --- | --- | --- | --- | --- | --- | --- |\n",
    "| 0 | 1001254 | Clean & quiet apt home by the park | 80014485718 | unconfirmed | Madaline | Brooklyn | Kensington | United States | US | False | Private room | 2020.0 | $966 | $193 | 10 | 9 | 4 | 6 |\n",
    "| 1 | 1002102 | Skylit Midtown Castle | 52335172823 | verified | Jenna | Manhattan | Midtown | United States | US | False | Entire home/apt | 2007.0 | $142 | $28 | 30 | 45 | 4 | 2 |\n",
    "| 3 | 1002403 | THE VILLAGE OF HARLEM....NEW YORK ! | 78829239556 | unknown | Elise | Manhattan | Harlem | United States | US | True | Private room | 2005.0 | $620 | $124 | 3 | 0 | 5 | 1 |\n",
    "| 5 | 1003689 | Entire Apt: Spacious Studio/Loft by central park | 92037596077 | verified | Lyndon | Manhattan | East Harlem | United States | US | False | Entire home/apt | 2009.0 | $204 | $41 | 10 | 9 | 3 | 1 |\n",
    "| 6 | 1004098 | Large Cozy 1 BR Apartment In Midtown East | 45498551794 | verified | Michelle | Manhattan | Murray Hill | United States | US | True | Entire home/apt | 2013.0 | $577 | $115 | 3 | 74 | 3 | 1 |\n",
    "| ... | ... | ... | ... | ... | ... | ... | ... | ... | ... | ... | ... | ... | ... | ... | ... | ... | ... | ... |\n",
    "| 3630 | 2997901 | Brooklyn NY, Comfy,Spacious Repose! | 56267937797 | verified | Benjamin | Brooklyn | Bushwick | United States | US | False | Private room | 2007.0 | $767 | $153 | 3 | 40 | 2 | 1 |\n",
    "| 3631 | 2998453 | Upper West Side elegance. Riverside | 32040648122 | unconfirmed | Poppi | Manhattan | Upper West Side | United States | US | False | Entire home/apt | 2008.0 | $620 | $124 | 1 | 5 | 1 | 2 |\n",
    "| 3633 | 2999005 | BIG, BRIGHT, STYLISH + CONVENIENT | 40746270692 | unconfirmed | Kerstin | Brooklyn | Bedford-Stuyvesant | United States | US | True | Private room | 2020.0 | $674 | $135 | 3 | 90 | 2 | 1 |\n",
    "| 3634 | 2999005 | BIG, BRIGHT, STYLISH + CONVENIENT | 40746270692 | unconfirmed | Kerstin | Brooklyn | Bedford-Stuyvesant | United States | US | True | Private room | 2020.0 | $674 | $135 | 3 | 90 | 2 | 1 |\n",
    "| 3635 | 2999557 | Exclusive Upper East Side Studio | 24463750542 | verified | Ellen | Manhattan | Upper East Side | United States | US | True | Entire home/apt | 2022.0 | $655 | $131 | 1 | 0 | 5 | 1 |"
   ]
  },
  {
   "cell_type": "markdown",
   "id": "6ee408f1",
   "metadata": {},
   "source": [
    "3562 rows × 18 columns"
   ]
  },
  {
   "cell_type": "markdown",
   "id": "ea03de79",
   "metadata": {},
   "source": [
    "# Removing Duplicates in Pandas"
   ]
  },
  {
   "cell_type": "markdown",
   "id": "976a9009",
   "metadata": {},
   "source": [
    "Duplicate data can occur in your DataFrame for a variety of reasons, and it’s often necessary to remove these duplicates in order to perform accurate analysis."
   ]
  },
  {
   "cell_type": "markdown",
   "id": "9a632c47",
   "metadata": {},
   "source": [
    "# Identifying Duplicates"
   ]
  },
  {
   "cell_type": "markdown",
   "id": "479cac47",
   "metadata": {},
   "source": [
    "Pandas provides the duplicated() function to identify duplicate rows. This function returns a Boolean Series that is True for each row that is a duplicate of a previous row and False otherwise."
   ]
  },
  {
   "cell_type": "markdown",
   "id": "0a78ff9d",
   "metadata": {},
   "source": [
    "Now we will find out if there are duplicate data in the customer data that we have."
   ]
  },
  {
   "cell_type": "code",
   "execution_count": null,
   "id": "bcbb8ba6",
   "metadata": {},
   "outputs": [],
   "source": [
    "# Identify duplicate rows\n",
    "airbnb_df.duplicated()"
   ]
  },
  {
   "cell_type": "code",
   "execution_count": null,
   "id": "b265d4ac",
   "metadata": {},
   "outputs": [],
   "source": [
    "0       False\n",
    "1       False\n",
    "3       False\n",
    "5       False\n",
    "6       False\n",
    "        ...  \n",
    "3630     True\n",
    "3631    False\n",
    "3633    False\n",
    "3634     True\n",
    "3635    False\n",
    "Length: 3562, dtype: bool"
   ]
  },
  {
   "cell_type": "markdown",
   "id": "6c6051f7",
   "metadata": {},
   "source": [
    "By default, duplicated() considers all columns. If you look at the results, there is some duplicate data."
   ]
  },
  {
   "cell_type": "markdown",
   "id": "0971308c",
   "metadata": {},
   "source": [
    "# Removing Duplicates"
   ]
  },
  {
   "cell_type": "markdown",
   "id": "296b0e5c",
   "metadata": {},
   "source": [
    "Pandas provides the drop_duplicates() function to remove duplicate rows. This function returns a new DataFrame where duplicate rows have been removed. By default, drop_duplicates() considers all columns and keeps the first occurrence of each duplicate. If you want to consider only certain columns when dropping duplicates, or if you want to keep the last occurrence instead, you can pass arguments."
   ]
  },
  {
   "cell_type": "code",
   "execution_count": null,
   "id": "d847d0cb",
   "metadata": {},
   "outputs": [],
   "source": [
    "# Remove duplicate rows in the original DataFrame\n",
    "airbnb_df.drop_duplicates(inplace=True)\n",
    "\n",
    "airbnb_df.tail()"
   ]
  },
  {
   "cell_type": "markdown",
   "id": "030fa46e",
   "metadata": {},
   "source": [
    "|  | id | name | host_id | host_identity_verified | host_name | neighbourhood_group | neighbourhood | country | country_code | instant_bookable | room_type | construction_year | price | service_fee | minimum_nights | number_of_reviews | review_rate_number | calculated_host_listings_count |\n",
    "| --- | --- | --- | --- | --- | --- | --- | --- | --- | --- | --- | --- | --- | --- | --- | --- | --- | --- | --- |\n",
    "| 3628 | 2997348 | East Village Studio | 29175111219 | unconfirmed | Sheila | Manhattan | East Village | United States | US | True | Entire home/apt | 2010.0 | $297 | $59 | 4 | 216 | 1 | 1 |\n",
    "| 3629 | 2997901 | Brooklyn NY, Comfy,Spacious Repose! | 56267937797 | verified | Benjamin | Brooklyn | Bushwick | United States | US | False | Private room | 2007.0 | $767 | $153 | 3 | 40 | 2 | 1 |\n",
    "| 3631 | 2998453 | Upper West Side elegance. Riverside | 32040648122 | unconfirmed | Poppi | Manhattan | Upper West Side | United States | US | False | Entire home/apt | 2008.0 | $620 | $124 | 1 | 5 | 1 | 2 |\n",
    "| 3633 | 2999005 | BIG, BRIGHT, STYLISH + CONVENIENT | 40746270692 | unconfirmed | Kerstin | Brooklyn | Bedford-Stuyvesant | United States | US | True | Private room | 2020.0 | $674 | $135 | 3 | 90 | 2 | 1 |\n",
    "| 3635 | 2999557 | Exclusive Upper East Side Studio | 24463750542 | verified | Ellen | Manhattan | Upper East Side | United States | US | True | Entire home/apt | 2022.0 | $655 | $131 | 1 | 0 | 5 | 1 |"
   ]
  },
  {
   "cell_type": "markdown",
   "id": "8eefb489",
   "metadata": {},
   "source": [
    "Now, duplicate data has been removed. Remember, it’s important to understand your data and your specific use case before removing duplicates. Sometimes, what appears to be a duplicate might actually be valid data."
   ]
  },
  {
   "cell_type": "markdown",
   "id": "50321684",
   "metadata": {},
   "source": [
    "# Outlier Detection and Treatment in Pandas"
   ]
  },
  {
   "cell_type": "markdown",
   "id": "c191bbdd",
   "metadata": {},
   "source": [
    "Outliers are data points that are significantly different from other observations. They can be caused by variability in the data or experimental errors. Outliers can skew statistical measures and data distributions, leading to misleading results."
   ]
  },
  {
   "cell_type": "markdown",
   "id": "76c20b73",
   "metadata": {},
   "source": [
    "# Detecting Outliers"
   ]
  },
  {
   "cell_type": "markdown",
   "id": "1336e539",
   "metadata": {},
   "source": [
    "There are several ways to detect outliers. A common method is to use the IQR (interquartile range) rule. The IQR is the range between the first quartile (25th percentile) and the third quartile (75th percentile) of the data."
   ]
  },
  {
   "cell_type": "markdown",
   "id": "b6f8649a",
   "metadata": {},
   "source": [
    "Any data point that falls below the first quartile minus 1.5 times the IQR or above the third quartile plus 1.5 times the IQR is considered an outlier."
   ]
  },
  {
   "cell_type": "markdown",
   "id": "535e992d",
   "metadata": {},
   "source": [
    "In this case we want to find out which hosts have the best value, but there are differences in data in the number_of_reviews column, therefore we need to identify which data are outliers."
   ]
  },
  {
   "cell_type": "markdown",
   "id": "e23371d3",
   "metadata": {},
   "source": [
    "Here’s how to detect outliers in the number_of_reviews column using IQR rules:"
   ]
  },
  {
   "cell_type": "code",
   "execution_count": null,
   "id": "777c9f11",
   "metadata": {},
   "outputs": [],
   "source": [
    "Q1 = airbnb_df['number_of_reviews'].quantile(0.25)\n",
    "Q3 = airbnb_df['number_of_reviews'].quantile(0.75)\n",
    "IQR = Q3 - Q1\n",
    "\n",
    "# Define bounds\n",
    "lower_bound = Q1 - 1.5 * IQR\n",
    "upper_bound = Q3 + 1.5 * IQR\n",
    "print(f\"lower bound: {lower_bound}\")\n",
    "print(f\"upper bound: {upper_bound}\")"
   ]
  },
  {
   "cell_type": "code",
   "execution_count": null,
   "id": "b31618c5",
   "metadata": {},
   "outputs": [],
   "source": [
    "lower bound: -113.5\n",
    "upper bound: 210.5"
   ]
  },
  {
   "cell_type": "markdown",
   "id": "883b493b",
   "metadata": {},
   "source": [
    "After we determine the lower and upper bound, we will identify which data are outliers in our dataframe."
   ]
  },
  {
   "cell_type": "code",
   "execution_count": null,
   "id": "02881979",
   "metadata": {},
   "outputs": [],
   "source": [
    "# Identify outliers\n",
    "outliers = airbnb_df[(airbnb_df['number_of_reviews'] < lower_bound) | (airbnb_df['number_of_reviews'] > upper_bound)]\n",
    "\n",
    "outliers.head()"
   ]
  },
  {
   "cell_type": "markdown",
   "id": "3d659e4d",
   "metadata": {},
   "source": [
    "|  | id | name | host_id | host_identity_verified | host_name | neighbourhood_group | neighbourhood | country | country_code | instant_bookable | room_type | construction_year | price | service_fee | minimum_nights | number_of_reviews | review_rate_number | calculated_host_listings_count |\n",
    "| --- | --- | --- | --- | --- | --- | --- | --- | --- | --- | --- | --- | --- | --- | --- | --- | --- | --- | --- |\n",
    "| 10 | 1005754 | Large Furnished Room Near B'way | 79384379533 | verified | Evelyn | Manhattan | Hell's Kitchen | United States | US | True | Private room | 2005.0 | $1,018 | $204 | 2 | 430 | 3 | 1 |\n",
    "| 21 | 1011277 | Chelsea Perfect | 73862528370 | verified | Alberta | Manhattan | Chelsea | United States | unknown | unknown | Private room | 2008.0 | $460 | unknown | 1 | 260 | 3 | 1 |\n",
    "| 34 | 1018457 | front room/double bed | 69410526955 | unconfirmed | Byron | Manhattan | Harlem | United States | unknown | unknown | Private room | 2004.0 | $770 | $154 | 3 | 242 | 3 | 3 |\n",
    "| 37 | 1020114 | back room/bunk beds | 25066620900 | verified | Alfred | Manhattan | Harlem | United States | unknown | unknown | Private room | 2021.0 | $545 | $109 | 3 | 273 | 3 | 3 |\n",
    "| 41 | 1022323 | Cute apt in artist's home | 88653822946 | verified | Joyce | Brooklyn | Bushwick | United States | US | True | Entire home/apt | 2005.0 | $1,097 | $219 | 2 | 231 | 3 | 2 |"
   ]
  },
  {
   "cell_type": "markdown",
   "id": "f28e8645",
   "metadata": {},
   "source": [
    "In this example, outliers is a DataFrame that contains all rows in airbnb_df where number_of_reviews is an outlier."
   ]
  },
  {
   "cell_type": "markdown",
   "id": "264dc246",
   "metadata": {},
   "source": [
    "Based on the previous results, data with id 1005754 is outlier data because it has number_of_reviews with a number above upper_bound (upper_bound = 210.5) of 430."
   ]
  },
  {
   "cell_type": "code",
   "execution_count": null,
   "id": "22ad3310",
   "metadata": {},
   "outputs": [],
   "source": [
    "airbnb_df.set_index('id', inplace=True)\n",
    "outlier_data = airbnb_df.loc[1005754]\n",
    "\n",
    "outlier_data"
   ]
  },
  {
   "cell_type": "code",
   "execution_count": null,
   "id": "ad964864",
   "metadata": {},
   "outputs": [],
   "source": [
    "name                              Large Furnished Room Near B'way\n",
    "host_id                                               79384379533\n",
    "host_identity_verified                                   verified\n",
    "host_name                                                  Evelyn\n",
    "neighbourhood_group                                     Manhattan\n",
    "neighbourhood                                      Hell's Kitchen\n",
    "country                                             United States\n",
    "country_code                                                   US\n",
    "instant_bookable                                             True\n",
    "room_type                                            Private room\n",
    "construction_year                                          2005.0\n",
    "price                                                     $1,018 \n",
    "service_fee                                                 $204 \n",
    "minimum_nights                                                  2\n",
    "number_of_reviews                                             430\n",
    "review_rate_number                                              3\n",
    "calculated_host_listings_count                                  1\n",
    "Name: 1005754, dtype: object"
   ]
  },
  {
   "cell_type": "markdown",
   "id": "ae16d0d0",
   "metadata": {},
   "source": [
    "# Treating Outliers"
   ]
  },
  {
   "cell_type": "markdown",
   "id": "b5bdc53d",
   "metadata": {},
   "source": [
    "Once you’ve detected outliers, you need to decide how to handle them. There are several strategies for this: - Removing outliers: If you’re confident that the outliers are due to errors, you might choose to remove them. - Capping outliers: Instead of removing outliers, you might choose to cap them at the lower and upper bounds. - Imputing outliers: Another strategy is to replace outliers with some imputed value, like the mean or median."
   ]
  },
  {
   "cell_type": "markdown",
   "id": "eec9ede9",
   "metadata": {},
   "source": [
    "# Removing Outliers"
   ]
  },
  {
   "cell_type": "markdown",
   "id": "29e114bb",
   "metadata": {},
   "source": [
    "If you’re confident that the outliers in your data are due to errors, you might choose to remove them. This can be done using boolean indexing to create a new DataFrame that only includes rows where the value is not an outlier."
   ]
  },
  {
   "cell_type": "code",
   "execution_count": null,
   "id": "457d2f45",
   "metadata": {},
   "outputs": [],
   "source": [
    "# Remove outliers\n",
    "df_no_outliers = airbnb_df[(airbnb_df['number_of_reviews'] >= lower_bound) & (airbnb_df['number_of_reviews'] <= upper_bound)]\n",
    "\n",
    "df_no_outliers.head()"
   ]
  },
  {
   "cell_type": "markdown",
   "id": "4a34b44b",
   "metadata": {},
   "source": [
    "|  | name | host_id | host_identity_verified | host_name | neighbourhood_group | neighbourhood | country | country_code | instant_bookable | room_type | construction_year | price | service_fee | minimum_nights | number_of_reviews | review_rate_number | calculated_host_listings_count |\n",
    "| --- | --- | --- | --- | --- | --- | --- | --- | --- | --- | --- | --- | --- | --- | --- | --- | --- | --- |\n",
    "| id |  |  |  |  |  |  |  |  |  |  |  |  |  |  |  |  |  |\n",
    "| 1001254 | Clean & quiet apt home by the park | 80014485718 | unconfirmed | Madaline | Brooklyn | Kensington | United States | US | False | Private room | 2020.0 | $966 | $193 | 10 | 9 | 4 | 6 |\n",
    "| 1002102 | Skylit Midtown Castle | 52335172823 | verified | Jenna | Manhattan | Midtown | United States | US | False | Entire home/apt | 2007.0 | $142 | $28 | 30 | 45 | 4 | 2 |\n",
    "| 1002403 | THE VILLAGE OF HARLEM....NEW YORK ! | 78829239556 | unknown | Elise | Manhattan | Harlem | United States | US | True | Private room | 2005.0 | $620 | $124 | 3 | 0 | 5 | 1 |\n",
    "| 1003689 | Entire Apt: Spacious Studio/Loft by central park | 92037596077 | verified | Lyndon | Manhattan | East Harlem | United States | US | False | Entire home/apt | 2009.0 | $204 | $41 | 10 | 9 | 3 | 1 |\n",
    "| 1004098 | Large Cozy 1 BR Apartment In Midtown East | 45498551794 | verified | Michelle | Manhattan | Murray Hill | United States | US | True | Entire home/apt | 2013.0 | $577 | $115 | 3 | 74 | 3 | 1 |"
   ]
  },
  {
   "cell_type": "markdown",
   "id": "b38aef9c",
   "metadata": {},
   "source": [
    "In this example, df_no_outliers is a new DataFrame where all outliers in the number_of_reviews column have been removed."
   ]
  },
  {
   "cell_type": "markdown",
   "id": "2ef89e8d",
   "metadata": {},
   "source": [
    "# Capping Outliers"
   ]
  },
  {
   "cell_type": "markdown",
   "id": "b22b20e4",
   "metadata": {},
   "source": [
    "Instead of removing outliers, you might choose to cap them at the lower and upper bounds. This can be done using the clip() function, which caps values below a lower threshold at the lower threshold and values above an upper threshold at the upper threshold."
   ]
  },
  {
   "cell_type": "code",
   "execution_count": null,
   "id": "8395b026",
   "metadata": {},
   "outputs": [],
   "source": [
    "# Cap outliers\n",
    "df_capped = airbnb_df.copy()\n",
    "df_capped['number_of_reviews'] = df_capped['number_of_reviews'].clip(lower_bound, upper_bound)\n",
    "\n",
    "outlier_data_capped = df_capped.loc[1005754]\n",
    "\n",
    "outlier_data_capped"
   ]
  },
  {
   "cell_type": "code",
   "execution_count": null,
   "id": "e3153924",
   "metadata": {},
   "outputs": [],
   "source": [
    "name                              Large Furnished Room Near B'way\n",
    "host_id                                               79384379533\n",
    "host_identity_verified                                   verified\n",
    "host_name                                                  Evelyn\n",
    "neighbourhood_group                                     Manhattan\n",
    "neighbourhood                                      Hell's Kitchen\n",
    "country                                             United States\n",
    "country_code                                                   US\n",
    "instant_bookable                                             True\n",
    "room_type                                            Private room\n",
    "construction_year                                          2005.0\n",
    "price                                                     $1,018 \n",
    "service_fee                                                 $204 \n",
    "minimum_nights                                                  2\n",
    "number_of_reviews                                           210.5\n",
    "review_rate_number                                              3\n",
    "calculated_host_listings_count                                  1\n",
    "Name: 1005754, dtype: object"
   ]
  },
  {
   "cell_type": "markdown",
   "id": "e72271ce",
   "metadata": {},
   "source": [
    "In this example, df_capped is a new DataFrame with all outliers in the number_of_reviews column bounded at the bottom and top bounds. If you pay attention, the data with id 1005754 now has a value of number_of_reviews which has been adjusted to upper_bound of 210.5."
   ]
  },
  {
   "cell_type": "markdown",
   "id": "2a202a11",
   "metadata": {},
   "source": [
    "# Imputing Outliers"
   ]
  },
  {
   "cell_type": "markdown",
   "id": "17cc0af5",
   "metadata": {},
   "source": [
    "Another strategy is to replace outliers with some imputed value, like the mean, median, or mode. This can be done using boolean indexing to replace outlier values."
   ]
  },
  {
   "cell_type": "code",
   "execution_count": null,
   "id": "65a00a82",
   "metadata": {},
   "outputs": [],
   "source": [
    "# Impute outliers with the median\n",
    "df_imputed = airbnb_df.copy()\n",
    "df_imputed.loc[(df_imputed['number_of_reviews'] < lower_bound) | (df_imputed['number_of_reviews'] > upper_bound), 'number_of_reviews'] = df_imputed['number_of_reviews'].median()\n",
    "\n",
    "outlier_data_imputed = df_imputed.loc[1005754]\n",
    "\n",
    "outlier_data_imputed"
   ]
  },
  {
   "cell_type": "code",
   "execution_count": null,
   "id": "d46d90b0",
   "metadata": {},
   "outputs": [],
   "source": [
    "name                              Large Furnished Room Near B'way\n",
    "host_id                                               79384379533\n",
    "host_identity_verified                                   verified\n",
    "host_name                                                  Evelyn\n",
    "neighbourhood_group                                     Manhattan\n",
    "neighbourhood                                      Hell's Kitchen\n",
    "country                                             United States\n",
    "country_code                                                   US\n",
    "instant_bookable                                             True\n",
    "room_type                                            Private room\n",
    "construction_year                                          2005.0\n",
    "price                                                     $1,018 \n",
    "service_fee                                                 $204 \n",
    "minimum_nights                                                  2\n",
    "number_of_reviews                                              30\n",
    "review_rate_number                                              3\n",
    "calculated_host_listings_count                                  1\n",
    "Name: 1005754, dtype: object"
   ]
  },
  {
   "cell_type": "markdown",
   "id": "028cbae8",
   "metadata": {},
   "source": [
    "In this example, df_imputed is a new DataFrame where all outliers in the number_of_reviews column have been replaced with the median."
   ]
  },
  {
   "cell_type": "markdown",
   "id": "655b9103",
   "metadata": {},
   "source": [
    "# Exercise Pandas"
   ]
  },
  {
   "cell_type": "code",
   "execution_count": null,
   "id": "85f8a99b",
   "metadata": {},
   "outputs": [],
   "source": [
    "!pip install rggrader"
   ]
  },
  {
   "cell_type": "code",
   "execution_count": null,
   "id": "50d77275",
   "metadata": {},
   "outputs": [],
   "source": [
    "# @title #### Student Identity\n",
    "student_id = \"your student id\" # @param {type:\"string\"}\n",
    "name = \"your name\" # @param {type:\"string\"}"
   ]
  },
  {
   "cell_type": "code",
   "execution_count": null,
   "id": "04f2a729",
   "metadata": {},
   "outputs": [],
   "source": [
    "# @title #### 00. Filtering Data\n",
    "from rggrader import submit\n",
    "import pandas as pd\n",
    "\n",
    "students = {\n",
    "    'Name': ['Eric', 'Clay', 'Edward', 'Paul', 'Tara', 'Cris'],\n",
    "    'Math': [60, 76, 90, 55, 69, 88],\n",
    "    'Economy': [77, 83, 66, 71, 88, 91]\n",
    "}\n",
    "students_df = pd.DataFrame(students)\n",
    "\n",
    "# TODO: Filter students data where 'Math' and 'Economy' score are greater than 75\n",
    "# Put your code here:\n",
    "filtered_students = none\n",
    "\n",
    "\n",
    "# ---- End of your code ----\n",
    "\n",
    "# Submit Method\n",
    "assignment_id = \"00_pandas\"\n",
    "question_id = \"00_filtering-data\"\n",
    "submit(student_id, name, assignment_id, filtered_students.to_string(), question_id)\n",
    "\n",
    "# Expected Output:\n",
    "#    Name  Math  Economy\n",
    "# 1  Clay    76       83\n",
    "# 5  Cris    88       91"
   ]
  },
  {
   "cell_type": "code",
   "execution_count": null,
   "id": "3cd52897",
   "metadata": {},
   "outputs": [],
   "source": [
    "# @title #### 01. Replace Characters in string\n",
    "from rggrader import submit\n",
    "import pandas as pd\n",
    "\n",
    "cars = {\n",
    "    'Name': ['NSX', 'Supra', 'WRZ', 'Jesko', 'Veyron', 'P1'],\n",
    "    'Power': ['500HP', '512HP', '510HP', '700HP', '800HP', '600HP'],\n",
    "}\n",
    "cars_df = pd.DataFrame(cars)\n",
    "\n",
    "# TODO: Replace 'HP' character in 'Power' column\n",
    "# Put your code here:\n",
    "\n",
    "\n",
    "# ---- End of your code ----\n",
    "\n",
    "# Submit Method\n",
    "assignment_id = \"00_pandas\"\n",
    "question_id = \"01_replace-characters-in-string\"\n",
    "submit(student_id, name, assignment_id, cars_df.to_string(), question_id)\n",
    "\n",
    "# Expected Output:\n",
    "#      Name Power\n",
    "# 0     NSX   500\n",
    "# 1   Supra   512\n",
    "# 2     WRZ   510\n",
    "# 3   Jesko   700\n",
    "# 4  Veyron   800\n",
    "# 5      P1   600"
   ]
  },
  {
   "cell_type": "code",
   "execution_count": null,
   "id": "faa99539",
   "metadata": {},
   "outputs": [],
   "source": [
    "# @title #### 03. Fill missing value\n",
    "# from rggrader import submit\n",
    "import numpy as np\n",
    "import pandas as pd\n",
    "\n",
    "athletes = {\n",
    "    'Name': ['Eric', 'Clay', 'Edward', 'Paul', 'Tara', 'Cris'],\n",
    "    'Medals': [7, 4, np.NaN, 5, 8, np.NaN],\n",
    "}\n",
    "athletes_df = pd.DataFrame(athletes)\n",
    "\n",
    "# TODO: Fill the missing data in the 'Medals' column using the average of values\n",
    "# Put your code here: \n",
    "\n",
    "\n",
    "# ---- End of your code ----\n",
    "\n",
    "# Submit Method\n",
    "assignment_id = \"00_pandas\"\n",
    "question_id = \"02_fill-missing-value\"\n",
    "submit(student_id, name, assignment_id, athletes_df.to_string(), question_id)\n",
    "\n",
    "# Expected Output:\n",
    "#      Name  Medals\n",
    "# 0    Eric     7.0\n",
    "# 1    Clay     4.0\n",
    "# 2  Edward     6.0\n",
    "# 3    Paul     5.0\n",
    "# 4    Tara     8.0\n",
    "# 5    Cris     6.0"
   ]
  }
 ],
 "metadata": {},
 "nbformat": 4,
 "nbformat_minor": 5
}
