{
 "cells": [
  {
   "cell_type": "markdown",
   "id": "7bd20da4",
   "metadata": {},
   "source": [
    "# Pandas"
   ]
  },
  {
   "cell_type": "markdown",
   "id": "36cbad42",
   "metadata": {},
   "source": [
    "# What is Pandas?"
   ]
  },
  {
   "cell_type": "markdown",
   "id": "1676eb39",
   "metadata": {},
   "source": [
    "Pandas is a popular open-source data analysis and manipulation library, built on top of the Python programming language. It provides flexible and efficient data structures that make it easier to handle and analyze data. Pandas is particularly well-suited for structured or tabular data, such as CSV and Excel files, SQL databases, or dataframes in Python."
   ]
  },
  {
   "cell_type": "markdown",
   "id": "0c10b5f7",
   "metadata": {},
   "source": [
    "# Why use Pandas for Data Engineering?"
   ]
  },
  {
   "cell_type": "markdown",
   "id": "5b52111d",
   "metadata": {},
   "source": [
    "Data Handling: Pandas can handle a variety of data sets in different formats - CSV files, Excel files, or database records."
   ]
  },
  {
   "cell_type": "markdown",
   "id": "7e2f6b91",
   "metadata": {},
   "source": [
    "Ease of Use: With only a few lines of code, Pandas makes it easy for users to read, write, and modify datasets."
   ]
  },
  {
   "cell_type": "markdown",
   "id": "f6c115fa",
   "metadata": {},
   "source": [
    "Data Transformation: It offers robust tools for cleaning and pivoting data, preparing it for analysis or visualization."
   ]
  },
  {
   "cell_type": "markdown",
   "id": "a2f0caf1",
   "metadata": {},
   "source": [
    "Efficient Operations: Pandas is built on top of NumPy, a Python library for numerical computation, which makes it efficient for performing operations on large datasets."
   ]
  },
  {
   "cell_type": "markdown",
   "id": "387a7a45",
   "metadata": {},
   "source": [
    "Integration: It integrates well with many other libraries in the scientific Python ecosystem, such as Matplotlib for plotting graphs, Scikit-learn for machine learning, and many others."
   ]
  },
  {
   "cell_type": "markdown",
   "id": "1b381248",
   "metadata": {},
   "source": [
    "# Installing Pandas"
   ]
  },
  {
   "cell_type": "markdown",
   "id": "a6994130",
   "metadata": {},
   "source": [
    "Pandas can be installed in your Python environment using package managers like pip or conda."
   ]
  },
  {
   "cell_type": "markdown",
   "id": "b6a810b3",
   "metadata": {},
   "source": [
    "# Installing Pandas using pip:"
   ]
  },
  {
   "cell_type": "markdown",
   "id": "b4ea2910",
   "metadata": {},
   "source": [
    "If you’re using a Jupyter notebook, you can install it using the following command:"
   ]
  },
  {
   "cell_type": "code",
   "execution_count": null,
   "id": "6cfd97cf",
   "metadata": {},
   "outputs": [],
   "source": [
    "!pip install pandas"
   ]
  },
  {
   "cell_type": "markdown",
   "id": "027a5930",
   "metadata": {},
   "source": [
    "For installation on your system, you can use pip in your command line:"
   ]
  },
  {
   "cell_type": "code",
   "execution_count": null,
   "id": "0452b87f",
   "metadata": {},
   "outputs": [],
   "source": [
    "pip install pandas"
   ]
  },
  {
   "cell_type": "markdown",
   "id": "0159320f",
   "metadata": {},
   "source": [
    "# Installing Pandas using conda:"
   ]
  },
  {
   "cell_type": "markdown",
   "id": "a9c8c165",
   "metadata": {},
   "source": [
    "If you are using the Anaconda distribution of Python, you can use the conda package manager to install pandas. Type the following command in your terminal:"
   ]
  },
  {
   "cell_type": "code",
   "execution_count": null,
   "id": "b93337dc",
   "metadata": {},
   "outputs": [],
   "source": [
    "conda install pandas"
   ]
  },
  {
   "cell_type": "markdown",
   "id": "16b2e27b",
   "metadata": {},
   "source": [
    "After installation, you can import and check the installed Pandas version in your Python script as follows:"
   ]
  },
  {
   "cell_type": "code",
   "execution_count": null,
   "id": "4851d05c",
   "metadata": {},
   "outputs": [],
   "source": [
    "import pandas as pd\n",
    "\n",
    "print(pd.__version__)"
   ]
  },
  {
   "cell_type": "code",
   "execution_count": null,
   "id": "c06ebfa5",
   "metadata": {},
   "outputs": [],
   "source": [
    "1.5.3"
   ]
  },
  {
   "cell_type": "markdown",
   "id": "8d9f8719",
   "metadata": {},
   "source": [
    "This will print the version of Pandas installed in your environment to ensure it’s correctly installed."
   ]
  },
  {
   "cell_type": "markdown",
   "id": "4701fad1",
   "metadata": {},
   "source": [
    "# Pandas Data Structures"
   ]
  },
  {
   "cell_type": "markdown",
   "id": "d9b075e2",
   "metadata": {},
   "source": [
    "# Pandas Series"
   ]
  },
  {
   "cell_type": "markdown",
   "id": "2272d14c",
   "metadata": {},
   "source": [
    "What is a Series? A Series is a one-dimensional labeled array that can hold any data type. It is similar to a column in a spreadsheet or a vector in a mathematical matrix."
   ]
  },
  {
   "cell_type": "markdown",
   "id": "e7d89c90",
   "metadata": {},
   "source": [
    "# Key Features"
   ]
  },
  {
   "cell_type": "markdown",
   "id": "7db37fb7",
   "metadata": {},
   "source": [
    "# Pandas DataFrame"
   ]
  },
  {
   "cell_type": "markdown",
   "id": "96f8bb55",
   "metadata": {},
   "source": [
    "What is a DataFrame? A DataFrame is a 2-dimensional labeled data structure in Pandas, similar to a table in a relational database, an Excel spreadsheet, or a dictionary of Series objects."
   ]
  },
  {
   "cell_type": "markdown",
   "id": "b9104f09",
   "metadata": {},
   "source": [
    "Here is a basic example of a DataFrame:"
   ]
  },
  {
   "cell_type": "code",
   "execution_count": null,
   "id": "527c24d3",
   "metadata": {},
   "outputs": [],
   "source": [
    "import pandas as pd\n",
    "\n",
    "data = {\n",
    "    'Name': ['John', 'Anna', 'Peter'],\n",
    "    'Age': [28, 23, 34]\n",
    "}\n",
    "df = pd.DataFrame(data)\n",
    "\n",
    "df"
   ]
  },
  {
   "cell_type": "markdown",
   "id": "cd1549ff",
   "metadata": {},
   "source": [
    "In this example, ‘Name’ and ‘Age’ are column labels and the numbers 0, 1, 2 on the left are the index labels."
   ]
  },
  {
   "cell_type": "markdown",
   "id": "f9efea63",
   "metadata": {},
   "source": [
    "An index in Pandas is a built-in data structure that makes data manipulation and analysis more efficient. It is an immutable array (cannot be changed) and an ordered set. By default Pandas uses a numeric sequence starting from 0 as index."
   ]
  },
  {
   "cell_type": "markdown",
   "id": "4fca9b60",
   "metadata": {},
   "source": [
    "If you want to customize these index labels, you can do so when creating the DataFrame:"
   ]
  },
  {
   "cell_type": "code",
   "execution_count": null,
   "id": "2cf8b1fc",
   "metadata": {},
   "outputs": [],
   "source": [
    "df = pd.DataFrame(data, index=['a', 'b', 'c'])\n",
    "\n",
    "df"
   ]
  },
  {
   "cell_type": "markdown",
   "id": "d1132670",
   "metadata": {},
   "source": [
    "Now, ‘a’, ‘b’, ‘c’ are the index labels. These can be used with loc method to access specific rows."
   ]
  },
  {
   "cell_type": "markdown",
   "id": "c6bb88aa",
   "metadata": {},
   "source": [
    "# Key Features"
   ]
  },
  {
   "cell_type": "markdown",
   "id": "bed3d33c",
   "metadata": {},
   "source": [
    "# Why is it Useful?"
   ]
  },
  {
   "cell_type": "markdown",
   "id": "a5401ca4",
   "metadata": {},
   "source": [
    "# Basic Operations with Series and DataFrames"
   ]
  },
  {
   "cell_type": "markdown",
   "id": "6116eae4",
   "metadata": {},
   "source": [
    "# Creating a Series"
   ]
  },
  {
   "cell_type": "markdown",
   "id": "816c7d2f",
   "metadata": {},
   "source": [
    "You can create a Series from dictionaries, ndarrays, and scalar values."
   ]
  },
  {
   "cell_type": "code",
   "execution_count": null,
   "id": "df28bb21",
   "metadata": {},
   "outputs": [],
   "source": [
    "import pandas as pd\n",
    "\n",
    "# From a dictionary\n",
    "s1 = pd.Series({'a': 0, 'b': 1, 'c': 2})\n",
    "print(s1)\n",
    "\n",
    "# From an ndarray\n",
    "s2 = pd.Series(['a', 'b', 'c', 'd'])\n",
    "print(s2)\n",
    "\n",
    "# From a scalar\n",
    "s3 = pd.Series(5, index=[0, 1, 2, 3])\n",
    "print(s3)"
   ]
  },
  {
   "cell_type": "code",
   "execution_count": null,
   "id": "883eb7f0",
   "metadata": {},
   "outputs": [],
   "source": [
    "a    0\n",
    "b    1\n",
    "c    2\n",
    "dtype: int64\n",
    "0    a\n",
    "1    b\n",
    "2    c\n",
    "3    d\n",
    "dtype: object\n",
    "0    5\n",
    "1    5\n",
    "2    5\n",
    "3    5\n",
    "dtype: int64"
   ]
  },
  {
   "cell_type": "markdown",
   "id": "8f38bf94",
   "metadata": {},
   "source": [
    "# Indexing a Series"
   ]
  },
  {
   "cell_type": "markdown",
   "id": "f0dae66f",
   "metadata": {},
   "source": [
    "You can access the elements of a Series in a similar way to indexing with native Python data structures"
   ]
  },
  {
   "cell_type": "code",
   "execution_count": null,
   "id": "80f09884",
   "metadata": {},
   "outputs": [],
   "source": [
    "import pandas as pd\n",
    "\n",
    "s = pd.Series(['a', 'b', 'c', 'd'])\n",
    "\n",
    "# Accessing a single element using its index\n",
    "print(s[0])\n",
    "\n",
    "# Accessing multiple elements using their indices\n",
    "print(s[[0, 1, 2]])"
   ]
  },
  {
   "cell_type": "code",
   "execution_count": null,
   "id": "b953fe80",
   "metadata": {},
   "outputs": [],
   "source": [
    "a\n",
    "0    a\n",
    "1    b\n",
    "2    c\n",
    "dtype: object"
   ]
  },
  {
   "cell_type": "markdown",
   "id": "7c477ebd",
   "metadata": {},
   "source": [
    "# Slicing a Series"
   ]
  },
  {
   "cell_type": "markdown",
   "id": "75547674",
   "metadata": {},
   "source": [
    "Slicing a Series in pandas works in a similar way to slicing in Python."
   ]
  },
  {
   "cell_type": "code",
   "execution_count": null,
   "id": "036344ca",
   "metadata": {},
   "outputs": [],
   "source": [
    "import pandas as pd\n",
    "\n",
    "s = pd.Series([1, 2, 3, 4, 5], index=['a', 'b', 'c', 'd', 'e'])\n",
    "print(s)\n",
    "\n",
    "# Slice using the index values (explicit index) - Here 'end' value is included\n",
    "print(s['a':'c'])\n",
    "\n",
    "# Slice using index numbers (implicit index) - Here 'end' value is excluded\n",
    "print(s[0:2])"
   ]
  },
  {
   "cell_type": "code",
   "execution_count": null,
   "id": "561cdadb",
   "metadata": {},
   "outputs": [],
   "source": [
    "a    1\n",
    "b    2\n",
    "c    3\n",
    "d    4\n",
    "e    5\n",
    "dtype: int64\n",
    "a    1\n",
    "b    2\n",
    "c    3\n",
    "dtype: int64\n",
    "a    1\n",
    "b    2\n",
    "dtype: int64"
   ]
  },
  {
   "cell_type": "markdown",
   "id": "6c1974d7",
   "metadata": {},
   "source": [
    "Remember that when using explicit index (labels ‘a’, ‘b’, ‘c’, etc.), the slice includes the end index - that’s why ‘c’ is included in the result. While when using implicit index, the ‘end’ index is not included in the slice - so the 2nd index (which is ‘c’ and is the third element) is not included."
   ]
  },
  {
   "cell_type": "markdown",
   "id": "85f4e9e8",
   "metadata": {},
   "source": [
    "# Creating a DataFrame"
   ]
  },
  {
   "cell_type": "markdown",
   "id": "052bce7f",
   "metadata": {},
   "source": [
    "You can create a DataFrame from various data types: dictionary, list of lists, list of dictionaries etc. In data engineering, creating a DataFrame is the first step before performing any data manipulation or analysis tasks."
   ]
  },
  {
   "cell_type": "code",
   "execution_count": null,
   "id": "19c7727b",
   "metadata": {},
   "outputs": [],
   "source": [
    "import pandas as pd\n",
    "\n",
    "# Creating DataFrame\n",
    "data = {\n",
    "    'Name': ['John', 'Anna', 'Peter'],\n",
    "    'Age': [25, 23, 31],\n",
    "    'Nationality': [\"UK\", \"USA\", \"UK\"]\n",
    "}\n",
    "df = pd.DataFrame(data, index=['a', 'b', 'c'])\n",
    "\n",
    "df"
   ]
  },
  {
   "cell_type": "markdown",
   "id": "1443d7ca",
   "metadata": {},
   "source": [
    "# Indexing"
   ]
  },
  {
   "cell_type": "markdown",
   "id": "81232fe7",
   "metadata": {},
   "source": [
    "Indexing is the process of accessing an element in a sequence using its position in the sequence (its index). In Pandas, indexing refers to accessing rows and columns of data from a DataFrame, whereas slicing refers to accessing a range of rows and columns."
   ]
  },
  {
   "cell_type": "markdown",
   "id": "29c9ee0c",
   "metadata": {},
   "source": [
    "We can access data or range of data from a DataFrame using different methods."
   ]
  },
  {
   "cell_type": "markdown",
   "id": "771522d4",
   "metadata": {},
   "source": [
    "# Using column names:"
   ]
  },
  {
   "cell_type": "code",
   "execution_count": null,
   "id": "61ea5954",
   "metadata": {},
   "outputs": [],
   "source": [
    "# Accessing 'Name' column\n",
    "names = df['Name']\n",
    "print('- \"Name\" column:')\n",
    "print(names)\n",
    "\n",
    "# Accessing multiple columns\n",
    "subset = df[['Name', 'Nationality']]\n",
    "print('- multiple columns:')\n",
    "print(subset)"
   ]
  },
  {
   "cell_type": "code",
   "execution_count": null,
   "id": "be7932ed",
   "metadata": {},
   "outputs": [],
   "source": [
    "- \"Name\" column:\n",
    "a     John\n",
    "b     Anna\n",
    "c    Peter\n",
    "Name: Name, dtype: object\n",
    "- multiple columns:\n",
    "    Name Nationality\n",
    "a   John          UK\n",
    "b   Anna         USA\n",
    "c  Peter          UK"
   ]
  },
  {
   "cell_type": "markdown",
   "id": "032d481a",
   "metadata": {},
   "source": [
    "# Using .loc and .iloc:"
   ]
  },
  {
   "cell_type": "markdown",
   "id": "cebaaed0",
   "metadata": {},
   "source": [
    "Pandas provides various methods to index and access data in a DataFrame, including .loc and .iloc. These methods are used to access a group of rows and columns by labels or a boolean array."
   ]
  },
  {
   "cell_type": "markdown",
   "id": "7024ea1d",
   "metadata": {},
   "source": [
    ".loc"
   ]
  },
  {
   "cell_type": "markdown",
   "id": "0bca55db",
   "metadata": {},
   "source": [
    "loc is a label-based data selection method which means that we have to pass the name of the row or column which we want to select. This method includes the last element of the range, unlike Python and iloc method."
   ]
  },
  {
   "cell_type": "code",
   "execution_count": null,
   "id": "4ee1b7d1",
   "metadata": {},
   "outputs": [],
   "source": [
    "# Accessing a single row\n",
    "print('- single row:')\n",
    "print(df.loc['a'])\n",
    "\n",
    "# Accessing multiple rows\n",
    "print('- multiple row:')\n",
    "print(df.loc[['a', 'b']])\n",
    "\n",
    "# Accessing rows and specific columns\n",
    "print('- rows and specific columns:')\n",
    "print(df.loc[['a', 'b'], 'Name'])\n",
    "\n",
    "# Accessing all rows and specific columns\n",
    "print('- all rows and specific columns:')\n",
    "print(df.loc[:, 'Name'])"
   ]
  },
  {
   "cell_type": "code",
   "execution_count": null,
   "id": "32de30b8",
   "metadata": {},
   "outputs": [],
   "source": [
    "- single row:\n",
    "Name           John\n",
    "Age              25\n",
    "Nationality      UK\n",
    "Name: a, dtype: object\n",
    "- multiple row:\n",
    "   Name  Age Nationality\n",
    "a  John   25          UK\n",
    "b  Anna   23         USA\n",
    "- rows and specific columns:\n",
    "a    John\n",
    "b    Anna\n",
    "Name: Name, dtype: object\n",
    "- all rows and specific columns:\n",
    "a     John\n",
    "b     Anna\n",
    "c    Peter\n",
    "Name: Name, dtype: object"
   ]
  },
  {
   "cell_type": "markdown",
   "id": "83733d81",
   "metadata": {},
   "source": [
    ".iloc"
   ]
  },
  {
   "cell_type": "markdown",
   "id": "9df5fae6",
   "metadata": {},
   "source": [
    "iloc is an integer index-based method which means that we have to pass integer index in the method to select specific rows/columns. This method does not include the last element of the range."
   ]
  },
  {
   "cell_type": "code",
   "execution_count": null,
   "id": "29caf9ff",
   "metadata": {},
   "outputs": [],
   "source": [
    "# Accessing first row\n",
    "print('- first row:')\n",
    "print(df.iloc[0])\n",
    "\n",
    "# Accessing first and second rows\n",
    "print('- first and second rows:')\n",
    "print(df.iloc[0:2])\n",
    "\n",
    "# Accessing first row and first column\n",
    "print('- first row and first column:')\n",
    "print(df.iloc[0, 0])\n",
    "\n",
    "# Accessing all rows and first column\n",
    "print('- all rows and first column:')\n",
    "print(df.iloc[:, 0])\n",
    "\n",
    "# Accessing first two rows and first two columns\n",
    "print('- first two rows and first two columns:')\n",
    "print(df.iloc[0:2, 0:2])"
   ]
  },
  {
   "cell_type": "code",
   "execution_count": null,
   "id": "6f3a7032",
   "metadata": {},
   "outputs": [],
   "source": [
    "- first row:\n",
    "Name           John\n",
    "Age              25\n",
    "Nationality      UK\n",
    "Name: a, dtype: object\n",
    "- first and second rows:\n",
    "   Name  Age Nationality\n",
    "a  John   25          UK\n",
    "b  Anna   23         USA\n",
    "- first row and first column:\n",
    "John\n",
    "- all rows and first column:\n",
    "a     John\n",
    "b     Anna\n",
    "c    Peter\n",
    "Name: Name, dtype: object\n",
    "- first two rows and first two columns:\n",
    "   Name  Age\n",
    "a  John   25\n",
    "b  Anna   23"
   ]
  },
  {
   "cell_type": "markdown",
   "id": "e0e05199",
   "metadata": {},
   "source": [
    "# Slicing"
   ]
  },
  {
   "cell_type": "markdown",
   "id": "807ef954",
   "metadata": {},
   "source": [
    "Slicing is used to access a sequence of data in the dataframe. Slicing is often used in data engineering to divide the dataset into smaller chunks for further processing, for example, dividing the data into train and test sets for model training."
   ]
  },
  {
   "cell_type": "code",
   "execution_count": null,
   "id": "1fa604b7",
   "metadata": {},
   "outputs": [],
   "source": [
    "# Slice the first three rows\n",
    "first_three_rows = df[:3]\n",
    "print(first_three_rows)\n",
    "\n",
    "# Slice rows from index 1 to 3\n",
    "subset = df[1:4]\n",
    "print(subset)"
   ]
  },
  {
   "cell_type": "code",
   "execution_count": null,
   "id": "5d5772d8",
   "metadata": {},
   "outputs": [],
   "source": [
    "    Name  Age Nationality\n",
    "a   John   25          UK\n",
    "b   Anna   23         USA\n",
    "c  Peter   31          UK\n",
    "    Name  Age Nationality\n",
    "b   Anna   23         USA\n",
    "c  Peter   31          UK"
   ]
  },
  {
   "cell_type": "markdown",
   "id": "9189b36e",
   "metadata": {},
   "source": [
    "# Filtering Data"
   ]
  },
  {
   "cell_type": "markdown",
   "id": "c798d4b0",
   "metadata": {},
   "source": [
    "Filtering in Pandas allows you to select rows that satisfy a certain condition. You can use slicing with boolean indexing for this. Boolean indexing uses a boolean vector to filter the data. The boolean vector is generated by applying a logical condition to the data. The rows corresponding to True in the boolean vector are selected."
   ]
  },
  {
   "cell_type": "code",
   "execution_count": null,
   "id": "407034f0",
   "metadata": {},
   "outputs": [],
   "source": [
    "# Filter rows where 'Age' is greater than 30\n",
    "age_above_30 = df[df['Age'] > 30]\n",
    "\n",
    "print(age_above_30.head())"
   ]
  },
  {
   "cell_type": "code",
   "execution_count": null,
   "id": "2f0e613b",
   "metadata": {},
   "outputs": [],
   "source": [
    "    Name  Age Nationality\n",
    "c  Peter   31          UK"
   ]
  },
  {
   "cell_type": "markdown",
   "id": "6eb88a14",
   "metadata": {},
   "source": [
    "You can also combine multiple conditions using the & (and) and | (or) operators."
   ]
  },
  {
   "cell_type": "code",
   "execution_count": null,
   "id": "1206a902",
   "metadata": {},
   "outputs": [],
   "source": [
    "# Filter rows where 'Age' is greater than 30 and 'Paying_Status' is 'Paid'\n",
    "age_above_30_and_teacher = df[(df['Age'] > 30) & (df['Nationality'] == 'UK')]\n",
    "print(age_above_30_and_teacher)"
   ]
  },
  {
   "cell_type": "code",
   "execution_count": null,
   "id": "6c8b0b90",
   "metadata": {},
   "outputs": [],
   "source": [
    "    Name  Age Nationality\n",
    "c  Peter   31          UK"
   ]
  },
  {
   "cell_type": "markdown",
   "id": "61206e08",
   "metadata": {},
   "source": [
    "Remember, when combining conditions, you need to put each condition in parentheses. This is because the & and | operators have higher precedence than the comparison operators like > and ==."
   ]
  },
  {
   "cell_type": "markdown",
   "id": "3d00b814",
   "metadata": {},
   "source": [
    "# Data Import and Export"
   ]
  },
  {
   "cell_type": "markdown",
   "id": "0868fb59",
   "metadata": {},
   "source": [
    "Indexing is useful in data engineering to access specific parts of the data for further operations like transformations, calculations etc."
   ]
  },
  {
   "cell_type": "markdown",
   "id": "7a40c042",
   "metadata": {},
   "source": [
    "# Reading Data From CSV"
   ]
  },
  {
   "cell_type": "markdown",
   "id": "ac8ab06f",
   "metadata": {},
   "source": [
    "Reading data from a CSV file is an important task in data engineering and data science. It’s usually the first step when we have to analyze data which is stored in CSV format."
   ]
  },
  {
   "cell_type": "markdown",
   "id": "dab73652",
   "metadata": {},
   "source": [
    "Many programming languages provide libraries to read data from CSV files. For instance, in Python, we use libraries like pandas to read CSV data."
   ]
  },
  {
   "cell_type": "markdown",
   "id": "443681af",
   "metadata": {},
   "source": [
    "Here is a simple example:"
   ]
  },
  {
   "cell_type": "code",
   "execution_count": null,
   "id": "d648ae91",
   "metadata": {},
   "outputs": [],
   "source": [
    "import pandas as pd\n",
    "\n",
    "# load the data\n",
    "dataframe = pd.read_csv('https://storage.googleapis.com/rg-ai-bootcamp/pandas/import-data.csv')\n",
    "\n",
    "# print the first few lines of the dataframe\n",
    "dataframe.head()"
   ]
  },
  {
   "cell_type": "markdown",
   "id": "17ba4c21",
   "metadata": {},
   "source": [
    "In this example, the read_csv() function reads a CSV file and converts it into a Pandas DataFrame. dataframe.head() then prints the first 5 rows of the DataFrame."
   ]
  },
  {
   "cell_type": "markdown",
   "id": "94fc9766",
   "metadata": {},
   "source": [
    "Considerations while reading CSVs:"
   ]
  },
  {
   "cell_type": "markdown",
   "id": "5d448ec5",
   "metadata": {},
   "source": [
    "Delimiter: A CSV file’s default delimiter is a comma. However, other characters like semicolons can be used. The correct delimiter should be specified when reading a CSV file."
   ]
  },
  {
   "cell_type": "markdown",
   "id": "2a0c4549",
   "metadata": {},
   "source": [
    "Header: If the first line of the CSV file is a header (names of columns), make sure the library correctly identifies it."
   ]
  },
  {
   "cell_type": "markdown",
   "id": "baaf03ff",
   "metadata": {},
   "source": [
    "Encoding: CSV files can be written in different encodings. If you encounter a UnicodeDecodeError, you might need to specify the correct encoding."
   ]
  },
  {
   "cell_type": "markdown",
   "id": "ddea2185",
   "metadata": {},
   "source": [
    "# Writing Data To CSV"
   ]
  },
  {
   "cell_type": "markdown",
   "id": "151bf5d1",
   "metadata": {},
   "source": [
    "We often need to write or export data to a CSV file after manipulating or analyzing it. This written data can then be used in other systems, shared with other teams, or merely stored for future use."
   ]
  },
  {
   "cell_type": "markdown",
   "id": "94929069",
   "metadata": {},
   "source": [
    "Here is a simple Python example of writing data to a CSV file using pandas:"
   ]
  },
  {
   "cell_type": "code",
   "execution_count": null,
   "id": "53790e37",
   "metadata": {},
   "outputs": [],
   "source": [
    "import pandas as pd\n",
    "\n",
    "# Create a simple dataframe\n",
    "new_dataframe = pd.DataFrame({\n",
    "   'PassengerId': [1, 2, 3],\n",
    "   'class': ['First', 'Second', 'First'],\n",
    "   'sex': ['Female', 'Male', 'Male'],\n",
    "   'age': [28, 24, 35],\n",
    "   'ticket': ['U64297', 'V91254', 'W72311'],\n",
    "   'fare': [75.40, 50.00, 100.00],\n",
    "   'cabin': ['C20', 'A1', 'Z5'],\n",
    "   'embarked': ['S', 'Q', 'S']\n",
    "})\n",
    "\n",
    "# write to a CSV file\n",
    "new_dataframe.to_csv('./data/export-data.csv', index=False)\n",
    "\n",
    "# print the dataframe\n",
    "new_dataframe"
   ]
  },
  {
   "cell_type": "markdown",
   "id": "51ff6021",
   "metadata": {},
   "source": [
    "In this case, the to_csv() function writes the DataFrame to a CSV file. The index=False argument prevents pandas from writing row indices into the CSV file."
   ]
  },
  {
   "cell_type": "markdown",
   "id": "a952fecf",
   "metadata": {},
   "source": [
    "Considerations while writing CSVs:"
   ]
  },
  {
   "cell_type": "markdown",
   "id": "f00ed106",
   "metadata": {},
   "source": [
    "Delimiter: While a comma is standard, you might need to use a different character as a delimiter, which can be defined when writing a CSV file."
   ]
  },
  {
   "cell_type": "markdown",
   "id": "38024647",
   "metadata": {},
   "source": [
    "Header: You can choose to include or exclude the header in your CSV file."
   ]
  },
  {
   "cell_type": "markdown",
   "id": "466a6791",
   "metadata": {},
   "source": [
    "Encoding: You can specify the type of encoding for your CSV file."
   ]
  },
  {
   "cell_type": "markdown",
   "id": "0fb889ac",
   "metadata": {},
   "source": [
    "These functionalities to read and write CSV files form the basics of handling data in data engineering or data science tasks. They enable you to ingest data from various sources, process it as needed, and store or distribute results in a universally accepted format."
   ]
  },
  {
   "cell_type": "markdown",
   "id": "b7a87e94",
   "metadata": {},
   "source": [
    "# Data Indexing and Selection"
   ]
  },
  {
   "cell_type": "markdown",
   "id": "08dc2b49",
   "metadata": {},
   "source": [
    "Data indexing and selection is a crucial aspect of data manipulation and analysis. It allows us to access specific subsets of data efficiently. This process is particularly important when dealing with large datasets where manual inspection is not feasible."
   ]
  },
  {
   "cell_type": "markdown",
   "id": "ab388a1e",
   "metadata": {},
   "source": [
    "# Selecting Data by Index, Columns, and Labels"
   ]
  },
  {
   "cell_type": "markdown",
   "id": "c1bb3e70",
   "metadata": {},
   "source": [
    "In Pandas, a popular data manipulation library in Python, you can select data based on the following 3 things: - Index - Columns - Labels"
   ]
  },
  {
   "cell_type": "markdown",
   "id": "49b5b7fc",
   "metadata": {},
   "source": [
    "First, you need to import the necessary libraries and load your data:"
   ]
  },
  {
   "cell_type": "code",
   "execution_count": null,
   "id": "c823f4b7",
   "metadata": {},
   "outputs": [],
   "source": [
    "import pandas as pd\n",
    "\n",
    "# Load the data from the .csv file\n",
    "dataframe = pd.read_csv('https://storage.googleapis.com/rg-ai-bootcamp/pandas/import-data.csv')\n",
    "\n",
    "dataframe.head(10)"
   ]
  },
  {
   "cell_type": "markdown",
   "id": "abcaa13c",
   "metadata": {},
   "source": [
    "# Selecting Data by Index"
   ]
  },
  {
   "cell_type": "markdown",
   "id": "d48c6e0a",
   "metadata": {},
   "source": [
    "The iloc function is used to select data by its numeric index, similar to how we access elements in a list. The i in iloc stands for integer. We can select a single row, or multiple rows, or even cut a range of rows."
   ]
  },
  {
   "cell_type": "markdown",
   "id": "6c01d058",
   "metadata": {},
   "source": [
    "For example, here we want to see in detail the data from the first row, we can access it via index (index = 0)"
   ]
  },
  {
   "cell_type": "code",
   "execution_count": null,
   "id": "4c7d2962",
   "metadata": {},
   "outputs": [],
   "source": [
    "# Select the first row\n",
    "first_row = dataframe.iloc[0]\n",
    "\n",
    "first_row"
   ]
  },
  {
   "cell_type": "code",
   "execution_count": null,
   "id": "f8807d8e",
   "metadata": {},
   "outputs": [],
   "source": [
    "passengerId         1\n",
    "class           First\n",
    "sex              Male\n",
    "age                32\n",
    "ticket         A12345\n",
    "fare             50.0\n",
    "cabin             C10\n",
    "embarked            S\n",
    "Name: 0, dtype: object"
   ]
  },
  {
   "cell_type": "markdown",
   "id": "32f5a33d",
   "metadata": {},
   "source": [
    "# Selecting Data by Columns"
   ]
  },
  {
   "cell_type": "markdown",
   "id": "6756f4ff",
   "metadata": {},
   "source": [
    "We can select data by its column name in Pandas using the [] operator. This will return a Series object containing the data in the specified column. In this case, we want to look based on class in the data we have."
   ]
  },
  {
   "cell_type": "code",
   "execution_count": null,
   "id": "998b5d67",
   "metadata": {},
   "outputs": [],
   "source": [
    "# Select the 'embarked' column\n",
    "class_column = dataframe['class']\n",
    "\n",
    "class_column.head(10)"
   ]
  },
  {
   "cell_type": "code",
   "execution_count": null,
   "id": "897d665b",
   "metadata": {},
   "outputs": [],
   "source": [
    "0     First\n",
    "1    Second\n",
    "2     Third\n",
    "3     First\n",
    "4    Second\n",
    "5     Third\n",
    "6     First\n",
    "7    Second\n",
    "8     Third\n",
    "9     First\n",
    "Name: class, dtype: object"
   ]
  },
  {
   "cell_type": "markdown",
   "id": "74acef99",
   "metadata": {},
   "source": [
    "# Selecting Data by Labels"
   ]
  },
  {
   "cell_type": "markdown",
   "id": "6017ce1e",
   "metadata": {},
   "source": [
    "The loc function in Pandas is used to select rows based on their labels. In a DataFrame, row labels are indexes. By default, DataFrame indexes are numeric, similar to list indexes. However, we can set the index to be any column of the DataFrame, which allows us to use loc to select rows based on the values in that column. After we know the passenger class through the class column, now we want to see more detailed passenger data from the first class."
   ]
  },
  {
   "cell_type": "markdown",
   "id": "270e82f7",
   "metadata": {},
   "source": [
    "We can use the following way:"
   ]
  },
  {
   "cell_type": "code",
   "execution_count": null,
   "id": "4b741d4a",
   "metadata": {},
   "outputs": [],
   "source": [
    "# Set the 'class' column as the index\n",
    "dataframe.set_index('class', inplace=True)\n",
    "\n",
    "# Select the row with the label 'First'\n",
    "first_row = dataframe.loc['First']\n",
    "\n",
    "first_row"
   ]
  },
  {
   "cell_type": "markdown",
   "id": "8cb35b42",
   "metadata": {},
   "source": [
    "# Data Manipulation"
   ]
  },
  {
   "cell_type": "markdown",
   "id": "07491ad3",
   "metadata": {},
   "source": [
    "# Adding and Updating Column"
   ]
  },
  {
   "cell_type": "markdown",
   "id": "731694de",
   "metadata": {},
   "source": [
    "# Adding Column"
   ]
  },
  {
   "cell_type": "markdown",
   "id": "99d19cb7",
   "metadata": {},
   "source": [
    "You can add a new column to your DataFrame in several ways: 1. Assigning a scalar value to a new column 2. Adding a Series as a new column 3. Adding a calculated column"
   ]
  },
  {
   "cell_type": "markdown",
   "id": "5de194d0",
   "metadata": {},
   "source": [
    "First, you need to import the necessary libraries and load your data:"
   ]
  },
  {
   "cell_type": "code",
   "execution_count": null,
   "id": "8b7caede",
   "metadata": {},
   "outputs": [],
   "source": [
    "import pandas as pd\n",
    "\n",
    "# Load the data from the .csv file\n",
    "passenger_df = pd.read_csv('https://storage.googleapis.com/rg-ai-bootcamp/pandas/import-data.csv')\n",
    "\n",
    "passenger_df.head(10)"
   ]
  },
  {
   "cell_type": "markdown",
   "id": "79edf030",
   "metadata": {},
   "source": [
    "# 1. Assigning a scalar value to a new column"
   ]
  },
  {
   "cell_type": "markdown",
   "id": "0234484b",
   "metadata": {},
   "source": [
    "This will add a new column to our DataFrame with the supplied scalar values for all the rows. For example, we want to add a column for the discount given to all passengers of 0.15. We can add it in the following way."
   ]
  },
  {
   "cell_type": "code",
   "execution_count": null,
   "id": "5360ca36",
   "metadata": {},
   "outputs": [],
   "source": [
    "# Add a new column in df\n",
    "passenger_df['discount'] = 0.15\n",
    "\n",
    "passenger_df.head()"
   ]
  },
  {
   "cell_type": "markdown",
   "id": "c2db87b0",
   "metadata": {},
   "source": [
    "# 2. Adding a Series as a new column"
   ]
  },
  {
   "cell_type": "markdown",
   "id": "0d7bb897",
   "metadata": {},
   "source": [
    "So what if we want to add the owned status column using Series? We can use the method below. This will add a new column with the values from Series. Series must be the same length as the DataFrame."
   ]
  },
  {
   "cell_type": "code",
   "execution_count": null,
   "id": "35e811b2",
   "metadata": {},
   "outputs": [],
   "source": [
    "# Create a Series\n",
    "s = pd.Series(['Canceled', 'Active', 'Canceled', 'Active', 'Active'])\n",
    "\n",
    "# Add the Series as a new column in the DataFrame\n",
    "passenger_df['status'] = s\n",
    "\n",
    "passenger_df.head()"
   ]
  },
  {
   "cell_type": "markdown",
   "id": "aeff12fa",
   "metadata": {},
   "source": [
    "# 3. Adding a column with a calculated value"
   ]
  },
  {
   "cell_type": "markdown",
   "id": "06b20d8f",
   "metadata": {},
   "source": [
    "We can add new columns that are calculated from existing columns. After previously we added discount for all passengers, in this case we want to add a column to see the total fare after the discount."
   ]
  },
  {
   "cell_type": "code",
   "execution_count": null,
   "id": "1ed43e9e",
   "metadata": {},
   "outputs": [],
   "source": [
    "passenger_df['totalFare'] = passenger_df['fare'] - (passenger_df['fare'] * passenger_df['discount'])\n",
    "\n",
    "passenger_df.head()"
   ]
  },
  {
   "cell_type": "markdown",
   "id": "ced58969",
   "metadata": {},
   "source": [
    "# Updating Columns"
   ]
  },
  {
   "cell_type": "markdown",
   "id": "b6eeacb1",
   "metadata": {},
   "source": [
    "Updating a column in a DataFrame is similar to adding a new column. We assign the new values to the column we want to update. The new values could be a scalar, a Series, or a calculated value."
   ]
  },
  {
   "cell_type": "markdown",
   "id": "d3cbfedc",
   "metadata": {},
   "source": [
    "# 1. Updating a column with a scalar value"
   ]
  },
  {
   "cell_type": "markdown",
   "id": "f5128765",
   "metadata": {},
   "source": [
    "This will update the specified column with the supplied scalar value for all rows. For example, we want to change the amount of the discount given."
   ]
  },
  {
   "cell_type": "code",
   "execution_count": null,
   "id": "d6580129",
   "metadata": {},
   "outputs": [],
   "source": [
    "passenger_df['discount'] = 0.25\n",
    "\n",
    "passenger_df.head()"
   ]
  },
  {
   "cell_type": "markdown",
   "id": "cef3f4f3",
   "metadata": {},
   "source": [
    "# 2. Updating a column with a Series"
   ]
  },
  {
   "cell_type": "markdown",
   "id": "7ac87aed",
   "metadata": {},
   "source": [
    "This will update the specified column with the value from Series. Series must be the same length as the DataFrame. In this case, it turns out that we know that the status of some passengers is wrong and we want to replace it using the data series we have."
   ]
  },
  {
   "cell_type": "code",
   "execution_count": null,
   "id": "cffaf305",
   "metadata": {},
   "outputs": [],
   "source": [
    "new_series = pd.Series(['Active', 'Active', 'Active', 'Active', 'Canceled', 'Active', 'Active', 'Canceled','Active', 'Active', 'Canceled', 'Active', 'Active', 'Canceled','Active', 'Canceled', 'Active', 'Active', 'Canceled','Active',])\n",
    "\n",
    "passenger_df['status'] = new_series\n",
    "\n",
    "passenger_df.head(10)"
   ]
  },
  {
   "cell_type": "markdown",
   "id": "a91e5edc",
   "metadata": {},
   "source": [
    "# 3. Updating a column with a calculated value"
   ]
  },
  {
   "cell_type": "markdown",
   "id": "de78df6e",
   "metadata": {},
   "source": [
    "We can update columns with values calculated from other columns. For example, after we change the amount of discount given, we also need to change the calculation format and amount."
   ]
  },
  {
   "cell_type": "code",
   "execution_count": null,
   "id": "3cf334ef",
   "metadata": {},
   "outputs": [],
   "source": [
    "passenger_df['totalFare'] = passenger_df['fare'] - (passenger_df['fare'] * passenger_df['discount']) \n",
    "\n",
    "passenger_df.head(10)"
   ]
  },
  {
   "cell_type": "markdown",
   "id": "fa9f1f0d",
   "metadata": {},
   "source": [
    "# Updating Column Name"
   ]
  },
  {
   "cell_type": "markdown",
   "id": "adefd4c1",
   "metadata": {},
   "source": [
    "At times, the naming of columns or features may lack consistency, possibly due to variations in letter case, among other factors. Maintaining a uniform naming convention enhances our efficiency when working with these features."
   ]
  },
  {
   "cell_type": "markdown",
   "id": "369a9717",
   "metadata": {},
   "source": [
    "Let’s explore how we can modify or update the names of columns or features in our dataset. For example, we think that the column name sex is taboo or inappropriate, and we want to replace it with gender."
   ]
  },
  {
   "cell_type": "code",
   "execution_count": null,
   "id": "d3032009",
   "metadata": {},
   "outputs": [],
   "source": [
    "#update the column name\n",
    "passenger_df = passenger_df.rename(columns = {'sex':'gender'})\n",
    "\n",
    "passenger_df.head()"
   ]
  },
  {
   "cell_type": "markdown",
   "id": "ffcdeb33",
   "metadata": {},
   "source": [
    "You can even update multiple column names at a single time. For that, you have to add other column names separated by a comma under the curl braces."
   ]
  },
  {
   "cell_type": "code",
   "execution_count": null,
   "id": "719f4a14",
   "metadata": {},
   "outputs": [],
   "source": [
    "#multiple column update\n",
    "passenger_df = passenger_df.rename(columns = {'ticket':'ticketNumber','cabin':'cabinNumber'})\n",
    "\n",
    "passenger_df"
   ]
  },
  {
   "cell_type": "markdown",
   "id": "e12800ac",
   "metadata": {},
   "source": [
    "# Adding, Updating and Deleting Rows"
   ]
  },
  {
   "cell_type": "markdown",
   "id": "5d0ba487",
   "metadata": {},
   "source": [
    "# Adding Rows"
   ]
  },
  {
   "cell_type": "markdown",
   "id": "7aec7a83",
   "metadata": {},
   "source": [
    "There are 2 ways to add rows into Pandas DataFrame object: 1. Use the DataFrame object’s loc attribute. 2. Use the DataFrame object’s concat method."
   ]
  },
  {
   "cell_type": "markdown",
   "id": "66689010",
   "metadata": {},
   "source": [
    "# 1. Adding Rows Using loc"
   ]
  },
  {
   "cell_type": "markdown",
   "id": "34207f73",
   "metadata": {},
   "source": [
    "What if we want to add the latest passenger data? One of them we can use loc as below. When adding a new row using loc, we can specify the index label of the new row. If this label doesn’t already exist, loc will add a new row with this label to the DataFrame."
   ]
  },
  {
   "cell_type": "code",
   "execution_count": null,
   "id": "08ada09d",
   "metadata": {},
   "outputs": [],
   "source": [
    "new_row = {'passengerId': 21,\n",
    "           'class':'Third',\n",
    "           'gender':'Male',\n",
    "           'age':30,\n",
    "           'ticketNumber': 'F73925',\n",
    "           'fare':35,\n",
    "           'cabinNumber':'A55',\n",
    "           'embarked': 'C',\n",
    "           'discount': 0.25,\n",
    "           'status': 'Active',\n",
    "           'totalFare': 37.500}\n",
    "\n",
    "passenger_df.loc[len(passenger_df)] = new_row\n",
    "\n",
    "passenger_df"
   ]
  },
  {
   "cell_type": "markdown",
   "id": "0b194bee",
   "metadata": {},
   "source": [
    "# 2. Adding Rows Using concat"
   ]
  },
  {
   "cell_type": "markdown",
   "id": "c97ca385",
   "metadata": {},
   "source": [
    "Or if we have another DataFrame and want to add it to our existing DataFrame. We can use the concat function. The concat function is used to concat another DataFrame row to the end of the given DataFrame, returning a new DataFrame object."
   ]
  },
  {
   "cell_type": "code",
   "execution_count": null,
   "id": "57daea7b",
   "metadata": {},
   "outputs": [],
   "source": [
    "new_rows = {'passengerId': [22, 23],\n",
    "            'class':['First','Third'],\n",
    "            'gender':['Male','Female'],\n",
    "            'age':[30,30],\n",
    "            'ticketNumber': ['G76201', 'H43599'],\n",
    "            'fare':[50,35],\n",
    "            'cabinNumber':['B5', 'B6'],\n",
    "            'embarked': ['C', 'S'],\n",
    "            'discount':[0.25, 0.25],\n",
    "            'status': ['Active','Active'],\n",
    "            'totalFare': [37.500, 37.500]}\n",
    "\n",
    "new_passenger_df = pd.DataFrame(data = new_rows)\n",
    "\n",
    "passenger_df = pd.concat([passenger_df, new_passenger_df], ignore_index=True)\n",
    "\n",
    "passenger_df"
   ]
  },
  {
   "cell_type": "markdown",
   "id": "5628f095",
   "metadata": {},
   "source": [
    "# Updating Rows"
   ]
  },
  {
   "cell_type": "markdown",
   "id": "0d66e33e",
   "metadata": {},
   "source": [
    "You can update the values in a row using the loc indexer. The loc indexer is used to access a group of rows and columns by label(s) or a boolean array."
   ]
  },
  {
   "cell_type": "code",
   "execution_count": null,
   "id": "0ee39014",
   "metadata": {},
   "outputs": [],
   "source": [
    "# Update a row\n",
    "passenger_df.loc[0, ['passengerId', 'cabinNumber']] = [24, 'C1']\n",
    "passenger_df.loc[1] = {'passengerId': 2, 'class':'Second', 'gender':'Female', 'age':'18', 'ticketNumber': 'B67890', 'fare':40, 'cabinNumber':'A1','embarked': 'Q', 'discount':0.25, 'status': 'Active', 'totalFare': 22.875}\n",
    "\n",
    "passenger_df"
   ]
  },
  {
   "cell_type": "markdown",
   "id": "acf3a91c",
   "metadata": {},
   "source": [
    "# Deleting/Dropping Rows"
   ]
  },
  {
   "cell_type": "markdown",
   "id": "ccdccace",
   "metadata": {},
   "source": [
    "You can delete rows from your DataFrame using the drop() function. This function removes the row or column(s) you specify from your DataFrame. The axis parameter indicates whether you want to drop labels from the index (axis=0 or axis='index') or columns (axis=1 or axis='columns')."
   ]
  },
  {
   "cell_type": "code",
   "execution_count": null,
   "id": "239d1155",
   "metadata": {},
   "outputs": [],
   "source": [
    "# deleting single row\n",
    "passenger_df = passenger_df.drop(2, axis=0)\n",
    "\n",
    "# deleting multiple rows\n",
    "passenger_df = passenger_df.drop([3, 4], axis=0)\n",
    "\n",
    "passenger_df"
   ]
  },
  {
   "cell_type": "markdown",
   "id": "bc7a6d74",
   "metadata": {},
   "source": [
    "# Sorting Data"
   ]
  },
  {
   "cell_type": "markdown",
   "id": "5b02a38d",
   "metadata": {},
   "source": [
    "Sorting data in a Pandas DataFrame is a common operation that can be done using the sort_values() function."
   ]
  },
  {
   "cell_type": "markdown",
   "id": "c3c88bd9",
   "metadata": {},
   "source": [
    "We can sort by one or more columns. For example, here we want to see the ticket prices paid by passengers by sorting them. Here’s how you do it:"
   ]
  },
  {
   "cell_type": "code",
   "execution_count": null,
   "id": "ff41b9aa",
   "metadata": {},
   "outputs": [],
   "source": [
    "# Sort by 'fare' in ascending order\n",
    "df_asc = passenger_df.sort_values('fare')\n",
    "\n",
    "df_asc.head(10)"
   ]
  },
  {
   "cell_type": "code",
   "execution_count": null,
   "id": "5abf7beb",
   "metadata": {},
   "outputs": [],
   "source": [
    "# Sort by 'fare' in descending order\n",
    "df_desc = passenger_df.sort_values('fare', ascending=False)\n",
    "\n",
    "df_desc.head(10)"
   ]
  },
  {
   "cell_type": "markdown",
   "id": "69f2816b",
   "metadata": {},
   "source": [
    "We can also sort by multiple columns:"
   ]
  },
  {
   "cell_type": "code",
   "execution_count": null,
   "id": "526eb76e",
   "metadata": {},
   "outputs": [],
   "source": [
    "# Sort by 'class' and then 'cabinNumber', both in ascending order\n",
    "df_sorted = passenger_df.sort_values(['class', 'cabinNumber'])\n",
    "\n",
    "df_sorted.head(10)"
   ]
  },
  {
   "cell_type": "code",
   "execution_count": null,
   "id": "d057df23",
   "metadata": {},
   "outputs": [],
   "source": [
    "# Sort by 'class' in ascending order, then 'cabinNumber' in descending order\n",
    "df_sorted = passenger_df.sort_values(['class', 'cabinNumber'], ascending=[True, False])\n",
    "\n",
    "df_sorted.head(10)"
   ]
  },
  {
   "cell_type": "markdown",
   "id": "52ba780a",
   "metadata": {},
   "source": [
    "After sorting, if you want to reset the index, we can use the reset_index() function:"
   ]
  },
  {
   "cell_type": "code",
   "execution_count": null,
   "id": "f5a523d3",
   "metadata": {},
   "outputs": [],
   "source": [
    "df_sorted = df_sorted.reset_index(drop=True)\n",
    "\n",
    "df_sorted"
   ]
  },
  {
   "cell_type": "markdown",
   "id": "17f28578",
   "metadata": {},
   "source": [
    "# Operations on DataFrames"
   ]
  },
  {
   "cell_type": "markdown",
   "id": "8e1c51f2",
   "metadata": {},
   "source": [
    "# Arithmetic operations"
   ]
  },
  {
   "cell_type": "markdown",
   "id": "6b759ec6",
   "metadata": {},
   "source": [
    "Arithmetic operations can be performed on the numeric columns in DataFrame."
   ]
  },
  {
   "cell_type": "code",
   "execution_count": null,
   "id": "ad14e143",
   "metadata": {},
   "outputs": [],
   "source": [
    "passenger_df['discount'] = passenger_df['discount'] + 0.1\n",
    "passenger_df['totalFare'] = passenger_df['fare'] - (passenger_df['fare'] * passenger_df['discount']) \n",
    "passenger_df"
   ]
  },
  {
   "cell_type": "markdown",
   "id": "48c60f73",
   "metadata": {},
   "source": [
    "Arithmetic operations are essential in feature engineering where you create new features from existing ones to provide more information to your machine learning models."
   ]
  },
  {
   "cell_type": "markdown",
   "id": "80a53d1e",
   "metadata": {},
   "source": [
    "# Aggregation Functions"
   ]
  },
  {
   "cell_type": "markdown",
   "id": "b9a77378",
   "metadata": {},
   "source": [
    "Aggregation functions in DataFrames are used to perform mathematical computations on groups of data. These functions provide a way to perform operations on groups of values, summarizing the information."
   ]
  },
  {
   "cell_type": "markdown",
   "id": "e9c3f86d",
   "metadata": {},
   "source": [
    "Common aggregation functions include:"
   ]
  },
  {
   "cell_type": "markdown",
   "id": "6c5ae128",
   "metadata": {},
   "source": [
    "count(): Returns the number of non-null values in each DataFrame column."
   ]
  },
  {
   "cell_type": "markdown",
   "id": "67237f75",
   "metadata": {},
   "source": [
    "sum(): Returns the sum of the values for each column."
   ]
  },
  {
   "cell_type": "markdown",
   "id": "81568386",
   "metadata": {},
   "source": [
    "mean(): Returns the mean of the values for each column."
   ]
  },
  {
   "cell_type": "markdown",
   "id": "17a0dc32",
   "metadata": {},
   "source": [
    "median(): Returns the median of the values for each column."
   ]
  },
  {
   "cell_type": "markdown",
   "id": "6f14bda7",
   "metadata": {},
   "source": [
    "min(): Returns the minimum of the values for each column."
   ]
  },
  {
   "cell_type": "markdown",
   "id": "20af1a45",
   "metadata": {},
   "source": [
    "max(): Returns the maximum of the values for each column."
   ]
  },
  {
   "cell_type": "markdown",
   "id": "ff54eda9",
   "metadata": {},
   "source": [
    "std(): Returns the standard deviation of the values for each column."
   ]
  },
  {
   "cell_type": "markdown",
   "id": "caa80258",
   "metadata": {},
   "source": [
    "var(): Returns the variance of values for each column."
   ]
  },
  {
   "cell_type": "markdown",
   "id": "29f21268",
   "metadata": {},
   "source": [
    "first(): Returns the first of the values for each column."
   ]
  },
  {
   "cell_type": "markdown",
   "id": "b9111db1",
   "metadata": {},
   "source": [
    "last(): Returns the last of the values for each column."
   ]
  },
  {
   "cell_type": "code",
   "execution_count": null,
   "id": "d357bc1b",
   "metadata": {},
   "outputs": [],
   "source": [
    "passenger_df['age'] = passenger_df['age'].astype(int)\n",
    "\n",
    "# get the mean of 'Age'\n",
    "mean_age = passenger_df['age'].mean()\n",
    "print('Mean age: ',mean_age)\n",
    "\n",
    "# get the standard deviation of 'Age'\n",
    "std_age = passenger_df['age'].std()\n",
    "print('std age: ',std_age)\n",
    "\n",
    "# get the summary statistics of the dataframe\n",
    "summary = passenger_df.describe()\n",
    "summary"
   ]
  },
  {
   "cell_type": "code",
   "execution_count": null,
   "id": "eebde0e5",
   "metadata": {},
   "outputs": [],
   "source": [
    "Mean age:  31.95\n",
    "std age:  11.966950101711047"
   ]
  },
  {
   "cell_type": "markdown",
   "id": "a2d360c4",
   "metadata": {},
   "source": [
    "This is often the first step in any data analysis process to understand the distribution and central tendencies of the data."
   ]
  },
  {
   "cell_type": "markdown",
   "id": "e18b696e",
   "metadata": {},
   "source": [
    "# Applying Functions in DataFrames"
   ]
  },
  {
   "cell_type": "markdown",
   "id": "9fab6477",
   "metadata": {},
   "source": [
    "Applying functions is a way to perform operations on a DataFrame or a series (column of a DataFrame). This is done using the apply() function in Pandas. The apply() function takes a function as an argument and applies this function to an entire DataFrame or series."
   ]
  },
  {
   "cell_type": "markdown",
   "id": "3bada6f0",
   "metadata": {},
   "source": [
    "# DataFrame.apply()"
   ]
  },
  {
   "cell_type": "markdown",
   "id": "e54f27b7",
   "metadata": {},
   "source": [
    "When used on a DataFrame, apply() applies the function to each column of the DataFrame (default behavior), returning a series where each element is the result of applying the function to a column. If you want to apply the function to each row, you can set the axis parameter to 1."
   ]
  },
  {
   "cell_type": "markdown",
   "id": "1f7702c7",
   "metadata": {},
   "source": [
    "For example, here we want to make a recent fare adjustment by increasing the fare by 5 dollars. Then, we also need to make adjustments to the totalFare. We can do it in the following way."
   ]
  },
  {
   "cell_type": "code",
   "execution_count": null,
   "id": "e568baf7",
   "metadata": {},
   "outputs": [],
   "source": [
    "# Add passenger 'fare' by adding 5 to the 'fare'\n",
    "passenger_df['fare'] = passenger_df['fare'].apply(lambda x: x + 5)\n",
    "\n",
    "# Define the function to be applied\n",
    "def calculate_total_fare(row):\n",
    "    return row['fare'] - (row['fare'] * row['discount'])\n",
    "\n",
    "# Use the function on every row in the dataframe\n",
    "passenger_df['totalFare'] = passenger_df.apply(calculate_total_fare, axis=1)\n",
    "\n",
    "passenger_df"
   ]
  },
  {
   "cell_type": "markdown",
   "id": "ebd91cfa",
   "metadata": {},
   "source": [
    "# Introduction to Data Cleaning"
   ]
  },
  {
   "cell_type": "markdown",
   "id": "458cd126",
   "metadata": {},
   "source": [
    "# What is Data Cleaning?"
   ]
  },
  {
   "cell_type": "markdown",
   "id": "383c52dd",
   "metadata": {},
   "source": [
    "Data cleaning, also known as data cleansing or data scrubbing, is the process of identifying and correcting or removing errors, inaccuracies, and inconsistencies in datasets."
   ]
  },
  {
   "cell_type": "markdown",
   "id": "5805bed0",
   "metadata": {},
   "source": [
    "This process is crucial in improving the quality and reliability of data, which is particularly important in data analysis and machine learning models where the output quality is directly dependent on the input quality."
   ]
  },
  {
   "cell_type": "markdown",
   "id": "714c1f3a",
   "metadata": {},
   "source": [
    "In the context of the Python programming language, the Pandas library is often used for data cleaning. Pandas is a powerful data manipulation tool that provides functions for reading, writing, and modifying datasets."
   ]
  },
  {
   "cell_type": "markdown",
   "id": "92ea4290",
   "metadata": {},
   "source": [
    "# Why is Data Cleaning Important?"
   ]
  },
  {
   "cell_type": "markdown",
   "id": "7317895e",
   "metadata": {},
   "source": [
    "Data cleaning is a critical step in the data analysis process for several reasons:"
   ]
  },
  {
   "cell_type": "markdown",
   "id": "fe0cf3b9",
   "metadata": {},
   "source": [
    "Improving Data Quality: Raw data often contains errors, outliers, or inconsistencies that can distort analysis results. Data cleaning helps to ensure that the data used for analysis is accurate and reliable."
   ]
  },
  {
   "cell_type": "markdown",
   "id": "e94c0297",
   "metadata": {},
   "source": [
    "Enhancing Data Accuracy: Inaccurate data can lead to inaccurate conclusions. By cleaning data, you can ensure that your analyses and models are based on the most accurate information possible."
   ]
  },
  {
   "cell_type": "markdown",
   "id": "56419ee5",
   "metadata": {},
   "source": [
    "Boosting Efficiency: Clean data is easier to work with and can make data analysis processes more efficient."
   ]
  },
  {
   "cell_type": "markdown",
   "id": "7b98e9d3",
   "metadata": {},
   "source": [
    "Better Decision Making: Clean data leads to more reliable analysis, which in turn leads to better decision-making. This is particularly important in fields like business or research where decisions need to be data-driven."
   ]
  },
  {
   "cell_type": "markdown",
   "id": "2f3137ff",
   "metadata": {},
   "source": [
    "Ensuring Compliance: In some industries, maintaining clean data is a regulatory requirement. Data cleaning can help ensure compliance with these regulations."
   ]
  },
  {
   "cell_type": "markdown",
   "id": "20bb9447",
   "metadata": {},
   "source": [
    "# Data Cleaning Process"
   ]
  },
  {
   "cell_type": "markdown",
   "id": "2644162d",
   "metadata": {},
   "source": [
    " (Sumber: knowledgehut)"
   ]
  },
  {
   "cell_type": "markdown",
   "id": "562c835e",
   "metadata": {},
   "source": [
    "# Handling Missing Data in Pandas"
   ]
  },
  {
   "cell_type": "markdown",
   "id": "cd6efde9",
   "metadata": {},
   "source": [
    "Missing data is a common issue in data analysis. It refers to the absence of data in a column of a dataset. In Python’s Pandas library, missing data is represented by NaN (Not a Number) or None."
   ]
  },
  {
   "cell_type": "markdown",
   "id": "8279ad59",
   "metadata": {},
   "source": [
    "# Detecting Missing Data"
   ]
  },
  {
   "cell_type": "markdown",
   "id": "ac72ed57",
   "metadata": {},
   "source": [
    "Pandas provides the isnull() and notnull() functions to detect missing data. These functions return a Boolean mask indicating whether each element in the DataFrame is missing or not."
   ]
  },
  {
   "cell_type": "markdown",
   "id": "65a4b7b1",
   "metadata": {},
   "source": [
    "Let’s take a look at the customer data we used earlier. We will find out if there is missing data in the customer data that we have."
   ]
  },
  {
   "cell_type": "code",
   "execution_count": null,
   "id": "96a3fc5b",
   "metadata": {},
   "outputs": [],
   "source": [
    "import pandas as pd\n",
    "\n",
    "airbnb_df = pd.read_csv('https://storage.googleapis.com/rg-ai-bootcamp/pandas/airbnb-data.csv')\n",
    "airbnb_df"
   ]
  },
  {
   "cell_type": "markdown",
   "id": "beb02331",
   "metadata": {},
   "source": [
    "3636 rows × 19 columns"
   ]
  },
  {
   "cell_type": "code",
   "execution_count": null,
   "id": "b857625a",
   "metadata": {},
   "outputs": [],
   "source": [
    "# Detect missing values\n",
    "airbnb_df.isnull()"
   ]
  },
  {
   "cell_type": "markdown",
   "id": "33734c86",
   "metadata": {},
   "source": [
    "3636 rows × 19 columns"
   ]
  },
  {
   "cell_type": "markdown",
   "id": "cb15e227",
   "metadata": {},
   "source": [
    "This will print a DataFrame with the same size as the original, but with True in place where the original DataFrame had NaN or None, and False elsewhere. as can be seen that the row with index 2 has a value of true in each column, which means that there is missing data in that row."
   ]
  },
  {
   "cell_type": "markdown",
   "id": "c93d934a",
   "metadata": {},
   "source": [
    "To be clear, if we want to know the amount and percentage of missing data, we can do it in the following way:"
   ]
  },
  {
   "cell_type": "code",
   "execution_count": null,
   "id": "005d68fe",
   "metadata": {},
   "outputs": [],
   "source": [
    "# Calculate the total amount of missing data\n",
    "total = airbnb_df.isnull().sum().sort_values(ascending=False)\n",
    "\n",
    "# Calculates the percentage of missing data\n",
    "persentase = (airbnb_df.isnull().sum()/airbnb_df.isnull().count()*100).sort_values(ascending=False)\n",
    "\n",
    "# Creates a new DataFrame to display the results\n",
    "missing_data = pd.concat([total, persentase], axis=1, keys=['Total', 'Persentase'])\n",
    "\n",
    "missing_data"
   ]
  },
  {
   "cell_type": "markdown",
   "id": "cbd593c6",
   "metadata": {},
   "source": [
    "# Dropping Missing Data"
   ]
  },
  {
   "cell_type": "markdown",
   "id": "c7d36f7f",
   "metadata": {},
   "source": [
    "Pandas provides the dropna() function to remove missing data. By default, dropna() removes any row containing at least one missing value."
   ]
  },
  {
   "cell_type": "markdown",
   "id": "4cba958b",
   "metadata": {},
   "source": [
    "However, dropna() is more flexible than this. It provides several parameters that allow you to control how missing values are dropped:"
   ]
  },
  {
   "cell_type": "markdown",
   "id": "095720e1",
   "metadata": {},
   "source": [
    "Axis: By default, dropna() drops rows (axis=0). But you can also make it drop columns by setting axis=1. py     # Drop columns with missing values     df_dropped = df.dropna(axis=1) This will drop any column that contains at least one missing value."
   ]
  },
  {
   "cell_type": "markdown",
   "id": "d08fd2bc",
   "metadata": {},
   "source": [
    "How: By default, dropna() drops a row or column if it contains any missing values (how='any'). But you can also make it drop only rows or columns where all values are missing by setting how='all'."
   ]
  },
  {
   "cell_type": "code",
   "execution_count": null,
   "id": "ede97c39",
   "metadata": {},
   "outputs": [],
   "source": [
    "# Drop rows where all values are missing\n",
    "df_dropped = df.dropna(how='all')"
   ]
  },
  {
   "cell_type": "markdown",
   "id": "03c8fd91",
   "metadata": {},
   "source": [
    "This will drop any row where all values are missing."
   ]
  },
  {
   "cell_type": "markdown",
   "id": "1be1e07a",
   "metadata": {},
   "source": [
    "Subset: You can specify a subset of columns to consider when dropping rows."
   ]
  },
  {
   "cell_type": "code",
   "execution_count": null,
   "id": "6c170269",
   "metadata": {},
   "outputs": [],
   "source": [
    "# Drop rows where 'house_rules' is missing\n",
    "df_dropped = df.dropna(subset=['house_rules'])"
   ]
  },
  {
   "cell_type": "markdown",
   "id": "e5016df2",
   "metadata": {},
   "source": [
    "This will drop any row where ‘house_rules’ is missing."
   ]
  },
  {
   "cell_type": "markdown",
   "id": "d31cf417",
   "metadata": {},
   "source": [
    "Inplace: By default, dropna() returns a new DataFrame and leaves the original unchanged. If you want to modify the original DataFrame, you can set inplace=True."
   ]
  },
  {
   "cell_type": "code",
   "execution_count": null,
   "id": "19b101b0",
   "metadata": {},
   "outputs": [],
   "source": [
    "# Drop rows with missing values in the original DataFrame\n",
    "df.dropna(inplace=True)"
   ]
  },
  {
   "cell_type": "markdown",
   "id": "5954abd7",
   "metadata": {},
   "source": [
    "This will drop rows with missing values directly in the original DataFrame."
   ]
  },
  {
   "cell_type": "markdown",
   "id": "f24c81b5",
   "metadata": {},
   "source": [
    "As seen earlier the license column and some rows have no data at all, we will try to remove them using dropna()."
   ]
  },
  {
   "cell_type": "code",
   "execution_count": null,
   "id": "9a94219e",
   "metadata": {},
   "outputs": [],
   "source": [
    "# Drop the column 'license' which has no data at all\n",
    "airbnb_df = airbnb_df.drop(['license'], axis=1)\n",
    "\n",
    "# Drop any line where 'id', 'name', 'host_id' and 'host_name' are missing\n",
    "airbnb_df = airbnb_df.dropna(subset=['id', 'name', 'host_id', 'host_name'])\n",
    "\n",
    "# Drop rows where all values are missing\n",
    "airbnb_df = airbnb_df.dropna(how='all')\n",
    "\n",
    "airbnb_df"
   ]
  },
  {
   "cell_type": "markdown",
   "id": "89620a7f",
   "metadata": {},
   "source": [
    "3562 rows × 18 columns"
   ]
  },
  {
   "cell_type": "markdown",
   "id": "f95ea666",
   "metadata": {},
   "source": [
    "This will remove the licence column and row where all values are missing as well as rows from the id, name, host_id and host_name columns which have missing data."
   ]
  },
  {
   "cell_type": "markdown",
   "id": "f2c65bad",
   "metadata": {},
   "source": [
    "# Filling Missing Data in Pandas"
   ]
  },
  {
   "cell_type": "markdown",
   "id": "5ee1c234",
   "metadata": {},
   "source": [
    "Instead of dropping missing values, we can also fill them with some value using the fillna() function. Pandas provides the fillna() function to fill missing values in a DataFrame. This function is highly flexible and allows you to fill missing values in a variety of ways."
   ]
  },
  {
   "cell_type": "markdown",
   "id": "81c95752",
   "metadata": {},
   "source": [
    "However, fillna() provides several parameters that allow you to control how missing values are filled:"
   ]
  },
  {
   "cell_type": "markdown",
   "id": "b1e9a92e",
   "metadata": {},
   "source": [
    "Value: This is the value that will replace missing values. It can be a constant, or a dictionary, Series, or DataFrame that specifies different fill values for different columns."
   ]
  },
  {
   "cell_type": "code",
   "execution_count": null,
   "id": "5dc3efb3",
   "metadata": {},
   "outputs": [],
   "source": [
    "# Fill missing values with different values for different columns\n",
    "df_filled = df.fillna({'construction_year': 'unknown', 'minimum_nights': df['minimum_nights'].mean()})"
   ]
  },
  {
   "cell_type": "markdown",
   "id": "db3bb775",
   "metadata": {},
   "source": [
    "Method: This specifies the method to use to fill missing values. Options include ‘forward fill’ (ffill or pad), which fills missing values with the previous value in the column, and ‘backward fill’ (bfill or backfill), which fills missing values with the next value in the column."
   ]
  },
  {
   "cell_type": "code",
   "execution_count": null,
   "id": "7b13acd7",
   "metadata": {},
   "outputs": [],
   "source": [
    "# Forward fill\n",
    "df_filled = df.fillna(method='ffill')\n",
    "\n",
    "# Backward fill\n",
    "df_filled = df.fillna(method='bfill')"
   ]
  },
  {
   "cell_type": "markdown",
   "id": "cb7506b9",
   "metadata": {},
   "source": [
    "Axis: By default, fillna() fills missing values along the rows (axis=0). But you can also make it fill along the columns by setting axis=1."
   ]
  },
  {
   "cell_type": "code",
   "execution_count": null,
   "id": "e920def6",
   "metadata": {},
   "outputs": [],
   "source": [
    "# Forward fill along columns\n",
    "df_filled = df.fillna(method='ffill', axis=1)"
   ]
  },
  {
   "cell_type": "markdown",
   "id": "305edb47",
   "metadata": {},
   "source": [
    "Inplace: By default, fillna() returns a new DataFrame and leaves the original unchanged. If you want to modify the original DataFrame, you can set inplace=True."
   ]
  },
  {
   "cell_type": "code",
   "execution_count": null,
   "id": "8f3fd9a6",
   "metadata": {},
   "outputs": [],
   "source": [
    "# Fill missing values in the original DataFrame\n",
    "df.fillna(\"Unknown\", inplace=True)"
   ]
  },
  {
   "cell_type": "markdown",
   "id": "ecf7b034",
   "metadata": {},
   "source": [
    "As seen earlier, some of the columns have missing values. Now we will try to fill in the missing values using fillna()."
   ]
  },
  {
   "cell_type": "code",
   "execution_count": null,
   "id": "fe17c7d7",
   "metadata": {},
   "outputs": [],
   "source": [
    "airbnb_df = airbnb_df.fillna({\n",
    "'construction_year': 'unknown',\n",
    "'review_rate_number': airbnb_df['review_rate_number'].mean(),\n",
    "'minimum_nights': airbnb_df['minimum_nights'].mean(),\n",
    "'instant_bookable': 'unknown',\n",
    "'country_code': 'unknown',\n",
    "'host_identity_verified': 'unknown',\n",
    "'country': 'unknown',\n",
    "'neighbourhood_group': 'unknown',\n",
    "'neighbourhood': 'unknown',\n",
    "'service_fee': 'unknown',\n",
    "'calculated_host_listings_count': airbnb_df['calculated_host_listings_count'].mean(),\n",
    "'price': 'unknown',\n",
    "'number_of_reviews': airbnb_df['number_of_reviews'].mean(),\n",
    "})\n",
    "\n",
    "airbnb_df"
   ]
  },
  {
   "cell_type": "markdown",
   "id": "9e093849",
   "metadata": {},
   "source": [
    "3562 rows × 18 columns"
   ]
  },
  {
   "cell_type": "markdown",
   "id": "c7355050",
   "metadata": {},
   "source": [
    "This will fill in missing values in the review_rate_number , minimum_nights, calculated_host_listings_count and number_of_reviews columns with the average and missing values in the other columns with unknown."
   ]
  },
  {
   "cell_type": "markdown",
   "id": "5e00d6c5",
   "metadata": {},
   "source": [
    "# Data Type Conversion in Pandas"
   ]
  },
  {
   "cell_type": "markdown",
   "id": "0af966a6",
   "metadata": {},
   "source": [
    "Data type conversion, also known as type casting, is an important step in data cleaning. It involves converting data from one type to another. This is often necessary because the type of data that Pandas infers upon loading a dataset might not always be what you want."
   ]
  },
  {
   "cell_type": "markdown",
   "id": "838d2b02",
   "metadata": {},
   "source": [
    "# Converting Data Types in Pandas"
   ]
  },
  {
   "cell_type": "markdown",
   "id": "cc0e9973",
   "metadata": {},
   "source": [
    "Data type conversion is a crucial step in data cleaning, especially when the data is imported from various sources which may categorize data in different types. Pandas provides the astype() function to convert data types."
   ]
  },
  {
   "cell_type": "markdown",
   "id": "0eb00a50",
   "metadata": {},
   "source": [
    "As can be seen, the data in the id, host_id, minimum_nights, number_of_reviews,review_rate_number, and calculated_host_listings_count columns are of the float data type. We will convert the data into an integer using astype() function."
   ]
  },
  {
   "cell_type": "code",
   "execution_count": null,
   "id": "cff1de91",
   "metadata": {},
   "outputs": [],
   "source": [
    "# Change the column with the value `float` to `int`\n",
    "airbnb_df[['id', 'host_id', 'minimum_nights', 'number_of_reviews','review_rate_number','calculated_host_listings_count']] = airbnb_df[['id', 'host_id', 'minimum_nights', 'number_of_reviews','review_rate_number','calculated_host_listings_count']].astype(int)\n",
    "\n",
    "airbnb_df"
   ]
  },
  {
   "cell_type": "markdown",
   "id": "01677d37",
   "metadata": {},
   "source": [
    "3562 rows × 18 columns"
   ]
  },
  {
   "cell_type": "markdown",
   "id": "9501fa67",
   "metadata": {},
   "source": [
    "# Removing Duplicates in Pandas"
   ]
  },
  {
   "cell_type": "markdown",
   "id": "ec929656",
   "metadata": {},
   "source": [
    "Duplicate data can occur in your DataFrame for a variety of reasons, and it’s often necessary to remove these duplicates in order to perform accurate analysis."
   ]
  },
  {
   "cell_type": "markdown",
   "id": "0e7d9d23",
   "metadata": {},
   "source": [
    "# Identifying Duplicates"
   ]
  },
  {
   "cell_type": "markdown",
   "id": "9456fa08",
   "metadata": {},
   "source": [
    "Pandas provides the duplicated() function to identify duplicate rows. This function returns a Boolean Series that is True for each row that is a duplicate of a previous row and False otherwise."
   ]
  },
  {
   "cell_type": "markdown",
   "id": "da1d3201",
   "metadata": {},
   "source": [
    "Now we will find out if there are duplicate data in the customer data that we have."
   ]
  },
  {
   "cell_type": "code",
   "execution_count": null,
   "id": "9f11cabc",
   "metadata": {},
   "outputs": [],
   "source": [
    "# Identify duplicate rows\n",
    "airbnb_df.duplicated()"
   ]
  },
  {
   "cell_type": "code",
   "execution_count": null,
   "id": "4668a865",
   "metadata": {},
   "outputs": [],
   "source": [
    "0       False\n",
    "1       False\n",
    "3       False\n",
    "5       False\n",
    "6       False\n",
    "        ...  \n",
    "3630     True\n",
    "3631    False\n",
    "3633    False\n",
    "3634     True\n",
    "3635    False\n",
    "Length: 3562, dtype: bool"
   ]
  },
  {
   "cell_type": "markdown",
   "id": "a7a1c320",
   "metadata": {},
   "source": [
    "By default, duplicated() considers all columns. If you look at the results, there is some duplicate data."
   ]
  },
  {
   "cell_type": "markdown",
   "id": "0732578f",
   "metadata": {},
   "source": [
    "# Removing Duplicates"
   ]
  },
  {
   "cell_type": "markdown",
   "id": "c6afa6b9",
   "metadata": {},
   "source": [
    "Pandas provides the drop_duplicates() function to remove duplicate rows. This function returns a new DataFrame where duplicate rows have been removed. By default, drop_duplicates() considers all columns and keeps the first occurrence of each duplicate. If you want to consider only certain columns when dropping duplicates, or if you want to keep the last occurrence instead, you can pass arguments."
   ]
  },
  {
   "cell_type": "code",
   "execution_count": null,
   "id": "d2a2ac07",
   "metadata": {},
   "outputs": [],
   "source": [
    "# Remove duplicate rows in the original DataFrame\n",
    "airbnb_df.drop_duplicates(inplace=True)\n",
    "\n",
    "airbnb_df.tail()"
   ]
  },
  {
   "cell_type": "markdown",
   "id": "60cd54d8",
   "metadata": {},
   "source": [
    "Now, duplicate data has been removed. Remember, it’s important to understand your data and your specific use case before removing duplicates. Sometimes, what appears to be a duplicate might actually be valid data."
   ]
  },
  {
   "cell_type": "markdown",
   "id": "ec7217c2",
   "metadata": {},
   "source": [
    "# Outlier Detection and Treatment in Pandas"
   ]
  },
  {
   "cell_type": "markdown",
   "id": "743fbb1b",
   "metadata": {},
   "source": [
    "Outliers are data points that are significantly different from other observations. They can be caused by variability in the data or experimental errors. Outliers can skew statistical measures and data distributions, leading to misleading results."
   ]
  },
  {
   "cell_type": "markdown",
   "id": "701d87a3",
   "metadata": {},
   "source": [
    "# Detecting Outliers"
   ]
  },
  {
   "cell_type": "markdown",
   "id": "70b7b4ee",
   "metadata": {},
   "source": [
    "There are several ways to detect outliers. A common method is to use the IQR (interquartile range) rule. The IQR is the range between the first quartile (25th percentile) and the third quartile (75th percentile) of the data."
   ]
  },
  {
   "cell_type": "markdown",
   "id": "9a5eee21",
   "metadata": {},
   "source": [
    "Any data point that falls below the first quartile minus 1.5 times the IQR or above the third quartile plus 1.5 times the IQR is considered an outlier."
   ]
  },
  {
   "cell_type": "markdown",
   "id": "081038ca",
   "metadata": {},
   "source": [
    "In this case we want to find out which hosts have the best value, but there are differences in data in the number_of_reviews column, therefore we need to identify which data are outliers."
   ]
  },
  {
   "cell_type": "markdown",
   "id": "9ad1ca4b",
   "metadata": {},
   "source": [
    "Here’s how to detect outliers in the number_of_reviews column using IQR rules:"
   ]
  },
  {
   "cell_type": "code",
   "execution_count": null,
   "id": "0c03edec",
   "metadata": {},
   "outputs": [],
   "source": [
    "Q1 = airbnb_df['number_of_reviews'].quantile(0.25)\n",
    "Q3 = airbnb_df['number_of_reviews'].quantile(0.75)\n",
    "IQR = Q3 - Q1\n",
    "\n",
    "# Define bounds\n",
    "lower_bound = Q1 - 1.5 * IQR\n",
    "upper_bound = Q3 + 1.5 * IQR\n",
    "print(f\"lower bound: {lower_bound}\")\n",
    "print(f\"upper bound: {upper_bound}\")"
   ]
  },
  {
   "cell_type": "code",
   "execution_count": null,
   "id": "b95497d5",
   "metadata": {},
   "outputs": [],
   "source": [
    "lower bound: -113.5\n",
    "upper bound: 210.5"
   ]
  },
  {
   "cell_type": "markdown",
   "id": "16910fcb",
   "metadata": {},
   "source": [
    "After we determine the lower and upper bound, we will identify which data are outliers in our dataframe."
   ]
  },
  {
   "cell_type": "code",
   "execution_count": null,
   "id": "293eba57",
   "metadata": {},
   "outputs": [],
   "source": [
    "# Identify outliers\n",
    "outliers = airbnb_df[(airbnb_df['number_of_reviews'] < lower_bound) | (airbnb_df['number_of_reviews'] > upper_bound)]\n",
    "\n",
    "outliers.head()"
   ]
  },
  {
   "cell_type": "markdown",
   "id": "bf029d71",
   "metadata": {},
   "source": [
    "In this example, outliers is a DataFrame that contains all rows in airbnb_df where number_of_reviews is an outlier."
   ]
  },
  {
   "cell_type": "markdown",
   "id": "c66386d3",
   "metadata": {},
   "source": [
    "Based on the previous results, data with id 1005754 is outlier data because it has number_of_reviews with a number above upper_bound (upper_bound = 210.5) of 430."
   ]
  },
  {
   "cell_type": "code",
   "execution_count": null,
   "id": "bc20d39e",
   "metadata": {},
   "outputs": [],
   "source": [
    "airbnb_df.set_index('id', inplace=True)\n",
    "outlier_data = airbnb_df.loc[1005754]\n",
    "\n",
    "outlier_data"
   ]
  },
  {
   "cell_type": "code",
   "execution_count": null,
   "id": "82c6ab76",
   "metadata": {},
   "outputs": [],
   "source": [
    "name                              Large Furnished Room Near B'way\n",
    "host_id                                               79384379533\n",
    "host_identity_verified                                   verified\n",
    "host_name                                                  Evelyn\n",
    "neighbourhood_group                                     Manhattan\n",
    "neighbourhood                                      Hell's Kitchen\n",
    "country                                             United States\n",
    "country_code                                                   US\n",
    "instant_bookable                                             True\n",
    "room_type                                            Private room\n",
    "construction_year                                          2005.0\n",
    "price                                                     $1,018 \n",
    "service_fee                                                 $204 \n",
    "minimum_nights                                                  2\n",
    "number_of_reviews                                             430\n",
    "review_rate_number                                              3\n",
    "calculated_host_listings_count                                  1\n",
    "Name: 1005754, dtype: object"
   ]
  },
  {
   "cell_type": "markdown",
   "id": "aa9ba86f",
   "metadata": {},
   "source": [
    "# Treating Outliers"
   ]
  },
  {
   "cell_type": "markdown",
   "id": "f68e26a4",
   "metadata": {},
   "source": [
    "Once you’ve detected outliers, you need to decide how to handle them. There are several strategies for this: - Removing outliers: If you’re confident that the outliers are due to errors, you might choose to remove them. - Capping outliers: Instead of removing outliers, you might choose to cap them at the lower and upper bounds. - Imputing outliers: Another strategy is to replace outliers with some imputed value, like the mean or median."
   ]
  },
  {
   "cell_type": "markdown",
   "id": "7d9f98a8",
   "metadata": {},
   "source": [
    "# Removing Outliers"
   ]
  },
  {
   "cell_type": "markdown",
   "id": "7bca62ee",
   "metadata": {},
   "source": [
    "If you’re confident that the outliers in your data are due to errors, you might choose to remove them. This can be done using boolean indexing to create a new DataFrame that only includes rows where the value is not an outlier."
   ]
  },
  {
   "cell_type": "code",
   "execution_count": null,
   "id": "4e6b746e",
   "metadata": {},
   "outputs": [],
   "source": [
    "# Remove outliers\n",
    "df_no_outliers = airbnb_df[(airbnb_df['number_of_reviews'] >= lower_bound) & (airbnb_df['number_of_reviews'] <= upper_bound)]\n",
    "\n",
    "df_no_outliers.head()"
   ]
  },
  {
   "cell_type": "markdown",
   "id": "e1b0debb",
   "metadata": {},
   "source": [
    "In this example, df_no_outliers is a new DataFrame where all outliers in the number_of_reviews column have been removed."
   ]
  },
  {
   "cell_type": "markdown",
   "id": "166e76ee",
   "metadata": {},
   "source": [
    "# Capping Outliers"
   ]
  },
  {
   "cell_type": "markdown",
   "id": "5eb26648",
   "metadata": {},
   "source": [
    "Instead of removing outliers, you might choose to cap them at the lower and upper bounds. This can be done using the clip() function, which caps values below a lower threshold at the lower threshold and values above an upper threshold at the upper threshold."
   ]
  },
  {
   "cell_type": "code",
   "execution_count": null,
   "id": "0ff71983",
   "metadata": {},
   "outputs": [],
   "source": [
    "# Cap outliers\n",
    "df_capped = airbnb_df.copy()\n",
    "df_capped['number_of_reviews'] = df_capped['number_of_reviews'].clip(lower_bound, upper_bound)\n",
    "\n",
    "outlier_data_capped = df_capped.loc[1005754]\n",
    "\n",
    "outlier_data_capped"
   ]
  },
  {
   "cell_type": "code",
   "execution_count": null,
   "id": "7cdd5a06",
   "metadata": {},
   "outputs": [],
   "source": [
    "name                              Large Furnished Room Near B'way\n",
    "host_id                                               79384379533\n",
    "host_identity_verified                                   verified\n",
    "host_name                                                  Evelyn\n",
    "neighbourhood_group                                     Manhattan\n",
    "neighbourhood                                      Hell's Kitchen\n",
    "country                                             United States\n",
    "country_code                                                   US\n",
    "instant_bookable                                             True\n",
    "room_type                                            Private room\n",
    "construction_year                                          2005.0\n",
    "price                                                     $1,018 \n",
    "service_fee                                                 $204 \n",
    "minimum_nights                                                  2\n",
    "number_of_reviews                                           210.5\n",
    "review_rate_number                                              3\n",
    "calculated_host_listings_count                                  1\n",
    "Name: 1005754, dtype: object"
   ]
  },
  {
   "cell_type": "markdown",
   "id": "8697e5fb",
   "metadata": {},
   "source": [
    "In this example, df_capped is a new DataFrame with all outliers in the number_of_reviews column bounded at the bottom and top bounds. If you pay attention, the data with id 1005754 now has a value of number_of_reviews which has been adjusted to upper_bound of 210.5."
   ]
  },
  {
   "cell_type": "markdown",
   "id": "f70acfe9",
   "metadata": {},
   "source": [
    "# Imputing Outliers"
   ]
  },
  {
   "cell_type": "markdown",
   "id": "070f8552",
   "metadata": {},
   "source": [
    "Another strategy is to replace outliers with some imputed value, like the mean, median, or mode. This can be done using boolean indexing to replace outlier values."
   ]
  },
  {
   "cell_type": "code",
   "execution_count": null,
   "id": "2271a22c",
   "metadata": {},
   "outputs": [],
   "source": [
    "# Impute outliers with the median\n",
    "df_imputed = airbnb_df.copy()\n",
    "df_imputed.loc[(df_imputed['number_of_reviews'] < lower_bound) | (df_imputed['number_of_reviews'] > upper_bound), 'number_of_reviews'] = df_imputed['number_of_reviews'].median()\n",
    "\n",
    "outlier_data_imputed = df_imputed.loc[1005754]\n",
    "\n",
    "outlier_data_imputed"
   ]
  },
  {
   "cell_type": "code",
   "execution_count": null,
   "id": "9c303d5a",
   "metadata": {},
   "outputs": [],
   "source": [
    "name                              Large Furnished Room Near B'way\n",
    "host_id                                               79384379533\n",
    "host_identity_verified                                   verified\n",
    "host_name                                                  Evelyn\n",
    "neighbourhood_group                                     Manhattan\n",
    "neighbourhood                                      Hell's Kitchen\n",
    "country                                             United States\n",
    "country_code                                                   US\n",
    "instant_bookable                                             True\n",
    "room_type                                            Private room\n",
    "construction_year                                          2005.0\n",
    "price                                                     $1,018 \n",
    "service_fee                                                 $204 \n",
    "minimum_nights                                                  2\n",
    "number_of_reviews                                              30\n",
    "review_rate_number                                              3\n",
    "calculated_host_listings_count                                  1\n",
    "Name: 1005754, dtype: object"
   ]
  },
  {
   "cell_type": "markdown",
   "id": "18ebb4c5",
   "metadata": {},
   "source": [
    "In this example, df_imputed is a new DataFrame where all outliers in the number_of_reviews column have been replaced with the median."
   ]
  },
  {
   "cell_type": "markdown",
   "id": "5bfca344",
   "metadata": {},
   "source": [
    "# Exercise Pandas"
   ]
  },
  {
   "cell_type": "code",
   "execution_count": null,
   "id": "9b3e3bd3",
   "metadata": {},
   "outputs": [],
   "source": [
    "!pip install rggrader"
   ]
  },
  {
   "cell_type": "code",
   "execution_count": null,
   "id": "ff19a191",
   "metadata": {},
   "outputs": [],
   "source": [
    "# @title #### Student Identity\n",
    "student_id = \"your student id\" # @param {type:\"string\"}\n",
    "name = \"your name\" # @param {type:\"string\"}"
   ]
  },
  {
   "cell_type": "code",
   "execution_count": null,
   "id": "9767061c",
   "metadata": {},
   "outputs": [],
   "source": [
    "# @title #### 00. Filtering Data\n",
    "from rggrader import submit\n",
    "import pandas as pd\n",
    "\n",
    "students = {\n",
    "    'Name': ['Eric', 'Clay', 'Edward', 'Paul', 'Tara', 'Cris'],\n",
    "    'Math': [60, 76, 90, 55, 69, 88],\n",
    "    'Economy': [77, 83, 66, 71, 88, 91]\n",
    "}\n",
    "students_df = pd.DataFrame(students)\n",
    "\n",
    "# TODO: Filter students data where 'Math' and 'Economy' score are greater than 75\n",
    "# Put your code here:\n",
    "filtered_students = none\n",
    "\n",
    "\n",
    "# ---- End of your code ----\n",
    "\n",
    "# Submit Method\n",
    "assignment_id = \"00_pandas\"\n",
    "question_id = \"00_filtering-data\"\n",
    "submit(student_id, name, assignment_id, filtered_students.to_string(), question_id)\n",
    "\n",
    "# Expected Output:\n",
    "#    Name  Math  Economy\n",
    "# 1  Clay    76       83\n",
    "# 5  Cris    88       91"
   ]
  },
  {
   "cell_type": "code",
   "execution_count": null,
   "id": "a7a92c08",
   "metadata": {},
   "outputs": [],
   "source": [
    "# @title #### 01. Replace Characters in string\n",
    "from rggrader import submit\n",
    "import pandas as pd\n",
    "\n",
    "cars = {\n",
    "    'Name': ['NSX', 'Supra', 'WRZ', 'Jesko', 'Veyron', 'P1'],\n",
    "    'Power': ['500HP', '512HP', '510HP', '700HP', '800HP', '600HP'],\n",
    "}\n",
    "cars_df = pd.DataFrame(cars)\n",
    "\n",
    "# TODO: Replace 'HP' character in 'Power' column\n",
    "# Put your code here:\n",
    "\n",
    "\n",
    "# ---- End of your code ----\n",
    "\n",
    "# Submit Method\n",
    "assignment_id = \"00_pandas\"\n",
    "question_id = \"01_replace-characters-in-string\"\n",
    "submit(student_id, name, assignment_id, cars_df.to_string(), question_id)\n",
    "\n",
    "# Expected Output:\n",
    "#      Name Power\n",
    "# 0     NSX   500\n",
    "# 1   Supra   512\n",
    "# 2     WRZ   510\n",
    "# 3   Jesko   700\n",
    "# 4  Veyron   800\n",
    "# 5      P1   600"
   ]
  },
  {
   "cell_type": "code",
   "execution_count": null,
   "id": "d33ca354",
   "metadata": {},
   "outputs": [],
   "source": [
    "# @title #### 03. Fill missing value\n",
    "# from rggrader import submit\n",
    "import numpy as np\n",
    "import pandas as pd\n",
    "\n",
    "athletes = {\n",
    "    'Name': ['Eric', 'Clay', 'Edward', 'Paul', 'Tara', 'Cris'],\n",
    "    'Medals': [7, 4, np.NaN, 5, 8, np.NaN],\n",
    "}\n",
    "athletes_df = pd.DataFrame(athletes)\n",
    "\n",
    "# TODO: Fill the missing data in the 'Medals' column using the average of values\n",
    "# Put your code here: \n",
    "\n",
    "\n",
    "# ---- End of your code ----\n",
    "\n",
    "# Submit Method\n",
    "assignment_id = \"00_pandas\"\n",
    "question_id = \"02_fill-missing-value\"\n",
    "submit(student_id, name, assignment_id, athletes_df.to_string(), question_id)\n",
    "\n",
    "# Expected Output:\n",
    "#      Name  Medals\n",
    "# 0    Eric     7.0\n",
    "# 1    Clay     4.0\n",
    "# 2  Edward     6.0\n",
    "# 3    Paul     5.0\n",
    "# 4    Tara     8.0\n",
    "# 5    Cris     6.0"
   ]
  }
 ],
 "metadata": {},
 "nbformat": 4,
 "nbformat_minor": 5
}
