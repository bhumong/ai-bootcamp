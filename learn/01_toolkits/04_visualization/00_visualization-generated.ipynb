{
 "cells": [
  {
   "cell_type": "markdown",
   "id": "478c532b",
   "metadata": {},
   "source": [
    "source: [https://ai-bootcamp.ruangguru.com/learn/01_toolkits/04_visualization/00_visualization.html](https://ai-bootcamp.ruangguru.com/learn/01_toolkits/04_visualization/00_visualization.html)"
   ]
  },
  {
   "cell_type": "markdown",
   "id": "19fed08d",
   "metadata": {},
   "source": [
    "# Visualization"
   ]
  },
  {
   "cell_type": "markdown",
   "id": "b33435a3",
   "metadata": {},
   "source": [
    "# Introduction to Data Visualization"
   ]
  },
  {
   "cell_type": "markdown",
   "id": "f356b1f3",
   "metadata": {},
   "source": [
    "# Importance of Data Visualization in Data Engineering"
   ]
  },
  {
   "cell_type": "markdown",
   "id": "440b1139",
   "metadata": {},
   "source": [
    "Data visualization plays a crucial role in data engineering for several reasons:"
   ]
  },
  {
   "cell_type": "markdown",
   "id": "db97814c",
   "metadata": {},
   "source": [
    "Simplifying Complex Data: Data visualization simplifies large and complicated datasets by representing them in a visual context. This makes it easier to identify patterns, trends, and outliers in the data."
   ]
  },
  {
   "cell_type": "markdown",
   "id": "d7133c93",
   "metadata": {},
   "source": [
    "Faster Decision Making: Visual data is processed much faster by the human brain than textual data. Therefore, data visualization can lead to quicker decision-making and problem-solving."
   ]
  },
  {
   "cell_type": "markdown",
   "id": "304394a4",
   "metadata": {},
   "source": [
    "Identifying Patterns and Relationships: Data visualization can help to identify patterns, correlations, and trends between various data points. This can be particularly useful in predictive analytics and machine learning."
   ]
  },
  {
   "cell_type": "markdown",
   "id": "935d5977",
   "metadata": {},
   "source": [
    "Data Storytelling: Data visualization can be used to tell a story, making it a powerful tool for presenting data in a way that is impactful and easy to understand."
   ]
  },
  {
   "cell_type": "markdown",
   "id": "2eaa6a6a",
   "metadata": {},
   "source": [
    "# Overview of Matplotlib Library and its Applications"
   ]
  },
  {
   "cell_type": "markdown",
   "id": "e9f7e88c",
   "metadata": {},
   "source": [
    "Matplotlib is a plotting library for the Python programming language and its numerical mathematics extension NumPy. It provides an object-oriented API for embedding plots into applications using general-purpose GUI toolkits like Tkinter, wxPython, Qt, or GTK."
   ]
  },
  {
   "cell_type": "markdown",
   "id": "9bab99dc",
   "metadata": {},
   "source": [
    "# Applications of Matplotlib"
   ]
  },
  {
   "cell_type": "markdown",
   "id": "10f45d25",
   "metadata": {},
   "source": [
    "Creating basic graphs: Matplotlib is used for creating basic graphs like line plots, scatter plots, bar plots, histograms, etc."
   ]
  },
  {
   "cell_type": "markdown",
   "id": "ef1b182e",
   "metadata": {},
   "source": [
    "Creating complex plots: With Matplotlib, you can create complex plots like 3D plots, image plots, contour plots, etc."
   ]
  },
  {
   "cell_type": "markdown",
   "id": "bb63038e",
   "metadata": {},
   "source": [
    "Customizing plots: Matplotlib allows you to customize plots. You can control every aspect of the plot like line styles, font properties, axes properties, etc."
   ]
  },
  {
   "cell_type": "markdown",
   "id": "1b312514",
   "metadata": {},
   "source": [
    "Embedding plots in GUI applications: Matplotlib can be used in Python scripts, the Python and IPython shell, web application servers, and various graphical user interface toolkits."
   ]
  },
  {
   "cell_type": "markdown",
   "id": "bc8492e8",
   "metadata": {},
   "source": [
    "# Installing and Setting up Matplotlib"
   ]
  },
  {
   "cell_type": "markdown",
   "id": "89ffe551",
   "metadata": {},
   "source": [
    "# Installation"
   ]
  },
  {
   "cell_type": "markdown",
   "id": "3167660c",
   "metadata": {},
   "source": [
    "- If you’re using Python, the easiest way to install Matplotlib is using pip, Python’s package installer. You can install Matplotlib by running the following command in your command line:pip install matplotlib\n",
    "- If you’re using Jupyter notebooks, you can install Matplotlib by running the following command in a code cell:!pip install matplotlib"
   ]
  },
  {
   "cell_type": "markdown",
   "id": "3be43d6f",
   "metadata": {},
   "source": [
    "If you’re using Python, the easiest way to install Matplotlib is using pip, Python’s package installer. You can install Matplotlib by running the following command in your command line:"
   ]
  },
  {
   "cell_type": "code",
   "execution_count": null,
   "id": "de77d723",
   "metadata": {},
   "outputs": [],
   "source": [
    "pip install matplotlib"
   ]
  },
  {
   "cell_type": "markdown",
   "id": "e44dc456",
   "metadata": {},
   "source": [
    "If you’re using Jupyter notebooks, you can install Matplotlib by running the following command in a code cell:"
   ]
  },
  {
   "cell_type": "code",
   "execution_count": null,
   "id": "ff02dbeb",
   "metadata": {},
   "outputs": [],
   "source": [
    "!pip install matplotlib"
   ]
  },
  {
   "cell_type": "markdown",
   "id": "a4751459",
   "metadata": {},
   "source": [
    "# Importing Matplotlib"
   ]
  },
  {
   "cell_type": "markdown",
   "id": "1ba00bcf",
   "metadata": {},
   "source": [
    "Once Matplotlib is installed, you can import it into your Python script using the following line of code:"
   ]
  },
  {
   "cell_type": "code",
   "execution_count": null,
   "id": "51491a02",
   "metadata": {},
   "outputs": [],
   "source": [
    "import matplotlib.pyplot as plt"
   ]
  },
  {
   "cell_type": "markdown",
   "id": "25c2a36c",
   "metadata": {},
   "source": [
    "# Using Matplotlib"
   ]
  },
  {
   "cell_type": "markdown",
   "id": "9630b55e",
   "metadata": {},
   "source": [
    "After importing Matplotlib, you can use it to create a wide variety of plots and charts. Here’s an example of how to create a simple line plot with Matplotlib, This will create a line plot of the data in the lists x and y."
   ]
  },
  {
   "cell_type": "code",
   "execution_count": null,
   "id": "4e9ab78e",
   "metadata": {},
   "outputs": [],
   "source": [
    "import matplotlib.pyplot as plt\n",
    "\n",
    "# Sample data\n",
    "x = [1, 2, 3, 4, 5]\n",
    "y = [1, 4, 9, 16, 25]\n",
    "\n",
    "# Create a figure and axis\n",
    "fig, ax = plt.subplots()\n",
    "\n",
    "# Plot data\n",
    "ax.plot(x, y)\n",
    "\n",
    "# Show the plot\n",
    "plt.show()"
   ]
  },
  {
   "cell_type": "markdown",
   "id": "bf36094d",
   "metadata": {},
   "source": []
  },
  {
   "cell_type": "markdown",
   "id": "fac3d542",
   "metadata": {},
   "source": [
    "Before we get into the discussion regarding visualization, First we need to import the required libraries and load our data. Do you still remember the Airbnb data that we used in the previous material? We’re going to reuse it on this material."
   ]
  },
  {
   "cell_type": "code",
   "execution_count": null,
   "id": "f449297d",
   "metadata": {},
   "outputs": [],
   "source": [
    "import pandas as pd\n",
    "\n",
    "airbnb_df = pd.read_csv('https://storage.googleapis.com/rg-ai-bootcamp/visualization/airbnb-data.csv')\n",
    "airbnb_df.head()"
   ]
  },
  {
   "cell_type": "markdown",
   "id": "ba36e2f9",
   "metadata": {},
   "source": [
    "|  | id | name | host_id | host_identity_verified | host_name | neighbourhood_group | neighbourhood | country | country_code | instant_bookable | room_type | construction_year | price | service_fee | minimum_nights | number_of_reviews | review_rate_number | calculated_host_listings_count |\n",
    "| --- | --- | --- | --- | --- | --- | --- | --- | --- | --- | --- | --- | --- | --- | --- | --- | --- | --- | --- |\n",
    "| 0 | 1001254 | Clean & quiet apt home by the park | 80014485718 | unconfirmed | Madaline | Brooklyn | Kensington | United States | US | False | Private room | 2020 | 966 | 193 | 10 | 9 | 4 | 6 |\n",
    "| 1 | 1002102 | Skylit Midtown Castle | 52335172823 | verified | Jenna | Manhattan | Midtown | United States | US | False | Entire home/apt | 2007 | 142 | 28 | 12 | 45 | 4 | 2 |\n",
    "| 2 | 1003689 | Entire Apt: Spacious Studio/Loft by central park | 92037596077 | verified | Lyndon | Manhattan | East Harlem | United States | US | False | Entire home/apt | 2009 | 204 | 41 | 10 | 9 | 3 | 1 |\n",
    "| 3 | 1004098 | Large Cozy 1 BR Apartment In Midtown East | 45498551794 | verified | Michelle | Manhattan | Murray Hill | United States | US | True | Entire home/apt | 2013 | 577 | 115 | 3 | 74 | 3 | 1 |\n",
    "| 4 | 1005202 | BlissArtsSpace! | 90821839709 | unconfirmed | Emma | Brooklyn | Bedford-Stuyvesant | United States | US | False | Private room | 2009 | 1060 | 212 | 12 | 49 | 5 | 1 |"
   ]
  },
  {
   "cell_type": "markdown",
   "id": "aa03be9a",
   "metadata": {},
   "source": [
    "# Integrating Matplotlib with Other Libraries"
   ]
  },
  {
   "cell_type": "markdown",
   "id": "910eab44",
   "metadata": {},
   "source": [
    "# Using Matplotlib with Pandas"
   ]
  },
  {
   "cell_type": "markdown",
   "id": "e33fdd69",
   "metadata": {},
   "source": [
    "Pandas is a software library written for the Python programming language for data manipulation and analysis. In particular, it offers data structures and operations for manipulating numerical tables and time series."
   ]
  },
  {
   "cell_type": "markdown",
   "id": "dca5a187",
   "metadata": {},
   "source": [
    "Pandas DataFrames make it easy to manipulate data, and Matplotlib makes it easy to turn those data into informative visualizations."
   ]
  },
  {
   "cell_type": "markdown",
   "id": "89ac9836",
   "metadata": {},
   "source": [
    "Let’s say we want to visualize the distribution of prices in our Airbnb dataset. We can do this using a histogram, which is a type of bar chart that shows the frequency of a set of continuous or non-continuous numerical data."
   ]
  },
  {
   "cell_type": "code",
   "execution_count": null,
   "id": "b9ee0aac",
   "metadata": {},
   "outputs": [],
   "source": [
    "import pandas as pd\n",
    "import matplotlib.pyplot as plt\n",
    "\n",
    "# Plot a histogram of the 'price' column\n",
    "airbnb_df['price'].plot(kind='hist', rwidth=0.8, bins=30)\n",
    "plt.title('Distribution of Prices')\n",
    "plt.xlabel('Price')\n",
    "plt.ylabel('Number of Properties')\n",
    "plt.show()"
   ]
  },
  {
   "cell_type": "markdown",
   "id": "3f42d674",
   "metadata": {},
   "source": []
  },
  {
   "cell_type": "markdown",
   "id": "d14d8db3",
   "metadata": {},
   "source": [
    "In this example, We plot a histogram of the price column using the plot method of the DataFrame. The kind='hist' argument specifies that we want a histogram, rwidth=0.8 specifies the relative width of the bars, and bins=30 specifies that we want to divide our data into 30 bins."
   ]
  },
  {
   "cell_type": "markdown",
   "id": "63d8a640",
   "metadata": {},
   "source": [
    "This will give us a histogram where the x-axis represents different price ranges and the y-axis represents the number of properties in each price range."
   ]
  },
  {
   "cell_type": "markdown",
   "id": "19ac6620",
   "metadata": {},
   "source": [
    "# Using Matplotlib with NumPy"
   ]
  },
  {
   "cell_type": "markdown",
   "id": "4998070a",
   "metadata": {},
   "source": [
    "NumPy is a library for the Python programming language, adding support for large, multi-dimensional arrays and matrices, along with a large collection of high-level mathematical functions to operate on these arrays."
   ]
  },
  {
   "cell_type": "markdown",
   "id": "c5decebb",
   "metadata": {},
   "source": [
    "Matplotlib’s plots are built on the concept of arrays. So, it’s natural that NumPy, being a powerful tool for array computations, works well with Matplotlib."
   ]
  },
  {
   "cell_type": "markdown",
   "id": "30f219a5",
   "metadata": {},
   "source": [
    "First, let’s assume we have a column in our dataset called construction_year which represents the year each property was built. We might be interested in visualizing the distribution of these years to understand when most of the properties were built."
   ]
  },
  {
   "cell_type": "code",
   "execution_count": null,
   "id": "8848345c",
   "metadata": {},
   "outputs": [],
   "source": [
    "import numpy as np\n",
    "import pandas as pd\n",
    "import matplotlib.pyplot as plt\n",
    "from matplotlib.ticker import MaxNLocator\n",
    "\n",
    "plt.axes().xaxis.set_major_locator(MaxNLocator(integer=True))\n",
    "\n",
    "# Convert the 'construction_year' column to a NumPy array\n",
    "construction_years = airbnb_df['construction_year'].values\n",
    "\n",
    "# Remove NaN values\n",
    "construction_years = construction_years[~np.isnan(construction_years)]\n",
    "\n",
    "# Plot a histogram\n",
    "plt.hist(construction_years, bins='auto')\n",
    "plt.title('Distribution of Construction Years')\n",
    "plt.xlabel('Year')\n",
    "plt.ylabel('Number of Properties')\n",
    "plt.show()"
   ]
  },
  {
   "cell_type": "markdown",
   "id": "73eec3d3",
   "metadata": {},
   "source": []
  },
  {
   "cell_type": "markdown",
   "id": "590726d9",
   "metadata": {},
   "source": [
    "In this example, we’re first reading the Airbnb dataset into a Pandas DataFrame. We then convert the construction_year column to a NumPy array using the .values attribute."
   ]
  },
  {
   "cell_type": "markdown",
   "id": "1576b596",
   "metadata": {},
   "source": [
    "Next, we use NumPy’s isnan function to create a boolean mask of which values in our array are NaN (Not a Number), and then use the ~ operator to invert this mask. By indexing our array with this mask, we remove all NaN values."
   ]
  },
  {
   "cell_type": "markdown",
   "id": "cd546215",
   "metadata": {},
   "source": [
    "Finally, we plot a histogram of the construction years using Matplotlib’s hist function. The bins='auto' argument tells Matplotlib to automatically determine the best number of bins to use for our histogram."
   ]
  },
  {
   "cell_type": "markdown",
   "id": "1650b73d",
   "metadata": {},
   "source": [
    "# Basic Plotting with Matplotlib"
   ]
  },
  {
   "cell_type": "markdown",
   "id": "db989471",
   "metadata": {},
   "source": [
    "Matplotlib is a versatile library in Python for creating static, animated, and interactive visualizations. Let’s dive into some basic plotting techniques."
   ]
  },
  {
   "cell_type": "markdown",
   "id": "92f70d95",
   "metadata": {},
   "source": [
    "# Creating Simple Plots"
   ]
  },
  {
   "cell_type": "markdown",
   "id": "1d181824",
   "metadata": {},
   "source": [
    "# Line Plot"
   ]
  },
  {
   "cell_type": "markdown",
   "id": "5eb06c32",
   "metadata": {},
   "source": [
    "A line plot is often used to visualize a trend in data over intervals of time - a time series. Thus, the line plot is often used when the x-axis represents time."
   ]
  },
  {
   "cell_type": "markdown",
   "id": "e95318b1",
   "metadata": {},
   "source": [
    "For example, we may use a line plot to show the trend of the average price (price column) over the years (construction_year column)."
   ]
  },
  {
   "cell_type": "code",
   "execution_count": null,
   "id": "b2bf0ad5",
   "metadata": {},
   "outputs": [],
   "source": [
    "plt.axes().xaxis.set_major_locator(MaxNLocator(integer=True))\n",
    "\n",
    "# assuming df is your DataFrame and it has been imported properly\n",
    "avg_prices_per_year = airbnb_df.groupby('construction_year')['price'].mean()\n",
    "years = avg_prices_per_year.index\n",
    "prices = avg_prices_per_year.values\n",
    "\n",
    "plt.plot(years, prices)\n",
    "plt.xlabel('Year')\n",
    "plt.ylabel('Average Price')\n",
    "plt.title('Average Price Over the Years')\n",
    "plt.show()"
   ]
  },
  {
   "cell_type": "markdown",
   "id": "9b65f886",
   "metadata": {},
   "source": []
  },
  {
   "cell_type": "markdown",
   "id": "11882fd6",
   "metadata": {},
   "source": [
    "In that code, first we group the data by the construction year and calculate the average price in each grouped year. Next we get ready our x and y axis data points."
   ]
  },
  {
   "cell_type": "markdown",
   "id": "c2946d4b",
   "metadata": {},
   "source": [
    "- Thexvalues refer to the years, which is the index of our data.\n",
    "- Theyvalues refer to the average prices, which are the values of our data."
   ]
  },
  {
   "cell_type": "markdown",
   "id": "fa46264f",
   "metadata": {},
   "source": [
    "This line plot is showing us how the average price has changed over the years. The x-axis is the construction year and the y-axis the average price."
   ]
  },
  {
   "cell_type": "markdown",
   "id": "9f242be5",
   "metadata": {},
   "source": [
    "Points on the line connect the average price for each of the years, helping to visually demonstrate increases, decreases, or trends in the prices over time. This type of plot could help in understanding and predicting pricing trend, observing the price pattern based on the construction year, and so on."
   ]
  },
  {
   "cell_type": "markdown",
   "id": "d84c42db",
   "metadata": {},
   "source": [
    "# Scatter Plot"
   ]
  },
  {
   "cell_type": "markdown",
   "id": "6c0884d7",
   "metadata": {},
   "source": [
    "A scatter plot uses dots to represent values for two different numeric variables. The position of each dot on the horizontal and vertical axis indicates values for an individual data point. A scatter plot is used when trying to understand the relationship or correlation between two numerical variables."
   ]
  },
  {
   "cell_type": "markdown",
   "id": "614786ef",
   "metadata": {},
   "source": [
    "For example, Let’s say we are interested in seeing if there’s a correlation between the number_of_reviews and price. This would help us understand if the price influences the number of reviews a property receives."
   ]
  },
  {
   "cell_type": "code",
   "execution_count": null,
   "id": "78f71033",
   "metadata": {},
   "outputs": [],
   "source": [
    "reviews = airbnb_df['number_of_reviews'].values\n",
    "prices = airbnb_df['price'].values\n",
    "\n",
    "plt.scatter(reviews, prices)\n",
    "plt.xlabel('Number Of Reviews')\n",
    "plt.ylabel('Price')\n",
    "plt.title('Price vs Number Of Reviews')\n",
    "plt.show()"
   ]
  },
  {
   "cell_type": "markdown",
   "id": "747aad44",
   "metadata": {},
   "source": []
  },
  {
   "cell_type": "markdown",
   "id": "73ccbdd3",
   "metadata": {},
   "source": [
    "In that code, first we extract the number_of_reviews and price from each row in the DataFrame. Next we get ready our x and y axis data points."
   ]
  },
  {
   "cell_type": "markdown",
   "id": "5233105d",
   "metadata": {},
   "source": [
    "- Thexvalues refer to the reviews, which is the index of our data.\n",
    "- Theyvalues refer to the average prices, which are the values of our data."
   ]
  },
  {
   "cell_type": "markdown",
   "id": "11289312",
   "metadata": {},
   "source": [
    "By looking at the scatter plot, we can start to understand the relationship between these two variables."
   ]
  },
  {
   "cell_type": "markdown",
   "id": "d50c3ec1",
   "metadata": {},
   "source": [
    "- If the dots are close to forming a straight line that slopes up or down, there is a strong correlation between the variables.\n",
    "- If the dots are distributed randomly, there is a weak or no correlation."
   ]
  },
  {
   "cell_type": "markdown",
   "id": "e5d469c5",
   "metadata": {},
   "source": [
    "Based on the scatter plot, it can be concluded that there is a weak or non-existent correlation because the dots are distributed randomly."
   ]
  },
  {
   "cell_type": "markdown",
   "id": "3cf012d0",
   "metadata": {},
   "source": [
    "# Bar Chart"
   ]
  },
  {
   "cell_type": "markdown",
   "id": "e0e996b7",
   "metadata": {},
   "source": [
    "A bar chart or bar graph is a chart or graph that presents categorical data with rectangular bars with heights or lengths proportional to the values that they represent. Bar charts are great when you want to compare different categories of data. They are easy to read and can clearly display differences between categories."
   ]
  },
  {
   "cell_type": "markdown",
   "id": "d7888902",
   "metadata": {},
   "source": [
    "There may be certain categories in our Airbnb data that we are particularly interested in. One such category could be room_type. Let’s say we want to compare the average price for each room_type."
   ]
  },
  {
   "cell_type": "code",
   "execution_count": null,
   "id": "5afa9963",
   "metadata": {},
   "outputs": [],
   "source": [
    "avg_prices_per_room_type = airbnb_df.groupby('room_type')['price'].mean()\n",
    "room_types = avg_prices_per_room_type.index\n",
    "prices = avg_prices_per_room_type.values\n",
    "\n",
    "plt.bar(room_types, prices)\n",
    "plt.xlabel('Room Type')\n",
    "plt.ylabel('Average Price')\n",
    "plt.title('Average Price for Each Room Type')\n",
    "plt.show()"
   ]
  },
  {
   "cell_type": "markdown",
   "id": "269c0485",
   "metadata": {},
   "source": []
  },
  {
   "cell_type": "markdown",
   "id": "cf9d0584",
   "metadata": {},
   "source": [
    "In that code, we calculate the average price for each room_type. Then extract the x and y values: - The x-values, or bar labels, are room types - The y-values, or bar heights, are the average prices"
   ]
  },
  {
   "cell_type": "markdown",
   "id": "74a55b2d",
   "metadata": {},
   "source": [
    "In the final bar chart, each bar represents a different room type, and the height of the bar represents the average price of listings in that category. By looking at the chart, we can easily compare average prices among room types."
   ]
  },
  {
   "cell_type": "markdown",
   "id": "38c3e804",
   "metadata": {},
   "source": [
    "Based on the above results we can conclude that the room type Shared room has a higher average list price than the others."
   ]
  },
  {
   "cell_type": "markdown",
   "id": "a9af5a77",
   "metadata": {},
   "source": [
    "# Pie Chart"
   ]
  },
  {
   "cell_type": "markdown",
   "id": "7e55e6cd",
   "metadata": {},
   "source": [
    "Pie charts are useful when you want to visualize proportions of a whole. Each segment of the pie represents a separate data entity and the size of a segment (slice) is proportional to the quantity it represents."
   ]
  },
  {
   "cell_type": "markdown",
   "id": "14a3b9be",
   "metadata": {},
   "source": [
    "Consider we want to visualize the proportion of each room_type in our dataset."
   ]
  },
  {
   "cell_type": "code",
   "execution_count": null,
   "id": "5dfaf7b9",
   "metadata": {},
   "outputs": [],
   "source": [
    "room_type_counts = airbnb_df['room_type'].value_counts()\n",
    "room_types = room_type_counts.index\n",
    "counts = room_type_counts.values\n",
    "\n",
    "plt.pie(counts, labels=room_types, autopct='%1.1f%%')\n",
    "plt.title('Proportion of Each Room Type')\n",
    "plt.show()"
   ]
  },
  {
   "cell_type": "markdown",
   "id": "fe49f254",
   "metadata": {},
   "source": []
  },
  {
   "cell_type": "markdown",
   "id": "6097ea49",
   "metadata": {},
   "source": [
    "In that code, first we count the frequency of each unique room_type. Then extract the data - the segment labels are room types and segment sizes are the counts."
   ]
  },
  {
   "cell_type": "markdown",
   "id": "8e89f79f",
   "metadata": {},
   "source": [
    "In the generated pie chart, each slice of the pie represents a different room type. The size of each slice is proportional to the count of listings in that category. The autopct parameter allows us to display the percentage value of each slice."
   ]
  },
  {
   "cell_type": "markdown",
   "id": "d0b963db",
   "metadata": {},
   "source": [
    "Looking at the pie chart, we can easily understand the distribution of room types in the dataset. As it is seen that the Entire home/apt room type is much bigger than the others, we understand that this room type occupies a larger portion of the market. Therefore, insights can be drawn as to which room type is most common or rarest."
   ]
  },
  {
   "cell_type": "markdown",
   "id": "a471600b",
   "metadata": {},
   "source": [
    "# Customizing Plot Appearance with Matplotlib"
   ]
  },
  {
   "cell_type": "markdown",
   "id": "73bd4be4",
   "metadata": {},
   "source": [
    "Matplotlib provides several ways to customize the look of your plots. Different colors, markers and line styles can help make your plots more understandable and appealing."
   ]
  },
  {
   "cell_type": "markdown",
   "id": "fa6e2429",
   "metadata": {},
   "source": [
    "Let’s assume we are going to create a line plot of the average price (price column) over the years (construction_year column) as before. Here is how you can customize your plot."
   ]
  },
  {
   "cell_type": "markdown",
   "id": "00bae07e",
   "metadata": {},
   "source": [
    "# Colors"
   ]
  },
  {
   "cell_type": "markdown",
   "id": "95d49394",
   "metadata": {},
   "source": [
    "Color plays an important role in visualization. It helps to differentiate between different categories or data series, highlights essential parts of the plot, and also helps in setting the mood or context of the plot."
   ]
  },
  {
   "cell_type": "markdown",
   "id": "136aa7be",
   "metadata": {},
   "source": [
    "In Matplotlib, you can customize the color of almost any element of the chart (lines, bars, labels, backgrounds, etc.)."
   ]
  },
  {
   "cell_type": "markdown",
   "id": "9dda1947",
   "metadata": {},
   "source": [
    "There are several ways in which you can specify color:"
   ]
  },
  {
   "cell_type": "markdown",
   "id": "aefd1c42",
   "metadata": {},
   "source": [
    "Common colors"
   ]
  },
  {
   "cell_type": "markdown",
   "id": "cc7d85dc",
   "metadata": {},
   "source": [
    "Matplotlib supports common color names from the X11/CSS4 color spec. For example you can specify ‘blue’, ‘green’, ‘red’, ‘cyan’, ‘magenta’, ‘yellow’, ‘black’ (or ‘k’), ‘white’ (or ‘w’), and many more. py  plt.plot([1, 2, 3, 4], [1, 4, 2, 3], color='green')"
   ]
  },
  {
   "cell_type": "markdown",
   "id": "04641dce",
   "metadata": {},
   "source": [
    "Hex color codes"
   ]
  },
  {
   "cell_type": "markdown",
   "id": "226b2a59",
   "metadata": {},
   "source": [
    "You can specify colors using Hex color codes. py  plt.plot([1, 2, 3, 4], [1, 4, 2, 3], color='#FFDD44')   # gold color"
   ]
  },
  {
   "cell_type": "markdown",
   "id": "a395b804",
   "metadata": {},
   "source": [
    "RGB tuples"
   ]
  },
  {
   "cell_type": "markdown",
   "id": "39ab61de",
   "metadata": {},
   "source": [
    "You can also specify colors via RGB (Red/Green/Blue) tuples. Each value in tuple is the RGB value ranging from 0 (none of that color) to 1 (full intensity), py  plt.plot([1, 2, 3, 4], [1, 4, 2, 3], color=(0.1, 0.2, 0.5))  # RGB tuple"
   ]
  },
  {
   "cell_type": "markdown",
   "id": "8ec35827",
   "metadata": {},
   "source": [
    "Grayscale"
   ]
  },
  {
   "cell_type": "markdown",
   "id": "76441c9e",
   "metadata": {},
   "source": [
    "A single float in the 0-1 range creates a grayscale color. py  plt.plot([1, 2, 3, 4], [1, 4, 2, 3], color='0.75')   # a light shade of gray"
   ]
  },
  {
   "cell_type": "code",
   "execution_count": null,
   "id": "56a9d719",
   "metadata": {},
   "outputs": [],
   "source": [
    "plt.axes().xaxis.set_major_locator(MaxNLocator(integer=True))\n",
    "\n",
    "avg_prices_per_year = airbnb_df.groupby('construction_year')['price'].mean()\n",
    "\n",
    "plt.plot(avg_prices_per_year, color='red')\n",
    "plt.xlabel('Year')\n",
    "plt.ylabel('Average Price')\n",
    "plt.title('Average Price Over the Years')\n",
    "plt.show()"
   ]
  },
  {
   "cell_type": "markdown",
   "id": "1ffd618c",
   "metadata": {},
   "source": []
  },
  {
   "cell_type": "markdown",
   "id": "34decff9",
   "metadata": {},
   "source": [
    "# Markers"
   ]
  },
  {
   "cell_type": "markdown",
   "id": "534d7439",
   "metadata": {},
   "source": [
    "Markers are used in Matplotlib charts to indicate individual data points or values, particularly in line charts, scatter plots, and similar plotted charts."
   ]
  },
  {
   "cell_type": "markdown",
   "id": "0eca76c7",
   "metadata": {},
   "source": [
    "The marker style can be customized using the marker parameter in the plotting function. This helps differentiate between different data points in the plot, indicating the presence of a data point at an intersection of the x and y values."
   ]
  },
  {
   "cell_type": "markdown",
   "id": "730f7033",
   "metadata": {},
   "source": [
    "Here are several examples of how to use the marker parameter in a plot:"
   ]
  },
  {
   "cell_type": "markdown",
   "id": "eed733c9",
   "metadata": {},
   "source": [
    "Point Markers"
   ]
  },
  {
   "cell_type": "markdown",
   "id": "f3537ad5",
   "metadata": {},
   "source": [
    "The simplest case of a marker is a single point for each data point. You can specify this with the ‘o’ marker style. py  plt.plot([1, 2, 3, 4], [1, 4, 2, 3], marker='o')"
   ]
  },
  {
   "cell_type": "markdown",
   "id": "76921045",
   "metadata": {},
   "source": [
    "Plus Markers"
   ]
  },
  {
   "cell_type": "markdown",
   "id": "52160715",
   "metadata": {},
   "source": [
    "You can use a plus sign for each data point. You can specify this with the ‘+’ marker style. py  plt.plot([1, 2, 3, 4], [1, 4, 2, 3], marker='+')"
   ]
  },
  {
   "cell_type": "markdown",
   "id": "fed23717",
   "metadata": {},
   "source": [
    "Cross Markers"
   ]
  },
  {
   "cell_type": "markdown",
   "id": "150e6aa0",
   "metadata": {},
   "source": [
    "You can use a ‘x’ for each data point. You can specify this with the ‘x’ marker style. py  plt.plot([1, 2, 3, 4], [1, 4, 2, 3], marker='x')"
   ]
  },
  {
   "cell_type": "markdown",
   "id": "ca6461ce",
   "metadata": {},
   "source": [
    "Square Markers"
   ]
  },
  {
   "cell_type": "markdown",
   "id": "b7fc45b4",
   "metadata": {},
   "source": [
    "You can use a square block for each data point. You can specify this with the ‘s’ marker style. py  plt.plot([1, 2, 3, 4], [1, 4, 2, 3], marker='s')"
   ]
  },
  {
   "cell_type": "markdown",
   "id": "fab8f0f4",
   "metadata": {},
   "source": [
    "Diamond Markers"
   ]
  },
  {
   "cell_type": "markdown",
   "id": "0466c4a2",
   "metadata": {},
   "source": [
    "You can use a diamond shape for each data point. You can specify this with the ‘D’ marker style."
   ]
  },
  {
   "cell_type": "code",
   "execution_count": null,
   "id": "af58df8c",
   "metadata": {},
   "outputs": [],
   "source": [
    "plt.plot([1, 2, 3, 4], [1, 4, 2, 3], marker='D')"
   ]
  },
  {
   "cell_type": "code",
   "execution_count": null,
   "id": "8fdb856e",
   "metadata": {},
   "outputs": [],
   "source": [
    "plt.axes().xaxis.set_major_locator(MaxNLocator(integer=True))\n",
    "\n",
    "avg_prices_per_year = airbnb_df.groupby('construction_year')['price'].mean()\n",
    "\n",
    "plt.plot(avg_prices_per_year, marker='d')\n",
    "plt.xlabel('Year')\n",
    "plt.ylabel('Average Price')\n",
    "plt.title('Average Price Over the Years')\n",
    "plt.show()"
   ]
  },
  {
   "cell_type": "markdown",
   "id": "1582430d",
   "metadata": {},
   "source": []
  },
  {
   "cell_type": "markdown",
   "id": "eb2a8dad",
   "metadata": {},
   "source": [
    "# Line styles"
   ]
  },
  {
   "cell_type": "markdown",
   "id": "7d441b6f",
   "metadata": {},
   "source": [
    "Line styles are used in Matplotlib to modify the appearance of lines in the plots. This comes in handy when you want to distinguish between different lines in a multi-line plot or when you want to adjust the aesthetic aspect of a single line plot."
   ]
  },
  {
   "cell_type": "markdown",
   "id": "e38ab474",
   "metadata": {},
   "source": [
    "The linestyle parameter in the plotting function is used to customize the style of the line."
   ]
  },
  {
   "cell_type": "markdown",
   "id": "83954669",
   "metadata": {},
   "source": [
    "Here are a few examples of common line styles:"
   ]
  },
  {
   "cell_type": "markdown",
   "id": "8f38282e",
   "metadata": {},
   "source": [
    "Solid Lines"
   ]
  },
  {
   "cell_type": "markdown",
   "id": "faf9a2b7",
   "metadata": {},
   "source": [
    "Solid lines are the default style for lines in matplotlib. You can explicitly specify a solid line with the ‘-’ style. py  plt.plot([1, 2, 3, 4], [1, 4, 2, 3], linestyle='-')"
   ]
  },
  {
   "cell_type": "markdown",
   "id": "59311eeb",
   "metadata": {},
   "source": [
    "Dashed Lines"
   ]
  },
  {
   "cell_type": "markdown",
   "id": "3036458d",
   "metadata": {},
   "source": [
    "Dashed lines can be created using the ‘–’ line style. py  plt.plot([1, 2, 3, 4], [1, 4, 2, 3], linestyle='--')"
   ]
  },
  {
   "cell_type": "markdown",
   "id": "e3ccb1cd",
   "metadata": {},
   "source": [
    "Dotted Lines"
   ]
  },
  {
   "cell_type": "markdown",
   "id": "af098fc2",
   "metadata": {},
   "source": [
    "Dotted lines can be created using the ‘:’ line style. py  plt.plot([1, 2, 3, 4], [1, 4, 2, 3], linestyle=':')"
   ]
  },
  {
   "cell_type": "markdown",
   "id": "d162b085",
   "metadata": {},
   "source": [
    "Dash-dot Lines"
   ]
  },
  {
   "cell_type": "markdown",
   "id": "7df68c60",
   "metadata": {},
   "source": [
    "Dash-dot lines use the ‘-.’ style, which is a line with alternating dashes and dots. py  plt.plot([1, 2, 3, 4], [1, 4, 2, 3], linestyle='-.') You can also combine the use of line styles with other parameters to have more control over the appearance of the plot. For example, you can combine it with the linewidth parameter to adjust the thickness of the line: py  plt.plot([1, 2, 3, 4], [1, 4, 2, 3], linestyle='-.', linewidth=2)"
   ]
  },
  {
   "cell_type": "code",
   "execution_count": null,
   "id": "7dbd844b",
   "metadata": {},
   "outputs": [],
   "source": [
    "plt.axes().xaxis.set_major_locator(MaxNLocator(integer=True))\n",
    "\n",
    "avg_prices_per_year = airbnb_df.groupby('construction_year')['price'].mean()\n",
    "\n",
    "plt.plot(avg_prices_per_year, linestyle='--')\n",
    "plt.xlabel('Year')\n",
    "plt.ylabel('Average Price')\n",
    "plt.title('Average Price Over the Years')\n",
    "plt.show()"
   ]
  },
  {
   "cell_type": "markdown",
   "id": "98854b02",
   "metadata": {},
   "source": []
  },
  {
   "cell_type": "markdown",
   "id": "dd862890",
   "metadata": {},
   "source": [
    "# Combining color, marker and linestyle"
   ]
  },
  {
   "cell_type": "markdown",
   "id": "6fb9820b",
   "metadata": {},
   "source": [
    "You can combine color, marker and linestyle settings in your line plot. For example, to have a red dashed line plot with circular markers, you can write:"
   ]
  },
  {
   "cell_type": "code",
   "execution_count": null,
   "id": "647b4b2a",
   "metadata": {},
   "outputs": [],
   "source": [
    "plt.axes().xaxis.set_major_locator(MaxNLocator(integer=True))\n",
    "\n",
    "avg_prices_per_year = airbnb_df.groupby('construction_year')['price'].mean()\n",
    "\n",
    "plt.plot(avg_prices_per_year, color='red', marker='o', linestyle='--')\n",
    "plt.xlabel('Year')\n",
    "plt.ylabel('Average Price')\n",
    "plt.title('Average Price Over the Years')\n",
    "plt.show()"
   ]
  },
  {
   "cell_type": "markdown",
   "id": "bc1c917b",
   "metadata": {},
   "source": []
  },
  {
   "cell_type": "markdown",
   "id": "8bb19508",
   "metadata": {},
   "source": [
    "# Adding Titles, Labels, and Legends to Charts in Matplotlib"
   ]
  },
  {
   "cell_type": "markdown",
   "id": "ef8d503b",
   "metadata": {},
   "source": [
    "Adding informative titles, labels, and legends to your Matplotlib charts is crucial to help them convey their intended insights more effectively."
   ]
  },
  {
   "cell_type": "markdown",
   "id": "71007aab",
   "metadata": {},
   "source": [
    "# Titles"
   ]
  },
  {
   "cell_type": "markdown",
   "id": "f16019d4",
   "metadata": {},
   "source": [
    "Titles give an overview of what the plot is about. You add them using the title() function."
   ]
  },
  {
   "cell_type": "markdown",
   "id": "a855343d",
   "metadata": {},
   "source": [
    "For example, to add a title to a line plot for average price over years:"
   ]
  },
  {
   "cell_type": "code",
   "execution_count": null,
   "id": "63edda3a",
   "metadata": {},
   "outputs": [],
   "source": [
    "plt.axes().xaxis.set_major_locator(MaxNLocator(integer=True))\n",
    "\n",
    "avg_prices_per_year = airbnb_df.groupby('construction_year')['price'].mean()\n",
    "\n",
    "plt.plot(avg_prices_per_year)\n",
    "plt.title('Average Price Over Years')\n",
    "plt.show()"
   ]
  },
  {
   "cell_type": "markdown",
   "id": "c9eb8d59",
   "metadata": {},
   "source": []
  },
  {
   "cell_type": "markdown",
   "id": "7028da5e",
   "metadata": {},
   "source": [
    "# Labels"
   ]
  },
  {
   "cell_type": "markdown",
   "id": "4c39d588",
   "metadata": {},
   "source": [
    "Labels for x and y axes describe the variables that you’re plotting. You add them using the xlabel() and ylabel() functions."
   ]
  },
  {
   "cell_type": "markdown",
   "id": "08d3650e",
   "metadata": {},
   "source": [
    "For example, adding labels to the above plot:"
   ]
  },
  {
   "cell_type": "code",
   "execution_count": null,
   "id": "b7754c05",
   "metadata": {},
   "outputs": [],
   "source": [
    "plt.axes().xaxis.set_major_locator(MaxNLocator(integer=True))\n",
    "\n",
    "avg_prices_per_year = airbnb_df.groupby('construction_year')['price'].mean()\n",
    "\n",
    "plt.plot(avg_prices_per_year)\n",
    "plt.title('Average Price Over Years')\n",
    "plt.xlabel('Year')\n",
    "plt.ylabel('Average Price')\n",
    "plt.show()"
   ]
  },
  {
   "cell_type": "markdown",
   "id": "58d9e48a",
   "metadata": {},
   "source": []
  },
  {
   "cell_type": "markdown",
   "id": "f482e00a",
   "metadata": {},
   "source": [
    "# Legends"
   ]
  },
  {
   "cell_type": "markdown",
   "id": "80a251d7",
   "metadata": {},
   "source": [
    "Legends are used to explain what the different lines or bars in your graph are, especially when you have multiple plots on the same axes. You can create a legend for your plot using the legend() function."
   ]
  },
  {
   "cell_type": "markdown",
   "id": "12997bc5",
   "metadata": {},
   "source": [
    "Here’s an example where we plot two lines — average price and median price over years. In this plot, the label parameter in the plot() function is used to set the text for the legend. Then by calling plt.legend(), a legend is drawn on the plot."
   ]
  },
  {
   "cell_type": "code",
   "execution_count": null,
   "id": "4ac5a7c9",
   "metadata": {},
   "outputs": [],
   "source": [
    "plt.axes().xaxis.set_major_locator(MaxNLocator(integer=True))\n",
    "\n",
    "avg_prices_per_year = airbnb_df.groupby('construction_year')['price'].mean()\n",
    "median_prices_per_year = airbnb_df.groupby('construction_year')['price'].median()\n",
    "\n",
    "plt.plot(avg_prices_per_year, label='Average Price')\n",
    "plt.plot(median_prices_per_year, label='Median Price')\n",
    "plt.title('Price Over Years')\n",
    "plt.xlabel('Year')\n",
    "plt.ylabel('Price')\n",
    "plt.legend()\n",
    "plt.show()"
   ]
  },
  {
   "cell_type": "markdown",
   "id": "e8b5630d",
   "metadata": {},
   "source": []
  },
  {
   "cell_type": "markdown",
   "id": "420bd964",
   "metadata": {},
   "source": [
    "# Saving Plots to Files using Matplotlib"
   ]
  },
  {
   "cell_type": "markdown",
   "id": "42e4c622",
   "metadata": {},
   "source": [
    "Matplotlib provides the functionality to save the created plots or figures to image files which can be used later for various purposes including reports, presentations, or web content."
   ]
  },
  {
   "cell_type": "markdown",
   "id": "b2066e05",
   "metadata": {},
   "source": [
    "The savefig() function is used to save the current figure to a file. This function must be called before plt.show(), as the latter closes the figure window and discards its content."
   ]
  },
  {
   "cell_type": "markdown",
   "id": "3347bfcf",
   "metadata": {},
   "source": [
    "Here’s an example where we plot the average price over the years and then save the plot to a .png file:"
   ]
  },
  {
   "cell_type": "code",
   "execution_count": null,
   "id": "41d975f5",
   "metadata": {},
   "outputs": [],
   "source": [
    "plt.axes().xaxis.set_major_locator(MaxNLocator(integer=True))\n",
    "\n",
    "# Calculate average prices per year\n",
    "avg_prices_per_year = airbnb_df.groupby('construction_year')['price'].mean()\n",
    "\n",
    "# Create plot\n",
    "plt.plot(avg_prices_per_year)\n",
    "plt.title('Average Price Over Years')\n",
    "plt.xlabel('Year')\n",
    "plt.ylabel('Average Price')\n",
    "\n",
    "# Save plot to a file before showing it\n",
    "plt.savefig('average_price_over_years.png')\n",
    "\n",
    "# Now display the figure\n",
    "plt.show()"
   ]
  },
  {
   "cell_type": "markdown",
   "id": "9b610463",
   "metadata": {},
   "source": []
  },
  {
   "cell_type": "markdown",
   "id": "fcf7a16a",
   "metadata": {},
   "source": [
    "In this example, plt.savefig('average_price_over_years.png') saves the figure to a .png file in the current working directory with the name ‘average_price_over_years.png’."
   ]
  },
  {
   "cell_type": "markdown",
   "id": "3b6ab840",
   "metadata": {},
   "source": [
    "Some important parameters of savefig() are:"
   ]
  },
  {
   "cell_type": "markdown",
   "id": "2480df22",
   "metadata": {},
   "source": [
    "- dpi(dots per inches): This controls the quality (resolution) of the saved image. For example,plt.savefig('plot.png', dpi=300).\n",
    "- bbox_inches: This controls what part of the figure is saved. If you want to make sure your labels don’t get cut off, you can usebbox_inches='tight'."
   ]
  },
  {
   "cell_type": "markdown",
   "id": "97eb2fb9",
   "metadata": {},
   "source": [
    "dpi (dots per inches): This controls the quality (resolution) of the saved image. For example, plt.savefig('plot.png', dpi=300)."
   ]
  },
  {
   "cell_type": "markdown",
   "id": "1304a374",
   "metadata": {},
   "source": [
    "bbox_inches: This controls what part of the figure is saved. If you want to make sure your labels don’t get cut off, you can use bbox_inches='tight'."
   ]
  },
  {
   "cell_type": "markdown",
   "id": "935a653c",
   "metadata": {},
   "source": [
    "Saving your figures allows you to share your visualizations easily with others, or incorporate these visualizations into presentations or documents. It’s a crucial aspect for preserving your insights for later use."
   ]
  },
  {
   "cell_type": "markdown",
   "id": "f031e858",
   "metadata": {},
   "source": [
    "# Visualizing Multivariate Data"
   ]
  },
  {
   "cell_type": "markdown",
   "id": "6b4abb54",
   "metadata": {},
   "source": [
    "Visualizing multivariate data involves creating graphical representations of data with more than two variables. It is a crucial aspect of data analysis and machine learning, as it allows for a better understanding of the patterns, relationships, and structures within the data."
   ]
  },
  {
   "cell_type": "markdown",
   "id": "a4a63b72",
   "metadata": {},
   "source": [
    "# Pair plots and scatterplot matrices"
   ]
  },
  {
   "cell_type": "markdown",
   "id": "4114c06b",
   "metadata": {},
   "source": [
    "A Pair Plot is a compact way of visualizing the relationships between different pairs of variables in a multi-dimensional dataset. It’s a grid of scatter plots where each plot on the diagonal shows the distribution of a single variable while plots off the diagonal display the relationship (or lack thereof) between two variables."
   ]
  },
  {
   "cell_type": "markdown",
   "id": "c6a630ea",
   "metadata": {},
   "source": [
    "Here’s a more detailed breakdown:"
   ]
  },
  {
   "cell_type": "markdown",
   "id": "f92db7eb",
   "metadata": {},
   "source": [
    "Diagonal Plots: The plots on the diagonal of the Pair Plot matrix are usually univariate plots. For numerical data, these are typically histograms or kernel density plots. These plots are useful for seeing the distribution of a single variable."
   ]
  },
  {
   "cell_type": "markdown",
   "id": "2f280b01",
   "metadata": {},
   "source": [
    "Off-Diagonal Plots: The plots off the diagonal are bivariate plots where each plot shows the relationship between two variables. These are typically scatter plots. They are useful for seeing the relationships between variables. For example, you might see a positive trend between two variables, indicating they increase together, or a negative trend, indicating that as one variable increases, the other decreases."
   ]
  },
  {
   "cell_type": "markdown",
   "id": "48c994f3",
   "metadata": {},
   "source": [
    "Correlation: Pair Plots can be a quick way to see the correlation between variables. If there’s a strong positive or negative correlation between two variables, you’ll see a scatter plot that trends up or down. If there’s no correlation, the scatter plot will look random."
   ]
  },
  {
   "cell_type": "markdown",
   "id": "080574fb",
   "metadata": {},
   "source": [
    "Outliers: Pair Plots can also help identify outliers. If there are points that don’t fit the general trend in the scatter plot, these could be outliers."
   ]
  },
  {
   "cell_type": "markdown",
   "id": "6f3f456a",
   "metadata": {},
   "source": [
    "Variable Relationships: Pair Plots can help identify types of relationships between variables, whether they are linear or non-linear."
   ]
  },
  {
   "cell_type": "markdown",
   "id": "c52580ba",
   "metadata": {},
   "source": [
    "In Python, Pair Plots can be easily created using the seaborn library’s pairplot function. This function takes a DataFrame and returns a Pair Plot grid. You can customize the types of plots on and off the diagonal and color points by category."
   ]
  },
  {
   "cell_type": "code",
   "execution_count": null,
   "id": "e8656192",
   "metadata": {},
   "outputs": [],
   "source": [
    "import seaborn as sns\n",
    "import matplotlib.pyplot as plt\n",
    "import numpy as np\n",
    "\n",
    "# Select specific columns\n",
    "selected_columns = ['price', 'minimum_nights', 'number_of_reviews']\n",
    "\n",
    "# Create a pair plot\n",
    "sns.pairplot(airbnb_df[selected_columns])\n",
    "\n",
    "# Show the plot\n",
    "plt.show()"
   ]
  },
  {
   "cell_type": "markdown",
   "id": "7dde5b73",
   "metadata": {},
   "source": []
  },
  {
   "cell_type": "markdown",
   "id": "4eb57fdd",
   "metadata": {},
   "source": [
    "This will create a Pair Plot for the selected columns in the DataFrame. Each cell in the grid represents a pair of variables, and each point in the scatter plots represents a row in the DataFrame."
   ]
  },
  {
   "cell_type": "markdown",
   "id": "5aaece91",
   "metadata": {},
   "source": [
    "The diagonal plots are histograms that show the distribution of each variable. You can see the range of values and how they are distributed."
   ]
  },
  {
   "cell_type": "markdown",
   "id": "44632262",
   "metadata": {},
   "source": [
    "The off-diagonal plots are scatter plots that show the relationship between pairs of variables. You can see if there’s a positive or negative correlation between the variables, or if there’s no clear correlation."
   ]
  },
  {
   "cell_type": "markdown",
   "id": "090cb1ce",
   "metadata": {},
   "source": [
    "# Heatmaps and correlation matrices"
   ]
  },
  {
   "cell_type": "markdown",
   "id": "9a4c9e9c",
   "metadata": {},
   "source": [
    "# Heatmaps"
   ]
  },
  {
   "cell_type": "markdown",
   "id": "a5ca00af",
   "metadata": {},
   "source": [
    "A heatmap is a graphical representation of data where individual values contained in a matrix are represented as colors. It’s a way of visualizing a numeric table with colors, which can make it easier to understand complex data sets by visualizing trends, variances, and patterns."
   ]
  },
  {
   "cell_type": "markdown",
   "id": "313ef326",
   "metadata": {},
   "source": [
    "Heatmaps are particularly useful when you want to understand the landscape of a multivariate dataset - both the range of values in each variable and the relationships between different pairs of variables."
   ]
  },
  {
   "cell_type": "markdown",
   "id": "b3aa9223",
   "metadata": {},
   "source": [
    "# Correlation Matrices"
   ]
  },
  {
   "cell_type": "markdown",
   "id": "11e3f0a1",
   "metadata": {},
   "source": [
    "A correlation matrix is a specific type of heatmap that shows the correlation coefficients between sets of variables. Each row and column represents a different variable, and each cell in the matrix shows the correlation between two variables."
   ]
  },
  {
   "cell_type": "markdown",
   "id": "b19a2f82",
   "metadata": {},
   "source": [
    "The correlation coefficient is a statistical measure that calculates the strength of the relationship between the relative movements of two variables. The range of values for the correlation coefficient is -1.0 to 1.0."
   ]
  },
  {
   "cell_type": "markdown",
   "id": "4f0a5a9b",
   "metadata": {},
   "source": [
    "- A correlation of -1.0 shows a perfect negative correlation, while a correlation of 1.0 shows a perfect positive correlation.\n",
    "- A correlation of 0.0 shows no linear relationship between the movement of the two variables."
   ]
  },
  {
   "cell_type": "markdown",
   "id": "8b8cd7d6",
   "metadata": {},
   "source": [
    "# Creating a Correlation Matrix Heatmap"
   ]
  },
  {
   "cell_type": "markdown",
   "id": "6bfe1a36",
   "metadata": {},
   "source": [
    "In Python, you can use the Pandas library’s corr function to compute the correlation matrix of a DataFrame, and then use the seaborn library’s heatmap function to visualize the correlation matrix."
   ]
  },
  {
   "cell_type": "code",
   "execution_count": null,
   "id": "f374f746",
   "metadata": {},
   "outputs": [],
   "source": [
    "# Compute the correlation matrix\n",
    "corr = airbnb_df.corr(numeric_only=True)\n",
    "\n",
    "# Generate a mask for the upper triangle\n",
    "mask = np.ones_like(corr, dtype=np.bool_)\n",
    "mask[np.triu_indices_from(mask)] = False\n",
    "\n",
    "# Set up the matplotlib figure\n",
    "f, ax = plt.subplots(figsize=(11, 9))\n",
    "\n",
    "# Generate a custom diverging colormap\n",
    "cmap = sns.diverging_palette(230, 20, as_cmap=True)\n",
    "\n",
    "# Draw the heatmap with the mask and correct aspect ratio\n",
    "sns.heatmap(corr, mask=mask, cmap=cmap, vmax=.3, center=0,\n",
    "            square=True, linewidths=.5, cbar_kws={\"shrink\": .5})\n",
    "\n",
    "plt.show()"
   ]
  },
  {
   "cell_type": "markdown",
   "id": "14be0323",
   "metadata": {},
   "source": []
  },
  {
   "cell_type": "markdown",
   "id": "5b2bc808",
   "metadata": {},
   "source": [
    "In this heatmap, darker colors represent higher correlation coefficients. You can quickly see which pairs of variables are most strongly correlated."
   ]
  },
  {
   "cell_type": "markdown",
   "id": "ef9ca264",
   "metadata": {},
   "source": [
    "For example, you might find that the minimum night is strongly positively correlated with the number of listings a host has, indicating that hosts who require a higher minimum number of nights for their listings also tend to have a higher number of listings."
   ]
  },
  {
   "cell_type": "markdown",
   "id": "e96e0342",
   "metadata": {},
   "source": [
    "# Parallel coordinate plots"
   ]
  },
  {
   "cell_type": "markdown",
   "id": "a6211465",
   "metadata": {},
   "source": [
    "Parallel Coordinate Plots (PCPs) are a common way of visualizing and analyzing high-dimensional datasets. High dimensional means that the data has many attributes or variables, which can be hard to visualize in traditional scatter plots."
   ]
  },
  {
   "cell_type": "markdown",
   "id": "e670f88f",
   "metadata": {},
   "source": [
    "In a Parallel Coordinate Plot, each variable in the dataset is given its own axis and all the axes are placed in parallel to each other. Each data instance is represented as a line that crosses all the axes. The position where the line intersects each axis corresponds to the value of the instance in that particular variable."
   ]
  },
  {
   "cell_type": "markdown",
   "id": "bf6faca6",
   "metadata": {},
   "source": [
    "Here’s a more detailed breakdown:"
   ]
  },
  {
   "cell_type": "markdown",
   "id": "1c34d693",
   "metadata": {},
   "source": [
    "Axes: Each variable in your dataset gets its own axis. The axes are placed parallel to each other, usually in the order the variables appear in your dataset."
   ]
  },
  {
   "cell_type": "markdown",
   "id": "34592539",
   "metadata": {},
   "source": [
    "Lines: Each data instance (or row in your dataset) is represented as a line that crosses all the axes. The point where a line intersects an axis corresponds to the value of that instance for the variable represented by the axis."
   ]
  },
  {
   "cell_type": "markdown",
   "id": "dc3a4964",
   "metadata": {},
   "source": [
    "Interpretation: Lines that are close together for several axes indicate instances that have similar values for those variables. Clusters of lines can indicate groups of similar instances, and crossing lines can indicate inverse correlations between variables."
   ]
  },
  {
   "cell_type": "markdown",
   "id": "1ccc982c",
   "metadata": {},
   "source": [
    "Parallel Coordinate Plots are particularly useful when you want to visualize high-dimensional data and understand the relationships between different variables. They can help you identify trends, correlations, and patterns in your data, and they can also help you detect outliers."
   ]
  },
  {
   "cell_type": "markdown",
   "id": "95dc222d",
   "metadata": {},
   "source": [
    "In Python, you can use the Pandas library’s plotting.parallel_coordinates function to create Parallel Coordinate Plots."
   ]
  },
  {
   "cell_type": "code",
   "execution_count": null,
   "id": "28cb69c5",
   "metadata": {},
   "outputs": [],
   "source": [
    "from pandas.plotting import parallel_coordinates\n",
    "import matplotlib.pyplot as plt\n",
    "\n",
    "# Select a subset of the data\n",
    "subset = airbnb_df[['room_type', 'minimum_nights', 'number_of_reviews', 'calculated_host_listings_count']].copy()\n",
    "\n",
    "# Normalize the numerical columns so they're on the same scale\n",
    "cols_to_normalize = ['minimum_nights', 'number_of_reviews', 'calculated_host_listings_count']\n",
    "subset[cols_to_normalize] = (subset[cols_to_normalize] - subset[cols_to_normalize].min()) / (subset[cols_to_normalize].max() - subset[cols_to_normalize].min())\n",
    "\n",
    "# Create the plot\n",
    "parallel_coordinates(subset, 'room_type', colormap=plt.get_cmap(\"Set2\"))\n",
    "\n",
    "# Show the plot\n",
    "plt.show()"
   ]
  },
  {
   "cell_type": "markdown",
   "id": "ab43eac4",
   "metadata": {},
   "source": []
  },
  {
   "cell_type": "markdown",
   "id": "ae640367",
   "metadata": {},
   "source": [
    "In this plot, each line represents a listing. The color of the line corresponds to the room_type. The position where a line intersects an axis corresponds to the value of that listing for the variable represented by the axis."
   ]
  },
  {
   "cell_type": "markdown",
   "id": "6bb15398",
   "metadata": {},
   "source": [
    "You might see that listings of a certain room type tend to require longer minimum stays, have more reviews, or have a higher calculated host listings count. This can give you insights into the characteristics of different types of listings."
   ]
  },
  {
   "cell_type": "markdown",
   "id": "63881f97",
   "metadata": {},
   "source": [
    "# Radial charts and radar plots"
   ]
  },
  {
   "cell_type": "markdown",
   "id": "057a11bf",
   "metadata": {},
   "source": [
    "# Radial Charts"
   ]
  },
  {
   "cell_type": "markdown",
   "id": "de267c95",
   "metadata": {},
   "source": [
    "A radial chart, also known as a circular chart or a pie chart, represents data in a circular format. The circular representation is often used when we want to show a dataset as a proportion of a whole, where each slice of the pie represents a particular category."
   ]
  },
  {
   "cell_type": "markdown",
   "id": "6cbf4380",
   "metadata": {},
   "source": [
    "# Radar Plots"
   ]
  },
  {
   "cell_type": "markdown",
   "id": "8f70a7b7",
   "metadata": {},
   "source": [
    "Radar plots, also known as spider charts, web charts, or star plots, are a multivariate data display on a two-dimensional plot in a circular format. They are particularly useful when you want to visualize performance, measure the similarity between different entities, or visualize multivariate data."
   ]
  },
  {
   "cell_type": "markdown",
   "id": "7ecbf246",
   "metadata": {},
   "source": [
    "In a radar plot, each variable is given a separate axis that starts from the center of the circle and ends on the outer ring. All the axes are arranged radially around the center with equal distances between them. Each data point is plotted along its individual axis and a line is drawn connecting all the data points to form a polygon."
   ]
  },
  {
   "cell_type": "markdown",
   "id": "a7a7f591",
   "metadata": {},
   "source": [
    "Here’s a more detailed breakdown:"
   ]
  },
  {
   "cell_type": "markdown",
   "id": "319abbe4",
   "metadata": {},
   "source": [
    "Axes: Each variable in your dataset gets its own axis. The axes are arranged radially around a central point and are equally spaced."
   ]
  },
  {
   "cell_type": "markdown",
   "id": "c24d6995",
   "metadata": {},
   "source": [
    "Lines: Each data instance (or row in your dataset) is represented as a line that connects the data points on the axes. The point where a line intersects an axis corresponds to the value of that instance for the variable represented by the axis."
   ]
  },
  {
   "cell_type": "markdown",
   "id": "84e3a124",
   "metadata": {},
   "source": [
    "Polygons: The lines connecting the data points form a polygon. The shape of the polygon gives an idea of the pattern of the multivariate data."
   ]
  },
  {
   "cell_type": "markdown",
   "id": "12c46c4b",
   "metadata": {},
   "source": [
    "Interpretation: The closer the data points are to the outer edge of the circle, the higher the observed values. If the polygon is large and covers a large portion of the circle, that indicates high values for most or all variables. If the polygon is small and close to the center of the circle, that indicates low values."
   ]
  },
  {
   "cell_type": "code",
   "execution_count": null,
   "id": "ff6073aa",
   "metadata": {},
   "outputs": [],
   "source": [
    "import matplotlib.pyplot as plt\n",
    "import pandas as pd\n",
    "from math import pi\n",
    "\n",
    "# Select a subset of the data\n",
    "subset = airbnb_df[['price', 'minimum_nights', 'number_of_reviews', 'calculated_host_listings_count']].iloc[0]\n",
    "\n",
    "# Number of variables\n",
    "num_vars = len(subset)\n",
    "\n",
    "# Compute angle each axis will be on\n",
    "angles = [n / float(num_vars) * 2 * pi for n in range(num_vars)]\n",
    "angles += angles[:1]\n",
    "\n",
    "# Initialise the spider plot\n",
    "ax = plt.subplot(111, polar=True)\n",
    "\n",
    "# Draw one axe per variable + add labels\n",
    "plt.xticks(angles[:-1], subset.keys(), color='grey', size=8)\n",
    "\n",
    "# Draw ylabels\n",
    "ax.set_rlabel_position(0)\n",
    "plt.yticks([10,20,30], [\"10\",\"20\",\"30\"], color=\"grey\", size=7)\n",
    "plt.ylim(0,40)\n",
    "\n",
    "# Plot data\n",
    "values = subset.tolist()\n",
    "values += values[:1]\n",
    "ax.plot(angles, values, linewidth=1, linestyle='solid')\n",
    "\n",
    "# Fill area\n",
    "ax.fill(angles, values, 'b', alpha=0.1)\n",
    "\n",
    "plt.show()"
   ]
  },
  {
   "cell_type": "markdown",
   "id": "82848dc8",
   "metadata": {},
   "source": []
  },
  {
   "cell_type": "markdown",
   "id": "5e1832f8",
   "metadata": {},
   "source": [
    "In this plot, each axis represents a variable, and the polygon represents the values of a single listing. The closer a point is to the outer edge, the higher the value for that variable."
   ]
  },
  {
   "cell_type": "markdown",
   "id": "af1a56b0",
   "metadata": {},
   "source": [
    "# Exercise Visualization"
   ]
  },
  {
   "cell_type": "code",
   "execution_count": null,
   "id": "d5e02560",
   "metadata": {},
   "outputs": [],
   "source": [
    "!pip install rggrader"
   ]
  },
  {
   "cell_type": "code",
   "execution_count": null,
   "id": "d5af00bb",
   "metadata": {},
   "outputs": [],
   "source": [
    "# @title #### Student Identity\n",
    "student_id = \"your student id\" # @param {type:\"string\"}\n",
    "name = \"your name\" # @param {type:\"string\"}"
   ]
  },
  {
   "cell_type": "code",
   "execution_count": null,
   "id": "43acf839",
   "metadata": {},
   "outputs": [],
   "source": [
    "# @title #### 00. Neighbourhood Group Chart\n",
    "from rggrader import submit\n",
    "import pandas as pd\n",
    "import matplotlib.pyplot as plt\n",
    "\n",
    "# Use the following Airbnb data to display the distribution of various neighbourhood group in Airbnb listings.\n",
    "# https://storage.googleapis.com/rg-ai-bootcamp/visualization/airbnb-data.csv\n",
    "\n",
    "# TODO: Create a pie chart to visualize the distribution of these room types.\n",
    "# Put your code here:\n",
    "df = pd.read_csv('csv here')\n",
    "\n",
    "\n",
    "\n",
    "\n",
    "\n",
    "# ---- End of your code ----\n",
    "\n",
    "# Submit Method\n",
    "assignment_id = \"00_visualization\"\n",
    "question_id = \"00_neighbourhood_group_chart\"\n",
    "submit(student_id, name, assignment_id, neighbourhood_group_counts.to_string(), question_id)\n",
    "\n",
    "# Expected Output:\n",
    "# Pie chart of distribution of room types with the following\n",
    "# Manhattan 46.6%\n",
    "# Brooklyn 44.6%\n",
    "# Queens 7.0%\n",
    "# Bronx 1.1%\n",
    "# Staten Island 0.7%"
   ]
  },
  {
   "cell_type": "code",
   "execution_count": null,
   "id": "6a1f5690",
   "metadata": {},
   "outputs": [],
   "source": [
    "# @title #### 01. Top 10 Neighbourhood with the most listings Chart\n",
    "from rggrader import submit\n",
    "import pandas as pd\n",
    "import matplotlib.pyplot as plt\n",
    "\n",
    "# Use the following Airbnb data to display the top 10 neighourhood with the most listings\n",
    "# https://storage.googleapis.com/rg-ai-bootcamp/visualization/airbnb-data.csv\n",
    "\n",
    "# TODO: Create a bar chart to visualize the top 10 neighbourhood with the most listings\n",
    "# Put your code here:\n",
    "df = pd.read_csv('csv here')\n",
    "\n",
    "# Get top 10 neighborhoods with the most listings\n",
    "top_neighbourhoods = none\n",
    "\n",
    "\n",
    "\n",
    "\n",
    "# ---- End of your code ----\n",
    "\n",
    "# Submit Method\n",
    "assignment_id = \"00_visualization\"\n",
    "question_id = \"01_top_10_neighbourhood_chart\"\n",
    "submit(student_id, name, assignment_id, top_neighbourhoods.to_string(), question_id)\n",
    "\n",
    "# Expected Output:\n",
    "# Barchart with the following neighbourhood\n",
    "# Williamsburg, Bedford-Stuyvesant, Harlem, East Village, Upper West Side, Crown Heights, Greenpoint, Upper East Side, Bushwick, Chelsea"
   ]
  }
 ],
 "metadata": {},
 "nbformat": 4,
 "nbformat_minor": 5
}
