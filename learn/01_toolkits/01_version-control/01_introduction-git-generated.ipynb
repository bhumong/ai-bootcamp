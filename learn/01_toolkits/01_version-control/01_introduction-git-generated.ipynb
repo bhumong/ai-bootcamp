{
 "cells": [
  {
   "cell_type": "markdown",
   "id": "7ef35169",
   "metadata": {},
   "source": [
    "# Git Introduction"
   ]
  },
  {
   "cell_type": "markdown",
   "id": "66d0e5f2",
   "metadata": {},
   "source": []
  },
  {
   "cell_type": "markdown",
   "id": "b46fc67c",
   "metadata": {},
   "source": [
    "![Image](https://storage.googleapis.com/rg-ai-bootcamp/toolkits/git-intro-min.png)"
   ]
  },
  {
   "cell_type": "markdown",
   "id": "6dda743d",
   "metadata": {},
   "source": [
    "# What is Git?"
   ]
  },
  {
   "cell_type": "markdown",
   "id": "1e7d45c2",
   "metadata": {},
   "source": [
    "Git is a distributed Version Control System (VCS) for managing files in folders (Repository/Repo). The file change history is saved using a series of commits."
   ]
  },
  {
   "cell_type": "markdown",
   "id": "42a01ada",
   "metadata": {},
   "source": [
    "By using Git we can make several changed versions of a file without duplicating the existing file or Save As. For example, in programming, we create a login feature. Usually, we will create the program file in the 📁 login folder and the folder is in the repository:"
   ]
  },
  {
   "cell_type": "markdown",
   "id": "e5d5ff7f",
   "metadata": {},
   "source": [
    "It can be seen that the login folder has been monitored and changes are saved as a series of commits (commit) by Git as changes/revisions are made. A series of commits is a version of each change that occurred (snapshot). If we open one of the commit points, we will see some important information when we make changes to each version, namely:"
   ]
  },
  {
   "cell_type": "markdown",
   "id": "bf290489",
   "metadata": {},
   "source": [
    "Here are some things that differentiate Git from other VCS:"
   ]
  },
  {
   "cell_type": "markdown",
   "id": "82badc66",
   "metadata": {},
   "source": [
    "# Snapshots, Not Differences"
   ]
  },
  {
   "cell_type": "markdown",
   "id": "f2117d4a",
   "metadata": {},
   "source": [
    "Conceptually, most VCS save a set of changes file-based or what is usually referred to as delta-based version control"
   ]
  },
  {
   "cell_type": "markdown",
   "id": "72af5c50",
   "metadata": {},
   "source": []
  },
  {
   "cell_type": "markdown",
   "id": "b0ef93bd",
   "metadata": {},
   "source": [
    "![Image](https://storage.googleapis.com/rg-ai-bootcamp/toolkits/deltas.png)"
   ]
  },
  {
   "cell_type": "markdown",
   "id": "eec89b23",
   "metadata": {},
   "source": [
    "Deltas (Source: git-scm.com)"
   ]
  },
  {
   "cell_type": "markdown",
   "id": "4657cdb8",
   "metadata": {},
   "source": [
    "However, Git does not store its data this way. Git treats its data as a series of snapshots. So, every time you commit a project, Git will take a snapshot of all files and save it. If the file has not changed, Git will not save the file again, it will only link to a file that is identical to the previous file it saved. This will create a snapshot stream. So doing one commit means we create one snapshot"
   ]
  },
  {
   "cell_type": "markdown",
   "id": "bc1827a3",
   "metadata": {},
   "source": []
  },
  {
   "cell_type": "markdown",
   "id": "1732f573",
   "metadata": {},
   "source": [
    "![Image](https://storage.googleapis.com/rg-ai-bootcamp/toolkits/snapshots.png)"
   ]
  },
  {
   "cell_type": "markdown",
   "id": "797a444d",
   "metadata": {},
   "source": [
    "Snapshots (Source: git-scm.com)"
   ]
  },
  {
   "cell_type": "markdown",
   "id": "6578ee14",
   "metadata": {},
   "source": [
    "This is an important difference between Git and other VCS. This makes Git more like a mini file system with some tools rather than just a regular VCS."
   ]
  },
  {
   "cell_type": "markdown",
   "id": "6d520cd6",
   "metadata": {},
   "source": [
    "# Nearly Every Operation Is Local"
   ]
  },
  {
   "cell_type": "markdown",
   "id": "5c3384eb",
   "metadata": {},
   "source": [
    "Git has the entire project history on local disk, this makes most operations in Git very fast. How did it happen? 😲"
   ]
  },
  {
   "cell_type": "markdown",
   "id": "714da979",
   "metadata": {},
   "source": [
    "For example, to browse the history (history) of changes from a project, Git does not need to go to the server to get the history and display it, Git simply reads it directly from the local database. This means seeing the history of the project almost instantly."
   ]
  },
  {
   "cell_type": "markdown",
   "id": "83546ece",
   "metadata": {},
   "source": [
    "The interesting thing is that a lot can be done offline. For example, when we get on a plane or train and want to do a little work, we can commit (commit) easily until we get an internet connection and upload it to the server."
   ]
  },
  {
   "cell_type": "markdown",
   "id": "558b4168",
   "metadata": {},
   "source": [
    "# Git Has Integrity"
   ]
  },
  {
   "cell_type": "markdown",
   "id": "351b78b7",
   "metadata": {},
   "source": [
    "We will not lose any information during transit or get file corruption without being detected by Git because the mechanism Git uses for checksumming is hash SHA-1. This is a 40-character string consisting of hexadecimal characters (0–9 and a–f) and is calculated based on the contents of a file or directory structure in Git. Hash example:"
   ]
  },
  {
   "cell_type": "code",
   "execution_count": null,
   "id": "df813d31",
   "metadata": {},
   "outputs": [],
   "source": [
    "24b9da6552252987aa493b52f8696cd6d3b00373"
   ]
  },
  {
   "cell_type": "markdown",
   "id": "6400ee56",
   "metadata": {},
   "source": [
    "We’ll see this hash value all over the place in Git. Git stores everything in its database based on its hash value."
   ]
  },
  {
   "cell_type": "markdown",
   "id": "44f75548",
   "metadata": {},
   "source": [
    "# Git Generally Only Adds Data"
   ]
  },
  {
   "cell_type": "markdown",
   "id": "614c6867",
   "metadata": {},
   "source": [
    "When doing activities in Git, almost everything is just adding data to the Git database. Like any VCS, Git can lose or break uncommitted changes, but once you commit them to Git, it’s very difficult to lose them, especially if you regularly upload them to a repository on a server, such as Github. or Gitlab."
   ]
  },
  {
   "cell_type": "markdown",
   "id": "3f50d626",
   "metadata": {},
   "source": [
    "# The Three States"
   ]
  },
  {
   "cell_type": "markdown",
   "id": "ae55c7b8",
   "metadata": {},
   "source": [
    "The main thing to remember is that Git has 3 states where files are: modified, staged, and committed:"
   ]
  },
  {
   "cell_type": "markdown",
   "id": "b6dbb343",
   "metadata": {},
   "source": [
    "This brings us to the three main parts of a Git project: Working tree, Staging area, and Git directory."
   ]
  },
  {
   "cell_type": "markdown",
   "id": "a3792380",
   "metadata": {},
   "source": [
    " Areas (Source: git-scm.com)"
   ]
  },
  {
   "cell_type": "markdown",
   "id": "90760819",
   "metadata": {},
   "source": [
    "![Image](https://storage.googleapis.com/rg-ai-bootcamp/toolkits/areas.png)"
   ]
  },
  {
   "cell_type": "markdown",
   "id": "06dc6a26",
   "metadata": {},
   "source": [
    "# Install Git"
   ]
  },
  {
   "cell_type": "markdown",
   "id": "5be08670",
   "metadata": {},
   "source": [
    "# Mac And Linux"
   ]
  },
  {
   "cell_type": "markdown",
   "id": "fb19aae7",
   "metadata": {},
   "source": [
    "For Mac and various Linux distros, Git is usually installed automatically. You can check this by running git --version in the terminal."
   ]
  },
  {
   "cell_type": "markdown",
   "id": "ef1e8b65",
   "metadata": {},
   "source": [
    "If you don’t find Git on your Linux distro, please check [this] link (https://git-scm.com/download/linux) for the installation guide according to the distro you are using."
   ]
  },
  {
   "cell_type": "markdown",
   "id": "fa8001a8",
   "metadata": {},
   "source": [
    "# Windows"
   ]
  },
  {
   "cell_type": "markdown",
   "id": "1bfc286a",
   "metadata": {},
   "source": [
    "For Windows, you can install Git by downloading the installation here."
   ]
  },
  {
   "cell_type": "markdown",
   "id": "81083b1c",
   "metadata": {},
   "source": [
    "After installing you can use Git Bash or Command Line Window to use Git."
   ]
  },
  {
   "cell_type": "markdown",
   "id": "8238a53c",
   "metadata": {},
   "source": [
    "# Basic Config"
   ]
  },
  {
   "cell_type": "markdown",
   "id": "8dce7ff0",
   "metadata": {},
   "source": [
    "# First-Time Git Setup"
   ]
  },
  {
   "cell_type": "markdown",
   "id": "5b72f9a7",
   "metadata": {},
   "source": [
    "After the Git installation is complete, we can do several things to adjust the environment in Git. This tool is called git config which allows us to set variable configurations (setting) for all aspects of the appearance and operation of Git. Among them:"
   ]
  },
  {
   "cell_type": "markdown",
   "id": "779b261b",
   "metadata": {},
   "source": [
    "~/.gitconfig file: This is specific only to the user in question. We can make Git read and write to this file specifically by providing the --global option."
   ]
  },
  {
   "cell_type": "markdown",
   "id": "343dd8c2",
   "metadata": {},
   "source": [
    "config file in the git directory (.git/config) or whatever repository is being used: This is specific to that repository only. Each config at the level closest to the code (source code) will always override the config that has been set at the upper level."
   ]
  },
  {
   "cell_type": "markdown",
   "id": "ae85fbc8",
   "metadata": {},
   "source": [
    "We can see all the settings and where they come from using the command:"
   ]
  },
  {
   "cell_type": "code",
   "execution_count": null,
   "id": "1b98fcc3",
   "metadata": {},
   "outputs": [],
   "source": [
    "[user@localhost]$ git config --list --show-origin"
   ]
  },
  {
   "cell_type": "markdown",
   "id": "e2dd5e2f",
   "metadata": {},
   "source": [
    "# Git global setup"
   ]
  },
  {
   "cell_type": "markdown",
   "id": "7759959e",
   "metadata": {},
   "source": [
    "The first thing to do after installing Git is to set up a username and email address. This is important because every commit with Git will use this information."
   ]
  },
  {
   "cell_type": "code",
   "execution_count": null,
   "id": "c1166d42",
   "metadata": {},
   "outputs": [],
   "source": [
    "[user@localhost]$ git config --global user.name \"Aditira Jamhuri\"\n",
    "[user@localhost]$ git config --global user.email \"[email protected]\""
   ]
  },
  {
   "cell_type": "markdown",
   "id": "fd0aae0a",
   "metadata": {},
   "source": [
    "# Editors"
   ]
  },
  {
   "cell_type": "markdown",
   "id": "58975b6d",
   "metadata": {},
   "source": [
    "Now that the identity is set, we can configure the default text editor to use when Git needs it. If not configured, Git will use the default editor. If we want to use a different text editor, such as VSCode, we can do the command:"
   ]
  },
  {
   "cell_type": "code",
   "execution_count": null,
   "id": "ee13657d",
   "metadata": {},
   "outputs": [],
   "source": [
    "[user@localhost]$ git config --global core.editor \"code --wait\""
   ]
  },
  {
   "cell_type": "markdown",
   "id": "6960dc00",
   "metadata": {},
   "source": [
    "More details for settings text editor are here"
   ]
  },
  {
   "cell_type": "markdown",
   "id": "adad242e",
   "metadata": {},
   "source": [
    "# Default branch name"
   ]
  },
  {
   "cell_type": "markdown",
   "id": "1628d510",
   "metadata": {},
   "source": [
    "By default, Git will create a branch named master when we create a new repository with git init. From Git version 2.28 onwards, we can set a different initial branch name. For example, we can change the initial branch name to main:"
   ]
  },
  {
   "cell_type": "code",
   "execution_count": null,
   "id": "1d259082",
   "metadata": {},
   "outputs": [],
   "source": [
    "[user@localhost]$ git config --global init.defaultBranch main"
   ]
  },
  {
   "cell_type": "markdown",
   "id": "1a09c301",
   "metadata": {},
   "source": [
    "# Checking Your Settings"
   ]
  },
  {
   "cell_type": "markdown",
   "id": "9db13600",
   "metadata": {},
   "source": [
    "If we want to check settings, we can use the git config --list command to see a list of all existing settings:"
   ]
  },
  {
   "cell_type": "code",
   "execution_count": null,
   "id": "5ba8b99c",
   "metadata": {},
   "outputs": [],
   "source": [
    "[user@localhost]$ git config --list\n",
    "user.name=Aditira\n",
    "[email protected]\n",
    "color. status=auto\n",
    "color. branch=auto\n",
    "color.interactive=auto\n",
    "color. diff=auto\n",
    "..."
   ]
  },
  {
   "cell_type": "markdown",
   "id": "3ca287b1",
   "metadata": {},
   "source": [
    "We can also see value with certain keywords, by typing git config <key>, for example:"
   ]
  },
  {
   "cell_type": "code",
   "execution_count": null,
   "id": "be2779ae",
   "metadata": {},
   "outputs": [],
   "source": [
    "[user@localhost]$ git config user.name\n",
    "Aditya"
   ]
  }
 ],
 "metadata": {},
 "nbformat": 4,
 "nbformat_minor": 5
}
