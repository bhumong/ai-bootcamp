{
 "cells": [
  {
   "cell_type": "markdown",
   "id": "bcfe9d17",
   "metadata": {},
   "source": [
    "# Git Introduction"
   ]
  },
  {
   "cell_type": "markdown",
   "id": "91e8fd46",
   "metadata": {},
   "source": []
  },
  {
   "cell_type": "markdown",
   "id": "5eeba7ff",
   "metadata": {},
   "source": [
    "# What is Git?"
   ]
  },
  {
   "cell_type": "markdown",
   "id": "3b71f288",
   "metadata": {},
   "source": [
    "Git is a distributed Version Control System (VCS) for managing files in folders (Repository/Repo). The file change history is saved using a series of commits."
   ]
  },
  {
   "cell_type": "markdown",
   "id": "10644c20",
   "metadata": {},
   "source": [
    "By using Git we can make several changed versions of a file without duplicating the existing file or Save As. For example, in programming, we create a login feature. Usually, we will create the program file in the 📁 login folder and the folder is in the repository:"
   ]
  },
  {
   "cell_type": "markdown",
   "id": "abc25f3f",
   "metadata": {},
   "source": [
    "It can be seen that the login folder has been monitored and changes are saved as a series of commits (commit) by Git as changes/revisions are made. A series of commits is a version of each change that occurred (snapshot). If we open one of the commit points, we will see some important information when we make changes to each version, namely:"
   ]
  },
  {
   "cell_type": "markdown",
   "id": "0d77f65d",
   "metadata": {},
   "source": [
    "Here are some things that differentiate Git from other VCS:"
   ]
  },
  {
   "cell_type": "markdown",
   "id": "66187c5b",
   "metadata": {},
   "source": [
    "# Snapshots, Not Differences"
   ]
  },
  {
   "cell_type": "markdown",
   "id": "3369164e",
   "metadata": {},
   "source": [
    "Conceptually, most VCS save a set of changes file-based or what is usually referred to as delta-based version control"
   ]
  },
  {
   "cell_type": "markdown",
   "id": "6e5be4fc",
   "metadata": {},
   "source": []
  },
  {
   "cell_type": "markdown",
   "id": "2b466515",
   "metadata": {},
   "source": [
    "Deltas (Source: git-scm.com)"
   ]
  },
  {
   "cell_type": "markdown",
   "id": "e159d5b4",
   "metadata": {},
   "source": [
    "However, Git does not store its data this way. Git treats its data as a series of snapshots. So, every time you commit a project, Git will take a snapshot of all files and save it. If the file has not changed, Git will not save the file again, it will only link to a file that is identical to the previous file it saved. This will create a snapshot stream. So doing one commit means we create one snapshot"
   ]
  },
  {
   "cell_type": "markdown",
   "id": "6af987c2",
   "metadata": {},
   "source": []
  },
  {
   "cell_type": "markdown",
   "id": "9258f132",
   "metadata": {},
   "source": [
    "Snapshots (Source: git-scm.com)"
   ]
  },
  {
   "cell_type": "markdown",
   "id": "fc26ed03",
   "metadata": {},
   "source": [
    "This is an important difference between Git and other VCS. This makes Git more like a mini file system with some tools rather than just a regular VCS."
   ]
  },
  {
   "cell_type": "markdown",
   "id": "129d4710",
   "metadata": {},
   "source": [
    "# Nearly Every Operation Is Local"
   ]
  },
  {
   "cell_type": "markdown",
   "id": "a882b171",
   "metadata": {},
   "source": [
    "Git has the entire project history on local disk, this makes most operations in Git very fast. How did it happen? 😲"
   ]
  },
  {
   "cell_type": "markdown",
   "id": "7279a8a0",
   "metadata": {},
   "source": [
    "For example, to browse the history (history) of changes from a project, Git does not need to go to the server to get the history and display it, Git simply reads it directly from the local database. This means seeing the history of the project almost instantly."
   ]
  },
  {
   "cell_type": "markdown",
   "id": "012b15ad",
   "metadata": {},
   "source": [
    "The interesting thing is that a lot can be done offline. For example, when we get on a plane or train and want to do a little work, we can commit (commit) easily until we get an internet connection and upload it to the server."
   ]
  },
  {
   "cell_type": "markdown",
   "id": "e1c04c77",
   "metadata": {},
   "source": [
    "# Git Has Integrity"
   ]
  },
  {
   "cell_type": "markdown",
   "id": "98aca03b",
   "metadata": {},
   "source": [
    "We will not lose any information during transit or get file corruption without being detected by Git because the mechanism Git uses for checksumming is hash SHA-1. This is a 40-character string consisting of hexadecimal characters (0–9 and a–f) and is calculated based on the contents of a file or directory structure in Git. Hash example:"
   ]
  },
  {
   "cell_type": "code",
   "execution_count": null,
   "id": "5769a15e",
   "metadata": {},
   "outputs": [],
   "source": [
    "24b9da6552252987aa493b52f8696cd6d3b00373"
   ]
  },
  {
   "cell_type": "markdown",
   "id": "b46903af",
   "metadata": {},
   "source": [
    "We’ll see this hash value all over the place in Git. Git stores everything in its database based on its hash value."
   ]
  },
  {
   "cell_type": "markdown",
   "id": "e4edce8b",
   "metadata": {},
   "source": [
    "# Git Generally Only Adds Data"
   ]
  },
  {
   "cell_type": "markdown",
   "id": "57f5bc89",
   "metadata": {},
   "source": [
    "When doing activities in Git, almost everything is just adding data to the Git database. Like any VCS, Git can lose or break uncommitted changes, but once you commit them to Git, it’s very difficult to lose them, especially if you regularly upload them to a repository on a server, such as Github. or Gitlab."
   ]
  },
  {
   "cell_type": "markdown",
   "id": "87be6b3f",
   "metadata": {},
   "source": [
    "# The Three States"
   ]
  },
  {
   "cell_type": "markdown",
   "id": "9a5d45e4",
   "metadata": {},
   "source": [
    "The main thing to remember is that Git has 3 states where files are: modified, staged, and committed:"
   ]
  },
  {
   "cell_type": "markdown",
   "id": "ec80955a",
   "metadata": {},
   "source": [
    "This brings us to the three main parts of a Git project: Working tree, Staging area, and Git directory."
   ]
  },
  {
   "cell_type": "markdown",
   "id": "9445fcbb",
   "metadata": {},
   "source": [
    " Areas (Source: git-scm.com)"
   ]
  },
  {
   "cell_type": "markdown",
   "id": "2ec2bbfe",
   "metadata": {},
   "source": [
    "# Install Git"
   ]
  },
  {
   "cell_type": "markdown",
   "id": "b9df7834",
   "metadata": {},
   "source": [
    "# Mac And Linux"
   ]
  },
  {
   "cell_type": "markdown",
   "id": "6a35a5f3",
   "metadata": {},
   "source": [
    "For Mac and various Linux distros, Git is usually installed automatically. You can check this by running git --version in the terminal."
   ]
  },
  {
   "cell_type": "markdown",
   "id": "7d7c076c",
   "metadata": {},
   "source": [
    "If you don’t find Git on your Linux distro, please check [this] link (https://git-scm.com/download/linux) for the installation guide according to the distro you are using."
   ]
  },
  {
   "cell_type": "markdown",
   "id": "fb81e52c",
   "metadata": {},
   "source": [
    "# Windows"
   ]
  },
  {
   "cell_type": "markdown",
   "id": "d676e1a0",
   "metadata": {},
   "source": [
    "For Windows, you can install Git by downloading the installation here."
   ]
  },
  {
   "cell_type": "markdown",
   "id": "404fa8b0",
   "metadata": {},
   "source": [
    "After installing you can use Git Bash or Command Line Window to use Git."
   ]
  },
  {
   "cell_type": "markdown",
   "id": "94385880",
   "metadata": {},
   "source": [
    "# Basic Config"
   ]
  },
  {
   "cell_type": "markdown",
   "id": "0acb8025",
   "metadata": {},
   "source": [
    "# First-Time Git Setup"
   ]
  },
  {
   "cell_type": "markdown",
   "id": "4d68f30b",
   "metadata": {},
   "source": [
    "After the Git installation is complete, we can do several things to adjust the environment in Git. This tool is called git config which allows us to set variable configurations (setting) for all aspects of the appearance and operation of Git. Among them:"
   ]
  },
  {
   "cell_type": "markdown",
   "id": "f5457142",
   "metadata": {},
   "source": [
    "~/.gitconfig file: This is specific only to the user in question. We can make Git read and write to this file specifically by providing the --global option."
   ]
  },
  {
   "cell_type": "markdown",
   "id": "bd634516",
   "metadata": {},
   "source": [
    "config file in the git directory (.git/config) or whatever repository is being used: This is specific to that repository only. Each config at the level closest to the code (source code) will always override the config that has been set at the upper level."
   ]
  },
  {
   "cell_type": "markdown",
   "id": "c802c90a",
   "metadata": {},
   "source": [
    "We can see all the settings and where they come from using the command:"
   ]
  },
  {
   "cell_type": "code",
   "execution_count": null,
   "id": "4ad3ceed",
   "metadata": {},
   "outputs": [],
   "source": [
    "[user@localhost]$ git config --list --show-origin"
   ]
  },
  {
   "cell_type": "markdown",
   "id": "7f961296",
   "metadata": {},
   "source": [
    "# Git global setup"
   ]
  },
  {
   "cell_type": "markdown",
   "id": "ba6c09bf",
   "metadata": {},
   "source": [
    "The first thing to do after installing Git is to set up a username and email address. This is important because every commit with Git will use this information."
   ]
  },
  {
   "cell_type": "code",
   "execution_count": null,
   "id": "59d0b464",
   "metadata": {},
   "outputs": [],
   "source": [
    "[user@localhost]$ git config --global user.name \"Aditira Jamhuri\"\n",
    "[user@localhost]$ git config --global user.email \"[email protected]\""
   ]
  },
  {
   "cell_type": "markdown",
   "id": "2730f6cd",
   "metadata": {},
   "source": [
    "# Editors"
   ]
  },
  {
   "cell_type": "markdown",
   "id": "fe1dbb77",
   "metadata": {},
   "source": [
    "Now that the identity is set, we can configure the default text editor to use when Git needs it. If not configured, Git will use the default editor. If we want to use a different text editor, such as VSCode, we can do the command:"
   ]
  },
  {
   "cell_type": "code",
   "execution_count": null,
   "id": "2a0f086a",
   "metadata": {},
   "outputs": [],
   "source": [
    "[user@localhost]$ git config --global core.editor \"code --wait\""
   ]
  },
  {
   "cell_type": "markdown",
   "id": "44bb5dc6",
   "metadata": {},
   "source": [
    "More details for settings text editor are here"
   ]
  },
  {
   "cell_type": "markdown",
   "id": "28ef5330",
   "metadata": {},
   "source": [
    "# Default branch name"
   ]
  },
  {
   "cell_type": "markdown",
   "id": "2711d912",
   "metadata": {},
   "source": [
    "By default, Git will create a branch named master when we create a new repository with git init. From Git version 2.28 onwards, we can set a different initial branch name. For example, we can change the initial branch name to main:"
   ]
  },
  {
   "cell_type": "code",
   "execution_count": null,
   "id": "78652aae",
   "metadata": {},
   "outputs": [],
   "source": [
    "[user@localhost]$ git config --global init.defaultBranch main"
   ]
  },
  {
   "cell_type": "markdown",
   "id": "5c8b6d51",
   "metadata": {},
   "source": [
    "# Checking Your Settings"
   ]
  },
  {
   "cell_type": "markdown",
   "id": "e8c13244",
   "metadata": {},
   "source": [
    "If we want to check settings, we can use the git config --list command to see a list of all existing settings:"
   ]
  },
  {
   "cell_type": "code",
   "execution_count": null,
   "id": "25d73690",
   "metadata": {},
   "outputs": [],
   "source": [
    "[user@localhost]$ git config --list\n",
    "user.name=Aditira\n",
    "[email protected]\n",
    "color. status=auto\n",
    "color. branch=auto\n",
    "color.interactive=auto\n",
    "color. diff=auto\n",
    "..."
   ]
  },
  {
   "cell_type": "markdown",
   "id": "c2808c50",
   "metadata": {},
   "source": [
    "We can also see value with certain keywords, by typing git config <key>, for example:"
   ]
  },
  {
   "cell_type": "code",
   "execution_count": null,
   "id": "5e43a815",
   "metadata": {},
   "outputs": [],
   "source": [
    "[user@localhost]$ git config user.name\n",
    "Aditya"
   ]
  }
 ],
 "metadata": {},
 "nbformat": 4,
 "nbformat_minor": 5
}
