{
 "cells": [
  {
   "cell_type": "markdown",
   "id": "4505ef48",
   "metadata": {},
   "source": [
    "source: [link](https://ai-bootcamp.ruangguru.com/learn/01_toolkits/01_version-control/01_introduction-git.html)"
   ]
  },
  {
   "cell_type": "markdown",
   "id": "17c96ba2",
   "metadata": {},
   "source": [
    "# Git Introduction"
   ]
  },
  {
   "cell_type": "markdown",
   "id": "7a9ae096",
   "metadata": {},
   "source": []
  },
  {
   "cell_type": "markdown",
   "id": "9720fd73",
   "metadata": {},
   "source": [
    "![Image](https://storage.googleapis.com/rg-ai-bootcamp/toolkits/git-intro-min.png)"
   ]
  },
  {
   "cell_type": "markdown",
   "id": "e8998917",
   "metadata": {},
   "source": [
    "# What is Git?"
   ]
  },
  {
   "cell_type": "markdown",
   "id": "a069aa89",
   "metadata": {},
   "source": [
    "Git is a distributed Version Control System (VCS) for managing files in folders (Repository/Repo). The file change history is saved using a series of commits."
   ]
  },
  {
   "cell_type": "markdown",
   "id": "75089d5b",
   "metadata": {},
   "source": [
    "By using Git we can make several changed versions of a file without duplicating the existing file or Save As. For example, in programming, we create a login feature. Usually, we will create the program file in the 📁 login folder and the folder is in the repository:"
   ]
  },
  {
   "cell_type": "markdown",
   "id": "4fd92e35",
   "metadata": {},
   "source": [
    "It can be seen that the login folder has been monitored and changes are saved as a series of commits (commit) by Git as changes/revisions are made. A series of commits is a version of each change that occurred (snapshot). If we open one of the commit points, we will see some important information when we make changes to each version, namely:"
   ]
  },
  {
   "cell_type": "markdown",
   "id": "3ea13ed4",
   "metadata": {},
   "source": [
    "Here are some things that differentiate Git from other VCS:"
   ]
  },
  {
   "cell_type": "markdown",
   "id": "183922ac",
   "metadata": {},
   "source": [
    "# Snapshots, Not Differences"
   ]
  },
  {
   "cell_type": "markdown",
   "id": "d4fc6474",
   "metadata": {},
   "source": [
    "Conceptually, most VCS save a set of changes file-based or what is usually referred to as delta-based version control"
   ]
  },
  {
   "cell_type": "markdown",
   "id": "3f96abac",
   "metadata": {},
   "source": []
  },
  {
   "cell_type": "markdown",
   "id": "c18baac7",
   "metadata": {},
   "source": [
    "![Image](https://storage.googleapis.com/rg-ai-bootcamp/toolkits/deltas.png)"
   ]
  },
  {
   "cell_type": "markdown",
   "id": "c08559bc",
   "metadata": {},
   "source": [
    "Deltas (Source: git-scm.com)"
   ]
  },
  {
   "cell_type": "markdown",
   "id": "4d1305e3",
   "metadata": {},
   "source": [
    "However, Git does not store its data this way. Git treats its data as a series of snapshots. So, every time you commit a project, Git will take a snapshot of all files and save it. If the file has not changed, Git will not save the file again, it will only link to a file that is identical to the previous file it saved. This will create a snapshot stream. So doing one commit means we create one snapshot"
   ]
  },
  {
   "cell_type": "markdown",
   "id": "95ca8a7b",
   "metadata": {},
   "source": []
  },
  {
   "cell_type": "markdown",
   "id": "d6e25706",
   "metadata": {},
   "source": [
    "![Image](https://storage.googleapis.com/rg-ai-bootcamp/toolkits/snapshots.png)"
   ]
  },
  {
   "cell_type": "markdown",
   "id": "fab69ef8",
   "metadata": {},
   "source": [
    "Snapshots (Source: git-scm.com)"
   ]
  },
  {
   "cell_type": "markdown",
   "id": "8d76a9c9",
   "metadata": {},
   "source": [
    "This is an important difference between Git and other VCS. This makes Git more like a mini file system with some tools rather than just a regular VCS."
   ]
  },
  {
   "cell_type": "markdown",
   "id": "44d2fb01",
   "metadata": {},
   "source": [
    "# Nearly Every Operation Is Local"
   ]
  },
  {
   "cell_type": "markdown",
   "id": "2ac9e1cc",
   "metadata": {},
   "source": [
    "Git has the entire project history on local disk, this makes most operations in Git very fast. How did it happen? 😲"
   ]
  },
  {
   "cell_type": "markdown",
   "id": "daf2e753",
   "metadata": {},
   "source": [
    "For example, to browse the history (history) of changes from a project, Git does not need to go to the server to get the history and display it, Git simply reads it directly from the local database. This means seeing the history of the project almost instantly."
   ]
  },
  {
   "cell_type": "markdown",
   "id": "c596b203",
   "metadata": {},
   "source": [
    "The interesting thing is that a lot can be done offline. For example, when we get on a plane or train and want to do a little work, we can commit (commit) easily until we get an internet connection and upload it to the server."
   ]
  },
  {
   "cell_type": "markdown",
   "id": "3e6c6fbc",
   "metadata": {},
   "source": [
    "# Git Has Integrity"
   ]
  },
  {
   "cell_type": "markdown",
   "id": "244ad0e9",
   "metadata": {},
   "source": [
    "We will not lose any information during transit or get file corruption without being detected by Git because the mechanism Git uses for checksumming is hash SHA-1. This is a 40-character string consisting of hexadecimal characters (0–9 and a–f) and is calculated based on the contents of a file or directory structure in Git. Hash example:"
   ]
  },
  {
   "cell_type": "code",
   "execution_count": null,
   "id": "61d354c6",
   "metadata": {},
   "outputs": [],
   "source": [
    "24b9da6552252987aa493b52f8696cd6d3b00373"
   ]
  },
  {
   "cell_type": "markdown",
   "id": "cc8569fb",
   "metadata": {},
   "source": [
    "We’ll see this hash value all over the place in Git. Git stores everything in its database based on its hash value."
   ]
  },
  {
   "cell_type": "markdown",
   "id": "2c6166e2",
   "metadata": {},
   "source": [
    "# Git Generally Only Adds Data"
   ]
  },
  {
   "cell_type": "markdown",
   "id": "d36bdae3",
   "metadata": {},
   "source": [
    "When doing activities in Git, almost everything is just adding data to the Git database. Like any VCS, Git can lose or break uncommitted changes, but once you commit them to Git, it’s very difficult to lose them, especially if you regularly upload them to a repository on a server, such as Github. or Gitlab."
   ]
  },
  {
   "cell_type": "markdown",
   "id": "c3389845",
   "metadata": {},
   "source": [
    "# The Three States"
   ]
  },
  {
   "cell_type": "markdown",
   "id": "9e155dca",
   "metadata": {},
   "source": [
    "The main thing to remember is that Git has 3 states where files are: modified, staged, and committed:"
   ]
  },
  {
   "cell_type": "markdown",
   "id": "47087ba5",
   "metadata": {},
   "source": [
    "This brings us to the three main parts of a Git project: Working tree, Staging area, and Git directory."
   ]
  },
  {
   "cell_type": "markdown",
   "id": "944fd583",
   "metadata": {},
   "source": [
    " Areas (Source: git-scm.com)"
   ]
  },
  {
   "cell_type": "markdown",
   "id": "5d5cb30d",
   "metadata": {},
   "source": [
    "![Image](https://storage.googleapis.com/rg-ai-bootcamp/toolkits/areas.png)"
   ]
  },
  {
   "cell_type": "markdown",
   "id": "cb3a5cdb",
   "metadata": {},
   "source": [
    "# Install Git"
   ]
  },
  {
   "cell_type": "markdown",
   "id": "007f4e22",
   "metadata": {},
   "source": [
    "# Mac And Linux"
   ]
  },
  {
   "cell_type": "markdown",
   "id": "7f2e76f9",
   "metadata": {},
   "source": [
    "For Mac and various Linux distros, Git is usually installed automatically. You can check this by running git --version in the terminal."
   ]
  },
  {
   "cell_type": "markdown",
   "id": "4a9f7ffc",
   "metadata": {},
   "source": [
    "If you don’t find Git on your Linux distro, please check [this] link (https://git-scm.com/download/linux) for the installation guide according to the distro you are using."
   ]
  },
  {
   "cell_type": "markdown",
   "id": "eacee6b6",
   "metadata": {},
   "source": [
    "# Windows"
   ]
  },
  {
   "cell_type": "markdown",
   "id": "1b357a42",
   "metadata": {},
   "source": [
    "For Windows, you can install Git by downloading the installation here."
   ]
  },
  {
   "cell_type": "markdown",
   "id": "d65a309b",
   "metadata": {},
   "source": [
    "After installing you can use Git Bash or Command Line Window to use Git."
   ]
  },
  {
   "cell_type": "markdown",
   "id": "60bf089f",
   "metadata": {},
   "source": [
    "# Basic Config"
   ]
  },
  {
   "cell_type": "markdown",
   "id": "1a0dcb0a",
   "metadata": {},
   "source": [
    "# First-Time Git Setup"
   ]
  },
  {
   "cell_type": "markdown",
   "id": "b5987276",
   "metadata": {},
   "source": [
    "After the Git installation is complete, we can do several things to adjust the environment in Git. This tool is called git config which allows us to set variable configurations (setting) for all aspects of the appearance and operation of Git. Among them:"
   ]
  },
  {
   "cell_type": "markdown",
   "id": "15e1a5dc",
   "metadata": {},
   "source": [
    "~/.gitconfig file: This is specific only to the user in question. We can make Git read and write to this file specifically by providing the --global option."
   ]
  },
  {
   "cell_type": "markdown",
   "id": "9dedb69a",
   "metadata": {},
   "source": [
    "config file in the git directory (.git/config) or whatever repository is being used: This is specific to that repository only. Each config at the level closest to the code (source code) will always override the config that has been set at the upper level."
   ]
  },
  {
   "cell_type": "markdown",
   "id": "cc241847",
   "metadata": {},
   "source": [
    "We can see all the settings and where they come from using the command:"
   ]
  },
  {
   "cell_type": "code",
   "execution_count": null,
   "id": "46b649bf",
   "metadata": {},
   "outputs": [],
   "source": [
    "[user@localhost]$ git config --list --show-origin"
   ]
  },
  {
   "cell_type": "markdown",
   "id": "b8c9d053",
   "metadata": {},
   "source": [
    "# Git global setup"
   ]
  },
  {
   "cell_type": "markdown",
   "id": "4c4d8022",
   "metadata": {},
   "source": [
    "The first thing to do after installing Git is to set up a username and email address. This is important because every commit with Git will use this information."
   ]
  },
  {
   "cell_type": "code",
   "execution_count": null,
   "id": "c7a03779",
   "metadata": {},
   "outputs": [],
   "source": [
    "[user@localhost]$ git config --global user.name \"Aditira Jamhuri\"\n",
    "[user@localhost]$ git config --global user.email \"[email protected]\""
   ]
  },
  {
   "cell_type": "markdown",
   "id": "f857e133",
   "metadata": {},
   "source": [
    "# Editors"
   ]
  },
  {
   "cell_type": "markdown",
   "id": "116b57a9",
   "metadata": {},
   "source": [
    "Now that the identity is set, we can configure the default text editor to use when Git needs it. If not configured, Git will use the default editor. If we want to use a different text editor, such as VSCode, we can do the command:"
   ]
  },
  {
   "cell_type": "code",
   "execution_count": null,
   "id": "8022d0c2",
   "metadata": {},
   "outputs": [],
   "source": [
    "[user@localhost]$ git config --global core.editor \"code --wait\""
   ]
  },
  {
   "cell_type": "markdown",
   "id": "f5328b26",
   "metadata": {},
   "source": [
    "More details for settings text editor are here"
   ]
  },
  {
   "cell_type": "markdown",
   "id": "d964ccab",
   "metadata": {},
   "source": [
    "# Default branch name"
   ]
  },
  {
   "cell_type": "markdown",
   "id": "730b4ab3",
   "metadata": {},
   "source": [
    "By default, Git will create a branch named master when we create a new repository with git init. From Git version 2.28 onwards, we can set a different initial branch name. For example, we can change the initial branch name to main:"
   ]
  },
  {
   "cell_type": "code",
   "execution_count": null,
   "id": "b1312b60",
   "metadata": {},
   "outputs": [],
   "source": [
    "[user@localhost]$ git config --global init.defaultBranch main"
   ]
  },
  {
   "cell_type": "markdown",
   "id": "aa297507",
   "metadata": {},
   "source": [
    "# Checking Your Settings"
   ]
  },
  {
   "cell_type": "markdown",
   "id": "52372b6e",
   "metadata": {},
   "source": [
    "If we want to check settings, we can use the git config --list command to see a list of all existing settings:"
   ]
  },
  {
   "cell_type": "code",
   "execution_count": null,
   "id": "02460901",
   "metadata": {},
   "outputs": [],
   "source": [
    "[user@localhost]$ git config --list\n",
    "user.name=Aditira\n",
    "[email protected]\n",
    "color. status=auto\n",
    "color. branch=auto\n",
    "color.interactive=auto\n",
    "color. diff=auto\n",
    "..."
   ]
  },
  {
   "cell_type": "markdown",
   "id": "f2e7d8fc",
   "metadata": {},
   "source": [
    "We can also see value with certain keywords, by typing git config <key>, for example:"
   ]
  },
  {
   "cell_type": "code",
   "execution_count": null,
   "id": "06624824",
   "metadata": {},
   "outputs": [],
   "source": [
    "[user@localhost]$ git config user.name\n",
    "Aditya"
   ]
  }
 ],
 "metadata": {},
 "nbformat": 4,
 "nbformat_minor": 5
}
