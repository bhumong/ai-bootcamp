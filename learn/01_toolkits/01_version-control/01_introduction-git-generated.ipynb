{
 "cells": [
  {
   "cell_type": "markdown",
   "id": "e547574d",
   "metadata": {},
   "source": [
    "source: [https://ai-bootcamp.ruangguru.com/learn/01_toolkits/01_version-control/01_introduction-git.html](https://ai-bootcamp.ruangguru.com/learn/01_toolkits/01_version-control/01_introduction-git.html)"
   ]
  },
  {
   "cell_type": "markdown",
   "id": "dfca9454",
   "metadata": {},
   "source": [
    "# Git Introduction"
   ]
  },
  {
   "cell_type": "markdown",
   "id": "612964e3",
   "metadata": {},
   "source": []
  },
  {
   "cell_type": "markdown",
   "id": "84b1a110",
   "metadata": {},
   "source": [
    "![Image](https://storage.googleapis.com/rg-ai-bootcamp/toolkits/git-intro-min.png)"
   ]
  },
  {
   "cell_type": "markdown",
   "id": "411d8fc6",
   "metadata": {},
   "source": [
    "# What is Git?"
   ]
  },
  {
   "cell_type": "markdown",
   "id": "763ff0c0",
   "metadata": {},
   "source": [
    "Git is a distributed Version Control System (VCS) for managing files in folders (Repository/Repo). The file change history is saved using a series of commits."
   ]
  },
  {
   "cell_type": "markdown",
   "id": "95ff28c7",
   "metadata": {},
   "source": [
    "By using Git we can make several changed versions of a file without duplicating the existing file or Save As. For example, in programming, we create a login feature. Usually, we will create the program file in the 📁 login folder and the folder is in the repository:"
   ]
  },
  {
   "cell_type": "markdown",
   "id": "64d64f9c",
   "metadata": {},
   "source": [
    "- 📁 applications (repositories)⬇🔵: “feat: initialize project” (commit)⬇🔵: “feat: added view for login and register” (commit)⬇🔵: “feat: create controller user” (commit)⬇🔵: “fix: fix error in email input format” (commit)⬇🔴⟼Peek at saved information:Commit:6bebc5658521d98f3eeadb42362e43bc072f0273Author:User[email protected]Date:Tue Jun 28 2022 18:53:48 GMT+0700 (Western Indonesia Time)Messages:feat: create authentication and authorization models⬇🔵: …📁 login\n",
    "- ⬇🔵: “feat: initialize project” (commit)\n",
    "- ⬇🔵: “feat: added view for login and register” (commit)\n",
    "- ⬇🔵: “feat: create controller user” (commit)\n",
    "- ⬇🔵: “fix: fix error in email input format” (commit)\n",
    "- ⬇🔴⟼Peek at saved information:Commit:6bebc5658521d98f3eeadb42362e43bc072f0273Author:User[email protected]Date:Tue Jun 28 2022 18:53:48 GMT+0700 (Western Indonesia Time)Messages:feat: create authentication and authorization models\n",
    "- Commit:6bebc5658521d98f3eeadb42362e43bc072f0273\n",
    "- Author:User[email protected]\n",
    "- Date:Tue Jun 28 2022 18:53:48 GMT+0700 (Western Indonesia Time)\n",
    "- Messages:feat: create authentication and authorization models\n",
    "- ⬇🔵: …\n",
    "- 📁 login"
   ]
  },
  {
   "cell_type": "markdown",
   "id": "1d46ff00",
   "metadata": {},
   "source": [
    "- ⬇🔵: “feat: initialize project” (commit)\n",
    "- ⬇🔵: “feat: added view for login and register” (commit)\n",
    "- ⬇🔵: “feat: create controller user” (commit)\n",
    "- ⬇🔵: “fix: fix error in email input format” (commit)\n",
    "- ⬇🔴⟼Peek at saved information:Commit:6bebc5658521d98f3eeadb42362e43bc072f0273Author:User[email protected]Date:Tue Jun 28 2022 18:53:48 GMT+0700 (Western Indonesia Time)Messages:feat: create authentication and authorization models\n",
    "- Commit:6bebc5658521d98f3eeadb42362e43bc072f0273\n",
    "- Author:User[email protected]\n",
    "- Date:Tue Jun 28 2022 18:53:48 GMT+0700 (Western Indonesia Time)\n",
    "- Messages:feat: create authentication and authorization models\n",
    "- ⬇🔵: …\n",
    "- 📁 login"
   ]
  },
  {
   "cell_type": "markdown",
   "id": "e589493b",
   "metadata": {},
   "source": [
    "- Commit:6bebc5658521d98f3eeadb42362e43bc072f0273\n",
    "- Author:User[email protected]\n",
    "- Date:Tue Jun 28 2022 18:53:48 GMT+0700 (Western Indonesia Time)\n",
    "- Messages:feat: create authentication and authorization models"
   ]
  },
  {
   "cell_type": "markdown",
   "id": "b6db3317",
   "metadata": {},
   "source": [
    "It can be seen that the login folder has been monitored and changes are saved as a series of commits (commit) by Git as changes/revisions are made. A series of commits is a version of each change that occurred (snapshot). If we open one of the commit points, we will see some important information when we make changes to each version, namely:"
   ]
  },
  {
   "cell_type": "markdown",
   "id": "af567a8a",
   "metadata": {},
   "source": [
    "- Commit: hash/ID as a marker for eachcommitso that it can be tracked.\n",
    "- Author: the person who did thecommit(this will be useful when we work with a team).\n",
    "- Date: time ofcommit\n",
    "- Messages: messages from eachcommit, this is very important because it will tell you what has been done in eachcommit"
   ]
  },
  {
   "cell_type": "markdown",
   "id": "7bc4d8b8",
   "metadata": {},
   "source": [
    "Here are some things that differentiate Git from other VCS:"
   ]
  },
  {
   "cell_type": "markdown",
   "id": "894601e6",
   "metadata": {},
   "source": [
    "# Snapshots, Not Differences"
   ]
  },
  {
   "cell_type": "markdown",
   "id": "fa75999a",
   "metadata": {},
   "source": [
    "Conceptually, most VCS save a set of changes file-based or what is usually referred to as delta-based version control"
   ]
  },
  {
   "cell_type": "markdown",
   "id": "78a59dd1",
   "metadata": {},
   "source": []
  },
  {
   "cell_type": "markdown",
   "id": "be81e7ed",
   "metadata": {},
   "source": [
    "![Image](https://storage.googleapis.com/rg-ai-bootcamp/toolkits/deltas.png)"
   ]
  },
  {
   "cell_type": "markdown",
   "id": "68722e98",
   "metadata": {},
   "source": [
    "Deltas (Source: git-scm.com)"
   ]
  },
  {
   "cell_type": "markdown",
   "id": "98aa110f",
   "metadata": {},
   "source": [
    "However, Git does not store its data this way. Git treats its data as a series of snapshots. So, every time you commit a project, Git will take a snapshot of all files and save it. If the file has not changed, Git will not save the file again, it will only link to a file that is identical to the previous file it saved. This will create a snapshot stream. So doing one commit means we create one snapshot"
   ]
  },
  {
   "cell_type": "markdown",
   "id": "1f612b4f",
   "metadata": {},
   "source": []
  },
  {
   "cell_type": "markdown",
   "id": "d33c2bd9",
   "metadata": {},
   "source": [
    "![Image](https://storage.googleapis.com/rg-ai-bootcamp/toolkits/snapshots.png)"
   ]
  },
  {
   "cell_type": "markdown",
   "id": "2395136e",
   "metadata": {},
   "source": [
    "Snapshots (Source: git-scm.com)"
   ]
  },
  {
   "cell_type": "markdown",
   "id": "96c0f979",
   "metadata": {},
   "source": [
    "This is an important difference between Git and other VCS. This makes Git more like a mini file system with some tools rather than just a regular VCS."
   ]
  },
  {
   "cell_type": "markdown",
   "id": "88c750b1",
   "metadata": {},
   "source": [
    "# Nearly Every Operation Is Local"
   ]
  },
  {
   "cell_type": "markdown",
   "id": "31324065",
   "metadata": {},
   "source": [
    "Git has the entire project history on local disk, this makes most operations in Git very fast. How did it happen? 😲"
   ]
  },
  {
   "cell_type": "markdown",
   "id": "68c53c5e",
   "metadata": {},
   "source": [
    "For example, to browse the history (history) of changes from a project, Git does not need to go to the server to get the history and display it, Git simply reads it directly from the local database. This means seeing the history of the project almost instantly."
   ]
  },
  {
   "cell_type": "markdown",
   "id": "57488e05",
   "metadata": {},
   "source": [
    "The interesting thing is that a lot can be done offline. For example, when we get on a plane or train and want to do a little work, we can commit (commit) easily until we get an internet connection and upload it to the server."
   ]
  },
  {
   "cell_type": "markdown",
   "id": "c2ff246c",
   "metadata": {},
   "source": [
    "# Git Has Integrity"
   ]
  },
  {
   "cell_type": "markdown",
   "id": "a9ec3c51",
   "metadata": {},
   "source": [
    "We will not lose any information during transit or get file corruption without being detected by Git because the mechanism Git uses for checksumming is hash SHA-1. This is a 40-character string consisting of hexadecimal characters (0–9 and a–f) and is calculated based on the contents of a file or directory structure in Git. Hash example:"
   ]
  },
  {
   "cell_type": "code",
   "execution_count": null,
   "id": "fab4e957",
   "metadata": {},
   "outputs": [],
   "source": [
    "24b9da6552252987aa493b52f8696cd6d3b00373"
   ]
  },
  {
   "cell_type": "markdown",
   "id": "c93deeeb",
   "metadata": {},
   "source": [
    "We’ll see this hash value all over the place in Git. Git stores everything in its database based on its hash value."
   ]
  },
  {
   "cell_type": "markdown",
   "id": "0403cca8",
   "metadata": {},
   "source": [
    "# Git Generally Only Adds Data"
   ]
  },
  {
   "cell_type": "markdown",
   "id": "6d26490c",
   "metadata": {},
   "source": [
    "When doing activities in Git, almost everything is just adding data to the Git database. Like any VCS, Git can lose or break uncommitted changes, but once you commit them to Git, it’s very difficult to lose them, especially if you regularly upload them to a repository on a server, such as Github. or Gitlab."
   ]
  },
  {
   "cell_type": "markdown",
   "id": "05960026",
   "metadata": {},
   "source": [
    "# The Three States"
   ]
  },
  {
   "cell_type": "markdown",
   "id": "66f6a578",
   "metadata": {},
   "source": [
    "The main thing to remember is that Git has 3 states where files are: modified, staged, and committed:"
   ]
  },
  {
   "cell_type": "markdown",
   "id": "6b4e7ffc",
   "metadata": {},
   "source": [
    "- Modifiedmeans we change (add, edit, delete)file, but it has not been saved permanently to the repository\n",
    "- Stagedmeans that we mark the modifications we make tofileto be saved permanently to the repository\n",
    "- Committedmeans the data is safe and stored in the repository"
   ]
  },
  {
   "cell_type": "markdown",
   "id": "fb0a75ca",
   "metadata": {},
   "source": [
    "This brings us to the three main parts of a Git project: Working tree, Staging area, and Git directory."
   ]
  },
  {
   "cell_type": "markdown",
   "id": "60445d6d",
   "metadata": {},
   "source": [
    " Areas (Source: git-scm.com)"
   ]
  },
  {
   "cell_type": "markdown",
   "id": "4d0bb9dd",
   "metadata": {},
   "source": [
    "![Image](https://storage.googleapis.com/rg-ai-bootcamp/toolkits/areas.png)"
   ]
  },
  {
   "cell_type": "markdown",
   "id": "2fcf74d0",
   "metadata": {},
   "source": [
    "# Install Git"
   ]
  },
  {
   "cell_type": "markdown",
   "id": "5268fcd5",
   "metadata": {},
   "source": [
    "# Mac And Linux"
   ]
  },
  {
   "cell_type": "markdown",
   "id": "1463157a",
   "metadata": {},
   "source": [
    "For Mac and various Linux distros, Git is usually installed automatically. You can check this by running git --version in the terminal."
   ]
  },
  {
   "cell_type": "markdown",
   "id": "8b2db230",
   "metadata": {},
   "source": [
    "If you don’t find Git on your Linux distro, please check [this] link (https://git-scm.com/download/linux) for the installation guide according to the distro you are using."
   ]
  },
  {
   "cell_type": "markdown",
   "id": "fdc12ee6",
   "metadata": {},
   "source": [
    "# Windows"
   ]
  },
  {
   "cell_type": "markdown",
   "id": "3dcb4673",
   "metadata": {},
   "source": [
    "For Windows, you can install Git by downloading the installation here."
   ]
  },
  {
   "cell_type": "markdown",
   "id": "b699b561",
   "metadata": {},
   "source": [
    "After installing you can use Git Bash or Command Line Window to use Git."
   ]
  },
  {
   "cell_type": "markdown",
   "id": "ed5cc522",
   "metadata": {},
   "source": [
    "# Basic Config"
   ]
  },
  {
   "cell_type": "markdown",
   "id": "a0dd7551",
   "metadata": {},
   "source": [
    "# First-Time Git Setup"
   ]
  },
  {
   "cell_type": "markdown",
   "id": "2c042bb1",
   "metadata": {},
   "source": [
    "After the Git installation is complete, we can do several things to adjust the environment in Git. This tool is called git config which allows us to set variable configurations (setting) for all aspects of the appearance and operation of Git. Among them:"
   ]
  },
  {
   "cell_type": "markdown",
   "id": "cd6ebd4d",
   "metadata": {},
   "source": [
    "- ~/.gitconfigfile: This is specific only to the user in question. We can make Git read and write to thisfilespecifically by providing the--globaloption.\n",
    "- config filein the git directory (.git/config) or whatever repository is being used: This is specific to that repository only. Eachconfigat the level closest to the code (source code) will always override theconfigthat has been set at the upper level."
   ]
  },
  {
   "cell_type": "markdown",
   "id": "8f7b1559",
   "metadata": {},
   "source": [
    "~/.gitconfig file: This is specific only to the user in question. We can make Git read and write to this file specifically by providing the --global option."
   ]
  },
  {
   "cell_type": "markdown",
   "id": "cf069451",
   "metadata": {},
   "source": [
    "config file in the git directory (.git/config) or whatever repository is being used: This is specific to that repository only. Each config at the level closest to the code (source code) will always override the config that has been set at the upper level."
   ]
  },
  {
   "cell_type": "markdown",
   "id": "34dc4936",
   "metadata": {},
   "source": [
    "We can see all the settings and where they come from using the command:"
   ]
  },
  {
   "cell_type": "code",
   "execution_count": null,
   "id": "47a8d307",
   "metadata": {},
   "outputs": [],
   "source": [
    "[user@localhost]$ git config --list --show-origin"
   ]
  },
  {
   "cell_type": "markdown",
   "id": "6e5b0d98",
   "metadata": {},
   "source": [
    "# Git global setup"
   ]
  },
  {
   "cell_type": "markdown",
   "id": "9e711a45",
   "metadata": {},
   "source": [
    "The first thing to do after installing Git is to set up a username and email address. This is important because every commit with Git will use this information."
   ]
  },
  {
   "cell_type": "code",
   "execution_count": null,
   "id": "9945ad3e",
   "metadata": {},
   "outputs": [],
   "source": [
    "[user@localhost]$ git config --global user.name \"Aditira Jamhuri\"\n",
    "[user@localhost]$ git config --global user.email \"[email protected]\""
   ]
  },
  {
   "cell_type": "markdown",
   "id": "9d8a18cc",
   "metadata": {},
   "source": [
    "# Editors"
   ]
  },
  {
   "cell_type": "markdown",
   "id": "864c717d",
   "metadata": {},
   "source": [
    "Now that the identity is set, we can configure the default text editor to use when Git needs it. If not configured, Git will use the default editor. If we want to use a different text editor, such as VSCode, we can do the command:"
   ]
  },
  {
   "cell_type": "code",
   "execution_count": null,
   "id": "9db8354f",
   "metadata": {},
   "outputs": [],
   "source": [
    "[user@localhost]$ git config --global core.editor \"code --wait\""
   ]
  },
  {
   "cell_type": "markdown",
   "id": "cc2606fa",
   "metadata": {},
   "source": [
    "More details for settings text editor are here"
   ]
  },
  {
   "cell_type": "markdown",
   "id": "33615092",
   "metadata": {},
   "source": [
    "# Default branch name"
   ]
  },
  {
   "cell_type": "markdown",
   "id": "2326f2fa",
   "metadata": {},
   "source": [
    "By default, Git will create a branch named master when we create a new repository with git init. From Git version 2.28 onwards, we can set a different initial branch name. For example, we can change the initial branch name to main:"
   ]
  },
  {
   "cell_type": "code",
   "execution_count": null,
   "id": "579f8c09",
   "metadata": {},
   "outputs": [],
   "source": [
    "[user@localhost]$ git config --global init.defaultBranch main"
   ]
  },
  {
   "cell_type": "markdown",
   "id": "34f8de0d",
   "metadata": {},
   "source": [
    "# Checking Your Settings"
   ]
  },
  {
   "cell_type": "markdown",
   "id": "ace60220",
   "metadata": {},
   "source": [
    "If we want to check settings, we can use the git config --list command to see a list of all existing settings:"
   ]
  },
  {
   "cell_type": "code",
   "execution_count": null,
   "id": "8df0efb8",
   "metadata": {},
   "outputs": [],
   "source": [
    "[user@localhost]$ git config --list\n",
    "user.name=Aditira\n",
    "[email protected]\n",
    "color. status=auto\n",
    "color. branch=auto\n",
    "color.interactive=auto\n",
    "color. diff=auto\n",
    "..."
   ]
  },
  {
   "cell_type": "markdown",
   "id": "54d028cc",
   "metadata": {},
   "source": [
    "We can also see value with certain keywords, by typing git config <key>, for example:"
   ]
  },
  {
   "cell_type": "code",
   "execution_count": null,
   "id": "76150296",
   "metadata": {},
   "outputs": [],
   "source": [
    "[user@localhost]$ git config user.name\n",
    "Aditya"
   ]
  }
 ],
 "metadata": {},
 "nbformat": 4,
 "nbformat_minor": 5
}
