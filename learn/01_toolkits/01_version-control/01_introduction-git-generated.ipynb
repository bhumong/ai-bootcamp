{
 "cells": [
  {
   "cell_type": "markdown",
   "id": "106ff56f",
   "metadata": {},
   "source": [
    "source: [link](https://ai-bootcamp.ruangguru.com/learn/01_toolkits/01_version-control/01_introduction-git.html)"
   ]
  },
  {
   "cell_type": "markdown",
   "id": "736ff840",
   "metadata": {},
   "source": [
    "# Git Introduction"
   ]
  },
  {
   "cell_type": "markdown",
   "id": "bbe06a7f",
   "metadata": {},
   "source": []
  },
  {
   "cell_type": "markdown",
   "id": "cb7c5f69",
   "metadata": {},
   "source": [
    "![Image](https://storage.googleapis.com/rg-ai-bootcamp/toolkits/git-intro-min.png)"
   ]
  },
  {
   "cell_type": "markdown",
   "id": "4c5706ca",
   "metadata": {},
   "source": [
    "# What is Git?"
   ]
  },
  {
   "cell_type": "markdown",
   "id": "31dd0ec0",
   "metadata": {},
   "source": [
    "Git is a distributed Version Control System (VCS) for managing files in folders (Repository/Repo). The file change history is saved using a series of commits."
   ]
  },
  {
   "cell_type": "markdown",
   "id": "eda13ca7",
   "metadata": {},
   "source": [
    "By using Git we can make several changed versions of a file without duplicating the existing file or Save As. For example, in programming, we create a login feature. Usually, we will create the program file in the 📁 login folder and the folder is in the repository:"
   ]
  },
  {
   "cell_type": "markdown",
   "id": "e2836197",
   "metadata": {},
   "source": [
    "- 📁 applications (repositories)⬇🔵: “feat: initialize project” (commit)⬇🔵: “feat: added view for login and register” (commit)⬇🔵: “feat: create controller user” (commit)⬇🔵: “fix: fix error in email input format” (commit)⬇🔴⟼Peek at saved information:Commit:6bebc5658521d98f3eeadb42362e43bc072f0273Author:User[email protected]Date:Tue Jun 28 2022 18:53:48 GMT+0700 (Western Indonesia Time)Messages:feat: create authentication and authorization models⬇🔵: …📁 login\n",
    "- ⬇🔵: “feat: initialize project” (commit)\n",
    "- ⬇🔵: “feat: added view for login and register” (commit)\n",
    "- ⬇🔵: “feat: create controller user” (commit)\n",
    "- ⬇🔵: “fix: fix error in email input format” (commit)\n",
    "- ⬇🔴⟼Peek at saved information:Commit:6bebc5658521d98f3eeadb42362e43bc072f0273Author:User[email protected]Date:Tue Jun 28 2022 18:53:48 GMT+0700 (Western Indonesia Time)Messages:feat: create authentication and authorization models\n",
    "- Commit:6bebc5658521d98f3eeadb42362e43bc072f0273\n",
    "- Author:User[email protected]\n",
    "- Date:Tue Jun 28 2022 18:53:48 GMT+0700 (Western Indonesia Time)\n",
    "- Messages:feat: create authentication and authorization models\n",
    "- ⬇🔵: …\n",
    "- 📁 login"
   ]
  },
  {
   "cell_type": "markdown",
   "id": "0ce9d9b7",
   "metadata": {},
   "source": [
    "- ⬇🔵: “feat: initialize project” (commit)\n",
    "- ⬇🔵: “feat: added view for login and register” (commit)\n",
    "- ⬇🔵: “feat: create controller user” (commit)\n",
    "- ⬇🔵: “fix: fix error in email input format” (commit)\n",
    "- ⬇🔴⟼Peek at saved information:Commit:6bebc5658521d98f3eeadb42362e43bc072f0273Author:User[email protected]Date:Tue Jun 28 2022 18:53:48 GMT+0700 (Western Indonesia Time)Messages:feat: create authentication and authorization models\n",
    "- Commit:6bebc5658521d98f3eeadb42362e43bc072f0273\n",
    "- Author:User[email protected]\n",
    "- Date:Tue Jun 28 2022 18:53:48 GMT+0700 (Western Indonesia Time)\n",
    "- Messages:feat: create authentication and authorization models\n",
    "- ⬇🔵: …\n",
    "- 📁 login"
   ]
  },
  {
   "cell_type": "markdown",
   "id": "c82b2294",
   "metadata": {},
   "source": [
    "- Commit:6bebc5658521d98f3eeadb42362e43bc072f0273\n",
    "- Author:User[email protected]\n",
    "- Date:Tue Jun 28 2022 18:53:48 GMT+0700 (Western Indonesia Time)\n",
    "- Messages:feat: create authentication and authorization models"
   ]
  },
  {
   "cell_type": "markdown",
   "id": "15c28d93",
   "metadata": {},
   "source": [
    "It can be seen that the login folder has been monitored and changes are saved as a series of commits (commit) by Git as changes/revisions are made. A series of commits is a version of each change that occurred (snapshot). If we open one of the commit points, we will see some important information when we make changes to each version, namely:"
   ]
  },
  {
   "cell_type": "markdown",
   "id": "55a8485f",
   "metadata": {},
   "source": [
    "- Commit: hash/ID as a marker for eachcommitso that it can be tracked.\n",
    "- Author: the person who did thecommit(this will be useful when we work with a team).\n",
    "- Date: time ofcommit\n",
    "- Messages: messages from eachcommit, this is very important because it will tell you what has been done in eachcommit"
   ]
  },
  {
   "cell_type": "markdown",
   "id": "329a294c",
   "metadata": {},
   "source": [
    "Here are some things that differentiate Git from other VCS:"
   ]
  },
  {
   "cell_type": "markdown",
   "id": "18132a7e",
   "metadata": {},
   "source": [
    "# Snapshots, Not Differences"
   ]
  },
  {
   "cell_type": "markdown",
   "id": "619a3ce3",
   "metadata": {},
   "source": [
    "Conceptually, most VCS save a set of changes file-based or what is usually referred to as delta-based version control"
   ]
  },
  {
   "cell_type": "markdown",
   "id": "9b99a2ab",
   "metadata": {},
   "source": []
  },
  {
   "cell_type": "markdown",
   "id": "53e86e0d",
   "metadata": {},
   "source": [
    "![Image](https://storage.googleapis.com/rg-ai-bootcamp/toolkits/deltas.png)"
   ]
  },
  {
   "cell_type": "markdown",
   "id": "e8f21a62",
   "metadata": {},
   "source": [
    "Deltas (Source: git-scm.com)"
   ]
  },
  {
   "cell_type": "markdown",
   "id": "7efc233d",
   "metadata": {},
   "source": [
    "However, Git does not store its data this way. Git treats its data as a series of snapshots. So, every time you commit a project, Git will take a snapshot of all files and save it. If the file has not changed, Git will not save the file again, it will only link to a file that is identical to the previous file it saved. This will create a snapshot stream. So doing one commit means we create one snapshot"
   ]
  },
  {
   "cell_type": "markdown",
   "id": "fd42d993",
   "metadata": {},
   "source": []
  },
  {
   "cell_type": "markdown",
   "id": "75422aa1",
   "metadata": {},
   "source": [
    "![Image](https://storage.googleapis.com/rg-ai-bootcamp/toolkits/snapshots.png)"
   ]
  },
  {
   "cell_type": "markdown",
   "id": "bb32b71e",
   "metadata": {},
   "source": [
    "Snapshots (Source: git-scm.com)"
   ]
  },
  {
   "cell_type": "markdown",
   "id": "b1cece38",
   "metadata": {},
   "source": [
    "This is an important difference between Git and other VCS. This makes Git more like a mini file system with some tools rather than just a regular VCS."
   ]
  },
  {
   "cell_type": "markdown",
   "id": "2ff03801",
   "metadata": {},
   "source": [
    "# Nearly Every Operation Is Local"
   ]
  },
  {
   "cell_type": "markdown",
   "id": "667295b1",
   "metadata": {},
   "source": [
    "Git has the entire project history on local disk, this makes most operations in Git very fast. How did it happen? 😲"
   ]
  },
  {
   "cell_type": "markdown",
   "id": "06c06ed5",
   "metadata": {},
   "source": [
    "For example, to browse the history (history) of changes from a project, Git does not need to go to the server to get the history and display it, Git simply reads it directly from the local database. This means seeing the history of the project almost instantly."
   ]
  },
  {
   "cell_type": "markdown",
   "id": "2237b598",
   "metadata": {},
   "source": [
    "The interesting thing is that a lot can be done offline. For example, when we get on a plane or train and want to do a little work, we can commit (commit) easily until we get an internet connection and upload it to the server."
   ]
  },
  {
   "cell_type": "markdown",
   "id": "0513597a",
   "metadata": {},
   "source": [
    "# Git Has Integrity"
   ]
  },
  {
   "cell_type": "markdown",
   "id": "abc3d397",
   "metadata": {},
   "source": [
    "We will not lose any information during transit or get file corruption without being detected by Git because the mechanism Git uses for checksumming is hash SHA-1. This is a 40-character string consisting of hexadecimal characters (0–9 and a–f) and is calculated based on the contents of a file or directory structure in Git. Hash example:"
   ]
  },
  {
   "cell_type": "code",
   "execution_count": null,
   "id": "3bf104a4",
   "metadata": {},
   "outputs": [],
   "source": [
    "24b9da6552252987aa493b52f8696cd6d3b00373"
   ]
  },
  {
   "cell_type": "markdown",
   "id": "af80f60c",
   "metadata": {},
   "source": [
    "We’ll see this hash value all over the place in Git. Git stores everything in its database based on its hash value."
   ]
  },
  {
   "cell_type": "markdown",
   "id": "a9456024",
   "metadata": {},
   "source": [
    "# Git Generally Only Adds Data"
   ]
  },
  {
   "cell_type": "markdown",
   "id": "07426355",
   "metadata": {},
   "source": [
    "When doing activities in Git, almost everything is just adding data to the Git database. Like any VCS, Git can lose or break uncommitted changes, but once you commit them to Git, it’s very difficult to lose them, especially if you regularly upload them to a repository on a server, such as Github. or Gitlab."
   ]
  },
  {
   "cell_type": "markdown",
   "id": "d6cb8bd2",
   "metadata": {},
   "source": [
    "# The Three States"
   ]
  },
  {
   "cell_type": "markdown",
   "id": "e5c342c3",
   "metadata": {},
   "source": [
    "The main thing to remember is that Git has 3 states where files are: modified, staged, and committed:"
   ]
  },
  {
   "cell_type": "markdown",
   "id": "2049af23",
   "metadata": {},
   "source": [
    "- Modifiedmeans we change (add, edit, delete)file, but it has not been saved permanently to the repository\n",
    "- Stagedmeans that we mark the modifications we make tofileto be saved permanently to the repository\n",
    "- Committedmeans the data is safe and stored in the repository"
   ]
  },
  {
   "cell_type": "markdown",
   "id": "f86f3e27",
   "metadata": {},
   "source": [
    "This brings us to the three main parts of a Git project: Working tree, Staging area, and Git directory."
   ]
  },
  {
   "cell_type": "markdown",
   "id": "dc9fbe51",
   "metadata": {},
   "source": [
    " Areas (Source: git-scm.com)"
   ]
  },
  {
   "cell_type": "markdown",
   "id": "9c95cf83",
   "metadata": {},
   "source": [
    "![Image](https://storage.googleapis.com/rg-ai-bootcamp/toolkits/areas.png)"
   ]
  },
  {
   "cell_type": "markdown",
   "id": "ff94314f",
   "metadata": {},
   "source": [
    "# Install Git"
   ]
  },
  {
   "cell_type": "markdown",
   "id": "7c1687b7",
   "metadata": {},
   "source": [
    "# Mac And Linux"
   ]
  },
  {
   "cell_type": "markdown",
   "id": "151c053b",
   "metadata": {},
   "source": [
    "For Mac and various Linux distros, Git is usually installed automatically. You can check this by running git --version in the terminal."
   ]
  },
  {
   "cell_type": "markdown",
   "id": "0b820710",
   "metadata": {},
   "source": [
    "If you don’t find Git on your Linux distro, please check [this] link (https://git-scm.com/download/linux) for the installation guide according to the distro you are using."
   ]
  },
  {
   "cell_type": "markdown",
   "id": "296cccce",
   "metadata": {},
   "source": [
    "# Windows"
   ]
  },
  {
   "cell_type": "markdown",
   "id": "b44794e1",
   "metadata": {},
   "source": [
    "For Windows, you can install Git by downloading the installation here."
   ]
  },
  {
   "cell_type": "markdown",
   "id": "dc3cdf3d",
   "metadata": {},
   "source": [
    "After installing you can use Git Bash or Command Line Window to use Git."
   ]
  },
  {
   "cell_type": "markdown",
   "id": "8cb9b9cf",
   "metadata": {},
   "source": [
    "# Basic Config"
   ]
  },
  {
   "cell_type": "markdown",
   "id": "9b221441",
   "metadata": {},
   "source": [
    "# First-Time Git Setup"
   ]
  },
  {
   "cell_type": "markdown",
   "id": "cdc1c030",
   "metadata": {},
   "source": [
    "After the Git installation is complete, we can do several things to adjust the environment in Git. This tool is called git config which allows us to set variable configurations (setting) for all aspects of the appearance and operation of Git. Among them:"
   ]
  },
  {
   "cell_type": "markdown",
   "id": "395dfe85",
   "metadata": {},
   "source": [
    "- ~/.gitconfigfile: This is specific only to the user in question. We can make Git read and write to thisfilespecifically by providing the--globaloption.\n",
    "- config filein the git directory (.git/config) or whatever repository is being used: This is specific to that repository only. Eachconfigat the level closest to the code (source code) will always override theconfigthat has been set at the upper level."
   ]
  },
  {
   "cell_type": "markdown",
   "id": "0785dd87",
   "metadata": {},
   "source": [
    "~/.gitconfig file: This is specific only to the user in question. We can make Git read and write to this file specifically by providing the --global option."
   ]
  },
  {
   "cell_type": "markdown",
   "id": "87620e22",
   "metadata": {},
   "source": [
    "config file in the git directory (.git/config) or whatever repository is being used: This is specific to that repository only. Each config at the level closest to the code (source code) will always override the config that has been set at the upper level."
   ]
  },
  {
   "cell_type": "markdown",
   "id": "d48f8ca0",
   "metadata": {},
   "source": [
    "We can see all the settings and where they come from using the command:"
   ]
  },
  {
   "cell_type": "code",
   "execution_count": null,
   "id": "fe652692",
   "metadata": {},
   "outputs": [],
   "source": [
    "[user@localhost]$ git config --list --show-origin"
   ]
  },
  {
   "cell_type": "markdown",
   "id": "13ce0a92",
   "metadata": {},
   "source": [
    "# Git global setup"
   ]
  },
  {
   "cell_type": "markdown",
   "id": "29c96061",
   "metadata": {},
   "source": [
    "The first thing to do after installing Git is to set up a username and email address. This is important because every commit with Git will use this information."
   ]
  },
  {
   "cell_type": "code",
   "execution_count": null,
   "id": "2c539a60",
   "metadata": {},
   "outputs": [],
   "source": [
    "[user@localhost]$ git config --global user.name \"Aditira Jamhuri\"\n",
    "[user@localhost]$ git config --global user.email \"[email protected]\""
   ]
  },
  {
   "cell_type": "markdown",
   "id": "390f2ff6",
   "metadata": {},
   "source": [
    "# Editors"
   ]
  },
  {
   "cell_type": "markdown",
   "id": "ceba63bd",
   "metadata": {},
   "source": [
    "Now that the identity is set, we can configure the default text editor to use when Git needs it. If not configured, Git will use the default editor. If we want to use a different text editor, such as VSCode, we can do the command:"
   ]
  },
  {
   "cell_type": "code",
   "execution_count": null,
   "id": "e82a87ea",
   "metadata": {},
   "outputs": [],
   "source": [
    "[user@localhost]$ git config --global core.editor \"code --wait\""
   ]
  },
  {
   "cell_type": "markdown",
   "id": "4524149a",
   "metadata": {},
   "source": [
    "More details for settings text editor are here"
   ]
  },
  {
   "cell_type": "markdown",
   "id": "3bb4e6db",
   "metadata": {},
   "source": [
    "# Default branch name"
   ]
  },
  {
   "cell_type": "markdown",
   "id": "854e69eb",
   "metadata": {},
   "source": [
    "By default, Git will create a branch named master when we create a new repository with git init. From Git version 2.28 onwards, we can set a different initial branch name. For example, we can change the initial branch name to main:"
   ]
  },
  {
   "cell_type": "code",
   "execution_count": null,
   "id": "7ccabfbc",
   "metadata": {},
   "outputs": [],
   "source": [
    "[user@localhost]$ git config --global init.defaultBranch main"
   ]
  },
  {
   "cell_type": "markdown",
   "id": "8beefa33",
   "metadata": {},
   "source": [
    "# Checking Your Settings"
   ]
  },
  {
   "cell_type": "markdown",
   "id": "69cc3548",
   "metadata": {},
   "source": [
    "If we want to check settings, we can use the git config --list command to see a list of all existing settings:"
   ]
  },
  {
   "cell_type": "code",
   "execution_count": null,
   "id": "53ed7354",
   "metadata": {},
   "outputs": [],
   "source": [
    "[user@localhost]$ git config --list\n",
    "user.name=Aditira\n",
    "[email protected]\n",
    "color. status=auto\n",
    "color. branch=auto\n",
    "color.interactive=auto\n",
    "color. diff=auto\n",
    "..."
   ]
  },
  {
   "cell_type": "markdown",
   "id": "5e64b03a",
   "metadata": {},
   "source": [
    "We can also see value with certain keywords, by typing git config <key>, for example:"
   ]
  },
  {
   "cell_type": "code",
   "execution_count": null,
   "id": "0a6e60c3",
   "metadata": {},
   "outputs": [],
   "source": [
    "[user@localhost]$ git config user.name\n",
    "Aditya"
   ]
  }
 ],
 "metadata": {},
 "nbformat": 4,
 "nbformat_minor": 5
}
