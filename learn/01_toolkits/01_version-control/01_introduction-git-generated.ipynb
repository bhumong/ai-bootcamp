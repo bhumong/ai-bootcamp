{
 "cells": [
  {
   "cell_type": "markdown",
   "id": "bdfbc381",
   "metadata": {},
   "source": [
    "source: [link](https://ai-bootcamp.ruangguru.com/learn/01_toolkits/01_version-control/01_introduction-git.html)"
   ]
  },
  {
   "cell_type": "markdown",
   "id": "6308ed4f",
   "metadata": {},
   "source": [
    "# Git Introduction"
   ]
  },
  {
   "cell_type": "markdown",
   "id": "38db3496",
   "metadata": {},
   "source": []
  },
  {
   "cell_type": "markdown",
   "id": "0264db94",
   "metadata": {},
   "source": [
    "![Image](https://storage.googleapis.com/rg-ai-bootcamp/toolkits/git-intro-min.png)"
   ]
  },
  {
   "cell_type": "markdown",
   "id": "2f22a812",
   "metadata": {},
   "source": [
    "# What is Git?"
   ]
  },
  {
   "cell_type": "markdown",
   "id": "dbd80a5d",
   "metadata": {},
   "source": [
    "Git is a distributed Version Control System (VCS) for managing files in folders (Repository/Repo). The file change history is saved using a series of commits."
   ]
  },
  {
   "cell_type": "markdown",
   "id": "1de2adf4",
   "metadata": {},
   "source": [
    "By using Git we can make several changed versions of a file without duplicating the existing file or Save As. For example, in programming, we create a login feature. Usually, we will create the program file in the 📁 login folder and the folder is in the repository:"
   ]
  },
  {
   "cell_type": "markdown",
   "id": "2a071828",
   "metadata": {},
   "source": [
    "- 📁 applications (repositories)⬇🔵: “feat: initialize project” (commit)⬇🔵: “feat: added view for login and register” (commit)⬇🔵: “feat: create controller user” (commit)⬇🔵: “fix: fix error in email input format” (commit)⬇🔴⟼Peek at saved information:Commit:6bebc5658521d98f3eeadb42362e43bc072f0273Author:User[email protected]Date:Tue Jun 28 2022 18:53:48 GMT+0700 (Western Indonesia Time)Messages:feat: create authentication and authorization models⬇🔵: …📁 login\n",
    "- ⬇🔵: “feat: initialize project” (commit)\n",
    "- ⬇🔵: “feat: added view for login and register” (commit)\n",
    "- ⬇🔵: “feat: create controller user” (commit)\n",
    "- ⬇🔵: “fix: fix error in email input format” (commit)\n",
    "- ⬇🔴⟼Peek at saved information:Commit:6bebc5658521d98f3eeadb42362e43bc072f0273Author:User[email protected]Date:Tue Jun 28 2022 18:53:48 GMT+0700 (Western Indonesia Time)Messages:feat: create authentication and authorization models\n",
    "- Commit:6bebc5658521d98f3eeadb42362e43bc072f0273\n",
    "- Author:User[email protected]\n",
    "- Date:Tue Jun 28 2022 18:53:48 GMT+0700 (Western Indonesia Time)\n",
    "- Messages:feat: create authentication and authorization models\n",
    "- ⬇🔵: …\n",
    "- 📁 login"
   ]
  },
  {
   "cell_type": "markdown",
   "id": "f917c2d3",
   "metadata": {},
   "source": [
    "- ⬇🔵: “feat: initialize project” (commit)\n",
    "- ⬇🔵: “feat: added view for login and register” (commit)\n",
    "- ⬇🔵: “feat: create controller user” (commit)\n",
    "- ⬇🔵: “fix: fix error in email input format” (commit)\n",
    "- ⬇🔴⟼Peek at saved information:Commit:6bebc5658521d98f3eeadb42362e43bc072f0273Author:User[email protected]Date:Tue Jun 28 2022 18:53:48 GMT+0700 (Western Indonesia Time)Messages:feat: create authentication and authorization models\n",
    "- Commit:6bebc5658521d98f3eeadb42362e43bc072f0273\n",
    "- Author:User[email protected]\n",
    "- Date:Tue Jun 28 2022 18:53:48 GMT+0700 (Western Indonesia Time)\n",
    "- Messages:feat: create authentication and authorization models\n",
    "- ⬇🔵: …\n",
    "- 📁 login"
   ]
  },
  {
   "cell_type": "markdown",
   "id": "bce03d63",
   "metadata": {},
   "source": [
    "- Commit:6bebc5658521d98f3eeadb42362e43bc072f0273\n",
    "- Author:User[email protected]\n",
    "- Date:Tue Jun 28 2022 18:53:48 GMT+0700 (Western Indonesia Time)\n",
    "- Messages:feat: create authentication and authorization models"
   ]
  },
  {
   "cell_type": "markdown",
   "id": "2acd9aff",
   "metadata": {},
   "source": [
    "It can be seen that the login folder has been monitored and changes are saved as a series of commits (commit) by Git as changes/revisions are made. A series of commits is a version of each change that occurred (snapshot). If we open one of the commit points, we will see some important information when we make changes to each version, namely:"
   ]
  },
  {
   "cell_type": "markdown",
   "id": "93ac4b10",
   "metadata": {},
   "source": [
    "- Commit: hash/ID as a marker for eachcommitso that it can be tracked.\n",
    "- Author: the person who did thecommit(this will be useful when we work with a team).\n",
    "- Date: time ofcommit\n",
    "- Messages: messages from eachcommit, this is very important because it will tell you what has been done in eachcommit"
   ]
  },
  {
   "cell_type": "markdown",
   "id": "673ff5a2",
   "metadata": {},
   "source": [
    "Here are some things that differentiate Git from other VCS:"
   ]
  },
  {
   "cell_type": "markdown",
   "id": "b3b7d453",
   "metadata": {},
   "source": [
    "# Snapshots, Not Differences"
   ]
  },
  {
   "cell_type": "markdown",
   "id": "600de8cc",
   "metadata": {},
   "source": [
    "Conceptually, most VCS save a set of changes file-based or what is usually referred to as delta-based version control"
   ]
  },
  {
   "cell_type": "markdown",
   "id": "b56dfd88",
   "metadata": {},
   "source": []
  },
  {
   "cell_type": "markdown",
   "id": "388c046e",
   "metadata": {},
   "source": [
    "![Image](https://storage.googleapis.com/rg-ai-bootcamp/toolkits/deltas.png)"
   ]
  },
  {
   "cell_type": "markdown",
   "id": "3493757c",
   "metadata": {},
   "source": [
    "Deltas (Source: git-scm.com)"
   ]
  },
  {
   "cell_type": "markdown",
   "id": "47d93dd1",
   "metadata": {},
   "source": [
    "However, Git does not store its data this way. Git treats its data as a series of snapshots. So, every time you commit a project, Git will take a snapshot of all files and save it. If the file has not changed, Git will not save the file again, it will only link to a file that is identical to the previous file it saved. This will create a snapshot stream. So doing one commit means we create one snapshot"
   ]
  },
  {
   "cell_type": "markdown",
   "id": "3289b02c",
   "metadata": {},
   "source": []
  },
  {
   "cell_type": "markdown",
   "id": "5cb9bed8",
   "metadata": {},
   "source": [
    "![Image](https://storage.googleapis.com/rg-ai-bootcamp/toolkits/snapshots.png)"
   ]
  },
  {
   "cell_type": "markdown",
   "id": "da7ec122",
   "metadata": {},
   "source": [
    "Snapshots (Source: git-scm.com)"
   ]
  },
  {
   "cell_type": "markdown",
   "id": "dce41bb7",
   "metadata": {},
   "source": [
    "This is an important difference between Git and other VCS. This makes Git more like a mini file system with some tools rather than just a regular VCS."
   ]
  },
  {
   "cell_type": "markdown",
   "id": "751a6720",
   "metadata": {},
   "source": [
    "# Nearly Every Operation Is Local"
   ]
  },
  {
   "cell_type": "markdown",
   "id": "9f620bdd",
   "metadata": {},
   "source": [
    "Git has the entire project history on local disk, this makes most operations in Git very fast. How did it happen? 😲"
   ]
  },
  {
   "cell_type": "markdown",
   "id": "11962114",
   "metadata": {},
   "source": [
    "For example, to browse the history (history) of changes from a project, Git does not need to go to the server to get the history and display it, Git simply reads it directly from the local database. This means seeing the history of the project almost instantly."
   ]
  },
  {
   "cell_type": "markdown",
   "id": "becf98f9",
   "metadata": {},
   "source": [
    "The interesting thing is that a lot can be done offline. For example, when we get on a plane or train and want to do a little work, we can commit (commit) easily until we get an internet connection and upload it to the server."
   ]
  },
  {
   "cell_type": "markdown",
   "id": "ace7a4a7",
   "metadata": {},
   "source": [
    "# Git Has Integrity"
   ]
  },
  {
   "cell_type": "markdown",
   "id": "896aa8a0",
   "metadata": {},
   "source": [
    "We will not lose any information during transit or get file corruption without being detected by Git because the mechanism Git uses for checksumming is hash SHA-1. This is a 40-character string consisting of hexadecimal characters (0–9 and a–f) and is calculated based on the contents of a file or directory structure in Git. Hash example:"
   ]
  },
  {
   "cell_type": "code",
   "execution_count": null,
   "id": "73d943ad",
   "metadata": {},
   "outputs": [],
   "source": [
    "24b9da6552252987aa493b52f8696cd6d3b00373"
   ]
  },
  {
   "cell_type": "markdown",
   "id": "b34779cc",
   "metadata": {},
   "source": [
    "We’ll see this hash value all over the place in Git. Git stores everything in its database based on its hash value."
   ]
  },
  {
   "cell_type": "markdown",
   "id": "f6223dbc",
   "metadata": {},
   "source": [
    "# Git Generally Only Adds Data"
   ]
  },
  {
   "cell_type": "markdown",
   "id": "2313c009",
   "metadata": {},
   "source": [
    "When doing activities in Git, almost everything is just adding data to the Git database. Like any VCS, Git can lose or break uncommitted changes, but once you commit them to Git, it’s very difficult to lose them, especially if you regularly upload them to a repository on a server, such as Github. or Gitlab."
   ]
  },
  {
   "cell_type": "markdown",
   "id": "2fc5bc53",
   "metadata": {},
   "source": [
    "# The Three States"
   ]
  },
  {
   "cell_type": "markdown",
   "id": "865a8466",
   "metadata": {},
   "source": [
    "The main thing to remember is that Git has 3 states where files are: modified, staged, and committed:"
   ]
  },
  {
   "cell_type": "markdown",
   "id": "6ceb1176",
   "metadata": {},
   "source": [
    "- Modifiedmeans we change (add, edit, delete)file, but it has not been saved permanently to the repository\n",
    "- Stagedmeans that we mark the modifications we make tofileto be saved permanently to the repository\n",
    "- Committedmeans the data is safe and stored in the repository"
   ]
  },
  {
   "cell_type": "markdown",
   "id": "ccd8c1f1",
   "metadata": {},
   "source": [
    "This brings us to the three main parts of a Git project: Working tree, Staging area, and Git directory."
   ]
  },
  {
   "cell_type": "markdown",
   "id": "48f121f5",
   "metadata": {},
   "source": [
    " Areas (Source: git-scm.com)"
   ]
  },
  {
   "cell_type": "markdown",
   "id": "76b6ac36",
   "metadata": {},
   "source": [
    "![Image](https://storage.googleapis.com/rg-ai-bootcamp/toolkits/areas.png)"
   ]
  },
  {
   "cell_type": "markdown",
   "id": "7bbb428e",
   "metadata": {},
   "source": [
    "# Install Git"
   ]
  },
  {
   "cell_type": "markdown",
   "id": "1e61a146",
   "metadata": {},
   "source": [
    "# Mac And Linux"
   ]
  },
  {
   "cell_type": "markdown",
   "id": "3929cb87",
   "metadata": {},
   "source": [
    "For Mac and various Linux distros, Git is usually installed automatically. You can check this by running git --version in the terminal."
   ]
  },
  {
   "cell_type": "markdown",
   "id": "d89f4343",
   "metadata": {},
   "source": [
    "If you don’t find Git on your Linux distro, please check [this] link (https://git-scm.com/download/linux) for the installation guide according to the distro you are using."
   ]
  },
  {
   "cell_type": "markdown",
   "id": "659689e0",
   "metadata": {},
   "source": [
    "# Windows"
   ]
  },
  {
   "cell_type": "markdown",
   "id": "710039c5",
   "metadata": {},
   "source": [
    "For Windows, you can install Git by downloading the installation here."
   ]
  },
  {
   "cell_type": "markdown",
   "id": "a6b685ee",
   "metadata": {},
   "source": [
    "After installing you can use Git Bash or Command Line Window to use Git."
   ]
  },
  {
   "cell_type": "markdown",
   "id": "ce012c89",
   "metadata": {},
   "source": [
    "# Basic Config"
   ]
  },
  {
   "cell_type": "markdown",
   "id": "552610d1",
   "metadata": {},
   "source": [
    "# First-Time Git Setup"
   ]
  },
  {
   "cell_type": "markdown",
   "id": "ee0cba37",
   "metadata": {},
   "source": [
    "After the Git installation is complete, we can do several things to adjust the environment in Git. This tool is called git config which allows us to set variable configurations (setting) for all aspects of the appearance and operation of Git. Among them:"
   ]
  },
  {
   "cell_type": "markdown",
   "id": "778aad9e",
   "metadata": {},
   "source": [
    "- ~/.gitconfigfile: This is specific only to the user in question. We can make Git read and write to thisfilespecifically by providing the--globaloption.\n",
    "- config filein the git directory (.git/config) or whatever repository is being used: This is specific to that repository only. Eachconfigat the level closest to the code (source code) will always override theconfigthat has been set at the upper level."
   ]
  },
  {
   "cell_type": "markdown",
   "id": "8c284011",
   "metadata": {},
   "source": [
    "~/.gitconfig file: This is specific only to the user in question. We can make Git read and write to this file specifically by providing the --global option."
   ]
  },
  {
   "cell_type": "markdown",
   "id": "b6e03fc6",
   "metadata": {},
   "source": [
    "config file in the git directory (.git/config) or whatever repository is being used: This is specific to that repository only. Each config at the level closest to the code (source code) will always override the config that has been set at the upper level."
   ]
  },
  {
   "cell_type": "markdown",
   "id": "4d6daa82",
   "metadata": {},
   "source": [
    "We can see all the settings and where they come from using the command:"
   ]
  },
  {
   "cell_type": "code",
   "execution_count": null,
   "id": "cc91c033",
   "metadata": {},
   "outputs": [],
   "source": [
    "[user@localhost]$ git config --list --show-origin"
   ]
  },
  {
   "cell_type": "markdown",
   "id": "82fe2c55",
   "metadata": {},
   "source": [
    "# Git global setup"
   ]
  },
  {
   "cell_type": "markdown",
   "id": "a8e13196",
   "metadata": {},
   "source": [
    "The first thing to do after installing Git is to set up a username and email address. This is important because every commit with Git will use this information."
   ]
  },
  {
   "cell_type": "code",
   "execution_count": null,
   "id": "bcd2688f",
   "metadata": {},
   "outputs": [],
   "source": [
    "[user@localhost]$ git config --global user.name \"Aditira Jamhuri\"\n",
    "[user@localhost]$ git config --global user.email \"[email protected]\""
   ]
  },
  {
   "cell_type": "markdown",
   "id": "9257df6a",
   "metadata": {},
   "source": [
    "# Editors"
   ]
  },
  {
   "cell_type": "markdown",
   "id": "e873af47",
   "metadata": {},
   "source": [
    "Now that the identity is set, we can configure the default text editor to use when Git needs it. If not configured, Git will use the default editor. If we want to use a different text editor, such as VSCode, we can do the command:"
   ]
  },
  {
   "cell_type": "code",
   "execution_count": null,
   "id": "e3f6d450",
   "metadata": {},
   "outputs": [],
   "source": [
    "[user@localhost]$ git config --global core.editor \"code --wait\""
   ]
  },
  {
   "cell_type": "markdown",
   "id": "1f771f79",
   "metadata": {},
   "source": [
    "More details for settings text editor are here"
   ]
  },
  {
   "cell_type": "markdown",
   "id": "e31afbf8",
   "metadata": {},
   "source": [
    "# Default branch name"
   ]
  },
  {
   "cell_type": "markdown",
   "id": "11149fde",
   "metadata": {},
   "source": [
    "By default, Git will create a branch named master when we create a new repository with git init. From Git version 2.28 onwards, we can set a different initial branch name. For example, we can change the initial branch name to main:"
   ]
  },
  {
   "cell_type": "code",
   "execution_count": null,
   "id": "7cc5ea73",
   "metadata": {},
   "outputs": [],
   "source": [
    "[user@localhost]$ git config --global init.defaultBranch main"
   ]
  },
  {
   "cell_type": "markdown",
   "id": "992e7ae8",
   "metadata": {},
   "source": [
    "# Checking Your Settings"
   ]
  },
  {
   "cell_type": "markdown",
   "id": "37188a6a",
   "metadata": {},
   "source": [
    "If we want to check settings, we can use the git config --list command to see a list of all existing settings:"
   ]
  },
  {
   "cell_type": "code",
   "execution_count": null,
   "id": "a53b3f61",
   "metadata": {},
   "outputs": [],
   "source": [
    "[user@localhost]$ git config --list\n",
    "user.name=Aditira\n",
    "[email protected]\n",
    "color. status=auto\n",
    "color. branch=auto\n",
    "color.interactive=auto\n",
    "color. diff=auto\n",
    "..."
   ]
  },
  {
   "cell_type": "markdown",
   "id": "7bae6d21",
   "metadata": {},
   "source": [
    "We can also see value with certain keywords, by typing git config <key>, for example:"
   ]
  },
  {
   "cell_type": "code",
   "execution_count": null,
   "id": "b2432c46",
   "metadata": {},
   "outputs": [],
   "source": [
    "[user@localhost]$ git config user.name\n",
    "Aditya"
   ]
  }
 ],
 "metadata": {},
 "nbformat": 4,
 "nbformat_minor": 5
}
