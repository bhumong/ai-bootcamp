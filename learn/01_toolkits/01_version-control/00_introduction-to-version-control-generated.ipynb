{
 "cells": [
  {
   "cell_type": "markdown",
   "id": "eda36570",
   "metadata": {},
   "source": [
    "# Introduction to Version Control"
   ]
  },
  {
   "cell_type": "markdown",
   "id": "94c30350",
   "metadata": {},
   "source": [
    "# Before Version Control System"
   ]
  },
  {
   "cell_type": "markdown",
   "id": "31a903b4",
   "metadata": {},
   "source": [
    "When we do work, we often make revisions. For example, when creating a proposal or thesis document."
   ]
  },
  {
   "cell_type": "markdown",
   "id": "d6c72042",
   "metadata": {},
   "source": [
    "# What is a Version Control System?"
   ]
  },
  {
   "cell_type": "markdown",
   "id": "c6ffbf6d",
   "metadata": {},
   "source": [
    "A Version Control System (VCS) is a system that records changes to a file or a set of files of an application program (software) or source code from time to time so that we can look back at the old version someday."
   ]
  },
  {
   "cell_type": "markdown",
   "id": "8b7268dc",
   "metadata": {},
   "source": [
    "VCS allows us to restore files to a previous state, revert entire projects back to a previous state, compare changes over time, see who last changed something that might have caused a problem and much more."
   ]
  },
  {
   "cell_type": "markdown",
   "id": "45b25cde",
   "metadata": {},
   "source": [
    "In short, with VCS, if we make a mistake or lose a file, we can easily recover it."
   ]
  },
  {
   "cell_type": "markdown",
   "id": "0693350e",
   "metadata": {},
   "source": [
    "# Why use Version Control"
   ]
  },
  {
   "cell_type": "markdown",
   "id": "12e9d021",
   "metadata": {},
   "source": [
    "Version control system allows us to collaborate in teams, without losing or overwriting anyone’s work. After a developer makes a series of changes to the code in one or more files, they tell the VCS to save a representation of those changes."
   ]
  },
  {
   "cell_type": "markdown",
   "id": "1ca1e19e",
   "metadata": {},
   "source": [
    "In this way, a history of code changes or versions is created as the application develops. This history is stored so that all developers, even if they work in different locations, have access to consistent and up-to-date project history."
   ]
  },
  {
   "cell_type": "markdown",
   "id": "4c0f28ed",
   "metadata": {},
   "source": [
    "# Benefits of Version Control"
   ]
  },
  {
   "cell_type": "markdown",
   "id": "83aeef83",
   "metadata": {},
   "source": [
    "Keeping Track of All the Modifications Made to the Code"
   ]
  },
  {
   "cell_type": "markdown",
   "id": "406512a1",
   "metadata": {},
   "source": []
  },
  {
   "cell_type": "markdown",
   "id": "57ae0f53",
   "metadata": {},
   "source": [
    "The team working on the project continues to produce new source code and continues to make changes to the code. These changes are logged for future reference and can be used if needed in the future to find the root cause of a particular issue."
   ]
  },
  {
   "cell_type": "markdown",
   "id": "d6df82a6",
   "metadata": {},
   "source": []
  },
  {
   "cell_type": "markdown",
   "id": "0bb2acb2",
   "metadata": {},
   "source": [
    "Comparing Earlier Versions of the Code"
   ]
  },
  {
   "cell_type": "markdown",
   "id": "1c64aeab",
   "metadata": {},
   "source": [
    "Because all versions of code are saved, this allows developers to go back at any time and compare previous versions of code to help fix errors and reduce disruption to all team members."
   ]
  },
  {
   "cell_type": "markdown",
   "id": "6d11cfb9",
   "metadata": {},
   "source": []
  },
  {
   "cell_type": "markdown",
   "id": "bd8424cb",
   "metadata": {},
   "source": [
    "Finally, let’s take a look at some of the best Version Control Systems available today:"
   ]
  },
  {
   "cell_type": "markdown",
   "id": "e2e07763",
   "metadata": {},
   "source": [
    " Best VCS in the market (Source: simplilearn.com)"
   ]
  }
 ],
 "metadata": {},
 "nbformat": 4,
 "nbformat_minor": 5
}
