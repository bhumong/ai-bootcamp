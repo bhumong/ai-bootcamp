{
 "cells": [
  {
   "cell_type": "markdown",
   "id": "2f854f0a",
   "metadata": {},
   "source": [
    "source: [link](https://ai-bootcamp.ruangguru.com/learn/01_toolkits/01_version-control/00_introduction-to-version-control.html)"
   ]
  },
  {
   "cell_type": "markdown",
   "id": "1d4828e1",
   "metadata": {},
   "source": [
    "# Introduction to Version Control"
   ]
  },
  {
   "cell_type": "markdown",
   "id": "745a8c84",
   "metadata": {},
   "source": [
    "# Before Version Control System"
   ]
  },
  {
   "cell_type": "markdown",
   "id": "d65cd39a",
   "metadata": {},
   "source": [
    "When we do work, we often make revisions. For example, when creating a proposal or thesis document."
   ]
  },
  {
   "cell_type": "markdown",
   "id": "e65a2628",
   "metadata": {},
   "source": [
    "# What is a Version Control System?"
   ]
  },
  {
   "cell_type": "markdown",
   "id": "e82310f5",
   "metadata": {},
   "source": [
    "A Version Control System (VCS) is a system that records changes to a file or a set of files of an application program (software) or source code from time to time so that we can look back at the old version someday."
   ]
  },
  {
   "cell_type": "markdown",
   "id": "c5cffb1c",
   "metadata": {},
   "source": [
    "VCS allows us to restore files to a previous state, revert entire projects back to a previous state, compare changes over time, see who last changed something that might have caused a problem and much more."
   ]
  },
  {
   "cell_type": "markdown",
   "id": "73809ad4",
   "metadata": {},
   "source": [
    "In short, with VCS, if we make a mistake or lose a file, we can easily recover it."
   ]
  },
  {
   "cell_type": "markdown",
   "id": "5b81c52f",
   "metadata": {},
   "source": [
    "# Why use Version Control"
   ]
  },
  {
   "cell_type": "markdown",
   "id": "6ac1f255",
   "metadata": {},
   "source": [
    "Version control system allows us to collaborate in teams, without losing or overwriting anyone’s work. After a developer makes a series of changes to the code in one or more files, they tell the VCS to save a representation of those changes."
   ]
  },
  {
   "cell_type": "markdown",
   "id": "407e6148",
   "metadata": {},
   "source": [
    "In this way, a history of code changes or versions is created as the application develops. This history is stored so that all developers, even if they work in different locations, have access to consistent and up-to-date project history."
   ]
  },
  {
   "cell_type": "markdown",
   "id": "2b13dd4d",
   "metadata": {},
   "source": [
    "# Benefits of Version Control"
   ]
  },
  {
   "cell_type": "markdown",
   "id": "3d75d3eb",
   "metadata": {},
   "source": [
    "Keeping Track of All the Modifications Made to the Code"
   ]
  },
  {
   "cell_type": "markdown",
   "id": "ad78dadd",
   "metadata": {},
   "source": []
  },
  {
   "cell_type": "markdown",
   "id": "b5c9d10a",
   "metadata": {},
   "source": [
    "![Image](https://storage.googleapis.com/rg-ai-bootcamp/toolkits/git-log-min.png)"
   ]
  },
  {
   "cell_type": "markdown",
   "id": "d81a3fa2",
   "metadata": {},
   "source": [
    "The team working on the project continues to produce new source code and continues to make changes to the code. These changes are logged for future reference and can be used if needed in the future to find the root cause of a particular issue."
   ]
  },
  {
   "cell_type": "markdown",
   "id": "39df6873",
   "metadata": {},
   "source": []
  },
  {
   "cell_type": "markdown",
   "id": "6a474cd4",
   "metadata": {},
   "source": [
    "![Image](https://storage.googleapis.com/rg-ai-bootcamp/toolkits/git-graph-min.png)"
   ]
  },
  {
   "cell_type": "markdown",
   "id": "25988a2d",
   "metadata": {},
   "source": [
    "Comparing Earlier Versions of the Code"
   ]
  },
  {
   "cell_type": "markdown",
   "id": "2920ea28",
   "metadata": {},
   "source": [
    "Because all versions of code are saved, this allows developers to go back at any time and compare previous versions of code to help fix errors and reduce disruption to all team members."
   ]
  },
  {
   "cell_type": "markdown",
   "id": "71329183",
   "metadata": {},
   "source": []
  },
  {
   "cell_type": "markdown",
   "id": "c9a55b67",
   "metadata": {},
   "source": [
    "![Image](https://storage.googleapis.com/rg-ai-bootcamp/toolkits/git-diff-min.png)"
   ]
  },
  {
   "cell_type": "markdown",
   "id": "9baf1628",
   "metadata": {},
   "source": [
    "Finally, let’s take a look at some of the best Version Control Systems available today:"
   ]
  },
  {
   "cell_type": "markdown",
   "id": "71c31fac",
   "metadata": {},
   "source": [
    " Best VCS in the market (Source: simplilearn.com)"
   ]
  },
  {
   "cell_type": "markdown",
   "id": "0aff8945",
   "metadata": {},
   "source": [
    "![Image](https://storage.googleapis.com/rg-ai-bootcamp/toolkits/best-vcs-market.png)"
   ]
  }
 ],
 "metadata": {},
 "nbformat": 4,
 "nbformat_minor": 5
}
