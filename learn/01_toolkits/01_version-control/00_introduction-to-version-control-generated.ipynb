{
 "cells": [
  {
   "cell_type": "markdown",
   "id": "886f28a7",
   "metadata": {},
   "source": [
    "source: [link](https://ai-bootcamp.ruangguru.com/learn/01_toolkits/01_version-control/00_introduction-to-version-control.html)"
   ]
  },
  {
   "cell_type": "markdown",
   "id": "98068362",
   "metadata": {},
   "source": [
    "# Introduction to Version Control"
   ]
  },
  {
   "cell_type": "markdown",
   "id": "49415bfb",
   "metadata": {},
   "source": [
    "# Before Version Control System"
   ]
  },
  {
   "cell_type": "markdown",
   "id": "65866586",
   "metadata": {},
   "source": [
    "When we do work, we often make revisions. For example, when creating a proposal or thesis document."
   ]
  },
  {
   "cell_type": "markdown",
   "id": "ccc43630",
   "metadata": {},
   "source": [
    "# What is a Version Control System?"
   ]
  },
  {
   "cell_type": "markdown",
   "id": "7d800492",
   "metadata": {},
   "source": [
    "A Version Control System (VCS) is a system that records changes to a file or a set of files of an application program (software) or source code from time to time so that we can look back at the old version someday."
   ]
  },
  {
   "cell_type": "markdown",
   "id": "219d8ca9",
   "metadata": {},
   "source": [
    "VCS allows us to restore files to a previous state, revert entire projects back to a previous state, compare changes over time, see who last changed something that might have caused a problem and much more."
   ]
  },
  {
   "cell_type": "markdown",
   "id": "31bac41d",
   "metadata": {},
   "source": [
    "In short, with VCS, if we make a mistake or lose a file, we can easily recover it."
   ]
  },
  {
   "cell_type": "markdown",
   "id": "39c672dc",
   "metadata": {},
   "source": [
    "# Why use Version Control"
   ]
  },
  {
   "cell_type": "markdown",
   "id": "40407ee1",
   "metadata": {},
   "source": [
    "Version control system allows us to collaborate in teams, without losing or overwriting anyone’s work. After a developer makes a series of changes to the code in one or more files, they tell the VCS to save a representation of those changes."
   ]
  },
  {
   "cell_type": "markdown",
   "id": "d9ef099d",
   "metadata": {},
   "source": [
    "In this way, a history of code changes or versions is created as the application develops. This history is stored so that all developers, even if they work in different locations, have access to consistent and up-to-date project history."
   ]
  },
  {
   "cell_type": "markdown",
   "id": "bbb62b5a",
   "metadata": {},
   "source": [
    "# Benefits of Version Control"
   ]
  },
  {
   "cell_type": "markdown",
   "id": "30c694f5",
   "metadata": {},
   "source": [
    "Keeping Track of All the Modifications Made to the Code"
   ]
  },
  {
   "cell_type": "markdown",
   "id": "f1bce709",
   "metadata": {},
   "source": []
  },
  {
   "cell_type": "markdown",
   "id": "48d7fb6d",
   "metadata": {},
   "source": [
    "![Image](https://storage.googleapis.com/rg-ai-bootcamp/toolkits/git-log-min.png)"
   ]
  },
  {
   "cell_type": "markdown",
   "id": "8ebd8283",
   "metadata": {},
   "source": [
    "The team working on the project continues to produce new source code and continues to make changes to the code. These changes are logged for future reference and can be used if needed in the future to find the root cause of a particular issue."
   ]
  },
  {
   "cell_type": "markdown",
   "id": "8fd7253c",
   "metadata": {},
   "source": []
  },
  {
   "cell_type": "markdown",
   "id": "0cddec3d",
   "metadata": {},
   "source": [
    "![Image](https://storage.googleapis.com/rg-ai-bootcamp/toolkits/git-graph-min.png)"
   ]
  },
  {
   "cell_type": "markdown",
   "id": "7a21457d",
   "metadata": {},
   "source": [
    "Comparing Earlier Versions of the Code"
   ]
  },
  {
   "cell_type": "markdown",
   "id": "969c62e6",
   "metadata": {},
   "source": [
    "Because all versions of code are saved, this allows developers to go back at any time and compare previous versions of code to help fix errors and reduce disruption to all team members."
   ]
  },
  {
   "cell_type": "markdown",
   "id": "0d19ff47",
   "metadata": {},
   "source": []
  },
  {
   "cell_type": "markdown",
   "id": "f97c3c62",
   "metadata": {},
   "source": [
    "![Image](https://storage.googleapis.com/rg-ai-bootcamp/toolkits/git-diff-min.png)"
   ]
  },
  {
   "cell_type": "markdown",
   "id": "aba3385c",
   "metadata": {},
   "source": [
    "Finally, let’s take a look at some of the best Version Control Systems available today:"
   ]
  },
  {
   "cell_type": "markdown",
   "id": "b9281700",
   "metadata": {},
   "source": [
    " Best VCS in the market (Source: simplilearn.com)"
   ]
  },
  {
   "cell_type": "markdown",
   "id": "ea10fcfd",
   "metadata": {},
   "source": [
    "![Image](https://storage.googleapis.com/rg-ai-bootcamp/toolkits/best-vcs-market.png)"
   ]
  }
 ],
 "metadata": {},
 "nbformat": 4,
 "nbformat_minor": 5
}
