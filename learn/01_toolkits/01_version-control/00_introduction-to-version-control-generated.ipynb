{
 "cells": [
  {
   "cell_type": "markdown",
   "id": "700cacbb",
   "metadata": {},
   "source": [
    "source: [https://ai-bootcamp.ruangguru.com/learn/01_toolkits/01_version-control/00_introduction-to-version-control.html](https://ai-bootcamp.ruangguru.com/learn/01_toolkits/01_version-control/00_introduction-to-version-control.html)"
   ]
  },
  {
   "cell_type": "markdown",
   "id": "80d20482",
   "metadata": {},
   "source": [
    "# Introduction to Version Control"
   ]
  },
  {
   "cell_type": "markdown",
   "id": "6de6b894",
   "metadata": {},
   "source": [
    "# Before Version Control System"
   ]
  },
  {
   "cell_type": "markdown",
   "id": "985525aa",
   "metadata": {},
   "source": [
    "When we do work, we often make revisions. For example, when creating a proposal or thesis document."
   ]
  },
  {
   "cell_type": "markdown",
   "id": "aa065d26",
   "metadata": {},
   "source": [
    "- Example when writing a thesis:Usually we create a 📁 (folder) for example with the name “thesis”Then we start writing in 📄 (file) thesis.docxWhen there is a revision, usually we will create a file with a new version 📄 thesis_revisi-1.docxWhen there is a further revision, we make 📄 thesis_revision-3.docxNext 📄 thesis_revisi-4.docx📄 thesis_revision-5.docx📄 thesis_revision-6.docx… etcUntil maybe in the end: 📄 thesis_final_ready_sidang.docx 😄\n",
    "- Usually we create a 📁 (folder) for example with the name “thesis”Then we start writing in 📄 (file) thesis.docxWhen there is a revision, usually we will create a file with a new version 📄 thesis_revisi-1.docxWhen there is a further revision, we make 📄 thesis_revision-3.docxNext 📄 thesis_revisi-4.docx📄 thesis_revision-5.docx📄 thesis_revision-6.docx… etcUntil maybe in the end: 📄 thesis_final_ready_sidang.docx 😄\n",
    "- Then we start writing in 📄 (file) thesis.docx\n",
    "- When there is a revision, usually we will create a file with a new version 📄 thesis_revisi-1.docx\n",
    "- When there is a further revision, we make 📄 thesis_revision-3.docx\n",
    "- Next 📄 thesis_revisi-4.docx\n",
    "- 📄 thesis_revision-5.docx\n",
    "- 📄 thesis_revision-6.docx\n",
    "- … etc\n",
    "- Until maybe in the end: 📄 thesis_final_ready_sidang.docx 😄\n",
    "- Why do we do this? Of course, so that we know the changes that occur between document revisions. If at any time we need to use the previous revision, we can use it easily.\n",
    "- As asoftware developer(developer), it is very natural to revise a lot of code, maybe tens or even hundreds of lines. And this code revision is usually carried out in more than onefile.\n",
    "- By using VCS to manage versions of files, we only need to do it in onefile(📄 thesis.docx), but in thatfilethere are changes from the previous version.\n",
    "- Imagine if we have made revisions to dozens offilesand added features to our code, but not long afterward we are asked to cancel these features. This would be difficult without a VCS. Therefore, let’s get acquainted with VCS further."
   ]
  },
  {
   "cell_type": "markdown",
   "id": "c3a9766e",
   "metadata": {},
   "source": [
    "- Usually we create a 📁 (folder) for example with the name “thesis”Then we start writing in 📄 (file) thesis.docxWhen there is a revision, usually we will create a file with a new version 📄 thesis_revisi-1.docxWhen there is a further revision, we make 📄 thesis_revision-3.docxNext 📄 thesis_revisi-4.docx📄 thesis_revision-5.docx📄 thesis_revision-6.docx… etcUntil maybe in the end: 📄 thesis_final_ready_sidang.docx 😄\n",
    "- Then we start writing in 📄 (file) thesis.docx\n",
    "- When there is a revision, usually we will create a file with a new version 📄 thesis_revisi-1.docx\n",
    "- When there is a further revision, we make 📄 thesis_revision-3.docx\n",
    "- Next 📄 thesis_revisi-4.docx\n",
    "- 📄 thesis_revision-5.docx\n",
    "- 📄 thesis_revision-6.docx\n",
    "- … etc\n",
    "- Until maybe in the end: 📄 thesis_final_ready_sidang.docx 😄"
   ]
  },
  {
   "cell_type": "markdown",
   "id": "ea1c0d1e",
   "metadata": {},
   "source": [
    "- Then we start writing in 📄 (file) thesis.docx\n",
    "- When there is a revision, usually we will create a file with a new version 📄 thesis_revisi-1.docx\n",
    "- When there is a further revision, we make 📄 thesis_revision-3.docx\n",
    "- Next 📄 thesis_revisi-4.docx\n",
    "- 📄 thesis_revision-5.docx\n",
    "- 📄 thesis_revision-6.docx\n",
    "- … etc\n",
    "- Until maybe in the end: 📄 thesis_final_ready_sidang.docx 😄"
   ]
  },
  {
   "cell_type": "markdown",
   "id": "646d7d9c",
   "metadata": {},
   "source": [
    "# What is a Version Control System?"
   ]
  },
  {
   "cell_type": "markdown",
   "id": "8962b39f",
   "metadata": {},
   "source": [
    "A Version Control System (VCS) is a system that records changes to a file or a set of files of an application program (software) or source code from time to time so that we can look back at the old version someday."
   ]
  },
  {
   "cell_type": "markdown",
   "id": "500bd281",
   "metadata": {},
   "source": [
    "VCS allows us to restore files to a previous state, revert entire projects back to a previous state, compare changes over time, see who last changed something that might have caused a problem and much more."
   ]
  },
  {
   "cell_type": "markdown",
   "id": "313cf643",
   "metadata": {},
   "source": [
    "In short, with VCS, if we make a mistake or lose a file, we can easily recover it."
   ]
  },
  {
   "cell_type": "markdown",
   "id": "71fd05e0",
   "metadata": {},
   "source": [
    "# Why use Version Control"
   ]
  },
  {
   "cell_type": "markdown",
   "id": "2da6046c",
   "metadata": {},
   "source": [
    "Version control system allows us to collaborate in teams, without losing or overwriting anyone’s work. After a developer makes a series of changes to the code in one or more files, they tell the VCS to save a representation of those changes."
   ]
  },
  {
   "cell_type": "markdown",
   "id": "e3beedd2",
   "metadata": {},
   "source": [
    "In this way, a history of code changes or versions is created as the application develops. This history is stored so that all developers, even if they work in different locations, have access to consistent and up-to-date project history."
   ]
  },
  {
   "cell_type": "markdown",
   "id": "22900670",
   "metadata": {},
   "source": [
    "# Benefits of Version Control"
   ]
  },
  {
   "cell_type": "markdown",
   "id": "57eeba0d",
   "metadata": {},
   "source": [
    "- Keeping Track of All the Modifications Made to the CodeGit LogThe team working on the project continues to produce new source code and continues to make changes to the code. These changes are logged for future reference and can be used if needed in the future to find the root cause of a particular issue.Git Graph\n",
    "- Comparing Earlier Versions of the CodeBecause all versions of code are saved, this allows developers to go back at any time and compare previous versions of code to help fix errors and reduce disruption to all team members.Git Diff"
   ]
  },
  {
   "cell_type": "markdown",
   "id": "f769c0f1",
   "metadata": {},
   "source": [
    "Keeping Track of All the Modifications Made to the Code"
   ]
  },
  {
   "cell_type": "markdown",
   "id": "4ba05f76",
   "metadata": {},
   "source": []
  },
  {
   "cell_type": "markdown",
   "id": "f9965476",
   "metadata": {},
   "source": [
    "![Image](https://storage.googleapis.com/rg-ai-bootcamp/toolkits/git-log-min.png)"
   ]
  },
  {
   "cell_type": "markdown",
   "id": "8799ffe2",
   "metadata": {},
   "source": [
    "The team working on the project continues to produce new source code and continues to make changes to the code. These changes are logged for future reference and can be used if needed in the future to find the root cause of a particular issue."
   ]
  },
  {
   "cell_type": "markdown",
   "id": "1dbf9b38",
   "metadata": {},
   "source": []
  },
  {
   "cell_type": "markdown",
   "id": "638f5f2c",
   "metadata": {},
   "source": [
    "![Image](https://storage.googleapis.com/rg-ai-bootcamp/toolkits/git-graph-min.png)"
   ]
  },
  {
   "cell_type": "markdown",
   "id": "82480c1b",
   "metadata": {},
   "source": [
    "Comparing Earlier Versions of the Code"
   ]
  },
  {
   "cell_type": "markdown",
   "id": "cd378aec",
   "metadata": {},
   "source": [
    "Because all versions of code are saved, this allows developers to go back at any time and compare previous versions of code to help fix errors and reduce disruption to all team members."
   ]
  },
  {
   "cell_type": "markdown",
   "id": "30dd6a2e",
   "metadata": {},
   "source": []
  },
  {
   "cell_type": "markdown",
   "id": "0ba474f9",
   "metadata": {},
   "source": [
    "![Image](https://storage.googleapis.com/rg-ai-bootcamp/toolkits/git-diff-min.png)"
   ]
  },
  {
   "cell_type": "markdown",
   "id": "a83d539d",
   "metadata": {},
   "source": [
    "Finally, let’s take a look at some of the best Version Control Systems available today:"
   ]
  },
  {
   "cell_type": "markdown",
   "id": "bf0209fd",
   "metadata": {},
   "source": [
    " Best VCS in the market (Source: simplilearn.com)"
   ]
  },
  {
   "cell_type": "markdown",
   "id": "d1730c69",
   "metadata": {},
   "source": [
    "![Image](https://storage.googleapis.com/rg-ai-bootcamp/toolkits/best-vcs-market.png)"
   ]
  }
 ],
 "metadata": {},
 "nbformat": 4,
 "nbformat_minor": 5
}
