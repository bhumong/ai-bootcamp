{
 "cells": [
  {
   "cell_type": "markdown",
   "id": "c5baed46",
   "metadata": {},
   "source": [
    "source: [link](https://ai-bootcamp.ruangguru.com/learn/01_toolkits/01_version-control/02_git-command-local/04_gitignore.html)"
   ]
  },
  {
   "cell_type": "markdown",
   "id": "ce6662d2",
   "metadata": {},
   "source": [
    "# .gitignore"
   ]
  },
  {
   "cell_type": "markdown",
   "id": "a99ef516",
   "metadata": {},
   "source": [
    " Git Ignore (Source: wpforthewin.com)"
   ]
  },
  {
   "cell_type": "markdown",
   "id": "d7bd6308",
   "metadata": {},
   "source": [
    "![Image](https://storage.googleapis.com/rg-ai-bootcamp/toolkits/git-ignore-min.jpg)"
   ]
  },
  {
   "cell_type": "markdown",
   "id": "10dc48b5",
   "metadata": {},
   "source": [
    "# What is .gitignore?"
   ]
  },
  {
   "cell_type": "markdown",
   "id": "f21bde7a",
   "metadata": {},
   "source": [
    "When sharing our code with others, there are often files or parts of the project that we don’t want to share. Or it could also be that the file is not suitable for tracking in Git (such as binary files)"
   ]
  },
  {
   "cell_type": "markdown",
   "id": "2f2787a1",
   "metadata": {},
   "source": [
    "Common examples are:"
   ]
  },
  {
   "cell_type": "markdown",
   "id": "b6bb113c",
   "metadata": {},
   "source": [
    "- Log files\n",
    "- Databases\n",
    "- Temporary files\n",
    "- Hidden files\n",
    "- Personal files\n",
    "- etc"
   ]
  },
  {
   "cell_type": "markdown",
   "id": "cec1ebd4",
   "metadata": {},
   "source": [
    "Git can determine which files or parts of a project should be ignored by Git using file .gitignore. Git will not track the files and folders specified in .gitignore but the .gitignore files themselves will be tracked by Git."
   ]
  },
  {
   "cell_type": "markdown",
   "id": "fd4465fd",
   "metadata": {},
   "source": [
    "# Rules when using .gitignore"
   ]
  },
  {
   "cell_type": "markdown",
   "id": "864d80f6",
   "metadata": {},
   "source": [
    "Here are some general rules for pattern matching in .gitignore files:"
   ]
  },
  {
   "cell_type": "markdown",
   "id": "3b61085f",
   "metadata": {},
   "source": [
    "| Pattern | Explanation | Example |\n",
    "| --- | --- | --- |\n",
    "| name | Allfilenames andfoldernames in anyfolder | /name.logor/name/file.txtor/lib/name.log |\n",
    "| name/ | namesending with/will determine the pattern forfolder. This matches allfilesandfolderswithin thefoldername | /name/file.txtor/name/log/name.logdoes not match:/name.log |\n",
    "| *.file | Allfileswith the extension .file | /name.fileor/lib/name.file |"
   ]
  },
  {
   "cell_type": "markdown",
   "id": "1699ab3b",
   "metadata": {},
   "source": [
    "To see more complete rules for .gitignore, you can see here"
   ]
  },
  {
   "cell_type": "markdown",
   "id": "4cde2d1d",
   "metadata": {},
   "source": [
    "# Example of .gitignore"
   ]
  },
  {
   "cell_type": "markdown",
   "id": "7bf72690",
   "metadata": {},
   "source": [
    "To create a .gitignore file, go to the root of the Git repository and create the file:"
   ]
  },
  {
   "cell_type": "markdown",
   "id": "35734ee1",
   "metadata": {},
   "source": [
    "Linux or Mac:"
   ]
  },
  {
   "cell_type": "code",
   "execution_count": null,
   "id": "c77dc37f",
   "metadata": {},
   "outputs": [],
   "source": [
    "touch .gitignore"
   ]
  },
  {
   "cell_type": "markdown",
   "id": "8e6bf855",
   "metadata": {},
   "source": [
    "Windows:"
   ]
  },
  {
   "cell_type": "code",
   "execution_count": null,
   "id": "c692a105",
   "metadata": {},
   "outputs": [],
   "source": [
    "type nul > .gitignore"
   ]
  },
  {
   "cell_type": "markdown",
   "id": "2dd2f09b",
   "metadata": {},
   "source": [
    "Now open the file using the text editor and we can add two simple rules:"
   ]
  },
  {
   "cell_type": "markdown",
   "id": "299a04e7",
   "metadata": {},
   "source": [
    "- Ignore any files with.logextension\n",
    "- Ignore everything in any directory/foldernamedtemp"
   ]
  },
  {
   "cell_type": "markdown",
   "id": "a33f1116",
   "metadata": {},
   "source": [
    "The following are the contents of the file .gitignore by implementing the rules above (the text after the # is a comment):"
   ]
  },
  {
   "cell_type": "code",
   "execution_count": null,
   "id": "ae63114f",
   "metadata": {},
   "outputs": [],
   "source": [
    "# Ignore ALL .log files\n",
    "*.log\n",
    "\n",
    "# Ignore ALL files in ANY directory named temp\n",
    "temp/"
   ]
  },
  {
   "cell_type": "markdown",
   "id": "cf17fd29",
   "metadata": {},
   "source": [
    "Now all .log files and anything in the temp folder will be ignored by Git."
   ]
  },
  {
   "cell_type": "markdown",
   "id": "c0f8b828",
   "metadata": {},
   "source": [
    "> Note: Here, we are using a single.gitignorethat applies to the entire repository."
   ]
  },
  {
   "cell_type": "markdown",
   "id": "829f3a2c",
   "metadata": {},
   "source": [
    "Note: Here, we are using a single .gitignore that applies to the entire repository."
   ]
  },
  {
   "cell_type": "markdown",
   "id": "57c64f7f",
   "metadata": {},
   "source": [
    "It is also possible to have additional .gitignore files in subdirectories. This will only apply to files or folders in that directory, for example:"
   ]
  },
  {
   "cell_type": "markdown",
   "id": "84653ec8",
   "metadata": {},
   "source": []
  },
  {
   "cell_type": "markdown",
   "id": "389d6c2e",
   "metadata": {},
   "source": [
    "![Image](https://storage.googleapis.com/rg-ai-bootcamp/toolkits/gitignore-sub-directory-min.png)"
   ]
  },
  {
   "cell_type": "markdown",
   "id": "06a130e9",
   "metadata": {},
   "source": [
    "Explanation of the image above:"
   ]
  },
  {
   "cell_type": "markdown",
   "id": "fa587586",
   "metadata": {},
   "source": [
    "- Note that.gitignoreis in asub-directorynot in theroot repositoryand it has a rule for Git to ignorefilesdocumentation.mdandsub-documentation.md.\n",
    "- When we dogit statuswe see thatfiledocumentation.mdandfoldersub-directory/are still tracked. Remember that Git will track.gitignorefiles.\n",
    "- But if you pay attention there is something strange, you can see that thefiledocumentation.mdis still being tracked by Git. This should not happen because we have already registered it in the.gitignorefile. Why could that happen?\n",
    "- This proves that.gitignoreinsub-directoryonly affects thefilesinside it, while outside thefolderit will have no effect."
   ]
  },
  {
   "cell_type": "markdown",
   "id": "44d209ad",
   "metadata": {},
   "source": [
    "Note that .gitignore is in a sub-directory not in the root repository and it has a rule for Git to ignore files documentation.md and sub-documentation.md."
   ]
  },
  {
   "cell_type": "markdown",
   "id": "d3e84114",
   "metadata": {},
   "source": [
    "When we do git status we see that file documentation.md and folder sub-directory/ are still tracked. Remember that Git will track .gitignore files."
   ]
  },
  {
   "cell_type": "markdown",
   "id": "fd21cda8",
   "metadata": {},
   "source": [
    "But if you pay attention there is something strange, you can see that the file documentation.md is still being tracked by Git. This should not happen because we have already registered it in the .gitignore file. Why could that happen?"
   ]
  },
  {
   "cell_type": "markdown",
   "id": "5e733ff5",
   "metadata": {},
   "source": [
    "This proves that .gitignore in sub-directory only affects the files inside it, while outside the folder it will have no effect."
   ]
  },
  {
   "cell_type": "markdown",
   "id": "939dab57",
   "metadata": {},
   "source": [
    "For more details, you can watch the following video:"
   ]
  },
  {
   "cell_type": "markdown",
   "id": "0ab4f8bb",
   "metadata": {},
   "source": []
  },
  {
   "cell_type": "markdown",
   "id": "17b07753",
   "metadata": {},
   "source": [
    "![Image](https://img.youtube.com/vi/IABAxrQhj_A/1.jpg)"
   ]
  }
 ],
 "metadata": {},
 "nbformat": 4,
 "nbformat_minor": 5
}
