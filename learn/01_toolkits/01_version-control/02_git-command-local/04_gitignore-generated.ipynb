{
 "cells": [
  {
   "cell_type": "markdown",
   "id": "0c5ad2fb",
   "metadata": {},
   "source": [
    "source: [https://ai-bootcamp.ruangguru.com/learn/01_toolkits/01_version-control/02_git-command-local/04_gitignore.html](https://ai-bootcamp.ruangguru.com/learn/01_toolkits/01_version-control/02_git-command-local/04_gitignore.html)"
   ]
  },
  {
   "cell_type": "markdown",
   "id": "3c779b8f",
   "metadata": {},
   "source": [
    "# .gitignore"
   ]
  },
  {
   "cell_type": "markdown",
   "id": "38f9dc81",
   "metadata": {},
   "source": [
    " Git Ignore (Source: wpforthewin.com)"
   ]
  },
  {
   "cell_type": "markdown",
   "id": "0ee3c993",
   "metadata": {},
   "source": [
    "![Image](https://storage.googleapis.com/rg-ai-bootcamp/toolkits/git-ignore-min.jpg)"
   ]
  },
  {
   "cell_type": "markdown",
   "id": "68e6ec83",
   "metadata": {},
   "source": [
    "# What is .gitignore?"
   ]
  },
  {
   "cell_type": "markdown",
   "id": "378a9b5b",
   "metadata": {},
   "source": [
    "When sharing our code with others, there are often files or parts of the project that we don’t want to share. Or it could also be that the file is not suitable for tracking in Git (such as binary files)"
   ]
  },
  {
   "cell_type": "markdown",
   "id": "06b6de28",
   "metadata": {},
   "source": [
    "Common examples are:"
   ]
  },
  {
   "cell_type": "markdown",
   "id": "3dda0223",
   "metadata": {},
   "source": [
    "- Log files\n",
    "- Databases\n",
    "- Temporary files\n",
    "- Hidden files\n",
    "- Personal files\n",
    "- etc"
   ]
  },
  {
   "cell_type": "markdown",
   "id": "534cb479",
   "metadata": {},
   "source": [
    "Git can determine which files or parts of a project should be ignored by Git using file .gitignore. Git will not track the files and folders specified in .gitignore but the .gitignore files themselves will be tracked by Git."
   ]
  },
  {
   "cell_type": "markdown",
   "id": "6e1cd93f",
   "metadata": {},
   "source": [
    "# Rules when using .gitignore"
   ]
  },
  {
   "cell_type": "markdown",
   "id": "d627714a",
   "metadata": {},
   "source": [
    "Here are some general rules for pattern matching in .gitignore files:"
   ]
  },
  {
   "cell_type": "markdown",
   "id": "cdb473e9",
   "metadata": {},
   "source": [
    "| Pattern | Explanation | Example |\n",
    "| --- | --- | --- |\n",
    "| name | Allfilenames andfoldernames in anyfolder | /name.logor/name/file.txtor/lib/name.log |\n",
    "| name/ | namesending with/will determine the pattern forfolder. This matches allfilesandfolderswithin thefoldername | /name/file.txtor/name/log/name.logdoes not match:/name.log |\n",
    "| *.file | Allfileswith the extension .file | /name.fileor/lib/name.file |"
   ]
  },
  {
   "cell_type": "markdown",
   "id": "68e98073",
   "metadata": {},
   "source": [
    "To see more complete rules for .gitignore, you can see here"
   ]
  },
  {
   "cell_type": "markdown",
   "id": "b747ccd4",
   "metadata": {},
   "source": [
    "# Example of .gitignore"
   ]
  },
  {
   "cell_type": "markdown",
   "id": "90faeeea",
   "metadata": {},
   "source": [
    "To create a .gitignore file, go to the root of the Git repository and create the file:"
   ]
  },
  {
   "cell_type": "markdown",
   "id": "9c31add4",
   "metadata": {},
   "source": [
    "Linux or Mac:"
   ]
  },
  {
   "cell_type": "code",
   "execution_count": null,
   "id": "98d0a65f",
   "metadata": {},
   "outputs": [],
   "source": [
    "touch .gitignore"
   ]
  },
  {
   "cell_type": "markdown",
   "id": "1a0b686c",
   "metadata": {},
   "source": [
    "Windows:"
   ]
  },
  {
   "cell_type": "code",
   "execution_count": null,
   "id": "14bc2e3d",
   "metadata": {},
   "outputs": [],
   "source": [
    "type nul > .gitignore"
   ]
  },
  {
   "cell_type": "markdown",
   "id": "79110b65",
   "metadata": {},
   "source": [
    "Now open the file using the text editor and we can add two simple rules:"
   ]
  },
  {
   "cell_type": "markdown",
   "id": "27f0a536",
   "metadata": {},
   "source": [
    "- Ignore any files with.logextension\n",
    "- Ignore everything in any directory/foldernamedtemp"
   ]
  },
  {
   "cell_type": "markdown",
   "id": "91d93c79",
   "metadata": {},
   "source": [
    "The following are the contents of the file .gitignore by implementing the rules above (the text after the # is a comment):"
   ]
  },
  {
   "cell_type": "code",
   "execution_count": null,
   "id": "1db8549e",
   "metadata": {},
   "outputs": [],
   "source": [
    "# Ignore ALL .log files\n",
    "*.log\n",
    "\n",
    "# Ignore ALL files in ANY directory named temp\n",
    "temp/"
   ]
  },
  {
   "cell_type": "markdown",
   "id": "6626251b",
   "metadata": {},
   "source": [
    "Now all .log files and anything in the temp folder will be ignored by Git."
   ]
  },
  {
   "cell_type": "markdown",
   "id": "17c64a9d",
   "metadata": {},
   "source": [
    "> Note: Here, we are using a single.gitignorethat applies to the entire repository."
   ]
  },
  {
   "cell_type": "markdown",
   "id": "6cd4ca99",
   "metadata": {},
   "source": [
    "Note: Here, we are using a single .gitignore that applies to the entire repository."
   ]
  },
  {
   "cell_type": "markdown",
   "id": "cc19ef53",
   "metadata": {},
   "source": [
    "It is also possible to have additional .gitignore files in subdirectories. This will only apply to files or folders in that directory, for example:"
   ]
  },
  {
   "cell_type": "markdown",
   "id": "c4c1f783",
   "metadata": {},
   "source": []
  },
  {
   "cell_type": "markdown",
   "id": "a11b0dcd",
   "metadata": {},
   "source": [
    "![Image](https://storage.googleapis.com/rg-ai-bootcamp/toolkits/gitignore-sub-directory-min.png)"
   ]
  },
  {
   "cell_type": "markdown",
   "id": "cd6031eb",
   "metadata": {},
   "source": [
    "Explanation of the image above:"
   ]
  },
  {
   "cell_type": "markdown",
   "id": "e7628b11",
   "metadata": {},
   "source": [
    "- Note that.gitignoreis in asub-directorynot in theroot repositoryand it has a rule for Git to ignorefilesdocumentation.mdandsub-documentation.md.\n",
    "- When we dogit statuswe see thatfiledocumentation.mdandfoldersub-directory/are still tracked. Remember that Git will track.gitignorefiles.\n",
    "- But if you pay attention there is something strange, you can see that thefiledocumentation.mdis still being tracked by Git. This should not happen because we have already registered it in the.gitignorefile. Why could that happen?\n",
    "- This proves that.gitignoreinsub-directoryonly affects thefilesinside it, while outside thefolderit will have no effect."
   ]
  },
  {
   "cell_type": "markdown",
   "id": "197ff0a6",
   "metadata": {},
   "source": [
    "Note that .gitignore is in a sub-directory not in the root repository and it has a rule for Git to ignore files documentation.md and sub-documentation.md."
   ]
  },
  {
   "cell_type": "markdown",
   "id": "31910631",
   "metadata": {},
   "source": [
    "When we do git status we see that file documentation.md and folder sub-directory/ are still tracked. Remember that Git will track .gitignore files."
   ]
  },
  {
   "cell_type": "markdown",
   "id": "e66afc2d",
   "metadata": {},
   "source": [
    "But if you pay attention there is something strange, you can see that the file documentation.md is still being tracked by Git. This should not happen because we have already registered it in the .gitignore file. Why could that happen?"
   ]
  },
  {
   "cell_type": "markdown",
   "id": "92357ccf",
   "metadata": {},
   "source": [
    "This proves that .gitignore in sub-directory only affects the files inside it, while outside the folder it will have no effect."
   ]
  },
  {
   "cell_type": "markdown",
   "id": "8ab27072",
   "metadata": {},
   "source": [
    "For more details, you can watch the following video:"
   ]
  },
  {
   "cell_type": "markdown",
   "id": "a1b7ae03",
   "metadata": {},
   "source": []
  },
  {
   "cell_type": "markdown",
   "id": "86cc8472",
   "metadata": {},
   "source": [
    "![Image](https://img.youtube.com/vi/IABAxrQhj_A/1.jpg)"
   ]
  }
 ],
 "metadata": {},
 "nbformat": 4,
 "nbformat_minor": 5
}
