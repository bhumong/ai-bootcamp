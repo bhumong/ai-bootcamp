{
 "cells": [
  {
   "cell_type": "markdown",
   "id": "72fda294",
   "metadata": {},
   "source": [
    "source: [link](https://ai-bootcamp.ruangguru.com/learn/01_toolkits/01_version-control/02_git-command-local/04_gitignore.html)"
   ]
  },
  {
   "cell_type": "markdown",
   "id": "a20addde",
   "metadata": {},
   "source": [
    "# .gitignore"
   ]
  },
  {
   "cell_type": "markdown",
   "id": "31db035c",
   "metadata": {},
   "source": [
    " Git Ignore (Source: wpforthewin.com)"
   ]
  },
  {
   "cell_type": "markdown",
   "id": "771c2f41",
   "metadata": {},
   "source": [
    "![Image](https://storage.googleapis.com/rg-ai-bootcamp/toolkits/git-ignore-min.jpg)"
   ]
  },
  {
   "cell_type": "markdown",
   "id": "10806597",
   "metadata": {},
   "source": [
    "# What is .gitignore?"
   ]
  },
  {
   "cell_type": "markdown",
   "id": "07b467cc",
   "metadata": {},
   "source": [
    "When sharing our code with others, there are often files or parts of the project that we don’t want to share. Or it could also be that the file is not suitable for tracking in Git (such as binary files)"
   ]
  },
  {
   "cell_type": "markdown",
   "id": "cd2f9e13",
   "metadata": {},
   "source": [
    "Common examples are:"
   ]
  },
  {
   "cell_type": "markdown",
   "id": "94f5fd8e",
   "metadata": {},
   "source": [
    "Git can determine which files or parts of a project should be ignored by Git using file .gitignore. Git will not track the files and folders specified in .gitignore but the .gitignore files themselves will be tracked by Git."
   ]
  },
  {
   "cell_type": "markdown",
   "id": "63d6eced",
   "metadata": {},
   "source": [
    "# Rules when using .gitignore"
   ]
  },
  {
   "cell_type": "markdown",
   "id": "84dda0c8",
   "metadata": {},
   "source": [
    "Here are some general rules for pattern matching in .gitignore files:"
   ]
  },
  {
   "cell_type": "markdown",
   "id": "a816bbd1",
   "metadata": {},
   "source": [
    "| Pattern | Explanation | Example |\n",
    "| --- | --- | --- |\n",
    "| name | Allfilenames andfoldernames in anyfolder | /name.logor/name/file.txtor/lib/name.log |\n",
    "| name/ | namesending with/will determine the pattern forfolder. This matches allfilesandfolderswithin thefoldername | /name/file.txtor/name/log/name.logdoes not match:/name.log |\n",
    "| *.file | Allfileswith the extension .file | /name.fileor/lib/name.file |"
   ]
  },
  {
   "cell_type": "markdown",
   "id": "e67b382e",
   "metadata": {},
   "source": [
    "To see more complete rules for .gitignore, you can see here"
   ]
  },
  {
   "cell_type": "markdown",
   "id": "6b5f2ac2",
   "metadata": {},
   "source": [
    "# Example of .gitignore"
   ]
  },
  {
   "cell_type": "markdown",
   "id": "8ffa150a",
   "metadata": {},
   "source": [
    "To create a .gitignore file, go to the root of the Git repository and create the file:"
   ]
  },
  {
   "cell_type": "markdown",
   "id": "d324fb9c",
   "metadata": {},
   "source": [
    "Linux or Mac:"
   ]
  },
  {
   "cell_type": "code",
   "execution_count": null,
   "id": "dbc3f375",
   "metadata": {},
   "outputs": [],
   "source": [
    "touch .gitignore"
   ]
  },
  {
   "cell_type": "markdown",
   "id": "2f19fd6d",
   "metadata": {},
   "source": [
    "Windows:"
   ]
  },
  {
   "cell_type": "code",
   "execution_count": null,
   "id": "077d72fc",
   "metadata": {},
   "outputs": [],
   "source": [
    "type nul > .gitignore"
   ]
  },
  {
   "cell_type": "markdown",
   "id": "0db6c7ef",
   "metadata": {},
   "source": [
    "Now open the file using the text editor and we can add two simple rules:"
   ]
  },
  {
   "cell_type": "markdown",
   "id": "afa018da",
   "metadata": {},
   "source": [
    "The following are the contents of the file .gitignore by implementing the rules above (the text after the # is a comment):"
   ]
  },
  {
   "cell_type": "code",
   "execution_count": null,
   "id": "719c5d36",
   "metadata": {},
   "outputs": [],
   "source": [
    "# Ignore ALL .log files\n",
    "*.log\n",
    "\n",
    "# Ignore ALL files in ANY directory named temp\n",
    "temp/"
   ]
  },
  {
   "cell_type": "markdown",
   "id": "6a17dba5",
   "metadata": {},
   "source": [
    "Now all .log files and anything in the temp folder will be ignored by Git."
   ]
  },
  {
   "cell_type": "markdown",
   "id": "bcef561b",
   "metadata": {},
   "source": [
    "Note: Here, we are using a single .gitignore that applies to the entire repository."
   ]
  },
  {
   "cell_type": "markdown",
   "id": "fb70b892",
   "metadata": {},
   "source": [
    "It is also possible to have additional .gitignore files in subdirectories. This will only apply to files or folders in that directory, for example:"
   ]
  },
  {
   "cell_type": "markdown",
   "id": "4f6638e7",
   "metadata": {},
   "source": []
  },
  {
   "cell_type": "markdown",
   "id": "f8c9678e",
   "metadata": {},
   "source": [
    "![Image](https://storage.googleapis.com/rg-ai-bootcamp/toolkits/gitignore-sub-directory-min.png)"
   ]
  },
  {
   "cell_type": "markdown",
   "id": "d9a07f8b",
   "metadata": {},
   "source": [
    "Explanation of the image above:"
   ]
  },
  {
   "cell_type": "markdown",
   "id": "ec44898c",
   "metadata": {},
   "source": [
    "Note that .gitignore is in a sub-directory not in the root repository and it has a rule for Git to ignore files documentation.md and sub-documentation.md."
   ]
  },
  {
   "cell_type": "markdown",
   "id": "7c72ea31",
   "metadata": {},
   "source": [
    "When we do git status we see that file documentation.md and folder sub-directory/ are still tracked. Remember that Git will track .gitignore files."
   ]
  },
  {
   "cell_type": "markdown",
   "id": "d225bfb5",
   "metadata": {},
   "source": [
    "But if you pay attention there is something strange, you can see that the file documentation.md is still being tracked by Git. This should not happen because we have already registered it in the .gitignore file. Why could that happen?"
   ]
  },
  {
   "cell_type": "markdown",
   "id": "6a8ae4ef",
   "metadata": {},
   "source": [
    "This proves that .gitignore in sub-directory only affects the files inside it, while outside the folder it will have no effect."
   ]
  },
  {
   "cell_type": "markdown",
   "id": "b4b2309d",
   "metadata": {},
   "source": [
    "For more details, you can watch the following video:"
   ]
  },
  {
   "cell_type": "markdown",
   "id": "cde57090",
   "metadata": {},
   "source": []
  },
  {
   "cell_type": "markdown",
   "id": "7303a005",
   "metadata": {},
   "source": [
    "![Image](https://img.youtube.com/vi/IABAxrQhj_A/1.jpg)"
   ]
  }
 ],
 "metadata": {},
 "nbformat": 4,
 "nbformat_minor": 5
}
