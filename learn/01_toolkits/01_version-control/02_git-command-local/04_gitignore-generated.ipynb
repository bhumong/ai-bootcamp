{
 "cells": [
  {
   "cell_type": "markdown",
   "id": "06c968b1",
   "metadata": {},
   "source": [
    "source: [link](https://ai-bootcamp.ruangguru.com/learn/01_toolkits/01_version-control/02_git-command-local/04_gitignore.html)"
   ]
  },
  {
   "cell_type": "markdown",
   "id": "171b8c8b",
   "metadata": {},
   "source": [
    "# .gitignore"
   ]
  },
  {
   "cell_type": "markdown",
   "id": "1f44e7a1",
   "metadata": {},
   "source": [
    " Git Ignore (Source: wpforthewin.com)"
   ]
  },
  {
   "cell_type": "markdown",
   "id": "f2e15c4d",
   "metadata": {},
   "source": [
    "![Image](https://storage.googleapis.com/rg-ai-bootcamp/toolkits/git-ignore-min.jpg)"
   ]
  },
  {
   "cell_type": "markdown",
   "id": "ff7fdc78",
   "metadata": {},
   "source": [
    "# What is .gitignore?"
   ]
  },
  {
   "cell_type": "markdown",
   "id": "f5ec80a4",
   "metadata": {},
   "source": [
    "When sharing our code with others, there are often files or parts of the project that we don’t want to share. Or it could also be that the file is not suitable for tracking in Git (such as binary files)"
   ]
  },
  {
   "cell_type": "markdown",
   "id": "7e358ce0",
   "metadata": {},
   "source": [
    "Common examples are:"
   ]
  },
  {
   "cell_type": "markdown",
   "id": "30584bb8",
   "metadata": {},
   "source": [
    "Git can determine which files or parts of a project should be ignored by Git using file .gitignore. Git will not track the files and folders specified in .gitignore but the .gitignore files themselves will be tracked by Git."
   ]
  },
  {
   "cell_type": "markdown",
   "id": "c8b0d850",
   "metadata": {},
   "source": [
    "# Rules when using .gitignore"
   ]
  },
  {
   "cell_type": "markdown",
   "id": "2bf17e4e",
   "metadata": {},
   "source": [
    "Here are some general rules for pattern matching in .gitignore files:"
   ]
  },
  {
   "cell_type": "markdown",
   "id": "1de91889",
   "metadata": {},
   "source": [
    "To see more complete rules for .gitignore, you can see here"
   ]
  },
  {
   "cell_type": "markdown",
   "id": "40947f90",
   "metadata": {},
   "source": [
    "# Example of .gitignore"
   ]
  },
  {
   "cell_type": "markdown",
   "id": "3db6b781",
   "metadata": {},
   "source": [
    "To create a .gitignore file, go to the root of the Git repository and create the file:"
   ]
  },
  {
   "cell_type": "markdown",
   "id": "4f8e29f6",
   "metadata": {},
   "source": [
    "Linux or Mac:"
   ]
  },
  {
   "cell_type": "code",
   "execution_count": null,
   "id": "ece062c7",
   "metadata": {},
   "outputs": [],
   "source": [
    "touch .gitignore"
   ]
  },
  {
   "cell_type": "markdown",
   "id": "bd4814ba",
   "metadata": {},
   "source": [
    "Windows:"
   ]
  },
  {
   "cell_type": "code",
   "execution_count": null,
   "id": "f9eaa7fb",
   "metadata": {},
   "outputs": [],
   "source": [
    "type nul > .gitignore"
   ]
  },
  {
   "cell_type": "markdown",
   "id": "aa088f98",
   "metadata": {},
   "source": [
    "Now open the file using the text editor and we can add two simple rules:"
   ]
  },
  {
   "cell_type": "markdown",
   "id": "82d229de",
   "metadata": {},
   "source": [
    "The following are the contents of the file .gitignore by implementing the rules above (the text after the # is a comment):"
   ]
  },
  {
   "cell_type": "code",
   "execution_count": null,
   "id": "fa67ca46",
   "metadata": {},
   "outputs": [],
   "source": [
    "# Ignore ALL .log files\n",
    "*.log\n",
    "\n",
    "# Ignore ALL files in ANY directory named temp\n",
    "temp/"
   ]
  },
  {
   "cell_type": "markdown",
   "id": "6b0396df",
   "metadata": {},
   "source": [
    "Now all .log files and anything in the temp folder will be ignored by Git."
   ]
  },
  {
   "cell_type": "markdown",
   "id": "fcc4cdae",
   "metadata": {},
   "source": [
    "Note: Here, we are using a single .gitignore that applies to the entire repository."
   ]
  },
  {
   "cell_type": "markdown",
   "id": "04ee0c98",
   "metadata": {},
   "source": [
    "It is also possible to have additional .gitignore files in subdirectories. This will only apply to files or folders in that directory, for example:"
   ]
  },
  {
   "cell_type": "markdown",
   "id": "d3177771",
   "metadata": {},
   "source": []
  },
  {
   "cell_type": "markdown",
   "id": "2e342275",
   "metadata": {},
   "source": [
    "![Image](https://storage.googleapis.com/rg-ai-bootcamp/toolkits/gitignore-sub-directory-min.png)"
   ]
  },
  {
   "cell_type": "markdown",
   "id": "e5b05ed2",
   "metadata": {},
   "source": [
    "Explanation of the image above:"
   ]
  },
  {
   "cell_type": "markdown",
   "id": "193d136b",
   "metadata": {},
   "source": [
    "Note that .gitignore is in a sub-directory not in the root repository and it has a rule for Git to ignore files documentation.md and sub-documentation.md."
   ]
  },
  {
   "cell_type": "markdown",
   "id": "def96d2e",
   "metadata": {},
   "source": [
    "When we do git status we see that file documentation.md and folder sub-directory/ are still tracked. Remember that Git will track .gitignore files."
   ]
  },
  {
   "cell_type": "markdown",
   "id": "29165816",
   "metadata": {},
   "source": [
    "But if you pay attention there is something strange, you can see that the file documentation.md is still being tracked by Git. This should not happen because we have already registered it in the .gitignore file. Why could that happen?"
   ]
  },
  {
   "cell_type": "markdown",
   "id": "2fa7363c",
   "metadata": {},
   "source": [
    "This proves that .gitignore in sub-directory only affects the files inside it, while outside the folder it will have no effect."
   ]
  },
  {
   "cell_type": "markdown",
   "id": "708b1d4c",
   "metadata": {},
   "source": [
    "For more details, you can watch the following video:"
   ]
  },
  {
   "cell_type": "markdown",
   "id": "e390d623",
   "metadata": {},
   "source": []
  },
  {
   "cell_type": "markdown",
   "id": "7c367324",
   "metadata": {},
   "source": [
    "![Image](https://img.youtube.com/vi/IABAxrQhj_A/1.jpg)"
   ]
  }
 ],
 "metadata": {},
 "nbformat": 4,
 "nbformat_minor": 5
}
