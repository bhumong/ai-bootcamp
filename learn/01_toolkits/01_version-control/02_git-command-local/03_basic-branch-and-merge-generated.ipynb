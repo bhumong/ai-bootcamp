{
 "cells": [
  {
   "cell_type": "markdown",
   "id": "6bc65a4e",
   "metadata": {},
   "source": [
    "source: [link](https://ai-bootcamp.ruangguru.com/learn/01_toolkits/01_version-control/02_git-command-local/03_basic-branch-and-merge.html)"
   ]
  },
  {
   "cell_type": "markdown",
   "id": "d14847fd",
   "metadata": {},
   "source": [
    "# Basic branch and merge"
   ]
  },
  {
   "cell_type": "markdown",
   "id": "71b19869",
   "metadata": {},
   "source": []
  },
  {
   "cell_type": "markdown",
   "id": "04ad218c",
   "metadata": {},
   "source": [
    "![Image](https://storage.googleapis.com/rg-ai-bootcamp/toolkits/git-branch-theme-min.png)"
   ]
  },
  {
   "cell_type": "markdown",
   "id": "b3981fe9",
   "metadata": {},
   "source": [
    "Git Branch (source: sitepoint.com)"
   ]
  },
  {
   "cell_type": "markdown",
   "id": "d3c66033",
   "metadata": {},
   "source": [
    "# Branch concept"
   ]
  },
  {
   "cell_type": "markdown",
   "id": "ebb49c11",
   "metadata": {},
   "source": [
    "When we create a new repository, a main branch will automatically be created which we can see by running git status."
   ]
  },
  {
   "cell_type": "code",
   "execution_count": null,
   "id": "aaa284e7",
   "metadata": {},
   "outputs": [],
   "source": [
    "> git init\n",
    "> git status\n",
    "\n",
    "On branch master\n",
    "\n",
    "No commits yet\n",
    "\n",
    "nothing to commit (create/copy files and use \"git add\" to track)"
   ]
  },
  {
   "cell_type": "markdown",
   "id": "72015059",
   "metadata": {},
   "source": [
    "In this example we see that the main branch that is automatically created after git init is branch master."
   ]
  },
  {
   "cell_type": "markdown",
   "id": "ff77a3a2",
   "metadata": {},
   "source": [
    "By creating a new branch while we are in the main branch, we will automatically have all the previous commits in the branch master, with which we can create various commits that are independent from those in master, and in the future, we can merge all commits again using the merging concept."
   ]
  },
  {
   "cell_type": "markdown",
   "id": "68a630f9",
   "metadata": {},
   "source": [
    "With the ability to separate from the main branch, and later combine it again, we can create a feature individually first before we decide to put it on the main branch."
   ]
  },
  {
   "cell_type": "markdown",
   "id": "48ac0f2e",
   "metadata": {},
   "source": [
    "# Creating a New Branch"
   ]
  },
  {
   "cell_type": "markdown",
   "id": "153711a8",
   "metadata": {},
   "source": [
    "Before creating a new branch, we try adding a commit first so that later we can study the git log."
   ]
  },
  {
   "cell_type": "code",
   "execution_count": null,
   "id": "114684b3",
   "metadata": {},
   "outputs": [],
   "source": [
    "> git add .\n",
    "> git commit -m \"Adding authentication\"\n",
    "[master (root-commit) c0e5bfa] Adding authentication\n",
    "  1 file changed, 1 insertion(+)\n",
    "  create mode 100644 auth.sh\n",
    "> git log\n",
    "commit c0e5bfa0259090c4919b5604c86bbd1e5fa45eaa (HEAD -> master)\n",
    "Author: Imam Assidiqqi <[email protected]>\n",
    "Date: Tue Aug 2 14:14:22 2022 +0700\n",
    "\n",
    "     Adding authentication"
   ]
  },
  {
   "cell_type": "markdown",
   "id": "1f566db9",
   "metadata": {},
   "source": [
    "Next we will learn how to create a new branch. We do this with the command git checkout -b <branch name>, where this command will create a new branch, and we automatically checkout that branch:"
   ]
  },
  {
   "cell_type": "code",
   "execution_count": null,
   "id": "c117ca1e",
   "metadata": {},
   "outputs": [],
   "source": [
    "> git branch\n",
    "*master\n",
    "> git checkout -b fix-authentication-bug\n",
    "Switched to a new branch 'fix-authentication-bug'\n",
    "> git branch\n",
    "* fix-authentication-bug\n",
    "   masters"
   ]
  },
  {
   "cell_type": "markdown",
   "id": "e0a65196",
   "metadata": {},
   "source": [
    "We see that we have a new branch, which if we compare it to the master branch, will have the same history as the existing history in master."
   ]
  },
  {
   "cell_type": "code",
   "execution_count": null,
   "id": "dc58cec0",
   "metadata": {},
   "outputs": [],
   "source": [
    "> git log\n",
    "commit c0e5bfa0259090c4919b5604c86bbd1e5fa45eaa (HEAD -> fix-authentication-bug, master)\n",
    "Author: Imam Assidiqqi <[email protected]>\n",
    "Date: Tue Aug 2 14:14:22 2022 +0700\n",
    "\n",
    "     Adding authentication\n",
    "\n",
    "> git log master\n",
    "commit c0e5bfa0259090c4919b5604c86bbd1e5fa45eaa (HEAD -> fix-authentication-bug, master)\n",
    "Author: Imam Assidiqqi <[email protected]>\n",
    "Date: Tue Aug 2 14:14:22 2022 +0700\n",
    "\n",
    "     Adding authentication"
   ]
  },
  {
   "cell_type": "markdown",
   "id": "ab00a777",
   "metadata": {},
   "source": [
    "Now we add a new commit in this branch."
   ]
  },
  {
   "cell_type": "code",
   "execution_count": null,
   "id": "369ccfc3",
   "metadata": {},
   "outputs": [],
   "source": [
    "> git add .\n",
    "> git commit -m \"Fixing bug in auth\"\n",
    "> git log\n",
    "commit c2507da9d997be98873c14095205dbc430078874 (HEAD -> fix-authentication-bug)\n",
    "Author: Imam Assidiqqi <[email protected]>\n",
    "Date: Tue Aug 2 14:21:46 2022 +0700\n",
    "\n",
    "     Fixed bug in auth\n",
    "\n",
    "commit c0e5bfa0259090c4919b5604c86bbd1e5fa45eaa (master)\n",
    "Author: Imam Assidiqqi <[email protected]>\n",
    "Date: Tue Aug 2 14:14:22 2022 +0700\n",
    "\n",
    "     Adding authentication\n",
    "\n",
    "> git log master\n",
    "commit c0e5bfa0259090c4919b5604c86bbd1e5fa45eaa (master)\n",
    "Author: Imam Assidiqqi <[email protected]>\n",
    "Date: Tue Aug 2 14:14:22 2022 +0700\n",
    "\n",
    "     Adding authentication"
   ]
  },
  {
   "cell_type": "markdown",
   "id": "281cc2f2",
   "metadata": {},
   "source": [
    "So it can be seen that fix-authentication-bug will have one commit different from master."
   ]
  },
  {
   "cell_type": "markdown",
   "id": "7efbcaa4",
   "metadata": {},
   "source": [
    "Then we can also conclude above that HEAD is a position that points to the branch we are in now."
   ]
  },
  {
   "cell_type": "markdown",
   "id": "0689a688",
   "metadata": {},
   "source": [
    "# How To Move Between Branches & Merging"
   ]
  },
  {
   "cell_type": "markdown",
   "id": "b2098e41",
   "metadata": {},
   "source": [
    "Merging is the process of bringing together commits from two different branches. A common example is when we want to merge the master branch with the branch containing the new feature we are working on."
   ]
  },
  {
   "cell_type": "markdown",
   "id": "199ea67f",
   "metadata": {},
   "source": [
    "Merging can be done by running git merge <name of branch to be merged>."
   ]
  },
  {
   "cell_type": "markdown",
   "id": "7926c0a7",
   "metadata": {},
   "source": [
    "To merge the repository that we have previously worked on above, we need to first enter the branch that we will merge with with git checkout master, then run git merge fix-authentication-bug."
   ]
  },
  {
   "cell_type": "code",
   "execution_count": null,
   "id": "66e01aa7",
   "metadata": {},
   "outputs": [],
   "source": [
    "> git branch\n",
    "* fix-authentication-bug\n",
    "   masters\n",
    "\n",
    "> git checkout master\n",
    "Switched to branch 'master'\n",
    "\n",
    "> git merge fix-authentication-bug\n",
    "Updating c0e5bfa..c2507da\n",
    "Fast forward\n",
    "  auth.sh | 1+\n",
    "  1 file changed, 1 insertion(+)\n",
    "\n",
    "> git log\n",
    "commit c2507da9d997be98873c14095205dbc430078874 (HEAD -> master, fix-authentication-bug)\n",
    "Author: Imam Assidiqqi <[email protected]>\n",
    "Date: Tue Aug 2 14:21:46 2022 +0700\n",
    "\n",
    "     Fixed bug in auth\n",
    "\n",
    "commit c0e5bfa0259090c4919b5604c86bbd1e5fa45eaa\n",
    "Author: Imam Assidiqqi <[email protected]>\n",
    "Date: Tue Aug 2 14:14:22 2022 +0700\n",
    "\n",
    "     Adding authentication"
   ]
  },
  {
   "cell_type": "markdown",
   "id": "f84c7c49",
   "metadata": {},
   "source": [
    "So we will see that now the commits that were in fix-authentication-bug, will also be in master."
   ]
  },
  {
   "cell_type": "markdown",
   "id": "af108265",
   "metadata": {},
   "source": [
    "# Git Merge Conflict Resolution"
   ]
  },
  {
   "cell_type": "markdown",
   "id": "960d91be",
   "metadata": {},
   "source": [
    "The merge process is handled automatically by Git, but there are times when the merge we do fails, this is called Git Merge Conflict. For this reason, we need to check and make changes manually. For more details, let’s watch the following video:"
   ]
  },
  {
   "cell_type": "markdown",
   "id": "8b8eade5",
   "metadata": {},
   "source": []
  },
  {
   "cell_type": "markdown",
   "id": "3f0b992d",
   "metadata": {},
   "source": [
    "![Image](https://img.youtube.com/vi/zsNWepWweLs/1.jpg)"
   ]
  }
 ],
 "metadata": {},
 "nbformat": 4,
 "nbformat_minor": 5
}
