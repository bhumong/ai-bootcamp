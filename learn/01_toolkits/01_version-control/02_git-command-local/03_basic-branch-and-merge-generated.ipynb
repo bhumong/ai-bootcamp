{
 "cells": [
  {
   "cell_type": "markdown",
   "id": "695e6e8b",
   "metadata": {},
   "source": [
    "source: [link](https://ai-bootcamp.ruangguru.com/learn/01_toolkits/01_version-control/02_git-command-local/03_basic-branch-and-merge.html)"
   ]
  },
  {
   "cell_type": "markdown",
   "id": "2d093bb5",
   "metadata": {},
   "source": [
    "# Basic branch and merge"
   ]
  },
  {
   "cell_type": "markdown",
   "id": "e7edd349",
   "metadata": {},
   "source": []
  },
  {
   "cell_type": "markdown",
   "id": "09c9ae3a",
   "metadata": {},
   "source": [
    "![Image](https://storage.googleapis.com/rg-ai-bootcamp/toolkits/git-branch-theme-min.png)"
   ]
  },
  {
   "cell_type": "markdown",
   "id": "8f8e8e86",
   "metadata": {},
   "source": [
    "Git Branch (source: sitepoint.com)"
   ]
  },
  {
   "cell_type": "markdown",
   "id": "854e61ec",
   "metadata": {},
   "source": [
    "# Branch concept"
   ]
  },
  {
   "cell_type": "markdown",
   "id": "fbe9208a",
   "metadata": {},
   "source": [
    "When we create a new repository, a main branch will automatically be created which we can see by running git status."
   ]
  },
  {
   "cell_type": "code",
   "execution_count": null,
   "id": "8407e9fc",
   "metadata": {},
   "outputs": [],
   "source": [
    "> git init\n",
    "> git status\n",
    "\n",
    "On branch master\n",
    "\n",
    "No commits yet\n",
    "\n",
    "nothing to commit (create/copy files and use \"git add\" to track)"
   ]
  },
  {
   "cell_type": "markdown",
   "id": "9077a3ba",
   "metadata": {},
   "source": [
    "In this example we see that the main branch that is automatically created after git init is branch master."
   ]
  },
  {
   "cell_type": "markdown",
   "id": "377f578c",
   "metadata": {},
   "source": [
    "By creating a new branch while we are in the main branch, we will automatically have all the previous commits in the branch master, with which we can create various commits that are independent from those in master, and in the future, we can merge all commits again using the merging concept."
   ]
  },
  {
   "cell_type": "markdown",
   "id": "a4347b8b",
   "metadata": {},
   "source": [
    "With the ability to separate from the main branch, and later combine it again, we can create a feature individually first before we decide to put it on the main branch."
   ]
  },
  {
   "cell_type": "markdown",
   "id": "2ec7b5f6",
   "metadata": {},
   "source": [
    "# Creating a New Branch"
   ]
  },
  {
   "cell_type": "markdown",
   "id": "2b063f4f",
   "metadata": {},
   "source": [
    "Before creating a new branch, we try adding a commit first so that later we can study the git log."
   ]
  },
  {
   "cell_type": "code",
   "execution_count": null,
   "id": "1ce409b9",
   "metadata": {},
   "outputs": [],
   "source": [
    "> git add .\n",
    "> git commit -m \"Adding authentication\"\n",
    "[master (root-commit) c0e5bfa] Adding authentication\n",
    "  1 file changed, 1 insertion(+)\n",
    "  create mode 100644 auth.sh\n",
    "> git log\n",
    "commit c0e5bfa0259090c4919b5604c86bbd1e5fa45eaa (HEAD -> master)\n",
    "Author: Imam Assidiqqi <[email protected]>\n",
    "Date: Tue Aug 2 14:14:22 2022 +0700\n",
    "\n",
    "     Adding authentication"
   ]
  },
  {
   "cell_type": "markdown",
   "id": "4993193a",
   "metadata": {},
   "source": [
    "Next we will learn how to create a new branch. We do this with the command git checkout -b <branch name>, where this command will create a new branch, and we automatically checkout that branch:"
   ]
  },
  {
   "cell_type": "code",
   "execution_count": null,
   "id": "81fd8a97",
   "metadata": {},
   "outputs": [],
   "source": [
    "> git branch\n",
    "*master\n",
    "> git checkout -b fix-authentication-bug\n",
    "Switched to a new branch 'fix-authentication-bug'\n",
    "> git branch\n",
    "* fix-authentication-bug\n",
    "   masters"
   ]
  },
  {
   "cell_type": "markdown",
   "id": "7dc0320b",
   "metadata": {},
   "source": [
    "We see that we have a new branch, which if we compare it to the master branch, will have the same history as the existing history in master."
   ]
  },
  {
   "cell_type": "code",
   "execution_count": null,
   "id": "0aa84827",
   "metadata": {},
   "outputs": [],
   "source": [
    "> git log\n",
    "commit c0e5bfa0259090c4919b5604c86bbd1e5fa45eaa (HEAD -> fix-authentication-bug, master)\n",
    "Author: Imam Assidiqqi <[email protected]>\n",
    "Date: Tue Aug 2 14:14:22 2022 +0700\n",
    "\n",
    "     Adding authentication\n",
    "\n",
    "> git log master\n",
    "commit c0e5bfa0259090c4919b5604c86bbd1e5fa45eaa (HEAD -> fix-authentication-bug, master)\n",
    "Author: Imam Assidiqqi <[email protected]>\n",
    "Date: Tue Aug 2 14:14:22 2022 +0700\n",
    "\n",
    "     Adding authentication"
   ]
  },
  {
   "cell_type": "markdown",
   "id": "2956c740",
   "metadata": {},
   "source": [
    "Now we add a new commit in this branch."
   ]
  },
  {
   "cell_type": "code",
   "execution_count": null,
   "id": "9b99cc6b",
   "metadata": {},
   "outputs": [],
   "source": [
    "> git add .\n",
    "> git commit -m \"Fixing bug in auth\"\n",
    "> git log\n",
    "commit c2507da9d997be98873c14095205dbc430078874 (HEAD -> fix-authentication-bug)\n",
    "Author: Imam Assidiqqi <[email protected]>\n",
    "Date: Tue Aug 2 14:21:46 2022 +0700\n",
    "\n",
    "     Fixed bug in auth\n",
    "\n",
    "commit c0e5bfa0259090c4919b5604c86bbd1e5fa45eaa (master)\n",
    "Author: Imam Assidiqqi <[email protected]>\n",
    "Date: Tue Aug 2 14:14:22 2022 +0700\n",
    "\n",
    "     Adding authentication\n",
    "\n",
    "> git log master\n",
    "commit c0e5bfa0259090c4919b5604c86bbd1e5fa45eaa (master)\n",
    "Author: Imam Assidiqqi <[email protected]>\n",
    "Date: Tue Aug 2 14:14:22 2022 +0700\n",
    "\n",
    "     Adding authentication"
   ]
  },
  {
   "cell_type": "markdown",
   "id": "534bd944",
   "metadata": {},
   "source": [
    "So it can be seen that fix-authentication-bug will have one commit different from master."
   ]
  },
  {
   "cell_type": "markdown",
   "id": "9c2c72b3",
   "metadata": {},
   "source": [
    "Then we can also conclude above that HEAD is a position that points to the branch we are in now."
   ]
  },
  {
   "cell_type": "markdown",
   "id": "2d0b33c9",
   "metadata": {},
   "source": [
    "# How To Move Between Branches & Merging"
   ]
  },
  {
   "cell_type": "markdown",
   "id": "aef57e0d",
   "metadata": {},
   "source": [
    "Merging is the process of bringing together commits from two different branches. A common example is when we want to merge the master branch with the branch containing the new feature we are working on."
   ]
  },
  {
   "cell_type": "markdown",
   "id": "8a75cc99",
   "metadata": {},
   "source": [
    "Merging can be done by running git merge <name of branch to be merged>."
   ]
  },
  {
   "cell_type": "markdown",
   "id": "8a3501f1",
   "metadata": {},
   "source": [
    "To merge the repository that we have previously worked on above, we need to first enter the branch that we will merge with with git checkout master, then run git merge fix-authentication-bug."
   ]
  },
  {
   "cell_type": "code",
   "execution_count": null,
   "id": "e500bd7c",
   "metadata": {},
   "outputs": [],
   "source": [
    "> git branch\n",
    "* fix-authentication-bug\n",
    "   masters\n",
    "\n",
    "> git checkout master\n",
    "Switched to branch 'master'\n",
    "\n",
    "> git merge fix-authentication-bug\n",
    "Updating c0e5bfa..c2507da\n",
    "Fast forward\n",
    "  auth.sh | 1+\n",
    "  1 file changed, 1 insertion(+)\n",
    "\n",
    "> git log\n",
    "commit c2507da9d997be98873c14095205dbc430078874 (HEAD -> master, fix-authentication-bug)\n",
    "Author: Imam Assidiqqi <[email protected]>\n",
    "Date: Tue Aug 2 14:21:46 2022 +0700\n",
    "\n",
    "     Fixed bug in auth\n",
    "\n",
    "commit c0e5bfa0259090c4919b5604c86bbd1e5fa45eaa\n",
    "Author: Imam Assidiqqi <[email protected]>\n",
    "Date: Tue Aug 2 14:14:22 2022 +0700\n",
    "\n",
    "     Adding authentication"
   ]
  },
  {
   "cell_type": "markdown",
   "id": "5f918980",
   "metadata": {},
   "source": [
    "So we will see that now the commits that were in fix-authentication-bug, will also be in master."
   ]
  },
  {
   "cell_type": "markdown",
   "id": "b40b2491",
   "metadata": {},
   "source": [
    "# Git Merge Conflict Resolution"
   ]
  },
  {
   "cell_type": "markdown",
   "id": "80714f4e",
   "metadata": {},
   "source": [
    "The merge process is handled automatically by Git, but there are times when the merge we do fails, this is called Git Merge Conflict. For this reason, we need to check and make changes manually. For more details, let’s watch the following video:"
   ]
  },
  {
   "cell_type": "markdown",
   "id": "f0bdf34a",
   "metadata": {},
   "source": []
  },
  {
   "cell_type": "markdown",
   "id": "03711e35",
   "metadata": {},
   "source": [
    "![Image](https://img.youtube.com/vi/zsNWepWweLs/1.jpg)"
   ]
  }
 ],
 "metadata": {},
 "nbformat": 4,
 "nbformat_minor": 5
}
