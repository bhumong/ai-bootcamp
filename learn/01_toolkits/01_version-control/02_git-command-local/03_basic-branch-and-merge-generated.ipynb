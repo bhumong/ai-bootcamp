{
 "cells": [
  {
   "cell_type": "markdown",
   "id": "9f307b8d",
   "metadata": {},
   "source": [
    "# Basic branch and merge"
   ]
  },
  {
   "cell_type": "markdown",
   "id": "8875cdb3",
   "metadata": {},
   "source": []
  },
  {
   "cell_type": "markdown",
   "id": "c42df53a",
   "metadata": {},
   "source": [
    "Git Branch (source: sitepoint.com)"
   ]
  },
  {
   "cell_type": "markdown",
   "id": "12e6fc51",
   "metadata": {},
   "source": [
    "# Branch concept"
   ]
  },
  {
   "cell_type": "markdown",
   "id": "6dc9b0b6",
   "metadata": {},
   "source": [
    "When we create a new repository, a main branch will automatically be created which we can see by running git status."
   ]
  },
  {
   "cell_type": "code",
   "execution_count": null,
   "id": "334bfa54",
   "metadata": {},
   "outputs": [],
   "source": [
    "> git init\n",
    "> git status\n",
    "\n",
    "On branch master\n",
    "\n",
    "No commits yet\n",
    "\n",
    "nothing to commit (create/copy files and use \"git add\" to track)"
   ]
  },
  {
   "cell_type": "markdown",
   "id": "bdeb299f",
   "metadata": {},
   "source": [
    "In this example we see that the main branch that is automatically created after git init is branch master."
   ]
  },
  {
   "cell_type": "markdown",
   "id": "f575b710",
   "metadata": {},
   "source": [
    "By creating a new branch while we are in the main branch, we will automatically have all the previous commits in the branch master, with which we can create various commits that are independent from those in master, and in the future, we can merge all commits again using the merging concept."
   ]
  },
  {
   "cell_type": "markdown",
   "id": "f04bc888",
   "metadata": {},
   "source": [
    "With the ability to separate from the main branch, and later combine it again, we can create a feature individually first before we decide to put it on the main branch."
   ]
  },
  {
   "cell_type": "markdown",
   "id": "9db27fe4",
   "metadata": {},
   "source": [
    "# Creating a New Branch"
   ]
  },
  {
   "cell_type": "markdown",
   "id": "fe61755f",
   "metadata": {},
   "source": [
    "Before creating a new branch, we try adding a commit first so that later we can study the git log."
   ]
  },
  {
   "cell_type": "code",
   "execution_count": null,
   "id": "dd343af6",
   "metadata": {},
   "outputs": [],
   "source": [
    "> git add .\n",
    "> git commit -m \"Adding authentication\"\n",
    "[master (root-commit) c0e5bfa] Adding authentication\n",
    "  1 file changed, 1 insertion(+)\n",
    "  create mode 100644 auth.sh\n",
    "> git log\n",
    "commit c0e5bfa0259090c4919b5604c86bbd1e5fa45eaa (HEAD -> master)\n",
    "Author: Imam Assidiqqi <[email protected]>\n",
    "Date: Tue Aug 2 14:14:22 2022 +0700\n",
    "\n",
    "     Adding authentication"
   ]
  },
  {
   "cell_type": "markdown",
   "id": "a1c7b4e9",
   "metadata": {},
   "source": [
    "Next we will learn how to create a new branch. We do this with the command git checkout -b <branch name>, where this command will create a new branch, and we automatically checkout that branch:"
   ]
  },
  {
   "cell_type": "code",
   "execution_count": null,
   "id": "c8a1beaa",
   "metadata": {},
   "outputs": [],
   "source": [
    "> git branch\n",
    "*master\n",
    "> git checkout -b fix-authentication-bug\n",
    "Switched to a new branch 'fix-authentication-bug'\n",
    "> git branch\n",
    "* fix-authentication-bug\n",
    "   masters"
   ]
  },
  {
   "cell_type": "markdown",
   "id": "172d9159",
   "metadata": {},
   "source": [
    "We see that we have a new branch, which if we compare it to the master branch, will have the same history as the existing history in master."
   ]
  },
  {
   "cell_type": "code",
   "execution_count": null,
   "id": "ff4cffe4",
   "metadata": {},
   "outputs": [],
   "source": [
    "> git log\n",
    "commit c0e5bfa0259090c4919b5604c86bbd1e5fa45eaa (HEAD -> fix-authentication-bug, master)\n",
    "Author: Imam Assidiqqi <[email protected]>\n",
    "Date: Tue Aug 2 14:14:22 2022 +0700\n",
    "\n",
    "     Adding authentication\n",
    "\n",
    "> git log master\n",
    "commit c0e5bfa0259090c4919b5604c86bbd1e5fa45eaa (HEAD -> fix-authentication-bug, master)\n",
    "Author: Imam Assidiqqi <[email protected]>\n",
    "Date: Tue Aug 2 14:14:22 2022 +0700\n",
    "\n",
    "     Adding authentication"
   ]
  },
  {
   "cell_type": "markdown",
   "id": "3e487b91",
   "metadata": {},
   "source": [
    "Now we add a new commit in this branch."
   ]
  },
  {
   "cell_type": "code",
   "execution_count": null,
   "id": "d21aee2c",
   "metadata": {},
   "outputs": [],
   "source": [
    "> git add .\n",
    "> git commit -m \"Fixing bug in auth\"\n",
    "> git log\n",
    "commit c2507da9d997be98873c14095205dbc430078874 (HEAD -> fix-authentication-bug)\n",
    "Author: Imam Assidiqqi <[email protected]>\n",
    "Date: Tue Aug 2 14:21:46 2022 +0700\n",
    "\n",
    "     Fixed bug in auth\n",
    "\n",
    "commit c0e5bfa0259090c4919b5604c86bbd1e5fa45eaa (master)\n",
    "Author: Imam Assidiqqi <[email protected]>\n",
    "Date: Tue Aug 2 14:14:22 2022 +0700\n",
    "\n",
    "     Adding authentication\n",
    "\n",
    "> git log master\n",
    "commit c0e5bfa0259090c4919b5604c86bbd1e5fa45eaa (master)\n",
    "Author: Imam Assidiqqi <[email protected]>\n",
    "Date: Tue Aug 2 14:14:22 2022 +0700\n",
    "\n",
    "     Adding authentication"
   ]
  },
  {
   "cell_type": "markdown",
   "id": "415d3ec4",
   "metadata": {},
   "source": [
    "So it can be seen that fix-authentication-bug will have one commit different from master."
   ]
  },
  {
   "cell_type": "markdown",
   "id": "804962db",
   "metadata": {},
   "source": [
    "Then we can also conclude above that HEAD is a position that points to the branch we are in now."
   ]
  },
  {
   "cell_type": "markdown",
   "id": "1f225a97",
   "metadata": {},
   "source": [
    "# How To Move Between Branches & Merging"
   ]
  },
  {
   "cell_type": "markdown",
   "id": "e449db0f",
   "metadata": {},
   "source": [
    "Merging is the process of bringing together commits from two different branches. A common example is when we want to merge the master branch with the branch containing the new feature we are working on."
   ]
  },
  {
   "cell_type": "markdown",
   "id": "daf01fb0",
   "metadata": {},
   "source": [
    "Merging can be done by running git merge <name of branch to be merged>."
   ]
  },
  {
   "cell_type": "markdown",
   "id": "77c6f460",
   "metadata": {},
   "source": [
    "To merge the repository that we have previously worked on above, we need to first enter the branch that we will merge with with git checkout master, then run git merge fix-authentication-bug."
   ]
  },
  {
   "cell_type": "code",
   "execution_count": null,
   "id": "a6bd9276",
   "metadata": {},
   "outputs": [],
   "source": [
    "> git branch\n",
    "* fix-authentication-bug\n",
    "   masters\n",
    "\n",
    "> git checkout master\n",
    "Switched to branch 'master'\n",
    "\n",
    "> git merge fix-authentication-bug\n",
    "Updating c0e5bfa..c2507da\n",
    "Fast forward\n",
    "  auth.sh | 1+\n",
    "  1 file changed, 1 insertion(+)\n",
    "\n",
    "> git log\n",
    "commit c2507da9d997be98873c14095205dbc430078874 (HEAD -> master, fix-authentication-bug)\n",
    "Author: Imam Assidiqqi <[email protected]>\n",
    "Date: Tue Aug 2 14:21:46 2022 +0700\n",
    "\n",
    "     Fixed bug in auth\n",
    "\n",
    "commit c0e5bfa0259090c4919b5604c86bbd1e5fa45eaa\n",
    "Author: Imam Assidiqqi <[email protected]>\n",
    "Date: Tue Aug 2 14:14:22 2022 +0700\n",
    "\n",
    "     Adding authentication"
   ]
  },
  {
   "cell_type": "markdown",
   "id": "751bf79b",
   "metadata": {},
   "source": [
    "So we will see that now the commits that were in fix-authentication-bug, will also be in master."
   ]
  },
  {
   "cell_type": "markdown",
   "id": "5fb98a77",
   "metadata": {},
   "source": [
    "# Git Merge Conflict Resolution"
   ]
  },
  {
   "cell_type": "markdown",
   "id": "fd7cc680",
   "metadata": {},
   "source": [
    "The merge process is handled automatically by Git, but there are times when the merge we do fails, this is called Git Merge Conflict. For this reason, we need to check and make changes manually. For more details, let’s watch the following video:"
   ]
  },
  {
   "cell_type": "markdown",
   "id": "e5d422f1",
   "metadata": {},
   "source": []
  }
 ],
 "metadata": {},
 "nbformat": 4,
 "nbformat_minor": 5
}
