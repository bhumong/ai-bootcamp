{
 "cells": [
  {
   "cell_type": "markdown",
   "id": "078ea671",
   "metadata": {},
   "source": [
    "source: [link](https://ai-bootcamp.ruangguru.com/learn/01_toolkits/01_version-control/02_git-command-local/01_snapshotting.html)"
   ]
  },
  {
   "cell_type": "markdown",
   "id": "6b659564",
   "metadata": {},
   "source": [
    "# Snapshotting"
   ]
  },
  {
   "cell_type": "markdown",
   "id": "658668c3",
   "metadata": {},
   "source": [
    "# Introduction To Git Snapshots"
   ]
  },
  {
   "cell_type": "markdown",
   "id": "d70be39b",
   "metadata": {},
   "source": [
    "We learned earlier that Git uses the snapshot method which will capture the situation and conditions of the repository when we save changes using Git commands."
   ]
  },
  {
   "cell_type": "markdown",
   "id": "b26f5a91",
   "metadata": {},
   "source": [
    "With the snapshot method, Git will only save changes that occur in both files and folders into snapshot at that time. Meanwhile, files and folders that have not changed will be saved as references to the previous snapshot."
   ]
  },
  {
   "cell_type": "markdown",
   "id": "d538e028",
   "metadata": {},
   "source": [
    "Let’s learn together how a Git snapshot is created:"
   ]
  },
  {
   "cell_type": "markdown",
   "id": "736ca131",
   "metadata": {},
   "source": [
    "Note: Before running the Git command below, make sure it is in the Git repository, if not, then use the git init command first."
   ]
  },
  {
   "cell_type": "markdown",
   "id": "790c7c6e",
   "metadata": {},
   "source": [
    "# File stages in Git"
   ]
  },
  {
   "cell_type": "markdown",
   "id": "9c3b821f",
   "metadata": {},
   "source": []
  },
  {
   "cell_type": "markdown",
   "id": "c5e7ae20",
   "metadata": {},
   "source": [
    "![Image](https://storage.googleapis.com/rg-ai-bootcamp/toolkits/wd-sd-commit-min.gif)"
   ]
  },
  {
   "cell_type": "markdown",
   "id": "5e0a5382",
   "metadata": {},
   "source": [
    "Working, staging and commit (Source: axosoft.com)"
   ]
  },
  {
   "cell_type": "markdown",
   "id": "943604da",
   "metadata": {},
   "source": [
    "The files in a Git repository will exist in three different stages:"
   ]
  },
  {
   "cell_type": "markdown",
   "id": "d5ccf968",
   "metadata": {},
   "source": [
    "# Commands to check current repository status and history"
   ]
  },
  {
   "cell_type": "markdown",
   "id": "60c5a17d",
   "metadata": {},
   "source": [
    "The Git commands that are very useful for viewing the status of the repository that we are working on and often use are:"
   ]
  },
  {
   "cell_type": "markdown",
   "id": "befd5092",
   "metadata": {},
   "source": [
    "git status: displays the state of the working directory and staging area so we can see which files are not staged and which are staged. More details here"
   ]
  },
  {
   "cell_type": "markdown",
   "id": "97041488",
   "metadata": {},
   "source": [
    "git log: displays committed commits. More details here"
   ]
  },
  {
   "cell_type": "markdown",
   "id": "5b04f5eb",
   "metadata": {},
   "source": [
    "To see Git Snapshot in practice, watch the following video:"
   ]
  },
  {
   "cell_type": "markdown",
   "id": "851bfac8",
   "metadata": {},
   "source": []
  },
  {
   "cell_type": "markdown",
   "id": "5bc3b143",
   "metadata": {},
   "source": [
    "![Image](https://img.youtube.com/vi/Pn-YsfxfSd8/0.jpg)"
   ]
  },
  {
   "cell_type": "markdown",
   "id": "fe07ff09",
   "metadata": {},
   "source": [
    "# Add"
   ]
  },
  {
   "cell_type": "markdown",
   "id": "845a18ef",
   "metadata": {},
   "source": []
  },
  {
   "cell_type": "markdown",
   "id": "25f4197c",
   "metadata": {},
   "source": [
    "![Image](https://storage.googleapis.com/rg-ai-bootcamp/toolkits/git-add-min.gif)"
   ]
  },
  {
   "cell_type": "markdown",
   "id": "cfc30a76",
   "metadata": {},
   "source": [
    "Git add visualization (Source: img-bc.icode.best)"
   ]
  },
  {
   "cell_type": "markdown",
   "id": "b234e4e1",
   "metadata": {},
   "source": [
    "The git add command functions to add new files or changed files in the working directory to the staging area"
   ]
  },
  {
   "cell_type": "markdown",
   "id": "983b873f",
   "metadata": {},
   "source": [
    "# How to Use git add"
   ]
  },
  {
   "cell_type": "markdown",
   "id": "1a5c78a4",
   "metadata": {},
   "source": [
    "Common usage and options for git add"
   ]
  },
  {
   "cell_type": "markdown",
   "id": "360222b6",
   "metadata": {},
   "source": [
    "git add <file>: Adds the specified file shell      > git add file1.txt"
   ]
  },
  {
   "cell_type": "markdown",
   "id": "65a30cc9",
   "metadata": {},
   "source": [
    "git add .: Adds all files shell      > git add ."
   ]
  },
  {
   "cell_type": "markdown",
   "id": "c30f9173",
   "metadata": {},
   "source": [
    "We can see the other git add options with tldr git add or git add -h"
   ]
  },
  {
   "cell_type": "markdown",
   "id": "251c8d9a",
   "metadata": {},
   "source": [
    "The safest way to use git add is to designate a specific file or directory that we want to add to the staging area. Example:"
   ]
  },
  {
   "cell_type": "markdown",
   "id": "7f304277",
   "metadata": {},
   "source": [
    "# git add All Files"
   ]
  },
  {
   "cell_type": "markdown",
   "id": "c4ca8599",
   "metadata": {},
   "source": [
    "If we want to add to the staging area all files, there are several commands that can be used, namely:"
   ]
  },
  {
   "cell_type": "markdown",
   "id": "7a76d8b4",
   "metadata": {},
   "source": [
    "| Command | New Files | Modified Files | Deleted Files | Description |\n",
    "| --- | --- | --- | --- | --- |\n",
    "| git add . | ✔️ | ✔️ | ✔️ | Adds allfilesrecursively in the currentfolder |\n",
    "| git add -u | ❌ | ✔️ | ✔️ | Adds allfilesthat have previously been tracked in Git. |"
   ]
  },
  {
   "cell_type": "markdown",
   "id": "813289db",
   "metadata": {},
   "source": [
    "Source: stackoverflow.com"
   ]
  },
  {
   "cell_type": "markdown",
   "id": "87ca372d",
   "metadata": {},
   "source": [
    "Saving all files to the staging area has several risks, namely:"
   ]
  },
  {
   "cell_type": "markdown",
   "id": "b81bc882",
   "metadata": {},
   "source": [
    "We can prevent the possibility of the 2 points above by ensuring that each commit only contains related changes and match the description of its commit."
   ]
  },
  {
   "cell_type": "markdown",
   "id": "60675e0c",
   "metadata": {},
   "source": [
    "# Undo Added Files"
   ]
  },
  {
   "cell_type": "markdown",
   "id": "83f3425c",
   "metadata": {},
   "source": [
    "For example, we have files hello.txt and world.txt in repository and we have added both to the staging area"
   ]
  },
  {
   "cell_type": "code",
   "execution_count": null,
   "id": "4be2e214",
   "metadata": {},
   "outputs": [],
   "source": [
    "> git status\n",
    "On branch main\n",
    "\n",
    "No commits yet\n",
    "\n",
    "Changes to be committed:\n",
    "   (use \"git rm --cached <file>...\" to unstage)\n",
    "         new file: hello.txt\n",
    "         new file: world.txt"
   ]
  },
  {
   "cell_type": "markdown",
   "id": "9af55030",
   "metadata": {},
   "source": [
    "Then we do the git reset command on file hello.txt to return it to working directory"
   ]
  },
  {
   "cell_type": "code",
   "execution_count": null,
   "id": "a436499c",
   "metadata": {},
   "outputs": [],
   "source": [
    "> git reset hello.txt\n",
    "> git status\n",
    "On branch main\n",
    "\n",
    "No commits yet\n",
    "\n",
    "Changes to be committed:\n",
    "   (use \"git rm --cached <file>...\" to unstage)\n",
    "         new file: world.txt\n",
    "\n",
    "Untracked files:\n",
    "   (use \"git add <file>...\" to include in what will be committed)\n",
    "         hello.txt"
   ]
  },
  {
   "cell_type": "markdown",
   "id": "9d7c05b0",
   "metadata": {},
   "source": [
    "So we can see that the file hello.txt has moved to the working directory. If we do git commit, only world.txt will be committed. In this way, we can ensure that the files that are committed are only the files that we want."
   ]
  },
  {
   "cell_type": "markdown",
   "id": "f361a620",
   "metadata": {},
   "source": [
    "# Commit"
   ]
  },
  {
   "cell_type": "markdown",
   "id": "ca8f93a0",
   "metadata": {},
   "source": []
  },
  {
   "cell_type": "markdown",
   "id": "78d3f58c",
   "metadata": {},
   "source": [
    "![Image](https://storage.googleapis.com/rg-ai-bootcamp/toolkits/git-commit-flow-min.png)"
   ]
  },
  {
   "cell_type": "markdown",
   "id": "0e527d49",
   "metadata": {},
   "source": [
    "Git Commit Flow (Source: cspsprotocol.com)"
   ]
  },
  {
   "cell_type": "markdown",
   "id": "9618bc45",
   "metadata": {},
   "source": [
    "# How to use git commit"
   ]
  },
  {
   "cell_type": "markdown",
   "id": "76da5882",
   "metadata": {},
   "source": [
    "The git commit command functions to save and move files in the staging area to the committed stage."
   ]
  },
  {
   "cell_type": "markdown",
   "id": "29cc899e",
   "metadata": {},
   "source": [
    "When saving we are required to provide a commit message which contains a record of the changes that occurred in the file or collection of files that we committed."
   ]
  },
  {
   "cell_type": "markdown",
   "id": "17243d2e",
   "metadata": {},
   "source": [
    "# Commit Message Best Practice"
   ]
  },
  {
   "cell_type": "markdown",
   "id": "5bcb58cd",
   "metadata": {},
   "source": [
    "Commit message must be short and describe the changes made. Why should so? Because when looking at the history of the project, we will be guided by the commit message, so that the commit message ideally tells a story from the beginning of the history of our project to the end."
   ]
  },
  {
   "cell_type": "markdown",
   "id": "30a64bd4",
   "metadata": {},
   "source": [
    "The Commit message must be in present tense and explain clearly & concisely the changes made. We can also add semantic commit message so that each commit message has its own category (feat: feature, fix: fix, docs: addition of document) as in the following example :"
   ]
  },
  {
   "cell_type": "markdown",
   "id": "6cd77718",
   "metadata": {},
   "source": [
    "By ensuring our commit message can be read easily, we’ll be able to rollback (restore the status of our project) to any commit."
   ]
  },
  {
   "cell_type": "markdown",
   "id": "fe60bc8d",
   "metadata": {},
   "source": [
    "# Checkout"
   ]
  },
  {
   "cell_type": "markdown",
   "id": "0f3b5fee",
   "metadata": {},
   "source": [
    "The git checkout command is a command that is often used, one of which is to move between commits so that we can review the contents of a particular commit."
   ]
  },
  {
   "cell_type": "markdown",
   "id": "66f9182d",
   "metadata": {},
   "source": [
    "Let’s say we have a repository that has several commits and we do a checkout to one of the commits."
   ]
  },
  {
   "cell_type": "markdown",
   "id": "4ec5047b",
   "metadata": {},
   "source": [
    "With the command git log --oneline it will display commit per line and have a short output in the form of the first seven characters of the commit id (example: 7ba2a60) and commit message. Use the commit id to switch commit:"
   ]
  },
  {
   "cell_type": "markdown",
   "id": "c8c7564a",
   "metadata": {},
   "source": []
  },
  {
   "cell_type": "markdown",
   "id": "8e49b2d6",
   "metadata": {},
   "source": [
    "![Image](https://storage.googleapis.com/rg-ai-bootcamp/toolkits/graph-commit-1-min.png)"
   ]
  },
  {
   "cell_type": "code",
   "execution_count": null,
   "id": "7e2a592f",
   "metadata": {},
   "outputs": [],
   "source": [
    "> git log --oneline\n",
    "c21091a6 (HEAD -> master) docs: add note to snapshot and git add\n",
    "e2eea3ae docs: add ideation\n",
    "> git checkout e2eea3ae\n",
    "> git log --oneline\n",
    "d82c536 (HEAD) docs: add ideation"
   ]
  },
  {
   "cell_type": "markdown",
   "id": "6e506acc",
   "metadata": {},
   "source": []
  },
  {
   "cell_type": "markdown",
   "id": "faa0760b",
   "metadata": {},
   "source": [
    "![Image](https://storage.googleapis.com/rg-ai-bootcamp/toolkits/graph-commit-2-min.png)"
   ]
  },
  {
   "cell_type": "markdown",
   "id": "262f6ca5",
   "metadata": {},
   "source": [
    "So it can be seen that by doing checkout we can move to commit with id d82c536. If we want to get back to work after seeing the contents of this commit, we can run the command: git checkout -"
   ]
  },
  {
   "cell_type": "code",
   "execution_count": null,
   "id": "a67db7fb",
   "metadata": {},
   "outputs": [],
   "source": [
    "> git checkout -\n",
    "> git log --oneline\n",
    "7ba2a60 (HEAD -> master) docs: add note to snapshot and git add\n",
    "d82c536 docs: add ideation"
   ]
  },
  {
   "cell_type": "markdown",
   "id": "418f4aa6",
   "metadata": {},
   "source": []
  },
  {
   "cell_type": "markdown",
   "id": "c08ef4e4",
   "metadata": {},
   "source": [
    "![Image](https://storage.googleapis.com/rg-ai-bootcamp/toolkits/graph-commit-1-min.png)"
   ]
  },
  {
   "cell_type": "markdown",
   "id": "557f2572",
   "metadata": {},
   "source": [
    "So, it can be seen that commit has moved to the previous position."
   ]
  },
  {
   "cell_type": "markdown",
   "id": "4ee81c9a",
   "metadata": {},
   "source": [
    "# How To Undo A Commit With git revert"
   ]
  },
  {
   "cell_type": "markdown",
   "id": "a6203943",
   "metadata": {},
   "source": [
    "git revert is the highly recommended and safest way to undo a commit."
   ]
  },
  {
   "cell_type": "code",
   "execution_count": null,
   "id": "7ba82c1b",
   "metadata": {},
   "outputs": [],
   "source": [
    "> git log --oneline\n",
    "47d87b4 (HEAD -> master) docs: minor typo fix\n",
    "c21091a docs: add note to snapshot and git add\n",
    "e2eea3a docs: add ideation"
   ]
  },
  {
   "cell_type": "markdown",
   "id": "96632e13",
   "metadata": {},
   "source": [
    "For example, if we want to undo commit “docs: add note to snapshot and git add”, we can do the following command:"
   ]
  },
  {
   "cell_type": "code",
   "execution_count": null,
   "id": "512c887c",
   "metadata": {},
   "outputs": [],
   "source": [
    "> git revert c21091a"
   ]
  },
  {
   "cell_type": "markdown",
   "id": "5854e387",
   "metadata": {},
   "source": [
    "git revert will create a new commit whose contents are the opposite (inverse) of the commit we want to undo. If we call git log again:"
   ]
  },
  {
   "cell_type": "code",
   "execution_count": null,
   "id": "5a6d93c2",
   "metadata": {},
   "outputs": [],
   "source": [
    "> git log --oneline\n",
    "562560e (HEAD -> master) Revert \"docs: add note to snapshot and git add\"\n",
    "47d87b4 docs: minor typo fix\n",
    "c21091a docs: add note to snapshot and git add\n",
    "e2eea3a docs: add ideation"
   ]
  },
  {
   "cell_type": "markdown",
   "id": "83e94994",
   "metadata": {},
   "source": []
  },
  {
   "cell_type": "markdown",
   "id": "2e7cafdb",
   "metadata": {},
   "source": [
    "![Image](https://storage.googleapis.com/rg-ai-bootcamp/toolkits/graph-commit-3-min.png)"
   ]
  },
  {
   "cell_type": "markdown",
   "id": "3e998384",
   "metadata": {},
   "source": [
    "Then git revert will become a new commit which will undo all the changes we have made previously:"
   ]
  },
  {
   "cell_type": "markdown",
   "id": "855b0837",
   "metadata": {},
   "source": []
  },
  {
   "cell_type": "markdown",
   "id": "b0210951",
   "metadata": {},
   "source": [
    "![Image](https://storage.googleapis.com/rg-ai-bootcamp/toolkits/git-revert-min.gif)"
   ]
  },
  {
   "cell_type": "markdown",
   "id": "8b270b37",
   "metadata": {},
   "source": [
    "Git revert (Source: cloudinary.com)"
   ]
  },
  {
   "cell_type": "markdown",
   "id": "75344f18",
   "metadata": {},
   "source": [
    "# Updating Commits With Git Commit Amend"
   ]
  },
  {
   "cell_type": "markdown",
   "id": "c2051e08",
   "metadata": {},
   "source": [
    "For example, we have done a commit and we realize that there was an error in the commit (whether we forgot to edit a few lines of the file or gave the wrong commit message) we can do git commit --amend, where the entire file is staging will now be put in the previous commit."
   ]
  },
  {
   "cell_type": "markdown",
   "id": "b81977d8",
   "metadata": {},
   "source": [
    "Warning: do not do git commit --amend if the previous commit has already been push"
   ]
  },
  {
   "cell_type": "markdown",
   "id": "7697d45b",
   "metadata": {},
   "source": [
    "# git rm"
   ]
  },
  {
   "cell_type": "markdown",
   "id": "874ff032",
   "metadata": {},
   "source": [
    "There are 2 ways to use git rm:"
   ]
  },
  {
   "cell_type": "markdown",
   "id": "279bdbfd",
   "metadata": {},
   "source": [
    "Here we will focus on the second use, namely canceling the file from the staging area back to the working directory. For that we will use git rm --cached."
   ]
  },
  {
   "cell_type": "markdown",
   "id": "b5439f9f",
   "metadata": {},
   "source": [
    "# How to use git rm for staged files"
   ]
  },
  {
   "cell_type": "markdown",
   "id": "44add6d4",
   "metadata": {},
   "source": [
    "We use the git rm --cached command to move a file from staging to working directory. For example, we have a file named hello.txt which is already in the staging area."
   ]
  },
  {
   "cell_type": "code",
   "execution_count": null,
   "id": "53d5ae3e",
   "metadata": {},
   "outputs": [],
   "source": [
    "[user@localhost]$ git status\n",
    "On branchmaster\n",
    "No commits yet\n",
    "Changes to be committed:\n",
    "   (use \"git rm --cached <file>...\" to unstage)\n",
    "         new file: hello.txt"
   ]
  },
  {
   "cell_type": "markdown",
   "id": "5f5882c4",
   "metadata": {},
   "source": [
    "So we can move file hello.txt from staging area to working directory without deleting it from file system by:"
   ]
  },
  {
   "cell_type": "code",
   "execution_count": null,
   "id": "075a9663",
   "metadata": {},
   "outputs": [],
   "source": [
    "[user@localhost]$ git rm hello.txt --cached\n",
    "rm 'hello.txt'\n",
    "[user@localhost]$ git status\n",
    "On branch main\n",
    "No commits yet\n",
    "Untracked files:\n",
    "   (use \"git add <file>...\" to include in what will be committed)\n",
    "         hello.txt\n",
    "nothing added to commit but untracked files present (use \"git add\" to track)"
   ]
  },
  {
   "cell_type": "markdown",
   "id": "10c7a8a2",
   "metadata": {},
   "source": [
    "So it can be seen that the file hello.txt is no longer in the staging area but has moved to the working directory."
   ]
  },
  {
   "cell_type": "markdown",
   "id": "e40749f1",
   "metadata": {},
   "source": [
    "Note: Remember to use the --cached option. Without the --cached option, the file will be deleted from the staging area and working directory."
   ]
  },
  {
   "cell_type": "markdown",
   "id": "ed4f66c7",
   "metadata": {},
   "source": [
    "# git diff"
   ]
  },
  {
   "cell_type": "markdown",
   "id": "c63b061b",
   "metadata": {},
   "source": [
    "# What is git diff?"
   ]
  },
  {
   "cell_type": "markdown",
   "id": "3dba7239",
   "metadata": {},
   "source": [
    "git diff is used to inspect changes we make when working on a Git repository. The way it works is to compare the file in the working directory with the file in the commit in the repository."
   ]
  },
  {
   "cell_type": "markdown",
   "id": "26f75aa7",
   "metadata": {},
   "source": [
    "# Examples"
   ]
  },
  {
   "cell_type": "markdown",
   "id": "8ab57891",
   "metadata": {},
   "source": [
    "We add a file in the initialized repository to try git diff"
   ]
  },
  {
   "cell_type": "code",
   "execution_count": null,
   "id": "f187cbd0",
   "metadata": {},
   "outputs": [],
   "source": [
    "> touch diff_test.txt\n",
    "> echo \"this is a git diff test example\" > diff_test.txt\n",
    "> git add diff_test.txt\n",
    "> git commit -am \"add diff test file\"\n",
    "[main (root-commit) 6f77fc3] add diff test file\n",
    "1 file changed, 1 insertion(+)\n",
    "create mode 100644 diff_test.txt"
   ]
  },
  {
   "cell_type": "markdown",
   "id": "1cfb3c8d",
   "metadata": {},
   "source": [
    "For example, now we change all the contents of the file diff_test.txt."
   ]
  },
  {
   "cell_type": "code",
   "execution_count": null,
   "id": "7a785695",
   "metadata": {},
   "outputs": [],
   "source": [
    "> echo \"this is a diff example\" > diff_test.txt"
   ]
  },
  {
   "cell_type": "markdown",
   "id": "0401c256",
   "metadata": {},
   "source": [
    "By executing git diff, we will compare the changes just committed (changing the contents of file diff_test.txt) with the previous commit, which will produce the following output:"
   ]
  },
  {
   "cell_type": "code",
   "execution_count": null,
   "id": "3b2a2efc",
   "metadata": {},
   "outputs": [],
   "source": [
    "> git diff\n",
    "diff --git a/diff_test.txt b/diff_test.txt\n",
    "index 6b0c6cf..b37e70a 100644\n",
    "--- a/diff_test.txt\n",
    "+++ b/diff_test.txt\n",
    "@@ -1 +1 @@\n",
    "-this is a git diff test example\n",
    "+this is a different example"
   ]
  },
  {
   "cell_type": "markdown",
   "id": "437bb563",
   "metadata": {},
   "source": [
    "The following is an explanation of the output above:"
   ]
  },
  {
   "cell_type": "markdown",
   "id": "3abb47f6",
   "metadata": {},
   "source": [
    "Comparison input"
   ]
  },
  {
   "cell_type": "code",
   "execution_count": null,
   "id": "6e2fc515",
   "metadata": {},
   "outputs": [],
   "source": [
    "diff --git a/diff_test.txt b/diff_test.txt"
   ]
  },
  {
   "cell_type": "markdown",
   "id": "b25611b0",
   "metadata": {},
   "source": [
    "a/diff_test.txt is the file in the commit that we are comparing with the file in the working directory, which is written here as b/diff_test.txt."
   ]
  },
  {
   "cell_type": "markdown",
   "id": "4f024f9e",
   "metadata": {},
   "source": [
    "Markers for changes"
   ]
  },
  {
   "cell_type": "code",
   "execution_count": null,
   "id": "45ea6978",
   "metadata": {},
   "outputs": [],
   "source": [
    "--- a/diff_test.txt\n",
    "+++ b/diff_test.txt"
   ]
  },
  {
   "cell_type": "markdown",
   "id": "fe5fd6b4",
   "metadata": {},
   "source": [
    "These lines are the symbols assigned to each input source. Changes from a/diff_test.txt are marked with the symbol --- and changes from b/diff_test.txt are marked with the symbol +++."
   ]
  },
  {
   "cell_type": "markdown",
   "id": "9dcb7466",
   "metadata": {},
   "source": [
    "Diff content"
   ]
  },
  {
   "cell_type": "code",
   "execution_count": null,
   "id": "3193f47a",
   "metadata": {},
   "outputs": [],
   "source": [
    "-this is a git diff test example\n",
    "+this is a different example"
   ]
  },
  {
   "cell_type": "markdown",
   "id": "334af84e",
   "metadata": {},
   "source": [
    "If the - sign and the + sign are close together, this usually indicates that a replacement has occurred in that line. In the example above, the line this is a git diff test example is replaced with this is a diff example. And that’s what we do in this example."
   ]
  }
 ],
 "metadata": {},
 "nbformat": 4,
 "nbformat_minor": 5
}
