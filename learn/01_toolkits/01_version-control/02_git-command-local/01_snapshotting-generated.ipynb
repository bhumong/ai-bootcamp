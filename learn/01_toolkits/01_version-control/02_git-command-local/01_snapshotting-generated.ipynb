{
 "cells": [
  {
   "cell_type": "markdown",
   "id": "cb5305a6",
   "metadata": {},
   "source": [
    "# Snapshotting"
   ]
  },
  {
   "cell_type": "markdown",
   "id": "2b25dc6e",
   "metadata": {},
   "source": [
    "# Introduction To Git Snapshots"
   ]
  },
  {
   "cell_type": "markdown",
   "id": "4ca916ac",
   "metadata": {},
   "source": [
    "We learned earlier that Git uses the snapshot method which will capture the situation and conditions of the repository when we save changes using Git commands."
   ]
  },
  {
   "cell_type": "markdown",
   "id": "ec64b898",
   "metadata": {},
   "source": [
    "With the snapshot method, Git will only save changes that occur in both files and folders into snapshot at that time. Meanwhile, files and folders that have not changed will be saved as references to the previous snapshot."
   ]
  },
  {
   "cell_type": "markdown",
   "id": "ec71d771",
   "metadata": {},
   "source": [
    "Let’s learn together how a Git snapshot is created:"
   ]
  },
  {
   "cell_type": "markdown",
   "id": "d396b6a4",
   "metadata": {},
   "source": [
    "Note: Before running the Git command below, make sure it is in the Git repository, if not, then use the git init command first."
   ]
  },
  {
   "cell_type": "markdown",
   "id": "7844ae9d",
   "metadata": {},
   "source": [
    "# File stages in Git"
   ]
  },
  {
   "cell_type": "markdown",
   "id": "752926f5",
   "metadata": {},
   "source": []
  },
  {
   "cell_type": "markdown",
   "id": "7d59d48f",
   "metadata": {},
   "source": [
    "![Image](https://storage.googleapis.com/rg-ai-bootcamp/toolkits/wd-sd-commit-min.gif)"
   ]
  },
  {
   "cell_type": "markdown",
   "id": "db4308f5",
   "metadata": {},
   "source": [
    "Working, staging and commit (Source: axosoft.com)"
   ]
  },
  {
   "cell_type": "markdown",
   "id": "bb203d2c",
   "metadata": {},
   "source": [
    "The files in a Git repository will exist in three different stages:"
   ]
  },
  {
   "cell_type": "markdown",
   "id": "0c8ca25c",
   "metadata": {},
   "source": [
    "# Commands to check current repository status and history"
   ]
  },
  {
   "cell_type": "markdown",
   "id": "5a78e362",
   "metadata": {},
   "source": [
    "The Git commands that are very useful for viewing the status of the repository that we are working on and often use are:"
   ]
  },
  {
   "cell_type": "markdown",
   "id": "7b29fb6e",
   "metadata": {},
   "source": [
    "git status: displays the state of the working directory and staging area so we can see which files are not staged and which are staged. More details here"
   ]
  },
  {
   "cell_type": "markdown",
   "id": "6742ee70",
   "metadata": {},
   "source": [
    "git log: displays committed commits. More details here"
   ]
  },
  {
   "cell_type": "markdown",
   "id": "b5b1741b",
   "metadata": {},
   "source": [
    "To see Git Snapshot in practice, watch the following video:"
   ]
  },
  {
   "cell_type": "markdown",
   "id": "e5c8f552",
   "metadata": {},
   "source": []
  },
  {
   "cell_type": "markdown",
   "id": "6879cdc2",
   "metadata": {},
   "source": [
    "![Image](https://img.youtube.com/vi/Pn-YsfxfSd8/0.jpg)"
   ]
  },
  {
   "cell_type": "markdown",
   "id": "8118c520",
   "metadata": {},
   "source": [
    "# Add"
   ]
  },
  {
   "cell_type": "markdown",
   "id": "d088969f",
   "metadata": {},
   "source": []
  },
  {
   "cell_type": "markdown",
   "id": "0396c635",
   "metadata": {},
   "source": [
    "![Image](https://storage.googleapis.com/rg-ai-bootcamp/toolkits/git-add-min.gif)"
   ]
  },
  {
   "cell_type": "markdown",
   "id": "196ca5bb",
   "metadata": {},
   "source": [
    "Git add visualization (Source: img-bc.icode.best)"
   ]
  },
  {
   "cell_type": "markdown",
   "id": "d27a2a92",
   "metadata": {},
   "source": [
    "The git add command functions to add new files or changed files in the working directory to the staging area"
   ]
  },
  {
   "cell_type": "markdown",
   "id": "b5138582",
   "metadata": {},
   "source": [
    "# How to Use git add"
   ]
  },
  {
   "cell_type": "markdown",
   "id": "580f9517",
   "metadata": {},
   "source": [
    "Common usage and options for git add"
   ]
  },
  {
   "cell_type": "markdown",
   "id": "92b1ea02",
   "metadata": {},
   "source": [
    "git add <file>: Adds the specified file shell      > git add file1.txt"
   ]
  },
  {
   "cell_type": "markdown",
   "id": "e2b9f564",
   "metadata": {},
   "source": [
    "git add .: Adds all files shell      > git add ."
   ]
  },
  {
   "cell_type": "markdown",
   "id": "a1dfffd4",
   "metadata": {},
   "source": [
    "We can see the other git add options with tldr git add or git add -h"
   ]
  },
  {
   "cell_type": "markdown",
   "id": "da688dc9",
   "metadata": {},
   "source": [
    "The safest way to use git add is to designate a specific file or directory that we want to add to the staging area. Example:"
   ]
  },
  {
   "cell_type": "markdown",
   "id": "49548793",
   "metadata": {},
   "source": [
    "# git add All Files"
   ]
  },
  {
   "cell_type": "markdown",
   "id": "e414f918",
   "metadata": {},
   "source": [
    "If we want to add to the staging area all files, there are several commands that can be used, namely:"
   ]
  },
  {
   "cell_type": "markdown",
   "id": "bbc9928c",
   "metadata": {},
   "source": [
    "Source: stackoverflow.com"
   ]
  },
  {
   "cell_type": "markdown",
   "id": "70594304",
   "metadata": {},
   "source": [
    "Saving all files to the staging area has several risks, namely:"
   ]
  },
  {
   "cell_type": "markdown",
   "id": "04acecd9",
   "metadata": {},
   "source": [
    "We can prevent the possibility of the 2 points above by ensuring that each commit only contains related changes and match the description of its commit."
   ]
  },
  {
   "cell_type": "markdown",
   "id": "8c2a0aa7",
   "metadata": {},
   "source": [
    "# Undo Added Files"
   ]
  },
  {
   "cell_type": "markdown",
   "id": "fad9cf0c",
   "metadata": {},
   "source": [
    "For example, we have files hello.txt and world.txt in repository and we have added both to the staging area"
   ]
  },
  {
   "cell_type": "code",
   "execution_count": null,
   "id": "9a1e2704",
   "metadata": {},
   "outputs": [],
   "source": [
    "> git status\n",
    "On branch main\n",
    "\n",
    "No commits yet\n",
    "\n",
    "Changes to be committed:\n",
    "   (use \"git rm --cached <file>...\" to unstage)\n",
    "         new file: hello.txt\n",
    "         new file: world.txt"
   ]
  },
  {
   "cell_type": "markdown",
   "id": "ab4384f7",
   "metadata": {},
   "source": [
    "Then we do the git reset command on file hello.txt to return it to working directory"
   ]
  },
  {
   "cell_type": "code",
   "execution_count": null,
   "id": "9879a66d",
   "metadata": {},
   "outputs": [],
   "source": [
    "> git reset hello.txt\n",
    "> git status\n",
    "On branch main\n",
    "\n",
    "No commits yet\n",
    "\n",
    "Changes to be committed:\n",
    "   (use \"git rm --cached <file>...\" to unstage)\n",
    "         new file: world.txt\n",
    "\n",
    "Untracked files:\n",
    "   (use \"git add <file>...\" to include in what will be committed)\n",
    "         hello.txt"
   ]
  },
  {
   "cell_type": "markdown",
   "id": "94c0d5be",
   "metadata": {},
   "source": [
    "So we can see that the file hello.txt has moved to the working directory. If we do git commit, only world.txt will be committed. In this way, we can ensure that the files that are committed are only the files that we want."
   ]
  },
  {
   "cell_type": "markdown",
   "id": "42e75ac1",
   "metadata": {},
   "source": [
    "# Commit"
   ]
  },
  {
   "cell_type": "markdown",
   "id": "e2584d73",
   "metadata": {},
   "source": []
  },
  {
   "cell_type": "markdown",
   "id": "41df7ac5",
   "metadata": {},
   "source": [
    "![Image](https://storage.googleapis.com/rg-ai-bootcamp/toolkits/git-commit-flow-min.png)"
   ]
  },
  {
   "cell_type": "markdown",
   "id": "3d4c961c",
   "metadata": {},
   "source": [
    "Git Commit Flow (Source: cspsprotocol.com)"
   ]
  },
  {
   "cell_type": "markdown",
   "id": "bab6307a",
   "metadata": {},
   "source": [
    "# How to use git commit"
   ]
  },
  {
   "cell_type": "markdown",
   "id": "ad3a4fc2",
   "metadata": {},
   "source": [
    "The git commit command functions to save and move files in the staging area to the committed stage."
   ]
  },
  {
   "cell_type": "markdown",
   "id": "4fa0b56e",
   "metadata": {},
   "source": [
    "When saving we are required to provide a commit message which contains a record of the changes that occurred in the file or collection of files that we committed."
   ]
  },
  {
   "cell_type": "markdown",
   "id": "bf70bfd8",
   "metadata": {},
   "source": [
    "# Commit Message Best Practice"
   ]
  },
  {
   "cell_type": "markdown",
   "id": "d8de445f",
   "metadata": {},
   "source": [
    "Commit message must be short and describe the changes made. Why should so? Because when looking at the history of the project, we will be guided by the commit message, so that the commit message ideally tells a story from the beginning of the history of our project to the end."
   ]
  },
  {
   "cell_type": "markdown",
   "id": "24ba24cb",
   "metadata": {},
   "source": [
    "The Commit message must be in present tense and explain clearly & concisely the changes made. We can also add semantic commit message so that each commit message has its own category (feat: feature, fix: fix, docs: addition of document) as in the following example :"
   ]
  },
  {
   "cell_type": "markdown",
   "id": "c3a5ce30",
   "metadata": {},
   "source": [
    "By ensuring our commit message can be read easily, we’ll be able to rollback (restore the status of our project) to any commit."
   ]
  },
  {
   "cell_type": "markdown",
   "id": "65a1aa57",
   "metadata": {},
   "source": [
    "# Checkout"
   ]
  },
  {
   "cell_type": "markdown",
   "id": "14640b6c",
   "metadata": {},
   "source": [
    "The git checkout command is a command that is often used, one of which is to move between commits so that we can review the contents of a particular commit."
   ]
  },
  {
   "cell_type": "markdown",
   "id": "5c7bb9e8",
   "metadata": {},
   "source": [
    "Let’s say we have a repository that has several commits and we do a checkout to one of the commits."
   ]
  },
  {
   "cell_type": "markdown",
   "id": "cb6513d4",
   "metadata": {},
   "source": [
    "With the command git log --oneline it will display commit per line and have a short output in the form of the first seven characters of the commit id (example: 7ba2a60) and commit message. Use the commit id to switch commit:"
   ]
  },
  {
   "cell_type": "markdown",
   "id": "d1b4e0cc",
   "metadata": {},
   "source": []
  },
  {
   "cell_type": "markdown",
   "id": "e6001a5d",
   "metadata": {},
   "source": [
    "![Image](https://storage.googleapis.com/rg-ai-bootcamp/toolkits/graph-commit-1-min.png)"
   ]
  },
  {
   "cell_type": "code",
   "execution_count": null,
   "id": "daec7953",
   "metadata": {},
   "outputs": [],
   "source": [
    "> git log --oneline\n",
    "c21091a6 (HEAD -> master) docs: add note to snapshot and git add\n",
    "e2eea3ae docs: add ideation\n",
    "> git checkout e2eea3ae\n",
    "> git log --oneline\n",
    "d82c536 (HEAD) docs: add ideation"
   ]
  },
  {
   "cell_type": "markdown",
   "id": "e8fad046",
   "metadata": {},
   "source": []
  },
  {
   "cell_type": "markdown",
   "id": "a3d426a9",
   "metadata": {},
   "source": [
    "![Image](https://storage.googleapis.com/rg-ai-bootcamp/toolkits/graph-commit-2-min.png)"
   ]
  },
  {
   "cell_type": "markdown",
   "id": "982789d4",
   "metadata": {},
   "source": [
    "So it can be seen that by doing checkout we can move to commit with id d82c536. If we want to get back to work after seeing the contents of this commit, we can run the command: git checkout -"
   ]
  },
  {
   "cell_type": "code",
   "execution_count": null,
   "id": "2cdbcc81",
   "metadata": {},
   "outputs": [],
   "source": [
    "> git checkout -\n",
    "> git log --oneline\n",
    "7ba2a60 (HEAD -> master) docs: add note to snapshot and git add\n",
    "d82c536 docs: add ideation"
   ]
  },
  {
   "cell_type": "markdown",
   "id": "a99d2877",
   "metadata": {},
   "source": []
  },
  {
   "cell_type": "markdown",
   "id": "db51a991",
   "metadata": {},
   "source": [
    "![Image](https://storage.googleapis.com/rg-ai-bootcamp/toolkits/graph-commit-1-min.png)"
   ]
  },
  {
   "cell_type": "markdown",
   "id": "ee1a7c1e",
   "metadata": {},
   "source": [
    "So, it can be seen that commit has moved to the previous position."
   ]
  },
  {
   "cell_type": "markdown",
   "id": "9408c923",
   "metadata": {},
   "source": [
    "# How To Undo A Commit With git revert"
   ]
  },
  {
   "cell_type": "markdown",
   "id": "3952371a",
   "metadata": {},
   "source": [
    "git revert is the highly recommended and safest way to undo a commit."
   ]
  },
  {
   "cell_type": "code",
   "execution_count": null,
   "id": "7bd5b2c1",
   "metadata": {},
   "outputs": [],
   "source": [
    "> git log --oneline\n",
    "47d87b4 (HEAD -> master) docs: minor typo fix\n",
    "c21091a docs: add note to snapshot and git add\n",
    "e2eea3a docs: add ideation"
   ]
  },
  {
   "cell_type": "markdown",
   "id": "e9eb5020",
   "metadata": {},
   "source": [
    "For example, if we want to undo commit “docs: add note to snapshot and git add”, we can do the following command:"
   ]
  },
  {
   "cell_type": "code",
   "execution_count": null,
   "id": "f002d6c3",
   "metadata": {},
   "outputs": [],
   "source": [
    "> git revert c21091a"
   ]
  },
  {
   "cell_type": "markdown",
   "id": "af9d2653",
   "metadata": {},
   "source": [
    "git revert will create a new commit whose contents are the opposite (inverse) of the commit we want to undo. If we call git log again:"
   ]
  },
  {
   "cell_type": "code",
   "execution_count": null,
   "id": "b81ec647",
   "metadata": {},
   "outputs": [],
   "source": [
    "> git log --oneline\n",
    "562560e (HEAD -> master) Revert \"docs: add note to snapshot and git add\"\n",
    "47d87b4 docs: minor typo fix\n",
    "c21091a docs: add note to snapshot and git add\n",
    "e2eea3a docs: add ideation"
   ]
  },
  {
   "cell_type": "markdown",
   "id": "f086dfbe",
   "metadata": {},
   "source": []
  },
  {
   "cell_type": "markdown",
   "id": "65ce7019",
   "metadata": {},
   "source": [
    "![Image](https://storage.googleapis.com/rg-ai-bootcamp/toolkits/graph-commit-3-min.png)"
   ]
  },
  {
   "cell_type": "markdown",
   "id": "d39e4e6f",
   "metadata": {},
   "source": [
    "Then git revert will become a new commit which will undo all the changes we have made previously:"
   ]
  },
  {
   "cell_type": "markdown",
   "id": "0b3355e2",
   "metadata": {},
   "source": []
  },
  {
   "cell_type": "markdown",
   "id": "d83e4734",
   "metadata": {},
   "source": [
    "![Image](https://storage.googleapis.com/rg-ai-bootcamp/toolkits/git-revert-min.gif)"
   ]
  },
  {
   "cell_type": "markdown",
   "id": "434a5309",
   "metadata": {},
   "source": [
    "Git revert (Source: cloudinary.com)"
   ]
  },
  {
   "cell_type": "markdown",
   "id": "9721312f",
   "metadata": {},
   "source": [
    "# Updating Commits With Git Commit Amend"
   ]
  },
  {
   "cell_type": "markdown",
   "id": "1aba2612",
   "metadata": {},
   "source": [
    "For example, we have done a commit and we realize that there was an error in the commit (whether we forgot to edit a few lines of the file or gave the wrong commit message) we can do git commit --amend, where the entire file is staging will now be put in the previous commit."
   ]
  },
  {
   "cell_type": "markdown",
   "id": "b17d5309",
   "metadata": {},
   "source": [
    "Warning: do not do git commit --amend if the previous commit has already been push"
   ]
  },
  {
   "cell_type": "markdown",
   "id": "b381ebc3",
   "metadata": {},
   "source": [
    "# git rm"
   ]
  },
  {
   "cell_type": "markdown",
   "id": "dd3ff984",
   "metadata": {},
   "source": [
    "There are 2 ways to use git rm:"
   ]
  },
  {
   "cell_type": "markdown",
   "id": "9320d546",
   "metadata": {},
   "source": [
    "Here we will focus on the second use, namely canceling the file from the staging area back to the working directory. For that we will use git rm --cached."
   ]
  },
  {
   "cell_type": "markdown",
   "id": "5d1ba4a4",
   "metadata": {},
   "source": [
    "# How to use git rm for staged files"
   ]
  },
  {
   "cell_type": "markdown",
   "id": "c0b4f7f6",
   "metadata": {},
   "source": [
    "We use the git rm --cached command to move a file from staging to working directory. For example, we have a file named hello.txt which is already in the staging area."
   ]
  },
  {
   "cell_type": "code",
   "execution_count": null,
   "id": "994e5677",
   "metadata": {},
   "outputs": [],
   "source": [
    "[user@localhost]$ git status\n",
    "On branchmaster\n",
    "No commits yet\n",
    "Changes to be committed:\n",
    "   (use \"git rm --cached <file>...\" to unstage)\n",
    "         new file: hello.txt"
   ]
  },
  {
   "cell_type": "markdown",
   "id": "96a3d829",
   "metadata": {},
   "source": [
    "So we can move file hello.txt from staging area to working directory without deleting it from file system by:"
   ]
  },
  {
   "cell_type": "code",
   "execution_count": null,
   "id": "b22ecb7f",
   "metadata": {},
   "outputs": [],
   "source": [
    "[user@localhost]$ git rm hello.txt --cached\n",
    "rm 'hello.txt'\n",
    "[user@localhost]$ git status\n",
    "On branch main\n",
    "No commits yet\n",
    "Untracked files:\n",
    "   (use \"git add <file>...\" to include in what will be committed)\n",
    "         hello.txt\n",
    "nothing added to commit but untracked files present (use \"git add\" to track)"
   ]
  },
  {
   "cell_type": "markdown",
   "id": "d9ad0070",
   "metadata": {},
   "source": [
    "So it can be seen that the file hello.txt is no longer in the staging area but has moved to the working directory."
   ]
  },
  {
   "cell_type": "markdown",
   "id": "7c692203",
   "metadata": {},
   "source": [
    "Note: Remember to use the --cached option. Without the --cached option, the file will be deleted from the staging area and working directory."
   ]
  },
  {
   "cell_type": "markdown",
   "id": "53eb4d01",
   "metadata": {},
   "source": [
    "# git diff"
   ]
  },
  {
   "cell_type": "markdown",
   "id": "d85b0aeb",
   "metadata": {},
   "source": [
    "# What is git diff?"
   ]
  },
  {
   "cell_type": "markdown",
   "id": "4fb655c0",
   "metadata": {},
   "source": [
    "git diff is used to inspect changes we make when working on a Git repository. The way it works is to compare the file in the working directory with the file in the commit in the repository."
   ]
  },
  {
   "cell_type": "markdown",
   "id": "fb5474dd",
   "metadata": {},
   "source": [
    "# Examples"
   ]
  },
  {
   "cell_type": "markdown",
   "id": "903eb1b1",
   "metadata": {},
   "source": [
    "We add a file in the initialized repository to try git diff"
   ]
  },
  {
   "cell_type": "code",
   "execution_count": null,
   "id": "df9ba332",
   "metadata": {},
   "outputs": [],
   "source": [
    "> touch diff_test.txt\n",
    "> echo \"this is a git diff test example\" > diff_test.txt\n",
    "> git add diff_test.txt\n",
    "> git commit -am \"add diff test file\"\n",
    "[main (root-commit) 6f77fc3] add diff test file\n",
    "1 file changed, 1 insertion(+)\n",
    "create mode 100644 diff_test.txt"
   ]
  },
  {
   "cell_type": "markdown",
   "id": "c333e726",
   "metadata": {},
   "source": [
    "For example, now we change all the contents of the file diff_test.txt."
   ]
  },
  {
   "cell_type": "code",
   "execution_count": null,
   "id": "e8f7eeb7",
   "metadata": {},
   "outputs": [],
   "source": [
    "> echo \"this is a diff example\" > diff_test.txt"
   ]
  },
  {
   "cell_type": "markdown",
   "id": "b1e45683",
   "metadata": {},
   "source": [
    "By executing git diff, we will compare the changes just committed (changing the contents of file diff_test.txt) with the previous commit, which will produce the following output:"
   ]
  },
  {
   "cell_type": "code",
   "execution_count": null,
   "id": "90cdef01",
   "metadata": {},
   "outputs": [],
   "source": [
    "> git diff\n",
    "diff --git a/diff_test.txt b/diff_test.txt\n",
    "index 6b0c6cf..b37e70a 100644\n",
    "--- a/diff_test.txt\n",
    "+++ b/diff_test.txt\n",
    "@@ -1 +1 @@\n",
    "-this is a git diff test example\n",
    "+this is a different example"
   ]
  },
  {
   "cell_type": "markdown",
   "id": "70662d09",
   "metadata": {},
   "source": [
    "The following is an explanation of the output above:"
   ]
  },
  {
   "cell_type": "markdown",
   "id": "6c24456a",
   "metadata": {},
   "source": [
    "Comparison input"
   ]
  },
  {
   "cell_type": "code",
   "execution_count": null,
   "id": "83643d08",
   "metadata": {},
   "outputs": [],
   "source": [
    "diff --git a/diff_test.txt b/diff_test.txt"
   ]
  },
  {
   "cell_type": "markdown",
   "id": "cdbaafcc",
   "metadata": {},
   "source": [
    "a/diff_test.txt is the file in the commit that we are comparing with the file in the working directory, which is written here as b/diff_test.txt."
   ]
  },
  {
   "cell_type": "markdown",
   "id": "82222438",
   "metadata": {},
   "source": [
    "Markers for changes"
   ]
  },
  {
   "cell_type": "code",
   "execution_count": null,
   "id": "d2630106",
   "metadata": {},
   "outputs": [],
   "source": [
    "--- a/diff_test.txt\n",
    "+++ b/diff_test.txt"
   ]
  },
  {
   "cell_type": "markdown",
   "id": "29dade73",
   "metadata": {},
   "source": [
    "These lines are the symbols assigned to each input source. Changes from a/diff_test.txt are marked with the symbol --- and changes from b/diff_test.txt are marked with the symbol +++."
   ]
  },
  {
   "cell_type": "markdown",
   "id": "a2276edf",
   "metadata": {},
   "source": [
    "Diff content"
   ]
  },
  {
   "cell_type": "code",
   "execution_count": null,
   "id": "f93efe5c",
   "metadata": {},
   "outputs": [],
   "source": [
    "-this is a git diff test example\n",
    "+this is a different example"
   ]
  },
  {
   "cell_type": "markdown",
   "id": "2be2896d",
   "metadata": {},
   "source": [
    "If the - sign and the + sign are close together, this usually indicates that a replacement has occurred in that line. In the example above, the line this is a git diff test example is replaced with this is a diff example. And that’s what we do in this example."
   ]
  }
 ],
 "metadata": {},
 "nbformat": 4,
 "nbformat_minor": 5
}
