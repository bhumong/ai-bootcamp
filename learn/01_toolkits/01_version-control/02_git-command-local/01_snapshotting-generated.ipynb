{
 "cells": [
  {
   "cell_type": "markdown",
   "id": "0cc60444",
   "metadata": {},
   "source": [
    "# Snapshotting"
   ]
  },
  {
   "cell_type": "markdown",
   "id": "b2a25438",
   "metadata": {},
   "source": [
    "# Introduction To Git Snapshots"
   ]
  },
  {
   "cell_type": "markdown",
   "id": "92877dde",
   "metadata": {},
   "source": [
    "We learned earlier that Git uses the snapshot method which will capture the situation and conditions of the repository when we save changes using Git commands."
   ]
  },
  {
   "cell_type": "markdown",
   "id": "55da1136",
   "metadata": {},
   "source": [
    "With the snapshot method, Git will only save changes that occur in both files and folders into snapshot at that time. Meanwhile, files and folders that have not changed will be saved as references to the previous snapshot."
   ]
  },
  {
   "cell_type": "markdown",
   "id": "abf5c66f",
   "metadata": {},
   "source": [
    "Let’s learn together how a Git snapshot is created:"
   ]
  },
  {
   "cell_type": "markdown",
   "id": "8b7348c7",
   "metadata": {},
   "source": [
    "Note: Before running the Git command below, make sure it is in the Git repository, if not, then use the git init command first."
   ]
  },
  {
   "cell_type": "markdown",
   "id": "84f9c5ef",
   "metadata": {},
   "source": [
    "# File stages in Git"
   ]
  },
  {
   "cell_type": "markdown",
   "id": "968da9b2",
   "metadata": {},
   "source": []
  },
  {
   "cell_type": "markdown",
   "id": "10413eab",
   "metadata": {},
   "source": [
    "Working, staging and commit (Source: axosoft.com)"
   ]
  },
  {
   "cell_type": "markdown",
   "id": "e4a9d84a",
   "metadata": {},
   "source": [
    "The files in a Git repository will exist in three different stages:"
   ]
  },
  {
   "cell_type": "markdown",
   "id": "e6d47165",
   "metadata": {},
   "source": [
    "# Commands to check current repository status and history"
   ]
  },
  {
   "cell_type": "markdown",
   "id": "7250dc68",
   "metadata": {},
   "source": [
    "The Git commands that are very useful for viewing the status of the repository that we are working on and often use are:"
   ]
  },
  {
   "cell_type": "markdown",
   "id": "92c1d941",
   "metadata": {},
   "source": [
    "git status: displays the state of the working directory and staging area so we can see which files are not staged and which are staged. More details here"
   ]
  },
  {
   "cell_type": "markdown",
   "id": "5504f084",
   "metadata": {},
   "source": [
    "git log: displays committed commits. More details here"
   ]
  },
  {
   "cell_type": "markdown",
   "id": "08f5f157",
   "metadata": {},
   "source": [
    "To see Git Snapshot in practice, watch the following video:"
   ]
  },
  {
   "cell_type": "markdown",
   "id": "03bf3ea2",
   "metadata": {},
   "source": []
  },
  {
   "cell_type": "markdown",
   "id": "d928211c",
   "metadata": {},
   "source": [
    "# Add"
   ]
  },
  {
   "cell_type": "markdown",
   "id": "487c1185",
   "metadata": {},
   "source": []
  },
  {
   "cell_type": "markdown",
   "id": "4ccda8d4",
   "metadata": {},
   "source": [
    "Git add visualization (Source: img-bc.icode.best)"
   ]
  },
  {
   "cell_type": "markdown",
   "id": "a4073e88",
   "metadata": {},
   "source": [
    "The git add command functions to add new files or changed files in the working directory to the staging area"
   ]
  },
  {
   "cell_type": "markdown",
   "id": "b1812678",
   "metadata": {},
   "source": [
    "# How to Use git add"
   ]
  },
  {
   "cell_type": "markdown",
   "id": "e297c340",
   "metadata": {},
   "source": [
    "Common usage and options for git add"
   ]
  },
  {
   "cell_type": "markdown",
   "id": "5a10209e",
   "metadata": {},
   "source": [
    "git add <file>: Adds the specified file shell      > git add file1.txt"
   ]
  },
  {
   "cell_type": "markdown",
   "id": "549e911a",
   "metadata": {},
   "source": [
    "git add .: Adds all files shell      > git add ."
   ]
  },
  {
   "cell_type": "markdown",
   "id": "b7e363b4",
   "metadata": {},
   "source": [
    "We can see the other git add options with tldr git add or git add -h"
   ]
  },
  {
   "cell_type": "markdown",
   "id": "d9cdde1b",
   "metadata": {},
   "source": [
    "The safest way to use git add is to designate a specific file or directory that we want to add to the staging area. Example:"
   ]
  },
  {
   "cell_type": "markdown",
   "id": "5f5c6aeb",
   "metadata": {},
   "source": [
    "# git add All Files"
   ]
  },
  {
   "cell_type": "markdown",
   "id": "a5f319bd",
   "metadata": {},
   "source": [
    "If we want to add to the staging area all files, there are several commands that can be used, namely:"
   ]
  },
  {
   "cell_type": "markdown",
   "id": "cad675f7",
   "metadata": {},
   "source": [
    "Source: stackoverflow.com"
   ]
  },
  {
   "cell_type": "markdown",
   "id": "9de72adf",
   "metadata": {},
   "source": [
    "Saving all files to the staging area has several risks, namely:"
   ]
  },
  {
   "cell_type": "markdown",
   "id": "26c7cc6a",
   "metadata": {},
   "source": [
    "We can prevent the possibility of the 2 points above by ensuring that each commit only contains related changes and match the description of its commit."
   ]
  },
  {
   "cell_type": "markdown",
   "id": "ebca366d",
   "metadata": {},
   "source": [
    "# Undo Added Files"
   ]
  },
  {
   "cell_type": "markdown",
   "id": "ef7424e9",
   "metadata": {},
   "source": [
    "For example, we have files hello.txt and world.txt in repository and we have added both to the staging area"
   ]
  },
  {
   "cell_type": "code",
   "execution_count": null,
   "id": "479e60b9",
   "metadata": {},
   "outputs": [],
   "source": [
    "> git status\n",
    "On branch main\n",
    "\n",
    "No commits yet\n",
    "\n",
    "Changes to be committed:\n",
    "   (use \"git rm --cached <file>...\" to unstage)\n",
    "         new file: hello.txt\n",
    "         new file: world.txt"
   ]
  },
  {
   "cell_type": "markdown",
   "id": "6f932375",
   "metadata": {},
   "source": [
    "Then we do the git reset command on file hello.txt to return it to working directory"
   ]
  },
  {
   "cell_type": "code",
   "execution_count": null,
   "id": "b36791e0",
   "metadata": {},
   "outputs": [],
   "source": [
    "> git reset hello.txt\n",
    "> git status\n",
    "On branch main\n",
    "\n",
    "No commits yet\n",
    "\n",
    "Changes to be committed:\n",
    "   (use \"git rm --cached <file>...\" to unstage)\n",
    "         new file: world.txt\n",
    "\n",
    "Untracked files:\n",
    "   (use \"git add <file>...\" to include in what will be committed)\n",
    "         hello.txt"
   ]
  },
  {
   "cell_type": "markdown",
   "id": "249e9be5",
   "metadata": {},
   "source": [
    "So we can see that the file hello.txt has moved to the working directory. If we do git commit, only world.txt will be committed. In this way, we can ensure that the files that are committed are only the files that we want."
   ]
  },
  {
   "cell_type": "markdown",
   "id": "f1a03efb",
   "metadata": {},
   "source": [
    "# Commit"
   ]
  },
  {
   "cell_type": "markdown",
   "id": "78f54f76",
   "metadata": {},
   "source": []
  },
  {
   "cell_type": "markdown",
   "id": "f144ab40",
   "metadata": {},
   "source": [
    "Git Commit Flow (Source: cspsprotocol.com)"
   ]
  },
  {
   "cell_type": "markdown",
   "id": "6787d1dd",
   "metadata": {},
   "source": [
    "# How to use git commit"
   ]
  },
  {
   "cell_type": "markdown",
   "id": "8f93ea93",
   "metadata": {},
   "source": [
    "The git commit command functions to save and move files in the staging area to the committed stage."
   ]
  },
  {
   "cell_type": "markdown",
   "id": "26802897",
   "metadata": {},
   "source": [
    "When saving we are required to provide a commit message which contains a record of the changes that occurred in the file or collection of files that we committed."
   ]
  },
  {
   "cell_type": "markdown",
   "id": "ca040638",
   "metadata": {},
   "source": [
    "# Commit Message Best Practice"
   ]
  },
  {
   "cell_type": "markdown",
   "id": "2e2a7a1e",
   "metadata": {},
   "source": [
    "Commit message must be short and describe the changes made. Why should so? Because when looking at the history of the project, we will be guided by the commit message, so that the commit message ideally tells a story from the beginning of the history of our project to the end."
   ]
  },
  {
   "cell_type": "markdown",
   "id": "a7ddfdf5",
   "metadata": {},
   "source": [
    "The Commit message must be in present tense and explain clearly & concisely the changes made. We can also add semantic commit message so that each commit message has its own category (feat: feature, fix: fix, docs: addition of document) as in the following example :"
   ]
  },
  {
   "cell_type": "markdown",
   "id": "b6094561",
   "metadata": {},
   "source": [
    "By ensuring our commit message can be read easily, we’ll be able to rollback (restore the status of our project) to any commit."
   ]
  },
  {
   "cell_type": "markdown",
   "id": "d290ad12",
   "metadata": {},
   "source": [
    "# Checkout"
   ]
  },
  {
   "cell_type": "markdown",
   "id": "2e819b1a",
   "metadata": {},
   "source": [
    "The git checkout command is a command that is often used, one of which is to move between commits so that we can review the contents of a particular commit."
   ]
  },
  {
   "cell_type": "markdown",
   "id": "3113be73",
   "metadata": {},
   "source": [
    "Let’s say we have a repository that has several commits and we do a checkout to one of the commits."
   ]
  },
  {
   "cell_type": "markdown",
   "id": "546d4a58",
   "metadata": {},
   "source": [
    "With the command git log --oneline it will display commit per line and have a short output in the form of the first seven characters of the commit id (example: 7ba2a60) and commit message. Use the commit id to switch commit:"
   ]
  },
  {
   "cell_type": "markdown",
   "id": "3e59d361",
   "metadata": {},
   "source": []
  },
  {
   "cell_type": "code",
   "execution_count": null,
   "id": "57158018",
   "metadata": {},
   "outputs": [],
   "source": [
    "> git log --oneline\n",
    "c21091a6 (HEAD -> master) docs: add note to snapshot and git add\n",
    "e2eea3ae docs: add ideation\n",
    "> git checkout e2eea3ae\n",
    "> git log --oneline\n",
    "d82c536 (HEAD) docs: add ideation"
   ]
  },
  {
   "cell_type": "markdown",
   "id": "d5e91907",
   "metadata": {},
   "source": []
  },
  {
   "cell_type": "markdown",
   "id": "5c15f783",
   "metadata": {},
   "source": [
    "So it can be seen that by doing checkout we can move to commit with id d82c536. If we want to get back to work after seeing the contents of this commit, we can run the command: git checkout -"
   ]
  },
  {
   "cell_type": "code",
   "execution_count": null,
   "id": "61a78119",
   "metadata": {},
   "outputs": [],
   "source": [
    "> git checkout -\n",
    "> git log --oneline\n",
    "7ba2a60 (HEAD -> master) docs: add note to snapshot and git add\n",
    "d82c536 docs: add ideation"
   ]
  },
  {
   "cell_type": "markdown",
   "id": "d315b810",
   "metadata": {},
   "source": []
  },
  {
   "cell_type": "markdown",
   "id": "ea9ac1c2",
   "metadata": {},
   "source": [
    "So, it can be seen that commit has moved to the previous position."
   ]
  },
  {
   "cell_type": "markdown",
   "id": "9c4d18d6",
   "metadata": {},
   "source": [
    "# How To Undo A Commit With git revert"
   ]
  },
  {
   "cell_type": "markdown",
   "id": "f61e239f",
   "metadata": {},
   "source": [
    "git revert is the highly recommended and safest way to undo a commit."
   ]
  },
  {
   "cell_type": "code",
   "execution_count": null,
   "id": "b5efdb67",
   "metadata": {},
   "outputs": [],
   "source": [
    "> git log --oneline\n",
    "47d87b4 (HEAD -> master) docs: minor typo fix\n",
    "c21091a docs: add note to snapshot and git add\n",
    "e2eea3a docs: add ideation"
   ]
  },
  {
   "cell_type": "markdown",
   "id": "d143f8a1",
   "metadata": {},
   "source": [
    "For example, if we want to undo commit “docs: add note to snapshot and git add”, we can do the following command:"
   ]
  },
  {
   "cell_type": "code",
   "execution_count": null,
   "id": "3f6c9cf1",
   "metadata": {},
   "outputs": [],
   "source": [
    "> git revert c21091a"
   ]
  },
  {
   "cell_type": "markdown",
   "id": "c078402c",
   "metadata": {},
   "source": [
    "git revert will create a new commit whose contents are the opposite (inverse) of the commit we want to undo. If we call git log again:"
   ]
  },
  {
   "cell_type": "code",
   "execution_count": null,
   "id": "086c9fe7",
   "metadata": {},
   "outputs": [],
   "source": [
    "> git log --oneline\n",
    "562560e (HEAD -> master) Revert \"docs: add note to snapshot and git add\"\n",
    "47d87b4 docs: minor typo fix\n",
    "c21091a docs: add note to snapshot and git add\n",
    "e2eea3a docs: add ideation"
   ]
  },
  {
   "cell_type": "markdown",
   "id": "1ac75d34",
   "metadata": {},
   "source": []
  },
  {
   "cell_type": "markdown",
   "id": "f1f83ed7",
   "metadata": {},
   "source": [
    "Then git revert will become a new commit which will undo all the changes we have made previously:"
   ]
  },
  {
   "cell_type": "markdown",
   "id": "7a623f3b",
   "metadata": {},
   "source": []
  },
  {
   "cell_type": "markdown",
   "id": "13eeca22",
   "metadata": {},
   "source": [
    "Git revert (Source: cloudinary.com)"
   ]
  },
  {
   "cell_type": "markdown",
   "id": "901e9659",
   "metadata": {},
   "source": [
    "# Updating Commits With Git Commit Amend"
   ]
  },
  {
   "cell_type": "markdown",
   "id": "c6748ef0",
   "metadata": {},
   "source": [
    "For example, we have done a commit and we realize that there was an error in the commit (whether we forgot to edit a few lines of the file or gave the wrong commit message) we can do git commit --amend, where the entire file is staging will now be put in the previous commit."
   ]
  },
  {
   "cell_type": "markdown",
   "id": "1a05aa43",
   "metadata": {},
   "source": [
    "Warning: do not do git commit --amend if the previous commit has already been push"
   ]
  },
  {
   "cell_type": "markdown",
   "id": "f3d340f2",
   "metadata": {},
   "source": [
    "# git rm"
   ]
  },
  {
   "cell_type": "markdown",
   "id": "fa81a3ab",
   "metadata": {},
   "source": [
    "There are 2 ways to use git rm:"
   ]
  },
  {
   "cell_type": "markdown",
   "id": "9f61a4fb",
   "metadata": {},
   "source": [
    "Here we will focus on the second use, namely canceling the file from the staging area back to the working directory. For that we will use git rm --cached."
   ]
  },
  {
   "cell_type": "markdown",
   "id": "351e8362",
   "metadata": {},
   "source": [
    "# How to use git rm for staged files"
   ]
  },
  {
   "cell_type": "markdown",
   "id": "537028bc",
   "metadata": {},
   "source": [
    "We use the git rm --cached command to move a file from staging to working directory. For example, we have a file named hello.txt which is already in the staging area."
   ]
  },
  {
   "cell_type": "code",
   "execution_count": null,
   "id": "e83318ae",
   "metadata": {},
   "outputs": [],
   "source": [
    "[user@localhost]$ git status\n",
    "On branchmaster\n",
    "No commits yet\n",
    "Changes to be committed:\n",
    "   (use \"git rm --cached <file>...\" to unstage)\n",
    "         new file: hello.txt"
   ]
  },
  {
   "cell_type": "markdown",
   "id": "3cb62823",
   "metadata": {},
   "source": [
    "So we can move file hello.txt from staging area to working directory without deleting it from file system by:"
   ]
  },
  {
   "cell_type": "code",
   "execution_count": null,
   "id": "72dd30df",
   "metadata": {},
   "outputs": [],
   "source": [
    "[user@localhost]$ git rm hello.txt --cached\n",
    "rm 'hello.txt'\n",
    "[user@localhost]$ git status\n",
    "On branch main\n",
    "No commits yet\n",
    "Untracked files:\n",
    "   (use \"git add <file>...\" to include in what will be committed)\n",
    "         hello.txt\n",
    "nothing added to commit but untracked files present (use \"git add\" to track)"
   ]
  },
  {
   "cell_type": "markdown",
   "id": "8261bc62",
   "metadata": {},
   "source": [
    "So it can be seen that the file hello.txt is no longer in the staging area but has moved to the working directory."
   ]
  },
  {
   "cell_type": "markdown",
   "id": "b4b51c16",
   "metadata": {},
   "source": [
    "Note: Remember to use the --cached option. Without the --cached option, the file will be deleted from the staging area and working directory."
   ]
  },
  {
   "cell_type": "markdown",
   "id": "aec91db9",
   "metadata": {},
   "source": [
    "# git diff"
   ]
  },
  {
   "cell_type": "markdown",
   "id": "93096748",
   "metadata": {},
   "source": [
    "# What is git diff?"
   ]
  },
  {
   "cell_type": "markdown",
   "id": "327ec987",
   "metadata": {},
   "source": [
    "git diff is used to inspect changes we make when working on a Git repository. The way it works is to compare the file in the working directory with the file in the commit in the repository."
   ]
  },
  {
   "cell_type": "markdown",
   "id": "a7dd67b1",
   "metadata": {},
   "source": [
    "# Examples"
   ]
  },
  {
   "cell_type": "markdown",
   "id": "5c2af238",
   "metadata": {},
   "source": [
    "We add a file in the initialized repository to try git diff"
   ]
  },
  {
   "cell_type": "code",
   "execution_count": null,
   "id": "6ad65864",
   "metadata": {},
   "outputs": [],
   "source": [
    "> touch diff_test.txt\n",
    "> echo \"this is a git diff test example\" > diff_test.txt\n",
    "> git add diff_test.txt\n",
    "> git commit -am \"add diff test file\"\n",
    "[main (root-commit) 6f77fc3] add diff test file\n",
    "1 file changed, 1 insertion(+)\n",
    "create mode 100644 diff_test.txt"
   ]
  },
  {
   "cell_type": "markdown",
   "id": "4e39b112",
   "metadata": {},
   "source": [
    "For example, now we change all the contents of the file diff_test.txt."
   ]
  },
  {
   "cell_type": "code",
   "execution_count": null,
   "id": "0194d0e3",
   "metadata": {},
   "outputs": [],
   "source": [
    "> echo \"this is a diff example\" > diff_test.txt"
   ]
  },
  {
   "cell_type": "markdown",
   "id": "36db55d7",
   "metadata": {},
   "source": [
    "By executing git diff, we will compare the changes just committed (changing the contents of file diff_test.txt) with the previous commit, which will produce the following output:"
   ]
  },
  {
   "cell_type": "code",
   "execution_count": null,
   "id": "bd7be958",
   "metadata": {},
   "outputs": [],
   "source": [
    "> git diff\n",
    "diff --git a/diff_test.txt b/diff_test.txt\n",
    "index 6b0c6cf..b37e70a 100644\n",
    "--- a/diff_test.txt\n",
    "+++ b/diff_test.txt\n",
    "@@ -1 +1 @@\n",
    "-this is a git diff test example\n",
    "+this is a different example"
   ]
  },
  {
   "cell_type": "markdown",
   "id": "4b440cca",
   "metadata": {},
   "source": [
    "The following is an explanation of the output above:"
   ]
  },
  {
   "cell_type": "markdown",
   "id": "5d204639",
   "metadata": {},
   "source": [
    "Comparison input"
   ]
  },
  {
   "cell_type": "code",
   "execution_count": null,
   "id": "e8a9588e",
   "metadata": {},
   "outputs": [],
   "source": [
    "diff --git a/diff_test.txt b/diff_test.txt"
   ]
  },
  {
   "cell_type": "markdown",
   "id": "56c3c31f",
   "metadata": {},
   "source": [
    "a/diff_test.txt is the file in the commit that we are comparing with the file in the working directory, which is written here as b/diff_test.txt."
   ]
  },
  {
   "cell_type": "markdown",
   "id": "fccb63af",
   "metadata": {},
   "source": [
    "Markers for changes"
   ]
  },
  {
   "cell_type": "code",
   "execution_count": null,
   "id": "731b5622",
   "metadata": {},
   "outputs": [],
   "source": [
    "--- a/diff_test.txt\n",
    "+++ b/diff_test.txt"
   ]
  },
  {
   "cell_type": "markdown",
   "id": "59816e6a",
   "metadata": {},
   "source": [
    "These lines are the symbols assigned to each input source. Changes from a/diff_test.txt are marked with the symbol --- and changes from b/diff_test.txt are marked with the symbol +++."
   ]
  },
  {
   "cell_type": "markdown",
   "id": "30cfe136",
   "metadata": {},
   "source": [
    "Diff content"
   ]
  },
  {
   "cell_type": "code",
   "execution_count": null,
   "id": "0b532066",
   "metadata": {},
   "outputs": [],
   "source": [
    "-this is a git diff test example\n",
    "+this is a different example"
   ]
  },
  {
   "cell_type": "markdown",
   "id": "ab60ec5f",
   "metadata": {},
   "source": [
    "If the - sign and the + sign are close together, this usually indicates that a replacement has occurred in that line. In the example above, the line this is a git diff test example is replaced with this is a diff example. And that’s what we do in this example."
   ]
  }
 ],
 "metadata": {},
 "nbformat": 4,
 "nbformat_minor": 5
}
