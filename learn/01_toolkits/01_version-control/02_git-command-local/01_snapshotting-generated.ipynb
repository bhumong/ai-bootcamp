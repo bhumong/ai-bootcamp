{
 "cells": [
  {
   "cell_type": "markdown",
   "id": "e095f6d8",
   "metadata": {},
   "source": [
    "source: [link](https://ai-bootcamp.ruangguru.com/learn/01_toolkits/01_version-control/02_git-command-local/01_snapshotting.html)"
   ]
  },
  {
   "cell_type": "markdown",
   "id": "8b034719",
   "metadata": {},
   "source": [
    "# Snapshotting"
   ]
  },
  {
   "cell_type": "markdown",
   "id": "d5643dbd",
   "metadata": {},
   "source": [
    "# Introduction To Git Snapshots"
   ]
  },
  {
   "cell_type": "markdown",
   "id": "685adcb5",
   "metadata": {},
   "source": [
    "We learned earlier that Git uses the snapshot method which will capture the situation and conditions of the repository when we save changes using Git commands."
   ]
  },
  {
   "cell_type": "markdown",
   "id": "3f15d057",
   "metadata": {},
   "source": [
    "With the snapshot method, Git will only save changes that occur in both files and folders into snapshot at that time. Meanwhile, files and folders that have not changed will be saved as references to the previous snapshot."
   ]
  },
  {
   "cell_type": "markdown",
   "id": "be154420",
   "metadata": {},
   "source": [
    "Let’s learn together how a Git snapshot is created:"
   ]
  },
  {
   "cell_type": "markdown",
   "id": "7315370b",
   "metadata": {},
   "source": [
    "Note: Before running the Git command below, make sure it is in the Git repository, if not, then use the git init command first."
   ]
  },
  {
   "cell_type": "markdown",
   "id": "f814e44a",
   "metadata": {},
   "source": [
    "# File stages in Git"
   ]
  },
  {
   "cell_type": "markdown",
   "id": "9d0f9515",
   "metadata": {},
   "source": []
  },
  {
   "cell_type": "markdown",
   "id": "c12a4059",
   "metadata": {},
   "source": [
    "![Image](https://storage.googleapis.com/rg-ai-bootcamp/toolkits/wd-sd-commit-min.gif)"
   ]
  },
  {
   "cell_type": "markdown",
   "id": "5f355ecc",
   "metadata": {},
   "source": [
    "Working, staging and commit (Source: axosoft.com)"
   ]
  },
  {
   "cell_type": "markdown",
   "id": "f7306dcc",
   "metadata": {},
   "source": [
    "The files in a Git repository will exist in three different stages:"
   ]
  },
  {
   "cell_type": "markdown",
   "id": "2ba0adf5",
   "metadata": {},
   "source": [
    "- Not staged: Thefolderwe are working on now is called theworking directory. When we create or change afilein theworking directory, thefileisnot staged. When we work on a task, there will befilesthat we change or that we leave as is. Now for thefilethat we changed, to save it into Git, we need to move it to thestaging area.\n",
    "- Staged: Thestagedprocess will select whichfilewe want to ‘commit’ later. When the files have been collected, we can save them and move them to the committed stage with thegit commitcommand.\n",
    "- Committed: The series ofcommitsbecomes the history of ourprojectfrom start to finish, eachcommitcan be seen in thegit logand with it we can see the entire history of ourprojectfrom the start of our git repository."
   ]
  },
  {
   "cell_type": "markdown",
   "id": "124b1b38",
   "metadata": {},
   "source": [
    "# Commands to check current repository status and history"
   ]
  },
  {
   "cell_type": "markdown",
   "id": "4fec6cc8",
   "metadata": {},
   "source": [
    "The Git commands that are very useful for viewing the status of the repository that we are working on and often use are:"
   ]
  },
  {
   "cell_type": "markdown",
   "id": "064f1da1",
   "metadata": {},
   "source": [
    "- git status: displays the state of theworking directoryandstaging areaso we can see which files arenot stagedand which arestaged. More detailshere\n",
    "- git log: displays committedcommits. More detailshere"
   ]
  },
  {
   "cell_type": "markdown",
   "id": "07faa4f3",
   "metadata": {},
   "source": [
    "git status: displays the state of the working directory and staging area so we can see which files are not staged and which are staged. More details here"
   ]
  },
  {
   "cell_type": "markdown",
   "id": "980a731d",
   "metadata": {},
   "source": [
    "git log: displays committed commits. More details here"
   ]
  },
  {
   "cell_type": "markdown",
   "id": "38ba1409",
   "metadata": {},
   "source": [
    "To see Git Snapshot in practice, watch the following video:"
   ]
  },
  {
   "cell_type": "markdown",
   "id": "ea9b8fd3",
   "metadata": {},
   "source": []
  },
  {
   "cell_type": "markdown",
   "id": "f2ced044",
   "metadata": {},
   "source": [
    "![Image](https://img.youtube.com/vi/Pn-YsfxfSd8/0.jpg)"
   ]
  },
  {
   "cell_type": "markdown",
   "id": "77f7b78c",
   "metadata": {},
   "source": [
    "# Add"
   ]
  },
  {
   "cell_type": "markdown",
   "id": "0e60c7da",
   "metadata": {},
   "source": []
  },
  {
   "cell_type": "markdown",
   "id": "53f7e496",
   "metadata": {},
   "source": [
    "![Image](https://storage.googleapis.com/rg-ai-bootcamp/toolkits/git-add-min.gif)"
   ]
  },
  {
   "cell_type": "markdown",
   "id": "c98e680d",
   "metadata": {},
   "source": [
    "Git add visualization (Source: img-bc.icode.best)"
   ]
  },
  {
   "cell_type": "markdown",
   "id": "40f471c7",
   "metadata": {},
   "source": [
    "The git add command functions to add new files or changed files in the working directory to the staging area"
   ]
  },
  {
   "cell_type": "markdown",
   "id": "0e436496",
   "metadata": {},
   "source": [
    "# How to Use git add"
   ]
  },
  {
   "cell_type": "markdown",
   "id": "ee46738c",
   "metadata": {},
   "source": [
    "Common usage and options for git add"
   ]
  },
  {
   "cell_type": "markdown",
   "id": "77d1787a",
   "metadata": {},
   "source": [
    "- git add <file>: Adds the specifiedfileshell      > git add file1.txt\n",
    "- git add .: Adds allfilesshell      > git add ."
   ]
  },
  {
   "cell_type": "markdown",
   "id": "1fcfd46b",
   "metadata": {},
   "source": [
    "git add <file>: Adds the specified file shell      > git add file1.txt"
   ]
  },
  {
   "cell_type": "markdown",
   "id": "0e1428c6",
   "metadata": {},
   "source": [
    "git add .: Adds all files shell      > git add ."
   ]
  },
  {
   "cell_type": "markdown",
   "id": "173a3b11",
   "metadata": {},
   "source": [
    "We can see the other git add options with tldr git add or git add -h"
   ]
  },
  {
   "cell_type": "markdown",
   "id": "bfc7ad51",
   "metadata": {},
   "source": [
    "The safest way to use git add is to designate a specific file or directory that we want to add to the staging area. Example:"
   ]
  },
  {
   "cell_type": "markdown",
   "id": "c6f2453b",
   "metadata": {},
   "source": [
    "- git add login/: Adds all changes tofilesinsidefolderlogin\n",
    "- git add README.md: Adds all changes to the README.mdfile"
   ]
  },
  {
   "cell_type": "markdown",
   "id": "44944c3d",
   "metadata": {},
   "source": [
    "# git add All Files"
   ]
  },
  {
   "cell_type": "markdown",
   "id": "3cbda1a3",
   "metadata": {},
   "source": [
    "If we want to add to the staging area all files, there are several commands that can be used, namely:"
   ]
  },
  {
   "cell_type": "markdown",
   "id": "e060bc31",
   "metadata": {},
   "source": [
    "| Command | New Files | Modified Files | Deleted Files | Description |\n",
    "| --- | --- | --- | --- | --- |\n",
    "| git add . | ✔️ | ✔️ | ✔️ | Adds allfilesrecursively in the currentfolder |\n",
    "| git add -u | ❌ | ✔️ | ✔️ | Adds allfilesthat have previously been tracked in Git. |"
   ]
  },
  {
   "cell_type": "markdown",
   "id": "997e9770",
   "metadata": {},
   "source": [
    "Source: stackoverflow.com"
   ]
  },
  {
   "cell_type": "markdown",
   "id": "89875a11",
   "metadata": {},
   "source": [
    "Saving all files to the staging area has several risks, namely:"
   ]
  },
  {
   "cell_type": "markdown",
   "id": "eec7d398",
   "metadata": {},
   "source": [
    "- Creating acommitthat is too large may contain changes that have nothing to do with what is being done.\n",
    "- There may befilescontaining sensitive information that we accidentallycommittedsuch aspassword,token, etc."
   ]
  },
  {
   "cell_type": "markdown",
   "id": "f53dbc9d",
   "metadata": {},
   "source": [
    "We can prevent the possibility of the 2 points above by ensuring that each commit only contains related changes and match the description of its commit."
   ]
  },
  {
   "cell_type": "markdown",
   "id": "0f7b8580",
   "metadata": {},
   "source": [
    "# Undo Added Files"
   ]
  },
  {
   "cell_type": "markdown",
   "id": "dad2046a",
   "metadata": {},
   "source": [
    "For example, we have files hello.txt and world.txt in repository and we have added both to the staging area"
   ]
  },
  {
   "cell_type": "code",
   "execution_count": null,
   "id": "1ecec1c8",
   "metadata": {},
   "outputs": [],
   "source": [
    "> git status\n",
    "On branch main\n",
    "\n",
    "No commits yet\n",
    "\n",
    "Changes to be committed:\n",
    "   (use \"git rm --cached <file>...\" to unstage)\n",
    "         new file: hello.txt\n",
    "         new file: world.txt"
   ]
  },
  {
   "cell_type": "markdown",
   "id": "fd774876",
   "metadata": {},
   "source": [
    "Then we do the git reset command on file hello.txt to return it to working directory"
   ]
  },
  {
   "cell_type": "code",
   "execution_count": null,
   "id": "158af81d",
   "metadata": {},
   "outputs": [],
   "source": [
    "> git reset hello.txt\n",
    "> git status\n",
    "On branch main\n",
    "\n",
    "No commits yet\n",
    "\n",
    "Changes to be committed:\n",
    "   (use \"git rm --cached <file>...\" to unstage)\n",
    "         new file: world.txt\n",
    "\n",
    "Untracked files:\n",
    "   (use \"git add <file>...\" to include in what will be committed)\n",
    "         hello.txt"
   ]
  },
  {
   "cell_type": "markdown",
   "id": "b30091a3",
   "metadata": {},
   "source": [
    "So we can see that the file hello.txt has moved to the working directory. If we do git commit, only world.txt will be committed. In this way, we can ensure that the files that are committed are only the files that we want."
   ]
  },
  {
   "cell_type": "markdown",
   "id": "c47939f4",
   "metadata": {},
   "source": [
    "# Commit"
   ]
  },
  {
   "cell_type": "markdown",
   "id": "2ce1ebed",
   "metadata": {},
   "source": []
  },
  {
   "cell_type": "markdown",
   "id": "2f3096ea",
   "metadata": {},
   "source": [
    "![Image](https://storage.googleapis.com/rg-ai-bootcamp/toolkits/git-commit-flow-min.png)"
   ]
  },
  {
   "cell_type": "markdown",
   "id": "054c0372",
   "metadata": {},
   "source": [
    "Git Commit Flow (Source: cspsprotocol.com)"
   ]
  },
  {
   "cell_type": "markdown",
   "id": "2aba3444",
   "metadata": {},
   "source": [
    "# How to use git commit"
   ]
  },
  {
   "cell_type": "markdown",
   "id": "5b0cf05f",
   "metadata": {},
   "source": [
    "The git commit command functions to save and move files in the staging area to the committed stage."
   ]
  },
  {
   "cell_type": "markdown",
   "id": "40543638",
   "metadata": {},
   "source": [
    "When saving we are required to provide a commit message which contains a record of the changes that occurred in the file or collection of files that we committed."
   ]
  },
  {
   "cell_type": "markdown",
   "id": "e0dbe75d",
   "metadata": {},
   "source": [
    "# Commit Message Best Practice"
   ]
  },
  {
   "cell_type": "markdown",
   "id": "7ed8ba54",
   "metadata": {},
   "source": [
    "Commit message must be short and describe the changes made. Why should so? Because when looking at the history of the project, we will be guided by the commit message, so that the commit message ideally tells a story from the beginning of the history of our project to the end."
   ]
  },
  {
   "cell_type": "markdown",
   "id": "7edb2272",
   "metadata": {},
   "source": [
    "The Commit message must be in present tense and explain clearly & concisely the changes made. We can also add semantic commit message so that each commit message has its own category (feat: feature, fix: fix, docs: addition of document) as in the following example :"
   ]
  },
  {
   "cell_type": "markdown",
   "id": "5442651f",
   "metadata": {},
   "source": [
    "- git commit -m \"feat: create file structure for Git guides\"\n",
    "- git commit -m \"fix: translate Git cheat sheet into German\"\n",
    "- git commit -m \"docs: update broken URL to Git resources\""
   ]
  },
  {
   "cell_type": "markdown",
   "id": "de5eb85c",
   "metadata": {},
   "source": [
    "By ensuring our commit message can be read easily, we’ll be able to rollback (restore the status of our project) to any commit."
   ]
  },
  {
   "cell_type": "markdown",
   "id": "5d8b7f2e",
   "metadata": {},
   "source": [
    "# Checkout"
   ]
  },
  {
   "cell_type": "markdown",
   "id": "53f7b436",
   "metadata": {},
   "source": [
    "The git checkout command is a command that is often used, one of which is to move between commits so that we can review the contents of a particular commit."
   ]
  },
  {
   "cell_type": "markdown",
   "id": "74b9f688",
   "metadata": {},
   "source": [
    "Let’s say we have a repository that has several commits and we do a checkout to one of the commits."
   ]
  },
  {
   "cell_type": "markdown",
   "id": "fb13ba38",
   "metadata": {},
   "source": [
    "With the command git log --oneline it will display commit per line and have a short output in the form of the first seven characters of the commit id (example: 7ba2a60) and commit message. Use the commit id to switch commit:"
   ]
  },
  {
   "cell_type": "markdown",
   "id": "e2e3f8e2",
   "metadata": {},
   "source": []
  },
  {
   "cell_type": "markdown",
   "id": "99266c6d",
   "metadata": {},
   "source": [
    "![Image](https://storage.googleapis.com/rg-ai-bootcamp/toolkits/graph-commit-1-min.png)"
   ]
  },
  {
   "cell_type": "code",
   "execution_count": null,
   "id": "243f6707",
   "metadata": {},
   "outputs": [],
   "source": [
    "> git log --oneline\n",
    "c21091a6 (HEAD -> master) docs: add note to snapshot and git add\n",
    "e2eea3ae docs: add ideation\n",
    "> git checkout e2eea3ae\n",
    "> git log --oneline\n",
    "d82c536 (HEAD) docs: add ideation"
   ]
  },
  {
   "cell_type": "markdown",
   "id": "62ab1568",
   "metadata": {},
   "source": []
  },
  {
   "cell_type": "markdown",
   "id": "46026b4e",
   "metadata": {},
   "source": [
    "![Image](https://storage.googleapis.com/rg-ai-bootcamp/toolkits/graph-commit-2-min.png)"
   ]
  },
  {
   "cell_type": "markdown",
   "id": "ef5e7f04",
   "metadata": {},
   "source": [
    "So it can be seen that by doing checkout we can move to commit with id d82c536. If we want to get back to work after seeing the contents of this commit, we can run the command: git checkout -"
   ]
  },
  {
   "cell_type": "code",
   "execution_count": null,
   "id": "db25142a",
   "metadata": {},
   "outputs": [],
   "source": [
    "> git checkout -\n",
    "> git log --oneline\n",
    "7ba2a60 (HEAD -> master) docs: add note to snapshot and git add\n",
    "d82c536 docs: add ideation"
   ]
  },
  {
   "cell_type": "markdown",
   "id": "874b8d0f",
   "metadata": {},
   "source": []
  },
  {
   "cell_type": "markdown",
   "id": "fc5756c8",
   "metadata": {},
   "source": [
    "![Image](https://storage.googleapis.com/rg-ai-bootcamp/toolkits/graph-commit-1-min.png)"
   ]
  },
  {
   "cell_type": "markdown",
   "id": "90f4e276",
   "metadata": {},
   "source": [
    "So, it can be seen that commit has moved to the previous position."
   ]
  },
  {
   "cell_type": "markdown",
   "id": "7b862175",
   "metadata": {},
   "source": [
    "# How To Undo A Commit With git revert"
   ]
  },
  {
   "cell_type": "markdown",
   "id": "fc869858",
   "metadata": {},
   "source": [
    "git revert is the highly recommended and safest way to undo a commit."
   ]
  },
  {
   "cell_type": "code",
   "execution_count": null,
   "id": "dc724a92",
   "metadata": {},
   "outputs": [],
   "source": [
    "> git log --oneline\n",
    "47d87b4 (HEAD -> master) docs: minor typo fix\n",
    "c21091a docs: add note to snapshot and git add\n",
    "e2eea3a docs: add ideation"
   ]
  },
  {
   "cell_type": "markdown",
   "id": "934fb473",
   "metadata": {},
   "source": [
    "For example, if we want to undo commit “docs: add note to snapshot and git add”, we can do the following command:"
   ]
  },
  {
   "cell_type": "code",
   "execution_count": null,
   "id": "4580d1b8",
   "metadata": {},
   "outputs": [],
   "source": [
    "> git revert c21091a"
   ]
  },
  {
   "cell_type": "markdown",
   "id": "ea66f56e",
   "metadata": {},
   "source": [
    "git revert will create a new commit whose contents are the opposite (inverse) of the commit we want to undo. If we call git log again:"
   ]
  },
  {
   "cell_type": "code",
   "execution_count": null,
   "id": "3d292f86",
   "metadata": {},
   "outputs": [],
   "source": [
    "> git log --oneline\n",
    "562560e (HEAD -> master) Revert \"docs: add note to snapshot and git add\"\n",
    "47d87b4 docs: minor typo fix\n",
    "c21091a docs: add note to snapshot and git add\n",
    "e2eea3a docs: add ideation"
   ]
  },
  {
   "cell_type": "markdown",
   "id": "27f13a5e",
   "metadata": {},
   "source": []
  },
  {
   "cell_type": "markdown",
   "id": "8d4e2d0e",
   "metadata": {},
   "source": [
    "![Image](https://storage.googleapis.com/rg-ai-bootcamp/toolkits/graph-commit-3-min.png)"
   ]
  },
  {
   "cell_type": "markdown",
   "id": "a1022c7f",
   "metadata": {},
   "source": [
    "Then git revert will become a new commit which will undo all the changes we have made previously:"
   ]
  },
  {
   "cell_type": "markdown",
   "id": "2eab9ee5",
   "metadata": {},
   "source": [
    "- If we have addedfiles,git revertwill remove them\n",
    "- If we make changes to afilethe changes will be cancelled\n",
    "- If we delete afile,git revertwill add it back."
   ]
  },
  {
   "cell_type": "markdown",
   "id": "3d632dc7",
   "metadata": {},
   "source": []
  },
  {
   "cell_type": "markdown",
   "id": "6bcaa922",
   "metadata": {},
   "source": [
    "![Image](https://storage.googleapis.com/rg-ai-bootcamp/toolkits/git-revert-min.gif)"
   ]
  },
  {
   "cell_type": "markdown",
   "id": "7c7f3c90",
   "metadata": {},
   "source": [
    "Git revert (Source: cloudinary.com)"
   ]
  },
  {
   "cell_type": "markdown",
   "id": "8ae17272",
   "metadata": {},
   "source": [
    "# Updating Commits With Git Commit Amend"
   ]
  },
  {
   "cell_type": "markdown",
   "id": "56608029",
   "metadata": {},
   "source": [
    "For example, we have done a commit and we realize that there was an error in the commit (whether we forgot to edit a few lines of the file or gave the wrong commit message) we can do git commit --amend, where the entire file is staging will now be put in the previous commit."
   ]
  },
  {
   "cell_type": "markdown",
   "id": "ba45a276",
   "metadata": {},
   "source": [
    "Warning: do not do git commit --amend if the previous commit has already been push"
   ]
  },
  {
   "cell_type": "markdown",
   "id": "8efe5b18",
   "metadata": {},
   "source": [
    "# git rm"
   ]
  },
  {
   "cell_type": "markdown",
   "id": "d1252ff0",
   "metadata": {},
   "source": [
    "There are 2 ways to use git rm:"
   ]
  },
  {
   "cell_type": "markdown",
   "id": "4c4c1466",
   "metadata": {},
   "source": [
    "- Used to deletefilesfrom thestaging areaandworking directory\n",
    "- Used to cancel (delete)filefromstaging areaback toworking directory. You could say this is the opposite of thegit addcommand."
   ]
  },
  {
   "cell_type": "markdown",
   "id": "401befd7",
   "metadata": {},
   "source": [
    "Here we will focus on the second use, namely canceling the file from the staging area back to the working directory. For that we will use git rm --cached."
   ]
  },
  {
   "cell_type": "markdown",
   "id": "05e61aeb",
   "metadata": {},
   "source": [
    "# How to use git rm for staged files"
   ]
  },
  {
   "cell_type": "markdown",
   "id": "deae0644",
   "metadata": {},
   "source": [
    "We use the git rm --cached command to move a file from staging to working directory. For example, we have a file named hello.txt which is already in the staging area."
   ]
  },
  {
   "cell_type": "code",
   "execution_count": null,
   "id": "7f57fa0f",
   "metadata": {},
   "outputs": [],
   "source": [
    "[user@localhost]$ git status\n",
    "On branchmaster\n",
    "No commits yet\n",
    "Changes to be committed:\n",
    "   (use \"git rm --cached <file>...\" to unstage)\n",
    "         new file: hello.txt"
   ]
  },
  {
   "cell_type": "markdown",
   "id": "cb197ebe",
   "metadata": {},
   "source": [
    "So we can move file hello.txt from staging area to working directory without deleting it from file system by:"
   ]
  },
  {
   "cell_type": "code",
   "execution_count": null,
   "id": "425c5f8e",
   "metadata": {},
   "outputs": [],
   "source": [
    "[user@localhost]$ git rm hello.txt --cached\n",
    "rm 'hello.txt'\n",
    "[user@localhost]$ git status\n",
    "On branch main\n",
    "No commits yet\n",
    "Untracked files:\n",
    "   (use \"git add <file>...\" to include in what will be committed)\n",
    "         hello.txt\n",
    "nothing added to commit but untracked files present (use \"git add\" to track)"
   ]
  },
  {
   "cell_type": "markdown",
   "id": "5d2fbb3a",
   "metadata": {},
   "source": [
    "So it can be seen that the file hello.txt is no longer in the staging area but has moved to the working directory."
   ]
  },
  {
   "cell_type": "markdown",
   "id": "0a4a6a64",
   "metadata": {},
   "source": [
    "Note: Remember to use the --cached option. Without the --cached option, the file will be deleted from the staging area and working directory."
   ]
  },
  {
   "cell_type": "markdown",
   "id": "85151a4a",
   "metadata": {},
   "source": [
    "# git diff"
   ]
  },
  {
   "cell_type": "markdown",
   "id": "c963419b",
   "metadata": {},
   "source": [
    "# What is git diff?"
   ]
  },
  {
   "cell_type": "markdown",
   "id": "072eb847",
   "metadata": {},
   "source": [
    "git diff is used to inspect changes we make when working on a Git repository. The way it works is to compare the file in the working directory with the file in the commit in the repository."
   ]
  },
  {
   "cell_type": "markdown",
   "id": "d9175724",
   "metadata": {},
   "source": [
    "# Examples"
   ]
  },
  {
   "cell_type": "markdown",
   "id": "0372634f",
   "metadata": {},
   "source": [
    "We add a file in the initialized repository to try git diff"
   ]
  },
  {
   "cell_type": "code",
   "execution_count": null,
   "id": "eaa327f3",
   "metadata": {},
   "outputs": [],
   "source": [
    "> touch diff_test.txt\n",
    "> echo \"this is a git diff test example\" > diff_test.txt\n",
    "> git add diff_test.txt\n",
    "> git commit -am \"add diff test file\"\n",
    "[main (root-commit) 6f77fc3] add diff test file\n",
    "1 file changed, 1 insertion(+)\n",
    "create mode 100644 diff_test.txt"
   ]
  },
  {
   "cell_type": "markdown",
   "id": "ce774f7f",
   "metadata": {},
   "source": [
    "For example, now we change all the contents of the file diff_test.txt."
   ]
  },
  {
   "cell_type": "code",
   "execution_count": null,
   "id": "73c2342c",
   "metadata": {},
   "outputs": [],
   "source": [
    "> echo \"this is a diff example\" > diff_test.txt"
   ]
  },
  {
   "cell_type": "markdown",
   "id": "120a3777",
   "metadata": {},
   "source": [
    "By executing git diff, we will compare the changes just committed (changing the contents of file diff_test.txt) with the previous commit, which will produce the following output:"
   ]
  },
  {
   "cell_type": "code",
   "execution_count": null,
   "id": "b4b7d59b",
   "metadata": {},
   "outputs": [],
   "source": [
    "> git diff\n",
    "diff --git a/diff_test.txt b/diff_test.txt\n",
    "index 6b0c6cf..b37e70a 100644\n",
    "--- a/diff_test.txt\n",
    "+++ b/diff_test.txt\n",
    "@@ -1 +1 @@\n",
    "-this is a git diff test example\n",
    "+this is a different example"
   ]
  },
  {
   "cell_type": "markdown",
   "id": "966c46f3",
   "metadata": {},
   "source": [
    "The following is an explanation of the output above:"
   ]
  },
  {
   "cell_type": "markdown",
   "id": "c78065e2",
   "metadata": {},
   "source": [
    "Comparison input"
   ]
  },
  {
   "cell_type": "code",
   "execution_count": null,
   "id": "3be831d1",
   "metadata": {},
   "outputs": [],
   "source": [
    "diff --git a/diff_test.txt b/diff_test.txt"
   ]
  },
  {
   "cell_type": "markdown",
   "id": "09dbcbb5",
   "metadata": {},
   "source": [
    "a/diff_test.txt is the file in the commit that we are comparing with the file in the working directory, which is written here as b/diff_test.txt."
   ]
  },
  {
   "cell_type": "markdown",
   "id": "e687d250",
   "metadata": {},
   "source": [
    "Markers for changes"
   ]
  },
  {
   "cell_type": "code",
   "execution_count": null,
   "id": "dcc27a98",
   "metadata": {},
   "outputs": [],
   "source": [
    "--- a/diff_test.txt\n",
    "+++ b/diff_test.txt"
   ]
  },
  {
   "cell_type": "markdown",
   "id": "63b4cf74",
   "metadata": {},
   "source": [
    "These lines are the symbols assigned to each input source. Changes from a/diff_test.txt are marked with the symbol --- and changes from b/diff_test.txt are marked with the symbol +++."
   ]
  },
  {
   "cell_type": "markdown",
   "id": "5fdabcea",
   "metadata": {},
   "source": [
    "Diff content"
   ]
  },
  {
   "cell_type": "code",
   "execution_count": null,
   "id": "77f9aca1",
   "metadata": {},
   "outputs": [],
   "source": [
    "-this is a git diff test example\n",
    "+this is a different example"
   ]
  },
  {
   "cell_type": "markdown",
   "id": "4d7f6c65",
   "metadata": {},
   "source": [
    "- The-sign indicates that this line is deleted and does not exist in the file currently in theworking directory.\n",
    "- The+sign indicates that this line was added in the current file and is not present in the file wecommittedto the repository."
   ]
  },
  {
   "cell_type": "markdown",
   "id": "28821ada",
   "metadata": {},
   "source": [
    "If the - sign and the + sign are close together, this usually indicates that a replacement has occurred in that line. In the example above, the line this is a git diff test example is replaced with this is a diff example. And that’s what we do in this example."
   ]
  }
 ],
 "metadata": {},
 "nbformat": 4,
 "nbformat_minor": 5
}
