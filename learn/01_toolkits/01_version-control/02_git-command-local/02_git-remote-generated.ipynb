{
 "cells": [
  {
   "cell_type": "markdown",
   "id": "34dca766",
   "metadata": {},
   "source": [
    "source: [link](https://ai-bootcamp.ruangguru.com/learn/01_toolkits/01_version-control/02_git-command-local/02_git-remote.html)"
   ]
  },
  {
   "cell_type": "markdown",
   "id": "1c5303d5",
   "metadata": {},
   "source": [
    "# git remote add"
   ]
  },
  {
   "cell_type": "markdown",
   "id": "8d10489a",
   "metadata": {},
   "source": [
    "# Remote"
   ]
  },
  {
   "cell_type": "markdown",
   "id": "c30be597",
   "metadata": {},
   "source": []
  },
  {
   "cell_type": "markdown",
   "id": "1e6f1d8e",
   "metadata": {},
   "source": [
    "![Image](https://storage.googleapis.com/rg-ai-bootcamp/toolkits/git-remote-theme-min.png)"
   ]
  },
  {
   "cell_type": "markdown",
   "id": "d829b9ce",
   "metadata": {},
   "source": [
    "Remote Repo (Source: amazonaws.com)"
   ]
  },
  {
   "cell_type": "markdown",
   "id": "0672af70",
   "metadata": {},
   "source": [
    "Software development activities usually involve many people or a team of programmers and of course, we will not keep the project repository separately. All teams involved in the development process will store the repository on their respective local computers but it will later be merged into the repository on the remote server."
   ]
  },
  {
   "cell_type": "markdown",
   "id": "667e04d6",
   "metadata": {},
   "source": [
    "The question is, where to store the remote repository?"
   ]
  },
  {
   "cell_type": "markdown",
   "id": "b85bedb4",
   "metadata": {},
   "source": [
    "The answer is, that it can be on an office server or you can also use services such as Github, Gitlab, Bitbucket, etc. However, Github is the most popular service for storing repositories remotely. Many open-source projects are stored there."
   ]
  },
  {
   "cell_type": "markdown",
   "id": "4d572bdf",
   "metadata": {},
   "source": []
  },
  {
   "cell_type": "markdown",
   "id": "7ba03b1b",
   "metadata": {},
   "source": [
    "![Image](https://storage.googleapis.com/rg-ai-bootcamp/toolkits/github-distributed-min.png)"
   ]
  },
  {
   "cell_type": "markdown",
   "id": "6cfbdc1f",
   "metadata": {},
   "source": [
    "Github Distributed (Source: sfdctechie.files.wordpress.com)"
   ]
  },
  {
   "cell_type": "markdown",
   "id": "b030f9c5",
   "metadata": {},
   "source": [
    "# About remote repositories"
   ]
  },
  {
   "cell_type": "markdown",
   "id": "b375011f",
   "metadata": {},
   "source": [
    "Remote URL is Git’s way of saying “the place where our source code is stored”. Remote URL is another repository that is different from our local repository, namely the repository on the server. There are two types of remote URLs that we can add to the Git configuration:"
   ]
  },
  {
   "cell_type": "markdown",
   "id": "5eaaad64",
   "metadata": {},
   "source": [
    "Git associates the remote URL with a name and defaults to origin. It is stored in file config in folder .git in root directory. inside the file it will look like this:"
   ]
  },
  {
   "cell_type": "code",
   "execution_count": null,
   "id": "cc08d8d7",
   "metadata": {},
   "outputs": [],
   "source": [
    "[remote \"origin\"]\n",
    "url = https://github.com/user/repo.git\n",
    "fetch = +refs/heads/*:refs/remotes/origin/*"
   ]
  },
  {
   "cell_type": "markdown",
   "id": "40bdfbe0",
   "metadata": {},
   "source": [
    "# Add remote repositories to local git"
   ]
  },
  {
   "cell_type": "markdown",
   "id": "5439c9e4",
   "metadata": {},
   "source": [
    "We can use the git remote add command to associate the name with the remote URL, for example:"
   ]
  },
  {
   "cell_type": "code",
   "execution_count": null,
   "id": "85b27f2d",
   "metadata": {},
   "outputs": [],
   "source": [
    "git remote add origin <REMOTE_URL>"
   ]
  },
  {
   "cell_type": "markdown",
   "id": "90c7b85c",
   "metadata": {},
   "source": [
    "This means origin will be linked to REMOTE_URL. We can use the git remote set-url command to change the remote URL."
   ]
  },
  {
   "cell_type": "markdown",
   "id": "7ab7435f",
   "metadata": {},
   "source": [
    "# Managing list of remote repositories in the local git"
   ]
  },
  {
   "cell_type": "markdown",
   "id": "f1098d0d",
   "metadata": {},
   "source": [
    "# Adding a remote repository"
   ]
  },
  {
   "cell_type": "markdown",
   "id": "2536d7a6",
   "metadata": {},
   "source": [
    "To add a new remote, use the git remote add command in the terminal in the Git repository. The git remote add command requires two arguments, namely:"
   ]
  },
  {
   "cell_type": "markdown",
   "id": "8817e5e4",
   "metadata": {},
   "source": [
    "Example:"
   ]
  },
  {
   "cell_type": "code",
   "execution_count": null,
   "id": "c333ff70",
   "metadata": {},
   "outputs": [],
   "source": [
    "[user@localhost]$ git remote add origin https://github.com/user/repo.git\n",
    "# Set a new remote\n",
    "\n",
    "[user@localhost]$ git remote -v\n",
    "# Verify new remote\n",
    "> origin https://github.com/user/repo.git (fetch)\n",
    "> origin https://github.com/user/repo.git (push)"
   ]
  },
  {
   "cell_type": "markdown",
   "id": "7a3dab2b",
   "metadata": {},
   "source": [
    "# Changing a remote repository’s URL"
   ]
  },
  {
   "cell_type": "markdown",
   "id": "09011ed9",
   "metadata": {},
   "source": [
    "The git remote set-url command will change the existing remote repository URL."
   ]
  },
  {
   "cell_type": "markdown",
   "id": "19482d8c",
   "metadata": {},
   "source": [
    "Tip: For information about the differences between HTTPS and SSH URLs, see “About remote repositories.”"
   ]
  },
  {
   "cell_type": "markdown",
   "id": "1a407131",
   "metadata": {},
   "source": [
    "Name of existing remote. For example, origin or upstream are two common choices."
   ]
  },
  {
   "cell_type": "markdown",
   "id": "52ffadbd",
   "metadata": {},
   "source": [
    "New URL for remote, example:"
   ]
  },
  {
   "cell_type": "markdown",
   "id": "c5906c78",
   "metadata": {},
   "source": [
    "If we change remote to HTTPS then the URL will look like this:"
   ]
  },
  {
   "cell_type": "code",
   "execution_count": null,
   "id": "813979c8",
   "metadata": {},
   "outputs": [],
   "source": [
    "https://github.com/USERNAME/REPOSITORY.git"
   ]
  },
  {
   "cell_type": "markdown",
   "id": "766d562d",
   "metadata": {},
   "source": [
    "If we change remote to SSH then the URL will look like this:"
   ]
  },
  {
   "cell_type": "code",
   "execution_count": null,
   "id": "09bdc893",
   "metadata": {},
   "outputs": [],
   "source": [
    "[email protected]:USERNAME/REPOSITORY.git"
   ]
  },
  {
   "cell_type": "markdown",
   "id": "c374315a",
   "metadata": {},
   "source": [
    "# Removing a remote repository"
   ]
  },
  {
   "cell_type": "markdown",
   "id": "20d8d04d",
   "metadata": {},
   "source": [
    "Use the git remote rm command to remove the remote URL from the repository. The git remote rm command takes one argument namely remote name, for example, destination"
   ]
  },
  {
   "cell_type": "markdown",
   "id": "3e77912c",
   "metadata": {},
   "source": [
    "Note: Deleting the remote URL from the repository will break the connection between the local repository and the remote. It won’t delete the remote repository."
   ]
  },
  {
   "cell_type": "markdown",
   "id": "0e6703c8",
   "metadata": {},
   "source": [
    "Example:"
   ]
  },
  {
   "cell_type": "code",
   "execution_count": null,
   "id": "a4fd9ffc",
   "metadata": {},
   "outputs": [],
   "source": [
    "[user@localhost]$ git remote -v\n",
    "# View current remotes\n",
    "> origin https://github.com/OWNER/REPOSITORY.git (fetch)\n",
    "> origin https://github.com/OWNER/REPOSITORY.git (push)\n",
    "> destination https://github.com/FORKER/REPOSITORY.git (fetch)\n",
    "> destination https://github.com/FORKER/REPOSITORY.git (push)\n",
    "\n",
    "[user@localhost]$ git remote rm destination\n",
    "# Remove remote\n",
    "[user@localhost]$ git remote -v\n",
    "# Verify it's gone\n",
    "> origin https://github.com/OWNER/REPOSITORY.git (fetch)\n",
    "> origin https://github.com/OWNER/REPOSITORY.git (push)"
   ]
  },
  {
   "cell_type": "markdown",
   "id": "4c731d6b",
   "metadata": {},
   "source": [
    "# Example Multiple Remotes"
   ]
  },
  {
   "cell_type": "markdown",
   "id": "dfb726ee",
   "metadata": {},
   "source": [
    "# Adding multiple remotes"
   ]
  },
  {
   "cell_type": "markdown",
   "id": "85a22b40",
   "metadata": {},
   "source": [
    "We can add more than one remote repository to our project. Do you still remember the git remote add origin command above? The original syntax for git remote add is like this (the text after the # is a comment):"
   ]
  },
  {
   "cell_type": "code",
   "execution_count": null,
   "id": "f2d2914e",
   "metadata": {},
   "outputs": [],
   "source": [
    "# Syntax to add a git remote\n",
    "[user@localhost]$ git remote add REMOTE-NAME REMOTE-URL"
   ]
  },
  {
   "cell_type": "markdown",
   "id": "baf77633",
   "metadata": {},
   "source": [
    "For example, we will add several remotes to our repository with origin as the main remote:"
   ]
  },
  {
   "cell_type": "code",
   "execution_count": null,
   "id": "953197e8",
   "metadata": {},
   "outputs": [],
   "source": [
    "# Add remote 1: GitHub.\n",
    "[user@localhost]$ git remote add origin [email protected]:jigarius/toggl2redmine.git\n",
    "# Add remote 2: BitBucket.\n",
    "[user@localhost]$ git remote add upstream [email protected]:jigarius/toggl2redmine.git\n",
    "# Add remote 3: Gitlab.\n",
    "[user@localhost]$ git remote add aditira [email protected]:jigarius/toggl2redmine.git"
   ]
  },
  {
   "cell_type": "markdown",
   "id": "85a581e5",
   "metadata": {},
   "source": [
    "In the example above, we added a remote repository of a project called Toggl 2 Redmine on GitHub. We can use the command above to add one or more remote repositories, but make sure each repository has a different name, namely origin, upstream and aditira in the example above."
   ]
  },
  {
   "cell_type": "markdown",
   "id": "519111c8",
   "metadata": {},
   "source": [
    "Configure primary remote"
   ]
  },
  {
   "cell_type": "markdown",
   "id": "727ccb44",
   "metadata": {},
   "source": [
    "Although we can add multiple remotes, typically, each branch of a project can be configured to track one remote. We can set branch to track remote with the following example:"
   ]
  },
  {
   "cell_type": "code",
   "execution_count": null,
   "id": "1855cc5a",
   "metadata": {},
   "outputs": [],
   "source": [
    "# Change local branch.\n",
    "[user@localhost]$ git checkout BRANCH\n",
    "\n",
    "# Configure local branch to track a remote branch.\n",
    "[user@localhost]$ git branch -u origin/BRANCH"
   ]
  },
  {
   "cell_type": "markdown",
   "id": "b24f918e",
   "metadata": {},
   "source": [
    "Here, BRANCH is the name of the remote branch, which is usually the same as our local branch."
   ]
  },
  {
   "cell_type": "markdown",
   "id": "f8b3a8e2",
   "metadata": {},
   "source": [
    "Change remote URL"
   ]
  },
  {
   "cell_type": "markdown",
   "id": "7dd7580a",
   "metadata": {},
   "source": [
    "If we want to change the URL that is connected to the added remote, just as explained above, we use the git remote set-url command, where the original syntax is:"
   ]
  },
  {
   "cell_type": "code",
   "execution_count": null,
   "id": "3fb6677e",
   "metadata": {},
   "outputs": [],
   "source": [
    "# The syntax is: git remote set-url REMOTE-NAME REMOTE-URL\n",
    "[user@localhost]$ git remote set-url upstream [email protected]:jigarius/toggl2redmine.git"
   ]
  },
  {
   "cell_type": "markdown",
   "id": "c422ce3c",
   "metadata": {},
   "source": [
    "# List all remotes"
   ]
  },
  {
   "cell_type": "markdown",
   "id": "8d7a8298",
   "metadata": {},
   "source": [
    "To see all remotes, just use the following command:"
   ]
  },
  {
   "cell_type": "code",
   "execution_count": null,
   "id": "3b89d59b",
   "metadata": {},
   "outputs": [],
   "source": [
    "[user@localhost]$ git remote -v\n",
    "origin [email protected]:jigarius/toggl2redmine.git (fetch)\n",
    "origin [email protected]:jigarius/toggl2redmine.git (push)\n",
    "upstream [email protected]:jigarius/toggl2redmine.git (fetch)\n",
    "upstream [email protected]:jigarius/toggl2redmine.git (push)\n",
    "aditira [email protected]:jigarius/toggl2redmine.git (push)\n",
    "aditira [email protected]:jigarius/toggl2redmine.git (push)"
   ]
  },
  {
   "cell_type": "markdown",
   "id": "38570358",
   "metadata": {},
   "source": [
    "# Remove a remote"
   ]
  },
  {
   "cell_type": "markdown",
   "id": "7952b495",
   "metadata": {},
   "source": [
    "If there is a remote repository that is no longer needed in local Git, we can delete it with the command:"
   ]
  },
  {
   "cell_type": "code",
   "execution_count": null,
   "id": "27f74c65",
   "metadata": {},
   "outputs": [],
   "source": [
    "# The syntax is: git remote remove REMOTE-NAME\n",
    "[user@localhost]$ git remote remove upstream"
   ]
  }
 ],
 "metadata": {},
 "nbformat": 4,
 "nbformat_minor": 5
}
