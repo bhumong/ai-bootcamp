{
 "cells": [
  {
   "cell_type": "markdown",
   "id": "3bbd8809",
   "metadata": {},
   "source": [
    "source: [link](https://ai-bootcamp.ruangguru.com/learn/01_toolkits/01_version-control/02_git-command-local/02_git-remote.html)"
   ]
  },
  {
   "cell_type": "markdown",
   "id": "e1c94318",
   "metadata": {},
   "source": [
    "# git remote add"
   ]
  },
  {
   "cell_type": "markdown",
   "id": "2aaba0f8",
   "metadata": {},
   "source": [
    "# Remote"
   ]
  },
  {
   "cell_type": "markdown",
   "id": "5237a7d0",
   "metadata": {},
   "source": []
  },
  {
   "cell_type": "markdown",
   "id": "f9ef20ef",
   "metadata": {},
   "source": [
    "![Image](https://storage.googleapis.com/rg-ai-bootcamp/toolkits/git-remote-theme-min.png)"
   ]
  },
  {
   "cell_type": "markdown",
   "id": "d407fcfe",
   "metadata": {},
   "source": [
    "Remote Repo (Source: amazonaws.com)"
   ]
  },
  {
   "cell_type": "markdown",
   "id": "200468e5",
   "metadata": {},
   "source": [
    "Software development activities usually involve many people or a team of programmers and of course, we will not keep the project repository separately. All teams involved in the development process will store the repository on their respective local computers but it will later be merged into the repository on the remote server."
   ]
  },
  {
   "cell_type": "markdown",
   "id": "6e8304cc",
   "metadata": {},
   "source": [
    "The question is, where to store the remote repository?"
   ]
  },
  {
   "cell_type": "markdown",
   "id": "34cc9084",
   "metadata": {},
   "source": [
    "The answer is, that it can be on an office server or you can also use services such as Github, Gitlab, Bitbucket, etc. However, Github is the most popular service for storing repositories remotely. Many open-source projects are stored there."
   ]
  },
  {
   "cell_type": "markdown",
   "id": "33b7f30a",
   "metadata": {},
   "source": []
  },
  {
   "cell_type": "markdown",
   "id": "39eb16cd",
   "metadata": {},
   "source": [
    "![Image](https://storage.googleapis.com/rg-ai-bootcamp/toolkits/github-distributed-min.png)"
   ]
  },
  {
   "cell_type": "markdown",
   "id": "e0a9167d",
   "metadata": {},
   "source": [
    "Github Distributed (Source: sfdctechie.files.wordpress.com)"
   ]
  },
  {
   "cell_type": "markdown",
   "id": "8b310f9c",
   "metadata": {},
   "source": [
    "# About remote repositories"
   ]
  },
  {
   "cell_type": "markdown",
   "id": "cb4b1dd2",
   "metadata": {},
   "source": [
    "Remote URL is Git’s way of saying “the place where our source code is stored”. Remote URL is another repository that is different from our local repository, namely the repository on the server. There are two types of remote URLs that we can add to the Git configuration:"
   ]
  },
  {
   "cell_type": "markdown",
   "id": "4a0d1e82",
   "metadata": {},
   "source": [
    "- HTTPS URLsuch ashttps://github.com/user/repo.git\n",
    "- SSH URL, such as[email protected]:user/repo.git"
   ]
  },
  {
   "cell_type": "markdown",
   "id": "ced3193a",
   "metadata": {},
   "source": [
    "Git associates the remote URL with a name and defaults to origin. It is stored in file config in folder .git in root directory. inside the file it will look like this:"
   ]
  },
  {
   "cell_type": "code",
   "execution_count": null,
   "id": "a713d082",
   "metadata": {},
   "outputs": [],
   "source": [
    "[remote \"origin\"]\n",
    "url = https://github.com/user/repo.git\n",
    "fetch = +refs/heads/*:refs/remotes/origin/*"
   ]
  },
  {
   "cell_type": "markdown",
   "id": "ad5b13cb",
   "metadata": {},
   "source": [
    "# Add remote repositories to local git"
   ]
  },
  {
   "cell_type": "markdown",
   "id": "f17507d5",
   "metadata": {},
   "source": [
    "We can use the git remote add command to associate the name with the remote URL, for example:"
   ]
  },
  {
   "cell_type": "code",
   "execution_count": null,
   "id": "8e69e4dc",
   "metadata": {},
   "outputs": [],
   "source": [
    "git remote add origin <REMOTE_URL>"
   ]
  },
  {
   "cell_type": "markdown",
   "id": "c22ee95b",
   "metadata": {},
   "source": [
    "This means origin will be linked to REMOTE_URL. We can use the git remote set-url command to change the remote URL."
   ]
  },
  {
   "cell_type": "markdown",
   "id": "6ae34fa3",
   "metadata": {},
   "source": [
    "# Managing list of remote repositories in the local git"
   ]
  },
  {
   "cell_type": "markdown",
   "id": "f1890aff",
   "metadata": {},
   "source": [
    "# Adding a remote repository"
   ]
  },
  {
   "cell_type": "markdown",
   "id": "dd7fc4bd",
   "metadata": {},
   "source": [
    "To add a new remote, use the git remote add command in the terminal in the Git repository. The git remote add command requires two arguments, namely:"
   ]
  },
  {
   "cell_type": "markdown",
   "id": "9f994895",
   "metadata": {},
   "source": [
    "- Remote Name, for example,origin\n",
    "- Remote URL, for example,https://github.com/user/repo.git"
   ]
  },
  {
   "cell_type": "markdown",
   "id": "1480d990",
   "metadata": {},
   "source": [
    "Example:"
   ]
  },
  {
   "cell_type": "code",
   "execution_count": null,
   "id": "5235410e",
   "metadata": {},
   "outputs": [],
   "source": [
    "[user@localhost]$ git remote add origin https://github.com/user/repo.git\n",
    "# Set a new remote\n",
    "\n",
    "[user@localhost]$ git remote -v\n",
    "# Verify new remote\n",
    "> origin https://github.com/user/repo.git (fetch)\n",
    "> origin https://github.com/user/repo.git (push)"
   ]
  },
  {
   "cell_type": "markdown",
   "id": "7279ac07",
   "metadata": {},
   "source": [
    "# Changing a remote repository’s URL"
   ]
  },
  {
   "cell_type": "markdown",
   "id": "201dc3c2",
   "metadata": {},
   "source": [
    "The git remote set-url command will change the existing remote repository URL."
   ]
  },
  {
   "cell_type": "markdown",
   "id": "705371f8",
   "metadata": {},
   "source": [
    "Tip: For information about the differences between HTTPS and SSH URLs, see “About remote repositories.”"
   ]
  },
  {
   "cell_type": "markdown",
   "id": "0e3c6a40",
   "metadata": {},
   "source": [
    "- Name of existingremote. For example,originorupstreamare two common choices.\n",
    "- New URL forremote, example:If we changeremoteto HTTPS then the URL will look like this:https://github.com/USERNAME/REPOSITORY.gitIf we changeremoteto SSH then the URL will look like this:[email protected]:USERNAME/REPOSITORY.git\n",
    "- If we changeremoteto HTTPS then the URL will look like this:https://github.com/USERNAME/REPOSITORY.git\n",
    "- If we changeremoteto SSH then the URL will look like this:[email protected]:USERNAME/REPOSITORY.git"
   ]
  },
  {
   "cell_type": "markdown",
   "id": "fe0d4ec0",
   "metadata": {},
   "source": [
    "Name of existing remote. For example, origin or upstream are two common choices."
   ]
  },
  {
   "cell_type": "markdown",
   "id": "6fb1f99e",
   "metadata": {},
   "source": [
    "New URL for remote, example:"
   ]
  },
  {
   "cell_type": "markdown",
   "id": "44f31cf0",
   "metadata": {},
   "source": [
    "- If we changeremoteto HTTPS then the URL will look like this:https://github.com/USERNAME/REPOSITORY.git\n",
    "- If we changeremoteto SSH then the URL will look like this:[email protected]:USERNAME/REPOSITORY.git"
   ]
  },
  {
   "cell_type": "markdown",
   "id": "6827d268",
   "metadata": {},
   "source": [
    "If we change remote to HTTPS then the URL will look like this:"
   ]
  },
  {
   "cell_type": "code",
   "execution_count": null,
   "id": "76da94a3",
   "metadata": {},
   "outputs": [],
   "source": [
    "https://github.com/USERNAME/REPOSITORY.git"
   ]
  },
  {
   "cell_type": "markdown",
   "id": "fc8565c4",
   "metadata": {},
   "source": [
    "If we change remote to SSH then the URL will look like this:"
   ]
  },
  {
   "cell_type": "code",
   "execution_count": null,
   "id": "67814061",
   "metadata": {},
   "outputs": [],
   "source": [
    "[email protected]:USERNAME/REPOSITORY.git"
   ]
  },
  {
   "cell_type": "markdown",
   "id": "589cbd22",
   "metadata": {},
   "source": [
    "# Removing a remote repository"
   ]
  },
  {
   "cell_type": "markdown",
   "id": "485a303c",
   "metadata": {},
   "source": [
    "Use the git remote rm command to remove the remote URL from the repository. The git remote rm command takes one argument namely remote name, for example, destination"
   ]
  },
  {
   "cell_type": "markdown",
   "id": "2e2346ed",
   "metadata": {},
   "source": [
    "Note: Deleting the remote URL from the repository will break the connection between the local repository and the remote. It won’t delete the remote repository."
   ]
  },
  {
   "cell_type": "markdown",
   "id": "c2c3023e",
   "metadata": {},
   "source": [
    "Example:"
   ]
  },
  {
   "cell_type": "code",
   "execution_count": null,
   "id": "be954338",
   "metadata": {},
   "outputs": [],
   "source": [
    "[user@localhost]$ git remote -v\n",
    "# View current remotes\n",
    "> origin https://github.com/OWNER/REPOSITORY.git (fetch)\n",
    "> origin https://github.com/OWNER/REPOSITORY.git (push)\n",
    "> destination https://github.com/FORKER/REPOSITORY.git (fetch)\n",
    "> destination https://github.com/FORKER/REPOSITORY.git (push)\n",
    "\n",
    "[user@localhost]$ git remote rm destination\n",
    "# Remove remote\n",
    "[user@localhost]$ git remote -v\n",
    "# Verify it's gone\n",
    "> origin https://github.com/OWNER/REPOSITORY.git (fetch)\n",
    "> origin https://github.com/OWNER/REPOSITORY.git (push)"
   ]
  },
  {
   "cell_type": "markdown",
   "id": "6d78b096",
   "metadata": {},
   "source": [
    "# Example Multiple Remotes"
   ]
  },
  {
   "cell_type": "markdown",
   "id": "9397c0d1",
   "metadata": {},
   "source": [
    "# Adding multiple remotes"
   ]
  },
  {
   "cell_type": "markdown",
   "id": "361f4d2d",
   "metadata": {},
   "source": [
    "We can add more than one remote repository to our project. Do you still remember the git remote add origin command above? The original syntax for git remote add is like this (the text after the # is a comment):"
   ]
  },
  {
   "cell_type": "code",
   "execution_count": null,
   "id": "17841584",
   "metadata": {},
   "outputs": [],
   "source": [
    "# Syntax to add a git remote\n",
    "[user@localhost]$ git remote add REMOTE-NAME REMOTE-URL"
   ]
  },
  {
   "cell_type": "markdown",
   "id": "04519e9e",
   "metadata": {},
   "source": [
    "For example, we will add several remotes to our repository with origin as the main remote:"
   ]
  },
  {
   "cell_type": "code",
   "execution_count": null,
   "id": "127abce1",
   "metadata": {},
   "outputs": [],
   "source": [
    "# Add remote 1: GitHub.\n",
    "[user@localhost]$ git remote add origin [email protected]:jigarius/toggl2redmine.git\n",
    "# Add remote 2: BitBucket.\n",
    "[user@localhost]$ git remote add upstream [email protected]:jigarius/toggl2redmine.git\n",
    "# Add remote 3: Gitlab.\n",
    "[user@localhost]$ git remote add aditira [email protected]:jigarius/toggl2redmine.git"
   ]
  },
  {
   "cell_type": "markdown",
   "id": "159f3ce5",
   "metadata": {},
   "source": [
    "In the example above, we added a remote repository of a project called Toggl 2 Redmine on GitHub. We can use the command above to add one or more remote repositories, but make sure each repository has a different name, namely origin, upstream and aditira in the example above."
   ]
  },
  {
   "cell_type": "markdown",
   "id": "60aebe0c",
   "metadata": {},
   "source": [
    "- Configure primary remoteAlthough we can add multiple remotes, typically, each branch of a project can be configured to track one remote. We can setbranchto trackremotewith the following example:# Change local branch.\n",
    "[user@localhost]$ git checkout BRANCH\n",
    "\n",
    "# Configure local branch to track a remote branch.\n",
    "[user@localhost]$ git branch -u origin/BRANCHHere, BRANCH is the name of theremote branch, which is usually the same as our local branch.\n",
    "- Change remote URLIf we want to change the URL that is connected to the addedremote, just as explained above, we use thegit remote set-urlcommand, where the originalsyntaxis:# The syntax is: git remote set-url REMOTE-NAME REMOTE-URL\n",
    "[user@localhost]$ git remote set-url upstream[email protected]:jigarius/toggl2redmine.git"
   ]
  },
  {
   "cell_type": "markdown",
   "id": "44627561",
   "metadata": {},
   "source": [
    "Configure primary remote"
   ]
  },
  {
   "cell_type": "markdown",
   "id": "b34eb41b",
   "metadata": {},
   "source": [
    "Although we can add multiple remotes, typically, each branch of a project can be configured to track one remote. We can set branch to track remote with the following example:"
   ]
  },
  {
   "cell_type": "code",
   "execution_count": null,
   "id": "261a23e9",
   "metadata": {},
   "outputs": [],
   "source": [
    "# Change local branch.\n",
    "[user@localhost]$ git checkout BRANCH\n",
    "\n",
    "# Configure local branch to track a remote branch.\n",
    "[user@localhost]$ git branch -u origin/BRANCH"
   ]
  },
  {
   "cell_type": "markdown",
   "id": "a735b34f",
   "metadata": {},
   "source": [
    "Here, BRANCH is the name of the remote branch, which is usually the same as our local branch."
   ]
  },
  {
   "cell_type": "markdown",
   "id": "6015f4b4",
   "metadata": {},
   "source": [
    "Change remote URL"
   ]
  },
  {
   "cell_type": "markdown",
   "id": "16b2df07",
   "metadata": {},
   "source": [
    "If we want to change the URL that is connected to the added remote, just as explained above, we use the git remote set-url command, where the original syntax is:"
   ]
  },
  {
   "cell_type": "code",
   "execution_count": null,
   "id": "ea0a6db3",
   "metadata": {},
   "outputs": [],
   "source": [
    "# The syntax is: git remote set-url REMOTE-NAME REMOTE-URL\n",
    "[user@localhost]$ git remote set-url upstream [email protected]:jigarius/toggl2redmine.git"
   ]
  },
  {
   "cell_type": "markdown",
   "id": "55e44732",
   "metadata": {},
   "source": [
    "# List all remotes"
   ]
  },
  {
   "cell_type": "markdown",
   "id": "35090568",
   "metadata": {},
   "source": [
    "To see all remotes, just use the following command:"
   ]
  },
  {
   "cell_type": "code",
   "execution_count": null,
   "id": "e97bafcc",
   "metadata": {},
   "outputs": [],
   "source": [
    "[user@localhost]$ git remote -v\n",
    "origin [email protected]:jigarius/toggl2redmine.git (fetch)\n",
    "origin [email protected]:jigarius/toggl2redmine.git (push)\n",
    "upstream [email protected]:jigarius/toggl2redmine.git (fetch)\n",
    "upstream [email protected]:jigarius/toggl2redmine.git (push)\n",
    "aditira [email protected]:jigarius/toggl2redmine.git (push)\n",
    "aditira [email protected]:jigarius/toggl2redmine.git (push)"
   ]
  },
  {
   "cell_type": "markdown",
   "id": "fcbe4c1b",
   "metadata": {},
   "source": [
    "# Remove a remote"
   ]
  },
  {
   "cell_type": "markdown",
   "id": "3bbc2bcc",
   "metadata": {},
   "source": [
    "If there is a remote repository that is no longer needed in local Git, we can delete it with the command:"
   ]
  },
  {
   "cell_type": "code",
   "execution_count": null,
   "id": "1aa4e612",
   "metadata": {},
   "outputs": [],
   "source": [
    "# The syntax is: git remote remove REMOTE-NAME\n",
    "[user@localhost]$ git remote remove upstream"
   ]
  }
 ],
 "metadata": {},
 "nbformat": 4,
 "nbformat_minor": 5
}
