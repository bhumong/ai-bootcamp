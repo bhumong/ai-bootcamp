{
 "cells": [
  {
   "cell_type": "markdown",
   "id": "29fe43e7",
   "metadata": {},
   "source": [
    "# git remote add"
   ]
  },
  {
   "cell_type": "markdown",
   "id": "87954c29",
   "metadata": {},
   "source": [
    "# Remote"
   ]
  },
  {
   "cell_type": "markdown",
   "id": "790e6435",
   "metadata": {},
   "source": []
  },
  {
   "cell_type": "markdown",
   "id": "ad934e22",
   "metadata": {},
   "source": [
    "Remote Repo (Source: amazonaws.com)"
   ]
  },
  {
   "cell_type": "markdown",
   "id": "724ea98c",
   "metadata": {},
   "source": [
    "Software development activities usually involve many people or a team of programmers and of course, we will not keep the project repository separately. All teams involved in the development process will store the repository on their respective local computers but it will later be merged into the repository on the remote server."
   ]
  },
  {
   "cell_type": "markdown",
   "id": "247f5745",
   "metadata": {},
   "source": [
    "The question is, where to store the remote repository?"
   ]
  },
  {
   "cell_type": "markdown",
   "id": "1ad314b0",
   "metadata": {},
   "source": [
    "The answer is, that it can be on an office server or you can also use services such as Github, Gitlab, Bitbucket, etc. However, Github is the most popular service for storing repositories remotely. Many open-source projects are stored there."
   ]
  },
  {
   "cell_type": "markdown",
   "id": "58edd8e6",
   "metadata": {},
   "source": []
  },
  {
   "cell_type": "markdown",
   "id": "bd9b69c5",
   "metadata": {},
   "source": [
    "Github Distributed (Source: sfdctechie.files.wordpress.com)"
   ]
  },
  {
   "cell_type": "markdown",
   "id": "0a2fa8ef",
   "metadata": {},
   "source": [
    "# About remote repositories"
   ]
  },
  {
   "cell_type": "markdown",
   "id": "d1a20b39",
   "metadata": {},
   "source": [
    "Remote URL is Git’s way of saying “the place where our source code is stored”. Remote URL is another repository that is different from our local repository, namely the repository on the server. There are two types of remote URLs that we can add to the Git configuration:"
   ]
  },
  {
   "cell_type": "markdown",
   "id": "15727fb6",
   "metadata": {},
   "source": [
    "Git associates the remote URL with a name and defaults to origin. It is stored in file config in folder .git in root directory. inside the file it will look like this:"
   ]
  },
  {
   "cell_type": "code",
   "execution_count": null,
   "id": "171327ba",
   "metadata": {},
   "outputs": [],
   "source": [
    "[remote \"origin\"]\n",
    "url = https://github.com/user/repo.git\n",
    "fetch = +refs/heads/*:refs/remotes/origin/*"
   ]
  },
  {
   "cell_type": "markdown",
   "id": "980864a7",
   "metadata": {},
   "source": [
    "# Add remote repositories to local git"
   ]
  },
  {
   "cell_type": "markdown",
   "id": "1b4d344d",
   "metadata": {},
   "source": [
    "We can use the git remote add command to associate the name with the remote URL, for example:"
   ]
  },
  {
   "cell_type": "code",
   "execution_count": null,
   "id": "9b9568ed",
   "metadata": {},
   "outputs": [],
   "source": [
    "git remote add origin <REMOTE_URL>"
   ]
  },
  {
   "cell_type": "markdown",
   "id": "7ac710a7",
   "metadata": {},
   "source": [
    "This means origin will be linked to REMOTE_URL. We can use the git remote set-url command to change the remote URL."
   ]
  },
  {
   "cell_type": "markdown",
   "id": "cfa33902",
   "metadata": {},
   "source": [
    "# Managing list of remote repositories in the local git"
   ]
  },
  {
   "cell_type": "markdown",
   "id": "a262a700",
   "metadata": {},
   "source": [
    "# Adding a remote repository"
   ]
  },
  {
   "cell_type": "markdown",
   "id": "e8707909",
   "metadata": {},
   "source": [
    "To add a new remote, use the git remote add command in the terminal in the Git repository. The git remote add command requires two arguments, namely:"
   ]
  },
  {
   "cell_type": "markdown",
   "id": "9047bb7e",
   "metadata": {},
   "source": [
    "Example:"
   ]
  },
  {
   "cell_type": "code",
   "execution_count": null,
   "id": "08171177",
   "metadata": {},
   "outputs": [],
   "source": [
    "[user@localhost]$ git remote add origin https://github.com/user/repo.git\n",
    "# Set a new remote\n",
    "\n",
    "[user@localhost]$ git remote -v\n",
    "# Verify new remote\n",
    "> origin https://github.com/user/repo.git (fetch)\n",
    "> origin https://github.com/user/repo.git (push)"
   ]
  },
  {
   "cell_type": "markdown",
   "id": "42dffa78",
   "metadata": {},
   "source": [
    "# Changing a remote repository’s URL"
   ]
  },
  {
   "cell_type": "markdown",
   "id": "218e8834",
   "metadata": {},
   "source": [
    "The git remote set-url command will change the existing remote repository URL."
   ]
  },
  {
   "cell_type": "markdown",
   "id": "8450fd98",
   "metadata": {},
   "source": [
    "Tip: For information about the differences between HTTPS and SSH URLs, see “About remote repositories.”"
   ]
  },
  {
   "cell_type": "markdown",
   "id": "657e0b8d",
   "metadata": {},
   "source": [
    "Name of existing remote. For example, origin or upstream are two common choices."
   ]
  },
  {
   "cell_type": "markdown",
   "id": "cc749759",
   "metadata": {},
   "source": [
    "New URL for remote, example:"
   ]
  },
  {
   "cell_type": "markdown",
   "id": "d950ab1d",
   "metadata": {},
   "source": [
    "If we change remote to HTTPS then the URL will look like this:"
   ]
  },
  {
   "cell_type": "code",
   "execution_count": null,
   "id": "411df45c",
   "metadata": {},
   "outputs": [],
   "source": [
    "https://github.com/USERNAME/REPOSITORY.git"
   ]
  },
  {
   "cell_type": "markdown",
   "id": "65a8ff21",
   "metadata": {},
   "source": [
    "If we change remote to SSH then the URL will look like this:"
   ]
  },
  {
   "cell_type": "code",
   "execution_count": null,
   "id": "4eb6322c",
   "metadata": {},
   "outputs": [],
   "source": [
    "[email protected]:USERNAME/REPOSITORY.git"
   ]
  },
  {
   "cell_type": "markdown",
   "id": "839b07f2",
   "metadata": {},
   "source": [
    "# Removing a remote repository"
   ]
  },
  {
   "cell_type": "markdown",
   "id": "41cfe601",
   "metadata": {},
   "source": [
    "Use the git remote rm command to remove the remote URL from the repository. The git remote rm command takes one argument namely remote name, for example, destination"
   ]
  },
  {
   "cell_type": "markdown",
   "id": "fb93d170",
   "metadata": {},
   "source": [
    "Note: Deleting the remote URL from the repository will break the connection between the local repository and the remote. It won’t delete the remote repository."
   ]
  },
  {
   "cell_type": "markdown",
   "id": "1dc17d39",
   "metadata": {},
   "source": [
    "Example:"
   ]
  },
  {
   "cell_type": "code",
   "execution_count": null,
   "id": "2d2ee9fe",
   "metadata": {},
   "outputs": [],
   "source": [
    "[user@localhost]$ git remote -v\n",
    "# View current remotes\n",
    "> origin https://github.com/OWNER/REPOSITORY.git (fetch)\n",
    "> origin https://github.com/OWNER/REPOSITORY.git (push)\n",
    "> destination https://github.com/FORKER/REPOSITORY.git (fetch)\n",
    "> destination https://github.com/FORKER/REPOSITORY.git (push)\n",
    "\n",
    "[user@localhost]$ git remote rm destination\n",
    "# Remove remote\n",
    "[user@localhost]$ git remote -v\n",
    "# Verify it's gone\n",
    "> origin https://github.com/OWNER/REPOSITORY.git (fetch)\n",
    "> origin https://github.com/OWNER/REPOSITORY.git (push)"
   ]
  },
  {
   "cell_type": "markdown",
   "id": "f6411221",
   "metadata": {},
   "source": [
    "# Example Multiple Remotes"
   ]
  },
  {
   "cell_type": "markdown",
   "id": "c466d049",
   "metadata": {},
   "source": [
    "# Adding multiple remotes"
   ]
  },
  {
   "cell_type": "markdown",
   "id": "b1af00a2",
   "metadata": {},
   "source": [
    "We can add more than one remote repository to our project. Do you still remember the git remote add origin command above? The original syntax for git remote add is like this (the text after the # is a comment):"
   ]
  },
  {
   "cell_type": "code",
   "execution_count": null,
   "id": "b89151e2",
   "metadata": {},
   "outputs": [],
   "source": [
    "# Syntax to add a git remote\n",
    "[user@localhost]$ git remote add REMOTE-NAME REMOTE-URL"
   ]
  },
  {
   "cell_type": "markdown",
   "id": "0fbb5f69",
   "metadata": {},
   "source": [
    "For example, we will add several remotes to our repository with origin as the main remote:"
   ]
  },
  {
   "cell_type": "code",
   "execution_count": null,
   "id": "cb75ff5d",
   "metadata": {},
   "outputs": [],
   "source": [
    "# Add remote 1: GitHub.\n",
    "[user@localhost]$ git remote add origin [email protected]:jigarius/toggl2redmine.git\n",
    "# Add remote 2: BitBucket.\n",
    "[user@localhost]$ git remote add upstream [email protected]:jigarius/toggl2redmine.git\n",
    "# Add remote 3: Gitlab.\n",
    "[user@localhost]$ git remote add aditira [email protected]:jigarius/toggl2redmine.git"
   ]
  },
  {
   "cell_type": "markdown",
   "id": "e7b92807",
   "metadata": {},
   "source": [
    "In the example above, we added a remote repository of a project called Toggl 2 Redmine on GitHub. We can use the command above to add one or more remote repositories, but make sure each repository has a different name, namely origin, upstream and aditira in the example above."
   ]
  },
  {
   "cell_type": "markdown",
   "id": "2f0602c7",
   "metadata": {},
   "source": [
    "Configure primary remote"
   ]
  },
  {
   "cell_type": "markdown",
   "id": "ae869e12",
   "metadata": {},
   "source": [
    "Although we can add multiple remotes, typically, each branch of a project can be configured to track one remote. We can set branch to track remote with the following example:"
   ]
  },
  {
   "cell_type": "code",
   "execution_count": null,
   "id": "2435c286",
   "metadata": {},
   "outputs": [],
   "source": [
    "# Change local branch.\n",
    "[user@localhost]$ git checkout BRANCH\n",
    "\n",
    "# Configure local branch to track a remote branch.\n",
    "[user@localhost]$ git branch -u origin/BRANCH"
   ]
  },
  {
   "cell_type": "markdown",
   "id": "e007aeb1",
   "metadata": {},
   "source": [
    "Here, BRANCH is the name of the remote branch, which is usually the same as our local branch."
   ]
  },
  {
   "cell_type": "markdown",
   "id": "77bcc5e9",
   "metadata": {},
   "source": [
    "Change remote URL"
   ]
  },
  {
   "cell_type": "markdown",
   "id": "6d343001",
   "metadata": {},
   "source": [
    "If we want to change the URL that is connected to the added remote, just as explained above, we use the git remote set-url command, where the original syntax is:"
   ]
  },
  {
   "cell_type": "code",
   "execution_count": null,
   "id": "3715e47e",
   "metadata": {},
   "outputs": [],
   "source": [
    "# The syntax is: git remote set-url REMOTE-NAME REMOTE-URL\n",
    "[user@localhost]$ git remote set-url upstream [email protected]:jigarius/toggl2redmine.git"
   ]
  },
  {
   "cell_type": "markdown",
   "id": "931fa52a",
   "metadata": {},
   "source": [
    "# List all remotes"
   ]
  },
  {
   "cell_type": "markdown",
   "id": "5965cad9",
   "metadata": {},
   "source": [
    "To see all remotes, just use the following command:"
   ]
  },
  {
   "cell_type": "code",
   "execution_count": null,
   "id": "28538fae",
   "metadata": {},
   "outputs": [],
   "source": [
    "[user@localhost]$ git remote -v\n",
    "origin [email protected]:jigarius/toggl2redmine.git (fetch)\n",
    "origin [email protected]:jigarius/toggl2redmine.git (push)\n",
    "upstream [email protected]:jigarius/toggl2redmine.git (fetch)\n",
    "upstream [email protected]:jigarius/toggl2redmine.git (push)\n",
    "aditira [email protected]:jigarius/toggl2redmine.git (push)\n",
    "aditira [email protected]:jigarius/toggl2redmine.git (push)"
   ]
  },
  {
   "cell_type": "markdown",
   "id": "ae3bb63f",
   "metadata": {},
   "source": [
    "# Remove a remote"
   ]
  },
  {
   "cell_type": "markdown",
   "id": "9bc7c823",
   "metadata": {},
   "source": [
    "If there is a remote repository that is no longer needed in local Git, we can delete it with the command:"
   ]
  },
  {
   "cell_type": "code",
   "execution_count": null,
   "id": "b0a6c6e7",
   "metadata": {},
   "outputs": [],
   "source": [
    "# The syntax is: git remote remove REMOTE-NAME\n",
    "[user@localhost]$ git remote remove upstream"
   ]
  }
 ],
 "metadata": {},
 "nbformat": 4,
 "nbformat_minor": 5
}
