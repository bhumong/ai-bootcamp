{
 "cells": [
  {
   "cell_type": "markdown",
   "id": "afa0b6f0",
   "metadata": {},
   "source": [
    "source: [https://ai-bootcamp.ruangguru.com/learn/01_toolkits/01_version-control/02_git-command-local/02_git-remote.html](https://ai-bootcamp.ruangguru.com/learn/01_toolkits/01_version-control/02_git-command-local/02_git-remote.html)"
   ]
  },
  {
   "cell_type": "markdown",
   "id": "21841f33",
   "metadata": {},
   "source": [
    "# git remote add"
   ]
  },
  {
   "cell_type": "markdown",
   "id": "8d94b6ea",
   "metadata": {},
   "source": [
    "# Remote"
   ]
  },
  {
   "cell_type": "markdown",
   "id": "5eef3c37",
   "metadata": {},
   "source": []
  },
  {
   "cell_type": "markdown",
   "id": "93297bd3",
   "metadata": {},
   "source": [
    "![Image](https://storage.googleapis.com/rg-ai-bootcamp/toolkits/git-remote-theme-min.png)"
   ]
  },
  {
   "cell_type": "markdown",
   "id": "a5598abf",
   "metadata": {},
   "source": [
    "Remote Repo (Source: amazonaws.com)"
   ]
  },
  {
   "cell_type": "markdown",
   "id": "d3b9aeb2",
   "metadata": {},
   "source": [
    "Software development activities usually involve many people or a team of programmers and of course, we will not keep the project repository separately. All teams involved in the development process will store the repository on their respective local computers but it will later be merged into the repository on the remote server."
   ]
  },
  {
   "cell_type": "markdown",
   "id": "0b025f8c",
   "metadata": {},
   "source": [
    "The question is, where to store the remote repository?"
   ]
  },
  {
   "cell_type": "markdown",
   "id": "df474083",
   "metadata": {},
   "source": [
    "The answer is, that it can be on an office server or you can also use services such as Github, Gitlab, Bitbucket, etc. However, Github is the most popular service for storing repositories remotely. Many open-source projects are stored there."
   ]
  },
  {
   "cell_type": "markdown",
   "id": "d998c7e8",
   "metadata": {},
   "source": []
  },
  {
   "cell_type": "markdown",
   "id": "234edc81",
   "metadata": {},
   "source": [
    "![Image](https://storage.googleapis.com/rg-ai-bootcamp/toolkits/github-distributed-min.png)"
   ]
  },
  {
   "cell_type": "markdown",
   "id": "1ad8747f",
   "metadata": {},
   "source": [
    "Github Distributed (Source: sfdctechie.files.wordpress.com)"
   ]
  },
  {
   "cell_type": "markdown",
   "id": "b5297de4",
   "metadata": {},
   "source": [
    "# About remote repositories"
   ]
  },
  {
   "cell_type": "markdown",
   "id": "cb5acfd7",
   "metadata": {},
   "source": [
    "Remote URL is Git’s way of saying “the place where our source code is stored”. Remote URL is another repository that is different from our local repository, namely the repository on the server. There are two types of remote URLs that we can add to the Git configuration:"
   ]
  },
  {
   "cell_type": "markdown",
   "id": "09bbc829",
   "metadata": {},
   "source": [
    "- HTTPS URLsuch ashttps://github.com/user/repo.git\n",
    "- SSH URL, such as[email protected]:user/repo.git"
   ]
  },
  {
   "cell_type": "markdown",
   "id": "aa2c84fd",
   "metadata": {},
   "source": [
    "Git associates the remote URL with a name and defaults to origin. It is stored in file config in folder .git in root directory. inside the file it will look like this:"
   ]
  },
  {
   "cell_type": "code",
   "execution_count": null,
   "id": "1373c262",
   "metadata": {},
   "outputs": [],
   "source": [
    "[remote \"origin\"]\n",
    "url = https://github.com/user/repo.git\n",
    "fetch = +refs/heads/*:refs/remotes/origin/*"
   ]
  },
  {
   "cell_type": "markdown",
   "id": "9562b321",
   "metadata": {},
   "source": [
    "# Add remote repositories to local git"
   ]
  },
  {
   "cell_type": "markdown",
   "id": "5b4c7f17",
   "metadata": {},
   "source": [
    "We can use the git remote add command to associate the name with the remote URL, for example:"
   ]
  },
  {
   "cell_type": "code",
   "execution_count": null,
   "id": "89c1c85f",
   "metadata": {},
   "outputs": [],
   "source": [
    "git remote add origin <REMOTE_URL>"
   ]
  },
  {
   "cell_type": "markdown",
   "id": "bb3a0f74",
   "metadata": {},
   "source": [
    "This means origin will be linked to REMOTE_URL. We can use the git remote set-url command to change the remote URL."
   ]
  },
  {
   "cell_type": "markdown",
   "id": "672710cd",
   "metadata": {},
   "source": [
    "# Managing list of remote repositories in the local git"
   ]
  },
  {
   "cell_type": "markdown",
   "id": "a5870e45",
   "metadata": {},
   "source": [
    "# Adding a remote repository"
   ]
  },
  {
   "cell_type": "markdown",
   "id": "56d008bf",
   "metadata": {},
   "source": [
    "To add a new remote, use the git remote add command in the terminal in the Git repository. The git remote add command requires two arguments, namely:"
   ]
  },
  {
   "cell_type": "markdown",
   "id": "c1ad93c8",
   "metadata": {},
   "source": [
    "- Remote Name, for example,origin\n",
    "- Remote URL, for example,https://github.com/user/repo.git"
   ]
  },
  {
   "cell_type": "markdown",
   "id": "b2916eb5",
   "metadata": {},
   "source": [
    "Example:"
   ]
  },
  {
   "cell_type": "code",
   "execution_count": null,
   "id": "b527013a",
   "metadata": {},
   "outputs": [],
   "source": [
    "[user@localhost]$ git remote add origin https://github.com/user/repo.git\n",
    "# Set a new remote\n",
    "\n",
    "[user@localhost]$ git remote -v\n",
    "# Verify new remote\n",
    "> origin https://github.com/user/repo.git (fetch)\n",
    "> origin https://github.com/user/repo.git (push)"
   ]
  },
  {
   "cell_type": "markdown",
   "id": "06b4f577",
   "metadata": {},
   "source": [
    "# Changing a remote repository’s URL"
   ]
  },
  {
   "cell_type": "markdown",
   "id": "c00a4f58",
   "metadata": {},
   "source": [
    "The git remote set-url command will change the existing remote repository URL."
   ]
  },
  {
   "cell_type": "markdown",
   "id": "0415ab2e",
   "metadata": {},
   "source": [
    "> Tip: For information about the differences between HTTPS and SSH URLs, see “About remote repositories.”"
   ]
  },
  {
   "cell_type": "markdown",
   "id": "51456b3d",
   "metadata": {},
   "source": [
    "Tip: For information about the differences between HTTPS and SSH URLs, see “About remote repositories.”"
   ]
  },
  {
   "cell_type": "markdown",
   "id": "7e14b04a",
   "metadata": {},
   "source": [
    "- Name of existingremote. For example,originorupstreamare two common choices.\n",
    "- New URL forremote, example:If we changeremoteto HTTPS then the URL will look like this:https://github.com/USERNAME/REPOSITORY.gitIf we changeremoteto SSH then the URL will look like this:[email protected]:USERNAME/REPOSITORY.git\n",
    "- If we changeremoteto HTTPS then the URL will look like this:https://github.com/USERNAME/REPOSITORY.git\n",
    "- If we changeremoteto SSH then the URL will look like this:[email protected]:USERNAME/REPOSITORY.git"
   ]
  },
  {
   "cell_type": "markdown",
   "id": "99d97a1b",
   "metadata": {},
   "source": [
    "Name of existing remote. For example, origin or upstream are two common choices."
   ]
  },
  {
   "cell_type": "markdown",
   "id": "4babff89",
   "metadata": {},
   "source": [
    "New URL for remote, example:"
   ]
  },
  {
   "cell_type": "markdown",
   "id": "370e282c",
   "metadata": {},
   "source": [
    "- If we changeremoteto HTTPS then the URL will look like this:https://github.com/USERNAME/REPOSITORY.git\n",
    "- If we changeremoteto SSH then the URL will look like this:[email protected]:USERNAME/REPOSITORY.git"
   ]
  },
  {
   "cell_type": "markdown",
   "id": "b82f564b",
   "metadata": {},
   "source": [
    "If we change remote to HTTPS then the URL will look like this:"
   ]
  },
  {
   "cell_type": "code",
   "execution_count": null,
   "id": "ba58b6ca",
   "metadata": {},
   "outputs": [],
   "source": [
    "https://github.com/USERNAME/REPOSITORY.git"
   ]
  },
  {
   "cell_type": "markdown",
   "id": "6ed325fa",
   "metadata": {},
   "source": [
    "If we change remote to SSH then the URL will look like this:"
   ]
  },
  {
   "cell_type": "code",
   "execution_count": null,
   "id": "99b333e8",
   "metadata": {},
   "outputs": [],
   "source": [
    "[email protected]:USERNAME/REPOSITORY.git"
   ]
  },
  {
   "cell_type": "markdown",
   "id": "859d63b8",
   "metadata": {},
   "source": [
    "# Removing a remote repository"
   ]
  },
  {
   "cell_type": "markdown",
   "id": "d5c4fac7",
   "metadata": {},
   "source": [
    "Use the git remote rm command to remove the remote URL from the repository. The git remote rm command takes one argument namely remote name, for example, destination"
   ]
  },
  {
   "cell_type": "markdown",
   "id": "bea7a839",
   "metadata": {},
   "source": [
    "> Note:Deleting theremote URLfrom the repository will break the connection between thelocalrepository and theremote. It won’t delete theremote repository."
   ]
  },
  {
   "cell_type": "markdown",
   "id": "64657c0f",
   "metadata": {},
   "source": [
    "Note: Deleting the remote URL from the repository will break the connection between the local repository and the remote. It won’t delete the remote repository."
   ]
  },
  {
   "cell_type": "markdown",
   "id": "e849a4c7",
   "metadata": {},
   "source": [
    "Example:"
   ]
  },
  {
   "cell_type": "code",
   "execution_count": null,
   "id": "c92a221f",
   "metadata": {},
   "outputs": [],
   "source": [
    "[user@localhost]$ git remote -v\n",
    "# View current remotes\n",
    "> origin https://github.com/OWNER/REPOSITORY.git (fetch)\n",
    "> origin https://github.com/OWNER/REPOSITORY.git (push)\n",
    "> destination https://github.com/FORKER/REPOSITORY.git (fetch)\n",
    "> destination https://github.com/FORKER/REPOSITORY.git (push)\n",
    "\n",
    "[user@localhost]$ git remote rm destination\n",
    "# Remove remote\n",
    "[user@localhost]$ git remote -v\n",
    "# Verify it's gone\n",
    "> origin https://github.com/OWNER/REPOSITORY.git (fetch)\n",
    "> origin https://github.com/OWNER/REPOSITORY.git (push)"
   ]
  },
  {
   "cell_type": "markdown",
   "id": "67917eb4",
   "metadata": {},
   "source": [
    "# Example Multiple Remotes"
   ]
  },
  {
   "cell_type": "markdown",
   "id": "af72928c",
   "metadata": {},
   "source": [
    "# Adding multiple remotes"
   ]
  },
  {
   "cell_type": "markdown",
   "id": "5d3b9327",
   "metadata": {},
   "source": [
    "We can add more than one remote repository to our project. Do you still remember the git remote add origin command above? The original syntax for git remote add is like this (the text after the # is a comment):"
   ]
  },
  {
   "cell_type": "code",
   "execution_count": null,
   "id": "e179733a",
   "metadata": {},
   "outputs": [],
   "source": [
    "# Syntax to add a git remote\n",
    "[user@localhost]$ git remote add REMOTE-NAME REMOTE-URL"
   ]
  },
  {
   "cell_type": "markdown",
   "id": "d02f72f7",
   "metadata": {},
   "source": [
    "For example, we will add several remotes to our repository with origin as the main remote:"
   ]
  },
  {
   "cell_type": "code",
   "execution_count": null,
   "id": "cdc6ef33",
   "metadata": {},
   "outputs": [],
   "source": [
    "# Add remote 1: GitHub.\n",
    "[user@localhost]$ git remote add origin [email protected]:jigarius/toggl2redmine.git\n",
    "# Add remote 2: BitBucket.\n",
    "[user@localhost]$ git remote add upstream [email protected]:jigarius/toggl2redmine.git\n",
    "# Add remote 3: Gitlab.\n",
    "[user@localhost]$ git remote add aditira [email protected]:jigarius/toggl2redmine.git"
   ]
  },
  {
   "cell_type": "markdown",
   "id": "ba363f2a",
   "metadata": {},
   "source": [
    "In the example above, we added a remote repository of a project called Toggl 2 Redmine on GitHub. We can use the command above to add one or more remote repositories, but make sure each repository has a different name, namely origin, upstream and aditira in the example above."
   ]
  },
  {
   "cell_type": "markdown",
   "id": "feea3e1b",
   "metadata": {},
   "source": [
    "- Configure primary remoteAlthough we can add multiple remotes, typically, each branch of a project can be configured to track one remote. We can setbranchto trackremotewith the following example:# Change local branch.\n",
    "[user@localhost]$ git checkout BRANCH\n",
    "\n",
    "# Configure local branch to track a remote branch.\n",
    "[user@localhost]$ git branch -u origin/BRANCHHere, BRANCH is the name of theremote branch, which is usually the same as our local branch.\n",
    "- Change remote URLIf we want to change the URL that is connected to the addedremote, just as explained above, we use thegit remote set-urlcommand, where the originalsyntaxis:# The syntax is: git remote set-url REMOTE-NAME REMOTE-URL\n",
    "[user@localhost]$ git remote set-url upstream[email protected]:jigarius/toggl2redmine.git"
   ]
  },
  {
   "cell_type": "markdown",
   "id": "0f422cf1",
   "metadata": {},
   "source": [
    "Configure primary remote"
   ]
  },
  {
   "cell_type": "markdown",
   "id": "9dfef531",
   "metadata": {},
   "source": [
    "Although we can add multiple remotes, typically, each branch of a project can be configured to track one remote. We can set branch to track remote with the following example:"
   ]
  },
  {
   "cell_type": "code",
   "execution_count": null,
   "id": "c09dfe3c",
   "metadata": {},
   "outputs": [],
   "source": [
    "# Change local branch.\n",
    "[user@localhost]$ git checkout BRANCH\n",
    "\n",
    "# Configure local branch to track a remote branch.\n",
    "[user@localhost]$ git branch -u origin/BRANCH"
   ]
  },
  {
   "cell_type": "markdown",
   "id": "e80dd1b1",
   "metadata": {},
   "source": [
    "Here, BRANCH is the name of the remote branch, which is usually the same as our local branch."
   ]
  },
  {
   "cell_type": "markdown",
   "id": "b7e86431",
   "metadata": {},
   "source": [
    "Change remote URL"
   ]
  },
  {
   "cell_type": "markdown",
   "id": "85748c84",
   "metadata": {},
   "source": [
    "If we want to change the URL that is connected to the added remote, just as explained above, we use the git remote set-url command, where the original syntax is:"
   ]
  },
  {
   "cell_type": "code",
   "execution_count": null,
   "id": "6fdce7fc",
   "metadata": {},
   "outputs": [],
   "source": [
    "# The syntax is: git remote set-url REMOTE-NAME REMOTE-URL\n",
    "[user@localhost]$ git remote set-url upstream [email protected]:jigarius/toggl2redmine.git"
   ]
  },
  {
   "cell_type": "markdown",
   "id": "67bfd30d",
   "metadata": {},
   "source": [
    "# List all remotes"
   ]
  },
  {
   "cell_type": "markdown",
   "id": "62b6c534",
   "metadata": {},
   "source": [
    "To see all remotes, just use the following command:"
   ]
  },
  {
   "cell_type": "code",
   "execution_count": null,
   "id": "7021a923",
   "metadata": {},
   "outputs": [],
   "source": [
    "[user@localhost]$ git remote -v\n",
    "origin [email protected]:jigarius/toggl2redmine.git (fetch)\n",
    "origin [email protected]:jigarius/toggl2redmine.git (push)\n",
    "upstream [email protected]:jigarius/toggl2redmine.git (fetch)\n",
    "upstream [email protected]:jigarius/toggl2redmine.git (push)\n",
    "aditira [email protected]:jigarius/toggl2redmine.git (push)\n",
    "aditira [email protected]:jigarius/toggl2redmine.git (push)"
   ]
  },
  {
   "cell_type": "markdown",
   "id": "f2d1cfe5",
   "metadata": {},
   "source": [
    "# Remove a remote"
   ]
  },
  {
   "cell_type": "markdown",
   "id": "541fe776",
   "metadata": {},
   "source": [
    "If there is a remote repository that is no longer needed in local Git, we can delete it with the command:"
   ]
  },
  {
   "cell_type": "code",
   "execution_count": null,
   "id": "0f357c03",
   "metadata": {},
   "outputs": [],
   "source": [
    "# The syntax is: git remote remove REMOTE-NAME\n",
    "[user@localhost]$ git remote remove upstream"
   ]
  }
 ],
 "metadata": {},
 "nbformat": 4,
 "nbformat_minor": 5
}
