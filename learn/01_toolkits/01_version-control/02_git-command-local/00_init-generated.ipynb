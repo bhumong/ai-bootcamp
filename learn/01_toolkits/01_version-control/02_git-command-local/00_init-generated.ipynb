{
 "cells": [
  {
   "cell_type": "markdown",
   "id": "187d6d47",
   "metadata": {},
   "source": [
    "source: [link](https://ai-bootcamp.ruangguru.com/learn/01_toolkits/01_version-control/02_git-command-local/00_init.html)"
   ]
  },
  {
   "cell_type": "markdown",
   "id": "c2884d59",
   "metadata": {},
   "source": [
    "# Init"
   ]
  },
  {
   "cell_type": "markdown",
   "id": "4aad52c4",
   "metadata": {},
   "source": [
    "# `Git Init ’"
   ]
  },
  {
   "cell_type": "markdown",
   "id": "6de019a6",
   "metadata": {},
   "source": []
  },
  {
   "cell_type": "markdown",
   "id": "80333e84",
   "metadata": {},
   "source": [
    "![Image](https://storage.googleapis.com/rg-ai-bootcamp/toolkits/repository-min.png)"
   ]
  },
  {
   "cell_type": "markdown",
   "id": "a025a2fe",
   "metadata": {},
   "source": [
    "Git local flow (Source:s3.ap-south-1.amazonaws.com)"
   ]
  },
  {
   "cell_type": "markdown",
   "id": "87d23879",
   "metadata": {},
   "source": [
    "# Introduction"
   ]
  },
  {
   "cell_type": "markdown",
   "id": "91fd623e",
   "metadata": {},
   "source": [
    "In the workflow when using Git in local, the first step that must be taken is to initialize Git in the folder, so that Git can record any changes that occur in the folder. The command is:"
   ]
  },
  {
   "cell_type": "code",
   "execution_count": null,
   "id": "a0f3a9fe",
   "metadata": {},
   "outputs": [],
   "source": [
    "git init"
   ]
  },
  {
   "cell_type": "markdown",
   "id": "a21b2090",
   "metadata": {},
   "source": [
    "git init can turn any directory(📁 folder) into a Git repository. Let’s study git init further."
   ]
  },
  {
   "cell_type": "markdown",
   "id": "95fdf260",
   "metadata": {},
   "source": [
    "# What Does git init Do?"
   ]
  },
  {
   "cell_type": "markdown",
   "id": "dcdee2d6",
   "metadata": {},
   "source": [
    "To start a new project and initialize a repository with Git, we can use the git init command. Git creates a hidden directory called .git and it is this directory that separates the regular folder from the Git repository."
   ]
  },
  {
   "cell_type": "markdown",
   "id": "3d607e05",
   "metadata": {},
   "source": [
    "# How to Use git init"
   ]
  },
  {
   "cell_type": "markdown",
   "id": "667ad005",
   "metadata": {},
   "source": [
    "# Common usage and options for git init"
   ]
  },
  {
   "cell_type": "markdown",
   "id": "a3d269cb",
   "metadata": {},
   "source": [
    "- git init: Converts the current directory to a Git repository.\n",
    "- git init <directory>: Creates a folder and turns it into a Git repository."
   ]
  },
  {
   "cell_type": "markdown",
   "id": "0c5b04e1",
   "metadata": {},
   "source": [
    "We can see all the git init options in the [git-scm] documentation(https://git-scm.com/docs/git-init)."
   ]
  },
  {
   "cell_type": "markdown",
   "id": "f5986b23",
   "metadata": {},
   "source": [
    "# Example git init"
   ]
  },
  {
   "cell_type": "markdown",
   "id": "22c4b33d",
   "metadata": {},
   "source": [
    "It’s possible that we already have an application project locally, but it’s not yet integrated with Git, so git init is the right command. This is only run once, even if other collaborators want to contribute to our project. For example, consider the Git command below:"
   ]
  },
  {
   "cell_type": "markdown",
   "id": "670852ff",
   "metadata": {},
   "source": []
  },
  {
   "cell_type": "markdown",
   "id": "527db5d2",
   "metadata": {},
   "source": [
    "![Image](https://storage.googleapis.com/rg-ai-bootcamp/toolkits/git-init-min.gif)"
   ]
  },
  {
   "cell_type": "markdown",
   "id": "ee5894cf",
   "metadata": {},
   "source": [
    "Git init (Source: amazonaws.com)"
   ]
  },
  {
   "cell_type": "markdown",
   "id": "c178c80b",
   "metadata": {},
   "source": [
    "As seen above, to check whether folder my-cool-repo has become a Git repository or not, you can use the git status command. Once we see that the folder is not a Git repository, we can use the git init command."
   ]
  },
  {
   "cell_type": "markdown",
   "id": "a00e4d45",
   "metadata": {},
   "source": [
    "Now folder my-cool-repo has become a Git repository. So any changes in that folder will be recorded by Git. Next, we can carry out activities using Git, namely:"
   ]
  },
  {
   "cell_type": "markdown",
   "id": "bef74a9c",
   "metadata": {},
   "source": [
    "- git add: Selects files and adds them to the staging area in preparation for versioning.\n",
    "- git commit: Records files in thestaging areapermanently asversion history.\n",
    "- git push: Upload alllocal commitsto the server."
   ]
  },
  {
   "cell_type": "markdown",
   "id": "66a180e0",
   "metadata": {},
   "source": [
    "The following is the flow of Git activity:"
   ]
  },
  {
   "cell_type": "markdown",
   "id": "8a8437f1",
   "metadata": {},
   "source": []
  },
  {
   "cell_type": "markdown",
   "id": "4186fc71",
   "metadata": {},
   "source": [
    "![Image](https://storage.googleapis.com/rg-ai-bootcamp/toolkits/git-init-min.png)"
   ]
  },
  {
   "cell_type": "markdown",
   "id": "da33e9f0",
   "metadata": {},
   "source": [
    "Git init flow (Source: miro.medium.com)"
   ]
  },
  {
   "cell_type": "markdown",
   "id": "2a8117ff",
   "metadata": {},
   "source": [
    "# Git init Existing Folder"
   ]
  },
  {
   "cell_type": "markdown",
   "id": "da73555b",
   "metadata": {},
   "source": [
    "By default git init is to change the current directory to a Git repository. To make an existing project a Git repository, navigate to the targeted root directory. Then, run git init."
   ]
  },
  {
   "cell_type": "markdown",
   "id": "9a9ad824",
   "metadata": {},
   "source": [
    "Alternatively, we can create a new repository in the directory at the current path. Use git init <directory> and specify which directory to turn into a Git repository, for example: git init ./Downloads/my-cool-repo"
   ]
  },
  {
   "cell_type": "markdown",
   "id": "29f9e154",
   "metadata": {},
   "source": [
    "# Git init Gone Wrong"
   ]
  },
  {
   "cell_type": "markdown",
   "id": "c29fa252",
   "metadata": {},
   "source": [
    "Running git init in the wrong place will create an unexpected repository. What does it mean? 🤔 Nested git init is the most common example:"
   ]
  },
  {
   "cell_type": "code",
   "execution_count": null,
   "id": "1bff8f0a",
   "metadata": {},
   "outputs": [],
   "source": [
    "  📁repository (git init)\n",
    "    |_ 📁.git\n",
    "    |_ 📄file\n",
    "    |_ 📄file\n",
    "    |_ 📁repository (git init)\n",
    "      |_ 📁.git\n",
    "      |_ 📄file\n",
    "      |_ 📁repository (git init) <- YOU ARE HERE!\n",
    "         |_ 📁.git\n",
    "         |_ 📄file"
   ]
  },
  {
   "cell_type": "markdown",
   "id": "7f1570b8",
   "metadata": {},
   "source": [
    "Doing the above will duplicate version tracking information on each sub-directory and make the root .git unable to track changes to the sub-directory because it has its own .git. Duplicating version information in sub-directories will create abnormal situations that will result in inconsistencies sooner or later."
   ]
  },
  {
   "cell_type": "markdown",
   "id": "efa82afe",
   "metadata": {},
   "source": [
    "To fix this, we have to track down which directories are unwanted repositories. Use git status to see if the current directory is tracked by Git. If so, we can run ls -al and look for hidden .git directories."
   ]
  },
  {
   "cell_type": "markdown",
   "id": "785de675",
   "metadata": {},
   "source": [
    "If you don’t see it, navigate one level up in the directory structure with cd ... Then use git status again in combination with ls -al. Repeat until you find the .git directory you want to delete"
   ]
  },
  {
   "cell_type": "markdown",
   "id": "37a44139",
   "metadata": {},
   "source": [
    "Once you’ve found the .git directory, and are sure that you don’t want it to be a Git repository, use rm -rf .git. This will delete the .git directory, effectively uninitializing the unwanted repository."
   ]
  },
  {
   "cell_type": "markdown",
   "id": "e4e327cd",
   "metadata": {},
   "source": [
    "But what if there is already a structure like that, but we have already done several history commits in it and don’t want to delete it? 🤔 The solution is that we can move the existing nested directory .git to a separate directory and delete the previous repository directory. Examples are as follows:"
   ]
  },
  {
   "cell_type": "code",
   "execution_count": null,
   "id": "9a477c38",
   "metadata": {},
   "outputs": [],
   "source": [
    "📁repository (git init)\n",
    "   |_ 📁.git\n",
    "   |_ 📄file\n",
    "      📁repository2 (git init)\n",
    "      |_ 📁.git\n",
    "      |_ 📄file"
   ]
  },
  {
   "cell_type": "markdown",
   "id": "5334cc22",
   "metadata": {},
   "source": [
    "become"
   ]
  },
  {
   "cell_type": "code",
   "execution_count": null,
   "id": "abe9b320",
   "metadata": {},
   "outputs": [],
   "source": [
    "📁repository (git init)\n",
    "   |_ 📁.git\n",
    "   |_ 📄file\n",
    "      📁repository2 (git init) <- [REMOVE]\n",
    "      |_ 📁.git <- [REMOVE]\n",
    "      |_ 📄file <- [REMOVE]\n",
    "\n",
    "📁repository2 (git init)\n",
    "   |_ 📁.git\n",
    "   |_ 📄file"
   ]
  },
  {
   "cell_type": "markdown",
   "id": "52ac87e5",
   "metadata": {},
   "source": [
    "The method above can be used as a corrective step."
   ]
  },
  {
   "cell_type": "markdown",
   "id": "997a942a",
   "metadata": {},
   "source": [
    "It’s best to know the directory structure we will use when we initialize a Git repository project. Avoid nested directories as they can be very confusing."
   ]
  }
 ],
 "metadata": {},
 "nbformat": 4,
 "nbformat_minor": 5
}
