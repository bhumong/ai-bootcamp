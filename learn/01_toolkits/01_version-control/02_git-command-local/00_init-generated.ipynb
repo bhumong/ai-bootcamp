{
 "cells": [
  {
   "cell_type": "markdown",
   "id": "84eb4c82",
   "metadata": {},
   "source": [
    "source: [link](https://ai-bootcamp.ruangguru.com/learn/01_toolkits/01_version-control/02_git-command-local/00_init.html)"
   ]
  },
  {
   "cell_type": "markdown",
   "id": "d858ca84",
   "metadata": {},
   "source": [
    "# Init"
   ]
  },
  {
   "cell_type": "markdown",
   "id": "bc5e9185",
   "metadata": {},
   "source": [
    "# `Git Init ’"
   ]
  },
  {
   "cell_type": "markdown",
   "id": "17cd1c67",
   "metadata": {},
   "source": []
  },
  {
   "cell_type": "markdown",
   "id": "618b9795",
   "metadata": {},
   "source": [
    "![Image](https://storage.googleapis.com/rg-ai-bootcamp/toolkits/repository-min.png)"
   ]
  },
  {
   "cell_type": "markdown",
   "id": "8559ebca",
   "metadata": {},
   "source": [
    "Git local flow (Source:s3.ap-south-1.amazonaws.com)"
   ]
  },
  {
   "cell_type": "markdown",
   "id": "f141e4db",
   "metadata": {},
   "source": [
    "# Introduction"
   ]
  },
  {
   "cell_type": "markdown",
   "id": "99654fd5",
   "metadata": {},
   "source": [
    "In the workflow when using Git in local, the first step that must be taken is to initialize Git in the folder, so that Git can record any changes that occur in the folder. The command is:"
   ]
  },
  {
   "cell_type": "code",
   "execution_count": null,
   "id": "44f78916",
   "metadata": {},
   "outputs": [],
   "source": [
    "git init"
   ]
  },
  {
   "cell_type": "markdown",
   "id": "8382e759",
   "metadata": {},
   "source": [
    "git init can turn any directory(📁 folder) into a Git repository. Let’s study git init further."
   ]
  },
  {
   "cell_type": "markdown",
   "id": "6f744928",
   "metadata": {},
   "source": [
    "# What Does git init Do?"
   ]
  },
  {
   "cell_type": "markdown",
   "id": "ed9c9cd2",
   "metadata": {},
   "source": [
    "To start a new project and initialize a repository with Git, we can use the git init command. Git creates a hidden directory called .git and it is this directory that separates the regular folder from the Git repository."
   ]
  },
  {
   "cell_type": "markdown",
   "id": "43f9fcdf",
   "metadata": {},
   "source": [
    "# How to Use git init"
   ]
  },
  {
   "cell_type": "markdown",
   "id": "a0e3dbea",
   "metadata": {},
   "source": [
    "# Common usage and options for git init"
   ]
  },
  {
   "cell_type": "markdown",
   "id": "750cc640",
   "metadata": {},
   "source": [
    "We can see all the git init options in the [git-scm] documentation(https://git-scm.com/docs/git-init)."
   ]
  },
  {
   "cell_type": "markdown",
   "id": "2cc8c0b6",
   "metadata": {},
   "source": [
    "# Example git init"
   ]
  },
  {
   "cell_type": "markdown",
   "id": "ca53e32a",
   "metadata": {},
   "source": [
    "It’s possible that we already have an application project locally, but it’s not yet integrated with Git, so git init is the right command. This is only run once, even if other collaborators want to contribute to our project. For example, consider the Git command below:"
   ]
  },
  {
   "cell_type": "markdown",
   "id": "0547d09b",
   "metadata": {},
   "source": []
  },
  {
   "cell_type": "markdown",
   "id": "ab1403e8",
   "metadata": {},
   "source": [
    "![Image](https://storage.googleapis.com/rg-ai-bootcamp/toolkits/git-init-min.gif)"
   ]
  },
  {
   "cell_type": "markdown",
   "id": "5b72fd41",
   "metadata": {},
   "source": [
    "Git init (Source: amazonaws.com)"
   ]
  },
  {
   "cell_type": "markdown",
   "id": "cd2000c3",
   "metadata": {},
   "source": [
    "As seen above, to check whether folder my-cool-repo has become a Git repository or not, you can use the git status command. Once we see that the folder is not a Git repository, we can use the git init command."
   ]
  },
  {
   "cell_type": "markdown",
   "id": "05a7123c",
   "metadata": {},
   "source": [
    "Now folder my-cool-repo has become a Git repository. So any changes in that folder will be recorded by Git. Next, we can carry out activities using Git, namely:"
   ]
  },
  {
   "cell_type": "markdown",
   "id": "1c90aae7",
   "metadata": {},
   "source": [
    "The following is the flow of Git activity:"
   ]
  },
  {
   "cell_type": "markdown",
   "id": "33f7aef6",
   "metadata": {},
   "source": []
  },
  {
   "cell_type": "markdown",
   "id": "230ab593",
   "metadata": {},
   "source": [
    "![Image](https://storage.googleapis.com/rg-ai-bootcamp/toolkits/git-init-min.png)"
   ]
  },
  {
   "cell_type": "markdown",
   "id": "53928936",
   "metadata": {},
   "source": [
    "Git init flow (Source: miro.medium.com)"
   ]
  },
  {
   "cell_type": "markdown",
   "id": "203d94c7",
   "metadata": {},
   "source": [
    "# Git init Existing Folder"
   ]
  },
  {
   "cell_type": "markdown",
   "id": "879d013a",
   "metadata": {},
   "source": [
    "By default git init is to change the current directory to a Git repository. To make an existing project a Git repository, navigate to the targeted root directory. Then, run git init."
   ]
  },
  {
   "cell_type": "markdown",
   "id": "a5d6dd6c",
   "metadata": {},
   "source": [
    "Alternatively, we can create a new repository in the directory at the current path. Use git init <directory> and specify which directory to turn into a Git repository, for example: git init ./Downloads/my-cool-repo"
   ]
  },
  {
   "cell_type": "markdown",
   "id": "9dfadffa",
   "metadata": {},
   "source": [
    "# Git init Gone Wrong"
   ]
  },
  {
   "cell_type": "markdown",
   "id": "31b80c2e",
   "metadata": {},
   "source": [
    "Running git init in the wrong place will create an unexpected repository. What does it mean? 🤔 Nested git init is the most common example:"
   ]
  },
  {
   "cell_type": "code",
   "execution_count": null,
   "id": "8244d27b",
   "metadata": {},
   "outputs": [],
   "source": [
    "  📁repository (git init)\n",
    "    |_ 📁.git\n",
    "    |_ 📄file\n",
    "    |_ 📄file\n",
    "    |_ 📁repository (git init)\n",
    "      |_ 📁.git\n",
    "      |_ 📄file\n",
    "      |_ 📁repository (git init) <- YOU ARE HERE!\n",
    "         |_ 📁.git\n",
    "         |_ 📄file"
   ]
  },
  {
   "cell_type": "markdown",
   "id": "8fc422d0",
   "metadata": {},
   "source": [
    "Doing the above will duplicate version tracking information on each sub-directory and make the root .git unable to track changes to the sub-directory because it has its own .git. Duplicating version information in sub-directories will create abnormal situations that will result in inconsistencies sooner or later."
   ]
  },
  {
   "cell_type": "markdown",
   "id": "3f5a873b",
   "metadata": {},
   "source": [
    "To fix this, we have to track down which directories are unwanted repositories. Use git status to see if the current directory is tracked by Git. If so, we can run ls -al and look for hidden .git directories."
   ]
  },
  {
   "cell_type": "markdown",
   "id": "968a5b2b",
   "metadata": {},
   "source": [
    "If you don’t see it, navigate one level up in the directory structure with cd ... Then use git status again in combination with ls -al. Repeat until you find the .git directory you want to delete"
   ]
  },
  {
   "cell_type": "markdown",
   "id": "fda18f99",
   "metadata": {},
   "source": [
    "Once you’ve found the .git directory, and are sure that you don’t want it to be a Git repository, use rm -rf .git. This will delete the .git directory, effectively uninitializing the unwanted repository."
   ]
  },
  {
   "cell_type": "markdown",
   "id": "f9c93188",
   "metadata": {},
   "source": [
    "But what if there is already a structure like that, but we have already done several history commits in it and don’t want to delete it? 🤔 The solution is that we can move the existing nested directory .git to a separate directory and delete the previous repository directory. Examples are as follows:"
   ]
  },
  {
   "cell_type": "code",
   "execution_count": null,
   "id": "9feab312",
   "metadata": {},
   "outputs": [],
   "source": [
    "📁repository (git init)\n",
    "   |_ 📁.git\n",
    "   |_ 📄file\n",
    "      📁repository2 (git init)\n",
    "      |_ 📁.git\n",
    "      |_ 📄file"
   ]
  },
  {
   "cell_type": "markdown",
   "id": "01355db6",
   "metadata": {},
   "source": [
    "become"
   ]
  },
  {
   "cell_type": "code",
   "execution_count": null,
   "id": "2f06a37c",
   "metadata": {},
   "outputs": [],
   "source": [
    "📁repository (git init)\n",
    "   |_ 📁.git\n",
    "   |_ 📄file\n",
    "      📁repository2 (git init) <- [REMOVE]\n",
    "      |_ 📁.git <- [REMOVE]\n",
    "      |_ 📄file <- [REMOVE]\n",
    "\n",
    "📁repository2 (git init)\n",
    "   |_ 📁.git\n",
    "   |_ 📄file"
   ]
  },
  {
   "cell_type": "markdown",
   "id": "279ffb11",
   "metadata": {},
   "source": [
    "The method above can be used as a corrective step."
   ]
  },
  {
   "cell_type": "markdown",
   "id": "5d80ad33",
   "metadata": {},
   "source": [
    "It’s best to know the directory structure we will use when we initialize a Git repository project. Avoid nested directories as they can be very confusing."
   ]
  }
 ],
 "metadata": {},
 "nbformat": 4,
 "nbformat_minor": 5
}
