{
 "cells": [
  {
   "cell_type": "markdown",
   "id": "b470e8e9",
   "metadata": {},
   "source": [
    "# Init"
   ]
  },
  {
   "cell_type": "markdown",
   "id": "a7298727",
   "metadata": {},
   "source": [
    "# `Git Init ’"
   ]
  },
  {
   "cell_type": "markdown",
   "id": "155c2ca4",
   "metadata": {},
   "source": []
  },
  {
   "cell_type": "markdown",
   "id": "05661475",
   "metadata": {},
   "source": [
    "Git local flow (Source:s3.ap-south-1.amazonaws.com)"
   ]
  },
  {
   "cell_type": "markdown",
   "id": "573b266e",
   "metadata": {},
   "source": [
    "# Introduction"
   ]
  },
  {
   "cell_type": "markdown",
   "id": "741decfb",
   "metadata": {},
   "source": [
    "In the workflow when using Git in local, the first step that must be taken is to initialize Git in the folder, so that Git can record any changes that occur in the folder. The command is:"
   ]
  },
  {
   "cell_type": "code",
   "execution_count": null,
   "id": "d3e5fd91",
   "metadata": {},
   "outputs": [],
   "source": [
    "git init"
   ]
  },
  {
   "cell_type": "markdown",
   "id": "d5dd861d",
   "metadata": {},
   "source": [
    "git init can turn any directory(📁 folder) into a Git repository. Let’s study git init further."
   ]
  },
  {
   "cell_type": "markdown",
   "id": "f6293f8a",
   "metadata": {},
   "source": [
    "# What Does git init Do?"
   ]
  },
  {
   "cell_type": "markdown",
   "id": "fb45219f",
   "metadata": {},
   "source": [
    "To start a new project and initialize a repository with Git, we can use the git init command. Git creates a hidden directory called .git and it is this directory that separates the regular folder from the Git repository."
   ]
  },
  {
   "cell_type": "markdown",
   "id": "fda52a31",
   "metadata": {},
   "source": [
    "# How to Use git init"
   ]
  },
  {
   "cell_type": "markdown",
   "id": "3ce899b6",
   "metadata": {},
   "source": [
    "# Common usage and options for git init"
   ]
  },
  {
   "cell_type": "markdown",
   "id": "9c8b1e8b",
   "metadata": {},
   "source": [
    "We can see all the git init options in the [git-scm] documentation(https://git-scm.com/docs/git-init)."
   ]
  },
  {
   "cell_type": "markdown",
   "id": "9dc19f85",
   "metadata": {},
   "source": [
    "# Example git init"
   ]
  },
  {
   "cell_type": "markdown",
   "id": "7a079fe5",
   "metadata": {},
   "source": [
    "It’s possible that we already have an application project locally, but it’s not yet integrated with Git, so git init is the right command. This is only run once, even if other collaborators want to contribute to our project. For example, consider the Git command below:"
   ]
  },
  {
   "cell_type": "markdown",
   "id": "8b34e7a9",
   "metadata": {},
   "source": []
  },
  {
   "cell_type": "markdown",
   "id": "7f11f0f4",
   "metadata": {},
   "source": [
    "Git init (Source: amazonaws.com)"
   ]
  },
  {
   "cell_type": "markdown",
   "id": "4aab85b9",
   "metadata": {},
   "source": [
    "As seen above, to check whether folder my-cool-repo has become a Git repository or not, you can use the git status command. Once we see that the folder is not a Git repository, we can use the git init command."
   ]
  },
  {
   "cell_type": "markdown",
   "id": "e1f523b0",
   "metadata": {},
   "source": [
    "Now folder my-cool-repo has become a Git repository. So any changes in that folder will be recorded by Git. Next, we can carry out activities using Git, namely:"
   ]
  },
  {
   "cell_type": "markdown",
   "id": "8c69602b",
   "metadata": {},
   "source": [
    "The following is the flow of Git activity:"
   ]
  },
  {
   "cell_type": "markdown",
   "id": "3c2df8ff",
   "metadata": {},
   "source": []
  },
  {
   "cell_type": "markdown",
   "id": "9a122efd",
   "metadata": {},
   "source": [
    "Git init flow (Source: miro.medium.com)"
   ]
  },
  {
   "cell_type": "markdown",
   "id": "b685af7f",
   "metadata": {},
   "source": [
    "# Git init Existing Folder"
   ]
  },
  {
   "cell_type": "markdown",
   "id": "35450618",
   "metadata": {},
   "source": [
    "By default git init is to change the current directory to a Git repository. To make an existing project a Git repository, navigate to the targeted root directory. Then, run git init."
   ]
  },
  {
   "cell_type": "markdown",
   "id": "80ba83d9",
   "metadata": {},
   "source": [
    "Alternatively, we can create a new repository in the directory at the current path. Use git init <directory> and specify which directory to turn into a Git repository, for example: git init ./Downloads/my-cool-repo"
   ]
  },
  {
   "cell_type": "markdown",
   "id": "1e970eeb",
   "metadata": {},
   "source": [
    "# Git init Gone Wrong"
   ]
  },
  {
   "cell_type": "markdown",
   "id": "9f32f246",
   "metadata": {},
   "source": [
    "Running git init in the wrong place will create an unexpected repository. What does it mean? 🤔 Nested git init is the most common example:"
   ]
  },
  {
   "cell_type": "code",
   "execution_count": null,
   "id": "73da220e",
   "metadata": {},
   "outputs": [],
   "source": [
    "  📁repository (git init)\n",
    "    |_ 📁.git\n",
    "    |_ 📄file\n",
    "    |_ 📄file\n",
    "    |_ 📁repository (git init)\n",
    "      |_ 📁.git\n",
    "      |_ 📄file\n",
    "      |_ 📁repository (git init) <- YOU ARE HERE!\n",
    "         |_ 📁.git\n",
    "         |_ 📄file"
   ]
  },
  {
   "cell_type": "markdown",
   "id": "3cedd72a",
   "metadata": {},
   "source": [
    "Doing the above will duplicate version tracking information on each sub-directory and make the root .git unable to track changes to the sub-directory because it has its own .git. Duplicating version information in sub-directories will create abnormal situations that will result in inconsistencies sooner or later."
   ]
  },
  {
   "cell_type": "markdown",
   "id": "326013bb",
   "metadata": {},
   "source": [
    "To fix this, we have to track down which directories are unwanted repositories. Use git status to see if the current directory is tracked by Git. If so, we can run ls -al and look for hidden .git directories."
   ]
  },
  {
   "cell_type": "markdown",
   "id": "b2e6e2ba",
   "metadata": {},
   "source": [
    "If you don’t see it, navigate one level up in the directory structure with cd ... Then use git status again in combination with ls -al. Repeat until you find the .git directory you want to delete"
   ]
  },
  {
   "cell_type": "markdown",
   "id": "47593cb3",
   "metadata": {},
   "source": [
    "Once you’ve found the .git directory, and are sure that you don’t want it to be a Git repository, use rm -rf .git. This will delete the .git directory, effectively uninitializing the unwanted repository."
   ]
  },
  {
   "cell_type": "markdown",
   "id": "2d621004",
   "metadata": {},
   "source": [
    "But what if there is already a structure like that, but we have already done several history commits in it and don’t want to delete it? 🤔 The solution is that we can move the existing nested directory .git to a separate directory and delete the previous repository directory. Examples are as follows:"
   ]
  },
  {
   "cell_type": "code",
   "execution_count": null,
   "id": "ccddf7e4",
   "metadata": {},
   "outputs": [],
   "source": [
    "📁repository (git init)\n",
    "   |_ 📁.git\n",
    "   |_ 📄file\n",
    "      📁repository2 (git init)\n",
    "      |_ 📁.git\n",
    "      |_ 📄file"
   ]
  },
  {
   "cell_type": "markdown",
   "id": "0bc80c4d",
   "metadata": {},
   "source": [
    "become"
   ]
  },
  {
   "cell_type": "code",
   "execution_count": null,
   "id": "9628abc8",
   "metadata": {},
   "outputs": [],
   "source": [
    "📁repository (git init)\n",
    "   |_ 📁.git\n",
    "   |_ 📄file\n",
    "      📁repository2 (git init) <- [REMOVE]\n",
    "      |_ 📁.git <- [REMOVE]\n",
    "      |_ 📄file <- [REMOVE]\n",
    "\n",
    "📁repository2 (git init)\n",
    "   |_ 📁.git\n",
    "   |_ 📄file"
   ]
  },
  {
   "cell_type": "markdown",
   "id": "965c55f5",
   "metadata": {},
   "source": [
    "The method above can be used as a corrective step."
   ]
  },
  {
   "cell_type": "markdown",
   "id": "d2eb1467",
   "metadata": {},
   "source": [
    "It’s best to know the directory structure we will use when we initialize a Git repository project. Avoid nested directories as they can be very confusing."
   ]
  }
 ],
 "metadata": {},
 "nbformat": 4,
 "nbformat_minor": 5
}
