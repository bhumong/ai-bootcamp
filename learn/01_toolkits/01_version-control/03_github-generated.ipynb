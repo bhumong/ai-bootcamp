{
 "cells": [
  {
   "cell_type": "markdown",
   "id": "8d422861",
   "metadata": {},
   "source": [
    "source: [link](https://ai-bootcamp.ruangguru.com/learn/01_toolkits/01_version-control/03_github.html)"
   ]
  },
  {
   "cell_type": "markdown",
   "id": "0d0d78b6",
   "metadata": {},
   "source": [
    "# Github"
   ]
  },
  {
   "cell_type": "markdown",
   "id": "98bd6e85",
   "metadata": {},
   "source": []
  },
  {
   "cell_type": "markdown",
   "id": "082b7ec2",
   "metadata": {},
   "source": [
    "![Image](https://storage.googleapis.com/rg-ai-bootcamp/toolkits/github-theme-min.png)"
   ]
  },
  {
   "cell_type": "markdown",
   "id": "7e0fba91",
   "metadata": {},
   "source": [
    "Github (Source: github.githubassets.com)"
   ]
  },
  {
   "cell_type": "markdown",
   "id": "9610857b",
   "metadata": {},
   "source": [
    "# What is Github?"
   ]
  },
  {
   "cell_type": "markdown",
   "id": "aa925cee",
   "metadata": {},
   "source": [
    "GitHub is a special developer platform created because it was inspired by the way programmers work. From open source to business, we can review code, manage projects, and build software with more than 56 million users worldwide."
   ]
  },
  {
   "cell_type": "markdown",
   "id": "252093a9",
   "metadata": {},
   "source": [
    "Simply put, GitHub is a project management, version control system (VCS), as well as a social network platform for developers all over the world."
   ]
  },
  {
   "cell_type": "markdown",
   "id": "322049dd",
   "metadata": {},
   "source": [
    "# Why do we need Github?"
   ]
  },
  {
   "cell_type": "markdown",
   "id": "ce6a6ef0",
   "metadata": {},
   "source": [
    "# 1. Facilitate collaboration on project work"
   ]
  },
  {
   "cell_type": "markdown",
   "id": "ca967229",
   "metadata": {},
   "source": [
    "Github’s main function is to facilitate online collaboration when working on a project. With distributed version control, all developers or team members can manage code in one place. For example, conducting joint code reviews, bug fix discussions, and so on."
   ]
  },
  {
   "cell_type": "markdown",
   "id": "96bb7a82",
   "metadata": {},
   "source": [
    "Apart from that, GitHub also provides a project management feature in the form of a Kanban board like Trello (more details about Kanban here. This feature is certainly very useful for those who have many projects. Because, we can more easily determine work priority, manage workflow, and see the progress of the project."
   ]
  },
  {
   "cell_type": "markdown",
   "id": "89953358",
   "metadata": {},
   "source": []
  },
  {
   "cell_type": "markdown",
   "id": "259fbc31",
   "metadata": {},
   "source": [
    "![Image](https://storage.googleapis.com/rg-ai-bootcamp/toolkits/project-board-basic-kanban-template.png)"
   ]
  },
  {
   "cell_type": "markdown",
   "id": "2ccaa842",
   "metadata": {},
   "source": [
    "Github Portfolio (Source: docs.github.com)"
   ]
  },
  {
   "cell_type": "markdown",
   "id": "3b3b02f9",
   "metadata": {},
   "source": [
    "# 2. As a portfolio for developers"
   ]
  },
  {
   "cell_type": "markdown",
   "id": "0dbfeec0",
   "metadata": {},
   "source": [
    "Github also functions as a portfolio for developers."
   ]
  },
  {
   "cell_type": "markdown",
   "id": "54b90836",
   "metadata": {},
   "source": []
  },
  {
   "cell_type": "markdown",
   "id": "7ee4e697",
   "metadata": {},
   "source": [
    "![Image](https://storage.googleapis.com/rg-ai-bootcamp/toolkits/github-folio-min.png)"
   ]
  },
  {
   "cell_type": "markdown",
   "id": "86b2d079",
   "metadata": {},
   "source": [
    "Github Portfolio (Source: camo.githubusercontent.com)"
   ]
  },
  {
   "cell_type": "markdown",
   "id": "6ad301c1",
   "metadata": {},
   "source": [
    "On GitHub, we can set the projects we are working on to be displayed publicly. This will show our abilities as professionals."
   ]
  },
  {
   "cell_type": "markdown",
   "id": "e9dc52de",
   "metadata": {},
   "source": [
    "That way, prospective clients or targeted companies can immediately see our work and contributions to various projects according to our expertise."
   ]
  },
  {
   "cell_type": "markdown",
   "id": "8e33e753",
   "metadata": {},
   "source": [
    "# Create Github Account"
   ]
  },
  {
   "cell_type": "markdown",
   "id": "b42cee2c",
   "metadata": {},
   "source": [
    "We can create a Github account for free here. Follow the steps and we are ready to discuss more about Github."
   ]
  },
  {
   "cell_type": "markdown",
   "id": "44708500",
   "metadata": {},
   "source": [
    "# Repository"
   ]
  },
  {
   "cell_type": "markdown",
   "id": "661b9c86",
   "metadata": {},
   "source": [
    "# Remote Repository"
   ]
  },
  {
   "cell_type": "markdown",
   "id": "573e1554",
   "metadata": {},
   "source": [
    "- Local repository: Git repository stored on our computer.\n",
    "- Remote repository: Git repository stored on theserver."
   ]
  },
  {
   "cell_type": "markdown",
   "id": "418c7e82",
   "metadata": {},
   "source": [
    "For our lesson now, we will put our remote repository on a Github server."
   ]
  },
  {
   "cell_type": "markdown",
   "id": "3cdc9e5a",
   "metadata": {},
   "source": [
    "# Create a repository in Github"
   ]
  },
  {
   "cell_type": "markdown",
   "id": "aef10f43",
   "metadata": {},
   "source": [
    "We can create a new remote repository on our Github by:"
   ]
  },
  {
   "cell_type": "markdown",
   "id": "9ce521bc",
   "metadata": {},
   "source": [
    "When finished, click the Create repository button. So our Github repository has been created and is ready to be used to store projects and collaborate with our team."
   ]
  },
  {
   "cell_type": "markdown",
   "id": "d11f7f2e",
   "metadata": {},
   "source": [
    "# Auth Github"
   ]
  },
  {
   "cell_type": "markdown",
   "id": "1ecad6ba",
   "metadata": {},
   "source": [
    "To keep your Github account secure, we must authenticate before we can access certain resources on Github. Github has several different authentication modes, namely:"
   ]
  },
  {
   "cell_type": "markdown",
   "id": "88e94ead",
   "metadata": {},
   "source": [
    "- SSH keys\n",
    "- Personal access token\n",
    "- Username and password with two-factor authentication"
   ]
  },
  {
   "cell_type": "markdown",
   "id": "d3e26a2e",
   "metadata": {},
   "source": [
    "Here we will learn more about authentication with SSH keys"
   ]
  },
  {
   "cell_type": "markdown",
   "id": "cc644b6e",
   "metadata": {},
   "source": [
    "# SSH Key"
   ]
  },
  {
   "cell_type": "markdown",
   "id": "a5409b7b",
   "metadata": {},
   "source": [
    "SSH (Secure Shell) is a transfer protocol that allows users to control a device remote or from a distance via an internet connection securely. So we can connect to Github to access and manage our repositories without providing username and personal access token in every Git command we run."
   ]
  },
  {
   "cell_type": "markdown",
   "id": "8fa76661",
   "metadata": {},
   "source": [
    "# Generate SSH key"
   ]
  },
  {
   "cell_type": "markdown",
   "id": "599b4b8f",
   "metadata": {},
   "source": [
    "Open the Linux terminal or WSL for Windows users."
   ]
  },
  {
   "cell_type": "markdown",
   "id": "e17b1e1d",
   "metadata": {},
   "source": [
    "Follow the commands below:"
   ]
  },
  {
   "cell_type": "code",
   "execution_count": null,
   "id": "1d42f14c",
   "metadata": {},
   "outputs": [],
   "source": [
    "> ssh-keygen -t ed25519 -C \"[email protected]\" # IMPORTANT: Replace with your email\n",
    "Generating public/private algorithm key pairs.\n",
    "Enter file in which to save the key (/home/user/.ssh/id_ed25519): # [Press enter]\n",
    "Enter passphrase (empty for no passphrase): # [Type a password]\n",
    "Enter same passphrase again: # [Type password again]"
   ]
  },
  {
   "cell_type": "markdown",
   "id": "84f4110e",
   "metadata": {},
   "source": [
    "# Adding your SSH key to the ssh-agent"
   ]
  },
  {
   "cell_type": "markdown",
   "id": "44d66fc8",
   "metadata": {},
   "source": [
    "ssh-agent is a program that manages SSH keys and remembers our password. So we don’t need to re-enter the password every time we use SSH key, just follow the steps below:"
   ]
  },
  {
   "cell_type": "markdown",
   "id": "76f10dac",
   "metadata": {},
   "source": [
    "Open the Linux terminal or WSL for Windows users."
   ]
  },
  {
   "cell_type": "markdown",
   "id": "98551432",
   "metadata": {},
   "source": [
    "Follow the steps below:"
   ]
  },
  {
   "cell_type": "code",
   "execution_count": null,
   "id": "65094f08",
   "metadata": {},
   "outputs": [],
   "source": [
    "> eval \"$(ssh-agent -s)\" # ensure ssh-agent is running\n",
    "Agent pid 59566\n",
    "> ssh-add ~/.ssh/id_ed25519 # add our SSH key to ssh-agent\n",
    "Enter passphrase for /home/user/.ssh/id_ed25519: # [Type SSH key password]\n",
    "Identity added: /home/user/.ssh/id_ed25519 ([email protected])"
   ]
  },
  {
   "cell_type": "markdown",
   "id": "e4e928f0",
   "metadata": {},
   "source": [
    "# Add SSH key to Github"
   ]
  },
  {
   "cell_type": "markdown",
   "id": "d9a62ab5",
   "metadata": {},
   "source": [
    "So that Github can accept connections from our computer, we need to add the SSH key that we generated earlier to our Github account."
   ]
  },
  {
   "cell_type": "markdown",
   "id": "efe1001c",
   "metadata": {},
   "source": [
    "Copy the SSH public key to the clipboard."
   ]
  },
  {
   "cell_type": "code",
   "execution_count": null,
   "id": "a082c87a",
   "metadata": {},
   "outputs": [],
   "source": [
    "> clip < ~/.ssh/id_ed25519.pub # Copy the contents of the id_ed25519.pub file to the clipboard"
   ]
  },
  {
   "cell_type": "markdown",
   "id": "24127560",
   "metadata": {},
   "source": [
    "Note: If clip doesn’t work, read the contents of the file with the command cat ~/.ssh/id_ed25519.pub then copy the contents of the file."
   ]
  },
  {
   "cell_type": "markdown",
   "id": "d4849b92",
   "metadata": {},
   "source": [
    "In the top right corner of any page, click your profile photo, then click Settings."
   ]
  },
  {
   "cell_type": "markdown",
   "id": "1723ec7f",
   "metadata": {},
   "source": [
    "In the “Access” section of the sidebar, click 🔑 SSH and GPG keys."
   ]
  },
  {
   "cell_type": "markdown",
   "id": "9aad9b2a",
   "metadata": {},
   "source": [
    "Click New SSH key or Add SSH key."
   ]
  },
  {
   "cell_type": "markdown",
   "id": "8d295678",
   "metadata": {},
   "source": [
    "In the “Title” field, add a title for the new key. This title can be filled in with the name of your device or other identification that is easy to distinguish."
   ]
  },
  {
   "cell_type": "markdown",
   "id": "a204b60d",
   "metadata": {},
   "source": [
    "Paste the key that has been generated into the “Key” field."
   ]
  },
  {
   "cell_type": "markdown",
   "id": "a6a92e81",
   "metadata": {},
   "source": [
    "Click Add SSH key."
   ]
  },
  {
   "cell_type": "markdown",
   "id": "e68760f0",
   "metadata": {},
   "source": [
    "If prompted, confirm your Github password."
   ]
  },
  {
   "cell_type": "markdown",
   "id": "0886b2dd",
   "metadata": {},
   "source": [
    "# Pull and Push"
   ]
  },
  {
   "cell_type": "markdown",
   "id": "3686b684",
   "metadata": {},
   "source": [
    "# What are git pull and git push?"
   ]
  },
  {
   "cell_type": "markdown",
   "id": "e9b05a6e",
   "metadata": {},
   "source": [
    "- git pull: a command totakeallcommitsinremote branchand merge each commit withlocal branch.\n",
    "- git push: a command touploadallcommitsinlocal branchtoremote branch."
   ]
  },
  {
   "cell_type": "markdown",
   "id": "2606924d",
   "metadata": {},
   "source": [
    "By default, git push and git pull only perform operations on the current branch. So, it’s best to use the git status command to see which branch we are in before doing git push or git pull."
   ]
  },
  {
   "cell_type": "markdown",
   "id": "1112d173",
   "metadata": {},
   "source": [
    "# How to Use git pull"
   ]
  },
  {
   "cell_type": "markdown",
   "id": "0d527381",
   "metadata": {},
   "source": [
    "The git pull command is:"
   ]
  },
  {
   "cell_type": "code",
   "execution_count": null,
   "id": "7d13f3ed",
   "metadata": {},
   "outputs": [],
   "source": [
    "> git pull"
   ]
  },
  {
   "cell_type": "markdown",
   "id": "c81d2b0d",
   "metadata": {},
   "source": [
    "# Example of using git pull"
   ]
  },
  {
   "cell_type": "markdown",
   "id": "329ed411",
   "metadata": {},
   "source": [
    "For example, on another computer that has the same repository, we haven’t gotten the update commit with the message “docs: add guide notes” that we push before."
   ]
  },
  {
   "cell_type": "code",
   "execution_count": null,
   "id": "bdf5c2e2",
   "metadata": {},
   "outputs": [],
   "source": [
    "> git log --oneline\n",
    "71efdaa (HEAD -> main, origin/main) docs: add ideation\n",
    "5dfaf0b docs: add README.md"
   ]
  },
  {
   "cell_type": "markdown",
   "id": "b1b15d17",
   "metadata": {},
   "source": [
    "So do git pull to get the update:"
   ]
  },
  {
   "cell_type": "code",
   "execution_count": null,
   "id": "7d43bd43",
   "metadata": {},
   "outputs": [],
   "source": [
    "> git pull\n",
    "> git log --oneline\n",
    "a144815 (HEAD -> main, origin/main) docs: add guide notes\n",
    "71efdaa docs: add ideation\n",
    "5dfaf0b docs: add README.md"
   ]
  },
  {
   "cell_type": "markdown",
   "id": "3d7812fe",
   "metadata": {},
   "source": [
    "So you can see that there is an additional commit with the message “docs: add guide notes”."
   ]
  },
  {
   "cell_type": "markdown",
   "id": "dc12cf3d",
   "metadata": {},
   "source": [
    "# How to Use git push"
   ]
  },
  {
   "cell_type": "markdown",
   "id": "e073a857",
   "metadata": {},
   "source": [
    "It is recommended to run the git pull command before starting to make changes. This will update our local branch with all new commits that other contributors may have made."
   ]
  },
  {
   "cell_type": "markdown",
   "id": "00d1d57e",
   "metadata": {},
   "source": [
    "Commonly used git push commands are:"
   ]
  },
  {
   "cell_type": "markdown",
   "id": "5ee6fbff",
   "metadata": {},
   "source": [
    "- Push to specific remotes andbranches>gitpush<remote name><branch name>Example:>gitpushorigin mainWe can also ensure that every time we do apushit always goes tothe same remote, by running the command:gitpush-u<remote name><branch name>So after we rungit pushwith the-uoption, we simply rungit pushwithout having to provide the remote andbranchnames again.Example:>gitpush-uorigin main>gitpush# here we don't need to provide the remote and branch name anymore\n",
    "- Push allbranches>gitpush--all"
   ]
  },
  {
   "cell_type": "markdown",
   "id": "07ab2604",
   "metadata": {},
   "source": [
    "Push to specific remotes and branches"
   ]
  },
  {
   "cell_type": "code",
   "execution_count": null,
   "id": "234d8c73",
   "metadata": {},
   "outputs": [],
   "source": [
    "> git push <remote name> <branch name>"
   ]
  },
  {
   "cell_type": "markdown",
   "id": "a76ebdd1",
   "metadata": {},
   "source": [
    "Example:"
   ]
  },
  {
   "cell_type": "code",
   "execution_count": null,
   "id": "b5a2d63c",
   "metadata": {},
   "outputs": [],
   "source": [
    "> git push origin main"
   ]
  },
  {
   "cell_type": "markdown",
   "id": "0c3da65f",
   "metadata": {},
   "source": [
    "We can also ensure that every time we do a push it always goes to the same remote, by running the command:"
   ]
  },
  {
   "cell_type": "code",
   "execution_count": null,
   "id": "59049308",
   "metadata": {},
   "outputs": [],
   "source": [
    "git push -u <remote name> <branch name>"
   ]
  },
  {
   "cell_type": "markdown",
   "id": "4e1efa88",
   "metadata": {},
   "source": [
    "So after we run git push with the -u option, we simply run git push without having to provide the remote and branch names again."
   ]
  },
  {
   "cell_type": "markdown",
   "id": "24af942d",
   "metadata": {},
   "source": [
    "Example:"
   ]
  },
  {
   "cell_type": "code",
   "execution_count": null,
   "id": "97f77194",
   "metadata": {},
   "outputs": [],
   "source": [
    "> git push -u origin main\n",
    "> git push # here we don't need to provide the remote and branch name anymore"
   ]
  },
  {
   "cell_type": "markdown",
   "id": "1ea9fc5a",
   "metadata": {},
   "source": [
    "Push all branches"
   ]
  },
  {
   "cell_type": "code",
   "execution_count": null,
   "id": "6273ac1b",
   "metadata": {},
   "outputs": [],
   "source": [
    "> git push --all"
   ]
  },
  {
   "cell_type": "markdown",
   "id": "71c281d3",
   "metadata": {},
   "source": [
    "# Example of using git push"
   ]
  },
  {
   "cell_type": "markdown",
   "id": "f9903b1b",
   "metadata": {},
   "source": [
    " Commits that exist in the remote repository before being pushed"
   ]
  },
  {
   "cell_type": "markdown",
   "id": "4edc46f3",
   "metadata": {},
   "source": [
    "![Image](https://storage.googleapis.com/rg-ai-bootcamp/toolkits/training-kit-second-commit-min.png)"
   ]
  },
  {
   "cell_type": "code",
   "execution_count": null,
   "id": "9f489da2",
   "metadata": {},
   "outputs": [],
   "source": [
    "> git log --oneline\n",
    "a144815 (HEAD -> main) docs: add guide notes\n",
    "71efdaa (origin/main) docs: add ideation\n",
    "5dfaf0b docs: add README.md"
   ]
  },
  {
   "cell_type": "markdown",
   "id": "1fcacb4d",
   "metadata": {},
   "source": [
    "We see that between the screenshot and the log above, there is one commit that is not yet in the remote (“docs: add guide notes”)."
   ]
  },
  {
   "cell_type": "markdown",
   "id": "7a073a7d",
   "metadata": {},
   "source": [
    "Now try executing the git push command."
   ]
  },
  {
   "cell_type": "code",
   "execution_count": null,
   "id": "68e62765",
   "metadata": {},
   "outputs": [],
   "source": [
    "> git push\n",
    "> git log --oneline\n",
    "a144815 (HEAD -> main, origin/main) docs: add guide notes # now this commit is in the remote repository\n",
    "71efdaa docs: add ideation\n",
    "5dfaf0b docs: add README.md"
   ]
  },
  {
   "cell_type": "markdown",
   "id": "9f236c85",
   "metadata": {},
   "source": []
  },
  {
   "cell_type": "markdown",
   "id": "0243275b",
   "metadata": {},
   "source": [
    "![Image](https://storage.googleapis.com/rg-ai-bootcamp/toolkits/training-kit-third-commit-min.png)"
   ]
  },
  {
   "cell_type": "markdown",
   "id": "1ff62b53",
   "metadata": {},
   "source": [
    "It can be seen that our commit has been successfully push to the remote repository."
   ]
  },
  {
   "cell_type": "markdown",
   "id": "cf47e484",
   "metadata": {},
   "source": [
    "So that’s how we collaborate using remote repositories."
   ]
  },
  {
   "cell_type": "markdown",
   "id": "83bc123f",
   "metadata": {},
   "source": [
    "# Clone"
   ]
  },
  {
   "cell_type": "markdown",
   "id": "e2367087",
   "metadata": {},
   "source": [
    "# What is git clone?"
   ]
  },
  {
   "cell_type": "markdown",
   "id": "c49da0c3",
   "metadata": {},
   "source": [
    "The git clone command is used to make a copy of a particular repository from a remote repository to our local computer."
   ]
  },
  {
   "cell_type": "markdown",
   "id": "63b606dc",
   "metadata": {},
   "source": [
    "Cloning will copy the entire remote repository, including all files, commit and branch."
   ]
  },
  {
   "cell_type": "markdown",
   "id": "fb8f0863",
   "metadata": {},
   "source": [
    "# How to Use git clone"
   ]
  },
  {
   "cell_type": "markdown",
   "id": "234a320a",
   "metadata": {},
   "source": [
    "The way to do cloning is:"
   ]
  },
  {
   "cell_type": "markdown",
   "id": "510c0022",
   "metadata": {},
   "source": [
    "On GitHub.com, navigate to the main page of the repository to be_cloned_."
   ]
  },
  {
   "cell_type": "markdown",
   "id": "0a15cb45",
   "metadata": {},
   "source": [
    "Above the file list, click ⤓ Code."
   ]
  },
  {
   "cell_type": "markdown",
   "id": "a21a9c4c",
   "metadata": {},
   "source": []
  },
  {
   "cell_type": "markdown",
   "id": "f1e2aabe",
   "metadata": {},
   "source": [
    "![Image](https://storage.googleapis.com/rg-ai-bootcamp/toolkits/code-button-clone-min.png)"
   ]
  },
  {
   "cell_type": "markdown",
   "id": "61d6bb48",
   "metadata": {},
   "source": [
    "Select the SSH tab to copy the repository url and clone the repository with the SSH protocol:"
   ]
  },
  {
   "cell_type": "markdown",
   "id": "6ce19e97",
   "metadata": {},
   "source": [
    "Open the Linux terminal or WSL on Windows."
   ]
  },
  {
   "cell_type": "markdown",
   "id": "2e70410c",
   "metadata": {},
   "source": [
    "Change the current folder to where we will save the clone."
   ]
  },
  {
   "cell_type": "markdown",
   "id": "e6f45478",
   "metadata": {},
   "source": [
    "Type git clone, then paste the remote URL you copied earlier and press Enter."
   ]
  },
  {
   "cell_type": "code",
   "execution_count": null,
   "id": "a725bc6d",
   "metadata": {},
   "outputs": [],
   "source": [
    "> git clone [email protected]:ruang-guru/playground.git\n",
    "Cloning into `playground`...\n",
    "remote: Counting objects: 10, done.\n",
    "remote: Compressing objects: 100% (8/8), done.\n",
    "remove: Total 10 (delta 1), reused 10 (delta 1)\n",
    "Unpacking objects: 100% (10/10), done."
   ]
  },
  {
   "cell_type": "markdown",
   "id": "5ada56c7",
   "metadata": {},
   "source": [
    "We can see the cloned remote URL with the command git remote -v:"
   ]
  },
  {
   "cell_type": "code",
   "execution_count": null,
   "id": "b5e5aaab",
   "metadata": {},
   "outputs": [],
   "source": [
    "> git remote -v\n",
    "origin [email protected]:ruang-guru/playground.git (fetch)\n",
    "origin [email protected]:ruang-guru/playground.git (push)"
   ]
  },
  {
   "cell_type": "markdown",
   "id": "bdc75e0a",
   "metadata": {},
   "source": [
    "Notice that we now have a clone repository located in folder playground: bash     > ls playground     README.md frontend introduction-to-programming     ..."
   ]
  },
  {
   "cell_type": "markdown",
   "id": "8462f595",
   "metadata": {},
   "source": [
    "Now we can use the repository on the local computer and change it as needed."
   ]
  },
  {
   "cell_type": "markdown",
   "id": "e218d200",
   "metadata": {},
   "source": [
    "# Collaboration"
   ]
  },
  {
   "cell_type": "markdown",
   "id": "c59e9fa3",
   "metadata": {},
   "source": [
    "Collaborative development models are divided into 2, namely:"
   ]
  },
  {
   "cell_type": "markdown",
   "id": "88549c4b",
   "metadata": {},
   "source": [
    "Fork and pull model: we do not need permission from the repository owner to push and changes are submitted by making a pull request from the fork to the original repository."
   ]
  },
  {
   "cell_type": "markdown",
   "id": "8fb8dd7d",
   "metadata": {},
   "source": [
    "Shared repository model: collaborators are given push access to one repository and branches are created when changes need to be made, pull requests are made to review changes that have been made."
   ]
  },
  {
   "cell_type": "markdown",
   "id": "01768174",
   "metadata": {},
   "source": [
    "# Git Flow"
   ]
  },
  {
   "cell_type": "markdown",
   "id": "ffdf6138",
   "metadata": {},
   "source": [
    "Collaborating on Github requires us to discuss with other people every change that occurs. Usually the journey is as follows:"
   ]
  },
  {
   "cell_type": "markdown",
   "id": "d7e18f5c",
   "metadata": {},
   "source": [
    "- Create a branch: creates abranchso we can make changes without disturbing theflowof themain branch.\n",
    "- Make changes:commitandpushchanges made tobranchuntil ready to requestfeedback.\n",
    "- Create a Pull Request: to requestfeedbackfrom collaborators about the changes we make.\n",
    "- Address review comments: the reviewer makesquestions,comments, andsuggestionson the changes made and continues tocommitandpushin response to the review results.\n",
    "- Merge your Pull Request: after the Pull Request isapproved, domergethe Pull Request that we created.\n",
    "- Delete your branch: indicates that work inbranchhas been completed."
   ]
  },
  {
   "cell_type": "markdown",
   "id": "bfe90819",
   "metadata": {},
   "source": [
    "# Pull Request"
   ]
  },
  {
   "cell_type": "markdown",
   "id": "5f649bf9",
   "metadata": {},
   "source": [
    "PR (Pull Request) is a request to add changes to Github. When making homework, make a summary of the changes and issue to be solved, you can use images, links, or tables."
   ]
  },
  {
   "cell_type": "markdown",
   "id": "a221b208",
   "metadata": {},
   "source": [
    " PR Body (source: docs.github.com)"
   ]
  },
  {
   "cell_type": "markdown",
   "id": "aed73bde",
   "metadata": {},
   "source": [
    "![Image](https://storage.googleapis.com/rg-ai-bootcamp/toolkits/pull-request-body-min.png)"
   ]
  },
  {
   "cell_type": "markdown",
   "id": "c23c026e",
   "metadata": {},
   "source": [
    "We can also add comments to certain lines to indicate something to the reviewer."
   ]
  },
  {
   "cell_type": "markdown",
   "id": "647efbfd",
   "metadata": {},
   "source": [
    " PR comment (source: docs.github.com)"
   ]
  },
  {
   "cell_type": "markdown",
   "id": "7f5eee8c",
   "metadata": {},
   "source": [
    "![Image](https://storage.googleapis.com/rg-ai-bootcamp/toolkits/pull-request-comment-min.png)"
   ]
  },
  {
   "cell_type": "markdown",
   "id": "16616e8b",
   "metadata": {},
   "source": [
    "# Creating a pull request"
   ]
  },
  {
   "cell_type": "markdown",
   "id": "a7a98bb1",
   "metadata": {},
   "source": [
    "- We can create a PR (Pull Request) by following the documentation:Creating a pull request.\n",
    "- We can also create a PR forforkby following the documentation:Creating a Pull Request from a Fork."
   ]
  },
  {
   "cell_type": "markdown",
   "id": "e2df8a15",
   "metadata": {},
   "source": [
    "We can create a PR (Pull Request) by following the documentation: Creating a pull request."
   ]
  },
  {
   "cell_type": "markdown",
   "id": "835f0642",
   "metadata": {},
   "source": [
    "We can also create a PR for fork by following the documentation: Creating a Pull Request from a Fork."
   ]
  },
  {
   "cell_type": "markdown",
   "id": "19c9ff93",
   "metadata": {},
   "source": [
    "# PR Review"
   ]
  },
  {
   "cell_type": "markdown",
   "id": "3c8f526f",
   "metadata": {},
   "source": [
    "Review is the activity of commenting on proposed changes, approving changes, or requesting changes before a PR is merged."
   ]
  },
  {
   "cell_type": "markdown",
   "id": "f910aca5",
   "metadata": {},
   "source": [
    " Review with comment (source: docs.github.com)"
   ]
  },
  {
   "cell_type": "markdown",
   "id": "806e1118",
   "metadata": {},
   "source": [
    "![Image](https://storage.googleapis.com/rg-ai-bootcamp/toolkits/review-header-with-line-comment-min.png)"
   ]
  },
  {
   "cell_type": "markdown",
   "id": "6cb008ea",
   "metadata": {},
   "source": [
    "# Status Review"
   ]
  },
  {
   "cell_type": "markdown",
   "id": "869fed3a",
   "metadata": {},
   "source": [
    "A review has three possible status, namely:"
   ]
  },
  {
   "cell_type": "markdown",
   "id": "1d435a9a",
   "metadata": {},
   "source": [
    "- Comment: providefeedbackwithout agreeing to changes or requesting additional changes.\n",
    "- Approve: providesfeedbackand approves the incorporation of proposed changes.\n",
    "- Request changes: providesfeedbackthat must be addressed before changes can be merged."
   ]
  },
  {
   "cell_type": "markdown",
   "id": "bd6d9015",
   "metadata": {},
   "source": []
  },
  {
   "cell_type": "markdown",
   "id": "67c62886",
   "metadata": {},
   "source": [
    "![Image](https://storage.googleapis.com/rg-ai-bootcamp/toolkits/pull-request-review-statuses-min.png)"
   ]
  },
  {
   "cell_type": "markdown",
   "id": "82be8a19",
   "metadata": {},
   "source": [
    "PR statuses (source: ocs.github.com)"
   ]
  },
  {
   "cell_type": "markdown",
   "id": "3a123ccc",
   "metadata": {},
   "source": [
    "We can see all reviews in the Conversation timeline tab, and we can see reviews by collaborators in Pull Request’s merge box."
   ]
  },
  {
   "cell_type": "markdown",
   "id": "8be6ac74",
   "metadata": {},
   "source": []
  },
  {
   "cell_type": "markdown",
   "id": "aa75dc53",
   "metadata": {},
   "source": [
    "![Image](https://storage.googleapis.com/rg-ai-bootcamp/toolkits/conversation-min.png)"
   ]
  },
  {
   "cell_type": "markdown",
   "id": "c189db86",
   "metadata": {},
   "source": [
    "Conversation (source: docs.github.com)"
   ]
  },
  {
   "cell_type": "markdown",
   "id": "a9153331",
   "metadata": {},
   "source": []
  },
  {
   "cell_type": "markdown",
   "id": "ddc598a9",
   "metadata": {},
   "source": [
    "![Image](https://storage.googleapis.com/rg-ai-bootcamp/toolkits/pr-reviews-in-merge-box-min.png)"
   ]
  },
  {
   "cell_type": "markdown",
   "id": "d3a71842",
   "metadata": {},
   "source": [
    "Review in merge box (source: docs.github.com)"
   ]
  },
  {
   "cell_type": "markdown",
   "id": "f9971215",
   "metadata": {},
   "source": [
    "# Resolving conversations"
   ]
  },
  {
   "cell_type": "markdown",
   "id": "9c35f5e5",
   "metadata": {},
   "source": [
    "We can finish the conversation to show that the file has finished changing, we can click Resolve conversation in the comment bar."
   ]
  },
  {
   "cell_type": "markdown",
   "id": "e6074bdf",
   "metadata": {},
   "source": []
  },
  {
   "cell_type": "markdown",
   "id": "7536eab7",
   "metadata": {},
   "source": [
    "![Image](https://storage.googleapis.com/rg-ai-bootcamp/toolkits/conversation-with-resolve-button-min.png)"
   ]
  },
  {
   "cell_type": "markdown",
   "id": "c3f1d65d",
   "metadata": {},
   "source": [
    "Resolve conversation button (source: docs.github.com)"
   ]
  },
  {
   "cell_type": "markdown",
   "id": "772ef98f",
   "metadata": {},
   "source": [
    "All conversations will be collapsed and marked as resolved, making it easier to find conversations that still need to be addressed."
   ]
  },
  {
   "cell_type": "markdown",
   "id": "964faaa9",
   "metadata": {},
   "source": []
  },
  {
   "cell_type": "markdown",
   "id": "92aca002",
   "metadata": {},
   "source": [
    "![Image](https://storage.googleapis.com/rg-ai-bootcamp/toolkits/resolved-conversation-min.png)"
   ]
  },
  {
   "cell_type": "markdown",
   "id": "bf2ca3f4",
   "metadata": {},
   "source": [
    "Resolved conversation (source: docs.github.com)"
   ]
  },
  {
   "cell_type": "markdown",
   "id": "96f9c4e3",
   "metadata": {},
   "source": [
    "# Discovering and navigating conversations"
   ]
  },
  {
   "cell_type": "markdown",
   "id": "29a63bc9",
   "metadata": {},
   "source": [
    "We can find and navigate to all conversations using the Conversations menu displayed on the Files changed tab."
   ]
  },
  {
   "cell_type": "markdown",
   "id": "216e00ce",
   "metadata": {},
   "source": [
    "From this view, we can see which conversations are unresolved, resolved, and outdated. This makes it easier for us to find and complete conversations."
   ]
  },
  {
   "cell_type": "markdown",
   "id": "a69079fb",
   "metadata": {},
   "source": [
    " Conversation menu (source: docs.github.com)"
   ]
  },
  {
   "cell_type": "markdown",
   "id": "c910f974",
   "metadata": {},
   "source": [
    "![Image](https://storage.googleapis.com/rg-ai-bootcamp/toolkits/conversations-menu-min.png)"
   ]
  },
  {
   "cell_type": "markdown",
   "id": "44816437",
   "metadata": {},
   "source": [
    "# Re-requesting a review"
   ]
  },
  {
   "cell_type": "markdown",
   "id": "25f31cb8",
   "metadata": {},
   "source": [
    "We can request a review after we make changes. To do this, on the sidebar tab Conversation, click  (icon)."
   ]
  },
  {
   "cell_type": "markdown",
   "id": "86935a18",
   "metadata": {},
   "source": [
    "![Image](https://storage.googleapis.com/rg-ai-bootcamp/toolkits/re-review-icon.png)"
   ]
  },
  {
   "cell_type": "markdown",
   "id": "cb454f16",
   "metadata": {},
   "source": []
  },
  {
   "cell_type": "markdown",
   "id": "053bee66",
   "metadata": {},
   "source": [
    "![Image](https://storage.googleapis.com/rg-ai-bootcamp/toolkits/re-review-min.png)"
   ]
  },
  {
   "cell_type": "markdown",
   "id": "b9c17201",
   "metadata": {},
   "source": [
    "For more details on how we comment on PRs we can see the documentation: Commenting on a pull request."
   ]
  },
  {
   "cell_type": "markdown",
   "id": "607561d0",
   "metadata": {},
   "source": [
    "# Organization"
   ]
  },
  {
   "cell_type": "markdown",
   "id": "72d9adb8",
   "metadata": {},
   "source": [
    "# What is the organization in Github?"
   ]
  },
  {
   "cell_type": "markdown",
   "id": "b8856ee4",
   "metadata": {},
   "source": [
    "Organizations on Github are shared accounts where businesses and open-source projects collaborate with multiple projects at once. Owner and Administrator can manage member access to data and organizations with advanced security and administrative features."
   ]
  },
  {
   "cell_type": "markdown",
   "id": "8c7e8e13",
   "metadata": {},
   "source": [
    "Everyone who uses GitHub can use their account to create an organization. These organizations include:"
   ]
  },
  {
   "cell_type": "markdown",
   "id": "812d1e12",
   "metadata": {},
   "source": [
    "- Unlimited membership with multiple roles providing varying levels of access to the organization and its data\n",
    "- Ability to grant members various access permissions to repositories in the organization\n",
    "- Create teams to reflect a company or group structure with tiered access permissions"
   ]
  },
  {
   "cell_type": "markdown",
   "id": "4adb8e50",
   "metadata": {},
   "source": [
    "All organizations can have both public and private repositories."
   ]
  },
  {
   "cell_type": "markdown",
   "id": "2e303fc0",
   "metadata": {},
   "source": [
    "# Create an organization in Github"
   ]
  },
  {
   "cell_type": "markdown",
   "id": "44981411",
   "metadata": {},
   "source": [
    "How to create an organization is quite easy, we can follow these steps:"
   ]
  },
  {
   "cell_type": "markdown",
   "id": "4f85e9e9",
   "metadata": {},
   "source": [
    "# Accessing your organization’s settings"
   ]
  },
  {
   "cell_type": "markdown",
   "id": "34154bd8",
   "metadata": {},
   "source": [
    "The organization’s account settings page provides several ways to manage accounts, such as billing, team membership and repository settings."
   ]
  },
  {
   "cell_type": "markdown",
   "id": "b6c43a75",
   "metadata": {},
   "source": [
    "There are more information there that can be customized for your Organization."
   ]
  }
 ],
 "metadata": {},
 "nbformat": 4,
 "nbformat_minor": 5
}
