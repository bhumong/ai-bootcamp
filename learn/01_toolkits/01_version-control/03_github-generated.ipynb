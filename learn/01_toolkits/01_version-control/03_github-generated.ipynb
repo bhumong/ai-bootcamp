{
 "cells": [
  {
   "cell_type": "markdown",
   "id": "dbef8b1d",
   "metadata": {},
   "source": [
    "source: [https://ai-bootcamp.ruangguru.com/learn/01_toolkits/01_version-control/03_github.html](https://ai-bootcamp.ruangguru.com/learn/01_toolkits/01_version-control/03_github.html)"
   ]
  },
  {
   "cell_type": "markdown",
   "id": "4e8385d3",
   "metadata": {},
   "source": [
    "# Github"
   ]
  },
  {
   "cell_type": "markdown",
   "id": "bcf67f8c",
   "metadata": {},
   "source": []
  },
  {
   "cell_type": "markdown",
   "id": "7c70c17c",
   "metadata": {},
   "source": [
    "![Image](https://storage.googleapis.com/rg-ai-bootcamp/toolkits/github-theme-min.png)"
   ]
  },
  {
   "cell_type": "markdown",
   "id": "15bc537e",
   "metadata": {},
   "source": [
    "Github (Source: github.githubassets.com)"
   ]
  },
  {
   "cell_type": "markdown",
   "id": "166336e8",
   "metadata": {},
   "source": [
    "# What is Github?"
   ]
  },
  {
   "cell_type": "markdown",
   "id": "a8e8e5f3",
   "metadata": {},
   "source": [
    "GitHub is a special developer platform created because it was inspired by the way programmers work. From open source to business, we can review code, manage projects, and build software with more than 56 million users worldwide."
   ]
  },
  {
   "cell_type": "markdown",
   "id": "5831a7fd",
   "metadata": {},
   "source": [
    "Simply put, GitHub is a project management, version control system (VCS), as well as a social network platform for developers all over the world."
   ]
  },
  {
   "cell_type": "markdown",
   "id": "9ee70add",
   "metadata": {},
   "source": [
    "# Why do we need Github?"
   ]
  },
  {
   "cell_type": "markdown",
   "id": "00d46144",
   "metadata": {},
   "source": [
    "# 1. Facilitate collaboration on project work"
   ]
  },
  {
   "cell_type": "markdown",
   "id": "79fd8e94",
   "metadata": {},
   "source": [
    "Github’s main function is to facilitate online collaboration when working on a project. With distributed version control, all developers or team members can manage code in one place. For example, conducting joint code reviews, bug fix discussions, and so on."
   ]
  },
  {
   "cell_type": "markdown",
   "id": "d6821fe1",
   "metadata": {},
   "source": [
    "Apart from that, GitHub also provides a project management feature in the form of a Kanban board like Trello (more details about Kanban here. This feature is certainly very useful for those who have many projects. Because, we can more easily determine work priority, manage workflow, and see the progress of the project."
   ]
  },
  {
   "cell_type": "markdown",
   "id": "85e883b4",
   "metadata": {},
   "source": []
  },
  {
   "cell_type": "markdown",
   "id": "ec750b2a",
   "metadata": {},
   "source": [
    "![Image](https://storage.googleapis.com/rg-ai-bootcamp/toolkits/project-board-basic-kanban-template.png)"
   ]
  },
  {
   "cell_type": "markdown",
   "id": "143a0a5c",
   "metadata": {},
   "source": [
    "Github Portfolio (Source: docs.github.com)"
   ]
  },
  {
   "cell_type": "markdown",
   "id": "6d3c2ec2",
   "metadata": {},
   "source": [
    "# 2. As a portfolio for developers"
   ]
  },
  {
   "cell_type": "markdown",
   "id": "96632cc8",
   "metadata": {},
   "source": [
    "Github also functions as a portfolio for developers."
   ]
  },
  {
   "cell_type": "markdown",
   "id": "940a1cc8",
   "metadata": {},
   "source": []
  },
  {
   "cell_type": "markdown",
   "id": "efd4453e",
   "metadata": {},
   "source": [
    "![Image](https://storage.googleapis.com/rg-ai-bootcamp/toolkits/github-folio-min.png)"
   ]
  },
  {
   "cell_type": "markdown",
   "id": "fb08e3d0",
   "metadata": {},
   "source": [
    "Github Portfolio (Source: camo.githubusercontent.com)"
   ]
  },
  {
   "cell_type": "markdown",
   "id": "f9f51330",
   "metadata": {},
   "source": [
    "On GitHub, we can set the projects we are working on to be displayed publicly. This will show our abilities as professionals."
   ]
  },
  {
   "cell_type": "markdown",
   "id": "4cafe942",
   "metadata": {},
   "source": [
    "That way, prospective clients or targeted companies can immediately see our work and contributions to various projects according to our expertise."
   ]
  },
  {
   "cell_type": "markdown",
   "id": "1cd731b8",
   "metadata": {},
   "source": [
    "# Create Github Account"
   ]
  },
  {
   "cell_type": "markdown",
   "id": "06de6000",
   "metadata": {},
   "source": [
    "We can create a Github account for free here. Follow the steps and we are ready to discuss more about Github."
   ]
  },
  {
   "cell_type": "markdown",
   "id": "bb122aa6",
   "metadata": {},
   "source": [
    "# Repository"
   ]
  },
  {
   "cell_type": "markdown",
   "id": "5f734ab5",
   "metadata": {},
   "source": [
    "# Remote Repository"
   ]
  },
  {
   "cell_type": "markdown",
   "id": "0fb3c482",
   "metadata": {},
   "source": [
    "- Local repository: Git repository stored on our computer.\n",
    "- Remote repository: Git repository stored on theserver."
   ]
  },
  {
   "cell_type": "markdown",
   "id": "4533110a",
   "metadata": {},
   "source": [
    "For our lesson now, we will put our remote repository on a Github server."
   ]
  },
  {
   "cell_type": "markdown",
   "id": "7ac95ac1",
   "metadata": {},
   "source": [
    "# Create a repository in Github"
   ]
  },
  {
   "cell_type": "markdown",
   "id": "83138031",
   "metadata": {},
   "source": [
    "We can create a new remote repository on our Github by:"
   ]
  },
  {
   "cell_type": "markdown",
   "id": "40a2f32c",
   "metadata": {},
   "source": [
    "When finished, click the Create repository button. So our Github repository has been created and is ready to be used to store projects and collaborate with our team."
   ]
  },
  {
   "cell_type": "markdown",
   "id": "3134bd48",
   "metadata": {},
   "source": [
    "# Auth Github"
   ]
  },
  {
   "cell_type": "markdown",
   "id": "90b103f5",
   "metadata": {},
   "source": [
    "To keep your Github account secure, we must authenticate before we can access certain resources on Github. Github has several different authentication modes, namely:"
   ]
  },
  {
   "cell_type": "markdown",
   "id": "f1a94d0c",
   "metadata": {},
   "source": [
    "- SSH keys\n",
    "- Personal access token\n",
    "- Username and password with two-factor authentication"
   ]
  },
  {
   "cell_type": "markdown",
   "id": "4de3ebe2",
   "metadata": {},
   "source": [
    "Here we will learn more about authentication with SSH keys"
   ]
  },
  {
   "cell_type": "markdown",
   "id": "9869fcc8",
   "metadata": {},
   "source": [
    "# SSH Key"
   ]
  },
  {
   "cell_type": "markdown",
   "id": "fc84bc92",
   "metadata": {},
   "source": [
    "SSH (Secure Shell) is a transfer protocol that allows users to control a device remote or from a distance via an internet connection securely. So we can connect to Github to access and manage our repositories without providing username and personal access token in every Git command we run."
   ]
  },
  {
   "cell_type": "markdown",
   "id": "74b63439",
   "metadata": {},
   "source": [
    "# Generate SSH key"
   ]
  },
  {
   "cell_type": "markdown",
   "id": "0be1bd62",
   "metadata": {},
   "source": [
    "Open the Linux terminal or WSL for Windows users."
   ]
  },
  {
   "cell_type": "markdown",
   "id": "92f60fb9",
   "metadata": {},
   "source": [
    "Follow the commands below:"
   ]
  },
  {
   "cell_type": "code",
   "execution_count": null,
   "id": "846ee62c",
   "metadata": {},
   "outputs": [],
   "source": [
    "> ssh-keygen -t ed25519 -C \"[email protected]\" # IMPORTANT: Replace with your email\n",
    "Generating public/private algorithm key pairs.\n",
    "Enter file in which to save the key (/home/user/.ssh/id_ed25519): # [Press enter]\n",
    "Enter passphrase (empty for no passphrase): # [Type a password]\n",
    "Enter same passphrase again: # [Type password again]"
   ]
  },
  {
   "cell_type": "markdown",
   "id": "749f2163",
   "metadata": {},
   "source": [
    "# Adding your SSH key to the ssh-agent"
   ]
  },
  {
   "cell_type": "markdown",
   "id": "2cb214b9",
   "metadata": {},
   "source": [
    "ssh-agent is a program that manages SSH keys and remembers our password. So we don’t need to re-enter the password every time we use SSH key, just follow the steps below:"
   ]
  },
  {
   "cell_type": "markdown",
   "id": "a644dd01",
   "metadata": {},
   "source": [
    "Open the Linux terminal or WSL for Windows users."
   ]
  },
  {
   "cell_type": "markdown",
   "id": "e10db780",
   "metadata": {},
   "source": [
    "Follow the steps below:"
   ]
  },
  {
   "cell_type": "code",
   "execution_count": null,
   "id": "5f203507",
   "metadata": {},
   "outputs": [],
   "source": [
    "> eval \"$(ssh-agent -s)\" # ensure ssh-agent is running\n",
    "Agent pid 59566\n",
    "> ssh-add ~/.ssh/id_ed25519 # add our SSH key to ssh-agent\n",
    "Enter passphrase for /home/user/.ssh/id_ed25519: # [Type SSH key password]\n",
    "Identity added: /home/user/.ssh/id_ed25519 ([email protected])"
   ]
  },
  {
   "cell_type": "markdown",
   "id": "8df75597",
   "metadata": {},
   "source": [
    "# Add SSH key to Github"
   ]
  },
  {
   "cell_type": "markdown",
   "id": "4b1facd1",
   "metadata": {},
   "source": [
    "So that Github can accept connections from our computer, we need to add the SSH key that we generated earlier to our Github account."
   ]
  },
  {
   "cell_type": "markdown",
   "id": "1e083606",
   "metadata": {},
   "source": [
    "Copy the SSH public key to the clipboard."
   ]
  },
  {
   "cell_type": "code",
   "execution_count": null,
   "id": "bda9a9eb",
   "metadata": {},
   "outputs": [],
   "source": [
    "> clip < ~/.ssh/id_ed25519.pub # Copy the contents of the id_ed25519.pub file to the clipboard"
   ]
  },
  {
   "cell_type": "markdown",
   "id": "d76a1ab7",
   "metadata": {},
   "source": [
    "Note: If clip doesn’t work, read the contents of the file with the command cat ~/.ssh/id_ed25519.pub then copy the contents of the file."
   ]
  },
  {
   "cell_type": "markdown",
   "id": "3eec761e",
   "metadata": {},
   "source": [
    "In the top right corner of any page, click your profile photo, then click Settings."
   ]
  },
  {
   "cell_type": "markdown",
   "id": "a7132abf",
   "metadata": {},
   "source": [
    "In the “Access” section of the sidebar, click 🔑 SSH and GPG keys."
   ]
  },
  {
   "cell_type": "markdown",
   "id": "6b80d21a",
   "metadata": {},
   "source": [
    "Click New SSH key or Add SSH key."
   ]
  },
  {
   "cell_type": "markdown",
   "id": "f57cceae",
   "metadata": {},
   "source": [
    "In the “Title” field, add a title for the new key. This title can be filled in with the name of your device or other identification that is easy to distinguish."
   ]
  },
  {
   "cell_type": "markdown",
   "id": "b0814024",
   "metadata": {},
   "source": [
    "Paste the key that has been generated into the “Key” field."
   ]
  },
  {
   "cell_type": "markdown",
   "id": "bc2ae73e",
   "metadata": {},
   "source": [
    "Click Add SSH key."
   ]
  },
  {
   "cell_type": "markdown",
   "id": "7d8ea25a",
   "metadata": {},
   "source": [
    "If prompted, confirm your Github password."
   ]
  },
  {
   "cell_type": "markdown",
   "id": "a393bc1c",
   "metadata": {},
   "source": [
    "# Pull and Push"
   ]
  },
  {
   "cell_type": "markdown",
   "id": "35143690",
   "metadata": {},
   "source": [
    "# What are git pull and git push?"
   ]
  },
  {
   "cell_type": "markdown",
   "id": "8d64803e",
   "metadata": {},
   "source": [
    "- git pull: a command totakeallcommitsinremote branchand merge each commit withlocal branch.\n",
    "- git push: a command touploadallcommitsinlocal branchtoremote branch."
   ]
  },
  {
   "cell_type": "markdown",
   "id": "ff983153",
   "metadata": {},
   "source": [
    "By default, git push and git pull only perform operations on the current branch. So, it’s best to use the git status command to see which branch we are in before doing git push or git pull."
   ]
  },
  {
   "cell_type": "markdown",
   "id": "21bf2f45",
   "metadata": {},
   "source": [
    "# How to Use git pull"
   ]
  },
  {
   "cell_type": "markdown",
   "id": "1640ea01",
   "metadata": {},
   "source": [
    "The git pull command is:"
   ]
  },
  {
   "cell_type": "code",
   "execution_count": null,
   "id": "b355d76e",
   "metadata": {},
   "outputs": [],
   "source": [
    "> git pull"
   ]
  },
  {
   "cell_type": "markdown",
   "id": "489147ad",
   "metadata": {},
   "source": [
    "# Example of using git pull"
   ]
  },
  {
   "cell_type": "markdown",
   "id": "826813d7",
   "metadata": {},
   "source": [
    "For example, on another computer that has the same repository, we haven’t gotten the update commit with the message “docs: add guide notes” that we push before."
   ]
  },
  {
   "cell_type": "code",
   "execution_count": null,
   "id": "78c78735",
   "metadata": {},
   "outputs": [],
   "source": [
    "> git log --oneline\n",
    "71efdaa (HEAD -> main, origin/main) docs: add ideation\n",
    "5dfaf0b docs: add README.md"
   ]
  },
  {
   "cell_type": "markdown",
   "id": "985ed634",
   "metadata": {},
   "source": [
    "So do git pull to get the update:"
   ]
  },
  {
   "cell_type": "code",
   "execution_count": null,
   "id": "367279a6",
   "metadata": {},
   "outputs": [],
   "source": [
    "> git pull\n",
    "> git log --oneline\n",
    "a144815 (HEAD -> main, origin/main) docs: add guide notes\n",
    "71efdaa docs: add ideation\n",
    "5dfaf0b docs: add README.md"
   ]
  },
  {
   "cell_type": "markdown",
   "id": "3c18eecd",
   "metadata": {},
   "source": [
    "So you can see that there is an additional commit with the message “docs: add guide notes”."
   ]
  },
  {
   "cell_type": "markdown",
   "id": "1c488d1c",
   "metadata": {},
   "source": [
    "# How to Use git push"
   ]
  },
  {
   "cell_type": "markdown",
   "id": "ce56e6ec",
   "metadata": {},
   "source": [
    "It is recommended to run the git pull command before starting to make changes. This will update our local branch with all new commits that other contributors may have made."
   ]
  },
  {
   "cell_type": "markdown",
   "id": "ca5fa517",
   "metadata": {},
   "source": [
    "Commonly used git push commands are:"
   ]
  },
  {
   "cell_type": "markdown",
   "id": "0f5e8e0a",
   "metadata": {},
   "source": [
    "- Push to specific remotes andbranches>gitpush<remote name><branch name>Example:>gitpushorigin mainWe can also ensure that every time we do apushit always goes tothe same remote, by running the command:gitpush-u<remote name><branch name>So after we rungit pushwith the-uoption, we simply rungit pushwithout having to provide the remote andbranchnames again.Example:>gitpush-uorigin main>gitpush# here we don't need to provide the remote and branch name anymore\n",
    "- Push allbranches>gitpush--all"
   ]
  },
  {
   "cell_type": "markdown",
   "id": "1ef5b527",
   "metadata": {},
   "source": [
    "Push to specific remotes and branches"
   ]
  },
  {
   "cell_type": "code",
   "execution_count": null,
   "id": "208311d8",
   "metadata": {},
   "outputs": [],
   "source": [
    "> git push <remote name> <branch name>"
   ]
  },
  {
   "cell_type": "markdown",
   "id": "6d96a277",
   "metadata": {},
   "source": [
    "Example:"
   ]
  },
  {
   "cell_type": "code",
   "execution_count": null,
   "id": "b2753ce1",
   "metadata": {},
   "outputs": [],
   "source": [
    "> git push origin main"
   ]
  },
  {
   "cell_type": "markdown",
   "id": "abcb855a",
   "metadata": {},
   "source": [
    "We can also ensure that every time we do a push it always goes to the same remote, by running the command:"
   ]
  },
  {
   "cell_type": "code",
   "execution_count": null,
   "id": "04401b5b",
   "metadata": {},
   "outputs": [],
   "source": [
    "git push -u <remote name> <branch name>"
   ]
  },
  {
   "cell_type": "markdown",
   "id": "4b4c881f",
   "metadata": {},
   "source": [
    "So after we run git push with the -u option, we simply run git push without having to provide the remote and branch names again."
   ]
  },
  {
   "cell_type": "markdown",
   "id": "5d1ae87e",
   "metadata": {},
   "source": [
    "Example:"
   ]
  },
  {
   "cell_type": "code",
   "execution_count": null,
   "id": "4c57415f",
   "metadata": {},
   "outputs": [],
   "source": [
    "> git push -u origin main\n",
    "> git push # here we don't need to provide the remote and branch name anymore"
   ]
  },
  {
   "cell_type": "markdown",
   "id": "876b40d7",
   "metadata": {},
   "source": [
    "Push all branches"
   ]
  },
  {
   "cell_type": "code",
   "execution_count": null,
   "id": "96c1d8ae",
   "metadata": {},
   "outputs": [],
   "source": [
    "> git push --all"
   ]
  },
  {
   "cell_type": "markdown",
   "id": "96902fd4",
   "metadata": {},
   "source": [
    "# Example of using git push"
   ]
  },
  {
   "cell_type": "markdown",
   "id": "71dd4c0d",
   "metadata": {},
   "source": [
    " Commits that exist in the remote repository before being pushed"
   ]
  },
  {
   "cell_type": "markdown",
   "id": "3493421f",
   "metadata": {},
   "source": [
    "![Image](https://storage.googleapis.com/rg-ai-bootcamp/toolkits/training-kit-second-commit-min.png)"
   ]
  },
  {
   "cell_type": "code",
   "execution_count": null,
   "id": "72ec49d0",
   "metadata": {},
   "outputs": [],
   "source": [
    "> git log --oneline\n",
    "a144815 (HEAD -> main) docs: add guide notes\n",
    "71efdaa (origin/main) docs: add ideation\n",
    "5dfaf0b docs: add README.md"
   ]
  },
  {
   "cell_type": "markdown",
   "id": "b0cba67b",
   "metadata": {},
   "source": [
    "We see that between the screenshot and the log above, there is one commit that is not yet in the remote (“docs: add guide notes”)."
   ]
  },
  {
   "cell_type": "markdown",
   "id": "db21f5bd",
   "metadata": {},
   "source": [
    "Now try executing the git push command."
   ]
  },
  {
   "cell_type": "code",
   "execution_count": null,
   "id": "9feb3ab3",
   "metadata": {},
   "outputs": [],
   "source": [
    "> git push\n",
    "> git log --oneline\n",
    "a144815 (HEAD -> main, origin/main) docs: add guide notes # now this commit is in the remote repository\n",
    "71efdaa docs: add ideation\n",
    "5dfaf0b docs: add README.md"
   ]
  },
  {
   "cell_type": "markdown",
   "id": "17254c63",
   "metadata": {},
   "source": []
  },
  {
   "cell_type": "markdown",
   "id": "ed0c0d5e",
   "metadata": {},
   "source": [
    "![Image](https://storage.googleapis.com/rg-ai-bootcamp/toolkits/training-kit-third-commit-min.png)"
   ]
  },
  {
   "cell_type": "markdown",
   "id": "7412ab57",
   "metadata": {},
   "source": [
    "It can be seen that our commit has been successfully push to the remote repository."
   ]
  },
  {
   "cell_type": "markdown",
   "id": "0921913e",
   "metadata": {},
   "source": [
    "So that’s how we collaborate using remote repositories."
   ]
  },
  {
   "cell_type": "markdown",
   "id": "eabd014d",
   "metadata": {},
   "source": [
    "# Clone"
   ]
  },
  {
   "cell_type": "markdown",
   "id": "46fac01a",
   "metadata": {},
   "source": [
    "# What is git clone?"
   ]
  },
  {
   "cell_type": "markdown",
   "id": "48e9547f",
   "metadata": {},
   "source": [
    "The git clone command is used to make a copy of a particular repository from a remote repository to our local computer."
   ]
  },
  {
   "cell_type": "markdown",
   "id": "1e9a9502",
   "metadata": {},
   "source": [
    "Cloning will copy the entire remote repository, including all files, commit and branch."
   ]
  },
  {
   "cell_type": "markdown",
   "id": "7ffd5c94",
   "metadata": {},
   "source": [
    "# How to Use git clone"
   ]
  },
  {
   "cell_type": "markdown",
   "id": "3d6b4490",
   "metadata": {},
   "source": [
    "The way to do cloning is:"
   ]
  },
  {
   "cell_type": "markdown",
   "id": "6b1960ef",
   "metadata": {},
   "source": [
    "On GitHub.com, navigate to the main page of the repository to be_cloned_."
   ]
  },
  {
   "cell_type": "markdown",
   "id": "0c4aa08e",
   "metadata": {},
   "source": [
    "Above the file list, click ⤓ Code."
   ]
  },
  {
   "cell_type": "markdown",
   "id": "df7dec31",
   "metadata": {},
   "source": []
  },
  {
   "cell_type": "markdown",
   "id": "31a7d283",
   "metadata": {},
   "source": [
    "![Image](https://storage.googleapis.com/rg-ai-bootcamp/toolkits/code-button-clone-min.png)"
   ]
  },
  {
   "cell_type": "markdown",
   "id": "dbb17e1b",
   "metadata": {},
   "source": [
    "Select the SSH tab to copy the repository url and clone the repository with the SSH protocol:"
   ]
  },
  {
   "cell_type": "markdown",
   "id": "86e83818",
   "metadata": {},
   "source": [
    "Open the Linux terminal or WSL on Windows."
   ]
  },
  {
   "cell_type": "markdown",
   "id": "df40e398",
   "metadata": {},
   "source": [
    "Change the current folder to where we will save the clone."
   ]
  },
  {
   "cell_type": "markdown",
   "id": "04ffa5cf",
   "metadata": {},
   "source": [
    "Type git clone, then paste the remote URL you copied earlier and press Enter."
   ]
  },
  {
   "cell_type": "code",
   "execution_count": null,
   "id": "be854cee",
   "metadata": {},
   "outputs": [],
   "source": [
    "> git clone [email protected]:ruang-guru/playground.git\n",
    "Cloning into `playground`...\n",
    "remote: Counting objects: 10, done.\n",
    "remote: Compressing objects: 100% (8/8), done.\n",
    "remove: Total 10 (delta 1), reused 10 (delta 1)\n",
    "Unpacking objects: 100% (10/10), done."
   ]
  },
  {
   "cell_type": "markdown",
   "id": "d1b58c98",
   "metadata": {},
   "source": [
    "We can see the cloned remote URL with the command git remote -v:"
   ]
  },
  {
   "cell_type": "code",
   "execution_count": null,
   "id": "a20f9e03",
   "metadata": {},
   "outputs": [],
   "source": [
    "> git remote -v\n",
    "origin [email protected]:ruang-guru/playground.git (fetch)\n",
    "origin [email protected]:ruang-guru/playground.git (push)"
   ]
  },
  {
   "cell_type": "markdown",
   "id": "8056b836",
   "metadata": {},
   "source": [
    "Notice that we now have a clone repository located in folder playground: bash     > ls playground     README.md frontend introduction-to-programming     ..."
   ]
  },
  {
   "cell_type": "markdown",
   "id": "37e55da3",
   "metadata": {},
   "source": [
    "Now we can use the repository on the local computer and change it as needed."
   ]
  },
  {
   "cell_type": "markdown",
   "id": "7f9183ff",
   "metadata": {},
   "source": [
    "# Collaboration"
   ]
  },
  {
   "cell_type": "markdown",
   "id": "fb0117d4",
   "metadata": {},
   "source": [
    "Collaborative development models are divided into 2, namely:"
   ]
  },
  {
   "cell_type": "markdown",
   "id": "048844a1",
   "metadata": {},
   "source": [
    "Fork and pull model: we do not need permission from the repository owner to push and changes are submitted by making a pull request from the fork to the original repository."
   ]
  },
  {
   "cell_type": "markdown",
   "id": "0303aadc",
   "metadata": {},
   "source": [
    "Shared repository model: collaborators are given push access to one repository and branches are created when changes need to be made, pull requests are made to review changes that have been made."
   ]
  },
  {
   "cell_type": "markdown",
   "id": "0cd73e94",
   "metadata": {},
   "source": [
    "# Git Flow"
   ]
  },
  {
   "cell_type": "markdown",
   "id": "3045fa97",
   "metadata": {},
   "source": [
    "Collaborating on Github requires us to discuss with other people every change that occurs. Usually the journey is as follows:"
   ]
  },
  {
   "cell_type": "markdown",
   "id": "d9f7edb4",
   "metadata": {},
   "source": [
    "- Create a branch: creates abranchso we can make changes without disturbing theflowof themain branch.\n",
    "- Make changes:commitandpushchanges made tobranchuntil ready to requestfeedback.\n",
    "- Create a Pull Request: to requestfeedbackfrom collaborators about the changes we make.\n",
    "- Address review comments: the reviewer makesquestions,comments, andsuggestionson the changes made and continues tocommitandpushin response to the review results.\n",
    "- Merge your Pull Request: after the Pull Request isapproved, domergethe Pull Request that we created.\n",
    "- Delete your branch: indicates that work inbranchhas been completed."
   ]
  },
  {
   "cell_type": "markdown",
   "id": "df8493f9",
   "metadata": {},
   "source": [
    "# Pull Request"
   ]
  },
  {
   "cell_type": "markdown",
   "id": "4b702c3f",
   "metadata": {},
   "source": [
    "PR (Pull Request) is a request to add changes to Github. When making homework, make a summary of the changes and issue to be solved, you can use images, links, or tables."
   ]
  },
  {
   "cell_type": "markdown",
   "id": "cbdccf91",
   "metadata": {},
   "source": [
    " PR Body (source: docs.github.com)"
   ]
  },
  {
   "cell_type": "markdown",
   "id": "182ccef0",
   "metadata": {},
   "source": [
    "![Image](https://storage.googleapis.com/rg-ai-bootcamp/toolkits/pull-request-body-min.png)"
   ]
  },
  {
   "cell_type": "markdown",
   "id": "9359be90",
   "metadata": {},
   "source": [
    "We can also add comments to certain lines to indicate something to the reviewer."
   ]
  },
  {
   "cell_type": "markdown",
   "id": "a55ba32d",
   "metadata": {},
   "source": [
    " PR comment (source: docs.github.com)"
   ]
  },
  {
   "cell_type": "markdown",
   "id": "2856d5f2",
   "metadata": {},
   "source": [
    "![Image](https://storage.googleapis.com/rg-ai-bootcamp/toolkits/pull-request-comment-min.png)"
   ]
  },
  {
   "cell_type": "markdown",
   "id": "05731911",
   "metadata": {},
   "source": [
    "# Creating a pull request"
   ]
  },
  {
   "cell_type": "markdown",
   "id": "9b9f18b0",
   "metadata": {},
   "source": [
    "- We can create a PR (Pull Request) by following the documentation:Creating a pull request.\n",
    "- We can also create a PR forforkby following the documentation:Creating a Pull Request from a Fork."
   ]
  },
  {
   "cell_type": "markdown",
   "id": "78dcf933",
   "metadata": {},
   "source": [
    "We can create a PR (Pull Request) by following the documentation: Creating a pull request."
   ]
  },
  {
   "cell_type": "markdown",
   "id": "74784f01",
   "metadata": {},
   "source": [
    "We can also create a PR for fork by following the documentation: Creating a Pull Request from a Fork."
   ]
  },
  {
   "cell_type": "markdown",
   "id": "75997ba2",
   "metadata": {},
   "source": [
    "# PR Review"
   ]
  },
  {
   "cell_type": "markdown",
   "id": "4dcd1724",
   "metadata": {},
   "source": [
    "Review is the activity of commenting on proposed changes, approving changes, or requesting changes before a PR is merged."
   ]
  },
  {
   "cell_type": "markdown",
   "id": "8fc555a5",
   "metadata": {},
   "source": [
    " Review with comment (source: docs.github.com)"
   ]
  },
  {
   "cell_type": "markdown",
   "id": "ad0f6bd0",
   "metadata": {},
   "source": [
    "![Image](https://storage.googleapis.com/rg-ai-bootcamp/toolkits/review-header-with-line-comment-min.png)"
   ]
  },
  {
   "cell_type": "markdown",
   "id": "d3ec5968",
   "metadata": {},
   "source": [
    "# Status Review"
   ]
  },
  {
   "cell_type": "markdown",
   "id": "d7d9ea9b",
   "metadata": {},
   "source": [
    "A review has three possible status, namely:"
   ]
  },
  {
   "cell_type": "markdown",
   "id": "f3595a26",
   "metadata": {},
   "source": [
    "- Comment: providefeedbackwithout agreeing to changes or requesting additional changes.\n",
    "- Approve: providesfeedbackand approves the incorporation of proposed changes.\n",
    "- Request changes: providesfeedbackthat must be addressed before changes can be merged."
   ]
  },
  {
   "cell_type": "markdown",
   "id": "08edaa32",
   "metadata": {},
   "source": []
  },
  {
   "cell_type": "markdown",
   "id": "bfe11b69",
   "metadata": {},
   "source": [
    "![Image](https://storage.googleapis.com/rg-ai-bootcamp/toolkits/pull-request-review-statuses-min.png)"
   ]
  },
  {
   "cell_type": "markdown",
   "id": "7f1e18c9",
   "metadata": {},
   "source": [
    "PR statuses (source: ocs.github.com)"
   ]
  },
  {
   "cell_type": "markdown",
   "id": "c5b4e75a",
   "metadata": {},
   "source": [
    "We can see all reviews in the Conversation timeline tab, and we can see reviews by collaborators in Pull Request’s merge box."
   ]
  },
  {
   "cell_type": "markdown",
   "id": "2a856f0c",
   "metadata": {},
   "source": []
  },
  {
   "cell_type": "markdown",
   "id": "55bf0ebb",
   "metadata": {},
   "source": [
    "![Image](https://storage.googleapis.com/rg-ai-bootcamp/toolkits/conversation-min.png)"
   ]
  },
  {
   "cell_type": "markdown",
   "id": "dd7d9075",
   "metadata": {},
   "source": [
    "Conversation (source: docs.github.com)"
   ]
  },
  {
   "cell_type": "markdown",
   "id": "ba13c80b",
   "metadata": {},
   "source": []
  },
  {
   "cell_type": "markdown",
   "id": "e36a2d3c",
   "metadata": {},
   "source": [
    "![Image](https://storage.googleapis.com/rg-ai-bootcamp/toolkits/pr-reviews-in-merge-box-min.png)"
   ]
  },
  {
   "cell_type": "markdown",
   "id": "a8cf734e",
   "metadata": {},
   "source": [
    "Review in merge box (source: docs.github.com)"
   ]
  },
  {
   "cell_type": "markdown",
   "id": "67df9f3a",
   "metadata": {},
   "source": [
    "# Resolving conversations"
   ]
  },
  {
   "cell_type": "markdown",
   "id": "e71a291c",
   "metadata": {},
   "source": [
    "We can finish the conversation to show that the file has finished changing, we can click Resolve conversation in the comment bar."
   ]
  },
  {
   "cell_type": "markdown",
   "id": "3ce69b68",
   "metadata": {},
   "source": []
  },
  {
   "cell_type": "markdown",
   "id": "404f4868",
   "metadata": {},
   "source": [
    "![Image](https://storage.googleapis.com/rg-ai-bootcamp/toolkits/conversation-with-resolve-button-min.png)"
   ]
  },
  {
   "cell_type": "markdown",
   "id": "d9118ac9",
   "metadata": {},
   "source": [
    "Resolve conversation button (source: docs.github.com)"
   ]
  },
  {
   "cell_type": "markdown",
   "id": "8c0c52ee",
   "metadata": {},
   "source": [
    "All conversations will be collapsed and marked as resolved, making it easier to find conversations that still need to be addressed."
   ]
  },
  {
   "cell_type": "markdown",
   "id": "52699496",
   "metadata": {},
   "source": []
  },
  {
   "cell_type": "markdown",
   "id": "a2be590b",
   "metadata": {},
   "source": [
    "![Image](https://storage.googleapis.com/rg-ai-bootcamp/toolkits/resolved-conversation-min.png)"
   ]
  },
  {
   "cell_type": "markdown",
   "id": "fc5889f8",
   "metadata": {},
   "source": [
    "Resolved conversation (source: docs.github.com)"
   ]
  },
  {
   "cell_type": "markdown",
   "id": "c045e44d",
   "metadata": {},
   "source": [
    "# Discovering and navigating conversations"
   ]
  },
  {
   "cell_type": "markdown",
   "id": "25a87641",
   "metadata": {},
   "source": [
    "We can find and navigate to all conversations using the Conversations menu displayed on the Files changed tab."
   ]
  },
  {
   "cell_type": "markdown",
   "id": "5e151283",
   "metadata": {},
   "source": [
    "From this view, we can see which conversations are unresolved, resolved, and outdated. This makes it easier for us to find and complete conversations."
   ]
  },
  {
   "cell_type": "markdown",
   "id": "2a35af9e",
   "metadata": {},
   "source": [
    " Conversation menu (source: docs.github.com)"
   ]
  },
  {
   "cell_type": "markdown",
   "id": "7706300a",
   "metadata": {},
   "source": [
    "![Image](https://storage.googleapis.com/rg-ai-bootcamp/toolkits/conversations-menu-min.png)"
   ]
  },
  {
   "cell_type": "markdown",
   "id": "cf35e3f5",
   "metadata": {},
   "source": [
    "# Re-requesting a review"
   ]
  },
  {
   "cell_type": "markdown",
   "id": "14912f41",
   "metadata": {},
   "source": [
    "We can request a review after we make changes. To do this, on the sidebar tab Conversation, click  (icon)."
   ]
  },
  {
   "cell_type": "markdown",
   "id": "344944e6",
   "metadata": {},
   "source": [
    "![Image](https://storage.googleapis.com/rg-ai-bootcamp/toolkits/re-review-icon.png)"
   ]
  },
  {
   "cell_type": "markdown",
   "id": "4e4e18d6",
   "metadata": {},
   "source": []
  },
  {
   "cell_type": "markdown",
   "id": "06c94291",
   "metadata": {},
   "source": [
    "![Image](https://storage.googleapis.com/rg-ai-bootcamp/toolkits/re-review-min.png)"
   ]
  },
  {
   "cell_type": "markdown",
   "id": "6471e099",
   "metadata": {},
   "source": [
    "For more details on how we comment on PRs we can see the documentation: Commenting on a pull request."
   ]
  },
  {
   "cell_type": "markdown",
   "id": "646c77d2",
   "metadata": {},
   "source": [
    "# Organization"
   ]
  },
  {
   "cell_type": "markdown",
   "id": "3f4f7a9b",
   "metadata": {},
   "source": [
    "# What is the organization in Github?"
   ]
  },
  {
   "cell_type": "markdown",
   "id": "93e3513e",
   "metadata": {},
   "source": [
    "Organizations on Github are shared accounts where businesses and open-source projects collaborate with multiple projects at once. Owner and Administrator can manage member access to data and organizations with advanced security and administrative features."
   ]
  },
  {
   "cell_type": "markdown",
   "id": "7d5eb3e6",
   "metadata": {},
   "source": [
    "Everyone who uses GitHub can use their account to create an organization. These organizations include:"
   ]
  },
  {
   "cell_type": "markdown",
   "id": "07ceea65",
   "metadata": {},
   "source": [
    "- Unlimited membership with multiple roles providing varying levels of access to the organization and its data\n",
    "- Ability to grant members various access permissions to repositories in the organization\n",
    "- Create teams to reflect a company or group structure with tiered access permissions"
   ]
  },
  {
   "cell_type": "markdown",
   "id": "b8437816",
   "metadata": {},
   "source": [
    "All organizations can have both public and private repositories."
   ]
  },
  {
   "cell_type": "markdown",
   "id": "9fa3131c",
   "metadata": {},
   "source": [
    "# Create an organization in Github"
   ]
  },
  {
   "cell_type": "markdown",
   "id": "c3c8db08",
   "metadata": {},
   "source": [
    "How to create an organization is quite easy, we can follow these steps:"
   ]
  },
  {
   "cell_type": "markdown",
   "id": "78f5ffd6",
   "metadata": {},
   "source": [
    "# Accessing your organization’s settings"
   ]
  },
  {
   "cell_type": "markdown",
   "id": "7359bf2e",
   "metadata": {},
   "source": [
    "The organization’s account settings page provides several ways to manage accounts, such as billing, team membership and repository settings."
   ]
  },
  {
   "cell_type": "markdown",
   "id": "941cb04f",
   "metadata": {},
   "source": [
    "There are more information there that can be customized for your Organization."
   ]
  }
 ],
 "metadata": {},
 "nbformat": 4,
 "nbformat_minor": 5
}
