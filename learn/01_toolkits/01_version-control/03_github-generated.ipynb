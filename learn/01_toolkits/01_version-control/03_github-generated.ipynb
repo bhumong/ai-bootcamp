{
 "cells": [
  {
   "cell_type": "markdown",
   "id": "446da0b7",
   "metadata": {},
   "source": [
    "# Github"
   ]
  },
  {
   "cell_type": "markdown",
   "id": "47a2b03c",
   "metadata": {},
   "source": []
  },
  {
   "cell_type": "markdown",
   "id": "08b2f6cb",
   "metadata": {},
   "source": [
    "Github (Source: github.githubassets.com)"
   ]
  },
  {
   "cell_type": "markdown",
   "id": "b159f88a",
   "metadata": {},
   "source": [
    "# What is Github?"
   ]
  },
  {
   "cell_type": "markdown",
   "id": "8027e7b2",
   "metadata": {},
   "source": [
    "GitHub is a special developer platform created because it was inspired by the way programmers work. From open source to business, we can review code, manage projects, and build software with more than 56 million users worldwide."
   ]
  },
  {
   "cell_type": "markdown",
   "id": "37112fea",
   "metadata": {},
   "source": [
    "Simply put, GitHub is a project management, version control system (VCS), as well as a social network platform for developers all over the world."
   ]
  },
  {
   "cell_type": "markdown",
   "id": "659f80b7",
   "metadata": {},
   "source": [
    "# Why do we need Github?"
   ]
  },
  {
   "cell_type": "markdown",
   "id": "c9219226",
   "metadata": {},
   "source": [
    "# 1. Facilitate collaboration on project work"
   ]
  },
  {
   "cell_type": "markdown",
   "id": "de64355a",
   "metadata": {},
   "source": [
    "Github’s main function is to facilitate online collaboration when working on a project. With distributed version control, all developers or team members can manage code in one place. For example, conducting joint code reviews, bug fix discussions, and so on."
   ]
  },
  {
   "cell_type": "markdown",
   "id": "69c320b8",
   "metadata": {},
   "source": [
    "Apart from that, GitHub also provides a project management feature in the form of a Kanban board like Trello (more details about Kanban here. This feature is certainly very useful for those who have many projects. Because, we can more easily determine work priority, manage workflow, and see the progress of the project."
   ]
  },
  {
   "cell_type": "markdown",
   "id": "2bd72dd5",
   "metadata": {},
   "source": []
  },
  {
   "cell_type": "markdown",
   "id": "1dee3b70",
   "metadata": {},
   "source": [
    "Github Portfolio (Source: docs.github.com)"
   ]
  },
  {
   "cell_type": "markdown",
   "id": "ffb860ee",
   "metadata": {},
   "source": [
    "# 2. As a portfolio for developers"
   ]
  },
  {
   "cell_type": "markdown",
   "id": "afb8fb76",
   "metadata": {},
   "source": [
    "Github also functions as a portfolio for developers."
   ]
  },
  {
   "cell_type": "markdown",
   "id": "5681f53c",
   "metadata": {},
   "source": []
  },
  {
   "cell_type": "markdown",
   "id": "58bc2878",
   "metadata": {},
   "source": [
    "Github Portfolio (Source: camo.githubusercontent.com)"
   ]
  },
  {
   "cell_type": "markdown",
   "id": "a0bf259a",
   "metadata": {},
   "source": [
    "On GitHub, we can set the projects we are working on to be displayed publicly. This will show our abilities as professionals."
   ]
  },
  {
   "cell_type": "markdown",
   "id": "ea44fe8c",
   "metadata": {},
   "source": [
    "That way, prospective clients or targeted companies can immediately see our work and contributions to various projects according to our expertise."
   ]
  },
  {
   "cell_type": "markdown",
   "id": "906908ab",
   "metadata": {},
   "source": [
    "# Create Github Account"
   ]
  },
  {
   "cell_type": "markdown",
   "id": "9b1ffa4e",
   "metadata": {},
   "source": [
    "We can create a Github account for free here. Follow the steps and we are ready to discuss more about Github."
   ]
  },
  {
   "cell_type": "markdown",
   "id": "e3c30886",
   "metadata": {},
   "source": [
    "# Repository"
   ]
  },
  {
   "cell_type": "markdown",
   "id": "43ce38fd",
   "metadata": {},
   "source": [
    "# Remote Repository"
   ]
  },
  {
   "cell_type": "markdown",
   "id": "dd574208",
   "metadata": {},
   "source": [
    "For our lesson now, we will put our remote repository on a Github server."
   ]
  },
  {
   "cell_type": "markdown",
   "id": "ce5b4e0f",
   "metadata": {},
   "source": [
    "# Create a repository in Github"
   ]
  },
  {
   "cell_type": "markdown",
   "id": "c7b040d4",
   "metadata": {},
   "source": [
    "We can create a new remote repository on our Github by:"
   ]
  },
  {
   "cell_type": "markdown",
   "id": "5ad9a7b1",
   "metadata": {},
   "source": [
    "When finished, click the Create repository button. So our Github repository has been created and is ready to be used to store projects and collaborate with our team."
   ]
  },
  {
   "cell_type": "markdown",
   "id": "6d058e44",
   "metadata": {},
   "source": [
    "# Auth Github"
   ]
  },
  {
   "cell_type": "markdown",
   "id": "95fa40b0",
   "metadata": {},
   "source": [
    "To keep your Github account secure, we must authenticate before we can access certain resources on Github. Github has several different authentication modes, namely:"
   ]
  },
  {
   "cell_type": "markdown",
   "id": "e2076c30",
   "metadata": {},
   "source": [
    "Here we will learn more about authentication with SSH keys"
   ]
  },
  {
   "cell_type": "markdown",
   "id": "3924823d",
   "metadata": {},
   "source": [
    "# SSH Key"
   ]
  },
  {
   "cell_type": "markdown",
   "id": "d28787c8",
   "metadata": {},
   "source": [
    "SSH (Secure Shell) is a transfer protocol that allows users to control a device remote or from a distance via an internet connection securely. So we can connect to Github to access and manage our repositories without providing username and personal access token in every Git command we run."
   ]
  },
  {
   "cell_type": "markdown",
   "id": "dd3f7602",
   "metadata": {},
   "source": [
    "# Generate SSH key"
   ]
  },
  {
   "cell_type": "markdown",
   "id": "229b98ee",
   "metadata": {},
   "source": [
    "Open the Linux terminal or WSL for Windows users."
   ]
  },
  {
   "cell_type": "markdown",
   "id": "8a41dd21",
   "metadata": {},
   "source": [
    "Follow the commands below:"
   ]
  },
  {
   "cell_type": "code",
   "execution_count": null,
   "id": "d8fa0e79",
   "metadata": {},
   "outputs": [],
   "source": [
    "> ssh-keygen -t ed25519 -C \"[email protected]\" # IMPORTANT: Replace with your email\n",
    "Generating public/private algorithm key pairs.\n",
    "Enter file in which to save the key (/home/user/.ssh/id_ed25519): # [Press enter]\n",
    "Enter passphrase (empty for no passphrase): # [Type a password]\n",
    "Enter same passphrase again: # [Type password again]"
   ]
  },
  {
   "cell_type": "markdown",
   "id": "0145b22c",
   "metadata": {},
   "source": [
    "# Adding your SSH key to the ssh-agent"
   ]
  },
  {
   "cell_type": "markdown",
   "id": "002d45bc",
   "metadata": {},
   "source": [
    "ssh-agent is a program that manages SSH keys and remembers our password. So we don’t need to re-enter the password every time we use SSH key, just follow the steps below:"
   ]
  },
  {
   "cell_type": "markdown",
   "id": "88b3c6c4",
   "metadata": {},
   "source": [
    "Open the Linux terminal or WSL for Windows users."
   ]
  },
  {
   "cell_type": "markdown",
   "id": "1a770c0d",
   "metadata": {},
   "source": [
    "Follow the steps below:"
   ]
  },
  {
   "cell_type": "code",
   "execution_count": null,
   "id": "5f511c79",
   "metadata": {},
   "outputs": [],
   "source": [
    "> eval \"$(ssh-agent -s)\" # ensure ssh-agent is running\n",
    "Agent pid 59566\n",
    "> ssh-add ~/.ssh/id_ed25519 # add our SSH key to ssh-agent\n",
    "Enter passphrase for /home/user/.ssh/id_ed25519: # [Type SSH key password]\n",
    "Identity added: /home/user/.ssh/id_ed25519 ([email protected])"
   ]
  },
  {
   "cell_type": "markdown",
   "id": "3b36c979",
   "metadata": {},
   "source": [
    "# Add SSH key to Github"
   ]
  },
  {
   "cell_type": "markdown",
   "id": "402355c8",
   "metadata": {},
   "source": [
    "So that Github can accept connections from our computer, we need to add the SSH key that we generated earlier to our Github account."
   ]
  },
  {
   "cell_type": "markdown",
   "id": "e9cab01c",
   "metadata": {},
   "source": [
    "Copy the SSH public key to the clipboard."
   ]
  },
  {
   "cell_type": "code",
   "execution_count": null,
   "id": "5a876479",
   "metadata": {},
   "outputs": [],
   "source": [
    "> clip < ~/.ssh/id_ed25519.pub # Copy the contents of the id_ed25519.pub file to the clipboard"
   ]
  },
  {
   "cell_type": "markdown",
   "id": "dfc8196c",
   "metadata": {},
   "source": [
    "Note: If clip doesn’t work, read the contents of the file with the command cat ~/.ssh/id_ed25519.pub then copy the contents of the file."
   ]
  },
  {
   "cell_type": "markdown",
   "id": "1fd8cd61",
   "metadata": {},
   "source": [
    "In the top right corner of any page, click your profile photo, then click Settings."
   ]
  },
  {
   "cell_type": "markdown",
   "id": "6700643c",
   "metadata": {},
   "source": [
    "In the “Access” section of the sidebar, click 🔑 SSH and GPG keys."
   ]
  },
  {
   "cell_type": "markdown",
   "id": "a123d1c3",
   "metadata": {},
   "source": [
    "Click New SSH key or Add SSH key."
   ]
  },
  {
   "cell_type": "markdown",
   "id": "bca833a9",
   "metadata": {},
   "source": [
    "In the “Title” field, add a title for the new key. This title can be filled in with the name of your device or other identification that is easy to distinguish."
   ]
  },
  {
   "cell_type": "markdown",
   "id": "c657146b",
   "metadata": {},
   "source": [
    "Paste the key that has been generated into the “Key” field."
   ]
  },
  {
   "cell_type": "markdown",
   "id": "6ed954eb",
   "metadata": {},
   "source": [
    "Click Add SSH key."
   ]
  },
  {
   "cell_type": "markdown",
   "id": "457e146f",
   "metadata": {},
   "source": [
    "If prompted, confirm your Github password."
   ]
  },
  {
   "cell_type": "markdown",
   "id": "196d0930",
   "metadata": {},
   "source": [
    "# Pull and Push"
   ]
  },
  {
   "cell_type": "markdown",
   "id": "4629668c",
   "metadata": {},
   "source": [
    "# What are git pull and git push?"
   ]
  },
  {
   "cell_type": "markdown",
   "id": "4ee0c774",
   "metadata": {},
   "source": [
    "By default, git push and git pull only perform operations on the current branch. So, it’s best to use the git status command to see which branch we are in before doing git push or git pull."
   ]
  },
  {
   "cell_type": "markdown",
   "id": "1274597c",
   "metadata": {},
   "source": [
    "# How to Use git pull"
   ]
  },
  {
   "cell_type": "markdown",
   "id": "68dacf3e",
   "metadata": {},
   "source": [
    "The git pull command is:"
   ]
  },
  {
   "cell_type": "code",
   "execution_count": null,
   "id": "8abe74ce",
   "metadata": {},
   "outputs": [],
   "source": [
    "> git pull"
   ]
  },
  {
   "cell_type": "markdown",
   "id": "fbda547c",
   "metadata": {},
   "source": [
    "# Example of using git pull"
   ]
  },
  {
   "cell_type": "markdown",
   "id": "d52c347d",
   "metadata": {},
   "source": [
    "For example, on another computer that has the same repository, we haven’t gotten the update commit with the message “docs: add guide notes” that we push before."
   ]
  },
  {
   "cell_type": "code",
   "execution_count": null,
   "id": "5cd213fc",
   "metadata": {},
   "outputs": [],
   "source": [
    "> git log --oneline\n",
    "71efdaa (HEAD -> main, origin/main) docs: add ideation\n",
    "5dfaf0b docs: add README.md"
   ]
  },
  {
   "cell_type": "markdown",
   "id": "38383286",
   "metadata": {},
   "source": [
    "So do git pull to get the update:"
   ]
  },
  {
   "cell_type": "code",
   "execution_count": null,
   "id": "8e8c5583",
   "metadata": {},
   "outputs": [],
   "source": [
    "> git pull\n",
    "> git log --oneline\n",
    "a144815 (HEAD -> main, origin/main) docs: add guide notes\n",
    "71efdaa docs: add ideation\n",
    "5dfaf0b docs: add README.md"
   ]
  },
  {
   "cell_type": "markdown",
   "id": "55c0782a",
   "metadata": {},
   "source": [
    "So you can see that there is an additional commit with the message “docs: add guide notes”."
   ]
  },
  {
   "cell_type": "markdown",
   "id": "192df880",
   "metadata": {},
   "source": [
    "# How to Use git push"
   ]
  },
  {
   "cell_type": "markdown",
   "id": "e92d34d5",
   "metadata": {},
   "source": [
    "It is recommended to run the git pull command before starting to make changes. This will update our local branch with all new commits that other contributors may have made."
   ]
  },
  {
   "cell_type": "markdown",
   "id": "81006089",
   "metadata": {},
   "source": [
    "Commonly used git push commands are:"
   ]
  },
  {
   "cell_type": "markdown",
   "id": "8a94ad8b",
   "metadata": {},
   "source": [
    "Push to specific remotes and branches"
   ]
  },
  {
   "cell_type": "code",
   "execution_count": null,
   "id": "74a96114",
   "metadata": {},
   "outputs": [],
   "source": [
    "> git push <remote name> <branch name>"
   ]
  },
  {
   "cell_type": "markdown",
   "id": "9e9e4849",
   "metadata": {},
   "source": [
    "Example:"
   ]
  },
  {
   "cell_type": "code",
   "execution_count": null,
   "id": "08e3878b",
   "metadata": {},
   "outputs": [],
   "source": [
    "> git push origin main"
   ]
  },
  {
   "cell_type": "markdown",
   "id": "2ee1363f",
   "metadata": {},
   "source": [
    "We can also ensure that every time we do a push it always goes to the same remote, by running the command:"
   ]
  },
  {
   "cell_type": "code",
   "execution_count": null,
   "id": "150f6b04",
   "metadata": {},
   "outputs": [],
   "source": [
    "git push -u <remote name> <branch name>"
   ]
  },
  {
   "cell_type": "markdown",
   "id": "7ae91381",
   "metadata": {},
   "source": [
    "So after we run git push with the -u option, we simply run git push without having to provide the remote and branch names again."
   ]
  },
  {
   "cell_type": "markdown",
   "id": "e7989bf2",
   "metadata": {},
   "source": [
    "Example:"
   ]
  },
  {
   "cell_type": "code",
   "execution_count": null,
   "id": "1864388d",
   "metadata": {},
   "outputs": [],
   "source": [
    "> git push -u origin main\n",
    "> git push # here we don't need to provide the remote and branch name anymore"
   ]
  },
  {
   "cell_type": "markdown",
   "id": "bc5f36ea",
   "metadata": {},
   "source": [
    "Push all branches"
   ]
  },
  {
   "cell_type": "code",
   "execution_count": null,
   "id": "4450b4fd",
   "metadata": {},
   "outputs": [],
   "source": [
    "> git push --all"
   ]
  },
  {
   "cell_type": "markdown",
   "id": "247a922c",
   "metadata": {},
   "source": [
    "# Example of using git push"
   ]
  },
  {
   "cell_type": "markdown",
   "id": "fb7e9cf8",
   "metadata": {},
   "source": [
    " Commits that exist in the remote repository before being pushed"
   ]
  },
  {
   "cell_type": "code",
   "execution_count": null,
   "id": "62426048",
   "metadata": {},
   "outputs": [],
   "source": [
    "> git log --oneline\n",
    "a144815 (HEAD -> main) docs: add guide notes\n",
    "71efdaa (origin/main) docs: add ideation\n",
    "5dfaf0b docs: add README.md"
   ]
  },
  {
   "cell_type": "markdown",
   "id": "3bd151e2",
   "metadata": {},
   "source": [
    "We see that between the screenshot and the log above, there is one commit that is not yet in the remote (“docs: add guide notes”)."
   ]
  },
  {
   "cell_type": "markdown",
   "id": "98cf7489",
   "metadata": {},
   "source": [
    "Now try executing the git push command."
   ]
  },
  {
   "cell_type": "code",
   "execution_count": null,
   "id": "965b0dd2",
   "metadata": {},
   "outputs": [],
   "source": [
    "> git push\n",
    "> git log --oneline\n",
    "a144815 (HEAD -> main, origin/main) docs: add guide notes # now this commit is in the remote repository\n",
    "71efdaa docs: add ideation\n",
    "5dfaf0b docs: add README.md"
   ]
  },
  {
   "cell_type": "markdown",
   "id": "5ae92a25",
   "metadata": {},
   "source": []
  },
  {
   "cell_type": "markdown",
   "id": "68c0e795",
   "metadata": {},
   "source": [
    "It can be seen that our commit has been successfully push to the remote repository."
   ]
  },
  {
   "cell_type": "markdown",
   "id": "2fd3f575",
   "metadata": {},
   "source": [
    "So that’s how we collaborate using remote repositories."
   ]
  },
  {
   "cell_type": "markdown",
   "id": "441a7564",
   "metadata": {},
   "source": [
    "# Clone"
   ]
  },
  {
   "cell_type": "markdown",
   "id": "0693b904",
   "metadata": {},
   "source": [
    "# What is git clone?"
   ]
  },
  {
   "cell_type": "markdown",
   "id": "77131111",
   "metadata": {},
   "source": [
    "The git clone command is used to make a copy of a particular repository from a remote repository to our local computer."
   ]
  },
  {
   "cell_type": "markdown",
   "id": "05a5f5be",
   "metadata": {},
   "source": [
    "Cloning will copy the entire remote repository, including all files, commit and branch."
   ]
  },
  {
   "cell_type": "markdown",
   "id": "a0723108",
   "metadata": {},
   "source": [
    "# How to Use git clone"
   ]
  },
  {
   "cell_type": "markdown",
   "id": "d6e366c5",
   "metadata": {},
   "source": [
    "The way to do cloning is:"
   ]
  },
  {
   "cell_type": "markdown",
   "id": "3d177c3a",
   "metadata": {},
   "source": [
    "On GitHub.com, navigate to the main page of the repository to be_cloned_."
   ]
  },
  {
   "cell_type": "markdown",
   "id": "fc13a3c5",
   "metadata": {},
   "source": [
    "Above the file list, click ⤓ Code."
   ]
  },
  {
   "cell_type": "markdown",
   "id": "794dc16c",
   "metadata": {},
   "source": []
  },
  {
   "cell_type": "markdown",
   "id": "1a531393",
   "metadata": {},
   "source": [
    "Select the SSH tab to copy the repository url and clone the repository with the SSH protocol:"
   ]
  },
  {
   "cell_type": "markdown",
   "id": "a5c44716",
   "metadata": {},
   "source": [
    "Open the Linux terminal or WSL on Windows."
   ]
  },
  {
   "cell_type": "markdown",
   "id": "127d053a",
   "metadata": {},
   "source": [
    "Change the current folder to where we will save the clone."
   ]
  },
  {
   "cell_type": "markdown",
   "id": "983b80b8",
   "metadata": {},
   "source": [
    "Type git clone, then paste the remote URL you copied earlier and press Enter."
   ]
  },
  {
   "cell_type": "code",
   "execution_count": null,
   "id": "3fc7c0e6",
   "metadata": {},
   "outputs": [],
   "source": [
    "> git clone [email protected]:ruang-guru/playground.git\n",
    "Cloning into `playground`...\n",
    "remote: Counting objects: 10, done.\n",
    "remote: Compressing objects: 100% (8/8), done.\n",
    "remove: Total 10 (delta 1), reused 10 (delta 1)\n",
    "Unpacking objects: 100% (10/10), done."
   ]
  },
  {
   "cell_type": "markdown",
   "id": "7c06eda7",
   "metadata": {},
   "source": [
    "We can see the cloned remote URL with the command git remote -v:"
   ]
  },
  {
   "cell_type": "code",
   "execution_count": null,
   "id": "a1db2507",
   "metadata": {},
   "outputs": [],
   "source": [
    "> git remote -v\n",
    "origin [email protected]:ruang-guru/playground.git (fetch)\n",
    "origin [email protected]:ruang-guru/playground.git (push)"
   ]
  },
  {
   "cell_type": "markdown",
   "id": "9e307941",
   "metadata": {},
   "source": [
    "Notice that we now have a clone repository located in folder playground: bash     > ls playground     README.md frontend introduction-to-programming     ..."
   ]
  },
  {
   "cell_type": "markdown",
   "id": "f7634126",
   "metadata": {},
   "source": [
    "Now we can use the repository on the local computer and change it as needed."
   ]
  },
  {
   "cell_type": "markdown",
   "id": "d7a5931b",
   "metadata": {},
   "source": [
    "# Collaboration"
   ]
  },
  {
   "cell_type": "markdown",
   "id": "e1c913ac",
   "metadata": {},
   "source": [
    "Collaborative development models are divided into 2, namely:"
   ]
  },
  {
   "cell_type": "markdown",
   "id": "82a021c3",
   "metadata": {},
   "source": [
    "Fork and pull model: we do not need permission from the repository owner to push and changes are submitted by making a pull request from the fork to the original repository."
   ]
  },
  {
   "cell_type": "markdown",
   "id": "3d803407",
   "metadata": {},
   "source": [
    "Shared repository model: collaborators are given push access to one repository and branches are created when changes need to be made, pull requests are made to review changes that have been made."
   ]
  },
  {
   "cell_type": "markdown",
   "id": "c1672b6d",
   "metadata": {},
   "source": [
    "# Git Flow"
   ]
  },
  {
   "cell_type": "markdown",
   "id": "d06aac4e",
   "metadata": {},
   "source": [
    "Collaborating on Github requires us to discuss with other people every change that occurs. Usually the journey is as follows:"
   ]
  },
  {
   "cell_type": "markdown",
   "id": "73f82a04",
   "metadata": {},
   "source": [
    "# Pull Request"
   ]
  },
  {
   "cell_type": "markdown",
   "id": "83eb00b1",
   "metadata": {},
   "source": [
    "PR (Pull Request) is a request to add changes to Github. When making homework, make a summary of the changes and issue to be solved, you can use images, links, or tables."
   ]
  },
  {
   "cell_type": "markdown",
   "id": "098b9d45",
   "metadata": {},
   "source": [
    " PR Body (source: docs.github.com)"
   ]
  },
  {
   "cell_type": "markdown",
   "id": "ba233ac7",
   "metadata": {},
   "source": [
    "We can also add comments to certain lines to indicate something to the reviewer."
   ]
  },
  {
   "cell_type": "markdown",
   "id": "7a5c510f",
   "metadata": {},
   "source": [
    " PR comment (source: docs.github.com)"
   ]
  },
  {
   "cell_type": "markdown",
   "id": "0ec03f5d",
   "metadata": {},
   "source": [
    "# Creating a pull request"
   ]
  },
  {
   "cell_type": "markdown",
   "id": "1295f98a",
   "metadata": {},
   "source": [
    "We can create a PR (Pull Request) by following the documentation: Creating a pull request."
   ]
  },
  {
   "cell_type": "markdown",
   "id": "7824c02e",
   "metadata": {},
   "source": [
    "We can also create a PR for fork by following the documentation: Creating a Pull Request from a Fork."
   ]
  },
  {
   "cell_type": "markdown",
   "id": "920635e3",
   "metadata": {},
   "source": [
    "# PR Review"
   ]
  },
  {
   "cell_type": "markdown",
   "id": "1fa38852",
   "metadata": {},
   "source": [
    "Review is the activity of commenting on proposed changes, approving changes, or requesting changes before a PR is merged."
   ]
  },
  {
   "cell_type": "markdown",
   "id": "61af166f",
   "metadata": {},
   "source": [
    " Review with comment (source: docs.github.com)"
   ]
  },
  {
   "cell_type": "markdown",
   "id": "ea8da0cc",
   "metadata": {},
   "source": [
    "# Status Review"
   ]
  },
  {
   "cell_type": "markdown",
   "id": "739444c4",
   "metadata": {},
   "source": [
    "A review has three possible status, namely:"
   ]
  },
  {
   "cell_type": "markdown",
   "id": "6f896df7",
   "metadata": {},
   "source": []
  },
  {
   "cell_type": "markdown",
   "id": "1e36106c",
   "metadata": {},
   "source": [
    "PR statuses (source: ocs.github.com)"
   ]
  },
  {
   "cell_type": "markdown",
   "id": "a44213bf",
   "metadata": {},
   "source": [
    "We can see all reviews in the Conversation timeline tab, and we can see reviews by collaborators in Pull Request’s merge box."
   ]
  },
  {
   "cell_type": "markdown",
   "id": "644ba065",
   "metadata": {},
   "source": []
  },
  {
   "cell_type": "markdown",
   "id": "46f72220",
   "metadata": {},
   "source": [
    "Conversation (source: docs.github.com)"
   ]
  },
  {
   "cell_type": "markdown",
   "id": "b182a13e",
   "metadata": {},
   "source": []
  },
  {
   "cell_type": "markdown",
   "id": "b76aa3dd",
   "metadata": {},
   "source": [
    "Review in merge box (source: docs.github.com)"
   ]
  },
  {
   "cell_type": "markdown",
   "id": "6167e28a",
   "metadata": {},
   "source": [
    "# Resolving conversations"
   ]
  },
  {
   "cell_type": "markdown",
   "id": "259c3e7f",
   "metadata": {},
   "source": [
    "We can finish the conversation to show that the file has finished changing, we can click Resolve conversation in the comment bar."
   ]
  },
  {
   "cell_type": "markdown",
   "id": "1a7cef15",
   "metadata": {},
   "source": []
  },
  {
   "cell_type": "markdown",
   "id": "8dcd2bfc",
   "metadata": {},
   "source": [
    "Resolve conversation button (source: docs.github.com)"
   ]
  },
  {
   "cell_type": "markdown",
   "id": "b092ae5d",
   "metadata": {},
   "source": [
    "All conversations will be collapsed and marked as resolved, making it easier to find conversations that still need to be addressed."
   ]
  },
  {
   "cell_type": "markdown",
   "id": "9b977a92",
   "metadata": {},
   "source": []
  },
  {
   "cell_type": "markdown",
   "id": "ddddd9c5",
   "metadata": {},
   "source": [
    "Resolved conversation (source: docs.github.com)"
   ]
  },
  {
   "cell_type": "markdown",
   "id": "133002f5",
   "metadata": {},
   "source": [
    "# Discovering and navigating conversations"
   ]
  },
  {
   "cell_type": "markdown",
   "id": "903dd7dd",
   "metadata": {},
   "source": [
    "We can find and navigate to all conversations using the Conversations menu displayed on the Files changed tab."
   ]
  },
  {
   "cell_type": "markdown",
   "id": "58e046eb",
   "metadata": {},
   "source": [
    "From this view, we can see which conversations are unresolved, resolved, and outdated. This makes it easier for us to find and complete conversations."
   ]
  },
  {
   "cell_type": "markdown",
   "id": "3bff95d1",
   "metadata": {},
   "source": [
    " Conversation menu (source: docs.github.com)"
   ]
  },
  {
   "cell_type": "markdown",
   "id": "4d8791a1",
   "metadata": {},
   "source": [
    "# Re-requesting a review"
   ]
  },
  {
   "cell_type": "markdown",
   "id": "7f3e12c2",
   "metadata": {},
   "source": [
    "We can request a review after we make changes. To do this, on the sidebar tab Conversation, click  (icon)."
   ]
  },
  {
   "cell_type": "markdown",
   "id": "9c2e1a08",
   "metadata": {},
   "source": []
  },
  {
   "cell_type": "markdown",
   "id": "45f8c452",
   "metadata": {},
   "source": [
    "For more details on how we comment on PRs we can see the documentation: Commenting on a pull request."
   ]
  },
  {
   "cell_type": "markdown",
   "id": "606bf449",
   "metadata": {},
   "source": [
    "# Organization"
   ]
  },
  {
   "cell_type": "markdown",
   "id": "6615490a",
   "metadata": {},
   "source": [
    "# What is the organization in Github?"
   ]
  },
  {
   "cell_type": "markdown",
   "id": "eb5af21a",
   "metadata": {},
   "source": [
    "Organizations on Github are shared accounts where businesses and open-source projects collaborate with multiple projects at once. Owner and Administrator can manage member access to data and organizations with advanced security and administrative features."
   ]
  },
  {
   "cell_type": "markdown",
   "id": "6a65a1a4",
   "metadata": {},
   "source": [
    "Everyone who uses GitHub can use their account to create an organization. These organizations include:"
   ]
  },
  {
   "cell_type": "markdown",
   "id": "7cc161a0",
   "metadata": {},
   "source": [
    "All organizations can have both public and private repositories."
   ]
  },
  {
   "cell_type": "markdown",
   "id": "3da4d745",
   "metadata": {},
   "source": [
    "# Create an organization in Github"
   ]
  },
  {
   "cell_type": "markdown",
   "id": "917555d3",
   "metadata": {},
   "source": [
    "How to create an organization is quite easy, we can follow these steps:"
   ]
  },
  {
   "cell_type": "markdown",
   "id": "04a7a51b",
   "metadata": {},
   "source": [
    "# Accessing your organization’s settings"
   ]
  },
  {
   "cell_type": "markdown",
   "id": "f8b76b3f",
   "metadata": {},
   "source": [
    "The organization’s account settings page provides several ways to manage accounts, such as billing, team membership and repository settings."
   ]
  },
  {
   "cell_type": "markdown",
   "id": "6ce3893a",
   "metadata": {},
   "source": [
    "There are more information there that can be customized for your Organization."
   ]
  }
 ],
 "metadata": {},
 "nbformat": 4,
 "nbformat_minor": 5
}
