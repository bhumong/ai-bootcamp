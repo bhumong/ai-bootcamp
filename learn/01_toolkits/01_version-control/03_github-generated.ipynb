{
 "cells": [
  {
   "cell_type": "markdown",
   "id": "89dd40c8",
   "metadata": {},
   "source": [
    "# Github"
   ]
  },
  {
   "cell_type": "markdown",
   "id": "2f892ba8",
   "metadata": {},
   "source": []
  },
  {
   "cell_type": "markdown",
   "id": "149a8810",
   "metadata": {},
   "source": [
    "![Image](https://storage.googleapis.com/rg-ai-bootcamp/toolkits/github-theme-min.png)"
   ]
  },
  {
   "cell_type": "markdown",
   "id": "665d851a",
   "metadata": {},
   "source": [
    "Github (Source: github.githubassets.com)"
   ]
  },
  {
   "cell_type": "markdown",
   "id": "9edecaf8",
   "metadata": {},
   "source": [
    "# What is Github?"
   ]
  },
  {
   "cell_type": "markdown",
   "id": "a5ad6a4e",
   "metadata": {},
   "source": [
    "GitHub is a special developer platform created because it was inspired by the way programmers work. From open source to business, we can review code, manage projects, and build software with more than 56 million users worldwide."
   ]
  },
  {
   "cell_type": "markdown",
   "id": "917d811b",
   "metadata": {},
   "source": [
    "Simply put, GitHub is a project management, version control system (VCS), as well as a social network platform for developers all over the world."
   ]
  },
  {
   "cell_type": "markdown",
   "id": "82ab026e",
   "metadata": {},
   "source": [
    "# Why do we need Github?"
   ]
  },
  {
   "cell_type": "markdown",
   "id": "89eefb1b",
   "metadata": {},
   "source": [
    "# 1. Facilitate collaboration on project work"
   ]
  },
  {
   "cell_type": "markdown",
   "id": "10f9d781",
   "metadata": {},
   "source": [
    "Github’s main function is to facilitate online collaboration when working on a project. With distributed version control, all developers or team members can manage code in one place. For example, conducting joint code reviews, bug fix discussions, and so on."
   ]
  },
  {
   "cell_type": "markdown",
   "id": "663bc2be",
   "metadata": {},
   "source": [
    "Apart from that, GitHub also provides a project management feature in the form of a Kanban board like Trello (more details about Kanban here. This feature is certainly very useful for those who have many projects. Because, we can more easily determine work priority, manage workflow, and see the progress of the project."
   ]
  },
  {
   "cell_type": "markdown",
   "id": "5e6e1e1b",
   "metadata": {},
   "source": []
  },
  {
   "cell_type": "markdown",
   "id": "fe9299d3",
   "metadata": {},
   "source": [
    "![Image](https://storage.googleapis.com/rg-ai-bootcamp/toolkits/project-board-basic-kanban-template.png)"
   ]
  },
  {
   "cell_type": "markdown",
   "id": "e202b333",
   "metadata": {},
   "source": [
    "Github Portfolio (Source: docs.github.com)"
   ]
  },
  {
   "cell_type": "markdown",
   "id": "cda8ab33",
   "metadata": {},
   "source": [
    "# 2. As a portfolio for developers"
   ]
  },
  {
   "cell_type": "markdown",
   "id": "8284e377",
   "metadata": {},
   "source": [
    "Github also functions as a portfolio for developers."
   ]
  },
  {
   "cell_type": "markdown",
   "id": "1280ad57",
   "metadata": {},
   "source": []
  },
  {
   "cell_type": "markdown",
   "id": "644a9789",
   "metadata": {},
   "source": [
    "![Image](https://storage.googleapis.com/rg-ai-bootcamp/toolkits/github-folio-min.png)"
   ]
  },
  {
   "cell_type": "markdown",
   "id": "2e73cc23",
   "metadata": {},
   "source": [
    "Github Portfolio (Source: camo.githubusercontent.com)"
   ]
  },
  {
   "cell_type": "markdown",
   "id": "e645b83a",
   "metadata": {},
   "source": [
    "On GitHub, we can set the projects we are working on to be displayed publicly. This will show our abilities as professionals."
   ]
  },
  {
   "cell_type": "markdown",
   "id": "8e566724",
   "metadata": {},
   "source": [
    "That way, prospective clients or targeted companies can immediately see our work and contributions to various projects according to our expertise."
   ]
  },
  {
   "cell_type": "markdown",
   "id": "dd0a466d",
   "metadata": {},
   "source": [
    "# Create Github Account"
   ]
  },
  {
   "cell_type": "markdown",
   "id": "ac3e52c5",
   "metadata": {},
   "source": [
    "We can create a Github account for free here. Follow the steps and we are ready to discuss more about Github."
   ]
  },
  {
   "cell_type": "markdown",
   "id": "3a88eedf",
   "metadata": {},
   "source": [
    "# Repository"
   ]
  },
  {
   "cell_type": "markdown",
   "id": "1f88821b",
   "metadata": {},
   "source": [
    "# Remote Repository"
   ]
  },
  {
   "cell_type": "markdown",
   "id": "a5a906f7",
   "metadata": {},
   "source": [
    "For our lesson now, we will put our remote repository on a Github server."
   ]
  },
  {
   "cell_type": "markdown",
   "id": "3d643899",
   "metadata": {},
   "source": [
    "# Create a repository in Github"
   ]
  },
  {
   "cell_type": "markdown",
   "id": "fe1aea7a",
   "metadata": {},
   "source": [
    "We can create a new remote repository on our Github by:"
   ]
  },
  {
   "cell_type": "markdown",
   "id": "c4c34884",
   "metadata": {},
   "source": [
    "When finished, click the Create repository button. So our Github repository has been created and is ready to be used to store projects and collaborate with our team."
   ]
  },
  {
   "cell_type": "markdown",
   "id": "cd5bcdce",
   "metadata": {},
   "source": [
    "# Auth Github"
   ]
  },
  {
   "cell_type": "markdown",
   "id": "d5d54f1d",
   "metadata": {},
   "source": [
    "To keep your Github account secure, we must authenticate before we can access certain resources on Github. Github has several different authentication modes, namely:"
   ]
  },
  {
   "cell_type": "markdown",
   "id": "533b97f5",
   "metadata": {},
   "source": [
    "Here we will learn more about authentication with SSH keys"
   ]
  },
  {
   "cell_type": "markdown",
   "id": "c983e894",
   "metadata": {},
   "source": [
    "# SSH Key"
   ]
  },
  {
   "cell_type": "markdown",
   "id": "8deaef98",
   "metadata": {},
   "source": [
    "SSH (Secure Shell) is a transfer protocol that allows users to control a device remote or from a distance via an internet connection securely. So we can connect to Github to access and manage our repositories without providing username and personal access token in every Git command we run."
   ]
  },
  {
   "cell_type": "markdown",
   "id": "778b91a4",
   "metadata": {},
   "source": [
    "# Generate SSH key"
   ]
  },
  {
   "cell_type": "markdown",
   "id": "0cd8b585",
   "metadata": {},
   "source": [
    "Open the Linux terminal or WSL for Windows users."
   ]
  },
  {
   "cell_type": "markdown",
   "id": "bf17b131",
   "metadata": {},
   "source": [
    "Follow the commands below:"
   ]
  },
  {
   "cell_type": "code",
   "execution_count": null,
   "id": "41d473ad",
   "metadata": {},
   "outputs": [],
   "source": [
    "> ssh-keygen -t ed25519 -C \"[email protected]\" # IMPORTANT: Replace with your email\n",
    "Generating public/private algorithm key pairs.\n",
    "Enter file in which to save the key (/home/user/.ssh/id_ed25519): # [Press enter]\n",
    "Enter passphrase (empty for no passphrase): # [Type a password]\n",
    "Enter same passphrase again: # [Type password again]"
   ]
  },
  {
   "cell_type": "markdown",
   "id": "74a85b59",
   "metadata": {},
   "source": [
    "# Adding your SSH key to the ssh-agent"
   ]
  },
  {
   "cell_type": "markdown",
   "id": "47ce306b",
   "metadata": {},
   "source": [
    "ssh-agent is a program that manages SSH keys and remembers our password. So we don’t need to re-enter the password every time we use SSH key, just follow the steps below:"
   ]
  },
  {
   "cell_type": "markdown",
   "id": "6328b700",
   "metadata": {},
   "source": [
    "Open the Linux terminal or WSL for Windows users."
   ]
  },
  {
   "cell_type": "markdown",
   "id": "cb053c12",
   "metadata": {},
   "source": [
    "Follow the steps below:"
   ]
  },
  {
   "cell_type": "code",
   "execution_count": null,
   "id": "3489dd4d",
   "metadata": {},
   "outputs": [],
   "source": [
    "> eval \"$(ssh-agent -s)\" # ensure ssh-agent is running\n",
    "Agent pid 59566\n",
    "> ssh-add ~/.ssh/id_ed25519 # add our SSH key to ssh-agent\n",
    "Enter passphrase for /home/user/.ssh/id_ed25519: # [Type SSH key password]\n",
    "Identity added: /home/user/.ssh/id_ed25519 ([email protected])"
   ]
  },
  {
   "cell_type": "markdown",
   "id": "0dddb90d",
   "metadata": {},
   "source": [
    "# Add SSH key to Github"
   ]
  },
  {
   "cell_type": "markdown",
   "id": "fdfd2656",
   "metadata": {},
   "source": [
    "So that Github can accept connections from our computer, we need to add the SSH key that we generated earlier to our Github account."
   ]
  },
  {
   "cell_type": "markdown",
   "id": "4a26b826",
   "metadata": {},
   "source": [
    "Copy the SSH public key to the clipboard."
   ]
  },
  {
   "cell_type": "code",
   "execution_count": null,
   "id": "d17bbdfd",
   "metadata": {},
   "outputs": [],
   "source": [
    "> clip < ~/.ssh/id_ed25519.pub # Copy the contents of the id_ed25519.pub file to the clipboard"
   ]
  },
  {
   "cell_type": "markdown",
   "id": "611a62af",
   "metadata": {},
   "source": [
    "Note: If clip doesn’t work, read the contents of the file with the command cat ~/.ssh/id_ed25519.pub then copy the contents of the file."
   ]
  },
  {
   "cell_type": "markdown",
   "id": "640ff1fc",
   "metadata": {},
   "source": [
    "In the top right corner of any page, click your profile photo, then click Settings."
   ]
  },
  {
   "cell_type": "markdown",
   "id": "269258b2",
   "metadata": {},
   "source": [
    "In the “Access” section of the sidebar, click 🔑 SSH and GPG keys."
   ]
  },
  {
   "cell_type": "markdown",
   "id": "274541a4",
   "metadata": {},
   "source": [
    "Click New SSH key or Add SSH key."
   ]
  },
  {
   "cell_type": "markdown",
   "id": "255b7074",
   "metadata": {},
   "source": [
    "In the “Title” field, add a title for the new key. This title can be filled in with the name of your device or other identification that is easy to distinguish."
   ]
  },
  {
   "cell_type": "markdown",
   "id": "3e865e17",
   "metadata": {},
   "source": [
    "Paste the key that has been generated into the “Key” field."
   ]
  },
  {
   "cell_type": "markdown",
   "id": "8457e8da",
   "metadata": {},
   "source": [
    "Click Add SSH key."
   ]
  },
  {
   "cell_type": "markdown",
   "id": "dd036cf2",
   "metadata": {},
   "source": [
    "If prompted, confirm your Github password."
   ]
  },
  {
   "cell_type": "markdown",
   "id": "5e2c57fc",
   "metadata": {},
   "source": [
    "# Pull and Push"
   ]
  },
  {
   "cell_type": "markdown",
   "id": "41c69860",
   "metadata": {},
   "source": [
    "# What are git pull and git push?"
   ]
  },
  {
   "cell_type": "markdown",
   "id": "7c344cba",
   "metadata": {},
   "source": [
    "By default, git push and git pull only perform operations on the current branch. So, it’s best to use the git status command to see which branch we are in before doing git push or git pull."
   ]
  },
  {
   "cell_type": "markdown",
   "id": "5dddbcf4",
   "metadata": {},
   "source": [
    "# How to Use git pull"
   ]
  },
  {
   "cell_type": "markdown",
   "id": "4cfc3e79",
   "metadata": {},
   "source": [
    "The git pull command is:"
   ]
  },
  {
   "cell_type": "code",
   "execution_count": null,
   "id": "e7f89b96",
   "metadata": {},
   "outputs": [],
   "source": [
    "> git pull"
   ]
  },
  {
   "cell_type": "markdown",
   "id": "5c5915e5",
   "metadata": {},
   "source": [
    "# Example of using git pull"
   ]
  },
  {
   "cell_type": "markdown",
   "id": "b0d17379",
   "metadata": {},
   "source": [
    "For example, on another computer that has the same repository, we haven’t gotten the update commit with the message “docs: add guide notes” that we push before."
   ]
  },
  {
   "cell_type": "code",
   "execution_count": null,
   "id": "bafc754c",
   "metadata": {},
   "outputs": [],
   "source": [
    "> git log --oneline\n",
    "71efdaa (HEAD -> main, origin/main) docs: add ideation\n",
    "5dfaf0b docs: add README.md"
   ]
  },
  {
   "cell_type": "markdown",
   "id": "52101afe",
   "metadata": {},
   "source": [
    "So do git pull to get the update:"
   ]
  },
  {
   "cell_type": "code",
   "execution_count": null,
   "id": "98b4c4e4",
   "metadata": {},
   "outputs": [],
   "source": [
    "> git pull\n",
    "> git log --oneline\n",
    "a144815 (HEAD -> main, origin/main) docs: add guide notes\n",
    "71efdaa docs: add ideation\n",
    "5dfaf0b docs: add README.md"
   ]
  },
  {
   "cell_type": "markdown",
   "id": "dc915760",
   "metadata": {},
   "source": [
    "So you can see that there is an additional commit with the message “docs: add guide notes”."
   ]
  },
  {
   "cell_type": "markdown",
   "id": "608db0e5",
   "metadata": {},
   "source": [
    "# How to Use git push"
   ]
  },
  {
   "cell_type": "markdown",
   "id": "a86d4298",
   "metadata": {},
   "source": [
    "It is recommended to run the git pull command before starting to make changes. This will update our local branch with all new commits that other contributors may have made."
   ]
  },
  {
   "cell_type": "markdown",
   "id": "6b19fa2b",
   "metadata": {},
   "source": [
    "Commonly used git push commands are:"
   ]
  },
  {
   "cell_type": "markdown",
   "id": "876913b2",
   "metadata": {},
   "source": [
    "Push to specific remotes and branches"
   ]
  },
  {
   "cell_type": "code",
   "execution_count": null,
   "id": "191d1c5f",
   "metadata": {},
   "outputs": [],
   "source": [
    "> git push <remote name> <branch name>"
   ]
  },
  {
   "cell_type": "markdown",
   "id": "ddea43f1",
   "metadata": {},
   "source": [
    "Example:"
   ]
  },
  {
   "cell_type": "code",
   "execution_count": null,
   "id": "b5130223",
   "metadata": {},
   "outputs": [],
   "source": [
    "> git push origin main"
   ]
  },
  {
   "cell_type": "markdown",
   "id": "734548f0",
   "metadata": {},
   "source": [
    "We can also ensure that every time we do a push it always goes to the same remote, by running the command:"
   ]
  },
  {
   "cell_type": "code",
   "execution_count": null,
   "id": "a9f96996",
   "metadata": {},
   "outputs": [],
   "source": [
    "git push -u <remote name> <branch name>"
   ]
  },
  {
   "cell_type": "markdown",
   "id": "4b1b07dd",
   "metadata": {},
   "source": [
    "So after we run git push with the -u option, we simply run git push without having to provide the remote and branch names again."
   ]
  },
  {
   "cell_type": "markdown",
   "id": "aa60bc80",
   "metadata": {},
   "source": [
    "Example:"
   ]
  },
  {
   "cell_type": "code",
   "execution_count": null,
   "id": "8d14e7c7",
   "metadata": {},
   "outputs": [],
   "source": [
    "> git push -u origin main\n",
    "> git push # here we don't need to provide the remote and branch name anymore"
   ]
  },
  {
   "cell_type": "markdown",
   "id": "6db91740",
   "metadata": {},
   "source": [
    "Push all branches"
   ]
  },
  {
   "cell_type": "code",
   "execution_count": null,
   "id": "ae28e707",
   "metadata": {},
   "outputs": [],
   "source": [
    "> git push --all"
   ]
  },
  {
   "cell_type": "markdown",
   "id": "23cb0e66",
   "metadata": {},
   "source": [
    "# Example of using git push"
   ]
  },
  {
   "cell_type": "markdown",
   "id": "cb01d94e",
   "metadata": {},
   "source": [
    " Commits that exist in the remote repository before being pushed"
   ]
  },
  {
   "cell_type": "markdown",
   "id": "bc62dcc2",
   "metadata": {},
   "source": [
    "![Image](https://storage.googleapis.com/rg-ai-bootcamp/toolkits/training-kit-second-commit-min.png)"
   ]
  },
  {
   "cell_type": "code",
   "execution_count": null,
   "id": "f06e31d9",
   "metadata": {},
   "outputs": [],
   "source": [
    "> git log --oneline\n",
    "a144815 (HEAD -> main) docs: add guide notes\n",
    "71efdaa (origin/main) docs: add ideation\n",
    "5dfaf0b docs: add README.md"
   ]
  },
  {
   "cell_type": "markdown",
   "id": "2ad98f21",
   "metadata": {},
   "source": [
    "We see that between the screenshot and the log above, there is one commit that is not yet in the remote (“docs: add guide notes”)."
   ]
  },
  {
   "cell_type": "markdown",
   "id": "9f7b3d15",
   "metadata": {},
   "source": [
    "Now try executing the git push command."
   ]
  },
  {
   "cell_type": "code",
   "execution_count": null,
   "id": "4267244e",
   "metadata": {},
   "outputs": [],
   "source": [
    "> git push\n",
    "> git log --oneline\n",
    "a144815 (HEAD -> main, origin/main) docs: add guide notes # now this commit is in the remote repository\n",
    "71efdaa docs: add ideation\n",
    "5dfaf0b docs: add README.md"
   ]
  },
  {
   "cell_type": "markdown",
   "id": "33b1b087",
   "metadata": {},
   "source": []
  },
  {
   "cell_type": "markdown",
   "id": "df632091",
   "metadata": {},
   "source": [
    "![Image](https://storage.googleapis.com/rg-ai-bootcamp/toolkits/training-kit-third-commit-min.png)"
   ]
  },
  {
   "cell_type": "markdown",
   "id": "e2de74ae",
   "metadata": {},
   "source": [
    "It can be seen that our commit has been successfully push to the remote repository."
   ]
  },
  {
   "cell_type": "markdown",
   "id": "1abb3fe4",
   "metadata": {},
   "source": [
    "So that’s how we collaborate using remote repositories."
   ]
  },
  {
   "cell_type": "markdown",
   "id": "1523653c",
   "metadata": {},
   "source": [
    "# Clone"
   ]
  },
  {
   "cell_type": "markdown",
   "id": "0025242b",
   "metadata": {},
   "source": [
    "# What is git clone?"
   ]
  },
  {
   "cell_type": "markdown",
   "id": "89fa3fbd",
   "metadata": {},
   "source": [
    "The git clone command is used to make a copy of a particular repository from a remote repository to our local computer."
   ]
  },
  {
   "cell_type": "markdown",
   "id": "429ee15e",
   "metadata": {},
   "source": [
    "Cloning will copy the entire remote repository, including all files, commit and branch."
   ]
  },
  {
   "cell_type": "markdown",
   "id": "3c4ec659",
   "metadata": {},
   "source": [
    "# How to Use git clone"
   ]
  },
  {
   "cell_type": "markdown",
   "id": "b41f54a8",
   "metadata": {},
   "source": [
    "The way to do cloning is:"
   ]
  },
  {
   "cell_type": "markdown",
   "id": "0e1bdbf3",
   "metadata": {},
   "source": [
    "On GitHub.com, navigate to the main page of the repository to be_cloned_."
   ]
  },
  {
   "cell_type": "markdown",
   "id": "7f9e5a5e",
   "metadata": {},
   "source": [
    "Above the file list, click ⤓ Code."
   ]
  },
  {
   "cell_type": "markdown",
   "id": "ef868a10",
   "metadata": {},
   "source": []
  },
  {
   "cell_type": "markdown",
   "id": "7748f34d",
   "metadata": {},
   "source": [
    "![Image](https://storage.googleapis.com/rg-ai-bootcamp/toolkits/code-button-clone-min.png)"
   ]
  },
  {
   "cell_type": "markdown",
   "id": "243b732c",
   "metadata": {},
   "source": [
    "Select the SSH tab to copy the repository url and clone the repository with the SSH protocol:"
   ]
  },
  {
   "cell_type": "markdown",
   "id": "1422dc15",
   "metadata": {},
   "source": [
    "Open the Linux terminal or WSL on Windows."
   ]
  },
  {
   "cell_type": "markdown",
   "id": "4f2199f5",
   "metadata": {},
   "source": [
    "Change the current folder to where we will save the clone."
   ]
  },
  {
   "cell_type": "markdown",
   "id": "9263ae9f",
   "metadata": {},
   "source": [
    "Type git clone, then paste the remote URL you copied earlier and press Enter."
   ]
  },
  {
   "cell_type": "code",
   "execution_count": null,
   "id": "ac8099ca",
   "metadata": {},
   "outputs": [],
   "source": [
    "> git clone [email protected]:ruang-guru/playground.git\n",
    "Cloning into `playground`...\n",
    "remote: Counting objects: 10, done.\n",
    "remote: Compressing objects: 100% (8/8), done.\n",
    "remove: Total 10 (delta 1), reused 10 (delta 1)\n",
    "Unpacking objects: 100% (10/10), done."
   ]
  },
  {
   "cell_type": "markdown",
   "id": "2db1d248",
   "metadata": {},
   "source": [
    "We can see the cloned remote URL with the command git remote -v:"
   ]
  },
  {
   "cell_type": "code",
   "execution_count": null,
   "id": "8c28dc43",
   "metadata": {},
   "outputs": [],
   "source": [
    "> git remote -v\n",
    "origin [email protected]:ruang-guru/playground.git (fetch)\n",
    "origin [email protected]:ruang-guru/playground.git (push)"
   ]
  },
  {
   "cell_type": "markdown",
   "id": "0dca53f0",
   "metadata": {},
   "source": [
    "Notice that we now have a clone repository located in folder playground: bash     > ls playground     README.md frontend introduction-to-programming     ..."
   ]
  },
  {
   "cell_type": "markdown",
   "id": "a59006ef",
   "metadata": {},
   "source": [
    "Now we can use the repository on the local computer and change it as needed."
   ]
  },
  {
   "cell_type": "markdown",
   "id": "43b10e5a",
   "metadata": {},
   "source": [
    "# Collaboration"
   ]
  },
  {
   "cell_type": "markdown",
   "id": "4f053db5",
   "metadata": {},
   "source": [
    "Collaborative development models are divided into 2, namely:"
   ]
  },
  {
   "cell_type": "markdown",
   "id": "449a9269",
   "metadata": {},
   "source": [
    "Fork and pull model: we do not need permission from the repository owner to push and changes are submitted by making a pull request from the fork to the original repository."
   ]
  },
  {
   "cell_type": "markdown",
   "id": "24425e98",
   "metadata": {},
   "source": [
    "Shared repository model: collaborators are given push access to one repository and branches are created when changes need to be made, pull requests are made to review changes that have been made."
   ]
  },
  {
   "cell_type": "markdown",
   "id": "36da901d",
   "metadata": {},
   "source": [
    "# Git Flow"
   ]
  },
  {
   "cell_type": "markdown",
   "id": "7b402ebd",
   "metadata": {},
   "source": [
    "Collaborating on Github requires us to discuss with other people every change that occurs. Usually the journey is as follows:"
   ]
  },
  {
   "cell_type": "markdown",
   "id": "1ab1e6f7",
   "metadata": {},
   "source": [
    "# Pull Request"
   ]
  },
  {
   "cell_type": "markdown",
   "id": "ef018057",
   "metadata": {},
   "source": [
    "PR (Pull Request) is a request to add changes to Github. When making homework, make a summary of the changes and issue to be solved, you can use images, links, or tables."
   ]
  },
  {
   "cell_type": "markdown",
   "id": "00a11adc",
   "metadata": {},
   "source": [
    " PR Body (source: docs.github.com)"
   ]
  },
  {
   "cell_type": "markdown",
   "id": "807c4bf3",
   "metadata": {},
   "source": [
    "![Image](https://storage.googleapis.com/rg-ai-bootcamp/toolkits/pull-request-body-min.png)"
   ]
  },
  {
   "cell_type": "markdown",
   "id": "bd121a59",
   "metadata": {},
   "source": [
    "We can also add comments to certain lines to indicate something to the reviewer."
   ]
  },
  {
   "cell_type": "markdown",
   "id": "b4084a2f",
   "metadata": {},
   "source": [
    " PR comment (source: docs.github.com)"
   ]
  },
  {
   "cell_type": "markdown",
   "id": "fa4a0cbe",
   "metadata": {},
   "source": [
    "![Image](https://storage.googleapis.com/rg-ai-bootcamp/toolkits/pull-request-comment-min.png)"
   ]
  },
  {
   "cell_type": "markdown",
   "id": "a1c8c038",
   "metadata": {},
   "source": [
    "# Creating a pull request"
   ]
  },
  {
   "cell_type": "markdown",
   "id": "99b46fd5",
   "metadata": {},
   "source": [
    "We can create a PR (Pull Request) by following the documentation: Creating a pull request."
   ]
  },
  {
   "cell_type": "markdown",
   "id": "4f32ae87",
   "metadata": {},
   "source": [
    "We can also create a PR for fork by following the documentation: Creating a Pull Request from a Fork."
   ]
  },
  {
   "cell_type": "markdown",
   "id": "a0d2c533",
   "metadata": {},
   "source": [
    "# PR Review"
   ]
  },
  {
   "cell_type": "markdown",
   "id": "5fee277d",
   "metadata": {},
   "source": [
    "Review is the activity of commenting on proposed changes, approving changes, or requesting changes before a PR is merged."
   ]
  },
  {
   "cell_type": "markdown",
   "id": "8721e817",
   "metadata": {},
   "source": [
    " Review with comment (source: docs.github.com)"
   ]
  },
  {
   "cell_type": "markdown",
   "id": "09a49b3c",
   "metadata": {},
   "source": [
    "![Image](https://storage.googleapis.com/rg-ai-bootcamp/toolkits/review-header-with-line-comment-min.png)"
   ]
  },
  {
   "cell_type": "markdown",
   "id": "85f7d645",
   "metadata": {},
   "source": [
    "# Status Review"
   ]
  },
  {
   "cell_type": "markdown",
   "id": "613fc8af",
   "metadata": {},
   "source": [
    "A review has three possible status, namely:"
   ]
  },
  {
   "cell_type": "markdown",
   "id": "af582287",
   "metadata": {},
   "source": []
  },
  {
   "cell_type": "markdown",
   "id": "afd6008b",
   "metadata": {},
   "source": [
    "![Image](https://storage.googleapis.com/rg-ai-bootcamp/toolkits/pull-request-review-statuses-min.png)"
   ]
  },
  {
   "cell_type": "markdown",
   "id": "33049b76",
   "metadata": {},
   "source": [
    "PR statuses (source: ocs.github.com)"
   ]
  },
  {
   "cell_type": "markdown",
   "id": "58560fe7",
   "metadata": {},
   "source": [
    "We can see all reviews in the Conversation timeline tab, and we can see reviews by collaborators in Pull Request’s merge box."
   ]
  },
  {
   "cell_type": "markdown",
   "id": "74abba57",
   "metadata": {},
   "source": []
  },
  {
   "cell_type": "markdown",
   "id": "9891b066",
   "metadata": {},
   "source": [
    "![Image](https://storage.googleapis.com/rg-ai-bootcamp/toolkits/conversation-min.png)"
   ]
  },
  {
   "cell_type": "markdown",
   "id": "17a1cce8",
   "metadata": {},
   "source": [
    "Conversation (source: docs.github.com)"
   ]
  },
  {
   "cell_type": "markdown",
   "id": "5ef912b9",
   "metadata": {},
   "source": []
  },
  {
   "cell_type": "markdown",
   "id": "99a13dcb",
   "metadata": {},
   "source": [
    "![Image](https://storage.googleapis.com/rg-ai-bootcamp/toolkits/pr-reviews-in-merge-box-min.png)"
   ]
  },
  {
   "cell_type": "markdown",
   "id": "efbe3c83",
   "metadata": {},
   "source": [
    "Review in merge box (source: docs.github.com)"
   ]
  },
  {
   "cell_type": "markdown",
   "id": "258d9e45",
   "metadata": {},
   "source": [
    "# Resolving conversations"
   ]
  },
  {
   "cell_type": "markdown",
   "id": "bf770778",
   "metadata": {},
   "source": [
    "We can finish the conversation to show that the file has finished changing, we can click Resolve conversation in the comment bar."
   ]
  },
  {
   "cell_type": "markdown",
   "id": "5022b715",
   "metadata": {},
   "source": []
  },
  {
   "cell_type": "markdown",
   "id": "3300a313",
   "metadata": {},
   "source": [
    "![Image](https://storage.googleapis.com/rg-ai-bootcamp/toolkits/conversation-with-resolve-button-min.png)"
   ]
  },
  {
   "cell_type": "markdown",
   "id": "1dbf9b47",
   "metadata": {},
   "source": [
    "Resolve conversation button (source: docs.github.com)"
   ]
  },
  {
   "cell_type": "markdown",
   "id": "da9a18ba",
   "metadata": {},
   "source": [
    "All conversations will be collapsed and marked as resolved, making it easier to find conversations that still need to be addressed."
   ]
  },
  {
   "cell_type": "markdown",
   "id": "cb4beb6a",
   "metadata": {},
   "source": []
  },
  {
   "cell_type": "markdown",
   "id": "af407057",
   "metadata": {},
   "source": [
    "![Image](https://storage.googleapis.com/rg-ai-bootcamp/toolkits/resolved-conversation-min.png)"
   ]
  },
  {
   "cell_type": "markdown",
   "id": "cee2aa7e",
   "metadata": {},
   "source": [
    "Resolved conversation (source: docs.github.com)"
   ]
  },
  {
   "cell_type": "markdown",
   "id": "0e78af55",
   "metadata": {},
   "source": [
    "# Discovering and navigating conversations"
   ]
  },
  {
   "cell_type": "markdown",
   "id": "caea8a4b",
   "metadata": {},
   "source": [
    "We can find and navigate to all conversations using the Conversations menu displayed on the Files changed tab."
   ]
  },
  {
   "cell_type": "markdown",
   "id": "2e27176e",
   "metadata": {},
   "source": [
    "From this view, we can see which conversations are unresolved, resolved, and outdated. This makes it easier for us to find and complete conversations."
   ]
  },
  {
   "cell_type": "markdown",
   "id": "dd22b004",
   "metadata": {},
   "source": [
    " Conversation menu (source: docs.github.com)"
   ]
  },
  {
   "cell_type": "markdown",
   "id": "3f3099e3",
   "metadata": {},
   "source": [
    "![Image](https://storage.googleapis.com/rg-ai-bootcamp/toolkits/conversations-menu-min.png)"
   ]
  },
  {
   "cell_type": "markdown",
   "id": "a6fdc5ea",
   "metadata": {},
   "source": [
    "# Re-requesting a review"
   ]
  },
  {
   "cell_type": "markdown",
   "id": "eb3b644d",
   "metadata": {},
   "source": [
    "We can request a review after we make changes. To do this, on the sidebar tab Conversation, click  (icon)."
   ]
  },
  {
   "cell_type": "markdown",
   "id": "c15ec536",
   "metadata": {},
   "source": [
    "![Image](https://storage.googleapis.com/rg-ai-bootcamp/toolkits/re-review-icon.png)"
   ]
  },
  {
   "cell_type": "markdown",
   "id": "dd153057",
   "metadata": {},
   "source": []
  },
  {
   "cell_type": "markdown",
   "id": "a95555dc",
   "metadata": {},
   "source": [
    "![Image](https://storage.googleapis.com/rg-ai-bootcamp/toolkits/re-review-min.png)"
   ]
  },
  {
   "cell_type": "markdown",
   "id": "539e94d0",
   "metadata": {},
   "source": [
    "For more details on how we comment on PRs we can see the documentation: Commenting on a pull request."
   ]
  },
  {
   "cell_type": "markdown",
   "id": "dcb25e77",
   "metadata": {},
   "source": [
    "# Organization"
   ]
  },
  {
   "cell_type": "markdown",
   "id": "ef097ee8",
   "metadata": {},
   "source": [
    "# What is the organization in Github?"
   ]
  },
  {
   "cell_type": "markdown",
   "id": "c6f03db4",
   "metadata": {},
   "source": [
    "Organizations on Github are shared accounts where businesses and open-source projects collaborate with multiple projects at once. Owner and Administrator can manage member access to data and organizations with advanced security and administrative features."
   ]
  },
  {
   "cell_type": "markdown",
   "id": "3dfc2a2c",
   "metadata": {},
   "source": [
    "Everyone who uses GitHub can use their account to create an organization. These organizations include:"
   ]
  },
  {
   "cell_type": "markdown",
   "id": "73e357d5",
   "metadata": {},
   "source": [
    "All organizations can have both public and private repositories."
   ]
  },
  {
   "cell_type": "markdown",
   "id": "6608a7a4",
   "metadata": {},
   "source": [
    "# Create an organization in Github"
   ]
  },
  {
   "cell_type": "markdown",
   "id": "d6df26e0",
   "metadata": {},
   "source": [
    "How to create an organization is quite easy, we can follow these steps:"
   ]
  },
  {
   "cell_type": "markdown",
   "id": "03d6ef77",
   "metadata": {},
   "source": [
    "# Accessing your organization’s settings"
   ]
  },
  {
   "cell_type": "markdown",
   "id": "aac64702",
   "metadata": {},
   "source": [
    "The organization’s account settings page provides several ways to manage accounts, such as billing, team membership and repository settings."
   ]
  },
  {
   "cell_type": "markdown",
   "id": "7c2942f1",
   "metadata": {},
   "source": [
    "There are more information there that can be customized for your Organization."
   ]
  }
 ],
 "metadata": {},
 "nbformat": 4,
 "nbformat_minor": 5
}
