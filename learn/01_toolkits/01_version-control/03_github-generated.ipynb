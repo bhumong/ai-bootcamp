{
 "cells": [
  {
   "cell_type": "markdown",
   "id": "8a7d8466",
   "metadata": {},
   "source": [
    "source: [link](https://ai-bootcamp.ruangguru.com/learn/01_toolkits/01_version-control/03_github.html)"
   ]
  },
  {
   "cell_type": "markdown",
   "id": "8dc060e3",
   "metadata": {},
   "source": [
    "# Github"
   ]
  },
  {
   "cell_type": "markdown",
   "id": "e3e44cdf",
   "metadata": {},
   "source": []
  },
  {
   "cell_type": "markdown",
   "id": "54fb15ef",
   "metadata": {},
   "source": [
    "![Image](https://storage.googleapis.com/rg-ai-bootcamp/toolkits/github-theme-min.png)"
   ]
  },
  {
   "cell_type": "markdown",
   "id": "d6335b6f",
   "metadata": {},
   "source": [
    "Github (Source: github.githubassets.com)"
   ]
  },
  {
   "cell_type": "markdown",
   "id": "2e408995",
   "metadata": {},
   "source": [
    "# What is Github?"
   ]
  },
  {
   "cell_type": "markdown",
   "id": "28739673",
   "metadata": {},
   "source": [
    "GitHub is a special developer platform created because it was inspired by the way programmers work. From open source to business, we can review code, manage projects, and build software with more than 56 million users worldwide."
   ]
  },
  {
   "cell_type": "markdown",
   "id": "55ba5feb",
   "metadata": {},
   "source": [
    "Simply put, GitHub is a project management, version control system (VCS), as well as a social network platform for developers all over the world."
   ]
  },
  {
   "cell_type": "markdown",
   "id": "aa4ddfad",
   "metadata": {},
   "source": [
    "# Why do we need Github?"
   ]
  },
  {
   "cell_type": "markdown",
   "id": "a508b8be",
   "metadata": {},
   "source": [
    "# 1. Facilitate collaboration on project work"
   ]
  },
  {
   "cell_type": "markdown",
   "id": "028d89ab",
   "metadata": {},
   "source": [
    "Github’s main function is to facilitate online collaboration when working on a project. With distributed version control, all developers or team members can manage code in one place. For example, conducting joint code reviews, bug fix discussions, and so on."
   ]
  },
  {
   "cell_type": "markdown",
   "id": "bb33b49c",
   "metadata": {},
   "source": [
    "Apart from that, GitHub also provides a project management feature in the form of a Kanban board like Trello (more details about Kanban here. This feature is certainly very useful for those who have many projects. Because, we can more easily determine work priority, manage workflow, and see the progress of the project."
   ]
  },
  {
   "cell_type": "markdown",
   "id": "14c10744",
   "metadata": {},
   "source": []
  },
  {
   "cell_type": "markdown",
   "id": "24fec2de",
   "metadata": {},
   "source": [
    "![Image](https://storage.googleapis.com/rg-ai-bootcamp/toolkits/project-board-basic-kanban-template.png)"
   ]
  },
  {
   "cell_type": "markdown",
   "id": "f460e174",
   "metadata": {},
   "source": [
    "Github Portfolio (Source: docs.github.com)"
   ]
  },
  {
   "cell_type": "markdown",
   "id": "778f27d2",
   "metadata": {},
   "source": [
    "# 2. As a portfolio for developers"
   ]
  },
  {
   "cell_type": "markdown",
   "id": "d161cb96",
   "metadata": {},
   "source": [
    "Github also functions as a portfolio for developers."
   ]
  },
  {
   "cell_type": "markdown",
   "id": "50afd1b1",
   "metadata": {},
   "source": []
  },
  {
   "cell_type": "markdown",
   "id": "87f59d3b",
   "metadata": {},
   "source": [
    "![Image](https://storage.googleapis.com/rg-ai-bootcamp/toolkits/github-folio-min.png)"
   ]
  },
  {
   "cell_type": "markdown",
   "id": "bc886aca",
   "metadata": {},
   "source": [
    "Github Portfolio (Source: camo.githubusercontent.com)"
   ]
  },
  {
   "cell_type": "markdown",
   "id": "7a0b4a94",
   "metadata": {},
   "source": [
    "On GitHub, we can set the projects we are working on to be displayed publicly. This will show our abilities as professionals."
   ]
  },
  {
   "cell_type": "markdown",
   "id": "26f1a8a0",
   "metadata": {},
   "source": [
    "That way, prospective clients or targeted companies can immediately see our work and contributions to various projects according to our expertise."
   ]
  },
  {
   "cell_type": "markdown",
   "id": "7be54f29",
   "metadata": {},
   "source": [
    "# Create Github Account"
   ]
  },
  {
   "cell_type": "markdown",
   "id": "4c65d0bc",
   "metadata": {},
   "source": [
    "We can create a Github account for free here. Follow the steps and we are ready to discuss more about Github."
   ]
  },
  {
   "cell_type": "markdown",
   "id": "5cf97087",
   "metadata": {},
   "source": [
    "# Repository"
   ]
  },
  {
   "cell_type": "markdown",
   "id": "7ebbf453",
   "metadata": {},
   "source": [
    "# Remote Repository"
   ]
  },
  {
   "cell_type": "markdown",
   "id": "d4c38ee9",
   "metadata": {},
   "source": [
    "For our lesson now, we will put our remote repository on a Github server."
   ]
  },
  {
   "cell_type": "markdown",
   "id": "c7617f56",
   "metadata": {},
   "source": [
    "# Create a repository in Github"
   ]
  },
  {
   "cell_type": "markdown",
   "id": "0b84545a",
   "metadata": {},
   "source": [
    "We can create a new remote repository on our Github by:"
   ]
  },
  {
   "cell_type": "markdown",
   "id": "ea1cd867",
   "metadata": {},
   "source": [
    "When finished, click the Create repository button. So our Github repository has been created and is ready to be used to store projects and collaborate with our team."
   ]
  },
  {
   "cell_type": "markdown",
   "id": "dc76c306",
   "metadata": {},
   "source": [
    "# Auth Github"
   ]
  },
  {
   "cell_type": "markdown",
   "id": "ca79e6e6",
   "metadata": {},
   "source": [
    "To keep your Github account secure, we must authenticate before we can access certain resources on Github. Github has several different authentication modes, namely:"
   ]
  },
  {
   "cell_type": "markdown",
   "id": "d385a4ef",
   "metadata": {},
   "source": [
    "Here we will learn more about authentication with SSH keys"
   ]
  },
  {
   "cell_type": "markdown",
   "id": "c2a4d457",
   "metadata": {},
   "source": [
    "# SSH Key"
   ]
  },
  {
   "cell_type": "markdown",
   "id": "3f6a8a0a",
   "metadata": {},
   "source": [
    "SSH (Secure Shell) is a transfer protocol that allows users to control a device remote or from a distance via an internet connection securely. So we can connect to Github to access and manage our repositories without providing username and personal access token in every Git command we run."
   ]
  },
  {
   "cell_type": "markdown",
   "id": "c85476d0",
   "metadata": {},
   "source": [
    "# Generate SSH key"
   ]
  },
  {
   "cell_type": "markdown",
   "id": "84425ef0",
   "metadata": {},
   "source": [
    "Open the Linux terminal or WSL for Windows users."
   ]
  },
  {
   "cell_type": "markdown",
   "id": "e92cf596",
   "metadata": {},
   "source": [
    "Follow the commands below:"
   ]
  },
  {
   "cell_type": "code",
   "execution_count": null,
   "id": "4b0683ee",
   "metadata": {},
   "outputs": [],
   "source": [
    "> ssh-keygen -t ed25519 -C \"[email protected]\" # IMPORTANT: Replace with your email\n",
    "Generating public/private algorithm key pairs.\n",
    "Enter file in which to save the key (/home/user/.ssh/id_ed25519): # [Press enter]\n",
    "Enter passphrase (empty for no passphrase): # [Type a password]\n",
    "Enter same passphrase again: # [Type password again]"
   ]
  },
  {
   "cell_type": "markdown",
   "id": "5bb9174e",
   "metadata": {},
   "source": [
    "# Adding your SSH key to the ssh-agent"
   ]
  },
  {
   "cell_type": "markdown",
   "id": "ec80aa54",
   "metadata": {},
   "source": [
    "ssh-agent is a program that manages SSH keys and remembers our password. So we don’t need to re-enter the password every time we use SSH key, just follow the steps below:"
   ]
  },
  {
   "cell_type": "markdown",
   "id": "84e63fca",
   "metadata": {},
   "source": [
    "Open the Linux terminal or WSL for Windows users."
   ]
  },
  {
   "cell_type": "markdown",
   "id": "4f541eac",
   "metadata": {},
   "source": [
    "Follow the steps below:"
   ]
  },
  {
   "cell_type": "code",
   "execution_count": null,
   "id": "c7516906",
   "metadata": {},
   "outputs": [],
   "source": [
    "> eval \"$(ssh-agent -s)\" # ensure ssh-agent is running\n",
    "Agent pid 59566\n",
    "> ssh-add ~/.ssh/id_ed25519 # add our SSH key to ssh-agent\n",
    "Enter passphrase for /home/user/.ssh/id_ed25519: # [Type SSH key password]\n",
    "Identity added: /home/user/.ssh/id_ed25519 ([email protected])"
   ]
  },
  {
   "cell_type": "markdown",
   "id": "39bbcd70",
   "metadata": {},
   "source": [
    "# Add SSH key to Github"
   ]
  },
  {
   "cell_type": "markdown",
   "id": "dfb0cf87",
   "metadata": {},
   "source": [
    "So that Github can accept connections from our computer, we need to add the SSH key that we generated earlier to our Github account."
   ]
  },
  {
   "cell_type": "markdown",
   "id": "c0053e55",
   "metadata": {},
   "source": [
    "Copy the SSH public key to the clipboard."
   ]
  },
  {
   "cell_type": "code",
   "execution_count": null,
   "id": "92174e4d",
   "metadata": {},
   "outputs": [],
   "source": [
    "> clip < ~/.ssh/id_ed25519.pub # Copy the contents of the id_ed25519.pub file to the clipboard"
   ]
  },
  {
   "cell_type": "markdown",
   "id": "8a847515",
   "metadata": {},
   "source": [
    "Note: If clip doesn’t work, read the contents of the file with the command cat ~/.ssh/id_ed25519.pub then copy the contents of the file."
   ]
  },
  {
   "cell_type": "markdown",
   "id": "49d3f198",
   "metadata": {},
   "source": [
    "In the top right corner of any page, click your profile photo, then click Settings."
   ]
  },
  {
   "cell_type": "markdown",
   "id": "4dae0ffe",
   "metadata": {},
   "source": [
    "In the “Access” section of the sidebar, click 🔑 SSH and GPG keys."
   ]
  },
  {
   "cell_type": "markdown",
   "id": "6cca2e0a",
   "metadata": {},
   "source": [
    "Click New SSH key or Add SSH key."
   ]
  },
  {
   "cell_type": "markdown",
   "id": "28c95a4c",
   "metadata": {},
   "source": [
    "In the “Title” field, add a title for the new key. This title can be filled in with the name of your device or other identification that is easy to distinguish."
   ]
  },
  {
   "cell_type": "markdown",
   "id": "ff3a3227",
   "metadata": {},
   "source": [
    "Paste the key that has been generated into the “Key” field."
   ]
  },
  {
   "cell_type": "markdown",
   "id": "7feeec26",
   "metadata": {},
   "source": [
    "Click Add SSH key."
   ]
  },
  {
   "cell_type": "markdown",
   "id": "f459e314",
   "metadata": {},
   "source": [
    "If prompted, confirm your Github password."
   ]
  },
  {
   "cell_type": "markdown",
   "id": "e5cf8710",
   "metadata": {},
   "source": [
    "# Pull and Push"
   ]
  },
  {
   "cell_type": "markdown",
   "id": "2f00ea22",
   "metadata": {},
   "source": [
    "# What are git pull and git push?"
   ]
  },
  {
   "cell_type": "markdown",
   "id": "f1f99275",
   "metadata": {},
   "source": [
    "By default, git push and git pull only perform operations on the current branch. So, it’s best to use the git status command to see which branch we are in before doing git push or git pull."
   ]
  },
  {
   "cell_type": "markdown",
   "id": "c0881262",
   "metadata": {},
   "source": [
    "# How to Use git pull"
   ]
  },
  {
   "cell_type": "markdown",
   "id": "0e2ef3c5",
   "metadata": {},
   "source": [
    "The git pull command is:"
   ]
  },
  {
   "cell_type": "code",
   "execution_count": null,
   "id": "818f0823",
   "metadata": {},
   "outputs": [],
   "source": [
    "> git pull"
   ]
  },
  {
   "cell_type": "markdown",
   "id": "f37056e4",
   "metadata": {},
   "source": [
    "# Example of using git pull"
   ]
  },
  {
   "cell_type": "markdown",
   "id": "9ec9c3b8",
   "metadata": {},
   "source": [
    "For example, on another computer that has the same repository, we haven’t gotten the update commit with the message “docs: add guide notes” that we push before."
   ]
  },
  {
   "cell_type": "code",
   "execution_count": null,
   "id": "4362675b",
   "metadata": {},
   "outputs": [],
   "source": [
    "> git log --oneline\n",
    "71efdaa (HEAD -> main, origin/main) docs: add ideation\n",
    "5dfaf0b docs: add README.md"
   ]
  },
  {
   "cell_type": "markdown",
   "id": "78040c20",
   "metadata": {},
   "source": [
    "So do git pull to get the update:"
   ]
  },
  {
   "cell_type": "code",
   "execution_count": null,
   "id": "07776eab",
   "metadata": {},
   "outputs": [],
   "source": [
    "> git pull\n",
    "> git log --oneline\n",
    "a144815 (HEAD -> main, origin/main) docs: add guide notes\n",
    "71efdaa docs: add ideation\n",
    "5dfaf0b docs: add README.md"
   ]
  },
  {
   "cell_type": "markdown",
   "id": "5e0b8a34",
   "metadata": {},
   "source": [
    "So you can see that there is an additional commit with the message “docs: add guide notes”."
   ]
  },
  {
   "cell_type": "markdown",
   "id": "1b9b7c0c",
   "metadata": {},
   "source": [
    "# How to Use git push"
   ]
  },
  {
   "cell_type": "markdown",
   "id": "b89d864e",
   "metadata": {},
   "source": [
    "It is recommended to run the git pull command before starting to make changes. This will update our local branch with all new commits that other contributors may have made."
   ]
  },
  {
   "cell_type": "markdown",
   "id": "c68a8400",
   "metadata": {},
   "source": [
    "Commonly used git push commands are:"
   ]
  },
  {
   "cell_type": "markdown",
   "id": "ac8b33eb",
   "metadata": {},
   "source": [
    "Push to specific remotes and branches"
   ]
  },
  {
   "cell_type": "code",
   "execution_count": null,
   "id": "8a5ae14a",
   "metadata": {},
   "outputs": [],
   "source": [
    "> git push <remote name> <branch name>"
   ]
  },
  {
   "cell_type": "markdown",
   "id": "f9a98abd",
   "metadata": {},
   "source": [
    "Example:"
   ]
  },
  {
   "cell_type": "code",
   "execution_count": null,
   "id": "a073b0a1",
   "metadata": {},
   "outputs": [],
   "source": [
    "> git push origin main"
   ]
  },
  {
   "cell_type": "markdown",
   "id": "4979c75a",
   "metadata": {},
   "source": [
    "We can also ensure that every time we do a push it always goes to the same remote, by running the command:"
   ]
  },
  {
   "cell_type": "code",
   "execution_count": null,
   "id": "0d8d0b87",
   "metadata": {},
   "outputs": [],
   "source": [
    "git push -u <remote name> <branch name>"
   ]
  },
  {
   "cell_type": "markdown",
   "id": "c70e1180",
   "metadata": {},
   "source": [
    "So after we run git push with the -u option, we simply run git push without having to provide the remote and branch names again."
   ]
  },
  {
   "cell_type": "markdown",
   "id": "559a90cd",
   "metadata": {},
   "source": [
    "Example:"
   ]
  },
  {
   "cell_type": "code",
   "execution_count": null,
   "id": "050dea23",
   "metadata": {},
   "outputs": [],
   "source": [
    "> git push -u origin main\n",
    "> git push # here we don't need to provide the remote and branch name anymore"
   ]
  },
  {
   "cell_type": "markdown",
   "id": "d930129d",
   "metadata": {},
   "source": [
    "Push all branches"
   ]
  },
  {
   "cell_type": "code",
   "execution_count": null,
   "id": "75893a1c",
   "metadata": {},
   "outputs": [],
   "source": [
    "> git push --all"
   ]
  },
  {
   "cell_type": "markdown",
   "id": "2b218bb3",
   "metadata": {},
   "source": [
    "# Example of using git push"
   ]
  },
  {
   "cell_type": "markdown",
   "id": "4898f0ab",
   "metadata": {},
   "source": [
    " Commits that exist in the remote repository before being pushed"
   ]
  },
  {
   "cell_type": "markdown",
   "id": "9120ae3c",
   "metadata": {},
   "source": [
    "![Image](https://storage.googleapis.com/rg-ai-bootcamp/toolkits/training-kit-second-commit-min.png)"
   ]
  },
  {
   "cell_type": "code",
   "execution_count": null,
   "id": "db6e3774",
   "metadata": {},
   "outputs": [],
   "source": [
    "> git log --oneline\n",
    "a144815 (HEAD -> main) docs: add guide notes\n",
    "71efdaa (origin/main) docs: add ideation\n",
    "5dfaf0b docs: add README.md"
   ]
  },
  {
   "cell_type": "markdown",
   "id": "cb8851bf",
   "metadata": {},
   "source": [
    "We see that between the screenshot and the log above, there is one commit that is not yet in the remote (“docs: add guide notes”)."
   ]
  },
  {
   "cell_type": "markdown",
   "id": "bfabd370",
   "metadata": {},
   "source": [
    "Now try executing the git push command."
   ]
  },
  {
   "cell_type": "code",
   "execution_count": null,
   "id": "8edb46a5",
   "metadata": {},
   "outputs": [],
   "source": [
    "> git push\n",
    "> git log --oneline\n",
    "a144815 (HEAD -> main, origin/main) docs: add guide notes # now this commit is in the remote repository\n",
    "71efdaa docs: add ideation\n",
    "5dfaf0b docs: add README.md"
   ]
  },
  {
   "cell_type": "markdown",
   "id": "491a71f8",
   "metadata": {},
   "source": []
  },
  {
   "cell_type": "markdown",
   "id": "d93904c5",
   "metadata": {},
   "source": [
    "![Image](https://storage.googleapis.com/rg-ai-bootcamp/toolkits/training-kit-third-commit-min.png)"
   ]
  },
  {
   "cell_type": "markdown",
   "id": "7e81c4c1",
   "metadata": {},
   "source": [
    "It can be seen that our commit has been successfully push to the remote repository."
   ]
  },
  {
   "cell_type": "markdown",
   "id": "1ef3b4eb",
   "metadata": {},
   "source": [
    "So that’s how we collaborate using remote repositories."
   ]
  },
  {
   "cell_type": "markdown",
   "id": "bf8fad7d",
   "metadata": {},
   "source": [
    "# Clone"
   ]
  },
  {
   "cell_type": "markdown",
   "id": "dc011f45",
   "metadata": {},
   "source": [
    "# What is git clone?"
   ]
  },
  {
   "cell_type": "markdown",
   "id": "6ff72c73",
   "metadata": {},
   "source": [
    "The git clone command is used to make a copy of a particular repository from a remote repository to our local computer."
   ]
  },
  {
   "cell_type": "markdown",
   "id": "0fa2600d",
   "metadata": {},
   "source": [
    "Cloning will copy the entire remote repository, including all files, commit and branch."
   ]
  },
  {
   "cell_type": "markdown",
   "id": "f630c1da",
   "metadata": {},
   "source": [
    "# How to Use git clone"
   ]
  },
  {
   "cell_type": "markdown",
   "id": "f22dd797",
   "metadata": {},
   "source": [
    "The way to do cloning is:"
   ]
  },
  {
   "cell_type": "markdown",
   "id": "ea870ff6",
   "metadata": {},
   "source": [
    "On GitHub.com, navigate to the main page of the repository to be_cloned_."
   ]
  },
  {
   "cell_type": "markdown",
   "id": "cac1a927",
   "metadata": {},
   "source": [
    "Above the file list, click ⤓ Code."
   ]
  },
  {
   "cell_type": "markdown",
   "id": "93f52443",
   "metadata": {},
   "source": []
  },
  {
   "cell_type": "markdown",
   "id": "a7f1c46a",
   "metadata": {},
   "source": [
    "![Image](https://storage.googleapis.com/rg-ai-bootcamp/toolkits/code-button-clone-min.png)"
   ]
  },
  {
   "cell_type": "markdown",
   "id": "d473b707",
   "metadata": {},
   "source": [
    "Select the SSH tab to copy the repository url and clone the repository with the SSH protocol:"
   ]
  },
  {
   "cell_type": "markdown",
   "id": "65abd989",
   "metadata": {},
   "source": [
    "Open the Linux terminal or WSL on Windows."
   ]
  },
  {
   "cell_type": "markdown",
   "id": "8c8b0053",
   "metadata": {},
   "source": [
    "Change the current folder to where we will save the clone."
   ]
  },
  {
   "cell_type": "markdown",
   "id": "6686723a",
   "metadata": {},
   "source": [
    "Type git clone, then paste the remote URL you copied earlier and press Enter."
   ]
  },
  {
   "cell_type": "code",
   "execution_count": null,
   "id": "fca1362b",
   "metadata": {},
   "outputs": [],
   "source": [
    "> git clone [email protected]:ruang-guru/playground.git\n",
    "Cloning into `playground`...\n",
    "remote: Counting objects: 10, done.\n",
    "remote: Compressing objects: 100% (8/8), done.\n",
    "remove: Total 10 (delta 1), reused 10 (delta 1)\n",
    "Unpacking objects: 100% (10/10), done."
   ]
  },
  {
   "cell_type": "markdown",
   "id": "c4c5f2a3",
   "metadata": {},
   "source": [
    "We can see the cloned remote URL with the command git remote -v:"
   ]
  },
  {
   "cell_type": "code",
   "execution_count": null,
   "id": "abb57550",
   "metadata": {},
   "outputs": [],
   "source": [
    "> git remote -v\n",
    "origin [email protected]:ruang-guru/playground.git (fetch)\n",
    "origin [email protected]:ruang-guru/playground.git (push)"
   ]
  },
  {
   "cell_type": "markdown",
   "id": "80bc6bb7",
   "metadata": {},
   "source": [
    "Notice that we now have a clone repository located in folder playground: bash     > ls playground     README.md frontend introduction-to-programming     ..."
   ]
  },
  {
   "cell_type": "markdown",
   "id": "ae741f64",
   "metadata": {},
   "source": [
    "Now we can use the repository on the local computer and change it as needed."
   ]
  },
  {
   "cell_type": "markdown",
   "id": "c5358199",
   "metadata": {},
   "source": [
    "# Collaboration"
   ]
  },
  {
   "cell_type": "markdown",
   "id": "3c462886",
   "metadata": {},
   "source": [
    "Collaborative development models are divided into 2, namely:"
   ]
  },
  {
   "cell_type": "markdown",
   "id": "72c323c0",
   "metadata": {},
   "source": [
    "Fork and pull model: we do not need permission from the repository owner to push and changes are submitted by making a pull request from the fork to the original repository."
   ]
  },
  {
   "cell_type": "markdown",
   "id": "568b5fa7",
   "metadata": {},
   "source": [
    "Shared repository model: collaborators are given push access to one repository and branches are created when changes need to be made, pull requests are made to review changes that have been made."
   ]
  },
  {
   "cell_type": "markdown",
   "id": "260e67ad",
   "metadata": {},
   "source": [
    "# Git Flow"
   ]
  },
  {
   "cell_type": "markdown",
   "id": "054507df",
   "metadata": {},
   "source": [
    "Collaborating on Github requires us to discuss with other people every change that occurs. Usually the journey is as follows:"
   ]
  },
  {
   "cell_type": "markdown",
   "id": "a0833b08",
   "metadata": {},
   "source": [
    "# Pull Request"
   ]
  },
  {
   "cell_type": "markdown",
   "id": "2f0ecc43",
   "metadata": {},
   "source": [
    "PR (Pull Request) is a request to add changes to Github. When making homework, make a summary of the changes and issue to be solved, you can use images, links, or tables."
   ]
  },
  {
   "cell_type": "markdown",
   "id": "10dc0fa2",
   "metadata": {},
   "source": [
    " PR Body (source: docs.github.com)"
   ]
  },
  {
   "cell_type": "markdown",
   "id": "777d8771",
   "metadata": {},
   "source": [
    "![Image](https://storage.googleapis.com/rg-ai-bootcamp/toolkits/pull-request-body-min.png)"
   ]
  },
  {
   "cell_type": "markdown",
   "id": "4f2122ef",
   "metadata": {},
   "source": [
    "We can also add comments to certain lines to indicate something to the reviewer."
   ]
  },
  {
   "cell_type": "markdown",
   "id": "9d9f9700",
   "metadata": {},
   "source": [
    " PR comment (source: docs.github.com)"
   ]
  },
  {
   "cell_type": "markdown",
   "id": "25f7067e",
   "metadata": {},
   "source": [
    "![Image](https://storage.googleapis.com/rg-ai-bootcamp/toolkits/pull-request-comment-min.png)"
   ]
  },
  {
   "cell_type": "markdown",
   "id": "7ac807a3",
   "metadata": {},
   "source": [
    "# Creating a pull request"
   ]
  },
  {
   "cell_type": "markdown",
   "id": "a38cf5ca",
   "metadata": {},
   "source": [
    "We can create a PR (Pull Request) by following the documentation: Creating a pull request."
   ]
  },
  {
   "cell_type": "markdown",
   "id": "bd95b6d0",
   "metadata": {},
   "source": [
    "We can also create a PR for fork by following the documentation: Creating a Pull Request from a Fork."
   ]
  },
  {
   "cell_type": "markdown",
   "id": "13facb27",
   "metadata": {},
   "source": [
    "# PR Review"
   ]
  },
  {
   "cell_type": "markdown",
   "id": "4357b02b",
   "metadata": {},
   "source": [
    "Review is the activity of commenting on proposed changes, approving changes, or requesting changes before a PR is merged."
   ]
  },
  {
   "cell_type": "markdown",
   "id": "2bfc450e",
   "metadata": {},
   "source": [
    " Review with comment (source: docs.github.com)"
   ]
  },
  {
   "cell_type": "markdown",
   "id": "a04159ed",
   "metadata": {},
   "source": [
    "![Image](https://storage.googleapis.com/rg-ai-bootcamp/toolkits/review-header-with-line-comment-min.png)"
   ]
  },
  {
   "cell_type": "markdown",
   "id": "818831be",
   "metadata": {},
   "source": [
    "# Status Review"
   ]
  },
  {
   "cell_type": "markdown",
   "id": "712043ed",
   "metadata": {},
   "source": [
    "A review has three possible status, namely:"
   ]
  },
  {
   "cell_type": "markdown",
   "id": "40a1ca84",
   "metadata": {},
   "source": []
  },
  {
   "cell_type": "markdown",
   "id": "c33fbfb6",
   "metadata": {},
   "source": [
    "![Image](https://storage.googleapis.com/rg-ai-bootcamp/toolkits/pull-request-review-statuses-min.png)"
   ]
  },
  {
   "cell_type": "markdown",
   "id": "df57d14b",
   "metadata": {},
   "source": [
    "PR statuses (source: ocs.github.com)"
   ]
  },
  {
   "cell_type": "markdown",
   "id": "efd3855f",
   "metadata": {},
   "source": [
    "We can see all reviews in the Conversation timeline tab, and we can see reviews by collaborators in Pull Request’s merge box."
   ]
  },
  {
   "cell_type": "markdown",
   "id": "450ab213",
   "metadata": {},
   "source": []
  },
  {
   "cell_type": "markdown",
   "id": "e9bcec37",
   "metadata": {},
   "source": [
    "![Image](https://storage.googleapis.com/rg-ai-bootcamp/toolkits/conversation-min.png)"
   ]
  },
  {
   "cell_type": "markdown",
   "id": "4a823d2d",
   "metadata": {},
   "source": [
    "Conversation (source: docs.github.com)"
   ]
  },
  {
   "cell_type": "markdown",
   "id": "4a3bfea8",
   "metadata": {},
   "source": []
  },
  {
   "cell_type": "markdown",
   "id": "ba53f874",
   "metadata": {},
   "source": [
    "![Image](https://storage.googleapis.com/rg-ai-bootcamp/toolkits/pr-reviews-in-merge-box-min.png)"
   ]
  },
  {
   "cell_type": "markdown",
   "id": "1c9cb40c",
   "metadata": {},
   "source": [
    "Review in merge box (source: docs.github.com)"
   ]
  },
  {
   "cell_type": "markdown",
   "id": "2294b675",
   "metadata": {},
   "source": [
    "# Resolving conversations"
   ]
  },
  {
   "cell_type": "markdown",
   "id": "2b98fb6f",
   "metadata": {},
   "source": [
    "We can finish the conversation to show that the file has finished changing, we can click Resolve conversation in the comment bar."
   ]
  },
  {
   "cell_type": "markdown",
   "id": "f07f0a10",
   "metadata": {},
   "source": []
  },
  {
   "cell_type": "markdown",
   "id": "344921d1",
   "metadata": {},
   "source": [
    "![Image](https://storage.googleapis.com/rg-ai-bootcamp/toolkits/conversation-with-resolve-button-min.png)"
   ]
  },
  {
   "cell_type": "markdown",
   "id": "df803eb5",
   "metadata": {},
   "source": [
    "Resolve conversation button (source: docs.github.com)"
   ]
  },
  {
   "cell_type": "markdown",
   "id": "a36fe508",
   "metadata": {},
   "source": [
    "All conversations will be collapsed and marked as resolved, making it easier to find conversations that still need to be addressed."
   ]
  },
  {
   "cell_type": "markdown",
   "id": "c2cffc0b",
   "metadata": {},
   "source": []
  },
  {
   "cell_type": "markdown",
   "id": "0d0e71a8",
   "metadata": {},
   "source": [
    "![Image](https://storage.googleapis.com/rg-ai-bootcamp/toolkits/resolved-conversation-min.png)"
   ]
  },
  {
   "cell_type": "markdown",
   "id": "2bbb2000",
   "metadata": {},
   "source": [
    "Resolved conversation (source: docs.github.com)"
   ]
  },
  {
   "cell_type": "markdown",
   "id": "7efefe78",
   "metadata": {},
   "source": [
    "# Discovering and navigating conversations"
   ]
  },
  {
   "cell_type": "markdown",
   "id": "cf2496f0",
   "metadata": {},
   "source": [
    "We can find and navigate to all conversations using the Conversations menu displayed on the Files changed tab."
   ]
  },
  {
   "cell_type": "markdown",
   "id": "c713c954",
   "metadata": {},
   "source": [
    "From this view, we can see which conversations are unresolved, resolved, and outdated. This makes it easier for us to find and complete conversations."
   ]
  },
  {
   "cell_type": "markdown",
   "id": "f72eeb25",
   "metadata": {},
   "source": [
    " Conversation menu (source: docs.github.com)"
   ]
  },
  {
   "cell_type": "markdown",
   "id": "7236c122",
   "metadata": {},
   "source": [
    "![Image](https://storage.googleapis.com/rg-ai-bootcamp/toolkits/conversations-menu-min.png)"
   ]
  },
  {
   "cell_type": "markdown",
   "id": "f8bb1e8b",
   "metadata": {},
   "source": [
    "# Re-requesting a review"
   ]
  },
  {
   "cell_type": "markdown",
   "id": "ec51a2ea",
   "metadata": {},
   "source": [
    "We can request a review after we make changes. To do this, on the sidebar tab Conversation, click  (icon)."
   ]
  },
  {
   "cell_type": "markdown",
   "id": "c49407e2",
   "metadata": {},
   "source": [
    "![Image](https://storage.googleapis.com/rg-ai-bootcamp/toolkits/re-review-icon.png)"
   ]
  },
  {
   "cell_type": "markdown",
   "id": "f5192ff8",
   "metadata": {},
   "source": []
  },
  {
   "cell_type": "markdown",
   "id": "d66f5379",
   "metadata": {},
   "source": [
    "![Image](https://storage.googleapis.com/rg-ai-bootcamp/toolkits/re-review-min.png)"
   ]
  },
  {
   "cell_type": "markdown",
   "id": "a389b094",
   "metadata": {},
   "source": [
    "For more details on how we comment on PRs we can see the documentation: Commenting on a pull request."
   ]
  },
  {
   "cell_type": "markdown",
   "id": "a83e4fb1",
   "metadata": {},
   "source": [
    "# Organization"
   ]
  },
  {
   "cell_type": "markdown",
   "id": "cf17fe48",
   "metadata": {},
   "source": [
    "# What is the organization in Github?"
   ]
  },
  {
   "cell_type": "markdown",
   "id": "1ecf29e3",
   "metadata": {},
   "source": [
    "Organizations on Github are shared accounts where businesses and open-source projects collaborate with multiple projects at once. Owner and Administrator can manage member access to data and organizations with advanced security and administrative features."
   ]
  },
  {
   "cell_type": "markdown",
   "id": "5ec77ef3",
   "metadata": {},
   "source": [
    "Everyone who uses GitHub can use their account to create an organization. These organizations include:"
   ]
  },
  {
   "cell_type": "markdown",
   "id": "303e3c6d",
   "metadata": {},
   "source": [
    "All organizations can have both public and private repositories."
   ]
  },
  {
   "cell_type": "markdown",
   "id": "0dbcc36f",
   "metadata": {},
   "source": [
    "# Create an organization in Github"
   ]
  },
  {
   "cell_type": "markdown",
   "id": "b5608850",
   "metadata": {},
   "source": [
    "How to create an organization is quite easy, we can follow these steps:"
   ]
  },
  {
   "cell_type": "markdown",
   "id": "dc9f6b9b",
   "metadata": {},
   "source": [
    "# Accessing your organization’s settings"
   ]
  },
  {
   "cell_type": "markdown",
   "id": "d773dcf3",
   "metadata": {},
   "source": [
    "The organization’s account settings page provides several ways to manage accounts, such as billing, team membership and repository settings."
   ]
  },
  {
   "cell_type": "markdown",
   "id": "5913a6ea",
   "metadata": {},
   "source": [
    "There are more information there that can be customized for your Organization."
   ]
  }
 ],
 "metadata": {},
 "nbformat": 4,
 "nbformat_minor": 5
}
