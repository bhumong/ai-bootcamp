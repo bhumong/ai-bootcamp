{
 "cells": [
  {
   "cell_type": "markdown",
   "id": "c6cfb646",
   "metadata": {},
   "source": [
    "source: [link](https://ai-bootcamp.ruangguru.com/learn/01_toolkits/00_python/06_working-with-files.html)"
   ]
  },
  {
   "cell_type": "markdown",
   "id": "da3e260a",
   "metadata": {},
   "source": [
    "# Working with Files"
   ]
  },
  {
   "cell_type": "markdown",
   "id": "246d75ef",
   "metadata": {},
   "source": [
    "Python provides built-in function to handle file manipulation from creating, reading to writing."
   ]
  },
  {
   "cell_type": "markdown",
   "id": "10321b56",
   "metadata": {},
   "source": [
    "# Reading Text Files"
   ]
  },
  {
   "cell_type": "markdown",
   "id": "72e145b5",
   "metadata": {},
   "source": [
    "To read a text file in Python, you can use the built-in open() function with the desired file path and mode. The most common modes are:"
   ]
  },
  {
   "cell_type": "markdown",
   "id": "4f3182e6",
   "metadata": {},
   "source": [
    "Here’s an example of reading a text file:"
   ]
  },
  {
   "cell_type": "code",
   "execution_count": null,
   "id": "d2bbee09",
   "metadata": {},
   "outputs": [],
   "source": [
    "with open('file.txt', 'r') as file:\n",
    "    data = file.read()\n",
    "    print(data)"
   ]
  },
  {
   "cell_type": "markdown",
   "id": "2bbdc416",
   "metadata": {},
   "source": [
    "# Writing Text Files"
   ]
  },
  {
   "cell_type": "markdown",
   "id": "479b686f",
   "metadata": {},
   "source": [
    "To write data to a text file, you can use the open() function with the 'w' (write) or 'a'(append) mode."
   ]
  },
  {
   "cell_type": "markdown",
   "id": "e6e5d330",
   "metadata": {},
   "source": [
    "In this example, we write data to a file:"
   ]
  },
  {
   "cell_type": "code",
   "execution_count": null,
   "id": "8e5007e2",
   "metadata": {},
   "outputs": [],
   "source": [
    "data = \"This is a text file.\"\n",
    "\n",
    "with open('file.txt', 'w') as file:\n",
    "    file.write(data)"
   ]
  },
  {
   "cell_type": "markdown",
   "id": "8dc7b70a",
   "metadata": {},
   "source": [
    "# Example"
   ]
  },
  {
   "cell_type": "markdown",
   "id": "b489f2af",
   "metadata": {},
   "source": [
    "Suppose you have a CSV file with user data that needs to be cleaned and transformed before being saved into a new file. The CSV file has the following columns: user_id, name, email, and age."
   ]
  },
  {
   "cell_type": "code",
   "execution_count": null,
   "id": "8e8ed654",
   "metadata": {},
   "outputs": [],
   "source": [
    "user_id,name,email,age\n",
    "1,John Doe,[email protected],32\n",
    "2,Jane Smith,[email protected],28\n",
    "3,James Brown,[email protected],55"
   ]
  },
  {
   "cell_type": "markdown",
   "id": "27a891b1",
   "metadata": {},
   "source": [
    "The following Python script reads the CSV file, removes all users aged below 30, and saves the new data into another file. We’ll use the build-in module csv."
   ]
  },
  {
   "cell_type": "code",
   "execution_count": null,
   "id": "aea8804b",
   "metadata": {},
   "outputs": [],
   "source": [
    "import csv\n",
    "\n",
    "input_file = 'users.csv'\n",
    "output_file = 'filtered_users.csv'\n",
    "\n",
    "with open(input_file, 'r') as infile, open(output_file, 'w', newline='') as outfile:\n",
    "    csv_reader = csv.DictReader(infile)\n",
    "    fieldnames = csv_reader.fieldnames\n",
    "\n",
    "    csv_writer = csv.DictWriter(outfile, fieldnames=fieldnames)\n",
    "    csv_writer.writeheader()\n",
    "\n",
    "    for row in csv_reader:\n",
    "        if int(row['age']) >= 30:\n",
    "            csv_writer.writerow(row)"
   ]
  },
  {
   "cell_type": "markdown",
   "id": "e9f67eb1",
   "metadata": {},
   "source": [
    "# Exercise Working with Files"
   ]
  },
  {
   "cell_type": "code",
   "execution_count": null,
   "id": "48a5a36d",
   "metadata": {},
   "outputs": [],
   "source": [
    "!pip install rggrader"
   ]
  },
  {
   "cell_type": "code",
   "execution_count": null,
   "id": "78b69ffc",
   "metadata": {},
   "outputs": [],
   "source": [
    "# @title #### Student Identity\n",
    "student_id = \"your student id\" # @param {type:\"string\"}\n",
    "name = \"your name\" # @param {type:\"string\"}"
   ]
  },
  {
   "cell_type": "code",
   "execution_count": null,
   "id": "6b7cbace",
   "metadata": {},
   "outputs": [],
   "source": [
    "# @title #### 00. Read File\n",
    "from rggrader import submit\n",
    "\n",
    "# TODO: \n",
    "# 1. In Google Colab, navigate to the left sidebar and click on the file folder icon 📁. Create a new text file named 'output.txt' by right clicking in the file panel and selecting 'New File'.\n",
    "# 2. Assume that you need to write the string \"Hello, OpenAI!\" to 'output.txt'. \n",
    "# 3. Write a Python code that opens 'output.txt' in write mode and writes this string to the file.\n",
    "# 4. Assign the string \"Hello, OpenAI!\" to a variable named 'content'.\n",
    "\n",
    "# Note: This exercise is for demonstrating that you know the appropriate Python code for writing to a file. The actual file writing won't occur.\n",
    "\n",
    "# Put your code here:\n",
    "file_content = \"\"\n",
    "\n",
    "\n",
    "# ---- End of your code ----\n",
    "\n",
    "\n",
    "# Do not modify the code below. It is used to submit your solution.\n",
    "assignment_id = \"06-working-with-files\"\n",
    "question_id = \"00_read_file\"\n",
    "submit(student_id, name, assignment_id, file_content, question_id)\n",
    "\n",
    "# Example:\n",
    "# Assume File: 'data.txt'\n",
    "# Content: \"Data Science with OpenAI\"\n",
    "# Output: After reading and stripping, the content should be \"Data Science with OpenAI\""
   ]
  }
 ],
 "metadata": {},
 "nbformat": 4,
 "nbformat_minor": 5
}
