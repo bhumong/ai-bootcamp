{
 "cells": [
  {
   "cell_type": "markdown",
   "id": "084e7dbb",
   "metadata": {},
   "source": [
    "source: [link](https://ai-bootcamp.ruangguru.com/learn/01_toolkits/00_python/07_virtual-environments.html)"
   ]
  },
  {
   "cell_type": "markdown",
   "id": "33992017",
   "metadata": {},
   "source": [
    "# Virtual Environments"
   ]
  },
  {
   "cell_type": "markdown",
   "id": "187b666a",
   "metadata": {},
   "source": [
    "# Creating and Managing Virtual Environments"
   ]
  },
  {
   "cell_type": "markdown",
   "id": "413c1568",
   "metadata": {},
   "source": [
    "Creating and managing virtual environments in Python is essential when working with multiple projects, as it allows you to maintain isolated environments for each project, preventing conflicts between package versions."
   ]
  },
  {
   "cell_type": "markdown",
   "id": "e9f8ecea",
   "metadata": {},
   "source": [
    "# Creating a Virtual Environment"
   ]
  },
  {
   "cell_type": "markdown",
   "id": "47a3b1f6",
   "metadata": {},
   "source": [
    "To create a virtual environment, you can use Python’s built-in venv module for Python 3.3+ or virtualenv package for earlier versions of Python."
   ]
  },
  {
   "cell_type": "markdown",
   "id": "1b91c124",
   "metadata": {},
   "source": [
    "Now, let’s create a new virtual environment called my_venv"
   ]
  },
  {
   "cell_type": "markdown",
   "id": "edc52c79",
   "metadata": {},
   "source": [
    "- Using venv for Python 3.3+python -m venv my_venv\n",
    "- Usingvirtualenvfor earlier versionsvirtualenv my_venv"
   ]
  },
  {
   "cell_type": "markdown",
   "id": "a9149c3a",
   "metadata": {},
   "source": [
    "Using venv for Python 3.3+"
   ]
  },
  {
   "cell_type": "code",
   "execution_count": null,
   "id": "76c8402f",
   "metadata": {},
   "outputs": [],
   "source": [
    "python -m venv my_venv"
   ]
  },
  {
   "cell_type": "markdown",
   "id": "da07f1a0",
   "metadata": {},
   "source": [
    "Using virtualenv for earlier versions"
   ]
  },
  {
   "cell_type": "code",
   "execution_count": null,
   "id": "45e7d659",
   "metadata": {},
   "outputs": [],
   "source": [
    "virtualenv my_venv"
   ]
  },
  {
   "cell_type": "markdown",
   "id": "51c8bb94",
   "metadata": {},
   "source": [
    "# Activating the Virtual Environment"
   ]
  },
  {
   "cell_type": "markdown",
   "id": "90a15ed5",
   "metadata": {},
   "source": [
    "Activate the virtual environment to modify the current shell environment variables and ensure that the appropriate Python interpreter and packages are used"
   ]
  },
  {
   "cell_type": "markdown",
   "id": "26d6acf9",
   "metadata": {},
   "source": [
    "- On Windowsmy_venv\\Scripts\\activate\n",
    "- On macOS/Linuxsource my_venv/bin/activate"
   ]
  },
  {
   "cell_type": "markdown",
   "id": "2ce37c4b",
   "metadata": {},
   "source": [
    "On Windows"
   ]
  },
  {
   "cell_type": "code",
   "execution_count": null,
   "id": "52de9105",
   "metadata": {},
   "outputs": [],
   "source": [
    "my_venv\\Scripts\\activate"
   ]
  },
  {
   "cell_type": "markdown",
   "id": "98c12ae1",
   "metadata": {},
   "source": [
    "On macOS/Linux"
   ]
  },
  {
   "cell_type": "code",
   "execution_count": null,
   "id": "4d6e935c",
   "metadata": {},
   "outputs": [],
   "source": [
    "source my_venv/bin/activate"
   ]
  },
  {
   "cell_type": "markdown",
   "id": "aa285afe",
   "metadata": {},
   "source": [
    "After activation, the command prompt should change to show the virtual environment’s name (in this case, my_venv)."
   ]
  },
  {
   "cell_type": "markdown",
   "id": "1cfd435b",
   "metadata": {},
   "source": [
    "# Package management"
   ]
  },
  {
   "cell_type": "markdown",
   "id": "2340eb88",
   "metadata": {},
   "source": [
    "Once a virtual environment is activated, you can use pip to install packages specifically for that environment. These packages won’t affect the global Python interpreter or any other virtual environments."
   ]
  },
  {
   "cell_type": "markdown",
   "id": "00311270",
   "metadata": {},
   "source": [
    "For example, let’s install the numpy, pandas, matplotlib package:"
   ]
  },
  {
   "cell_type": "code",
   "execution_count": null,
   "id": "1e85c8c3",
   "metadata": {},
   "outputs": [],
   "source": [
    "pip install numpy pandas matplotlib"
   ]
  },
  {
   "cell_type": "markdown",
   "id": "514188c3",
   "metadata": {},
   "source": [
    "Now, the numpy, pandas, matplotlib package is installed only in the my_venv virtual environment and won’t affect the global Python interpreter or any other virtual environments."
   ]
  },
  {
   "cell_type": "markdown",
   "id": "15a58f65",
   "metadata": {},
   "source": [
    "# Deactivating the Virtual Environment"
   ]
  },
  {
   "cell_type": "markdown",
   "id": "a5926829",
   "metadata": {},
   "source": [
    "When you’re done working with the virtual environment, deactivate it by running the following command:"
   ]
  },
  {
   "cell_type": "code",
   "execution_count": null,
   "id": "33642a15",
   "metadata": {},
   "outputs": [],
   "source": [
    "deactivate"
   ]
  },
  {
   "cell_type": "markdown",
   "id": "25daea18",
   "metadata": {},
   "source": [
    "This returns you back to the global Python interpreter."
   ]
  },
  {
   "cell_type": "markdown",
   "id": "420e4bcb",
   "metadata": {},
   "source": [
    "# Using Virtual Environments for Projects"
   ]
  },
  {
   "cell_type": "markdown",
   "id": "633e86dd",
   "metadata": {},
   "source": [
    "Using virtual environments for projects in Python offers several key benefits that enhance the development, maintenance, and collaboration aspects of the projects."
   ]
  },
  {
   "cell_type": "markdown",
   "id": "c4d1dde7",
   "metadata": {},
   "source": [
    "# Isolated dependencies"
   ]
  },
  {
   "cell_type": "markdown",
   "id": "cbcfd8a2",
   "metadata": {},
   "source": [
    "Virtual environments enable each project to have its own isolated dependencies, preventing conflicts between package versions. This way, upgrading or downgrading a package for one project won’t impact any other projects or the global Python installation."
   ]
  },
  {
   "cell_type": "markdown",
   "id": "1724093b",
   "metadata": {},
   "source": [
    "# Reproducibility"
   ]
  },
  {
   "cell_type": "markdown",
   "id": "c53f846f",
   "metadata": {},
   "source": [
    "Virtual environments facilitate the process of reproducing your project on other machines or sharing it with collaborators. When working with a virtual environment, you can easily generate a list of the project’s dependencies and later install those dependencies in another virtual environment with pip install -r requirements.txt."
   ]
  },
  {
   "cell_type": "markdown",
   "id": "96b2f860",
   "metadata": {},
   "source": [
    "# Consistency"
   ]
  },
  {
   "cell_type": "markdown",
   "id": "58da17cb",
   "metadata": {},
   "source": [
    "By using virtual environments, you can maintain a consistent development environment across your team, as everyone will use the same Python interpreter and package versions specified in the project’s virtual environment. This reduces the risk of discrepancies between development environments that could lead to inconsistent behavior."
   ]
  },
  {
   "cell_type": "markdown",
   "id": "119abf9e",
   "metadata": {},
   "source": [
    "# Easier debugging & testing"
   ]
  },
  {
   "cell_type": "markdown",
   "id": "7386c865",
   "metadata": {},
   "source": [
    "By testing your code in an isolated environment with specific package versions, you can more accurately identify issues and avoid unexpected runtime errors. Virtual environments make it easier to test different configurations or package versions without affecting other projects or the global Python installation."
   ]
  },
  {
   "cell_type": "markdown",
   "id": "6646aa3c",
   "metadata": {},
   "source": [
    "# Simplified deployment"
   ]
  },
  {
   "cell_type": "markdown",
   "id": "d6b60ca0",
   "metadata": {},
   "source": [
    "Deploying a project with a virtual environment simplifies the process of setting up dependencies on the target machine, reducing the risk of version mismatch issues. Virtual environments help ensure your project runs with the correct package versions during deployment."
   ]
  },
  {
   "cell_type": "markdown",
   "id": "0d186792",
   "metadata": {},
   "source": [
    "# Summary"
   ]
  },
  {
   "cell_type": "markdown",
   "id": "699d066b",
   "metadata": {},
   "source": [
    "Here are some advantages of using a virtual environment for Python projects: - Helps maintain project-specific dependencies - Improve reproducibility - Provide a consistent development environment - Simplify debugging and testing processes - Simplify deployment."
   ]
  }
 ],
 "metadata": {},
 "nbformat": 4,
 "nbformat_minor": 5
}
