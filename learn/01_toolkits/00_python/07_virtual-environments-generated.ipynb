{
 "cells": [
  {
   "cell_type": "markdown",
   "id": "e41885c8",
   "metadata": {},
   "source": [
    "# Virtual Environments"
   ]
  },
  {
   "cell_type": "markdown",
   "id": "ca70d01b",
   "metadata": {},
   "source": [
    "# Creating and Managing Virtual Environments"
   ]
  },
  {
   "cell_type": "markdown",
   "id": "8f9029ef",
   "metadata": {},
   "source": [
    "Creating and managing virtual environments in Python is essential when working with multiple projects, as it allows you to maintain isolated environments for each project, preventing conflicts between package versions."
   ]
  },
  {
   "cell_type": "markdown",
   "id": "6f39c9b7",
   "metadata": {},
   "source": [
    "# Creating a Virtual Environment"
   ]
  },
  {
   "cell_type": "markdown",
   "id": "2c738a5b",
   "metadata": {},
   "source": [
    "To create a virtual environment, you can use Python’s built-in venv module for Python 3.3+ or virtualenv package for earlier versions of Python."
   ]
  },
  {
   "cell_type": "markdown",
   "id": "3c3940d7",
   "metadata": {},
   "source": [
    "Now, let’s create a new virtual environment called my_venv"
   ]
  },
  {
   "cell_type": "markdown",
   "id": "093b83d4",
   "metadata": {},
   "source": [
    "Using venv for Python 3.3+"
   ]
  },
  {
   "cell_type": "code",
   "execution_count": null,
   "id": "88ae8010",
   "metadata": {},
   "outputs": [],
   "source": [
    "python -m venv my_venv"
   ]
  },
  {
   "cell_type": "markdown",
   "id": "9ac6278c",
   "metadata": {},
   "source": [
    "Using virtualenv for earlier versions"
   ]
  },
  {
   "cell_type": "code",
   "execution_count": null,
   "id": "06685f4e",
   "metadata": {},
   "outputs": [],
   "source": [
    "virtualenv my_venv"
   ]
  },
  {
   "cell_type": "markdown",
   "id": "3ee11714",
   "metadata": {},
   "source": [
    "# Activating the Virtual Environment"
   ]
  },
  {
   "cell_type": "markdown",
   "id": "96edf5b5",
   "metadata": {},
   "source": [
    "Activate the virtual environment to modify the current shell environment variables and ensure that the appropriate Python interpreter and packages are used"
   ]
  },
  {
   "cell_type": "markdown",
   "id": "a3880a97",
   "metadata": {},
   "source": [
    "On Windows"
   ]
  },
  {
   "cell_type": "code",
   "execution_count": null,
   "id": "f6cd9d56",
   "metadata": {},
   "outputs": [],
   "source": [
    "my_venv\\Scripts\\activate"
   ]
  },
  {
   "cell_type": "markdown",
   "id": "d08bae21",
   "metadata": {},
   "source": [
    "On macOS/Linux"
   ]
  },
  {
   "cell_type": "code",
   "execution_count": null,
   "id": "ddb55047",
   "metadata": {},
   "outputs": [],
   "source": [
    "source my_venv/bin/activate"
   ]
  },
  {
   "cell_type": "markdown",
   "id": "fcacfd96",
   "metadata": {},
   "source": [
    "After activation, the command prompt should change to show the virtual environment’s name (in this case, my_venv)."
   ]
  },
  {
   "cell_type": "markdown",
   "id": "cff2ab3f",
   "metadata": {},
   "source": [
    "# Package management"
   ]
  },
  {
   "cell_type": "markdown",
   "id": "745a0521",
   "metadata": {},
   "source": [
    "Once a virtual environment is activated, you can use pip to install packages specifically for that environment. These packages won’t affect the global Python interpreter or any other virtual environments."
   ]
  },
  {
   "cell_type": "markdown",
   "id": "d1ac9229",
   "metadata": {},
   "source": [
    "For example, let’s install the numpy, pandas, matplotlib package:"
   ]
  },
  {
   "cell_type": "code",
   "execution_count": null,
   "id": "59cc4cc1",
   "metadata": {},
   "outputs": [],
   "source": [
    "pip install numpy pandas matplotlib"
   ]
  },
  {
   "cell_type": "markdown",
   "id": "ef9f73d0",
   "metadata": {},
   "source": [
    "Now, the numpy, pandas, matplotlib package is installed only in the my_venv virtual environment and won’t affect the global Python interpreter or any other virtual environments."
   ]
  },
  {
   "cell_type": "markdown",
   "id": "be01f7e1",
   "metadata": {},
   "source": [
    "# Deactivating the Virtual Environment"
   ]
  },
  {
   "cell_type": "markdown",
   "id": "1550bcd0",
   "metadata": {},
   "source": [
    "When you’re done working with the virtual environment, deactivate it by running the following command:"
   ]
  },
  {
   "cell_type": "code",
   "execution_count": null,
   "id": "bc7b1fc3",
   "metadata": {},
   "outputs": [],
   "source": [
    "deactivate"
   ]
  },
  {
   "cell_type": "markdown",
   "id": "fc255543",
   "metadata": {},
   "source": [
    "This returns you back to the global Python interpreter."
   ]
  },
  {
   "cell_type": "markdown",
   "id": "b925c70d",
   "metadata": {},
   "source": [
    "# Using Virtual Environments for Projects"
   ]
  },
  {
   "cell_type": "markdown",
   "id": "6f70428a",
   "metadata": {},
   "source": [
    "Using virtual environments for projects in Python offers several key benefits that enhance the development, maintenance, and collaboration aspects of the projects."
   ]
  },
  {
   "cell_type": "markdown",
   "id": "dedf8b28",
   "metadata": {},
   "source": [
    "# Isolated dependencies"
   ]
  },
  {
   "cell_type": "markdown",
   "id": "60bd32f6",
   "metadata": {},
   "source": [
    "Virtual environments enable each project to have its own isolated dependencies, preventing conflicts between package versions. This way, upgrading or downgrading a package for one project won’t impact any other projects or the global Python installation."
   ]
  },
  {
   "cell_type": "markdown",
   "id": "a94e9e0c",
   "metadata": {},
   "source": [
    "# Reproducibility"
   ]
  },
  {
   "cell_type": "markdown",
   "id": "3fcf8210",
   "metadata": {},
   "source": [
    "Virtual environments facilitate the process of reproducing your project on other machines or sharing it with collaborators. When working with a virtual environment, you can easily generate a list of the project’s dependencies and later install those dependencies in another virtual environment with pip install -r requirements.txt."
   ]
  },
  {
   "cell_type": "markdown",
   "id": "034af2ad",
   "metadata": {},
   "source": [
    "# Consistency"
   ]
  },
  {
   "cell_type": "markdown",
   "id": "8de5c1bb",
   "metadata": {},
   "source": [
    "By using virtual environments, you can maintain a consistent development environment across your team, as everyone will use the same Python interpreter and package versions specified in the project’s virtual environment. This reduces the risk of discrepancies between development environments that could lead to inconsistent behavior."
   ]
  },
  {
   "cell_type": "markdown",
   "id": "69e6b8c7",
   "metadata": {},
   "source": [
    "# Easier debugging & testing"
   ]
  },
  {
   "cell_type": "markdown",
   "id": "fe6150e9",
   "metadata": {},
   "source": [
    "By testing your code in an isolated environment with specific package versions, you can more accurately identify issues and avoid unexpected runtime errors. Virtual environments make it easier to test different configurations or package versions without affecting other projects or the global Python installation."
   ]
  },
  {
   "cell_type": "markdown",
   "id": "2f0c59a0",
   "metadata": {},
   "source": [
    "# Simplified deployment"
   ]
  },
  {
   "cell_type": "markdown",
   "id": "c2123074",
   "metadata": {},
   "source": [
    "Deploying a project with a virtual environment simplifies the process of setting up dependencies on the target machine, reducing the risk of version mismatch issues. Virtual environments help ensure your project runs with the correct package versions during deployment."
   ]
  },
  {
   "cell_type": "markdown",
   "id": "c3b25823",
   "metadata": {},
   "source": [
    "# Summary"
   ]
  },
  {
   "cell_type": "markdown",
   "id": "e8381f80",
   "metadata": {},
   "source": [
    "Here are some advantages of using a virtual environment for Python projects: - Helps maintain project-specific dependencies - Improve reproducibility - Provide a consistent development environment - Simplify debugging and testing processes - Simplify deployment."
   ]
  }
 ],
 "metadata": {},
 "nbformat": 4,
 "nbformat_minor": 5
}
