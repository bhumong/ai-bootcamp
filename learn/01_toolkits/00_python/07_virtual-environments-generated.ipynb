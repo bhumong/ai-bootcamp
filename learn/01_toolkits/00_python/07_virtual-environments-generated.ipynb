{
 "cells": [
  {
   "cell_type": "markdown",
   "id": "842d5cce",
   "metadata": {},
   "source": [
    "# Virtual Environments"
   ]
  },
  {
   "cell_type": "markdown",
   "id": "5c79b510",
   "metadata": {},
   "source": [
    "# Creating and Managing Virtual Environments"
   ]
  },
  {
   "cell_type": "markdown",
   "id": "d25fd3d9",
   "metadata": {},
   "source": [
    "Creating and managing virtual environments in Python is essential when working with multiple projects, as it allows you to maintain isolated environments for each project, preventing conflicts between package versions."
   ]
  },
  {
   "cell_type": "markdown",
   "id": "1e330f95",
   "metadata": {},
   "source": [
    "# Creating a Virtual Environment"
   ]
  },
  {
   "cell_type": "markdown",
   "id": "ae37a458",
   "metadata": {},
   "source": [
    "To create a virtual environment, you can use Python’s built-in venv module for Python 3.3+ or virtualenv package for earlier versions of Python."
   ]
  },
  {
   "cell_type": "markdown",
   "id": "eabb311b",
   "metadata": {},
   "source": [
    "Now, let’s create a new virtual environment called my_venv"
   ]
  },
  {
   "cell_type": "markdown",
   "id": "7341ed5d",
   "metadata": {},
   "source": [
    "Using venv for Python 3.3+"
   ]
  },
  {
   "cell_type": "code",
   "execution_count": null,
   "id": "370561ac",
   "metadata": {},
   "outputs": [],
   "source": [
    "python -m venv my_venv"
   ]
  },
  {
   "cell_type": "markdown",
   "id": "f9169c1d",
   "metadata": {},
   "source": [
    "Using virtualenv for earlier versions"
   ]
  },
  {
   "cell_type": "code",
   "execution_count": null,
   "id": "50994f32",
   "metadata": {},
   "outputs": [],
   "source": [
    "virtualenv my_venv"
   ]
  },
  {
   "cell_type": "markdown",
   "id": "9d5565ca",
   "metadata": {},
   "source": [
    "# Activating the Virtual Environment"
   ]
  },
  {
   "cell_type": "markdown",
   "id": "6ce7563d",
   "metadata": {},
   "source": [
    "Activate the virtual environment to modify the current shell environment variables and ensure that the appropriate Python interpreter and packages are used"
   ]
  },
  {
   "cell_type": "markdown",
   "id": "7b074bbf",
   "metadata": {},
   "source": [
    "On Windows"
   ]
  },
  {
   "cell_type": "code",
   "execution_count": null,
   "id": "86284154",
   "metadata": {},
   "outputs": [],
   "source": [
    "my_venv\\Scripts\\activate"
   ]
  },
  {
   "cell_type": "markdown",
   "id": "ea40dd90",
   "metadata": {},
   "source": [
    "On macOS/Linux"
   ]
  },
  {
   "cell_type": "code",
   "execution_count": null,
   "id": "a87519ba",
   "metadata": {},
   "outputs": [],
   "source": [
    "source my_venv/bin/activate"
   ]
  },
  {
   "cell_type": "markdown",
   "id": "0018c92e",
   "metadata": {},
   "source": [
    "After activation, the command prompt should change to show the virtual environment’s name (in this case, my_venv)."
   ]
  },
  {
   "cell_type": "markdown",
   "id": "ef40e897",
   "metadata": {},
   "source": [
    "# Package management"
   ]
  },
  {
   "cell_type": "markdown",
   "id": "a741e482",
   "metadata": {},
   "source": [
    "Once a virtual environment is activated, you can use pip to install packages specifically for that environment. These packages won’t affect the global Python interpreter or any other virtual environments."
   ]
  },
  {
   "cell_type": "markdown",
   "id": "11d5ca18",
   "metadata": {},
   "source": [
    "For example, let’s install the numpy, pandas, matplotlib package:"
   ]
  },
  {
   "cell_type": "code",
   "execution_count": null,
   "id": "d8b4c156",
   "metadata": {},
   "outputs": [],
   "source": [
    "pip install numpy pandas matplotlib"
   ]
  },
  {
   "cell_type": "markdown",
   "id": "584d6ea1",
   "metadata": {},
   "source": [
    "Now, the numpy, pandas, matplotlib package is installed only in the my_venv virtual environment and won’t affect the global Python interpreter or any other virtual environments."
   ]
  },
  {
   "cell_type": "markdown",
   "id": "820e9054",
   "metadata": {},
   "source": [
    "# Deactivating the Virtual Environment"
   ]
  },
  {
   "cell_type": "markdown",
   "id": "ba506e28",
   "metadata": {},
   "source": [
    "When you’re done working with the virtual environment, deactivate it by running the following command:"
   ]
  },
  {
   "cell_type": "code",
   "execution_count": null,
   "id": "803b0210",
   "metadata": {},
   "outputs": [],
   "source": [
    "deactivate"
   ]
  },
  {
   "cell_type": "markdown",
   "id": "61e5d063",
   "metadata": {},
   "source": [
    "This returns you back to the global Python interpreter."
   ]
  },
  {
   "cell_type": "markdown",
   "id": "636f6c3d",
   "metadata": {},
   "source": [
    "# Using Virtual Environments for Projects"
   ]
  },
  {
   "cell_type": "markdown",
   "id": "bdc14ae0",
   "metadata": {},
   "source": [
    "Using virtual environments for projects in Python offers several key benefits that enhance the development, maintenance, and collaboration aspects of the projects."
   ]
  },
  {
   "cell_type": "markdown",
   "id": "14a4a4b4",
   "metadata": {},
   "source": [
    "# Isolated dependencies"
   ]
  },
  {
   "cell_type": "markdown",
   "id": "172b5426",
   "metadata": {},
   "source": [
    "Virtual environments enable each project to have its own isolated dependencies, preventing conflicts between package versions. This way, upgrading or downgrading a package for one project won’t impact any other projects or the global Python installation."
   ]
  },
  {
   "cell_type": "markdown",
   "id": "54519292",
   "metadata": {},
   "source": [
    "# Reproducibility"
   ]
  },
  {
   "cell_type": "markdown",
   "id": "f7c5c288",
   "metadata": {},
   "source": [
    "Virtual environments facilitate the process of reproducing your project on other machines or sharing it with collaborators. When working with a virtual environment, you can easily generate a list of the project’s dependencies and later install those dependencies in another virtual environment with pip install -r requirements.txt."
   ]
  },
  {
   "cell_type": "markdown",
   "id": "50daa668",
   "metadata": {},
   "source": [
    "# Consistency"
   ]
  },
  {
   "cell_type": "markdown",
   "id": "db1a740a",
   "metadata": {},
   "source": [
    "By using virtual environments, you can maintain a consistent development environment across your team, as everyone will use the same Python interpreter and package versions specified in the project’s virtual environment. This reduces the risk of discrepancies between development environments that could lead to inconsistent behavior."
   ]
  },
  {
   "cell_type": "markdown",
   "id": "3a3e2f98",
   "metadata": {},
   "source": [
    "# Easier debugging & testing"
   ]
  },
  {
   "cell_type": "markdown",
   "id": "170e811b",
   "metadata": {},
   "source": [
    "By testing your code in an isolated environment with specific package versions, you can more accurately identify issues and avoid unexpected runtime errors. Virtual environments make it easier to test different configurations or package versions without affecting other projects or the global Python installation."
   ]
  },
  {
   "cell_type": "markdown",
   "id": "009d039d",
   "metadata": {},
   "source": [
    "# Simplified deployment"
   ]
  },
  {
   "cell_type": "markdown",
   "id": "bbe2b433",
   "metadata": {},
   "source": [
    "Deploying a project with a virtual environment simplifies the process of setting up dependencies on the target machine, reducing the risk of version mismatch issues. Virtual environments help ensure your project runs with the correct package versions during deployment."
   ]
  },
  {
   "cell_type": "markdown",
   "id": "f54e43a9",
   "metadata": {},
   "source": [
    "# Summary"
   ]
  },
  {
   "cell_type": "markdown",
   "id": "eb474581",
   "metadata": {},
   "source": [
    "Here are some advantages of using a virtual environment for Python projects: - Helps maintain project-specific dependencies - Improve reproducibility - Provide a consistent development environment - Simplify debugging and testing processes - Simplify deployment."
   ]
  }
 ],
 "metadata": {},
 "nbformat": 4,
 "nbformat_minor": 5
}
