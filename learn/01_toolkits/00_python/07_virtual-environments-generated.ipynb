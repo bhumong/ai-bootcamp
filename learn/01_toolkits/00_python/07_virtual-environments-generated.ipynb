{
 "cells": [
  {
   "cell_type": "markdown",
   "id": "b340fb62",
   "metadata": {},
   "source": [
    "source: [https://ai-bootcamp.ruangguru.com/learn/01_toolkits/00_python/07_virtual-environments.html](https://ai-bootcamp.ruangguru.com/learn/01_toolkits/00_python/07_virtual-environments.html)"
   ]
  },
  {
   "cell_type": "markdown",
   "id": "3173c6db",
   "metadata": {},
   "source": [
    "# Virtual Environments"
   ]
  },
  {
   "cell_type": "markdown",
   "id": "b246e6f3",
   "metadata": {},
   "source": [
    "# Creating and Managing Virtual Environments"
   ]
  },
  {
   "cell_type": "markdown",
   "id": "2e25e55f",
   "metadata": {},
   "source": [
    "Creating and managing virtual environments in Python is essential when working with multiple projects, as it allows you to maintain isolated environments for each project, preventing conflicts between package versions."
   ]
  },
  {
   "cell_type": "markdown",
   "id": "71a49f5a",
   "metadata": {},
   "source": [
    "# Creating a Virtual Environment"
   ]
  },
  {
   "cell_type": "markdown",
   "id": "10b10bb1",
   "metadata": {},
   "source": [
    "To create a virtual environment, you can use Python’s built-in venv module for Python 3.3+ or virtualenv package for earlier versions of Python."
   ]
  },
  {
   "cell_type": "markdown",
   "id": "c31fba33",
   "metadata": {},
   "source": [
    "Now, let’s create a new virtual environment called my_venv"
   ]
  },
  {
   "cell_type": "markdown",
   "id": "0719aea9",
   "metadata": {},
   "source": [
    "- Using venv for Python 3.3+python -m venv my_venv\n",
    "- Usingvirtualenvfor earlier versionsvirtualenv my_venv"
   ]
  },
  {
   "cell_type": "markdown",
   "id": "f87dba8e",
   "metadata": {},
   "source": [
    "Using venv for Python 3.3+"
   ]
  },
  {
   "cell_type": "code",
   "execution_count": null,
   "id": "0af2f8dd",
   "metadata": {},
   "outputs": [],
   "source": [
    "python -m venv my_venv"
   ]
  },
  {
   "cell_type": "markdown",
   "id": "68a756af",
   "metadata": {},
   "source": [
    "Using virtualenv for earlier versions"
   ]
  },
  {
   "cell_type": "code",
   "execution_count": null,
   "id": "cab9f4ae",
   "metadata": {},
   "outputs": [],
   "source": [
    "virtualenv my_venv"
   ]
  },
  {
   "cell_type": "markdown",
   "id": "617a1371",
   "metadata": {},
   "source": [
    "# Activating the Virtual Environment"
   ]
  },
  {
   "cell_type": "markdown",
   "id": "5cc89e19",
   "metadata": {},
   "source": [
    "Activate the virtual environment to modify the current shell environment variables and ensure that the appropriate Python interpreter and packages are used"
   ]
  },
  {
   "cell_type": "markdown",
   "id": "e56c54dd",
   "metadata": {},
   "source": [
    "- On Windowsmy_venv\\Scripts\\activate\n",
    "- On macOS/Linuxsource my_venv/bin/activate"
   ]
  },
  {
   "cell_type": "markdown",
   "id": "3ed04160",
   "metadata": {},
   "source": [
    "On Windows"
   ]
  },
  {
   "cell_type": "code",
   "execution_count": null,
   "id": "f481495b",
   "metadata": {},
   "outputs": [],
   "source": [
    "my_venv\\Scripts\\activate"
   ]
  },
  {
   "cell_type": "markdown",
   "id": "c6d252aa",
   "metadata": {},
   "source": [
    "On macOS/Linux"
   ]
  },
  {
   "cell_type": "code",
   "execution_count": null,
   "id": "94302d9b",
   "metadata": {},
   "outputs": [],
   "source": [
    "source my_venv/bin/activate"
   ]
  },
  {
   "cell_type": "markdown",
   "id": "df36a469",
   "metadata": {},
   "source": [
    "After activation, the command prompt should change to show the virtual environment’s name (in this case, my_venv)."
   ]
  },
  {
   "cell_type": "markdown",
   "id": "b9c9eb6a",
   "metadata": {},
   "source": [
    "# Package management"
   ]
  },
  {
   "cell_type": "markdown",
   "id": "c35b9e9c",
   "metadata": {},
   "source": [
    "Once a virtual environment is activated, you can use pip to install packages specifically for that environment. These packages won’t affect the global Python interpreter or any other virtual environments."
   ]
  },
  {
   "cell_type": "markdown",
   "id": "4141a510",
   "metadata": {},
   "source": [
    "For example, let’s install the numpy, pandas, matplotlib package:"
   ]
  },
  {
   "cell_type": "code",
   "execution_count": null,
   "id": "034b50f4",
   "metadata": {},
   "outputs": [],
   "source": [
    "pip install numpy pandas matplotlib"
   ]
  },
  {
   "cell_type": "markdown",
   "id": "7c0b71b7",
   "metadata": {},
   "source": [
    "Now, the numpy, pandas, matplotlib package is installed only in the my_venv virtual environment and won’t affect the global Python interpreter or any other virtual environments."
   ]
  },
  {
   "cell_type": "markdown",
   "id": "ebaf3c94",
   "metadata": {},
   "source": [
    "# Deactivating the Virtual Environment"
   ]
  },
  {
   "cell_type": "markdown",
   "id": "8c722a8b",
   "metadata": {},
   "source": [
    "When you’re done working with the virtual environment, deactivate it by running the following command:"
   ]
  },
  {
   "cell_type": "code",
   "execution_count": null,
   "id": "2407012a",
   "metadata": {},
   "outputs": [],
   "source": [
    "deactivate"
   ]
  },
  {
   "cell_type": "markdown",
   "id": "13860524",
   "metadata": {},
   "source": [
    "This returns you back to the global Python interpreter."
   ]
  },
  {
   "cell_type": "markdown",
   "id": "99c34792",
   "metadata": {},
   "source": [
    "# Using Virtual Environments for Projects"
   ]
  },
  {
   "cell_type": "markdown",
   "id": "e1a642b7",
   "metadata": {},
   "source": [
    "Using virtual environments for projects in Python offers several key benefits that enhance the development, maintenance, and collaboration aspects of the projects."
   ]
  },
  {
   "cell_type": "markdown",
   "id": "41a57a49",
   "metadata": {},
   "source": [
    "# Isolated dependencies"
   ]
  },
  {
   "cell_type": "markdown",
   "id": "88083e83",
   "metadata": {},
   "source": [
    "Virtual environments enable each project to have its own isolated dependencies, preventing conflicts between package versions. This way, upgrading or downgrading a package for one project won’t impact any other projects or the global Python installation."
   ]
  },
  {
   "cell_type": "markdown",
   "id": "72867e95",
   "metadata": {},
   "source": [
    "# Reproducibility"
   ]
  },
  {
   "cell_type": "markdown",
   "id": "1ec0d167",
   "metadata": {},
   "source": [
    "Virtual environments facilitate the process of reproducing your project on other machines or sharing it with collaborators. When working with a virtual environment, you can easily generate a list of the project’s dependencies and later install those dependencies in another virtual environment with pip install -r requirements.txt."
   ]
  },
  {
   "cell_type": "markdown",
   "id": "063271f6",
   "metadata": {},
   "source": [
    "# Consistency"
   ]
  },
  {
   "cell_type": "markdown",
   "id": "37fe1bd6",
   "metadata": {},
   "source": [
    "By using virtual environments, you can maintain a consistent development environment across your team, as everyone will use the same Python interpreter and package versions specified in the project’s virtual environment. This reduces the risk of discrepancies between development environments that could lead to inconsistent behavior."
   ]
  },
  {
   "cell_type": "markdown",
   "id": "123c4d49",
   "metadata": {},
   "source": [
    "# Easier debugging & testing"
   ]
  },
  {
   "cell_type": "markdown",
   "id": "4e7e329b",
   "metadata": {},
   "source": [
    "By testing your code in an isolated environment with specific package versions, you can more accurately identify issues and avoid unexpected runtime errors. Virtual environments make it easier to test different configurations or package versions without affecting other projects or the global Python installation."
   ]
  },
  {
   "cell_type": "markdown",
   "id": "df301add",
   "metadata": {},
   "source": [
    "# Simplified deployment"
   ]
  },
  {
   "cell_type": "markdown",
   "id": "234140d1",
   "metadata": {},
   "source": [
    "Deploying a project with a virtual environment simplifies the process of setting up dependencies on the target machine, reducing the risk of version mismatch issues. Virtual environments help ensure your project runs with the correct package versions during deployment."
   ]
  },
  {
   "cell_type": "markdown",
   "id": "7c81d7ed",
   "metadata": {},
   "source": [
    "# Summary"
   ]
  },
  {
   "cell_type": "markdown",
   "id": "19f1a23a",
   "metadata": {},
   "source": [
    "Here are some advantages of using a virtual environment for Python projects: - Helps maintain project-specific dependencies - Improve reproducibility - Provide a consistent development environment - Simplify debugging and testing processes - Simplify deployment."
   ]
  }
 ],
 "metadata": {},
 "nbformat": 4,
 "nbformat_minor": 5
}
