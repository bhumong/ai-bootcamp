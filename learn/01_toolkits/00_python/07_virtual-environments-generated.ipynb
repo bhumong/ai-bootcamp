{
 "cells": [
  {
   "cell_type": "markdown",
   "id": "10e339ad",
   "metadata": {},
   "source": [
    "source: [link](https://ai-bootcamp.ruangguru.com/learn/01_toolkits/00_python/07_virtual-environments.html)"
   ]
  },
  {
   "cell_type": "markdown",
   "id": "f8b34b6f",
   "metadata": {},
   "source": [
    "# Virtual Environments"
   ]
  },
  {
   "cell_type": "markdown",
   "id": "426155dd",
   "metadata": {},
   "source": [
    "# Creating and Managing Virtual Environments"
   ]
  },
  {
   "cell_type": "markdown",
   "id": "48f09241",
   "metadata": {},
   "source": [
    "Creating and managing virtual environments in Python is essential when working with multiple projects, as it allows you to maintain isolated environments for each project, preventing conflicts between package versions."
   ]
  },
  {
   "cell_type": "markdown",
   "id": "a23ca84c",
   "metadata": {},
   "source": [
    "# Creating a Virtual Environment"
   ]
  },
  {
   "cell_type": "markdown",
   "id": "41806912",
   "metadata": {},
   "source": [
    "To create a virtual environment, you can use Python’s built-in venv module for Python 3.3+ or virtualenv package for earlier versions of Python."
   ]
  },
  {
   "cell_type": "markdown",
   "id": "b70cbfe8",
   "metadata": {},
   "source": [
    "Now, let’s create a new virtual environment called my_venv"
   ]
  },
  {
   "cell_type": "markdown",
   "id": "0fe984fa",
   "metadata": {},
   "source": [
    "Using venv for Python 3.3+"
   ]
  },
  {
   "cell_type": "code",
   "execution_count": null,
   "id": "750687cb",
   "metadata": {},
   "outputs": [],
   "source": [
    "python -m venv my_venv"
   ]
  },
  {
   "cell_type": "markdown",
   "id": "7d957734",
   "metadata": {},
   "source": [
    "Using virtualenv for earlier versions"
   ]
  },
  {
   "cell_type": "code",
   "execution_count": null,
   "id": "9a773db3",
   "metadata": {},
   "outputs": [],
   "source": [
    "virtualenv my_venv"
   ]
  },
  {
   "cell_type": "markdown",
   "id": "288dc1e1",
   "metadata": {},
   "source": [
    "# Activating the Virtual Environment"
   ]
  },
  {
   "cell_type": "markdown",
   "id": "53a0c982",
   "metadata": {},
   "source": [
    "Activate the virtual environment to modify the current shell environment variables and ensure that the appropriate Python interpreter and packages are used"
   ]
  },
  {
   "cell_type": "markdown",
   "id": "bcd36278",
   "metadata": {},
   "source": [
    "On Windows"
   ]
  },
  {
   "cell_type": "code",
   "execution_count": null,
   "id": "f9d2f891",
   "metadata": {},
   "outputs": [],
   "source": [
    "my_venv\\Scripts\\activate"
   ]
  },
  {
   "cell_type": "markdown",
   "id": "12ef4b04",
   "metadata": {},
   "source": [
    "On macOS/Linux"
   ]
  },
  {
   "cell_type": "code",
   "execution_count": null,
   "id": "dec9b451",
   "metadata": {},
   "outputs": [],
   "source": [
    "source my_venv/bin/activate"
   ]
  },
  {
   "cell_type": "markdown",
   "id": "e92448c3",
   "metadata": {},
   "source": [
    "After activation, the command prompt should change to show the virtual environment’s name (in this case, my_venv)."
   ]
  },
  {
   "cell_type": "markdown",
   "id": "3259b307",
   "metadata": {},
   "source": [
    "# Package management"
   ]
  },
  {
   "cell_type": "markdown",
   "id": "df925774",
   "metadata": {},
   "source": [
    "Once a virtual environment is activated, you can use pip to install packages specifically for that environment. These packages won’t affect the global Python interpreter or any other virtual environments."
   ]
  },
  {
   "cell_type": "markdown",
   "id": "cc44e4a1",
   "metadata": {},
   "source": [
    "For example, let’s install the numpy, pandas, matplotlib package:"
   ]
  },
  {
   "cell_type": "code",
   "execution_count": null,
   "id": "c7b5ae8f",
   "metadata": {},
   "outputs": [],
   "source": [
    "pip install numpy pandas matplotlib"
   ]
  },
  {
   "cell_type": "markdown",
   "id": "cdb34d53",
   "metadata": {},
   "source": [
    "Now, the numpy, pandas, matplotlib package is installed only in the my_venv virtual environment and won’t affect the global Python interpreter or any other virtual environments."
   ]
  },
  {
   "cell_type": "markdown",
   "id": "e0a836d1",
   "metadata": {},
   "source": [
    "# Deactivating the Virtual Environment"
   ]
  },
  {
   "cell_type": "markdown",
   "id": "0f66ecb0",
   "metadata": {},
   "source": [
    "When you’re done working with the virtual environment, deactivate it by running the following command:"
   ]
  },
  {
   "cell_type": "code",
   "execution_count": null,
   "id": "9852241d",
   "metadata": {},
   "outputs": [],
   "source": [
    "deactivate"
   ]
  },
  {
   "cell_type": "markdown",
   "id": "c10ece4d",
   "metadata": {},
   "source": [
    "This returns you back to the global Python interpreter."
   ]
  },
  {
   "cell_type": "markdown",
   "id": "c54f3bb5",
   "metadata": {},
   "source": [
    "# Using Virtual Environments for Projects"
   ]
  },
  {
   "cell_type": "markdown",
   "id": "4d4f0e2d",
   "metadata": {},
   "source": [
    "Using virtual environments for projects in Python offers several key benefits that enhance the development, maintenance, and collaboration aspects of the projects."
   ]
  },
  {
   "cell_type": "markdown",
   "id": "984fb10c",
   "metadata": {},
   "source": [
    "# Isolated dependencies"
   ]
  },
  {
   "cell_type": "markdown",
   "id": "faca73a4",
   "metadata": {},
   "source": [
    "Virtual environments enable each project to have its own isolated dependencies, preventing conflicts between package versions. This way, upgrading or downgrading a package for one project won’t impact any other projects or the global Python installation."
   ]
  },
  {
   "cell_type": "markdown",
   "id": "8f5687a6",
   "metadata": {},
   "source": [
    "# Reproducibility"
   ]
  },
  {
   "cell_type": "markdown",
   "id": "f036e6aa",
   "metadata": {},
   "source": [
    "Virtual environments facilitate the process of reproducing your project on other machines or sharing it with collaborators. When working with a virtual environment, you can easily generate a list of the project’s dependencies and later install those dependencies in another virtual environment with pip install -r requirements.txt."
   ]
  },
  {
   "cell_type": "markdown",
   "id": "546fedb2",
   "metadata": {},
   "source": [
    "# Consistency"
   ]
  },
  {
   "cell_type": "markdown",
   "id": "990a2844",
   "metadata": {},
   "source": [
    "By using virtual environments, you can maintain a consistent development environment across your team, as everyone will use the same Python interpreter and package versions specified in the project’s virtual environment. This reduces the risk of discrepancies between development environments that could lead to inconsistent behavior."
   ]
  },
  {
   "cell_type": "markdown",
   "id": "adf47590",
   "metadata": {},
   "source": [
    "# Easier debugging & testing"
   ]
  },
  {
   "cell_type": "markdown",
   "id": "5da71a1f",
   "metadata": {},
   "source": [
    "By testing your code in an isolated environment with specific package versions, you can more accurately identify issues and avoid unexpected runtime errors. Virtual environments make it easier to test different configurations or package versions without affecting other projects or the global Python installation."
   ]
  },
  {
   "cell_type": "markdown",
   "id": "244ac280",
   "metadata": {},
   "source": [
    "# Simplified deployment"
   ]
  },
  {
   "cell_type": "markdown",
   "id": "c4a338a3",
   "metadata": {},
   "source": [
    "Deploying a project with a virtual environment simplifies the process of setting up dependencies on the target machine, reducing the risk of version mismatch issues. Virtual environments help ensure your project runs with the correct package versions during deployment."
   ]
  },
  {
   "cell_type": "markdown",
   "id": "1383924d",
   "metadata": {},
   "source": [
    "# Summary"
   ]
  },
  {
   "cell_type": "markdown",
   "id": "32a75e59",
   "metadata": {},
   "source": [
    "Here are some advantages of using a virtual environment for Python projects: - Helps maintain project-specific dependencies - Improve reproducibility - Provide a consistent development environment - Simplify debugging and testing processes - Simplify deployment."
   ]
  }
 ],
 "metadata": {},
 "nbformat": 4,
 "nbformat_minor": 5
}
