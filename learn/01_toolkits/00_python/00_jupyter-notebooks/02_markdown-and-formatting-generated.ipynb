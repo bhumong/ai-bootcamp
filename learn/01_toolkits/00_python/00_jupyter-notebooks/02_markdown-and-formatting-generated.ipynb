{
 "cells": [
  {
   "cell_type": "markdown",
   "id": "9bd91e42",
   "metadata": {},
   "source": [
    "source: [link](https://ai-bootcamp.ruangguru.com/learn/01_toolkits/00_python/00_jupyter-notebooks/02_markdown-and-formatting.html)"
   ]
  },
  {
   "cell_type": "markdown",
   "id": "e0aad5ec",
   "metadata": {},
   "source": [
    "# Markdown and Formatting"
   ]
  },
  {
   "cell_type": "markdown",
   "id": "4a35eb68",
   "metadata": {},
   "source": [
    "Markdown is a lightweight and popular Markup language which is a writing standard for data scientists and analysts. It is often converted into the HTML format for web viewing. Jupyter Notebook recognizes markdown and renders markdown instructions into rich text."
   ]
  },
  {
   "cell_type": "markdown",
   "id": "9212043d",
   "metadata": {},
   "source": [
    "Markdown allows you to write using an easy-to-read and easy-to-write plain text format, then convert it to structurally valid XHTML (or HTML). It’s very simple to format words as bold or italic, include links, create lists, and so on."
   ]
  },
  {
   "cell_type": "markdown",
   "id": "4522728f",
   "metadata": {},
   "source": [
    "Remember, in Jupyter Notebook, you need to execute the cell (press Shift + Enter) to apply the markdown formatting."
   ]
  },
  {
   "cell_type": "markdown",
   "id": "3f4f23aa",
   "metadata": {},
   "source": [
    "# Basic markdown syntax for headings, emphasis, lists, and links"
   ]
  },
  {
   "cell_type": "markdown",
   "id": "3a6f9b77",
   "metadata": {},
   "source": [
    "# Headings"
   ]
  },
  {
   "cell_type": "markdown",
   "id": "82f6830f",
   "metadata": {},
   "source": [
    "Headings are created by using the # symbol before your heading text. The number of # you use will determine the size of the heading. There are six sizes you can create, similar to HTML heading tags <h1> - <h6>."
   ]
  },
  {
   "cell_type": "markdown",
   "id": "e5f33e10",
   "metadata": {},
   "source": []
  },
  {
   "cell_type": "markdown",
   "id": "26509f15",
   "metadata": {},
   "source": [
    "![Image](./notebook_images/image_0.png)"
   ]
  },
  {
   "cell_type": "markdown",
   "id": "237c49f4",
   "metadata": {},
   "source": [
    "# Emphasis"
   ]
  },
  {
   "cell_type": "markdown",
   "id": "d3611969",
   "metadata": {},
   "source": [
    "Emphasis, such as bold and italic, can be added by wrapping text in * or _ characters."
   ]
  },
  {
   "cell_type": "markdown",
   "id": "0b121c26",
   "metadata": {},
   "source": []
  },
  {
   "cell_type": "markdown",
   "id": "142fc497",
   "metadata": {},
   "source": [
    "![Image](./notebook_images/image_0.png)"
   ]
  },
  {
   "cell_type": "markdown",
   "id": "6249555c",
   "metadata": {},
   "source": [
    "# Lists"
   ]
  },
  {
   "cell_type": "markdown",
   "id": "ce2772f4",
   "metadata": {},
   "source": [
    "Markdown supports ordered and unordered lists."
   ]
  },
  {
   "cell_type": "markdown",
   "id": "64e480b6",
   "metadata": {},
   "source": [
    "To create an unordered list, you can use asterisks *, hyphens -, or plus +."
   ]
  },
  {
   "cell_type": "markdown",
   "id": "deec7a5b",
   "metadata": {},
   "source": []
  },
  {
   "cell_type": "markdown",
   "id": "fc634f7d",
   "metadata": {},
   "source": [
    "![Image](./notebook_images/image_0.png)"
   ]
  },
  {
   "cell_type": "markdown",
   "id": "7bf6f942",
   "metadata": {},
   "source": [
    "For an ordered list, you simply number your items."
   ]
  },
  {
   "cell_type": "markdown",
   "id": "6153cf33",
   "metadata": {},
   "source": []
  },
  {
   "cell_type": "markdown",
   "id": "146fcc38",
   "metadata": {},
   "source": [
    "![Image](./notebook_images/image_0.png)"
   ]
  },
  {
   "cell_type": "markdown",
   "id": "ef48e44f",
   "metadata": {},
   "source": [
    "# Links"
   ]
  },
  {
   "cell_type": "markdown",
   "id": "3a73bb60",
   "metadata": {},
   "source": [
    "You can create an inline link by wrapping the link text in brackets [ ], and then wrapping the URL in parentheses ( )."
   ]
  },
  {
   "cell_type": "markdown",
   "id": "339bc052",
   "metadata": {},
   "source": []
  },
  {
   "cell_type": "markdown",
   "id": "5897ec1f",
   "metadata": {},
   "source": [
    "![Image](./notebook_images/image_0.png)"
   ]
  },
  {
   "cell_type": "markdown",
   "id": "5bf58ead",
   "metadata": {},
   "source": [
    "To create a reference link, you include a labeled reference in brackets [ ], followed by a reference in brackets. Later, you define the URL of the reference like so:"
   ]
  },
  {
   "cell_type": "markdown",
   "id": "80f93be3",
   "metadata": {},
   "source": []
  },
  {
   "cell_type": "markdown",
   "id": "0cb1f1d8",
   "metadata": {},
   "source": [
    "![Image](./notebook_images/image_0.png)"
   ]
  },
  {
   "cell_type": "markdown",
   "id": "9297b7dd",
   "metadata": {},
   "source": [
    "You can also use a shortcut reference link, which is similar to a standard reference link, but you only have to include the reference, not the label."
   ]
  },
  {
   "cell_type": "markdown",
   "id": "d726bea2",
   "metadata": {},
   "source": []
  },
  {
   "cell_type": "markdown",
   "id": "aa3662f0",
   "metadata": {},
   "source": [
    "![Image](./notebook_images/image_0.png)"
   ]
  },
  {
   "cell_type": "markdown",
   "id": "29fcf799",
   "metadata": {},
   "source": [
    "# Inserting images and tables"
   ]
  },
  {
   "cell_type": "markdown",
   "id": "343dfd73",
   "metadata": {},
   "source": [
    "# Inserting images"
   ]
  },
  {
   "cell_type": "markdown",
   "id": "99fc0697",
   "metadata": {},
   "source": [
    "Inserting images in Jupyter Notebook using markdown is quite simple. The syntax is similar to creating a link - you just need to add an exclamation mark ! before the square brackets [ ]. Inside the square brackets, you place an alternative text for your image (displayed when the image can’t be loaded), and in the parentheses ( ), you add the URL or path of the image."
   ]
  },
  {
   "cell_type": "markdown",
   "id": "139edb88",
   "metadata": {},
   "source": []
  },
  {
   "cell_type": "markdown",
   "id": "311edc20",
   "metadata": {},
   "source": [
    "![Image](./notebook_images/image_0.png)"
   ]
  },
  {
   "cell_type": "markdown",
   "id": "e75e9ff0",
   "metadata": {},
   "source": [
    "For an image hosted on the web, you would use the URL of the image:"
   ]
  },
  {
   "cell_type": "markdown",
   "id": "694700e7",
   "metadata": {},
   "source": []
  },
  {
   "cell_type": "markdown",
   "id": "8753fb6a",
   "metadata": {},
   "source": [
    "![Image](./notebook_images/image_0.png)"
   ]
  },
  {
   "cell_type": "markdown",
   "id": "ba745583",
   "metadata": {},
   "source": [
    "Or you can use drag and drop the image into the notebook. It’s possible only to Markdown cells. The image is encoded with Base64, and its text representation is included in the ipynb file."
   ]
  },
  {
   "cell_type": "markdown",
   "id": "f5e1001b",
   "metadata": {},
   "source": [
    " (source: mljar)"
   ]
  },
  {
   "cell_type": "markdown",
   "id": "354e8054",
   "metadata": {},
   "source": [
    "![Image](./notebook_images/image_0.gif)"
   ]
  },
  {
   "cell_type": "markdown",
   "id": "565b5e3f",
   "metadata": {},
   "source": [
    "# Tables"
   ]
  },
  {
   "cell_type": "markdown",
   "id": "163d3a38",
   "metadata": {},
   "source": [
    "Creating tables in markdown is also straightforward, although it can be a bit finicky with the alignment of columns. You use a combination of | to denote columns and - to denote the heading row of the table."
   ]
  },
  {
   "cell_type": "markdown",
   "id": "436c6ffc",
   "metadata": {},
   "source": [
    "Below is the syntax for a basic table:"
   ]
  },
  {
   "cell_type": "markdown",
   "id": "49cd94fc",
   "metadata": {},
   "source": []
  },
  {
   "cell_type": "markdown",
   "id": "25a47b4c",
   "metadata": {},
   "source": [
    "![Image](./notebook_images/image_0.png)"
   ]
  },
  {
   "cell_type": "markdown",
   "id": "910c8d3f",
   "metadata": {},
   "source": [
    "This will render as:"
   ]
  },
  {
   "cell_type": "markdown",
   "id": "8a3b3dff",
   "metadata": {},
   "source": [
    "| Column 1 | Column 2 | Column 3 |\n",
    "| --- | --- | --- |\n",
    "| Data 1 | Data 2 | Data 3 |\n",
    "| Data 4 | Data 5 | Data 6 |"
   ]
  },
  {
   "cell_type": "markdown",
   "id": "2d931325",
   "metadata": {},
   "source": [
    "In this table:"
   ]
  },
  {
   "cell_type": "markdown",
   "id": "bf370c39",
   "metadata": {},
   "source": [
    "When creating tables, the cells need not align perfectly in the raw markdown. As long as they are separated by |, the table will render correctly."
   ]
  },
  {
   "cell_type": "markdown",
   "id": "88a43e9e",
   "metadata": {},
   "source": [
    "# Adding code snippets in markdown cells"
   ]
  },
  {
   "cell_type": "markdown",
   "id": "930082c7",
   "metadata": {},
   "source": [
    "In Jupyter Notebook, you can insert code snippets into the markdown cells. This is useful for explaining code, displaying the syntax of a specific language, or preventing the code from being executed."
   ]
  },
  {
   "cell_type": "markdown",
   "id": "8fd78e56",
   "metadata": {},
   "source": [
    "To add a code snippet in a markdown cell, you need to wrap your code inside a pair of three backticks (```). Additionally, you can specify the programming language directly after the opening backticks to enable syntax highlighting."
   ]
  },
  {
   "cell_type": "markdown",
   "id": "cb7c4cec",
   "metadata": {},
   "source": [
    "Without specifying a language:"
   ]
  },
  {
   "cell_type": "markdown",
   "id": "8923bc69",
   "metadata": {},
   "source": []
  },
  {
   "cell_type": "markdown",
   "id": "23e58ac7",
   "metadata": {},
   "source": [
    "![Image](./notebook_images/image_0.png)"
   ]
  },
  {
   "cell_type": "markdown",
   "id": "077fbba6",
   "metadata": {},
   "source": [
    "This will render as:"
   ]
  },
  {
   "cell_type": "markdown",
   "id": "f0f9c5f0",
   "metadata": {},
   "source": []
  },
  {
   "cell_type": "markdown",
   "id": "dad8499a",
   "metadata": {},
   "source": [
    "![Image](./notebook_images/image_0.png)"
   ]
  },
  {
   "cell_type": "markdown",
   "id": "bd134349",
   "metadata": {},
   "source": [
    "Specifying a language (Python in this case):"
   ]
  },
  {
   "cell_type": "markdown",
   "id": "10c83e3f",
   "metadata": {},
   "source": []
  },
  {
   "cell_type": "markdown",
   "id": "b5e9cbe0",
   "metadata": {},
   "source": [
    "![Image](./notebook_images/image_0.png)"
   ]
  },
  {
   "cell_type": "markdown",
   "id": "bce0cd07",
   "metadata": {},
   "source": [
    "This will render as:"
   ]
  },
  {
   "cell_type": "markdown",
   "id": "33b4d1b6",
   "metadata": {},
   "source": []
  },
  {
   "cell_type": "markdown",
   "id": "46b006f6",
   "metadata": {},
   "source": [
    "![Image](./notebook_images/image_0.png)"
   ]
  },
  {
   "cell_type": "markdown",
   "id": "8a6aefcb",
   "metadata": {},
   "source": [
    "You can also use inline code snippets in your markdown. For that, enclose your code in a single backtick (`)."
   ]
  },
  {
   "cell_type": "markdown",
   "id": "cf0da51f",
   "metadata": {},
   "source": [
    "For example:"
   ]
  },
  {
   "cell_type": "markdown",
   "id": "d781341d",
   "metadata": {},
   "source": []
  },
  {
   "cell_type": "markdown",
   "id": "e7d8650a",
   "metadata": {},
   "source": [
    "![Image](./notebook_images/image_0.png)"
   ]
  },
  {
   "cell_type": "markdown",
   "id": "8d3367cb",
   "metadata": {},
   "source": [
    "This will render as:"
   ]
  },
  {
   "cell_type": "markdown",
   "id": "e557dc87",
   "metadata": {},
   "source": []
  },
  {
   "cell_type": "markdown",
   "id": "4037a390",
   "metadata": {},
   "source": [
    "![Image](./notebook_images/image_0.png)"
   ]
  }
 ],
 "metadata": {},
 "nbformat": 4,
 "nbformat_minor": 5
}
