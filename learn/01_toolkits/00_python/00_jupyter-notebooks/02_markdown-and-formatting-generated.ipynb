{
 "cells": [
  {
   "cell_type": "markdown",
   "id": "5f4ee9ee",
   "metadata": {},
   "source": [
    "# Markdown and Formatting"
   ]
  },
  {
   "cell_type": "markdown",
   "id": "504c3266",
   "metadata": {},
   "source": [
    "Markdown is a lightweight and popular Markup language which is a writing standard for data scientists and analysts. It is often converted into the HTML format for web viewing. Jupyter Notebook recognizes markdown and renders markdown instructions into rich text."
   ]
  },
  {
   "cell_type": "markdown",
   "id": "520a2e88",
   "metadata": {},
   "source": [
    "Markdown allows you to write using an easy-to-read and easy-to-write plain text format, then convert it to structurally valid XHTML (or HTML). It’s very simple to format words as bold or italic, include links, create lists, and so on."
   ]
  },
  {
   "cell_type": "markdown",
   "id": "623bfc08",
   "metadata": {},
   "source": [
    "Remember, in Jupyter Notebook, you need to execute the cell (press Shift + Enter) to apply the markdown formatting."
   ]
  },
  {
   "cell_type": "markdown",
   "id": "9ff9767a",
   "metadata": {},
   "source": [
    "# Basic markdown syntax for headings, emphasis, lists, and links"
   ]
  },
  {
   "cell_type": "markdown",
   "id": "083c6acf",
   "metadata": {},
   "source": [
    "# Headings"
   ]
  },
  {
   "cell_type": "markdown",
   "id": "e25414aa",
   "metadata": {},
   "source": [
    "Headings are created by using the # symbol before your heading text. The number of # you use will determine the size of the heading. There are six sizes you can create, similar to HTML heading tags <h1> - <h6>."
   ]
  },
  {
   "cell_type": "markdown",
   "id": "94b552d1",
   "metadata": {},
   "source": []
  },
  {
   "cell_type": "markdown",
   "id": "6b4a1104",
   "metadata": {},
   "source": [
    "# Emphasis"
   ]
  },
  {
   "cell_type": "markdown",
   "id": "2c28cf96",
   "metadata": {},
   "source": [
    "Emphasis, such as bold and italic, can be added by wrapping text in * or _ characters."
   ]
  },
  {
   "cell_type": "markdown",
   "id": "08354ee0",
   "metadata": {},
   "source": []
  },
  {
   "cell_type": "markdown",
   "id": "1ef12c3c",
   "metadata": {},
   "source": [
    "# Lists"
   ]
  },
  {
   "cell_type": "markdown",
   "id": "56e701ba",
   "metadata": {},
   "source": [
    "Markdown supports ordered and unordered lists."
   ]
  },
  {
   "cell_type": "markdown",
   "id": "450a9bb9",
   "metadata": {},
   "source": [
    "To create an unordered list, you can use asterisks *, hyphens -, or plus +."
   ]
  },
  {
   "cell_type": "markdown",
   "id": "bff523f3",
   "metadata": {},
   "source": []
  },
  {
   "cell_type": "markdown",
   "id": "67dba6f2",
   "metadata": {},
   "source": [
    "For an ordered list, you simply number your items."
   ]
  },
  {
   "cell_type": "markdown",
   "id": "9426ed1e",
   "metadata": {},
   "source": []
  },
  {
   "cell_type": "markdown",
   "id": "5ee7c70d",
   "metadata": {},
   "source": [
    "# Links"
   ]
  },
  {
   "cell_type": "markdown",
   "id": "ed8b3f52",
   "metadata": {},
   "source": [
    "You can create an inline link by wrapping the link text in brackets [ ], and then wrapping the URL in parentheses ( )."
   ]
  },
  {
   "cell_type": "markdown",
   "id": "82f4c73e",
   "metadata": {},
   "source": []
  },
  {
   "cell_type": "markdown",
   "id": "801efe71",
   "metadata": {},
   "source": [
    "To create a reference link, you include a labeled reference in brackets [ ], followed by a reference in brackets. Later, you define the URL of the reference like so:"
   ]
  },
  {
   "cell_type": "markdown",
   "id": "446fa086",
   "metadata": {},
   "source": []
  },
  {
   "cell_type": "markdown",
   "id": "8e3818bc",
   "metadata": {},
   "source": [
    "You can also use a shortcut reference link, which is similar to a standard reference link, but you only have to include the reference, not the label."
   ]
  },
  {
   "cell_type": "markdown",
   "id": "73ea442a",
   "metadata": {},
   "source": []
  },
  {
   "cell_type": "markdown",
   "id": "a603dd13",
   "metadata": {},
   "source": [
    "# Inserting images and tables"
   ]
  },
  {
   "cell_type": "markdown",
   "id": "86f2a2f3",
   "metadata": {},
   "source": [
    "# Inserting images"
   ]
  },
  {
   "cell_type": "markdown",
   "id": "bd9db032",
   "metadata": {},
   "source": [
    "Inserting images in Jupyter Notebook using markdown is quite simple. The syntax is similar to creating a link - you just need to add an exclamation mark ! before the square brackets [ ]. Inside the square brackets, you place an alternative text for your image (displayed when the image can’t be loaded), and in the parentheses ( ), you add the URL or path of the image."
   ]
  },
  {
   "cell_type": "markdown",
   "id": "aa80a630",
   "metadata": {},
   "source": []
  },
  {
   "cell_type": "markdown",
   "id": "2d3d3a27",
   "metadata": {},
   "source": [
    "For an image hosted on the web, you would use the URL of the image:"
   ]
  },
  {
   "cell_type": "markdown",
   "id": "b1041cba",
   "metadata": {},
   "source": []
  },
  {
   "cell_type": "markdown",
   "id": "11d36199",
   "metadata": {},
   "source": [
    "Or you can use drag and drop the image into the notebook. It’s possible only to Markdown cells. The image is encoded with Base64, and its text representation is included in the ipynb file."
   ]
  },
  {
   "cell_type": "markdown",
   "id": "7f3668af",
   "metadata": {},
   "source": [
    " (source: mljar)"
   ]
  },
  {
   "cell_type": "markdown",
   "id": "ae36daa3",
   "metadata": {},
   "source": [
    "# Tables"
   ]
  },
  {
   "cell_type": "markdown",
   "id": "17c60ad1",
   "metadata": {},
   "source": [
    "Creating tables in markdown is also straightforward, although it can be a bit finicky with the alignment of columns. You use a combination of | to denote columns and - to denote the heading row of the table."
   ]
  },
  {
   "cell_type": "markdown",
   "id": "fd4800eb",
   "metadata": {},
   "source": [
    "Below is the syntax for a basic table:"
   ]
  },
  {
   "cell_type": "markdown",
   "id": "6981e2d3",
   "metadata": {},
   "source": []
  },
  {
   "cell_type": "markdown",
   "id": "1e763125",
   "metadata": {},
   "source": [
    "This will render as:"
   ]
  },
  {
   "cell_type": "markdown",
   "id": "5d584927",
   "metadata": {},
   "source": [
    "In this table:"
   ]
  },
  {
   "cell_type": "markdown",
   "id": "03cd6ae5",
   "metadata": {},
   "source": [
    "When creating tables, the cells need not align perfectly in the raw markdown. As long as they are separated by |, the table will render correctly."
   ]
  },
  {
   "cell_type": "markdown",
   "id": "ca017852",
   "metadata": {},
   "source": [
    "# Adding code snippets in markdown cells"
   ]
  },
  {
   "cell_type": "markdown",
   "id": "53137d31",
   "metadata": {},
   "source": [
    "In Jupyter Notebook, you can insert code snippets into the markdown cells. This is useful for explaining code, displaying the syntax of a specific language, or preventing the code from being executed."
   ]
  },
  {
   "cell_type": "markdown",
   "id": "510f5ae2",
   "metadata": {},
   "source": [
    "To add a code snippet in a markdown cell, you need to wrap your code inside a pair of three backticks (```). Additionally, you can specify the programming language directly after the opening backticks to enable syntax highlighting."
   ]
  },
  {
   "cell_type": "markdown",
   "id": "b95f135d",
   "metadata": {},
   "source": [
    "Without specifying a language:"
   ]
  },
  {
   "cell_type": "markdown",
   "id": "7997c830",
   "metadata": {},
   "source": []
  },
  {
   "cell_type": "markdown",
   "id": "168f4b8c",
   "metadata": {},
   "source": [
    "This will render as:"
   ]
  },
  {
   "cell_type": "markdown",
   "id": "bd16f9f2",
   "metadata": {},
   "source": []
  },
  {
   "cell_type": "markdown",
   "id": "c081758d",
   "metadata": {},
   "source": [
    "Specifying a language (Python in this case):"
   ]
  },
  {
   "cell_type": "markdown",
   "id": "f4787b85",
   "metadata": {},
   "source": []
  },
  {
   "cell_type": "markdown",
   "id": "065a9c27",
   "metadata": {},
   "source": [
    "This will render as:"
   ]
  },
  {
   "cell_type": "markdown",
   "id": "67e4bab1",
   "metadata": {},
   "source": []
  },
  {
   "cell_type": "markdown",
   "id": "941b5a2e",
   "metadata": {},
   "source": [
    "You can also use inline code snippets in your markdown. For that, enclose your code in a single backtick (`)."
   ]
  },
  {
   "cell_type": "markdown",
   "id": "a004039b",
   "metadata": {},
   "source": [
    "For example:"
   ]
  },
  {
   "cell_type": "markdown",
   "id": "4a4a31fd",
   "metadata": {},
   "source": []
  },
  {
   "cell_type": "markdown",
   "id": "98e8830f",
   "metadata": {},
   "source": [
    "This will render as:"
   ]
  },
  {
   "cell_type": "markdown",
   "id": "3d186188",
   "metadata": {},
   "source": []
  }
 ],
 "metadata": {},
 "nbformat": 4,
 "nbformat_minor": 5
}
