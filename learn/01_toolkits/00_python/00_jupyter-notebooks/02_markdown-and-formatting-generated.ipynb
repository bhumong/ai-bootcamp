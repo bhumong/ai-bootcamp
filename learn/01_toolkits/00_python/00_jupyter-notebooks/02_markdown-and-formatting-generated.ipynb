{
 "cells": [
  {
   "cell_type": "markdown",
   "id": "9869531d",
   "metadata": {},
   "source": [
    "source: [https://ai-bootcamp.ruangguru.com/learn/01_toolkits/00_python/00_jupyter-notebooks/02_markdown-and-formatting.html](https://ai-bootcamp.ruangguru.com/learn/01_toolkits/00_python/00_jupyter-notebooks/02_markdown-and-formatting.html)"
   ]
  },
  {
   "cell_type": "markdown",
   "id": "9b5a016c",
   "metadata": {},
   "source": [
    "# Markdown and Formatting"
   ]
  },
  {
   "cell_type": "markdown",
   "id": "a058e519",
   "metadata": {},
   "source": [
    "Markdown is a lightweight and popular Markup language which is a writing standard for data scientists and analysts. It is often converted into the HTML format for web viewing. Jupyter Notebook recognizes markdown and renders markdown instructions into rich text."
   ]
  },
  {
   "cell_type": "markdown",
   "id": "84739f6c",
   "metadata": {},
   "source": [
    "Markdown allows you to write using an easy-to-read and easy-to-write plain text format, then convert it to structurally valid XHTML (or HTML). It’s very simple to format words as bold or italic, include links, create lists, and so on."
   ]
  },
  {
   "cell_type": "markdown",
   "id": "dd1b2b4f",
   "metadata": {},
   "source": [
    "Remember, in Jupyter Notebook, you need to execute the cell (press Shift + Enter) to apply the markdown formatting."
   ]
  },
  {
   "cell_type": "markdown",
   "id": "5274d830",
   "metadata": {},
   "source": [
    "# Basic markdown syntax for headings, emphasis, lists, and links"
   ]
  },
  {
   "cell_type": "markdown",
   "id": "c3b05126",
   "metadata": {},
   "source": [
    "# Headings"
   ]
  },
  {
   "cell_type": "markdown",
   "id": "611e1450",
   "metadata": {},
   "source": [
    "Headings are created by using the # symbol before your heading text. The number of # you use will determine the size of the heading. There are six sizes you can create, similar to HTML heading tags <h1> - <h6>."
   ]
  },
  {
   "cell_type": "markdown",
   "id": "9814fe92",
   "metadata": {},
   "source": []
  },
  {
   "cell_type": "markdown",
   "id": "8390d189",
   "metadata": {},
   "source": [
    "![Image](./notebook_images/image_0.png)"
   ]
  },
  {
   "cell_type": "markdown",
   "id": "37086ef2",
   "metadata": {},
   "source": [
    "# Emphasis"
   ]
  },
  {
   "cell_type": "markdown",
   "id": "9d00453b",
   "metadata": {},
   "source": [
    "Emphasis, such as bold and italic, can be added by wrapping text in * or _ characters."
   ]
  },
  {
   "cell_type": "markdown",
   "id": "867844f9",
   "metadata": {},
   "source": []
  },
  {
   "cell_type": "markdown",
   "id": "e98ea3ca",
   "metadata": {},
   "source": [
    "![Image](./notebook_images/image_0.png)"
   ]
  },
  {
   "cell_type": "markdown",
   "id": "30b4dbd7",
   "metadata": {},
   "source": [
    "# Lists"
   ]
  },
  {
   "cell_type": "markdown",
   "id": "318f337d",
   "metadata": {},
   "source": [
    "Markdown supports ordered and unordered lists."
   ]
  },
  {
   "cell_type": "markdown",
   "id": "8dbb0333",
   "metadata": {},
   "source": [
    "To create an unordered list, you can use asterisks *, hyphens -, or plus +."
   ]
  },
  {
   "cell_type": "markdown",
   "id": "7e9928b3",
   "metadata": {},
   "source": []
  },
  {
   "cell_type": "markdown",
   "id": "24a24df8",
   "metadata": {},
   "source": [
    "![Image](./notebook_images/image_0.png)"
   ]
  },
  {
   "cell_type": "markdown",
   "id": "6fda5cd9",
   "metadata": {},
   "source": [
    "For an ordered list, you simply number your items."
   ]
  },
  {
   "cell_type": "markdown",
   "id": "bd04884f",
   "metadata": {},
   "source": []
  },
  {
   "cell_type": "markdown",
   "id": "858d3f27",
   "metadata": {},
   "source": [
    "![Image](./notebook_images/image_0.png)"
   ]
  },
  {
   "cell_type": "markdown",
   "id": "841f6ff4",
   "metadata": {},
   "source": [
    "# Links"
   ]
  },
  {
   "cell_type": "markdown",
   "id": "f177e333",
   "metadata": {},
   "source": [
    "You can create an inline link by wrapping the link text in brackets [ ], and then wrapping the URL in parentheses ( )."
   ]
  },
  {
   "cell_type": "markdown",
   "id": "363a2786",
   "metadata": {},
   "source": []
  },
  {
   "cell_type": "markdown",
   "id": "454e5bb1",
   "metadata": {},
   "source": [
    "![Image](./notebook_images/image_0.png)"
   ]
  },
  {
   "cell_type": "markdown",
   "id": "6880bcd9",
   "metadata": {},
   "source": [
    "To create a reference link, you include a labeled reference in brackets [ ], followed by a reference in brackets. Later, you define the URL of the reference like so:"
   ]
  },
  {
   "cell_type": "markdown",
   "id": "8006dcc3",
   "metadata": {},
   "source": []
  },
  {
   "cell_type": "markdown",
   "id": "5c45a973",
   "metadata": {},
   "source": [
    "![Image](./notebook_images/image_0.png)"
   ]
  },
  {
   "cell_type": "markdown",
   "id": "3a4978c7",
   "metadata": {},
   "source": [
    "You can also use a shortcut reference link, which is similar to a standard reference link, but you only have to include the reference, not the label."
   ]
  },
  {
   "cell_type": "markdown",
   "id": "7a814389",
   "metadata": {},
   "source": []
  },
  {
   "cell_type": "markdown",
   "id": "ced93f15",
   "metadata": {},
   "source": [
    "![Image](./notebook_images/image_0.png)"
   ]
  },
  {
   "cell_type": "markdown",
   "id": "d06206ba",
   "metadata": {},
   "source": [
    "# Inserting images and tables"
   ]
  },
  {
   "cell_type": "markdown",
   "id": "f707bc0e",
   "metadata": {},
   "source": [
    "# Inserting images"
   ]
  },
  {
   "cell_type": "markdown",
   "id": "c1c09f6b",
   "metadata": {},
   "source": [
    "Inserting images in Jupyter Notebook using markdown is quite simple. The syntax is similar to creating a link - you just need to add an exclamation mark ! before the square brackets [ ]. Inside the square brackets, you place an alternative text for your image (displayed when the image can’t be loaded), and in the parentheses ( ), you add the URL or path of the image."
   ]
  },
  {
   "cell_type": "markdown",
   "id": "aa9c1e60",
   "metadata": {},
   "source": []
  },
  {
   "cell_type": "markdown",
   "id": "749a8e18",
   "metadata": {},
   "source": [
    "![Image](./notebook_images/image_0.png)"
   ]
  },
  {
   "cell_type": "markdown",
   "id": "f0399958",
   "metadata": {},
   "source": [
    "For an image hosted on the web, you would use the URL of the image:"
   ]
  },
  {
   "cell_type": "markdown",
   "id": "91151fd4",
   "metadata": {},
   "source": []
  },
  {
   "cell_type": "markdown",
   "id": "57614e61",
   "metadata": {},
   "source": [
    "![Image](./notebook_images/image_0.png)"
   ]
  },
  {
   "cell_type": "markdown",
   "id": "ec8df9f5",
   "metadata": {},
   "source": [
    "Or you can use drag and drop the image into the notebook. It’s possible only to Markdown cells. The image is encoded with Base64, and its text representation is included in the ipynb file."
   ]
  },
  {
   "cell_type": "markdown",
   "id": "71f7cbfb",
   "metadata": {},
   "source": [
    " (source: mljar)"
   ]
  },
  {
   "cell_type": "markdown",
   "id": "63ce62ef",
   "metadata": {},
   "source": [
    "![Image](./notebook_images/image_0.gif)"
   ]
  },
  {
   "cell_type": "markdown",
   "id": "a49fedbf",
   "metadata": {},
   "source": [
    "# Tables"
   ]
  },
  {
   "cell_type": "markdown",
   "id": "e2deb89d",
   "metadata": {},
   "source": [
    "Creating tables in markdown is also straightforward, although it can be a bit finicky with the alignment of columns. You use a combination of | to denote columns and - to denote the heading row of the table."
   ]
  },
  {
   "cell_type": "markdown",
   "id": "7c115a86",
   "metadata": {},
   "source": [
    "Below is the syntax for a basic table:"
   ]
  },
  {
   "cell_type": "markdown",
   "id": "7f29bb67",
   "metadata": {},
   "source": []
  },
  {
   "cell_type": "markdown",
   "id": "557629ec",
   "metadata": {},
   "source": [
    "![Image](./notebook_images/image_0.png)"
   ]
  },
  {
   "cell_type": "markdown",
   "id": "8a8116ed",
   "metadata": {},
   "source": [
    "This will render as:"
   ]
  },
  {
   "cell_type": "markdown",
   "id": "1493750c",
   "metadata": {},
   "source": [
    "| Column 1 | Column 2 | Column 3 |\n",
    "| --- | --- | --- |\n",
    "| Data 1 | Data 2 | Data 3 |\n",
    "| Data 4 | Data 5 | Data 6 |"
   ]
  },
  {
   "cell_type": "markdown",
   "id": "9762a73b",
   "metadata": {},
   "source": [
    "In this table:"
   ]
  },
  {
   "cell_type": "markdown",
   "id": "566a6c56",
   "metadata": {},
   "source": [
    "- The first row is the table header.\n",
    "- The second row contains a series of dashes---used to separate the table header from the table body.\n",
    "- Rows three and four contain the table data."
   ]
  },
  {
   "cell_type": "markdown",
   "id": "8425420e",
   "metadata": {},
   "source": [
    "When creating tables, the cells need not align perfectly in the raw markdown. As long as they are separated by |, the table will render correctly."
   ]
  },
  {
   "cell_type": "markdown",
   "id": "5b7d135c",
   "metadata": {},
   "source": [
    "# Adding code snippets in markdown cells"
   ]
  },
  {
   "cell_type": "markdown",
   "id": "f1adb113",
   "metadata": {},
   "source": [
    "In Jupyter Notebook, you can insert code snippets into the markdown cells. This is useful for explaining code, displaying the syntax of a specific language, or preventing the code from being executed."
   ]
  },
  {
   "cell_type": "markdown",
   "id": "c49e84f3",
   "metadata": {},
   "source": [
    "To add a code snippet in a markdown cell, you need to wrap your code inside a pair of three backticks (```). Additionally, you can specify the programming language directly after the opening backticks to enable syntax highlighting."
   ]
  },
  {
   "cell_type": "markdown",
   "id": "0d3edabb",
   "metadata": {},
   "source": [
    "- Without specifying a language:code-snippet-1.pngThis will render as:code-snippet-2.png\n",
    "- Specifying a language (Python in this case):code-snippet-3.pngThis will render as:code-snippet-4.png"
   ]
  },
  {
   "cell_type": "markdown",
   "id": "0aaab3ca",
   "metadata": {},
   "source": [
    "Without specifying a language:"
   ]
  },
  {
   "cell_type": "markdown",
   "id": "5df008df",
   "metadata": {},
   "source": []
  },
  {
   "cell_type": "markdown",
   "id": "5a199d96",
   "metadata": {},
   "source": [
    "![Image](./notebook_images/image_0.png)"
   ]
  },
  {
   "cell_type": "markdown",
   "id": "9c34582f",
   "metadata": {},
   "source": [
    "This will render as:"
   ]
  },
  {
   "cell_type": "markdown",
   "id": "a0d56e48",
   "metadata": {},
   "source": []
  },
  {
   "cell_type": "markdown",
   "id": "c488f7af",
   "metadata": {},
   "source": [
    "![Image](./notebook_images/image_0.png)"
   ]
  },
  {
   "cell_type": "markdown",
   "id": "951abcfd",
   "metadata": {},
   "source": [
    "Specifying a language (Python in this case):"
   ]
  },
  {
   "cell_type": "markdown",
   "id": "0bc4e263",
   "metadata": {},
   "source": []
  },
  {
   "cell_type": "markdown",
   "id": "7897cba7",
   "metadata": {},
   "source": [
    "![Image](./notebook_images/image_0.png)"
   ]
  },
  {
   "cell_type": "markdown",
   "id": "4175ba88",
   "metadata": {},
   "source": [
    "This will render as:"
   ]
  },
  {
   "cell_type": "markdown",
   "id": "2426c000",
   "metadata": {},
   "source": []
  },
  {
   "cell_type": "markdown",
   "id": "223430f2",
   "metadata": {},
   "source": [
    "![Image](./notebook_images/image_0.png)"
   ]
  },
  {
   "cell_type": "markdown",
   "id": "71c2b4af",
   "metadata": {},
   "source": [
    "You can also use inline code snippets in your markdown. For that, enclose your code in a single backtick (`)."
   ]
  },
  {
   "cell_type": "markdown",
   "id": "5193fb6a",
   "metadata": {},
   "source": [
    "For example:"
   ]
  },
  {
   "cell_type": "markdown",
   "id": "c3861249",
   "metadata": {},
   "source": []
  },
  {
   "cell_type": "markdown",
   "id": "17535314",
   "metadata": {},
   "source": [
    "![Image](./notebook_images/image_0.png)"
   ]
  },
  {
   "cell_type": "markdown",
   "id": "e489c7d2",
   "metadata": {},
   "source": [
    "This will render as:"
   ]
  },
  {
   "cell_type": "markdown",
   "id": "3ff798c9",
   "metadata": {},
   "source": []
  },
  {
   "cell_type": "markdown",
   "id": "de05b571",
   "metadata": {},
   "source": [
    "![Image](./notebook_images/image_0.png)"
   ]
  }
 ],
 "metadata": {},
 "nbformat": 4,
 "nbformat_minor": 5
}
