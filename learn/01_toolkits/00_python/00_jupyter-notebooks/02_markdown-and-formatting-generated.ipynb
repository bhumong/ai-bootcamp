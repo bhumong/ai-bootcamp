{
 "cells": [
  {
   "cell_type": "markdown",
   "id": "8789ebe6",
   "metadata": {},
   "source": [
    "source: [link](https://ai-bootcamp.ruangguru.com/learn/01_toolkits/00_python/00_jupyter-notebooks/02_markdown-and-formatting.html)"
   ]
  },
  {
   "cell_type": "markdown",
   "id": "c4b64f7c",
   "metadata": {},
   "source": [
    "# Markdown and Formatting"
   ]
  },
  {
   "cell_type": "markdown",
   "id": "b4c0bb36",
   "metadata": {},
   "source": [
    "Markdown is a lightweight and popular Markup language which is a writing standard for data scientists and analysts. It is often converted into the HTML format for web viewing. Jupyter Notebook recognizes markdown and renders markdown instructions into rich text."
   ]
  },
  {
   "cell_type": "markdown",
   "id": "6bea2501",
   "metadata": {},
   "source": [
    "Markdown allows you to write using an easy-to-read and easy-to-write plain text format, then convert it to structurally valid XHTML (or HTML). It’s very simple to format words as bold or italic, include links, create lists, and so on."
   ]
  },
  {
   "cell_type": "markdown",
   "id": "3ad15ee3",
   "metadata": {},
   "source": [
    "Remember, in Jupyter Notebook, you need to execute the cell (press Shift + Enter) to apply the markdown formatting."
   ]
  },
  {
   "cell_type": "markdown",
   "id": "f3787e65",
   "metadata": {},
   "source": [
    "# Basic markdown syntax for headings, emphasis, lists, and links"
   ]
  },
  {
   "cell_type": "markdown",
   "id": "60a71639",
   "metadata": {},
   "source": [
    "# Headings"
   ]
  },
  {
   "cell_type": "markdown",
   "id": "0e76b3e6",
   "metadata": {},
   "source": [
    "Headings are created by using the # symbol before your heading text. The number of # you use will determine the size of the heading. There are six sizes you can create, similar to HTML heading tags <h1> - <h6>."
   ]
  },
  {
   "cell_type": "markdown",
   "id": "9b227508",
   "metadata": {},
   "source": []
  },
  {
   "cell_type": "markdown",
   "id": "c28b698c",
   "metadata": {},
   "source": [
    "![Image](./notebook_images/image_0.png)"
   ]
  },
  {
   "cell_type": "markdown",
   "id": "836fd98e",
   "metadata": {},
   "source": [
    "# Emphasis"
   ]
  },
  {
   "cell_type": "markdown",
   "id": "e98391f7",
   "metadata": {},
   "source": [
    "Emphasis, such as bold and italic, can be added by wrapping text in * or _ characters."
   ]
  },
  {
   "cell_type": "markdown",
   "id": "53d74178",
   "metadata": {},
   "source": []
  },
  {
   "cell_type": "markdown",
   "id": "40f7333a",
   "metadata": {},
   "source": [
    "![Image](./notebook_images/image_0.png)"
   ]
  },
  {
   "cell_type": "markdown",
   "id": "2fca5a44",
   "metadata": {},
   "source": [
    "# Lists"
   ]
  },
  {
   "cell_type": "markdown",
   "id": "ca1d7033",
   "metadata": {},
   "source": [
    "Markdown supports ordered and unordered lists."
   ]
  },
  {
   "cell_type": "markdown",
   "id": "b39dc16e",
   "metadata": {},
   "source": [
    "To create an unordered list, you can use asterisks *, hyphens -, or plus +."
   ]
  },
  {
   "cell_type": "markdown",
   "id": "4987623b",
   "metadata": {},
   "source": []
  },
  {
   "cell_type": "markdown",
   "id": "9e0636de",
   "metadata": {},
   "source": [
    "![Image](./notebook_images/image_0.png)"
   ]
  },
  {
   "cell_type": "markdown",
   "id": "bd9258eb",
   "metadata": {},
   "source": [
    "For an ordered list, you simply number your items."
   ]
  },
  {
   "cell_type": "markdown",
   "id": "c6e50310",
   "metadata": {},
   "source": []
  },
  {
   "cell_type": "markdown",
   "id": "3c838598",
   "metadata": {},
   "source": [
    "![Image](./notebook_images/image_0.png)"
   ]
  },
  {
   "cell_type": "markdown",
   "id": "9664b648",
   "metadata": {},
   "source": [
    "# Links"
   ]
  },
  {
   "cell_type": "markdown",
   "id": "59903135",
   "metadata": {},
   "source": [
    "You can create an inline link by wrapping the link text in brackets [ ], and then wrapping the URL in parentheses ( )."
   ]
  },
  {
   "cell_type": "markdown",
   "id": "c0d9118f",
   "metadata": {},
   "source": []
  },
  {
   "cell_type": "markdown",
   "id": "bbcf9bb5",
   "metadata": {},
   "source": [
    "![Image](./notebook_images/image_0.png)"
   ]
  },
  {
   "cell_type": "markdown",
   "id": "af44e432",
   "metadata": {},
   "source": [
    "To create a reference link, you include a labeled reference in brackets [ ], followed by a reference in brackets. Later, you define the URL of the reference like so:"
   ]
  },
  {
   "cell_type": "markdown",
   "id": "b74cc177",
   "metadata": {},
   "source": []
  },
  {
   "cell_type": "markdown",
   "id": "077aff45",
   "metadata": {},
   "source": [
    "![Image](./notebook_images/image_0.png)"
   ]
  },
  {
   "cell_type": "markdown",
   "id": "2b028413",
   "metadata": {},
   "source": [
    "You can also use a shortcut reference link, which is similar to a standard reference link, but you only have to include the reference, not the label."
   ]
  },
  {
   "cell_type": "markdown",
   "id": "ee61e1a9",
   "metadata": {},
   "source": []
  },
  {
   "cell_type": "markdown",
   "id": "eff6e377",
   "metadata": {},
   "source": [
    "![Image](./notebook_images/image_0.png)"
   ]
  },
  {
   "cell_type": "markdown",
   "id": "96a64898",
   "metadata": {},
   "source": [
    "# Inserting images and tables"
   ]
  },
  {
   "cell_type": "markdown",
   "id": "42742213",
   "metadata": {},
   "source": [
    "# Inserting images"
   ]
  },
  {
   "cell_type": "markdown",
   "id": "65fdf6f8",
   "metadata": {},
   "source": [
    "Inserting images in Jupyter Notebook using markdown is quite simple. The syntax is similar to creating a link - you just need to add an exclamation mark ! before the square brackets [ ]. Inside the square brackets, you place an alternative text for your image (displayed when the image can’t be loaded), and in the parentheses ( ), you add the URL or path of the image."
   ]
  },
  {
   "cell_type": "markdown",
   "id": "82f800fe",
   "metadata": {},
   "source": []
  },
  {
   "cell_type": "markdown",
   "id": "32897efb",
   "metadata": {},
   "source": [
    "![Image](./notebook_images/image_0.png)"
   ]
  },
  {
   "cell_type": "markdown",
   "id": "1cfc8221",
   "metadata": {},
   "source": [
    "For an image hosted on the web, you would use the URL of the image:"
   ]
  },
  {
   "cell_type": "markdown",
   "id": "d8bf7433",
   "metadata": {},
   "source": []
  },
  {
   "cell_type": "markdown",
   "id": "b245d22f",
   "metadata": {},
   "source": [
    "![Image](./notebook_images/image_0.png)"
   ]
  },
  {
   "cell_type": "markdown",
   "id": "a5b3272f",
   "metadata": {},
   "source": [
    "Or you can use drag and drop the image into the notebook. It’s possible only to Markdown cells. The image is encoded with Base64, and its text representation is included in the ipynb file."
   ]
  },
  {
   "cell_type": "markdown",
   "id": "6b7a175f",
   "metadata": {},
   "source": [
    " (source: mljar)"
   ]
  },
  {
   "cell_type": "markdown",
   "id": "34989db4",
   "metadata": {},
   "source": [
    "![Image](./notebook_images/image_0.gif)"
   ]
  },
  {
   "cell_type": "markdown",
   "id": "b019b4f0",
   "metadata": {},
   "source": [
    "# Tables"
   ]
  },
  {
   "cell_type": "markdown",
   "id": "8f5b1eef",
   "metadata": {},
   "source": [
    "Creating tables in markdown is also straightforward, although it can be a bit finicky with the alignment of columns. You use a combination of | to denote columns and - to denote the heading row of the table."
   ]
  },
  {
   "cell_type": "markdown",
   "id": "8314081b",
   "metadata": {},
   "source": [
    "Below is the syntax for a basic table:"
   ]
  },
  {
   "cell_type": "markdown",
   "id": "f83d7903",
   "metadata": {},
   "source": []
  },
  {
   "cell_type": "markdown",
   "id": "ba8f87cf",
   "metadata": {},
   "source": [
    "![Image](./notebook_images/image_0.png)"
   ]
  },
  {
   "cell_type": "markdown",
   "id": "9378df03",
   "metadata": {},
   "source": [
    "This will render as:"
   ]
  },
  {
   "cell_type": "markdown",
   "id": "a4831237",
   "metadata": {},
   "source": [
    "| Column 1 | Column 2 | Column 3 |\n",
    "| --- | --- | --- |\n",
    "| Data 1 | Data 2 | Data 3 |\n",
    "| Data 4 | Data 5 | Data 6 |"
   ]
  },
  {
   "cell_type": "markdown",
   "id": "5c5aa500",
   "metadata": {},
   "source": [
    "In this table:"
   ]
  },
  {
   "cell_type": "markdown",
   "id": "fd271d96",
   "metadata": {},
   "source": [
    "- The first row is the table header.\n",
    "- The second row contains a series of dashes---used to separate the table header from the table body.\n",
    "- Rows three and four contain the table data."
   ]
  },
  {
   "cell_type": "markdown",
   "id": "efd5c4fe",
   "metadata": {},
   "source": [
    "When creating tables, the cells need not align perfectly in the raw markdown. As long as they are separated by |, the table will render correctly."
   ]
  },
  {
   "cell_type": "markdown",
   "id": "2167e854",
   "metadata": {},
   "source": [
    "# Adding code snippets in markdown cells"
   ]
  },
  {
   "cell_type": "markdown",
   "id": "965e9fab",
   "metadata": {},
   "source": [
    "In Jupyter Notebook, you can insert code snippets into the markdown cells. This is useful for explaining code, displaying the syntax of a specific language, or preventing the code from being executed."
   ]
  },
  {
   "cell_type": "markdown",
   "id": "ba2d77f5",
   "metadata": {},
   "source": [
    "To add a code snippet in a markdown cell, you need to wrap your code inside a pair of three backticks (```). Additionally, you can specify the programming language directly after the opening backticks to enable syntax highlighting."
   ]
  },
  {
   "cell_type": "markdown",
   "id": "7bb1f7c5",
   "metadata": {},
   "source": [
    "- Without specifying a language:code-snippet-1.pngThis will render as:code-snippet-2.png\n",
    "- Specifying a language (Python in this case):code-snippet-3.pngThis will render as:code-snippet-4.png"
   ]
  },
  {
   "cell_type": "markdown",
   "id": "6d08b0e5",
   "metadata": {},
   "source": [
    "Without specifying a language:"
   ]
  },
  {
   "cell_type": "markdown",
   "id": "985de991",
   "metadata": {},
   "source": []
  },
  {
   "cell_type": "markdown",
   "id": "7551cbd9",
   "metadata": {},
   "source": [
    "![Image](./notebook_images/image_0.png)"
   ]
  },
  {
   "cell_type": "markdown",
   "id": "47433860",
   "metadata": {},
   "source": [
    "This will render as:"
   ]
  },
  {
   "cell_type": "markdown",
   "id": "c86d0e43",
   "metadata": {},
   "source": []
  },
  {
   "cell_type": "markdown",
   "id": "eb32f827",
   "metadata": {},
   "source": [
    "![Image](./notebook_images/image_0.png)"
   ]
  },
  {
   "cell_type": "markdown",
   "id": "8b713649",
   "metadata": {},
   "source": [
    "Specifying a language (Python in this case):"
   ]
  },
  {
   "cell_type": "markdown",
   "id": "ea99efd5",
   "metadata": {},
   "source": []
  },
  {
   "cell_type": "markdown",
   "id": "dc84a2f2",
   "metadata": {},
   "source": [
    "![Image](./notebook_images/image_0.png)"
   ]
  },
  {
   "cell_type": "markdown",
   "id": "4289e082",
   "metadata": {},
   "source": [
    "This will render as:"
   ]
  },
  {
   "cell_type": "markdown",
   "id": "46fd6050",
   "metadata": {},
   "source": []
  },
  {
   "cell_type": "markdown",
   "id": "31c732db",
   "metadata": {},
   "source": [
    "![Image](./notebook_images/image_0.png)"
   ]
  },
  {
   "cell_type": "markdown",
   "id": "5a6563e1",
   "metadata": {},
   "source": [
    "You can also use inline code snippets in your markdown. For that, enclose your code in a single backtick (`)."
   ]
  },
  {
   "cell_type": "markdown",
   "id": "a02ec639",
   "metadata": {},
   "source": [
    "For example:"
   ]
  },
  {
   "cell_type": "markdown",
   "id": "7c97c4f6",
   "metadata": {},
   "source": []
  },
  {
   "cell_type": "markdown",
   "id": "4b74296a",
   "metadata": {},
   "source": [
    "![Image](./notebook_images/image_0.png)"
   ]
  },
  {
   "cell_type": "markdown",
   "id": "360ebc53",
   "metadata": {},
   "source": [
    "This will render as:"
   ]
  },
  {
   "cell_type": "markdown",
   "id": "48e87b46",
   "metadata": {},
   "source": []
  },
  {
   "cell_type": "markdown",
   "id": "9a655cb9",
   "metadata": {},
   "source": [
    "![Image](./notebook_images/image_0.png)"
   ]
  }
 ],
 "metadata": {},
 "nbformat": 4,
 "nbformat_minor": 5
}
