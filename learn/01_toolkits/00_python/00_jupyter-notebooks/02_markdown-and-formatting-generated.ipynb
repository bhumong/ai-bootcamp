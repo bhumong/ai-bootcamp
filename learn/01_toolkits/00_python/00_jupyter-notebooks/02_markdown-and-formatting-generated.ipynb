{
 "cells": [
  {
   "cell_type": "markdown",
   "id": "bf0918c5",
   "metadata": {},
   "source": [
    "source: [link](https://ai-bootcamp.ruangguru.com/learn/01_toolkits/00_python/00_jupyter-notebooks/02_markdown-and-formatting.html)"
   ]
  },
  {
   "cell_type": "markdown",
   "id": "a4758fe7",
   "metadata": {},
   "source": [
    "# Markdown and Formatting"
   ]
  },
  {
   "cell_type": "markdown",
   "id": "a6b09fbf",
   "metadata": {},
   "source": [
    "Markdown is a lightweight and popular Markup language which is a writing standard for data scientists and analysts. It is often converted into the HTML format for web viewing. Jupyter Notebook recognizes markdown and renders markdown instructions into rich text."
   ]
  },
  {
   "cell_type": "markdown",
   "id": "43fd8558",
   "metadata": {},
   "source": [
    "Markdown allows you to write using an easy-to-read and easy-to-write plain text format, then convert it to structurally valid XHTML (or HTML). It’s very simple to format words as bold or italic, include links, create lists, and so on."
   ]
  },
  {
   "cell_type": "markdown",
   "id": "582a8e29",
   "metadata": {},
   "source": [
    "Remember, in Jupyter Notebook, you need to execute the cell (press Shift + Enter) to apply the markdown formatting."
   ]
  },
  {
   "cell_type": "markdown",
   "id": "e8713bba",
   "metadata": {},
   "source": [
    "# Basic markdown syntax for headings, emphasis, lists, and links"
   ]
  },
  {
   "cell_type": "markdown",
   "id": "161bffd4",
   "metadata": {},
   "source": [
    "# Headings"
   ]
  },
  {
   "cell_type": "markdown",
   "id": "5a1ab386",
   "metadata": {},
   "source": [
    "Headings are created by using the # symbol before your heading text. The number of # you use will determine the size of the heading. There are six sizes you can create, similar to HTML heading tags <h1> - <h6>."
   ]
  },
  {
   "cell_type": "markdown",
   "id": "097e466e",
   "metadata": {},
   "source": []
  },
  {
   "cell_type": "markdown",
   "id": "0bc2c2b9",
   "metadata": {},
   "source": [
    "![Image](./notebook_images/image_0.png)"
   ]
  },
  {
   "cell_type": "markdown",
   "id": "cffa2d82",
   "metadata": {},
   "source": [
    "# Emphasis"
   ]
  },
  {
   "cell_type": "markdown",
   "id": "5079c87b",
   "metadata": {},
   "source": [
    "Emphasis, such as bold and italic, can be added by wrapping text in * or _ characters."
   ]
  },
  {
   "cell_type": "markdown",
   "id": "7b9c4e66",
   "metadata": {},
   "source": []
  },
  {
   "cell_type": "markdown",
   "id": "e8be3c8e",
   "metadata": {},
   "source": [
    "![Image](./notebook_images/image_0.png)"
   ]
  },
  {
   "cell_type": "markdown",
   "id": "b2729648",
   "metadata": {},
   "source": [
    "# Lists"
   ]
  },
  {
   "cell_type": "markdown",
   "id": "084a6958",
   "metadata": {},
   "source": [
    "Markdown supports ordered and unordered lists."
   ]
  },
  {
   "cell_type": "markdown",
   "id": "7cbf4956",
   "metadata": {},
   "source": [
    "To create an unordered list, you can use asterisks *, hyphens -, or plus +."
   ]
  },
  {
   "cell_type": "markdown",
   "id": "4c6b8e96",
   "metadata": {},
   "source": []
  },
  {
   "cell_type": "markdown",
   "id": "94fe1411",
   "metadata": {},
   "source": [
    "![Image](./notebook_images/image_0.png)"
   ]
  },
  {
   "cell_type": "markdown",
   "id": "d0616042",
   "metadata": {},
   "source": [
    "For an ordered list, you simply number your items."
   ]
  },
  {
   "cell_type": "markdown",
   "id": "efb81ab7",
   "metadata": {},
   "source": []
  },
  {
   "cell_type": "markdown",
   "id": "6b0be5e3",
   "metadata": {},
   "source": [
    "![Image](./notebook_images/image_0.png)"
   ]
  },
  {
   "cell_type": "markdown",
   "id": "4288c7e3",
   "metadata": {},
   "source": [
    "# Links"
   ]
  },
  {
   "cell_type": "markdown",
   "id": "e8d81ce2",
   "metadata": {},
   "source": [
    "You can create an inline link by wrapping the link text in brackets [ ], and then wrapping the URL in parentheses ( )."
   ]
  },
  {
   "cell_type": "markdown",
   "id": "b5b4877b",
   "metadata": {},
   "source": []
  },
  {
   "cell_type": "markdown",
   "id": "a6ef2f7e",
   "metadata": {},
   "source": [
    "![Image](./notebook_images/image_0.png)"
   ]
  },
  {
   "cell_type": "markdown",
   "id": "70595dc3",
   "metadata": {},
   "source": [
    "To create a reference link, you include a labeled reference in brackets [ ], followed by a reference in brackets. Later, you define the URL of the reference like so:"
   ]
  },
  {
   "cell_type": "markdown",
   "id": "40c15c81",
   "metadata": {},
   "source": []
  },
  {
   "cell_type": "markdown",
   "id": "1f6befa4",
   "metadata": {},
   "source": [
    "![Image](./notebook_images/image_0.png)"
   ]
  },
  {
   "cell_type": "markdown",
   "id": "b82332d5",
   "metadata": {},
   "source": [
    "You can also use a shortcut reference link, which is similar to a standard reference link, but you only have to include the reference, not the label."
   ]
  },
  {
   "cell_type": "markdown",
   "id": "51c42857",
   "metadata": {},
   "source": []
  },
  {
   "cell_type": "markdown",
   "id": "54bd8fec",
   "metadata": {},
   "source": [
    "![Image](./notebook_images/image_0.png)"
   ]
  },
  {
   "cell_type": "markdown",
   "id": "d7abaa39",
   "metadata": {},
   "source": [
    "# Inserting images and tables"
   ]
  },
  {
   "cell_type": "markdown",
   "id": "68125f4c",
   "metadata": {},
   "source": [
    "# Inserting images"
   ]
  },
  {
   "cell_type": "markdown",
   "id": "8fa06c46",
   "metadata": {},
   "source": [
    "Inserting images in Jupyter Notebook using markdown is quite simple. The syntax is similar to creating a link - you just need to add an exclamation mark ! before the square brackets [ ]. Inside the square brackets, you place an alternative text for your image (displayed when the image can’t be loaded), and in the parentheses ( ), you add the URL or path of the image."
   ]
  },
  {
   "cell_type": "markdown",
   "id": "65765354",
   "metadata": {},
   "source": []
  },
  {
   "cell_type": "markdown",
   "id": "2d33419e",
   "metadata": {},
   "source": [
    "![Image](./notebook_images/image_0.png)"
   ]
  },
  {
   "cell_type": "markdown",
   "id": "603bd56f",
   "metadata": {},
   "source": [
    "For an image hosted on the web, you would use the URL of the image:"
   ]
  },
  {
   "cell_type": "markdown",
   "id": "6fb94e81",
   "metadata": {},
   "source": []
  },
  {
   "cell_type": "markdown",
   "id": "b31fc886",
   "metadata": {},
   "source": [
    "![Image](./notebook_images/image_0.png)"
   ]
  },
  {
   "cell_type": "markdown",
   "id": "e9cd50f0",
   "metadata": {},
   "source": [
    "Or you can use drag and drop the image into the notebook. It’s possible only to Markdown cells. The image is encoded with Base64, and its text representation is included in the ipynb file."
   ]
  },
  {
   "cell_type": "markdown",
   "id": "6701a8ee",
   "metadata": {},
   "source": [
    " (source: mljar)"
   ]
  },
  {
   "cell_type": "markdown",
   "id": "a3a49212",
   "metadata": {},
   "source": [
    "![Image](./notebook_images/image_0.gif)"
   ]
  },
  {
   "cell_type": "markdown",
   "id": "2df54724",
   "metadata": {},
   "source": [
    "# Tables"
   ]
  },
  {
   "cell_type": "markdown",
   "id": "485271a3",
   "metadata": {},
   "source": [
    "Creating tables in markdown is also straightforward, although it can be a bit finicky with the alignment of columns. You use a combination of | to denote columns and - to denote the heading row of the table."
   ]
  },
  {
   "cell_type": "markdown",
   "id": "0ffd401c",
   "metadata": {},
   "source": [
    "Below is the syntax for a basic table:"
   ]
  },
  {
   "cell_type": "markdown",
   "id": "d08278b5",
   "metadata": {},
   "source": []
  },
  {
   "cell_type": "markdown",
   "id": "440a1897",
   "metadata": {},
   "source": [
    "![Image](./notebook_images/image_0.png)"
   ]
  },
  {
   "cell_type": "markdown",
   "id": "c43f766e",
   "metadata": {},
   "source": [
    "This will render as:"
   ]
  },
  {
   "cell_type": "markdown",
   "id": "4b661449",
   "metadata": {},
   "source": [
    "| Column 1 | Column 2 | Column 3 |\n",
    "| --- | --- | --- |\n",
    "| Data 1 | Data 2 | Data 3 |\n",
    "| Data 4 | Data 5 | Data 6 |"
   ]
  },
  {
   "cell_type": "markdown",
   "id": "5f8bf7a6",
   "metadata": {},
   "source": [
    "In this table:"
   ]
  },
  {
   "cell_type": "markdown",
   "id": "edbbd34e",
   "metadata": {},
   "source": [
    "- The first row is the table header.\n",
    "- The second row contains a series of dashes---used to separate the table header from the table body.\n",
    "- Rows three and four contain the table data."
   ]
  },
  {
   "cell_type": "markdown",
   "id": "468229aa",
   "metadata": {},
   "source": [
    "When creating tables, the cells need not align perfectly in the raw markdown. As long as they are separated by |, the table will render correctly."
   ]
  },
  {
   "cell_type": "markdown",
   "id": "2ca496d8",
   "metadata": {},
   "source": [
    "# Adding code snippets in markdown cells"
   ]
  },
  {
   "cell_type": "markdown",
   "id": "1b545703",
   "metadata": {},
   "source": [
    "In Jupyter Notebook, you can insert code snippets into the markdown cells. This is useful for explaining code, displaying the syntax of a specific language, or preventing the code from being executed."
   ]
  },
  {
   "cell_type": "markdown",
   "id": "63b35233",
   "metadata": {},
   "source": [
    "To add a code snippet in a markdown cell, you need to wrap your code inside a pair of three backticks (```). Additionally, you can specify the programming language directly after the opening backticks to enable syntax highlighting."
   ]
  },
  {
   "cell_type": "markdown",
   "id": "e7561d2c",
   "metadata": {},
   "source": [
    "- Without specifying a language:code-snippet-1.pngThis will render as:code-snippet-2.png\n",
    "- Specifying a language (Python in this case):code-snippet-3.pngThis will render as:code-snippet-4.png"
   ]
  },
  {
   "cell_type": "markdown",
   "id": "705a6e8d",
   "metadata": {},
   "source": [
    "Without specifying a language:"
   ]
  },
  {
   "cell_type": "markdown",
   "id": "d8aa6d21",
   "metadata": {},
   "source": []
  },
  {
   "cell_type": "markdown",
   "id": "7369a037",
   "metadata": {},
   "source": [
    "![Image](./notebook_images/image_0.png)"
   ]
  },
  {
   "cell_type": "markdown",
   "id": "932d1725",
   "metadata": {},
   "source": [
    "This will render as:"
   ]
  },
  {
   "cell_type": "markdown",
   "id": "dda24033",
   "metadata": {},
   "source": []
  },
  {
   "cell_type": "markdown",
   "id": "5ac9d9c3",
   "metadata": {},
   "source": [
    "![Image](./notebook_images/image_0.png)"
   ]
  },
  {
   "cell_type": "markdown",
   "id": "0ea46955",
   "metadata": {},
   "source": [
    "Specifying a language (Python in this case):"
   ]
  },
  {
   "cell_type": "markdown",
   "id": "a3053fa7",
   "metadata": {},
   "source": []
  },
  {
   "cell_type": "markdown",
   "id": "29ee5eec",
   "metadata": {},
   "source": [
    "![Image](./notebook_images/image_0.png)"
   ]
  },
  {
   "cell_type": "markdown",
   "id": "5a73fc26",
   "metadata": {},
   "source": [
    "This will render as:"
   ]
  },
  {
   "cell_type": "markdown",
   "id": "059819fc",
   "metadata": {},
   "source": []
  },
  {
   "cell_type": "markdown",
   "id": "2e173c76",
   "metadata": {},
   "source": [
    "![Image](./notebook_images/image_0.png)"
   ]
  },
  {
   "cell_type": "markdown",
   "id": "3cba2bfa",
   "metadata": {},
   "source": [
    "You can also use inline code snippets in your markdown. For that, enclose your code in a single backtick (`)."
   ]
  },
  {
   "cell_type": "markdown",
   "id": "d57e3956",
   "metadata": {},
   "source": [
    "For example:"
   ]
  },
  {
   "cell_type": "markdown",
   "id": "b446ba75",
   "metadata": {},
   "source": []
  },
  {
   "cell_type": "markdown",
   "id": "19ec3b39",
   "metadata": {},
   "source": [
    "![Image](./notebook_images/image_0.png)"
   ]
  },
  {
   "cell_type": "markdown",
   "id": "048a434e",
   "metadata": {},
   "source": [
    "This will render as:"
   ]
  },
  {
   "cell_type": "markdown",
   "id": "0fc6d167",
   "metadata": {},
   "source": []
  },
  {
   "cell_type": "markdown",
   "id": "e50e4616",
   "metadata": {},
   "source": [
    "![Image](./notebook_images/image_0.png)"
   ]
  }
 ],
 "metadata": {},
 "nbformat": 4,
 "nbformat_minor": 5
}
