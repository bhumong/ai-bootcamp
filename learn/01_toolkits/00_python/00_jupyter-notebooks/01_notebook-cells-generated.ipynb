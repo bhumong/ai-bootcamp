{
 "cells": [
  {
   "cell_type": "markdown",
   "id": "60aba69c",
   "metadata": {},
   "source": [
    "# Notebook cells"
   ]
  },
  {
   "cell_type": "markdown",
   "id": "b8dd1760",
   "metadata": {},
   "source": [
    "In a Jupyter Notebook, notebook cells are the fundamental building blocks that allow you to organize, create, and execute various elements within the notebook. They are like blocks that can contain code or text, and you can run them to see the results immediately. This makes Jupyter Notebooks interactive and easy to use."
   ]
  },
  {
   "cell_type": "markdown",
   "id": "bd1b7e41",
   "metadata": {},
   "source": [
    "# Types of cells"
   ]
  },
  {
   "cell_type": "markdown",
   "id": "15248171",
   "metadata": {},
   "source": [
    "There are three main types of cells in a Jupyter Notebook: - Code Cells - Markdown Cells - Raw Cells"
   ]
  },
  {
   "cell_type": "markdown",
   "id": "e3576c8e",
   "metadata": {},
   "source": [
    "# Code Cells"
   ]
  },
  {
   "cell_type": "markdown",
   "id": "c4b55d42",
   "metadata": {},
   "source": [
    "These cells contain executable code written in the programming language of the kernel you are using (e.g., Python, Julia, R). When you run a code cell, the output is displayed right below the cell."
   ]
  },
  {
   "cell_type": "markdown",
   "id": "9fcec86f",
   "metadata": {},
   "source": []
  },
  {
   "cell_type": "markdown",
   "id": "baad4623",
   "metadata": {},
   "source": [
    "![Image](./notebook_images/image_0.png)"
   ]
  },
  {
   "cell_type": "markdown",
   "id": "6345ef9d",
   "metadata": {},
   "source": [
    "# Markdown Cells"
   ]
  },
  {
   "cell_type": "markdown",
   "id": "1134c8fa",
   "metadata": {},
   "source": [
    "These cells contain text formatted in Markdown, a lightweight markup language that allows you to create formatted text using simple syntax. You can use Markdown to create headings, lists, links, images, and more."
   ]
  },
  {
   "cell_type": "markdown",
   "id": "ab26bed1",
   "metadata": {},
   "source": []
  },
  {
   "cell_type": "markdown",
   "id": "5df93b35",
   "metadata": {},
   "source": [
    "![Image](./notebook_images/image_0.png)"
   ]
  },
  {
   "cell_type": "markdown",
   "id": "d726071b",
   "metadata": {},
   "source": [
    "# Raw Cells"
   ]
  },
  {
   "cell_type": "markdown",
   "id": "9fa9d12e",
   "metadata": {},
   "source": [
    "Raw cells contain text that is not executed or rendered by the notebook. It is used when you want to keep text “as-is,” without any formatting or syntax highlighting. This can be useful for storing comments or instructions in the notebook that are not intended to be rendered or executed."
   ]
  },
  {
   "cell_type": "markdown",
   "id": "eeb65714",
   "metadata": {},
   "source": []
  },
  {
   "cell_type": "markdown",
   "id": "a1bea534",
   "metadata": {},
   "source": [
    "![Image](./notebook_images/image_0.png)"
   ]
  },
  {
   "cell_type": "markdown",
   "id": "ac01c091",
   "metadata": {},
   "source": [
    "# Creating, Editing, and Deleting Cells"
   ]
  },
  {
   "cell_type": "markdown",
   "id": "29f173bd",
   "metadata": {},
   "source": [
    "# Creating Cells:"
   ]
  },
  {
   "cell_type": "markdown",
   "id": "fbbef77c",
   "metadata": {},
   "source": [
    "By default, new cells are created as code cells, but you can change the cell type using the dropdown menu in the toolbar or the ‘Cell Type’ option in the ‘Cell’ menu."
   ]
  },
  {
   "cell_type": "markdown",
   "id": "089ec513",
   "metadata": {},
   "source": [
    "# Editing Cells:"
   ]
  },
  {
   "cell_type": "markdown",
   "id": "4f67bb4c",
   "metadata": {},
   "source": [
    "# Deleting Cells:"
   ]
  },
  {
   "cell_type": "markdown",
   "id": "6e14b389",
   "metadata": {},
   "source": [
    "To delete a cell, first click on the cell you want to remove. This will select the cell."
   ]
  },
  {
   "cell_type": "markdown",
   "id": "4ee6360a",
   "metadata": {},
   "source": [
    "There are several ways to delete the selected cell:"
   ]
  },
  {
   "cell_type": "markdown",
   "id": "6bcff792",
   "metadata": {},
   "source": [
    "Click the ‘Cut Cells’ button in the toolbar."
   ]
  },
  {
   "cell_type": "markdown",
   "id": "6105af1f",
   "metadata": {},
   "source": [
    "Go to the ‘Edit’ menu and click ‘Delete Cells’."
   ]
  },
  {
   "cell_type": "markdown",
   "id": "de7db670",
   "metadata": {},
   "source": [
    "In command mode, use the keyboard shortcuts ‘dd’ or ‘X’."
   ]
  },
  {
   "cell_type": "markdown",
   "id": "ecc9e808",
   "metadata": {},
   "source": [
    "By creating, editing, and deleting cells, you can flexibly structure your Jupyter Notebook to accommodate different types of content and support your projects’ requirements."
   ]
  },
  {
   "cell_type": "markdown",
   "id": "b543938c",
   "metadata": {},
   "source": [
    "# Running and interrupting cells"
   ]
  },
  {
   "cell_type": "markdown",
   "id": "cba9aa78",
   "metadata": {},
   "source": [
    "# Running Cells:"
   ]
  },
  {
   "cell_type": "markdown",
   "id": "8bada472",
   "metadata": {},
   "source": [
    "Executing or rendering the content of a cell in Jupyter Notebook is called “running” a cell. Depending on the cell type, running the cell will either execute the code (code cell) or render the text with proper formatting (Markdown cell)."
   ]
  },
  {
   "cell_type": "markdown",
   "id": "15f219a0",
   "metadata": {},
   "source": [
    "To run a cell, you have several options:"
   ]
  },
  {
   "cell_type": "markdown",
   "id": "943b395f",
   "metadata": {},
   "source": [
    "Click the ‘Run’ button in the toolbar located at the top of the notebook. This will run the current cell and automatically select the next cell."
   ]
  },
  {
   "cell_type": "markdown",
   "id": "6f077378",
   "metadata": {},
   "source": [
    "Use keyboard shortcuts to run the cell:"
   ]
  },
  {
   "cell_type": "markdown",
   "id": "8180be41",
   "metadata": {},
   "source": [
    "‘Shift+Enter’: Runs the current cell and selects the next cell."
   ]
  },
  {
   "cell_type": "markdown",
   "id": "bcc0100a",
   "metadata": {},
   "source": [
    "‘Ctrl+Enter’: Runs the current cell and remains in the same cell."
   ]
  },
  {
   "cell_type": "markdown",
   "id": "7ec8f27d",
   "metadata": {},
   "source": [
    "‘Alt+Enter’: Runs the current cell and inserts a new cell below."
   ]
  },
  {
   "cell_type": "markdown",
   "id": "5b37e9e0",
   "metadata": {},
   "source": [
    "# Interrupting Cells:"
   ]
  },
  {
   "cell_type": "markdown",
   "id": "8e6ccc33",
   "metadata": {},
   "source": [
    "Sometimes, you may need to stop a cell from running, especially when running code that takes a long time to execute or when you realize that the code is incorrect or incomplete."
   ]
  },
  {
   "cell_type": "markdown",
   "id": "3873267a",
   "metadata": {},
   "source": [
    "To interrupt the execution of a cell, you can:"
   ]
  },
  {
   "cell_type": "markdown",
   "id": "b1878a93",
   "metadata": {},
   "source": [
    "Click the ‘Interrupt Kernel’ button (a square button) in the toolbar."
   ]
  },
  {
   "cell_type": "markdown",
   "id": "b027ebe1",
   "metadata": {},
   "source": [
    "Go to the ‘Kernel’ menu in the top menu bar and click ‘Interrupt’."
   ]
  },
  {
   "cell_type": "markdown",
   "id": "22ef1ea0",
   "metadata": {},
   "source": [
    "Interrupting a cell stops the current execution, allowing you to fix issues, change the code, or simply stop a long-running process before it completes. You can then re-run the cell or continue running other cells as needed."
   ]
  },
  {
   "cell_type": "markdown",
   "id": "6cfac60d",
   "metadata": {},
   "source": [
    "# Cell output and inline display"
   ]
  },
  {
   "cell_type": "markdown",
   "id": "af3d8f79",
   "metadata": {},
   "source": [
    "# Cell Output:"
   ]
  },
  {
   "cell_type": "markdown",
   "id": "f70e3b5c",
   "metadata": {},
   "source": [
    "When you run a code cell in Jupyter Notebook, the output generated by the code (e.g., printed text, calculated values, or error messages) will appear directly below the cell. This immediate display of output allows you to see the results of your code execution without having to switch between different windows or applications. The output is automatically saved with the notebook, so you can review it later or share it with others."
   ]
  },
  {
   "cell_type": "markdown",
   "id": "afc40a76",
   "metadata": {},
   "source": [
    "# Inline Display:"
   ]
  },
  {
   "cell_type": "markdown",
   "id": "7da360b7",
   "metadata": {},
   "source": [
    "In addition to text output, Jupyter Notebook supports inline display of rich media elements such as images, charts, plots, and even interactive widgets. This feature allows you to present visualizations and other multimedia content directly within the notebook, enhancing the readability and interpretability of your analysis. Most popular data visualization libraries, like Matplotlib, Seaborn, or Plotly, have built-in support for rendering charts and plots inline in Jupyter Notebook."
   ]
  },
  {
   "cell_type": "markdown",
   "id": "619f0488",
   "metadata": {},
   "source": [
    "For example, to create a simple plot using Matplotlib and display it inline, you can use the following code in a code cell:"
   ]
  },
  {
   "cell_type": "code",
   "execution_count": null,
   "id": "6c0f0738",
   "metadata": {},
   "outputs": [],
   "source": [
    "import numpy as np\n",
    "import matplotlib.pyplot as plt\n",
    "\n",
    "x = np.linspace(0, 10, 100)\n",
    "y = np.sin(x)\n",
    "\n",
    "plt.plot(x, y)\n",
    "plt.xlabel('x')\n",
    "plt.ylabel('sin(x)')\n",
    "plt.title('Sine Wave')\n",
    "plt.show()"
   ]
  },
  {
   "cell_type": "markdown",
   "id": "4e4363b5",
   "metadata": {},
   "source": [
    "After running the cell, the sine wave plot will be displayed directly below the code cell, making it easy to analyze the result and share the visualization with others."
   ]
  }
 ],
 "metadata": {},
 "nbformat": 4,
 "nbformat_minor": 5
}
