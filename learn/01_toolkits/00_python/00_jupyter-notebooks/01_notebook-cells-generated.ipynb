{
 "cells": [
  {
   "cell_type": "markdown",
   "id": "8816c5f7",
   "metadata": {},
   "source": [
    "source: [link](https://ai-bootcamp.ruangguru.com/learn/01_toolkits/00_python/00_jupyter-notebooks/01_notebook-cells.html)"
   ]
  },
  {
   "cell_type": "markdown",
   "id": "7e7c6e0b",
   "metadata": {},
   "source": [
    "# Notebook cells"
   ]
  },
  {
   "cell_type": "markdown",
   "id": "f7d51410",
   "metadata": {},
   "source": [
    "In a Jupyter Notebook, notebook cells are the fundamental building blocks that allow you to organize, create, and execute various elements within the notebook. They are like blocks that can contain code or text, and you can run them to see the results immediately. This makes Jupyter Notebooks interactive and easy to use."
   ]
  },
  {
   "cell_type": "markdown",
   "id": "47dabcae",
   "metadata": {},
   "source": [
    "# Types of cells"
   ]
  },
  {
   "cell_type": "markdown",
   "id": "7a7b04fe",
   "metadata": {},
   "source": [
    "There are three main types of cells in a Jupyter Notebook: - Code Cells - Markdown Cells - Raw Cells"
   ]
  },
  {
   "cell_type": "markdown",
   "id": "0186635c",
   "metadata": {},
   "source": [
    "# Code Cells"
   ]
  },
  {
   "cell_type": "markdown",
   "id": "b6990ee8",
   "metadata": {},
   "source": [
    "These cells contain executable code written in the programming language of the kernel you are using (e.g., Python, Julia, R). When you run a code cell, the output is displayed right below the cell."
   ]
  },
  {
   "cell_type": "markdown",
   "id": "e86ea318",
   "metadata": {},
   "source": []
  },
  {
   "cell_type": "markdown",
   "id": "a7d6eb18",
   "metadata": {},
   "source": [
    "![Image](./notebook_images/image_0.png)"
   ]
  },
  {
   "cell_type": "markdown",
   "id": "99ad13c9",
   "metadata": {},
   "source": [
    "# Markdown Cells"
   ]
  },
  {
   "cell_type": "markdown",
   "id": "08ebc62a",
   "metadata": {},
   "source": [
    "These cells contain text formatted in Markdown, a lightweight markup language that allows you to create formatted text using simple syntax. You can use Markdown to create headings, lists, links, images, and more."
   ]
  },
  {
   "cell_type": "markdown",
   "id": "119abfb6",
   "metadata": {},
   "source": []
  },
  {
   "cell_type": "markdown",
   "id": "233e2429",
   "metadata": {},
   "source": [
    "![Image](./notebook_images/image_0.png)"
   ]
  },
  {
   "cell_type": "markdown",
   "id": "354e0cdc",
   "metadata": {},
   "source": [
    "# Raw Cells"
   ]
  },
  {
   "cell_type": "markdown",
   "id": "3c8e29a8",
   "metadata": {},
   "source": [
    "Raw cells contain text that is not executed or rendered by the notebook. It is used when you want to keep text “as-is,” without any formatting or syntax highlighting. This can be useful for storing comments or instructions in the notebook that are not intended to be rendered or executed."
   ]
  },
  {
   "cell_type": "markdown",
   "id": "8e066679",
   "metadata": {},
   "source": []
  },
  {
   "cell_type": "markdown",
   "id": "de538ac6",
   "metadata": {},
   "source": [
    "![Image](./notebook_images/image_0.png)"
   ]
  },
  {
   "cell_type": "markdown",
   "id": "d1cea20b",
   "metadata": {},
   "source": [
    "# Creating, Editing, and Deleting Cells"
   ]
  },
  {
   "cell_type": "markdown",
   "id": "d7b87a31",
   "metadata": {},
   "source": [
    "# Creating Cells:"
   ]
  },
  {
   "cell_type": "markdown",
   "id": "9b4d48bb",
   "metadata": {},
   "source": [
    "By default, new cells are created as code cells, but you can change the cell type using the dropdown menu in the toolbar or the ‘Cell Type’ option in the ‘Cell’ menu."
   ]
  },
  {
   "cell_type": "markdown",
   "id": "e7069c7a",
   "metadata": {},
   "source": [
    "# Editing Cells:"
   ]
  },
  {
   "cell_type": "markdown",
   "id": "6bd4349f",
   "metadata": {},
   "source": [
    "# Deleting Cells:"
   ]
  },
  {
   "cell_type": "markdown",
   "id": "63ee97fb",
   "metadata": {},
   "source": [
    "To delete a cell, first click on the cell you want to remove. This will select the cell."
   ]
  },
  {
   "cell_type": "markdown",
   "id": "f3c8413b",
   "metadata": {},
   "source": [
    "There are several ways to delete the selected cell:"
   ]
  },
  {
   "cell_type": "markdown",
   "id": "0ccccee6",
   "metadata": {},
   "source": [
    "Click the ‘Cut Cells’ button in the toolbar."
   ]
  },
  {
   "cell_type": "markdown",
   "id": "6448bbd3",
   "metadata": {},
   "source": [
    "Go to the ‘Edit’ menu and click ‘Delete Cells’."
   ]
  },
  {
   "cell_type": "markdown",
   "id": "70cfb756",
   "metadata": {},
   "source": [
    "In command mode, use the keyboard shortcuts ‘dd’ or ‘X’."
   ]
  },
  {
   "cell_type": "markdown",
   "id": "a0289fe0",
   "metadata": {},
   "source": [
    "By creating, editing, and deleting cells, you can flexibly structure your Jupyter Notebook to accommodate different types of content and support your projects’ requirements."
   ]
  },
  {
   "cell_type": "markdown",
   "id": "3a94bf84",
   "metadata": {},
   "source": [
    "# Running and interrupting cells"
   ]
  },
  {
   "cell_type": "markdown",
   "id": "46e8cd30",
   "metadata": {},
   "source": [
    "# Running Cells:"
   ]
  },
  {
   "cell_type": "markdown",
   "id": "2b88445b",
   "metadata": {},
   "source": [
    "Executing or rendering the content of a cell in Jupyter Notebook is called “running” a cell. Depending on the cell type, running the cell will either execute the code (code cell) or render the text with proper formatting (Markdown cell)."
   ]
  },
  {
   "cell_type": "markdown",
   "id": "aa6606ee",
   "metadata": {},
   "source": [
    "To run a cell, you have several options:"
   ]
  },
  {
   "cell_type": "markdown",
   "id": "f911f853",
   "metadata": {},
   "source": [
    "Click the ‘Run’ button in the toolbar located at the top of the notebook. This will run the current cell and automatically select the next cell."
   ]
  },
  {
   "cell_type": "markdown",
   "id": "0c122b5e",
   "metadata": {},
   "source": [
    "Use keyboard shortcuts to run the cell:"
   ]
  },
  {
   "cell_type": "markdown",
   "id": "ddeec025",
   "metadata": {},
   "source": [
    "‘Shift+Enter’: Runs the current cell and selects the next cell."
   ]
  },
  {
   "cell_type": "markdown",
   "id": "4b70f3a0",
   "metadata": {},
   "source": [
    "‘Ctrl+Enter’: Runs the current cell and remains in the same cell."
   ]
  },
  {
   "cell_type": "markdown",
   "id": "93d2a122",
   "metadata": {},
   "source": [
    "‘Alt+Enter’: Runs the current cell and inserts a new cell below."
   ]
  },
  {
   "cell_type": "markdown",
   "id": "7720e669",
   "metadata": {},
   "source": [
    "# Interrupting Cells:"
   ]
  },
  {
   "cell_type": "markdown",
   "id": "7d090368",
   "metadata": {},
   "source": [
    "Sometimes, you may need to stop a cell from running, especially when running code that takes a long time to execute or when you realize that the code is incorrect or incomplete."
   ]
  },
  {
   "cell_type": "markdown",
   "id": "dafc3ef0",
   "metadata": {},
   "source": [
    "To interrupt the execution of a cell, you can:"
   ]
  },
  {
   "cell_type": "markdown",
   "id": "6cfd829c",
   "metadata": {},
   "source": [
    "Click the ‘Interrupt Kernel’ button (a square button) in the toolbar."
   ]
  },
  {
   "cell_type": "markdown",
   "id": "81cead5d",
   "metadata": {},
   "source": [
    "Go to the ‘Kernel’ menu in the top menu bar and click ‘Interrupt’."
   ]
  },
  {
   "cell_type": "markdown",
   "id": "8a2a719c",
   "metadata": {},
   "source": [
    "Interrupting a cell stops the current execution, allowing you to fix issues, change the code, or simply stop a long-running process before it completes. You can then re-run the cell or continue running other cells as needed."
   ]
  },
  {
   "cell_type": "markdown",
   "id": "d919e83c",
   "metadata": {},
   "source": [
    "# Cell output and inline display"
   ]
  },
  {
   "cell_type": "markdown",
   "id": "b1c9f07e",
   "metadata": {},
   "source": [
    "# Cell Output:"
   ]
  },
  {
   "cell_type": "markdown",
   "id": "2a11e5d9",
   "metadata": {},
   "source": [
    "When you run a code cell in Jupyter Notebook, the output generated by the code (e.g., printed text, calculated values, or error messages) will appear directly below the cell. This immediate display of output allows you to see the results of your code execution without having to switch between different windows or applications. The output is automatically saved with the notebook, so you can review it later or share it with others."
   ]
  },
  {
   "cell_type": "markdown",
   "id": "2abdfbe6",
   "metadata": {},
   "source": [
    "# Inline Display:"
   ]
  },
  {
   "cell_type": "markdown",
   "id": "3b415f27",
   "metadata": {},
   "source": [
    "In addition to text output, Jupyter Notebook supports inline display of rich media elements such as images, charts, plots, and even interactive widgets. This feature allows you to present visualizations and other multimedia content directly within the notebook, enhancing the readability and interpretability of your analysis. Most popular data visualization libraries, like Matplotlib, Seaborn, or Plotly, have built-in support for rendering charts and plots inline in Jupyter Notebook."
   ]
  },
  {
   "cell_type": "markdown",
   "id": "92239128",
   "metadata": {},
   "source": [
    "For example, to create a simple plot using Matplotlib and display it inline, you can use the following code in a code cell:"
   ]
  },
  {
   "cell_type": "code",
   "execution_count": null,
   "id": "c9b9fd49",
   "metadata": {},
   "outputs": [],
   "source": [
    "import numpy as np\n",
    "import matplotlib.pyplot as plt\n",
    "\n",
    "x = np.linspace(0, 10, 100)\n",
    "y = np.sin(x)\n",
    "\n",
    "plt.plot(x, y)\n",
    "plt.xlabel('x')\n",
    "plt.ylabel('sin(x)')\n",
    "plt.title('Sine Wave')\n",
    "plt.show()"
   ]
  },
  {
   "cell_type": "markdown",
   "id": "dbef1c37",
   "metadata": {},
   "source": [
    "After running the cell, the sine wave plot will be displayed directly below the code cell, making it easy to analyze the result and share the visualization with others."
   ]
  }
 ],
 "metadata": {},
 "nbformat": 4,
 "nbformat_minor": 5
}
