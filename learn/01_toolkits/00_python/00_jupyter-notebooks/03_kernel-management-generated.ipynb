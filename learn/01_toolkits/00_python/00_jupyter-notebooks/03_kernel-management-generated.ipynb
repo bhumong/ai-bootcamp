{
 "cells": [
  {
   "cell_type": "markdown",
   "id": "7ad5eac9",
   "metadata": {},
   "source": [
    "source: [link](https://ai-bootcamp.ruangguru.com/learn/01_toolkits/00_python/00_jupyter-notebooks/03_kernel-management.html)"
   ]
  },
  {
   "cell_type": "markdown",
   "id": "efbf473f",
   "metadata": {},
   "source": [
    "# Kernel Management"
   ]
  },
  {
   "cell_type": "markdown",
   "id": "d3434044",
   "metadata": {},
   "source": [
    "# What is a kernel?"
   ]
  },
  {
   "cell_type": "markdown",
   "id": "737a2407",
   "metadata": {},
   "source": [
    "A ‘kernel’ in Jupyter parlance is the computational engine that executes the code written in the notebook. The kernel also handles tasks such as computations for widgets and tab completion."
   ]
  },
  {
   "cell_type": "markdown",
   "id": "a4c08e48",
   "metadata": {},
   "source": [
    "When you open a notebook, the associated kernel is automatically launched for you. The kernel’s language corresponds to the language of the notebook. For instance, if you’re working in a Python notebook, the kernel is responsible for executing Python code."
   ]
  },
  {
   "cell_type": "markdown",
   "id": "1b722670",
   "metadata": {},
   "source": [
    "# Selecting and switching kernels"
   ]
  },
  {
   "cell_type": "markdown",
   "id": "d87fa608",
   "metadata": {},
   "source": [
    "The ability to select and switch kernels is an integral part of kernel management. This functionality allows users to run different code cells within the same notebook using different programming languages."
   ]
  },
  {
   "cell_type": "markdown",
   "id": "a06e952e",
   "metadata": {},
   "source": [
    "# How to Select a Kernel"
   ]
  },
  {
   "cell_type": "markdown",
   "id": "ad96a31e",
   "metadata": {},
   "source": [
    "When you create a new notebook, you need to specify which kernel to use. The kernel you choose is dependent on the programming language you intend to use. Here are the steps:"
   ]
  },
  {
   "cell_type": "markdown",
   "id": "89514c13",
   "metadata": {},
   "source": [
    "# How to Switch Kernels"
   ]
  },
  {
   "cell_type": "markdown",
   "id": "a1a3ed0b",
   "metadata": {},
   "source": [
    "If you want to change the kernel in an existing notebook, follow these steps:"
   ]
  },
  {
   "cell_type": "markdown",
   "id": "f27964ca",
   "metadata": {},
   "source": [
    "# Example"
   ]
  },
  {
   "cell_type": "markdown",
   "id": "8d9fd649",
   "metadata": {},
   "source": [
    "Let’s say you’re working on a Python notebook but you want to switch to an R kernel to leverage some of the exclusive statistical packages that R provides."
   ]
  },
  {
   "cell_type": "markdown",
   "id": "d180bbc7",
   "metadata": {},
   "source": [
    "Here’s how you’d do it:"
   ]
  },
  {
   "cell_type": "markdown",
   "id": "21a9b5ee",
   "metadata": {},
   "source": [
    "Please note that the Python and R variables are not shared. That means an R kernel is oblivious to what happens in a Python kernel and vice versa."
   ]
  },
  {
   "cell_type": "markdown",
   "id": "254c6dbe",
   "metadata": {},
   "source": [
    "# Important"
   ]
  },
  {
   "cell_type": "markdown",
   "id": "79ef5c90",
   "metadata": {},
   "source": [
    "Keep in mind that for you to switch to a given kernel, you must have that kernel installed in your machine. If it’s not installed, Jupyter will not list it as an option in the Change kernel dropdown menu."
   ]
  },
  {
   "cell_type": "markdown",
   "id": "e5b70fa6",
   "metadata": {},
   "source": [
    "# Restarting, interrupting, and shutting down kernels"
   ]
  },
  {
   "cell_type": "markdown",
   "id": "63db9d48",
   "metadata": {},
   "source": [
    "# Restarting kernels"
   ]
  },
  {
   "cell_type": "markdown",
   "id": "42644163",
   "metadata": {},
   "source": [
    "There are situations where you might want to restart the kernel— for example, if your code is stuck in an infinite loop or if the kernel is consuming too much memory."
   ]
  },
  {
   "cell_type": "markdown",
   "id": "30d63b7d",
   "metadata": {},
   "source": [
    "Another example, if you’re debugging your code and you want to ensure that your results are not due to variables from previous cells, you might choose to restart your kernel to clear all loaded variables."
   ]
  },
  {
   "cell_type": "markdown",
   "id": "f9ad53ae",
   "metadata": {},
   "source": [
    "To restart the kernel:"
   ]
  },
  {
   "cell_type": "markdown",
   "id": "4352b180",
   "metadata": {},
   "source": [
    "This will restart the kernel, meaning the kernel process is shut down and started anew. This is a pretty “hard” operation, but sometimes necessary. Any variables or functions defined will be lost."
   ]
  },
  {
   "cell_type": "markdown",
   "id": "4cb920e3",
   "metadata": {},
   "source": [
    "# Interrupting Kernels"
   ]
  },
  {
   "cell_type": "markdown",
   "id": "d7b381bb",
   "metadata": {},
   "source": [
    "If you want to stop the execution of a code cell, you can interrupt the kernel. This is useful if a computation is taking longer than expected and you want to stop it to modify and rerun the code."
   ]
  },
  {
   "cell_type": "markdown",
   "id": "11aa9fac",
   "metadata": {},
   "source": [
    "Let’s say you’re running a machine learning model with a large dataset, but you realize you’ve made a mistake in your code that will affect the output. Rather than waiting for the lengthy process to finish, you can interrupt the kernel, fix your code, and rerun the cell."
   ]
  },
  {
   "cell_type": "markdown",
   "id": "c40e08dd",
   "metadata": {},
   "source": [
    "To interrupt the kernel:"
   ]
  },
  {
   "cell_type": "markdown",
   "id": "794fdc5c",
   "metadata": {},
   "source": [
    "This sends a signal to the kernel to stop execution as soon as possible. If the kernel is currently executing a system call or similar that cannot be interrupted, you’ll have to wait for it to return."
   ]
  },
  {
   "cell_type": "markdown",
   "id": "02c58834",
   "metadata": {},
   "source": [
    "# Shutting Down Kernels"
   ]
  },
  {
   "cell_type": "markdown",
   "id": "b3315d2b",
   "metadata": {},
   "source": [
    "Shutting down a kernel removes it from the kernel menu and frees up the resources it was using. If you’re done with your analysis and no longer need the notebook, you can shut down the kernel to free up system resources."
   ]
  },
  {
   "cell_type": "markdown",
   "id": "9d35d89f",
   "metadata": {},
   "source": [
    "To shut down the kernel:"
   ]
  },
  {
   "cell_type": "markdown",
   "id": "85c1cd57",
   "metadata": {},
   "source": [
    "Note: Restarting, interrupting, and shutting down kernels are actions that cannot be undone. Hence, use these options wisely and save your work frequently."
   ]
  },
  {
   "cell_type": "markdown",
   "id": "81a9a828",
   "metadata": {},
   "source": [
    "# Clearing cell outputs"
   ]
  },
  {
   "cell_type": "markdown",
   "id": "1086f4db",
   "metadata": {},
   "source": [
    "Let’s say you have a notebook with a lot of cells that generate long outputs, like computation results or visualizations. Over time, the notebook can get quite cluttered, making it difficult to navigate and causing it to load slowly."
   ]
  },
  {
   "cell_type": "markdown",
   "id": "a9618917",
   "metadata": {},
   "source": [
    "For instance, you might be working with a cell that generates a large DataFrame output:"
   ]
  },
  {
   "cell_type": "code",
   "execution_count": null,
   "id": "1934a823",
   "metadata": {},
   "outputs": [],
   "source": [
    "import pandas as pd\n",
    "import numpy as np\n",
    "\n",
    "# generate a DataFrame with 100 rows and 50 columns\n",
    "df = pd.DataFrame(data=np.random.randint(0, 100, (100, 50)))\n",
    "\n",
    "df"
   ]
  },
  {
   "cell_type": "markdown",
   "id": "7e21bf55",
   "metadata": {},
   "source": [
    "The output of this cell would be a large DataFrame that takes up a lot of space in your notebook."
   ]
  },
  {
   "cell_type": "markdown",
   "id": "9abf560f",
   "metadata": {},
   "source": [
    "To make your notebook more manageable, you can clear the output of this cell. After running the cell, you would go to the Cell menu, select Current Outputs, and then Clear. The large DataFrame output will now be removed from your view, making your notebook cleaner and more concise."
   ]
  }
 ],
 "metadata": {},
 "nbformat": 4,
 "nbformat_minor": 5
}
