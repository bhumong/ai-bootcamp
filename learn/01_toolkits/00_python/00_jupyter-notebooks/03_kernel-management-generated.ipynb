{
 "cells": [
  {
   "cell_type": "markdown",
   "id": "00e4d78b",
   "metadata": {},
   "source": [
    "source: [link](https://ai-bootcamp.ruangguru.com/learn/01_toolkits/00_python/00_jupyter-notebooks/03_kernel-management.html)"
   ]
  },
  {
   "cell_type": "markdown",
   "id": "2ea85153",
   "metadata": {},
   "source": [
    "# Kernel Management"
   ]
  },
  {
   "cell_type": "markdown",
   "id": "f25bc352",
   "metadata": {},
   "source": [
    "# What is a kernel?"
   ]
  },
  {
   "cell_type": "markdown",
   "id": "2fa702e2",
   "metadata": {},
   "source": [
    "A ‘kernel’ in Jupyter parlance is the computational engine that executes the code written in the notebook. The kernel also handles tasks such as computations for widgets and tab completion."
   ]
  },
  {
   "cell_type": "markdown",
   "id": "406798d3",
   "metadata": {},
   "source": [
    "When you open a notebook, the associated kernel is automatically launched for you. The kernel’s language corresponds to the language of the notebook. For instance, if you’re working in a Python notebook, the kernel is responsible for executing Python code."
   ]
  },
  {
   "cell_type": "markdown",
   "id": "2b122968",
   "metadata": {},
   "source": [
    "# Selecting and switching kernels"
   ]
  },
  {
   "cell_type": "markdown",
   "id": "afee005b",
   "metadata": {},
   "source": [
    "The ability to select and switch kernels is an integral part of kernel management. This functionality allows users to run different code cells within the same notebook using different programming languages."
   ]
  },
  {
   "cell_type": "markdown",
   "id": "f9015695",
   "metadata": {},
   "source": [
    "# How to Select a Kernel"
   ]
  },
  {
   "cell_type": "markdown",
   "id": "aab4b563",
   "metadata": {},
   "source": [
    "When you create a new notebook, you need to specify which kernel to use. The kernel you choose is dependent on the programming language you intend to use. Here are the steps:"
   ]
  },
  {
   "cell_type": "markdown",
   "id": "466e94a2",
   "metadata": {},
   "source": [
    "# How to Switch Kernels"
   ]
  },
  {
   "cell_type": "markdown",
   "id": "5e6bd805",
   "metadata": {},
   "source": [
    "If you want to change the kernel in an existing notebook, follow these steps:"
   ]
  },
  {
   "cell_type": "markdown",
   "id": "c7486bf2",
   "metadata": {},
   "source": [
    "# Example"
   ]
  },
  {
   "cell_type": "markdown",
   "id": "255cd595",
   "metadata": {},
   "source": [
    "Let’s say you’re working on a Python notebook but you want to switch to an R kernel to leverage some of the exclusive statistical packages that R provides."
   ]
  },
  {
   "cell_type": "markdown",
   "id": "f8c274f6",
   "metadata": {},
   "source": [
    "Here’s how you’d do it:"
   ]
  },
  {
   "cell_type": "markdown",
   "id": "95f41c67",
   "metadata": {},
   "source": [
    "Please note that the Python and R variables are not shared. That means an R kernel is oblivious to what happens in a Python kernel and vice versa."
   ]
  },
  {
   "cell_type": "markdown",
   "id": "0ba7cb85",
   "metadata": {},
   "source": [
    "# Important"
   ]
  },
  {
   "cell_type": "markdown",
   "id": "0974d1bb",
   "metadata": {},
   "source": [
    "Keep in mind that for you to switch to a given kernel, you must have that kernel installed in your machine. If it’s not installed, Jupyter will not list it as an option in the Change kernel dropdown menu."
   ]
  },
  {
   "cell_type": "markdown",
   "id": "c61a05a9",
   "metadata": {},
   "source": [
    "# Restarting, interrupting, and shutting down kernels"
   ]
  },
  {
   "cell_type": "markdown",
   "id": "6e58d127",
   "metadata": {},
   "source": [
    "# Restarting kernels"
   ]
  },
  {
   "cell_type": "markdown",
   "id": "eb3bfb7a",
   "metadata": {},
   "source": [
    "There are situations where you might want to restart the kernel— for example, if your code is stuck in an infinite loop or if the kernel is consuming too much memory."
   ]
  },
  {
   "cell_type": "markdown",
   "id": "f8fcbd46",
   "metadata": {},
   "source": [
    "Another example, if you’re debugging your code and you want to ensure that your results are not due to variables from previous cells, you might choose to restart your kernel to clear all loaded variables."
   ]
  },
  {
   "cell_type": "markdown",
   "id": "d3441be5",
   "metadata": {},
   "source": [
    "To restart the kernel:"
   ]
  },
  {
   "cell_type": "markdown",
   "id": "6846a446",
   "metadata": {},
   "source": [
    "This will restart the kernel, meaning the kernel process is shut down and started anew. This is a pretty “hard” operation, but sometimes necessary. Any variables or functions defined will be lost."
   ]
  },
  {
   "cell_type": "markdown",
   "id": "8a0ad981",
   "metadata": {},
   "source": [
    "# Interrupting Kernels"
   ]
  },
  {
   "cell_type": "markdown",
   "id": "66f69abe",
   "metadata": {},
   "source": [
    "If you want to stop the execution of a code cell, you can interrupt the kernel. This is useful if a computation is taking longer than expected and you want to stop it to modify and rerun the code."
   ]
  },
  {
   "cell_type": "markdown",
   "id": "6dc8e9cd",
   "metadata": {},
   "source": [
    "Let’s say you’re running a machine learning model with a large dataset, but you realize you’ve made a mistake in your code that will affect the output. Rather than waiting for the lengthy process to finish, you can interrupt the kernel, fix your code, and rerun the cell."
   ]
  },
  {
   "cell_type": "markdown",
   "id": "b33a87b2",
   "metadata": {},
   "source": [
    "To interrupt the kernel:"
   ]
  },
  {
   "cell_type": "markdown",
   "id": "37c1bef8",
   "metadata": {},
   "source": [
    "This sends a signal to the kernel to stop execution as soon as possible. If the kernel is currently executing a system call or similar that cannot be interrupted, you’ll have to wait for it to return."
   ]
  },
  {
   "cell_type": "markdown",
   "id": "8fe7ce87",
   "metadata": {},
   "source": [
    "# Shutting Down Kernels"
   ]
  },
  {
   "cell_type": "markdown",
   "id": "05a5dc6c",
   "metadata": {},
   "source": [
    "Shutting down a kernel removes it from the kernel menu and frees up the resources it was using. If you’re done with your analysis and no longer need the notebook, you can shut down the kernel to free up system resources."
   ]
  },
  {
   "cell_type": "markdown",
   "id": "5ca53bf2",
   "metadata": {},
   "source": [
    "To shut down the kernel:"
   ]
  },
  {
   "cell_type": "markdown",
   "id": "3c8be35a",
   "metadata": {},
   "source": [
    "Note: Restarting, interrupting, and shutting down kernels are actions that cannot be undone. Hence, use these options wisely and save your work frequently."
   ]
  },
  {
   "cell_type": "markdown",
   "id": "b4bd3ae0",
   "metadata": {},
   "source": [
    "# Clearing cell outputs"
   ]
  },
  {
   "cell_type": "markdown",
   "id": "e4217807",
   "metadata": {},
   "source": [
    "Let’s say you have a notebook with a lot of cells that generate long outputs, like computation results or visualizations. Over time, the notebook can get quite cluttered, making it difficult to navigate and causing it to load slowly."
   ]
  },
  {
   "cell_type": "markdown",
   "id": "4241f073",
   "metadata": {},
   "source": [
    "For instance, you might be working with a cell that generates a large DataFrame output:"
   ]
  },
  {
   "cell_type": "code",
   "execution_count": null,
   "id": "ce560aa9",
   "metadata": {},
   "outputs": [],
   "source": [
    "import pandas as pd\n",
    "import numpy as np\n",
    "\n",
    "# generate a DataFrame with 100 rows and 50 columns\n",
    "df = pd.DataFrame(data=np.random.randint(0, 100, (100, 50)))\n",
    "\n",
    "df"
   ]
  },
  {
   "cell_type": "markdown",
   "id": "5eb382a1",
   "metadata": {},
   "source": [
    "The output of this cell would be a large DataFrame that takes up a lot of space in your notebook."
   ]
  },
  {
   "cell_type": "markdown",
   "id": "6f3cc8d6",
   "metadata": {},
   "source": [
    "To make your notebook more manageable, you can clear the output of this cell. After running the cell, you would go to the Cell menu, select Current Outputs, and then Clear. The large DataFrame output will now be removed from your view, making your notebook cleaner and more concise."
   ]
  }
 ],
 "metadata": {},
 "nbformat": 4,
 "nbformat_minor": 5
}
