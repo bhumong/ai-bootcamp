{
 "cells": [
  {
   "cell_type": "markdown",
   "id": "fee3a4a8",
   "metadata": {},
   "source": [
    "source: [link](https://ai-bootcamp.ruangguru.com/learn/01_toolkits/00_python/00_jupyter-notebooks/03_kernel-management.html)"
   ]
  },
  {
   "cell_type": "markdown",
   "id": "4d8b1994",
   "metadata": {},
   "source": [
    "# Kernel Management"
   ]
  },
  {
   "cell_type": "markdown",
   "id": "9ece86cb",
   "metadata": {},
   "source": [
    "# What is a kernel?"
   ]
  },
  {
   "cell_type": "markdown",
   "id": "e42f9a15",
   "metadata": {},
   "source": [
    "A ‘kernel’ in Jupyter parlance is the computational engine that executes the code written in the notebook. The kernel also handles tasks such as computations for widgets and tab completion."
   ]
  },
  {
   "cell_type": "markdown",
   "id": "45e6bc6c",
   "metadata": {},
   "source": [
    "When you open a notebook, the associated kernel is automatically launched for you. The kernel’s language corresponds to the language of the notebook. For instance, if you’re working in a Python notebook, the kernel is responsible for executing Python code."
   ]
  },
  {
   "cell_type": "markdown",
   "id": "ca97873e",
   "metadata": {},
   "source": [
    "# Selecting and switching kernels"
   ]
  },
  {
   "cell_type": "markdown",
   "id": "6fe072ed",
   "metadata": {},
   "source": [
    "The ability to select and switch kernels is an integral part of kernel management. This functionality allows users to run different code cells within the same notebook using different programming languages."
   ]
  },
  {
   "cell_type": "markdown",
   "id": "b5a29108",
   "metadata": {},
   "source": [
    "# How to Select a Kernel"
   ]
  },
  {
   "cell_type": "markdown",
   "id": "740012e6",
   "metadata": {},
   "source": [
    "When you create a new notebook, you need to specify which kernel to use. The kernel you choose is dependent on the programming language you intend to use. Here are the steps:"
   ]
  },
  {
   "cell_type": "markdown",
   "id": "77d4a2ce",
   "metadata": {},
   "source": [
    "# How to Switch Kernels"
   ]
  },
  {
   "cell_type": "markdown",
   "id": "a531ea41",
   "metadata": {},
   "source": [
    "If you want to change the kernel in an existing notebook, follow these steps:"
   ]
  },
  {
   "cell_type": "markdown",
   "id": "54d0144b",
   "metadata": {},
   "source": [
    "# Example"
   ]
  },
  {
   "cell_type": "markdown",
   "id": "15f95455",
   "metadata": {},
   "source": [
    "Let’s say you’re working on a Python notebook but you want to switch to an R kernel to leverage some of the exclusive statistical packages that R provides."
   ]
  },
  {
   "cell_type": "markdown",
   "id": "792fd720",
   "metadata": {},
   "source": [
    "Here’s how you’d do it:"
   ]
  },
  {
   "cell_type": "markdown",
   "id": "71660c75",
   "metadata": {},
   "source": [
    "Please note that the Python and R variables are not shared. That means an R kernel is oblivious to what happens in a Python kernel and vice versa."
   ]
  },
  {
   "cell_type": "markdown",
   "id": "63d1aad4",
   "metadata": {},
   "source": [
    "# Important"
   ]
  },
  {
   "cell_type": "markdown",
   "id": "82708711",
   "metadata": {},
   "source": [
    "Keep in mind that for you to switch to a given kernel, you must have that kernel installed in your machine. If it’s not installed, Jupyter will not list it as an option in the Change kernel dropdown menu."
   ]
  },
  {
   "cell_type": "markdown",
   "id": "d78f89ff",
   "metadata": {},
   "source": [
    "# Restarting, interrupting, and shutting down kernels"
   ]
  },
  {
   "cell_type": "markdown",
   "id": "51c55081",
   "metadata": {},
   "source": [
    "# Restarting kernels"
   ]
  },
  {
   "cell_type": "markdown",
   "id": "521a5c41",
   "metadata": {},
   "source": [
    "There are situations where you might want to restart the kernel— for example, if your code is stuck in an infinite loop or if the kernel is consuming too much memory."
   ]
  },
  {
   "cell_type": "markdown",
   "id": "470a4dc1",
   "metadata": {},
   "source": [
    "Another example, if you’re debugging your code and you want to ensure that your results are not due to variables from previous cells, you might choose to restart your kernel to clear all loaded variables."
   ]
  },
  {
   "cell_type": "markdown",
   "id": "0a38dd13",
   "metadata": {},
   "source": [
    "To restart the kernel:"
   ]
  },
  {
   "cell_type": "markdown",
   "id": "383a8e3b",
   "metadata": {},
   "source": [
    "This will restart the kernel, meaning the kernel process is shut down and started anew. This is a pretty “hard” operation, but sometimes necessary. Any variables or functions defined will be lost."
   ]
  },
  {
   "cell_type": "markdown",
   "id": "58d94877",
   "metadata": {},
   "source": [
    "# Interrupting Kernels"
   ]
  },
  {
   "cell_type": "markdown",
   "id": "cc775bf4",
   "metadata": {},
   "source": [
    "If you want to stop the execution of a code cell, you can interrupt the kernel. This is useful if a computation is taking longer than expected and you want to stop it to modify and rerun the code."
   ]
  },
  {
   "cell_type": "markdown",
   "id": "8cf64df0",
   "metadata": {},
   "source": [
    "Let’s say you’re running a machine learning model with a large dataset, but you realize you’ve made a mistake in your code that will affect the output. Rather than waiting for the lengthy process to finish, you can interrupt the kernel, fix your code, and rerun the cell."
   ]
  },
  {
   "cell_type": "markdown",
   "id": "6a3354b4",
   "metadata": {},
   "source": [
    "To interrupt the kernel:"
   ]
  },
  {
   "cell_type": "markdown",
   "id": "7d219225",
   "metadata": {},
   "source": [
    "This sends a signal to the kernel to stop execution as soon as possible. If the kernel is currently executing a system call or similar that cannot be interrupted, you’ll have to wait for it to return."
   ]
  },
  {
   "cell_type": "markdown",
   "id": "7c3bf424",
   "metadata": {},
   "source": [
    "# Shutting Down Kernels"
   ]
  },
  {
   "cell_type": "markdown",
   "id": "5088a176",
   "metadata": {},
   "source": [
    "Shutting down a kernel removes it from the kernel menu and frees up the resources it was using. If you’re done with your analysis and no longer need the notebook, you can shut down the kernel to free up system resources."
   ]
  },
  {
   "cell_type": "markdown",
   "id": "79de37db",
   "metadata": {},
   "source": [
    "To shut down the kernel:"
   ]
  },
  {
   "cell_type": "markdown",
   "id": "9110fec5",
   "metadata": {},
   "source": [
    "Note: Restarting, interrupting, and shutting down kernels are actions that cannot be undone. Hence, use these options wisely and save your work frequently."
   ]
  },
  {
   "cell_type": "markdown",
   "id": "6c3f1488",
   "metadata": {},
   "source": [
    "# Clearing cell outputs"
   ]
  },
  {
   "cell_type": "markdown",
   "id": "b646b9fc",
   "metadata": {},
   "source": [
    "Let’s say you have a notebook with a lot of cells that generate long outputs, like computation results or visualizations. Over time, the notebook can get quite cluttered, making it difficult to navigate and causing it to load slowly."
   ]
  },
  {
   "cell_type": "markdown",
   "id": "bcff1d8c",
   "metadata": {},
   "source": [
    "For instance, you might be working with a cell that generates a large DataFrame output:"
   ]
  },
  {
   "cell_type": "code",
   "execution_count": null,
   "id": "d2a7ce3b",
   "metadata": {},
   "outputs": [],
   "source": [
    "import pandas as pd\n",
    "import numpy as np\n",
    "\n",
    "# generate a DataFrame with 100 rows and 50 columns\n",
    "df = pd.DataFrame(data=np.random.randint(0, 100, (100, 50)))\n",
    "\n",
    "df"
   ]
  },
  {
   "cell_type": "markdown",
   "id": "afb2540b",
   "metadata": {},
   "source": [
    "The output of this cell would be a large DataFrame that takes up a lot of space in your notebook."
   ]
  },
  {
   "cell_type": "markdown",
   "id": "df1ccbd4",
   "metadata": {},
   "source": [
    "To make your notebook more manageable, you can clear the output of this cell. After running the cell, you would go to the Cell menu, select Current Outputs, and then Clear. The large DataFrame output will now be removed from your view, making your notebook cleaner and more concise."
   ]
  }
 ],
 "metadata": {},
 "nbformat": 4,
 "nbformat_minor": 5
}
