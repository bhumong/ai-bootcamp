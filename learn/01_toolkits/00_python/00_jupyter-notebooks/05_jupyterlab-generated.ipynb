{
 "cells": [
  {
   "cell_type": "markdown",
   "id": "c70235bf",
   "metadata": {},
   "source": [
    "source: [link](https://ai-bootcamp.ruangguru.com/learn/01_toolkits/00_python/00_jupyter-notebooks/05_jupyterlab.html)"
   ]
  },
  {
   "cell_type": "markdown",
   "id": "2678a1ea",
   "metadata": {},
   "source": [
    "# JupyterLab"
   ]
  },
  {
   "cell_type": "markdown",
   "id": "cf2978a7",
   "metadata": {},
   "source": [
    "JupyterLab is a web-based interactive development environment for Jupyter notebooks, code, and data. It is an extensible environment for interactive and reproducible computing, based on the Jupyter Notebook and Architecture."
   ]
  },
  {
   "cell_type": "markdown",
   "id": "62f6c126",
   "metadata": {},
   "source": [
    "Here are some of its core features:"
   ]
  },
  {
   "cell_type": "markdown",
   "id": "61a34a9b",
   "metadata": {},
   "source": [
    "Code Console: Allows more interactive execution of code. You can execute code in a more flexible and interactive manner than in the notebook."
   ]
  },
  {
   "cell_type": "markdown",
   "id": "07c0ee22",
   "metadata": {},
   "source": [
    "Terminal: JupyterLab’s terminals provide full support for system shells (bash, tsch, etc.) on Mac/Linux and PowerShell on Windows."
   ]
  },
  {
   "cell_type": "markdown",
   "id": "06c4c43e",
   "metadata": {},
   "source": [
    "Text Editor: JupyterLab provides a text editor that is integrated with Jupyter’s existing kernels to provide syntax highlighting, automatic indention, and text wrapping."
   ]
  },
  {
   "cell_type": "markdown",
   "id": "a0cf501d",
   "metadata": {},
   "source": [
    "File Browser: You can browse directories, open files into a new tab, or drag and drop them into the notebook, making navigation easier."
   ]
  },
  {
   "cell_type": "markdown",
   "id": "a93a3ba5",
   "metadata": {},
   "source": [
    "Notebook: This allows you to work with Jupyter notebooks."
   ]
  },
  {
   "cell_type": "markdown",
   "id": "25773ad0",
   "metadata": {},
   "source": [
    "Multiple Views: JupyterLab allows you to work with multiple notebooks, datasets or terminals simultaneously in flexible layouts."
   ]
  },
  {
   "cell_type": "markdown",
   "id": "f0359831",
   "metadata": {},
   "source": [
    "# Differences between JupyterLab and Jupyter Notebook"
   ]
  },
  {
   "cell_type": "markdown",
   "id": "f3e4a849",
   "metadata": {},
   "source": [
    "User Interface: JupyterLab has a more flexible and interactive user interface. It allows you to arrange your work area with notebooks, text files, terminals, and notebook outputs. In contrast, Jupyter Notebook has a simpler user interface."
   ]
  },
  {
   "cell_type": "markdown",
   "id": "80be3775",
   "metadata": {},
   "source": [
    "Extensions: JupyterLab supports a large number of extensions and these extensions can customize or enhance any part of JupyterLab. They can provide new file viewers and editors, themes, or renderers for rich outputs in notebooks. Jupyter Notebook also supports extensions but they aren’t as powerful and flexible as in JupyterLab."
   ]
  },
  {
   "cell_type": "markdown",
   "id": "aa9dac32",
   "metadata": {},
   "source": [
    "File Explorer: JupyterLab has an integrated file explorer to open multiple notebooks, whereas Jupyter Notebook does not."
   ]
  },
  {
   "cell_type": "markdown",
   "id": "1add4706",
   "metadata": {},
   "source": [
    "Code Consoles: JupyterLab provides a rich code console which is not available in Jupyter Notebook."
   ]
  },
  {
   "cell_type": "markdown",
   "id": "6df710b6",
   "metadata": {},
   "source": [
    "Multiple Kernels: Both support multiple kernels but managing them is easier in JupyterLab."
   ]
  },
  {
   "cell_type": "markdown",
   "id": "afc779f6",
   "metadata": {},
   "source": [
    "Compatibility: JupyterLab can run Jupyter Notebook’s .ipynb files and can also support the same kernels (Python, R, Julia etc.). However, Jupyter Notebook cannot run JupyterLab’s additional features."
   ]
  },
  {
   "cell_type": "markdown",
   "id": "08ba669a",
   "metadata": {},
   "source": [
    "# Summary"
   ]
  },
  {
   "cell_type": "markdown",
   "id": "7330bcb4",
   "metadata": {},
   "source": [
    "JupyterLab is an evolution of Jupyter Notebook. It provides a lot of flexible and powerful functionalities, that make it an enhanced version of Jupyter Notebook. However, the choice between them depends on the requirements of the user."
   ]
  }
 ],
 "metadata": {},
 "nbformat": 4,
 "nbformat_minor": 5
}
