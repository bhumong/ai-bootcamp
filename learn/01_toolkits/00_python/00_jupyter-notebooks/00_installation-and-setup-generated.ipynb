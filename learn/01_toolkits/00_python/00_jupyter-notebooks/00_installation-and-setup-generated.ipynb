{
 "cells": [
  {
   "cell_type": "markdown",
   "id": "742c3643",
   "metadata": {},
   "source": [
    "source: [https://ai-bootcamp.ruangguru.com/learn/01_toolkits/00_python/00_jupyter-notebooks/00_installation-and-setup.html](https://ai-bootcamp.ruangguru.com/learn/01_toolkits/00_python/00_jupyter-notebooks/00_installation-and-setup.html)"
   ]
  },
  {
   "cell_type": "markdown",
   "id": "5f88dbfe",
   "metadata": {},
   "source": [
    "# Jupyter Notebooks"
   ]
  },
  {
   "cell_type": "markdown",
   "id": "31714558",
   "metadata": {},
   "source": [
    "# What is Jupyter Notebook"
   ]
  },
  {
   "cell_type": "markdown",
   "id": "3e44a2bf",
   "metadata": {},
   "source": [
    "Jupyter Notebook is an open-source, interactive, web-based computing environment that allows you to create and share documents containing live code, equations, visualizations, and narrative text."
   ]
  },
  {
   "cell_type": "markdown",
   "id": "f73a4054",
   "metadata": {},
   "source": [
    "Jupyter Notebook is widely used among data scientists, researchers, and students for data analysis, visualization, and machine learning purposes."
   ]
  },
  {
   "cell_type": "markdown",
   "id": "ad009fd6",
   "metadata": {},
   "source": [
    "# Installation and Setup"
   ]
  },
  {
   "cell_type": "markdown",
   "id": "191b993e",
   "metadata": {},
   "source": [
    "Jupyter Notebook requires Python and pip to be installed on your system. Here’s a step-by-step guide to set up Jupyter Notebook on your computer:"
   ]
  },
  {
   "cell_type": "markdown",
   "id": "c7709aab",
   "metadata": {},
   "source": [
    "Step 1: Install Jupyter Notebook"
   ]
  },
  {
   "cell_type": "markdown",
   "id": "abc86666",
   "metadata": {},
   "source": [
    "Once you have Python and pip installed, you can install Jupyter Notebook using the following command:"
   ]
  },
  {
   "cell_type": "code",
   "execution_count": null,
   "id": "7b90237b",
   "metadata": {},
   "outputs": [],
   "source": [
    "pip install notebook"
   ]
  },
  {
   "cell_type": "markdown",
   "id": "a6c4de79",
   "metadata": {},
   "source": [
    "Step 2: Launch Jupyter Notebook"
   ]
  },
  {
   "cell_type": "markdown",
   "id": "b7c59145",
   "metadata": {},
   "source": [
    "To start the Jupyter Notebook server and open the interactive web interface, run the following command in your terminal or command prompt:"
   ]
  },
  {
   "cell_type": "code",
   "execution_count": null,
   "id": "6510279d",
   "metadata": {},
   "outputs": [],
   "source": [
    "jupyter notebook"
   ]
  },
  {
   "cell_type": "markdown",
   "id": "4e69b01b",
   "metadata": {},
   "source": [
    "This command will launch the Jupyter Notebook interface in your default web browser. You can now create a new Notebook, open an existing one, or explore the available examples."
   ]
  },
  {
   "cell_type": "markdown",
   "id": "380de63e",
   "metadata": {},
   "source": [
    "# Alternative: Install using Anaconda (Optional)"
   ]
  },
  {
   "cell_type": "markdown",
   "id": "176928e0",
   "metadata": {},
   "source": [
    "Anaconda is a popular cross-platform distribution that simplifies package management and installation of scientific software, including Jupyter Notebook. To install Anaconda and Jupyter Notebook, follow these steps:"
   ]
  },
  {
   "cell_type": "markdown",
   "id": "2083d7ac",
   "metadata": {},
   "source": [
    "- Download Anaconda fromanaconda.com.\n",
    "- Run the installer and follow the on-screen instructions.\n",
    "- Once installed, open the Anaconda Navigator application.\n",
    "- Click the “Launch” button under Jupyter Notebook."
   ]
  },
  {
   "cell_type": "markdown",
   "id": "11152b82",
   "metadata": {},
   "source": [
    "Jupyter Notebook server interface will open in your default web browser."
   ]
  }
 ],
 "metadata": {},
 "nbformat": 4,
 "nbformat_minor": 5
}
