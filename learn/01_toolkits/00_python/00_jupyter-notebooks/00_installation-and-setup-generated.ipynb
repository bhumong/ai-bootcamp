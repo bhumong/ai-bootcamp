{
 "cells": [
  {
   "cell_type": "markdown",
   "id": "af5c0572",
   "metadata": {},
   "source": [
    "# Jupyter Notebooks"
   ]
  },
  {
   "cell_type": "markdown",
   "id": "91eb2bb8",
   "metadata": {},
   "source": [
    "# What is Jupyter Notebook"
   ]
  },
  {
   "cell_type": "markdown",
   "id": "0b2d561f",
   "metadata": {},
   "source": [
    "Jupyter Notebook is an open-source, interactive, web-based computing environment that allows you to create and share documents containing live code, equations, visualizations, and narrative text."
   ]
  },
  {
   "cell_type": "markdown",
   "id": "5c2c9870",
   "metadata": {},
   "source": [
    "Jupyter Notebook is widely used among data scientists, researchers, and students for data analysis, visualization, and machine learning purposes."
   ]
  },
  {
   "cell_type": "markdown",
   "id": "2ccb1553",
   "metadata": {},
   "source": [
    "# Installation and Setup"
   ]
  },
  {
   "cell_type": "markdown",
   "id": "8701cab6",
   "metadata": {},
   "source": [
    "Jupyter Notebook requires Python and pip to be installed on your system. Here’s a step-by-step guide to set up Jupyter Notebook on your computer:"
   ]
  },
  {
   "cell_type": "markdown",
   "id": "9b028fa9",
   "metadata": {},
   "source": [
    "Step 1: Install Jupyter Notebook"
   ]
  },
  {
   "cell_type": "markdown",
   "id": "a15e8d1d",
   "metadata": {},
   "source": [
    "Once you have Python and pip installed, you can install Jupyter Notebook using the following command:"
   ]
  },
  {
   "cell_type": "code",
   "execution_count": null,
   "id": "3964cb5b",
   "metadata": {},
   "outputs": [],
   "source": [
    "pip install notebook"
   ]
  },
  {
   "cell_type": "markdown",
   "id": "e69c9d6e",
   "metadata": {},
   "source": [
    "Step 2: Launch Jupyter Notebook"
   ]
  },
  {
   "cell_type": "markdown",
   "id": "86419199",
   "metadata": {},
   "source": [
    "To start the Jupyter Notebook server and open the interactive web interface, run the following command in your terminal or command prompt:"
   ]
  },
  {
   "cell_type": "code",
   "execution_count": null,
   "id": "808abe7b",
   "metadata": {},
   "outputs": [],
   "source": [
    "jupyter notebook"
   ]
  },
  {
   "cell_type": "markdown",
   "id": "d5bd370b",
   "metadata": {},
   "source": [
    "This command will launch the Jupyter Notebook interface in your default web browser. You can now create a new Notebook, open an existing one, or explore the available examples."
   ]
  },
  {
   "cell_type": "markdown",
   "id": "0aa6917f",
   "metadata": {},
   "source": [
    "# Alternative: Install using Anaconda (Optional)"
   ]
  },
  {
   "cell_type": "markdown",
   "id": "e1664954",
   "metadata": {},
   "source": [
    "Anaconda is a popular cross-platform distribution that simplifies package management and installation of scientific software, including Jupyter Notebook. To install Anaconda and Jupyter Notebook, follow these steps:"
   ]
  },
  {
   "cell_type": "markdown",
   "id": "75c47ce1",
   "metadata": {},
   "source": [
    "Jupyter Notebook server interface will open in your default web browser."
   ]
  }
 ],
 "metadata": {},
 "nbformat": 4,
 "nbformat_minor": 5
}
