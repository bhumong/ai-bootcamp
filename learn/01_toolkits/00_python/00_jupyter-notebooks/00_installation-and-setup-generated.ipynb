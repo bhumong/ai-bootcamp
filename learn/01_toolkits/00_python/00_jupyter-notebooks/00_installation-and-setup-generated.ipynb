{
 "cells": [
  {
   "cell_type": "markdown",
   "id": "74019333",
   "metadata": {},
   "source": [
    "source: [link](https://ai-bootcamp.ruangguru.com/learn/01_toolkits/00_python/00_jupyter-notebooks/00_installation-and-setup.html)"
   ]
  },
  {
   "cell_type": "markdown",
   "id": "ffbf152e",
   "metadata": {},
   "source": [
    "# Jupyter Notebooks"
   ]
  },
  {
   "cell_type": "markdown",
   "id": "7e6c61da",
   "metadata": {},
   "source": [
    "# What is Jupyter Notebook"
   ]
  },
  {
   "cell_type": "markdown",
   "id": "55e96be1",
   "metadata": {},
   "source": [
    "Jupyter Notebook is an open-source, interactive, web-based computing environment that allows you to create and share documents containing live code, equations, visualizations, and narrative text."
   ]
  },
  {
   "cell_type": "markdown",
   "id": "c8479f84",
   "metadata": {},
   "source": [
    "Jupyter Notebook is widely used among data scientists, researchers, and students for data analysis, visualization, and machine learning purposes."
   ]
  },
  {
   "cell_type": "markdown",
   "id": "48bd7020",
   "metadata": {},
   "source": [
    "# Installation and Setup"
   ]
  },
  {
   "cell_type": "markdown",
   "id": "e5520978",
   "metadata": {},
   "source": [
    "Jupyter Notebook requires Python and pip to be installed on your system. Here’s a step-by-step guide to set up Jupyter Notebook on your computer:"
   ]
  },
  {
   "cell_type": "markdown",
   "id": "c1fb809c",
   "metadata": {},
   "source": [
    "Step 1: Install Jupyter Notebook"
   ]
  },
  {
   "cell_type": "markdown",
   "id": "0ef29e48",
   "metadata": {},
   "source": [
    "Once you have Python and pip installed, you can install Jupyter Notebook using the following command:"
   ]
  },
  {
   "cell_type": "code",
   "execution_count": null,
   "id": "1e8b508b",
   "metadata": {},
   "outputs": [],
   "source": [
    "pip install notebook"
   ]
  },
  {
   "cell_type": "markdown",
   "id": "0aeccfef",
   "metadata": {},
   "source": [
    "Step 2: Launch Jupyter Notebook"
   ]
  },
  {
   "cell_type": "markdown",
   "id": "12c6b1e6",
   "metadata": {},
   "source": [
    "To start the Jupyter Notebook server and open the interactive web interface, run the following command in your terminal or command prompt:"
   ]
  },
  {
   "cell_type": "code",
   "execution_count": null,
   "id": "79252453",
   "metadata": {},
   "outputs": [],
   "source": [
    "jupyter notebook"
   ]
  },
  {
   "cell_type": "markdown",
   "id": "63b11b4a",
   "metadata": {},
   "source": [
    "This command will launch the Jupyter Notebook interface in your default web browser. You can now create a new Notebook, open an existing one, or explore the available examples."
   ]
  },
  {
   "cell_type": "markdown",
   "id": "7c54ed14",
   "metadata": {},
   "source": [
    "# Alternative: Install using Anaconda (Optional)"
   ]
  },
  {
   "cell_type": "markdown",
   "id": "a004e3f0",
   "metadata": {},
   "source": [
    "Anaconda is a popular cross-platform distribution that simplifies package management and installation of scientific software, including Jupyter Notebook. To install Anaconda and Jupyter Notebook, follow these steps:"
   ]
  },
  {
   "cell_type": "markdown",
   "id": "49fa57ba",
   "metadata": {},
   "source": [
    "Jupyter Notebook server interface will open in your default web browser."
   ]
  }
 ],
 "metadata": {},
 "nbformat": 4,
 "nbformat_minor": 5
}
