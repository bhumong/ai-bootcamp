{
 "cells": [
  {
   "cell_type": "markdown",
   "id": "32b62d16",
   "metadata": {},
   "source": [
    "source: [link](https://ai-bootcamp.ruangguru.com/learn/01_toolkits/00_python/00_jupyter-notebooks/00_installation-and-setup.html)"
   ]
  },
  {
   "cell_type": "markdown",
   "id": "4a4d24d4",
   "metadata": {},
   "source": [
    "# Jupyter Notebooks"
   ]
  },
  {
   "cell_type": "markdown",
   "id": "980d9445",
   "metadata": {},
   "source": [
    "# What is Jupyter Notebook"
   ]
  },
  {
   "cell_type": "markdown",
   "id": "6e7ac60d",
   "metadata": {},
   "source": [
    "Jupyter Notebook is an open-source, interactive, web-based computing environment that allows you to create and share documents containing live code, equations, visualizations, and narrative text."
   ]
  },
  {
   "cell_type": "markdown",
   "id": "b899bf63",
   "metadata": {},
   "source": [
    "Jupyter Notebook is widely used among data scientists, researchers, and students for data analysis, visualization, and machine learning purposes."
   ]
  },
  {
   "cell_type": "markdown",
   "id": "d146bcd9",
   "metadata": {},
   "source": [
    "# Installation and Setup"
   ]
  },
  {
   "cell_type": "markdown",
   "id": "c5d7b2a7",
   "metadata": {},
   "source": [
    "Jupyter Notebook requires Python and pip to be installed on your system. Here’s a step-by-step guide to set up Jupyter Notebook on your computer:"
   ]
  },
  {
   "cell_type": "markdown",
   "id": "5d801ef4",
   "metadata": {},
   "source": [
    "Step 1: Install Jupyter Notebook"
   ]
  },
  {
   "cell_type": "markdown",
   "id": "c6224929",
   "metadata": {},
   "source": [
    "Once you have Python and pip installed, you can install Jupyter Notebook using the following command:"
   ]
  },
  {
   "cell_type": "code",
   "execution_count": null,
   "id": "60f0a590",
   "metadata": {},
   "outputs": [],
   "source": [
    "pip install notebook"
   ]
  },
  {
   "cell_type": "markdown",
   "id": "4440eb21",
   "metadata": {},
   "source": [
    "Step 2: Launch Jupyter Notebook"
   ]
  },
  {
   "cell_type": "markdown",
   "id": "726f1208",
   "metadata": {},
   "source": [
    "To start the Jupyter Notebook server and open the interactive web interface, run the following command in your terminal or command prompt:"
   ]
  },
  {
   "cell_type": "code",
   "execution_count": null,
   "id": "6b47f6e1",
   "metadata": {},
   "outputs": [],
   "source": [
    "jupyter notebook"
   ]
  },
  {
   "cell_type": "markdown",
   "id": "040adf45",
   "metadata": {},
   "source": [
    "This command will launch the Jupyter Notebook interface in your default web browser. You can now create a new Notebook, open an existing one, or explore the available examples."
   ]
  },
  {
   "cell_type": "markdown",
   "id": "5694dd68",
   "metadata": {},
   "source": [
    "# Alternative: Install using Anaconda (Optional)"
   ]
  },
  {
   "cell_type": "markdown",
   "id": "9a28fd95",
   "metadata": {},
   "source": [
    "Anaconda is a popular cross-platform distribution that simplifies package management and installation of scientific software, including Jupyter Notebook. To install Anaconda and Jupyter Notebook, follow these steps:"
   ]
  },
  {
   "cell_type": "markdown",
   "id": "95a64206",
   "metadata": {},
   "source": [
    "- Download Anaconda fromanaconda.com.\n",
    "- Run the installer and follow the on-screen instructions.\n",
    "- Once installed, open the Anaconda Navigator application.\n",
    "- Click the “Launch” button under Jupyter Notebook."
   ]
  },
  {
   "cell_type": "markdown",
   "id": "ad4f509c",
   "metadata": {},
   "source": [
    "Jupyter Notebook server interface will open in your default web browser."
   ]
  }
 ],
 "metadata": {},
 "nbformat": 4,
 "nbformat_minor": 5
}
