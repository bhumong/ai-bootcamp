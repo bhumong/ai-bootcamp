{
 "cells": [
  {
   "cell_type": "markdown",
   "id": "9589d23d",
   "metadata": {},
   "source": [
    "# Jupyter Notebooks"
   ]
  },
  {
   "cell_type": "markdown",
   "id": "60e5c4e6",
   "metadata": {},
   "source": [
    "# What is Jupyter Notebook"
   ]
  },
  {
   "cell_type": "markdown",
   "id": "408c1a10",
   "metadata": {},
   "source": [
    "Jupyter Notebook is an open-source, interactive, web-based computing environment that allows you to create and share documents containing live code, equations, visualizations, and narrative text."
   ]
  },
  {
   "cell_type": "markdown",
   "id": "632a214f",
   "metadata": {},
   "source": [
    "Jupyter Notebook is widely used among data scientists, researchers, and students for data analysis, visualization, and machine learning purposes."
   ]
  },
  {
   "cell_type": "markdown",
   "id": "ec3fcf60",
   "metadata": {},
   "source": [
    "# Installation and Setup"
   ]
  },
  {
   "cell_type": "markdown",
   "id": "ef879fee",
   "metadata": {},
   "source": [
    "Jupyter Notebook requires Python and pip to be installed on your system. Here’s a step-by-step guide to set up Jupyter Notebook on your computer:"
   ]
  },
  {
   "cell_type": "markdown",
   "id": "74f00c42",
   "metadata": {},
   "source": [
    "Step 1: Install Jupyter Notebook"
   ]
  },
  {
   "cell_type": "markdown",
   "id": "1360b6ef",
   "metadata": {},
   "source": [
    "Once you have Python and pip installed, you can install Jupyter Notebook using the following command:"
   ]
  },
  {
   "cell_type": "code",
   "execution_count": null,
   "id": "6d26c311",
   "metadata": {},
   "outputs": [],
   "source": [
    "pip install notebook"
   ]
  },
  {
   "cell_type": "markdown",
   "id": "d25371cb",
   "metadata": {},
   "source": [
    "Step 2: Launch Jupyter Notebook"
   ]
  },
  {
   "cell_type": "markdown",
   "id": "5b509aaa",
   "metadata": {},
   "source": [
    "To start the Jupyter Notebook server and open the interactive web interface, run the following command in your terminal or command prompt:"
   ]
  },
  {
   "cell_type": "code",
   "execution_count": null,
   "id": "cc9b76f1",
   "metadata": {},
   "outputs": [],
   "source": [
    "jupyter notebook"
   ]
  },
  {
   "cell_type": "markdown",
   "id": "a634e8b6",
   "metadata": {},
   "source": [
    "This command will launch the Jupyter Notebook interface in your default web browser. You can now create a new Notebook, open an existing one, or explore the available examples."
   ]
  },
  {
   "cell_type": "markdown",
   "id": "ef9d0cf0",
   "metadata": {},
   "source": [
    "# Alternative: Install using Anaconda (Optional)"
   ]
  },
  {
   "cell_type": "markdown",
   "id": "8d65d514",
   "metadata": {},
   "source": [
    "Anaconda is a popular cross-platform distribution that simplifies package management and installation of scientific software, including Jupyter Notebook. To install Anaconda and Jupyter Notebook, follow these steps:"
   ]
  },
  {
   "cell_type": "markdown",
   "id": "d1e7e309",
   "metadata": {},
   "source": [
    "Jupyter Notebook server interface will open in your default web browser."
   ]
  }
 ],
 "metadata": {},
 "nbformat": 4,
 "nbformat_minor": 5
}
