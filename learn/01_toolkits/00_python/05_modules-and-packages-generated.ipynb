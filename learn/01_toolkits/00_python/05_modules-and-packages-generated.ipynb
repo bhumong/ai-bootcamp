{
 "cells": [
  {
   "cell_type": "markdown",
   "id": "b7c7d8b8",
   "metadata": {},
   "source": [
    "# Modules and Packages"
   ]
  },
  {
   "cell_type": "markdown",
   "id": "9a9f5ad4",
   "metadata": {},
   "source": [
    "Modules and packages are useful for organization of Python code making our code clean, modular and easy to maintain."
   ]
  },
  {
   "cell_type": "markdown",
   "id": "9e0d4e99",
   "metadata": {},
   "source": [
    "# Python Modules"
   ]
  },
  {
   "cell_type": "markdown",
   "id": "197f615b",
   "metadata": {},
   "source": [
    "In Python, a module is a file containing Python code, which can include functions, classes, or variables. Modules help us to organize and reuse our code effectively."
   ]
  },
  {
   "cell_type": "markdown",
   "id": "f70b7725",
   "metadata": {},
   "source": [
    "Note: For the following examples, you need to create manually mod.py and the new file using your own code editor, simply copy and paste the code into two separate files."
   ]
  },
  {
   "cell_type": "markdown",
   "id": "0b2ae8f9",
   "metadata": {},
   "source": [
    "# Create a Module"
   ]
  },
  {
   "cell_type": "markdown",
   "id": "03180cbe",
   "metadata": {},
   "source": [
    "To create a module we simply write our Python code into a file and give it a name with .py extension, in this case we shall name it mod.py."
   ]
  },
  {
   "cell_type": "code",
   "execution_count": null,
   "id": "4c5f1201",
   "metadata": {},
   "outputs": [],
   "source": [
    "#mod.py\n",
    "s = \"I'm learning Python in order to become an AI engineer.\"\n",
    "a = [100, 200, 300]\n",
    "\n",
    "def foo(arg):\n",
    "    print(f'arg = {arg}')"
   ]
  },
  {
   "cell_type": "markdown",
   "id": "11874ae3",
   "metadata": {},
   "source": [
    "# Using Modules"
   ]
  },
  {
   "cell_type": "markdown",
   "id": "6def391e",
   "metadata": {},
   "source": [
    "To use a module, we use the keyword import. After importing a module, you can use its functions and classes by using the module name followed by a dot, and then the function or class you want to use."
   ]
  },
  {
   "cell_type": "code",
   "execution_count": null,
   "id": "ad46b592",
   "metadata": {},
   "outputs": [],
   "source": [
    "import mod\n",
    "print(mod.s)\n",
    "\n",
    "mod.a\n",
    "\n",
    "mod.foo(['quux', 'corge', 'grault'])"
   ]
  },
  {
   "cell_type": "markdown",
   "id": "af818f24",
   "metadata": {},
   "source": [
    "# Package Management with pip"
   ]
  },
  {
   "cell_type": "markdown",
   "id": "92173c15",
   "metadata": {},
   "source": [
    "pip is the package manager for Python, and it allows you to easily install, update, and remove packages. Packages are collections of modules that provide additional functionality. You can download packages from the Python Package Index (PyPI)."
   ]
  },
  {
   "cell_type": "markdown",
   "id": "45214175",
   "metadata": {},
   "source": [
    "# Basic commands"
   ]
  },
  {
   "cell_type": "markdown",
   "id": "ee29ee57",
   "metadata": {},
   "source": [
    "Here is a list of basic commands for package management with pip:"
   ]
  },
  {
   "cell_type": "markdown",
   "id": "0f925487",
   "metadata": {},
   "source": [
    "# Requirements file"
   ]
  },
  {
   "cell_type": "markdown",
   "id": "ec0d1b80",
   "metadata": {},
   "source": [
    "A requirements.txt file helps you to manage package dependencies for your project. It lists the package names with their version numbers that your project depends on."
   ]
  },
  {
   "cell_type": "markdown",
   "id": "2b7a9314",
   "metadata": {},
   "source": [
    "You can create this file manually or generate it using pip freeze > requirements.txt."
   ]
  },
  {
   "cell_type": "markdown",
   "id": "d1320e85",
   "metadata": {},
   "source": [
    "The file should list one package per line"
   ]
  },
  {
   "cell_type": "code",
   "execution_count": null,
   "id": "a4eccaf7",
   "metadata": {},
   "outputs": [],
   "source": [
    "numpy==1.21.2\n",
    "pandas==1.3.3\n",
    "matplotlib==3.4.3"
   ]
  },
  {
   "cell_type": "markdown",
   "id": "45ebab45",
   "metadata": {},
   "source": [
    "Use the pip install -r requirements.txt command to update the installed packages according to the new requirements.txt file."
   ]
  },
  {
   "cell_type": "markdown",
   "id": "1929affe",
   "metadata": {},
   "source": [
    "# Using Modules from Packages"
   ]
  },
  {
   "cell_type": "markdown",
   "id": "2d774df2",
   "metadata": {},
   "source": [
    "First, we need to install the packages using pip:"
   ]
  },
  {
   "cell_type": "code",
   "execution_count": null,
   "id": "b9bb8857",
   "metadata": {},
   "outputs": [],
   "source": [
    "pip install pandas numpy"
   ]
  },
  {
   "cell_type": "markdown",
   "id": "be4b72ab",
   "metadata": {},
   "source": [
    "Then, you can import a module in your Python script using the import statement."
   ]
  },
  {
   "cell_type": "code",
   "execution_count": null,
   "id": "6ebd0c87",
   "metadata": {},
   "outputs": [],
   "source": [
    "import pandas as pd\n",
    "import numpy as np\n",
    "\n",
    "# Create a simple dataset\n",
    "data = {\n",
    "    'Name': ['Alice', 'Bob', 'Charlie', 'David'],\n",
    "    'Age': [25, 30, 35, 40],\n",
    "    'Salary': [50000, 55000, 60000, 65000]\n",
    "}\n",
    "\n",
    "# Convert the dataset to a pandas DataFrame\n",
    "df = pd.DataFrame(data)\n",
    "\n",
    "# Calculate the mean of the Age column using numpy\n",
    "mean_age = np.mean(df['Age'])\n",
    "print(f'Mean Age: {mean_age}')\n",
    "\n",
    "# Calculate the sum of the Salary column using pandas\n",
    "total_salary = df['Salary'].sum()\n",
    "print(f'Total Salary: {total_salary}')\n",
    "\n",
    "# Add a new column named 'Salary_with_bonus' to the DataFrame\n",
    "df['Salary_with_bonus'] = df['Salary'] * 1.1\n",
    "print(df)"
   ]
  },
  {
   "cell_type": "markdown",
   "id": "335c153c",
   "metadata": {},
   "source": [
    "# Exercise Modules and Packages"
   ]
  },
  {
   "cell_type": "code",
   "execution_count": null,
   "id": "9c9d3fe6",
   "metadata": {},
   "outputs": [],
   "source": [
    "!pip install rggrader"
   ]
  },
  {
   "cell_type": "code",
   "execution_count": null,
   "id": "af86fbff",
   "metadata": {},
   "outputs": [],
   "source": [
    "# @title #### Student Identity\n",
    "student_id = \"your student id\" # @param {type:\"string\"}\n",
    "name = \"your name\" # @param {type:\"string\"}"
   ]
  },
  {
   "cell_type": "code",
   "execution_count": null,
   "id": "e8950ab3",
   "metadata": {},
   "outputs": [],
   "source": [
    "# @title #### 00. Install and Use a Package\n",
    "from rggrader import submit\n",
    "\n",
    "# TODO: \n",
    "# 1. Import the numpy package with alias \"np\". Note: you do not need to install numpy using pip in this context, assume it is already installed.\n",
    "# 2. Use numpy's function that can calculate the average of the list [1, 2, 3, 4, 5] and assign the output to a variable named 'average'.\n",
    "\n",
    "\n",
    "# Put your code here:\n",
    "average = 0\n",
    "\n",
    "\n",
    "# ---- End of your code ----\n",
    "\n",
    "# Do not modify the code below. It is used to submit your solution.\n",
    "assignment_id = \"05-modules-and-packages\"\n",
    "question_id = \"00_install_use_package\"\n",
    "submit(student_id, name, assignment_id, str(average), question_id)\n",
    "\n",
    "# Example:\n",
    "# Package: numpy with alias \"np\"\n",
    "# Function: Calculate the sum of the list [10, 20, 30, 40, 50]\n",
    "# Output: 150"
   ]
  },
  {
   "cell_type": "code",
   "execution_count": null,
   "id": "06fceeaa",
   "metadata": {},
   "outputs": [],
   "source": [
    "# @title #### 01. Standard Deviation of list elements\n",
    "from rggrader import submit\n",
    "\n",
    "# TODO: \n",
    "# 1. Import numpy package with alias \"np\".\n",
    "# 2. Use numpy's function that can calculate the standard deviation of elements in the list [1, 2, 3, 4, 5] and assign the output to a variable named 'std_dev'. \n",
    "\n",
    "\n",
    "# Put your code here:\n",
    "std_dev = 0\n",
    "\n",
    "\n",
    "# ---- End of your code ----\n",
    "\n",
    "# Do not modify the code below. It is used to submit your solution.\n",
    "assignment_id = \"05-modules-and-packages\"\n",
    "question_id = \"02_std_dev_of_list\"\n",
    "submit(student_id, name, assignment_id, str(std_dev), question_id)\n",
    "\n",
    "# Example:\n",
    "# Package: numpy with alias \"np\"\n",
    "# Function: Calculate the standard deviation of the list [10, 20, 30, 40, 50]\n",
    "# Output: 14.142136"
   ]
  },
  {
   "cell_type": "code",
   "execution_count": null,
   "id": "04b2532d",
   "metadata": {},
   "outputs": [],
   "source": [
    "# @title #### 02. Create a DataFrame using pandas\n",
    "from rggrader import submit\n",
    "\n",
    "# TODO: \n",
    "# 1. Import pandas package with alias \"pd\".\n",
    "# 2. Use pandas DataFrame constructor to create a DataFrame from the dictionary: {\"Name\": [\"Anna\", \"Bob\", \"Charlie\"], \"Age\": [21, 25, 30]}.\n",
    "#    Assign the output to a variable named 'df'.\n",
    "\n",
    "\n",
    "# Put your code here:\n",
    "df = None\n",
    "\n",
    "\n",
    "# ---- End of your code ----\n",
    "\n",
    "# Do not modify the code below. It is used to submit your solution.\n",
    "assignment_id = \"05-modules-and-packages\"\n",
    "question_id = \"03_create_dataframe\"\n",
    "submit(student_id, name, assignment_id, df.to_string(), question_id)\n",
    "\n",
    "# Example:\n",
    "# Package: pandas with alias \"pd\"\n",
    "# Function: Create a DataFrame from the dictionary: {\"Country\": [\"Finland\", \"Sweden\", \"Norway\"], \"Population\": [5.5, 10.4, 5.4]}\n",
    "# Output: \n",
    "#    Country  |  Population\n",
    "#    Finland  |  5.5\n",
    "#    Sweden   |  10.4\n",
    "#    Norway   |  5.4"
   ]
  }
 ],
 "metadata": {},
 "nbformat": 4,
 "nbformat_minor": 5
}
