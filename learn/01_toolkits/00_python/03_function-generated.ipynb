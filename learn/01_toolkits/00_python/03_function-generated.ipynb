{
 "cells": [
  {
   "cell_type": "markdown",
   "id": "25654936",
   "metadata": {},
   "source": [
    "source: [https://ai-bootcamp.ruangguru.com/learn/01_toolkits/00_python/03_function.html](https://ai-bootcamp.ruangguru.com/learn/01_toolkits/00_python/03_function.html)"
   ]
  },
  {
   "cell_type": "markdown",
   "id": "4624777e",
   "metadata": {},
   "source": [
    "# Function"
   ]
  },
  {
   "cell_type": "markdown",
   "id": "ca84c6e9",
   "metadata": {},
   "source": [
    "# Defining and calling functions"
   ]
  },
  {
   "cell_type": "markdown",
   "id": "fdddedd3",
   "metadata": {},
   "source": [
    "To define a function in Python, use the def statement, followed by a function name, parentheses (), and a colon :. The function body is indented, usually by 4 spaces. Functions can return values using the return statement. And to call a function, simply use the function’s name followed by parentheses ()."
   ]
  },
  {
   "cell_type": "code",
   "execution_count": null,
   "id": "e9662b5c",
   "metadata": {},
   "outputs": [],
   "source": [
    "def greet():\n",
    "    print(\"Hello, World!\")\n",
    "\n",
    "greet()"
   ]
  },
  {
   "cell_type": "markdown",
   "id": "c5c6edb3",
   "metadata": {},
   "source": [
    "# Arguments and Parameters"
   ]
  },
  {
   "cell_type": "markdown",
   "id": "91bc6da3",
   "metadata": {},
   "source": [
    "Functions can have input values, called arguments, which are passed to the function when it is called. Within the function, these input values are known as parameters. Parameters are defined within the parentheses () in the function definition, and arguments are passed to the function within the parentheses when calling the function."
   ]
  },
  {
   "cell_type": "code",
   "execution_count": null,
   "id": "3eec4fa0",
   "metadata": {},
   "outputs": [],
   "source": [
    "# Defining a function with a parameter 'name'\n",
    "def greet(name):\n",
    "    print(\"Hello,\", name)\n",
    "\n",
    "# Calling the function with an argument 'Alice'\n",
    "greet(\"Alice\")"
   ]
  },
  {
   "cell_type": "markdown",
   "id": "2587e402",
   "metadata": {},
   "source": [
    "# Lambda functions"
   ]
  },
  {
   "cell_type": "markdown",
   "id": "f7b8464a",
   "metadata": {},
   "source": [
    "Lambda functions, also known as anonymous functions, are small, single-expression functions in Python that you can define using the lambda keyword. They are useful for short, simple operations and can be defined in one line. Lambda functions are useful when working with functions like map(), filter() or sorted(), where a small function needs to be passed."
   ]
  },
  {
   "cell_type": "code",
   "execution_count": null,
   "id": "130efa42",
   "metadata": {},
   "outputs": [],
   "source": [
    "lambda arguments: expression"
   ]
  },
  {
   "cell_type": "markdown",
   "id": "76e4309c",
   "metadata": {},
   "source": [
    "Remember: Use lambda functions for simple operations, and regular def functions for more complex tasks to keep your code readable."
   ]
  },
  {
   "cell_type": "code",
   "execution_count": null,
   "id": "dcaa479a",
   "metadata": {},
   "outputs": [],
   "source": [
    "# A lambda function to add two numbers:\n",
    "add = lambda x, y: x + y\n",
    "result1 = add(5, 3)\n",
    "print(result1)\n",
    "\n",
    "# A lambda function to find the square of a number:\n",
    "square = lambda x: x**2\n",
    "result2 = square(4)\n",
    "print(result2)\n",
    "\n",
    "# sorting a list of strings by length:\n",
    "text_list = [\"apple\", \"banana\", \"cherry\", \"kiwi\"]\n",
    "sorted_list = sorted(text_list, key=lambda x: len(x))\n",
    "print(sorted_list)"
   ]
  },
  {
   "cell_type": "markdown",
   "id": "b1d8a74e",
   "metadata": {},
   "source": [
    "# Built-in functions"
   ]
  },
  {
   "cell_type": "markdown",
   "id": "23842ec3",
   "metadata": {},
   "source": [
    "Python comes with numerous built-in functions that are readily available for use. These are just a few examples of the built-in functions available in Python that are commonly used. There are many other built-in functions that can save time and simplify code when working with data. Refer to the official Python documentation for the complete list: Python Built-in Functions"
   ]
  },
  {
   "cell_type": "markdown",
   "id": "41f09101",
   "metadata": {},
   "source": [
    "# sorted()"
   ]
  },
  {
   "cell_type": "markdown",
   "id": "d32f4d24",
   "metadata": {},
   "source": [
    "sorted(iterable, *, key=None, reverse=False): Returns a new sorted list from the specified iterable."
   ]
  },
  {
   "cell_type": "code",
   "execution_count": null,
   "id": "4c0cf35c",
   "metadata": {},
   "outputs": [],
   "source": [
    "my_list = [3, 2, 5, 1, 4]\n",
    "sorted_list = sorted(my_list)\n",
    "print(sorted_list)"
   ]
  },
  {
   "cell_type": "markdown",
   "id": "ae433985",
   "metadata": {},
   "source": [
    "# map()"
   ]
  },
  {
   "cell_type": "markdown",
   "id": "d64e3404",
   "metadata": {},
   "source": [
    "map(function, iterable): Applies a given function to all items in the input iterable, such as lists or tuples, and returns an iterable of the results."
   ]
  },
  {
   "cell_type": "code",
   "execution_count": null,
   "id": "65def3ea",
   "metadata": {},
   "outputs": [],
   "source": [
    "numbers = [1, 2, 3, 4, 5]\n",
    "squares = list(map(lambda x: x**2, numbers))\n",
    "print(squares)"
   ]
  },
  {
   "cell_type": "markdown",
   "id": "cfbd295e",
   "metadata": {},
   "source": [
    "# filter()"
   ]
  },
  {
   "cell_type": "markdown",
   "id": "4280ec09",
   "metadata": {},
   "source": [
    "filter(function, iterable): Filters the elements from an iterable, passing only those elements for which the input function returns True."
   ]
  },
  {
   "cell_type": "code",
   "execution_count": null,
   "id": "90d6c2aa",
   "metadata": {},
   "outputs": [],
   "source": [
    "numbers = [1, 2, 3, 4, 5]\n",
    "even_numbers = list(filter(lambda x: x % 2 == 0, numbers))\n",
    "print(even_numbers)"
   ]
  },
  {
   "cell_type": "markdown",
   "id": "59417cb6",
   "metadata": {},
   "source": [
    "# zip()"
   ]
  },
  {
   "cell_type": "markdown",
   "id": "67c0db51",
   "metadata": {},
   "source": [
    "zip(*iterables): Combines multiple iterables, like lists or tuples, into a single iterable, pairing elements at the same index in each input iterable."
   ]
  },
  {
   "cell_type": "code",
   "execution_count": null,
   "id": "8fc95c0f",
   "metadata": {},
   "outputs": [],
   "source": [
    "names = [\"Alice\", \"Bob\", \"Carol\"]\n",
    "ages = [30, 25, 28]\n",
    "combined = list(zip(names, ages))\n",
    "print(combined)"
   ]
  },
  {
   "cell_type": "markdown",
   "id": "5b7a3d64",
   "metadata": {},
   "source": [
    "# Exercise Function"
   ]
  },
  {
   "cell_type": "code",
   "execution_count": null,
   "id": "63df2d44",
   "metadata": {},
   "outputs": [],
   "source": [
    "!pip install rggrader"
   ]
  },
  {
   "cell_type": "code",
   "execution_count": null,
   "id": "16856c8e",
   "metadata": {},
   "outputs": [],
   "source": [
    "# @title #### Student Identity\n",
    "student_id = \"TESTRK123\" # @param {type:\"string\"}\n",
    "name = \"Ricky\" # @param {type:\"string\"}"
   ]
  },
  {
   "cell_type": "code",
   "execution_count": null,
   "id": "51943a08",
   "metadata": {},
   "outputs": [],
   "source": [
    "# @title #### 00. Circle Area Function\n",
    "from rggrader import submit\n",
    "import math\n",
    "\n",
    "rad = 5\n",
    "\n",
    "# TODO: Define a function 'calculate_area' that takes a radius as a parameter and returns the area of a circle with that radius.\n",
    "def calculate_circle_area(radius):\n",
    "    # Put your code here:\n",
    "\n",
    "\n",
    "    # ---- End of your code ----\n",
    "    return 0\n",
    "\n",
    "print(f\"The area of the circle with radius {rad} is {calculate_circle_area(rad)}\")\n",
    "\n",
    "# Submit Method\n",
    "assignment_id = \"02-function\"\n",
    "question_id = \"00_circle-area-function\"\n",
    "submit(student_id, name, assignment_id, str(calculate_circle_area(rad)), question_id)\n",
    "\n",
    "# Expected Output for rad=5: 78.53981633974483"
   ]
  },
  {
   "cell_type": "code",
   "execution_count": null,
   "id": "fdb80610",
   "metadata": {},
   "outputs": [],
   "source": [
    "# @title #### 01. Fun with Lambda and Filter\n",
    "from rggrader import submit\n",
    "\n",
    "# Given a list of positive integers\n",
    "numbers = [1, 2, 3, 4, 5, 6, 7, 8, 9, 10]\n",
    "\n",
    "# TODO: Use a lambda function and the 'filter' function to keep numbers less than 6.\n",
    "# Result should be a list of numbers less than 6.\n",
    "filtered_numbers = None\n",
    "\n",
    "# Put your code here:\n",
    "\n",
    "\n",
    "# ---- End of your code ----\n",
    "\n",
    "print(f\"The filtered numbers are {filtered_numbers}\")\n",
    "\n",
    "# Submit Method\n",
    "assignment_id = \"02-functions\"\n",
    "question_id = \"01_fun-with-lambda-and-filter\"\n",
    "submit(student_id, name, assignment_id, str(filtered_numbers), question_id)\n",
    "\n",
    "# Expected Output: [1, 2, 3, 4, 5]"
   ]
  },
  {
   "cell_type": "code",
   "execution_count": null,
   "id": "4672c26e",
   "metadata": {},
   "outputs": [],
   "source": [
    "# @title #### 02. Adventures with Map and Filter\n",
    "from rggrader import submit\n",
    "\n",
    "# Given a list of positive integers\n",
    "numbers = [1, 2, 3, 4, 5, 6, 7, 8, 9, 10]\n",
    "\n",
    "# TODO: Use the 'map' function to double the numbers and the 'filter' function to keep numbers less than 15.\n",
    "# Hint: You can use 'map' and 'filter' together.\n",
    "modified_numbers = None\n",
    "\n",
    "# Put your code here:\n",
    "\n",
    "\n",
    "# ---- End of your code ----\n",
    "\n",
    "print(f\"The modified numbers are {modified_numbers}\")\n",
    "\n",
    "# Submit Method\n",
    "assignment_id = \"02-functions\"\n",
    "question_id = \"02_adventures-with-map-and-filter\"\n",
    "submit(student_id, name, assignment_id, str(modified_numbers), question_id)\n",
    "\n",
    "# Expected Output: [2, 4, 6, 8, 10, 12, 14]"
   ]
  }
 ],
 "metadata": {},
 "nbformat": 4,
 "nbformat_minor": 5
}
