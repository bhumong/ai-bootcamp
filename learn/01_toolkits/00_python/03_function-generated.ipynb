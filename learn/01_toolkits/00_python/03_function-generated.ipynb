{
 "cells": [
  {
   "cell_type": "markdown",
   "id": "259de902",
   "metadata": {},
   "source": [
    "source: [link](https://ai-bootcamp.ruangguru.com/learn/01_toolkits/00_python/03_function.html)"
   ]
  },
  {
   "cell_type": "markdown",
   "id": "1cb9075e",
   "metadata": {},
   "source": [
    "# Function"
   ]
  },
  {
   "cell_type": "markdown",
   "id": "52809ba9",
   "metadata": {},
   "source": [
    "# Defining and calling functions"
   ]
  },
  {
   "cell_type": "markdown",
   "id": "cb139866",
   "metadata": {},
   "source": [
    "To define a function in Python, use the def statement, followed by a function name, parentheses (), and a colon :. The function body is indented, usually by 4 spaces. Functions can return values using the return statement. And to call a function, simply use the function’s name followed by parentheses ()."
   ]
  },
  {
   "cell_type": "code",
   "execution_count": null,
   "id": "1cb9ed9b",
   "metadata": {},
   "outputs": [],
   "source": [
    "def greet():\n",
    "    print(\"Hello, World!\")\n",
    "\n",
    "greet()"
   ]
  },
  {
   "cell_type": "markdown",
   "id": "3a4c767a",
   "metadata": {},
   "source": [
    "# Arguments and Parameters"
   ]
  },
  {
   "cell_type": "markdown",
   "id": "d444932b",
   "metadata": {},
   "source": [
    "Functions can have input values, called arguments, which are passed to the function when it is called. Within the function, these input values are known as parameters. Parameters are defined within the parentheses () in the function definition, and arguments are passed to the function within the parentheses when calling the function."
   ]
  },
  {
   "cell_type": "code",
   "execution_count": null,
   "id": "28ded3e6",
   "metadata": {},
   "outputs": [],
   "source": [
    "# Defining a function with a parameter 'name'\n",
    "def greet(name):\n",
    "    print(\"Hello,\", name)\n",
    "\n",
    "# Calling the function with an argument 'Alice'\n",
    "greet(\"Alice\")"
   ]
  },
  {
   "cell_type": "markdown",
   "id": "d3f2e2b6",
   "metadata": {},
   "source": [
    "# Lambda functions"
   ]
  },
  {
   "cell_type": "markdown",
   "id": "786de475",
   "metadata": {},
   "source": [
    "Lambda functions, also known as anonymous functions, are small, single-expression functions in Python that you can define using the lambda keyword. They are useful for short, simple operations and can be defined in one line. Lambda functions are useful when working with functions like map(), filter() or sorted(), where a small function needs to be passed."
   ]
  },
  {
   "cell_type": "code",
   "execution_count": null,
   "id": "207fd7ef",
   "metadata": {},
   "outputs": [],
   "source": [
    "lambda arguments: expression"
   ]
  },
  {
   "cell_type": "markdown",
   "id": "13580444",
   "metadata": {},
   "source": [
    "Remember: Use lambda functions for simple operations, and regular def functions for more complex tasks to keep your code readable."
   ]
  },
  {
   "cell_type": "code",
   "execution_count": null,
   "id": "9dd1fe82",
   "metadata": {},
   "outputs": [],
   "source": [
    "# A lambda function to add two numbers:\n",
    "add = lambda x, y: x + y\n",
    "result1 = add(5, 3)\n",
    "print(result1)\n",
    "\n",
    "# A lambda function to find the square of a number:\n",
    "square = lambda x: x**2\n",
    "result2 = square(4)\n",
    "print(result2)\n",
    "\n",
    "# sorting a list of strings by length:\n",
    "text_list = [\"apple\", \"banana\", \"cherry\", \"kiwi\"]\n",
    "sorted_list = sorted(text_list, key=lambda x: len(x))\n",
    "print(sorted_list)"
   ]
  },
  {
   "cell_type": "markdown",
   "id": "a95c7dca",
   "metadata": {},
   "source": [
    "# Built-in functions"
   ]
  },
  {
   "cell_type": "markdown",
   "id": "f4f518dd",
   "metadata": {},
   "source": [
    "Python comes with numerous built-in functions that are readily available for use. These are just a few examples of the built-in functions available in Python that are commonly used. There are many other built-in functions that can save time and simplify code when working with data. Refer to the official Python documentation for the complete list: Python Built-in Functions"
   ]
  },
  {
   "cell_type": "markdown",
   "id": "fe629851",
   "metadata": {},
   "source": [
    "# sorted()"
   ]
  },
  {
   "cell_type": "markdown",
   "id": "b57e2abc",
   "metadata": {},
   "source": [
    "sorted(iterable, *, key=None, reverse=False): Returns a new sorted list from the specified iterable."
   ]
  },
  {
   "cell_type": "code",
   "execution_count": null,
   "id": "fe33ff0d",
   "metadata": {},
   "outputs": [],
   "source": [
    "my_list = [3, 2, 5, 1, 4]\n",
    "sorted_list = sorted(my_list)\n",
    "print(sorted_list)"
   ]
  },
  {
   "cell_type": "markdown",
   "id": "b825fc5e",
   "metadata": {},
   "source": [
    "# map()"
   ]
  },
  {
   "cell_type": "markdown",
   "id": "27cc79b9",
   "metadata": {},
   "source": [
    "map(function, iterable): Applies a given function to all items in the input iterable, such as lists or tuples, and returns an iterable of the results."
   ]
  },
  {
   "cell_type": "code",
   "execution_count": null,
   "id": "b699a087",
   "metadata": {},
   "outputs": [],
   "source": [
    "numbers = [1, 2, 3, 4, 5]\n",
    "squares = list(map(lambda x: x**2, numbers))\n",
    "print(squares)"
   ]
  },
  {
   "cell_type": "markdown",
   "id": "07c28d4e",
   "metadata": {},
   "source": [
    "# filter()"
   ]
  },
  {
   "cell_type": "markdown",
   "id": "a5d1db57",
   "metadata": {},
   "source": [
    "filter(function, iterable): Filters the elements from an iterable, passing only those elements for which the input function returns True."
   ]
  },
  {
   "cell_type": "code",
   "execution_count": null,
   "id": "a523c7aa",
   "metadata": {},
   "outputs": [],
   "source": [
    "numbers = [1, 2, 3, 4, 5]\n",
    "even_numbers = list(filter(lambda x: x % 2 == 0, numbers))\n",
    "print(even_numbers)"
   ]
  },
  {
   "cell_type": "markdown",
   "id": "68115aef",
   "metadata": {},
   "source": [
    "# zip()"
   ]
  },
  {
   "cell_type": "markdown",
   "id": "79776711",
   "metadata": {},
   "source": [
    "zip(*iterables): Combines multiple iterables, like lists or tuples, into a single iterable, pairing elements at the same index in each input iterable."
   ]
  },
  {
   "cell_type": "code",
   "execution_count": null,
   "id": "ac45e97c",
   "metadata": {},
   "outputs": [],
   "source": [
    "names = [\"Alice\", \"Bob\", \"Carol\"]\n",
    "ages = [30, 25, 28]\n",
    "combined = list(zip(names, ages))\n",
    "print(combined)"
   ]
  },
  {
   "cell_type": "markdown",
   "id": "404be0cd",
   "metadata": {},
   "source": [
    "# Exercise Function"
   ]
  },
  {
   "cell_type": "code",
   "execution_count": null,
   "id": "50cddd2a",
   "metadata": {},
   "outputs": [],
   "source": [
    "!pip install rggrader"
   ]
  },
  {
   "cell_type": "code",
   "execution_count": null,
   "id": "cdba2033",
   "metadata": {},
   "outputs": [],
   "source": [
    "# @title #### Student Identity\n",
    "student_id = \"TESTRK123\" # @param {type:\"string\"}\n",
    "name = \"Ricky\" # @param {type:\"string\"}"
   ]
  },
  {
   "cell_type": "code",
   "execution_count": null,
   "id": "f40228b3",
   "metadata": {},
   "outputs": [],
   "source": [
    "# @title #### 00. Circle Area Function\n",
    "from rggrader import submit\n",
    "import math\n",
    "\n",
    "rad = 5\n",
    "\n",
    "# TODO: Define a function 'calculate_area' that takes a radius as a parameter and returns the area of a circle with that radius.\n",
    "def calculate_circle_area(radius):\n",
    "    # Put your code here:\n",
    "\n",
    "\n",
    "    # ---- End of your code ----\n",
    "    return 0\n",
    "\n",
    "print(f\"The area of the circle with radius {rad} is {calculate_circle_area(rad)}\")\n",
    "\n",
    "# Submit Method\n",
    "assignment_id = \"02-function\"\n",
    "question_id = \"00_circle-area-function\"\n",
    "submit(student_id, name, assignment_id, str(calculate_circle_area(rad)), question_id)\n",
    "\n",
    "# Expected Output for rad=5: 78.53981633974483"
   ]
  },
  {
   "cell_type": "code",
   "execution_count": null,
   "id": "88cacab9",
   "metadata": {},
   "outputs": [],
   "source": [
    "# @title #### 01. Fun with Lambda and Filter\n",
    "from rggrader import submit\n",
    "\n",
    "# Given a list of positive integers\n",
    "numbers = [1, 2, 3, 4, 5, 6, 7, 8, 9, 10]\n",
    "\n",
    "# TODO: Use a lambda function and the 'filter' function to keep numbers less than 6.\n",
    "# Result should be a list of numbers less than 6.\n",
    "filtered_numbers = None\n",
    "\n",
    "# Put your code here:\n",
    "\n",
    "\n",
    "# ---- End of your code ----\n",
    "\n",
    "print(f\"The filtered numbers are {filtered_numbers}\")\n",
    "\n",
    "# Submit Method\n",
    "assignment_id = \"02-functions\"\n",
    "question_id = \"01_fun-with-lambda-and-filter\"\n",
    "submit(student_id, name, assignment_id, str(filtered_numbers), question_id)\n",
    "\n",
    "# Expected Output: [1, 2, 3, 4, 5]"
   ]
  },
  {
   "cell_type": "code",
   "execution_count": null,
   "id": "da46bb08",
   "metadata": {},
   "outputs": [],
   "source": [
    "# @title #### 02. Adventures with Map and Filter\n",
    "from rggrader import submit\n",
    "\n",
    "# Given a list of positive integers\n",
    "numbers = [1, 2, 3, 4, 5, 6, 7, 8, 9, 10]\n",
    "\n",
    "# TODO: Use the 'map' function to double the numbers and the 'filter' function to keep numbers less than 15.\n",
    "# Hint: You can use 'map' and 'filter' together.\n",
    "modified_numbers = None\n",
    "\n",
    "# Put your code here:\n",
    "\n",
    "\n",
    "# ---- End of your code ----\n",
    "\n",
    "print(f\"The modified numbers are {modified_numbers}\")\n",
    "\n",
    "# Submit Method\n",
    "assignment_id = \"02-functions\"\n",
    "question_id = \"02_adventures-with-map-and-filter\"\n",
    "submit(student_id, name, assignment_id, str(modified_numbers), question_id)\n",
    "\n",
    "# Expected Output: [2, 4, 6, 8, 10, 12, 14]"
   ]
  }
 ],
 "metadata": {},
 "nbformat": 4,
 "nbformat_minor": 5
}
