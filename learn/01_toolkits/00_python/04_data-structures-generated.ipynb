{
 "cells": [
  {
   "cell_type": "markdown",
   "id": "960a1fb5",
   "metadata": {},
   "source": [
    "source: [link](https://ai-bootcamp.ruangguru.com/learn/01_toolkits/00_python/04_data-structures.html)"
   ]
  },
  {
   "cell_type": "markdown",
   "id": "e8ab1d32",
   "metadata": {},
   "source": [
    "# Data Structures"
   ]
  },
  {
   "cell_type": "markdown",
   "id": "11cf97d5",
   "metadata": {},
   "source": [
    "Data structures are essential for organizing, managing, and storing data in a program. Python provides built-in data structures like Lists, Tuples, Sets, and Dictionaries that offer different functionalities and use cases. For more information on Python data structures and their methods, you can visit learnpython."
   ]
  },
  {
   "cell_type": "markdown",
   "id": "46a195dc",
   "metadata": {},
   "source": [
    "# List"
   ]
  },
  {
   "cell_type": "markdown",
   "id": "8ebc77ad",
   "metadata": {},
   "source": [
    "- Ordering: Lists are ordered collections.\n",
    "- Mutability: Lists are mutable; they can be modified after creation.\n",
    "- Duplicates: Lists allow duplicate elements.\n",
    "- Syntax: Lists are created using square brackets[]."
   ]
  },
  {
   "cell_type": "markdown",
   "id": "557fa70f",
   "metadata": {},
   "source": [
    "A common use case for lists is storing and accessing a collection of items in a specific order."
   ]
  },
  {
   "cell_type": "code",
   "execution_count": null,
   "id": "6c347c34",
   "metadata": {},
   "outputs": [],
   "source": [
    "# Creating a list of student names\n",
    "student_names = [\"Alice\", \"Bob\", \"Charlie\", \"David\", \"Charlie\"]\n",
    "\n",
    "# Adding a student to the list\n",
    "student_names.append(\"Eve\")\n",
    "\n",
    "# Removing a student from the list\n",
    "student_names.remove(\"Bob\")\n",
    "\n",
    "# Iterating through the list of student names\n",
    "for name in student_names:\n",
    "    print(name)"
   ]
  },
  {
   "cell_type": "markdown",
   "id": "43b02bf5",
   "metadata": {},
   "source": [
    "Operations on lists:"
   ]
  },
  {
   "cell_type": "markdown",
   "id": "77cb9e9d",
   "metadata": {},
   "source": [
    "- Accessing elements:student_names[1]returns\"Bob\".\n",
    "- Modifying elements:student_names[0] = \"Bryan\"changes the first element toBryan.\n",
    "- Adding elements:student_names.append(\"Eric\")adds\"Eric\"to the end of the list.\n",
    "- Removing elements:student_names.remove(\"Charlie\")removes the first occurrence of\"Charlie\"from the list."
   ]
  },
  {
   "cell_type": "markdown",
   "id": "4955b08e",
   "metadata": {},
   "source": [
    "# Tuples"
   ]
  },
  {
   "cell_type": "markdown",
   "id": "f75d01a0",
   "metadata": {},
   "source": [
    "- Ordering: Tuples are ordered collections.\n",
    "- Mutability: Tuples are immutable; they cannot be modified after creation.\n",
    "- Duplicates: Tuples allow duplicate elements.\n",
    "- Syntax: Tuples are created using round brackets()."
   ]
  },
  {
   "cell_type": "markdown",
   "id": "421205bb",
   "metadata": {},
   "source": [
    "Tuples are useful when you have a fixed collection of items that should not change throughout the program’s execution."
   ]
  },
  {
   "cell_type": "code",
   "execution_count": null,
   "id": "ed67ab7b",
   "metadata": {},
   "outputs": [],
   "source": [
    "# Defining coordinates as a tuple\n",
    "coordinates = (12.34, 56.78)\n",
    "\n",
    "# Accessing the longitude and latitude\n",
    "longitude, latitude = coordinates\n",
    "\n",
    "# Tuples can be used as keys in dictionaries\n",
    "capital_cities = {(\"United States\", \"California\"): \"Sacramento\", (\"France\", \"Île-de-France\"): \"Paris\"}\n",
    "\n",
    "# Accessing the capital city of California, United States\n",
    "capital = capital_cities[(\"United States\", \"California\")]\n",
    "print(capital)"
   ]
  },
  {
   "cell_type": "markdown",
   "id": "29e8037d",
   "metadata": {},
   "source": [
    "# Sets"
   ]
  },
  {
   "cell_type": "markdown",
   "id": "aea7c720",
   "metadata": {},
   "source": [
    "- Ordering: Sets are unordered collections.\n",
    "- Mutability: Sets are mutable; they can be modified after creation.\n",
    "- Duplicates: Sets do not allow duplicate elements.\n",
    "- Syntax: Sets are created using curly brackets{}."
   ]
  },
  {
   "cell_type": "markdown",
   "id": "9e1d187c",
   "metadata": {},
   "source": [
    "Sets are useful for efficiently storing unique values and performing set operations."
   ]
  },
  {
   "cell_type": "code",
   "execution_count": null,
   "id": "a22631ef",
   "metadata": {},
   "outputs": [],
   "source": [
    "# Creating sets of unique hobbies for two people\n",
    "hobbies_alice = {\"reading\", \"hiking\", \"cooking\"}\n",
    "hobbies_bob = {\"cooking\", \"painting\", \"cycling\"}\n",
    "\n",
    "# Finding common hobbies\n",
    "common_hobbies = hobbies_alice.intersection(hobbies_bob)\n",
    "print(\"Common hobbies:\", common_hobbies)\n",
    "\n",
    "# Finding the union of hobbies\n",
    "all_hobbies = hobbies_alice.union(hobbies_bob)\n",
    "print(\"All hobbies:\", all_hobbies)"
   ]
  },
  {
   "cell_type": "markdown",
   "id": "abc7a304",
   "metadata": {},
   "source": [
    "Operations on sets:"
   ]
  },
  {
   "cell_type": "markdown",
   "id": "efd93d4d",
   "metadata": {},
   "source": [
    "- Adding elements:hobbies_alice.add(\"riding\")adds\"riding\"to the set.\n",
    "- Removing elements:hobbies_alice.remove(\"hiking\")removes\"hiking\"from the set.\n",
    "- Unions and intersections:hobbies_alice.union(another_set)returns a new set containing elements from both sets, whilehobbies_alice.intersection(another_set)returns a new set containing common elements."
   ]
  },
  {
   "cell_type": "markdown",
   "id": "ca9e9428",
   "metadata": {},
   "source": [
    "# Dictionaries"
   ]
  },
  {
   "cell_type": "markdown",
   "id": "71ff2563",
   "metadata": {},
   "source": [
    "- Ordering: Dictionaries are unordered collections.\n",
    "- Mutability: Dictionaries are mutable; they can be modified after creation.\n",
    "- Duplicates: Dictionaries do not allow duplicate keys, but values can be duplicated.\n",
    "- Structure: Dictionaries consist of key-value pairs.\n",
    "- Syntax: Dictionaries are created using curly brackets {} with key-value pairs separated by colons."
   ]
  },
  {
   "cell_type": "markdown",
   "id": "c4f4e433",
   "metadata": {},
   "source": [
    "Dictionaries are useful for storing key-value pairs and efficiently accessing values using their keys."
   ]
  },
  {
   "cell_type": "code",
   "execution_count": null,
   "id": "4066e99d",
   "metadata": {},
   "outputs": [],
   "source": [
    "# Creating a dictionary that maps student names to their ages\n",
    "student_ages = {\"Alice\": 20, \"Bob\": 22, \"Charlie\": 21}\n",
    "\n",
    "# Adding a new student to the dictionary\n",
    "student_ages[\"David\"] = 23\n",
    "\n",
    "# Updating a student's age\n",
    "student_ages[\"Alice\"] = 21\n",
    "\n",
    "# Iterating through the dictionary and printing student names and ages\n",
    "for name, age in student_ages.items():\n",
    "    print(name, \"is\", age, \"years old\")"
   ]
  },
  {
   "cell_type": "markdown",
   "id": "7b012912",
   "metadata": {},
   "source": [
    "Operations on dictionaries:"
   ]
  },
  {
   "cell_type": "markdown",
   "id": "6422ea78",
   "metadata": {},
   "source": [
    "- Accessing values:student_ages[\"Alice\"]returns20.\n",
    "- Modifying values:student_ages[\"Alice\"] = 21changes the value of\"Alice\"to21.\n",
    "- Adding key-value pairs:student_ages[\"Fulan\"] = 20adds a new key-value pair to the dictionary.\n",
    "- Removing key-value pairs:student_ages.pop(\"Fulan\")removes the key-value pair with the key\"Fulan\"."
   ]
  },
  {
   "cell_type": "markdown",
   "id": "516e7e6a",
   "metadata": {},
   "source": [
    "# Exercise Data Structures"
   ]
  },
  {
   "cell_type": "code",
   "execution_count": null,
   "id": "964e8c29",
   "metadata": {},
   "outputs": [],
   "source": [
    "!pip install rggrader"
   ]
  },
  {
   "cell_type": "code",
   "execution_count": null,
   "id": "0ac0afb6",
   "metadata": {},
   "outputs": [],
   "source": [
    "# @title #### Student Identity\n",
    "student_id = \"your student id\" # @param {type:\"string\"}\n",
    "name = \"your name\" # @param {type:\"string\"}"
   ]
  },
  {
   "cell_type": "code",
   "execution_count": null,
   "id": "a68b1e3b",
   "metadata": {},
   "outputs": [],
   "source": [
    "# @title #### 00. Fun with Fruits\n",
    "from rggrader import submit\n",
    "\n",
    "# TODO: Create a list 'fruits' that contains \"Apple\", \"Banana\", and \"Cherry\".\n",
    "# Then remove \"Banana\" from the 'fruits' list and append \"Dragonfruit\" and \"Elderberry\".\n",
    "fruits = []\n",
    "\n",
    "# Put your code here:\n",
    "\n",
    "\n",
    "# ---- End of your code ----\n",
    "\n",
    "print(f\"The final fruits list is {fruits}\")\n",
    "\n",
    "# Submit Method\n",
    "assignment_id = \"03-data-structures\"\n",
    "question_id = \"00_fun_with_fruits\"\n",
    "submit(student_id, name, assignment_id, \", \".join(fruits), question_id)\n",
    "\n",
    "# Example:\n",
    "# List: [\"Peach\", \"Pear\", \"Plum\"]\n",
    "# Remove: \"Pear\"\n",
    "# Append: [\"Grape\", \"Guava\"]\n",
    "# Output: ['Peach', 'Plum', 'Grape', 'Guava']"
   ]
  },
  {
   "cell_type": "code",
   "execution_count": null,
   "id": "df55a07c",
   "metadata": {},
   "outputs": [],
   "source": [
    "# @title #### 01. Trip to Brussels\n",
    "from rggrader import submit\n",
    "\n",
    "# TODO: You're planning a trip to Brussels! Create a tuple 'coordinates' that represents a longitude \n",
    "#       of 50.85 and a latitude of 4.35 (which is the coordinates of Brussels). \n",
    "\n",
    "\n",
    "# Put your code here:\n",
    "coordinates = None\n",
    "\n",
    "# ---- End of your code ----\n",
    "\n",
    "print(f\"The coordinates for Brussels are {coordinates}\")\n",
    "\n",
    "# Submit Method\n",
    "assignment_id = \"03-data-structures\"\n",
    "question_id = \"01_trip_to_brussels\"\n",
    "submit(student_id, name, assignment_id, \", \".join(map(str, coordinates)), question_id)\n",
    "\n",
    "# Example:\n",
    "# Longitude: 60.17\n",
    "# Latitude: 24.94\n",
    "# Output: (60.17, 24.94)"
   ]
  },
  {
   "cell_type": "code",
   "execution_count": null,
   "id": "024ec65a",
   "metadata": {},
   "outputs": [],
   "source": [
    "# @title #### 02. Birthday Party\n",
    "from rggrader import submit\n",
    "\n",
    "# TODO: You're throwing a birthday party! Create a dictionary 'ages' that contains key-value pairs of your friends' names \n",
    "#       and their ages: \"Alice\": 25, \"Bob\": 30, \"Charlie\": 35.\n",
    "# Alice just had her birthday! So, change the age of \"Alice\" to 26. Then, add your friend \"David\" who is 40 to the party.\n",
    "\n",
    "\n",
    "# Put your code here:\n",
    "ages = {}\n",
    "\n",
    "\n",
    "# ---- End of your code ----\n",
    "\n",
    "print(f\"The final ages dictionary is {ages}\")\n",
    "\n",
    "# Submit Method\n",
    "assignment_id = \"03-data-structures\"\n",
    "question_id = \"02_birthday_party\"\n",
    "submit(student_id, name, assignment_id, str(ages), question_id)\n",
    "\n",
    "# Example:\n",
    "# Dictionary: {\"John\": 28, \"Linda\": 25, \"Peter\": 30}\n",
    "# Change Age: John turns 29\n",
    "# Add New Friend: {\"Mary\": 32}\n",
    "# Output: {\"John\": 29, \"Linda\": 25, \"Peter\": 30, \"Mary\": 32}"
   ]
  },
  {
   "cell_type": "code",
   "execution_count": null,
   "id": "78f8bd32",
   "metadata": {},
   "outputs": [],
   "source": [
    "# @title #### 03. Count Odd and Even\n",
    "from rggrader import submit\n",
    "\n",
    "# TODO: Create a list 'series' that contains the numbers 1, 2, 3, 4, 5, 6, 7, 8, 9.\n",
    "# Write a program to count the number of odd and even numbers from a series of numbers.\n",
    "\n",
    "series = []\n",
    "odd_count = 0\n",
    "even_count = 0\n",
    "\n",
    "# Put your code here:\n",
    "\n",
    "\n",
    "# ---- End of your code ----\n",
    "\n",
    "print(f\"The count of odd numbers is {odd_count} and the count of even numbers is {even_count}\")\n",
    "\n",
    "# Submit Method\n",
    "assignment_id = \"01-control-structures\"\n",
    "question_id = \"03_count-odd-even\"\n",
    "submit(student_id, name, assignment_id, str(odd_count) + ' ' + str(even_count), question_id)\n",
    "\n",
    "# Example:\n",
    "# Series: [2, 4, 6, 7, 9, 11, 13, 15]\n",
    "# Output: The count of odd numbers is 5 and the count of even numbers is 3"
   ]
  }
 ],
 "metadata": {},
 "nbformat": 4,
 "nbformat_minor": 5
}
