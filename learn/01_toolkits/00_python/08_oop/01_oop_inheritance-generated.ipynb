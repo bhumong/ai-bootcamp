{
 "cells": [
  {
   "cell_type": "markdown",
   "id": "536d309f",
   "metadata": {},
   "source": [
    "# Inheritance"
   ]
  },
  {
   "cell_type": "markdown",
   "id": "0b2d3484",
   "metadata": {},
   "source": [
    "Inheritance is a way to create a derived class from a base class. The derived class will inherit all the attributes and methods from the base class."
   ]
  },
  {
   "cell_type": "code",
   "execution_count": null,
   "id": "080f3ec3",
   "metadata": {},
   "outputs": [],
   "source": [
    "class Employee:\n",
    "    def __init__(self, name, employee_id, salary):\n",
    "        self.name = name\n",
    "        self.employee_id = employee_id\n",
    "        self.salary = salary\n",
    "\n",
    "    def display_info(self):\n",
    "        print(f\"Employee ID: {self.employee_id}\\nName: {self.name}\\nSalary: ${self.salary}\")\n",
    "\n",
    "class Manager(Employee):\n",
    "    def __init__(self, name, employee_id, salary, department):\n",
    "        super().__init__(name, employee_id, salary)\n",
    "        self.department = department\n",
    "        self.projects = []\n",
    "\n",
    "    def display_info(self):\n",
    "        super().display_info()\n",
    "        print(f\"Department: {self.department}\\nRole: Manager\")\n",
    "\n",
    "    def add_project(self, project_name):\n",
    "        self.projects.append(project_name)\n",
    "        print(f\"{self.name} added a new project: {project_name}\")\n",
    "\n",
    "    def manage_team(self):\n",
    "        print(f\"{self.name} is managing the team and projects.\")\n",
    "\n",
    "class Developer(Employee):\n",
    "    def __init__(self, name, employee_id, salary, programming_language):\n",
    "        super().__init__(name, employee_id, salary)\n",
    "        self.programming_language = programming_language\n",
    "        self.tasks = []\n",
    "\n",
    "    def display_info(self):\n",
    "        super().display_info()\n",
    "        print(f\"Programming Language: {self.programming_language}\\nRole: Developer\")\n",
    "\n",
    "    def add_task(self, task_name):\n",
    "        self.tasks.append(task_name)\n",
    "        print(f\"{self.name} added a new task: {task_name}\")\n",
    "\n",
    "    def write_code(self):\n",
    "        print(f\"{self.name} is writing code for the project.\")\n",
    "\n",
    "# Creating instances of the subclasses\n",
    "manager1 = Manager(\"Alice\", 1001, 80000, \"Engineering\")\n",
    "developer1 = Developer(\"Bob\", 2001, 70000, \"Python\")\n",
    "\n",
    "# Using the objects\n",
    "print(\"Manager Information:\")\n",
    "manager1.display_info()\n",
    "manager1.add_project(\"Project A\")\n",
    "manager1.manage_team()\n",
    "\n",
    "print(\"\\nDeveloper Information:\")\n",
    "developer1.display_info()\n",
    "developer1.add_task(\"Feature X\")\n",
    "developer1.write_code()"
   ]
  },
  {
   "cell_type": "code",
   "execution_count": null,
   "id": "7610a0a0",
   "metadata": {},
   "outputs": [],
   "source": [
    "Manager Information:\n",
    "Employee ID: 1001\n",
    "Name: Alice\n",
    "Salary: $80000\n",
    "Department: Engineering\n",
    "Role: Manager\n",
    "Alice added a new project: Project A\n",
    "Alice is managing the team and projects.\n",
    "\n",
    "Developer Information:\n",
    "Employee ID: 2001\n",
    "Name: Bob\n",
    "Salary: $70000\n",
    "Programming Language: Python\n",
    "Role: Developer\n",
    "Bob added a new task: Feature X\n",
    "Bob is writing code for the project."
   ]
  },
  {
   "cell_type": "markdown",
   "id": "513d5fe4",
   "metadata": {},
   "source": [
    "As you can see above we can create different type of employees by inheriting from the base class Employee, now we have a Developer and a Manager class. This concept of inheritance is very useful like what we can see in the example above, developers and managers are both employees, so they can share the same attributes and methods from the base class Employee, but still they have their own attributes and methods that are unique to them when needed."
   ]
  },
  {
   "cell_type": "markdown",
   "id": "1caf7bcf",
   "metadata": {},
   "source": [
    "# Parent and child"
   ]
  },
  {
   "cell_type": "markdown",
   "id": "7ad412a8",
   "metadata": {},
   "source": [
    "In object oriented programming when a class inherits from another class, the class that inherits is called the child class and the class that is being inherited from is called the parent class. The syntax is pretty simple:"
   ]
  },
  {
   "cell_type": "code",
   "execution_count": null,
   "id": "31bcc4a9",
   "metadata": {},
   "outputs": [],
   "source": [
    "# Create python parent and child\n",
    "\n",
    "class Person:\n",
    "    def __init__(self, name, age):\n",
    "        self.name = name\n",
    "        self.age = age\n",
    "\n",
    "    def display_info(self):\n",
    "        print(f\"Name: {self.name}\\nAge: {self.age}\")\n",
    "\n",
    "class Student(Person):\n",
    "    def __init__(self, name, age, student_id, major):\n",
    "        super().__init__(name, age)\n",
    "        self.student_id = student_id\n",
    "        self.major = major\n",
    "\n",
    "student = Student(\"Alice\", 20, 1001, \"Computer Science\")\n",
    "student.display_info()"
   ]
  },
  {
   "cell_type": "code",
   "execution_count": null,
   "id": "2974f120",
   "metadata": {},
   "outputs": [],
   "source": [
    "Name: Alice\n",
    "Age: 20"
   ]
  },
  {
   "cell_type": "markdown",
   "id": "a47ae8b5",
   "metadata": {},
   "source": [
    "# Overriding parent methods"
   ]
  },
  {
   "cell_type": "markdown",
   "id": "652412fb",
   "metadata": {},
   "source": [
    "Sometimes we want to change the behavior of a method that is inherited from the parent class. We can do this by overriding the method in the child class."
   ]
  },
  {
   "cell_type": "code",
   "execution_count": null,
   "id": "794b4bc8",
   "metadata": {},
   "outputs": [],
   "source": [
    "# Create python parent and child\n",
    "\n",
    "class Person:\n",
    "    def __init__(self, name, age):\n",
    "        self.name = name\n",
    "        self.age = age\n",
    "\n",
    "    def display_info(self):\n",
    "        print(f\"Name: {self.name}\\nAge: {self.age}\")\n",
    "\n",
    "class Student(Person):\n",
    "    def __init__(self, name, age, student_id, major):\n",
    "        super().__init__(name, age)\n",
    "        self.student_id = student_id\n",
    "        self.major = major\n",
    "    \n",
    "    def display_info(self):\n",
    "        print(f\"Name: {self.name}\\nAge: {self.age}\\nStudent ID: {self.student_id}\\nMajor: {self.major}\")\n",
    "\n",
    "student = Student(\"Alice\", 20, 1001, \"Computer Science\")\n",
    "student.display_info()"
   ]
  },
  {
   "cell_type": "markdown",
   "id": "851908cd",
   "metadata": {},
   "source": [
    "# super()"
   ]
  },
  {
   "cell_type": "markdown",
   "id": "71969fcd",
   "metadata": {},
   "source": [
    "super() is a function that allows us to use the parent class methods and attributes. When we call super() we are calling the parent class and we can access its methods and attributes."
   ]
  },
  {
   "cell_type": "code",
   "execution_count": null,
   "id": "cdd07947",
   "metadata": {},
   "outputs": [],
   "source": [
    "# Create python parent and child\n",
    "\n",
    "class Person:\n",
    "    def __init__(self, name, age):\n",
    "        self.name = name\n",
    "        self.age = age\n",
    "\n",
    "    def display_info(self):\n",
    "        print(f\"Name: {self.name}\\nAge: {self.age}\")\n",
    "\n",
    "class Student(Person):\n",
    "    def __init__(self, name, age, student_id, major):\n",
    "        super().__init__(name, age)\n",
    "        self.student_id = student_id\n",
    "        self.major = major\n",
    "    \n",
    "    def display_info(self):\n",
    "        super().display_info()\n",
    "        print(f\"Student ID: {self.student_id}\\nMajor: {self.major}\")\n",
    "\n",
    "student = Student(\"Alice\", 20, 1001, \"Computer Science\")\n",
    "student.display_info()"
   ]
  },
  {
   "cell_type": "code",
   "execution_count": null,
   "id": "a8119082",
   "metadata": {},
   "outputs": [],
   "source": [
    "Name: Alice\n",
    "Age: 20\n",
    "Student ID: 1001\n",
    "Major: Computer Science"
   ]
  },
  {
   "cell_type": "markdown",
   "id": "6d7ccde3",
   "metadata": {},
   "source": [
    "As we can see above that we call the parent’s class display_info() method in our overridden method display_info(), it makes us possible to use the parent’s class method and add some extra functionality to it rather than rewriting the whole method."
   ]
  },
  {
   "cell_type": "markdown",
   "id": "455f56b9",
   "metadata": {},
   "source": [
    "# Exercise"
   ]
  },
  {
   "cell_type": "code",
   "execution_count": null,
   "id": "96b9dd7e",
   "metadata": {},
   "outputs": [],
   "source": [
    "# @title #### 05. Animals World\n",
    "\n",
    "# In this assignment, you will reinforce your understanding of inheritance in Python. \n",
    "\n",
    "# Here are the specific tasks for this assignment:\n",
    "# 1. Create a parent class named 'Animal' with an attribute 'name'.\n",
    "# 2. Add two methods to the 'Animal' class:\n",
    "#     a. `speak`: This should return a string \"{name} makes a sound\". \n",
    "#     b. `description`: This should return a string \"{name} is an animal\". \n",
    "# \n",
    "# 3. Create two child classes that inherit from Animal class, 'Dog' and 'Cat'.\n",
    "# 4. Both 'Dog' and 'Cat' classes should use the `super()` function to inherit the name attribute from the Animal class.\n",
    "# 5. Both 'Dog' and 'Cat' classes should override the 'speak' method from the Animal class.\n",
    "#     a. For 'Dog' class, the 'speak' method should return \"{name} says woof!\"\n",
    "#     b. For 'Cat' class, the 'speak' method should return \"{name} says meow!\"\n",
    "# \n",
    "# Remember, the `description` method in the 'Animal' class should not be overridden in child classes.\n",
    "# \n",
    "# At the end of your implementation, create instances of Animal, Dog, and Cat, and call their 'speak' and 'description' methods. Append all outputs to an 'answer' list and submit this list as your assignment.\n",
    "# \n",
    "# Here is an example of what your code should emulate but not limited to:\n",
    "animal = Animal(\"Nemo\")\n",
    "dog = Dog(\"Rex\")\n",
    "cat = Cat(\"Misty\")\n",
    "answer = []\n",
    "answer.append(animal.speak()) # Adds \"Nemo makes a sound\" to 'answer' list\n",
    "answer.append(animal.description()) # Adds \"Nemo is an animal.\" to 'answer' list\n",
    "answer.append(dog.speak()) # Adds \"Rex says woof!\" to 'answer' list\n",
    "answer.append(dog.description()) # Adds \"Rex is an animal.\" to 'answer' list\n",
    "answer.append(cat.speak()) # Adds \"Misty says meow!\" to 'answer' list\n",
    "answer.append(cat.description()) # Adds \"Misty is an animal.\" to 'answer' list\n",
    "assignment_id = \"05-classes-inheritance\"\n",
    "question_id = \"05_animals_world\"\n",
    "submit(student_id, name, assignment_id, str(answer), question_id)"
   ]
  }
 ],
 "metadata": {},
 "nbformat": 4,
 "nbformat_minor": 5
}
