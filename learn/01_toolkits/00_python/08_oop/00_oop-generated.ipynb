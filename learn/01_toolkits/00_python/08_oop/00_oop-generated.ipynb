{
 "cells": [
  {
   "cell_type": "markdown",
   "id": "da2ed95c",
   "metadata": {},
   "source": [
    "# Object oriented programming: Fitting functionality into single objects"
   ]
  },
  {
   "cell_type": "markdown",
   "id": "193378d0",
   "metadata": {},
   "source": [
    "Object oriented programming is a programming paradigm that uses something called objects to fit lots of functionality and data into a single object."
   ]
  },
  {
   "cell_type": "code",
   "execution_count": null,
   "id": "9bef3c5e",
   "metadata": {},
   "outputs": [],
   "source": [
    "class Student:\n",
    "    def __init__(self, name, age):\n",
    "        self.name = name\n",
    "        self.age = age\n",
    "        self.grades = {}\n",
    "\n",
    "    def add_grade(self, subject, grade):\n",
    "        self.grades[subject] = grade\n",
    "\n",
    "    def calculate_gpa(self):\n",
    "        if not self.grades:\n",
    "            return 0  # No grades available\n",
    "\n",
    "        total_grade_points = sum(self.grades.values())\n",
    "        num_subjects = len(self.grades)\n",
    "        return total_grade_points / num_subjects\n",
    "\n",
    "    def display_grades(self):\n",
    "        print(f\"Grades for {self.name}:\")\n",
    "        for subject, grade in self.grades.items():\n",
    "            print(f\"{subject}: {grade}\")\n",
    "\n",
    "# Example usage:\n",
    "student1 = Student(\"Alice\", 18)\n",
    "student1.add_grade(\"Math\", 90)\n",
    "student1.add_grade(\"English\", 85)\n",
    "student1.add_grade(\"History\", 92)\n",
    "\n",
    "student2 = Student(\"Bob\", 19)\n",
    "student2.add_grade(\"Math\", 78)\n",
    "student2.add_grade(\"English\", 92)\n",
    "student2.add_grade(\"History\", 88)\n",
    "\n",
    "# Display grades and calculate GPA\n",
    "student1.display_grades()\n",
    "print(f\"{student1.name}'s GPA: {student1.calculate_gpa()}\")\n",
    "\n",
    "print(\"\\n\")\n",
    "\n",
    "student2.display_grades()\n",
    "print(f\"{student2.name}'s GPA: {student2.calculate_gpa()}\")"
   ]
  },
  {
   "cell_type": "code",
   "execution_count": null,
   "id": "a8f755da",
   "metadata": {},
   "outputs": [],
   "source": [
    "Grades for Alice:\n",
    "Math: 90\n",
    "English: 85\n",
    "History: 92\n",
    "Alice's GPA: 89.0\n",
    "\n",
    "\n",
    "Grades for Bob:\n",
    "Math: 78\n",
    "English: 92\n",
    "History: 88\n",
    "Bob's GPA: 86.0"
   ]
  },
  {
   "cell_type": "markdown",
   "id": "3c6844ce",
   "metadata": {},
   "source": [
    "As you can see above, we can have a “self-sufficient” data-type that contains both data and functionality that they can use to manipulate themselves."
   ]
  },
  {
   "cell_type": "markdown",
   "id": "9c7468bb",
   "metadata": {},
   "source": [
    "# Object oriented programming mimics real life"
   ]
  },
  {
   "cell_type": "markdown",
   "id": "e31fea2c",
   "metadata": {},
   "source": [
    "To understand object oriented programming, it is best to think of it as a way to mimic how we think about things in real life."
   ]
  },
  {
   "cell_type": "markdown",
   "id": "bdb10bf5",
   "metadata": {},
   "source": [
    "# Method"
   ]
  },
  {
   "cell_type": "markdown",
   "id": "50bf51d3",
   "metadata": {},
   "source": [
    "An object in real life is something that “contains” lots of functionalities by itself. For example, a car is an object that can drive, park, and honk."
   ]
  },
  {
   "cell_type": "markdown",
   "id": "e9494a65",
   "metadata": {},
   "source": [
    "If we try to model above car in Python, we can do it like so:"
   ]
  },
  {
   "cell_type": "code",
   "execution_count": null,
   "id": "1d61f02d",
   "metadata": {},
   "outputs": [],
   "source": [
    "class Car:\n",
    "    def drive(self):\n",
    "        print(\"Driving\")\n",
    "        # Do something to drive the car\n",
    "    \n",
    "    def park(self):\n",
    "        print(\"Parking\")\n",
    "        # Do something to park the car\n",
    "    \n",
    "    def honk(self):\n",
    "        print(\"Honking\")\n",
    "        # Do something to honk the car"
   ]
  },
  {
   "cell_type": "markdown",
   "id": "c6e37053",
   "metadata": {},
   "source": [
    "For the usage is as simple like we’re using a function:"
   ]
  },
  {
   "cell_type": "code",
   "execution_count": null,
   "id": "7fc206e7",
   "metadata": {},
   "outputs": [],
   "source": [
    "car = Car()\n",
    "car.drive()\n",
    "car.park()\n",
    "car.honk()"
   ]
  },
  {
   "cell_type": "markdown",
   "id": "35963d11",
   "metadata": {},
   "source": [
    "# Attributes"
   ]
  },
  {
   "cell_type": "markdown",
   "id": "119113a6",
   "metadata": {},
   "source": [
    "In addition to having methods, objects also have attributes. Attributes are data that the object contains. For example, a car has a color, a model, and a year."
   ]
  },
  {
   "cell_type": "code",
   "execution_count": null,
   "id": "5c92a4b4",
   "metadata": {},
   "outputs": [],
   "source": [
    "class Car:\n",
    "    def __init__(self, color, model, year):\n",
    "        self.color = color\n",
    "        self.model = model\n",
    "        self.year = year"
   ]
  },
  {
   "cell_type": "markdown",
   "id": "46eeed76",
   "metadata": {},
   "source": [
    "To access the attributes, we can do it like so:"
   ]
  },
  {
   "cell_type": "code",
   "execution_count": null,
   "id": "31256d5b",
   "metadata": {},
   "outputs": [],
   "source": [
    "car = Car(\"red\", \"Toyota\", 2019)\n",
    "print(car.color)\n",
    "print(car.model)\n",
    "print(car.year)"
   ]
  },
  {
   "cell_type": "markdown",
   "id": "527809e0",
   "metadata": {},
   "source": [
    "# Term: Class and object"
   ]
  },
  {
   "cell_type": "markdown",
   "id": "75980c01",
   "metadata": {},
   "source": [
    "For now let’s take a step back and talk about some terminology."
   ]
  },
  {
   "cell_type": "markdown",
   "id": "5ff152c0",
   "metadata": {},
   "source": [
    "# Class"
   ]
  },
  {
   "cell_type": "markdown",
   "id": "5e445b51",
   "metadata": {},
   "source": [
    "Class is a blueprint, it will define what kind of data and functionality an object will have."
   ]
  },
  {
   "cell_type": "code",
   "execution_count": null,
   "id": "6cddf41a",
   "metadata": {},
   "outputs": [],
   "source": [
    "class Car:\n",
    "    def __init__(self, manufacturer, model, year):\n",
    "        self.manufacturer = manufacturer\n",
    "        self.model = model\n",
    "        self.year = year\n",
    "        self.speed = 0\n",
    "\n",
    "    def accelerate(self):\n",
    "        self.speed += 5\n",
    "        print(f\"{self.manufacturer} {self.model} is accelerating. Current speed: {self.speed} mph\")\n",
    "\n",
    "    def brake(self):\n",
    "        if self.speed > 0:\n",
    "            self.speed -= 5\n",
    "            print(f\"{self.manufacturer} {self.model} is braking. Current speed: {self.speed} mph\")\n",
    "        else:\n",
    "            print(f\"{self.manufacturer} {self.model} is already stationary.\")"
   ]
  },
  {
   "cell_type": "markdown",
   "id": "0f6c03fb",
   "metadata": {},
   "source": [
    "As you can see above, we have a class called Car. It has 3 data attributes (which is defined in __init__ method): manufacturer, model, and year. It also has 2 “functionalities” (which more commonly called methods): accelerate and brake."
   ]
  },
  {
   "cell_type": "markdown",
   "id": "e32c0026",
   "metadata": {},
   "source": [
    "# Object"
   ]
  },
  {
   "cell_type": "markdown",
   "id": "a0520270",
   "metadata": {},
   "source": [
    "Object is a derived instance of a class, basically a class is a blueprint and an object is the actual thing that is built from the blueprint."
   ]
  },
  {
   "cell_type": "code",
   "execution_count": null,
   "id": "a1814b1f",
   "metadata": {},
   "outputs": [],
   "source": [
    "# Creating an object from `Car` class\n",
    "car1 = Car(\"Toyota\", \"Camry\", 2022)\n",
    "car2 = Car(\"Ford\", \"Mustang\", 2023)\n",
    "\n",
    "# Using the objects\n",
    "car1.accelerate()\n",
    "car2.accelerate()\n",
    "car1.brake()\n",
    "car2.brake()"
   ]
  },
  {
   "cell_type": "markdown",
   "id": "93b7fd95",
   "metadata": {},
   "source": [
    "# init method"
   ]
  },
  {
   "cell_type": "markdown",
   "id": "635780bc",
   "metadata": {},
   "source": [
    "__init__ method is a special method that is called when an object is created. It is usually used to initialize the data attributes of the object."
   ]
  },
  {
   "cell_type": "code",
   "execution_count": null,
   "id": "d14a481c",
   "metadata": {},
   "outputs": [],
   "source": []
  },
  {
   "cell_type": "code",
   "execution_count": null,
   "id": "bfd27b6e",
   "metadata": {},
   "outputs": [],
   "source": [
    "class Person:\n",
    "    def __init__(self, name, age):\n",
    "        self.name = name\n",
    "        self.age = age\n",
    "        self.level = \"Beginner\"\n",
    "    \n",
    "person = Person(\"Alice\", 18)\n",
    "print(person.name)\n",
    "print(person.age)\n",
    "print(person.level)"
   ]
  },
  {
   "cell_type": "code",
   "execution_count": null,
   "id": "411bf549",
   "metadata": {},
   "outputs": [],
   "source": [
    "Alice\n",
    "18\n",
    "Beginner"
   ]
  },
  {
   "cell_type": "markdown",
   "id": "c142cc1a",
   "metadata": {},
   "source": [
    "You can see on above code that we are assigning three data attributes to the object: name, age, and level. name and age are assigned from the arguments that we passed when creating the object, while level is assigned with a default value of \"Beginner\"."
   ]
  },
  {
   "cell_type": "markdown",
   "id": "7d6ef7cd",
   "metadata": {},
   "source": [
    "self is a special keyword, that we’ll learn in just a bit."
   ]
  },
  {
   "cell_type": "markdown",
   "id": "2c629f68",
   "metadata": {},
   "source": [
    "# Using instance methods"
   ]
  },
  {
   "cell_type": "markdown",
   "id": "1f5e5e3b",
   "metadata": {},
   "source": [
    "Instance methods are methods that are defined inside a class, and can be used by the object of that class."
   ]
  },
  {
   "cell_type": "code",
   "execution_count": null,
   "id": "6848d73e",
   "metadata": {},
   "outputs": [],
   "source": [
    "class Person:\n",
    "    def __init__(self, name, age):\n",
    "        self.name = name\n",
    "        self.age = age\n",
    "        self.level = \"Beginner\"\n",
    "\n",
    "    def greet(self):\n",
    "        print(f\"Hello, my name is {self.name}!\")\n",
    "    \n",
    "person = Person(\"Alice\", 18)\n",
    "person.greet()"
   ]
  },
  {
   "cell_type": "code",
   "execution_count": null,
   "id": "47beb361",
   "metadata": {},
   "outputs": [],
   "source": [
    "Hello, my name is Alice!"
   ]
  },
  {
   "cell_type": "markdown",
   "id": "4db8b160",
   "metadata": {},
   "source": [
    "# Mutating instance attributes"
   ]
  },
  {
   "cell_type": "markdown",
   "id": "fc65a821",
   "metadata": {},
   "source": [
    "Instance attributes can be mutated by two ways"
   ]
  },
  {
   "cell_type": "markdown",
   "id": "f0d1905a",
   "metadata": {},
   "source": [
    "# Directly accessing the attribute on the object"
   ]
  },
  {
   "cell_type": "code",
   "execution_count": null,
   "id": "88f2835e",
   "metadata": {},
   "outputs": [],
   "source": [
    "class Person:\n",
    "    def __init__(self, name, age):\n",
    "        self.name = name\n",
    "        self.age = age\n",
    "        self.level = \"Beginner\"\n",
    "\n",
    "person = Person(\"Alice\", 18)\n",
    "print(person.age)\n",
    "person.age = 19\n",
    "print(person.age)"
   ]
  },
  {
   "cell_type": "code",
   "execution_count": null,
   "id": "e5497270",
   "metadata": {},
   "outputs": [],
   "source": [
    "18\n",
    "19"
   ]
  },
  {
   "cell_type": "markdown",
   "id": "287c7d7d",
   "metadata": {},
   "source": [
    "# Mutating the attribute using a method"
   ]
  },
  {
   "cell_type": "code",
   "execution_count": null,
   "id": "b265b129",
   "metadata": {},
   "outputs": [],
   "source": [
    "class Person:\n",
    "    def __init__(self, name, age):\n",
    "        self.name = name\n",
    "        self.age = age\n",
    "        self.level = \"Beginner\"\n",
    "    \n",
    "    def set_age(self, age):\n",
    "        self.age = age\n",
    "\n",
    "person = Person(\"Alice\", 18)\n",
    "print(person.age)\n",
    "person.set_age(19)\n",
    "print(person.age)"
   ]
  },
  {
   "cell_type": "code",
   "execution_count": null,
   "id": "d73edd28",
   "metadata": {},
   "outputs": [],
   "source": [
    "18\n",
    "19"
   ]
  },
  {
   "cell_type": "markdown",
   "id": "36952b17",
   "metadata": {},
   "source": [
    "# self keyword"
   ]
  },
  {
   "cell_type": "markdown",
   "id": "e3fb817e",
   "metadata": {},
   "source": [
    "We’ve mentioned self keyword a couple of times now, but what is it? Basically self is a reference to the object itself. It is a special keyword that is used to access the “current” object’s attributes and methods."
   ]
  },
  {
   "cell_type": "markdown",
   "id": "615564eb",
   "metadata": {},
   "source": [
    "# Two objects created from the same class are independent"
   ]
  },
  {
   "cell_type": "markdown",
   "id": "2c2905bf",
   "metadata": {},
   "source": [
    "Two objects created from the same class are independent from each other. Mutating one object’s attribute will not affect the other object’s attribute."
   ]
  },
  {
   "cell_type": "code",
   "execution_count": null,
   "id": "7e97e421",
   "metadata": {},
   "outputs": [],
   "source": [
    "class Person:\n",
    "    def __init__(self, name, age):\n",
    "        self.name = name\n",
    "        self.age = age\n",
    "        self.level = \"Beginner\"\n",
    "    \n",
    "    def set_age(self, age):\n",
    "        self.age = age\n",
    "\n",
    "person = Person(\"Alice\", 18)\n",
    "person2 = Person(\"Bob\", 19)\n",
    "\n",
    "print(person.age)\n",
    "print(person2.age)\n",
    "\n",
    "person.set_age(19)\n",
    "person2.set_age(20)\n",
    "\n",
    "print(person.age)\n",
    "print(person2.age)"
   ]
  },
  {
   "cell_type": "markdown",
   "id": "7931af9c",
   "metadata": {},
   "source": [
    "# Exercise"
   ]
  },
  {
   "cell_type": "code",
   "execution_count": null,
   "id": "b6f2e5f1",
   "metadata": {},
   "outputs": [],
   "source": [
    "!pip install rggrader"
   ]
  },
  {
   "cell_type": "code",
   "execution_count": null,
   "id": "6a95a2a1",
   "metadata": {},
   "outputs": [],
   "source": [
    "# @title #### Student Identity\n",
    "student_id = \"your student id\" # @param {type:\"string\"}\n",
    "name = \"your name\" # @param {type:\"string\"}"
   ]
  },
  {
   "cell_type": "code",
   "execution_count": null,
   "id": "0d1ce549",
   "metadata": {},
   "outputs": [],
   "source": [
    "# @title #### 04. Automobile Dealership\n",
    "from rggrader import submit\n",
    "\n",
    "# In this assignment, you will implement classes in Python. \n",
    "\n",
    "# Here's the details of the task:\n",
    "# 1. Create a class named 'Car' having attributes 'manufacturer' and 'model'.\n",
    "# 2. The 'Car' class should have the following methods:\n",
    "#     a. `display_info`: This should return a string \"This car is a {manufacturer} {model}\". The placeholders correspond to the 'manufacturer' and 'model' respectively.\n",
    "#     b. `honk`: This should return a string \"{manufacturer} says honk honk!\". The placeholder corresponds to the 'manufacturer'.\n",
    "#     c. `set_car_info`: This should be a method to set a new 'manufacturer' and 'model' for the car.\n",
    "# \n",
    "# The initial creation of a Car object should take the 'manufacturer' and 'model' as arguments.\n",
    "# Here is an example of what your code should emulate:\n",
    "\n",
    "my_car = Car(\"Toyota\", \"Corolla\")\n",
    "answer = []\n",
    "answer.append(my_car.display_info()) # This should add \"This car is a Toyota Corolla\" to the 'answer' list\n",
    "answer.append(my_car.honk()) # This should add \"Toyota says honk honk!\" to the 'answer' list\n",
    "my_car.set_car_info(\"Ford\", \"Mustang\")\n",
    "answer.append(my_car.display_info()) # This should add \"This car is a Ford Mustang\" to the 'answer' list\n",
    "answer.append(my_car.honk()) # This should add \"Ford says honk honk!\" to the 'answer' list\n",
    "# Finally submit your answer\n",
    "assignment_id = \"04-classes\"\n",
    "question_id = \"04_automobile_dealership\"\n",
    "submit(student_id, name, assignment_id, str(answer), question_id)"
   ]
  }
 ],
 "metadata": {},
 "nbformat": 4,
 "nbformat_minor": 5
}
