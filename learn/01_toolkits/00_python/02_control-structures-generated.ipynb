{
 "cells": [
  {
   "cell_type": "markdown",
   "id": "2b094520",
   "metadata": {},
   "source": [
    "source: [link](https://ai-bootcamp.ruangguru.com/learn/01_toolkits/00_python/02_control-structures.html)"
   ]
  },
  {
   "cell_type": "markdown",
   "id": "ba298091",
   "metadata": {},
   "source": [
    "# Control Structures"
   ]
  },
  {
   "cell_type": "markdown",
   "id": "cf0bc168",
   "metadata": {},
   "source": [
    "# Conditional Branching"
   ]
  },
  {
   "cell_type": "markdown",
   "id": "56b67437",
   "metadata": {},
   "source": [
    "# if statement"
   ]
  },
  {
   "cell_type": "markdown",
   "id": "3992dbf7",
   "metadata": {},
   "source": [
    "The if statement checks if a specific condition or expression evaluates to True. If the condition is satisfied (True), the block of code associated with the if statement will be executed."
   ]
  },
  {
   "cell_type": "code",
   "execution_count": null,
   "id": "66d053a4",
   "metadata": {},
   "outputs": [],
   "source": [
    "x = 10\n",
    "\n",
    "if x > 0:\n",
    "    print(\"x is positive.\")\n",
    "    print(\"The value of x is\", x)"
   ]
  },
  {
   "cell_type": "markdown",
   "id": "671bccaf",
   "metadata": {},
   "source": [
    "In this example, the condition x > 0 evaluates to True, so the indented block of code following the if statement is executed."
   ]
  },
  {
   "cell_type": "markdown",
   "id": "16509412",
   "metadata": {},
   "source": [
    "# if-else statement"
   ]
  },
  {
   "cell_type": "markdown",
   "id": "c1c75c79",
   "metadata": {},
   "source": [
    "The else statement is used whenever you want to execute a different block of code if the condition in the if statement is False."
   ]
  },
  {
   "cell_type": "code",
   "execution_count": null,
   "id": "08c4ff3e",
   "metadata": {},
   "outputs": [],
   "source": [
    "x = -5\n",
    "\n",
    "if x > 0:\n",
    "    print(\"x is positive.\")\n",
    "else:\n",
    "    print(\"x is not positive.\")"
   ]
  },
  {
   "cell_type": "markdown",
   "id": "fd7fb9ee",
   "metadata": {},
   "source": [
    "In this example, the condition x > 0 evaluates to False, so the block of code following the else statement is executed."
   ]
  },
  {
   "cell_type": "markdown",
   "id": "9f45a334",
   "metadata": {},
   "source": [
    "# if-elif-else statement"
   ]
  },
  {
   "cell_type": "markdown",
   "id": "e589c61b",
   "metadata": {},
   "source": [
    "Use the elif statement to check multiple conditions. elif (short for “else if”) is used in conjunction with if and else to create a series of conditions. The block of code associated with the first if/elif condition that evaluates to True will be executed. If no condition is satisfied, the code associated with the else statement (if present) will be executed."
   ]
  },
  {
   "cell_type": "code",
   "execution_count": null,
   "id": "557b845c",
   "metadata": {},
   "outputs": [],
   "source": [
    "temperature = 15\n",
    "\n",
    "if temperature < 0:\n",
    "    print(\"It's freezing outside.\")\n",
    "elif temperature < 10:\n",
    "    print(\"It's cold outside.\")\n",
    "elif temperature < 20:\n",
    "    print(\"It's chilly outside.\")\n",
    "elif temperature < 30:\n",
    "    print(\"It's warm outside.\")\n",
    "else:\n",
    "    print(\"It's hot outside.\")"
   ]
  },
  {
   "cell_type": "markdown",
   "id": "5f0e1c89",
   "metadata": {},
   "source": [
    "In this example, the first two conditions (temperature < 0 and temperature < 10) evaluate to False, while the third condition (temperature < 20) evaluates to True. Thus, the block of code associated with this condition is executed, and “It’s chilly outside.” is printed as output."
   ]
  },
  {
   "cell_type": "markdown",
   "id": "33fefb70",
   "metadata": {},
   "source": [
    "# Nested if statements"
   ]
  },
  {
   "cell_type": "markdown",
   "id": "854acbba",
   "metadata": {},
   "source": [
    "Nested if statements allow you to make more complex condition checks by placing an if statement inside another if statement."
   ]
  },
  {
   "cell_type": "code",
   "execution_count": null,
   "id": "afbb7525",
   "metadata": {},
   "outputs": [],
   "source": [
    "x = 5\n",
    "y = -2\n",
    "\n",
    "if x > 0:\n",
    "    if y > 0:\n",
    "        print(\"Both x and y are positive.\")\n",
    "    else:\n",
    "        print(\"x is positive, but y is not.\")\n",
    "else:\n",
    "    if y > 0:\n",
    "        print(\"y is positive, but x is not.\")\n",
    "    else:\n",
    "        print(\"Neither x nor y is positive.\")"
   ]
  },
  {
   "cell_type": "markdown",
   "id": "9556da13",
   "metadata": {},
   "source": [
    "In this example, the condition x > 0 evaluates to True, so the first nested if statement is executed. Within the nested statement, the condition y > 0 evaluates to False, executing the code associated with the else statement. Thus, “x is positive, but y is not.” is the output."
   ]
  },
  {
   "cell_type": "markdown",
   "id": "b669ce41",
   "metadata": {},
   "source": [
    "# One-liner if-else expression"
   ]
  },
  {
   "cell_type": "markdown",
   "id": "fa33f1a5",
   "metadata": {},
   "source": [
    "You can use a single line of code to execute simple if-else statements. This is called the ternary conditional operator."
   ]
  },
  {
   "cell_type": "code",
   "execution_count": null,
   "id": "b0336eff",
   "metadata": {},
   "outputs": [],
   "source": [
    "x = 5\n",
    "str_result = \"x is positive\" if x > 0 else \"x is not positive\"\n",
    "print(str_result)"
   ]
  },
  {
   "cell_type": "markdown",
   "id": "67aeb02f",
   "metadata": {},
   "source": [
    "In this example, the condition x > 0 is True, so the variable str_result will be assigned the value “x is positive”"
   ]
  },
  {
   "cell_type": "markdown",
   "id": "3ddad6e8",
   "metadata": {},
   "source": [
    "# Loops"
   ]
  },
  {
   "cell_type": "markdown",
   "id": "e8b84910",
   "metadata": {},
   "source": [
    "# for loop"
   ]
  },
  {
   "cell_type": "markdown",
   "id": "643269b1",
   "metadata": {},
   "source": [
    "The for loop in Python is used to iterate over a sequence, such as a list, tuple, or string. for loops iterate over each element in the sequence, executing the associated block of code for each element."
   ]
  },
  {
   "cell_type": "code",
   "execution_count": null,
   "id": "083de80d",
   "metadata": {},
   "outputs": [],
   "source": [
    "# Example using a list\n",
    "numbers = [1, 2, 3, 4, 5]\n",
    "for num in numbers:\n",
    "    print(num)"
   ]
  },
  {
   "cell_type": "markdown",
   "id": "33f670a2",
   "metadata": {},
   "source": [
    "In this example, the for loop iterates over each element in the numbers list. The loop variable num takes on the value of each element in the list, and the print(num) statement is executed."
   ]
  },
  {
   "cell_type": "code",
   "execution_count": null,
   "id": "ff59df89",
   "metadata": {},
   "outputs": [],
   "source": [
    "# Example using a string\n",
    "name = \"Python\"\n",
    "for letter in name:\n",
    "    print(letter)"
   ]
  },
  {
   "cell_type": "markdown",
   "id": "34bb123d",
   "metadata": {},
   "source": [
    "In this example, the for loop iterates over each character in the name string."
   ]
  },
  {
   "cell_type": "markdown",
   "id": "133bbd71",
   "metadata": {},
   "source": [
    "# for loop with range()"
   ]
  },
  {
   "cell_type": "markdown",
   "id": "5a30190b",
   "metadata": {},
   "source": [
    "The range() function generates a sequence of numbers. It is commonly used in for loops when you want to repeat a block of code a specific number of times."
   ]
  },
  {
   "cell_type": "code",
   "execution_count": null,
   "id": "5cf98a9b",
   "metadata": {},
   "outputs": [],
   "source": [
    "# range(stop): Generates a sequence of numbers from 0 to stop - 1\n",
    "for i in range(5):\n",
    "    print(i)"
   ]
  },
  {
   "cell_type": "markdown",
   "id": "e9f6e6e2",
   "metadata": {},
   "source": [
    "In this example, the range(5) function generates the sequence [0, 1, 2, 3, 4], and the for loop iterates over that sequence."
   ]
  },
  {
   "cell_type": "markdown",
   "id": "9a98154d",
   "metadata": {},
   "source": [
    "# while loop"
   ]
  },
  {
   "cell_type": "markdown",
   "id": "0174ef38",
   "metadata": {},
   "source": [
    "The while loop is used to repeatedly execute a block of code while a specified condition is True. When the condition becomes False, the loop terminates, and the program continues with the code following the while loop."
   ]
  },
  {
   "cell_type": "code",
   "execution_count": null,
   "id": "d7943786",
   "metadata": {},
   "outputs": [],
   "source": [
    "# Example\n",
    "counter = 0\n",
    "while counter < 5:\n",
    "    print(\"counter:\", counter)\n",
    "    counter = counter + 1"
   ]
  },
  {
   "cell_type": "markdown",
   "id": "bc502935",
   "metadata": {},
   "source": [
    "In this example, the while loop will continue to execute its block of code as long as the counter variable is less than 5. After each iteration, the value of counter is incremented by 1. When counter reaches 5, the loop condition becomes False, and the loop terminates."
   ]
  },
  {
   "cell_type": "markdown",
   "id": "a694ba51",
   "metadata": {},
   "source": [
    "# List Comprehensions"
   ]
  },
  {
   "cell_type": "markdown",
   "id": "a37129e1",
   "metadata": {},
   "source": [
    "List comprehensions are a concise and readable way to create lists in Python. They provide an alternative to creating lists using for loops, offering more compact and readable code for specific scenarios. List comprehensions are especially useful when working with transformations or filters for lists."
   ]
  },
  {
   "cell_type": "markdown",
   "id": "4d087e69",
   "metadata": {},
   "source": [
    "The syntax for list comprehensions is as follows:"
   ]
  },
  {
   "cell_type": "code",
   "execution_count": null,
   "id": "823b1185",
   "metadata": {},
   "outputs": [],
   "source": [
    "[expression for item in iterable if condition]"
   ]
  },
  {
   "cell_type": "markdown",
   "id": "86b1e27f",
   "metadata": {},
   "source": [
    "notes: if condition is optional. This is the filter that will only include item in the resulting list if the given condition is True."
   ]
  },
  {
   "cell_type": "code",
   "execution_count": null,
   "id": "c0b006e2",
   "metadata": {},
   "outputs": [],
   "source": [
    "# Create a list of the squares of the numbers from 1 to 10:\n",
    "squares = [x**2 for x in range(1, 11)]\n",
    "\n",
    "# Create a list of even numbers between 1 and 20:\n",
    "even_numbers = [x for x in range(1, 21) if x % 2 == 0]"
   ]
  },
  {
   "cell_type": "markdown",
   "id": "3f3f896d",
   "metadata": {},
   "source": [
    "# Exercise Control Structures"
   ]
  },
  {
   "cell_type": "code",
   "execution_count": null,
   "id": "9eb85651",
   "metadata": {},
   "outputs": [],
   "source": [
    "!pip install rggrader"
   ]
  },
  {
   "cell_type": "code",
   "execution_count": null,
   "id": "427c1781",
   "metadata": {},
   "outputs": [],
   "source": [
    "# @title #### Student Identity\n",
    "student_id = \"your student id\" # @param {type:\"string\"}\n",
    "name = \"your name\" # @param {type:\"string\"}"
   ]
  },
  {
   "cell_type": "code",
   "execution_count": null,
   "id": "40431843",
   "metadata": {},
   "outputs": [],
   "source": [
    "# @title #### 00. Sum of Even Numbers\n",
    "from rggrader import submit\n",
    "\n",
    "# Write a program to compute the sum of all even numbers from 1 to 'n'.\n",
    "# sum = 2 + 4 + ... + n\n",
    "\n",
    "n = 50\n",
    "\n",
    "# TODO: compute the sum\n",
    "# The sum of all even numbers from 1 to n:\n",
    "sum = 0\n",
    "\n",
    "# Put your code here:\n",
    "\n",
    "\n",
    "# ---- End of your code ----\n",
    "\n",
    "print(f\"The sum of all even numbers from 1 to {n} is {sum}\")\n",
    "\n",
    "# Submit Method\n",
    "assignment_id = \"01-control-structures\"\n",
    "question_id = \"00_sum-of-even-numbers\"\n",
    "submit(student_id, name, assignment_id, str(sum), question_id)\n",
    "\n",
    "# Expected Output for n=50: 650"
   ]
  },
  {
   "cell_type": "code",
   "execution_count": null,
   "id": "fc594476",
   "metadata": {},
   "outputs": [],
   "source": [
    "# @title #### 01. Alternating Sum Even Odd\n",
    "from rggrader import submit\n",
    "\n",
    "# Write a program to calculate the sum of all even numbers subtracted by all odd numbers from 1 to 'n'.\n",
    "# sum = -1 + 2 -3 + 4 + ... + n\n",
    "\n",
    "n = 50\n",
    "\n",
    "# TODO: compute the sum\n",
    "# Sum all even numbers and subtract all odd numbers from 1 to n:\n",
    "sum = 0\n",
    "\n",
    "# Put your code here:\n",
    "\n",
    "\n",
    "# ---- End of your code ----\n",
    "\n",
    "print(f\"The sum of all even numbers subtracted by all odd numbers from 1 to {n} is {sum}\")\n",
    "\n",
    "# Submit Method\n",
    "assignment_id = \"01-control-structures\"\n",
    "question_id = \"01_alternating-sum-even-odd\"\n",
    "submit(student_id, name, assignment_id, str(sum), question_id)\n",
    "\n",
    "# Expected Output for n=50: 0"
   ]
  },
  {
   "cell_type": "code",
   "execution_count": null,
   "id": "1b93cf02",
   "metadata": {},
   "outputs": [],
   "source": [
    "# @title #### 02. Sum of Divisors\n",
    "from rggrader import submit\n",
    "\n",
    "# Write a program to compute the sum of all divisors of a given number 'n'.\n",
    "# For example for n=12, the divisors are 1, 2, 3, 4, 6, 12 and the sum would be 28.\n",
    "\n",
    "n = 12\n",
    "\n",
    "# TODO: compute the sum\n",
    "# The sum of all divisors of n:\n",
    "sum = 0\n",
    "\n",
    "# Put your code here:\n",
    "\n",
    "\n",
    "# ---- End of your code ----\n",
    "\n",
    "print(f\"The sum of all divisors of {n} is {sum}\")\n",
    "\n",
    "# Submit Method\n",
    "assignment_id = \"01-control-structures\"\n",
    "question_id = \"02_sum-of-divisors\"\n",
    "submit(student_id, name, assignment_id, str(sum), question_id)\n",
    "\n",
    "# Expected Output for n=12: 28"
   ]
  },
  {
   "cell_type": "code",
   "execution_count": null,
   "id": "09f3e2fd",
   "metadata": {},
   "outputs": [],
   "source": [
    "# @title #### 03. Fibonacci Sequence\n",
    "from rggrader import submit\n",
    "\n",
    "# Write a program to print the first 'n' Fibonacci numbers.\n",
    "# A Fibonacci sequence is the integer sequence of 0, 1, 1, 2, 3, 5, 8....\n",
    "# The first two terms are 0 and 1. All other terms are obtained by adding the preceding two terms.\n",
    "\n",
    "n = 10\n",
    "\n",
    "# TODO: print the first n Fibonacci numbers\n",
    "\n",
    "# Put your code here:\n",
    "\n",
    "\n",
    "# ---- End of your code ----\n",
    "\n",
    "# Submit Method\n",
    "assignment_id = \"01-control-structures\"\n",
    "question_id = \"03_fibonacci-sequence\"\n",
    "submit(student_id, name, assignment_id, str(n), question_id)\n",
    "\n",
    "# Expected Output for n=10: 0 1 1 2 3 5 8 13 21 34 "
   ]
  }
 ],
 "metadata": {},
 "nbformat": 4,
 "nbformat_minor": 5
}
