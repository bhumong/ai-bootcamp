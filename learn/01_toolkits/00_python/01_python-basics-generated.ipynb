{
 "cells": [
  {
   "cell_type": "markdown",
   "id": "5db56f45",
   "metadata": {},
   "source": [
    "source: [link](https://ai-bootcamp.ruangguru.com/learn/01_toolkits/00_python/01_python-basics.html)"
   ]
  },
  {
   "cell_type": "markdown",
   "id": "cae6f753",
   "metadata": {},
   "source": [
    "# Python Basics"
   ]
  },
  {
   "cell_type": "markdown",
   "id": "36125752",
   "metadata": {},
   "source": [
    "# Basic syntax"
   ]
  },
  {
   "cell_type": "markdown",
   "id": "91c333b5",
   "metadata": {},
   "source": [
    "# Comment"
   ]
  },
  {
   "cell_type": "markdown",
   "id": "958c1891",
   "metadata": {},
   "source": [
    "Comments are completely ignored by the interpreter. They are meant for fellow programmers. In Python, there are two types of comments: - Single-line comment - Multi-line comment"
   ]
  },
  {
   "cell_type": "markdown",
   "id": "c33d7ed4",
   "metadata": {},
   "source": [
    "We use the # symbol to write a single-line comment and triple quotes, either ''' or \"\"\" to write multi-line comment."
   ]
  },
  {
   "cell_type": "code",
   "execution_count": null,
   "id": "45fda8b1",
   "metadata": {},
   "outputs": [],
   "source": [
    "# This is a single-line comment in Python\n",
    "\n",
    "\"\"\"\n",
    "This is a\n",
    "multi-line\n",
    "comment in Python\n",
    "\"\"\""
   ]
  },
  {
   "cell_type": "markdown",
   "id": "3dc3d6a5",
   "metadata": {},
   "source": [
    "# Indentation"
   ]
  },
  {
   "cell_type": "markdown",
   "id": "e793b0b6",
   "metadata": {},
   "source": [
    "Python uses indentation to define blocks of code, instead of curly braces. Both tabs and spaces are supported, but the standard indentation requires standard Python code to use four spaces"
   ]
  },
  {
   "cell_type": "code",
   "execution_count": null,
   "id": "e02fe668",
   "metadata": {},
   "outputs": [],
   "source": [
    "if 5 > 2:\n",
    "    # Indented four spaces\n",
    "    # This block has one level of indentation\n",
    "    print(\"5 is greater than 2\")\n",
    "\n",
    "    if 10 > 5:\n",
    "        # This block has two levels of indentation\n",
    "        print(\"10 is greater than 5\")"
   ]
  },
  {
   "cell_type": "markdown",
   "id": "9c293b5d",
   "metadata": {},
   "source": [
    "# Lines"
   ]
  },
  {
   "cell_type": "markdown",
   "id": "7a1daa4f",
   "metadata": {},
   "source": [
    "You can use a backslash if you need to place a long statement on multiple lines or put multiple short statements on the same line using a semicolon."
   ]
  },
  {
   "cell_type": "code",
   "execution_count": null,
   "id": "4cddd2bc",
   "metadata": {},
   "outputs": [],
   "source": [
    "# This is a long statement broken into two lines by using a backslash\n",
    "result = 1 + 2 + 3 + 4 + \\\n",
    "         5 + 6 + 7 + 8\n",
    "\n",
    "# These are two short statements placed on the same line using a semicolon\n",
    "x = 5; y = 10"
   ]
  },
  {
   "cell_type": "markdown",
   "id": "11e2124f",
   "metadata": {},
   "source": [
    "# Data types"
   ]
  },
  {
   "cell_type": "markdown",
   "id": "eb7b3b57",
   "metadata": {},
   "source": [
    "# Numbers"
   ]
  },
  {
   "cell_type": "markdown",
   "id": "42f64e0a",
   "metadata": {},
   "source": [
    "Python supports two types of numbers - integers(whole numbers) and floating point numbers(decimals)."
   ]
  },
  {
   "cell_type": "markdown",
   "id": "7947536b",
   "metadata": {},
   "source": [
    "Integers are whole numbers, both positive and negative, without decimals. Floats represent real numbers, both positive and negative, with decimal points."
   ]
  },
  {
   "cell_type": "code",
   "execution_count": null,
   "id": "ebe9f008",
   "metadata": {},
   "outputs": [],
   "source": [
    "myint1 = 5  # An integer\n",
    "myint2 = -42 # Another integer\n",
    "\n",
    "myfloat1 = 3.14   # A float\n",
    "myfloat2 = -0.007 # Another float"
   ]
  },
  {
   "cell_type": "markdown",
   "id": "bdf3239b",
   "metadata": {},
   "source": [
    "# String"
   ]
  },
  {
   "cell_type": "markdown",
   "id": "1093bc08",
   "metadata": {},
   "source": [
    "Strings are sequences of characters, enclosed in single or double quotes."
   ]
  },
  {
   "cell_type": "code",
   "execution_count": null,
   "id": "fe74620f",
   "metadata": {},
   "outputs": [],
   "source": [
    "mystring1 = 'Hello, World!' # A string using single quotes\n",
    "mystring2 = \"Hello, World!\" # A string using double quotes"
   ]
  },
  {
   "cell_type": "markdown",
   "id": "1bbdcae3",
   "metadata": {},
   "source": [
    "# Boolean"
   ]
  },
  {
   "cell_type": "markdown",
   "id": "60324311",
   "metadata": {},
   "source": [
    "A binary variable, having two possible values called True and False."
   ]
  },
  {
   "cell_type": "code",
   "execution_count": null,
   "id": "fb1f02b7",
   "metadata": {},
   "outputs": [],
   "source": [
    "x = True  # A boolean with the value True\n",
    "y = False # A boolean with the value False"
   ]
  },
  {
   "cell_type": "markdown",
   "id": "a9b6b32a",
   "metadata": {},
   "source": [
    "# Variables and value assignment"
   ]
  },
  {
   "cell_type": "markdown",
   "id": "2ffca4eb",
   "metadata": {},
   "source": [
    "Variable names in Python should start with a letter or an underscore (_) and can be followed by any combination of letters, numbers, or underscores. They are case-sensitive, so var1 and Var1 are different variables. Assigning a value to a variable is done using the assignment operator (=)."
   ]
  },
  {
   "cell_type": "code",
   "execution_count": null,
   "id": "1a164d45",
   "metadata": {},
   "outputs": [],
   "source": [
    "# Assigning an integer value to a variable\n",
    "x = 10\n",
    "\n",
    "# Assigning a float value to a variable\n",
    "y = 5.5\n",
    "\n",
    "# Assigning a string value to a variable\n",
    "name = \"John Doe\"\n",
    "\n",
    "# Assigning a boolean value to a variable\n",
    "is_active = True"
   ]
  },
  {
   "cell_type": "markdown",
   "id": "7771e27b",
   "metadata": {},
   "source": [
    "Assignments can be done on more than one variable “simultaneously” on the same line, and you can assign the same value to multiple variables"
   ]
  },
  {
   "cell_type": "code",
   "execution_count": null,
   "id": "29d06eaf",
   "metadata": {},
   "outputs": [],
   "source": [
    "# assign values to multiple variables\n",
    "a, b, c = 1, 2, 3\n",
    "\n",
    "# assign the same value to multiple variables\n",
    "x = y = z = 8"
   ]
  },
  {
   "cell_type": "markdown",
   "id": "b45c6bb8",
   "metadata": {},
   "source": [
    "# Mathematical and comparison operations"
   ]
  },
  {
   "cell_type": "markdown",
   "id": "07f7d567",
   "metadata": {},
   "source": [
    "# Mathematical Operations"
   ]
  },
  {
   "cell_type": "code",
   "execution_count": null,
   "id": "9752fb1e",
   "metadata": {},
   "outputs": [],
   "source": [
    "# Addition (+)\n",
    "a = 5 + 3 # a will be 8\n",
    "\n",
    "# Subtraction (-)\n",
    "b = 5 - 3 # b will be 2\n",
    "\n",
    "# Multiplication (*)\n",
    "c = 5 * 3 # c will be 15\n",
    "\n",
    "# Division (/)\n",
    "d = 15 / 3 # d will be 5.0\n",
    "\n",
    "# Modulus (%)\n",
    "e = 7 % 3 # e will be 1\n",
    "\n",
    "# Exponentiation (**)\n",
    "f = 2 ** 3 # f will be 8\n",
    "\n",
    "# Floor Division (//)\n",
    "g = 7 // 3 # g will be 2"
   ]
  },
  {
   "cell_type": "markdown",
   "id": "5954f383",
   "metadata": {},
   "source": [
    "# Comparison Operations"
   ]
  },
  {
   "cell_type": "code",
   "execution_count": null,
   "id": "d4f52c6b",
   "metadata": {},
   "outputs": [],
   "source": [
    "# Equal to (==)\n",
    "result = (5 == 3) # result will be False\n",
    "\n",
    "# Not equal to (!=)\n",
    "result = (5 != 3) # result will be True\n",
    "\n",
    "# Greater than (>)\n",
    "result = (5 > 3) # result will be True\n",
    "\n",
    "# Less than (<)\n",
    "result = (5 < 3) # result will be False\n",
    "\n",
    "# Greater than or equal to (>=)\n",
    "result = (5 >= 3) # result will be True\n",
    "\n",
    "# Less than or equal to (<=)\n",
    "result = (5 <= 3) # result will be False"
   ]
  },
  {
   "cell_type": "markdown",
   "id": "9d3320b4",
   "metadata": {},
   "source": [
    "# Logical operations"
   ]
  },
  {
   "cell_type": "markdown",
   "id": "6894c683",
   "metadata": {},
   "source": [
    "In Python, you can perform logical operations using the following logical operators: and, or, and not. They are used to combine or modify boolean values (True and False)."
   ]
  },
  {
   "cell_type": "markdown",
   "id": "0643fc30",
   "metadata": {},
   "source": [
    "# and"
   ]
  },
  {
   "cell_type": "markdown",
   "id": "f00738be",
   "metadata": {},
   "source": [
    "Returns True if both operands are True, otherwise returns False."
   ]
  },
  {
   "cell_type": "code",
   "execution_count": null,
   "id": "f458cd2d",
   "metadata": {},
   "outputs": [],
   "source": [
    "x = True and False # x will be False\n",
    "y = True and True  # y will be True"
   ]
  },
  {
   "cell_type": "markdown",
   "id": "5f2bc846",
   "metadata": {},
   "source": [
    "# or"
   ]
  },
  {
   "cell_type": "markdown",
   "id": "7bf09290",
   "metadata": {},
   "source": [
    "Returns True if at least one operand is True, otherwise returns False."
   ]
  },
  {
   "cell_type": "code",
   "execution_count": null,
   "id": "12a2f8d4",
   "metadata": {},
   "outputs": [],
   "source": [
    "x = True or False # x will be True\n",
    "y = False or False # y will be False"
   ]
  },
  {
   "cell_type": "markdown",
   "id": "5b1e9a3e",
   "metadata": {},
   "source": [
    "# not"
   ]
  },
  {
   "cell_type": "markdown",
   "id": "581fd471",
   "metadata": {},
   "source": [
    "Returns True if the operand is False, and False if the operand is True."
   ]
  },
  {
   "cell_type": "code",
   "execution_count": null,
   "id": "e8c07bdf",
   "metadata": {},
   "outputs": [],
   "source": [
    "x = not True  # x will be False\n",
    "y = not False # y will be True"
   ]
  },
  {
   "cell_type": "markdown",
   "id": "c5a3bc90",
   "metadata": {},
   "source": [
    "You can combine multiple logical operators and use parentheses to group conditions and control the order of evaluation."
   ]
  },
  {
   "cell_type": "code",
   "execution_count": null,
   "id": "3a064ea1",
   "metadata": {},
   "outputs": [],
   "source": [
    "a = 5\n",
    "b = 3\n",
    "c = 2\n",
    "\n",
    "result = (a > b) and (c < b) # result will be True"
   ]
  },
  {
   "cell_type": "markdown",
   "id": "c60542a2",
   "metadata": {},
   "source": [
    "In this example, (a > b) is True, (c < b) is True, and as both conditions are True, the logical and operation returns True."
   ]
  },
  {
   "cell_type": "markdown",
   "id": "30067d84",
   "metadata": {},
   "source": [
    "# Exercise Python Basics"
   ]
  },
  {
   "cell_type": "code",
   "execution_count": null,
   "id": "7d7c2024",
   "metadata": {},
   "outputs": [],
   "source": [
    "!pip install rggrader"
   ]
  },
  {
   "cell_type": "code",
   "execution_count": null,
   "id": "a73aa34d",
   "metadata": {},
   "outputs": [],
   "source": [
    "# @title #### Student Identity\n",
    "student_id = \"your student id\" # @param {type:\"string\"}\n",
    "name = \"your name\" # @param {type:\"string\"}"
   ]
  },
  {
   "cell_type": "code",
   "execution_count": null,
   "id": "3949745f",
   "metadata": {},
   "outputs": [],
   "source": [
    "# @title #### 00. Area of a circle\n",
    "from rggrader import submit\n",
    "\n",
    "r = 5 \n",
    "\n",
    "# TODO: \n",
    "# Compute the area of a circle with radius r.\n",
    "# Store the result in the 'area' variable.\n",
    "\n",
    "# Put your code here:\n",
    "area = 0\n",
    "\n",
    "\n",
    "# ---- End of your code ----\n",
    "\n",
    "# Submit Method\n",
    "assignment_id = \"00_python-basics\"\n",
    "question_id = \"00_area-of-circle\"\n",
    "submit(student_id, name, assignment_id, str(area), question_id)\n",
    "\n",
    "# Expected Output: The area of a circle with radius 5"
   ]
  }
 ],
 "metadata": {},
 "nbformat": 4,
 "nbformat_minor": 5
}
