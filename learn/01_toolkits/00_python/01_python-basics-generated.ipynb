{
 "cells": [
  {
   "cell_type": "markdown",
   "id": "27a39696",
   "metadata": {},
   "source": [
    "source: [link](https://ai-bootcamp.ruangguru.com/learn/01_toolkits/00_python/01_python-basics.html)"
   ]
  },
  {
   "cell_type": "markdown",
   "id": "9e2eec66",
   "metadata": {},
   "source": [
    "# Python Basics"
   ]
  },
  {
   "cell_type": "markdown",
   "id": "e1a4b089",
   "metadata": {},
   "source": [
    "# Basic syntax"
   ]
  },
  {
   "cell_type": "markdown",
   "id": "4475b7b6",
   "metadata": {},
   "source": [
    "# Comment"
   ]
  },
  {
   "cell_type": "markdown",
   "id": "70381312",
   "metadata": {},
   "source": [
    "Comments are completely ignored by the interpreter. They are meant for fellow programmers. In Python, there are two types of comments: - Single-line comment - Multi-line comment"
   ]
  },
  {
   "cell_type": "markdown",
   "id": "bf781b30",
   "metadata": {},
   "source": [
    "We use the # symbol to write a single-line comment and triple quotes, either ''' or \"\"\" to write multi-line comment."
   ]
  },
  {
   "cell_type": "code",
   "execution_count": null,
   "id": "15a41cda",
   "metadata": {},
   "outputs": [],
   "source": [
    "# This is a single-line comment in Python\n",
    "\n",
    "\"\"\"\n",
    "This is a\n",
    "multi-line\n",
    "comment in Python\n",
    "\"\"\""
   ]
  },
  {
   "cell_type": "markdown",
   "id": "f93410ec",
   "metadata": {},
   "source": [
    "# Indentation"
   ]
  },
  {
   "cell_type": "markdown",
   "id": "3bcae699",
   "metadata": {},
   "source": [
    "Python uses indentation to define blocks of code, instead of curly braces. Both tabs and spaces are supported, but the standard indentation requires standard Python code to use four spaces"
   ]
  },
  {
   "cell_type": "code",
   "execution_count": null,
   "id": "7419a597",
   "metadata": {},
   "outputs": [],
   "source": [
    "if 5 > 2:\n",
    "    # Indented four spaces\n",
    "    # This block has one level of indentation\n",
    "    print(\"5 is greater than 2\")\n",
    "\n",
    "    if 10 > 5:\n",
    "        # This block has two levels of indentation\n",
    "        print(\"10 is greater than 5\")"
   ]
  },
  {
   "cell_type": "markdown",
   "id": "a6f92cbd",
   "metadata": {},
   "source": [
    "# Lines"
   ]
  },
  {
   "cell_type": "markdown",
   "id": "a6f16856",
   "metadata": {},
   "source": [
    "You can use a backslash if you need to place a long statement on multiple lines or put multiple short statements on the same line using a semicolon."
   ]
  },
  {
   "cell_type": "code",
   "execution_count": null,
   "id": "4c01069c",
   "metadata": {},
   "outputs": [],
   "source": [
    "# This is a long statement broken into two lines by using a backslash\n",
    "result = 1 + 2 + 3 + 4 + \\\n",
    "         5 + 6 + 7 + 8\n",
    "\n",
    "# These are two short statements placed on the same line using a semicolon\n",
    "x = 5; y = 10"
   ]
  },
  {
   "cell_type": "markdown",
   "id": "701e9255",
   "metadata": {},
   "source": [
    "# Data types"
   ]
  },
  {
   "cell_type": "markdown",
   "id": "52ccb781",
   "metadata": {},
   "source": [
    "# Numbers"
   ]
  },
  {
   "cell_type": "markdown",
   "id": "1a356c46",
   "metadata": {},
   "source": [
    "Python supports two types of numbers - integers(whole numbers) and floating point numbers(decimals)."
   ]
  },
  {
   "cell_type": "markdown",
   "id": "e90f6f38",
   "metadata": {},
   "source": [
    "Integers are whole numbers, both positive and negative, without decimals. Floats represent real numbers, both positive and negative, with decimal points."
   ]
  },
  {
   "cell_type": "code",
   "execution_count": null,
   "id": "2558b487",
   "metadata": {},
   "outputs": [],
   "source": [
    "myint1 = 5  # An integer\n",
    "myint2 = -42 # Another integer\n",
    "\n",
    "myfloat1 = 3.14   # A float\n",
    "myfloat2 = -0.007 # Another float"
   ]
  },
  {
   "cell_type": "markdown",
   "id": "768f61e6",
   "metadata": {},
   "source": [
    "# String"
   ]
  },
  {
   "cell_type": "markdown",
   "id": "4be62317",
   "metadata": {},
   "source": [
    "Strings are sequences of characters, enclosed in single or double quotes."
   ]
  },
  {
   "cell_type": "code",
   "execution_count": null,
   "id": "c18c23ec",
   "metadata": {},
   "outputs": [],
   "source": [
    "mystring1 = 'Hello, World!' # A string using single quotes\n",
    "mystring2 = \"Hello, World!\" # A string using double quotes"
   ]
  },
  {
   "cell_type": "markdown",
   "id": "650f8428",
   "metadata": {},
   "source": [
    "# Boolean"
   ]
  },
  {
   "cell_type": "markdown",
   "id": "c3d1de64",
   "metadata": {},
   "source": [
    "A binary variable, having two possible values called True and False."
   ]
  },
  {
   "cell_type": "code",
   "execution_count": null,
   "id": "b2f91554",
   "metadata": {},
   "outputs": [],
   "source": [
    "x = True  # A boolean with the value True\n",
    "y = False # A boolean with the value False"
   ]
  },
  {
   "cell_type": "markdown",
   "id": "02caa31a",
   "metadata": {},
   "source": [
    "# Variables and value assignment"
   ]
  },
  {
   "cell_type": "markdown",
   "id": "c94a8232",
   "metadata": {},
   "source": [
    "Variable names in Python should start with a letter or an underscore (_) and can be followed by any combination of letters, numbers, or underscores. They are case-sensitive, so var1 and Var1 are different variables. Assigning a value to a variable is done using the assignment operator (=)."
   ]
  },
  {
   "cell_type": "code",
   "execution_count": null,
   "id": "74e46e03",
   "metadata": {},
   "outputs": [],
   "source": [
    "# Assigning an integer value to a variable\n",
    "x = 10\n",
    "\n",
    "# Assigning a float value to a variable\n",
    "y = 5.5\n",
    "\n",
    "# Assigning a string value to a variable\n",
    "name = \"John Doe\"\n",
    "\n",
    "# Assigning a boolean value to a variable\n",
    "is_active = True"
   ]
  },
  {
   "cell_type": "markdown",
   "id": "6da030bc",
   "metadata": {},
   "source": [
    "Assignments can be done on more than one variable “simultaneously” on the same line, and you can assign the same value to multiple variables"
   ]
  },
  {
   "cell_type": "code",
   "execution_count": null,
   "id": "74fd0214",
   "metadata": {},
   "outputs": [],
   "source": [
    "# assign values to multiple variables\n",
    "a, b, c = 1, 2, 3\n",
    "\n",
    "# assign the same value to multiple variables\n",
    "x = y = z = 8"
   ]
  },
  {
   "cell_type": "markdown",
   "id": "add96849",
   "metadata": {},
   "source": [
    "# Mathematical and comparison operations"
   ]
  },
  {
   "cell_type": "markdown",
   "id": "fd0a3562",
   "metadata": {},
   "source": [
    "# Mathematical Operations"
   ]
  },
  {
   "cell_type": "code",
   "execution_count": null,
   "id": "bf5a9b47",
   "metadata": {},
   "outputs": [],
   "source": [
    "# Addition (+)\n",
    "a = 5 + 3 # a will be 8\n",
    "\n",
    "# Subtraction (-)\n",
    "b = 5 - 3 # b will be 2\n",
    "\n",
    "# Multiplication (*)\n",
    "c = 5 * 3 # c will be 15\n",
    "\n",
    "# Division (/)\n",
    "d = 15 / 3 # d will be 5.0\n",
    "\n",
    "# Modulus (%)\n",
    "e = 7 % 3 # e will be 1\n",
    "\n",
    "# Exponentiation (**)\n",
    "f = 2 ** 3 # f will be 8\n",
    "\n",
    "# Floor Division (//)\n",
    "g = 7 // 3 # g will be 2"
   ]
  },
  {
   "cell_type": "markdown",
   "id": "0d159b34",
   "metadata": {},
   "source": [
    "# Comparison Operations"
   ]
  },
  {
   "cell_type": "code",
   "execution_count": null,
   "id": "7ff16116",
   "metadata": {},
   "outputs": [],
   "source": [
    "# Equal to (==)\n",
    "result = (5 == 3) # result will be False\n",
    "\n",
    "# Not equal to (!=)\n",
    "result = (5 != 3) # result will be True\n",
    "\n",
    "# Greater than (>)\n",
    "result = (5 > 3) # result will be True\n",
    "\n",
    "# Less than (<)\n",
    "result = (5 < 3) # result will be False\n",
    "\n",
    "# Greater than or equal to (>=)\n",
    "result = (5 >= 3) # result will be True\n",
    "\n",
    "# Less than or equal to (<=)\n",
    "result = (5 <= 3) # result will be False"
   ]
  },
  {
   "cell_type": "markdown",
   "id": "6a211492",
   "metadata": {},
   "source": [
    "# Logical operations"
   ]
  },
  {
   "cell_type": "markdown",
   "id": "04724ef3",
   "metadata": {},
   "source": [
    "In Python, you can perform logical operations using the following logical operators: and, or, and not. They are used to combine or modify boolean values (True and False)."
   ]
  },
  {
   "cell_type": "markdown",
   "id": "81b2fe18",
   "metadata": {},
   "source": [
    "# and"
   ]
  },
  {
   "cell_type": "markdown",
   "id": "829f7497",
   "metadata": {},
   "source": [
    "Returns True if both operands are True, otherwise returns False."
   ]
  },
  {
   "cell_type": "code",
   "execution_count": null,
   "id": "e9db70fa",
   "metadata": {},
   "outputs": [],
   "source": [
    "x = True and False # x will be False\n",
    "y = True and True  # y will be True"
   ]
  },
  {
   "cell_type": "markdown",
   "id": "444544c3",
   "metadata": {},
   "source": [
    "# or"
   ]
  },
  {
   "cell_type": "markdown",
   "id": "96797331",
   "metadata": {},
   "source": [
    "Returns True if at least one operand is True, otherwise returns False."
   ]
  },
  {
   "cell_type": "code",
   "execution_count": null,
   "id": "011ebedc",
   "metadata": {},
   "outputs": [],
   "source": [
    "x = True or False # x will be True\n",
    "y = False or False # y will be False"
   ]
  },
  {
   "cell_type": "markdown",
   "id": "f8e64612",
   "metadata": {},
   "source": [
    "# not"
   ]
  },
  {
   "cell_type": "markdown",
   "id": "171f1c57",
   "metadata": {},
   "source": [
    "Returns True if the operand is False, and False if the operand is True."
   ]
  },
  {
   "cell_type": "code",
   "execution_count": null,
   "id": "bbb12ee3",
   "metadata": {},
   "outputs": [],
   "source": [
    "x = not True  # x will be False\n",
    "y = not False # y will be True"
   ]
  },
  {
   "cell_type": "markdown",
   "id": "36ddb5e5",
   "metadata": {},
   "source": [
    "You can combine multiple logical operators and use parentheses to group conditions and control the order of evaluation."
   ]
  },
  {
   "cell_type": "code",
   "execution_count": null,
   "id": "8b95dad2",
   "metadata": {},
   "outputs": [],
   "source": [
    "a = 5\n",
    "b = 3\n",
    "c = 2\n",
    "\n",
    "result = (a > b) and (c < b) # result will be True"
   ]
  },
  {
   "cell_type": "markdown",
   "id": "7a0380dd",
   "metadata": {},
   "source": [
    "In this example, (a > b) is True, (c < b) is True, and as both conditions are True, the logical and operation returns True."
   ]
  },
  {
   "cell_type": "markdown",
   "id": "58492ffa",
   "metadata": {},
   "source": [
    "# Exercise Python Basics"
   ]
  },
  {
   "cell_type": "code",
   "execution_count": null,
   "id": "fc77d150",
   "metadata": {},
   "outputs": [],
   "source": [
    "!pip install rggrader"
   ]
  },
  {
   "cell_type": "code",
   "execution_count": null,
   "id": "224ec2e7",
   "metadata": {},
   "outputs": [],
   "source": [
    "# @title #### Student Identity\n",
    "student_id = \"your student id\" # @param {type:\"string\"}\n",
    "name = \"your name\" # @param {type:\"string\"}"
   ]
  },
  {
   "cell_type": "code",
   "execution_count": null,
   "id": "f9aad34b",
   "metadata": {},
   "outputs": [],
   "source": [
    "# @title #### 00. Area of a circle\n",
    "from rggrader import submit\n",
    "\n",
    "r = 5 \n",
    "\n",
    "# TODO: \n",
    "# Compute the area of a circle with radius r.\n",
    "# Store the result in the 'area' variable.\n",
    "\n",
    "# Put your code here:\n",
    "area = 0\n",
    "\n",
    "\n",
    "# ---- End of your code ----\n",
    "\n",
    "# Submit Method\n",
    "assignment_id = \"00_python-basics\"\n",
    "question_id = \"00_area-of-circle\"\n",
    "submit(student_id, name, assignment_id, str(area), question_id)\n",
    "\n",
    "# Expected Output: The area of a circle with radius 5"
   ]
  }
 ],
 "metadata": {},
 "nbformat": 4,
 "nbformat_minor": 5
}
