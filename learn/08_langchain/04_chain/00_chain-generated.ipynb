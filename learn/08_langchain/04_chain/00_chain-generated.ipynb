{
 "cells": [
  {
   "cell_type": "markdown",
   "id": "c764b7b6",
   "metadata": {},
   "source": [
    "# Chain"
   ]
  },
  {
   "cell_type": "markdown",
   "id": "b63972fb",
   "metadata": {},
   "source": [
    "The basic building block of LangChain is the chain, which usually combines a Large Language Model (LLM) with a prompt, allowing for a sequence of operations on text or other data."
   ]
  },
  {
   "cell_type": "markdown",
   "id": "9206d627",
   "metadata": {},
   "source": [
    "Let’s load our model, in this case we’ll be using OpenAI GPT model. For security reasons, we’ll load the OpenAI API key using python-dotenv package."
   ]
  },
  {
   "cell_type": "markdown",
   "id": "ca93b6fd",
   "metadata": {},
   "source": [
    "Note: You can signup at OpenAI for a trial version using your email and verification using your mobile number. You will have access to $5 credit for 3 months that you can use."
   ]
  },
  {
   "cell_type": "code",
   "execution_count": null,
   "id": "a5a73496",
   "metadata": {},
   "outputs": [],
   "source": [
    "!pip install langchain openai python-dotenv"
   ]
  },
  {
   "cell_type": "code",
   "execution_count": null,
   "id": "1e4a8a7c",
   "metadata": {},
   "outputs": [],
   "source": [
    "import os\n",
    "\n",
    "from dotenv import load_dotenv, find_dotenv\n",
    "_ = load_dotenv(find_dotenv()) # read local .env file"
   ]
  },
  {
   "cell_type": "code",
   "execution_count": null,
   "id": "91a24a3c",
   "metadata": {},
   "outputs": [],
   "source": [
    "from langchain.chat_models import ChatOpenAI\n",
    "from langchain.prompts import ChatPromptTemplate"
   ]
  },
  {
   "cell_type": "code",
   "execution_count": null,
   "id": "7416068b",
   "metadata": {},
   "outputs": [],
   "source": [
    "OpenAIModel = \"gpt-4\"\n",
    "llm = ChatOpenAI(model=OpenAIModel, temperature=0.1)"
   ]
  },
  {
   "cell_type": "markdown",
   "id": "6b06e053",
   "metadata": {},
   "source": [
    "There are various types of chains that we can use, let’s take a look at the most common ones:"
   ]
  },
  {
   "cell_type": "markdown",
   "id": "4b8d72fc",
   "metadata": {},
   "source": [
    "# LLMChain"
   ]
  },
  {
   "cell_type": "markdown",
   "id": "a5f06e43",
   "metadata": {},
   "source": [
    "LLM chain offers a combination of the LLM and a prompt, allowing sequential operations."
   ]
  },
  {
   "cell_type": "markdown",
   "id": "1f74e4cc",
   "metadata": {},
   "source": [
    "For instance, the LLM chain can assist in generating company names based on product descriptions."
   ]
  },
  {
   "cell_type": "code",
   "execution_count": null,
   "id": "dfb72348",
   "metadata": {},
   "outputs": [],
   "source": [
    "from langchain.chains import LLMChain"
   ]
  },
  {
   "cell_type": "code",
   "execution_count": null,
   "id": "7e8bac60",
   "metadata": {},
   "outputs": [],
   "source": [
    "prompt = ChatPromptTemplate.from_template(\n",
    "    \"What is the best name to describe \\\n",
    "    a company that makes {product}?, please give 5 name in unorder list\"\n",
    ")"
   ]
  },
  {
   "cell_type": "code",
   "execution_count": null,
   "id": "08c71010",
   "metadata": {},
   "outputs": [],
   "source": [
    "chain = LLMChain(llm=llm, prompt=prompt)"
   ]
  },
  {
   "cell_type": "code",
   "execution_count": null,
   "id": "61a9077b",
   "metadata": {},
   "outputs": [],
   "source": [
    "product = \"The Best Queen Size Sheet Set\"\n",
    "chain.run(product)"
   ]
  },
  {
   "cell_type": "code",
   "execution_count": null,
   "id": "c8beb773",
   "metadata": {},
   "outputs": [],
   "source": [
    "'1. \"Supreme Slumber Sheets\"\\n2. \"Queen Comfort Creations\"\\n3. \"Luxury Linen Loft\"\\n4. \"Elite Elegance Beddings\"\\n5. \"Dreamy Duvet Designs\"'"
   ]
  },
  {
   "cell_type": "code",
   "execution_count": null,
   "id": "ff53bb15",
   "metadata": {},
   "outputs": [],
   "source": [
    "product = \"A good GPS product is one that provides accurate, fast, and stable navigation, along with additional features that assist users in various situations.\"\n",
    "chain.run(product)"
   ]
  },
  {
   "cell_type": "code",
   "execution_count": null,
   "id": "8195a323",
   "metadata": {},
   "outputs": [],
   "source": [
    "'1. PrecisionPath Navigation Solutions\\n2. AccuRoute GPS Technologies\\n3. SwiftTrack Navigation Systems\\n4. StableJourney GPS Innovations\\n5. AssistNav GPS Solutions'"
   ]
  },
  {
   "cell_type": "markdown",
   "id": "f3932834",
   "metadata": {},
   "source": [
    "# SimpleSequentialChain"
   ]
  },
  {
   "cell_type": "markdown",
   "id": "09ca51aa",
   "metadata": {},
   "source": [
    "Sequential chains are composed of multiple steps or chains that can be run one after another."
   ]
  },
  {
   "cell_type": "markdown",
   "id": "89195ee2",
   "metadata": {},
   "source": [
    "The output of each step is passed as input to the next step."
   ]
  },
  {
   "cell_type": "markdown",
   "id": "25f17c7d",
   "metadata": {},
   "source": [
    "The output of the last step is returned as the output of the chain."
   ]
  },
  {
   "cell_type": "code",
   "execution_count": null,
   "id": "4d43eb4d",
   "metadata": {},
   "outputs": [],
   "source": [
    "from langchain.chains import SimpleSequentialChain"
   ]
  },
  {
   "cell_type": "code",
   "execution_count": null,
   "id": "7e2cc470",
   "metadata": {},
   "outputs": [],
   "source": [
    "# prompt template 1\n",
    "first_prompt = ChatPromptTemplate.from_template(\n",
    "    \"What is the best name to describe \\\n",
    "    a company that makes {product}?\"\n",
    ")\n",
    "\n",
    "# Chain 1\n",
    "chain_one = LLMChain(llm=llm, prompt=first_prompt, verbose=True)"
   ]
  },
  {
   "cell_type": "code",
   "execution_count": null,
   "id": "1a9f1571",
   "metadata": {},
   "outputs": [],
   "source": [
    "# prompt template 2\n",
    "second_prompt = ChatPromptTemplate.from_template(\n",
    "    \"Write a 20 words description for the following \\\n",
    "    company:{company_name}\"\n",
    ")\n",
    "\n",
    "\n",
    "# chain 2\n",
    "chain_two = LLMChain(llm=llm, prompt=second_prompt, verbose=True)"
   ]
  },
  {
   "cell_type": "code",
   "execution_count": null,
   "id": "00a96256",
   "metadata": {},
   "outputs": [],
   "source": [
    "overall_simple_chain = SimpleSequentialChain(chains=[chain_one, chain_two],verbose=False)"
   ]
  },
  {
   "cell_type": "code",
   "execution_count": null,
   "id": "90b33c66",
   "metadata": {},
   "outputs": [],
   "source": [
    "product = \"The Best Queen Size Sheet Set\"\n",
    "overall_simple_chain.run(product)"
   ]
  },
  {
   "cell_type": "code",
   "execution_count": null,
   "id": "319f9732",
   "metadata": {},
   "outputs": [],
   "source": [
    "\n",
    "\n",
    "> Entering new LLMChain chain...\n",
    "Prompt after formatting:\n",
    "Human: What is the best name to describe     a company that makes The Best Queen Size Sheet Set?\n",
    "\n",
    "> Finished chain.\n",
    "\n",
    "\n",
    "> Entering new LLMChain chain...\n",
    "Prompt after formatting:\n",
    "Human: Write a 20 words description for the following     company:\"Supreme Queen Sheet Set Creations\"\n",
    "\n",
    "> Finished chain."
   ]
  },
  {
   "cell_type": "code",
   "execution_count": null,
   "id": "d171dcc3",
   "metadata": {},
   "outputs": [],
   "source": [
    "'\"Supreme Queen Sheet Set Creations specializes in crafting luxurious, high-quality queen-sized sheet sets for ultimate comfort and style.\"'"
   ]
  },
  {
   "cell_type": "code",
   "execution_count": null,
   "id": "c9ed09e3",
   "metadata": {},
   "outputs": [],
   "source": [
    "product = \"A good GPS product is one that provides accurate, fast, and stable navigation, along with additional features that assist users in various situations.\"\n",
    "overall_simple_chain.run(product)"
   ]
  },
  {
   "cell_type": "code",
   "execution_count": null,
   "id": "b4ba7e65",
   "metadata": {},
   "outputs": [],
   "source": [
    "\n",
    "\n",
    "> Entering new LLMChain chain...\n",
    "Prompt after formatting:\n",
    "Human: What is the best name to describe     a company that makes A good GPS product is one that provides accurate, fast, and stable navigation, along with additional features that assist users in various situations.?\n",
    "\n",
    "> Finished chain.\n",
    "\n",
    "\n",
    "> Entering new LLMChain chain...\n",
    "Prompt after formatting:\n",
    "Human: Write a 20 words description for the following     company:\"Advanced Navigation Solutions\"\n",
    "\n",
    "> Finished chain."
   ]
  },
  {
   "cell_type": "code",
   "execution_count": null,
   "id": "35481f03",
   "metadata": {},
   "outputs": [],
   "source": [
    "'\"Advanced Navigation Solutions provides innovative, high-tech navigation systems and solutions for various industries worldwide.\"'"
   ]
  },
  {
   "cell_type": "markdown",
   "id": "e2d41ea5",
   "metadata": {},
   "source": [
    "# SequentialChain"
   ]
  },
  {
   "cell_type": "markdown",
   "id": "c9f89ca0",
   "metadata": {},
   "source": [
    "Sequential chains are useful for complex tasks, such as translating reviews, summarizing them, detecting their language, and creating follow-up responses."
   ]
  },
  {
   "cell_type": "markdown",
   "id": "cfe35ddf",
   "metadata": {},
   "source": [
    "The following example shows how to create a sequential chain that translates a review, summarizes it, and then gives a follow up message in the same language as the review."
   ]
  },
  {
   "cell_type": "code",
   "execution_count": null,
   "id": "871252b5",
   "metadata": {},
   "outputs": [],
   "source": [
    "from langchain.chains import SequentialChain"
   ]
  },
  {
   "cell_type": "code",
   "execution_count": null,
   "id": "9a2e59dc",
   "metadata": {},
   "outputs": [],
   "source": [
    "# prompt template 1: translate to english\n",
    "first_prompt = ChatPromptTemplate.from_template(\n",
    "    \"Translate the following review to english:\"\n",
    "    \"\\n\\n{Review}\"\n",
    ")\n",
    "\n",
    "\n",
    "# chain 1: input= Review and output= English_Review\n",
    "chain_one = LLMChain(llm=llm, prompt=first_prompt, \n",
    "                     output_key=\"English_Review\", verbose=True)"
   ]
  },
  {
   "cell_type": "code",
   "execution_count": null,
   "id": "6bf4fcb6",
   "metadata": {},
   "outputs": [],
   "source": [
    "second_prompt = ChatPromptTemplate.from_template(\n",
    "    \"Can you summarize the following review in 1 sentence:\"\n",
    "    \"\\n\\n{English_Review}\"\n",
    ")\n",
    "\n",
    "# chain 2: input= English_Review and output= summary\n",
    "chain_two = LLMChain(llm=llm, prompt=second_prompt, \n",
    "                     output_key=\"summary\", verbose=True)"
   ]
  },
  {
   "cell_type": "code",
   "execution_count": null,
   "id": "37287ec0",
   "metadata": {},
   "outputs": [],
   "source": [
    "# prompt template 3: translate to english\n",
    "third_prompt = ChatPromptTemplate.from_template(\n",
    "    \"What language is the following review:\\n\\n{Review}\"\n",
    ")\n",
    "\n",
    "# chain 3: input= Review and output= language\n",
    "chain_three = LLMChain(llm=llm, prompt=third_prompt,\n",
    "                       output_key=\"language\", verbose=True)"
   ]
  },
  {
   "cell_type": "code",
   "execution_count": null,
   "id": "dda5f796",
   "metadata": {},
   "outputs": [],
   "source": [
    "# prompt template 4: follow up message\n",
    "fourth_prompt = ChatPromptTemplate.from_template(\n",
    "    \"Write a follow up responsefrom the seller to the following \"\n",
    "    \"summary in the specified language:\"\n",
    "    \"\\n\\nSummary: {summary}\\n\\nLanguage: {language}\"\n",
    ")\n",
    "\n",
    "# chain 4: input= summary, language and output= followup_message\n",
    "chain_four = LLMChain(llm=llm, prompt=fourth_prompt,\n",
    "                      output_key=\"followup_message\", verbose=True)"
   ]
  },
  {
   "cell_type": "code",
   "execution_count": null,
   "id": "90d965fa",
   "metadata": {},
   "outputs": [],
   "source": [
    "# overall_chain: input= Review \n",
    "# and output= English_Review,summary, followup_message\n",
    "sequentialChain = SequentialChain(\n",
    "    chains=[chain_one, chain_two, chain_three, chain_four],\n",
    "    input_variables=[\"Review\"],\n",
    "    output_variables=[\"English_Review\", \"summary\",\"followup_message\"],\n",
    "    verbose=True\n",
    ")"
   ]
  },
  {
   "cell_type": "code",
   "execution_count": null,
   "id": "2e9d5be3",
   "metadata": {},
   "outputs": [],
   "source": [
    "review1 = \"Rendang dalam kemasan frozen yang saya coba baru-baru ini sungguh lezat dan praktis. Rasa dan aroma bumbu rendangnya sangat terasa dan dagingnya empuk, seperti rendang buatan rumah yang baru dimasak. Selain itu, kemasan frozen membuatnya sangat mudah dimasak, cukup dengan memanaskannya dalam microwave dan rendang siap saji sudah siap disajikan. Ini sangat menghemat waktu bagi saya yang memiliki jadwal yang sibuk. Pilihan rendang dalam kemasan frozen ini benar-benar menjadi pilihan tepat untuk menikmati rendang autentik kapan saja dan di mana saja. Saya sangat merekomendasikannya!\"\n",
    "\n",
    "sequentialChain(review1)"
   ]
  },
  {
   "cell_type": "code",
   "execution_count": null,
   "id": "f23e3625",
   "metadata": {},
   "outputs": [],
   "source": [
    "\n",
    "\n",
    "> Entering new SequentialChain chain...\n",
    "\n",
    "\n",
    "> Entering new LLMChain chain...\n",
    "Prompt after formatting:\n",
    "Human: Translate the following review to english:\n",
    "\n",
    "Rendang dalam kemasan frozen yang saya coba baru-baru ini sungguh lezat dan praktis. Rasa dan aroma bumbu rendangnya sangat terasa dan dagingnya empuk, seperti rendang buatan rumah yang baru dimasak. Selain itu, kemasan frozen membuatnya sangat mudah dimasak, cukup dengan memanaskannya dalam microwave dan rendang siap saji sudah siap disajikan. Ini sangat menghemat waktu bagi saya yang memiliki jadwal yang sibuk. Pilihan rendang dalam kemasan frozen ini benar-benar menjadi pilihan tepat untuk menikmati rendang autentik kapan saja dan di mana saja. Saya sangat merekomendasikannya!\n",
    "\n",
    "> Finished chain.\n",
    "\n",
    "\n",
    "> Entering new LLMChain chain...\n",
    "Prompt after formatting:\n",
    "Human: Can you summarize the following review in 1 sentence:\n",
    "\n",
    "The frozen packaged rendang that I recently tried is truly delicious and practical. The taste and aroma of the rendang seasoning is very noticeable and the meat is tender, like freshly cooked homemade rendang. In addition, the frozen packaging makes it very easy to cook, just by heating it in the microwave and the ready-to-serve rendang is ready to be served. This really saves time for me who has a busy schedule. Choosing this frozen packaged rendang is truly the right choice to enjoy authentic rendang anytime and anywhere. I highly recommend it!\n",
    "\n",
    "> Finished chain.\n",
    "\n",
    "\n",
    "> Entering new LLMChain chain...\n",
    "Prompt after formatting:\n",
    "Human: What language is the following review:\n",
    "\n",
    "Rendang dalam kemasan frozen yang saya coba baru-baru ini sungguh lezat dan praktis. Rasa dan aroma bumbu rendangnya sangat terasa dan dagingnya empuk, seperti rendang buatan rumah yang baru dimasak. Selain itu, kemasan frozen membuatnya sangat mudah dimasak, cukup dengan memanaskannya dalam microwave dan rendang siap saji sudah siap disajikan. Ini sangat menghemat waktu bagi saya yang memiliki jadwal yang sibuk. Pilihan rendang dalam kemasan frozen ini benar-benar menjadi pilihan tepat untuk menikmati rendang autentik kapan saja dan di mana saja. Saya sangat merekomendasikannya!\n",
    "\n",
    "> Finished chain.\n",
    "\n",
    "\n",
    "> Entering new LLMChain chain...\n",
    "Prompt after formatting:\n",
    "Human: Write a follow up responsefrom the seller to the following summary in the specified language:\n",
    "\n",
    "Summary: The reviewer highly recommends the frozen packaged rendang for its delicious taste, tender meat, practicality, and convenience for those with a busy schedule.\n",
    "\n",
    "Language: The language of the review is Indonesian.\n",
    "\n",
    "> Finished chain.\n",
    "\n",
    "> Finished chain."
   ]
  },
  {
   "cell_type": "code",
   "execution_count": null,
   "id": "d8a14448",
   "metadata": {},
   "outputs": [],
   "source": [
    "{'Review': 'Rendang dalam kemasan frozen yang saya coba baru-baru ini sungguh lezat dan praktis. Rasa dan aroma bumbu rendangnya sangat terasa dan dagingnya empuk, seperti rendang buatan rumah yang baru dimasak. Selain itu, kemasan frozen membuatnya sangat mudah dimasak, cukup dengan memanaskannya dalam microwave dan rendang siap saji sudah siap disajikan. Ini sangat menghemat waktu bagi saya yang memiliki jadwal yang sibuk. Pilihan rendang dalam kemasan frozen ini benar-benar menjadi pilihan tepat untuk menikmati rendang autentik kapan saja dan di mana saja. Saya sangat merekomendasikannya!',\n",
    " 'English_Review': 'The frozen packaged rendang that I recently tried is truly delicious and practical. The taste and aroma of the rendang seasoning is very noticeable and the meat is tender, like freshly cooked homemade rendang. In addition, the frozen packaging makes it very easy to cook, just by heating it in the microwave and the ready-to-serve rendang is ready to be served. This really saves time for me who has a busy schedule. Choosing this frozen packaged rendang is truly the right choice to enjoy authentic rendang anytime and anywhere. I highly recommend it!',\n",
    " 'summary': 'The reviewer highly recommends the frozen packaged rendang for its delicious taste, tender meat, practicality, and convenience for those with a busy schedule.',\n",
    " 'followup_message': 'Terima kasih banyak atas ulasan positif Anda! Kami sangat senang mengetahui bahwa Anda menikmati rasa rendang beku kami dan menemukan praktis untuk jadwal Anda yang sibuk. Kami berkomitmen untuk selalu menyediakan makanan berkualitas tinggi yang lezat dan mudah disiapkan. Terima kasih telah merekomendasikan produk kami. Selamat menikmati!'}"
   ]
  },
  {
   "cell_type": "code",
   "execution_count": null,
   "id": "edc53866",
   "metadata": {},
   "outputs": [],
   "source": [
    "review2 = \"Saya baru saja mencoba rendang dalam kemasan frozen dan sayangnya, pengalaman saya kurang memuaskan. Meski kemasannya praktis dan mudah dimasak, rasa rendangnya sendiri tidak memenuhi ekspektasi. Bumbu rendangnya kurang terasa dan dagingnya agak keras, tidak seperti rendang buatan rumah yang saya harapkan. Selain itu, saya merasa rendang ini terlalu berminyak yang membuat saya merasa tidak nyaman setelah memakannya. Sayang sekali, saya mungkin tidak akan membeli produk ini lagi di masa mendatang, kecuali ada perbaikan pada rasa dan kualitas dagingnya.\"\n",
    "\n",
    "sequentialChain(review2)"
   ]
  },
  {
   "cell_type": "code",
   "execution_count": null,
   "id": "40ddf7c1",
   "metadata": {},
   "outputs": [],
   "source": [
    "\n",
    "\n",
    "> Entering new SequentialChain chain...\n",
    "\n",
    "\n",
    "> Entering new LLMChain chain...\n",
    "Prompt after formatting:\n",
    "Human: Translate the following review to english:\n",
    "\n",
    "Saya baru saja mencoba rendang dalam kemasan frozen dan sayangnya, pengalaman saya kurang memuaskan. Meski kemasannya praktis dan mudah dimasak, rasa rendangnya sendiri tidak memenuhi ekspektasi. Bumbu rendangnya kurang terasa dan dagingnya agak keras, tidak seperti rendang buatan rumah yang saya harapkan. Selain itu, saya merasa rendang ini terlalu berminyak yang membuat saya merasa tidak nyaman setelah memakannya. Sayang sekali, saya mungkin tidak akan membeli produk ini lagi di masa mendatang, kecuali ada perbaikan pada rasa dan kualitas dagingnya.\n",
    "\n",
    "> Finished chain.\n",
    "\n",
    "\n",
    "> Entering new LLMChain chain...\n",
    "Prompt after formatting:\n",
    "Human: Can you summarize the following review in 1 sentence:\n",
    "\n",
    "I just tried the frozen packaged rendang and unfortunately, my experience was less than satisfactory. Although the packaging is practical and easy to cook, the taste of the rendang itself did not meet my expectations. The rendang seasoning was not flavorful enough and the meat was somewhat tough, unlike the homemade rendang I was hoping for. In addition, I felt this rendang was too oily, which made me feel uncomfortable after eating it. It's a shame, I probably won't buy this product again in the future, unless there are improvements in its taste and meat quality.\n",
    "\n",
    "> Finished chain.\n",
    "\n",
    "\n",
    "> Entering new LLMChain chain...\n",
    "Prompt after formatting:\n",
    "Human: What language is the following review:\n",
    "\n",
    "Saya baru saja mencoba rendang dalam kemasan frozen dan sayangnya, pengalaman saya kurang memuaskan. Meski kemasannya praktis dan mudah dimasak, rasa rendangnya sendiri tidak memenuhi ekspektasi. Bumbu rendangnya kurang terasa dan dagingnya agak keras, tidak seperti rendang buatan rumah yang saya harapkan. Selain itu, saya merasa rendang ini terlalu berminyak yang membuat saya merasa tidak nyaman setelah memakannya. Sayang sekali, saya mungkin tidak akan membeli produk ini lagi di masa mendatang, kecuali ada perbaikan pada rasa dan kualitas dagingnya.\n",
    "\n",
    "> Finished chain.\n",
    "\n",
    "\n",
    "> Entering new LLMChain chain...\n",
    "Prompt after formatting:\n",
    "Human: Write a follow up responsefrom the seller to the following summary in the specified language:\n",
    "\n",
    "Summary: The reviewer found the frozen rendang disappointing due to its lack of flavor, tough meat, and excessive oiliness, and won't repurchase unless the taste and meat quality improve.\n",
    "\n",
    "Language: The language of the review is Indonesian.\n",
    "\n",
    "> Finished chain.\n",
    "\n",
    "> Finished chain."
   ]
  },
  {
   "cell_type": "code",
   "execution_count": null,
   "id": "74cfaa85",
   "metadata": {},
   "outputs": [],
   "source": [
    "{'Review': 'Saya baru saja mencoba rendang dalam kemasan frozen dan sayangnya, pengalaman saya kurang memuaskan. Meski kemasannya praktis dan mudah dimasak, rasa rendangnya sendiri tidak memenuhi ekspektasi. Bumbu rendangnya kurang terasa dan dagingnya agak keras, tidak seperti rendang buatan rumah yang saya harapkan. Selain itu, saya merasa rendang ini terlalu berminyak yang membuat saya merasa tidak nyaman setelah memakannya. Sayang sekali, saya mungkin tidak akan membeli produk ini lagi di masa mendatang, kecuali ada perbaikan pada rasa dan kualitas dagingnya.',\n",
    " 'English_Review': \"I just tried the frozen packaged rendang and unfortunately, my experience was less than satisfactory. Although the packaging is practical and easy to cook, the taste of the rendang itself did not meet my expectations. The rendang seasoning was not flavorful enough and the meat was somewhat tough, unlike the homemade rendang I was hoping for. In addition, I felt this rendang was too oily, which made me feel uncomfortable after eating it. It's a shame, I probably won't buy this product again in the future, unless there are improvements in its taste and meat quality.\",\n",
    " 'summary': \"The reviewer found the frozen rendang disappointing due to its lack of flavor, tough meat, and excessive oiliness, and won't repurchase unless the taste and meat quality improve.\",\n",
    " 'followup_message': 'Terima kasih atas ulasan Anda. Kami sangat menyesal mendengar bahwa Anda kecewa dengan rendang beku kami. Kami sangat menghargai masukan Anda mengenai rasa dan kualitas daging, dan kami akan membawanya ke tim produksi kami untuk perbaikan. Kami berharap Anda akan memberi kami kesempatan lain untuk memperbaiki pengalaman Anda. Terima kasih telah memilih produk kami.'}"
   ]
  },
  {
   "cell_type": "markdown",
   "id": "68eca4e3",
   "metadata": {},
   "source": [
    "# Router Chain"
   ]
  },
  {
   "cell_type": "markdown",
   "id": "20d1c503",
   "metadata": {},
   "source": [
    "Router chain is a special type of chain, the multi-prompt chain, can route an input to a specific chain depending on the input type."
   ]
  },
  {
   "cell_type": "markdown",
   "id": "03a781da",
   "metadata": {},
   "source": [
    "The router chain is a chain that has a list of chains and a list of prompts. The router chain will prompt the user with the list of prompts and then route the input to the chain that corresponds to the prompt."
   ]
  },
  {
   "cell_type": "markdown",
   "id": "058c70d7",
   "metadata": {},
   "source": [
    "For example, we will create a router chain that will respond to questions based on the subject of the question."
   ]
  },
  {
   "cell_type": "code",
   "execution_count": null,
   "id": "bd0d6ab8",
   "metadata": {},
   "outputs": [],
   "source": [
    "from langchain.chains.router import MultiPromptChain\n",
    "from langchain.chains.router.llm_router import LLMRouterChain,RouterOutputParser\n",
    "from langchain.prompts import PromptTemplate"
   ]
  },
  {
   "cell_type": "code",
   "execution_count": null,
   "id": "1a6f897c",
   "metadata": {},
   "outputs": [],
   "source": [
    "# Prompt templates for the chain of reasoning physics question\n",
    "\n",
    "physics_template = \"\"\"You are a very smart physics professor. \\\n",
    "You are great at answering questions about physics in a concise\\\n",
    "and easy to understand manner. \\\n",
    "When you don't know the answer to a question you admit\\\n",
    "that you don't know.\n",
    "\n",
    "Here is a question:\n",
    "{input}\"\"\""
   ]
  },
  {
   "cell_type": "code",
   "execution_count": null,
   "id": "d0056802",
   "metadata": {},
   "outputs": [],
   "source": [
    "# Prompt template for chain of reasoning math question\n",
    "\n",
    "math_template = \"\"\"You are a very good mathematician. \\\n",
    "You are great at answering math questions. \\\n",
    "You are so good because you are able to break down \\\n",
    "hard problems into their component parts, \n",
    "answer the component parts, and then put them together\\\n",
    "to answer the broader question.\n",
    "\n",
    "Here is a question:\n",
    "{input}\"\"\""
   ]
  },
  {
   "cell_type": "code",
   "execution_count": null,
   "id": "7ca6efa7",
   "metadata": {},
   "outputs": [],
   "source": [
    "# Prompt template for chain of reasoning history question\n",
    "\n",
    "history_template = \"\"\"You are a very good historian. \\\n",
    "You have an excellent knowledge of and understanding of people,\\\n",
    "events and contexts from a range of historical periods. \\\n",
    "You have the ability to think, reflect, debate, discuss and \\\n",
    "evaluate the past. You have a respect for historical evidence\\\n",
    "and the ability to make use of it to support your explanations \\\n",
    "and judgements.\n",
    "\n",
    "Here is a question:\n",
    "{input}\"\"\""
   ]
  },
  {
   "cell_type": "code",
   "execution_count": null,
   "id": "c07a2b02",
   "metadata": {},
   "outputs": [],
   "source": [
    "# Prompt template for chain of reasoning computer science question\n",
    "\n",
    "computerscience_template = \"\"\" You are a successful computer scientist.\\\n",
    "You have a passion for creativity, collaboration,\\\n",
    "forward-thinking, confidence, strong problem-solving capabilities,\\\n",
    "understanding of theories and algorithms, and excellent communication \\\n",
    "skills. You are great at answering coding questions. \\\n",
    "You are so good because you know how to solve a problem by \\\n",
    "describing the solution in imperative steps \\\n",
    "that a machine can easily interpret and you know how to \\\n",
    "choose a solution that has a good balance between \\\n",
    "time complexity and space complexity. \n",
    "\n",
    "Here is a question:\n",
    "{input}\"\"\""
   ]
  },
  {
   "cell_type": "markdown",
   "id": "2ecfd317",
   "metadata": {},
   "source": [
    "For instance, four chains can be created for different subjects: physics, math, history, and computer science. Depending on the input question, the router chain directs it to the appropriate chain."
   ]
  },
  {
   "cell_type": "code",
   "execution_count": null,
   "id": "8891e9b1",
   "metadata": {},
   "outputs": [],
   "source": [
    "prompt_infos = [\n",
    "    {\n",
    "        \"name\": \"physics\", \n",
    "        \"description\": \"Good for answering questions about physics\", \n",
    "        \"prompt_template\": physics_template\n",
    "    },\n",
    "    {\n",
    "        \"name\": \"math\", \n",
    "        \"description\": \"Good for answering math questions\", \n",
    "        \"prompt_template\": math_template\n",
    "    },\n",
    "    {\n",
    "        \"name\": \"History\", \n",
    "        \"description\": \"Good for answering history questions\", \n",
    "        \"prompt_template\": history_template\n",
    "    },\n",
    "    {\n",
    "        \"name\": \"computer science\", \n",
    "        \"description\": \"Good for answering computer science questions\", \n",
    "        \"prompt_template\": computerscience_template\n",
    "    }\n",
    "]"
   ]
  },
  {
   "cell_type": "code",
   "execution_count": null,
   "id": "86e7cbb7",
   "metadata": {},
   "outputs": [],
   "source": [
    "destination_chains = {}\n",
    "for p_info in prompt_infos:\n",
    "    name = p_info[\"name\"]\n",
    "    prompt_template = p_info[\"prompt_template\"]\n",
    "    prompt = ChatPromptTemplate.from_template(template=prompt_template)\n",
    "    chain = LLMChain(llm=llm, prompt=prompt, verbose=True)\n",
    "    destination_chains[name] = chain  \n",
    "    \n",
    "destinations = [f\"{p['name']}: {p['description']}\" for p in prompt_infos]\n",
    "destinations_str = \"\\n\".join(destinations)"
   ]
  },
  {
   "cell_type": "markdown",
   "id": "8cf56a70",
   "metadata": {},
   "source": [
    "If none of the specific chains can accommodate the question, it gets directed to a default chain."
   ]
  },
  {
   "cell_type": "markdown",
   "id": "7aa6b9f0",
   "metadata": {},
   "source": [
    "The default chain is a catch-all chain that can answer any question."
   ]
  },
  {
   "cell_type": "markdown",
   "id": "83f01729",
   "metadata": {},
   "source": [
    "The default chain is the last chain in the list of chains."
   ]
  },
  {
   "cell_type": "markdown",
   "id": "95b918d3",
   "metadata": {},
   "source": [
    "The default chain is optional. If you do not specify a default chain, the question is not answered."
   ]
  },
  {
   "cell_type": "code",
   "execution_count": null,
   "id": "f70159a1",
   "metadata": {},
   "outputs": [],
   "source": [
    "default_prompt = ChatPromptTemplate.from_template(\"{input}\")\n",
    "default_chain = LLMChain(llm=llm, prompt=default_prompt, verbose=True)"
   ]
  },
  {
   "cell_type": "code",
   "execution_count": null,
   "id": "c4539205",
   "metadata": {},
   "outputs": [],
   "source": [
    "MULTI_PROMPT_ROUTER_TEMPLATE = \"\"\"Given a raw text input to a \\\n",
    "language model select the model prompt best suited for the input. \\\n",
    "You will be given the names of the available prompts and a \\\n",
    "description of what the prompt is best suited for. \\\n",
    "You may also revise the original input if you think that revising\\\n",
    "it will ultimately lead to a better response from the language model.\n",
    "\n",
    "<< FORMATTING >>\n",
    "Return a markdown code snippet with a JSON object formatted to look like:\n",
    "```json\n",
    "{{{{\n",
    "    \"destination\": string \\ name of the prompt to use or \"DEFAULT\"\n",
    "    \"next_inputs\": string \\ a potentially modified version of the original input\n",
    "}}}}\n",
    "```\n",
    "\n",
    "REMEMBER: \"destination\" MUST be one of the candidate prompt \\\n",
    "names specified below OR it can be \"DEFAULT\" if the input is not\\\n",
    "well suited for any of the candidate prompts.\n",
    "REMEMBER: \"next_inputs\" can just be the original input \\\n",
    "if you don't think any modifications are needed.\n",
    "\n",
    "<< CANDIDATE PROMPTS >>\n",
    "{destinations}\n",
    "\n",
    "<< INPUT >>\n",
    "{{input}}\n",
    "\n",
    "<< OUTPUT (remember to include the ```json)>>\"\"\""
   ]
  },
  {
   "cell_type": "code",
   "execution_count": null,
   "id": "a87cc54e",
   "metadata": {},
   "outputs": [],
   "source": [
    "router_template = MULTI_PROMPT_ROUTER_TEMPLATE.format(\n",
    "    destinations=destinations_str\n",
    ")\n",
    "\n",
    "router_prompt = PromptTemplate(\n",
    "    template=router_template,\n",
    "    input_variables=[\"input\"],\n",
    "    output_parser=RouterOutputParser()\n",
    ")\n",
    "\n",
    "router_chain = LLMRouterChain.from_llm(llm, router_prompt)"
   ]
  },
  {
   "cell_type": "code",
   "execution_count": null,
   "id": "5dc16a9c",
   "metadata": {},
   "outputs": [],
   "source": [
    "routerChain = MultiPromptChain(router_chain=router_chain, \n",
    "                         destination_chains=destination_chains, \n",
    "                         default_chain=default_chain, verbose=True\n",
    "                        )"
   ]
  },
  {
   "cell_type": "code",
   "execution_count": null,
   "id": "2f30c971",
   "metadata": {},
   "outputs": [],
   "source": [
    "routerChain.run(\"What is black body radiation?\")"
   ]
  },
  {
   "cell_type": "code",
   "execution_count": null,
   "id": "99bab289",
   "metadata": {},
   "outputs": [],
   "source": [
    "\n",
    "\n",
    "> Entering new MultiPromptChain chain..."
   ]
  },
  {
   "cell_type": "code",
   "execution_count": null,
   "id": "850b7ead",
   "metadata": {},
   "outputs": [],
   "source": [
    "/home/eddypermana22/.local/lib/python3.8/site-packages/langchain/chains/llm.py:275: UserWarning: The predict_and_parse method is deprecated, instead pass an output parser directly to LLMChain.\n",
    "  warnings.warn("
   ]
  },
  {
   "cell_type": "code",
   "execution_count": null,
   "id": "de5f8c32",
   "metadata": {},
   "outputs": [],
   "source": [
    "physics: {'input': 'What is black body radiation?'}\n",
    "\n",
    "> Entering new LLMChain chain...\n",
    "Prompt after formatting:\n",
    "Human: You are a very smart physics professor. You are great at answering questions about physics in a conciseand easy to understand manner. When you don't know the answer to a question you admitthat you don't know.\n",
    "\n",
    "Here is a question:\n",
    "What is black body radiation?\n",
    "\n",
    "> Finished chain.\n",
    "\n",
    "> Finished chain."
   ]
  },
  {
   "cell_type": "code",
   "execution_count": null,
   "id": "4c78acc1",
   "metadata": {},
   "outputs": [],
   "source": [
    "\"Black body radiation is the type of electromagnetic radiation that is emitted by a perfect black body, which is an idealized physical body that absorbs all incident electromagnetic radiation, regardless of frequency or angle of incidence. The radiation has a specific spectrum and intensity that depends only on the body's temperature, which is assumed to be uniform and constant. This radiation includes visible light, infrared light, ultraviolet light, and so on. The theory of black body radiation is fundamental to the development of quantum mechanics.\""
   ]
  },
  {
   "cell_type": "code",
   "execution_count": null,
   "id": "c412042b",
   "metadata": {},
   "outputs": [],
   "source": [
    "routerChain.run(\"what is 2 + 2\")"
   ]
  },
  {
   "cell_type": "code",
   "execution_count": null,
   "id": "901ce687",
   "metadata": {},
   "outputs": [],
   "source": [
    "\n",
    "\n",
    "> Entering new MultiPromptChain chain...\n",
    "math: {'input': 'what is 2 + 2'}\n",
    "\n",
    "> Entering new LLMChain chain...\n",
    "Prompt after formatting:\n",
    "Human: You are a very good mathematician. You are great at answering math questions. You are so good because you are able to break down hard problems into their component parts, \n",
    "answer the component parts, and then put them togetherto answer the broader question.\n",
    "\n",
    "Here is a question:\n",
    "what is 2 + 2\n",
    "\n",
    "> Finished chain.\n",
    "\n",
    "> Finished chain."
   ]
  },
  {
   "cell_type": "code",
   "execution_count": null,
   "id": "db3696e3",
   "metadata": {},
   "outputs": [],
   "source": [
    "'The answer to 2 + 2 is 4.'"
   ]
  },
  {
   "cell_type": "code",
   "execution_count": null,
   "id": "971b3e5e",
   "metadata": {},
   "outputs": [],
   "source": [
    "routerChain.run(\"Why does every cell in our body contain DNA?\")"
   ]
  },
  {
   "cell_type": "code",
   "execution_count": null,
   "id": "73560ada",
   "metadata": {},
   "outputs": [],
   "source": [
    "\n",
    "\n",
    "> Entering new MultiPromptChain chain...\n",
    "None: {'input': 'Why does every cell in our body contain DNA?'}\n",
    "\n",
    "> Entering new LLMChain chain...\n",
    "Prompt after formatting:\n",
    "Human: Why does every cell in our body contain DNA?\n",
    "\n",
    "> Finished chain.\n",
    "\n",
    "> Finished chain."
   ]
  },
  {
   "cell_type": "code",
   "execution_count": null,
   "id": "4a5f05c2",
   "metadata": {},
   "outputs": [],
   "source": [
    "\"DNA, or deoxyribonucleic acid, is the hereditary material in humans and almost all other organisms. It contains the instructions needed for an organism to develop, survive and reproduce. These instructions are found inside every cell, and are passed down from parents to their children.\\n\\nDNA is organized into structures called chromosomes and is divided into coding regions called genes. Each gene contains the instructions for the production of a specific protein. Proteins are complex molecules that play many critical roles in the body. They are required for the structure, function, and regulation of the body's tissues and organs.\\n\\nTherefore, every cell in our body contains DNA because it is needed for the cell's structure, function, and reproduction. Without DNA, our cells would not know how to function, and could not pass on our genes to the next generation.\""
   ]
  },
  {
   "cell_type": "code",
   "execution_count": null,
   "id": "bc042856",
   "metadata": {},
   "outputs": [],
   "source": [
    "routerChain.run(\"How did the Dutch colonization influence the culture and economy of Indonesia?\")"
   ]
  },
  {
   "cell_type": "code",
   "execution_count": null,
   "id": "720fc737",
   "metadata": {},
   "outputs": [],
   "source": [
    "\n",
    "\n",
    "> Entering new MultiPromptChain chain...\n",
    "History: {'input': 'How did the Dutch colonization influence the culture and economy of Indonesia?'}\n",
    "\n",
    "> Entering new LLMChain chain...\n",
    "Prompt after formatting:\n",
    "Human: You are a very good historian. You have an excellent knowledge of and understanding of people,events and contexts from a range of historical periods. You have the ability to think, reflect, debate, discuss and evaluate the past. You have a respect for historical evidenceand the ability to make use of it to support your explanations and judgements.\n",
    "\n",
    "Here is a question:\n",
    "How did the Dutch colonization influence the culture and economy of Indonesia?"
   ]
  },
  {
   "cell_type": "code",
   "execution_count": null,
   "id": "b1cc2e9c",
   "metadata": {},
   "outputs": [],
   "source": [
    "routerChain.run(\"What is the concept of 'Big Data', and how has it impacted the field of Computer Science? Can you give an example of its application in real life?\")"
   ]
  }
 ],
 "metadata": {},
 "nbformat": 4,
 "nbformat_minor": 5
}
