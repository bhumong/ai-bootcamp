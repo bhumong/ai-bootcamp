{
 "cells": [
  {
   "cell_type": "markdown",
   "id": "450bd040",
   "metadata": {},
   "source": [
    "source: [link](https://ai-bootcamp.ruangguru.com/learn/08_langchain/04_chain/01_chain_exercise.html)"
   ]
  },
  {
   "cell_type": "markdown",
   "id": "fce73096",
   "metadata": {},
   "source": [
    "# Chain Exercise"
   ]
  },
  {
   "cell_type": "code",
   "execution_count": null,
   "id": "af1f9414",
   "metadata": {},
   "outputs": [],
   "source": [
    "!pip install langchain openai python-dotenv"
   ]
  },
  {
   "cell_type": "code",
   "execution_count": null,
   "id": "efec1e94",
   "metadata": {},
   "outputs": [],
   "source": [
    "import os\n",
    "\n",
    "from dotenv import load_dotenv, find_dotenv\n",
    "_ = load_dotenv(find_dotenv()) # read local .env file"
   ]
  },
  {
   "cell_type": "code",
   "execution_count": null,
   "id": "9bcdd5c5",
   "metadata": {},
   "outputs": [],
   "source": [
    "from langchain.chat_models import ChatOpenAI\n",
    "from langchain.prompts import ChatPromptTemplate\n",
    "\n",
    "OpenAIModel = \"gpt-4\"\n",
    "llm = ChatOpenAI(model=OpenAIModel, temperature=0.1)"
   ]
  },
  {
   "cell_type": "code",
   "execution_count": null,
   "id": "1ccb3b45",
   "metadata": {},
   "outputs": [],
   "source": [
    "# @title #### Student Identity\n",
    "student_id = \"your student id\" # @param {type:\"string\"}\n",
    "name = \"your name\" # @param {type:\"string\"}\n",
    "assignment_id = \"00_langchain-exercise\""
   ]
  },
  {
   "cell_type": "code",
   "execution_count": null,
   "id": "0fc287b9",
   "metadata": {},
   "outputs": [],
   "source": [
    "# Intalling Libs\n",
    "%pip install rggrader"
   ]
  },
  {
   "cell_type": "markdown",
   "id": "7033c0d8",
   "metadata": {},
   "source": [
    "# Simple Chain"
   ]
  },
  {
   "cell_type": "markdown",
   "id": "0433e018",
   "metadata": {},
   "source": [
    "Let’s create a simple chain that will generate a list of movie titles where we can input the movie category and/or movie description."
   ]
  },
  {
   "cell_type": "code",
   "execution_count": null,
   "id": "2cd8b9bb",
   "metadata": {},
   "outputs": [],
   "source": [
    "# @title #### 01. Simple Chain Exercise\n",
    "from rggrader import submit\n",
    "\n",
    "# Put your code here:\n",
    "\n",
    "\n",
    "# ---- End of your code ----\n",
    "\n",
    "# Submit Method\n",
    "question_id = \"01_simple-langchain-exercise\"\n",
    "submit(student_id, name, assignment_id, str(answer), question_id)"
   ]
  },
  {
   "cell_type": "markdown",
   "id": "aab65e3e",
   "metadata": {},
   "source": [
    "# Sequential Chain"
   ]
  },
  {
   "cell_type": "markdown",
   "id": "2ab8f065",
   "metadata": {},
   "source": [
    "Let’s create a sequential chain from our previous answer this time we will ask the LLM to create a movie synopsis based on the title. If your previous answer have more than one option, please change the code to return only one answer."
   ]
  },
  {
   "cell_type": "code",
   "execution_count": null,
   "id": "d9588092",
   "metadata": {},
   "outputs": [],
   "source": [
    "# @title #### 02. Sequential Chain Exercise\n",
    "from rggrader import submit\n",
    "\n",
    "# Put your code here:\n",
    "answer = \"\"\n",
    "\n",
    "# ---- End of your code ----\n",
    "\n",
    "# Submit Method\n",
    "question_id = \"02_sequential-langchain-exercise\"\n",
    "submit(student_id, name, assignment_id, str(answer), question_id)"
   ]
  },
  {
   "cell_type": "markdown",
   "id": "d7211772",
   "metadata": {},
   "source": [
    "# Self Exploration"
   ]
  },
  {
   "cell_type": "markdown",
   "id": "0641432d",
   "metadata": {},
   "source": [
    "Can you create more complex chains ?"
   ]
  }
 ],
 "metadata": {},
 "nbformat": 4,
 "nbformat_minor": 5
}
