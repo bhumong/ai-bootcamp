{
 "cells": [
  {
   "cell_type": "markdown",
   "id": "29a3eed6",
   "metadata": {},
   "source": [
    "# Chain Exercise"
   ]
  },
  {
   "cell_type": "code",
   "execution_count": null,
   "id": "d63026ef",
   "metadata": {},
   "outputs": [],
   "source": [
    "!pip install langchain openai python-dotenv"
   ]
  },
  {
   "cell_type": "code",
   "execution_count": null,
   "id": "51a76c2e",
   "metadata": {},
   "outputs": [],
   "source": [
    "Requirement already satisfied: langchain in /Users/ruangguru/Projects/ai-bootcamp/env/lib/python3.11/site-packages (0.0.300)\n",
    "Requirement already satisfied: openai in /Users/ruangguru/Projects/ai-bootcamp/env/lib/python3.11/site-packages (0.28.0)\n",
    "Requirement already satisfied: python-dotenv in /Users/ruangguru/Projects/ai-bootcamp/env/lib/python3.11/site-packages (1.0.0)\n",
    "Requirement already satisfied: PyYAML>=5.3 in /Users/ruangguru/Projects/ai-bootcamp/env/lib/python3.11/site-packages (from langchain) (6.0.1)\n",
    "Requirement already satisfied: SQLAlchemy<3,>=1.4 in /Users/ruangguru/Projects/ai-bootcamp/env/lib/python3.11/site-packages (from langchain) (1.4.49)\n",
    "Requirement already satisfied: aiohttp<4.0.0,>=3.8.3 in /Users/ruangguru/Projects/ai-bootcamp/env/lib/python3.11/site-packages (from langchain) (3.8.5)\n",
    "Requirement already satisfied: anyio<4.0 in /Users/ruangguru/Projects/ai-bootcamp/env/lib/python3.11/site-packages (from langchain) (3.7.1)\n",
    "Requirement already satisfied: dataclasses-json<0.7,>=0.5.7 in /Users/ruangguru/Projects/ai-bootcamp/env/lib/python3.11/site-packages (from langchain) (0.6.0)\n",
    "Requirement already satisfied: jsonpatch<2.0,>=1.33 in /Users/ruangguru/Projects/ai-bootcamp/env/lib/python3.11/site-packages (from langchain) (1.33)\n",
    "Requirement already satisfied: langsmith<0.1.0,>=0.0.38 in /Users/ruangguru/Projects/ai-bootcamp/env/lib/python3.11/site-packages (from langchain) (0.0.40)\n",
    "Requirement already satisfied: numexpr<3.0.0,>=2.8.4 in /Users/ruangguru/Projects/ai-bootcamp/env/lib/python3.11/site-packages (from langchain) (2.8.6)\n",
    "Requirement already satisfied: numpy<2,>=1 in /Users/ruangguru/Projects/ai-bootcamp/env/lib/python3.11/site-packages (from langchain) (1.25.2)\n",
    "Requirement already satisfied: pydantic<3,>=1 in /Users/ruangguru/Projects/ai-bootcamp/env/lib/python3.11/site-packages (from langchain) (2.3.0)\n",
    "Requirement already satisfied: requests<3,>=2 in /Users/ruangguru/Projects/ai-bootcamp/env/lib/python3.11/site-packages (from langchain) (2.31.0)\n",
    "Requirement already satisfied: tenacity<9.0.0,>=8.1.0 in /Users/ruangguru/Projects/ai-bootcamp/env/lib/python3.11/site-packages (from langchain) (8.2.3)\n",
    "Requirement already satisfied: tqdm in /Users/ruangguru/Projects/ai-bootcamp/env/lib/python3.11/site-packages (from openai) (4.64.1)\n",
    "Requirement already satisfied: attrs>=17.3.0 in /Users/ruangguru/Projects/ai-bootcamp/env/lib/python3.11/site-packages (from aiohttp<4.0.0,>=3.8.3->langchain) (23.1.0)\n",
    "Requirement already satisfied: charset-normalizer<4.0,>=2.0 in /Users/ruangguru/Projects/ai-bootcamp/env/lib/python3.11/site-packages (from aiohttp<4.0.0,>=3.8.3->langchain) (3.2.0)\n",
    "Requirement already satisfied: multidict<7.0,>=4.5 in /Users/ruangguru/Projects/ai-bootcamp/env/lib/python3.11/site-packages (from aiohttp<4.0.0,>=3.8.3->langchain) (6.0.4)\n",
    "Requirement already satisfied: async-timeout<5.0,>=4.0.0a3 in /Users/ruangguru/Projects/ai-bootcamp/env/lib/python3.11/site-packages (from aiohttp<4.0.0,>=3.8.3->langchain) (4.0.3)\n",
    "Requirement already satisfied: yarl<2.0,>=1.0 in /Users/ruangguru/Projects/ai-bootcamp/env/lib/python3.11/site-packages (from aiohttp<4.0.0,>=3.8.3->langchain) (1.9.2)\n",
    "Requirement already satisfied: frozenlist>=1.1.1 in /Users/ruangguru/Projects/ai-bootcamp/env/lib/python3.11/site-packages (from aiohttp<4.0.0,>=3.8.3->langchain) (1.4.0)\n",
    "Requirement already satisfied: aiosignal>=1.1.2 in /Users/ruangguru/Projects/ai-bootcamp/env/lib/python3.11/site-packages (from aiohttp<4.0.0,>=3.8.3->langchain) (1.3.1)\n",
    "Requirement already satisfied: idna>=2.8 in /Users/ruangguru/Projects/ai-bootcamp/env/lib/python3.11/site-packages (from anyio<4.0->langchain) (3.4)\n",
    "Requirement already satisfied: sniffio>=1.1 in /Users/ruangguru/Projects/ai-bootcamp/env/lib/python3.11/site-packages (from anyio<4.0->langchain) (1.3.0)\n",
    "Requirement already satisfied: marshmallow<4.0.0,>=3.18.0 in /Users/ruangguru/Projects/ai-bootcamp/env/lib/python3.11/site-packages (from dataclasses-json<0.7,>=0.5.7->langchain) (3.20.1)\n",
    "Requirement already satisfied: typing-inspect<1,>=0.4.0 in /Users/ruangguru/Projects/ai-bootcamp/env/lib/python3.11/site-packages (from dataclasses-json<0.7,>=0.5.7->langchain) (0.9.0)\n",
    "Requirement already satisfied: jsonpointer>=1.9 in /Users/ruangguru/Projects/ai-bootcamp/env/lib/python3.11/site-packages (from jsonpatch<2.0,>=1.33->langchain) (2.4)\n",
    "Requirement already satisfied: annotated-types>=0.4.0 in /Users/ruangguru/Projects/ai-bootcamp/env/lib/python3.11/site-packages (from pydantic<3,>=1->langchain) (0.5.0)\n",
    "Requirement already satisfied: pydantic-core==2.6.3 in /Users/ruangguru/Projects/ai-bootcamp/env/lib/python3.11/site-packages (from pydantic<3,>=1->langchain) (2.6.3)\n",
    "Requirement already satisfied: typing-extensions>=4.6.1 in /Users/ruangguru/Projects/ai-bootcamp/env/lib/python3.11/site-packages (from pydantic<3,>=1->langchain) (4.7.1)\n",
    "Requirement already satisfied: urllib3<3,>=1.21.1 in /Users/ruangguru/Projects/ai-bootcamp/env/lib/python3.11/site-packages (from requests<3,>=2->langchain) (2.0.4)\n",
    "Requirement already satisfied: certifi>=2017.4.17 in /Users/ruangguru/Projects/ai-bootcamp/env/lib/python3.11/site-packages (from requests<3,>=2->langchain) (2023.7.22)\n",
    "Requirement already satisfied: greenlet!=0.4.17 in /Users/ruangguru/Projects/ai-bootcamp/env/lib/python3.11/site-packages (from SQLAlchemy<3,>=1.4->langchain) (2.0.2)\n",
    "Requirement already satisfied: packaging>=17.0 in /Users/ruangguru/Projects/ai-bootcamp/env/lib/python3.11/site-packages (from marshmallow<4.0.0,>=3.18.0->dataclasses-json<0.7,>=0.5.7->langchain) (23.1)\n",
    "Requirement already satisfied: mypy-extensions>=0.3.0 in /Users/ruangguru/Projects/ai-bootcamp/env/lib/python3.11/site-packages (from typing-inspect<1,>=0.4.0->dataclasses-json<0.7,>=0.5.7->langchain) (1.0.0)"
   ]
  },
  {
   "cell_type": "code",
   "execution_count": null,
   "id": "0f02b852",
   "metadata": {},
   "outputs": [],
   "source": [
    "import os\n",
    "\n",
    "from dotenv import load_dotenv, find_dotenv\n",
    "_ = load_dotenv(find_dotenv()) # read local .env file\n",
    "\n",
    "%load_ext dotenv\n",
    "%dotenv ./openai.env"
   ]
  },
  {
   "cell_type": "code",
   "execution_count": null,
   "id": "37f792a9",
   "metadata": {},
   "outputs": [],
   "source": [
    "from langchain.chat_models import ChatOpenAI\n",
    "from langchain.prompts import ChatPromptTemplate\n",
    "\n",
    "OpenAIModel = \"gpt-4\"\n",
    "llm = ChatOpenAI(model=OpenAIModel, temperature=0.1)"
   ]
  },
  {
   "cell_type": "code",
   "execution_count": null,
   "id": "47e0abd5",
   "metadata": {},
   "outputs": [],
   "source": [
    "# @title #### Student Identity\n",
    "student_id = \"REA2023A\" # @param {type:\"string\"}\n",
    "name = \"Ricky\" # @param {type:\"string\"}\n",
    "assignment_id = \"00_langchain-exercise\""
   ]
  },
  {
   "cell_type": "code",
   "execution_count": null,
   "id": "ca8c2bbe",
   "metadata": {},
   "outputs": [],
   "source": [
    "# Intalling Libs\n",
    "%pip install rggrader"
   ]
  },
  {
   "cell_type": "code",
   "execution_count": null,
   "id": "b5b7ce22",
   "metadata": {},
   "outputs": [],
   "source": [
    "Requirement already satisfied: rggrader in /Users/ruangguru/Projects/ai-bootcamp/env/lib/python3.11/site-packages (0.1.6)\n",
    "Requirement already satisfied: requests in /Users/ruangguru/Projects/ai-bootcamp/env/lib/python3.11/site-packages (from rggrader) (2.31.0)\n",
    "Requirement already satisfied: pandas in /Users/ruangguru/Projects/ai-bootcamp/env/lib/python3.11/site-packages (from rggrader) (2.1.0)\n",
    "Requirement already satisfied: Pillow in /Users/ruangguru/Projects/ai-bootcamp/env/lib/python3.11/site-packages (from rggrader) (10.0.0)\n",
    "Requirement already satisfied: numpy>=1.23.2 in /Users/ruangguru/Projects/ai-bootcamp/env/lib/python3.11/site-packages (from pandas->rggrader) (1.25.2)\n",
    "Requirement already satisfied: python-dateutil>=2.8.2 in /Users/ruangguru/Projects/ai-bootcamp/env/lib/python3.11/site-packages (from pandas->rggrader) (2.8.2)\n",
    "Requirement already satisfied: pytz>=2020.1 in /Users/ruangguru/Projects/ai-bootcamp/env/lib/python3.11/site-packages (from pandas->rggrader) (2023.3.post1)\n",
    "Requirement already satisfied: tzdata>=2022.1 in /Users/ruangguru/Projects/ai-bootcamp/env/lib/python3.11/site-packages (from pandas->rggrader) (2023.3)\n",
    "Requirement already satisfied: charset-normalizer<4,>=2 in /Users/ruangguru/Projects/ai-bootcamp/env/lib/python3.11/site-packages (from requests->rggrader) (3.2.0)\n",
    "Requirement already satisfied: idna<4,>=2.5 in /Users/ruangguru/Projects/ai-bootcamp/env/lib/python3.11/site-packages (from requests->rggrader) (3.4)\n",
    "Requirement already satisfied: urllib3<3,>=1.21.1 in /Users/ruangguru/Projects/ai-bootcamp/env/lib/python3.11/site-packages (from requests->rggrader) (2.0.4)\n",
    "Requirement already satisfied: certifi>=2017.4.17 in /Users/ruangguru/Projects/ai-bootcamp/env/lib/python3.11/site-packages (from requests->rggrader) (2023.7.22)\n",
    "Requirement already satisfied: six>=1.5 in /Users/ruangguru/Projects/ai-bootcamp/env/lib/python3.11/site-packages (from python-dateutil>=2.8.2->pandas->rggrader) (1.16.0)\n",
    "Note: you may need to restart the kernel to use updated packages."
   ]
  },
  {
   "cell_type": "markdown",
   "id": "48368a6b",
   "metadata": {},
   "source": [
    "# Simple Chain"
   ]
  },
  {
   "cell_type": "markdown",
   "id": "a301a0d2",
   "metadata": {},
   "source": [
    "Let’s create a simple chain that will generate a list of movie titles where we can input the movie category and/or movie description."
   ]
  },
  {
   "cell_type": "code",
   "execution_count": null,
   "id": "b992625e",
   "metadata": {},
   "outputs": [],
   "source": [
    "# @title #### 01. Simple Chain Exercise\n",
    "from rggrader import submit\n",
    "\n",
    "# Put your code here:\n",
    "from langchain.chains import LLMChain\n",
    "\n",
    "prompt = ChatPromptTemplate.from_template(\n",
    "    \"What is the best movie title to describe \\\n",
    "    a movie category {category}?, please give 1 name in unorder list\"\n",
    ")\n",
    "\n",
    "chain = LLMChain(llm=llm, prompt=prompt)\n",
    "\n",
    "product = \"Action Comedy featuring Three Mice Musketeers\"\n",
    "answer = chain.run(product)\n",
    "\n",
    "print(answer)\n",
    "\n",
    "# ---- End of your code ----\n",
    "\n",
    "# Submit Method\n",
    "question_id = \"01_simple-langchain-exercise\"\n",
    "submit(student_id, name, assignment_id, str(answer), question_id)"
   ]
  },
  {
   "cell_type": "code",
   "execution_count": null,
   "id": "6ea1edc2",
   "metadata": {},
   "outputs": [],
   "source": [
    "1. \"Furrious Adventures: The Three Mice Musketeers\""
   ]
  },
  {
   "cell_type": "code",
   "execution_count": null,
   "id": "5f8d59a5",
   "metadata": {},
   "outputs": [],
   "source": [
    "'Assignment successfully submitted'"
   ]
  },
  {
   "cell_type": "markdown",
   "id": "3d2fcd09",
   "metadata": {},
   "source": [
    "# Sequential Chain"
   ]
  },
  {
   "cell_type": "markdown",
   "id": "77fa627e",
   "metadata": {},
   "source": [
    "Let’s create a sequential chain from our previous answer this time we will ask the LLM to create a movie synopsis based on the title. If your previous answer have more than one option, please change the code to return only one answer."
   ]
  },
  {
   "cell_type": "code",
   "execution_count": null,
   "id": "085be517",
   "metadata": {},
   "outputs": [],
   "source": [
    "# @title #### 02. Sequential Chain Exercise\n",
    "from rggrader import submit\n",
    "\n",
    "# Put your code here:\n",
    "from langchain.chains import SimpleSequentialChain\n",
    "\n",
    "# prompt template 2\n",
    "second_prompt = ChatPromptTemplate.from_template(\n",
    "    \"Write a 20 words synopsis for the following \\\n",
    "    movie title:{title}\"\n",
    ")\n",
    "\n",
    "\n",
    "# chain 2\n",
    "chain_two = LLMChain(llm=llm, prompt=second_prompt, verbose=True)\n",
    "\n",
    "overall_simple_chain = SimpleSequentialChain(chains=[chain, chain_two],verbose=False)\n",
    "\n",
    "answer = overall_simple_chain.run(product)\n",
    "print(answer)\n",
    "\n",
    "# ---- End of your code ----\n",
    "\n",
    "# Submit Method\n",
    "question_id = \"02_sequential-langchain-exercise\"\n",
    "submit(student_id, name, assignment_id, str(answer), question_id)"
   ]
  },
  {
   "cell_type": "code",
   "execution_count": null,
   "id": "a031bb0e",
   "metadata": {},
   "outputs": [],
   "source": [
    "\n",
    "\n",
    "> Entering new LLMChain chain...\n",
    "Prompt after formatting:\n",
    "Human: Write a 20 words synopsis for the following     movie title:1. \"Furrious Furry: The Three Mice Musketeers\"\n",
    "\n",
    "> Finished chain.\n",
    "Three brave mice embark on a thrilling adventure, using their wit and courage to save their kingdom from a menacing cat."
   ]
  },
  {
   "cell_type": "code",
   "execution_count": null,
   "id": "33823b3e",
   "metadata": {},
   "outputs": [],
   "source": [
    "'Assignment successfully submitted'"
   ]
  },
  {
   "cell_type": "markdown",
   "id": "6ddcd5bc",
   "metadata": {},
   "source": [
    "# Self Exploration"
   ]
  },
  {
   "cell_type": "markdown",
   "id": "5bde0881",
   "metadata": {},
   "source": [
    "Can you create more complex chains ?"
   ]
  }
 ],
 "metadata": {},
 "nbformat": 4,
 "nbformat_minor": 5
}
