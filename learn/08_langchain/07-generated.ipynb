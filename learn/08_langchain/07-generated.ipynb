{
 "cells": [
  {
   "cell_type": "markdown",
   "id": "a0c28960",
   "metadata": {},
   "source": [
    "source: [link](https://ai-bootcamp.ruangguru.com/learn/08_langchain/07.qna-with-data-in-the-document.html)"
   ]
  },
  {
   "cell_type": "markdown",
   "id": "72fe3b8a",
   "metadata": {},
   "source": [
    "# Communicating with Embedded Data in Documents"
   ]
  },
  {
   "cell_type": "markdown",
   "id": "69f22624",
   "metadata": {},
   "source": [
    "# Illustration of the problem"
   ]
  },
  {
   "cell_type": "markdown",
   "id": "7691b92a",
   "metadata": {},
   "source": [
    "A company named Tech Solutions has a large database of technical documents related to their products."
   ]
  },
  {
   "cell_type": "markdown",
   "id": "1a3a5e36",
   "metadata": {},
   "source": [
    "These documents contain information about product specifications, troubleshooting guides, and user manuals."
   ]
  },
  {
   "cell_type": "markdown",
   "id": "df1b761f",
   "metadata": {},
   "source": [
    "The company wants to provide better customer support by allowing users to ask questions about their products and get instant answers."
   ]
  },
  {
   "cell_type": "markdown",
   "id": "313befbb",
   "metadata": {},
   "source": [
    "Could they achieve their goal?"
   ]
  },
  {
   "cell_type": "markdown",
   "id": "c134ab1f",
   "metadata": {},
   "source": [
    "The answer is yes, and they did it by using AI chatbot capable of comprehending and retrieving information from these documents."
   ]
  },
  {
   "cell_type": "markdown",
   "id": "caa80af2",
   "metadata": {},
   "source": [
    "So, the aim is to enable conversations like the following:"
   ]
  },
  {
   "cell_type": "markdown",
   "id": "201f5f4e",
   "metadata": {},
   "source": [
    "User: Hi, I’m having trouble setting up my new Tech Solutions router. Can you help?"
   ]
  },
  {
   "cell_type": "markdown",
   "id": "359bc9d6",
   "metadata": {},
   "source": [
    "AI Chatbot: Of course, I’m here to help. Could you please tell me the model of your router?"
   ]
  },
  {
   "cell_type": "markdown",
   "id": "4680b682",
   "metadata": {},
   "source": [
    "User: It’s the Tech Solutions Router Model X100."
   ]
  },
  {
   "cell_type": "markdown",
   "id": "3feaf954",
   "metadata": {},
   "source": [
    "AI Chatbot: Thank you for the information. Let me fetch the setup guide for you."
   ]
  },
  {
   "cell_type": "markdown",
   "id": "0eb511fd",
   "metadata": {},
   "source": [
    "The AI chatbot scans the database of documents, finds the setup guide for the Tech Solutions Router Model X100, and extracts the relevant information."
   ]
  },
  {
   "cell_type": "markdown",
   "id": "af41e42b",
   "metadata": {},
   "source": [
    "AI Chatbot:"
   ]
  },
  {
   "cell_type": "markdown",
   "id": "eca6b81c",
   "metadata": {},
   "source": [
    "Here are the basic steps to set up your Tech Solutions Router Model X100:"
   ]
  },
  {
   "cell_type": "markdown",
   "id": "24623825",
   "metadata": {},
   "source": [
    "Please let me know if you need help with any of these steps."
   ]
  },
  {
   "cell_type": "markdown",
   "id": "a744fd7d",
   "metadata": {},
   "source": [
    "This scenario illustrates how an AI chatbot can engage with data within a document to offer real-time assistance to users. The AI chatbot leverages natural language processing to comprehend user queries, and machine learning algorithms to locate and extract pertinent information from the documents."
   ]
  },
  {
   "cell_type": "markdown",
   "id": "f5017d54",
   "metadata": {},
   "source": [
    "Now, let us try to create this using LangChain."
   ]
  },
  {
   "cell_type": "markdown",
   "id": "3bc16275",
   "metadata": {},
   "source": [
    "# Concept Communicating with Embedded Data in Documents in LangChain"
   ]
  },
  {
   "cell_type": "markdown",
   "id": "78966e5b",
   "metadata": {},
   "source": [
    "LangChain provides a powerful way to interact with your data by enabling a large language model (LLM) to answer questions based on the content of your documents."
   ]
  },
  {
   "cell_type": "markdown",
   "id": "235b7327",
   "metadata": {},
   "source": [
    "Here’s a overview of the process:"
   ]
  },
  {
   "cell_type": "markdown",
   "id": "b8ad4956",
   "metadata": {},
   "source": [
    "# Load The Document"
   ]
  },
  {
   "cell_type": "markdown",
   "id": "57adcf5c",
   "metadata": {},
   "source": [
    "The first step is to load your document into LangChain. This can be done using LangChain’s document loaders, which can handle data from a variety of sources. The document could be a text file, a CSV file, a webpage, or any other type of document that contains the data you want the LLM to interact with."
   ]
  },
  {
   "cell_type": "markdown",
   "id": "1ed01f26",
   "metadata": {},
   "source": [
    "For example we will load a text file containing the text of the book Alice in Wonderland by Lewis Carroll. The text file is located in the data directory of the LangChain repository."
   ]
  },
  {
   "cell_type": "markdown",
   "id": "41a03e1c",
   "metadata": {},
   "source": [
    "https://gist.githubusercontent.com/phillipj/4944029/raw/75ba2243dd5ec2875f629bf5d79f6c1e4b5a8b46/alice_in_wonderland.txt"
   ]
  },
  {
   "cell_type": "code",
   "execution_count": null,
   "id": "8d001571",
   "metadata": {},
   "outputs": [],
   "source": [
    "from langchain.document_loaders import TextLoader\n",
    "\n",
    "loader = TextLoader(\"./documents/alice_in_wonderland.txt\")\n",
    "pages = loader.load()"
   ]
  },
  {
   "cell_type": "markdown",
   "id": "9bf6bbe2",
   "metadata": {},
   "source": [
    "Each page is a Document."
   ]
  },
  {
   "cell_type": "markdown",
   "id": "0d0b280a",
   "metadata": {},
   "source": [
    "A Document contains text (page_content) and metadata."
   ]
  },
  {
   "cell_type": "code",
   "execution_count": null,
   "id": "10df3998",
   "metadata": {},
   "outputs": [],
   "source": [
    "len(pages)\n",
    "\n",
    "page = pages[0]"
   ]
  },
  {
   "cell_type": "code",
   "execution_count": null,
   "id": "0f041744",
   "metadata": {},
   "outputs": [],
   "source": [
    "print(page.page_content[200:500])\n",
    "page.metadata"
   ]
  },
  {
   "cell_type": "markdown",
   "id": "2b7fbd58",
   "metadata": {},
   "source": [
    "# Document Splitting"
   ]
  },
  {
   "cell_type": "markdown",
   "id": "d082ec0a",
   "metadata": {},
   "source": [
    "Document splitting is a crucial step in the process of preparing data for AI models."
   ]
  },
  {
   "cell_type": "markdown",
   "id": "91dfdcca",
   "metadata": {},
   "source": [
    "It involves breaking down large documents into smaller, manageable chunks."
   ]
  },
  {
   "cell_type": "markdown",
   "id": "53255a0f",
   "metadata": {},
   "source": [
    "This process may seem straightforward, but it’s filled with subtleties that can significantly impact the performance of AI models down the line."
   ]
  },
  {
   "cell_type": "markdown",
   "id": "ed174cce",
   "metadata": {},
   "source": [
    "Consider a document containing information about the specifications of a Toyota Camry. If we split the document incorrectly, we might end up with one chunk containing half a sentence about the car’s specifications and another chunk containing the rest."
   ]
  },
  {
   "cell_type": "markdown",
   "id": "c894c893",
   "metadata": {},
   "source": [
    "This split could prevent an AI model from correctly answering a question about the car’s specifications because the relevant information is spread across two chunks."
   ]
  },
  {
   "cell_type": "markdown",
   "id": "afd72c32",
   "metadata": {},
   "source": [
    "To avoid such issues, we need to split documents in a way that keeps semantically relevant information together. This process involves defining a chunk size and a chunk overlap."
   ]
  },
  {
   "cell_type": "markdown",
   "id": "d0c71a00",
   "metadata": {},
   "source": [
    "The chunk size refers to the size of each chunk, which can be measured in various ways, such as the number of characters or tokens."
   ]
  },
  {
   "cell_type": "markdown",
   "id": "057a5e34",
   "metadata": {},
   "source": [
    "The chunk overlap is a small overlap between two chunks, like a sliding window, which ensures some consistency and continuity between chunks."
   ]
  },
  {
   "cell_type": "markdown",
   "id": "a93e835e",
   "metadata": {},
   "source": [
    "Consider we have a sentence:"
   ]
  },
  {
   "cell_type": "markdown",
   "id": "2c78b4c3",
   "metadata": {},
   "source": [
    "Artificial intelligence is a branch of computer science that aims to create intelligent machines that work and react like humans."
   ]
  },
  {
   "cell_type": "markdown",
   "id": "201bd686",
   "metadata": {},
   "source": [
    "If we decide to chunk this sentence into chunks of 10 words each, but without any overlap, we would end up with the following chunks:"
   ]
  },
  {
   "cell_type": "markdown",
   "id": "3aa2cbe8",
   "metadata": {},
   "source": [
    "Chunk 1: Artificial intelligence is a branch of computer science that aims to create Chunk 2: intelligent machines that work and react like humans."
   ]
  },
  {
   "cell_type": "markdown",
   "id": "9e11134a",
   "metadata": {},
   "source": [
    "The first chunk contains the first 10 words of the sentence, and the second chunk contains the remaining words. This split is not ideal because it will prevent an AI model from understanding the sentence’s meaning."
   ]
  },
  {
   "cell_type": "markdown",
   "id": "d8b9a15b",
   "metadata": {},
   "source": [
    "Now, let’s try to split the sentence into chunks of 10 words each, but with an overlap of 3 words. This time, we would end up with the following chunks:"
   ]
  },
  {
   "cell_type": "markdown",
   "id": "ce80d797",
   "metadata": {},
   "source": [
    "Chunk 1: Artificial intelligence is a branch of computer science that aims to create Chunk 2: that aims to create intelligent machines that work and react like humans."
   ]
  },
  {
   "cell_type": "markdown",
   "id": "041ea452",
   "metadata": {},
   "source": [
    "Here, that aims to create is the overlap between the two chunks. This overlap can help in maintaining the context when these chunks are processed independently."
   ]
  },
  {
   "cell_type": "markdown",
   "id": "340870eb",
   "metadata": {},
   "source": [
    "Text splitters in Lang Chain split documents into chunks based on the defined chunk size and overlap."
   ]
  },
  {
   "cell_type": "markdown",
   "id": "c8dd69de",
   "metadata": {},
   "source": [
    "They can vary in how they split the chunks and measure the length of the chunks."
   ]
  },
  {
   "cell_type": "markdown",
   "id": "fa5065e0",
   "metadata": {},
   "source": [
    "Some splitters even use smaller models to determine the end of a sentence and use that as a splitting point."
   ]
  },
  {
   "cell_type": "code",
   "execution_count": null,
   "id": "97d9714c",
   "metadata": {},
   "outputs": [],
   "source": [
    "from langchain.text_splitter import RecursiveCharacterTextSplitter, CharacterTextSplitter"
   ]
  },
  {
   "cell_type": "code",
   "execution_count": null,
   "id": "6703ed4c",
   "metadata": {},
   "outputs": [],
   "source": [
    "r_splitter = RecursiveCharacterTextSplitter(\n",
    "    chunk_size=4,\n",
    "    chunk_overlap=2\n",
    ")"
   ]
  },
  {
   "cell_type": "code",
   "execution_count": null,
   "id": "be826cb1",
   "metadata": {},
   "outputs": [],
   "source": [
    "text1 = 'abcdefghijklmnopqrstuvwxyz'\n",
    "r_splitter.split_text(text1)"
   ]
  },
  {
   "cell_type": "code",
   "execution_count": null,
   "id": "fd446c22",
   "metadata": {},
   "outputs": [],
   "source": [
    "text2 = 'abcdefghijklmnopqrstuvwxyzabcdefg'\n",
    "r_splitter.split_text(text2)"
   ]
  },
  {
   "cell_type": "code",
   "execution_count": null,
   "id": "d01725ef",
   "metadata": {},
   "outputs": [],
   "source": [
    "text3 = \"a b c d e f g h i j k l m n o p q r s t u v w x y z\"\n",
    "r_splitter.split_text(text3)"
   ]
  },
  {
   "cell_type": "code",
   "execution_count": null,
   "id": "4dbb36e9",
   "metadata": {},
   "outputs": [],
   "source": [
    "c_splitter = CharacterTextSplitter(\n",
    "    separator = ' ',\n",
    "    chunk_size=10,\n",
    "    chunk_overlap=2\n",
    ")"
   ]
  },
  {
   "cell_type": "code",
   "execution_count": null,
   "id": "3c7bd022",
   "metadata": {},
   "outputs": [],
   "source": [
    "c_splitter.split_text(\"hello world \\n I am a text splitter \\n please split me \\n thank you\")"
   ]
  },
  {
   "cell_type": "markdown",
   "id": "1f093f58",
   "metadata": {},
   "source": [
    "Maintaining metadata across all chunks and adding new pieces of metadata when relevant is another crucial aspect of document splitting. The type of document we’re working with can also influence how we split it. For instance, code documents might require different splitting strategies compared to text documents."
   ]
  },
  {
   "cell_type": "markdown",
   "id": "80999d4e",
   "metadata": {},
   "source": [
    "We will take the document above and split it into chunks."
   ]
  },
  {
   "cell_type": "markdown",
   "id": "72582199",
   "metadata": {},
   "source": [
    "We can use the recursive character text splitter and the character text splitter, two common types of text splitters in Lang Chain."
   ]
  },
  {
   "cell_type": "markdown",
   "id": "ebedfe5b",
   "metadata": {},
   "source": [
    "We can experiment with different chunk sizes and overlaps to see how they affect the splitting."
   ]
  },
  {
   "cell_type": "markdown",
   "id": "fb8227b6",
   "metadata": {},
   "source": [
    "After splitting, we can compare the length of the original document with the lengths of the chunks to see how many chunks we’ve created. We can also check the metadata of the chunks to ensure it matches the metadata of the original document."
   ]
  },
  {
   "cell_type": "code",
   "execution_count": null,
   "id": "52da47e4",
   "metadata": {},
   "outputs": [],
   "source": [
    "from langchain.text_splitter import RecursiveCharacterTextSplitter, CharacterTextSplitter"
   ]
  },
  {
   "cell_type": "code",
   "execution_count": null,
   "id": "bd72038e",
   "metadata": {},
   "outputs": [],
   "source": [
    "chunk_size =10\n",
    "chunk_overlap = 2\n",
    "\n",
    "r_splitter = RecursiveCharacterTextSplitter(\n",
    "    chunk_size=chunk_size,\n",
    "    chunk_overlap=chunk_overlap\n",
    ")"
   ]
  },
  {
   "cell_type": "code",
   "execution_count": null,
   "id": "df9be8db",
   "metadata": {},
   "outputs": [],
   "source": [
    "textSplit = r_splitter.split_text(page.page_content)\n",
    "\n",
    "print(textSplit)"
   ]
  },
  {
   "cell_type": "code",
   "execution_count": null,
   "id": "a956f944",
   "metadata": {},
   "outputs": [],
   "source": [
    "c_splitter = CharacterTextSplitter(\n",
    "    separator = '\\n',\n",
    "    chunk_size=100,\n",
    "    chunk_overlap=10\n",
    ")"
   ]
  },
  {
   "cell_type": "code",
   "execution_count": null,
   "id": "a3276917",
   "metadata": {},
   "outputs": [],
   "source": [
    "charSplit = c_splitter.split_text(page.page_content)\n",
    "\n",
    "print(charSplit)"
   ]
  },
  {
   "cell_type": "markdown",
   "id": "38dfe5d6",
   "metadata": {},
   "source": [
    "# Store Document to Memory"
   ]
  },
  {
   "cell_type": "markdown",
   "id": "0924cbe6",
   "metadata": {},
   "source": [
    "Storing and searching over unstructured data often involves embedding the data and storing the resulting embedding vectors. At the time of a query, the unstructured query is embedded and the embedding vectors that are ‘most similar’ to the embedded query are retrieved. This process is managed by a vector store."
   ]
  },
  {
   "cell_type": "markdown",
   "id": "a43f032e",
   "metadata": {},
   "source": [
    "A vector store is responsible for storing embedded data and performing vector search. It stores vector representations, or embeddings, of the data. These embeddings encapsulate the semantic meaning of the text, enabling the Language Learning Model (LLM) to comprehend and interact with the content of the document."
   ]
  },
  {
   "cell_type": "markdown",
   "id": "63c5d75e",
   "metadata": {},
   "source": [
    "# Why is Vector Search Important?"
   ]
  },
  {
   "cell_type": "markdown",
   "id": "b98fbd10",
   "metadata": {},
   "source": [
    "Vector search is a crucial component of many AI applications. It enables the AI model to retrieve relevant information from a large corpus of documents."
   ]
  },
  {
   "cell_type": "markdown",
   "id": "7d810a9d",
   "metadata": {},
   "source": []
  },
  {
   "cell_type": "markdown",
   "id": "748731e8",
   "metadata": {},
   "source": [
    "![Image](https://python.langchain.com/assets/images/vector_stores-9dc1ecb68c4cb446df110764c9cc07e0.jpg)"
   ]
  },
  {
   "cell_type": "markdown",
   "id": "46d4dfb0",
   "metadata": {},
   "source": [
    "For example, a chatbot can use vector search to retrieve information from a database of documents and answer user queries."
   ]
  },
  {
   "cell_type": "markdown",
   "id": "74eb3f36",
   "metadata": {},
   "source": [
    "# Vector Store in LangChain"
   ]
  },
  {
   "cell_type": "markdown",
   "id": "8e6a793e",
   "metadata": {},
   "source": [
    "LangChain provides a robust and flexible platform that supports a multitude of integration methods with Vector Stores. This versatility allows users to choose the most suitable vector store for their specific needs. In this particular instance, we will delve into the process of integrating with FAISS, a library developed by Facebook AI that is renowned for efficient similarity search and clustering of dense vectors."
   ]
  },
  {
   "cell_type": "markdown",
   "id": "14307941",
   "metadata": {},
   "source": [
    "FAISS is particularly beneficial for users who need to manage large databases and perform quick nearest-neighbor searches on high dimensional vectors. It’s a powerful tool that can significantly enhance the efficiency of handling unstructured data."
   ]
  },
  {
   "cell_type": "markdown",
   "id": "25b5a924",
   "metadata": {},
   "source": [
    "For those interested in exploring other options, LangChain supports a wide range of Vector Stores. A comprehensive list of these supported Vector Stores can be found at the following link: LangChain Vector Stores."
   ]
  },
  {
   "cell_type": "code",
   "execution_count": null,
   "id": "d9e93635",
   "metadata": {},
   "outputs": [],
   "source": [
    "import os\n",
    "import openai\n",
    "import sys\n",
    "sys.path.append('../..')\n",
    "\n",
    "from dotenv import load_dotenv, find_dotenv\n",
    "_ = load_dotenv(find_dotenv()) # read local .env file\n",
    "\n",
    "openai.api_key  = os.environ['OPENAI_API_KEY']"
   ]
  },
  {
   "cell_type": "code",
   "execution_count": null,
   "id": "49a67e9b",
   "metadata": {},
   "outputs": [],
   "source": [
    "text_splitter = RecursiveCharacterTextSplitter(\n",
    "    chunk_size = 100,\n",
    "    chunk_overlap = 25\n",
    ")"
   ]
  },
  {
   "cell_type": "code",
   "execution_count": null,
   "id": "4abb9fcc",
   "metadata": {},
   "outputs": [],
   "source": [
    "splits = text_splitter.split_text(page.page_content)"
   ]
  },
  {
   "cell_type": "code",
   "execution_count": null,
   "id": "947c0632",
   "metadata": {},
   "outputs": [],
   "source": [
    "len(splits)"
   ]
  },
  {
   "cell_type": "code",
   "execution_count": null,
   "id": "2456433e",
   "metadata": {},
   "outputs": [],
   "source": [
    "from langchain.embeddings.openai import OpenAIEmbeddings\n",
    "from langchain.text_splitter import RecursiveCharacterTextSplitter\n",
    "from langchain.vectorstores import FAISS"
   ]
  },
  {
   "cell_type": "code",
   "execution_count": null,
   "id": "b12ef12a",
   "metadata": {},
   "outputs": [],
   "source": [
    "from langchain.document_loaders import TextLoader\n",
    "\n",
    "loader = TextLoader(\"./documents/alice_in_wonderland.txt\")\n",
    "documents = loader.load()\n",
    "text_splitter = RecursiveCharacterTextSplitter(chunk_size=1000, chunk_overlap=50)\n",
    "docs = text_splitter.split_documents(documents)\n",
    "\n",
    "embeddings = OpenAIEmbeddings()"
   ]
  },
  {
   "cell_type": "code",
   "execution_count": null,
   "id": "d0606c38",
   "metadata": {},
   "outputs": [],
   "source": [
    "db = FAISS.from_documents(docs, embeddings)"
   ]
  },
  {
   "cell_type": "markdown",
   "id": "3c400346",
   "metadata": {},
   "source": [
    "# Querying Data"
   ]
  },
  {
   "cell_type": "markdown",
   "id": "d3b3573d",
   "metadata": {},
   "source": [
    "With the document stored in memory, you can now query the data. This involves creating a query and passing it to the vector store. The vector store will return the most relevant documents based on the query. These documents can then be passed to the LLM to generate a response."
   ]
  },
  {
   "cell_type": "markdown",
   "id": "6e211595",
   "metadata": {},
   "source": [
    "In this way, LangChain allows you to chat with your data, enabling the LLM to answer questions based on the content of your documents. This can be particularly useful when dealing with large amounts of data or proprietary documents that the LLM was not originally trained on."
   ]
  },
  {
   "cell_type": "markdown",
   "id": "dbcbd0f9",
   "metadata": {},
   "source": [
    "The First step is to imports the RetrievalQA module from the langchain.chains package."
   ]
  },
  {
   "cell_type": "markdown",
   "id": "da65ec40",
   "metadata": {},
   "source": [
    "RetrievalQA stands for Retrieval Question Answering. It’s a type of model that retrieves answers to questions based on a given context."
   ]
  },
  {
   "cell_type": "markdown",
   "id": "8c2c5d78",
   "metadata": {},
   "source": [
    "In the context of LangChain, this module is used to retrieve the most relevant information from the stored data based on the user’s query."
   ]
  },
  {
   "cell_type": "markdown",
   "id": "019e65e8",
   "metadata": {},
   "source": [
    "And then imports the ChatOpenAI module from the langchain.chat_models package."
   ]
  },
  {
   "cell_type": "code",
   "execution_count": null,
   "id": "060be175",
   "metadata": {},
   "outputs": [],
   "source": [
    "from langchain.chains import RetrievalQA\n",
    "from langchain.chat_models import ChatOpenAI"
   ]
  },
  {
   "cell_type": "markdown",
   "id": "28eda67e",
   "metadata": {},
   "source": [
    "After that, we setup the language model and retrival class."
   ]
  },
  {
   "cell_type": "code",
   "execution_count": null,
   "id": "4900a0f8",
   "metadata": {},
   "outputs": [],
   "source": [
    "OpenAIModel = \"gpt-4\"\n",
    "llm = ChatOpenAI(model=OpenAIModel, temperature=0.1)\n",
    "\n",
    "qa = RetrievalQA.from_chain_type(llm=llm, retriever=db.as_retriever())"
   ]
  },
  {
   "cell_type": "markdown",
   "id": "f7a668a7",
   "metadata": {},
   "source": [
    "After creating the retrieval class, we can pass the query to the get_answers method of the retrieval class. Thi method will return the most relevant answers to the query based on the stored data in the vector store."
   ]
  },
  {
   "cell_type": "code",
   "execution_count": null,
   "id": "f9af95b6",
   "metadata": {},
   "outputs": [],
   "source": [
    "query = \"please mention all of the characters?\"\n",
    "\n",
    "qa.run(query)"
   ]
  },
  {
   "cell_type": "code",
   "execution_count": null,
   "id": "03bb0560",
   "metadata": {},
   "outputs": [],
   "source": [
    "query = \"who is the main character?\"\n",
    "\n",
    "qa.run(query)"
   ]
  },
  {
   "cell_type": "code",
   "execution_count": null,
   "id": "f89c98ea",
   "metadata": {},
   "outputs": [],
   "source": [
    "query = \"please create synopsis from the story?\"\n",
    "\n",
    "qa.run(query)"
   ]
  },
  {
   "cell_type": "code",
   "execution_count": null,
   "id": "87e89654",
   "metadata": {},
   "outputs": [],
   "source": [
    "query = \"what is the ending of the story?\"\n",
    "\n",
    "qa.run(query)"
   ]
  },
  {
   "cell_type": "markdown",
   "id": "4ef65309",
   "metadata": {},
   "source": [
    "If the query is not relevant to the stored data, the method will return answers like I don't know or I don't understand."
   ]
  },
  {
   "cell_type": "code",
   "execution_count": null,
   "id": "f997c4a4",
   "metadata": {},
   "outputs": [],
   "source": [
    "query = \"who is president of indonesia?\"\n",
    "\n",
    "qa.run(query)"
   ]
  }
 ],
 "metadata": {},
 "nbformat": 4,
 "nbformat_minor": 5
}
