{
 "cells": [
  {
   "cell_type": "markdown",
   "id": "6c0ee7a1",
   "metadata": {},
   "source": [
    "# Communicating with Embedded Data in Documents"
   ]
  },
  {
   "cell_type": "markdown",
   "id": "4d4a4984",
   "metadata": {},
   "source": [
    "# Illustration of the problem"
   ]
  },
  {
   "cell_type": "markdown",
   "id": "88289f27",
   "metadata": {},
   "source": [
    "A company named Tech Solutions has a large database of technical documents related to their products."
   ]
  },
  {
   "cell_type": "markdown",
   "id": "c4867fcc",
   "metadata": {},
   "source": [
    "These documents contain information about product specifications, troubleshooting guides, and user manuals."
   ]
  },
  {
   "cell_type": "markdown",
   "id": "ee94c971",
   "metadata": {},
   "source": [
    "The company wants to provide better customer support by allowing users to ask questions about their products and get instant answers."
   ]
  },
  {
   "cell_type": "markdown",
   "id": "a94f33dd",
   "metadata": {},
   "source": [
    "Could they achieve their goal?"
   ]
  },
  {
   "cell_type": "markdown",
   "id": "46c93720",
   "metadata": {},
   "source": [
    "The answer is yes, and they did it by using AI chatbot capable of comprehending and retrieving information from these documents."
   ]
  },
  {
   "cell_type": "markdown",
   "id": "e73375f9",
   "metadata": {},
   "source": [
    "So, the aim is to enable conversations like the following:"
   ]
  },
  {
   "cell_type": "markdown",
   "id": "c171adba",
   "metadata": {},
   "source": [
    "User: Hi, I’m having trouble setting up my new Tech Solutions router. Can you help?"
   ]
  },
  {
   "cell_type": "markdown",
   "id": "cf1ce2c6",
   "metadata": {},
   "source": [
    "AI Chatbot: Of course, I’m here to help. Could you please tell me the model of your router?"
   ]
  },
  {
   "cell_type": "markdown",
   "id": "d42e8505",
   "metadata": {},
   "source": [
    "User: It’s the Tech Solutions Router Model X100."
   ]
  },
  {
   "cell_type": "markdown",
   "id": "a03a1034",
   "metadata": {},
   "source": [
    "AI Chatbot: Thank you for the information. Let me fetch the setup guide for you."
   ]
  },
  {
   "cell_type": "markdown",
   "id": "2685e5d8",
   "metadata": {},
   "source": [
    "The AI chatbot scans the database of documents, finds the setup guide for the Tech Solutions Router Model X100, and extracts the relevant information."
   ]
  },
  {
   "cell_type": "markdown",
   "id": "ed2b34ff",
   "metadata": {},
   "source": [
    "AI Chatbot:"
   ]
  },
  {
   "cell_type": "markdown",
   "id": "f753f2b8",
   "metadata": {},
   "source": [
    "Here are the basic steps to set up your Tech Solutions Router Model X100:"
   ]
  },
  {
   "cell_type": "markdown",
   "id": "09e92c61",
   "metadata": {},
   "source": [
    "Please let me know if you need help with any of these steps."
   ]
  },
  {
   "cell_type": "markdown",
   "id": "2c91fb2c",
   "metadata": {},
   "source": [
    "This scenario illustrates how an AI chatbot can engage with data within a document to offer real-time assistance to users. The AI chatbot leverages natural language processing to comprehend user queries, and machine learning algorithms to locate and extract pertinent information from the documents."
   ]
  },
  {
   "cell_type": "markdown",
   "id": "05ec3fb3",
   "metadata": {},
   "source": [
    "Now, let us try to create this using LangChain."
   ]
  },
  {
   "cell_type": "markdown",
   "id": "a8ac4320",
   "metadata": {},
   "source": [
    "# Concept Communicating with Embedded Data in Documents in LangChain"
   ]
  },
  {
   "cell_type": "markdown",
   "id": "8c70020b",
   "metadata": {},
   "source": [
    "LangChain provides a powerful way to interact with your data by enabling a large language model (LLM) to answer questions based on the content of your documents."
   ]
  },
  {
   "cell_type": "markdown",
   "id": "ce4223ed",
   "metadata": {},
   "source": [
    "Here’s a overview of the process:"
   ]
  },
  {
   "cell_type": "markdown",
   "id": "9e877bc6",
   "metadata": {},
   "source": [
    "# Load The Document"
   ]
  },
  {
   "cell_type": "markdown",
   "id": "67c0d0c0",
   "metadata": {},
   "source": [
    "The first step is to load your document into LangChain. This can be done using LangChain’s document loaders, which can handle data from a variety of sources. The document could be a text file, a CSV file, a webpage, or any other type of document that contains the data you want the LLM to interact with."
   ]
  },
  {
   "cell_type": "markdown",
   "id": "11d2ccc9",
   "metadata": {},
   "source": [
    "For example we will load a text file containing the text of the book Alice in Wonderland by Lewis Carroll. The text file is located in the data directory of the LangChain repository."
   ]
  },
  {
   "cell_type": "markdown",
   "id": "bcbcd302",
   "metadata": {},
   "source": [
    "https://gist.githubusercontent.com/phillipj/4944029/raw/75ba2243dd5ec2875f629bf5d79f6c1e4b5a8b46/alice_in_wonderland.txt"
   ]
  },
  {
   "cell_type": "code",
   "execution_count": null,
   "id": "8a504bc0",
   "metadata": {},
   "outputs": [],
   "source": [
    "from langchain.document_loaders import TextLoader\n",
    "\n",
    "loader = TextLoader(\"./documents/alice_in_wonderland.txt\")\n",
    "pages = loader.load()"
   ]
  },
  {
   "cell_type": "markdown",
   "id": "fe0104ff",
   "metadata": {},
   "source": [
    "Each page is a Document."
   ]
  },
  {
   "cell_type": "markdown",
   "id": "2ad9beaf",
   "metadata": {},
   "source": [
    "A Document contains text (page_content) and metadata."
   ]
  },
  {
   "cell_type": "code",
   "execution_count": null,
   "id": "09f239a7",
   "metadata": {},
   "outputs": [],
   "source": [
    "len(pages)\n",
    "\n",
    "page = pages[0]"
   ]
  },
  {
   "cell_type": "code",
   "execution_count": null,
   "id": "6ab18659",
   "metadata": {},
   "outputs": [],
   "source": [
    "print(page.page_content[200:500])\n",
    "page.metadata"
   ]
  },
  {
   "cell_type": "markdown",
   "id": "7eacc1e3",
   "metadata": {},
   "source": [
    "# Document Splitting"
   ]
  },
  {
   "cell_type": "markdown",
   "id": "8c7a280b",
   "metadata": {},
   "source": [
    "Document splitting is a crucial step in the process of preparing data for AI models."
   ]
  },
  {
   "cell_type": "markdown",
   "id": "ff2f23c1",
   "metadata": {},
   "source": [
    "It involves breaking down large documents into smaller, manageable chunks."
   ]
  },
  {
   "cell_type": "markdown",
   "id": "2358a1e3",
   "metadata": {},
   "source": [
    "This process may seem straightforward, but it’s filled with subtleties that can significantly impact the performance of AI models down the line."
   ]
  },
  {
   "cell_type": "markdown",
   "id": "c22d6a7a",
   "metadata": {},
   "source": [
    "Consider a document containing information about the specifications of a Toyota Camry. If we split the document incorrectly, we might end up with one chunk containing half a sentence about the car’s specifications and another chunk containing the rest."
   ]
  },
  {
   "cell_type": "markdown",
   "id": "762a447f",
   "metadata": {},
   "source": [
    "This split could prevent an AI model from correctly answering a question about the car’s specifications because the relevant information is spread across two chunks."
   ]
  },
  {
   "cell_type": "markdown",
   "id": "4dbd61ac",
   "metadata": {},
   "source": [
    "To avoid such issues, we need to split documents in a way that keeps semantically relevant information together. This process involves defining a chunk size and a chunk overlap."
   ]
  },
  {
   "cell_type": "markdown",
   "id": "fc0f8a93",
   "metadata": {},
   "source": [
    "The chunk size refers to the size of each chunk, which can be measured in various ways, such as the number of characters or tokens."
   ]
  },
  {
   "cell_type": "markdown",
   "id": "7c4cd0c8",
   "metadata": {},
   "source": [
    "The chunk overlap is a small overlap between two chunks, like a sliding window, which ensures some consistency and continuity between chunks."
   ]
  },
  {
   "cell_type": "markdown",
   "id": "964f1a62",
   "metadata": {},
   "source": [
    "Consider we have a sentence:"
   ]
  },
  {
   "cell_type": "markdown",
   "id": "8971c477",
   "metadata": {},
   "source": [
    "Artificial intelligence is a branch of computer science that aims to create intelligent machines that work and react like humans."
   ]
  },
  {
   "cell_type": "markdown",
   "id": "9e013f0f",
   "metadata": {},
   "source": [
    "If we decide to chunk this sentence into chunks of 10 words each, but without any overlap, we would end up with the following chunks:"
   ]
  },
  {
   "cell_type": "markdown",
   "id": "d79c0c69",
   "metadata": {},
   "source": [
    "Chunk 1: Artificial intelligence is a branch of computer science that aims to create Chunk 2: intelligent machines that work and react like humans."
   ]
  },
  {
   "cell_type": "markdown",
   "id": "0c96791b",
   "metadata": {},
   "source": [
    "The first chunk contains the first 10 words of the sentence, and the second chunk contains the remaining words. This split is not ideal because it will prevent an AI model from understanding the sentence’s meaning."
   ]
  },
  {
   "cell_type": "markdown",
   "id": "2db5ba40",
   "metadata": {},
   "source": [
    "Now, let’s try to split the sentence into chunks of 10 words each, but with an overlap of 3 words. This time, we would end up with the following chunks:"
   ]
  },
  {
   "cell_type": "markdown",
   "id": "397ee4dc",
   "metadata": {},
   "source": [
    "Chunk 1: Artificial intelligence is a branch of computer science that aims to create Chunk 2: that aims to create intelligent machines that work and react like humans."
   ]
  },
  {
   "cell_type": "markdown",
   "id": "1457f31a",
   "metadata": {},
   "source": [
    "Here, that aims to create is the overlap between the two chunks. This overlap can help in maintaining the context when these chunks are processed independently."
   ]
  },
  {
   "cell_type": "markdown",
   "id": "629eba89",
   "metadata": {},
   "source": [
    "Text splitters in Lang Chain split documents into chunks based on the defined chunk size and overlap."
   ]
  },
  {
   "cell_type": "markdown",
   "id": "2ff1babe",
   "metadata": {},
   "source": [
    "They can vary in how they split the chunks and measure the length of the chunks."
   ]
  },
  {
   "cell_type": "markdown",
   "id": "4a13b1a9",
   "metadata": {},
   "source": [
    "Some splitters even use smaller models to determine the end of a sentence and use that as a splitting point."
   ]
  },
  {
   "cell_type": "code",
   "execution_count": null,
   "id": "47fde471",
   "metadata": {},
   "outputs": [],
   "source": [
    "from langchain.text_splitter import RecursiveCharacterTextSplitter, CharacterTextSplitter"
   ]
  },
  {
   "cell_type": "code",
   "execution_count": null,
   "id": "1671d7a0",
   "metadata": {},
   "outputs": [],
   "source": [
    "r_splitter = RecursiveCharacterTextSplitter(\n",
    "    chunk_size=4,\n",
    "    chunk_overlap=2\n",
    ")"
   ]
  },
  {
   "cell_type": "code",
   "execution_count": null,
   "id": "4dcb0542",
   "metadata": {},
   "outputs": [],
   "source": [
    "text1 = 'abcdefghijklmnopqrstuvwxyz'\n",
    "r_splitter.split_text(text1)"
   ]
  },
  {
   "cell_type": "code",
   "execution_count": null,
   "id": "488b5f18",
   "metadata": {},
   "outputs": [],
   "source": [
    "text2 = 'abcdefghijklmnopqrstuvwxyzabcdefg'\n",
    "r_splitter.split_text(text2)"
   ]
  },
  {
   "cell_type": "code",
   "execution_count": null,
   "id": "d54b66dd",
   "metadata": {},
   "outputs": [],
   "source": [
    "text3 = \"a b c d e f g h i j k l m n o p q r s t u v w x y z\"\n",
    "r_splitter.split_text(text3)"
   ]
  },
  {
   "cell_type": "code",
   "execution_count": null,
   "id": "40aeefa6",
   "metadata": {},
   "outputs": [],
   "source": [
    "c_splitter = CharacterTextSplitter(\n",
    "    separator = ' ',\n",
    "    chunk_size=10,\n",
    "    chunk_overlap=2\n",
    ")"
   ]
  },
  {
   "cell_type": "code",
   "execution_count": null,
   "id": "50cc8d52",
   "metadata": {},
   "outputs": [],
   "source": [
    "c_splitter.split_text(\"hello world \\n I am a text splitter \\n please split me \\n thank you\")"
   ]
  },
  {
   "cell_type": "markdown",
   "id": "061eb9d7",
   "metadata": {},
   "source": [
    "Maintaining metadata across all chunks and adding new pieces of metadata when relevant is another crucial aspect of document splitting. The type of document we’re working with can also influence how we split it. For instance, code documents might require different splitting strategies compared to text documents."
   ]
  },
  {
   "cell_type": "markdown",
   "id": "f87ff81d",
   "metadata": {},
   "source": [
    "We will take the document above and split it into chunks."
   ]
  },
  {
   "cell_type": "markdown",
   "id": "13a146b7",
   "metadata": {},
   "source": [
    "We can use the recursive character text splitter and the character text splitter, two common types of text splitters in Lang Chain."
   ]
  },
  {
   "cell_type": "markdown",
   "id": "8c632b34",
   "metadata": {},
   "source": [
    "We can experiment with different chunk sizes and overlaps to see how they affect the splitting."
   ]
  },
  {
   "cell_type": "markdown",
   "id": "7ad512a1",
   "metadata": {},
   "source": [
    "After splitting, we can compare the length of the original document with the lengths of the chunks to see how many chunks we’ve created. We can also check the metadata of the chunks to ensure it matches the metadata of the original document."
   ]
  },
  {
   "cell_type": "code",
   "execution_count": null,
   "id": "0c9600a9",
   "metadata": {},
   "outputs": [],
   "source": [
    "from langchain.text_splitter import RecursiveCharacterTextSplitter, CharacterTextSplitter"
   ]
  },
  {
   "cell_type": "code",
   "execution_count": null,
   "id": "ad77d771",
   "metadata": {},
   "outputs": [],
   "source": [
    "chunk_size =10\n",
    "chunk_overlap = 2\n",
    "\n",
    "r_splitter = RecursiveCharacterTextSplitter(\n",
    "    chunk_size=chunk_size,\n",
    "    chunk_overlap=chunk_overlap\n",
    ")"
   ]
  },
  {
   "cell_type": "code",
   "execution_count": null,
   "id": "f377574f",
   "metadata": {},
   "outputs": [],
   "source": [
    "textSplit = r_splitter.split_text(page.page_content)\n",
    "\n",
    "print(textSplit)"
   ]
  },
  {
   "cell_type": "code",
   "execution_count": null,
   "id": "df0bf684",
   "metadata": {},
   "outputs": [],
   "source": [
    "c_splitter = CharacterTextSplitter(\n",
    "    separator = '\\n',\n",
    "    chunk_size=100,\n",
    "    chunk_overlap=10\n",
    ")"
   ]
  },
  {
   "cell_type": "code",
   "execution_count": null,
   "id": "acc7fd0c",
   "metadata": {},
   "outputs": [],
   "source": [
    "charSplit = c_splitter.split_text(page.page_content)\n",
    "\n",
    "print(charSplit)"
   ]
  },
  {
   "cell_type": "markdown",
   "id": "8b09f785",
   "metadata": {},
   "source": [
    "# Store Document to Memory"
   ]
  },
  {
   "cell_type": "markdown",
   "id": "37854c00",
   "metadata": {},
   "source": [
    "Storing and searching over unstructured data often involves embedding the data and storing the resulting embedding vectors. At the time of a query, the unstructured query is embedded and the embedding vectors that are ‘most similar’ to the embedded query are retrieved. This process is managed by a vector store."
   ]
  },
  {
   "cell_type": "markdown",
   "id": "1d3e70db",
   "metadata": {},
   "source": [
    "A vector store is responsible for storing embedded data and performing vector search. It stores vector representations, or embeddings, of the data. These embeddings encapsulate the semantic meaning of the text, enabling the Language Learning Model (LLM) to comprehend and interact with the content of the document."
   ]
  },
  {
   "cell_type": "markdown",
   "id": "0ac69c2c",
   "metadata": {},
   "source": [
    "# Why is Vector Search Important?"
   ]
  },
  {
   "cell_type": "markdown",
   "id": "bacb24e5",
   "metadata": {},
   "source": [
    "Vector search is a crucial component of many AI applications. It enables the AI model to retrieve relevant information from a large corpus of documents."
   ]
  },
  {
   "cell_type": "markdown",
   "id": "426e8ebe",
   "metadata": {},
   "source": []
  },
  {
   "cell_type": "markdown",
   "id": "8d1f1836",
   "metadata": {},
   "source": [
    "For example, a chatbot can use vector search to retrieve information from a database of documents and answer user queries."
   ]
  },
  {
   "cell_type": "markdown",
   "id": "ee22dab5",
   "metadata": {},
   "source": [
    "# Vector Store in LangChain"
   ]
  },
  {
   "cell_type": "markdown",
   "id": "45e4f410",
   "metadata": {},
   "source": [
    "LangChain provides a robust and flexible platform that supports a multitude of integration methods with Vector Stores. This versatility allows users to choose the most suitable vector store for their specific needs. In this particular instance, we will delve into the process of integrating with FAISS, a library developed by Facebook AI that is renowned for efficient similarity search and clustering of dense vectors."
   ]
  },
  {
   "cell_type": "markdown",
   "id": "4c0c4080",
   "metadata": {},
   "source": [
    "FAISS is particularly beneficial for users who need to manage large databases and perform quick nearest-neighbor searches on high dimensional vectors. It’s a powerful tool that can significantly enhance the efficiency of handling unstructured data."
   ]
  },
  {
   "cell_type": "markdown",
   "id": "ca35c150",
   "metadata": {},
   "source": [
    "For those interested in exploring other options, LangChain supports a wide range of Vector Stores. A comprehensive list of these supported Vector Stores can be found at the following link: LangChain Vector Stores."
   ]
  },
  {
   "cell_type": "code",
   "execution_count": null,
   "id": "6df6a5b8",
   "metadata": {},
   "outputs": [],
   "source": [
    "import os\n",
    "import openai\n",
    "import sys\n",
    "sys.path.append('../..')\n",
    "\n",
    "from dotenv import load_dotenv, find_dotenv\n",
    "_ = load_dotenv(find_dotenv()) # read local .env file\n",
    "\n",
    "openai.api_key  = os.environ['OPENAI_API_KEY']"
   ]
  },
  {
   "cell_type": "code",
   "execution_count": null,
   "id": "ebb97fc6",
   "metadata": {},
   "outputs": [],
   "source": [
    "text_splitter = RecursiveCharacterTextSplitter(\n",
    "    chunk_size = 100,\n",
    "    chunk_overlap = 25\n",
    ")"
   ]
  },
  {
   "cell_type": "code",
   "execution_count": null,
   "id": "45afd2bf",
   "metadata": {},
   "outputs": [],
   "source": [
    "splits = text_splitter.split_text(page.page_content)"
   ]
  },
  {
   "cell_type": "code",
   "execution_count": null,
   "id": "4488155e",
   "metadata": {},
   "outputs": [],
   "source": [
    "len(splits)"
   ]
  },
  {
   "cell_type": "code",
   "execution_count": null,
   "id": "9afa60c9",
   "metadata": {},
   "outputs": [],
   "source": [
    "from langchain.embeddings.openai import OpenAIEmbeddings\n",
    "from langchain.text_splitter import RecursiveCharacterTextSplitter\n",
    "from langchain.vectorstores import FAISS"
   ]
  },
  {
   "cell_type": "code",
   "execution_count": null,
   "id": "3dc1ecbe",
   "metadata": {},
   "outputs": [],
   "source": [
    "from langchain.document_loaders import TextLoader\n",
    "\n",
    "loader = TextLoader(\"./documents/alice_in_wonderland.txt\")\n",
    "documents = loader.load()\n",
    "text_splitter = RecursiveCharacterTextSplitter(chunk_size=1000, chunk_overlap=50)\n",
    "docs = text_splitter.split_documents(documents)\n",
    "\n",
    "embeddings = OpenAIEmbeddings()"
   ]
  },
  {
   "cell_type": "code",
   "execution_count": null,
   "id": "6125ece8",
   "metadata": {},
   "outputs": [],
   "source": [
    "db = FAISS.from_documents(docs, embeddings)"
   ]
  },
  {
   "cell_type": "markdown",
   "id": "3bd50a2e",
   "metadata": {},
   "source": [
    "# Querying Data"
   ]
  },
  {
   "cell_type": "markdown",
   "id": "e2267c1a",
   "metadata": {},
   "source": [
    "With the document stored in memory, you can now query the data. This involves creating a query and passing it to the vector store. The vector store will return the most relevant documents based on the query. These documents can then be passed to the LLM to generate a response."
   ]
  },
  {
   "cell_type": "markdown",
   "id": "ce7c737b",
   "metadata": {},
   "source": [
    "In this way, LangChain allows you to chat with your data, enabling the LLM to answer questions based on the content of your documents. This can be particularly useful when dealing with large amounts of data or proprietary documents that the LLM was not originally trained on."
   ]
  },
  {
   "cell_type": "markdown",
   "id": "0745df77",
   "metadata": {},
   "source": [
    "The First step is to imports the RetrievalQA module from the langchain.chains package."
   ]
  },
  {
   "cell_type": "markdown",
   "id": "aab8a1fd",
   "metadata": {},
   "source": [
    "RetrievalQA stands for Retrieval Question Answering. It’s a type of model that retrieves answers to questions based on a given context."
   ]
  },
  {
   "cell_type": "markdown",
   "id": "f175e674",
   "metadata": {},
   "source": [
    "In the context of LangChain, this module is used to retrieve the most relevant information from the stored data based on the user’s query."
   ]
  },
  {
   "cell_type": "markdown",
   "id": "09a4ea9d",
   "metadata": {},
   "source": [
    "And then imports the ChatOpenAI module from the langchain.chat_models package."
   ]
  },
  {
   "cell_type": "code",
   "execution_count": null,
   "id": "d24a0dc4",
   "metadata": {},
   "outputs": [],
   "source": [
    "from langchain.chains import RetrievalQA\n",
    "from langchain.chat_models import ChatOpenAI"
   ]
  },
  {
   "cell_type": "markdown",
   "id": "4fb6358d",
   "metadata": {},
   "source": [
    "After that, we setup the language model and retrival class."
   ]
  },
  {
   "cell_type": "code",
   "execution_count": null,
   "id": "9f2ab79f",
   "metadata": {},
   "outputs": [],
   "source": [
    "OpenAIModel = \"gpt-4\"\n",
    "llm = ChatOpenAI(model=OpenAIModel, temperature=0.1)\n",
    "\n",
    "qa = RetrievalQA.from_chain_type(llm=llm, retriever=db.as_retriever())"
   ]
  },
  {
   "cell_type": "markdown",
   "id": "44cb46c0",
   "metadata": {},
   "source": [
    "After creating the retrieval class, we can pass the query to the get_answers method of the retrieval class. Thi method will return the most relevant answers to the query based on the stored data in the vector store."
   ]
  },
  {
   "cell_type": "code",
   "execution_count": null,
   "id": "ae1e4ab4",
   "metadata": {},
   "outputs": [],
   "source": [
    "query = \"please mention all of the characters?\"\n",
    "\n",
    "qa.run(query)"
   ]
  },
  {
   "cell_type": "code",
   "execution_count": null,
   "id": "1eccb221",
   "metadata": {},
   "outputs": [],
   "source": [
    "query = \"who is the main character?\"\n",
    "\n",
    "qa.run(query)"
   ]
  },
  {
   "cell_type": "code",
   "execution_count": null,
   "id": "2b44a56d",
   "metadata": {},
   "outputs": [],
   "source": [
    "query = \"please create synopsis from the story?\"\n",
    "\n",
    "qa.run(query)"
   ]
  },
  {
   "cell_type": "code",
   "execution_count": null,
   "id": "bca0c4ff",
   "metadata": {},
   "outputs": [],
   "source": [
    "query = \"what is the ending of the story?\"\n",
    "\n",
    "qa.run(query)"
   ]
  },
  {
   "cell_type": "markdown",
   "id": "273aede1",
   "metadata": {},
   "source": [
    "If the query is not relevant to the stored data, the method will return answers like I don't know or I don't understand."
   ]
  },
  {
   "cell_type": "code",
   "execution_count": null,
   "id": "75e7951d",
   "metadata": {},
   "outputs": [],
   "source": [
    "query = \"who is president of indonesia?\"\n",
    "\n",
    "qa.run(query)"
   ]
  }
 ],
 "metadata": {},
 "nbformat": 4,
 "nbformat_minor": 5
}
