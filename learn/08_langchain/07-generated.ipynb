{
 "cells": [
  {
   "cell_type": "markdown",
   "id": "05544354",
   "metadata": {},
   "source": [
    "# Communicating with Embedded Data in Documents"
   ]
  },
  {
   "cell_type": "markdown",
   "id": "6e7a4467",
   "metadata": {},
   "source": [
    "# Illustration of the problem"
   ]
  },
  {
   "cell_type": "markdown",
   "id": "b2d1808b",
   "metadata": {},
   "source": [
    "A company named Tech Solutions has a large database of technical documents related to their products."
   ]
  },
  {
   "cell_type": "markdown",
   "id": "1bf61a6c",
   "metadata": {},
   "source": [
    "These documents contain information about product specifications, troubleshooting guides, and user manuals."
   ]
  },
  {
   "cell_type": "markdown",
   "id": "22b086c6",
   "metadata": {},
   "source": [
    "The company wants to provide better customer support by allowing users to ask questions about their products and get instant answers."
   ]
  },
  {
   "cell_type": "markdown",
   "id": "0d516c02",
   "metadata": {},
   "source": [
    "Could they achieve their goal?"
   ]
  },
  {
   "cell_type": "markdown",
   "id": "b9fe6ce9",
   "metadata": {},
   "source": [
    "The answer is yes, and they did it by using AI chatbot capable of comprehending and retrieving information from these documents."
   ]
  },
  {
   "cell_type": "markdown",
   "id": "37d538b2",
   "metadata": {},
   "source": [
    "So, the aim is to enable conversations like the following:"
   ]
  },
  {
   "cell_type": "markdown",
   "id": "61797601",
   "metadata": {},
   "source": [
    "User: Hi, I’m having trouble setting up my new Tech Solutions router. Can you help?"
   ]
  },
  {
   "cell_type": "markdown",
   "id": "d2d9e223",
   "metadata": {},
   "source": [
    "AI Chatbot: Of course, I’m here to help. Could you please tell me the model of your router?"
   ]
  },
  {
   "cell_type": "markdown",
   "id": "aa4d0008",
   "metadata": {},
   "source": [
    "User: It’s the Tech Solutions Router Model X100."
   ]
  },
  {
   "cell_type": "markdown",
   "id": "ac2c9afb",
   "metadata": {},
   "source": [
    "AI Chatbot: Thank you for the information. Let me fetch the setup guide for you."
   ]
  },
  {
   "cell_type": "markdown",
   "id": "bbfce961",
   "metadata": {},
   "source": [
    "The AI chatbot scans the database of documents, finds the setup guide for the Tech Solutions Router Model X100, and extracts the relevant information."
   ]
  },
  {
   "cell_type": "markdown",
   "id": "62e628b9",
   "metadata": {},
   "source": [
    "AI Chatbot:"
   ]
  },
  {
   "cell_type": "markdown",
   "id": "f303d869",
   "metadata": {},
   "source": [
    "Here are the basic steps to set up your Tech Solutions Router Model X100:"
   ]
  },
  {
   "cell_type": "markdown",
   "id": "478235e2",
   "metadata": {},
   "source": [
    "Please let me know if you need help with any of these steps."
   ]
  },
  {
   "cell_type": "markdown",
   "id": "d33d4205",
   "metadata": {},
   "source": [
    "This scenario illustrates how an AI chatbot can engage with data within a document to offer real-time assistance to users. The AI chatbot leverages natural language processing to comprehend user queries, and machine learning algorithms to locate and extract pertinent information from the documents."
   ]
  },
  {
   "cell_type": "markdown",
   "id": "0632b417",
   "metadata": {},
   "source": [
    "Now, let us try to create this using LangChain."
   ]
  },
  {
   "cell_type": "markdown",
   "id": "679f0707",
   "metadata": {},
   "source": [
    "# Concept Communicating with Embedded Data in Documents in LangChain"
   ]
  },
  {
   "cell_type": "markdown",
   "id": "7ab3580e",
   "metadata": {},
   "source": [
    "LangChain provides a powerful way to interact with your data by enabling a large language model (LLM) to answer questions based on the content of your documents."
   ]
  },
  {
   "cell_type": "markdown",
   "id": "f5be0653",
   "metadata": {},
   "source": [
    "Here’s a overview of the process:"
   ]
  },
  {
   "cell_type": "markdown",
   "id": "912bf3c2",
   "metadata": {},
   "source": [
    "# Load The Document"
   ]
  },
  {
   "cell_type": "markdown",
   "id": "9490cb82",
   "metadata": {},
   "source": [
    "The first step is to load your document into LangChain. This can be done using LangChain’s document loaders, which can handle data from a variety of sources. The document could be a text file, a CSV file, a webpage, or any other type of document that contains the data you want the LLM to interact with."
   ]
  },
  {
   "cell_type": "markdown",
   "id": "b9ded115",
   "metadata": {},
   "source": [
    "For example we will load a text file containing the text of the book Alice in Wonderland by Lewis Carroll. The text file is located in the data directory of the LangChain repository."
   ]
  },
  {
   "cell_type": "markdown",
   "id": "968abf17",
   "metadata": {},
   "source": [
    "https://gist.githubusercontent.com/phillipj/4944029/raw/75ba2243dd5ec2875f629bf5d79f6c1e4b5a8b46/alice_in_wonderland.txt"
   ]
  },
  {
   "cell_type": "code",
   "execution_count": null,
   "id": "6ace49c4",
   "metadata": {},
   "outputs": [],
   "source": [
    "from langchain.document_loaders import TextLoader\n",
    "\n",
    "loader = TextLoader(\"./documents/alice_in_wonderland.txt\")\n",
    "pages = loader.load()"
   ]
  },
  {
   "cell_type": "markdown",
   "id": "680836c6",
   "metadata": {},
   "source": [
    "Each page is a Document."
   ]
  },
  {
   "cell_type": "markdown",
   "id": "da4f6dcb",
   "metadata": {},
   "source": [
    "A Document contains text (page_content) and metadata."
   ]
  },
  {
   "cell_type": "code",
   "execution_count": null,
   "id": "f3aa7339",
   "metadata": {},
   "outputs": [],
   "source": [
    "len(pages)\n",
    "\n",
    "page = pages[0]"
   ]
  },
  {
   "cell_type": "code",
   "execution_count": null,
   "id": "e6077f6e",
   "metadata": {},
   "outputs": [],
   "source": [
    "print(page.page_content[200:500])\n",
    "page.metadata"
   ]
  },
  {
   "cell_type": "markdown",
   "id": "4a2fb12f",
   "metadata": {},
   "source": [
    "# Document Splitting"
   ]
  },
  {
   "cell_type": "markdown",
   "id": "6c700a83",
   "metadata": {},
   "source": [
    "Document splitting is a crucial step in the process of preparing data for AI models."
   ]
  },
  {
   "cell_type": "markdown",
   "id": "c8e3107b",
   "metadata": {},
   "source": [
    "It involves breaking down large documents into smaller, manageable chunks."
   ]
  },
  {
   "cell_type": "markdown",
   "id": "d225a94c",
   "metadata": {},
   "source": [
    "This process may seem straightforward, but it’s filled with subtleties that can significantly impact the performance of AI models down the line."
   ]
  },
  {
   "cell_type": "markdown",
   "id": "8ffdbd17",
   "metadata": {},
   "source": [
    "Consider a document containing information about the specifications of a Toyota Camry. If we split the document incorrectly, we might end up with one chunk containing half a sentence about the car’s specifications and another chunk containing the rest."
   ]
  },
  {
   "cell_type": "markdown",
   "id": "4b12961d",
   "metadata": {},
   "source": [
    "This split could prevent an AI model from correctly answering a question about the car’s specifications because the relevant information is spread across two chunks."
   ]
  },
  {
   "cell_type": "markdown",
   "id": "40fef21b",
   "metadata": {},
   "source": [
    "To avoid such issues, we need to split documents in a way that keeps semantically relevant information together. This process involves defining a chunk size and a chunk overlap."
   ]
  },
  {
   "cell_type": "markdown",
   "id": "e96c8992",
   "metadata": {},
   "source": [
    "The chunk size refers to the size of each chunk, which can be measured in various ways, such as the number of characters or tokens."
   ]
  },
  {
   "cell_type": "markdown",
   "id": "e907b2f5",
   "metadata": {},
   "source": [
    "The chunk overlap is a small overlap between two chunks, like a sliding window, which ensures some consistency and continuity between chunks."
   ]
  },
  {
   "cell_type": "markdown",
   "id": "69c4d3ba",
   "metadata": {},
   "source": [
    "Consider we have a sentence:"
   ]
  },
  {
   "cell_type": "markdown",
   "id": "dada536b",
   "metadata": {},
   "source": [
    "Artificial intelligence is a branch of computer science that aims to create intelligent machines that work and react like humans."
   ]
  },
  {
   "cell_type": "markdown",
   "id": "85d49d8a",
   "metadata": {},
   "source": [
    "If we decide to chunk this sentence into chunks of 10 words each, but without any overlap, we would end up with the following chunks:"
   ]
  },
  {
   "cell_type": "markdown",
   "id": "a2ed7b91",
   "metadata": {},
   "source": [
    "Chunk 1: Artificial intelligence is a branch of computer science that aims to create Chunk 2: intelligent machines that work and react like humans."
   ]
  },
  {
   "cell_type": "markdown",
   "id": "a46505b4",
   "metadata": {},
   "source": [
    "The first chunk contains the first 10 words of the sentence, and the second chunk contains the remaining words. This split is not ideal because it will prevent an AI model from understanding the sentence’s meaning."
   ]
  },
  {
   "cell_type": "markdown",
   "id": "63d7184a",
   "metadata": {},
   "source": [
    "Now, let’s try to split the sentence into chunks of 10 words each, but with an overlap of 3 words. This time, we would end up with the following chunks:"
   ]
  },
  {
   "cell_type": "markdown",
   "id": "01dd5937",
   "metadata": {},
   "source": [
    "Chunk 1: Artificial intelligence is a branch of computer science that aims to create Chunk 2: that aims to create intelligent machines that work and react like humans."
   ]
  },
  {
   "cell_type": "markdown",
   "id": "1eb631f6",
   "metadata": {},
   "source": [
    "Here, that aims to create is the overlap between the two chunks. This overlap can help in maintaining the context when these chunks are processed independently."
   ]
  },
  {
   "cell_type": "markdown",
   "id": "bb3a62e3",
   "metadata": {},
   "source": [
    "Text splitters in Lang Chain split documents into chunks based on the defined chunk size and overlap."
   ]
  },
  {
   "cell_type": "markdown",
   "id": "589128af",
   "metadata": {},
   "source": [
    "They can vary in how they split the chunks and measure the length of the chunks."
   ]
  },
  {
   "cell_type": "markdown",
   "id": "79b81c66",
   "metadata": {},
   "source": [
    "Some splitters even use smaller models to determine the end of a sentence and use that as a splitting point."
   ]
  },
  {
   "cell_type": "code",
   "execution_count": null,
   "id": "22cfdd74",
   "metadata": {},
   "outputs": [],
   "source": [
    "from langchain.text_splitter import RecursiveCharacterTextSplitter, CharacterTextSplitter"
   ]
  },
  {
   "cell_type": "code",
   "execution_count": null,
   "id": "3ce0a51b",
   "metadata": {},
   "outputs": [],
   "source": [
    "r_splitter = RecursiveCharacterTextSplitter(\n",
    "    chunk_size=4,\n",
    "    chunk_overlap=2\n",
    ")"
   ]
  },
  {
   "cell_type": "code",
   "execution_count": null,
   "id": "aca08b1c",
   "metadata": {},
   "outputs": [],
   "source": [
    "text1 = 'abcdefghijklmnopqrstuvwxyz'\n",
    "r_splitter.split_text(text1)"
   ]
  },
  {
   "cell_type": "code",
   "execution_count": null,
   "id": "97eba6ed",
   "metadata": {},
   "outputs": [],
   "source": [
    "text2 = 'abcdefghijklmnopqrstuvwxyzabcdefg'\n",
    "r_splitter.split_text(text2)"
   ]
  },
  {
   "cell_type": "code",
   "execution_count": null,
   "id": "42fc93ef",
   "metadata": {},
   "outputs": [],
   "source": [
    "text3 = \"a b c d e f g h i j k l m n o p q r s t u v w x y z\"\n",
    "r_splitter.split_text(text3)"
   ]
  },
  {
   "cell_type": "code",
   "execution_count": null,
   "id": "f0ee14e7",
   "metadata": {},
   "outputs": [],
   "source": [
    "c_splitter = CharacterTextSplitter(\n",
    "    separator = ' ',\n",
    "    chunk_size=10,\n",
    "    chunk_overlap=2\n",
    ")"
   ]
  },
  {
   "cell_type": "code",
   "execution_count": null,
   "id": "8ed59d5e",
   "metadata": {},
   "outputs": [],
   "source": [
    "c_splitter.split_text(\"hello world \\n I am a text splitter \\n please split me \\n thank you\")"
   ]
  },
  {
   "cell_type": "markdown",
   "id": "82aa4cda",
   "metadata": {},
   "source": [
    "Maintaining metadata across all chunks and adding new pieces of metadata when relevant is another crucial aspect of document splitting. The type of document we’re working with can also influence how we split it. For instance, code documents might require different splitting strategies compared to text documents."
   ]
  },
  {
   "cell_type": "markdown",
   "id": "7114e7fe",
   "metadata": {},
   "source": [
    "We will take the document above and split it into chunks."
   ]
  },
  {
   "cell_type": "markdown",
   "id": "6cc3e226",
   "metadata": {},
   "source": [
    "We can use the recursive character text splitter and the character text splitter, two common types of text splitters in Lang Chain."
   ]
  },
  {
   "cell_type": "markdown",
   "id": "8a581b56",
   "metadata": {},
   "source": [
    "We can experiment with different chunk sizes and overlaps to see how they affect the splitting."
   ]
  },
  {
   "cell_type": "markdown",
   "id": "b2266ac8",
   "metadata": {},
   "source": [
    "After splitting, we can compare the length of the original document with the lengths of the chunks to see how many chunks we’ve created. We can also check the metadata of the chunks to ensure it matches the metadata of the original document."
   ]
  },
  {
   "cell_type": "code",
   "execution_count": null,
   "id": "dd7252d1",
   "metadata": {},
   "outputs": [],
   "source": [
    "from langchain.text_splitter import RecursiveCharacterTextSplitter, CharacterTextSplitter"
   ]
  },
  {
   "cell_type": "code",
   "execution_count": null,
   "id": "4bfafb04",
   "metadata": {},
   "outputs": [],
   "source": [
    "chunk_size =10\n",
    "chunk_overlap = 2\n",
    "\n",
    "r_splitter = RecursiveCharacterTextSplitter(\n",
    "    chunk_size=chunk_size,\n",
    "    chunk_overlap=chunk_overlap\n",
    ")"
   ]
  },
  {
   "cell_type": "code",
   "execution_count": null,
   "id": "a2835fcb",
   "metadata": {},
   "outputs": [],
   "source": [
    "textSplit = r_splitter.split_text(page.page_content)\n",
    "\n",
    "print(textSplit)"
   ]
  },
  {
   "cell_type": "code",
   "execution_count": null,
   "id": "0117c897",
   "metadata": {},
   "outputs": [],
   "source": [
    "c_splitter = CharacterTextSplitter(\n",
    "    separator = '\\n',\n",
    "    chunk_size=100,\n",
    "    chunk_overlap=10\n",
    ")"
   ]
  },
  {
   "cell_type": "code",
   "execution_count": null,
   "id": "9bfac031",
   "metadata": {},
   "outputs": [],
   "source": [
    "charSplit = c_splitter.split_text(page.page_content)\n",
    "\n",
    "print(charSplit)"
   ]
  },
  {
   "cell_type": "markdown",
   "id": "1cae2b72",
   "metadata": {},
   "source": [
    "# Store Document to Memory"
   ]
  },
  {
   "cell_type": "markdown",
   "id": "fc4c9f4d",
   "metadata": {},
   "source": [
    "Storing and searching over unstructured data often involves embedding the data and storing the resulting embedding vectors. At the time of a query, the unstructured query is embedded and the embedding vectors that are ‘most similar’ to the embedded query are retrieved. This process is managed by a vector store."
   ]
  },
  {
   "cell_type": "markdown",
   "id": "eb008abc",
   "metadata": {},
   "source": [
    "A vector store is responsible for storing embedded data and performing vector search. It stores vector representations, or embeddings, of the data. These embeddings encapsulate the semantic meaning of the text, enabling the Language Learning Model (LLM) to comprehend and interact with the content of the document."
   ]
  },
  {
   "cell_type": "markdown",
   "id": "577a7f48",
   "metadata": {},
   "source": [
    "# Why is Vector Search Important?"
   ]
  },
  {
   "cell_type": "markdown",
   "id": "daf8974d",
   "metadata": {},
   "source": [
    "Vector search is a crucial component of many AI applications. It enables the AI model to retrieve relevant information from a large corpus of documents."
   ]
  },
  {
   "cell_type": "markdown",
   "id": "1d7ac0de",
   "metadata": {},
   "source": []
  },
  {
   "cell_type": "markdown",
   "id": "6a615560",
   "metadata": {},
   "source": [
    "![Image](https://python.langchain.com/assets/images/vector_stores-9dc1ecb68c4cb446df110764c9cc07e0.jpg)"
   ]
  },
  {
   "cell_type": "markdown",
   "id": "e87511b9",
   "metadata": {},
   "source": [
    "For example, a chatbot can use vector search to retrieve information from a database of documents and answer user queries."
   ]
  },
  {
   "cell_type": "markdown",
   "id": "52a1a130",
   "metadata": {},
   "source": [
    "# Vector Store in LangChain"
   ]
  },
  {
   "cell_type": "markdown",
   "id": "55fefe9f",
   "metadata": {},
   "source": [
    "LangChain provides a robust and flexible platform that supports a multitude of integration methods with Vector Stores. This versatility allows users to choose the most suitable vector store for their specific needs. In this particular instance, we will delve into the process of integrating with FAISS, a library developed by Facebook AI that is renowned for efficient similarity search and clustering of dense vectors."
   ]
  },
  {
   "cell_type": "markdown",
   "id": "b848d2d3",
   "metadata": {},
   "source": [
    "FAISS is particularly beneficial for users who need to manage large databases and perform quick nearest-neighbor searches on high dimensional vectors. It’s a powerful tool that can significantly enhance the efficiency of handling unstructured data."
   ]
  },
  {
   "cell_type": "markdown",
   "id": "08758749",
   "metadata": {},
   "source": [
    "For those interested in exploring other options, LangChain supports a wide range of Vector Stores. A comprehensive list of these supported Vector Stores can be found at the following link: LangChain Vector Stores."
   ]
  },
  {
   "cell_type": "code",
   "execution_count": null,
   "id": "f652a03b",
   "metadata": {},
   "outputs": [],
   "source": [
    "import os\n",
    "import openai\n",
    "import sys\n",
    "sys.path.append('../..')\n",
    "\n",
    "from dotenv import load_dotenv, find_dotenv\n",
    "_ = load_dotenv(find_dotenv()) # read local .env file\n",
    "\n",
    "openai.api_key  = os.environ['OPENAI_API_KEY']"
   ]
  },
  {
   "cell_type": "code",
   "execution_count": null,
   "id": "52474c9a",
   "metadata": {},
   "outputs": [],
   "source": [
    "text_splitter = RecursiveCharacterTextSplitter(\n",
    "    chunk_size = 100,\n",
    "    chunk_overlap = 25\n",
    ")"
   ]
  },
  {
   "cell_type": "code",
   "execution_count": null,
   "id": "8877e31e",
   "metadata": {},
   "outputs": [],
   "source": [
    "splits = text_splitter.split_text(page.page_content)"
   ]
  },
  {
   "cell_type": "code",
   "execution_count": null,
   "id": "423e42f4",
   "metadata": {},
   "outputs": [],
   "source": [
    "len(splits)"
   ]
  },
  {
   "cell_type": "code",
   "execution_count": null,
   "id": "957b756e",
   "metadata": {},
   "outputs": [],
   "source": [
    "from langchain.embeddings.openai import OpenAIEmbeddings\n",
    "from langchain.text_splitter import RecursiveCharacterTextSplitter\n",
    "from langchain.vectorstores import FAISS"
   ]
  },
  {
   "cell_type": "code",
   "execution_count": null,
   "id": "85098b28",
   "metadata": {},
   "outputs": [],
   "source": [
    "from langchain.document_loaders import TextLoader\n",
    "\n",
    "loader = TextLoader(\"./documents/alice_in_wonderland.txt\")\n",
    "documents = loader.load()\n",
    "text_splitter = RecursiveCharacterTextSplitter(chunk_size=1000, chunk_overlap=50)\n",
    "docs = text_splitter.split_documents(documents)\n",
    "\n",
    "embeddings = OpenAIEmbeddings()"
   ]
  },
  {
   "cell_type": "code",
   "execution_count": null,
   "id": "f726e42a",
   "metadata": {},
   "outputs": [],
   "source": [
    "db = FAISS.from_documents(docs, embeddings)"
   ]
  },
  {
   "cell_type": "markdown",
   "id": "bb72d4aa",
   "metadata": {},
   "source": [
    "# Querying Data"
   ]
  },
  {
   "cell_type": "markdown",
   "id": "87281c61",
   "metadata": {},
   "source": [
    "With the document stored in memory, you can now query the data. This involves creating a query and passing it to the vector store. The vector store will return the most relevant documents based on the query. These documents can then be passed to the LLM to generate a response."
   ]
  },
  {
   "cell_type": "markdown",
   "id": "e472a2f7",
   "metadata": {},
   "source": [
    "In this way, LangChain allows you to chat with your data, enabling the LLM to answer questions based on the content of your documents. This can be particularly useful when dealing with large amounts of data or proprietary documents that the LLM was not originally trained on."
   ]
  },
  {
   "cell_type": "markdown",
   "id": "bc312ff8",
   "metadata": {},
   "source": [
    "The First step is to imports the RetrievalQA module from the langchain.chains package."
   ]
  },
  {
   "cell_type": "markdown",
   "id": "9efa5202",
   "metadata": {},
   "source": [
    "RetrievalQA stands for Retrieval Question Answering. It’s a type of model that retrieves answers to questions based on a given context."
   ]
  },
  {
   "cell_type": "markdown",
   "id": "a1f3f3c6",
   "metadata": {},
   "source": [
    "In the context of LangChain, this module is used to retrieve the most relevant information from the stored data based on the user’s query."
   ]
  },
  {
   "cell_type": "markdown",
   "id": "47f77a86",
   "metadata": {},
   "source": [
    "And then imports the ChatOpenAI module from the langchain.chat_models package."
   ]
  },
  {
   "cell_type": "code",
   "execution_count": null,
   "id": "1684c0eb",
   "metadata": {},
   "outputs": [],
   "source": [
    "from langchain.chains import RetrievalQA\n",
    "from langchain.chat_models import ChatOpenAI"
   ]
  },
  {
   "cell_type": "markdown",
   "id": "00fdc16d",
   "metadata": {},
   "source": [
    "After that, we setup the language model and retrival class."
   ]
  },
  {
   "cell_type": "code",
   "execution_count": null,
   "id": "7f1127a3",
   "metadata": {},
   "outputs": [],
   "source": [
    "OpenAIModel = \"gpt-4\"\n",
    "llm = ChatOpenAI(model=OpenAIModel, temperature=0.1)\n",
    "\n",
    "qa = RetrievalQA.from_chain_type(llm=llm, retriever=db.as_retriever())"
   ]
  },
  {
   "cell_type": "markdown",
   "id": "efc00bb2",
   "metadata": {},
   "source": [
    "After creating the retrieval class, we can pass the query to the get_answers method of the retrieval class. Thi method will return the most relevant answers to the query based on the stored data in the vector store."
   ]
  },
  {
   "cell_type": "code",
   "execution_count": null,
   "id": "76de9e81",
   "metadata": {},
   "outputs": [],
   "source": [
    "query = \"please mention all of the characters?\"\n",
    "\n",
    "qa.run(query)"
   ]
  },
  {
   "cell_type": "code",
   "execution_count": null,
   "id": "43420d12",
   "metadata": {},
   "outputs": [],
   "source": [
    "query = \"who is the main character?\"\n",
    "\n",
    "qa.run(query)"
   ]
  },
  {
   "cell_type": "code",
   "execution_count": null,
   "id": "50832ba6",
   "metadata": {},
   "outputs": [],
   "source": [
    "query = \"please create synopsis from the story?\"\n",
    "\n",
    "qa.run(query)"
   ]
  },
  {
   "cell_type": "code",
   "execution_count": null,
   "id": "4704a201",
   "metadata": {},
   "outputs": [],
   "source": [
    "query = \"what is the ending of the story?\"\n",
    "\n",
    "qa.run(query)"
   ]
  },
  {
   "cell_type": "markdown",
   "id": "aea34cbb",
   "metadata": {},
   "source": [
    "If the query is not relevant to the stored data, the method will return answers like I don't know or I don't understand."
   ]
  },
  {
   "cell_type": "code",
   "execution_count": null,
   "id": "13078e0d",
   "metadata": {},
   "outputs": [],
   "source": [
    "query = \"who is president of indonesia?\"\n",
    "\n",
    "qa.run(query)"
   ]
  }
 ],
 "metadata": {},
 "nbformat": 4,
 "nbformat_minor": 5
}
