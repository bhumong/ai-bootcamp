{
 "cells": [
  {
   "cell_type": "markdown",
   "id": "21d6a031",
   "metadata": {},
   "source": [
    "# Memory and LangChain"
   ]
  },
  {
   "cell_type": "markdown",
   "id": "2102c32b",
   "metadata": {},
   "source": [
    "Interacting with language models can be challenging due to their stateless nature, which means they don’t remember previous conversations."
   ]
  },
  {
   "cell_type": "markdown",
   "id": "0641e90e",
   "metadata": {},
   "source": [
    "This could be an issue when building some applications, like a chatbot, where you want to have a consistent conversation flow. In this context, we introduce memory management in LangChain."
   ]
  },
  {
   "cell_type": "markdown",
   "id": "075ba054",
   "metadata": {},
   "source": [
    "LangChain provides several types of memory to maintain the conversation context:"
   ]
  },
  {
   "cell_type": "markdown",
   "id": "898e1bb0",
   "metadata": {},
   "source": [
    "These memories are designed to manage the conversation history and feed it back into the language model to maintain the conversational flow."
   ]
  },
  {
   "cell_type": "code",
   "execution_count": null,
   "id": "14135bf1",
   "metadata": {},
   "outputs": [],
   "source": [
    "import os\n",
    "\n",
    "from dotenv import load_dotenv, find_dotenv\n",
    "_ = load_dotenv(find_dotenv()) # read local .env file"
   ]
  },
  {
   "cell_type": "code",
   "execution_count": null,
   "id": "a3968d60",
   "metadata": {},
   "outputs": [],
   "source": [
    "from langchain.chat_models import ChatOpenAI\n",
    "\n",
    "OpenAIModel = 'gpt-4'\n",
    "llm = ChatOpenAI(model=OpenAIModel, temperature=0.1)"
   ]
  },
  {
   "cell_type": "markdown",
   "id": "8d929dd5",
   "metadata": {},
   "source": [
    "# ConversationBufferMemory"
   ]
  },
  {
   "cell_type": "markdown",
   "id": "59889d7d",
   "metadata": {},
   "source": [
    "This type of memory simply stores all the terms or utterances from a conversation. When you use a large language model for a chat conversation, each transaction is independent and stateless. A language model appears to have memory because we provide it with the entire conversation context."
   ]
  },
  {
   "cell_type": "code",
   "execution_count": null,
   "id": "f7e661cc",
   "metadata": {},
   "outputs": [],
   "source": [
    "from langchain.chains import ConversationChain\n",
    "from langchain.memory import ConversationBufferMemory"
   ]
  },
  {
   "cell_type": "code",
   "execution_count": null,
   "id": "52cea996",
   "metadata": {},
   "outputs": [],
   "source": [
    "memory = ConversationBufferMemory()"
   ]
  },
  {
   "cell_type": "code",
   "execution_count": null,
   "id": "6f715b9b",
   "metadata": {},
   "outputs": [],
   "source": [
    "conversationUsingBufferMemory = ConversationChain(\n",
    "    llm=llm, \n",
    "    memory = memory,\n",
    "    verbose=True\n",
    ")"
   ]
  },
  {
   "cell_type": "code",
   "execution_count": null,
   "id": "4dc8fb7c",
   "metadata": {},
   "outputs": [],
   "source": [
    "conversationUsingBufferMemory.predict(input=\"Hello, My name is John.\")"
   ]
  },
  {
   "cell_type": "code",
   "execution_count": null,
   "id": "e8b8bd37",
   "metadata": {},
   "outputs": [],
   "source": [
    "\n",
    "\n",
    "> Entering new ConversationChain chain...\n",
    "Prompt after formatting:\n",
    "The following is a friendly conversation between a human and an AI. The AI is talkative and provides lots of specific details from its context. If the AI does not know the answer to a question, it truthfully says it does not know.\n",
    "\n",
    "Current conversation:\n",
    "\n",
    "Human: Hello, My name is John.\n",
    "AI:\n",
    "\n",
    "> Finished chain."
   ]
  },
  {
   "cell_type": "code",
   "execution_count": null,
   "id": "d2afd39f",
   "metadata": {},
   "outputs": [],
   "source": [
    "\"Hello, John! It's a pleasure to meet you. How can I assist you today?\""
   ]
  },
  {
   "cell_type": "code",
   "execution_count": null,
   "id": "2af5f25c",
   "metadata": {},
   "outputs": [],
   "source": [
    "conversationUsingBufferMemory.predict(input=\"What is 123 times 3?\")"
   ]
  },
  {
   "cell_type": "code",
   "execution_count": null,
   "id": "4f206e7f",
   "metadata": {},
   "outputs": [],
   "source": [
    "\n",
    "\n",
    "> Entering new ConversationChain chain...\n",
    "Prompt after formatting:\n",
    "The following is a friendly conversation between a human and an AI. The AI is talkative and provides lots of specific details from its context. If the AI does not know the answer to a question, it truthfully says it does not know.\n",
    "\n",
    "Current conversation:\n",
    "Human: Hello, My name is John.\n",
    "AI: Hello, John! It's a pleasure to meet you. How can I assist you today?\n",
    "Human: What is 123 times 3?\n",
    "AI:\n",
    "\n",
    "> Finished chain."
   ]
  },
  {
   "cell_type": "code",
   "execution_count": null,
   "id": "7e8af940",
   "metadata": {},
   "outputs": [],
   "source": [
    "'123 times 3 equals 369.'"
   ]
  },
  {
   "cell_type": "code",
   "execution_count": null,
   "id": "486f928c",
   "metadata": {},
   "outputs": [],
   "source": [
    "conversationUsingBufferMemory.predict(input=\"Do you know my name?\")"
   ]
  },
  {
   "cell_type": "code",
   "execution_count": null,
   "id": "bc4f04b0",
   "metadata": {},
   "outputs": [],
   "source": [
    "\n",
    "\n",
    "> Entering new ConversationChain chain...\n",
    "Prompt after formatting:\n",
    "The following is a friendly conversation between a human and an AI. The AI is talkative and provides lots of specific details from its context. If the AI does not know the answer to a question, it truthfully says it does not know.\n",
    "\n",
    "Current conversation:\n",
    "Human: Hello, My name is John.\n",
    "AI: Hello, John! It's a pleasure to meet you. How can I assist you today?\n",
    "Human: What is 123 times 3?\n",
    "AI: 123 times 3 equals 369.\n",
    "Human: Do you know my name?\n",
    "AI:\n",
    "\n",
    "> Finished chain."
   ]
  },
  {
   "cell_type": "code",
   "execution_count": null,
   "id": "3442a479",
   "metadata": {},
   "outputs": [],
   "source": [
    "'Yes, you mentioned earlier that your name is John.'"
   ]
  },
  {
   "cell_type": "code",
   "execution_count": null,
   "id": "91ab0d8b",
   "metadata": {},
   "outputs": [],
   "source": [
    "print(memory.buffer)"
   ]
  },
  {
   "cell_type": "code",
   "execution_count": null,
   "id": "69e61e50",
   "metadata": {},
   "outputs": [],
   "source": [
    "Human: Hello, My name is John.\n",
    "AI: Hello, John! It's a pleasure to meet you. How can I assist you today?\n",
    "Human: What is 123 times 3?\n",
    "AI: 123 times 3 equals 369.\n",
    "Human: Do you know my name?\n",
    "AI: Yes, you mentioned earlier that your name is John."
   ]
  },
  {
   "cell_type": "code",
   "execution_count": null,
   "id": "58f8a9b8",
   "metadata": {},
   "outputs": [],
   "source": [
    "memory.load_memory_variables({})"
   ]
  },
  {
   "cell_type": "code",
   "execution_count": null,
   "id": "7c78e507",
   "metadata": {},
   "outputs": [],
   "source": [
    "{'history': \"Human: Hello, My name is John.\\nAI: Hello, John! It's a pleasure to meet you. How can I assist you today?\\nHuman: What is 123 times 3?\\nAI: 123 times 3 equals 369.\\nHuman: Do you know my name?\\nAI: Yes, you mentioned earlier that your name is John.\"}"
   ]
  },
  {
   "cell_type": "code",
   "execution_count": null,
   "id": "8ef892ef",
   "metadata": {},
   "outputs": [],
   "source": [
    "memory = ConversationBufferMemory()"
   ]
  },
  {
   "cell_type": "code",
   "execution_count": null,
   "id": "54c6388e",
   "metadata": {},
   "outputs": [],
   "source": [
    "memory.save_context({\"input\": \"Hi\"}, \n",
    "                    {\"output\": \"What's up\"})"
   ]
  },
  {
   "cell_type": "code",
   "execution_count": null,
   "id": "3b9394e4",
   "metadata": {},
   "outputs": [],
   "source": [
    "print(memory.buffer)"
   ]
  },
  {
   "cell_type": "code",
   "execution_count": null,
   "id": "341848e7",
   "metadata": {},
   "outputs": [],
   "source": [
    "Human: Hi\n",
    "AI: What's up"
   ]
  },
  {
   "cell_type": "code",
   "execution_count": null,
   "id": "ee50d6ce",
   "metadata": {},
   "outputs": [],
   "source": [
    "memory.load_memory_variables({})"
   ]
  },
  {
   "cell_type": "code",
   "execution_count": null,
   "id": "fee4e4a0",
   "metadata": {},
   "outputs": [],
   "source": [
    "{'history': \"Human: Hi\\nAI: What's up\"}"
   ]
  },
  {
   "cell_type": "code",
   "execution_count": null,
   "id": "3d34a2c6",
   "metadata": {},
   "outputs": [],
   "source": [
    "memory.save_context({\"input\": \"Not much, just hanging\"}, \n",
    "                    {\"output\": \"Cool\"})"
   ]
  },
  {
   "cell_type": "code",
   "execution_count": null,
   "id": "82725189",
   "metadata": {},
   "outputs": [],
   "source": [
    "memory.load_memory_variables({})"
   ]
  },
  {
   "cell_type": "code",
   "execution_count": null,
   "id": "d6cc811c",
   "metadata": {},
   "outputs": [],
   "source": [
    "{'history': \"Human: Hi\\nAI: What's up\\nHuman: Not much, just hanging\\nAI: Cool\"}"
   ]
  },
  {
   "cell_type": "markdown",
   "id": "44085bed",
   "metadata": {},
   "source": [
    "The ConversationBufferMemory is used in scenarios where it’s vital for the AI to have full access to the history of an ongoing conversation. It stores all the terms or utterances from a conversation and feeds them into the language model sequentially, allowing it to respond contextually as the conversation progresses."
   ]
  },
  {
   "cell_type": "markdown",
   "id": "2ae82627",
   "metadata": {},
   "source": [
    "Here are some instances where ConversationBufferMemory can be particularly useful:"
   ]
  },
  {
   "cell_type": "markdown",
   "id": "33500085",
   "metadata": {},
   "source": [
    "Chatbots: In an interactive chatbot application where maintaining continuity and context is critical to the flow of the conversation, ConversationBufferMemory can play a crucial role. The users can ask multiple questions and each answer can depend deeply on the previous exchanges."
   ]
  },
  {
   "cell_type": "markdown",
   "id": "838f942e",
   "metadata": {},
   "source": [
    "Customer Support Systems: In applications like automated customer service or support, ConversationBufferMemory helps keep track of the customer’s entire interaction with the AI, leading to a more personalized and effective assistance."
   ]
  },
  {
   "cell_type": "markdown",
   "id": "254d873b",
   "metadata": {},
   "source": [
    "Interactive Games: In AI-driven interactive games where each user input can change the course of the game, this type of memory would be beneficial."
   ]
  },
  {
   "cell_type": "markdown",
   "id": "52702513",
   "metadata": {},
   "source": [
    "In any circumstance where preserving the full conversation context is important for maintaining accurate and meaningful interactions, ConversationBufferMemory provides an essential solution."
   ]
  },
  {
   "cell_type": "markdown",
   "id": "c3cd06da",
   "metadata": {},
   "source": [
    "# ConversationBufferWindowMemory"
   ]
  },
  {
   "cell_type": "markdown",
   "id": "82e0f1a7",
   "metadata": {},
   "source": [
    "This memory limits the stored conversation to a fixed number of exchanges. For example, you can set it to remember only the last utterance or more. This prevents the memory from growing without control as the conversation gets longer."
   ]
  },
  {
   "cell_type": "code",
   "execution_count": null,
   "id": "6ea9e30d",
   "metadata": {},
   "outputs": [],
   "source": [
    "from langchain.memory import ConversationBufferWindowMemory"
   ]
  },
  {
   "cell_type": "code",
   "execution_count": null,
   "id": "699e5a51",
   "metadata": {},
   "outputs": [],
   "source": [
    "memory = ConversationBufferWindowMemory(k=1)               "
   ]
  },
  {
   "cell_type": "code",
   "execution_count": null,
   "id": "f6dba77a",
   "metadata": {},
   "outputs": [],
   "source": [
    "memory.save_context({\"input\": \"Hi\"},\n",
    "                    {\"output\": \"What's up\"})\n",
    "\n",
    "\n",
    "memory.save_context({\"input\": \"Not much, just hanging\"},\n",
    "                    {\"output\": \"Cool\"})"
   ]
  },
  {
   "cell_type": "code",
   "execution_count": null,
   "id": "4fa0ea88",
   "metadata": {},
   "outputs": [],
   "source": [
    "memory.load_memory_variables({})"
   ]
  },
  {
   "cell_type": "code",
   "execution_count": null,
   "id": "ba6d902f",
   "metadata": {},
   "outputs": [],
   "source": [
    "{'history': 'Human: Not much, just hanging\\nAI: Cool'}"
   ]
  },
  {
   "cell_type": "code",
   "execution_count": null,
   "id": "c2a2d9c9",
   "metadata": {},
   "outputs": [],
   "source": [
    "memory = ConversationBufferWindowMemory(k=1)               \n",
    "\n",
    "conversationUsingBufferWindowMemory = ConversationChain(\n",
    "    llm=llm, \n",
    "    memory = memory,\n",
    "    verbose=True\n",
    ")"
   ]
  },
  {
   "cell_type": "code",
   "execution_count": null,
   "id": "ecb35026",
   "metadata": {},
   "outputs": [],
   "source": [
    "conversationUsingBufferWindowMemory.predict(input=\"Hello, My name is John.\")"
   ]
  },
  {
   "cell_type": "code",
   "execution_count": null,
   "id": "b518f8dc",
   "metadata": {},
   "outputs": [],
   "source": [
    "\n",
    "\n",
    "> Entering new ConversationChain chain...\n",
    "Prompt after formatting:\n",
    "The following is a friendly conversation between a human and an AI. The AI is talkative and provides lots of specific details from its context. If the AI does not know the answer to a question, it truthfully says it does not know.\n",
    "\n",
    "Current conversation:\n",
    "\n",
    "Human: Hello, My name is John.\n",
    "AI:\n",
    "\n",
    "> Finished chain."
   ]
  },
  {
   "cell_type": "code",
   "execution_count": null,
   "id": "9fce7e27",
   "metadata": {},
   "outputs": [],
   "source": [
    "\"Hello, John! It's a pleasure to meet you. How can I assist you today?\""
   ]
  },
  {
   "cell_type": "code",
   "execution_count": null,
   "id": "13aeb0c3",
   "metadata": {},
   "outputs": [],
   "source": [
    "conversationUsingBufferWindowMemory.predict(input=\"What is 123 times 3?\")"
   ]
  },
  {
   "cell_type": "code",
   "execution_count": null,
   "id": "e0c68bf5",
   "metadata": {},
   "outputs": [],
   "source": [
    "\n",
    "\n",
    "> Entering new ConversationChain chain...\n",
    "Prompt after formatting:\n",
    "The following is a friendly conversation between a human and an AI. The AI is talkative and provides lots of specific details from its context. If the AI does not know the answer to a question, it truthfully says it does not know.\n",
    "\n",
    "Current conversation:\n",
    "Human: Hello, My name is John.\n",
    "AI: Hello, John! It's a pleasure to meet you. How can I assist you today?\n",
    "Human: What is 123 times 3?\n",
    "AI:\n",
    "\n",
    "> Finished chain."
   ]
  },
  {
   "cell_type": "code",
   "execution_count": null,
   "id": "ada16126",
   "metadata": {},
   "outputs": [],
   "source": [
    "'123 times 3 equals 369.'"
   ]
  },
  {
   "cell_type": "code",
   "execution_count": null,
   "id": "6abc3c9a",
   "metadata": {},
   "outputs": [],
   "source": [
    "conversationUsingBufferWindowMemory.predict(input=\"Do you know my name?\")"
   ]
  },
  {
   "cell_type": "code",
   "execution_count": null,
   "id": "aba1fc85",
   "metadata": {},
   "outputs": [],
   "source": [
    "\n",
    "\n",
    "> Entering new ConversationChain chain...\n",
    "Prompt after formatting:\n",
    "The following is a friendly conversation between a human and an AI. The AI is talkative and provides lots of specific details from its context. If the AI does not know the answer to a question, it truthfully says it does not know.\n",
    "\n",
    "Current conversation:\n",
    "Human: What is 123 times 3?\n",
    "AI: 123 times 3 equals 369.\n",
    "Human: Do you know my name?\n",
    "AI:\n",
    "\n",
    "> Finished chain."
   ]
  },
  {
   "cell_type": "code",
   "execution_count": null,
   "id": "74899bff",
   "metadata": {},
   "outputs": [],
   "source": [
    "\"I'm sorry, but as an AI, I don't have access to personal data about individuals unless it has been shared with me in the course of our conversation. I am designed to respect user privacy and confidentiality.\""
   ]
  },
  {
   "cell_type": "markdown",
   "id": "2f996e09",
   "metadata": {},
   "source": [
    "ConversationBufferWindowMemory can be utilized when you want the AI to remember only a limited number of past exchanges. This type of memory grows only up to a certain point, retaining the most recent elements of the conversation and discarding the oldest once its limit is reached."
   ]
  },
  {
   "cell_type": "markdown",
   "id": "8579afc5",
   "metadata": {},
   "source": [
    "This type of memory can be crucial in situations like:"
   ]
  },
  {
   "cell_type": "markdown",
   "id": "7d3965af",
   "metadata": {},
   "source": [
    "Lengthy Dialogues: During drawn-out conversations where only the most recent exchanges are relevant, using a ConversationBufferWindowMemory can prevent unnecessary use of memory resources."
   ]
  },
  {
   "cell_type": "markdown",
   "id": "92686b68",
   "metadata": {},
   "source": [
    "Highly Contextual Exchanges: If the AI needs to respond based on recent contextual information rather than older, potentially irrelevant facts, this memory type is beneficial."
   ]
  },
  {
   "cell_type": "markdown",
   "id": "95eb7eba",
   "metadata": {},
   "source": [
    "Memory and Cost Efficiency: As lengthy conversations can occupy large amounts of memory and increase the cost of processing tokens with an LLM, using a ConversationBufferWindowMemory can help control costs by reducing memory use."
   ]
  },
  {
   "cell_type": "markdown",
   "id": "90e2ba9f",
   "metadata": {},
   "source": [
    "For instance, in certain customer support scenarios, an AI might need to keep track of just the last few exchanges to handle the current query, making the ConversationBufferWindowMemory a fitting option."
   ]
  },
  {
   "cell_type": "markdown",
   "id": "75e03839",
   "metadata": {},
   "source": [
    "# ConversationTokenBufferMemory"
   ]
  },
  {
   "cell_type": "markdown",
   "id": "00f67be4",
   "metadata": {},
   "source": [
    "This memory limits the number of tokens stored. It’s useful because a large portion of the cost in language model usage comes from the number of tokens processed."
   ]
  },
  {
   "cell_type": "code",
   "execution_count": null,
   "id": "4c94f289",
   "metadata": {},
   "outputs": [],
   "source": [
    "!pip install tiktoken"
   ]
  },
  {
   "cell_type": "code",
   "execution_count": null,
   "id": "e9e211e2",
   "metadata": {},
   "outputs": [],
   "source": [
    "Requirement already satisfied: tiktoken in /home/eddypermana22/.local/lib/python3.8/site-packages (0.4.0)\n",
    "Requirement already satisfied: requests>=2.26.0 in /home/eddypermana22/.local/lib/python3.8/site-packages (from tiktoken) (2.31.0)\n",
    "Requirement already satisfied: regex>=2022.1.18 in /home/eddypermana22/.local/lib/python3.8/site-packages (from tiktoken) (2023.6.3)\n",
    "Requirement already satisfied: charset-normalizer<4,>=2 in /home/eddypermana22/.local/lib/python3.8/site-packages (from requests>=2.26.0->tiktoken) (3.2.0)\n",
    "Requirement already satisfied: certifi>=2017.4.17 in /usr/lib/python3/dist-packages (from requests>=2.26.0->tiktoken) (2019.11.28)\n",
    "Requirement already satisfied: urllib3<3,>=1.21.1 in /usr/lib/python3/dist-packages (from requests>=2.26.0->tiktoken) (1.25.8)\n",
    "Requirement already satisfied: idna<4,>=2.5 in /usr/lib/python3/dist-packages (from requests>=2.26.0->tiktoken) (2.8)"
   ]
  },
  {
   "cell_type": "code",
   "execution_count": null,
   "id": "479273f8",
   "metadata": {},
   "outputs": [],
   "source": [
    "from langchain.memory import ConversationTokenBufferMemory"
   ]
  },
  {
   "cell_type": "code",
   "execution_count": null,
   "id": "1aec028a",
   "metadata": {},
   "outputs": [],
   "source": [
    "memory = ConversationTokenBufferMemory(llm=llm, max_token_limit=200)"
   ]
  },
  {
   "cell_type": "code",
   "execution_count": null,
   "id": "6ed53746",
   "metadata": {},
   "outputs": [],
   "source": [
    "memory.save_context({\"input\": \"Embeddings are what?\"},\n",
    "                    {\"output\": \"Exciting!\"})\n",
    "\n",
    "memory.save_context({\"input\": \"AI is what?!\"},\n",
    "                    {\"output\": \"Amazing!\"})\n",
    "\n",
    "memory.save_context({\"input\": \"Backpropagation is what?\"},\n",
    "                    {\"output\": \"Beautiful!\"})\n",
    "\n",
    "memory.save_context({\"input\": \"Deep learning is what?\"},\n",
    "                    {\"output\": \"Delightful!\"})\n",
    "\n",
    "memory.save_context({\"input\": \"Chatbots are what?\"}, \n",
    "                    {\"output\": \"Charming!\"})"
   ]
  },
  {
   "cell_type": "code",
   "execution_count": null,
   "id": "223747f7",
   "metadata": {},
   "outputs": [],
   "source": [
    "memory.load_memory_variables({})"
   ]
  },
  {
   "cell_type": "code",
   "execution_count": null,
   "id": "ab6859d5",
   "metadata": {},
   "outputs": [],
   "source": [
    "{'history': 'Human: Embeddings are what?\\nAI: Exciting!\\nHuman: AI is what?!\\nAI: Amazing!\\nHuman: Backpropagation is what?\\nAI: Beautiful!\\nHuman: Deep learning is what?\\nAI: Delightful!\\nHuman: Chatbots are what?\\nAI: Charming!'}"
   ]
  },
  {
   "cell_type": "markdown",
   "id": "f84f263e",
   "metadata": {},
   "source": [
    "The ConversationTokenBufferMemory is used when it’s crucial to control both memory usage and the cost associated with a language model’s token processing. This type of memory can limit the number of tokens stored to a defined maximum, which directly maps to the cost of the language model calls."
   ]
  },
  {
   "cell_type": "markdown",
   "id": "eaefc471",
   "metadata": {},
   "source": [
    "Here are some examples where ConversationTokenBufferMemory can be beneficial:"
   ]
  },
  {
   "cell_type": "markdown",
   "id": "60bab706",
   "metadata": {},
   "source": [
    "Cost-Effective Chatbots: For interactive chatbots being used extensively, limiting the number of tokens processed can help reduce operation costs associated with large language models, particularly when a user interacts frequently or provides extensive inputs."
   ]
  },
  {
   "cell_type": "markdown",
   "id": "c98c44c0",
   "metadata": {},
   "source": [
    "Large-Scale Applications: In large-scale applications that handle multiple instances of language models for multiple users, using ConversationTokenBufferMemory could improve performance while remaining cost-effective."
   ]
  },
  {
   "cell_type": "markdown",
   "id": "328648a8",
   "metadata": {},
   "source": [
    "Data Capping: When you want to put a cap on the amount of data stored and processed for practical or regulatory reasons, the token buffer memory allows this flexibility."
   ]
  },
  {
   "cell_type": "markdown",
   "id": "eeab5425",
   "metadata": {},
   "source": [
    "In essence, wherever controlling the amount of processed data or tokens is crucial for performance, cost, or compliance reasons, ConversationTokenBufferMemory provides an effective solution."
   ]
  },
  {
   "cell_type": "markdown",
   "id": "36868351",
   "metadata": {},
   "source": [
    "# ConversationSummaryBufferMemory"
   ]
  },
  {
   "cell_type": "markdown",
   "id": "e77692fc",
   "metadata": {},
   "source": [
    "Finally, the ConversationSummaryBufferMemory uses a language model to summarize the conversation when the token limit is reached. For example, if you have a long conversation and you want to summarize it, this memory type can be helpful."
   ]
  },
  {
   "cell_type": "code",
   "execution_count": null,
   "id": "ca2539a6",
   "metadata": {},
   "outputs": [],
   "source": [
    "from langchain.memory import ConversationSummaryBufferMemory"
   ]
  },
  {
   "cell_type": "code",
   "execution_count": null,
   "id": "abc2a62e",
   "metadata": {},
   "outputs": [],
   "source": [
    "scheduleString = \"This is your personalized and detailed daily schedule reminder. You begin your day bright and early at 6 am with a few minutes of mindfulness and meditation to set the tone for the day. At 7 am, you have a nutritious breakfast, followed by a re-energizing morning workout at 7:30 am. After freshening up, you dive into your first meeting of the day at 9 am that continues until 10 am. Subsequently, from 10:30 am to 12 noon, you'll be conducting a project review. When lunchtime rolls around at 12 pm, take a well-deserved break until 1 pm. Once you're rejuvenated, you're set to join a brainstorming session from 1:30 pm to 3 pm. You've set aside the time between 3 pm to 4 pm to catch up on emails and pending tasks. From 4:30 pm to 5:30 pm, you're scheduled for another meeting. Afterwards, from 5:30 pm onwards, it's your leisure time to be used as you see fit. Remember to have your dinner at 7:30 pm to keep you fueled for the next day. Before retiring for the night at 10 pm, allow yourself some relaxation or quiet reading time. Throughout the day, it's critically important to stay hydrated and take short breaks for proper rest. Here's to a productive and successful day ahead!\""
   ]
  },
  {
   "cell_type": "code",
   "execution_count": null,
   "id": "ce9b9885",
   "metadata": {},
   "outputs": [],
   "source": [
    "memory = ConversationSummaryBufferMemory(llm=llm, max_token_limit=100)"
   ]
  },
  {
   "cell_type": "code",
   "execution_count": null,
   "id": "b6d794c8",
   "metadata": {},
   "outputs": [],
   "source": [
    "memory.save_context({\"input\": \"Hello\"}, {\"output\": \"What's up\"})\n",
    "\n",
    "memory.save_context({\"input\": \"Not much, just hanging\"},\n",
    "                    {\"output\": \"Cool\"})\n",
    "\n",
    "memory.save_context({\"input\": \"What is on the schedule today?\"}, \n",
    "                    {\"output\": f\"{scheduleString}\"})"
   ]
  },
  {
   "cell_type": "code",
   "execution_count": null,
   "id": "db05f546",
   "metadata": {},
   "outputs": [],
   "source": [
    "memory.load_memory_variables({})"
   ]
  },
  {
   "cell_type": "code",
   "execution_count": null,
   "id": "08c0bab9",
   "metadata": {},
   "outputs": [],
   "source": [
    "{'history': 'System: The human and AI exchange greetings before the human asks about their schedule for the day. The AI provides a detailed schedule, starting with mindfulness and meditation at 6 am, followed by breakfast and a workout. The human has a meeting at 9 am, a project review from 10:30 am to 12 pm, lunch at 12 pm, a brainstorming session from 1:30 pm to 3 pm, time to catch up on emails and tasks from 3 pm to 4 pm, another meeting from 4:30 pm to 5:30 pm, and leisure time from 5:30 pm onwards. The AI reminds the human to stay hydrated, take breaks, and have dinner at 7:30 pm before going to bed at 10 pm.'}"
   ]
  },
  {
   "cell_type": "code",
   "execution_count": null,
   "id": "c85253a2",
   "metadata": {},
   "outputs": [],
   "source": [
    "conversation = ConversationChain(\n",
    "    llm=llm, \n",
    "    memory = memory,\n",
    "    verbose=True\n",
    ")"
   ]
  },
  {
   "cell_type": "code",
   "execution_count": null,
   "id": "89ace909",
   "metadata": {},
   "outputs": [],
   "source": [
    "conversation.predict(input=\"When the first meeting?\")"
   ]
  },
  {
   "cell_type": "code",
   "execution_count": null,
   "id": "0a1f58cb",
   "metadata": {},
   "outputs": [],
   "source": [
    "\n",
    "\n",
    "> Entering new ConversationChain chain...\n",
    "Prompt after formatting:\n",
    "The following is a friendly conversation between a human and an AI. The AI is talkative and provides lots of specific details from its context. If the AI does not know the answer to a question, it truthfully says it does not know.\n",
    "\n",
    "Current conversation:\n",
    "System: The human and AI exchange greetings before the human asks about their schedule for the day. The AI provides a detailed schedule, starting with mindfulness and meditation at 6 am, followed by breakfast and a workout. The human has a meeting at 9 am, a project review from 10:30 am to 12 pm, lunch at 12 pm, a brainstorming session from 1:30 pm to 3 pm, time to catch up on emails and tasks from 3 pm to 4 pm, another meeting from 4:30 pm to 5:30 pm, and leisure time from 5:30 pm onwards. The AI reminds the human to stay hydrated, take breaks, and have dinner at 7:30 pm before going to bed at 10 pm.\n",
    "Human: When the first meeting?\n",
    "AI:\n",
    "\n",
    "> Finished chain."
   ]
  },
  {
   "cell_type": "code",
   "execution_count": null,
   "id": "1e794e3b",
   "metadata": {},
   "outputs": [],
   "source": [
    "'The first meeting is scheduled for 9 am.'"
   ]
  },
  {
   "cell_type": "code",
   "execution_count": null,
   "id": "5263bd98",
   "metadata": {},
   "outputs": [],
   "source": [
    "memory.load_memory_variables({})"
   ]
  },
  {
   "cell_type": "code",
   "execution_count": null,
   "id": "e36d8634",
   "metadata": {},
   "outputs": [],
   "source": [
    "{'history': 'System: The human and AI exchange greetings before the human asks about their schedule for the day. The AI provides a detailed schedule, starting with mindfulness and meditation at 6 am, followed by breakfast and a workout. The human has a meeting at 9 am, a project review from 10:30 am to 12 pm, lunch at 12 pm, a brainstorming session from 1:30 pm to 3 pm, time to catch up on emails and tasks from 3 pm to 4 pm, another meeting from 4:30 pm to 5:30 pm, and leisure time from 5:30 pm onwards. The AI reminds the human to stay hydrated, take breaks, and have dinner at 7:30 pm before going to bed at 10 pm.\\nHuman: When the first meeting?\\nAI: The first meeting is scheduled for 9 am.'}"
   ]
  },
  {
   "cell_type": "markdown",
   "id": "59c69b4f",
   "metadata": {},
   "source": [
    "ConversationSummaryBufferMemory is employed in situations where you’d like to maintain the gist of the conversation without storing every single detail because of token or resource limitations. It uses a language model to summarize the dialogue and stores the summary."
   ]
  },
  {
   "cell_type": "markdown",
   "id": "01fcd621",
   "metadata": {},
   "source": [
    "Here are a few typical instances where you might find this memory type useful:"
   ]
  },
  {
   "cell_type": "markdown",
   "id": "cc68852f",
   "metadata": {},
   "source": [
    "Large-scale Conversations: If a conversation is extensive or spans over a long period of time and storing every detail isn’t feasible due to token limitations or efficiency concerns, ConversationSummaryBufferMemory would be useful for retaining the most critical information without exhausting the resources."
   ]
  },
  {
   "cell_type": "markdown",
   "id": "f46cfcef",
   "metadata": {},
   "source": [
    "Business Meetings: In digital platforms for brainstorming, meetings, or webinars, we often need to create a concise summary of the long conversations. This memory type could be very effective in such contexts."
   ]
  },
  {
   "cell_type": "markdown",
   "id": "25c77051",
   "metadata": {},
   "source": [
    "Educational Platforms: In an e-learning environment, where a teacher interacts with several students, ConversationSummaryBufferMemory could assist in summarizing the key points of this interaction, aiding in generating reviewable content after a class or a session."
   ]
  },
  {
   "cell_type": "markdown",
   "id": "00a8b7ce",
   "metadata": {},
   "source": [
    "News or Document Summarizing Applications: If a conversation or text represents a news article or a document that needs to be summarized, ConversationSummaryBufferMemory could store the summarised version, helping users get the crux of the information promptly."
   ]
  },
  {
   "cell_type": "markdown",
   "id": "32fd79db",
   "metadata": {},
   "source": [
    "In essence, ConversationSummaryBufferMemory enables you to retain the core thread of a dialogue or content even with a high volume of tokens, offering a summary of the main points while using fewer resources."
   ]
  },
  {
   "cell_type": "markdown",
   "id": "d8d45893",
   "metadata": {},
   "source": [
    "In addition to what has been mentioned, LangChain also supports two other features: VectorStoreRetrieverMemory, which stores word or text embeddings, and ConversationEntityMemory, which retains details about specific entities."
   ]
  },
  {
   "cell_type": "markdown",
   "id": "347c1d43",
   "metadata": {},
   "source": [
    "These two features will be explained in detail in the subsequent material."
   ]
  },
  {
   "cell_type": "markdown",
   "id": "50bfc908",
   "metadata": {},
   "source": [
    "# Memory Exercise"
   ]
  },
  {
   "cell_type": "code",
   "execution_count": null,
   "id": "0d96d4ad",
   "metadata": {},
   "outputs": [],
   "source": [
    "%pip install rggrader"
   ]
  },
  {
   "cell_type": "code",
   "execution_count": null,
   "id": "2a2a76c5",
   "metadata": {},
   "outputs": [],
   "source": [
    "# @title #### Student Identity\n",
    "student_id = \"your student id\" # @param {type:\"string\"}\n",
    "name = \"your name\" # @param {type:\"string\"}"
   ]
  },
  {
   "cell_type": "code",
   "execution_count": null,
   "id": "47944d7b",
   "metadata": {},
   "outputs": [],
   "source": [
    "# @title #### 00. Router Chain\n",
    "from rggrader import submit\n",
    "import os\n",
    "from langchain.chat_models import ChatOpenAI\n",
    "from dotenv import load_dotenv, find_dotenv\n",
    "from langchain.chains import ConversationChain\n",
    "from langchain.memory import ConversationBufferMemory\n",
    "\n",
    "# TODO:\n",
    "# Create a chat application using the `ConversationBufferMemory` memory type\n",
    "# Provide `ConversationBufferMemory` in the `memory' variable which will store data across calls to the chain.\n",
    "# Also use the GPT 3.5-turbo chat model in the process.\n",
    "# Have several conversations to see whether your chat application can remember/recognize the information previously asked.\n",
    "\n",
    "# Put your code here:\n",
    "memory = ConversationBufferMemory()\n",
    "\n",
    "question=\"your question\" # @param {type:\"string\"}\n",
    "conversationUsingBufferMemory.predict(input=question)\n",
    "# ---- End of your code ----\n",
    "\n",
    "# Example of Expected Output:\n",
    "\"\"\"\n",
    "> Entering new ConversationChain chain...\n",
    "Prompt after formatting:\n",
    "The following is a friendly conversation between a human and an AI. The AI is talkative and provides lots of specific details from its context. If the AI does not know the answer to a question, it truthfully says it does not know.\n",
    "\n",
    "Current conversation:\n",
    "Human: Hello, i'm Djarot Purnomo. I'm a UI/UX Designer\n",
    "AI: Hello Djarot Purnomo! It's nice to meet you. As a UI/UX Designer, you must have a lot of experience in creating user-friendly and visually appealing interfaces. How long have you been working in this field?\n",
    "Human: explain the relationship between a UI/UX Designer and a Front End Engineer\n",
    "AI: A UI/UX Designer and a Front End Engineer often work closely together to create a seamless user experience. The UI/UX Designer focuses on the overall look and feel of the interface, including the layout, color scheme, and typography. They also conduct user research and create wireframes and prototypes to test and refine the design.\n",
    "\n",
    "On the other hand, the Front End Engineer is responsible for implementing the design into a functional website or application. They take the visual elements created by the UI/UX Designer and use programming languages like HTML, CSS, and JavaScript to bring them to life. They ensure that the design is responsive, interactive, and optimized for different devices and browsers.\n",
    "\n",
    "In summary, the UI/UX Designer focuses on the user experience and visual design, while the Front End Engineer focuses on the technical implementation of that design. They collaborate closely to ensure that the final product is both visually appealing and user-friendly.\n",
    "Human: What skills do I currently have?\n",
    "AI:\n",
    "\n",
    "> Finished chain.\n",
    "As an AI, I don't have access to personal information or knowledge about your specific skills. Therefore, I cannot accurately determine what skills you currently have. However, based on your previous statement that you are a UI/UX Designer, it can be inferred that you have skills in creating user-friendly interfaces, conducting user research, creating wireframes and prototypes, and possibly knowledge of design tools such as Adobe XD or Sketch.\n",
    "\"\"\""
   ]
  },
  {
   "cell_type": "code",
   "execution_count": null,
   "id": "62fb99b1",
   "metadata": {},
   "outputs": [],
   "source": [
    "# Submit Method\n",
    "assignment_id = \"00_memory\"\n",
    "question_id = \"00_conversation_buffer_memory\"\n",
    "history = memory.buffer\n",
    "submit(student_id, name, assignment_id, history, question_id)"
   ]
  }
 ],
 "metadata": {},
 "nbformat": 4,
 "nbformat_minor": 5
}
