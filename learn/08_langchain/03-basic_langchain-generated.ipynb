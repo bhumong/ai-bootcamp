{
 "cells": [
  {
   "cell_type": "markdown",
   "id": "1a6a7467",
   "metadata": {},
   "source": [
    "source: [link](https://ai-bootcamp.ruangguru.com/learn/08_langchain/03-basic_langchain.html)"
   ]
  },
  {
   "cell_type": "markdown",
   "id": "ec287320",
   "metadata": {},
   "source": [
    "# Basic Usage LangChain"
   ]
  },
  {
   "cell_type": "markdown",
   "id": "d564d22a",
   "metadata": {},
   "source": [
    "# 3 Basic Things to know"
   ]
  },
  {
   "cell_type": "markdown",
   "id": "7009a685",
   "metadata": {},
   "source": [
    "Before we jump into the deep of the LangChain Framework, there are 3 basic things to know:"
   ]
  },
  {
   "cell_type": "markdown",
   "id": "542acc96",
   "metadata": {},
   "source": [
    "- Prompt Template\n",
    "- Chat Models\n",
    "- Chains"
   ]
  },
  {
   "cell_type": "markdown",
   "id": "d7592509",
   "metadata": {},
   "source": [
    "# Prompt Template"
   ]
  },
  {
   "cell_type": "markdown",
   "id": "9c6846d4",
   "metadata": {},
   "source": [
    "Prompt Templates are predefined structures used to guide the responses of language models."
   ]
  },
  {
   "cell_type": "markdown",
   "id": "4326c874",
   "metadata": {},
   "source": [
    "# Why Prompt Templates?"
   ]
  },
  {
   "cell_type": "markdown",
   "id": "48e1b35b",
   "metadata": {},
   "source": [
    "- ConsistencyBy using a set structure, prompt templates ensure consistent responses from the language model.\n",
    "- RelevanceTemplates can be designed to elicit specific types of responses, ensuring the output is relevant to the user’s needs."
   ]
  },
  {
   "cell_type": "markdown",
   "id": "5e627177",
   "metadata": {},
   "source": [
    "Consistency"
   ]
  },
  {
   "cell_type": "markdown",
   "id": "8579fd78",
   "metadata": {},
   "source": [
    "By using a set structure, prompt templates ensure consistent responses from the language model."
   ]
  },
  {
   "cell_type": "markdown",
   "id": "3e60445f",
   "metadata": {},
   "source": [
    "Relevance"
   ]
  },
  {
   "cell_type": "markdown",
   "id": "1ba0a826",
   "metadata": {},
   "source": [
    "Templates can be designed to elicit specific types of responses, ensuring the output is relevant to the user’s needs."
   ]
  },
  {
   "cell_type": "markdown",
   "id": "545ee1ff",
   "metadata": {},
   "source": [
    "# Example Prompt Template"
   ]
  },
  {
   "cell_type": "markdown",
   "id": "795539f3",
   "metadata": {},
   "source": [
    "Prompt Template for a Movie Recommendation"
   ]
  },
  {
   "cell_type": "code",
   "execution_count": null,
   "id": "566384dc",
   "metadata": {},
   "outputs": [],
   "source": [
    "\"Based on your preference for {genre} movies and your interest in {actor}, I would recommend 5 Films:\""
   ]
  },
  {
   "cell_type": "markdown",
   "id": "18ee96b8",
   "metadata": {},
   "source": [
    "In this template: * {genre} would be replaced by the user’s preferred movie genre (e.g., action, comedy, drama). * {actor} would be replaced by the user’s favorite actor."
   ]
  },
  {
   "cell_type": "markdown",
   "id": "0f0b2b5f",
   "metadata": {},
   "source": [
    "The final prompt would look something like this:"
   ]
  },
  {
   "cell_type": "code",
   "execution_count": null,
   "id": "e6829c07",
   "metadata": {},
   "outputs": [],
   "source": [
    "\"Based on your preference for comedy movies and your interest in Will Ferrell, I would recommend 5 Film:\""
   ]
  },
  {
   "cell_type": "markdown",
   "id": "b8930f1b",
   "metadata": {},
   "source": [
    "Prompt Template for a Restaurant Recommendation"
   ]
  },
  {
   "cell_type": "code",
   "execution_count": null,
   "id": "140ecfb5",
   "metadata": {},
   "outputs": [],
   "source": [
    "\"Considering your love for {cuisine_type} and your location in {city}, I suggest you try the following restaurant:\""
   ]
  },
  {
   "cell_type": "markdown",
   "id": "e8297ed2",
   "metadata": {},
   "source": [
    "In this template: * {cuisine_type} would be replaced by the user’s preferred cuisine (e.g., Italian, Chinese, Mexican). * {city} would be replaced by the user’s current city."
   ]
  },
  {
   "cell_type": "markdown",
   "id": "ec64cf7b",
   "metadata": {},
   "source": [
    "The final prompt would look something like this:"
   ]
  },
  {
   "cell_type": "code",
   "execution_count": null,
   "id": "4492feca",
   "metadata": {},
   "outputs": [],
   "source": [
    "\"Considering your love for ramen and your location in Bandung, I suggest you try the following restaurant:\""
   ]
  },
  {
   "cell_type": "markdown",
   "id": "fc5fe009",
   "metadata": {},
   "source": [
    "# Creating a Prompt Template"
   ]
  },
  {
   "cell_type": "markdown",
   "id": "f9412fde",
   "metadata": {},
   "source": [
    "Prompt templates are created using the PromptTemplate from the langchain library."
   ]
  },
  {
   "cell_type": "code",
   "execution_count": null,
   "id": "35392dfb",
   "metadata": {},
   "outputs": [],
   "source": [
    "from langchain import PromptTemplate\n",
    "\n",
    "template_movie_recomendation = \"Based on your preference for {genre} movies and your interest in {actor}, I would recommend {movie_title}.\"\n",
    "\n",
    "prompt_template_movie_recomendation = PromptTemplate(input_variables=[\"genre\", \"actor\", \"movie_title\"], template=template_movie_recomendation)"
   ]
  },
  {
   "cell_type": "markdown",
   "id": "c14ef9ae",
   "metadata": {},
   "source": [
    "# Chat Models"
   ]
  },
  {
   "cell_type": "markdown",
   "id": "343e578d",
   "metadata": {},
   "source": [
    "Chat Models are specialized language models designed for conversational interactions."
   ]
  },
  {
   "cell_type": "markdown",
   "id": "6ece25d9",
   "metadata": {},
   "source": [
    "# Why Chat Models?"
   ]
  },
  {
   "cell_type": "markdown",
   "id": "bffe236a",
   "metadata": {},
   "source": [
    "- Natural Interaction"
   ]
  },
  {
   "cell_type": "markdown",
   "id": "f247bb69",
   "metadata": {},
   "source": [
    "Chat models are trained to respond in a conversational manner, providing a more engaging and natural user experience."
   ]
  },
  {
   "cell_type": "markdown",
   "id": "670c271f",
   "metadata": {},
   "source": [
    "- Context Awareness"
   ]
  },
  {
   "cell_type": "markdown",
   "id": "61f7fe3e",
   "metadata": {},
   "source": [
    "Unlike traditional models, chat models can maintain context over a series of exchanges, allowing for more coherent and meaningful conversations."
   ]
  },
  {
   "cell_type": "markdown",
   "id": "9f6c79f2",
   "metadata": {},
   "source": [
    "Note: In this course, we will be using chat models from OpenAI’s"
   ]
  },
  {
   "cell_type": "markdown",
   "id": "5496e7c9",
   "metadata": {},
   "source": [
    "# Declaring a Chat Model"
   ]
  },
  {
   "cell_type": "markdown",
   "id": "7a83d5a1",
   "metadata": {},
   "source": [
    "Chat model is declared using the ChatOpenAI from the langchain.chat_models."
   ]
  },
  {
   "cell_type": "code",
   "execution_count": null,
   "id": "86528abd",
   "metadata": {},
   "outputs": [],
   "source": [
    "from langchain.chat_models import ChatOpenAI\n",
    "\n",
    "chat = ChatOpenAI(openai_api_key=\"...\", model_name=\"gpt-3.5-turbo\", temperature=0)"
   ]
  },
  {
   "cell_type": "markdown",
   "id": "82dffee1",
   "metadata": {},
   "source": [
    "# Chains"
   ]
  },
  {
   "cell_type": "markdown",
   "id": "cfa61f32",
   "metadata": {},
   "source": [
    "Chains in LangChain allow for sequential interactions with the language model, enabling more complex and contextual conversations."
   ]
  },
  {
   "cell_type": "markdown",
   "id": "57950e9b",
   "metadata": {},
   "source": [
    "# Why Chains?"
   ]
  },
  {
   "cell_type": "markdown",
   "id": "03970ef0",
   "metadata": {},
   "source": [
    "- Multiple StepsChains allow for multi-step interactions, where each step can influence the next, creating a dynamic conversation flow.\n",
    "- Context MaintenanceChains keep track of context over multiple exchanges, ensuring continuity in conversations."
   ]
  },
  {
   "cell_type": "markdown",
   "id": "2042edf0",
   "metadata": {},
   "source": [
    "Multiple Steps"
   ]
  },
  {
   "cell_type": "markdown",
   "id": "d8da4608",
   "metadata": {},
   "source": [
    "Chains allow for multi-step interactions, where each step can influence the next, creating a dynamic conversation flow."
   ]
  },
  {
   "cell_type": "markdown",
   "id": "e123680c",
   "metadata": {},
   "source": [
    "Context Maintenance"
   ]
  },
  {
   "cell_type": "markdown",
   "id": "e9c5c00c",
   "metadata": {},
   "source": [
    "Chains keep track of context over multiple exchanges, ensuring continuity in conversations."
   ]
  },
  {
   "cell_type": "markdown",
   "id": "5b92378c",
   "metadata": {},
   "source": []
  },
  {
   "cell_type": "markdown",
   "id": "e5339366",
   "metadata": {},
   "source": [
    "![Image](https://storage.googleapis.com/rg-ai-bootcamp/langchain/chain.png)"
   ]
  },
  {
   "cell_type": "markdown",
   "id": "4bd43091",
   "metadata": {},
   "source": [
    "# Declaring & Running a Chain"
   ]
  },
  {
   "cell_type": "markdown",
   "id": "661cc3a7",
   "metadata": {},
   "source": [
    "Chains are declared using the LLMChain from the langchain.chains library."
   ]
  },
  {
   "cell_type": "code",
   "execution_count": null,
   "id": "dc70b9c8",
   "metadata": {},
   "outputs": [],
   "source": [
    "from langchain.chains import LLMChain\n",
    "\n",
    "chain = LLMChain(llm=llm, prompt=prompt_template_movie_recomendation)\n",
    "\n",
    "print(chain.run(genre=\"action\", actor=\"Tom Cruise\"))"
   ]
  },
  {
   "cell_type": "markdown",
   "id": "fd5a7323",
   "metadata": {},
   "source": [
    "We already created a basic and simple application using the LangChain Framework. Let’s dive more with the LangChain Framework in the next section."
   ]
  }
 ],
 "metadata": {},
 "nbformat": 4,
 "nbformat_minor": 5
}
