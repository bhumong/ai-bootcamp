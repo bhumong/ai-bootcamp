{
 "cells": [
  {
   "cell_type": "markdown",
   "id": "4fe4f044",
   "metadata": {},
   "source": [
    "# Basic Usage LangChain"
   ]
  },
  {
   "cell_type": "markdown",
   "id": "1017aa1c",
   "metadata": {},
   "source": [
    "# 3 Basic Things to know"
   ]
  },
  {
   "cell_type": "markdown",
   "id": "12d13013",
   "metadata": {},
   "source": [
    "Before we jump into the deep of the LangChain Framework, there are 3 basic things to know:"
   ]
  },
  {
   "cell_type": "markdown",
   "id": "2d61db4b",
   "metadata": {},
   "source": [
    "# Prompt Template"
   ]
  },
  {
   "cell_type": "markdown",
   "id": "82307bd7",
   "metadata": {},
   "source": [
    "Prompt Templates are predefined structures used to guide the responses of language models."
   ]
  },
  {
   "cell_type": "markdown",
   "id": "b56bd8a4",
   "metadata": {},
   "source": [
    "# Why Prompt Templates?"
   ]
  },
  {
   "cell_type": "markdown",
   "id": "c7176819",
   "metadata": {},
   "source": [
    "Consistency"
   ]
  },
  {
   "cell_type": "markdown",
   "id": "230c1d48",
   "metadata": {},
   "source": [
    "By using a set structure, prompt templates ensure consistent responses from the language model."
   ]
  },
  {
   "cell_type": "markdown",
   "id": "00c2af57",
   "metadata": {},
   "source": [
    "Relevance"
   ]
  },
  {
   "cell_type": "markdown",
   "id": "48a5cb68",
   "metadata": {},
   "source": [
    "Templates can be designed to elicit specific types of responses, ensuring the output is relevant to the user’s needs."
   ]
  },
  {
   "cell_type": "markdown",
   "id": "9d973159",
   "metadata": {},
   "source": [
    "# Example Prompt Template"
   ]
  },
  {
   "cell_type": "markdown",
   "id": "53d23e06",
   "metadata": {},
   "source": [
    "Prompt Template for a Movie Recommendation"
   ]
  },
  {
   "cell_type": "code",
   "execution_count": null,
   "id": "f5c9147c",
   "metadata": {},
   "outputs": [],
   "source": [
    "\"Based on your preference for {genre} movies and your interest in {actor}, I would recommend 5 Films:\""
   ]
  },
  {
   "cell_type": "markdown",
   "id": "6a8b71ea",
   "metadata": {},
   "source": [
    "In this template: * {genre} would be replaced by the user’s preferred movie genre (e.g., action, comedy, drama). * {actor} would be replaced by the user’s favorite actor."
   ]
  },
  {
   "cell_type": "markdown",
   "id": "bc752843",
   "metadata": {},
   "source": [
    "The final prompt would look something like this:"
   ]
  },
  {
   "cell_type": "code",
   "execution_count": null,
   "id": "f51862c1",
   "metadata": {},
   "outputs": [],
   "source": [
    "\"Based on your preference for comedy movies and your interest in Will Ferrell, I would recommend 5 Film:\""
   ]
  },
  {
   "cell_type": "markdown",
   "id": "a332fcd2",
   "metadata": {},
   "source": [
    "Prompt Template for a Restaurant Recommendation"
   ]
  },
  {
   "cell_type": "code",
   "execution_count": null,
   "id": "a4b2460e",
   "metadata": {},
   "outputs": [],
   "source": [
    "\"Considering your love for {cuisine_type} and your location in {city}, I suggest you try the following restaurant:\""
   ]
  },
  {
   "cell_type": "markdown",
   "id": "ebd74e7d",
   "metadata": {},
   "source": [
    "In this template: * {cuisine_type} would be replaced by the user’s preferred cuisine (e.g., Italian, Chinese, Mexican). * {city} would be replaced by the user’s current city."
   ]
  },
  {
   "cell_type": "markdown",
   "id": "1f69a981",
   "metadata": {},
   "source": [
    "The final prompt would look something like this:"
   ]
  },
  {
   "cell_type": "code",
   "execution_count": null,
   "id": "79a97fee",
   "metadata": {},
   "outputs": [],
   "source": [
    "\"Considering your love for ramen and your location in Bandung, I suggest you try the following restaurant:\""
   ]
  },
  {
   "cell_type": "markdown",
   "id": "8e40da43",
   "metadata": {},
   "source": [
    "# Creating a Prompt Template"
   ]
  },
  {
   "cell_type": "markdown",
   "id": "120779fe",
   "metadata": {},
   "source": [
    "Prompt templates are created using the PromptTemplate from the langchain library."
   ]
  },
  {
   "cell_type": "code",
   "execution_count": null,
   "id": "6b496d5b",
   "metadata": {},
   "outputs": [],
   "source": [
    "from langchain import PromptTemplate\n",
    "\n",
    "template_movie_recomendation = \"Based on your preference for {genre} movies and your interest in {actor}, I would recommend {movie_title}.\"\n",
    "\n",
    "prompt_template_movie_recomendation = PromptTemplate(input_variables=[\"genre\", \"actor\", \"movie_title\"], template=template_movie_recomendation)"
   ]
  },
  {
   "cell_type": "markdown",
   "id": "3a38d822",
   "metadata": {},
   "source": [
    "# Chat Models"
   ]
  },
  {
   "cell_type": "markdown",
   "id": "a6e34bce",
   "metadata": {},
   "source": [
    "Chat Models are specialized language models designed for conversational interactions."
   ]
  },
  {
   "cell_type": "markdown",
   "id": "4aa7c3f1",
   "metadata": {},
   "source": [
    "# Why Chat Models?"
   ]
  },
  {
   "cell_type": "markdown",
   "id": "1e8160a7",
   "metadata": {},
   "source": [
    "Chat models are trained to respond in a conversational manner, providing a more engaging and natural user experience."
   ]
  },
  {
   "cell_type": "markdown",
   "id": "9a73b6b2",
   "metadata": {},
   "source": [
    "Unlike traditional models, chat models can maintain context over a series of exchanges, allowing for more coherent and meaningful conversations."
   ]
  },
  {
   "cell_type": "markdown",
   "id": "2df31e03",
   "metadata": {},
   "source": [
    "Note: In this course, we will be using chat models from OpenAI’s"
   ]
  },
  {
   "cell_type": "markdown",
   "id": "7c914bd2",
   "metadata": {},
   "source": [
    "# Declaring a Chat Model"
   ]
  },
  {
   "cell_type": "markdown",
   "id": "825b1fcd",
   "metadata": {},
   "source": [
    "Chat model is declared using the ChatOpenAI from the langchain.chat_models."
   ]
  },
  {
   "cell_type": "code",
   "execution_count": null,
   "id": "60f97fe9",
   "metadata": {},
   "outputs": [],
   "source": [
    "from langchain.chat_models import ChatOpenAI\n",
    "\n",
    "chat = ChatOpenAI(openai_api_key=\"...\", model_name=\"gpt-3.5-turbo\", temperature=0)"
   ]
  },
  {
   "cell_type": "markdown",
   "id": "e205f182",
   "metadata": {},
   "source": [
    "# Chains"
   ]
  },
  {
   "cell_type": "markdown",
   "id": "e1ac66f9",
   "metadata": {},
   "source": [
    "Chains in LangChain allow for sequential interactions with the language model, enabling more complex and contextual conversations."
   ]
  },
  {
   "cell_type": "markdown",
   "id": "ce886564",
   "metadata": {},
   "source": [
    "# Why Chains?"
   ]
  },
  {
   "cell_type": "markdown",
   "id": "a0cce1d2",
   "metadata": {},
   "source": [
    "Multiple Steps"
   ]
  },
  {
   "cell_type": "markdown",
   "id": "c7b0b865",
   "metadata": {},
   "source": [
    "Chains allow for multi-step interactions, where each step can influence the next, creating a dynamic conversation flow."
   ]
  },
  {
   "cell_type": "markdown",
   "id": "89020059",
   "metadata": {},
   "source": [
    "Context Maintenance"
   ]
  },
  {
   "cell_type": "markdown",
   "id": "c210cf0f",
   "metadata": {},
   "source": [
    "Chains keep track of context over multiple exchanges, ensuring continuity in conversations."
   ]
  },
  {
   "cell_type": "markdown",
   "id": "121067ea",
   "metadata": {},
   "source": []
  },
  {
   "cell_type": "markdown",
   "id": "f1c62b6e",
   "metadata": {},
   "source": [
    "![Image](https://storage.googleapis.com/rg-ai-bootcamp/langchain/chain.png)"
   ]
  },
  {
   "cell_type": "markdown",
   "id": "4853e301",
   "metadata": {},
   "source": [
    "# Declaring & Running a Chain"
   ]
  },
  {
   "cell_type": "markdown",
   "id": "0486ec33",
   "metadata": {},
   "source": [
    "Chains are declared using the LLMChain from the langchain.chains library."
   ]
  },
  {
   "cell_type": "code",
   "execution_count": null,
   "id": "279c3cb4",
   "metadata": {},
   "outputs": [],
   "source": [
    "from langchain.chains import LLMChain\n",
    "\n",
    "chain = LLMChain(llm=llm, prompt=prompt_template_movie_recomendation)\n",
    "\n",
    "print(chain.run(genre=\"action\", actor=\"Tom Cruise\"))"
   ]
  },
  {
   "cell_type": "markdown",
   "id": "b3573b8e",
   "metadata": {},
   "source": [
    "We already created a basic and simple application using the LangChain Framework. Let’s dive more with the LangChain Framework in the next section."
   ]
  }
 ],
 "metadata": {},
 "nbformat": 4,
 "nbformat_minor": 5
}
