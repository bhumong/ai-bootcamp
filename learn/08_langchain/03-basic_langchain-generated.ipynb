{
 "cells": [
  {
   "cell_type": "markdown",
   "id": "832816af",
   "metadata": {},
   "source": [
    "# Basic Usage LangChain"
   ]
  },
  {
   "cell_type": "markdown",
   "id": "6e763a76",
   "metadata": {},
   "source": [
    "# 3 Basic Things to know"
   ]
  },
  {
   "cell_type": "markdown",
   "id": "0a50b464",
   "metadata": {},
   "source": [
    "Before we jump into the deep of the LangChain Framework, there are 3 basic things to know:"
   ]
  },
  {
   "cell_type": "markdown",
   "id": "db9637cd",
   "metadata": {},
   "source": [
    "# Prompt Template"
   ]
  },
  {
   "cell_type": "markdown",
   "id": "782d3bad",
   "metadata": {},
   "source": [
    "Prompt Templates are predefined structures used to guide the responses of language models."
   ]
  },
  {
   "cell_type": "markdown",
   "id": "4fbca659",
   "metadata": {},
   "source": [
    "# Why Prompt Templates?"
   ]
  },
  {
   "cell_type": "markdown",
   "id": "ea31332a",
   "metadata": {},
   "source": [
    "Consistency"
   ]
  },
  {
   "cell_type": "markdown",
   "id": "12b9ac89",
   "metadata": {},
   "source": [
    "By using a set structure, prompt templates ensure consistent responses from the language model."
   ]
  },
  {
   "cell_type": "markdown",
   "id": "3c30d12b",
   "metadata": {},
   "source": [
    "Relevance"
   ]
  },
  {
   "cell_type": "markdown",
   "id": "e2cd18a5",
   "metadata": {},
   "source": [
    "Templates can be designed to elicit specific types of responses, ensuring the output is relevant to the user’s needs."
   ]
  },
  {
   "cell_type": "markdown",
   "id": "c702beb9",
   "metadata": {},
   "source": [
    "# Example Prompt Template"
   ]
  },
  {
   "cell_type": "markdown",
   "id": "84964519",
   "metadata": {},
   "source": [
    "Prompt Template for a Movie Recommendation"
   ]
  },
  {
   "cell_type": "code",
   "execution_count": null,
   "id": "73cf336d",
   "metadata": {},
   "outputs": [],
   "source": [
    "\"Based on your preference for {genre} movies and your interest in {actor}, I would recommend 5 Films:\""
   ]
  },
  {
   "cell_type": "markdown",
   "id": "b3a096e8",
   "metadata": {},
   "source": [
    "In this template: * {genre} would be replaced by the user’s preferred movie genre (e.g., action, comedy, drama). * {actor} would be replaced by the user’s favorite actor."
   ]
  },
  {
   "cell_type": "markdown",
   "id": "32613ae3",
   "metadata": {},
   "source": [
    "The final prompt would look something like this:"
   ]
  },
  {
   "cell_type": "code",
   "execution_count": null,
   "id": "974fec25",
   "metadata": {},
   "outputs": [],
   "source": [
    "\"Based on your preference for comedy movies and your interest in Will Ferrell, I would recommend 5 Film:\""
   ]
  },
  {
   "cell_type": "markdown",
   "id": "cfbc0137",
   "metadata": {},
   "source": [
    "Prompt Template for a Restaurant Recommendation"
   ]
  },
  {
   "cell_type": "code",
   "execution_count": null,
   "id": "425cf35e",
   "metadata": {},
   "outputs": [],
   "source": [
    "\"Considering your love for {cuisine_type} and your location in {city}, I suggest you try the following restaurant:\""
   ]
  },
  {
   "cell_type": "markdown",
   "id": "85a0fac3",
   "metadata": {},
   "source": [
    "In this template: * {cuisine_type} would be replaced by the user’s preferred cuisine (e.g., Italian, Chinese, Mexican). * {city} would be replaced by the user’s current city."
   ]
  },
  {
   "cell_type": "markdown",
   "id": "d1742e92",
   "metadata": {},
   "source": [
    "The final prompt would look something like this:"
   ]
  },
  {
   "cell_type": "code",
   "execution_count": null,
   "id": "00f284f5",
   "metadata": {},
   "outputs": [],
   "source": [
    "\"Considering your love for ramen and your location in Bandung, I suggest you try the following restaurant:\""
   ]
  },
  {
   "cell_type": "markdown",
   "id": "36f12977",
   "metadata": {},
   "source": [
    "# Creating a Prompt Template"
   ]
  },
  {
   "cell_type": "markdown",
   "id": "d46bf261",
   "metadata": {},
   "source": [
    "Prompt templates are created using the PromptTemplate from the langchain library."
   ]
  },
  {
   "cell_type": "code",
   "execution_count": null,
   "id": "a5b6337f",
   "metadata": {},
   "outputs": [],
   "source": [
    "from langchain import PromptTemplate\n",
    "\n",
    "template_movie_recomendation = \"Based on your preference for {genre} movies and your interest in {actor}, I would recommend {movie_title}.\"\n",
    "\n",
    "prompt_template_movie_recomendation = PromptTemplate(input_variables=[\"genre\", \"actor\", \"movie_title\"], template=template_movie_recomendation)"
   ]
  },
  {
   "cell_type": "markdown",
   "id": "fd91eb05",
   "metadata": {},
   "source": [
    "# Chat Models"
   ]
  },
  {
   "cell_type": "markdown",
   "id": "8cb9206d",
   "metadata": {},
   "source": [
    "Chat Models are specialized language models designed for conversational interactions."
   ]
  },
  {
   "cell_type": "markdown",
   "id": "0ff93de4",
   "metadata": {},
   "source": [
    "# Why Chat Models?"
   ]
  },
  {
   "cell_type": "markdown",
   "id": "db8fbf4e",
   "metadata": {},
   "source": [
    "Chat models are trained to respond in a conversational manner, providing a more engaging and natural user experience."
   ]
  },
  {
   "cell_type": "markdown",
   "id": "05db2445",
   "metadata": {},
   "source": [
    "Unlike traditional models, chat models can maintain context over a series of exchanges, allowing for more coherent and meaningful conversations."
   ]
  },
  {
   "cell_type": "markdown",
   "id": "31ba2a30",
   "metadata": {},
   "source": [
    "Note: In this course, we will be using chat models from OpenAI’s"
   ]
  },
  {
   "cell_type": "markdown",
   "id": "62c8eda1",
   "metadata": {},
   "source": [
    "# Declaring a Chat Model"
   ]
  },
  {
   "cell_type": "markdown",
   "id": "7af300f8",
   "metadata": {},
   "source": [
    "Chat model is declared using the ChatOpenAI from the langchain.chat_models."
   ]
  },
  {
   "cell_type": "code",
   "execution_count": null,
   "id": "b57298db",
   "metadata": {},
   "outputs": [],
   "source": [
    "from langchain.chat_models import ChatOpenAI\n",
    "\n",
    "chat = ChatOpenAI(openai_api_key=\"...\", model_name=\"gpt-3.5-turbo\", temperature=0)"
   ]
  },
  {
   "cell_type": "markdown",
   "id": "f7e27e2c",
   "metadata": {},
   "source": [
    "# Chains"
   ]
  },
  {
   "cell_type": "markdown",
   "id": "a1eb470e",
   "metadata": {},
   "source": [
    "Chains in LangChain allow for sequential interactions with the language model, enabling more complex and contextual conversations."
   ]
  },
  {
   "cell_type": "markdown",
   "id": "a7077418",
   "metadata": {},
   "source": [
    "# Why Chains?"
   ]
  },
  {
   "cell_type": "markdown",
   "id": "fc7f2076",
   "metadata": {},
   "source": [
    "Multiple Steps"
   ]
  },
  {
   "cell_type": "markdown",
   "id": "07a6255a",
   "metadata": {},
   "source": [
    "Chains allow for multi-step interactions, where each step can influence the next, creating a dynamic conversation flow."
   ]
  },
  {
   "cell_type": "markdown",
   "id": "17872cdd",
   "metadata": {},
   "source": [
    "Context Maintenance"
   ]
  },
  {
   "cell_type": "markdown",
   "id": "042e3b5d",
   "metadata": {},
   "source": [
    "Chains keep track of context over multiple exchanges, ensuring continuity in conversations."
   ]
  },
  {
   "cell_type": "markdown",
   "id": "e1714a04",
   "metadata": {},
   "source": []
  },
  {
   "cell_type": "markdown",
   "id": "0d1f4aea",
   "metadata": {},
   "source": [
    "# Declaring & Running a Chain"
   ]
  },
  {
   "cell_type": "markdown",
   "id": "46a1c7e1",
   "metadata": {},
   "source": [
    "Chains are declared using the LLMChain from the langchain.chains library."
   ]
  },
  {
   "cell_type": "code",
   "execution_count": null,
   "id": "dd4d958a",
   "metadata": {},
   "outputs": [],
   "source": [
    "from langchain.chains import LLMChain\n",
    "\n",
    "chain = LLMChain(llm=llm, prompt=prompt_template_movie_recomendation)\n",
    "\n",
    "print(chain.run(genre=\"action\", actor=\"Tom Cruise\"))"
   ]
  },
  {
   "cell_type": "markdown",
   "id": "a33d2edc",
   "metadata": {},
   "source": [
    "We already created a basic and simple application using the LangChain Framework. Let’s dive more with the LangChain Framework in the next section."
   ]
  }
 ],
 "metadata": {},
 "nbformat": 4,
 "nbformat_minor": 5
}
