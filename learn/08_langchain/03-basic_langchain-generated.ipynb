{
 "cells": [
  {
   "cell_type": "markdown",
   "id": "5244e652",
   "metadata": {},
   "source": [
    "source: [link](https://ai-bootcamp.ruangguru.com/learn/08_langchain/03-basic_langchain.html)"
   ]
  },
  {
   "cell_type": "markdown",
   "id": "6449ebc9",
   "metadata": {},
   "source": [
    "# Basic Usage LangChain"
   ]
  },
  {
   "cell_type": "markdown",
   "id": "c8e94d3f",
   "metadata": {},
   "source": [
    "# 3 Basic Things to know"
   ]
  },
  {
   "cell_type": "markdown",
   "id": "2abaca44",
   "metadata": {},
   "source": [
    "Before we jump into the deep of the LangChain Framework, there are 3 basic things to know:"
   ]
  },
  {
   "cell_type": "markdown",
   "id": "2fcf0f9b",
   "metadata": {},
   "source": [
    "# Prompt Template"
   ]
  },
  {
   "cell_type": "markdown",
   "id": "b045626a",
   "metadata": {},
   "source": [
    "Prompt Templates are predefined structures used to guide the responses of language models."
   ]
  },
  {
   "cell_type": "markdown",
   "id": "d8f4c43b",
   "metadata": {},
   "source": [
    "# Why Prompt Templates?"
   ]
  },
  {
   "cell_type": "markdown",
   "id": "6036b2f4",
   "metadata": {},
   "source": [
    "Consistency"
   ]
  },
  {
   "cell_type": "markdown",
   "id": "86748737",
   "metadata": {},
   "source": [
    "By using a set structure, prompt templates ensure consistent responses from the language model."
   ]
  },
  {
   "cell_type": "markdown",
   "id": "e356f10f",
   "metadata": {},
   "source": [
    "Relevance"
   ]
  },
  {
   "cell_type": "markdown",
   "id": "5dc6c4d0",
   "metadata": {},
   "source": [
    "Templates can be designed to elicit specific types of responses, ensuring the output is relevant to the user’s needs."
   ]
  },
  {
   "cell_type": "markdown",
   "id": "7d2c6dd9",
   "metadata": {},
   "source": [
    "# Example Prompt Template"
   ]
  },
  {
   "cell_type": "markdown",
   "id": "6b38256c",
   "metadata": {},
   "source": [
    "Prompt Template for a Movie Recommendation"
   ]
  },
  {
   "cell_type": "code",
   "execution_count": null,
   "id": "67862b6c",
   "metadata": {},
   "outputs": [],
   "source": [
    "\"Based on your preference for {genre} movies and your interest in {actor}, I would recommend 5 Films:\""
   ]
  },
  {
   "cell_type": "markdown",
   "id": "7392ef76",
   "metadata": {},
   "source": [
    "In this template: * {genre} would be replaced by the user’s preferred movie genre (e.g., action, comedy, drama). * {actor} would be replaced by the user’s favorite actor."
   ]
  },
  {
   "cell_type": "markdown",
   "id": "832541d3",
   "metadata": {},
   "source": [
    "The final prompt would look something like this:"
   ]
  },
  {
   "cell_type": "code",
   "execution_count": null,
   "id": "83afcab4",
   "metadata": {},
   "outputs": [],
   "source": [
    "\"Based on your preference for comedy movies and your interest in Will Ferrell, I would recommend 5 Film:\""
   ]
  },
  {
   "cell_type": "markdown",
   "id": "cd7c9a19",
   "metadata": {},
   "source": [
    "Prompt Template for a Restaurant Recommendation"
   ]
  },
  {
   "cell_type": "code",
   "execution_count": null,
   "id": "93403466",
   "metadata": {},
   "outputs": [],
   "source": [
    "\"Considering your love for {cuisine_type} and your location in {city}, I suggest you try the following restaurant:\""
   ]
  },
  {
   "cell_type": "markdown",
   "id": "0935131e",
   "metadata": {},
   "source": [
    "In this template: * {cuisine_type} would be replaced by the user’s preferred cuisine (e.g., Italian, Chinese, Mexican). * {city} would be replaced by the user’s current city."
   ]
  },
  {
   "cell_type": "markdown",
   "id": "265370e9",
   "metadata": {},
   "source": [
    "The final prompt would look something like this:"
   ]
  },
  {
   "cell_type": "code",
   "execution_count": null,
   "id": "c1154290",
   "metadata": {},
   "outputs": [],
   "source": [
    "\"Considering your love for ramen and your location in Bandung, I suggest you try the following restaurant:\""
   ]
  },
  {
   "cell_type": "markdown",
   "id": "a2c8fe62",
   "metadata": {},
   "source": [
    "# Creating a Prompt Template"
   ]
  },
  {
   "cell_type": "markdown",
   "id": "fc3ce27b",
   "metadata": {},
   "source": [
    "Prompt templates are created using the PromptTemplate from the langchain library."
   ]
  },
  {
   "cell_type": "code",
   "execution_count": null,
   "id": "c28336ea",
   "metadata": {},
   "outputs": [],
   "source": [
    "from langchain import PromptTemplate\n",
    "\n",
    "template_movie_recomendation = \"Based on your preference for {genre} movies and your interest in {actor}, I would recommend {movie_title}.\"\n",
    "\n",
    "prompt_template_movie_recomendation = PromptTemplate(input_variables=[\"genre\", \"actor\", \"movie_title\"], template=template_movie_recomendation)"
   ]
  },
  {
   "cell_type": "markdown",
   "id": "42b9aae9",
   "metadata": {},
   "source": [
    "# Chat Models"
   ]
  },
  {
   "cell_type": "markdown",
   "id": "90654199",
   "metadata": {},
   "source": [
    "Chat Models are specialized language models designed for conversational interactions."
   ]
  },
  {
   "cell_type": "markdown",
   "id": "f431937c",
   "metadata": {},
   "source": [
    "# Why Chat Models?"
   ]
  },
  {
   "cell_type": "markdown",
   "id": "6329734e",
   "metadata": {},
   "source": [
    "Chat models are trained to respond in a conversational manner, providing a more engaging and natural user experience."
   ]
  },
  {
   "cell_type": "markdown",
   "id": "712f84a7",
   "metadata": {},
   "source": [
    "Unlike traditional models, chat models can maintain context over a series of exchanges, allowing for more coherent and meaningful conversations."
   ]
  },
  {
   "cell_type": "markdown",
   "id": "875cdd13",
   "metadata": {},
   "source": [
    "Note: In this course, we will be using chat models from OpenAI’s"
   ]
  },
  {
   "cell_type": "markdown",
   "id": "12ba5f4b",
   "metadata": {},
   "source": [
    "# Declaring a Chat Model"
   ]
  },
  {
   "cell_type": "markdown",
   "id": "c251e2be",
   "metadata": {},
   "source": [
    "Chat model is declared using the ChatOpenAI from the langchain.chat_models."
   ]
  },
  {
   "cell_type": "code",
   "execution_count": null,
   "id": "906687b9",
   "metadata": {},
   "outputs": [],
   "source": [
    "from langchain.chat_models import ChatOpenAI\n",
    "\n",
    "chat = ChatOpenAI(openai_api_key=\"...\", model_name=\"gpt-3.5-turbo\", temperature=0)"
   ]
  },
  {
   "cell_type": "markdown",
   "id": "b1f59d94",
   "metadata": {},
   "source": [
    "# Chains"
   ]
  },
  {
   "cell_type": "markdown",
   "id": "8a1b6041",
   "metadata": {},
   "source": [
    "Chains in LangChain allow for sequential interactions with the language model, enabling more complex and contextual conversations."
   ]
  },
  {
   "cell_type": "markdown",
   "id": "c7d189ce",
   "metadata": {},
   "source": [
    "# Why Chains?"
   ]
  },
  {
   "cell_type": "markdown",
   "id": "380b0875",
   "metadata": {},
   "source": [
    "Multiple Steps"
   ]
  },
  {
   "cell_type": "markdown",
   "id": "004e2e59",
   "metadata": {},
   "source": [
    "Chains allow for multi-step interactions, where each step can influence the next, creating a dynamic conversation flow."
   ]
  },
  {
   "cell_type": "markdown",
   "id": "1e73d968",
   "metadata": {},
   "source": [
    "Context Maintenance"
   ]
  },
  {
   "cell_type": "markdown",
   "id": "642168d6",
   "metadata": {},
   "source": [
    "Chains keep track of context over multiple exchanges, ensuring continuity in conversations."
   ]
  },
  {
   "cell_type": "markdown",
   "id": "ecf68b9a",
   "metadata": {},
   "source": []
  },
  {
   "cell_type": "markdown",
   "id": "86dd17d7",
   "metadata": {},
   "source": [
    "![Image](https://storage.googleapis.com/rg-ai-bootcamp/langchain/chain.png)"
   ]
  },
  {
   "cell_type": "markdown",
   "id": "58fc31ec",
   "metadata": {},
   "source": [
    "# Declaring & Running a Chain"
   ]
  },
  {
   "cell_type": "markdown",
   "id": "f5ac10ce",
   "metadata": {},
   "source": [
    "Chains are declared using the LLMChain from the langchain.chains library."
   ]
  },
  {
   "cell_type": "code",
   "execution_count": null,
   "id": "8f4e587c",
   "metadata": {},
   "outputs": [],
   "source": [
    "from langchain.chains import LLMChain\n",
    "\n",
    "chain = LLMChain(llm=llm, prompt=prompt_template_movie_recomendation)\n",
    "\n",
    "print(chain.run(genre=\"action\", actor=\"Tom Cruise\"))"
   ]
  },
  {
   "cell_type": "markdown",
   "id": "3ec23d8c",
   "metadata": {},
   "source": [
    "We already created a basic and simple application using the LangChain Framework. Let’s dive more with the LangChain Framework in the next section."
   ]
  }
 ],
 "metadata": {},
 "nbformat": 4,
 "nbformat_minor": 5
}
