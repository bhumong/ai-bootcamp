{
 "cells": [
  {
   "cell_type": "markdown",
   "id": "8e795379",
   "metadata": {},
   "source": [
    "source: [https://ai-bootcamp.ruangguru.com/learn/08_langchain/03-basic_langchain.html](https://ai-bootcamp.ruangguru.com/learn/08_langchain/03-basic_langchain.html)"
   ]
  },
  {
   "cell_type": "markdown",
   "id": "53e6f296",
   "metadata": {},
   "source": [
    "# Basic Usage LangChain"
   ]
  },
  {
   "cell_type": "markdown",
   "id": "6bfb3dd5",
   "metadata": {},
   "source": [
    "# 3 Basic Things to know"
   ]
  },
  {
   "cell_type": "markdown",
   "id": "e76efdd1",
   "metadata": {},
   "source": [
    "Before we jump into the deep of the LangChain Framework, there are 3 basic things to know:"
   ]
  },
  {
   "cell_type": "markdown",
   "id": "a8b8f19f",
   "metadata": {},
   "source": [
    "- Prompt Template\n",
    "- Chat Models\n",
    "- Chains"
   ]
  },
  {
   "cell_type": "markdown",
   "id": "e3fe3ece",
   "metadata": {},
   "source": [
    "# Prompt Template"
   ]
  },
  {
   "cell_type": "markdown",
   "id": "0c5c0c43",
   "metadata": {},
   "source": [
    "Prompt Templates are predefined structures used to guide the responses of language models."
   ]
  },
  {
   "cell_type": "markdown",
   "id": "8d824c33",
   "metadata": {},
   "source": [
    "# Why Prompt Templates?"
   ]
  },
  {
   "cell_type": "markdown",
   "id": "37fc5363",
   "metadata": {},
   "source": [
    "- ConsistencyBy using a set structure, prompt templates ensure consistent responses from the language model.\n",
    "- RelevanceTemplates can be designed to elicit specific types of responses, ensuring the output is relevant to the user’s needs."
   ]
  },
  {
   "cell_type": "markdown",
   "id": "b6ab7c92",
   "metadata": {},
   "source": [
    "Consistency"
   ]
  },
  {
   "cell_type": "markdown",
   "id": "a9f7beb3",
   "metadata": {},
   "source": [
    "By using a set structure, prompt templates ensure consistent responses from the language model."
   ]
  },
  {
   "cell_type": "markdown",
   "id": "a19c356e",
   "metadata": {},
   "source": [
    "Relevance"
   ]
  },
  {
   "cell_type": "markdown",
   "id": "a4fd0dc1",
   "metadata": {},
   "source": [
    "Templates can be designed to elicit specific types of responses, ensuring the output is relevant to the user’s needs."
   ]
  },
  {
   "cell_type": "markdown",
   "id": "2cb9d753",
   "metadata": {},
   "source": [
    "# Example Prompt Template"
   ]
  },
  {
   "cell_type": "markdown",
   "id": "8308cff9",
   "metadata": {},
   "source": [
    "Prompt Template for a Movie Recommendation"
   ]
  },
  {
   "cell_type": "code",
   "execution_count": null,
   "id": "dd4cdaf0",
   "metadata": {},
   "outputs": [],
   "source": [
    "\"Based on your preference for {genre} movies and your interest in {actor}, I would recommend 5 Films:\""
   ]
  },
  {
   "cell_type": "markdown",
   "id": "1c7a5258",
   "metadata": {},
   "source": [
    "In this template: * {genre} would be replaced by the user’s preferred movie genre (e.g., action, comedy, drama). * {actor} would be replaced by the user’s favorite actor."
   ]
  },
  {
   "cell_type": "markdown",
   "id": "7d82cdca",
   "metadata": {},
   "source": [
    "The final prompt would look something like this:"
   ]
  },
  {
   "cell_type": "code",
   "execution_count": null,
   "id": "51294d35",
   "metadata": {},
   "outputs": [],
   "source": [
    "\"Based on your preference for comedy movies and your interest in Will Ferrell, I would recommend 5 Film:\""
   ]
  },
  {
   "cell_type": "markdown",
   "id": "3bf61577",
   "metadata": {},
   "source": [
    "Prompt Template for a Restaurant Recommendation"
   ]
  },
  {
   "cell_type": "code",
   "execution_count": null,
   "id": "d2c94653",
   "metadata": {},
   "outputs": [],
   "source": [
    "\"Considering your love for {cuisine_type} and your location in {city}, I suggest you try the following restaurant:\""
   ]
  },
  {
   "cell_type": "markdown",
   "id": "7a268253",
   "metadata": {},
   "source": [
    "In this template: * {cuisine_type} would be replaced by the user’s preferred cuisine (e.g., Italian, Chinese, Mexican). * {city} would be replaced by the user’s current city."
   ]
  },
  {
   "cell_type": "markdown",
   "id": "6d6e5129",
   "metadata": {},
   "source": [
    "The final prompt would look something like this:"
   ]
  },
  {
   "cell_type": "code",
   "execution_count": null,
   "id": "c84c2212",
   "metadata": {},
   "outputs": [],
   "source": [
    "\"Considering your love for ramen and your location in Bandung, I suggest you try the following restaurant:\""
   ]
  },
  {
   "cell_type": "markdown",
   "id": "dd2e3c0b",
   "metadata": {},
   "source": [
    "# Creating a Prompt Template"
   ]
  },
  {
   "cell_type": "markdown",
   "id": "786d4b18",
   "metadata": {},
   "source": [
    "Prompt templates are created using the PromptTemplate from the langchain library."
   ]
  },
  {
   "cell_type": "code",
   "execution_count": null,
   "id": "d08f3412",
   "metadata": {},
   "outputs": [],
   "source": [
    "from langchain import PromptTemplate\n",
    "\n",
    "template_movie_recomendation = \"Based on your preference for {genre} movies and your interest in {actor}, I would recommend {movie_title}.\"\n",
    "\n",
    "prompt_template_movie_recomendation = PromptTemplate(input_variables=[\"genre\", \"actor\", \"movie_title\"], template=template_movie_recomendation)"
   ]
  },
  {
   "cell_type": "markdown",
   "id": "5a50d0b0",
   "metadata": {},
   "source": [
    "# Chat Models"
   ]
  },
  {
   "cell_type": "markdown",
   "id": "c8fbb96e",
   "metadata": {},
   "source": [
    "Chat Models are specialized language models designed for conversational interactions."
   ]
  },
  {
   "cell_type": "markdown",
   "id": "c195a704",
   "metadata": {},
   "source": [
    "# Why Chat Models?"
   ]
  },
  {
   "cell_type": "markdown",
   "id": "0e97adb5",
   "metadata": {},
   "source": [
    "- Natural Interaction"
   ]
  },
  {
   "cell_type": "markdown",
   "id": "7613232c",
   "metadata": {},
   "source": [
    "Chat models are trained to respond in a conversational manner, providing a more engaging and natural user experience."
   ]
  },
  {
   "cell_type": "markdown",
   "id": "e3f5b7e8",
   "metadata": {},
   "source": [
    "- Context Awareness"
   ]
  },
  {
   "cell_type": "markdown",
   "id": "6adc768f",
   "metadata": {},
   "source": [
    "Unlike traditional models, chat models can maintain context over a series of exchanges, allowing for more coherent and meaningful conversations."
   ]
  },
  {
   "cell_type": "markdown",
   "id": "66fe4b07",
   "metadata": {},
   "source": [
    "Note: In this course, we will be using chat models from OpenAI’s"
   ]
  },
  {
   "cell_type": "markdown",
   "id": "9d49420b",
   "metadata": {},
   "source": [
    "# Declaring a Chat Model"
   ]
  },
  {
   "cell_type": "markdown",
   "id": "c090cbbd",
   "metadata": {},
   "source": [
    "Chat model is declared using the ChatOpenAI from the langchain.chat_models."
   ]
  },
  {
   "cell_type": "code",
   "execution_count": null,
   "id": "c88bce3b",
   "metadata": {},
   "outputs": [],
   "source": [
    "from langchain.chat_models import ChatOpenAI\n",
    "\n",
    "chat = ChatOpenAI(openai_api_key=\"...\", model_name=\"gpt-3.5-turbo\", temperature=0)"
   ]
  },
  {
   "cell_type": "markdown",
   "id": "f72777be",
   "metadata": {},
   "source": [
    "# Chains"
   ]
  },
  {
   "cell_type": "markdown",
   "id": "57e2adac",
   "metadata": {},
   "source": [
    "Chains in LangChain allow for sequential interactions with the language model, enabling more complex and contextual conversations."
   ]
  },
  {
   "cell_type": "markdown",
   "id": "20b884a5",
   "metadata": {},
   "source": [
    "# Why Chains?"
   ]
  },
  {
   "cell_type": "markdown",
   "id": "680a0e97",
   "metadata": {},
   "source": [
    "- Multiple StepsChains allow for multi-step interactions, where each step can influence the next, creating a dynamic conversation flow.\n",
    "- Context MaintenanceChains keep track of context over multiple exchanges, ensuring continuity in conversations."
   ]
  },
  {
   "cell_type": "markdown",
   "id": "79b6c13b",
   "metadata": {},
   "source": [
    "Multiple Steps"
   ]
  },
  {
   "cell_type": "markdown",
   "id": "25a250f1",
   "metadata": {},
   "source": [
    "Chains allow for multi-step interactions, where each step can influence the next, creating a dynamic conversation flow."
   ]
  },
  {
   "cell_type": "markdown",
   "id": "0ae5aa74",
   "metadata": {},
   "source": [
    "Context Maintenance"
   ]
  },
  {
   "cell_type": "markdown",
   "id": "1cb24e8f",
   "metadata": {},
   "source": [
    "Chains keep track of context over multiple exchanges, ensuring continuity in conversations."
   ]
  },
  {
   "cell_type": "markdown",
   "id": "b2e86888",
   "metadata": {},
   "source": []
  },
  {
   "cell_type": "markdown",
   "id": "773cc065",
   "metadata": {},
   "source": [
    "![Image](https://storage.googleapis.com/rg-ai-bootcamp/langchain/chain.png)"
   ]
  },
  {
   "cell_type": "markdown",
   "id": "8539eba4",
   "metadata": {},
   "source": [
    "# Declaring & Running a Chain"
   ]
  },
  {
   "cell_type": "markdown",
   "id": "8be5bd51",
   "metadata": {},
   "source": [
    "Chains are declared using the LLMChain from the langchain.chains library."
   ]
  },
  {
   "cell_type": "code",
   "execution_count": null,
   "id": "607fadc9",
   "metadata": {},
   "outputs": [],
   "source": [
    "from langchain.chains import LLMChain\n",
    "\n",
    "chain = LLMChain(llm=llm, prompt=prompt_template_movie_recomendation)\n",
    "\n",
    "print(chain.run(genre=\"action\", actor=\"Tom Cruise\"))"
   ]
  },
  {
   "cell_type": "markdown",
   "id": "693e4a64",
   "metadata": {},
   "source": [
    "We already created a basic and simple application using the LangChain Framework. Let’s dive more with the LangChain Framework in the next section."
   ]
  }
 ],
 "metadata": {},
 "nbformat": 4,
 "nbformat_minor": 5
}
