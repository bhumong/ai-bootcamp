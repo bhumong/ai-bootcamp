{
 "cells": [
  {
   "cell_type": "markdown",
   "id": "3081b81f",
   "metadata": {},
   "source": [
    "source: [https://ai-bootcamp.ruangguru.com/learn/08_langchain/00_prompt-engineering/01_intro-to-prompt-engineering.html](https://ai-bootcamp.ruangguru.com/learn/08_langchain/00_prompt-engineering/01_intro-to-prompt-engineering.html)"
   ]
  },
  {
   "cell_type": "markdown",
   "id": "cb5dd5f9",
   "metadata": {},
   "source": [
    "# Intro to Prompt in Generative AI"
   ]
  },
  {
   "cell_type": "markdown",
   "id": "1b1e38cb",
   "metadata": {},
   "source": [
    "On this course, we will learn how to use Prompt in Generative AI. We will start with the basics and then move on to more advanced topics. We’ll use ChatGPT to use the prompt on, so if you do not have an account, sign up at https://chat.openai.com"
   ]
  },
  {
   "cell_type": "markdown",
   "id": "3d6d7772",
   "metadata": {},
   "source": [
    "# What is Prompt in AI Language Models?"
   ]
  },
  {
   "cell_type": "markdown",
   "id": "ecf7b908",
   "metadata": {},
   "source": [
    "A prompt is like a clue given to an AI model. This clue helps the AI know what to talk about. It’s like asking a question or starting a conversation. The AI takes this clue and uses it to come up with a response. The clue can be a question, a sentence, or even just one word. It’s very important because it tells the AI what to say next. It’s the first step that guides the AI’s answer."
   ]
  },
  {
   "cell_type": "markdown",
   "id": "68fc10e5",
   "metadata": {},
   "source": [
    "Think of an AI language model as a super-smart parrot. This parrot doesn’t know what to say until you give it a hint, which we call a prompt."
   ]
  },
  {
   "cell_type": "markdown",
   "id": "9603cd35",
   "metadata": {},
   "source": [
    "For example, if you say to the parrot,"
   ]
  },
  {
   "cell_type": "markdown",
   "id": "505354a4",
   "metadata": {},
   "source": [
    "Tell me a story about a brave knight"
   ]
  },
  {
   "cell_type": "markdown",
   "id": "cc5989f6",
   "metadata": {},
   "source": [
    "The parrot (or AI model) then uses this prompt to create a story about a brave knight."
   ]
  },
  {
   "cell_type": "markdown",
   "id": "55e3d06a",
   "metadata": {},
   "source": [
    "The prompt is important because it sets the direction for what the AI model will generate."
   ]
  },
  {
   "cell_type": "markdown",
   "id": "7d366762",
   "metadata": {},
   "source": [
    "It’s like giving a topic for an essay to a student. The student uses that topic to write an essay. Similarly, the AI model uses the prompt to generate a response."
   ]
  },
  {
   "cell_type": "markdown",
   "id": "e1cee82a",
   "metadata": {},
   "source": [
    "So, in simple terms, a prompt is a piece of information or a question that you give to an AI model to guide what it will talk about or generate."
   ]
  },
  {
   "cell_type": "markdown",
   "id": "2beea9c0",
   "metadata": {},
   "source": [
    "# LLM Configuration"
   ]
  },
  {
   "cell_type": "markdown",
   "id": "a31927ee",
   "metadata": {},
   "source": [
    "When crafting prompts, you’ll either interact with the Large Language Model (LLM) directly or through an API. One of the most important parameter you can adjust to tailor the results of your prompts is:"
   ]
  },
  {
   "cell_type": "markdown",
   "id": "4b858ca9",
   "metadata": {},
   "source": [
    "Temperature - Simply put, a lower temperature setting makes it less creative, more following a predefined template (deterministic), while a higher temperature will introduce more randomness, resulting in more diverse or inventive outputs. For instance, you might want to use a lower temperature for tasks like fact-based Q&A to promote more accurate and to the point responses. Conversely, for creative tasks like generating poetry, a higher temperature might be advantageous."
   ]
  },
  {
   "cell_type": "markdown",
   "id": "0f704374",
   "metadata": {},
   "source": [
    "# Components of a Prompt"
   ]
  },
  {
   "cell_type": "markdown",
   "id": "3e78ea21",
   "metadata": {},
   "source": [
    "A prompt is a set of instructions that guide an AI model to perform a specific task. It consists of several components, each playing a crucial role in shaping the model’s response."
   ]
  },
  {
   "cell_type": "markdown",
   "id": "e141348e",
   "metadata": {},
   "source": [
    "Let’s consider a complex prompt for a detailed breakdown:"
   ]
  },
  {
   "cell_type": "markdown",
   "id": "7ce94ab0",
   "metadata": {},
   "source": [
    "Prompt:"
   ]
  },
  {
   "cell_type": "code",
   "execution_count": null,
   "id": "53e7b997",
   "metadata": {},
   "outputs": [],
   "source": [
    "Given the following review of a restaurant, summarize it in one sentence and classify it as positive, negative, or neutral: 'The food was absolutely delicious, and the staff were incredibly friendly. However, the noise level was quite high which made it difficult to have a conversation."
   ]
  },
  {
   "cell_type": "markdown",
   "id": "19564082",
   "metadata": {},
   "source": [
    "Here are the key components of this prompt:"
   ]
  },
  {
   "cell_type": "markdown",
   "id": "570dd396",
   "metadata": {},
   "source": [
    "Instruction"
   ]
  },
  {
   "cell_type": "markdown",
   "id": "1518fefe",
   "metadata": {},
   "source": [
    "The instruction is the core of the prompt. It directs the AI model on the task it needs to perform. In our example, the instruction is:"
   ]
  },
  {
   "cell_type": "markdown",
   "id": "ffec3ed6",
   "metadata": {},
   "source": [
    "“Given the following review of a restaurant, summarize it in one sentence and classify it as positive, negative, or neutral”."
   ]
  },
  {
   "cell_type": "markdown",
   "id": "84ad5418",
   "metadata": {},
   "source": [
    "This part of the prompt tells the AI what task it needs to perform, which is to summarize a restaurant review in one sentence and classify the sentiment of the review."
   ]
  },
  {
   "cell_type": "markdown",
   "id": "94e6a8c9",
   "metadata": {},
   "source": [
    "Context"
   ]
  },
  {
   "cell_type": "markdown",
   "id": "aa4229ec",
   "metadata": {},
   "source": [
    "Context provides additional information that aids the AI model in understanding the task better and generating more accurate responses."
   ]
  },
  {
   "cell_type": "markdown",
   "id": "2ed513c7",
   "metadata": {},
   "source": [
    "In the given prompt, the context is provided in the instruction itself -"
   ]
  },
  {
   "cell_type": "markdown",
   "id": "1390ee68",
   "metadata": {},
   "source": [
    "“Given the following review of a restaurant, summarize it in one sentence and classify it as positive, negative, or neutral”."
   ]
  },
  {
   "cell_type": "markdown",
   "id": "ad904ad6",
   "metadata": {},
   "source": [
    "The AI model is informed that the input data is a review of a restaurant. This helps the model understand that it should consider factors like food quality, service, and ambiance in its summary and classification."
   ]
  },
  {
   "cell_type": "markdown",
   "id": "4a1efbbf",
   "metadata": {},
   "source": [
    "Input Data"
   ]
  },
  {
   "cell_type": "markdown",
   "id": "a4cc3d32",
   "metadata": {},
   "source": [
    "Input data is the information that the AI model processes to accomplish the task set in the prompt. In our example, the input data is:"
   ]
  },
  {
   "cell_type": "markdown",
   "id": "cb652fbd",
   "metadata": {},
   "source": [
    "“The food was absolutely delicious, and the staff were incredibly friendly. However, the noise level was quite high which made it difficult to have a conversation.”"
   ]
  },
  {
   "cell_type": "markdown",
   "id": "1e4973a9",
   "metadata": {},
   "source": [
    "This is the restaurant review that needs to be summarized and classified."
   ]
  },
  {
   "cell_type": "markdown",
   "id": "a3bbec8d",
   "metadata": {},
   "source": [
    "Output Indicator"
   ]
  },
  {
   "cell_type": "markdown",
   "id": "1d1704d4",
   "metadata": {},
   "source": [
    "The output indicator signals to the AI model that a response is expected. In this case, the output indicator is implicit."
   ]
  },
  {
   "cell_type": "markdown",
   "id": "fed88559",
   "metadata": {},
   "source": [
    "The instruction to “summarize it in one sentence and classify it as positive, negative, or neutral” implies that the AI model is expected to produce a response, which would be the summarized review and its classification."
   ]
  },
  {
   "cell_type": "markdown",
   "id": "0a44801f",
   "metadata": {},
   "source": [
    "# Prompt Engineering Tips"
   ]
  },
  {
   "cell_type": "markdown",
   "id": "88cba368",
   "metadata": {},
   "source": [
    "Creating prompts for AI language models is like giving directions. The better the directions, the better the AI can respond. Here are some tips and examples to help make better prompts:"
   ]
  },
  {
   "cell_type": "markdown",
   "id": "744e6be9",
   "metadata": {},
   "source": [
    "- Giving Context for Clear and Accurate Responses\n",
    "- Making a Clear Task for Clear Results\n",
    "- Creating Characters\n",
    "- Adding More Context\n",
    "- Adding Outside Knowledge\n",
    "- Trying Again and Again for Better Prompts"
   ]
  },
  {
   "cell_type": "markdown",
   "id": "6ff58484",
   "metadata": {},
   "source": [
    "# Giving Context for Clear and Accurate Responses"
   ]
  },
  {
   "cell_type": "markdown",
   "id": "6ff047ed",
   "metadata": {},
   "source": [
    "Context can be thought of as the setting or background of a conversation. It’s like the stage where the conversation takes place and the theme that it revolves around."
   ]
  },
  {
   "cell_type": "markdown",
   "id": "3baaae1c",
   "metadata": {},
   "source": [
    "Providing context is like giving a map to the AI model. This map helps the model understand the conversation’s location and topic."
   ]
  },
  {
   "cell_type": "markdown",
   "id": "61544693",
   "metadata": {},
   "source": [
    "Context is crucial in any conversation. It acts like a spine, giving the necessary support and direction. When context is added to prompts, it steers the AI model to create responses that make sense and are on point."
   ]
  },
  {
   "cell_type": "markdown",
   "id": "938586d6",
   "metadata": {},
   "source": [
    "Here are some examples of prompts with context:"
   ]
  },
  {
   "cell_type": "markdown",
   "id": "0ecabe43",
   "metadata": {},
   "source": [
    "# Example 1"
   ]
  },
  {
   "cell_type": "markdown",
   "id": "bc9f8ba2",
   "metadata": {},
   "source": [
    "Incorrect Prompt: Tell me about it."
   ]
  },
  {
   "cell_type": "markdown",
   "id": "e667678a",
   "metadata": {},
   "source": [
    "This prompt is unclear and lacks context. The AI model can’t identify what “it” refers to and might produce a response that’s off-topic or irrelevant."
   ]
  },
  {
   "cell_type": "markdown",
   "id": "42eaab3f",
   "metadata": {},
   "source": [
    "Improved Prompt: Tell me about the implications of climate change on global agriculture."
   ]
  },
  {
   "cell_type": "markdown",
   "id": "28c7abe1",
   "metadata": {},
   "source": [
    "This prompt gives clear context (climate change and global agriculture), directing the AI model to produce a relevant and coherent response."
   ]
  },
  {
   "cell_type": "markdown",
   "id": "23ff665c",
   "metadata": {},
   "source": [
    "# Example 2"
   ]
  },
  {
   "cell_type": "markdown",
   "id": "1dea3b5f",
   "metadata": {},
   "source": [
    "Incorrect Prompt: Analyze the data."
   ]
  },
  {
   "cell_type": "markdown",
   "id": "3105fefe",
   "metadata": {},
   "source": [
    "This prompt is unclear and lacks context. The AI model can’t identify what data to analyze or what kind of analysis is needed."
   ]
  },
  {
   "cell_type": "markdown",
   "id": "82eb5ca8",
   "metadata": {},
   "source": [
    "Improved Prompt: Analyze the sales data from the last quarter using a regression model to predict future trends."
   ]
  },
  {
   "cell_type": "markdown",
   "id": "ddd5ab51",
   "metadata": {},
   "source": [
    "This prompt gives clear context (sales data from the last quarter, regression model, prediction of future trends), directing the AI model to produce a relevant and coherent response."
   ]
  },
  {
   "cell_type": "markdown",
   "id": "2ee75375",
   "metadata": {},
   "source": [
    "# Making a Clear Task for Clear Results"
   ]
  },
  {
   "cell_type": "markdown",
   "id": "34d33c0a",
   "metadata": {},
   "source": [
    "The relationship between the clarity of a task defined in a prompt and the quality of the results obtained is direct. When task definitions are clear and precise, superior results are achieved. This is because they offer the AI model a specific direction to follow."
   ]
  },
  {
   "cell_type": "markdown",
   "id": "dbfd1071",
   "metadata": {},
   "source": [
    "Here are some examples of prompts with clear tasks:"
   ]
  },
  {
   "cell_type": "markdown",
   "id": "98eb1c19",
   "metadata": {},
   "source": [
    "# Example 1"
   ]
  },
  {
   "cell_type": "markdown",
   "id": "3ad4c94d",
   "metadata": {},
   "source": [
    "Incorrect Prompt: Improve this."
   ]
  },
  {
   "cell_type": "markdown",
   "id": "088c51cb",
   "metadata": {},
   "source": [
    "This prompt is too ambiguous. The AI model can’t identify what needs enhancement or how to tackle the task."
   ]
  },
  {
   "cell_type": "markdown",
   "id": "29527776",
   "metadata": {},
   "source": [
    "Improved Prompt: Improve this sentence for clarity: 'The man the professor the student has studies Rome."
   ]
  },
  {
   "cell_type": "markdown",
   "id": "6f50ddd6",
   "metadata": {},
   "source": [
    "The enhanced prompt clearly outlines the task (improving a sentence for clarity) and provides a specific item (the sentence) for the AI model to work on."
   ]
  },
  {
   "cell_type": "markdown",
   "id": "508fab2b",
   "metadata": {},
   "source": [
    "# Example 2"
   ]
  },
  {
   "cell_type": "markdown",
   "id": "382a310b",
   "metadata": {},
   "source": [
    "Incorrect Prompt: Translate this."
   ]
  },
  {
   "cell_type": "markdown",
   "id": "257ff20b",
   "metadata": {},
   "source": [
    "Without indicating the source and target languages, the AI model can’t determine how to tackle the task."
   ]
  },
  {
   "cell_type": "markdown",
   "id": "ac34f27d",
   "metadata": {},
   "source": [
    "Improved Prompt: Translate this English text into French: 'Artificial Intelligence is transforming industries.'"
   ]
  },
  {
   "cell_type": "markdown",
   "id": "7773c32d",
   "metadata": {},
   "source": [
    "The enhanced prompt clearly outlines the task (translation), the source language (English), the target language (French), and provides a specific item (the sentence) for the AI model to work on."
   ]
  },
  {
   "cell_type": "markdown",
   "id": "c86ea2a4",
   "metadata": {},
   "source": [
    "# Creating Characters"
   ]
  },
  {
   "cell_type": "markdown",
   "id": "35bb565b",
   "metadata": {},
   "source": [
    "Characters represent individuals, creatures, or entities participating in a narrative. They interact with each other and propel the storyline."
   ]
  },
  {
   "cell_type": "markdown",
   "id": "457f125d",
   "metadata": {},
   "source": [
    "The development of personas can aid in producing responses that are more tailored and captivating. Personas can steer the AI model to react in a specific tone or style, rendering the interaction more akin to human conversation."
   ]
  },
  {
   "cell_type": "markdown",
   "id": "677dc795",
   "metadata": {},
   "source": [
    "Here are some examples of prompts with characters:"
   ]
  },
  {
   "cell_type": "markdown",
   "id": "3fc59f14",
   "metadata": {},
   "source": [
    "# Example 1"
   ]
  },
  {
   "cell_type": "markdown",
   "id": "3d1711d5",
   "metadata": {},
   "source": [
    "Incorrect Prompt: Write a response to a customer complaint."
   ]
  },
  {
   "cell_type": "markdown",
   "id": "9e719283",
   "metadata": {},
   "source": [
    "This prompt is overly general and doesn’t specify the tone or style of the response."
   ]
  },
  {
   "cell_type": "markdown",
   "id": "b8e94079",
   "metadata": {},
   "source": [
    "Improved Prompt: Write a response to a customer complaint as 'Emily', a customer service representative who is empathetic, patient, and solution-oriented."
   ]
  },
  {
   "cell_type": "markdown",
   "id": "93b0eff8",
   "metadata": {},
   "source": [
    "The refined prompt creates a persona (Emily) with unique characteristics, guiding the AI model to generate a more personalized and engaging response."
   ]
  },
  {
   "cell_type": "markdown",
   "id": "7ceeb863",
   "metadata": {},
   "source": [
    "# Example 2"
   ]
  },
  {
   "cell_type": "markdown",
   "id": "5e509794",
   "metadata": {},
   "source": [
    "Incorrect Prompt: Write a blog post about the benefits of exercise."
   ]
  },
  {
   "cell_type": "markdown",
   "id": "1f867f27",
   "metadata": {},
   "source": [
    "This prompt doesn’t identify the persona of the writer, which could lead to a generic or impersonal blog post."
   ]
  },
  {
   "cell_type": "markdown",
   "id": "dfa7cc7b",
   "metadata": {},
   "source": [
    "Improved Prompt: Write a blog post about the benefits of exercise as 'Dr. Smith', a seasoned fitness trainer with a passion for promoting healthy lifestyles."
   ]
  },
  {
   "cell_type": "markdown",
   "id": "9ee0fc6f",
   "metadata": {},
   "source": [
    "The refined prompt creates a persona (Dr. Smith) with unique characteristics, guiding the AI model to generate a more personalized and engaging blog post."
   ]
  },
  {
   "cell_type": "markdown",
   "id": "a30a891d",
   "metadata": {},
   "source": [
    "# Adding More Context"
   ]
  },
  {
   "cell_type": "markdown",
   "id": "d1a4f4d8",
   "metadata": {},
   "source": [
    "Adding more context is like giving the AI extra information that it wouldn’t know otherwise. This extra information can be in the form of a setting, a theme, or a character."
   ]
  },
  {
   "cell_type": "markdown",
   "id": "522371c7",
   "metadata": {},
   "source": [
    "Here are some examples of prompts with more context:"
   ]
  },
  {
   "cell_type": "markdown",
   "id": "555fc878",
   "metadata": {},
   "source": [
    "# Example 1:"
   ]
  },
  {
   "cell_type": "markdown",
   "id": "a2afb5c3",
   "metadata": {},
   "source": [
    "Incorrect Prompt: Write a news report."
   ]
  },
  {
   "cell_type": "markdown",
   "id": "88a6e544",
   "metadata": {},
   "source": [
    "This prompt is missing specific context, which could result in a generic or irrelevant news report."
   ]
  },
  {
   "cell_type": "markdown",
   "id": "498e47b9",
   "metadata": {},
   "source": [
    "Improved Prompt: Write a news report on the recent hurricane in Florida, considering its impact on local communities and the ongoing recovery efforts."
   ]
  },
  {
   "cell_type": "markdown",
   "id": "6af6b9a8",
   "metadata": {},
   "source": [
    "The refined prompt introduces relevant context (recent hurricane in Florida, impact on local communities, ongoing recovery efforts), steering the AI model to generate a more precise and pertinent news report."
   ]
  },
  {
   "cell_type": "markdown",
   "id": "56994c0f",
   "metadata": {},
   "source": [
    "# Example 2:"
   ]
  },
  {
   "cell_type": "markdown",
   "id": "f8bb82bc",
   "metadata": {},
   "source": [
    "Incorrect Prompt: Write a product review."
   ]
  },
  {
   "cell_type": "markdown",
   "id": "4ef33d29",
   "metadata": {},
   "source": [
    "This prompt is missing specific context, which could result in a generic or irrelevant product review."
   ]
  },
  {
   "cell_type": "markdown",
   "id": "653b90b9",
   "metadata": {},
   "source": [
    "Improved Prompt: Write a product review for the latest iPhone model, considering its new features, performance, and comparison with the previous model."
   ]
  },
  {
   "cell_type": "markdown",
   "id": "d653d30c",
   "metadata": {},
   "source": [
    "The refined prompt introduces relevant context (latest iPhone model, new features, performance, comparison with the previous model), steering the AI model to generate a more precise and relevant product review."
   ]
  },
  {
   "cell_type": "markdown",
   "id": "1c34afe8",
   "metadata": {},
   "source": [
    "# Adding Outside Knowledge"
   ]
  },
  {
   "cell_type": "markdown",
   "id": "c2e9ea02",
   "metadata": {},
   "source": [
    "Adding Outside knowledge into the prompt can assist the AI model in producing responses that are more informed and knowledgeable. This can be especially beneficial when handling subjects that demand expert knowledge or the most current information."
   ]
  },
  {
   "cell_type": "markdown",
   "id": "a804ac88",
   "metadata": {},
   "source": [
    "Here are some examples of prompts with outside knowledge:"
   ]
  },
  {
   "cell_type": "markdown",
   "id": "36b3df68",
   "metadata": {},
   "source": [
    "# Example 1:"
   ]
  },
  {
   "cell_type": "markdown",
   "id": "1afbae4e",
   "metadata": {},
   "source": [
    "Incorrect Prompt: Write an article about global warming."
   ]
  },
  {
   "cell_type": "markdown",
   "id": "ab2d5a4d",
   "metadata": {},
   "source": [
    "This prompt doesn’t indicate the need for expert knowledge or the most recent information, which could result in a generic or outdated article."
   ]
  },
  {
   "cell_type": "markdown",
   "id": "d980af61",
   "metadata": {},
   "source": [
    "Improved Prompt: Write an article about global warming, incorporating the latest research findings from the IPCC (Intergovernmental Panel on Climate Change) report."
   ]
  },
  {
   "cell_type": "markdown",
   "id": "85d81f6c",
   "metadata": {},
   "source": [
    "The refined prompt introduces external knowledge (latest research findings from the IPCC report), steering the AI model to generate a more informed and current article."
   ]
  },
  {
   "cell_type": "markdown",
   "id": "5360ccbd",
   "metadata": {},
   "source": [
    "# Example 2:"
   ]
  },
  {
   "cell_type": "markdown",
   "id": "d7a2058b",
   "metadata": {},
   "source": [
    "Incorrect Prompt: Write a report on the current state of the stock market."
   ]
  },
  {
   "cell_type": "markdown",
   "id": "a3ccf74d",
   "metadata": {},
   "source": [
    "This prompt doesn’t indicate the need for expert knowledge or the most recent information, which could result in a generic or outdated report."
   ]
  },
  {
   "cell_type": "markdown",
   "id": "3100bebb",
   "metadata": {},
   "source": [
    "Improved Prompt: Write a report on the current state of the stock market, incorporating the latest data from the New York Stock Exchange and expert analysis from leading financial analysts."
   ]
  },
  {
   "cell_type": "markdown",
   "id": "d2a4166d",
   "metadata": {},
   "source": [
    "The refined prompt introduces external knowledge (latest data from the New York Stock Exchange, expert analysis from leading financial analysts), steering the AI model to generate a more informed and current report."
   ]
  },
  {
   "cell_type": "markdown",
   "id": "122b4733",
   "metadata": {},
   "source": [
    "# Trying Again and Again for Better Prompts"
   ]
  },
  {
   "cell_type": "markdown",
   "id": "3fff8cd9",
   "metadata": {},
   "source": [
    "The procedure of prompt engineering extends beyond the creation of the initial prompt. It encompasses refining the prompts and assessing the output across multiple iterations. This iterative process aids in understanding how the AI model reacts to various prompts and enables the optimization of prompts for superior results."
   ]
  },
  {
   "cell_type": "markdown",
   "id": "e7247b0a",
   "metadata": {},
   "source": [
    "# Example 1"
   ]
  },
  {
   "cell_type": "markdown",
   "id": "8d6b50c1",
   "metadata": {},
   "source": [
    "Initial Prompt: Write a poem."
   ]
  },
  {
   "cell_type": "markdown",
   "id": "847e27ad",
   "metadata": {},
   "source": [
    "The AI model could interpret this prompt in numerous ways, leading to a wide variety of responses. While not necessarily incorrect, it could be optimized for better results."
   ]
  },
  {
   "cell_type": "markdown",
   "id": "137195fb",
   "metadata": {},
   "source": [
    "Refined Prompt after Iteration: Write a sonnet about the tranquility of a quiet winter night."
   ]
  },
  {
   "cell_type": "markdown",
   "id": "77a5ec67",
   "metadata": {},
   "source": [
    "After evaluating the output from the initial prompt, it might become clear that a specific type of poem (a sonnet) about a specific theme (the tranquility of a quiet winter night) is desired. This refined prompt guides the AI model more effectively."
   ]
  },
  {
   "cell_type": "markdown",
   "id": "249ce559",
   "metadata": {},
   "source": [
    "# Example 2"
   ]
  },
  {
   "cell_type": "markdown",
   "id": "355e10f8",
   "metadata": {},
   "source": [
    "Initial Prompt: Summarize the article."
   ]
  },
  {
   "cell_type": "markdown",
   "id": "8fa0a5a6",
   "metadata": {},
   "source": [
    "While this prompt isn’t incorrect, it’s quite broad and could be optimized for better results."
   ]
  },
  {
   "cell_type": "markdown",
   "id": "488c7c79",
   "metadata": {},
   "source": [
    "Refined Prompt after Iteration: Summarize the key arguments and conclusions from the article on 'The Impact of Artificial Intelligence on Healthcare'."
   ]
  },
  {
   "cell_type": "markdown",
   "id": "b4a96280",
   "metadata": {},
   "source": [
    "After evaluating the output from the initial prompt, it might become clear that a summary focusing on key arguments and conclusions is desired. Also, specifying the article provides more context for the AI model. This refined prompt guides the AI model more effectively."
   ]
  },
  {
   "cell_type": "markdown",
   "id": "870fe6a5",
   "metadata": {},
   "source": [
    "Adhering to these guidelines for prompt engineering can enhance the performance of AI models and yield superior responses. The inclusion of context, clear task definition, iterative refinement of prompts, persona creation, context injection, and external knowledge addition will result in more precise and pertinent responses. This not only saves time but also boosts the overall performance of the AI models."
   ]
  },
  {
   "cell_type": "markdown",
   "id": "b75c5378",
   "metadata": {},
   "source": [
    "# Exploring Techniques in Prompt Engineering"
   ]
  },
  {
   "cell_type": "markdown",
   "id": "ceb402df",
   "metadata": {},
   "source": [
    "There are several techniques used in Prompt Engineering, each with its unique approach and application. These techniques include: - Zero-shot Prompting - Few-shot Prompting - Chain-of-Thought Prompting - Generate Knowledge Prompting - Directional Stimulus Prompting - etc."
   ]
  },
  {
   "cell_type": "markdown",
   "id": "e5e541de",
   "metadata": {},
   "source": [
    "In this discussion, we will explore a few of these techniques and see how they work in the world of Prompt Engineering. For a more comprehensive understanding of these techniques and to explore others not covered here, you can visit Promptly."
   ]
  },
  {
   "cell_type": "markdown",
   "id": "d8a3fd13",
   "metadata": {},
   "source": [
    "# Zero-Shot Prompting"
   ]
  },
  {
   "cell_type": "markdown",
   "id": "cc34d255",
   "metadata": {},
   "source": [
    "Zero-shot prompting is when we ask a computer program to do a task without giving it any examples beforehand. This is possible with today’s Large Language Models (LLMs) that are trained on lots of data and can follow instructions."
   ]
  },
  {
   "cell_type": "markdown",
   "id": "203155bb",
   "metadata": {},
   "source": [
    "For example, let’s say we ask the program to classify a sentence as neutral, negative, or positive:"
   ]
  },
  {
   "cell_type": "markdown",
   "id": "da66439a",
   "metadata": {},
   "source": [
    "Prompt:"
   ]
  },
  {
   "cell_type": "code",
   "execution_count": null,
   "id": "2261a369",
   "metadata": {},
   "outputs": [],
   "source": [
    "\"Determine the mood of the following statement:\n",
    "Text: The concert was absolutely fantastic, and the band was incredible!\n",
    "Mood:\""
   ]
  },
  {
   "cell_type": "markdown",
   "id": "8ee2a759",
   "metadata": {},
   "source": [
    "Output:"
   ]
  },
  {
   "cell_type": "code",
   "execution_count": null,
   "id": "486f726f",
   "metadata": {},
   "outputs": [],
   "source": [
    "\"Excited\""
   ]
  },
  {
   "cell_type": "markdown",
   "id": "3713356e",
   "metadata": {},
   "source": [
    "Here, we didn’t give the program any examples, but it still gave the correct answer. This is what we call zero-shot capabilities."
   ]
  },
  {
   "cell_type": "markdown",
   "id": "9ba79bde",
   "metadata": {},
   "source": [
    "# Few-Shot Prompting"
   ]
  },
  {
   "cell_type": "markdown",
   "id": "02286997",
   "metadata": {},
   "source": [
    "Few-shot prompting is like giving a few examples to a computer program before asking it to do a similar task. This helps the program understand what we want it to do."
   ]
  },
  {
   "cell_type": "markdown",
   "id": "9c950db9",
   "metadata": {},
   "source": [
    "For example, let’s say we have a new word, “farduddle,” which means to jump up and down really fast. We can show the program how to use this word with an example:"
   ]
  },
  {
   "cell_type": "markdown",
   "id": "a6e88dd6",
   "metadata": {},
   "source": [
    "Prompt:"
   ]
  },
  {
   "cell_type": "code",
   "execution_count": null,
   "id": "bdd6c450",
   "metadata": {},
   "outputs": [],
   "source": [
    "\"To do a 'farduddle' means to jump up and down really fast. An example of a sentence that uses the word farduddle is:\""
   ]
  },
  {
   "cell_type": "markdown",
   "id": "a60ddaa4",
   "metadata": {},
   "source": [
    "Output:"
   ]
  },
  {
   "cell_type": "code",
   "execution_count": null,
   "id": "b4626d4c",
   "metadata": {},
   "outputs": [],
   "source": [
    "\"When we won the game, we all started to farduddle in celebration.\""
   ]
  },
  {
   "cell_type": "markdown",
   "id": "c6988f71",
   "metadata": {},
   "source": [
    "Here, the program learns how to use the new word correctly with just one example. If the task is harder, we might need to give more examples."
   ]
  },
  {
   "cell_type": "markdown",
   "id": "0592a179",
   "metadata": {},
   "source": [
    "But few-shot prompting doesn’t always work, especially for more complex tasks. For example, if we ask the program to figure out if the sum of odd numbers in a group is even, it might not give the correct answer."
   ]
  },
  {
   "cell_type": "markdown",
   "id": "d6624eed",
   "metadata": {},
   "source": [
    "Prompt:"
   ]
  },
  {
   "cell_type": "code",
   "execution_count": null,
   "id": "0b9d56f2",
   "metadata": {},
   "outputs": [],
   "source": [
    "The odd numbers in this group add up to an even number: 4, 8, 9, 15, 12, 2, 1.\n",
    "A: The answer is False.\n",
    "The odd numbers in this group add up to an even number: 17,  10, 19, 4, 8, 12, 24.\n",
    "A: The answer is True.\n",
    "The odd numbers in this group add up to an even number: 16,  11, 14, 4, 8, 13, 24.\n",
    "A: The answer is True.\n",
    "The odd numbers in this group add up to an even number: 17,  9, 10, 12, 13, 4, 2.\n",
    "A: The answer is False.\n",
    "The odd numbers in this group add up to an even number: 15, 32, 5, 13, 82, 7, 1.\n",
    "A:"
   ]
  },
  {
   "cell_type": "markdown",
   "id": "55918354",
   "metadata": {},
   "source": [
    "Output:"
   ]
  },
  {
   "cell_type": "code",
   "execution_count": null,
   "id": "b7423707",
   "metadata": {},
   "outputs": [],
   "source": [
    "The answer is True."
   ]
  },
  {
   "cell_type": "markdown",
   "id": "30b460b0",
   "metadata": {},
   "source": [
    "In such cases, we need to use other techniques or fine-tune the program."
   ]
  },
  {
   "cell_type": "markdown",
   "id": "98758e9c",
   "metadata": {},
   "source": [
    "# Chain-of-Thought (CoT) Prompting"
   ]
  },
  {
   "cell_type": "markdown",
   "id": "d608eb0d",
   "metadata": {},
   "source": []
  },
  {
   "cell_type": "markdown",
   "id": "7cb7bfed",
   "metadata": {},
   "source": [
    "![Image](https://www.promptly.ink/_next/image?url=%2F_next%2Fstatic%2Fmedia%2Fcot.1933d9fe.png&w=1080&q=75)"
   ]
  },
  {
   "cell_type": "markdown",
   "id": "5ca95d96",
   "metadata": {},
   "source": [
    "Image Source: Promptly"
   ]
  },
  {
   "cell_type": "markdown",
   "id": "670c5376",
   "metadata": {},
   "source": [
    "Chain-of-Thought (CoT) prompting is a technique where we guide a computer program step-by-step through a task. This is especially useful for complex tasks that require some thinking before giving an answer."
   ]
  },
  {
   "cell_type": "markdown",
   "id": "5efb25b2",
   "metadata": {},
   "source": [
    "For example, let’s say we want the program to figure out if the sum of odd numbers in a group is even. We can guide it through the reasoning process like this:"
   ]
  },
  {
   "cell_type": "markdown",
   "id": "33f97a9d",
   "metadata": {},
   "source": [
    "Prompt:"
   ]
  },
  {
   "cell_type": "code",
   "execution_count": null,
   "id": "b040cf14",
   "metadata": {},
   "outputs": [],
   "source": [
    "\"The odd numbers in this group add up to an even number: 4, 8, 9, 15, 12, 2, 1.\n",
    "A: Adding all the odd numbers (9, 15, 1) gives 25. The answer is False.\n",
    "The odd numbers in this group add up to an even number: 15, 32, 5, 13, 82, 7, 1.\n",
    "A:\""
   ]
  },
  {
   "cell_type": "markdown",
   "id": "c099baf1",
   "metadata": {},
   "source": [
    "Output:"
   ]
  },
  {
   "cell_type": "code",
   "execution_count": null,
   "id": "488f9adf",
   "metadata": {},
   "outputs": [],
   "source": [
    "\"Adding all the odd numbers (15, 5, 13, 7, 1) gives 41. The answer is False.\""
   ]
  },
  {
   "cell_type": "markdown",
   "id": "59cba838",
   "metadata": {},
   "source": [
    "Here, the program correctly figures out the answer by following the reasoning steps we provided. This technique can be very powerful, especially when combined with few-shot prompting."
   ]
  },
  {
   "cell_type": "markdown",
   "id": "3b3ab4e3",
   "metadata": {},
   "source": [
    "# Zero-shot CoT Prompting"
   ]
  },
  {
   "cell_type": "markdown",
   "id": "8e8f4469",
   "metadata": {},
   "source": [
    " Image Source: Promptly"
   ]
  },
  {
   "cell_type": "markdown",
   "id": "e0fab8bf",
   "metadata": {},
   "source": [
    "![Image](https://www.promptly.ink/_next/image?url=%2F_next%2Fstatic%2Fmedia%2Fzero-cot.79793bee.png&w=1080&q=75)"
   ]
  },
  {
   "cell_type": "markdown",
   "id": "1a135b0b",
   "metadata": {},
   "source": [
    "Zero-shot Chain-of-Thought (CoT) prompting is a new technique where we ask a computer program to think step-by-step before giving an answer. This can be done by simply adding “Let’s think step by step” to the original question."
   ]
  },
  {
   "cell_type": "markdown",
   "id": "2eef07de",
   "metadata": {},
   "source": [
    "For example, let’s say we ask the program a simple math problem:"
   ]
  },
  {
   "cell_type": "markdown",
   "id": "fcc609a3",
   "metadata": {},
   "source": [
    "Prompt:"
   ]
  },
  {
   "cell_type": "code",
   "execution_count": null,
   "id": "623a909c",
   "metadata": {},
   "outputs": [],
   "source": [
    "\"I have a jar with 20 candies. I ate 5 candies in the morning and gave 3 candies to my friend. Later, I bought 10 more candies and put them in the jar. How many candies are in the jar now?\""
   ]
  },
  {
   "cell_type": "markdown",
   "id": "d5107d86",
   "metadata": {},
   "source": [
    "Output:"
   ]
  },
  {
   "cell_type": "code",
   "execution_count": null,
   "id": "d4373f28",
   "metadata": {},
   "outputs": [],
   "source": [
    "\"25 candies\""
   ]
  },
  {
   "cell_type": "markdown",
   "id": "b5df996a",
   "metadata": {},
   "source": [
    "The answer is wrong! Now, let’s try the same problem but ask the program to think step-by-step:"
   ]
  },
  {
   "cell_type": "markdown",
   "id": "2385e513",
   "metadata": {},
   "source": [
    "Prompt:"
   ]
  },
  {
   "cell_type": "code",
   "execution_count": null,
   "id": "e723a4b9",
   "metadata": {},
   "outputs": [],
   "source": [
    "\"I have a jar with 20 candies. I ate 5 candies in the morning and gave 3 candies to my friend. Later, I bought 10 more candies and put them in the jar. How many candies are in the jar now? Let's think step by step.\""
   ]
  },
  {
   "cell_type": "markdown",
   "id": "0348ad6e",
   "metadata": {},
   "source": [
    "Output:"
   ]
  },
  {
   "cell_type": "code",
   "execution_count": null,
   "id": "e573c92b",
   "metadata": {},
   "outputs": [],
   "source": [
    "\"First, you started with 20 candies.\n",
    "You ate 5 candies in the morning, so you had 15 candies left.\n",
    "Then you gave 3 candies to your friend, so you had 12 candies left.\n",
    "Finally, you bought 10 more candies, so now you have 22 candies in the jar.\""
   ]
  },
  {
   "cell_type": "markdown",
   "id": "57a8df57",
   "metadata": {},
   "source": [
    "This time, the program gives the correct answer! This technique can be very useful when we don’t have many examples to guide the program."
   ]
  },
  {
   "cell_type": "markdown",
   "id": "5dadb71a",
   "metadata": {},
   "source": [
    "# Generated Knowledge Prompting"
   ]
  },
  {
   "cell_type": "markdown",
   "id": "cd65bde2",
   "metadata": {},
   "source": [
    " Image Source: Promptly"
   ]
  },
  {
   "cell_type": "markdown",
   "id": "d5322898",
   "metadata": {},
   "source": [
    "![Image](https://www.promptly.ink/_next/image?url=%2F_next%2Fstatic%2Fmedia%2Fgen-knowledge.055b8d37.png&w=828&q=75)"
   ]
  },
  {
   "cell_type": "markdown",
   "id": "e0a55ef9",
   "metadata": {},
   "source": [
    "Large Language Models (LLMs) are getting better and better. One way they’re improving is by using extra information or knowledge to make more accurate guesses."
   ]
  },
  {
   "cell_type": "markdown",
   "id": "1bb71919",
   "metadata": {},
   "source": [
    "Imagine if we could use these models to create new knowledge before making a guess? That’s what a recent study tried to do. They wanted to see if generating knowledge first could help with tasks like understanding common sense."
   ]
  },
  {
   "cell_type": "markdown",
   "id": "f9155549",
   "metadata": {},
   "source": [
    "Let’s look at an example:"
   ]
  },
  {
   "cell_type": "markdown",
   "id": "e3eefd5b",
   "metadata": {},
   "source": [
    "Question:"
   ]
  },
  {
   "cell_type": "code",
   "execution_count": null,
   "id": "45e44f8c",
   "metadata": {},
   "outputs": [],
   "source": [
    "Do penguins fly like other birds? Yes or No?"
   ]
  },
  {
   "cell_type": "markdown",
   "id": "d57cffc5",
   "metadata": {},
   "source": [
    "A Large Language Model (LLM) might answer:"
   ]
  },
  {
   "cell_type": "markdown",
   "id": "90cfbb38",
   "metadata": {},
   "source": [
    "Answer:"
   ]
  },
  {
   "cell_type": "code",
   "execution_count": null,
   "id": "ceabd109",
   "metadata": {},
   "outputs": [],
   "source": [
    "Yes."
   ]
  },
  {
   "cell_type": "markdown",
   "id": "7cf4822b",
   "metadata": {},
   "source": [
    "This answer is incorrect because penguins are flightless birds. They cannot fly like other birds. This shows that LLMs can sometimes struggle with tasks that require real-world knowledge. So, how can we improve this with knowledge generation?"
   ]
  },
  {
   "cell_type": "markdown",
   "id": "9a587cd1",
   "metadata": {},
   "source": [
    "First, we generate some knowledge about penguins:"
   ]
  },
  {
   "cell_type": "markdown",
   "id": "8630c0f8",
   "metadata": {},
   "source": [
    "Knowledge:"
   ]
  },
  {
   "cell_type": "code",
   "execution_count": null,
   "id": "b30619f0",
   "metadata": {},
   "outputs": [],
   "source": [
    "Penguins are a group of flightless birds. They live almost exclusively in the Southern Hemisphere, with only one species, the Galapagos penguin, found north of the equator. Despite their inability to fly, penguins are excellent swimmers."
   ]
  },
  {
   "cell_type": "markdown",
   "id": "f1f8db04",
   "metadata": {},
   "source": [
    "We then use this knowledge to answer the question again:"
   ]
  },
  {
   "cell_type": "markdown",
   "id": "ed98514f",
   "metadata": {},
   "source": [
    "Question:"
   ]
  },
  {
   "cell_type": "code",
   "execution_count": null,
   "id": "97a267a0",
   "metadata": {},
   "outputs": [],
   "source": [
    "Do penguins fly like other birds? Yes or No?\n",
    "Knowledge: Penguins are a group of flightless birds. They live almost exclusively in the Southern Hemisphere, with only one species, the Galapagos penguin, found north of the equator. Despite their inability to fly, penguins are excellent swimmers."
   ]
  },
  {
   "cell_type": "markdown",
   "id": "7a8bdcd5",
   "metadata": {},
   "source": [
    "Answer:"
   ]
  },
  {
   "cell_type": "code",
   "execution_count": null,
   "id": "90da016a",
   "metadata": {},
   "outputs": [],
   "source": [
    "No, penguins do not fly like other birds. They are a group of flightless birds. Despite their inability to fly, penguins are excellent swimmers."
   ]
  },
  {
   "cell_type": "markdown",
   "id": "b37d8b9b",
   "metadata": {},
   "source": [
    "This time, the answer is correct! This shows that generating knowledge first can help LLMs make better guesses. However, the effectiveness of this technique can vary, and there’s still a lot to learn about how to use it most effectively."
   ]
  },
  {
   "cell_type": "markdown",
   "id": "8a86eaf3",
   "metadata": {},
   "source": [
    "# Directional Stimulus Prompting"
   ]
  },
  {
   "cell_type": "markdown",
   "id": "df128335",
   "metadata": {},
   "source": [
    "Large Language Models (LLMs) are continually being enhanced, and one of the techniques that have gained popularity is the use of Directional Stimulus Prompting. This method involves providing the model with a hint or nudge in the right direction to help it make more accurate predictions."
   ]
  },
  {
   "cell_type": "markdown",
   "id": "b2a42d98",
   "metadata": {},
   "source": [
    "The concept behind Directional Stimulus Prompting is similar to giving a friend a hint when they’re trying to solve a puzzle. You’re not directly telling them the answer, but you’re providing enough information to guide them towards the correct solution."
   ]
  },
  {
   "cell_type": "markdown",
   "id": "a25c8ec1",
   "metadata": {},
   "source": [
    " Image Source: Promptly"
   ]
  },
  {
   "cell_type": "markdown",
   "id": "82252f90",
   "metadata": {},
   "source": [
    "![Image](https://www.promptly.ink/_next/image?url=%2F_next%2Fstatic%2Fmedia%2Fdsp.27a0005f.jpeg&w=1080&q=75)"
   ]
  },
  {
   "cell_type": "markdown",
   "id": "b6b07134",
   "metadata": {},
   "source": [
    "Let’s illustrate this with a simple example:"
   ]
  },
  {
   "cell_type": "markdown",
   "id": "7859ff3e",
   "metadata": {},
   "source": [
    "Certainly, let’s imagine you’re asking the model to summarize a news article. Here’s a brief news article example for our situation:"
   ]
  },
  {
   "cell_type": "markdown",
   "id": "a14a1ad1",
   "metadata": {},
   "source": [
    "News Article: “Yesterday, the major tech company, TechVerse, released their highly anticipated phone, the UltraPhone X. This latest model features a 6.7-inch display, a powerful Zenith Processor, and an improved camera with advanced Night Vision capabilities. It also boasts a durable battery that promises to last throughout the day. TechVerse expects the UltraPhone X to be a massive hit, building upon the success of previous models. The UltraPhone X will be made available for purchase worldwide next week.”"
   ]
  },
  {
   "cell_type": "markdown",
   "id": "4d875e39",
   "metadata": {},
   "source": [
    "Now, suppose you want a brief summary of this article. You could use directional stimulus prompting to guide the AI’s summarization process."
   ]
  },
  {
   "cell_type": "markdown",
   "id": "41846bfa",
   "metadata": {},
   "source": [
    "Prompt:"
   ]
  },
  {
   "cell_type": "code",
   "execution_count": null,
   "id": "bb1b32c4",
   "metadata": {},
   "outputs": [],
   "source": [
    "Can you provide a brief summary of this article, focusing on the key details such as the features of the new phone and its release date?"
   ]
  },
  {
   "cell_type": "markdown",
   "id": "9014720d",
   "metadata": {},
   "source": [
    "This prompt nudges the AI to highlight specific elements in its summary."
   ]
  },
  {
   "cell_type": "markdown",
   "id": "86596d39",
   "metadata": {},
   "source": [
    "So, the model might respond with:"
   ]
  },
  {
   "cell_type": "markdown",
   "id": "20cd23d8",
   "metadata": {},
   "source": [
    "Output:"
   ]
  },
  {
   "cell_type": "code",
   "execution_count": null,
   "id": "e93db843",
   "metadata": {},
   "outputs": [],
   "source": [
    "TechVerse has unveiled their new model, the UltraPhone X, featuring a 6.7-inch display, a potent Zenith Processor, advanced Night Vision capabilities, and a durable battery. The product, following the success of its older versions, is expected to be available for worldwide purchase next week."
   ]
  },
  {
   "cell_type": "markdown",
   "id": "fcfe1003",
   "metadata": {},
   "source": [
    "The extra prompting hint helped guide the AI to focus on the necessary details in its summarization process."
   ]
  },
  {
   "cell_type": "markdown",
   "id": "9f4c9437",
   "metadata": {},
   "source": [
    "This example demonstrates how Directional Stimulus Prompting can be used to guide the model towards the correct answer without explicitly providing the answer. It’s a useful technique for tasks where the model might need a little extra help to arrive at the correct prediction."
   ]
  }
 ],
 "metadata": {},
 "nbformat": 4,
 "nbformat_minor": 5
}
