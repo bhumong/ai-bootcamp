{
 "cells": [
  {
   "cell_type": "markdown",
   "id": "c5081d34",
   "metadata": {},
   "source": [
    "source: [link](https://ai-bootcamp.ruangguru.com/learn/08_langchain/00_prompt-engineering/01_intro-to-prompt-engineering.html)"
   ]
  },
  {
   "cell_type": "markdown",
   "id": "9bd7dd7e",
   "metadata": {},
   "source": [
    "# Intro to Prompt in Generative AI"
   ]
  },
  {
   "cell_type": "markdown",
   "id": "ca93cc93",
   "metadata": {},
   "source": [
    "On this course, we will learn how to use Prompt in Generative AI. We will start with the basics and then move on to more advanced topics. We’ll use ChatGPT to use the prompt on, so if you do not have an account, sign up at https://chat.openai.com"
   ]
  },
  {
   "cell_type": "markdown",
   "id": "f2da355f",
   "metadata": {},
   "source": [
    "# What is Prompt in AI Language Models?"
   ]
  },
  {
   "cell_type": "markdown",
   "id": "19f0cb95",
   "metadata": {},
   "source": [
    "A prompt is like a clue given to an AI model. This clue helps the AI know what to talk about. It’s like asking a question or starting a conversation. The AI takes this clue and uses it to come up with a response. The clue can be a question, a sentence, or even just one word. It’s very important because it tells the AI what to say next. It’s the first step that guides the AI’s answer."
   ]
  },
  {
   "cell_type": "markdown",
   "id": "46c16b6f",
   "metadata": {},
   "source": [
    "Think of an AI language model as a super-smart parrot. This parrot doesn’t know what to say until you give it a hint, which we call a prompt."
   ]
  },
  {
   "cell_type": "markdown",
   "id": "13bdca5b",
   "metadata": {},
   "source": [
    "For example, if you say to the parrot,"
   ]
  },
  {
   "cell_type": "markdown",
   "id": "de8914af",
   "metadata": {},
   "source": [
    "Tell me a story about a brave knight"
   ]
  },
  {
   "cell_type": "markdown",
   "id": "61d9e39c",
   "metadata": {},
   "source": [
    "The parrot (or AI model) then uses this prompt to create a story about a brave knight."
   ]
  },
  {
   "cell_type": "markdown",
   "id": "cf740c39",
   "metadata": {},
   "source": [
    "The prompt is important because it sets the direction for what the AI model will generate."
   ]
  },
  {
   "cell_type": "markdown",
   "id": "8131caac",
   "metadata": {},
   "source": [
    "It’s like giving a topic for an essay to a student. The student uses that topic to write an essay. Similarly, the AI model uses the prompt to generate a response."
   ]
  },
  {
   "cell_type": "markdown",
   "id": "eda883eb",
   "metadata": {},
   "source": [
    "So, in simple terms, a prompt is a piece of information or a question that you give to an AI model to guide what it will talk about or generate."
   ]
  },
  {
   "cell_type": "markdown",
   "id": "56350251",
   "metadata": {},
   "source": [
    "# LLM Configuration"
   ]
  },
  {
   "cell_type": "markdown",
   "id": "8c3cdc26",
   "metadata": {},
   "source": [
    "When crafting prompts, you’ll either interact with the Large Language Model (LLM) directly or through an API. One of the most important parameter you can adjust to tailor the results of your prompts is:"
   ]
  },
  {
   "cell_type": "markdown",
   "id": "e0b625eb",
   "metadata": {},
   "source": [
    "Temperature - Simply put, a lower temperature setting makes it less creative, more following a predefined template (deterministic), while a higher temperature will introduce more randomness, resulting in more diverse or inventive outputs. For instance, you might want to use a lower temperature for tasks like fact-based Q&A to promote more accurate and to the point responses. Conversely, for creative tasks like generating poetry, a higher temperature might be advantageous."
   ]
  },
  {
   "cell_type": "markdown",
   "id": "f6ec33cf",
   "metadata": {},
   "source": [
    "# Components of a Prompt"
   ]
  },
  {
   "cell_type": "markdown",
   "id": "11fba263",
   "metadata": {},
   "source": [
    "A prompt is a set of instructions that guide an AI model to perform a specific task. It consists of several components, each playing a crucial role in shaping the model’s response."
   ]
  },
  {
   "cell_type": "markdown",
   "id": "f70fe3d1",
   "metadata": {},
   "source": [
    "Let’s consider a complex prompt for a detailed breakdown:"
   ]
  },
  {
   "cell_type": "markdown",
   "id": "ae26718d",
   "metadata": {},
   "source": [
    "Prompt:"
   ]
  },
  {
   "cell_type": "code",
   "execution_count": null,
   "id": "6eaf8297",
   "metadata": {},
   "outputs": [],
   "source": [
    "Given the following review of a restaurant, summarize it in one sentence and classify it as positive, negative, or neutral: 'The food was absolutely delicious, and the staff were incredibly friendly. However, the noise level was quite high which made it difficult to have a conversation."
   ]
  },
  {
   "cell_type": "markdown",
   "id": "032c293c",
   "metadata": {},
   "source": [
    "Here are the key components of this prompt:"
   ]
  },
  {
   "cell_type": "markdown",
   "id": "34bccf92",
   "metadata": {},
   "source": [
    "Instruction"
   ]
  },
  {
   "cell_type": "markdown",
   "id": "fbd499fc",
   "metadata": {},
   "source": [
    "The instruction is the core of the prompt. It directs the AI model on the task it needs to perform. In our example, the instruction is:"
   ]
  },
  {
   "cell_type": "markdown",
   "id": "36372ddb",
   "metadata": {},
   "source": [
    "“Given the following review of a restaurant, summarize it in one sentence and classify it as positive, negative, or neutral”."
   ]
  },
  {
   "cell_type": "markdown",
   "id": "9b489803",
   "metadata": {},
   "source": [
    "This part of the prompt tells the AI what task it needs to perform, which is to summarize a restaurant review in one sentence and classify the sentiment of the review."
   ]
  },
  {
   "cell_type": "markdown",
   "id": "6ba6b5a4",
   "metadata": {},
   "source": [
    "Context"
   ]
  },
  {
   "cell_type": "markdown",
   "id": "af696eee",
   "metadata": {},
   "source": [
    "Context provides additional information that aids the AI model in understanding the task better and generating more accurate responses."
   ]
  },
  {
   "cell_type": "markdown",
   "id": "684a6672",
   "metadata": {},
   "source": [
    "In the given prompt, the context is provided in the instruction itself -"
   ]
  },
  {
   "cell_type": "markdown",
   "id": "05449deb",
   "metadata": {},
   "source": [
    "“Given the following review of a restaurant, summarize it in one sentence and classify it as positive, negative, or neutral”."
   ]
  },
  {
   "cell_type": "markdown",
   "id": "59fcb932",
   "metadata": {},
   "source": [
    "The AI model is informed that the input data is a review of a restaurant. This helps the model understand that it should consider factors like food quality, service, and ambiance in its summary and classification."
   ]
  },
  {
   "cell_type": "markdown",
   "id": "5ba4e671",
   "metadata": {},
   "source": [
    "Input Data"
   ]
  },
  {
   "cell_type": "markdown",
   "id": "9a8c83f6",
   "metadata": {},
   "source": [
    "Input data is the information that the AI model processes to accomplish the task set in the prompt. In our example, the input data is:"
   ]
  },
  {
   "cell_type": "markdown",
   "id": "17f1fa34",
   "metadata": {},
   "source": [
    "“The food was absolutely delicious, and the staff were incredibly friendly. However, the noise level was quite high which made it difficult to have a conversation.”"
   ]
  },
  {
   "cell_type": "markdown",
   "id": "da0751ee",
   "metadata": {},
   "source": [
    "This is the restaurant review that needs to be summarized and classified."
   ]
  },
  {
   "cell_type": "markdown",
   "id": "4a10eaeb",
   "metadata": {},
   "source": [
    "Output Indicator"
   ]
  },
  {
   "cell_type": "markdown",
   "id": "c84dbfb8",
   "metadata": {},
   "source": [
    "The output indicator signals to the AI model that a response is expected. In this case, the output indicator is implicit."
   ]
  },
  {
   "cell_type": "markdown",
   "id": "5f916c8b",
   "metadata": {},
   "source": [
    "The instruction to “summarize it in one sentence and classify it as positive, negative, or neutral” implies that the AI model is expected to produce a response, which would be the summarized review and its classification."
   ]
  },
  {
   "cell_type": "markdown",
   "id": "74c9d7a3",
   "metadata": {},
   "source": [
    "# Prompt Engineering Tips"
   ]
  },
  {
   "cell_type": "markdown",
   "id": "73cb558d",
   "metadata": {},
   "source": [
    "Creating prompts for AI language models is like giving directions. The better the directions, the better the AI can respond. Here are some tips and examples to help make better prompts:"
   ]
  },
  {
   "cell_type": "markdown",
   "id": "b832a19a",
   "metadata": {},
   "source": [
    "# Giving Context for Clear and Accurate Responses"
   ]
  },
  {
   "cell_type": "markdown",
   "id": "d8024bec",
   "metadata": {},
   "source": [
    "Context can be thought of as the setting or background of a conversation. It’s like the stage where the conversation takes place and the theme that it revolves around."
   ]
  },
  {
   "cell_type": "markdown",
   "id": "d27c2651",
   "metadata": {},
   "source": [
    "Providing context is like giving a map to the AI model. This map helps the model understand the conversation’s location and topic."
   ]
  },
  {
   "cell_type": "markdown",
   "id": "78c2d03a",
   "metadata": {},
   "source": [
    "Context is crucial in any conversation. It acts like a spine, giving the necessary support and direction. When context is added to prompts, it steers the AI model to create responses that make sense and are on point."
   ]
  },
  {
   "cell_type": "markdown",
   "id": "cfc0ca97",
   "metadata": {},
   "source": [
    "Here are some examples of prompts with context:"
   ]
  },
  {
   "cell_type": "markdown",
   "id": "96ce5f8b",
   "metadata": {},
   "source": [
    "# Example 1"
   ]
  },
  {
   "cell_type": "markdown",
   "id": "dc5d5eaf",
   "metadata": {},
   "source": [
    "Incorrect Prompt: Tell me about it."
   ]
  },
  {
   "cell_type": "markdown",
   "id": "4091152d",
   "metadata": {},
   "source": [
    "This prompt is unclear and lacks context. The AI model can’t identify what “it” refers to and might produce a response that’s off-topic or irrelevant."
   ]
  },
  {
   "cell_type": "markdown",
   "id": "3ef2d9d2",
   "metadata": {},
   "source": [
    "Improved Prompt: Tell me about the implications of climate change on global agriculture."
   ]
  },
  {
   "cell_type": "markdown",
   "id": "d45f1e92",
   "metadata": {},
   "source": [
    "This prompt gives clear context (climate change and global agriculture), directing the AI model to produce a relevant and coherent response."
   ]
  },
  {
   "cell_type": "markdown",
   "id": "fa4f431f",
   "metadata": {},
   "source": [
    "# Example 2"
   ]
  },
  {
   "cell_type": "markdown",
   "id": "96a1ebbb",
   "metadata": {},
   "source": [
    "Incorrect Prompt: Analyze the data."
   ]
  },
  {
   "cell_type": "markdown",
   "id": "b1722bbf",
   "metadata": {},
   "source": [
    "This prompt is unclear and lacks context. The AI model can’t identify what data to analyze or what kind of analysis is needed."
   ]
  },
  {
   "cell_type": "markdown",
   "id": "398da7d0",
   "metadata": {},
   "source": [
    "Improved Prompt: Analyze the sales data from the last quarter using a regression model to predict future trends."
   ]
  },
  {
   "cell_type": "markdown",
   "id": "93b5326e",
   "metadata": {},
   "source": [
    "This prompt gives clear context (sales data from the last quarter, regression model, prediction of future trends), directing the AI model to produce a relevant and coherent response."
   ]
  },
  {
   "cell_type": "markdown",
   "id": "072fc9bd",
   "metadata": {},
   "source": [
    "# Making a Clear Task for Clear Results"
   ]
  },
  {
   "cell_type": "markdown",
   "id": "906bfb80",
   "metadata": {},
   "source": [
    "The relationship between the clarity of a task defined in a prompt and the quality of the results obtained is direct. When task definitions are clear and precise, superior results are achieved. This is because they offer the AI model a specific direction to follow."
   ]
  },
  {
   "cell_type": "markdown",
   "id": "de078f4b",
   "metadata": {},
   "source": [
    "Here are some examples of prompts with clear tasks:"
   ]
  },
  {
   "cell_type": "markdown",
   "id": "3adf034c",
   "metadata": {},
   "source": [
    "# Example 1"
   ]
  },
  {
   "cell_type": "markdown",
   "id": "b5167a45",
   "metadata": {},
   "source": [
    "Incorrect Prompt: Improve this."
   ]
  },
  {
   "cell_type": "markdown",
   "id": "4971392a",
   "metadata": {},
   "source": [
    "This prompt is too ambiguous. The AI model can’t identify what needs enhancement or how to tackle the task."
   ]
  },
  {
   "cell_type": "markdown",
   "id": "a8aab28f",
   "metadata": {},
   "source": [
    "Improved Prompt: Improve this sentence for clarity: 'The man the professor the student has studies Rome."
   ]
  },
  {
   "cell_type": "markdown",
   "id": "570be65d",
   "metadata": {},
   "source": [
    "The enhanced prompt clearly outlines the task (improving a sentence for clarity) and provides a specific item (the sentence) for the AI model to work on."
   ]
  },
  {
   "cell_type": "markdown",
   "id": "e4d17119",
   "metadata": {},
   "source": [
    "# Example 2"
   ]
  },
  {
   "cell_type": "markdown",
   "id": "4055016f",
   "metadata": {},
   "source": [
    "Incorrect Prompt: Translate this."
   ]
  },
  {
   "cell_type": "markdown",
   "id": "17d5ed3a",
   "metadata": {},
   "source": [
    "Without indicating the source and target languages, the AI model can’t determine how to tackle the task."
   ]
  },
  {
   "cell_type": "markdown",
   "id": "7e3e7476",
   "metadata": {},
   "source": [
    "Improved Prompt: Translate this English text into French: 'Artificial Intelligence is transforming industries.'"
   ]
  },
  {
   "cell_type": "markdown",
   "id": "6012ceba",
   "metadata": {},
   "source": [
    "The enhanced prompt clearly outlines the task (translation), the source language (English), the target language (French), and provides a specific item (the sentence) for the AI model to work on."
   ]
  },
  {
   "cell_type": "markdown",
   "id": "75814368",
   "metadata": {},
   "source": [
    "# Creating Characters"
   ]
  },
  {
   "cell_type": "markdown",
   "id": "a1e82bf7",
   "metadata": {},
   "source": [
    "Characters represent individuals, creatures, or entities participating in a narrative. They interact with each other and propel the storyline."
   ]
  },
  {
   "cell_type": "markdown",
   "id": "710f413e",
   "metadata": {},
   "source": [
    "The development of personas can aid in producing responses that are more tailored and captivating. Personas can steer the AI model to react in a specific tone or style, rendering the interaction more akin to human conversation."
   ]
  },
  {
   "cell_type": "markdown",
   "id": "61d7b3a8",
   "metadata": {},
   "source": [
    "Here are some examples of prompts with characters:"
   ]
  },
  {
   "cell_type": "markdown",
   "id": "fab8c076",
   "metadata": {},
   "source": [
    "# Example 1"
   ]
  },
  {
   "cell_type": "markdown",
   "id": "cdb70e9a",
   "metadata": {},
   "source": [
    "Incorrect Prompt: Write a response to a customer complaint."
   ]
  },
  {
   "cell_type": "markdown",
   "id": "34cbb093",
   "metadata": {},
   "source": [
    "This prompt is overly general and doesn’t specify the tone or style of the response."
   ]
  },
  {
   "cell_type": "markdown",
   "id": "cc004841",
   "metadata": {},
   "source": [
    "Improved Prompt: Write a response to a customer complaint as 'Emily', a customer service representative who is empathetic, patient, and solution-oriented."
   ]
  },
  {
   "cell_type": "markdown",
   "id": "967c80fb",
   "metadata": {},
   "source": [
    "The refined prompt creates a persona (Emily) with unique characteristics, guiding the AI model to generate a more personalized and engaging response."
   ]
  },
  {
   "cell_type": "markdown",
   "id": "b75451e9",
   "metadata": {},
   "source": [
    "# Example 2"
   ]
  },
  {
   "cell_type": "markdown",
   "id": "aa0937c0",
   "metadata": {},
   "source": [
    "Incorrect Prompt: Write a blog post about the benefits of exercise."
   ]
  },
  {
   "cell_type": "markdown",
   "id": "bd88980b",
   "metadata": {},
   "source": [
    "This prompt doesn’t identify the persona of the writer, which could lead to a generic or impersonal blog post."
   ]
  },
  {
   "cell_type": "markdown",
   "id": "53aeda8d",
   "metadata": {},
   "source": [
    "Improved Prompt: Write a blog post about the benefits of exercise as 'Dr. Smith', a seasoned fitness trainer with a passion for promoting healthy lifestyles."
   ]
  },
  {
   "cell_type": "markdown",
   "id": "f90b1f0b",
   "metadata": {},
   "source": [
    "The refined prompt creates a persona (Dr. Smith) with unique characteristics, guiding the AI model to generate a more personalized and engaging blog post."
   ]
  },
  {
   "cell_type": "markdown",
   "id": "eb60085c",
   "metadata": {},
   "source": [
    "# Adding More Context"
   ]
  },
  {
   "cell_type": "markdown",
   "id": "f9704190",
   "metadata": {},
   "source": [
    "Adding more context is like giving the AI extra information that it wouldn’t know otherwise. This extra information can be in the form of a setting, a theme, or a character."
   ]
  },
  {
   "cell_type": "markdown",
   "id": "39d0e3ad",
   "metadata": {},
   "source": [
    "Here are some examples of prompts with more context:"
   ]
  },
  {
   "cell_type": "markdown",
   "id": "390add85",
   "metadata": {},
   "source": [
    "# Example 1:"
   ]
  },
  {
   "cell_type": "markdown",
   "id": "34c9ed72",
   "metadata": {},
   "source": [
    "Incorrect Prompt: Write a news report."
   ]
  },
  {
   "cell_type": "markdown",
   "id": "d505c252",
   "metadata": {},
   "source": [
    "This prompt is missing specific context, which could result in a generic or irrelevant news report."
   ]
  },
  {
   "cell_type": "markdown",
   "id": "ae526ba3",
   "metadata": {},
   "source": [
    "Improved Prompt: Write a news report on the recent hurricane in Florida, considering its impact on local communities and the ongoing recovery efforts."
   ]
  },
  {
   "cell_type": "markdown",
   "id": "285d2fa4",
   "metadata": {},
   "source": [
    "The refined prompt introduces relevant context (recent hurricane in Florida, impact on local communities, ongoing recovery efforts), steering the AI model to generate a more precise and pertinent news report."
   ]
  },
  {
   "cell_type": "markdown",
   "id": "8b6c1294",
   "metadata": {},
   "source": [
    "# Example 2:"
   ]
  },
  {
   "cell_type": "markdown",
   "id": "68fdaf5a",
   "metadata": {},
   "source": [
    "Incorrect Prompt: Write a product review."
   ]
  },
  {
   "cell_type": "markdown",
   "id": "529dbeb1",
   "metadata": {},
   "source": [
    "This prompt is missing specific context, which could result in a generic or irrelevant product review."
   ]
  },
  {
   "cell_type": "markdown",
   "id": "cf91eefe",
   "metadata": {},
   "source": [
    "Improved Prompt: Write a product review for the latest iPhone model, considering its new features, performance, and comparison with the previous model."
   ]
  },
  {
   "cell_type": "markdown",
   "id": "2e0fdf75",
   "metadata": {},
   "source": [
    "The refined prompt introduces relevant context (latest iPhone model, new features, performance, comparison with the previous model), steering the AI model to generate a more precise and relevant product review."
   ]
  },
  {
   "cell_type": "markdown",
   "id": "b299fa4d",
   "metadata": {},
   "source": [
    "# Adding Outside Knowledge"
   ]
  },
  {
   "cell_type": "markdown",
   "id": "1f6543e3",
   "metadata": {},
   "source": [
    "Adding Outside knowledge into the prompt can assist the AI model in producing responses that are more informed and knowledgeable. This can be especially beneficial when handling subjects that demand expert knowledge or the most current information."
   ]
  },
  {
   "cell_type": "markdown",
   "id": "15e8fe8c",
   "metadata": {},
   "source": [
    "Here are some examples of prompts with outside knowledge:"
   ]
  },
  {
   "cell_type": "markdown",
   "id": "87167a7c",
   "metadata": {},
   "source": [
    "# Example 1:"
   ]
  },
  {
   "cell_type": "markdown",
   "id": "ec950c40",
   "metadata": {},
   "source": [
    "Incorrect Prompt: Write an article about global warming."
   ]
  },
  {
   "cell_type": "markdown",
   "id": "1c190a94",
   "metadata": {},
   "source": [
    "This prompt doesn’t indicate the need for expert knowledge or the most recent information, which could result in a generic or outdated article."
   ]
  },
  {
   "cell_type": "markdown",
   "id": "ecb7e50b",
   "metadata": {},
   "source": [
    "Improved Prompt: Write an article about global warming, incorporating the latest research findings from the IPCC (Intergovernmental Panel on Climate Change) report."
   ]
  },
  {
   "cell_type": "markdown",
   "id": "e761d519",
   "metadata": {},
   "source": [
    "The refined prompt introduces external knowledge (latest research findings from the IPCC report), steering the AI model to generate a more informed and current article."
   ]
  },
  {
   "cell_type": "markdown",
   "id": "2c911707",
   "metadata": {},
   "source": [
    "# Example 2:"
   ]
  },
  {
   "cell_type": "markdown",
   "id": "9169209c",
   "metadata": {},
   "source": [
    "Incorrect Prompt: Write a report on the current state of the stock market."
   ]
  },
  {
   "cell_type": "markdown",
   "id": "d11b9c7d",
   "metadata": {},
   "source": [
    "This prompt doesn’t indicate the need for expert knowledge or the most recent information, which could result in a generic or outdated report."
   ]
  },
  {
   "cell_type": "markdown",
   "id": "b2792aaa",
   "metadata": {},
   "source": [
    "Improved Prompt: Write a report on the current state of the stock market, incorporating the latest data from the New York Stock Exchange and expert analysis from leading financial analysts."
   ]
  },
  {
   "cell_type": "markdown",
   "id": "81c4b04c",
   "metadata": {},
   "source": [
    "The refined prompt introduces external knowledge (latest data from the New York Stock Exchange, expert analysis from leading financial analysts), steering the AI model to generate a more informed and current report."
   ]
  },
  {
   "cell_type": "markdown",
   "id": "cccbe99f",
   "metadata": {},
   "source": [
    "# Trying Again and Again for Better Prompts"
   ]
  },
  {
   "cell_type": "markdown",
   "id": "9a0b7cec",
   "metadata": {},
   "source": [
    "The procedure of prompt engineering extends beyond the creation of the initial prompt. It encompasses refining the prompts and assessing the output across multiple iterations. This iterative process aids in understanding how the AI model reacts to various prompts and enables the optimization of prompts for superior results."
   ]
  },
  {
   "cell_type": "markdown",
   "id": "17bfdc1e",
   "metadata": {},
   "source": [
    "# Example 1"
   ]
  },
  {
   "cell_type": "markdown",
   "id": "5e2e55a1",
   "metadata": {},
   "source": [
    "Initial Prompt: Write a poem."
   ]
  },
  {
   "cell_type": "markdown",
   "id": "65f958e5",
   "metadata": {},
   "source": [
    "The AI model could interpret this prompt in numerous ways, leading to a wide variety of responses. While not necessarily incorrect, it could be optimized for better results."
   ]
  },
  {
   "cell_type": "markdown",
   "id": "7c0f2fa5",
   "metadata": {},
   "source": [
    "Refined Prompt after Iteration: Write a sonnet about the tranquility of a quiet winter night."
   ]
  },
  {
   "cell_type": "markdown",
   "id": "d10bd2d5",
   "metadata": {},
   "source": [
    "After evaluating the output from the initial prompt, it might become clear that a specific type of poem (a sonnet) about a specific theme (the tranquility of a quiet winter night) is desired. This refined prompt guides the AI model more effectively."
   ]
  },
  {
   "cell_type": "markdown",
   "id": "b3667121",
   "metadata": {},
   "source": [
    "# Example 2"
   ]
  },
  {
   "cell_type": "markdown",
   "id": "d11a6323",
   "metadata": {},
   "source": [
    "Initial Prompt: Summarize the article."
   ]
  },
  {
   "cell_type": "markdown",
   "id": "4eee4d15",
   "metadata": {},
   "source": [
    "While this prompt isn’t incorrect, it’s quite broad and could be optimized for better results."
   ]
  },
  {
   "cell_type": "markdown",
   "id": "b1a977a1",
   "metadata": {},
   "source": [
    "Refined Prompt after Iteration: Summarize the key arguments and conclusions from the article on 'The Impact of Artificial Intelligence on Healthcare'."
   ]
  },
  {
   "cell_type": "markdown",
   "id": "8d046bf2",
   "metadata": {},
   "source": [
    "After evaluating the output from the initial prompt, it might become clear that a summary focusing on key arguments and conclusions is desired. Also, specifying the article provides more context for the AI model. This refined prompt guides the AI model more effectively."
   ]
  },
  {
   "cell_type": "markdown",
   "id": "f30cd258",
   "metadata": {},
   "source": [
    "Adhering to these guidelines for prompt engineering can enhance the performance of AI models and yield superior responses. The inclusion of context, clear task definition, iterative refinement of prompts, persona creation, context injection, and external knowledge addition will result in more precise and pertinent responses. This not only saves time but also boosts the overall performance of the AI models."
   ]
  },
  {
   "cell_type": "markdown",
   "id": "48a0f84e",
   "metadata": {},
   "source": [
    "# Exploring Techniques in Prompt Engineering"
   ]
  },
  {
   "cell_type": "markdown",
   "id": "feecc929",
   "metadata": {},
   "source": [
    "There are several techniques used in Prompt Engineering, each with its unique approach and application. These techniques include: - Zero-shot Prompting - Few-shot Prompting - Chain-of-Thought Prompting - Generate Knowledge Prompting - Directional Stimulus Prompting - etc."
   ]
  },
  {
   "cell_type": "markdown",
   "id": "fcc87384",
   "metadata": {},
   "source": [
    "In this discussion, we will explore a few of these techniques and see how they work in the world of Prompt Engineering. For a more comprehensive understanding of these techniques and to explore others not covered here, you can visit Promptly."
   ]
  },
  {
   "cell_type": "markdown",
   "id": "60253bb1",
   "metadata": {},
   "source": [
    "# Zero-Shot Prompting"
   ]
  },
  {
   "cell_type": "markdown",
   "id": "0a78458e",
   "metadata": {},
   "source": [
    "Zero-shot prompting is when we ask a computer program to do a task without giving it any examples beforehand. This is possible with today’s Large Language Models (LLMs) that are trained on lots of data and can follow instructions."
   ]
  },
  {
   "cell_type": "markdown",
   "id": "41c50a40",
   "metadata": {},
   "source": [
    "For example, let’s say we ask the program to classify a sentence as neutral, negative, or positive:"
   ]
  },
  {
   "cell_type": "markdown",
   "id": "c5dfa328",
   "metadata": {},
   "source": [
    "Prompt:"
   ]
  },
  {
   "cell_type": "code",
   "execution_count": null,
   "id": "db1926e7",
   "metadata": {},
   "outputs": [],
   "source": [
    "\"Determine the mood of the following statement:\n",
    "Text: The concert was absolutely fantastic, and the band was incredible!\n",
    "Mood:\""
   ]
  },
  {
   "cell_type": "markdown",
   "id": "2f914f08",
   "metadata": {},
   "source": [
    "Output:"
   ]
  },
  {
   "cell_type": "code",
   "execution_count": null,
   "id": "c06aaa08",
   "metadata": {},
   "outputs": [],
   "source": [
    "\"Excited\""
   ]
  },
  {
   "cell_type": "markdown",
   "id": "1e7959de",
   "metadata": {},
   "source": [
    "Here, we didn’t give the program any examples, but it still gave the correct answer. This is what we call zero-shot capabilities."
   ]
  },
  {
   "cell_type": "markdown",
   "id": "d7e18285",
   "metadata": {},
   "source": [
    "# Few-Shot Prompting"
   ]
  },
  {
   "cell_type": "markdown",
   "id": "1933822f",
   "metadata": {},
   "source": [
    "Few-shot prompting is like giving a few examples to a computer program before asking it to do a similar task. This helps the program understand what we want it to do."
   ]
  },
  {
   "cell_type": "markdown",
   "id": "c1ddbfdc",
   "metadata": {},
   "source": [
    "For example, let’s say we have a new word, “farduddle,” which means to jump up and down really fast. We can show the program how to use this word with an example:"
   ]
  },
  {
   "cell_type": "markdown",
   "id": "24feac65",
   "metadata": {},
   "source": [
    "Prompt:"
   ]
  },
  {
   "cell_type": "code",
   "execution_count": null,
   "id": "9907bc3f",
   "metadata": {},
   "outputs": [],
   "source": [
    "\"To do a 'farduddle' means to jump up and down really fast. An example of a sentence that uses the word farduddle is:\""
   ]
  },
  {
   "cell_type": "markdown",
   "id": "7e8ecdfe",
   "metadata": {},
   "source": [
    "Output:"
   ]
  },
  {
   "cell_type": "code",
   "execution_count": null,
   "id": "770c00cb",
   "metadata": {},
   "outputs": [],
   "source": [
    "\"When we won the game, we all started to farduddle in celebration.\""
   ]
  },
  {
   "cell_type": "markdown",
   "id": "278e270c",
   "metadata": {},
   "source": [
    "Here, the program learns how to use the new word correctly with just one example. If the task is harder, we might need to give more examples."
   ]
  },
  {
   "cell_type": "markdown",
   "id": "556b335b",
   "metadata": {},
   "source": [
    "But few-shot prompting doesn’t always work, especially for more complex tasks. For example, if we ask the program to figure out if the sum of odd numbers in a group is even, it might not give the correct answer."
   ]
  },
  {
   "cell_type": "markdown",
   "id": "8f1dbb7e",
   "metadata": {},
   "source": [
    "Prompt:"
   ]
  },
  {
   "cell_type": "code",
   "execution_count": null,
   "id": "21df0984",
   "metadata": {},
   "outputs": [],
   "source": [
    "The odd numbers in this group add up to an even number: 4, 8, 9, 15, 12, 2, 1.\n",
    "A: The answer is False.\n",
    "The odd numbers in this group add up to an even number: 17,  10, 19, 4, 8, 12, 24.\n",
    "A: The answer is True.\n",
    "The odd numbers in this group add up to an even number: 16,  11, 14, 4, 8, 13, 24.\n",
    "A: The answer is True.\n",
    "The odd numbers in this group add up to an even number: 17,  9, 10, 12, 13, 4, 2.\n",
    "A: The answer is False.\n",
    "The odd numbers in this group add up to an even number: 15, 32, 5, 13, 82, 7, 1.\n",
    "A:"
   ]
  },
  {
   "cell_type": "markdown",
   "id": "51923a0e",
   "metadata": {},
   "source": [
    "Output:"
   ]
  },
  {
   "cell_type": "code",
   "execution_count": null,
   "id": "685cd447",
   "metadata": {},
   "outputs": [],
   "source": [
    "The answer is True."
   ]
  },
  {
   "cell_type": "markdown",
   "id": "1f7ec4d0",
   "metadata": {},
   "source": [
    "In such cases, we need to use other techniques or fine-tune the program."
   ]
  },
  {
   "cell_type": "markdown",
   "id": "5e2fa997",
   "metadata": {},
   "source": [
    "# Chain-of-Thought (CoT) Prompting"
   ]
  },
  {
   "cell_type": "markdown",
   "id": "1a7e9b66",
   "metadata": {},
   "source": []
  },
  {
   "cell_type": "markdown",
   "id": "7f59351a",
   "metadata": {},
   "source": [
    "![Image](https://www.promptly.ink/_next/image?url=%2F_next%2Fstatic%2Fmedia%2Fcot.1933d9fe.png&w=1080&q=75)"
   ]
  },
  {
   "cell_type": "markdown",
   "id": "8d7e2dfa",
   "metadata": {},
   "source": [
    "Image Source: Promptly"
   ]
  },
  {
   "cell_type": "markdown",
   "id": "03ab6bc8",
   "metadata": {},
   "source": [
    "Chain-of-Thought (CoT) prompting is a technique where we guide a computer program step-by-step through a task. This is especially useful for complex tasks that require some thinking before giving an answer."
   ]
  },
  {
   "cell_type": "markdown",
   "id": "b12ec40c",
   "metadata": {},
   "source": [
    "For example, let’s say we want the program to figure out if the sum of odd numbers in a group is even. We can guide it through the reasoning process like this:"
   ]
  },
  {
   "cell_type": "markdown",
   "id": "5587dfca",
   "metadata": {},
   "source": [
    "Prompt:"
   ]
  },
  {
   "cell_type": "code",
   "execution_count": null,
   "id": "f9b28de6",
   "metadata": {},
   "outputs": [],
   "source": [
    "\"The odd numbers in this group add up to an even number: 4, 8, 9, 15, 12, 2, 1.\n",
    "A: Adding all the odd numbers (9, 15, 1) gives 25. The answer is False.\n",
    "The odd numbers in this group add up to an even number: 15, 32, 5, 13, 82, 7, 1.\n",
    "A:\""
   ]
  },
  {
   "cell_type": "markdown",
   "id": "ce458684",
   "metadata": {},
   "source": [
    "Output:"
   ]
  },
  {
   "cell_type": "code",
   "execution_count": null,
   "id": "88860566",
   "metadata": {},
   "outputs": [],
   "source": [
    "\"Adding all the odd numbers (15, 5, 13, 7, 1) gives 41. The answer is False.\""
   ]
  },
  {
   "cell_type": "markdown",
   "id": "4bfc3c2d",
   "metadata": {},
   "source": [
    "Here, the program correctly figures out the answer by following the reasoning steps we provided. This technique can be very powerful, especially when combined with few-shot prompting."
   ]
  },
  {
   "cell_type": "markdown",
   "id": "2dbaf58a",
   "metadata": {},
   "source": [
    "# Zero-shot CoT Prompting"
   ]
  },
  {
   "cell_type": "markdown",
   "id": "0193f84e",
   "metadata": {},
   "source": [
    " Image Source: Promptly"
   ]
  },
  {
   "cell_type": "markdown",
   "id": "5949e122",
   "metadata": {},
   "source": [
    "![Image](https://www.promptly.ink/_next/image?url=%2F_next%2Fstatic%2Fmedia%2Fzero-cot.79793bee.png&w=1080&q=75)"
   ]
  },
  {
   "cell_type": "markdown",
   "id": "07f0fef6",
   "metadata": {},
   "source": [
    "Zero-shot Chain-of-Thought (CoT) prompting is a new technique where we ask a computer program to think step-by-step before giving an answer. This can be done by simply adding “Let’s think step by step” to the original question."
   ]
  },
  {
   "cell_type": "markdown",
   "id": "5c7795db",
   "metadata": {},
   "source": [
    "For example, let’s say we ask the program a simple math problem:"
   ]
  },
  {
   "cell_type": "markdown",
   "id": "2046b347",
   "metadata": {},
   "source": [
    "Prompt:"
   ]
  },
  {
   "cell_type": "code",
   "execution_count": null,
   "id": "03599378",
   "metadata": {},
   "outputs": [],
   "source": [
    "\"I have a jar with 20 candies. I ate 5 candies in the morning and gave 3 candies to my friend. Later, I bought 10 more candies and put them in the jar. How many candies are in the jar now?\""
   ]
  },
  {
   "cell_type": "markdown",
   "id": "a6f0a86e",
   "metadata": {},
   "source": [
    "Output:"
   ]
  },
  {
   "cell_type": "code",
   "execution_count": null,
   "id": "8898da36",
   "metadata": {},
   "outputs": [],
   "source": [
    "\"25 candies\""
   ]
  },
  {
   "cell_type": "markdown",
   "id": "a9fe686b",
   "metadata": {},
   "source": [
    "The answer is wrong! Now, let’s try the same problem but ask the program to think step-by-step:"
   ]
  },
  {
   "cell_type": "markdown",
   "id": "17aca5bb",
   "metadata": {},
   "source": [
    "Prompt:"
   ]
  },
  {
   "cell_type": "code",
   "execution_count": null,
   "id": "c0cca346",
   "metadata": {},
   "outputs": [],
   "source": [
    "\"I have a jar with 20 candies. I ate 5 candies in the morning and gave 3 candies to my friend. Later, I bought 10 more candies and put them in the jar. How many candies are in the jar now? Let's think step by step.\""
   ]
  },
  {
   "cell_type": "markdown",
   "id": "426d6f38",
   "metadata": {},
   "source": [
    "Output:"
   ]
  },
  {
   "cell_type": "code",
   "execution_count": null,
   "id": "bda0f673",
   "metadata": {},
   "outputs": [],
   "source": [
    "\"First, you started with 20 candies.\n",
    "You ate 5 candies in the morning, so you had 15 candies left.\n",
    "Then you gave 3 candies to your friend, so you had 12 candies left.\n",
    "Finally, you bought 10 more candies, so now you have 22 candies in the jar.\""
   ]
  },
  {
   "cell_type": "markdown",
   "id": "1fdfedd6",
   "metadata": {},
   "source": [
    "This time, the program gives the correct answer! This technique can be very useful when we don’t have many examples to guide the program."
   ]
  },
  {
   "cell_type": "markdown",
   "id": "98738ed6",
   "metadata": {},
   "source": [
    "# Generated Knowledge Prompting"
   ]
  },
  {
   "cell_type": "markdown",
   "id": "fd947417",
   "metadata": {},
   "source": [
    " Image Source: Promptly"
   ]
  },
  {
   "cell_type": "markdown",
   "id": "e8922bba",
   "metadata": {},
   "source": [
    "![Image](https://www.promptly.ink/_next/image?url=%2F_next%2Fstatic%2Fmedia%2Fgen-knowledge.055b8d37.png&w=828&q=75)"
   ]
  },
  {
   "cell_type": "markdown",
   "id": "7b0200b4",
   "metadata": {},
   "source": [
    "Large Language Models (LLMs) are getting better and better. One way they’re improving is by using extra information or knowledge to make more accurate guesses."
   ]
  },
  {
   "cell_type": "markdown",
   "id": "b32941dd",
   "metadata": {},
   "source": [
    "Imagine if we could use these models to create new knowledge before making a guess? That’s what a recent study tried to do. They wanted to see if generating knowledge first could help with tasks like understanding common sense."
   ]
  },
  {
   "cell_type": "markdown",
   "id": "2e29dde3",
   "metadata": {},
   "source": [
    "Let’s look at an example:"
   ]
  },
  {
   "cell_type": "markdown",
   "id": "5578db47",
   "metadata": {},
   "source": [
    "Question:"
   ]
  },
  {
   "cell_type": "code",
   "execution_count": null,
   "id": "e9f32229",
   "metadata": {},
   "outputs": [],
   "source": [
    "Do penguins fly like other birds? Yes or No?"
   ]
  },
  {
   "cell_type": "markdown",
   "id": "fa9d81d6",
   "metadata": {},
   "source": [
    "A Large Language Model (LLM) might answer:"
   ]
  },
  {
   "cell_type": "markdown",
   "id": "dc254342",
   "metadata": {},
   "source": [
    "Answer:"
   ]
  },
  {
   "cell_type": "code",
   "execution_count": null,
   "id": "05c350e1",
   "metadata": {},
   "outputs": [],
   "source": [
    "Yes."
   ]
  },
  {
   "cell_type": "markdown",
   "id": "e48f8a93",
   "metadata": {},
   "source": [
    "This answer is incorrect because penguins are flightless birds. They cannot fly like other birds. This shows that LLMs can sometimes struggle with tasks that require real-world knowledge. So, how can we improve this with knowledge generation?"
   ]
  },
  {
   "cell_type": "markdown",
   "id": "92c9a737",
   "metadata": {},
   "source": [
    "First, we generate some knowledge about penguins:"
   ]
  },
  {
   "cell_type": "markdown",
   "id": "c70ccc46",
   "metadata": {},
   "source": [
    "Knowledge:"
   ]
  },
  {
   "cell_type": "code",
   "execution_count": null,
   "id": "96392a3e",
   "metadata": {},
   "outputs": [],
   "source": [
    "Penguins are a group of flightless birds. They live almost exclusively in the Southern Hemisphere, with only one species, the Galapagos penguin, found north of the equator. Despite their inability to fly, penguins are excellent swimmers."
   ]
  },
  {
   "cell_type": "markdown",
   "id": "2f06d104",
   "metadata": {},
   "source": [
    "We then use this knowledge to answer the question again:"
   ]
  },
  {
   "cell_type": "markdown",
   "id": "2a7591d0",
   "metadata": {},
   "source": [
    "Question:"
   ]
  },
  {
   "cell_type": "code",
   "execution_count": null,
   "id": "6ca9f549",
   "metadata": {},
   "outputs": [],
   "source": [
    "Do penguins fly like other birds? Yes or No?\n",
    "Knowledge: Penguins are a group of flightless birds. They live almost exclusively in the Southern Hemisphere, with only one species, the Galapagos penguin, found north of the equator. Despite their inability to fly, penguins are excellent swimmers."
   ]
  },
  {
   "cell_type": "markdown",
   "id": "de99ad72",
   "metadata": {},
   "source": [
    "Answer:"
   ]
  },
  {
   "cell_type": "code",
   "execution_count": null,
   "id": "731bb7a2",
   "metadata": {},
   "outputs": [],
   "source": [
    "No, penguins do not fly like other birds. They are a group of flightless birds. Despite their inability to fly, penguins are excellent swimmers."
   ]
  },
  {
   "cell_type": "markdown",
   "id": "330be974",
   "metadata": {},
   "source": [
    "This time, the answer is correct! This shows that generating knowledge first can help LLMs make better guesses. However, the effectiveness of this technique can vary, and there’s still a lot to learn about how to use it most effectively."
   ]
  },
  {
   "cell_type": "markdown",
   "id": "4f43b800",
   "metadata": {},
   "source": [
    "# Directional Stimulus Prompting"
   ]
  },
  {
   "cell_type": "markdown",
   "id": "e15fc15c",
   "metadata": {},
   "source": [
    "Large Language Models (LLMs) are continually being enhanced, and one of the techniques that have gained popularity is the use of Directional Stimulus Prompting. This method involves providing the model with a hint or nudge in the right direction to help it make more accurate predictions."
   ]
  },
  {
   "cell_type": "markdown",
   "id": "4018e2d0",
   "metadata": {},
   "source": [
    "The concept behind Directional Stimulus Prompting is similar to giving a friend a hint when they’re trying to solve a puzzle. You’re not directly telling them the answer, but you’re providing enough information to guide them towards the correct solution."
   ]
  },
  {
   "cell_type": "markdown",
   "id": "18052342",
   "metadata": {},
   "source": [
    " Image Source: Promptly"
   ]
  },
  {
   "cell_type": "markdown",
   "id": "179e4daa",
   "metadata": {},
   "source": [
    "![Image](https://www.promptly.ink/_next/image?url=%2F_next%2Fstatic%2Fmedia%2Fdsp.27a0005f.jpeg&w=1080&q=75)"
   ]
  },
  {
   "cell_type": "markdown",
   "id": "e15f1c68",
   "metadata": {},
   "source": [
    "Let’s illustrate this with a simple example:"
   ]
  },
  {
   "cell_type": "markdown",
   "id": "03bdaa65",
   "metadata": {},
   "source": [
    "Certainly, let’s imagine you’re asking the model to summarize a news article. Here’s a brief news article example for our situation:"
   ]
  },
  {
   "cell_type": "markdown",
   "id": "b3c78f48",
   "metadata": {},
   "source": [
    "News Article: “Yesterday, the major tech company, TechVerse, released their highly anticipated phone, the UltraPhone X. This latest model features a 6.7-inch display, a powerful Zenith Processor, and an improved camera with advanced Night Vision capabilities. It also boasts a durable battery that promises to last throughout the day. TechVerse expects the UltraPhone X to be a massive hit, building upon the success of previous models. The UltraPhone X will be made available for purchase worldwide next week.”"
   ]
  },
  {
   "cell_type": "markdown",
   "id": "c495492d",
   "metadata": {},
   "source": [
    "Now, suppose you want a brief summary of this article. You could use directional stimulus prompting to guide the AI’s summarization process."
   ]
  },
  {
   "cell_type": "markdown",
   "id": "83d4685e",
   "metadata": {},
   "source": [
    "Prompt:"
   ]
  },
  {
   "cell_type": "code",
   "execution_count": null,
   "id": "edec4ee5",
   "metadata": {},
   "outputs": [],
   "source": [
    "Can you provide a brief summary of this article, focusing on the key details such as the features of the new phone and its release date?"
   ]
  },
  {
   "cell_type": "markdown",
   "id": "a694db53",
   "metadata": {},
   "source": [
    "This prompt nudges the AI to highlight specific elements in its summary."
   ]
  },
  {
   "cell_type": "markdown",
   "id": "afc77cc1",
   "metadata": {},
   "source": [
    "So, the model might respond with:"
   ]
  },
  {
   "cell_type": "markdown",
   "id": "83bf5a85",
   "metadata": {},
   "source": [
    "Output:"
   ]
  },
  {
   "cell_type": "code",
   "execution_count": null,
   "id": "9b4f35d5",
   "metadata": {},
   "outputs": [],
   "source": [
    "TechVerse has unveiled their new model, the UltraPhone X, featuring a 6.7-inch display, a potent Zenith Processor, advanced Night Vision capabilities, and a durable battery. The product, following the success of its older versions, is expected to be available for worldwide purchase next week."
   ]
  },
  {
   "cell_type": "markdown",
   "id": "91d9f0db",
   "metadata": {},
   "source": [
    "The extra prompting hint helped guide the AI to focus on the necessary details in its summarization process."
   ]
  },
  {
   "cell_type": "markdown",
   "id": "327046d1",
   "metadata": {},
   "source": [
    "This example demonstrates how Directional Stimulus Prompting can be used to guide the model towards the correct answer without explicitly providing the answer. It’s a useful technique for tasks where the model might need a little extra help to arrive at the correct prediction."
   ]
  }
 ],
 "metadata": {},
 "nbformat": 4,
 "nbformat_minor": 5
}
