{
 "cells": [
  {
   "cell_type": "markdown",
   "id": "7c7069d7",
   "metadata": {},
   "source": [
    "# NovelAI"
   ]
  },
  {
   "cell_type": "markdown",
   "id": "3cd2d505",
   "metadata": {},
   "source": [
    "Before we’ve learned the architecture of using Neural Networks for NLP, and lots of you might already having some taste on using ChatGPT for the decoder-only architecture and text generation. But what about we learn another somewhat advanced tools that hopefully can better help us to understand NLP?"
   ]
  },
  {
   "cell_type": "markdown",
   "id": "f1d0ee7a",
   "metadata": {},
   "source": [
    "Come NovelAI, it’s a seemingly simple yet powerful tools to generate AI text for usage such as writing novel, writing stories, for helping in brainstorming, and more."
   ]
  },
  {
   "cell_type": "markdown",
   "id": "f0290dec",
   "metadata": {},
   "source": [
    "Let’s start by seeing below GIF"
   ]
  },
  {
   "cell_type": "markdown",
   "id": "02693517",
   "metadata": {},
   "source": []
  },
  {
   "cell_type": "markdown",
   "id": "556cc948",
   "metadata": {},
   "source": [
    "![Image](https://ik.imagekit.io/ffr6l4jaf5t/REA%20AI/Video_2023-10-03_135213_eEovruuj1.gif?updatedAt=1696394168319)"
   ]
  },
  {
   "cell_type": "markdown",
   "id": "088d7302",
   "metadata": {},
   "source": [
    "One of the most fun way to use NovelAI is to use it like you’re reading a novel. You can just click send, then click send, and click send, and suddenly you’ll find yourself reading a lengthy novel 100% made by AI."
   ]
  },
  {
   "cell_type": "markdown",
   "id": "382d116e",
   "metadata": {},
   "source": [
    "Want to change the genre? Use the memory section and add:"
   ]
  },
  {
   "cell_type": "code",
   "execution_count": null,
   "id": "8c4a79f0",
   "metadata": {},
   "outputs": [],
   "source": [
    "[Genre: fantasy]\n",
    "[Genre: horror]\n",
    "[Genre: sci-fi]\n",
    "[Genre: romance]"
   ]
  },
  {
   "cell_type": "markdown",
   "id": "c28e97de",
   "metadata": {},
   "source": [
    "Want to make sure that they’re using your name as the character?"
   ]
  },
  {
   "cell_type": "code",
   "execution_count": null,
   "id": "a5917c9d",
   "metadata": {},
   "outputs": [],
   "source": [
    "Agung is a data scientist in Ruangguru"
   ]
  },
  {
   "cell_type": "markdown",
   "id": "ec75abc9",
   "metadata": {},
   "source": [
    "Want the story to be on a place that you’ve known? Or maybe something historical?"
   ]
  },
  {
   "cell_type": "code",
   "execution_count": null,
   "id": "f33740bc",
   "metadata": {},
   "outputs": [],
   "source": [
    "[Jakarta, 17 August 1945]"
   ]
  },
  {
   "cell_type": "markdown",
   "id": "c74b4448",
   "metadata": {},
   "source": []
  },
  {
   "cell_type": "markdown",
   "id": "0ce6f649",
   "metadata": {},
   "source": [
    "![Image](https://ik.imagekit.io/ffr6l4jaf5t/REA%20AI/image_sBloBXwDJ.png?updatedAt=1696394737540)"
   ]
  },
  {
   "cell_type": "markdown",
   "id": "258a6f7f",
   "metadata": {},
   "source": [
    "You can create a war genre, imagining that you’re fighting with several Indonesian heroes, or maybe you can create a romance genre, imagining that you’re marrying your waifu :p, or maybe you can create a detective genre, imagining that you’re solving a crime case with Sherlock Holmes."
   ]
  },
  {
   "cell_type": "markdown",
   "id": "d1ccc450",
   "metadata": {},
   "source": [
    "# Directing your story: Editor Token Probabilities, retry, and edit it yourself"
   ]
  },
  {
   "cell_type": "markdown",
   "id": "fcc2db58",
   "metadata": {},
   "source": []
  },
  {
   "cell_type": "markdown",
   "id": "826e795a",
   "metadata": {},
   "source": [
    "![Image](https://ik.imagekit.io/ffr6l4jaf5t/REA%20AI/image_K3mVQ6spX.png?updatedAt=1696394933633)"
   ]
  },
  {
   "cell_type": "markdown",
   "id": "3ce3031b",
   "metadata": {},
   "source": [
    "One of the most fun to use NovelAI to just let them cook the writing, it’s like witnessing a novelist writing a novel in front of you. But what if you want to have more control, or the story is not going as you want it to be, or the AI writing nonsense? One of the most simple go-to solution is to use the Editor Token Probabilities."
   ]
  },
  {
   "cell_type": "markdown",
   "id": "7d59a3ce",
   "metadata": {},
   "source": [
    "Just flick it and you can alter the story by hovering a word and change it with another word that the AI is suggesting."
   ]
  },
  {
   "cell_type": "markdown",
   "id": "294c152e",
   "metadata": {},
   "source": []
  },
  {
   "cell_type": "markdown",
   "id": "3478fd6a",
   "metadata": {},
   "source": [
    "![Image](https://ik.imagekit.io/ffr6l4jaf5t/REA%20AI/image(1)_ARpwlxLpL.png?updatedAt=1696395461531)"
   ]
  },
  {
   "cell_type": "markdown",
   "id": "e0363be9",
   "metadata": {},
   "source": []
  },
  {
   "cell_type": "markdown",
   "id": "b2ecb9d4",
   "metadata": {},
   "source": [
    "![Image](https://ik.imagekit.io/ffr6l4jaf5t/REA%20AI/image(3)_EYDCECdlw.png?updatedAt=1696395689775)"
   ]
  },
  {
   "cell_type": "markdown",
   "id": "028a9b94",
   "metadata": {},
   "source": [
    "By clicking one of the word, you will alter the future of that story to your liking, or of course you can just click retry if you’re completely not satisfied with the story."
   ]
  },
  {
   "cell_type": "markdown",
   "id": "26ecd666",
   "metadata": {},
   "source": []
  },
  {
   "cell_type": "markdown",
   "id": "c298c967",
   "metadata": {},
   "source": [
    "![Image](https://ik.imagekit.io/ffr6l4jaf5t/REA%20AI/image(2)_Seo5WuTts.png?updatedAt=1696395618893)"
   ]
  },
  {
   "cell_type": "markdown",
   "id": "599e7c38",
   "metadata": {},
   "source": [
    "Aaaanndd, you can just rewrite it completely, making really sure that the story is going as you want it to be."
   ]
  },
  {
   "cell_type": "markdown",
   "id": "1f2c6b1c",
   "metadata": {},
   "source": []
  },
  {
   "cell_type": "markdown",
   "id": "6e945290",
   "metadata": {},
   "source": [
    "![Image](https://ik.imagekit.io/ffr6l4jaf5t/REA%20AI/image_ikw2jQe4d.png?updatedAt=1696395890940)"
   ]
  },
  {
   "cell_type": "markdown",
   "id": "1d7e8919",
   "metadata": {},
   "source": []
  },
  {
   "cell_type": "markdown",
   "id": "b06a0d6a",
   "metadata": {},
   "source": [
    "![Image](https://ik.imagekit.io/ffr6l4jaf5t/REA%20AI/image(2)_sPa33V0hC.png?updatedAt=1696396019608)"
   ]
  },
  {
   "cell_type": "markdown",
   "id": "fa47b087",
   "metadata": {},
   "source": []
  },
  {
   "cell_type": "markdown",
   "id": "fdf92865",
   "metadata": {},
   "source": [
    "![Image](https://ik.imagekit.io/ffr6l4jaf5t/REA%20AI/image(1)_p49fb5SQj.png?updatedAt=1696395974998)"
   ]
  },
  {
   "cell_type": "markdown",
   "id": "5ad0c0ad",
   "metadata": {},
   "source": [
    "# Giving hints and lore: Instruct and lorebook"
   ]
  },
  {
   "cell_type": "markdown",
   "id": "bcc5444d",
   "metadata": {},
   "source": [
    "By entering in a new line open bracket character ({), you will enter an instruct mode. In here you can ask the AI to do anything, you can ask them to narrate, or even talking to them asking for suggestions for your story."
   ]
  },
  {
   "cell_type": "markdown",
   "id": "b5e99d1e",
   "metadata": {},
   "source": []
  },
  {
   "cell_type": "markdown",
   "id": "f4c11f37",
   "metadata": {},
   "source": [
    "![Image](https://ik.imagekit.io/ffr6l4jaf5t/REA%20AI/image(3)_Zf2gMkMiu.png?updatedAt=1696396288580)"
   ]
  },
  {
   "cell_type": "markdown",
   "id": "57aead9f",
   "metadata": {},
   "source": []
  },
  {
   "cell_type": "markdown",
   "id": "778c2fb1",
   "metadata": {},
   "source": [
    "![Image](https://ik.imagekit.io/ffr6l4jaf5t/REA%20AI/image_ai4XLWtDRw.png?updatedAt=1696396552719)"
   ]
  },
  {
   "cell_type": "markdown",
   "id": "7816c13a",
   "metadata": {},
   "source": [
    "So what if you already know that a certain character should be included, but you’re too lazy to brainstorm the detail? Use lorebook!"
   ]
  },
  {
   "cell_type": "markdown",
   "id": "4779b4ad",
   "metadata": {},
   "source": [
    "   "
   ]
  },
  {
   "cell_type": "markdown",
   "id": "ffbfb920",
   "metadata": {},
   "source": [
    "![Image](https://ik.imagekit.io/ffr6l4jaf5t/REA%20AI/image_SiKx2HNff.png?updatedAt=1696396832278)"
   ]
  },
  {
   "cell_type": "markdown",
   "id": "96a36972",
   "metadata": {},
   "source": [
    "![Image](https://ik.imagekit.io/ffr6l4jaf5t/REA%20AI/image(1)_5R9U3XeZX.png?updatedAt=1696396832301)"
   ]
  },
  {
   "cell_type": "markdown",
   "id": "126b45a7",
   "metadata": {},
   "source": [
    "![Image](https://ik.imagekit.io/ffr6l4jaf5t/REA%20AI/image(3)_uXRDCHQLh.png?updatedAt=1696396832269)"
   ]
  },
  {
   "cell_type": "markdown",
   "id": "2edc3a64",
   "metadata": {},
   "source": [
    "![Image](https://ik.imagekit.io/ffr6l4jaf5t/REA%20AI/image(4)_t-GPUiT9r.png?updatedAt=1696396832419)"
   ]
  },
  {
   "cell_type": "markdown",
   "id": "3e58cff4",
   "metadata": {},
   "source": [
    "Lorebook will help you to have a dictionary of characters, places, and items that you can use in your story. You can also use it to generate a random character, place, or item."
   ]
  },
  {
   "cell_type": "markdown",
   "id": "5e959bfc",
   "metadata": {},
   "source": [
    "By adding an entry, inputting the broad idea about what kind of character, place, or item that you want, and then selecting which context that you need the generator to understand (e.g. I need the generator to undertand that this character should be realistically be able to exist in the 19th century), you can click generate and retry after if necessary, to make the perfect entity."
   ]
  },
  {
   "cell_type": "markdown",
   "id": "a09540a5",
   "metadata": {},
   "source": [
    "After that you have to make sure to add Activation Keys that will activate the entity in your story by the AI model injecting that entity into your AI context."
   ]
  },
  {
   "cell_type": "markdown",
   "id": "c7993262",
   "metadata": {},
   "source": [
    "# The Model: Context and presets"
   ]
  },
  {
   "cell_type": "markdown",
   "id": "6f16284c",
   "metadata": {},
   "source": [
    "NovelAI is used by lots of story writers, even for professional usage. It mean that they need a high level of control over how the AI will generate the story. Another crucial need is to understand why the model react a certain way, one of the place to debug the AI behavior is to check the context."
   ]
  },
  {
   "cell_type": "markdown",
   "id": "16802ea3",
   "metadata": {},
   "source": [
    " "
   ]
  },
  {
   "cell_type": "markdown",
   "id": "3b9406c3",
   "metadata": {},
   "source": [
    "![Image](https://ik.imagekit.io/ffr6l4jaf5t/REA%20AI/image(6)_cNY2dkX5h.png?updatedAt=1696397551597)"
   ]
  },
  {
   "cell_type": "markdown",
   "id": "b0c8bdce",
   "metadata": {},
   "source": [
    "![Image](https://ik.imagekit.io/ffr6l4jaf5t/REA%20AI/image(5)_TAxqWrfRA.png?updatedAt=1696397551548)"
   ]
  },
  {
   "cell_type": "markdown",
   "id": "30f32112",
   "metadata": {},
   "source": [
    "You can see several context behind the story itself is added to what AI will generate: The memory and the lorebook. Understanding this will help you understand how the Novel AI’s model work:"
   ]
  },
  {
   "cell_type": "markdown",
   "id": "7e721d5b",
   "metadata": {},
   "source": [
    "It’s inputting the whole context as is, and it’s our duty for us to summarize the context into the limited token that you can input into the model. The total token that you can input is according to your payment plan, the maximum total token is 8192 tokens, which is $25 per month."
   ]
  },
  {
   "cell_type": "markdown",
   "id": "ba63e6a5",
   "metadata": {},
   "source": [
    "This behaviour is different when using ChatGPT that summarize the chat for us, and we can just input the chat as is. This is why NovelAI is directed more towards advanced users, and it’s also in some way more powerful than ChatGPT: We can debug the whole context, and making sure that every word generation will cater to our need."
   ]
  },
  {
   "cell_type": "markdown",
   "id": "5248501d",
   "metadata": {},
   "source": [
    "So we’ve seen how we can debug the model, now how to configure the model? We can use presets!"
   ]
  },
  {
   "cell_type": "markdown",
   "id": "46a3cfef",
   "metadata": {},
   "source": []
  },
  {
   "cell_type": "markdown",
   "id": "75312360",
   "metadata": {},
   "source": [
    "![Image](https://ik.imagekit.io/ffr6l4jaf5t/REA%20AI/image_jg8P3kaOx.png?updatedAt=1696398014580)"
   ]
  },
  {
   "cell_type": "markdown",
   "id": "97c3c6da",
   "metadata": {},
   "source": [
    "Most of the time, especially if you’re writing using NovelAI just for having fun, the existing presets will be enough for you. You can use other ways that we’ve already explored to alter the story."
   ]
  },
  {
   "cell_type": "markdown",
   "id": "ab18cabc",
   "metadata": {},
   "source": [
    "So this presets will help you to configure how “wild” the generation would be, how creative it is, and if you think that sometimes the model is too imaginative, you can tune it down by using presets such as “Fresh Coffee”."
   ]
  },
  {
   "cell_type": "markdown",
   "id": "2be3433a",
   "metadata": {},
   "source": [
    "This preset will change the configuration in the configuration menu"
   ]
  },
  {
   "cell_type": "markdown",
   "id": "f15546d1",
   "metadata": {},
   "source": []
  },
  {
   "cell_type": "markdown",
   "id": "7b2ba495",
   "metadata": {},
   "source": [
    "![Image](https://ik.imagekit.io/ffr6l4jaf5t/REA%20AI/image(1)_1YFuTLaMK.png?updatedAt=1696398202132)"
   ]
  },
  {
   "cell_type": "markdown",
   "id": "bef707aa",
   "metadata": {},
   "source": [
    "This configuration might be too much if we only want to try it for fun or maybe just want to dig deeper into another concept of NLP model, so using the presets would be sufficient."
   ]
  },
  {
   "cell_type": "markdown",
   "id": "33c829fc",
   "metadata": {},
   "source": [
    "# Additional info: Text Adventure and Tokenizer"
   ]
  },
  {
   "cell_type": "markdown",
   "id": "663d43a1",
   "metadata": {},
   "source": [
    "# Text adventure"
   ]
  },
  {
   "cell_type": "markdown",
   "id": "39e199c9",
   "metadata": {},
   "source": [
    "One of the way to have fun with NovelAI is to use Text Adventure. This is basically a “Choose your own adventure” game, where you can input an action, and the action will be inputted to your story by your given character (you must identify “who are you playing as in the story” in the memory section)."
   ]
  },
  {
   "cell_type": "markdown",
   "id": "1ee8eeef",
   "metadata": {},
   "source": []
  },
  {
   "cell_type": "markdown",
   "id": "2ff00ac0",
   "metadata": {},
   "source": [
    "![Image](https://ik.imagekit.io/ffr6l4jaf5t/REA%20AI/image(1)_RTn0TlLJ20.png?updatedAt=1696398538628)"
   ]
  },
  {
   "cell_type": "markdown",
   "id": "45026d24",
   "metadata": {},
   "source": [
    "In here, you can have fun! If it’s a murder case, you can try to solve who is the murders. You can pretend you’re locked up in some place and you have to find a way to escape, and more! You can go back-and-forth with the AI anytime it went south, but most of the time you can just “surrender” your story to the AI and let the AI cook your fate on whatever action you take, whatever talk you said 😀."
   ]
  },
  {
   "cell_type": "markdown",
   "id": "07005b2b",
   "metadata": {},
   "source": [
    "# Tokenizer"
   ]
  },
  {
   "cell_type": "markdown",
   "id": "eb3b6955",
   "metadata": {},
   "source": [
    " "
   ]
  },
  {
   "cell_type": "markdown",
   "id": "51438785",
   "metadata": {},
   "source": [
    "![Image](https://ik.imagekit.io/ffr6l4jaf5t/REA%20AI/image(2)_sXhkZyrAG.png?updatedAt=1696398538962)"
   ]
  },
  {
   "cell_type": "markdown",
   "id": "be5b45f5",
   "metadata": {},
   "source": [
    "![Image](https://ik.imagekit.io/ffr6l4jaf5t/REA%20AI/image(4)_KFTXxMkC3.png?updatedAt=1696399100128)"
   ]
  },
  {
   "cell_type": "markdown",
   "id": "9f9f96e7",
   "metadata": {},
   "source": [
    "Last but not least, as we’re using NovelAI to learn another concept of AI implementation, we can check the tokenizer and see several ways that NovelAI tokenize your words. Of course you can try also in the story itself using a non-English name such as Agung, and see how it split the words using Editor Token Probabilities."
   ]
  },
  {
   "cell_type": "markdown",
   "id": "0552678c",
   "metadata": {},
   "source": [
    "Anyway, have fun understanding more about AI text generation model using NovelAI!"
   ]
  }
 ],
 "metadata": {},
 "nbformat": 4,
 "nbformat_minor": 5
}
