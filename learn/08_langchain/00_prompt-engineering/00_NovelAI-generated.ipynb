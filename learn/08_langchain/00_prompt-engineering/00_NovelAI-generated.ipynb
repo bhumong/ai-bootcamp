{
 "cells": [
  {
   "cell_type": "markdown",
   "id": "3843be90",
   "metadata": {},
   "source": [
    "# NovelAI"
   ]
  },
  {
   "cell_type": "markdown",
   "id": "4191523e",
   "metadata": {},
   "source": [
    "Before we’ve learned the architecture of using Neural Networks for NLP, and lots of you might already having some taste on using ChatGPT for the decoder-only architecture and text generation. But what about we learn another somewhat advanced tools that hopefully can better help us to understand NLP?"
   ]
  },
  {
   "cell_type": "markdown",
   "id": "38a852cf",
   "metadata": {},
   "source": [
    "Come NovelAI, it’s a seemingly simple yet powerful tools to generate AI text for usage such as writing novel, writing stories, for helping in brainstorming, and more."
   ]
  },
  {
   "cell_type": "markdown",
   "id": "984ddf20",
   "metadata": {},
   "source": [
    "Let’s start by seeing below GIF"
   ]
  },
  {
   "cell_type": "markdown",
   "id": "c0625a30",
   "metadata": {},
   "source": []
  },
  {
   "cell_type": "markdown",
   "id": "829ebf34",
   "metadata": {},
   "source": [
    "One of the most fun way to use NovelAI is to use it like you’re reading a novel. You can just click send, then click send, and click send, and suddenly you’ll find yourself reading a lengthy novel 100% made by AI."
   ]
  },
  {
   "cell_type": "markdown",
   "id": "cd9f1d8f",
   "metadata": {},
   "source": [
    "Want to change the genre? Use the memory section and add:"
   ]
  },
  {
   "cell_type": "code",
   "execution_count": null,
   "id": "221f848a",
   "metadata": {},
   "outputs": [],
   "source": [
    "[Genre: fantasy]\n",
    "[Genre: horror]\n",
    "[Genre: sci-fi]\n",
    "[Genre: romance]"
   ]
  },
  {
   "cell_type": "markdown",
   "id": "0bd8e0a9",
   "metadata": {},
   "source": [
    "Want to make sure that they’re using your name as the character?"
   ]
  },
  {
   "cell_type": "code",
   "execution_count": null,
   "id": "084b21e0",
   "metadata": {},
   "outputs": [],
   "source": [
    "Agung is a data scientist in Ruangguru"
   ]
  },
  {
   "cell_type": "markdown",
   "id": "afc7c218",
   "metadata": {},
   "source": [
    "Want the story to be on a place that you’ve known? Or maybe something historical?"
   ]
  },
  {
   "cell_type": "code",
   "execution_count": null,
   "id": "f0d23086",
   "metadata": {},
   "outputs": [],
   "source": [
    "[Jakarta, 17 August 1945]"
   ]
  },
  {
   "cell_type": "markdown",
   "id": "9ed48ca0",
   "metadata": {},
   "source": []
  },
  {
   "cell_type": "markdown",
   "id": "caa6dbf3",
   "metadata": {},
   "source": [
    "You can create a war genre, imagining that you’re fighting with several Indonesian heroes, or maybe you can create a romance genre, imagining that you’re marrying your waifu :p, or maybe you can create a detective genre, imagining that you’re solving a crime case with Sherlock Holmes."
   ]
  },
  {
   "cell_type": "markdown",
   "id": "5b36a78e",
   "metadata": {},
   "source": [
    "# Directing your story: Editor Token Probabilities, retry, and edit it yourself"
   ]
  },
  {
   "cell_type": "markdown",
   "id": "635dfee8",
   "metadata": {},
   "source": []
  },
  {
   "cell_type": "markdown",
   "id": "55c0e336",
   "metadata": {},
   "source": [
    "One of the most fun to use NovelAI to just let them cook the writing, it’s like witnessing a novelist writing a novel in front of you. But what if you want to have more control, or the story is not going as you want it to be, or the AI writing nonsense? One of the most simple go-to solution is to use the Editor Token Probabilities."
   ]
  },
  {
   "cell_type": "markdown",
   "id": "7e339ef4",
   "metadata": {},
   "source": [
    "Just flick it and you can alter the story by hovering a word and change it with another word that the AI is suggesting."
   ]
  },
  {
   "cell_type": "markdown",
   "id": "25ca13c7",
   "metadata": {},
   "source": []
  },
  {
   "cell_type": "markdown",
   "id": "cfff7e55",
   "metadata": {},
   "source": []
  },
  {
   "cell_type": "markdown",
   "id": "29208b85",
   "metadata": {},
   "source": [
    "By clicking one of the word, you will alter the future of that story to your liking, or of course you can just click retry if you’re completely not satisfied with the story."
   ]
  },
  {
   "cell_type": "markdown",
   "id": "0ffeeb1a",
   "metadata": {},
   "source": []
  },
  {
   "cell_type": "markdown",
   "id": "b10c54f2",
   "metadata": {},
   "source": [
    "Aaaanndd, you can just rewrite it completely, making really sure that the story is going as you want it to be."
   ]
  },
  {
   "cell_type": "markdown",
   "id": "d08e9816",
   "metadata": {},
   "source": []
  },
  {
   "cell_type": "markdown",
   "id": "2f12a317",
   "metadata": {},
   "source": []
  },
  {
   "cell_type": "markdown",
   "id": "8ea5e7b5",
   "metadata": {},
   "source": []
  },
  {
   "cell_type": "markdown",
   "id": "a227ea39",
   "metadata": {},
   "source": [
    "# Giving hints and lore: Instruct and lorebook"
   ]
  },
  {
   "cell_type": "markdown",
   "id": "76672cf1",
   "metadata": {},
   "source": [
    "By entering in a new line open bracket character ({), you will enter an instruct mode. In here you can ask the AI to do anything, you can ask them to narrate, or even talking to them asking for suggestions for your story."
   ]
  },
  {
   "cell_type": "markdown",
   "id": "c6d7354d",
   "metadata": {},
   "source": []
  },
  {
   "cell_type": "markdown",
   "id": "90a9cb33",
   "metadata": {},
   "source": []
  },
  {
   "cell_type": "markdown",
   "id": "296d99d4",
   "metadata": {},
   "source": [
    "So what if you already know that a certain character should be included, but you’re too lazy to brainstorm the detail? Use lorebook!"
   ]
  },
  {
   "cell_type": "markdown",
   "id": "bb6782fa",
   "metadata": {},
   "source": [
    "   "
   ]
  },
  {
   "cell_type": "markdown",
   "id": "3587d293",
   "metadata": {},
   "source": [
    "Lorebook will help you to have a dictionary of characters, places, and items that you can use in your story. You can also use it to generate a random character, place, or item."
   ]
  },
  {
   "cell_type": "markdown",
   "id": "ca8ab3d6",
   "metadata": {},
   "source": [
    "By adding an entry, inputting the broad idea about what kind of character, place, or item that you want, and then selecting which context that you need the generator to understand (e.g. I need the generator to undertand that this character should be realistically be able to exist in the 19th century), you can click generate and retry after if necessary, to make the perfect entity."
   ]
  },
  {
   "cell_type": "markdown",
   "id": "e44c2cd7",
   "metadata": {},
   "source": [
    "After that you have to make sure to add Activation Keys that will activate the entity in your story by the AI model injecting that entity into your AI context."
   ]
  },
  {
   "cell_type": "markdown",
   "id": "7c45cdc2",
   "metadata": {},
   "source": [
    "# The Model: Context and presets"
   ]
  },
  {
   "cell_type": "markdown",
   "id": "cb00bf6e",
   "metadata": {},
   "source": [
    "NovelAI is used by lots of story writers, even for professional usage. It mean that they need a high level of control over how the AI will generate the story. Another crucial need is to understand why the model react a certain way, one of the place to debug the AI behavior is to check the context."
   ]
  },
  {
   "cell_type": "markdown",
   "id": "9d3b97b3",
   "metadata": {},
   "source": [
    " "
   ]
  },
  {
   "cell_type": "markdown",
   "id": "c020a5fb",
   "metadata": {},
   "source": [
    "You can see several context behind the story itself is added to what AI will generate: The memory and the lorebook. Understanding this will help you understand how the Novel AI’s model work:"
   ]
  },
  {
   "cell_type": "markdown",
   "id": "67fbedfa",
   "metadata": {},
   "source": [
    "It’s inputting the whole context as is, and it’s our duty for us to summarize the context into the limited token that you can input into the model. The total token that you can input is according to your payment plan, the maximum total token is 8192 tokens, which is $25 per month."
   ]
  },
  {
   "cell_type": "markdown",
   "id": "c8089923",
   "metadata": {},
   "source": [
    "This behaviour is different when using ChatGPT that summarize the chat for us, and we can just input the chat as is. This is why NovelAI is directed more towards advanced users, and it’s also in some way more powerful than ChatGPT: We can debug the whole context, and making sure that every word generation will cater to our need."
   ]
  },
  {
   "cell_type": "markdown",
   "id": "b13a1a2e",
   "metadata": {},
   "source": [
    "So we’ve seen how we can debug the model, now how to configure the model? We can use presets!"
   ]
  },
  {
   "cell_type": "markdown",
   "id": "60a88aa8",
   "metadata": {},
   "source": []
  },
  {
   "cell_type": "markdown",
   "id": "a8c1b8cd",
   "metadata": {},
   "source": [
    "Most of the time, especially if you’re writing using NovelAI just for having fun, the existing presets will be enough for you. You can use other ways that we’ve already explored to alter the story."
   ]
  },
  {
   "cell_type": "markdown",
   "id": "59c7a443",
   "metadata": {},
   "source": [
    "So this presets will help you to configure how “wild” the generation would be, how creative it is, and if you think that sometimes the model is too imaginative, you can tune it down by using presets such as “Fresh Coffee”."
   ]
  },
  {
   "cell_type": "markdown",
   "id": "6fb76515",
   "metadata": {},
   "source": [
    "This preset will change the configuration in the configuration menu"
   ]
  },
  {
   "cell_type": "markdown",
   "id": "9b112f2e",
   "metadata": {},
   "source": []
  },
  {
   "cell_type": "markdown",
   "id": "8aca1718",
   "metadata": {},
   "source": [
    "This configuration might be too much if we only want to try it for fun or maybe just want to dig deeper into another concept of NLP model, so using the presets would be sufficient."
   ]
  },
  {
   "cell_type": "markdown",
   "id": "1e6b315f",
   "metadata": {},
   "source": [
    "# Additional info: Text Adventure and Tokenizer"
   ]
  },
  {
   "cell_type": "markdown",
   "id": "ef99de93",
   "metadata": {},
   "source": [
    "# Text adventure"
   ]
  },
  {
   "cell_type": "markdown",
   "id": "93a10683",
   "metadata": {},
   "source": [
    "One of the way to have fun with NovelAI is to use Text Adventure. This is basically a “Choose your own adventure” game, where you can input an action, and the action will be inputted to your story by your given character (you must identify “who are you playing as in the story” in the memory section)."
   ]
  },
  {
   "cell_type": "markdown",
   "id": "ef97314a",
   "metadata": {},
   "source": []
  },
  {
   "cell_type": "markdown",
   "id": "8ac99451",
   "metadata": {},
   "source": [
    "In here, you can have fun! If it’s a murder case, you can try to solve who is the murders. You can pretend you’re locked up in some place and you have to find a way to escape, and more! You can go back-and-forth with the AI anytime it went south, but most of the time you can just “surrender” your story to the AI and let the AI cook your fate on whatever action you take, whatever talk you said 😀."
   ]
  },
  {
   "cell_type": "markdown",
   "id": "80345d5f",
   "metadata": {},
   "source": [
    "# Tokenizer"
   ]
  },
  {
   "cell_type": "markdown",
   "id": "3e0af152",
   "metadata": {},
   "source": [
    " "
   ]
  },
  {
   "cell_type": "markdown",
   "id": "c5142752",
   "metadata": {},
   "source": [
    "Last but not least, as we’re using NovelAI to learn another concept of AI implementation, we can check the tokenizer and see several ways that NovelAI tokenize your words. Of course you can try also in the story itself using a non-English name such as Agung, and see how it split the words using Editor Token Probabilities."
   ]
  },
  {
   "cell_type": "markdown",
   "id": "84cf6976",
   "metadata": {},
   "source": [
    "Anyway, have fun understanding more about AI text generation model using NovelAI!"
   ]
  }
 ],
 "metadata": {},
 "nbformat": 4,
 "nbformat_minor": 5
}
