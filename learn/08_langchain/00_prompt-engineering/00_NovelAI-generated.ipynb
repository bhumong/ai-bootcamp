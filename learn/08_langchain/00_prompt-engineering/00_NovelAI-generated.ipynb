{
 "cells": [
  {
   "cell_type": "markdown",
   "id": "a68a8661",
   "metadata": {},
   "source": [
    "source: [link](https://ai-bootcamp.ruangguru.com/learn/08_langchain/00_prompt-engineering/00_NovelAI.html)"
   ]
  },
  {
   "cell_type": "markdown",
   "id": "c04608ab",
   "metadata": {},
   "source": [
    "# NovelAI"
   ]
  },
  {
   "cell_type": "markdown",
   "id": "9644a11f",
   "metadata": {},
   "source": [
    "Before we’ve learned the architecture of using Neural Networks for NLP, and lots of you might already having some taste on using ChatGPT for the decoder-only architecture and text generation. But what about we learn another somewhat advanced tools that hopefully can better help us to understand NLP?"
   ]
  },
  {
   "cell_type": "markdown",
   "id": "de380da6",
   "metadata": {},
   "source": [
    "Come NovelAI, it’s a seemingly simple yet powerful tools to generate AI text for usage such as writing novel, writing stories, for helping in brainstorming, and more."
   ]
  },
  {
   "cell_type": "markdown",
   "id": "3788aa2c",
   "metadata": {},
   "source": [
    "Let’s start by seeing below GIF"
   ]
  },
  {
   "cell_type": "markdown",
   "id": "f0ed1bd1",
   "metadata": {},
   "source": []
  },
  {
   "cell_type": "markdown",
   "id": "2967ae89",
   "metadata": {},
   "source": [
    "![Image](https://ik.imagekit.io/ffr6l4jaf5t/REA%20AI/Video_2023-10-03_135213_eEovruuj1.gif?updatedAt=1696394168319)"
   ]
  },
  {
   "cell_type": "markdown",
   "id": "135d5ea6",
   "metadata": {},
   "source": [
    "One of the most fun way to use NovelAI is to use it like you’re reading a novel. You can just click send, then click send, and click send, and suddenly you’ll find yourself reading a lengthy novel 100% made by AI."
   ]
  },
  {
   "cell_type": "markdown",
   "id": "8272b742",
   "metadata": {},
   "source": [
    "Want to change the genre? Use the memory section and add:"
   ]
  },
  {
   "cell_type": "code",
   "execution_count": null,
   "id": "90593033",
   "metadata": {},
   "outputs": [],
   "source": [
    "[Genre: fantasy]\n",
    "[Genre: horror]\n",
    "[Genre: sci-fi]\n",
    "[Genre: romance]"
   ]
  },
  {
   "cell_type": "markdown",
   "id": "873bdc7b",
   "metadata": {},
   "source": [
    "Want to make sure that they’re using your name as the character?"
   ]
  },
  {
   "cell_type": "code",
   "execution_count": null,
   "id": "36f36917",
   "metadata": {},
   "outputs": [],
   "source": [
    "Agung is a data scientist in Ruangguru"
   ]
  },
  {
   "cell_type": "markdown",
   "id": "ed25be7e",
   "metadata": {},
   "source": [
    "Want the story to be on a place that you’ve known? Or maybe something historical?"
   ]
  },
  {
   "cell_type": "code",
   "execution_count": null,
   "id": "01e8c284",
   "metadata": {},
   "outputs": [],
   "source": [
    "[Jakarta, 17 August 1945]"
   ]
  },
  {
   "cell_type": "markdown",
   "id": "7729351d",
   "metadata": {},
   "source": []
  },
  {
   "cell_type": "markdown",
   "id": "55af96b4",
   "metadata": {},
   "source": [
    "![Image](https://ik.imagekit.io/ffr6l4jaf5t/REA%20AI/image_sBloBXwDJ.png?updatedAt=1696394737540)"
   ]
  },
  {
   "cell_type": "markdown",
   "id": "e352de29",
   "metadata": {},
   "source": [
    "You can create a war genre, imagining that you’re fighting with several Indonesian heroes, or maybe you can create a romance genre, imagining that you’re marrying your waifu :p, or maybe you can create a detective genre, imagining that you’re solving a crime case with Sherlock Holmes."
   ]
  },
  {
   "cell_type": "markdown",
   "id": "8342f0dc",
   "metadata": {},
   "source": [
    "# Directing your story: Editor Token Probabilities, retry, and edit it yourself"
   ]
  },
  {
   "cell_type": "markdown",
   "id": "a608aa83",
   "metadata": {},
   "source": []
  },
  {
   "cell_type": "markdown",
   "id": "19efb20f",
   "metadata": {},
   "source": [
    "![Image](https://ik.imagekit.io/ffr6l4jaf5t/REA%20AI/image_K3mVQ6spX.png?updatedAt=1696394933633)"
   ]
  },
  {
   "cell_type": "markdown",
   "id": "774181f0",
   "metadata": {},
   "source": [
    "One of the most fun to use NovelAI to just let them cook the writing, it’s like witnessing a novelist writing a novel in front of you. But what if you want to have more control, or the story is not going as you want it to be, or the AI writing nonsense? One of the most simple go-to solution is to use the Editor Token Probabilities."
   ]
  },
  {
   "cell_type": "markdown",
   "id": "6fd241c2",
   "metadata": {},
   "source": [
    "Just flick it and you can alter the story by hovering a word and change it with another word that the AI is suggesting."
   ]
  },
  {
   "cell_type": "markdown",
   "id": "edcf3be4",
   "metadata": {},
   "source": []
  },
  {
   "cell_type": "markdown",
   "id": "83a5e5e6",
   "metadata": {},
   "source": [
    "![Image](https://ik.imagekit.io/ffr6l4jaf5t/REA%20AI/image(1)_ARpwlxLpL.png?updatedAt=1696395461531)"
   ]
  },
  {
   "cell_type": "markdown",
   "id": "1b1a143d",
   "metadata": {},
   "source": []
  },
  {
   "cell_type": "markdown",
   "id": "284fa48c",
   "metadata": {},
   "source": [
    "![Image](https://ik.imagekit.io/ffr6l4jaf5t/REA%20AI/image(3)_EYDCECdlw.png?updatedAt=1696395689775)"
   ]
  },
  {
   "cell_type": "markdown",
   "id": "8bb25857",
   "metadata": {},
   "source": [
    "By clicking one of the word, you will alter the future of that story to your liking, or of course you can just click retry if you’re completely not satisfied with the story."
   ]
  },
  {
   "cell_type": "markdown",
   "id": "013dd8ef",
   "metadata": {},
   "source": []
  },
  {
   "cell_type": "markdown",
   "id": "61c56cc9",
   "metadata": {},
   "source": [
    "![Image](https://ik.imagekit.io/ffr6l4jaf5t/REA%20AI/image(2)_Seo5WuTts.png?updatedAt=1696395618893)"
   ]
  },
  {
   "cell_type": "markdown",
   "id": "853ce182",
   "metadata": {},
   "source": [
    "Aaaanndd, you can just rewrite it completely, making really sure that the story is going as you want it to be."
   ]
  },
  {
   "cell_type": "markdown",
   "id": "87329cc7",
   "metadata": {},
   "source": []
  },
  {
   "cell_type": "markdown",
   "id": "9cacb9e1",
   "metadata": {},
   "source": [
    "![Image](https://ik.imagekit.io/ffr6l4jaf5t/REA%20AI/image_ikw2jQe4d.png?updatedAt=1696395890940)"
   ]
  },
  {
   "cell_type": "markdown",
   "id": "cbb3f03f",
   "metadata": {},
   "source": []
  },
  {
   "cell_type": "markdown",
   "id": "4a7641bb",
   "metadata": {},
   "source": [
    "![Image](https://ik.imagekit.io/ffr6l4jaf5t/REA%20AI/image(2)_sPa33V0hC.png?updatedAt=1696396019608)"
   ]
  },
  {
   "cell_type": "markdown",
   "id": "318b416e",
   "metadata": {},
   "source": []
  },
  {
   "cell_type": "markdown",
   "id": "74c637fb",
   "metadata": {},
   "source": [
    "![Image](https://ik.imagekit.io/ffr6l4jaf5t/REA%20AI/image(1)_p49fb5SQj.png?updatedAt=1696395974998)"
   ]
  },
  {
   "cell_type": "markdown",
   "id": "0beedc0b",
   "metadata": {},
   "source": [
    "# Giving hints and lore: Instruct and lorebook"
   ]
  },
  {
   "cell_type": "markdown",
   "id": "a1750cf3",
   "metadata": {},
   "source": [
    "By entering in a new line open bracket character ({), you will enter an instruct mode. In here you can ask the AI to do anything, you can ask them to narrate, or even talking to them asking for suggestions for your story."
   ]
  },
  {
   "cell_type": "markdown",
   "id": "f904903d",
   "metadata": {},
   "source": []
  },
  {
   "cell_type": "markdown",
   "id": "ec5e63b2",
   "metadata": {},
   "source": [
    "![Image](https://ik.imagekit.io/ffr6l4jaf5t/REA%20AI/image(3)_Zf2gMkMiu.png?updatedAt=1696396288580)"
   ]
  },
  {
   "cell_type": "markdown",
   "id": "efa7a75f",
   "metadata": {},
   "source": []
  },
  {
   "cell_type": "markdown",
   "id": "3f189a22",
   "metadata": {},
   "source": [
    "![Image](https://ik.imagekit.io/ffr6l4jaf5t/REA%20AI/image_ai4XLWtDRw.png?updatedAt=1696396552719)"
   ]
  },
  {
   "cell_type": "markdown",
   "id": "3464d7ed",
   "metadata": {},
   "source": [
    "So what if you already know that a certain character should be included, but you’re too lazy to brainstorm the detail? Use lorebook!"
   ]
  },
  {
   "cell_type": "markdown",
   "id": "4a833eff",
   "metadata": {},
   "source": [
    "   "
   ]
  },
  {
   "cell_type": "markdown",
   "id": "ed606938",
   "metadata": {},
   "source": [
    "![Image](https://ik.imagekit.io/ffr6l4jaf5t/REA%20AI/image_SiKx2HNff.png?updatedAt=1696396832278)"
   ]
  },
  {
   "cell_type": "markdown",
   "id": "e12a39c3",
   "metadata": {},
   "source": [
    "![Image](https://ik.imagekit.io/ffr6l4jaf5t/REA%20AI/image(1)_5R9U3XeZX.png?updatedAt=1696396832301)"
   ]
  },
  {
   "cell_type": "markdown",
   "id": "13b6af35",
   "metadata": {},
   "source": [
    "![Image](https://ik.imagekit.io/ffr6l4jaf5t/REA%20AI/image(3)_uXRDCHQLh.png?updatedAt=1696396832269)"
   ]
  },
  {
   "cell_type": "markdown",
   "id": "9d71d096",
   "metadata": {},
   "source": [
    "![Image](https://ik.imagekit.io/ffr6l4jaf5t/REA%20AI/image(4)_t-GPUiT9r.png?updatedAt=1696396832419)"
   ]
  },
  {
   "cell_type": "markdown",
   "id": "1fd6b210",
   "metadata": {},
   "source": [
    "Lorebook will help you to have a dictionary of characters, places, and items that you can use in your story. You can also use it to generate a random character, place, or item."
   ]
  },
  {
   "cell_type": "markdown",
   "id": "c3907f93",
   "metadata": {},
   "source": [
    "By adding an entry, inputting the broad idea about what kind of character, place, or item that you want, and then selecting which context that you need the generator to understand (e.g. I need the generator to undertand that this character should be realistically be able to exist in the 19th century), you can click generate and retry after if necessary, to make the perfect entity."
   ]
  },
  {
   "cell_type": "markdown",
   "id": "72744a07",
   "metadata": {},
   "source": [
    "After that you have to make sure to add Activation Keys that will activate the entity in your story by the AI model injecting that entity into your AI context."
   ]
  },
  {
   "cell_type": "markdown",
   "id": "8655c2af",
   "metadata": {},
   "source": [
    "# The Model: Context and presets"
   ]
  },
  {
   "cell_type": "markdown",
   "id": "8027178b",
   "metadata": {},
   "source": [
    "NovelAI is used by lots of story writers, even for professional usage. It mean that they need a high level of control over how the AI will generate the story. Another crucial need is to understand why the model react a certain way, one of the place to debug the AI behavior is to check the context."
   ]
  },
  {
   "cell_type": "markdown",
   "id": "10378fc3",
   "metadata": {},
   "source": [
    " "
   ]
  },
  {
   "cell_type": "markdown",
   "id": "e9ddc113",
   "metadata": {},
   "source": [
    "![Image](https://ik.imagekit.io/ffr6l4jaf5t/REA%20AI/image(6)_cNY2dkX5h.png?updatedAt=1696397551597)"
   ]
  },
  {
   "cell_type": "markdown",
   "id": "479360d2",
   "metadata": {},
   "source": [
    "![Image](https://ik.imagekit.io/ffr6l4jaf5t/REA%20AI/image(5)_TAxqWrfRA.png?updatedAt=1696397551548)"
   ]
  },
  {
   "cell_type": "markdown",
   "id": "a3d3f271",
   "metadata": {},
   "source": [
    "You can see several context behind the story itself is added to what AI will generate: The memory and the lorebook. Understanding this will help you understand how the Novel AI’s model work:"
   ]
  },
  {
   "cell_type": "markdown",
   "id": "51dd2203",
   "metadata": {},
   "source": [
    "It’s inputting the whole context as is, and it’s our duty for us to summarize the context into the limited token that you can input into the model. The total token that you can input is according to your payment plan, the maximum total token is 8192 tokens, which is $25 per month."
   ]
  },
  {
   "cell_type": "markdown",
   "id": "79003a0a",
   "metadata": {},
   "source": [
    "This behaviour is different when using ChatGPT that summarize the chat for us, and we can just input the chat as is. This is why NovelAI is directed more towards advanced users, and it’s also in some way more powerful than ChatGPT: We can debug the whole context, and making sure that every word generation will cater to our need."
   ]
  },
  {
   "cell_type": "markdown",
   "id": "3b4886de",
   "metadata": {},
   "source": [
    "So we’ve seen how we can debug the model, now how to configure the model? We can use presets!"
   ]
  },
  {
   "cell_type": "markdown",
   "id": "b9999172",
   "metadata": {},
   "source": []
  },
  {
   "cell_type": "markdown",
   "id": "16055c31",
   "metadata": {},
   "source": [
    "![Image](https://ik.imagekit.io/ffr6l4jaf5t/REA%20AI/image_jg8P3kaOx.png?updatedAt=1696398014580)"
   ]
  },
  {
   "cell_type": "markdown",
   "id": "68ad2441",
   "metadata": {},
   "source": [
    "Most of the time, especially if you’re writing using NovelAI just for having fun, the existing presets will be enough for you. You can use other ways that we’ve already explored to alter the story."
   ]
  },
  {
   "cell_type": "markdown",
   "id": "456d7d1f",
   "metadata": {},
   "source": [
    "So this presets will help you to configure how “wild” the generation would be, how creative it is, and if you think that sometimes the model is too imaginative, you can tune it down by using presets such as “Fresh Coffee”."
   ]
  },
  {
   "cell_type": "markdown",
   "id": "f249b8f2",
   "metadata": {},
   "source": [
    "This preset will change the configuration in the configuration menu"
   ]
  },
  {
   "cell_type": "markdown",
   "id": "9bfabd38",
   "metadata": {},
   "source": []
  },
  {
   "cell_type": "markdown",
   "id": "ce387d86",
   "metadata": {},
   "source": [
    "![Image](https://ik.imagekit.io/ffr6l4jaf5t/REA%20AI/image(1)_1YFuTLaMK.png?updatedAt=1696398202132)"
   ]
  },
  {
   "cell_type": "markdown",
   "id": "a1e9dd30",
   "metadata": {},
   "source": [
    "This configuration might be too much if we only want to try it for fun or maybe just want to dig deeper into another concept of NLP model, so using the presets would be sufficient."
   ]
  },
  {
   "cell_type": "markdown",
   "id": "5a3c0dd5",
   "metadata": {},
   "source": [
    "# Additional info: Text Adventure and Tokenizer"
   ]
  },
  {
   "cell_type": "markdown",
   "id": "8faea9ca",
   "metadata": {},
   "source": [
    "# Text adventure"
   ]
  },
  {
   "cell_type": "markdown",
   "id": "dc17973f",
   "metadata": {},
   "source": [
    "One of the way to have fun with NovelAI is to use Text Adventure. This is basically a “Choose your own adventure” game, where you can input an action, and the action will be inputted to your story by your given character (you must identify “who are you playing as in the story” in the memory section)."
   ]
  },
  {
   "cell_type": "markdown",
   "id": "1582d5d4",
   "metadata": {},
   "source": []
  },
  {
   "cell_type": "markdown",
   "id": "a9df4160",
   "metadata": {},
   "source": [
    "![Image](https://ik.imagekit.io/ffr6l4jaf5t/REA%20AI/image(1)_RTn0TlLJ20.png?updatedAt=1696398538628)"
   ]
  },
  {
   "cell_type": "markdown",
   "id": "27b299a8",
   "metadata": {},
   "source": [
    "In here, you can have fun! If it’s a murder case, you can try to solve who is the murders. You can pretend you’re locked up in some place and you have to find a way to escape, and more! You can go back-and-forth with the AI anytime it went south, but most of the time you can just “surrender” your story to the AI and let the AI cook your fate on whatever action you take, whatever talk you said 😀."
   ]
  },
  {
   "cell_type": "markdown",
   "id": "5cdf9ba9",
   "metadata": {},
   "source": [
    "# Tokenizer"
   ]
  },
  {
   "cell_type": "markdown",
   "id": "62932913",
   "metadata": {},
   "source": [
    " "
   ]
  },
  {
   "cell_type": "markdown",
   "id": "33502822",
   "metadata": {},
   "source": [
    "![Image](https://ik.imagekit.io/ffr6l4jaf5t/REA%20AI/image(2)_sXhkZyrAG.png?updatedAt=1696398538962)"
   ]
  },
  {
   "cell_type": "markdown",
   "id": "7af0dd8b",
   "metadata": {},
   "source": [
    "![Image](https://ik.imagekit.io/ffr6l4jaf5t/REA%20AI/image(4)_KFTXxMkC3.png?updatedAt=1696399100128)"
   ]
  },
  {
   "cell_type": "markdown",
   "id": "0b056903",
   "metadata": {},
   "source": [
    "Last but not least, as we’re using NovelAI to learn another concept of AI implementation, we can check the tokenizer and see several ways that NovelAI tokenize your words. Of course you can try also in the story itself using a non-English name such as Agung, and see how it split the words using Editor Token Probabilities."
   ]
  },
  {
   "cell_type": "markdown",
   "id": "91edacc9",
   "metadata": {},
   "source": [
    "Anyway, have fun understanding more about AI text generation model using NovelAI!"
   ]
  }
 ],
 "metadata": {},
 "nbformat": 4,
 "nbformat_minor": 5
}
