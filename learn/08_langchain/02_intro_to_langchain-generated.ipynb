{
 "cells": [
  {
   "cell_type": "markdown",
   "id": "74e9bc8e",
   "metadata": {},
   "source": []
  },
  {
   "cell_type": "markdown",
   "id": "472c26c7",
   "metadata": {},
   "source": [
    "![Image](https://miro.medium.com/v2/resize:fit:500/1*-PlFCd_VBcALKReO3ZaOEg.png)"
   ]
  },
  {
   "cell_type": "markdown",
   "id": "7ae9997a",
   "metadata": {},
   "source": [
    "# LangChain: A Python Library for Building NLP Applications"
   ]
  },
  {
   "cell_type": "markdown",
   "id": "c083d42b",
   "metadata": {},
   "source": [
    "I’m sure we all know ChatGPT right ? It’s a revolutionary chatbot that seems to know just about everything. If you haven’t, then I suggest you signup for the free version over at https://chat.openai.com/"
   ]
  },
  {
   "cell_type": "markdown",
   "id": "488ddca9",
   "metadata": {},
   "source": [
    "There is one problem with ChatGPT, while it knows a lot of general knowledge, if we ask it about school rules or company rules, it will fail, ChatGPT will still try to answer it to its best knowledge, but still too general. Don’t believe me ? Try it out yourself."
   ]
  },
  {
   "cell_type": "markdown",
   "id": "e092a0ec",
   "metadata": {},
   "source": [
    "Here is an example of what I get when I ask about Universitas Indonesia rules: "
   ]
  },
  {
   "cell_type": "markdown",
   "id": "b156154a",
   "metadata": {},
   "source": [
    "How would we add that rules to ChatGPT ? Transfer-Learning ? Fine-Tuning ? Well, ChatGPT is not open source, so we don’t have access to the model. And yes there is open source GPT-2, but that’s kind of an old model, isn’t it ? After all ChatGPT is very popular after version 3."
   ]
  },
  {
   "cell_type": "markdown",
   "id": "80e54547",
   "metadata": {},
   "source": [
    "There is one simple thing that we can do, and it can do more than just adding school or company rules. It’s called LangChain. It’s a set of tools, all in one package, that makes it easier to build AI based applications, e.g. a chatbot. You just need to know how to use the tools in LangChain to create your chatbot."
   ]
  },
  {
   "cell_type": "markdown",
   "id": "5e452b51",
   "metadata": {},
   "source": [
    "# Key Concepts: Chains and Agents"
   ]
  },
  {
   "cell_type": "markdown",
   "id": "3e6bd616",
   "metadata": {},
   "source": [
    "To better understand Lang Chain, we have to first learn about two key concepts: chains and agents."
   ]
  },
  {
   "cell_type": "markdown",
   "id": "cdf0695c",
   "metadata": {},
   "source": [
    "These concepts enable the creation of complex applications capable of performing tasks like web searching, database access, and leveraging the reasoning capabilities of large language models for autonomous tasks."
   ]
  },
  {
   "cell_type": "markdown",
   "id": "4aeeb2c5",
   "metadata": {},
   "source": [
    "# Chains"
   ]
  },
  {
   "cell_type": "markdown",
   "id": "f41fd06b",
   "metadata": {},
   "source": [
    " Source: XoMEoX, CC BY 2.0, via Wikimedia Commons"
   ]
  },
  {
   "cell_type": "markdown",
   "id": "fc20b91e",
   "metadata": {},
   "source": [
    "![Image](https://upload.wikimedia.org/wikipedia/commons/1/12/Chains_%2815836373122%29.jpg)"
   ]
  },
  {
   "cell_type": "markdown",
   "id": "f84e1642",
   "metadata": {},
   "source": [
    "Let’s think of chains as a series of “tasks” linked together and it’s designed to achieve a specific goal by performing a series of operations."
   ]
  },
  {
   "cell_type": "markdown",
   "id": "9201dd36",
   "metadata": {},
   "source": [
    "A task is specific to doing only one thing and it can be anything from querying a database, accessing an API, or processing data. The output of one task in the chain can serve as the input for the next, enabling the development of sophisticated AI applications by facilitating complex, multi-step operations."
   ]
  },
  {
   "cell_type": "markdown",
   "id": "8a4b1e29",
   "metadata": {},
   "source": [
    "How do chains relates to ChatGPT ? Who is processing the input into and output from the chain ?"
   ]
  },
  {
   "cell_type": "markdown",
   "id": "63202bca",
   "metadata": {},
   "source": [
    "Well, input is processed by AI model, usually an LLM (Large Language Model), a term used to identify AI text-model, such as ChatGPT. For simplicity, let’s just say the input is processed by ChatGPT which produces the output. Naturally it will be in the form of text."
   ]
  },
  {
   "cell_type": "markdown",
   "id": "c881a12e",
   "metadata": {},
   "source": [
    "Taking the example above on Universitas Indonesia rules, the set of chains can be the first chain will access/read a PDF file containing the rules, the next chain can be search the PDF for rules, the next chain compile the rules and the last chain present the rules in bullet points format."
   ]
  },
  {
   "cell_type": "markdown",
   "id": "a86daf4f",
   "metadata": {},
   "source": [
    "Can you think of another set of chain that can be used to solve the same thing (find and preset University of Indonesia rules) ?"
   ]
  },
  {
   "cell_type": "markdown",
   "id": "91779df6",
   "metadata": {},
   "source": [
    "# Agents"
   ]
  },
  {
   "cell_type": "markdown",
   "id": "f208f90f",
   "metadata": {},
   "source": []
  },
  {
   "cell_type": "markdown",
   "id": "d514b46d",
   "metadata": {},
   "source": [
    "![Image](https://storage.googleapis.com/rg-ai-bootcamp/langchain/langchain-agent.png)"
   ]
  },
  {
   "cell_type": "markdown",
   "id": "197a7997",
   "metadata": {},
   "source": [
    "Source: Medium"
   ]
  },
  {
   "cell_type": "markdown",
   "id": "5c9fa9cc",
   "metadata": {},
   "source": [
    "Let’s use an analogy for agent in LangChain, it’s much easier to understand. Think of an agent as a person. Let’s use a bank cashier as an example. A bank cashier can accept deposit from a customer, count the money, input the deposit amount along with customer data into the banking system and provide receipt to the customer. Now, if counterfeit money is found, then the cashier can reject the deposit."
   ]
  },
  {
   "cell_type": "markdown",
   "id": "3db0438e",
   "metadata": {},
   "source": [
    "Thus, an agent is an autonomous entities capable of performing tasks and making decisions. It can interact with it’s environment, process information, and execute actions. The actions of agents are based on predefined rules or learned behavior, allowing them to adapt to different situations."
   ]
  },
  {
   "cell_type": "markdown",
   "id": "a043a7de",
   "metadata": {},
   "source": [
    "Let’s call this bank cashier as cashier agent. Now we want this cashier agent to also handle customer complaints. Can this agent do that ? Yes it can, but, and I must emphasize “but” here, it will be doing two things that are unrelated, making it overly complicated. In this case we usually create a new agent to handle the customer complaints. So there can be multiple agents at work in the same system."
   ]
  },
  {
   "cell_type": "markdown",
   "id": "2b55c8ff",
   "metadata": {},
   "source": [
    "It’s not complicated you say ? Hmm… customer complaints are regularly updated because there can be new rules introduced by the bank that makes the old answer no longer valid or there are new kind of customer complaints due to a new product being introduced. I think it’s better to split the agent."
   ]
  },
  {
   "cell_type": "markdown",
   "id": "d563ef70",
   "metadata": {},
   "source": [
    "Thus it’s important to think of agents in the context of the goal for the agent and tasks performed by the agent."
   ]
  },
  {
   "cell_type": "markdown",
   "id": "3b7dead6",
   "metadata": {},
   "source": [
    "As we can see, agents can range from simple, performing a single task, to complex, capable of managing multiple tasks and making decisions based on context. And agents also play a crucial role in creating sophisticated AI applications with Lang Chain, enabling autonomous and intelligent operations."
   ]
  },
  {
   "cell_type": "markdown",
   "id": "84549464",
   "metadata": {},
   "source": [
    "# Connecting Large Language Models to External Sources"
   ]
  },
  {
   "cell_type": "markdown",
   "id": "b58a8e05",
   "metadata": {},
   "source": [
    "One of the limitations of an AI model is the knowledge is limited only to what it was trained on. With Langchain, we can connect the model to external sources. This ability is what makes LangChain powerful, we can connect the AI model or large language models to a variety of external sources. The actual interaction is quite complex, for now we’ll let LangChain takes care of that and we’ll focus on using LangChain to enhance an LLM capability."
   ]
  },
  {
   "cell_type": "markdown",
   "id": "b4d8d103",
   "metadata": {},
   "source": [
    "These sources includes: * Search Engine APIs * Application APIs, e.g. Notion * Mathematical functions with Wolfram * LinkedIn * Twitter * and more."
   ]
  },
  {
   "cell_type": "markdown",
   "id": "2d52b057",
   "metadata": {},
   "source": []
  },
  {
   "cell_type": "markdown",
   "id": "ec159c3b",
   "metadata": {},
   "source": [
    "![Image](https://storage.googleapis.com/rg-ai-bootcamp/langchain/Screenshot_1.png)"
   ]
  },
  {
   "cell_type": "markdown",
   "id": "3ad3d462",
   "metadata": {},
   "source": [
    "# Lang Chain’s “Superpowers”"
   ]
  },
  {
   "cell_type": "markdown",
   "id": "991575cb",
   "metadata": {},
   "source": [
    "LangChain is growing in popularity, starting with the introduction of ChatGPT back in November 2022 and with the arrival of GPT-4 in March 2023, the number of integrations supported by LangChain is exploded, making it a robust and versatile framework for AI application development."
   ]
  },
  {
   "cell_type": "markdown",
   "id": "7dda764c",
   "metadata": {},
   "source": []
  },
  {
   "cell_type": "markdown",
   "id": "899b6d7f",
   "metadata": {},
   "source": [
    "![Image](https://storage.googleapis.com/rg-ai-bootcamp/langchain/star-history-2023710.png)"
   ]
  },
  {
   "cell_type": "markdown",
   "id": "ab6dc725",
   "metadata": {},
   "source": [
    "Source: Streamlit"
   ]
  }
 ],
 "metadata": {},
 "nbformat": 4,
 "nbformat_minor": 5
}
