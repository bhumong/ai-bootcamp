{
 "cells": [
  {
   "cell_type": "markdown",
   "id": "b4208b21",
   "metadata": {},
   "source": [
    "source: [link](https://ai-bootcamp.ruangguru.com/learn/08_langchain/02_intro_to_langchain.html)"
   ]
  },
  {
   "cell_type": "markdown",
   "id": "04e72b47",
   "metadata": {},
   "source": []
  },
  {
   "cell_type": "markdown",
   "id": "66e9071c",
   "metadata": {},
   "source": [
    "![Image](https://miro.medium.com/v2/resize:fit:500/1*-PlFCd_VBcALKReO3ZaOEg.png)"
   ]
  },
  {
   "cell_type": "markdown",
   "id": "a0973a85",
   "metadata": {},
   "source": [
    "# LangChain: A Python Library for Building NLP Applications"
   ]
  },
  {
   "cell_type": "markdown",
   "id": "98c13006",
   "metadata": {},
   "source": [
    "I’m sure we all know ChatGPT right ? It’s a revolutionary chatbot that seems to know just about everything. If you haven’t, then I suggest you signup for the free version over at https://chat.openai.com/"
   ]
  },
  {
   "cell_type": "markdown",
   "id": "ec161d50",
   "metadata": {},
   "source": [
    "There is one problem with ChatGPT, while it knows a lot of general knowledge, if we ask it about school rules or company rules, it will fail, ChatGPT will still try to answer it to its best knowledge, but still too general. Don’t believe me ? Try it out yourself."
   ]
  },
  {
   "cell_type": "markdown",
   "id": "3c4e26ee",
   "metadata": {},
   "source": [
    "Here is an example of what I get when I ask about Universitas Indonesia rules: "
   ]
  },
  {
   "cell_type": "markdown",
   "id": "7fa867f0",
   "metadata": {},
   "source": [
    "How would we add that rules to ChatGPT ? Transfer-Learning ? Fine-Tuning ? Well, ChatGPT is not open source, so we don’t have access to the model. And yes there is open source GPT-2, but that’s kind of an old model, isn’t it ? After all ChatGPT is very popular after version 3."
   ]
  },
  {
   "cell_type": "markdown",
   "id": "70629d15",
   "metadata": {},
   "source": [
    "There is one simple thing that we can do, and it can do more than just adding school or company rules. It’s called LangChain. It’s a set of tools, all in one package, that makes it easier to build AI based applications, e.g. a chatbot. You just need to know how to use the tools in LangChain to create your chatbot."
   ]
  },
  {
   "cell_type": "markdown",
   "id": "80a334b5",
   "metadata": {},
   "source": [
    "# Key Concepts: Chains and Agents"
   ]
  },
  {
   "cell_type": "markdown",
   "id": "acf461cb",
   "metadata": {},
   "source": [
    "To better understand Lang Chain, we have to first learn about two key concepts: chains and agents."
   ]
  },
  {
   "cell_type": "markdown",
   "id": "c8659dd9",
   "metadata": {},
   "source": [
    "These concepts enable the creation of complex applications capable of performing tasks like web searching, database access, and leveraging the reasoning capabilities of large language models for autonomous tasks."
   ]
  },
  {
   "cell_type": "markdown",
   "id": "076dd344",
   "metadata": {},
   "source": [
    "# Chains"
   ]
  },
  {
   "cell_type": "markdown",
   "id": "aa827a19",
   "metadata": {},
   "source": [
    " Source: XoMEoX, CC BY 2.0, via Wikimedia Commons"
   ]
  },
  {
   "cell_type": "markdown",
   "id": "5bf4f62a",
   "metadata": {},
   "source": [
    "![Image](https://upload.wikimedia.org/wikipedia/commons/1/12/Chains_%2815836373122%29.jpg)"
   ]
  },
  {
   "cell_type": "markdown",
   "id": "65cd04e1",
   "metadata": {},
   "source": [
    "Let’s think of chains as a series of “tasks” linked together and it’s designed to achieve a specific goal by performing a series of operations."
   ]
  },
  {
   "cell_type": "markdown",
   "id": "888c99cb",
   "metadata": {},
   "source": [
    "A task is specific to doing only one thing and it can be anything from querying a database, accessing an API, or processing data. The output of one task in the chain can serve as the input for the next, enabling the development of sophisticated AI applications by facilitating complex, multi-step operations."
   ]
  },
  {
   "cell_type": "markdown",
   "id": "9c162c10",
   "metadata": {},
   "source": [
    "How do chains relates to ChatGPT ? Who is processing the input into and output from the chain ?"
   ]
  },
  {
   "cell_type": "markdown",
   "id": "81d2b3a2",
   "metadata": {},
   "source": [
    "Well, input is processed by AI model, usually an LLM (Large Language Model), a term used to identify AI text-model, such as ChatGPT. For simplicity, let’s just say the input is processed by ChatGPT which produces the output. Naturally it will be in the form of text."
   ]
  },
  {
   "cell_type": "markdown",
   "id": "8bcc9b67",
   "metadata": {},
   "source": [
    "Taking the example above on Universitas Indonesia rules, the set of chains can be the first chain will access/read a PDF file containing the rules, the next chain can be search the PDF for rules, the next chain compile the rules and the last chain present the rules in bullet points format."
   ]
  },
  {
   "cell_type": "markdown",
   "id": "cab911da",
   "metadata": {},
   "source": [
    "Can you think of another set of chain that can be used to solve the same thing (find and preset University of Indonesia rules) ?"
   ]
  },
  {
   "cell_type": "markdown",
   "id": "8ffe3b9d",
   "metadata": {},
   "source": [
    "# Agents"
   ]
  },
  {
   "cell_type": "markdown",
   "id": "d0688078",
   "metadata": {},
   "source": []
  },
  {
   "cell_type": "markdown",
   "id": "857d7258",
   "metadata": {},
   "source": [
    "![Image](https://storage.googleapis.com/rg-ai-bootcamp/langchain/langchain-agent.png)"
   ]
  },
  {
   "cell_type": "markdown",
   "id": "d4b5b1f3",
   "metadata": {},
   "source": [
    "Source: Medium"
   ]
  },
  {
   "cell_type": "markdown",
   "id": "8847591d",
   "metadata": {},
   "source": [
    "Let’s use an analogy for agent in LangChain, it’s much easier to understand. Think of an agent as a person. Let’s use a bank cashier as an example. A bank cashier can accept deposit from a customer, count the money, input the deposit amount along with customer data into the banking system and provide receipt to the customer. Now, if counterfeit money is found, then the cashier can reject the deposit."
   ]
  },
  {
   "cell_type": "markdown",
   "id": "f69c5110",
   "metadata": {},
   "source": [
    "Thus, an agent is an autonomous entities capable of performing tasks and making decisions. It can interact with it’s environment, process information, and execute actions. The actions of agents are based on predefined rules or learned behavior, allowing them to adapt to different situations."
   ]
  },
  {
   "cell_type": "markdown",
   "id": "7d4ed05b",
   "metadata": {},
   "source": [
    "Let’s call this bank cashier as cashier agent. Now we want this cashier agent to also handle customer complaints. Can this agent do that ? Yes it can, but, and I must emphasize “but” here, it will be doing two things that are unrelated, making it overly complicated. In this case we usually create a new agent to handle the customer complaints. So there can be multiple agents at work in the same system."
   ]
  },
  {
   "cell_type": "markdown",
   "id": "8f0297e0",
   "metadata": {},
   "source": [
    "It’s not complicated you say ? Hmm… customer complaints are regularly updated because there can be new rules introduced by the bank that makes the old answer no longer valid or there are new kind of customer complaints due to a new product being introduced. I think it’s better to split the agent."
   ]
  },
  {
   "cell_type": "markdown",
   "id": "926563d6",
   "metadata": {},
   "source": [
    "Thus it’s important to think of agents in the context of the goal for the agent and tasks performed by the agent."
   ]
  },
  {
   "cell_type": "markdown",
   "id": "4156364e",
   "metadata": {},
   "source": [
    "As we can see, agents can range from simple, performing a single task, to complex, capable of managing multiple tasks and making decisions based on context. And agents also play a crucial role in creating sophisticated AI applications with Lang Chain, enabling autonomous and intelligent operations."
   ]
  },
  {
   "cell_type": "markdown",
   "id": "6de16315",
   "metadata": {},
   "source": [
    "# Connecting Large Language Models to External Sources"
   ]
  },
  {
   "cell_type": "markdown",
   "id": "f1da64f9",
   "metadata": {},
   "source": [
    "One of the limitations of an AI model is the knowledge is limited only to what it was trained on. With Langchain, we can connect the model to external sources. This ability is what makes LangChain powerful, we can connect the AI model or large language models to a variety of external sources. The actual interaction is quite complex, for now we’ll let LangChain takes care of that and we’ll focus on using LangChain to enhance an LLM capability."
   ]
  },
  {
   "cell_type": "markdown",
   "id": "2a20bee3",
   "metadata": {},
   "source": [
    "These sources includes: * Search Engine APIs * Application APIs, e.g. Notion * Mathematical functions with Wolfram * LinkedIn * Twitter * and more."
   ]
  },
  {
   "cell_type": "markdown",
   "id": "5dce5c6a",
   "metadata": {},
   "source": []
  },
  {
   "cell_type": "markdown",
   "id": "3eb6317e",
   "metadata": {},
   "source": [
    "![Image](https://storage.googleapis.com/rg-ai-bootcamp/langchain/Screenshot_1.png)"
   ]
  },
  {
   "cell_type": "markdown",
   "id": "057cd187",
   "metadata": {},
   "source": [
    "# Lang Chain’s “Superpowers”"
   ]
  },
  {
   "cell_type": "markdown",
   "id": "381d9c99",
   "metadata": {},
   "source": [
    "LangChain is growing in popularity, starting with the introduction of ChatGPT back in November 2022 and with the arrival of GPT-4 in March 2023, the number of integrations supported by LangChain is exploded, making it a robust and versatile framework for AI application development."
   ]
  },
  {
   "cell_type": "markdown",
   "id": "f46f84d1",
   "metadata": {},
   "source": []
  },
  {
   "cell_type": "markdown",
   "id": "49ddede9",
   "metadata": {},
   "source": [
    "![Image](https://storage.googleapis.com/rg-ai-bootcamp/langchain/star-history-2023710.png)"
   ]
  },
  {
   "cell_type": "markdown",
   "id": "e2fe188a",
   "metadata": {},
   "source": [
    "Source: Streamlit"
   ]
  }
 ],
 "metadata": {},
 "nbformat": 4,
 "nbformat_minor": 5
}
