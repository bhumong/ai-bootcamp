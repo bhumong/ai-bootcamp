{
 "cells": [
  {
   "cell_type": "markdown",
   "id": "3421e4dd",
   "metadata": {},
   "source": [
    "source: [link](https://ai-bootcamp.ruangguru.com/learn/08_langchain/06-memory-exercise-answer-key.html)"
   ]
  },
  {
   "cell_type": "markdown",
   "id": "8f3dcea9",
   "metadata": {},
   "source": [
    "# Memory Exercise Answer Key"
   ]
  },
  {
   "cell_type": "markdown",
   "id": "154fc624",
   "metadata": {},
   "source": [
    "Note: This is only one of the possible answer in using Memory for Langchain."
   ]
  },
  {
   "cell_type": "code",
   "execution_count": null,
   "id": "358df368",
   "metadata": {},
   "outputs": [],
   "source": [
    "import os\n",
    "from langchain.chat_models import ChatOpenAI\n",
    "from dotenv import load_dotenv, find_dotenv\n",
    "\n",
    "_ = load_dotenv(find_dotenv()) # read local .env file\n",
    "\n",
    "OpenAIModel = 'gpt-3.5-turbo'\n",
    "llm = ChatOpenAI(model=OpenAIModel, temperature=0.1)"
   ]
  },
  {
   "cell_type": "code",
   "execution_count": null,
   "id": "66fc5360",
   "metadata": {},
   "outputs": [],
   "source": [
    "from langchain.chains import ConversationChain\n",
    "from langchain.memory import ConversationBufferMemory\n",
    "\n",
    "memory = ConversationBufferMemory()\n",
    "\n",
    "conversationUsingBufferMemory = ConversationChain(\n",
    "    llm=llm,\n",
    "    memory = memory,\n",
    "    verbose=True\n",
    ")"
   ]
  },
  {
   "cell_type": "code",
   "execution_count": null,
   "id": "db4842f8",
   "metadata": {},
   "outputs": [],
   "source": [
    "userInput=\"If I have studied front-end engineering, what skills do I have?\" # @param {type:\"string\"}"
   ]
  },
  {
   "cell_type": "code",
   "execution_count": null,
   "id": "ff5f53ad",
   "metadata": {},
   "outputs": [],
   "source": [
    "conversationUsingBufferMemory.predict(input=userInput)"
   ]
  },
  {
   "cell_type": "code",
   "execution_count": null,
   "id": "fb28dff7",
   "metadata": {},
   "outputs": [],
   "source": [
    "\n",
    "\n",
    "> Entering new ConversationChain chain...\n",
    "Prompt after formatting:\n",
    "The following is a friendly conversation between a human and an AI. The AI is talkative and provides lots of specific details from its context. If the AI does not know the answer to a question, it truthfully says it does not know.\n",
    "\n",
    "Current conversation:\n",
    "Human: Hello, i'm Djarot Purnomo. I'm a UI/UX Designer\n",
    "AI: Hello Djarot Purnomo, nice to meet you! As a UI/UX Designer, you must have a keen eye for aesthetics and a deep understanding of user experience. How did you get into this field?\n",
    "Human: explain the relationship between a UI/UX Designer and a Front End Engineer\n",
    "AI: A UI/UX Designer and a Front End Engineer work closely together to create a seamless user experience on a website or application. The UI/UX Designer is responsible for designing the overall look and feel of the product, including the layout, colors, typography, and interactive elements. They focus on understanding the needs and preferences of the users and creating intuitive and visually appealing designs.\n",
    "\n",
    "On the other hand, the Front End Engineer is responsible for implementing the designs created by the UI/UX Designer. They take the visual elements and translate them into code using HTML, CSS, and JavaScript. They ensure that the design is responsive and functional across different devices and browsers. They also optimize the performance of the website or application and handle any technical challenges that may arise during the development process.\n",
    "\n",
    "In summary, the UI/UX Designer focuses on the user interface and user experience design, while the Front End Engineer focuses on the implementation and coding of those designs. They collaborate closely to ensure that the final product meets both the aesthetic and functional requirements.\n",
    "Human: If I have studied front-end engineering, what skills do I have?\n",
    "AI:\n",
    "\n",
    "> Finished chain."
   ]
  },
  {
   "cell_type": "code",
   "execution_count": null,
   "id": "42cd3c93",
   "metadata": {},
   "outputs": [],
   "source": [
    "'If you have studied front-end engineering, you would have gained skills in HTML, CSS, and JavaScript, which are the core technologies used in front-end development. You would have learned how to create the structure and layout of a website using HTML, style it using CSS to control the visual appearance, and add interactivity and functionality using JavaScript.\\n\\nAdditionally, you may have learned about responsive design, which involves making websites adapt to different screen sizes and devices. You may also have knowledge of front-end frameworks and libraries such as Bootstrap or React, which can help streamline the development process and provide pre-built components.\\n\\nOther skills you may have acquired include knowledge of web accessibility standards, understanding of browser compatibility issues, and familiarity with version control systems like Git. Overall, studying front-end engineering equips you with the skills needed to create visually appealing and interactive websites or applications.'"
   ]
  },
  {
   "cell_type": "code",
   "execution_count": null,
   "id": "0733ef30",
   "metadata": {},
   "outputs": [],
   "source": [
    "chatHistory=memory.buffer\n",
    "chatHistory"
   ]
  },
  {
   "cell_type": "code",
   "execution_count": null,
   "id": "43e71e4c",
   "metadata": {},
   "outputs": [],
   "source": [
    "\"Human: Hello, i'm Djarot Purnomo. I'm a UI/UX Designer\\nAI: Hello Djarot Purnomo, nice to meet you! As a UI/UX Designer, you must have a keen eye for aesthetics and a deep understanding of user experience. How did you get into this field?\\nHuman: explain the relationship between a UI/UX Designer and a Front End Engineer\\nAI: A UI/UX Designer and a Front End Engineer work closely together to create a seamless user experience on a website or application. The UI/UX Designer is responsible for designing the overall look and feel of the product, including the layout, colors, typography, and interactive elements. They focus on understanding the needs and preferences of the users and creating intuitive and visually appealing designs.\\n\\nOn the other hand, the Front End Engineer is responsible for implementing the designs created by the UI/UX Designer. They take the visual elements and translate them into code using HTML, CSS, and JavaScript. They ensure that the design is responsive and functional across different devices and browsers. They also optimize the performance of the website or application and handle any technical challenges that may arise during the development process.\\n\\nIn summary, the UI/UX Designer focuses on the user interface and user experience design, while the Front End Engineer focuses on the implementation and coding of those designs. They collaborate closely to ensure that the final product meets both the aesthetic and functional requirements.\""
   ]
  },
  {
   "cell_type": "markdown",
   "id": "5cea7312",
   "metadata": {},
   "source": [
    "# FIN"
   ]
  }
 ],
 "metadata": {},
 "nbformat": 4,
 "nbformat_minor": 5
}
