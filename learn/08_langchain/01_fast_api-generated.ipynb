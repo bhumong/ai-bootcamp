{
 "cells": [
  {
   "cell_type": "markdown",
   "id": "15c2838e",
   "metadata": {},
   "source": [
    "# API with FastAPI"
   ]
  },
  {
   "cell_type": "markdown",
   "id": "ec237062",
   "metadata": {},
   "source": [
    "Picture this - You’ve spent endless hours meticulously gathering data, performing feature engineering, tuning hyperparameters, and training a machine learning model. This model has surpassed your expectations, delivering excellent results and insightful predictions. You’re thrilled, filled with a sense of achievement, and now you’re eager to share this AI marvel with the world. But there’s a catch - how do you make this trained model accessible to others? How do you turn this static, local file into a dynamic and interactive service?"
   ]
  },
  {
   "cell_type": "markdown",
   "id": "cfa7ab16",
   "metadata": {},
   "source": [
    "This is where APIs (Application Programming Interfaces) and FastAPI come to the rescue!"
   ]
  },
  {
   "cell_type": "markdown",
   "id": "82c5adcb",
   "metadata": {},
   "source": [
    "# APIs: The Heroes of Connectivity"
   ]
  },
  {
   "cell_type": "markdown",
   "id": "e462c686",
   "metadata": {},
   "source": [
    "An API is essentially a set of rules that specify how different software applications should interact and communicate. APIs discreetly expose the functions of an application in a secure way, making them available for other applications to utilize. They are like diplomats, fostering relations and enabling seamless data transfer between different software systems."
   ]
  },
  {
   "cell_type": "markdown",
   "id": "a38712f2",
   "metadata": {},
   "source": []
  },
  {
   "cell_type": "markdown",
   "id": "f2f89dbb",
   "metadata": {},
   "source": [
    "API flow (sumber www.piworks.net)"
   ]
  },
  {
   "cell_type": "markdown",
   "id": "c19b977e",
   "metadata": {},
   "source": [
    "# FastAPI: The Speedy Python-to-Web Translator"
   ]
  },
  {
   "cell_type": "markdown",
   "id": "b891da64",
   "metadata": {},
   "source": [
    "Now, let’s talk about FastAPI. FastAPI is a modern, fast (high-performance), web framework for building APIs with Python 3.6+ based on standard Python type hints. This handy tool is your go-to solution for setting up a simple yet powerful API. It enables you to map Python functions to specific URLs, transforming these operations into network-accessible services."
   ]
  },
  {
   "cell_type": "markdown",
   "id": "4e92c64e",
   "metadata": {},
   "source": [
    "On Your Marks, Get Set, FastAPI!"
   ]
  },
  {
   "cell_type": "markdown",
   "id": "e174093f",
   "metadata": {},
   "source": [
    "Excited? Let’s dive right into crafting APIs with FastAPI! Before we set sail, ensure FastAPI is installed. You can do this using pip:"
   ]
  },
  {
   "cell_type": "code",
   "execution_count": null,
   "id": "c8e240a9",
   "metadata": {},
   "outputs": [],
   "source": [
    "%pip install fastapi uvicorn pyngrok"
   ]
  },
  {
   "cell_type": "markdown",
   "id": "9457f297",
   "metadata": {},
   "source": [
    "# Igniting the FastAPI"
   ]
  },
  {
   "cell_type": "markdown",
   "id": "d637c57d",
   "metadata": {},
   "source": [
    "Let’s kick-start our FastAPI adventure by initiating a basic application:"
   ]
  },
  {
   "cell_type": "code",
   "execution_count": null,
   "id": "5ac8d7e7",
   "metadata": {},
   "outputs": [],
   "source": [
    "%%writefile main.py\n",
    "\n",
    "from fastapi import FastAPI\n",
    "\n",
    "app = FastAPI()\n",
    "\n",
    "@app.get(\"/\")\n",
    "def read_root():\n",
    "    return {\"Welcome\": \"Welcome to our API!\"}"
   ]
  },
  {
   "cell_type": "code",
   "execution_count": null,
   "id": "fb378d2f",
   "metadata": {},
   "outputs": [],
   "source": [
    "Overwriting main.py"
   ]
  },
  {
   "cell_type": "markdown",
   "id": "309a36de",
   "metadata": {},
   "source": [
    "The cell above will create a main.py file (or overwrite it if it already exists) according to the code in that cell but using the magic command %%writefile main.py"
   ]
  },
  {
   "cell_type": "markdown",
   "id": "54bb08e0",
   "metadata": {},
   "source": [
    "Now we can run main.py using Uvicorn. What is Uvicorn? 🤔 This is a very fast ASGI server implementation, used to serve your FastAPI applications. ASGI, short for Asynchronous Server Gateway Interface, is a standard interface between web servers, frameworks, and async-enabled Python applications. Uvicorn serves as a bridge between your FastAPI applications and the outside world."
   ]
  },
  {
   "cell_type": "markdown",
   "id": "5dfb4924",
   "metadata": {},
   "source": [
    "Use the command below in your terminal to run the application"
   ]
  },
  {
   "cell_type": "code",
   "execution_count": null,
   "id": "45ef31ca",
   "metadata": {},
   "outputs": [],
   "source": [
    "uvicorn main:app --reload"
   ]
  },
  {
   "cell_type": "markdown",
   "id": "8d0419ff",
   "metadata": {},
   "source": [
    "Note: make sure the directory position of your terminal is the same as the main.py file"
   ]
  },
  {
   "cell_type": "markdown",
   "id": "0beba707",
   "metadata": {},
   "source": []
  },
  {
   "cell_type": "markdown",
   "id": "d066b0b7",
   "metadata": {},
   "source": [
    "Congratulations! You have just kindled the first sparks of your FastAPI application. With just a few lines of code, you’ve transformed a simple python function into a full-fledged API service."
   ]
  },
  {
   "cell_type": "markdown",
   "id": "d0396000",
   "metadata": {},
   "source": [
    "But how do we know if it’s working? 🤔 You can try with curl:"
   ]
  },
  {
   "cell_type": "markdown",
   "id": "7989a24b",
   "metadata": {},
   "source": []
  },
  {
   "cell_type": "markdown",
   "id": "5fc2238d",
   "metadata": {},
   "source": [
    "What if we want to run it in the Jupyter Notebook cell? 🤔 Let’s send a request to our new application and see what happens."
   ]
  },
  {
   "cell_type": "code",
   "execution_count": null,
   "id": "9aad34d7",
   "metadata": {},
   "outputs": [],
   "source": [
    "import uvicorn\n",
    "import nest_asyncio\n",
    "\n",
    "nest_asyncio.apply()\n",
    "\n",
    "# Start server synchronous\n",
    "uvicorn.run(app='main:app', host=\"0.0.0.0\", port=8000, reload=True, use_colors=True)"
   ]
  },
  {
   "cell_type": "markdown",
   "id": "be67aa54",
   "metadata": {},
   "source": [
    "We’ve started our FastAPI application, and are now waiting for incoming requests."
   ]
  },
  {
   "cell_type": "markdown",
   "id": "4606da8f",
   "metadata": {},
   "source": [
    "We can use curl again to try it out:"
   ]
  },
  {
   "cell_type": "markdown",
   "id": "047235a3",
   "metadata": {},
   "source": []
  },
  {
   "cell_type": "markdown",
   "id": "614fa15c",
   "metadata": {},
   "source": [
    "So far, so good. Our API is up, running and has successfully responded to our request. But let’s consider a scenario. What if you want to share your newly built API with your colleagues or deploy it for a demo. Running the API on localhost won’t be visible to others on the internet."
   ]
  },
  {
   "cell_type": "markdown",
   "id": "69ed4584",
   "metadata": {},
   "source": [
    "This is where Ngrok comes into play. Ngrok is a fantastic tool that creates a secure tunnel from a public endpoint to your localhost. But before we can utilize it, we need a token. Let’s see how we can get this token:"
   ]
  },
  {
   "cell_type": "markdown",
   "id": "03ac1a91",
   "metadata": {},
   "source": [
    "Let’s illustrate the final step with an image:"
   ]
  },
  {
   "cell_type": "markdown",
   "id": "f722002f",
   "metadata": {},
   "source": []
  },
  {
   "cell_type": "markdown",
   "id": "627376b9",
   "metadata": {},
   "source": [
    "Remember to keep your token secure, as anyone with access to it can create a tunnel to your localhost."
   ]
  },
  {
   "cell_type": "markdown",
   "id": "e110f7e4",
   "metadata": {},
   "source": [
    "Enter the token you have obtained"
   ]
  },
  {
   "cell_type": "code",
   "execution_count": null,
   "id": "c9c517f8",
   "metadata": {},
   "outputs": [],
   "source": [
    "your_ngrok_token = \"\" # @param {type:\"string\"} "
   ]
  },
  {
   "cell_type": "markdown",
   "id": "e183f9af",
   "metadata": {},
   "source": [
    "With the ngrok token in our hands, we are now ready to expose our local API to the world. Let’s set it up and give it a shot!"
   ]
  },
  {
   "cell_type": "markdown",
   "id": "fe5e2a75",
   "metadata": {},
   "source": [
    "Try api using pyngrok"
   ]
  },
  {
   "cell_type": "code",
   "execution_count": null,
   "id": "a4792db8",
   "metadata": {},
   "outputs": [],
   "source": [
    "from pyngrok import ngrok\n",
    "import uvicorn\n",
    "\n",
    "# Setup ngrok\n",
    "ngrok.set_auth_token(your_ngrok_token)\n",
    "\n",
    "public_url = ngrok.connect(addr=\"8000\", proto=\"http\", bind_tls=True)\n",
    "print(f\"Public URL: {public_url}\")\n",
    "\n",
    "# Start server\n",
    "uvicorn.run(app='main:app', host=\"0.0.0.0\", port=8000, reload=True, use_colors=True)"
   ]
  },
  {
   "cell_type": "markdown",
   "id": "f741cb88",
   "metadata": {},
   "source": [
    "Now we’re ready to share our API with the world! We’ve set up a secure tunnel using ngrok, and our API is now accessible from anywhere. You can easily share the public URL with others, and they can interact with your API in real-time."
   ]
  },
  {
   "cell_type": "markdown",
   "id": "8a6119e1",
   "metadata": {},
   "source": [
    "Access the api endpoint via ngrok (click Visit Site)"
   ]
  },
  {
   "cell_type": "markdown",
   "id": "5993ef2f",
   "metadata": {},
   "source": []
  },
  {
   "cell_type": "markdown",
   "id": "183796d8",
   "metadata": {},
   "source": [
    "Here’s a piece of advice! While ngrok is a fantastic tool, remember that the free version of ngrok includes certain limitations. It provides a random URL every time you start a new session, and the connections can occasionally be slow. For extensive use, consider opting for a paid plan."
   ]
  },
  {
   "cell_type": "markdown",
   "id": "64bc6ae1",
   "metadata": {},
   "source": [
    "Look at that! You’ve just given birth to your first API using FastAPI and made it accessible to the world through ngrok. This API now functions with a single endpoint at the root URL (‘/’) which offers a friendly welcome message. Isn’t it thrilling to witness your Python functions communicating with the world? This is just the beginning of your FastAPI journey. As you dive deeper, you’ll uncover its power to build more complex and powerful APIs. Happy exploring!"
   ]
  },
  {
   "cell_type": "markdown",
   "id": "5e052ecf",
   "metadata": {},
   "source": [
    "But before we wrap up, don’t forget to kill the server process when done!"
   ]
  },
  {
   "cell_type": "markdown",
   "id": "991419c7",
   "metadata": {},
   "source": [
    "To do so, you need to find the process ID (PID) and kill it - the method varies depending on the operating system."
   ]
  },
  {
   "cell_type": "markdown",
   "id": "47acb3ce",
   "metadata": {},
   "source": [
    "# API Endpoints & HTTP Methods: A Deeper Dive!"
   ]
  },
  {
   "cell_type": "markdown",
   "id": "589e1a2a",
   "metadata": {},
   "source": [
    "Imagine you’re building an online store. You need to provide your users with a way to view products, add items to their shopping cart, and make purchases. This is where FastAPI’s ability to create multiple API endpoints and utilize different HTTP methods comes into play."
   ]
  },
  {
   "cell_type": "code",
   "execution_count": null,
   "id": "68d9ef8a",
   "metadata": {},
   "outputs": [],
   "source": [
    "%%writefile main.py\n",
    "from fastapi import FastAPI\n",
    "app = FastAPI()\n",
    "\n",
    "@app.get(\"/products\")\n",
    "def get_products():\n",
    "    return {\"message\": \"Display all products\"}\n",
    "\n",
    "@app.post(\"/cart/{item_id}\")\n",
    "def add_to_cart(item_id: int):\n",
    "    return {\"message\": f\"Added item with id {item_id} to the cart\"}\n",
    "\n",
    "@app.delete(\"/cart/{item_id}\")\n",
    "def remove_from_cart(item_id: int):\n",
    "    return {\"message\": f\"Removed item with id {item_id} from the cart\"}"
   ]
  },
  {
   "cell_type": "code",
   "execution_count": null,
   "id": "a64a72af",
   "metadata": {},
   "outputs": [],
   "source": [
    "Overwriting main.py"
   ]
  },
  {
   "cell_type": "markdown",
   "id": "127657a9",
   "metadata": {},
   "source": [
    "Running localhost and ngrok:"
   ]
  },
  {
   "cell_type": "code",
   "execution_count": null,
   "id": "911c6608",
   "metadata": {},
   "outputs": [],
   "source": [
    "from pyngrok import ngrok\n",
    "import uvicorn\n",
    "\n",
    "# Setup ngrok\n",
    "ngrok.set_auth_token(your_ngrok_token)\n",
    "\n",
    "public_url = ngrok.connect(addr=\"8000\", proto=\"http\", bind_tls=True)\n",
    "print(f\"Public URL: {public_url}\")\n",
    "\n",
    "# Start server\n",
    "uvicorn.run(app='main:app', host=\"0.0.0.0\", port=8000, reload=True, use_colors=True)"
   ]
  },
  {
   "cell_type": "markdown",
   "id": "290a4318",
   "metadata": {},
   "source": [
    "Now to carry out tests, in Fast API there is an Interactive API docs feature where we can see detailed information about the API that we created and make test requests directly there."
   ]
  },
  {
   "cell_type": "markdown",
   "id": "62aac48d",
   "metadata": {},
   "source": [
    "Now go to http://127.0.0.1:8000/docs or https://{ngrok-url}/docs"
   ]
  },
  {
   "cell_type": "markdown",
   "id": "021803cd",
   "metadata": {},
   "source": [
    "You will see the automatic interactive API documentation (provided by Swagger UI):"
   ]
  },
  {
   "cell_type": "markdown",
   "id": "8c7dff1c",
   "metadata": {},
   "source": []
  },
  {
   "cell_type": "markdown",
   "id": "bac9c789",
   "metadata": {},
   "source": [
    "Or you can use other alternatives is http://127.0.0.1:8000/redoc or https://{ngrok-url}/redoc"
   ]
  },
  {
   "cell_type": "markdown",
   "id": "732d3e28",
   "metadata": {},
   "source": [
    "You will see the alternative automatic documentation (provided by ReDoc):"
   ]
  },
  {
   "cell_type": "markdown",
   "id": "df70468b",
   "metadata": {},
   "source": []
  },
  {
   "cell_type": "markdown",
   "id": "a1e919c9",
   "metadata": {},
   "source": [
    "OK now, we will revise the previous code and add in-memory data structures for products and cart to make it more interactive:"
   ]
  },
  {
   "cell_type": "code",
   "execution_count": null,
   "id": "e6cd28db",
   "metadata": {},
   "outputs": [],
   "source": [
    "%%writefile main.py\n",
    "from fastapi import FastAPI, HTTPException\n",
    "\n",
    "app = FastAPI()\n",
    "\n",
    "# Our product list - a dictionary where key is product id and value is product name\n",
    "products = {1: \"Sneakers\", 2: \"T-Shirt\", 3: \"Jeans\", 4: \"Sunglasses\", 5: \"Hat\"}\n",
    "\n",
    "# The shopping cart - a dictionary where key is product id and value is quantity\n",
    "cart = {}\n",
    "\n",
    "@app.get(\"/products\")\n",
    "def get_products():\n",
    "    return products\n",
    "\n",
    "@app.post(\"/cart/{product_id}\")\n",
    "def add_to_cart(product_id: int):\n",
    "    if product_id not in products:\n",
    "        raise HTTPException(status_code=404, detail=\"Product not found\")\n",
    "    if product_id in cart:\n",
    "        cart[product_id] += 1\n",
    "    else:\n",
    "        cart[product_id] = 1\n",
    "    return {\"message\": f\"Added {products[product_id]} to the cart\"}\n",
    "\n",
    "@app.delete(\"/cart/{product_id}\")\n",
    "def remove_from_cart(product_id: int):\n",
    "    if product_id not in cart:\n",
    "        raise HTTPException(status_code=404, detail=\"Product not in cart\")\n",
    "    cart[product_id] -= 1\n",
    "    if cart[product_id] == 0:\n",
    "        del cart[product_id]\n",
    "    return {\"message\": f\"Removed {products[product_id]} from the cart\"}\n",
    "\n",
    "@app.get(\"/cart\")\n",
    "def get_cart():\n",
    "    return {products[product_id]: quantity for product_id, quantity in cart.items()}"
   ]
  },
  {
   "cell_type": "markdown",
   "id": "8d44bb4c",
   "metadata": {},
   "source": [
    "Running localhost and ngrok:"
   ]
  },
  {
   "cell_type": "code",
   "execution_count": null,
   "id": "a35e602c",
   "metadata": {},
   "outputs": [],
   "source": [
    "from pyngrok import ngrok\n",
    "import uvicorn\n",
    "\n",
    "# Setup ngrok\n",
    "ngrok.set_auth_token(your_ngrok_token)\n",
    "\n",
    "public_url = ngrok.connect(addr=\"8000\", proto=\"http\", bind_tls=True)\n",
    "print(f\"Public URL: {public_url}\")\n",
    "\n",
    "# Start server\n",
    "uvicorn.run(app='main:app', host=\"0.0.0.0\", port=8000, reload=True, use_colors=True)"
   ]
  },
  {
   "cell_type": "markdown",
   "id": "66eeb914",
   "metadata": {},
   "source": [
    "Now, our API server can handle the following requests: - GET requests to /products to view all products. - POST requests to /cart/{product_id} to add products to the cart. - DELETE requests to /cart/{product_id} to remove products from the cart. - GET requests to /cart to view the cart contents."
   ]
  },
  {
   "cell_type": "markdown",
   "id": "4e2b782c",
   "metadata": {},
   "source": [
    "Go to http://127.0.0.1:8000/docs, https://{ngrok-url}/docs or http://127.0.0.1:8000/redoc or https://{ngrok-url}/redoc for interactive documentation your API"
   ]
  },
  {
   "cell_type": "markdown",
   "id": "6c519e39",
   "metadata": {},
   "source": [
    "# Working with JSON Responses and Requests"
   ]
  },
  {
   "cell_type": "markdown",
   "id": "3607349e",
   "metadata": {},
   "source": [
    "All the data exchanged between the client and server in our online store scenario happens in the form of JSON. FastAPI makes it ultra-easy to handle JSON data."
   ]
  },
  {
   "cell_type": "markdown",
   "id": "9e8c74a1",
   "metadata": {},
   "source": [
    "Let’s say, instead of adding one product at a time to the cart, we want to allow customers to add multiple products at once. They can send a list of product IDs as JSON data in a POST request, and FastAPI will automatically convert it to a Python list for us."
   ]
  },
  {
   "cell_type": "code",
   "execution_count": null,
   "id": "f777f7da",
   "metadata": {},
   "outputs": [],
   "source": [
    "%%writefile main.py\n",
    "from typing import List\n",
    "from fastapi import FastAPI, HTTPException\n",
    "\n",
    "app = FastAPI()\n",
    "\n",
    "# Our product list - a dictionary where key is product id and value is product name\n",
    "products = {1: \"Sneakers\", 2: \"T-Shirt\", 3: \"Jeans\", 4: \"Sunglasses\", 5: \"Hat\"}\n",
    "\n",
    "# The shopping cart - a dictionary where key is product id and value is quantity\n",
    "cart = {}\n",
    "\n",
    "@app.post(\"/cart/items\")\n",
    "async def add_items_to_cart(item_ids: List[int]):\n",
    "    not_found_ids = [item_id for item_id in item_ids if item_id not in products]\n",
    "    if not_found_ids:\n",
    "        raise HTTPException(status_code=404, detail=f\"Products with ids {not_found_ids} were not found.\")\n",
    "    \n",
    "    for item_id in item_ids:\n",
    "        if item_id in cart:\n",
    "            cart[item_id] += 1\n",
    "        else:\n",
    "            cart[item_id] = 1\n",
    "    response = {products[item_id]: quantity for item_id, quantity in cart.items()}\n",
    "    return response"
   ]
  },
  {
   "cell_type": "markdown",
   "id": "9072a90d",
   "metadata": {},
   "source": [
    "Running localhost and ngrok:"
   ]
  },
  {
   "cell_type": "code",
   "execution_count": null,
   "id": "036d0ea1",
   "metadata": {},
   "outputs": [],
   "source": [
    "from pyngrok import ngrok\n",
    "import uvicorn\n",
    "\n",
    "# Setup ngrok\n",
    "ngrok.set_auth_token(your_ngrok_token)\n",
    "\n",
    "public_url = ngrok.connect(addr=\"8000\", proto=\"http\", bind_tls=True)\n",
    "print(f\"Public URL: {public_url}\")\n",
    "\n",
    "# Start server\n",
    "uvicorn.run(app='main:app', host=\"0.0.0.0\", port=8000, reload=True, use_colors=True)"
   ]
  },
  {
   "cell_type": "markdown",
   "id": "16ce09d8",
   "metadata": {},
   "source": [
    "Customers can now perform the following actions: - Add multiple items to the cart in one go by: - Sending a POST request to /cart/items with a JSON array of product ids. - FastAPI will automatically parse the JSON data into a Python list. - Corresponding products will be added to the cart. - If a product is not found in our store: - The system will raise an HTTPException with a 404 status code."
   ]
  },
  {
   "cell_type": "markdown",
   "id": "ba6c66c7",
   "metadata": {},
   "source": [
    "Go to http://127.0.0.1:8000/docs, https://{ngrok-url}/docs or http://127.0.0.1:8000/redoc or https://{ngrok-url}/redoc for interactive documentation your API"
   ]
  },
  {
   "cell_type": "markdown",
   "id": "edf1ebeb",
   "metadata": {},
   "source": [
    "# Handling Errors Gracefully"
   ]
  },
  {
   "cell_type": "markdown",
   "id": "e3b26c5a",
   "metadata": {},
   "source": [
    "In an ideal world, users would always use our online store API perfectly. They’d only add products that exist, they wouldn’t attempt to remove products from an empty cart, and they certainly wouldn’t try to buy more products than we have in stock."
   ]
  },
  {
   "cell_type": "markdown",
   "id": "9270f309",
   "metadata": {},
   "source": [
    "But we don’t live in an ideal world."
   ]
  },
  {
   "cell_type": "markdown",
   "id": "30cdada1",
   "metadata": {},
   "source": [
    "Thankfully, FastAPI provides an easy way to handle errors and raise HTTP exceptions with meaningful error messages."
   ]
  },
  {
   "cell_type": "code",
   "execution_count": null,
   "id": "4343a9b2",
   "metadata": {},
   "outputs": [],
   "source": [
    "%%writefile main.py\n",
    "from typing import List\n",
    "from fastapi import FastAPI, HTTPException\n",
    "\n",
    "app = FastAPI()\n",
    "\n",
    "# Our product list - a dictionary where key is product id and value is product name\n",
    "products = {1: \"Sneakers\", 2: \"T-Shirt\", 3: \"Jeans\", 4: \"Sunglasses\", 5: \"Hat\"}\n",
    "\n",
    "# The shopping cart - a dictionary where key is product id and value is quantity\n",
    "cart = {}\n",
    "\n",
    "@app.get(\"/products/{product_id}\")\n",
    "async def get_product(product_id: int):\n",
    "    if product_id not in products:\n",
    "        raise HTTPException(status_code=404, detail=f\"No product found with id {product_id}.\")\n",
    "    return {product_id: products[product_id]}\n",
    "\n",
    "@app.post(\"/cart/items\")\n",
    "async def add_items_to_cart(item_ids: List[int]):\n",
    "    not_found_ids = [item_id for item_id in item_ids if item_id not in products]\n",
    "    if not_found_ids:\n",
    "        raise HTTPException(status_code=404, detail=f\"Products with ids {not_found_ids} were not found.\")\n",
    "    \n",
    "    for item_id in item_ids:\n",
    "        if item_id in cart:\n",
    "            cart[item_id] += 1\n",
    "        else:\n",
    "            cart[item_id] = 1\n",
    "    response = {products[item_id]: quantity for item_id, quantity in cart.items()}\n",
    "    return response\n",
    "\n",
    "@app.delete(\"/cart/{product_id}\")\n",
    "async def remove_from_cart(product_id: int):\n",
    "    if product_id not in cart:\n",
    "        raise HTTPException(status_code=404, detail=\"Product not in cart.\")\n",
    "    cart[product_id] -= 1\n",
    "    if cart[product_id] == 0:\n",
    "        del cart[product_id]\n",
    "    return {\"message\": f\"Removed {products[product_id]} from the cart\"}"
   ]
  },
  {
   "cell_type": "code",
   "execution_count": null,
   "id": "2489c677",
   "metadata": {},
   "outputs": [],
   "source": [
    "Overwriting main.py"
   ]
  },
  {
   "cell_type": "markdown",
   "id": "567955da",
   "metadata": {},
   "source": [
    "Running localhost and ngrok:"
   ]
  },
  {
   "cell_type": "code",
   "execution_count": null,
   "id": "acfbb940",
   "metadata": {},
   "outputs": [],
   "source": [
    "from pyngrok import ngrok\n",
    "import uvicorn\n",
    "\n",
    "# Setup ngrok\n",
    "ngrok.set_auth_token(your_ngrok_token)\n",
    "\n",
    "public_url = ngrok.connect(addr=\"8000\", proto=\"http\", bind_tls=True)\n",
    "print(f\"Public URL: {public_url}\")\n",
    "\n",
    "# Start server\n",
    "uvicorn.run(app='main:app', host=\"0.0.0.0\", port=8000, reload=True, use_colors=True)"
   ]
  },
  {
   "cell_type": "markdown",
   "id": "a20e793e",
   "metadata": {},
   "source": [
    "In this script, we’ve enhanced our API endpoints to handle common error cases such as: - If a user tries to view a product that doesn’t exist. - If a user tries to add a non-existent product to their cart. - If a user tries to remove a product from an empty cart."
   ]
  },
  {
   "cell_type": "markdown",
   "id": "a0162548",
   "metadata": {},
   "source": [
    "In these instances, FastAPI will: - Raise an HTTPException with a 404 status code. - Provide a descriptive error message."
   ]
  },
  {
   "cell_type": "markdown",
   "id": "a014b598",
   "metadata": {},
   "source": [
    "We have performed tests on these enhancements: - Made a GET request to the /products/{product_id} endpoint with a non-existent product id. - As expected, our API returned a 404 status code with an appropriate error message."
   ]
  },
  {
   "cell_type": "markdown",
   "id": "207039f1",
   "metadata": {},
   "source": [
    "Go to http://127.0.0.1:8000/docs, https://{ngrok-url}/docs or http://127.0.0.1:8000/redoc or https://{ngrok-url}/redoc for interactive documentation your API"
   ]
  },
  {
   "cell_type": "markdown",
   "id": "31aed32d",
   "metadata": {},
   "source": [
    "# Rendering HTML"
   ]
  },
  {
   "cell_type": "markdown",
   "id": "ed561f4f",
   "metadata": {},
   "source": [
    "FastAPI is not limited to exchange JSON data. It can also handle and render HTML. This is useful if, besides the API, you want to have an introductory web page for your online store. All we need to do is return a multiline string (enclosed in triple quotes) containing our HTML code."
   ]
  },
  {
   "cell_type": "code",
   "execution_count": null,
   "id": "668dce64",
   "metadata": {},
   "outputs": [],
   "source": [
    "%%writefile main.py\n",
    "from fastapi import FastAPI\n",
    "from starlette.responses import HTMLResponse\n",
    "\n",
    "app = FastAPI()\n",
    "\n",
    "@app.get(\"/home\", response_class=HTMLResponse)\n",
    "async def get_home():\n",
    "    return \"\"\"\n",
    "    <html>\n",
    "        <head>\n",
    "            <title> Welcome to Our Online Store </title>\n",
    "        </head>\n",
    "        <body>\n",
    "            <p> Welcome to our online store! Check out our products <a href=\"/products\">here</a>. </p>\n",
    "        </body>\n",
    "    </html>\n",
    "    \"\"\""
   ]
  },
  {
   "cell_type": "code",
   "execution_count": null,
   "id": "9fd2cf35",
   "metadata": {},
   "outputs": [],
   "source": [
    "Overwriting main.py"
   ]
  },
  {
   "cell_type": "markdown",
   "id": "e1304f35",
   "metadata": {},
   "source": [
    "Running localhost and ngrok:"
   ]
  },
  {
   "cell_type": "code",
   "execution_count": null,
   "id": "2dceecca",
   "metadata": {},
   "outputs": [],
   "source": [
    "from pyngrok import ngrok\n",
    "import uvicorn\n",
    "\n",
    "# Setup ngrok\n",
    "ngrok.set_auth_token(your_ngrok_token)\n",
    "\n",
    "public_url = ngrok.connect(addr=\"8000\", proto=\"http\", bind_tls=True)\n",
    "print(f\"Public URL: {public_url}\")\n",
    "\n",
    "# Start server\n",
    "uvicorn.run(app='main:app', host=\"0.0.0.0\", port=8000, reload=True, use_colors=True)"
   ]
  },
  {
   "cell_type": "markdown",
   "id": "f6048ae3",
   "metadata": {},
   "source": [
    "Now, when someone visits the “/home” endpoint of our API, FastAPI will respond with a simple HTML page. The response_class=HTMLResponse argument tells FastAPI to convert the returned string into HTML."
   ]
  },
  {
   "cell_type": "markdown",
   "id": "19d17b00",
   "metadata": {},
   "source": [
    "Let’s navigate to the home page."
   ]
  },
  {
   "cell_type": "markdown",
   "id": "5a57bb97",
   "metadata": {},
   "source": []
  },
  {
   "cell_type": "markdown",
   "id": "764765d7",
   "metadata": {},
   "source": [
    "As you can see, our API correctly returns an HTML response for the “/home” endpoint."
   ]
  },
  {
   "cell_type": "markdown",
   "id": "df5172a2",
   "metadata": {},
   "source": [
    "In this script, we’ve defined a new /home endpoint that returns an HTML response, effectively serving a simple web page. The response_class=HTMLResponse argument tells FastAPI to convert the returned string into HTML. We then make a GET request to this endpoint and print the HTML response."
   ]
  },
  {
   "cell_type": "markdown",
   "id": "ad276c6a",
   "metadata": {},
   "source": [
    "# Path Parameters and Query Parameters"
   ]
  },
  {
   "cell_type": "markdown",
   "id": "5f7fc9b7",
   "metadata": {},
   "source": [
    "Path parameters and query parameters are two ways to pass dynamic information to an API."
   ]
  },
  {
   "cell_type": "markdown",
   "id": "bd0dc27a",
   "metadata": {},
   "source": [
    "First, let’s start with path parameters. These allow us to pass information via the URL path. We have already used path parameters in our /cart/{product_id} endpoints. Let’s add one more endpoint which gives us the details of a specific product."
   ]
  },
  {
   "cell_type": "code",
   "execution_count": null,
   "id": "27180cbd",
   "metadata": {},
   "outputs": [],
   "source": [
    "%%writefile main.py\n",
    "from fastapi import FastAPI, HTTPException\n",
    "\n",
    "app = FastAPI()\n",
    "\n",
    "# Our product list - a dictionary where key is product id and value is product name\n",
    "products = {1: \"Sneakers\", 2: \"T-Shirt\", 3: \"Jeans\", 4: \"Sunglasses\", 5: \"Hat\"}\n",
    "\n",
    "@app.get(\"/product/{product_id}\")\n",
    "async def get_product_detail(product_id: int):\n",
    "    if product_id not in products:\n",
    "        raise HTTPException(status_code=404, detail=f\"No product found with id {product_id}.\")\n",
    "    return {product_id: products[product_id]}"
   ]
  },
  {
   "cell_type": "code",
   "execution_count": null,
   "id": "7aadf510",
   "metadata": {},
   "outputs": [],
   "source": [
    "Overwriting main.py"
   ]
  },
  {
   "cell_type": "markdown",
   "id": "558c6ffe",
   "metadata": {},
   "source": [
    "Run in terminal with command: uvicorn main:app --reload and now, a user can get the details of a single product by passing the product id in the URL, such as ‘/product/1’."
   ]
  },
  {
   "cell_type": "markdown",
   "id": "02f81e21",
   "metadata": {},
   "source": [
    "Let’s try to get the details of a product with id 1 using another terminal curl http://127.0.0.1:8000/product/1"
   ]
  },
  {
   "cell_type": "markdown",
   "id": "d355f58c",
   "metadata": {},
   "source": []
  },
  {
   "cell_type": "markdown",
   "id": "baf044a6",
   "metadata": {},
   "source": [
    "Great, it works!"
   ]
  },
  {
   "cell_type": "markdown",
   "id": "e1f0b3de",
   "metadata": {},
   "source": [
    "Now, let’s move on to query parameters. These offer another way to pass dynamic information to an API, but via the URL query string (the part of the URL after the ‘?’)."
   ]
  },
  {
   "cell_type": "markdown",
   "id": "de72e055",
   "metadata": {},
   "source": [
    "Let’s say we want to allow users to filter the products by part of their names. We can do that by introducing a query parameter:"
   ]
  },
  {
   "cell_type": "code",
   "execution_count": null,
   "id": "3f5264ee",
   "metadata": {},
   "outputs": [],
   "source": [
    "%%writefile main.py\n",
    "from fastapi import FastAPI\n",
    "from typing import Optional\n",
    "\n",
    "app = FastAPI()\n",
    "\n",
    "# Our product list - a dictionary where key is product id and value is product name\n",
    "products = {1: \"Sneakers\", 2: \"T-Shirt\", 3: \"Jeans\", 4: \"Sunglasses\", 5: \"Hat\"}\n",
    "\n",
    "@app.get(\"/search\")\n",
    "async def search_products(q: Optional[str] = None):\n",
    "    if q:\n",
    "        return {product_id: name for product_id, name in products.items() if q.lower() in name.lower()}\n",
    "    else:\n",
    "        return products"
   ]
  },
  {
   "cell_type": "code",
   "execution_count": null,
   "id": "e1aa1643",
   "metadata": {},
   "outputs": [],
   "source": [
    "Overwriting main.py"
   ]
  },
  {
   "cell_type": "markdown",
   "id": "d814fe02",
   "metadata": {},
   "source": [
    "Run in terminal with command: uvicorn main:app --reload and now, users can search for products by including a ‘q’ parameter in the URL, like ‘/search?q=Sneakers’."
   ]
  },
  {
   "cell_type": "markdown",
   "id": "6a0161ba",
   "metadata": {},
   "source": [
    "Let’s try to search product with q “Jeans” using another terminal curl http://127.0.0.1:8000/search?q=Jeans"
   ]
  },
  {
   "cell_type": "markdown",
   "id": "c431dc31",
   "metadata": {},
   "source": []
  },
  {
   "cell_type": "markdown",
   "id": "e30d6f08",
   "metadata": {},
   "source": [
    "As you can see, our API correctly returned the product that matches our search query."
   ]
  },
  {
   "cell_type": "markdown",
   "id": "a12ee504",
   "metadata": {},
   "source": [
    "In this code, we’ve made the following enhancements to our API: - Accepted dynamic path and query parameters. - Added a /product/{product_id} endpoint that: - Returns the details of a specific product based on the product id passed in the URL. - Added a /search endpoint that: - Allows users to filter the products based on a search query. - The search query is passed as a query parameter in the URL."
   ]
  },
  {
   "cell_type": "markdown",
   "id": "fbcf54e4",
   "metadata": {},
   "source": [
    "We then performed tests on these enhancements: - Made GET requests to these endpoints. - Printed the responses for verification."
   ]
  },
  {
   "cell_type": "markdown",
   "id": "3558fc84",
   "metadata": {},
   "source": [
    "# Project Example: Text Generation API Using Hugging Face’s Transformers"
   ]
  },
  {
   "cell_type": "markdown",
   "id": "9850571c",
   "metadata": {},
   "source": [
    "Imagine you’ve crafted an amazing GPT-2 model that can generate witty text, mimicking the style of famous authors. You’re quite thrilled with this digital author and now you want to share your AI-powered wordsmith with the world. How can you make this happen? You guessed it - let’s build an API with FastAPI!"
   ]
  },
  {
   "cell_type": "markdown",
   "id": "87fefd20",
   "metadata": {},
   "source": [
    "Before we embark on this journey, we need to ensure that we have all the necessary tools. We will install two indispensable libraries, Transformers and Torch, using pip:"
   ]
  },
  {
   "cell_type": "code",
   "execution_count": null,
   "id": "460c2f31",
   "metadata": {},
   "outputs": [],
   "source": [
    "%pip install transformers torch"
   ]
  },
  {
   "cell_type": "markdown",
   "id": "aeade4d0",
   "metadata": {},
   "source": [
    "# Setting Up the Text Generation Model"
   ]
  },
  {
   "cell_type": "markdown",
   "id": "bd7a61f2",
   "metadata": {},
   "source": [
    "Now, let’s prepare our AI author by setting up a pipeline for text generation with the GPT-2 model from Hugging Face’s Transformers library:"
   ]
  },
  {
   "cell_type": "code",
   "execution_count": null,
   "id": "42812b0d",
   "metadata": {},
   "outputs": [],
   "source": [
    "from transformers import pipeline\n",
    "\n",
    "generator = pipeline('text-generation', model='gpt2')"
   ]
  },
  {
   "cell_type": "markdown",
   "id": "ed2b25b1",
   "metadata": {},
   "source": [
    "With our generator in place, we’re ready to start creating masterpieces!"
   ]
  },
  {
   "cell_type": "markdown",
   "id": "251ab019",
   "metadata": {},
   "source": [
    "# Building the Text Generation API"
   ]
  },
  {
   "cell_type": "markdown",
   "id": "f06dc5e7",
   "metadata": {},
   "source": [
    "Now, we’re going to design an API that allows users to feed a string of text to our AI author, who will then generate a piece of text based on the input:"
   ]
  },
  {
   "cell_type": "code",
   "execution_count": null,
   "id": "57765191",
   "metadata": {},
   "outputs": [],
   "source": [
    "%%writefile main.py\n",
    "from fastapi import FastAPI\n",
    "from pydantic import BaseModel\n",
    "from transformers import pipeline\n",
    "\n",
    "generator = pipeline('text-generation', model='gpt2')\n",
    "\n",
    "class Item(BaseModel):\n",
    "    text: str\n",
    "\n",
    "app = FastAPI()\n",
    "\n",
    "@app.post(\"/api/generate\")\n",
    "def generate_text(item: Item):\n",
    "    # Generate text\n",
    "    outputs = generator(item.text, max_length=150, num_return_sequences=5, no_repeat_ngram_size=2)\n",
    "    generated_text = [output['generated_text'] for output in outputs]\n",
    "\n",
    "    return {\"message\": \"Text generated!\", \"generated_text\": generated_text}"
   ]
  },
  {
   "cell_type": "code",
   "execution_count": null,
   "id": "5645e18d",
   "metadata": {},
   "outputs": [],
   "source": [
    "Overwriting main.py"
   ]
  },
  {
   "cell_type": "markdown",
   "id": "fad82dee",
   "metadata": {},
   "source": [
    "Running localhost and ngrok:"
   ]
  },
  {
   "cell_type": "code",
   "execution_count": null,
   "id": "16edea6d",
   "metadata": {},
   "outputs": [],
   "source": [
    "from pyngrok import ngrok\n",
    "import uvicorn\n",
    "\n",
    "# Setup ngrok\n",
    "ngrok.set_auth_token(your_ngrok_token)\n",
    "\n",
    "public_url = ngrok.connect(addr=\"8000\", proto=\"http\", bind_tls=True)\n",
    "print(f\"Public URL: {public_url}\")\n",
    "\n",
    "# Start server\n",
    "uvicorn.run(app='main:app', host=\"0.0.0.0\", port=8000, reload=True, use_colors=True)"
   ]
  },
  {
   "cell_type": "markdown",
   "id": "86614a60",
   "metadata": {},
   "source": [
    "And there you have it! We’ve just created an endpoint ‘/api/generate’ that accepts POST requests. This endpoint expects a string of text as input in the form of JSON data. It takes this text, feeds it to our AI author, and in response, provides five unique continuations of the initial text."
   ]
  },
  {
   "cell_type": "markdown",
   "id": "ba7f9e7c",
   "metadata": {},
   "source": [
    "Go to http://127.0.0.1:8000/docs, https://{ngrok-url}/docs or http://127.0.0.1:8000/redoc or https://{ngrok-url}/redoc for interactive documentation your API"
   ]
  },
  {
   "cell_type": "markdown",
   "id": "72260540",
   "metadata": {},
   "source": [
    "With FastAPI and Hugging Face’s Transformers, you’ve just turned your local GPT-2 model into a globally accessible AI-powered author. This is the beauty of APIs in machine learning. This project is a foundation upon which you can build more complex APIs, integrating different models and tasks to suit your needs."
   ]
  },
  {
   "cell_type": "markdown",
   "id": "06af6a49",
   "metadata": {},
   "source": [
    "# Wrapping Up"
   ]
  },
  {
   "cell_type": "markdown",
   "id": "9c2887de",
   "metadata": {},
   "source": [
    "FastAPI provides an intuitive and flexible way to build robust APIs, and you’ve just scratched the surface by designing an API for text generation with a GPT-2 model. We walked through setting up endpoints, handling JSON data, routing, error handling, and making our API globally accessible with ngrok. We also took a deep dive into the dynamic world of path and query parameters."
   ]
  },
  {
   "cell_type": "markdown",
   "id": "02a44b4e",
   "metadata": {},
   "source": [
    "Equipped with these tools, you’re now set to construct comprehensive, powerful, and secure APIs. Keep practicing, keep exploring, and before you know it, you’ll be an accomplished FastAPI maestro!"
   ]
  }
 ],
 "metadata": {},
 "nbformat": 4,
 "nbformat_minor": 5
}
