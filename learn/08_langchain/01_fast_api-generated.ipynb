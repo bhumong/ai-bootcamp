{
 "cells": [
  {
   "cell_type": "markdown",
   "id": "4ed5de98",
   "metadata": {},
   "source": [
    "source: [link](https://ai-bootcamp.ruangguru.com/learn/08_langchain/01_fast_api.html)"
   ]
  },
  {
   "cell_type": "markdown",
   "id": "31c1a82a",
   "metadata": {},
   "source": [
    "# API with FastAPI"
   ]
  },
  {
   "cell_type": "markdown",
   "id": "e2175ec2",
   "metadata": {},
   "source": [
    "Picture this - You’ve spent endless hours meticulously gathering data, performing feature engineering, tuning hyperparameters, and training a machine learning model. This model has surpassed your expectations, delivering excellent results and insightful predictions. You’re thrilled, filled with a sense of achievement, and now you’re eager to share this AI marvel with the world. But there’s a catch - how do you make this trained model accessible to others? How do you turn this static, local file into a dynamic and interactive service?"
   ]
  },
  {
   "cell_type": "markdown",
   "id": "3f4e20ce",
   "metadata": {},
   "source": [
    "This is where APIs (Application Programming Interfaces) and FastAPI come to the rescue!"
   ]
  },
  {
   "cell_type": "markdown",
   "id": "8c88fed6",
   "metadata": {},
   "source": [
    "# APIs: The Heroes of Connectivity"
   ]
  },
  {
   "cell_type": "markdown",
   "id": "c6197c36",
   "metadata": {},
   "source": [
    "An API is essentially a set of rules that specify how different software applications should interact and communicate. APIs discreetly expose the functions of an application in a secure way, making them available for other applications to utilize. They are like diplomats, fostering relations and enabling seamless data transfer between different software systems."
   ]
  },
  {
   "cell_type": "markdown",
   "id": "658fb1c8",
   "metadata": {},
   "source": []
  },
  {
   "cell_type": "markdown",
   "id": "6caf6f5d",
   "metadata": {},
   "source": [
    "![Image](https://storage.googleapis.com/rg-ai-bootcamp/langchain/api-flow.png)"
   ]
  },
  {
   "cell_type": "markdown",
   "id": "3968cece",
   "metadata": {},
   "source": [
    "API flow (sumber www.piworks.net)"
   ]
  },
  {
   "cell_type": "markdown",
   "id": "54f52899",
   "metadata": {},
   "source": [
    "# FastAPI: The Speedy Python-to-Web Translator"
   ]
  },
  {
   "cell_type": "markdown",
   "id": "f817bddb",
   "metadata": {},
   "source": [
    "Now, let’s talk about FastAPI. FastAPI is a modern, fast (high-performance), web framework for building APIs with Python 3.6+ based on standard Python type hints. This handy tool is your go-to solution for setting up a simple yet powerful API. It enables you to map Python functions to specific URLs, transforming these operations into network-accessible services."
   ]
  },
  {
   "cell_type": "markdown",
   "id": "d76a5f76",
   "metadata": {},
   "source": [
    "On Your Marks, Get Set, FastAPI!"
   ]
  },
  {
   "cell_type": "markdown",
   "id": "6ae8c3b7",
   "metadata": {},
   "source": [
    "Excited? Let’s dive right into crafting APIs with FastAPI! Before we set sail, ensure FastAPI is installed. You can do this using pip:"
   ]
  },
  {
   "cell_type": "code",
   "execution_count": null,
   "id": "ea53819c",
   "metadata": {},
   "outputs": [],
   "source": [
    "%pip install fastapi uvicorn pyngrok"
   ]
  },
  {
   "cell_type": "markdown",
   "id": "faec944c",
   "metadata": {},
   "source": [
    "# Igniting the FastAPI"
   ]
  },
  {
   "cell_type": "markdown",
   "id": "6b2022e1",
   "metadata": {},
   "source": [
    "Let’s kick-start our FastAPI adventure by initiating a basic application:"
   ]
  },
  {
   "cell_type": "code",
   "execution_count": null,
   "id": "9ca99baf",
   "metadata": {},
   "outputs": [],
   "source": [
    "%%writefile main.py\n",
    "\n",
    "from fastapi import FastAPI\n",
    "\n",
    "app = FastAPI()\n",
    "\n",
    "@app.get(\"/\")\n",
    "def read_root():\n",
    "    return {\"Welcome\": \"Welcome to our API!\"}"
   ]
  },
  {
   "cell_type": "code",
   "execution_count": null,
   "id": "ccec0e28",
   "metadata": {},
   "outputs": [],
   "source": [
    "Overwriting main.py"
   ]
  },
  {
   "cell_type": "markdown",
   "id": "376baa7e",
   "metadata": {},
   "source": [
    "The cell above will create a main.py file (or overwrite it if it already exists) according to the code in that cell but using the magic command %%writefile main.py"
   ]
  },
  {
   "cell_type": "markdown",
   "id": "766935a2",
   "metadata": {},
   "source": [
    "Now we can run main.py using Uvicorn. What is Uvicorn? 🤔 This is a very fast ASGI server implementation, used to serve your FastAPI applications. ASGI, short for Asynchronous Server Gateway Interface, is a standard interface between web servers, frameworks, and async-enabled Python applications. Uvicorn serves as a bridge between your FastAPI applications and the outside world."
   ]
  },
  {
   "cell_type": "markdown",
   "id": "f19ac43d",
   "metadata": {},
   "source": [
    "Use the command below in your terminal to run the application"
   ]
  },
  {
   "cell_type": "code",
   "execution_count": null,
   "id": "ec636822",
   "metadata": {},
   "outputs": [],
   "source": [
    "uvicorn main:app --reload"
   ]
  },
  {
   "cell_type": "markdown",
   "id": "59a0ec0b",
   "metadata": {},
   "source": [
    "> Note: make sure the directory position of your terminal is the same as themain.pyfile"
   ]
  },
  {
   "cell_type": "markdown",
   "id": "39fab1c2",
   "metadata": {},
   "source": [
    "Note: make sure the directory position of your terminal is the same as the main.py file"
   ]
  },
  {
   "cell_type": "markdown",
   "id": "a600d076",
   "metadata": {},
   "source": []
  },
  {
   "cell_type": "markdown",
   "id": "8c669b92",
   "metadata": {},
   "source": [
    "![Image](https://storage.googleapis.com/rg-ai-bootcamp/langchain/fast-api-running.png)"
   ]
  },
  {
   "cell_type": "markdown",
   "id": "76afc222",
   "metadata": {},
   "source": [
    "Congratulations! You have just kindled the first sparks of your FastAPI application. With just a few lines of code, you’ve transformed a simple python function into a full-fledged API service."
   ]
  },
  {
   "cell_type": "markdown",
   "id": "82168d73",
   "metadata": {},
   "source": [
    "But how do we know if it’s working? 🤔 You can try with curl:"
   ]
  },
  {
   "cell_type": "markdown",
   "id": "50be64b8",
   "metadata": {},
   "source": []
  },
  {
   "cell_type": "markdown",
   "id": "64381ef2",
   "metadata": {},
   "source": [
    "![Image](https://storage.googleapis.com/rg-ai-bootcamp/langchain/curl-get.png)"
   ]
  },
  {
   "cell_type": "markdown",
   "id": "84544e2a",
   "metadata": {},
   "source": [
    "What if we want to run it in the Jupyter Notebook cell? 🤔 Let’s send a request to our new application and see what happens."
   ]
  },
  {
   "cell_type": "code",
   "execution_count": null,
   "id": "35edfb7c",
   "metadata": {},
   "outputs": [],
   "source": [
    "import uvicorn\n",
    "import nest_asyncio\n",
    "\n",
    "nest_asyncio.apply()\n",
    "\n",
    "# Start server synchronous\n",
    "uvicorn.run(app='main:app', host=\"0.0.0.0\", port=8000, reload=True, use_colors=True)"
   ]
  },
  {
   "cell_type": "markdown",
   "id": "16c12043",
   "metadata": {},
   "source": [
    "We’ve started our FastAPI application, and are now waiting for incoming requests."
   ]
  },
  {
   "cell_type": "markdown",
   "id": "5fdb9ef7",
   "metadata": {},
   "source": [
    "We can use curl again to try it out:"
   ]
  },
  {
   "cell_type": "markdown",
   "id": "29be1545",
   "metadata": {},
   "source": []
  },
  {
   "cell_type": "markdown",
   "id": "a9c5533b",
   "metadata": {},
   "source": [
    "![Image](https://storage.googleapis.com/rg-ai-bootcamp/langchain/curl-get.png)"
   ]
  },
  {
   "cell_type": "markdown",
   "id": "df6b27fe",
   "metadata": {},
   "source": [
    "So far, so good. Our API is up, running and has successfully responded to our request. But let’s consider a scenario. What if you want to share your newly built API with your colleagues or deploy it for a demo. Running the API on localhost won’t be visible to others on the internet."
   ]
  },
  {
   "cell_type": "markdown",
   "id": "6c9ba76a",
   "metadata": {},
   "source": [
    "This is where Ngrok comes into play. Ngrok is a fantastic tool that creates a secure tunnel from a public endpoint to your localhost. But before we can utilize it, we need a token. Let’s see how we can get this token:"
   ]
  },
  {
   "cell_type": "markdown",
   "id": "57f1d1c8",
   "metadata": {},
   "source": [
    "Let’s illustrate the final step with an image:"
   ]
  },
  {
   "cell_type": "markdown",
   "id": "87f6efe5",
   "metadata": {},
   "source": []
  },
  {
   "cell_type": "markdown",
   "id": "9f516005",
   "metadata": {},
   "source": [
    "![Image](https://storage.googleapis.com/rg-ai-bootcamp/langchain/ngrok-token.png)"
   ]
  },
  {
   "cell_type": "markdown",
   "id": "760d84a8",
   "metadata": {},
   "source": [
    "Remember to keep your token secure, as anyone with access to it can create a tunnel to your localhost."
   ]
  },
  {
   "cell_type": "markdown",
   "id": "ee28348f",
   "metadata": {},
   "source": [
    "Enter the token you have obtained"
   ]
  },
  {
   "cell_type": "code",
   "execution_count": null,
   "id": "893de9bc",
   "metadata": {},
   "outputs": [],
   "source": [
    "your_ngrok_token = \"\" # @param {type:\"string\"} "
   ]
  },
  {
   "cell_type": "markdown",
   "id": "7f3207a3",
   "metadata": {},
   "source": [
    "With the ngrok token in our hands, we are now ready to expose our local API to the world. Let’s set it up and give it a shot!"
   ]
  },
  {
   "cell_type": "markdown",
   "id": "cee7cf5a",
   "metadata": {},
   "source": [
    "Try api using pyngrok"
   ]
  },
  {
   "cell_type": "code",
   "execution_count": null,
   "id": "36363e1e",
   "metadata": {},
   "outputs": [],
   "source": [
    "from pyngrok import ngrok\n",
    "import uvicorn\n",
    "\n",
    "# Setup ngrok\n",
    "ngrok.set_auth_token(your_ngrok_token)\n",
    "\n",
    "public_url = ngrok.connect(addr=\"8000\", proto=\"http\", bind_tls=True)\n",
    "print(f\"Public URL: {public_url}\")\n",
    "\n",
    "# Start server\n",
    "uvicorn.run(app='main:app', host=\"0.0.0.0\", port=8000, reload=True, use_colors=True)"
   ]
  },
  {
   "cell_type": "markdown",
   "id": "2e60fdf1",
   "metadata": {},
   "source": [
    "Now we’re ready to share our API with the world! We’ve set up a secure tunnel using ngrok, and our API is now accessible from anywhere. You can easily share the public URL with others, and they can interact with your API in real-time."
   ]
  },
  {
   "cell_type": "markdown",
   "id": "edb3e313",
   "metadata": {},
   "source": [
    "Access the api endpoint via ngrok (click Visit Site)"
   ]
  },
  {
   "cell_type": "markdown",
   "id": "ca4d3608",
   "metadata": {},
   "source": []
  },
  {
   "cell_type": "markdown",
   "id": "2ec65589",
   "metadata": {},
   "source": [
    "![Image](https://storage.googleapis.com/rg-ai-bootcamp/langchain/ngrok-warning-free.png)"
   ]
  },
  {
   "cell_type": "markdown",
   "id": "43d92754",
   "metadata": {},
   "source": [
    "Here’s a piece of advice! While ngrok is a fantastic tool, remember that the free version of ngrok includes certain limitations. It provides a random URL every time you start a new session, and the connections can occasionally be slow. For extensive use, consider opting for a paid plan."
   ]
  },
  {
   "cell_type": "markdown",
   "id": "06e001b8",
   "metadata": {},
   "source": [
    "Look at that! You’ve just given birth to your first API using FastAPI and made it accessible to the world through ngrok. This API now functions with a single endpoint at the root URL (‘/’) which offers a friendly welcome message. Isn’t it thrilling to witness your Python functions communicating with the world? This is just the beginning of your FastAPI journey. As you dive deeper, you’ll uncover its power to build more complex and powerful APIs. Happy exploring!"
   ]
  },
  {
   "cell_type": "markdown",
   "id": "0351d37f",
   "metadata": {},
   "source": [
    "But before we wrap up, don’t forget to kill the server process when done!"
   ]
  },
  {
   "cell_type": "markdown",
   "id": "f1461832",
   "metadata": {},
   "source": [
    "To do so, you need to find the process ID (PID) and kill it - the method varies depending on the operating system."
   ]
  },
  {
   "cell_type": "markdown",
   "id": "17a412c4",
   "metadata": {},
   "source": [
    "- On Windows, you can usenetstat -ano | findstr :<YourPort>to find the PID andtaskkill /PID <PID> /Fto kill the process.\n",
    "- On Linux/Mac,lsof -i :<YourPort>andkill -9 <PID>should do the trick."
   ]
  },
  {
   "cell_type": "markdown",
   "id": "4ace972a",
   "metadata": {},
   "source": [
    "# API Endpoints & HTTP Methods: A Deeper Dive!"
   ]
  },
  {
   "cell_type": "markdown",
   "id": "83b581f3",
   "metadata": {},
   "source": [
    "Imagine you’re building an online store. You need to provide your users with a way to view products, add items to their shopping cart, and make purchases. This is where FastAPI’s ability to create multiple API endpoints and utilize different HTTP methods comes into play."
   ]
  },
  {
   "cell_type": "code",
   "execution_count": null,
   "id": "4bf105ce",
   "metadata": {},
   "outputs": [],
   "source": [
    "%%writefile main.py\n",
    "from fastapi import FastAPI\n",
    "app = FastAPI()\n",
    "\n",
    "@app.get(\"/products\")\n",
    "def get_products():\n",
    "    return {\"message\": \"Display all products\"}\n",
    "\n",
    "@app.post(\"/cart/{item_id}\")\n",
    "def add_to_cart(item_id: int):\n",
    "    return {\"message\": f\"Added item with id {item_id} to the cart\"}\n",
    "\n",
    "@app.delete(\"/cart/{item_id}\")\n",
    "def remove_from_cart(item_id: int):\n",
    "    return {\"message\": f\"Removed item with id {item_id} from the cart\"}"
   ]
  },
  {
   "cell_type": "code",
   "execution_count": null,
   "id": "a730cf37",
   "metadata": {},
   "outputs": [],
   "source": [
    "Overwriting main.py"
   ]
  },
  {
   "cell_type": "markdown",
   "id": "4decb6d3",
   "metadata": {},
   "source": [
    "Running localhost and ngrok:"
   ]
  },
  {
   "cell_type": "code",
   "execution_count": null,
   "id": "6d833ad4",
   "metadata": {},
   "outputs": [],
   "source": [
    "from pyngrok import ngrok\n",
    "import uvicorn\n",
    "\n",
    "# Setup ngrok\n",
    "ngrok.set_auth_token(your_ngrok_token)\n",
    "\n",
    "public_url = ngrok.connect(addr=\"8000\", proto=\"http\", bind_tls=True)\n",
    "print(f\"Public URL: {public_url}\")\n",
    "\n",
    "# Start server\n",
    "uvicorn.run(app='main:app', host=\"0.0.0.0\", port=8000, reload=True, use_colors=True)"
   ]
  },
  {
   "cell_type": "markdown",
   "id": "8929ad7a",
   "metadata": {},
   "source": [
    "Now to carry out tests, in Fast API there is an Interactive API docs feature where we can see detailed information about the API that we created and make test requests directly there."
   ]
  },
  {
   "cell_type": "markdown",
   "id": "1ce03c3a",
   "metadata": {},
   "source": [
    "Now go to http://127.0.0.1:8000/docs or https://{ngrok-url}/docs"
   ]
  },
  {
   "cell_type": "markdown",
   "id": "3138b6e5",
   "metadata": {},
   "source": [
    "You will see the automatic interactive API documentation (provided by Swagger UI):"
   ]
  },
  {
   "cell_type": "markdown",
   "id": "a712e9ad",
   "metadata": {},
   "source": []
  },
  {
   "cell_type": "markdown",
   "id": "0bf7f3ed",
   "metadata": {},
   "source": [
    "![Image](https://storage.googleapis.com/rg-ai-bootcamp/langchain/fast-api-swagger-docs.png)"
   ]
  },
  {
   "cell_type": "markdown",
   "id": "dd7264a7",
   "metadata": {},
   "source": [
    "Or you can use other alternatives is http://127.0.0.1:8000/redoc or https://{ngrok-url}/redoc"
   ]
  },
  {
   "cell_type": "markdown",
   "id": "3eb20c3a",
   "metadata": {},
   "source": [
    "You will see the alternative automatic documentation (provided by ReDoc):"
   ]
  },
  {
   "cell_type": "markdown",
   "id": "cf98edba",
   "metadata": {},
   "source": []
  },
  {
   "cell_type": "markdown",
   "id": "7ffb3901",
   "metadata": {},
   "source": [
    "![Image](https://storage.googleapis.com/rg-ai-bootcamp/langchain/fast-api-swagger-redoc.png)"
   ]
  },
  {
   "cell_type": "markdown",
   "id": "73718582",
   "metadata": {},
   "source": [
    "OK now, we will revise the previous code and add in-memory data structures for products and cart to make it more interactive:"
   ]
  },
  {
   "cell_type": "code",
   "execution_count": null,
   "id": "871bc0e3",
   "metadata": {},
   "outputs": [],
   "source": [
    "%%writefile main.py\n",
    "from fastapi import FastAPI, HTTPException\n",
    "\n",
    "app = FastAPI()\n",
    "\n",
    "# Our product list - a dictionary where key is product id and value is product name\n",
    "products = {1: \"Sneakers\", 2: \"T-Shirt\", 3: \"Jeans\", 4: \"Sunglasses\", 5: \"Hat\"}\n",
    "\n",
    "# The shopping cart - a dictionary where key is product id and value is quantity\n",
    "cart = {}\n",
    "\n",
    "@app.get(\"/products\")\n",
    "def get_products():\n",
    "    return products\n",
    "\n",
    "@app.post(\"/cart/{product_id}\")\n",
    "def add_to_cart(product_id: int):\n",
    "    if product_id not in products:\n",
    "        raise HTTPException(status_code=404, detail=\"Product not found\")\n",
    "    if product_id in cart:\n",
    "        cart[product_id] += 1\n",
    "    else:\n",
    "        cart[product_id] = 1\n",
    "    return {\"message\": f\"Added {products[product_id]} to the cart\"}\n",
    "\n",
    "@app.delete(\"/cart/{product_id}\")\n",
    "def remove_from_cart(product_id: int):\n",
    "    if product_id not in cart:\n",
    "        raise HTTPException(status_code=404, detail=\"Product not in cart\")\n",
    "    cart[product_id] -= 1\n",
    "    if cart[product_id] == 0:\n",
    "        del cart[product_id]\n",
    "    return {\"message\": f\"Removed {products[product_id]} from the cart\"}\n",
    "\n",
    "@app.get(\"/cart\")\n",
    "def get_cart():\n",
    "    return {products[product_id]: quantity for product_id, quantity in cart.items()}"
   ]
  },
  {
   "cell_type": "markdown",
   "id": "995e0333",
   "metadata": {},
   "source": [
    "Running localhost and ngrok:"
   ]
  },
  {
   "cell_type": "code",
   "execution_count": null,
   "id": "3f3a5833",
   "metadata": {},
   "outputs": [],
   "source": [
    "from pyngrok import ngrok\n",
    "import uvicorn\n",
    "\n",
    "# Setup ngrok\n",
    "ngrok.set_auth_token(your_ngrok_token)\n",
    "\n",
    "public_url = ngrok.connect(addr=\"8000\", proto=\"http\", bind_tls=True)\n",
    "print(f\"Public URL: {public_url}\")\n",
    "\n",
    "# Start server\n",
    "uvicorn.run(app='main:app', host=\"0.0.0.0\", port=8000, reload=True, use_colors=True)"
   ]
  },
  {
   "cell_type": "markdown",
   "id": "52a135e2",
   "metadata": {},
   "source": [
    "Now, our API server can handle the following requests: - GET requests to /products to view all products. - POST requests to /cart/{product_id} to add products to the cart. - DELETE requests to /cart/{product_id} to remove products from the cart. - GET requests to /cart to view the cart contents."
   ]
  },
  {
   "cell_type": "markdown",
   "id": "44183481",
   "metadata": {},
   "source": [
    "Go to http://127.0.0.1:8000/docs, https://{ngrok-url}/docs or http://127.0.0.1:8000/redoc or https://{ngrok-url}/redoc for interactive documentation your API"
   ]
  },
  {
   "cell_type": "markdown",
   "id": "19e01a10",
   "metadata": {},
   "source": [
    "# Working with JSON Responses and Requests"
   ]
  },
  {
   "cell_type": "markdown",
   "id": "c827752f",
   "metadata": {},
   "source": [
    "All the data exchanged between the client and server in our online store scenario happens in the form of JSON. FastAPI makes it ultra-easy to handle JSON data."
   ]
  },
  {
   "cell_type": "markdown",
   "id": "92c26b8c",
   "metadata": {},
   "source": [
    "Let’s say, instead of adding one product at a time to the cart, we want to allow customers to add multiple products at once. They can send a list of product IDs as JSON data in a POST request, and FastAPI will automatically convert it to a Python list for us."
   ]
  },
  {
   "cell_type": "code",
   "execution_count": null,
   "id": "20b7f861",
   "metadata": {},
   "outputs": [],
   "source": [
    "%%writefile main.py\n",
    "from typing import List\n",
    "from fastapi import FastAPI, HTTPException\n",
    "\n",
    "app = FastAPI()\n",
    "\n",
    "# Our product list - a dictionary where key is product id and value is product name\n",
    "products = {1: \"Sneakers\", 2: \"T-Shirt\", 3: \"Jeans\", 4: \"Sunglasses\", 5: \"Hat\"}\n",
    "\n",
    "# The shopping cart - a dictionary where key is product id and value is quantity\n",
    "cart = {}\n",
    "\n",
    "@app.post(\"/cart/items\")\n",
    "async def add_items_to_cart(item_ids: List[int]):\n",
    "    not_found_ids = [item_id for item_id in item_ids if item_id not in products]\n",
    "    if not_found_ids:\n",
    "        raise HTTPException(status_code=404, detail=f\"Products with ids {not_found_ids} were not found.\")\n",
    "    \n",
    "    for item_id in item_ids:\n",
    "        if item_id in cart:\n",
    "            cart[item_id] += 1\n",
    "        else:\n",
    "            cart[item_id] = 1\n",
    "    response = {products[item_id]: quantity for item_id, quantity in cart.items()}\n",
    "    return response"
   ]
  },
  {
   "cell_type": "markdown",
   "id": "f6f666b0",
   "metadata": {},
   "source": [
    "Running localhost and ngrok:"
   ]
  },
  {
   "cell_type": "code",
   "execution_count": null,
   "id": "43da5778",
   "metadata": {},
   "outputs": [],
   "source": [
    "from pyngrok import ngrok\n",
    "import uvicorn\n",
    "\n",
    "# Setup ngrok\n",
    "ngrok.set_auth_token(your_ngrok_token)\n",
    "\n",
    "public_url = ngrok.connect(addr=\"8000\", proto=\"http\", bind_tls=True)\n",
    "print(f\"Public URL: {public_url}\")\n",
    "\n",
    "# Start server\n",
    "uvicorn.run(app='main:app', host=\"0.0.0.0\", port=8000, reload=True, use_colors=True)"
   ]
  },
  {
   "cell_type": "markdown",
   "id": "58063c93",
   "metadata": {},
   "source": [
    "Customers can now perform the following actions: - Add multiple items to the cart in one go by: - Sending a POST request to /cart/items with a JSON array of product ids. - FastAPI will automatically parse the JSON data into a Python list. - Corresponding products will be added to the cart. - If a product is not found in our store: - The system will raise an HTTPException with a 404 status code."
   ]
  },
  {
   "cell_type": "markdown",
   "id": "cd425c8a",
   "metadata": {},
   "source": [
    "Go to http://127.0.0.1:8000/docs, https://{ngrok-url}/docs or http://127.0.0.1:8000/redoc or https://{ngrok-url}/redoc for interactive documentation your API"
   ]
  },
  {
   "cell_type": "markdown",
   "id": "391a40cd",
   "metadata": {},
   "source": [
    "# Handling Errors Gracefully"
   ]
  },
  {
   "cell_type": "markdown",
   "id": "73131b78",
   "metadata": {},
   "source": [
    "In an ideal world, users would always use our online store API perfectly. They’d only add products that exist, they wouldn’t attempt to remove products from an empty cart, and they certainly wouldn’t try to buy more products than we have in stock."
   ]
  },
  {
   "cell_type": "markdown",
   "id": "e410c167",
   "metadata": {},
   "source": [
    "But we don’t live in an ideal world."
   ]
  },
  {
   "cell_type": "markdown",
   "id": "f608647d",
   "metadata": {},
   "source": [
    "Thankfully, FastAPI provides an easy way to handle errors and raise HTTP exceptions with meaningful error messages."
   ]
  },
  {
   "cell_type": "code",
   "execution_count": null,
   "id": "28d6cdda",
   "metadata": {},
   "outputs": [],
   "source": [
    "%%writefile main.py\n",
    "from typing import List\n",
    "from fastapi import FastAPI, HTTPException\n",
    "\n",
    "app = FastAPI()\n",
    "\n",
    "# Our product list - a dictionary where key is product id and value is product name\n",
    "products = {1: \"Sneakers\", 2: \"T-Shirt\", 3: \"Jeans\", 4: \"Sunglasses\", 5: \"Hat\"}\n",
    "\n",
    "# The shopping cart - a dictionary where key is product id and value is quantity\n",
    "cart = {}\n",
    "\n",
    "@app.get(\"/products/{product_id}\")\n",
    "async def get_product(product_id: int):\n",
    "    if product_id not in products:\n",
    "        raise HTTPException(status_code=404, detail=f\"No product found with id {product_id}.\")\n",
    "    return {product_id: products[product_id]}\n",
    "\n",
    "@app.post(\"/cart/items\")\n",
    "async def add_items_to_cart(item_ids: List[int]):\n",
    "    not_found_ids = [item_id for item_id in item_ids if item_id not in products]\n",
    "    if not_found_ids:\n",
    "        raise HTTPException(status_code=404, detail=f\"Products with ids {not_found_ids} were not found.\")\n",
    "    \n",
    "    for item_id in item_ids:\n",
    "        if item_id in cart:\n",
    "            cart[item_id] += 1\n",
    "        else:\n",
    "            cart[item_id] = 1\n",
    "    response = {products[item_id]: quantity for item_id, quantity in cart.items()}\n",
    "    return response\n",
    "\n",
    "@app.delete(\"/cart/{product_id}\")\n",
    "async def remove_from_cart(product_id: int):\n",
    "    if product_id not in cart:\n",
    "        raise HTTPException(status_code=404, detail=\"Product not in cart.\")\n",
    "    cart[product_id] -= 1\n",
    "    if cart[product_id] == 0:\n",
    "        del cart[product_id]\n",
    "    return {\"message\": f\"Removed {products[product_id]} from the cart\"}"
   ]
  },
  {
   "cell_type": "code",
   "execution_count": null,
   "id": "846800f8",
   "metadata": {},
   "outputs": [],
   "source": [
    "Overwriting main.py"
   ]
  },
  {
   "cell_type": "markdown",
   "id": "2196df87",
   "metadata": {},
   "source": [
    "Running localhost and ngrok:"
   ]
  },
  {
   "cell_type": "code",
   "execution_count": null,
   "id": "069d6e5e",
   "metadata": {},
   "outputs": [],
   "source": [
    "from pyngrok import ngrok\n",
    "import uvicorn\n",
    "\n",
    "# Setup ngrok\n",
    "ngrok.set_auth_token(your_ngrok_token)\n",
    "\n",
    "public_url = ngrok.connect(addr=\"8000\", proto=\"http\", bind_tls=True)\n",
    "print(f\"Public URL: {public_url}\")\n",
    "\n",
    "# Start server\n",
    "uvicorn.run(app='main:app', host=\"0.0.0.0\", port=8000, reload=True, use_colors=True)"
   ]
  },
  {
   "cell_type": "markdown",
   "id": "6b04a504",
   "metadata": {},
   "source": [
    "In this script, we’ve enhanced our API endpoints to handle common error cases such as: - If a user tries to view a product that doesn’t exist. - If a user tries to add a non-existent product to their cart. - If a user tries to remove a product from an empty cart."
   ]
  },
  {
   "cell_type": "markdown",
   "id": "32ee0d5c",
   "metadata": {},
   "source": [
    "In these instances, FastAPI will: - Raise an HTTPException with a 404 status code. - Provide a descriptive error message."
   ]
  },
  {
   "cell_type": "markdown",
   "id": "a5465544",
   "metadata": {},
   "source": [
    "We have performed tests on these enhancements: - Made a GET request to the /products/{product_id} endpoint with a non-existent product id. - As expected, our API returned a 404 status code with an appropriate error message."
   ]
  },
  {
   "cell_type": "markdown",
   "id": "55263558",
   "metadata": {},
   "source": [
    "Go to http://127.0.0.1:8000/docs, https://{ngrok-url}/docs or http://127.0.0.1:8000/redoc or https://{ngrok-url}/redoc for interactive documentation your API"
   ]
  },
  {
   "cell_type": "markdown",
   "id": "95330ca1",
   "metadata": {},
   "source": [
    "# Rendering HTML"
   ]
  },
  {
   "cell_type": "markdown",
   "id": "423f5f56",
   "metadata": {},
   "source": [
    "FastAPI is not limited to exchange JSON data. It can also handle and render HTML. This is useful if, besides the API, you want to have an introductory web page for your online store. All we need to do is return a multiline string (enclosed in triple quotes) containing our HTML code."
   ]
  },
  {
   "cell_type": "code",
   "execution_count": null,
   "id": "0f2e66ff",
   "metadata": {},
   "outputs": [],
   "source": [
    "%%writefile main.py\n",
    "from fastapi import FastAPI\n",
    "from starlette.responses import HTMLResponse\n",
    "\n",
    "app = FastAPI()\n",
    "\n",
    "@app.get(\"/home\", response_class=HTMLResponse)\n",
    "async def get_home():\n",
    "    return \"\"\"\n",
    "    <html>\n",
    "        <head>\n",
    "            <title> Welcome to Our Online Store </title>\n",
    "        </head>\n",
    "        <body>\n",
    "            <p> Welcome to our online store! Check out our products <a href=\"/products\">here</a>. </p>\n",
    "        </body>\n",
    "    </html>\n",
    "    \"\"\""
   ]
  },
  {
   "cell_type": "code",
   "execution_count": null,
   "id": "cbf539c8",
   "metadata": {},
   "outputs": [],
   "source": [
    "Overwriting main.py"
   ]
  },
  {
   "cell_type": "markdown",
   "id": "719c05fe",
   "metadata": {},
   "source": [
    "Running localhost and ngrok:"
   ]
  },
  {
   "cell_type": "code",
   "execution_count": null,
   "id": "a1c0f296",
   "metadata": {},
   "outputs": [],
   "source": [
    "from pyngrok import ngrok\n",
    "import uvicorn\n",
    "\n",
    "# Setup ngrok\n",
    "ngrok.set_auth_token(your_ngrok_token)\n",
    "\n",
    "public_url = ngrok.connect(addr=\"8000\", proto=\"http\", bind_tls=True)\n",
    "print(f\"Public URL: {public_url}\")\n",
    "\n",
    "# Start server\n",
    "uvicorn.run(app='main:app', host=\"0.0.0.0\", port=8000, reload=True, use_colors=True)"
   ]
  },
  {
   "cell_type": "markdown",
   "id": "213533a9",
   "metadata": {},
   "source": [
    "Now, when someone visits the “/home” endpoint of our API, FastAPI will respond with a simple HTML page. The response_class=HTMLResponse argument tells FastAPI to convert the returned string into HTML."
   ]
  },
  {
   "cell_type": "markdown",
   "id": "a6287c42",
   "metadata": {},
   "source": [
    "Let’s navigate to the home page."
   ]
  },
  {
   "cell_type": "markdown",
   "id": "e3f23552",
   "metadata": {},
   "source": []
  },
  {
   "cell_type": "markdown",
   "id": "ab7d46cb",
   "metadata": {},
   "source": [
    "![Image](https://storage.googleapis.com/rg-ai-bootcamp/langchain/fast-api-html.png)"
   ]
  },
  {
   "cell_type": "markdown",
   "id": "916b3fab",
   "metadata": {},
   "source": [
    "As you can see, our API correctly returns an HTML response for the “/home” endpoint."
   ]
  },
  {
   "cell_type": "markdown",
   "id": "ee937412",
   "metadata": {},
   "source": [
    "In this script, we’ve defined a new /home endpoint that returns an HTML response, effectively serving a simple web page. The response_class=HTMLResponse argument tells FastAPI to convert the returned string into HTML. We then make a GET request to this endpoint and print the HTML response."
   ]
  },
  {
   "cell_type": "markdown",
   "id": "71e57e28",
   "metadata": {},
   "source": [
    "# Path Parameters and Query Parameters"
   ]
  },
  {
   "cell_type": "markdown",
   "id": "d847e99e",
   "metadata": {},
   "source": [
    "Path parameters and query parameters are two ways to pass dynamic information to an API."
   ]
  },
  {
   "cell_type": "markdown",
   "id": "ea63a583",
   "metadata": {},
   "source": [
    "First, let’s start with path parameters. These allow us to pass information via the URL path. We have already used path parameters in our /cart/{product_id} endpoints. Let’s add one more endpoint which gives us the details of a specific product."
   ]
  },
  {
   "cell_type": "code",
   "execution_count": null,
   "id": "f0c92578",
   "metadata": {},
   "outputs": [],
   "source": [
    "%%writefile main.py\n",
    "from fastapi import FastAPI, HTTPException\n",
    "\n",
    "app = FastAPI()\n",
    "\n",
    "# Our product list - a dictionary where key is product id and value is product name\n",
    "products = {1: \"Sneakers\", 2: \"T-Shirt\", 3: \"Jeans\", 4: \"Sunglasses\", 5: \"Hat\"}\n",
    "\n",
    "@app.get(\"/product/{product_id}\")\n",
    "async def get_product_detail(product_id: int):\n",
    "    if product_id not in products:\n",
    "        raise HTTPException(status_code=404, detail=f\"No product found with id {product_id}.\")\n",
    "    return {product_id: products[product_id]}"
   ]
  },
  {
   "cell_type": "code",
   "execution_count": null,
   "id": "25637239",
   "metadata": {},
   "outputs": [],
   "source": [
    "Overwriting main.py"
   ]
  },
  {
   "cell_type": "markdown",
   "id": "0075563f",
   "metadata": {},
   "source": [
    "Run in terminal with command: uvicorn main:app --reload and now, a user can get the details of a single product by passing the product id in the URL, such as ‘/product/1’."
   ]
  },
  {
   "cell_type": "markdown",
   "id": "37d53696",
   "metadata": {},
   "source": [
    "Let’s try to get the details of a product with id 1 using another terminal curl http://127.0.0.1:8000/product/1"
   ]
  },
  {
   "cell_type": "markdown",
   "id": "0bec6c9b",
   "metadata": {},
   "source": []
  },
  {
   "cell_type": "markdown",
   "id": "2e863444",
   "metadata": {},
   "source": [
    "![Image](https://storage.googleapis.com/rg-ai-bootcamp/langchain/bash-fast-params.png)"
   ]
  },
  {
   "cell_type": "markdown",
   "id": "e54dda7e",
   "metadata": {},
   "source": [
    "Great, it works!"
   ]
  },
  {
   "cell_type": "markdown",
   "id": "fbdf6efa",
   "metadata": {},
   "source": [
    "Now, let’s move on to query parameters. These offer another way to pass dynamic information to an API, but via the URL query string (the part of the URL after the ‘?’)."
   ]
  },
  {
   "cell_type": "markdown",
   "id": "220dd0cb",
   "metadata": {},
   "source": [
    "Let’s say we want to allow users to filter the products by part of their names. We can do that by introducing a query parameter:"
   ]
  },
  {
   "cell_type": "code",
   "execution_count": null,
   "id": "9f5ecffa",
   "metadata": {},
   "outputs": [],
   "source": [
    "%%writefile main.py\n",
    "from fastapi import FastAPI\n",
    "from typing import Optional\n",
    "\n",
    "app = FastAPI()\n",
    "\n",
    "# Our product list - a dictionary where key is product id and value is product name\n",
    "products = {1: \"Sneakers\", 2: \"T-Shirt\", 3: \"Jeans\", 4: \"Sunglasses\", 5: \"Hat\"}\n",
    "\n",
    "@app.get(\"/search\")\n",
    "async def search_products(q: Optional[str] = None):\n",
    "    if q:\n",
    "        return {product_id: name for product_id, name in products.items() if q.lower() in name.lower()}\n",
    "    else:\n",
    "        return products"
   ]
  },
  {
   "cell_type": "code",
   "execution_count": null,
   "id": "1b53e7ff",
   "metadata": {},
   "outputs": [],
   "source": [
    "Overwriting main.py"
   ]
  },
  {
   "cell_type": "markdown",
   "id": "d4e9363d",
   "metadata": {},
   "source": [
    "Run in terminal with command: uvicorn main:app --reload and now, users can search for products by including a ‘q’ parameter in the URL, like ‘/search?q=Sneakers’."
   ]
  },
  {
   "cell_type": "markdown",
   "id": "f1a3c9b2",
   "metadata": {},
   "source": [
    "Let’s try to search product with q “Jeans” using another terminal curl http://127.0.0.1:8000/search?q=Jeans"
   ]
  },
  {
   "cell_type": "markdown",
   "id": "87436f70",
   "metadata": {},
   "source": []
  },
  {
   "cell_type": "markdown",
   "id": "917d402a",
   "metadata": {},
   "source": [
    "![Image](https://storage.googleapis.com/rg-ai-bootcamp/langchain/bash-fast-query.png)"
   ]
  },
  {
   "cell_type": "markdown",
   "id": "021c1e4d",
   "metadata": {},
   "source": [
    "As you can see, our API correctly returned the product that matches our search query."
   ]
  },
  {
   "cell_type": "markdown",
   "id": "f0207d5d",
   "metadata": {},
   "source": [
    "In this code, we’ve made the following enhancements to our API: - Accepted dynamic path and query parameters. - Added a /product/{product_id} endpoint that: - Returns the details of a specific product based on the product id passed in the URL. - Added a /search endpoint that: - Allows users to filter the products based on a search query. - The search query is passed as a query parameter in the URL."
   ]
  },
  {
   "cell_type": "markdown",
   "id": "baef2fd2",
   "metadata": {},
   "source": [
    "We then performed tests on these enhancements: - Made GET requests to these endpoints. - Printed the responses for verification."
   ]
  },
  {
   "cell_type": "markdown",
   "id": "ac80799f",
   "metadata": {},
   "source": [
    "# Project Example: Text Generation API Using Hugging Face’s Transformers"
   ]
  },
  {
   "cell_type": "markdown",
   "id": "e182c4f7",
   "metadata": {},
   "source": [
    "Imagine you’ve crafted an amazing GPT-2 model that can generate witty text, mimicking the style of famous authors. You’re quite thrilled with this digital author and now you want to share your AI-powered wordsmith with the world. How can you make this happen? You guessed it - let’s build an API with FastAPI!"
   ]
  },
  {
   "cell_type": "markdown",
   "id": "89379b3f",
   "metadata": {},
   "source": [
    "Before we embark on this journey, we need to ensure that we have all the necessary tools. We will install two indispensable libraries, Transformers and Torch, using pip:"
   ]
  },
  {
   "cell_type": "code",
   "execution_count": null,
   "id": "bc297ece",
   "metadata": {},
   "outputs": [],
   "source": [
    "%pip install transformers torch"
   ]
  },
  {
   "cell_type": "markdown",
   "id": "07408b90",
   "metadata": {},
   "source": [
    "# Setting Up the Text Generation Model"
   ]
  },
  {
   "cell_type": "markdown",
   "id": "52641676",
   "metadata": {},
   "source": [
    "Now, let’s prepare our AI author by setting up a pipeline for text generation with the GPT-2 model from Hugging Face’s Transformers library:"
   ]
  },
  {
   "cell_type": "code",
   "execution_count": null,
   "id": "e1adc618",
   "metadata": {},
   "outputs": [],
   "source": [
    "from transformers import pipeline\n",
    "\n",
    "generator = pipeline('text-generation', model='gpt2')"
   ]
  },
  {
   "cell_type": "markdown",
   "id": "fe50c194",
   "metadata": {},
   "source": [
    "With our generator in place, we’re ready to start creating masterpieces!"
   ]
  },
  {
   "cell_type": "markdown",
   "id": "42c02145",
   "metadata": {},
   "source": [
    "# Building the Text Generation API"
   ]
  },
  {
   "cell_type": "markdown",
   "id": "64a9a0c4",
   "metadata": {},
   "source": [
    "Now, we’re going to design an API that allows users to feed a string of text to our AI author, who will then generate a piece of text based on the input:"
   ]
  },
  {
   "cell_type": "code",
   "execution_count": null,
   "id": "b4e21b35",
   "metadata": {},
   "outputs": [],
   "source": [
    "%%writefile main.py\n",
    "from fastapi import FastAPI\n",
    "from pydantic import BaseModel\n",
    "from transformers import pipeline\n",
    "\n",
    "generator = pipeline('text-generation', model='gpt2')\n",
    "\n",
    "class Item(BaseModel):\n",
    "    text: str\n",
    "\n",
    "app = FastAPI()\n",
    "\n",
    "@app.post(\"/api/generate\")\n",
    "def generate_text(item: Item):\n",
    "    # Generate text\n",
    "    outputs = generator(item.text, max_length=150, num_return_sequences=5, no_repeat_ngram_size=2)\n",
    "    generated_text = [output['generated_text'] for output in outputs]\n",
    "\n",
    "    return {\"message\": \"Text generated!\", \"generated_text\": generated_text}"
   ]
  },
  {
   "cell_type": "code",
   "execution_count": null,
   "id": "9a6ba88c",
   "metadata": {},
   "outputs": [],
   "source": [
    "Overwriting main.py"
   ]
  },
  {
   "cell_type": "markdown",
   "id": "9479236c",
   "metadata": {},
   "source": [
    "Running localhost and ngrok:"
   ]
  },
  {
   "cell_type": "code",
   "execution_count": null,
   "id": "770a057b",
   "metadata": {},
   "outputs": [],
   "source": [
    "from pyngrok import ngrok\n",
    "import uvicorn\n",
    "\n",
    "# Setup ngrok\n",
    "ngrok.set_auth_token(your_ngrok_token)\n",
    "\n",
    "public_url = ngrok.connect(addr=\"8000\", proto=\"http\", bind_tls=True)\n",
    "print(f\"Public URL: {public_url}\")\n",
    "\n",
    "# Start server\n",
    "uvicorn.run(app='main:app', host=\"0.0.0.0\", port=8000, reload=True, use_colors=True)"
   ]
  },
  {
   "cell_type": "markdown",
   "id": "052eb785",
   "metadata": {},
   "source": [
    "And there you have it! We’ve just created an endpoint ‘/api/generate’ that accepts POST requests. This endpoint expects a string of text as input in the form of JSON data. It takes this text, feeds it to our AI author, and in response, provides five unique continuations of the initial text."
   ]
  },
  {
   "cell_type": "markdown",
   "id": "82628692",
   "metadata": {},
   "source": [
    "Go to http://127.0.0.1:8000/docs, https://{ngrok-url}/docs or http://127.0.0.1:8000/redoc or https://{ngrok-url}/redoc for interactive documentation your API"
   ]
  },
  {
   "cell_type": "markdown",
   "id": "a9b9d445",
   "metadata": {},
   "source": [
    "With FastAPI and Hugging Face’s Transformers, you’ve just turned your local GPT-2 model into a globally accessible AI-powered author. This is the beauty of APIs in machine learning. This project is a foundation upon which you can build more complex APIs, integrating different models and tasks to suit your needs."
   ]
  },
  {
   "cell_type": "markdown",
   "id": "c500eb82",
   "metadata": {},
   "source": [
    "# Wrapping Up"
   ]
  },
  {
   "cell_type": "markdown",
   "id": "e1ebaa03",
   "metadata": {},
   "source": [
    "FastAPI provides an intuitive and flexible way to build robust APIs, and you’ve just scratched the surface by designing an API for text generation with a GPT-2 model. We walked through setting up endpoints, handling JSON data, routing, error handling, and making our API globally accessible with ngrok. We also took a deep dive into the dynamic world of path and query parameters."
   ]
  },
  {
   "cell_type": "markdown",
   "id": "8018a986",
   "metadata": {},
   "source": [
    "Equipped with these tools, you’re now set to construct comprehensive, powerful, and secure APIs. Keep practicing, keep exploring, and before you know it, you’ll be an accomplished FastAPI maestro!"
   ]
  }
 ],
 "metadata": {},
 "nbformat": 4,
 "nbformat_minor": 5
}
