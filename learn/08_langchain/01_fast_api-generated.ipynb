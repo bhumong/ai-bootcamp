{
 "cells": [
  {
   "cell_type": "markdown",
   "id": "7ce3a6b3",
   "metadata": {},
   "source": [
    "# API with FastAPI"
   ]
  },
  {
   "cell_type": "markdown",
   "id": "96a7d6fc",
   "metadata": {},
   "source": [
    "Picture this - You’ve spent endless hours meticulously gathering data, performing feature engineering, tuning hyperparameters, and training a machine learning model. This model has surpassed your expectations, delivering excellent results and insightful predictions. You’re thrilled, filled with a sense of achievement, and now you’re eager to share this AI marvel with the world. But there’s a catch - how do you make this trained model accessible to others? How do you turn this static, local file into a dynamic and interactive service?"
   ]
  },
  {
   "cell_type": "markdown",
   "id": "e7bd4b1f",
   "metadata": {},
   "source": [
    "This is where APIs (Application Programming Interfaces) and FastAPI come to the rescue!"
   ]
  },
  {
   "cell_type": "markdown",
   "id": "77ab4f26",
   "metadata": {},
   "source": [
    "# APIs: The Heroes of Connectivity"
   ]
  },
  {
   "cell_type": "markdown",
   "id": "a84f5b6d",
   "metadata": {},
   "source": [
    "An API is essentially a set of rules that specify how different software applications should interact and communicate. APIs discreetly expose the functions of an application in a secure way, making them available for other applications to utilize. They are like diplomats, fostering relations and enabling seamless data transfer between different software systems."
   ]
  },
  {
   "cell_type": "markdown",
   "id": "3d5be3f8",
   "metadata": {},
   "source": []
  },
  {
   "cell_type": "markdown",
   "id": "131032a9",
   "metadata": {},
   "source": [
    "![Image](https://storage.googleapis.com/rg-ai-bootcamp/langchain/api-flow.png)"
   ]
  },
  {
   "cell_type": "markdown",
   "id": "4fe4b2de",
   "metadata": {},
   "source": [
    "API flow (sumber www.piworks.net)"
   ]
  },
  {
   "cell_type": "markdown",
   "id": "25b16d2a",
   "metadata": {},
   "source": [
    "# FastAPI: The Speedy Python-to-Web Translator"
   ]
  },
  {
   "cell_type": "markdown",
   "id": "85c34834",
   "metadata": {},
   "source": [
    "Now, let’s talk about FastAPI. FastAPI is a modern, fast (high-performance), web framework for building APIs with Python 3.6+ based on standard Python type hints. This handy tool is your go-to solution for setting up a simple yet powerful API. It enables you to map Python functions to specific URLs, transforming these operations into network-accessible services."
   ]
  },
  {
   "cell_type": "markdown",
   "id": "68d58fab",
   "metadata": {},
   "source": [
    "On Your Marks, Get Set, FastAPI!"
   ]
  },
  {
   "cell_type": "markdown",
   "id": "b3103359",
   "metadata": {},
   "source": [
    "Excited? Let’s dive right into crafting APIs with FastAPI! Before we set sail, ensure FastAPI is installed. You can do this using pip:"
   ]
  },
  {
   "cell_type": "code",
   "execution_count": null,
   "id": "4dd6eded",
   "metadata": {},
   "outputs": [],
   "source": [
    "%pip install fastapi uvicorn pyngrok"
   ]
  },
  {
   "cell_type": "markdown",
   "id": "83e90f7d",
   "metadata": {},
   "source": [
    "# Igniting the FastAPI"
   ]
  },
  {
   "cell_type": "markdown",
   "id": "6878327b",
   "metadata": {},
   "source": [
    "Let’s kick-start our FastAPI adventure by initiating a basic application:"
   ]
  },
  {
   "cell_type": "code",
   "execution_count": null,
   "id": "14968410",
   "metadata": {},
   "outputs": [],
   "source": [
    "%%writefile main.py\n",
    "\n",
    "from fastapi import FastAPI\n",
    "\n",
    "app = FastAPI()\n",
    "\n",
    "@app.get(\"/\")\n",
    "def read_root():\n",
    "    return {\"Welcome\": \"Welcome to our API!\"}"
   ]
  },
  {
   "cell_type": "code",
   "execution_count": null,
   "id": "49a2f4bb",
   "metadata": {},
   "outputs": [],
   "source": [
    "Overwriting main.py"
   ]
  },
  {
   "cell_type": "markdown",
   "id": "dbf27804",
   "metadata": {},
   "source": [
    "The cell above will create a main.py file (or overwrite it if it already exists) according to the code in that cell but using the magic command %%writefile main.py"
   ]
  },
  {
   "cell_type": "markdown",
   "id": "8db4da58",
   "metadata": {},
   "source": [
    "Now we can run main.py using Uvicorn. What is Uvicorn? 🤔 This is a very fast ASGI server implementation, used to serve your FastAPI applications. ASGI, short for Asynchronous Server Gateway Interface, is a standard interface between web servers, frameworks, and async-enabled Python applications. Uvicorn serves as a bridge between your FastAPI applications and the outside world."
   ]
  },
  {
   "cell_type": "markdown",
   "id": "22670752",
   "metadata": {},
   "source": [
    "Use the command below in your terminal to run the application"
   ]
  },
  {
   "cell_type": "code",
   "execution_count": null,
   "id": "1985ee56",
   "metadata": {},
   "outputs": [],
   "source": [
    "uvicorn main:app --reload"
   ]
  },
  {
   "cell_type": "markdown",
   "id": "94cea1aa",
   "metadata": {},
   "source": [
    "Note: make sure the directory position of your terminal is the same as the main.py file"
   ]
  },
  {
   "cell_type": "markdown",
   "id": "d6de2d4d",
   "metadata": {},
   "source": []
  },
  {
   "cell_type": "markdown",
   "id": "a12fd620",
   "metadata": {},
   "source": [
    "![Image](https://storage.googleapis.com/rg-ai-bootcamp/langchain/fast-api-running.png)"
   ]
  },
  {
   "cell_type": "markdown",
   "id": "44ddeb00",
   "metadata": {},
   "source": [
    "Congratulations! You have just kindled the first sparks of your FastAPI application. With just a few lines of code, you’ve transformed a simple python function into a full-fledged API service."
   ]
  },
  {
   "cell_type": "markdown",
   "id": "760db90d",
   "metadata": {},
   "source": [
    "But how do we know if it’s working? 🤔 You can try with curl:"
   ]
  },
  {
   "cell_type": "markdown",
   "id": "cac87907",
   "metadata": {},
   "source": []
  },
  {
   "cell_type": "markdown",
   "id": "61629686",
   "metadata": {},
   "source": [
    "![Image](https://storage.googleapis.com/rg-ai-bootcamp/langchain/curl-get.png)"
   ]
  },
  {
   "cell_type": "markdown",
   "id": "d7dc5ef3",
   "metadata": {},
   "source": [
    "What if we want to run it in the Jupyter Notebook cell? 🤔 Let’s send a request to our new application and see what happens."
   ]
  },
  {
   "cell_type": "code",
   "execution_count": null,
   "id": "93f2e869",
   "metadata": {},
   "outputs": [],
   "source": [
    "import uvicorn\n",
    "import nest_asyncio\n",
    "\n",
    "nest_asyncio.apply()\n",
    "\n",
    "# Start server synchronous\n",
    "uvicorn.run(app='main:app', host=\"0.0.0.0\", port=8000, reload=True, use_colors=True)"
   ]
  },
  {
   "cell_type": "markdown",
   "id": "c683b72a",
   "metadata": {},
   "source": [
    "We’ve started our FastAPI application, and are now waiting for incoming requests."
   ]
  },
  {
   "cell_type": "markdown",
   "id": "a41163c3",
   "metadata": {},
   "source": [
    "We can use curl again to try it out:"
   ]
  },
  {
   "cell_type": "markdown",
   "id": "d2726ea8",
   "metadata": {},
   "source": []
  },
  {
   "cell_type": "markdown",
   "id": "c9dd4f8d",
   "metadata": {},
   "source": [
    "![Image](https://storage.googleapis.com/rg-ai-bootcamp/langchain/curl-get.png)"
   ]
  },
  {
   "cell_type": "markdown",
   "id": "40b96869",
   "metadata": {},
   "source": [
    "So far, so good. Our API is up, running and has successfully responded to our request. But let’s consider a scenario. What if you want to share your newly built API with your colleagues or deploy it for a demo. Running the API on localhost won’t be visible to others on the internet."
   ]
  },
  {
   "cell_type": "markdown",
   "id": "b0311c97",
   "metadata": {},
   "source": [
    "This is where Ngrok comes into play. Ngrok is a fantastic tool that creates a secure tunnel from a public endpoint to your localhost. But before we can utilize it, we need a token. Let’s see how we can get this token:"
   ]
  },
  {
   "cell_type": "markdown",
   "id": "fa2b2672",
   "metadata": {},
   "source": [
    "Let’s illustrate the final step with an image:"
   ]
  },
  {
   "cell_type": "markdown",
   "id": "c4466a98",
   "metadata": {},
   "source": []
  },
  {
   "cell_type": "markdown",
   "id": "0b7a9329",
   "metadata": {},
   "source": [
    "![Image](https://storage.googleapis.com/rg-ai-bootcamp/langchain/ngrok-token.png)"
   ]
  },
  {
   "cell_type": "markdown",
   "id": "a4d92524",
   "metadata": {},
   "source": [
    "Remember to keep your token secure, as anyone with access to it can create a tunnel to your localhost."
   ]
  },
  {
   "cell_type": "markdown",
   "id": "f064dd16",
   "metadata": {},
   "source": [
    "Enter the token you have obtained"
   ]
  },
  {
   "cell_type": "code",
   "execution_count": null,
   "id": "a0a38e82",
   "metadata": {},
   "outputs": [],
   "source": [
    "your_ngrok_token = \"\" # @param {type:\"string\"} "
   ]
  },
  {
   "cell_type": "markdown",
   "id": "b12fd672",
   "metadata": {},
   "source": [
    "With the ngrok token in our hands, we are now ready to expose our local API to the world. Let’s set it up and give it a shot!"
   ]
  },
  {
   "cell_type": "markdown",
   "id": "0fddd7f0",
   "metadata": {},
   "source": [
    "Try api using pyngrok"
   ]
  },
  {
   "cell_type": "code",
   "execution_count": null,
   "id": "a140b3f7",
   "metadata": {},
   "outputs": [],
   "source": [
    "from pyngrok import ngrok\n",
    "import uvicorn\n",
    "\n",
    "# Setup ngrok\n",
    "ngrok.set_auth_token(your_ngrok_token)\n",
    "\n",
    "public_url = ngrok.connect(addr=\"8000\", proto=\"http\", bind_tls=True)\n",
    "print(f\"Public URL: {public_url}\")\n",
    "\n",
    "# Start server\n",
    "uvicorn.run(app='main:app', host=\"0.0.0.0\", port=8000, reload=True, use_colors=True)"
   ]
  },
  {
   "cell_type": "markdown",
   "id": "d3fa9686",
   "metadata": {},
   "source": [
    "Now we’re ready to share our API with the world! We’ve set up a secure tunnel using ngrok, and our API is now accessible from anywhere. You can easily share the public URL with others, and they can interact with your API in real-time."
   ]
  },
  {
   "cell_type": "markdown",
   "id": "062f9afe",
   "metadata": {},
   "source": [
    "Access the api endpoint via ngrok (click Visit Site)"
   ]
  },
  {
   "cell_type": "markdown",
   "id": "41c21c47",
   "metadata": {},
   "source": []
  },
  {
   "cell_type": "markdown",
   "id": "aaa6f78d",
   "metadata": {},
   "source": [
    "![Image](https://storage.googleapis.com/rg-ai-bootcamp/langchain/ngrok-warning-free.png)"
   ]
  },
  {
   "cell_type": "markdown",
   "id": "6934cf0f",
   "metadata": {},
   "source": [
    "Here’s a piece of advice! While ngrok is a fantastic tool, remember that the free version of ngrok includes certain limitations. It provides a random URL every time you start a new session, and the connections can occasionally be slow. For extensive use, consider opting for a paid plan."
   ]
  },
  {
   "cell_type": "markdown",
   "id": "54e9693c",
   "metadata": {},
   "source": [
    "Look at that! You’ve just given birth to your first API using FastAPI and made it accessible to the world through ngrok. This API now functions with a single endpoint at the root URL (‘/’) which offers a friendly welcome message. Isn’t it thrilling to witness your Python functions communicating with the world? This is just the beginning of your FastAPI journey. As you dive deeper, you’ll uncover its power to build more complex and powerful APIs. Happy exploring!"
   ]
  },
  {
   "cell_type": "markdown",
   "id": "ef89c07a",
   "metadata": {},
   "source": [
    "But before we wrap up, don’t forget to kill the server process when done!"
   ]
  },
  {
   "cell_type": "markdown",
   "id": "e46819ed",
   "metadata": {},
   "source": [
    "To do so, you need to find the process ID (PID) and kill it - the method varies depending on the operating system."
   ]
  },
  {
   "cell_type": "markdown",
   "id": "6e423e04",
   "metadata": {},
   "source": [
    "# API Endpoints & HTTP Methods: A Deeper Dive!"
   ]
  },
  {
   "cell_type": "markdown",
   "id": "54d393fb",
   "metadata": {},
   "source": [
    "Imagine you’re building an online store. You need to provide your users with a way to view products, add items to their shopping cart, and make purchases. This is where FastAPI’s ability to create multiple API endpoints and utilize different HTTP methods comes into play."
   ]
  },
  {
   "cell_type": "code",
   "execution_count": null,
   "id": "a27879cb",
   "metadata": {},
   "outputs": [],
   "source": [
    "%%writefile main.py\n",
    "from fastapi import FastAPI\n",
    "app = FastAPI()\n",
    "\n",
    "@app.get(\"/products\")\n",
    "def get_products():\n",
    "    return {\"message\": \"Display all products\"}\n",
    "\n",
    "@app.post(\"/cart/{item_id}\")\n",
    "def add_to_cart(item_id: int):\n",
    "    return {\"message\": f\"Added item with id {item_id} to the cart\"}\n",
    "\n",
    "@app.delete(\"/cart/{item_id}\")\n",
    "def remove_from_cart(item_id: int):\n",
    "    return {\"message\": f\"Removed item with id {item_id} from the cart\"}"
   ]
  },
  {
   "cell_type": "code",
   "execution_count": null,
   "id": "3802cc10",
   "metadata": {},
   "outputs": [],
   "source": [
    "Overwriting main.py"
   ]
  },
  {
   "cell_type": "markdown",
   "id": "02b4d1c6",
   "metadata": {},
   "source": [
    "Running localhost and ngrok:"
   ]
  },
  {
   "cell_type": "code",
   "execution_count": null,
   "id": "3fe19d5e",
   "metadata": {},
   "outputs": [],
   "source": [
    "from pyngrok import ngrok\n",
    "import uvicorn\n",
    "\n",
    "# Setup ngrok\n",
    "ngrok.set_auth_token(your_ngrok_token)\n",
    "\n",
    "public_url = ngrok.connect(addr=\"8000\", proto=\"http\", bind_tls=True)\n",
    "print(f\"Public URL: {public_url}\")\n",
    "\n",
    "# Start server\n",
    "uvicorn.run(app='main:app', host=\"0.0.0.0\", port=8000, reload=True, use_colors=True)"
   ]
  },
  {
   "cell_type": "markdown",
   "id": "65701008",
   "metadata": {},
   "source": [
    "Now to carry out tests, in Fast API there is an Interactive API docs feature where we can see detailed information about the API that we created and make test requests directly there."
   ]
  },
  {
   "cell_type": "markdown",
   "id": "2c252878",
   "metadata": {},
   "source": [
    "Now go to http://127.0.0.1:8000/docs or https://{ngrok-url}/docs"
   ]
  },
  {
   "cell_type": "markdown",
   "id": "c2cb9738",
   "metadata": {},
   "source": [
    "You will see the automatic interactive API documentation (provided by Swagger UI):"
   ]
  },
  {
   "cell_type": "markdown",
   "id": "eb582eb1",
   "metadata": {},
   "source": []
  },
  {
   "cell_type": "markdown",
   "id": "75d1f4ac",
   "metadata": {},
   "source": [
    "![Image](https://storage.googleapis.com/rg-ai-bootcamp/langchain/fast-api-swagger-docs.png)"
   ]
  },
  {
   "cell_type": "markdown",
   "id": "dd8c8566",
   "metadata": {},
   "source": [
    "Or you can use other alternatives is http://127.0.0.1:8000/redoc or https://{ngrok-url}/redoc"
   ]
  },
  {
   "cell_type": "markdown",
   "id": "4f736624",
   "metadata": {},
   "source": [
    "You will see the alternative automatic documentation (provided by ReDoc):"
   ]
  },
  {
   "cell_type": "markdown",
   "id": "60516b06",
   "metadata": {},
   "source": []
  },
  {
   "cell_type": "markdown",
   "id": "b5200ada",
   "metadata": {},
   "source": [
    "![Image](https://storage.googleapis.com/rg-ai-bootcamp/langchain/fast-api-swagger-redoc.png)"
   ]
  },
  {
   "cell_type": "markdown",
   "id": "3057035f",
   "metadata": {},
   "source": [
    "OK now, we will revise the previous code and add in-memory data structures for products and cart to make it more interactive:"
   ]
  },
  {
   "cell_type": "code",
   "execution_count": null,
   "id": "bd30a445",
   "metadata": {},
   "outputs": [],
   "source": [
    "%%writefile main.py\n",
    "from fastapi import FastAPI, HTTPException\n",
    "\n",
    "app = FastAPI()\n",
    "\n",
    "# Our product list - a dictionary where key is product id and value is product name\n",
    "products = {1: \"Sneakers\", 2: \"T-Shirt\", 3: \"Jeans\", 4: \"Sunglasses\", 5: \"Hat\"}\n",
    "\n",
    "# The shopping cart - a dictionary where key is product id and value is quantity\n",
    "cart = {}\n",
    "\n",
    "@app.get(\"/products\")\n",
    "def get_products():\n",
    "    return products\n",
    "\n",
    "@app.post(\"/cart/{product_id}\")\n",
    "def add_to_cart(product_id: int):\n",
    "    if product_id not in products:\n",
    "        raise HTTPException(status_code=404, detail=\"Product not found\")\n",
    "    if product_id in cart:\n",
    "        cart[product_id] += 1\n",
    "    else:\n",
    "        cart[product_id] = 1\n",
    "    return {\"message\": f\"Added {products[product_id]} to the cart\"}\n",
    "\n",
    "@app.delete(\"/cart/{product_id}\")\n",
    "def remove_from_cart(product_id: int):\n",
    "    if product_id not in cart:\n",
    "        raise HTTPException(status_code=404, detail=\"Product not in cart\")\n",
    "    cart[product_id] -= 1\n",
    "    if cart[product_id] == 0:\n",
    "        del cart[product_id]\n",
    "    return {\"message\": f\"Removed {products[product_id]} from the cart\"}\n",
    "\n",
    "@app.get(\"/cart\")\n",
    "def get_cart():\n",
    "    return {products[product_id]: quantity for product_id, quantity in cart.items()}"
   ]
  },
  {
   "cell_type": "markdown",
   "id": "72588d96",
   "metadata": {},
   "source": [
    "Running localhost and ngrok:"
   ]
  },
  {
   "cell_type": "code",
   "execution_count": null,
   "id": "833fa87e",
   "metadata": {},
   "outputs": [],
   "source": [
    "from pyngrok import ngrok\n",
    "import uvicorn\n",
    "\n",
    "# Setup ngrok\n",
    "ngrok.set_auth_token(your_ngrok_token)\n",
    "\n",
    "public_url = ngrok.connect(addr=\"8000\", proto=\"http\", bind_tls=True)\n",
    "print(f\"Public URL: {public_url}\")\n",
    "\n",
    "# Start server\n",
    "uvicorn.run(app='main:app', host=\"0.0.0.0\", port=8000, reload=True, use_colors=True)"
   ]
  },
  {
   "cell_type": "markdown",
   "id": "83cb12c6",
   "metadata": {},
   "source": [
    "Now, our API server can handle the following requests: - GET requests to /products to view all products. - POST requests to /cart/{product_id} to add products to the cart. - DELETE requests to /cart/{product_id} to remove products from the cart. - GET requests to /cart to view the cart contents."
   ]
  },
  {
   "cell_type": "markdown",
   "id": "066e4566",
   "metadata": {},
   "source": [
    "Go to http://127.0.0.1:8000/docs, https://{ngrok-url}/docs or http://127.0.0.1:8000/redoc or https://{ngrok-url}/redoc for interactive documentation your API"
   ]
  },
  {
   "cell_type": "markdown",
   "id": "53b8a52c",
   "metadata": {},
   "source": [
    "# Working with JSON Responses and Requests"
   ]
  },
  {
   "cell_type": "markdown",
   "id": "9126456b",
   "metadata": {},
   "source": [
    "All the data exchanged between the client and server in our online store scenario happens in the form of JSON. FastAPI makes it ultra-easy to handle JSON data."
   ]
  },
  {
   "cell_type": "markdown",
   "id": "a5da3b44",
   "metadata": {},
   "source": [
    "Let’s say, instead of adding one product at a time to the cart, we want to allow customers to add multiple products at once. They can send a list of product IDs as JSON data in a POST request, and FastAPI will automatically convert it to a Python list for us."
   ]
  },
  {
   "cell_type": "code",
   "execution_count": null,
   "id": "df88dd3b",
   "metadata": {},
   "outputs": [],
   "source": [
    "%%writefile main.py\n",
    "from typing import List\n",
    "from fastapi import FastAPI, HTTPException\n",
    "\n",
    "app = FastAPI()\n",
    "\n",
    "# Our product list - a dictionary where key is product id and value is product name\n",
    "products = {1: \"Sneakers\", 2: \"T-Shirt\", 3: \"Jeans\", 4: \"Sunglasses\", 5: \"Hat\"}\n",
    "\n",
    "# The shopping cart - a dictionary where key is product id and value is quantity\n",
    "cart = {}\n",
    "\n",
    "@app.post(\"/cart/items\")\n",
    "async def add_items_to_cart(item_ids: List[int]):\n",
    "    not_found_ids = [item_id for item_id in item_ids if item_id not in products]\n",
    "    if not_found_ids:\n",
    "        raise HTTPException(status_code=404, detail=f\"Products with ids {not_found_ids} were not found.\")\n",
    "    \n",
    "    for item_id in item_ids:\n",
    "        if item_id in cart:\n",
    "            cart[item_id] += 1\n",
    "        else:\n",
    "            cart[item_id] = 1\n",
    "    response = {products[item_id]: quantity for item_id, quantity in cart.items()}\n",
    "    return response"
   ]
  },
  {
   "cell_type": "markdown",
   "id": "c7460041",
   "metadata": {},
   "source": [
    "Running localhost and ngrok:"
   ]
  },
  {
   "cell_type": "code",
   "execution_count": null,
   "id": "4e151637",
   "metadata": {},
   "outputs": [],
   "source": [
    "from pyngrok import ngrok\n",
    "import uvicorn\n",
    "\n",
    "# Setup ngrok\n",
    "ngrok.set_auth_token(your_ngrok_token)\n",
    "\n",
    "public_url = ngrok.connect(addr=\"8000\", proto=\"http\", bind_tls=True)\n",
    "print(f\"Public URL: {public_url}\")\n",
    "\n",
    "# Start server\n",
    "uvicorn.run(app='main:app', host=\"0.0.0.0\", port=8000, reload=True, use_colors=True)"
   ]
  },
  {
   "cell_type": "markdown",
   "id": "fdfb911f",
   "metadata": {},
   "source": [
    "Customers can now perform the following actions: - Add multiple items to the cart in one go by: - Sending a POST request to /cart/items with a JSON array of product ids. - FastAPI will automatically parse the JSON data into a Python list. - Corresponding products will be added to the cart. - If a product is not found in our store: - The system will raise an HTTPException with a 404 status code."
   ]
  },
  {
   "cell_type": "markdown",
   "id": "d8d689a5",
   "metadata": {},
   "source": [
    "Go to http://127.0.0.1:8000/docs, https://{ngrok-url}/docs or http://127.0.0.1:8000/redoc or https://{ngrok-url}/redoc for interactive documentation your API"
   ]
  },
  {
   "cell_type": "markdown",
   "id": "d3a134d9",
   "metadata": {},
   "source": [
    "# Handling Errors Gracefully"
   ]
  },
  {
   "cell_type": "markdown",
   "id": "d0ed51b8",
   "metadata": {},
   "source": [
    "In an ideal world, users would always use our online store API perfectly. They’d only add products that exist, they wouldn’t attempt to remove products from an empty cart, and they certainly wouldn’t try to buy more products than we have in stock."
   ]
  },
  {
   "cell_type": "markdown",
   "id": "08a33b61",
   "metadata": {},
   "source": [
    "But we don’t live in an ideal world."
   ]
  },
  {
   "cell_type": "markdown",
   "id": "155b33cf",
   "metadata": {},
   "source": [
    "Thankfully, FastAPI provides an easy way to handle errors and raise HTTP exceptions with meaningful error messages."
   ]
  },
  {
   "cell_type": "code",
   "execution_count": null,
   "id": "dd31250b",
   "metadata": {},
   "outputs": [],
   "source": [
    "%%writefile main.py\n",
    "from typing import List\n",
    "from fastapi import FastAPI, HTTPException\n",
    "\n",
    "app = FastAPI()\n",
    "\n",
    "# Our product list - a dictionary where key is product id and value is product name\n",
    "products = {1: \"Sneakers\", 2: \"T-Shirt\", 3: \"Jeans\", 4: \"Sunglasses\", 5: \"Hat\"}\n",
    "\n",
    "# The shopping cart - a dictionary where key is product id and value is quantity\n",
    "cart = {}\n",
    "\n",
    "@app.get(\"/products/{product_id}\")\n",
    "async def get_product(product_id: int):\n",
    "    if product_id not in products:\n",
    "        raise HTTPException(status_code=404, detail=f\"No product found with id {product_id}.\")\n",
    "    return {product_id: products[product_id]}\n",
    "\n",
    "@app.post(\"/cart/items\")\n",
    "async def add_items_to_cart(item_ids: List[int]):\n",
    "    not_found_ids = [item_id for item_id in item_ids if item_id not in products]\n",
    "    if not_found_ids:\n",
    "        raise HTTPException(status_code=404, detail=f\"Products with ids {not_found_ids} were not found.\")\n",
    "    \n",
    "    for item_id in item_ids:\n",
    "        if item_id in cart:\n",
    "            cart[item_id] += 1\n",
    "        else:\n",
    "            cart[item_id] = 1\n",
    "    response = {products[item_id]: quantity for item_id, quantity in cart.items()}\n",
    "    return response\n",
    "\n",
    "@app.delete(\"/cart/{product_id}\")\n",
    "async def remove_from_cart(product_id: int):\n",
    "    if product_id not in cart:\n",
    "        raise HTTPException(status_code=404, detail=\"Product not in cart.\")\n",
    "    cart[product_id] -= 1\n",
    "    if cart[product_id] == 0:\n",
    "        del cart[product_id]\n",
    "    return {\"message\": f\"Removed {products[product_id]} from the cart\"}"
   ]
  },
  {
   "cell_type": "code",
   "execution_count": null,
   "id": "7ceb1ad4",
   "metadata": {},
   "outputs": [],
   "source": [
    "Overwriting main.py"
   ]
  },
  {
   "cell_type": "markdown",
   "id": "d04116de",
   "metadata": {},
   "source": [
    "Running localhost and ngrok:"
   ]
  },
  {
   "cell_type": "code",
   "execution_count": null,
   "id": "f9b9f078",
   "metadata": {},
   "outputs": [],
   "source": [
    "from pyngrok import ngrok\n",
    "import uvicorn\n",
    "\n",
    "# Setup ngrok\n",
    "ngrok.set_auth_token(your_ngrok_token)\n",
    "\n",
    "public_url = ngrok.connect(addr=\"8000\", proto=\"http\", bind_tls=True)\n",
    "print(f\"Public URL: {public_url}\")\n",
    "\n",
    "# Start server\n",
    "uvicorn.run(app='main:app', host=\"0.0.0.0\", port=8000, reload=True, use_colors=True)"
   ]
  },
  {
   "cell_type": "markdown",
   "id": "a84b8973",
   "metadata": {},
   "source": [
    "In this script, we’ve enhanced our API endpoints to handle common error cases such as: - If a user tries to view a product that doesn’t exist. - If a user tries to add a non-existent product to their cart. - If a user tries to remove a product from an empty cart."
   ]
  },
  {
   "cell_type": "markdown",
   "id": "aedd3334",
   "metadata": {},
   "source": [
    "In these instances, FastAPI will: - Raise an HTTPException with a 404 status code. - Provide a descriptive error message."
   ]
  },
  {
   "cell_type": "markdown",
   "id": "e0d81aaf",
   "metadata": {},
   "source": [
    "We have performed tests on these enhancements: - Made a GET request to the /products/{product_id} endpoint with a non-existent product id. - As expected, our API returned a 404 status code with an appropriate error message."
   ]
  },
  {
   "cell_type": "markdown",
   "id": "fb771f6d",
   "metadata": {},
   "source": [
    "Go to http://127.0.0.1:8000/docs, https://{ngrok-url}/docs or http://127.0.0.1:8000/redoc or https://{ngrok-url}/redoc for interactive documentation your API"
   ]
  },
  {
   "cell_type": "markdown",
   "id": "450a493d",
   "metadata": {},
   "source": [
    "# Rendering HTML"
   ]
  },
  {
   "cell_type": "markdown",
   "id": "64304cbe",
   "metadata": {},
   "source": [
    "FastAPI is not limited to exchange JSON data. It can also handle and render HTML. This is useful if, besides the API, you want to have an introductory web page for your online store. All we need to do is return a multiline string (enclosed in triple quotes) containing our HTML code."
   ]
  },
  {
   "cell_type": "code",
   "execution_count": null,
   "id": "9ab06c11",
   "metadata": {},
   "outputs": [],
   "source": [
    "%%writefile main.py\n",
    "from fastapi import FastAPI\n",
    "from starlette.responses import HTMLResponse\n",
    "\n",
    "app = FastAPI()\n",
    "\n",
    "@app.get(\"/home\", response_class=HTMLResponse)\n",
    "async def get_home():\n",
    "    return \"\"\"\n",
    "    <html>\n",
    "        <head>\n",
    "            <title> Welcome to Our Online Store </title>\n",
    "        </head>\n",
    "        <body>\n",
    "            <p> Welcome to our online store! Check out our products <a href=\"/products\">here</a>. </p>\n",
    "        </body>\n",
    "    </html>\n",
    "    \"\"\""
   ]
  },
  {
   "cell_type": "code",
   "execution_count": null,
   "id": "913dbf92",
   "metadata": {},
   "outputs": [],
   "source": [
    "Overwriting main.py"
   ]
  },
  {
   "cell_type": "markdown",
   "id": "7a4bfa1b",
   "metadata": {},
   "source": [
    "Running localhost and ngrok:"
   ]
  },
  {
   "cell_type": "code",
   "execution_count": null,
   "id": "0ce6f0b1",
   "metadata": {},
   "outputs": [],
   "source": [
    "from pyngrok import ngrok\n",
    "import uvicorn\n",
    "\n",
    "# Setup ngrok\n",
    "ngrok.set_auth_token(your_ngrok_token)\n",
    "\n",
    "public_url = ngrok.connect(addr=\"8000\", proto=\"http\", bind_tls=True)\n",
    "print(f\"Public URL: {public_url}\")\n",
    "\n",
    "# Start server\n",
    "uvicorn.run(app='main:app', host=\"0.0.0.0\", port=8000, reload=True, use_colors=True)"
   ]
  },
  {
   "cell_type": "markdown",
   "id": "3f99346c",
   "metadata": {},
   "source": [
    "Now, when someone visits the “/home” endpoint of our API, FastAPI will respond with a simple HTML page. The response_class=HTMLResponse argument tells FastAPI to convert the returned string into HTML."
   ]
  },
  {
   "cell_type": "markdown",
   "id": "096c7df6",
   "metadata": {},
   "source": [
    "Let’s navigate to the home page."
   ]
  },
  {
   "cell_type": "markdown",
   "id": "6e941d69",
   "metadata": {},
   "source": []
  },
  {
   "cell_type": "markdown",
   "id": "ab5ea070",
   "metadata": {},
   "source": [
    "![Image](https://storage.googleapis.com/rg-ai-bootcamp/langchain/fast-api-html.png)"
   ]
  },
  {
   "cell_type": "markdown",
   "id": "df17018f",
   "metadata": {},
   "source": [
    "As you can see, our API correctly returns an HTML response for the “/home” endpoint."
   ]
  },
  {
   "cell_type": "markdown",
   "id": "61819af7",
   "metadata": {},
   "source": [
    "In this script, we’ve defined a new /home endpoint that returns an HTML response, effectively serving a simple web page. The response_class=HTMLResponse argument tells FastAPI to convert the returned string into HTML. We then make a GET request to this endpoint and print the HTML response."
   ]
  },
  {
   "cell_type": "markdown",
   "id": "c1b76413",
   "metadata": {},
   "source": [
    "# Path Parameters and Query Parameters"
   ]
  },
  {
   "cell_type": "markdown",
   "id": "83d72fba",
   "metadata": {},
   "source": [
    "Path parameters and query parameters are two ways to pass dynamic information to an API."
   ]
  },
  {
   "cell_type": "markdown",
   "id": "36498953",
   "metadata": {},
   "source": [
    "First, let’s start with path parameters. These allow us to pass information via the URL path. We have already used path parameters in our /cart/{product_id} endpoints. Let’s add one more endpoint which gives us the details of a specific product."
   ]
  },
  {
   "cell_type": "code",
   "execution_count": null,
   "id": "c9b1fe8d",
   "metadata": {},
   "outputs": [],
   "source": [
    "%%writefile main.py\n",
    "from fastapi import FastAPI, HTTPException\n",
    "\n",
    "app = FastAPI()\n",
    "\n",
    "# Our product list - a dictionary where key is product id and value is product name\n",
    "products = {1: \"Sneakers\", 2: \"T-Shirt\", 3: \"Jeans\", 4: \"Sunglasses\", 5: \"Hat\"}\n",
    "\n",
    "@app.get(\"/product/{product_id}\")\n",
    "async def get_product_detail(product_id: int):\n",
    "    if product_id not in products:\n",
    "        raise HTTPException(status_code=404, detail=f\"No product found with id {product_id}.\")\n",
    "    return {product_id: products[product_id]}"
   ]
  },
  {
   "cell_type": "code",
   "execution_count": null,
   "id": "e770ebb3",
   "metadata": {},
   "outputs": [],
   "source": [
    "Overwriting main.py"
   ]
  },
  {
   "cell_type": "markdown",
   "id": "7aca253a",
   "metadata": {},
   "source": [
    "Run in terminal with command: uvicorn main:app --reload and now, a user can get the details of a single product by passing the product id in the URL, such as ‘/product/1’."
   ]
  },
  {
   "cell_type": "markdown",
   "id": "90aea8ca",
   "metadata": {},
   "source": [
    "Let’s try to get the details of a product with id 1 using another terminal curl http://127.0.0.1:8000/product/1"
   ]
  },
  {
   "cell_type": "markdown",
   "id": "e87efa6d",
   "metadata": {},
   "source": []
  },
  {
   "cell_type": "markdown",
   "id": "20d26d18",
   "metadata": {},
   "source": [
    "![Image](https://storage.googleapis.com/rg-ai-bootcamp/langchain/bash-fast-params.png)"
   ]
  },
  {
   "cell_type": "markdown",
   "id": "9a62be76",
   "metadata": {},
   "source": [
    "Great, it works!"
   ]
  },
  {
   "cell_type": "markdown",
   "id": "aa6bf8a8",
   "metadata": {},
   "source": [
    "Now, let’s move on to query parameters. These offer another way to pass dynamic information to an API, but via the URL query string (the part of the URL after the ‘?’)."
   ]
  },
  {
   "cell_type": "markdown",
   "id": "54fdff29",
   "metadata": {},
   "source": [
    "Let’s say we want to allow users to filter the products by part of their names. We can do that by introducing a query parameter:"
   ]
  },
  {
   "cell_type": "code",
   "execution_count": null,
   "id": "4d4ca002",
   "metadata": {},
   "outputs": [],
   "source": [
    "%%writefile main.py\n",
    "from fastapi import FastAPI\n",
    "from typing import Optional\n",
    "\n",
    "app = FastAPI()\n",
    "\n",
    "# Our product list - a dictionary where key is product id and value is product name\n",
    "products = {1: \"Sneakers\", 2: \"T-Shirt\", 3: \"Jeans\", 4: \"Sunglasses\", 5: \"Hat\"}\n",
    "\n",
    "@app.get(\"/search\")\n",
    "async def search_products(q: Optional[str] = None):\n",
    "    if q:\n",
    "        return {product_id: name for product_id, name in products.items() if q.lower() in name.lower()}\n",
    "    else:\n",
    "        return products"
   ]
  },
  {
   "cell_type": "code",
   "execution_count": null,
   "id": "5d49c70a",
   "metadata": {},
   "outputs": [],
   "source": [
    "Overwriting main.py"
   ]
  },
  {
   "cell_type": "markdown",
   "id": "fc11042a",
   "metadata": {},
   "source": [
    "Run in terminal with command: uvicorn main:app --reload and now, users can search for products by including a ‘q’ parameter in the URL, like ‘/search?q=Sneakers’."
   ]
  },
  {
   "cell_type": "markdown",
   "id": "d733fe65",
   "metadata": {},
   "source": [
    "Let’s try to search product with q “Jeans” using another terminal curl http://127.0.0.1:8000/search?q=Jeans"
   ]
  },
  {
   "cell_type": "markdown",
   "id": "72c57610",
   "metadata": {},
   "source": []
  },
  {
   "cell_type": "markdown",
   "id": "537b6566",
   "metadata": {},
   "source": [
    "![Image](https://storage.googleapis.com/rg-ai-bootcamp/langchain/bash-fast-query.png)"
   ]
  },
  {
   "cell_type": "markdown",
   "id": "4317a8e0",
   "metadata": {},
   "source": [
    "As you can see, our API correctly returned the product that matches our search query."
   ]
  },
  {
   "cell_type": "markdown",
   "id": "fec511f8",
   "metadata": {},
   "source": [
    "In this code, we’ve made the following enhancements to our API: - Accepted dynamic path and query parameters. - Added a /product/{product_id} endpoint that: - Returns the details of a specific product based on the product id passed in the URL. - Added a /search endpoint that: - Allows users to filter the products based on a search query. - The search query is passed as a query parameter in the URL."
   ]
  },
  {
   "cell_type": "markdown",
   "id": "40745db5",
   "metadata": {},
   "source": [
    "We then performed tests on these enhancements: - Made GET requests to these endpoints. - Printed the responses for verification."
   ]
  },
  {
   "cell_type": "markdown",
   "id": "50e34632",
   "metadata": {},
   "source": [
    "# Project Example: Text Generation API Using Hugging Face’s Transformers"
   ]
  },
  {
   "cell_type": "markdown",
   "id": "509e1eae",
   "metadata": {},
   "source": [
    "Imagine you’ve crafted an amazing GPT-2 model that can generate witty text, mimicking the style of famous authors. You’re quite thrilled with this digital author and now you want to share your AI-powered wordsmith with the world. How can you make this happen? You guessed it - let’s build an API with FastAPI!"
   ]
  },
  {
   "cell_type": "markdown",
   "id": "cd918d8f",
   "metadata": {},
   "source": [
    "Before we embark on this journey, we need to ensure that we have all the necessary tools. We will install two indispensable libraries, Transformers and Torch, using pip:"
   ]
  },
  {
   "cell_type": "code",
   "execution_count": null,
   "id": "486d9f4d",
   "metadata": {},
   "outputs": [],
   "source": [
    "%pip install transformers torch"
   ]
  },
  {
   "cell_type": "markdown",
   "id": "0f4420fd",
   "metadata": {},
   "source": [
    "# Setting Up the Text Generation Model"
   ]
  },
  {
   "cell_type": "markdown",
   "id": "3d589833",
   "metadata": {},
   "source": [
    "Now, let’s prepare our AI author by setting up a pipeline for text generation with the GPT-2 model from Hugging Face’s Transformers library:"
   ]
  },
  {
   "cell_type": "code",
   "execution_count": null,
   "id": "6406c2c9",
   "metadata": {},
   "outputs": [],
   "source": [
    "from transformers import pipeline\n",
    "\n",
    "generator = pipeline('text-generation', model='gpt2')"
   ]
  },
  {
   "cell_type": "markdown",
   "id": "8440e330",
   "metadata": {},
   "source": [
    "With our generator in place, we’re ready to start creating masterpieces!"
   ]
  },
  {
   "cell_type": "markdown",
   "id": "be395619",
   "metadata": {},
   "source": [
    "# Building the Text Generation API"
   ]
  },
  {
   "cell_type": "markdown",
   "id": "2327493b",
   "metadata": {},
   "source": [
    "Now, we’re going to design an API that allows users to feed a string of text to our AI author, who will then generate a piece of text based on the input:"
   ]
  },
  {
   "cell_type": "code",
   "execution_count": null,
   "id": "c1a3ccbb",
   "metadata": {},
   "outputs": [],
   "source": [
    "%%writefile main.py\n",
    "from fastapi import FastAPI\n",
    "from pydantic import BaseModel\n",
    "from transformers import pipeline\n",
    "\n",
    "generator = pipeline('text-generation', model='gpt2')\n",
    "\n",
    "class Item(BaseModel):\n",
    "    text: str\n",
    "\n",
    "app = FastAPI()\n",
    "\n",
    "@app.post(\"/api/generate\")\n",
    "def generate_text(item: Item):\n",
    "    # Generate text\n",
    "    outputs = generator(item.text, max_length=150, num_return_sequences=5, no_repeat_ngram_size=2)\n",
    "    generated_text = [output['generated_text'] for output in outputs]\n",
    "\n",
    "    return {\"message\": \"Text generated!\", \"generated_text\": generated_text}"
   ]
  },
  {
   "cell_type": "code",
   "execution_count": null,
   "id": "7c2376c9",
   "metadata": {},
   "outputs": [],
   "source": [
    "Overwriting main.py"
   ]
  },
  {
   "cell_type": "markdown",
   "id": "a25e84d5",
   "metadata": {},
   "source": [
    "Running localhost and ngrok:"
   ]
  },
  {
   "cell_type": "code",
   "execution_count": null,
   "id": "6c4a6d99",
   "metadata": {},
   "outputs": [],
   "source": [
    "from pyngrok import ngrok\n",
    "import uvicorn\n",
    "\n",
    "# Setup ngrok\n",
    "ngrok.set_auth_token(your_ngrok_token)\n",
    "\n",
    "public_url = ngrok.connect(addr=\"8000\", proto=\"http\", bind_tls=True)\n",
    "print(f\"Public URL: {public_url}\")\n",
    "\n",
    "# Start server\n",
    "uvicorn.run(app='main:app', host=\"0.0.0.0\", port=8000, reload=True, use_colors=True)"
   ]
  },
  {
   "cell_type": "markdown",
   "id": "de1b40c6",
   "metadata": {},
   "source": [
    "And there you have it! We’ve just created an endpoint ‘/api/generate’ that accepts POST requests. This endpoint expects a string of text as input in the form of JSON data. It takes this text, feeds it to our AI author, and in response, provides five unique continuations of the initial text."
   ]
  },
  {
   "cell_type": "markdown",
   "id": "f36a7729",
   "metadata": {},
   "source": [
    "Go to http://127.0.0.1:8000/docs, https://{ngrok-url}/docs or http://127.0.0.1:8000/redoc or https://{ngrok-url}/redoc for interactive documentation your API"
   ]
  },
  {
   "cell_type": "markdown",
   "id": "37916e3f",
   "metadata": {},
   "source": [
    "With FastAPI and Hugging Face’s Transformers, you’ve just turned your local GPT-2 model into a globally accessible AI-powered author. This is the beauty of APIs in machine learning. This project is a foundation upon which you can build more complex APIs, integrating different models and tasks to suit your needs."
   ]
  },
  {
   "cell_type": "markdown",
   "id": "d93f5107",
   "metadata": {},
   "source": [
    "# Wrapping Up"
   ]
  },
  {
   "cell_type": "markdown",
   "id": "1a4fc1b6",
   "metadata": {},
   "source": [
    "FastAPI provides an intuitive and flexible way to build robust APIs, and you’ve just scratched the surface by designing an API for text generation with a GPT-2 model. We walked through setting up endpoints, handling JSON data, routing, error handling, and making our API globally accessible with ngrok. We also took a deep dive into the dynamic world of path and query parameters."
   ]
  },
  {
   "cell_type": "markdown",
   "id": "37d7201f",
   "metadata": {},
   "source": [
    "Equipped with these tools, you’re now set to construct comprehensive, powerful, and secure APIs. Keep practicing, keep exploring, and before you know it, you’ll be an accomplished FastAPI maestro!"
   ]
  }
 ],
 "metadata": {},
 "nbformat": 4,
 "nbformat_minor": 5
}
