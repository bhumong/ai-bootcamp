{
 "cells": [
  {
   "cell_type": "markdown",
   "id": "edf73595",
   "metadata": {},
   "source": [
    "source: [link](https://ai-bootcamp.ruangguru.com/learn/08_langchain/01_fast_api.html)"
   ]
  },
  {
   "cell_type": "markdown",
   "id": "b1ff1911",
   "metadata": {},
   "source": [
    "# API with FastAPI"
   ]
  },
  {
   "cell_type": "markdown",
   "id": "51704536",
   "metadata": {},
   "source": [
    "Picture this - You’ve spent endless hours meticulously gathering data, performing feature engineering, tuning hyperparameters, and training a machine learning model. This model has surpassed your expectations, delivering excellent results and insightful predictions. You’re thrilled, filled with a sense of achievement, and now you’re eager to share this AI marvel with the world. But there’s a catch - how do you make this trained model accessible to others? How do you turn this static, local file into a dynamic and interactive service?"
   ]
  },
  {
   "cell_type": "markdown",
   "id": "0387279a",
   "metadata": {},
   "source": [
    "This is where APIs (Application Programming Interfaces) and FastAPI come to the rescue!"
   ]
  },
  {
   "cell_type": "markdown",
   "id": "8b7f18db",
   "metadata": {},
   "source": [
    "# APIs: The Heroes of Connectivity"
   ]
  },
  {
   "cell_type": "markdown",
   "id": "233b80c5",
   "metadata": {},
   "source": [
    "An API is essentially a set of rules that specify how different software applications should interact and communicate. APIs discreetly expose the functions of an application in a secure way, making them available for other applications to utilize. They are like diplomats, fostering relations and enabling seamless data transfer between different software systems."
   ]
  },
  {
   "cell_type": "markdown",
   "id": "5a571d67",
   "metadata": {},
   "source": []
  },
  {
   "cell_type": "markdown",
   "id": "1fca603e",
   "metadata": {},
   "source": [
    "![Image](https://storage.googleapis.com/rg-ai-bootcamp/langchain/api-flow.png)"
   ]
  },
  {
   "cell_type": "markdown",
   "id": "3e28adb8",
   "metadata": {},
   "source": [
    "API flow (sumber www.piworks.net)"
   ]
  },
  {
   "cell_type": "markdown",
   "id": "42b08c2c",
   "metadata": {},
   "source": [
    "# FastAPI: The Speedy Python-to-Web Translator"
   ]
  },
  {
   "cell_type": "markdown",
   "id": "f4281d2d",
   "metadata": {},
   "source": [
    "Now, let’s talk about FastAPI. FastAPI is a modern, fast (high-performance), web framework for building APIs with Python 3.6+ based on standard Python type hints. This handy tool is your go-to solution for setting up a simple yet powerful API. It enables you to map Python functions to specific URLs, transforming these operations into network-accessible services."
   ]
  },
  {
   "cell_type": "markdown",
   "id": "e784f67f",
   "metadata": {},
   "source": [
    "On Your Marks, Get Set, FastAPI!"
   ]
  },
  {
   "cell_type": "markdown",
   "id": "700cf990",
   "metadata": {},
   "source": [
    "Excited? Let’s dive right into crafting APIs with FastAPI! Before we set sail, ensure FastAPI is installed. You can do this using pip:"
   ]
  },
  {
   "cell_type": "code",
   "execution_count": null,
   "id": "9f510f0b",
   "metadata": {},
   "outputs": [],
   "source": [
    "%pip install fastapi uvicorn pyngrok"
   ]
  },
  {
   "cell_type": "markdown",
   "id": "8e4481de",
   "metadata": {},
   "source": [
    "# Igniting the FastAPI"
   ]
  },
  {
   "cell_type": "markdown",
   "id": "73d882b1",
   "metadata": {},
   "source": [
    "Let’s kick-start our FastAPI adventure by initiating a basic application:"
   ]
  },
  {
   "cell_type": "code",
   "execution_count": null,
   "id": "ab863033",
   "metadata": {},
   "outputs": [],
   "source": [
    "%%writefile main.py\n",
    "\n",
    "from fastapi import FastAPI\n",
    "\n",
    "app = FastAPI()\n",
    "\n",
    "@app.get(\"/\")\n",
    "def read_root():\n",
    "    return {\"Welcome\": \"Welcome to our API!\"}"
   ]
  },
  {
   "cell_type": "code",
   "execution_count": null,
   "id": "772994ac",
   "metadata": {},
   "outputs": [],
   "source": [
    "Overwriting main.py"
   ]
  },
  {
   "cell_type": "markdown",
   "id": "a14748c2",
   "metadata": {},
   "source": [
    "The cell above will create a main.py file (or overwrite it if it already exists) according to the code in that cell but using the magic command %%writefile main.py"
   ]
  },
  {
   "cell_type": "markdown",
   "id": "efe6a3a8",
   "metadata": {},
   "source": [
    "Now we can run main.py using Uvicorn. What is Uvicorn? 🤔 This is a very fast ASGI server implementation, used to serve your FastAPI applications. ASGI, short for Asynchronous Server Gateway Interface, is a standard interface between web servers, frameworks, and async-enabled Python applications. Uvicorn serves as a bridge between your FastAPI applications and the outside world."
   ]
  },
  {
   "cell_type": "markdown",
   "id": "5b72a6c1",
   "metadata": {},
   "source": [
    "Use the command below in your terminal to run the application"
   ]
  },
  {
   "cell_type": "code",
   "execution_count": null,
   "id": "e13eca70",
   "metadata": {},
   "outputs": [],
   "source": [
    "uvicorn main:app --reload"
   ]
  },
  {
   "cell_type": "markdown",
   "id": "73736e7f",
   "metadata": {},
   "source": [
    "Note: make sure the directory position of your terminal is the same as the main.py file"
   ]
  },
  {
   "cell_type": "markdown",
   "id": "09003120",
   "metadata": {},
   "source": []
  },
  {
   "cell_type": "markdown",
   "id": "a05f2c9c",
   "metadata": {},
   "source": [
    "![Image](https://storage.googleapis.com/rg-ai-bootcamp/langchain/fast-api-running.png)"
   ]
  },
  {
   "cell_type": "markdown",
   "id": "6483a565",
   "metadata": {},
   "source": [
    "Congratulations! You have just kindled the first sparks of your FastAPI application. With just a few lines of code, you’ve transformed a simple python function into a full-fledged API service."
   ]
  },
  {
   "cell_type": "markdown",
   "id": "ed119478",
   "metadata": {},
   "source": [
    "But how do we know if it’s working? 🤔 You can try with curl:"
   ]
  },
  {
   "cell_type": "markdown",
   "id": "3ea06d6f",
   "metadata": {},
   "source": []
  },
  {
   "cell_type": "markdown",
   "id": "33fc758c",
   "metadata": {},
   "source": [
    "![Image](https://storage.googleapis.com/rg-ai-bootcamp/langchain/curl-get.png)"
   ]
  },
  {
   "cell_type": "markdown",
   "id": "069faba6",
   "metadata": {},
   "source": [
    "What if we want to run it in the Jupyter Notebook cell? 🤔 Let’s send a request to our new application and see what happens."
   ]
  },
  {
   "cell_type": "code",
   "execution_count": null,
   "id": "c13e4785",
   "metadata": {},
   "outputs": [],
   "source": [
    "import uvicorn\n",
    "import nest_asyncio\n",
    "\n",
    "nest_asyncio.apply()\n",
    "\n",
    "# Start server synchronous\n",
    "uvicorn.run(app='main:app', host=\"0.0.0.0\", port=8000, reload=True, use_colors=True)"
   ]
  },
  {
   "cell_type": "markdown",
   "id": "48d83ea8",
   "metadata": {},
   "source": [
    "We’ve started our FastAPI application, and are now waiting for incoming requests."
   ]
  },
  {
   "cell_type": "markdown",
   "id": "9dedb863",
   "metadata": {},
   "source": [
    "We can use curl again to try it out:"
   ]
  },
  {
   "cell_type": "markdown",
   "id": "0c1c3ee3",
   "metadata": {},
   "source": []
  },
  {
   "cell_type": "markdown",
   "id": "dfc24022",
   "metadata": {},
   "source": [
    "![Image](https://storage.googleapis.com/rg-ai-bootcamp/langchain/curl-get.png)"
   ]
  },
  {
   "cell_type": "markdown",
   "id": "ca1d8343",
   "metadata": {},
   "source": [
    "So far, so good. Our API is up, running and has successfully responded to our request. But let’s consider a scenario. What if you want to share your newly built API with your colleagues or deploy it for a demo. Running the API on localhost won’t be visible to others on the internet."
   ]
  },
  {
   "cell_type": "markdown",
   "id": "8657999c",
   "metadata": {},
   "source": [
    "This is where Ngrok comes into play. Ngrok is a fantastic tool that creates a secure tunnel from a public endpoint to your localhost. But before we can utilize it, we need a token. Let’s see how we can get this token:"
   ]
  },
  {
   "cell_type": "markdown",
   "id": "d75fb70e",
   "metadata": {},
   "source": [
    "Let’s illustrate the final step with an image:"
   ]
  },
  {
   "cell_type": "markdown",
   "id": "271a7f32",
   "metadata": {},
   "source": []
  },
  {
   "cell_type": "markdown",
   "id": "a3836bb5",
   "metadata": {},
   "source": [
    "![Image](https://storage.googleapis.com/rg-ai-bootcamp/langchain/ngrok-token.png)"
   ]
  },
  {
   "cell_type": "markdown",
   "id": "2277fa9c",
   "metadata": {},
   "source": [
    "Remember to keep your token secure, as anyone with access to it can create a tunnel to your localhost."
   ]
  },
  {
   "cell_type": "markdown",
   "id": "e709219c",
   "metadata": {},
   "source": [
    "Enter the token you have obtained"
   ]
  },
  {
   "cell_type": "code",
   "execution_count": null,
   "id": "54e5e4d6",
   "metadata": {},
   "outputs": [],
   "source": [
    "your_ngrok_token = \"\" # @param {type:\"string\"} "
   ]
  },
  {
   "cell_type": "markdown",
   "id": "ebc367df",
   "metadata": {},
   "source": [
    "With the ngrok token in our hands, we are now ready to expose our local API to the world. Let’s set it up and give it a shot!"
   ]
  },
  {
   "cell_type": "markdown",
   "id": "82d4df8e",
   "metadata": {},
   "source": [
    "Try api using pyngrok"
   ]
  },
  {
   "cell_type": "code",
   "execution_count": null,
   "id": "999de86a",
   "metadata": {},
   "outputs": [],
   "source": [
    "from pyngrok import ngrok\n",
    "import uvicorn\n",
    "\n",
    "# Setup ngrok\n",
    "ngrok.set_auth_token(your_ngrok_token)\n",
    "\n",
    "public_url = ngrok.connect(addr=\"8000\", proto=\"http\", bind_tls=True)\n",
    "print(f\"Public URL: {public_url}\")\n",
    "\n",
    "# Start server\n",
    "uvicorn.run(app='main:app', host=\"0.0.0.0\", port=8000, reload=True, use_colors=True)"
   ]
  },
  {
   "cell_type": "markdown",
   "id": "9f941494",
   "metadata": {},
   "source": [
    "Now we’re ready to share our API with the world! We’ve set up a secure tunnel using ngrok, and our API is now accessible from anywhere. You can easily share the public URL with others, and they can interact with your API in real-time."
   ]
  },
  {
   "cell_type": "markdown",
   "id": "b787b0c4",
   "metadata": {},
   "source": [
    "Access the api endpoint via ngrok (click Visit Site)"
   ]
  },
  {
   "cell_type": "markdown",
   "id": "a1a8a5dd",
   "metadata": {},
   "source": []
  },
  {
   "cell_type": "markdown",
   "id": "dfbf9e85",
   "metadata": {},
   "source": [
    "![Image](https://storage.googleapis.com/rg-ai-bootcamp/langchain/ngrok-warning-free.png)"
   ]
  },
  {
   "cell_type": "markdown",
   "id": "1ee66390",
   "metadata": {},
   "source": [
    "Here’s a piece of advice! While ngrok is a fantastic tool, remember that the free version of ngrok includes certain limitations. It provides a random URL every time you start a new session, and the connections can occasionally be slow. For extensive use, consider opting for a paid plan."
   ]
  },
  {
   "cell_type": "markdown",
   "id": "65f688fe",
   "metadata": {},
   "source": [
    "Look at that! You’ve just given birth to your first API using FastAPI and made it accessible to the world through ngrok. This API now functions with a single endpoint at the root URL (‘/’) which offers a friendly welcome message. Isn’t it thrilling to witness your Python functions communicating with the world? This is just the beginning of your FastAPI journey. As you dive deeper, you’ll uncover its power to build more complex and powerful APIs. Happy exploring!"
   ]
  },
  {
   "cell_type": "markdown",
   "id": "74a5e4e4",
   "metadata": {},
   "source": [
    "But before we wrap up, don’t forget to kill the server process when done!"
   ]
  },
  {
   "cell_type": "markdown",
   "id": "5ba1ca8f",
   "metadata": {},
   "source": [
    "To do so, you need to find the process ID (PID) and kill it - the method varies depending on the operating system."
   ]
  },
  {
   "cell_type": "markdown",
   "id": "80b45c31",
   "metadata": {},
   "source": [
    "- On Windows, you can usenetstat -ano | findstr :<YourPort>to find the PID andtaskkill /PID <PID> /Fto kill the process.\n",
    "- On Linux/Mac,lsof -i :<YourPort>andkill -9 <PID>should do the trick."
   ]
  },
  {
   "cell_type": "markdown",
   "id": "0e8b8668",
   "metadata": {},
   "source": [
    "# API Endpoints & HTTP Methods: A Deeper Dive!"
   ]
  },
  {
   "cell_type": "markdown",
   "id": "95804720",
   "metadata": {},
   "source": [
    "Imagine you’re building an online store. You need to provide your users with a way to view products, add items to their shopping cart, and make purchases. This is where FastAPI’s ability to create multiple API endpoints and utilize different HTTP methods comes into play."
   ]
  },
  {
   "cell_type": "code",
   "execution_count": null,
   "id": "f69477e8",
   "metadata": {},
   "outputs": [],
   "source": [
    "%%writefile main.py\n",
    "from fastapi import FastAPI\n",
    "app = FastAPI()\n",
    "\n",
    "@app.get(\"/products\")\n",
    "def get_products():\n",
    "    return {\"message\": \"Display all products\"}\n",
    "\n",
    "@app.post(\"/cart/{item_id}\")\n",
    "def add_to_cart(item_id: int):\n",
    "    return {\"message\": f\"Added item with id {item_id} to the cart\"}\n",
    "\n",
    "@app.delete(\"/cart/{item_id}\")\n",
    "def remove_from_cart(item_id: int):\n",
    "    return {\"message\": f\"Removed item with id {item_id} from the cart\"}"
   ]
  },
  {
   "cell_type": "code",
   "execution_count": null,
   "id": "30d03e79",
   "metadata": {},
   "outputs": [],
   "source": [
    "Overwriting main.py"
   ]
  },
  {
   "cell_type": "markdown",
   "id": "3604830c",
   "metadata": {},
   "source": [
    "Running localhost and ngrok:"
   ]
  },
  {
   "cell_type": "code",
   "execution_count": null,
   "id": "dbbf2b9d",
   "metadata": {},
   "outputs": [],
   "source": [
    "from pyngrok import ngrok\n",
    "import uvicorn\n",
    "\n",
    "# Setup ngrok\n",
    "ngrok.set_auth_token(your_ngrok_token)\n",
    "\n",
    "public_url = ngrok.connect(addr=\"8000\", proto=\"http\", bind_tls=True)\n",
    "print(f\"Public URL: {public_url}\")\n",
    "\n",
    "# Start server\n",
    "uvicorn.run(app='main:app', host=\"0.0.0.0\", port=8000, reload=True, use_colors=True)"
   ]
  },
  {
   "cell_type": "markdown",
   "id": "0bb90899",
   "metadata": {},
   "source": [
    "Now to carry out tests, in Fast API there is an Interactive API docs feature where we can see detailed information about the API that we created and make test requests directly there."
   ]
  },
  {
   "cell_type": "markdown",
   "id": "2b66ca46",
   "metadata": {},
   "source": [
    "Now go to http://127.0.0.1:8000/docs or https://{ngrok-url}/docs"
   ]
  },
  {
   "cell_type": "markdown",
   "id": "7fd05e7d",
   "metadata": {},
   "source": [
    "You will see the automatic interactive API documentation (provided by Swagger UI):"
   ]
  },
  {
   "cell_type": "markdown",
   "id": "ff1c5a21",
   "metadata": {},
   "source": []
  },
  {
   "cell_type": "markdown",
   "id": "8a97ea94",
   "metadata": {},
   "source": [
    "![Image](https://storage.googleapis.com/rg-ai-bootcamp/langchain/fast-api-swagger-docs.png)"
   ]
  },
  {
   "cell_type": "markdown",
   "id": "cf14dbf6",
   "metadata": {},
   "source": [
    "Or you can use other alternatives is http://127.0.0.1:8000/redoc or https://{ngrok-url}/redoc"
   ]
  },
  {
   "cell_type": "markdown",
   "id": "4c0e1dfb",
   "metadata": {},
   "source": [
    "You will see the alternative automatic documentation (provided by ReDoc):"
   ]
  },
  {
   "cell_type": "markdown",
   "id": "abae37a0",
   "metadata": {},
   "source": []
  },
  {
   "cell_type": "markdown",
   "id": "0387f85b",
   "metadata": {},
   "source": [
    "![Image](https://storage.googleapis.com/rg-ai-bootcamp/langchain/fast-api-swagger-redoc.png)"
   ]
  },
  {
   "cell_type": "markdown",
   "id": "d62a6dec",
   "metadata": {},
   "source": [
    "OK now, we will revise the previous code and add in-memory data structures for products and cart to make it more interactive:"
   ]
  },
  {
   "cell_type": "code",
   "execution_count": null,
   "id": "0cd4638f",
   "metadata": {},
   "outputs": [],
   "source": [
    "%%writefile main.py\n",
    "from fastapi import FastAPI, HTTPException\n",
    "\n",
    "app = FastAPI()\n",
    "\n",
    "# Our product list - a dictionary where key is product id and value is product name\n",
    "products = {1: \"Sneakers\", 2: \"T-Shirt\", 3: \"Jeans\", 4: \"Sunglasses\", 5: \"Hat\"}\n",
    "\n",
    "# The shopping cart - a dictionary where key is product id and value is quantity\n",
    "cart = {}\n",
    "\n",
    "@app.get(\"/products\")\n",
    "def get_products():\n",
    "    return products\n",
    "\n",
    "@app.post(\"/cart/{product_id}\")\n",
    "def add_to_cart(product_id: int):\n",
    "    if product_id not in products:\n",
    "        raise HTTPException(status_code=404, detail=\"Product not found\")\n",
    "    if product_id in cart:\n",
    "        cart[product_id] += 1\n",
    "    else:\n",
    "        cart[product_id] = 1\n",
    "    return {\"message\": f\"Added {products[product_id]} to the cart\"}\n",
    "\n",
    "@app.delete(\"/cart/{product_id}\")\n",
    "def remove_from_cart(product_id: int):\n",
    "    if product_id not in cart:\n",
    "        raise HTTPException(status_code=404, detail=\"Product not in cart\")\n",
    "    cart[product_id] -= 1\n",
    "    if cart[product_id] == 0:\n",
    "        del cart[product_id]\n",
    "    return {\"message\": f\"Removed {products[product_id]} from the cart\"}\n",
    "\n",
    "@app.get(\"/cart\")\n",
    "def get_cart():\n",
    "    return {products[product_id]: quantity for product_id, quantity in cart.items()}"
   ]
  },
  {
   "cell_type": "markdown",
   "id": "477b18e7",
   "metadata": {},
   "source": [
    "Running localhost and ngrok:"
   ]
  },
  {
   "cell_type": "code",
   "execution_count": null,
   "id": "5e66e599",
   "metadata": {},
   "outputs": [],
   "source": [
    "from pyngrok import ngrok\n",
    "import uvicorn\n",
    "\n",
    "# Setup ngrok\n",
    "ngrok.set_auth_token(your_ngrok_token)\n",
    "\n",
    "public_url = ngrok.connect(addr=\"8000\", proto=\"http\", bind_tls=True)\n",
    "print(f\"Public URL: {public_url}\")\n",
    "\n",
    "# Start server\n",
    "uvicorn.run(app='main:app', host=\"0.0.0.0\", port=8000, reload=True, use_colors=True)"
   ]
  },
  {
   "cell_type": "markdown",
   "id": "bcaf2ad9",
   "metadata": {},
   "source": [
    "Now, our API server can handle the following requests: - GET requests to /products to view all products. - POST requests to /cart/{product_id} to add products to the cart. - DELETE requests to /cart/{product_id} to remove products from the cart. - GET requests to /cart to view the cart contents."
   ]
  },
  {
   "cell_type": "markdown",
   "id": "d758ffd8",
   "metadata": {},
   "source": [
    "Go to http://127.0.0.1:8000/docs, https://{ngrok-url}/docs or http://127.0.0.1:8000/redoc or https://{ngrok-url}/redoc for interactive documentation your API"
   ]
  },
  {
   "cell_type": "markdown",
   "id": "0374a11d",
   "metadata": {},
   "source": [
    "# Working with JSON Responses and Requests"
   ]
  },
  {
   "cell_type": "markdown",
   "id": "e78ec715",
   "metadata": {},
   "source": [
    "All the data exchanged between the client and server in our online store scenario happens in the form of JSON. FastAPI makes it ultra-easy to handle JSON data."
   ]
  },
  {
   "cell_type": "markdown",
   "id": "83f4fcdf",
   "metadata": {},
   "source": [
    "Let’s say, instead of adding one product at a time to the cart, we want to allow customers to add multiple products at once. They can send a list of product IDs as JSON data in a POST request, and FastAPI will automatically convert it to a Python list for us."
   ]
  },
  {
   "cell_type": "code",
   "execution_count": null,
   "id": "86177663",
   "metadata": {},
   "outputs": [],
   "source": [
    "%%writefile main.py\n",
    "from typing import List\n",
    "from fastapi import FastAPI, HTTPException\n",
    "\n",
    "app = FastAPI()\n",
    "\n",
    "# Our product list - a dictionary where key is product id and value is product name\n",
    "products = {1: \"Sneakers\", 2: \"T-Shirt\", 3: \"Jeans\", 4: \"Sunglasses\", 5: \"Hat\"}\n",
    "\n",
    "# The shopping cart - a dictionary where key is product id and value is quantity\n",
    "cart = {}\n",
    "\n",
    "@app.post(\"/cart/items\")\n",
    "async def add_items_to_cart(item_ids: List[int]):\n",
    "    not_found_ids = [item_id for item_id in item_ids if item_id not in products]\n",
    "    if not_found_ids:\n",
    "        raise HTTPException(status_code=404, detail=f\"Products with ids {not_found_ids} were not found.\")\n",
    "    \n",
    "    for item_id in item_ids:\n",
    "        if item_id in cart:\n",
    "            cart[item_id] += 1\n",
    "        else:\n",
    "            cart[item_id] = 1\n",
    "    response = {products[item_id]: quantity for item_id, quantity in cart.items()}\n",
    "    return response"
   ]
  },
  {
   "cell_type": "markdown",
   "id": "3fb2f689",
   "metadata": {},
   "source": [
    "Running localhost and ngrok:"
   ]
  },
  {
   "cell_type": "code",
   "execution_count": null,
   "id": "dbafbbea",
   "metadata": {},
   "outputs": [],
   "source": [
    "from pyngrok import ngrok\n",
    "import uvicorn\n",
    "\n",
    "# Setup ngrok\n",
    "ngrok.set_auth_token(your_ngrok_token)\n",
    "\n",
    "public_url = ngrok.connect(addr=\"8000\", proto=\"http\", bind_tls=True)\n",
    "print(f\"Public URL: {public_url}\")\n",
    "\n",
    "# Start server\n",
    "uvicorn.run(app='main:app', host=\"0.0.0.0\", port=8000, reload=True, use_colors=True)"
   ]
  },
  {
   "cell_type": "markdown",
   "id": "577d1cc1",
   "metadata": {},
   "source": [
    "Customers can now perform the following actions: - Add multiple items to the cart in one go by: - Sending a POST request to /cart/items with a JSON array of product ids. - FastAPI will automatically parse the JSON data into a Python list. - Corresponding products will be added to the cart. - If a product is not found in our store: - The system will raise an HTTPException with a 404 status code."
   ]
  },
  {
   "cell_type": "markdown",
   "id": "2b64ff0e",
   "metadata": {},
   "source": [
    "Go to http://127.0.0.1:8000/docs, https://{ngrok-url}/docs or http://127.0.0.1:8000/redoc or https://{ngrok-url}/redoc for interactive documentation your API"
   ]
  },
  {
   "cell_type": "markdown",
   "id": "87033a35",
   "metadata": {},
   "source": [
    "# Handling Errors Gracefully"
   ]
  },
  {
   "cell_type": "markdown",
   "id": "aac04449",
   "metadata": {},
   "source": [
    "In an ideal world, users would always use our online store API perfectly. They’d only add products that exist, they wouldn’t attempt to remove products from an empty cart, and they certainly wouldn’t try to buy more products than we have in stock."
   ]
  },
  {
   "cell_type": "markdown",
   "id": "205b7914",
   "metadata": {},
   "source": [
    "But we don’t live in an ideal world."
   ]
  },
  {
   "cell_type": "markdown",
   "id": "f3a4b661",
   "metadata": {},
   "source": [
    "Thankfully, FastAPI provides an easy way to handle errors and raise HTTP exceptions with meaningful error messages."
   ]
  },
  {
   "cell_type": "code",
   "execution_count": null,
   "id": "83ef46bc",
   "metadata": {},
   "outputs": [],
   "source": [
    "%%writefile main.py\n",
    "from typing import List\n",
    "from fastapi import FastAPI, HTTPException\n",
    "\n",
    "app = FastAPI()\n",
    "\n",
    "# Our product list - a dictionary where key is product id and value is product name\n",
    "products = {1: \"Sneakers\", 2: \"T-Shirt\", 3: \"Jeans\", 4: \"Sunglasses\", 5: \"Hat\"}\n",
    "\n",
    "# The shopping cart - a dictionary where key is product id and value is quantity\n",
    "cart = {}\n",
    "\n",
    "@app.get(\"/products/{product_id}\")\n",
    "async def get_product(product_id: int):\n",
    "    if product_id not in products:\n",
    "        raise HTTPException(status_code=404, detail=f\"No product found with id {product_id}.\")\n",
    "    return {product_id: products[product_id]}\n",
    "\n",
    "@app.post(\"/cart/items\")\n",
    "async def add_items_to_cart(item_ids: List[int]):\n",
    "    not_found_ids = [item_id for item_id in item_ids if item_id not in products]\n",
    "    if not_found_ids:\n",
    "        raise HTTPException(status_code=404, detail=f\"Products with ids {not_found_ids} were not found.\")\n",
    "    \n",
    "    for item_id in item_ids:\n",
    "        if item_id in cart:\n",
    "            cart[item_id] += 1\n",
    "        else:\n",
    "            cart[item_id] = 1\n",
    "    response = {products[item_id]: quantity for item_id, quantity in cart.items()}\n",
    "    return response\n",
    "\n",
    "@app.delete(\"/cart/{product_id}\")\n",
    "async def remove_from_cart(product_id: int):\n",
    "    if product_id not in cart:\n",
    "        raise HTTPException(status_code=404, detail=\"Product not in cart.\")\n",
    "    cart[product_id] -= 1\n",
    "    if cart[product_id] == 0:\n",
    "        del cart[product_id]\n",
    "    return {\"message\": f\"Removed {products[product_id]} from the cart\"}"
   ]
  },
  {
   "cell_type": "code",
   "execution_count": null,
   "id": "ebdc3044",
   "metadata": {},
   "outputs": [],
   "source": [
    "Overwriting main.py"
   ]
  },
  {
   "cell_type": "markdown",
   "id": "8471ebe1",
   "metadata": {},
   "source": [
    "Running localhost and ngrok:"
   ]
  },
  {
   "cell_type": "code",
   "execution_count": null,
   "id": "7fd99bf2",
   "metadata": {},
   "outputs": [],
   "source": [
    "from pyngrok import ngrok\n",
    "import uvicorn\n",
    "\n",
    "# Setup ngrok\n",
    "ngrok.set_auth_token(your_ngrok_token)\n",
    "\n",
    "public_url = ngrok.connect(addr=\"8000\", proto=\"http\", bind_tls=True)\n",
    "print(f\"Public URL: {public_url}\")\n",
    "\n",
    "# Start server\n",
    "uvicorn.run(app='main:app', host=\"0.0.0.0\", port=8000, reload=True, use_colors=True)"
   ]
  },
  {
   "cell_type": "markdown",
   "id": "07b4f4a6",
   "metadata": {},
   "source": [
    "In this script, we’ve enhanced our API endpoints to handle common error cases such as: - If a user tries to view a product that doesn’t exist. - If a user tries to add a non-existent product to their cart. - If a user tries to remove a product from an empty cart."
   ]
  },
  {
   "cell_type": "markdown",
   "id": "e0761b8e",
   "metadata": {},
   "source": [
    "In these instances, FastAPI will: - Raise an HTTPException with a 404 status code. - Provide a descriptive error message."
   ]
  },
  {
   "cell_type": "markdown",
   "id": "0b1a79d8",
   "metadata": {},
   "source": [
    "We have performed tests on these enhancements: - Made a GET request to the /products/{product_id} endpoint with a non-existent product id. - As expected, our API returned a 404 status code with an appropriate error message."
   ]
  },
  {
   "cell_type": "markdown",
   "id": "53886ef9",
   "metadata": {},
   "source": [
    "Go to http://127.0.0.1:8000/docs, https://{ngrok-url}/docs or http://127.0.0.1:8000/redoc or https://{ngrok-url}/redoc for interactive documentation your API"
   ]
  },
  {
   "cell_type": "markdown",
   "id": "f6ab834e",
   "metadata": {},
   "source": [
    "# Rendering HTML"
   ]
  },
  {
   "cell_type": "markdown",
   "id": "bbe0cbbd",
   "metadata": {},
   "source": [
    "FastAPI is not limited to exchange JSON data. It can also handle and render HTML. This is useful if, besides the API, you want to have an introductory web page for your online store. All we need to do is return a multiline string (enclosed in triple quotes) containing our HTML code."
   ]
  },
  {
   "cell_type": "code",
   "execution_count": null,
   "id": "1b0e261b",
   "metadata": {},
   "outputs": [],
   "source": [
    "%%writefile main.py\n",
    "from fastapi import FastAPI\n",
    "from starlette.responses import HTMLResponse\n",
    "\n",
    "app = FastAPI()\n",
    "\n",
    "@app.get(\"/home\", response_class=HTMLResponse)\n",
    "async def get_home():\n",
    "    return \"\"\"\n",
    "    <html>\n",
    "        <head>\n",
    "            <title> Welcome to Our Online Store </title>\n",
    "        </head>\n",
    "        <body>\n",
    "            <p> Welcome to our online store! Check out our products <a href=\"/products\">here</a>. </p>\n",
    "        </body>\n",
    "    </html>\n",
    "    \"\"\""
   ]
  },
  {
   "cell_type": "code",
   "execution_count": null,
   "id": "e332faf5",
   "metadata": {},
   "outputs": [],
   "source": [
    "Overwriting main.py"
   ]
  },
  {
   "cell_type": "markdown",
   "id": "a8863363",
   "metadata": {},
   "source": [
    "Running localhost and ngrok:"
   ]
  },
  {
   "cell_type": "code",
   "execution_count": null,
   "id": "7dfd97de",
   "metadata": {},
   "outputs": [],
   "source": [
    "from pyngrok import ngrok\n",
    "import uvicorn\n",
    "\n",
    "# Setup ngrok\n",
    "ngrok.set_auth_token(your_ngrok_token)\n",
    "\n",
    "public_url = ngrok.connect(addr=\"8000\", proto=\"http\", bind_tls=True)\n",
    "print(f\"Public URL: {public_url}\")\n",
    "\n",
    "# Start server\n",
    "uvicorn.run(app='main:app', host=\"0.0.0.0\", port=8000, reload=True, use_colors=True)"
   ]
  },
  {
   "cell_type": "markdown",
   "id": "48422119",
   "metadata": {},
   "source": [
    "Now, when someone visits the “/home” endpoint of our API, FastAPI will respond with a simple HTML page. The response_class=HTMLResponse argument tells FastAPI to convert the returned string into HTML."
   ]
  },
  {
   "cell_type": "markdown",
   "id": "9aa62968",
   "metadata": {},
   "source": [
    "Let’s navigate to the home page."
   ]
  },
  {
   "cell_type": "markdown",
   "id": "1e0dec70",
   "metadata": {},
   "source": []
  },
  {
   "cell_type": "markdown",
   "id": "ccc89add",
   "metadata": {},
   "source": [
    "![Image](https://storage.googleapis.com/rg-ai-bootcamp/langchain/fast-api-html.png)"
   ]
  },
  {
   "cell_type": "markdown",
   "id": "430c50fc",
   "metadata": {},
   "source": [
    "As you can see, our API correctly returns an HTML response for the “/home” endpoint."
   ]
  },
  {
   "cell_type": "markdown",
   "id": "5cbc27a1",
   "metadata": {},
   "source": [
    "In this script, we’ve defined a new /home endpoint that returns an HTML response, effectively serving a simple web page. The response_class=HTMLResponse argument tells FastAPI to convert the returned string into HTML. We then make a GET request to this endpoint and print the HTML response."
   ]
  },
  {
   "cell_type": "markdown",
   "id": "a7d3297e",
   "metadata": {},
   "source": [
    "# Path Parameters and Query Parameters"
   ]
  },
  {
   "cell_type": "markdown",
   "id": "0ed67237",
   "metadata": {},
   "source": [
    "Path parameters and query parameters are two ways to pass dynamic information to an API."
   ]
  },
  {
   "cell_type": "markdown",
   "id": "7c7cd5e5",
   "metadata": {},
   "source": [
    "First, let’s start with path parameters. These allow us to pass information via the URL path. We have already used path parameters in our /cart/{product_id} endpoints. Let’s add one more endpoint which gives us the details of a specific product."
   ]
  },
  {
   "cell_type": "code",
   "execution_count": null,
   "id": "f0f59285",
   "metadata": {},
   "outputs": [],
   "source": [
    "%%writefile main.py\n",
    "from fastapi import FastAPI, HTTPException\n",
    "\n",
    "app = FastAPI()\n",
    "\n",
    "# Our product list - a dictionary where key is product id and value is product name\n",
    "products = {1: \"Sneakers\", 2: \"T-Shirt\", 3: \"Jeans\", 4: \"Sunglasses\", 5: \"Hat\"}\n",
    "\n",
    "@app.get(\"/product/{product_id}\")\n",
    "async def get_product_detail(product_id: int):\n",
    "    if product_id not in products:\n",
    "        raise HTTPException(status_code=404, detail=f\"No product found with id {product_id}.\")\n",
    "    return {product_id: products[product_id]}"
   ]
  },
  {
   "cell_type": "code",
   "execution_count": null,
   "id": "b91a58c8",
   "metadata": {},
   "outputs": [],
   "source": [
    "Overwriting main.py"
   ]
  },
  {
   "cell_type": "markdown",
   "id": "8bce2acf",
   "metadata": {},
   "source": [
    "Run in terminal with command: uvicorn main:app --reload and now, a user can get the details of a single product by passing the product id in the URL, such as ‘/product/1’."
   ]
  },
  {
   "cell_type": "markdown",
   "id": "3b53b620",
   "metadata": {},
   "source": [
    "Let’s try to get the details of a product with id 1 using another terminal curl http://127.0.0.1:8000/product/1"
   ]
  },
  {
   "cell_type": "markdown",
   "id": "93baeb6b",
   "metadata": {},
   "source": []
  },
  {
   "cell_type": "markdown",
   "id": "8b124273",
   "metadata": {},
   "source": [
    "![Image](https://storage.googleapis.com/rg-ai-bootcamp/langchain/bash-fast-params.png)"
   ]
  },
  {
   "cell_type": "markdown",
   "id": "73d20ecc",
   "metadata": {},
   "source": [
    "Great, it works!"
   ]
  },
  {
   "cell_type": "markdown",
   "id": "3eace686",
   "metadata": {},
   "source": [
    "Now, let’s move on to query parameters. These offer another way to pass dynamic information to an API, but via the URL query string (the part of the URL after the ‘?’)."
   ]
  },
  {
   "cell_type": "markdown",
   "id": "198afbf8",
   "metadata": {},
   "source": [
    "Let’s say we want to allow users to filter the products by part of their names. We can do that by introducing a query parameter:"
   ]
  },
  {
   "cell_type": "code",
   "execution_count": null,
   "id": "5399d923",
   "metadata": {},
   "outputs": [],
   "source": [
    "%%writefile main.py\n",
    "from fastapi import FastAPI\n",
    "from typing import Optional\n",
    "\n",
    "app = FastAPI()\n",
    "\n",
    "# Our product list - a dictionary where key is product id and value is product name\n",
    "products = {1: \"Sneakers\", 2: \"T-Shirt\", 3: \"Jeans\", 4: \"Sunglasses\", 5: \"Hat\"}\n",
    "\n",
    "@app.get(\"/search\")\n",
    "async def search_products(q: Optional[str] = None):\n",
    "    if q:\n",
    "        return {product_id: name for product_id, name in products.items() if q.lower() in name.lower()}\n",
    "    else:\n",
    "        return products"
   ]
  },
  {
   "cell_type": "code",
   "execution_count": null,
   "id": "a150f03e",
   "metadata": {},
   "outputs": [],
   "source": [
    "Overwriting main.py"
   ]
  },
  {
   "cell_type": "markdown",
   "id": "01d35095",
   "metadata": {},
   "source": [
    "Run in terminal with command: uvicorn main:app --reload and now, users can search for products by including a ‘q’ parameter in the URL, like ‘/search?q=Sneakers’."
   ]
  },
  {
   "cell_type": "markdown",
   "id": "e0d2a514",
   "metadata": {},
   "source": [
    "Let’s try to search product with q “Jeans” using another terminal curl http://127.0.0.1:8000/search?q=Jeans"
   ]
  },
  {
   "cell_type": "markdown",
   "id": "ab769482",
   "metadata": {},
   "source": []
  },
  {
   "cell_type": "markdown",
   "id": "7effa272",
   "metadata": {},
   "source": [
    "![Image](https://storage.googleapis.com/rg-ai-bootcamp/langchain/bash-fast-query.png)"
   ]
  },
  {
   "cell_type": "markdown",
   "id": "680ffde8",
   "metadata": {},
   "source": [
    "As you can see, our API correctly returned the product that matches our search query."
   ]
  },
  {
   "cell_type": "markdown",
   "id": "dc32a5fe",
   "metadata": {},
   "source": [
    "In this code, we’ve made the following enhancements to our API: - Accepted dynamic path and query parameters. - Added a /product/{product_id} endpoint that: - Returns the details of a specific product based on the product id passed in the URL. - Added a /search endpoint that: - Allows users to filter the products based on a search query. - The search query is passed as a query parameter in the URL."
   ]
  },
  {
   "cell_type": "markdown",
   "id": "e6a35f0d",
   "metadata": {},
   "source": [
    "We then performed tests on these enhancements: - Made GET requests to these endpoints. - Printed the responses for verification."
   ]
  },
  {
   "cell_type": "markdown",
   "id": "468e1e35",
   "metadata": {},
   "source": [
    "# Project Example: Text Generation API Using Hugging Face’s Transformers"
   ]
  },
  {
   "cell_type": "markdown",
   "id": "939ab6cc",
   "metadata": {},
   "source": [
    "Imagine you’ve crafted an amazing GPT-2 model that can generate witty text, mimicking the style of famous authors. You’re quite thrilled with this digital author and now you want to share your AI-powered wordsmith with the world. How can you make this happen? You guessed it - let’s build an API with FastAPI!"
   ]
  },
  {
   "cell_type": "markdown",
   "id": "f3e85af1",
   "metadata": {},
   "source": [
    "Before we embark on this journey, we need to ensure that we have all the necessary tools. We will install two indispensable libraries, Transformers and Torch, using pip:"
   ]
  },
  {
   "cell_type": "code",
   "execution_count": null,
   "id": "87ad4910",
   "metadata": {},
   "outputs": [],
   "source": [
    "%pip install transformers torch"
   ]
  },
  {
   "cell_type": "markdown",
   "id": "13c60170",
   "metadata": {},
   "source": [
    "# Setting Up the Text Generation Model"
   ]
  },
  {
   "cell_type": "markdown",
   "id": "859a6c8d",
   "metadata": {},
   "source": [
    "Now, let’s prepare our AI author by setting up a pipeline for text generation with the GPT-2 model from Hugging Face’s Transformers library:"
   ]
  },
  {
   "cell_type": "code",
   "execution_count": null,
   "id": "7054637e",
   "metadata": {},
   "outputs": [],
   "source": [
    "from transformers import pipeline\n",
    "\n",
    "generator = pipeline('text-generation', model='gpt2')"
   ]
  },
  {
   "cell_type": "markdown",
   "id": "56fd2087",
   "metadata": {},
   "source": [
    "With our generator in place, we’re ready to start creating masterpieces!"
   ]
  },
  {
   "cell_type": "markdown",
   "id": "b5136066",
   "metadata": {},
   "source": [
    "# Building the Text Generation API"
   ]
  },
  {
   "cell_type": "markdown",
   "id": "a56cc437",
   "metadata": {},
   "source": [
    "Now, we’re going to design an API that allows users to feed a string of text to our AI author, who will then generate a piece of text based on the input:"
   ]
  },
  {
   "cell_type": "code",
   "execution_count": null,
   "id": "ec96d519",
   "metadata": {},
   "outputs": [],
   "source": [
    "%%writefile main.py\n",
    "from fastapi import FastAPI\n",
    "from pydantic import BaseModel\n",
    "from transformers import pipeline\n",
    "\n",
    "generator = pipeline('text-generation', model='gpt2')\n",
    "\n",
    "class Item(BaseModel):\n",
    "    text: str\n",
    "\n",
    "app = FastAPI()\n",
    "\n",
    "@app.post(\"/api/generate\")\n",
    "def generate_text(item: Item):\n",
    "    # Generate text\n",
    "    outputs = generator(item.text, max_length=150, num_return_sequences=5, no_repeat_ngram_size=2)\n",
    "    generated_text = [output['generated_text'] for output in outputs]\n",
    "\n",
    "    return {\"message\": \"Text generated!\", \"generated_text\": generated_text}"
   ]
  },
  {
   "cell_type": "code",
   "execution_count": null,
   "id": "c3152843",
   "metadata": {},
   "outputs": [],
   "source": [
    "Overwriting main.py"
   ]
  },
  {
   "cell_type": "markdown",
   "id": "8e81082c",
   "metadata": {},
   "source": [
    "Running localhost and ngrok:"
   ]
  },
  {
   "cell_type": "code",
   "execution_count": null,
   "id": "0d06434d",
   "metadata": {},
   "outputs": [],
   "source": [
    "from pyngrok import ngrok\n",
    "import uvicorn\n",
    "\n",
    "# Setup ngrok\n",
    "ngrok.set_auth_token(your_ngrok_token)\n",
    "\n",
    "public_url = ngrok.connect(addr=\"8000\", proto=\"http\", bind_tls=True)\n",
    "print(f\"Public URL: {public_url}\")\n",
    "\n",
    "# Start server\n",
    "uvicorn.run(app='main:app', host=\"0.0.0.0\", port=8000, reload=True, use_colors=True)"
   ]
  },
  {
   "cell_type": "markdown",
   "id": "6b729291",
   "metadata": {},
   "source": [
    "And there you have it! We’ve just created an endpoint ‘/api/generate’ that accepts POST requests. This endpoint expects a string of text as input in the form of JSON data. It takes this text, feeds it to our AI author, and in response, provides five unique continuations of the initial text."
   ]
  },
  {
   "cell_type": "markdown",
   "id": "d958e5b1",
   "metadata": {},
   "source": [
    "Go to http://127.0.0.1:8000/docs, https://{ngrok-url}/docs or http://127.0.0.1:8000/redoc or https://{ngrok-url}/redoc for interactive documentation your API"
   ]
  },
  {
   "cell_type": "markdown",
   "id": "fa02d810",
   "metadata": {},
   "source": [
    "With FastAPI and Hugging Face’s Transformers, you’ve just turned your local GPT-2 model into a globally accessible AI-powered author. This is the beauty of APIs in machine learning. This project is a foundation upon which you can build more complex APIs, integrating different models and tasks to suit your needs."
   ]
  },
  {
   "cell_type": "markdown",
   "id": "ed87b8cb",
   "metadata": {},
   "source": [
    "# Wrapping Up"
   ]
  },
  {
   "cell_type": "markdown",
   "id": "4de4e506",
   "metadata": {},
   "source": [
    "FastAPI provides an intuitive and flexible way to build robust APIs, and you’ve just scratched the surface by designing an API for text generation with a GPT-2 model. We walked through setting up endpoints, handling JSON data, routing, error handling, and making our API globally accessible with ngrok. We also took a deep dive into the dynamic world of path and query parameters."
   ]
  },
  {
   "cell_type": "markdown",
   "id": "ef1a5279",
   "metadata": {},
   "source": [
    "Equipped with these tools, you’re now set to construct comprehensive, powerful, and secure APIs. Keep practicing, keep exploring, and before you know it, you’ll be an accomplished FastAPI maestro!"
   ]
  }
 ],
 "metadata": {},
 "nbformat": 4,
 "nbformat_minor": 5
}
