{
 "cells": [
  {
   "cell_type": "markdown",
   "id": "baeb6d9b",
   "metadata": {},
   "source": [
    "source: [link](https://ai-bootcamp.ruangguru.com/learn/05_database/01_elasticsearch/00_introduction.html)"
   ]
  },
  {
   "cell_type": "markdown",
   "id": "04c5e6ca",
   "metadata": {},
   "source": [
    "# Introduction to Elasticsearch"
   ]
  },
  {
   "cell_type": "markdown",
   "id": "b3497a1f",
   "metadata": {},
   "source": []
  },
  {
   "cell_type": "markdown",
   "id": "e5f10746",
   "metadata": {},
   "source": [
    "![Image](https://storage.googleapis.com/rg-ai-bootcamp/database/elasticsearch-min.png)"
   ]
  },
  {
   "cell_type": "markdown",
   "id": "48b42f8c",
   "metadata": {},
   "source": [
    "Elasticsearch (Source: technocratsid.com)"
   ]
  },
  {
   "cell_type": "markdown",
   "id": "1e390d7d",
   "metadata": {},
   "source": [
    "# A Brief Look at Elasticsearch"
   ]
  },
  {
   "cell_type": "markdown",
   "id": "4e39789f",
   "metadata": {},
   "source": [
    "Elasticsearch is a powerful database management system that helps you navigate the complex maze of data. Known for its cutting-edge RESTful API-based search capabilities, Elasticsearch has proven itself as one of the most popular search-oriented databases."
   ]
  },
  {
   "cell_type": "markdown",
   "id": "556b4947",
   "metadata": {},
   "source": [
    "What’s interesting is that Elasticsearch is open source and free. This means you can use, modify, and even contribute to its development. You can find it on Github at https://github.com/elastic/elasticsearch."
   ]
  },
  {
   "cell_type": "markdown",
   "id": "24dd4520",
   "metadata": {},
   "source": [
    "Want to try it out? Visit the official Elastic website at https://www.elastic.co/elasticsearch/ to download the application."
   ]
  },
  {
   "cell_type": "markdown",
   "id": "73f26536",
   "metadata": {},
   "source": [
    "Elasticsearch promises an exciting adventure in the world of data. Let’s embark on this journey!"
   ]
  },
  {
   "cell_type": "markdown",
   "id": "c16c7a5c",
   "metadata": {},
   "source": [
    "# Elasticsearch in the Market"
   ]
  },
  {
   "cell_type": "markdown",
   "id": "3309ad8b",
   "metadata": {},
   "source": [
    "Wondering about Elasticsearch’s standing in the database management systems market? Check db-engines.com, a platform that ranks these systems by popularity."
   ]
  },
  {
   "cell_type": "markdown",
   "id": "4b167f08",
   "metadata": {},
   "source": []
  },
  {
   "cell_type": "markdown",
   "id": "e53e6658",
   "metadata": {},
   "source": [
    "![Image](https://storage.googleapis.com/rg-ai-bootcamp/database/db-rank-min.png)"
   ]
  },
  {
   "cell_type": "markdown",
   "id": "a2fc6303",
   "metadata": {},
   "source": [
    "You’ll find Elasticsearch holding a high rank, reflecting its popularity and acceptance globally."
   ]
  },
  {
   "cell_type": "markdown",
   "id": "a71e6da0",
   "metadata": {},
   "source": [
    "# Relational DB vs Elasticsearch: Terminology Comparison"
   ]
  },
  {
   "cell_type": "markdown",
   "id": "699475bd",
   "metadata": {},
   "source": [
    "If you’re from a Relational Database background, venturing into Elasticsearch might seem like stepping into an alien world. But don’t worry! Many of the concepts in Elasticsearch have analogs in the relational database realm. Here’s a handy chart to help you bridge the gap:"
   ]
  },
  {
   "cell_type": "markdown",
   "id": "4ae702e8",
   "metadata": {},
   "source": [
    "By understanding these key terms, you can navigate the Elasticsearch landscape more confidently. Remember, it’s not a whole new world, just a different way of looking at the same concepts. Let’s continue our journey through Elasticsearch!"
   ]
  },
  {
   "cell_type": "markdown",
   "id": "2a8b0f52",
   "metadata": {},
   "source": [
    "# Understanding Elasticsearch Client"
   ]
  },
  {
   "cell_type": "markdown",
   "id": "181d176e",
   "metadata": {},
   "source": [
    "An Elasticsearch client is a tool or library that facilitates communication with the Elasticsearch server. It simplifies the interaction with Elasticsearch’s RESTful API, enabling you to perform various operations on your data with ease."
   ]
  },
  {
   "cell_type": "markdown",
   "id": "088fb9b0",
   "metadata": {},
   "source": [
    "# How Does It Work?"
   ]
  },
  {
   "cell_type": "markdown",
   "id": "7922a2e9",
   "metadata": {},
   "source": [
    "Elasticsearch employs a RESTful API for interaction, making it accessible from any programming language capable of sending HTTP requests. Here’s how it works:"
   ]
  },
  {
   "cell_type": "markdown",
   "id": "2e715ab5",
   "metadata": {},
   "source": [
    "Keep in mind, all operations in Elasticsearch, including creating and deleting indices, adding, updating, and searching for documents, are performed through this RESTful API!"
   ]
  },
  {
   "cell_type": "markdown",
   "id": "da3908c9",
   "metadata": {},
   "source": [
    "# Client Applications for Elasticsearch"
   ]
  },
  {
   "cell_type": "markdown",
   "id": "07c91f65",
   "metadata": {},
   "source": [
    "There are multiple client applications that you can use to interact with Elasticsearch:"
   ]
  },
  {
   "cell_type": "markdown",
   "id": "436d1345",
   "metadata": {},
   "source": [
    "In this course, we’ll frequently use the elasticsearch Python client for its ease of use and compatibility with Elasticsearch operations."
   ]
  }
 ],
 "metadata": {},
 "nbformat": 4,
 "nbformat_minor": 5
}
