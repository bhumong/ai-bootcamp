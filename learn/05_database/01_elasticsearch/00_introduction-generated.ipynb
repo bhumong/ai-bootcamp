{
 "cells": [
  {
   "cell_type": "markdown",
   "id": "78494e70",
   "metadata": {},
   "source": [
    "# Introduction to Elasticsearch"
   ]
  },
  {
   "cell_type": "markdown",
   "id": "5fb07de3",
   "metadata": {},
   "source": []
  },
  {
   "cell_type": "markdown",
   "id": "98575ed0",
   "metadata": {},
   "source": [
    "![Image](https://storage.googleapis.com/rg-ai-bootcamp/database/elasticsearch-min.png)"
   ]
  },
  {
   "cell_type": "markdown",
   "id": "b1a6bd16",
   "metadata": {},
   "source": [
    "Elasticsearch (Source: technocratsid.com)"
   ]
  },
  {
   "cell_type": "markdown",
   "id": "6415b434",
   "metadata": {},
   "source": [
    "# A Brief Look at Elasticsearch"
   ]
  },
  {
   "cell_type": "markdown",
   "id": "a0a1d74b",
   "metadata": {},
   "source": [
    "Elasticsearch is a powerful database management system that helps you navigate the complex maze of data. Known for its cutting-edge RESTful API-based search capabilities, Elasticsearch has proven itself as one of the most popular search-oriented databases."
   ]
  },
  {
   "cell_type": "markdown",
   "id": "494c80ff",
   "metadata": {},
   "source": [
    "What’s interesting is that Elasticsearch is open source and free. This means you can use, modify, and even contribute to its development. You can find it on Github at https://github.com/elastic/elasticsearch."
   ]
  },
  {
   "cell_type": "markdown",
   "id": "ae96388f",
   "metadata": {},
   "source": [
    "Want to try it out? Visit the official Elastic website at https://www.elastic.co/elasticsearch/ to download the application."
   ]
  },
  {
   "cell_type": "markdown",
   "id": "3ca8ccd1",
   "metadata": {},
   "source": [
    "Elasticsearch promises an exciting adventure in the world of data. Let’s embark on this journey!"
   ]
  },
  {
   "cell_type": "markdown",
   "id": "b2a07b00",
   "metadata": {},
   "source": [
    "# Elasticsearch in the Market"
   ]
  },
  {
   "cell_type": "markdown",
   "id": "74777b98",
   "metadata": {},
   "source": [
    "Wondering about Elasticsearch’s standing in the database management systems market? Check db-engines.com, a platform that ranks these systems by popularity."
   ]
  },
  {
   "cell_type": "markdown",
   "id": "91e261ba",
   "metadata": {},
   "source": []
  },
  {
   "cell_type": "markdown",
   "id": "53de29b4",
   "metadata": {},
   "source": [
    "![Image](https://storage.googleapis.com/rg-ai-bootcamp/database/db-rank-min.png)"
   ]
  },
  {
   "cell_type": "markdown",
   "id": "5dd5cb49",
   "metadata": {},
   "source": [
    "You’ll find Elasticsearch holding a high rank, reflecting its popularity and acceptance globally."
   ]
  },
  {
   "cell_type": "markdown",
   "id": "47a6600a",
   "metadata": {},
   "source": [
    "# Relational DB vs Elasticsearch: Terminology Comparison"
   ]
  },
  {
   "cell_type": "markdown",
   "id": "2f971cbb",
   "metadata": {},
   "source": [
    "If you’re from a Relational Database background, venturing into Elasticsearch might seem like stepping into an alien world. But don’t worry! Many of the concepts in Elasticsearch have analogs in the relational database realm. Here’s a handy chart to help you bridge the gap:"
   ]
  },
  {
   "cell_type": "markdown",
   "id": "119f7bae",
   "metadata": {},
   "source": [
    "By understanding these key terms, you can navigate the Elasticsearch landscape more confidently. Remember, it’s not a whole new world, just a different way of looking at the same concepts. Let’s continue our journey through Elasticsearch!"
   ]
  },
  {
   "cell_type": "markdown",
   "id": "385d58ab",
   "metadata": {},
   "source": [
    "# Understanding Elasticsearch Client"
   ]
  },
  {
   "cell_type": "markdown",
   "id": "5444b8f8",
   "metadata": {},
   "source": [
    "An Elasticsearch client is a tool or library that facilitates communication with the Elasticsearch server. It simplifies the interaction with Elasticsearch’s RESTful API, enabling you to perform various operations on your data with ease."
   ]
  },
  {
   "cell_type": "markdown",
   "id": "24187074",
   "metadata": {},
   "source": [
    "# How Does It Work?"
   ]
  },
  {
   "cell_type": "markdown",
   "id": "a71700b3",
   "metadata": {},
   "source": [
    "Elasticsearch employs a RESTful API for interaction, making it accessible from any programming language capable of sending HTTP requests. Here’s how it works:"
   ]
  },
  {
   "cell_type": "markdown",
   "id": "a0fe47e1",
   "metadata": {},
   "source": [
    "Keep in mind, all operations in Elasticsearch, including creating and deleting indices, adding, updating, and searching for documents, are performed through this RESTful API!"
   ]
  },
  {
   "cell_type": "markdown",
   "id": "8ba0018c",
   "metadata": {},
   "source": [
    "# Client Applications for Elasticsearch"
   ]
  },
  {
   "cell_type": "markdown",
   "id": "5eb7801f",
   "metadata": {},
   "source": [
    "There are multiple client applications that you can use to interact with Elasticsearch:"
   ]
  },
  {
   "cell_type": "markdown",
   "id": "609e5640",
   "metadata": {},
   "source": [
    "In this course, we’ll frequently use the elasticsearch Python client for its ease of use and compatibility with Elasticsearch operations."
   ]
  }
 ],
 "metadata": {},
 "nbformat": 4,
 "nbformat_minor": 5
}
