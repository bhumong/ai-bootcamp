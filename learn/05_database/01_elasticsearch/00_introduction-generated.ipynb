{
 "cells": [
  {
   "cell_type": "markdown",
   "id": "b27e56cb",
   "metadata": {},
   "source": [
    "# Introduction to Elasticsearch"
   ]
  },
  {
   "cell_type": "markdown",
   "id": "e0761c44",
   "metadata": {},
   "source": []
  },
  {
   "cell_type": "markdown",
   "id": "f9931ea3",
   "metadata": {},
   "source": [
    "Elasticsearch (Source: technocratsid.com)"
   ]
  },
  {
   "cell_type": "markdown",
   "id": "56b1b85f",
   "metadata": {},
   "source": [
    "# A Brief Look at Elasticsearch"
   ]
  },
  {
   "cell_type": "markdown",
   "id": "ccec46b6",
   "metadata": {},
   "source": [
    "Elasticsearch is a powerful database management system that helps you navigate the complex maze of data. Known for its cutting-edge RESTful API-based search capabilities, Elasticsearch has proven itself as one of the most popular search-oriented databases."
   ]
  },
  {
   "cell_type": "markdown",
   "id": "c51195c4",
   "metadata": {},
   "source": [
    "What’s interesting is that Elasticsearch is open source and free. This means you can use, modify, and even contribute to its development. You can find it on Github at https://github.com/elastic/elasticsearch."
   ]
  },
  {
   "cell_type": "markdown",
   "id": "486326d5",
   "metadata": {},
   "source": [
    "Want to try it out? Visit the official Elastic website at https://www.elastic.co/elasticsearch/ to download the application."
   ]
  },
  {
   "cell_type": "markdown",
   "id": "4cfd24d3",
   "metadata": {},
   "source": [
    "Elasticsearch promises an exciting adventure in the world of data. Let’s embark on this journey!"
   ]
  },
  {
   "cell_type": "markdown",
   "id": "911e0db2",
   "metadata": {},
   "source": [
    "# Elasticsearch in the Market"
   ]
  },
  {
   "cell_type": "markdown",
   "id": "3ffe023d",
   "metadata": {},
   "source": [
    "Wondering about Elasticsearch’s standing in the database management systems market? Check db-engines.com, a platform that ranks these systems by popularity."
   ]
  },
  {
   "cell_type": "markdown",
   "id": "43ccdeb0",
   "metadata": {},
   "source": []
  },
  {
   "cell_type": "markdown",
   "id": "4e7f3c59",
   "metadata": {},
   "source": [
    "You’ll find Elasticsearch holding a high rank, reflecting its popularity and acceptance globally."
   ]
  },
  {
   "cell_type": "markdown",
   "id": "043aaf38",
   "metadata": {},
   "source": [
    "# Relational DB vs Elasticsearch: Terminology Comparison"
   ]
  },
  {
   "cell_type": "markdown",
   "id": "a9728068",
   "metadata": {},
   "source": [
    "If you’re from a Relational Database background, venturing into Elasticsearch might seem like stepping into an alien world. But don’t worry! Many of the concepts in Elasticsearch have analogs in the relational database realm. Here’s a handy chart to help you bridge the gap:"
   ]
  },
  {
   "cell_type": "markdown",
   "id": "3b734552",
   "metadata": {},
   "source": [
    "By understanding these key terms, you can navigate the Elasticsearch landscape more confidently. Remember, it’s not a whole new world, just a different way of looking at the same concepts. Let’s continue our journey through Elasticsearch!"
   ]
  },
  {
   "cell_type": "markdown",
   "id": "6c640f3f",
   "metadata": {},
   "source": [
    "# Understanding Elasticsearch Client"
   ]
  },
  {
   "cell_type": "markdown",
   "id": "20e1198f",
   "metadata": {},
   "source": [
    "An Elasticsearch client is a tool or library that facilitates communication with the Elasticsearch server. It simplifies the interaction with Elasticsearch’s RESTful API, enabling you to perform various operations on your data with ease."
   ]
  },
  {
   "cell_type": "markdown",
   "id": "d9b5bf17",
   "metadata": {},
   "source": [
    "# How Does It Work?"
   ]
  },
  {
   "cell_type": "markdown",
   "id": "c57d706c",
   "metadata": {},
   "source": [
    "Elasticsearch employs a RESTful API for interaction, making it accessible from any programming language capable of sending HTTP requests. Here’s how it works:"
   ]
  },
  {
   "cell_type": "markdown",
   "id": "3947d576",
   "metadata": {},
   "source": [
    "Keep in mind, all operations in Elasticsearch, including creating and deleting indices, adding, updating, and searching for documents, are performed through this RESTful API!"
   ]
  },
  {
   "cell_type": "markdown",
   "id": "0d2012ff",
   "metadata": {},
   "source": [
    "# Client Applications for Elasticsearch"
   ]
  },
  {
   "cell_type": "markdown",
   "id": "04105ca1",
   "metadata": {},
   "source": [
    "There are multiple client applications that you can use to interact with Elasticsearch:"
   ]
  },
  {
   "cell_type": "markdown",
   "id": "e16434f9",
   "metadata": {},
   "source": [
    "In this course, we’ll frequently use the elasticsearch Python client for its ease of use and compatibility with Elasticsearch operations."
   ]
  }
 ],
 "metadata": {},
 "nbformat": 4,
 "nbformat_minor": 5
}
