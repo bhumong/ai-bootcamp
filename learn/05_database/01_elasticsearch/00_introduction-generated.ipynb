{
 "cells": [
  {
   "cell_type": "markdown",
   "id": "3a4925d1",
   "metadata": {},
   "source": [
    "source: [link](https://ai-bootcamp.ruangguru.com/learn/05_database/01_elasticsearch/00_introduction.html)"
   ]
  },
  {
   "cell_type": "markdown",
   "id": "9ea367b0",
   "metadata": {},
   "source": [
    "# Introduction to Elasticsearch"
   ]
  },
  {
   "cell_type": "markdown",
   "id": "d78fe568",
   "metadata": {},
   "source": []
  },
  {
   "cell_type": "markdown",
   "id": "71e353e3",
   "metadata": {},
   "source": [
    "![Image](https://storage.googleapis.com/rg-ai-bootcamp/database/elasticsearch-min.png)"
   ]
  },
  {
   "cell_type": "markdown",
   "id": "045f8649",
   "metadata": {},
   "source": [
    "Elasticsearch (Source: technocratsid.com)"
   ]
  },
  {
   "cell_type": "markdown",
   "id": "e5b448d6",
   "metadata": {},
   "source": [
    "# A Brief Look at Elasticsearch"
   ]
  },
  {
   "cell_type": "markdown",
   "id": "d3b0e441",
   "metadata": {},
   "source": [
    "Elasticsearch is a powerful database management system that helps you navigate the complex maze of data. Known for its cutting-edge RESTful API-based search capabilities, Elasticsearch has proven itself as one of the most popular search-oriented databases."
   ]
  },
  {
   "cell_type": "markdown",
   "id": "714da46b",
   "metadata": {},
   "source": [
    "What’s interesting is that Elasticsearch is open source and free. This means you can use, modify, and even contribute to its development. You can find it on Github at https://github.com/elastic/elasticsearch."
   ]
  },
  {
   "cell_type": "markdown",
   "id": "b6a072c9",
   "metadata": {},
   "source": [
    "Want to try it out? Visit the official Elastic website at https://www.elastic.co/elasticsearch/ to download the application."
   ]
  },
  {
   "cell_type": "markdown",
   "id": "ce24249a",
   "metadata": {},
   "source": [
    "Elasticsearch promises an exciting adventure in the world of data. Let’s embark on this journey!"
   ]
  },
  {
   "cell_type": "markdown",
   "id": "79f70074",
   "metadata": {},
   "source": [
    "# Elasticsearch in the Market"
   ]
  },
  {
   "cell_type": "markdown",
   "id": "57926362",
   "metadata": {},
   "source": [
    "Wondering about Elasticsearch’s standing in the database management systems market? Check db-engines.com, a platform that ranks these systems by popularity."
   ]
  },
  {
   "cell_type": "markdown",
   "id": "a47211fa",
   "metadata": {},
   "source": []
  },
  {
   "cell_type": "markdown",
   "id": "fe821a2e",
   "metadata": {},
   "source": [
    "![Image](https://storage.googleapis.com/rg-ai-bootcamp/database/db-rank-min.png)"
   ]
  },
  {
   "cell_type": "markdown",
   "id": "80dbb450",
   "metadata": {},
   "source": [
    "You’ll find Elasticsearch holding a high rank, reflecting its popularity and acceptance globally."
   ]
  },
  {
   "cell_type": "markdown",
   "id": "a1087653",
   "metadata": {},
   "source": [
    "# Relational DB vs Elasticsearch: Terminology Comparison"
   ]
  },
  {
   "cell_type": "markdown",
   "id": "5997666e",
   "metadata": {},
   "source": [
    "If you’re from a Relational Database background, venturing into Elasticsearch might seem like stepping into an alien world. But don’t worry! Many of the concepts in Elasticsearch have analogs in the relational database realm. Here’s a handy chart to help you bridge the gap:"
   ]
  },
  {
   "cell_type": "markdown",
   "id": "fcd29613",
   "metadata": {},
   "source": [
    "| Relational DB | Elasticsearch |\n",
    "| --- | --- |\n",
    "| Database | Index |\n",
    "| Table | Type |\n",
    "| Column | Field / Attribute |\n",
    "| Row, Record | Document (JSON) |\n",
    "| Join Table | Embedded Document, Reference |\n",
    "| SQL | JSON |"
   ]
  },
  {
   "cell_type": "markdown",
   "id": "ab2fc5ac",
   "metadata": {},
   "source": [
    "By understanding these key terms, you can navigate the Elasticsearch landscape more confidently. Remember, it’s not a whole new world, just a different way of looking at the same concepts. Let’s continue our journey through Elasticsearch!"
   ]
  },
  {
   "cell_type": "markdown",
   "id": "f75f879f",
   "metadata": {},
   "source": [
    "# Understanding Elasticsearch Client"
   ]
  },
  {
   "cell_type": "markdown",
   "id": "a9e8d4b0",
   "metadata": {},
   "source": [
    "An Elasticsearch client is a tool or library that facilitates communication with the Elasticsearch server. It simplifies the interaction with Elasticsearch’s RESTful API, enabling you to perform various operations on your data with ease."
   ]
  },
  {
   "cell_type": "markdown",
   "id": "aa5a0e64",
   "metadata": {},
   "source": [
    "# How Does It Work?"
   ]
  },
  {
   "cell_type": "markdown",
   "id": "21a7b0c8",
   "metadata": {},
   "source": [
    "Elasticsearch employs a RESTful API for interaction, making it accessible from any programming language capable of sending HTTP requests. Here’s how it works:"
   ]
  },
  {
   "cell_type": "markdown",
   "id": "2d1f3132",
   "metadata": {},
   "source": [
    "Keep in mind, all operations in Elasticsearch, including creating and deleting indices, adding, updating, and searching for documents, are performed through this RESTful API!"
   ]
  },
  {
   "cell_type": "markdown",
   "id": "4db78319",
   "metadata": {},
   "source": [
    "# Client Applications for Elasticsearch"
   ]
  },
  {
   "cell_type": "markdown",
   "id": "01015dca",
   "metadata": {},
   "source": [
    "There are multiple client applications that you can use to interact with Elasticsearch:"
   ]
  },
  {
   "cell_type": "markdown",
   "id": "41d080a9",
   "metadata": {},
   "source": [
    "- Postman:Postmanis a widely-used API client that provides a user-friendly interface for building, testing, and modifying APIs.\n",
    "- Visual Studio Code REST Client:TheREST Clientextension for Visual Studio Code lets you send HTTP requests and view responses within Visual Studio Code directly.\n",
    "- curl:curlis a command-line tool for transferring data with URLs. It’s lightweight and versatile, able to communicate with nearly any network protocol.\n",
    "- Elasticsearch Python Client:TheelasticsearchPython library simplifies creating, reading, updating, and deleting data in Elasticsearch and performing other operations."
   ]
  },
  {
   "cell_type": "markdown",
   "id": "34d67096",
   "metadata": {},
   "source": [
    "In this course, we’ll frequently use the elasticsearch Python client for its ease of use and compatibility with Elasticsearch operations."
   ]
  }
 ],
 "metadata": {},
 "nbformat": 4,
 "nbformat_minor": 5
}
