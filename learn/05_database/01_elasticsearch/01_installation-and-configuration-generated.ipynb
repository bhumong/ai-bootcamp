{
 "cells": [
  {
   "cell_type": "markdown",
   "id": "c21ff14d",
   "metadata": {},
   "source": [
    "source: [https://ai-bootcamp.ruangguru.com/learn/05_database/01_elasticsearch/01_installation-and-configuration.html](https://ai-bootcamp.ruangguru.com/learn/05_database/01_elasticsearch/01_installation-and-configuration.html)"
   ]
  },
  {
   "cell_type": "markdown",
   "id": "e30f27d8",
   "metadata": {},
   "source": [
    "# Installation and Configuration"
   ]
  },
  {
   "cell_type": "markdown",
   "id": "daf646cb",
   "metadata": {},
   "source": []
  },
  {
   "cell_type": "markdown",
   "id": "b955e56d",
   "metadata": {},
   "source": [
    "![Image](https://storage.googleapis.com/rg-ai-bootcamp/database/elasticsearch-min.png)"
   ]
  },
  {
   "cell_type": "markdown",
   "id": "59ea6372",
   "metadata": {},
   "source": [
    "Elasticsearch (Source: technocratsid.com)"
   ]
  },
  {
   "cell_type": "markdown",
   "id": "fe9ec0b2",
   "metadata": {},
   "source": [
    "# Downloading Elasticsearch"
   ]
  },
  {
   "cell_type": "markdown",
   "id": "df559fda",
   "metadata": {},
   "source": [
    "Follow these steps to download Elasticsearch:"
   ]
  },
  {
   "cell_type": "markdown",
   "id": "716b0284",
   "metadata": {},
   "source": [
    "# Elasticsearch Configuration"
   ]
  },
  {
   "cell_type": "markdown",
   "id": "e6aba293",
   "metadata": {},
   "source": [
    "Upon setup, adjust some configurations:"
   ]
  },
  {
   "cell_type": "markdown",
   "id": "b6daa157",
   "metadata": {},
   "source": []
  },
  {
   "cell_type": "markdown",
   "id": "8e5f787d",
   "metadata": {},
   "source": [
    "![Image](https://storage.googleapis.com/rg-ai-bootcamp/database/elasticsearch-yml-min.png)"
   ]
  },
  {
   "cell_type": "markdown",
   "id": "37e1be96",
   "metadata": {},
   "source": [
    "Remember to save and restart your Elasticsearch instance after changes!"
   ]
  },
  {
   "cell_type": "markdown",
   "id": "5f21d381",
   "metadata": {},
   "source": [
    "# Running Elasticsearch"
   ]
  },
  {
   "cell_type": "markdown",
   "id": "50125e14",
   "metadata": {},
   "source": [
    "After download and configuration, you’re set to run Elasticsearch:"
   ]
  },
  {
   "cell_type": "markdown",
   "id": "84b6262e",
   "metadata": {},
   "source": [
    "Keep Elasticsearch running to interact with it, whether for creating indices, querying data, or other tasks!"
   ]
  },
  {
   "cell_type": "markdown",
   "id": "43bb23af",
   "metadata": {},
   "source": [
    "# Status Elasticsearch"
   ]
  },
  {
   "cell_type": "markdown",
   "id": "ae3379d0",
   "metadata": {},
   "source": [
    "You can check the status of your Elasticsearch instance by sending a GET request to its HTTP API. This is usually done by accessing the root path, or home page, of your Elasticsearch instance. If your Elasticsearch server is running locally, the URL will typically be http://localhost:9200."
   ]
  },
  {
   "cell_type": "markdown",
   "id": "7bd4aff2",
   "metadata": {},
   "source": [
    "When you navigate to this URL, you should see a JSON response with information about your Elasticsearch instance. Here’s what the response looks like:"
   ]
  },
  {
   "cell_type": "markdown",
   "id": "8db84ec4",
   "metadata": {},
   "source": []
  },
  {
   "cell_type": "markdown",
   "id": "55aebd6f",
   "metadata": {},
   "source": [
    "![Image](https://storage.googleapis.com/rg-ai-bootcamp/database/es-running-min.png)"
   ]
  },
  {
   "cell_type": "markdown",
   "id": "25313efe",
   "metadata": {},
   "source": [
    "# Setting Up Elasticsearch on Google Colaboratory"
   ]
  },
  {
   "cell_type": "markdown",
   "id": "4fd7210b",
   "metadata": {},
   "source": [
    "Imagine you’re a data scientist working on your machine learning project. You’re dealing with a large amount of data that needs to be searched and analyzed efficiently. Elasticsearch, a powerful search and analytics engine, comes to mind. But there’s a problem: your local machine may not have the resources to handle an Elasticsearch instance and the associated data workload."
   ]
  },
  {
   "cell_type": "markdown",
   "id": "de5dea67",
   "metadata": {},
   "source": [
    "Here’s where Google Colab, a cloud-based Python notebook service, comes in handy. By setting up Elasticsearch on Google Colab, you can leverage the power of cloud computing to handle your data workload, freeing up your local resources. Now let’s dive into how to set this up!"
   ]
  },
  {
   "cell_type": "markdown",
   "id": "695def56",
   "metadata": {},
   "source": [
    "Now, we need to download and set up the Elasticsearch instance. For our purposes, we’ll use the open-source version of Elasticsearch."
   ]
  },
  {
   "cell_type": "code",
   "execution_count": null,
   "id": "f870cb26",
   "metadata": {},
   "outputs": [],
   "source": [
    "%%bash\n",
    "\n",
    "wget -q https://artifacts.elastic.co/downloads/elasticsearch/elasticsearch-oss-7.9.2-linux-x86_64.tar.gz\n",
    "wget -q https://artifacts.elastic.co/downloads/elasticsearch/elasticsearch-oss-7.9.2-linux-x86_64.tar.gz.sha512\n",
    "tar -xzf elasticsearch-oss-7.9.2-linux-x86_64.tar.gz\n",
    "sudo chown -R daemon:daemon elasticsearch-7.9.2/\n",
    "shasum -a 512 -c elasticsearch-oss-7.9.2-linux-x86_64.tar.gz.sha512 "
   ]
  },
  {
   "cell_type": "markdown",
   "id": "5d48a07c",
   "metadata": {},
   "source": [
    "We’re ready to start our Elasticsearch instance! We’ll run it as a daemon process:"
   ]
  },
  {
   "cell_type": "code",
   "execution_count": null,
   "id": "7e4b0afe",
   "metadata": {},
   "outputs": [],
   "source": [
    "%%bash --bg\n",
    "\n",
    "sudo -H -u daemon elasticsearch-7.9.2/bin/elasticsearch"
   ]
  },
  {
   "cell_type": "markdown",
   "id": "d8b456b4",
   "metadata": {},
   "source": [
    "It takes a few seconds for the instance to start. Let’s pause our script for a bit to let Elasticsearch get up and running:"
   ]
  },
  {
   "cell_type": "code",
   "execution_count": null,
   "id": "fccc2ace",
   "metadata": {},
   "outputs": [],
   "source": [
    "time.sleep(20)"
   ]
  },
  {
   "cell_type": "markdown",
   "id": "17715d4b",
   "metadata": {},
   "source": [
    "Once the instance has started, we can check its availability by looking for elasticsearch in the process list:"
   ]
  },
  {
   "cell_type": "code",
   "execution_count": null,
   "id": "12a60dbe",
   "metadata": {},
   "outputs": [],
   "source": [
    "%%bash\n",
    "\n",
    "ps -ef | grep elasticsearch"
   ]
  },
  {
   "cell_type": "markdown",
   "id": "a33fa509",
   "metadata": {},
   "source": [
    "Finally, let’s make sure our Elasticsearch instance is working correctly by querying the base endpoint:"
   ]
  },
  {
   "cell_type": "code",
   "execution_count": null,
   "id": "44a90b41",
   "metadata": {},
   "outputs": [],
   "source": [
    "%%bash\n",
    "\n",
    "curl -sX GET \"localhost:9200/\""
   ]
  },
  {
   "cell_type": "markdown",
   "id": "db8b7a81",
   "metadata": {},
   "source": [
    "By setting up Elasticsearch on Google Colab, we’ve solved our problem! We now have a powerful search and analytics engine at our disposal, without the need for any local resources."
   ]
  }
 ],
 "metadata": {},
 "nbformat": 4,
 "nbformat_minor": 5
}
