{
 "cells": [
  {
   "cell_type": "markdown",
   "id": "1fb5fd1a",
   "metadata": {},
   "source": [
    "source: [link](https://ai-bootcamp.ruangguru.com/learn/05_database/01_elasticsearch/01_installation-and-configuration.html)"
   ]
  },
  {
   "cell_type": "markdown",
   "id": "882bf7fc",
   "metadata": {},
   "source": [
    "# Installation and Configuration"
   ]
  },
  {
   "cell_type": "markdown",
   "id": "54312088",
   "metadata": {},
   "source": []
  },
  {
   "cell_type": "markdown",
   "id": "e0a37c7e",
   "metadata": {},
   "source": [
    "![Image](https://storage.googleapis.com/rg-ai-bootcamp/database/elasticsearch-min.png)"
   ]
  },
  {
   "cell_type": "markdown",
   "id": "bf9948ad",
   "metadata": {},
   "source": [
    "Elasticsearch (Source: technocratsid.com)"
   ]
  },
  {
   "cell_type": "markdown",
   "id": "64bada60",
   "metadata": {},
   "source": [
    "# Downloading Elasticsearch"
   ]
  },
  {
   "cell_type": "markdown",
   "id": "12b20ff4",
   "metadata": {},
   "source": [
    "Follow these steps to download Elasticsearch:"
   ]
  },
  {
   "cell_type": "markdown",
   "id": "ba456c9d",
   "metadata": {},
   "source": [
    "# Elasticsearch Configuration"
   ]
  },
  {
   "cell_type": "markdown",
   "id": "71db613f",
   "metadata": {},
   "source": [
    "Upon setup, adjust some configurations:"
   ]
  },
  {
   "cell_type": "markdown",
   "id": "57c44a25",
   "metadata": {},
   "source": []
  },
  {
   "cell_type": "markdown",
   "id": "86cdbea5",
   "metadata": {},
   "source": [
    "![Image](https://storage.googleapis.com/rg-ai-bootcamp/database/elasticsearch-yml-min.png)"
   ]
  },
  {
   "cell_type": "markdown",
   "id": "1b4b6bfc",
   "metadata": {},
   "source": [
    "Remember to save and restart your Elasticsearch instance after changes!"
   ]
  },
  {
   "cell_type": "markdown",
   "id": "d84801a1",
   "metadata": {},
   "source": [
    "# Running Elasticsearch"
   ]
  },
  {
   "cell_type": "markdown",
   "id": "378deda8",
   "metadata": {},
   "source": [
    "After download and configuration, you’re set to run Elasticsearch:"
   ]
  },
  {
   "cell_type": "markdown",
   "id": "6ae9e089",
   "metadata": {},
   "source": [
    "Keep Elasticsearch running to interact with it, whether for creating indices, querying data, or other tasks!"
   ]
  },
  {
   "cell_type": "markdown",
   "id": "d2d47b67",
   "metadata": {},
   "source": [
    "# Status Elasticsearch"
   ]
  },
  {
   "cell_type": "markdown",
   "id": "f77af71b",
   "metadata": {},
   "source": [
    "You can check the status of your Elasticsearch instance by sending a GET request to its HTTP API. This is usually done by accessing the root path, or home page, of your Elasticsearch instance. If your Elasticsearch server is running locally, the URL will typically be http://localhost:9200."
   ]
  },
  {
   "cell_type": "markdown",
   "id": "ee2f9bdc",
   "metadata": {},
   "source": [
    "When you navigate to this URL, you should see a JSON response with information about your Elasticsearch instance. Here’s what the response looks like:"
   ]
  },
  {
   "cell_type": "markdown",
   "id": "1ddde1c1",
   "metadata": {},
   "source": []
  },
  {
   "cell_type": "markdown",
   "id": "b460afd5",
   "metadata": {},
   "source": [
    "![Image](https://storage.googleapis.com/rg-ai-bootcamp/database/es-running-min.png)"
   ]
  },
  {
   "cell_type": "markdown",
   "id": "073e5f4a",
   "metadata": {},
   "source": [
    "# Setting Up Elasticsearch on Google Colaboratory"
   ]
  },
  {
   "cell_type": "markdown",
   "id": "549be525",
   "metadata": {},
   "source": [
    "Imagine you’re a data scientist working on your machine learning project. You’re dealing with a large amount of data that needs to be searched and analyzed efficiently. Elasticsearch, a powerful search and analytics engine, comes to mind. But there’s a problem: your local machine may not have the resources to handle an Elasticsearch instance and the associated data workload."
   ]
  },
  {
   "cell_type": "markdown",
   "id": "e0b87aae",
   "metadata": {},
   "source": [
    "Here’s where Google Colab, a cloud-based Python notebook service, comes in handy. By setting up Elasticsearch on Google Colab, you can leverage the power of cloud computing to handle your data workload, freeing up your local resources. Now let’s dive into how to set this up!"
   ]
  },
  {
   "cell_type": "markdown",
   "id": "b2c67b82",
   "metadata": {},
   "source": [
    "Now, we need to download and set up the Elasticsearch instance. For our purposes, we’ll use the open-source version of Elasticsearch."
   ]
  },
  {
   "cell_type": "code",
   "execution_count": null,
   "id": "88b4a1a1",
   "metadata": {},
   "outputs": [],
   "source": [
    "%%bash\n",
    "\n",
    "wget -q https://artifacts.elastic.co/downloads/elasticsearch/elasticsearch-oss-7.9.2-linux-x86_64.tar.gz\n",
    "wget -q https://artifacts.elastic.co/downloads/elasticsearch/elasticsearch-oss-7.9.2-linux-x86_64.tar.gz.sha512\n",
    "tar -xzf elasticsearch-oss-7.9.2-linux-x86_64.tar.gz\n",
    "sudo chown -R daemon:daemon elasticsearch-7.9.2/\n",
    "shasum -a 512 -c elasticsearch-oss-7.9.2-linux-x86_64.tar.gz.sha512 "
   ]
  },
  {
   "cell_type": "markdown",
   "id": "1eea8982",
   "metadata": {},
   "source": [
    "We’re ready to start our Elasticsearch instance! We’ll run it as a daemon process:"
   ]
  },
  {
   "cell_type": "code",
   "execution_count": null,
   "id": "f8e7a0b4",
   "metadata": {},
   "outputs": [],
   "source": [
    "%%bash --bg\n",
    "\n",
    "sudo -H -u daemon elasticsearch-7.9.2/bin/elasticsearch"
   ]
  },
  {
   "cell_type": "markdown",
   "id": "0d733fdb",
   "metadata": {},
   "source": [
    "It takes a few seconds for the instance to start. Let’s pause our script for a bit to let Elasticsearch get up and running:"
   ]
  },
  {
   "cell_type": "code",
   "execution_count": null,
   "id": "881d5eb4",
   "metadata": {},
   "outputs": [],
   "source": [
    "time.sleep(20)"
   ]
  },
  {
   "cell_type": "markdown",
   "id": "cafbe858",
   "metadata": {},
   "source": [
    "Once the instance has started, we can check its availability by looking for elasticsearch in the process list:"
   ]
  },
  {
   "cell_type": "code",
   "execution_count": null,
   "id": "60d71630",
   "metadata": {},
   "outputs": [],
   "source": [
    "%%bash\n",
    "\n",
    "ps -ef | grep elasticsearch"
   ]
  },
  {
   "cell_type": "markdown",
   "id": "d179e870",
   "metadata": {},
   "source": [
    "Finally, let’s make sure our Elasticsearch instance is working correctly by querying the base endpoint:"
   ]
  },
  {
   "cell_type": "code",
   "execution_count": null,
   "id": "3fe45c47",
   "metadata": {},
   "outputs": [],
   "source": [
    "%%bash\n",
    "\n",
    "curl -sX GET \"localhost:9200/\""
   ]
  },
  {
   "cell_type": "markdown",
   "id": "17bbeadb",
   "metadata": {},
   "source": [
    "By setting up Elasticsearch on Google Colab, we’ve solved our problem! We now have a powerful search and analytics engine at our disposal, without the need for any local resources."
   ]
  }
 ],
 "metadata": {},
 "nbformat": 4,
 "nbformat_minor": 5
}
