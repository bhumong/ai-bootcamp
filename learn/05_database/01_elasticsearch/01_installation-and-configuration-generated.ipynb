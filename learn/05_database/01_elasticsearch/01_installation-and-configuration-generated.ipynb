{
 "cells": [
  {
   "cell_type": "markdown",
   "id": "8c4dc886",
   "metadata": {},
   "source": [
    "source: [link](https://ai-bootcamp.ruangguru.com/learn/05_database/01_elasticsearch/01_installation-and-configuration.html)"
   ]
  },
  {
   "cell_type": "markdown",
   "id": "4f0e8dc4",
   "metadata": {},
   "source": [
    "# Installation and Configuration"
   ]
  },
  {
   "cell_type": "markdown",
   "id": "821811b0",
   "metadata": {},
   "source": []
  },
  {
   "cell_type": "markdown",
   "id": "50cce382",
   "metadata": {},
   "source": [
    "![Image](https://storage.googleapis.com/rg-ai-bootcamp/database/elasticsearch-min.png)"
   ]
  },
  {
   "cell_type": "markdown",
   "id": "23fa462a",
   "metadata": {},
   "source": [
    "Elasticsearch (Source: technocratsid.com)"
   ]
  },
  {
   "cell_type": "markdown",
   "id": "061f1cf9",
   "metadata": {},
   "source": [
    "# Downloading Elasticsearch"
   ]
  },
  {
   "cell_type": "markdown",
   "id": "b88a0fef",
   "metadata": {},
   "source": [
    "Follow these steps to download Elasticsearch:"
   ]
  },
  {
   "cell_type": "markdown",
   "id": "9b8648a7",
   "metadata": {},
   "source": [
    "# Elasticsearch Configuration"
   ]
  },
  {
   "cell_type": "markdown",
   "id": "efa59e31",
   "metadata": {},
   "source": [
    "Upon setup, adjust some configurations:"
   ]
  },
  {
   "cell_type": "markdown",
   "id": "9eb29b25",
   "metadata": {},
   "source": []
  },
  {
   "cell_type": "markdown",
   "id": "3804e914",
   "metadata": {},
   "source": [
    "![Image](https://storage.googleapis.com/rg-ai-bootcamp/database/elasticsearch-yml-min.png)"
   ]
  },
  {
   "cell_type": "markdown",
   "id": "3084a299",
   "metadata": {},
   "source": [
    "Remember to save and restart your Elasticsearch instance after changes!"
   ]
  },
  {
   "cell_type": "markdown",
   "id": "3c6f1162",
   "metadata": {},
   "source": [
    "# Running Elasticsearch"
   ]
  },
  {
   "cell_type": "markdown",
   "id": "c91b1543",
   "metadata": {},
   "source": [
    "After download and configuration, you’re set to run Elasticsearch:"
   ]
  },
  {
   "cell_type": "markdown",
   "id": "01f58f9f",
   "metadata": {},
   "source": [
    "Keep Elasticsearch running to interact with it, whether for creating indices, querying data, or other tasks!"
   ]
  },
  {
   "cell_type": "markdown",
   "id": "704b7b3a",
   "metadata": {},
   "source": [
    "# Status Elasticsearch"
   ]
  },
  {
   "cell_type": "markdown",
   "id": "4730e83e",
   "metadata": {},
   "source": [
    "You can check the status of your Elasticsearch instance by sending a GET request to its HTTP API. This is usually done by accessing the root path, or home page, of your Elasticsearch instance. If your Elasticsearch server is running locally, the URL will typically be http://localhost:9200."
   ]
  },
  {
   "cell_type": "markdown",
   "id": "560040b3",
   "metadata": {},
   "source": [
    "When you navigate to this URL, you should see a JSON response with information about your Elasticsearch instance. Here’s what the response looks like:"
   ]
  },
  {
   "cell_type": "markdown",
   "id": "10aeec37",
   "metadata": {},
   "source": []
  },
  {
   "cell_type": "markdown",
   "id": "7d90cd8b",
   "metadata": {},
   "source": [
    "![Image](https://storage.googleapis.com/rg-ai-bootcamp/database/es-running-min.png)"
   ]
  },
  {
   "cell_type": "markdown",
   "id": "112711b2",
   "metadata": {},
   "source": [
    "# Setting Up Elasticsearch on Google Colaboratory"
   ]
  },
  {
   "cell_type": "markdown",
   "id": "2fe0d7af",
   "metadata": {},
   "source": [
    "Imagine you’re a data scientist working on your machine learning project. You’re dealing with a large amount of data that needs to be searched and analyzed efficiently. Elasticsearch, a powerful search and analytics engine, comes to mind. But there’s a problem: your local machine may not have the resources to handle an Elasticsearch instance and the associated data workload."
   ]
  },
  {
   "cell_type": "markdown",
   "id": "c07077a0",
   "metadata": {},
   "source": [
    "Here’s where Google Colab, a cloud-based Python notebook service, comes in handy. By setting up Elasticsearch on Google Colab, you can leverage the power of cloud computing to handle your data workload, freeing up your local resources. Now let’s dive into how to set this up!"
   ]
  },
  {
   "cell_type": "markdown",
   "id": "1b05c2ac",
   "metadata": {},
   "source": [
    "Now, we need to download and set up the Elasticsearch instance. For our purposes, we’ll use the open-source version of Elasticsearch."
   ]
  },
  {
   "cell_type": "code",
   "execution_count": null,
   "id": "c35c6a3d",
   "metadata": {},
   "outputs": [],
   "source": [
    "%%bash\n",
    "\n",
    "wget -q https://artifacts.elastic.co/downloads/elasticsearch/elasticsearch-oss-7.9.2-linux-x86_64.tar.gz\n",
    "wget -q https://artifacts.elastic.co/downloads/elasticsearch/elasticsearch-oss-7.9.2-linux-x86_64.tar.gz.sha512\n",
    "tar -xzf elasticsearch-oss-7.9.2-linux-x86_64.tar.gz\n",
    "sudo chown -R daemon:daemon elasticsearch-7.9.2/\n",
    "shasum -a 512 -c elasticsearch-oss-7.9.2-linux-x86_64.tar.gz.sha512 "
   ]
  },
  {
   "cell_type": "markdown",
   "id": "814eb772",
   "metadata": {},
   "source": [
    "We’re ready to start our Elasticsearch instance! We’ll run it as a daemon process:"
   ]
  },
  {
   "cell_type": "code",
   "execution_count": null,
   "id": "117ecdeb",
   "metadata": {},
   "outputs": [],
   "source": [
    "%%bash --bg\n",
    "\n",
    "sudo -H -u daemon elasticsearch-7.9.2/bin/elasticsearch"
   ]
  },
  {
   "cell_type": "markdown",
   "id": "fdd6d02b",
   "metadata": {},
   "source": [
    "It takes a few seconds for the instance to start. Let’s pause our script for a bit to let Elasticsearch get up and running:"
   ]
  },
  {
   "cell_type": "code",
   "execution_count": null,
   "id": "453b66dd",
   "metadata": {},
   "outputs": [],
   "source": [
    "time.sleep(20)"
   ]
  },
  {
   "cell_type": "markdown",
   "id": "b9314c68",
   "metadata": {},
   "source": [
    "Once the instance has started, we can check its availability by looking for elasticsearch in the process list:"
   ]
  },
  {
   "cell_type": "code",
   "execution_count": null,
   "id": "58b0eb37",
   "metadata": {},
   "outputs": [],
   "source": [
    "%%bash\n",
    "\n",
    "ps -ef | grep elasticsearch"
   ]
  },
  {
   "cell_type": "markdown",
   "id": "4839f122",
   "metadata": {},
   "source": [
    "Finally, let’s make sure our Elasticsearch instance is working correctly by querying the base endpoint:"
   ]
  },
  {
   "cell_type": "code",
   "execution_count": null,
   "id": "f4c740ef",
   "metadata": {},
   "outputs": [],
   "source": [
    "%%bash\n",
    "\n",
    "curl -sX GET \"localhost:9200/\""
   ]
  },
  {
   "cell_type": "markdown",
   "id": "8c01370f",
   "metadata": {},
   "source": [
    "By setting up Elasticsearch on Google Colab, we’ve solved our problem! We now have a powerful search and analytics engine at our disposal, without the need for any local resources."
   ]
  }
 ],
 "metadata": {},
 "nbformat": 4,
 "nbformat_minor": 5
}
