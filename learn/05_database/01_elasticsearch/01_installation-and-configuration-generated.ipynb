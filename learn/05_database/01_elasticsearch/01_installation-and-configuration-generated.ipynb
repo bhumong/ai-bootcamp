{
 "cells": [
  {
   "cell_type": "markdown",
   "id": "54bb80fa",
   "metadata": {},
   "source": [
    "source: [link](https://ai-bootcamp.ruangguru.com/learn/05_database/01_elasticsearch/01_installation-and-configuration.html)"
   ]
  },
  {
   "cell_type": "markdown",
   "id": "d4a4c8a3",
   "metadata": {},
   "source": [
    "# Installation and Configuration"
   ]
  },
  {
   "cell_type": "markdown",
   "id": "2e350dc1",
   "metadata": {},
   "source": []
  },
  {
   "cell_type": "markdown",
   "id": "52663a51",
   "metadata": {},
   "source": [
    "![Image](https://storage.googleapis.com/rg-ai-bootcamp/database/elasticsearch-min.png)"
   ]
  },
  {
   "cell_type": "markdown",
   "id": "93db7b98",
   "metadata": {},
   "source": [
    "Elasticsearch (Source: technocratsid.com)"
   ]
  },
  {
   "cell_type": "markdown",
   "id": "1b7033e3",
   "metadata": {},
   "source": [
    "# Downloading Elasticsearch"
   ]
  },
  {
   "cell_type": "markdown",
   "id": "ef2517db",
   "metadata": {},
   "source": [
    "Follow these steps to download Elasticsearch:"
   ]
  },
  {
   "cell_type": "markdown",
   "id": "4a9315fc",
   "metadata": {},
   "source": [
    "# Elasticsearch Configuration"
   ]
  },
  {
   "cell_type": "markdown",
   "id": "53e1f63d",
   "metadata": {},
   "source": [
    "Upon setup, adjust some configurations:"
   ]
  },
  {
   "cell_type": "markdown",
   "id": "590740a0",
   "metadata": {},
   "source": []
  },
  {
   "cell_type": "markdown",
   "id": "8e66dc5f",
   "metadata": {},
   "source": [
    "![Image](https://storage.googleapis.com/rg-ai-bootcamp/database/elasticsearch-yml-min.png)"
   ]
  },
  {
   "cell_type": "markdown",
   "id": "2dc8c715",
   "metadata": {},
   "source": [
    "Remember to save and restart your Elasticsearch instance after changes!"
   ]
  },
  {
   "cell_type": "markdown",
   "id": "54c6f868",
   "metadata": {},
   "source": [
    "# Running Elasticsearch"
   ]
  },
  {
   "cell_type": "markdown",
   "id": "fd9440c4",
   "metadata": {},
   "source": [
    "After download and configuration, you’re set to run Elasticsearch:"
   ]
  },
  {
   "cell_type": "markdown",
   "id": "f67f9576",
   "metadata": {},
   "source": [
    "Keep Elasticsearch running to interact with it, whether for creating indices, querying data, or other tasks!"
   ]
  },
  {
   "cell_type": "markdown",
   "id": "7ca1ef30",
   "metadata": {},
   "source": [
    "# Status Elasticsearch"
   ]
  },
  {
   "cell_type": "markdown",
   "id": "63c9fd69",
   "metadata": {},
   "source": [
    "You can check the status of your Elasticsearch instance by sending a GET request to its HTTP API. This is usually done by accessing the root path, or home page, of your Elasticsearch instance. If your Elasticsearch server is running locally, the URL will typically be http://localhost:9200."
   ]
  },
  {
   "cell_type": "markdown",
   "id": "d72027d9",
   "metadata": {},
   "source": [
    "When you navigate to this URL, you should see a JSON response with information about your Elasticsearch instance. Here’s what the response looks like:"
   ]
  },
  {
   "cell_type": "markdown",
   "id": "e0329af5",
   "metadata": {},
   "source": []
  },
  {
   "cell_type": "markdown",
   "id": "8588029b",
   "metadata": {},
   "source": [
    "![Image](https://storage.googleapis.com/rg-ai-bootcamp/database/es-running-min.png)"
   ]
  },
  {
   "cell_type": "markdown",
   "id": "5a1e5d97",
   "metadata": {},
   "source": [
    "# Setting Up Elasticsearch on Google Colaboratory"
   ]
  },
  {
   "cell_type": "markdown",
   "id": "13af5baf",
   "metadata": {},
   "source": [
    "Imagine you’re a data scientist working on your machine learning project. You’re dealing with a large amount of data that needs to be searched and analyzed efficiently. Elasticsearch, a powerful search and analytics engine, comes to mind. But there’s a problem: your local machine may not have the resources to handle an Elasticsearch instance and the associated data workload."
   ]
  },
  {
   "cell_type": "markdown",
   "id": "2e3f0118",
   "metadata": {},
   "source": [
    "Here’s where Google Colab, a cloud-based Python notebook service, comes in handy. By setting up Elasticsearch on Google Colab, you can leverage the power of cloud computing to handle your data workload, freeing up your local resources. Now let’s dive into how to set this up!"
   ]
  },
  {
   "cell_type": "markdown",
   "id": "d83ba578",
   "metadata": {},
   "source": [
    "Now, we need to download and set up the Elasticsearch instance. For our purposes, we’ll use the open-source version of Elasticsearch."
   ]
  },
  {
   "cell_type": "code",
   "execution_count": null,
   "id": "fd3e189b",
   "metadata": {},
   "outputs": [],
   "source": [
    "%%bash\n",
    "\n",
    "wget -q https://artifacts.elastic.co/downloads/elasticsearch/elasticsearch-oss-7.9.2-linux-x86_64.tar.gz\n",
    "wget -q https://artifacts.elastic.co/downloads/elasticsearch/elasticsearch-oss-7.9.2-linux-x86_64.tar.gz.sha512\n",
    "tar -xzf elasticsearch-oss-7.9.2-linux-x86_64.tar.gz\n",
    "sudo chown -R daemon:daemon elasticsearch-7.9.2/\n",
    "shasum -a 512 -c elasticsearch-oss-7.9.2-linux-x86_64.tar.gz.sha512 "
   ]
  },
  {
   "cell_type": "markdown",
   "id": "19c87f8a",
   "metadata": {},
   "source": [
    "We’re ready to start our Elasticsearch instance! We’ll run it as a daemon process:"
   ]
  },
  {
   "cell_type": "code",
   "execution_count": null,
   "id": "4d5fdc24",
   "metadata": {},
   "outputs": [],
   "source": [
    "%%bash --bg\n",
    "\n",
    "sudo -H -u daemon elasticsearch-7.9.2/bin/elasticsearch"
   ]
  },
  {
   "cell_type": "markdown",
   "id": "2c1d5542",
   "metadata": {},
   "source": [
    "It takes a few seconds for the instance to start. Let’s pause our script for a bit to let Elasticsearch get up and running:"
   ]
  },
  {
   "cell_type": "code",
   "execution_count": null,
   "id": "88a75ead",
   "metadata": {},
   "outputs": [],
   "source": [
    "time.sleep(20)"
   ]
  },
  {
   "cell_type": "markdown",
   "id": "61c1681f",
   "metadata": {},
   "source": [
    "Once the instance has started, we can check its availability by looking for elasticsearch in the process list:"
   ]
  },
  {
   "cell_type": "code",
   "execution_count": null,
   "id": "3ebd58a0",
   "metadata": {},
   "outputs": [],
   "source": [
    "%%bash\n",
    "\n",
    "ps -ef | grep elasticsearch"
   ]
  },
  {
   "cell_type": "markdown",
   "id": "1359e0e0",
   "metadata": {},
   "source": [
    "Finally, let’s make sure our Elasticsearch instance is working correctly by querying the base endpoint:"
   ]
  },
  {
   "cell_type": "code",
   "execution_count": null,
   "id": "47f39ac3",
   "metadata": {},
   "outputs": [],
   "source": [
    "%%bash\n",
    "\n",
    "curl -sX GET \"localhost:9200/\""
   ]
  },
  {
   "cell_type": "markdown",
   "id": "d213834e",
   "metadata": {},
   "source": [
    "By setting up Elasticsearch on Google Colab, we’ve solved our problem! We now have a powerful search and analytics engine at our disposal, without the need for any local resources."
   ]
  }
 ],
 "metadata": {},
 "nbformat": 4,
 "nbformat_minor": 5
}
