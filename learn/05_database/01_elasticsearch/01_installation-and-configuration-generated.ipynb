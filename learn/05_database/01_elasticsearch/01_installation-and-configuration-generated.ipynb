{
 "cells": [
  {
   "cell_type": "markdown",
   "id": "48d0a2c3",
   "metadata": {},
   "source": [
    "# Installation and Configuration"
   ]
  },
  {
   "cell_type": "markdown",
   "id": "68be005b",
   "metadata": {},
   "source": []
  },
  {
   "cell_type": "markdown",
   "id": "a0ebacc0",
   "metadata": {},
   "source": [
    "![Image](https://storage.googleapis.com/rg-ai-bootcamp/database/elasticsearch-min.png)"
   ]
  },
  {
   "cell_type": "markdown",
   "id": "b656e4f4",
   "metadata": {},
   "source": [
    "Elasticsearch (Source: technocratsid.com)"
   ]
  },
  {
   "cell_type": "markdown",
   "id": "1bf44f77",
   "metadata": {},
   "source": [
    "# Downloading Elasticsearch"
   ]
  },
  {
   "cell_type": "markdown",
   "id": "7b6c0cac",
   "metadata": {},
   "source": [
    "Follow these steps to download Elasticsearch:"
   ]
  },
  {
   "cell_type": "markdown",
   "id": "600b3146",
   "metadata": {},
   "source": [
    "# Elasticsearch Configuration"
   ]
  },
  {
   "cell_type": "markdown",
   "id": "74f9de81",
   "metadata": {},
   "source": [
    "Upon setup, adjust some configurations:"
   ]
  },
  {
   "cell_type": "markdown",
   "id": "50bccaa7",
   "metadata": {},
   "source": []
  },
  {
   "cell_type": "markdown",
   "id": "4d5978f6",
   "metadata": {},
   "source": [
    "![Image](https://storage.googleapis.com/rg-ai-bootcamp/database/elasticsearch-yml-min.png)"
   ]
  },
  {
   "cell_type": "markdown",
   "id": "0dd7ffe6",
   "metadata": {},
   "source": [
    "Remember to save and restart your Elasticsearch instance after changes!"
   ]
  },
  {
   "cell_type": "markdown",
   "id": "1f8fb4aa",
   "metadata": {},
   "source": [
    "# Running Elasticsearch"
   ]
  },
  {
   "cell_type": "markdown",
   "id": "94cfe720",
   "metadata": {},
   "source": [
    "After download and configuration, you’re set to run Elasticsearch:"
   ]
  },
  {
   "cell_type": "markdown",
   "id": "2fe7222b",
   "metadata": {},
   "source": [
    "Keep Elasticsearch running to interact with it, whether for creating indices, querying data, or other tasks!"
   ]
  },
  {
   "cell_type": "markdown",
   "id": "e1f4fd9b",
   "metadata": {},
   "source": [
    "# Status Elasticsearch"
   ]
  },
  {
   "cell_type": "markdown",
   "id": "2397c61a",
   "metadata": {},
   "source": [
    "You can check the status of your Elasticsearch instance by sending a GET request to its HTTP API. This is usually done by accessing the root path, or home page, of your Elasticsearch instance. If your Elasticsearch server is running locally, the URL will typically be http://localhost:9200."
   ]
  },
  {
   "cell_type": "markdown",
   "id": "d866daae",
   "metadata": {},
   "source": [
    "When you navigate to this URL, you should see a JSON response with information about your Elasticsearch instance. Here’s what the response looks like:"
   ]
  },
  {
   "cell_type": "markdown",
   "id": "304463c0",
   "metadata": {},
   "source": []
  },
  {
   "cell_type": "markdown",
   "id": "70d26492",
   "metadata": {},
   "source": [
    "![Image](https://storage.googleapis.com/rg-ai-bootcamp/database/es-running-min.png)"
   ]
  },
  {
   "cell_type": "markdown",
   "id": "c089de9e",
   "metadata": {},
   "source": [
    "# Setting Up Elasticsearch on Google Colaboratory"
   ]
  },
  {
   "cell_type": "markdown",
   "id": "4b0e19f3",
   "metadata": {},
   "source": [
    "Imagine you’re a data scientist working on your machine learning project. You’re dealing with a large amount of data that needs to be searched and analyzed efficiently. Elasticsearch, a powerful search and analytics engine, comes to mind. But there’s a problem: your local machine may not have the resources to handle an Elasticsearch instance and the associated data workload."
   ]
  },
  {
   "cell_type": "markdown",
   "id": "334fd607",
   "metadata": {},
   "source": [
    "Here’s where Google Colab, a cloud-based Python notebook service, comes in handy. By setting up Elasticsearch on Google Colab, you can leverage the power of cloud computing to handle your data workload, freeing up your local resources. Now let’s dive into how to set this up!"
   ]
  },
  {
   "cell_type": "markdown",
   "id": "7f0db22d",
   "metadata": {},
   "source": [
    "Now, we need to download and set up the Elasticsearch instance. For our purposes, we’ll use the open-source version of Elasticsearch."
   ]
  },
  {
   "cell_type": "code",
   "execution_count": null,
   "id": "233da847",
   "metadata": {},
   "outputs": [],
   "source": [
    "%%bash\n",
    "\n",
    "wget -q https://artifacts.elastic.co/downloads/elasticsearch/elasticsearch-oss-7.9.2-linux-x86_64.tar.gz\n",
    "wget -q https://artifacts.elastic.co/downloads/elasticsearch/elasticsearch-oss-7.9.2-linux-x86_64.tar.gz.sha512\n",
    "tar -xzf elasticsearch-oss-7.9.2-linux-x86_64.tar.gz\n",
    "sudo chown -R daemon:daemon elasticsearch-7.9.2/\n",
    "shasum -a 512 -c elasticsearch-oss-7.9.2-linux-x86_64.tar.gz.sha512 "
   ]
  },
  {
   "cell_type": "markdown",
   "id": "e369c792",
   "metadata": {},
   "source": [
    "We’re ready to start our Elasticsearch instance! We’ll run it as a daemon process:"
   ]
  },
  {
   "cell_type": "code",
   "execution_count": null,
   "id": "bd1925de",
   "metadata": {},
   "outputs": [],
   "source": [
    "%%bash --bg\n",
    "\n",
    "sudo -H -u daemon elasticsearch-7.9.2/bin/elasticsearch"
   ]
  },
  {
   "cell_type": "markdown",
   "id": "31018c8e",
   "metadata": {},
   "source": [
    "It takes a few seconds for the instance to start. Let’s pause our script for a bit to let Elasticsearch get up and running:"
   ]
  },
  {
   "cell_type": "code",
   "execution_count": null,
   "id": "f0074f47",
   "metadata": {},
   "outputs": [],
   "source": [
    "time.sleep(20)"
   ]
  },
  {
   "cell_type": "markdown",
   "id": "0a7656ea",
   "metadata": {},
   "source": [
    "Once the instance has started, we can check its availability by looking for elasticsearch in the process list:"
   ]
  },
  {
   "cell_type": "code",
   "execution_count": null,
   "id": "1e0b4411",
   "metadata": {},
   "outputs": [],
   "source": [
    "%%bash\n",
    "\n",
    "ps -ef | grep elasticsearch"
   ]
  },
  {
   "cell_type": "markdown",
   "id": "84cdc164",
   "metadata": {},
   "source": [
    "Finally, let’s make sure our Elasticsearch instance is working correctly by querying the base endpoint:"
   ]
  },
  {
   "cell_type": "code",
   "execution_count": null,
   "id": "074b2509",
   "metadata": {},
   "outputs": [],
   "source": [
    "%%bash\n",
    "\n",
    "curl -sX GET \"localhost:9200/\""
   ]
  },
  {
   "cell_type": "markdown",
   "id": "3ff6ed6c",
   "metadata": {},
   "source": [
    "By setting up Elasticsearch on Google Colab, we’ve solved our problem! We now have a powerful search and analytics engine at our disposal, without the need for any local resources."
   ]
  }
 ],
 "metadata": {},
 "nbformat": 4,
 "nbformat_minor": 5
}
