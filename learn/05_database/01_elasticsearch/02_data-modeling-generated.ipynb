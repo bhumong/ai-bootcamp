{
 "cells": [
  {
   "cell_type": "markdown",
   "id": "a20683f3",
   "metadata": {},
   "source": [
    "source: [https://ai-bootcamp.ruangguru.com/learn/05_database/01_elasticsearch/02_data-modeling.html](https://ai-bootcamp.ruangguru.com/learn/05_database/01_elasticsearch/02_data-modeling.html)"
   ]
  },
  {
   "cell_type": "markdown",
   "id": "b6a4ec1b",
   "metadata": {},
   "source": [
    "# Data Modeling"
   ]
  },
  {
   "cell_type": "markdown",
   "id": "a8e49ace",
   "metadata": {},
   "source": []
  },
  {
   "cell_type": "markdown",
   "id": "18314b33",
   "metadata": {},
   "source": [
    "![Image](https://storage.googleapis.com/rg-ai-bootcamp/database/elasticsearch-min.png)"
   ]
  },
  {
   "cell_type": "markdown",
   "id": "50faf4f9",
   "metadata": {},
   "source": [
    "Elasticsearch (Source: technocratsid.com)"
   ]
  },
  {
   "cell_type": "markdown",
   "id": "d24e6dd2",
   "metadata": {},
   "source": [
    "Data modeling is a design process that defines the structure, organization, and types of data, optimizing the way data is stored, organized, and accessed. The importance of data modeling lies in its ability to optimize data retrieval, maintain data integrity, and improve overall performance, especially with vast amounts of data."
   ]
  },
  {
   "cell_type": "markdown",
   "id": "7e801b5d",
   "metadata": {},
   "source": [
    "# Importance of Data Modeling"
   ]
  },
  {
   "cell_type": "markdown",
   "id": "dedd4e22",
   "metadata": {},
   "source": [
    "Understanding data modeling in Elasticsearch is crucial:"
   ]
  },
  {
   "cell_type": "markdown",
   "id": "9b650604",
   "metadata": {},
   "source": [
    "- Migration Complexity:Moving from a relational database to Elasticsearch is not a simple data shift due to different data structures and query mechanisms.\n",
    "- Efficient Searching and Analysis:To fully use Elasticsearch’s capabilities, you need to structure your data for efficient searching and analysis.\n",
    "- Normalization vs Search-Oriented Modeling:Unlike database normalization in relational databases, Elasticsearch often involves denormalization to speed up search operations."
   ]
  },
  {
   "cell_type": "markdown",
   "id": "7d277d5a",
   "metadata": {},
   "source": [
    "# Elasticsearch’s Schema"
   ]
  },
  {
   "cell_type": "markdown",
   "id": "f0f83870",
   "metadata": {},
   "source": [
    "Elasticsearch provides a flexible yet consistent schema:"
   ]
  },
  {
   "cell_type": "markdown",
   "id": "8abf2c48",
   "metadata": {},
   "source": [
    "- Schemaless Data Insertion:You can insert data into an index without pre-defining the schema.\n",
    "- Flexible But Consistent Schema:Once a schema is formed, existing attributes can’t be changed, only new ones can be added. This differs from MongoDB’s fully dynamic schema."
   ]
  },
  {
   "cell_type": "markdown",
   "id": "c8ae40d3",
   "metadata": {},
   "source": [
    "# Primary Key"
   ]
  },
  {
   "cell_type": "markdown",
   "id": "18109812",
   "metadata": {},
   "source": [
    "The primary key in Elasticsearch is unique:"
   ]
  },
  {
   "cell_type": "markdown",
   "id": "810d4458",
   "metadata": {},
   "source": [
    "- Mandatory ID:An ID is required when creating a document to uniquely identify it in an index.\n",
    "- Fixed ID Field:The primary key is always the_idfield.\n",
    "- Single Field and String Type:The primary key can’t consist of more than one field, and the_idtype is always a string."
   ]
  },
  {
   "cell_type": "markdown",
   "id": "8b41e30e",
   "metadata": {},
   "source": [
    "# Data Model Perspectives"
   ]
  },
  {
   "cell_type": "markdown",
   "id": "29e1e62f",
   "metadata": {},
   "source": [
    "In Elasticsearch, consider these perspectives when creating a schema index:"
   ]
  },
  {
   "cell_type": "markdown",
   "id": "4efc223f",
   "metadata": {},
   "source": [
    "- Embedded Document:Used for one-to-one or one-to-many relationships, this model nests documents within another for faster queries.\n",
    "- Reference Document:Each document stands alone and references others by their IDs. This is used for many-to-many relationships or large data."
   ]
  },
  {
   "cell_type": "markdown",
   "id": "6b9e183b",
   "metadata": {},
   "source": []
  },
  {
   "cell_type": "markdown",
   "id": "84c2131d",
   "metadata": {},
   "source": [
    "![Image](https://storage.googleapis.com/rg-ai-bootcamp/database/structure-document-min.png)"
   ]
  },
  {
   "cell_type": "markdown",
   "id": "e95c2322",
   "metadata": {},
   "source": []
  },
  {
   "cell_type": "markdown",
   "id": "e7f59a25",
   "metadata": {},
   "source": [
    "![Image](https://storage.googleapis.com/rg-ai-bootcamp/database/reference-document-min.png)"
   ]
  },
  {
   "cell_type": "markdown",
   "id": "d675130a",
   "metadata": {},
   "source": [
    "# Embedded vs Reference"
   ]
  },
  {
   "cell_type": "markdown",
   "id": "3f54cf14",
   "metadata": {},
   "source": [
    "| UseEmbeddeddocuments | UseReferencedocuments |\n",
    "| --- | --- |\n",
    "| If there’s a strong dependency between documents or if the embedded document is always needed when retrieving the main one. | If the documents can stand alone, can be manipulated directly, or if the reference document is not always needed when retrieving the main one |"
   ]
  },
  {
   "cell_type": "markdown",
   "id": "c3f9d36b",
   "metadata": {},
   "source": [
    "The choice depends on your specific use case and data nature."
   ]
  },
  {
   "cell_type": "markdown",
   "id": "5f9cba3f",
   "metadata": {},
   "source": [
    "# Data Types"
   ]
  },
  {
   "cell_type": "markdown",
   "id": "3bb8d804",
   "metadata": {},
   "source": [
    "Elasticsearch supports numerous data types. Here are some basic ones:"
   ]
  },
  {
   "cell_type": "markdown",
   "id": "6ed3dbaa",
   "metadata": {},
   "source": [
    "# Basic Data Types"
   ]
  },
  {
   "cell_type": "markdown",
   "id": "adad69bf",
   "metadata": {},
   "source": [
    "| Data Type | Description |\n",
    "| --- | --- |\n",
    "| binary | Base64 encoded string |\n",
    "| boolean | True or false |\n",
    "| date | Date and time (up to millisecond) |\n",
    "| date_nanos | Date and time (up to nanosecond) |\n",
    "| ip | IPv4 or IPv6 |\n",
    "| keyword | Structured text (e.g., id, email, hostname, zipcode) |\n",
    "| text | Text |\n",
    "| version | Semantic version data |"
   ]
  },
  {
   "cell_type": "markdown",
   "id": "ea928ad1",
   "metadata": {},
   "source": [
    "# Numeric Data Types"
   ]
  },
  {
   "cell_type": "markdown",
   "id": "5bf27b20",
   "metadata": {},
   "source": [
    "| Numeric Data Type | Description |\n",
    "| --- | --- |\n",
    "| long | 64-bit integer (-\\(2^{63}\\)to\\(2^{63} - 1\\)) |\n",
    "| integer | 32-bit integer (-\\(2^{31}\\)to\\(2^{31} - 1\\)) |\n",
    "| short | 16-bit integer (-32768 to 32764) |\n",
    "| byte | 8-bit integer (-128 to 127) |\n",
    "| double | 64-bit IEEE 754 floating point |\n",
    "| float | 32-bit IEEE 754 floating point |\n",
    "| half_float | Half of a 16-bit IEEE 754 floating point |\n",
    "| scaled_float | Floating point stored in long |\n",
    "| unsigned_long | 64-bit integer (0 to\\(2^{64} - 1\\)) |"
   ]
  },
  {
   "cell_type": "markdown",
   "id": "b6050252",
   "metadata": {},
   "source": [
    "# Range Data Types"
   ]
  },
  {
   "cell_type": "markdown",
   "id": "431bb3fd",
   "metadata": {},
   "source": [
    "| Range Data Type | Description |\n",
    "| --- | --- |\n",
    "| integer_range | Range of min and max integer |\n",
    "| float_range | Range of min and max float |\n",
    "| long_range | Range of min and max long |\n",
    "| double_range | Range of min and max double |\n",
    "| date_range | Range of min and max date |\n",
    "| ip_range | Range of min and max IP |"
   ]
  },
  {
   "cell_type": "markdown",
   "id": "800dfc6c",
   "metadata": {},
   "source": [
    "# Other Data Types"
   ]
  },
  {
   "cell_type": "markdown",
   "id": "a0f4ff56",
   "metadata": {},
   "source": [
    "Includes Geopoint, Geoshape, Point, Shape, Rank, Token, and Completion."
   ]
  },
  {
   "cell_type": "markdown",
   "id": "f678ea5a",
   "metadata": {},
   "source": [
    "Elasticsearch supports many other types, especially for Geospatial data."
   ]
  },
  {
   "cell_type": "markdown",
   "id": "399656bd",
   "metadata": {},
   "source": [
    "# Working with Embedded Data Types"
   ]
  },
  {
   "cell_type": "markdown",
   "id": "eb910603",
   "metadata": {},
   "source": [
    "When using Elasticsearch, we often work with data in the JSON format, which allows us to have data elements embedded within other elements. These could be objects or arrays. But how does Elasticsearch handle these complex structures?"
   ]
  },
  {
   "cell_type": "markdown",
   "id": "d5695d03",
   "metadata": {},
   "source": [
    "# Behind the scenes: Apache Lucene"
   ]
  },
  {
   "cell_type": "markdown",
   "id": "20dcf62e",
   "metadata": {},
   "source": [
    "Elasticsearch works its magic by using a powerful engine called Apache Lucene. When you give Elasticsearch a piece of data, it takes your JSON and transforms it into a format that Lucene can understand."
   ]
  },
  {
   "cell_type": "markdown",
   "id": "b68985d2",
   "metadata": {},
   "source": [
    "Think of it like a translator. You’re speaking in JSON, and Lucene only understands its own language. So Elasticsearch steps in and translates your JSON into ‘Lucenese’."
   ]
  },
  {
   "cell_type": "markdown",
   "id": "5834a46e",
   "metadata": {},
   "source": [
    "But there’s a little twist. Lucene’s world is more like a simple dictionary: it’s all about keys and values, and it doesn’t really understand the concept of embedded data types. So when it sees a complex JSON data structure, it needs to flatten it out."
   ]
  },
  {
   "cell_type": "markdown",
   "id": "4a238824",
   "metadata": {},
   "source": [
    "Let’s look at some examples to illustrate how this transformation happens (images):"
   ]
  },
  {
   "cell_type": "markdown",
   "id": "e35ab739",
   "metadata": {},
   "source": []
  },
  {
   "cell_type": "markdown",
   "id": "ea154aaa",
   "metadata": {},
   "source": [
    "![Image](https://storage.googleapis.com/rg-ai-bootcamp/database/es-array-to-lucene-min.png)"
   ]
  },
  {
   "cell_type": "markdown",
   "id": "76bc91a1",
   "metadata": {},
   "source": []
  },
  {
   "cell_type": "markdown",
   "id": "71842347",
   "metadata": {},
   "source": [
    "![Image](https://storage.googleapis.com/rg-ai-bootcamp/database/es-array-to-lucene-min.png)"
   ]
  },
  {
   "cell_type": "markdown",
   "id": "d4da3bc3",
   "metadata": {},
   "source": []
  },
  {
   "cell_type": "markdown",
   "id": "8da23167",
   "metadata": {},
   "source": [
    "![Image](https://storage.googleapis.com/rg-ai-bootcamp/database/es-embedd-object-to-lucene-min.png)"
   ]
  },
  {
   "cell_type": "markdown",
   "id": "a27d3a6a",
   "metadata": {},
   "source": []
  },
  {
   "cell_type": "markdown",
   "id": "87795016",
   "metadata": {},
   "source": [
    "![Image](https://storage.googleapis.com/rg-ai-bootcamp/database/es-array-embed-object-to-lucene-min.png)"
   ]
  },
  {
   "cell_type": "markdown",
   "id": "05b37536",
   "metadata": {},
   "source": [
    "Remember, this is a simplified explanation. The actual process Elasticsearch uses to transform your data into something Lucene can work with involves some complex steps like indexing. But for now, understanding this basic process can help you see how Elasticsearch handles embedded data types."
   ]
  }
 ],
 "metadata": {},
 "nbformat": 4,
 "nbformat_minor": 5
}
