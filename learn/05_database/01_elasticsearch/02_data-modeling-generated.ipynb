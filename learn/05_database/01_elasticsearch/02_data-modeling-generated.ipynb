{
 "cells": [
  {
   "cell_type": "markdown",
   "id": "0e44b00c",
   "metadata": {},
   "source": [
    "# Data Modeling"
   ]
  },
  {
   "cell_type": "markdown",
   "id": "3b442121",
   "metadata": {},
   "source": []
  },
  {
   "cell_type": "markdown",
   "id": "5820736b",
   "metadata": {},
   "source": [
    "Elasticsearch (Source: technocratsid.com)"
   ]
  },
  {
   "cell_type": "markdown",
   "id": "94005054",
   "metadata": {},
   "source": [
    "Data modeling is a design process that defines the structure, organization, and types of data, optimizing the way data is stored, organized, and accessed. The importance of data modeling lies in its ability to optimize data retrieval, maintain data integrity, and improve overall performance, especially with vast amounts of data."
   ]
  },
  {
   "cell_type": "markdown",
   "id": "edaf8696",
   "metadata": {},
   "source": [
    "# Importance of Data Modeling"
   ]
  },
  {
   "cell_type": "markdown",
   "id": "4de93c91",
   "metadata": {},
   "source": [
    "Understanding data modeling in Elasticsearch is crucial:"
   ]
  },
  {
   "cell_type": "markdown",
   "id": "df68def7",
   "metadata": {},
   "source": [
    "# Elasticsearch’s Schema"
   ]
  },
  {
   "cell_type": "markdown",
   "id": "dd99c981",
   "metadata": {},
   "source": [
    "Elasticsearch provides a flexible yet consistent schema:"
   ]
  },
  {
   "cell_type": "markdown",
   "id": "2d393a0b",
   "metadata": {},
   "source": [
    "# Primary Key"
   ]
  },
  {
   "cell_type": "markdown",
   "id": "ffe314df",
   "metadata": {},
   "source": [
    "The primary key in Elasticsearch is unique:"
   ]
  },
  {
   "cell_type": "markdown",
   "id": "6e7d1f96",
   "metadata": {},
   "source": [
    "# Data Model Perspectives"
   ]
  },
  {
   "cell_type": "markdown",
   "id": "306aa395",
   "metadata": {},
   "source": [
    "In Elasticsearch, consider these perspectives when creating a schema index:"
   ]
  },
  {
   "cell_type": "markdown",
   "id": "588696c1",
   "metadata": {},
   "source": []
  },
  {
   "cell_type": "markdown",
   "id": "ca347d4b",
   "metadata": {},
   "source": []
  },
  {
   "cell_type": "markdown",
   "id": "7e98421f",
   "metadata": {},
   "source": [
    "# Embedded vs Reference"
   ]
  },
  {
   "cell_type": "markdown",
   "id": "944ea19a",
   "metadata": {},
   "source": [
    "The choice depends on your specific use case and data nature."
   ]
  },
  {
   "cell_type": "markdown",
   "id": "3f594672",
   "metadata": {},
   "source": [
    "# Data Types"
   ]
  },
  {
   "cell_type": "markdown",
   "id": "9b77f41f",
   "metadata": {},
   "source": [
    "Elasticsearch supports numerous data types. Here are some basic ones:"
   ]
  },
  {
   "cell_type": "markdown",
   "id": "814bf4a1",
   "metadata": {},
   "source": [
    "# Basic Data Types"
   ]
  },
  {
   "cell_type": "markdown",
   "id": "6f0f6638",
   "metadata": {},
   "source": [
    "# Numeric Data Types"
   ]
  },
  {
   "cell_type": "markdown",
   "id": "09fb4d91",
   "metadata": {},
   "source": [
    "# Range Data Types"
   ]
  },
  {
   "cell_type": "markdown",
   "id": "805d9fd8",
   "metadata": {},
   "source": [
    "# Other Data Types"
   ]
  },
  {
   "cell_type": "markdown",
   "id": "28d1edc3",
   "metadata": {},
   "source": [
    "Includes Geopoint, Geoshape, Point, Shape, Rank, Token, and Completion."
   ]
  },
  {
   "cell_type": "markdown",
   "id": "315d08cd",
   "metadata": {},
   "source": [
    "Elasticsearch supports many other types, especially for Geospatial data."
   ]
  },
  {
   "cell_type": "markdown",
   "id": "3dbff683",
   "metadata": {},
   "source": [
    "# Working with Embedded Data Types"
   ]
  },
  {
   "cell_type": "markdown",
   "id": "313874bf",
   "metadata": {},
   "source": [
    "When using Elasticsearch, we often work with data in the JSON format, which allows us to have data elements embedded within other elements. These could be objects or arrays. But how does Elasticsearch handle these complex structures?"
   ]
  },
  {
   "cell_type": "markdown",
   "id": "8abe8cbb",
   "metadata": {},
   "source": [
    "# Behind the scenes: Apache Lucene"
   ]
  },
  {
   "cell_type": "markdown",
   "id": "3452f74a",
   "metadata": {},
   "source": [
    "Elasticsearch works its magic by using a powerful engine called Apache Lucene. When you give Elasticsearch a piece of data, it takes your JSON and transforms it into a format that Lucene can understand."
   ]
  },
  {
   "cell_type": "markdown",
   "id": "a9e40118",
   "metadata": {},
   "source": [
    "Think of it like a translator. You’re speaking in JSON, and Lucene only understands its own language. So Elasticsearch steps in and translates your JSON into ‘Lucenese’."
   ]
  },
  {
   "cell_type": "markdown",
   "id": "00772a7c",
   "metadata": {},
   "source": [
    "But there’s a little twist. Lucene’s world is more like a simple dictionary: it’s all about keys and values, and it doesn’t really understand the concept of embedded data types. So when it sees a complex JSON data structure, it needs to flatten it out."
   ]
  },
  {
   "cell_type": "markdown",
   "id": "68dd3d97",
   "metadata": {},
   "source": [
    "Let’s look at some examples to illustrate how this transformation happens (images):"
   ]
  },
  {
   "cell_type": "markdown",
   "id": "0fd09674",
   "metadata": {},
   "source": []
  },
  {
   "cell_type": "markdown",
   "id": "6693572a",
   "metadata": {},
   "source": []
  },
  {
   "cell_type": "markdown",
   "id": "506c0ea5",
   "metadata": {},
   "source": []
  },
  {
   "cell_type": "markdown",
   "id": "0139dc9a",
   "metadata": {},
   "source": []
  },
  {
   "cell_type": "markdown",
   "id": "b1728c5f",
   "metadata": {},
   "source": [
    "Remember, this is a simplified explanation. The actual process Elasticsearch uses to transform your data into something Lucene can work with involves some complex steps like indexing. But for now, understanding this basic process can help you see how Elasticsearch handles embedded data types."
   ]
  }
 ],
 "metadata": {},
 "nbformat": 4,
 "nbformat_minor": 5
}
