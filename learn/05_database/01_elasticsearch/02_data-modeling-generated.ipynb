{
 "cells": [
  {
   "cell_type": "markdown",
   "id": "15256e2a",
   "metadata": {},
   "source": [
    "source: [link](https://ai-bootcamp.ruangguru.com/learn/05_database/01_elasticsearch/02_data-modeling.html)"
   ]
  },
  {
   "cell_type": "markdown",
   "id": "91c11c2d",
   "metadata": {},
   "source": [
    "# Data Modeling"
   ]
  },
  {
   "cell_type": "markdown",
   "id": "31f0a6b0",
   "metadata": {},
   "source": []
  },
  {
   "cell_type": "markdown",
   "id": "4f827a02",
   "metadata": {},
   "source": [
    "![Image](https://storage.googleapis.com/rg-ai-bootcamp/database/elasticsearch-min.png)"
   ]
  },
  {
   "cell_type": "markdown",
   "id": "499fd731",
   "metadata": {},
   "source": [
    "Elasticsearch (Source: technocratsid.com)"
   ]
  },
  {
   "cell_type": "markdown",
   "id": "ec46365e",
   "metadata": {},
   "source": [
    "Data modeling is a design process that defines the structure, organization, and types of data, optimizing the way data is stored, organized, and accessed. The importance of data modeling lies in its ability to optimize data retrieval, maintain data integrity, and improve overall performance, especially with vast amounts of data."
   ]
  },
  {
   "cell_type": "markdown",
   "id": "86de142b",
   "metadata": {},
   "source": [
    "# Importance of Data Modeling"
   ]
  },
  {
   "cell_type": "markdown",
   "id": "43d1e6b1",
   "metadata": {},
   "source": [
    "Understanding data modeling in Elasticsearch is crucial:"
   ]
  },
  {
   "cell_type": "markdown",
   "id": "d3c8086d",
   "metadata": {},
   "source": [
    "# Elasticsearch’s Schema"
   ]
  },
  {
   "cell_type": "markdown",
   "id": "58a16334",
   "metadata": {},
   "source": [
    "Elasticsearch provides a flexible yet consistent schema:"
   ]
  },
  {
   "cell_type": "markdown",
   "id": "e6beca7a",
   "metadata": {},
   "source": [
    "# Primary Key"
   ]
  },
  {
   "cell_type": "markdown",
   "id": "5de928aa",
   "metadata": {},
   "source": [
    "The primary key in Elasticsearch is unique:"
   ]
  },
  {
   "cell_type": "markdown",
   "id": "bf2eb05d",
   "metadata": {},
   "source": [
    "# Data Model Perspectives"
   ]
  },
  {
   "cell_type": "markdown",
   "id": "ab7ce9bb",
   "metadata": {},
   "source": [
    "In Elasticsearch, consider these perspectives when creating a schema index:"
   ]
  },
  {
   "cell_type": "markdown",
   "id": "7acf7ce1",
   "metadata": {},
   "source": []
  },
  {
   "cell_type": "markdown",
   "id": "e62f6349",
   "metadata": {},
   "source": [
    "![Image](https://storage.googleapis.com/rg-ai-bootcamp/database/structure-document-min.png)"
   ]
  },
  {
   "cell_type": "markdown",
   "id": "8c84aac5",
   "metadata": {},
   "source": []
  },
  {
   "cell_type": "markdown",
   "id": "fb02aa3c",
   "metadata": {},
   "source": [
    "![Image](https://storage.googleapis.com/rg-ai-bootcamp/database/reference-document-min.png)"
   ]
  },
  {
   "cell_type": "markdown",
   "id": "cf58a6eb",
   "metadata": {},
   "source": [
    "# Embedded vs Reference"
   ]
  },
  {
   "cell_type": "markdown",
   "id": "f41e7ea5",
   "metadata": {},
   "source": [
    "| UseEmbeddeddocuments | UseReferencedocuments |\n",
    "| --- | --- |\n",
    "| If there’s a strong dependency between documents or if the embedded document is always needed when retrieving the main one. | If the documents can stand alone, can be manipulated directly, or if the reference document is not always needed when retrieving the main one |"
   ]
  },
  {
   "cell_type": "markdown",
   "id": "ba64473a",
   "metadata": {},
   "source": [
    "The choice depends on your specific use case and data nature."
   ]
  },
  {
   "cell_type": "markdown",
   "id": "1e2a7f10",
   "metadata": {},
   "source": [
    "# Data Types"
   ]
  },
  {
   "cell_type": "markdown",
   "id": "3de4e7f4",
   "metadata": {},
   "source": [
    "Elasticsearch supports numerous data types. Here are some basic ones:"
   ]
  },
  {
   "cell_type": "markdown",
   "id": "cd870a9a",
   "metadata": {},
   "source": [
    "# Basic Data Types"
   ]
  },
  {
   "cell_type": "markdown",
   "id": "1043d521",
   "metadata": {},
   "source": [
    "| Data Type | Description |\n",
    "| --- | --- |\n",
    "| binary | Base64 encoded string |\n",
    "| boolean | True or false |\n",
    "| date | Date and time (up to millisecond) |\n",
    "| date_nanos | Date and time (up to nanosecond) |\n",
    "| ip | IPv4 or IPv6 |\n",
    "| keyword | Structured text (e.g., id, email, hostname, zipcode) |\n",
    "| text | Text |\n",
    "| version | Semantic version data |"
   ]
  },
  {
   "cell_type": "markdown",
   "id": "7bbef1fe",
   "metadata": {},
   "source": [
    "# Numeric Data Types"
   ]
  },
  {
   "cell_type": "markdown",
   "id": "2ad84ebd",
   "metadata": {},
   "source": [
    "| Numeric Data Type | Description |\n",
    "| --- | --- |\n",
    "| long | 64-bit integer (-\\(2^{63}\\)to\\(2^{63} - 1\\)) |\n",
    "| integer | 32-bit integer (-\\(2^{31}\\)to\\(2^{31} - 1\\)) |\n",
    "| short | 16-bit integer (-32768 to 32764) |\n",
    "| byte | 8-bit integer (-128 to 127) |\n",
    "| double | 64-bit IEEE 754 floating point |\n",
    "| float | 32-bit IEEE 754 floating point |\n",
    "| half_float | Half of a 16-bit IEEE 754 floating point |\n",
    "| scaled_float | Floating point stored in long |\n",
    "| unsigned_long | 64-bit integer (0 to\\(2^{64} - 1\\)) |"
   ]
  },
  {
   "cell_type": "markdown",
   "id": "dbbb7e08",
   "metadata": {},
   "source": [
    "# Range Data Types"
   ]
  },
  {
   "cell_type": "markdown",
   "id": "e5032b2e",
   "metadata": {},
   "source": [
    "| Range Data Type | Description |\n",
    "| --- | --- |\n",
    "| integer_range | Range of min and max integer |\n",
    "| float_range | Range of min and max float |\n",
    "| long_range | Range of min and max long |\n",
    "| double_range | Range of min and max double |\n",
    "| date_range | Range of min and max date |\n",
    "| ip_range | Range of min and max IP |"
   ]
  },
  {
   "cell_type": "markdown",
   "id": "9ad913b5",
   "metadata": {},
   "source": [
    "# Other Data Types"
   ]
  },
  {
   "cell_type": "markdown",
   "id": "a27ae9bb",
   "metadata": {},
   "source": [
    "Includes Geopoint, Geoshape, Point, Shape, Rank, Token, and Completion."
   ]
  },
  {
   "cell_type": "markdown",
   "id": "5eed7930",
   "metadata": {},
   "source": [
    "Elasticsearch supports many other types, especially for Geospatial data."
   ]
  },
  {
   "cell_type": "markdown",
   "id": "1f061d54",
   "metadata": {},
   "source": [
    "# Working with Embedded Data Types"
   ]
  },
  {
   "cell_type": "markdown",
   "id": "11852402",
   "metadata": {},
   "source": [
    "When using Elasticsearch, we often work with data in the JSON format, which allows us to have data elements embedded within other elements. These could be objects or arrays. But how does Elasticsearch handle these complex structures?"
   ]
  },
  {
   "cell_type": "markdown",
   "id": "566441eb",
   "metadata": {},
   "source": [
    "# Behind the scenes: Apache Lucene"
   ]
  },
  {
   "cell_type": "markdown",
   "id": "d039fa3c",
   "metadata": {},
   "source": [
    "Elasticsearch works its magic by using a powerful engine called Apache Lucene. When you give Elasticsearch a piece of data, it takes your JSON and transforms it into a format that Lucene can understand."
   ]
  },
  {
   "cell_type": "markdown",
   "id": "42afc679",
   "metadata": {},
   "source": [
    "Think of it like a translator. You’re speaking in JSON, and Lucene only understands its own language. So Elasticsearch steps in and translates your JSON into ‘Lucenese’."
   ]
  },
  {
   "cell_type": "markdown",
   "id": "c22ff4f7",
   "metadata": {},
   "source": [
    "But there’s a little twist. Lucene’s world is more like a simple dictionary: it’s all about keys and values, and it doesn’t really understand the concept of embedded data types. So when it sees a complex JSON data structure, it needs to flatten it out."
   ]
  },
  {
   "cell_type": "markdown",
   "id": "1a241b70",
   "metadata": {},
   "source": [
    "Let’s look at some examples to illustrate how this transformation happens (images):"
   ]
  },
  {
   "cell_type": "markdown",
   "id": "f6c1c2af",
   "metadata": {},
   "source": []
  },
  {
   "cell_type": "markdown",
   "id": "3bbbf768",
   "metadata": {},
   "source": [
    "![Image](https://storage.googleapis.com/rg-ai-bootcamp/database/es-array-to-lucene-min.png)"
   ]
  },
  {
   "cell_type": "markdown",
   "id": "cad3966e",
   "metadata": {},
   "source": []
  },
  {
   "cell_type": "markdown",
   "id": "341d1ec5",
   "metadata": {},
   "source": [
    "![Image](https://storage.googleapis.com/rg-ai-bootcamp/database/es-array-to-lucene-min.png)"
   ]
  },
  {
   "cell_type": "markdown",
   "id": "20fb86f0",
   "metadata": {},
   "source": []
  },
  {
   "cell_type": "markdown",
   "id": "b3beb3d9",
   "metadata": {},
   "source": [
    "![Image](https://storage.googleapis.com/rg-ai-bootcamp/database/es-embedd-object-to-lucene-min.png)"
   ]
  },
  {
   "cell_type": "markdown",
   "id": "57bbe6d5",
   "metadata": {},
   "source": []
  },
  {
   "cell_type": "markdown",
   "id": "1fcc0775",
   "metadata": {},
   "source": [
    "![Image](https://storage.googleapis.com/rg-ai-bootcamp/database/es-array-embed-object-to-lucene-min.png)"
   ]
  },
  {
   "cell_type": "markdown",
   "id": "6deed6c0",
   "metadata": {},
   "source": [
    "Remember, this is a simplified explanation. The actual process Elasticsearch uses to transform your data into something Lucene can work with involves some complex steps like indexing. But for now, understanding this basic process can help you see how Elasticsearch handles embedded data types."
   ]
  }
 ],
 "metadata": {},
 "nbformat": 4,
 "nbformat_minor": 5
}
