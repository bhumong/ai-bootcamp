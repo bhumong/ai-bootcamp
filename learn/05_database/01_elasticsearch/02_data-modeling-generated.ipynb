{
 "cells": [
  {
   "cell_type": "markdown",
   "id": "5abf3539",
   "metadata": {},
   "source": [
    "source: [link](https://ai-bootcamp.ruangguru.com/learn/05_database/01_elasticsearch/02_data-modeling.html)"
   ]
  },
  {
   "cell_type": "markdown",
   "id": "65001bfb",
   "metadata": {},
   "source": [
    "# Data Modeling"
   ]
  },
  {
   "cell_type": "markdown",
   "id": "3da1b714",
   "metadata": {},
   "source": []
  },
  {
   "cell_type": "markdown",
   "id": "ebdb5390",
   "metadata": {},
   "source": [
    "![Image](https://storage.googleapis.com/rg-ai-bootcamp/database/elasticsearch-min.png)"
   ]
  },
  {
   "cell_type": "markdown",
   "id": "133ffe20",
   "metadata": {},
   "source": [
    "Elasticsearch (Source: technocratsid.com)"
   ]
  },
  {
   "cell_type": "markdown",
   "id": "140a4219",
   "metadata": {},
   "source": [
    "Data modeling is a design process that defines the structure, organization, and types of data, optimizing the way data is stored, organized, and accessed. The importance of data modeling lies in its ability to optimize data retrieval, maintain data integrity, and improve overall performance, especially with vast amounts of data."
   ]
  },
  {
   "cell_type": "markdown",
   "id": "dfdd6557",
   "metadata": {},
   "source": [
    "# Importance of Data Modeling"
   ]
  },
  {
   "cell_type": "markdown",
   "id": "aaf4a646",
   "metadata": {},
   "source": [
    "Understanding data modeling in Elasticsearch is crucial:"
   ]
  },
  {
   "cell_type": "markdown",
   "id": "e698ccd1",
   "metadata": {},
   "source": [
    "- Migration Complexity:Moving from a relational database to Elasticsearch is not a simple data shift due to different data structures and query mechanisms.\n",
    "- Efficient Searching and Analysis:To fully use Elasticsearch’s capabilities, you need to structure your data for efficient searching and analysis.\n",
    "- Normalization vs Search-Oriented Modeling:Unlike database normalization in relational databases, Elasticsearch often involves denormalization to speed up search operations."
   ]
  },
  {
   "cell_type": "markdown",
   "id": "52303b61",
   "metadata": {},
   "source": [
    "# Elasticsearch’s Schema"
   ]
  },
  {
   "cell_type": "markdown",
   "id": "f4684aad",
   "metadata": {},
   "source": [
    "Elasticsearch provides a flexible yet consistent schema:"
   ]
  },
  {
   "cell_type": "markdown",
   "id": "aafdde01",
   "metadata": {},
   "source": [
    "- Schemaless Data Insertion:You can insert data into an index without pre-defining the schema.\n",
    "- Flexible But Consistent Schema:Once a schema is formed, existing attributes can’t be changed, only new ones can be added. This differs from MongoDB’s fully dynamic schema."
   ]
  },
  {
   "cell_type": "markdown",
   "id": "76b6755c",
   "metadata": {},
   "source": [
    "# Primary Key"
   ]
  },
  {
   "cell_type": "markdown",
   "id": "f4374243",
   "metadata": {},
   "source": [
    "The primary key in Elasticsearch is unique:"
   ]
  },
  {
   "cell_type": "markdown",
   "id": "710599d0",
   "metadata": {},
   "source": [
    "- Mandatory ID:An ID is required when creating a document to uniquely identify it in an index.\n",
    "- Fixed ID Field:The primary key is always the_idfield.\n",
    "- Single Field and String Type:The primary key can’t consist of more than one field, and the_idtype is always a string."
   ]
  },
  {
   "cell_type": "markdown",
   "id": "b2e53ed8",
   "metadata": {},
   "source": [
    "# Data Model Perspectives"
   ]
  },
  {
   "cell_type": "markdown",
   "id": "79a24def",
   "metadata": {},
   "source": [
    "In Elasticsearch, consider these perspectives when creating a schema index:"
   ]
  },
  {
   "cell_type": "markdown",
   "id": "d39b6eff",
   "metadata": {},
   "source": [
    "- Embedded Document:Used for one-to-one or one-to-many relationships, this model nests documents within another for faster queries.\n",
    "- Reference Document:Each document stands alone and references others by their IDs. This is used for many-to-many relationships or large data."
   ]
  },
  {
   "cell_type": "markdown",
   "id": "882c3aee",
   "metadata": {},
   "source": []
  },
  {
   "cell_type": "markdown",
   "id": "9f201650",
   "metadata": {},
   "source": [
    "![Image](https://storage.googleapis.com/rg-ai-bootcamp/database/structure-document-min.png)"
   ]
  },
  {
   "cell_type": "markdown",
   "id": "95923de1",
   "metadata": {},
   "source": []
  },
  {
   "cell_type": "markdown",
   "id": "07bb8416",
   "metadata": {},
   "source": [
    "![Image](https://storage.googleapis.com/rg-ai-bootcamp/database/reference-document-min.png)"
   ]
  },
  {
   "cell_type": "markdown",
   "id": "6e634e6b",
   "metadata": {},
   "source": [
    "# Embedded vs Reference"
   ]
  },
  {
   "cell_type": "markdown",
   "id": "52c3b4d2",
   "metadata": {},
   "source": [
    "| UseEmbeddeddocuments | UseReferencedocuments |\n",
    "| --- | --- |\n",
    "| If there’s a strong dependency between documents or if the embedded document is always needed when retrieving the main one. | If the documents can stand alone, can be manipulated directly, or if the reference document is not always needed when retrieving the main one |"
   ]
  },
  {
   "cell_type": "markdown",
   "id": "da3aca5f",
   "metadata": {},
   "source": [
    "The choice depends on your specific use case and data nature."
   ]
  },
  {
   "cell_type": "markdown",
   "id": "7ddb279e",
   "metadata": {},
   "source": [
    "# Data Types"
   ]
  },
  {
   "cell_type": "markdown",
   "id": "05db3b29",
   "metadata": {},
   "source": [
    "Elasticsearch supports numerous data types. Here are some basic ones:"
   ]
  },
  {
   "cell_type": "markdown",
   "id": "578663e2",
   "metadata": {},
   "source": [
    "# Basic Data Types"
   ]
  },
  {
   "cell_type": "markdown",
   "id": "2c45782d",
   "metadata": {},
   "source": [
    "| Data Type | Description |\n",
    "| --- | --- |\n",
    "| binary | Base64 encoded string |\n",
    "| boolean | True or false |\n",
    "| date | Date and time (up to millisecond) |\n",
    "| date_nanos | Date and time (up to nanosecond) |\n",
    "| ip | IPv4 or IPv6 |\n",
    "| keyword | Structured text (e.g., id, email, hostname, zipcode) |\n",
    "| text | Text |\n",
    "| version | Semantic version data |"
   ]
  },
  {
   "cell_type": "markdown",
   "id": "e8884699",
   "metadata": {},
   "source": [
    "# Numeric Data Types"
   ]
  },
  {
   "cell_type": "markdown",
   "id": "a13030a6",
   "metadata": {},
   "source": [
    "| Numeric Data Type | Description |\n",
    "| --- | --- |\n",
    "| long | 64-bit integer (-\\(2^{63}\\)to\\(2^{63} - 1\\)) |\n",
    "| integer | 32-bit integer (-\\(2^{31}\\)to\\(2^{31} - 1\\)) |\n",
    "| short | 16-bit integer (-32768 to 32764) |\n",
    "| byte | 8-bit integer (-128 to 127) |\n",
    "| double | 64-bit IEEE 754 floating point |\n",
    "| float | 32-bit IEEE 754 floating point |\n",
    "| half_float | Half of a 16-bit IEEE 754 floating point |\n",
    "| scaled_float | Floating point stored in long |\n",
    "| unsigned_long | 64-bit integer (0 to\\(2^{64} - 1\\)) |"
   ]
  },
  {
   "cell_type": "markdown",
   "id": "e10d056f",
   "metadata": {},
   "source": [
    "# Range Data Types"
   ]
  },
  {
   "cell_type": "markdown",
   "id": "90846d72",
   "metadata": {},
   "source": [
    "| Range Data Type | Description |\n",
    "| --- | --- |\n",
    "| integer_range | Range of min and max integer |\n",
    "| float_range | Range of min and max float |\n",
    "| long_range | Range of min and max long |\n",
    "| double_range | Range of min and max double |\n",
    "| date_range | Range of min and max date |\n",
    "| ip_range | Range of min and max IP |"
   ]
  },
  {
   "cell_type": "markdown",
   "id": "8412bf9d",
   "metadata": {},
   "source": [
    "# Other Data Types"
   ]
  },
  {
   "cell_type": "markdown",
   "id": "b52e34ef",
   "metadata": {},
   "source": [
    "Includes Geopoint, Geoshape, Point, Shape, Rank, Token, and Completion."
   ]
  },
  {
   "cell_type": "markdown",
   "id": "faf2f932",
   "metadata": {},
   "source": [
    "Elasticsearch supports many other types, especially for Geospatial data."
   ]
  },
  {
   "cell_type": "markdown",
   "id": "9460b942",
   "metadata": {},
   "source": [
    "# Working with Embedded Data Types"
   ]
  },
  {
   "cell_type": "markdown",
   "id": "991e7187",
   "metadata": {},
   "source": [
    "When using Elasticsearch, we often work with data in the JSON format, which allows us to have data elements embedded within other elements. These could be objects or arrays. But how does Elasticsearch handle these complex structures?"
   ]
  },
  {
   "cell_type": "markdown",
   "id": "616f8e08",
   "metadata": {},
   "source": [
    "# Behind the scenes: Apache Lucene"
   ]
  },
  {
   "cell_type": "markdown",
   "id": "457f4fa2",
   "metadata": {},
   "source": [
    "Elasticsearch works its magic by using a powerful engine called Apache Lucene. When you give Elasticsearch a piece of data, it takes your JSON and transforms it into a format that Lucene can understand."
   ]
  },
  {
   "cell_type": "markdown",
   "id": "5a310fd9",
   "metadata": {},
   "source": [
    "Think of it like a translator. You’re speaking in JSON, and Lucene only understands its own language. So Elasticsearch steps in and translates your JSON into ‘Lucenese’."
   ]
  },
  {
   "cell_type": "markdown",
   "id": "82e40b9f",
   "metadata": {},
   "source": [
    "But there’s a little twist. Lucene’s world is more like a simple dictionary: it’s all about keys and values, and it doesn’t really understand the concept of embedded data types. So when it sees a complex JSON data structure, it needs to flatten it out."
   ]
  },
  {
   "cell_type": "markdown",
   "id": "13b7c39e",
   "metadata": {},
   "source": [
    "Let’s look at some examples to illustrate how this transformation happens (images):"
   ]
  },
  {
   "cell_type": "markdown",
   "id": "27e09dcb",
   "metadata": {},
   "source": []
  },
  {
   "cell_type": "markdown",
   "id": "fcb62d38",
   "metadata": {},
   "source": [
    "![Image](https://storage.googleapis.com/rg-ai-bootcamp/database/es-array-to-lucene-min.png)"
   ]
  },
  {
   "cell_type": "markdown",
   "id": "31e7a7c6",
   "metadata": {},
   "source": []
  },
  {
   "cell_type": "markdown",
   "id": "95b77f42",
   "metadata": {},
   "source": [
    "![Image](https://storage.googleapis.com/rg-ai-bootcamp/database/es-array-to-lucene-min.png)"
   ]
  },
  {
   "cell_type": "markdown",
   "id": "e27f9661",
   "metadata": {},
   "source": []
  },
  {
   "cell_type": "markdown",
   "id": "2b1b9f10",
   "metadata": {},
   "source": [
    "![Image](https://storage.googleapis.com/rg-ai-bootcamp/database/es-embedd-object-to-lucene-min.png)"
   ]
  },
  {
   "cell_type": "markdown",
   "id": "61eccd32",
   "metadata": {},
   "source": []
  },
  {
   "cell_type": "markdown",
   "id": "545a6a5f",
   "metadata": {},
   "source": [
    "![Image](https://storage.googleapis.com/rg-ai-bootcamp/database/es-array-embed-object-to-lucene-min.png)"
   ]
  },
  {
   "cell_type": "markdown",
   "id": "d5c8a260",
   "metadata": {},
   "source": [
    "Remember, this is a simplified explanation. The actual process Elasticsearch uses to transform your data into something Lucene can work with involves some complex steps like indexing. But for now, understanding this basic process can help you see how Elasticsearch handles embedded data types."
   ]
  }
 ],
 "metadata": {},
 "nbformat": 4,
 "nbformat_minor": 5
}
