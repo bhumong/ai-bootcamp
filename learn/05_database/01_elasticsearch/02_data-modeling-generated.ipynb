{
 "cells": [
  {
   "cell_type": "markdown",
   "id": "980a10a6",
   "metadata": {},
   "source": [
    "source: [link](https://ai-bootcamp.ruangguru.com/learn/05_database/01_elasticsearch/02_data-modeling.html)"
   ]
  },
  {
   "cell_type": "markdown",
   "id": "7cbd09c0",
   "metadata": {},
   "source": [
    "# Data Modeling"
   ]
  },
  {
   "cell_type": "markdown",
   "id": "ead9e33c",
   "metadata": {},
   "source": []
  },
  {
   "cell_type": "markdown",
   "id": "ffa85f7f",
   "metadata": {},
   "source": [
    "![Image](https://storage.googleapis.com/rg-ai-bootcamp/database/elasticsearch-min.png)"
   ]
  },
  {
   "cell_type": "markdown",
   "id": "c09a268c",
   "metadata": {},
   "source": [
    "Elasticsearch (Source: technocratsid.com)"
   ]
  },
  {
   "cell_type": "markdown",
   "id": "63a0388a",
   "metadata": {},
   "source": [
    "Data modeling is a design process that defines the structure, organization, and types of data, optimizing the way data is stored, organized, and accessed. The importance of data modeling lies in its ability to optimize data retrieval, maintain data integrity, and improve overall performance, especially with vast amounts of data."
   ]
  },
  {
   "cell_type": "markdown",
   "id": "0daa200b",
   "metadata": {},
   "source": [
    "# Importance of Data Modeling"
   ]
  },
  {
   "cell_type": "markdown",
   "id": "5b2c20fc",
   "metadata": {},
   "source": [
    "Understanding data modeling in Elasticsearch is crucial:"
   ]
  },
  {
   "cell_type": "markdown",
   "id": "72b65f7a",
   "metadata": {},
   "source": [
    "# Elasticsearch’s Schema"
   ]
  },
  {
   "cell_type": "markdown",
   "id": "3420b523",
   "metadata": {},
   "source": [
    "Elasticsearch provides a flexible yet consistent schema:"
   ]
  },
  {
   "cell_type": "markdown",
   "id": "5acb6c4a",
   "metadata": {},
   "source": [
    "# Primary Key"
   ]
  },
  {
   "cell_type": "markdown",
   "id": "4d2a906b",
   "metadata": {},
   "source": [
    "The primary key in Elasticsearch is unique:"
   ]
  },
  {
   "cell_type": "markdown",
   "id": "9cc88826",
   "metadata": {},
   "source": [
    "# Data Model Perspectives"
   ]
  },
  {
   "cell_type": "markdown",
   "id": "c826530e",
   "metadata": {},
   "source": [
    "In Elasticsearch, consider these perspectives when creating a schema index:"
   ]
  },
  {
   "cell_type": "markdown",
   "id": "51007265",
   "metadata": {},
   "source": []
  },
  {
   "cell_type": "markdown",
   "id": "df8ce3de",
   "metadata": {},
   "source": [
    "![Image](https://storage.googleapis.com/rg-ai-bootcamp/database/structure-document-min.png)"
   ]
  },
  {
   "cell_type": "markdown",
   "id": "564279ec",
   "metadata": {},
   "source": []
  },
  {
   "cell_type": "markdown",
   "id": "40989d3e",
   "metadata": {},
   "source": [
    "![Image](https://storage.googleapis.com/rg-ai-bootcamp/database/reference-document-min.png)"
   ]
  },
  {
   "cell_type": "markdown",
   "id": "da7fa051",
   "metadata": {},
   "source": [
    "# Embedded vs Reference"
   ]
  },
  {
   "cell_type": "markdown",
   "id": "e36803bb",
   "metadata": {},
   "source": [
    "The choice depends on your specific use case and data nature."
   ]
  },
  {
   "cell_type": "markdown",
   "id": "212b0c3e",
   "metadata": {},
   "source": [
    "# Data Types"
   ]
  },
  {
   "cell_type": "markdown",
   "id": "f711594f",
   "metadata": {},
   "source": [
    "Elasticsearch supports numerous data types. Here are some basic ones:"
   ]
  },
  {
   "cell_type": "markdown",
   "id": "be97983c",
   "metadata": {},
   "source": [
    "# Basic Data Types"
   ]
  },
  {
   "cell_type": "markdown",
   "id": "355c955f",
   "metadata": {},
   "source": [
    "# Numeric Data Types"
   ]
  },
  {
   "cell_type": "markdown",
   "id": "2027f9cf",
   "metadata": {},
   "source": [
    "# Range Data Types"
   ]
  },
  {
   "cell_type": "markdown",
   "id": "aa775cd3",
   "metadata": {},
   "source": [
    "# Other Data Types"
   ]
  },
  {
   "cell_type": "markdown",
   "id": "4f1324c4",
   "metadata": {},
   "source": [
    "Includes Geopoint, Geoshape, Point, Shape, Rank, Token, and Completion."
   ]
  },
  {
   "cell_type": "markdown",
   "id": "ef0f528e",
   "metadata": {},
   "source": [
    "Elasticsearch supports many other types, especially for Geospatial data."
   ]
  },
  {
   "cell_type": "markdown",
   "id": "10b7b2d2",
   "metadata": {},
   "source": [
    "# Working with Embedded Data Types"
   ]
  },
  {
   "cell_type": "markdown",
   "id": "8d4fb257",
   "metadata": {},
   "source": [
    "When using Elasticsearch, we often work with data in the JSON format, which allows us to have data elements embedded within other elements. These could be objects or arrays. But how does Elasticsearch handle these complex structures?"
   ]
  },
  {
   "cell_type": "markdown",
   "id": "92411dac",
   "metadata": {},
   "source": [
    "# Behind the scenes: Apache Lucene"
   ]
  },
  {
   "cell_type": "markdown",
   "id": "0949176c",
   "metadata": {},
   "source": [
    "Elasticsearch works its magic by using a powerful engine called Apache Lucene. When you give Elasticsearch a piece of data, it takes your JSON and transforms it into a format that Lucene can understand."
   ]
  },
  {
   "cell_type": "markdown",
   "id": "2446bca0",
   "metadata": {},
   "source": [
    "Think of it like a translator. You’re speaking in JSON, and Lucene only understands its own language. So Elasticsearch steps in and translates your JSON into ‘Lucenese’."
   ]
  },
  {
   "cell_type": "markdown",
   "id": "a9e5cd33",
   "metadata": {},
   "source": [
    "But there’s a little twist. Lucene’s world is more like a simple dictionary: it’s all about keys and values, and it doesn’t really understand the concept of embedded data types. So when it sees a complex JSON data structure, it needs to flatten it out."
   ]
  },
  {
   "cell_type": "markdown",
   "id": "aa3de65a",
   "metadata": {},
   "source": [
    "Let’s look at some examples to illustrate how this transformation happens (images):"
   ]
  },
  {
   "cell_type": "markdown",
   "id": "7384e42d",
   "metadata": {},
   "source": []
  },
  {
   "cell_type": "markdown",
   "id": "2fe44c44",
   "metadata": {},
   "source": [
    "![Image](https://storage.googleapis.com/rg-ai-bootcamp/database/es-array-to-lucene-min.png)"
   ]
  },
  {
   "cell_type": "markdown",
   "id": "1dfb4f68",
   "metadata": {},
   "source": []
  },
  {
   "cell_type": "markdown",
   "id": "cce8294d",
   "metadata": {},
   "source": [
    "![Image](https://storage.googleapis.com/rg-ai-bootcamp/database/es-array-to-lucene-min.png)"
   ]
  },
  {
   "cell_type": "markdown",
   "id": "33f85d4e",
   "metadata": {},
   "source": []
  },
  {
   "cell_type": "markdown",
   "id": "240ee92a",
   "metadata": {},
   "source": [
    "![Image](https://storage.googleapis.com/rg-ai-bootcamp/database/es-embedd-object-to-lucene-min.png)"
   ]
  },
  {
   "cell_type": "markdown",
   "id": "d865adf7",
   "metadata": {},
   "source": []
  },
  {
   "cell_type": "markdown",
   "id": "92c9f973",
   "metadata": {},
   "source": [
    "![Image](https://storage.googleapis.com/rg-ai-bootcamp/database/es-array-embed-object-to-lucene-min.png)"
   ]
  },
  {
   "cell_type": "markdown",
   "id": "8f44b460",
   "metadata": {},
   "source": [
    "Remember, this is a simplified explanation. The actual process Elasticsearch uses to transform your data into something Lucene can work with involves some complex steps like indexing. But for now, understanding this basic process can help you see how Elasticsearch handles embedded data types."
   ]
  }
 ],
 "metadata": {},
 "nbformat": 4,
 "nbformat_minor": 5
}
