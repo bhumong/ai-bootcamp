{
 "cells": [
  {
   "cell_type": "markdown",
   "id": "a2ffa610",
   "metadata": {},
   "source": [
    "source: [link](https://ai-bootcamp.ruangguru.com/learn/05_database/01_elasticsearch/02_data-modeling.html)"
   ]
  },
  {
   "cell_type": "markdown",
   "id": "fd46e0cc",
   "metadata": {},
   "source": [
    "# Data Modeling"
   ]
  },
  {
   "cell_type": "markdown",
   "id": "a9b81b1d",
   "metadata": {},
   "source": []
  },
  {
   "cell_type": "markdown",
   "id": "ac2c1db3",
   "metadata": {},
   "source": [
    "![Image](https://storage.googleapis.com/rg-ai-bootcamp/database/elasticsearch-min.png)"
   ]
  },
  {
   "cell_type": "markdown",
   "id": "e57cca58",
   "metadata": {},
   "source": [
    "Elasticsearch (Source: technocratsid.com)"
   ]
  },
  {
   "cell_type": "markdown",
   "id": "c0390cf3",
   "metadata": {},
   "source": [
    "Data modeling is a design process that defines the structure, organization, and types of data, optimizing the way data is stored, organized, and accessed. The importance of data modeling lies in its ability to optimize data retrieval, maintain data integrity, and improve overall performance, especially with vast amounts of data."
   ]
  },
  {
   "cell_type": "markdown",
   "id": "a7788103",
   "metadata": {},
   "source": [
    "# Importance of Data Modeling"
   ]
  },
  {
   "cell_type": "markdown",
   "id": "daf5626c",
   "metadata": {},
   "source": [
    "Understanding data modeling in Elasticsearch is crucial:"
   ]
  },
  {
   "cell_type": "markdown",
   "id": "f044a3de",
   "metadata": {},
   "source": [
    "- Migration Complexity:Moving from a relational database to Elasticsearch is not a simple data shift due to different data structures and query mechanisms.\n",
    "- Efficient Searching and Analysis:To fully use Elasticsearch’s capabilities, you need to structure your data for efficient searching and analysis.\n",
    "- Normalization vs Search-Oriented Modeling:Unlike database normalization in relational databases, Elasticsearch often involves denormalization to speed up search operations."
   ]
  },
  {
   "cell_type": "markdown",
   "id": "28f9552a",
   "metadata": {},
   "source": [
    "# Elasticsearch’s Schema"
   ]
  },
  {
   "cell_type": "markdown",
   "id": "e149c826",
   "metadata": {},
   "source": [
    "Elasticsearch provides a flexible yet consistent schema:"
   ]
  },
  {
   "cell_type": "markdown",
   "id": "f5430f7b",
   "metadata": {},
   "source": [
    "- Schemaless Data Insertion:You can insert data into an index without pre-defining the schema.\n",
    "- Flexible But Consistent Schema:Once a schema is formed, existing attributes can’t be changed, only new ones can be added. This differs from MongoDB’s fully dynamic schema."
   ]
  },
  {
   "cell_type": "markdown",
   "id": "5f75ecb9",
   "metadata": {},
   "source": [
    "# Primary Key"
   ]
  },
  {
   "cell_type": "markdown",
   "id": "5fef21ea",
   "metadata": {},
   "source": [
    "The primary key in Elasticsearch is unique:"
   ]
  },
  {
   "cell_type": "markdown",
   "id": "b9eca844",
   "metadata": {},
   "source": [
    "- Mandatory ID:An ID is required when creating a document to uniquely identify it in an index.\n",
    "- Fixed ID Field:The primary key is always the_idfield.\n",
    "- Single Field and String Type:The primary key can’t consist of more than one field, and the_idtype is always a string."
   ]
  },
  {
   "cell_type": "markdown",
   "id": "e073b828",
   "metadata": {},
   "source": [
    "# Data Model Perspectives"
   ]
  },
  {
   "cell_type": "markdown",
   "id": "b357d6d4",
   "metadata": {},
   "source": [
    "In Elasticsearch, consider these perspectives when creating a schema index:"
   ]
  },
  {
   "cell_type": "markdown",
   "id": "ccadbbcd",
   "metadata": {},
   "source": [
    "- Embedded Document:Used for one-to-one or one-to-many relationships, this model nests documents within another for faster queries.\n",
    "- Reference Document:Each document stands alone and references others by their IDs. This is used for many-to-many relationships or large data."
   ]
  },
  {
   "cell_type": "markdown",
   "id": "18d6ed4d",
   "metadata": {},
   "source": []
  },
  {
   "cell_type": "markdown",
   "id": "fb5e8809",
   "metadata": {},
   "source": [
    "![Image](https://storage.googleapis.com/rg-ai-bootcamp/database/structure-document-min.png)"
   ]
  },
  {
   "cell_type": "markdown",
   "id": "65df317a",
   "metadata": {},
   "source": []
  },
  {
   "cell_type": "markdown",
   "id": "9c7836ce",
   "metadata": {},
   "source": [
    "![Image](https://storage.googleapis.com/rg-ai-bootcamp/database/reference-document-min.png)"
   ]
  },
  {
   "cell_type": "markdown",
   "id": "7f0a3810",
   "metadata": {},
   "source": [
    "# Embedded vs Reference"
   ]
  },
  {
   "cell_type": "markdown",
   "id": "90a64fd8",
   "metadata": {},
   "source": [
    "| UseEmbeddeddocuments | UseReferencedocuments |\n",
    "| --- | --- |\n",
    "| If there’s a strong dependency between documents or if the embedded document is always needed when retrieving the main one. | If the documents can stand alone, can be manipulated directly, or if the reference document is not always needed when retrieving the main one |"
   ]
  },
  {
   "cell_type": "markdown",
   "id": "7a0d1b0c",
   "metadata": {},
   "source": [
    "The choice depends on your specific use case and data nature."
   ]
  },
  {
   "cell_type": "markdown",
   "id": "49739dee",
   "metadata": {},
   "source": [
    "# Data Types"
   ]
  },
  {
   "cell_type": "markdown",
   "id": "72aeabd3",
   "metadata": {},
   "source": [
    "Elasticsearch supports numerous data types. Here are some basic ones:"
   ]
  },
  {
   "cell_type": "markdown",
   "id": "be5fc9d9",
   "metadata": {},
   "source": [
    "# Basic Data Types"
   ]
  },
  {
   "cell_type": "markdown",
   "id": "1e693150",
   "metadata": {},
   "source": [
    "| Data Type | Description |\n",
    "| --- | --- |\n",
    "| binary | Base64 encoded string |\n",
    "| boolean | True or false |\n",
    "| date | Date and time (up to millisecond) |\n",
    "| date_nanos | Date and time (up to nanosecond) |\n",
    "| ip | IPv4 or IPv6 |\n",
    "| keyword | Structured text (e.g., id, email, hostname, zipcode) |\n",
    "| text | Text |\n",
    "| version | Semantic version data |"
   ]
  },
  {
   "cell_type": "markdown",
   "id": "a94234a8",
   "metadata": {},
   "source": [
    "# Numeric Data Types"
   ]
  },
  {
   "cell_type": "markdown",
   "id": "6b72eec2",
   "metadata": {},
   "source": [
    "| Numeric Data Type | Description |\n",
    "| --- | --- |\n",
    "| long | 64-bit integer (-\\(2^{63}\\)to\\(2^{63} - 1\\)) |\n",
    "| integer | 32-bit integer (-\\(2^{31}\\)to\\(2^{31} - 1\\)) |\n",
    "| short | 16-bit integer (-32768 to 32764) |\n",
    "| byte | 8-bit integer (-128 to 127) |\n",
    "| double | 64-bit IEEE 754 floating point |\n",
    "| float | 32-bit IEEE 754 floating point |\n",
    "| half_float | Half of a 16-bit IEEE 754 floating point |\n",
    "| scaled_float | Floating point stored in long |\n",
    "| unsigned_long | 64-bit integer (0 to\\(2^{64} - 1\\)) |"
   ]
  },
  {
   "cell_type": "markdown",
   "id": "11f0ac0f",
   "metadata": {},
   "source": [
    "# Range Data Types"
   ]
  },
  {
   "cell_type": "markdown",
   "id": "f49f9967",
   "metadata": {},
   "source": [
    "| Range Data Type | Description |\n",
    "| --- | --- |\n",
    "| integer_range | Range of min and max integer |\n",
    "| float_range | Range of min and max float |\n",
    "| long_range | Range of min and max long |\n",
    "| double_range | Range of min and max double |\n",
    "| date_range | Range of min and max date |\n",
    "| ip_range | Range of min and max IP |"
   ]
  },
  {
   "cell_type": "markdown",
   "id": "6178c4c4",
   "metadata": {},
   "source": [
    "# Other Data Types"
   ]
  },
  {
   "cell_type": "markdown",
   "id": "6c54d089",
   "metadata": {},
   "source": [
    "Includes Geopoint, Geoshape, Point, Shape, Rank, Token, and Completion."
   ]
  },
  {
   "cell_type": "markdown",
   "id": "cbccf9b5",
   "metadata": {},
   "source": [
    "Elasticsearch supports many other types, especially for Geospatial data."
   ]
  },
  {
   "cell_type": "markdown",
   "id": "5439aac6",
   "metadata": {},
   "source": [
    "# Working with Embedded Data Types"
   ]
  },
  {
   "cell_type": "markdown",
   "id": "96753de9",
   "metadata": {},
   "source": [
    "When using Elasticsearch, we often work with data in the JSON format, which allows us to have data elements embedded within other elements. These could be objects or arrays. But how does Elasticsearch handle these complex structures?"
   ]
  },
  {
   "cell_type": "markdown",
   "id": "e1f7d886",
   "metadata": {},
   "source": [
    "# Behind the scenes: Apache Lucene"
   ]
  },
  {
   "cell_type": "markdown",
   "id": "50c7b6bf",
   "metadata": {},
   "source": [
    "Elasticsearch works its magic by using a powerful engine called Apache Lucene. When you give Elasticsearch a piece of data, it takes your JSON and transforms it into a format that Lucene can understand."
   ]
  },
  {
   "cell_type": "markdown",
   "id": "27472d8a",
   "metadata": {},
   "source": [
    "Think of it like a translator. You’re speaking in JSON, and Lucene only understands its own language. So Elasticsearch steps in and translates your JSON into ‘Lucenese’."
   ]
  },
  {
   "cell_type": "markdown",
   "id": "7a444c98",
   "metadata": {},
   "source": [
    "But there’s a little twist. Lucene’s world is more like a simple dictionary: it’s all about keys and values, and it doesn’t really understand the concept of embedded data types. So when it sees a complex JSON data structure, it needs to flatten it out."
   ]
  },
  {
   "cell_type": "markdown",
   "id": "d6f07699",
   "metadata": {},
   "source": [
    "Let’s look at some examples to illustrate how this transformation happens (images):"
   ]
  },
  {
   "cell_type": "markdown",
   "id": "597dc94b",
   "metadata": {},
   "source": []
  },
  {
   "cell_type": "markdown",
   "id": "53d389ae",
   "metadata": {},
   "source": [
    "![Image](https://storage.googleapis.com/rg-ai-bootcamp/database/es-array-to-lucene-min.png)"
   ]
  },
  {
   "cell_type": "markdown",
   "id": "b222a452",
   "metadata": {},
   "source": []
  },
  {
   "cell_type": "markdown",
   "id": "c66c8fb3",
   "metadata": {},
   "source": [
    "![Image](https://storage.googleapis.com/rg-ai-bootcamp/database/es-array-to-lucene-min.png)"
   ]
  },
  {
   "cell_type": "markdown",
   "id": "372c7f0a",
   "metadata": {},
   "source": []
  },
  {
   "cell_type": "markdown",
   "id": "ce232670",
   "metadata": {},
   "source": [
    "![Image](https://storage.googleapis.com/rg-ai-bootcamp/database/es-embedd-object-to-lucene-min.png)"
   ]
  },
  {
   "cell_type": "markdown",
   "id": "be610ca9",
   "metadata": {},
   "source": []
  },
  {
   "cell_type": "markdown",
   "id": "beb1ab1f",
   "metadata": {},
   "source": [
    "![Image](https://storage.googleapis.com/rg-ai-bootcamp/database/es-array-embed-object-to-lucene-min.png)"
   ]
  },
  {
   "cell_type": "markdown",
   "id": "300564c5",
   "metadata": {},
   "source": [
    "Remember, this is a simplified explanation. The actual process Elasticsearch uses to transform your data into something Lucene can work with involves some complex steps like indexing. But for now, understanding this basic process can help you see how Elasticsearch handles embedded data types."
   ]
  }
 ],
 "metadata": {},
 "nbformat": 4,
 "nbformat_minor": 5
}
