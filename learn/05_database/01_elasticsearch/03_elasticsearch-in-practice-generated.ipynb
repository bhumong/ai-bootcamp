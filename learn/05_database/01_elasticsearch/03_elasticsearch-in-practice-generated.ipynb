{
 "cells": [
  {
   "cell_type": "markdown",
   "id": "cdd74183",
   "metadata": {},
   "source": [
    "source: [link](https://ai-bootcamp.ruangguru.com/learn/05_database/01_elasticsearch/03_elasticsearch-in-practice.html)"
   ]
  },
  {
   "cell_type": "markdown",
   "id": "3f22247d",
   "metadata": {},
   "source": [
    "# Elasticsearch In Practice"
   ]
  },
  {
   "cell_type": "markdown",
   "id": "cd371276",
   "metadata": {},
   "source": []
  },
  {
   "cell_type": "markdown",
   "id": "b86ab9f5",
   "metadata": {},
   "source": [
    "![Image](https://storage.googleapis.com/rg-ai-bootcamp/database/elasticsearch-min.png)"
   ]
  },
  {
   "cell_type": "markdown",
   "id": "80bd9950",
   "metadata": {},
   "source": [
    "Elasticsearch (Source: technocratsid.com)"
   ]
  },
  {
   "cell_type": "markdown",
   "id": "d1a7767b",
   "metadata": {},
   "source": [
    "# Index"
   ]
  },
  {
   "cell_type": "markdown",
   "id": "a777a962",
   "metadata": {},
   "source": [
    "As mentioned earlier, Elasticsearch doesn’t have a concept like a database; thus, we can create an index (or table) directly. But how do we use Elasticsearch for more than one application? A common practice is to prefix the index name with the application’s name, for example: applicationname_indexname. This way, index names do not conflict between applications."
   ]
  },
  {
   "cell_type": "markdown",
   "id": "a0df0f5c",
   "metadata": {},
   "source": [
    "# Creating an Index"
   ]
  },
  {
   "cell_type": "markdown",
   "id": "e01f6ca9",
   "metadata": {},
   "source": [
    "To create an Index, we can make an HTTP call like so:"
   ]
  },
  {
   "cell_type": "code",
   "execution_count": null,
   "id": "518dc451",
   "metadata": {},
   "outputs": [],
   "source": [
    "PUT /{index_name}"
   ]
  },
  {
   "cell_type": "markdown",
   "id": "16c59e91",
   "metadata": {},
   "source": [
    "The rules for index names are as follows:"
   ]
  },
  {
   "cell_type": "markdown",
   "id": "94b6b8aa",
   "metadata": {},
   "source": [
    "By creating unique index names, you ensure that data from different applications is stored separately and can be queried independently."
   ]
  },
  {
   "cell_type": "markdown",
   "id": "008d0486",
   "metadata": {},
   "source": [
    "Before we start practicing, install the elasticsearch package"
   ]
  },
  {
   "cell_type": "code",
   "execution_count": null,
   "id": "19a03de0",
   "metadata": {},
   "outputs": [],
   "source": [
    "%pip install elasticsearch"
   ]
  },
  {
   "cell_type": "markdown",
   "id": "6f9f7d9f",
   "metadata": {},
   "source": [
    "import the packages we need"
   ]
  },
  {
   "cell_type": "code",
   "execution_count": null,
   "id": "9dbc376e",
   "metadata": {},
   "outputs": [],
   "source": [
    "from elasticsearch import Elasticsearch\n",
    "import time\n",
    "import json"
   ]
  },
  {
   "cell_type": "markdown",
   "id": "b21ced6d",
   "metadata": {},
   "source": [
    "Create a connection to elasticsearch, make sure elasticsearch is running on your computer’s localhost or is running on Google Collab."
   ]
  },
  {
   "cell_type": "code",
   "execution_count": null,
   "id": "69b79040",
   "metadata": {},
   "outputs": [],
   "source": [
    "es = Elasticsearch([{'host': 'localhost', 'port': 9200, 'scheme': 'http'}])"
   ]
  },
  {
   "cell_type": "markdown",
   "id": "68b4a8ab",
   "metadata": {},
   "source": [
    "Creating an Index"
   ]
  },
  {
   "cell_type": "code",
   "execution_count": null,
   "id": "5bd73d04",
   "metadata": {},
   "outputs": [],
   "source": [
    "# Create index customers\n",
    "# PUT http://localhost:9200/customers\n",
    "response = es.options(ignore_status=[400]).indices.create(index='customers')\n",
    "print(json.dumps(response.body, indent=4))"
   ]
  },
  {
   "cell_type": "code",
   "execution_count": null,
   "id": "815a645a",
   "metadata": {},
   "outputs": [],
   "source": [
    "# Create index products\n",
    "# PUT http://localhost:9200/products\n",
    "response = es.options(ignore_status=[400]).indices.create(index='products')\n",
    "print(json.dumps(response.body, indent=4))"
   ]
  },
  {
   "cell_type": "code",
   "execution_count": null,
   "id": "1c76ce6b",
   "metadata": {},
   "outputs": [],
   "source": [
    "# Create index orders\n",
    "# PUT http://localhost:9200/orders\n",
    "response = es.options(ignore_status=[400]).indices.create(index='orders')\n",
    "print(json.dumps(response.body, indent=4))"
   ]
  },
  {
   "cell_type": "code",
   "execution_count": null,
   "id": "5f74554c",
   "metadata": {},
   "outputs": [],
   "source": [
    "# Get All Indexes\n",
    "# GET http://localhost:9200/_cat/indices?v\n",
    "response = es.cat.indices(v=True)\n",
    "print(response)"
   ]
  },
  {
   "cell_type": "markdown",
   "id": "636dd569",
   "metadata": {},
   "source": [
    "# Deleting an Index"
   ]
  },
  {
   "cell_type": "markdown",
   "id": "1c78fe31",
   "metadata": {},
   "source": [
    "To delete an index that you’ve created, you can simply use the DELETE HTTP method. Deleting an index will automatically remove all data associated with that index. Here’s how you can do it:"
   ]
  },
  {
   "cell_type": "code",
   "execution_count": null,
   "id": "48f0e3e8",
   "metadata": {},
   "outputs": [],
   "source": [
    "DELETE /{index_name}"
   ]
  },
  {
   "cell_type": "markdown",
   "id": "c4a1e530",
   "metadata": {},
   "source": [
    "Just replace {index_name} with the name of the index you wish to delete. But be careful, this operation is irreversible. Once an index is deleted, all the data within it is permanently lost unless you have a backup or recovery mechanism in place."
   ]
  },
  {
   "cell_type": "markdown",
   "id": "5fc95bbb",
   "metadata": {},
   "source": [
    "Delete Index"
   ]
  },
  {
   "cell_type": "code",
   "execution_count": null,
   "id": "2a4647b5",
   "metadata": {},
   "outputs": [],
   "source": [
    "# Delete index customers\n",
    "# DELETE http://localhost:9200/customers\n",
    "response = es.options(ignore_status=[400, 404]).indices.delete(index='customers')\n",
    "print(json.dumps(response.body, indent=4))"
   ]
  },
  {
   "cell_type": "code",
   "execution_count": null,
   "id": "5c1d3a59",
   "metadata": {},
   "outputs": [],
   "source": [
    "# Delete index products\n",
    "# DELETE http://localhost:9200/products\n",
    "response = es.options(ignore_status=[400, 404]).indices.delete(index='products')\n",
    "print(json.dumps(response.body, indent=4))"
   ]
  },
  {
   "cell_type": "code",
   "execution_count": null,
   "id": "c04574f7",
   "metadata": {},
   "outputs": [],
   "source": [
    "# Delete index orders\n",
    "# DELETE http://localhost:9200/orders\n",
    "response = es.options(ignore_status=[400, 404]).indices.delete(index='orders')\n",
    "print(json.dumps(response.body, indent=4))"
   ]
  },
  {
   "cell_type": "code",
   "execution_count": null,
   "id": "3f142eea",
   "metadata": {},
   "outputs": [],
   "source": [
    "# Get All Indexes\n",
    "# GET http://localhost:9200/_cat/indices?v\n",
    "response = es.cat.indices(v=True)\n",
    "print(response)"
   ]
  },
  {
   "cell_type": "markdown",
   "id": "b13ed4d9",
   "metadata": {},
   "source": [
    "# Dynamic Mapping in Elasticsearch"
   ]
  },
  {
   "cell_type": "markdown",
   "id": "a35ffceb",
   "metadata": {},
   "source": [
    "In Elasticsearch, defining the schema of an index is known as mapping. By default, a feature called Dynamic Mapping is enabled, where Elasticsearch auto-detects the data type of each JSON attribute and creates a mapping accordingly."
   ]
  },
  {
   "cell_type": "markdown",
   "id": "fdcd6d1d",
   "metadata": {},
   "source": [
    "While convenient, it’s generally recommended to manually create mappings for better control over data indexing and querying. This ensures proper interpretation and storage of your data."
   ]
  },
  {
   "cell_type": "markdown",
   "id": "7586f834",
   "metadata": {},
   "source": [
    "# Dynamic Field Mapping"
   ]
  },
  {
   "cell_type": "markdown",
   "id": "f373bd8a",
   "metadata": {},
   "source": [
    "This feature auto-detects the data type of a field in a JSON document and assigns a corresponding Elasticsearch data type:"
   ]
  },
  {
   "cell_type": "markdown",
   "id": "27f63b76",
   "metadata": {},
   "source": [
    "| JSON Data Type | Elasticsearch Data Type |\n",
    "| --- | --- |\n",
    "| null | No field added |\n",
    "| true / false | boolean |\n",
    "| double | float |\n",
    "| long | long |\n",
    "| array | Depends on the first data item type |\n",
    "| string | date, float, long, text (auto-detected) |"
   ]
  },
  {
   "cell_type": "markdown",
   "id": "810c4d9d",
   "metadata": {},
   "source": [
    "# Date Detection"
   ]
  },
  {
   "cell_type": "markdown",
   "id": "7e88ebea",
   "metadata": {},
   "source": [
    "By default, Elasticsearch detects if a string data is in a date format and assigns it a date data type using the format yyyy/MM/dd HH:mm:ss. This feature is active by default but can be deactivated by setting the date_detection attribute in the mapping to false. The date format can be changed by adjusting the dynamic_date_formats attribute in the mapping."
   ]
  },
  {
   "cell_type": "markdown",
   "id": "c83cdedc",
   "metadata": {},
   "source": [
    "Update Dynamic Mapping for Date"
   ]
  },
  {
   "cell_type": "code",
   "execution_count": null,
   "id": "04edd0d6",
   "metadata": {},
   "outputs": [],
   "source": [
    "# Update customers mapping\n",
    "# PUT http://localhost:9200/customers/_mapping\n",
    "response = es.indices.put_mapping(index='customers', body={\n",
    "    'properties': {\n",
    "        'date': {\n",
    "            'type': 'date',\n",
    "            'format': 'yyyy-MM-dd HH:mm:ss||yyyy-MM-dd||yyyy/MM/dd HH:mm:ss||yyyy/MM/dd'\n",
    "        },\n",
    "        'register_at': {\n",
    "            'type': 'date',\n",
    "            'format': 'yyyy-MM-dd HH:mm:ss||yyyy-MM-dd||yyyy/MM/dd HH:mm:ss||yyyy/MM/dd'\n",
    "        }\n",
    "    }\n",
    "})\n",
    "print(json.dumps(response.body, indent=4))\n",
    "\n",
    "# Get Mapping\n",
    "# GET http://localhost:9200/customers/_mapping\n",
    "response = es.indices.get_mapping(index='customers')\n",
    "print(json.dumps(response.body, indent=4))"
   ]
  },
  {
   "cell_type": "code",
   "execution_count": null,
   "id": "19aaf084",
   "metadata": {},
   "outputs": [],
   "source": [
    "# Update products mapping\n",
    "# PUT http://localhost:9200/products/_mapping\n",
    "response = es.indices.put_mapping(index='products', body={\n",
    "    'properties': {\n",
    "        'date': {\n",
    "            'type': 'date',\n",
    "            'format': 'yyyy-MM-dd HH:mm:ss||yyyy-MM-dd||yyyy/MM/dd HH:mm:ss||yyyy/MM/dd'\n",
    "        }\n",
    "    }\n",
    "})\n",
    "print(json.dumps(response.body, indent=4))\n",
    "\n",
    "# Get Mapping\n",
    "# GET http://localhost:9200/products/_mapping\n",
    "response = es.indices.get_mapping(index='products')\n",
    "print(json.dumps(response.body, indent=4))"
   ]
  },
  {
   "cell_type": "code",
   "execution_count": null,
   "id": "d3476cfe",
   "metadata": {},
   "outputs": [],
   "source": [
    "# Update orders mapping\n",
    "# PUT http://localhost:9200/orders/_mapping\n",
    "response = es.indices.put_mapping(index='orders', body={\n",
    "    'properties': {\n",
    "        'date': {\n",
    "            'type': 'date',\n",
    "            'format': 'yyyy-MM-dd HH:mm:ss||yyyy-MM-dd||yyyy/MM/dd HH:mm:ss||yyyy/MM/dd'\n",
    "        }\n",
    "    }\n",
    "})\n",
    "print(json.dumps(response.body, indent=4))\n",
    "\n",
    "# Get Mapping\n",
    "# GET http://localhost:9200/orders/_mapping\n",
    "response = es.indices.get_mapping(index='orders')\n",
    "print(json.dumps(response.body, indent=4))"
   ]
  },
  {
   "cell_type": "markdown",
   "id": "70ea5d17",
   "metadata": {},
   "source": [
    "# Number Detection"
   ]
  },
  {
   "cell_type": "markdown",
   "id": "e1808196",
   "metadata": {},
   "source": [
    "Although JSON has a number data type, sometimes users send numbers in a string format, such as “100” or “12.12”. In these cases, Elasticsearch may need to detect and convert these string-formatted numbers to actual number data types (long or float)."
   ]
  },
  {
   "cell_type": "markdown",
   "id": "903bdb4c",
   "metadata": {},
   "source": [
    "By default, automatic number detection is not active in Elasticsearch. If you want to activate it, you need to change the numeric_detection attribute in the mapping to true."
   ]
  },
  {
   "cell_type": "markdown",
   "id": "d9f17afa",
   "metadata": {},
   "source": [
    "If a mapping for a certain attribute is not yet available, Elasticsearch will automatically try to convert the data to a number type (either long or float). If the conversion is successful, Elasticsearch will use the corresponding number data type for the field."
   ]
  },
  {
   "cell_type": "code",
   "execution_count": null,
   "id": "988f1f9f",
   "metadata": {},
   "outputs": [],
   "source": [
    "# Update customers mapping\n",
    "# PUT http://localhost:9200/customers/_mapping\n",
    "response = es.indices.put_mapping(index='customers', body={\n",
    "    'numeric_detection': True\n",
    "})\n",
    "print(json.dumps(response.body, indent=4))\n",
    "\n",
    "# Get Mapping\n",
    "# GET http://localhost:9200/customers/_mapping\n",
    "response = es.indices.get_mapping(index='customers')\n",
    "print(json.dumps(response.body, indent=4))"
   ]
  },
  {
   "cell_type": "code",
   "execution_count": null,
   "id": "4a6d6f71",
   "metadata": {},
   "outputs": [],
   "source": [
    "# Update products mapping\n",
    "# PUT http://localhost:9200/products/_mapping\n",
    "response = es.indices.put_mapping(index='products', body={\n",
    "    'numeric_detection': True\n",
    "})\n",
    "print(json.dumps(response.body, indent=4))\n",
    "\n",
    "# Get Mapping\n",
    "# GET http://localhost:9200/products/_mapping\n",
    "response = es.indices.get_mapping(index='products')\n",
    "print(json.dumps(response.body, indent=4))"
   ]
  },
  {
   "cell_type": "code",
   "execution_count": null,
   "id": "231edff6",
   "metadata": {},
   "outputs": [],
   "source": [
    "# Update orders mapping\n",
    "# PUT http://localhost:9200/orders/_mapping\n",
    "response = es.indices.put_mapping(index='orders', body={\n",
    "    'numeric_detection': True\n",
    "})\n",
    "print(json.dumps(response.body, indent=4))\n",
    "\n",
    "# Get Mapping\n",
    "# GET http://localhost:9200/orders/_mapping\n",
    "response = es.indices.get_mapping(index='orders')\n",
    "print(json.dumps(response.body, indent=4))"
   ]
  },
  {
   "cell_type": "markdown",
   "id": "6a5c8c50",
   "metadata": {},
   "source": [
    "# Create API"
   ]
  },
  {
   "cell_type": "markdown",
   "id": "3bc09608",
   "metadata": {},
   "source": [
    "The Create API is used to add new data to Elasticsearch."
   ]
  },
  {
   "cell_type": "markdown",
   "id": "25c2aaf9",
   "metadata": {},
   "source": [
    "The Create API has a “save” operation, which means it will only create a new document if a document with the provided _id does not already exist. Attempting to create a document with an _id that already exists will result in a conflict error."
   ]
  },
  {
   "cell_type": "markdown",
   "id": "6c9128f4",
   "metadata": {},
   "source": [
    "To use the Create API, you use either the POST or PUT HTTP method with the following endpoint:"
   ]
  },
  {
   "cell_type": "code",
   "execution_count": null,
   "id": "81dab248",
   "metadata": {},
   "outputs": [],
   "source": [
    "POST/PUT /<index_name>/_create/<id>"
   ]
  },
  {
   "cell_type": "markdown",
   "id": "366db744",
   "metadata": {},
   "source": [
    "Here, <index_name> is the name of the index where you want to create the document, and <id> is the unique identifier you want to assign to the new document. If the document is successfully created, Elasticsearch will return a confirmation response."
   ]
  },
  {
   "cell_type": "markdown",
   "id": "e8da7dc3",
   "metadata": {},
   "source": [
    "Create Customer"
   ]
  },
  {
   "cell_type": "code",
   "execution_count": null,
   "id": "41248149",
   "metadata": {},
   "outputs": [],
   "source": [
    "# Insert customers aditira\n",
    "# POST http://localhost:9200/customers/_create/aditira\n",
    "response = es.index(index='customers', id='aditira', body={\n",
    "    'name': 'Aditira Jamhuri',\n",
    "    'register_at': '2023-11-30 00:00:00',\n",
    "})\n",
    "print(json.dumps(response.body, indent=4))\n",
    "\n",
    "# Get Mapping\n",
    "# GET http://localhost:9200/customers/_mapping\n",
    "response = es.indices.get_mapping(index='customers')\n",
    "print(json.dumps(response.body, indent=4))"
   ]
  },
  {
   "cell_type": "markdown",
   "id": "82fc3406",
   "metadata": {},
   "source": [
    "Create Product"
   ]
  },
  {
   "cell_type": "code",
   "execution_count": null,
   "id": "8b2387dd",
   "metadata": {},
   "outputs": [],
   "source": [
    "# Insert products 1\n",
    "# POST http://localhost:9200/products/_create/1\n",
    "response = es.index(index='products', id='1', body={\n",
    "    'name': 'Product 1',\n",
    "    'price': 10000,\n",
    "})\n",
    "print(json.dumps(response.body, indent=4))"
   ]
  },
  {
   "cell_type": "code",
   "execution_count": null,
   "id": "38311ef0",
   "metadata": {},
   "outputs": [],
   "source": [
    "# Insert products 2\n",
    "# POST http://localhost:9200/products/_create/2\n",
    "response = es.index(index='products', id='2', body={\n",
    "    'name': 'Product 2',\n",
    "    'price': 20000,\n",
    "})\n",
    "print(json.dumps(response.body, indent=4))"
   ]
  },
  {
   "cell_type": "code",
   "execution_count": null,
   "id": "6aeaf1b8",
   "metadata": {},
   "outputs": [],
   "source": [
    "# Get Mapping\n",
    "# GET http://localhost:9200/products/_mapping\n",
    "response = es.indices.get_mapping(index='products')\n",
    "print(json.dumps(response.body, indent=4))"
   ]
  },
  {
   "cell_type": "markdown",
   "id": "00210278",
   "metadata": {},
   "source": [
    "Create Order"
   ]
  },
  {
   "cell_type": "code",
   "execution_count": null,
   "id": "145c4f7c",
   "metadata": {},
   "outputs": [],
   "source": [
    "# Insert orders 1\n",
    "# POST http://localhost:9200/orders/_create/1\n",
    "response = es.index(index='orders', id='1', body={\n",
    "    \"order_date\": \"2023-12-01 00:00:00\",\n",
    "    \"customer_id\": \"aditira\",\n",
    "    \"total\": 40000,\n",
    "    \"items\": [\n",
    "        {\n",
    "            \"product_id\": \"1\",\n",
    "            \"price\": 10000,\n",
    "            \"quantity\": 2\n",
    "        },\n",
    "        {\n",
    "            \"product_id\": \"2\",\n",
    "            \"price\": 20000,\n",
    "            \"quantity\": 1\n",
    "        }\n",
    "    ]\n",
    "})\n",
    "print(json.dumps(response.body, indent=4))\n",
    "\n",
    "# Get Mapping\n",
    "# GET http://localhost:9200/orders/_mapping\n",
    "response = es.indices.get_mapping(index='orders')\n",
    "print(json.dumps(response.body, indent=4))"
   ]
  },
  {
   "cell_type": "markdown",
   "id": "5d8742f5",
   "metadata": {},
   "source": [
    "# Get API"
   ]
  },
  {
   "cell_type": "markdown",
   "id": "50f2ff24",
   "metadata": {},
   "source": [
    "Once you’ve stored data in Elasticsearch using the Create API, you can retrieve this data using the Get API."
   ]
  },
  {
   "cell_type": "markdown",
   "id": "96a35353",
   "metadata": {},
   "source": [
    "The Get API returns the requested data along with its associated metadata, such as the _id, index name, document version, and so on."
   ]
  },
  {
   "cell_type": "markdown",
   "id": "6d9d4ce2",
   "metadata": {},
   "source": [
    "If the data you’re trying to retrieve is not available (i.e., there is no document with the requested _id in the specified index), the HTTP response code will be 404 Not Found."
   ]
  },
  {
   "cell_type": "markdown",
   "id": "2c05a3fd",
   "metadata": {},
   "source": [
    "To use the Get API, you make an HTTP GET request to the following endpoint:"
   ]
  },
  {
   "cell_type": "code",
   "execution_count": null,
   "id": "9a51954b",
   "metadata": {},
   "outputs": [],
   "source": [
    "GET /<index_name>/_doc/<id>"
   ]
  },
  {
   "cell_type": "markdown",
   "id": "29f5f03a",
   "metadata": {},
   "source": [
    "In this endpoint, <index_name> is the name of the index from which you want to retrieve data, and <id> is the unique identifier of the document you want to retrieve. If the document is found, Elasticsearch will return the document and its metadata in the response."
   ]
  },
  {
   "cell_type": "markdown",
   "id": "664b74c8",
   "metadata": {},
   "source": [
    "Get Document"
   ]
  },
  {
   "cell_type": "code",
   "execution_count": null,
   "id": "bdfa7fb6",
   "metadata": {},
   "outputs": [],
   "source": [
    "# Get Customers aditira\n",
    "# GET http://localhost:9200/customers/_doc/aditira\n",
    "response = es.get(index='customers', id='aditira')\n",
    "print(json.dumps(response.body, indent=4))"
   ]
  },
  {
   "cell_type": "markdown",
   "id": "8c9ea646",
   "metadata": {},
   "source": [
    "# Get Source API"
   ]
  },
  {
   "cell_type": "markdown",
   "id": "8351b05f",
   "metadata": {},
   "source": [
    "If you’re interested in retrieving the document data but do not wish to receive the metadata associated with the document, you can use the Get Source API."
   ]
  },
  {
   "cell_type": "markdown",
   "id": "56c12d84",
   "metadata": {},
   "source": [
    "To use the Get Source API, you make an HTTP GET request to the following endpoint:"
   ]
  },
  {
   "cell_type": "code",
   "execution_count": null,
   "id": "02da563b",
   "metadata": {},
   "outputs": [],
   "source": [
    "GET /<index_name>/_source/<id>"
   ]
  },
  {
   "cell_type": "markdown",
   "id": "384c95e7",
   "metadata": {},
   "source": [
    "In this endpoint, <index_name> is the name of the index from which you want to retrieve data, and <id> is the unique identifier of the document you want to retrieve."
   ]
  },
  {
   "cell_type": "markdown",
   "id": "738df5e4",
   "metadata": {},
   "source": [
    "This call will return only the actual data that you inserted, without any of the metadata information, including the _id. This is because the _id is already included in the URL where you’re making the HTTP call. As such, if the document is found, Elasticsearch will return the document data in the response, without any metadata."
   ]
  },
  {
   "cell_type": "markdown",
   "id": "f5918f14",
   "metadata": {},
   "source": [
    "Get Source Document"
   ]
  },
  {
   "cell_type": "code",
   "execution_count": null,
   "id": "5f542542",
   "metadata": {},
   "outputs": [],
   "source": [
    "# Get Source Customers aditira\n",
    "# GET http://localhost:9200/customers/_doc/aditira/_source\n",
    "response = es.get_source(index='customers', id='aditira')\n",
    "print(json.dumps(response.body, indent=4))"
   ]
  },
  {
   "cell_type": "markdown",
   "id": "bf25c336",
   "metadata": {},
   "source": [
    "# Check Exists"
   ]
  },
  {
   "cell_type": "markdown",
   "id": "ac49c99e",
   "metadata": {},
   "source": [
    "There may be cases where you only want to check if a document exists in an index, without needing to retrieve the document’s data. In such cases, you can use the Get API, but with the HTTP method HEAD instead of GET."
   ]
  },
  {
   "cell_type": "markdown",
   "id": "0af4431a",
   "metadata": {},
   "source": [
    "To check if a document exists, you make an HTTP HEAD request to the following endpoint:"
   ]
  },
  {
   "cell_type": "code",
   "execution_count": null,
   "id": "87a7b35c",
   "metadata": {},
   "outputs": [],
   "source": [
    "HEAD /<index_name>/_doc/<id>"
   ]
  },
  {
   "cell_type": "markdown",
   "id": "bfd8f824",
   "metadata": {},
   "source": [
    "In this endpoint, <index_name> is the name of the index where you’re checking for the document, and <id> is the unique identifier of the document you’re checking for."
   ]
  },
  {
   "cell_type": "markdown",
   "id": "8ec88f8a",
   "metadata": {},
   "source": [
    "Elasticsearch will return a 200 OK response without any body if the document exists. If the document does not exist, it will return a 404 Not Found response. This is a quick and efficient way to check for the existence of a document without retrieving or transferring any data."
   ]
  },
  {
   "cell_type": "markdown",
   "id": "0306aabb",
   "metadata": {},
   "source": [
    "If data exists"
   ]
  },
  {
   "cell_type": "code",
   "execution_count": null,
   "id": "b9bdeb01",
   "metadata": {},
   "outputs": [],
   "source": [
    "# Check Customers aditira\n",
    "# HEAD http://localhost:9200/customers/_doc/aditira\n",
    "response = es.exists(index='customers', id='aditira')\n",
    "print(json.dumps(response.body, indent=4))"
   ]
  },
  {
   "cell_type": "markdown",
   "id": "9658b369",
   "metadata": {},
   "source": [
    "If the data does not exist"
   ]
  },
  {
   "cell_type": "code",
   "execution_count": null,
   "id": "61649874",
   "metadata": {},
   "outputs": [],
   "source": [
    "# Check Customers wrong\n",
    "# HEAD http://localhost:9200/customers/_doc/wrong\n",
    "response = es.exists(index='customers', id='wrong')\n",
    "print(json.dumps(response.body, indent=4))"
   ]
  },
  {
   "cell_type": "markdown",
   "id": "4a3d33c0",
   "metadata": {},
   "source": [
    "# Multi Get API"
   ]
  },
  {
   "cell_type": "markdown",
   "id": "4d2054a0",
   "metadata": {},
   "source": [
    "Elasticsearch provides a Multi Get API that allows you to retrieve multiple documents at once. This is useful when you need to fetch documents from different indices in a single API call."
   ]
  },
  {
   "cell_type": "markdown",
   "id": "b9268b4b",
   "metadata": {},
   "source": [
    "You can use the Multi Get API with the following RESTful API endpoints:"
   ]
  },
  {
   "cell_type": "code",
   "execution_count": null,
   "id": "89a43f98",
   "metadata": {},
   "outputs": [],
   "source": [
    "POST /_mget\n",
    "POST /<index_name>/_mget"
   ]
  },
  {
   "cell_type": "markdown",
   "id": "81bbbc99",
   "metadata": {},
   "source": [
    "In these endpoints, <index_name> is the name of the index from which you want to retrieve documents. If you omit the <index_name>, Elasticsearch will retrieve documents from all indices."
   ]
  },
  {
   "cell_type": "markdown",
   "id": "bbce5521",
   "metadata": {},
   "source": [
    "The _mget endpoint accepts a request body that specifies the documents to retrieve. The request body should be a JSON object that contains an ids array, like this:"
   ]
  },
  {
   "cell_type": "code",
   "execution_count": null,
   "id": "fd6a636d",
   "metadata": {},
   "outputs": [],
   "source": [
    "{\n",
    "  \"ids\" : [\"1\", \"2\", \"3\", \"4\"]\n",
    "}"
   ]
  },
  {
   "cell_type": "markdown",
   "id": "d3d5b70e",
   "metadata": {},
   "source": [
    "If you’re using <index_name>/_mget, then all IDs in the ids array will be retrieved from the specified index. If you’re using /_mget, you can specify the index for each ID in the ids array, like this:"
   ]
  },
  {
   "cell_type": "code",
   "execution_count": null,
   "id": "3b740849",
   "metadata": {},
   "outputs": [],
   "source": [
    "{\n",
    "  \"docs\" : [\n",
    "    {\n",
    "      \"_index\" : \"index1\",\n",
    "      \"_id\" : \"1\"\n",
    "    },\n",
    "    {\n",
    "      \"_index\" : \"index2\",\n",
    "      \"_id\" : \"2\"\n",
    "    }\n",
    "  ]\n",
    "}"
   ]
  },
  {
   "cell_type": "markdown",
   "id": "92e5ab5f",
   "metadata": {},
   "source": [
    "In this case, Elasticsearch will retrieve each document from the specified index."
   ]
  },
  {
   "cell_type": "markdown",
   "id": "951afca6",
   "metadata": {},
   "source": [
    "The Multi Get API is a powerful tool that can significantly reduce the number of API calls you need to make when working with multiple documents across multiple indices."
   ]
  },
  {
   "cell_type": "markdown",
   "id": "7a5bbf95",
   "metadata": {},
   "source": [
    "Multiget Document"
   ]
  },
  {
   "cell_type": "code",
   "execution_count": null,
   "id": "dbc26aee",
   "metadata": {},
   "outputs": [],
   "source": [
    "# Multiget products\n",
    "# POST http://localhost:9200/products/_mget\n",
    "response = es.mget(index='products', body={\n",
    "    'ids': ['1', '2']\n",
    "})\n",
    "print(json.dumps(response.body, indent=4))"
   ]
  },
  {
   "cell_type": "markdown",
   "id": "842d44e3",
   "metadata": {},
   "source": [
    "# Search API"
   ]
  },
  {
   "cell_type": "markdown",
   "id": "610fe20e",
   "metadata": {},
   "source": [
    "While the Get API is used for retrieving a single document using its _id, the Search API in Elasticsearch is used when you want to search for documents without knowing their _id. The Search API is quite complex, offering a wide range of querying and filtering options that allow you to perform full-text search, term-based search, and much more."
   ]
  },
  {
   "cell_type": "markdown",
   "id": "231e4e25",
   "metadata": {},
   "source": [
    "To use the Search API, you can use the following RESTful API endpoints:"
   ]
  },
  {
   "cell_type": "code",
   "execution_count": null,
   "id": "bf7382b7",
   "metadata": {},
   "outputs": [],
   "source": [
    "POST /_search\n",
    "POST /<index_name>/_search"
   ]
  },
  {
   "cell_type": "markdown",
   "id": "494e8f6e",
   "metadata": {},
   "source": [
    "In these endpoints, <index_name> is the name of the index that you want to search in. If you don’t specify an index name, Elasticsearch will search all indices."
   ]
  },
  {
   "cell_type": "markdown",
   "id": "10e15f77",
   "metadata": {},
   "source": [
    "The _search endpoint accepts a request body that defines the search query. This search query is written in Elasticsearch’s Query DSL (domain-specific language), which is a flexible and powerful language for defining queries."
   ]
  },
  {
   "cell_type": "markdown",
   "id": "7e81fb35",
   "metadata": {},
   "source": [
    "Here’s a simple example of a search query:"
   ]
  },
  {
   "cell_type": "code",
   "execution_count": null,
   "id": "cce933e2",
   "metadata": {},
   "outputs": [],
   "source": [
    "{\n",
    "  \"query\": {\n",
    "    \"match\": {\n",
    "      \"field_name\": \"search term\"\n",
    "    }\n",
    "  }\n",
    "}"
   ]
  },
  {
   "cell_type": "markdown",
   "id": "b05720cb",
   "metadata": {},
   "source": [
    "In this query, Elasticsearch will return documents where field_name matches the “search term”."
   ]
  },
  {
   "cell_type": "markdown",
   "id": "0cd925ff",
   "metadata": {},
   "source": [
    "It’s important to note that this is just the tip of the iceberg when it comes to the Search API. It supports a wide range of querying and filtering options, allowing you to perform complex searches on your data. More advanced features of the Search API will be covered in later discussions."
   ]
  },
  {
   "cell_type": "markdown",
   "id": "f840e7a7",
   "metadata": {},
   "source": [
    "Search Document"
   ]
  },
  {
   "cell_type": "code",
   "execution_count": null,
   "id": "cc285c4f",
   "metadata": {},
   "outputs": [],
   "source": [
    "# Search products\n",
    "# POST http://localhost:9200/products/_search\n",
    "response = es.search(index='products', body={\n",
    "    \"query\": {\n",
    "    \"match\": {\n",
    "      \"price\": 10000\n",
    "    }\n",
    "  }\n",
    "})\n",
    "print(json.dumps(response.body, indent=4))"
   ]
  },
  {
   "cell_type": "markdown",
   "id": "f5669f93",
   "metadata": {},
   "source": [
    "# Pagination"
   ]
  },
  {
   "cell_type": "markdown",
   "id": "c6c3e0b5",
   "metadata": {},
   "source": [
    "When you are working with large amounts of data, it can be useful to break up the results of a search query into manageable chunks, or “pages”. Elasticsearch’s Search API supports pagination through the use of query parameters."
   ]
  },
  {
   "cell_type": "markdown",
   "id": "7a22b844",
   "metadata": {},
   "source": [
    "There are two important parameters for pagination:"
   ]
  },
  {
   "cell_type": "markdown",
   "id": "6dfa8188",
   "metadata": {},
   "source": [
    "Here’s an example of how to use these parameters in a search query:"
   ]
  },
  {
   "cell_type": "code",
   "execution_count": null,
   "id": "6913d355",
   "metadata": {},
   "outputs": [],
   "source": [
    "{\n",
    "  \"from\" : 0, \"size\" : 20,\n",
    "  \"query\": {\n",
    "    \"match\": {\n",
    "      \"field_name\": \"search term\"\n",
    "    }\n",
    "  }\n",
    "}"
   ]
  },
  {
   "cell_type": "markdown",
   "id": "f45def41",
   "metadata": {},
   "source": [
    "In this example, Elasticsearch will return the first 20 documents that match the search term. If you want to get the next 20 documents, you can change from to 20:"
   ]
  },
  {
   "cell_type": "code",
   "execution_count": null,
   "id": "3ff53434",
   "metadata": {},
   "outputs": [],
   "source": [
    "{\n",
    "  \"from\" : 20, \"size\" : 20,\n",
    "  \"query\": {\n",
    "    \"match\": {\n",
    "      \"field_name\": \"search term\"\n",
    "    }\n",
    "  }\n",
    "}"
   ]
  },
  {
   "cell_type": "markdown",
   "id": "716046f5",
   "metadata": {},
   "source": [
    "This way, you can navigate through the search results page by page. It’s important to note that the maximum value of from + size is 10000 by default. If you need to handle more data, you need to use the scroll API or increase this limit."
   ]
  },
  {
   "cell_type": "markdown",
   "id": "77cc4a0a",
   "metadata": {},
   "source": [
    "Search Document dengan Pagination"
   ]
  },
  {
   "cell_type": "code",
   "execution_count": null,
   "id": "9199bb17",
   "metadata": {},
   "outputs": [],
   "source": [
    "# Search products page 1\n",
    "# POST http://localhost:9200/products/_search?size=1&from=0\n",
    "response = es.search(index='products', body={\n",
    "    'size': 1,\n",
    "    'from': 0\n",
    "})\n",
    "print(json.dumps(response.body, indent=4))"
   ]
  },
  {
   "cell_type": "code",
   "execution_count": null,
   "id": "1daedd28",
   "metadata": {},
   "outputs": [],
   "source": [
    "# Search products page 2\n",
    "# POST http://localhost:9200/products/_search?size=1&from=1\n",
    "response = es.search(index='products', body={\n",
    "    'size': 1,\n",
    "    'from': 1\n",
    "})\n",
    "print(json.dumps(response.body, indent=4))"
   ]
  },
  {
   "cell_type": "markdown",
   "id": "91660a39",
   "metadata": {},
   "source": [
    "# Sorting"
   ]
  },
  {
   "cell_type": "markdown",
   "id": "47ae1922",
   "metadata": {},
   "source": [
    "The Search API in Elasticsearch also supports sorting of the search results. This is done using the sort query parameter."
   ]
  },
  {
   "cell_type": "markdown",
   "id": "4f69c904",
   "metadata": {},
   "source": [
    "The sort parameter’s value is defined as:"
   ]
  },
  {
   "cell_type": "code",
   "execution_count": null,
   "id": "dadde7b2",
   "metadata": {},
   "outputs": [],
   "source": [
    "<field>:<direction>"
   ]
  },
  {
   "cell_type": "markdown",
   "id": "94fa2160",
   "metadata": {},
   "source": [
    "In this, <field> is the name of the field you want to sort by and <direction> can be either asc (for ascending order) or desc (for descending order)."
   ]
  },
  {
   "cell_type": "markdown",
   "id": "e6e03ec2",
   "metadata": {},
   "source": [
    "For example, if you have a timestamp field in your documents and you want to sort the results in descending order of timestamp, you can do this:"
   ]
  },
  {
   "cell_type": "code",
   "execution_count": null,
   "id": "087d403b",
   "metadata": {},
   "outputs": [],
   "source": [
    "{\n",
    "  \"query\": {\n",
    "    \"match\": {\n",
    "      \"field_name\": \"search term\"\n",
    "    }\n",
    "  },\n",
    "  \"sort\" : [\n",
    "    { \"timestamp\" : {\"order\" : \"desc\"}}\n",
    "  ]\n",
    "}"
   ]
  },
  {
   "cell_type": "markdown",
   "id": "1198e624",
   "metadata": {},
   "source": [
    "If you need to sort by more than one field, you can specify multiple fields separated by commas. The sorting will be applied in the order you specify. For example:"
   ]
  },
  {
   "cell_type": "code",
   "execution_count": null,
   "id": "b27d4c45",
   "metadata": {},
   "outputs": [],
   "source": [
    "{\n",
    "  \"query\": {\n",
    "    \"match\": {\n",
    "      \"field_name\": \"search term\"\n",
    "    }\n",
    "  },\n",
    "  \"sort\" : [\n",
    "    { \"field1\" : {\"order\" : \"asc\"}},\n",
    "    { \"field2\" : {\"order\" : \"desc\"}},\n",
    "    { \"field3\" : {\"order\" : \"asc\"}}\n",
    "  ]\n",
    "}"
   ]
  },
  {
   "cell_type": "markdown",
   "id": "be0d4ed8",
   "metadata": {},
   "source": [
    "In this example, Elasticsearch first sorts the documents in ascending order by field1. For documents where field1 is the same, it then sorts in descending order by field2, and so on. This way, you can fine-tune the order of your search results to meet your needs."
   ]
  },
  {
   "cell_type": "markdown",
   "id": "4dd9ca23",
   "metadata": {},
   "source": [
    "Search Document dengan Sorting"
   ]
  },
  {
   "cell_type": "code",
   "execution_count": null,
   "id": "fd3b440e",
   "metadata": {},
   "outputs": [],
   "source": [
    "# Search products sort by price\n",
    "# POST http://localhost:9200/products/_search?sort=price:asc\n",
    "response = es.search(index='products', body={\n",
    "    'sort': {\n",
    "        'price': 'asc'\n",
    "    }\n",
    "})\n",
    "print(json.dumps(response.body, indent=4))"
   ]
  },
  {
   "cell_type": "code",
   "execution_count": null,
   "id": "29f7377f",
   "metadata": {},
   "outputs": [],
   "source": [
    "# Search products sort by name\n",
    "# POST http://localhost:9200/products/_search?sort=name:asc\n",
    "response = es.search(index='products', body={\n",
    "    'sort': [\n",
    "        { 'name.keyword': 'asc' }\n",
    "    ]\n",
    "})\n",
    "print(json.dumps(response.body, indent=4))"
   ]
  },
  {
   "cell_type": "markdown",
   "id": "acc6370d",
   "metadata": {},
   "source": [
    "# Index API"
   ]
  },
  {
   "cell_type": "markdown",
   "id": "bda1d5a1",
   "metadata": {},
   "source": [
    "In the past, the Index API was commonly used to create documents in Elasticsearch, but in newer versions, the Create API is often used instead. However, the Index API still has its uses."
   ]
  },
  {
   "cell_type": "markdown",
   "id": "5bd9da68",
   "metadata": {},
   "source": [
    "The Index API has a “create or replace” nature. This means that if a document with the specified ID does not exist, it will be created. If a document with the specified ID already exists, the existing document will be replaced (deleted and created anew) with the new document."
   ]
  },
  {
   "cell_type": "markdown",
   "id": "46d90318",
   "metadata": {},
   "source": [
    "This is a key difference between the Index API and the Create API. With the Create API, if a document with the specified ID already exists, an error conflict will occur. With the Index API, no such error will occur, and the existing document will simply be replaced."
   ]
  },
  {
   "cell_type": "markdown",
   "id": "b37beb80",
   "metadata": {},
   "source": [
    "To use the Index API, you can use the following RESTful API command:"
   ]
  },
  {
   "cell_type": "code",
   "execution_count": null,
   "id": "f0b960c6",
   "metadata": {},
   "outputs": [],
   "source": [
    "POST /<index_name>/_doc/<id>\n",
    "PUT /<index_name>/_doc/<id>"
   ]
  },
  {
   "cell_type": "markdown",
   "id": "6b6a5b4f",
   "metadata": {},
   "source": [
    "Here, <index_name> is the name of the index where you want to create or replace the document, and <id> is the ID of the document."
   ]
  },
  {
   "cell_type": "markdown",
   "id": "8e894753",
   "metadata": {},
   "source": [
    "In the body of the request, you would include the full content of the new document you want to create or replace. For example:"
   ]
  },
  {
   "cell_type": "code",
   "execution_count": null,
   "id": "9193ebd4",
   "metadata": {},
   "outputs": [],
   "source": [
    "PUT /my_index/_doc/1\n",
    "{\n",
    "  \"field1\": \"value1\",\n",
    "  \"field2\": \"value2\"\n",
    "}"
   ]
  },
  {
   "cell_type": "markdown",
   "id": "fba90917",
   "metadata": {},
   "source": [
    "In this example, a document with ID 1 and the specified fields and values will be created in my_index. If a document with ID 1 already exists, it will be replaced with the new document."
   ]
  },
  {
   "cell_type": "markdown",
   "id": "50f3ac53",
   "metadata": {},
   "source": [
    "Index Document"
   ]
  },
  {
   "cell_type": "code",
   "execution_count": null,
   "id": "93c3aa98",
   "metadata": {},
   "outputs": [],
   "source": [
    "# Save product 3\n",
    "# POST http://localhost:9200/products/_doc/3\n",
    "response = es.index(index='products', id='3', body={\n",
    "    'name': 'Product 3',\n",
    "    'price': 30000,\n",
    "})\n",
    "print(json.dumps(response.body, indent=4))\n",
    "\n",
    "# Save product 4\n",
    "# POST http://localhost:9200/products/_doc/4\n",
    "response = es.index(index='products', id='4', body={\n",
    "    'name': 'Product 4',\n",
    "    'price': 40000,\n",
    "})\n",
    "print(json.dumps(response.body, indent=4))\n",
    "\n",
    "# Save product 5\n",
    "# POST http://localhost:9200/products/_doc/5\n",
    "response = es.index(index='products', id='5', body={\n",
    "    'name': 'Product 5',\n",
    "    'price': 50000,\n",
    "})\n",
    "print(json.dumps(response.body, indent=4))"
   ]
  },
  {
   "cell_type": "markdown",
   "id": "c239bbbb",
   "metadata": {},
   "source": [
    "# Choose Create API or Index API?"
   ]
  },
  {
   "cell_type": "markdown",
   "id": "074f4ea3",
   "metadata": {},
   "source": [
    "Your choice between Create API and Index API depends on your needs:"
   ]
  },
  {
   "cell_type": "markdown",
   "id": "93f01fe9",
   "metadata": {},
   "source": [
    "Index API: This is the most common choice among programmers because it’s safe from conflicts if a document with the same ID already exists in Elasticsearch. The Index API will replace the existing document, rather than producing an error."
   ]
  },
  {
   "cell_type": "markdown",
   "id": "1aa757f0",
   "metadata": {},
   "source": [
    "Create API: Use this if you don’t want to replace an existing document. If a document with the same ID already exists, the Create API will produce an error. To prevent this, it’s recommended to use the Get API first to check if the document already exists."
   ]
  },
  {
   "cell_type": "markdown",
   "id": "28a52bd8",
   "metadata": {},
   "source": [
    "# Update API"
   ]
  },
  {
   "cell_type": "markdown",
   "id": "6634de65",
   "metadata": {},
   "source": [
    "The Index API behaves much like a strict librarian. Upon an update, it replaces the old document entirely, demanding all attributes anew. If you only submit the updated attribute, it overwrites the rest, potentially causing data loss."
   ]
  },
  {
   "cell_type": "markdown",
   "id": "82ebb630",
   "metadata": {},
   "source": [
    "Need to tweak a few attributes without a full rewrite? Use the Update API, your friendly editor:"
   ]
  },
  {
   "cell_type": "code",
   "execution_count": null,
   "id": "96e75046",
   "metadata": {},
   "outputs": [],
   "source": [
    "POST /<index_name>/_update/<id>"
   ]
  },
  {
   "cell_type": "markdown",
   "id": "6d1643ca",
   "metadata": {},
   "source": [
    "But beware, if the document doesn’t exist, Elasticsearch returns a 404 Not Found error. Always check your document’s existence before updating."
   ]
  },
  {
   "cell_type": "markdown",
   "id": "7a28835a",
   "metadata": {},
   "source": [
    "Update Document"
   ]
  },
  {
   "cell_type": "code",
   "execution_count": null,
   "id": "5d5477af",
   "metadata": {},
   "outputs": [],
   "source": [
    "# Update product 5\n",
    "# POST http://localhost:9200/products/_update/5\n",
    "response = es.update(index='products', id='5', body={\n",
    "    'doc': {\n",
    "        'price': 50000000\n",
    "    }\n",
    "})\n",
    "print(json.dumps(response.body, indent=4))\n",
    "\n",
    "# Get product 5\n",
    "response = es.get(index='products', id='5')\n",
    "print(json.dumps(response.body, indent=4))"
   ]
  },
  {
   "cell_type": "markdown",
   "id": "7544a158",
   "metadata": {},
   "source": [
    "# Delete API"
   ]
  },
  {
   "cell_type": "markdown",
   "id": "5cd8c0e8",
   "metadata": {},
   "source": [
    "To remove a document, the Delete API is your digital shredder. Utilize it through this RESTful API command:"
   ]
  },
  {
   "cell_type": "code",
   "execution_count": null,
   "id": "80b98849",
   "metadata": {},
   "outputs": [],
   "source": [
    "DELETE /<index_name>/_doc/<id>"
   ]
  },
  {
   "cell_type": "markdown",
   "id": "c92401ac",
   "metadata": {},
   "source": [
    "But remember, if you attempt to delete a document that doesn’t exist, Elasticsearch will return a 404 Not Found error. Always make sure the document is in your collection before trying to remove it."
   ]
  },
  {
   "cell_type": "markdown",
   "id": "c169ce33",
   "metadata": {},
   "source": [
    "Insert Spammer"
   ]
  },
  {
   "cell_type": "code",
   "execution_count": null,
   "id": "a06e2256",
   "metadata": {},
   "outputs": [],
   "source": [
    "# Insert customer spammer\n",
    "# POST http://localhost:9200/customers/_create/spammer\n",
    "response = es.index(index='customers', id='spammer', body={\n",
    "    'name': 'Spammer',\n",
    "    'register_at': '2023-12-06 00:00:00',\n",
    "})\n",
    "print(json.dumps(response.body, indent=4))\n",
    "\n",
    "# Get customer spammer\n",
    "response = es.get_source(index='customers', id='spammer')\n",
    "print(json.dumps(response.body, indent=4))"
   ]
  },
  {
   "cell_type": "markdown",
   "id": "a97d8914",
   "metadata": {},
   "source": [
    "Delete Spammer"
   ]
  },
  {
   "cell_type": "code",
   "execution_count": null,
   "id": "334b2373",
   "metadata": {},
   "outputs": [],
   "source": [
    "# Delete customer spammer\n",
    "# DELETE http://localhost:9200/customers/_doc/spammer\n",
    "response = es.delete(index='customers', id='spammer', ignore=[404])\n",
    "print(json.dumps(response.body, indent=4))\n",
    "\n",
    "# Get customer spammer\n",
    "response = es.get_source(index='customers', id='spammer', ignore=[404])\n",
    "print(json.dumps(response.body, indent=4))"
   ]
  },
  {
   "cell_type": "markdown",
   "id": "4441e75e",
   "metadata": {},
   "source": [
    "# Bulk API"
   ]
  },
  {
   "cell_type": "markdown",
   "id": "3cd3e9a0",
   "metadata": {},
   "source": [
    "When dealing with many operations in Elasticsearch, the Bulk API shines by speeding up the process instead of manually handling each operation. The Bulk API bundles various operations together, including create, index, update, or delete. To use the Bulk API, apply the following RESTful API commands:"
   ]
  },
  {
   "cell_type": "code",
   "execution_count": null,
   "id": "8cad3f14",
   "metadata": {},
   "outputs": [],
   "source": [
    "POST /_bulk\n",
    "POST /<index_name>/_bulk"
   ]
  },
  {
   "cell_type": "markdown",
   "id": "c3b36df7",
   "metadata": {},
   "source": [
    "This allows more efficient handling of large volumes of operations."
   ]
  },
  {
   "cell_type": "markdown",
   "id": "7c7c41c4",
   "metadata": {},
   "source": [
    "Format Request Body untuk Bulk API"
   ]
  },
  {
   "cell_type": "code",
   "execution_count": null,
   "id": "5a89bcee",
   "metadata": {},
   "outputs": [],
   "source": [
    "action_and_meta_data\\n\n",
    "optional_source\\n\n",
    "action_and_meta_data\\n\n",
    "optional_source\\n\n",
    "....\n",
    "action_and_meta_data\\n\n",
    "optional_source\\n"
   ]
  },
  {
   "cell_type": "markdown",
   "id": "5f5c331f",
   "metadata": {},
   "source": [
    "Bulk Document"
   ]
  },
  {
   "cell_type": "code",
   "execution_count": null,
   "id": "a57c41db",
   "metadata": {},
   "outputs": [],
   "source": [
    "# Bulk documents\n",
    "# POST http://localhost:9200/_bulk\n",
    "response = es.bulk(body=[\n",
    "    {'create': {'_index': 'customers', '_id': 'dina'}},\n",
    "    {'name': 'Dina', 'register_at': '2023-11-30 00:00:00'},\n",
    "    {'index': {'_index': 'customers', '_id': 'yuni'}},\n",
    "    {'name': 'Yuni', 'register_at': '2023-11-30 00:00:00'},\n",
    "    {'update': {'_index': 'products', '_id': '1'}},\n",
    "    {'doc': {'price': 250000}},\n",
    "    {'create': {'_index': 'customers', '_id': 'spammer'}},\n",
    "    {'name': 'Spammer', 'register_at': '2023-12-06 00:00:00'},\n",
    "    {'delete': {'_index': 'customers', '_id': 'spammer'}},\n",
    "])\n",
    "print(json.dumps(response.body, indent=4))"
   ]
  },
  {
   "cell_type": "code",
   "execution_count": null,
   "id": "679fbc12",
   "metadata": {},
   "outputs": [],
   "source": [
    "# Get document dina\n",
    "# GET http://localhost:9200/customers/_doc/dina\n",
    "response = es.get(index='customers', id='dina')\n",
    "print(json.dumps(response.body, indent=4))\n",
    "\n",
    "# Get document yuni\n",
    "# GET http://localhost:9200/customers/_doc/yuni\n",
    "response = es.get(index='customers', id='yuni')\n",
    "print(json.dumps(response.body, indent=4))\n",
    "\n",
    "# Get document spammer\n",
    "# GET http://localhost:9200/customers/_doc/spammer\n",
    "response = es.get(index='customers', id='spammer', ignore=[404])\n",
    "print(json.dumps(response.body, indent=4))\n",
    "\n",
    "# Get document product 1\n",
    "# GET http://localhost:9200/products/_doc/1\n",
    "response = es.get(index='products', id='1')\n",
    "print(json.dumps(response.body, indent=4))"
   ]
  }
 ],
 "metadata": {},
 "nbformat": 4,
 "nbformat_minor": 5
}
