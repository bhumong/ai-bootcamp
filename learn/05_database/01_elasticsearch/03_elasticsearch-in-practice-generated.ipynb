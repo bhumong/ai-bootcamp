{
 "cells": [
  {
   "cell_type": "markdown",
   "id": "b7b67ea2",
   "metadata": {},
   "source": [
    "source: [link](https://ai-bootcamp.ruangguru.com/learn/05_database/01_elasticsearch/03_elasticsearch-in-practice.html)"
   ]
  },
  {
   "cell_type": "markdown",
   "id": "787abd71",
   "metadata": {},
   "source": [
    "# Elasticsearch In Practice"
   ]
  },
  {
   "cell_type": "markdown",
   "id": "d8535565",
   "metadata": {},
   "source": []
  },
  {
   "cell_type": "markdown",
   "id": "77fb58b4",
   "metadata": {},
   "source": [
    "![Image](https://storage.googleapis.com/rg-ai-bootcamp/database/elasticsearch-min.png)"
   ]
  },
  {
   "cell_type": "markdown",
   "id": "7863521f",
   "metadata": {},
   "source": [
    "Elasticsearch (Source: technocratsid.com)"
   ]
  },
  {
   "cell_type": "markdown",
   "id": "cca07d7f",
   "metadata": {},
   "source": [
    "# Index"
   ]
  },
  {
   "cell_type": "markdown",
   "id": "1e3b99b8",
   "metadata": {},
   "source": [
    "As mentioned earlier, Elasticsearch doesn’t have a concept like a database; thus, we can create an index (or table) directly. But how do we use Elasticsearch for more than one application? A common practice is to prefix the index name with the application’s name, for example: applicationname_indexname. This way, index names do not conflict between applications."
   ]
  },
  {
   "cell_type": "markdown",
   "id": "5c538faa",
   "metadata": {},
   "source": [
    "# Creating an Index"
   ]
  },
  {
   "cell_type": "markdown",
   "id": "df0a2698",
   "metadata": {},
   "source": [
    "To create an Index, we can make an HTTP call like so:"
   ]
  },
  {
   "cell_type": "code",
   "execution_count": null,
   "id": "9840acee",
   "metadata": {},
   "outputs": [],
   "source": [
    "PUT /{index_name}"
   ]
  },
  {
   "cell_type": "markdown",
   "id": "b34bc776",
   "metadata": {},
   "source": [
    "The rules for index names are as follows:"
   ]
  },
  {
   "cell_type": "markdown",
   "id": "d6d39dbc",
   "metadata": {},
   "source": [
    "- They must be lowercase.\n",
    "- No special characters are allowed, except for -, +, and _, but these cannot be at the start.\n",
    "- They cannot be longer than 255 bytes."
   ]
  },
  {
   "cell_type": "markdown",
   "id": "74717571",
   "metadata": {},
   "source": [
    "By creating unique index names, you ensure that data from different applications is stored separately and can be queried independently."
   ]
  },
  {
   "cell_type": "markdown",
   "id": "b6fe332c",
   "metadata": {},
   "source": [
    "Before we start practicing, install the elasticsearch package"
   ]
  },
  {
   "cell_type": "code",
   "execution_count": null,
   "id": "4b7613a2",
   "metadata": {},
   "outputs": [],
   "source": [
    "%pip install elasticsearch"
   ]
  },
  {
   "cell_type": "markdown",
   "id": "bb45f864",
   "metadata": {},
   "source": [
    "import the packages we need"
   ]
  },
  {
   "cell_type": "code",
   "execution_count": null,
   "id": "f534a778",
   "metadata": {},
   "outputs": [],
   "source": [
    "from elasticsearch import Elasticsearch\n",
    "import time\n",
    "import json"
   ]
  },
  {
   "cell_type": "markdown",
   "id": "1b1772d4",
   "metadata": {},
   "source": [
    "Create a connection to elasticsearch, make sure elasticsearch is running on your computer’s localhost or is running on Google Collab."
   ]
  },
  {
   "cell_type": "code",
   "execution_count": null,
   "id": "ba64d939",
   "metadata": {},
   "outputs": [],
   "source": [
    "es = Elasticsearch([{'host': 'localhost', 'port': 9200, 'scheme': 'http'}])"
   ]
  },
  {
   "cell_type": "markdown",
   "id": "d3b41f85",
   "metadata": {},
   "source": [
    "Creating an Index"
   ]
  },
  {
   "cell_type": "code",
   "execution_count": null,
   "id": "6263880f",
   "metadata": {},
   "outputs": [],
   "source": [
    "# Create index customers\n",
    "# PUT http://localhost:9200/customers\n",
    "response = es.options(ignore_status=[400]).indices.create(index='customers')\n",
    "print(json.dumps(response.body, indent=4))"
   ]
  },
  {
   "cell_type": "code",
   "execution_count": null,
   "id": "a2ff1b7b",
   "metadata": {},
   "outputs": [],
   "source": [
    "# Create index products\n",
    "# PUT http://localhost:9200/products\n",
    "response = es.options(ignore_status=[400]).indices.create(index='products')\n",
    "print(json.dumps(response.body, indent=4))"
   ]
  },
  {
   "cell_type": "code",
   "execution_count": null,
   "id": "4c0bae60",
   "metadata": {},
   "outputs": [],
   "source": [
    "# Create index orders\n",
    "# PUT http://localhost:9200/orders\n",
    "response = es.options(ignore_status=[400]).indices.create(index='orders')\n",
    "print(json.dumps(response.body, indent=4))"
   ]
  },
  {
   "cell_type": "code",
   "execution_count": null,
   "id": "a96a7401",
   "metadata": {},
   "outputs": [],
   "source": [
    "# Get All Indexes\n",
    "# GET http://localhost:9200/_cat/indices?v\n",
    "response = es.cat.indices(v=True)\n",
    "print(response)"
   ]
  },
  {
   "cell_type": "markdown",
   "id": "18baba3a",
   "metadata": {},
   "source": [
    "# Deleting an Index"
   ]
  },
  {
   "cell_type": "markdown",
   "id": "de7cd0a3",
   "metadata": {},
   "source": [
    "To delete an index that you’ve created, you can simply use the DELETE HTTP method. Deleting an index will automatically remove all data associated with that index. Here’s how you can do it:"
   ]
  },
  {
   "cell_type": "code",
   "execution_count": null,
   "id": "50978495",
   "metadata": {},
   "outputs": [],
   "source": [
    "DELETE /{index_name}"
   ]
  },
  {
   "cell_type": "markdown",
   "id": "58c7647b",
   "metadata": {},
   "source": [
    "Just replace {index_name} with the name of the index you wish to delete. But be careful, this operation is irreversible. Once an index is deleted, all the data within it is permanently lost unless you have a backup or recovery mechanism in place."
   ]
  },
  {
   "cell_type": "markdown",
   "id": "329aca41",
   "metadata": {},
   "source": [
    "Delete Index"
   ]
  },
  {
   "cell_type": "code",
   "execution_count": null,
   "id": "918f1056",
   "metadata": {},
   "outputs": [],
   "source": [
    "# Delete index customers\n",
    "# DELETE http://localhost:9200/customers\n",
    "response = es.options(ignore_status=[400, 404]).indices.delete(index='customers')\n",
    "print(json.dumps(response.body, indent=4))"
   ]
  },
  {
   "cell_type": "code",
   "execution_count": null,
   "id": "c7733156",
   "metadata": {},
   "outputs": [],
   "source": [
    "# Delete index products\n",
    "# DELETE http://localhost:9200/products\n",
    "response = es.options(ignore_status=[400, 404]).indices.delete(index='products')\n",
    "print(json.dumps(response.body, indent=4))"
   ]
  },
  {
   "cell_type": "code",
   "execution_count": null,
   "id": "7118d723",
   "metadata": {},
   "outputs": [],
   "source": [
    "# Delete index orders\n",
    "# DELETE http://localhost:9200/orders\n",
    "response = es.options(ignore_status=[400, 404]).indices.delete(index='orders')\n",
    "print(json.dumps(response.body, indent=4))"
   ]
  },
  {
   "cell_type": "code",
   "execution_count": null,
   "id": "cc8ea4b7",
   "metadata": {},
   "outputs": [],
   "source": [
    "# Get All Indexes\n",
    "# GET http://localhost:9200/_cat/indices?v\n",
    "response = es.cat.indices(v=True)\n",
    "print(response)"
   ]
  },
  {
   "cell_type": "markdown",
   "id": "2701579d",
   "metadata": {},
   "source": [
    "# Dynamic Mapping in Elasticsearch"
   ]
  },
  {
   "cell_type": "markdown",
   "id": "5b30a48c",
   "metadata": {},
   "source": [
    "In Elasticsearch, defining the schema of an index is known as mapping. By default, a feature called Dynamic Mapping is enabled, where Elasticsearch auto-detects the data type of each JSON attribute and creates a mapping accordingly."
   ]
  },
  {
   "cell_type": "markdown",
   "id": "0563fe5c",
   "metadata": {},
   "source": [
    "While convenient, it’s generally recommended to manually create mappings for better control over data indexing and querying. This ensures proper interpretation and storage of your data."
   ]
  },
  {
   "cell_type": "markdown",
   "id": "02d957b7",
   "metadata": {},
   "source": [
    "# Dynamic Field Mapping"
   ]
  },
  {
   "cell_type": "markdown",
   "id": "5ce983d0",
   "metadata": {},
   "source": [
    "This feature auto-detects the data type of a field in a JSON document and assigns a corresponding Elasticsearch data type:"
   ]
  },
  {
   "cell_type": "markdown",
   "id": "d22d5c8a",
   "metadata": {},
   "source": [
    "| JSON Data Type | Elasticsearch Data Type |\n",
    "| --- | --- |\n",
    "| null | No field added |\n",
    "| true / false | boolean |\n",
    "| double | float |\n",
    "| long | long |\n",
    "| array | Depends on the first data item type |\n",
    "| string | date, float, long, text (auto-detected) |"
   ]
  },
  {
   "cell_type": "markdown",
   "id": "b620499b",
   "metadata": {},
   "source": [
    "# Date Detection"
   ]
  },
  {
   "cell_type": "markdown",
   "id": "b23a0ca3",
   "metadata": {},
   "source": [
    "By default, Elasticsearch detects if a string data is in a date format and assigns it a date data type using the format yyyy/MM/dd HH:mm:ss. This feature is active by default but can be deactivated by setting the date_detection attribute in the mapping to false. The date format can be changed by adjusting the dynamic_date_formats attribute in the mapping."
   ]
  },
  {
   "cell_type": "markdown",
   "id": "1b5228ee",
   "metadata": {},
   "source": [
    "Update Dynamic Mapping for Date"
   ]
  },
  {
   "cell_type": "code",
   "execution_count": null,
   "id": "d09c08e4",
   "metadata": {},
   "outputs": [],
   "source": [
    "# Update customers mapping\n",
    "# PUT http://localhost:9200/customers/_mapping\n",
    "response = es.indices.put_mapping(index='customers', body={\n",
    "    'properties': {\n",
    "        'date': {\n",
    "            'type': 'date',\n",
    "            'format': 'yyyy-MM-dd HH:mm:ss||yyyy-MM-dd||yyyy/MM/dd HH:mm:ss||yyyy/MM/dd'\n",
    "        },\n",
    "        'register_at': {\n",
    "            'type': 'date',\n",
    "            'format': 'yyyy-MM-dd HH:mm:ss||yyyy-MM-dd||yyyy/MM/dd HH:mm:ss||yyyy/MM/dd'\n",
    "        }\n",
    "    }\n",
    "})\n",
    "print(json.dumps(response.body, indent=4))\n",
    "\n",
    "# Get Mapping\n",
    "# GET http://localhost:9200/customers/_mapping\n",
    "response = es.indices.get_mapping(index='customers')\n",
    "print(json.dumps(response.body, indent=4))"
   ]
  },
  {
   "cell_type": "code",
   "execution_count": null,
   "id": "b5b38f00",
   "metadata": {},
   "outputs": [],
   "source": [
    "# Update products mapping\n",
    "# PUT http://localhost:9200/products/_mapping\n",
    "response = es.indices.put_mapping(index='products', body={\n",
    "    'properties': {\n",
    "        'date': {\n",
    "            'type': 'date',\n",
    "            'format': 'yyyy-MM-dd HH:mm:ss||yyyy-MM-dd||yyyy/MM/dd HH:mm:ss||yyyy/MM/dd'\n",
    "        }\n",
    "    }\n",
    "})\n",
    "print(json.dumps(response.body, indent=4))\n",
    "\n",
    "# Get Mapping\n",
    "# GET http://localhost:9200/products/_mapping\n",
    "response = es.indices.get_mapping(index='products')\n",
    "print(json.dumps(response.body, indent=4))"
   ]
  },
  {
   "cell_type": "code",
   "execution_count": null,
   "id": "4a226c80",
   "metadata": {},
   "outputs": [],
   "source": [
    "# Update orders mapping\n",
    "# PUT http://localhost:9200/orders/_mapping\n",
    "response = es.indices.put_mapping(index='orders', body={\n",
    "    'properties': {\n",
    "        'date': {\n",
    "            'type': 'date',\n",
    "            'format': 'yyyy-MM-dd HH:mm:ss||yyyy-MM-dd||yyyy/MM/dd HH:mm:ss||yyyy/MM/dd'\n",
    "        }\n",
    "    }\n",
    "})\n",
    "print(json.dumps(response.body, indent=4))\n",
    "\n",
    "# Get Mapping\n",
    "# GET http://localhost:9200/orders/_mapping\n",
    "response = es.indices.get_mapping(index='orders')\n",
    "print(json.dumps(response.body, indent=4))"
   ]
  },
  {
   "cell_type": "markdown",
   "id": "afb92449",
   "metadata": {},
   "source": [
    "# Number Detection"
   ]
  },
  {
   "cell_type": "markdown",
   "id": "4a8c2271",
   "metadata": {},
   "source": [
    "Although JSON has a number data type, sometimes users send numbers in a string format, such as “100” or “12.12”. In these cases, Elasticsearch may need to detect and convert these string-formatted numbers to actual number data types (long or float)."
   ]
  },
  {
   "cell_type": "markdown",
   "id": "01e78647",
   "metadata": {},
   "source": [
    "By default, automatic number detection is not active in Elasticsearch. If you want to activate it, you need to change the numeric_detection attribute in the mapping to true."
   ]
  },
  {
   "cell_type": "markdown",
   "id": "332f5bb7",
   "metadata": {},
   "source": [
    "If a mapping for a certain attribute is not yet available, Elasticsearch will automatically try to convert the data to a number type (either long or float). If the conversion is successful, Elasticsearch will use the corresponding number data type for the field."
   ]
  },
  {
   "cell_type": "code",
   "execution_count": null,
   "id": "3a491fe4",
   "metadata": {},
   "outputs": [],
   "source": [
    "# Update customers mapping\n",
    "# PUT http://localhost:9200/customers/_mapping\n",
    "response = es.indices.put_mapping(index='customers', body={\n",
    "    'numeric_detection': True\n",
    "})\n",
    "print(json.dumps(response.body, indent=4))\n",
    "\n",
    "# Get Mapping\n",
    "# GET http://localhost:9200/customers/_mapping\n",
    "response = es.indices.get_mapping(index='customers')\n",
    "print(json.dumps(response.body, indent=4))"
   ]
  },
  {
   "cell_type": "code",
   "execution_count": null,
   "id": "fe057c99",
   "metadata": {},
   "outputs": [],
   "source": [
    "# Update products mapping\n",
    "# PUT http://localhost:9200/products/_mapping\n",
    "response = es.indices.put_mapping(index='products', body={\n",
    "    'numeric_detection': True\n",
    "})\n",
    "print(json.dumps(response.body, indent=4))\n",
    "\n",
    "# Get Mapping\n",
    "# GET http://localhost:9200/products/_mapping\n",
    "response = es.indices.get_mapping(index='products')\n",
    "print(json.dumps(response.body, indent=4))"
   ]
  },
  {
   "cell_type": "code",
   "execution_count": null,
   "id": "f6f58d20",
   "metadata": {},
   "outputs": [],
   "source": [
    "# Update orders mapping\n",
    "# PUT http://localhost:9200/orders/_mapping\n",
    "response = es.indices.put_mapping(index='orders', body={\n",
    "    'numeric_detection': True\n",
    "})\n",
    "print(json.dumps(response.body, indent=4))\n",
    "\n",
    "# Get Mapping\n",
    "# GET http://localhost:9200/orders/_mapping\n",
    "response = es.indices.get_mapping(index='orders')\n",
    "print(json.dumps(response.body, indent=4))"
   ]
  },
  {
   "cell_type": "markdown",
   "id": "017794a0",
   "metadata": {},
   "source": [
    "# Create API"
   ]
  },
  {
   "cell_type": "markdown",
   "id": "941b6037",
   "metadata": {},
   "source": [
    "The Create API is used to add new data to Elasticsearch."
   ]
  },
  {
   "cell_type": "markdown",
   "id": "4bd98948",
   "metadata": {},
   "source": [
    "The Create API has a “save” operation, which means it will only create a new document if a document with the provided _id does not already exist. Attempting to create a document with an _id that already exists will result in a conflict error."
   ]
  },
  {
   "cell_type": "markdown",
   "id": "7d49cf67",
   "metadata": {},
   "source": [
    "To use the Create API, you use either the POST or PUT HTTP method with the following endpoint:"
   ]
  },
  {
   "cell_type": "code",
   "execution_count": null,
   "id": "5f67d000",
   "metadata": {},
   "outputs": [],
   "source": [
    "POST/PUT /<index_name>/_create/<id>"
   ]
  },
  {
   "cell_type": "markdown",
   "id": "4b403736",
   "metadata": {},
   "source": [
    "Here, <index_name> is the name of the index where you want to create the document, and <id> is the unique identifier you want to assign to the new document. If the document is successfully created, Elasticsearch will return a confirmation response."
   ]
  },
  {
   "cell_type": "markdown",
   "id": "bb867861",
   "metadata": {},
   "source": [
    "Create Customer"
   ]
  },
  {
   "cell_type": "code",
   "execution_count": null,
   "id": "84aacced",
   "metadata": {},
   "outputs": [],
   "source": [
    "# Insert customers aditira\n",
    "# POST http://localhost:9200/customers/_create/aditira\n",
    "response = es.index(index='customers', id='aditira', body={\n",
    "    'name': 'Aditira Jamhuri',\n",
    "    'register_at': '2023-11-30 00:00:00',\n",
    "})\n",
    "print(json.dumps(response.body, indent=4))\n",
    "\n",
    "# Get Mapping\n",
    "# GET http://localhost:9200/customers/_mapping\n",
    "response = es.indices.get_mapping(index='customers')\n",
    "print(json.dumps(response.body, indent=4))"
   ]
  },
  {
   "cell_type": "markdown",
   "id": "859aaa62",
   "metadata": {},
   "source": [
    "Create Product"
   ]
  },
  {
   "cell_type": "code",
   "execution_count": null,
   "id": "2c839b1b",
   "metadata": {},
   "outputs": [],
   "source": [
    "# Insert products 1\n",
    "# POST http://localhost:9200/products/_create/1\n",
    "response = es.index(index='products', id='1', body={\n",
    "    'name': 'Product 1',\n",
    "    'price': 10000,\n",
    "})\n",
    "print(json.dumps(response.body, indent=4))"
   ]
  },
  {
   "cell_type": "code",
   "execution_count": null,
   "id": "b1407298",
   "metadata": {},
   "outputs": [],
   "source": [
    "# Insert products 2\n",
    "# POST http://localhost:9200/products/_create/2\n",
    "response = es.index(index='products', id='2', body={\n",
    "    'name': 'Product 2',\n",
    "    'price': 20000,\n",
    "})\n",
    "print(json.dumps(response.body, indent=4))"
   ]
  },
  {
   "cell_type": "code",
   "execution_count": null,
   "id": "866263ab",
   "metadata": {},
   "outputs": [],
   "source": [
    "# Get Mapping\n",
    "# GET http://localhost:9200/products/_mapping\n",
    "response = es.indices.get_mapping(index='products')\n",
    "print(json.dumps(response.body, indent=4))"
   ]
  },
  {
   "cell_type": "markdown",
   "id": "83d4d4c2",
   "metadata": {},
   "source": [
    "Create Order"
   ]
  },
  {
   "cell_type": "code",
   "execution_count": null,
   "id": "41c4676b",
   "metadata": {},
   "outputs": [],
   "source": [
    "# Insert orders 1\n",
    "# POST http://localhost:9200/orders/_create/1\n",
    "response = es.index(index='orders', id='1', body={\n",
    "    \"order_date\": \"2023-12-01 00:00:00\",\n",
    "    \"customer_id\": \"aditira\",\n",
    "    \"total\": 40000,\n",
    "    \"items\": [\n",
    "        {\n",
    "            \"product_id\": \"1\",\n",
    "            \"price\": 10000,\n",
    "            \"quantity\": 2\n",
    "        },\n",
    "        {\n",
    "            \"product_id\": \"2\",\n",
    "            \"price\": 20000,\n",
    "            \"quantity\": 1\n",
    "        }\n",
    "    ]\n",
    "})\n",
    "print(json.dumps(response.body, indent=4))\n",
    "\n",
    "# Get Mapping\n",
    "# GET http://localhost:9200/orders/_mapping\n",
    "response = es.indices.get_mapping(index='orders')\n",
    "print(json.dumps(response.body, indent=4))"
   ]
  },
  {
   "cell_type": "markdown",
   "id": "711a18a2",
   "metadata": {},
   "source": [
    "# Get API"
   ]
  },
  {
   "cell_type": "markdown",
   "id": "fd3a0147",
   "metadata": {},
   "source": [
    "Once you’ve stored data in Elasticsearch using the Create API, you can retrieve this data using the Get API."
   ]
  },
  {
   "cell_type": "markdown",
   "id": "e662350e",
   "metadata": {},
   "source": [
    "The Get API returns the requested data along with its associated metadata, such as the _id, index name, document version, and so on."
   ]
  },
  {
   "cell_type": "markdown",
   "id": "f7999d35",
   "metadata": {},
   "source": [
    "If the data you’re trying to retrieve is not available (i.e., there is no document with the requested _id in the specified index), the HTTP response code will be 404 Not Found."
   ]
  },
  {
   "cell_type": "markdown",
   "id": "f4680120",
   "metadata": {},
   "source": [
    "To use the Get API, you make an HTTP GET request to the following endpoint:"
   ]
  },
  {
   "cell_type": "code",
   "execution_count": null,
   "id": "48c8181c",
   "metadata": {},
   "outputs": [],
   "source": [
    "GET /<index_name>/_doc/<id>"
   ]
  },
  {
   "cell_type": "markdown",
   "id": "87dfef19",
   "metadata": {},
   "source": [
    "In this endpoint, <index_name> is the name of the index from which you want to retrieve data, and <id> is the unique identifier of the document you want to retrieve. If the document is found, Elasticsearch will return the document and its metadata in the response."
   ]
  },
  {
   "cell_type": "markdown",
   "id": "a7e54c0e",
   "metadata": {},
   "source": [
    "Get Document"
   ]
  },
  {
   "cell_type": "code",
   "execution_count": null,
   "id": "a2856815",
   "metadata": {},
   "outputs": [],
   "source": [
    "# Get Customers aditira\n",
    "# GET http://localhost:9200/customers/_doc/aditira\n",
    "response = es.get(index='customers', id='aditira')\n",
    "print(json.dumps(response.body, indent=4))"
   ]
  },
  {
   "cell_type": "markdown",
   "id": "0b75b826",
   "metadata": {},
   "source": [
    "# Get Source API"
   ]
  },
  {
   "cell_type": "markdown",
   "id": "f51c82b9",
   "metadata": {},
   "source": [
    "If you’re interested in retrieving the document data but do not wish to receive the metadata associated with the document, you can use the Get Source API."
   ]
  },
  {
   "cell_type": "markdown",
   "id": "62e7b025",
   "metadata": {},
   "source": [
    "To use the Get Source API, you make an HTTP GET request to the following endpoint:"
   ]
  },
  {
   "cell_type": "code",
   "execution_count": null,
   "id": "3374f3d6",
   "metadata": {},
   "outputs": [],
   "source": [
    "GET /<index_name>/_source/<id>"
   ]
  },
  {
   "cell_type": "markdown",
   "id": "834e2fea",
   "metadata": {},
   "source": [
    "In this endpoint, <index_name> is the name of the index from which you want to retrieve data, and <id> is the unique identifier of the document you want to retrieve."
   ]
  },
  {
   "cell_type": "markdown",
   "id": "e7d7df5c",
   "metadata": {},
   "source": [
    "This call will return only the actual data that you inserted, without any of the metadata information, including the _id. This is because the _id is already included in the URL where you’re making the HTTP call. As such, if the document is found, Elasticsearch will return the document data in the response, without any metadata."
   ]
  },
  {
   "cell_type": "markdown",
   "id": "79671337",
   "metadata": {},
   "source": [
    "Get Source Document"
   ]
  },
  {
   "cell_type": "code",
   "execution_count": null,
   "id": "7e86e92d",
   "metadata": {},
   "outputs": [],
   "source": [
    "# Get Source Customers aditira\n",
    "# GET http://localhost:9200/customers/_doc/aditira/_source\n",
    "response = es.get_source(index='customers', id='aditira')\n",
    "print(json.dumps(response.body, indent=4))"
   ]
  },
  {
   "cell_type": "markdown",
   "id": "7fd15d83",
   "metadata": {},
   "source": [
    "# Check Exists"
   ]
  },
  {
   "cell_type": "markdown",
   "id": "85402bb6",
   "metadata": {},
   "source": [
    "There may be cases where you only want to check if a document exists in an index, without needing to retrieve the document’s data. In such cases, you can use the Get API, but with the HTTP method HEAD instead of GET."
   ]
  },
  {
   "cell_type": "markdown",
   "id": "46181543",
   "metadata": {},
   "source": [
    "To check if a document exists, you make an HTTP HEAD request to the following endpoint:"
   ]
  },
  {
   "cell_type": "code",
   "execution_count": null,
   "id": "ecb43087",
   "metadata": {},
   "outputs": [],
   "source": [
    "HEAD /<index_name>/_doc/<id>"
   ]
  },
  {
   "cell_type": "markdown",
   "id": "4b1314bc",
   "metadata": {},
   "source": [
    "In this endpoint, <index_name> is the name of the index where you’re checking for the document, and <id> is the unique identifier of the document you’re checking for."
   ]
  },
  {
   "cell_type": "markdown",
   "id": "46ed2845",
   "metadata": {},
   "source": [
    "Elasticsearch will return a 200 OK response without any body if the document exists. If the document does not exist, it will return a 404 Not Found response. This is a quick and efficient way to check for the existence of a document without retrieving or transferring any data."
   ]
  },
  {
   "cell_type": "markdown",
   "id": "9abe752d",
   "metadata": {},
   "source": [
    "If data exists"
   ]
  },
  {
   "cell_type": "code",
   "execution_count": null,
   "id": "0e33f653",
   "metadata": {},
   "outputs": [],
   "source": [
    "# Check Customers aditira\n",
    "# HEAD http://localhost:9200/customers/_doc/aditira\n",
    "response = es.exists(index='customers', id='aditira')\n",
    "print(json.dumps(response.body, indent=4))"
   ]
  },
  {
   "cell_type": "markdown",
   "id": "78adb392",
   "metadata": {},
   "source": [
    "If the data does not exist"
   ]
  },
  {
   "cell_type": "code",
   "execution_count": null,
   "id": "f3a5fdcf",
   "metadata": {},
   "outputs": [],
   "source": [
    "# Check Customers wrong\n",
    "# HEAD http://localhost:9200/customers/_doc/wrong\n",
    "response = es.exists(index='customers', id='wrong')\n",
    "print(json.dumps(response.body, indent=4))"
   ]
  },
  {
   "cell_type": "markdown",
   "id": "7a6d3dc5",
   "metadata": {},
   "source": [
    "# Multi Get API"
   ]
  },
  {
   "cell_type": "markdown",
   "id": "b84e2c19",
   "metadata": {},
   "source": [
    "Elasticsearch provides a Multi Get API that allows you to retrieve multiple documents at once. This is useful when you need to fetch documents from different indices in a single API call."
   ]
  },
  {
   "cell_type": "markdown",
   "id": "1cb65d51",
   "metadata": {},
   "source": [
    "You can use the Multi Get API with the following RESTful API endpoints:"
   ]
  },
  {
   "cell_type": "code",
   "execution_count": null,
   "id": "fbdcacb7",
   "metadata": {},
   "outputs": [],
   "source": [
    "POST /_mget\n",
    "POST /<index_name>/_mget"
   ]
  },
  {
   "cell_type": "markdown",
   "id": "ff5ac6c8",
   "metadata": {},
   "source": [
    "In these endpoints, <index_name> is the name of the index from which you want to retrieve documents. If you omit the <index_name>, Elasticsearch will retrieve documents from all indices."
   ]
  },
  {
   "cell_type": "markdown",
   "id": "08747eaf",
   "metadata": {},
   "source": [
    "The _mget endpoint accepts a request body that specifies the documents to retrieve. The request body should be a JSON object that contains an ids array, like this:"
   ]
  },
  {
   "cell_type": "code",
   "execution_count": null,
   "id": "e961be75",
   "metadata": {},
   "outputs": [],
   "source": [
    "{\n",
    "  \"ids\" : [\"1\", \"2\", \"3\", \"4\"]\n",
    "}"
   ]
  },
  {
   "cell_type": "markdown",
   "id": "0b67a106",
   "metadata": {},
   "source": [
    "If you’re using <index_name>/_mget, then all IDs in the ids array will be retrieved from the specified index. If you’re using /_mget, you can specify the index for each ID in the ids array, like this:"
   ]
  },
  {
   "cell_type": "code",
   "execution_count": null,
   "id": "d6b1e613",
   "metadata": {},
   "outputs": [],
   "source": [
    "{\n",
    "  \"docs\" : [\n",
    "    {\n",
    "      \"_index\" : \"index1\",\n",
    "      \"_id\" : \"1\"\n",
    "    },\n",
    "    {\n",
    "      \"_index\" : \"index2\",\n",
    "      \"_id\" : \"2\"\n",
    "    }\n",
    "  ]\n",
    "}"
   ]
  },
  {
   "cell_type": "markdown",
   "id": "0acf53bc",
   "metadata": {},
   "source": [
    "In this case, Elasticsearch will retrieve each document from the specified index."
   ]
  },
  {
   "cell_type": "markdown",
   "id": "d91543c8",
   "metadata": {},
   "source": [
    "The Multi Get API is a powerful tool that can significantly reduce the number of API calls you need to make when working with multiple documents across multiple indices."
   ]
  },
  {
   "cell_type": "markdown",
   "id": "bfd049bd",
   "metadata": {},
   "source": [
    "Multiget Document"
   ]
  },
  {
   "cell_type": "code",
   "execution_count": null,
   "id": "c07f98ee",
   "metadata": {},
   "outputs": [],
   "source": [
    "# Multiget products\n",
    "# POST http://localhost:9200/products/_mget\n",
    "response = es.mget(index='products', body={\n",
    "    'ids': ['1', '2']\n",
    "})\n",
    "print(json.dumps(response.body, indent=4))"
   ]
  },
  {
   "cell_type": "markdown",
   "id": "9dd4de13",
   "metadata": {},
   "source": [
    "# Search API"
   ]
  },
  {
   "cell_type": "markdown",
   "id": "8a9ed597",
   "metadata": {},
   "source": [
    "While the Get API is used for retrieving a single document using its _id, the Search API in Elasticsearch is used when you want to search for documents without knowing their _id. The Search API is quite complex, offering a wide range of querying and filtering options that allow you to perform full-text search, term-based search, and much more."
   ]
  },
  {
   "cell_type": "markdown",
   "id": "2adb9820",
   "metadata": {},
   "source": [
    "To use the Search API, you can use the following RESTful API endpoints:"
   ]
  },
  {
   "cell_type": "code",
   "execution_count": null,
   "id": "b5c46b75",
   "metadata": {},
   "outputs": [],
   "source": [
    "POST /_search\n",
    "POST /<index_name>/_search"
   ]
  },
  {
   "cell_type": "markdown",
   "id": "01693513",
   "metadata": {},
   "source": [
    "In these endpoints, <index_name> is the name of the index that you want to search in. If you don’t specify an index name, Elasticsearch will search all indices."
   ]
  },
  {
   "cell_type": "markdown",
   "id": "1ba56c00",
   "metadata": {},
   "source": [
    "The _search endpoint accepts a request body that defines the search query. This search query is written in Elasticsearch’s Query DSL (domain-specific language), which is a flexible and powerful language for defining queries."
   ]
  },
  {
   "cell_type": "markdown",
   "id": "c19109bf",
   "metadata": {},
   "source": [
    "Here’s a simple example of a search query:"
   ]
  },
  {
   "cell_type": "code",
   "execution_count": null,
   "id": "ab13b1e2",
   "metadata": {},
   "outputs": [],
   "source": [
    "{\n",
    "  \"query\": {\n",
    "    \"match\": {\n",
    "      \"field_name\": \"search term\"\n",
    "    }\n",
    "  }\n",
    "}"
   ]
  },
  {
   "cell_type": "markdown",
   "id": "baa64a39",
   "metadata": {},
   "source": [
    "In this query, Elasticsearch will return documents where field_name matches the “search term”."
   ]
  },
  {
   "cell_type": "markdown",
   "id": "2f0a5446",
   "metadata": {},
   "source": [
    "It’s important to note that this is just the tip of the iceberg when it comes to the Search API. It supports a wide range of querying and filtering options, allowing you to perform complex searches on your data. More advanced features of the Search API will be covered in later discussions."
   ]
  },
  {
   "cell_type": "markdown",
   "id": "93f01c37",
   "metadata": {},
   "source": [
    "Search Document"
   ]
  },
  {
   "cell_type": "code",
   "execution_count": null,
   "id": "1655ac34",
   "metadata": {},
   "outputs": [],
   "source": [
    "# Search products\n",
    "# POST http://localhost:9200/products/_search\n",
    "response = es.search(index='products', body={\n",
    "    \"query\": {\n",
    "    \"match\": {\n",
    "      \"price\": 10000\n",
    "    }\n",
    "  }\n",
    "})\n",
    "print(json.dumps(response.body, indent=4))"
   ]
  },
  {
   "cell_type": "markdown",
   "id": "a1fb3a15",
   "metadata": {},
   "source": [
    "# Pagination"
   ]
  },
  {
   "cell_type": "markdown",
   "id": "da7fbc10",
   "metadata": {},
   "source": [
    "When you are working with large amounts of data, it can be useful to break up the results of a search query into manageable chunks, or “pages”. Elasticsearch’s Search API supports pagination through the use of query parameters."
   ]
  },
  {
   "cell_type": "markdown",
   "id": "b725cec7",
   "metadata": {},
   "source": [
    "There are two important parameters for pagination:"
   ]
  },
  {
   "cell_type": "markdown",
   "id": "f7c77780",
   "metadata": {},
   "source": [
    "- from: This parameter determines the starting document from where the results should be returned. The count starts from 0. So, if you setfromto 10, Elasticsearch will skip the first 10 results.\n",
    "- size: This parameter determines the number of search hits to return. By default, Elasticsearch returns 10 results per page. If you want more or fewer results, you can change thesizeparameter."
   ]
  },
  {
   "cell_type": "markdown",
   "id": "f255aaa8",
   "metadata": {},
   "source": [
    "Here’s an example of how to use these parameters in a search query:"
   ]
  },
  {
   "cell_type": "code",
   "execution_count": null,
   "id": "484a407a",
   "metadata": {},
   "outputs": [],
   "source": [
    "{\n",
    "  \"from\" : 0, \"size\" : 20,\n",
    "  \"query\": {\n",
    "    \"match\": {\n",
    "      \"field_name\": \"search term\"\n",
    "    }\n",
    "  }\n",
    "}"
   ]
  },
  {
   "cell_type": "markdown",
   "id": "08cc9ecc",
   "metadata": {},
   "source": [
    "In this example, Elasticsearch will return the first 20 documents that match the search term. If you want to get the next 20 documents, you can change from to 20:"
   ]
  },
  {
   "cell_type": "code",
   "execution_count": null,
   "id": "ae24d241",
   "metadata": {},
   "outputs": [],
   "source": [
    "{\n",
    "  \"from\" : 20, \"size\" : 20,\n",
    "  \"query\": {\n",
    "    \"match\": {\n",
    "      \"field_name\": \"search term\"\n",
    "    }\n",
    "  }\n",
    "}"
   ]
  },
  {
   "cell_type": "markdown",
   "id": "0cac9131",
   "metadata": {},
   "source": [
    "This way, you can navigate through the search results page by page. It’s important to note that the maximum value of from + size is 10000 by default. If you need to handle more data, you need to use the scroll API or increase this limit."
   ]
  },
  {
   "cell_type": "markdown",
   "id": "c11b612a",
   "metadata": {},
   "source": [
    "Search Document dengan Pagination"
   ]
  },
  {
   "cell_type": "code",
   "execution_count": null,
   "id": "2a92b450",
   "metadata": {},
   "outputs": [],
   "source": [
    "# Search products page 1\n",
    "# POST http://localhost:9200/products/_search?size=1&from=0\n",
    "response = es.search(index='products', body={\n",
    "    'size': 1,\n",
    "    'from': 0\n",
    "})\n",
    "print(json.dumps(response.body, indent=4))"
   ]
  },
  {
   "cell_type": "code",
   "execution_count": null,
   "id": "10ea7a00",
   "metadata": {},
   "outputs": [],
   "source": [
    "# Search products page 2\n",
    "# POST http://localhost:9200/products/_search?size=1&from=1\n",
    "response = es.search(index='products', body={\n",
    "    'size': 1,\n",
    "    'from': 1\n",
    "})\n",
    "print(json.dumps(response.body, indent=4))"
   ]
  },
  {
   "cell_type": "markdown",
   "id": "e6a90d0f",
   "metadata": {},
   "source": [
    "# Sorting"
   ]
  },
  {
   "cell_type": "markdown",
   "id": "8f4d77d4",
   "metadata": {},
   "source": [
    "The Search API in Elasticsearch also supports sorting of the search results. This is done using the sort query parameter."
   ]
  },
  {
   "cell_type": "markdown",
   "id": "23494506",
   "metadata": {},
   "source": [
    "The sort parameter’s value is defined as:"
   ]
  },
  {
   "cell_type": "code",
   "execution_count": null,
   "id": "89369de4",
   "metadata": {},
   "outputs": [],
   "source": [
    "<field>:<direction>"
   ]
  },
  {
   "cell_type": "markdown",
   "id": "e01fa8b6",
   "metadata": {},
   "source": [
    "In this, <field> is the name of the field you want to sort by and <direction> can be either asc (for ascending order) or desc (for descending order)."
   ]
  },
  {
   "cell_type": "markdown",
   "id": "068bbae0",
   "metadata": {},
   "source": [
    "For example, if you have a timestamp field in your documents and you want to sort the results in descending order of timestamp, you can do this:"
   ]
  },
  {
   "cell_type": "code",
   "execution_count": null,
   "id": "fe9489e8",
   "metadata": {},
   "outputs": [],
   "source": [
    "{\n",
    "  \"query\": {\n",
    "    \"match\": {\n",
    "      \"field_name\": \"search term\"\n",
    "    }\n",
    "  },\n",
    "  \"sort\" : [\n",
    "    { \"timestamp\" : {\"order\" : \"desc\"}}\n",
    "  ]\n",
    "}"
   ]
  },
  {
   "cell_type": "markdown",
   "id": "b333b431",
   "metadata": {},
   "source": [
    "If you need to sort by more than one field, you can specify multiple fields separated by commas. The sorting will be applied in the order you specify. For example:"
   ]
  },
  {
   "cell_type": "code",
   "execution_count": null,
   "id": "da673612",
   "metadata": {},
   "outputs": [],
   "source": [
    "{\n",
    "  \"query\": {\n",
    "    \"match\": {\n",
    "      \"field_name\": \"search term\"\n",
    "    }\n",
    "  },\n",
    "  \"sort\" : [\n",
    "    { \"field1\" : {\"order\" : \"asc\"}},\n",
    "    { \"field2\" : {\"order\" : \"desc\"}},\n",
    "    { \"field3\" : {\"order\" : \"asc\"}}\n",
    "  ]\n",
    "}"
   ]
  },
  {
   "cell_type": "markdown",
   "id": "b73951c1",
   "metadata": {},
   "source": [
    "In this example, Elasticsearch first sorts the documents in ascending order by field1. For documents where field1 is the same, it then sorts in descending order by field2, and so on. This way, you can fine-tune the order of your search results to meet your needs."
   ]
  },
  {
   "cell_type": "markdown",
   "id": "f49cd1dc",
   "metadata": {},
   "source": [
    "Search Document dengan Sorting"
   ]
  },
  {
   "cell_type": "code",
   "execution_count": null,
   "id": "3aa781fa",
   "metadata": {},
   "outputs": [],
   "source": [
    "# Search products sort by price\n",
    "# POST http://localhost:9200/products/_search?sort=price:asc\n",
    "response = es.search(index='products', body={\n",
    "    'sort': {\n",
    "        'price': 'asc'\n",
    "    }\n",
    "})\n",
    "print(json.dumps(response.body, indent=4))"
   ]
  },
  {
   "cell_type": "code",
   "execution_count": null,
   "id": "8d854ed0",
   "metadata": {},
   "outputs": [],
   "source": [
    "# Search products sort by name\n",
    "# POST http://localhost:9200/products/_search?sort=name:asc\n",
    "response = es.search(index='products', body={\n",
    "    'sort': [\n",
    "        { 'name.keyword': 'asc' }\n",
    "    ]\n",
    "})\n",
    "print(json.dumps(response.body, indent=4))"
   ]
  },
  {
   "cell_type": "markdown",
   "id": "b3c81d51",
   "metadata": {},
   "source": [
    "# Index API"
   ]
  },
  {
   "cell_type": "markdown",
   "id": "04df0369",
   "metadata": {},
   "source": [
    "In the past, the Index API was commonly used to create documents in Elasticsearch, but in newer versions, the Create API is often used instead. However, the Index API still has its uses."
   ]
  },
  {
   "cell_type": "markdown",
   "id": "afecb98a",
   "metadata": {},
   "source": [
    "The Index API has a “create or replace” nature. This means that if a document with the specified ID does not exist, it will be created. If a document with the specified ID already exists, the existing document will be replaced (deleted and created anew) with the new document."
   ]
  },
  {
   "cell_type": "markdown",
   "id": "c714d799",
   "metadata": {},
   "source": [
    "This is a key difference between the Index API and the Create API. With the Create API, if a document with the specified ID already exists, an error conflict will occur. With the Index API, no such error will occur, and the existing document will simply be replaced."
   ]
  },
  {
   "cell_type": "markdown",
   "id": "87fa8ea4",
   "metadata": {},
   "source": [
    "To use the Index API, you can use the following RESTful API command:"
   ]
  },
  {
   "cell_type": "code",
   "execution_count": null,
   "id": "5e11a17c",
   "metadata": {},
   "outputs": [],
   "source": [
    "POST /<index_name>/_doc/<id>\n",
    "PUT /<index_name>/_doc/<id>"
   ]
  },
  {
   "cell_type": "markdown",
   "id": "1fa0a2f6",
   "metadata": {},
   "source": [
    "Here, <index_name> is the name of the index where you want to create or replace the document, and <id> is the ID of the document."
   ]
  },
  {
   "cell_type": "markdown",
   "id": "39cb9c60",
   "metadata": {},
   "source": [
    "In the body of the request, you would include the full content of the new document you want to create or replace. For example:"
   ]
  },
  {
   "cell_type": "code",
   "execution_count": null,
   "id": "6cb7ed5f",
   "metadata": {},
   "outputs": [],
   "source": [
    "PUT /my_index/_doc/1\n",
    "{\n",
    "  \"field1\": \"value1\",\n",
    "  \"field2\": \"value2\"\n",
    "}"
   ]
  },
  {
   "cell_type": "markdown",
   "id": "7a32a8ac",
   "metadata": {},
   "source": [
    "In this example, a document with ID 1 and the specified fields and values will be created in my_index. If a document with ID 1 already exists, it will be replaced with the new document."
   ]
  },
  {
   "cell_type": "markdown",
   "id": "ad813440",
   "metadata": {},
   "source": [
    "Index Document"
   ]
  },
  {
   "cell_type": "code",
   "execution_count": null,
   "id": "c9af4f35",
   "metadata": {},
   "outputs": [],
   "source": [
    "# Save product 3\n",
    "# POST http://localhost:9200/products/_doc/3\n",
    "response = es.index(index='products', id='3', body={\n",
    "    'name': 'Product 3',\n",
    "    'price': 30000,\n",
    "})\n",
    "print(json.dumps(response.body, indent=4))\n",
    "\n",
    "# Save product 4\n",
    "# POST http://localhost:9200/products/_doc/4\n",
    "response = es.index(index='products', id='4', body={\n",
    "    'name': 'Product 4',\n",
    "    'price': 40000,\n",
    "})\n",
    "print(json.dumps(response.body, indent=4))\n",
    "\n",
    "# Save product 5\n",
    "# POST http://localhost:9200/products/_doc/5\n",
    "response = es.index(index='products', id='5', body={\n",
    "    'name': 'Product 5',\n",
    "    'price': 50000,\n",
    "})\n",
    "print(json.dumps(response.body, indent=4))"
   ]
  },
  {
   "cell_type": "markdown",
   "id": "1aaef662",
   "metadata": {},
   "source": [
    "# Choose Create API or Index API?"
   ]
  },
  {
   "cell_type": "markdown",
   "id": "24e7fc0d",
   "metadata": {},
   "source": [
    "Your choice between Create API and Index API depends on your needs:"
   ]
  },
  {
   "cell_type": "markdown",
   "id": "5fd6276a",
   "metadata": {},
   "source": [
    "- Index API:This is the most common choice among programmers because it’s safe from conflicts if a document with the same ID already exists in Elasticsearch. The Index API will replace the existing document, rather than producing an error.\n",
    "- Create API:Use this if you don’t want to replace an existing document. If a document with the same ID already exists, the Create API will produce an error. To prevent this, it’s recommended to use the Get API first to check if the document already exists."
   ]
  },
  {
   "cell_type": "markdown",
   "id": "2aa0ec0e",
   "metadata": {},
   "source": [
    "Index API: This is the most common choice among programmers because it’s safe from conflicts if a document with the same ID already exists in Elasticsearch. The Index API will replace the existing document, rather than producing an error."
   ]
  },
  {
   "cell_type": "markdown",
   "id": "7231881c",
   "metadata": {},
   "source": [
    "Create API: Use this if you don’t want to replace an existing document. If a document with the same ID already exists, the Create API will produce an error. To prevent this, it’s recommended to use the Get API first to check if the document already exists."
   ]
  },
  {
   "cell_type": "markdown",
   "id": "2138059a",
   "metadata": {},
   "source": [
    "# Update API"
   ]
  },
  {
   "cell_type": "markdown",
   "id": "687c68ab",
   "metadata": {},
   "source": [
    "The Index API behaves much like a strict librarian. Upon an update, it replaces the old document entirely, demanding all attributes anew. If you only submit the updated attribute, it overwrites the rest, potentially causing data loss."
   ]
  },
  {
   "cell_type": "markdown",
   "id": "3f59ddb7",
   "metadata": {},
   "source": [
    "Need to tweak a few attributes without a full rewrite? Use the Update API, your friendly editor:"
   ]
  },
  {
   "cell_type": "code",
   "execution_count": null,
   "id": "e4ba3054",
   "metadata": {},
   "outputs": [],
   "source": [
    "POST /<index_name>/_update/<id>"
   ]
  },
  {
   "cell_type": "markdown",
   "id": "0a7b0fdf",
   "metadata": {},
   "source": [
    "But beware, if the document doesn’t exist, Elasticsearch returns a 404 Not Found error. Always check your document’s existence before updating."
   ]
  },
  {
   "cell_type": "markdown",
   "id": "4f907adb",
   "metadata": {},
   "source": [
    "Update Document"
   ]
  },
  {
   "cell_type": "code",
   "execution_count": null,
   "id": "fe550e0e",
   "metadata": {},
   "outputs": [],
   "source": [
    "# Update product 5\n",
    "# POST http://localhost:9200/products/_update/5\n",
    "response = es.update(index='products', id='5', body={\n",
    "    'doc': {\n",
    "        'price': 50000000\n",
    "    }\n",
    "})\n",
    "print(json.dumps(response.body, indent=4))\n",
    "\n",
    "# Get product 5\n",
    "response = es.get(index='products', id='5')\n",
    "print(json.dumps(response.body, indent=4))"
   ]
  },
  {
   "cell_type": "markdown",
   "id": "572c2fc8",
   "metadata": {},
   "source": [
    "# Delete API"
   ]
  },
  {
   "cell_type": "markdown",
   "id": "2174deb3",
   "metadata": {},
   "source": [
    "To remove a document, the Delete API is your digital shredder. Utilize it through this RESTful API command:"
   ]
  },
  {
   "cell_type": "code",
   "execution_count": null,
   "id": "5f9df1cd",
   "metadata": {},
   "outputs": [],
   "source": [
    "DELETE /<index_name>/_doc/<id>"
   ]
  },
  {
   "cell_type": "markdown",
   "id": "95b69882",
   "metadata": {},
   "source": [
    "But remember, if you attempt to delete a document that doesn’t exist, Elasticsearch will return a 404 Not Found error. Always make sure the document is in your collection before trying to remove it."
   ]
  },
  {
   "cell_type": "markdown",
   "id": "93f411bb",
   "metadata": {},
   "source": [
    "Insert Spammer"
   ]
  },
  {
   "cell_type": "code",
   "execution_count": null,
   "id": "4c27171a",
   "metadata": {},
   "outputs": [],
   "source": [
    "# Insert customer spammer\n",
    "# POST http://localhost:9200/customers/_create/spammer\n",
    "response = es.index(index='customers', id='spammer', body={\n",
    "    'name': 'Spammer',\n",
    "    'register_at': '2023-12-06 00:00:00',\n",
    "})\n",
    "print(json.dumps(response.body, indent=4))\n",
    "\n",
    "# Get customer spammer\n",
    "response = es.get_source(index='customers', id='spammer')\n",
    "print(json.dumps(response.body, indent=4))"
   ]
  },
  {
   "cell_type": "markdown",
   "id": "70868f2e",
   "metadata": {},
   "source": [
    "Delete Spammer"
   ]
  },
  {
   "cell_type": "code",
   "execution_count": null,
   "id": "811db596",
   "metadata": {},
   "outputs": [],
   "source": [
    "# Delete customer spammer\n",
    "# DELETE http://localhost:9200/customers/_doc/spammer\n",
    "response = es.delete(index='customers', id='spammer', ignore=[404])\n",
    "print(json.dumps(response.body, indent=4))\n",
    "\n",
    "# Get customer spammer\n",
    "response = es.get_source(index='customers', id='spammer', ignore=[404])\n",
    "print(json.dumps(response.body, indent=4))"
   ]
  },
  {
   "cell_type": "markdown",
   "id": "ab3cadd9",
   "metadata": {},
   "source": [
    "# Bulk API"
   ]
  },
  {
   "cell_type": "markdown",
   "id": "faa2750d",
   "metadata": {},
   "source": [
    "When dealing with many operations in Elasticsearch, the Bulk API shines by speeding up the process instead of manually handling each operation. The Bulk API bundles various operations together, including create, index, update, or delete. To use the Bulk API, apply the following RESTful API commands:"
   ]
  },
  {
   "cell_type": "code",
   "execution_count": null,
   "id": "7ff86b66",
   "metadata": {},
   "outputs": [],
   "source": [
    "POST /_bulk\n",
    "POST /<index_name>/_bulk"
   ]
  },
  {
   "cell_type": "markdown",
   "id": "2f51332f",
   "metadata": {},
   "source": [
    "This allows more efficient handling of large volumes of operations."
   ]
  },
  {
   "cell_type": "markdown",
   "id": "0bfa902f",
   "metadata": {},
   "source": [
    "Format Request Body untuk Bulk API"
   ]
  },
  {
   "cell_type": "code",
   "execution_count": null,
   "id": "7fc59ce5",
   "metadata": {},
   "outputs": [],
   "source": [
    "action_and_meta_data\\n\n",
    "optional_source\\n\n",
    "action_and_meta_data\\n\n",
    "optional_source\\n\n",
    "....\n",
    "action_and_meta_data\\n\n",
    "optional_source\\n"
   ]
  },
  {
   "cell_type": "markdown",
   "id": "5a5a2e1a",
   "metadata": {},
   "source": [
    "Bulk Document"
   ]
  },
  {
   "cell_type": "code",
   "execution_count": null,
   "id": "dc495e7f",
   "metadata": {},
   "outputs": [],
   "source": [
    "# Bulk documents\n",
    "# POST http://localhost:9200/_bulk\n",
    "response = es.bulk(body=[\n",
    "    {'create': {'_index': 'customers', '_id': 'dina'}},\n",
    "    {'name': 'Dina', 'register_at': '2023-11-30 00:00:00'},\n",
    "    {'index': {'_index': 'customers', '_id': 'yuni'}},\n",
    "    {'name': 'Yuni', 'register_at': '2023-11-30 00:00:00'},\n",
    "    {'update': {'_index': 'products', '_id': '1'}},\n",
    "    {'doc': {'price': 250000}},\n",
    "    {'create': {'_index': 'customers', '_id': 'spammer'}},\n",
    "    {'name': 'Spammer', 'register_at': '2023-12-06 00:00:00'},\n",
    "    {'delete': {'_index': 'customers', '_id': 'spammer'}},\n",
    "])\n",
    "print(json.dumps(response.body, indent=4))"
   ]
  },
  {
   "cell_type": "code",
   "execution_count": null,
   "id": "9b3198ac",
   "metadata": {},
   "outputs": [],
   "source": [
    "# Get document dina\n",
    "# GET http://localhost:9200/customers/_doc/dina\n",
    "response = es.get(index='customers', id='dina')\n",
    "print(json.dumps(response.body, indent=4))\n",
    "\n",
    "# Get document yuni\n",
    "# GET http://localhost:9200/customers/_doc/yuni\n",
    "response = es.get(index='customers', id='yuni')\n",
    "print(json.dumps(response.body, indent=4))\n",
    "\n",
    "# Get document spammer\n",
    "# GET http://localhost:9200/customers/_doc/spammer\n",
    "response = es.get(index='customers', id='spammer', ignore=[404])\n",
    "print(json.dumps(response.body, indent=4))\n",
    "\n",
    "# Get document product 1\n",
    "# GET http://localhost:9200/products/_doc/1\n",
    "response = es.get(index='products', id='1')\n",
    "print(json.dumps(response.body, indent=4))"
   ]
  }
 ],
 "metadata": {},
 "nbformat": 4,
 "nbformat_minor": 5
}
