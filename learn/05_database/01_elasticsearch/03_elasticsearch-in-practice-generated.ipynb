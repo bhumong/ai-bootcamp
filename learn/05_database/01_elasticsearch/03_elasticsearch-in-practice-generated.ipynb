{
 "cells": [
  {
   "cell_type": "markdown",
   "id": "294aa7e6",
   "metadata": {},
   "source": [
    "# Elasticsearch In Practice"
   ]
  },
  {
   "cell_type": "markdown",
   "id": "c0cad99a",
   "metadata": {},
   "source": []
  },
  {
   "cell_type": "markdown",
   "id": "809418ab",
   "metadata": {},
   "source": [
    "Elasticsearch (Source: technocratsid.com)"
   ]
  },
  {
   "cell_type": "markdown",
   "id": "9458db9e",
   "metadata": {},
   "source": [
    "# Index"
   ]
  },
  {
   "cell_type": "markdown",
   "id": "d160bdc0",
   "metadata": {},
   "source": [
    "As mentioned earlier, Elasticsearch doesn’t have a concept like a database; thus, we can create an index (or table) directly. But how do we use Elasticsearch for more than one application? A common practice is to prefix the index name with the application’s name, for example: applicationname_indexname. This way, index names do not conflict between applications."
   ]
  },
  {
   "cell_type": "markdown",
   "id": "e73c38a8",
   "metadata": {},
   "source": [
    "# Creating an Index"
   ]
  },
  {
   "cell_type": "markdown",
   "id": "f365ba0f",
   "metadata": {},
   "source": [
    "To create an Index, we can make an HTTP call like so:"
   ]
  },
  {
   "cell_type": "code",
   "execution_count": null,
   "id": "d1388335",
   "metadata": {},
   "outputs": [],
   "source": [
    "PUT /{index_name}"
   ]
  },
  {
   "cell_type": "markdown",
   "id": "a996d293",
   "metadata": {},
   "source": [
    "The rules for index names are as follows:"
   ]
  },
  {
   "cell_type": "markdown",
   "id": "abd890b3",
   "metadata": {},
   "source": [
    "By creating unique index names, you ensure that data from different applications is stored separately and can be queried independently."
   ]
  },
  {
   "cell_type": "markdown",
   "id": "b31268a4",
   "metadata": {},
   "source": [
    "Before we start practicing, install the elasticsearch package"
   ]
  },
  {
   "cell_type": "code",
   "execution_count": null,
   "id": "b02bca2a",
   "metadata": {},
   "outputs": [],
   "source": [
    "%pip install elasticsearch"
   ]
  },
  {
   "cell_type": "markdown",
   "id": "dee88841",
   "metadata": {},
   "source": [
    "import the packages we need"
   ]
  },
  {
   "cell_type": "code",
   "execution_count": null,
   "id": "c72a34cf",
   "metadata": {},
   "outputs": [],
   "source": [
    "from elasticsearch import Elasticsearch\n",
    "import time\n",
    "import json"
   ]
  },
  {
   "cell_type": "markdown",
   "id": "6fda7128",
   "metadata": {},
   "source": [
    "Create a connection to elasticsearch, make sure elasticsearch is running on your computer’s localhost or is running on Google Collab."
   ]
  },
  {
   "cell_type": "code",
   "execution_count": null,
   "id": "dc04968f",
   "metadata": {},
   "outputs": [],
   "source": [
    "es = Elasticsearch([{'host': 'localhost', 'port': 9200, 'scheme': 'http'}])"
   ]
  },
  {
   "cell_type": "markdown",
   "id": "487bcf12",
   "metadata": {},
   "source": [
    "Creating an Index"
   ]
  },
  {
   "cell_type": "code",
   "execution_count": null,
   "id": "dbfca9d3",
   "metadata": {},
   "outputs": [],
   "source": [
    "# Create index customers\n",
    "# PUT http://localhost:9200/customers\n",
    "response = es.options(ignore_status=[400]).indices.create(index='customers')\n",
    "print(json.dumps(response.body, indent=4))"
   ]
  },
  {
   "cell_type": "code",
   "execution_count": null,
   "id": "99768b41",
   "metadata": {},
   "outputs": [],
   "source": [
    "# Create index products\n",
    "# PUT http://localhost:9200/products\n",
    "response = es.options(ignore_status=[400]).indices.create(index='products')\n",
    "print(json.dumps(response.body, indent=4))"
   ]
  },
  {
   "cell_type": "code",
   "execution_count": null,
   "id": "b27b5c12",
   "metadata": {},
   "outputs": [],
   "source": [
    "# Create index orders\n",
    "# PUT http://localhost:9200/orders\n",
    "response = es.options(ignore_status=[400]).indices.create(index='orders')\n",
    "print(json.dumps(response.body, indent=4))"
   ]
  },
  {
   "cell_type": "code",
   "execution_count": null,
   "id": "9b9fcf9a",
   "metadata": {},
   "outputs": [],
   "source": [
    "# Get All Indexes\n",
    "# GET http://localhost:9200/_cat/indices?v\n",
    "response = es.cat.indices(v=True)\n",
    "print(response)"
   ]
  },
  {
   "cell_type": "markdown",
   "id": "79ab9fbf",
   "metadata": {},
   "source": [
    "# Deleting an Index"
   ]
  },
  {
   "cell_type": "markdown",
   "id": "d46be0fd",
   "metadata": {},
   "source": [
    "To delete an index that you’ve created, you can simply use the DELETE HTTP method. Deleting an index will automatically remove all data associated with that index. Here’s how you can do it:"
   ]
  },
  {
   "cell_type": "code",
   "execution_count": null,
   "id": "2f6bc521",
   "metadata": {},
   "outputs": [],
   "source": [
    "DELETE /{index_name}"
   ]
  },
  {
   "cell_type": "markdown",
   "id": "30f66bbb",
   "metadata": {},
   "source": [
    "Just replace {index_name} with the name of the index you wish to delete. But be careful, this operation is irreversible. Once an index is deleted, all the data within it is permanently lost unless you have a backup or recovery mechanism in place."
   ]
  },
  {
   "cell_type": "markdown",
   "id": "f6511c1e",
   "metadata": {},
   "source": [
    "Delete Index"
   ]
  },
  {
   "cell_type": "code",
   "execution_count": null,
   "id": "34738ab6",
   "metadata": {},
   "outputs": [],
   "source": [
    "# Delete index customers\n",
    "# DELETE http://localhost:9200/customers\n",
    "response = es.options(ignore_status=[400, 404]).indices.delete(index='customers')\n",
    "print(json.dumps(response.body, indent=4))"
   ]
  },
  {
   "cell_type": "code",
   "execution_count": null,
   "id": "363897e0",
   "metadata": {},
   "outputs": [],
   "source": [
    "# Delete index products\n",
    "# DELETE http://localhost:9200/products\n",
    "response = es.options(ignore_status=[400, 404]).indices.delete(index='products')\n",
    "print(json.dumps(response.body, indent=4))"
   ]
  },
  {
   "cell_type": "code",
   "execution_count": null,
   "id": "d99207d5",
   "metadata": {},
   "outputs": [],
   "source": [
    "# Delete index orders\n",
    "# DELETE http://localhost:9200/orders\n",
    "response = es.options(ignore_status=[400, 404]).indices.delete(index='orders')\n",
    "print(json.dumps(response.body, indent=4))"
   ]
  },
  {
   "cell_type": "code",
   "execution_count": null,
   "id": "0a448088",
   "metadata": {},
   "outputs": [],
   "source": [
    "# Get All Indexes\n",
    "# GET http://localhost:9200/_cat/indices?v\n",
    "response = es.cat.indices(v=True)\n",
    "print(response)"
   ]
  },
  {
   "cell_type": "markdown",
   "id": "a96c7367",
   "metadata": {},
   "source": [
    "# Dynamic Mapping in Elasticsearch"
   ]
  },
  {
   "cell_type": "markdown",
   "id": "a2400526",
   "metadata": {},
   "source": [
    "In Elasticsearch, defining the schema of an index is known as mapping. By default, a feature called Dynamic Mapping is enabled, where Elasticsearch auto-detects the data type of each JSON attribute and creates a mapping accordingly."
   ]
  },
  {
   "cell_type": "markdown",
   "id": "965d65af",
   "metadata": {},
   "source": [
    "While convenient, it’s generally recommended to manually create mappings for better control over data indexing and querying. This ensures proper interpretation and storage of your data."
   ]
  },
  {
   "cell_type": "markdown",
   "id": "3576bf20",
   "metadata": {},
   "source": [
    "# Dynamic Field Mapping"
   ]
  },
  {
   "cell_type": "markdown",
   "id": "a6c12eb5",
   "metadata": {},
   "source": [
    "This feature auto-detects the data type of a field in a JSON document and assigns a corresponding Elasticsearch data type:"
   ]
  },
  {
   "cell_type": "markdown",
   "id": "a0cf3554",
   "metadata": {},
   "source": [
    "# Date Detection"
   ]
  },
  {
   "cell_type": "markdown",
   "id": "7035921b",
   "metadata": {},
   "source": [
    "By default, Elasticsearch detects if a string data is in a date format and assigns it a date data type using the format yyyy/MM/dd HH:mm:ss. This feature is active by default but can be deactivated by setting the date_detection attribute in the mapping to false. The date format can be changed by adjusting the dynamic_date_formats attribute in the mapping."
   ]
  },
  {
   "cell_type": "markdown",
   "id": "cf621717",
   "metadata": {},
   "source": [
    "Update Dynamic Mapping for Date"
   ]
  },
  {
   "cell_type": "code",
   "execution_count": null,
   "id": "52362feb",
   "metadata": {},
   "outputs": [],
   "source": [
    "# Update customers mapping\n",
    "# PUT http://localhost:9200/customers/_mapping\n",
    "response = es.indices.put_mapping(index='customers', body={\n",
    "    'properties': {\n",
    "        'date': {\n",
    "            'type': 'date',\n",
    "            'format': 'yyyy-MM-dd HH:mm:ss||yyyy-MM-dd||yyyy/MM/dd HH:mm:ss||yyyy/MM/dd'\n",
    "        },\n",
    "        'register_at': {\n",
    "            'type': 'date',\n",
    "            'format': 'yyyy-MM-dd HH:mm:ss||yyyy-MM-dd||yyyy/MM/dd HH:mm:ss||yyyy/MM/dd'\n",
    "        }\n",
    "    }\n",
    "})\n",
    "print(json.dumps(response.body, indent=4))\n",
    "\n",
    "# Get Mapping\n",
    "# GET http://localhost:9200/customers/_mapping\n",
    "response = es.indices.get_mapping(index='customers')\n",
    "print(json.dumps(response.body, indent=4))"
   ]
  },
  {
   "cell_type": "code",
   "execution_count": null,
   "id": "c4a2d348",
   "metadata": {},
   "outputs": [],
   "source": [
    "# Update products mapping\n",
    "# PUT http://localhost:9200/products/_mapping\n",
    "response = es.indices.put_mapping(index='products', body={\n",
    "    'properties': {\n",
    "        'date': {\n",
    "            'type': 'date',\n",
    "            'format': 'yyyy-MM-dd HH:mm:ss||yyyy-MM-dd||yyyy/MM/dd HH:mm:ss||yyyy/MM/dd'\n",
    "        }\n",
    "    }\n",
    "})\n",
    "print(json.dumps(response.body, indent=4))\n",
    "\n",
    "# Get Mapping\n",
    "# GET http://localhost:9200/products/_mapping\n",
    "response = es.indices.get_mapping(index='products')\n",
    "print(json.dumps(response.body, indent=4))"
   ]
  },
  {
   "cell_type": "code",
   "execution_count": null,
   "id": "ad092dca",
   "metadata": {},
   "outputs": [],
   "source": [
    "# Update orders mapping\n",
    "# PUT http://localhost:9200/orders/_mapping\n",
    "response = es.indices.put_mapping(index='orders', body={\n",
    "    'properties': {\n",
    "        'date': {\n",
    "            'type': 'date',\n",
    "            'format': 'yyyy-MM-dd HH:mm:ss||yyyy-MM-dd||yyyy/MM/dd HH:mm:ss||yyyy/MM/dd'\n",
    "        }\n",
    "    }\n",
    "})\n",
    "print(json.dumps(response.body, indent=4))\n",
    "\n",
    "# Get Mapping\n",
    "# GET http://localhost:9200/orders/_mapping\n",
    "response = es.indices.get_mapping(index='orders')\n",
    "print(json.dumps(response.body, indent=4))"
   ]
  },
  {
   "cell_type": "markdown",
   "id": "48b9d35e",
   "metadata": {},
   "source": [
    "# Number Detection"
   ]
  },
  {
   "cell_type": "markdown",
   "id": "d0c52cbf",
   "metadata": {},
   "source": [
    "Although JSON has a number data type, sometimes users send numbers in a string format, such as “100” or “12.12”. In these cases, Elasticsearch may need to detect and convert these string-formatted numbers to actual number data types (long or float)."
   ]
  },
  {
   "cell_type": "markdown",
   "id": "54a8d210",
   "metadata": {},
   "source": [
    "By default, automatic number detection is not active in Elasticsearch. If you want to activate it, you need to change the numeric_detection attribute in the mapping to true."
   ]
  },
  {
   "cell_type": "markdown",
   "id": "403e71c4",
   "metadata": {},
   "source": [
    "If a mapping for a certain attribute is not yet available, Elasticsearch will automatically try to convert the data to a number type (either long or float). If the conversion is successful, Elasticsearch will use the corresponding number data type for the field."
   ]
  },
  {
   "cell_type": "code",
   "execution_count": null,
   "id": "c6bccb31",
   "metadata": {},
   "outputs": [],
   "source": [
    "# Update customers mapping\n",
    "# PUT http://localhost:9200/customers/_mapping\n",
    "response = es.indices.put_mapping(index='customers', body={\n",
    "    'numeric_detection': True\n",
    "})\n",
    "print(json.dumps(response.body, indent=4))\n",
    "\n",
    "# Get Mapping\n",
    "# GET http://localhost:9200/customers/_mapping\n",
    "response = es.indices.get_mapping(index='customers')\n",
    "print(json.dumps(response.body, indent=4))"
   ]
  },
  {
   "cell_type": "code",
   "execution_count": null,
   "id": "ecbd9329",
   "metadata": {},
   "outputs": [],
   "source": [
    "# Update products mapping\n",
    "# PUT http://localhost:9200/products/_mapping\n",
    "response = es.indices.put_mapping(index='products', body={\n",
    "    'numeric_detection': True\n",
    "})\n",
    "print(json.dumps(response.body, indent=4))\n",
    "\n",
    "# Get Mapping\n",
    "# GET http://localhost:9200/products/_mapping\n",
    "response = es.indices.get_mapping(index='products')\n",
    "print(json.dumps(response.body, indent=4))"
   ]
  },
  {
   "cell_type": "code",
   "execution_count": null,
   "id": "4f990131",
   "metadata": {},
   "outputs": [],
   "source": [
    "# Update orders mapping\n",
    "# PUT http://localhost:9200/orders/_mapping\n",
    "response = es.indices.put_mapping(index='orders', body={\n",
    "    'numeric_detection': True\n",
    "})\n",
    "print(json.dumps(response.body, indent=4))\n",
    "\n",
    "# Get Mapping\n",
    "# GET http://localhost:9200/orders/_mapping\n",
    "response = es.indices.get_mapping(index='orders')\n",
    "print(json.dumps(response.body, indent=4))"
   ]
  },
  {
   "cell_type": "markdown",
   "id": "90b4a975",
   "metadata": {},
   "source": [
    "# Create API"
   ]
  },
  {
   "cell_type": "markdown",
   "id": "d124ba34",
   "metadata": {},
   "source": [
    "The Create API is used to add new data to Elasticsearch."
   ]
  },
  {
   "cell_type": "markdown",
   "id": "78fa3840",
   "metadata": {},
   "source": [
    "The Create API has a “save” operation, which means it will only create a new document if a document with the provided _id does not already exist. Attempting to create a document with an _id that already exists will result in a conflict error."
   ]
  },
  {
   "cell_type": "markdown",
   "id": "2a1948e2",
   "metadata": {},
   "source": [
    "To use the Create API, you use either the POST or PUT HTTP method with the following endpoint:"
   ]
  },
  {
   "cell_type": "code",
   "execution_count": null,
   "id": "07df8735",
   "metadata": {},
   "outputs": [],
   "source": [
    "POST/PUT /<index_name>/_create/<id>"
   ]
  },
  {
   "cell_type": "markdown",
   "id": "32e60595",
   "metadata": {},
   "source": [
    "Here, <index_name> is the name of the index where you want to create the document, and <id> is the unique identifier you want to assign to the new document. If the document is successfully created, Elasticsearch will return a confirmation response."
   ]
  },
  {
   "cell_type": "markdown",
   "id": "c2daba24",
   "metadata": {},
   "source": [
    "Create Customer"
   ]
  },
  {
   "cell_type": "code",
   "execution_count": null,
   "id": "1244f73c",
   "metadata": {},
   "outputs": [],
   "source": [
    "# Insert customers aditira\n",
    "# POST http://localhost:9200/customers/_create/aditira\n",
    "response = es.index(index='customers', id='aditira', body={\n",
    "    'name': 'Aditira Jamhuri',\n",
    "    'register_at': '2023-11-30 00:00:00',\n",
    "})\n",
    "print(json.dumps(response.body, indent=4))\n",
    "\n",
    "# Get Mapping\n",
    "# GET http://localhost:9200/customers/_mapping\n",
    "response = es.indices.get_mapping(index='customers')\n",
    "print(json.dumps(response.body, indent=4))"
   ]
  },
  {
   "cell_type": "markdown",
   "id": "99024cdf",
   "metadata": {},
   "source": [
    "Create Product"
   ]
  },
  {
   "cell_type": "code",
   "execution_count": null,
   "id": "78afa56d",
   "metadata": {},
   "outputs": [],
   "source": [
    "# Insert products 1\n",
    "# POST http://localhost:9200/products/_create/1\n",
    "response = es.index(index='products', id='1', body={\n",
    "    'name': 'Product 1',\n",
    "    'price': 10000,\n",
    "})\n",
    "print(json.dumps(response.body, indent=4))"
   ]
  },
  {
   "cell_type": "code",
   "execution_count": null,
   "id": "918fb95c",
   "metadata": {},
   "outputs": [],
   "source": [
    "# Insert products 2\n",
    "# POST http://localhost:9200/products/_create/2\n",
    "response = es.index(index='products', id='2', body={\n",
    "    'name': 'Product 2',\n",
    "    'price': 20000,\n",
    "})\n",
    "print(json.dumps(response.body, indent=4))"
   ]
  },
  {
   "cell_type": "code",
   "execution_count": null,
   "id": "4c11652d",
   "metadata": {},
   "outputs": [],
   "source": [
    "# Get Mapping\n",
    "# GET http://localhost:9200/products/_mapping\n",
    "response = es.indices.get_mapping(index='products')\n",
    "print(json.dumps(response.body, indent=4))"
   ]
  },
  {
   "cell_type": "markdown",
   "id": "1c01c881",
   "metadata": {},
   "source": [
    "Create Order"
   ]
  },
  {
   "cell_type": "code",
   "execution_count": null,
   "id": "43868568",
   "metadata": {},
   "outputs": [],
   "source": [
    "# Insert orders 1\n",
    "# POST http://localhost:9200/orders/_create/1\n",
    "response = es.index(index='orders', id='1', body={\n",
    "    \"order_date\": \"2023-12-01 00:00:00\",\n",
    "    \"customer_id\": \"aditira\",\n",
    "    \"total\": 40000,\n",
    "    \"items\": [\n",
    "        {\n",
    "            \"product_id\": \"1\",\n",
    "            \"price\": 10000,\n",
    "            \"quantity\": 2\n",
    "        },\n",
    "        {\n",
    "            \"product_id\": \"2\",\n",
    "            \"price\": 20000,\n",
    "            \"quantity\": 1\n",
    "        }\n",
    "    ]\n",
    "})\n",
    "print(json.dumps(response.body, indent=4))\n",
    "\n",
    "# Get Mapping\n",
    "# GET http://localhost:9200/orders/_mapping\n",
    "response = es.indices.get_mapping(index='orders')\n",
    "print(json.dumps(response.body, indent=4))"
   ]
  },
  {
   "cell_type": "markdown",
   "id": "e4e3b440",
   "metadata": {},
   "source": [
    "# Get API"
   ]
  },
  {
   "cell_type": "markdown",
   "id": "7deb1635",
   "metadata": {},
   "source": [
    "Once you’ve stored data in Elasticsearch using the Create API, you can retrieve this data using the Get API."
   ]
  },
  {
   "cell_type": "markdown",
   "id": "c34b55ec",
   "metadata": {},
   "source": [
    "The Get API returns the requested data along with its associated metadata, such as the _id, index name, document version, and so on."
   ]
  },
  {
   "cell_type": "markdown",
   "id": "e422b8a4",
   "metadata": {},
   "source": [
    "If the data you’re trying to retrieve is not available (i.e., there is no document with the requested _id in the specified index), the HTTP response code will be 404 Not Found."
   ]
  },
  {
   "cell_type": "markdown",
   "id": "86a74e34",
   "metadata": {},
   "source": [
    "To use the Get API, you make an HTTP GET request to the following endpoint:"
   ]
  },
  {
   "cell_type": "code",
   "execution_count": null,
   "id": "7dd58932",
   "metadata": {},
   "outputs": [],
   "source": [
    "GET /<index_name>/_doc/<id>"
   ]
  },
  {
   "cell_type": "markdown",
   "id": "2f07b813",
   "metadata": {},
   "source": [
    "In this endpoint, <index_name> is the name of the index from which you want to retrieve data, and <id> is the unique identifier of the document you want to retrieve. If the document is found, Elasticsearch will return the document and its metadata in the response."
   ]
  },
  {
   "cell_type": "markdown",
   "id": "b35bf04f",
   "metadata": {},
   "source": [
    "Get Document"
   ]
  },
  {
   "cell_type": "code",
   "execution_count": null,
   "id": "ca502ed4",
   "metadata": {},
   "outputs": [],
   "source": [
    "# Get Customers aditira\n",
    "# GET http://localhost:9200/customers/_doc/aditira\n",
    "response = es.get(index='customers', id='aditira')\n",
    "print(json.dumps(response.body, indent=4))"
   ]
  },
  {
   "cell_type": "markdown",
   "id": "e7037dd3",
   "metadata": {},
   "source": [
    "# Get Source API"
   ]
  },
  {
   "cell_type": "markdown",
   "id": "abe2d42b",
   "metadata": {},
   "source": [
    "If you’re interested in retrieving the document data but do not wish to receive the metadata associated with the document, you can use the Get Source API."
   ]
  },
  {
   "cell_type": "markdown",
   "id": "d341b60c",
   "metadata": {},
   "source": [
    "To use the Get Source API, you make an HTTP GET request to the following endpoint:"
   ]
  },
  {
   "cell_type": "code",
   "execution_count": null,
   "id": "ba01b787",
   "metadata": {},
   "outputs": [],
   "source": [
    "GET /<index_name>/_source/<id>"
   ]
  },
  {
   "cell_type": "markdown",
   "id": "cee020c1",
   "metadata": {},
   "source": [
    "In this endpoint, <index_name> is the name of the index from which you want to retrieve data, and <id> is the unique identifier of the document you want to retrieve."
   ]
  },
  {
   "cell_type": "markdown",
   "id": "360fb262",
   "metadata": {},
   "source": [
    "This call will return only the actual data that you inserted, without any of the metadata information, including the _id. This is because the _id is already included in the URL where you’re making the HTTP call. As such, if the document is found, Elasticsearch will return the document data in the response, without any metadata."
   ]
  },
  {
   "cell_type": "markdown",
   "id": "52b4d5a9",
   "metadata": {},
   "source": [
    "Get Source Document"
   ]
  },
  {
   "cell_type": "code",
   "execution_count": null,
   "id": "319f5e93",
   "metadata": {},
   "outputs": [],
   "source": [
    "# Get Source Customers aditira\n",
    "# GET http://localhost:9200/customers/_doc/aditira/_source\n",
    "response = es.get_source(index='customers', id='aditira')\n",
    "print(json.dumps(response.body, indent=4))"
   ]
  },
  {
   "cell_type": "markdown",
   "id": "999e9ac1",
   "metadata": {},
   "source": [
    "# Check Exists"
   ]
  },
  {
   "cell_type": "markdown",
   "id": "b57717e8",
   "metadata": {},
   "source": [
    "There may be cases where you only want to check if a document exists in an index, without needing to retrieve the document’s data. In such cases, you can use the Get API, but with the HTTP method HEAD instead of GET."
   ]
  },
  {
   "cell_type": "markdown",
   "id": "cf0f873f",
   "metadata": {},
   "source": [
    "To check if a document exists, you make an HTTP HEAD request to the following endpoint:"
   ]
  },
  {
   "cell_type": "code",
   "execution_count": null,
   "id": "bc7ba0eb",
   "metadata": {},
   "outputs": [],
   "source": [
    "HEAD /<index_name>/_doc/<id>"
   ]
  },
  {
   "cell_type": "markdown",
   "id": "4815f769",
   "metadata": {},
   "source": [
    "In this endpoint, <index_name> is the name of the index where you’re checking for the document, and <id> is the unique identifier of the document you’re checking for."
   ]
  },
  {
   "cell_type": "markdown",
   "id": "e80c4a35",
   "metadata": {},
   "source": [
    "Elasticsearch will return a 200 OK response without any body if the document exists. If the document does not exist, it will return a 404 Not Found response. This is a quick and efficient way to check for the existence of a document without retrieving or transferring any data."
   ]
  },
  {
   "cell_type": "markdown",
   "id": "b8d289d6",
   "metadata": {},
   "source": [
    "If data exists"
   ]
  },
  {
   "cell_type": "code",
   "execution_count": null,
   "id": "e188ff9d",
   "metadata": {},
   "outputs": [],
   "source": [
    "# Check Customers aditira\n",
    "# HEAD http://localhost:9200/customers/_doc/aditira\n",
    "response = es.exists(index='customers', id='aditira')\n",
    "print(json.dumps(response.body, indent=4))"
   ]
  },
  {
   "cell_type": "markdown",
   "id": "b8d55564",
   "metadata": {},
   "source": [
    "If the data does not exist"
   ]
  },
  {
   "cell_type": "code",
   "execution_count": null,
   "id": "244f1ace",
   "metadata": {},
   "outputs": [],
   "source": [
    "# Check Customers wrong\n",
    "# HEAD http://localhost:9200/customers/_doc/wrong\n",
    "response = es.exists(index='customers', id='wrong')\n",
    "print(json.dumps(response.body, indent=4))"
   ]
  },
  {
   "cell_type": "markdown",
   "id": "17106d32",
   "metadata": {},
   "source": [
    "# Multi Get API"
   ]
  },
  {
   "cell_type": "markdown",
   "id": "5a28eef1",
   "metadata": {},
   "source": [
    "Elasticsearch provides a Multi Get API that allows you to retrieve multiple documents at once. This is useful when you need to fetch documents from different indices in a single API call."
   ]
  },
  {
   "cell_type": "markdown",
   "id": "fc829cfd",
   "metadata": {},
   "source": [
    "You can use the Multi Get API with the following RESTful API endpoints:"
   ]
  },
  {
   "cell_type": "code",
   "execution_count": null,
   "id": "fbf2d219",
   "metadata": {},
   "outputs": [],
   "source": [
    "POST /_mget\n",
    "POST /<index_name>/_mget"
   ]
  },
  {
   "cell_type": "markdown",
   "id": "9a928064",
   "metadata": {},
   "source": [
    "In these endpoints, <index_name> is the name of the index from which you want to retrieve documents. If you omit the <index_name>, Elasticsearch will retrieve documents from all indices."
   ]
  },
  {
   "cell_type": "markdown",
   "id": "892ffa17",
   "metadata": {},
   "source": [
    "The _mget endpoint accepts a request body that specifies the documents to retrieve. The request body should be a JSON object that contains an ids array, like this:"
   ]
  },
  {
   "cell_type": "code",
   "execution_count": null,
   "id": "e51c4e66",
   "metadata": {},
   "outputs": [],
   "source": [
    "{\n",
    "  \"ids\" : [\"1\", \"2\", \"3\", \"4\"]\n",
    "}"
   ]
  },
  {
   "cell_type": "markdown",
   "id": "b9655e9a",
   "metadata": {},
   "source": [
    "If you’re using <index_name>/_mget, then all IDs in the ids array will be retrieved from the specified index. If you’re using /_mget, you can specify the index for each ID in the ids array, like this:"
   ]
  },
  {
   "cell_type": "code",
   "execution_count": null,
   "id": "f2d568ef",
   "metadata": {},
   "outputs": [],
   "source": [
    "{\n",
    "  \"docs\" : [\n",
    "    {\n",
    "      \"_index\" : \"index1\",\n",
    "      \"_id\" : \"1\"\n",
    "    },\n",
    "    {\n",
    "      \"_index\" : \"index2\",\n",
    "      \"_id\" : \"2\"\n",
    "    }\n",
    "  ]\n",
    "}"
   ]
  },
  {
   "cell_type": "markdown",
   "id": "5ee17f6e",
   "metadata": {},
   "source": [
    "In this case, Elasticsearch will retrieve each document from the specified index."
   ]
  },
  {
   "cell_type": "markdown",
   "id": "33891962",
   "metadata": {},
   "source": [
    "The Multi Get API is a powerful tool that can significantly reduce the number of API calls you need to make when working with multiple documents across multiple indices."
   ]
  },
  {
   "cell_type": "markdown",
   "id": "3ecc15d2",
   "metadata": {},
   "source": [
    "Multiget Document"
   ]
  },
  {
   "cell_type": "code",
   "execution_count": null,
   "id": "c972c0e9",
   "metadata": {},
   "outputs": [],
   "source": [
    "# Multiget products\n",
    "# POST http://localhost:9200/products/_mget\n",
    "response = es.mget(index='products', body={\n",
    "    'ids': ['1', '2']\n",
    "})\n",
    "print(json.dumps(response.body, indent=4))"
   ]
  },
  {
   "cell_type": "markdown",
   "id": "e4be81cf",
   "metadata": {},
   "source": [
    "# Search API"
   ]
  },
  {
   "cell_type": "markdown",
   "id": "31ddae13",
   "metadata": {},
   "source": [
    "While the Get API is used for retrieving a single document using its _id, the Search API in Elasticsearch is used when you want to search for documents without knowing their _id. The Search API is quite complex, offering a wide range of querying and filtering options that allow you to perform full-text search, term-based search, and much more."
   ]
  },
  {
   "cell_type": "markdown",
   "id": "bb21df55",
   "metadata": {},
   "source": [
    "To use the Search API, you can use the following RESTful API endpoints:"
   ]
  },
  {
   "cell_type": "code",
   "execution_count": null,
   "id": "5c869051",
   "metadata": {},
   "outputs": [],
   "source": [
    "POST /_search\n",
    "POST /<index_name>/_search"
   ]
  },
  {
   "cell_type": "markdown",
   "id": "25a12f42",
   "metadata": {},
   "source": [
    "In these endpoints, <index_name> is the name of the index that you want to search in. If you don’t specify an index name, Elasticsearch will search all indices."
   ]
  },
  {
   "cell_type": "markdown",
   "id": "7046e435",
   "metadata": {},
   "source": [
    "The _search endpoint accepts a request body that defines the search query. This search query is written in Elasticsearch’s Query DSL (domain-specific language), which is a flexible and powerful language for defining queries."
   ]
  },
  {
   "cell_type": "markdown",
   "id": "5deab9ec",
   "metadata": {},
   "source": [
    "Here’s a simple example of a search query:"
   ]
  },
  {
   "cell_type": "code",
   "execution_count": null,
   "id": "c800a7e9",
   "metadata": {},
   "outputs": [],
   "source": [
    "{\n",
    "  \"query\": {\n",
    "    \"match\": {\n",
    "      \"field_name\": \"search term\"\n",
    "    }\n",
    "  }\n",
    "}"
   ]
  },
  {
   "cell_type": "markdown",
   "id": "f0204649",
   "metadata": {},
   "source": [
    "In this query, Elasticsearch will return documents where field_name matches the “search term”."
   ]
  },
  {
   "cell_type": "markdown",
   "id": "791cf2ff",
   "metadata": {},
   "source": [
    "It’s important to note that this is just the tip of the iceberg when it comes to the Search API. It supports a wide range of querying and filtering options, allowing you to perform complex searches on your data. More advanced features of the Search API will be covered in later discussions."
   ]
  },
  {
   "cell_type": "markdown",
   "id": "723d3f4d",
   "metadata": {},
   "source": [
    "Search Document"
   ]
  },
  {
   "cell_type": "code",
   "execution_count": null,
   "id": "63d739a8",
   "metadata": {},
   "outputs": [],
   "source": [
    "# Search products\n",
    "# POST http://localhost:9200/products/_search\n",
    "response = es.search(index='products', body={\n",
    "    \"query\": {\n",
    "    \"match\": {\n",
    "      \"price\": 10000\n",
    "    }\n",
    "  }\n",
    "})\n",
    "print(json.dumps(response.body, indent=4))"
   ]
  },
  {
   "cell_type": "markdown",
   "id": "fb1e2145",
   "metadata": {},
   "source": [
    "# Pagination"
   ]
  },
  {
   "cell_type": "markdown",
   "id": "9ec5ff45",
   "metadata": {},
   "source": [
    "When you are working with large amounts of data, it can be useful to break up the results of a search query into manageable chunks, or “pages”. Elasticsearch’s Search API supports pagination through the use of query parameters."
   ]
  },
  {
   "cell_type": "markdown",
   "id": "c857055c",
   "metadata": {},
   "source": [
    "There are two important parameters for pagination:"
   ]
  },
  {
   "cell_type": "markdown",
   "id": "c700c474",
   "metadata": {},
   "source": [
    "Here’s an example of how to use these parameters in a search query:"
   ]
  },
  {
   "cell_type": "code",
   "execution_count": null,
   "id": "cb85d010",
   "metadata": {},
   "outputs": [],
   "source": [
    "{\n",
    "  \"from\" : 0, \"size\" : 20,\n",
    "  \"query\": {\n",
    "    \"match\": {\n",
    "      \"field_name\": \"search term\"\n",
    "    }\n",
    "  }\n",
    "}"
   ]
  },
  {
   "cell_type": "markdown",
   "id": "0c524cd2",
   "metadata": {},
   "source": [
    "In this example, Elasticsearch will return the first 20 documents that match the search term. If you want to get the next 20 documents, you can change from to 20:"
   ]
  },
  {
   "cell_type": "code",
   "execution_count": null,
   "id": "60d53971",
   "metadata": {},
   "outputs": [],
   "source": [
    "{\n",
    "  \"from\" : 20, \"size\" : 20,\n",
    "  \"query\": {\n",
    "    \"match\": {\n",
    "      \"field_name\": \"search term\"\n",
    "    }\n",
    "  }\n",
    "}"
   ]
  },
  {
   "cell_type": "markdown",
   "id": "bfea09fe",
   "metadata": {},
   "source": [
    "This way, you can navigate through the search results page by page. It’s important to note that the maximum value of from + size is 10000 by default. If you need to handle more data, you need to use the scroll API or increase this limit."
   ]
  },
  {
   "cell_type": "markdown",
   "id": "4b5533f2",
   "metadata": {},
   "source": [
    "Search Document dengan Pagination"
   ]
  },
  {
   "cell_type": "code",
   "execution_count": null,
   "id": "94066379",
   "metadata": {},
   "outputs": [],
   "source": [
    "# Search products page 1\n",
    "# POST http://localhost:9200/products/_search?size=1&from=0\n",
    "response = es.search(index='products', body={\n",
    "    'size': 1,\n",
    "    'from': 0\n",
    "})\n",
    "print(json.dumps(response.body, indent=4))"
   ]
  },
  {
   "cell_type": "code",
   "execution_count": null,
   "id": "f46843a5",
   "metadata": {},
   "outputs": [],
   "source": [
    "# Search products page 2\n",
    "# POST http://localhost:9200/products/_search?size=1&from=1\n",
    "response = es.search(index='products', body={\n",
    "    'size': 1,\n",
    "    'from': 1\n",
    "})\n",
    "print(json.dumps(response.body, indent=4))"
   ]
  },
  {
   "cell_type": "markdown",
   "id": "f090105b",
   "metadata": {},
   "source": [
    "# Sorting"
   ]
  },
  {
   "cell_type": "markdown",
   "id": "a81195ae",
   "metadata": {},
   "source": [
    "The Search API in Elasticsearch also supports sorting of the search results. This is done using the sort query parameter."
   ]
  },
  {
   "cell_type": "markdown",
   "id": "e07b4edf",
   "metadata": {},
   "source": [
    "The sort parameter’s value is defined as:"
   ]
  },
  {
   "cell_type": "code",
   "execution_count": null,
   "id": "b466601d",
   "metadata": {},
   "outputs": [],
   "source": [
    "<field>:<direction>"
   ]
  },
  {
   "cell_type": "markdown",
   "id": "c6ee7166",
   "metadata": {},
   "source": [
    "In this, <field> is the name of the field you want to sort by and <direction> can be either asc (for ascending order) or desc (for descending order)."
   ]
  },
  {
   "cell_type": "markdown",
   "id": "47278083",
   "metadata": {},
   "source": [
    "For example, if you have a timestamp field in your documents and you want to sort the results in descending order of timestamp, you can do this:"
   ]
  },
  {
   "cell_type": "code",
   "execution_count": null,
   "id": "1e7d4692",
   "metadata": {},
   "outputs": [],
   "source": [
    "{\n",
    "  \"query\": {\n",
    "    \"match\": {\n",
    "      \"field_name\": \"search term\"\n",
    "    }\n",
    "  },\n",
    "  \"sort\" : [\n",
    "    { \"timestamp\" : {\"order\" : \"desc\"}}\n",
    "  ]\n",
    "}"
   ]
  },
  {
   "cell_type": "markdown",
   "id": "e635fb74",
   "metadata": {},
   "source": [
    "If you need to sort by more than one field, you can specify multiple fields separated by commas. The sorting will be applied in the order you specify. For example:"
   ]
  },
  {
   "cell_type": "code",
   "execution_count": null,
   "id": "df24a8f5",
   "metadata": {},
   "outputs": [],
   "source": [
    "{\n",
    "  \"query\": {\n",
    "    \"match\": {\n",
    "      \"field_name\": \"search term\"\n",
    "    }\n",
    "  },\n",
    "  \"sort\" : [\n",
    "    { \"field1\" : {\"order\" : \"asc\"}},\n",
    "    { \"field2\" : {\"order\" : \"desc\"}},\n",
    "    { \"field3\" : {\"order\" : \"asc\"}}\n",
    "  ]\n",
    "}"
   ]
  },
  {
   "cell_type": "markdown",
   "id": "357a0bc4",
   "metadata": {},
   "source": [
    "In this example, Elasticsearch first sorts the documents in ascending order by field1. For documents where field1 is the same, it then sorts in descending order by field2, and so on. This way, you can fine-tune the order of your search results to meet your needs."
   ]
  },
  {
   "cell_type": "markdown",
   "id": "0cb099dc",
   "metadata": {},
   "source": [
    "Search Document dengan Sorting"
   ]
  },
  {
   "cell_type": "code",
   "execution_count": null,
   "id": "e48f73e7",
   "metadata": {},
   "outputs": [],
   "source": [
    "# Search products sort by price\n",
    "# POST http://localhost:9200/products/_search?sort=price:asc\n",
    "response = es.search(index='products', body={\n",
    "    'sort': {\n",
    "        'price': 'asc'\n",
    "    }\n",
    "})\n",
    "print(json.dumps(response.body, indent=4))"
   ]
  },
  {
   "cell_type": "code",
   "execution_count": null,
   "id": "1a747231",
   "metadata": {},
   "outputs": [],
   "source": [
    "# Search products sort by name\n",
    "# POST http://localhost:9200/products/_search?sort=name:asc\n",
    "response = es.search(index='products', body={\n",
    "    'sort': [\n",
    "        { 'name.keyword': 'asc' }\n",
    "    ]\n",
    "})\n",
    "print(json.dumps(response.body, indent=4))"
   ]
  },
  {
   "cell_type": "markdown",
   "id": "410296cc",
   "metadata": {},
   "source": [
    "# Index API"
   ]
  },
  {
   "cell_type": "markdown",
   "id": "834d2ca7",
   "metadata": {},
   "source": [
    "In the past, the Index API was commonly used to create documents in Elasticsearch, but in newer versions, the Create API is often used instead. However, the Index API still has its uses."
   ]
  },
  {
   "cell_type": "markdown",
   "id": "8b0d568b",
   "metadata": {},
   "source": [
    "The Index API has a “create or replace” nature. This means that if a document with the specified ID does not exist, it will be created. If a document with the specified ID already exists, the existing document will be replaced (deleted and created anew) with the new document."
   ]
  },
  {
   "cell_type": "markdown",
   "id": "64d02669",
   "metadata": {},
   "source": [
    "This is a key difference between the Index API and the Create API. With the Create API, if a document with the specified ID already exists, an error conflict will occur. With the Index API, no such error will occur, and the existing document will simply be replaced."
   ]
  },
  {
   "cell_type": "markdown",
   "id": "ae0935dc",
   "metadata": {},
   "source": [
    "To use the Index API, you can use the following RESTful API command:"
   ]
  },
  {
   "cell_type": "code",
   "execution_count": null,
   "id": "2bb401a8",
   "metadata": {},
   "outputs": [],
   "source": [
    "POST /<index_name>/_doc/<id>\n",
    "PUT /<index_name>/_doc/<id>"
   ]
  },
  {
   "cell_type": "markdown",
   "id": "b8ac13b2",
   "metadata": {},
   "source": [
    "Here, <index_name> is the name of the index where you want to create or replace the document, and <id> is the ID of the document."
   ]
  },
  {
   "cell_type": "markdown",
   "id": "a5b71c64",
   "metadata": {},
   "source": [
    "In the body of the request, you would include the full content of the new document you want to create or replace. For example:"
   ]
  },
  {
   "cell_type": "code",
   "execution_count": null,
   "id": "a83059ee",
   "metadata": {},
   "outputs": [],
   "source": [
    "PUT /my_index/_doc/1\n",
    "{\n",
    "  \"field1\": \"value1\",\n",
    "  \"field2\": \"value2\"\n",
    "}"
   ]
  },
  {
   "cell_type": "markdown",
   "id": "c823f058",
   "metadata": {},
   "source": [
    "In this example, a document with ID 1 and the specified fields and values will be created in my_index. If a document with ID 1 already exists, it will be replaced with the new document."
   ]
  },
  {
   "cell_type": "markdown",
   "id": "412c211b",
   "metadata": {},
   "source": [
    "Index Document"
   ]
  },
  {
   "cell_type": "code",
   "execution_count": null,
   "id": "c9993710",
   "metadata": {},
   "outputs": [],
   "source": [
    "# Save product 3\n",
    "# POST http://localhost:9200/products/_doc/3\n",
    "response = es.index(index='products', id='3', body={\n",
    "    'name': 'Product 3',\n",
    "    'price': 30000,\n",
    "})\n",
    "print(json.dumps(response.body, indent=4))\n",
    "\n",
    "# Save product 4\n",
    "# POST http://localhost:9200/products/_doc/4\n",
    "response = es.index(index='products', id='4', body={\n",
    "    'name': 'Product 4',\n",
    "    'price': 40000,\n",
    "})\n",
    "print(json.dumps(response.body, indent=4))\n",
    "\n",
    "# Save product 5\n",
    "# POST http://localhost:9200/products/_doc/5\n",
    "response = es.index(index='products', id='5', body={\n",
    "    'name': 'Product 5',\n",
    "    'price': 50000,\n",
    "})\n",
    "print(json.dumps(response.body, indent=4))"
   ]
  },
  {
   "cell_type": "markdown",
   "id": "3b5a40f2",
   "metadata": {},
   "source": [
    "# Choose Create API or Index API?"
   ]
  },
  {
   "cell_type": "markdown",
   "id": "afdba55e",
   "metadata": {},
   "source": [
    "Your choice between Create API and Index API depends on your needs:"
   ]
  },
  {
   "cell_type": "markdown",
   "id": "7f4d0b0a",
   "metadata": {},
   "source": [
    "Index API: This is the most common choice among programmers because it’s safe from conflicts if a document with the same ID already exists in Elasticsearch. The Index API will replace the existing document, rather than producing an error."
   ]
  },
  {
   "cell_type": "markdown",
   "id": "2239c63a",
   "metadata": {},
   "source": [
    "Create API: Use this if you don’t want to replace an existing document. If a document with the same ID already exists, the Create API will produce an error. To prevent this, it’s recommended to use the Get API first to check if the document already exists."
   ]
  },
  {
   "cell_type": "markdown",
   "id": "52decc2f",
   "metadata": {},
   "source": [
    "# Update API"
   ]
  },
  {
   "cell_type": "markdown",
   "id": "8de4973b",
   "metadata": {},
   "source": [
    "The Index API behaves much like a strict librarian. Upon an update, it replaces the old document entirely, demanding all attributes anew. If you only submit the updated attribute, it overwrites the rest, potentially causing data loss."
   ]
  },
  {
   "cell_type": "markdown",
   "id": "83ac6d98",
   "metadata": {},
   "source": [
    "Need to tweak a few attributes without a full rewrite? Use the Update API, your friendly editor:"
   ]
  },
  {
   "cell_type": "code",
   "execution_count": null,
   "id": "a9c388e6",
   "metadata": {},
   "outputs": [],
   "source": [
    "POST /<index_name>/_update/<id>"
   ]
  },
  {
   "cell_type": "markdown",
   "id": "0c6a629a",
   "metadata": {},
   "source": [
    "But beware, if the document doesn’t exist, Elasticsearch returns a 404 Not Found error. Always check your document’s existence before updating."
   ]
  },
  {
   "cell_type": "markdown",
   "id": "01fee408",
   "metadata": {},
   "source": [
    "Update Document"
   ]
  },
  {
   "cell_type": "code",
   "execution_count": null,
   "id": "2e3eddc7",
   "metadata": {},
   "outputs": [],
   "source": [
    "# Update product 5\n",
    "# POST http://localhost:9200/products/_update/5\n",
    "response = es.update(index='products', id='5', body={\n",
    "    'doc': {\n",
    "        'price': 50000000\n",
    "    }\n",
    "})\n",
    "print(json.dumps(response.body, indent=4))\n",
    "\n",
    "# Get product 5\n",
    "response = es.get(index='products', id='5')\n",
    "print(json.dumps(response.body, indent=4))"
   ]
  },
  {
   "cell_type": "markdown",
   "id": "47010ea3",
   "metadata": {},
   "source": [
    "# Delete API"
   ]
  },
  {
   "cell_type": "markdown",
   "id": "48ca2b19",
   "metadata": {},
   "source": [
    "To remove a document, the Delete API is your digital shredder. Utilize it through this RESTful API command:"
   ]
  },
  {
   "cell_type": "code",
   "execution_count": null,
   "id": "e086b1cc",
   "metadata": {},
   "outputs": [],
   "source": [
    "DELETE /<index_name>/_doc/<id>"
   ]
  },
  {
   "cell_type": "markdown",
   "id": "3d762756",
   "metadata": {},
   "source": [
    "But remember, if you attempt to delete a document that doesn’t exist, Elasticsearch will return a 404 Not Found error. Always make sure the document is in your collection before trying to remove it."
   ]
  },
  {
   "cell_type": "markdown",
   "id": "a558ff06",
   "metadata": {},
   "source": [
    "Insert Spammer"
   ]
  },
  {
   "cell_type": "code",
   "execution_count": null,
   "id": "fb7d6da7",
   "metadata": {},
   "outputs": [],
   "source": [
    "# Insert customer spammer\n",
    "# POST http://localhost:9200/customers/_create/spammer\n",
    "response = es.index(index='customers', id='spammer', body={\n",
    "    'name': 'Spammer',\n",
    "    'register_at': '2023-12-06 00:00:00',\n",
    "})\n",
    "print(json.dumps(response.body, indent=4))\n",
    "\n",
    "# Get customer spammer\n",
    "response = es.get_source(index='customers', id='spammer')\n",
    "print(json.dumps(response.body, indent=4))"
   ]
  },
  {
   "cell_type": "markdown",
   "id": "4ea52852",
   "metadata": {},
   "source": [
    "Delete Spammer"
   ]
  },
  {
   "cell_type": "code",
   "execution_count": null,
   "id": "bea34770",
   "metadata": {},
   "outputs": [],
   "source": [
    "# Delete customer spammer\n",
    "# DELETE http://localhost:9200/customers/_doc/spammer\n",
    "response = es.delete(index='customers', id='spammer', ignore=[404])\n",
    "print(json.dumps(response.body, indent=4))\n",
    "\n",
    "# Get customer spammer\n",
    "response = es.get_source(index='customers', id='spammer', ignore=[404])\n",
    "print(json.dumps(response.body, indent=4))"
   ]
  },
  {
   "cell_type": "markdown",
   "id": "fdbd61a3",
   "metadata": {},
   "source": [
    "# Bulk API"
   ]
  },
  {
   "cell_type": "markdown",
   "id": "390b6248",
   "metadata": {},
   "source": [
    "When dealing with many operations in Elasticsearch, the Bulk API shines by speeding up the process instead of manually handling each operation. The Bulk API bundles various operations together, including create, index, update, or delete. To use the Bulk API, apply the following RESTful API commands:"
   ]
  },
  {
   "cell_type": "code",
   "execution_count": null,
   "id": "c973c24c",
   "metadata": {},
   "outputs": [],
   "source": [
    "POST /_bulk\n",
    "POST /<index_name>/_bulk"
   ]
  },
  {
   "cell_type": "markdown",
   "id": "3a102085",
   "metadata": {},
   "source": [
    "This allows more efficient handling of large volumes of operations."
   ]
  },
  {
   "cell_type": "markdown",
   "id": "611939d6",
   "metadata": {},
   "source": [
    "Format Request Body untuk Bulk API"
   ]
  },
  {
   "cell_type": "code",
   "execution_count": null,
   "id": "d5a29514",
   "metadata": {},
   "outputs": [],
   "source": [
    "action_and_meta_data\\n\n",
    "optional_source\\n\n",
    "action_and_meta_data\\n\n",
    "optional_source\\n\n",
    "....\n",
    "action_and_meta_data\\n\n",
    "optional_source\\n"
   ]
  },
  {
   "cell_type": "markdown",
   "id": "e3c448b2",
   "metadata": {},
   "source": [
    "Bulk Document"
   ]
  },
  {
   "cell_type": "code",
   "execution_count": null,
   "id": "918b3c27",
   "metadata": {},
   "outputs": [],
   "source": [
    "# Bulk documents\n",
    "# POST http://localhost:9200/_bulk\n",
    "response = es.bulk(body=[\n",
    "    {'create': {'_index': 'customers', '_id': 'dina'}},\n",
    "    {'name': 'Dina', 'register_at': '2023-11-30 00:00:00'},\n",
    "    {'index': {'_index': 'customers', '_id': 'yuni'}},\n",
    "    {'name': 'Yuni', 'register_at': '2023-11-30 00:00:00'},\n",
    "    {'update': {'_index': 'products', '_id': '1'}},\n",
    "    {'doc': {'price': 250000}},\n",
    "    {'create': {'_index': 'customers', '_id': 'spammer'}},\n",
    "    {'name': 'Spammer', 'register_at': '2023-12-06 00:00:00'},\n",
    "    {'delete': {'_index': 'customers', '_id': 'spammer'}},\n",
    "])\n",
    "print(json.dumps(response.body, indent=4))"
   ]
  },
  {
   "cell_type": "code",
   "execution_count": null,
   "id": "d0ebc215",
   "metadata": {},
   "outputs": [],
   "source": [
    "# Get document dina\n",
    "# GET http://localhost:9200/customers/_doc/dina\n",
    "response = es.get(index='customers', id='dina')\n",
    "print(json.dumps(response.body, indent=4))\n",
    "\n",
    "# Get document yuni\n",
    "# GET http://localhost:9200/customers/_doc/yuni\n",
    "response = es.get(index='customers', id='yuni')\n",
    "print(json.dumps(response.body, indent=4))\n",
    "\n",
    "# Get document spammer\n",
    "# GET http://localhost:9200/customers/_doc/spammer\n",
    "response = es.get(index='customers', id='spammer', ignore=[404])\n",
    "print(json.dumps(response.body, indent=4))\n",
    "\n",
    "# Get document product 1\n",
    "# GET http://localhost:9200/products/_doc/1\n",
    "response = es.get(index='products', id='1')\n",
    "print(json.dumps(response.body, indent=4))"
   ]
  }
 ],
 "metadata": {},
 "nbformat": 4,
 "nbformat_minor": 5
}
