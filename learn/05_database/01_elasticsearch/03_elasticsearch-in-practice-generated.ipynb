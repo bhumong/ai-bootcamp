{
 "cells": [
  {
   "cell_type": "markdown",
   "id": "f0ef65f5",
   "metadata": {},
   "source": [
    "source: [link](https://ai-bootcamp.ruangguru.com/learn/05_database/01_elasticsearch/03_elasticsearch-in-practice.html)"
   ]
  },
  {
   "cell_type": "markdown",
   "id": "31f3e890",
   "metadata": {},
   "source": [
    "# Elasticsearch In Practice"
   ]
  },
  {
   "cell_type": "markdown",
   "id": "bbbef95a",
   "metadata": {},
   "source": []
  },
  {
   "cell_type": "markdown",
   "id": "bdf486fe",
   "metadata": {},
   "source": [
    "![Image](https://storage.googleapis.com/rg-ai-bootcamp/database/elasticsearch-min.png)"
   ]
  },
  {
   "cell_type": "markdown",
   "id": "67fce414",
   "metadata": {},
   "source": [
    "Elasticsearch (Source: technocratsid.com)"
   ]
  },
  {
   "cell_type": "markdown",
   "id": "60a21dec",
   "metadata": {},
   "source": [
    "# Index"
   ]
  },
  {
   "cell_type": "markdown",
   "id": "c833db78",
   "metadata": {},
   "source": [
    "As mentioned earlier, Elasticsearch doesn’t have a concept like a database; thus, we can create an index (or table) directly. But how do we use Elasticsearch for more than one application? A common practice is to prefix the index name with the application’s name, for example: applicationname_indexname. This way, index names do not conflict between applications."
   ]
  },
  {
   "cell_type": "markdown",
   "id": "436c30fb",
   "metadata": {},
   "source": [
    "# Creating an Index"
   ]
  },
  {
   "cell_type": "markdown",
   "id": "cb16b262",
   "metadata": {},
   "source": [
    "To create an Index, we can make an HTTP call like so:"
   ]
  },
  {
   "cell_type": "code",
   "execution_count": null,
   "id": "53dff2e4",
   "metadata": {},
   "outputs": [],
   "source": [
    "PUT /{index_name}"
   ]
  },
  {
   "cell_type": "markdown",
   "id": "39055456",
   "metadata": {},
   "source": [
    "The rules for index names are as follows:"
   ]
  },
  {
   "cell_type": "markdown",
   "id": "8b705d80",
   "metadata": {},
   "source": [
    "- They must be lowercase.\n",
    "- No special characters are allowed, except for -, +, and _, but these cannot be at the start.\n",
    "- They cannot be longer than 255 bytes."
   ]
  },
  {
   "cell_type": "markdown",
   "id": "fb586035",
   "metadata": {},
   "source": [
    "By creating unique index names, you ensure that data from different applications is stored separately and can be queried independently."
   ]
  },
  {
   "cell_type": "markdown",
   "id": "839a1c7f",
   "metadata": {},
   "source": [
    "Before we start practicing, install the elasticsearch package"
   ]
  },
  {
   "cell_type": "code",
   "execution_count": null,
   "id": "3f57f56b",
   "metadata": {},
   "outputs": [],
   "source": [
    "%pip install elasticsearch"
   ]
  },
  {
   "cell_type": "markdown",
   "id": "55d37445",
   "metadata": {},
   "source": [
    "import the packages we need"
   ]
  },
  {
   "cell_type": "code",
   "execution_count": null,
   "id": "e6693f60",
   "metadata": {},
   "outputs": [],
   "source": [
    "from elasticsearch import Elasticsearch\n",
    "import time\n",
    "import json"
   ]
  },
  {
   "cell_type": "markdown",
   "id": "30391429",
   "metadata": {},
   "source": [
    "Create a connection to elasticsearch, make sure elasticsearch is running on your computer’s localhost or is running on Google Collab."
   ]
  },
  {
   "cell_type": "code",
   "execution_count": null,
   "id": "4a30a1ec",
   "metadata": {},
   "outputs": [],
   "source": [
    "es = Elasticsearch([{'host': 'localhost', 'port': 9200, 'scheme': 'http'}])"
   ]
  },
  {
   "cell_type": "markdown",
   "id": "48bbd371",
   "metadata": {},
   "source": [
    "Creating an Index"
   ]
  },
  {
   "cell_type": "code",
   "execution_count": null,
   "id": "fac27082",
   "metadata": {},
   "outputs": [],
   "source": [
    "# Create index customers\n",
    "# PUT http://localhost:9200/customers\n",
    "response = es.options(ignore_status=[400]).indices.create(index='customers')\n",
    "print(json.dumps(response.body, indent=4))"
   ]
  },
  {
   "cell_type": "code",
   "execution_count": null,
   "id": "2de8d6a4",
   "metadata": {},
   "outputs": [],
   "source": [
    "# Create index products\n",
    "# PUT http://localhost:9200/products\n",
    "response = es.options(ignore_status=[400]).indices.create(index='products')\n",
    "print(json.dumps(response.body, indent=4))"
   ]
  },
  {
   "cell_type": "code",
   "execution_count": null,
   "id": "c51fe8cd",
   "metadata": {},
   "outputs": [],
   "source": [
    "# Create index orders\n",
    "# PUT http://localhost:9200/orders\n",
    "response = es.options(ignore_status=[400]).indices.create(index='orders')\n",
    "print(json.dumps(response.body, indent=4))"
   ]
  },
  {
   "cell_type": "code",
   "execution_count": null,
   "id": "9c3c71c6",
   "metadata": {},
   "outputs": [],
   "source": [
    "# Get All Indexes\n",
    "# GET http://localhost:9200/_cat/indices?v\n",
    "response = es.cat.indices(v=True)\n",
    "print(response)"
   ]
  },
  {
   "cell_type": "markdown",
   "id": "f6c2f719",
   "metadata": {},
   "source": [
    "# Deleting an Index"
   ]
  },
  {
   "cell_type": "markdown",
   "id": "ec45060e",
   "metadata": {},
   "source": [
    "To delete an index that you’ve created, you can simply use the DELETE HTTP method. Deleting an index will automatically remove all data associated with that index. Here’s how you can do it:"
   ]
  },
  {
   "cell_type": "code",
   "execution_count": null,
   "id": "61e8f794",
   "metadata": {},
   "outputs": [],
   "source": [
    "DELETE /{index_name}"
   ]
  },
  {
   "cell_type": "markdown",
   "id": "06fbc23a",
   "metadata": {},
   "source": [
    "Just replace {index_name} with the name of the index you wish to delete. But be careful, this operation is irreversible. Once an index is deleted, all the data within it is permanently lost unless you have a backup or recovery mechanism in place."
   ]
  },
  {
   "cell_type": "markdown",
   "id": "82532fab",
   "metadata": {},
   "source": [
    "Delete Index"
   ]
  },
  {
   "cell_type": "code",
   "execution_count": null,
   "id": "0d016d56",
   "metadata": {},
   "outputs": [],
   "source": [
    "# Delete index customers\n",
    "# DELETE http://localhost:9200/customers\n",
    "response = es.options(ignore_status=[400, 404]).indices.delete(index='customers')\n",
    "print(json.dumps(response.body, indent=4))"
   ]
  },
  {
   "cell_type": "code",
   "execution_count": null,
   "id": "627b38bc",
   "metadata": {},
   "outputs": [],
   "source": [
    "# Delete index products\n",
    "# DELETE http://localhost:9200/products\n",
    "response = es.options(ignore_status=[400, 404]).indices.delete(index='products')\n",
    "print(json.dumps(response.body, indent=4))"
   ]
  },
  {
   "cell_type": "code",
   "execution_count": null,
   "id": "5b71b014",
   "metadata": {},
   "outputs": [],
   "source": [
    "# Delete index orders\n",
    "# DELETE http://localhost:9200/orders\n",
    "response = es.options(ignore_status=[400, 404]).indices.delete(index='orders')\n",
    "print(json.dumps(response.body, indent=4))"
   ]
  },
  {
   "cell_type": "code",
   "execution_count": null,
   "id": "1ffa2b14",
   "metadata": {},
   "outputs": [],
   "source": [
    "# Get All Indexes\n",
    "# GET http://localhost:9200/_cat/indices?v\n",
    "response = es.cat.indices(v=True)\n",
    "print(response)"
   ]
  },
  {
   "cell_type": "markdown",
   "id": "0ab8830f",
   "metadata": {},
   "source": [
    "# Dynamic Mapping in Elasticsearch"
   ]
  },
  {
   "cell_type": "markdown",
   "id": "77720066",
   "metadata": {},
   "source": [
    "In Elasticsearch, defining the schema of an index is known as mapping. By default, a feature called Dynamic Mapping is enabled, where Elasticsearch auto-detects the data type of each JSON attribute and creates a mapping accordingly."
   ]
  },
  {
   "cell_type": "markdown",
   "id": "8002314a",
   "metadata": {},
   "source": [
    "While convenient, it’s generally recommended to manually create mappings for better control over data indexing and querying. This ensures proper interpretation and storage of your data."
   ]
  },
  {
   "cell_type": "markdown",
   "id": "b82a566d",
   "metadata": {},
   "source": [
    "# Dynamic Field Mapping"
   ]
  },
  {
   "cell_type": "markdown",
   "id": "888442b0",
   "metadata": {},
   "source": [
    "This feature auto-detects the data type of a field in a JSON document and assigns a corresponding Elasticsearch data type:"
   ]
  },
  {
   "cell_type": "markdown",
   "id": "a6efbbda",
   "metadata": {},
   "source": [
    "| JSON Data Type | Elasticsearch Data Type |\n",
    "| --- | --- |\n",
    "| null | No field added |\n",
    "| true / false | boolean |\n",
    "| double | float |\n",
    "| long | long |\n",
    "| array | Depends on the first data item type |\n",
    "| string | date, float, long, text (auto-detected) |"
   ]
  },
  {
   "cell_type": "markdown",
   "id": "fdf114fa",
   "metadata": {},
   "source": [
    "# Date Detection"
   ]
  },
  {
   "cell_type": "markdown",
   "id": "1619b57d",
   "metadata": {},
   "source": [
    "By default, Elasticsearch detects if a string data is in a date format and assigns it a date data type using the format yyyy/MM/dd HH:mm:ss. This feature is active by default but can be deactivated by setting the date_detection attribute in the mapping to false. The date format can be changed by adjusting the dynamic_date_formats attribute in the mapping."
   ]
  },
  {
   "cell_type": "markdown",
   "id": "84dfe27e",
   "metadata": {},
   "source": [
    "Update Dynamic Mapping for Date"
   ]
  },
  {
   "cell_type": "code",
   "execution_count": null,
   "id": "65812224",
   "metadata": {},
   "outputs": [],
   "source": [
    "# Update customers mapping\n",
    "# PUT http://localhost:9200/customers/_mapping\n",
    "response = es.indices.put_mapping(index='customers', body={\n",
    "    'properties': {\n",
    "        'date': {\n",
    "            'type': 'date',\n",
    "            'format': 'yyyy-MM-dd HH:mm:ss||yyyy-MM-dd||yyyy/MM/dd HH:mm:ss||yyyy/MM/dd'\n",
    "        },\n",
    "        'register_at': {\n",
    "            'type': 'date',\n",
    "            'format': 'yyyy-MM-dd HH:mm:ss||yyyy-MM-dd||yyyy/MM/dd HH:mm:ss||yyyy/MM/dd'\n",
    "        }\n",
    "    }\n",
    "})\n",
    "print(json.dumps(response.body, indent=4))\n",
    "\n",
    "# Get Mapping\n",
    "# GET http://localhost:9200/customers/_mapping\n",
    "response = es.indices.get_mapping(index='customers')\n",
    "print(json.dumps(response.body, indent=4))"
   ]
  },
  {
   "cell_type": "code",
   "execution_count": null,
   "id": "573daee2",
   "metadata": {},
   "outputs": [],
   "source": [
    "# Update products mapping\n",
    "# PUT http://localhost:9200/products/_mapping\n",
    "response = es.indices.put_mapping(index='products', body={\n",
    "    'properties': {\n",
    "        'date': {\n",
    "            'type': 'date',\n",
    "            'format': 'yyyy-MM-dd HH:mm:ss||yyyy-MM-dd||yyyy/MM/dd HH:mm:ss||yyyy/MM/dd'\n",
    "        }\n",
    "    }\n",
    "})\n",
    "print(json.dumps(response.body, indent=4))\n",
    "\n",
    "# Get Mapping\n",
    "# GET http://localhost:9200/products/_mapping\n",
    "response = es.indices.get_mapping(index='products')\n",
    "print(json.dumps(response.body, indent=4))"
   ]
  },
  {
   "cell_type": "code",
   "execution_count": null,
   "id": "b5a3f723",
   "metadata": {},
   "outputs": [],
   "source": [
    "# Update orders mapping\n",
    "# PUT http://localhost:9200/orders/_mapping\n",
    "response = es.indices.put_mapping(index='orders', body={\n",
    "    'properties': {\n",
    "        'date': {\n",
    "            'type': 'date',\n",
    "            'format': 'yyyy-MM-dd HH:mm:ss||yyyy-MM-dd||yyyy/MM/dd HH:mm:ss||yyyy/MM/dd'\n",
    "        }\n",
    "    }\n",
    "})\n",
    "print(json.dumps(response.body, indent=4))\n",
    "\n",
    "# Get Mapping\n",
    "# GET http://localhost:9200/orders/_mapping\n",
    "response = es.indices.get_mapping(index='orders')\n",
    "print(json.dumps(response.body, indent=4))"
   ]
  },
  {
   "cell_type": "markdown",
   "id": "5046c691",
   "metadata": {},
   "source": [
    "# Number Detection"
   ]
  },
  {
   "cell_type": "markdown",
   "id": "1cef6b0c",
   "metadata": {},
   "source": [
    "Although JSON has a number data type, sometimes users send numbers in a string format, such as “100” or “12.12”. In these cases, Elasticsearch may need to detect and convert these string-formatted numbers to actual number data types (long or float)."
   ]
  },
  {
   "cell_type": "markdown",
   "id": "a227f23b",
   "metadata": {},
   "source": [
    "By default, automatic number detection is not active in Elasticsearch. If you want to activate it, you need to change the numeric_detection attribute in the mapping to true."
   ]
  },
  {
   "cell_type": "markdown",
   "id": "bbd327ce",
   "metadata": {},
   "source": [
    "If a mapping for a certain attribute is not yet available, Elasticsearch will automatically try to convert the data to a number type (either long or float). If the conversion is successful, Elasticsearch will use the corresponding number data type for the field."
   ]
  },
  {
   "cell_type": "code",
   "execution_count": null,
   "id": "e69ef8b0",
   "metadata": {},
   "outputs": [],
   "source": [
    "# Update customers mapping\n",
    "# PUT http://localhost:9200/customers/_mapping\n",
    "response = es.indices.put_mapping(index='customers', body={\n",
    "    'numeric_detection': True\n",
    "})\n",
    "print(json.dumps(response.body, indent=4))\n",
    "\n",
    "# Get Mapping\n",
    "# GET http://localhost:9200/customers/_mapping\n",
    "response = es.indices.get_mapping(index='customers')\n",
    "print(json.dumps(response.body, indent=4))"
   ]
  },
  {
   "cell_type": "code",
   "execution_count": null,
   "id": "9c89e8ca",
   "metadata": {},
   "outputs": [],
   "source": [
    "# Update products mapping\n",
    "# PUT http://localhost:9200/products/_mapping\n",
    "response = es.indices.put_mapping(index='products', body={\n",
    "    'numeric_detection': True\n",
    "})\n",
    "print(json.dumps(response.body, indent=4))\n",
    "\n",
    "# Get Mapping\n",
    "# GET http://localhost:9200/products/_mapping\n",
    "response = es.indices.get_mapping(index='products')\n",
    "print(json.dumps(response.body, indent=4))"
   ]
  },
  {
   "cell_type": "code",
   "execution_count": null,
   "id": "bc1afd2f",
   "metadata": {},
   "outputs": [],
   "source": [
    "# Update orders mapping\n",
    "# PUT http://localhost:9200/orders/_mapping\n",
    "response = es.indices.put_mapping(index='orders', body={\n",
    "    'numeric_detection': True\n",
    "})\n",
    "print(json.dumps(response.body, indent=4))\n",
    "\n",
    "# Get Mapping\n",
    "# GET http://localhost:9200/orders/_mapping\n",
    "response = es.indices.get_mapping(index='orders')\n",
    "print(json.dumps(response.body, indent=4))"
   ]
  },
  {
   "cell_type": "markdown",
   "id": "5bb24a1c",
   "metadata": {},
   "source": [
    "# Create API"
   ]
  },
  {
   "cell_type": "markdown",
   "id": "772a2558",
   "metadata": {},
   "source": [
    "The Create API is used to add new data to Elasticsearch."
   ]
  },
  {
   "cell_type": "markdown",
   "id": "36a4058d",
   "metadata": {},
   "source": [
    "The Create API has a “save” operation, which means it will only create a new document if a document with the provided _id does not already exist. Attempting to create a document with an _id that already exists will result in a conflict error."
   ]
  },
  {
   "cell_type": "markdown",
   "id": "ae68434a",
   "metadata": {},
   "source": [
    "To use the Create API, you use either the POST or PUT HTTP method with the following endpoint:"
   ]
  },
  {
   "cell_type": "code",
   "execution_count": null,
   "id": "f46b79e2",
   "metadata": {},
   "outputs": [],
   "source": [
    "POST/PUT /<index_name>/_create/<id>"
   ]
  },
  {
   "cell_type": "markdown",
   "id": "7d500db3",
   "metadata": {},
   "source": [
    "Here, <index_name> is the name of the index where you want to create the document, and <id> is the unique identifier you want to assign to the new document. If the document is successfully created, Elasticsearch will return a confirmation response."
   ]
  },
  {
   "cell_type": "markdown",
   "id": "b8d3cd05",
   "metadata": {},
   "source": [
    "Create Customer"
   ]
  },
  {
   "cell_type": "code",
   "execution_count": null,
   "id": "05317125",
   "metadata": {},
   "outputs": [],
   "source": [
    "# Insert customers aditira\n",
    "# POST http://localhost:9200/customers/_create/aditira\n",
    "response = es.index(index='customers', id='aditira', body={\n",
    "    'name': 'Aditira Jamhuri',\n",
    "    'register_at': '2023-11-30 00:00:00',\n",
    "})\n",
    "print(json.dumps(response.body, indent=4))\n",
    "\n",
    "# Get Mapping\n",
    "# GET http://localhost:9200/customers/_mapping\n",
    "response = es.indices.get_mapping(index='customers')\n",
    "print(json.dumps(response.body, indent=4))"
   ]
  },
  {
   "cell_type": "markdown",
   "id": "231bf608",
   "metadata": {},
   "source": [
    "Create Product"
   ]
  },
  {
   "cell_type": "code",
   "execution_count": null,
   "id": "a67e1fe5",
   "metadata": {},
   "outputs": [],
   "source": [
    "# Insert products 1\n",
    "# POST http://localhost:9200/products/_create/1\n",
    "response = es.index(index='products', id='1', body={\n",
    "    'name': 'Product 1',\n",
    "    'price': 10000,\n",
    "})\n",
    "print(json.dumps(response.body, indent=4))"
   ]
  },
  {
   "cell_type": "code",
   "execution_count": null,
   "id": "ed716328",
   "metadata": {},
   "outputs": [],
   "source": [
    "# Insert products 2\n",
    "# POST http://localhost:9200/products/_create/2\n",
    "response = es.index(index='products', id='2', body={\n",
    "    'name': 'Product 2',\n",
    "    'price': 20000,\n",
    "})\n",
    "print(json.dumps(response.body, indent=4))"
   ]
  },
  {
   "cell_type": "code",
   "execution_count": null,
   "id": "359a144c",
   "metadata": {},
   "outputs": [],
   "source": [
    "# Get Mapping\n",
    "# GET http://localhost:9200/products/_mapping\n",
    "response = es.indices.get_mapping(index='products')\n",
    "print(json.dumps(response.body, indent=4))"
   ]
  },
  {
   "cell_type": "markdown",
   "id": "304151fa",
   "metadata": {},
   "source": [
    "Create Order"
   ]
  },
  {
   "cell_type": "code",
   "execution_count": null,
   "id": "dcc6b5ec",
   "metadata": {},
   "outputs": [],
   "source": [
    "# Insert orders 1\n",
    "# POST http://localhost:9200/orders/_create/1\n",
    "response = es.index(index='orders', id='1', body={\n",
    "    \"order_date\": \"2023-12-01 00:00:00\",\n",
    "    \"customer_id\": \"aditira\",\n",
    "    \"total\": 40000,\n",
    "    \"items\": [\n",
    "        {\n",
    "            \"product_id\": \"1\",\n",
    "            \"price\": 10000,\n",
    "            \"quantity\": 2\n",
    "        },\n",
    "        {\n",
    "            \"product_id\": \"2\",\n",
    "            \"price\": 20000,\n",
    "            \"quantity\": 1\n",
    "        }\n",
    "    ]\n",
    "})\n",
    "print(json.dumps(response.body, indent=4))\n",
    "\n",
    "# Get Mapping\n",
    "# GET http://localhost:9200/orders/_mapping\n",
    "response = es.indices.get_mapping(index='orders')\n",
    "print(json.dumps(response.body, indent=4))"
   ]
  },
  {
   "cell_type": "markdown",
   "id": "8698dea2",
   "metadata": {},
   "source": [
    "# Get API"
   ]
  },
  {
   "cell_type": "markdown",
   "id": "9abecb1b",
   "metadata": {},
   "source": [
    "Once you’ve stored data in Elasticsearch using the Create API, you can retrieve this data using the Get API."
   ]
  },
  {
   "cell_type": "markdown",
   "id": "a7d55d09",
   "metadata": {},
   "source": [
    "The Get API returns the requested data along with its associated metadata, such as the _id, index name, document version, and so on."
   ]
  },
  {
   "cell_type": "markdown",
   "id": "3d394ff0",
   "metadata": {},
   "source": [
    "If the data you’re trying to retrieve is not available (i.e., there is no document with the requested _id in the specified index), the HTTP response code will be 404 Not Found."
   ]
  },
  {
   "cell_type": "markdown",
   "id": "b824e585",
   "metadata": {},
   "source": [
    "To use the Get API, you make an HTTP GET request to the following endpoint:"
   ]
  },
  {
   "cell_type": "code",
   "execution_count": null,
   "id": "0743f99e",
   "metadata": {},
   "outputs": [],
   "source": [
    "GET /<index_name>/_doc/<id>"
   ]
  },
  {
   "cell_type": "markdown",
   "id": "abd93e05",
   "metadata": {},
   "source": [
    "In this endpoint, <index_name> is the name of the index from which you want to retrieve data, and <id> is the unique identifier of the document you want to retrieve. If the document is found, Elasticsearch will return the document and its metadata in the response."
   ]
  },
  {
   "cell_type": "markdown",
   "id": "9f87851e",
   "metadata": {},
   "source": [
    "Get Document"
   ]
  },
  {
   "cell_type": "code",
   "execution_count": null,
   "id": "03e279c5",
   "metadata": {},
   "outputs": [],
   "source": [
    "# Get Customers aditira\n",
    "# GET http://localhost:9200/customers/_doc/aditira\n",
    "response = es.get(index='customers', id='aditira')\n",
    "print(json.dumps(response.body, indent=4))"
   ]
  },
  {
   "cell_type": "markdown",
   "id": "8f310d52",
   "metadata": {},
   "source": [
    "# Get Source API"
   ]
  },
  {
   "cell_type": "markdown",
   "id": "dea8dfdf",
   "metadata": {},
   "source": [
    "If you’re interested in retrieving the document data but do not wish to receive the metadata associated with the document, you can use the Get Source API."
   ]
  },
  {
   "cell_type": "markdown",
   "id": "737f88bc",
   "metadata": {},
   "source": [
    "To use the Get Source API, you make an HTTP GET request to the following endpoint:"
   ]
  },
  {
   "cell_type": "code",
   "execution_count": null,
   "id": "264052e1",
   "metadata": {},
   "outputs": [],
   "source": [
    "GET /<index_name>/_source/<id>"
   ]
  },
  {
   "cell_type": "markdown",
   "id": "47454142",
   "metadata": {},
   "source": [
    "In this endpoint, <index_name> is the name of the index from which you want to retrieve data, and <id> is the unique identifier of the document you want to retrieve."
   ]
  },
  {
   "cell_type": "markdown",
   "id": "8707e9b4",
   "metadata": {},
   "source": [
    "This call will return only the actual data that you inserted, without any of the metadata information, including the _id. This is because the _id is already included in the URL where you’re making the HTTP call. As such, if the document is found, Elasticsearch will return the document data in the response, without any metadata."
   ]
  },
  {
   "cell_type": "markdown",
   "id": "f89b8643",
   "metadata": {},
   "source": [
    "Get Source Document"
   ]
  },
  {
   "cell_type": "code",
   "execution_count": null,
   "id": "d518ee91",
   "metadata": {},
   "outputs": [],
   "source": [
    "# Get Source Customers aditira\n",
    "# GET http://localhost:9200/customers/_doc/aditira/_source\n",
    "response = es.get_source(index='customers', id='aditira')\n",
    "print(json.dumps(response.body, indent=4))"
   ]
  },
  {
   "cell_type": "markdown",
   "id": "6e08cc19",
   "metadata": {},
   "source": [
    "# Check Exists"
   ]
  },
  {
   "cell_type": "markdown",
   "id": "fa5e9197",
   "metadata": {},
   "source": [
    "There may be cases where you only want to check if a document exists in an index, without needing to retrieve the document’s data. In such cases, you can use the Get API, but with the HTTP method HEAD instead of GET."
   ]
  },
  {
   "cell_type": "markdown",
   "id": "0391bdac",
   "metadata": {},
   "source": [
    "To check if a document exists, you make an HTTP HEAD request to the following endpoint:"
   ]
  },
  {
   "cell_type": "code",
   "execution_count": null,
   "id": "1ab81475",
   "metadata": {},
   "outputs": [],
   "source": [
    "HEAD /<index_name>/_doc/<id>"
   ]
  },
  {
   "cell_type": "markdown",
   "id": "85cf895c",
   "metadata": {},
   "source": [
    "In this endpoint, <index_name> is the name of the index where you’re checking for the document, and <id> is the unique identifier of the document you’re checking for."
   ]
  },
  {
   "cell_type": "markdown",
   "id": "d84ae04a",
   "metadata": {},
   "source": [
    "Elasticsearch will return a 200 OK response without any body if the document exists. If the document does not exist, it will return a 404 Not Found response. This is a quick and efficient way to check for the existence of a document without retrieving or transferring any data."
   ]
  },
  {
   "cell_type": "markdown",
   "id": "3d1fbd31",
   "metadata": {},
   "source": [
    "If data exists"
   ]
  },
  {
   "cell_type": "code",
   "execution_count": null,
   "id": "5cf6c524",
   "metadata": {},
   "outputs": [],
   "source": [
    "# Check Customers aditira\n",
    "# HEAD http://localhost:9200/customers/_doc/aditira\n",
    "response = es.exists(index='customers', id='aditira')\n",
    "print(json.dumps(response.body, indent=4))"
   ]
  },
  {
   "cell_type": "markdown",
   "id": "0f04deda",
   "metadata": {},
   "source": [
    "If the data does not exist"
   ]
  },
  {
   "cell_type": "code",
   "execution_count": null,
   "id": "76513116",
   "metadata": {},
   "outputs": [],
   "source": [
    "# Check Customers wrong\n",
    "# HEAD http://localhost:9200/customers/_doc/wrong\n",
    "response = es.exists(index='customers', id='wrong')\n",
    "print(json.dumps(response.body, indent=4))"
   ]
  },
  {
   "cell_type": "markdown",
   "id": "b25b0ad1",
   "metadata": {},
   "source": [
    "# Multi Get API"
   ]
  },
  {
   "cell_type": "markdown",
   "id": "f2d95a58",
   "metadata": {},
   "source": [
    "Elasticsearch provides a Multi Get API that allows you to retrieve multiple documents at once. This is useful when you need to fetch documents from different indices in a single API call."
   ]
  },
  {
   "cell_type": "markdown",
   "id": "c649f82a",
   "metadata": {},
   "source": [
    "You can use the Multi Get API with the following RESTful API endpoints:"
   ]
  },
  {
   "cell_type": "code",
   "execution_count": null,
   "id": "abdfe3b1",
   "metadata": {},
   "outputs": [],
   "source": [
    "POST /_mget\n",
    "POST /<index_name>/_mget"
   ]
  },
  {
   "cell_type": "markdown",
   "id": "459eea72",
   "metadata": {},
   "source": [
    "In these endpoints, <index_name> is the name of the index from which you want to retrieve documents. If you omit the <index_name>, Elasticsearch will retrieve documents from all indices."
   ]
  },
  {
   "cell_type": "markdown",
   "id": "4684a5a3",
   "metadata": {},
   "source": [
    "The _mget endpoint accepts a request body that specifies the documents to retrieve. The request body should be a JSON object that contains an ids array, like this:"
   ]
  },
  {
   "cell_type": "code",
   "execution_count": null,
   "id": "269658a2",
   "metadata": {},
   "outputs": [],
   "source": [
    "{\n",
    "  \"ids\" : [\"1\", \"2\", \"3\", \"4\"]\n",
    "}"
   ]
  },
  {
   "cell_type": "markdown",
   "id": "8ab298a0",
   "metadata": {},
   "source": [
    "If you’re using <index_name>/_mget, then all IDs in the ids array will be retrieved from the specified index. If you’re using /_mget, you can specify the index for each ID in the ids array, like this:"
   ]
  },
  {
   "cell_type": "code",
   "execution_count": null,
   "id": "b4b59531",
   "metadata": {},
   "outputs": [],
   "source": [
    "{\n",
    "  \"docs\" : [\n",
    "    {\n",
    "      \"_index\" : \"index1\",\n",
    "      \"_id\" : \"1\"\n",
    "    },\n",
    "    {\n",
    "      \"_index\" : \"index2\",\n",
    "      \"_id\" : \"2\"\n",
    "    }\n",
    "  ]\n",
    "}"
   ]
  },
  {
   "cell_type": "markdown",
   "id": "918a5755",
   "metadata": {},
   "source": [
    "In this case, Elasticsearch will retrieve each document from the specified index."
   ]
  },
  {
   "cell_type": "markdown",
   "id": "ce298924",
   "metadata": {},
   "source": [
    "The Multi Get API is a powerful tool that can significantly reduce the number of API calls you need to make when working with multiple documents across multiple indices."
   ]
  },
  {
   "cell_type": "markdown",
   "id": "a2b2cb38",
   "metadata": {},
   "source": [
    "Multiget Document"
   ]
  },
  {
   "cell_type": "code",
   "execution_count": null,
   "id": "61d7acf5",
   "metadata": {},
   "outputs": [],
   "source": [
    "# Multiget products\n",
    "# POST http://localhost:9200/products/_mget\n",
    "response = es.mget(index='products', body={\n",
    "    'ids': ['1', '2']\n",
    "})\n",
    "print(json.dumps(response.body, indent=4))"
   ]
  },
  {
   "cell_type": "markdown",
   "id": "4b612df3",
   "metadata": {},
   "source": [
    "# Search API"
   ]
  },
  {
   "cell_type": "markdown",
   "id": "d12c8bcc",
   "metadata": {},
   "source": [
    "While the Get API is used for retrieving a single document using its _id, the Search API in Elasticsearch is used when you want to search for documents without knowing their _id. The Search API is quite complex, offering a wide range of querying and filtering options that allow you to perform full-text search, term-based search, and much more."
   ]
  },
  {
   "cell_type": "markdown",
   "id": "d05eb3e4",
   "metadata": {},
   "source": [
    "To use the Search API, you can use the following RESTful API endpoints:"
   ]
  },
  {
   "cell_type": "code",
   "execution_count": null,
   "id": "49664652",
   "metadata": {},
   "outputs": [],
   "source": [
    "POST /_search\n",
    "POST /<index_name>/_search"
   ]
  },
  {
   "cell_type": "markdown",
   "id": "ea489232",
   "metadata": {},
   "source": [
    "In these endpoints, <index_name> is the name of the index that you want to search in. If you don’t specify an index name, Elasticsearch will search all indices."
   ]
  },
  {
   "cell_type": "markdown",
   "id": "7d7d8864",
   "metadata": {},
   "source": [
    "The _search endpoint accepts a request body that defines the search query. This search query is written in Elasticsearch’s Query DSL (domain-specific language), which is a flexible and powerful language for defining queries."
   ]
  },
  {
   "cell_type": "markdown",
   "id": "ba9cd81e",
   "metadata": {},
   "source": [
    "Here’s a simple example of a search query:"
   ]
  },
  {
   "cell_type": "code",
   "execution_count": null,
   "id": "16674f9d",
   "metadata": {},
   "outputs": [],
   "source": [
    "{\n",
    "  \"query\": {\n",
    "    \"match\": {\n",
    "      \"field_name\": \"search term\"\n",
    "    }\n",
    "  }\n",
    "}"
   ]
  },
  {
   "cell_type": "markdown",
   "id": "9da68c2e",
   "metadata": {},
   "source": [
    "In this query, Elasticsearch will return documents where field_name matches the “search term”."
   ]
  },
  {
   "cell_type": "markdown",
   "id": "4ee8f65e",
   "metadata": {},
   "source": [
    "It’s important to note that this is just the tip of the iceberg when it comes to the Search API. It supports a wide range of querying and filtering options, allowing you to perform complex searches on your data. More advanced features of the Search API will be covered in later discussions."
   ]
  },
  {
   "cell_type": "markdown",
   "id": "b35f55ff",
   "metadata": {},
   "source": [
    "Search Document"
   ]
  },
  {
   "cell_type": "code",
   "execution_count": null,
   "id": "ea8b1041",
   "metadata": {},
   "outputs": [],
   "source": [
    "# Search products\n",
    "# POST http://localhost:9200/products/_search\n",
    "response = es.search(index='products', body={\n",
    "    \"query\": {\n",
    "    \"match\": {\n",
    "      \"price\": 10000\n",
    "    }\n",
    "  }\n",
    "})\n",
    "print(json.dumps(response.body, indent=4))"
   ]
  },
  {
   "cell_type": "markdown",
   "id": "728e3c54",
   "metadata": {},
   "source": [
    "# Pagination"
   ]
  },
  {
   "cell_type": "markdown",
   "id": "d9e91274",
   "metadata": {},
   "source": [
    "When you are working with large amounts of data, it can be useful to break up the results of a search query into manageable chunks, or “pages”. Elasticsearch’s Search API supports pagination through the use of query parameters."
   ]
  },
  {
   "cell_type": "markdown",
   "id": "9e270ac4",
   "metadata": {},
   "source": [
    "There are two important parameters for pagination:"
   ]
  },
  {
   "cell_type": "markdown",
   "id": "08f5ac15",
   "metadata": {},
   "source": [
    "- from: This parameter determines the starting document from where the results should be returned. The count starts from 0. So, if you setfromto 10, Elasticsearch will skip the first 10 results.\n",
    "- size: This parameter determines the number of search hits to return. By default, Elasticsearch returns 10 results per page. If you want more or fewer results, you can change thesizeparameter."
   ]
  },
  {
   "cell_type": "markdown",
   "id": "589e5bfa",
   "metadata": {},
   "source": [
    "Here’s an example of how to use these parameters in a search query:"
   ]
  },
  {
   "cell_type": "code",
   "execution_count": null,
   "id": "df05e6cb",
   "metadata": {},
   "outputs": [],
   "source": [
    "{\n",
    "  \"from\" : 0, \"size\" : 20,\n",
    "  \"query\": {\n",
    "    \"match\": {\n",
    "      \"field_name\": \"search term\"\n",
    "    }\n",
    "  }\n",
    "}"
   ]
  },
  {
   "cell_type": "markdown",
   "id": "f64ee87e",
   "metadata": {},
   "source": [
    "In this example, Elasticsearch will return the first 20 documents that match the search term. If you want to get the next 20 documents, you can change from to 20:"
   ]
  },
  {
   "cell_type": "code",
   "execution_count": null,
   "id": "cac0ba9a",
   "metadata": {},
   "outputs": [],
   "source": [
    "{\n",
    "  \"from\" : 20, \"size\" : 20,\n",
    "  \"query\": {\n",
    "    \"match\": {\n",
    "      \"field_name\": \"search term\"\n",
    "    }\n",
    "  }\n",
    "}"
   ]
  },
  {
   "cell_type": "markdown",
   "id": "751b6f1c",
   "metadata": {},
   "source": [
    "This way, you can navigate through the search results page by page. It’s important to note that the maximum value of from + size is 10000 by default. If you need to handle more data, you need to use the scroll API or increase this limit."
   ]
  },
  {
   "cell_type": "markdown",
   "id": "6bb09c01",
   "metadata": {},
   "source": [
    "Search Document dengan Pagination"
   ]
  },
  {
   "cell_type": "code",
   "execution_count": null,
   "id": "509d057a",
   "metadata": {},
   "outputs": [],
   "source": [
    "# Search products page 1\n",
    "# POST http://localhost:9200/products/_search?size=1&from=0\n",
    "response = es.search(index='products', body={\n",
    "    'size': 1,\n",
    "    'from': 0\n",
    "})\n",
    "print(json.dumps(response.body, indent=4))"
   ]
  },
  {
   "cell_type": "code",
   "execution_count": null,
   "id": "a3783f15",
   "metadata": {},
   "outputs": [],
   "source": [
    "# Search products page 2\n",
    "# POST http://localhost:9200/products/_search?size=1&from=1\n",
    "response = es.search(index='products', body={\n",
    "    'size': 1,\n",
    "    'from': 1\n",
    "})\n",
    "print(json.dumps(response.body, indent=4))"
   ]
  },
  {
   "cell_type": "markdown",
   "id": "6008f6ab",
   "metadata": {},
   "source": [
    "# Sorting"
   ]
  },
  {
   "cell_type": "markdown",
   "id": "3c5d9fab",
   "metadata": {},
   "source": [
    "The Search API in Elasticsearch also supports sorting of the search results. This is done using the sort query parameter."
   ]
  },
  {
   "cell_type": "markdown",
   "id": "b535b7ae",
   "metadata": {},
   "source": [
    "The sort parameter’s value is defined as:"
   ]
  },
  {
   "cell_type": "code",
   "execution_count": null,
   "id": "30e616c6",
   "metadata": {},
   "outputs": [],
   "source": [
    "<field>:<direction>"
   ]
  },
  {
   "cell_type": "markdown",
   "id": "e15e952a",
   "metadata": {},
   "source": [
    "In this, <field> is the name of the field you want to sort by and <direction> can be either asc (for ascending order) or desc (for descending order)."
   ]
  },
  {
   "cell_type": "markdown",
   "id": "9d86e761",
   "metadata": {},
   "source": [
    "For example, if you have a timestamp field in your documents and you want to sort the results in descending order of timestamp, you can do this:"
   ]
  },
  {
   "cell_type": "code",
   "execution_count": null,
   "id": "e2bc25fc",
   "metadata": {},
   "outputs": [],
   "source": [
    "{\n",
    "  \"query\": {\n",
    "    \"match\": {\n",
    "      \"field_name\": \"search term\"\n",
    "    }\n",
    "  },\n",
    "  \"sort\" : [\n",
    "    { \"timestamp\" : {\"order\" : \"desc\"}}\n",
    "  ]\n",
    "}"
   ]
  },
  {
   "cell_type": "markdown",
   "id": "a4ca5c24",
   "metadata": {},
   "source": [
    "If you need to sort by more than one field, you can specify multiple fields separated by commas. The sorting will be applied in the order you specify. For example:"
   ]
  },
  {
   "cell_type": "code",
   "execution_count": null,
   "id": "9a008763",
   "metadata": {},
   "outputs": [],
   "source": [
    "{\n",
    "  \"query\": {\n",
    "    \"match\": {\n",
    "      \"field_name\": \"search term\"\n",
    "    }\n",
    "  },\n",
    "  \"sort\" : [\n",
    "    { \"field1\" : {\"order\" : \"asc\"}},\n",
    "    { \"field2\" : {\"order\" : \"desc\"}},\n",
    "    { \"field3\" : {\"order\" : \"asc\"}}\n",
    "  ]\n",
    "}"
   ]
  },
  {
   "cell_type": "markdown",
   "id": "b23ffe56",
   "metadata": {},
   "source": [
    "In this example, Elasticsearch first sorts the documents in ascending order by field1. For documents where field1 is the same, it then sorts in descending order by field2, and so on. This way, you can fine-tune the order of your search results to meet your needs."
   ]
  },
  {
   "cell_type": "markdown",
   "id": "ca242ff8",
   "metadata": {},
   "source": [
    "Search Document dengan Sorting"
   ]
  },
  {
   "cell_type": "code",
   "execution_count": null,
   "id": "5066563a",
   "metadata": {},
   "outputs": [],
   "source": [
    "# Search products sort by price\n",
    "# POST http://localhost:9200/products/_search?sort=price:asc\n",
    "response = es.search(index='products', body={\n",
    "    'sort': {\n",
    "        'price': 'asc'\n",
    "    }\n",
    "})\n",
    "print(json.dumps(response.body, indent=4))"
   ]
  },
  {
   "cell_type": "code",
   "execution_count": null,
   "id": "dbaa54ea",
   "metadata": {},
   "outputs": [],
   "source": [
    "# Search products sort by name\n",
    "# POST http://localhost:9200/products/_search?sort=name:asc\n",
    "response = es.search(index='products', body={\n",
    "    'sort': [\n",
    "        { 'name.keyword': 'asc' }\n",
    "    ]\n",
    "})\n",
    "print(json.dumps(response.body, indent=4))"
   ]
  },
  {
   "cell_type": "markdown",
   "id": "35480dd2",
   "metadata": {},
   "source": [
    "# Index API"
   ]
  },
  {
   "cell_type": "markdown",
   "id": "680844bb",
   "metadata": {},
   "source": [
    "In the past, the Index API was commonly used to create documents in Elasticsearch, but in newer versions, the Create API is often used instead. However, the Index API still has its uses."
   ]
  },
  {
   "cell_type": "markdown",
   "id": "ce43cfdb",
   "metadata": {},
   "source": [
    "The Index API has a “create or replace” nature. This means that if a document with the specified ID does not exist, it will be created. If a document with the specified ID already exists, the existing document will be replaced (deleted and created anew) with the new document."
   ]
  },
  {
   "cell_type": "markdown",
   "id": "15b236ff",
   "metadata": {},
   "source": [
    "This is a key difference between the Index API and the Create API. With the Create API, if a document with the specified ID already exists, an error conflict will occur. With the Index API, no such error will occur, and the existing document will simply be replaced."
   ]
  },
  {
   "cell_type": "markdown",
   "id": "cd9302c9",
   "metadata": {},
   "source": [
    "To use the Index API, you can use the following RESTful API command:"
   ]
  },
  {
   "cell_type": "code",
   "execution_count": null,
   "id": "d941163c",
   "metadata": {},
   "outputs": [],
   "source": [
    "POST /<index_name>/_doc/<id>\n",
    "PUT /<index_name>/_doc/<id>"
   ]
  },
  {
   "cell_type": "markdown",
   "id": "12a0119e",
   "metadata": {},
   "source": [
    "Here, <index_name> is the name of the index where you want to create or replace the document, and <id> is the ID of the document."
   ]
  },
  {
   "cell_type": "markdown",
   "id": "56305f14",
   "metadata": {},
   "source": [
    "In the body of the request, you would include the full content of the new document you want to create or replace. For example:"
   ]
  },
  {
   "cell_type": "code",
   "execution_count": null,
   "id": "a4afca9c",
   "metadata": {},
   "outputs": [],
   "source": [
    "PUT /my_index/_doc/1\n",
    "{\n",
    "  \"field1\": \"value1\",\n",
    "  \"field2\": \"value2\"\n",
    "}"
   ]
  },
  {
   "cell_type": "markdown",
   "id": "0127bbac",
   "metadata": {},
   "source": [
    "In this example, a document with ID 1 and the specified fields and values will be created in my_index. If a document with ID 1 already exists, it will be replaced with the new document."
   ]
  },
  {
   "cell_type": "markdown",
   "id": "bb5217eb",
   "metadata": {},
   "source": [
    "Index Document"
   ]
  },
  {
   "cell_type": "code",
   "execution_count": null,
   "id": "b947dcc9",
   "metadata": {},
   "outputs": [],
   "source": [
    "# Save product 3\n",
    "# POST http://localhost:9200/products/_doc/3\n",
    "response = es.index(index='products', id='3', body={\n",
    "    'name': 'Product 3',\n",
    "    'price': 30000,\n",
    "})\n",
    "print(json.dumps(response.body, indent=4))\n",
    "\n",
    "# Save product 4\n",
    "# POST http://localhost:9200/products/_doc/4\n",
    "response = es.index(index='products', id='4', body={\n",
    "    'name': 'Product 4',\n",
    "    'price': 40000,\n",
    "})\n",
    "print(json.dumps(response.body, indent=4))\n",
    "\n",
    "# Save product 5\n",
    "# POST http://localhost:9200/products/_doc/5\n",
    "response = es.index(index='products', id='5', body={\n",
    "    'name': 'Product 5',\n",
    "    'price': 50000,\n",
    "})\n",
    "print(json.dumps(response.body, indent=4))"
   ]
  },
  {
   "cell_type": "markdown",
   "id": "91a2f2ea",
   "metadata": {},
   "source": [
    "# Choose Create API or Index API?"
   ]
  },
  {
   "cell_type": "markdown",
   "id": "c8789358",
   "metadata": {},
   "source": [
    "Your choice between Create API and Index API depends on your needs:"
   ]
  },
  {
   "cell_type": "markdown",
   "id": "5c28c2ad",
   "metadata": {},
   "source": [
    "- Index API:This is the most common choice among programmers because it’s safe from conflicts if a document with the same ID already exists in Elasticsearch. The Index API will replace the existing document, rather than producing an error.\n",
    "- Create API:Use this if you don’t want to replace an existing document. If a document with the same ID already exists, the Create API will produce an error. To prevent this, it’s recommended to use the Get API first to check if the document already exists."
   ]
  },
  {
   "cell_type": "markdown",
   "id": "96afb30c",
   "metadata": {},
   "source": [
    "Index API: This is the most common choice among programmers because it’s safe from conflicts if a document with the same ID already exists in Elasticsearch. The Index API will replace the existing document, rather than producing an error."
   ]
  },
  {
   "cell_type": "markdown",
   "id": "bde48267",
   "metadata": {},
   "source": [
    "Create API: Use this if you don’t want to replace an existing document. If a document with the same ID already exists, the Create API will produce an error. To prevent this, it’s recommended to use the Get API first to check if the document already exists."
   ]
  },
  {
   "cell_type": "markdown",
   "id": "e942709f",
   "metadata": {},
   "source": [
    "# Update API"
   ]
  },
  {
   "cell_type": "markdown",
   "id": "9b550e4f",
   "metadata": {},
   "source": [
    "The Index API behaves much like a strict librarian. Upon an update, it replaces the old document entirely, demanding all attributes anew. If you only submit the updated attribute, it overwrites the rest, potentially causing data loss."
   ]
  },
  {
   "cell_type": "markdown",
   "id": "f7186c35",
   "metadata": {},
   "source": [
    "Need to tweak a few attributes without a full rewrite? Use the Update API, your friendly editor:"
   ]
  },
  {
   "cell_type": "code",
   "execution_count": null,
   "id": "5651d221",
   "metadata": {},
   "outputs": [],
   "source": [
    "POST /<index_name>/_update/<id>"
   ]
  },
  {
   "cell_type": "markdown",
   "id": "e2bba610",
   "metadata": {},
   "source": [
    "But beware, if the document doesn’t exist, Elasticsearch returns a 404 Not Found error. Always check your document’s existence before updating."
   ]
  },
  {
   "cell_type": "markdown",
   "id": "2e7eef27",
   "metadata": {},
   "source": [
    "Update Document"
   ]
  },
  {
   "cell_type": "code",
   "execution_count": null,
   "id": "d909dd94",
   "metadata": {},
   "outputs": [],
   "source": [
    "# Update product 5\n",
    "# POST http://localhost:9200/products/_update/5\n",
    "response = es.update(index='products', id='5', body={\n",
    "    'doc': {\n",
    "        'price': 50000000\n",
    "    }\n",
    "})\n",
    "print(json.dumps(response.body, indent=4))\n",
    "\n",
    "# Get product 5\n",
    "response = es.get(index='products', id='5')\n",
    "print(json.dumps(response.body, indent=4))"
   ]
  },
  {
   "cell_type": "markdown",
   "id": "d8b2ba82",
   "metadata": {},
   "source": [
    "# Delete API"
   ]
  },
  {
   "cell_type": "markdown",
   "id": "523c8d89",
   "metadata": {},
   "source": [
    "To remove a document, the Delete API is your digital shredder. Utilize it through this RESTful API command:"
   ]
  },
  {
   "cell_type": "code",
   "execution_count": null,
   "id": "265eafd0",
   "metadata": {},
   "outputs": [],
   "source": [
    "DELETE /<index_name>/_doc/<id>"
   ]
  },
  {
   "cell_type": "markdown",
   "id": "0e19646e",
   "metadata": {},
   "source": [
    "But remember, if you attempt to delete a document that doesn’t exist, Elasticsearch will return a 404 Not Found error. Always make sure the document is in your collection before trying to remove it."
   ]
  },
  {
   "cell_type": "markdown",
   "id": "ad75304a",
   "metadata": {},
   "source": [
    "Insert Spammer"
   ]
  },
  {
   "cell_type": "code",
   "execution_count": null,
   "id": "00a3846f",
   "metadata": {},
   "outputs": [],
   "source": [
    "# Insert customer spammer\n",
    "# POST http://localhost:9200/customers/_create/spammer\n",
    "response = es.index(index='customers', id='spammer', body={\n",
    "    'name': 'Spammer',\n",
    "    'register_at': '2023-12-06 00:00:00',\n",
    "})\n",
    "print(json.dumps(response.body, indent=4))\n",
    "\n",
    "# Get customer spammer\n",
    "response = es.get_source(index='customers', id='spammer')\n",
    "print(json.dumps(response.body, indent=4))"
   ]
  },
  {
   "cell_type": "markdown",
   "id": "ffff2660",
   "metadata": {},
   "source": [
    "Delete Spammer"
   ]
  },
  {
   "cell_type": "code",
   "execution_count": null,
   "id": "ea46d1d2",
   "metadata": {},
   "outputs": [],
   "source": [
    "# Delete customer spammer\n",
    "# DELETE http://localhost:9200/customers/_doc/spammer\n",
    "response = es.delete(index='customers', id='spammer', ignore=[404])\n",
    "print(json.dumps(response.body, indent=4))\n",
    "\n",
    "# Get customer spammer\n",
    "response = es.get_source(index='customers', id='spammer', ignore=[404])\n",
    "print(json.dumps(response.body, indent=4))"
   ]
  },
  {
   "cell_type": "markdown",
   "id": "afc4a24a",
   "metadata": {},
   "source": [
    "# Bulk API"
   ]
  },
  {
   "cell_type": "markdown",
   "id": "85e79912",
   "metadata": {},
   "source": [
    "When dealing with many operations in Elasticsearch, the Bulk API shines by speeding up the process instead of manually handling each operation. The Bulk API bundles various operations together, including create, index, update, or delete. To use the Bulk API, apply the following RESTful API commands:"
   ]
  },
  {
   "cell_type": "code",
   "execution_count": null,
   "id": "49e15854",
   "metadata": {},
   "outputs": [],
   "source": [
    "POST /_bulk\n",
    "POST /<index_name>/_bulk"
   ]
  },
  {
   "cell_type": "markdown",
   "id": "45d44521",
   "metadata": {},
   "source": [
    "This allows more efficient handling of large volumes of operations."
   ]
  },
  {
   "cell_type": "markdown",
   "id": "1652622f",
   "metadata": {},
   "source": [
    "Format Request Body untuk Bulk API"
   ]
  },
  {
   "cell_type": "code",
   "execution_count": null,
   "id": "6fdc6edb",
   "metadata": {},
   "outputs": [],
   "source": [
    "action_and_meta_data\\n\n",
    "optional_source\\n\n",
    "action_and_meta_data\\n\n",
    "optional_source\\n\n",
    "....\n",
    "action_and_meta_data\\n\n",
    "optional_source\\n"
   ]
  },
  {
   "cell_type": "markdown",
   "id": "024c3eb9",
   "metadata": {},
   "source": [
    "Bulk Document"
   ]
  },
  {
   "cell_type": "code",
   "execution_count": null,
   "id": "9a54bf64",
   "metadata": {},
   "outputs": [],
   "source": [
    "# Bulk documents\n",
    "# POST http://localhost:9200/_bulk\n",
    "response = es.bulk(body=[\n",
    "    {'create': {'_index': 'customers', '_id': 'dina'}},\n",
    "    {'name': 'Dina', 'register_at': '2023-11-30 00:00:00'},\n",
    "    {'index': {'_index': 'customers', '_id': 'yuni'}},\n",
    "    {'name': 'Yuni', 'register_at': '2023-11-30 00:00:00'},\n",
    "    {'update': {'_index': 'products', '_id': '1'}},\n",
    "    {'doc': {'price': 250000}},\n",
    "    {'create': {'_index': 'customers', '_id': 'spammer'}},\n",
    "    {'name': 'Spammer', 'register_at': '2023-12-06 00:00:00'},\n",
    "    {'delete': {'_index': 'customers', '_id': 'spammer'}},\n",
    "])\n",
    "print(json.dumps(response.body, indent=4))"
   ]
  },
  {
   "cell_type": "code",
   "execution_count": null,
   "id": "57406634",
   "metadata": {},
   "outputs": [],
   "source": [
    "# Get document dina\n",
    "# GET http://localhost:9200/customers/_doc/dina\n",
    "response = es.get(index='customers', id='dina')\n",
    "print(json.dumps(response.body, indent=4))\n",
    "\n",
    "# Get document yuni\n",
    "# GET http://localhost:9200/customers/_doc/yuni\n",
    "response = es.get(index='customers', id='yuni')\n",
    "print(json.dumps(response.body, indent=4))\n",
    "\n",
    "# Get document spammer\n",
    "# GET http://localhost:9200/customers/_doc/spammer\n",
    "response = es.get(index='customers', id='spammer', ignore=[404])\n",
    "print(json.dumps(response.body, indent=4))\n",
    "\n",
    "# Get document product 1\n",
    "# GET http://localhost:9200/products/_doc/1\n",
    "response = es.get(index='products', id='1')\n",
    "print(json.dumps(response.body, indent=4))"
   ]
  }
 ],
 "metadata": {},
 "nbformat": 4,
 "nbformat_minor": 5
}
