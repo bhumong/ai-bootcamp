{
 "cells": [
  {
   "cell_type": "markdown",
   "id": "ae6e66de",
   "metadata": {},
   "source": [
    "source: [https://ai-bootcamp.ruangguru.com/learn/05_database/01_elasticsearch/03_elasticsearch-in-practice.html](https://ai-bootcamp.ruangguru.com/learn/05_database/01_elasticsearch/03_elasticsearch-in-practice.html)"
   ]
  },
  {
   "cell_type": "markdown",
   "id": "67f88435",
   "metadata": {},
   "source": [
    "# Elasticsearch In Practice"
   ]
  },
  {
   "cell_type": "markdown",
   "id": "0ef8ffa7",
   "metadata": {},
   "source": []
  },
  {
   "cell_type": "markdown",
   "id": "7b1f854f",
   "metadata": {},
   "source": [
    "![Image](https://storage.googleapis.com/rg-ai-bootcamp/database/elasticsearch-min.png)"
   ]
  },
  {
   "cell_type": "markdown",
   "id": "ac56e66f",
   "metadata": {},
   "source": [
    "Elasticsearch (Source: technocratsid.com)"
   ]
  },
  {
   "cell_type": "markdown",
   "id": "7ad6df35",
   "metadata": {},
   "source": [
    "# Index"
   ]
  },
  {
   "cell_type": "markdown",
   "id": "a2f7ef28",
   "metadata": {},
   "source": [
    "As mentioned earlier, Elasticsearch doesn’t have a concept like a database; thus, we can create an index (or table) directly. But how do we use Elasticsearch for more than one application? A common practice is to prefix the index name with the application’s name, for example: applicationname_indexname. This way, index names do not conflict between applications."
   ]
  },
  {
   "cell_type": "markdown",
   "id": "5e375eae",
   "metadata": {},
   "source": [
    "# Creating an Index"
   ]
  },
  {
   "cell_type": "markdown",
   "id": "180ea572",
   "metadata": {},
   "source": [
    "To create an Index, we can make an HTTP call like so:"
   ]
  },
  {
   "cell_type": "code",
   "execution_count": null,
   "id": "981ff746",
   "metadata": {},
   "outputs": [],
   "source": [
    "PUT /{index_name}"
   ]
  },
  {
   "cell_type": "markdown",
   "id": "085547b4",
   "metadata": {},
   "source": [
    "The rules for index names are as follows:"
   ]
  },
  {
   "cell_type": "markdown",
   "id": "e156d501",
   "metadata": {},
   "source": [
    "- They must be lowercase.\n",
    "- No special characters are allowed, except for -, +, and _, but these cannot be at the start.\n",
    "- They cannot be longer than 255 bytes."
   ]
  },
  {
   "cell_type": "markdown",
   "id": "3035477f",
   "metadata": {},
   "source": [
    "By creating unique index names, you ensure that data from different applications is stored separately and can be queried independently."
   ]
  },
  {
   "cell_type": "markdown",
   "id": "be84ae40",
   "metadata": {},
   "source": [
    "Before we start practicing, install the elasticsearch package"
   ]
  },
  {
   "cell_type": "code",
   "execution_count": null,
   "id": "0e0963d7",
   "metadata": {},
   "outputs": [],
   "source": [
    "%pip install elasticsearch"
   ]
  },
  {
   "cell_type": "markdown",
   "id": "3912fcd1",
   "metadata": {},
   "source": [
    "import the packages we need"
   ]
  },
  {
   "cell_type": "code",
   "execution_count": null,
   "id": "4f150f5e",
   "metadata": {},
   "outputs": [],
   "source": [
    "from elasticsearch import Elasticsearch\n",
    "import time\n",
    "import json"
   ]
  },
  {
   "cell_type": "markdown",
   "id": "d1611e5c",
   "metadata": {},
   "source": [
    "Create a connection to elasticsearch, make sure elasticsearch is running on your computer’s localhost or is running on Google Collab."
   ]
  },
  {
   "cell_type": "code",
   "execution_count": null,
   "id": "a92c029e",
   "metadata": {},
   "outputs": [],
   "source": [
    "es = Elasticsearch([{'host': 'localhost', 'port': 9200, 'scheme': 'http'}])"
   ]
  },
  {
   "cell_type": "markdown",
   "id": "6bcde91f",
   "metadata": {},
   "source": [
    "Creating an Index"
   ]
  },
  {
   "cell_type": "code",
   "execution_count": null,
   "id": "26fdf09a",
   "metadata": {},
   "outputs": [],
   "source": [
    "# Create index customers\n",
    "# PUT http://localhost:9200/customers\n",
    "response = es.options(ignore_status=[400]).indices.create(index='customers')\n",
    "print(json.dumps(response.body, indent=4))"
   ]
  },
  {
   "cell_type": "code",
   "execution_count": null,
   "id": "b05ba7e0",
   "metadata": {},
   "outputs": [],
   "source": [
    "# Create index products\n",
    "# PUT http://localhost:9200/products\n",
    "response = es.options(ignore_status=[400]).indices.create(index='products')\n",
    "print(json.dumps(response.body, indent=4))"
   ]
  },
  {
   "cell_type": "code",
   "execution_count": null,
   "id": "2ba1e092",
   "metadata": {},
   "outputs": [],
   "source": [
    "# Create index orders\n",
    "# PUT http://localhost:9200/orders\n",
    "response = es.options(ignore_status=[400]).indices.create(index='orders')\n",
    "print(json.dumps(response.body, indent=4))"
   ]
  },
  {
   "cell_type": "code",
   "execution_count": null,
   "id": "35d9026c",
   "metadata": {},
   "outputs": [],
   "source": [
    "# Get All Indexes\n",
    "# GET http://localhost:9200/_cat/indices?v\n",
    "response = es.cat.indices(v=True)\n",
    "print(response)"
   ]
  },
  {
   "cell_type": "markdown",
   "id": "246dad35",
   "metadata": {},
   "source": [
    "# Deleting an Index"
   ]
  },
  {
   "cell_type": "markdown",
   "id": "bdca3187",
   "metadata": {},
   "source": [
    "To delete an index that you’ve created, you can simply use the DELETE HTTP method. Deleting an index will automatically remove all data associated with that index. Here’s how you can do it:"
   ]
  },
  {
   "cell_type": "code",
   "execution_count": null,
   "id": "69fea729",
   "metadata": {},
   "outputs": [],
   "source": [
    "DELETE /{index_name}"
   ]
  },
  {
   "cell_type": "markdown",
   "id": "d674c71c",
   "metadata": {},
   "source": [
    "Just replace {index_name} with the name of the index you wish to delete. But be careful, this operation is irreversible. Once an index is deleted, all the data within it is permanently lost unless you have a backup or recovery mechanism in place."
   ]
  },
  {
   "cell_type": "markdown",
   "id": "5473d719",
   "metadata": {},
   "source": [
    "Delete Index"
   ]
  },
  {
   "cell_type": "code",
   "execution_count": null,
   "id": "65a85709",
   "metadata": {},
   "outputs": [],
   "source": [
    "# Delete index customers\n",
    "# DELETE http://localhost:9200/customers\n",
    "response = es.options(ignore_status=[400, 404]).indices.delete(index='customers')\n",
    "print(json.dumps(response.body, indent=4))"
   ]
  },
  {
   "cell_type": "code",
   "execution_count": null,
   "id": "2acbbf11",
   "metadata": {},
   "outputs": [],
   "source": [
    "# Delete index products\n",
    "# DELETE http://localhost:9200/products\n",
    "response = es.options(ignore_status=[400, 404]).indices.delete(index='products')\n",
    "print(json.dumps(response.body, indent=4))"
   ]
  },
  {
   "cell_type": "code",
   "execution_count": null,
   "id": "22482cc6",
   "metadata": {},
   "outputs": [],
   "source": [
    "# Delete index orders\n",
    "# DELETE http://localhost:9200/orders\n",
    "response = es.options(ignore_status=[400, 404]).indices.delete(index='orders')\n",
    "print(json.dumps(response.body, indent=4))"
   ]
  },
  {
   "cell_type": "code",
   "execution_count": null,
   "id": "015022a3",
   "metadata": {},
   "outputs": [],
   "source": [
    "# Get All Indexes\n",
    "# GET http://localhost:9200/_cat/indices?v\n",
    "response = es.cat.indices(v=True)\n",
    "print(response)"
   ]
  },
  {
   "cell_type": "markdown",
   "id": "5c1c9837",
   "metadata": {},
   "source": [
    "# Dynamic Mapping in Elasticsearch"
   ]
  },
  {
   "cell_type": "markdown",
   "id": "80206abe",
   "metadata": {},
   "source": [
    "In Elasticsearch, defining the schema of an index is known as mapping. By default, a feature called Dynamic Mapping is enabled, where Elasticsearch auto-detects the data type of each JSON attribute and creates a mapping accordingly."
   ]
  },
  {
   "cell_type": "markdown",
   "id": "116eecd6",
   "metadata": {},
   "source": [
    "While convenient, it’s generally recommended to manually create mappings for better control over data indexing and querying. This ensures proper interpretation and storage of your data."
   ]
  },
  {
   "cell_type": "markdown",
   "id": "92cfe180",
   "metadata": {},
   "source": [
    "# Dynamic Field Mapping"
   ]
  },
  {
   "cell_type": "markdown",
   "id": "679f58f2",
   "metadata": {},
   "source": [
    "This feature auto-detects the data type of a field in a JSON document and assigns a corresponding Elasticsearch data type:"
   ]
  },
  {
   "cell_type": "markdown",
   "id": "52fb033e",
   "metadata": {},
   "source": [
    "| JSON Data Type | Elasticsearch Data Type |\n",
    "| --- | --- |\n",
    "| null | No field added |\n",
    "| true / false | boolean |\n",
    "| double | float |\n",
    "| long | long |\n",
    "| array | Depends on the first data item type |\n",
    "| string | date, float, long, text (auto-detected) |"
   ]
  },
  {
   "cell_type": "markdown",
   "id": "2fe23e47",
   "metadata": {},
   "source": [
    "# Date Detection"
   ]
  },
  {
   "cell_type": "markdown",
   "id": "54001c52",
   "metadata": {},
   "source": [
    "By default, Elasticsearch detects if a string data is in a date format and assigns it a date data type using the format yyyy/MM/dd HH:mm:ss. This feature is active by default but can be deactivated by setting the date_detection attribute in the mapping to false. The date format can be changed by adjusting the dynamic_date_formats attribute in the mapping."
   ]
  },
  {
   "cell_type": "markdown",
   "id": "a58a2c68",
   "metadata": {},
   "source": [
    "Update Dynamic Mapping for Date"
   ]
  },
  {
   "cell_type": "code",
   "execution_count": null,
   "id": "b1280563",
   "metadata": {},
   "outputs": [],
   "source": [
    "# Update customers mapping\n",
    "# PUT http://localhost:9200/customers/_mapping\n",
    "response = es.indices.put_mapping(index='customers', body={\n",
    "    'properties': {\n",
    "        'date': {\n",
    "            'type': 'date',\n",
    "            'format': 'yyyy-MM-dd HH:mm:ss||yyyy-MM-dd||yyyy/MM/dd HH:mm:ss||yyyy/MM/dd'\n",
    "        },\n",
    "        'register_at': {\n",
    "            'type': 'date',\n",
    "            'format': 'yyyy-MM-dd HH:mm:ss||yyyy-MM-dd||yyyy/MM/dd HH:mm:ss||yyyy/MM/dd'\n",
    "        }\n",
    "    }\n",
    "})\n",
    "print(json.dumps(response.body, indent=4))\n",
    "\n",
    "# Get Mapping\n",
    "# GET http://localhost:9200/customers/_mapping\n",
    "response = es.indices.get_mapping(index='customers')\n",
    "print(json.dumps(response.body, indent=4))"
   ]
  },
  {
   "cell_type": "code",
   "execution_count": null,
   "id": "6a341a3d",
   "metadata": {},
   "outputs": [],
   "source": [
    "# Update products mapping\n",
    "# PUT http://localhost:9200/products/_mapping\n",
    "response = es.indices.put_mapping(index='products', body={\n",
    "    'properties': {\n",
    "        'date': {\n",
    "            'type': 'date',\n",
    "            'format': 'yyyy-MM-dd HH:mm:ss||yyyy-MM-dd||yyyy/MM/dd HH:mm:ss||yyyy/MM/dd'\n",
    "        }\n",
    "    }\n",
    "})\n",
    "print(json.dumps(response.body, indent=4))\n",
    "\n",
    "# Get Mapping\n",
    "# GET http://localhost:9200/products/_mapping\n",
    "response = es.indices.get_mapping(index='products')\n",
    "print(json.dumps(response.body, indent=4))"
   ]
  },
  {
   "cell_type": "code",
   "execution_count": null,
   "id": "8305b20f",
   "metadata": {},
   "outputs": [],
   "source": [
    "# Update orders mapping\n",
    "# PUT http://localhost:9200/orders/_mapping\n",
    "response = es.indices.put_mapping(index='orders', body={\n",
    "    'properties': {\n",
    "        'date': {\n",
    "            'type': 'date',\n",
    "            'format': 'yyyy-MM-dd HH:mm:ss||yyyy-MM-dd||yyyy/MM/dd HH:mm:ss||yyyy/MM/dd'\n",
    "        }\n",
    "    }\n",
    "})\n",
    "print(json.dumps(response.body, indent=4))\n",
    "\n",
    "# Get Mapping\n",
    "# GET http://localhost:9200/orders/_mapping\n",
    "response = es.indices.get_mapping(index='orders')\n",
    "print(json.dumps(response.body, indent=4))"
   ]
  },
  {
   "cell_type": "markdown",
   "id": "7ec1fda1",
   "metadata": {},
   "source": [
    "# Number Detection"
   ]
  },
  {
   "cell_type": "markdown",
   "id": "be25c550",
   "metadata": {},
   "source": [
    "Although JSON has a number data type, sometimes users send numbers in a string format, such as “100” or “12.12”. In these cases, Elasticsearch may need to detect and convert these string-formatted numbers to actual number data types (long or float)."
   ]
  },
  {
   "cell_type": "markdown",
   "id": "8cf5f8ce",
   "metadata": {},
   "source": [
    "By default, automatic number detection is not active in Elasticsearch. If you want to activate it, you need to change the numeric_detection attribute in the mapping to true."
   ]
  },
  {
   "cell_type": "markdown",
   "id": "af1342e8",
   "metadata": {},
   "source": [
    "If a mapping for a certain attribute is not yet available, Elasticsearch will automatically try to convert the data to a number type (either long or float). If the conversion is successful, Elasticsearch will use the corresponding number data type for the field."
   ]
  },
  {
   "cell_type": "code",
   "execution_count": null,
   "id": "caa7fdc8",
   "metadata": {},
   "outputs": [],
   "source": [
    "# Update customers mapping\n",
    "# PUT http://localhost:9200/customers/_mapping\n",
    "response = es.indices.put_mapping(index='customers', body={\n",
    "    'numeric_detection': True\n",
    "})\n",
    "print(json.dumps(response.body, indent=4))\n",
    "\n",
    "# Get Mapping\n",
    "# GET http://localhost:9200/customers/_mapping\n",
    "response = es.indices.get_mapping(index='customers')\n",
    "print(json.dumps(response.body, indent=4))"
   ]
  },
  {
   "cell_type": "code",
   "execution_count": null,
   "id": "ba2028ca",
   "metadata": {},
   "outputs": [],
   "source": [
    "# Update products mapping\n",
    "# PUT http://localhost:9200/products/_mapping\n",
    "response = es.indices.put_mapping(index='products', body={\n",
    "    'numeric_detection': True\n",
    "})\n",
    "print(json.dumps(response.body, indent=4))\n",
    "\n",
    "# Get Mapping\n",
    "# GET http://localhost:9200/products/_mapping\n",
    "response = es.indices.get_mapping(index='products')\n",
    "print(json.dumps(response.body, indent=4))"
   ]
  },
  {
   "cell_type": "code",
   "execution_count": null,
   "id": "79d6a411",
   "metadata": {},
   "outputs": [],
   "source": [
    "# Update orders mapping\n",
    "# PUT http://localhost:9200/orders/_mapping\n",
    "response = es.indices.put_mapping(index='orders', body={\n",
    "    'numeric_detection': True\n",
    "})\n",
    "print(json.dumps(response.body, indent=4))\n",
    "\n",
    "# Get Mapping\n",
    "# GET http://localhost:9200/orders/_mapping\n",
    "response = es.indices.get_mapping(index='orders')\n",
    "print(json.dumps(response.body, indent=4))"
   ]
  },
  {
   "cell_type": "markdown",
   "id": "53728703",
   "metadata": {},
   "source": [
    "# Create API"
   ]
  },
  {
   "cell_type": "markdown",
   "id": "a4de55ed",
   "metadata": {},
   "source": [
    "The Create API is used to add new data to Elasticsearch."
   ]
  },
  {
   "cell_type": "markdown",
   "id": "d94da4ba",
   "metadata": {},
   "source": [
    "The Create API has a “save” operation, which means it will only create a new document if a document with the provided _id does not already exist. Attempting to create a document with an _id that already exists will result in a conflict error."
   ]
  },
  {
   "cell_type": "markdown",
   "id": "c01b0e11",
   "metadata": {},
   "source": [
    "To use the Create API, you use either the POST or PUT HTTP method with the following endpoint:"
   ]
  },
  {
   "cell_type": "code",
   "execution_count": null,
   "id": "52027ca4",
   "metadata": {},
   "outputs": [],
   "source": [
    "POST/PUT /<index_name>/_create/<id>"
   ]
  },
  {
   "cell_type": "markdown",
   "id": "5737354c",
   "metadata": {},
   "source": [
    "Here, <index_name> is the name of the index where you want to create the document, and <id> is the unique identifier you want to assign to the new document. If the document is successfully created, Elasticsearch will return a confirmation response."
   ]
  },
  {
   "cell_type": "markdown",
   "id": "6a96c2f1",
   "metadata": {},
   "source": [
    "Create Customer"
   ]
  },
  {
   "cell_type": "code",
   "execution_count": null,
   "id": "e1b5a416",
   "metadata": {},
   "outputs": [],
   "source": [
    "# Insert customers aditira\n",
    "# POST http://localhost:9200/customers/_create/aditira\n",
    "response = es.index(index='customers', id='aditira', body={\n",
    "    'name': 'Aditira Jamhuri',\n",
    "    'register_at': '2023-11-30 00:00:00',\n",
    "})\n",
    "print(json.dumps(response.body, indent=4))\n",
    "\n",
    "# Get Mapping\n",
    "# GET http://localhost:9200/customers/_mapping\n",
    "response = es.indices.get_mapping(index='customers')\n",
    "print(json.dumps(response.body, indent=4))"
   ]
  },
  {
   "cell_type": "markdown",
   "id": "680cb15f",
   "metadata": {},
   "source": [
    "Create Product"
   ]
  },
  {
   "cell_type": "code",
   "execution_count": null,
   "id": "f02cb226",
   "metadata": {},
   "outputs": [],
   "source": [
    "# Insert products 1\n",
    "# POST http://localhost:9200/products/_create/1\n",
    "response = es.index(index='products', id='1', body={\n",
    "    'name': 'Product 1',\n",
    "    'price': 10000,\n",
    "})\n",
    "print(json.dumps(response.body, indent=4))"
   ]
  },
  {
   "cell_type": "code",
   "execution_count": null,
   "id": "9fc4345c",
   "metadata": {},
   "outputs": [],
   "source": [
    "# Insert products 2\n",
    "# POST http://localhost:9200/products/_create/2\n",
    "response = es.index(index='products', id='2', body={\n",
    "    'name': 'Product 2',\n",
    "    'price': 20000,\n",
    "})\n",
    "print(json.dumps(response.body, indent=4))"
   ]
  },
  {
   "cell_type": "code",
   "execution_count": null,
   "id": "adad2492",
   "metadata": {},
   "outputs": [],
   "source": [
    "# Get Mapping\n",
    "# GET http://localhost:9200/products/_mapping\n",
    "response = es.indices.get_mapping(index='products')\n",
    "print(json.dumps(response.body, indent=4))"
   ]
  },
  {
   "cell_type": "markdown",
   "id": "766b5b54",
   "metadata": {},
   "source": [
    "Create Order"
   ]
  },
  {
   "cell_type": "code",
   "execution_count": null,
   "id": "34136676",
   "metadata": {},
   "outputs": [],
   "source": [
    "# Insert orders 1\n",
    "# POST http://localhost:9200/orders/_create/1\n",
    "response = es.index(index='orders', id='1', body={\n",
    "    \"order_date\": \"2023-12-01 00:00:00\",\n",
    "    \"customer_id\": \"aditira\",\n",
    "    \"total\": 40000,\n",
    "    \"items\": [\n",
    "        {\n",
    "            \"product_id\": \"1\",\n",
    "            \"price\": 10000,\n",
    "            \"quantity\": 2\n",
    "        },\n",
    "        {\n",
    "            \"product_id\": \"2\",\n",
    "            \"price\": 20000,\n",
    "            \"quantity\": 1\n",
    "        }\n",
    "    ]\n",
    "})\n",
    "print(json.dumps(response.body, indent=4))\n",
    "\n",
    "# Get Mapping\n",
    "# GET http://localhost:9200/orders/_mapping\n",
    "response = es.indices.get_mapping(index='orders')\n",
    "print(json.dumps(response.body, indent=4))"
   ]
  },
  {
   "cell_type": "markdown",
   "id": "026a691b",
   "metadata": {},
   "source": [
    "# Get API"
   ]
  },
  {
   "cell_type": "markdown",
   "id": "8fec882c",
   "metadata": {},
   "source": [
    "Once you’ve stored data in Elasticsearch using the Create API, you can retrieve this data using the Get API."
   ]
  },
  {
   "cell_type": "markdown",
   "id": "905d3139",
   "metadata": {},
   "source": [
    "The Get API returns the requested data along with its associated metadata, such as the _id, index name, document version, and so on."
   ]
  },
  {
   "cell_type": "markdown",
   "id": "bfe7e2d9",
   "metadata": {},
   "source": [
    "If the data you’re trying to retrieve is not available (i.e., there is no document with the requested _id in the specified index), the HTTP response code will be 404 Not Found."
   ]
  },
  {
   "cell_type": "markdown",
   "id": "21c21077",
   "metadata": {},
   "source": [
    "To use the Get API, you make an HTTP GET request to the following endpoint:"
   ]
  },
  {
   "cell_type": "code",
   "execution_count": null,
   "id": "c0363471",
   "metadata": {},
   "outputs": [],
   "source": [
    "GET /<index_name>/_doc/<id>"
   ]
  },
  {
   "cell_type": "markdown",
   "id": "d74a7040",
   "metadata": {},
   "source": [
    "In this endpoint, <index_name> is the name of the index from which you want to retrieve data, and <id> is the unique identifier of the document you want to retrieve. If the document is found, Elasticsearch will return the document and its metadata in the response."
   ]
  },
  {
   "cell_type": "markdown",
   "id": "8a0f9c5c",
   "metadata": {},
   "source": [
    "Get Document"
   ]
  },
  {
   "cell_type": "code",
   "execution_count": null,
   "id": "1bf1209f",
   "metadata": {},
   "outputs": [],
   "source": [
    "# Get Customers aditira\n",
    "# GET http://localhost:9200/customers/_doc/aditira\n",
    "response = es.get(index='customers', id='aditira')\n",
    "print(json.dumps(response.body, indent=4))"
   ]
  },
  {
   "cell_type": "markdown",
   "id": "7e6f4f93",
   "metadata": {},
   "source": [
    "# Get Source API"
   ]
  },
  {
   "cell_type": "markdown",
   "id": "2d281808",
   "metadata": {},
   "source": [
    "If you’re interested in retrieving the document data but do not wish to receive the metadata associated with the document, you can use the Get Source API."
   ]
  },
  {
   "cell_type": "markdown",
   "id": "f85b9f2c",
   "metadata": {},
   "source": [
    "To use the Get Source API, you make an HTTP GET request to the following endpoint:"
   ]
  },
  {
   "cell_type": "code",
   "execution_count": null,
   "id": "dd331f5d",
   "metadata": {},
   "outputs": [],
   "source": [
    "GET /<index_name>/_source/<id>"
   ]
  },
  {
   "cell_type": "markdown",
   "id": "4d7b2aea",
   "metadata": {},
   "source": [
    "In this endpoint, <index_name> is the name of the index from which you want to retrieve data, and <id> is the unique identifier of the document you want to retrieve."
   ]
  },
  {
   "cell_type": "markdown",
   "id": "e93021cb",
   "metadata": {},
   "source": [
    "This call will return only the actual data that you inserted, without any of the metadata information, including the _id. This is because the _id is already included in the URL where you’re making the HTTP call. As such, if the document is found, Elasticsearch will return the document data in the response, without any metadata."
   ]
  },
  {
   "cell_type": "markdown",
   "id": "76185678",
   "metadata": {},
   "source": [
    "Get Source Document"
   ]
  },
  {
   "cell_type": "code",
   "execution_count": null,
   "id": "78c56692",
   "metadata": {},
   "outputs": [],
   "source": [
    "# Get Source Customers aditira\n",
    "# GET http://localhost:9200/customers/_doc/aditira/_source\n",
    "response = es.get_source(index='customers', id='aditira')\n",
    "print(json.dumps(response.body, indent=4))"
   ]
  },
  {
   "cell_type": "markdown",
   "id": "214f23e1",
   "metadata": {},
   "source": [
    "# Check Exists"
   ]
  },
  {
   "cell_type": "markdown",
   "id": "65ee5d5a",
   "metadata": {},
   "source": [
    "There may be cases where you only want to check if a document exists in an index, without needing to retrieve the document’s data. In such cases, you can use the Get API, but with the HTTP method HEAD instead of GET."
   ]
  },
  {
   "cell_type": "markdown",
   "id": "6f867fd8",
   "metadata": {},
   "source": [
    "To check if a document exists, you make an HTTP HEAD request to the following endpoint:"
   ]
  },
  {
   "cell_type": "code",
   "execution_count": null,
   "id": "406b3e59",
   "metadata": {},
   "outputs": [],
   "source": [
    "HEAD /<index_name>/_doc/<id>"
   ]
  },
  {
   "cell_type": "markdown",
   "id": "a5bf2499",
   "metadata": {},
   "source": [
    "In this endpoint, <index_name> is the name of the index where you’re checking for the document, and <id> is the unique identifier of the document you’re checking for."
   ]
  },
  {
   "cell_type": "markdown",
   "id": "fdc81ed7",
   "metadata": {},
   "source": [
    "Elasticsearch will return a 200 OK response without any body if the document exists. If the document does not exist, it will return a 404 Not Found response. This is a quick and efficient way to check for the existence of a document without retrieving or transferring any data."
   ]
  },
  {
   "cell_type": "markdown",
   "id": "8fafadd1",
   "metadata": {},
   "source": [
    "If data exists"
   ]
  },
  {
   "cell_type": "code",
   "execution_count": null,
   "id": "7eb4b72b",
   "metadata": {},
   "outputs": [],
   "source": [
    "# Check Customers aditira\n",
    "# HEAD http://localhost:9200/customers/_doc/aditira\n",
    "response = es.exists(index='customers', id='aditira')\n",
    "print(json.dumps(response.body, indent=4))"
   ]
  },
  {
   "cell_type": "markdown",
   "id": "a4ebc270",
   "metadata": {},
   "source": [
    "If the data does not exist"
   ]
  },
  {
   "cell_type": "code",
   "execution_count": null,
   "id": "ee03973c",
   "metadata": {},
   "outputs": [],
   "source": [
    "# Check Customers wrong\n",
    "# HEAD http://localhost:9200/customers/_doc/wrong\n",
    "response = es.exists(index='customers', id='wrong')\n",
    "print(json.dumps(response.body, indent=4))"
   ]
  },
  {
   "cell_type": "markdown",
   "id": "8fba8e5a",
   "metadata": {},
   "source": [
    "# Multi Get API"
   ]
  },
  {
   "cell_type": "markdown",
   "id": "5d52540c",
   "metadata": {},
   "source": [
    "Elasticsearch provides a Multi Get API that allows you to retrieve multiple documents at once. This is useful when you need to fetch documents from different indices in a single API call."
   ]
  },
  {
   "cell_type": "markdown",
   "id": "77900273",
   "metadata": {},
   "source": [
    "You can use the Multi Get API with the following RESTful API endpoints:"
   ]
  },
  {
   "cell_type": "code",
   "execution_count": null,
   "id": "1802c100",
   "metadata": {},
   "outputs": [],
   "source": [
    "POST /_mget\n",
    "POST /<index_name>/_mget"
   ]
  },
  {
   "cell_type": "markdown",
   "id": "b6aec2fb",
   "metadata": {},
   "source": [
    "In these endpoints, <index_name> is the name of the index from which you want to retrieve documents. If you omit the <index_name>, Elasticsearch will retrieve documents from all indices."
   ]
  },
  {
   "cell_type": "markdown",
   "id": "33ddc7a0",
   "metadata": {},
   "source": [
    "The _mget endpoint accepts a request body that specifies the documents to retrieve. The request body should be a JSON object that contains an ids array, like this:"
   ]
  },
  {
   "cell_type": "code",
   "execution_count": null,
   "id": "34abd83d",
   "metadata": {},
   "outputs": [],
   "source": [
    "{\n",
    "  \"ids\" : [\"1\", \"2\", \"3\", \"4\"]\n",
    "}"
   ]
  },
  {
   "cell_type": "markdown",
   "id": "e3d99709",
   "metadata": {},
   "source": [
    "If you’re using <index_name>/_mget, then all IDs in the ids array will be retrieved from the specified index. If you’re using /_mget, you can specify the index for each ID in the ids array, like this:"
   ]
  },
  {
   "cell_type": "code",
   "execution_count": null,
   "id": "59c5ed3f",
   "metadata": {},
   "outputs": [],
   "source": [
    "{\n",
    "  \"docs\" : [\n",
    "    {\n",
    "      \"_index\" : \"index1\",\n",
    "      \"_id\" : \"1\"\n",
    "    },\n",
    "    {\n",
    "      \"_index\" : \"index2\",\n",
    "      \"_id\" : \"2\"\n",
    "    }\n",
    "  ]\n",
    "}"
   ]
  },
  {
   "cell_type": "markdown",
   "id": "56687137",
   "metadata": {},
   "source": [
    "In this case, Elasticsearch will retrieve each document from the specified index."
   ]
  },
  {
   "cell_type": "markdown",
   "id": "24ef8e3a",
   "metadata": {},
   "source": [
    "The Multi Get API is a powerful tool that can significantly reduce the number of API calls you need to make when working with multiple documents across multiple indices."
   ]
  },
  {
   "cell_type": "markdown",
   "id": "37eaf82a",
   "metadata": {},
   "source": [
    "Multiget Document"
   ]
  },
  {
   "cell_type": "code",
   "execution_count": null,
   "id": "1e454469",
   "metadata": {},
   "outputs": [],
   "source": [
    "# Multiget products\n",
    "# POST http://localhost:9200/products/_mget\n",
    "response = es.mget(index='products', body={\n",
    "    'ids': ['1', '2']\n",
    "})\n",
    "print(json.dumps(response.body, indent=4))"
   ]
  },
  {
   "cell_type": "markdown",
   "id": "6bc28577",
   "metadata": {},
   "source": [
    "# Search API"
   ]
  },
  {
   "cell_type": "markdown",
   "id": "a518ed4e",
   "metadata": {},
   "source": [
    "While the Get API is used for retrieving a single document using its _id, the Search API in Elasticsearch is used when you want to search for documents without knowing their _id. The Search API is quite complex, offering a wide range of querying and filtering options that allow you to perform full-text search, term-based search, and much more."
   ]
  },
  {
   "cell_type": "markdown",
   "id": "a31cbaae",
   "metadata": {},
   "source": [
    "To use the Search API, you can use the following RESTful API endpoints:"
   ]
  },
  {
   "cell_type": "code",
   "execution_count": null,
   "id": "283e07c7",
   "metadata": {},
   "outputs": [],
   "source": [
    "POST /_search\n",
    "POST /<index_name>/_search"
   ]
  },
  {
   "cell_type": "markdown",
   "id": "7efb2191",
   "metadata": {},
   "source": [
    "In these endpoints, <index_name> is the name of the index that you want to search in. If you don’t specify an index name, Elasticsearch will search all indices."
   ]
  },
  {
   "cell_type": "markdown",
   "id": "1fd47cc5",
   "metadata": {},
   "source": [
    "The _search endpoint accepts a request body that defines the search query. This search query is written in Elasticsearch’s Query DSL (domain-specific language), which is a flexible and powerful language for defining queries."
   ]
  },
  {
   "cell_type": "markdown",
   "id": "5818f8af",
   "metadata": {},
   "source": [
    "Here’s a simple example of a search query:"
   ]
  },
  {
   "cell_type": "code",
   "execution_count": null,
   "id": "3533d0cc",
   "metadata": {},
   "outputs": [],
   "source": [
    "{\n",
    "  \"query\": {\n",
    "    \"match\": {\n",
    "      \"field_name\": \"search term\"\n",
    "    }\n",
    "  }\n",
    "}"
   ]
  },
  {
   "cell_type": "markdown",
   "id": "2e6404d0",
   "metadata": {},
   "source": [
    "In this query, Elasticsearch will return documents where field_name matches the “search term”."
   ]
  },
  {
   "cell_type": "markdown",
   "id": "da932a24",
   "metadata": {},
   "source": [
    "It’s important to note that this is just the tip of the iceberg when it comes to the Search API. It supports a wide range of querying and filtering options, allowing you to perform complex searches on your data. More advanced features of the Search API will be covered in later discussions."
   ]
  },
  {
   "cell_type": "markdown",
   "id": "5bc2ae6b",
   "metadata": {},
   "source": [
    "Search Document"
   ]
  },
  {
   "cell_type": "code",
   "execution_count": null,
   "id": "08389c1d",
   "metadata": {},
   "outputs": [],
   "source": [
    "# Search products\n",
    "# POST http://localhost:9200/products/_search\n",
    "response = es.search(index='products', body={\n",
    "    \"query\": {\n",
    "    \"match\": {\n",
    "      \"price\": 10000\n",
    "    }\n",
    "  }\n",
    "})\n",
    "print(json.dumps(response.body, indent=4))"
   ]
  },
  {
   "cell_type": "markdown",
   "id": "97c7dfa1",
   "metadata": {},
   "source": [
    "# Pagination"
   ]
  },
  {
   "cell_type": "markdown",
   "id": "4aa4b893",
   "metadata": {},
   "source": [
    "When you are working with large amounts of data, it can be useful to break up the results of a search query into manageable chunks, or “pages”. Elasticsearch’s Search API supports pagination through the use of query parameters."
   ]
  },
  {
   "cell_type": "markdown",
   "id": "e2f17e55",
   "metadata": {},
   "source": [
    "There are two important parameters for pagination:"
   ]
  },
  {
   "cell_type": "markdown",
   "id": "5855550f",
   "metadata": {},
   "source": [
    "- from: This parameter determines the starting document from where the results should be returned. The count starts from 0. So, if you setfromto 10, Elasticsearch will skip the first 10 results.\n",
    "- size: This parameter determines the number of search hits to return. By default, Elasticsearch returns 10 results per page. If you want more or fewer results, you can change thesizeparameter."
   ]
  },
  {
   "cell_type": "markdown",
   "id": "fd081e20",
   "metadata": {},
   "source": [
    "Here’s an example of how to use these parameters in a search query:"
   ]
  },
  {
   "cell_type": "code",
   "execution_count": null,
   "id": "0a0d21e4",
   "metadata": {},
   "outputs": [],
   "source": [
    "{\n",
    "  \"from\" : 0, \"size\" : 20,\n",
    "  \"query\": {\n",
    "    \"match\": {\n",
    "      \"field_name\": \"search term\"\n",
    "    }\n",
    "  }\n",
    "}"
   ]
  },
  {
   "cell_type": "markdown",
   "id": "84762578",
   "metadata": {},
   "source": [
    "In this example, Elasticsearch will return the first 20 documents that match the search term. If you want to get the next 20 documents, you can change from to 20:"
   ]
  },
  {
   "cell_type": "code",
   "execution_count": null,
   "id": "612f8245",
   "metadata": {},
   "outputs": [],
   "source": [
    "{\n",
    "  \"from\" : 20, \"size\" : 20,\n",
    "  \"query\": {\n",
    "    \"match\": {\n",
    "      \"field_name\": \"search term\"\n",
    "    }\n",
    "  }\n",
    "}"
   ]
  },
  {
   "cell_type": "markdown",
   "id": "dee278fb",
   "metadata": {},
   "source": [
    "This way, you can navigate through the search results page by page. It’s important to note that the maximum value of from + size is 10000 by default. If you need to handle more data, you need to use the scroll API or increase this limit."
   ]
  },
  {
   "cell_type": "markdown",
   "id": "c014fdcb",
   "metadata": {},
   "source": [
    "Search Document dengan Pagination"
   ]
  },
  {
   "cell_type": "code",
   "execution_count": null,
   "id": "4aeb88b3",
   "metadata": {},
   "outputs": [],
   "source": [
    "# Search products page 1\n",
    "# POST http://localhost:9200/products/_search?size=1&from=0\n",
    "response = es.search(index='products', body={\n",
    "    'size': 1,\n",
    "    'from': 0\n",
    "})\n",
    "print(json.dumps(response.body, indent=4))"
   ]
  },
  {
   "cell_type": "code",
   "execution_count": null,
   "id": "a8513cfd",
   "metadata": {},
   "outputs": [],
   "source": [
    "# Search products page 2\n",
    "# POST http://localhost:9200/products/_search?size=1&from=1\n",
    "response = es.search(index='products', body={\n",
    "    'size': 1,\n",
    "    'from': 1\n",
    "})\n",
    "print(json.dumps(response.body, indent=4))"
   ]
  },
  {
   "cell_type": "markdown",
   "id": "0c1ba2b5",
   "metadata": {},
   "source": [
    "# Sorting"
   ]
  },
  {
   "cell_type": "markdown",
   "id": "df315ff9",
   "metadata": {},
   "source": [
    "The Search API in Elasticsearch also supports sorting of the search results. This is done using the sort query parameter."
   ]
  },
  {
   "cell_type": "markdown",
   "id": "a389a9d1",
   "metadata": {},
   "source": [
    "The sort parameter’s value is defined as:"
   ]
  },
  {
   "cell_type": "code",
   "execution_count": null,
   "id": "e8a43493",
   "metadata": {},
   "outputs": [],
   "source": [
    "<field>:<direction>"
   ]
  },
  {
   "cell_type": "markdown",
   "id": "d1dc255c",
   "metadata": {},
   "source": [
    "In this, <field> is the name of the field you want to sort by and <direction> can be either asc (for ascending order) or desc (for descending order)."
   ]
  },
  {
   "cell_type": "markdown",
   "id": "2cae38b4",
   "metadata": {},
   "source": [
    "For example, if you have a timestamp field in your documents and you want to sort the results in descending order of timestamp, you can do this:"
   ]
  },
  {
   "cell_type": "code",
   "execution_count": null,
   "id": "918b8642",
   "metadata": {},
   "outputs": [],
   "source": [
    "{\n",
    "  \"query\": {\n",
    "    \"match\": {\n",
    "      \"field_name\": \"search term\"\n",
    "    }\n",
    "  },\n",
    "  \"sort\" : [\n",
    "    { \"timestamp\" : {\"order\" : \"desc\"}}\n",
    "  ]\n",
    "}"
   ]
  },
  {
   "cell_type": "markdown",
   "id": "bd1fa41f",
   "metadata": {},
   "source": [
    "If you need to sort by more than one field, you can specify multiple fields separated by commas. The sorting will be applied in the order you specify. For example:"
   ]
  },
  {
   "cell_type": "code",
   "execution_count": null,
   "id": "5c131dc4",
   "metadata": {},
   "outputs": [],
   "source": [
    "{\n",
    "  \"query\": {\n",
    "    \"match\": {\n",
    "      \"field_name\": \"search term\"\n",
    "    }\n",
    "  },\n",
    "  \"sort\" : [\n",
    "    { \"field1\" : {\"order\" : \"asc\"}},\n",
    "    { \"field2\" : {\"order\" : \"desc\"}},\n",
    "    { \"field3\" : {\"order\" : \"asc\"}}\n",
    "  ]\n",
    "}"
   ]
  },
  {
   "cell_type": "markdown",
   "id": "5ed4f996",
   "metadata": {},
   "source": [
    "In this example, Elasticsearch first sorts the documents in ascending order by field1. For documents where field1 is the same, it then sorts in descending order by field2, and so on. This way, you can fine-tune the order of your search results to meet your needs."
   ]
  },
  {
   "cell_type": "markdown",
   "id": "096566dd",
   "metadata": {},
   "source": [
    "Search Document dengan Sorting"
   ]
  },
  {
   "cell_type": "code",
   "execution_count": null,
   "id": "de5f4159",
   "metadata": {},
   "outputs": [],
   "source": [
    "# Search products sort by price\n",
    "# POST http://localhost:9200/products/_search?sort=price:asc\n",
    "response = es.search(index='products', body={\n",
    "    'sort': {\n",
    "        'price': 'asc'\n",
    "    }\n",
    "})\n",
    "print(json.dumps(response.body, indent=4))"
   ]
  },
  {
   "cell_type": "code",
   "execution_count": null,
   "id": "2f74f3a8",
   "metadata": {},
   "outputs": [],
   "source": [
    "# Search products sort by name\n",
    "# POST http://localhost:9200/products/_search?sort=name:asc\n",
    "response = es.search(index='products', body={\n",
    "    'sort': [\n",
    "        { 'name.keyword': 'asc' }\n",
    "    ]\n",
    "})\n",
    "print(json.dumps(response.body, indent=4))"
   ]
  },
  {
   "cell_type": "markdown",
   "id": "069f6385",
   "metadata": {},
   "source": [
    "# Index API"
   ]
  },
  {
   "cell_type": "markdown",
   "id": "048cfcbe",
   "metadata": {},
   "source": [
    "In the past, the Index API was commonly used to create documents in Elasticsearch, but in newer versions, the Create API is often used instead. However, the Index API still has its uses."
   ]
  },
  {
   "cell_type": "markdown",
   "id": "0be975af",
   "metadata": {},
   "source": [
    "The Index API has a “create or replace” nature. This means that if a document with the specified ID does not exist, it will be created. If a document with the specified ID already exists, the existing document will be replaced (deleted and created anew) with the new document."
   ]
  },
  {
   "cell_type": "markdown",
   "id": "3b6e4435",
   "metadata": {},
   "source": [
    "This is a key difference between the Index API and the Create API. With the Create API, if a document with the specified ID already exists, an error conflict will occur. With the Index API, no such error will occur, and the existing document will simply be replaced."
   ]
  },
  {
   "cell_type": "markdown",
   "id": "451a761f",
   "metadata": {},
   "source": [
    "To use the Index API, you can use the following RESTful API command:"
   ]
  },
  {
   "cell_type": "code",
   "execution_count": null,
   "id": "2441fe60",
   "metadata": {},
   "outputs": [],
   "source": [
    "POST /<index_name>/_doc/<id>\n",
    "PUT /<index_name>/_doc/<id>"
   ]
  },
  {
   "cell_type": "markdown",
   "id": "ddcfb542",
   "metadata": {},
   "source": [
    "Here, <index_name> is the name of the index where you want to create or replace the document, and <id> is the ID of the document."
   ]
  },
  {
   "cell_type": "markdown",
   "id": "57846319",
   "metadata": {},
   "source": [
    "In the body of the request, you would include the full content of the new document you want to create or replace. For example:"
   ]
  },
  {
   "cell_type": "code",
   "execution_count": null,
   "id": "d44b2815",
   "metadata": {},
   "outputs": [],
   "source": [
    "PUT /my_index/_doc/1\n",
    "{\n",
    "  \"field1\": \"value1\",\n",
    "  \"field2\": \"value2\"\n",
    "}"
   ]
  },
  {
   "cell_type": "markdown",
   "id": "cffbc638",
   "metadata": {},
   "source": [
    "In this example, a document with ID 1 and the specified fields and values will be created in my_index. If a document with ID 1 already exists, it will be replaced with the new document."
   ]
  },
  {
   "cell_type": "markdown",
   "id": "29e3c7a1",
   "metadata": {},
   "source": [
    "Index Document"
   ]
  },
  {
   "cell_type": "code",
   "execution_count": null,
   "id": "e73bbf86",
   "metadata": {},
   "outputs": [],
   "source": [
    "# Save product 3\n",
    "# POST http://localhost:9200/products/_doc/3\n",
    "response = es.index(index='products', id='3', body={\n",
    "    'name': 'Product 3',\n",
    "    'price': 30000,\n",
    "})\n",
    "print(json.dumps(response.body, indent=4))\n",
    "\n",
    "# Save product 4\n",
    "# POST http://localhost:9200/products/_doc/4\n",
    "response = es.index(index='products', id='4', body={\n",
    "    'name': 'Product 4',\n",
    "    'price': 40000,\n",
    "})\n",
    "print(json.dumps(response.body, indent=4))\n",
    "\n",
    "# Save product 5\n",
    "# POST http://localhost:9200/products/_doc/5\n",
    "response = es.index(index='products', id='5', body={\n",
    "    'name': 'Product 5',\n",
    "    'price': 50000,\n",
    "})\n",
    "print(json.dumps(response.body, indent=4))"
   ]
  },
  {
   "cell_type": "markdown",
   "id": "e8b0c8a0",
   "metadata": {},
   "source": [
    "# Choose Create API or Index API?"
   ]
  },
  {
   "cell_type": "markdown",
   "id": "f61bc36a",
   "metadata": {},
   "source": [
    "Your choice between Create API and Index API depends on your needs:"
   ]
  },
  {
   "cell_type": "markdown",
   "id": "d1ca040a",
   "metadata": {},
   "source": [
    "- Index API:This is the most common choice among programmers because it’s safe from conflicts if a document with the same ID already exists in Elasticsearch. The Index API will replace the existing document, rather than producing an error.\n",
    "- Create API:Use this if you don’t want to replace an existing document. If a document with the same ID already exists, the Create API will produce an error. To prevent this, it’s recommended to use the Get API first to check if the document already exists."
   ]
  },
  {
   "cell_type": "markdown",
   "id": "a3b43dd3",
   "metadata": {},
   "source": [
    "Index API: This is the most common choice among programmers because it’s safe from conflicts if a document with the same ID already exists in Elasticsearch. The Index API will replace the existing document, rather than producing an error."
   ]
  },
  {
   "cell_type": "markdown",
   "id": "8d64b150",
   "metadata": {},
   "source": [
    "Create API: Use this if you don’t want to replace an existing document. If a document with the same ID already exists, the Create API will produce an error. To prevent this, it’s recommended to use the Get API first to check if the document already exists."
   ]
  },
  {
   "cell_type": "markdown",
   "id": "27dea210",
   "metadata": {},
   "source": [
    "# Update API"
   ]
  },
  {
   "cell_type": "markdown",
   "id": "bdd7db03",
   "metadata": {},
   "source": [
    "The Index API behaves much like a strict librarian. Upon an update, it replaces the old document entirely, demanding all attributes anew. If you only submit the updated attribute, it overwrites the rest, potentially causing data loss."
   ]
  },
  {
   "cell_type": "markdown",
   "id": "92fc9dc8",
   "metadata": {},
   "source": [
    "Need to tweak a few attributes without a full rewrite? Use the Update API, your friendly editor:"
   ]
  },
  {
   "cell_type": "code",
   "execution_count": null,
   "id": "70b5ea64",
   "metadata": {},
   "outputs": [],
   "source": [
    "POST /<index_name>/_update/<id>"
   ]
  },
  {
   "cell_type": "markdown",
   "id": "1ad78b57",
   "metadata": {},
   "source": [
    "But beware, if the document doesn’t exist, Elasticsearch returns a 404 Not Found error. Always check your document’s existence before updating."
   ]
  },
  {
   "cell_type": "markdown",
   "id": "8c34eb12",
   "metadata": {},
   "source": [
    "Update Document"
   ]
  },
  {
   "cell_type": "code",
   "execution_count": null,
   "id": "3b307fb4",
   "metadata": {},
   "outputs": [],
   "source": [
    "# Update product 5\n",
    "# POST http://localhost:9200/products/_update/5\n",
    "response = es.update(index='products', id='5', body={\n",
    "    'doc': {\n",
    "        'price': 50000000\n",
    "    }\n",
    "})\n",
    "print(json.dumps(response.body, indent=4))\n",
    "\n",
    "# Get product 5\n",
    "response = es.get(index='products', id='5')\n",
    "print(json.dumps(response.body, indent=4))"
   ]
  },
  {
   "cell_type": "markdown",
   "id": "99b14dd8",
   "metadata": {},
   "source": [
    "# Delete API"
   ]
  },
  {
   "cell_type": "markdown",
   "id": "76e0914d",
   "metadata": {},
   "source": [
    "To remove a document, the Delete API is your digital shredder. Utilize it through this RESTful API command:"
   ]
  },
  {
   "cell_type": "code",
   "execution_count": null,
   "id": "a1472dc8",
   "metadata": {},
   "outputs": [],
   "source": [
    "DELETE /<index_name>/_doc/<id>"
   ]
  },
  {
   "cell_type": "markdown",
   "id": "6f25ccea",
   "metadata": {},
   "source": [
    "But remember, if you attempt to delete a document that doesn’t exist, Elasticsearch will return a 404 Not Found error. Always make sure the document is in your collection before trying to remove it."
   ]
  },
  {
   "cell_type": "markdown",
   "id": "4bcc79d2",
   "metadata": {},
   "source": [
    "Insert Spammer"
   ]
  },
  {
   "cell_type": "code",
   "execution_count": null,
   "id": "f516ebf2",
   "metadata": {},
   "outputs": [],
   "source": [
    "# Insert customer spammer\n",
    "# POST http://localhost:9200/customers/_create/spammer\n",
    "response = es.index(index='customers', id='spammer', body={\n",
    "    'name': 'Spammer',\n",
    "    'register_at': '2023-12-06 00:00:00',\n",
    "})\n",
    "print(json.dumps(response.body, indent=4))\n",
    "\n",
    "# Get customer spammer\n",
    "response = es.get_source(index='customers', id='spammer')\n",
    "print(json.dumps(response.body, indent=4))"
   ]
  },
  {
   "cell_type": "markdown",
   "id": "28287784",
   "metadata": {},
   "source": [
    "Delete Spammer"
   ]
  },
  {
   "cell_type": "code",
   "execution_count": null,
   "id": "b98be3a3",
   "metadata": {},
   "outputs": [],
   "source": [
    "# Delete customer spammer\n",
    "# DELETE http://localhost:9200/customers/_doc/spammer\n",
    "response = es.delete(index='customers', id='spammer', ignore=[404])\n",
    "print(json.dumps(response.body, indent=4))\n",
    "\n",
    "# Get customer spammer\n",
    "response = es.get_source(index='customers', id='spammer', ignore=[404])\n",
    "print(json.dumps(response.body, indent=4))"
   ]
  },
  {
   "cell_type": "markdown",
   "id": "c3694662",
   "metadata": {},
   "source": [
    "# Bulk API"
   ]
  },
  {
   "cell_type": "markdown",
   "id": "2bb3cd40",
   "metadata": {},
   "source": [
    "When dealing with many operations in Elasticsearch, the Bulk API shines by speeding up the process instead of manually handling each operation. The Bulk API bundles various operations together, including create, index, update, or delete. To use the Bulk API, apply the following RESTful API commands:"
   ]
  },
  {
   "cell_type": "code",
   "execution_count": null,
   "id": "dd32dd0a",
   "metadata": {},
   "outputs": [],
   "source": [
    "POST /_bulk\n",
    "POST /<index_name>/_bulk"
   ]
  },
  {
   "cell_type": "markdown",
   "id": "47b6e82b",
   "metadata": {},
   "source": [
    "This allows more efficient handling of large volumes of operations."
   ]
  },
  {
   "cell_type": "markdown",
   "id": "13d20f7e",
   "metadata": {},
   "source": [
    "Format Request Body untuk Bulk API"
   ]
  },
  {
   "cell_type": "code",
   "execution_count": null,
   "id": "e39dc603",
   "metadata": {},
   "outputs": [],
   "source": [
    "action_and_meta_data\\n\n",
    "optional_source\\n\n",
    "action_and_meta_data\\n\n",
    "optional_source\\n\n",
    "....\n",
    "action_and_meta_data\\n\n",
    "optional_source\\n"
   ]
  },
  {
   "cell_type": "markdown",
   "id": "83f401fb",
   "metadata": {},
   "source": [
    "Bulk Document"
   ]
  },
  {
   "cell_type": "code",
   "execution_count": null,
   "id": "12a95319",
   "metadata": {},
   "outputs": [],
   "source": [
    "# Bulk documents\n",
    "# POST http://localhost:9200/_bulk\n",
    "response = es.bulk(body=[\n",
    "    {'create': {'_index': 'customers', '_id': 'dina'}},\n",
    "    {'name': 'Dina', 'register_at': '2023-11-30 00:00:00'},\n",
    "    {'index': {'_index': 'customers', '_id': 'yuni'}},\n",
    "    {'name': 'Yuni', 'register_at': '2023-11-30 00:00:00'},\n",
    "    {'update': {'_index': 'products', '_id': '1'}},\n",
    "    {'doc': {'price': 250000}},\n",
    "    {'create': {'_index': 'customers', '_id': 'spammer'}},\n",
    "    {'name': 'Spammer', 'register_at': '2023-12-06 00:00:00'},\n",
    "    {'delete': {'_index': 'customers', '_id': 'spammer'}},\n",
    "])\n",
    "print(json.dumps(response.body, indent=4))"
   ]
  },
  {
   "cell_type": "code",
   "execution_count": null,
   "id": "ed412ab2",
   "metadata": {},
   "outputs": [],
   "source": [
    "# Get document dina\n",
    "# GET http://localhost:9200/customers/_doc/dina\n",
    "response = es.get(index='customers', id='dina')\n",
    "print(json.dumps(response.body, indent=4))\n",
    "\n",
    "# Get document yuni\n",
    "# GET http://localhost:9200/customers/_doc/yuni\n",
    "response = es.get(index='customers', id='yuni')\n",
    "print(json.dumps(response.body, indent=4))\n",
    "\n",
    "# Get document spammer\n",
    "# GET http://localhost:9200/customers/_doc/spammer\n",
    "response = es.get(index='customers', id='spammer', ignore=[404])\n",
    "print(json.dumps(response.body, indent=4))\n",
    "\n",
    "# Get document product 1\n",
    "# GET http://localhost:9200/products/_doc/1\n",
    "response = es.get(index='products', id='1')\n",
    "print(json.dumps(response.body, indent=4))"
   ]
  }
 ],
 "metadata": {},
 "nbformat": 4,
 "nbformat_minor": 5
}
