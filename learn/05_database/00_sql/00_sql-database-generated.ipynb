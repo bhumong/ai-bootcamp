{
 "cells": [
  {
   "cell_type": "markdown",
   "id": "3d1cda0c",
   "metadata": {},
   "source": [
    "source: [https://ai-bootcamp.ruangguru.com/learn/05_database/00_sql/00_sql-database.html](https://ai-bootcamp.ruangguru.com/learn/05_database/00_sql/00_sql-database.html)"
   ]
  },
  {
   "cell_type": "markdown",
   "id": "231a6037",
   "metadata": {},
   "source": [
    "# SQL Fundamentals with Python - Database"
   ]
  },
  {
   "cell_type": "markdown",
   "id": "8c8d8536",
   "metadata": {},
   "source": [
    "# Database"
   ]
  },
  {
   "cell_type": "markdown",
   "id": "7d6444e5",
   "metadata": {},
   "source": [
    "# Data vs Information"
   ]
  },
  {
   "cell_type": "markdown",
   "id": "0d032756",
   "metadata": {},
   "source": [
    "The terms Data and Information are often used interchangeably, but they actually have distinct meanings."
   ]
  },
  {
   "cell_type": "markdown",
   "id": "aa87958c",
   "metadata": {},
   "source": [
    "Data refers to raw facts or statistics in the form of text, numbers, symbols, etc., that do not carry specific meaning or purpose. On the other hand, Information is knowledge derived from study, communication, research, or instructions. Essentially, information is obtained from analyzing and interpreting one or more pieces of data."
   ]
  },
  {
   "cell_type": "markdown",
   "id": "1a400b58",
   "metadata": {},
   "source": [
    "For example:"
   ]
  },
  {
   "cell_type": "markdown",
   "id": "2203616c",
   "metadata": {},
   "source": [
    "- The number of likes on a social media post is a piece ofdata. When combined with other social media engagement statistics, like follows, comments, and shares, it becomesinformationthat can tell us which social media platform is performing the best."
   ]
  },
  {
   "cell_type": "markdown",
   "id": "3fbfabbc",
   "metadata": {},
   "source": [
    "# Introducing to database"
   ]
  },
  {
   "cell_type": "markdown",
   "id": "badc62e6",
   "metadata": {},
   "source": [
    "A database is a systematic collection of data, managed in accordance with interrelated rules, making it easier to transform data into information."
   ]
  },
  {
   "cell_type": "markdown",
   "id": "ea132047",
   "metadata": {},
   "source": [
    "When managing a database, some essential characteristics to consider are:"
   ]
  },
  {
   "cell_type": "markdown",
   "id": "529f98da",
   "metadata": {},
   "source": [
    "- Speed of data retrieval\n",
    "- Storage space efficiency\n",
    "- Reduction or elimination of data redundancy\n",
    "- Accuracy in establishing relationships between data based on data type rules, data domains, and data uniqueness."
   ]
  },
  {
   "cell_type": "markdown",
   "id": "05cad6cd",
   "metadata": {},
   "source": [
    "# Database system"
   ]
  },
  {
   "cell_type": "markdown",
   "id": "62d2e5be",
   "metadata": {},
   "source": [
    "A database, or “basis data” in Indonesian, is comprised of a basis (warehouse) and data (real-world facts representing objects) like people, goods, and so forth, manifested in the form of letters, numbers, symbols, or combinations thereof."
   ]
  },
  {
   "cell_type": "markdown",
   "id": "83567fd5",
   "metadata": {},
   "source": [
    "A database is usually managed by a DBMS (Database Management System) that acts as an interface between the database and its users. Users here can be either humans or applications. DBMS can be used by users to view, change, and manage information in the database."
   ]
  },
  {
   "cell_type": "markdown",
   "id": "e2b13647",
   "metadata": {},
   "source": []
  },
  {
   "cell_type": "markdown",
   "id": "46326f94",
   "metadata": {},
   "source": [
    "![Image](https://storage.googleapis.com/rg-ai-bootcamp/database/dbms.jpg)"
   ]
  },
  {
   "cell_type": "markdown",
   "id": "5acc62c1",
   "metadata": {},
   "source": [
    "DBMS (Sumber: digitaloceanspaces.com)"
   ]
  },
  {
   "cell_type": "markdown",
   "id": "1e0e3a93",
   "metadata": {},
   "source": [
    "Some of the most popular DBMSs are:"
   ]
  },
  {
   "cell_type": "markdown",
   "id": "d9a902a6",
   "metadata": {},
   "source": [
    "- MySQL: A SQL-based relational DBMS with a client-server architecture.\n",
    "- Elasticsearch: A distributed, RESTful search and analytics engine capable of addressing a growing number of use cases. It centrally stores your data for lightning fast search, fine-tuned relevancy, and powerful analytics that scale with ease.\n",
    "- SQLite: A relational database management system embedded into applications. SQLite stores all data in a single disk file and is very popular for mobile and desktop applications that require lightweight, local data storage.\n",
    "- And others"
   ]
  },
  {
   "cell_type": "markdown",
   "id": "f1764b9b",
   "metadata": {},
   "source": [
    "Data is typically modeled in rows and columns within a table. This structure makes it easier to perform addition, modification, deletion, and other operations. This model is common in relational databases (RDBMSs) that use SQL (Structured Query Language)."
   ]
  },
  {
   "cell_type": "markdown",
   "id": "ca8eb524",
   "metadata": {},
   "source": [
    "SQL is a programming language used to manipulate, search, access, and perform other operations within a database."
   ]
  },
  {
   "cell_type": "markdown",
   "id": "7044baef",
   "metadata": {},
   "source": [
    "But how does this differ from a Spreadsheet (like Excel, or Google Sheets)? Both are easy to use but have clear differences:"
   ]
  },
  {
   "cell_type": "markdown",
   "id": "5f9cc6f2",
   "metadata": {},
   "source": [
    "| Differences | Spreadsheet | Database |\n",
    "| --- | --- | --- |\n",
    "| Usage | For accounting tasks | Used by large companies to store large amounts of data |\n",
    "| Who can access | Designed for single-user, but can be used by multiple users in turns | Can be accessed by multiple users or applications at once |\n",
    "| Amount of data that can be stored | Data storage is limited | Can store large amounts of data |"
   ]
  },
  {
   "cell_type": "markdown",
   "id": "045fad8e",
   "metadata": {},
   "source": [
    "To illustrate the usage of a database, we will use SQL with SQLite as the relational database management system (RDBMS)."
   ]
  },
  {
   "cell_type": "markdown",
   "id": "35d0e217",
   "metadata": {},
   "source": [
    "Up until now, when creating applications in Python, we’ve been storing data in memory in the form of a list of objects:"
   ]
  },
  {
   "cell_type": "code",
   "execution_count": null,
   "id": "6048247c",
   "metadata": {},
   "outputs": [],
   "source": [
    "class StudentRow:\n",
    "    def __init__(self, ID, username, grade):\n",
    "        self.ID = ID\n",
    "        self.username = username\n",
    "        self.grade = grade\n",
    "\n",
    "students = []\n",
    "students.append(StudentRow(1, 'aditira', 83))\n",
    "students.append(StudentRow(2, 'gina', 77))\n",
    "students.append(StudentRow(3, 'ria', 64))\n",
    "\n",
    "for student in students:\n",
    "    print(student.__dict__)"
   ]
  },
  {
   "cell_type": "code",
   "execution_count": null,
   "id": "f50e0633",
   "metadata": {},
   "outputs": [],
   "source": [
    "{'ID': 1, 'username': 'aditira', 'grade': 83}\n",
    "{'ID': 2, 'username': 'gina', 'grade': 77}\n",
    "{'ID': 3, 'username': 'ria', 'grade': 64}"
   ]
  },
  {
   "cell_type": "markdown",
   "id": "391def4b",
   "metadata": {},
   "source": [
    "This approach has some challenges, such as the data not being permanently stored when the application is terminated, and the data is hard to process because it requires several lines of Python code to manipulate the data."
   ]
  },
  {
   "cell_type": "markdown",
   "id": "78f721bd",
   "metadata": {},
   "source": [
    "For example, if we want to get the average Grade from the above student list:"
   ]
  },
  {
   "cell_type": "code",
   "execution_count": null,
   "id": "a333e5e9",
   "metadata": {},
   "outputs": [],
   "source": [
    "sum_of_grades = sum(student.grade for student in students)\n",
    "average_grade = sum_of_grades / len(students)\n",
    "\n",
    "print(\"Grade Average is \", average_grade)"
   ]
  },
  {
   "cell_type": "code",
   "execution_count": null,
   "id": "b7083982",
   "metadata": {},
   "outputs": [],
   "source": [
    "Grade Average is  74.66666666666667"
   ]
  },
  {
   "cell_type": "markdown",
   "id": "87676860",
   "metadata": {},
   "source": [
    "This requires about 3 lines of code to get the average Grade. Now let’s compare this with using SQL."
   ]
  },
  {
   "cell_type": "markdown",
   "id": "4da463d6",
   "metadata": {},
   "source": [
    "Assuming we already have a students table with id, username, and grade columns using SQLite. We can input data with the following SQL command:"
   ]
  },
  {
   "cell_type": "code",
   "execution_count": null,
   "id": "7f847e5e",
   "metadata": {},
   "outputs": [],
   "source": [
    "import sqlite3\n",
    "\n",
    "# Connect to SQLite database in memory\n",
    "conn = sqlite3.connect(':memory:')\n",
    "\n",
    "# Create a cursor object\n",
    "c = conn.cursor()\n",
    "\n",
    "# Create table\n",
    "c.execute(\"\"\"\n",
    "    CREATE TABLE students (\n",
    "        id INTEGER PRIMARY KEY,\n",
    "        username TEXT,\n",
    "        grade INTEGER\n",
    "    )\n",
    "\"\"\")"
   ]
  },
  {
   "cell_type": "code",
   "execution_count": null,
   "id": "f3a8094c",
   "metadata": {},
   "outputs": [],
   "source": [
    "<sqlite3.Cursor at 0x27c0db505c0>"
   ]
  },
  {
   "cell_type": "code",
   "execution_count": null,
   "id": "557dad3b",
   "metadata": {},
   "outputs": [],
   "source": [
    "INSERT INTO public.students (username, grade) values ('aditira',83),('gina',77),('ria',64);"
   ]
  },
  {
   "cell_type": "code",
   "execution_count": null,
   "id": "427a3390",
   "metadata": {},
   "outputs": [],
   "source": [
    "# Insert values\n",
    "c.execute(\"\"\"\n",
    "    INSERT INTO students (username, grade) \n",
    "    VALUES \n",
    "        ('aditira',83),\n",
    "        ('gina',77),\n",
    "        ('ria',64)\n",
    "\"\"\")"
   ]
  },
  {
   "cell_type": "code",
   "execution_count": null,
   "id": "e4abe74a",
   "metadata": {},
   "outputs": [],
   "source": [
    "<sqlite3.Cursor at 0x27c0db505c0>"
   ]
  },
  {
   "cell_type": "markdown",
   "id": "7ae1d06e",
   "metadata": {},
   "source": [
    "And we can retrieve the data with this simple SQL command:"
   ]
  },
  {
   "cell_type": "code",
   "execution_count": null,
   "id": "ed5bcc10",
   "metadata": {},
   "outputs": [],
   "source": [
    "SELECT * FROM students;"
   ]
  },
  {
   "cell_type": "code",
   "execution_count": null,
   "id": "4cbc67cc",
   "metadata": {},
   "outputs": [],
   "source": [
    "import pandas as pd\n",
    "\n",
    "# Commit the transaction\n",
    "conn.commit()\n",
    "\n",
    "# Retrieve data and convert into DataFrame\n",
    "pd.read_sql_query(\"SELECT * FROM students\", conn)"
   ]
  },
  {
   "cell_type": "markdown",
   "id": "effed8c4",
   "metadata": {},
   "source": [
    "|  | id | username | grade |\n",
    "| --- | --- | --- | --- |\n",
    "| 0 | 1 | aditira | 83 |\n",
    "| 1 | 2 | gina | 77 |\n",
    "| 2 | 3 | ria | 64 |"
   ]
  },
  {
   "cell_type": "markdown",
   "id": "f769d4e7",
   "metadata": {},
   "source": [
    "Quite easy, isn’t it! 😎 And to get the average value of student grades is even easier, with this simple SQL command:"
   ]
  },
  {
   "cell_type": "code",
   "execution_count": null,
   "id": "86bc920c",
   "metadata": {},
   "outputs": [],
   "source": [
    "SELECT AVG(grade) FROM students;"
   ]
  },
  {
   "cell_type": "code",
   "execution_count": null,
   "id": "7dd4eb91",
   "metadata": {},
   "outputs": [],
   "source": [
    "import pandas as pd\n",
    "\n",
    "# Commit the transaction\n",
    "conn.commit()\n",
    "\n",
    "# Retrieve data and convert into DataFrame\n",
    "pd.read_sql_query(\"SELECT AVG(grade) FROM students\", conn)"
   ]
  },
  {
   "cell_type": "markdown",
   "id": "526a5351",
   "metadata": {},
   "source": [
    "|  | AVG(grade) |\n",
    "| --- | --- |\n",
    "| 0 | 74.666667 |"
   ]
  },
  {
   "cell_type": "code",
   "execution_count": null,
   "id": "af7624ce",
   "metadata": {},
   "outputs": [],
   "source": [
    "# Close the connection\n",
    "conn.close()"
   ]
  },
  {
   "cell_type": "markdown",
   "id": "049cc7ea",
   "metadata": {},
   "source": [
    "So you can see that using a database, our application data is much easier to process and is stored more securely for long-term use."
   ]
  },
  {
   "cell_type": "markdown",
   "id": "e82aa90c",
   "metadata": {},
   "source": [
    "# DDL (Data Definition Language)"
   ]
  },
  {
   "cell_type": "markdown",
   "id": "43bf4f93",
   "metadata": {},
   "source": [
    "# What is DDL?"
   ]
  },
  {
   "cell_type": "markdown",
   "id": "fc88c027",
   "metadata": {},
   "source": [
    "Before we start using a database, we need to set things up by creating tables, schemas, views, and indexes. This process is referred to as Data Definition Language (DDL)."
   ]
  },
  {
   "cell_type": "markdown",
   "id": "4e510216",
   "metadata": {},
   "source": [
    "There are several SQL commands used to carry out these tasks, such as CREATE, ALTER, DROP, TRUNCATE."
   ]
  },
  {
   "cell_type": "markdown",
   "id": "2d511121",
   "metadata": {},
   "source": [
    "Let’s consider the following table as an example. This table contains simple employee data:"
   ]
  },
  {
   "cell_type": "markdown",
   "id": "3e6a469a",
   "metadata": {},
   "source": [
    "| ID | name | age | address | salary |\n",
    "| --- | --- | --- | --- | --- |\n",
    "| 1 | Rizki | 25 | Jl. Kebon Jeruk | 2000000 |\n",
    "| 2 | Andi | 27 | Jl. Kebon Sirih | 3000000 |\n",
    "| 3 | Budi | 30 | Jl. Kebon Melati | 4000000 |\n",
    "| 4 | Caca | 32 | Jl. Kebon Anggrek | 5000000 |\n",
    "| 5 | Deni | 35 | Jl. Kebon Mawar | 6000000 |"
   ]
  },
  {
   "cell_type": "markdown",
   "id": "1a097678",
   "metadata": {},
   "source": [
    "Next, we will apply DDL to this table."
   ]
  },
  {
   "cell_type": "markdown",
   "id": "6aa59163",
   "metadata": {},
   "source": [
    "# SQL Data Types"
   ]
  },
  {
   "cell_type": "markdown",
   "id": "de32b570",
   "metadata": {},
   "source": [
    "To create a table, we need to determine the data types to be used. These data types will limit the kind of data that can be inserted into each column. The data types in SQL are not much different from those in Python. Here are some commonly used data types:"
   ]
  },
  {
   "cell_type": "markdown",
   "id": "0fabce78",
   "metadata": {},
   "source": [
    "| Data type | Description |\n",
    "| --- | --- |\n",
    "| VARCHAR(size) | A character data type with a flexible length, likestringin Python |\n",
    "| TEXT | A character data type with a maximum length of 65535 characters |\n",
    "| INT / INTEGER | An integer data type |\n",
    "| FLOAT | A decimal number data type |\n",
    "| BOOLEAN | A boolean data type (true/false) |\n",
    "| DATE | A date data type |\n",
    "| DATETIME | A date and time data type |"
   ]
  },
  {
   "cell_type": "markdown",
   "id": "b48c01ff",
   "metadata": {},
   "source": [
    "For the VARCHAR data type, we need to specify the size (a number from 1 - 255). This size will limit the length of the characters that can be entered into that column. For instance, VARCHAR(50) will limit the length of the characters that can be entered into that column to 50 characters. If we enter characters longer than 50, an error will occur."
   ]
  },
  {
   "cell_type": "markdown",
   "id": "f3649d0e",
   "metadata": {},
   "source": [
    "The VARCHAR data type can only hold a maximum of 255 characters. If we want to store more than 255 characters, we need to use the TEXT data type, which has a maximum length of 65535 characters."
   ]
  },
  {
   "cell_type": "markdown",
   "id": "f5914db5",
   "metadata": {},
   "source": [
    "For more details, you can check here."
   ]
  },
  {
   "cell_type": "markdown",
   "id": "9f495ae9",
   "metadata": {},
   "source": [
    "# CREATE"
   ]
  },
  {
   "cell_type": "markdown",
   "id": "894e40d9",
   "metadata": {},
   "source": [
    "The CREATE command is used to create a new object such as a database, table, schema, view, or index."
   ]
  },
  {
   "cell_type": "markdown",
   "id": "79ffe3ce",
   "metadata": {},
   "source": [
    "To create a new database, we can use the CREATE DATABASE command as follows:"
   ]
  },
  {
   "cell_type": "code",
   "execution_count": null,
   "id": "56e777ec",
   "metadata": {},
   "outputs": [],
   "source": [
    "CREATE DATABASE <db-name>;"
   ]
  },
  {
   "cell_type": "markdown",
   "id": "76f0aa78",
   "metadata": {},
   "source": [
    "Where <db-name> is the name of the database to be created. Don’t forget to end each SQL command with a ;."
   ]
  },
  {
   "cell_type": "markdown",
   "id": "a99748ca",
   "metadata": {},
   "source": [
    "Example:"
   ]
  },
  {
   "cell_type": "code",
   "execution_count": null,
   "id": "e841d6ac",
   "metadata": {},
   "outputs": [],
   "source": [
    "CREATE DATABASE db_employee;"
   ]
  },
  {
   "cell_type": "markdown",
   "id": "a93d5a86",
   "metadata": {},
   "source": [
    "With python and SQLite let’s import the necessary module and establish a connection to the database."
   ]
  },
  {
   "cell_type": "code",
   "execution_count": null,
   "id": "7173efbb",
   "metadata": {},
   "outputs": [],
   "source": [
    "import sqlite3\n",
    "\n",
    "# Connect to the SQLite database\n",
    "# If the database does not exist, it will be created\n",
    "conn = sqlite3.connect('db/sqlite.db')\n",
    "\n",
    "# Create a cursor object\n",
    "cur = conn.cursor()"
   ]
  },
  {
   "cell_type": "markdown",
   "id": "e9c99014",
   "metadata": {},
   "source": [
    "The command above creates a new database named db_employee."
   ]
  },
  {
   "cell_type": "markdown",
   "id": "9da8b633",
   "metadata": {},
   "source": [
    "Next, we can also use CREATE to create a new table. We can use CREATE TABLE as follows:"
   ]
  },
  {
   "cell_type": "code",
   "execution_count": null,
   "id": "09bb973f",
   "metadata": {},
   "outputs": [],
   "source": [
    "CREATE TABLE <table-name> (\n",
    "  <column-name> <data-type> <constraints>,\n",
    "  <column-name> <data-type> <constraints>,\n",
    "  ...\n",
    ");"
   ]
  },
  {
   "cell_type": "markdown",
   "id": "243cdab2",
   "metadata": {},
   "source": [
    "Where <table-name> is the name of the table to be created, <column-name> is the name of the column, <data-type> is the data type to be used, and <constraints> are the rules to be applied to that column. To create a column with more than one rule, we can separate them with a comma ,."
   ]
  },
  {
   "cell_type": "markdown",
   "id": "f438a78f",
   "metadata": {},
   "source": [
    "Example command to create an employee table:"
   ]
  },
  {
   "cell_type": "code",
   "execution_count": null,
   "id": "26dc1ff7",
   "metadata": {},
   "outputs": [],
   "source": [
    "CREATE TABLE employee (\n",
    "  id INT,\n",
    "  name VARCHAR(255) NOT NULL,\n",
    "  age INT NOT NULL,\n",
    "  address VARCHAR(255),\n",
    "  salary INT\n",
    ");"
   ]
  },
  {
   "cell_type": "markdown",
   "id": "0582a276",
   "metadata": {},
   "source": [
    "Let’s create an employee table."
   ]
  },
  {
   "cell_type": "code",
   "execution_count": null,
   "id": "bd0b1a84",
   "metadata": {},
   "outputs": [],
   "source": [
    "# Execute a SQL command: this creates a new table\n",
    "cur.execute('''\n",
    "    CREATE TABLE employee (\n",
    "        id INTEGER,\n",
    "        name TEXT NOT NULL,\n",
    "        age INTEGER NOT NULL,\n",
    "        address TEXT,\n",
    "        salary INTEGER\n",
    "    )\n",
    "''')\n",
    "\n",
    "# Commit the transaction\n",
    "conn.commit()"
   ]
  },
  {
   "cell_type": "markdown",
   "id": "d5ebf70c",
   "metadata": {},
   "source": [
    "See the table:"
   ]
  },
  {
   "cell_type": "code",
   "execution_count": null,
   "id": "778af221",
   "metadata": {},
   "outputs": [],
   "source": [
    "import pandas as pd\n",
    "\n",
    "pd.read_sql_query(\"SELECT * FROM employee\", conn)"
   ]
  },
  {
   "cell_type": "markdown",
   "id": "b84ab617",
   "metadata": {},
   "source": [
    "|  | id | name | age | address | salary |\n",
    "| --- | --- | --- | --- | --- | --- |"
   ]
  },
  {
   "cell_type": "markdown",
   "id": "02beadf6",
   "metadata": {},
   "source": [
    "From the example above, we are creating a new table named employee that has 5 columns, namely id, name, age, address, and salary. For the id and age columns, we use the INT data type, which means integer, while for the name and address columns, we use the VARCHAR data type, which means character. The salary column also uses the INT data type, which means integer."
   ]
  },
  {
   "cell_type": "markdown",
   "id": "259d9369",
   "metadata": {},
   "source": [
    "For the name and age columns, we apply the NOT NULL constraint, which means that these columns cannot be empty. If we enter empty data or empty characters \"\" into these columns, an error will occur."
   ]
  },
  {
   "cell_type": "markdown",
   "id": "127e0d1c",
   "metadata": {},
   "source": [
    "You can try creating a new table named employee as above in an online SQL compiler or in your own pgAdmin / DBMS tool."
   ]
  },
  {
   "cell_type": "markdown",
   "id": "bb39e46b",
   "metadata": {},
   "source": [
    "# ALTER"
   ]
  },
  {
   "cell_type": "markdown",
   "id": "162e54a8",
   "metadata": {},
   "source": [
    "The ALTER command is used to modify the structure of the database. For example, if we want to add a new column to an existing table, we can use the ALTER TABLE command as follows:"
   ]
  },
  {
   "cell_type": "code",
   "execution_count": null,
   "id": "9dca38cd",
   "metadata": {},
   "outputs": [],
   "source": [
    "ALTER TABLE <table-name> ADD <column-name> <data-type> <constraints>;"
   ]
  },
  {
   "cell_type": "markdown",
   "id": "e69d5d2d",
   "metadata": {},
   "source": [
    "Where <table-name> is the name of the table to be modified, <column-name> is the name of the column to be added, <data-type> is the data type to be used, and <constraints> are the rules to be applied to that column."
   ]
  },
  {
   "cell_type": "markdown",
   "id": "6f5e0b6f",
   "metadata": {},
   "source": [
    "If we want to add a new column named email with data type VARCHAR(255) to the employee table, we can use the following command:"
   ]
  },
  {
   "cell_type": "code",
   "execution_count": null,
   "id": "b2b3814c",
   "metadata": {},
   "outputs": [],
   "source": [
    "ALTER TABLE employee ADD email VARCHAR(255);"
   ]
  },
  {
   "cell_type": "markdown",
   "id": "b7ed93a3",
   "metadata": {},
   "source": [
    "Try in python using SQLite:"
   ]
  },
  {
   "cell_type": "code",
   "execution_count": null,
   "id": "83dc6751",
   "metadata": {},
   "outputs": [],
   "source": [
    "cur.execute('ALTER TABLE employee ADD COLUMN email TEXT')\n",
    "conn.commit()"
   ]
  },
  {
   "cell_type": "markdown",
   "id": "9613d557",
   "metadata": {},
   "source": [
    "See the table:"
   ]
  },
  {
   "cell_type": "code",
   "execution_count": null,
   "id": "e6d49867",
   "metadata": {},
   "outputs": [],
   "source": [
    "import pandas as pd\n",
    "\n",
    "pd.read_sql_query(\"SELECT * FROM employee\", conn)"
   ]
  },
  {
   "cell_type": "markdown",
   "id": "027f058f",
   "metadata": {},
   "source": [
    "|  | id | name | age | address | salary | email |\n",
    "| --- | --- | --- | --- | --- | --- | --- |"
   ]
  },
  {
   "cell_type": "markdown",
   "id": "ba969e33",
   "metadata": {},
   "source": [
    "The example above means that we are adding a new column named email with the data type VARCHAR(255) to the employee table."
   ]
  },
  {
   "cell_type": "markdown",
   "id": "b23ee203",
   "metadata": {},
   "source": [
    "We can also modify an existing column with the ALTER COLUMN command as follows:"
   ]
  },
  {
   "cell_type": "code",
   "execution_count": null,
   "id": "75f8b468",
   "metadata": {},
   "outputs": [],
   "source": [
    "ALTER TABLE <table-name> ALTER COLUMN <column-name> TYPE <data-type> <constraints>;"
   ]
  },
  {
   "cell_type": "markdown",
   "id": "a7751e3a",
   "metadata": {},
   "source": [
    "We can change salary to the FLOAT data type with the following command:"
   ]
  },
  {
   "cell_type": "code",
   "execution_count": null,
   "id": "e7542657",
   "metadata": {},
   "outputs": [],
   "source": [
    "ALTER TABLE employee ALTER COLUMN salary TYPE FLOAT;"
   ]
  },
  {
   "cell_type": "markdown",
   "id": "e55358de",
   "metadata": {},
   "source": [
    "We can also rename a column with the RENAME TO command as follows:"
   ]
  },
  {
   "cell_type": "code",
   "execution_count": null,
   "id": "ea79b8bf",
   "metadata": {},
   "outputs": [],
   "source": [
    "ALTER TABLE <table-name> RENAME TO <new-table-name>;"
   ]
  },
  {
   "cell_type": "markdown",
   "id": "91e40193",
   "metadata": {},
   "source": [
    "Where <table-name> is the name of the table to be modified, and <new-table-name> is the new table name."
   ]
  },
  {
   "cell_type": "markdown",
   "id": "01e624b0",
   "metadata": {},
   "source": [
    "We can rename the employee table to employees with the following command:"
   ]
  },
  {
   "cell_type": "code",
   "execution_count": null,
   "id": "06902660",
   "metadata": {},
   "outputs": [],
   "source": [
    "ALTER TABLE employee RENAME TO employees;"
   ]
  },
  {
   "cell_type": "markdown",
   "id": "d581d5b5",
   "metadata": {},
   "source": [
    "Try in python using SQLite:"
   ]
  },
  {
   "cell_type": "code",
   "execution_count": null,
   "id": "98d46d23",
   "metadata": {},
   "outputs": [],
   "source": [
    "cur.execute('ALTER TABLE employee RENAME TO employees')\n",
    "conn.commit()"
   ]
  },
  {
   "cell_type": "markdown",
   "id": "565db897",
   "metadata": {},
   "source": [
    "See the table:"
   ]
  },
  {
   "cell_type": "code",
   "execution_count": null,
   "id": "a354f20f",
   "metadata": {},
   "outputs": [],
   "source": [
    "import pandas as pd\n",
    "\n",
    "pd.read_sql_query(\"SELECT * FROM employees\", conn)  # Change table employee to employees"
   ]
  },
  {
   "cell_type": "markdown",
   "id": "fdb5c544",
   "metadata": {},
   "source": [
    "|  | id | name | age | address | salary | email |\n",
    "| --- | --- | --- | --- | --- | --- | --- |"
   ]
  },
  {
   "cell_type": "markdown",
   "id": "2d2692ac",
   "metadata": {},
   "source": [
    "Finally, we can delete a column with the DROP COLUMN command as follows:"
   ]
  },
  {
   "cell_type": "code",
   "execution_count": null,
   "id": "64ff27aa",
   "metadata": {},
   "outputs": [],
   "source": [
    "ALTER TABLE <table-name> DROP COLUMN <column-name>;"
   ]
  },
  {
   "cell_type": "markdown",
   "id": "05c8385a",
   "metadata": {},
   "source": [
    "Where <table-name> is the name of the table to be modified, and <column-name> is the name of the column to be deleted."
   ]
  },
  {
   "cell_type": "markdown",
   "id": "d3fd6fe3",
   "metadata": {},
   "source": [
    "We can delete the email column of the employee table with the following command:"
   ]
  },
  {
   "cell_type": "code",
   "execution_count": null,
   "id": "18813e57",
   "metadata": {},
   "outputs": [],
   "source": [
    "ALTER TABLE employee DROP COLUMN email;"
   ]
  },
  {
   "cell_type": "markdown",
   "id": "688d516f",
   "metadata": {},
   "source": [
    "Try in python using SQLite:"
   ]
  },
  {
   "cell_type": "code",
   "execution_count": null,
   "id": "286dab94",
   "metadata": {},
   "outputs": [],
   "source": [
    "cur.execute('ALTER TABLE employees DROP COLUMN email')\n",
    "conn.commit()"
   ]
  },
  {
   "cell_type": "markdown",
   "id": "f0b2d550",
   "metadata": {},
   "source": [
    "See the table:"
   ]
  },
  {
   "cell_type": "code",
   "execution_count": null,
   "id": "e2fa168a",
   "metadata": {},
   "outputs": [],
   "source": [
    "import pandas as pd\n",
    "\n",
    "pd.read_sql_query(\"SELECT * FROM employees\", conn)"
   ]
  },
  {
   "cell_type": "markdown",
   "id": "6877417b",
   "metadata": {},
   "source": [
    "|  | id | name | age | address | salary |\n",
    "| --- | --- | --- | --- | --- | --- |"
   ]
  },
  {
   "cell_type": "markdown",
   "id": "216e9982",
   "metadata": {},
   "source": [
    "After running the command above, the email column of the employee table will be deleted."
   ]
  },
  {
   "cell_type": "markdown",
   "id": "1aa93511",
   "metadata": {},
   "source": [
    "You can try using the ALTER command as above in an online SQL compiler or in your own pgAdmin / DBMS tool."
   ]
  },
  {
   "cell_type": "markdown",
   "id": "f66fd066",
   "metadata": {},
   "source": [
    "# DROP"
   ]
  },
  {
   "cell_type": "markdown",
   "id": "9ea4aee2",
   "metadata": {},
   "source": [
    "The DROP command is used to delete records or objects that exist in the database."
   ]
  },
  {
   "cell_type": "markdown",
   "id": "ada73f53",
   "metadata": {},
   "source": [
    "We can delete the employee table that was previously created using DROP TABLE as follows:"
   ]
  },
  {
   "cell_type": "code",
   "execution_count": null,
   "id": "1e20e739",
   "metadata": {},
   "outputs": [],
   "source": [
    "DROP TABLE <table-name>"
   ]
  },
  {
   "cell_type": "markdown",
   "id": "19d504ff",
   "metadata": {},
   "source": [
    "Where <table-name> is the name of the table to be deleted."
   ]
  },
  {
   "cell_type": "markdown",
   "id": "d79bed68",
   "metadata": {},
   "source": [
    "We can delete the employee table with the following command:"
   ]
  },
  {
   "cell_type": "code",
   "execution_count": null,
   "id": "d6b21753",
   "metadata": {},
   "outputs": [],
   "source": [
    "DROP TABLE employee;"
   ]
  },
  {
   "cell_type": "markdown",
   "id": "c79945cd",
   "metadata": {},
   "source": [
    "Try in python using SQLite:"
   ]
  },
  {
   "cell_type": "code",
   "execution_count": null,
   "id": "ca0037ff",
   "metadata": {},
   "outputs": [],
   "source": [
    "cur.execute('DROP TABLE employees')\n",
    "conn.commit()"
   ]
  },
  {
   "cell_type": "markdown",
   "id": "14a0cf2d",
   "metadata": {},
   "source": [
    "See the table (expected error):"
   ]
  },
  {
   "cell_type": "code",
   "execution_count": null,
   "id": "4506915f",
   "metadata": {},
   "outputs": [],
   "source": [
    "import pandas as pd\n",
    "\n",
    "pd.read_sql_query(\"SELECT * FROM employees\", conn)"
   ]
  },
  {
   "cell_type": "markdown",
   "id": "530ed1fa",
   "metadata": {},
   "source": [
    "We can also delete a database with the DROP DATABASE command as follows:"
   ]
  },
  {
   "cell_type": "code",
   "execution_count": null,
   "id": "be6e3a7a",
   "metadata": {},
   "outputs": [],
   "source": [
    "DROP DATABASE <database-name>"
   ]
  },
  {
   "cell_type": "markdown",
   "id": "7b6ba83b",
   "metadata": {},
   "source": [
    "Where <database-name> is the name of the database to be deleted."
   ]
  },
  {
   "cell_type": "markdown",
   "id": "ab666ee3",
   "metadata": {},
   "source": [
    "We can delete the db_employee database with the following command:"
   ]
  },
  {
   "cell_type": "code",
   "execution_count": null,
   "id": "f12f2d5c",
   "metadata": {},
   "outputs": [],
   "source": [
    "DROP DATABASE db_employees;"
   ]
  },
  {
   "cell_type": "markdown",
   "id": "a2436fd2",
   "metadata": {},
   "source": [
    "You can try using the DROP command as above in an online SQL compiler or in your own pgAdmin / DBMS tool."
   ]
  },
  {
   "cell_type": "markdown",
   "id": "c2ce540d",
   "metadata": {},
   "source": [
    "# TRUNCATE"
   ]
  },
  {
   "cell_type": "markdown",
   "id": "13b53ed7",
   "metadata": {},
   "source": [
    "The TRUNCATE command is used to delete all records (data) within a table."
   ]
  },
  {
   "cell_type": "markdown",
   "id": "b8c7559d",
   "metadata": {},
   "source": [
    "We can delete all records in the employee table with the TRUNCATE TABLE command as follows:"
   ]
  },
  {
   "cell_type": "code",
   "execution_count": null,
   "id": "cd9f111e",
   "metadata": {},
   "outputs": [],
   "source": [
    "TRUNCATE TABLE <table-name>"
   ]
  },
  {
   "cell_type": "markdown",
   "id": "5d9e8960",
   "metadata": {},
   "source": [
    "Where <table-name> is the name of the table whose records will be deleted."
   ]
  },
  {
   "cell_type": "markdown",
   "id": "6d73e01d",
   "metadata": {},
   "source": [
    "We can delete all records in the employee table with the following command:"
   ]
  },
  {
   "cell_type": "code",
   "execution_count": null,
   "id": "b9fbf313",
   "metadata": {},
   "outputs": [],
   "source": [
    "TRUNCATE TABLE employee;"
   ]
  },
  {
   "cell_type": "markdown",
   "id": "257b26fb",
   "metadata": {},
   "source": [
    "Try in python using SQLite (Insert Data):"
   ]
  },
  {
   "cell_type": "code",
   "execution_count": null,
   "id": "0cf54cef",
   "metadata": {},
   "outputs": [],
   "source": [
    "cur.execute(\"INSERT INTO employees VALUES (1, 'Rizki', 25, 'Jl. Kebon Jeruk', 2000000)\")\n",
    "cur.execute(\"INSERT INTO employees VALUES (2, 'Aditira', 22, 'Jl. Cibinong', 19000000)\")\n",
    "conn.commit()"
   ]
  },
  {
   "cell_type": "markdown",
   "id": "b5db2d68",
   "metadata": {},
   "source": [
    "See the table:"
   ]
  },
  {
   "cell_type": "code",
   "execution_count": null,
   "id": "b8e53841",
   "metadata": {},
   "outputs": [],
   "source": [
    "import pandas as pd\n",
    "\n",
    "pd.read_sql_query(\"SELECT * FROM employees\", conn)"
   ]
  },
  {
   "cell_type": "markdown",
   "id": "12edf056",
   "metadata": {},
   "source": [
    "|  | id | name | age | address | salary |\n",
    "| --- | --- | --- | --- | --- | --- |\n",
    "| 0 | 1 | Rizki | 25 | Jl. Kebon Jeruk | 2000000 |\n",
    "| 1 | 2 | Aditira | 22 | Jl. Cibinong | 19000000 |"
   ]
  },
  {
   "cell_type": "markdown",
   "id": "1ff820b2",
   "metadata": {},
   "source": [
    "Delete all records:"
   ]
  },
  {
   "cell_type": "code",
   "execution_count": null,
   "id": "5e189924",
   "metadata": {},
   "outputs": [],
   "source": [
    "cur.execute('DELETE FROM employees')\n",
    "conn.commit()"
   ]
  },
  {
   "cell_type": "markdown",
   "id": "cfa14fb7",
   "metadata": {},
   "source": [
    "See the table:"
   ]
  },
  {
   "cell_type": "code",
   "execution_count": null,
   "id": "f70383e1",
   "metadata": {},
   "outputs": [],
   "source": [
    "import pandas as pd\n",
    "\n",
    "pd.read_sql_query(\"SELECT * FROM employees\", conn)"
   ]
  },
  {
   "cell_type": "markdown",
   "id": "eb80756d",
   "metadata": {},
   "source": [
    "|  | id | name | age | address | salary |\n",
    "| --- | --- | --- | --- | --- | --- |"
   ]
  },
  {
   "cell_type": "markdown",
   "id": "0ce97f4a",
   "metadata": {},
   "source": [
    "When the command above is run, all records (rows of data) in the employee table will be deleted, resulting in 0 records."
   ]
  },
  {
   "cell_type": "markdown",
   "id": "36fe7437",
   "metadata": {},
   "source": [
    "You can try using the TRUNCATE command as above in an online SQL compiler or in your own pgAdmin / DBMS tool."
   ]
  },
  {
   "cell_type": "code",
   "execution_count": null,
   "id": "0af28555",
   "metadata": {},
   "outputs": [],
   "source": [
    "# Close the connection\n",
    "conn.close()"
   ]
  },
  {
   "cell_type": "markdown",
   "id": "cc272e73",
   "metadata": {},
   "source": [
    "Next we’ll go into how to set up and manipulate data in tables."
   ]
  }
 ],
 "metadata": {},
 "nbformat": 4,
 "nbformat_minor": 5
}
