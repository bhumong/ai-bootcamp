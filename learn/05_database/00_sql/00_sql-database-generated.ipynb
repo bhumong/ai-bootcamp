{
 "cells": [
  {
   "cell_type": "markdown",
   "id": "5726a148",
   "metadata": {},
   "source": [
    "# SQL Fundamentals with Python - Database"
   ]
  },
  {
   "cell_type": "markdown",
   "id": "6daf5af1",
   "metadata": {},
   "source": [
    "# Database"
   ]
  },
  {
   "cell_type": "markdown",
   "id": "f2adc45f",
   "metadata": {},
   "source": [
    "# Data vs Information"
   ]
  },
  {
   "cell_type": "markdown",
   "id": "28117038",
   "metadata": {},
   "source": [
    "The terms Data and Information are often used interchangeably, but they actually have distinct meanings."
   ]
  },
  {
   "cell_type": "markdown",
   "id": "5c178f2b",
   "metadata": {},
   "source": [
    "Data refers to raw facts or statistics in the form of text, numbers, symbols, etc., that do not carry specific meaning or purpose. On the other hand, Information is knowledge derived from study, communication, research, or instructions. Essentially, information is obtained from analyzing and interpreting one or more pieces of data."
   ]
  },
  {
   "cell_type": "markdown",
   "id": "0cd2f1a6",
   "metadata": {},
   "source": [
    "For example:"
   ]
  },
  {
   "cell_type": "markdown",
   "id": "6c8769ad",
   "metadata": {},
   "source": [
    "# Introducing to database"
   ]
  },
  {
   "cell_type": "markdown",
   "id": "b7fd1cfb",
   "metadata": {},
   "source": [
    "A database is a systematic collection of data, managed in accordance with interrelated rules, making it easier to transform data into information."
   ]
  },
  {
   "cell_type": "markdown",
   "id": "ae70b6fb",
   "metadata": {},
   "source": [
    "When managing a database, some essential characteristics to consider are:"
   ]
  },
  {
   "cell_type": "markdown",
   "id": "5b6cf45f",
   "metadata": {},
   "source": [
    "# Database system"
   ]
  },
  {
   "cell_type": "markdown",
   "id": "10a01033",
   "metadata": {},
   "source": [
    "A database, or “basis data” in Indonesian, is comprised of a basis (warehouse) and data (real-world facts representing objects) like people, goods, and so forth, manifested in the form of letters, numbers, symbols, or combinations thereof."
   ]
  },
  {
   "cell_type": "markdown",
   "id": "c92c763b",
   "metadata": {},
   "source": [
    "A database is usually managed by a DBMS (Database Management System) that acts as an interface between the database and its users. Users here can be either humans or applications. DBMS can be used by users to view, change, and manage information in the database."
   ]
  },
  {
   "cell_type": "markdown",
   "id": "467efd50",
   "metadata": {},
   "source": []
  },
  {
   "cell_type": "markdown",
   "id": "ce6b51b0",
   "metadata": {},
   "source": [
    "![Image](https://storage.googleapis.com/rg-ai-bootcamp/database/dbms.jpg)"
   ]
  },
  {
   "cell_type": "markdown",
   "id": "6c95f815",
   "metadata": {},
   "source": [
    "DBMS (Sumber: digitaloceanspaces.com)"
   ]
  },
  {
   "cell_type": "markdown",
   "id": "3c4d1dad",
   "metadata": {},
   "source": [
    "Some of the most popular DBMSs are:"
   ]
  },
  {
   "cell_type": "markdown",
   "id": "3088fc44",
   "metadata": {},
   "source": [
    "Data is typically modeled in rows and columns within a table. This structure makes it easier to perform addition, modification, deletion, and other operations. This model is common in relational databases (RDBMSs) that use SQL (Structured Query Language)."
   ]
  },
  {
   "cell_type": "markdown",
   "id": "10ffc110",
   "metadata": {},
   "source": [
    "SQL is a programming language used to manipulate, search, access, and perform other operations within a database."
   ]
  },
  {
   "cell_type": "markdown",
   "id": "9175bf1c",
   "metadata": {},
   "source": [
    "But how does this differ from a Spreadsheet (like Excel, or Google Sheets)? Both are easy to use but have clear differences:"
   ]
  },
  {
   "cell_type": "markdown",
   "id": "fe20d286",
   "metadata": {},
   "source": [
    "To illustrate the usage of a database, we will use SQL with SQLite as the relational database management system (RDBMS)."
   ]
  },
  {
   "cell_type": "markdown",
   "id": "52989a8f",
   "metadata": {},
   "source": [
    "Up until now, when creating applications in Python, we’ve been storing data in memory in the form of a list of objects:"
   ]
  },
  {
   "cell_type": "code",
   "execution_count": null,
   "id": "49195324",
   "metadata": {},
   "outputs": [],
   "source": [
    "class StudentRow:\n",
    "    def __init__(self, ID, username, grade):\n",
    "        self.ID = ID\n",
    "        self.username = username\n",
    "        self.grade = grade\n",
    "\n",
    "students = []\n",
    "students.append(StudentRow(1, 'aditira', 83))\n",
    "students.append(StudentRow(2, 'gina', 77))\n",
    "students.append(StudentRow(3, 'ria', 64))\n",
    "\n",
    "for student in students:\n",
    "    print(student.__dict__)"
   ]
  },
  {
   "cell_type": "code",
   "execution_count": null,
   "id": "a0bda8af",
   "metadata": {},
   "outputs": [],
   "source": [
    "{'ID': 1, 'username': 'aditira', 'grade': 83}\n",
    "{'ID': 2, 'username': 'gina', 'grade': 77}\n",
    "{'ID': 3, 'username': 'ria', 'grade': 64}"
   ]
  },
  {
   "cell_type": "markdown",
   "id": "cfb2f3a1",
   "metadata": {},
   "source": [
    "This approach has some challenges, such as the data not being permanently stored when the application is terminated, and the data is hard to process because it requires several lines of Python code to manipulate the data."
   ]
  },
  {
   "cell_type": "markdown",
   "id": "727123ec",
   "metadata": {},
   "source": [
    "For example, if we want to get the average Grade from the above student list:"
   ]
  },
  {
   "cell_type": "code",
   "execution_count": null,
   "id": "8e5fb624",
   "metadata": {},
   "outputs": [],
   "source": [
    "sum_of_grades = sum(student.grade for student in students)\n",
    "average_grade = sum_of_grades / len(students)\n",
    "\n",
    "print(\"Grade Average is \", average_grade)"
   ]
  },
  {
   "cell_type": "code",
   "execution_count": null,
   "id": "c2b16c41",
   "metadata": {},
   "outputs": [],
   "source": [
    "Grade Average is  74.66666666666667"
   ]
  },
  {
   "cell_type": "markdown",
   "id": "b526eaaa",
   "metadata": {},
   "source": [
    "This requires about 3 lines of code to get the average Grade. Now let’s compare this with using SQL."
   ]
  },
  {
   "cell_type": "markdown",
   "id": "fafefacc",
   "metadata": {},
   "source": [
    "Assuming we already have a students table with id, username, and grade columns using SQLite. We can input data with the following SQL command:"
   ]
  },
  {
   "cell_type": "code",
   "execution_count": null,
   "id": "e7bca5aa",
   "metadata": {},
   "outputs": [],
   "source": [
    "import sqlite3\n",
    "\n",
    "# Connect to SQLite database in memory\n",
    "conn = sqlite3.connect(':memory:')\n",
    "\n",
    "# Create a cursor object\n",
    "c = conn.cursor()\n",
    "\n",
    "# Create table\n",
    "c.execute(\"\"\"\n",
    "    CREATE TABLE students (\n",
    "        id INTEGER PRIMARY KEY,\n",
    "        username TEXT,\n",
    "        grade INTEGER\n",
    "    )\n",
    "\"\"\")"
   ]
  },
  {
   "cell_type": "code",
   "execution_count": null,
   "id": "d830c810",
   "metadata": {},
   "outputs": [],
   "source": [
    "<sqlite3.Cursor at 0x27c0db505c0>"
   ]
  },
  {
   "cell_type": "code",
   "execution_count": null,
   "id": "75fcae4f",
   "metadata": {},
   "outputs": [],
   "source": [
    "INSERT INTO public.students (username, grade) values ('aditira',83),('gina',77),('ria',64);"
   ]
  },
  {
   "cell_type": "code",
   "execution_count": null,
   "id": "f206181a",
   "metadata": {},
   "outputs": [],
   "source": [
    "# Insert values\n",
    "c.execute(\"\"\"\n",
    "    INSERT INTO students (username, grade) \n",
    "    VALUES \n",
    "        ('aditira',83),\n",
    "        ('gina',77),\n",
    "        ('ria',64)\n",
    "\"\"\")"
   ]
  },
  {
   "cell_type": "code",
   "execution_count": null,
   "id": "378de84f",
   "metadata": {},
   "outputs": [],
   "source": [
    "<sqlite3.Cursor at 0x27c0db505c0>"
   ]
  },
  {
   "cell_type": "markdown",
   "id": "1120d0a1",
   "metadata": {},
   "source": [
    "And we can retrieve the data with this simple SQL command:"
   ]
  },
  {
   "cell_type": "code",
   "execution_count": null,
   "id": "cc44d032",
   "metadata": {},
   "outputs": [],
   "source": [
    "SELECT * FROM students;"
   ]
  },
  {
   "cell_type": "code",
   "execution_count": null,
   "id": "8ece0b91",
   "metadata": {},
   "outputs": [],
   "source": [
    "import pandas as pd\n",
    "\n",
    "# Commit the transaction\n",
    "conn.commit()\n",
    "\n",
    "# Retrieve data and convert into DataFrame\n",
    "pd.read_sql_query(\"SELECT * FROM students\", conn)"
   ]
  },
  {
   "cell_type": "markdown",
   "id": "cb4e9c0b",
   "metadata": {},
   "source": [
    "Quite easy, isn’t it! 😎 And to get the average value of student grades is even easier, with this simple SQL command:"
   ]
  },
  {
   "cell_type": "code",
   "execution_count": null,
   "id": "47b690af",
   "metadata": {},
   "outputs": [],
   "source": [
    "SELECT AVG(grade) FROM students;"
   ]
  },
  {
   "cell_type": "code",
   "execution_count": null,
   "id": "4c09df41",
   "metadata": {},
   "outputs": [],
   "source": [
    "import pandas as pd\n",
    "\n",
    "# Commit the transaction\n",
    "conn.commit()\n",
    "\n",
    "# Retrieve data and convert into DataFrame\n",
    "pd.read_sql_query(\"SELECT AVG(grade) FROM students\", conn)"
   ]
  },
  {
   "cell_type": "code",
   "execution_count": null,
   "id": "8dbe5ee3",
   "metadata": {},
   "outputs": [],
   "source": [
    "# Close the connection\n",
    "conn.close()"
   ]
  },
  {
   "cell_type": "markdown",
   "id": "a3795e9c",
   "metadata": {},
   "source": [
    "So you can see that using a database, our application data is much easier to process and is stored more securely for long-term use."
   ]
  },
  {
   "cell_type": "markdown",
   "id": "6661072e",
   "metadata": {},
   "source": [
    "# DDL (Data Definition Language)"
   ]
  },
  {
   "cell_type": "markdown",
   "id": "9d9860c0",
   "metadata": {},
   "source": [
    "# What is DDL?"
   ]
  },
  {
   "cell_type": "markdown",
   "id": "b8c7a1d4",
   "metadata": {},
   "source": [
    "Before we start using a database, we need to set things up by creating tables, schemas, views, and indexes. This process is referred to as Data Definition Language (DDL)."
   ]
  },
  {
   "cell_type": "markdown",
   "id": "afa51aeb",
   "metadata": {},
   "source": [
    "There are several SQL commands used to carry out these tasks, such as CREATE, ALTER, DROP, TRUNCATE."
   ]
  },
  {
   "cell_type": "markdown",
   "id": "c99277ad",
   "metadata": {},
   "source": [
    "Let’s consider the following table as an example. This table contains simple employee data:"
   ]
  },
  {
   "cell_type": "markdown",
   "id": "bb9b49d8",
   "metadata": {},
   "source": [
    "Next, we will apply DDL to this table."
   ]
  },
  {
   "cell_type": "markdown",
   "id": "4779f014",
   "metadata": {},
   "source": [
    "# SQL Data Types"
   ]
  },
  {
   "cell_type": "markdown",
   "id": "9c3af4e3",
   "metadata": {},
   "source": [
    "To create a table, we need to determine the data types to be used. These data types will limit the kind of data that can be inserted into each column. The data types in SQL are not much different from those in Python. Here are some commonly used data types:"
   ]
  },
  {
   "cell_type": "markdown",
   "id": "bf3b7ff9",
   "metadata": {},
   "source": [
    "For the VARCHAR data type, we need to specify the size (a number from 1 - 255). This size will limit the length of the characters that can be entered into that column. For instance, VARCHAR(50) will limit the length of the characters that can be entered into that column to 50 characters. If we enter characters longer than 50, an error will occur."
   ]
  },
  {
   "cell_type": "markdown",
   "id": "2ee0a161",
   "metadata": {},
   "source": [
    "The VARCHAR data type can only hold a maximum of 255 characters. If we want to store more than 255 characters, we need to use the TEXT data type, which has a maximum length of 65535 characters."
   ]
  },
  {
   "cell_type": "markdown",
   "id": "57c1adb0",
   "metadata": {},
   "source": [
    "For more details, you can check here."
   ]
  },
  {
   "cell_type": "markdown",
   "id": "90726ab6",
   "metadata": {},
   "source": [
    "# CREATE"
   ]
  },
  {
   "cell_type": "markdown",
   "id": "dc3fd39f",
   "metadata": {},
   "source": [
    "The CREATE command is used to create a new object such as a database, table, schema, view, or index."
   ]
  },
  {
   "cell_type": "markdown",
   "id": "d945c38e",
   "metadata": {},
   "source": [
    "To create a new database, we can use the CREATE DATABASE command as follows:"
   ]
  },
  {
   "cell_type": "code",
   "execution_count": null,
   "id": "3fefe4eb",
   "metadata": {},
   "outputs": [],
   "source": [
    "CREATE DATABASE <db-name>;"
   ]
  },
  {
   "cell_type": "markdown",
   "id": "0d715370",
   "metadata": {},
   "source": [
    "Where <db-name> is the name of the database to be created. Don’t forget to end each SQL command with a ;."
   ]
  },
  {
   "cell_type": "markdown",
   "id": "4e417bd7",
   "metadata": {},
   "source": [
    "Example:"
   ]
  },
  {
   "cell_type": "code",
   "execution_count": null,
   "id": "e845c0f8",
   "metadata": {},
   "outputs": [],
   "source": [
    "CREATE DATABASE db_employee;"
   ]
  },
  {
   "cell_type": "markdown",
   "id": "92d59d65",
   "metadata": {},
   "source": [
    "With python and SQLite let’s import the necessary module and establish a connection to the database."
   ]
  },
  {
   "cell_type": "code",
   "execution_count": null,
   "id": "fd2b8eec",
   "metadata": {},
   "outputs": [],
   "source": [
    "import sqlite3\n",
    "\n",
    "# Connect to the SQLite database\n",
    "# If the database does not exist, it will be created\n",
    "conn = sqlite3.connect('db/sqlite.db')\n",
    "\n",
    "# Create a cursor object\n",
    "cur = conn.cursor()"
   ]
  },
  {
   "cell_type": "markdown",
   "id": "b8b1b926",
   "metadata": {},
   "source": [
    "The command above creates a new database named db_employee."
   ]
  },
  {
   "cell_type": "markdown",
   "id": "e3fb1740",
   "metadata": {},
   "source": [
    "Next, we can also use CREATE to create a new table. We can use CREATE TABLE as follows:"
   ]
  },
  {
   "cell_type": "code",
   "execution_count": null,
   "id": "156261ef",
   "metadata": {},
   "outputs": [],
   "source": [
    "CREATE TABLE <table-name> (\n",
    "  <column-name> <data-type> <constraints>,\n",
    "  <column-name> <data-type> <constraints>,\n",
    "  ...\n",
    ");"
   ]
  },
  {
   "cell_type": "markdown",
   "id": "52a5a536",
   "metadata": {},
   "source": [
    "Where <table-name> is the name of the table to be created, <column-name> is the name of the column, <data-type> is the data type to be used, and <constraints> are the rules to be applied to that column. To create a column with more than one rule, we can separate them with a comma ,."
   ]
  },
  {
   "cell_type": "markdown",
   "id": "488494f5",
   "metadata": {},
   "source": [
    "Example command to create an employee table:"
   ]
  },
  {
   "cell_type": "code",
   "execution_count": null,
   "id": "b17db5ba",
   "metadata": {},
   "outputs": [],
   "source": [
    "CREATE TABLE employee (\n",
    "  id INT,\n",
    "  name VARCHAR(255) NOT NULL,\n",
    "  age INT NOT NULL,\n",
    "  address VARCHAR(255),\n",
    "  salary INT\n",
    ");"
   ]
  },
  {
   "cell_type": "markdown",
   "id": "d74c25d3",
   "metadata": {},
   "source": [
    "Let’s create an employee table."
   ]
  },
  {
   "cell_type": "code",
   "execution_count": null,
   "id": "c0ad2c8a",
   "metadata": {},
   "outputs": [],
   "source": [
    "# Execute a SQL command: this creates a new table\n",
    "cur.execute('''\n",
    "    CREATE TABLE employee (\n",
    "        id INTEGER,\n",
    "        name TEXT NOT NULL,\n",
    "        age INTEGER NOT NULL,\n",
    "        address TEXT,\n",
    "        salary INTEGER\n",
    "    )\n",
    "''')\n",
    "\n",
    "# Commit the transaction\n",
    "conn.commit()"
   ]
  },
  {
   "cell_type": "markdown",
   "id": "e2196223",
   "metadata": {},
   "source": [
    "See the table:"
   ]
  },
  {
   "cell_type": "code",
   "execution_count": null,
   "id": "b6fe07ef",
   "metadata": {},
   "outputs": [],
   "source": [
    "import pandas as pd\n",
    "\n",
    "pd.read_sql_query(\"SELECT * FROM employee\", conn)"
   ]
  },
  {
   "cell_type": "markdown",
   "id": "e8139ecd",
   "metadata": {},
   "source": [
    "From the example above, we are creating a new table named employee that has 5 columns, namely id, name, age, address, and salary. For the id and age columns, we use the INT data type, which means integer, while for the name and address columns, we use the VARCHAR data type, which means character. The salary column also uses the INT data type, which means integer."
   ]
  },
  {
   "cell_type": "markdown",
   "id": "16e418b2",
   "metadata": {},
   "source": [
    "For the name and age columns, we apply the NOT NULL constraint, which means that these columns cannot be empty. If we enter empty data or empty characters \"\" into these columns, an error will occur."
   ]
  },
  {
   "cell_type": "markdown",
   "id": "e7c88841",
   "metadata": {},
   "source": [
    "You can try creating a new table named employee as above in an online SQL compiler or in your own pgAdmin / DBMS tool."
   ]
  },
  {
   "cell_type": "markdown",
   "id": "e7a07393",
   "metadata": {},
   "source": [
    "# ALTER"
   ]
  },
  {
   "cell_type": "markdown",
   "id": "716c3014",
   "metadata": {},
   "source": [
    "The ALTER command is used to modify the structure of the database. For example, if we want to add a new column to an existing table, we can use the ALTER TABLE command as follows:"
   ]
  },
  {
   "cell_type": "code",
   "execution_count": null,
   "id": "056da52e",
   "metadata": {},
   "outputs": [],
   "source": [
    "ALTER TABLE <table-name> ADD <column-name> <data-type> <constraints>;"
   ]
  },
  {
   "cell_type": "markdown",
   "id": "551563f1",
   "metadata": {},
   "source": [
    "Where <table-name> is the name of the table to be modified, <column-name> is the name of the column to be added, <data-type> is the data type to be used, and <constraints> are the rules to be applied to that column."
   ]
  },
  {
   "cell_type": "markdown",
   "id": "6ef678a9",
   "metadata": {},
   "source": [
    "If we want to add a new column named email with data type VARCHAR(255) to the employee table, we can use the following command:"
   ]
  },
  {
   "cell_type": "code",
   "execution_count": null,
   "id": "30176ba6",
   "metadata": {},
   "outputs": [],
   "source": [
    "ALTER TABLE employee ADD email VARCHAR(255);"
   ]
  },
  {
   "cell_type": "markdown",
   "id": "ddd79926",
   "metadata": {},
   "source": [
    "Try in python using SQLite:"
   ]
  },
  {
   "cell_type": "code",
   "execution_count": null,
   "id": "577c8470",
   "metadata": {},
   "outputs": [],
   "source": [
    "cur.execute('ALTER TABLE employee ADD COLUMN email TEXT')\n",
    "conn.commit()"
   ]
  },
  {
   "cell_type": "markdown",
   "id": "e5c624a9",
   "metadata": {},
   "source": [
    "See the table:"
   ]
  },
  {
   "cell_type": "code",
   "execution_count": null,
   "id": "cd8c5ecb",
   "metadata": {},
   "outputs": [],
   "source": [
    "import pandas as pd\n",
    "\n",
    "pd.read_sql_query(\"SELECT * FROM employee\", conn)"
   ]
  },
  {
   "cell_type": "markdown",
   "id": "1a4eb1d9",
   "metadata": {},
   "source": [
    "The example above means that we are adding a new column named email with the data type VARCHAR(255) to the employee table."
   ]
  },
  {
   "cell_type": "markdown",
   "id": "913a1659",
   "metadata": {},
   "source": [
    "We can also modify an existing column with the ALTER COLUMN command as follows:"
   ]
  },
  {
   "cell_type": "code",
   "execution_count": null,
   "id": "da658a7b",
   "metadata": {},
   "outputs": [],
   "source": [
    "ALTER TABLE <table-name> ALTER COLUMN <column-name> TYPE <data-type> <constraints>;"
   ]
  },
  {
   "cell_type": "markdown",
   "id": "2574b9ea",
   "metadata": {},
   "source": [
    "We can change salary to the FLOAT data type with the following command:"
   ]
  },
  {
   "cell_type": "code",
   "execution_count": null,
   "id": "d41c58bb",
   "metadata": {},
   "outputs": [],
   "source": [
    "ALTER TABLE employee ALTER COLUMN salary TYPE FLOAT;"
   ]
  },
  {
   "cell_type": "markdown",
   "id": "4ed4c661",
   "metadata": {},
   "source": [
    "We can also rename a column with the RENAME TO command as follows:"
   ]
  },
  {
   "cell_type": "code",
   "execution_count": null,
   "id": "a5d37d94",
   "metadata": {},
   "outputs": [],
   "source": [
    "ALTER TABLE <table-name> RENAME TO <new-table-name>;"
   ]
  },
  {
   "cell_type": "markdown",
   "id": "6570290b",
   "metadata": {},
   "source": [
    "Where <table-name> is the name of the table to be modified, and <new-table-name> is the new table name."
   ]
  },
  {
   "cell_type": "markdown",
   "id": "a79bdb00",
   "metadata": {},
   "source": [
    "We can rename the employee table to employees with the following command:"
   ]
  },
  {
   "cell_type": "code",
   "execution_count": null,
   "id": "135e6ee1",
   "metadata": {},
   "outputs": [],
   "source": [
    "ALTER TABLE employee RENAME TO employees;"
   ]
  },
  {
   "cell_type": "markdown",
   "id": "7e15c7fa",
   "metadata": {},
   "source": [
    "Try in python using SQLite:"
   ]
  },
  {
   "cell_type": "code",
   "execution_count": null,
   "id": "9934ac39",
   "metadata": {},
   "outputs": [],
   "source": [
    "cur.execute('ALTER TABLE employee RENAME TO employees')\n",
    "conn.commit()"
   ]
  },
  {
   "cell_type": "markdown",
   "id": "97a0bd14",
   "metadata": {},
   "source": [
    "See the table:"
   ]
  },
  {
   "cell_type": "code",
   "execution_count": null,
   "id": "4b973164",
   "metadata": {},
   "outputs": [],
   "source": [
    "import pandas as pd\n",
    "\n",
    "pd.read_sql_query(\"SELECT * FROM employees\", conn)  # Change table employee to employees"
   ]
  },
  {
   "cell_type": "markdown",
   "id": "e489fe50",
   "metadata": {},
   "source": [
    "Finally, we can delete a column with the DROP COLUMN command as follows:"
   ]
  },
  {
   "cell_type": "code",
   "execution_count": null,
   "id": "634871e3",
   "metadata": {},
   "outputs": [],
   "source": [
    "ALTER TABLE <table-name> DROP COLUMN <column-name>;"
   ]
  },
  {
   "cell_type": "markdown",
   "id": "c015ace6",
   "metadata": {},
   "source": [
    "Where <table-name> is the name of the table to be modified, and <column-name> is the name of the column to be deleted."
   ]
  },
  {
   "cell_type": "markdown",
   "id": "caf60dd4",
   "metadata": {},
   "source": [
    "We can delete the email column of the employee table with the following command:"
   ]
  },
  {
   "cell_type": "code",
   "execution_count": null,
   "id": "e771c63e",
   "metadata": {},
   "outputs": [],
   "source": [
    "ALTER TABLE employee DROP COLUMN email;"
   ]
  },
  {
   "cell_type": "markdown",
   "id": "f246565b",
   "metadata": {},
   "source": [
    "Try in python using SQLite:"
   ]
  },
  {
   "cell_type": "code",
   "execution_count": null,
   "id": "fb4948f7",
   "metadata": {},
   "outputs": [],
   "source": [
    "cur.execute('ALTER TABLE employees DROP COLUMN email')\n",
    "conn.commit()"
   ]
  },
  {
   "cell_type": "markdown",
   "id": "d0a1f53b",
   "metadata": {},
   "source": [
    "See the table:"
   ]
  },
  {
   "cell_type": "code",
   "execution_count": null,
   "id": "cb2d765e",
   "metadata": {},
   "outputs": [],
   "source": [
    "import pandas as pd\n",
    "\n",
    "pd.read_sql_query(\"SELECT * FROM employees\", conn)"
   ]
  },
  {
   "cell_type": "markdown",
   "id": "3776188c",
   "metadata": {},
   "source": [
    "After running the command above, the email column of the employee table will be deleted."
   ]
  },
  {
   "cell_type": "markdown",
   "id": "f6720f70",
   "metadata": {},
   "source": [
    "You can try using the ALTER command as above in an online SQL compiler or in your own pgAdmin / DBMS tool."
   ]
  },
  {
   "cell_type": "markdown",
   "id": "0226eebc",
   "metadata": {},
   "source": [
    "# DROP"
   ]
  },
  {
   "cell_type": "markdown",
   "id": "211d821d",
   "metadata": {},
   "source": [
    "The DROP command is used to delete records or objects that exist in the database."
   ]
  },
  {
   "cell_type": "markdown",
   "id": "c0766e77",
   "metadata": {},
   "source": [
    "We can delete the employee table that was previously created using DROP TABLE as follows:"
   ]
  },
  {
   "cell_type": "code",
   "execution_count": null,
   "id": "066e7102",
   "metadata": {},
   "outputs": [],
   "source": [
    "DROP TABLE <table-name>"
   ]
  },
  {
   "cell_type": "markdown",
   "id": "9a639323",
   "metadata": {},
   "source": [
    "Where <table-name> is the name of the table to be deleted."
   ]
  },
  {
   "cell_type": "markdown",
   "id": "af32010c",
   "metadata": {},
   "source": [
    "We can delete the employee table with the following command:"
   ]
  },
  {
   "cell_type": "code",
   "execution_count": null,
   "id": "ec8fd088",
   "metadata": {},
   "outputs": [],
   "source": [
    "DROP TABLE employee;"
   ]
  },
  {
   "cell_type": "markdown",
   "id": "7161d8f3",
   "metadata": {},
   "source": [
    "Try in python using SQLite:"
   ]
  },
  {
   "cell_type": "code",
   "execution_count": null,
   "id": "cab5d280",
   "metadata": {},
   "outputs": [],
   "source": [
    "cur.execute('DROP TABLE employees')\n",
    "conn.commit()"
   ]
  },
  {
   "cell_type": "markdown",
   "id": "f0becb4c",
   "metadata": {},
   "source": [
    "See the table (expected error):"
   ]
  },
  {
   "cell_type": "code",
   "execution_count": null,
   "id": "c924fcbb",
   "metadata": {},
   "outputs": [],
   "source": [
    "import pandas as pd\n",
    "\n",
    "pd.read_sql_query(\"SELECT * FROM employees\", conn)"
   ]
  },
  {
   "cell_type": "markdown",
   "id": "9586ebf9",
   "metadata": {},
   "source": [
    "We can also delete a database with the DROP DATABASE command as follows:"
   ]
  },
  {
   "cell_type": "code",
   "execution_count": null,
   "id": "494efd09",
   "metadata": {},
   "outputs": [],
   "source": [
    "DROP DATABASE <database-name>"
   ]
  },
  {
   "cell_type": "markdown",
   "id": "5a2eb92b",
   "metadata": {},
   "source": [
    "Where <database-name> is the name of the database to be deleted."
   ]
  },
  {
   "cell_type": "markdown",
   "id": "befd2625",
   "metadata": {},
   "source": [
    "We can delete the db_employee database with the following command:"
   ]
  },
  {
   "cell_type": "code",
   "execution_count": null,
   "id": "0b695312",
   "metadata": {},
   "outputs": [],
   "source": [
    "DROP DATABASE db_employees;"
   ]
  },
  {
   "cell_type": "markdown",
   "id": "135ef68a",
   "metadata": {},
   "source": [
    "You can try using the DROP command as above in an online SQL compiler or in your own pgAdmin / DBMS tool."
   ]
  },
  {
   "cell_type": "markdown",
   "id": "0384f4f5",
   "metadata": {},
   "source": [
    "# TRUNCATE"
   ]
  },
  {
   "cell_type": "markdown",
   "id": "6bcc569f",
   "metadata": {},
   "source": [
    "The TRUNCATE command is used to delete all records (data) within a table."
   ]
  },
  {
   "cell_type": "markdown",
   "id": "d21aa9de",
   "metadata": {},
   "source": [
    "We can delete all records in the employee table with the TRUNCATE TABLE command as follows:"
   ]
  },
  {
   "cell_type": "code",
   "execution_count": null,
   "id": "222846a5",
   "metadata": {},
   "outputs": [],
   "source": [
    "TRUNCATE TABLE <table-name>"
   ]
  },
  {
   "cell_type": "markdown",
   "id": "56b50ba8",
   "metadata": {},
   "source": [
    "Where <table-name> is the name of the table whose records will be deleted."
   ]
  },
  {
   "cell_type": "markdown",
   "id": "e3d8dc99",
   "metadata": {},
   "source": [
    "We can delete all records in the employee table with the following command:"
   ]
  },
  {
   "cell_type": "code",
   "execution_count": null,
   "id": "61ddf106",
   "metadata": {},
   "outputs": [],
   "source": [
    "TRUNCATE TABLE employee;"
   ]
  },
  {
   "cell_type": "markdown",
   "id": "73b1e836",
   "metadata": {},
   "source": [
    "Try in python using SQLite (Insert Data):"
   ]
  },
  {
   "cell_type": "code",
   "execution_count": null,
   "id": "f6865dfe",
   "metadata": {},
   "outputs": [],
   "source": [
    "cur.execute(\"INSERT INTO employees VALUES (1, 'Rizki', 25, 'Jl. Kebon Jeruk', 2000000)\")\n",
    "cur.execute(\"INSERT INTO employees VALUES (2, 'Aditira', 22, 'Jl. Cibinong', 19000000)\")\n",
    "conn.commit()"
   ]
  },
  {
   "cell_type": "markdown",
   "id": "5ea7b06c",
   "metadata": {},
   "source": [
    "See the table:"
   ]
  },
  {
   "cell_type": "code",
   "execution_count": null,
   "id": "9a7b629b",
   "metadata": {},
   "outputs": [],
   "source": [
    "import pandas as pd\n",
    "\n",
    "pd.read_sql_query(\"SELECT * FROM employees\", conn)"
   ]
  },
  {
   "cell_type": "markdown",
   "id": "87a70508",
   "metadata": {},
   "source": [
    "Delete all records:"
   ]
  },
  {
   "cell_type": "code",
   "execution_count": null,
   "id": "c8828053",
   "metadata": {},
   "outputs": [],
   "source": [
    "cur.execute('DELETE FROM employees')\n",
    "conn.commit()"
   ]
  },
  {
   "cell_type": "markdown",
   "id": "c539a099",
   "metadata": {},
   "source": [
    "See the table:"
   ]
  },
  {
   "cell_type": "code",
   "execution_count": null,
   "id": "b6dd20d3",
   "metadata": {},
   "outputs": [],
   "source": [
    "import pandas as pd\n",
    "\n",
    "pd.read_sql_query(\"SELECT * FROM employees\", conn)"
   ]
  },
  {
   "cell_type": "markdown",
   "id": "fc2bc317",
   "metadata": {},
   "source": [
    "When the command above is run, all records (rows of data) in the employee table will be deleted, resulting in 0 records."
   ]
  },
  {
   "cell_type": "markdown",
   "id": "fd5609d2",
   "metadata": {},
   "source": [
    "You can try using the TRUNCATE command as above in an online SQL compiler or in your own pgAdmin / DBMS tool."
   ]
  },
  {
   "cell_type": "code",
   "execution_count": null,
   "id": "556e22ba",
   "metadata": {},
   "outputs": [],
   "source": [
    "# Close the connection\n",
    "conn.close()"
   ]
  },
  {
   "cell_type": "markdown",
   "id": "a7f127ae",
   "metadata": {},
   "source": [
    "Next we’ll go into how to set up and manipulate data in tables."
   ]
  }
 ],
 "metadata": {},
 "nbformat": 4,
 "nbformat_minor": 5
}
