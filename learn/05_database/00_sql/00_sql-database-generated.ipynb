{
 "cells": [
  {
   "cell_type": "markdown",
   "id": "d391ff2e",
   "metadata": {},
   "source": [
    "# SQL Fundamentals with Python - Database"
   ]
  },
  {
   "cell_type": "markdown",
   "id": "b395f09b",
   "metadata": {},
   "source": [
    "# Database"
   ]
  },
  {
   "cell_type": "markdown",
   "id": "9d8bdbc5",
   "metadata": {},
   "source": [
    "# Data vs Information"
   ]
  },
  {
   "cell_type": "markdown",
   "id": "d3732f88",
   "metadata": {},
   "source": [
    "The terms Data and Information are often used interchangeably, but they actually have distinct meanings."
   ]
  },
  {
   "cell_type": "markdown",
   "id": "fb6137b1",
   "metadata": {},
   "source": [
    "Data refers to raw facts or statistics in the form of text, numbers, symbols, etc., that do not carry specific meaning or purpose. On the other hand, Information is knowledge derived from study, communication, research, or instructions. Essentially, information is obtained from analyzing and interpreting one or more pieces of data."
   ]
  },
  {
   "cell_type": "markdown",
   "id": "64b7be51",
   "metadata": {},
   "source": [
    "For example:"
   ]
  },
  {
   "cell_type": "markdown",
   "id": "ee8d5359",
   "metadata": {},
   "source": [
    "# Introducing to database"
   ]
  },
  {
   "cell_type": "markdown",
   "id": "23311dba",
   "metadata": {},
   "source": [
    "A database is a systematic collection of data, managed in accordance with interrelated rules, making it easier to transform data into information."
   ]
  },
  {
   "cell_type": "markdown",
   "id": "25e534ac",
   "metadata": {},
   "source": [
    "When managing a database, some essential characteristics to consider are:"
   ]
  },
  {
   "cell_type": "markdown",
   "id": "936840e7",
   "metadata": {},
   "source": [
    "# Database system"
   ]
  },
  {
   "cell_type": "markdown",
   "id": "f5facd1a",
   "metadata": {},
   "source": [
    "A database, or “basis data” in Indonesian, is comprised of a basis (warehouse) and data (real-world facts representing objects) like people, goods, and so forth, manifested in the form of letters, numbers, symbols, or combinations thereof."
   ]
  },
  {
   "cell_type": "markdown",
   "id": "2f1a7461",
   "metadata": {},
   "source": [
    "A database is usually managed by a DBMS (Database Management System) that acts as an interface between the database and its users. Users here can be either humans or applications. DBMS can be used by users to view, change, and manage information in the database."
   ]
  },
  {
   "cell_type": "markdown",
   "id": "81ed1a51",
   "metadata": {},
   "source": []
  },
  {
   "cell_type": "markdown",
   "id": "8ed43700",
   "metadata": {},
   "source": [
    "DBMS (Sumber: digitaloceanspaces.com)"
   ]
  },
  {
   "cell_type": "markdown",
   "id": "2873f3d7",
   "metadata": {},
   "source": [
    "Some of the most popular DBMSs are:"
   ]
  },
  {
   "cell_type": "markdown",
   "id": "028738c6",
   "metadata": {},
   "source": [
    "Data is typically modeled in rows and columns within a table. This structure makes it easier to perform addition, modification, deletion, and other operations. This model is common in relational databases (RDBMSs) that use SQL (Structured Query Language)."
   ]
  },
  {
   "cell_type": "markdown",
   "id": "cefe7ba0",
   "metadata": {},
   "source": [
    "SQL is a programming language used to manipulate, search, access, and perform other operations within a database."
   ]
  },
  {
   "cell_type": "markdown",
   "id": "07f66741",
   "metadata": {},
   "source": [
    "But how does this differ from a Spreadsheet (like Excel, or Google Sheets)? Both are easy to use but have clear differences:"
   ]
  },
  {
   "cell_type": "markdown",
   "id": "90ebfbf3",
   "metadata": {},
   "source": [
    "To illustrate the usage of a database, we will use SQL with SQLite as the relational database management system (RDBMS)."
   ]
  },
  {
   "cell_type": "markdown",
   "id": "8689c519",
   "metadata": {},
   "source": [
    "Up until now, when creating applications in Python, we’ve been storing data in memory in the form of a list of objects:"
   ]
  },
  {
   "cell_type": "code",
   "execution_count": null,
   "id": "5213d549",
   "metadata": {},
   "outputs": [],
   "source": [
    "class StudentRow:\n",
    "    def __init__(self, ID, username, grade):\n",
    "        self.ID = ID\n",
    "        self.username = username\n",
    "        self.grade = grade\n",
    "\n",
    "students = []\n",
    "students.append(StudentRow(1, 'aditira', 83))\n",
    "students.append(StudentRow(2, 'gina', 77))\n",
    "students.append(StudentRow(3, 'ria', 64))\n",
    "\n",
    "for student in students:\n",
    "    print(student.__dict__)"
   ]
  },
  {
   "cell_type": "code",
   "execution_count": null,
   "id": "449ba388",
   "metadata": {},
   "outputs": [],
   "source": [
    "{'ID': 1, 'username': 'aditira', 'grade': 83}\n",
    "{'ID': 2, 'username': 'gina', 'grade': 77}\n",
    "{'ID': 3, 'username': 'ria', 'grade': 64}"
   ]
  },
  {
   "cell_type": "markdown",
   "id": "82ff2922",
   "metadata": {},
   "source": [
    "This approach has some challenges, such as the data not being permanently stored when the application is terminated, and the data is hard to process because it requires several lines of Python code to manipulate the data."
   ]
  },
  {
   "cell_type": "markdown",
   "id": "b9de1ba7",
   "metadata": {},
   "source": [
    "For example, if we want to get the average Grade from the above student list:"
   ]
  },
  {
   "cell_type": "code",
   "execution_count": null,
   "id": "e1f993af",
   "metadata": {},
   "outputs": [],
   "source": [
    "sum_of_grades = sum(student.grade for student in students)\n",
    "average_grade = sum_of_grades / len(students)\n",
    "\n",
    "print(\"Grade Average is \", average_grade)"
   ]
  },
  {
   "cell_type": "code",
   "execution_count": null,
   "id": "cd959345",
   "metadata": {},
   "outputs": [],
   "source": [
    "Grade Average is  74.66666666666667"
   ]
  },
  {
   "cell_type": "markdown",
   "id": "afadbd62",
   "metadata": {},
   "source": [
    "This requires about 3 lines of code to get the average Grade. Now let’s compare this with using SQL."
   ]
  },
  {
   "cell_type": "markdown",
   "id": "846edbb3",
   "metadata": {},
   "source": [
    "Assuming we already have a students table with id, username, and grade columns using SQLite. We can input data with the following SQL command:"
   ]
  },
  {
   "cell_type": "code",
   "execution_count": null,
   "id": "fd950dce",
   "metadata": {},
   "outputs": [],
   "source": [
    "import sqlite3\n",
    "\n",
    "# Connect to SQLite database in memory\n",
    "conn = sqlite3.connect(':memory:')\n",
    "\n",
    "# Create a cursor object\n",
    "c = conn.cursor()\n",
    "\n",
    "# Create table\n",
    "c.execute(\"\"\"\n",
    "    CREATE TABLE students (\n",
    "        id INTEGER PRIMARY KEY,\n",
    "        username TEXT,\n",
    "        grade INTEGER\n",
    "    )\n",
    "\"\"\")"
   ]
  },
  {
   "cell_type": "code",
   "execution_count": null,
   "id": "167bb8f1",
   "metadata": {},
   "outputs": [],
   "source": [
    "<sqlite3.Cursor at 0x27c0db505c0>"
   ]
  },
  {
   "cell_type": "code",
   "execution_count": null,
   "id": "cb3c1aae",
   "metadata": {},
   "outputs": [],
   "source": [
    "INSERT INTO public.students (username, grade) values ('aditira',83),('gina',77),('ria',64);"
   ]
  },
  {
   "cell_type": "code",
   "execution_count": null,
   "id": "663ae5b9",
   "metadata": {},
   "outputs": [],
   "source": [
    "# Insert values\n",
    "c.execute(\"\"\"\n",
    "    INSERT INTO students (username, grade) \n",
    "    VALUES \n",
    "        ('aditira',83),\n",
    "        ('gina',77),\n",
    "        ('ria',64)\n",
    "\"\"\")"
   ]
  },
  {
   "cell_type": "code",
   "execution_count": null,
   "id": "754ee20e",
   "metadata": {},
   "outputs": [],
   "source": [
    "<sqlite3.Cursor at 0x27c0db505c0>"
   ]
  },
  {
   "cell_type": "markdown",
   "id": "d76a8488",
   "metadata": {},
   "source": [
    "And we can retrieve the data with this simple SQL command:"
   ]
  },
  {
   "cell_type": "code",
   "execution_count": null,
   "id": "41b367f4",
   "metadata": {},
   "outputs": [],
   "source": [
    "SELECT * FROM students;"
   ]
  },
  {
   "cell_type": "code",
   "execution_count": null,
   "id": "573c6a19",
   "metadata": {},
   "outputs": [],
   "source": [
    "import pandas as pd\n",
    "\n",
    "# Commit the transaction\n",
    "conn.commit()\n",
    "\n",
    "# Retrieve data and convert into DataFrame\n",
    "pd.read_sql_query(\"SELECT * FROM students\", conn)"
   ]
  },
  {
   "cell_type": "markdown",
   "id": "f19c3d32",
   "metadata": {},
   "source": [
    "Quite easy, isn’t it! 😎 And to get the average value of student grades is even easier, with this simple SQL command:"
   ]
  },
  {
   "cell_type": "code",
   "execution_count": null,
   "id": "8049a4fd",
   "metadata": {},
   "outputs": [],
   "source": [
    "SELECT AVG(grade) FROM students;"
   ]
  },
  {
   "cell_type": "code",
   "execution_count": null,
   "id": "6db1408c",
   "metadata": {},
   "outputs": [],
   "source": [
    "import pandas as pd\n",
    "\n",
    "# Commit the transaction\n",
    "conn.commit()\n",
    "\n",
    "# Retrieve data and convert into DataFrame\n",
    "pd.read_sql_query(\"SELECT AVG(grade) FROM students\", conn)"
   ]
  },
  {
   "cell_type": "code",
   "execution_count": null,
   "id": "6552e012",
   "metadata": {},
   "outputs": [],
   "source": [
    "# Close the connection\n",
    "conn.close()"
   ]
  },
  {
   "cell_type": "markdown",
   "id": "ee6479e4",
   "metadata": {},
   "source": [
    "So you can see that using a database, our application data is much easier to process and is stored more securely for long-term use."
   ]
  },
  {
   "cell_type": "markdown",
   "id": "d5f0ae9b",
   "metadata": {},
   "source": [
    "# DDL (Data Definition Language)"
   ]
  },
  {
   "cell_type": "markdown",
   "id": "7f98fa26",
   "metadata": {},
   "source": [
    "# What is DDL?"
   ]
  },
  {
   "cell_type": "markdown",
   "id": "10133817",
   "metadata": {},
   "source": [
    "Before we start using a database, we need to set things up by creating tables, schemas, views, and indexes. This process is referred to as Data Definition Language (DDL)."
   ]
  },
  {
   "cell_type": "markdown",
   "id": "3c9696fd",
   "metadata": {},
   "source": [
    "There are several SQL commands used to carry out these tasks, such as CREATE, ALTER, DROP, TRUNCATE."
   ]
  },
  {
   "cell_type": "markdown",
   "id": "f10b2059",
   "metadata": {},
   "source": [
    "Let’s consider the following table as an example. This table contains simple employee data:"
   ]
  },
  {
   "cell_type": "markdown",
   "id": "47bd6b65",
   "metadata": {},
   "source": [
    "Next, we will apply DDL to this table."
   ]
  },
  {
   "cell_type": "markdown",
   "id": "1b8fb42b",
   "metadata": {},
   "source": [
    "# SQL Data Types"
   ]
  },
  {
   "cell_type": "markdown",
   "id": "d4c9d74f",
   "metadata": {},
   "source": [
    "To create a table, we need to determine the data types to be used. These data types will limit the kind of data that can be inserted into each column. The data types in SQL are not much different from those in Python. Here are some commonly used data types:"
   ]
  },
  {
   "cell_type": "markdown",
   "id": "0500b4f2",
   "metadata": {},
   "source": [
    "For the VARCHAR data type, we need to specify the size (a number from 1 - 255). This size will limit the length of the characters that can be entered into that column. For instance, VARCHAR(50) will limit the length of the characters that can be entered into that column to 50 characters. If we enter characters longer than 50, an error will occur."
   ]
  },
  {
   "cell_type": "markdown",
   "id": "8f31b22f",
   "metadata": {},
   "source": [
    "The VARCHAR data type can only hold a maximum of 255 characters. If we want to store more than 255 characters, we need to use the TEXT data type, which has a maximum length of 65535 characters."
   ]
  },
  {
   "cell_type": "markdown",
   "id": "7ec52201",
   "metadata": {},
   "source": [
    "For more details, you can check here."
   ]
  },
  {
   "cell_type": "markdown",
   "id": "c44811a6",
   "metadata": {},
   "source": [
    "# CREATE"
   ]
  },
  {
   "cell_type": "markdown",
   "id": "ff651486",
   "metadata": {},
   "source": [
    "The CREATE command is used to create a new object such as a database, table, schema, view, or index."
   ]
  },
  {
   "cell_type": "markdown",
   "id": "708fe75b",
   "metadata": {},
   "source": [
    "To create a new database, we can use the CREATE DATABASE command as follows:"
   ]
  },
  {
   "cell_type": "code",
   "execution_count": null,
   "id": "555d810c",
   "metadata": {},
   "outputs": [],
   "source": [
    "CREATE DATABASE <db-name>;"
   ]
  },
  {
   "cell_type": "markdown",
   "id": "988c3137",
   "metadata": {},
   "source": [
    "Where <db-name> is the name of the database to be created. Don’t forget to end each SQL command with a ;."
   ]
  },
  {
   "cell_type": "markdown",
   "id": "4c7cbd6c",
   "metadata": {},
   "source": [
    "Example:"
   ]
  },
  {
   "cell_type": "code",
   "execution_count": null,
   "id": "015e7312",
   "metadata": {},
   "outputs": [],
   "source": [
    "CREATE DATABASE db_employee;"
   ]
  },
  {
   "cell_type": "markdown",
   "id": "4f053b29",
   "metadata": {},
   "source": [
    "With python and SQLite let’s import the necessary module and establish a connection to the database."
   ]
  },
  {
   "cell_type": "code",
   "execution_count": null,
   "id": "0bb4e9ab",
   "metadata": {},
   "outputs": [],
   "source": [
    "import sqlite3\n",
    "\n",
    "# Connect to the SQLite database\n",
    "# If the database does not exist, it will be created\n",
    "conn = sqlite3.connect('db/sqlite.db')\n",
    "\n",
    "# Create a cursor object\n",
    "cur = conn.cursor()"
   ]
  },
  {
   "cell_type": "markdown",
   "id": "541f8767",
   "metadata": {},
   "source": [
    "The command above creates a new database named db_employee."
   ]
  },
  {
   "cell_type": "markdown",
   "id": "e2a8c556",
   "metadata": {},
   "source": [
    "Next, we can also use CREATE to create a new table. We can use CREATE TABLE as follows:"
   ]
  },
  {
   "cell_type": "code",
   "execution_count": null,
   "id": "bd055e92",
   "metadata": {},
   "outputs": [],
   "source": [
    "CREATE TABLE <table-name> (\n",
    "  <column-name> <data-type> <constraints>,\n",
    "  <column-name> <data-type> <constraints>,\n",
    "  ...\n",
    ");"
   ]
  },
  {
   "cell_type": "markdown",
   "id": "2b43c7bb",
   "metadata": {},
   "source": [
    "Where <table-name> is the name of the table to be created, <column-name> is the name of the column, <data-type> is the data type to be used, and <constraints> are the rules to be applied to that column. To create a column with more than one rule, we can separate them with a comma ,."
   ]
  },
  {
   "cell_type": "markdown",
   "id": "843bdab7",
   "metadata": {},
   "source": [
    "Example command to create an employee table:"
   ]
  },
  {
   "cell_type": "code",
   "execution_count": null,
   "id": "4c6e9a61",
   "metadata": {},
   "outputs": [],
   "source": [
    "CREATE TABLE employee (\n",
    "  id INT,\n",
    "  name VARCHAR(255) NOT NULL,\n",
    "  age INT NOT NULL,\n",
    "  address VARCHAR(255),\n",
    "  salary INT\n",
    ");"
   ]
  },
  {
   "cell_type": "markdown",
   "id": "2fcf73a6",
   "metadata": {},
   "source": [
    "Let’s create an employee table."
   ]
  },
  {
   "cell_type": "code",
   "execution_count": null,
   "id": "b5c1b703",
   "metadata": {},
   "outputs": [],
   "source": [
    "# Execute a SQL command: this creates a new table\n",
    "cur.execute('''\n",
    "    CREATE TABLE employee (\n",
    "        id INTEGER,\n",
    "        name TEXT NOT NULL,\n",
    "        age INTEGER NOT NULL,\n",
    "        address TEXT,\n",
    "        salary INTEGER\n",
    "    )\n",
    "''')\n",
    "\n",
    "# Commit the transaction\n",
    "conn.commit()"
   ]
  },
  {
   "cell_type": "markdown",
   "id": "e693a8ce",
   "metadata": {},
   "source": [
    "See the table:"
   ]
  },
  {
   "cell_type": "code",
   "execution_count": null,
   "id": "d13cac47",
   "metadata": {},
   "outputs": [],
   "source": [
    "import pandas as pd\n",
    "\n",
    "pd.read_sql_query(\"SELECT * FROM employee\", conn)"
   ]
  },
  {
   "cell_type": "markdown",
   "id": "a44c096c",
   "metadata": {},
   "source": [
    "From the example above, we are creating a new table named employee that has 5 columns, namely id, name, age, address, and salary. For the id and age columns, we use the INT data type, which means integer, while for the name and address columns, we use the VARCHAR data type, which means character. The salary column also uses the INT data type, which means integer."
   ]
  },
  {
   "cell_type": "markdown",
   "id": "829e477f",
   "metadata": {},
   "source": [
    "For the name and age columns, we apply the NOT NULL constraint, which means that these columns cannot be empty. If we enter empty data or empty characters \"\" into these columns, an error will occur."
   ]
  },
  {
   "cell_type": "markdown",
   "id": "e691a35d",
   "metadata": {},
   "source": [
    "You can try creating a new table named employee as above in an online SQL compiler or in your own pgAdmin / DBMS tool."
   ]
  },
  {
   "cell_type": "markdown",
   "id": "eea20dc4",
   "metadata": {},
   "source": [
    "# ALTER"
   ]
  },
  {
   "cell_type": "markdown",
   "id": "c8a78c7c",
   "metadata": {},
   "source": [
    "The ALTER command is used to modify the structure of the database. For example, if we want to add a new column to an existing table, we can use the ALTER TABLE command as follows:"
   ]
  },
  {
   "cell_type": "code",
   "execution_count": null,
   "id": "d5d41e58",
   "metadata": {},
   "outputs": [],
   "source": [
    "ALTER TABLE <table-name> ADD <column-name> <data-type> <constraints>;"
   ]
  },
  {
   "cell_type": "markdown",
   "id": "d7ca6d37",
   "metadata": {},
   "source": [
    "Where <table-name> is the name of the table to be modified, <column-name> is the name of the column to be added, <data-type> is the data type to be used, and <constraints> are the rules to be applied to that column."
   ]
  },
  {
   "cell_type": "markdown",
   "id": "43b18de2",
   "metadata": {},
   "source": [
    "If we want to add a new column named email with data type VARCHAR(255) to the employee table, we can use the following command:"
   ]
  },
  {
   "cell_type": "code",
   "execution_count": null,
   "id": "7ec910a4",
   "metadata": {},
   "outputs": [],
   "source": [
    "ALTER TABLE employee ADD email VARCHAR(255);"
   ]
  },
  {
   "cell_type": "markdown",
   "id": "03c0dad3",
   "metadata": {},
   "source": [
    "Try in python using SQLite:"
   ]
  },
  {
   "cell_type": "code",
   "execution_count": null,
   "id": "ce860fd9",
   "metadata": {},
   "outputs": [],
   "source": [
    "cur.execute('ALTER TABLE employee ADD COLUMN email TEXT')\n",
    "conn.commit()"
   ]
  },
  {
   "cell_type": "markdown",
   "id": "e9348ff6",
   "metadata": {},
   "source": [
    "See the table:"
   ]
  },
  {
   "cell_type": "code",
   "execution_count": null,
   "id": "2d49ff96",
   "metadata": {},
   "outputs": [],
   "source": [
    "import pandas as pd\n",
    "\n",
    "pd.read_sql_query(\"SELECT * FROM employee\", conn)"
   ]
  },
  {
   "cell_type": "markdown",
   "id": "406c1df8",
   "metadata": {},
   "source": [
    "The example above means that we are adding a new column named email with the data type VARCHAR(255) to the employee table."
   ]
  },
  {
   "cell_type": "markdown",
   "id": "4491b465",
   "metadata": {},
   "source": [
    "We can also modify an existing column with the ALTER COLUMN command as follows:"
   ]
  },
  {
   "cell_type": "code",
   "execution_count": null,
   "id": "cc3d8b33",
   "metadata": {},
   "outputs": [],
   "source": [
    "ALTER TABLE <table-name> ALTER COLUMN <column-name> TYPE <data-type> <constraints>;"
   ]
  },
  {
   "cell_type": "markdown",
   "id": "89282a47",
   "metadata": {},
   "source": [
    "We can change salary to the FLOAT data type with the following command:"
   ]
  },
  {
   "cell_type": "code",
   "execution_count": null,
   "id": "87d67383",
   "metadata": {},
   "outputs": [],
   "source": [
    "ALTER TABLE employee ALTER COLUMN salary TYPE FLOAT;"
   ]
  },
  {
   "cell_type": "markdown",
   "id": "1144e9e7",
   "metadata": {},
   "source": [
    "We can also rename a column with the RENAME TO command as follows:"
   ]
  },
  {
   "cell_type": "code",
   "execution_count": null,
   "id": "21e28f99",
   "metadata": {},
   "outputs": [],
   "source": [
    "ALTER TABLE <table-name> RENAME TO <new-table-name>;"
   ]
  },
  {
   "cell_type": "markdown",
   "id": "5c9d861e",
   "metadata": {},
   "source": [
    "Where <table-name> is the name of the table to be modified, and <new-table-name> is the new table name."
   ]
  },
  {
   "cell_type": "markdown",
   "id": "77d0a0b0",
   "metadata": {},
   "source": [
    "We can rename the employee table to employees with the following command:"
   ]
  },
  {
   "cell_type": "code",
   "execution_count": null,
   "id": "4b61bfe2",
   "metadata": {},
   "outputs": [],
   "source": [
    "ALTER TABLE employee RENAME TO employees;"
   ]
  },
  {
   "cell_type": "markdown",
   "id": "4a005f29",
   "metadata": {},
   "source": [
    "Try in python using SQLite:"
   ]
  },
  {
   "cell_type": "code",
   "execution_count": null,
   "id": "7310db64",
   "metadata": {},
   "outputs": [],
   "source": [
    "cur.execute('ALTER TABLE employee RENAME TO employees')\n",
    "conn.commit()"
   ]
  },
  {
   "cell_type": "markdown",
   "id": "5239eccc",
   "metadata": {},
   "source": [
    "See the table:"
   ]
  },
  {
   "cell_type": "code",
   "execution_count": null,
   "id": "71546a4c",
   "metadata": {},
   "outputs": [],
   "source": [
    "import pandas as pd\n",
    "\n",
    "pd.read_sql_query(\"SELECT * FROM employees\", conn)  # Change table employee to employees"
   ]
  },
  {
   "cell_type": "markdown",
   "id": "c918dc5c",
   "metadata": {},
   "source": [
    "Finally, we can delete a column with the DROP COLUMN command as follows:"
   ]
  },
  {
   "cell_type": "code",
   "execution_count": null,
   "id": "c1f53727",
   "metadata": {},
   "outputs": [],
   "source": [
    "ALTER TABLE <table-name> DROP COLUMN <column-name>;"
   ]
  },
  {
   "cell_type": "markdown",
   "id": "a1ec0a57",
   "metadata": {},
   "source": [
    "Where <table-name> is the name of the table to be modified, and <column-name> is the name of the column to be deleted."
   ]
  },
  {
   "cell_type": "markdown",
   "id": "81c7bb18",
   "metadata": {},
   "source": [
    "We can delete the email column of the employee table with the following command:"
   ]
  },
  {
   "cell_type": "code",
   "execution_count": null,
   "id": "8e1db2c3",
   "metadata": {},
   "outputs": [],
   "source": [
    "ALTER TABLE employee DROP COLUMN email;"
   ]
  },
  {
   "cell_type": "markdown",
   "id": "680d84a4",
   "metadata": {},
   "source": [
    "Try in python using SQLite:"
   ]
  },
  {
   "cell_type": "code",
   "execution_count": null,
   "id": "fbdccbae",
   "metadata": {},
   "outputs": [],
   "source": [
    "cur.execute('ALTER TABLE employees DROP COLUMN email')\n",
    "conn.commit()"
   ]
  },
  {
   "cell_type": "markdown",
   "id": "34373538",
   "metadata": {},
   "source": [
    "See the table:"
   ]
  },
  {
   "cell_type": "code",
   "execution_count": null,
   "id": "6047f27b",
   "metadata": {},
   "outputs": [],
   "source": [
    "import pandas as pd\n",
    "\n",
    "pd.read_sql_query(\"SELECT * FROM employees\", conn)"
   ]
  },
  {
   "cell_type": "markdown",
   "id": "80ce8eea",
   "metadata": {},
   "source": [
    "After running the command above, the email column of the employee table will be deleted."
   ]
  },
  {
   "cell_type": "markdown",
   "id": "fd2831a1",
   "metadata": {},
   "source": [
    "You can try using the ALTER command as above in an online SQL compiler or in your own pgAdmin / DBMS tool."
   ]
  },
  {
   "cell_type": "markdown",
   "id": "ccebc670",
   "metadata": {},
   "source": [
    "# DROP"
   ]
  },
  {
   "cell_type": "markdown",
   "id": "e8d57cdc",
   "metadata": {},
   "source": [
    "The DROP command is used to delete records or objects that exist in the database."
   ]
  },
  {
   "cell_type": "markdown",
   "id": "3ca923db",
   "metadata": {},
   "source": [
    "We can delete the employee table that was previously created using DROP TABLE as follows:"
   ]
  },
  {
   "cell_type": "code",
   "execution_count": null,
   "id": "9f38c6cf",
   "metadata": {},
   "outputs": [],
   "source": [
    "DROP TABLE <table-name>"
   ]
  },
  {
   "cell_type": "markdown",
   "id": "8ce7a47b",
   "metadata": {},
   "source": [
    "Where <table-name> is the name of the table to be deleted."
   ]
  },
  {
   "cell_type": "markdown",
   "id": "f6d20c47",
   "metadata": {},
   "source": [
    "We can delete the employee table with the following command:"
   ]
  },
  {
   "cell_type": "code",
   "execution_count": null,
   "id": "f38801b7",
   "metadata": {},
   "outputs": [],
   "source": [
    "DROP TABLE employee;"
   ]
  },
  {
   "cell_type": "markdown",
   "id": "ad3f2802",
   "metadata": {},
   "source": [
    "Try in python using SQLite:"
   ]
  },
  {
   "cell_type": "code",
   "execution_count": null,
   "id": "a88c6f81",
   "metadata": {},
   "outputs": [],
   "source": [
    "cur.execute('DROP TABLE employees')\n",
    "conn.commit()"
   ]
  },
  {
   "cell_type": "markdown",
   "id": "cf1b1f78",
   "metadata": {},
   "source": [
    "See the table (expected error):"
   ]
  },
  {
   "cell_type": "code",
   "execution_count": null,
   "id": "74e61c81",
   "metadata": {},
   "outputs": [],
   "source": [
    "import pandas as pd\n",
    "\n",
    "pd.read_sql_query(\"SELECT * FROM employees\", conn)"
   ]
  },
  {
   "cell_type": "markdown",
   "id": "3ac4eb77",
   "metadata": {},
   "source": [
    "We can also delete a database with the DROP DATABASE command as follows:"
   ]
  },
  {
   "cell_type": "code",
   "execution_count": null,
   "id": "1620c82c",
   "metadata": {},
   "outputs": [],
   "source": [
    "DROP DATABASE <database-name>"
   ]
  },
  {
   "cell_type": "markdown",
   "id": "dfc71f53",
   "metadata": {},
   "source": [
    "Where <database-name> is the name of the database to be deleted."
   ]
  },
  {
   "cell_type": "markdown",
   "id": "0b1c1c73",
   "metadata": {},
   "source": [
    "We can delete the db_employee database with the following command:"
   ]
  },
  {
   "cell_type": "code",
   "execution_count": null,
   "id": "ff2b5beb",
   "metadata": {},
   "outputs": [],
   "source": [
    "DROP DATABASE db_employees;"
   ]
  },
  {
   "cell_type": "markdown",
   "id": "b2eb7406",
   "metadata": {},
   "source": [
    "You can try using the DROP command as above in an online SQL compiler or in your own pgAdmin / DBMS tool."
   ]
  },
  {
   "cell_type": "markdown",
   "id": "06431b82",
   "metadata": {},
   "source": [
    "# TRUNCATE"
   ]
  },
  {
   "cell_type": "markdown",
   "id": "dbca07d2",
   "metadata": {},
   "source": [
    "The TRUNCATE command is used to delete all records (data) within a table."
   ]
  },
  {
   "cell_type": "markdown",
   "id": "bd54d2c3",
   "metadata": {},
   "source": [
    "We can delete all records in the employee table with the TRUNCATE TABLE command as follows:"
   ]
  },
  {
   "cell_type": "code",
   "execution_count": null,
   "id": "42871484",
   "metadata": {},
   "outputs": [],
   "source": [
    "TRUNCATE TABLE <table-name>"
   ]
  },
  {
   "cell_type": "markdown",
   "id": "9b21d72f",
   "metadata": {},
   "source": [
    "Where <table-name> is the name of the table whose records will be deleted."
   ]
  },
  {
   "cell_type": "markdown",
   "id": "493d9e46",
   "metadata": {},
   "source": [
    "We can delete all records in the employee table with the following command:"
   ]
  },
  {
   "cell_type": "code",
   "execution_count": null,
   "id": "bdb676b9",
   "metadata": {},
   "outputs": [],
   "source": [
    "TRUNCATE TABLE employee;"
   ]
  },
  {
   "cell_type": "markdown",
   "id": "6e6de909",
   "metadata": {},
   "source": [
    "Try in python using SQLite (Insert Data):"
   ]
  },
  {
   "cell_type": "code",
   "execution_count": null,
   "id": "2288c496",
   "metadata": {},
   "outputs": [],
   "source": [
    "cur.execute(\"INSERT INTO employees VALUES (1, 'Rizki', 25, 'Jl. Kebon Jeruk', 2000000)\")\n",
    "cur.execute(\"INSERT INTO employees VALUES (2, 'Aditira', 22, 'Jl. Cibinong', 19000000)\")\n",
    "conn.commit()"
   ]
  },
  {
   "cell_type": "markdown",
   "id": "7f83ae1e",
   "metadata": {},
   "source": [
    "See the table:"
   ]
  },
  {
   "cell_type": "code",
   "execution_count": null,
   "id": "401d6a34",
   "metadata": {},
   "outputs": [],
   "source": [
    "import pandas as pd\n",
    "\n",
    "pd.read_sql_query(\"SELECT * FROM employees\", conn)"
   ]
  },
  {
   "cell_type": "markdown",
   "id": "cc2e4f57",
   "metadata": {},
   "source": [
    "Delete all records:"
   ]
  },
  {
   "cell_type": "code",
   "execution_count": null,
   "id": "ece134e2",
   "metadata": {},
   "outputs": [],
   "source": [
    "cur.execute('DELETE FROM employees')\n",
    "conn.commit()"
   ]
  },
  {
   "cell_type": "markdown",
   "id": "7951752a",
   "metadata": {},
   "source": [
    "See the table:"
   ]
  },
  {
   "cell_type": "code",
   "execution_count": null,
   "id": "8d6b9dc4",
   "metadata": {},
   "outputs": [],
   "source": [
    "import pandas as pd\n",
    "\n",
    "pd.read_sql_query(\"SELECT * FROM employees\", conn)"
   ]
  },
  {
   "cell_type": "markdown",
   "id": "08c72359",
   "metadata": {},
   "source": [
    "When the command above is run, all records (rows of data) in the employee table will be deleted, resulting in 0 records."
   ]
  },
  {
   "cell_type": "markdown",
   "id": "f508f025",
   "metadata": {},
   "source": [
    "You can try using the TRUNCATE command as above in an online SQL compiler or in your own pgAdmin / DBMS tool."
   ]
  },
  {
   "cell_type": "code",
   "execution_count": null,
   "id": "6170c143",
   "metadata": {},
   "outputs": [],
   "source": [
    "# Close the connection\n",
    "conn.close()"
   ]
  },
  {
   "cell_type": "markdown",
   "id": "5cd2188a",
   "metadata": {},
   "source": [
    "Next we’ll go into how to set up and manipulate data in tables."
   ]
  }
 ],
 "metadata": {},
 "nbformat": 4,
 "nbformat_minor": 5
}
