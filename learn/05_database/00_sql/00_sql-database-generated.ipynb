{
 "cells": [
  {
   "cell_type": "markdown",
   "id": "71c57e1a",
   "metadata": {},
   "source": [
    "source: [link](https://ai-bootcamp.ruangguru.com/learn/05_database/00_sql/00_sql-database.html)"
   ]
  },
  {
   "cell_type": "markdown",
   "id": "2d9a725f",
   "metadata": {},
   "source": [
    "# SQL Fundamentals with Python - Database"
   ]
  },
  {
   "cell_type": "markdown",
   "id": "50ba7c2c",
   "metadata": {},
   "source": [
    "# Database"
   ]
  },
  {
   "cell_type": "markdown",
   "id": "1feef5c9",
   "metadata": {},
   "source": [
    "# Data vs Information"
   ]
  },
  {
   "cell_type": "markdown",
   "id": "e057b1a0",
   "metadata": {},
   "source": [
    "The terms Data and Information are often used interchangeably, but they actually have distinct meanings."
   ]
  },
  {
   "cell_type": "markdown",
   "id": "6ea1343a",
   "metadata": {},
   "source": [
    "Data refers to raw facts or statistics in the form of text, numbers, symbols, etc., that do not carry specific meaning or purpose. On the other hand, Information is knowledge derived from study, communication, research, or instructions. Essentially, information is obtained from analyzing and interpreting one or more pieces of data."
   ]
  },
  {
   "cell_type": "markdown",
   "id": "e42151a4",
   "metadata": {},
   "source": [
    "For example:"
   ]
  },
  {
   "cell_type": "markdown",
   "id": "904d5561",
   "metadata": {},
   "source": [
    "- The number of likes on a social media post is a piece ofdata. When combined with other social media engagement statistics, like follows, comments, and shares, it becomesinformationthat can tell us which social media platform is performing the best."
   ]
  },
  {
   "cell_type": "markdown",
   "id": "36ba022e",
   "metadata": {},
   "source": [
    "# Introducing to database"
   ]
  },
  {
   "cell_type": "markdown",
   "id": "873a3d72",
   "metadata": {},
   "source": [
    "A database is a systematic collection of data, managed in accordance with interrelated rules, making it easier to transform data into information."
   ]
  },
  {
   "cell_type": "markdown",
   "id": "3b2811b7",
   "metadata": {},
   "source": [
    "When managing a database, some essential characteristics to consider are:"
   ]
  },
  {
   "cell_type": "markdown",
   "id": "f2dada9c",
   "metadata": {},
   "source": [
    "- Speed of data retrieval\n",
    "- Storage space efficiency\n",
    "- Reduction or elimination of data redundancy\n",
    "- Accuracy in establishing relationships between data based on data type rules, data domains, and data uniqueness."
   ]
  },
  {
   "cell_type": "markdown",
   "id": "8cbce35d",
   "metadata": {},
   "source": [
    "# Database system"
   ]
  },
  {
   "cell_type": "markdown",
   "id": "2e411e26",
   "metadata": {},
   "source": [
    "A database, or “basis data” in Indonesian, is comprised of a basis (warehouse) and data (real-world facts representing objects) like people, goods, and so forth, manifested in the form of letters, numbers, symbols, or combinations thereof."
   ]
  },
  {
   "cell_type": "markdown",
   "id": "c436f84e",
   "metadata": {},
   "source": [
    "A database is usually managed by a DBMS (Database Management System) that acts as an interface between the database and its users. Users here can be either humans or applications. DBMS can be used by users to view, change, and manage information in the database."
   ]
  },
  {
   "cell_type": "markdown",
   "id": "04b05166",
   "metadata": {},
   "source": []
  },
  {
   "cell_type": "markdown",
   "id": "9449a425",
   "metadata": {},
   "source": [
    "![Image](https://storage.googleapis.com/rg-ai-bootcamp/database/dbms.jpg)"
   ]
  },
  {
   "cell_type": "markdown",
   "id": "a8cd6a9a",
   "metadata": {},
   "source": [
    "DBMS (Sumber: digitaloceanspaces.com)"
   ]
  },
  {
   "cell_type": "markdown",
   "id": "dd0be16a",
   "metadata": {},
   "source": [
    "Some of the most popular DBMSs are:"
   ]
  },
  {
   "cell_type": "markdown",
   "id": "2482dd9b",
   "metadata": {},
   "source": [
    "- MySQL: A SQL-based relational DBMS with a client-server architecture.\n",
    "- Elasticsearch: A distributed, RESTful search and analytics engine capable of addressing a growing number of use cases. It centrally stores your data for lightning fast search, fine-tuned relevancy, and powerful analytics that scale with ease.\n",
    "- SQLite: A relational database management system embedded into applications. SQLite stores all data in a single disk file and is very popular for mobile and desktop applications that require lightweight, local data storage.\n",
    "- And others"
   ]
  },
  {
   "cell_type": "markdown",
   "id": "471865f7",
   "metadata": {},
   "source": [
    "Data is typically modeled in rows and columns within a table. This structure makes it easier to perform addition, modification, deletion, and other operations. This model is common in relational databases (RDBMSs) that use SQL (Structured Query Language)."
   ]
  },
  {
   "cell_type": "markdown",
   "id": "d56cef42",
   "metadata": {},
   "source": [
    "SQL is a programming language used to manipulate, search, access, and perform other operations within a database."
   ]
  },
  {
   "cell_type": "markdown",
   "id": "5dc03e60",
   "metadata": {},
   "source": [
    "But how does this differ from a Spreadsheet (like Excel, or Google Sheets)? Both are easy to use but have clear differences:"
   ]
  },
  {
   "cell_type": "markdown",
   "id": "281bfb9a",
   "metadata": {},
   "source": [
    "| Differences | Spreadsheet | Database |\n",
    "| --- | --- | --- |\n",
    "| Usage | For accounting tasks | Used by large companies to store large amounts of data |\n",
    "| Who can access | Designed for single-user, but can be used by multiple users in turns | Can be accessed by multiple users or applications at once |\n",
    "| Amount of data that can be stored | Data storage is limited | Can store large amounts of data |"
   ]
  },
  {
   "cell_type": "markdown",
   "id": "4a7298ee",
   "metadata": {},
   "source": [
    "To illustrate the usage of a database, we will use SQL with SQLite as the relational database management system (RDBMS)."
   ]
  },
  {
   "cell_type": "markdown",
   "id": "2c260146",
   "metadata": {},
   "source": [
    "Up until now, when creating applications in Python, we’ve been storing data in memory in the form of a list of objects:"
   ]
  },
  {
   "cell_type": "code",
   "execution_count": null,
   "id": "24424d2a",
   "metadata": {},
   "outputs": [],
   "source": [
    "class StudentRow:\n",
    "    def __init__(self, ID, username, grade):\n",
    "        self.ID = ID\n",
    "        self.username = username\n",
    "        self.grade = grade\n",
    "\n",
    "students = []\n",
    "students.append(StudentRow(1, 'aditira', 83))\n",
    "students.append(StudentRow(2, 'gina', 77))\n",
    "students.append(StudentRow(3, 'ria', 64))\n",
    "\n",
    "for student in students:\n",
    "    print(student.__dict__)"
   ]
  },
  {
   "cell_type": "code",
   "execution_count": null,
   "id": "57029544",
   "metadata": {},
   "outputs": [],
   "source": [
    "{'ID': 1, 'username': 'aditira', 'grade': 83}\n",
    "{'ID': 2, 'username': 'gina', 'grade': 77}\n",
    "{'ID': 3, 'username': 'ria', 'grade': 64}"
   ]
  },
  {
   "cell_type": "markdown",
   "id": "2d90b8ef",
   "metadata": {},
   "source": [
    "This approach has some challenges, such as the data not being permanently stored when the application is terminated, and the data is hard to process because it requires several lines of Python code to manipulate the data."
   ]
  },
  {
   "cell_type": "markdown",
   "id": "8209d820",
   "metadata": {},
   "source": [
    "For example, if we want to get the average Grade from the above student list:"
   ]
  },
  {
   "cell_type": "code",
   "execution_count": null,
   "id": "02b88d61",
   "metadata": {},
   "outputs": [],
   "source": [
    "sum_of_grades = sum(student.grade for student in students)\n",
    "average_grade = sum_of_grades / len(students)\n",
    "\n",
    "print(\"Grade Average is \", average_grade)"
   ]
  },
  {
   "cell_type": "code",
   "execution_count": null,
   "id": "cab594c1",
   "metadata": {},
   "outputs": [],
   "source": [
    "Grade Average is  74.66666666666667"
   ]
  },
  {
   "cell_type": "markdown",
   "id": "7aab36b8",
   "metadata": {},
   "source": [
    "This requires about 3 lines of code to get the average Grade. Now let’s compare this with using SQL."
   ]
  },
  {
   "cell_type": "markdown",
   "id": "74047226",
   "metadata": {},
   "source": [
    "Assuming we already have a students table with id, username, and grade columns using SQLite. We can input data with the following SQL command:"
   ]
  },
  {
   "cell_type": "code",
   "execution_count": null,
   "id": "f51ac05e",
   "metadata": {},
   "outputs": [],
   "source": [
    "import sqlite3\n",
    "\n",
    "# Connect to SQLite database in memory\n",
    "conn = sqlite3.connect(':memory:')\n",
    "\n",
    "# Create a cursor object\n",
    "c = conn.cursor()\n",
    "\n",
    "# Create table\n",
    "c.execute(\"\"\"\n",
    "    CREATE TABLE students (\n",
    "        id INTEGER PRIMARY KEY,\n",
    "        username TEXT,\n",
    "        grade INTEGER\n",
    "    )\n",
    "\"\"\")"
   ]
  },
  {
   "cell_type": "code",
   "execution_count": null,
   "id": "69f6ccae",
   "metadata": {},
   "outputs": [],
   "source": [
    "<sqlite3.Cursor at 0x27c0db505c0>"
   ]
  },
  {
   "cell_type": "code",
   "execution_count": null,
   "id": "e9e4467a",
   "metadata": {},
   "outputs": [],
   "source": [
    "INSERT INTO public.students (username, grade) values ('aditira',83),('gina',77),('ria',64);"
   ]
  },
  {
   "cell_type": "code",
   "execution_count": null,
   "id": "51118832",
   "metadata": {},
   "outputs": [],
   "source": [
    "# Insert values\n",
    "c.execute(\"\"\"\n",
    "    INSERT INTO students (username, grade) \n",
    "    VALUES \n",
    "        ('aditira',83),\n",
    "        ('gina',77),\n",
    "        ('ria',64)\n",
    "\"\"\")"
   ]
  },
  {
   "cell_type": "code",
   "execution_count": null,
   "id": "32373bdb",
   "metadata": {},
   "outputs": [],
   "source": [
    "<sqlite3.Cursor at 0x27c0db505c0>"
   ]
  },
  {
   "cell_type": "markdown",
   "id": "795d3d9c",
   "metadata": {},
   "source": [
    "And we can retrieve the data with this simple SQL command:"
   ]
  },
  {
   "cell_type": "code",
   "execution_count": null,
   "id": "e36543e3",
   "metadata": {},
   "outputs": [],
   "source": [
    "SELECT * FROM students;"
   ]
  },
  {
   "cell_type": "code",
   "execution_count": null,
   "id": "577e0671",
   "metadata": {},
   "outputs": [],
   "source": [
    "import pandas as pd\n",
    "\n",
    "# Commit the transaction\n",
    "conn.commit()\n",
    "\n",
    "# Retrieve data and convert into DataFrame\n",
    "pd.read_sql_query(\"SELECT * FROM students\", conn)"
   ]
  },
  {
   "cell_type": "markdown",
   "id": "0f730df4",
   "metadata": {},
   "source": [
    "|  | id | username | grade |\n",
    "| --- | --- | --- | --- |\n",
    "| 0 | 1 | aditira | 83 |\n",
    "| 1 | 2 | gina | 77 |\n",
    "| 2 | 3 | ria | 64 |"
   ]
  },
  {
   "cell_type": "markdown",
   "id": "e8e1f624",
   "metadata": {},
   "source": [
    "Quite easy, isn’t it! 😎 And to get the average value of student grades is even easier, with this simple SQL command:"
   ]
  },
  {
   "cell_type": "code",
   "execution_count": null,
   "id": "c2f13eb8",
   "metadata": {},
   "outputs": [],
   "source": [
    "SELECT AVG(grade) FROM students;"
   ]
  },
  {
   "cell_type": "code",
   "execution_count": null,
   "id": "f02c04a5",
   "metadata": {},
   "outputs": [],
   "source": [
    "import pandas as pd\n",
    "\n",
    "# Commit the transaction\n",
    "conn.commit()\n",
    "\n",
    "# Retrieve data and convert into DataFrame\n",
    "pd.read_sql_query(\"SELECT AVG(grade) FROM students\", conn)"
   ]
  },
  {
   "cell_type": "markdown",
   "id": "dbddf44d",
   "metadata": {},
   "source": [
    "|  | AVG(grade) |\n",
    "| --- | --- |\n",
    "| 0 | 74.666667 |"
   ]
  },
  {
   "cell_type": "code",
   "execution_count": null,
   "id": "d753374e",
   "metadata": {},
   "outputs": [],
   "source": [
    "# Close the connection\n",
    "conn.close()"
   ]
  },
  {
   "cell_type": "markdown",
   "id": "f4b4f1a8",
   "metadata": {},
   "source": [
    "So you can see that using a database, our application data is much easier to process and is stored more securely for long-term use."
   ]
  },
  {
   "cell_type": "markdown",
   "id": "8eed924b",
   "metadata": {},
   "source": [
    "# DDL (Data Definition Language)"
   ]
  },
  {
   "cell_type": "markdown",
   "id": "5d5f8d91",
   "metadata": {},
   "source": [
    "# What is DDL?"
   ]
  },
  {
   "cell_type": "markdown",
   "id": "354f93d3",
   "metadata": {},
   "source": [
    "Before we start using a database, we need to set things up by creating tables, schemas, views, and indexes. This process is referred to as Data Definition Language (DDL)."
   ]
  },
  {
   "cell_type": "markdown",
   "id": "1915f88f",
   "metadata": {},
   "source": [
    "There are several SQL commands used to carry out these tasks, such as CREATE, ALTER, DROP, TRUNCATE."
   ]
  },
  {
   "cell_type": "markdown",
   "id": "6ab18d3e",
   "metadata": {},
   "source": [
    "Let’s consider the following table as an example. This table contains simple employee data:"
   ]
  },
  {
   "cell_type": "markdown",
   "id": "78ea4b9a",
   "metadata": {},
   "source": [
    "| ID | name | age | address | salary |\n",
    "| --- | --- | --- | --- | --- |\n",
    "| 1 | Rizki | 25 | Jl. Kebon Jeruk | 2000000 |\n",
    "| 2 | Andi | 27 | Jl. Kebon Sirih | 3000000 |\n",
    "| 3 | Budi | 30 | Jl. Kebon Melati | 4000000 |\n",
    "| 4 | Caca | 32 | Jl. Kebon Anggrek | 5000000 |\n",
    "| 5 | Deni | 35 | Jl. Kebon Mawar | 6000000 |"
   ]
  },
  {
   "cell_type": "markdown",
   "id": "fb1716f8",
   "metadata": {},
   "source": [
    "Next, we will apply DDL to this table."
   ]
  },
  {
   "cell_type": "markdown",
   "id": "40bcef5a",
   "metadata": {},
   "source": [
    "# SQL Data Types"
   ]
  },
  {
   "cell_type": "markdown",
   "id": "2328c200",
   "metadata": {},
   "source": [
    "To create a table, we need to determine the data types to be used. These data types will limit the kind of data that can be inserted into each column. The data types in SQL are not much different from those in Python. Here are some commonly used data types:"
   ]
  },
  {
   "cell_type": "markdown",
   "id": "e2180712",
   "metadata": {},
   "source": [
    "| Data type | Description |\n",
    "| --- | --- |\n",
    "| VARCHAR(size) | A character data type with a flexible length, likestringin Python |\n",
    "| TEXT | A character data type with a maximum length of 65535 characters |\n",
    "| INT / INTEGER | An integer data type |\n",
    "| FLOAT | A decimal number data type |\n",
    "| BOOLEAN | A boolean data type (true/false) |\n",
    "| DATE | A date data type |\n",
    "| DATETIME | A date and time data type |"
   ]
  },
  {
   "cell_type": "markdown",
   "id": "d9616a7e",
   "metadata": {},
   "source": [
    "For the VARCHAR data type, we need to specify the size (a number from 1 - 255). This size will limit the length of the characters that can be entered into that column. For instance, VARCHAR(50) will limit the length of the characters that can be entered into that column to 50 characters. If we enter characters longer than 50, an error will occur."
   ]
  },
  {
   "cell_type": "markdown",
   "id": "d958a253",
   "metadata": {},
   "source": [
    "The VARCHAR data type can only hold a maximum of 255 characters. If we want to store more than 255 characters, we need to use the TEXT data type, which has a maximum length of 65535 characters."
   ]
  },
  {
   "cell_type": "markdown",
   "id": "c6c17d25",
   "metadata": {},
   "source": [
    "For more details, you can check here."
   ]
  },
  {
   "cell_type": "markdown",
   "id": "e18f4b41",
   "metadata": {},
   "source": [
    "# CREATE"
   ]
  },
  {
   "cell_type": "markdown",
   "id": "38f07952",
   "metadata": {},
   "source": [
    "The CREATE command is used to create a new object such as a database, table, schema, view, or index."
   ]
  },
  {
   "cell_type": "markdown",
   "id": "9ae1cf9a",
   "metadata": {},
   "source": [
    "To create a new database, we can use the CREATE DATABASE command as follows:"
   ]
  },
  {
   "cell_type": "code",
   "execution_count": null,
   "id": "00ffbac1",
   "metadata": {},
   "outputs": [],
   "source": [
    "CREATE DATABASE <db-name>;"
   ]
  },
  {
   "cell_type": "markdown",
   "id": "37988457",
   "metadata": {},
   "source": [
    "Where <db-name> is the name of the database to be created. Don’t forget to end each SQL command with a ;."
   ]
  },
  {
   "cell_type": "markdown",
   "id": "99ccfbd5",
   "metadata": {},
   "source": [
    "Example:"
   ]
  },
  {
   "cell_type": "code",
   "execution_count": null,
   "id": "09fac23b",
   "metadata": {},
   "outputs": [],
   "source": [
    "CREATE DATABASE db_employee;"
   ]
  },
  {
   "cell_type": "markdown",
   "id": "5f3d7508",
   "metadata": {},
   "source": [
    "With python and SQLite let’s import the necessary module and establish a connection to the database."
   ]
  },
  {
   "cell_type": "code",
   "execution_count": null,
   "id": "97051851",
   "metadata": {},
   "outputs": [],
   "source": [
    "import sqlite3\n",
    "\n",
    "# Connect to the SQLite database\n",
    "# If the database does not exist, it will be created\n",
    "conn = sqlite3.connect('db/sqlite.db')\n",
    "\n",
    "# Create a cursor object\n",
    "cur = conn.cursor()"
   ]
  },
  {
   "cell_type": "markdown",
   "id": "699a470e",
   "metadata": {},
   "source": [
    "The command above creates a new database named db_employee."
   ]
  },
  {
   "cell_type": "markdown",
   "id": "59588503",
   "metadata": {},
   "source": [
    "Next, we can also use CREATE to create a new table. We can use CREATE TABLE as follows:"
   ]
  },
  {
   "cell_type": "code",
   "execution_count": null,
   "id": "38a043a2",
   "metadata": {},
   "outputs": [],
   "source": [
    "CREATE TABLE <table-name> (\n",
    "  <column-name> <data-type> <constraints>,\n",
    "  <column-name> <data-type> <constraints>,\n",
    "  ...\n",
    ");"
   ]
  },
  {
   "cell_type": "markdown",
   "id": "fcab8d77",
   "metadata": {},
   "source": [
    "Where <table-name> is the name of the table to be created, <column-name> is the name of the column, <data-type> is the data type to be used, and <constraints> are the rules to be applied to that column. To create a column with more than one rule, we can separate them with a comma ,."
   ]
  },
  {
   "cell_type": "markdown",
   "id": "692c7a1e",
   "metadata": {},
   "source": [
    "Example command to create an employee table:"
   ]
  },
  {
   "cell_type": "code",
   "execution_count": null,
   "id": "cf744e56",
   "metadata": {},
   "outputs": [],
   "source": [
    "CREATE TABLE employee (\n",
    "  id INT,\n",
    "  name VARCHAR(255) NOT NULL,\n",
    "  age INT NOT NULL,\n",
    "  address VARCHAR(255),\n",
    "  salary INT\n",
    ");"
   ]
  },
  {
   "cell_type": "markdown",
   "id": "70b7b24f",
   "metadata": {},
   "source": [
    "Let’s create an employee table."
   ]
  },
  {
   "cell_type": "code",
   "execution_count": null,
   "id": "e51cd614",
   "metadata": {},
   "outputs": [],
   "source": [
    "# Execute a SQL command: this creates a new table\n",
    "cur.execute('''\n",
    "    CREATE TABLE employee (\n",
    "        id INTEGER,\n",
    "        name TEXT NOT NULL,\n",
    "        age INTEGER NOT NULL,\n",
    "        address TEXT,\n",
    "        salary INTEGER\n",
    "    )\n",
    "''')\n",
    "\n",
    "# Commit the transaction\n",
    "conn.commit()"
   ]
  },
  {
   "cell_type": "markdown",
   "id": "4f4907af",
   "metadata": {},
   "source": [
    "See the table:"
   ]
  },
  {
   "cell_type": "code",
   "execution_count": null,
   "id": "d25986e9",
   "metadata": {},
   "outputs": [],
   "source": [
    "import pandas as pd\n",
    "\n",
    "pd.read_sql_query(\"SELECT * FROM employee\", conn)"
   ]
  },
  {
   "cell_type": "markdown",
   "id": "78e50ab3",
   "metadata": {},
   "source": [
    "|  | id | name | age | address | salary |\n",
    "| --- | --- | --- | --- | --- | --- |"
   ]
  },
  {
   "cell_type": "markdown",
   "id": "d4e25673",
   "metadata": {},
   "source": [
    "From the example above, we are creating a new table named employee that has 5 columns, namely id, name, age, address, and salary. For the id and age columns, we use the INT data type, which means integer, while for the name and address columns, we use the VARCHAR data type, which means character. The salary column also uses the INT data type, which means integer."
   ]
  },
  {
   "cell_type": "markdown",
   "id": "863c072f",
   "metadata": {},
   "source": [
    "For the name and age columns, we apply the NOT NULL constraint, which means that these columns cannot be empty. If we enter empty data or empty characters \"\" into these columns, an error will occur."
   ]
  },
  {
   "cell_type": "markdown",
   "id": "47ff2c2f",
   "metadata": {},
   "source": [
    "You can try creating a new table named employee as above in an online SQL compiler or in your own pgAdmin / DBMS tool."
   ]
  },
  {
   "cell_type": "markdown",
   "id": "45a235cd",
   "metadata": {},
   "source": [
    "# ALTER"
   ]
  },
  {
   "cell_type": "markdown",
   "id": "3706c348",
   "metadata": {},
   "source": [
    "The ALTER command is used to modify the structure of the database. For example, if we want to add a new column to an existing table, we can use the ALTER TABLE command as follows:"
   ]
  },
  {
   "cell_type": "code",
   "execution_count": null,
   "id": "7b1e2085",
   "metadata": {},
   "outputs": [],
   "source": [
    "ALTER TABLE <table-name> ADD <column-name> <data-type> <constraints>;"
   ]
  },
  {
   "cell_type": "markdown",
   "id": "a0b9d164",
   "metadata": {},
   "source": [
    "Where <table-name> is the name of the table to be modified, <column-name> is the name of the column to be added, <data-type> is the data type to be used, and <constraints> are the rules to be applied to that column."
   ]
  },
  {
   "cell_type": "markdown",
   "id": "fc18b748",
   "metadata": {},
   "source": [
    "If we want to add a new column named email with data type VARCHAR(255) to the employee table, we can use the following command:"
   ]
  },
  {
   "cell_type": "code",
   "execution_count": null,
   "id": "d5e752dc",
   "metadata": {},
   "outputs": [],
   "source": [
    "ALTER TABLE employee ADD email VARCHAR(255);"
   ]
  },
  {
   "cell_type": "markdown",
   "id": "fb0a003f",
   "metadata": {},
   "source": [
    "Try in python using SQLite:"
   ]
  },
  {
   "cell_type": "code",
   "execution_count": null,
   "id": "1bfeee69",
   "metadata": {},
   "outputs": [],
   "source": [
    "cur.execute('ALTER TABLE employee ADD COLUMN email TEXT')\n",
    "conn.commit()"
   ]
  },
  {
   "cell_type": "markdown",
   "id": "d50a11f4",
   "metadata": {},
   "source": [
    "See the table:"
   ]
  },
  {
   "cell_type": "code",
   "execution_count": null,
   "id": "50f97422",
   "metadata": {},
   "outputs": [],
   "source": [
    "import pandas as pd\n",
    "\n",
    "pd.read_sql_query(\"SELECT * FROM employee\", conn)"
   ]
  },
  {
   "cell_type": "markdown",
   "id": "5593e890",
   "metadata": {},
   "source": [
    "|  | id | name | age | address | salary | email |\n",
    "| --- | --- | --- | --- | --- | --- | --- |"
   ]
  },
  {
   "cell_type": "markdown",
   "id": "6eb219a2",
   "metadata": {},
   "source": [
    "The example above means that we are adding a new column named email with the data type VARCHAR(255) to the employee table."
   ]
  },
  {
   "cell_type": "markdown",
   "id": "58d3f534",
   "metadata": {},
   "source": [
    "We can also modify an existing column with the ALTER COLUMN command as follows:"
   ]
  },
  {
   "cell_type": "code",
   "execution_count": null,
   "id": "fa90f076",
   "metadata": {},
   "outputs": [],
   "source": [
    "ALTER TABLE <table-name> ALTER COLUMN <column-name> TYPE <data-type> <constraints>;"
   ]
  },
  {
   "cell_type": "markdown",
   "id": "f72126ce",
   "metadata": {},
   "source": [
    "We can change salary to the FLOAT data type with the following command:"
   ]
  },
  {
   "cell_type": "code",
   "execution_count": null,
   "id": "889c32cd",
   "metadata": {},
   "outputs": [],
   "source": [
    "ALTER TABLE employee ALTER COLUMN salary TYPE FLOAT;"
   ]
  },
  {
   "cell_type": "markdown",
   "id": "13231b72",
   "metadata": {},
   "source": [
    "We can also rename a column with the RENAME TO command as follows:"
   ]
  },
  {
   "cell_type": "code",
   "execution_count": null,
   "id": "e523adb8",
   "metadata": {},
   "outputs": [],
   "source": [
    "ALTER TABLE <table-name> RENAME TO <new-table-name>;"
   ]
  },
  {
   "cell_type": "markdown",
   "id": "916a96cd",
   "metadata": {},
   "source": [
    "Where <table-name> is the name of the table to be modified, and <new-table-name> is the new table name."
   ]
  },
  {
   "cell_type": "markdown",
   "id": "85a3004e",
   "metadata": {},
   "source": [
    "We can rename the employee table to employees with the following command:"
   ]
  },
  {
   "cell_type": "code",
   "execution_count": null,
   "id": "32dab829",
   "metadata": {},
   "outputs": [],
   "source": [
    "ALTER TABLE employee RENAME TO employees;"
   ]
  },
  {
   "cell_type": "markdown",
   "id": "09313ea3",
   "metadata": {},
   "source": [
    "Try in python using SQLite:"
   ]
  },
  {
   "cell_type": "code",
   "execution_count": null,
   "id": "f268a27f",
   "metadata": {},
   "outputs": [],
   "source": [
    "cur.execute('ALTER TABLE employee RENAME TO employees')\n",
    "conn.commit()"
   ]
  },
  {
   "cell_type": "markdown",
   "id": "1369829d",
   "metadata": {},
   "source": [
    "See the table:"
   ]
  },
  {
   "cell_type": "code",
   "execution_count": null,
   "id": "da82796a",
   "metadata": {},
   "outputs": [],
   "source": [
    "import pandas as pd\n",
    "\n",
    "pd.read_sql_query(\"SELECT * FROM employees\", conn)  # Change table employee to employees"
   ]
  },
  {
   "cell_type": "markdown",
   "id": "49641c82",
   "metadata": {},
   "source": [
    "|  | id | name | age | address | salary | email |\n",
    "| --- | --- | --- | --- | --- | --- | --- |"
   ]
  },
  {
   "cell_type": "markdown",
   "id": "de41774a",
   "metadata": {},
   "source": [
    "Finally, we can delete a column with the DROP COLUMN command as follows:"
   ]
  },
  {
   "cell_type": "code",
   "execution_count": null,
   "id": "812abc88",
   "metadata": {},
   "outputs": [],
   "source": [
    "ALTER TABLE <table-name> DROP COLUMN <column-name>;"
   ]
  },
  {
   "cell_type": "markdown",
   "id": "57d42472",
   "metadata": {},
   "source": [
    "Where <table-name> is the name of the table to be modified, and <column-name> is the name of the column to be deleted."
   ]
  },
  {
   "cell_type": "markdown",
   "id": "b4fbbe1d",
   "metadata": {},
   "source": [
    "We can delete the email column of the employee table with the following command:"
   ]
  },
  {
   "cell_type": "code",
   "execution_count": null,
   "id": "60c20bb2",
   "metadata": {},
   "outputs": [],
   "source": [
    "ALTER TABLE employee DROP COLUMN email;"
   ]
  },
  {
   "cell_type": "markdown",
   "id": "0e65e2dc",
   "metadata": {},
   "source": [
    "Try in python using SQLite:"
   ]
  },
  {
   "cell_type": "code",
   "execution_count": null,
   "id": "bda81eee",
   "metadata": {},
   "outputs": [],
   "source": [
    "cur.execute('ALTER TABLE employees DROP COLUMN email')\n",
    "conn.commit()"
   ]
  },
  {
   "cell_type": "markdown",
   "id": "7672cdb3",
   "metadata": {},
   "source": [
    "See the table:"
   ]
  },
  {
   "cell_type": "code",
   "execution_count": null,
   "id": "4e262722",
   "metadata": {},
   "outputs": [],
   "source": [
    "import pandas as pd\n",
    "\n",
    "pd.read_sql_query(\"SELECT * FROM employees\", conn)"
   ]
  },
  {
   "cell_type": "markdown",
   "id": "10f8091d",
   "metadata": {},
   "source": [
    "|  | id | name | age | address | salary |\n",
    "| --- | --- | --- | --- | --- | --- |"
   ]
  },
  {
   "cell_type": "markdown",
   "id": "e4db71e3",
   "metadata": {},
   "source": [
    "After running the command above, the email column of the employee table will be deleted."
   ]
  },
  {
   "cell_type": "markdown",
   "id": "80a35a9e",
   "metadata": {},
   "source": [
    "You can try using the ALTER command as above in an online SQL compiler or in your own pgAdmin / DBMS tool."
   ]
  },
  {
   "cell_type": "markdown",
   "id": "e9fd61e6",
   "metadata": {},
   "source": [
    "# DROP"
   ]
  },
  {
   "cell_type": "markdown",
   "id": "a0cf8a0f",
   "metadata": {},
   "source": [
    "The DROP command is used to delete records or objects that exist in the database."
   ]
  },
  {
   "cell_type": "markdown",
   "id": "49137752",
   "metadata": {},
   "source": [
    "We can delete the employee table that was previously created using DROP TABLE as follows:"
   ]
  },
  {
   "cell_type": "code",
   "execution_count": null,
   "id": "ed103d30",
   "metadata": {},
   "outputs": [],
   "source": [
    "DROP TABLE <table-name>"
   ]
  },
  {
   "cell_type": "markdown",
   "id": "249db24e",
   "metadata": {},
   "source": [
    "Where <table-name> is the name of the table to be deleted."
   ]
  },
  {
   "cell_type": "markdown",
   "id": "ca04247f",
   "metadata": {},
   "source": [
    "We can delete the employee table with the following command:"
   ]
  },
  {
   "cell_type": "code",
   "execution_count": null,
   "id": "0bda65b5",
   "metadata": {},
   "outputs": [],
   "source": [
    "DROP TABLE employee;"
   ]
  },
  {
   "cell_type": "markdown",
   "id": "0e3e3238",
   "metadata": {},
   "source": [
    "Try in python using SQLite:"
   ]
  },
  {
   "cell_type": "code",
   "execution_count": null,
   "id": "7f601e90",
   "metadata": {},
   "outputs": [],
   "source": [
    "cur.execute('DROP TABLE employees')\n",
    "conn.commit()"
   ]
  },
  {
   "cell_type": "markdown",
   "id": "cd7c6c94",
   "metadata": {},
   "source": [
    "See the table (expected error):"
   ]
  },
  {
   "cell_type": "code",
   "execution_count": null,
   "id": "51a338aa",
   "metadata": {},
   "outputs": [],
   "source": [
    "import pandas as pd\n",
    "\n",
    "pd.read_sql_query(\"SELECT * FROM employees\", conn)"
   ]
  },
  {
   "cell_type": "markdown",
   "id": "068a529b",
   "metadata": {},
   "source": [
    "We can also delete a database with the DROP DATABASE command as follows:"
   ]
  },
  {
   "cell_type": "code",
   "execution_count": null,
   "id": "6efaf6dc",
   "metadata": {},
   "outputs": [],
   "source": [
    "DROP DATABASE <database-name>"
   ]
  },
  {
   "cell_type": "markdown",
   "id": "52796e27",
   "metadata": {},
   "source": [
    "Where <database-name> is the name of the database to be deleted."
   ]
  },
  {
   "cell_type": "markdown",
   "id": "1490ed47",
   "metadata": {},
   "source": [
    "We can delete the db_employee database with the following command:"
   ]
  },
  {
   "cell_type": "code",
   "execution_count": null,
   "id": "8d4d6d9c",
   "metadata": {},
   "outputs": [],
   "source": [
    "DROP DATABASE db_employees;"
   ]
  },
  {
   "cell_type": "markdown",
   "id": "22e91f28",
   "metadata": {},
   "source": [
    "You can try using the DROP command as above in an online SQL compiler or in your own pgAdmin / DBMS tool."
   ]
  },
  {
   "cell_type": "markdown",
   "id": "5dc32799",
   "metadata": {},
   "source": [
    "# TRUNCATE"
   ]
  },
  {
   "cell_type": "markdown",
   "id": "a56f7f8d",
   "metadata": {},
   "source": [
    "The TRUNCATE command is used to delete all records (data) within a table."
   ]
  },
  {
   "cell_type": "markdown",
   "id": "98de4241",
   "metadata": {},
   "source": [
    "We can delete all records in the employee table with the TRUNCATE TABLE command as follows:"
   ]
  },
  {
   "cell_type": "code",
   "execution_count": null,
   "id": "324d63a5",
   "metadata": {},
   "outputs": [],
   "source": [
    "TRUNCATE TABLE <table-name>"
   ]
  },
  {
   "cell_type": "markdown",
   "id": "273bb0ad",
   "metadata": {},
   "source": [
    "Where <table-name> is the name of the table whose records will be deleted."
   ]
  },
  {
   "cell_type": "markdown",
   "id": "0ba5e096",
   "metadata": {},
   "source": [
    "We can delete all records in the employee table with the following command:"
   ]
  },
  {
   "cell_type": "code",
   "execution_count": null,
   "id": "e5ddf8dd",
   "metadata": {},
   "outputs": [],
   "source": [
    "TRUNCATE TABLE employee;"
   ]
  },
  {
   "cell_type": "markdown",
   "id": "98a16b23",
   "metadata": {},
   "source": [
    "Try in python using SQLite (Insert Data):"
   ]
  },
  {
   "cell_type": "code",
   "execution_count": null,
   "id": "a5e05bfd",
   "metadata": {},
   "outputs": [],
   "source": [
    "cur.execute(\"INSERT INTO employees VALUES (1, 'Rizki', 25, 'Jl. Kebon Jeruk', 2000000)\")\n",
    "cur.execute(\"INSERT INTO employees VALUES (2, 'Aditira', 22, 'Jl. Cibinong', 19000000)\")\n",
    "conn.commit()"
   ]
  },
  {
   "cell_type": "markdown",
   "id": "f318982b",
   "metadata": {},
   "source": [
    "See the table:"
   ]
  },
  {
   "cell_type": "code",
   "execution_count": null,
   "id": "b1b5da13",
   "metadata": {},
   "outputs": [],
   "source": [
    "import pandas as pd\n",
    "\n",
    "pd.read_sql_query(\"SELECT * FROM employees\", conn)"
   ]
  },
  {
   "cell_type": "markdown",
   "id": "3fe682a6",
   "metadata": {},
   "source": [
    "|  | id | name | age | address | salary |\n",
    "| --- | --- | --- | --- | --- | --- |\n",
    "| 0 | 1 | Rizki | 25 | Jl. Kebon Jeruk | 2000000 |\n",
    "| 1 | 2 | Aditira | 22 | Jl. Cibinong | 19000000 |"
   ]
  },
  {
   "cell_type": "markdown",
   "id": "9eca7a47",
   "metadata": {},
   "source": [
    "Delete all records:"
   ]
  },
  {
   "cell_type": "code",
   "execution_count": null,
   "id": "62a3e751",
   "metadata": {},
   "outputs": [],
   "source": [
    "cur.execute('DELETE FROM employees')\n",
    "conn.commit()"
   ]
  },
  {
   "cell_type": "markdown",
   "id": "da506afa",
   "metadata": {},
   "source": [
    "See the table:"
   ]
  },
  {
   "cell_type": "code",
   "execution_count": null,
   "id": "05599e95",
   "metadata": {},
   "outputs": [],
   "source": [
    "import pandas as pd\n",
    "\n",
    "pd.read_sql_query(\"SELECT * FROM employees\", conn)"
   ]
  },
  {
   "cell_type": "markdown",
   "id": "aabdf20d",
   "metadata": {},
   "source": [
    "|  | id | name | age | address | salary |\n",
    "| --- | --- | --- | --- | --- | --- |"
   ]
  },
  {
   "cell_type": "markdown",
   "id": "6ddcc36f",
   "metadata": {},
   "source": [
    "When the command above is run, all records (rows of data) in the employee table will be deleted, resulting in 0 records."
   ]
  },
  {
   "cell_type": "markdown",
   "id": "36dabda4",
   "metadata": {},
   "source": [
    "You can try using the TRUNCATE command as above in an online SQL compiler or in your own pgAdmin / DBMS tool."
   ]
  },
  {
   "cell_type": "code",
   "execution_count": null,
   "id": "790e1006",
   "metadata": {},
   "outputs": [],
   "source": [
    "# Close the connection\n",
    "conn.close()"
   ]
  },
  {
   "cell_type": "markdown",
   "id": "2ff2f2d3",
   "metadata": {},
   "source": [
    "Next we’ll go into how to set up and manipulate data in tables."
   ]
  }
 ],
 "metadata": {},
 "nbformat": 4,
 "nbformat_minor": 5
}
