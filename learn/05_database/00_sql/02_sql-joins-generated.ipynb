{
 "cells": [
  {
   "cell_type": "markdown",
   "id": "82ed3e2e",
   "metadata": {},
   "source": [
    "source: [link](https://ai-bootcamp.ruangguru.com/learn/05_database/00_sql/02_sql-joins.html)"
   ]
  },
  {
   "cell_type": "markdown",
   "id": "4c2d3c37",
   "metadata": {},
   "source": [
    "# SQL Fundamentals with Python - Joins"
   ]
  },
  {
   "cell_type": "markdown",
   "id": "0d26460a",
   "metadata": {},
   "source": [
    "# Joining Database Table"
   ]
  },
  {
   "cell_type": "markdown",
   "id": "db937472",
   "metadata": {},
   "source": [
    "# Key Constraints"
   ]
  },
  {
   "cell_type": "markdown",
   "id": "5c59f941",
   "metadata": {},
   "source": [
    "Previously, you have learned about the concept of sql constraints. The Primary key works as an index to find the data we want. The Foreign key works as an index to reference data in the index table based on the primary key of the referenced table."
   ]
  },
  {
   "cell_type": "markdown",
   "id": "5cff0d1b",
   "metadata": {},
   "source": [
    "When we want to create a table that has a foreign key from another table, we must create the referenced table first. This is because we cannot create a table that has a foreign key from a table that does not yet exist."
   ]
  },
  {
   "cell_type": "markdown",
   "id": "4b6c92cf",
   "metadata": {},
   "source": [
    "# Primary key"
   ]
  },
  {
   "cell_type": "markdown",
   "id": "aea1eeaf",
   "metadata": {},
   "source": [
    "First, we need to create a primary key as a unique identifier for the table. Suppose there is a department table that has the following data:"
   ]
  },
  {
   "cell_type": "markdown",
   "id": "63920d43",
   "metadata": {},
   "source": [
    "| id | name |\n",
    "| --- | --- |\n",
    "| 1 | IT |\n",
    "| 2 | HRD |\n",
    "| 3 | Finance |\n",
    "| 4 | Marketing |"
   ]
  },
  {
   "cell_type": "markdown",
   "id": "baf92b11",
   "metadata": {},
   "source": [
    "Then there is an employee table that has the following data:"
   ]
  },
  {
   "cell_type": "markdown",
   "id": "3fa996f2",
   "metadata": {},
   "source": [
    "| id | name | age | address | salary | department_id |\n",
    "| --- | --- | --- | --- | --- | --- |\n",
    "| 1 | Rizki | 25 | Jl. Kebon Jeruk | 2000000 | 2 |\n",
    "| 2 | Andi | 27 | Jl. Kebon Sirih | 3000000 | 3 |\n",
    "| 3 | Budi | 30 | Jl. Kebon Melati | 4000000 | 1 |\n",
    "| 4 | Caca | 32 | Jl. Kebon Anggrek | 5000000 | 1 |\n",
    "| 5 | Deni | 35 | Jl. Kebon Mawar | 6000000 | 1 |"
   ]
  },
  {
   "cell_type": "markdown",
   "id": "abaf0c44",
   "metadata": {},
   "source": [
    "We can conclude that the employee table has a foreign key from the department table. This is because the department_id column in the employee table references the id column in the department table."
   ]
  },
  {
   "cell_type": "markdown",
   "id": "ff9768ba",
   "metadata": {},
   "source": []
  },
  {
   "cell_type": "markdown",
   "id": "e8384e2b",
   "metadata": {},
   "source": [
    "![Image](https://storage.googleapis.com/rg-ai-bootcamp/database/join-table-example.svg)"
   ]
  },
  {
   "cell_type": "markdown",
   "id": "d1a180b3",
   "metadata": {},
   "source": [
    "We can create a primary key on the id column because the data is unique by adding PRIMARY KEY as constraints on the id column when creating the department table:"
   ]
  },
  {
   "cell_type": "code",
   "execution_count": null,
   "id": "e72e66a5",
   "metadata": {},
   "outputs": [],
   "source": [
    "CREATE TABLE department (\n",
    "  id INT PRIMARY KEY, -- the `id` column will become the primary key\n",
    "  name VARCHAR(255)\n",
    ");"
   ]
  },
  {
   "cell_type": "markdown",
   "id": "17866a64",
   "metadata": {},
   "source": [
    "When the command is executed, the department table will be created with the id column as a primary key of type INT. Automatically, this data must be unique."
   ]
  },
  {
   "cell_type": "markdown",
   "id": "bb35af14",
   "metadata": {},
   "source": [
    "# Foreign key"
   ]
  },
  {
   "cell_type": "markdown",
   "id": "3525a111",
   "metadata": {},
   "source": [
    "Then we can create a foreign key on the employee table by adding FOREIGN KEY as constraints on the department_id column when creating the employee table:"
   ]
  },
  {
   "cell_type": "code",
   "execution_count": null,
   "id": "e6bf700b",
   "metadata": {},
   "outputs": [],
   "source": [
    "CREATE TABLE employee (\n",
    "  id INT PRIMARY KEY,\n",
    "  name VARCHAR(255),\n",
    "  age INT,\n",
    "  address VARCHAR(255),\n",
    "  salary INT,\n",
    "  department_id INT FOREIGN KEY REFERENCES department(id)\n",
    "  -- the `department_id` column will become the foreign key"
   ]
  },
  {
   "cell_type": "markdown",
   "id": "add2cba5",
   "metadata": {},
   "source": [
    "With python, let’s create the department and employee tables, and insert the data into these tables."
   ]
  },
  {
   "cell_type": "code",
   "execution_count": null,
   "id": "96f1b940",
   "metadata": {},
   "outputs": [],
   "source": [
    "import sqlite3\n",
    "\n",
    "# Connect to SQLite database\n",
    "conn = sqlite3.connect('db/sqlite.db')\n",
    "\n",
    "# Create a cursor object\n",
    "c = conn.cursor()\n",
    "\n",
    "# Create table 'department'\n",
    "c.execute('''\n",
    "CREATE TABLE department (\n",
    "    id INT PRIMARY KEY,\n",
    "    name TEXT);\n",
    "''')\n",
    "\n",
    "# Insert data into the 'department' table\n",
    "data = [\n",
    "    (1, 'IT'),\n",
    "    (2, 'HRD'),\n",
    "    (3, 'Finance'),\n",
    "    (4, 'Marketing')\n",
    "]\n",
    "c.executemany('INSERT INTO department VALUES (?,?)', data)\n",
    "\n",
    "# Create table 'employee'\n",
    "c.execute('''\n",
    "CREATE TABLE employee (\n",
    "    id INT PRIMARY KEY,\n",
    "    name TEXT,\n",
    "    age INT,\n",
    "    address TEXT,\n",
    "    salary REAL,\n",
    "    department_id INT,\n",
    "    FOREIGN KEY(department_id) REFERENCES department(id));\n",
    "''')\n",
    "\n",
    "# Insert data into 'employee' table\n",
    "data = [\n",
    "    (1, 'Rizki', 25, 'Jl. Kebon Jeruk', 2000000, 2),\n",
    "    (2, 'Andi', 27, 'Jl. Kebon Sirih', 3000000, 3),\n",
    "    (3, 'Budi', 30, 'Jl. Kebon Melati', 4000000, 1),\n",
    "    (4, 'Caca', 32, 'Jl. Kebon Anggrek', 5000000, 1),\n",
    "    (5, 'Deni', 35, 'Jl. Kebon Mawar', 6000000, 1)\n",
    "]\n",
    "c.executemany('INSERT INTO employee VALUES (?,?,?,?,?,?)', data)\n",
    "\n",
    "# Commit the transaction\n",
    "conn.commit()"
   ]
  },
  {
   "cell_type": "markdown",
   "id": "e60c3732",
   "metadata": {},
   "source": [
    "Now, let’s perform a JOIN operation to combine these tables:"
   ]
  },
  {
   "cell_type": "code",
   "execution_count": null,
   "id": "e106e303",
   "metadata": {},
   "outputs": [],
   "source": [
    "import pandas as pd\n",
    "\n",
    "pd.read_sql_query('''\n",
    "SELECT \n",
    "    employee.id AS employee_id, \n",
    "    employee.name AS employee_name, \n",
    "    department.name AS department_name,\n",
    "    employee.age, \n",
    "    employee.address, \n",
    "    employee.salary\n",
    "FROM \n",
    "    employee\n",
    "INNER JOIN department ON employee.department_id = department.id\n",
    "''', conn)"
   ]
  },
  {
   "cell_type": "markdown",
   "id": "4fcfff94",
   "metadata": {},
   "source": [
    "|  | employee_id | employee_name | department_name | age | address | salary |\n",
    "| --- | --- | --- | --- | --- | --- | --- |\n",
    "| 0 | 1 | Rizki | HRD | 25 | Jl. Kebon Jeruk | 2000000.0 |\n",
    "| 1 | 2 | Andi | Finance | 27 | Jl. Kebon Sirih | 3000000.0 |\n",
    "| 2 | 3 | Budi | IT | 30 | Jl. Kebon Melati | 4000000.0 |\n",
    "| 3 | 4 | Caca | IT | 32 | Jl. Kebon Anggrek | 5000000.0 |\n",
    "| 4 | 5 | Deni | IT | 35 | Jl. Kebon Mawar | 6000000.0 |"
   ]
  },
  {
   "cell_type": "markdown",
   "id": "18e6a9bf",
   "metadata": {},
   "source": [
    "This will display employee details along with their respective department names."
   ]
  },
  {
   "cell_type": "markdown",
   "id": "ee41374e",
   "metadata": {},
   "source": [
    "The way to create a foreign key above is the same as creating a primary key. The only difference is we need to add REFERENCES to determine which table will be used as an index. Thus, the employee table has a column that references the data in the department table based on the id column."
   ]
  },
  {
   "cell_type": "markdown",
   "id": "bae91c6d",
   "metadata": {},
   "source": [
    "# SQL Joins"
   ]
  },
  {
   "cell_type": "markdown",
   "id": "e2bb91ba",
   "metadata": {},
   "source": [
    "Previously, we have learned how to retrieve data from a table. But, what if we want to retrieve data from two tables? Suppose we want to retrieve data from table A and table B, and then display both data in one table. To do this, we can use the concept of join."
   ]
  },
  {
   "cell_type": "markdown",
   "id": "65c65c27",
   "metadata": {},
   "source": [
    "Please note, we can only join tables that have a foreign key to the referenced table"
   ]
  },
  {
   "cell_type": "markdown",
   "id": "1d0df2ff",
   "metadata": {},
   "source": [
    "Suppose there are 2 tables, customers and orders. The customers table has the following data:"
   ]
  },
  {
   "cell_type": "markdown",
   "id": "15a60f79",
   "metadata": {},
   "source": [
    "| id | name | address |\n",
    "| --- | --- | --- |\n",
    "| 1 | Rizki | Jl. Kebon Jeruk |\n",
    "| 2 | Andi | Jl. Kebon Sirih |\n",
    "| 3 | Budi | Jl. Kebon Melati |\n",
    "| 4 | Caca | Jl. Kebon Anggrek |"
   ]
  },
  {
   "cell_type": "markdown",
   "id": "61271265",
   "metadata": {},
   "source": [
    "The orders table has the following data:"
   ]
  },
  {
   "cell_type": "markdown",
   "id": "98ab08be",
   "metadata": {},
   "source": [
    "| id | customer_id | order_date |\n",
    "| --- | --- | --- |\n",
    "| 1001 | 1 | 2020-01-01 |\n",
    "| 1002 | 2 | 2020-01-02 |\n",
    "| 1003 | 3 | 2020-01-03 |\n",
    "| 1004 | 4 | 2020-01-04 |"
   ]
  },
  {
   "cell_type": "markdown",
   "id": "f2efd70b",
   "metadata": {},
   "source": [
    "Notice that the customer_id column in the orders table refers to id in the customers table. The relationship between the two tables above is the customer_id column."
   ]
  },
  {
   "cell_type": "markdown",
   "id": "dbb91095",
   "metadata": {},
   "source": [
    "We can join the two tables with a table display like the following:"
   ]
  },
  {
   "cell_type": "markdown",
   "id": "a7a59532",
   "metadata": {},
   "source": [
    "| order_id | customer_name | customer_address | order_date |\n",
    "| --- | --- | --- | --- |\n",
    "| 1001 | Rizki | Jl. Kebon Jeruk | 2020-01-01 |\n",
    "| 1002 | Andi | Jl. Kebon Sirih | 2020-01-02 |\n",
    "| 1003 | Budi | Jl. Kebon Melati | 2020-01-03 |\n",
    "| 1004 | Caca | Jl. Kebon Anggrek | 2020-01-04 |"
   ]
  },
  {
   "cell_type": "markdown",
   "id": "6dc20f73",
   "metadata": {},
   "source": [
    "The first column is the id data in the orders table, the second and third columns are the name and address data in the customers table. Finally, the order_date data in the orders table. The data was successfully combined because there is a reference in the orders table."
   ]
  },
  {
   "cell_type": "markdown",
   "id": "eb0461d3",
   "metadata": {},
   "source": [
    "To perform a join, we can use the SELECT command by adding JOIN and ON:"
   ]
  },
  {
   "cell_type": "code",
   "execution_count": null,
   "id": "384f6d8d",
   "metadata": {},
   "outputs": [],
   "source": [
    "SELECT * FROM <table1> -- query command\n",
    "INNER JOIN <table2>\n",
    "ON <table1>.<key> = <table2>.<key>"
   ]
  },
  {
   "cell_type": "markdown",
   "id": "2ea047d6",
   "metadata": {},
   "source": [
    "Where <table1> and <table2> are the names of the tables to be merged using the INNER JOIN command, <key> is the column being referenced (primary key or foreign key) using the ON command and compared with =."
   ]
  },
  {
   "cell_type": "markdown",
   "id": "310f06c1",
   "metadata": {},
   "source": [
    "For example, we can join the customers and orders tables using inner join with the following query:"
   ]
  },
  {
   "cell_type": "code",
   "execution_count": null,
   "id": "dc0510dd",
   "metadata": {},
   "outputs": [],
   "source": [
    "SELECT * FROM orders\n",
    "INNER JOIN customers\n",
    "ON orders.customer_id = customers.id;"
   ]
  },
  {
   "cell_type": "markdown",
   "id": "3ea2226e",
   "metadata": {},
   "source": [
    "The result of the query is as follows:"
   ]
  },
  {
   "cell_type": "markdown",
   "id": "de015519",
   "metadata": {},
   "source": [
    "| id | customer_id | order_date | id | name | address |\n",
    "| --- | --- | --- | --- | --- | --- |\n",
    "| 1001 | 1 | 2020-01-01 | 1 | Rizki | Jl. Kebon Jeruk |\n",
    "| 1002 | 2 | 2020-01-02 | 2 | Andi | Jl. Kebon Sirih |\n",
    "| 1003 | 3 | 2020-01-03 | 3 | Budi | Jl. Kebon Melati |\n",
    "| 1004 | 4 | 2020-01-04 | 4 | Caca | Jl. Kebon Anggrek |"
   ]
  },
  {
   "cell_type": "markdown",
   "id": "9ddcf968",
   "metadata": {},
   "source": [
    "When joining tables, the columns from the joined table will be on the right. All columns from the orders table will be displayed from the left (id, customer_id, order_date) and then display the columns from the customers table (id, name, address). We can tidy up the merged columns by selecting to SELECT only a few columns using the syntax table_name.column_name. For example:"
   ]
  },
  {
   "cell_type": "code",
   "execution_count": null,
   "id": "b4dab799",
   "metadata": {},
   "outputs": [],
   "source": [
    "SELECT\n",
    "    orders.id AS order_id,\n",
    "    customers.name AS customer_name,\n",
    "    customers.address AS customer_address,\n",
    "    orders.order_date\n",
    "FROM orders\n",
    "INNER JOIN customers\n",
    "ON orders.customer_id = customers.id;"
   ]
  },
  {
   "cell_type": "markdown",
   "id": "cbbf1d7d",
   "metadata": {},
   "source": [
    "In the SELECT command, we take 2 columns in the orders table, namely id and order_date, and 2 columns in the customers table, namely name and address. We rename the id column in the orders table to order_id using AS, as well as for name and address in the customers table."
   ]
  },
  {
   "cell_type": "markdown",
   "id": "47720139",
   "metadata": {},
   "source": [
    "The result of the query will be according to what we want:"
   ]
  },
  {
   "cell_type": "markdown",
   "id": "bc2e0e9e",
   "metadata": {},
   "source": [
    "| order_id | customer_name | customer_address | order_date |\n",
    "| --- | --- | --- | --- |\n",
    "| 1001 | Rizki | Jl. Kebon Jeruk | 2020-01-01 |\n",
    "| 1002 | Andi | Jl. Kebon Sirih | 2020-01-02 |\n",
    "| 1003 | Budi | Jl. Kebon Melati | 2020-01-03 |\n",
    "| 1004 | Caca | Jl. Kebon Anggrek | 2020-01-04 |"
   ]
  },
  {
   "cell_type": "markdown",
   "id": "c474d183",
   "metadata": {},
   "source": [
    "Finally, remember to close the connection to the database after all operations."
   ]
  },
  {
   "cell_type": "code",
   "execution_count": null,
   "id": "adfb9972",
   "metadata": {},
   "outputs": [],
   "source": [
    "# Close the connection\n",
    "conn.close()"
   ]
  },
  {
   "cell_type": "markdown",
   "id": "ebff925f",
   "metadata": {},
   "source": [
    "# Database Transaction"
   ]
  },
  {
   "cell_type": "markdown",
   "id": "61bfe58a",
   "metadata": {},
   "source": [
    "# What is a transaction?"
   ]
  },
  {
   "cell_type": "markdown",
   "id": "0f2bbb43",
   "metadata": {},
   "source": [
    "A Transaction is a set of SQL Commands designed to execute a set of interrelated actions. We can control each action that occurs by determining when the transaction begins and ends. A transaction can be canceled if an error occurs in one of the actions taken."
   ]
  },
  {
   "cell_type": "markdown",
   "id": "1aba6d98",
   "metadata": {},
   "source": [
    "# Why use a transaction?"
   ]
  },
  {
   "cell_type": "markdown",
   "id": "aba334d9",
   "metadata": {},
   "source": [
    "Let’s take an example with a sales case study. Each sales process will carry out the process of selecting goods, payment, increasing the total goods sold, and recording the transaction with the selling price. And each of these processes is stored in a database with different tables. The data in the database is as follows:"
   ]
  },
  {
   "cell_type": "markdown",
   "id": "4cd47f19",
   "metadata": {},
   "source": [
    "Products table with example data:"
   ]
  },
  {
   "cell_type": "markdown",
   "id": "103f4e42",
   "metadata": {},
   "source": [
    "| id | name | price | stock |\n",
    "| --- | --- | --- | --- |\n",
    "| 1 | Product A | 10000 | 10 |\n",
    "| 2 | Product B | 20000 | 20 |"
   ]
  },
  {
   "cell_type": "markdown",
   "id": "1df8631f",
   "metadata": {},
   "source": [
    "Sales table with example data:"
   ]
  },
  {
   "cell_type": "markdown",
   "id": "01914118",
   "metadata": {},
   "source": [
    "| id | product_id | quantity | total_price |\n",
    "| --- | --- | --- | --- |\n",
    "| 1 | 1 | 2 | 20000 |\n",
    "| 2 | 2 | 1 | 20000 |"
   ]
  },
  {
   "cell_type": "markdown",
   "id": "e6ca1e01",
   "metadata": {},
   "source": [
    "Transactions table with example data:"
   ]
  },
  {
   "cell_type": "markdown",
   "id": "f6ac9d6f",
   "metadata": {},
   "source": [
    "| id | date | product_id | amount |\n",
    "| --- | --- | --- | --- |\n",
    "| 1 | 2020-01-01 | 1 | 15000 |"
   ]
  },
  {
   "cell_type": "markdown",
   "id": "85c7360e",
   "metadata": {},
   "source": [
    "Suppose there is a customer using our application, by purchasing one Product A for Rp. 15,000. And the customer made the purchase on 2020-01-01."
   ]
  },
  {
   "cell_type": "markdown",
   "id": "0a3a7ef9",
   "metadata": {},
   "source": [
    "When a sale occurs, we will reduce the total stock of goods in the products table column stock, then add the total sales in the sales table, and record the sales transaction in the transactions table. So, the command process is as follows:"
   ]
  },
  {
   "cell_type": "code",
   "execution_count": null,
   "id": "dfa876c9",
   "metadata": {},
   "outputs": [],
   "source": [
    "-- step 1: get the product data to be searched\n",
    "SELECT * FROM products WHERE id = 1;\n",
    "\n",
    "-- step 2: reduce product stock\n",
    "UPDATE products SET stock = stock - 1 WHERE id = 1;\n",
    "\n",
    "-- step 3: increase total sales\n",
    "INSERT INTO sales (product_id, quantity, total_price) VALUES (1, 1, 10000);\n",
    "\n",
    "-- step 4: record the transaction\n",
    "INSERT INTO transactions (date, product_id, amount) VALUES ('2020-01-01', 1, 15000);\n",
    "\n",
    "-- done"
   ]
  },
  {
   "cell_type": "markdown",
   "id": "7cf985e7",
   "metadata": {},
   "source": []
  },
  {
   "cell_type": "markdown",
   "id": "18e9a0b0",
   "metadata": {},
   "source": [
    "![Image](https://storage.googleapis.com/rg-ai-bootcamp/database/sql-transaction-1.svg)"
   ]
  },
  {
   "cell_type": "markdown",
   "id": "5f629be7",
   "metadata": {},
   "source": [
    "There are 4 SQL commands run to perform the sales transaction process: get the purchased product data in the products table, then perform an update by reducing stock by 1 in the products table, add total sales in the sales table, and record the sales transaction in the transactions table. These commands will always be run if there is a sales process in our application."
   ]
  },
  {
   "cell_type": "markdown",
   "id": "e7849f1f",
   "metadata": {},
   "source": [
    "However, what if when getting the product it turns out the stock is empty, or when recording the transaction an error occurs. This will result in data inconsistency between each table. The stock may have been reduced by 1, and in the sales table there is already an addition of 1 sale, but in the transactions table no transaction has been recorded. This will confuse us to check these data."
   ]
  },
  {
   "cell_type": "markdown",
   "id": "c9f173fc",
   "metadata": {},
   "source": []
  },
  {
   "cell_type": "markdown",
   "id": "0e0f05ee",
   "metadata": {},
   "source": [
    "![Image](https://storage.googleapis.com/rg-ai-bootcamp/database/sql-transaction-err.svg)"
   ]
  },
  {
   "cell_type": "markdown",
   "id": "6ea6d68b",
   "metadata": {},
   "source": [
    "To overcome this data inconsistency, we must return or cancel all SQL commands that have previously been performed. Therefore, we need to use a transaction."
   ]
  },
  {
   "cell_type": "markdown",
   "id": "5485f8d8",
   "metadata": {},
   "source": [
    "With a transaction, we can ensure that all commands within a transaction will always be run simultaneously. If there is an error, then all commands within a transaction will be canceled."
   ]
  },
  {
   "cell_type": "markdown",
   "id": "62625cd3",
   "metadata": {},
   "source": [
    "So there are only 2 conditions, that is all commands in the transaction are successfully executed."
   ]
  },
  {
   "cell_type": "markdown",
   "id": "0d52f370",
   "metadata": {},
   "source": []
  },
  {
   "cell_type": "markdown",
   "id": "7bcc45f8",
   "metadata": {},
   "source": [
    "![Image](https://storage.googleapis.com/rg-ai-bootcamp/database/sql-transaction-done.svg)"
   ]
  },
  {
   "cell_type": "markdown",
   "id": "5f38e645",
   "metadata": {},
   "source": [
    "Or cancel all commands if there is an error."
   ]
  },
  {
   "cell_type": "markdown",
   "id": "2e8962db",
   "metadata": {},
   "source": []
  },
  {
   "cell_type": "markdown",
   "id": "21882425",
   "metadata": {},
   "source": [
    "![Image](https://storage.googleapis.com/rg-ai-bootcamp/database/sql-transaction-rollback.svg)"
   ]
  },
  {
   "cell_type": "markdown",
   "id": "10f53d1f",
   "metadata": {},
   "source": [
    "# SQL Transaction"
   ]
  },
  {
   "cell_type": "markdown",
   "id": "7bd39d40",
   "metadata": {},
   "source": [
    "To use a transaction in SQL, we need to understand the beginning of the process and the end of the process. The beginning of the process is when we start a transaction, and the end of the process is when we end a transaction."
   ]
  },
  {
   "cell_type": "markdown",
   "id": "cfddde85",
   "metadata": {},
   "source": [
    "We use the BEGIN TRANSACTION command to start a transaction, and the COMMIT command is used to complete a transaction."
   ]
  },
  {
   "cell_type": "code",
   "execution_count": null,
   "id": "ffba1867",
   "metadata": {},
   "outputs": [],
   "source": [
    "BEGIN TRANSACTION;\n",
    "-- SQL command\n",
    "\n",
    "COMMIT;"
   ]
  },
  {
   "cell_type": "markdown",
   "id": "66424e76",
   "metadata": {},
   "source": [
    "Based on the example above, we just need to insert 4 SQL commands into the transaction."
   ]
  },
  {
   "cell_type": "code",
   "execution_count": null,
   "id": "34ae455e",
   "metadata": {},
   "outputs": [],
   "source": [
    "BEGIN TRANSACTION;\n",
    "\n",
    "-- step 1: get the product data to be searched\n",
    "SELECT * FROM products WHERE id = 1;\n",
    "\n",
    "-- step 2: reduce product stock\n",
    "UPDATE products SET stock = stock - 1 WHERE id = 1;\n",
    "\n",
    "-- step 3: increase total sales\n",
    "INSERT INTO sales (product_id, quantity, total_price) VALUES (1, 1, 10000);\n",
    "\n",
    "-- step 4: record the transaction\n",
    "INSERT INTO transactions (date, product_id, amount) VALUES ('2020-01-01', 1, 15000);\n",
    "\n",
    "COMMIT;"
   ]
  },
  {
   "cell_type": "markdown",
   "id": "e1ca9145",
   "metadata": {},
   "source": [
    "We can issue a ROLLBACK command to cancel a transaction if there is an error or unmet condition."
   ]
  },
  {
   "cell_type": "code",
   "execution_count": null,
   "id": "6e4d7093",
   "metadata": {},
   "outputs": [],
   "source": [
    "BEGIN TRANSACTION;\n",
    "-- SQL command\n",
    "\n",
    "ROLLBACK;"
   ]
  },
  {
   "cell_type": "markdown",
   "id": "ffda460a",
   "metadata": {},
   "source": [
    "You can apply a transaction in an online SQL compiler or SQLite/DBMS tool that you use."
   ]
  }
 ],
 "metadata": {},
 "nbformat": 4,
 "nbformat_minor": 5
}
