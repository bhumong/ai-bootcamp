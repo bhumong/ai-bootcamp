{
 "cells": [
  {
   "cell_type": "markdown",
   "id": "c37961d1",
   "metadata": {},
   "source": [
    "source: [link](https://ai-bootcamp.ruangguru.com/learn/05_database/00_sql/02_sql-joins.html)"
   ]
  },
  {
   "cell_type": "markdown",
   "id": "c48a1073",
   "metadata": {},
   "source": [
    "# SQL Fundamentals with Python - Joins"
   ]
  },
  {
   "cell_type": "markdown",
   "id": "4ba2d49c",
   "metadata": {},
   "source": [
    "# Joining Database Table"
   ]
  },
  {
   "cell_type": "markdown",
   "id": "ae94b85f",
   "metadata": {},
   "source": [
    "# Key Constraints"
   ]
  },
  {
   "cell_type": "markdown",
   "id": "f32681ad",
   "metadata": {},
   "source": [
    "Previously, you have learned about the concept of sql constraints. The Primary key works as an index to find the data we want. The Foreign key works as an index to reference data in the index table based on the primary key of the referenced table."
   ]
  },
  {
   "cell_type": "markdown",
   "id": "2a443a33",
   "metadata": {},
   "source": [
    "When we want to create a table that has a foreign key from another table, we must create the referenced table first. This is because we cannot create a table that has a foreign key from a table that does not yet exist."
   ]
  },
  {
   "cell_type": "markdown",
   "id": "185c3668",
   "metadata": {},
   "source": [
    "# Primary key"
   ]
  },
  {
   "cell_type": "markdown",
   "id": "62bf3d71",
   "metadata": {},
   "source": [
    "First, we need to create a primary key as a unique identifier for the table. Suppose there is a department table that has the following data:"
   ]
  },
  {
   "cell_type": "markdown",
   "id": "d834b846",
   "metadata": {},
   "source": [
    "| id | name |\n",
    "| --- | --- |\n",
    "| 1 | IT |\n",
    "| 2 | HRD |\n",
    "| 3 | Finance |\n",
    "| 4 | Marketing |"
   ]
  },
  {
   "cell_type": "markdown",
   "id": "d98b7a04",
   "metadata": {},
   "source": [
    "Then there is an employee table that has the following data:"
   ]
  },
  {
   "cell_type": "markdown",
   "id": "bd93d7da",
   "metadata": {},
   "source": [
    "| id | name | age | address | salary | department_id |\n",
    "| --- | --- | --- | --- | --- | --- |\n",
    "| 1 | Rizki | 25 | Jl. Kebon Jeruk | 2000000 | 2 |\n",
    "| 2 | Andi | 27 | Jl. Kebon Sirih | 3000000 | 3 |\n",
    "| 3 | Budi | 30 | Jl. Kebon Melati | 4000000 | 1 |\n",
    "| 4 | Caca | 32 | Jl. Kebon Anggrek | 5000000 | 1 |\n",
    "| 5 | Deni | 35 | Jl. Kebon Mawar | 6000000 | 1 |"
   ]
  },
  {
   "cell_type": "markdown",
   "id": "663616c7",
   "metadata": {},
   "source": [
    "We can conclude that the employee table has a foreign key from the department table. This is because the department_id column in the employee table references the id column in the department table."
   ]
  },
  {
   "cell_type": "markdown",
   "id": "2fd0a64a",
   "metadata": {},
   "source": []
  },
  {
   "cell_type": "markdown",
   "id": "b91d0ded",
   "metadata": {},
   "source": [
    "![Image](https://storage.googleapis.com/rg-ai-bootcamp/database/join-table-example.svg)"
   ]
  },
  {
   "cell_type": "markdown",
   "id": "ae7c8ae0",
   "metadata": {},
   "source": [
    "We can create a primary key on the id column because the data is unique by adding PRIMARY KEY as constraints on the id column when creating the department table:"
   ]
  },
  {
   "cell_type": "code",
   "execution_count": null,
   "id": "686da8fb",
   "metadata": {},
   "outputs": [],
   "source": [
    "CREATE TABLE department (\n",
    "  id INT PRIMARY KEY, -- the `id` column will become the primary key\n",
    "  name VARCHAR(255)\n",
    ");"
   ]
  },
  {
   "cell_type": "markdown",
   "id": "9fe4d04f",
   "metadata": {},
   "source": [
    "When the command is executed, the department table will be created with the id column as a primary key of type INT. Automatically, this data must be unique."
   ]
  },
  {
   "cell_type": "markdown",
   "id": "f328a7bc",
   "metadata": {},
   "source": [
    "# Foreign key"
   ]
  },
  {
   "cell_type": "markdown",
   "id": "a1e4f910",
   "metadata": {},
   "source": [
    "Then we can create a foreign key on the employee table by adding FOREIGN KEY as constraints on the department_id column when creating the employee table:"
   ]
  },
  {
   "cell_type": "code",
   "execution_count": null,
   "id": "e07d7ce7",
   "metadata": {},
   "outputs": [],
   "source": [
    "CREATE TABLE employee (\n",
    "  id INT PRIMARY KEY,\n",
    "  name VARCHAR(255),\n",
    "  age INT,\n",
    "  address VARCHAR(255),\n",
    "  salary INT,\n",
    "  department_id INT FOREIGN KEY REFERENCES department(id)\n",
    "  -- the `department_id` column will become the foreign key"
   ]
  },
  {
   "cell_type": "markdown",
   "id": "65bb3122",
   "metadata": {},
   "source": [
    "With python, let’s create the department and employee tables, and insert the data into these tables."
   ]
  },
  {
   "cell_type": "code",
   "execution_count": null,
   "id": "8396e7a8",
   "metadata": {},
   "outputs": [],
   "source": [
    "import sqlite3\n",
    "\n",
    "# Connect to SQLite database\n",
    "conn = sqlite3.connect('db/sqlite.db')\n",
    "\n",
    "# Create a cursor object\n",
    "c = conn.cursor()\n",
    "\n",
    "# Create table 'department'\n",
    "c.execute('''\n",
    "CREATE TABLE department (\n",
    "    id INT PRIMARY KEY,\n",
    "    name TEXT);\n",
    "''')\n",
    "\n",
    "# Insert data into the 'department' table\n",
    "data = [\n",
    "    (1, 'IT'),\n",
    "    (2, 'HRD'),\n",
    "    (3, 'Finance'),\n",
    "    (4, 'Marketing')\n",
    "]\n",
    "c.executemany('INSERT INTO department VALUES (?,?)', data)\n",
    "\n",
    "# Create table 'employee'\n",
    "c.execute('''\n",
    "CREATE TABLE employee (\n",
    "    id INT PRIMARY KEY,\n",
    "    name TEXT,\n",
    "    age INT,\n",
    "    address TEXT,\n",
    "    salary REAL,\n",
    "    department_id INT,\n",
    "    FOREIGN KEY(department_id) REFERENCES department(id));\n",
    "''')\n",
    "\n",
    "# Insert data into 'employee' table\n",
    "data = [\n",
    "    (1, 'Rizki', 25, 'Jl. Kebon Jeruk', 2000000, 2),\n",
    "    (2, 'Andi', 27, 'Jl. Kebon Sirih', 3000000, 3),\n",
    "    (3, 'Budi', 30, 'Jl. Kebon Melati', 4000000, 1),\n",
    "    (4, 'Caca', 32, 'Jl. Kebon Anggrek', 5000000, 1),\n",
    "    (5, 'Deni', 35, 'Jl. Kebon Mawar', 6000000, 1)\n",
    "]\n",
    "c.executemany('INSERT INTO employee VALUES (?,?,?,?,?,?)', data)\n",
    "\n",
    "# Commit the transaction\n",
    "conn.commit()"
   ]
  },
  {
   "cell_type": "markdown",
   "id": "7dc91dec",
   "metadata": {},
   "source": [
    "Now, let’s perform a JOIN operation to combine these tables:"
   ]
  },
  {
   "cell_type": "code",
   "execution_count": null,
   "id": "f62b7b87",
   "metadata": {},
   "outputs": [],
   "source": [
    "import pandas as pd\n",
    "\n",
    "pd.read_sql_query('''\n",
    "SELECT \n",
    "    employee.id AS employee_id, \n",
    "    employee.name AS employee_name, \n",
    "    department.name AS department_name,\n",
    "    employee.age, \n",
    "    employee.address, \n",
    "    employee.salary\n",
    "FROM \n",
    "    employee\n",
    "INNER JOIN department ON employee.department_id = department.id\n",
    "''', conn)"
   ]
  },
  {
   "cell_type": "markdown",
   "id": "acc56c01",
   "metadata": {},
   "source": [
    "|  | employee_id | employee_name | department_name | age | address | salary |\n",
    "| --- | --- | --- | --- | --- | --- | --- |\n",
    "| 0 | 1 | Rizki | HRD | 25 | Jl. Kebon Jeruk | 2000000.0 |\n",
    "| 1 | 2 | Andi | Finance | 27 | Jl. Kebon Sirih | 3000000.0 |\n",
    "| 2 | 3 | Budi | IT | 30 | Jl. Kebon Melati | 4000000.0 |\n",
    "| 3 | 4 | Caca | IT | 32 | Jl. Kebon Anggrek | 5000000.0 |\n",
    "| 4 | 5 | Deni | IT | 35 | Jl. Kebon Mawar | 6000000.0 |"
   ]
  },
  {
   "cell_type": "markdown",
   "id": "322998f2",
   "metadata": {},
   "source": [
    "This will display employee details along with their respective department names."
   ]
  },
  {
   "cell_type": "markdown",
   "id": "f7121551",
   "metadata": {},
   "source": [
    "The way to create a foreign key above is the same as creating a primary key. The only difference is we need to add REFERENCES to determine which table will be used as an index. Thus, the employee table has a column that references the data in the department table based on the id column."
   ]
  },
  {
   "cell_type": "markdown",
   "id": "2eb69631",
   "metadata": {},
   "source": [
    "# SQL Joins"
   ]
  },
  {
   "cell_type": "markdown",
   "id": "8d59b1b0",
   "metadata": {},
   "source": [
    "Previously, we have learned how to retrieve data from a table. But, what if we want to retrieve data from two tables? Suppose we want to retrieve data from table A and table B, and then display both data in one table. To do this, we can use the concept of join."
   ]
  },
  {
   "cell_type": "markdown",
   "id": "965ea76a",
   "metadata": {},
   "source": [
    "Please note, we can only join tables that have a foreign key to the referenced table"
   ]
  },
  {
   "cell_type": "markdown",
   "id": "3ca01779",
   "metadata": {},
   "source": [
    "Suppose there are 2 tables, customers and orders. The customers table has the following data:"
   ]
  },
  {
   "cell_type": "markdown",
   "id": "b1a6d677",
   "metadata": {},
   "source": [
    "| id | name | address |\n",
    "| --- | --- | --- |\n",
    "| 1 | Rizki | Jl. Kebon Jeruk |\n",
    "| 2 | Andi | Jl. Kebon Sirih |\n",
    "| 3 | Budi | Jl. Kebon Melati |\n",
    "| 4 | Caca | Jl. Kebon Anggrek |"
   ]
  },
  {
   "cell_type": "markdown",
   "id": "3b3ba770",
   "metadata": {},
   "source": [
    "The orders table has the following data:"
   ]
  },
  {
   "cell_type": "markdown",
   "id": "c9e452c5",
   "metadata": {},
   "source": [
    "| id | customer_id | order_date |\n",
    "| --- | --- | --- |\n",
    "| 1001 | 1 | 2020-01-01 |\n",
    "| 1002 | 2 | 2020-01-02 |\n",
    "| 1003 | 3 | 2020-01-03 |\n",
    "| 1004 | 4 | 2020-01-04 |"
   ]
  },
  {
   "cell_type": "markdown",
   "id": "a40ac2d6",
   "metadata": {},
   "source": [
    "Notice that the customer_id column in the orders table refers to id in the customers table. The relationship between the two tables above is the customer_id column."
   ]
  },
  {
   "cell_type": "markdown",
   "id": "db6bce6f",
   "metadata": {},
   "source": [
    "We can join the two tables with a table display like the following:"
   ]
  },
  {
   "cell_type": "markdown",
   "id": "2fb4268d",
   "metadata": {},
   "source": [
    "| order_id | customer_name | customer_address | order_date |\n",
    "| --- | --- | --- | --- |\n",
    "| 1001 | Rizki | Jl. Kebon Jeruk | 2020-01-01 |\n",
    "| 1002 | Andi | Jl. Kebon Sirih | 2020-01-02 |\n",
    "| 1003 | Budi | Jl. Kebon Melati | 2020-01-03 |\n",
    "| 1004 | Caca | Jl. Kebon Anggrek | 2020-01-04 |"
   ]
  },
  {
   "cell_type": "markdown",
   "id": "08f6fe8a",
   "metadata": {},
   "source": [
    "The first column is the id data in the orders table, the second and third columns are the name and address data in the customers table. Finally, the order_date data in the orders table. The data was successfully combined because there is a reference in the orders table."
   ]
  },
  {
   "cell_type": "markdown",
   "id": "479c9fcd",
   "metadata": {},
   "source": [
    "To perform a join, we can use the SELECT command by adding JOIN and ON:"
   ]
  },
  {
   "cell_type": "code",
   "execution_count": null,
   "id": "8ce21ccb",
   "metadata": {},
   "outputs": [],
   "source": [
    "SELECT * FROM <table1> -- query command\n",
    "INNER JOIN <table2>\n",
    "ON <table1>.<key> = <table2>.<key>"
   ]
  },
  {
   "cell_type": "markdown",
   "id": "7f2a126b",
   "metadata": {},
   "source": [
    "Where <table1> and <table2> are the names of the tables to be merged using the INNER JOIN command, <key> is the column being referenced (primary key or foreign key) using the ON command and compared with =."
   ]
  },
  {
   "cell_type": "markdown",
   "id": "9a90a84b",
   "metadata": {},
   "source": [
    "For example, we can join the customers and orders tables using inner join with the following query:"
   ]
  },
  {
   "cell_type": "code",
   "execution_count": null,
   "id": "5af3f2ea",
   "metadata": {},
   "outputs": [],
   "source": [
    "SELECT * FROM orders\n",
    "INNER JOIN customers\n",
    "ON orders.customer_id = customers.id;"
   ]
  },
  {
   "cell_type": "markdown",
   "id": "ab69e8b6",
   "metadata": {},
   "source": [
    "The result of the query is as follows:"
   ]
  },
  {
   "cell_type": "markdown",
   "id": "61cb8e3a",
   "metadata": {},
   "source": [
    "| id | customer_id | order_date | id | name | address |\n",
    "| --- | --- | --- | --- | --- | --- |\n",
    "| 1001 | 1 | 2020-01-01 | 1 | Rizki | Jl. Kebon Jeruk |\n",
    "| 1002 | 2 | 2020-01-02 | 2 | Andi | Jl. Kebon Sirih |\n",
    "| 1003 | 3 | 2020-01-03 | 3 | Budi | Jl. Kebon Melati |\n",
    "| 1004 | 4 | 2020-01-04 | 4 | Caca | Jl. Kebon Anggrek |"
   ]
  },
  {
   "cell_type": "markdown",
   "id": "17b871ff",
   "metadata": {},
   "source": [
    "When joining tables, the columns from the joined table will be on the right. All columns from the orders table will be displayed from the left (id, customer_id, order_date) and then display the columns from the customers table (id, name, address). We can tidy up the merged columns by selecting to SELECT only a few columns using the syntax table_name.column_name. For example:"
   ]
  },
  {
   "cell_type": "code",
   "execution_count": null,
   "id": "f05f8ed3",
   "metadata": {},
   "outputs": [],
   "source": [
    "SELECT\n",
    "    orders.id AS order_id,\n",
    "    customers.name AS customer_name,\n",
    "    customers.address AS customer_address,\n",
    "    orders.order_date\n",
    "FROM orders\n",
    "INNER JOIN customers\n",
    "ON orders.customer_id = customers.id;"
   ]
  },
  {
   "cell_type": "markdown",
   "id": "77d4b4e6",
   "metadata": {},
   "source": [
    "In the SELECT command, we take 2 columns in the orders table, namely id and order_date, and 2 columns in the customers table, namely name and address. We rename the id column in the orders table to order_id using AS, as well as for name and address in the customers table."
   ]
  },
  {
   "cell_type": "markdown",
   "id": "41b54441",
   "metadata": {},
   "source": [
    "The result of the query will be according to what we want:"
   ]
  },
  {
   "cell_type": "markdown",
   "id": "073e9795",
   "metadata": {},
   "source": [
    "| order_id | customer_name | customer_address | order_date |\n",
    "| --- | --- | --- | --- |\n",
    "| 1001 | Rizki | Jl. Kebon Jeruk | 2020-01-01 |\n",
    "| 1002 | Andi | Jl. Kebon Sirih | 2020-01-02 |\n",
    "| 1003 | Budi | Jl. Kebon Melati | 2020-01-03 |\n",
    "| 1004 | Caca | Jl. Kebon Anggrek | 2020-01-04 |"
   ]
  },
  {
   "cell_type": "markdown",
   "id": "971de39e",
   "metadata": {},
   "source": [
    "Finally, remember to close the connection to the database after all operations."
   ]
  },
  {
   "cell_type": "code",
   "execution_count": null,
   "id": "727c657f",
   "metadata": {},
   "outputs": [],
   "source": [
    "# Close the connection\n",
    "conn.close()"
   ]
  },
  {
   "cell_type": "markdown",
   "id": "cf91e02d",
   "metadata": {},
   "source": [
    "# Database Transaction"
   ]
  },
  {
   "cell_type": "markdown",
   "id": "091974af",
   "metadata": {},
   "source": [
    "# What is a transaction?"
   ]
  },
  {
   "cell_type": "markdown",
   "id": "2d8eace4",
   "metadata": {},
   "source": [
    "A Transaction is a set of SQL Commands designed to execute a set of interrelated actions. We can control each action that occurs by determining when the transaction begins and ends. A transaction can be canceled if an error occurs in one of the actions taken."
   ]
  },
  {
   "cell_type": "markdown",
   "id": "1253c038",
   "metadata": {},
   "source": [
    "# Why use a transaction?"
   ]
  },
  {
   "cell_type": "markdown",
   "id": "93289dae",
   "metadata": {},
   "source": [
    "Let’s take an example with a sales case study. Each sales process will carry out the process of selecting goods, payment, increasing the total goods sold, and recording the transaction with the selling price. And each of these processes is stored in a database with different tables. The data in the database is as follows:"
   ]
  },
  {
   "cell_type": "markdown",
   "id": "03392389",
   "metadata": {},
   "source": [
    "Products table with example data:"
   ]
  },
  {
   "cell_type": "markdown",
   "id": "8173eded",
   "metadata": {},
   "source": [
    "| id | name | price | stock |\n",
    "| --- | --- | --- | --- |\n",
    "| 1 | Product A | 10000 | 10 |\n",
    "| 2 | Product B | 20000 | 20 |"
   ]
  },
  {
   "cell_type": "markdown",
   "id": "47b366b2",
   "metadata": {},
   "source": [
    "Sales table with example data:"
   ]
  },
  {
   "cell_type": "markdown",
   "id": "3c47f622",
   "metadata": {},
   "source": [
    "| id | product_id | quantity | total_price |\n",
    "| --- | --- | --- | --- |\n",
    "| 1 | 1 | 2 | 20000 |\n",
    "| 2 | 2 | 1 | 20000 |"
   ]
  },
  {
   "cell_type": "markdown",
   "id": "168a5700",
   "metadata": {},
   "source": [
    "Transactions table with example data:"
   ]
  },
  {
   "cell_type": "markdown",
   "id": "e4ce35fc",
   "metadata": {},
   "source": [
    "| id | date | product_id | amount |\n",
    "| --- | --- | --- | --- |\n",
    "| 1 | 2020-01-01 | 1 | 15000 |"
   ]
  },
  {
   "cell_type": "markdown",
   "id": "2e616728",
   "metadata": {},
   "source": [
    "Suppose there is a customer using our application, by purchasing one Product A for Rp. 15,000. And the customer made the purchase on 2020-01-01."
   ]
  },
  {
   "cell_type": "markdown",
   "id": "ad099808",
   "metadata": {},
   "source": [
    "When a sale occurs, we will reduce the total stock of goods in the products table column stock, then add the total sales in the sales table, and record the sales transaction in the transactions table. So, the command process is as follows:"
   ]
  },
  {
   "cell_type": "code",
   "execution_count": null,
   "id": "9ccf7eb6",
   "metadata": {},
   "outputs": [],
   "source": [
    "-- step 1: get the product data to be searched\n",
    "SELECT * FROM products WHERE id = 1;\n",
    "\n",
    "-- step 2: reduce product stock\n",
    "UPDATE products SET stock = stock - 1 WHERE id = 1;\n",
    "\n",
    "-- step 3: increase total sales\n",
    "INSERT INTO sales (product_id, quantity, total_price) VALUES (1, 1, 10000);\n",
    "\n",
    "-- step 4: record the transaction\n",
    "INSERT INTO transactions (date, product_id, amount) VALUES ('2020-01-01', 1, 15000);\n",
    "\n",
    "-- done"
   ]
  },
  {
   "cell_type": "markdown",
   "id": "2ed288fa",
   "metadata": {},
   "source": []
  },
  {
   "cell_type": "markdown",
   "id": "dc27c0e1",
   "metadata": {},
   "source": [
    "![Image](https://storage.googleapis.com/rg-ai-bootcamp/database/sql-transaction-1.svg)"
   ]
  },
  {
   "cell_type": "markdown",
   "id": "17dd4d95",
   "metadata": {},
   "source": [
    "There are 4 SQL commands run to perform the sales transaction process: get the purchased product data in the products table, then perform an update by reducing stock by 1 in the products table, add total sales in the sales table, and record the sales transaction in the transactions table. These commands will always be run if there is a sales process in our application."
   ]
  },
  {
   "cell_type": "markdown",
   "id": "920b03cf",
   "metadata": {},
   "source": [
    "However, what if when getting the product it turns out the stock is empty, or when recording the transaction an error occurs. This will result in data inconsistency between each table. The stock may have been reduced by 1, and in the sales table there is already an addition of 1 sale, but in the transactions table no transaction has been recorded. This will confuse us to check these data."
   ]
  },
  {
   "cell_type": "markdown",
   "id": "8bf2a315",
   "metadata": {},
   "source": []
  },
  {
   "cell_type": "markdown",
   "id": "879ab2ba",
   "metadata": {},
   "source": [
    "![Image](https://storage.googleapis.com/rg-ai-bootcamp/database/sql-transaction-err.svg)"
   ]
  },
  {
   "cell_type": "markdown",
   "id": "b7ed06aa",
   "metadata": {},
   "source": [
    "To overcome this data inconsistency, we must return or cancel all SQL commands that have previously been performed. Therefore, we need to use a transaction."
   ]
  },
  {
   "cell_type": "markdown",
   "id": "03475967",
   "metadata": {},
   "source": [
    "With a transaction, we can ensure that all commands within a transaction will always be run simultaneously. If there is an error, then all commands within a transaction will be canceled."
   ]
  },
  {
   "cell_type": "markdown",
   "id": "c728eab0",
   "metadata": {},
   "source": [
    "So there are only 2 conditions, that is all commands in the transaction are successfully executed."
   ]
  },
  {
   "cell_type": "markdown",
   "id": "79edb5fc",
   "metadata": {},
   "source": []
  },
  {
   "cell_type": "markdown",
   "id": "56370c39",
   "metadata": {},
   "source": [
    "![Image](https://storage.googleapis.com/rg-ai-bootcamp/database/sql-transaction-done.svg)"
   ]
  },
  {
   "cell_type": "markdown",
   "id": "2900a17e",
   "metadata": {},
   "source": [
    "Or cancel all commands if there is an error."
   ]
  },
  {
   "cell_type": "markdown",
   "id": "000c7a00",
   "metadata": {},
   "source": []
  },
  {
   "cell_type": "markdown",
   "id": "f788260b",
   "metadata": {},
   "source": [
    "![Image](https://storage.googleapis.com/rg-ai-bootcamp/database/sql-transaction-rollback.svg)"
   ]
  },
  {
   "cell_type": "markdown",
   "id": "8298273a",
   "metadata": {},
   "source": [
    "# SQL Transaction"
   ]
  },
  {
   "cell_type": "markdown",
   "id": "d95c4e93",
   "metadata": {},
   "source": [
    "To use a transaction in SQL, we need to understand the beginning of the process and the end of the process. The beginning of the process is when we start a transaction, and the end of the process is when we end a transaction."
   ]
  },
  {
   "cell_type": "markdown",
   "id": "2d9ede1d",
   "metadata": {},
   "source": [
    "We use the BEGIN TRANSACTION command to start a transaction, and the COMMIT command is used to complete a transaction."
   ]
  },
  {
   "cell_type": "code",
   "execution_count": null,
   "id": "0552e85a",
   "metadata": {},
   "outputs": [],
   "source": [
    "BEGIN TRANSACTION;\n",
    "-- SQL command\n",
    "\n",
    "COMMIT;"
   ]
  },
  {
   "cell_type": "markdown",
   "id": "7c7293cc",
   "metadata": {},
   "source": [
    "Based on the example above, we just need to insert 4 SQL commands into the transaction."
   ]
  },
  {
   "cell_type": "code",
   "execution_count": null,
   "id": "d238582f",
   "metadata": {},
   "outputs": [],
   "source": [
    "BEGIN TRANSACTION;\n",
    "\n",
    "-- step 1: get the product data to be searched\n",
    "SELECT * FROM products WHERE id = 1;\n",
    "\n",
    "-- step 2: reduce product stock\n",
    "UPDATE products SET stock = stock - 1 WHERE id = 1;\n",
    "\n",
    "-- step 3: increase total sales\n",
    "INSERT INTO sales (product_id, quantity, total_price) VALUES (1, 1, 10000);\n",
    "\n",
    "-- step 4: record the transaction\n",
    "INSERT INTO transactions (date, product_id, amount) VALUES ('2020-01-01', 1, 15000);\n",
    "\n",
    "COMMIT;"
   ]
  },
  {
   "cell_type": "markdown",
   "id": "513b19aa",
   "metadata": {},
   "source": [
    "We can issue a ROLLBACK command to cancel a transaction if there is an error or unmet condition."
   ]
  },
  {
   "cell_type": "code",
   "execution_count": null,
   "id": "a244489c",
   "metadata": {},
   "outputs": [],
   "source": [
    "BEGIN TRANSACTION;\n",
    "-- SQL command\n",
    "\n",
    "ROLLBACK;"
   ]
  },
  {
   "cell_type": "markdown",
   "id": "88001119",
   "metadata": {},
   "source": [
    "You can apply a transaction in an online SQL compiler or SQLite/DBMS tool that you use."
   ]
  }
 ],
 "metadata": {},
 "nbformat": 4,
 "nbformat_minor": 5
}
