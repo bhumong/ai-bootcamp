{
 "cells": [
  {
   "cell_type": "markdown",
   "id": "99e4befa",
   "metadata": {},
   "source": [
    "# SQL Fundamentals with Python - Joins"
   ]
  },
  {
   "cell_type": "markdown",
   "id": "b6f35e75",
   "metadata": {},
   "source": [
    "# Joining Database Table"
   ]
  },
  {
   "cell_type": "markdown",
   "id": "33a2aa38",
   "metadata": {},
   "source": [
    "# Key Constraints"
   ]
  },
  {
   "cell_type": "markdown",
   "id": "559e28bf",
   "metadata": {},
   "source": [
    "Previously, you have learned about the concept of sql constraints. The Primary key works as an index to find the data we want. The Foreign key works as an index to reference data in the index table based on the primary key of the referenced table."
   ]
  },
  {
   "cell_type": "markdown",
   "id": "694b73af",
   "metadata": {},
   "source": [
    "When we want to create a table that has a foreign key from another table, we must create the referenced table first. This is because we cannot create a table that has a foreign key from a table that does not yet exist."
   ]
  },
  {
   "cell_type": "markdown",
   "id": "faba9b7a",
   "metadata": {},
   "source": [
    "# Primary key"
   ]
  },
  {
   "cell_type": "markdown",
   "id": "22a3a882",
   "metadata": {},
   "source": [
    "First, we need to create a primary key as a unique identifier for the table. Suppose there is a department table that has the following data:"
   ]
  },
  {
   "cell_type": "markdown",
   "id": "6a8e5624",
   "metadata": {},
   "source": [
    "Then there is an employee table that has the following data:"
   ]
  },
  {
   "cell_type": "markdown",
   "id": "a78e18c3",
   "metadata": {},
   "source": [
    "We can conclude that the employee table has a foreign key from the department table. This is because the department_id column in the employee table references the id column in the department table."
   ]
  },
  {
   "cell_type": "markdown",
   "id": "f5340bc4",
   "metadata": {},
   "source": []
  },
  {
   "cell_type": "markdown",
   "id": "bc14e93c",
   "metadata": {},
   "source": [
    "![Image](https://storage.googleapis.com/rg-ai-bootcamp/database/join-table-example.svg)"
   ]
  },
  {
   "cell_type": "markdown",
   "id": "53f9884b",
   "metadata": {},
   "source": [
    "We can create a primary key on the id column because the data is unique by adding PRIMARY KEY as constraints on the id column when creating the department table:"
   ]
  },
  {
   "cell_type": "code",
   "execution_count": null,
   "id": "918c2e63",
   "metadata": {},
   "outputs": [],
   "source": [
    "CREATE TABLE department (\n",
    "  id INT PRIMARY KEY, -- the `id` column will become the primary key\n",
    "  name VARCHAR(255)\n",
    ");"
   ]
  },
  {
   "cell_type": "markdown",
   "id": "d030d861",
   "metadata": {},
   "source": [
    "When the command is executed, the department table will be created with the id column as a primary key of type INT. Automatically, this data must be unique."
   ]
  },
  {
   "cell_type": "markdown",
   "id": "4d1c53b6",
   "metadata": {},
   "source": [
    "# Foreign key"
   ]
  },
  {
   "cell_type": "markdown",
   "id": "31dbe92c",
   "metadata": {},
   "source": [
    "Then we can create a foreign key on the employee table by adding FOREIGN KEY as constraints on the department_id column when creating the employee table:"
   ]
  },
  {
   "cell_type": "code",
   "execution_count": null,
   "id": "0c210cce",
   "metadata": {},
   "outputs": [],
   "source": [
    "CREATE TABLE employee (\n",
    "  id INT PRIMARY KEY,\n",
    "  name VARCHAR(255),\n",
    "  age INT,\n",
    "  address VARCHAR(255),\n",
    "  salary INT,\n",
    "  department_id INT FOREIGN KEY REFERENCES department(id)\n",
    "  -- the `department_id` column will become the foreign key"
   ]
  },
  {
   "cell_type": "markdown",
   "id": "0aa7e31f",
   "metadata": {},
   "source": [
    "With python, let’s create the department and employee tables, and insert the data into these tables."
   ]
  },
  {
   "cell_type": "code",
   "execution_count": null,
   "id": "a5f86d44",
   "metadata": {},
   "outputs": [],
   "source": [
    "import sqlite3\n",
    "\n",
    "# Connect to SQLite database\n",
    "conn = sqlite3.connect('db/sqlite.db')\n",
    "\n",
    "# Create a cursor object\n",
    "c = conn.cursor()\n",
    "\n",
    "# Create table 'department'\n",
    "c.execute('''\n",
    "CREATE TABLE department (\n",
    "    id INT PRIMARY KEY,\n",
    "    name TEXT);\n",
    "''')\n",
    "\n",
    "# Insert data into the 'department' table\n",
    "data = [\n",
    "    (1, 'IT'),\n",
    "    (2, 'HRD'),\n",
    "    (3, 'Finance'),\n",
    "    (4, 'Marketing')\n",
    "]\n",
    "c.executemany('INSERT INTO department VALUES (?,?)', data)\n",
    "\n",
    "# Create table 'employee'\n",
    "c.execute('''\n",
    "CREATE TABLE employee (\n",
    "    id INT PRIMARY KEY,\n",
    "    name TEXT,\n",
    "    age INT,\n",
    "    address TEXT,\n",
    "    salary REAL,\n",
    "    department_id INT,\n",
    "    FOREIGN KEY(department_id) REFERENCES department(id));\n",
    "''')\n",
    "\n",
    "# Insert data into 'employee' table\n",
    "data = [\n",
    "    (1, 'Rizki', 25, 'Jl. Kebon Jeruk', 2000000, 2),\n",
    "    (2, 'Andi', 27, 'Jl. Kebon Sirih', 3000000, 3),\n",
    "    (3, 'Budi', 30, 'Jl. Kebon Melati', 4000000, 1),\n",
    "    (4, 'Caca', 32, 'Jl. Kebon Anggrek', 5000000, 1),\n",
    "    (5, 'Deni', 35, 'Jl. Kebon Mawar', 6000000, 1)\n",
    "]\n",
    "c.executemany('INSERT INTO employee VALUES (?,?,?,?,?,?)', data)\n",
    "\n",
    "# Commit the transaction\n",
    "conn.commit()"
   ]
  },
  {
   "cell_type": "markdown",
   "id": "fafa7509",
   "metadata": {},
   "source": [
    "Now, let’s perform a JOIN operation to combine these tables:"
   ]
  },
  {
   "cell_type": "code",
   "execution_count": null,
   "id": "27aaf64c",
   "metadata": {},
   "outputs": [],
   "source": [
    "import pandas as pd\n",
    "\n",
    "pd.read_sql_query('''\n",
    "SELECT \n",
    "    employee.id AS employee_id, \n",
    "    employee.name AS employee_name, \n",
    "    department.name AS department_name,\n",
    "    employee.age, \n",
    "    employee.address, \n",
    "    employee.salary\n",
    "FROM \n",
    "    employee\n",
    "INNER JOIN department ON employee.department_id = department.id\n",
    "''', conn)"
   ]
  },
  {
   "cell_type": "markdown",
   "id": "b1afd464",
   "metadata": {},
   "source": [
    "This will display employee details along with their respective department names."
   ]
  },
  {
   "cell_type": "markdown",
   "id": "00a3b538",
   "metadata": {},
   "source": [
    "The way to create a foreign key above is the same as creating a primary key. The only difference is we need to add REFERENCES to determine which table will be used as an index. Thus, the employee table has a column that references the data in the department table based on the id column."
   ]
  },
  {
   "cell_type": "markdown",
   "id": "bec37719",
   "metadata": {},
   "source": [
    "# SQL Joins"
   ]
  },
  {
   "cell_type": "markdown",
   "id": "088b9229",
   "metadata": {},
   "source": [
    "Previously, we have learned how to retrieve data from a table. But, what if we want to retrieve data from two tables? Suppose we want to retrieve data from table A and table B, and then display both data in one table. To do this, we can use the concept of join."
   ]
  },
  {
   "cell_type": "markdown",
   "id": "daee8a0e",
   "metadata": {},
   "source": [
    "Please note, we can only join tables that have a foreign key to the referenced table"
   ]
  },
  {
   "cell_type": "markdown",
   "id": "4fae7d06",
   "metadata": {},
   "source": [
    "Suppose there are 2 tables, customers and orders. The customers table has the following data:"
   ]
  },
  {
   "cell_type": "markdown",
   "id": "b69f7959",
   "metadata": {},
   "source": [
    "The orders table has the following data:"
   ]
  },
  {
   "cell_type": "markdown",
   "id": "872f90c1",
   "metadata": {},
   "source": [
    "Notice that the customer_id column in the orders table refers to id in the customers table. The relationship between the two tables above is the customer_id column."
   ]
  },
  {
   "cell_type": "markdown",
   "id": "ce087f50",
   "metadata": {},
   "source": [
    "We can join the two tables with a table display like the following:"
   ]
  },
  {
   "cell_type": "markdown",
   "id": "2b129a5c",
   "metadata": {},
   "source": [
    "The first column is the id data in the orders table, the second and third columns are the name and address data in the customers table. Finally, the order_date data in the orders table. The data was successfully combined because there is a reference in the orders table."
   ]
  },
  {
   "cell_type": "markdown",
   "id": "a8cbec38",
   "metadata": {},
   "source": [
    "To perform a join, we can use the SELECT command by adding JOIN and ON:"
   ]
  },
  {
   "cell_type": "code",
   "execution_count": null,
   "id": "b0c3e7ca",
   "metadata": {},
   "outputs": [],
   "source": [
    "SELECT * FROM <table1> -- query command\n",
    "INNER JOIN <table2>\n",
    "ON <table1>.<key> = <table2>.<key>"
   ]
  },
  {
   "cell_type": "markdown",
   "id": "42bf9d86",
   "metadata": {},
   "source": [
    "Where <table1> and <table2> are the names of the tables to be merged using the INNER JOIN command, <key> is the column being referenced (primary key or foreign key) using the ON command and compared with =."
   ]
  },
  {
   "cell_type": "markdown",
   "id": "bf3b3f31",
   "metadata": {},
   "source": [
    "For example, we can join the customers and orders tables using inner join with the following query:"
   ]
  },
  {
   "cell_type": "code",
   "execution_count": null,
   "id": "1854d8de",
   "metadata": {},
   "outputs": [],
   "source": [
    "SELECT * FROM orders\n",
    "INNER JOIN customers\n",
    "ON orders.customer_id = customers.id;"
   ]
  },
  {
   "cell_type": "markdown",
   "id": "3495e49f",
   "metadata": {},
   "source": [
    "The result of the query is as follows:"
   ]
  },
  {
   "cell_type": "markdown",
   "id": "30120b1c",
   "metadata": {},
   "source": [
    "When joining tables, the columns from the joined table will be on the right. All columns from the orders table will be displayed from the left (id, customer_id, order_date) and then display the columns from the customers table (id, name, address). We can tidy up the merged columns by selecting to SELECT only a few columns using the syntax table_name.column_name. For example:"
   ]
  },
  {
   "cell_type": "code",
   "execution_count": null,
   "id": "824e9cc6",
   "metadata": {},
   "outputs": [],
   "source": [
    "SELECT\n",
    "    orders.id AS order_id,\n",
    "    customers.name AS customer_name,\n",
    "    customers.address AS customer_address,\n",
    "    orders.order_date\n",
    "FROM orders\n",
    "INNER JOIN customers\n",
    "ON orders.customer_id = customers.id;"
   ]
  },
  {
   "cell_type": "markdown",
   "id": "e22571e5",
   "metadata": {},
   "source": [
    "In the SELECT command, we take 2 columns in the orders table, namely id and order_date, and 2 columns in the customers table, namely name and address. We rename the id column in the orders table to order_id using AS, as well as for name and address in the customers table."
   ]
  },
  {
   "cell_type": "markdown",
   "id": "ead85707",
   "metadata": {},
   "source": [
    "The result of the query will be according to what we want:"
   ]
  },
  {
   "cell_type": "markdown",
   "id": "4b794d4c",
   "metadata": {},
   "source": [
    "Finally, remember to close the connection to the database after all operations."
   ]
  },
  {
   "cell_type": "code",
   "execution_count": null,
   "id": "9712a98c",
   "metadata": {},
   "outputs": [],
   "source": [
    "# Close the connection\n",
    "conn.close()"
   ]
  },
  {
   "cell_type": "markdown",
   "id": "5ab25c58",
   "metadata": {},
   "source": [
    "# Database Transaction"
   ]
  },
  {
   "cell_type": "markdown",
   "id": "93eaeb78",
   "metadata": {},
   "source": [
    "# What is a transaction?"
   ]
  },
  {
   "cell_type": "markdown",
   "id": "3827947a",
   "metadata": {},
   "source": [
    "A Transaction is a set of SQL Commands designed to execute a set of interrelated actions. We can control each action that occurs by determining when the transaction begins and ends. A transaction can be canceled if an error occurs in one of the actions taken."
   ]
  },
  {
   "cell_type": "markdown",
   "id": "a1411291",
   "metadata": {},
   "source": [
    "# Why use a transaction?"
   ]
  },
  {
   "cell_type": "markdown",
   "id": "d0f44f5f",
   "metadata": {},
   "source": [
    "Let’s take an example with a sales case study. Each sales process will carry out the process of selecting goods, payment, increasing the total goods sold, and recording the transaction with the selling price. And each of these processes is stored in a database with different tables. The data in the database is as follows:"
   ]
  },
  {
   "cell_type": "markdown",
   "id": "22fab3c5",
   "metadata": {},
   "source": [
    "Products table with example data:"
   ]
  },
  {
   "cell_type": "markdown",
   "id": "d5ef69bb",
   "metadata": {},
   "source": [
    "Sales table with example data:"
   ]
  },
  {
   "cell_type": "markdown",
   "id": "e14bf4af",
   "metadata": {},
   "source": [
    "Transactions table with example data:"
   ]
  },
  {
   "cell_type": "markdown",
   "id": "11c5244d",
   "metadata": {},
   "source": [
    "Suppose there is a customer using our application, by purchasing one Product A for Rp. 15,000. And the customer made the purchase on 2020-01-01."
   ]
  },
  {
   "cell_type": "markdown",
   "id": "9ef26f8c",
   "metadata": {},
   "source": [
    "When a sale occurs, we will reduce the total stock of goods in the products table column stock, then add the total sales in the sales table, and record the sales transaction in the transactions table. So, the command process is as follows:"
   ]
  },
  {
   "cell_type": "code",
   "execution_count": null,
   "id": "8a68f210",
   "metadata": {},
   "outputs": [],
   "source": [
    "-- step 1: get the product data to be searched\n",
    "SELECT * FROM products WHERE id = 1;\n",
    "\n",
    "-- step 2: reduce product stock\n",
    "UPDATE products SET stock = stock - 1 WHERE id = 1;\n",
    "\n",
    "-- step 3: increase total sales\n",
    "INSERT INTO sales (product_id, quantity, total_price) VALUES (1, 1, 10000);\n",
    "\n",
    "-- step 4: record the transaction\n",
    "INSERT INTO transactions (date, product_id, amount) VALUES ('2020-01-01', 1, 15000);\n",
    "\n",
    "-- done"
   ]
  },
  {
   "cell_type": "markdown",
   "id": "a9ad5ba2",
   "metadata": {},
   "source": []
  },
  {
   "cell_type": "markdown",
   "id": "4bda8153",
   "metadata": {},
   "source": [
    "![Image](https://storage.googleapis.com/rg-ai-bootcamp/database/sql-transaction-1.svg)"
   ]
  },
  {
   "cell_type": "markdown",
   "id": "a5272d3b",
   "metadata": {},
   "source": [
    "There are 4 SQL commands run to perform the sales transaction process: get the purchased product data in the products table, then perform an update by reducing stock by 1 in the products table, add total sales in the sales table, and record the sales transaction in the transactions table. These commands will always be run if there is a sales process in our application."
   ]
  },
  {
   "cell_type": "markdown",
   "id": "c0fd9527",
   "metadata": {},
   "source": [
    "However, what if when getting the product it turns out the stock is empty, or when recording the transaction an error occurs. This will result in data inconsistency between each table. The stock may have been reduced by 1, and in the sales table there is already an addition of 1 sale, but in the transactions table no transaction has been recorded. This will confuse us to check these data."
   ]
  },
  {
   "cell_type": "markdown",
   "id": "fbd8f048",
   "metadata": {},
   "source": []
  },
  {
   "cell_type": "markdown",
   "id": "9850d89d",
   "metadata": {},
   "source": [
    "![Image](https://storage.googleapis.com/rg-ai-bootcamp/database/sql-transaction-err.svg)"
   ]
  },
  {
   "cell_type": "markdown",
   "id": "8009f756",
   "metadata": {},
   "source": [
    "To overcome this data inconsistency, we must return or cancel all SQL commands that have previously been performed. Therefore, we need to use a transaction."
   ]
  },
  {
   "cell_type": "markdown",
   "id": "db7a09cd",
   "metadata": {},
   "source": [
    "With a transaction, we can ensure that all commands within a transaction will always be run simultaneously. If there is an error, then all commands within a transaction will be canceled."
   ]
  },
  {
   "cell_type": "markdown",
   "id": "bfb1c143",
   "metadata": {},
   "source": [
    "So there are only 2 conditions, that is all commands in the transaction are successfully executed."
   ]
  },
  {
   "cell_type": "markdown",
   "id": "27e46639",
   "metadata": {},
   "source": []
  },
  {
   "cell_type": "markdown",
   "id": "ac677c8c",
   "metadata": {},
   "source": [
    "![Image](https://storage.googleapis.com/rg-ai-bootcamp/database/sql-transaction-done.svg)"
   ]
  },
  {
   "cell_type": "markdown",
   "id": "5d1e7bfb",
   "metadata": {},
   "source": [
    "Or cancel all commands if there is an error."
   ]
  },
  {
   "cell_type": "markdown",
   "id": "2439240c",
   "metadata": {},
   "source": []
  },
  {
   "cell_type": "markdown",
   "id": "b812d34e",
   "metadata": {},
   "source": [
    "![Image](https://storage.googleapis.com/rg-ai-bootcamp/database/sql-transaction-rollback.svg)"
   ]
  },
  {
   "cell_type": "markdown",
   "id": "bfa23ccf",
   "metadata": {},
   "source": [
    "# SQL Transaction"
   ]
  },
  {
   "cell_type": "markdown",
   "id": "707715a7",
   "metadata": {},
   "source": [
    "To use a transaction in SQL, we need to understand the beginning of the process and the end of the process. The beginning of the process is when we start a transaction, and the end of the process is when we end a transaction."
   ]
  },
  {
   "cell_type": "markdown",
   "id": "fd534d03",
   "metadata": {},
   "source": [
    "We use the BEGIN TRANSACTION command to start a transaction, and the COMMIT command is used to complete a transaction."
   ]
  },
  {
   "cell_type": "code",
   "execution_count": null,
   "id": "174275fc",
   "metadata": {},
   "outputs": [],
   "source": [
    "BEGIN TRANSACTION;\n",
    "-- SQL command\n",
    "\n",
    "COMMIT;"
   ]
  },
  {
   "cell_type": "markdown",
   "id": "157af4a4",
   "metadata": {},
   "source": [
    "Based on the example above, we just need to insert 4 SQL commands into the transaction."
   ]
  },
  {
   "cell_type": "code",
   "execution_count": null,
   "id": "ea925fdf",
   "metadata": {},
   "outputs": [],
   "source": [
    "BEGIN TRANSACTION;\n",
    "\n",
    "-- step 1: get the product data to be searched\n",
    "SELECT * FROM products WHERE id = 1;\n",
    "\n",
    "-- step 2: reduce product stock\n",
    "UPDATE products SET stock = stock - 1 WHERE id = 1;\n",
    "\n",
    "-- step 3: increase total sales\n",
    "INSERT INTO sales (product_id, quantity, total_price) VALUES (1, 1, 10000);\n",
    "\n",
    "-- step 4: record the transaction\n",
    "INSERT INTO transactions (date, product_id, amount) VALUES ('2020-01-01', 1, 15000);\n",
    "\n",
    "COMMIT;"
   ]
  },
  {
   "cell_type": "markdown",
   "id": "a980fe09",
   "metadata": {},
   "source": [
    "We can issue a ROLLBACK command to cancel a transaction if there is an error or unmet condition."
   ]
  },
  {
   "cell_type": "code",
   "execution_count": null,
   "id": "8b2b5163",
   "metadata": {},
   "outputs": [],
   "source": [
    "BEGIN TRANSACTION;\n",
    "-- SQL command\n",
    "\n",
    "ROLLBACK;"
   ]
  },
  {
   "cell_type": "markdown",
   "id": "34a5d649",
   "metadata": {},
   "source": [
    "You can apply a transaction in an online SQL compiler or SQLite/DBMS tool that you use."
   ]
  }
 ],
 "metadata": {},
 "nbformat": 4,
 "nbformat_minor": 5
}
