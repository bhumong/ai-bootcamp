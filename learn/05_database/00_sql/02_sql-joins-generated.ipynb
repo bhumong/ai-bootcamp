{
 "cells": [
  {
   "cell_type": "markdown",
   "id": "b61b2b58",
   "metadata": {},
   "source": [
    "source: [https://ai-bootcamp.ruangguru.com/learn/05_database/00_sql/02_sql-joins.html](https://ai-bootcamp.ruangguru.com/learn/05_database/00_sql/02_sql-joins.html)"
   ]
  },
  {
   "cell_type": "markdown",
   "id": "fe05990d",
   "metadata": {},
   "source": [
    "# SQL Fundamentals with Python - Joins"
   ]
  },
  {
   "cell_type": "markdown",
   "id": "42b3f10c",
   "metadata": {},
   "source": [
    "# Joining Database Table"
   ]
  },
  {
   "cell_type": "markdown",
   "id": "2e23ab1c",
   "metadata": {},
   "source": [
    "# Key Constraints"
   ]
  },
  {
   "cell_type": "markdown",
   "id": "50f7af1b",
   "metadata": {},
   "source": [
    "Previously, you have learned about the concept of sql constraints. The Primary key works as an index to find the data we want. The Foreign key works as an index to reference data in the index table based on the primary key of the referenced table."
   ]
  },
  {
   "cell_type": "markdown",
   "id": "167b7c27",
   "metadata": {},
   "source": [
    "When we want to create a table that has a foreign key from another table, we must create the referenced table first. This is because we cannot create a table that has a foreign key from a table that does not yet exist."
   ]
  },
  {
   "cell_type": "markdown",
   "id": "8abda17a",
   "metadata": {},
   "source": [
    "# Primary key"
   ]
  },
  {
   "cell_type": "markdown",
   "id": "78804bff",
   "metadata": {},
   "source": [
    "First, we need to create a primary key as a unique identifier for the table. Suppose there is a department table that has the following data:"
   ]
  },
  {
   "cell_type": "markdown",
   "id": "e2b1cf14",
   "metadata": {},
   "source": [
    "| id | name |\n",
    "| --- | --- |\n",
    "| 1 | IT |\n",
    "| 2 | HRD |\n",
    "| 3 | Finance |\n",
    "| 4 | Marketing |"
   ]
  },
  {
   "cell_type": "markdown",
   "id": "c6fc9131",
   "metadata": {},
   "source": [
    "Then there is an employee table that has the following data:"
   ]
  },
  {
   "cell_type": "markdown",
   "id": "a6d9763f",
   "metadata": {},
   "source": [
    "| id | name | age | address | salary | department_id |\n",
    "| --- | --- | --- | --- | --- | --- |\n",
    "| 1 | Rizki | 25 | Jl. Kebon Jeruk | 2000000 | 2 |\n",
    "| 2 | Andi | 27 | Jl. Kebon Sirih | 3000000 | 3 |\n",
    "| 3 | Budi | 30 | Jl. Kebon Melati | 4000000 | 1 |\n",
    "| 4 | Caca | 32 | Jl. Kebon Anggrek | 5000000 | 1 |\n",
    "| 5 | Deni | 35 | Jl. Kebon Mawar | 6000000 | 1 |"
   ]
  },
  {
   "cell_type": "markdown",
   "id": "6e84aea7",
   "metadata": {},
   "source": [
    "We can conclude that the employee table has a foreign key from the department table. This is because the department_id column in the employee table references the id column in the department table."
   ]
  },
  {
   "cell_type": "markdown",
   "id": "a932fb1c",
   "metadata": {},
   "source": []
  },
  {
   "cell_type": "markdown",
   "id": "973c8435",
   "metadata": {},
   "source": [
    "![Image](https://storage.googleapis.com/rg-ai-bootcamp/database/join-table-example.svg)"
   ]
  },
  {
   "cell_type": "markdown",
   "id": "c3bb1bfd",
   "metadata": {},
   "source": [
    "We can create a primary key on the id column because the data is unique by adding PRIMARY KEY as constraints on the id column when creating the department table:"
   ]
  },
  {
   "cell_type": "code",
   "execution_count": null,
   "id": "4ba52777",
   "metadata": {},
   "outputs": [],
   "source": [
    "CREATE TABLE department (\n",
    "  id INT PRIMARY KEY, -- the `id` column will become the primary key\n",
    "  name VARCHAR(255)\n",
    ");"
   ]
  },
  {
   "cell_type": "markdown",
   "id": "df1099a0",
   "metadata": {},
   "source": [
    "When the command is executed, the department table will be created with the id column as a primary key of type INT. Automatically, this data must be unique."
   ]
  },
  {
   "cell_type": "markdown",
   "id": "874ab776",
   "metadata": {},
   "source": [
    "# Foreign key"
   ]
  },
  {
   "cell_type": "markdown",
   "id": "f32847fc",
   "metadata": {},
   "source": [
    "Then we can create a foreign key on the employee table by adding FOREIGN KEY as constraints on the department_id column when creating the employee table:"
   ]
  },
  {
   "cell_type": "code",
   "execution_count": null,
   "id": "5721ff32",
   "metadata": {},
   "outputs": [],
   "source": [
    "CREATE TABLE employee (\n",
    "  id INT PRIMARY KEY,\n",
    "  name VARCHAR(255),\n",
    "  age INT,\n",
    "  address VARCHAR(255),\n",
    "  salary INT,\n",
    "  department_id INT FOREIGN KEY REFERENCES department(id)\n",
    "  -- the `department_id` column will become the foreign key"
   ]
  },
  {
   "cell_type": "markdown",
   "id": "ce3de1fb",
   "metadata": {},
   "source": [
    "With python, let’s create the department and employee tables, and insert the data into these tables."
   ]
  },
  {
   "cell_type": "code",
   "execution_count": null,
   "id": "1875bbc3",
   "metadata": {},
   "outputs": [],
   "source": [
    "import sqlite3\n",
    "\n",
    "# Connect to SQLite database\n",
    "conn = sqlite3.connect('db/sqlite.db')\n",
    "\n",
    "# Create a cursor object\n",
    "c = conn.cursor()\n",
    "\n",
    "# Create table 'department'\n",
    "c.execute('''\n",
    "CREATE TABLE department (\n",
    "    id INT PRIMARY KEY,\n",
    "    name TEXT);\n",
    "''')\n",
    "\n",
    "# Insert data into the 'department' table\n",
    "data = [\n",
    "    (1, 'IT'),\n",
    "    (2, 'HRD'),\n",
    "    (3, 'Finance'),\n",
    "    (4, 'Marketing')\n",
    "]\n",
    "c.executemany('INSERT INTO department VALUES (?,?)', data)\n",
    "\n",
    "# Create table 'employee'\n",
    "c.execute('''\n",
    "CREATE TABLE employee (\n",
    "    id INT PRIMARY KEY,\n",
    "    name TEXT,\n",
    "    age INT,\n",
    "    address TEXT,\n",
    "    salary REAL,\n",
    "    department_id INT,\n",
    "    FOREIGN KEY(department_id) REFERENCES department(id));\n",
    "''')\n",
    "\n",
    "# Insert data into 'employee' table\n",
    "data = [\n",
    "    (1, 'Rizki', 25, 'Jl. Kebon Jeruk', 2000000, 2),\n",
    "    (2, 'Andi', 27, 'Jl. Kebon Sirih', 3000000, 3),\n",
    "    (3, 'Budi', 30, 'Jl. Kebon Melati', 4000000, 1),\n",
    "    (4, 'Caca', 32, 'Jl. Kebon Anggrek', 5000000, 1),\n",
    "    (5, 'Deni', 35, 'Jl. Kebon Mawar', 6000000, 1)\n",
    "]\n",
    "c.executemany('INSERT INTO employee VALUES (?,?,?,?,?,?)', data)\n",
    "\n",
    "# Commit the transaction\n",
    "conn.commit()"
   ]
  },
  {
   "cell_type": "markdown",
   "id": "7e4ff733",
   "metadata": {},
   "source": [
    "Now, let’s perform a JOIN operation to combine these tables:"
   ]
  },
  {
   "cell_type": "code",
   "execution_count": null,
   "id": "066e6166",
   "metadata": {},
   "outputs": [],
   "source": [
    "import pandas as pd\n",
    "\n",
    "pd.read_sql_query('''\n",
    "SELECT \n",
    "    employee.id AS employee_id, \n",
    "    employee.name AS employee_name, \n",
    "    department.name AS department_name,\n",
    "    employee.age, \n",
    "    employee.address, \n",
    "    employee.salary\n",
    "FROM \n",
    "    employee\n",
    "INNER JOIN department ON employee.department_id = department.id\n",
    "''', conn)"
   ]
  },
  {
   "cell_type": "markdown",
   "id": "a4896ddb",
   "metadata": {},
   "source": [
    "|  | employee_id | employee_name | department_name | age | address | salary |\n",
    "| --- | --- | --- | --- | --- | --- | --- |\n",
    "| 0 | 1 | Rizki | HRD | 25 | Jl. Kebon Jeruk | 2000000.0 |\n",
    "| 1 | 2 | Andi | Finance | 27 | Jl. Kebon Sirih | 3000000.0 |\n",
    "| 2 | 3 | Budi | IT | 30 | Jl. Kebon Melati | 4000000.0 |\n",
    "| 3 | 4 | Caca | IT | 32 | Jl. Kebon Anggrek | 5000000.0 |\n",
    "| 4 | 5 | Deni | IT | 35 | Jl. Kebon Mawar | 6000000.0 |"
   ]
  },
  {
   "cell_type": "markdown",
   "id": "0b964670",
   "metadata": {},
   "source": [
    "This will display employee details along with their respective department names."
   ]
  },
  {
   "cell_type": "markdown",
   "id": "6e5ebd85",
   "metadata": {},
   "source": [
    "The way to create a foreign key above is the same as creating a primary key. The only difference is we need to add REFERENCES to determine which table will be used as an index. Thus, the employee table has a column that references the data in the department table based on the id column."
   ]
  },
  {
   "cell_type": "markdown",
   "id": "d5c533e0",
   "metadata": {},
   "source": [
    "# SQL Joins"
   ]
  },
  {
   "cell_type": "markdown",
   "id": "50bc457d",
   "metadata": {},
   "source": [
    "Previously, we have learned how to retrieve data from a table. But, what if we want to retrieve data from two tables? Suppose we want to retrieve data from table A and table B, and then display both data in one table. To do this, we can use the concept of join."
   ]
  },
  {
   "cell_type": "markdown",
   "id": "78efc8e7",
   "metadata": {},
   "source": [
    "Please note, we can only join tables that have a foreign key to the referenced table"
   ]
  },
  {
   "cell_type": "markdown",
   "id": "e57ae11f",
   "metadata": {},
   "source": [
    "Suppose there are 2 tables, customers and orders. The customers table has the following data:"
   ]
  },
  {
   "cell_type": "markdown",
   "id": "37814f2b",
   "metadata": {},
   "source": [
    "| id | name | address |\n",
    "| --- | --- | --- |\n",
    "| 1 | Rizki | Jl. Kebon Jeruk |\n",
    "| 2 | Andi | Jl. Kebon Sirih |\n",
    "| 3 | Budi | Jl. Kebon Melati |\n",
    "| 4 | Caca | Jl. Kebon Anggrek |"
   ]
  },
  {
   "cell_type": "markdown",
   "id": "402928f8",
   "metadata": {},
   "source": [
    "The orders table has the following data:"
   ]
  },
  {
   "cell_type": "markdown",
   "id": "48210a32",
   "metadata": {},
   "source": [
    "| id | customer_id | order_date |\n",
    "| --- | --- | --- |\n",
    "| 1001 | 1 | 2020-01-01 |\n",
    "| 1002 | 2 | 2020-01-02 |\n",
    "| 1003 | 3 | 2020-01-03 |\n",
    "| 1004 | 4 | 2020-01-04 |"
   ]
  },
  {
   "cell_type": "markdown",
   "id": "e6e5d719",
   "metadata": {},
   "source": [
    "Notice that the customer_id column in the orders table refers to id in the customers table. The relationship between the two tables above is the customer_id column."
   ]
  },
  {
   "cell_type": "markdown",
   "id": "3bb33c28",
   "metadata": {},
   "source": [
    "We can join the two tables with a table display like the following:"
   ]
  },
  {
   "cell_type": "markdown",
   "id": "546c1863",
   "metadata": {},
   "source": [
    "| order_id | customer_name | customer_address | order_date |\n",
    "| --- | --- | --- | --- |\n",
    "| 1001 | Rizki | Jl. Kebon Jeruk | 2020-01-01 |\n",
    "| 1002 | Andi | Jl. Kebon Sirih | 2020-01-02 |\n",
    "| 1003 | Budi | Jl. Kebon Melati | 2020-01-03 |\n",
    "| 1004 | Caca | Jl. Kebon Anggrek | 2020-01-04 |"
   ]
  },
  {
   "cell_type": "markdown",
   "id": "f9692865",
   "metadata": {},
   "source": [
    "The first column is the id data in the orders table, the second and third columns are the name and address data in the customers table. Finally, the order_date data in the orders table. The data was successfully combined because there is a reference in the orders table."
   ]
  },
  {
   "cell_type": "markdown",
   "id": "82e90cfc",
   "metadata": {},
   "source": [
    "To perform a join, we can use the SELECT command by adding JOIN and ON:"
   ]
  },
  {
   "cell_type": "code",
   "execution_count": null,
   "id": "bb80f1b6",
   "metadata": {},
   "outputs": [],
   "source": [
    "SELECT * FROM <table1> -- query command\n",
    "INNER JOIN <table2>\n",
    "ON <table1>.<key> = <table2>.<key>"
   ]
  },
  {
   "cell_type": "markdown",
   "id": "e01e59f8",
   "metadata": {},
   "source": [
    "Where <table1> and <table2> are the names of the tables to be merged using the INNER JOIN command, <key> is the column being referenced (primary key or foreign key) using the ON command and compared with =."
   ]
  },
  {
   "cell_type": "markdown",
   "id": "47afb85d",
   "metadata": {},
   "source": [
    "For example, we can join the customers and orders tables using inner join with the following query:"
   ]
  },
  {
   "cell_type": "code",
   "execution_count": null,
   "id": "50555238",
   "metadata": {},
   "outputs": [],
   "source": [
    "SELECT * FROM orders\n",
    "INNER JOIN customers\n",
    "ON orders.customer_id = customers.id;"
   ]
  },
  {
   "cell_type": "markdown",
   "id": "533a1e4d",
   "metadata": {},
   "source": [
    "The result of the query is as follows:"
   ]
  },
  {
   "cell_type": "markdown",
   "id": "3227cf60",
   "metadata": {},
   "source": [
    "| id | customer_id | order_date | id | name | address |\n",
    "| --- | --- | --- | --- | --- | --- |\n",
    "| 1001 | 1 | 2020-01-01 | 1 | Rizki | Jl. Kebon Jeruk |\n",
    "| 1002 | 2 | 2020-01-02 | 2 | Andi | Jl. Kebon Sirih |\n",
    "| 1003 | 3 | 2020-01-03 | 3 | Budi | Jl. Kebon Melati |\n",
    "| 1004 | 4 | 2020-01-04 | 4 | Caca | Jl. Kebon Anggrek |"
   ]
  },
  {
   "cell_type": "markdown",
   "id": "dde7d785",
   "metadata": {},
   "source": [
    "When joining tables, the columns from the joined table will be on the right. All columns from the orders table will be displayed from the left (id, customer_id, order_date) and then display the columns from the customers table (id, name, address). We can tidy up the merged columns by selecting to SELECT only a few columns using the syntax table_name.column_name. For example:"
   ]
  },
  {
   "cell_type": "code",
   "execution_count": null,
   "id": "f24ddbdf",
   "metadata": {},
   "outputs": [],
   "source": [
    "SELECT\n",
    "    orders.id AS order_id,\n",
    "    customers.name AS customer_name,\n",
    "    customers.address AS customer_address,\n",
    "    orders.order_date\n",
    "FROM orders\n",
    "INNER JOIN customers\n",
    "ON orders.customer_id = customers.id;"
   ]
  },
  {
   "cell_type": "markdown",
   "id": "91145b32",
   "metadata": {},
   "source": [
    "In the SELECT command, we take 2 columns in the orders table, namely id and order_date, and 2 columns in the customers table, namely name and address. We rename the id column in the orders table to order_id using AS, as well as for name and address in the customers table."
   ]
  },
  {
   "cell_type": "markdown",
   "id": "ce2439b9",
   "metadata": {},
   "source": [
    "The result of the query will be according to what we want:"
   ]
  },
  {
   "cell_type": "markdown",
   "id": "2ab0f802",
   "metadata": {},
   "source": [
    "| order_id | customer_name | customer_address | order_date |\n",
    "| --- | --- | --- | --- |\n",
    "| 1001 | Rizki | Jl. Kebon Jeruk | 2020-01-01 |\n",
    "| 1002 | Andi | Jl. Kebon Sirih | 2020-01-02 |\n",
    "| 1003 | Budi | Jl. Kebon Melati | 2020-01-03 |\n",
    "| 1004 | Caca | Jl. Kebon Anggrek | 2020-01-04 |"
   ]
  },
  {
   "cell_type": "markdown",
   "id": "c41b4b7d",
   "metadata": {},
   "source": [
    "Finally, remember to close the connection to the database after all operations."
   ]
  },
  {
   "cell_type": "code",
   "execution_count": null,
   "id": "ce71f669",
   "metadata": {},
   "outputs": [],
   "source": [
    "# Close the connection\n",
    "conn.close()"
   ]
  },
  {
   "cell_type": "markdown",
   "id": "e9900149",
   "metadata": {},
   "source": [
    "# Database Transaction"
   ]
  },
  {
   "cell_type": "markdown",
   "id": "38498765",
   "metadata": {},
   "source": [
    "# What is a transaction?"
   ]
  },
  {
   "cell_type": "markdown",
   "id": "3976f139",
   "metadata": {},
   "source": [
    "A Transaction is a set of SQL Commands designed to execute a set of interrelated actions. We can control each action that occurs by determining when the transaction begins and ends. A transaction can be canceled if an error occurs in one of the actions taken."
   ]
  },
  {
   "cell_type": "markdown",
   "id": "f36195c6",
   "metadata": {},
   "source": [
    "# Why use a transaction?"
   ]
  },
  {
   "cell_type": "markdown",
   "id": "3ed8d38e",
   "metadata": {},
   "source": [
    "Let’s take an example with a sales case study. Each sales process will carry out the process of selecting goods, payment, increasing the total goods sold, and recording the transaction with the selling price. And each of these processes is stored in a database with different tables. The data in the database is as follows:"
   ]
  },
  {
   "cell_type": "markdown",
   "id": "5c32a2be",
   "metadata": {},
   "source": [
    "Products table with example data:"
   ]
  },
  {
   "cell_type": "markdown",
   "id": "af47a09a",
   "metadata": {},
   "source": [
    "| id | name | price | stock |\n",
    "| --- | --- | --- | --- |\n",
    "| 1 | Product A | 10000 | 10 |\n",
    "| 2 | Product B | 20000 | 20 |"
   ]
  },
  {
   "cell_type": "markdown",
   "id": "874645a0",
   "metadata": {},
   "source": [
    "Sales table with example data:"
   ]
  },
  {
   "cell_type": "markdown",
   "id": "677b5807",
   "metadata": {},
   "source": [
    "| id | product_id | quantity | total_price |\n",
    "| --- | --- | --- | --- |\n",
    "| 1 | 1 | 2 | 20000 |\n",
    "| 2 | 2 | 1 | 20000 |"
   ]
  },
  {
   "cell_type": "markdown",
   "id": "25c529f6",
   "metadata": {},
   "source": [
    "Transactions table with example data:"
   ]
  },
  {
   "cell_type": "markdown",
   "id": "01927fc7",
   "metadata": {},
   "source": [
    "| id | date | product_id | amount |\n",
    "| --- | --- | --- | --- |\n",
    "| 1 | 2020-01-01 | 1 | 15000 |"
   ]
  },
  {
   "cell_type": "markdown",
   "id": "a0157498",
   "metadata": {},
   "source": [
    "Suppose there is a customer using our application, by purchasing one Product A for Rp. 15,000. And the customer made the purchase on 2020-01-01."
   ]
  },
  {
   "cell_type": "markdown",
   "id": "fa7c6bdb",
   "metadata": {},
   "source": [
    "When a sale occurs, we will reduce the total stock of goods in the products table column stock, then add the total sales in the sales table, and record the sales transaction in the transactions table. So, the command process is as follows:"
   ]
  },
  {
   "cell_type": "code",
   "execution_count": null,
   "id": "1690e189",
   "metadata": {},
   "outputs": [],
   "source": [
    "-- step 1: get the product data to be searched\n",
    "SELECT * FROM products WHERE id = 1;\n",
    "\n",
    "-- step 2: reduce product stock\n",
    "UPDATE products SET stock = stock - 1 WHERE id = 1;\n",
    "\n",
    "-- step 3: increase total sales\n",
    "INSERT INTO sales (product_id, quantity, total_price) VALUES (1, 1, 10000);\n",
    "\n",
    "-- step 4: record the transaction\n",
    "INSERT INTO transactions (date, product_id, amount) VALUES ('2020-01-01', 1, 15000);\n",
    "\n",
    "-- done"
   ]
  },
  {
   "cell_type": "markdown",
   "id": "f082d1c4",
   "metadata": {},
   "source": []
  },
  {
   "cell_type": "markdown",
   "id": "e8109532",
   "metadata": {},
   "source": [
    "![Image](https://storage.googleapis.com/rg-ai-bootcamp/database/sql-transaction-1.svg)"
   ]
  },
  {
   "cell_type": "markdown",
   "id": "c02aefc7",
   "metadata": {},
   "source": [
    "There are 4 SQL commands run to perform the sales transaction process: get the purchased product data in the products table, then perform an update by reducing stock by 1 in the products table, add total sales in the sales table, and record the sales transaction in the transactions table. These commands will always be run if there is a sales process in our application."
   ]
  },
  {
   "cell_type": "markdown",
   "id": "3f30dd59",
   "metadata": {},
   "source": [
    "However, what if when getting the product it turns out the stock is empty, or when recording the transaction an error occurs. This will result in data inconsistency between each table. The stock may have been reduced by 1, and in the sales table there is already an addition of 1 sale, but in the transactions table no transaction has been recorded. This will confuse us to check these data."
   ]
  },
  {
   "cell_type": "markdown",
   "id": "52c92c79",
   "metadata": {},
   "source": []
  },
  {
   "cell_type": "markdown",
   "id": "f31794af",
   "metadata": {},
   "source": [
    "![Image](https://storage.googleapis.com/rg-ai-bootcamp/database/sql-transaction-err.svg)"
   ]
  },
  {
   "cell_type": "markdown",
   "id": "0b08b5c3",
   "metadata": {},
   "source": [
    "To overcome this data inconsistency, we must return or cancel all SQL commands that have previously been performed. Therefore, we need to use a transaction."
   ]
  },
  {
   "cell_type": "markdown",
   "id": "6ff1a2dc",
   "metadata": {},
   "source": [
    "With a transaction, we can ensure that all commands within a transaction will always be run simultaneously. If there is an error, then all commands within a transaction will be canceled."
   ]
  },
  {
   "cell_type": "markdown",
   "id": "a0271ae7",
   "metadata": {},
   "source": [
    "So there are only 2 conditions, that is all commands in the transaction are successfully executed."
   ]
  },
  {
   "cell_type": "markdown",
   "id": "5835de8f",
   "metadata": {},
   "source": []
  },
  {
   "cell_type": "markdown",
   "id": "9031d647",
   "metadata": {},
   "source": [
    "![Image](https://storage.googleapis.com/rg-ai-bootcamp/database/sql-transaction-done.svg)"
   ]
  },
  {
   "cell_type": "markdown",
   "id": "4726ca40",
   "metadata": {},
   "source": [
    "Or cancel all commands if there is an error."
   ]
  },
  {
   "cell_type": "markdown",
   "id": "ff88b409",
   "metadata": {},
   "source": []
  },
  {
   "cell_type": "markdown",
   "id": "b9cb1675",
   "metadata": {},
   "source": [
    "![Image](https://storage.googleapis.com/rg-ai-bootcamp/database/sql-transaction-rollback.svg)"
   ]
  },
  {
   "cell_type": "markdown",
   "id": "7a24fdac",
   "metadata": {},
   "source": [
    "# SQL Transaction"
   ]
  },
  {
   "cell_type": "markdown",
   "id": "440571dd",
   "metadata": {},
   "source": [
    "To use a transaction in SQL, we need to understand the beginning of the process and the end of the process. The beginning of the process is when we start a transaction, and the end of the process is when we end a transaction."
   ]
  },
  {
   "cell_type": "markdown",
   "id": "b5cf3cc6",
   "metadata": {},
   "source": [
    "We use the BEGIN TRANSACTION command to start a transaction, and the COMMIT command is used to complete a transaction."
   ]
  },
  {
   "cell_type": "code",
   "execution_count": null,
   "id": "c4bd1620",
   "metadata": {},
   "outputs": [],
   "source": [
    "BEGIN TRANSACTION;\n",
    "-- SQL command\n",
    "\n",
    "COMMIT;"
   ]
  },
  {
   "cell_type": "markdown",
   "id": "0ede0b98",
   "metadata": {},
   "source": [
    "Based on the example above, we just need to insert 4 SQL commands into the transaction."
   ]
  },
  {
   "cell_type": "code",
   "execution_count": null,
   "id": "0479453f",
   "metadata": {},
   "outputs": [],
   "source": [
    "BEGIN TRANSACTION;\n",
    "\n",
    "-- step 1: get the product data to be searched\n",
    "SELECT * FROM products WHERE id = 1;\n",
    "\n",
    "-- step 2: reduce product stock\n",
    "UPDATE products SET stock = stock - 1 WHERE id = 1;\n",
    "\n",
    "-- step 3: increase total sales\n",
    "INSERT INTO sales (product_id, quantity, total_price) VALUES (1, 1, 10000);\n",
    "\n",
    "-- step 4: record the transaction\n",
    "INSERT INTO transactions (date, product_id, amount) VALUES ('2020-01-01', 1, 15000);\n",
    "\n",
    "COMMIT;"
   ]
  },
  {
   "cell_type": "markdown",
   "id": "b7456f96",
   "metadata": {},
   "source": [
    "We can issue a ROLLBACK command to cancel a transaction if there is an error or unmet condition."
   ]
  },
  {
   "cell_type": "code",
   "execution_count": null,
   "id": "e4acd24d",
   "metadata": {},
   "outputs": [],
   "source": [
    "BEGIN TRANSACTION;\n",
    "-- SQL command\n",
    "\n",
    "ROLLBACK;"
   ]
  },
  {
   "cell_type": "markdown",
   "id": "3ec1dd27",
   "metadata": {},
   "source": [
    "You can apply a transaction in an online SQL compiler or SQLite/DBMS tool that you use."
   ]
  }
 ],
 "metadata": {},
 "nbformat": 4,
 "nbformat_minor": 5
}
