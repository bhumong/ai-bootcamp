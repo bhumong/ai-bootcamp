{
 "cells": [
  {
   "cell_type": "markdown",
   "id": "d7d4bb19",
   "metadata": {},
   "source": [
    "source: [link](https://ai-bootcamp.ruangguru.com/learn/05_database/00_sql/01_sql-table.html)"
   ]
  },
  {
   "cell_type": "markdown",
   "id": "13192c67",
   "metadata": {},
   "source": [
    "# SQL Fundamentals with Python - Tables"
   ]
  },
  {
   "cell_type": "markdown",
   "id": "b6664291",
   "metadata": {},
   "source": [
    "# DML (Data Manipulation Language)"
   ]
  },
  {
   "cell_type": "markdown",
   "id": "1474180b",
   "metadata": {},
   "source": [
    "# What is DML?"
   ]
  },
  {
   "cell_type": "markdown",
   "id": "dc886ad7",
   "metadata": {},
   "source": [
    "Data Manipulation Language (DML) is used to modify data in a database. DML is responsible for all forms of data changes within the database."
   ]
  },
  {
   "cell_type": "markdown",
   "id": "d4a266a9",
   "metadata": {},
   "source": [
    "The most frequently used DML commands are INSERT, UPDATE, and DELETE. Let’s discuss these commands by continuing with the example table that was created earlier."
   ]
  },
  {
   "cell_type": "markdown",
   "id": "6f24b840",
   "metadata": {},
   "source": [
    "The table has the following structure and data:"
   ]
  },
  {
   "cell_type": "markdown",
   "id": "9f8e5159",
   "metadata": {},
   "source": [
    "In the DDL material, we have already created a database and this table, let’s add the data above into the table that is already created:"
   ]
  },
  {
   "cell_type": "code",
   "execution_count": null,
   "id": "6c5341a9",
   "metadata": {},
   "outputs": [],
   "source": [
    "-- create database\n",
    "CREATE DATABASE db_employee;\n",
    "\n",
    "-- use database\n",
    "USE db_employee;\n",
    "\n",
    "-- create table\n",
    "CREATE TABLE employees (\n",
    "  id SERIAL PRIMARY KEY,\n",
    "  name VARCHAR(50) NOT NULL,\n",
    "  age INT NOT NULL,\n",
    "  address VARCHAR(100),\n",
    "  salary INT\n",
    ");"
   ]
  },
  {
   "cell_type": "markdown",
   "id": "83d98748",
   "metadata": {},
   "source": [
    "Try in python using SQLite"
   ]
  },
  {
   "cell_type": "code",
   "execution_count": null,
   "id": "8b478ef5",
   "metadata": {},
   "outputs": [],
   "source": [
    "import sqlite3\n",
    "\n",
    "# Connect to the SQLite database\n",
    "# If the database does not exist, it will be created\n",
    "conn = sqlite3.connect('db/sqlite.db')\n",
    "\n",
    "# Create a cursor object\n",
    "cur = conn.cursor()"
   ]
  },
  {
   "cell_type": "code",
   "execution_count": null,
   "id": "1805036b",
   "metadata": {},
   "outputs": [],
   "source": [
    "# Execute a SQL command: this creates a new table\n",
    "cur.execute('''\n",
    "    CREATE TABLE employees (\n",
    "        id INTEGER,\n",
    "        name TEXT NOT NULL,\n",
    "        age INTEGER NOT NULL,\n",
    "        address TEXT,\n",
    "        salary INTEGER\n",
    "    )\n",
    "''')\n",
    "\n",
    "# Commit the transaction\n",
    "conn.commit()"
   ]
  },
  {
   "cell_type": "markdown",
   "id": "46213112",
   "metadata": {},
   "source": [
    "We will continue with examples of DML commands."
   ]
  },
  {
   "cell_type": "markdown",
   "id": "b1d1bbe9",
   "metadata": {},
   "source": [
    "# INSERT"
   ]
  },
  {
   "cell_type": "markdown",
   "id": "7f025310",
   "metadata": {},
   "source": [
    "We can use the INSERT command to add new data into a table. The INSERT command has the following structure:"
   ]
  },
  {
   "cell_type": "code",
   "execution_count": null,
   "id": "a6f5ce5d",
   "metadata": {},
   "outputs": [],
   "source": [
    "INSERT INTO <table-name> VALUES (column1, column2, column3, ...)"
   ]
  },
  {
   "cell_type": "markdown",
   "id": "fd81c342",
   "metadata": {},
   "source": [
    "Looking at the example above, we can see that the INSERT command has two parts, namely the INSERT INTO part and the VALUES part. The INSERT INTO part is used to designate which table we will add data to, where <table-name> is the name of the table that we will add data to. The VALUES part is used to specify what data we will add into the table."
   ]
  },
  {
   "cell_type": "markdown",
   "id": "bb55009a",
   "metadata": {},
   "source": [
    "Here is an example of an INSERT command that will add new data into the employees table:"
   ]
  },
  {
   "cell_type": "code",
   "execution_count": null,
   "id": "7598818c",
   "metadata": {},
   "outputs": [],
   "source": [
    "INSERT INTO employees VALUES (1, 'Rizki', 25, 'Jl. Kebon Jeruk', 2000000);"
   ]
  },
  {
   "cell_type": "markdown",
   "id": "d787a08d",
   "metadata": {},
   "source": [
    "Try in python using SQLite"
   ]
  },
  {
   "cell_type": "code",
   "execution_count": null,
   "id": "31c088e4",
   "metadata": {},
   "outputs": [],
   "source": [
    "cur.execute(\"INSERT INTO employees VALUES (1, 'Rizki', 25, 'Jl. Kebon Jeruk', 2000000)\")\n",
    "conn.commit()"
   ]
  },
  {
   "cell_type": "markdown",
   "id": "54e13ba5",
   "metadata": {},
   "source": [
    "See the table:"
   ]
  },
  {
   "cell_type": "code",
   "execution_count": null,
   "id": "84641194",
   "metadata": {},
   "outputs": [],
   "source": [
    "import pandas as pd\n",
    "\n",
    "pd.read_sql_query(\"SELECT * FROM employees\", conn)"
   ]
  },
  {
   "cell_type": "markdown",
   "id": "f4bd9333",
   "metadata": {},
   "source": [
    "When adding string data in SQL we must use a single quote (') to mark that the data is a string, like 'Rizky'. If we do not use a single quote, then the data will be considered invalid."
   ]
  },
  {
   "cell_type": "markdown",
   "id": "943c4340",
   "metadata": {},
   "source": [
    "The result will be as follows:"
   ]
  },
  {
   "cell_type": "markdown",
   "id": "67a26a4b",
   "metadata": {},
   "source": [
    "The command above will add new data into the employees table, the data will be filled in according to the order of the columns in the table. 1 will be filled into the id column, 'Rizki' will be filled into the name column, and 25 will be filled into the age column and so forth."
   ]
  },
  {
   "cell_type": "markdown",
   "id": "7bf6a9ff",
   "metadata": {},
   "source": [
    "If we want to add new data into specific columns, we can add the column name in the INSERT INTO section as follows:"
   ]
  },
  {
   "cell_type": "code",
   "execution_count": null,
   "id": "17d00324",
   "metadata": {},
   "outputs": [],
   "source": [
    "INSERT INTO employee (id, name, age) VALUES (1, 'Rizki', 25);"
   ]
  },
  {
   "cell_type": "markdown",
   "id": "b9950a55",
   "metadata": {},
   "source": [
    "Try in python using SQLite"
   ]
  },
  {
   "cell_type": "code",
   "execution_count": null,
   "id": "b42404da",
   "metadata": {},
   "outputs": [],
   "source": [
    "cur.execute(\"INSERT INTO employees (id, name, age) VALUES (1, 'Rizki', 25)\")\n",
    "conn.commit()"
   ]
  },
  {
   "cell_type": "markdown",
   "id": "003edc10",
   "metadata": {},
   "source": [
    "See the table:"
   ]
  },
  {
   "cell_type": "code",
   "execution_count": null,
   "id": "e4736cfc",
   "metadata": {},
   "outputs": [],
   "source": [
    "import pandas as pd\n",
    "\n",
    "pd.read_sql_query(\"SELECT * FROM employees\", conn)"
   ]
  },
  {
   "cell_type": "markdown",
   "id": "63b5cf2e",
   "metadata": {},
   "source": [
    "The result will be:"
   ]
  },
  {
   "cell_type": "markdown",
   "id": "4c93caf3",
   "metadata": {},
   "source": [
    "The example above is adding new data into the id, name, and age columns. Because we are only adding data into the id, name, and age columns, the address and salary columns will be filled with NULL values."
   ]
  },
  {
   "cell_type": "markdown",
   "id": "3fce90f9",
   "metadata": {},
   "source": [
    "Please note, NULL data is data that has no value, if we want to set it so that the column cannot be filled with NULL data, we can use the NOT NULL constraints when creating the column."
   ]
  },
  {
   "cell_type": "markdown",
   "id": "c484f131",
   "metadata": {},
   "source": [
    "We can also add NULL data into a specific column, just like adding other data:"
   ]
  },
  {
   "cell_type": "code",
   "execution_count": null,
   "id": "c3af7921",
   "metadata": {},
   "outputs": [],
   "source": [
    "INSERT INTO employee (id, name, age, address, salary) VALUES (1, 'Rizki', 25, NULL, NULL);"
   ]
  },
  {
   "cell_type": "markdown",
   "id": "3f3587b7",
   "metadata": {},
   "source": [
    "Try in python using SQLite"
   ]
  },
  {
   "cell_type": "code",
   "execution_count": null,
   "id": "527038ba",
   "metadata": {},
   "outputs": [],
   "source": [
    "cur.execute(\"INSERT INTO employees (id, name, age, address, salary) VALUES (1, 'Rizki', 25, NULL, NULL)\")\n",
    "conn.commit()"
   ]
  },
  {
   "cell_type": "markdown",
   "id": "5bca77c4",
   "metadata": {},
   "source": [
    "See the table:"
   ]
  },
  {
   "cell_type": "code",
   "execution_count": null,
   "id": "a95f496c",
   "metadata": {},
   "outputs": [],
   "source": [
    "import pandas as pd\n",
    "\n",
    "pd.read_sql_query(\"SELECT * FROM employees\", conn)"
   ]
  },
  {
   "cell_type": "markdown",
   "id": "c37291b5",
   "metadata": {},
   "source": [
    "Finally, we can add more than one data into a table using the INSERT command separated by \",\", as follows:"
   ]
  },
  {
   "cell_type": "code",
   "execution_count": null,
   "id": "62509eaf",
   "metadata": {},
   "outputs": [],
   "source": [
    "INSERT INTO employees\n",
    "VALUES (1, 'Rizki', 25, 'Jl. Kebon Jeruk', 2000000),\n",
    "(2, 'Andi', 27, 'Jl. Kebon Sirih', 3000000),\n",
    "(3, 'Budi', 30, 'Jl. Kebon Melati', 4000000),\n",
    "(4, 'Caca', 32, 'Jl. Kebon Anggrek', 5000000),\n",
    "(5, 'Deni', 35, 'Jl. Kebon Mawar', 6000000);"
   ]
  },
  {
   "cell_type": "markdown",
   "id": "9f7cf24c",
   "metadata": {},
   "source": [
    "It can also be done using specific columns:"
   ]
  },
  {
   "cell_type": "code",
   "execution_count": null,
   "id": "aaa77a41",
   "metadata": {},
   "outputs": [],
   "source": [
    "INSERT INTO employees (id, name, age)\n",
    "VALUES (1, 'Rizki', 25),\n",
    "(2, 'Andi', 27),\n",
    "(3, 'Budi', 30),\n",
    "(4, 'Caca', 32),\n",
    "(5, 'Deni', 35);"
   ]
  },
  {
   "cell_type": "markdown",
   "id": "ffca92f7",
   "metadata": {},
   "source": [
    "As a result, it will add 5 new data into the employees table."
   ]
  },
  {
   "cell_type": "markdown",
   "id": "387a4ce2",
   "metadata": {},
   "source": [
    "You can try adding new data into the employees table with the above INSERT command in this online SQL compiler or the SQLite tool you are using."
   ]
  },
  {
   "cell_type": "markdown",
   "id": "8104ac65",
   "metadata": {},
   "source": [
    "Try in python using SQLite"
   ]
  },
  {
   "cell_type": "code",
   "execution_count": null,
   "id": "ec9fbb4d",
   "metadata": {},
   "outputs": [],
   "source": [
    "# Insert multiple data rows into the table\n",
    "data = [\n",
    "    (2, 'Andi', 27, 'Jl. Kebon Sirih', 3000000),\n",
    "    (3, 'Budi', 30, 'Jl. Kebon Melati', 4000000),\n",
    "    (4, 'Caca', 32, 'Jl. Kebon Anggrek', 5000000),\n",
    "    (5, 'Deni', 35, 'Jl. Kebon Mawar', 6000000)\n",
    "]\n",
    "\n",
    "cur.executemany(\"INSERT INTO employees VALUES (?, ?, ?, ?, ?)\", data)\n",
    "conn.commit()"
   ]
  },
  {
   "cell_type": "markdown",
   "id": "01e3f0bf",
   "metadata": {},
   "source": [
    "See the table:"
   ]
  },
  {
   "cell_type": "code",
   "execution_count": null,
   "id": "754dc72d",
   "metadata": {},
   "outputs": [],
   "source": [
    "import pandas as pd\n",
    "\n",
    "pd.read_sql_query(\"SELECT * FROM employees\", conn)"
   ]
  },
  {
   "cell_type": "markdown",
   "id": "b0bf91e7",
   "metadata": {},
   "source": [
    "# UPDATE"
   ]
  },
  {
   "cell_type": "markdown",
   "id": "505eef7d",
   "metadata": {},
   "source": [
    "The UPDATE command is used to modify existing data in a table. The UPDATE command has the following structure:"
   ]
  },
  {
   "cell_type": "code",
   "execution_count": null,
   "id": "7dba7237",
   "metadata": {},
   "outputs": [],
   "source": [
    "UPDATE <table-name>\n",
    "SET <column-name> = <new-value>\n",
    "WHERE <condition>;"
   ]
  },
  {
   "cell_type": "markdown",
   "id": "b5229529",
   "metadata": {},
   "source": [
    "Where <table-name> is the name of the table whose data we will change, <column-name> is the name of the column whose data we will change, <new-value> is the new value that we will insert into that column, and <condition> is the condition that will determine which data we will modify."
   ]
  },
  {
   "cell_type": "markdown",
   "id": "c4431925",
   "metadata": {},
   "source": [
    "Here is an example of the UPDATE command that will modify the data in the employees table:"
   ]
  },
  {
   "cell_type": "code",
   "execution_count": null,
   "id": "5d552e49",
   "metadata": {},
   "outputs": [],
   "source": [
    "UPDATE employees\n",
    "SET name = 'Rizal', age = 26\n",
    "WHERE id = 1;"
   ]
  },
  {
   "cell_type": "markdown",
   "id": "7719a34e",
   "metadata": {},
   "source": [
    "Try in python using SQLite"
   ]
  },
  {
   "cell_type": "code",
   "execution_count": null,
   "id": "270ff105",
   "metadata": {},
   "outputs": [],
   "source": [
    "# Update data in the table\n",
    "cur.execute(\"UPDATE employees SET name = 'Rizal', age = 26 WHERE id = 1\")\n",
    "conn.commit()"
   ]
  },
  {
   "cell_type": "markdown",
   "id": "7eb9f8b3",
   "metadata": {},
   "source": [
    "See the table:"
   ]
  },
  {
   "cell_type": "code",
   "execution_count": null,
   "id": "28599714",
   "metadata": {},
   "outputs": [],
   "source": [
    "import pandas as pd\n",
    "\n",
    "pd.read_sql_query(\"SELECT * FROM employees\", conn)"
   ]
  },
  {
   "cell_type": "markdown",
   "id": "8e933737",
   "metadata": {},
   "source": [
    "In the example above, we are changing the name data to 'Rizal' and the age data to 26, separating the columns we will change with \",\". And the data being modified is the one with id = 1."
   ]
  },
  {
   "cell_type": "markdown",
   "id": "4bab0f92",
   "metadata": {},
   "source": [
    "Data before modification:"
   ]
  },
  {
   "cell_type": "markdown",
   "id": "d2b21b12",
   "metadata": {},
   "source": [
    "Data after modification:"
   ]
  },
  {
   "cell_type": "markdown",
   "id": "2d75eefd",
   "metadata": {},
   "source": [
    "ATTENTION !!"
   ]
  },
  {
   "cell_type": "markdown",
   "id": "4ba655e7",
   "metadata": {},
   "source": [
    "Make sure to add WHERE so that we do not change all the data in the table. If we do not add WHERE, then all the data in the table will be changed. The example above is where we only change data that has id = 1, so the name and age data only changes the data at id 1."
   ]
  },
  {
   "cell_type": "markdown",
   "id": "5215ac1e",
   "metadata": {},
   "source": [
    "You can try modifying the data in the employees table with the above UPDATE command using this online SQL compiler or the DBMS tool you are using."
   ]
  },
  {
   "cell_type": "markdown",
   "id": "b4fa003c",
   "metadata": {},
   "source": [
    "# DELETE"
   ]
  },
  {
   "cell_type": "markdown",
   "id": "cbbf8bf2",
   "metadata": {},
   "source": [
    "The DELETE command is used to remove existing data from a table. The DELETE command has the following structure:"
   ]
  },
  {
   "cell_type": "code",
   "execution_count": null,
   "id": "808b157f",
   "metadata": {},
   "outputs": [],
   "source": [
    "DELETE FROM <table-name>\n",
    "WHERE <condition>;"
   ]
  },
  {
   "cell_type": "markdown",
   "id": "f1aa94c4",
   "metadata": {},
   "source": [
    "Where <table-name> is the name of the table whose data we will delete, and <condition> is the condition that will determine which data we will delete."
   ]
  },
  {
   "cell_type": "markdown",
   "id": "27bf6d1c",
   "metadata": {},
   "source": [
    "Here is an example of the DELETE command that will delete data in the employees table:"
   ]
  },
  {
   "cell_type": "code",
   "execution_count": null,
   "id": "d69e8bbc",
   "metadata": {},
   "outputs": [],
   "source": [
    "DELETE FROM employees\n",
    "WHERE id = 1;"
   ]
  },
  {
   "cell_type": "markdown",
   "id": "043adb35",
   "metadata": {},
   "source": [
    "Try in python using SQLite"
   ]
  },
  {
   "cell_type": "code",
   "execution_count": null,
   "id": "507ae3ad",
   "metadata": {},
   "outputs": [],
   "source": [
    "# Delete data from the table\n",
    "cur.execute(\"DELETE FROM employees WHERE id = 1\")\n",
    "conn.commit()"
   ]
  },
  {
   "cell_type": "markdown",
   "id": "6bb1823c",
   "metadata": {},
   "source": [
    "See the table:"
   ]
  },
  {
   "cell_type": "code",
   "execution_count": null,
   "id": "40e98afe",
   "metadata": {},
   "outputs": [],
   "source": [
    "import pandas as pd\n",
    "\n",
    "pd.read_sql_query(\"SELECT * FROM employees\", conn)"
   ]
  },
  {
   "cell_type": "markdown",
   "id": "1d661159",
   "metadata": {},
   "source": [
    "In the example above, we are deleting data with id = 1."
   ]
  },
  {
   "cell_type": "markdown",
   "id": "7d99f87e",
   "metadata": {},
   "source": [
    "Data before deletion:"
   ]
  },
  {
   "cell_type": "markdown",
   "id": "6be41f9c",
   "metadata": {},
   "source": [
    "Data after deletion:"
   ]
  },
  {
   "cell_type": "markdown",
   "id": "9cb12d83",
   "metadata": {},
   "source": [
    "ATTENTION !!"
   ]
  },
  {
   "cell_type": "markdown",
   "id": "ca5c357d",
   "metadata": {},
   "source": [
    "Make sure to add WHERE just like UPDATE so we do not delete all the data in the table. If we do not add WHERE, then all the data in the table will be deleted. The example above is where we only delete data that has id = 1, so the name and age data only changes the data at id 1."
   ]
  },
  {
   "cell_type": "markdown",
   "id": "1b79cf48",
   "metadata": {},
   "source": [
    "You can try deleting data in the employees table with the above DELETE command using this online SQL compiler or the DBMS tool you are using."
   ]
  },
  {
   "cell_type": "code",
   "execution_count": null,
   "id": "2b858139",
   "metadata": {},
   "outputs": [],
   "source": [
    "# Close the connection\n",
    "conn.close()"
   ]
  },
  {
   "cell_type": "markdown",
   "id": "b8aee575",
   "metadata": {},
   "source": [
    "# DQL (Data Query Language)"
   ]
  },
  {
   "cell_type": "markdown",
   "id": "0dbf090c",
   "metadata": {},
   "source": [
    "# What is DQL?"
   ]
  },
  {
   "cell_type": "markdown",
   "id": "cd426625",
   "metadata": {},
   "source": [
    "Data Query Language (DQL) is used to retrieve data from a table in a database. The purpose of DQL is to obtain data using SQL commands. The SQL command used is SELECT."
   ]
  },
  {
   "cell_type": "markdown",
   "id": "4962a5f4",
   "metadata": {},
   "source": [
    "Let’s continue with the data we have created in the previous section."
   ]
  },
  {
   "cell_type": "markdown",
   "id": "a63d030f",
   "metadata": {},
   "source": [
    "Then we try to save this data into the employees table with the following SQL command:"
   ]
  },
  {
   "cell_type": "code",
   "execution_count": null,
   "id": "efcc99fc",
   "metadata": {},
   "outputs": [],
   "source": [
    "-- create data in table employee\n",
    "INSERT INTO employees (id, name, age, address, salary)\n",
    "VALUES (1, 'Rizki', 25, 'Jl. Kebon Jeruk', 2000000),\n",
    "(2, 'Andi', 27, 'Jl. Kebon Sirih', 3000000),\n",
    "(3, 'Budi', 30, 'Jl. Kebon Melati', 4000000),\n",
    "(4, 'Caca', 32, 'Jl. Kebon Anggrek', 5000000),\n",
    "(5, 'Deni', 35, 'Jl. Kebon Mawar', 6000000);"
   ]
  },
  {
   "cell_type": "code",
   "execution_count": null,
   "id": "bfc654a7",
   "metadata": {},
   "outputs": [],
   "source": [
    "import sqlite3\n",
    "\n",
    "# Connect to SQLite database\n",
    "conn = sqlite3.connect('db/sqlite.db')\n",
    "\n",
    "# Create a cursor object\n",
    "c = conn.cursor()"
   ]
  },
  {
   "cell_type": "code",
   "execution_count": null,
   "id": "a6688da4",
   "metadata": {},
   "outputs": [],
   "source": [
    "# Create table\n",
    "c.execute('''\n",
    "CREATE TABLE employees (\n",
    "    id INT,\n",
    "    name TEXT,\n",
    "    age INT,\n",
    "    address TEXT,\n",
    "    salary REAL);\n",
    "''')\n",
    "# Commit the transaction\n",
    "conn.commit()"
   ]
  },
  {
   "cell_type": "code",
   "execution_count": null,
   "id": "2424c3c9",
   "metadata": {},
   "outputs": [],
   "source": [
    "# Insert data into the table\n",
    "data = [\n",
    "    (1, 'Rizki', 25, 'Jl. Kebon Jeruk', 2000000),\n",
    "    (2, 'Andi', 27, 'Jl. Kebon Sirih', 3000000),\n",
    "    (3, 'Budi', 30, 'Jl. Kebon Melati', 4000000),\n",
    "    (4, 'Caca', 32, 'Jl. Kebon Anggrek', 5000000),\n",
    "    (5, 'Deni', 35, 'Jl. Kebon Mawar', 6000000)\n",
    "]\n",
    "c.executemany('INSERT INTO employees VALUES (?,?,?,?,?)', data)\n",
    "\n",
    "# Commit the transaction\n",
    "conn.commit()"
   ]
  },
  {
   "cell_type": "markdown",
   "id": "e4dcd149",
   "metadata": {},
   "source": [
    "# SELECT"
   ]
  },
  {
   "cell_type": "markdown",
   "id": "f694ddb9",
   "metadata": {},
   "source": [
    "The SELECT command is used to retrieve data from a table. The SELECT command has a fairly complex syntax. Here is a simple command example to retrieve data from the employee table:"
   ]
  },
  {
   "cell_type": "code",
   "execution_count": null,
   "id": "ea146655",
   "metadata": {},
   "outputs": [],
   "source": [
    "SELECT * FROM employees;"
   ]
  },
  {
   "cell_type": "markdown",
   "id": "2e149396",
   "metadata": {},
   "source": [
    "Retrieve all data from the employees table."
   ]
  },
  {
   "cell_type": "code",
   "execution_count": null,
   "id": "c0238543",
   "metadata": {},
   "outputs": [],
   "source": [
    "import pandas as pd\n",
    "\n",
    "pd.read_sql_query(\"SELECT * FROM employees\", conn)"
   ]
  },
  {
   "cell_type": "markdown",
   "id": "39dd3991",
   "metadata": {},
   "source": [
    "The command above will retrieve data in the employees table. We use * to retrieve all columns in the employee table. If we want to retrieve data from a specific column, we can write the column name in the SELECT command. For example:"
   ]
  },
  {
   "cell_type": "markdown",
   "id": "9d60c9a8",
   "metadata": {},
   "source": [
    "The results will be as follows:"
   ]
  },
  {
   "cell_type": "code",
   "execution_count": null,
   "id": "632e80f2",
   "metadata": {},
   "outputs": [],
   "source": [
    "SELECT id, name, age FROM employees;"
   ]
  },
  {
   "cell_type": "markdown",
   "id": "b3fb762c",
   "metadata": {},
   "source": [
    "Retrieve specific columns (id, name, age) from the employees table."
   ]
  },
  {
   "cell_type": "code",
   "execution_count": null,
   "id": "3c80defa",
   "metadata": {},
   "outputs": [],
   "source": [
    "import pandas as pd\n",
    "\n",
    "pd.read_sql_query(\"SELECT id, name, age FROM employees\", conn)"
   ]
  },
  {
   "cell_type": "markdown",
   "id": "429f8564",
   "metadata": {},
   "source": [
    "The command above will retrieve all data for several columns, we can write the column name separated by ,. Because in the command it writes the id, name and age columns on the employee table, the result will be as follows:"
   ]
  },
  {
   "cell_type": "markdown",
   "id": "6dfe276d",
   "metadata": {},
   "source": [
    "# WHERE"
   ]
  },
  {
   "cell_type": "markdown",
   "id": "c57855e2",
   "metadata": {},
   "source": [
    "The WHERE command is used to filter the data to be retrieved. The WHERE command must be written after the SELECT command. For example:"
   ]
  },
  {
   "cell_type": "code",
   "execution_count": null,
   "id": "f9c9398b",
   "metadata": {},
   "outputs": [],
   "source": [
    "SELECT * FROM employees\n",
    "WHERE id = 1;"
   ]
  },
  {
   "cell_type": "markdown",
   "id": "cd28a1db",
   "metadata": {},
   "source": [
    "Retrieve data from the employees table with id equals to 1."
   ]
  },
  {
   "cell_type": "code",
   "execution_count": null,
   "id": "91f5baa0",
   "metadata": {},
   "outputs": [],
   "source": [
    "import pandas as pd\n",
    "\n",
    "pd.read_sql_query(\"SELECT * FROM employees WHERE id = 1\", conn)"
   ]
  },
  {
   "cell_type": "markdown",
   "id": "b8038279",
   "metadata": {},
   "source": [
    "The command above will retrieve data from the employees table with id 1, so it only gets 1 data that has id 1. The result will be as follows:"
   ]
  },
  {
   "cell_type": "markdown",
   "id": "854e7e13",
   "metadata": {},
   "source": [
    "We can also use the WHERE command for logical operations. For example:"
   ]
  },
  {
   "cell_type": "code",
   "execution_count": null,
   "id": "b9553c8a",
   "metadata": {},
   "outputs": [],
   "source": [
    "SELECT * FROM employees\n",
    "WHERE age < 30;"
   ]
  },
  {
   "cell_type": "markdown",
   "id": "28c43aa4",
   "metadata": {},
   "source": [
    "Retrieve data from the employees table with age less than 30."
   ]
  },
  {
   "cell_type": "code",
   "execution_count": null,
   "id": "bedff5cf",
   "metadata": {},
   "outputs": [],
   "source": [
    "import pandas as pd\n",
    "\n",
    "pd.read_sql_query(\"SELECT * FROM employees WHERE age < 30\", conn)"
   ]
  },
  {
   "cell_type": "markdown",
   "id": "d88fc190",
   "metadata": {},
   "source": [
    "The command above will retrieve data from the employees table with ages less than 30 years, so it only gets 2 data that has an age less than 30 years. The result will be as follows:"
   ]
  },
  {
   "cell_type": "markdown",
   "id": "ef32d1f1",
   "metadata": {},
   "source": [
    "There are logical operations that can be used to combine several conditions namely AND and OR."
   ]
  },
  {
   "cell_type": "code",
   "execution_count": null,
   "id": "7b07d5fc",
   "metadata": {},
   "outputs": [],
   "source": [
    "SELECT * FROM employees\n",
    "WHERE age < 30 AND salary > 2000000;"
   ]
  },
  {
   "cell_type": "markdown",
   "id": "dfd368d7",
   "metadata": {},
   "source": [
    "Retrieve data from the employees table with age less than 30 and more than 2000000."
   ]
  },
  {
   "cell_type": "code",
   "execution_count": null,
   "id": "d22eb154",
   "metadata": {},
   "outputs": [],
   "source": [
    "import pandas as pd\n",
    "\n",
    "pd.read_sql_query(\"SELECT * FROM employees WHERE age < 30 AND salary > 2000000\", conn)"
   ]
  },
  {
   "cell_type": "markdown",
   "id": "478d791b",
   "metadata": {},
   "source": [
    "The command above will retrieve data from the employee table with an age less than 30 years and a salary more than 2 million, so it only gets 1 data that has an age less than 30 years and a salary more than 2 million. The result will be as follows:"
   ]
  },
  {
   "cell_type": "markdown",
   "id": "697a2025",
   "metadata": {},
   "source": [
    "# IN"
   ]
  },
  {
   "cell_type": "markdown",
   "id": "c1b599aa",
   "metadata": {},
   "source": [
    "The IN command is used to filter the data to be retrieved based on a dataset that contains several values. This command is combined with the WHERE command and must be written after it. For example:"
   ]
  },
  {
   "cell_type": "code",
   "execution_count": null,
   "id": "21cfee09",
   "metadata": {},
   "outputs": [],
   "source": [
    "SELECT * FROM employees\n",
    "WHERE id IN (1, 3, 5);"
   ]
  },
  {
   "cell_type": "markdown",
   "id": "84e600b8",
   "metadata": {},
   "source": [
    "Retrieve data from the employees table with id in (1, 3, 5)."
   ]
  },
  {
   "cell_type": "code",
   "execution_count": null,
   "id": "fd641585",
   "metadata": {},
   "outputs": [],
   "source": [
    "import pandas as pd\n",
    "\n",
    "pd.read_sql_query(\"SELECT * FROM employees WHERE id IN (1, 3, 5)\", conn)"
   ]
  },
  {
   "cell_type": "markdown",
   "id": "29e45718",
   "metadata": {},
   "source": [
    "The command above will retrieve data from the employee table with id 1, 3 and 5, so it will get 3 data that has id 1, 3 and 5. The result will be as follows:"
   ]
  },
  {
   "cell_type": "markdown",
   "id": "0d562983",
   "metadata": {},
   "source": [
    "You can apply the basic SELECT command using this online SQL compiler or the DBMS tool you are using. Don’t forget to add data first before doing the SELECT command."
   ]
  },
  {
   "cell_type": "markdown",
   "id": "95972f02",
   "metadata": {},
   "source": [
    "# ORDER BY"
   ]
  },
  {
   "cell_type": "markdown",
   "id": "1d2fb42a",
   "metadata": {},
   "source": [
    "The ORDER BY command is used to sort the data to be retrieved. This command is combined with the SELECT command and must be written after it. This command only has two types of sorting namely ASC and DESC."
   ]
  },
  {
   "cell_type": "markdown",
   "id": "afd6a54d",
   "metadata": {},
   "source": [
    "For example:"
   ]
  },
  {
   "cell_type": "code",
   "execution_count": null,
   "id": "ba215a86",
   "metadata": {},
   "outputs": [],
   "source": [
    "SELECT * FROM employees\n",
    "ORDER BY age DESC;"
   ]
  },
  {
   "cell_type": "markdown",
   "id": "5902ec57",
   "metadata": {},
   "source": [
    "Retrieve data from the employees table and order by age in descending order."
   ]
  },
  {
   "cell_type": "code",
   "execution_count": null,
   "id": "540065a9",
   "metadata": {},
   "outputs": [],
   "source": [
    "import pandas as pd\n",
    "\n",
    "pd.read_sql_query(\"SELECT * FROM employees ORDER BY age DESC\", conn)"
   ]
  },
  {
   "cell_type": "markdown",
   "id": "7ca23b70",
   "metadata": {},
   "source": [
    "The command above will retrieve data from the employee table and sort it based on the age column in descending order (large to small), so it will get 5 data that is sorted based on age in descending order. The result will be as follows:"
   ]
  },
  {
   "cell_type": "markdown",
   "id": "a4fd6428",
   "metadata": {},
   "source": [
    "# LIMIT"
   ]
  },
  {
   "cell_type": "markdown",
   "id": "39c21029",
   "metadata": {},
   "source": [
    "The LIMIT command is used to limit the number of data to be retrieved. The number of data to be retrieved will be determined by the parameter given by taking in order from the top data. This command is combined with the SELECT command and must be written after it. For example:"
   ]
  },
  {
   "cell_type": "code",
   "execution_count": null,
   "id": "eeb2f908",
   "metadata": {},
   "outputs": [],
   "source": [
    "SELECT * FROM employees\n",
    "LIMIT 2;"
   ]
  },
  {
   "cell_type": "markdown",
   "id": "7bb94b9f",
   "metadata": {},
   "source": [
    "Retrieve 2 records from the employees table."
   ]
  },
  {
   "cell_type": "code",
   "execution_count": null,
   "id": "f192396c",
   "metadata": {},
   "outputs": [],
   "source": [
    "import pandas as pd\n",
    "\n",
    "pd.read_sql_query(\"SELECT * FROM employee LIMIT 2\", conn)"
   ]
  },
  {
   "cell_type": "markdown",
   "id": "9956d0d2",
   "metadata": {},
   "source": [
    "The command above will retrieve data from the employee table and limit only 2 data to be retrieved (taken from the top), so it will get 3 data taken from the top data. The result will be as follows:"
   ]
  },
  {
   "cell_type": "markdown",
   "id": "eafe42a4",
   "metadata": {},
   "source": [
    "# Aggregate function"
   ]
  },
  {
   "cell_type": "markdown",
   "id": "94110d8d",
   "metadata": {},
   "source": [
    "An aggregate function is a function used to produce a value based on the data in a table. This function will produce one value only."
   ]
  },
  {
   "cell_type": "markdown",
   "id": "132df1c6",
   "metadata": {},
   "source": [
    "Previously, we have retrieved data from the employee table using the SELECT command. We can use aggregate functions to get certain values from the data in the table. For example, getting the maximum or average value from the data in the salary column of the employee table. Or get the smallest value from all data in the age column."
   ]
  },
  {
   "cell_type": "markdown",
   "id": "6186e983",
   "metadata": {},
   "source": [
    "There are many aggregate functions that can be used, but here we will discuss some functions that are most often used."
   ]
  },
  {
   "cell_type": "markdown",
   "id": "a219d46b",
   "metadata": {},
   "source": [
    "# COUNT"
   ]
  },
  {
   "cell_type": "markdown",
   "id": "99232e28",
   "metadata": {},
   "source": [
    "The COUNT function is a function used to count the number of rows in a table. The result of this function will produce one value only. For example:"
   ]
  },
  {
   "cell_type": "code",
   "execution_count": null,
   "id": "c28d07ca",
   "metadata": {},
   "outputs": [],
   "source": [
    "SELECT COUNT(*) FROM employees;"
   ]
  },
  {
   "cell_type": "markdown",
   "id": "efc8693a",
   "metadata": {},
   "source": [
    "Count the number of records in the employees table."
   ]
  },
  {
   "cell_type": "code",
   "execution_count": null,
   "id": "a3914687",
   "metadata": {},
   "outputs": [],
   "source": [
    "import pandas as pd\n",
    "\n",
    "pd.read_sql_query(\"SELECT COUNT(*) FROM employees\", conn)"
   ]
  },
  {
   "cell_type": "markdown",
   "id": "18b6838a",
   "metadata": {},
   "source": [
    "The command above will count the number of rows in the employee table in all columns and produce the value 5, because there are 5 data in the table. The result will be as follows:"
   ]
  },
  {
   "cell_type": "markdown",
   "id": "fe620ca9",
   "metadata": {},
   "source": [
    "This function will not total the value of a specific column that has NULL data. For example, there is the following table data:"
   ]
  },
  {
   "cell_type": "code",
   "execution_count": null,
   "id": "f6242c16",
   "metadata": {},
   "outputs": [],
   "source": [
    "c.execute('DELETE FROM employees')\n",
    "\n",
    "data = [\n",
    "    (1, 'Rizki', 25, 'Jl. Kebon Jeruk', 2000000),\n",
    "    (2, 'Andi', 27, None, 3000000),\n",
    "    (3, 'Budi', 30, None, 4000000)\n",
    "]\n",
    "c.executemany('INSERT INTO employees VALUES (?,?,?,?,?)', data)\n",
    "\n",
    "conn.commit()"
   ]
  },
  {
   "cell_type": "markdown",
   "id": "bd5435ba",
   "metadata": {},
   "source": [
    "If we use the COUNT function on the address column, the result will be 1 because there is only one data that has a value in the address column. If we use the COUNT function on the salary column, the result will be 3 because all data has a value in the salary column."
   ]
  },
  {
   "cell_type": "markdown",
   "id": "14145bab",
   "metadata": {},
   "source": [
    "using the COUNT function for the address column"
   ]
  },
  {
   "cell_type": "code",
   "execution_count": null,
   "id": "8f07caf0",
   "metadata": {},
   "outputs": [],
   "source": [
    "SELECT COUNT(address) FROM employees;"
   ]
  },
  {
   "cell_type": "markdown",
   "id": "b4e90929",
   "metadata": {},
   "source": [
    "The result is as follows:"
   ]
  },
  {
   "cell_type": "markdown",
   "id": "0560f7d9",
   "metadata": {},
   "source": [
    "using the COUNT function for the salary column"
   ]
  },
  {
   "cell_type": "code",
   "execution_count": null,
   "id": "ced5b47a",
   "metadata": {},
   "outputs": [],
   "source": [
    "SELECT COUNT(salary) FROM employees;"
   ]
  },
  {
   "cell_type": "markdown",
   "id": "29ac4040",
   "metadata": {},
   "source": [
    "The result is as follows:"
   ]
  },
  {
   "cell_type": "markdown",
   "id": "5b4a5518",
   "metadata": {},
   "source": [
    "If we look at the results, the column name will become COUNT(address) and COUNT(salary). If we want to change the column name, we can use the AS command to change the column name. For example:"
   ]
  },
  {
   "cell_type": "code",
   "execution_count": null,
   "id": "1a789214",
   "metadata": {},
   "outputs": [],
   "source": [
    "SELECT COUNT(address) AS total_address\n",
    "FROM employees;"
   ]
  },
  {
   "cell_type": "markdown",
   "id": "941a7533",
   "metadata": {},
   "source": [
    "Try in python using SQLite"
   ]
  },
  {
   "cell_type": "code",
   "execution_count": null,
   "id": "596a7ddc",
   "metadata": {},
   "outputs": [],
   "source": [
    "import pandas as pd\n",
    "\n",
    "pd.read_sql_query(\"SELECT COUNT(address) AS total_address FROM employees\", conn)"
   ]
  },
  {
   "cell_type": "markdown",
   "id": "4e33f384",
   "metadata": {},
   "source": [
    "By using AS we can change the column name to total_address. The result will be as follows:"
   ]
  },
  {
   "cell_type": "markdown",
   "id": "cb50111f",
   "metadata": {},
   "source": [
    "# CONCAT"
   ]
  },
  {
   "cell_type": "markdown",
   "id": "1f1e57fc",
   "metadata": {},
   "source": [
    "The CONCAT function is a function used to combine two or more strings into one. This function will produce one string only."
   ]
  },
  {
   "cell_type": "code",
   "execution_count": null,
   "id": "4d7a99e7",
   "metadata": {},
   "outputs": [],
   "source": [
    "CONCAT(string1, string2, string3, ...)"
   ]
  },
  {
   "cell_type": "markdown",
   "id": "2133a11e",
   "metadata": {},
   "source": [
    "For example, if there is a persons table with columns and data as follows:"
   ]
  },
  {
   "cell_type": "markdown",
   "id": "3887af86",
   "metadata": {},
   "source": [
    "We can combine the salutation and name columns into one column using the CONCAT function. For example:"
   ]
  },
  {
   "cell_type": "code",
   "execution_count": null,
   "id": "1c79dc92",
   "metadata": {},
   "outputs": [],
   "source": [
    "c.execute('''\n",
    "CREATE TABLE persons (\n",
    "    id INT,\n",
    "    salutation TEXT,\n",
    "    name TEXT,\n",
    "    age INT);\n",
    "''')\n",
    "conn.commit()"
   ]
  },
  {
   "cell_type": "code",
   "execution_count": null,
   "id": "a5d9ccf5",
   "metadata": {},
   "outputs": [],
   "source": [
    "data = [\n",
    "    (1, 'Mr', 'Rizki Sanjaya', 25),\n",
    "    (2, 'Mr', 'Andi William', 27),\n",
    "    (3, 'Mr', 'Susi Andini', 30)\n",
    "]\n",
    "c.executemany('INSERT INTO persons VALUES (?,?,?,?)', data)\n",
    "\n",
    "conn.commit()"
   ]
  },
  {
   "cell_type": "code",
   "execution_count": null,
   "id": "1fd50ce3",
   "metadata": {},
   "outputs": [],
   "source": [
    "import pandas as pd\n",
    "\n",
    "pd.read_sql_query(\"SELECT * FROM persons\", conn)"
   ]
  },
  {
   "cell_type": "code",
   "execution_count": null,
   "id": "652a8388",
   "metadata": {},
   "outputs": [],
   "source": [
    "SELECT CONCAT(salutation, ' ', name) AS fullname\n",
    "FROM persons;"
   ]
  },
  {
   "cell_type": "markdown",
   "id": "1a2af34d",
   "metadata": {},
   "source": [
    "Try in python using SQLite (CONCAT is not supported by SQLite. In SQLite, you can use the || operator to concatenate strings.)"
   ]
  },
  {
   "cell_type": "code",
   "execution_count": null,
   "id": "97d8130b",
   "metadata": {},
   "outputs": [],
   "source": [
    "import pandas as pd\n",
    "\n",
    "pd.read_sql_query(\"SELECT (salutation || ' ' || name) AS fullname FROM persons\", conn)"
   ]
  },
  {
   "cell_type": "markdown",
   "id": "ed163a3c",
   "metadata": {},
   "source": [
    "The command above will combine the salutation and name columns using a space as a separator. The result will be as follows:"
   ]
  },
  {
   "cell_type": "markdown",
   "id": "499b9704",
   "metadata": {},
   "source": [
    "You can try using the aggregate functions explained in this online SQL compiler or the DBMS tool you are using."
   ]
  },
  {
   "cell_type": "markdown",
   "id": "57da5548",
   "metadata": {},
   "source": [
    "In addition to COUNT, there are other aggregate functions such as MIN, MAX, AVG, SUM, and others that you can read in W3 School - SQL Aggregate Function."
   ]
  },
  {
   "cell_type": "code",
   "execution_count": null,
   "id": "1cb731b0",
   "metadata": {},
   "outputs": [],
   "source": [
    "# Close the connection\n",
    "conn.close()"
   ]
  },
  {
   "cell_type": "markdown",
   "id": "50bc0041",
   "metadata": {},
   "source": [
    "Next, we continue into accessing and manipulating data in multiple tables using JOIN and TRANSACTION"
   ]
  }
 ],
 "metadata": {},
 "nbformat": 4,
 "nbformat_minor": 5
}
