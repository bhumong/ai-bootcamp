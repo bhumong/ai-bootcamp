{
 "cells": [
  {
   "cell_type": "markdown",
   "id": "3843d50b",
   "metadata": {},
   "source": [
    "source: [link](https://ai-bootcamp.ruangguru.com/learn/05_database/00_sql/01_sql-table.html)"
   ]
  },
  {
   "cell_type": "markdown",
   "id": "e65eed6b",
   "metadata": {},
   "source": [
    "# SQL Fundamentals with Python - Tables"
   ]
  },
  {
   "cell_type": "markdown",
   "id": "5145466f",
   "metadata": {},
   "source": [
    "# DML (Data Manipulation Language)"
   ]
  },
  {
   "cell_type": "markdown",
   "id": "b8b6f3a3",
   "metadata": {},
   "source": [
    "# What is DML?"
   ]
  },
  {
   "cell_type": "markdown",
   "id": "22a80d0a",
   "metadata": {},
   "source": [
    "Data Manipulation Language (DML) is used to modify data in a database. DML is responsible for all forms of data changes within the database."
   ]
  },
  {
   "cell_type": "markdown",
   "id": "5eb12c1e",
   "metadata": {},
   "source": [
    "The most frequently used DML commands are INSERT, UPDATE, and DELETE. Let’s discuss these commands by continuing with the example table that was created earlier."
   ]
  },
  {
   "cell_type": "markdown",
   "id": "51bf823f",
   "metadata": {},
   "source": [
    "The table has the following structure and data:"
   ]
  },
  {
   "cell_type": "markdown",
   "id": "8784a31e",
   "metadata": {},
   "source": [
    "| id | name | age | address | salary |\n",
    "| --- | --- | --- | --- | --- |\n",
    "| 1 | Rizki | 25 | Jl. Kebon Jeruk | 2000000 |\n",
    "| 2 | Andi | 27 | Jl. Kebon Sirih | 3000000 |\n",
    "| 3 | Budi | 30 | Jl. Kebon Melati | 4000000 |\n",
    "| 4 | Caca | 32 | Jl. Kebon Anggrek | 5000000 |\n",
    "| 5 | Deni | 35 | Jl. Kebon Mawar | 6000000 |"
   ]
  },
  {
   "cell_type": "markdown",
   "id": "cbcad568",
   "metadata": {},
   "source": [
    "In the DDL material, we have already created a database and this table, let’s add the data above into the table that is already created:"
   ]
  },
  {
   "cell_type": "code",
   "execution_count": null,
   "id": "107ddf97",
   "metadata": {},
   "outputs": [],
   "source": [
    "-- create database\n",
    "CREATE DATABASE db_employee;\n",
    "\n",
    "-- use database\n",
    "USE db_employee;\n",
    "\n",
    "-- create table\n",
    "CREATE TABLE employees (\n",
    "  id SERIAL PRIMARY KEY,\n",
    "  name VARCHAR(50) NOT NULL,\n",
    "  age INT NOT NULL,\n",
    "  address VARCHAR(100),\n",
    "  salary INT\n",
    ");"
   ]
  },
  {
   "cell_type": "markdown",
   "id": "b3892747",
   "metadata": {},
   "source": [
    "Try in python using SQLite"
   ]
  },
  {
   "cell_type": "code",
   "execution_count": null,
   "id": "e84ba8c6",
   "metadata": {},
   "outputs": [],
   "source": [
    "import sqlite3\n",
    "\n",
    "# Connect to the SQLite database\n",
    "# If the database does not exist, it will be created\n",
    "conn = sqlite3.connect('db/sqlite.db')\n",
    "\n",
    "# Create a cursor object\n",
    "cur = conn.cursor()"
   ]
  },
  {
   "cell_type": "code",
   "execution_count": null,
   "id": "f2ad612e",
   "metadata": {},
   "outputs": [],
   "source": [
    "# Execute a SQL command: this creates a new table\n",
    "cur.execute('''\n",
    "    CREATE TABLE employees (\n",
    "        id INTEGER,\n",
    "        name TEXT NOT NULL,\n",
    "        age INTEGER NOT NULL,\n",
    "        address TEXT,\n",
    "        salary INTEGER\n",
    "    )\n",
    "''')\n",
    "\n",
    "# Commit the transaction\n",
    "conn.commit()"
   ]
  },
  {
   "cell_type": "markdown",
   "id": "9c1542af",
   "metadata": {},
   "source": [
    "We will continue with examples of DML commands."
   ]
  },
  {
   "cell_type": "markdown",
   "id": "fcca3952",
   "metadata": {},
   "source": [
    "# INSERT"
   ]
  },
  {
   "cell_type": "markdown",
   "id": "f7bf3159",
   "metadata": {},
   "source": [
    "We can use the INSERT command to add new data into a table. The INSERT command has the following structure:"
   ]
  },
  {
   "cell_type": "code",
   "execution_count": null,
   "id": "498a30b4",
   "metadata": {},
   "outputs": [],
   "source": [
    "INSERT INTO <table-name> VALUES (column1, column2, column3, ...)"
   ]
  },
  {
   "cell_type": "markdown",
   "id": "ff296783",
   "metadata": {},
   "source": [
    "Looking at the example above, we can see that the INSERT command has two parts, namely the INSERT INTO part and the VALUES part. The INSERT INTO part is used to designate which table we will add data to, where <table-name> is the name of the table that we will add data to. The VALUES part is used to specify what data we will add into the table."
   ]
  },
  {
   "cell_type": "markdown",
   "id": "85d0a997",
   "metadata": {},
   "source": [
    "Here is an example of an INSERT command that will add new data into the employees table:"
   ]
  },
  {
   "cell_type": "code",
   "execution_count": null,
   "id": "12c83de4",
   "metadata": {},
   "outputs": [],
   "source": [
    "INSERT INTO employees VALUES (1, 'Rizki', 25, 'Jl. Kebon Jeruk', 2000000);"
   ]
  },
  {
   "cell_type": "markdown",
   "id": "6910c771",
   "metadata": {},
   "source": [
    "Try in python using SQLite"
   ]
  },
  {
   "cell_type": "code",
   "execution_count": null,
   "id": "57a139c5",
   "metadata": {},
   "outputs": [],
   "source": [
    "cur.execute(\"INSERT INTO employees VALUES (1, 'Rizki', 25, 'Jl. Kebon Jeruk', 2000000)\")\n",
    "conn.commit()"
   ]
  },
  {
   "cell_type": "markdown",
   "id": "c9c700b6",
   "metadata": {},
   "source": [
    "See the table:"
   ]
  },
  {
   "cell_type": "code",
   "execution_count": null,
   "id": "b1b83ce6",
   "metadata": {},
   "outputs": [],
   "source": [
    "import pandas as pd\n",
    "\n",
    "pd.read_sql_query(\"SELECT * FROM employees\", conn)"
   ]
  },
  {
   "cell_type": "markdown",
   "id": "d7b51d7a",
   "metadata": {},
   "source": [
    "|  | id | name | age | address | salary |\n",
    "| --- | --- | --- | --- | --- | --- |\n",
    "| 0 | 1 | Rizki | 25 | Jl. Kebon Jeruk | 2000000 |"
   ]
  },
  {
   "cell_type": "markdown",
   "id": "cc9b988c",
   "metadata": {},
   "source": [
    "When adding string data in SQL we must use a single quote (') to mark that the data is a string, like 'Rizky'. If we do not use a single quote, then the data will be considered invalid."
   ]
  },
  {
   "cell_type": "markdown",
   "id": "aca7d5e8",
   "metadata": {},
   "source": [
    "The result will be as follows:"
   ]
  },
  {
   "cell_type": "markdown",
   "id": "7b2e497a",
   "metadata": {},
   "source": [
    "| id | name | age | address | salary |\n",
    "| --- | --- | --- | --- | --- |\n",
    "| 1 | Rizki | 265 | Jl. Kebon Jeruk | 2000000 |"
   ]
  },
  {
   "cell_type": "markdown",
   "id": "39477cfc",
   "metadata": {},
   "source": [
    "The command above will add new data into the employees table, the data will be filled in according to the order of the columns in the table. 1 will be filled into the id column, 'Rizki' will be filled into the name column, and 25 will be filled into the age column and so forth."
   ]
  },
  {
   "cell_type": "markdown",
   "id": "a563a51d",
   "metadata": {},
   "source": [
    "If we want to add new data into specific columns, we can add the column name in the INSERT INTO section as follows:"
   ]
  },
  {
   "cell_type": "code",
   "execution_count": null,
   "id": "ecf070aa",
   "metadata": {},
   "outputs": [],
   "source": [
    "INSERT INTO employee (id, name, age) VALUES (1, 'Rizki', 25);"
   ]
  },
  {
   "cell_type": "markdown",
   "id": "e4094646",
   "metadata": {},
   "source": [
    "Try in python using SQLite"
   ]
  },
  {
   "cell_type": "code",
   "execution_count": null,
   "id": "1b76a483",
   "metadata": {},
   "outputs": [],
   "source": [
    "cur.execute(\"INSERT INTO employees (id, name, age) VALUES (1, 'Rizki', 25)\")\n",
    "conn.commit()"
   ]
  },
  {
   "cell_type": "markdown",
   "id": "41645dda",
   "metadata": {},
   "source": [
    "See the table:"
   ]
  },
  {
   "cell_type": "code",
   "execution_count": null,
   "id": "203f4a50",
   "metadata": {},
   "outputs": [],
   "source": [
    "import pandas as pd\n",
    "\n",
    "pd.read_sql_query(\"SELECT * FROM employees\", conn)"
   ]
  },
  {
   "cell_type": "markdown",
   "id": "016dc3c0",
   "metadata": {},
   "source": [
    "|  | id | name | age | address | salary |\n",
    "| --- | --- | --- | --- | --- | --- |\n",
    "| 0 | 1 | Rizki | 25 | Jl. Kebon Jeruk | 2000000.0 |\n",
    "| 1 | 1 | Rizki | 25 | None | NaN |"
   ]
  },
  {
   "cell_type": "markdown",
   "id": "a6f0af62",
   "metadata": {},
   "source": [
    "The result will be:"
   ]
  },
  {
   "cell_type": "markdown",
   "id": "ae225fa9",
   "metadata": {},
   "source": [
    "| id | name | age | address | salary |\n",
    "| --- | --- | --- | --- | --- |\n",
    "| 1 | Rizki | 265 | NULL | NULL |"
   ]
  },
  {
   "cell_type": "markdown",
   "id": "4f58bf65",
   "metadata": {},
   "source": [
    "The example above is adding new data into the id, name, and age columns. Because we are only adding data into the id, name, and age columns, the address and salary columns will be filled with NULL values."
   ]
  },
  {
   "cell_type": "markdown",
   "id": "442eae29",
   "metadata": {},
   "source": [
    "Please note, NULL data is data that has no value, if we want to set it so that the column cannot be filled with NULL data, we can use the NOT NULL constraints when creating the column."
   ]
  },
  {
   "cell_type": "markdown",
   "id": "203050ea",
   "metadata": {},
   "source": [
    "We can also add NULL data into a specific column, just like adding other data:"
   ]
  },
  {
   "cell_type": "code",
   "execution_count": null,
   "id": "edb5196b",
   "metadata": {},
   "outputs": [],
   "source": [
    "INSERT INTO employee (id, name, age, address, salary) VALUES (1, 'Rizki', 25, NULL, NULL);"
   ]
  },
  {
   "cell_type": "markdown",
   "id": "370f72c4",
   "metadata": {},
   "source": [
    "Try in python using SQLite"
   ]
  },
  {
   "cell_type": "code",
   "execution_count": null,
   "id": "33a9d072",
   "metadata": {},
   "outputs": [],
   "source": [
    "cur.execute(\"INSERT INTO employees (id, name, age, address, salary) VALUES (1, 'Rizki', 25, NULL, NULL)\")\n",
    "conn.commit()"
   ]
  },
  {
   "cell_type": "markdown",
   "id": "83acdafd",
   "metadata": {},
   "source": [
    "See the table:"
   ]
  },
  {
   "cell_type": "code",
   "execution_count": null,
   "id": "c4381976",
   "metadata": {},
   "outputs": [],
   "source": [
    "import pandas as pd\n",
    "\n",
    "pd.read_sql_query(\"SELECT * FROM employees\", conn)"
   ]
  },
  {
   "cell_type": "markdown",
   "id": "4e383a35",
   "metadata": {},
   "source": [
    "|  | id | name | age | address | salary |\n",
    "| --- | --- | --- | --- | --- | --- |\n",
    "| 0 | 1 | Rizki | 25 | Jl. Kebon Jeruk | 2000000.0 |\n",
    "| 1 | 1 | Rizki | 25 | None | NaN |\n",
    "| 2 | 1 | Rizki | 25 | None | NaN |"
   ]
  },
  {
   "cell_type": "markdown",
   "id": "d5cd1a9e",
   "metadata": {},
   "source": [
    "Finally, we can add more than one data into a table using the INSERT command separated by \",\", as follows:"
   ]
  },
  {
   "cell_type": "code",
   "execution_count": null,
   "id": "d7d12697",
   "metadata": {},
   "outputs": [],
   "source": [
    "INSERT INTO employees\n",
    "VALUES (1, 'Rizki', 25, 'Jl. Kebon Jeruk', 2000000),\n",
    "(2, 'Andi', 27, 'Jl. Kebon Sirih', 3000000),\n",
    "(3, 'Budi', 30, 'Jl. Kebon Melati', 4000000),\n",
    "(4, 'Caca', 32, 'Jl. Kebon Anggrek', 5000000),\n",
    "(5, 'Deni', 35, 'Jl. Kebon Mawar', 6000000);"
   ]
  },
  {
   "cell_type": "markdown",
   "id": "4098bf88",
   "metadata": {},
   "source": [
    "It can also be done using specific columns:"
   ]
  },
  {
   "cell_type": "code",
   "execution_count": null,
   "id": "e3d6d497",
   "metadata": {},
   "outputs": [],
   "source": [
    "INSERT INTO employees (id, name, age)\n",
    "VALUES (1, 'Rizki', 25),\n",
    "(2, 'Andi', 27),\n",
    "(3, 'Budi', 30),\n",
    "(4, 'Caca', 32),\n",
    "(5, 'Deni', 35);"
   ]
  },
  {
   "cell_type": "markdown",
   "id": "174a3b78",
   "metadata": {},
   "source": [
    "As a result, it will add 5 new data into the employees table."
   ]
  },
  {
   "cell_type": "markdown",
   "id": "8d6c7b1d",
   "metadata": {},
   "source": [
    "You can try adding new data into the employees table with the above INSERT command in this online SQL compiler or the SQLite tool you are using."
   ]
  },
  {
   "cell_type": "markdown",
   "id": "debe82dc",
   "metadata": {},
   "source": [
    "Try in python using SQLite"
   ]
  },
  {
   "cell_type": "code",
   "execution_count": null,
   "id": "efbddbcf",
   "metadata": {},
   "outputs": [],
   "source": [
    "# Insert multiple data rows into the table\n",
    "data = [\n",
    "    (2, 'Andi', 27, 'Jl. Kebon Sirih', 3000000),\n",
    "    (3, 'Budi', 30, 'Jl. Kebon Melati', 4000000),\n",
    "    (4, 'Caca', 32, 'Jl. Kebon Anggrek', 5000000),\n",
    "    (5, 'Deni', 35, 'Jl. Kebon Mawar', 6000000)\n",
    "]\n",
    "\n",
    "cur.executemany(\"INSERT INTO employees VALUES (?, ?, ?, ?, ?)\", data)\n",
    "conn.commit()"
   ]
  },
  {
   "cell_type": "markdown",
   "id": "e122afee",
   "metadata": {},
   "source": [
    "See the table:"
   ]
  },
  {
   "cell_type": "code",
   "execution_count": null,
   "id": "7d3b2256",
   "metadata": {},
   "outputs": [],
   "source": [
    "import pandas as pd\n",
    "\n",
    "pd.read_sql_query(\"SELECT * FROM employees\", conn)"
   ]
  },
  {
   "cell_type": "markdown",
   "id": "32da6efc",
   "metadata": {},
   "source": [
    "|  | id | name | age | address | salary |\n",
    "| --- | --- | --- | --- | --- | --- |\n",
    "| 0 | 1 | Rizki | 25 | Jl. Kebon Jeruk | 2000000.0 |\n",
    "| 1 | 1 | Rizki | 25 | None | NaN |\n",
    "| 2 | 1 | Rizki | 25 | None | NaN |\n",
    "| 3 | 2 | Andi | 27 | Jl. Kebon Sirih | 3000000.0 |\n",
    "| 4 | 3 | Budi | 30 | Jl. Kebon Melati | 4000000.0 |\n",
    "| 5 | 4 | Caca | 32 | Jl. Kebon Anggrek | 5000000.0 |\n",
    "| 6 | 5 | Deni | 35 | Jl. Kebon Mawar | 6000000.0 |"
   ]
  },
  {
   "cell_type": "markdown",
   "id": "db50f5a6",
   "metadata": {},
   "source": [
    "# UPDATE"
   ]
  },
  {
   "cell_type": "markdown",
   "id": "c1cd6ae0",
   "metadata": {},
   "source": [
    "The UPDATE command is used to modify existing data in a table. The UPDATE command has the following structure:"
   ]
  },
  {
   "cell_type": "code",
   "execution_count": null,
   "id": "82dc7b45",
   "metadata": {},
   "outputs": [],
   "source": [
    "UPDATE <table-name>\n",
    "SET <column-name> = <new-value>\n",
    "WHERE <condition>;"
   ]
  },
  {
   "cell_type": "markdown",
   "id": "9ef6992c",
   "metadata": {},
   "source": [
    "Where <table-name> is the name of the table whose data we will change, <column-name> is the name of the column whose data we will change, <new-value> is the new value that we will insert into that column, and <condition> is the condition that will determine which data we will modify."
   ]
  },
  {
   "cell_type": "markdown",
   "id": "a83f393a",
   "metadata": {},
   "source": [
    "Here is an example of the UPDATE command that will modify the data in the employees table:"
   ]
  },
  {
   "cell_type": "code",
   "execution_count": null,
   "id": "cd168d8c",
   "metadata": {},
   "outputs": [],
   "source": [
    "UPDATE employees\n",
    "SET name = 'Rizal', age = 26\n",
    "WHERE id = 1;"
   ]
  },
  {
   "cell_type": "markdown",
   "id": "ce99ecc1",
   "metadata": {},
   "source": [
    "Try in python using SQLite"
   ]
  },
  {
   "cell_type": "code",
   "execution_count": null,
   "id": "a4026bdb",
   "metadata": {},
   "outputs": [],
   "source": [
    "# Update data in the table\n",
    "cur.execute(\"UPDATE employees SET name = 'Rizal', age = 26 WHERE id = 1\")\n",
    "conn.commit()"
   ]
  },
  {
   "cell_type": "markdown",
   "id": "bea601db",
   "metadata": {},
   "source": [
    "See the table:"
   ]
  },
  {
   "cell_type": "code",
   "execution_count": null,
   "id": "55ac852b",
   "metadata": {},
   "outputs": [],
   "source": [
    "import pandas as pd\n",
    "\n",
    "pd.read_sql_query(\"SELECT * FROM employees\", conn)"
   ]
  },
  {
   "cell_type": "markdown",
   "id": "9677f687",
   "metadata": {},
   "source": [
    "|  | id | name | age | address | salary |\n",
    "| --- | --- | --- | --- | --- | --- |\n",
    "| 0 | 1 | Rizal | 26 | Jl. Kebon Jeruk | 2000000.0 |\n",
    "| 1 | 1 | Rizal | 26 | None | NaN |\n",
    "| 2 | 1 | Rizal | 26 | None | NaN |\n",
    "| 3 | 2 | Andi | 27 | Jl. Kebon Sirih | 3000000.0 |\n",
    "| 4 | 3 | Budi | 30 | Jl. Kebon Melati | 4000000.0 |\n",
    "| 5 | 4 | Caca | 32 | Jl. Kebon Anggrek | 5000000.0 |\n",
    "| 6 | 5 | Deni | 35 | Jl. Kebon Mawar | 6000000.0 |"
   ]
  },
  {
   "cell_type": "markdown",
   "id": "a48d0eac",
   "metadata": {},
   "source": [
    "In the example above, we are changing the name data to 'Rizal' and the age data to 26, separating the columns we will change with \",\". And the data being modified is the one with id = 1."
   ]
  },
  {
   "cell_type": "markdown",
   "id": "bcafb031",
   "metadata": {},
   "source": [
    "Data before modification:"
   ]
  },
  {
   "cell_type": "markdown",
   "id": "aa7bc52a",
   "metadata": {},
   "source": [
    "| id | name | age | address | salary |\n",
    "| --- | --- | --- | --- | --- |\n",
    "| 1 | Rizki | 25 | Jl. Kebon Jeruk | 2000000 |\n",
    "| 2 | Andi | 27 | Jl. Kebon Sirih | 3000000 |\n",
    "| 3 | Budi | 30 | Jl. Kebon Melati | 4000000 |"
   ]
  },
  {
   "cell_type": "markdown",
   "id": "68a59bbd",
   "metadata": {},
   "source": [
    "Data after modification:"
   ]
  },
  {
   "cell_type": "markdown",
   "id": "14638d91",
   "metadata": {},
   "source": [
    "| id | name | age | address | salary |\n",
    "| --- | --- | --- | --- | --- |\n",
    "| 1 | Rizal | 26 | Jl. Kebon Jeruk | 2000000 |\n",
    "| 2 | Andi | 27 | Jl. Kebon Sirih | 3000000 |\n",
    "| 3 | Budi | 30 | Jl. Kebon Melati | 4000000 |"
   ]
  },
  {
   "cell_type": "markdown",
   "id": "6644a626",
   "metadata": {},
   "source": [
    "ATTENTION !!"
   ]
  },
  {
   "cell_type": "markdown",
   "id": "25a8fd46",
   "metadata": {},
   "source": [
    "Make sure to add WHERE so that we do not change all the data in the table. If we do not add WHERE, then all the data in the table will be changed. The example above is where we only change data that has id = 1, so the name and age data only changes the data at id 1."
   ]
  },
  {
   "cell_type": "markdown",
   "id": "a27adc66",
   "metadata": {},
   "source": [
    "You can try modifying the data in the employees table with the above UPDATE command using this online SQL compiler or the DBMS tool you are using."
   ]
  },
  {
   "cell_type": "markdown",
   "id": "d500b3c3",
   "metadata": {},
   "source": [
    "# DELETE"
   ]
  },
  {
   "cell_type": "markdown",
   "id": "fbdf67a2",
   "metadata": {},
   "source": [
    "The DELETE command is used to remove existing data from a table. The DELETE command has the following structure:"
   ]
  },
  {
   "cell_type": "code",
   "execution_count": null,
   "id": "6d54e5ff",
   "metadata": {},
   "outputs": [],
   "source": [
    "DELETE FROM <table-name>\n",
    "WHERE <condition>;"
   ]
  },
  {
   "cell_type": "markdown",
   "id": "e7f23dfa",
   "metadata": {},
   "source": [
    "Where <table-name> is the name of the table whose data we will delete, and <condition> is the condition that will determine which data we will delete."
   ]
  },
  {
   "cell_type": "markdown",
   "id": "3fd7bc57",
   "metadata": {},
   "source": [
    "Here is an example of the DELETE command that will delete data in the employees table:"
   ]
  },
  {
   "cell_type": "code",
   "execution_count": null,
   "id": "39057d23",
   "metadata": {},
   "outputs": [],
   "source": [
    "DELETE FROM employees\n",
    "WHERE id = 1;"
   ]
  },
  {
   "cell_type": "markdown",
   "id": "c7da75e6",
   "metadata": {},
   "source": [
    "Try in python using SQLite"
   ]
  },
  {
   "cell_type": "code",
   "execution_count": null,
   "id": "ce51f2ab",
   "metadata": {},
   "outputs": [],
   "source": [
    "# Delete data from the table\n",
    "cur.execute(\"DELETE FROM employees WHERE id = 1\")\n",
    "conn.commit()"
   ]
  },
  {
   "cell_type": "markdown",
   "id": "0e46a930",
   "metadata": {},
   "source": [
    "See the table:"
   ]
  },
  {
   "cell_type": "code",
   "execution_count": null,
   "id": "19400e31",
   "metadata": {},
   "outputs": [],
   "source": [
    "import pandas as pd\n",
    "\n",
    "pd.read_sql_query(\"SELECT * FROM employees\", conn)"
   ]
  },
  {
   "cell_type": "markdown",
   "id": "b80c3fe2",
   "metadata": {},
   "source": [
    "|  | id | name | age | address | salary |\n",
    "| --- | --- | --- | --- | --- | --- |\n",
    "| 0 | 2 | Andi | 27 | Jl. Kebon Sirih | 3000000 |\n",
    "| 1 | 3 | Budi | 30 | Jl. Kebon Melati | 4000000 |\n",
    "| 2 | 4 | Caca | 32 | Jl. Kebon Anggrek | 5000000 |\n",
    "| 3 | 5 | Deni | 35 | Jl. Kebon Mawar | 6000000 |"
   ]
  },
  {
   "cell_type": "markdown",
   "id": "f37d2b8e",
   "metadata": {},
   "source": [
    "In the example above, we are deleting data with id = 1."
   ]
  },
  {
   "cell_type": "markdown",
   "id": "73610e71",
   "metadata": {},
   "source": [
    "Data before deletion:"
   ]
  },
  {
   "cell_type": "markdown",
   "id": "306aecad",
   "metadata": {},
   "source": [
    "| id | name | age | address | salary |\n",
    "| --- | --- | --- | --- | --- |\n",
    "| 1 | Rizal | 26 | Jl. Kebon Jeruk | 2000000 |\n",
    "| 2 | Andi | 27 | Jl. Kebon Sirih | 3000000 |\n",
    "| 3 | Budi | 30 | Jl. Kebon Melati | 4000000 |"
   ]
  },
  {
   "cell_type": "markdown",
   "id": "1f470a46",
   "metadata": {},
   "source": [
    "Data after deletion:"
   ]
  },
  {
   "cell_type": "markdown",
   "id": "d091a186",
   "metadata": {},
   "source": [
    "| id | name | age | address | salary |\n",
    "| --- | --- | --- | --- | --- |\n",
    "| 2 | Andi | 27 | Jl. Kebon Sirih | 3000000 |\n",
    "| 3 | Budi | 30 | Jl. Kebon Melati | 4000000 |"
   ]
  },
  {
   "cell_type": "markdown",
   "id": "8dc36500",
   "metadata": {},
   "source": [
    "ATTENTION !!"
   ]
  },
  {
   "cell_type": "markdown",
   "id": "1f0c82cc",
   "metadata": {},
   "source": [
    "Make sure to add WHERE just like UPDATE so we do not delete all the data in the table. If we do not add WHERE, then all the data in the table will be deleted. The example above is where we only delete data that has id = 1, so the name and age data only changes the data at id 1."
   ]
  },
  {
   "cell_type": "markdown",
   "id": "468bfe1d",
   "metadata": {},
   "source": [
    "You can try deleting data in the employees table with the above DELETE command using this online SQL compiler or the DBMS tool you are using."
   ]
  },
  {
   "cell_type": "code",
   "execution_count": null,
   "id": "0ba6ac5c",
   "metadata": {},
   "outputs": [],
   "source": [
    "# Close the connection\n",
    "conn.close()"
   ]
  },
  {
   "cell_type": "markdown",
   "id": "51f808ad",
   "metadata": {},
   "source": [
    "# DQL (Data Query Language)"
   ]
  },
  {
   "cell_type": "markdown",
   "id": "7caf582f",
   "metadata": {},
   "source": [
    "# What is DQL?"
   ]
  },
  {
   "cell_type": "markdown",
   "id": "1168afee",
   "metadata": {},
   "source": [
    "Data Query Language (DQL) is used to retrieve data from a table in a database. The purpose of DQL is to obtain data using SQL commands. The SQL command used is SELECT."
   ]
  },
  {
   "cell_type": "markdown",
   "id": "a3f29743",
   "metadata": {},
   "source": [
    "Let’s continue with the data we have created in the previous section."
   ]
  },
  {
   "cell_type": "markdown",
   "id": "659f0ee5",
   "metadata": {},
   "source": [
    "| id | name | age | address | salary |\n",
    "| --- | --- | --- | --- | --- |\n",
    "| 1 | Rizki | 25 | Jl. Kebon Jeruk | 2000000 |\n",
    "| 2 | Andi | 27 | Jl. Kebon Sirih | 3000000 |\n",
    "| 3 | Budi | 30 | Jl. Kebon Melati | 4000000 |\n",
    "| 4 | Caca | 32 | Jl. Kebon Anggrek | 5000000 |\n",
    "| 5 | Deni | 35 | Jl. Kebon Mawar | 6000000 |"
   ]
  },
  {
   "cell_type": "markdown",
   "id": "5b5cd4f1",
   "metadata": {},
   "source": [
    "Then we try to save this data into the employees table with the following SQL command:"
   ]
  },
  {
   "cell_type": "code",
   "execution_count": null,
   "id": "4d90d3be",
   "metadata": {},
   "outputs": [],
   "source": [
    "-- create data in table employee\n",
    "INSERT INTO employees (id, name, age, address, salary)\n",
    "VALUES (1, 'Rizki', 25, 'Jl. Kebon Jeruk', 2000000),\n",
    "(2, 'Andi', 27, 'Jl. Kebon Sirih', 3000000),\n",
    "(3, 'Budi', 30, 'Jl. Kebon Melati', 4000000),\n",
    "(4, 'Caca', 32, 'Jl. Kebon Anggrek', 5000000),\n",
    "(5, 'Deni', 35, 'Jl. Kebon Mawar', 6000000);"
   ]
  },
  {
   "cell_type": "code",
   "execution_count": null,
   "id": "57bbc403",
   "metadata": {},
   "outputs": [],
   "source": [
    "import sqlite3\n",
    "\n",
    "# Connect to SQLite database\n",
    "conn = sqlite3.connect('db/sqlite.db')\n",
    "\n",
    "# Create a cursor object\n",
    "c = conn.cursor()"
   ]
  },
  {
   "cell_type": "code",
   "execution_count": null,
   "id": "a740f7a4",
   "metadata": {},
   "outputs": [],
   "source": [
    "# Create table\n",
    "c.execute('''\n",
    "CREATE TABLE employees (\n",
    "    id INT,\n",
    "    name TEXT,\n",
    "    age INT,\n",
    "    address TEXT,\n",
    "    salary REAL);\n",
    "''')\n",
    "# Commit the transaction\n",
    "conn.commit()"
   ]
  },
  {
   "cell_type": "code",
   "execution_count": null,
   "id": "56c8177a",
   "metadata": {},
   "outputs": [],
   "source": [
    "# Insert data into the table\n",
    "data = [\n",
    "    (1, 'Rizki', 25, 'Jl. Kebon Jeruk', 2000000),\n",
    "    (2, 'Andi', 27, 'Jl. Kebon Sirih', 3000000),\n",
    "    (3, 'Budi', 30, 'Jl. Kebon Melati', 4000000),\n",
    "    (4, 'Caca', 32, 'Jl. Kebon Anggrek', 5000000),\n",
    "    (5, 'Deni', 35, 'Jl. Kebon Mawar', 6000000)\n",
    "]\n",
    "c.executemany('INSERT INTO employees VALUES (?,?,?,?,?)', data)\n",
    "\n",
    "# Commit the transaction\n",
    "conn.commit()"
   ]
  },
  {
   "cell_type": "markdown",
   "id": "91848ee5",
   "metadata": {},
   "source": [
    "# SELECT"
   ]
  },
  {
   "cell_type": "markdown",
   "id": "f48ce3e7",
   "metadata": {},
   "source": [
    "The SELECT command is used to retrieve data from a table. The SELECT command has a fairly complex syntax. Here is a simple command example to retrieve data from the employee table:"
   ]
  },
  {
   "cell_type": "code",
   "execution_count": null,
   "id": "c8b044fa",
   "metadata": {},
   "outputs": [],
   "source": [
    "SELECT * FROM employees;"
   ]
  },
  {
   "cell_type": "markdown",
   "id": "7a0be2ca",
   "metadata": {},
   "source": [
    "Retrieve all data from the employees table."
   ]
  },
  {
   "cell_type": "code",
   "execution_count": null,
   "id": "055911a8",
   "metadata": {},
   "outputs": [],
   "source": [
    "import pandas as pd\n",
    "\n",
    "pd.read_sql_query(\"SELECT * FROM employees\", conn)"
   ]
  },
  {
   "cell_type": "markdown",
   "id": "882b0b4c",
   "metadata": {},
   "source": [
    "|  | id | name | age | address | salary |\n",
    "| --- | --- | --- | --- | --- | --- |\n",
    "| 0 | 1 | Rizki | 25 | Jl. Kebon Jeruk | 2000000.0 |\n",
    "| 1 | 2 | Andi | 27 | Jl. Kebon Sirih | 3000000.0 |\n",
    "| 2 | 3 | Budi | 30 | Jl. Kebon Melati | 4000000.0 |\n",
    "| 3 | 4 | Caca | 32 | Jl. Kebon Anggrek | 5000000.0 |\n",
    "| 4 | 5 | Deni | 35 | Jl. Kebon Mawar | 6000000.0 |"
   ]
  },
  {
   "cell_type": "markdown",
   "id": "a38d617e",
   "metadata": {},
   "source": [
    "The command above will retrieve data in the employees table. We use * to retrieve all columns in the employee table. If we want to retrieve data from a specific column, we can write the column name in the SELECT command. For example:"
   ]
  },
  {
   "cell_type": "markdown",
   "id": "acb3b2b6",
   "metadata": {},
   "source": [
    "The results will be as follows:"
   ]
  },
  {
   "cell_type": "markdown",
   "id": "d6e67f3d",
   "metadata": {},
   "source": [
    "| id | name | age | address | salary |\n",
    "| --- | --- | --- | --- | --- |\n",
    "| 1 | Rizki | 25 | Jl. Kebon Jeruk | 2000000 |\n",
    "| 2 | Andi | 27 | Jl. Kebon Sirih | 3000000 |\n",
    "| 3 | Budi | 30 | Jl. Kebon Melati | 4000000 |\n",
    "| 4 | Caca | 32 | Jl. Kebon Anggrek | 5000000 |\n",
    "| 5 | Deni | 35 | Jl. Kebon Mawar | 6000000 |"
   ]
  },
  {
   "cell_type": "code",
   "execution_count": null,
   "id": "3a3d8b8d",
   "metadata": {},
   "outputs": [],
   "source": [
    "SELECT id, name, age FROM employees;"
   ]
  },
  {
   "cell_type": "markdown",
   "id": "f2a1fa6f",
   "metadata": {},
   "source": [
    "Retrieve specific columns (id, name, age) from the employees table."
   ]
  },
  {
   "cell_type": "code",
   "execution_count": null,
   "id": "468d5867",
   "metadata": {},
   "outputs": [],
   "source": [
    "import pandas as pd\n",
    "\n",
    "pd.read_sql_query(\"SELECT id, name, age FROM employees\", conn)"
   ]
  },
  {
   "cell_type": "markdown",
   "id": "8d3a307e",
   "metadata": {},
   "source": [
    "|  | id | name | age |\n",
    "| --- | --- | --- | --- |\n",
    "| 0 | 1 | Rizki | 25 |\n",
    "| 1 | 2 | Andi | 27 |\n",
    "| 2 | 3 | Budi | 30 |\n",
    "| 3 | 4 | Caca | 32 |\n",
    "| 4 | 5 | Deni | 35 |"
   ]
  },
  {
   "cell_type": "markdown",
   "id": "d76462e8",
   "metadata": {},
   "source": [
    "The command above will retrieve all data for several columns, we can write the column name separated by ,. Because in the command it writes the id, name and age columns on the employee table, the result will be as follows:"
   ]
  },
  {
   "cell_type": "markdown",
   "id": "2d6c42a3",
   "metadata": {},
   "source": [
    "| id | name | age |\n",
    "| --- | --- | --- |\n",
    "| 1 | Rizki | 25 |\n",
    "| 2 | Andi | 27 |\n",
    "| 3 | Budi | 30 |\n",
    "| 4 | Caca | 32 |\n",
    "| 5 | Deni | 35 |"
   ]
  },
  {
   "cell_type": "markdown",
   "id": "ca318d84",
   "metadata": {},
   "source": [
    "# WHERE"
   ]
  },
  {
   "cell_type": "markdown",
   "id": "6dcfc5ff",
   "metadata": {},
   "source": [
    "The WHERE command is used to filter the data to be retrieved. The WHERE command must be written after the SELECT command. For example:"
   ]
  },
  {
   "cell_type": "code",
   "execution_count": null,
   "id": "b4f4b4dc",
   "metadata": {},
   "outputs": [],
   "source": [
    "SELECT * FROM employees\n",
    "WHERE id = 1;"
   ]
  },
  {
   "cell_type": "markdown",
   "id": "dc1df4e8",
   "metadata": {},
   "source": [
    "Retrieve data from the employees table with id equals to 1."
   ]
  },
  {
   "cell_type": "code",
   "execution_count": null,
   "id": "28b8d2e1",
   "metadata": {},
   "outputs": [],
   "source": [
    "import pandas as pd\n",
    "\n",
    "pd.read_sql_query(\"SELECT * FROM employees WHERE id = 1\", conn)"
   ]
  },
  {
   "cell_type": "markdown",
   "id": "18a062c4",
   "metadata": {},
   "source": [
    "|  | id | name | age | address | salary |\n",
    "| --- | --- | --- | --- | --- | --- |\n",
    "| 0 | 1 | Rizki | 25 | Jl. Kebon Jeruk | 2000000.0 |"
   ]
  },
  {
   "cell_type": "markdown",
   "id": "47f20c3e",
   "metadata": {},
   "source": [
    "The command above will retrieve data from the employees table with id 1, so it only gets 1 data that has id 1. The result will be as follows:"
   ]
  },
  {
   "cell_type": "markdown",
   "id": "32855f51",
   "metadata": {},
   "source": [
    "| id | name | age | address | salary |\n",
    "| --- | --- | --- | --- | --- |\n",
    "| 1 | Rizki | 25 | Jl. Kebon Jeruk | 2000000 |"
   ]
  },
  {
   "cell_type": "markdown",
   "id": "d4cb5698",
   "metadata": {},
   "source": [
    "We can also use the WHERE command for logical operations. For example:"
   ]
  },
  {
   "cell_type": "code",
   "execution_count": null,
   "id": "b2f7d7cf",
   "metadata": {},
   "outputs": [],
   "source": [
    "SELECT * FROM employees\n",
    "WHERE age < 30;"
   ]
  },
  {
   "cell_type": "markdown",
   "id": "5bad7209",
   "metadata": {},
   "source": [
    "Retrieve data from the employees table with age less than 30."
   ]
  },
  {
   "cell_type": "code",
   "execution_count": null,
   "id": "b9026d8d",
   "metadata": {},
   "outputs": [],
   "source": [
    "import pandas as pd\n",
    "\n",
    "pd.read_sql_query(\"SELECT * FROM employees WHERE age < 30\", conn)"
   ]
  },
  {
   "cell_type": "markdown",
   "id": "612d9245",
   "metadata": {},
   "source": [
    "|  | id | name | age | address | salary |\n",
    "| --- | --- | --- | --- | --- | --- |\n",
    "| 0 | 1 | Rizki | 25 | Jl. Kebon Jeruk | 2000000.0 |\n",
    "| 1 | 2 | Andi | 27 | Jl. Kebon Sirih | 3000000.0 |"
   ]
  },
  {
   "cell_type": "markdown",
   "id": "f66ccc56",
   "metadata": {},
   "source": [
    "The command above will retrieve data from the employees table with ages less than 30 years, so it only gets 2 data that has an age less than 30 years. The result will be as follows:"
   ]
  },
  {
   "cell_type": "markdown",
   "id": "fb84fe5d",
   "metadata": {},
   "source": [
    "| id | name | age | address | salary |\n",
    "| --- | --- | --- | --- | --- |\n",
    "| 1 | Rizki | 25 | Jl. Kebon Jeruk | 2000000 |\n",
    "| 2 | Andi | 27 | Jl. Kebon Sirih | 3000000 |"
   ]
  },
  {
   "cell_type": "markdown",
   "id": "1c8fbd47",
   "metadata": {},
   "source": [
    "There are logical operations that can be used to combine several conditions namely AND and OR."
   ]
  },
  {
   "cell_type": "markdown",
   "id": "18abdf49",
   "metadata": {},
   "source": [
    "- ANDis used to combine several conditions withandlogic.\n",
    "- ORis used to combine several conditions withorlogic."
   ]
  },
  {
   "cell_type": "code",
   "execution_count": null,
   "id": "2fa9665c",
   "metadata": {},
   "outputs": [],
   "source": [
    "SELECT * FROM employees\n",
    "WHERE age < 30 AND salary > 2000000;"
   ]
  },
  {
   "cell_type": "markdown",
   "id": "990c8161",
   "metadata": {},
   "source": [
    "Retrieve data from the employees table with age less than 30 and more than 2000000."
   ]
  },
  {
   "cell_type": "code",
   "execution_count": null,
   "id": "3608a3f9",
   "metadata": {},
   "outputs": [],
   "source": [
    "import pandas as pd\n",
    "\n",
    "pd.read_sql_query(\"SELECT * FROM employees WHERE age < 30 AND salary > 2000000\", conn)"
   ]
  },
  {
   "cell_type": "markdown",
   "id": "b79be651",
   "metadata": {},
   "source": [
    "|  | id | name | age | address | salary |\n",
    "| --- | --- | --- | --- | --- | --- |\n",
    "| 0 | 2 | Andi | 27 | Jl. Kebon Sirih | 3000000.0 |"
   ]
  },
  {
   "cell_type": "markdown",
   "id": "77112094",
   "metadata": {},
   "source": [
    "The command above will retrieve data from the employee table with an age less than 30 years and a salary more than 2 million, so it only gets 1 data that has an age less than 30 years and a salary more than 2 million. The result will be as follows:"
   ]
  },
  {
   "cell_type": "markdown",
   "id": "95166f41",
   "metadata": {},
   "source": [
    "| id | name | age | address | salary |\n",
    "| --- | --- | --- | --- | --- |\n",
    "| 2 | Andi | 27 | Jl. Kebon Sirih | 3000000 |"
   ]
  },
  {
   "cell_type": "markdown",
   "id": "eeb6493e",
   "metadata": {},
   "source": [
    "# IN"
   ]
  },
  {
   "cell_type": "markdown",
   "id": "3561957d",
   "metadata": {},
   "source": [
    "The IN command is used to filter the data to be retrieved based on a dataset that contains several values. This command is combined with the WHERE command and must be written after it. For example:"
   ]
  },
  {
   "cell_type": "code",
   "execution_count": null,
   "id": "135e0a33",
   "metadata": {},
   "outputs": [],
   "source": [
    "SELECT * FROM employees\n",
    "WHERE id IN (1, 3, 5);"
   ]
  },
  {
   "cell_type": "markdown",
   "id": "b45c43f5",
   "metadata": {},
   "source": [
    "Retrieve data from the employees table with id in (1, 3, 5)."
   ]
  },
  {
   "cell_type": "code",
   "execution_count": null,
   "id": "061a4ff0",
   "metadata": {},
   "outputs": [],
   "source": [
    "import pandas as pd\n",
    "\n",
    "pd.read_sql_query(\"SELECT * FROM employees WHERE id IN (1, 3, 5)\", conn)"
   ]
  },
  {
   "cell_type": "markdown",
   "id": "54a9c748",
   "metadata": {},
   "source": [
    "|  | id | name | age | address | salary |\n",
    "| --- | --- | --- | --- | --- | --- |\n",
    "| 0 | 1 | Rizki | 25 | Jl. Kebon Jeruk | 2000000.0 |\n",
    "| 1 | 3 | Budi | 30 | Jl. Kebon Melati | 4000000.0 |\n",
    "| 2 | 5 | Deni | 35 | Jl. Kebon Mawar | 6000000.0 |"
   ]
  },
  {
   "cell_type": "markdown",
   "id": "29b50681",
   "metadata": {},
   "source": [
    "The command above will retrieve data from the employee table with id 1, 3 and 5, so it will get 3 data that has id 1, 3 and 5. The result will be as follows:"
   ]
  },
  {
   "cell_type": "markdown",
   "id": "bfe55869",
   "metadata": {},
   "source": [
    "| id | name | age | address | salary |\n",
    "| --- | --- | --- | --- | --- |\n",
    "| 1 | Rizki | 25 | Jl. Kebon Jeruk | 2000000 |\n",
    "| 3 | Budi | 30 | Jl. Kebon Melati | 4000000 |\n",
    "| 5 | Deni | 35 | Jl. Kebon Mawar | 6000000 |"
   ]
  },
  {
   "cell_type": "markdown",
   "id": "e15e7987",
   "metadata": {},
   "source": [
    "You can apply the basic SELECT command using this online SQL compiler or the DBMS tool you are using. Don’t forget to add data first before doing the SELECT command."
   ]
  },
  {
   "cell_type": "markdown",
   "id": "e714e8d3",
   "metadata": {},
   "source": [
    "# ORDER BY"
   ]
  },
  {
   "cell_type": "markdown",
   "id": "8e12f25f",
   "metadata": {},
   "source": [
    "The ORDER BY command is used to sort the data to be retrieved. This command is combined with the SELECT command and must be written after it. This command only has two types of sorting namely ASC and DESC."
   ]
  },
  {
   "cell_type": "markdown",
   "id": "0cb54df6",
   "metadata": {},
   "source": [
    "- ASCis used to sort data in ascending order (from small to large).\n",
    "- DESCis used to sort data in descending order (from large to small)."
   ]
  },
  {
   "cell_type": "markdown",
   "id": "793352c7",
   "metadata": {},
   "source": [
    "For example:"
   ]
  },
  {
   "cell_type": "code",
   "execution_count": null,
   "id": "55e744eb",
   "metadata": {},
   "outputs": [],
   "source": [
    "SELECT * FROM employees\n",
    "ORDER BY age DESC;"
   ]
  },
  {
   "cell_type": "markdown",
   "id": "d1c68f0b",
   "metadata": {},
   "source": [
    "Retrieve data from the employees table and order by age in descending order."
   ]
  },
  {
   "cell_type": "code",
   "execution_count": null,
   "id": "ccac0b85",
   "metadata": {},
   "outputs": [],
   "source": [
    "import pandas as pd\n",
    "\n",
    "pd.read_sql_query(\"SELECT * FROM employees ORDER BY age DESC\", conn)"
   ]
  },
  {
   "cell_type": "markdown",
   "id": "35d9af19",
   "metadata": {},
   "source": [
    "|  | id | name | age | address | salary |\n",
    "| --- | --- | --- | --- | --- | --- |\n",
    "| 0 | 5 | Deni | 35 | Jl. Kebon Mawar | 6000000.0 |\n",
    "| 1 | 4 | Caca | 32 | Jl. Kebon Anggrek | 5000000.0 |\n",
    "| 2 | 3 | Budi | 30 | Jl. Kebon Melati | 4000000.0 |\n",
    "| 3 | 2 | Andi | 27 | Jl. Kebon Sirih | 3000000.0 |\n",
    "| 4 | 1 | Rizki | 25 | Jl. Kebon Jeruk | 2000000.0 |"
   ]
  },
  {
   "cell_type": "markdown",
   "id": "3523a1e7",
   "metadata": {},
   "source": [
    "The command above will retrieve data from the employee table and sort it based on the age column in descending order (large to small), so it will get 5 data that is sorted based on age in descending order. The result will be as follows:"
   ]
  },
  {
   "cell_type": "markdown",
   "id": "ccefc5d3",
   "metadata": {},
   "source": [
    "| id | name | age | address | salary |\n",
    "| --- | --- | --- | --- | --- |\n",
    "| 5 | Deni | 35 | Jl. Kebon Mawar | 6000000 |\n",
    "| 4 | Caca | 32 | Jl. Kebon Kamboja | 5000000 |\n",
    "| 3 | Budi | 30 | Jl. Kebon Melati | 4000000 |\n",
    "| 2 | Andi | 27 | Jl. Kebon Sirih | 3000000 |\n",
    "| 1 | Rizki | 25 | Jl. Kebon Jeruk | 2000000 |"
   ]
  },
  {
   "cell_type": "markdown",
   "id": "ef863c45",
   "metadata": {},
   "source": [
    "# LIMIT"
   ]
  },
  {
   "cell_type": "markdown",
   "id": "5aade6ad",
   "metadata": {},
   "source": [
    "The LIMIT command is used to limit the number of data to be retrieved. The number of data to be retrieved will be determined by the parameter given by taking in order from the top data. This command is combined with the SELECT command and must be written after it. For example:"
   ]
  },
  {
   "cell_type": "code",
   "execution_count": null,
   "id": "b123fd41",
   "metadata": {},
   "outputs": [],
   "source": [
    "SELECT * FROM employees\n",
    "LIMIT 2;"
   ]
  },
  {
   "cell_type": "markdown",
   "id": "a56612e8",
   "metadata": {},
   "source": [
    "Retrieve 2 records from the employees table."
   ]
  },
  {
   "cell_type": "code",
   "execution_count": null,
   "id": "c15b342e",
   "metadata": {},
   "outputs": [],
   "source": [
    "import pandas as pd\n",
    "\n",
    "pd.read_sql_query(\"SELECT * FROM employee LIMIT 2\", conn)"
   ]
  },
  {
   "cell_type": "markdown",
   "id": "1892c7e8",
   "metadata": {},
   "source": [
    "|  | id | name | age | address | salary |\n",
    "| --- | --- | --- | --- | --- | --- |\n",
    "| 0 | 1 | Rizki | 25 | Jl. Kebon Jeruk | 2000000.0 |\n",
    "| 1 | 2 | Andi | 27 | Jl. Kebon Sirih | 3000000.0 |"
   ]
  },
  {
   "cell_type": "markdown",
   "id": "60ade1a0",
   "metadata": {},
   "source": [
    "The command above will retrieve data from the employee table and limit only 2 data to be retrieved (taken from the top), so it will get 3 data taken from the top data. The result will be as follows:"
   ]
  },
  {
   "cell_type": "markdown",
   "id": "5a5a356d",
   "metadata": {},
   "source": [
    "| id | name | age | address | salary |\n",
    "| --- | --- | --- | --- | --- |\n",
    "| 1 | Rizki | 25 | Jl. Kebon Jeruk | 2000000 |\n",
    "| 2 | Andi | 27 | Jl. Kebon Sirih | 3000000 |"
   ]
  },
  {
   "cell_type": "markdown",
   "id": "5799f1dd",
   "metadata": {},
   "source": [
    "# Aggregate function"
   ]
  },
  {
   "cell_type": "markdown",
   "id": "fca94927",
   "metadata": {},
   "source": [
    "An aggregate function is a function used to produce a value based on the data in a table. This function will produce one value only."
   ]
  },
  {
   "cell_type": "markdown",
   "id": "b277222b",
   "metadata": {},
   "source": [
    "Previously, we have retrieved data from the employee table using the SELECT command. We can use aggregate functions to get certain values from the data in the table. For example, getting the maximum or average value from the data in the salary column of the employee table. Or get the smallest value from all data in the age column."
   ]
  },
  {
   "cell_type": "markdown",
   "id": "045899db",
   "metadata": {},
   "source": [
    "There are many aggregate functions that can be used, but here we will discuss some functions that are most often used."
   ]
  },
  {
   "cell_type": "markdown",
   "id": "58d54186",
   "metadata": {},
   "source": [
    "# COUNT"
   ]
  },
  {
   "cell_type": "markdown",
   "id": "fb56bbbd",
   "metadata": {},
   "source": [
    "The COUNT function is a function used to count the number of rows in a table. The result of this function will produce one value only. For example:"
   ]
  },
  {
   "cell_type": "code",
   "execution_count": null,
   "id": "ebbeb054",
   "metadata": {},
   "outputs": [],
   "source": [
    "SELECT COUNT(*) FROM employees;"
   ]
  },
  {
   "cell_type": "markdown",
   "id": "27b41363",
   "metadata": {},
   "source": [
    "Count the number of records in the employees table."
   ]
  },
  {
   "cell_type": "code",
   "execution_count": null,
   "id": "2fc06bb7",
   "metadata": {},
   "outputs": [],
   "source": [
    "import pandas as pd\n",
    "\n",
    "pd.read_sql_query(\"SELECT COUNT(*) FROM employees\", conn)"
   ]
  },
  {
   "cell_type": "markdown",
   "id": "04bfff9f",
   "metadata": {},
   "source": [
    "|  | COUNT(*) |\n",
    "| --- | --- |\n",
    "| 0 | 5 |"
   ]
  },
  {
   "cell_type": "markdown",
   "id": "ffc8e99b",
   "metadata": {},
   "source": [
    "The command above will count the number of rows in the employee table in all columns and produce the value 5, because there are 5 data in the table. The result will be as follows:"
   ]
  },
  {
   "cell_type": "markdown",
   "id": "56773951",
   "metadata": {},
   "source": [
    "| COUNT(*) |\n",
    "| --- |\n",
    "| 5 |"
   ]
  },
  {
   "cell_type": "markdown",
   "id": "e01236bf",
   "metadata": {},
   "source": [
    "This function will not total the value of a specific column that has NULL data. For example, there is the following table data:"
   ]
  },
  {
   "cell_type": "markdown",
   "id": "0e5fa353",
   "metadata": {},
   "source": [
    "| id | name | age | address | salary |\n",
    "| --- | --- | --- | --- | --- |\n",
    "| 1 | Rizki | 25 | Jl. Kebon Jeruk | 2000000 |\n",
    "| 2 | Andi | 27 | NULL | 3000000 |\n",
    "| 3 | Budi | 30 | NULL | 4000000 |"
   ]
  },
  {
   "cell_type": "code",
   "execution_count": null,
   "id": "c8e294a4",
   "metadata": {},
   "outputs": [],
   "source": [
    "c.execute('DELETE FROM employees')\n",
    "\n",
    "data = [\n",
    "    (1, 'Rizki', 25, 'Jl. Kebon Jeruk', 2000000),\n",
    "    (2, 'Andi', 27, None, 3000000),\n",
    "    (3, 'Budi', 30, None, 4000000)\n",
    "]\n",
    "c.executemany('INSERT INTO employees VALUES (?,?,?,?,?)', data)\n",
    "\n",
    "conn.commit()"
   ]
  },
  {
   "cell_type": "markdown",
   "id": "56b2fd24",
   "metadata": {},
   "source": [
    "If we use the COUNT function on the address column, the result will be 1 because there is only one data that has a value in the address column. If we use the COUNT function on the salary column, the result will be 3 because all data has a value in the salary column."
   ]
  },
  {
   "cell_type": "markdown",
   "id": "69c09a92",
   "metadata": {},
   "source": [
    "- using theCOUNTfunction for theaddresscolumnSELECTCOUNT(address)FROMemployees;The result is as follows:COUNT(address)1\n",
    "- using theCOUNTfunction for thesalarycolumnSELECTCOUNT(salary)FROMemployees;The result is as follows:COUNT(salary)3"
   ]
  },
  {
   "cell_type": "markdown",
   "id": "c7602de1",
   "metadata": {},
   "source": [
    "using the COUNT function for the address column"
   ]
  },
  {
   "cell_type": "code",
   "execution_count": null,
   "id": "eb75431a",
   "metadata": {},
   "outputs": [],
   "source": [
    "SELECT COUNT(address) FROM employees;"
   ]
  },
  {
   "cell_type": "markdown",
   "id": "c8a64776",
   "metadata": {},
   "source": [
    "The result is as follows:"
   ]
  },
  {
   "cell_type": "markdown",
   "id": "39a0a6f1",
   "metadata": {},
   "source": [
    "| COUNT(address) |\n",
    "| --- |\n",
    "| 1 |"
   ]
  },
  {
   "cell_type": "markdown",
   "id": "96a7d008",
   "metadata": {},
   "source": [
    "using the COUNT function for the salary column"
   ]
  },
  {
   "cell_type": "code",
   "execution_count": null,
   "id": "e68ee3a3",
   "metadata": {},
   "outputs": [],
   "source": [
    "SELECT COUNT(salary) FROM employees;"
   ]
  },
  {
   "cell_type": "markdown",
   "id": "ce7bfa9d",
   "metadata": {},
   "source": [
    "The result is as follows:"
   ]
  },
  {
   "cell_type": "markdown",
   "id": "db48f0b0",
   "metadata": {},
   "source": [
    "| COUNT(salary) |\n",
    "| --- |\n",
    "| 3 |"
   ]
  },
  {
   "cell_type": "markdown",
   "id": "c1d68569",
   "metadata": {},
   "source": [
    "If we look at the results, the column name will become COUNT(address) and COUNT(salary). If we want to change the column name, we can use the AS command to change the column name. For example:"
   ]
  },
  {
   "cell_type": "code",
   "execution_count": null,
   "id": "9f0e08c4",
   "metadata": {},
   "outputs": [],
   "source": [
    "SELECT COUNT(address) AS total_address\n",
    "FROM employees;"
   ]
  },
  {
   "cell_type": "markdown",
   "id": "4fe3aa0a",
   "metadata": {},
   "source": [
    "Try in python using SQLite"
   ]
  },
  {
   "cell_type": "code",
   "execution_count": null,
   "id": "d0fdd519",
   "metadata": {},
   "outputs": [],
   "source": [
    "import pandas as pd\n",
    "\n",
    "pd.read_sql_query(\"SELECT COUNT(address) AS total_address FROM employees\", conn)"
   ]
  },
  {
   "cell_type": "markdown",
   "id": "6f5c88e1",
   "metadata": {},
   "source": [
    "|  | total_address |\n",
    "| --- | --- |\n",
    "| 0 | 1 |"
   ]
  },
  {
   "cell_type": "markdown",
   "id": "58f54577",
   "metadata": {},
   "source": [
    "By using AS we can change the column name to total_address. The result will be as follows:"
   ]
  },
  {
   "cell_type": "markdown",
   "id": "1d3314c3",
   "metadata": {},
   "source": [
    "| total_address |\n",
    "| --- |\n",
    "| 1 |"
   ]
  },
  {
   "cell_type": "markdown",
   "id": "9f707084",
   "metadata": {},
   "source": [
    "# CONCAT"
   ]
  },
  {
   "cell_type": "markdown",
   "id": "454eca17",
   "metadata": {},
   "source": [
    "The CONCAT function is a function used to combine two or more strings into one. This function will produce one string only."
   ]
  },
  {
   "cell_type": "code",
   "execution_count": null,
   "id": "e1ff0660",
   "metadata": {},
   "outputs": [],
   "source": [
    "CONCAT(string1, string2, string3, ...)"
   ]
  },
  {
   "cell_type": "markdown",
   "id": "4e989e70",
   "metadata": {},
   "source": [
    "For example, if there is a persons table with columns and data as follows:"
   ]
  },
  {
   "cell_type": "markdown",
   "id": "1953503e",
   "metadata": {},
   "source": [
    "| id | salutation | name | age |\n",
    "| --- | --- | --- | --- |\n",
    "| 1 | Mr | Rizki Sanjaya | 25 |\n",
    "| 2 | Mr | Andi William | 27 |\n",
    "| 3 | Ms | Susi Andini | 30 |"
   ]
  },
  {
   "cell_type": "markdown",
   "id": "90b666d0",
   "metadata": {},
   "source": [
    "We can combine the salutation and name columns into one column using the CONCAT function. For example:"
   ]
  },
  {
   "cell_type": "code",
   "execution_count": null,
   "id": "26a100ab",
   "metadata": {},
   "outputs": [],
   "source": [
    "c.execute('''\n",
    "CREATE TABLE persons (\n",
    "    id INT,\n",
    "    salutation TEXT,\n",
    "    name TEXT,\n",
    "    age INT);\n",
    "''')\n",
    "conn.commit()"
   ]
  },
  {
   "cell_type": "code",
   "execution_count": null,
   "id": "8f56791b",
   "metadata": {},
   "outputs": [],
   "source": [
    "data = [\n",
    "    (1, 'Mr', 'Rizki Sanjaya', 25),\n",
    "    (2, 'Mr', 'Andi William', 27),\n",
    "    (3, 'Mr', 'Susi Andini', 30)\n",
    "]\n",
    "c.executemany('INSERT INTO persons VALUES (?,?,?,?)', data)\n",
    "\n",
    "conn.commit()"
   ]
  },
  {
   "cell_type": "code",
   "execution_count": null,
   "id": "9f2433da",
   "metadata": {},
   "outputs": [],
   "source": [
    "import pandas as pd\n",
    "\n",
    "pd.read_sql_query(\"SELECT * FROM persons\", conn)"
   ]
  },
  {
   "cell_type": "markdown",
   "id": "e388ad1e",
   "metadata": {},
   "source": [
    "|  | id | salutation | name | age |\n",
    "| --- | --- | --- | --- | --- |\n",
    "| 0 | 1 | Mr | Rizki Sanjaya | 25 |\n",
    "| 1 | 2 | Mr | Andi William | 27 |\n",
    "| 2 | 3 | Mr | Susi Andini | 30 |"
   ]
  },
  {
   "cell_type": "code",
   "execution_count": null,
   "id": "d05a764e",
   "metadata": {},
   "outputs": [],
   "source": [
    "SELECT CONCAT(salutation, ' ', name) AS fullname\n",
    "FROM persons;"
   ]
  },
  {
   "cell_type": "markdown",
   "id": "f962d650",
   "metadata": {},
   "source": [
    "Try in python using SQLite (CONCAT is not supported by SQLite. In SQLite, you can use the || operator to concatenate strings.)"
   ]
  },
  {
   "cell_type": "code",
   "execution_count": null,
   "id": "e3499011",
   "metadata": {},
   "outputs": [],
   "source": [
    "import pandas as pd\n",
    "\n",
    "pd.read_sql_query(\"SELECT (salutation || ' ' || name) AS fullname FROM persons\", conn)"
   ]
  },
  {
   "cell_type": "markdown",
   "id": "19b74adb",
   "metadata": {},
   "source": [
    "|  | fullname |\n",
    "| --- | --- |\n",
    "| 0 | Mr Rizki Sanjaya |\n",
    "| 1 | Mr Andi William |\n",
    "| 2 | Mr Susi Andini |"
   ]
  },
  {
   "cell_type": "markdown",
   "id": "338e284a",
   "metadata": {},
   "source": [
    "The command above will combine the salutation and name columns using a space as a separator. The result will be as follows:"
   ]
  },
  {
   "cell_type": "markdown",
   "id": "cf1c7e81",
   "metadata": {},
   "source": [
    "| fullname |\n",
    "| --- |\n",
    "| Mr Rizki Sanjaya |\n",
    "| Mr Andi William |\n",
    "| Ms Susi Andini |"
   ]
  },
  {
   "cell_type": "markdown",
   "id": "152aa813",
   "metadata": {},
   "source": [
    "You can try using the aggregate functions explained in this online SQL compiler or the DBMS tool you are using."
   ]
  },
  {
   "cell_type": "markdown",
   "id": "62300bc8",
   "metadata": {},
   "source": [
    "In addition to COUNT, there are other aggregate functions such as MIN, MAX, AVG, SUM, and others that you can read in W3 School - SQL Aggregate Function."
   ]
  },
  {
   "cell_type": "code",
   "execution_count": null,
   "id": "61a5a723",
   "metadata": {},
   "outputs": [],
   "source": [
    "# Close the connection\n",
    "conn.close()"
   ]
  },
  {
   "cell_type": "markdown",
   "id": "33290cb5",
   "metadata": {},
   "source": [
    "Next, we continue into accessing and manipulating data in multiple tables using JOIN and TRANSACTION"
   ]
  }
 ],
 "metadata": {},
 "nbformat": 4,
 "nbformat_minor": 5
}
