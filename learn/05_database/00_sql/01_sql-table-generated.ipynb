{
 "cells": [
  {
   "cell_type": "markdown",
   "id": "1f8a1053",
   "metadata": {},
   "source": [
    "source: [link](https://ai-bootcamp.ruangguru.com/learn/05_database/00_sql/01_sql-table.html)"
   ]
  },
  {
   "cell_type": "markdown",
   "id": "3386f01f",
   "metadata": {},
   "source": [
    "# SQL Fundamentals with Python - Tables"
   ]
  },
  {
   "cell_type": "markdown",
   "id": "35150f9b",
   "metadata": {},
   "source": [
    "# DML (Data Manipulation Language)"
   ]
  },
  {
   "cell_type": "markdown",
   "id": "7741157c",
   "metadata": {},
   "source": [
    "# What is DML?"
   ]
  },
  {
   "cell_type": "markdown",
   "id": "ff0064e0",
   "metadata": {},
   "source": [
    "Data Manipulation Language (DML) is used to modify data in a database. DML is responsible for all forms of data changes within the database."
   ]
  },
  {
   "cell_type": "markdown",
   "id": "45ca1eec",
   "metadata": {},
   "source": [
    "The most frequently used DML commands are INSERT, UPDATE, and DELETE. Let’s discuss these commands by continuing with the example table that was created earlier."
   ]
  },
  {
   "cell_type": "markdown",
   "id": "5ba445c2",
   "metadata": {},
   "source": [
    "The table has the following structure and data:"
   ]
  },
  {
   "cell_type": "markdown",
   "id": "2b213040",
   "metadata": {},
   "source": [
    "| id | name | age | address | salary |\n",
    "| --- | --- | --- | --- | --- |\n",
    "| 1 | Rizki | 25 | Jl. Kebon Jeruk | 2000000 |\n",
    "| 2 | Andi | 27 | Jl. Kebon Sirih | 3000000 |\n",
    "| 3 | Budi | 30 | Jl. Kebon Melati | 4000000 |\n",
    "| 4 | Caca | 32 | Jl. Kebon Anggrek | 5000000 |\n",
    "| 5 | Deni | 35 | Jl. Kebon Mawar | 6000000 |"
   ]
  },
  {
   "cell_type": "markdown",
   "id": "a263655f",
   "metadata": {},
   "source": [
    "In the DDL material, we have already created a database and this table, let’s add the data above into the table that is already created:"
   ]
  },
  {
   "cell_type": "code",
   "execution_count": null,
   "id": "54cc8de4",
   "metadata": {},
   "outputs": [],
   "source": [
    "-- create database\n",
    "CREATE DATABASE db_employee;\n",
    "\n",
    "-- use database\n",
    "USE db_employee;\n",
    "\n",
    "-- create table\n",
    "CREATE TABLE employees (\n",
    "  id SERIAL PRIMARY KEY,\n",
    "  name VARCHAR(50) NOT NULL,\n",
    "  age INT NOT NULL,\n",
    "  address VARCHAR(100),\n",
    "  salary INT\n",
    ");"
   ]
  },
  {
   "cell_type": "markdown",
   "id": "b37041a3",
   "metadata": {},
   "source": [
    "Try in python using SQLite"
   ]
  },
  {
   "cell_type": "code",
   "execution_count": null,
   "id": "a4807ce7",
   "metadata": {},
   "outputs": [],
   "source": [
    "import sqlite3\n",
    "\n",
    "# Connect to the SQLite database\n",
    "# If the database does not exist, it will be created\n",
    "conn = sqlite3.connect('db/sqlite.db')\n",
    "\n",
    "# Create a cursor object\n",
    "cur = conn.cursor()"
   ]
  },
  {
   "cell_type": "code",
   "execution_count": null,
   "id": "ee2c2647",
   "metadata": {},
   "outputs": [],
   "source": [
    "# Execute a SQL command: this creates a new table\n",
    "cur.execute('''\n",
    "    CREATE TABLE employees (\n",
    "        id INTEGER,\n",
    "        name TEXT NOT NULL,\n",
    "        age INTEGER NOT NULL,\n",
    "        address TEXT,\n",
    "        salary INTEGER\n",
    "    )\n",
    "''')\n",
    "\n",
    "# Commit the transaction\n",
    "conn.commit()"
   ]
  },
  {
   "cell_type": "markdown",
   "id": "9ad06f54",
   "metadata": {},
   "source": [
    "We will continue with examples of DML commands."
   ]
  },
  {
   "cell_type": "markdown",
   "id": "2f09bebd",
   "metadata": {},
   "source": [
    "# INSERT"
   ]
  },
  {
   "cell_type": "markdown",
   "id": "f0f3e71d",
   "metadata": {},
   "source": [
    "We can use the INSERT command to add new data into a table. The INSERT command has the following structure:"
   ]
  },
  {
   "cell_type": "code",
   "execution_count": null,
   "id": "74cb5f15",
   "metadata": {},
   "outputs": [],
   "source": [
    "INSERT INTO <table-name> VALUES (column1, column2, column3, ...)"
   ]
  },
  {
   "cell_type": "markdown",
   "id": "ccbd0fc7",
   "metadata": {},
   "source": [
    "Looking at the example above, we can see that the INSERT command has two parts, namely the INSERT INTO part and the VALUES part. The INSERT INTO part is used to designate which table we will add data to, where <table-name> is the name of the table that we will add data to. The VALUES part is used to specify what data we will add into the table."
   ]
  },
  {
   "cell_type": "markdown",
   "id": "7ab19658",
   "metadata": {},
   "source": [
    "Here is an example of an INSERT command that will add new data into the employees table:"
   ]
  },
  {
   "cell_type": "code",
   "execution_count": null,
   "id": "b7bf8f6c",
   "metadata": {},
   "outputs": [],
   "source": [
    "INSERT INTO employees VALUES (1, 'Rizki', 25, 'Jl. Kebon Jeruk', 2000000);"
   ]
  },
  {
   "cell_type": "markdown",
   "id": "37097ee8",
   "metadata": {},
   "source": [
    "Try in python using SQLite"
   ]
  },
  {
   "cell_type": "code",
   "execution_count": null,
   "id": "9a1e7173",
   "metadata": {},
   "outputs": [],
   "source": [
    "cur.execute(\"INSERT INTO employees VALUES (1, 'Rizki', 25, 'Jl. Kebon Jeruk', 2000000)\")\n",
    "conn.commit()"
   ]
  },
  {
   "cell_type": "markdown",
   "id": "753882cd",
   "metadata": {},
   "source": [
    "See the table:"
   ]
  },
  {
   "cell_type": "code",
   "execution_count": null,
   "id": "58894c45",
   "metadata": {},
   "outputs": [],
   "source": [
    "import pandas as pd\n",
    "\n",
    "pd.read_sql_query(\"SELECT * FROM employees\", conn)"
   ]
  },
  {
   "cell_type": "markdown",
   "id": "bd9464bf",
   "metadata": {},
   "source": [
    "|  | id | name | age | address | salary |\n",
    "| --- | --- | --- | --- | --- | --- |\n",
    "| 0 | 1 | Rizki | 25 | Jl. Kebon Jeruk | 2000000 |"
   ]
  },
  {
   "cell_type": "markdown",
   "id": "224251a4",
   "metadata": {},
   "source": [
    "When adding string data in SQL we must use a single quote (') to mark that the data is a string, like 'Rizky'. If we do not use a single quote, then the data will be considered invalid."
   ]
  },
  {
   "cell_type": "markdown",
   "id": "4425b70f",
   "metadata": {},
   "source": [
    "The result will be as follows:"
   ]
  },
  {
   "cell_type": "markdown",
   "id": "9b76d03d",
   "metadata": {},
   "source": [
    "| id | name | age | address | salary |\n",
    "| --- | --- | --- | --- | --- |\n",
    "| 1 | Rizki | 265 | Jl. Kebon Jeruk | 2000000 |"
   ]
  },
  {
   "cell_type": "markdown",
   "id": "429bab4c",
   "metadata": {},
   "source": [
    "The command above will add new data into the employees table, the data will be filled in according to the order of the columns in the table. 1 will be filled into the id column, 'Rizki' will be filled into the name column, and 25 will be filled into the age column and so forth."
   ]
  },
  {
   "cell_type": "markdown",
   "id": "22a9b48a",
   "metadata": {},
   "source": [
    "If we want to add new data into specific columns, we can add the column name in the INSERT INTO section as follows:"
   ]
  },
  {
   "cell_type": "code",
   "execution_count": null,
   "id": "2fda02b0",
   "metadata": {},
   "outputs": [],
   "source": [
    "INSERT INTO employee (id, name, age) VALUES (1, 'Rizki', 25);"
   ]
  },
  {
   "cell_type": "markdown",
   "id": "497f1fdd",
   "metadata": {},
   "source": [
    "Try in python using SQLite"
   ]
  },
  {
   "cell_type": "code",
   "execution_count": null,
   "id": "8bb8925e",
   "metadata": {},
   "outputs": [],
   "source": [
    "cur.execute(\"INSERT INTO employees (id, name, age) VALUES (1, 'Rizki', 25)\")\n",
    "conn.commit()"
   ]
  },
  {
   "cell_type": "markdown",
   "id": "287fde6e",
   "metadata": {},
   "source": [
    "See the table:"
   ]
  },
  {
   "cell_type": "code",
   "execution_count": null,
   "id": "38239f08",
   "metadata": {},
   "outputs": [],
   "source": [
    "import pandas as pd\n",
    "\n",
    "pd.read_sql_query(\"SELECT * FROM employees\", conn)"
   ]
  },
  {
   "cell_type": "markdown",
   "id": "a3a07837",
   "metadata": {},
   "source": [
    "|  | id | name | age | address | salary |\n",
    "| --- | --- | --- | --- | --- | --- |\n",
    "| 0 | 1 | Rizki | 25 | Jl. Kebon Jeruk | 2000000.0 |\n",
    "| 1 | 1 | Rizki | 25 | None | NaN |"
   ]
  },
  {
   "cell_type": "markdown",
   "id": "f8be90ff",
   "metadata": {},
   "source": [
    "The result will be:"
   ]
  },
  {
   "cell_type": "markdown",
   "id": "6fa4f222",
   "metadata": {},
   "source": [
    "| id | name | age | address | salary |\n",
    "| --- | --- | --- | --- | --- |\n",
    "| 1 | Rizki | 265 | NULL | NULL |"
   ]
  },
  {
   "cell_type": "markdown",
   "id": "9a70f87c",
   "metadata": {},
   "source": [
    "The example above is adding new data into the id, name, and age columns. Because we are only adding data into the id, name, and age columns, the address and salary columns will be filled with NULL values."
   ]
  },
  {
   "cell_type": "markdown",
   "id": "016c51eb",
   "metadata": {},
   "source": [
    "Please note, NULL data is data that has no value, if we want to set it so that the column cannot be filled with NULL data, we can use the NOT NULL constraints when creating the column."
   ]
  },
  {
   "cell_type": "markdown",
   "id": "50ed6394",
   "metadata": {},
   "source": [
    "We can also add NULL data into a specific column, just like adding other data:"
   ]
  },
  {
   "cell_type": "code",
   "execution_count": null,
   "id": "694d5fb1",
   "metadata": {},
   "outputs": [],
   "source": [
    "INSERT INTO employee (id, name, age, address, salary) VALUES (1, 'Rizki', 25, NULL, NULL);"
   ]
  },
  {
   "cell_type": "markdown",
   "id": "fb5e9cbd",
   "metadata": {},
   "source": [
    "Try in python using SQLite"
   ]
  },
  {
   "cell_type": "code",
   "execution_count": null,
   "id": "88c461b7",
   "metadata": {},
   "outputs": [],
   "source": [
    "cur.execute(\"INSERT INTO employees (id, name, age, address, salary) VALUES (1, 'Rizki', 25, NULL, NULL)\")\n",
    "conn.commit()"
   ]
  },
  {
   "cell_type": "markdown",
   "id": "c271d33c",
   "metadata": {},
   "source": [
    "See the table:"
   ]
  },
  {
   "cell_type": "code",
   "execution_count": null,
   "id": "56a19ebf",
   "metadata": {},
   "outputs": [],
   "source": [
    "import pandas as pd\n",
    "\n",
    "pd.read_sql_query(\"SELECT * FROM employees\", conn)"
   ]
  },
  {
   "cell_type": "markdown",
   "id": "9f7c35d6",
   "metadata": {},
   "source": [
    "|  | id | name | age | address | salary |\n",
    "| --- | --- | --- | --- | --- | --- |\n",
    "| 0 | 1 | Rizki | 25 | Jl. Kebon Jeruk | 2000000.0 |\n",
    "| 1 | 1 | Rizki | 25 | None | NaN |\n",
    "| 2 | 1 | Rizki | 25 | None | NaN |"
   ]
  },
  {
   "cell_type": "markdown",
   "id": "7c4fdb7e",
   "metadata": {},
   "source": [
    "Finally, we can add more than one data into a table using the INSERT command separated by \",\", as follows:"
   ]
  },
  {
   "cell_type": "code",
   "execution_count": null,
   "id": "0e9024d8",
   "metadata": {},
   "outputs": [],
   "source": [
    "INSERT INTO employees\n",
    "VALUES (1, 'Rizki', 25, 'Jl. Kebon Jeruk', 2000000),\n",
    "(2, 'Andi', 27, 'Jl. Kebon Sirih', 3000000),\n",
    "(3, 'Budi', 30, 'Jl. Kebon Melati', 4000000),\n",
    "(4, 'Caca', 32, 'Jl. Kebon Anggrek', 5000000),\n",
    "(5, 'Deni', 35, 'Jl. Kebon Mawar', 6000000);"
   ]
  },
  {
   "cell_type": "markdown",
   "id": "dc1a923b",
   "metadata": {},
   "source": [
    "It can also be done using specific columns:"
   ]
  },
  {
   "cell_type": "code",
   "execution_count": null,
   "id": "143f74a4",
   "metadata": {},
   "outputs": [],
   "source": [
    "INSERT INTO employees (id, name, age)\n",
    "VALUES (1, 'Rizki', 25),\n",
    "(2, 'Andi', 27),\n",
    "(3, 'Budi', 30),\n",
    "(4, 'Caca', 32),\n",
    "(5, 'Deni', 35);"
   ]
  },
  {
   "cell_type": "markdown",
   "id": "ca979600",
   "metadata": {},
   "source": [
    "As a result, it will add 5 new data into the employees table."
   ]
  },
  {
   "cell_type": "markdown",
   "id": "c3842f74",
   "metadata": {},
   "source": [
    "You can try adding new data into the employees table with the above INSERT command in this online SQL compiler or the SQLite tool you are using."
   ]
  },
  {
   "cell_type": "markdown",
   "id": "9e7056b6",
   "metadata": {},
   "source": [
    "Try in python using SQLite"
   ]
  },
  {
   "cell_type": "code",
   "execution_count": null,
   "id": "85c76825",
   "metadata": {},
   "outputs": [],
   "source": [
    "# Insert multiple data rows into the table\n",
    "data = [\n",
    "    (2, 'Andi', 27, 'Jl. Kebon Sirih', 3000000),\n",
    "    (3, 'Budi', 30, 'Jl. Kebon Melati', 4000000),\n",
    "    (4, 'Caca', 32, 'Jl. Kebon Anggrek', 5000000),\n",
    "    (5, 'Deni', 35, 'Jl. Kebon Mawar', 6000000)\n",
    "]\n",
    "\n",
    "cur.executemany(\"INSERT INTO employees VALUES (?, ?, ?, ?, ?)\", data)\n",
    "conn.commit()"
   ]
  },
  {
   "cell_type": "markdown",
   "id": "de68a678",
   "metadata": {},
   "source": [
    "See the table:"
   ]
  },
  {
   "cell_type": "code",
   "execution_count": null,
   "id": "b754ffd8",
   "metadata": {},
   "outputs": [],
   "source": [
    "import pandas as pd\n",
    "\n",
    "pd.read_sql_query(\"SELECT * FROM employees\", conn)"
   ]
  },
  {
   "cell_type": "markdown",
   "id": "d37f5543",
   "metadata": {},
   "source": [
    "|  | id | name | age | address | salary |\n",
    "| --- | --- | --- | --- | --- | --- |\n",
    "| 0 | 1 | Rizki | 25 | Jl. Kebon Jeruk | 2000000.0 |\n",
    "| 1 | 1 | Rizki | 25 | None | NaN |\n",
    "| 2 | 1 | Rizki | 25 | None | NaN |\n",
    "| 3 | 2 | Andi | 27 | Jl. Kebon Sirih | 3000000.0 |\n",
    "| 4 | 3 | Budi | 30 | Jl. Kebon Melati | 4000000.0 |\n",
    "| 5 | 4 | Caca | 32 | Jl. Kebon Anggrek | 5000000.0 |\n",
    "| 6 | 5 | Deni | 35 | Jl. Kebon Mawar | 6000000.0 |"
   ]
  },
  {
   "cell_type": "markdown",
   "id": "5dfe307b",
   "metadata": {},
   "source": [
    "# UPDATE"
   ]
  },
  {
   "cell_type": "markdown",
   "id": "eaf7c787",
   "metadata": {},
   "source": [
    "The UPDATE command is used to modify existing data in a table. The UPDATE command has the following structure:"
   ]
  },
  {
   "cell_type": "code",
   "execution_count": null,
   "id": "6bd88c59",
   "metadata": {},
   "outputs": [],
   "source": [
    "UPDATE <table-name>\n",
    "SET <column-name> = <new-value>\n",
    "WHERE <condition>;"
   ]
  },
  {
   "cell_type": "markdown",
   "id": "bab859b1",
   "metadata": {},
   "source": [
    "Where <table-name> is the name of the table whose data we will change, <column-name> is the name of the column whose data we will change, <new-value> is the new value that we will insert into that column, and <condition> is the condition that will determine which data we will modify."
   ]
  },
  {
   "cell_type": "markdown",
   "id": "0fa20121",
   "metadata": {},
   "source": [
    "Here is an example of the UPDATE command that will modify the data in the employees table:"
   ]
  },
  {
   "cell_type": "code",
   "execution_count": null,
   "id": "db259f99",
   "metadata": {},
   "outputs": [],
   "source": [
    "UPDATE employees\n",
    "SET name = 'Rizal', age = 26\n",
    "WHERE id = 1;"
   ]
  },
  {
   "cell_type": "markdown",
   "id": "52d47a6b",
   "metadata": {},
   "source": [
    "Try in python using SQLite"
   ]
  },
  {
   "cell_type": "code",
   "execution_count": null,
   "id": "58ab8862",
   "metadata": {},
   "outputs": [],
   "source": [
    "# Update data in the table\n",
    "cur.execute(\"UPDATE employees SET name = 'Rizal', age = 26 WHERE id = 1\")\n",
    "conn.commit()"
   ]
  },
  {
   "cell_type": "markdown",
   "id": "32f612f3",
   "metadata": {},
   "source": [
    "See the table:"
   ]
  },
  {
   "cell_type": "code",
   "execution_count": null,
   "id": "7b01e6d2",
   "metadata": {},
   "outputs": [],
   "source": [
    "import pandas as pd\n",
    "\n",
    "pd.read_sql_query(\"SELECT * FROM employees\", conn)"
   ]
  },
  {
   "cell_type": "markdown",
   "id": "96ec76ba",
   "metadata": {},
   "source": [
    "|  | id | name | age | address | salary |\n",
    "| --- | --- | --- | --- | --- | --- |\n",
    "| 0 | 1 | Rizal | 26 | Jl. Kebon Jeruk | 2000000.0 |\n",
    "| 1 | 1 | Rizal | 26 | None | NaN |\n",
    "| 2 | 1 | Rizal | 26 | None | NaN |\n",
    "| 3 | 2 | Andi | 27 | Jl. Kebon Sirih | 3000000.0 |\n",
    "| 4 | 3 | Budi | 30 | Jl. Kebon Melati | 4000000.0 |\n",
    "| 5 | 4 | Caca | 32 | Jl. Kebon Anggrek | 5000000.0 |\n",
    "| 6 | 5 | Deni | 35 | Jl. Kebon Mawar | 6000000.0 |"
   ]
  },
  {
   "cell_type": "markdown",
   "id": "38293c46",
   "metadata": {},
   "source": [
    "In the example above, we are changing the name data to 'Rizal' and the age data to 26, separating the columns we will change with \",\". And the data being modified is the one with id = 1."
   ]
  },
  {
   "cell_type": "markdown",
   "id": "ee15d107",
   "metadata": {},
   "source": [
    "Data before modification:"
   ]
  },
  {
   "cell_type": "markdown",
   "id": "22cf184a",
   "metadata": {},
   "source": [
    "| id | name | age | address | salary |\n",
    "| --- | --- | --- | --- | --- |\n",
    "| 1 | Rizki | 25 | Jl. Kebon Jeruk | 2000000 |\n",
    "| 2 | Andi | 27 | Jl. Kebon Sirih | 3000000 |\n",
    "| 3 | Budi | 30 | Jl. Kebon Melati | 4000000 |"
   ]
  },
  {
   "cell_type": "markdown",
   "id": "c627d854",
   "metadata": {},
   "source": [
    "Data after modification:"
   ]
  },
  {
   "cell_type": "markdown",
   "id": "5271552a",
   "metadata": {},
   "source": [
    "| id | name | age | address | salary |\n",
    "| --- | --- | --- | --- | --- |\n",
    "| 1 | Rizal | 26 | Jl. Kebon Jeruk | 2000000 |\n",
    "| 2 | Andi | 27 | Jl. Kebon Sirih | 3000000 |\n",
    "| 3 | Budi | 30 | Jl. Kebon Melati | 4000000 |"
   ]
  },
  {
   "cell_type": "markdown",
   "id": "f2e41d2b",
   "metadata": {},
   "source": [
    "ATTENTION !!"
   ]
  },
  {
   "cell_type": "markdown",
   "id": "f140b4b6",
   "metadata": {},
   "source": [
    "Make sure to add WHERE so that we do not change all the data in the table. If we do not add WHERE, then all the data in the table will be changed. The example above is where we only change data that has id = 1, so the name and age data only changes the data at id 1."
   ]
  },
  {
   "cell_type": "markdown",
   "id": "cb946f5e",
   "metadata": {},
   "source": [
    "You can try modifying the data in the employees table with the above UPDATE command using this online SQL compiler or the DBMS tool you are using."
   ]
  },
  {
   "cell_type": "markdown",
   "id": "66aee464",
   "metadata": {},
   "source": [
    "# DELETE"
   ]
  },
  {
   "cell_type": "markdown",
   "id": "8acb4854",
   "metadata": {},
   "source": [
    "The DELETE command is used to remove existing data from a table. The DELETE command has the following structure:"
   ]
  },
  {
   "cell_type": "code",
   "execution_count": null,
   "id": "c2a8ff3b",
   "metadata": {},
   "outputs": [],
   "source": [
    "DELETE FROM <table-name>\n",
    "WHERE <condition>;"
   ]
  },
  {
   "cell_type": "markdown",
   "id": "b1870420",
   "metadata": {},
   "source": [
    "Where <table-name> is the name of the table whose data we will delete, and <condition> is the condition that will determine which data we will delete."
   ]
  },
  {
   "cell_type": "markdown",
   "id": "0b6ce6b5",
   "metadata": {},
   "source": [
    "Here is an example of the DELETE command that will delete data in the employees table:"
   ]
  },
  {
   "cell_type": "code",
   "execution_count": null,
   "id": "c316ca87",
   "metadata": {},
   "outputs": [],
   "source": [
    "DELETE FROM employees\n",
    "WHERE id = 1;"
   ]
  },
  {
   "cell_type": "markdown",
   "id": "d892ce7c",
   "metadata": {},
   "source": [
    "Try in python using SQLite"
   ]
  },
  {
   "cell_type": "code",
   "execution_count": null,
   "id": "ad0168b9",
   "metadata": {},
   "outputs": [],
   "source": [
    "# Delete data from the table\n",
    "cur.execute(\"DELETE FROM employees WHERE id = 1\")\n",
    "conn.commit()"
   ]
  },
  {
   "cell_type": "markdown",
   "id": "cd9df622",
   "metadata": {},
   "source": [
    "See the table:"
   ]
  },
  {
   "cell_type": "code",
   "execution_count": null,
   "id": "b5978c0c",
   "metadata": {},
   "outputs": [],
   "source": [
    "import pandas as pd\n",
    "\n",
    "pd.read_sql_query(\"SELECT * FROM employees\", conn)"
   ]
  },
  {
   "cell_type": "markdown",
   "id": "405f5ba6",
   "metadata": {},
   "source": [
    "|  | id | name | age | address | salary |\n",
    "| --- | --- | --- | --- | --- | --- |\n",
    "| 0 | 2 | Andi | 27 | Jl. Kebon Sirih | 3000000 |\n",
    "| 1 | 3 | Budi | 30 | Jl. Kebon Melati | 4000000 |\n",
    "| 2 | 4 | Caca | 32 | Jl. Kebon Anggrek | 5000000 |\n",
    "| 3 | 5 | Deni | 35 | Jl. Kebon Mawar | 6000000 |"
   ]
  },
  {
   "cell_type": "markdown",
   "id": "e4ef64aa",
   "metadata": {},
   "source": [
    "In the example above, we are deleting data with id = 1."
   ]
  },
  {
   "cell_type": "markdown",
   "id": "6986c1fd",
   "metadata": {},
   "source": [
    "Data before deletion:"
   ]
  },
  {
   "cell_type": "markdown",
   "id": "4298cb41",
   "metadata": {},
   "source": [
    "| id | name | age | address | salary |\n",
    "| --- | --- | --- | --- | --- |\n",
    "| 1 | Rizal | 26 | Jl. Kebon Jeruk | 2000000 |\n",
    "| 2 | Andi | 27 | Jl. Kebon Sirih | 3000000 |\n",
    "| 3 | Budi | 30 | Jl. Kebon Melati | 4000000 |"
   ]
  },
  {
   "cell_type": "markdown",
   "id": "a9a9e50d",
   "metadata": {},
   "source": [
    "Data after deletion:"
   ]
  },
  {
   "cell_type": "markdown",
   "id": "459d2207",
   "metadata": {},
   "source": [
    "| id | name | age | address | salary |\n",
    "| --- | --- | --- | --- | --- |\n",
    "| 2 | Andi | 27 | Jl. Kebon Sirih | 3000000 |\n",
    "| 3 | Budi | 30 | Jl. Kebon Melati | 4000000 |"
   ]
  },
  {
   "cell_type": "markdown",
   "id": "1ca487b1",
   "metadata": {},
   "source": [
    "ATTENTION !!"
   ]
  },
  {
   "cell_type": "markdown",
   "id": "6ebff5e6",
   "metadata": {},
   "source": [
    "Make sure to add WHERE just like UPDATE so we do not delete all the data in the table. If we do not add WHERE, then all the data in the table will be deleted. The example above is where we only delete data that has id = 1, so the name and age data only changes the data at id 1."
   ]
  },
  {
   "cell_type": "markdown",
   "id": "2a15a9f7",
   "metadata": {},
   "source": [
    "You can try deleting data in the employees table with the above DELETE command using this online SQL compiler or the DBMS tool you are using."
   ]
  },
  {
   "cell_type": "code",
   "execution_count": null,
   "id": "1dd6fe42",
   "metadata": {},
   "outputs": [],
   "source": [
    "# Close the connection\n",
    "conn.close()"
   ]
  },
  {
   "cell_type": "markdown",
   "id": "020e33e5",
   "metadata": {},
   "source": [
    "# DQL (Data Query Language)"
   ]
  },
  {
   "cell_type": "markdown",
   "id": "42329c94",
   "metadata": {},
   "source": [
    "# What is DQL?"
   ]
  },
  {
   "cell_type": "markdown",
   "id": "666dba1f",
   "metadata": {},
   "source": [
    "Data Query Language (DQL) is used to retrieve data from a table in a database. The purpose of DQL is to obtain data using SQL commands. The SQL command used is SELECT."
   ]
  },
  {
   "cell_type": "markdown",
   "id": "b6472f5e",
   "metadata": {},
   "source": [
    "Let’s continue with the data we have created in the previous section."
   ]
  },
  {
   "cell_type": "markdown",
   "id": "b387b481",
   "metadata": {},
   "source": [
    "| id | name | age | address | salary |\n",
    "| --- | --- | --- | --- | --- |\n",
    "| 1 | Rizki | 25 | Jl. Kebon Jeruk | 2000000 |\n",
    "| 2 | Andi | 27 | Jl. Kebon Sirih | 3000000 |\n",
    "| 3 | Budi | 30 | Jl. Kebon Melati | 4000000 |\n",
    "| 4 | Caca | 32 | Jl. Kebon Anggrek | 5000000 |\n",
    "| 5 | Deni | 35 | Jl. Kebon Mawar | 6000000 |"
   ]
  },
  {
   "cell_type": "markdown",
   "id": "3e31141c",
   "metadata": {},
   "source": [
    "Then we try to save this data into the employees table with the following SQL command:"
   ]
  },
  {
   "cell_type": "code",
   "execution_count": null,
   "id": "f37f35e6",
   "metadata": {},
   "outputs": [],
   "source": [
    "-- create data in table employee\n",
    "INSERT INTO employees (id, name, age, address, salary)\n",
    "VALUES (1, 'Rizki', 25, 'Jl. Kebon Jeruk', 2000000),\n",
    "(2, 'Andi', 27, 'Jl. Kebon Sirih', 3000000),\n",
    "(3, 'Budi', 30, 'Jl. Kebon Melati', 4000000),\n",
    "(4, 'Caca', 32, 'Jl. Kebon Anggrek', 5000000),\n",
    "(5, 'Deni', 35, 'Jl. Kebon Mawar', 6000000);"
   ]
  },
  {
   "cell_type": "code",
   "execution_count": null,
   "id": "1d7b1539",
   "metadata": {},
   "outputs": [],
   "source": [
    "import sqlite3\n",
    "\n",
    "# Connect to SQLite database\n",
    "conn = sqlite3.connect('db/sqlite.db')\n",
    "\n",
    "# Create a cursor object\n",
    "c = conn.cursor()"
   ]
  },
  {
   "cell_type": "code",
   "execution_count": null,
   "id": "3cf062b4",
   "metadata": {},
   "outputs": [],
   "source": [
    "# Create table\n",
    "c.execute('''\n",
    "CREATE TABLE employees (\n",
    "    id INT,\n",
    "    name TEXT,\n",
    "    age INT,\n",
    "    address TEXT,\n",
    "    salary REAL);\n",
    "''')\n",
    "# Commit the transaction\n",
    "conn.commit()"
   ]
  },
  {
   "cell_type": "code",
   "execution_count": null,
   "id": "7c80805c",
   "metadata": {},
   "outputs": [],
   "source": [
    "# Insert data into the table\n",
    "data = [\n",
    "    (1, 'Rizki', 25, 'Jl. Kebon Jeruk', 2000000),\n",
    "    (2, 'Andi', 27, 'Jl. Kebon Sirih', 3000000),\n",
    "    (3, 'Budi', 30, 'Jl. Kebon Melati', 4000000),\n",
    "    (4, 'Caca', 32, 'Jl. Kebon Anggrek', 5000000),\n",
    "    (5, 'Deni', 35, 'Jl. Kebon Mawar', 6000000)\n",
    "]\n",
    "c.executemany('INSERT INTO employees VALUES (?,?,?,?,?)', data)\n",
    "\n",
    "# Commit the transaction\n",
    "conn.commit()"
   ]
  },
  {
   "cell_type": "markdown",
   "id": "0ac06d0c",
   "metadata": {},
   "source": [
    "# SELECT"
   ]
  },
  {
   "cell_type": "markdown",
   "id": "894938a8",
   "metadata": {},
   "source": [
    "The SELECT command is used to retrieve data from a table. The SELECT command has a fairly complex syntax. Here is a simple command example to retrieve data from the employee table:"
   ]
  },
  {
   "cell_type": "code",
   "execution_count": null,
   "id": "60eb4fe0",
   "metadata": {},
   "outputs": [],
   "source": [
    "SELECT * FROM employees;"
   ]
  },
  {
   "cell_type": "markdown",
   "id": "98c86b4d",
   "metadata": {},
   "source": [
    "Retrieve all data from the employees table."
   ]
  },
  {
   "cell_type": "code",
   "execution_count": null,
   "id": "5fc3832f",
   "metadata": {},
   "outputs": [],
   "source": [
    "import pandas as pd\n",
    "\n",
    "pd.read_sql_query(\"SELECT * FROM employees\", conn)"
   ]
  },
  {
   "cell_type": "markdown",
   "id": "9afe6ca0",
   "metadata": {},
   "source": [
    "|  | id | name | age | address | salary |\n",
    "| --- | --- | --- | --- | --- | --- |\n",
    "| 0 | 1 | Rizki | 25 | Jl. Kebon Jeruk | 2000000.0 |\n",
    "| 1 | 2 | Andi | 27 | Jl. Kebon Sirih | 3000000.0 |\n",
    "| 2 | 3 | Budi | 30 | Jl. Kebon Melati | 4000000.0 |\n",
    "| 3 | 4 | Caca | 32 | Jl. Kebon Anggrek | 5000000.0 |\n",
    "| 4 | 5 | Deni | 35 | Jl. Kebon Mawar | 6000000.0 |"
   ]
  },
  {
   "cell_type": "markdown",
   "id": "a3482eea",
   "metadata": {},
   "source": [
    "The command above will retrieve data in the employees table. We use * to retrieve all columns in the employee table. If we want to retrieve data from a specific column, we can write the column name in the SELECT command. For example:"
   ]
  },
  {
   "cell_type": "markdown",
   "id": "a8395593",
   "metadata": {},
   "source": [
    "The results will be as follows:"
   ]
  },
  {
   "cell_type": "markdown",
   "id": "38be0c4e",
   "metadata": {},
   "source": [
    "| id | name | age | address | salary |\n",
    "| --- | --- | --- | --- | --- |\n",
    "| 1 | Rizki | 25 | Jl. Kebon Jeruk | 2000000 |\n",
    "| 2 | Andi | 27 | Jl. Kebon Sirih | 3000000 |\n",
    "| 3 | Budi | 30 | Jl. Kebon Melati | 4000000 |\n",
    "| 4 | Caca | 32 | Jl. Kebon Anggrek | 5000000 |\n",
    "| 5 | Deni | 35 | Jl. Kebon Mawar | 6000000 |"
   ]
  },
  {
   "cell_type": "code",
   "execution_count": null,
   "id": "f02ae74a",
   "metadata": {},
   "outputs": [],
   "source": [
    "SELECT id, name, age FROM employees;"
   ]
  },
  {
   "cell_type": "markdown",
   "id": "fc65de4d",
   "metadata": {},
   "source": [
    "Retrieve specific columns (id, name, age) from the employees table."
   ]
  },
  {
   "cell_type": "code",
   "execution_count": null,
   "id": "1e355062",
   "metadata": {},
   "outputs": [],
   "source": [
    "import pandas as pd\n",
    "\n",
    "pd.read_sql_query(\"SELECT id, name, age FROM employees\", conn)"
   ]
  },
  {
   "cell_type": "markdown",
   "id": "cd16deeb",
   "metadata": {},
   "source": [
    "|  | id | name | age |\n",
    "| --- | --- | --- | --- |\n",
    "| 0 | 1 | Rizki | 25 |\n",
    "| 1 | 2 | Andi | 27 |\n",
    "| 2 | 3 | Budi | 30 |\n",
    "| 3 | 4 | Caca | 32 |\n",
    "| 4 | 5 | Deni | 35 |"
   ]
  },
  {
   "cell_type": "markdown",
   "id": "c7ecc3ff",
   "metadata": {},
   "source": [
    "The command above will retrieve all data for several columns, we can write the column name separated by ,. Because in the command it writes the id, name and age columns on the employee table, the result will be as follows:"
   ]
  },
  {
   "cell_type": "markdown",
   "id": "11ae561b",
   "metadata": {},
   "source": [
    "| id | name | age |\n",
    "| --- | --- | --- |\n",
    "| 1 | Rizki | 25 |\n",
    "| 2 | Andi | 27 |\n",
    "| 3 | Budi | 30 |\n",
    "| 4 | Caca | 32 |\n",
    "| 5 | Deni | 35 |"
   ]
  },
  {
   "cell_type": "markdown",
   "id": "b11043d5",
   "metadata": {},
   "source": [
    "# WHERE"
   ]
  },
  {
   "cell_type": "markdown",
   "id": "c1e3e460",
   "metadata": {},
   "source": [
    "The WHERE command is used to filter the data to be retrieved. The WHERE command must be written after the SELECT command. For example:"
   ]
  },
  {
   "cell_type": "code",
   "execution_count": null,
   "id": "066be125",
   "metadata": {},
   "outputs": [],
   "source": [
    "SELECT * FROM employees\n",
    "WHERE id = 1;"
   ]
  },
  {
   "cell_type": "markdown",
   "id": "fbb2fd03",
   "metadata": {},
   "source": [
    "Retrieve data from the employees table with id equals to 1."
   ]
  },
  {
   "cell_type": "code",
   "execution_count": null,
   "id": "1db625f8",
   "metadata": {},
   "outputs": [],
   "source": [
    "import pandas as pd\n",
    "\n",
    "pd.read_sql_query(\"SELECT * FROM employees WHERE id = 1\", conn)"
   ]
  },
  {
   "cell_type": "markdown",
   "id": "0df90656",
   "metadata": {},
   "source": [
    "|  | id | name | age | address | salary |\n",
    "| --- | --- | --- | --- | --- | --- |\n",
    "| 0 | 1 | Rizki | 25 | Jl. Kebon Jeruk | 2000000.0 |"
   ]
  },
  {
   "cell_type": "markdown",
   "id": "bf166b70",
   "metadata": {},
   "source": [
    "The command above will retrieve data from the employees table with id 1, so it only gets 1 data that has id 1. The result will be as follows:"
   ]
  },
  {
   "cell_type": "markdown",
   "id": "dc883134",
   "metadata": {},
   "source": [
    "| id | name | age | address | salary |\n",
    "| --- | --- | --- | --- | --- |\n",
    "| 1 | Rizki | 25 | Jl. Kebon Jeruk | 2000000 |"
   ]
  },
  {
   "cell_type": "markdown",
   "id": "b0112414",
   "metadata": {},
   "source": [
    "We can also use the WHERE command for logical operations. For example:"
   ]
  },
  {
   "cell_type": "code",
   "execution_count": null,
   "id": "f74f3729",
   "metadata": {},
   "outputs": [],
   "source": [
    "SELECT * FROM employees\n",
    "WHERE age < 30;"
   ]
  },
  {
   "cell_type": "markdown",
   "id": "a078002f",
   "metadata": {},
   "source": [
    "Retrieve data from the employees table with age less than 30."
   ]
  },
  {
   "cell_type": "code",
   "execution_count": null,
   "id": "7eb27349",
   "metadata": {},
   "outputs": [],
   "source": [
    "import pandas as pd\n",
    "\n",
    "pd.read_sql_query(\"SELECT * FROM employees WHERE age < 30\", conn)"
   ]
  },
  {
   "cell_type": "markdown",
   "id": "74acf94f",
   "metadata": {},
   "source": [
    "|  | id | name | age | address | salary |\n",
    "| --- | --- | --- | --- | --- | --- |\n",
    "| 0 | 1 | Rizki | 25 | Jl. Kebon Jeruk | 2000000.0 |\n",
    "| 1 | 2 | Andi | 27 | Jl. Kebon Sirih | 3000000.0 |"
   ]
  },
  {
   "cell_type": "markdown",
   "id": "5fdeee46",
   "metadata": {},
   "source": [
    "The command above will retrieve data from the employees table with ages less than 30 years, so it only gets 2 data that has an age less than 30 years. The result will be as follows:"
   ]
  },
  {
   "cell_type": "markdown",
   "id": "05320b4d",
   "metadata": {},
   "source": [
    "| id | name | age | address | salary |\n",
    "| --- | --- | --- | --- | --- |\n",
    "| 1 | Rizki | 25 | Jl. Kebon Jeruk | 2000000 |\n",
    "| 2 | Andi | 27 | Jl. Kebon Sirih | 3000000 |"
   ]
  },
  {
   "cell_type": "markdown",
   "id": "a3980249",
   "metadata": {},
   "source": [
    "There are logical operations that can be used to combine several conditions namely AND and OR."
   ]
  },
  {
   "cell_type": "code",
   "execution_count": null,
   "id": "931b7d1e",
   "metadata": {},
   "outputs": [],
   "source": [
    "SELECT * FROM employees\n",
    "WHERE age < 30 AND salary > 2000000;"
   ]
  },
  {
   "cell_type": "markdown",
   "id": "7b34a500",
   "metadata": {},
   "source": [
    "Retrieve data from the employees table with age less than 30 and more than 2000000."
   ]
  },
  {
   "cell_type": "code",
   "execution_count": null,
   "id": "f3c5fc1a",
   "metadata": {},
   "outputs": [],
   "source": [
    "import pandas as pd\n",
    "\n",
    "pd.read_sql_query(\"SELECT * FROM employees WHERE age < 30 AND salary > 2000000\", conn)"
   ]
  },
  {
   "cell_type": "markdown",
   "id": "a6a6616b",
   "metadata": {},
   "source": [
    "|  | id | name | age | address | salary |\n",
    "| --- | --- | --- | --- | --- | --- |\n",
    "| 0 | 2 | Andi | 27 | Jl. Kebon Sirih | 3000000.0 |"
   ]
  },
  {
   "cell_type": "markdown",
   "id": "6652466d",
   "metadata": {},
   "source": [
    "The command above will retrieve data from the employee table with an age less than 30 years and a salary more than 2 million, so it only gets 1 data that has an age less than 30 years and a salary more than 2 million. The result will be as follows:"
   ]
  },
  {
   "cell_type": "markdown",
   "id": "e2902636",
   "metadata": {},
   "source": [
    "| id | name | age | address | salary |\n",
    "| --- | --- | --- | --- | --- |\n",
    "| 2 | Andi | 27 | Jl. Kebon Sirih | 3000000 |"
   ]
  },
  {
   "cell_type": "markdown",
   "id": "3e902ea6",
   "metadata": {},
   "source": [
    "# IN"
   ]
  },
  {
   "cell_type": "markdown",
   "id": "f42ba984",
   "metadata": {},
   "source": [
    "The IN command is used to filter the data to be retrieved based on a dataset that contains several values. This command is combined with the WHERE command and must be written after it. For example:"
   ]
  },
  {
   "cell_type": "code",
   "execution_count": null,
   "id": "ec7652fe",
   "metadata": {},
   "outputs": [],
   "source": [
    "SELECT * FROM employees\n",
    "WHERE id IN (1, 3, 5);"
   ]
  },
  {
   "cell_type": "markdown",
   "id": "6f6632e0",
   "metadata": {},
   "source": [
    "Retrieve data from the employees table with id in (1, 3, 5)."
   ]
  },
  {
   "cell_type": "code",
   "execution_count": null,
   "id": "23415da9",
   "metadata": {},
   "outputs": [],
   "source": [
    "import pandas as pd\n",
    "\n",
    "pd.read_sql_query(\"SELECT * FROM employees WHERE id IN (1, 3, 5)\", conn)"
   ]
  },
  {
   "cell_type": "markdown",
   "id": "3646592d",
   "metadata": {},
   "source": [
    "|  | id | name | age | address | salary |\n",
    "| --- | --- | --- | --- | --- | --- |\n",
    "| 0 | 1 | Rizki | 25 | Jl. Kebon Jeruk | 2000000.0 |\n",
    "| 1 | 3 | Budi | 30 | Jl. Kebon Melati | 4000000.0 |\n",
    "| 2 | 5 | Deni | 35 | Jl. Kebon Mawar | 6000000.0 |"
   ]
  },
  {
   "cell_type": "markdown",
   "id": "529169c4",
   "metadata": {},
   "source": [
    "The command above will retrieve data from the employee table with id 1, 3 and 5, so it will get 3 data that has id 1, 3 and 5. The result will be as follows:"
   ]
  },
  {
   "cell_type": "markdown",
   "id": "a0e3a46a",
   "metadata": {},
   "source": [
    "| id | name | age | address | salary |\n",
    "| --- | --- | --- | --- | --- |\n",
    "| 1 | Rizki | 25 | Jl. Kebon Jeruk | 2000000 |\n",
    "| 3 | Budi | 30 | Jl. Kebon Melati | 4000000 |\n",
    "| 5 | Deni | 35 | Jl. Kebon Mawar | 6000000 |"
   ]
  },
  {
   "cell_type": "markdown",
   "id": "c9ec2cb4",
   "metadata": {},
   "source": [
    "You can apply the basic SELECT command using this online SQL compiler or the DBMS tool you are using. Don’t forget to add data first before doing the SELECT command."
   ]
  },
  {
   "cell_type": "markdown",
   "id": "1cfcdb19",
   "metadata": {},
   "source": [
    "# ORDER BY"
   ]
  },
  {
   "cell_type": "markdown",
   "id": "d96349d1",
   "metadata": {},
   "source": [
    "The ORDER BY command is used to sort the data to be retrieved. This command is combined with the SELECT command and must be written after it. This command only has two types of sorting namely ASC and DESC."
   ]
  },
  {
   "cell_type": "markdown",
   "id": "f1aa2c44",
   "metadata": {},
   "source": [
    "For example:"
   ]
  },
  {
   "cell_type": "code",
   "execution_count": null,
   "id": "8ddc6ead",
   "metadata": {},
   "outputs": [],
   "source": [
    "SELECT * FROM employees\n",
    "ORDER BY age DESC;"
   ]
  },
  {
   "cell_type": "markdown",
   "id": "fff90fb0",
   "metadata": {},
   "source": [
    "Retrieve data from the employees table and order by age in descending order."
   ]
  },
  {
   "cell_type": "code",
   "execution_count": null,
   "id": "9bdf48ce",
   "metadata": {},
   "outputs": [],
   "source": [
    "import pandas as pd\n",
    "\n",
    "pd.read_sql_query(\"SELECT * FROM employees ORDER BY age DESC\", conn)"
   ]
  },
  {
   "cell_type": "markdown",
   "id": "05926313",
   "metadata": {},
   "source": [
    "|  | id | name | age | address | salary |\n",
    "| --- | --- | --- | --- | --- | --- |\n",
    "| 0 | 5 | Deni | 35 | Jl. Kebon Mawar | 6000000.0 |\n",
    "| 1 | 4 | Caca | 32 | Jl. Kebon Anggrek | 5000000.0 |\n",
    "| 2 | 3 | Budi | 30 | Jl. Kebon Melati | 4000000.0 |\n",
    "| 3 | 2 | Andi | 27 | Jl. Kebon Sirih | 3000000.0 |\n",
    "| 4 | 1 | Rizki | 25 | Jl. Kebon Jeruk | 2000000.0 |"
   ]
  },
  {
   "cell_type": "markdown",
   "id": "f3adb5a5",
   "metadata": {},
   "source": [
    "The command above will retrieve data from the employee table and sort it based on the age column in descending order (large to small), so it will get 5 data that is sorted based on age in descending order. The result will be as follows:"
   ]
  },
  {
   "cell_type": "markdown",
   "id": "af55346d",
   "metadata": {},
   "source": [
    "| id | name | age | address | salary |\n",
    "| --- | --- | --- | --- | --- |\n",
    "| 5 | Deni | 35 | Jl. Kebon Mawar | 6000000 |\n",
    "| 4 | Caca | 32 | Jl. Kebon Kamboja | 5000000 |\n",
    "| 3 | Budi | 30 | Jl. Kebon Melati | 4000000 |\n",
    "| 2 | Andi | 27 | Jl. Kebon Sirih | 3000000 |\n",
    "| 1 | Rizki | 25 | Jl. Kebon Jeruk | 2000000 |"
   ]
  },
  {
   "cell_type": "markdown",
   "id": "4818ac6e",
   "metadata": {},
   "source": [
    "# LIMIT"
   ]
  },
  {
   "cell_type": "markdown",
   "id": "86825caf",
   "metadata": {},
   "source": [
    "The LIMIT command is used to limit the number of data to be retrieved. The number of data to be retrieved will be determined by the parameter given by taking in order from the top data. This command is combined with the SELECT command and must be written after it. For example:"
   ]
  },
  {
   "cell_type": "code",
   "execution_count": null,
   "id": "0035f49e",
   "metadata": {},
   "outputs": [],
   "source": [
    "SELECT * FROM employees\n",
    "LIMIT 2;"
   ]
  },
  {
   "cell_type": "markdown",
   "id": "5ebb10f6",
   "metadata": {},
   "source": [
    "Retrieve 2 records from the employees table."
   ]
  },
  {
   "cell_type": "code",
   "execution_count": null,
   "id": "20ef3e4d",
   "metadata": {},
   "outputs": [],
   "source": [
    "import pandas as pd\n",
    "\n",
    "pd.read_sql_query(\"SELECT * FROM employee LIMIT 2\", conn)"
   ]
  },
  {
   "cell_type": "markdown",
   "id": "f18c2087",
   "metadata": {},
   "source": [
    "|  | id | name | age | address | salary |\n",
    "| --- | --- | --- | --- | --- | --- |\n",
    "| 0 | 1 | Rizki | 25 | Jl. Kebon Jeruk | 2000000.0 |\n",
    "| 1 | 2 | Andi | 27 | Jl. Kebon Sirih | 3000000.0 |"
   ]
  },
  {
   "cell_type": "markdown",
   "id": "df65bf43",
   "metadata": {},
   "source": [
    "The command above will retrieve data from the employee table and limit only 2 data to be retrieved (taken from the top), so it will get 3 data taken from the top data. The result will be as follows:"
   ]
  },
  {
   "cell_type": "markdown",
   "id": "8a6af93c",
   "metadata": {},
   "source": [
    "| id | name | age | address | salary |\n",
    "| --- | --- | --- | --- | --- |\n",
    "| 1 | Rizki | 25 | Jl. Kebon Jeruk | 2000000 |\n",
    "| 2 | Andi | 27 | Jl. Kebon Sirih | 3000000 |"
   ]
  },
  {
   "cell_type": "markdown",
   "id": "42036a4f",
   "metadata": {},
   "source": [
    "# Aggregate function"
   ]
  },
  {
   "cell_type": "markdown",
   "id": "cb692d64",
   "metadata": {},
   "source": [
    "An aggregate function is a function used to produce a value based on the data in a table. This function will produce one value only."
   ]
  },
  {
   "cell_type": "markdown",
   "id": "b53bc157",
   "metadata": {},
   "source": [
    "Previously, we have retrieved data from the employee table using the SELECT command. We can use aggregate functions to get certain values from the data in the table. For example, getting the maximum or average value from the data in the salary column of the employee table. Or get the smallest value from all data in the age column."
   ]
  },
  {
   "cell_type": "markdown",
   "id": "49b01580",
   "metadata": {},
   "source": [
    "There are many aggregate functions that can be used, but here we will discuss some functions that are most often used."
   ]
  },
  {
   "cell_type": "markdown",
   "id": "f0369506",
   "metadata": {},
   "source": [
    "# COUNT"
   ]
  },
  {
   "cell_type": "markdown",
   "id": "a3bfcc39",
   "metadata": {},
   "source": [
    "The COUNT function is a function used to count the number of rows in a table. The result of this function will produce one value only. For example:"
   ]
  },
  {
   "cell_type": "code",
   "execution_count": null,
   "id": "58ae7a9d",
   "metadata": {},
   "outputs": [],
   "source": [
    "SELECT COUNT(*) FROM employees;"
   ]
  },
  {
   "cell_type": "markdown",
   "id": "604df3db",
   "metadata": {},
   "source": [
    "Count the number of records in the employees table."
   ]
  },
  {
   "cell_type": "code",
   "execution_count": null,
   "id": "c366965e",
   "metadata": {},
   "outputs": [],
   "source": [
    "import pandas as pd\n",
    "\n",
    "pd.read_sql_query(\"SELECT COUNT(*) FROM employees\", conn)"
   ]
  },
  {
   "cell_type": "markdown",
   "id": "f102b243",
   "metadata": {},
   "source": [
    "|  | COUNT(*) |\n",
    "| --- | --- |\n",
    "| 0 | 5 |"
   ]
  },
  {
   "cell_type": "markdown",
   "id": "63fd0b67",
   "metadata": {},
   "source": [
    "The command above will count the number of rows in the employee table in all columns and produce the value 5, because there are 5 data in the table. The result will be as follows:"
   ]
  },
  {
   "cell_type": "markdown",
   "id": "10222f03",
   "metadata": {},
   "source": [
    "| COUNT(*) |\n",
    "| --- |\n",
    "| 5 |"
   ]
  },
  {
   "cell_type": "markdown",
   "id": "b23ac0cb",
   "metadata": {},
   "source": [
    "This function will not total the value of a specific column that has NULL data. For example, there is the following table data:"
   ]
  },
  {
   "cell_type": "markdown",
   "id": "4bcb2dae",
   "metadata": {},
   "source": [
    "| id | name | age | address | salary |\n",
    "| --- | --- | --- | --- | --- |\n",
    "| 1 | Rizki | 25 | Jl. Kebon Jeruk | 2000000 |\n",
    "| 2 | Andi | 27 | NULL | 3000000 |\n",
    "| 3 | Budi | 30 | NULL | 4000000 |"
   ]
  },
  {
   "cell_type": "code",
   "execution_count": null,
   "id": "1570562b",
   "metadata": {},
   "outputs": [],
   "source": [
    "c.execute('DELETE FROM employees')\n",
    "\n",
    "data = [\n",
    "    (1, 'Rizki', 25, 'Jl. Kebon Jeruk', 2000000),\n",
    "    (2, 'Andi', 27, None, 3000000),\n",
    "    (3, 'Budi', 30, None, 4000000)\n",
    "]\n",
    "c.executemany('INSERT INTO employees VALUES (?,?,?,?,?)', data)\n",
    "\n",
    "conn.commit()"
   ]
  },
  {
   "cell_type": "markdown",
   "id": "31f8535e",
   "metadata": {},
   "source": [
    "If we use the COUNT function on the address column, the result will be 1 because there is only one data that has a value in the address column. If we use the COUNT function on the salary column, the result will be 3 because all data has a value in the salary column."
   ]
  },
  {
   "cell_type": "markdown",
   "id": "3bb8c174",
   "metadata": {},
   "source": [
    "using the COUNT function for the address column"
   ]
  },
  {
   "cell_type": "code",
   "execution_count": null,
   "id": "a2af4e32",
   "metadata": {},
   "outputs": [],
   "source": [
    "SELECT COUNT(address) FROM employees;"
   ]
  },
  {
   "cell_type": "markdown",
   "id": "e6b12c97",
   "metadata": {},
   "source": [
    "The result is as follows:"
   ]
  },
  {
   "cell_type": "markdown",
   "id": "e78cf641",
   "metadata": {},
   "source": [
    "| COUNT(address) |\n",
    "| --- |\n",
    "| 1 |"
   ]
  },
  {
   "cell_type": "markdown",
   "id": "12af1882",
   "metadata": {},
   "source": [
    "using the COUNT function for the salary column"
   ]
  },
  {
   "cell_type": "code",
   "execution_count": null,
   "id": "ab94641b",
   "metadata": {},
   "outputs": [],
   "source": [
    "SELECT COUNT(salary) FROM employees;"
   ]
  },
  {
   "cell_type": "markdown",
   "id": "f523c7dd",
   "metadata": {},
   "source": [
    "The result is as follows:"
   ]
  },
  {
   "cell_type": "markdown",
   "id": "e58f0ed6",
   "metadata": {},
   "source": [
    "| COUNT(salary) |\n",
    "| --- |\n",
    "| 3 |"
   ]
  },
  {
   "cell_type": "markdown",
   "id": "30835c1d",
   "metadata": {},
   "source": [
    "If we look at the results, the column name will become COUNT(address) and COUNT(salary). If we want to change the column name, we can use the AS command to change the column name. For example:"
   ]
  },
  {
   "cell_type": "code",
   "execution_count": null,
   "id": "87e3c68b",
   "metadata": {},
   "outputs": [],
   "source": [
    "SELECT COUNT(address) AS total_address\n",
    "FROM employees;"
   ]
  },
  {
   "cell_type": "markdown",
   "id": "e4c28513",
   "metadata": {},
   "source": [
    "Try in python using SQLite"
   ]
  },
  {
   "cell_type": "code",
   "execution_count": null,
   "id": "5ce7c382",
   "metadata": {},
   "outputs": [],
   "source": [
    "import pandas as pd\n",
    "\n",
    "pd.read_sql_query(\"SELECT COUNT(address) AS total_address FROM employees\", conn)"
   ]
  },
  {
   "cell_type": "markdown",
   "id": "65b35594",
   "metadata": {},
   "source": [
    "|  | total_address |\n",
    "| --- | --- |\n",
    "| 0 | 1 |"
   ]
  },
  {
   "cell_type": "markdown",
   "id": "3193bd6e",
   "metadata": {},
   "source": [
    "By using AS we can change the column name to total_address. The result will be as follows:"
   ]
  },
  {
   "cell_type": "markdown",
   "id": "816a43a4",
   "metadata": {},
   "source": [
    "| total_address |\n",
    "| --- |\n",
    "| 1 |"
   ]
  },
  {
   "cell_type": "markdown",
   "id": "79c338ed",
   "metadata": {},
   "source": [
    "# CONCAT"
   ]
  },
  {
   "cell_type": "markdown",
   "id": "61681bba",
   "metadata": {},
   "source": [
    "The CONCAT function is a function used to combine two or more strings into one. This function will produce one string only."
   ]
  },
  {
   "cell_type": "code",
   "execution_count": null,
   "id": "3d946021",
   "metadata": {},
   "outputs": [],
   "source": [
    "CONCAT(string1, string2, string3, ...)"
   ]
  },
  {
   "cell_type": "markdown",
   "id": "562b7499",
   "metadata": {},
   "source": [
    "For example, if there is a persons table with columns and data as follows:"
   ]
  },
  {
   "cell_type": "markdown",
   "id": "a2f1e46b",
   "metadata": {},
   "source": [
    "| id | salutation | name | age |\n",
    "| --- | --- | --- | --- |\n",
    "| 1 | Mr | Rizki Sanjaya | 25 |\n",
    "| 2 | Mr | Andi William | 27 |\n",
    "| 3 | Ms | Susi Andini | 30 |"
   ]
  },
  {
   "cell_type": "markdown",
   "id": "0f17c574",
   "metadata": {},
   "source": [
    "We can combine the salutation and name columns into one column using the CONCAT function. For example:"
   ]
  },
  {
   "cell_type": "code",
   "execution_count": null,
   "id": "bf4c8647",
   "metadata": {},
   "outputs": [],
   "source": [
    "c.execute('''\n",
    "CREATE TABLE persons (\n",
    "    id INT,\n",
    "    salutation TEXT,\n",
    "    name TEXT,\n",
    "    age INT);\n",
    "''')\n",
    "conn.commit()"
   ]
  },
  {
   "cell_type": "code",
   "execution_count": null,
   "id": "7caae6d2",
   "metadata": {},
   "outputs": [],
   "source": [
    "data = [\n",
    "    (1, 'Mr', 'Rizki Sanjaya', 25),\n",
    "    (2, 'Mr', 'Andi William', 27),\n",
    "    (3, 'Mr', 'Susi Andini', 30)\n",
    "]\n",
    "c.executemany('INSERT INTO persons VALUES (?,?,?,?)', data)\n",
    "\n",
    "conn.commit()"
   ]
  },
  {
   "cell_type": "code",
   "execution_count": null,
   "id": "4f58c037",
   "metadata": {},
   "outputs": [],
   "source": [
    "import pandas as pd\n",
    "\n",
    "pd.read_sql_query(\"SELECT * FROM persons\", conn)"
   ]
  },
  {
   "cell_type": "markdown",
   "id": "3731598d",
   "metadata": {},
   "source": [
    "|  | id | salutation | name | age |\n",
    "| --- | --- | --- | --- | --- |\n",
    "| 0 | 1 | Mr | Rizki Sanjaya | 25 |\n",
    "| 1 | 2 | Mr | Andi William | 27 |\n",
    "| 2 | 3 | Mr | Susi Andini | 30 |"
   ]
  },
  {
   "cell_type": "code",
   "execution_count": null,
   "id": "117f46b6",
   "metadata": {},
   "outputs": [],
   "source": [
    "SELECT CONCAT(salutation, ' ', name) AS fullname\n",
    "FROM persons;"
   ]
  },
  {
   "cell_type": "markdown",
   "id": "76edc995",
   "metadata": {},
   "source": [
    "Try in python using SQLite (CONCAT is not supported by SQLite. In SQLite, you can use the || operator to concatenate strings.)"
   ]
  },
  {
   "cell_type": "code",
   "execution_count": null,
   "id": "2c6fe1fe",
   "metadata": {},
   "outputs": [],
   "source": [
    "import pandas as pd\n",
    "\n",
    "pd.read_sql_query(\"SELECT (salutation || ' ' || name) AS fullname FROM persons\", conn)"
   ]
  },
  {
   "cell_type": "markdown",
   "id": "26f6b903",
   "metadata": {},
   "source": [
    "|  | fullname |\n",
    "| --- | --- |\n",
    "| 0 | Mr Rizki Sanjaya |\n",
    "| 1 | Mr Andi William |\n",
    "| 2 | Mr Susi Andini |"
   ]
  },
  {
   "cell_type": "markdown",
   "id": "9942e2fd",
   "metadata": {},
   "source": [
    "The command above will combine the salutation and name columns using a space as a separator. The result will be as follows:"
   ]
  },
  {
   "cell_type": "markdown",
   "id": "fa5aa59f",
   "metadata": {},
   "source": [
    "| fullname |\n",
    "| --- |\n",
    "| Mr Rizki Sanjaya |\n",
    "| Mr Andi William |\n",
    "| Ms Susi Andini |"
   ]
  },
  {
   "cell_type": "markdown",
   "id": "4ff22bb8",
   "metadata": {},
   "source": [
    "You can try using the aggregate functions explained in this online SQL compiler or the DBMS tool you are using."
   ]
  },
  {
   "cell_type": "markdown",
   "id": "36d9c9bd",
   "metadata": {},
   "source": [
    "In addition to COUNT, there are other aggregate functions such as MIN, MAX, AVG, SUM, and others that you can read in W3 School - SQL Aggregate Function."
   ]
  },
  {
   "cell_type": "code",
   "execution_count": null,
   "id": "b27506c8",
   "metadata": {},
   "outputs": [],
   "source": [
    "# Close the connection\n",
    "conn.close()"
   ]
  },
  {
   "cell_type": "markdown",
   "id": "df749175",
   "metadata": {},
   "source": [
    "Next, we continue into accessing and manipulating data in multiple tables using JOIN and TRANSACTION"
   ]
  }
 ],
 "metadata": {},
 "nbformat": 4,
 "nbformat_minor": 5
}
