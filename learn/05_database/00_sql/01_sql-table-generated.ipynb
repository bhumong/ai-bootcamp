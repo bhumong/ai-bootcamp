{
 "cells": [
  {
   "cell_type": "markdown",
   "id": "e55ed393",
   "metadata": {},
   "source": [
    "# SQL Fundamentals with Python - Tables"
   ]
  },
  {
   "cell_type": "markdown",
   "id": "9702ca1e",
   "metadata": {},
   "source": [
    "# DML (Data Manipulation Language)"
   ]
  },
  {
   "cell_type": "markdown",
   "id": "a49598fb",
   "metadata": {},
   "source": [
    "# What is DML?"
   ]
  },
  {
   "cell_type": "markdown",
   "id": "3ecc9079",
   "metadata": {},
   "source": [
    "Data Manipulation Language (DML) is used to modify data in a database. DML is responsible for all forms of data changes within the database."
   ]
  },
  {
   "cell_type": "markdown",
   "id": "57ea9abb",
   "metadata": {},
   "source": [
    "The most frequently used DML commands are INSERT, UPDATE, and DELETE. Let’s discuss these commands by continuing with the example table that was created earlier."
   ]
  },
  {
   "cell_type": "markdown",
   "id": "021f51de",
   "metadata": {},
   "source": [
    "The table has the following structure and data:"
   ]
  },
  {
   "cell_type": "markdown",
   "id": "493ed75f",
   "metadata": {},
   "source": [
    "In the DDL material, we have already created a database and this table, let’s add the data above into the table that is already created:"
   ]
  },
  {
   "cell_type": "code",
   "execution_count": null,
   "id": "710e2fc8",
   "metadata": {},
   "outputs": [],
   "source": [
    "-- create database\n",
    "CREATE DATABASE db_employee;\n",
    "\n",
    "-- use database\n",
    "USE db_employee;\n",
    "\n",
    "-- create table\n",
    "CREATE TABLE employees (\n",
    "  id SERIAL PRIMARY KEY,\n",
    "  name VARCHAR(50) NOT NULL,\n",
    "  age INT NOT NULL,\n",
    "  address VARCHAR(100),\n",
    "  salary INT\n",
    ");"
   ]
  },
  {
   "cell_type": "markdown",
   "id": "8afd20a1",
   "metadata": {},
   "source": [
    "Try in python using SQLite"
   ]
  },
  {
   "cell_type": "code",
   "execution_count": null,
   "id": "f25d8e09",
   "metadata": {},
   "outputs": [],
   "source": [
    "import sqlite3\n",
    "\n",
    "# Connect to the SQLite database\n",
    "# If the database does not exist, it will be created\n",
    "conn = sqlite3.connect('db/sqlite.db')\n",
    "\n",
    "# Create a cursor object\n",
    "cur = conn.cursor()"
   ]
  },
  {
   "cell_type": "code",
   "execution_count": null,
   "id": "ae9624fb",
   "metadata": {},
   "outputs": [],
   "source": [
    "# Execute a SQL command: this creates a new table\n",
    "cur.execute('''\n",
    "    CREATE TABLE employees (\n",
    "        id INTEGER,\n",
    "        name TEXT NOT NULL,\n",
    "        age INTEGER NOT NULL,\n",
    "        address TEXT,\n",
    "        salary INTEGER\n",
    "    )\n",
    "''')\n",
    "\n",
    "# Commit the transaction\n",
    "conn.commit()"
   ]
  },
  {
   "cell_type": "markdown",
   "id": "0ba9037e",
   "metadata": {},
   "source": [
    "We will continue with examples of DML commands."
   ]
  },
  {
   "cell_type": "markdown",
   "id": "f704bb03",
   "metadata": {},
   "source": [
    "# INSERT"
   ]
  },
  {
   "cell_type": "markdown",
   "id": "cd163dac",
   "metadata": {},
   "source": [
    "We can use the INSERT command to add new data into a table. The INSERT command has the following structure:"
   ]
  },
  {
   "cell_type": "code",
   "execution_count": null,
   "id": "2c9364c3",
   "metadata": {},
   "outputs": [],
   "source": [
    "INSERT INTO <table-name> VALUES (column1, column2, column3, ...)"
   ]
  },
  {
   "cell_type": "markdown",
   "id": "7393047a",
   "metadata": {},
   "source": [
    "Looking at the example above, we can see that the INSERT command has two parts, namely the INSERT INTO part and the VALUES part. The INSERT INTO part is used to designate which table we will add data to, where <table-name> is the name of the table that we will add data to. The VALUES part is used to specify what data we will add into the table."
   ]
  },
  {
   "cell_type": "markdown",
   "id": "97e4fcb2",
   "metadata": {},
   "source": [
    "Here is an example of an INSERT command that will add new data into the employees table:"
   ]
  },
  {
   "cell_type": "code",
   "execution_count": null,
   "id": "ef113856",
   "metadata": {},
   "outputs": [],
   "source": [
    "INSERT INTO employees VALUES (1, 'Rizki', 25, 'Jl. Kebon Jeruk', 2000000);"
   ]
  },
  {
   "cell_type": "markdown",
   "id": "4bef9634",
   "metadata": {},
   "source": [
    "Try in python using SQLite"
   ]
  },
  {
   "cell_type": "code",
   "execution_count": null,
   "id": "bf07c08a",
   "metadata": {},
   "outputs": [],
   "source": [
    "cur.execute(\"INSERT INTO employees VALUES (1, 'Rizki', 25, 'Jl. Kebon Jeruk', 2000000)\")\n",
    "conn.commit()"
   ]
  },
  {
   "cell_type": "markdown",
   "id": "12af2db1",
   "metadata": {},
   "source": [
    "See the table:"
   ]
  },
  {
   "cell_type": "code",
   "execution_count": null,
   "id": "376b8799",
   "metadata": {},
   "outputs": [],
   "source": [
    "import pandas as pd\n",
    "\n",
    "pd.read_sql_query(\"SELECT * FROM employees\", conn)"
   ]
  },
  {
   "cell_type": "markdown",
   "id": "a9a14a11",
   "metadata": {},
   "source": [
    "When adding string data in SQL we must use a single quote (') to mark that the data is a string, like 'Rizky'. If we do not use a single quote, then the data will be considered invalid."
   ]
  },
  {
   "cell_type": "markdown",
   "id": "48b092cd",
   "metadata": {},
   "source": [
    "The result will be as follows:"
   ]
  },
  {
   "cell_type": "markdown",
   "id": "592d659e",
   "metadata": {},
   "source": [
    "The command above will add new data into the employees table, the data will be filled in according to the order of the columns in the table. 1 will be filled into the id column, 'Rizki' will be filled into the name column, and 25 will be filled into the age column and so forth."
   ]
  },
  {
   "cell_type": "markdown",
   "id": "7498d917",
   "metadata": {},
   "source": [
    "If we want to add new data into specific columns, we can add the column name in the INSERT INTO section as follows:"
   ]
  },
  {
   "cell_type": "code",
   "execution_count": null,
   "id": "a900b52a",
   "metadata": {},
   "outputs": [],
   "source": [
    "INSERT INTO employee (id, name, age) VALUES (1, 'Rizki', 25);"
   ]
  },
  {
   "cell_type": "markdown",
   "id": "785271d5",
   "metadata": {},
   "source": [
    "Try in python using SQLite"
   ]
  },
  {
   "cell_type": "code",
   "execution_count": null,
   "id": "d1cbce43",
   "metadata": {},
   "outputs": [],
   "source": [
    "cur.execute(\"INSERT INTO employees (id, name, age) VALUES (1, 'Rizki', 25)\")\n",
    "conn.commit()"
   ]
  },
  {
   "cell_type": "markdown",
   "id": "7085648a",
   "metadata": {},
   "source": [
    "See the table:"
   ]
  },
  {
   "cell_type": "code",
   "execution_count": null,
   "id": "e832174e",
   "metadata": {},
   "outputs": [],
   "source": [
    "import pandas as pd\n",
    "\n",
    "pd.read_sql_query(\"SELECT * FROM employees\", conn)"
   ]
  },
  {
   "cell_type": "markdown",
   "id": "098bea18",
   "metadata": {},
   "source": [
    "The result will be:"
   ]
  },
  {
   "cell_type": "markdown",
   "id": "1b49a7d7",
   "metadata": {},
   "source": [
    "The example above is adding new data into the id, name, and age columns. Because we are only adding data into the id, name, and age columns, the address and salary columns will be filled with NULL values."
   ]
  },
  {
   "cell_type": "markdown",
   "id": "e69c5909",
   "metadata": {},
   "source": [
    "Please note, NULL data is data that has no value, if we want to set it so that the column cannot be filled with NULL data, we can use the NOT NULL constraints when creating the column."
   ]
  },
  {
   "cell_type": "markdown",
   "id": "9304aca8",
   "metadata": {},
   "source": [
    "We can also add NULL data into a specific column, just like adding other data:"
   ]
  },
  {
   "cell_type": "code",
   "execution_count": null,
   "id": "d1ecea5f",
   "metadata": {},
   "outputs": [],
   "source": [
    "INSERT INTO employee (id, name, age, address, salary) VALUES (1, 'Rizki', 25, NULL, NULL);"
   ]
  },
  {
   "cell_type": "markdown",
   "id": "3cb72936",
   "metadata": {},
   "source": [
    "Try in python using SQLite"
   ]
  },
  {
   "cell_type": "code",
   "execution_count": null,
   "id": "4935a481",
   "metadata": {},
   "outputs": [],
   "source": [
    "cur.execute(\"INSERT INTO employees (id, name, age, address, salary) VALUES (1, 'Rizki', 25, NULL, NULL)\")\n",
    "conn.commit()"
   ]
  },
  {
   "cell_type": "markdown",
   "id": "377181ba",
   "metadata": {},
   "source": [
    "See the table:"
   ]
  },
  {
   "cell_type": "code",
   "execution_count": null,
   "id": "0f3a727a",
   "metadata": {},
   "outputs": [],
   "source": [
    "import pandas as pd\n",
    "\n",
    "pd.read_sql_query(\"SELECT * FROM employees\", conn)"
   ]
  },
  {
   "cell_type": "markdown",
   "id": "cb495c15",
   "metadata": {},
   "source": [
    "Finally, we can add more than one data into a table using the INSERT command separated by \",\", as follows:"
   ]
  },
  {
   "cell_type": "code",
   "execution_count": null,
   "id": "3facef98",
   "metadata": {},
   "outputs": [],
   "source": [
    "INSERT INTO employees\n",
    "VALUES (1, 'Rizki', 25, 'Jl. Kebon Jeruk', 2000000),\n",
    "(2, 'Andi', 27, 'Jl. Kebon Sirih', 3000000),\n",
    "(3, 'Budi', 30, 'Jl. Kebon Melati', 4000000),\n",
    "(4, 'Caca', 32, 'Jl. Kebon Anggrek', 5000000),\n",
    "(5, 'Deni', 35, 'Jl. Kebon Mawar', 6000000);"
   ]
  },
  {
   "cell_type": "markdown",
   "id": "c40fba8b",
   "metadata": {},
   "source": [
    "It can also be done using specific columns:"
   ]
  },
  {
   "cell_type": "code",
   "execution_count": null,
   "id": "12e3ee7f",
   "metadata": {},
   "outputs": [],
   "source": [
    "INSERT INTO employees (id, name, age)\n",
    "VALUES (1, 'Rizki', 25),\n",
    "(2, 'Andi', 27),\n",
    "(3, 'Budi', 30),\n",
    "(4, 'Caca', 32),\n",
    "(5, 'Deni', 35);"
   ]
  },
  {
   "cell_type": "markdown",
   "id": "41b6d636",
   "metadata": {},
   "source": [
    "As a result, it will add 5 new data into the employees table."
   ]
  },
  {
   "cell_type": "markdown",
   "id": "774b26d8",
   "metadata": {},
   "source": [
    "You can try adding new data into the employees table with the above INSERT command in this online SQL compiler or the SQLite tool you are using."
   ]
  },
  {
   "cell_type": "markdown",
   "id": "d52a4649",
   "metadata": {},
   "source": [
    "Try in python using SQLite"
   ]
  },
  {
   "cell_type": "code",
   "execution_count": null,
   "id": "9c01755a",
   "metadata": {},
   "outputs": [],
   "source": [
    "# Insert multiple data rows into the table\n",
    "data = [\n",
    "    (2, 'Andi', 27, 'Jl. Kebon Sirih', 3000000),\n",
    "    (3, 'Budi', 30, 'Jl. Kebon Melati', 4000000),\n",
    "    (4, 'Caca', 32, 'Jl. Kebon Anggrek', 5000000),\n",
    "    (5, 'Deni', 35, 'Jl. Kebon Mawar', 6000000)\n",
    "]\n",
    "\n",
    "cur.executemany(\"INSERT INTO employees VALUES (?, ?, ?, ?, ?)\", data)\n",
    "conn.commit()"
   ]
  },
  {
   "cell_type": "markdown",
   "id": "22805521",
   "metadata": {},
   "source": [
    "See the table:"
   ]
  },
  {
   "cell_type": "code",
   "execution_count": null,
   "id": "0ccb863b",
   "metadata": {},
   "outputs": [],
   "source": [
    "import pandas as pd\n",
    "\n",
    "pd.read_sql_query(\"SELECT * FROM employees\", conn)"
   ]
  },
  {
   "cell_type": "markdown",
   "id": "36f83103",
   "metadata": {},
   "source": [
    "# UPDATE"
   ]
  },
  {
   "cell_type": "markdown",
   "id": "ff5db31c",
   "metadata": {},
   "source": [
    "The UPDATE command is used to modify existing data in a table. The UPDATE command has the following structure:"
   ]
  },
  {
   "cell_type": "code",
   "execution_count": null,
   "id": "453674a8",
   "metadata": {},
   "outputs": [],
   "source": [
    "UPDATE <table-name>\n",
    "SET <column-name> = <new-value>\n",
    "WHERE <condition>;"
   ]
  },
  {
   "cell_type": "markdown",
   "id": "61898b86",
   "metadata": {},
   "source": [
    "Where <table-name> is the name of the table whose data we will change, <column-name> is the name of the column whose data we will change, <new-value> is the new value that we will insert into that column, and <condition> is the condition that will determine which data we will modify."
   ]
  },
  {
   "cell_type": "markdown",
   "id": "8832b9c4",
   "metadata": {},
   "source": [
    "Here is an example of the UPDATE command that will modify the data in the employees table:"
   ]
  },
  {
   "cell_type": "code",
   "execution_count": null,
   "id": "fac3f8d6",
   "metadata": {},
   "outputs": [],
   "source": [
    "UPDATE employees\n",
    "SET name = 'Rizal', age = 26\n",
    "WHERE id = 1;"
   ]
  },
  {
   "cell_type": "markdown",
   "id": "4501541e",
   "metadata": {},
   "source": [
    "Try in python using SQLite"
   ]
  },
  {
   "cell_type": "code",
   "execution_count": null,
   "id": "edeaf153",
   "metadata": {},
   "outputs": [],
   "source": [
    "# Update data in the table\n",
    "cur.execute(\"UPDATE employees SET name = 'Rizal', age = 26 WHERE id = 1\")\n",
    "conn.commit()"
   ]
  },
  {
   "cell_type": "markdown",
   "id": "4ed4c843",
   "metadata": {},
   "source": [
    "See the table:"
   ]
  },
  {
   "cell_type": "code",
   "execution_count": null,
   "id": "fe7b1262",
   "metadata": {},
   "outputs": [],
   "source": [
    "import pandas as pd\n",
    "\n",
    "pd.read_sql_query(\"SELECT * FROM employees\", conn)"
   ]
  },
  {
   "cell_type": "markdown",
   "id": "1b8d2a9f",
   "metadata": {},
   "source": [
    "In the example above, we are changing the name data to 'Rizal' and the age data to 26, separating the columns we will change with \",\". And the data being modified is the one with id = 1."
   ]
  },
  {
   "cell_type": "markdown",
   "id": "e874db72",
   "metadata": {},
   "source": [
    "Data before modification:"
   ]
  },
  {
   "cell_type": "markdown",
   "id": "a49550f6",
   "metadata": {},
   "source": [
    "Data after modification:"
   ]
  },
  {
   "cell_type": "markdown",
   "id": "cc249ca9",
   "metadata": {},
   "source": [
    "ATTENTION !!"
   ]
  },
  {
   "cell_type": "markdown",
   "id": "235e20ad",
   "metadata": {},
   "source": [
    "Make sure to add WHERE so that we do not change all the data in the table. If we do not add WHERE, then all the data in the table will be changed. The example above is where we only change data that has id = 1, so the name and age data only changes the data at id 1."
   ]
  },
  {
   "cell_type": "markdown",
   "id": "914da64b",
   "metadata": {},
   "source": [
    "You can try modifying the data in the employees table with the above UPDATE command using this online SQL compiler or the DBMS tool you are using."
   ]
  },
  {
   "cell_type": "markdown",
   "id": "e94db6b2",
   "metadata": {},
   "source": [
    "# DELETE"
   ]
  },
  {
   "cell_type": "markdown",
   "id": "e11e9be7",
   "metadata": {},
   "source": [
    "The DELETE command is used to remove existing data from a table. The DELETE command has the following structure:"
   ]
  },
  {
   "cell_type": "code",
   "execution_count": null,
   "id": "1dbcb22c",
   "metadata": {},
   "outputs": [],
   "source": [
    "DELETE FROM <table-name>\n",
    "WHERE <condition>;"
   ]
  },
  {
   "cell_type": "markdown",
   "id": "1184d05e",
   "metadata": {},
   "source": [
    "Where <table-name> is the name of the table whose data we will delete, and <condition> is the condition that will determine which data we will delete."
   ]
  },
  {
   "cell_type": "markdown",
   "id": "efde81d2",
   "metadata": {},
   "source": [
    "Here is an example of the DELETE command that will delete data in the employees table:"
   ]
  },
  {
   "cell_type": "code",
   "execution_count": null,
   "id": "b6c7365e",
   "metadata": {},
   "outputs": [],
   "source": [
    "DELETE FROM employees\n",
    "WHERE id = 1;"
   ]
  },
  {
   "cell_type": "markdown",
   "id": "a7e642be",
   "metadata": {},
   "source": [
    "Try in python using SQLite"
   ]
  },
  {
   "cell_type": "code",
   "execution_count": null,
   "id": "d5b0981f",
   "metadata": {},
   "outputs": [],
   "source": [
    "# Delete data from the table\n",
    "cur.execute(\"DELETE FROM employees WHERE id = 1\")\n",
    "conn.commit()"
   ]
  },
  {
   "cell_type": "markdown",
   "id": "87db5fe2",
   "metadata": {},
   "source": [
    "See the table:"
   ]
  },
  {
   "cell_type": "code",
   "execution_count": null,
   "id": "5d761f85",
   "metadata": {},
   "outputs": [],
   "source": [
    "import pandas as pd\n",
    "\n",
    "pd.read_sql_query(\"SELECT * FROM employees\", conn)"
   ]
  },
  {
   "cell_type": "markdown",
   "id": "af53be84",
   "metadata": {},
   "source": [
    "In the example above, we are deleting data with id = 1."
   ]
  },
  {
   "cell_type": "markdown",
   "id": "8ce2ce5b",
   "metadata": {},
   "source": [
    "Data before deletion:"
   ]
  },
  {
   "cell_type": "markdown",
   "id": "9d4c7620",
   "metadata": {},
   "source": [
    "Data after deletion:"
   ]
  },
  {
   "cell_type": "markdown",
   "id": "df21bcc6",
   "metadata": {},
   "source": [
    "ATTENTION !!"
   ]
  },
  {
   "cell_type": "markdown",
   "id": "4183907a",
   "metadata": {},
   "source": [
    "Make sure to add WHERE just like UPDATE so we do not delete all the data in the table. If we do not add WHERE, then all the data in the table will be deleted. The example above is where we only delete data that has id = 1, so the name and age data only changes the data at id 1."
   ]
  },
  {
   "cell_type": "markdown",
   "id": "853a8f68",
   "metadata": {},
   "source": [
    "You can try deleting data in the employees table with the above DELETE command using this online SQL compiler or the DBMS tool you are using."
   ]
  },
  {
   "cell_type": "code",
   "execution_count": null,
   "id": "e157d4a6",
   "metadata": {},
   "outputs": [],
   "source": [
    "# Close the connection\n",
    "conn.close()"
   ]
  },
  {
   "cell_type": "markdown",
   "id": "bbec0f0b",
   "metadata": {},
   "source": [
    "# DQL (Data Query Language)"
   ]
  },
  {
   "cell_type": "markdown",
   "id": "d6eccef5",
   "metadata": {},
   "source": [
    "# What is DQL?"
   ]
  },
  {
   "cell_type": "markdown",
   "id": "140fac20",
   "metadata": {},
   "source": [
    "Data Query Language (DQL) is used to retrieve data from a table in a database. The purpose of DQL is to obtain data using SQL commands. The SQL command used is SELECT."
   ]
  },
  {
   "cell_type": "markdown",
   "id": "e23b3ec8",
   "metadata": {},
   "source": [
    "Let’s continue with the data we have created in the previous section."
   ]
  },
  {
   "cell_type": "markdown",
   "id": "9e923f4b",
   "metadata": {},
   "source": [
    "Then we try to save this data into the employees table with the following SQL command:"
   ]
  },
  {
   "cell_type": "code",
   "execution_count": null,
   "id": "6a58bd1c",
   "metadata": {},
   "outputs": [],
   "source": [
    "-- create data in table employee\n",
    "INSERT INTO employees (id, name, age, address, salary)\n",
    "VALUES (1, 'Rizki', 25, 'Jl. Kebon Jeruk', 2000000),\n",
    "(2, 'Andi', 27, 'Jl. Kebon Sirih', 3000000),\n",
    "(3, 'Budi', 30, 'Jl. Kebon Melati', 4000000),\n",
    "(4, 'Caca', 32, 'Jl. Kebon Anggrek', 5000000),\n",
    "(5, 'Deni', 35, 'Jl. Kebon Mawar', 6000000);"
   ]
  },
  {
   "cell_type": "code",
   "execution_count": null,
   "id": "ffcf37d7",
   "metadata": {},
   "outputs": [],
   "source": [
    "import sqlite3\n",
    "\n",
    "# Connect to SQLite database\n",
    "conn = sqlite3.connect('db/sqlite.db')\n",
    "\n",
    "# Create a cursor object\n",
    "c = conn.cursor()"
   ]
  },
  {
   "cell_type": "code",
   "execution_count": null,
   "id": "1736da6d",
   "metadata": {},
   "outputs": [],
   "source": [
    "# Create table\n",
    "c.execute('''\n",
    "CREATE TABLE employees (\n",
    "    id INT,\n",
    "    name TEXT,\n",
    "    age INT,\n",
    "    address TEXT,\n",
    "    salary REAL);\n",
    "''')\n",
    "# Commit the transaction\n",
    "conn.commit()"
   ]
  },
  {
   "cell_type": "code",
   "execution_count": null,
   "id": "2b49e806",
   "metadata": {},
   "outputs": [],
   "source": [
    "# Insert data into the table\n",
    "data = [\n",
    "    (1, 'Rizki', 25, 'Jl. Kebon Jeruk', 2000000),\n",
    "    (2, 'Andi', 27, 'Jl. Kebon Sirih', 3000000),\n",
    "    (3, 'Budi', 30, 'Jl. Kebon Melati', 4000000),\n",
    "    (4, 'Caca', 32, 'Jl. Kebon Anggrek', 5000000),\n",
    "    (5, 'Deni', 35, 'Jl. Kebon Mawar', 6000000)\n",
    "]\n",
    "c.executemany('INSERT INTO employees VALUES (?,?,?,?,?)', data)\n",
    "\n",
    "# Commit the transaction\n",
    "conn.commit()"
   ]
  },
  {
   "cell_type": "markdown",
   "id": "cd2c71b7",
   "metadata": {},
   "source": [
    "# SELECT"
   ]
  },
  {
   "cell_type": "markdown",
   "id": "95378bd5",
   "metadata": {},
   "source": [
    "The SELECT command is used to retrieve data from a table. The SELECT command has a fairly complex syntax. Here is a simple command example to retrieve data from the employee table:"
   ]
  },
  {
   "cell_type": "code",
   "execution_count": null,
   "id": "a3eadd8e",
   "metadata": {},
   "outputs": [],
   "source": [
    "SELECT * FROM employees;"
   ]
  },
  {
   "cell_type": "markdown",
   "id": "77c870e2",
   "metadata": {},
   "source": [
    "Retrieve all data from the employees table."
   ]
  },
  {
   "cell_type": "code",
   "execution_count": null,
   "id": "2e92bb02",
   "metadata": {},
   "outputs": [],
   "source": [
    "import pandas as pd\n",
    "\n",
    "pd.read_sql_query(\"SELECT * FROM employees\", conn)"
   ]
  },
  {
   "cell_type": "markdown",
   "id": "3b548ae0",
   "metadata": {},
   "source": [
    "The command above will retrieve data in the employees table. We use * to retrieve all columns in the employee table. If we want to retrieve data from a specific column, we can write the column name in the SELECT command. For example:"
   ]
  },
  {
   "cell_type": "markdown",
   "id": "f726c95c",
   "metadata": {},
   "source": [
    "The results will be as follows:"
   ]
  },
  {
   "cell_type": "code",
   "execution_count": null,
   "id": "cf66070b",
   "metadata": {},
   "outputs": [],
   "source": [
    "SELECT id, name, age FROM employees;"
   ]
  },
  {
   "cell_type": "markdown",
   "id": "9903c01b",
   "metadata": {},
   "source": [
    "Retrieve specific columns (id, name, age) from the employees table."
   ]
  },
  {
   "cell_type": "code",
   "execution_count": null,
   "id": "e44421fa",
   "metadata": {},
   "outputs": [],
   "source": [
    "import pandas as pd\n",
    "\n",
    "pd.read_sql_query(\"SELECT id, name, age FROM employees\", conn)"
   ]
  },
  {
   "cell_type": "markdown",
   "id": "b0ab83cf",
   "metadata": {},
   "source": [
    "The command above will retrieve all data for several columns, we can write the column name separated by ,. Because in the command it writes the id, name and age columns on the employee table, the result will be as follows:"
   ]
  },
  {
   "cell_type": "markdown",
   "id": "fdb9d61a",
   "metadata": {},
   "source": [
    "# WHERE"
   ]
  },
  {
   "cell_type": "markdown",
   "id": "727f90ca",
   "metadata": {},
   "source": [
    "The WHERE command is used to filter the data to be retrieved. The WHERE command must be written after the SELECT command. For example:"
   ]
  },
  {
   "cell_type": "code",
   "execution_count": null,
   "id": "c5f4743e",
   "metadata": {},
   "outputs": [],
   "source": [
    "SELECT * FROM employees\n",
    "WHERE id = 1;"
   ]
  },
  {
   "cell_type": "markdown",
   "id": "fee4d90e",
   "metadata": {},
   "source": [
    "Retrieve data from the employees table with id equals to 1."
   ]
  },
  {
   "cell_type": "code",
   "execution_count": null,
   "id": "e734e272",
   "metadata": {},
   "outputs": [],
   "source": [
    "import pandas as pd\n",
    "\n",
    "pd.read_sql_query(\"SELECT * FROM employees WHERE id = 1\", conn)"
   ]
  },
  {
   "cell_type": "markdown",
   "id": "e026490b",
   "metadata": {},
   "source": [
    "The command above will retrieve data from the employees table with id 1, so it only gets 1 data that has id 1. The result will be as follows:"
   ]
  },
  {
   "cell_type": "markdown",
   "id": "431e9b77",
   "metadata": {},
   "source": [
    "We can also use the WHERE command for logical operations. For example:"
   ]
  },
  {
   "cell_type": "code",
   "execution_count": null,
   "id": "1479a9b5",
   "metadata": {},
   "outputs": [],
   "source": [
    "SELECT * FROM employees\n",
    "WHERE age < 30;"
   ]
  },
  {
   "cell_type": "markdown",
   "id": "380a944d",
   "metadata": {},
   "source": [
    "Retrieve data from the employees table with age less than 30."
   ]
  },
  {
   "cell_type": "code",
   "execution_count": null,
   "id": "4e85fbff",
   "metadata": {},
   "outputs": [],
   "source": [
    "import pandas as pd\n",
    "\n",
    "pd.read_sql_query(\"SELECT * FROM employees WHERE age < 30\", conn)"
   ]
  },
  {
   "cell_type": "markdown",
   "id": "376151e0",
   "metadata": {},
   "source": [
    "The command above will retrieve data from the employees table with ages less than 30 years, so it only gets 2 data that has an age less than 30 years. The result will be as follows:"
   ]
  },
  {
   "cell_type": "markdown",
   "id": "bb651dba",
   "metadata": {},
   "source": [
    "There are logical operations that can be used to combine several conditions namely AND and OR."
   ]
  },
  {
   "cell_type": "code",
   "execution_count": null,
   "id": "0606899f",
   "metadata": {},
   "outputs": [],
   "source": [
    "SELECT * FROM employees\n",
    "WHERE age < 30 AND salary > 2000000;"
   ]
  },
  {
   "cell_type": "markdown",
   "id": "79336310",
   "metadata": {},
   "source": [
    "Retrieve data from the employees table with age less than 30 and more than 2000000."
   ]
  },
  {
   "cell_type": "code",
   "execution_count": null,
   "id": "3b677d33",
   "metadata": {},
   "outputs": [],
   "source": [
    "import pandas as pd\n",
    "\n",
    "pd.read_sql_query(\"SELECT * FROM employees WHERE age < 30 AND salary > 2000000\", conn)"
   ]
  },
  {
   "cell_type": "markdown",
   "id": "e06bea00",
   "metadata": {},
   "source": [
    "The command above will retrieve data from the employee table with an age less than 30 years and a salary more than 2 million, so it only gets 1 data that has an age less than 30 years and a salary more than 2 million. The result will be as follows:"
   ]
  },
  {
   "cell_type": "markdown",
   "id": "fe5f0392",
   "metadata": {},
   "source": [
    "# IN"
   ]
  },
  {
   "cell_type": "markdown",
   "id": "5b304ae6",
   "metadata": {},
   "source": [
    "The IN command is used to filter the data to be retrieved based on a dataset that contains several values. This command is combined with the WHERE command and must be written after it. For example:"
   ]
  },
  {
   "cell_type": "code",
   "execution_count": null,
   "id": "ffca9f4d",
   "metadata": {},
   "outputs": [],
   "source": [
    "SELECT * FROM employees\n",
    "WHERE id IN (1, 3, 5);"
   ]
  },
  {
   "cell_type": "markdown",
   "id": "83c71c00",
   "metadata": {},
   "source": [
    "Retrieve data from the employees table with id in (1, 3, 5)."
   ]
  },
  {
   "cell_type": "code",
   "execution_count": null,
   "id": "2145dc4b",
   "metadata": {},
   "outputs": [],
   "source": [
    "import pandas as pd\n",
    "\n",
    "pd.read_sql_query(\"SELECT * FROM employees WHERE id IN (1, 3, 5)\", conn)"
   ]
  },
  {
   "cell_type": "markdown",
   "id": "e7c45712",
   "metadata": {},
   "source": [
    "The command above will retrieve data from the employee table with id 1, 3 and 5, so it will get 3 data that has id 1, 3 and 5. The result will be as follows:"
   ]
  },
  {
   "cell_type": "markdown",
   "id": "a13255b8",
   "metadata": {},
   "source": [
    "You can apply the basic SELECT command using this online SQL compiler or the DBMS tool you are using. Don’t forget to add data first before doing the SELECT command."
   ]
  },
  {
   "cell_type": "markdown",
   "id": "af11da59",
   "metadata": {},
   "source": [
    "# ORDER BY"
   ]
  },
  {
   "cell_type": "markdown",
   "id": "7c975d7b",
   "metadata": {},
   "source": [
    "The ORDER BY command is used to sort the data to be retrieved. This command is combined with the SELECT command and must be written after it. This command only has two types of sorting namely ASC and DESC."
   ]
  },
  {
   "cell_type": "markdown",
   "id": "65e74e1f",
   "metadata": {},
   "source": [
    "For example:"
   ]
  },
  {
   "cell_type": "code",
   "execution_count": null,
   "id": "4fd9dc32",
   "metadata": {},
   "outputs": [],
   "source": [
    "SELECT * FROM employees\n",
    "ORDER BY age DESC;"
   ]
  },
  {
   "cell_type": "markdown",
   "id": "40f8fa32",
   "metadata": {},
   "source": [
    "Retrieve data from the employees table and order by age in descending order."
   ]
  },
  {
   "cell_type": "code",
   "execution_count": null,
   "id": "ac0b3297",
   "metadata": {},
   "outputs": [],
   "source": [
    "import pandas as pd\n",
    "\n",
    "pd.read_sql_query(\"SELECT * FROM employees ORDER BY age DESC\", conn)"
   ]
  },
  {
   "cell_type": "markdown",
   "id": "120a21ad",
   "metadata": {},
   "source": [
    "The command above will retrieve data from the employee table and sort it based on the age column in descending order (large to small), so it will get 5 data that is sorted based on age in descending order. The result will be as follows:"
   ]
  },
  {
   "cell_type": "markdown",
   "id": "9d6d1e93",
   "metadata": {},
   "source": [
    "# LIMIT"
   ]
  },
  {
   "cell_type": "markdown",
   "id": "a7a45f88",
   "metadata": {},
   "source": [
    "The LIMIT command is used to limit the number of data to be retrieved. The number of data to be retrieved will be determined by the parameter given by taking in order from the top data. This command is combined with the SELECT command and must be written after it. For example:"
   ]
  },
  {
   "cell_type": "code",
   "execution_count": null,
   "id": "00d014c3",
   "metadata": {},
   "outputs": [],
   "source": [
    "SELECT * FROM employees\n",
    "LIMIT 2;"
   ]
  },
  {
   "cell_type": "markdown",
   "id": "ae02a555",
   "metadata": {},
   "source": [
    "Retrieve 2 records from the employees table."
   ]
  },
  {
   "cell_type": "code",
   "execution_count": null,
   "id": "c3ac6ac6",
   "metadata": {},
   "outputs": [],
   "source": [
    "import pandas as pd\n",
    "\n",
    "pd.read_sql_query(\"SELECT * FROM employee LIMIT 2\", conn)"
   ]
  },
  {
   "cell_type": "markdown",
   "id": "d58f6ec3",
   "metadata": {},
   "source": [
    "The command above will retrieve data from the employee table and limit only 2 data to be retrieved (taken from the top), so it will get 3 data taken from the top data. The result will be as follows:"
   ]
  },
  {
   "cell_type": "markdown",
   "id": "e1fc0c12",
   "metadata": {},
   "source": [
    "# Aggregate function"
   ]
  },
  {
   "cell_type": "markdown",
   "id": "cad86387",
   "metadata": {},
   "source": [
    "An aggregate function is a function used to produce a value based on the data in a table. This function will produce one value only."
   ]
  },
  {
   "cell_type": "markdown",
   "id": "0d5799ce",
   "metadata": {},
   "source": [
    "Previously, we have retrieved data from the employee table using the SELECT command. We can use aggregate functions to get certain values from the data in the table. For example, getting the maximum or average value from the data in the salary column of the employee table. Or get the smallest value from all data in the age column."
   ]
  },
  {
   "cell_type": "markdown",
   "id": "3f0a51a5",
   "metadata": {},
   "source": [
    "There are many aggregate functions that can be used, but here we will discuss some functions that are most often used."
   ]
  },
  {
   "cell_type": "markdown",
   "id": "6e0af304",
   "metadata": {},
   "source": [
    "# COUNT"
   ]
  },
  {
   "cell_type": "markdown",
   "id": "e86ca517",
   "metadata": {},
   "source": [
    "The COUNT function is a function used to count the number of rows in a table. The result of this function will produce one value only. For example:"
   ]
  },
  {
   "cell_type": "code",
   "execution_count": null,
   "id": "39297bdb",
   "metadata": {},
   "outputs": [],
   "source": [
    "SELECT COUNT(*) FROM employees;"
   ]
  },
  {
   "cell_type": "markdown",
   "id": "2a62aa8b",
   "metadata": {},
   "source": [
    "Count the number of records in the employees table."
   ]
  },
  {
   "cell_type": "code",
   "execution_count": null,
   "id": "ddb82db5",
   "metadata": {},
   "outputs": [],
   "source": [
    "import pandas as pd\n",
    "\n",
    "pd.read_sql_query(\"SELECT COUNT(*) FROM employees\", conn)"
   ]
  },
  {
   "cell_type": "markdown",
   "id": "0ac67864",
   "metadata": {},
   "source": [
    "The command above will count the number of rows in the employee table in all columns and produce the value 5, because there are 5 data in the table. The result will be as follows:"
   ]
  },
  {
   "cell_type": "markdown",
   "id": "68dc8e70",
   "metadata": {},
   "source": [
    "This function will not total the value of a specific column that has NULL data. For example, there is the following table data:"
   ]
  },
  {
   "cell_type": "code",
   "execution_count": null,
   "id": "f0ef3f49",
   "metadata": {},
   "outputs": [],
   "source": [
    "c.execute('DELETE FROM employees')\n",
    "\n",
    "data = [\n",
    "    (1, 'Rizki', 25, 'Jl. Kebon Jeruk', 2000000),\n",
    "    (2, 'Andi', 27, None, 3000000),\n",
    "    (3, 'Budi', 30, None, 4000000)\n",
    "]\n",
    "c.executemany('INSERT INTO employees VALUES (?,?,?,?,?)', data)\n",
    "\n",
    "conn.commit()"
   ]
  },
  {
   "cell_type": "markdown",
   "id": "9881052d",
   "metadata": {},
   "source": [
    "If we use the COUNT function on the address column, the result will be 1 because there is only one data that has a value in the address column. If we use the COUNT function on the salary column, the result will be 3 because all data has a value in the salary column."
   ]
  },
  {
   "cell_type": "markdown",
   "id": "9c16ea01",
   "metadata": {},
   "source": [
    "using the COUNT function for the address column"
   ]
  },
  {
   "cell_type": "code",
   "execution_count": null,
   "id": "e7f8a422",
   "metadata": {},
   "outputs": [],
   "source": [
    "SELECT COUNT(address) FROM employees;"
   ]
  },
  {
   "cell_type": "markdown",
   "id": "39f7a77f",
   "metadata": {},
   "source": [
    "The result is as follows:"
   ]
  },
  {
   "cell_type": "markdown",
   "id": "2638ba1f",
   "metadata": {},
   "source": [
    "using the COUNT function for the salary column"
   ]
  },
  {
   "cell_type": "code",
   "execution_count": null,
   "id": "e5768f58",
   "metadata": {},
   "outputs": [],
   "source": [
    "SELECT COUNT(salary) FROM employees;"
   ]
  },
  {
   "cell_type": "markdown",
   "id": "7b529720",
   "metadata": {},
   "source": [
    "The result is as follows:"
   ]
  },
  {
   "cell_type": "markdown",
   "id": "27c3bfc9",
   "metadata": {},
   "source": [
    "If we look at the results, the column name will become COUNT(address) and COUNT(salary). If we want to change the column name, we can use the AS command to change the column name. For example:"
   ]
  },
  {
   "cell_type": "code",
   "execution_count": null,
   "id": "ea236a00",
   "metadata": {},
   "outputs": [],
   "source": [
    "SELECT COUNT(address) AS total_address\n",
    "FROM employees;"
   ]
  },
  {
   "cell_type": "markdown",
   "id": "ca9e4028",
   "metadata": {},
   "source": [
    "Try in python using SQLite"
   ]
  },
  {
   "cell_type": "code",
   "execution_count": null,
   "id": "e0fa45fe",
   "metadata": {},
   "outputs": [],
   "source": [
    "import pandas as pd\n",
    "\n",
    "pd.read_sql_query(\"SELECT COUNT(address) AS total_address FROM employees\", conn)"
   ]
  },
  {
   "cell_type": "markdown",
   "id": "74d924a0",
   "metadata": {},
   "source": [
    "By using AS we can change the column name to total_address. The result will be as follows:"
   ]
  },
  {
   "cell_type": "markdown",
   "id": "31c1014d",
   "metadata": {},
   "source": [
    "# CONCAT"
   ]
  },
  {
   "cell_type": "markdown",
   "id": "f60e16da",
   "metadata": {},
   "source": [
    "The CONCAT function is a function used to combine two or more strings into one. This function will produce one string only."
   ]
  },
  {
   "cell_type": "code",
   "execution_count": null,
   "id": "f8576f35",
   "metadata": {},
   "outputs": [],
   "source": [
    "CONCAT(string1, string2, string3, ...)"
   ]
  },
  {
   "cell_type": "markdown",
   "id": "fa0d107c",
   "metadata": {},
   "source": [
    "For example, if there is a persons table with columns and data as follows:"
   ]
  },
  {
   "cell_type": "markdown",
   "id": "99f69f6d",
   "metadata": {},
   "source": [
    "We can combine the salutation and name columns into one column using the CONCAT function. For example:"
   ]
  },
  {
   "cell_type": "code",
   "execution_count": null,
   "id": "ca919083",
   "metadata": {},
   "outputs": [],
   "source": [
    "c.execute('''\n",
    "CREATE TABLE persons (\n",
    "    id INT,\n",
    "    salutation TEXT,\n",
    "    name TEXT,\n",
    "    age INT);\n",
    "''')\n",
    "conn.commit()"
   ]
  },
  {
   "cell_type": "code",
   "execution_count": null,
   "id": "f91f7620",
   "metadata": {},
   "outputs": [],
   "source": [
    "data = [\n",
    "    (1, 'Mr', 'Rizki Sanjaya', 25),\n",
    "    (2, 'Mr', 'Andi William', 27),\n",
    "    (3, 'Mr', 'Susi Andini', 30)\n",
    "]\n",
    "c.executemany('INSERT INTO persons VALUES (?,?,?,?)', data)\n",
    "\n",
    "conn.commit()"
   ]
  },
  {
   "cell_type": "code",
   "execution_count": null,
   "id": "a5a785fe",
   "metadata": {},
   "outputs": [],
   "source": [
    "import pandas as pd\n",
    "\n",
    "pd.read_sql_query(\"SELECT * FROM persons\", conn)"
   ]
  },
  {
   "cell_type": "code",
   "execution_count": null,
   "id": "1cdc06c1",
   "metadata": {},
   "outputs": [],
   "source": [
    "SELECT CONCAT(salutation, ' ', name) AS fullname\n",
    "FROM persons;"
   ]
  },
  {
   "cell_type": "markdown",
   "id": "dc9cd1cb",
   "metadata": {},
   "source": [
    "Try in python using SQLite (CONCAT is not supported by SQLite. In SQLite, you can use the || operator to concatenate strings.)"
   ]
  },
  {
   "cell_type": "code",
   "execution_count": null,
   "id": "77122198",
   "metadata": {},
   "outputs": [],
   "source": [
    "import pandas as pd\n",
    "\n",
    "pd.read_sql_query(\"SELECT (salutation || ' ' || name) AS fullname FROM persons\", conn)"
   ]
  },
  {
   "cell_type": "markdown",
   "id": "a71b908f",
   "metadata": {},
   "source": [
    "The command above will combine the salutation and name columns using a space as a separator. The result will be as follows:"
   ]
  },
  {
   "cell_type": "markdown",
   "id": "bb575dd9",
   "metadata": {},
   "source": [
    "You can try using the aggregate functions explained in this online SQL compiler or the DBMS tool you are using."
   ]
  },
  {
   "cell_type": "markdown",
   "id": "06861dc6",
   "metadata": {},
   "source": [
    "In addition to COUNT, there are other aggregate functions such as MIN, MAX, AVG, SUM, and others that you can read in W3 School - SQL Aggregate Function."
   ]
  },
  {
   "cell_type": "code",
   "execution_count": null,
   "id": "0c99f3c0",
   "metadata": {},
   "outputs": [],
   "source": [
    "# Close the connection\n",
    "conn.close()"
   ]
  },
  {
   "cell_type": "markdown",
   "id": "fa8e5df1",
   "metadata": {},
   "source": [
    "Next, we continue into accessing and manipulating data in multiple tables using JOIN and TRANSACTION"
   ]
  }
 ],
 "metadata": {},
 "nbformat": 4,
 "nbformat_minor": 5
}
