{
 "cells": [
  {
   "cell_type": "markdown",
   "id": "3ac8f0c8",
   "metadata": {},
   "source": [
    "source: [https://ai-bootcamp.ruangguru.com/learn/05_database/00_sql/01_sql-table.html](https://ai-bootcamp.ruangguru.com/learn/05_database/00_sql/01_sql-table.html)"
   ]
  },
  {
   "cell_type": "markdown",
   "id": "3740b39e",
   "metadata": {},
   "source": [
    "# SQL Fundamentals with Python - Tables"
   ]
  },
  {
   "cell_type": "markdown",
   "id": "e8da409e",
   "metadata": {},
   "source": [
    "# DML (Data Manipulation Language)"
   ]
  },
  {
   "cell_type": "markdown",
   "id": "cde6e662",
   "metadata": {},
   "source": [
    "# What is DML?"
   ]
  },
  {
   "cell_type": "markdown",
   "id": "49bccc83",
   "metadata": {},
   "source": [
    "Data Manipulation Language (DML) is used to modify data in a database. DML is responsible for all forms of data changes within the database."
   ]
  },
  {
   "cell_type": "markdown",
   "id": "d252e5d2",
   "metadata": {},
   "source": [
    "The most frequently used DML commands are INSERT, UPDATE, and DELETE. Let’s discuss these commands by continuing with the example table that was created earlier."
   ]
  },
  {
   "cell_type": "markdown",
   "id": "63e4f466",
   "metadata": {},
   "source": [
    "The table has the following structure and data:"
   ]
  },
  {
   "cell_type": "markdown",
   "id": "53bf4961",
   "metadata": {},
   "source": [
    "| id | name | age | address | salary |\n",
    "| --- | --- | --- | --- | --- |\n",
    "| 1 | Rizki | 25 | Jl. Kebon Jeruk | 2000000 |\n",
    "| 2 | Andi | 27 | Jl. Kebon Sirih | 3000000 |\n",
    "| 3 | Budi | 30 | Jl. Kebon Melati | 4000000 |\n",
    "| 4 | Caca | 32 | Jl. Kebon Anggrek | 5000000 |\n",
    "| 5 | Deni | 35 | Jl. Kebon Mawar | 6000000 |"
   ]
  },
  {
   "cell_type": "markdown",
   "id": "2014180d",
   "metadata": {},
   "source": [
    "In the DDL material, we have already created a database and this table, let’s add the data above into the table that is already created:"
   ]
  },
  {
   "cell_type": "code",
   "execution_count": null,
   "id": "9461e89b",
   "metadata": {},
   "outputs": [],
   "source": [
    "-- create database\n",
    "CREATE DATABASE db_employee;\n",
    "\n",
    "-- use database\n",
    "USE db_employee;\n",
    "\n",
    "-- create table\n",
    "CREATE TABLE employees (\n",
    "  id SERIAL PRIMARY KEY,\n",
    "  name VARCHAR(50) NOT NULL,\n",
    "  age INT NOT NULL,\n",
    "  address VARCHAR(100),\n",
    "  salary INT\n",
    ");"
   ]
  },
  {
   "cell_type": "markdown",
   "id": "edfd2e7b",
   "metadata": {},
   "source": [
    "Try in python using SQLite"
   ]
  },
  {
   "cell_type": "code",
   "execution_count": null,
   "id": "e8d1181e",
   "metadata": {},
   "outputs": [],
   "source": [
    "import sqlite3\n",
    "\n",
    "# Connect to the SQLite database\n",
    "# If the database does not exist, it will be created\n",
    "conn = sqlite3.connect('db/sqlite.db')\n",
    "\n",
    "# Create a cursor object\n",
    "cur = conn.cursor()"
   ]
  },
  {
   "cell_type": "code",
   "execution_count": null,
   "id": "f45005dd",
   "metadata": {},
   "outputs": [],
   "source": [
    "# Execute a SQL command: this creates a new table\n",
    "cur.execute('''\n",
    "    CREATE TABLE employees (\n",
    "        id INTEGER,\n",
    "        name TEXT NOT NULL,\n",
    "        age INTEGER NOT NULL,\n",
    "        address TEXT,\n",
    "        salary INTEGER\n",
    "    )\n",
    "''')\n",
    "\n",
    "# Commit the transaction\n",
    "conn.commit()"
   ]
  },
  {
   "cell_type": "markdown",
   "id": "e908c9a5",
   "metadata": {},
   "source": [
    "We will continue with examples of DML commands."
   ]
  },
  {
   "cell_type": "markdown",
   "id": "4cfed115",
   "metadata": {},
   "source": [
    "# INSERT"
   ]
  },
  {
   "cell_type": "markdown",
   "id": "47981781",
   "metadata": {},
   "source": [
    "We can use the INSERT command to add new data into a table. The INSERT command has the following structure:"
   ]
  },
  {
   "cell_type": "code",
   "execution_count": null,
   "id": "d0bd76e1",
   "metadata": {},
   "outputs": [],
   "source": [
    "INSERT INTO <table-name> VALUES (column1, column2, column3, ...)"
   ]
  },
  {
   "cell_type": "markdown",
   "id": "d8137db8",
   "metadata": {},
   "source": [
    "Looking at the example above, we can see that the INSERT command has two parts, namely the INSERT INTO part and the VALUES part. The INSERT INTO part is used to designate which table we will add data to, where <table-name> is the name of the table that we will add data to. The VALUES part is used to specify what data we will add into the table."
   ]
  },
  {
   "cell_type": "markdown",
   "id": "12de2e0d",
   "metadata": {},
   "source": [
    "Here is an example of an INSERT command that will add new data into the employees table:"
   ]
  },
  {
   "cell_type": "code",
   "execution_count": null,
   "id": "c071ae2d",
   "metadata": {},
   "outputs": [],
   "source": [
    "INSERT INTO employees VALUES (1, 'Rizki', 25, 'Jl. Kebon Jeruk', 2000000);"
   ]
  },
  {
   "cell_type": "markdown",
   "id": "c5fefcf6",
   "metadata": {},
   "source": [
    "Try in python using SQLite"
   ]
  },
  {
   "cell_type": "code",
   "execution_count": null,
   "id": "a0f7e2cc",
   "metadata": {},
   "outputs": [],
   "source": [
    "cur.execute(\"INSERT INTO employees VALUES (1, 'Rizki', 25, 'Jl. Kebon Jeruk', 2000000)\")\n",
    "conn.commit()"
   ]
  },
  {
   "cell_type": "markdown",
   "id": "d910c8a4",
   "metadata": {},
   "source": [
    "See the table:"
   ]
  },
  {
   "cell_type": "code",
   "execution_count": null,
   "id": "b0a1feb5",
   "metadata": {},
   "outputs": [],
   "source": [
    "import pandas as pd\n",
    "\n",
    "pd.read_sql_query(\"SELECT * FROM employees\", conn)"
   ]
  },
  {
   "cell_type": "markdown",
   "id": "c5f75672",
   "metadata": {},
   "source": [
    "|  | id | name | age | address | salary |\n",
    "| --- | --- | --- | --- | --- | --- |\n",
    "| 0 | 1 | Rizki | 25 | Jl. Kebon Jeruk | 2000000 |"
   ]
  },
  {
   "cell_type": "markdown",
   "id": "9adfda4e",
   "metadata": {},
   "source": [
    "When adding string data in SQL we must use a single quote (') to mark that the data is a string, like 'Rizky'. If we do not use a single quote, then the data will be considered invalid."
   ]
  },
  {
   "cell_type": "markdown",
   "id": "4b73aabd",
   "metadata": {},
   "source": [
    "The result will be as follows:"
   ]
  },
  {
   "cell_type": "markdown",
   "id": "ba575131",
   "metadata": {},
   "source": [
    "| id | name | age | address | salary |\n",
    "| --- | --- | --- | --- | --- |\n",
    "| 1 | Rizki | 265 | Jl. Kebon Jeruk | 2000000 |"
   ]
  },
  {
   "cell_type": "markdown",
   "id": "eaa848db",
   "metadata": {},
   "source": [
    "The command above will add new data into the employees table, the data will be filled in according to the order of the columns in the table. 1 will be filled into the id column, 'Rizki' will be filled into the name column, and 25 will be filled into the age column and so forth."
   ]
  },
  {
   "cell_type": "markdown",
   "id": "7aab6b35",
   "metadata": {},
   "source": [
    "If we want to add new data into specific columns, we can add the column name in the INSERT INTO section as follows:"
   ]
  },
  {
   "cell_type": "code",
   "execution_count": null,
   "id": "b5142819",
   "metadata": {},
   "outputs": [],
   "source": [
    "INSERT INTO employee (id, name, age) VALUES (1, 'Rizki', 25);"
   ]
  },
  {
   "cell_type": "markdown",
   "id": "24901361",
   "metadata": {},
   "source": [
    "Try in python using SQLite"
   ]
  },
  {
   "cell_type": "code",
   "execution_count": null,
   "id": "23aa7c10",
   "metadata": {},
   "outputs": [],
   "source": [
    "cur.execute(\"INSERT INTO employees (id, name, age) VALUES (1, 'Rizki', 25)\")\n",
    "conn.commit()"
   ]
  },
  {
   "cell_type": "markdown",
   "id": "ad3dc6c1",
   "metadata": {},
   "source": [
    "See the table:"
   ]
  },
  {
   "cell_type": "code",
   "execution_count": null,
   "id": "346df892",
   "metadata": {},
   "outputs": [],
   "source": [
    "import pandas as pd\n",
    "\n",
    "pd.read_sql_query(\"SELECT * FROM employees\", conn)"
   ]
  },
  {
   "cell_type": "markdown",
   "id": "1d551dab",
   "metadata": {},
   "source": [
    "|  | id | name | age | address | salary |\n",
    "| --- | --- | --- | --- | --- | --- |\n",
    "| 0 | 1 | Rizki | 25 | Jl. Kebon Jeruk | 2000000.0 |\n",
    "| 1 | 1 | Rizki | 25 | None | NaN |"
   ]
  },
  {
   "cell_type": "markdown",
   "id": "31b48a8a",
   "metadata": {},
   "source": [
    "The result will be:"
   ]
  },
  {
   "cell_type": "markdown",
   "id": "a2386007",
   "metadata": {},
   "source": [
    "| id | name | age | address | salary |\n",
    "| --- | --- | --- | --- | --- |\n",
    "| 1 | Rizki | 265 | NULL | NULL |"
   ]
  },
  {
   "cell_type": "markdown",
   "id": "1dd5f07b",
   "metadata": {},
   "source": [
    "The example above is adding new data into the id, name, and age columns. Because we are only adding data into the id, name, and age columns, the address and salary columns will be filled with NULL values."
   ]
  },
  {
   "cell_type": "markdown",
   "id": "5696e07a",
   "metadata": {},
   "source": [
    "Please note, NULL data is data that has no value, if we want to set it so that the column cannot be filled with NULL data, we can use the NOT NULL constraints when creating the column."
   ]
  },
  {
   "cell_type": "markdown",
   "id": "ff30215f",
   "metadata": {},
   "source": [
    "We can also add NULL data into a specific column, just like adding other data:"
   ]
  },
  {
   "cell_type": "code",
   "execution_count": null,
   "id": "877203e4",
   "metadata": {},
   "outputs": [],
   "source": [
    "INSERT INTO employee (id, name, age, address, salary) VALUES (1, 'Rizki', 25, NULL, NULL);"
   ]
  },
  {
   "cell_type": "markdown",
   "id": "cc63a66f",
   "metadata": {},
   "source": [
    "Try in python using SQLite"
   ]
  },
  {
   "cell_type": "code",
   "execution_count": null,
   "id": "3a5fce3e",
   "metadata": {},
   "outputs": [],
   "source": [
    "cur.execute(\"INSERT INTO employees (id, name, age, address, salary) VALUES (1, 'Rizki', 25, NULL, NULL)\")\n",
    "conn.commit()"
   ]
  },
  {
   "cell_type": "markdown",
   "id": "aa57f4ff",
   "metadata": {},
   "source": [
    "See the table:"
   ]
  },
  {
   "cell_type": "code",
   "execution_count": null,
   "id": "dc507016",
   "metadata": {},
   "outputs": [],
   "source": [
    "import pandas as pd\n",
    "\n",
    "pd.read_sql_query(\"SELECT * FROM employees\", conn)"
   ]
  },
  {
   "cell_type": "markdown",
   "id": "cd0d737a",
   "metadata": {},
   "source": [
    "|  | id | name | age | address | salary |\n",
    "| --- | --- | --- | --- | --- | --- |\n",
    "| 0 | 1 | Rizki | 25 | Jl. Kebon Jeruk | 2000000.0 |\n",
    "| 1 | 1 | Rizki | 25 | None | NaN |\n",
    "| 2 | 1 | Rizki | 25 | None | NaN |"
   ]
  },
  {
   "cell_type": "markdown",
   "id": "09b52a23",
   "metadata": {},
   "source": [
    "Finally, we can add more than one data into a table using the INSERT command separated by \",\", as follows:"
   ]
  },
  {
   "cell_type": "code",
   "execution_count": null,
   "id": "1a56c178",
   "metadata": {},
   "outputs": [],
   "source": [
    "INSERT INTO employees\n",
    "VALUES (1, 'Rizki', 25, 'Jl. Kebon Jeruk', 2000000),\n",
    "(2, 'Andi', 27, 'Jl. Kebon Sirih', 3000000),\n",
    "(3, 'Budi', 30, 'Jl. Kebon Melati', 4000000),\n",
    "(4, 'Caca', 32, 'Jl. Kebon Anggrek', 5000000),\n",
    "(5, 'Deni', 35, 'Jl. Kebon Mawar', 6000000);"
   ]
  },
  {
   "cell_type": "markdown",
   "id": "8058a8ce",
   "metadata": {},
   "source": [
    "It can also be done using specific columns:"
   ]
  },
  {
   "cell_type": "code",
   "execution_count": null,
   "id": "7a144ae5",
   "metadata": {},
   "outputs": [],
   "source": [
    "INSERT INTO employees (id, name, age)\n",
    "VALUES (1, 'Rizki', 25),\n",
    "(2, 'Andi', 27),\n",
    "(3, 'Budi', 30),\n",
    "(4, 'Caca', 32),\n",
    "(5, 'Deni', 35);"
   ]
  },
  {
   "cell_type": "markdown",
   "id": "a052f964",
   "metadata": {},
   "source": [
    "As a result, it will add 5 new data into the employees table."
   ]
  },
  {
   "cell_type": "markdown",
   "id": "1a648324",
   "metadata": {},
   "source": [
    "You can try adding new data into the employees table with the above INSERT command in this online SQL compiler or the SQLite tool you are using."
   ]
  },
  {
   "cell_type": "markdown",
   "id": "1b381414",
   "metadata": {},
   "source": [
    "Try in python using SQLite"
   ]
  },
  {
   "cell_type": "code",
   "execution_count": null,
   "id": "708ecb7e",
   "metadata": {},
   "outputs": [],
   "source": [
    "# Insert multiple data rows into the table\n",
    "data = [\n",
    "    (2, 'Andi', 27, 'Jl. Kebon Sirih', 3000000),\n",
    "    (3, 'Budi', 30, 'Jl. Kebon Melati', 4000000),\n",
    "    (4, 'Caca', 32, 'Jl. Kebon Anggrek', 5000000),\n",
    "    (5, 'Deni', 35, 'Jl. Kebon Mawar', 6000000)\n",
    "]\n",
    "\n",
    "cur.executemany(\"INSERT INTO employees VALUES (?, ?, ?, ?, ?)\", data)\n",
    "conn.commit()"
   ]
  },
  {
   "cell_type": "markdown",
   "id": "1bcd0353",
   "metadata": {},
   "source": [
    "See the table:"
   ]
  },
  {
   "cell_type": "code",
   "execution_count": null,
   "id": "4b866d67",
   "metadata": {},
   "outputs": [],
   "source": [
    "import pandas as pd\n",
    "\n",
    "pd.read_sql_query(\"SELECT * FROM employees\", conn)"
   ]
  },
  {
   "cell_type": "markdown",
   "id": "a9a3be25",
   "metadata": {},
   "source": [
    "|  | id | name | age | address | salary |\n",
    "| --- | --- | --- | --- | --- | --- |\n",
    "| 0 | 1 | Rizki | 25 | Jl. Kebon Jeruk | 2000000.0 |\n",
    "| 1 | 1 | Rizki | 25 | None | NaN |\n",
    "| 2 | 1 | Rizki | 25 | None | NaN |\n",
    "| 3 | 2 | Andi | 27 | Jl. Kebon Sirih | 3000000.0 |\n",
    "| 4 | 3 | Budi | 30 | Jl. Kebon Melati | 4000000.0 |\n",
    "| 5 | 4 | Caca | 32 | Jl. Kebon Anggrek | 5000000.0 |\n",
    "| 6 | 5 | Deni | 35 | Jl. Kebon Mawar | 6000000.0 |"
   ]
  },
  {
   "cell_type": "markdown",
   "id": "5e966c68",
   "metadata": {},
   "source": [
    "# UPDATE"
   ]
  },
  {
   "cell_type": "markdown",
   "id": "82959406",
   "metadata": {},
   "source": [
    "The UPDATE command is used to modify existing data in a table. The UPDATE command has the following structure:"
   ]
  },
  {
   "cell_type": "code",
   "execution_count": null,
   "id": "7eecdbd1",
   "metadata": {},
   "outputs": [],
   "source": [
    "UPDATE <table-name>\n",
    "SET <column-name> = <new-value>\n",
    "WHERE <condition>;"
   ]
  },
  {
   "cell_type": "markdown",
   "id": "d1a984b1",
   "metadata": {},
   "source": [
    "Where <table-name> is the name of the table whose data we will change, <column-name> is the name of the column whose data we will change, <new-value> is the new value that we will insert into that column, and <condition> is the condition that will determine which data we will modify."
   ]
  },
  {
   "cell_type": "markdown",
   "id": "0651617d",
   "metadata": {},
   "source": [
    "Here is an example of the UPDATE command that will modify the data in the employees table:"
   ]
  },
  {
   "cell_type": "code",
   "execution_count": null,
   "id": "a6a3fae2",
   "metadata": {},
   "outputs": [],
   "source": [
    "UPDATE employees\n",
    "SET name = 'Rizal', age = 26\n",
    "WHERE id = 1;"
   ]
  },
  {
   "cell_type": "markdown",
   "id": "58f97406",
   "metadata": {},
   "source": [
    "Try in python using SQLite"
   ]
  },
  {
   "cell_type": "code",
   "execution_count": null,
   "id": "a52e7e50",
   "metadata": {},
   "outputs": [],
   "source": [
    "# Update data in the table\n",
    "cur.execute(\"UPDATE employees SET name = 'Rizal', age = 26 WHERE id = 1\")\n",
    "conn.commit()"
   ]
  },
  {
   "cell_type": "markdown",
   "id": "965d0c03",
   "metadata": {},
   "source": [
    "See the table:"
   ]
  },
  {
   "cell_type": "code",
   "execution_count": null,
   "id": "f27ef473",
   "metadata": {},
   "outputs": [],
   "source": [
    "import pandas as pd\n",
    "\n",
    "pd.read_sql_query(\"SELECT * FROM employees\", conn)"
   ]
  },
  {
   "cell_type": "markdown",
   "id": "206310df",
   "metadata": {},
   "source": [
    "|  | id | name | age | address | salary |\n",
    "| --- | --- | --- | --- | --- | --- |\n",
    "| 0 | 1 | Rizal | 26 | Jl. Kebon Jeruk | 2000000.0 |\n",
    "| 1 | 1 | Rizal | 26 | None | NaN |\n",
    "| 2 | 1 | Rizal | 26 | None | NaN |\n",
    "| 3 | 2 | Andi | 27 | Jl. Kebon Sirih | 3000000.0 |\n",
    "| 4 | 3 | Budi | 30 | Jl. Kebon Melati | 4000000.0 |\n",
    "| 5 | 4 | Caca | 32 | Jl. Kebon Anggrek | 5000000.0 |\n",
    "| 6 | 5 | Deni | 35 | Jl. Kebon Mawar | 6000000.0 |"
   ]
  },
  {
   "cell_type": "markdown",
   "id": "c267efad",
   "metadata": {},
   "source": [
    "In the example above, we are changing the name data to 'Rizal' and the age data to 26, separating the columns we will change with \",\". And the data being modified is the one with id = 1."
   ]
  },
  {
   "cell_type": "markdown",
   "id": "3c5eb5d4",
   "metadata": {},
   "source": [
    "Data before modification:"
   ]
  },
  {
   "cell_type": "markdown",
   "id": "6c735366",
   "metadata": {},
   "source": [
    "| id | name | age | address | salary |\n",
    "| --- | --- | --- | --- | --- |\n",
    "| 1 | Rizki | 25 | Jl. Kebon Jeruk | 2000000 |\n",
    "| 2 | Andi | 27 | Jl. Kebon Sirih | 3000000 |\n",
    "| 3 | Budi | 30 | Jl. Kebon Melati | 4000000 |"
   ]
  },
  {
   "cell_type": "markdown",
   "id": "7080c10e",
   "metadata": {},
   "source": [
    "Data after modification:"
   ]
  },
  {
   "cell_type": "markdown",
   "id": "fcc02918",
   "metadata": {},
   "source": [
    "| id | name | age | address | salary |\n",
    "| --- | --- | --- | --- | --- |\n",
    "| 1 | Rizal | 26 | Jl. Kebon Jeruk | 2000000 |\n",
    "| 2 | Andi | 27 | Jl. Kebon Sirih | 3000000 |\n",
    "| 3 | Budi | 30 | Jl. Kebon Melati | 4000000 |"
   ]
  },
  {
   "cell_type": "markdown",
   "id": "b7700777",
   "metadata": {},
   "source": [
    "ATTENTION !!"
   ]
  },
  {
   "cell_type": "markdown",
   "id": "03703778",
   "metadata": {},
   "source": [
    "Make sure to add WHERE so that we do not change all the data in the table. If we do not add WHERE, then all the data in the table will be changed. The example above is where we only change data that has id = 1, so the name and age data only changes the data at id 1."
   ]
  },
  {
   "cell_type": "markdown",
   "id": "d304eb31",
   "metadata": {},
   "source": [
    "You can try modifying the data in the employees table with the above UPDATE command using this online SQL compiler or the DBMS tool you are using."
   ]
  },
  {
   "cell_type": "markdown",
   "id": "67baab38",
   "metadata": {},
   "source": [
    "# DELETE"
   ]
  },
  {
   "cell_type": "markdown",
   "id": "1fddaf2d",
   "metadata": {},
   "source": [
    "The DELETE command is used to remove existing data from a table. The DELETE command has the following structure:"
   ]
  },
  {
   "cell_type": "code",
   "execution_count": null,
   "id": "af10fed2",
   "metadata": {},
   "outputs": [],
   "source": [
    "DELETE FROM <table-name>\n",
    "WHERE <condition>;"
   ]
  },
  {
   "cell_type": "markdown",
   "id": "f9a9574e",
   "metadata": {},
   "source": [
    "Where <table-name> is the name of the table whose data we will delete, and <condition> is the condition that will determine which data we will delete."
   ]
  },
  {
   "cell_type": "markdown",
   "id": "e2992e06",
   "metadata": {},
   "source": [
    "Here is an example of the DELETE command that will delete data in the employees table:"
   ]
  },
  {
   "cell_type": "code",
   "execution_count": null,
   "id": "efc369cd",
   "metadata": {},
   "outputs": [],
   "source": [
    "DELETE FROM employees\n",
    "WHERE id = 1;"
   ]
  },
  {
   "cell_type": "markdown",
   "id": "a3011a15",
   "metadata": {},
   "source": [
    "Try in python using SQLite"
   ]
  },
  {
   "cell_type": "code",
   "execution_count": null,
   "id": "e89f766f",
   "metadata": {},
   "outputs": [],
   "source": [
    "# Delete data from the table\n",
    "cur.execute(\"DELETE FROM employees WHERE id = 1\")\n",
    "conn.commit()"
   ]
  },
  {
   "cell_type": "markdown",
   "id": "b05c82f4",
   "metadata": {},
   "source": [
    "See the table:"
   ]
  },
  {
   "cell_type": "code",
   "execution_count": null,
   "id": "64797355",
   "metadata": {},
   "outputs": [],
   "source": [
    "import pandas as pd\n",
    "\n",
    "pd.read_sql_query(\"SELECT * FROM employees\", conn)"
   ]
  },
  {
   "cell_type": "markdown",
   "id": "2de34596",
   "metadata": {},
   "source": [
    "|  | id | name | age | address | salary |\n",
    "| --- | --- | --- | --- | --- | --- |\n",
    "| 0 | 2 | Andi | 27 | Jl. Kebon Sirih | 3000000 |\n",
    "| 1 | 3 | Budi | 30 | Jl. Kebon Melati | 4000000 |\n",
    "| 2 | 4 | Caca | 32 | Jl. Kebon Anggrek | 5000000 |\n",
    "| 3 | 5 | Deni | 35 | Jl. Kebon Mawar | 6000000 |"
   ]
  },
  {
   "cell_type": "markdown",
   "id": "385ee9da",
   "metadata": {},
   "source": [
    "In the example above, we are deleting data with id = 1."
   ]
  },
  {
   "cell_type": "markdown",
   "id": "8cacbc67",
   "metadata": {},
   "source": [
    "Data before deletion:"
   ]
  },
  {
   "cell_type": "markdown",
   "id": "ae9af093",
   "metadata": {},
   "source": [
    "| id | name | age | address | salary |\n",
    "| --- | --- | --- | --- | --- |\n",
    "| 1 | Rizal | 26 | Jl. Kebon Jeruk | 2000000 |\n",
    "| 2 | Andi | 27 | Jl. Kebon Sirih | 3000000 |\n",
    "| 3 | Budi | 30 | Jl. Kebon Melati | 4000000 |"
   ]
  },
  {
   "cell_type": "markdown",
   "id": "e3adaae2",
   "metadata": {},
   "source": [
    "Data after deletion:"
   ]
  },
  {
   "cell_type": "markdown",
   "id": "084bff40",
   "metadata": {},
   "source": [
    "| id | name | age | address | salary |\n",
    "| --- | --- | --- | --- | --- |\n",
    "| 2 | Andi | 27 | Jl. Kebon Sirih | 3000000 |\n",
    "| 3 | Budi | 30 | Jl. Kebon Melati | 4000000 |"
   ]
  },
  {
   "cell_type": "markdown",
   "id": "152da6cf",
   "metadata": {},
   "source": [
    "ATTENTION !!"
   ]
  },
  {
   "cell_type": "markdown",
   "id": "3042b680",
   "metadata": {},
   "source": [
    "Make sure to add WHERE just like UPDATE so we do not delete all the data in the table. If we do not add WHERE, then all the data in the table will be deleted. The example above is where we only delete data that has id = 1, so the name and age data only changes the data at id 1."
   ]
  },
  {
   "cell_type": "markdown",
   "id": "eaa8e7d9",
   "metadata": {},
   "source": [
    "You can try deleting data in the employees table with the above DELETE command using this online SQL compiler or the DBMS tool you are using."
   ]
  },
  {
   "cell_type": "code",
   "execution_count": null,
   "id": "a5590c2f",
   "metadata": {},
   "outputs": [],
   "source": [
    "# Close the connection\n",
    "conn.close()"
   ]
  },
  {
   "cell_type": "markdown",
   "id": "4660b90d",
   "metadata": {},
   "source": [
    "# DQL (Data Query Language)"
   ]
  },
  {
   "cell_type": "markdown",
   "id": "9ba5efed",
   "metadata": {},
   "source": [
    "# What is DQL?"
   ]
  },
  {
   "cell_type": "markdown",
   "id": "f0e0de15",
   "metadata": {},
   "source": [
    "Data Query Language (DQL) is used to retrieve data from a table in a database. The purpose of DQL is to obtain data using SQL commands. The SQL command used is SELECT."
   ]
  },
  {
   "cell_type": "markdown",
   "id": "d45dafa9",
   "metadata": {},
   "source": [
    "Let’s continue with the data we have created in the previous section."
   ]
  },
  {
   "cell_type": "markdown",
   "id": "620ad34f",
   "metadata": {},
   "source": [
    "| id | name | age | address | salary |\n",
    "| --- | --- | --- | --- | --- |\n",
    "| 1 | Rizki | 25 | Jl. Kebon Jeruk | 2000000 |\n",
    "| 2 | Andi | 27 | Jl. Kebon Sirih | 3000000 |\n",
    "| 3 | Budi | 30 | Jl. Kebon Melati | 4000000 |\n",
    "| 4 | Caca | 32 | Jl. Kebon Anggrek | 5000000 |\n",
    "| 5 | Deni | 35 | Jl. Kebon Mawar | 6000000 |"
   ]
  },
  {
   "cell_type": "markdown",
   "id": "1881c6a3",
   "metadata": {},
   "source": [
    "Then we try to save this data into the employees table with the following SQL command:"
   ]
  },
  {
   "cell_type": "code",
   "execution_count": null,
   "id": "f29df49f",
   "metadata": {},
   "outputs": [],
   "source": [
    "-- create data in table employee\n",
    "INSERT INTO employees (id, name, age, address, salary)\n",
    "VALUES (1, 'Rizki', 25, 'Jl. Kebon Jeruk', 2000000),\n",
    "(2, 'Andi', 27, 'Jl. Kebon Sirih', 3000000),\n",
    "(3, 'Budi', 30, 'Jl. Kebon Melati', 4000000),\n",
    "(4, 'Caca', 32, 'Jl. Kebon Anggrek', 5000000),\n",
    "(5, 'Deni', 35, 'Jl. Kebon Mawar', 6000000);"
   ]
  },
  {
   "cell_type": "code",
   "execution_count": null,
   "id": "9298c564",
   "metadata": {},
   "outputs": [],
   "source": [
    "import sqlite3\n",
    "\n",
    "# Connect to SQLite database\n",
    "conn = sqlite3.connect('db/sqlite.db')\n",
    "\n",
    "# Create a cursor object\n",
    "c = conn.cursor()"
   ]
  },
  {
   "cell_type": "code",
   "execution_count": null,
   "id": "d4d306d4",
   "metadata": {},
   "outputs": [],
   "source": [
    "# Create table\n",
    "c.execute('''\n",
    "CREATE TABLE employees (\n",
    "    id INT,\n",
    "    name TEXT,\n",
    "    age INT,\n",
    "    address TEXT,\n",
    "    salary REAL);\n",
    "''')\n",
    "# Commit the transaction\n",
    "conn.commit()"
   ]
  },
  {
   "cell_type": "code",
   "execution_count": null,
   "id": "84b443c0",
   "metadata": {},
   "outputs": [],
   "source": [
    "# Insert data into the table\n",
    "data = [\n",
    "    (1, 'Rizki', 25, 'Jl. Kebon Jeruk', 2000000),\n",
    "    (2, 'Andi', 27, 'Jl. Kebon Sirih', 3000000),\n",
    "    (3, 'Budi', 30, 'Jl. Kebon Melati', 4000000),\n",
    "    (4, 'Caca', 32, 'Jl. Kebon Anggrek', 5000000),\n",
    "    (5, 'Deni', 35, 'Jl. Kebon Mawar', 6000000)\n",
    "]\n",
    "c.executemany('INSERT INTO employees VALUES (?,?,?,?,?)', data)\n",
    "\n",
    "# Commit the transaction\n",
    "conn.commit()"
   ]
  },
  {
   "cell_type": "markdown",
   "id": "83f15b2f",
   "metadata": {},
   "source": [
    "# SELECT"
   ]
  },
  {
   "cell_type": "markdown",
   "id": "54b55820",
   "metadata": {},
   "source": [
    "The SELECT command is used to retrieve data from a table. The SELECT command has a fairly complex syntax. Here is a simple command example to retrieve data from the employee table:"
   ]
  },
  {
   "cell_type": "code",
   "execution_count": null,
   "id": "9db94a6f",
   "metadata": {},
   "outputs": [],
   "source": [
    "SELECT * FROM employees;"
   ]
  },
  {
   "cell_type": "markdown",
   "id": "c5078349",
   "metadata": {},
   "source": [
    "Retrieve all data from the employees table."
   ]
  },
  {
   "cell_type": "code",
   "execution_count": null,
   "id": "447bbb77",
   "metadata": {},
   "outputs": [],
   "source": [
    "import pandas as pd\n",
    "\n",
    "pd.read_sql_query(\"SELECT * FROM employees\", conn)"
   ]
  },
  {
   "cell_type": "markdown",
   "id": "e7bc3422",
   "metadata": {},
   "source": [
    "|  | id | name | age | address | salary |\n",
    "| --- | --- | --- | --- | --- | --- |\n",
    "| 0 | 1 | Rizki | 25 | Jl. Kebon Jeruk | 2000000.0 |\n",
    "| 1 | 2 | Andi | 27 | Jl. Kebon Sirih | 3000000.0 |\n",
    "| 2 | 3 | Budi | 30 | Jl. Kebon Melati | 4000000.0 |\n",
    "| 3 | 4 | Caca | 32 | Jl. Kebon Anggrek | 5000000.0 |\n",
    "| 4 | 5 | Deni | 35 | Jl. Kebon Mawar | 6000000.0 |"
   ]
  },
  {
   "cell_type": "markdown",
   "id": "4b73b1bf",
   "metadata": {},
   "source": [
    "The command above will retrieve data in the employees table. We use * to retrieve all columns in the employee table. If we want to retrieve data from a specific column, we can write the column name in the SELECT command. For example:"
   ]
  },
  {
   "cell_type": "markdown",
   "id": "eda41393",
   "metadata": {},
   "source": [
    "The results will be as follows:"
   ]
  },
  {
   "cell_type": "markdown",
   "id": "a8d117d3",
   "metadata": {},
   "source": [
    "| id | name | age | address | salary |\n",
    "| --- | --- | --- | --- | --- |\n",
    "| 1 | Rizki | 25 | Jl. Kebon Jeruk | 2000000 |\n",
    "| 2 | Andi | 27 | Jl. Kebon Sirih | 3000000 |\n",
    "| 3 | Budi | 30 | Jl. Kebon Melati | 4000000 |\n",
    "| 4 | Caca | 32 | Jl. Kebon Anggrek | 5000000 |\n",
    "| 5 | Deni | 35 | Jl. Kebon Mawar | 6000000 |"
   ]
  },
  {
   "cell_type": "code",
   "execution_count": null,
   "id": "ee467dc4",
   "metadata": {},
   "outputs": [],
   "source": [
    "SELECT id, name, age FROM employees;"
   ]
  },
  {
   "cell_type": "markdown",
   "id": "4d234664",
   "metadata": {},
   "source": [
    "Retrieve specific columns (id, name, age) from the employees table."
   ]
  },
  {
   "cell_type": "code",
   "execution_count": null,
   "id": "214a8e73",
   "metadata": {},
   "outputs": [],
   "source": [
    "import pandas as pd\n",
    "\n",
    "pd.read_sql_query(\"SELECT id, name, age FROM employees\", conn)"
   ]
  },
  {
   "cell_type": "markdown",
   "id": "07409b73",
   "metadata": {},
   "source": [
    "|  | id | name | age |\n",
    "| --- | --- | --- | --- |\n",
    "| 0 | 1 | Rizki | 25 |\n",
    "| 1 | 2 | Andi | 27 |\n",
    "| 2 | 3 | Budi | 30 |\n",
    "| 3 | 4 | Caca | 32 |\n",
    "| 4 | 5 | Deni | 35 |"
   ]
  },
  {
   "cell_type": "markdown",
   "id": "e541f08c",
   "metadata": {},
   "source": [
    "The command above will retrieve all data for several columns, we can write the column name separated by ,. Because in the command it writes the id, name and age columns on the employee table, the result will be as follows:"
   ]
  },
  {
   "cell_type": "markdown",
   "id": "2ba22335",
   "metadata": {},
   "source": [
    "| id | name | age |\n",
    "| --- | --- | --- |\n",
    "| 1 | Rizki | 25 |\n",
    "| 2 | Andi | 27 |\n",
    "| 3 | Budi | 30 |\n",
    "| 4 | Caca | 32 |\n",
    "| 5 | Deni | 35 |"
   ]
  },
  {
   "cell_type": "markdown",
   "id": "1e13d41f",
   "metadata": {},
   "source": [
    "# WHERE"
   ]
  },
  {
   "cell_type": "markdown",
   "id": "d9c81e4f",
   "metadata": {},
   "source": [
    "The WHERE command is used to filter the data to be retrieved. The WHERE command must be written after the SELECT command. For example:"
   ]
  },
  {
   "cell_type": "code",
   "execution_count": null,
   "id": "e37d4058",
   "metadata": {},
   "outputs": [],
   "source": [
    "SELECT * FROM employees\n",
    "WHERE id = 1;"
   ]
  },
  {
   "cell_type": "markdown",
   "id": "f527771b",
   "metadata": {},
   "source": [
    "Retrieve data from the employees table with id equals to 1."
   ]
  },
  {
   "cell_type": "code",
   "execution_count": null,
   "id": "2e7f470f",
   "metadata": {},
   "outputs": [],
   "source": [
    "import pandas as pd\n",
    "\n",
    "pd.read_sql_query(\"SELECT * FROM employees WHERE id = 1\", conn)"
   ]
  },
  {
   "cell_type": "markdown",
   "id": "5fad4fd5",
   "metadata": {},
   "source": [
    "|  | id | name | age | address | salary |\n",
    "| --- | --- | --- | --- | --- | --- |\n",
    "| 0 | 1 | Rizki | 25 | Jl. Kebon Jeruk | 2000000.0 |"
   ]
  },
  {
   "cell_type": "markdown",
   "id": "3f6f4c9f",
   "metadata": {},
   "source": [
    "The command above will retrieve data from the employees table with id 1, so it only gets 1 data that has id 1. The result will be as follows:"
   ]
  },
  {
   "cell_type": "markdown",
   "id": "529d15c0",
   "metadata": {},
   "source": [
    "| id | name | age | address | salary |\n",
    "| --- | --- | --- | --- | --- |\n",
    "| 1 | Rizki | 25 | Jl. Kebon Jeruk | 2000000 |"
   ]
  },
  {
   "cell_type": "markdown",
   "id": "73b233a3",
   "metadata": {},
   "source": [
    "We can also use the WHERE command for logical operations. For example:"
   ]
  },
  {
   "cell_type": "code",
   "execution_count": null,
   "id": "040b323e",
   "metadata": {},
   "outputs": [],
   "source": [
    "SELECT * FROM employees\n",
    "WHERE age < 30;"
   ]
  },
  {
   "cell_type": "markdown",
   "id": "5351a6c4",
   "metadata": {},
   "source": [
    "Retrieve data from the employees table with age less than 30."
   ]
  },
  {
   "cell_type": "code",
   "execution_count": null,
   "id": "f242ba06",
   "metadata": {},
   "outputs": [],
   "source": [
    "import pandas as pd\n",
    "\n",
    "pd.read_sql_query(\"SELECT * FROM employees WHERE age < 30\", conn)"
   ]
  },
  {
   "cell_type": "markdown",
   "id": "da71a7f3",
   "metadata": {},
   "source": [
    "|  | id | name | age | address | salary |\n",
    "| --- | --- | --- | --- | --- | --- |\n",
    "| 0 | 1 | Rizki | 25 | Jl. Kebon Jeruk | 2000000.0 |\n",
    "| 1 | 2 | Andi | 27 | Jl. Kebon Sirih | 3000000.0 |"
   ]
  },
  {
   "cell_type": "markdown",
   "id": "3160ad5a",
   "metadata": {},
   "source": [
    "The command above will retrieve data from the employees table with ages less than 30 years, so it only gets 2 data that has an age less than 30 years. The result will be as follows:"
   ]
  },
  {
   "cell_type": "markdown",
   "id": "fade3b80",
   "metadata": {},
   "source": [
    "| id | name | age | address | salary |\n",
    "| --- | --- | --- | --- | --- |\n",
    "| 1 | Rizki | 25 | Jl. Kebon Jeruk | 2000000 |\n",
    "| 2 | Andi | 27 | Jl. Kebon Sirih | 3000000 |"
   ]
  },
  {
   "cell_type": "markdown",
   "id": "8ffb8070",
   "metadata": {},
   "source": [
    "There are logical operations that can be used to combine several conditions namely AND and OR."
   ]
  },
  {
   "cell_type": "markdown",
   "id": "1fa47c7a",
   "metadata": {},
   "source": [
    "- ANDis used to combine several conditions withandlogic.\n",
    "- ORis used to combine several conditions withorlogic."
   ]
  },
  {
   "cell_type": "code",
   "execution_count": null,
   "id": "901bd67e",
   "metadata": {},
   "outputs": [],
   "source": [
    "SELECT * FROM employees\n",
    "WHERE age < 30 AND salary > 2000000;"
   ]
  },
  {
   "cell_type": "markdown",
   "id": "83c03336",
   "metadata": {},
   "source": [
    "Retrieve data from the employees table with age less than 30 and more than 2000000."
   ]
  },
  {
   "cell_type": "code",
   "execution_count": null,
   "id": "55cd196a",
   "metadata": {},
   "outputs": [],
   "source": [
    "import pandas as pd\n",
    "\n",
    "pd.read_sql_query(\"SELECT * FROM employees WHERE age < 30 AND salary > 2000000\", conn)"
   ]
  },
  {
   "cell_type": "markdown",
   "id": "086eeda9",
   "metadata": {},
   "source": [
    "|  | id | name | age | address | salary |\n",
    "| --- | --- | --- | --- | --- | --- |\n",
    "| 0 | 2 | Andi | 27 | Jl. Kebon Sirih | 3000000.0 |"
   ]
  },
  {
   "cell_type": "markdown",
   "id": "6f8c5b62",
   "metadata": {},
   "source": [
    "The command above will retrieve data from the employee table with an age less than 30 years and a salary more than 2 million, so it only gets 1 data that has an age less than 30 years and a salary more than 2 million. The result will be as follows:"
   ]
  },
  {
   "cell_type": "markdown",
   "id": "bb7fb7c5",
   "metadata": {},
   "source": [
    "| id | name | age | address | salary |\n",
    "| --- | --- | --- | --- | --- |\n",
    "| 2 | Andi | 27 | Jl. Kebon Sirih | 3000000 |"
   ]
  },
  {
   "cell_type": "markdown",
   "id": "05e17f46",
   "metadata": {},
   "source": [
    "# IN"
   ]
  },
  {
   "cell_type": "markdown",
   "id": "75cca1e9",
   "metadata": {},
   "source": [
    "The IN command is used to filter the data to be retrieved based on a dataset that contains several values. This command is combined with the WHERE command and must be written after it. For example:"
   ]
  },
  {
   "cell_type": "code",
   "execution_count": null,
   "id": "beffa65c",
   "metadata": {},
   "outputs": [],
   "source": [
    "SELECT * FROM employees\n",
    "WHERE id IN (1, 3, 5);"
   ]
  },
  {
   "cell_type": "markdown",
   "id": "9fa5e4e2",
   "metadata": {},
   "source": [
    "Retrieve data from the employees table with id in (1, 3, 5)."
   ]
  },
  {
   "cell_type": "code",
   "execution_count": null,
   "id": "89a02492",
   "metadata": {},
   "outputs": [],
   "source": [
    "import pandas as pd\n",
    "\n",
    "pd.read_sql_query(\"SELECT * FROM employees WHERE id IN (1, 3, 5)\", conn)"
   ]
  },
  {
   "cell_type": "markdown",
   "id": "f21c8c34",
   "metadata": {},
   "source": [
    "|  | id | name | age | address | salary |\n",
    "| --- | --- | --- | --- | --- | --- |\n",
    "| 0 | 1 | Rizki | 25 | Jl. Kebon Jeruk | 2000000.0 |\n",
    "| 1 | 3 | Budi | 30 | Jl. Kebon Melati | 4000000.0 |\n",
    "| 2 | 5 | Deni | 35 | Jl. Kebon Mawar | 6000000.0 |"
   ]
  },
  {
   "cell_type": "markdown",
   "id": "2e58ef57",
   "metadata": {},
   "source": [
    "The command above will retrieve data from the employee table with id 1, 3 and 5, so it will get 3 data that has id 1, 3 and 5. The result will be as follows:"
   ]
  },
  {
   "cell_type": "markdown",
   "id": "f9fadcd3",
   "metadata": {},
   "source": [
    "| id | name | age | address | salary |\n",
    "| --- | --- | --- | --- | --- |\n",
    "| 1 | Rizki | 25 | Jl. Kebon Jeruk | 2000000 |\n",
    "| 3 | Budi | 30 | Jl. Kebon Melati | 4000000 |\n",
    "| 5 | Deni | 35 | Jl. Kebon Mawar | 6000000 |"
   ]
  },
  {
   "cell_type": "markdown",
   "id": "f80ef021",
   "metadata": {},
   "source": [
    "You can apply the basic SELECT command using this online SQL compiler or the DBMS tool you are using. Don’t forget to add data first before doing the SELECT command."
   ]
  },
  {
   "cell_type": "markdown",
   "id": "d25df06d",
   "metadata": {},
   "source": [
    "# ORDER BY"
   ]
  },
  {
   "cell_type": "markdown",
   "id": "35439fdf",
   "metadata": {},
   "source": [
    "The ORDER BY command is used to sort the data to be retrieved. This command is combined with the SELECT command and must be written after it. This command only has two types of sorting namely ASC and DESC."
   ]
  },
  {
   "cell_type": "markdown",
   "id": "0c4c17c1",
   "metadata": {},
   "source": [
    "- ASCis used to sort data in ascending order (from small to large).\n",
    "- DESCis used to sort data in descending order (from large to small)."
   ]
  },
  {
   "cell_type": "markdown",
   "id": "c06c8350",
   "metadata": {},
   "source": [
    "For example:"
   ]
  },
  {
   "cell_type": "code",
   "execution_count": null,
   "id": "ac87fa3e",
   "metadata": {},
   "outputs": [],
   "source": [
    "SELECT * FROM employees\n",
    "ORDER BY age DESC;"
   ]
  },
  {
   "cell_type": "markdown",
   "id": "38ec1c67",
   "metadata": {},
   "source": [
    "Retrieve data from the employees table and order by age in descending order."
   ]
  },
  {
   "cell_type": "code",
   "execution_count": null,
   "id": "4ecea881",
   "metadata": {},
   "outputs": [],
   "source": [
    "import pandas as pd\n",
    "\n",
    "pd.read_sql_query(\"SELECT * FROM employees ORDER BY age DESC\", conn)"
   ]
  },
  {
   "cell_type": "markdown",
   "id": "b2e11916",
   "metadata": {},
   "source": [
    "|  | id | name | age | address | salary |\n",
    "| --- | --- | --- | --- | --- | --- |\n",
    "| 0 | 5 | Deni | 35 | Jl. Kebon Mawar | 6000000.0 |\n",
    "| 1 | 4 | Caca | 32 | Jl. Kebon Anggrek | 5000000.0 |\n",
    "| 2 | 3 | Budi | 30 | Jl. Kebon Melati | 4000000.0 |\n",
    "| 3 | 2 | Andi | 27 | Jl. Kebon Sirih | 3000000.0 |\n",
    "| 4 | 1 | Rizki | 25 | Jl. Kebon Jeruk | 2000000.0 |"
   ]
  },
  {
   "cell_type": "markdown",
   "id": "c3ebbed2",
   "metadata": {},
   "source": [
    "The command above will retrieve data from the employee table and sort it based on the age column in descending order (large to small), so it will get 5 data that is sorted based on age in descending order. The result will be as follows:"
   ]
  },
  {
   "cell_type": "markdown",
   "id": "7baf2b7a",
   "metadata": {},
   "source": [
    "| id | name | age | address | salary |\n",
    "| --- | --- | --- | --- | --- |\n",
    "| 5 | Deni | 35 | Jl. Kebon Mawar | 6000000 |\n",
    "| 4 | Caca | 32 | Jl. Kebon Kamboja | 5000000 |\n",
    "| 3 | Budi | 30 | Jl. Kebon Melati | 4000000 |\n",
    "| 2 | Andi | 27 | Jl. Kebon Sirih | 3000000 |\n",
    "| 1 | Rizki | 25 | Jl. Kebon Jeruk | 2000000 |"
   ]
  },
  {
   "cell_type": "markdown",
   "id": "531b5207",
   "metadata": {},
   "source": [
    "# LIMIT"
   ]
  },
  {
   "cell_type": "markdown",
   "id": "7dc0350e",
   "metadata": {},
   "source": [
    "The LIMIT command is used to limit the number of data to be retrieved. The number of data to be retrieved will be determined by the parameter given by taking in order from the top data. This command is combined with the SELECT command and must be written after it. For example:"
   ]
  },
  {
   "cell_type": "code",
   "execution_count": null,
   "id": "fc308f68",
   "metadata": {},
   "outputs": [],
   "source": [
    "SELECT * FROM employees\n",
    "LIMIT 2;"
   ]
  },
  {
   "cell_type": "markdown",
   "id": "a5f37c6f",
   "metadata": {},
   "source": [
    "Retrieve 2 records from the employees table."
   ]
  },
  {
   "cell_type": "code",
   "execution_count": null,
   "id": "8f197e63",
   "metadata": {},
   "outputs": [],
   "source": [
    "import pandas as pd\n",
    "\n",
    "pd.read_sql_query(\"SELECT * FROM employee LIMIT 2\", conn)"
   ]
  },
  {
   "cell_type": "markdown",
   "id": "aaa5387d",
   "metadata": {},
   "source": [
    "|  | id | name | age | address | salary |\n",
    "| --- | --- | --- | --- | --- | --- |\n",
    "| 0 | 1 | Rizki | 25 | Jl. Kebon Jeruk | 2000000.0 |\n",
    "| 1 | 2 | Andi | 27 | Jl. Kebon Sirih | 3000000.0 |"
   ]
  },
  {
   "cell_type": "markdown",
   "id": "f0bd0f46",
   "metadata": {},
   "source": [
    "The command above will retrieve data from the employee table and limit only 2 data to be retrieved (taken from the top), so it will get 3 data taken from the top data. The result will be as follows:"
   ]
  },
  {
   "cell_type": "markdown",
   "id": "50320e76",
   "metadata": {},
   "source": [
    "| id | name | age | address | salary |\n",
    "| --- | --- | --- | --- | --- |\n",
    "| 1 | Rizki | 25 | Jl. Kebon Jeruk | 2000000 |\n",
    "| 2 | Andi | 27 | Jl. Kebon Sirih | 3000000 |"
   ]
  },
  {
   "cell_type": "markdown",
   "id": "1ce085da",
   "metadata": {},
   "source": [
    "# Aggregate function"
   ]
  },
  {
   "cell_type": "markdown",
   "id": "e98914f8",
   "metadata": {},
   "source": [
    "An aggregate function is a function used to produce a value based on the data in a table. This function will produce one value only."
   ]
  },
  {
   "cell_type": "markdown",
   "id": "03628f9e",
   "metadata": {},
   "source": [
    "Previously, we have retrieved data from the employee table using the SELECT command. We can use aggregate functions to get certain values from the data in the table. For example, getting the maximum or average value from the data in the salary column of the employee table. Or get the smallest value from all data in the age column."
   ]
  },
  {
   "cell_type": "markdown",
   "id": "42ecbcfa",
   "metadata": {},
   "source": [
    "There are many aggregate functions that can be used, but here we will discuss some functions that are most often used."
   ]
  },
  {
   "cell_type": "markdown",
   "id": "5052b488",
   "metadata": {},
   "source": [
    "# COUNT"
   ]
  },
  {
   "cell_type": "markdown",
   "id": "28384e60",
   "metadata": {},
   "source": [
    "The COUNT function is a function used to count the number of rows in a table. The result of this function will produce one value only. For example:"
   ]
  },
  {
   "cell_type": "code",
   "execution_count": null,
   "id": "1e534672",
   "metadata": {},
   "outputs": [],
   "source": [
    "SELECT COUNT(*) FROM employees;"
   ]
  },
  {
   "cell_type": "markdown",
   "id": "ab23ab7d",
   "metadata": {},
   "source": [
    "Count the number of records in the employees table."
   ]
  },
  {
   "cell_type": "code",
   "execution_count": null,
   "id": "b3791d2a",
   "metadata": {},
   "outputs": [],
   "source": [
    "import pandas as pd\n",
    "\n",
    "pd.read_sql_query(\"SELECT COUNT(*) FROM employees\", conn)"
   ]
  },
  {
   "cell_type": "markdown",
   "id": "df77473a",
   "metadata": {},
   "source": [
    "|  | COUNT(*) |\n",
    "| --- | --- |\n",
    "| 0 | 5 |"
   ]
  },
  {
   "cell_type": "markdown",
   "id": "135a5ef9",
   "metadata": {},
   "source": [
    "The command above will count the number of rows in the employee table in all columns and produce the value 5, because there are 5 data in the table. The result will be as follows:"
   ]
  },
  {
   "cell_type": "markdown",
   "id": "a288b9d3",
   "metadata": {},
   "source": [
    "| COUNT(*) |\n",
    "| --- |\n",
    "| 5 |"
   ]
  },
  {
   "cell_type": "markdown",
   "id": "b0719f0c",
   "metadata": {},
   "source": [
    "This function will not total the value of a specific column that has NULL data. For example, there is the following table data:"
   ]
  },
  {
   "cell_type": "markdown",
   "id": "45ffd8bc",
   "metadata": {},
   "source": [
    "| id | name | age | address | salary |\n",
    "| --- | --- | --- | --- | --- |\n",
    "| 1 | Rizki | 25 | Jl. Kebon Jeruk | 2000000 |\n",
    "| 2 | Andi | 27 | NULL | 3000000 |\n",
    "| 3 | Budi | 30 | NULL | 4000000 |"
   ]
  },
  {
   "cell_type": "code",
   "execution_count": null,
   "id": "b066c148",
   "metadata": {},
   "outputs": [],
   "source": [
    "c.execute('DELETE FROM employees')\n",
    "\n",
    "data = [\n",
    "    (1, 'Rizki', 25, 'Jl. Kebon Jeruk', 2000000),\n",
    "    (2, 'Andi', 27, None, 3000000),\n",
    "    (3, 'Budi', 30, None, 4000000)\n",
    "]\n",
    "c.executemany('INSERT INTO employees VALUES (?,?,?,?,?)', data)\n",
    "\n",
    "conn.commit()"
   ]
  },
  {
   "cell_type": "markdown",
   "id": "468f0001",
   "metadata": {},
   "source": [
    "If we use the COUNT function on the address column, the result will be 1 because there is only one data that has a value in the address column. If we use the COUNT function on the salary column, the result will be 3 because all data has a value in the salary column."
   ]
  },
  {
   "cell_type": "markdown",
   "id": "5e57947f",
   "metadata": {},
   "source": [
    "- using theCOUNTfunction for theaddresscolumnSELECTCOUNT(address)FROMemployees;The result is as follows:COUNT(address)1\n",
    "- using theCOUNTfunction for thesalarycolumnSELECTCOUNT(salary)FROMemployees;The result is as follows:COUNT(salary)3"
   ]
  },
  {
   "cell_type": "markdown",
   "id": "403221bc",
   "metadata": {},
   "source": [
    "using the COUNT function for the address column"
   ]
  },
  {
   "cell_type": "code",
   "execution_count": null,
   "id": "b4647e03",
   "metadata": {},
   "outputs": [],
   "source": [
    "SELECT COUNT(address) FROM employees;"
   ]
  },
  {
   "cell_type": "markdown",
   "id": "4cd3343a",
   "metadata": {},
   "source": [
    "The result is as follows:"
   ]
  },
  {
   "cell_type": "markdown",
   "id": "6d50155c",
   "metadata": {},
   "source": [
    "| COUNT(address) |\n",
    "| --- |\n",
    "| 1 |"
   ]
  },
  {
   "cell_type": "markdown",
   "id": "21add5ca",
   "metadata": {},
   "source": [
    "using the COUNT function for the salary column"
   ]
  },
  {
   "cell_type": "code",
   "execution_count": null,
   "id": "e0bf3ffe",
   "metadata": {},
   "outputs": [],
   "source": [
    "SELECT COUNT(salary) FROM employees;"
   ]
  },
  {
   "cell_type": "markdown",
   "id": "743b46aa",
   "metadata": {},
   "source": [
    "The result is as follows:"
   ]
  },
  {
   "cell_type": "markdown",
   "id": "9fcbe1a6",
   "metadata": {},
   "source": [
    "| COUNT(salary) |\n",
    "| --- |\n",
    "| 3 |"
   ]
  },
  {
   "cell_type": "markdown",
   "id": "95c88165",
   "metadata": {},
   "source": [
    "If we look at the results, the column name will become COUNT(address) and COUNT(salary). If we want to change the column name, we can use the AS command to change the column name. For example:"
   ]
  },
  {
   "cell_type": "code",
   "execution_count": null,
   "id": "b75ce4f4",
   "metadata": {},
   "outputs": [],
   "source": [
    "SELECT COUNT(address) AS total_address\n",
    "FROM employees;"
   ]
  },
  {
   "cell_type": "markdown",
   "id": "1fa1f3c2",
   "metadata": {},
   "source": [
    "Try in python using SQLite"
   ]
  },
  {
   "cell_type": "code",
   "execution_count": null,
   "id": "95889571",
   "metadata": {},
   "outputs": [],
   "source": [
    "import pandas as pd\n",
    "\n",
    "pd.read_sql_query(\"SELECT COUNT(address) AS total_address FROM employees\", conn)"
   ]
  },
  {
   "cell_type": "markdown",
   "id": "4a6b3395",
   "metadata": {},
   "source": [
    "|  | total_address |\n",
    "| --- | --- |\n",
    "| 0 | 1 |"
   ]
  },
  {
   "cell_type": "markdown",
   "id": "4dfad5ed",
   "metadata": {},
   "source": [
    "By using AS we can change the column name to total_address. The result will be as follows:"
   ]
  },
  {
   "cell_type": "markdown",
   "id": "482255bd",
   "metadata": {},
   "source": [
    "| total_address |\n",
    "| --- |\n",
    "| 1 |"
   ]
  },
  {
   "cell_type": "markdown",
   "id": "2297c79f",
   "metadata": {},
   "source": [
    "# CONCAT"
   ]
  },
  {
   "cell_type": "markdown",
   "id": "eba7c5bc",
   "metadata": {},
   "source": [
    "The CONCAT function is a function used to combine two or more strings into one. This function will produce one string only."
   ]
  },
  {
   "cell_type": "code",
   "execution_count": null,
   "id": "00b26341",
   "metadata": {},
   "outputs": [],
   "source": [
    "CONCAT(string1, string2, string3, ...)"
   ]
  },
  {
   "cell_type": "markdown",
   "id": "068ab724",
   "metadata": {},
   "source": [
    "For example, if there is a persons table with columns and data as follows:"
   ]
  },
  {
   "cell_type": "markdown",
   "id": "a5e85b58",
   "metadata": {},
   "source": [
    "| id | salutation | name | age |\n",
    "| --- | --- | --- | --- |\n",
    "| 1 | Mr | Rizki Sanjaya | 25 |\n",
    "| 2 | Mr | Andi William | 27 |\n",
    "| 3 | Ms | Susi Andini | 30 |"
   ]
  },
  {
   "cell_type": "markdown",
   "id": "45f4c1c6",
   "metadata": {},
   "source": [
    "We can combine the salutation and name columns into one column using the CONCAT function. For example:"
   ]
  },
  {
   "cell_type": "code",
   "execution_count": null,
   "id": "65ff1069",
   "metadata": {},
   "outputs": [],
   "source": [
    "c.execute('''\n",
    "CREATE TABLE persons (\n",
    "    id INT,\n",
    "    salutation TEXT,\n",
    "    name TEXT,\n",
    "    age INT);\n",
    "''')\n",
    "conn.commit()"
   ]
  },
  {
   "cell_type": "code",
   "execution_count": null,
   "id": "e06b7fa5",
   "metadata": {},
   "outputs": [],
   "source": [
    "data = [\n",
    "    (1, 'Mr', 'Rizki Sanjaya', 25),\n",
    "    (2, 'Mr', 'Andi William', 27),\n",
    "    (3, 'Mr', 'Susi Andini', 30)\n",
    "]\n",
    "c.executemany('INSERT INTO persons VALUES (?,?,?,?)', data)\n",
    "\n",
    "conn.commit()"
   ]
  },
  {
   "cell_type": "code",
   "execution_count": null,
   "id": "b16569ed",
   "metadata": {},
   "outputs": [],
   "source": [
    "import pandas as pd\n",
    "\n",
    "pd.read_sql_query(\"SELECT * FROM persons\", conn)"
   ]
  },
  {
   "cell_type": "markdown",
   "id": "62fa5596",
   "metadata": {},
   "source": [
    "|  | id | salutation | name | age |\n",
    "| --- | --- | --- | --- | --- |\n",
    "| 0 | 1 | Mr | Rizki Sanjaya | 25 |\n",
    "| 1 | 2 | Mr | Andi William | 27 |\n",
    "| 2 | 3 | Mr | Susi Andini | 30 |"
   ]
  },
  {
   "cell_type": "code",
   "execution_count": null,
   "id": "4136b372",
   "metadata": {},
   "outputs": [],
   "source": [
    "SELECT CONCAT(salutation, ' ', name) AS fullname\n",
    "FROM persons;"
   ]
  },
  {
   "cell_type": "markdown",
   "id": "8fab5481",
   "metadata": {},
   "source": [
    "Try in python using SQLite (CONCAT is not supported by SQLite. In SQLite, you can use the || operator to concatenate strings.)"
   ]
  },
  {
   "cell_type": "code",
   "execution_count": null,
   "id": "1c630d67",
   "metadata": {},
   "outputs": [],
   "source": [
    "import pandas as pd\n",
    "\n",
    "pd.read_sql_query(\"SELECT (salutation || ' ' || name) AS fullname FROM persons\", conn)"
   ]
  },
  {
   "cell_type": "markdown",
   "id": "861899e5",
   "metadata": {},
   "source": [
    "|  | fullname |\n",
    "| --- | --- |\n",
    "| 0 | Mr Rizki Sanjaya |\n",
    "| 1 | Mr Andi William |\n",
    "| 2 | Mr Susi Andini |"
   ]
  },
  {
   "cell_type": "markdown",
   "id": "ef5189f9",
   "metadata": {},
   "source": [
    "The command above will combine the salutation and name columns using a space as a separator. The result will be as follows:"
   ]
  },
  {
   "cell_type": "markdown",
   "id": "1396b5ef",
   "metadata": {},
   "source": [
    "| fullname |\n",
    "| --- |\n",
    "| Mr Rizki Sanjaya |\n",
    "| Mr Andi William |\n",
    "| Ms Susi Andini |"
   ]
  },
  {
   "cell_type": "markdown",
   "id": "0ca6e1b1",
   "metadata": {},
   "source": [
    "You can try using the aggregate functions explained in this online SQL compiler or the DBMS tool you are using."
   ]
  },
  {
   "cell_type": "markdown",
   "id": "266668a4",
   "metadata": {},
   "source": [
    "In addition to COUNT, there are other aggregate functions such as MIN, MAX, AVG, SUM, and others that you can read in W3 School - SQL Aggregate Function."
   ]
  },
  {
   "cell_type": "code",
   "execution_count": null,
   "id": "7c7627a0",
   "metadata": {},
   "outputs": [],
   "source": [
    "# Close the connection\n",
    "conn.close()"
   ]
  },
  {
   "cell_type": "markdown",
   "id": "9ac3d719",
   "metadata": {},
   "source": [
    "Next, we continue into accessing and manipulating data in multiple tables using JOIN and TRANSACTION"
   ]
  }
 ],
 "metadata": {},
 "nbformat": 4,
 "nbformat_minor": 5
}
