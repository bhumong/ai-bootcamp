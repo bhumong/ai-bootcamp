{
 "cells": [
  {
   "cell_type": "markdown",
   "id": "8d124fcd",
   "metadata": {},
   "source": [
    "# Seq2Seq With RNN"
   ]
  },
  {
   "cell_type": "markdown",
   "id": "1f58ba28",
   "metadata": {},
   "source": [
    "# What is Seq2Seq"
   ]
  },
  {
   "cell_type": "markdown",
   "id": "c21b1d09",
   "metadata": {},
   "source": [
    "User: Siapa penemu lampu bohlam?"
   ]
  },
  {
   "cell_type": "markdown",
   "id": "166a3054",
   "metadata": {},
   "source": [
    "AI: Penemu lampu bohlam adalah Thomas Alva Edison. Ia merupakan seorang penemu dan pengusaha berkebangsaan Amerika Serikat. Edison menemukan lampu pijar yang praktis pada tahun 1879."
   ]
  },
  {
   "cell_type": "markdown",
   "id": "b29b83f2",
   "metadata": {},
   "source": [
    "Familiar with above text? Sequence-to-sequence, or seq2seq for short, is a model architecture that receive an input of a sequence of words and output another sequence of words. Sequence, to another sequence of words, seq-to-seq, Seq2Seq! 😀."
   ]
  },
  {
   "cell_type": "markdown",
   "id": "ca9a5eb0",
   "metadata": {},
   "source": [
    "# Overall Architecture"
   ]
  },
  {
   "cell_type": "markdown",
   "id": "212c5d6f",
   "metadata": {},
   "source": []
  },
  {
   "cell_type": "markdown",
   "id": "86e2afd1",
   "metadata": {},
   "source": [
    "The architecture of seq2seq model is divided into two parts, the encoder and the decoder. We’ll describe each part in detail below, but for now you we can at least describe which sequence does encoder and decoder handle:"
   ]
  },
  {
   "cell_type": "markdown",
   "id": "9c0ee537",
   "metadata": {},
   "source": [
    "You can see below diagram to better understand the intuition:"
   ]
  },
  {
   "cell_type": "markdown",
   "id": "ecc72122",
   "metadata": {},
   "source": []
  },
  {
   "cell_type": "markdown",
   "id": "c2ace58b",
   "metadata": {},
   "source": [
    "# The history of why we use Seq2Seq for NLP"
   ]
  },
  {
   "cell_type": "markdown",
   "id": "e1513478",
   "metadata": {},
   "source": []
  },
  {
   "cell_type": "markdown",
   "id": "9c213bd9",
   "metadata": {},
   "source": [
    "The intuition behind why we use seq2seq is simple: we can visualize every sentence as a sequence, the input for can be variable length, and the output can also be variable length."
   ]
  },
  {
   "cell_type": "markdown",
   "id": "f7a3d7a0",
   "metadata": {},
   "source": [
    "Imagine we want to translate below sentence:"
   ]
  },
  {
   "cell_type": "markdown",
   "id": "1ea0475a",
   "metadata": {},
   "source": [
    "After several minutes of waiting, Afista’s patience grow thinner and he leaves"
   ]
  },
  {
   "cell_type": "markdown",
   "id": "9b24039b",
   "metadata": {},
   "source": [
    "We need to read the words letter by letter, after we understand the whole sentence, we can translate it to another language. So, if you read above diagram, basically we can intuitively breakdown the concept like how we approach the problem in real life:"
   ]
  },
  {
   "cell_type": "markdown",
   "id": "d64f0e3d",
   "metadata": {},
   "source": [
    "And the reason why we use encoder-decoder architecture is because we want the capability to input different length of sequence and output different length of sequence, such as:"
   ]
  },
  {
   "cell_type": "markdown",
   "id": "ac7761c6",
   "metadata": {},
   "source": [
    "Input: Hi, can you tell me the time in Jakarta right now?"
   ]
  },
  {
   "cell_type": "markdown",
   "id": "261014a5",
   "metadata": {},
   "source": [
    "Output: Yes, the time in Jakarta right now is 10:00 AM, do you need anything else?"
   ]
  },
  {
   "cell_type": "markdown",
   "id": "49db2bd8",
   "metadata": {},
   "source": [
    "We can see that the input has 12 words, while the output has 16 words. If we use the traditional RNN architecture encoder-decoder, we can’t do that because the input and output must have the same length."
   ]
  },
  {
   "cell_type": "markdown",
   "id": "80be2b8c",
   "metadata": {},
   "source": [
    "# The Bridge Between Encoder and Decoder: Context Vector"
   ]
  },
  {
   "cell_type": "markdown",
   "id": "36d51d2a",
   "metadata": {},
   "source": [
    "Before we dive deeper to what is encoder and what is decoder, it’s easier for us to try to understand context vector first."
   ]
  },
  {
   "cell_type": "markdown",
   "id": "9644ccbc",
   "metadata": {},
   "source": []
  },
  {
   "cell_type": "markdown",
   "id": "e59ee1e3",
   "metadata": {},
   "source": [
    "Context vector is basically a way to compress every information from an input to a single vector. Imagine if we have a context vector that has 3 dimensions such as:"
   ]
  },
  {
   "cell_type": "markdown",
   "id": "d6f80ec3",
   "metadata": {},
   "source": [
    "\\[\n",
    "[.., .., ..]\n",
    "\\]"
   ]
  },
  {
   "cell_type": "markdown",
   "id": "8cd18d97",
   "metadata": {},
   "source": [
    "We may fill these 3 dimensions with 3 different type, such as: The subject in the input, the activity that the subject will be doing, and additional description that might be needed to expand on the activity. Of course it’s a really simplified intuition, in reality the dimension of a context vector might be hundreds or even thousands."
   ]
  },
  {
   "cell_type": "markdown",
   "id": "6f7359cf",
   "metadata": {},
   "source": [
    "So in human word, several examples of how an input converted to context vector might be look like so:"
   ]
  },
  {
   "cell_type": "code",
   "execution_count": null,
   "id": "278ede14",
   "metadata": {},
   "outputs": [],
   "source": [
    "I want to eat fried rice -> [I, eat, fried rice]\n",
    "You want to drink orange juice -> [You, drink, orange juice]\n",
    "He wants to write a novel -> [He, write, a novel]"
   ]
  },
  {
   "cell_type": "markdown",
   "id": "2db5c446",
   "metadata": {},
   "source": [
    "In our fictional scenario, we only want to have this pattern to translate “[subject] want/wants to [activity] [additional description]” so above context vectors would be enough."
   ]
  },
  {
   "cell_type": "markdown",
   "id": "092c68e9",
   "metadata": {},
   "source": [
    "Then of course we know that our machine learning model only understand numbers, so they might assign above dimensions with below dictionaries"
   ]
  },
  {
   "cell_type": "code",
   "execution_count": null,
   "id": "50df5ff5",
   "metadata": {},
   "outputs": [],
   "source": [
    "subject:\n",
    "0 - I\n",
    "1 - You\n",
    "2 - He\n",
    "\n",
    "activity:\n",
    "0 - eat\n",
    "1 - drink\n",
    "2 - write\n",
    "\n",
    "additional description:\n",
    "0 - fried rice\n",
    "1 - orange juice\n",
    "2 - a novel"
   ]
  },
  {
   "cell_type": "markdown",
   "id": "4dc51850",
   "metadata": {},
   "source": [
    "So our human words will become below context vector!"
   ]
  },
  {
   "cell_type": "code",
   "execution_count": null,
   "id": "f511797f",
   "metadata": {},
   "outputs": [],
   "source": [
    "I want to eat fried rice -> [I, eat, fried rice] -> [0, 0, 0]\n",
    "You want to drink orange juice -> [You, drink, orange juice] -> [1, 1, 1]\n",
    "He wants to write a novel -> [He, write, a novel] -> [2, 2, 2]"
   ]
  },
  {
   "cell_type": "markdown",
   "id": "5ca9e7af",
   "metadata": {},
   "source": [
    "So context vector is summary of the entire input"
   ]
  },
  {
   "cell_type": "markdown",
   "id": "8ac87992",
   "metadata": {},
   "source": [
    "# Encoder and decoder"
   ]
  },
  {
   "cell_type": "markdown",
   "id": "4cbcea5e",
   "metadata": {},
   "source": []
  },
  {
   "cell_type": "markdown",
   "id": "2a9bbf28",
   "metadata": {},
   "source": [
    "# Encoder"
   ]
  },
  {
   "cell_type": "markdown",
   "id": "8f74dac3",
   "metadata": {},
   "source": [
    "From above diagram you can see that encoder is a many-to-one RNN architecture, which means that it will receive a sequence of words as an input, and output a single vector as a context vector. The encoder, like our intuition above, will read the input sequence letter by letter, and try to “understand” the whole sentence, then output a single vector that represents it’s understanding."
   ]
  },
  {
   "cell_type": "markdown",
   "id": "ab92a526",
   "metadata": {},
   "source": [
    "Of course the word itself is already preprocessed to tokenized form, then passed to a word embedding layer to convert it to a vector then passed to the encoder."
   ]
  },
  {
   "cell_type": "markdown",
   "id": "64e8a37b",
   "metadata": {},
   "source": [
    "Just like our previous example"
   ]
  },
  {
   "cell_type": "code",
   "execution_count": null,
   "id": "d8b41a45",
   "metadata": {},
   "outputs": [],
   "source": [
    "I want to eat fried rice -> [I, eat, fried rice] -> [0, 0, 0]\n",
    "You want to drink orange juice -> [You, drink, orange juice] -> [1, 1, 1]\n",
    "He wants to write a novel -> [He, write, a novel] -> [2, 2, 2]"
   ]
  },
  {
   "cell_type": "markdown",
   "id": "0245033e",
   "metadata": {},
   "source": [
    "We can see on above example that the input is a sequence of words that is summarized in a single vector. For more realistic example, we will learn more on later section using Google Sheets."
   ]
  },
  {
   "cell_type": "markdown",
   "id": "7c6cc1ac",
   "metadata": {},
   "source": [
    "So what is context vector when we’re talking about encoder? It’s the final hidden state of the encoder."
   ]
  },
  {
   "cell_type": "markdown",
   "id": "2357a502",
   "metadata": {},
   "source": [
    "# Decoder"
   ]
  },
  {
   "cell_type": "markdown",
   "id": "e486d47e",
   "metadata": {},
   "source": [
    "For decoder it’s really simple, we use one-to-many RNN architecture, which means that it will receive the context vector that was produced by the encoder, and output a sequence of human language. From our intuition above, we can see that the decoder will “read” the context vector and will be the “translator” that will generate the output sequence letter by letter."
   ]
  }
 ],
 "metadata": {},
 "nbformat": 4,
 "nbformat_minor": 5
}
