{
 "cells": [
  {
   "cell_type": "markdown",
   "id": "4cf666db",
   "metadata": {},
   "source": [
    "source: [link](https://ai-bootcamp.ruangguru.com/learn/07_nlp/07_Seq2Seq_with_RNN.html)"
   ]
  },
  {
   "cell_type": "markdown",
   "id": "a44cc7f9",
   "metadata": {},
   "source": [
    "# Seq2Seq With RNN"
   ]
  },
  {
   "cell_type": "markdown",
   "id": "92a30a7a",
   "metadata": {},
   "source": [
    "# What is Seq2Seq"
   ]
  },
  {
   "cell_type": "markdown",
   "id": "f2faeadc",
   "metadata": {},
   "source": [
    "User: Siapa penemu lampu bohlam?"
   ]
  },
  {
   "cell_type": "markdown",
   "id": "82a1aa39",
   "metadata": {},
   "source": [
    "AI: Penemu lampu bohlam adalah Thomas Alva Edison. Ia merupakan seorang penemu dan pengusaha berkebangsaan Amerika Serikat. Edison menemukan lampu pijar yang praktis pada tahun 1879."
   ]
  },
  {
   "cell_type": "markdown",
   "id": "de690b35",
   "metadata": {},
   "source": [
    "Familiar with above text? Sequence-to-sequence, or seq2seq for short, is a model architecture that receive an input of a sequence of words and output another sequence of words. Sequence, to another sequence of words, seq-to-seq, Seq2Seq! 😀."
   ]
  },
  {
   "cell_type": "markdown",
   "id": "22eef1b0",
   "metadata": {},
   "source": [
    "# Overall Architecture"
   ]
  },
  {
   "cell_type": "markdown",
   "id": "b83e5661",
   "metadata": {},
   "source": []
  },
  {
   "cell_type": "markdown",
   "id": "00a790e3",
   "metadata": {},
   "source": [
    "![Image](https://ik.imagekit.io/kelaspendek/image_4Jt8vgIwX.png?updatedAt=1694578486622)"
   ]
  },
  {
   "cell_type": "markdown",
   "id": "7452aab0",
   "metadata": {},
   "source": [
    "The architecture of seq2seq model is divided into two parts, the encoder and the decoder. We’ll describe each part in detail below, but for now you we can at least describe which sequence does encoder and decoder handle:"
   ]
  },
  {
   "cell_type": "markdown",
   "id": "2b9f1187",
   "metadata": {},
   "source": [
    "You can see below diagram to better understand the intuition:"
   ]
  },
  {
   "cell_type": "markdown",
   "id": "29d9d85e",
   "metadata": {},
   "source": []
  },
  {
   "cell_type": "markdown",
   "id": "044a71fc",
   "metadata": {},
   "source": [
    "![Image](https://storage.googleapis.com/rg-ai-bootcamp/nlp/image-12.png)"
   ]
  },
  {
   "cell_type": "markdown",
   "id": "f30a8fd0",
   "metadata": {},
   "source": [
    "# The history of why we use Seq2Seq for NLP"
   ]
  },
  {
   "cell_type": "markdown",
   "id": "a6be0b09",
   "metadata": {},
   "source": []
  },
  {
   "cell_type": "markdown",
   "id": "87ae7cc4",
   "metadata": {},
   "source": [
    "![Image](https://ik.imagekit.io/kelaspendek/image_zCTdyC4dx.png?updatedAt=1694589101199)"
   ]
  },
  {
   "cell_type": "markdown",
   "id": "ac748b7c",
   "metadata": {},
   "source": [
    "The intuition behind why we use seq2seq is simple: we can visualize every sentence as a sequence, the input for can be variable length, and the output can also be variable length."
   ]
  },
  {
   "cell_type": "markdown",
   "id": "707bb0de",
   "metadata": {},
   "source": [
    "Imagine we want to translate below sentence:"
   ]
  },
  {
   "cell_type": "markdown",
   "id": "50ef90be",
   "metadata": {},
   "source": [
    "After several minutes of waiting, Afista’s patience grow thinner and he leaves"
   ]
  },
  {
   "cell_type": "markdown",
   "id": "4cdecfe2",
   "metadata": {},
   "source": [
    "We need to read the words letter by letter, after we understand the whole sentence, we can translate it to another language. So, if you read above diagram, basically we can intuitively breakdown the concept like how we approach the problem in real life:"
   ]
  },
  {
   "cell_type": "markdown",
   "id": "6c22405f",
   "metadata": {},
   "source": [
    "And the reason why we use encoder-decoder architecture is because we want the capability to input different length of sequence and output different length of sequence, such as:"
   ]
  },
  {
   "cell_type": "markdown",
   "id": "9b89d097",
   "metadata": {},
   "source": [
    "Input: Hi, can you tell me the time in Jakarta right now?"
   ]
  },
  {
   "cell_type": "markdown",
   "id": "c8b1c264",
   "metadata": {},
   "source": [
    "Output: Yes, the time in Jakarta right now is 10:00 AM, do you need anything else?"
   ]
  },
  {
   "cell_type": "markdown",
   "id": "c1f6e2be",
   "metadata": {},
   "source": [
    "We can see that the input has 12 words, while the output has 16 words. If we use the traditional RNN architecture encoder-decoder, we can’t do that because the input and output must have the same length."
   ]
  },
  {
   "cell_type": "markdown",
   "id": "67a285ca",
   "metadata": {},
   "source": [
    "# The Bridge Between Encoder and Decoder: Context Vector"
   ]
  },
  {
   "cell_type": "markdown",
   "id": "07d998cb",
   "metadata": {},
   "source": [
    "Before we dive deeper to what is encoder and what is decoder, it’s easier for us to try to understand context vector first."
   ]
  },
  {
   "cell_type": "markdown",
   "id": "7e435180",
   "metadata": {},
   "source": []
  },
  {
   "cell_type": "markdown",
   "id": "39af1d4e",
   "metadata": {},
   "source": [
    "![Image](https://ik.imagekit.io/kelaspendek/image_aPcSoBizB.png?updatedAt=1694579032353)"
   ]
  },
  {
   "cell_type": "markdown",
   "id": "ab80b2b8",
   "metadata": {},
   "source": [
    "Context vector is basically a way to compress every information from an input to a single vector. Imagine if we have a context vector that has 3 dimensions such as:"
   ]
  },
  {
   "cell_type": "markdown",
   "id": "7fff4015",
   "metadata": {},
   "source": [
    "\\[\n",
    "[.., .., ..]\n",
    "\\]"
   ]
  },
  {
   "cell_type": "markdown",
   "id": "e4dd0246",
   "metadata": {},
   "source": [
    "We may fill these 3 dimensions with 3 different type, such as: The subject in the input, the activity that the subject will be doing, and additional description that might be needed to expand on the activity. Of course it’s a really simplified intuition, in reality the dimension of a context vector might be hundreds or even thousands."
   ]
  },
  {
   "cell_type": "markdown",
   "id": "1939a289",
   "metadata": {},
   "source": [
    "So in human word, several examples of how an input converted to context vector might be look like so:"
   ]
  },
  {
   "cell_type": "code",
   "execution_count": null,
   "id": "67399940",
   "metadata": {},
   "outputs": [],
   "source": [
    "I want to eat fried rice -> [I, eat, fried rice]\n",
    "You want to drink orange juice -> [You, drink, orange juice]\n",
    "He wants to write a novel -> [He, write, a novel]"
   ]
  },
  {
   "cell_type": "markdown",
   "id": "1aeb6198",
   "metadata": {},
   "source": [
    "In our fictional scenario, we only want to have this pattern to translate “[subject] want/wants to [activity] [additional description]” so above context vectors would be enough."
   ]
  },
  {
   "cell_type": "markdown",
   "id": "9b1683a9",
   "metadata": {},
   "source": [
    "Then of course we know that our machine learning model only understand numbers, so they might assign above dimensions with below dictionaries"
   ]
  },
  {
   "cell_type": "code",
   "execution_count": null,
   "id": "ce6b70da",
   "metadata": {},
   "outputs": [],
   "source": [
    "subject:\n",
    "0 - I\n",
    "1 - You\n",
    "2 - He\n",
    "\n",
    "activity:\n",
    "0 - eat\n",
    "1 - drink\n",
    "2 - write\n",
    "\n",
    "additional description:\n",
    "0 - fried rice\n",
    "1 - orange juice\n",
    "2 - a novel"
   ]
  },
  {
   "cell_type": "markdown",
   "id": "a27434b6",
   "metadata": {},
   "source": [
    "So our human words will become below context vector!"
   ]
  },
  {
   "cell_type": "code",
   "execution_count": null,
   "id": "8faa8237",
   "metadata": {},
   "outputs": [],
   "source": [
    "I want to eat fried rice -> [I, eat, fried rice] -> [0, 0, 0]\n",
    "You want to drink orange juice -> [You, drink, orange juice] -> [1, 1, 1]\n",
    "He wants to write a novel -> [He, write, a novel] -> [2, 2, 2]"
   ]
  },
  {
   "cell_type": "markdown",
   "id": "5c370822",
   "metadata": {},
   "source": [
    "So context vector is summary of the entire input"
   ]
  },
  {
   "cell_type": "markdown",
   "id": "8982b963",
   "metadata": {},
   "source": [
    "# Encoder and decoder"
   ]
  },
  {
   "cell_type": "markdown",
   "id": "9aedcf7d",
   "metadata": {},
   "source": []
  },
  {
   "cell_type": "markdown",
   "id": "4471303c",
   "metadata": {},
   "source": [
    "![Image](https://storage.googleapis.com/rg-ai-bootcamp/nlp/image-12.png)"
   ]
  },
  {
   "cell_type": "markdown",
   "id": "7b376e0c",
   "metadata": {},
   "source": [
    "# Encoder"
   ]
  },
  {
   "cell_type": "markdown",
   "id": "a82cb210",
   "metadata": {},
   "source": [
    "From above diagram you can see that encoder is a many-to-one RNN architecture, which means that it will receive a sequence of words as an input, and output a single vector as a context vector. The encoder, like our intuition above, will read the input sequence letter by letter, and try to “understand” the whole sentence, then output a single vector that represents it’s understanding."
   ]
  },
  {
   "cell_type": "markdown",
   "id": "dbf3882b",
   "metadata": {},
   "source": [
    "Of course the word itself is already preprocessed to tokenized form, then passed to a word embedding layer to convert it to a vector then passed to the encoder."
   ]
  },
  {
   "cell_type": "markdown",
   "id": "5ef0022b",
   "metadata": {},
   "source": [
    "Just like our previous example"
   ]
  },
  {
   "cell_type": "code",
   "execution_count": null,
   "id": "76965081",
   "metadata": {},
   "outputs": [],
   "source": [
    "I want to eat fried rice -> [I, eat, fried rice] -> [0, 0, 0]\n",
    "You want to drink orange juice -> [You, drink, orange juice] -> [1, 1, 1]\n",
    "He wants to write a novel -> [He, write, a novel] -> [2, 2, 2]"
   ]
  },
  {
   "cell_type": "markdown",
   "id": "d0f2d593",
   "metadata": {},
   "source": [
    "We can see on above example that the input is a sequence of words that is summarized in a single vector. For more realistic example, we will learn more on later section using Google Sheets."
   ]
  },
  {
   "cell_type": "markdown",
   "id": "092bf178",
   "metadata": {},
   "source": [
    "So what is context vector when we’re talking about encoder? It’s the final hidden state of the encoder."
   ]
  },
  {
   "cell_type": "markdown",
   "id": "4f1f79ef",
   "metadata": {},
   "source": [
    "# Decoder"
   ]
  },
  {
   "cell_type": "markdown",
   "id": "a1b1b581",
   "metadata": {},
   "source": [
    "For decoder it’s really simple, we use one-to-many RNN architecture, which means that it will receive the context vector that was produced by the encoder, and output a sequence of human language. From our intuition above, we can see that the decoder will “read” the context vector and will be the “translator” that will generate the output sequence letter by letter."
   ]
  }
 ],
 "metadata": {},
 "nbformat": 4,
 "nbformat_minor": 5
}
