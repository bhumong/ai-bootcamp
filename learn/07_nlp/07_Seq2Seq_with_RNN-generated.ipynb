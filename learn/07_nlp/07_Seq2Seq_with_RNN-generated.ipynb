{
 "cells": [
  {
   "cell_type": "markdown",
   "id": "c4938374",
   "metadata": {},
   "source": [
    "# Seq2Seq With RNN"
   ]
  },
  {
   "cell_type": "markdown",
   "id": "590243aa",
   "metadata": {},
   "source": [
    "# What is Seq2Seq"
   ]
  },
  {
   "cell_type": "markdown",
   "id": "741d9caf",
   "metadata": {},
   "source": [
    "User: Siapa penemu lampu bohlam?"
   ]
  },
  {
   "cell_type": "markdown",
   "id": "7759cb11",
   "metadata": {},
   "source": [
    "AI: Penemu lampu bohlam adalah Thomas Alva Edison. Ia merupakan seorang penemu dan pengusaha berkebangsaan Amerika Serikat. Edison menemukan lampu pijar yang praktis pada tahun 1879."
   ]
  },
  {
   "cell_type": "markdown",
   "id": "9bfb7ba4",
   "metadata": {},
   "source": [
    "Familiar with above text? Sequence-to-sequence, or seq2seq for short, is a model architecture that receive an input of a sequence of words and output another sequence of words. Sequence, to another sequence of words, seq-to-seq, Seq2Seq! 😀."
   ]
  },
  {
   "cell_type": "markdown",
   "id": "608bc68a",
   "metadata": {},
   "source": [
    "# Overall Architecture"
   ]
  },
  {
   "cell_type": "markdown",
   "id": "58c94a79",
   "metadata": {},
   "source": []
  },
  {
   "cell_type": "markdown",
   "id": "99b9a706",
   "metadata": {},
   "source": [
    "![Image](https://ik.imagekit.io/kelaspendek/image_4Jt8vgIwX.png?updatedAt=1694578486622)"
   ]
  },
  {
   "cell_type": "markdown",
   "id": "8ea85b98",
   "metadata": {},
   "source": [
    "The architecture of seq2seq model is divided into two parts, the encoder and the decoder. We’ll describe each part in detail below, but for now you we can at least describe which sequence does encoder and decoder handle:"
   ]
  },
  {
   "cell_type": "markdown",
   "id": "9fce6d71",
   "metadata": {},
   "source": [
    "You can see below diagram to better understand the intuition:"
   ]
  },
  {
   "cell_type": "markdown",
   "id": "496f0bee",
   "metadata": {},
   "source": []
  },
  {
   "cell_type": "markdown",
   "id": "2cc0a81f",
   "metadata": {},
   "source": [
    "![Image](https://storage.googleapis.com/rg-ai-bootcamp/nlp/image-12.png)"
   ]
  },
  {
   "cell_type": "markdown",
   "id": "af02f005",
   "metadata": {},
   "source": [
    "# The history of why we use Seq2Seq for NLP"
   ]
  },
  {
   "cell_type": "markdown",
   "id": "52834ce5",
   "metadata": {},
   "source": []
  },
  {
   "cell_type": "markdown",
   "id": "067739b0",
   "metadata": {},
   "source": [
    "![Image](https://ik.imagekit.io/kelaspendek/image_zCTdyC4dx.png?updatedAt=1694589101199)"
   ]
  },
  {
   "cell_type": "markdown",
   "id": "366ee692",
   "metadata": {},
   "source": [
    "The intuition behind why we use seq2seq is simple: we can visualize every sentence as a sequence, the input for can be variable length, and the output can also be variable length."
   ]
  },
  {
   "cell_type": "markdown",
   "id": "98f4890b",
   "metadata": {},
   "source": [
    "Imagine we want to translate below sentence:"
   ]
  },
  {
   "cell_type": "markdown",
   "id": "cb309398",
   "metadata": {},
   "source": [
    "After several minutes of waiting, Afista’s patience grow thinner and he leaves"
   ]
  },
  {
   "cell_type": "markdown",
   "id": "65a16e9c",
   "metadata": {},
   "source": [
    "We need to read the words letter by letter, after we understand the whole sentence, we can translate it to another language. So, if you read above diagram, basically we can intuitively breakdown the concept like how we approach the problem in real life:"
   ]
  },
  {
   "cell_type": "markdown",
   "id": "a654961a",
   "metadata": {},
   "source": [
    "And the reason why we use encoder-decoder architecture is because we want the capability to input different length of sequence and output different length of sequence, such as:"
   ]
  },
  {
   "cell_type": "markdown",
   "id": "c4d0e4d7",
   "metadata": {},
   "source": [
    "Input: Hi, can you tell me the time in Jakarta right now?"
   ]
  },
  {
   "cell_type": "markdown",
   "id": "c90b3d77",
   "metadata": {},
   "source": [
    "Output: Yes, the time in Jakarta right now is 10:00 AM, do you need anything else?"
   ]
  },
  {
   "cell_type": "markdown",
   "id": "77f78218",
   "metadata": {},
   "source": [
    "We can see that the input has 12 words, while the output has 16 words. If we use the traditional RNN architecture encoder-decoder, we can’t do that because the input and output must have the same length."
   ]
  },
  {
   "cell_type": "markdown",
   "id": "ebe17739",
   "metadata": {},
   "source": [
    "# The Bridge Between Encoder and Decoder: Context Vector"
   ]
  },
  {
   "cell_type": "markdown",
   "id": "66e707ad",
   "metadata": {},
   "source": [
    "Before we dive deeper to what is encoder and what is decoder, it’s easier for us to try to understand context vector first."
   ]
  },
  {
   "cell_type": "markdown",
   "id": "5df1614b",
   "metadata": {},
   "source": []
  },
  {
   "cell_type": "markdown",
   "id": "5c106ffa",
   "metadata": {},
   "source": [
    "![Image](https://ik.imagekit.io/kelaspendek/image_aPcSoBizB.png?updatedAt=1694579032353)"
   ]
  },
  {
   "cell_type": "markdown",
   "id": "87148408",
   "metadata": {},
   "source": [
    "Context vector is basically a way to compress every information from an input to a single vector. Imagine if we have a context vector that has 3 dimensions such as:"
   ]
  },
  {
   "cell_type": "markdown",
   "id": "4bc9c4b1",
   "metadata": {},
   "source": [
    "\\[\n",
    "[.., .., ..]\n",
    "\\]"
   ]
  },
  {
   "cell_type": "markdown",
   "id": "14ffce79",
   "metadata": {},
   "source": [
    "We may fill these 3 dimensions with 3 different type, such as: The subject in the input, the activity that the subject will be doing, and additional description that might be needed to expand on the activity. Of course it’s a really simplified intuition, in reality the dimension of a context vector might be hundreds or even thousands."
   ]
  },
  {
   "cell_type": "markdown",
   "id": "c3e384f0",
   "metadata": {},
   "source": [
    "So in human word, several examples of how an input converted to context vector might be look like so:"
   ]
  },
  {
   "cell_type": "code",
   "execution_count": null,
   "id": "8a19778a",
   "metadata": {},
   "outputs": [],
   "source": [
    "I want to eat fried rice -> [I, eat, fried rice]\n",
    "You want to drink orange juice -> [You, drink, orange juice]\n",
    "He wants to write a novel -> [He, write, a novel]"
   ]
  },
  {
   "cell_type": "markdown",
   "id": "b9c7efef",
   "metadata": {},
   "source": [
    "In our fictional scenario, we only want to have this pattern to translate “[subject] want/wants to [activity] [additional description]” so above context vectors would be enough."
   ]
  },
  {
   "cell_type": "markdown",
   "id": "6f8f54a5",
   "metadata": {},
   "source": [
    "Then of course we know that our machine learning model only understand numbers, so they might assign above dimensions with below dictionaries"
   ]
  },
  {
   "cell_type": "code",
   "execution_count": null,
   "id": "cf9c7f39",
   "metadata": {},
   "outputs": [],
   "source": [
    "subject:\n",
    "0 - I\n",
    "1 - You\n",
    "2 - He\n",
    "\n",
    "activity:\n",
    "0 - eat\n",
    "1 - drink\n",
    "2 - write\n",
    "\n",
    "additional description:\n",
    "0 - fried rice\n",
    "1 - orange juice\n",
    "2 - a novel"
   ]
  },
  {
   "cell_type": "markdown",
   "id": "46ddbbde",
   "metadata": {},
   "source": [
    "So our human words will become below context vector!"
   ]
  },
  {
   "cell_type": "code",
   "execution_count": null,
   "id": "8a77d60a",
   "metadata": {},
   "outputs": [],
   "source": [
    "I want to eat fried rice -> [I, eat, fried rice] -> [0, 0, 0]\n",
    "You want to drink orange juice -> [You, drink, orange juice] -> [1, 1, 1]\n",
    "He wants to write a novel -> [He, write, a novel] -> [2, 2, 2]"
   ]
  },
  {
   "cell_type": "markdown",
   "id": "2b8c25f7",
   "metadata": {},
   "source": [
    "So context vector is summary of the entire input"
   ]
  },
  {
   "cell_type": "markdown",
   "id": "c937214d",
   "metadata": {},
   "source": [
    "# Encoder and decoder"
   ]
  },
  {
   "cell_type": "markdown",
   "id": "edc69897",
   "metadata": {},
   "source": []
  },
  {
   "cell_type": "markdown",
   "id": "ecbb39ce",
   "metadata": {},
   "source": [
    "![Image](https://storage.googleapis.com/rg-ai-bootcamp/nlp/image-12.png)"
   ]
  },
  {
   "cell_type": "markdown",
   "id": "809b5791",
   "metadata": {},
   "source": [
    "# Encoder"
   ]
  },
  {
   "cell_type": "markdown",
   "id": "99c28147",
   "metadata": {},
   "source": [
    "From above diagram you can see that encoder is a many-to-one RNN architecture, which means that it will receive a sequence of words as an input, and output a single vector as a context vector. The encoder, like our intuition above, will read the input sequence letter by letter, and try to “understand” the whole sentence, then output a single vector that represents it’s understanding."
   ]
  },
  {
   "cell_type": "markdown",
   "id": "8cc8e39f",
   "metadata": {},
   "source": [
    "Of course the word itself is already preprocessed to tokenized form, then passed to a word embedding layer to convert it to a vector then passed to the encoder."
   ]
  },
  {
   "cell_type": "markdown",
   "id": "39861ee6",
   "metadata": {},
   "source": [
    "Just like our previous example"
   ]
  },
  {
   "cell_type": "code",
   "execution_count": null,
   "id": "b3630daf",
   "metadata": {},
   "outputs": [],
   "source": [
    "I want to eat fried rice -> [I, eat, fried rice] -> [0, 0, 0]\n",
    "You want to drink orange juice -> [You, drink, orange juice] -> [1, 1, 1]\n",
    "He wants to write a novel -> [He, write, a novel] -> [2, 2, 2]"
   ]
  },
  {
   "cell_type": "markdown",
   "id": "cd77a10e",
   "metadata": {},
   "source": [
    "We can see on above example that the input is a sequence of words that is summarized in a single vector. For more realistic example, we will learn more on later section using Google Sheets."
   ]
  },
  {
   "cell_type": "markdown",
   "id": "c054bbd3",
   "metadata": {},
   "source": [
    "So what is context vector when we’re talking about encoder? It’s the final hidden state of the encoder."
   ]
  },
  {
   "cell_type": "markdown",
   "id": "749f1458",
   "metadata": {},
   "source": [
    "# Decoder"
   ]
  },
  {
   "cell_type": "markdown",
   "id": "76cb20ed",
   "metadata": {},
   "source": [
    "For decoder it’s really simple, we use one-to-many RNN architecture, which means that it will receive the context vector that was produced by the encoder, and output a sequence of human language. From our intuition above, we can see that the decoder will “read” the context vector and will be the “translator” that will generate the output sequence letter by letter."
   ]
  }
 ],
 "metadata": {},
 "nbformat": 4,
 "nbformat_minor": 5
}
