{
 "cells": [
  {
   "cell_type": "markdown",
   "id": "83f06531",
   "metadata": {},
   "source": [
    "source: [link](https://ai-bootcamp.ruangguru.com/learn/07_nlp/07_Seq2Seq_with_RNN.html)"
   ]
  },
  {
   "cell_type": "markdown",
   "id": "5683046e",
   "metadata": {},
   "source": [
    "# Seq2Seq With RNN"
   ]
  },
  {
   "cell_type": "markdown",
   "id": "d16e9043",
   "metadata": {},
   "source": [
    "# What is Seq2Seq"
   ]
  },
  {
   "cell_type": "markdown",
   "id": "fab66955",
   "metadata": {},
   "source": [
    "User: Siapa penemu lampu bohlam?"
   ]
  },
  {
   "cell_type": "markdown",
   "id": "c3d3aa31",
   "metadata": {},
   "source": [
    "AI: Penemu lampu bohlam adalah Thomas Alva Edison. Ia merupakan seorang penemu dan pengusaha berkebangsaan Amerika Serikat. Edison menemukan lampu pijar yang praktis pada tahun 1879."
   ]
  },
  {
   "cell_type": "markdown",
   "id": "5e41f7da",
   "metadata": {},
   "source": [
    "Familiar with above text? Sequence-to-sequence, or seq2seq for short, is a model architecture that receive an input of a sequence of words and output another sequence of words. Sequence, to another sequence of words, seq-to-seq, Seq2Seq! 😀."
   ]
  },
  {
   "cell_type": "markdown",
   "id": "8004f866",
   "metadata": {},
   "source": [
    "# Overall Architecture"
   ]
  },
  {
   "cell_type": "markdown",
   "id": "c38ed8f1",
   "metadata": {},
   "source": []
  },
  {
   "cell_type": "markdown",
   "id": "d9f3cdb2",
   "metadata": {},
   "source": [
    "![Image](https://ik.imagekit.io/kelaspendek/image_4Jt8vgIwX.png?updatedAt=1694578486622)"
   ]
  },
  {
   "cell_type": "markdown",
   "id": "a5ad54c6",
   "metadata": {},
   "source": [
    "The architecture of seq2seq model is divided into two parts, the encoder and the decoder. We’ll describe each part in detail below, but for now you we can at least describe which sequence does encoder and decoder handle:"
   ]
  },
  {
   "cell_type": "markdown",
   "id": "4d0abcba",
   "metadata": {},
   "source": [
    "- Encoder uses the many-to-one RNN architecture\n",
    "- Decoder uses the one-to-many RNN architecture\n",
    "- Context vector is the last hidden state of the encoder, that will bridge the encoder and decoder"
   ]
  },
  {
   "cell_type": "markdown",
   "id": "0a11d538",
   "metadata": {},
   "source": [
    "You can see below diagram to better understand the intuition:"
   ]
  },
  {
   "cell_type": "markdown",
   "id": "f6f41190",
   "metadata": {},
   "source": []
  },
  {
   "cell_type": "markdown",
   "id": "80f1696a",
   "metadata": {},
   "source": [
    "![Image](https://storage.googleapis.com/rg-ai-bootcamp/nlp/image-12.png)"
   ]
  },
  {
   "cell_type": "markdown",
   "id": "e88eadc7",
   "metadata": {},
   "source": [
    "# The history of why we use Seq2Seq for NLP"
   ]
  },
  {
   "cell_type": "markdown",
   "id": "0654ff0a",
   "metadata": {},
   "source": []
  },
  {
   "cell_type": "markdown",
   "id": "4164ef37",
   "metadata": {},
   "source": [
    "![Image](https://ik.imagekit.io/kelaspendek/image_zCTdyC4dx.png?updatedAt=1694589101199)"
   ]
  },
  {
   "cell_type": "markdown",
   "id": "8ee8da0d",
   "metadata": {},
   "source": [
    "The intuition behind why we use seq2seq is simple: we can visualize every sentence as a sequence, the input for can be variable length, and the output can also be variable length."
   ]
  },
  {
   "cell_type": "markdown",
   "id": "eeb0489e",
   "metadata": {},
   "source": [
    "Imagine we want to translate below sentence:"
   ]
  },
  {
   "cell_type": "markdown",
   "id": "d3a442f5",
   "metadata": {},
   "source": [
    "After several minutes of waiting, Afista’s patience grow thinner and he leaves"
   ]
  },
  {
   "cell_type": "markdown",
   "id": "fcf02058",
   "metadata": {},
   "source": [
    "We need to read the words letter by letter, after we understand the whole sentence, we can translate it to another language. So, if you read above diagram, basically we can intuitively breakdown the concept like how we approach the problem in real life:"
   ]
  },
  {
   "cell_type": "markdown",
   "id": "db37e300",
   "metadata": {},
   "source": [
    "- Encoder will read the input sequence letter by letter, try to understand the whole sentence\n",
    "- The context vector will be the representation of that understanding that the encoder has and will be passed to the decoder\n",
    "- Decoder will “read” the context vector and generate the output sequence letter by letter"
   ]
  },
  {
   "cell_type": "markdown",
   "id": "9a92afee",
   "metadata": {},
   "source": [
    "And the reason why we use encoder-decoder architecture is because we want the capability to input different length of sequence and output different length of sequence, such as:"
   ]
  },
  {
   "cell_type": "markdown",
   "id": "b6933215",
   "metadata": {},
   "source": [
    "Input: Hi, can you tell me the time in Jakarta right now?"
   ]
  },
  {
   "cell_type": "markdown",
   "id": "2db71358",
   "metadata": {},
   "source": [
    "Output: Yes, the time in Jakarta right now is 10:00 AM, do you need anything else?"
   ]
  },
  {
   "cell_type": "markdown",
   "id": "1f929ddf",
   "metadata": {},
   "source": [
    "We can see that the input has 12 words, while the output has 16 words. If we use the traditional RNN architecture encoder-decoder, we can’t do that because the input and output must have the same length."
   ]
  },
  {
   "cell_type": "markdown",
   "id": "fb124908",
   "metadata": {},
   "source": [
    "# The Bridge Between Encoder and Decoder: Context Vector"
   ]
  },
  {
   "cell_type": "markdown",
   "id": "a4416009",
   "metadata": {},
   "source": [
    "Before we dive deeper to what is encoder and what is decoder, it’s easier for us to try to understand context vector first."
   ]
  },
  {
   "cell_type": "markdown",
   "id": "f8409706",
   "metadata": {},
   "source": []
  },
  {
   "cell_type": "markdown",
   "id": "c637750a",
   "metadata": {},
   "source": [
    "![Image](https://ik.imagekit.io/kelaspendek/image_aPcSoBizB.png?updatedAt=1694579032353)"
   ]
  },
  {
   "cell_type": "markdown",
   "id": "b0622130",
   "metadata": {},
   "source": [
    "Context vector is basically a way to compress every information from an input to a single vector. Imagine if we have a context vector that has 3 dimensions such as:"
   ]
  },
  {
   "cell_type": "markdown",
   "id": "5a65badd",
   "metadata": {},
   "source": [
    "\\[\n",
    "[.., .., ..]\n",
    "\\]"
   ]
  },
  {
   "cell_type": "markdown",
   "id": "48c12d03",
   "metadata": {},
   "source": [
    "We may fill these 3 dimensions with 3 different type, such as: The subject in the input, the activity that the subject will be doing, and additional description that might be needed to expand on the activity. Of course it’s a really simplified intuition, in reality the dimension of a context vector might be hundreds or even thousands."
   ]
  },
  {
   "cell_type": "markdown",
   "id": "6825b325",
   "metadata": {},
   "source": [
    "So in human word, several examples of how an input converted to context vector might be look like so:"
   ]
  },
  {
   "cell_type": "code",
   "execution_count": null,
   "id": "a278e059",
   "metadata": {},
   "outputs": [],
   "source": [
    "I want to eat fried rice -> [I, eat, fried rice]\n",
    "You want to drink orange juice -> [You, drink, orange juice]\n",
    "He wants to write a novel -> [He, write, a novel]"
   ]
  },
  {
   "cell_type": "markdown",
   "id": "af56cb93",
   "metadata": {},
   "source": [
    "In our fictional scenario, we only want to have this pattern to translate “[subject] want/wants to [activity] [additional description]” so above context vectors would be enough."
   ]
  },
  {
   "cell_type": "markdown",
   "id": "5ea55069",
   "metadata": {},
   "source": [
    "Then of course we know that our machine learning model only understand numbers, so they might assign above dimensions with below dictionaries"
   ]
  },
  {
   "cell_type": "code",
   "execution_count": null,
   "id": "a834c6d0",
   "metadata": {},
   "outputs": [],
   "source": [
    "subject:\n",
    "0 - I\n",
    "1 - You\n",
    "2 - He\n",
    "\n",
    "activity:\n",
    "0 - eat\n",
    "1 - drink\n",
    "2 - write\n",
    "\n",
    "additional description:\n",
    "0 - fried rice\n",
    "1 - orange juice\n",
    "2 - a novel"
   ]
  },
  {
   "cell_type": "markdown",
   "id": "4f0b1212",
   "metadata": {},
   "source": [
    "So our human words will become below context vector!"
   ]
  },
  {
   "cell_type": "code",
   "execution_count": null,
   "id": "0b6c92a8",
   "metadata": {},
   "outputs": [],
   "source": [
    "I want to eat fried rice -> [I, eat, fried rice] -> [0, 0, 0]\n",
    "You want to drink orange juice -> [You, drink, orange juice] -> [1, 1, 1]\n",
    "He wants to write a novel -> [He, write, a novel] -> [2, 2, 2]"
   ]
  },
  {
   "cell_type": "markdown",
   "id": "e7a625d0",
   "metadata": {},
   "source": [
    "So context vector is summary of the entire input"
   ]
  },
  {
   "cell_type": "markdown",
   "id": "514eccec",
   "metadata": {},
   "source": [
    "# Encoder and decoder"
   ]
  },
  {
   "cell_type": "markdown",
   "id": "f7dd3b52",
   "metadata": {},
   "source": []
  },
  {
   "cell_type": "markdown",
   "id": "00e07e0c",
   "metadata": {},
   "source": [
    "![Image](https://storage.googleapis.com/rg-ai-bootcamp/nlp/image-12.png)"
   ]
  },
  {
   "cell_type": "markdown",
   "id": "26486a41",
   "metadata": {},
   "source": [
    "# Encoder"
   ]
  },
  {
   "cell_type": "markdown",
   "id": "e511b3ba",
   "metadata": {},
   "source": [
    "From above diagram you can see that encoder is a many-to-one RNN architecture, which means that it will receive a sequence of words as an input, and output a single vector as a context vector. The encoder, like our intuition above, will read the input sequence letter by letter, and try to “understand” the whole sentence, then output a single vector that represents it’s understanding."
   ]
  },
  {
   "cell_type": "markdown",
   "id": "45556e97",
   "metadata": {},
   "source": [
    "Of course the word itself is already preprocessed to tokenized form, then passed to a word embedding layer to convert it to a vector then passed to the encoder."
   ]
  },
  {
   "cell_type": "markdown",
   "id": "9649f983",
   "metadata": {},
   "source": [
    "Just like our previous example"
   ]
  },
  {
   "cell_type": "code",
   "execution_count": null,
   "id": "5b1954e8",
   "metadata": {},
   "outputs": [],
   "source": [
    "I want to eat fried rice -> [I, eat, fried rice] -> [0, 0, 0]\n",
    "You want to drink orange juice -> [You, drink, orange juice] -> [1, 1, 1]\n",
    "He wants to write a novel -> [He, write, a novel] -> [2, 2, 2]"
   ]
  },
  {
   "cell_type": "markdown",
   "id": "edba6e89",
   "metadata": {},
   "source": [
    "We can see on above example that the input is a sequence of words that is summarized in a single vector. For more realistic example, we will learn more on later section using Google Sheets."
   ]
  },
  {
   "cell_type": "markdown",
   "id": "abe41d3e",
   "metadata": {},
   "source": [
    "So what is context vector when we’re talking about encoder? It’s the final hidden state of the encoder."
   ]
  },
  {
   "cell_type": "markdown",
   "id": "10556faa",
   "metadata": {},
   "source": [
    "# Decoder"
   ]
  },
  {
   "cell_type": "markdown",
   "id": "8339ee34",
   "metadata": {},
   "source": [
    "For decoder it’s really simple, we use one-to-many RNN architecture, which means that it will receive the context vector that was produced by the encoder, and output a sequence of human language. From our intuition above, we can see that the decoder will “read” the context vector and will be the “translator” that will generate the output sequence letter by letter."
   ]
  },
  {
   "cell_type": "markdown",
   "id": "72af624b",
   "metadata": {},
   "source": [
    "- The context vector will be passed as the initial hidden state of the decoder, and the first input of the decoder will be a special token that indicates the start of a sentence:<bos>(beginning of sentence)\n",
    "- The decoder then will produce the first word of the output sequence, then the first word will be passed as the input of the next time step, and the decoder will produce the second word of the output sequence, and will feed the second word as the input of the next time step, and so on until the decoder produce a special token that indicates the end of a sentence:<eos>(end of sentence)"
   ]
  }
 ],
 "metadata": {},
 "nbformat": 4,
 "nbformat_minor": 5
}
