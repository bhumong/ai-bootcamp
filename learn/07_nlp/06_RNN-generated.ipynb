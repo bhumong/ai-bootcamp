{
 "cells": [
  {
   "cell_type": "markdown",
   "id": "d07a640e",
   "metadata": {},
   "source": [
    "source: [link](https://ai-bootcamp.ruangguru.com/learn/07_nlp/06_RNN.html)"
   ]
  },
  {
   "cell_type": "markdown",
   "id": "a62979e2",
   "metadata": {},
   "source": [
    "# RNN"
   ]
  },
  {
   "cell_type": "markdown",
   "id": "b4e78b41",
   "metadata": {},
   "source": [
    "# Neural Network and fixed input size"
   ]
  },
  {
   "cell_type": "markdown",
   "id": "e74d826e",
   "metadata": {},
   "source": [
    "The concept of neural network rely on backpropagation from the output to the input, and the input can only be learned if the input size is fixed. This means that the dimensions of our input data must remain consistent throughout the learning process, because we need to calculate the weight and bias precisely for each input."
   ]
  },
  {
   "cell_type": "markdown",
   "id": "3f69d553",
   "metadata": {},
   "source": [
    "When our network is configured with fixed weights or biases, they are shared across the inputs, making it easier to generalize across different inputs and giving the network the ability to learn and adapt from the data."
   ]
  },
  {
   "cell_type": "markdown",
   "id": "e6a8ef9a",
   "metadata": {},
   "source": [
    "The problem is occuring if we want to do something that’s sequential, for example a data of stock price predictions, weather forecasts, or business finance. The concept of something sequential such as time step for time series data or position of words in a sentence in NLP can’t be grasped with traditional neural networks because these types of data have variable input sizes and the order of inputs matters a lot."
   ]
  },
  {
   "cell_type": "markdown",
   "id": "9edd1a86",
   "metadata": {},
   "source": [
    "Just imagine if we want to predict the stock price for the next day, we need to know all of the previous stock prices. The fixed input size of neural network can’t handle this kind of problem, because the stock price data is dynamic in the input size and imagine if train the model with 50 days of data, then we need to retrain the model again if we want to predict the stock price of length 51 days."
   ]
  },
  {
   "cell_type": "markdown",
   "id": "d9a510d8",
   "metadata": {},
   "source": [
    "Further more, the order of the input matters a lot, because to calculate the stock price of day say 51, we need to know the stock price of day 50, 49, 48, and so on. And we can’t just process the data randomly, we need to process the data starts from day 1, day 2, day 3, and so on. Day 51 can’t be making sense if we randomly process day 4 first, then day 1, then day 30, and so on."
   ]
  },
  {
   "cell_type": "markdown",
   "id": "251965a5",
   "metadata": {},
   "source": [
    "So RNN comes when: The input size is dynamic and the order of the input matters a lot."
   ]
  },
  {
   "cell_type": "markdown",
   "id": "8b4911a2",
   "metadata": {},
   "source": [
    "# Define Sequential Data"
   ]
  },
  {
   "cell_type": "markdown",
   "id": "a67665a7",
   "metadata": {},
   "source": [
    "Just to make sure we are on the same page, sequential data is a data that:"
   ]
  },
  {
   "cell_type": "markdown",
   "id": "a7599910",
   "metadata": {},
   "source": [
    "So several things that are NOT sequential data are:"
   ]
  },
  {
   "cell_type": "markdown",
   "id": "3051201f",
   "metadata": {},
   "source": [
    "So again, sequential data is more needed when we’re concern about the order of the data, and the data can be in any length"
   ]
  },
  {
   "cell_type": "markdown",
   "id": "36400a9a",
   "metadata": {},
   "source": [
    "# Intuition of RNN"
   ]
  },
  {
   "cell_type": "markdown",
   "id": "9178cd29",
   "metadata": {},
   "source": [
    "Let’s say we have the following recursive rule:"
   ]
  },
  {
   "cell_type": "markdown",
   "id": "f5f63fb8",
   "metadata": {},
   "source": [
    "\\[\n",
    "f(x) = \\begin{cases}\n",
    "f(x - 1) / 2 & \\text{if $x$ is prime} \\\\\n",
    "f(x - 1) + 2 & \\text{if $x$ is even} \\\\\n",
    "f(x - 1) * 2 & \\text{if $x$ is odd} \\\\\n",
    "1 & \\text{if $x$ <= 0}\n",
    "\\end{cases}\n",
    "\\]"
   ]
  },
  {
   "cell_type": "markdown",
   "id": "5ceae396",
   "metadata": {},
   "source": [
    "So, the value of \\(f(x)\\) depends on the value of \\(f(x-1)\\)"
   ]
  },
  {
   "cell_type": "markdown",
   "id": "6732e41e",
   "metadata": {},
   "source": [
    "… and the value of \\(f(x-1)\\) depends on the value of \\(f(x-2)\\),"
   ]
  },
  {
   "cell_type": "markdown",
   "id": "dc3e172d",
   "metadata": {},
   "source": [
    "… and so on."
   ]
  },
  {
   "cell_type": "markdown",
   "id": "f5934fd6",
   "metadata": {},
   "source": [
    "So the value of \\(f(x)\\) depends on the value of \\(f(x-1)\\), \\(f(x-2)\\), \\(f(x-3)\\), and so on."
   ]
  },
  {
   "cell_type": "markdown",
   "id": "a601e3fb",
   "metadata": {},
   "source": [
    "If we plot that equation, we will get the following graph:"
   ]
  },
  {
   "cell_type": "code",
   "execution_count": null,
   "id": "8b17274d",
   "metadata": {},
   "outputs": [],
   "source": [
    "import math\n",
    "\n",
    "def is_prime(x):\n",
    "    if x < 2:\n",
    "        return False\n",
    "    for i in range(2, int(math.sqrt(x))):\n",
    "        if x % i == 0:\n",
    "            return False\n",
    "    return True\n",
    "\n",
    "def f(x):\n",
    "    if x <= 0:\n",
    "        return 1\n",
    "    elif is_prime(x):\n",
    "        return f(x - 1) / 2\n",
    "    elif x % 2 == 0:\n",
    "        return f(x - 1) + 2\n",
    "    else:\n",
    "        return f(x - 1) * 2\n",
    "\n",
    "# draw f(x)\n",
    "import matplotlib.pyplot as plt\n",
    "import numpy as np\n",
    "\n",
    "x = np.arange(0, 200, 1)\n",
    "y = [f(i) for i in x]\n",
    "plt.plot(x, y)\n",
    "plt.show()"
   ]
  },
  {
   "cell_type": "markdown",
   "id": "0c6ec93e",
   "metadata": {},
   "source": []
  },
  {
   "cell_type": "markdown",
   "id": "141e30c0",
   "metadata": {},
   "source": [
    "Here, we can see that the value of \\(f(x)\\) depends on the value of \\(f(x-1)\\), \\(f(x-2)\\), \\(f(x-3)\\), and so on."
   ]
  },
  {
   "cell_type": "markdown",
   "id": "7b60beed",
   "metadata": {},
   "source": [
    "So, the value of \\(f(x)\\) depends on the previous values of \\(f(x)\\)."
   ]
  },
  {
   "cell_type": "markdown",
   "id": "83b2ab12",
   "metadata": {},
   "source": [
    "RNN is a neural network that can handle this kind of problem, where the value of the current input depends on the previous input."
   ]
  },
  {
   "cell_type": "markdown",
   "id": "b3c2e69f",
   "metadata": {},
   "source": [
    "Other example is in the text completion problem. Let’s say we have the following text:"
   ]
  },
  {
   "cell_type": "code",
   "execution_count": null,
   "id": "d5b33bd4",
   "metadata": {},
   "outputs": [],
   "source": [
    "I love spicy food, I love to eat Nasi"
   ]
  },
  {
   "cell_type": "markdown",
   "id": "f0861fc2",
   "metadata": {},
   "source": [
    "If we want to predict the next word, we need to consider the previous words. If we only consider the word Nasi, we can’t predict the next word. But if we consider the previous words, we can predict the next word is Goreng. So the value of the current input depends on the previous input."
   ]
  },
  {
   "cell_type": "markdown",
   "id": "854a6f50",
   "metadata": {},
   "source": [
    "# RNN"
   ]
  },
  {
   "cell_type": "markdown",
   "id": "9d341b35",
   "metadata": {},
   "source": []
  },
  {
   "cell_type": "markdown",
   "id": "4043629e",
   "metadata": {},
   "source": [
    "![Image](https://storage.googleapis.com/rg-ai-bootcamp/nlp/image.png)"
   ]
  },
  {
   "cell_type": "markdown",
   "id": "ab954a78",
   "metadata": {},
   "source": [
    "The main idea of RNN is that every input is learned one step at a time, such as:"
   ]
  },
  {
   "cell_type": "markdown",
   "id": "4390271d",
   "metadata": {},
   "source": [
    "\\[\n",
    "1, 1, 2, 3, 5, 8, 13, 21, 34, 55, ...\n",
    "\\]"
   ]
  },
  {
   "cell_type": "markdown",
   "id": "556e5e38",
   "metadata": {},
   "source": [
    "Can you guess what is the next number in the sequence?"
   ]
  },
  {
   "cell_type": "markdown",
   "id": "f53d984e",
   "metadata": {},
   "source": [
    "# Mapping our intuition to RNN"
   ]
  },
  {
   "cell_type": "markdown",
   "id": "1b5c691f",
   "metadata": {},
   "source": [
    "Now let’s try to map our intuition to RNN."
   ]
  },
  {
   "cell_type": "markdown",
   "id": "d647945b",
   "metadata": {},
   "source": []
  },
  {
   "cell_type": "markdown",
   "id": "d9e9722c",
   "metadata": {},
   "source": [
    "![Image](https://storage.googleapis.com/rg-ai-bootcamp/nlp/image-26.png)"
   ]
  },
  {
   "cell_type": "markdown",
   "id": "e71664ea",
   "metadata": {},
   "source": [
    "# Notes"
   ]
  },
  {
   "cell_type": "markdown",
   "id": "d42f356e",
   "metadata": {},
   "source": []
  },
  {
   "cell_type": "markdown",
   "id": "a84be03d",
   "metadata": {},
   "source": [
    "![Image](https://storage.googleapis.com/rg-ai-bootcamp/nlp/image-25.png)"
   ]
  },
  {
   "cell_type": "markdown",
   "id": "ed303a37",
   "metadata": {},
   "source": [
    "# Different types of neural network based on sequencial data"
   ]
  },
  {
   "cell_type": "markdown",
   "id": "9445a5ec",
   "metadata": {},
   "source": [
    "There are several types of RNN that concern with the variation of how the input and output is processed:"
   ]
  },
  {
   "cell_type": "markdown",
   "id": "ccd3a0a5",
   "metadata": {},
   "source": [
    " > Source image: https://karpathy.github.io/2015/05/21/rnn-effectiveness/"
   ]
  },
  {
   "cell_type": "markdown",
   "id": "f146edd0",
   "metadata": {},
   "source": [
    "![Image](https://storage.googleapis.com/rg-ai-bootcamp/nlp/image-3.png)"
   ]
  },
  {
   "cell_type": "markdown",
   "id": "a18f00ba",
   "metadata": {},
   "source": [
    "# Define output"
   ]
  },
  {
   "cell_type": "markdown",
   "id": "d70f381b",
   "metadata": {},
   "source": [
    "Let’s try to understand the gist about above diagram before we dive further about the differences between the types of RNN."
   ]
  },
  {
   "cell_type": "markdown",
   "id": "6c2f0910",
   "metadata": {},
   "source": [
    "Our previous diagram looks like below:"
   ]
  },
  {
   "cell_type": "markdown",
   "id": "17f9926d",
   "metadata": {},
   "source": []
  },
  {
   "cell_type": "markdown",
   "id": "f76778de",
   "metadata": {},
   "source": [
    "![Image](https://storage.googleapis.com/rg-ai-bootcamp/nlp/image-19.png)"
   ]
  },
  {
   "cell_type": "markdown",
   "id": "d2e3be11",
   "metadata": {},
   "source": [
    "We already can understand that the input can be in variable length from our previous example, but in reality the input can be a single length as well, but RNN is used to process the output that can be in variable length. One of the example is an image captioning:"
   ]
  },
  {
   "cell_type": "markdown",
   "id": "51bdc3bd",
   "metadata": {},
   "source": [
    "As we said before that image processing is often superior when not being processed as a sequence of data, but when we want to process the output of the image processing for image captioning, the output itself can be in variable length:"
   ]
  },
  {
   "cell_type": "markdown",
   "id": "b28d719d",
   "metadata": {},
   "source": []
  },
  {
   "cell_type": "markdown",
   "id": "f8b8c8c5",
   "metadata": {},
   "source": [
    "![Image](https://ik.imagekit.io/ffr6l4jaf5t/REA%20AI/running_man_pYPlj0C2u?updatedAt=1695885539658.png)"
   ]
  },
  {
   "cell_type": "markdown",
   "id": "1342a992",
   "metadata": {},
   "source": [
    "If we want to caption the above image, we can say:"
   ]
  },
  {
   "cell_type": "markdown",
   "id": "b261de66",
   "metadata": {},
   "source": [
    "a running man, walking, sunset"
   ]
  },
  {
   "cell_type": "markdown",
   "id": "0430c173",
   "metadata": {},
   "source": [
    "And more caption can be added, and every caption can be in variable length, and the order of the text matters (it doesn’t make sense if the caption is man a running), so this kind of task is a perfect example of a fixed input size and variable output size."
   ]
  },
  {
   "cell_type": "markdown",
   "id": "576f868c",
   "metadata": {},
   "source": [
    "So if we generalize further from our previous learning, is that RNN is mostly used to handle a sequence: Whether it’s a sequence of input, or a sequence of output, or both."
   ]
  },
  {
   "cell_type": "markdown",
   "id": "dc2b2698",
   "metadata": {},
   "source": [
    "# One to One"
   ]
  },
  {
   "cell_type": "markdown",
   "id": "801a8f15",
   "metadata": {},
   "source": []
  },
  {
   "cell_type": "markdown",
   "id": "93652a1f",
   "metadata": {},
   "source": [
    "![Image](https://storage.googleapis.com/rg-ai-bootcamp/nlp/image-13.png)"
   ]
  },
  {
   "cell_type": "markdown",
   "id": "0eeb42a0",
   "metadata": {},
   "source": [
    "This is basically the traditional neural network, where the input and output is fixed and not sequential. When we classify neural network based on the sequence of the input and output, one of them will be fall into this category: when there isn’t any sequence at all."
   ]
  },
  {
   "cell_type": "markdown",
   "id": "ba7e10ad",
   "metadata": {},
   "source": [
    "# One to many"
   ]
  },
  {
   "cell_type": "markdown",
   "id": "fe5f3ce2",
   "metadata": {},
   "source": []
  },
  {
   "cell_type": "markdown",
   "id": "6d7f3591",
   "metadata": {},
   "source": [
    "![Image](https://storage.googleapis.com/rg-ai-bootcamp/nlp/image-21.png)"
   ]
  },
  {
   "cell_type": "markdown",
   "id": "3c8fa455",
   "metadata": {},
   "source": [
    "This is the type of neural network where the input is fixed, but the output is sequential. One of the example is already explained above, where the input is an image, and the output is a caption of the image."
   ]
  },
  {
   "cell_type": "markdown",
   "id": "7bcf69a0",
   "metadata": {},
   "source": [
    "Another example is when we have fixed input for a user recommendation, maybe by default we have the personality of a student in our learning application, we want to make sure that this user is going through every recommendation step by step as we want to make sure that the user is learning the material in the right order. For example:"
   ]
  },
  {
   "cell_type": "markdown",
   "id": "e27e93d3",
   "metadata": {},
   "source": [
    "Then the recommendation will be:"
   ]
  },
  {
   "cell_type": "markdown",
   "id": "ba49b011",
   "metadata": {},
   "source": [
    "You can see that the input is fixed, only 3 data, but the output is sequential, we need the student to follow the roadmap and not skipping any step, and the sequence can be different from one student to another student, so this is a perfect example of one to many sequence."
   ]
  },
  {
   "cell_type": "markdown",
   "id": "2ac5933e",
   "metadata": {},
   "source": [
    "# Many to one"
   ]
  },
  {
   "cell_type": "markdown",
   "id": "f8918715",
   "metadata": {},
   "source": []
  },
  {
   "cell_type": "markdown",
   "id": "7dd861ae",
   "metadata": {},
   "source": [
    "![Image](https://storage.googleapis.com/rg-ai-bootcamp/nlp/image-16.png)"
   ]
  },
  {
   "cell_type": "markdown",
   "id": "92693a0d",
   "metadata": {},
   "source": [
    "Many to one can be explained using our existing diagram: where the input is sequence of data from the stock price, and the output is the summary of the data, whether it’s “profit”, “loss”, “major profit”, “major loss”, or “normal”."
   ]
  },
  {
   "cell_type": "markdown",
   "id": "6c83caec",
   "metadata": {},
   "source": [
    "Another example is in the sentiment analysis, where the input is a sequence of words, and the output is the sentiment of the text, whether it’s positive or negative."
   ]
  },
  {
   "cell_type": "markdown",
   "id": "c67b6308",
   "metadata": {},
   "source": [
    "# Many to many"
   ]
  },
  {
   "cell_type": "markdown",
   "id": "9896a16d",
   "metadata": {},
   "source": []
  },
  {
   "cell_type": "markdown",
   "id": "ec6e8ff7",
   "metadata": {},
   "source": [
    "![Image](https://storage.googleapis.com/rg-ai-bootcamp/nlp/image-20.png)"
   ]
  },
  {
   "cell_type": "markdown",
   "id": "b5f15178",
   "metadata": {},
   "source": [
    "This is the type of neural network where the input and output is sequential but the length of the input and output should be the same. The example is in POS tagging, where the input is a sentence, and the output is the part of speech of each word in the sentence:"
   ]
  },
  {
   "cell_type": "markdown",
   "id": "2d5c971d",
   "metadata": {},
   "source": [
    "“I am learning RNN”"
   ]
  },
  {
   "cell_type": "markdown",
   "id": "729e3f45",
   "metadata": {},
   "source": [
    "Output: “Pronoun Verb Verb Noun”"
   ]
  },
  {
   "cell_type": "markdown",
   "id": "59cf9b55",
   "metadata": {},
   "source": [
    "As we can see above, the length of the input is 4, and the length of the output is 4 as well. The input and output is sequential, but the length of the input and output is the same."
   ]
  },
  {
   "cell_type": "markdown",
   "id": "159ae54c",
   "metadata": {},
   "source": [
    "# Encoder Decoder"
   ]
  },
  {
   "cell_type": "markdown",
   "id": "fb799d2a",
   "metadata": {},
   "source": []
  },
  {
   "cell_type": "markdown",
   "id": "b8481949",
   "metadata": {},
   "source": [
    "![Image](https://storage.googleapis.com/rg-ai-bootcamp/nlp/image-24.png)"
   ]
  },
  {
   "cell_type": "markdown",
   "id": "39875db9",
   "metadata": {},
   "source": [
    "If we want to have a different length of input and output, encoder-decoder RNN. We’ll cover for this deeply in the next section, but we’ll cover it briefly here."
   ]
  },
  {
   "cell_type": "markdown",
   "id": "58554333",
   "metadata": {},
   "source": [
    "Basically, the encoder-decoder RNN is a combination of two RNN, where the first RNN is many to one, and the second RNN is one to many. The first RNN is called the encoder, and the second RNN is called the decoder, encoder-decoder. From the high level, the encoder is used to encode the input into a fixed length vector which represent what the encoder understand from the input, and the decoder is used to decode the fixed length vector into a sequence of output."
   ]
  },
  {
   "cell_type": "markdown",
   "id": "fccc8f64",
   "metadata": {},
   "source": [
    "One example that we’ll delve in later is using encoder-decoder RNN for machine translation, for chatbot, etc. Other example would be using encoder-decoder RNN for audio to text, where the input is a sequence of audio that can be in any length, and the output is a sequence of text that can be in any length as well, using encoder-decoder RNN will enable RNN to not having to worry about the length of the input different from the length of the output."
   ]
  },
  {
   "cell_type": "markdown",
   "id": "6a3735c8",
   "metadata": {},
   "source": [
    "# Weight between previous hidden state and RNN cell"
   ]
  },
  {
   "cell_type": "markdown",
   "id": "4f41d870",
   "metadata": {},
   "source": [
    "Below diagram is the basic math for RNN calculation:"
   ]
  },
  {
   "cell_type": "markdown",
   "id": "12ee882a",
   "metadata": {},
   "source": []
  },
  {
   "cell_type": "markdown",
   "id": "a3a067aa",
   "metadata": {},
   "source": [
    "![Image](https://storage.googleapis.com/rg-ai-bootcamp/nlp/image-6.png)"
   ]
  },
  {
   "cell_type": "markdown",
   "id": "f1d1e7b2",
   "metadata": {},
   "source": [
    "Image source: https://medium.com/@saurabh.rathor092/simple-rnn-vs-gru-vs-lstm-difference-lies-in-more-flexible-control-5f33e07b1e57"
   ]
  },
  {
   "cell_type": "markdown",
   "id": "15358e67",
   "metadata": {},
   "source": [
    "When translating above to math formula, we can get:"
   ]
  },
  {
   "cell_type": "markdown",
   "id": "dc8464ee",
   "metadata": {},
   "source": [
    "\\[\n",
    "currentState = activationFunction(inputWeight * currentInput + hiddenStateWeight * previousHiddenState + bias)\n",
    "\\]"
   ]
  },
  {
   "cell_type": "markdown",
   "id": "17b65d39",
   "metadata": {},
   "source": [
    "Where: - currentState is the current hidden state that we want to calculate and activationFunction is a function like tanh or ReLU, - currentInput is calculated with inputWeight, - previousHiddenState is calculated with hiddenStateWeight, - bias is the bias of the current hidden state."
   ]
  },
  {
   "cell_type": "markdown",
   "id": "5e993a99",
   "metadata": {},
   "source": [
    "# Backpropagation Through Time"
   ]
  },
  {
   "cell_type": "markdown",
   "id": "71ae9de5",
   "metadata": {},
   "source": []
  },
  {
   "cell_type": "markdown",
   "id": "aadf623c",
   "metadata": {},
   "source": [
    "![Image](https://storage.googleapis.com/rg-ai-bootcamp/nlp/image-17.png)"
   ]
  },
  {
   "cell_type": "markdown",
   "id": "df3a44cb",
   "metadata": {},
   "source": [
    "The concept of backpropagation through time is the same as backpropagation in traditional neural network, but the difference is that the backpropagation is done through across the time steps."
   ]
  },
  {
   "cell_type": "markdown",
   "id": "7eed2983",
   "metadata": {},
   "source": [
    "So the intuition is that we are backpropagating the last output layer first (fully connected layer), then running back across the last time step, and then backpropagating to the previous time step before that, and so on until the first time step, then we backpropagate the input layer. This of course if we’re talking about many to one RNN."
   ]
  },
  {
   "cell_type": "markdown",
   "id": "3ecd9e34",
   "metadata": {},
   "source": [
    "The other RNN architecture will have the same kind of intuition, but the backpropagation will be done at each of the time steps, start from the fully connected layer, then the RNN cell, and then the input layer, and then the backpropagation will be done across the time steps backwards until the first time step."
   ]
  }
 ],
 "metadata": {},
 "nbformat": 4,
 "nbformat_minor": 5
}
