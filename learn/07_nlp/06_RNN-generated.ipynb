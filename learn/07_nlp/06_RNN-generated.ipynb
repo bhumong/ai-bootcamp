{
 "cells": [
  {
   "cell_type": "markdown",
   "id": "36d57a89",
   "metadata": {},
   "source": [
    "source: [link](https://ai-bootcamp.ruangguru.com/learn/07_nlp/06_RNN.html)"
   ]
  },
  {
   "cell_type": "markdown",
   "id": "595fc765",
   "metadata": {},
   "source": [
    "# RNN"
   ]
  },
  {
   "cell_type": "markdown",
   "id": "a9e1f9f5",
   "metadata": {},
   "source": [
    "# Neural Network and fixed input size"
   ]
  },
  {
   "cell_type": "markdown",
   "id": "0307dd83",
   "metadata": {},
   "source": [
    "The concept of neural network rely on backpropagation from the output to the input, and the input can only be learned if the input size is fixed. This means that the dimensions of our input data must remain consistent throughout the learning process, because we need to calculate the weight and bias precisely for each input."
   ]
  },
  {
   "cell_type": "markdown",
   "id": "9801b71f",
   "metadata": {},
   "source": [
    "When our network is configured with fixed weights or biases, they are shared across the inputs, making it easier to generalize across different inputs and giving the network the ability to learn and adapt from the data."
   ]
  },
  {
   "cell_type": "markdown",
   "id": "64ee2af0",
   "metadata": {},
   "source": [
    "The problem is occuring if we want to do something that’s sequential, for example a data of stock price predictions, weather forecasts, or business finance. The concept of something sequential such as time step for time series data or position of words in a sentence in NLP can’t be grasped with traditional neural networks because these types of data have variable input sizes and the order of inputs matters a lot."
   ]
  },
  {
   "cell_type": "markdown",
   "id": "d2f20418",
   "metadata": {},
   "source": [
    "| Day Number | Stock Price |\n",
    "| --- | --- |\n",
    "| 1 | $15.23 |\n",
    "| 2 | $15.45 |\n",
    "| 3 | $15.60 |\n",
    "| 4 | $16.00 |\n",
    "| 5 | $15.75 |\n",
    "| 6 | $16.10 |\n",
    "| 7 | $16.00 |"
   ]
  },
  {
   "cell_type": "markdown",
   "id": "19c01bf4",
   "metadata": {},
   "source": [
    "Just imagine if we want to predict the stock price for the next day, we need to know all of the previous stock prices. The fixed input size of neural network can’t handle this kind of problem, because the stock price data is dynamic in the input size and imagine if train the model with 50 days of data, then we need to retrain the model again if we want to predict the stock price of length 51 days."
   ]
  },
  {
   "cell_type": "markdown",
   "id": "908e6b9d",
   "metadata": {},
   "source": [
    "Further more, the order of the input matters a lot, because to calculate the stock price of day say 51, we need to know the stock price of day 50, 49, 48, and so on. And we can’t just process the data randomly, we need to process the data starts from day 1, day 2, day 3, and so on. Day 51 can’t be making sense if we randomly process day 4 first, then day 1, then day 30, and so on."
   ]
  },
  {
   "cell_type": "markdown",
   "id": "6ed059d5",
   "metadata": {},
   "source": [
    "So RNN comes when: The input size is dynamic and the order of the input matters a lot."
   ]
  },
  {
   "cell_type": "markdown",
   "id": "7f6b09aa",
   "metadata": {},
   "source": [
    "# Define Sequential Data"
   ]
  },
  {
   "cell_type": "markdown",
   "id": "5d2ebc5f",
   "metadata": {},
   "source": [
    "Just to make sure we are on the same page, sequential data is a data that:"
   ]
  },
  {
   "cell_type": "markdown",
   "id": "7d3a3173",
   "metadata": {},
   "source": [
    "- Has a variable input size\n",
    "- The order of inputs matters"
   ]
  },
  {
   "cell_type": "markdown",
   "id": "8d76670e",
   "metadata": {},
   "source": [
    "So several things that are NOT sequential data are:"
   ]
  },
  {
   "cell_type": "markdown",
   "id": "5d982e7f",
   "metadata": {},
   "source": [
    "- Image: The most common technique to handle image data is to flatten the image into a vector using architecture like CNN. Even though RNN can be used to handle image data if we handle it like a sequence of pixels, but the performance is not as good as CNN (we will talk why later in it’s specific section about the drawback of RNN architecture).\n",
    "- Text that has been converted into a vector using feature extraction techniques that doesn’t consider the order of words. For example, if we use TF-IDF to convert text into a vector, the order of words doesn’t matter anymore. So it’s not a sequential data.\n",
    "- Data that doesn’t have a dependency on order. For example, if we want to predict the price of a house, the order of the features doesn’t matter. We can predict the price of a house with the features of the number of bedrooms, the number of bathrooms, the size of the house, and the location of the house. The order of the features doesn’t matter, we can input any order of the house data and the model will still be able to predict the price of the house. It’s different if we want to predict the price based on the historical price of the house, then the order of the data matters."
   ]
  },
  {
   "cell_type": "markdown",
   "id": "a489fcdc",
   "metadata": {},
   "source": [
    "So again, sequential data is more needed when we’re concern about the order of the data, and the data can be in any length"
   ]
  },
  {
   "cell_type": "markdown",
   "id": "9d8b8f6d",
   "metadata": {},
   "source": [
    "# Intuition of RNN"
   ]
  },
  {
   "cell_type": "markdown",
   "id": "6eeabf3b",
   "metadata": {},
   "source": [
    "Let’s say we have the following recursive rule:"
   ]
  },
  {
   "cell_type": "markdown",
   "id": "e1669776",
   "metadata": {},
   "source": [
    "\\[\n",
    "f(x) = \\begin{cases}\n",
    "f(x - 1) / 2 & \\text{if $x$ is prime} \\\\\n",
    "f(x - 1) + 2 & \\text{if $x$ is even} \\\\\n",
    "f(x - 1) * 2 & \\text{if $x$ is odd} \\\\\n",
    "1 & \\text{if $x$ <= 0}\n",
    "\\end{cases}\n",
    "\\]"
   ]
  },
  {
   "cell_type": "markdown",
   "id": "886730dc",
   "metadata": {},
   "source": [
    "So, the value of \\(f(x)\\) depends on the value of \\(f(x-1)\\)"
   ]
  },
  {
   "cell_type": "markdown",
   "id": "182c3d3f",
   "metadata": {},
   "source": [
    "… and the value of \\(f(x-1)\\) depends on the value of \\(f(x-2)\\),"
   ]
  },
  {
   "cell_type": "markdown",
   "id": "75c9940b",
   "metadata": {},
   "source": [
    "… and so on."
   ]
  },
  {
   "cell_type": "markdown",
   "id": "0e6346ee",
   "metadata": {},
   "source": [
    "So the value of \\(f(x)\\) depends on the value of \\(f(x-1)\\), \\(f(x-2)\\), \\(f(x-3)\\), and so on."
   ]
  },
  {
   "cell_type": "markdown",
   "id": "173cf92b",
   "metadata": {},
   "source": [
    "If we plot that equation, we will get the following graph:"
   ]
  },
  {
   "cell_type": "code",
   "execution_count": null,
   "id": "c1314013",
   "metadata": {},
   "outputs": [],
   "source": [
    "import math\n",
    "\n",
    "def is_prime(x):\n",
    "    if x < 2:\n",
    "        return False\n",
    "    for i in range(2, int(math.sqrt(x))):\n",
    "        if x % i == 0:\n",
    "            return False\n",
    "    return True\n",
    "\n",
    "def f(x):\n",
    "    if x <= 0:\n",
    "        return 1\n",
    "    elif is_prime(x):\n",
    "        return f(x - 1) / 2\n",
    "    elif x % 2 == 0:\n",
    "        return f(x - 1) + 2\n",
    "    else:\n",
    "        return f(x - 1) * 2\n",
    "\n",
    "# draw f(x)\n",
    "import matplotlib.pyplot as plt\n",
    "import numpy as np\n",
    "\n",
    "x = np.arange(0, 200, 1)\n",
    "y = [f(i) for i in x]\n",
    "plt.plot(x, y)\n",
    "plt.show()"
   ]
  },
  {
   "cell_type": "markdown",
   "id": "45e656cc",
   "metadata": {},
   "source": []
  },
  {
   "cell_type": "markdown",
   "id": "924f1448",
   "metadata": {},
   "source": [
    "Here, we can see that the value of \\(f(x)\\) depends on the value of \\(f(x-1)\\), \\(f(x-2)\\), \\(f(x-3)\\), and so on."
   ]
  },
  {
   "cell_type": "markdown",
   "id": "f0535ef7",
   "metadata": {},
   "source": [
    "So, the value of \\(f(x)\\) depends on the previous values of \\(f(x)\\)."
   ]
  },
  {
   "cell_type": "markdown",
   "id": "e4d82bd9",
   "metadata": {},
   "source": [
    "RNN is a neural network that can handle this kind of problem, where the value of the current input depends on the previous input."
   ]
  },
  {
   "cell_type": "markdown",
   "id": "6137a726",
   "metadata": {},
   "source": [
    "Other example is in the text completion problem. Let’s say we have the following text:"
   ]
  },
  {
   "cell_type": "code",
   "execution_count": null,
   "id": "b97f5458",
   "metadata": {},
   "outputs": [],
   "source": [
    "I love spicy food, I love to eat Nasi"
   ]
  },
  {
   "cell_type": "markdown",
   "id": "e7fe9cf3",
   "metadata": {},
   "source": [
    "If we want to predict the next word, we need to consider the previous words. If we only consider the word Nasi, we can’t predict the next word. But if we consider the previous words, we can predict the next word is Goreng. So the value of the current input depends on the previous input."
   ]
  },
  {
   "cell_type": "markdown",
   "id": "49d897de",
   "metadata": {},
   "source": [
    "# RNN"
   ]
  },
  {
   "cell_type": "markdown",
   "id": "19e1aa59",
   "metadata": {},
   "source": []
  },
  {
   "cell_type": "markdown",
   "id": "5d2fc99a",
   "metadata": {},
   "source": [
    "![Image](https://storage.googleapis.com/rg-ai-bootcamp/nlp/image.png)"
   ]
  },
  {
   "cell_type": "markdown",
   "id": "e8f9a935",
   "metadata": {},
   "source": [
    "The main idea of RNN is that every input is learned one step at a time, such as:"
   ]
  },
  {
   "cell_type": "markdown",
   "id": "dc655f25",
   "metadata": {},
   "source": [
    "\\[\n",
    "1, 1, 2, 3, 5, 8, 13, 21, 34, 55, ...\n",
    "\\]"
   ]
  },
  {
   "cell_type": "markdown",
   "id": "ed7d9e17",
   "metadata": {},
   "source": [
    "Can you guess what is the next number in the sequence?"
   ]
  },
  {
   "cell_type": "markdown",
   "id": "981286ab",
   "metadata": {},
   "source": [
    "# Mapping our intuition to RNN"
   ]
  },
  {
   "cell_type": "markdown",
   "id": "6f9bb888",
   "metadata": {},
   "source": [
    "Now let’s try to map our intuition to RNN."
   ]
  },
  {
   "cell_type": "markdown",
   "id": "4bb962b2",
   "metadata": {},
   "source": []
  },
  {
   "cell_type": "markdown",
   "id": "19a5454e",
   "metadata": {},
   "source": [
    "![Image](https://storage.googleapis.com/rg-ai-bootcamp/nlp/image-26.png)"
   ]
  },
  {
   "cell_type": "markdown",
   "id": "5b1ce801",
   "metadata": {},
   "source": [
    "- input: This is our input\n",
    "- Time Step: This is the number of the current step, for example if we are currently processing the 3rd data, then the time step is 3\n",
    "- RNN Cell: This is where the calculation happen, this is the RNN itself. The weight and bias of this RNN cell is shared across the time steps.\n",
    "- Hidden State: This is the output of the RNN cell on the current time step, and it will be used as the input of the RNN cell on the next time step. From our intuition, this hidden state is kind of like the table of the pattern and the probability of that pattern (In reality, the hidden state is not formatted to be percentage, but the intuition is the same)\n",
    "- Fully Connected Layer: This is the layer that will be used to calculate the output of the whole RNN, from our intuition, this is where we calculate the summary of the data, either it’s “profit”, “loss”, or “major profit”, “major loss”, or “normal”"
   ]
  },
  {
   "cell_type": "markdown",
   "id": "9ab7c15e",
   "metadata": {},
   "source": [
    "# Notes"
   ]
  },
  {
   "cell_type": "markdown",
   "id": "63bb9e38",
   "metadata": {},
   "source": []
  },
  {
   "cell_type": "markdown",
   "id": "b7cc1582",
   "metadata": {},
   "source": [
    "![Image](https://storage.googleapis.com/rg-ai-bootcamp/nlp/image-25.png)"
   ]
  },
  {
   "cell_type": "markdown",
   "id": "bea51241",
   "metadata": {},
   "source": [
    "- The weight and bias of the RNN cell is shared across the time steps, so basically the RNN cell is the same for every time step, like you can see on the above diagram. The diagram on the left is the diagram that isn’t unfolded, and the diagram on the right is the diagram that is unfolded. Bot of the diagram is the same, but the concern of the diagram on the left is to understand the concept of RNN sharing the weight and bias across the time steps, and the concern of the diagram on the right is to understand the concept of RNN learning the data one step at a time."
   ]
  },
  {
   "cell_type": "markdown",
   "id": "2aa9ebdc",
   "metadata": {},
   "source": [
    "# Different types of neural network based on sequencial data"
   ]
  },
  {
   "cell_type": "markdown",
   "id": "81015065",
   "metadata": {},
   "source": [
    "There are several types of RNN that concern with the variation of how the input and output is processed:"
   ]
  },
  {
   "cell_type": "markdown",
   "id": "13a7061a",
   "metadata": {},
   "source": [
    " > Source image: https://karpathy.github.io/2015/05/21/rnn-effectiveness/"
   ]
  },
  {
   "cell_type": "markdown",
   "id": "a22b57d5",
   "metadata": {},
   "source": [
    "![Image](https://storage.googleapis.com/rg-ai-bootcamp/nlp/image-3.png)"
   ]
  },
  {
   "cell_type": "markdown",
   "id": "fb3a091a",
   "metadata": {},
   "source": [
    "# Define output"
   ]
  },
  {
   "cell_type": "markdown",
   "id": "0d650ed5",
   "metadata": {},
   "source": [
    "Let’s try to understand the gist about above diagram before we dive further about the differences between the types of RNN."
   ]
  },
  {
   "cell_type": "markdown",
   "id": "4a477343",
   "metadata": {},
   "source": [
    "Our previous diagram looks like below:"
   ]
  },
  {
   "cell_type": "markdown",
   "id": "c6d72626",
   "metadata": {},
   "source": []
  },
  {
   "cell_type": "markdown",
   "id": "35e0d03c",
   "metadata": {},
   "source": [
    "![Image](https://storage.googleapis.com/rg-ai-bootcamp/nlp/image-19.png)"
   ]
  },
  {
   "cell_type": "markdown",
   "id": "cbec3e84",
   "metadata": {},
   "source": [
    "We already can understand that the input can be in variable length from our previous example, but in reality the input can be a single length as well, but RNN is used to process the output that can be in variable length. One of the example is an image captioning:"
   ]
  },
  {
   "cell_type": "markdown",
   "id": "ca0cdeb8",
   "metadata": {},
   "source": [
    "- The image can be processed first using CNN\n",
    "- Then the output of the CNN is processed using RNN"
   ]
  },
  {
   "cell_type": "markdown",
   "id": "608d56e1",
   "metadata": {},
   "source": [
    "As we said before that image processing is often superior when not being processed as a sequence of data, but when we want to process the output of the image processing for image captioning, the output itself can be in variable length:"
   ]
  },
  {
   "cell_type": "markdown",
   "id": "840c935d",
   "metadata": {},
   "source": []
  },
  {
   "cell_type": "markdown",
   "id": "d1a175be",
   "metadata": {},
   "source": [
    "![Image](https://ik.imagekit.io/ffr6l4jaf5t/REA%20AI/running_man_pYPlj0C2u?updatedAt=1695885539658.png)"
   ]
  },
  {
   "cell_type": "markdown",
   "id": "4d98b69f",
   "metadata": {},
   "source": [
    "If we want to caption the above image, we can say:"
   ]
  },
  {
   "cell_type": "markdown",
   "id": "4287a17b",
   "metadata": {},
   "source": [
    "a running man, walking, sunset"
   ]
  },
  {
   "cell_type": "markdown",
   "id": "5f09ba8f",
   "metadata": {},
   "source": [
    "And more caption can be added, and every caption can be in variable length, and the order of the text matters (it doesn’t make sense if the caption is man a running), so this kind of task is a perfect example of a fixed input size and variable output size."
   ]
  },
  {
   "cell_type": "markdown",
   "id": "ef39968b",
   "metadata": {},
   "source": [
    "So if we generalize further from our previous learning, is that RNN is mostly used to handle a sequence: Whether it’s a sequence of input, or a sequence of output, or both."
   ]
  },
  {
   "cell_type": "markdown",
   "id": "35fde71b",
   "metadata": {},
   "source": [
    "# One to One"
   ]
  },
  {
   "cell_type": "markdown",
   "id": "ccea61b0",
   "metadata": {},
   "source": []
  },
  {
   "cell_type": "markdown",
   "id": "0e996046",
   "metadata": {},
   "source": [
    "![Image](https://storage.googleapis.com/rg-ai-bootcamp/nlp/image-13.png)"
   ]
  },
  {
   "cell_type": "markdown",
   "id": "7d09983b",
   "metadata": {},
   "source": [
    "This is basically the traditional neural network, where the input and output is fixed and not sequential. When we classify neural network based on the sequence of the input and output, one of them will be fall into this category: when there isn’t any sequence at all."
   ]
  },
  {
   "cell_type": "markdown",
   "id": "630ae276",
   "metadata": {},
   "source": [
    "# One to many"
   ]
  },
  {
   "cell_type": "markdown",
   "id": "fea22efa",
   "metadata": {},
   "source": []
  },
  {
   "cell_type": "markdown",
   "id": "d0af7a7d",
   "metadata": {},
   "source": [
    "![Image](https://storage.googleapis.com/rg-ai-bootcamp/nlp/image-21.png)"
   ]
  },
  {
   "cell_type": "markdown",
   "id": "2d0cfca4",
   "metadata": {},
   "source": [
    "This is the type of neural network where the input is fixed, but the output is sequential. One of the example is already explained above, where the input is an image, and the output is a caption of the image."
   ]
  },
  {
   "cell_type": "markdown",
   "id": "27fc55ea",
   "metadata": {},
   "source": [
    "Another example is when we have fixed input for a user recommendation, maybe by default we have the personality of a student in our learning application, we want to make sure that this user is going through every recommendation step by step as we want to make sure that the user is learning the material in the right order. For example:"
   ]
  },
  {
   "cell_type": "markdown",
   "id": "12350fc8",
   "metadata": {},
   "source": [
    "- User name: Imam\n",
    "- User preferences: Coding\n",
    "- User level: Beginner"
   ]
  },
  {
   "cell_type": "markdown",
   "id": "bbb5fbdb",
   "metadata": {},
   "source": [
    "Then the recommendation will be:"
   ]
  },
  {
   "cell_type": "markdown",
   "id": "1eb5ab41",
   "metadata": {},
   "source": [
    "- HTML, CSS, Javascript\n",
    "- NodeJS\n",
    "- ReactJS\n",
    "- React Native"
   ]
  },
  {
   "cell_type": "markdown",
   "id": "dc043c4b",
   "metadata": {},
   "source": [
    "You can see that the input is fixed, only 3 data, but the output is sequential, we need the student to follow the roadmap and not skipping any step, and the sequence can be different from one student to another student, so this is a perfect example of one to many sequence."
   ]
  },
  {
   "cell_type": "markdown",
   "id": "0597509c",
   "metadata": {},
   "source": [
    "# Many to one"
   ]
  },
  {
   "cell_type": "markdown",
   "id": "ac1cc941",
   "metadata": {},
   "source": []
  },
  {
   "cell_type": "markdown",
   "id": "635a621b",
   "metadata": {},
   "source": [
    "![Image](https://storage.googleapis.com/rg-ai-bootcamp/nlp/image-16.png)"
   ]
  },
  {
   "cell_type": "markdown",
   "id": "a16c002f",
   "metadata": {},
   "source": [
    "Many to one can be explained using our existing diagram: where the input is sequence of data from the stock price, and the output is the summary of the data, whether it’s “profit”, “loss”, “major profit”, “major loss”, or “normal”."
   ]
  },
  {
   "cell_type": "markdown",
   "id": "0cf9153c",
   "metadata": {},
   "source": [
    "Another example is in the sentiment analysis, where the input is a sequence of words, and the output is the sentiment of the text, whether it’s positive or negative."
   ]
  },
  {
   "cell_type": "markdown",
   "id": "a4b8d0da",
   "metadata": {},
   "source": [
    "# Many to many"
   ]
  },
  {
   "cell_type": "markdown",
   "id": "d288d573",
   "metadata": {},
   "source": []
  },
  {
   "cell_type": "markdown",
   "id": "3fc5f432",
   "metadata": {},
   "source": [
    "![Image](https://storage.googleapis.com/rg-ai-bootcamp/nlp/image-20.png)"
   ]
  },
  {
   "cell_type": "markdown",
   "id": "ff199de8",
   "metadata": {},
   "source": [
    "This is the type of neural network where the input and output is sequential but the length of the input and output should be the same. The example is in POS tagging, where the input is a sentence, and the output is the part of speech of each word in the sentence:"
   ]
  },
  {
   "cell_type": "markdown",
   "id": "620d72ff",
   "metadata": {},
   "source": [
    "“I am learning RNN”"
   ]
  },
  {
   "cell_type": "markdown",
   "id": "3d4014a8",
   "metadata": {},
   "source": [
    "Output: “Pronoun Verb Verb Noun”"
   ]
  },
  {
   "cell_type": "markdown",
   "id": "54615df4",
   "metadata": {},
   "source": [
    "As we can see above, the length of the input is 4, and the length of the output is 4 as well. The input and output is sequential, but the length of the input and output is the same."
   ]
  },
  {
   "cell_type": "markdown",
   "id": "900c5b34",
   "metadata": {},
   "source": [
    "# Encoder Decoder"
   ]
  },
  {
   "cell_type": "markdown",
   "id": "ae0e4eb2",
   "metadata": {},
   "source": []
  },
  {
   "cell_type": "markdown",
   "id": "fda26b87",
   "metadata": {},
   "source": [
    "![Image](https://storage.googleapis.com/rg-ai-bootcamp/nlp/image-24.png)"
   ]
  },
  {
   "cell_type": "markdown",
   "id": "3d994e49",
   "metadata": {},
   "source": [
    "If we want to have a different length of input and output, encoder-decoder RNN. We’ll cover for this deeply in the next section, but we’ll cover it briefly here."
   ]
  },
  {
   "cell_type": "markdown",
   "id": "7f421832",
   "metadata": {},
   "source": [
    "Basically, the encoder-decoder RNN is a combination of two RNN, where the first RNN is many to one, and the second RNN is one to many. The first RNN is called the encoder, and the second RNN is called the decoder, encoder-decoder. From the high level, the encoder is used to encode the input into a fixed length vector which represent what the encoder understand from the input, and the decoder is used to decode the fixed length vector into a sequence of output."
   ]
  },
  {
   "cell_type": "markdown",
   "id": "f45fcb8a",
   "metadata": {},
   "source": [
    "One example that we’ll delve in later is using encoder-decoder RNN for machine translation, for chatbot, etc. Other example would be using encoder-decoder RNN for audio to text, where the input is a sequence of audio that can be in any length, and the output is a sequence of text that can be in any length as well, using encoder-decoder RNN will enable RNN to not having to worry about the length of the input different from the length of the output."
   ]
  },
  {
   "cell_type": "markdown",
   "id": "ca2290cb",
   "metadata": {},
   "source": [
    "# Weight between previous hidden state and RNN cell"
   ]
  },
  {
   "cell_type": "markdown",
   "id": "c2fe866d",
   "metadata": {},
   "source": [
    "Below diagram is the basic math for RNN calculation:"
   ]
  },
  {
   "cell_type": "markdown",
   "id": "bb11b53f",
   "metadata": {},
   "source": []
  },
  {
   "cell_type": "markdown",
   "id": "f5adb855",
   "metadata": {},
   "source": [
    "![Image](https://storage.googleapis.com/rg-ai-bootcamp/nlp/image-6.png)"
   ]
  },
  {
   "cell_type": "markdown",
   "id": "ea8b53fb",
   "metadata": {},
   "source": [
    "Image source: https://medium.com/@saurabh.rathor092/simple-rnn-vs-gru-vs-lstm-difference-lies-in-more-flexible-control-5f33e07b1e57"
   ]
  },
  {
   "cell_type": "markdown",
   "id": "bc5057c3",
   "metadata": {},
   "source": [
    "- The arrow from the left is the previous hidden state.\n",
    "- The\\(x_{t}\\)is the current input\n",
    "- The input and the previous hidden state is calculated with their respective weights\n",
    "- The result being summed together and passed through the activation function to obtain the current hidden state (mostly usingtanhactivation unit orrelu)\n",
    "- This hidden state will be passed as the next hidden state and we can use the hidden state to produce the output"
   ]
  },
  {
   "cell_type": "markdown",
   "id": "1c4c1765",
   "metadata": {},
   "source": [
    "When translating above to math formula, we can get:"
   ]
  },
  {
   "cell_type": "markdown",
   "id": "6516274d",
   "metadata": {},
   "source": [
    "\\[\n",
    "currentState = activationFunction(inputWeight * currentInput + hiddenStateWeight * previousHiddenState + bias)\n",
    "\\]"
   ]
  },
  {
   "cell_type": "markdown",
   "id": "3dd09d40",
   "metadata": {},
   "source": [
    "Where: - currentState is the current hidden state that we want to calculate and activationFunction is a function like tanh or ReLU, - currentInput is calculated with inputWeight, - previousHiddenState is calculated with hiddenStateWeight, - bias is the bias of the current hidden state."
   ]
  },
  {
   "cell_type": "markdown",
   "id": "9c2b2088",
   "metadata": {},
   "source": [
    "# Backpropagation Through Time"
   ]
  },
  {
   "cell_type": "markdown",
   "id": "1163c02b",
   "metadata": {},
   "source": []
  },
  {
   "cell_type": "markdown",
   "id": "e09207a1",
   "metadata": {},
   "source": [
    "![Image](https://storage.googleapis.com/rg-ai-bootcamp/nlp/image-17.png)"
   ]
  },
  {
   "cell_type": "markdown",
   "id": "49674405",
   "metadata": {},
   "source": [
    "The concept of backpropagation through time is the same as backpropagation in traditional neural network, but the difference is that the backpropagation is done through across the time steps."
   ]
  },
  {
   "cell_type": "markdown",
   "id": "57cb8721",
   "metadata": {},
   "source": [
    "So the intuition is that we are backpropagating the last output layer first (fully connected layer), then running back across the last time step, and then backpropagating to the previous time step before that, and so on until the first time step, then we backpropagate the input layer. This of course if we’re talking about many to one RNN."
   ]
  },
  {
   "cell_type": "markdown",
   "id": "a5f1f401",
   "metadata": {},
   "source": [
    "The other RNN architecture will have the same kind of intuition, but the backpropagation will be done at each of the time steps, start from the fully connected layer, then the RNN cell, and then the input layer, and then the backpropagation will be done across the time steps backwards until the first time step."
   ]
  }
 ],
 "metadata": {},
 "nbformat": 4,
 "nbformat_minor": 5
}
