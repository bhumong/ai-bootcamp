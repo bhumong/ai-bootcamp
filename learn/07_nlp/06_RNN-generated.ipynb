{
 "cells": [
  {
   "cell_type": "markdown",
   "id": "2e513cc0",
   "metadata": {},
   "source": [
    "source: [link](https://ai-bootcamp.ruangguru.com/learn/07_nlp/06_RNN.html)"
   ]
  },
  {
   "cell_type": "markdown",
   "id": "131b855b",
   "metadata": {},
   "source": [
    "# RNN"
   ]
  },
  {
   "cell_type": "markdown",
   "id": "4d89b554",
   "metadata": {},
   "source": [
    "# Neural Network and fixed input size"
   ]
  },
  {
   "cell_type": "markdown",
   "id": "5bf053fc",
   "metadata": {},
   "source": [
    "The concept of neural network rely on backpropagation from the output to the input, and the input can only be learned if the input size is fixed. This means that the dimensions of our input data must remain consistent throughout the learning process, because we need to calculate the weight and bias precisely for each input."
   ]
  },
  {
   "cell_type": "markdown",
   "id": "95178b39",
   "metadata": {},
   "source": [
    "When our network is configured with fixed weights or biases, they are shared across the inputs, making it easier to generalize across different inputs and giving the network the ability to learn and adapt from the data."
   ]
  },
  {
   "cell_type": "markdown",
   "id": "324c0356",
   "metadata": {},
   "source": [
    "The problem is occuring if we want to do something that’s sequential, for example a data of stock price predictions, weather forecasts, or business finance. The concept of something sequential such as time step for time series data or position of words in a sentence in NLP can’t be grasped with traditional neural networks because these types of data have variable input sizes and the order of inputs matters a lot."
   ]
  },
  {
   "cell_type": "markdown",
   "id": "691725b6",
   "metadata": {},
   "source": [
    "| Day Number | Stock Price |\n",
    "| --- | --- |\n",
    "| 1 | $15.23 |\n",
    "| 2 | $15.45 |\n",
    "| 3 | $15.60 |\n",
    "| 4 | $16.00 |\n",
    "| 5 | $15.75 |\n",
    "| 6 | $16.10 |\n",
    "| 7 | $16.00 |"
   ]
  },
  {
   "cell_type": "markdown",
   "id": "6610eb30",
   "metadata": {},
   "source": [
    "Just imagine if we want to predict the stock price for the next day, we need to know all of the previous stock prices. The fixed input size of neural network can’t handle this kind of problem, because the stock price data is dynamic in the input size and imagine if train the model with 50 days of data, then we need to retrain the model again if we want to predict the stock price of length 51 days."
   ]
  },
  {
   "cell_type": "markdown",
   "id": "3b655d67",
   "metadata": {},
   "source": [
    "Further more, the order of the input matters a lot, because to calculate the stock price of day say 51, we need to know the stock price of day 50, 49, 48, and so on. And we can’t just process the data randomly, we need to process the data starts from day 1, day 2, day 3, and so on. Day 51 can’t be making sense if we randomly process day 4 first, then day 1, then day 30, and so on."
   ]
  },
  {
   "cell_type": "markdown",
   "id": "a5821dbf",
   "metadata": {},
   "source": [
    "So RNN comes when: The input size is dynamic and the order of the input matters a lot."
   ]
  },
  {
   "cell_type": "markdown",
   "id": "b2ae838e",
   "metadata": {},
   "source": [
    "# Define Sequential Data"
   ]
  },
  {
   "cell_type": "markdown",
   "id": "a5a9a44c",
   "metadata": {},
   "source": [
    "Just to make sure we are on the same page, sequential data is a data that:"
   ]
  },
  {
   "cell_type": "markdown",
   "id": "8cd41c5f",
   "metadata": {},
   "source": [
    "So several things that are NOT sequential data are:"
   ]
  },
  {
   "cell_type": "markdown",
   "id": "a347da97",
   "metadata": {},
   "source": [
    "So again, sequential data is more needed when we’re concern about the order of the data, and the data can be in any length"
   ]
  },
  {
   "cell_type": "markdown",
   "id": "7b852fef",
   "metadata": {},
   "source": [
    "# Intuition of RNN"
   ]
  },
  {
   "cell_type": "markdown",
   "id": "1e0eefd4",
   "metadata": {},
   "source": [
    "Let’s say we have the following recursive rule:"
   ]
  },
  {
   "cell_type": "markdown",
   "id": "0f618b22",
   "metadata": {},
   "source": [
    "\\[\n",
    "f(x) = \\begin{cases}\n",
    "f(x - 1) / 2 & \\text{if $x$ is prime} \\\\\n",
    "f(x - 1) + 2 & \\text{if $x$ is even} \\\\\n",
    "f(x - 1) * 2 & \\text{if $x$ is odd} \\\\\n",
    "1 & \\text{if $x$ <= 0}\n",
    "\\end{cases}\n",
    "\\]"
   ]
  },
  {
   "cell_type": "markdown",
   "id": "a8ce1fad",
   "metadata": {},
   "source": [
    "So, the value of \\(f(x)\\) depends on the value of \\(f(x-1)\\)"
   ]
  },
  {
   "cell_type": "markdown",
   "id": "19eceac9",
   "metadata": {},
   "source": [
    "… and the value of \\(f(x-1)\\) depends on the value of \\(f(x-2)\\),"
   ]
  },
  {
   "cell_type": "markdown",
   "id": "f6352f05",
   "metadata": {},
   "source": [
    "… and so on."
   ]
  },
  {
   "cell_type": "markdown",
   "id": "c9183914",
   "metadata": {},
   "source": [
    "So the value of \\(f(x)\\) depends on the value of \\(f(x-1)\\), \\(f(x-2)\\), \\(f(x-3)\\), and so on."
   ]
  },
  {
   "cell_type": "markdown",
   "id": "c3e675bb",
   "metadata": {},
   "source": [
    "If we plot that equation, we will get the following graph:"
   ]
  },
  {
   "cell_type": "code",
   "execution_count": null,
   "id": "fcd96fc8",
   "metadata": {},
   "outputs": [],
   "source": [
    "import math\n",
    "\n",
    "def is_prime(x):\n",
    "    if x < 2:\n",
    "        return False\n",
    "    for i in range(2, int(math.sqrt(x))):\n",
    "        if x % i == 0:\n",
    "            return False\n",
    "    return True\n",
    "\n",
    "def f(x):\n",
    "    if x <= 0:\n",
    "        return 1\n",
    "    elif is_prime(x):\n",
    "        return f(x - 1) / 2\n",
    "    elif x % 2 == 0:\n",
    "        return f(x - 1) + 2\n",
    "    else:\n",
    "        return f(x - 1) * 2\n",
    "\n",
    "# draw f(x)\n",
    "import matplotlib.pyplot as plt\n",
    "import numpy as np\n",
    "\n",
    "x = np.arange(0, 200, 1)\n",
    "y = [f(i) for i in x]\n",
    "plt.plot(x, y)\n",
    "plt.show()"
   ]
  },
  {
   "cell_type": "markdown",
   "id": "39643e08",
   "metadata": {},
   "source": []
  },
  {
   "cell_type": "markdown",
   "id": "1ec128f9",
   "metadata": {},
   "source": [
    "Here, we can see that the value of \\(f(x)\\) depends on the value of \\(f(x-1)\\), \\(f(x-2)\\), \\(f(x-3)\\), and so on."
   ]
  },
  {
   "cell_type": "markdown",
   "id": "60914632",
   "metadata": {},
   "source": [
    "So, the value of \\(f(x)\\) depends on the previous values of \\(f(x)\\)."
   ]
  },
  {
   "cell_type": "markdown",
   "id": "c62b2c9c",
   "metadata": {},
   "source": [
    "RNN is a neural network that can handle this kind of problem, where the value of the current input depends on the previous input."
   ]
  },
  {
   "cell_type": "markdown",
   "id": "e6d8fc1c",
   "metadata": {},
   "source": [
    "Other example is in the text completion problem. Let’s say we have the following text:"
   ]
  },
  {
   "cell_type": "code",
   "execution_count": null,
   "id": "64262aa4",
   "metadata": {},
   "outputs": [],
   "source": [
    "I love spicy food, I love to eat Nasi"
   ]
  },
  {
   "cell_type": "markdown",
   "id": "311332fa",
   "metadata": {},
   "source": [
    "If we want to predict the next word, we need to consider the previous words. If we only consider the word Nasi, we can’t predict the next word. But if we consider the previous words, we can predict the next word is Goreng. So the value of the current input depends on the previous input."
   ]
  },
  {
   "cell_type": "markdown",
   "id": "c3b4e6a3",
   "metadata": {},
   "source": [
    "# RNN"
   ]
  },
  {
   "cell_type": "markdown",
   "id": "36cb96f3",
   "metadata": {},
   "source": []
  },
  {
   "cell_type": "markdown",
   "id": "51291099",
   "metadata": {},
   "source": [
    "![Image](https://storage.googleapis.com/rg-ai-bootcamp/nlp/image.png)"
   ]
  },
  {
   "cell_type": "markdown",
   "id": "c69e63a4",
   "metadata": {},
   "source": [
    "The main idea of RNN is that every input is learned one step at a time, such as:"
   ]
  },
  {
   "cell_type": "markdown",
   "id": "a6554848",
   "metadata": {},
   "source": [
    "\\[\n",
    "1, 1, 2, 3, 5, 8, 13, 21, 34, 55, ...\n",
    "\\]"
   ]
  },
  {
   "cell_type": "markdown",
   "id": "5b76667f",
   "metadata": {},
   "source": [
    "Can you guess what is the next number in the sequence?"
   ]
  },
  {
   "cell_type": "markdown",
   "id": "a808f0cc",
   "metadata": {},
   "source": [
    "# Mapping our intuition to RNN"
   ]
  },
  {
   "cell_type": "markdown",
   "id": "6bc41507",
   "metadata": {},
   "source": [
    "Now let’s try to map our intuition to RNN."
   ]
  },
  {
   "cell_type": "markdown",
   "id": "1fee5fe0",
   "metadata": {},
   "source": []
  },
  {
   "cell_type": "markdown",
   "id": "715d2a7e",
   "metadata": {},
   "source": [
    "![Image](https://storage.googleapis.com/rg-ai-bootcamp/nlp/image-26.png)"
   ]
  },
  {
   "cell_type": "markdown",
   "id": "5ed959f3",
   "metadata": {},
   "source": [
    "# Notes"
   ]
  },
  {
   "cell_type": "markdown",
   "id": "bbc62d0a",
   "metadata": {},
   "source": []
  },
  {
   "cell_type": "markdown",
   "id": "e78db668",
   "metadata": {},
   "source": [
    "![Image](https://storage.googleapis.com/rg-ai-bootcamp/nlp/image-25.png)"
   ]
  },
  {
   "cell_type": "markdown",
   "id": "02a9e5a8",
   "metadata": {},
   "source": [
    "# Different types of neural network based on sequencial data"
   ]
  },
  {
   "cell_type": "markdown",
   "id": "f349a5f8",
   "metadata": {},
   "source": [
    "There are several types of RNN that concern with the variation of how the input and output is processed:"
   ]
  },
  {
   "cell_type": "markdown",
   "id": "945155af",
   "metadata": {},
   "source": [
    " > Source image: https://karpathy.github.io/2015/05/21/rnn-effectiveness/"
   ]
  },
  {
   "cell_type": "markdown",
   "id": "853c2f18",
   "metadata": {},
   "source": [
    "![Image](https://storage.googleapis.com/rg-ai-bootcamp/nlp/image-3.png)"
   ]
  },
  {
   "cell_type": "markdown",
   "id": "ddbd4a84",
   "metadata": {},
   "source": [
    "# Define output"
   ]
  },
  {
   "cell_type": "markdown",
   "id": "c944583a",
   "metadata": {},
   "source": [
    "Let’s try to understand the gist about above diagram before we dive further about the differences between the types of RNN."
   ]
  },
  {
   "cell_type": "markdown",
   "id": "771d3343",
   "metadata": {},
   "source": [
    "Our previous diagram looks like below:"
   ]
  },
  {
   "cell_type": "markdown",
   "id": "a58a17ba",
   "metadata": {},
   "source": []
  },
  {
   "cell_type": "markdown",
   "id": "ac5796e9",
   "metadata": {},
   "source": [
    "![Image](https://storage.googleapis.com/rg-ai-bootcamp/nlp/image-19.png)"
   ]
  },
  {
   "cell_type": "markdown",
   "id": "fc7fb060",
   "metadata": {},
   "source": [
    "We already can understand that the input can be in variable length from our previous example, but in reality the input can be a single length as well, but RNN is used to process the output that can be in variable length. One of the example is an image captioning:"
   ]
  },
  {
   "cell_type": "markdown",
   "id": "5a6938af",
   "metadata": {},
   "source": [
    "As we said before that image processing is often superior when not being processed as a sequence of data, but when we want to process the output of the image processing for image captioning, the output itself can be in variable length:"
   ]
  },
  {
   "cell_type": "markdown",
   "id": "f84d3efc",
   "metadata": {},
   "source": []
  },
  {
   "cell_type": "markdown",
   "id": "4ba0c631",
   "metadata": {},
   "source": [
    "![Image](https://ik.imagekit.io/ffr6l4jaf5t/REA%20AI/running_man_pYPlj0C2u?updatedAt=1695885539658.png)"
   ]
  },
  {
   "cell_type": "markdown",
   "id": "43eec8af",
   "metadata": {},
   "source": [
    "If we want to caption the above image, we can say:"
   ]
  },
  {
   "cell_type": "markdown",
   "id": "fd49bca5",
   "metadata": {},
   "source": [
    "a running man, walking, sunset"
   ]
  },
  {
   "cell_type": "markdown",
   "id": "37874ecb",
   "metadata": {},
   "source": [
    "And more caption can be added, and every caption can be in variable length, and the order of the text matters (it doesn’t make sense if the caption is man a running), so this kind of task is a perfect example of a fixed input size and variable output size."
   ]
  },
  {
   "cell_type": "markdown",
   "id": "a0cfd1fa",
   "metadata": {},
   "source": [
    "So if we generalize further from our previous learning, is that RNN is mostly used to handle a sequence: Whether it’s a sequence of input, or a sequence of output, or both."
   ]
  },
  {
   "cell_type": "markdown",
   "id": "5ed8d777",
   "metadata": {},
   "source": [
    "# One to One"
   ]
  },
  {
   "cell_type": "markdown",
   "id": "fda637d8",
   "metadata": {},
   "source": []
  },
  {
   "cell_type": "markdown",
   "id": "58e95f6d",
   "metadata": {},
   "source": [
    "![Image](https://storage.googleapis.com/rg-ai-bootcamp/nlp/image-13.png)"
   ]
  },
  {
   "cell_type": "markdown",
   "id": "7503f423",
   "metadata": {},
   "source": [
    "This is basically the traditional neural network, where the input and output is fixed and not sequential. When we classify neural network based on the sequence of the input and output, one of them will be fall into this category: when there isn’t any sequence at all."
   ]
  },
  {
   "cell_type": "markdown",
   "id": "e8acb965",
   "metadata": {},
   "source": [
    "# One to many"
   ]
  },
  {
   "cell_type": "markdown",
   "id": "25f99265",
   "metadata": {},
   "source": []
  },
  {
   "cell_type": "markdown",
   "id": "c7728294",
   "metadata": {},
   "source": [
    "![Image](https://storage.googleapis.com/rg-ai-bootcamp/nlp/image-21.png)"
   ]
  },
  {
   "cell_type": "markdown",
   "id": "44d330b1",
   "metadata": {},
   "source": [
    "This is the type of neural network where the input is fixed, but the output is sequential. One of the example is already explained above, where the input is an image, and the output is a caption of the image."
   ]
  },
  {
   "cell_type": "markdown",
   "id": "2f85ff99",
   "metadata": {},
   "source": [
    "Another example is when we have fixed input for a user recommendation, maybe by default we have the personality of a student in our learning application, we want to make sure that this user is going through every recommendation step by step as we want to make sure that the user is learning the material in the right order. For example:"
   ]
  },
  {
   "cell_type": "markdown",
   "id": "74e93382",
   "metadata": {},
   "source": [
    "Then the recommendation will be:"
   ]
  },
  {
   "cell_type": "markdown",
   "id": "15cd958d",
   "metadata": {},
   "source": [
    "You can see that the input is fixed, only 3 data, but the output is sequential, we need the student to follow the roadmap and not skipping any step, and the sequence can be different from one student to another student, so this is a perfect example of one to many sequence."
   ]
  },
  {
   "cell_type": "markdown",
   "id": "bdeb453a",
   "metadata": {},
   "source": [
    "# Many to one"
   ]
  },
  {
   "cell_type": "markdown",
   "id": "fa4e6377",
   "metadata": {},
   "source": []
  },
  {
   "cell_type": "markdown",
   "id": "4a5d6f2f",
   "metadata": {},
   "source": [
    "![Image](https://storage.googleapis.com/rg-ai-bootcamp/nlp/image-16.png)"
   ]
  },
  {
   "cell_type": "markdown",
   "id": "1b672aae",
   "metadata": {},
   "source": [
    "Many to one can be explained using our existing diagram: where the input is sequence of data from the stock price, and the output is the summary of the data, whether it’s “profit”, “loss”, “major profit”, “major loss”, or “normal”."
   ]
  },
  {
   "cell_type": "markdown",
   "id": "e7032e4d",
   "metadata": {},
   "source": [
    "Another example is in the sentiment analysis, where the input is a sequence of words, and the output is the sentiment of the text, whether it’s positive or negative."
   ]
  },
  {
   "cell_type": "markdown",
   "id": "06b82c9e",
   "metadata": {},
   "source": [
    "# Many to many"
   ]
  },
  {
   "cell_type": "markdown",
   "id": "b0e68809",
   "metadata": {},
   "source": []
  },
  {
   "cell_type": "markdown",
   "id": "6f62ed6b",
   "metadata": {},
   "source": [
    "![Image](https://storage.googleapis.com/rg-ai-bootcamp/nlp/image-20.png)"
   ]
  },
  {
   "cell_type": "markdown",
   "id": "9e8cb9e6",
   "metadata": {},
   "source": [
    "This is the type of neural network where the input and output is sequential but the length of the input and output should be the same. The example is in POS tagging, where the input is a sentence, and the output is the part of speech of each word in the sentence:"
   ]
  },
  {
   "cell_type": "markdown",
   "id": "c3f68e28",
   "metadata": {},
   "source": [
    "“I am learning RNN”"
   ]
  },
  {
   "cell_type": "markdown",
   "id": "e9e7bc8f",
   "metadata": {},
   "source": [
    "Output: “Pronoun Verb Verb Noun”"
   ]
  },
  {
   "cell_type": "markdown",
   "id": "e07d8edf",
   "metadata": {},
   "source": [
    "As we can see above, the length of the input is 4, and the length of the output is 4 as well. The input and output is sequential, but the length of the input and output is the same."
   ]
  },
  {
   "cell_type": "markdown",
   "id": "a7302cfe",
   "metadata": {},
   "source": [
    "# Encoder Decoder"
   ]
  },
  {
   "cell_type": "markdown",
   "id": "bff5a2b1",
   "metadata": {},
   "source": []
  },
  {
   "cell_type": "markdown",
   "id": "39cb679b",
   "metadata": {},
   "source": [
    "![Image](https://storage.googleapis.com/rg-ai-bootcamp/nlp/image-24.png)"
   ]
  },
  {
   "cell_type": "markdown",
   "id": "d5c49837",
   "metadata": {},
   "source": [
    "If we want to have a different length of input and output, encoder-decoder RNN. We’ll cover for this deeply in the next section, but we’ll cover it briefly here."
   ]
  },
  {
   "cell_type": "markdown",
   "id": "b23191db",
   "metadata": {},
   "source": [
    "Basically, the encoder-decoder RNN is a combination of two RNN, where the first RNN is many to one, and the second RNN is one to many. The first RNN is called the encoder, and the second RNN is called the decoder, encoder-decoder. From the high level, the encoder is used to encode the input into a fixed length vector which represent what the encoder understand from the input, and the decoder is used to decode the fixed length vector into a sequence of output."
   ]
  },
  {
   "cell_type": "markdown",
   "id": "6250783e",
   "metadata": {},
   "source": [
    "One example that we’ll delve in later is using encoder-decoder RNN for machine translation, for chatbot, etc. Other example would be using encoder-decoder RNN for audio to text, where the input is a sequence of audio that can be in any length, and the output is a sequence of text that can be in any length as well, using encoder-decoder RNN will enable RNN to not having to worry about the length of the input different from the length of the output."
   ]
  },
  {
   "cell_type": "markdown",
   "id": "80b295fc",
   "metadata": {},
   "source": [
    "# Weight between previous hidden state and RNN cell"
   ]
  },
  {
   "cell_type": "markdown",
   "id": "66e0196d",
   "metadata": {},
   "source": [
    "Below diagram is the basic math for RNN calculation:"
   ]
  },
  {
   "cell_type": "markdown",
   "id": "2a74fbd2",
   "metadata": {},
   "source": []
  },
  {
   "cell_type": "markdown",
   "id": "84e88b77",
   "metadata": {},
   "source": [
    "![Image](https://storage.googleapis.com/rg-ai-bootcamp/nlp/image-6.png)"
   ]
  },
  {
   "cell_type": "markdown",
   "id": "3896adba",
   "metadata": {},
   "source": [
    "Image source: https://medium.com/@saurabh.rathor092/simple-rnn-vs-gru-vs-lstm-difference-lies-in-more-flexible-control-5f33e07b1e57"
   ]
  },
  {
   "cell_type": "markdown",
   "id": "fdd8ee18",
   "metadata": {},
   "source": [
    "When translating above to math formula, we can get:"
   ]
  },
  {
   "cell_type": "markdown",
   "id": "8f3f75e7",
   "metadata": {},
   "source": [
    "\\[\n",
    "currentState = activationFunction(inputWeight * currentInput + hiddenStateWeight * previousHiddenState + bias)\n",
    "\\]"
   ]
  },
  {
   "cell_type": "markdown",
   "id": "1bb2bbef",
   "metadata": {},
   "source": [
    "Where: - currentState is the current hidden state that we want to calculate and activationFunction is a function like tanh or ReLU, - currentInput is calculated with inputWeight, - previousHiddenState is calculated with hiddenStateWeight, - bias is the bias of the current hidden state."
   ]
  },
  {
   "cell_type": "markdown",
   "id": "90634519",
   "metadata": {},
   "source": [
    "# Backpropagation Through Time"
   ]
  },
  {
   "cell_type": "markdown",
   "id": "fad6a749",
   "metadata": {},
   "source": []
  },
  {
   "cell_type": "markdown",
   "id": "c43ccfdc",
   "metadata": {},
   "source": [
    "![Image](https://storage.googleapis.com/rg-ai-bootcamp/nlp/image-17.png)"
   ]
  },
  {
   "cell_type": "markdown",
   "id": "2bc4f2ba",
   "metadata": {},
   "source": [
    "The concept of backpropagation through time is the same as backpropagation in traditional neural network, but the difference is that the backpropagation is done through across the time steps."
   ]
  },
  {
   "cell_type": "markdown",
   "id": "66f8a216",
   "metadata": {},
   "source": [
    "So the intuition is that we are backpropagating the last output layer first (fully connected layer), then running back across the last time step, and then backpropagating to the previous time step before that, and so on until the first time step, then we backpropagate the input layer. This of course if we’re talking about many to one RNN."
   ]
  },
  {
   "cell_type": "markdown",
   "id": "6a03707c",
   "metadata": {},
   "source": [
    "The other RNN architecture will have the same kind of intuition, but the backpropagation will be done at each of the time steps, start from the fully connected layer, then the RNN cell, and then the input layer, and then the backpropagation will be done across the time steps backwards until the first time step."
   ]
  }
 ],
 "metadata": {},
 "nbformat": 4,
 "nbformat_minor": 5
}
