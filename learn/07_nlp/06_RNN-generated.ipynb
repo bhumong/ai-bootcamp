{
 "cells": [
  {
   "cell_type": "markdown",
   "id": "60e0cb8a",
   "metadata": {},
   "source": [
    "# RNN"
   ]
  },
  {
   "cell_type": "markdown",
   "id": "5bc3d27b",
   "metadata": {},
   "source": [
    "# Neural Network and fixed input size"
   ]
  },
  {
   "cell_type": "markdown",
   "id": "3a8615f6",
   "metadata": {},
   "source": [
    "The concept of neural network rely on backpropagation from the output to the input, and the input can only be learned if the input size is fixed. This means that the dimensions of our input data must remain consistent throughout the learning process, because we need to calculate the weight and bias precisely for each input."
   ]
  },
  {
   "cell_type": "markdown",
   "id": "a633d9c3",
   "metadata": {},
   "source": [
    "When our network is configured with fixed weights or biases, they are shared across the inputs, making it easier to generalize across different inputs and giving the network the ability to learn and adapt from the data."
   ]
  },
  {
   "cell_type": "markdown",
   "id": "e2639871",
   "metadata": {},
   "source": [
    "The problem is occuring if we want to do something that’s sequential, for example a data of stock price predictions, weather forecasts, or business finance. The concept of something sequential such as time step for time series data or position of words in a sentence in NLP can’t be grasped with traditional neural networks because these types of data have variable input sizes and the order of inputs matters a lot."
   ]
  },
  {
   "cell_type": "markdown",
   "id": "d8b3d19b",
   "metadata": {},
   "source": [
    "Just imagine if we want to predict the stock price for the next day, we need to know all of the previous stock prices. The fixed input size of neural network can’t handle this kind of problem, because the stock price data is dynamic in the input size and imagine if train the model with 50 days of data, then we need to retrain the model again if we want to predict the stock price of length 51 days."
   ]
  },
  {
   "cell_type": "markdown",
   "id": "70488494",
   "metadata": {},
   "source": [
    "Further more, the order of the input matters a lot, because to calculate the stock price of day say 51, we need to know the stock price of day 50, 49, 48, and so on. And we can’t just process the data randomly, we need to process the data starts from day 1, day 2, day 3, and so on. Day 51 can’t be making sense if we randomly process day 4 first, then day 1, then day 30, and so on."
   ]
  },
  {
   "cell_type": "markdown",
   "id": "0dbe699a",
   "metadata": {},
   "source": [
    "So RNN comes when: The input size is dynamic and the order of the input matters a lot."
   ]
  },
  {
   "cell_type": "markdown",
   "id": "79c6b93f",
   "metadata": {},
   "source": [
    "# Define Sequential Data"
   ]
  },
  {
   "cell_type": "markdown",
   "id": "50cce302",
   "metadata": {},
   "source": [
    "Just to make sure we are on the same page, sequential data is a data that:"
   ]
  },
  {
   "cell_type": "markdown",
   "id": "fb49a03a",
   "metadata": {},
   "source": [
    "So several things that are NOT sequential data are:"
   ]
  },
  {
   "cell_type": "markdown",
   "id": "2cb4982d",
   "metadata": {},
   "source": [
    "So again, sequential data is more needed when we’re concern about the order of the data, and the data can be in any length"
   ]
  },
  {
   "cell_type": "markdown",
   "id": "86db58d3",
   "metadata": {},
   "source": [
    "# Intuition of RNN"
   ]
  },
  {
   "cell_type": "markdown",
   "id": "95d830a9",
   "metadata": {},
   "source": [
    "Let’s say we have the following recursive rule:"
   ]
  },
  {
   "cell_type": "markdown",
   "id": "e33b7cdc",
   "metadata": {},
   "source": [
    "\\[\n",
    "f(x) = \\begin{cases}\n",
    "f(x - 1) / 2 & \\text{if $x$ is prime} \\\\\n",
    "f(x - 1) + 2 & \\text{if $x$ is even} \\\\\n",
    "f(x - 1) * 2 & \\text{if $x$ is odd} \\\\\n",
    "1 & \\text{if $x$ <= 0}\n",
    "\\end{cases}\n",
    "\\]"
   ]
  },
  {
   "cell_type": "markdown",
   "id": "f1d12703",
   "metadata": {},
   "source": [
    "So, the value of \\(f(x)\\) depends on the value of \\(f(x-1)\\)"
   ]
  },
  {
   "cell_type": "markdown",
   "id": "02eeb8df",
   "metadata": {},
   "source": [
    "… and the value of \\(f(x-1)\\) depends on the value of \\(f(x-2)\\),"
   ]
  },
  {
   "cell_type": "markdown",
   "id": "ec9ca65d",
   "metadata": {},
   "source": [
    "… and so on."
   ]
  },
  {
   "cell_type": "markdown",
   "id": "c6a9f092",
   "metadata": {},
   "source": [
    "So the value of \\(f(x)\\) depends on the value of \\(f(x-1)\\), \\(f(x-2)\\), \\(f(x-3)\\), and so on."
   ]
  },
  {
   "cell_type": "markdown",
   "id": "c2b1e38a",
   "metadata": {},
   "source": [
    "If we plot that equation, we will get the following graph:"
   ]
  },
  {
   "cell_type": "code",
   "execution_count": null,
   "id": "e6d1c1e6",
   "metadata": {},
   "outputs": [],
   "source": [
    "import math\n",
    "\n",
    "def is_prime(x):\n",
    "    if x < 2:\n",
    "        return False\n",
    "    for i in range(2, int(math.sqrt(x))):\n",
    "        if x % i == 0:\n",
    "            return False\n",
    "    return True\n",
    "\n",
    "def f(x):\n",
    "    if x <= 0:\n",
    "        return 1\n",
    "    elif is_prime(x):\n",
    "        return f(x - 1) / 2\n",
    "    elif x % 2 == 0:\n",
    "        return f(x - 1) + 2\n",
    "    else:\n",
    "        return f(x - 1) * 2\n",
    "\n",
    "# draw f(x)\n",
    "import matplotlib.pyplot as plt\n",
    "import numpy as np\n",
    "\n",
    "x = np.arange(0, 200, 1)\n",
    "y = [f(i) for i in x]\n",
    "plt.plot(x, y)\n",
    "plt.show()"
   ]
  },
  {
   "cell_type": "markdown",
   "id": "5d873257",
   "metadata": {},
   "source": []
  },
  {
   "cell_type": "markdown",
   "id": "83f1e141",
   "metadata": {},
   "source": [
    "Here, we can see that the value of \\(f(x)\\) depends on the value of \\(f(x-1)\\), \\(f(x-2)\\), \\(f(x-3)\\), and so on."
   ]
  },
  {
   "cell_type": "markdown",
   "id": "07a6f3ee",
   "metadata": {},
   "source": [
    "So, the value of \\(f(x)\\) depends on the previous values of \\(f(x)\\)."
   ]
  },
  {
   "cell_type": "markdown",
   "id": "33351cee",
   "metadata": {},
   "source": [
    "RNN is a neural network that can handle this kind of problem, where the value of the current input depends on the previous input."
   ]
  },
  {
   "cell_type": "markdown",
   "id": "226069df",
   "metadata": {},
   "source": [
    "Other example is in the text completion problem. Let’s say we have the following text:"
   ]
  },
  {
   "cell_type": "code",
   "execution_count": null,
   "id": "9fedc462",
   "metadata": {},
   "outputs": [],
   "source": [
    "I love spicy food, I love to eat Nasi"
   ]
  },
  {
   "cell_type": "markdown",
   "id": "6b880e1d",
   "metadata": {},
   "source": [
    "If we want to predict the next word, we need to consider the previous words. If we only consider the word Nasi, we can’t predict the next word. But if we consider the previous words, we can predict the next word is Goreng. So the value of the current input depends on the previous input."
   ]
  },
  {
   "cell_type": "markdown",
   "id": "463249c7",
   "metadata": {},
   "source": [
    "# RNN"
   ]
  },
  {
   "cell_type": "markdown",
   "id": "31fd2565",
   "metadata": {},
   "source": []
  },
  {
   "cell_type": "markdown",
   "id": "dfa27390",
   "metadata": {},
   "source": [
    "The main idea of RNN is that every input is learned one step at a time, such as:"
   ]
  },
  {
   "cell_type": "markdown",
   "id": "9047fb59",
   "metadata": {},
   "source": [
    "\\[\n",
    "1, 1, 2, 3, 5, 8, 13, 21, 34, 55, ...\n",
    "\\]"
   ]
  },
  {
   "cell_type": "markdown",
   "id": "013d0a8a",
   "metadata": {},
   "source": [
    "Can you guess what is the next number in the sequence?"
   ]
  },
  {
   "cell_type": "markdown",
   "id": "5cf0e539",
   "metadata": {},
   "source": [
    "# Mapping our intuition to RNN"
   ]
  },
  {
   "cell_type": "markdown",
   "id": "adeb081c",
   "metadata": {},
   "source": [
    "Now let’s try to map our intuition to RNN."
   ]
  },
  {
   "cell_type": "markdown",
   "id": "7782455e",
   "metadata": {},
   "source": []
  },
  {
   "cell_type": "markdown",
   "id": "f25fac90",
   "metadata": {},
   "source": [
    "# Notes"
   ]
  },
  {
   "cell_type": "markdown",
   "id": "20a30421",
   "metadata": {},
   "source": []
  },
  {
   "cell_type": "markdown",
   "id": "42b0d3d6",
   "metadata": {},
   "source": [
    "# Different types of neural network based on sequencial data"
   ]
  },
  {
   "cell_type": "markdown",
   "id": "9ad19aaf",
   "metadata": {},
   "source": [
    "There are several types of RNN that concern with the variation of how the input and output is processed:"
   ]
  },
  {
   "cell_type": "markdown",
   "id": "18ef6540",
   "metadata": {},
   "source": [
    " > Source image: https://karpathy.github.io/2015/05/21/rnn-effectiveness/"
   ]
  },
  {
   "cell_type": "markdown",
   "id": "f64bc530",
   "metadata": {},
   "source": [
    "# Define output"
   ]
  },
  {
   "cell_type": "markdown",
   "id": "388c01c5",
   "metadata": {},
   "source": [
    "Let’s try to understand the gist about above diagram before we dive further about the differences between the types of RNN."
   ]
  },
  {
   "cell_type": "markdown",
   "id": "9c8fa2f2",
   "metadata": {},
   "source": [
    "Our previous diagram looks like below:"
   ]
  },
  {
   "cell_type": "markdown",
   "id": "73c30875",
   "metadata": {},
   "source": []
  },
  {
   "cell_type": "markdown",
   "id": "b2e3b2ba",
   "metadata": {},
   "source": [
    "We already can understand that the input can be in variable length from our previous example, but in reality the input can be a single length as well, but RNN is used to process the output that can be in variable length. One of the example is an image captioning:"
   ]
  },
  {
   "cell_type": "markdown",
   "id": "3f506cb6",
   "metadata": {},
   "source": [
    "As we said before that image processing is often superior when not being processed as a sequence of data, but when we want to process the output of the image processing for image captioning, the output itself can be in variable length:"
   ]
  },
  {
   "cell_type": "markdown",
   "id": "d9d32cd0",
   "metadata": {},
   "source": []
  },
  {
   "cell_type": "markdown",
   "id": "0f291da2",
   "metadata": {},
   "source": [
    "If we want to caption the above image, we can say:"
   ]
  },
  {
   "cell_type": "markdown",
   "id": "11ed2851",
   "metadata": {},
   "source": [
    "a running man, walking, sunset"
   ]
  },
  {
   "cell_type": "markdown",
   "id": "4ce496ad",
   "metadata": {},
   "source": [
    "And more caption can be added, and every caption can be in variable length, and the order of the text matters (it doesn’t make sense if the caption is man a running), so this kind of task is a perfect example of a fixed input size and variable output size."
   ]
  },
  {
   "cell_type": "markdown",
   "id": "ea7be24c",
   "metadata": {},
   "source": [
    "So if we generalize further from our previous learning, is that RNN is mostly used to handle a sequence: Whether it’s a sequence of input, or a sequence of output, or both."
   ]
  },
  {
   "cell_type": "markdown",
   "id": "853a655f",
   "metadata": {},
   "source": [
    "# One to One"
   ]
  },
  {
   "cell_type": "markdown",
   "id": "9a85c14e",
   "metadata": {},
   "source": []
  },
  {
   "cell_type": "markdown",
   "id": "c707b82a",
   "metadata": {},
   "source": [
    "This is basically the traditional neural network, where the input and output is fixed and not sequential. When we classify neural network based on the sequence of the input and output, one of them will be fall into this category: when there isn’t any sequence at all."
   ]
  },
  {
   "cell_type": "markdown",
   "id": "b1d50682",
   "metadata": {},
   "source": [
    "# One to many"
   ]
  },
  {
   "cell_type": "markdown",
   "id": "f4f52352",
   "metadata": {},
   "source": []
  },
  {
   "cell_type": "markdown",
   "id": "097b69e6",
   "metadata": {},
   "source": [
    "This is the type of neural network where the input is fixed, but the output is sequential. One of the example is already explained above, where the input is an image, and the output is a caption of the image."
   ]
  },
  {
   "cell_type": "markdown",
   "id": "1586ed03",
   "metadata": {},
   "source": [
    "Another example is when we have fixed input for a user recommendation, maybe by default we have the personality of a student in our learning application, we want to make sure that this user is going through every recommendation step by step as we want to make sure that the user is learning the material in the right order. For example:"
   ]
  },
  {
   "cell_type": "markdown",
   "id": "208e3635",
   "metadata": {},
   "source": [
    "Then the recommendation will be:"
   ]
  },
  {
   "cell_type": "markdown",
   "id": "f5a3e555",
   "metadata": {},
   "source": [
    "You can see that the input is fixed, only 3 data, but the output is sequential, we need the student to follow the roadmap and not skipping any step, and the sequence can be different from one student to another student, so this is a perfect example of one to many sequence."
   ]
  },
  {
   "cell_type": "markdown",
   "id": "83431520",
   "metadata": {},
   "source": [
    "# Many to one"
   ]
  },
  {
   "cell_type": "markdown",
   "id": "9baa1a5b",
   "metadata": {},
   "source": []
  },
  {
   "cell_type": "markdown",
   "id": "d56bafba",
   "metadata": {},
   "source": [
    "Many to one can be explained using our existing diagram: where the input is sequence of data from the stock price, and the output is the summary of the data, whether it’s “profit”, “loss”, “major profit”, “major loss”, or “normal”."
   ]
  },
  {
   "cell_type": "markdown",
   "id": "9e02103e",
   "metadata": {},
   "source": [
    "Another example is in the sentiment analysis, where the input is a sequence of words, and the output is the sentiment of the text, whether it’s positive or negative."
   ]
  },
  {
   "cell_type": "markdown",
   "id": "12c16947",
   "metadata": {},
   "source": [
    "# Many to many"
   ]
  },
  {
   "cell_type": "markdown",
   "id": "ae94794a",
   "metadata": {},
   "source": []
  },
  {
   "cell_type": "markdown",
   "id": "72ba24a4",
   "metadata": {},
   "source": [
    "This is the type of neural network where the input and output is sequential but the length of the input and output should be the same. The example is in POS tagging, where the input is a sentence, and the output is the part of speech of each word in the sentence:"
   ]
  },
  {
   "cell_type": "markdown",
   "id": "e83c5cb9",
   "metadata": {},
   "source": [
    "“I am learning RNN”"
   ]
  },
  {
   "cell_type": "markdown",
   "id": "094cb25a",
   "metadata": {},
   "source": [
    "Output: “Pronoun Verb Verb Noun”"
   ]
  },
  {
   "cell_type": "markdown",
   "id": "4b26c30a",
   "metadata": {},
   "source": [
    "As we can see above, the length of the input is 4, and the length of the output is 4 as well. The input and output is sequential, but the length of the input and output is the same."
   ]
  },
  {
   "cell_type": "markdown",
   "id": "452e3c9d",
   "metadata": {},
   "source": [
    "# Encoder Decoder"
   ]
  },
  {
   "cell_type": "markdown",
   "id": "2596549d",
   "metadata": {},
   "source": []
  },
  {
   "cell_type": "markdown",
   "id": "419f6149",
   "metadata": {},
   "source": [
    "If we want to have a different length of input and output, encoder-decoder RNN. We’ll cover for this deeply in the next section, but we’ll cover it briefly here."
   ]
  },
  {
   "cell_type": "markdown",
   "id": "6f40ca5a",
   "metadata": {},
   "source": [
    "Basically, the encoder-decoder RNN is a combination of two RNN, where the first RNN is many to one, and the second RNN is one to many. The first RNN is called the encoder, and the second RNN is called the decoder, encoder-decoder. From the high level, the encoder is used to encode the input into a fixed length vector which represent what the encoder understand from the input, and the decoder is used to decode the fixed length vector into a sequence of output."
   ]
  },
  {
   "cell_type": "markdown",
   "id": "671b6096",
   "metadata": {},
   "source": [
    "One example that we’ll delve in later is using encoder-decoder RNN for machine translation, for chatbot, etc. Other example would be using encoder-decoder RNN for audio to text, where the input is a sequence of audio that can be in any length, and the output is a sequence of text that can be in any length as well, using encoder-decoder RNN will enable RNN to not having to worry about the length of the input different from the length of the output."
   ]
  },
  {
   "cell_type": "markdown",
   "id": "00ca9cab",
   "metadata": {},
   "source": [
    "# Weight between previous hidden state and RNN cell"
   ]
  },
  {
   "cell_type": "markdown",
   "id": "4e738e54",
   "metadata": {},
   "source": [
    "Below diagram is the basic math for RNN calculation:"
   ]
  },
  {
   "cell_type": "markdown",
   "id": "1f552f50",
   "metadata": {},
   "source": []
  },
  {
   "cell_type": "markdown",
   "id": "d7c09359",
   "metadata": {},
   "source": [
    "Image source: https://medium.com/@saurabh.rathor092/simple-rnn-vs-gru-vs-lstm-difference-lies-in-more-flexible-control-5f33e07b1e57"
   ]
  },
  {
   "cell_type": "markdown",
   "id": "96495c4a",
   "metadata": {},
   "source": [
    "When translating above to math formula, we can get:"
   ]
  },
  {
   "cell_type": "markdown",
   "id": "bb694313",
   "metadata": {},
   "source": [
    "\\[\n",
    "currentState = activationFunction(inputWeight * currentInput + hiddenStateWeight * previousHiddenState + bias)\n",
    "\\]"
   ]
  },
  {
   "cell_type": "markdown",
   "id": "447c7c77",
   "metadata": {},
   "source": [
    "Where: - currentState is the current hidden state that we want to calculate and activationFunction is a function like tanh or ReLU, - currentInput is calculated with inputWeight, - previousHiddenState is calculated with hiddenStateWeight, - bias is the bias of the current hidden state."
   ]
  },
  {
   "cell_type": "markdown",
   "id": "951f301c",
   "metadata": {},
   "source": [
    "# Backpropagation Through Time"
   ]
  },
  {
   "cell_type": "markdown",
   "id": "e9a6c3a6",
   "metadata": {},
   "source": []
  },
  {
   "cell_type": "markdown",
   "id": "0728ef87",
   "metadata": {},
   "source": [
    "The concept of backpropagation through time is the same as backpropagation in traditional neural network, but the difference is that the backpropagation is done through across the time steps."
   ]
  },
  {
   "cell_type": "markdown",
   "id": "f31d7856",
   "metadata": {},
   "source": [
    "So the intuition is that we are backpropagating the last output layer first (fully connected layer), then running back across the last time step, and then backpropagating to the previous time step before that, and so on until the first time step, then we backpropagate the input layer. This of course if we’re talking about many to one RNN."
   ]
  },
  {
   "cell_type": "markdown",
   "id": "01c12692",
   "metadata": {},
   "source": [
    "The other RNN architecture will have the same kind of intuition, but the backpropagation will be done at each of the time steps, start from the fully connected layer, then the RNN cell, and then the input layer, and then the backpropagation will be done across the time steps backwards until the first time step."
   ]
  }
 ],
 "metadata": {},
 "nbformat": 4,
 "nbformat_minor": 5
}
