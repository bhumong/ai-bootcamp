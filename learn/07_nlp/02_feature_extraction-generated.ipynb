{
 "cells": [
  {
   "cell_type": "markdown",
   "id": "d266d4d4",
   "metadata": {},
   "source": [
    "source: [link](https://ai-bootcamp.ruangguru.com/learn/07_nlp/02_feature_extraction.html)"
   ]
  },
  {
   "cell_type": "markdown",
   "id": "14a901fa",
   "metadata": {},
   "source": [
    "# Feature extraction"
   ]
  },
  {
   "cell_type": "code",
   "execution_count": null,
   "id": "ab074026",
   "metadata": {},
   "outputs": [],
   "source": [
    "!pip install gensim\n",
    "!pip install transformers"
   ]
  },
  {
   "cell_type": "markdown",
   "id": "a7777895",
   "metadata": {},
   "source": [
    "In the previous session, we already getting teased at the concept of how our model can know which word is positive, and which is negative. When we’re working on a sentiment classification task with Naive Bayes, there is one step before we can pushed our input to Naive Bayes classifier: Feature extraction."
   ]
  },
  {
   "cell_type": "markdown",
   "id": "6b2ea1c7",
   "metadata": {},
   "source": [
    "Feature extraction, like what we might’ve done on previous architecture like CNN, is a way to shape our features so our model can learn. In NLP it’s basically converting our input of sentences to numbers."
   ]
  },
  {
   "cell_type": "markdown",
   "id": "8e929d39",
   "metadata": {},
   "source": [
    "Feature extraction can be viewed like word embedding but a lot more simpler, which we’ll learn the difference later in “Word embedding section”"
   ]
  },
  {
   "cell_type": "markdown",
   "id": "753c1af1",
   "metadata": {},
   "source": [
    "# Sheets for the math intution"
   ]
  },
  {
   "cell_type": "markdown",
   "id": "7e7ec628",
   "metadata": {},
   "source": []
  },
  {
   "cell_type": "markdown",
   "id": "7c956a8c",
   "metadata": {},
   "source": [
    "![Image](https://ik.imagekit.io/ffr6l4jaf5t/REA%20AI/image_SG9wtLLnk.png?updatedAt=1695362767430)"
   ]
  },
  {
   "cell_type": "markdown",
   "id": "61aa9b53",
   "metadata": {},
   "source": [
    "For our learning we’ll use this sheets to make us learn the math intuition behind what we’ll learn later faster."
   ]
  },
  {
   "cell_type": "markdown",
   "id": "afbd5c7f",
   "metadata": {},
   "source": [
    "https://docs.google.com/spreadsheets/d/1aGhICbKMUvzXjvHKd69sy0-cBdNqfcCMuz27AOLqZh8/edit?usp=sharing"
   ]
  },
  {
   "cell_type": "markdown",
   "id": "b8d86d70",
   "metadata": {},
   "source": [
    "# Bag-Of-Words"
   ]
  },
  {
   "cell_type": "markdown",
   "id": "0c69e0ae",
   "metadata": {},
   "source": [
    "Bag-of-words is a way to convert our tokenized input to matrix of numbers. The concept is really simple: Every word is having their own dimension in the matrix and for every sentence in our tokenized dataset will be converted to that matrix by counting how many times the word is occured on that sentenced."
   ]
  },
  {
   "cell_type": "markdown",
   "id": "857c4797",
   "metadata": {},
   "source": [
    "It’s really simple when we’re seeing the example:"
   ]
  },
  {
   "cell_type": "markdown",
   "id": "f3511958",
   "metadata": {},
   "source": []
  },
  {
   "cell_type": "markdown",
   "id": "416ac450",
   "metadata": {},
   "source": [
    "![Image](https://ik.imagekit.io/ffr6l4jaf5t/REA%20AI/image_HTrrXdT43.png?updatedAt=1695363358969)"
   ]
  },
  {
   "cell_type": "markdown",
   "id": "cb01e1d3",
   "metadata": {},
   "source": [
    "So for every word in our training set, it will have their own dedicated dimensions, and we just count in every sentence on how many each words occured."
   ]
  },
  {
   "cell_type": "markdown",
   "id": "ca2a2c41",
   "metadata": {},
   "source": [
    "In reality, we can just pushed above scores right to Naive Bayes classifier, but we can too learn a simple update from BoW that can help Naive Bayes works better. The “upgraded from BoW” feature extraction method name is TF-IDF."
   ]
  },
  {
   "cell_type": "markdown",
   "id": "87ef791b",
   "metadata": {},
   "source": [
    "# TF-IDF"
   ]
  },
  {
   "cell_type": "markdown",
   "id": "e52c5ac9",
   "metadata": {},
   "source": [
    "Let’s break the name first so we can unmythified this “scary” term."
   ]
  },
  {
   "cell_type": "markdown",
   "id": "59c71588",
   "metadata": {},
   "source": [
    "TF - Term Frequency IDF - Inverse Document Frequency"
   ]
  },
  {
   "cell_type": "markdown",
   "id": "1b898379",
   "metadata": {},
   "source": [
    "TF, term frequency, is basically bag-of-words, we count how frequent the term is being use in a single document, basically? Bag-of-words"
   ]
  },
  {
   "cell_type": "markdown",
   "id": "50587668",
   "metadata": {},
   "source": [
    "IDF is where the twist is: If a term is being used so often in the whole dataset, it will lower the score of that words."
   ]
  },
  {
   "cell_type": "markdown",
   "id": "2509b029",
   "metadata": {},
   "source": [
    "I really like your performance on that stage, your words is so mesmerizing!"
   ]
  },
  {
   "cell_type": "markdown",
   "id": "06677ae3",
   "metadata": {},
   "source": [
    "I don’t like pineapple on pizza, the idea of it even not sounding too exciting"
   ]
  },
  {
   "cell_type": "markdown",
   "id": "c85fa400",
   "metadata": {},
   "source": [
    "If we’re already removing stopwords, the concept of TF-IDF will help you further finding the “neutral” words that won’t help on your text classification tasks. Just like the word “I” won’t help on our sentiment classification task, but might be not be removed by our stopwords removal process as it’s generally can be use for another task."
   ]
  },
  {
   "cell_type": "markdown",
   "id": "907c39b6",
   "metadata": {},
   "source": [
    "TF-IDF helps us let the model know which words should be higher in their scoring towards classification."
   ]
  },
  {
   "cell_type": "markdown",
   "id": "ad77fc19",
   "metadata": {},
   "source": [
    "The term “inverse” in IDF itself is basically because we’re inversing the quantity: If a word comes too many times, the score would be lower."
   ]
  },
  {
   "cell_type": "markdown",
   "id": "9c312ede",
   "metadata": {},
   "source": [
    "# TF-IDF Math"
   ]
  },
  {
   "cell_type": "markdown",
   "id": "8bcf3577",
   "metadata": {},
   "source": []
  },
  {
   "cell_type": "markdown",
   "id": "21c245a7",
   "metadata": {},
   "source": [
    "![Image](https://ik.imagekit.io/ffr6l4jaf5t/REA%20AI/image_xGBPsufXt.png?updatedAt=1695317984944)"
   ]
  },
  {
   "cell_type": "markdown",
   "id": "ea68d7a2",
   "metadata": {},
   "source": [
    "For our TF-IDF learning we’ll use previous dataset that we use for our Bag-of-words, and let’s see how TF-IDF will help us reducing importance of the word “I’m” as it’s keep occuring throughout the whole dataset."
   ]
  },
  {
   "cell_type": "markdown",
   "id": "736123f5",
   "metadata": {},
   "source": [
    "# IDF calculation"
   ]
  },
  {
   "cell_type": "markdown",
   "id": "fef3d2d8",
   "metadata": {},
   "source": []
  },
  {
   "cell_type": "markdown",
   "id": "ee5d412e",
   "metadata": {},
   "source": [
    "![Image](https://ik.imagekit.io/ffr6l4jaf5t/REA%20AI/image_SmK9SlPhX.png?updatedAt=1695319110470)"
   ]
  },
  {
   "cell_type": "markdown",
   "id": "5b6fcaa3",
   "metadata": {},
   "source": [
    "The IDF calculation for a feature is as simple as:"
   ]
  },
  {
   "cell_type": "code",
   "execution_count": null,
   "id": "e0e886c3",
   "metadata": {},
   "outputs": [],
   "source": [
    " ln(Total number of documents (datasets) / Number of documents with the feature in it)"
   ]
  },
  {
   "cell_type": "markdown",
   "id": "db214bbc",
   "metadata": {},
   "source": [
    "After you do above steps for every single feature, you can see IDF score."
   ]
  },
  {
   "cell_type": "markdown",
   "id": "466162ec",
   "metadata": {},
   "source": [
    "# TF-IDF = TF x IDF"
   ]
  },
  {
   "cell_type": "markdown",
   "id": "84dc331e",
   "metadata": {},
   "source": []
  },
  {
   "cell_type": "markdown",
   "id": "4ec1108e",
   "metadata": {},
   "source": [
    "![Image](https://ik.imagekit.io/ffr6l4jaf5t/REA%20AI/image_FleZfOk9F.png?updatedAt=1695320198870)"
   ]
  },
  {
   "cell_type": "markdown",
   "id": "60133d92",
   "metadata": {},
   "source": [
    "The TF-IDF then can be calculated by simply multiplying the TF for all the inputs to the IDF. Then we’ll see below score"
   ]
  },
  {
   "cell_type": "markdown",
   "id": "b10d4a4a",
   "metadata": {},
   "source": []
  },
  {
   "cell_type": "markdown",
   "id": "394cf2c8",
   "metadata": {},
   "source": [
    "![Image](https://ik.imagekit.io/ffr6l4jaf5t/REA%20AI/image_M9prAVdJQn.png?updatedAt=1695320869332)"
   ]
  },
  {
   "cell_type": "markdown",
   "id": "c22d2503",
   "metadata": {},
   "source": [
    "As we can see above that words like “I’m”, because it’s seen basically in every dataset, using this to analyze the sentiment won’t be useful. As for other words they’re now prioritized by their occurence."
   ]
  },
  {
   "cell_type": "markdown",
   "id": "5d342940",
   "metadata": {},
   "source": [
    "Words like “feeling” get higher value than “excited”, simply because our limited dataset has it less than word “excited”. So, for words like this that rarely occured but in reality shouldn’t affect a sentiment, our classification system should move forward to the next step: Using Naive Bayes."
   ]
  },
  {
   "cell_type": "markdown",
   "id": "6cf24bea",
   "metadata": {},
   "source": [
    "# Naive bayes classifier"
   ]
  },
  {
   "cell_type": "markdown",
   "id": "f4e4e318",
   "metadata": {},
   "source": [
    "Naive bayes is one of the most simplest way to do a text classification without neural network. The concept is pretty much like what our intuitions: Finding words that can give hints towards any classification, while shouldn’t give any classification to “neutral words” (words that shouldn’t giving hints towards any classification)."
   ]
  },
  {
   "cell_type": "markdown",
   "id": "01b91f55",
   "metadata": {},
   "source": []
  },
  {
   "cell_type": "markdown",
   "id": "bb9b0cc3",
   "metadata": {},
   "source": [
    "![Image](https://ik.imagekit.io/ffr6l4jaf5t/REA%20AI/image_ApIHWVTZc.png?updatedAt=1695355604042)"
   ]
  },
  {
   "cell_type": "markdown",
   "id": "fe062389",
   "metadata": {},
   "source": [
    "The operation is simple for"
   ]
  },
  {
   "cell_type": "markdown",
   "id": "c716b92e",
   "metadata": {},
   "source": []
  },
  {
   "cell_type": "markdown",
   "id": "45f8d8c8",
   "metadata": {},
   "source": [
    "![Image](https://ik.imagekit.io/ffr6l4jaf5t/REA%20AI/image_8hwRd_gMH.png?updatedAt=1695355900645)"
   ]
  },
  {
   "cell_type": "markdown",
   "id": "f3a56440",
   "metadata": {},
   "source": [
    "Then we can divide the end score with the percentage of how many is the dataset of every classification is when compared to the total of the entire dataset. As for our current dataset we have 50% data on “positive” sentiment, and 50% data on “negative” sentiment (balanced dataset)."
   ]
  },
  {
   "cell_type": "markdown",
   "id": "1696860c",
   "metadata": {},
   "source": []
  },
  {
   "cell_type": "markdown",
   "id": "7cc6f156",
   "metadata": {},
   "source": [
    "![Image](https://ik.imagekit.io/ffr6l4jaf5t/REA%20AI/image_rddLANhSv.png?updatedAt=1695356383816)"
   ]
  },
  {
   "cell_type": "markdown",
   "id": "3bb2a404",
   "metadata": {},
   "source": [
    "As you can see above using “Naive bayes classifier” we can get every words that are can hint that a sentiment is positive, negative, or neutral."
   ]
  },
  {
   "cell_type": "markdown",
   "id": "1c52e3a3",
   "metadata": {},
   "source": [
    "Positive words would have higher score on the positive sentiment, negative words would have higher score on the negative sentiment, neutral words would have similar (or if there are difference, the difference won’t be significant) score both on positive and negative."
   ]
  },
  {
   "cell_type": "markdown",
   "id": "897d9bc0",
   "metadata": {},
   "source": [
    "# Let’s input our data!"
   ]
  },
  {
   "cell_type": "markdown",
   "id": "71eeaa92",
   "metadata": {},
   "source": [
    "We can now try to input a sentence that our Naive Bayes never seen before:"
   ]
  },
  {
   "cell_type": "markdown",
   "id": "56601c0d",
   "metadata": {},
   "source": [
    "I’m feeling really sad"
   ]
  },
  {
   "cell_type": "markdown",
   "id": "fceb8121",
   "metadata": {},
   "source": [
    "The steps is as simple as extract our features to something like below:"
   ]
  },
  {
   "cell_type": "markdown",
   "id": "d72f7705",
   "metadata": {},
   "source": []
  },
  {
   "cell_type": "markdown",
   "id": "b9b856e6",
   "metadata": {},
   "source": [
    "![Image](https://ik.imagekit.io/ffr6l4jaf5t/REA%20AI/image_4RVkRT6-z.png?updatedAt=1695357154011)"
   ]
  },
  {
   "cell_type": "markdown",
   "id": "1bf9673f",
   "metadata": {},
   "source": [
    "Then after that we multiply with our TF-IDF for each classification, then we’ll get the score for each of word existing in our input."
   ]
  },
  {
   "cell_type": "markdown",
   "id": "cb31ded0",
   "metadata": {},
   "source": []
  },
  {
   "cell_type": "markdown",
   "id": "3239cb45",
   "metadata": {},
   "source": [
    "![Image](https://ik.imagekit.io/ffr6l4jaf5t/REA%20AI/image_sLQhz1jy8.png?updatedAt=1695361458532)"
   ]
  },
  {
   "cell_type": "markdown",
   "id": "9869609e",
   "metadata": {},
   "source": [
    "After that to know what classification is our sentence is classified into according to our Naive Bayes we can just sum the per feature scores to a single score for each classsification."
   ]
  },
  {
   "cell_type": "markdown",
   "id": "4cf63494",
   "metadata": {},
   "source": []
  },
  {
   "cell_type": "markdown",
   "id": "49fbd7fc",
   "metadata": {},
   "source": [
    "![Image](https://ik.imagekit.io/ffr6l4jaf5t/REA%20AI/image__XiuEBA_s.png?updatedAt=1695361865254)"
   ]
  },
  {
   "cell_type": "markdown",
   "id": "349fe442",
   "metadata": {},
   "source": [
    "So according to our Naive Bayes, the sentence “I’m feeling really sad”, classified into negative sentiment 💥."
   ]
  },
  {
   "cell_type": "markdown",
   "id": "0b1aabf0",
   "metadata": {},
   "source": [
    "# The “naive” part of “naive bayes”"
   ]
  },
  {
   "cell_type": "markdown",
   "id": "d63e3781",
   "metadata": {},
   "source": [
    "Naive bayes called naive because it’s “naively” consider that every word is independent of each other."
   ]
  },
  {
   "cell_type": "markdown",
   "id": "d7b045da",
   "metadata": {},
   "source": [
    "Naive bayes will treat every word as independent, meaning it can’t really “negate” above “happy” word to “not happy”, as it doesn’t really understand between more than a single feature (it can’t create relation between “not” and “happy”, and can’t create conclusion that the word “not” meant to negate the “happy” word)."
   ]
  },
  {
   "cell_type": "markdown",
   "id": "7184df8b",
   "metadata": {},
   "source": [
    "There are of course other classification method other than “Naive bayes”, even our feature extraction can be improved with more complex method that can somewhat make relation between one word and another without using deep learning."
   ]
  },
  {
   "cell_type": "markdown",
   "id": "117a230a",
   "metadata": {},
   "source": [
    "But in the end, machine learning without deep learning will make us harder to make sure our model understand context, and relations, between words. This is the part where neural networks really excels at when handling NLP: Understanding complex pattern of human words and also acting upon it."
   ]
  },
  {
   "cell_type": "markdown",
   "id": "b6eb494a",
   "metadata": {},
   "source": [
    "As we can see when learning “Naive Bayes”, without neural network it’s really hard to make a model really understand pattern."
   ]
  },
  {
   "cell_type": "markdown",
   "id": "73029615",
   "metadata": {},
   "source": [
    "So let’s try to upgrade our understanding and move on to NLP using deep learning!"
   ]
  }
 ],
 "metadata": {},
 "nbformat": 4,
 "nbformat_minor": 5
}
