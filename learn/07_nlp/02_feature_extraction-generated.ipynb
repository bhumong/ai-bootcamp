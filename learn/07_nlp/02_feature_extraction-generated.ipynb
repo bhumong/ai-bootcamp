{
 "cells": [
  {
   "cell_type": "markdown",
   "id": "b9c2aa38",
   "metadata": {},
   "source": [
    "source: [link](https://ai-bootcamp.ruangguru.com/learn/07_nlp/02_feature_extraction.html)"
   ]
  },
  {
   "cell_type": "markdown",
   "id": "5b11a7a8",
   "metadata": {},
   "source": [
    "# Feature extraction"
   ]
  },
  {
   "cell_type": "code",
   "execution_count": null,
   "id": "f5b79bd4",
   "metadata": {},
   "outputs": [],
   "source": [
    "!pip install gensim\n",
    "!pip install transformers"
   ]
  },
  {
   "cell_type": "markdown",
   "id": "309debb6",
   "metadata": {},
   "source": [
    "In the previous session, we already getting teased at the concept of how our model can know which word is positive, and which is negative. When we’re working on a sentiment classification task with Naive Bayes, there is one step before we can pushed our input to Naive Bayes classifier: Feature extraction."
   ]
  },
  {
   "cell_type": "markdown",
   "id": "d1dc8d74",
   "metadata": {},
   "source": [
    "Feature extraction, like what we might’ve done on previous architecture like CNN, is a way to shape our features so our model can learn. In NLP it’s basically converting our input of sentences to numbers."
   ]
  },
  {
   "cell_type": "markdown",
   "id": "6937eddc",
   "metadata": {},
   "source": [
    "Feature extraction can be viewed like word embedding but a lot more simpler, which we’ll learn the difference later in “Word embedding section”"
   ]
  },
  {
   "cell_type": "markdown",
   "id": "335ef64a",
   "metadata": {},
   "source": [
    "# Sheets for the math intution"
   ]
  },
  {
   "cell_type": "markdown",
   "id": "1fbca61d",
   "metadata": {},
   "source": []
  },
  {
   "cell_type": "markdown",
   "id": "35ef3cdb",
   "metadata": {},
   "source": [
    "![Image](https://ik.imagekit.io/ffr6l4jaf5t/REA%20AI/image_SG9wtLLnk.png?updatedAt=1695362767430)"
   ]
  },
  {
   "cell_type": "markdown",
   "id": "9a52da02",
   "metadata": {},
   "source": [
    "For our learning we’ll use this sheets to make us learn the math intuition behind what we’ll learn later faster."
   ]
  },
  {
   "cell_type": "markdown",
   "id": "0254d873",
   "metadata": {},
   "source": [
    "https://docs.google.com/spreadsheets/d/1aGhICbKMUvzXjvHKd69sy0-cBdNqfcCMuz27AOLqZh8/edit?usp=sharing"
   ]
  },
  {
   "cell_type": "markdown",
   "id": "cd852f81",
   "metadata": {},
   "source": [
    "# Bag-Of-Words"
   ]
  },
  {
   "cell_type": "markdown",
   "id": "ac250f0d",
   "metadata": {},
   "source": [
    "Bag-of-words is a way to convert our tokenized input to matrix of numbers. The concept is really simple: Every word is having their own dimension in the matrix and for every sentence in our tokenized dataset will be converted to that matrix by counting how many times the word is occured on that sentenced."
   ]
  },
  {
   "cell_type": "markdown",
   "id": "baf230ba",
   "metadata": {},
   "source": [
    "It’s really simple when we’re seeing the example:"
   ]
  },
  {
   "cell_type": "markdown",
   "id": "6edb26c6",
   "metadata": {},
   "source": []
  },
  {
   "cell_type": "markdown",
   "id": "3c4cb6e2",
   "metadata": {},
   "source": [
    "![Image](https://ik.imagekit.io/ffr6l4jaf5t/REA%20AI/image_HTrrXdT43.png?updatedAt=1695363358969)"
   ]
  },
  {
   "cell_type": "markdown",
   "id": "39e8b891",
   "metadata": {},
   "source": [
    "So for every word in our training set, it will have their own dedicated dimensions, and we just count in every sentence on how many each words occured."
   ]
  },
  {
   "cell_type": "markdown",
   "id": "9179526e",
   "metadata": {},
   "source": [
    "In reality, we can just pushed above scores right to Naive Bayes classifier, but we can too learn a simple update from BoW that can help Naive Bayes works better. The “upgraded from BoW” feature extraction method name is TF-IDF."
   ]
  },
  {
   "cell_type": "markdown",
   "id": "560b6233",
   "metadata": {},
   "source": [
    "# TF-IDF"
   ]
  },
  {
   "cell_type": "markdown",
   "id": "6fc833a5",
   "metadata": {},
   "source": [
    "Let’s break the name first so we can unmythified this “scary” term."
   ]
  },
  {
   "cell_type": "markdown",
   "id": "57742871",
   "metadata": {},
   "source": [
    "TF - Term Frequency IDF - Inverse Document Frequency"
   ]
  },
  {
   "cell_type": "markdown",
   "id": "df31e407",
   "metadata": {},
   "source": [
    "TF, term frequency, is basically bag-of-words, we count how frequent the term is being use in a single document, basically? Bag-of-words"
   ]
  },
  {
   "cell_type": "markdown",
   "id": "347cc768",
   "metadata": {},
   "source": [
    "IDF is where the twist is: If a term is being used so often in the whole dataset, it will lower the score of that words."
   ]
  },
  {
   "cell_type": "markdown",
   "id": "dc7ceaf7",
   "metadata": {},
   "source": [
    "> I really like your performance on that stage, your words is so mesmerizing!"
   ]
  },
  {
   "cell_type": "markdown",
   "id": "23030531",
   "metadata": {},
   "source": [
    "I really like your performance on that stage, your words is so mesmerizing!"
   ]
  },
  {
   "cell_type": "markdown",
   "id": "14088242",
   "metadata": {},
   "source": [
    "> I don’t like pineapple on pizza, the idea of it even not sounding too exciting"
   ]
  },
  {
   "cell_type": "markdown",
   "id": "f9052d72",
   "metadata": {},
   "source": [
    "I don’t like pineapple on pizza, the idea of it even not sounding too exciting"
   ]
  },
  {
   "cell_type": "markdown",
   "id": "acc5f05e",
   "metadata": {},
   "source": [
    "If we’re already removing stopwords, the concept of TF-IDF will help you further finding the “neutral” words that won’t help on your text classification tasks. Just like the word “I” won’t help on our sentiment classification task, but might be not be removed by our stopwords removal process as it’s generally can be use for another task."
   ]
  },
  {
   "cell_type": "markdown",
   "id": "30678364",
   "metadata": {},
   "source": [
    "TF-IDF helps us let the model know which words should be higher in their scoring towards classification."
   ]
  },
  {
   "cell_type": "markdown",
   "id": "4a1f0667",
   "metadata": {},
   "source": [
    "The term “inverse” in IDF itself is basically because we’re inversing the quantity: If a word comes too many times, the score would be lower."
   ]
  },
  {
   "cell_type": "markdown",
   "id": "fdbfbf14",
   "metadata": {},
   "source": [
    "# TF-IDF Math"
   ]
  },
  {
   "cell_type": "markdown",
   "id": "456743fc",
   "metadata": {},
   "source": []
  },
  {
   "cell_type": "markdown",
   "id": "823b3b35",
   "metadata": {},
   "source": [
    "![Image](https://ik.imagekit.io/ffr6l4jaf5t/REA%20AI/image_xGBPsufXt.png?updatedAt=1695317984944)"
   ]
  },
  {
   "cell_type": "markdown",
   "id": "d1de5fbf",
   "metadata": {},
   "source": [
    "For our TF-IDF learning we’ll use previous dataset that we use for our Bag-of-words, and let’s see how TF-IDF will help us reducing importance of the word “I’m” as it’s keep occuring throughout the whole dataset."
   ]
  },
  {
   "cell_type": "markdown",
   "id": "c2e1cf25",
   "metadata": {},
   "source": [
    "# IDF calculation"
   ]
  },
  {
   "cell_type": "markdown",
   "id": "c48d5806",
   "metadata": {},
   "source": []
  },
  {
   "cell_type": "markdown",
   "id": "3ecb686a",
   "metadata": {},
   "source": [
    "![Image](https://ik.imagekit.io/ffr6l4jaf5t/REA%20AI/image_SmK9SlPhX.png?updatedAt=1695319110470)"
   ]
  },
  {
   "cell_type": "markdown",
   "id": "14151547",
   "metadata": {},
   "source": [
    "The IDF calculation for a feature is as simple as:"
   ]
  },
  {
   "cell_type": "code",
   "execution_count": null,
   "id": "1e3fd87c",
   "metadata": {},
   "outputs": [],
   "source": [
    " ln(Total number of documents (datasets) / Number of documents with the feature in it)"
   ]
  },
  {
   "cell_type": "markdown",
   "id": "defa042d",
   "metadata": {},
   "source": [
    "After you do above steps for every single feature, you can see IDF score."
   ]
  },
  {
   "cell_type": "markdown",
   "id": "a09402dd",
   "metadata": {},
   "source": [
    "# TF-IDF = TF x IDF"
   ]
  },
  {
   "cell_type": "markdown",
   "id": "2d248a88",
   "metadata": {},
   "source": []
  },
  {
   "cell_type": "markdown",
   "id": "d80f1f3f",
   "metadata": {},
   "source": [
    "![Image](https://ik.imagekit.io/ffr6l4jaf5t/REA%20AI/image_FleZfOk9F.png?updatedAt=1695320198870)"
   ]
  },
  {
   "cell_type": "markdown",
   "id": "12939180",
   "metadata": {},
   "source": [
    "The TF-IDF then can be calculated by simply multiplying the TF for all the inputs to the IDF. Then we’ll see below score"
   ]
  },
  {
   "cell_type": "markdown",
   "id": "cbd49437",
   "metadata": {},
   "source": []
  },
  {
   "cell_type": "markdown",
   "id": "bf34be35",
   "metadata": {},
   "source": [
    "![Image](https://ik.imagekit.io/ffr6l4jaf5t/REA%20AI/image_M9prAVdJQn.png?updatedAt=1695320869332)"
   ]
  },
  {
   "cell_type": "markdown",
   "id": "1bd057dc",
   "metadata": {},
   "source": [
    "As we can see above that words like “I’m”, because it’s seen basically in every dataset, using this to analyze the sentiment won’t be useful. As for other words they’re now prioritized by their occurence."
   ]
  },
  {
   "cell_type": "markdown",
   "id": "669bb538",
   "metadata": {},
   "source": [
    "Words like “feeling” get higher value than “excited”, simply because our limited dataset has it less than word “excited”. So, for words like this that rarely occured but in reality shouldn’t affect a sentiment, our classification system should move forward to the next step: Using Naive Bayes."
   ]
  },
  {
   "cell_type": "markdown",
   "id": "52c8e69a",
   "metadata": {},
   "source": [
    "# Naive bayes classifier"
   ]
  },
  {
   "cell_type": "markdown",
   "id": "03ec0aca",
   "metadata": {},
   "source": [
    "Naive bayes is one of the most simplest way to do a text classification without neural network. The concept is pretty much like what our intuitions: Finding words that can give hints towards any classification, while shouldn’t give any classification to “neutral words” (words that shouldn’t giving hints towards any classification)."
   ]
  },
  {
   "cell_type": "markdown",
   "id": "1e16b188",
   "metadata": {},
   "source": []
  },
  {
   "cell_type": "markdown",
   "id": "aeaa6e36",
   "metadata": {},
   "source": [
    "![Image](https://ik.imagekit.io/ffr6l4jaf5t/REA%20AI/image_ApIHWVTZc.png?updatedAt=1695355604042)"
   ]
  },
  {
   "cell_type": "markdown",
   "id": "ac86965d",
   "metadata": {},
   "source": [
    "The operation is simple for"
   ]
  },
  {
   "cell_type": "markdown",
   "id": "f40c808b",
   "metadata": {},
   "source": []
  },
  {
   "cell_type": "markdown",
   "id": "9cac70a6",
   "metadata": {},
   "source": [
    "![Image](https://ik.imagekit.io/ffr6l4jaf5t/REA%20AI/image_8hwRd_gMH.png?updatedAt=1695355900645)"
   ]
  },
  {
   "cell_type": "markdown",
   "id": "faa7dc6c",
   "metadata": {},
   "source": [
    "Then we can divide the end score with the percentage of how many is the dataset of every classification is when compared to the total of the entire dataset. As for our current dataset we have 50% data on “positive” sentiment, and 50% data on “negative” sentiment (balanced dataset)."
   ]
  },
  {
   "cell_type": "markdown",
   "id": "c13d3f42",
   "metadata": {},
   "source": []
  },
  {
   "cell_type": "markdown",
   "id": "16c54995",
   "metadata": {},
   "source": [
    "![Image](https://ik.imagekit.io/ffr6l4jaf5t/REA%20AI/image_rddLANhSv.png?updatedAt=1695356383816)"
   ]
  },
  {
   "cell_type": "markdown",
   "id": "d4af9195",
   "metadata": {},
   "source": [
    "As you can see above using “Naive bayes classifier” we can get every words that are can hint that a sentiment is positive, negative, or neutral."
   ]
  },
  {
   "cell_type": "markdown",
   "id": "8a4542f6",
   "metadata": {},
   "source": [
    "Positive words would have higher score on the positive sentiment, negative words would have higher score on the negative sentiment, neutral words would have similar (or if there are difference, the difference won’t be significant) score both on positive and negative."
   ]
  },
  {
   "cell_type": "markdown",
   "id": "eb6cc837",
   "metadata": {},
   "source": [
    "# Let’s input our data!"
   ]
  },
  {
   "cell_type": "markdown",
   "id": "6825bf44",
   "metadata": {},
   "source": [
    "We can now try to input a sentence that our Naive Bayes never seen before:"
   ]
  },
  {
   "cell_type": "markdown",
   "id": "1c559908",
   "metadata": {},
   "source": [
    "> I’m feeling really sad"
   ]
  },
  {
   "cell_type": "markdown",
   "id": "12b4cd66",
   "metadata": {},
   "source": [
    "I’m feeling really sad"
   ]
  },
  {
   "cell_type": "markdown",
   "id": "a39f73c2",
   "metadata": {},
   "source": [
    "The steps is as simple as extract our features to something like below:"
   ]
  },
  {
   "cell_type": "markdown",
   "id": "d061eeb6",
   "metadata": {},
   "source": []
  },
  {
   "cell_type": "markdown",
   "id": "dce73747",
   "metadata": {},
   "source": [
    "![Image](https://ik.imagekit.io/ffr6l4jaf5t/REA%20AI/image_4RVkRT6-z.png?updatedAt=1695357154011)"
   ]
  },
  {
   "cell_type": "markdown",
   "id": "259d0837",
   "metadata": {},
   "source": [
    "Then after that we multiply with our TF-IDF for each classification, then we’ll get the score for each of word existing in our input."
   ]
  },
  {
   "cell_type": "markdown",
   "id": "ac8ff650",
   "metadata": {},
   "source": []
  },
  {
   "cell_type": "markdown",
   "id": "77954f48",
   "metadata": {},
   "source": [
    "![Image](https://ik.imagekit.io/ffr6l4jaf5t/REA%20AI/image_sLQhz1jy8.png?updatedAt=1695361458532)"
   ]
  },
  {
   "cell_type": "markdown",
   "id": "10939830",
   "metadata": {},
   "source": [
    "After that to know what classification is our sentence is classified into according to our Naive Bayes we can just sum the per feature scores to a single score for each classsification."
   ]
  },
  {
   "cell_type": "markdown",
   "id": "8416c1fb",
   "metadata": {},
   "source": []
  },
  {
   "cell_type": "markdown",
   "id": "1fb5e58e",
   "metadata": {},
   "source": [
    "![Image](https://ik.imagekit.io/ffr6l4jaf5t/REA%20AI/image__XiuEBA_s.png?updatedAt=1695361865254)"
   ]
  },
  {
   "cell_type": "markdown",
   "id": "3b4c1a06",
   "metadata": {},
   "source": [
    "So according to our Naive Bayes, the sentence “I’m feeling really sad”, classified into negative sentiment 💥."
   ]
  },
  {
   "cell_type": "markdown",
   "id": "aeee7627",
   "metadata": {},
   "source": [
    "# The “naive” part of “naive bayes”"
   ]
  },
  {
   "cell_type": "markdown",
   "id": "76b1a56b",
   "metadata": {},
   "source": [
    "Naive bayes called naive because it’s “naively” consider that every word is independent of each other."
   ]
  },
  {
   "cell_type": "markdown",
   "id": "52135973",
   "metadata": {},
   "source": [
    "- I am not happy because she just left me"
   ]
  },
  {
   "cell_type": "markdown",
   "id": "10faae56",
   "metadata": {},
   "source": [
    "Naive bayes will treat every word as independent, meaning it can’t really “negate” above “happy” word to “not happy”, as it doesn’t really understand between more than a single feature (it can’t create relation between “not” and “happy”, and can’t create conclusion that the word “not” meant to negate the “happy” word)."
   ]
  },
  {
   "cell_type": "markdown",
   "id": "9a1ed6f6",
   "metadata": {},
   "source": [
    "There are of course other classification method other than “Naive bayes”, even our feature extraction can be improved with more complex method that can somewhat make relation between one word and another without using deep learning."
   ]
  },
  {
   "cell_type": "markdown",
   "id": "8f0e2500",
   "metadata": {},
   "source": [
    "But in the end, machine learning without deep learning will make us harder to make sure our model understand context, and relations, between words. This is the part where neural networks really excels at when handling NLP: Understanding complex pattern of human words and also acting upon it."
   ]
  },
  {
   "cell_type": "markdown",
   "id": "0f7ae283",
   "metadata": {},
   "source": [
    "As we can see when learning “Naive Bayes”, without neural network it’s really hard to make a model really understand pattern."
   ]
  },
  {
   "cell_type": "markdown",
   "id": "0cbf33c3",
   "metadata": {},
   "source": [
    "So let’s try to upgrade our understanding and move on to NLP using deep learning!"
   ]
  }
 ],
 "metadata": {},
 "nbformat": 4,
 "nbformat_minor": 5
}
