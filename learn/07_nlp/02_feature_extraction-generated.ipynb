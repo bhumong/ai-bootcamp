{
 "cells": [
  {
   "cell_type": "markdown",
   "id": "2a2c99b9",
   "metadata": {},
   "source": [
    "source: [link](https://ai-bootcamp.ruangguru.com/learn/07_nlp/02_feature_extraction.html)"
   ]
  },
  {
   "cell_type": "markdown",
   "id": "e9fa3116",
   "metadata": {},
   "source": [
    "# Feature extraction"
   ]
  },
  {
   "cell_type": "code",
   "execution_count": null,
   "id": "754b4b2f",
   "metadata": {},
   "outputs": [],
   "source": [
    "!pip install gensim\n",
    "!pip install transformers"
   ]
  },
  {
   "cell_type": "markdown",
   "id": "87e0a431",
   "metadata": {},
   "source": [
    "In the previous session, we already getting teased at the concept of how our model can know which word is positive, and which is negative. When we’re working on a sentiment classification task with Naive Bayes, there is one step before we can pushed our input to Naive Bayes classifier: Feature extraction."
   ]
  },
  {
   "cell_type": "markdown",
   "id": "25324d03",
   "metadata": {},
   "source": [
    "Feature extraction, like what we might’ve done on previous architecture like CNN, is a way to shape our features so our model can learn. In NLP it’s basically converting our input of sentences to numbers."
   ]
  },
  {
   "cell_type": "markdown",
   "id": "f077b382",
   "metadata": {},
   "source": [
    "Feature extraction can be viewed like word embedding but a lot more simpler, which we’ll learn the difference later in “Word embedding section”"
   ]
  },
  {
   "cell_type": "markdown",
   "id": "cda9a5c3",
   "metadata": {},
   "source": [
    "# Sheets for the math intution"
   ]
  },
  {
   "cell_type": "markdown",
   "id": "b695bb82",
   "metadata": {},
   "source": []
  },
  {
   "cell_type": "markdown",
   "id": "446b5be8",
   "metadata": {},
   "source": [
    "![Image](https://ik.imagekit.io/ffr6l4jaf5t/REA%20AI/image_SG9wtLLnk.png?updatedAt=1695362767430)"
   ]
  },
  {
   "cell_type": "markdown",
   "id": "dbe0c29c",
   "metadata": {},
   "source": [
    "For our learning we’ll use this sheets to make us learn the math intuition behind what we’ll learn later faster."
   ]
  },
  {
   "cell_type": "markdown",
   "id": "008c6d1b",
   "metadata": {},
   "source": [
    "https://docs.google.com/spreadsheets/d/1aGhICbKMUvzXjvHKd69sy0-cBdNqfcCMuz27AOLqZh8/edit?usp=sharing"
   ]
  },
  {
   "cell_type": "markdown",
   "id": "f5190c11",
   "metadata": {},
   "source": [
    "# Bag-Of-Words"
   ]
  },
  {
   "cell_type": "markdown",
   "id": "c0da4bf7",
   "metadata": {},
   "source": [
    "Bag-of-words is a way to convert our tokenized input to matrix of numbers. The concept is really simple: Every word is having their own dimension in the matrix and for every sentence in our tokenized dataset will be converted to that matrix by counting how many times the word is occured on that sentenced."
   ]
  },
  {
   "cell_type": "markdown",
   "id": "e1ac0415",
   "metadata": {},
   "source": [
    "It’s really simple when we’re seeing the example:"
   ]
  },
  {
   "cell_type": "markdown",
   "id": "7af513af",
   "metadata": {},
   "source": []
  },
  {
   "cell_type": "markdown",
   "id": "6b720bf9",
   "metadata": {},
   "source": [
    "![Image](https://ik.imagekit.io/ffr6l4jaf5t/REA%20AI/image_HTrrXdT43.png?updatedAt=1695363358969)"
   ]
  },
  {
   "cell_type": "markdown",
   "id": "40af17f2",
   "metadata": {},
   "source": [
    "So for every word in our training set, it will have their own dedicated dimensions, and we just count in every sentence on how many each words occured."
   ]
  },
  {
   "cell_type": "markdown",
   "id": "8401d29a",
   "metadata": {},
   "source": [
    "In reality, we can just pushed above scores right to Naive Bayes classifier, but we can too learn a simple update from BoW that can help Naive Bayes works better. The “upgraded from BoW” feature extraction method name is TF-IDF."
   ]
  },
  {
   "cell_type": "markdown",
   "id": "59a4a0a7",
   "metadata": {},
   "source": [
    "# TF-IDF"
   ]
  },
  {
   "cell_type": "markdown",
   "id": "57c1cb36",
   "metadata": {},
   "source": [
    "Let’s break the name first so we can unmythified this “scary” term."
   ]
  },
  {
   "cell_type": "markdown",
   "id": "7325bc8b",
   "metadata": {},
   "source": [
    "TF - Term Frequency IDF - Inverse Document Frequency"
   ]
  },
  {
   "cell_type": "markdown",
   "id": "8295b18b",
   "metadata": {},
   "source": [
    "TF, term frequency, is basically bag-of-words, we count how frequent the term is being use in a single document, basically? Bag-of-words"
   ]
  },
  {
   "cell_type": "markdown",
   "id": "fe878345",
   "metadata": {},
   "source": [
    "IDF is where the twist is: If a term is being used so often in the whole dataset, it will lower the score of that words."
   ]
  },
  {
   "cell_type": "markdown",
   "id": "ffd046e9",
   "metadata": {},
   "source": [
    "I really like your performance on that stage, your words is so mesmerizing!"
   ]
  },
  {
   "cell_type": "markdown",
   "id": "f2ea2898",
   "metadata": {},
   "source": [
    "I don’t like pineapple on pizza, the idea of it even not sounding too exciting"
   ]
  },
  {
   "cell_type": "markdown",
   "id": "7a075dd9",
   "metadata": {},
   "source": [
    "If we’re already removing stopwords, the concept of TF-IDF will help you further finding the “neutral” words that won’t help on your text classification tasks. Just like the word “I” won’t help on our sentiment classification task, but might be not be removed by our stopwords removal process as it’s generally can be use for another task."
   ]
  },
  {
   "cell_type": "markdown",
   "id": "2bd5c3c0",
   "metadata": {},
   "source": [
    "TF-IDF helps us let the model know which words should be higher in their scoring towards classification."
   ]
  },
  {
   "cell_type": "markdown",
   "id": "824c3290",
   "metadata": {},
   "source": [
    "The term “inverse” in IDF itself is basically because we’re inversing the quantity: If a word comes too many times, the score would be lower."
   ]
  },
  {
   "cell_type": "markdown",
   "id": "7be21a3d",
   "metadata": {},
   "source": [
    "# TF-IDF Math"
   ]
  },
  {
   "cell_type": "markdown",
   "id": "3f641b24",
   "metadata": {},
   "source": []
  },
  {
   "cell_type": "markdown",
   "id": "9f3c7797",
   "metadata": {},
   "source": [
    "![Image](https://ik.imagekit.io/ffr6l4jaf5t/REA%20AI/image_xGBPsufXt.png?updatedAt=1695317984944)"
   ]
  },
  {
   "cell_type": "markdown",
   "id": "6af99784",
   "metadata": {},
   "source": [
    "For our TF-IDF learning we’ll use previous dataset that we use for our Bag-of-words, and let’s see how TF-IDF will help us reducing importance of the word “I’m” as it’s keep occuring throughout the whole dataset."
   ]
  },
  {
   "cell_type": "markdown",
   "id": "1ea9e374",
   "metadata": {},
   "source": [
    "# IDF calculation"
   ]
  },
  {
   "cell_type": "markdown",
   "id": "ac1d5088",
   "metadata": {},
   "source": []
  },
  {
   "cell_type": "markdown",
   "id": "04a89733",
   "metadata": {},
   "source": [
    "![Image](https://ik.imagekit.io/ffr6l4jaf5t/REA%20AI/image_SmK9SlPhX.png?updatedAt=1695319110470)"
   ]
  },
  {
   "cell_type": "markdown",
   "id": "c3109595",
   "metadata": {},
   "source": [
    "The IDF calculation for a feature is as simple as:"
   ]
  },
  {
   "cell_type": "code",
   "execution_count": null,
   "id": "e4b01a7c",
   "metadata": {},
   "outputs": [],
   "source": [
    " ln(Total number of documents (datasets) / Number of documents with the feature in it)"
   ]
  },
  {
   "cell_type": "markdown",
   "id": "6460a3aa",
   "metadata": {},
   "source": [
    "After you do above steps for every single feature, you can see IDF score."
   ]
  },
  {
   "cell_type": "markdown",
   "id": "a0cf20db",
   "metadata": {},
   "source": [
    "# TF-IDF = TF x IDF"
   ]
  },
  {
   "cell_type": "markdown",
   "id": "2ac57431",
   "metadata": {},
   "source": []
  },
  {
   "cell_type": "markdown",
   "id": "4341ead4",
   "metadata": {},
   "source": [
    "![Image](https://ik.imagekit.io/ffr6l4jaf5t/REA%20AI/image_FleZfOk9F.png?updatedAt=1695320198870)"
   ]
  },
  {
   "cell_type": "markdown",
   "id": "051b7db4",
   "metadata": {},
   "source": [
    "The TF-IDF then can be calculated by simply multiplying the TF for all the inputs to the IDF. Then we’ll see below score"
   ]
  },
  {
   "cell_type": "markdown",
   "id": "30b4e0f6",
   "metadata": {},
   "source": []
  },
  {
   "cell_type": "markdown",
   "id": "278e7c9b",
   "metadata": {},
   "source": [
    "![Image](https://ik.imagekit.io/ffr6l4jaf5t/REA%20AI/image_M9prAVdJQn.png?updatedAt=1695320869332)"
   ]
  },
  {
   "cell_type": "markdown",
   "id": "818b327c",
   "metadata": {},
   "source": [
    "As we can see above that words like “I’m”, because it’s seen basically in every dataset, using this to analyze the sentiment won’t be useful. As for other words they’re now prioritized by their occurence."
   ]
  },
  {
   "cell_type": "markdown",
   "id": "745b1a11",
   "metadata": {},
   "source": [
    "Words like “feeling” get higher value than “excited”, simply because our limited dataset has it less than word “excited”. So, for words like this that rarely occured but in reality shouldn’t affect a sentiment, our classification system should move forward to the next step: Using Naive Bayes."
   ]
  },
  {
   "cell_type": "markdown",
   "id": "902e29d2",
   "metadata": {},
   "source": [
    "# Naive bayes classifier"
   ]
  },
  {
   "cell_type": "markdown",
   "id": "0f4b04df",
   "metadata": {},
   "source": [
    "Naive bayes is one of the most simplest way to do a text classification without neural network. The concept is pretty much like what our intuitions: Finding words that can give hints towards any classification, while shouldn’t give any classification to “neutral words” (words that shouldn’t giving hints towards any classification)."
   ]
  },
  {
   "cell_type": "markdown",
   "id": "654f6b86",
   "metadata": {},
   "source": []
  },
  {
   "cell_type": "markdown",
   "id": "ba24c324",
   "metadata": {},
   "source": [
    "![Image](https://ik.imagekit.io/ffr6l4jaf5t/REA%20AI/image_ApIHWVTZc.png?updatedAt=1695355604042)"
   ]
  },
  {
   "cell_type": "markdown",
   "id": "de8a6714",
   "metadata": {},
   "source": [
    "The operation is simple for"
   ]
  },
  {
   "cell_type": "markdown",
   "id": "a3b5b320",
   "metadata": {},
   "source": []
  },
  {
   "cell_type": "markdown",
   "id": "48b0a721",
   "metadata": {},
   "source": [
    "![Image](https://ik.imagekit.io/ffr6l4jaf5t/REA%20AI/image_8hwRd_gMH.png?updatedAt=1695355900645)"
   ]
  },
  {
   "cell_type": "markdown",
   "id": "404b02cf",
   "metadata": {},
   "source": [
    "Then we can divide the end score with the percentage of how many is the dataset of every classification is when compared to the total of the entire dataset. As for our current dataset we have 50% data on “positive” sentiment, and 50% data on “negative” sentiment (balanced dataset)."
   ]
  },
  {
   "cell_type": "markdown",
   "id": "1df46f55",
   "metadata": {},
   "source": []
  },
  {
   "cell_type": "markdown",
   "id": "982f7312",
   "metadata": {},
   "source": [
    "![Image](https://ik.imagekit.io/ffr6l4jaf5t/REA%20AI/image_rddLANhSv.png?updatedAt=1695356383816)"
   ]
  },
  {
   "cell_type": "markdown",
   "id": "4a8686d7",
   "metadata": {},
   "source": [
    "As you can see above using “Naive bayes classifier” we can get every words that are can hint that a sentiment is positive, negative, or neutral."
   ]
  },
  {
   "cell_type": "markdown",
   "id": "89b33e32",
   "metadata": {},
   "source": [
    "Positive words would have higher score on the positive sentiment, negative words would have higher score on the negative sentiment, neutral words would have similar (or if there are difference, the difference won’t be significant) score both on positive and negative."
   ]
  },
  {
   "cell_type": "markdown",
   "id": "cb50396c",
   "metadata": {},
   "source": [
    "# Let’s input our data!"
   ]
  },
  {
   "cell_type": "markdown",
   "id": "6cf28826",
   "metadata": {},
   "source": [
    "We can now try to input a sentence that our Naive Bayes never seen before:"
   ]
  },
  {
   "cell_type": "markdown",
   "id": "972504cb",
   "metadata": {},
   "source": [
    "I’m feeling really sad"
   ]
  },
  {
   "cell_type": "markdown",
   "id": "47cf6264",
   "metadata": {},
   "source": [
    "The steps is as simple as extract our features to something like below:"
   ]
  },
  {
   "cell_type": "markdown",
   "id": "6cd42dae",
   "metadata": {},
   "source": []
  },
  {
   "cell_type": "markdown",
   "id": "c6d92412",
   "metadata": {},
   "source": [
    "![Image](https://ik.imagekit.io/ffr6l4jaf5t/REA%20AI/image_4RVkRT6-z.png?updatedAt=1695357154011)"
   ]
  },
  {
   "cell_type": "markdown",
   "id": "7096db8d",
   "metadata": {},
   "source": [
    "Then after that we multiply with our TF-IDF for each classification, then we’ll get the score for each of word existing in our input."
   ]
  },
  {
   "cell_type": "markdown",
   "id": "2842f082",
   "metadata": {},
   "source": []
  },
  {
   "cell_type": "markdown",
   "id": "08dbf333",
   "metadata": {},
   "source": [
    "![Image](https://ik.imagekit.io/ffr6l4jaf5t/REA%20AI/image_sLQhz1jy8.png?updatedAt=1695361458532)"
   ]
  },
  {
   "cell_type": "markdown",
   "id": "326e24a0",
   "metadata": {},
   "source": [
    "After that to know what classification is our sentence is classified into according to our Naive Bayes we can just sum the per feature scores to a single score for each classsification."
   ]
  },
  {
   "cell_type": "markdown",
   "id": "704e7386",
   "metadata": {},
   "source": []
  },
  {
   "cell_type": "markdown",
   "id": "c807ed4c",
   "metadata": {},
   "source": [
    "![Image](https://ik.imagekit.io/ffr6l4jaf5t/REA%20AI/image__XiuEBA_s.png?updatedAt=1695361865254)"
   ]
  },
  {
   "cell_type": "markdown",
   "id": "2b17adc6",
   "metadata": {},
   "source": [
    "So according to our Naive Bayes, the sentence “I’m feeling really sad”, classified into negative sentiment 💥."
   ]
  },
  {
   "cell_type": "markdown",
   "id": "a57e07d7",
   "metadata": {},
   "source": [
    "# The “naive” part of “naive bayes”"
   ]
  },
  {
   "cell_type": "markdown",
   "id": "9215ca0b",
   "metadata": {},
   "source": [
    "Naive bayes called naive because it’s “naively” consider that every word is independent of each other."
   ]
  },
  {
   "cell_type": "markdown",
   "id": "4d605e9a",
   "metadata": {},
   "source": [
    "Naive bayes will treat every word as independent, meaning it can’t really “negate” above “happy” word to “not happy”, as it doesn’t really understand between more than a single feature (it can’t create relation between “not” and “happy”, and can’t create conclusion that the word “not” meant to negate the “happy” word)."
   ]
  },
  {
   "cell_type": "markdown",
   "id": "d6050604",
   "metadata": {},
   "source": [
    "There are of course other classification method other than “Naive bayes”, even our feature extraction can be improved with more complex method that can somewhat make relation between one word and another without using deep learning."
   ]
  },
  {
   "cell_type": "markdown",
   "id": "02afa8a0",
   "metadata": {},
   "source": [
    "But in the end, machine learning without deep learning will make us harder to make sure our model understand context, and relations, between words. This is the part where neural networks really excels at when handling NLP: Understanding complex pattern of human words and also acting upon it."
   ]
  },
  {
   "cell_type": "markdown",
   "id": "6612b166",
   "metadata": {},
   "source": [
    "As we can see when learning “Naive Bayes”, without neural network it’s really hard to make a model really understand pattern."
   ]
  },
  {
   "cell_type": "markdown",
   "id": "27cfdd72",
   "metadata": {},
   "source": [
    "So let’s try to upgrade our understanding and move on to NLP using deep learning!"
   ]
  }
 ],
 "metadata": {},
 "nbformat": 4,
 "nbformat_minor": 5
}
