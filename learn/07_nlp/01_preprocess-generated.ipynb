{
 "cells": [
  {
   "cell_type": "markdown",
   "id": "24bc2b39",
   "metadata": {},
   "source": [
    "source: [link](https://ai-bootcamp.ruangguru.com/learn/07_nlp/01_preprocess.html)"
   ]
  },
  {
   "cell_type": "markdown",
   "id": "e0e9f302",
   "metadata": {},
   "source": [
    "# Preprocessing"
   ]
  },
  {
   "cell_type": "code",
   "execution_count": null,
   "id": "8081336b",
   "metadata": {},
   "outputs": [],
   "source": [
    "!pip install nltk\n",
    "!pip install transformers"
   ]
  },
  {
   "cell_type": "markdown",
   "id": "52df4b2c",
   "metadata": {},
   "source": [
    "# Overview for our first architecture - NLP Without Neural Network"
   ]
  },
  {
   "cell_type": "markdown",
   "id": "822a898e",
   "metadata": {},
   "source": [
    "For our first architecture we’ll learn how to do sentiment classification using “Naive Bayes”. We’ll delve in several key concepts of NLP that will help us later understand more complex architecture like Seq2Seq and Transformers such as Preprocessing, Word Embedding, tokenization, and more!"
   ]
  },
  {
   "cell_type": "markdown",
   "id": "dbe377bd",
   "metadata": {},
   "source": []
  },
  {
   "cell_type": "markdown",
   "id": "53f99683",
   "metadata": {},
   "source": [
    "![Image](https://ik.imagekit.io/ffr6l4jaf5t/REA%20AI/image_R2iHDwSe_.png?updatedAt=1695078679500)"
   ]
  },
  {
   "cell_type": "markdown",
   "id": "242d061c",
   "metadata": {},
   "source": [
    "As you can see on above diagram, we’ll learn the steps of asking, converting that question to numbers, and then making sure our model understand that question. For modern architecture the concept of understanding is mostly using an encoder layer, but for methods like “Naive Bayes” it’s kinda like encoder layer, but much more traditional than that."
   ]
  },
  {
   "cell_type": "markdown",
   "id": "11283668",
   "metadata": {},
   "source": [
    "> Note: “Naive Bayes” method will be covered in the next lesson. Look forward to it!"
   ]
  },
  {
   "cell_type": "markdown",
   "id": "adf2b14e",
   "metadata": {},
   "source": [
    "Note: “Naive Bayes” method will be covered in the next lesson. Look forward to it!"
   ]
  },
  {
   "cell_type": "markdown",
   "id": "dcaa6a3a",
   "metadata": {},
   "source": [
    "# Text classification"
   ]
  },
  {
   "cell_type": "markdown",
   "id": "786a04d6",
   "metadata": {},
   "source": [
    "One of the task that we can use for NLP without neural network is “Text classification”. This task is as simple as it sound: What current input should be classified to?"
   ]
  },
  {
   "cell_type": "markdown",
   "id": "0c358caa",
   "metadata": {},
   "source": [
    "For today we’ll learn how to classify a tweet if it can be count as positive tweet or negative."
   ]
  },
  {
   "cell_type": "markdown",
   "id": "10ede620",
   "metadata": {},
   "source": [
    "Imagine this tweet:"
   ]
  },
  {
   "cell_type": "markdown",
   "id": "65cc07e9",
   "metadata": {},
   "source": [
    "> I’m really excited towards tomorrow for our shop opening, see you guys at xxx!"
   ]
  },
  {
   "cell_type": "markdown",
   "id": "09afb2d2",
   "metadata": {},
   "source": [
    "I’m really excited towards tomorrow for our shop opening, see you guys at xxx!"
   ]
  },
  {
   "cell_type": "markdown",
   "id": "3ffcf5f6",
   "metadata": {},
   "source": [
    "We as a human can know from above tweet that the person who tweeted currently being positive (being excited, being happy), and so the conclusion is that above tweet is considered as a “positive tweet”."
   ]
  },
  {
   "cell_type": "markdown",
   "id": "dafc2879",
   "metadata": {},
   "source": [
    "So in our first architecture we’ll learn how we can conclude a tweet is either positive or negative by checking every word and see if there are any hints that tweet have either positive, or negative sentiment. For above tweet the hint would be the word “Excited”."
   ]
  },
  {
   "cell_type": "markdown",
   "id": "0d0c16b5",
   "metadata": {},
   "source": [
    "# Dataset"
   ]
  },
  {
   "cell_type": "markdown",
   "id": "70533709",
   "metadata": {},
   "source": [
    "For our learning to classify tweets into it’s sentiment, we will use this dataset https://www.kaggle.com/datasets/ferno2/training1600000processednoemoticoncsv. It’s a dataset of 1,6 million of tweets that’s already classified as either positive tweet for negative tweet"
   ]
  },
  {
   "cell_type": "markdown",
   "id": "4dcbeb5e",
   "metadata": {},
   "source": [
    "# Preprocessing - Cleaning noises, and consolidating words - Human part before we input to the machine"
   ]
  },
  {
   "cell_type": "markdown",
   "id": "fd0e8ef6",
   "metadata": {},
   "source": [
    "One of the place where human can “help” the machine learning model is in preprocessing. One of the task that are done in preprocessing is to make sure that our model won’t be distracted by several things that we as a human might figure out that the model shouldn’t care about, and transform several things to make sure our model can works better."
   ]
  },
  {
   "cell_type": "markdown",
   "id": "71521a81",
   "metadata": {},
   "source": [
    "When we’re working on classification (especially when working with model but without neural network), we should consider our goal when we’re looking at our dataset: What words do our model really need to consider when classifying our data."
   ]
  },
  {
   "cell_type": "markdown",
   "id": "6853f799",
   "metadata": {},
   "source": [
    "As for NLP using something like naive bayes mostly depends on understanding if a tweet contain certain words that can help it’s understanding if the tweet is either positive or negative. So there are basicallly two things that we should do before feeding our input to our model:"
   ]
  },
  {
   "cell_type": "markdown",
   "id": "b7e7460c",
   "metadata": {},
   "source": [
    "# Removing noises, which is words or characters that shouldn’t give any effect in our classification tasks."
   ]
  },
  {
   "cell_type": "markdown",
   "id": "139c0fab",
   "metadata": {},
   "source": [
    "> Example: 😃 Super excited to share my latest article!@OpenAI👀👉 http://ai.newpost.com #AI #OpenAI 😎"
   ]
  },
  {
   "cell_type": "markdown",
   "id": "00335c5f",
   "metadata": {},
   "source": [
    "Example: 😃 Super excited to share my latest article! @OpenAI 👀👉 http://ai.newpost.com #AI #OpenAI 😎"
   ]
  },
  {
   "cell_type": "markdown",
   "id": "cd479665",
   "metadata": {},
   "source": [
    "If we’re currently doing sentiment classification we might not need to include urls, mentions, hashtags, etc. If we include those into our model, our model might hint those noises as something that geared the tweet sentiment towards either positive or negative."
   ]
  },
  {
   "cell_type": "markdown",
   "id": "44b90bb9",
   "metadata": {},
   "source": [
    "Another example for sentiment classification tasks is removing stopwords. Stopwords are words that occur so frequently in sentences that they contain little meaningful information. Examples of common stopwords in the English language include: “the”, “is”, “at”, “which”, “on”."
   ]
  },
  {
   "cell_type": "markdown",
   "id": "c62030ed",
   "metadata": {},
   "source": [
    "Other things that we might considering removing is symbols like “?”, “!”, etc.as -at least when we’re not using neural network- understanding sentiment from symbols might be cout"
   ]
  },
  {
   "cell_type": "markdown",
   "id": "a5dd125e",
   "metadata": {},
   "source": [
    "# Consolidating words that have similar meaning, by removing their tenses, plurality, prefix, suffix, etc."
   ]
  },
  {
   "cell_type": "markdown",
   "id": "0d7cad23",
   "metadata": {},
   "source": [
    "Words like “Exciting” is consolidated with “excited”, “excitement”, “excite”, etc. so we can consider words that have the same root (“Exciting”, “Excited”, “Excite”, are have the same root word: “Excite”) to be processed together."
   ]
  },
  {
   "cell_type": "markdown",
   "id": "ba72c23b",
   "metadata": {},
   "source": [
    "Another thing we might consider is to lowercasing so “Exciting”, “exciting”, and “EXCITING” can be considered the same so our model won’t differentiate between those three words when learning the sentiment."
   ]
  },
  {
   "cell_type": "markdown",
   "id": "b83542dd",
   "metadata": {},
   "source": [
    "# Let’s remove all noises"
   ]
  },
  {
   "cell_type": "code",
   "execution_count": null,
   "id": "59d80693",
   "metadata": {},
   "outputs": [],
   "source": [
    "# @title Remove noises\n",
    "\n",
    "import re\n",
    "import string\n",
    "\n",
    "def remove_urls(text):\n",
    "    url_pattern = re.compile(r'https?://\\S+|www\\.\\S+')\n",
    "    return url_pattern.sub(r'', text)\n",
    "\n",
    "def remove_hashtags(text):\n",
    "    hashtag_pattern = re.compile(r'#\\S+')\n",
    "    return hashtag_pattern.sub(r'', text)\n",
    "\n",
    "def remove_mentions(text):\n",
    "    mention_pattern = re.compile(r'@\\S+')\n",
    "    return mention_pattern.sub(r'', text)\n",
    "\n",
    "def remove_emojis(text):\n",
    "    emoji_pattern = re.compile(\"[\"\n",
    "                           u\"\\U0001F600-\\U0001F64F\"  # emoticons\n",
    "                           u\"\\U0001F300-\\U0001F5FF\"  # symbols & pictographs\n",
    "                           u\"\\U0001F680-\\U0001F6FF\"  # transport & map symbols\n",
    "                           u\"\\U0001F1E0-\\U0001F1FF\"  # flags (iOS)\n",
    "                           u\"\\U00002702-\\U000027B0\"\n",
    "                           u\"\\U000024C2-\\U0001F251\"\n",
    "                           \"]+\", flags=re.UNICODE)\n",
    "    return emoji_pattern.sub(r'', text)\n",
    "\n",
    "def remove_symbols(text):\n",
    "    return text.translate(str.maketrans('', '', string.punctuation))\n",
    "\n",
    "def preprocess_sentence(text):\n",
    "    text = remove_urls(text)\n",
    "    text = remove_hashtags(text)\n",
    "    text = remove_mentions(text)\n",
    "    text = remove_emojis(text)\n",
    "    text = remove_symbols(text)  # Remove punctuation\n",
    "    return text\n",
    "\n",
    "# Example usage:\n",
    "text = \"Hey @user, check out the webpage: https://example.com. I found it awesome! 😎 #exciting\" # @param {text: \"string\"}\n",
    "print(preprocess_sentence(text))"
   ]
  },
  {
   "cell_type": "code",
   "execution_count": null,
   "id": "9c52df9e",
   "metadata": {},
   "outputs": [],
   "source": [
    "Hey  check out the webpage  I found it awesome  "
   ]
  },
  {
   "cell_type": "markdown",
   "id": "fb60ed0e",
   "metadata": {},
   "source": [
    "# Stemming and lemmatization"
   ]
  },
  {
   "cell_type": "markdown",
   "id": "810e325a",
   "metadata": {},
   "source": [
    "When consolidating words that have the same root, there are two strategies that can be used: Stemming and Lemmatization."
   ]
  },
  {
   "cell_type": "markdown",
   "id": "797ebae7",
   "metadata": {},
   "source": [
    "# Stemming"
   ]
  },
  {
   "cell_type": "markdown",
   "id": "846d20a8",
   "metadata": {},
   "source": [
    "> Exciting, excited. Happy, happiness. Sad, sadden, sadness. Worrying, worried, worry."
   ]
  },
  {
   "cell_type": "markdown",
   "id": "fbd1017e",
   "metadata": {},
   "source": [
    "Exciting, excited. Happy, happiness. Sad, sadden, sadness. Worrying, worried, worry."
   ]
  },
  {
   "cell_type": "markdown",
   "id": "1ede178b",
   "metadata": {},
   "source": [
    "The way stemming handle words consolidating is by removing the suffixes (and sometimes prefixes) of the words, leaving only the word “stem” (the part of the word that is common to all its inflected variants). It’s easier to learn by example:"
   ]
  },
  {
   "cell_type": "markdown",
   "id": "94772cb4",
   "metadata": {},
   "source": [
    "> exciting -> excit"
   ]
  },
  {
   "cell_type": "markdown",
   "id": "659d735c",
   "metadata": {},
   "source": [
    "exciting -> excit"
   ]
  },
  {
   "cell_type": "markdown",
   "id": "b72389fc",
   "metadata": {},
   "source": [
    "The unique thing about stemming is that it reduce to several characters that are unique to other words, but sometimes it doesn’t really “make sense” in the meaning of the word. As long as it can manage to group several pattern of the same words as one, lots of task can be enough to use this."
   ]
  },
  {
   "cell_type": "markdown",
   "id": "94acf4e1",
   "metadata": {},
   "source": [
    "> went != go"
   ]
  },
  {
   "cell_type": "markdown",
   "id": "b526ce06",
   "metadata": {},
   "source": [
    "went != go"
   ]
  },
  {
   "cell_type": "markdown",
   "id": "3b47381f",
   "metadata": {},
   "source": [
    "It’s only caring about reducing the words to the most basic letter that unique from other words, not caring to their synonyms, tenses, or likewise. For example “went” and “go” would be different in stem even though “went” is just a past tense of “go”"
   ]
  },
  {
   "cell_type": "markdown",
   "id": "cfb7442b",
   "metadata": {},
   "source": [
    "# Lemmatization"
   ]
  },
  {
   "cell_type": "markdown",
   "id": "76b0dba8",
   "metadata": {},
   "source": [
    "Lemmatization is different from stemming such that it emphasizes a heavy consideration for grammar rules in its approach. While both methodologies aim to reduce words to their base or root form, lemmatization performs this task by taking into account the morphological analysis of the words. This means that it understands the context and proper grammatical elements such as verb tenses, plural forms, and even gender to extract the correct linguistic base form of a word, known as ‘lemma’."
   ]
  },
  {
   "cell_type": "markdown",
   "id": "51017e36",
   "metadata": {},
   "source": [
    "> Better -> Good. Geese -> goose. Went -> Go"
   ]
  },
  {
   "cell_type": "markdown",
   "id": "cae304c4",
   "metadata": {},
   "source": [
    "Better -> Good. Geese -> goose. Went -> Go"
   ]
  },
  {
   "cell_type": "markdown",
   "id": "d52f33e3",
   "metadata": {},
   "source": [
    "As we can see from above examples, lemmatization profoundly recognizes and accurately transforms words into their dictionary or base form, considering their tenses, their plurality, and more."
   ]
  },
  {
   "cell_type": "markdown",
   "id": "60c01b7d",
   "metadata": {},
   "source": [
    "This can’t be achieved with stemming as stemming is merely “Chopping off” words rather than considering dictionary at all."
   ]
  },
  {
   "cell_type": "markdown",
   "id": "b1abda9b",
   "metadata": {},
   "source": [
    "# Quick library note: NLTK"
   ]
  },
  {
   "cell_type": "markdown",
   "id": "b95f1186",
   "metadata": {},
   "source": [
    "Going forward, we’ll use NLTK a lot. NLTK is short for Natural Language Toolkit, a python library that has a lot of functionality to work with NLP in Python. You can use this library for lots of thing such as removing stopwords, tokenizing, stemming, lemmatizing, and more. You can learn more on https://www.nltk.org/ and check what capabilities that this library has by checking https://www.nltk.org/py-modindex.html ."
   ]
  },
  {
   "cell_type": "markdown",
   "id": "3aee8204",
   "metadata": {},
   "source": [
    "# Stemming in practice"
   ]
  },
  {
   "cell_type": "code",
   "execution_count": null,
   "id": "f247c6e8",
   "metadata": {},
   "outputs": [],
   "source": [
    "#@title Stemming\n",
    "# Import the necessary libraries\n",
    "from nltk.stem import PorterStemmer\n",
    "from nltk.tokenize import word_tokenize\n",
    "import nltk\n",
    "\n",
    "# Download required datasets from nltk\n",
    "nltk.download('punkt')\n",
    "\n",
    "stemmer = PorterStemmer()\n",
    "\n",
    "text = \"The striped bats were hanging on their feet and eating best batches of juicy leeches\" #@param {type: \"string\"}\n",
    "\n",
    "# Tokenize the text\n",
    "token_list = word_tokenize(text)\n",
    "\n",
    "# Apply stemming on the tokens\n",
    "stemmed_output = ' '.join([stemmer.stem(token) for token in token_list])\n",
    "\n",
    "print(text)\n",
    "print(stemmed_output)"
   ]
  },
  {
   "cell_type": "code",
   "execution_count": null,
   "id": "1e156190",
   "metadata": {},
   "outputs": [],
   "source": [
    "[nltk_data] Downloading package punkt to /root/nltk_data...\n",
    "[nltk_data]   Unzipping tokenizers/punkt.zip."
   ]
  },
  {
   "cell_type": "code",
   "execution_count": null,
   "id": "79974619",
   "metadata": {},
   "outputs": [],
   "source": [
    "the stripe bat were hang on their feet and eat best batch of juici leech"
   ]
  },
  {
   "cell_type": "markdown",
   "id": "25fa861a",
   "metadata": {},
   "source": [
    "# Lemmatization In Practice"
   ]
  },
  {
   "cell_type": "markdown",
   "id": "cf6a6123",
   "metadata": {},
   "source": [
    "The process of lemmatization is a little bit more complex than stemming because we need every words “POS tag” to make sure that the lemmatization lemmatize to the correct part of speech."
   ]
  },
  {
   "cell_type": "markdown",
   "id": "c051a720",
   "metadata": {},
   "source": [
    "# POS (Part of speech)"
   ]
  },
  {
   "cell_type": "markdown",
   "id": "31d47849",
   "metadata": {},
   "source": [
    "Part of speech is as simple as asking to each words: Is it a noun? Is it a verb? Is it an adjective? Etc. This helps in making sure that every word converted to the correct lemma."
   ]
  },
  {
   "cell_type": "markdown",
   "id": "fa51e7c1",
   "metadata": {},
   "source": [
    "Of course, different from stemming, for lemmatization to work correctly we must ensure that our input still contains stopwords to ensure the POS is correct. So if you want to do lemmatization ensure that POS is done before removing all stopwords, or removing any words at all."
   ]
  },
  {
   "cell_type": "markdown",
   "id": "e2e2530d",
   "metadata": {},
   "source": [
    "Below is the code for lemmatization, feel free to change the input text to any sentence that you want to see lemmatization on play."
   ]
  },
  {
   "cell_type": "code",
   "execution_count": null,
   "id": "907e512c",
   "metadata": {},
   "outputs": [],
   "source": [
    "#@title POS\n",
    "# Import the necessary libraries\n",
    "import nltk\n",
    "\n",
    "from nltk.tokenize import word_tokenize\n",
    "from nltk import pos_tag\n",
    "from nltk.corpus import wordnet\n",
    "\n",
    "# Download required datasets from nltk\n",
    "nltk.download('averaged_perceptron_tagger')\n",
    "nltk.download('punkt')\n",
    "\n",
    "def get_human_readable_pos(treebank_tag):\n",
    "    \"\"\"Map `treebank_tag` to equivalent human readable POS tag.\"\"\"\n",
    "    if treebank_tag.startswith('J'):\n",
    "        return \"Adjective\"\n",
    "    elif treebank_tag.startswith('V'):\n",
    "        return \"Verb\"\n",
    "    elif treebank_tag.startswith('N'):\n",
    "        return \"Noun\"\n",
    "    elif treebank_tag.startswith('R'):\n",
    "        return \"Adverb\"\n",
    "    else:\n",
    "        return \"Others\"\n",
    "\n",
    "text = \"The striped bats were hanging on their feet and eating best batches of juicy leeches\" # @param {text: \"string\"}\n",
    "\n",
    "# Tokenize the text\n",
    "token_list = word_tokenize(text)\n",
    "\n",
    "# POS tagging on the tokens\n",
    "pos_tokens = pos_tag(token_list)\n",
    "\n",
    "# Print word with its POS tag\n",
    "for word, pos in pos_tokens:\n",
    "    print(f\"{word} : {get_human_readable_pos(pos)}\")"
   ]
  },
  {
   "cell_type": "code",
   "execution_count": null,
   "id": "7fd034c7",
   "metadata": {},
   "outputs": [],
   "source": [
    "The : Others\n",
    "striped : Adjective\n",
    "bats : Noun\n",
    "were : Verb\n",
    "hanging : Verb\n",
    "on : Others\n",
    "their : Others\n",
    "feet : Noun\n",
    "and : Others\n",
    "eating : Verb\n",
    "best : Adjective\n",
    "batches : Noun\n",
    "of : Others\n",
    "juicy : Noun\n",
    "leeches : Noun"
   ]
  },
  {
   "cell_type": "code",
   "execution_count": null,
   "id": "33ea84e7",
   "metadata": {},
   "outputs": [],
   "source": [
    "[nltk_data] Downloading package averaged_perceptron_tagger to\n",
    "[nltk_data]     /root/nltk_data...\n",
    "[nltk_data]   Package averaged_perceptron_tagger is already up-to-\n",
    "[nltk_data]       date!\n",
    "[nltk_data] Downloading package punkt to /root/nltk_data...\n",
    "[nltk_data]   Package punkt is already up-to-date!"
   ]
  },
  {
   "cell_type": "markdown",
   "id": "55841486",
   "metadata": {},
   "source": [
    "# Let’s lemmatize"
   ]
  },
  {
   "cell_type": "markdown",
   "id": "93deff95",
   "metadata": {},
   "source": [
    "Now after POS tagging are done, we can pass the POS tagging along with every words to our lemmatization function."
   ]
  },
  {
   "cell_type": "code",
   "execution_count": null,
   "id": "e808e2ce",
   "metadata": {},
   "outputs": [],
   "source": [
    "#@title Lemmatization\n",
    "# Import the necessary libraries\n",
    "from nltk.stem import WordNetLemmatizer\n",
    "from nltk.tokenize import word_tokenize\n",
    "from nltk.corpus import wordnet\n",
    "from nltk import pos_tag\n",
    "import nltk\n",
    "\n",
    "# Download required datasets from nltk\n",
    "nltk.download('averaged_perceptron_tagger')\n",
    "nltk.download('wordnet')\n",
    "nltk.download('punkt')\n",
    "\n",
    "def get_wordnet_pos(treebank_tag):\n",
    "    \"\"\"Map `treebank_tag` to equivalent WordNet POS tag.\"\"\"\n",
    "    if treebank_tag.startswith('J'):\n",
    "        return wordnet.ADJ\n",
    "    elif treebank_tag.startswith('V'):\n",
    "        return wordnet.VERB\n",
    "    elif treebank_tag.startswith('N'):\n",
    "        return wordnet.NOUN\n",
    "    elif treebank_tag.startswith('R'):\n",
    "        return wordnet.ADV\n",
    "    else:\n",
    "        # As default pos in lemmatization is Noun\n",
    "        return wordnet.NOUN\n",
    "\n",
    "lemmatizer = WordNetLemmatizer()\n",
    "\n",
    "text = \"The striped bats were hanging on their feet and eating best batches of juicy leeches\" #@param {text: \"string\"}\n",
    "\n",
    "# Tokenize the text\n",
    "token_list = word_tokenize(text)\n",
    "\n",
    "# POS tagging on the tokens\n",
    "pos_tokens = pos_tag(token_list)\n",
    "\n",
    "# Lemmatize with POS tagging\n",
    "lemmatized_output = ' '.join([lemmatizer.lemmatize(token, get_wordnet_pos(pos)) for token, pos in pos_tokens])\n",
    "\n",
    "print(lemmatized_output)"
   ]
  },
  {
   "cell_type": "code",
   "execution_count": null,
   "id": "3827dfdc",
   "metadata": {},
   "outputs": [],
   "source": [
    "[nltk_data] Downloading package averaged_perceptron_tagger to\n",
    "[nltk_data]     /root/nltk_data...\n",
    "[nltk_data]   Package averaged_perceptron_tagger is already up-to-\n",
    "[nltk_data]       date!\n",
    "[nltk_data] Downloading package wordnet to /root/nltk_data...\n",
    "[nltk_data] Downloading package punkt to /root/nltk_data...\n",
    "[nltk_data]   Package punkt is already up-to-date!"
   ]
  },
  {
   "cell_type": "code",
   "execution_count": null,
   "id": "135f8510",
   "metadata": {},
   "outputs": [],
   "source": [
    "The striped bat be hang on their foot and eat best batch of juicy leech"
   ]
  },
  {
   "cell_type": "markdown",
   "id": "921dcfe1",
   "metadata": {},
   "source": [
    "# Tokenization"
   ]
  },
  {
   "cell_type": "markdown",
   "id": "923724db",
   "metadata": {},
   "source": [
    "Tokenization is one of the latest part of preprocessing in NLP. The definition is simple: It’s a process to breakdown our preprocessed words into array of features that already preprocessed so we can feed it to our process."
   ]
  },
  {
   "cell_type": "markdown",
   "id": "48960e74",
   "metadata": {},
   "source": [
    "Why we called it features? For our current architecture, a feature is basically a single pre-processed word. But later when we’re using neural networks, a feature might be refer to sub-words."
   ]
  },
  {
   "cell_type": "markdown",
   "id": "d1296307",
   "metadata": {},
   "source": [
    "Words such as “eating”, when we tokenized into sub-words, might be tokenized into something like “eat-ing”. But sub-words as features mostly held place when we need semantic relation between words, but for learning how NLP works without neural network it’s basically harder and mostly we can just refer to neural network for tasks that require these."
   ]
  },
  {
   "cell_type": "code",
   "execution_count": null,
   "id": "ac1fbaee",
   "metadata": {},
   "outputs": [],
   "source": [
    "# @title Basic tokenization\n",
    "# Import required library\n",
    "from nltk.tokenize import word_tokenize\n",
    "import nltk\n",
    "nltk.download('punkt')\n",
    "\n",
    "# Sample text\n",
    "text = \"This is an example sentence for basic tokenization.\" #@param {text:\"string\"}\n",
    "\n",
    "# Tokenize the text\n",
    "tokens = word_tokenize(text)\n",
    "\n",
    "# Output the tokens\n",
    "print(tokens)"
   ]
  },
  {
   "cell_type": "code",
   "execution_count": null,
   "id": "28378b39",
   "metadata": {},
   "outputs": [],
   "source": [
    "[nltk_data] Downloading package punkt to /root/nltk_data...\n",
    "[nltk_data]   Unzipping tokenizers/punkt.zip."
   ]
  },
  {
   "cell_type": "code",
   "execution_count": null,
   "id": "54a7907c",
   "metadata": {},
   "outputs": [],
   "source": [
    "['This', 'is', 'an', 'example', 'sentence', 'for', 'basic', 'tokenization', '.']"
   ]
  },
  {
   "cell_type": "code",
   "execution_count": null,
   "id": "cb12da78",
   "metadata": {},
   "outputs": [],
   "source": [
    "# @title Sub-words tokenizer that is used by BERT model\n",
    "# Import required library\n",
    "from transformers import BertTokenizer\n",
    "\n",
    "# Initialize the tokenizer with a pretrained model\n",
    "tokenizer = BertTokenizer.from_pretrained('bert-base-uncased')\n",
    "\n",
    "# Sample text\n",
    "text = \"The striped bats were hanging on their feet and eating best batches of juicy leeches\" #@param\n",
    "\n",
    "# Tokenize the text\n",
    "tokens = tokenizer.tokenize(text)\n",
    "\n",
    "# Output the tokens\n",
    "print(tokens)"
   ]
  },
  {
   "cell_type": "code",
   "execution_count": null,
   "id": "da00bae2",
   "metadata": {},
   "outputs": [],
   "source": [
    "['the', 'striped', 'bats', 'were', 'hanging', 'on', 'their', 'feet', 'and', 'eating', 'best', 'batch', '##es', 'of', 'juicy', 'lee', '##ches']"
   ]
  },
  {
   "cell_type": "markdown",
   "id": "dba78283",
   "metadata": {},
   "source": [
    "As you can see above that some of the word is splitted to sub-words: “batch + ##es” and “lee + ##ches”. What to split to subwords is depend on the task at hand of course, and for BERT cases, lot’s of verb still considered a single token rather that splitting it."
   ]
  },
  {
   "cell_type": "markdown",
   "id": "4474f90a",
   "metadata": {},
   "source": [
    "# How our model will understand which sentiment to assign our tweet to?"
   ]
  },
  {
   "cell_type": "markdown",
   "id": "656e2876",
   "metadata": {},
   "source": [
    "Let’s get a while back and try to understand below tweet:"
   ]
  },
  {
   "cell_type": "markdown",
   "id": "1f37fc6f",
   "metadata": {},
   "source": [
    "> I’m really excited towards tomorrow for our shop opening, see you guys at xxx!"
   ]
  },
  {
   "cell_type": "markdown",
   "id": "bd2e20f4",
   "metadata": {},
   "source": [
    "I’m really excited towards tomorrow for our shop opening, see you guys at xxx!"
   ]
  },
  {
   "cell_type": "markdown",
   "id": "15421ed0",
   "metadata": {},
   "source": [
    "How can we conclude that tweet is positive again? It’s because it’s having the word excited, as we know that the word excited are more likely hinting to a sentence that is positive, but is unlikely to be existing on a sentence that is negative."
   ]
  },
  {
   "cell_type": "markdown",
   "id": "c7fdb0ef",
   "metadata": {},
   "source": [
    "So how can a model know, especially when we’re not doing deep-learning, how to differentiate a sentiment of a tweet? By checking if a sentence containing words that give hint towards one of the sentiment"
   ]
  },
  {
   "cell_type": "markdown",
   "id": "e925f9a9",
   "metadata": {},
   "source": [
    "# Excited are unlikely to be occuring on negative tweet"
   ]
  },
  {
   "cell_type": "markdown",
   "id": "db87e5c5",
   "metadata": {},
   "source": [
    "So how can we teach a machine that certain words should give a great hint that a tweet is positive while certain words can give a great hint for otherwise?"
   ]
  },
  {
   "cell_type": "markdown",
   "id": "36100c79",
   "metadata": {},
   "source": [
    "We can of course just feed “excited”, “happy”, “sad”, etc, then tag them to be one way or another, but imagine if we don’t have the dictionary for all positive words and negative words, how can we compile them?"
   ]
  },
  {
   "cell_type": "markdown",
   "id": "72cf40f3",
   "metadata": {},
   "source": [
    "> “Excited are unlikely to be occuring on negative tweet”"
   ]
  },
  {
   "cell_type": "markdown",
   "id": "81d518bc",
   "metadata": {},
   "source": [
    "“Excited are unlikely to be occuring on negative tweet”"
   ]
  },
  {
   "cell_type": "markdown",
   "id": "97d896e2",
   "metadata": {},
   "source": [
    "So if we can gather lots of tweets that already tagged as positive and negative, we can compile every word that are positive by checking all positive tweets and if there are lots of tweets that hinting that this word is positive."
   ]
  },
  {
   "cell_type": "markdown",
   "id": "8e1824e3",
   "metadata": {},
   "source": [
    "> “Word like ‘technology’ can be occuring on positive and negative tweet, and shouldn’t affect a sentiment”"
   ]
  },
  {
   "cell_type": "markdown",
   "id": "5ee74168",
   "metadata": {},
   "source": [
    "“Word like ‘technology’ can be occuring on positive and negative tweet, and shouldn’t affect a sentiment”"
   ]
  },
  {
   "cell_type": "markdown",
   "id": "71b2d854",
   "metadata": {},
   "source": [
    "But don’t forget that some words are neutral. It depends on your dataset, but let’s say if we’re scraping tweets from tech reviewer, the word “technology” would appear on positive sentiment, while still of course shown on negative sentiment."
   ]
  },
  {
   "cell_type": "markdown",
   "id": "e15e8579",
   "metadata": {},
   "source": [
    "> So our first formula might be: - If a word often shown on a sentiment, it might be hinting that it’s classify as that sentiment - But if a word geared towards both sentiment, it most likely hinting that it’s a neutral word"
   ]
  },
  {
   "cell_type": "markdown",
   "id": "9eea1ad0",
   "metadata": {},
   "source": [
    "So our first formula might be: - If a word often shown on a sentiment, it might be hinting that it’s classify as that sentiment - But if a word geared towards both sentiment, it most likely hinting that it’s a neutral word"
   ]
  },
  {
   "cell_type": "markdown",
   "id": "8cdb4deb",
   "metadata": {},
   "source": [
    "Above concept will be our baseline to understand two methods of Feature Extraction: Bag-of-words, and TF-IDF, which we’ll learn in our next session!"
   ]
  },
  {
   "cell_type": "markdown",
   "id": "b57495be",
   "metadata": {},
   "source": [
    "# Isn’t NLP exciting?"
   ]
  },
  {
   "cell_type": "markdown",
   "id": "60c4c248",
   "metadata": {},
   "source": [
    "There are lots of challenge when it comes to a task as simple as sentiment analysis:"
   ]
  },
  {
   "cell_type": "markdown",
   "id": "d3e0f4d1",
   "metadata": {},
   "source": [
    "- I’m not really interested thanks!"
   ]
  },
  {
   "cell_type": "markdown",
   "id": "2b6be58a",
   "metadata": {},
   "source": [
    "For sentence like that, we have to make sure that our model knowing to use that “not” and negate anything after"
   ]
  },
  {
   "cell_type": "markdown",
   "id": "78eeb1db",
   "metadata": {},
   "source": [
    "- Wow, that was so interesting that I fell asleep in the mid of the event"
   ]
  },
  {
   "cell_type": "markdown",
   "id": "14657f43",
   "metadata": {},
   "source": [
    "For sarcasm, it’s a whole another level. How to solve something like that? How a model can know which sentence is sarcasm, and which are not?"
   ]
  },
  {
   "cell_type": "markdown",
   "id": "274092c7",
   "metadata": {},
   "source": [
    "Of course we won’t give you the answer right away 😛, stay tune and stay curious!"
   ]
  }
 ],
 "metadata": {},
 "nbformat": 4,
 "nbformat_minor": 5
}
