{
 "cells": [
  {
   "cell_type": "markdown",
   "id": "a106150b",
   "metadata": {},
   "source": [
    "# Preprocessing"
   ]
  },
  {
   "cell_type": "code",
   "execution_count": null,
   "id": "884f8fa4",
   "metadata": {},
   "outputs": [],
   "source": [
    "!pip install nltk\n",
    "!pip install transformers"
   ]
  },
  {
   "cell_type": "markdown",
   "id": "7c4a7693",
   "metadata": {},
   "source": [
    "# Overview for our first architecture - NLP Without Neural Network"
   ]
  },
  {
   "cell_type": "markdown",
   "id": "0a857050",
   "metadata": {},
   "source": [
    "For our first architecture we’ll learn how to do sentiment classification using “Naive Bayes”. We’ll delve in several key concepts of NLP that will help us later understand more complex architecture like Seq2Seq and Transformers such as Preprocessing, Word Embedding, tokenization, and more!"
   ]
  },
  {
   "cell_type": "markdown",
   "id": "c2ecfe7f",
   "metadata": {},
   "source": []
  },
  {
   "cell_type": "markdown",
   "id": "4650b8f8",
   "metadata": {},
   "source": [
    "As you can see on above diagram, we’ll learn the steps of asking, converting that question to numbers, and then making sure our model understand that question. For modern architecture the concept of understanding is mostly using an encoder layer, but for methods like “Naive Bayes” it’s kinda like encoder layer, but much more traditional than that."
   ]
  },
  {
   "cell_type": "markdown",
   "id": "d30a35f9",
   "metadata": {},
   "source": [
    "Note: “Naive Bayes” method will be covered in the next lesson. Look forward to it!"
   ]
  },
  {
   "cell_type": "markdown",
   "id": "2bc4f522",
   "metadata": {},
   "source": [
    "# Text classification"
   ]
  },
  {
   "cell_type": "markdown",
   "id": "bb33c05e",
   "metadata": {},
   "source": [
    "One of the task that we can use for NLP without neural network is “Text classification”. This task is as simple as it sound: What current input should be classified to?"
   ]
  },
  {
   "cell_type": "markdown",
   "id": "5776bffd",
   "metadata": {},
   "source": [
    "For today we’ll learn how to classify a tweet if it can be count as positive tweet or negative."
   ]
  },
  {
   "cell_type": "markdown",
   "id": "3c42d984",
   "metadata": {},
   "source": [
    "Imagine this tweet:"
   ]
  },
  {
   "cell_type": "markdown",
   "id": "3ceca842",
   "metadata": {},
   "source": [
    "I’m really excited towards tomorrow for our shop opening, see you guys at xxx!"
   ]
  },
  {
   "cell_type": "markdown",
   "id": "e2043439",
   "metadata": {},
   "source": [
    "We as a human can know from above tweet that the person who tweeted currently being positive (being excited, being happy), and so the conclusion is that above tweet is considered as a “positive tweet”."
   ]
  },
  {
   "cell_type": "markdown",
   "id": "b219f942",
   "metadata": {},
   "source": [
    "So in our first architecture we’ll learn how we can conclude a tweet is either positive or negative by checking every word and see if there are any hints that tweet have either positive, or negative sentiment. For above tweet the hint would be the word “Excited”."
   ]
  },
  {
   "cell_type": "markdown",
   "id": "9a2cee51",
   "metadata": {},
   "source": [
    "# Dataset"
   ]
  },
  {
   "cell_type": "markdown",
   "id": "e317fff7",
   "metadata": {},
   "source": [
    "For our learning to classify tweets into it’s sentiment, we will use this dataset https://www.kaggle.com/datasets/ferno2/training1600000processednoemoticoncsv. It’s a dataset of 1,6 million of tweets that’s already classified as either positive tweet for negative tweet"
   ]
  },
  {
   "cell_type": "markdown",
   "id": "ee36da44",
   "metadata": {},
   "source": [
    "# Preprocessing - Cleaning noises, and consolidating words - Human part before we input to the machine"
   ]
  },
  {
   "cell_type": "markdown",
   "id": "c89cfc29",
   "metadata": {},
   "source": [
    "One of the place where human can “help” the machine learning model is in preprocessing. One of the task that are done in preprocessing is to make sure that our model won’t be distracted by several things that we as a human might figure out that the model shouldn’t care about, and transform several things to make sure our model can works better."
   ]
  },
  {
   "cell_type": "markdown",
   "id": "c6f540c5",
   "metadata": {},
   "source": [
    "When we’re working on classification (especially when working with model but without neural network), we should consider our goal when we’re looking at our dataset: What words do our model really need to consider when classifying our data."
   ]
  },
  {
   "cell_type": "markdown",
   "id": "d22acd00",
   "metadata": {},
   "source": [
    "As for NLP using something like naive bayes mostly depends on understanding if a tweet contain certain words that can help it’s understanding if the tweet is either positive or negative. So there are basicallly two things that we should do before feeding our input to our model:"
   ]
  },
  {
   "cell_type": "markdown",
   "id": "6520e9d4",
   "metadata": {},
   "source": [
    "# Removing noises, which is words or characters that shouldn’t give any effect in our classification tasks."
   ]
  },
  {
   "cell_type": "markdown",
   "id": "db0b8472",
   "metadata": {},
   "source": [
    "Example: 😃 Super excited to share my latest article! @OpenAI 👀👉 http://ai.newpost.com #AI #OpenAI 😎"
   ]
  },
  {
   "cell_type": "markdown",
   "id": "e6873ec8",
   "metadata": {},
   "source": [
    "If we’re currently doing sentiment classification we might not need to include urls, mentions, hashtags, etc. If we include those into our model, our model might hint those noises as something that geared the tweet sentiment towards either positive or negative."
   ]
  },
  {
   "cell_type": "markdown",
   "id": "fd1f8de6",
   "metadata": {},
   "source": [
    "Another example for sentiment classification tasks is removing stopwords. Stopwords are words that occur so frequently in sentences that they contain little meaningful information. Examples of common stopwords in the English language include: “the”, “is”, “at”, “which”, “on”."
   ]
  },
  {
   "cell_type": "markdown",
   "id": "263c5218",
   "metadata": {},
   "source": [
    "Other things that we might considering removing is symbols like “?”, “!”, etc.as -at least when we’re not using neural network- understanding sentiment from symbols might be cout"
   ]
  },
  {
   "cell_type": "markdown",
   "id": "b31cd161",
   "metadata": {},
   "source": [
    "# Consolidating words that have similar meaning, by removing their tenses, plurality, prefix, suffix, etc."
   ]
  },
  {
   "cell_type": "markdown",
   "id": "bac03dc5",
   "metadata": {},
   "source": [
    "Words like “Exciting” is consolidated with “excited”, “excitement”, “excite”, etc. so we can consider words that have the same root (“Exciting”, “Excited”, “Excite”, are have the same root word: “Excite”) to be processed together."
   ]
  },
  {
   "cell_type": "markdown",
   "id": "d081885e",
   "metadata": {},
   "source": [
    "Another thing we might consider is to lowercasing so “Exciting”, “exciting”, and “EXCITING” can be considered the same so our model won’t differentiate between those three words when learning the sentiment."
   ]
  },
  {
   "cell_type": "markdown",
   "id": "54108860",
   "metadata": {},
   "source": [
    "# Let’s remove all noises"
   ]
  },
  {
   "cell_type": "code",
   "execution_count": null,
   "id": "5d79bfe4",
   "metadata": {},
   "outputs": [],
   "source": [
    "# @title Remove noises\n",
    "\n",
    "import re\n",
    "import string\n",
    "\n",
    "def remove_urls(text):\n",
    "    url_pattern = re.compile(r'https?://\\S+|www\\.\\S+')\n",
    "    return url_pattern.sub(r'', text)\n",
    "\n",
    "def remove_hashtags(text):\n",
    "    hashtag_pattern = re.compile(r'#\\S+')\n",
    "    return hashtag_pattern.sub(r'', text)\n",
    "\n",
    "def remove_mentions(text):\n",
    "    mention_pattern = re.compile(r'@\\S+')\n",
    "    return mention_pattern.sub(r'', text)\n",
    "\n",
    "def remove_emojis(text):\n",
    "    emoji_pattern = re.compile(\"[\"\n",
    "                           u\"\\U0001F600-\\U0001F64F\"  # emoticons\n",
    "                           u\"\\U0001F300-\\U0001F5FF\"  # symbols & pictographs\n",
    "                           u\"\\U0001F680-\\U0001F6FF\"  # transport & map symbols\n",
    "                           u\"\\U0001F1E0-\\U0001F1FF\"  # flags (iOS)\n",
    "                           u\"\\U00002702-\\U000027B0\"\n",
    "                           u\"\\U000024C2-\\U0001F251\"\n",
    "                           \"]+\", flags=re.UNICODE)\n",
    "    return emoji_pattern.sub(r'', text)\n",
    "\n",
    "def remove_symbols(text):\n",
    "    return text.translate(str.maketrans('', '', string.punctuation))\n",
    "\n",
    "def preprocess_sentence(text):\n",
    "    text = remove_urls(text)\n",
    "    text = remove_hashtags(text)\n",
    "    text = remove_mentions(text)\n",
    "    text = remove_emojis(text)\n",
    "    text = remove_symbols(text)  # Remove punctuation\n",
    "    return text\n",
    "\n",
    "# Example usage:\n",
    "text = \"Hey @user, check out the webpage: https://example.com. I found it awesome! 😎 #exciting\" # @param {text: \"string\"}\n",
    "print(preprocess_sentence(text))"
   ]
  },
  {
   "cell_type": "code",
   "execution_count": null,
   "id": "28db50f4",
   "metadata": {},
   "outputs": [],
   "source": [
    "Hey  check out the webpage  I found it awesome  "
   ]
  },
  {
   "cell_type": "markdown",
   "id": "b23e01b1",
   "metadata": {},
   "source": [
    "# Stemming and lemmatization"
   ]
  },
  {
   "cell_type": "markdown",
   "id": "a0b55713",
   "metadata": {},
   "source": [
    "When consolidating words that have the same root, there are two strategies that can be used: Stemming and Lemmatization."
   ]
  },
  {
   "cell_type": "markdown",
   "id": "289c857a",
   "metadata": {},
   "source": [
    "# Stemming"
   ]
  },
  {
   "cell_type": "markdown",
   "id": "bcba0b84",
   "metadata": {},
   "source": [
    "Exciting, excited. Happy, happiness. Sad, sadden, sadness. Worrying, worried, worry."
   ]
  },
  {
   "cell_type": "markdown",
   "id": "14546320",
   "metadata": {},
   "source": [
    "The way stemming handle words consolidating is by removing the suffixes (and sometimes prefixes) of the words, leaving only the word “stem” (the part of the word that is common to all its inflected variants). It’s easier to learn by example:"
   ]
  },
  {
   "cell_type": "markdown",
   "id": "f60ae023",
   "metadata": {},
   "source": [
    "exciting -> excit"
   ]
  },
  {
   "cell_type": "markdown",
   "id": "ee2b0d63",
   "metadata": {},
   "source": [
    "The unique thing about stemming is that it reduce to several characters that are unique to other words, but sometimes it doesn’t really “make sense” in the meaning of the word. As long as it can manage to group several pattern of the same words as one, lots of task can be enough to use this."
   ]
  },
  {
   "cell_type": "markdown",
   "id": "0956fd5a",
   "metadata": {},
   "source": [
    "went != go"
   ]
  },
  {
   "cell_type": "markdown",
   "id": "ed02f3e0",
   "metadata": {},
   "source": [
    "It’s only caring about reducing the words to the most basic letter that unique from other words, not caring to their synonyms, tenses, or likewise. For example “went” and “go” would be different in stem even though “went” is just a past tense of “go”"
   ]
  },
  {
   "cell_type": "markdown",
   "id": "8be9a13f",
   "metadata": {},
   "source": [
    "# Lemmatization"
   ]
  },
  {
   "cell_type": "markdown",
   "id": "fa538c7c",
   "metadata": {},
   "source": [
    "Lemmatization is different from stemming such that it emphasizes a heavy consideration for grammar rules in its approach. While both methodologies aim to reduce words to their base or root form, lemmatization performs this task by taking into account the morphological analysis of the words. This means that it understands the context and proper grammatical elements such as verb tenses, plural forms, and even gender to extract the correct linguistic base form of a word, known as ‘lemma’."
   ]
  },
  {
   "cell_type": "markdown",
   "id": "34bbc61a",
   "metadata": {},
   "source": [
    "Better -> Good. Geese -> goose. Went -> Go"
   ]
  },
  {
   "cell_type": "markdown",
   "id": "639aeae9",
   "metadata": {},
   "source": [
    "As we can see from above examples, lemmatization profoundly recognizes and accurately transforms words into their dictionary or base form, considering their tenses, their plurality, and more."
   ]
  },
  {
   "cell_type": "markdown",
   "id": "38eb299d",
   "metadata": {},
   "source": [
    "This can’t be achieved with stemming as stemming is merely “Chopping off” words rather than considering dictionary at all."
   ]
  },
  {
   "cell_type": "markdown",
   "id": "690fdecf",
   "metadata": {},
   "source": [
    "# Quick library note: NLTK"
   ]
  },
  {
   "cell_type": "markdown",
   "id": "fce0012d",
   "metadata": {},
   "source": [
    "Going forward, we’ll use NLTK a lot. NLTK is short for Natural Language Toolkit, a python library that has a lot of functionality to work with NLP in Python. You can use this library for lots of thing such as removing stopwords, tokenizing, stemming, lemmatizing, and more. You can learn more on https://www.nltk.org/ and check what capabilities that this library has by checking https://www.nltk.org/py-modindex.html ."
   ]
  },
  {
   "cell_type": "markdown",
   "id": "4f07fee7",
   "metadata": {},
   "source": [
    "# Stemming in practice"
   ]
  },
  {
   "cell_type": "code",
   "execution_count": null,
   "id": "c78efe26",
   "metadata": {},
   "outputs": [],
   "source": [
    "#@title Stemming\n",
    "# Import the necessary libraries\n",
    "from nltk.stem import PorterStemmer\n",
    "from nltk.tokenize import word_tokenize\n",
    "import nltk\n",
    "\n",
    "# Download required datasets from nltk\n",
    "nltk.download('punkt')\n",
    "\n",
    "stemmer = PorterStemmer()\n",
    "\n",
    "text = \"The striped bats were hanging on their feet and eating best batches of juicy leeches\" #@param {type: \"string\"}\n",
    "\n",
    "# Tokenize the text\n",
    "token_list = word_tokenize(text)\n",
    "\n",
    "# Apply stemming on the tokens\n",
    "stemmed_output = ' '.join([stemmer.stem(token) for token in token_list])\n",
    "\n",
    "print(text)\n",
    "print(stemmed_output)"
   ]
  },
  {
   "cell_type": "code",
   "execution_count": null,
   "id": "b7f67d3f",
   "metadata": {},
   "outputs": [],
   "source": [
    "[nltk_data] Downloading package punkt to /root/nltk_data...\n",
    "[nltk_data]   Unzipping tokenizers/punkt.zip."
   ]
  },
  {
   "cell_type": "code",
   "execution_count": null,
   "id": "2fd0ba3f",
   "metadata": {},
   "outputs": [],
   "source": [
    "the stripe bat were hang on their feet and eat best batch of juici leech"
   ]
  },
  {
   "cell_type": "markdown",
   "id": "9279651b",
   "metadata": {},
   "source": [
    "# Lemmatization In Practice"
   ]
  },
  {
   "cell_type": "markdown",
   "id": "7f19f3ef",
   "metadata": {},
   "source": [
    "The process of lemmatization is a little bit more complex than stemming because we need every words “POS tag” to make sure that the lemmatization lemmatize to the correct part of speech."
   ]
  },
  {
   "cell_type": "markdown",
   "id": "144d485b",
   "metadata": {},
   "source": [
    "# POS (Part of speech)"
   ]
  },
  {
   "cell_type": "markdown",
   "id": "215724fe",
   "metadata": {},
   "source": [
    "Part of speech is as simple as asking to each words: Is it a noun? Is it a verb? Is it an adjective? Etc. This helps in making sure that every word converted to the correct lemma."
   ]
  },
  {
   "cell_type": "markdown",
   "id": "2449ee51",
   "metadata": {},
   "source": [
    "Of course, different from stemming, for lemmatization to work correctly we must ensure that our input still contains stopwords to ensure the POS is correct. So if you want to do lemmatization ensure that POS is done before removing all stopwords, or removing any words at all."
   ]
  },
  {
   "cell_type": "markdown",
   "id": "233be2db",
   "metadata": {},
   "source": [
    "Below is the code for lemmatization, feel free to change the input text to any sentence that you want to see lemmatization on play."
   ]
  },
  {
   "cell_type": "code",
   "execution_count": null,
   "id": "cb3c25df",
   "metadata": {},
   "outputs": [],
   "source": [
    "#@title POS\n",
    "# Import the necessary libraries\n",
    "import nltk\n",
    "\n",
    "from nltk.tokenize import word_tokenize\n",
    "from nltk import pos_tag\n",
    "from nltk.corpus import wordnet\n",
    "\n",
    "# Download required datasets from nltk\n",
    "nltk.download('averaged_perceptron_tagger')\n",
    "nltk.download('punkt')\n",
    "\n",
    "def get_human_readable_pos(treebank_tag):\n",
    "    \"\"\"Map `treebank_tag` to equivalent human readable POS tag.\"\"\"\n",
    "    if treebank_tag.startswith('J'):\n",
    "        return \"Adjective\"\n",
    "    elif treebank_tag.startswith('V'):\n",
    "        return \"Verb\"\n",
    "    elif treebank_tag.startswith('N'):\n",
    "        return \"Noun\"\n",
    "    elif treebank_tag.startswith('R'):\n",
    "        return \"Adverb\"\n",
    "    else:\n",
    "        return \"Others\"\n",
    "\n",
    "text = \"The striped bats were hanging on their feet and eating best batches of juicy leeches\" # @param {text: \"string\"}\n",
    "\n",
    "# Tokenize the text\n",
    "token_list = word_tokenize(text)\n",
    "\n",
    "# POS tagging on the tokens\n",
    "pos_tokens = pos_tag(token_list)\n",
    "\n",
    "# Print word with its POS tag\n",
    "for word, pos in pos_tokens:\n",
    "    print(f\"{word} : {get_human_readable_pos(pos)}\")"
   ]
  },
  {
   "cell_type": "code",
   "execution_count": null,
   "id": "34e39b9b",
   "metadata": {},
   "outputs": [],
   "source": [
    "The : Others\n",
    "striped : Adjective\n",
    "bats : Noun\n",
    "were : Verb\n",
    "hanging : Verb\n",
    "on : Others\n",
    "their : Others\n",
    "feet : Noun\n",
    "and : Others\n",
    "eating : Verb\n",
    "best : Adjective\n",
    "batches : Noun\n",
    "of : Others\n",
    "juicy : Noun\n",
    "leeches : Noun"
   ]
  },
  {
   "cell_type": "code",
   "execution_count": null,
   "id": "b20af8a1",
   "metadata": {},
   "outputs": [],
   "source": [
    "[nltk_data] Downloading package averaged_perceptron_tagger to\n",
    "[nltk_data]     /root/nltk_data...\n",
    "[nltk_data]   Package averaged_perceptron_tagger is already up-to-\n",
    "[nltk_data]       date!\n",
    "[nltk_data] Downloading package punkt to /root/nltk_data...\n",
    "[nltk_data]   Package punkt is already up-to-date!"
   ]
  },
  {
   "cell_type": "markdown",
   "id": "a2ed6125",
   "metadata": {},
   "source": [
    "# Let’s lemmatize"
   ]
  },
  {
   "cell_type": "markdown",
   "id": "f8925ec0",
   "metadata": {},
   "source": [
    "Now after POS tagging are done, we can pass the POS tagging along with every words to our lemmatization function."
   ]
  },
  {
   "cell_type": "code",
   "execution_count": null,
   "id": "0058f8fe",
   "metadata": {},
   "outputs": [],
   "source": [
    "#@title Lemmatization\n",
    "# Import the necessary libraries\n",
    "from nltk.stem import WordNetLemmatizer\n",
    "from nltk.tokenize import word_tokenize\n",
    "from nltk.corpus import wordnet\n",
    "from nltk import pos_tag\n",
    "import nltk\n",
    "\n",
    "# Download required datasets from nltk\n",
    "nltk.download('averaged_perceptron_tagger')\n",
    "nltk.download('wordnet')\n",
    "nltk.download('punkt')\n",
    "\n",
    "def get_wordnet_pos(treebank_tag):\n",
    "    \"\"\"Map `treebank_tag` to equivalent WordNet POS tag.\"\"\"\n",
    "    if treebank_tag.startswith('J'):\n",
    "        return wordnet.ADJ\n",
    "    elif treebank_tag.startswith('V'):\n",
    "        return wordnet.VERB\n",
    "    elif treebank_tag.startswith('N'):\n",
    "        return wordnet.NOUN\n",
    "    elif treebank_tag.startswith('R'):\n",
    "        return wordnet.ADV\n",
    "    else:\n",
    "        # As default pos in lemmatization is Noun\n",
    "        return wordnet.NOUN\n",
    "\n",
    "lemmatizer = WordNetLemmatizer()\n",
    "\n",
    "text = \"The striped bats were hanging on their feet and eating best batches of juicy leeches\" #@param {text: \"string\"}\n",
    "\n",
    "# Tokenize the text\n",
    "token_list = word_tokenize(text)\n",
    "\n",
    "# POS tagging on the tokens\n",
    "pos_tokens = pos_tag(token_list)\n",
    "\n",
    "# Lemmatize with POS tagging\n",
    "lemmatized_output = ' '.join([lemmatizer.lemmatize(token, get_wordnet_pos(pos)) for token, pos in pos_tokens])\n",
    "\n",
    "print(lemmatized_output)"
   ]
  },
  {
   "cell_type": "code",
   "execution_count": null,
   "id": "2f79fd6f",
   "metadata": {},
   "outputs": [],
   "source": [
    "[nltk_data] Downloading package averaged_perceptron_tagger to\n",
    "[nltk_data]     /root/nltk_data...\n",
    "[nltk_data]   Package averaged_perceptron_tagger is already up-to-\n",
    "[nltk_data]       date!\n",
    "[nltk_data] Downloading package wordnet to /root/nltk_data...\n",
    "[nltk_data] Downloading package punkt to /root/nltk_data...\n",
    "[nltk_data]   Package punkt is already up-to-date!"
   ]
  },
  {
   "cell_type": "code",
   "execution_count": null,
   "id": "03b8d8c4",
   "metadata": {},
   "outputs": [],
   "source": [
    "The striped bat be hang on their foot and eat best batch of juicy leech"
   ]
  },
  {
   "cell_type": "markdown",
   "id": "4ef9f5d1",
   "metadata": {},
   "source": [
    "# Tokenization"
   ]
  },
  {
   "cell_type": "markdown",
   "id": "35ed28ae",
   "metadata": {},
   "source": [
    "Tokenization is one of the latest part of preprocessing in NLP. The definition is simple: It’s a process to breakdown our preprocessed words into array of features that already preprocessed so we can feed it to our process."
   ]
  },
  {
   "cell_type": "markdown",
   "id": "05102491",
   "metadata": {},
   "source": [
    "Why we called it features? For our current architecture, a feature is basically a single pre-processed word. But later when we’re using neural networks, a feature might be refer to sub-words."
   ]
  },
  {
   "cell_type": "markdown",
   "id": "877be066",
   "metadata": {},
   "source": [
    "Words such as “eating”, when we tokenized into sub-words, might be tokenized into something like “eat-ing”. But sub-words as features mostly held place when we need semantic relation between words, but for learning how NLP works without neural network it’s basically harder and mostly we can just refer to neural network for tasks that require these."
   ]
  },
  {
   "cell_type": "code",
   "execution_count": null,
   "id": "2baac986",
   "metadata": {},
   "outputs": [],
   "source": [
    "# @title Basic tokenization\n",
    "# Import required library\n",
    "from nltk.tokenize import word_tokenize\n",
    "import nltk\n",
    "nltk.download('punkt')\n",
    "\n",
    "# Sample text\n",
    "text = \"This is an example sentence for basic tokenization.\" #@param {text:\"string\"}\n",
    "\n",
    "# Tokenize the text\n",
    "tokens = word_tokenize(text)\n",
    "\n",
    "# Output the tokens\n",
    "print(tokens)"
   ]
  },
  {
   "cell_type": "code",
   "execution_count": null,
   "id": "b015b18f",
   "metadata": {},
   "outputs": [],
   "source": [
    "[nltk_data] Downloading package punkt to /root/nltk_data...\n",
    "[nltk_data]   Unzipping tokenizers/punkt.zip."
   ]
  },
  {
   "cell_type": "code",
   "execution_count": null,
   "id": "feb1f0b2",
   "metadata": {},
   "outputs": [],
   "source": [
    "['This', 'is', 'an', 'example', 'sentence', 'for', 'basic', 'tokenization', '.']"
   ]
  },
  {
   "cell_type": "code",
   "execution_count": null,
   "id": "a461c2c0",
   "metadata": {},
   "outputs": [],
   "source": [
    "# @title Sub-words tokenizer that is used by BERT model\n",
    "# Import required library\n",
    "from transformers import BertTokenizer\n",
    "\n",
    "# Initialize the tokenizer with a pretrained model\n",
    "tokenizer = BertTokenizer.from_pretrained('bert-base-uncased')\n",
    "\n",
    "# Sample text\n",
    "text = \"The striped bats were hanging on their feet and eating best batches of juicy leeches\" #@param\n",
    "\n",
    "# Tokenize the text\n",
    "tokens = tokenizer.tokenize(text)\n",
    "\n",
    "# Output the tokens\n",
    "print(tokens)"
   ]
  },
  {
   "cell_type": "code",
   "execution_count": null,
   "id": "4c8af2c1",
   "metadata": {},
   "outputs": [],
   "source": [
    "['the', 'striped', 'bats', 'were', 'hanging', 'on', 'their', 'feet', 'and', 'eating', 'best', 'batch', '##es', 'of', 'juicy', 'lee', '##ches']"
   ]
  },
  {
   "cell_type": "markdown",
   "id": "9c8977c0",
   "metadata": {},
   "source": [
    "As you can see above that some of the word is splitted to sub-words: “batch + ##es” and “lee + ##ches”. What to split to subwords is depend on the task at hand of course, and for BERT cases, lot’s of verb still considered a single token rather that splitting it."
   ]
  },
  {
   "cell_type": "markdown",
   "id": "05cef207",
   "metadata": {},
   "source": [
    "# How our model will understand which sentiment to assign our tweet to?"
   ]
  },
  {
   "cell_type": "markdown",
   "id": "dc6dd456",
   "metadata": {},
   "source": [
    "Let’s get a while back and try to understand below tweet:"
   ]
  },
  {
   "cell_type": "markdown",
   "id": "60eb1bb6",
   "metadata": {},
   "source": [
    "I’m really excited towards tomorrow for our shop opening, see you guys at xxx!"
   ]
  },
  {
   "cell_type": "markdown",
   "id": "37eae981",
   "metadata": {},
   "source": [
    "How can we conclude that tweet is positive again? It’s because it’s having the word excited, as we know that the word excited are more likely hinting to a sentence that is positive, but is unlikely to be existing on a sentence that is negative."
   ]
  },
  {
   "cell_type": "markdown",
   "id": "2171bdd7",
   "metadata": {},
   "source": [
    "So how can a model know, especially when we’re not doing deep-learning, how to differentiate a sentiment of a tweet? By checking if a sentence containing words that give hint towards one of the sentiment"
   ]
  },
  {
   "cell_type": "markdown",
   "id": "5345c8a7",
   "metadata": {},
   "source": [
    "# Excited are unlikely to be occuring on negative tweet"
   ]
  },
  {
   "cell_type": "markdown",
   "id": "789c9ffc",
   "metadata": {},
   "source": [
    "So how can we teach a machine that certain words should give a great hint that a tweet is positive while certain words can give a great hint for otherwise?"
   ]
  },
  {
   "cell_type": "markdown",
   "id": "37b8a0cc",
   "metadata": {},
   "source": [
    "We can of course just feed “excited”, “happy”, “sad”, etc, then tag them to be one way or another, but imagine if we don’t have the dictionary for all positive words and negative words, how can we compile them?"
   ]
  },
  {
   "cell_type": "markdown",
   "id": "1b383a7f",
   "metadata": {},
   "source": [
    "“Excited are unlikely to be occuring on negative tweet”"
   ]
  },
  {
   "cell_type": "markdown",
   "id": "3c8eb657",
   "metadata": {},
   "source": [
    "So if we can gather lots of tweets that already tagged as positive and negative, we can compile every word that are positive by checking all positive tweets and if there are lots of tweets that hinting that this word is positive."
   ]
  },
  {
   "cell_type": "markdown",
   "id": "30cde1bb",
   "metadata": {},
   "source": [
    "“Word like ‘technology’ can be occuring on positive and negative tweet, and shouldn’t affect a sentiment”"
   ]
  },
  {
   "cell_type": "markdown",
   "id": "7aa99cd8",
   "metadata": {},
   "source": [
    "But don’t forget that some words are neutral. It depends on your dataset, but let’s say if we’re scraping tweets from tech reviewer, the word “technology” would appear on positive sentiment, while still of course shown on negative sentiment."
   ]
  },
  {
   "cell_type": "markdown",
   "id": "8ac0ca78",
   "metadata": {},
   "source": [
    "So our first formula might be: - If a word often shown on a sentiment, it might be hinting that it’s classify as that sentiment - But if a word geared towards both sentiment, it most likely hinting that it’s a neutral word"
   ]
  },
  {
   "cell_type": "markdown",
   "id": "211b1c39",
   "metadata": {},
   "source": [
    "Above concept will be our baseline to understand two methods of Feature Extraction: Bag-of-words, and TF-IDF, which we’ll learn in our next session!"
   ]
  },
  {
   "cell_type": "markdown",
   "id": "54112386",
   "metadata": {},
   "source": [
    "# Isn’t NLP exciting?"
   ]
  },
  {
   "cell_type": "markdown",
   "id": "1e7e76aa",
   "metadata": {},
   "source": [
    "There are lots of challenge when it comes to a task as simple as sentiment analysis:"
   ]
  },
  {
   "cell_type": "markdown",
   "id": "2d2b879a",
   "metadata": {},
   "source": [
    "For sentence like that, we have to make sure that our model knowing to use that “not” and negate anything after"
   ]
  },
  {
   "cell_type": "markdown",
   "id": "bc8592fc",
   "metadata": {},
   "source": [
    "For sarcasm, it’s a whole another level. How to solve something like that? How a model can know which sentence is sarcasm, and which are not?"
   ]
  },
  {
   "cell_type": "markdown",
   "id": "acb63480",
   "metadata": {},
   "source": [
    "Of course we won’t give you the answer right away 😛, stay tune and stay curious!"
   ]
  }
 ],
 "metadata": {},
 "nbformat": 4,
 "nbformat_minor": 5
}
