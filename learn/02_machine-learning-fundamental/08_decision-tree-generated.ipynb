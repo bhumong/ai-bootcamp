{
 "cells": [
  {
   "cell_type": "markdown",
   "id": "59a305e8",
   "metadata": {},
   "source": [
    "source: [link](https://ai-bootcamp.ruangguru.com/learn/02_machine-learning-fundamental/08_decision-tree.html)"
   ]
  },
  {
   "cell_type": "markdown",
   "id": "bc9376a5",
   "metadata": {},
   "source": [
    "# Decision Tree"
   ]
  },
  {
   "cell_type": "markdown",
   "id": "06a63642",
   "metadata": {},
   "source": [
    "Decision Tree is a one of a popular (and simple) machine learning model. It’s a supervised learning model that can be used for both classification and regression. The intuition behind the decision tree is simple, yet powerful. It’s a tree-like model that makes a decision based on the given features. The decision tree is a white-box model, which means that it’s easy to interpret the model’s decision."
   ]
  },
  {
   "cell_type": "code",
   "execution_count": null,
   "id": "4bf2159d",
   "metadata": {},
   "outputs": [],
   "source": [
    "# Make a sample dataset to illustrate GINI impurity\n",
    "\n",
    "import numpy as np\n",
    "import matplotlib.pyplot as plt\n",
    "\n",
    "# Create a sample data set with 2 features and 2 classes and 100 samples\n",
    "# The GINI impurity should be = 0.5\n",
    "X = np.random.rand(100, 2)\n",
    "y = np.random.randint(0, 2, 100)\n",
    "\n",
    "# Plot the data\n",
    "plt.scatter(X[:, 0], X[:, 1], c=y)\n",
    "plt.xlabel('Feature 1')\n",
    "plt.ylabel('Feature 2')\n",
    "\n",
    "# Set gini number to the title\n",
    "plt.title('Gini = 0.5 with 2 classes')\n",
    "\n",
    "plt.show()"
   ]
  },
  {
   "cell_type": "markdown",
   "id": "34c5208f",
   "metadata": {},
   "source": []
  },
  {
   "cell_type": "code",
   "execution_count": null,
   "id": "a830ad0d",
   "metadata": {},
   "outputs": [],
   "source": [
    "# Make a sample dataset to illustrate GINI impurity\n",
    "\n",
    "import numpy as np\n",
    "import matplotlib.pyplot as plt\n",
    "\n",
    "# Create a sample data set with 2 features and 3 classes and 100 samples\n",
    "# The GINI impurity should be = 0.5\n",
    "\n",
    "X = np.random.rand(100, 2)\n",
    "y = np.random.randint(0, 3, 100)\n",
    "\n",
    "# Plot the data\n",
    "plt.scatter(X[:, 0], X[:, 1], c=y)\n",
    "plt.xlabel('Feature 1')\n",
    "plt.ylabel('Feature 2')\n",
    "\n",
    "# Set gini number to the title\n",
    "plt.title('Gini = 0.5 with 3 classes')\n",
    "\n",
    "plt.show()"
   ]
  },
  {
   "cell_type": "markdown",
   "id": "8a57bf62",
   "metadata": {},
   "source": []
  },
  {
   "cell_type": "code",
   "execution_count": null,
   "id": "77dd3803",
   "metadata": {},
   "outputs": [],
   "source": [
    "# Make a sample dataset to illustrate GINI impurity\n",
    "\n",
    "import numpy as np\n",
    "import matplotlib.pyplot as plt\n",
    "\n",
    "# Create a sample data set with 2 features and 2 classes and 100 samples\n",
    "# The GINI impurity should be = 0\n",
    "\n",
    "X = np.random.rand(100, 2)\n",
    "y = np.zeros(100)\n",
    "\n",
    "# Plot the data\n",
    "plt.scatter(X[:, 0], X[:, 1], c=y)\n",
    "plt.xlabel('Feature 1')\n",
    "plt.ylabel('Feature 2')\n",
    "\n",
    "# Set gini number to the title\n",
    "plt.title('Gini = 0')\n",
    "\n",
    "plt.show()"
   ]
  },
  {
   "cell_type": "markdown",
   "id": "3b32e8c7",
   "metadata": {},
   "source": []
  },
  {
   "cell_type": "markdown",
   "id": "fd99c647",
   "metadata": {},
   "source": [
    "# Example"
   ]
  },
  {
   "cell_type": "markdown",
   "id": "35aaa87c",
   "metadata": {},
   "source": [
    "Go to this link and try to split the data manually"
   ]
  },
  {
   "cell_type": "markdown",
   "id": "6865c6cf",
   "metadata": {},
   "source": [
    "Your goal: decide which feature the dataset should be split by to get better GINI value"
   ]
  },
  {
   "cell_type": "markdown",
   "id": "1dc5ede6",
   "metadata": {},
   "source": [
    "# Machine Learning Approach"
   ]
  },
  {
   "cell_type": "markdown",
   "id": "57c3e97a",
   "metadata": {},
   "source": [
    "Now let the machine do it for us:"
   ]
  },
  {
   "cell_type": "code",
   "execution_count": null,
   "id": "7c023d11",
   "metadata": {},
   "outputs": [],
   "source": [
    "!pip install pydotplus"
   ]
  },
  {
   "cell_type": "code",
   "execution_count": null,
   "id": "7add198e",
   "metadata": {},
   "outputs": [],
   "source": [
    "# load assets/decision-tree-exercise.csv\n",
    "\n",
    "import pandas as pd\n",
    "import numpy as np\n",
    "\n",
    "df = pd.read_csv('assets/decision-tree-exercise.csv')\n",
    "df.head()"
   ]
  },
  {
   "cell_type": "markdown",
   "id": "b556aef2",
   "metadata": {},
   "source": [
    "|  | Ticket Price | Holiday duration | Jakarta PM 2.5 | Temperature | Hectic in company? | Holiday to Bali |\n",
    "| --- | --- | --- | --- | --- | --- | --- |\n",
    "| 0 | 1200000 | 10 | 198 | 35 | Y | True |\n",
    "| 1 | 641374 | 4 | 103 | 31 | Y | False |\n",
    "| 2 | 1381146 | 9 | 194 | 39 | Y | True |\n",
    "| 3 | 1478889 | 7 | 169 | 32 | N | False |\n",
    "| 4 | 897024 | 5 | 189 | 32 | N | False |"
   ]
  },
  {
   "cell_type": "code",
   "execution_count": null,
   "id": "009cc3c7",
   "metadata": {},
   "outputs": [],
   "source": [
    "\n",
    "df.dtypes"
   ]
  },
  {
   "cell_type": "code",
   "execution_count": null,
   "id": "ad30ca0b",
   "metadata": {},
   "outputs": [],
   "source": [
    "Ticket Price           int64\n",
    "Holiday duration       int64\n",
    "Jakarta PM 2.5         int64\n",
    "Temperature            int64\n",
    "Hectic in company?    object\n",
    "Holiday to Bali         bool\n",
    "dtype: object"
   ]
  },
  {
   "cell_type": "code",
   "execution_count": null,
   "id": "9f6d6d0f",
   "metadata": {},
   "outputs": [],
   "source": [
    "# Build decision tree model using sci-kit learn\n",
    "\n",
    "from sklearn.tree import DecisionTreeClassifier\n",
    "\n",
    "columns = [\"Ticket Price\", \"Holiday duration\", \"Jakarta PM 2.5\", \"Temperature\", \"Hectic in company?\"]\n",
    "\n",
    "# convert Hectic in company? (y/n) to numeric\n",
    "df[\"Hectic in company?\"] = df[\"Hectic in company?\"].map({\"Y\": 1, \"N\": 0})\n",
    "\n",
    "# convert \"Holiday to Bali\" (TRUE/FALSE) to numeric\n",
    "df[\"Holiday to Bali\"] = df[\"Holiday to Bali\"].map({True: 1, False: 0})\n",
    "\n",
    "X = df[columns]\n",
    "y = df[\"Holiday to Bali\"]"
   ]
  },
  {
   "cell_type": "code",
   "execution_count": null,
   "id": "03f7ad6c",
   "metadata": {},
   "outputs": [],
   "source": [
    "X"
   ]
  },
  {
   "cell_type": "markdown",
   "id": "ea7551b9",
   "metadata": {},
   "source": [
    "|  | Ticket Price | Holiday duration | Jakarta PM 2.5 | Temperature | Hectic in company? |\n",
    "| --- | --- | --- | --- | --- | --- |\n",
    "| 0 | 1200000 | 10 | 198 | 35 | 1 |\n",
    "| 1 | 641374 | 4 | 103 | 31 | 1 |\n",
    "| 2 | 1381146 | 9 | 194 | 39 | 1 |\n",
    "| 3 | 1478889 | 7 | 169 | 32 | 0 |\n",
    "| 4 | 897024 | 5 | 189 | 32 | 0 |\n",
    "| ... | ... | ... | ... | ... | ... |\n",
    "| 195 | 537683 | 10 | 124 | 37 | 1 |\n",
    "| 196 | 1194739 | 1 | 104 | 33 | 1 |\n",
    "| 197 | 1124824 | 5 | 161 | 32 | 1 |\n",
    "| 198 | 718404 | 5 | 177 | 37 | 1 |\n",
    "| 199 | 599056 | 5 | 185 | 39 | 0 |"
   ]
  },
  {
   "cell_type": "markdown",
   "id": "ecf4a3de",
   "metadata": {},
   "source": [
    "200 rows × 5 columns"
   ]
  },
  {
   "cell_type": "code",
   "execution_count": null,
   "id": "e399cfbe",
   "metadata": {},
   "outputs": [],
   "source": [
    "# Split data into training and testing\n",
    "\n",
    "from sklearn.model_selection import train_test_split\n",
    "\n",
    "X_train, X_test, y_train, y_test = train_test_split(X, y)"
   ]
  },
  {
   "cell_type": "code",
   "execution_count": null,
   "id": "b030fbd0",
   "metadata": {},
   "outputs": [],
   "source": [
    "X_train.shape, X_test.shape, y_train.shape, y_test.shape"
   ]
  },
  {
   "cell_type": "code",
   "execution_count": null,
   "id": "b53cf57a",
   "metadata": {},
   "outputs": [],
   "source": [
    "((150, 5), (50, 5), (150,), (50,))"
   ]
  },
  {
   "cell_type": "code",
   "execution_count": null,
   "id": "e84ec820",
   "metadata": {},
   "outputs": [],
   "source": [
    "# Create model\n",
    "model = DecisionTreeClassifier(max_depth=3)\n",
    "\n",
    "# Train model\n",
    "model.fit(X_train, y_train)\n",
    "\n",
    "# Draw decision tree\n",
    "from sklearn.tree import export_graphviz\n",
    "from IPython.display import Image\n",
    "import pydotplus\n",
    "\n",
    "dot_data = export_graphviz(model, out_file=None, feature_names=columns, class_names=[\"No\", \"Yes\"], filled=True, rounded=True, special_characters=True)\n",
    "graph = pydotplus.graph_from_dot_data(dot_data)\n",
    "Image(graph.create_png())"
   ]
  },
  {
   "cell_type": "markdown",
   "id": "278621d3",
   "metadata": {},
   "source": []
  },
  {
   "cell_type": "code",
   "execution_count": null,
   "id": "6eadcefd",
   "metadata": {},
   "outputs": [],
   "source": [
    "# Validate model\n",
    "from sklearn.metrics import accuracy_score\n",
    "\n",
    "y_pred = model.predict(X_test)\n",
    "accuracy_score(y_test, y_pred)"
   ]
  },
  {
   "cell_type": "code",
   "execution_count": null,
   "id": "1ff5b4f8",
   "metadata": {},
   "outputs": [],
   "source": [
    "0.96"
   ]
  },
  {
   "cell_type": "markdown",
   "id": "9e9c3957",
   "metadata": {},
   "source": [
    "# What is Gini?"
   ]
  },
  {
   "cell_type": "markdown",
   "id": "77055633",
   "metadata": {},
   "source": [
    "Gini is a measure of impurity. The lower the gini, the purer the node."
   ]
  },
  {
   "cell_type": "markdown",
   "id": "4be3d152",
   "metadata": {},
   "source": [
    "\\[Gini = 1 - \\sum_{i=1}^{n} p_i^2\\]"
   ]
  },
  {
   "cell_type": "markdown",
   "id": "817fbf4e",
   "metadata": {},
   "source": []
  },
  {
   "cell_type": "markdown",
   "id": "b85aa26b",
   "metadata": {},
   "source": [
    "![Image](https://storage.googleapis.com/lds-media/images/gini-impurity-diagram.width-1200.png)"
   ]
  },
  {
   "cell_type": "markdown",
   "id": "53a089c0",
   "metadata": {},
   "source": [
    "Source: Learndatasci.com"
   ]
  },
  {
   "cell_type": "markdown",
   "id": "6ba8f56e",
   "metadata": {},
   "source": [
    "Depends on how we split the data, we can get different purity."
   ]
  },
  {
   "cell_type": "markdown",
   "id": "a5cb7c34",
   "metadata": {},
   "source": []
  },
  {
   "cell_type": "markdown",
   "id": "a43354e8",
   "metadata": {},
   "source": [
    "![Image](https://ekamperi.github.io/images/decision_trees/pure_vs_impure_node.png)"
   ]
  },
  {
   "cell_type": "markdown",
   "id": "a4981682",
   "metadata": {},
   "source": [
    "Source: ekamperi.github.io"
   ]
  },
  {
   "cell_type": "markdown",
   "id": "7f627196",
   "metadata": {},
   "source": [
    "# Alternatives to Gini"
   ]
  },
  {
   "cell_type": "markdown",
   "id": "c165a670",
   "metadata": {},
   "source": [
    "There are alternative metrics to using Gini impurity that can help us in building our Decision Tree:"
   ]
  },
  {
   "cell_type": "markdown",
   "id": "98b6ad9f",
   "metadata": {},
   "source": [
    "- Entropy: This is a measure of disorder or uncertainty. The entropy of a dataset is used for calculating the information gain, which is the reduction in entropy after a dataset is split on an attribute. Constructing a decision tree involves finding the attribute that returns the highest information gain (i.e., the most homogeneous branches).\n",
    "- Information Gain: This is the reduction in entropy or surprise that results from partitioning the data on an attribute. The decision tree will make the split where information gain is maximum, or equivalently, where entropy is minimum."
   ]
  },
  {
   "cell_type": "markdown",
   "id": "8ae0083f",
   "metadata": {},
   "source": [
    "Entropy: This is a measure of disorder or uncertainty. The entropy of a dataset is used for calculating the information gain, which is the reduction in entropy after a dataset is split on an attribute. Constructing a decision tree involves finding the attribute that returns the highest information gain (i.e., the most homogeneous branches)."
   ]
  },
  {
   "cell_type": "markdown",
   "id": "2b095336",
   "metadata": {},
   "source": [
    "Information Gain: This is the reduction in entropy or surprise that results from partitioning the data on an attribute. The decision tree will make the split where information gain is maximum, or equivalently, where entropy is minimum."
   ]
  }
 ],
 "metadata": {},
 "nbformat": 4,
 "nbformat_minor": 5
}
