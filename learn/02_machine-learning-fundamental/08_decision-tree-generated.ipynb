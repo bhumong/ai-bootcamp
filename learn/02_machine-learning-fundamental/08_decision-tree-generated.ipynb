{
 "cells": [
  {
   "cell_type": "markdown",
   "id": "884cbdf0",
   "metadata": {},
   "source": [
    "source: [link](https://ai-bootcamp.ruangguru.com/learn/02_machine-learning-fundamental/08_decision-tree.html)"
   ]
  },
  {
   "cell_type": "markdown",
   "id": "07a11bac",
   "metadata": {},
   "source": [
    "# Decision Tree"
   ]
  },
  {
   "cell_type": "markdown",
   "id": "e1216313",
   "metadata": {},
   "source": [
    "Decision Tree is a one of a popular (and simple) machine learning model. It’s a supervised learning model that can be used for both classification and regression. The intuition behind the decision tree is simple, yet powerful. It’s a tree-like model that makes a decision based on the given features. The decision tree is a white-box model, which means that it’s easy to interpret the model’s decision."
   ]
  },
  {
   "cell_type": "code",
   "execution_count": null,
   "id": "112185aa",
   "metadata": {},
   "outputs": [],
   "source": [
    "# Make a sample dataset to illustrate GINI impurity\n",
    "\n",
    "import numpy as np\n",
    "import matplotlib.pyplot as plt\n",
    "\n",
    "# Create a sample data set with 2 features and 2 classes and 100 samples\n",
    "# The GINI impurity should be = 0.5\n",
    "X = np.random.rand(100, 2)\n",
    "y = np.random.randint(0, 2, 100)\n",
    "\n",
    "# Plot the data\n",
    "plt.scatter(X[:, 0], X[:, 1], c=y)\n",
    "plt.xlabel('Feature 1')\n",
    "plt.ylabel('Feature 2')\n",
    "\n",
    "# Set gini number to the title\n",
    "plt.title('Gini = 0.5 with 2 classes')\n",
    "\n",
    "plt.show()"
   ]
  },
  {
   "cell_type": "markdown",
   "id": "838c86c6",
   "metadata": {},
   "source": []
  },
  {
   "cell_type": "code",
   "execution_count": null,
   "id": "4f1c5dc1",
   "metadata": {},
   "outputs": [],
   "source": [
    "# Make a sample dataset to illustrate GINI impurity\n",
    "\n",
    "import numpy as np\n",
    "import matplotlib.pyplot as plt\n",
    "\n",
    "# Create a sample data set with 2 features and 3 classes and 100 samples\n",
    "# The GINI impurity should be = 0.5\n",
    "\n",
    "X = np.random.rand(100, 2)\n",
    "y = np.random.randint(0, 3, 100)\n",
    "\n",
    "# Plot the data\n",
    "plt.scatter(X[:, 0], X[:, 1], c=y)\n",
    "plt.xlabel('Feature 1')\n",
    "plt.ylabel('Feature 2')\n",
    "\n",
    "# Set gini number to the title\n",
    "plt.title('Gini = 0.5 with 3 classes')\n",
    "\n",
    "plt.show()"
   ]
  },
  {
   "cell_type": "markdown",
   "id": "2ff6b155",
   "metadata": {},
   "source": []
  },
  {
   "cell_type": "code",
   "execution_count": null,
   "id": "ea8c1ce9",
   "metadata": {},
   "outputs": [],
   "source": [
    "# Make a sample dataset to illustrate GINI impurity\n",
    "\n",
    "import numpy as np\n",
    "import matplotlib.pyplot as plt\n",
    "\n",
    "# Create a sample data set with 2 features and 2 classes and 100 samples\n",
    "# The GINI impurity should be = 0\n",
    "\n",
    "X = np.random.rand(100, 2)\n",
    "y = np.zeros(100)\n",
    "\n",
    "# Plot the data\n",
    "plt.scatter(X[:, 0], X[:, 1], c=y)\n",
    "plt.xlabel('Feature 1')\n",
    "plt.ylabel('Feature 2')\n",
    "\n",
    "# Set gini number to the title\n",
    "plt.title('Gini = 0')\n",
    "\n",
    "plt.show()"
   ]
  },
  {
   "cell_type": "markdown",
   "id": "2b04eb40",
   "metadata": {},
   "source": []
  },
  {
   "cell_type": "markdown",
   "id": "10c57035",
   "metadata": {},
   "source": [
    "# Example"
   ]
  },
  {
   "cell_type": "markdown",
   "id": "a83bf6de",
   "metadata": {},
   "source": [
    "Go to this link and try to split the data manually"
   ]
  },
  {
   "cell_type": "markdown",
   "id": "fe5d3fdd",
   "metadata": {},
   "source": [
    "Your goal: decide which feature the dataset should be split by to get better GINI value"
   ]
  },
  {
   "cell_type": "markdown",
   "id": "3a006163",
   "metadata": {},
   "source": [
    "# Machine Learning Approach"
   ]
  },
  {
   "cell_type": "markdown",
   "id": "e7332d08",
   "metadata": {},
   "source": [
    "Now let the machine do it for us:"
   ]
  },
  {
   "cell_type": "code",
   "execution_count": null,
   "id": "e6be0d94",
   "metadata": {},
   "outputs": [],
   "source": [
    "!pip install pydotplus"
   ]
  },
  {
   "cell_type": "code",
   "execution_count": null,
   "id": "d99fe21c",
   "metadata": {},
   "outputs": [],
   "source": [
    "# load assets/decision-tree-exercise.csv\n",
    "\n",
    "import pandas as pd\n",
    "import numpy as np\n",
    "\n",
    "df = pd.read_csv('assets/decision-tree-exercise.csv')\n",
    "df.head()"
   ]
  },
  {
   "cell_type": "markdown",
   "id": "68ba8fa2",
   "metadata": {},
   "source": [
    "|  | Ticket Price | Holiday duration | Jakarta PM 2.5 | Temperature | Hectic in company? | Holiday to Bali |\n",
    "| --- | --- | --- | --- | --- | --- | --- |\n",
    "| 0 | 1200000 | 10 | 198 | 35 | Y | True |\n",
    "| 1 | 641374 | 4 | 103 | 31 | Y | False |\n",
    "| 2 | 1381146 | 9 | 194 | 39 | Y | True |\n",
    "| 3 | 1478889 | 7 | 169 | 32 | N | False |\n",
    "| 4 | 897024 | 5 | 189 | 32 | N | False |"
   ]
  },
  {
   "cell_type": "code",
   "execution_count": null,
   "id": "af137b26",
   "metadata": {},
   "outputs": [],
   "source": [
    "\n",
    "df.dtypes"
   ]
  },
  {
   "cell_type": "code",
   "execution_count": null,
   "id": "f2cf479b",
   "metadata": {},
   "outputs": [],
   "source": [
    "Ticket Price           int64\n",
    "Holiday duration       int64\n",
    "Jakarta PM 2.5         int64\n",
    "Temperature            int64\n",
    "Hectic in company?    object\n",
    "Holiday to Bali         bool\n",
    "dtype: object"
   ]
  },
  {
   "cell_type": "code",
   "execution_count": null,
   "id": "63b7618f",
   "metadata": {},
   "outputs": [],
   "source": [
    "# Build decision tree model using sci-kit learn\n",
    "\n",
    "from sklearn.tree import DecisionTreeClassifier\n",
    "\n",
    "columns = [\"Ticket Price\", \"Holiday duration\", \"Jakarta PM 2.5\", \"Temperature\", \"Hectic in company?\"]\n",
    "\n",
    "# convert Hectic in company? (y/n) to numeric\n",
    "df[\"Hectic in company?\"] = df[\"Hectic in company?\"].map({\"Y\": 1, \"N\": 0})\n",
    "\n",
    "# convert \"Holiday to Bali\" (TRUE/FALSE) to numeric\n",
    "df[\"Holiday to Bali\"] = df[\"Holiday to Bali\"].map({True: 1, False: 0})\n",
    "\n",
    "X = df[columns]\n",
    "y = df[\"Holiday to Bali\"]"
   ]
  },
  {
   "cell_type": "code",
   "execution_count": null,
   "id": "a5232140",
   "metadata": {},
   "outputs": [],
   "source": [
    "X"
   ]
  },
  {
   "cell_type": "markdown",
   "id": "b9bbbaf5",
   "metadata": {},
   "source": [
    "|  | Ticket Price | Holiday duration | Jakarta PM 2.5 | Temperature | Hectic in company? |\n",
    "| --- | --- | --- | --- | --- | --- |\n",
    "| 0 | 1200000 | 10 | 198 | 35 | 1 |\n",
    "| 1 | 641374 | 4 | 103 | 31 | 1 |\n",
    "| 2 | 1381146 | 9 | 194 | 39 | 1 |\n",
    "| 3 | 1478889 | 7 | 169 | 32 | 0 |\n",
    "| 4 | 897024 | 5 | 189 | 32 | 0 |\n",
    "| ... | ... | ... | ... | ... | ... |\n",
    "| 195 | 537683 | 10 | 124 | 37 | 1 |\n",
    "| 196 | 1194739 | 1 | 104 | 33 | 1 |\n",
    "| 197 | 1124824 | 5 | 161 | 32 | 1 |\n",
    "| 198 | 718404 | 5 | 177 | 37 | 1 |\n",
    "| 199 | 599056 | 5 | 185 | 39 | 0 |"
   ]
  },
  {
   "cell_type": "markdown",
   "id": "01ed68b9",
   "metadata": {},
   "source": [
    "200 rows × 5 columns"
   ]
  },
  {
   "cell_type": "code",
   "execution_count": null,
   "id": "4827c380",
   "metadata": {},
   "outputs": [],
   "source": [
    "# Split data into training and testing\n",
    "\n",
    "from sklearn.model_selection import train_test_split\n",
    "\n",
    "X_train, X_test, y_train, y_test = train_test_split(X, y)"
   ]
  },
  {
   "cell_type": "code",
   "execution_count": null,
   "id": "05a9cb07",
   "metadata": {},
   "outputs": [],
   "source": [
    "X_train.shape, X_test.shape, y_train.shape, y_test.shape"
   ]
  },
  {
   "cell_type": "code",
   "execution_count": null,
   "id": "9e4fa98b",
   "metadata": {},
   "outputs": [],
   "source": [
    "((150, 5), (50, 5), (150,), (50,))"
   ]
  },
  {
   "cell_type": "code",
   "execution_count": null,
   "id": "68ba01e5",
   "metadata": {},
   "outputs": [],
   "source": [
    "# Create model\n",
    "model = DecisionTreeClassifier(max_depth=3)\n",
    "\n",
    "# Train model\n",
    "model.fit(X_train, y_train)\n",
    "\n",
    "# Draw decision tree\n",
    "from sklearn.tree import export_graphviz\n",
    "from IPython.display import Image\n",
    "import pydotplus\n",
    "\n",
    "dot_data = export_graphviz(model, out_file=None, feature_names=columns, class_names=[\"No\", \"Yes\"], filled=True, rounded=True, special_characters=True)\n",
    "graph = pydotplus.graph_from_dot_data(dot_data)\n",
    "Image(graph.create_png())"
   ]
  },
  {
   "cell_type": "markdown",
   "id": "ac4a791c",
   "metadata": {},
   "source": []
  },
  {
   "cell_type": "code",
   "execution_count": null,
   "id": "f80571ed",
   "metadata": {},
   "outputs": [],
   "source": [
    "# Validate model\n",
    "from sklearn.metrics import accuracy_score\n",
    "\n",
    "y_pred = model.predict(X_test)\n",
    "accuracy_score(y_test, y_pred)"
   ]
  },
  {
   "cell_type": "code",
   "execution_count": null,
   "id": "31c6dea4",
   "metadata": {},
   "outputs": [],
   "source": [
    "0.96"
   ]
  },
  {
   "cell_type": "markdown",
   "id": "a79e8326",
   "metadata": {},
   "source": [
    "# What is Gini?"
   ]
  },
  {
   "cell_type": "markdown",
   "id": "88db3d26",
   "metadata": {},
   "source": [
    "Gini is a measure of impurity. The lower the gini, the purer the node."
   ]
  },
  {
   "cell_type": "markdown",
   "id": "2fceaa62",
   "metadata": {},
   "source": [
    "\\[Gini = 1 - \\sum_{i=1}^{n} p_i^2\\]"
   ]
  },
  {
   "cell_type": "markdown",
   "id": "fccdf7b5",
   "metadata": {},
   "source": []
  },
  {
   "cell_type": "markdown",
   "id": "d1a51dce",
   "metadata": {},
   "source": [
    "![Image](https://storage.googleapis.com/lds-media/images/gini-impurity-diagram.width-1200.png)"
   ]
  },
  {
   "cell_type": "markdown",
   "id": "70f699fa",
   "metadata": {},
   "source": [
    "Source: Learndatasci.com"
   ]
  },
  {
   "cell_type": "markdown",
   "id": "513996d2",
   "metadata": {},
   "source": [
    "Depends on how we split the data, we can get different purity."
   ]
  },
  {
   "cell_type": "markdown",
   "id": "3bc8a42d",
   "metadata": {},
   "source": []
  },
  {
   "cell_type": "markdown",
   "id": "5930bdf2",
   "metadata": {},
   "source": [
    "![Image](https://ekamperi.github.io/images/decision_trees/pure_vs_impure_node.png)"
   ]
  },
  {
   "cell_type": "markdown",
   "id": "502b1736",
   "metadata": {},
   "source": [
    "Source: ekamperi.github.io"
   ]
  },
  {
   "cell_type": "markdown",
   "id": "cf4f3065",
   "metadata": {},
   "source": [
    "# Alternatives to Gini"
   ]
  },
  {
   "cell_type": "markdown",
   "id": "3a488697",
   "metadata": {},
   "source": [
    "There are alternative metrics to using Gini impurity that can help us in building our Decision Tree:"
   ]
  },
  {
   "cell_type": "markdown",
   "id": "ab0aeb8c",
   "metadata": {},
   "source": [
    "Entropy: This is a measure of disorder or uncertainty. The entropy of a dataset is used for calculating the information gain, which is the reduction in entropy after a dataset is split on an attribute. Constructing a decision tree involves finding the attribute that returns the highest information gain (i.e., the most homogeneous branches)."
   ]
  },
  {
   "cell_type": "markdown",
   "id": "53f82f7c",
   "metadata": {},
   "source": [
    "Information Gain: This is the reduction in entropy or surprise that results from partitioning the data on an attribute. The decision tree will make the split where information gain is maximum, or equivalently, where entropy is minimum."
   ]
  }
 ],
 "metadata": {},
 "nbformat": 4,
 "nbformat_minor": 5
}
