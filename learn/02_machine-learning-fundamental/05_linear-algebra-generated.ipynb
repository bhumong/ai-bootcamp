{
 "cells": [
  {
   "cell_type": "markdown",
   "id": "30bc388a",
   "metadata": {},
   "source": [
    "source: [link](https://ai-bootcamp.ruangguru.com/learn/02_machine-learning-fundamental/05_linear-algebra.html)"
   ]
  },
  {
   "cell_type": "markdown",
   "id": "c645db00",
   "metadata": {},
   "source": [
    "# Visualizing linear algebra as vector spaces"
   ]
  },
  {
   "cell_type": "markdown",
   "id": "53c6af12",
   "metadata": {},
   "source": [
    "Learning matrices, dot product, linear transformation, or anything that is related to linear algebra can be a bit abstract and can be daunting. One of the best ways to understand linear algebra is to visualize it because surprisingly, linear algebra can be a lot easier to understand when you can see it."
   ]
  },
  {
   "cell_type": "markdown",
   "id": "9d556831",
   "metadata": {},
   "source": [
    "# Vector"
   ]
  },
  {
   "cell_type": "markdown",
   "id": "937b7749",
   "metadata": {},
   "source": [
    "There should be a video above, if it does not load, click this link: Single Vector Scene"
   ]
  },
  {
   "cell_type": "markdown",
   "id": "37b5bbc5",
   "metadata": {},
   "source": [
    "A single vector is a single data point that has multiple dimensions and placed in a dimensional space, which a single dimension represents a single feature. A feature is a single property of a data point."
   ]
  },
  {
   "cell_type": "markdown",
   "id": "9c540c3a",
   "metadata": {},
   "source": [
    "For example, if we have a data point of a person’s height and weight, we can represent it as a vector of 2 dimensions, where the first dimension is the height (which we can represent as x axis) and the second dimension is the weight (which we can represent as y axis). Each dimension is a feature of the data point."
   ]
  },
  {
   "cell_type": "markdown",
   "id": "f3c103aa",
   "metadata": {},
   "source": [
    "Here is an example for a vector of 3 dimensions (plotted at x = 2, y = 2, z = 2):"
   ]
  },
  {
   "cell_type": "markdown",
   "id": "eee03082",
   "metadata": {},
   "source": []
  },
  {
   "cell_type": "markdown",
   "id": "b4099758",
   "metadata": {},
   "source": [
    "![Image](https://storage.googleapis.com/rg-ai-bootcamp/machine-learning/Axes3DExample_ManimCE_v0.18.0-min.gif)"
   ]
  },
  {
   "cell_type": "markdown",
   "id": "f7a7ec81",
   "metadata": {},
   "source": [
    "# Matrix"
   ]
  },
  {
   "cell_type": "markdown",
   "id": "f8c0ea45",
   "metadata": {},
   "source": [
    "In linear algebra a dataset is represented as a matrix. A matrix is a collection of vectors. Every column in a matrix is a vector and every row is a property of the data, it’s commonly called a feature."
   ]
  },
  {
   "cell_type": "markdown",
   "id": "e5d25301",
   "metadata": {},
   "source": [
    "\\(\\begin{bmatrix} x \\\\ y \\\\ z \\end{bmatrix}\\)"
   ]
  },
  {
   "cell_type": "markdown",
   "id": "cc7b44ce",
   "metadata": {},
   "source": [
    "Above is a single data point of 3 dimensions or 3 features."
   ]
  },
  {
   "cell_type": "markdown",
   "id": "d73703bf",
   "metadata": {},
   "source": [
    "\\(\\begin{bmatrix} x_0 & x_1 & \\ldots & x_n \\\\ y_0 & y_1 & \\ldots & y_n \\\\ z_0 & z_1 & \\ldots & z_n \\end{bmatrix}\\)"
   ]
  },
  {
   "cell_type": "markdown",
   "id": "44eccf5c",
   "metadata": {},
   "source": [
    "Above matrix we have 3 dimensions or 3 features, and n data points. For example if we have data for student’s evaluation result, every dimension can be the student’s score for each subject (for example math for x, physics for y, and chemistry for z), and every row is a student."
   ]
  },
  {
   "cell_type": "markdown",
   "id": "a077c359",
   "metadata": {},
   "source": [
    "The concept when we’re grouping several vectors into a matrix, it’s called an augmented matrix."
   ]
  },
  {
   "cell_type": "markdown",
   "id": "99fdbc4c",
   "metadata": {},
   "source": [
    "# No curves"
   ]
  },
  {
   "cell_type": "markdown",
   "id": "50583bc0",
   "metadata": {},
   "source": [
    "In linear algebra, we don’t have curves. The vectors will always be straight. Unlike in calculus where we have curves if we’re working with polynomial functions."
   ]
  },
  {
   "cell_type": "markdown",
   "id": "0c8d261f",
   "metadata": {},
   "source": [
    "# The manipulation of space: Essence of linear algebra"
   ]
  },
  {
   "cell_type": "markdown",
   "id": "6d45c193",
   "metadata": {},
   "source": [
    "Below we have 2 x 1 matrix (2 rows and 1 column) which is a vector of 2 dimensions."
   ]
  },
  {
   "cell_type": "markdown",
   "id": "0a727884",
   "metadata": {},
   "source": [
    "$"
   ]
  },
  {
   "cell_type": "markdown",
   "id": "fe731e33",
   "metadata": {},
   "source": [
    "Of course you should’ve already been familiar with matrix multiplication like below formula"
   ]
  },
  {
   "cell_type": "markdown",
   "id": "1f06d4a6",
   "metadata": {},
   "source": [
    "\\(\\begin{bmatrix} 0 & -1 \\\\ 1 & 0 \\end{bmatrix} \\begin{bmatrix} 2 \\\\ 1 \\end{bmatrix} = \\begin{bmatrix} -1 \\\\ 2 \\end{bmatrix}\\)"
   ]
  },
  {
   "cell_type": "markdown",
   "id": "07616f6f",
   "metadata": {},
   "source": [
    "But do you know we can visualize above “tranformation” to a “space manipulation” like below?"
   ]
  },
  {
   "cell_type": "markdown",
   "id": "70a51187",
   "metadata": {},
   "source": [
    "There should be a video above, if it does not load, click this link: Matrix Multiplication Scene"
   ]
  },
  {
   "cell_type": "markdown",
   "id": "44da8fd8",
   "metadata": {},
   "source": [
    "As you can see, our \\(\\begin{bmatrix} 2 \\\\ 1 \\end{bmatrix}\\) is transformed to \\(\\begin{bmatrix} -1 \\\\ 2 \\end{bmatrix}\\) matrix"
   ]
  },
  {
   "cell_type": "markdown",
   "id": "5749ec21",
   "metadata": {},
   "source": [
    "This \\(\\begin{bmatrix} 0 & -1 \\\\ 1 & 0 \\end{bmatrix}\\) matrix is also known as rotation matrix, and for this matrix it will rotate the vector 90 degrees counter-clockwise."
   ]
  },
  {
   "cell_type": "markdown",
   "id": "899be035",
   "metadata": {},
   "source": [
    "# Augmented matrix"
   ]
  },
  {
   "cell_type": "markdown",
   "id": "a168606e",
   "metadata": {},
   "source": [
    "So if we have lots of data points, we can transform all of them using this very same matrix. For example if we have 6 data points, we can represent them as a matrix of 2 x 6 (2 rows and 6 columns) like below"
   ]
  },
  {
   "cell_type": "markdown",
   "id": "e9cd60ac",
   "metadata": {},
   "source": [
    "\\[\\begin{bmatrix}\n",
    "    0 & -1 \\\\\n",
    "    1 & 0\n",
    "\\end{bmatrix}\n",
    "\\begin{bmatrix}\n",
    "    2 & 3 & -3 & -2 & 4 & 2 \\\\\n",
    "    1 & 3 & 1 & -3 & -3 & 0\n",
    "\\end{bmatrix} =\n",
    "\\begin{bmatrix}\n",
    "    -1 & -3 & -1 & 3 & 3 & 0 \\\\\n",
    "    2 & 3 & -3 & -2 & 4 & 2\n",
    "\\end{bmatrix}\n",
    "\\]"
   ]
  },
  {
   "cell_type": "markdown",
   "id": "49469684",
   "metadata": {},
   "source": [
    "Every column represents a vector (your data) while every row represents a feature of the data (eg if we have 3 rows we can visualize it as x, y, and z axis)."
   ]
  },
  {
   "cell_type": "markdown",
   "id": "1b7fa972",
   "metadata": {},
   "source": [
    "And the visualization of the transformation is like below"
   ]
  },
  {
   "cell_type": "markdown",
   "id": "87f9cda5",
   "metadata": {},
   "source": [
    "There should be a video above, if it does not load, click this link: Multiple Data Matrix Multiplication Scene"
   ]
  },
  {
   "cell_type": "markdown",
   "id": "451fc3f0",
   "metadata": {},
   "source": [
    "And as you can see that the transformation matrix is placed on the left side of the data matrix (the matrix that contains our data points). So let’s visualize below equation where we have 2 linear transformations:"
   ]
  },
  {
   "cell_type": "markdown",
   "id": "affe277d",
   "metadata": {},
   "source": [
    "\\[\n",
    "\\begin{bmatrix}\n",
    "1 & 0.5 \\\\\n",
    "    0 & 1\n",
    "\\end{bmatrix}\n",
    "\\begin{bmatrix}\n",
    "0 & -1 \\\\\n",
    "    1 & 0\n",
    "\\end{bmatrix}\n",
    "\\begin{bmatrix} 2 & 3 & -3 & -2 & 4 & 2 \\\\ 1 & 3 & 1 & -3 & -3 & 0 \\end{bmatrix}\n",
    "=\\\\\n",
    "\\]"
   ]
  },
  {
   "cell_type": "markdown",
   "id": "1c702260",
   "metadata": {},
   "source": [
    "\\[\n",
    "\\begin{bmatrix}\n",
    "1 & 0.5 \\\\\n",
    "    0 & 1\n",
    "\\end{bmatrix}\n",
    "\\begin{bmatrix}\n",
    "-1 & -3 & -1 & 3 & 3 & 0 \\\\\n",
    "2 & 3 & -3 & -2 & 4 & 2 \\\\\n",
    "\\end{bmatrix}\n",
    "=\\\\\\\\\n",
    "\\]"
   ]
  },
  {
   "cell_type": "markdown",
   "id": "7b88cc8d",
   "metadata": {},
   "source": [
    "\\[\n",
    "\\begin{bmatrix}\n",
    "0 & -1.5 & -2.5 & 2 & 5 & 1 \\\\\n",
    "2 & 3 & -3 & -2 & 4 & 2\n",
    "\\end{bmatrix}\n",
    "\\]"
   ]
  },
  {
   "cell_type": "markdown",
   "id": "87ce00b1",
   "metadata": {},
   "source": [
    "There should be a video above, if it does not load, click this link: Multiple Data Matrix Multiplication Scene Then Skew"
   ]
  },
  {
   "cell_type": "markdown",
   "id": "323e4c27",
   "metadata": {},
   "source": [
    "Before reading further, please try to follow one of the vector (choose any of vector from the matrix, try to see where it is in the visualization) to get the feel of the transformation."
   ]
  },
  {
   "cell_type": "markdown",
   "id": "650ce81a",
   "metadata": {},
   "source": [
    "So for matrix transformation, it’s done from right to left. First we transform our data matrix with the most right transformation matrix, then we transform the result with the next matrix to the left, and so on. Remember that matrix multiplication is not commutative, so the order of the matrix matters."
   ]
  },
  {
   "cell_type": "markdown",
   "id": "9c8acb1d",
   "metadata": {},
   "source": [
    "Why it’s done from right to left? Basically it’s because it’s the convention. We can think about it like we’re applying function from right to left. So if we want to multiply matrix A and B and C, we can think about it as \\(A(B(C))\\), we “run” the function of \\(B(C)\\) first, given that the result is D, then we run the function of \\(A(D)\\)."
   ]
  },
  {
   "cell_type": "markdown",
   "id": "f57cf6a4",
   "metadata": {},
   "source": [
    "Additional note is that below matrix"
   ]
  },
  {
   "cell_type": "markdown",
   "id": "f4d4f0ad",
   "metadata": {},
   "source": [
    "\\[\n",
    "\\begin{bmatrix} 1 & 0.5 \\\\\n",
    "    0 & 1\n",
    "\\end{bmatrix}\n",
    "\\]"
   ]
  },
  {
   "cell_type": "markdown",
   "id": "2a400bff",
   "metadata": {},
   "source": [
    "Is called shear matrix, where it will skew our vectors which you can see yourself in the visualization above, right after the 90 degrees rotation matrix applied."
   ]
  },
  {
   "cell_type": "markdown",
   "id": "61f76786",
   "metadata": {},
   "source": [
    "# Intuition of linear transformation"
   ]
  },
  {
   "cell_type": "markdown",
   "id": "4fa8d128",
   "metadata": {},
   "source": []
  },
  {
   "cell_type": "markdown",
   "id": "a3dcc56c",
   "metadata": {},
   "source": [
    "![Image](https://storage.googleapis.com/rg-ai-bootcamp/machine-learning/linear-transformation-1-min.png)"
   ]
  },
  {
   "cell_type": "markdown",
   "id": "845271c2",
   "metadata": {},
   "source": [
    "Let’s try to get some intuition for some of the linear transformation. For example if we have vector \\(\\begin{bmatrix} 2 \\\\ 1 \\end{bmatrix}\\), how can we rotate it 90 degrees counter-clockwise?"
   ]
  },
  {
   "cell_type": "markdown",
   "id": "0f0021b9",
   "metadata": {},
   "source": [
    "We can do that by visualizing how he vector end up after the transformation. For our matrix of \\(\\begin{bmatrix} 2 \\\\ 1 \\end{bmatrix}\\), we can see that after the transformation, the vector end up at \\(\\begin{bmatrix} -1 \\\\ 2 \\end{bmatrix}\\)."
   ]
  },
  {
   "cell_type": "markdown",
   "id": "29123d9d",
   "metadata": {},
   "source": [
    "So how do we deduce the transformation matrix from that?"
   ]
  },
  {
   "cell_type": "markdown",
   "id": "fe36fc51",
   "metadata": {},
   "source": [
    "As we can see, our previous \\(\\begin{bmatrix} x \\\\ y \\end{bmatrix}\\) is transformed to \\(\\begin{bmatrix} -y \\\\ x \\end{bmatrix}\\). And because transformation matrix rows and columns must match the dimension of the vector that we’re transforming, we can define below matrix"
   ]
  },
  {
   "cell_type": "markdown",
   "id": "32d13066",
   "metadata": {},
   "source": [
    "\\[\n",
    "\\begin{bmatrix}\n",
    "a & b \\\\\n",
    "c & d\n",
    "\\end{bmatrix} \\begin{bmatrix} x \\\\ y \\end{bmatrix} = \\begin{bmatrix} -y \\\\ x \\end{bmatrix}\n",
    "\\]"
   ]
  },
  {
   "cell_type": "markdown",
   "id": "b027ee80",
   "metadata": {},
   "source": [
    "\\(a\\) can be thought as what value from previous x that we want to put to the new \\(x\\), let’s say it’s \\(x'\\)."
   ]
  },
  {
   "cell_type": "markdown",
   "id": "8a963b94",
   "metadata": {},
   "source": [
    "\\[\n",
    "\\begin{bmatrix}\n",
    "a & b \\\\\n",
    "c & d\n",
    "\\end{bmatrix} \\begin{bmatrix} x \\\\ y \\end{bmatrix} = \\begin{bmatrix} -y \\\\ x \\end{bmatrix} = \\begin{bmatrix} x' \\\\ y' \\end{bmatrix}\n",
    "\\]"
   ]
  },
  {
   "cell_type": "markdown",
   "id": "8cf0102a",
   "metadata": {},
   "source": [
    "Which as we can see that"
   ]
  },
  {
   "cell_type": "markdown",
   "id": "02c8a1b4",
   "metadata": {},
   "source": [
    "\\[\n",
    "ax + by = -y = x' \\\\\n",
    "cx + dy = x = y'\n",
    "\\]"
   ]
  },
  {
   "cell_type": "markdown",
   "id": "a4f4a684",
   "metadata": {},
   "source": [
    "As we can see from our transformed matrix which is \\(\\begin{bmatrix} -y \\\\ x \\end{bmatrix}\\), the previous \\(x\\) is not carried over to \\(x'\\) (because as we can see that \\(x'\\) = \\(-y\\)), so we can deduce that \\(a\\) is 0."
   ]
  },
  {
   "cell_type": "markdown",
   "id": "04e9c5dd",
   "metadata": {},
   "source": [
    "\\[\n",
    "0x + by = -y = x' \\\\\n",
    "by = -y \\\\\n",
    "b = -1\n",
    "\\]"
   ]
  },
  {
   "cell_type": "markdown",
   "id": "1b9f4751",
   "metadata": {},
   "source": [
    "Next for \\(cx + dy = x = y'\\), we can deduce that \\(y\\) is not carried over to \\(y'\\) because \\(y'\\) = \\(x\\), so we can deduce that \\(d\\) is 0."
   ]
  },
  {
   "cell_type": "markdown",
   "id": "a6007022",
   "metadata": {},
   "source": [
    "\\[\n",
    "cx + 0y = x = y' \\\\\n",
    "cx = x \\\\\n",
    "c = 1\n",
    "\\]"
   ]
  },
  {
   "cell_type": "markdown",
   "id": "b5c81cf7",
   "metadata": {},
   "source": [
    "So now we can deduce that our transformation matrix for 90 degrees counter-clockwise rotation is"
   ]
  },
  {
   "cell_type": "markdown",
   "id": "d6a8589e",
   "metadata": {},
   "source": [
    "\\[\n",
    "\\begin{bmatrix}\n",
    "0 & -1 \\\\\n",
    "1 & 0\n",
    "\\end{bmatrix}\n",
    "\\]"
   ]
  },
  {
   "cell_type": "markdown",
   "id": "1d277861",
   "metadata": {},
   "source": [
    "# Exercise 1"
   ]
  },
  {
   "cell_type": "markdown",
   "id": "7a4c43a1",
   "metadata": {},
   "source": []
  },
  {
   "cell_type": "markdown",
   "id": "7611f6a5",
   "metadata": {},
   "source": [
    "![Image](https://storage.googleapis.com/rg-ai-bootcamp/machine-learning/linear-transformation-2-min.png)"
   ]
  },
  {
   "cell_type": "markdown",
   "id": "fe26ef91",
   "metadata": {},
   "source": [
    "Above is a visualization of a linear transformation of 180 degrees rotation. Try to deduce the transformation matrix for this linear transformation."
   ]
  },
  {
   "cell_type": "markdown",
   "id": "a595efa3",
   "metadata": {},
   "source": [
    "Note: The submission will be in python list such as [[a, b], [c, d]], where it will be equivalent to \\(\\begin{bmatrix} a & b \\\\ c & d \\end{bmatrix}\\) matrix"
   ]
  },
  {
   "cell_type": "code",
   "execution_count": null,
   "id": "5d148f50",
   "metadata": {},
   "outputs": [],
   "source": [
    "!pip install rggrader"
   ]
  },
  {
   "cell_type": "code",
   "execution_count": null,
   "id": "f60bd220",
   "metadata": {},
   "outputs": [],
   "source": [
    "from rggrader import submit\n",
    "\n",
    "# @title #### Student Identity\n",
    "student_id = \"your student id\" # @param {type:\"string\"}\n",
    "name = \"your name\" # @param {type:\"string\"}"
   ]
  },
  {
   "cell_type": "code",
   "execution_count": null,
   "id": "6bca41da",
   "metadata": {},
   "outputs": [],
   "source": [
    "assignment_id = \"14_linear-algebra\"\n",
    "question_id = \"01_180_rotation_matrix\"\n",
    "matrix = [[0, 0], [0, 0]] \n",
    "submit(student_id, name, assignment_id, str(matrix), question_id)"
   ]
  },
  {
   "cell_type": "markdown",
   "id": "7e7bb03f",
   "metadata": {},
   "source": [
    "# Exercise 2"
   ]
  },
  {
   "cell_type": "markdown",
   "id": "3007c938",
   "metadata": {},
   "source": []
  },
  {
   "cell_type": "markdown",
   "id": "4e2da046",
   "metadata": {},
   "source": [
    "![Image](https://storage.googleapis.com/rg-ai-bootcamp/machine-learning/linear-transformation-3-min.png)"
   ]
  },
  {
   "cell_type": "markdown",
   "id": "4aca2e90",
   "metadata": {},
   "source": [
    "Above is the visualization of a linear transformation of 90 degrees clockwise rotation. Try to deduce the transformation matrix for this linear transformation."
   ]
  },
  {
   "cell_type": "code",
   "execution_count": null,
   "id": "4ae09f67",
   "metadata": {},
   "outputs": [],
   "source": [
    "!pip install rggrader"
   ]
  },
  {
   "cell_type": "code",
   "execution_count": null,
   "id": "9de4c7e4",
   "metadata": {},
   "outputs": [],
   "source": [
    "from rggrader import submit\n",
    "\n",
    "# @title #### Student Identity\n",
    "student_id = \"your student id\" # @param {type:\"string\"}\n",
    "name = \"your name\" # @param {type:\"string\"}"
   ]
  },
  {
   "cell_type": "code",
   "execution_count": null,
   "id": "f2a79f83",
   "metadata": {},
   "outputs": [],
   "source": [
    "assignment_id = \"14_linear-algebra\"\n",
    "question_id = \"02_90_rotation_matrix\"\n",
    "matrix = [[0, 0], [0, 0]]\n",
    "submit(student_id, name, assignment_id, str(matrix), question_id)"
   ]
  },
  {
   "cell_type": "markdown",
   "id": "39f74e3f",
   "metadata": {},
   "source": [
    "# Vectors vs Points"
   ]
  },
  {
   "cell_type": "markdown",
   "id": "4b57c507",
   "metadata": {},
   "source": [
    "In linear algebra, we’re working with vectors, but we can use points to represent vectors visually especially if we’re working with lots of vectors - It’s just get overwhelming to see bunch of arrows rather than just bunch of dots."
   ]
  },
  {
   "cell_type": "markdown",
   "id": "96b1edec",
   "metadata": {},
   "source": [
    "There should be a video above, if it does not load, click this link: Multiple Data Matrix Multiplication With Points"
   ]
  },
  {
   "cell_type": "markdown",
   "id": "017630ce",
   "metadata": {},
   "source": [
    "# Vector length"
   ]
  },
  {
   "cell_type": "markdown",
   "id": "98d4f0a8",
   "metadata": {},
   "source": [
    "The length of a vector is the distance from the origin of the dimensional space to the vector’s position. The length of a vector is also known as the magnitude of a vector."
   ]
  },
  {
   "cell_type": "markdown",
   "id": "bbcaf99d",
   "metadata": {},
   "source": [
    "# Norm"
   ]
  },
  {
   "cell_type": "markdown",
   "id": "f65ede01",
   "metadata": {},
   "source": [
    "# Manhattan norm"
   ]
  },
  {
   "cell_type": "markdown",
   "id": "a95c8cc1",
   "metadata": {},
   "source": []
  },
  {
   "cell_type": "markdown",
   "id": "e016bf17",
   "metadata": {},
   "source": [
    "![Image](https://storage.googleapis.com/rg-ai-bootcamp/machine-learning/manhattan-1-min.png)"
   ]
  },
  {
   "cell_type": "markdown",
   "id": "64bc224a",
   "metadata": {},
   "source": [
    "Manhattan norm is how to measure distance between 2 points by “walking” through the grid without ever going diagonally. So for above 2 vectors we have (2, 4) and (5, 8), and by counting every step we take to reach the destination, we can calculate the distance between those 2 vectors is 7."
   ]
  },
  {
   "cell_type": "markdown",
   "id": "cd20c747",
   "metadata": {},
   "source": [
    "Now, let’s generalize. Above steps that we’ve taken basically can be rearranged to below image"
   ]
  },
  {
   "cell_type": "markdown",
   "id": "1d82c7c1",
   "metadata": {},
   "source": []
  },
  {
   "cell_type": "markdown",
   "id": "f00caf3c",
   "metadata": {},
   "source": [
    "![Image](https://storage.googleapis.com/rg-ai-bootcamp/machine-learning/manhattan-2-min.png)"
   ]
  },
  {
   "cell_type": "markdown",
   "id": "0a066ef8",
   "metadata": {},
   "source": [
    "And above image can be summarized to below image"
   ]
  },
  {
   "cell_type": "markdown",
   "id": "e037200c",
   "metadata": {},
   "source": []
  },
  {
   "cell_type": "markdown",
   "id": "2c5c19e6",
   "metadata": {},
   "source": [
    "![Image](https://storage.googleapis.com/rg-ai-bootcamp/machine-learning/manhattan-3-min.png)"
   ]
  },
  {
   "cell_type": "markdown",
   "id": "1c37f493",
   "metadata": {},
   "source": [
    "So basically on manhattan norm we can calculate the distance from (2, 4) to (5, 8) by walking 3 steps to the right (5 is our destination, and 2 is our origin, 5 - 2 = 3) and 4 steps to the top (8 is our destination, and 4 is our origin, 8 - 4 = 4). So the distance is 3 + 4 = 7. If we formalize it, we have below formula:"
   ]
  },
  {
   "cell_type": "markdown",
   "id": "63e7dc39",
   "metadata": {},
   "source": [
    "\\[\n",
    "\\text{Manhattan norm} = |a_1 - b_1| + |a_2 - b_2|\n",
    "\\]"
   ]
  },
  {
   "cell_type": "markdown",
   "id": "7ee70697",
   "metadata": {},
   "source": [
    "Where a is our origin and b is our destination and the subscript 1 and 2 is the single data point on that vector (eg \\(a_1\\) is the first data point on vector a, for vector of (2, 4) it will be 2, and for vector of (5, 8) it will be 5)."
   ]
  },
  {
   "cell_type": "markdown",
   "id": "57685e06",
   "metadata": {},
   "source": [
    "This can later be generalized to more than 2 dimensions:"
   ]
  },
  {
   "cell_type": "markdown",
   "id": "eb7f8134",
   "metadata": {},
   "source": [
    "\\[\n",
    "\\text{Manhattan norm} = \\sum_{i=1}^{n} |a_i - b_i|\n",
    "\\]"
   ]
  },
  {
   "cell_type": "markdown",
   "id": "820f3715",
   "metadata": {},
   "source": [
    "Where n is the number of dimensions/features of the vector."
   ]
  },
  {
   "cell_type": "markdown",
   "id": "d3cfbcc7",
   "metadata": {},
   "source": [
    "Note that the notation for the manhattan norm is \\(||x||_1\\) or \\(||x||_M\\)"
   ]
  },
  {
   "cell_type": "markdown",
   "id": "f722ee7d",
   "metadata": {},
   "source": [
    "# Euclidean norm"
   ]
  },
  {
   "cell_type": "markdown",
   "id": "ffc07442",
   "metadata": {},
   "source": []
  },
  {
   "cell_type": "markdown",
   "id": "78e46caa",
   "metadata": {},
   "source": [
    "![Image](https://storage.googleapis.com/rg-ai-bootcamp/machine-learning/euclidean-1-min.png)"
   ]
  },
  {
   "cell_type": "markdown",
   "id": "0a146d94",
   "metadata": {},
   "source": [
    "After understanding manhattan norm, euclidean norm can be understood easily. Euclidean norm is basically “enabling” us to go diagonally. So for above 2 vectors we have (2, 4) and (5, 8), and by using pythagoras theorem we can calculate the distance between those 2 vectors is"
   ]
  },
  {
   "cell_type": "markdown",
   "id": "876dc0fc",
   "metadata": {},
   "source": [
    "\\[\n",
    "\\sqrt{(5 - 2)^2 + (8 - 4)^2} = \\sqrt{9 + 16} = \\sqrt{25} = 5\n",
    "\\]"
   ]
  },
  {
   "cell_type": "markdown",
   "id": "3e55fe04",
   "metadata": {},
   "source": [
    "This pythagoras theorem can held true for any number of dimensions, so we can generalize it to below formula:"
   ]
  },
  {
   "cell_type": "markdown",
   "id": "c4deadf1",
   "metadata": {},
   "source": [
    "\\[\n",
    "\\text{Euclidean norm} = \\sqrt{\\sum_{i=1}^{n} (a_i - b_i)^2}\n",
    "\\]"
   ]
  },
  {
   "cell_type": "markdown",
   "id": "50548067",
   "metadata": {},
   "source": [
    "Where n is the number of dimensions/features of the vector."
   ]
  },
  {
   "cell_type": "markdown",
   "id": "4250cf46",
   "metadata": {},
   "source": [
    "Then the notation for the euclidean norm is \\(||x||_2\\), and most of the times if no subscript is given (only \\(||x||\\)), it most likely means euclidean norm."
   ]
  },
  {
   "cell_type": "markdown",
   "id": "ecf50b0f",
   "metadata": {},
   "source": [
    "# Summarization of manhattan and euclidean norm"
   ]
  },
  {
   "cell_type": "markdown",
   "id": "aca98256",
   "metadata": {},
   "source": [
    "To summarize between manhattan and euclidean norm, below is the visualization:"
   ]
  },
  {
   "cell_type": "markdown",
   "id": "327cde70",
   "metadata": {},
   "source": []
  },
  {
   "cell_type": "markdown",
   "id": "429b39a4",
   "metadata": {},
   "source": [
    "![Image](https://storage.googleapis.com/rg-ai-bootcamp/machine-learning/euclidean-manhattan-min.png)"
   ]
  },
  {
   "cell_type": "markdown",
   "id": "2336bcbb",
   "metadata": {},
   "source": [
    "# Hundreds Of Dimensions And the Amazing Applications"
   ]
  },
  {
   "cell_type": "markdown",
   "id": "44f7d243",
   "metadata": {},
   "source": [
    "Linear algebra allowing us to “playing” with higher-dimensional space, so the calculation is not bound to 2 or 3 dimensions. We can have hundreds of dimensions, even thousands of dimensions, even though it’s impossible for us to visualize it, because we can just scale the calculation that we have on 2 and 3 dimensions to higher dimensions. For our learning we’ll mostly working with 2 dimensions to make it easier to visualize and understand, but every formula is scalable to billions of dimensions."
   ]
  },
  {
   "cell_type": "markdown",
   "id": "784dcc25",
   "metadata": {},
   "source": [
    "This kind of calculation is basically what is happening in Natural Language Processing (NLP), Computer Vision (CV), Audio Processing, and other fields that are using deep learning. The data is mostly saved as a matrix with hundreds or thousands of dimensions, and then it’s processed by calculating it with other matrices, and then the result is converted back to something that we as humans can understand. Amazing isn’t it? A really complex machine learning models like GPT is basically just a bunch of matrix multiplications, data transformed in higher dimensional space, and then converted back to something that we can understand, by, again, just a bunch of matrix multiplications."
   ]
  }
 ],
 "metadata": {},
 "nbformat": 4,
 "nbformat_minor": 5
}
