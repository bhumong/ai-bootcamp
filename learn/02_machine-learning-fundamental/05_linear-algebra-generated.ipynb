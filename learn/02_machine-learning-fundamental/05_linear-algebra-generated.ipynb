{
 "cells": [
  {
   "cell_type": "markdown",
   "id": "69928781",
   "metadata": {},
   "source": [
    "source: [link](https://ai-bootcamp.ruangguru.com/learn/02_machine-learning-fundamental/05_linear-algebra.html)"
   ]
  },
  {
   "cell_type": "markdown",
   "id": "2d19317e",
   "metadata": {},
   "source": [
    "# Visualizing linear algebra as vector spaces"
   ]
  },
  {
   "cell_type": "markdown",
   "id": "6f914acf",
   "metadata": {},
   "source": [
    "Learning matrices, dot product, linear transformation, or anything that is related to linear algebra can be a bit abstract and can be daunting. One of the best ways to understand linear algebra is to visualize it because surprisingly, linear algebra can be a lot easier to understand when you can see it."
   ]
  },
  {
   "cell_type": "markdown",
   "id": "bd1f0918",
   "metadata": {},
   "source": [
    "# Vector"
   ]
  },
  {
   "cell_type": "markdown",
   "id": "51c065a8",
   "metadata": {},
   "source": [
    "There should be a video above, if it does not load, click this link: Single Vector Scene"
   ]
  },
  {
   "cell_type": "markdown",
   "id": "09dd3b74",
   "metadata": {},
   "source": [
    "A single vector is a single data point that has multiple dimensions and placed in a dimensional space, which a single dimension represents a single feature. A feature is a single property of a data point."
   ]
  },
  {
   "cell_type": "markdown",
   "id": "128396ee",
   "metadata": {},
   "source": [
    "For example, if we have a data point of a person’s height and weight, we can represent it as a vector of 2 dimensions, where the first dimension is the height (which we can represent as x axis) and the second dimension is the weight (which we can represent as y axis). Each dimension is a feature of the data point."
   ]
  },
  {
   "cell_type": "markdown",
   "id": "1001a4ff",
   "metadata": {},
   "source": [
    "Here is an example for a vector of 3 dimensions (plotted at x = 2, y = 2, z = 2):"
   ]
  },
  {
   "cell_type": "markdown",
   "id": "148617b4",
   "metadata": {},
   "source": []
  },
  {
   "cell_type": "markdown",
   "id": "ea6e28d7",
   "metadata": {},
   "source": [
    "![Image](https://storage.googleapis.com/rg-ai-bootcamp/machine-learning/Axes3DExample_ManimCE_v0.18.0-min.gif)"
   ]
  },
  {
   "cell_type": "markdown",
   "id": "28daf2fa",
   "metadata": {},
   "source": [
    "# Matrix"
   ]
  },
  {
   "cell_type": "markdown",
   "id": "3f77836a",
   "metadata": {},
   "source": [
    "In linear algebra a dataset is represented as a matrix. A matrix is a collection of vectors. Every column in a matrix is a vector and every row is a property of the data, it’s commonly called a feature."
   ]
  },
  {
   "cell_type": "markdown",
   "id": "26249234",
   "metadata": {},
   "source": [
    "\\(\\begin{bmatrix} x \\\\ y \\\\ z \\end{bmatrix}\\)"
   ]
  },
  {
   "cell_type": "markdown",
   "id": "f3afc46a",
   "metadata": {},
   "source": [
    "Above is a single data point of 3 dimensions or 3 features."
   ]
  },
  {
   "cell_type": "markdown",
   "id": "44fa9311",
   "metadata": {},
   "source": [
    "\\(\\begin{bmatrix} x_0 & x_1 & \\ldots & x_n \\\\ y_0 & y_1 & \\ldots & y_n \\\\ z_0 & z_1 & \\ldots & z_n \\end{bmatrix}\\)"
   ]
  },
  {
   "cell_type": "markdown",
   "id": "a9b293d0",
   "metadata": {},
   "source": [
    "Above matrix we have 3 dimensions or 3 features, and n data points. For example if we have data for student’s evaluation result, every dimension can be the student’s score for each subject (for example math for x, physics for y, and chemistry for z), and every row is a student."
   ]
  },
  {
   "cell_type": "markdown",
   "id": "ea09e786",
   "metadata": {},
   "source": [
    "The concept when we’re grouping several vectors into a matrix, it’s called an augmented matrix."
   ]
  },
  {
   "cell_type": "markdown",
   "id": "7c9ae201",
   "metadata": {},
   "source": [
    "# No curves"
   ]
  },
  {
   "cell_type": "markdown",
   "id": "4a4b15ed",
   "metadata": {},
   "source": [
    "In linear algebra, we don’t have curves. The vectors will always be straight. Unlike in calculus where we have curves if we’re working with polynomial functions."
   ]
  },
  {
   "cell_type": "markdown",
   "id": "b1666d11",
   "metadata": {},
   "source": [
    "# The manipulation of space: Essence of linear algebra"
   ]
  },
  {
   "cell_type": "markdown",
   "id": "122b719c",
   "metadata": {},
   "source": [
    "Below we have 2 x 1 matrix (2 rows and 1 column) which is a vector of 2 dimensions."
   ]
  },
  {
   "cell_type": "markdown",
   "id": "2a10f2ea",
   "metadata": {},
   "source": [
    "$"
   ]
  },
  {
   "cell_type": "markdown",
   "id": "26d8a50a",
   "metadata": {},
   "source": [
    "Of course you should’ve already been familiar with matrix multiplication like below formula"
   ]
  },
  {
   "cell_type": "markdown",
   "id": "0759ebd5",
   "metadata": {},
   "source": [
    "\\(\\begin{bmatrix} 0 & -1 \\\\ 1 & 0 \\end{bmatrix} \\begin{bmatrix} 2 \\\\ 1 \\end{bmatrix} = \\begin{bmatrix} -1 \\\\ 2 \\end{bmatrix}\\)"
   ]
  },
  {
   "cell_type": "markdown",
   "id": "975b25c0",
   "metadata": {},
   "source": [
    "But do you know we can visualize above “tranformation” to a “space manipulation” like below?"
   ]
  },
  {
   "cell_type": "markdown",
   "id": "c83cdd2f",
   "metadata": {},
   "source": [
    "There should be a video above, if it does not load, click this link: Matrix Multiplication Scene"
   ]
  },
  {
   "cell_type": "markdown",
   "id": "1baf5345",
   "metadata": {},
   "source": [
    "As you can see, our \\(\\begin{bmatrix} 2 \\\\ 1 \\end{bmatrix}\\) is transformed to \\(\\begin{bmatrix} -1 \\\\ 2 \\end{bmatrix}\\) matrix"
   ]
  },
  {
   "cell_type": "markdown",
   "id": "9314657c",
   "metadata": {},
   "source": [
    "This \\(\\begin{bmatrix} 0 & -1 \\\\ 1 & 0 \\end{bmatrix}\\) matrix is also known as rotation matrix, and for this matrix it will rotate the vector 90 degrees counter-clockwise."
   ]
  },
  {
   "cell_type": "markdown",
   "id": "4874239b",
   "metadata": {},
   "source": [
    "# Augmented matrix"
   ]
  },
  {
   "cell_type": "markdown",
   "id": "cfcedcf9",
   "metadata": {},
   "source": [
    "So if we have lots of data points, we can transform all of them using this very same matrix. For example if we have 6 data points, we can represent them as a matrix of 2 x 6 (2 rows and 6 columns) like below"
   ]
  },
  {
   "cell_type": "markdown",
   "id": "bedbeddd",
   "metadata": {},
   "source": [
    "\\[\\begin{bmatrix}\n",
    "    0 & -1 \\\\\n",
    "    1 & 0\n",
    "\\end{bmatrix}\n",
    "\\begin{bmatrix}\n",
    "    2 & 3 & -3 & -2 & 4 & 2 \\\\\n",
    "    1 & 3 & 1 & -3 & -3 & 0\n",
    "\\end{bmatrix} =\n",
    "\\begin{bmatrix}\n",
    "    -1 & -3 & -1 & 3 & 3 & 0 \\\\\n",
    "    2 & 3 & -3 & -2 & 4 & 2\n",
    "\\end{bmatrix}\n",
    "\\]"
   ]
  },
  {
   "cell_type": "markdown",
   "id": "7746df1c",
   "metadata": {},
   "source": [
    "Every column represents a vector (your data) while every row represents a feature of the data (eg if we have 3 rows we can visualize it as x, y, and z axis)."
   ]
  },
  {
   "cell_type": "markdown",
   "id": "70737500",
   "metadata": {},
   "source": [
    "And the visualization of the transformation is like below"
   ]
  },
  {
   "cell_type": "markdown",
   "id": "3e4d4dce",
   "metadata": {},
   "source": [
    "There should be a video above, if it does not load, click this link: Multiple Data Matrix Multiplication Scene"
   ]
  },
  {
   "cell_type": "markdown",
   "id": "bc1785f6",
   "metadata": {},
   "source": [
    "And as you can see that the transformation matrix is placed on the left side of the data matrix (the matrix that contains our data points). So let’s visualize below equation where we have 2 linear transformations:"
   ]
  },
  {
   "cell_type": "markdown",
   "id": "c66b8f64",
   "metadata": {},
   "source": [
    "\\[\n",
    "\\begin{bmatrix}\n",
    "1 & 0.5 \\\\\n",
    "    0 & 1\n",
    "\\end{bmatrix}\n",
    "\\begin{bmatrix}\n",
    "0 & -1 \\\\\n",
    "    1 & 0\n",
    "\\end{bmatrix}\n",
    "\\begin{bmatrix} 2 & 3 & -3 & -2 & 4 & 2 \\\\ 1 & 3 & 1 & -3 & -3 & 0 \\end{bmatrix}\n",
    "=\\\\\n",
    "\\]"
   ]
  },
  {
   "cell_type": "markdown",
   "id": "3081389e",
   "metadata": {},
   "source": [
    "\\[\n",
    "\\begin{bmatrix}\n",
    "1 & 0.5 \\\\\n",
    "    0 & 1\n",
    "\\end{bmatrix}\n",
    "\\begin{bmatrix}\n",
    "-1 & -3 & -1 & 3 & 3 & 0 \\\\\n",
    "2 & 3 & -3 & -2 & 4 & 2 \\\\\n",
    "\\end{bmatrix}\n",
    "=\\\\\\\\\n",
    "\\]"
   ]
  },
  {
   "cell_type": "markdown",
   "id": "fcb19c02",
   "metadata": {},
   "source": [
    "\\[\n",
    "\\begin{bmatrix}\n",
    "0 & -1.5 & -2.5 & 2 & 5 & 1 \\\\\n",
    "2 & 3 & -3 & -2 & 4 & 2\n",
    "\\end{bmatrix}\n",
    "\\]"
   ]
  },
  {
   "cell_type": "markdown",
   "id": "a6c56cf5",
   "metadata": {},
   "source": [
    "There should be a video above, if it does not load, click this link: Multiple Data Matrix Multiplication Scene Then Skew"
   ]
  },
  {
   "cell_type": "markdown",
   "id": "8a9514e0",
   "metadata": {},
   "source": [
    "Before reading further, please try to follow one of the vector (choose any of vector from the matrix, try to see where it is in the visualization) to get the feel of the transformation."
   ]
  },
  {
   "cell_type": "markdown",
   "id": "0f12536c",
   "metadata": {},
   "source": [
    "So for matrix transformation, it’s done from right to left. First we transform our data matrix with the most right transformation matrix, then we transform the result with the next matrix to the left, and so on. Remember that matrix multiplication is not commutative, so the order of the matrix matters."
   ]
  },
  {
   "cell_type": "markdown",
   "id": "251972f9",
   "metadata": {},
   "source": [
    "Why it’s done from right to left? Basically it’s because it’s the convention. We can think about it like we’re applying function from right to left. So if we want to multiply matrix A and B and C, we can think about it as \\(A(B(C))\\), we “run” the function of \\(B(C)\\) first, given that the result is D, then we run the function of \\(A(D)\\)."
   ]
  },
  {
   "cell_type": "markdown",
   "id": "b5482910",
   "metadata": {},
   "source": [
    "Additional note is that below matrix"
   ]
  },
  {
   "cell_type": "markdown",
   "id": "87d6e947",
   "metadata": {},
   "source": [
    "\\[\n",
    "\\begin{bmatrix} 1 & 0.5 \\\\\n",
    "    0 & 1\n",
    "\\end{bmatrix}\n",
    "\\]"
   ]
  },
  {
   "cell_type": "markdown",
   "id": "dccf455c",
   "metadata": {},
   "source": [
    "Is called shear matrix, where it will skew our vectors which you can see yourself in the visualization above, right after the 90 degrees rotation matrix applied."
   ]
  },
  {
   "cell_type": "markdown",
   "id": "57214433",
   "metadata": {},
   "source": [
    "# Intuition of linear transformation"
   ]
  },
  {
   "cell_type": "markdown",
   "id": "580412ad",
   "metadata": {},
   "source": []
  },
  {
   "cell_type": "markdown",
   "id": "6a6c4259",
   "metadata": {},
   "source": [
    "![Image](https://storage.googleapis.com/rg-ai-bootcamp/machine-learning/linear-transformation-1-min.png)"
   ]
  },
  {
   "cell_type": "markdown",
   "id": "e25af377",
   "metadata": {},
   "source": [
    "Let’s try to get some intuition for some of the linear transformation. For example if we have vector \\(\\begin{bmatrix} 2 \\\\ 1 \\end{bmatrix}\\), how can we rotate it 90 degrees counter-clockwise?"
   ]
  },
  {
   "cell_type": "markdown",
   "id": "1717369e",
   "metadata": {},
   "source": [
    "We can do that by visualizing how he vector end up after the transformation. For our matrix of \\(\\begin{bmatrix} 2 \\\\ 1 \\end{bmatrix}\\), we can see that after the transformation, the vector end up at \\(\\begin{bmatrix} -1 \\\\ 2 \\end{bmatrix}\\)."
   ]
  },
  {
   "cell_type": "markdown",
   "id": "bedddd81",
   "metadata": {},
   "source": [
    "So how do we deduce the transformation matrix from that?"
   ]
  },
  {
   "cell_type": "markdown",
   "id": "9bb54c14",
   "metadata": {},
   "source": [
    "As we can see, our previous \\(\\begin{bmatrix} x \\\\ y \\end{bmatrix}\\) is transformed to \\(\\begin{bmatrix} -y \\\\ x \\end{bmatrix}\\). And because transformation matrix rows and columns must match the dimension of the vector that we’re transforming, we can define below matrix"
   ]
  },
  {
   "cell_type": "markdown",
   "id": "7dca8878",
   "metadata": {},
   "source": [
    "\\[\n",
    "\\begin{bmatrix}\n",
    "a & b \\\\\n",
    "c & d\n",
    "\\end{bmatrix} \\begin{bmatrix} x \\\\ y \\end{bmatrix} = \\begin{bmatrix} -y \\\\ x \\end{bmatrix}\n",
    "\\]"
   ]
  },
  {
   "cell_type": "markdown",
   "id": "a28fc576",
   "metadata": {},
   "source": [
    "\\(a\\) can be thought as what value from previous x that we want to put to the new \\(x\\), let’s say it’s \\(x'\\)."
   ]
  },
  {
   "cell_type": "markdown",
   "id": "799191a5",
   "metadata": {},
   "source": [
    "\\[\n",
    "\\begin{bmatrix}\n",
    "a & b \\\\\n",
    "c & d\n",
    "\\end{bmatrix} \\begin{bmatrix} x \\\\ y \\end{bmatrix} = \\begin{bmatrix} -y \\\\ x \\end{bmatrix} = \\begin{bmatrix} x' \\\\ y' \\end{bmatrix}\n",
    "\\]"
   ]
  },
  {
   "cell_type": "markdown",
   "id": "133af0bf",
   "metadata": {},
   "source": [
    "Which as we can see that"
   ]
  },
  {
   "cell_type": "markdown",
   "id": "1434a195",
   "metadata": {},
   "source": [
    "\\[\n",
    "ax + by = -y = x' \\\\\n",
    "cx + dy = x = y'\n",
    "\\]"
   ]
  },
  {
   "cell_type": "markdown",
   "id": "48e831e5",
   "metadata": {},
   "source": [
    "As we can see from our transformed matrix which is \\(\\begin{bmatrix} -y \\\\ x \\end{bmatrix}\\), the previous \\(x\\) is not carried over to \\(x'\\) (because as we can see that \\(x'\\) = \\(-y\\)), so we can deduce that \\(a\\) is 0."
   ]
  },
  {
   "cell_type": "markdown",
   "id": "524e0e21",
   "metadata": {},
   "source": [
    "\\[\n",
    "0x + by = -y = x' \\\\\n",
    "by = -y \\\\\n",
    "b = -1\n",
    "\\]"
   ]
  },
  {
   "cell_type": "markdown",
   "id": "871a75c5",
   "metadata": {},
   "source": [
    "Next for \\(cx + dy = x = y'\\), we can deduce that \\(y\\) is not carried over to \\(y'\\) because \\(y'\\) = \\(x\\), so we can deduce that \\(d\\) is 0."
   ]
  },
  {
   "cell_type": "markdown",
   "id": "cb21fe5f",
   "metadata": {},
   "source": [
    "\\[\n",
    "cx + 0y = x = y' \\\\\n",
    "cx = x \\\\\n",
    "c = 1\n",
    "\\]"
   ]
  },
  {
   "cell_type": "markdown",
   "id": "d90b827f",
   "metadata": {},
   "source": [
    "So now we can deduce that our transformation matrix for 90 degrees counter-clockwise rotation is"
   ]
  },
  {
   "cell_type": "markdown",
   "id": "4930c58d",
   "metadata": {},
   "source": [
    "\\[\n",
    "\\begin{bmatrix}\n",
    "0 & -1 \\\\\n",
    "1 & 0\n",
    "\\end{bmatrix}\n",
    "\\]"
   ]
  },
  {
   "cell_type": "markdown",
   "id": "a8e35f3a",
   "metadata": {},
   "source": [
    "# Exercise 1"
   ]
  },
  {
   "cell_type": "markdown",
   "id": "f2d9ada1",
   "metadata": {},
   "source": []
  },
  {
   "cell_type": "markdown",
   "id": "50967662",
   "metadata": {},
   "source": [
    "![Image](https://storage.googleapis.com/rg-ai-bootcamp/machine-learning/linear-transformation-2-min.png)"
   ]
  },
  {
   "cell_type": "markdown",
   "id": "8cf28af6",
   "metadata": {},
   "source": [
    "Above is a visualization of a linear transformation of 180 degrees rotation. Try to deduce the transformation matrix for this linear transformation."
   ]
  },
  {
   "cell_type": "markdown",
   "id": "2387c157",
   "metadata": {},
   "source": [
    "Note: The submission will be in python list such as [[a, b], [c, d]], where it will be equivalent to \\(\\begin{bmatrix} a & b \\\\ c & d \\end{bmatrix}\\) matrix"
   ]
  },
  {
   "cell_type": "code",
   "execution_count": null,
   "id": "70ee654e",
   "metadata": {},
   "outputs": [],
   "source": [
    "!pip install rggrader"
   ]
  },
  {
   "cell_type": "code",
   "execution_count": null,
   "id": "1712b176",
   "metadata": {},
   "outputs": [],
   "source": [
    "from rggrader import submit\n",
    "\n",
    "# @title #### Student Identity\n",
    "student_id = \"your student id\" # @param {type:\"string\"}\n",
    "name = \"your name\" # @param {type:\"string\"}"
   ]
  },
  {
   "cell_type": "code",
   "execution_count": null,
   "id": "f31463d8",
   "metadata": {},
   "outputs": [],
   "source": [
    "assignment_id = \"14_linear-algebra\"\n",
    "question_id = \"01_180_rotation_matrix\"\n",
    "matrix = [[0, 0], [0, 0]] \n",
    "submit(student_id, name, assignment_id, str(matrix), question_id)"
   ]
  },
  {
   "cell_type": "markdown",
   "id": "7f23394f",
   "metadata": {},
   "source": [
    "# Exercise 2"
   ]
  },
  {
   "cell_type": "markdown",
   "id": "fcd5c2e5",
   "metadata": {},
   "source": []
  },
  {
   "cell_type": "markdown",
   "id": "3bb6203f",
   "metadata": {},
   "source": [
    "![Image](https://storage.googleapis.com/rg-ai-bootcamp/machine-learning/linear-transformation-3-min.png)"
   ]
  },
  {
   "cell_type": "markdown",
   "id": "07de60d7",
   "metadata": {},
   "source": [
    "Above is the visualization of a linear transformation of 90 degrees clockwise rotation. Try to deduce the transformation matrix for this linear transformation."
   ]
  },
  {
   "cell_type": "code",
   "execution_count": null,
   "id": "eea165cd",
   "metadata": {},
   "outputs": [],
   "source": [
    "!pip install rggrader"
   ]
  },
  {
   "cell_type": "code",
   "execution_count": null,
   "id": "f0b42363",
   "metadata": {},
   "outputs": [],
   "source": [
    "from rggrader import submit\n",
    "\n",
    "# @title #### Student Identity\n",
    "student_id = \"your student id\" # @param {type:\"string\"}\n",
    "name = \"your name\" # @param {type:\"string\"}"
   ]
  },
  {
   "cell_type": "code",
   "execution_count": null,
   "id": "f9961f37",
   "metadata": {},
   "outputs": [],
   "source": [
    "assignment_id = \"14_linear-algebra\"\n",
    "question_id = \"02_90_rotation_matrix\"\n",
    "matrix = [[0, 0], [0, 0]]\n",
    "submit(student_id, name, assignment_id, str(matrix), question_id)"
   ]
  },
  {
   "cell_type": "markdown",
   "id": "3c75c398",
   "metadata": {},
   "source": [
    "# Vectors vs Points"
   ]
  },
  {
   "cell_type": "markdown",
   "id": "13fc9c4b",
   "metadata": {},
   "source": [
    "In linear algebra, we’re working with vectors, but we can use points to represent vectors visually especially if we’re working with lots of vectors - It’s just get overwhelming to see bunch of arrows rather than just bunch of dots."
   ]
  },
  {
   "cell_type": "markdown",
   "id": "a5eb46ca",
   "metadata": {},
   "source": [
    "There should be a video above, if it does not load, click this link: Multiple Data Matrix Multiplication With Points"
   ]
  },
  {
   "cell_type": "markdown",
   "id": "e99f3fb2",
   "metadata": {},
   "source": [
    "# Vector length"
   ]
  },
  {
   "cell_type": "markdown",
   "id": "154e6906",
   "metadata": {},
   "source": [
    "The length of a vector is the distance from the origin of the dimensional space to the vector’s position. The length of a vector is also known as the magnitude of a vector."
   ]
  },
  {
   "cell_type": "markdown",
   "id": "aaa937f9",
   "metadata": {},
   "source": [
    "# Norm"
   ]
  },
  {
   "cell_type": "markdown",
   "id": "a268a110",
   "metadata": {},
   "source": [
    "# Manhattan norm"
   ]
  },
  {
   "cell_type": "markdown",
   "id": "86201afb",
   "metadata": {},
   "source": []
  },
  {
   "cell_type": "markdown",
   "id": "9b560b1c",
   "metadata": {},
   "source": [
    "![Image](https://storage.googleapis.com/rg-ai-bootcamp/machine-learning/manhattan-1-min.png)"
   ]
  },
  {
   "cell_type": "markdown",
   "id": "f4d7a16d",
   "metadata": {},
   "source": [
    "Manhattan norm is how to measure distance between 2 points by “walking” through the grid without ever going diagonally. So for above 2 vectors we have (2, 4) and (5, 8), and by counting every step we take to reach the destination, we can calculate the distance between those 2 vectors is 7."
   ]
  },
  {
   "cell_type": "markdown",
   "id": "b07949ef",
   "metadata": {},
   "source": [
    "Now, let’s generalize. Above steps that we’ve taken basically can be rearranged to below image"
   ]
  },
  {
   "cell_type": "markdown",
   "id": "49ab921c",
   "metadata": {},
   "source": []
  },
  {
   "cell_type": "markdown",
   "id": "d6107dae",
   "metadata": {},
   "source": [
    "![Image](https://storage.googleapis.com/rg-ai-bootcamp/machine-learning/manhattan-2-min.png)"
   ]
  },
  {
   "cell_type": "markdown",
   "id": "b688196b",
   "metadata": {},
   "source": [
    "And above image can be summarized to below image"
   ]
  },
  {
   "cell_type": "markdown",
   "id": "613145c4",
   "metadata": {},
   "source": []
  },
  {
   "cell_type": "markdown",
   "id": "8581acc9",
   "metadata": {},
   "source": [
    "![Image](https://storage.googleapis.com/rg-ai-bootcamp/machine-learning/manhattan-3-min.png)"
   ]
  },
  {
   "cell_type": "markdown",
   "id": "6c0a1fea",
   "metadata": {},
   "source": [
    "So basically on manhattan norm we can calculate the distance from (2, 4) to (5, 8) by walking 3 steps to the right (5 is our destination, and 2 is our origin, 5 - 2 = 3) and 4 steps to the top (8 is our destination, and 4 is our origin, 8 - 4 = 4). So the distance is 3 + 4 = 7. If we formalize it, we have below formula:"
   ]
  },
  {
   "cell_type": "markdown",
   "id": "68759ebf",
   "metadata": {},
   "source": [
    "\\[\n",
    "\\text{Manhattan norm} = |a_1 - b_1| + |a_2 - b_2|\n",
    "\\]"
   ]
  },
  {
   "cell_type": "markdown",
   "id": "a99e68e9",
   "metadata": {},
   "source": [
    "Where a is our origin and b is our destination and the subscript 1 and 2 is the single data point on that vector (eg \\(a_1\\) is the first data point on vector a, for vector of (2, 4) it will be 2, and for vector of (5, 8) it will be 5)."
   ]
  },
  {
   "cell_type": "markdown",
   "id": "58ae5d47",
   "metadata": {},
   "source": [
    "This can later be generalized to more than 2 dimensions:"
   ]
  },
  {
   "cell_type": "markdown",
   "id": "02c9594e",
   "metadata": {},
   "source": [
    "\\[\n",
    "\\text{Manhattan norm} = \\sum_{i=1}^{n} |a_i - b_i|\n",
    "\\]"
   ]
  },
  {
   "cell_type": "markdown",
   "id": "a2ed180c",
   "metadata": {},
   "source": [
    "Where n is the number of dimensions/features of the vector."
   ]
  },
  {
   "cell_type": "markdown",
   "id": "4e76ed67",
   "metadata": {},
   "source": [
    "Note that the notation for the manhattan norm is \\(||x||_1\\) or \\(||x||_M\\)"
   ]
  },
  {
   "cell_type": "markdown",
   "id": "89c7eca9",
   "metadata": {},
   "source": [
    "# Euclidean norm"
   ]
  },
  {
   "cell_type": "markdown",
   "id": "fb252bf8",
   "metadata": {},
   "source": []
  },
  {
   "cell_type": "markdown",
   "id": "afa4237c",
   "metadata": {},
   "source": [
    "![Image](https://storage.googleapis.com/rg-ai-bootcamp/machine-learning/euclidean-1-min.png)"
   ]
  },
  {
   "cell_type": "markdown",
   "id": "27e97533",
   "metadata": {},
   "source": [
    "After understanding manhattan norm, euclidean norm can be understood easily. Euclidean norm is basically “enabling” us to go diagonally. So for above 2 vectors we have (2, 4) and (5, 8), and by using pythagoras theorem we can calculate the distance between those 2 vectors is"
   ]
  },
  {
   "cell_type": "markdown",
   "id": "c6219927",
   "metadata": {},
   "source": [
    "\\[\n",
    "\\sqrt{(5 - 2)^2 + (8 - 4)^2} = \\sqrt{9 + 16} = \\sqrt{25} = 5\n",
    "\\]"
   ]
  },
  {
   "cell_type": "markdown",
   "id": "878b535b",
   "metadata": {},
   "source": [
    "This pythagoras theorem can held true for any number of dimensions, so we can generalize it to below formula:"
   ]
  },
  {
   "cell_type": "markdown",
   "id": "12770caf",
   "metadata": {},
   "source": [
    "\\[\n",
    "\\text{Euclidean norm} = \\sqrt{\\sum_{i=1}^{n} (a_i - b_i)^2}\n",
    "\\]"
   ]
  },
  {
   "cell_type": "markdown",
   "id": "1b661eba",
   "metadata": {},
   "source": [
    "Where n is the number of dimensions/features of the vector."
   ]
  },
  {
   "cell_type": "markdown",
   "id": "0c7cc6a6",
   "metadata": {},
   "source": [
    "Then the notation for the euclidean norm is \\(||x||_2\\), and most of the times if no subscript is given (only \\(||x||\\)), it most likely means euclidean norm."
   ]
  },
  {
   "cell_type": "markdown",
   "id": "b77ee501",
   "metadata": {},
   "source": [
    "# Summarization of manhattan and euclidean norm"
   ]
  },
  {
   "cell_type": "markdown",
   "id": "b66cf4d2",
   "metadata": {},
   "source": [
    "To summarize between manhattan and euclidean norm, below is the visualization:"
   ]
  },
  {
   "cell_type": "markdown",
   "id": "b3dc25e4",
   "metadata": {},
   "source": []
  },
  {
   "cell_type": "markdown",
   "id": "8a89adcd",
   "metadata": {},
   "source": [
    "![Image](https://storage.googleapis.com/rg-ai-bootcamp/machine-learning/euclidean-manhattan-min.png)"
   ]
  },
  {
   "cell_type": "markdown",
   "id": "37ece44a",
   "metadata": {},
   "source": [
    "# Hundreds Of Dimensions And the Amazing Applications"
   ]
  },
  {
   "cell_type": "markdown",
   "id": "9be10989",
   "metadata": {},
   "source": [
    "Linear algebra allowing us to “playing” with higher-dimensional space, so the calculation is not bound to 2 or 3 dimensions. We can have hundreds of dimensions, even thousands of dimensions, even though it’s impossible for us to visualize it, because we can just scale the calculation that we have on 2 and 3 dimensions to higher dimensions. For our learning we’ll mostly working with 2 dimensions to make it easier to visualize and understand, but every formula is scalable to billions of dimensions."
   ]
  },
  {
   "cell_type": "markdown",
   "id": "6b3ebc3a",
   "metadata": {},
   "source": [
    "This kind of calculation is basically what is happening in Natural Language Processing (NLP), Computer Vision (CV), Audio Processing, and other fields that are using deep learning. The data is mostly saved as a matrix with hundreds or thousands of dimensions, and then it’s processed by calculating it with other matrices, and then the result is converted back to something that we as humans can understand. Amazing isn’t it? A really complex machine learning models like GPT is basically just a bunch of matrix multiplications, data transformed in higher dimensional space, and then converted back to something that we can understand, by, again, just a bunch of matrix multiplications."
   ]
  }
 ],
 "metadata": {},
 "nbformat": 4,
 "nbformat_minor": 5
}
