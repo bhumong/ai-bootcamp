{
 "cells": [
  {
   "cell_type": "markdown",
   "id": "bfdc5ad6",
   "metadata": {},
   "source": [
    "source: [link](https://ai-bootcamp.ruangguru.com/learn/02_machine-learning-fundamental/09_svm.html)"
   ]
  },
  {
   "cell_type": "markdown",
   "id": "1e17ff6d",
   "metadata": {},
   "source": [
    "# Support Vector Machines"
   ]
  },
  {
   "cell_type": "markdown",
   "id": "158124f2",
   "metadata": {},
   "source": [
    "Support Vector Machines (SVMs) are a method in machine learning that can be used for classification . Differ from other classification methods we’ve learned so far, SVMs are based on the idea of finding a hyperplane that best divides a dataset into two classes."
   ]
  },
  {
   "cell_type": "markdown",
   "id": "2779806d",
   "metadata": {},
   "source": [
    "# Hyperplane"
   ]
  },
  {
   "cell_type": "markdown",
   "id": "f8e7fdd7",
   "metadata": {},
   "source": [
    "SVM is highly related with linear algebra, we’re trying “to manipulate” the data to find the best hyperplane. So what is a hyperplane? Hyperplane is a “plane” that has one less dimension than the original data. For example, if we have a 3D dataset, the hyperplane is a 2D plane. If we have a 2D dataset, the hyperplane is a 1D line."
   ]
  },
  {
   "cell_type": "markdown",
   "id": "a5cc864c",
   "metadata": {},
   "source": []
  },
  {
   "cell_type": "markdown",
   "id": "a969c43f",
   "metadata": {},
   "source": [
    "![Image](https://storage.googleapis.com/rg-ai-bootcamp/machine-learning/HyperplaneLineScene_ManimCE_v0.18.0-min.png)"
   ]
  },
  {
   "cell_type": "markdown",
   "id": "490401db",
   "metadata": {},
   "source": [
    "So what’s the relation between a hyperplane and SVM? The hyperplane is the boundary that when a point placed on one side of the hyperplane, it’s classified as one class, and when it’s placed on the other side, it’s classified as the other class."
   ]
  },
  {
   "cell_type": "markdown",
   "id": "c8b1e8a1",
   "metadata": {},
   "source": []
  },
  {
   "cell_type": "markdown",
   "id": "d7f7f44d",
   "metadata": {},
   "source": [
    "![Image](https://storage.googleapis.com/rg-ai-bootcamp/machine-learning/HyperplaneLineWithPointsScene_ManimCE_v0.18.0-min.gif)"
   ]
  },
  {
   "cell_type": "markdown",
   "id": "cef92f89",
   "metadata": {},
   "source": [
    "As you can see above if we put the vector at (-2, 2) we can see it’s classified as the red class, and if we put it at (5, -2) the classifcation is blue, it’s because both position is at the different side of the hyperplane."
   ]
  },
  {
   "cell_type": "markdown",
   "id": "beaa43cb",
   "metadata": {},
   "source": [
    "# SVM == The art of finding the most optimal hyperplane"
   ]
  },
  {
   "cell_type": "markdown",
   "id": "5587ab18",
   "metadata": {},
   "source": [
    "When we’re talking about SVM, we’re talking about how can we find the most optimal hyperplane for our dataset to divide the data into two classes (or more, but we’ll talk about that later). So what is the most optimal hyperplane? The most optimal hyperplane is the one that has the largest margin between the two support vectors."
   ]
  },
  {
   "cell_type": "markdown",
   "id": "25fba618",
   "metadata": {},
   "source": [
    "Margin? Support vector? Understanding how SVM works will be much easier if we understand these two concepts first, let’s quickly go through them."
   ]
  },
  {
   "cell_type": "markdown",
   "id": "bd29365a",
   "metadata": {},
   "source": [
    "# Support Vector and Margin"
   ]
  },
  {
   "cell_type": "markdown",
   "id": "814e7a39",
   "metadata": {},
   "source": [
    "Below we have two classes of data, blue and red:"
   ]
  },
  {
   "cell_type": "markdown",
   "id": "ce00d101",
   "metadata": {},
   "source": [
    "\n",
    "\\[\n",
    "Blue \\\\\n",
    "3, 0.5 \\\\\n",
    "5, -1 \\\\\n",
    "1, -1 \\\\\n",
    "6, 2 \\\\\n",
    "4, 2 \\\\\n",
    "\\]\n"
   ]
  },
  {
   "cell_type": "markdown",
   "id": "0baf3009",
   "metadata": {},
   "source": [
    "\n",
    "\\[\n",
    "Red\\\\\n",
    "-2, -2.5\\\\\n",
    "-2, 3\\\\\n",
    "-5, 1\\\\\n",
    "-3, -2\\\\\n",
    "-4, 2\\\\\n",
    "1, 2\\\\\n",
    "\\]\n"
   ]
  },
  {
   "cell_type": "markdown",
   "id": "170d63cf",
   "metadata": {},
   "source": [
    "And plotted like so:"
   ]
  },
  {
   "cell_type": "markdown",
   "id": "bacf00fe",
   "metadata": {},
   "source": []
  },
  {
   "cell_type": "markdown",
   "id": "9a9fd520",
   "metadata": {},
   "source": [
    "![Image](https://storage.googleapis.com/rg-ai-bootcamp/machine-learning/HyperplaneLineWithPointsScene2NoLines_ManimCE_v0.18.0-min.png)"
   ]
  },
  {
   "cell_type": "markdown",
   "id": "5783c53d",
   "metadata": {},
   "source": [
    "To moves things forward, when we’re inputting above matrix to an SVM model (we’ll learn how later), we can have below formula:"
   ]
  },
  {
   "cell_type": "markdown",
   "id": "a77e70ee",
   "metadata": {},
   "source": [
    "\n",
    "\\[\n",
    "x_{2} = (0.99986773/0.66640213)x_{1} - 0.6665344/0.66640213\n",
    "\\]\n"
   ]
  },
  {
   "cell_type": "markdown",
   "id": "090defe3",
   "metadata": {},
   "source": [
    "When plotted will make below blue line, a hyperplane for our dataset:"
   ]
  },
  {
   "cell_type": "markdown",
   "id": "95a9ce08",
   "metadata": {},
   "source": []
  },
  {
   "cell_type": "markdown",
   "id": "14f82a48",
   "metadata": {},
   "source": [
    "![Image](https://storage.googleapis.com/rg-ai-bootcamp/machine-learning/HyperplaneLineWithPointsScene2_ManimCE_v0.18.0-min.png)"
   ]
  },
  {
   "cell_type": "markdown",
   "id": "52153032",
   "metadata": {},
   "source": [
    "Example for x1"
   ]
  },
  {
   "cell_type": "markdown",
   "id": "fa3dde9f",
   "metadata": {},
   "source": [
    "On above plot are two significant concept on how SVM find the most optimal hyperplane, the support vector and the margin."
   ]
  },
  {
   "cell_type": "markdown",
   "id": "5b91efba",
   "metadata": {},
   "source": [
    "Remember that the hyperplane on above plot is the blue line."
   ]
  },
  {
   "cell_type": "markdown",
   "id": "34097f45",
   "metadata": {},
   "source": [
    "Support vector are the vectors that are closest to the hyperplane, in above plot we can see dotted lines, the vectors that are on the dotted lines are the support vectors (the dotted line basically means that any vectors that are on that would automatically be classified as the support vector)."
   ]
  },
  {
   "cell_type": "markdown",
   "id": "8468971e",
   "metadata": {},
   "source": [
    "Margin is the distance between the support vectors and the hyperplane."
   ]
  },
  {
   "cell_type": "markdown",
   "id": "c7320bde",
   "metadata": {},
   "source": [
    "Another term to note is decision boundary, it’s the boundary that separates the two classes, for SVM the hyperplane is the decision boundary."
   ]
  },
  {
   "cell_type": "markdown",
   "id": "fa1d2d48",
   "metadata": {},
   "source": [
    "So how SVM find the most optimal hyperplane? It’s by finding the support vectors from both classes that when we draw a hyperplane between them, the margin is the largest."
   ]
  },
  {
   "cell_type": "markdown",
   "id": "b85d33eb",
   "metadata": {},
   "source": [
    "# Why the largest margin?"
   ]
  },
  {
   "cell_type": "markdown",
   "id": "e2059352",
   "metadata": {},
   "source": []
  },
  {
   "cell_type": "markdown",
   "id": "f52e08cd",
   "metadata": {},
   "source": [
    "![Image](https://storage.googleapis.com/rg-ai-bootcamp/machine-learning/HyperplaneLineWithPointsScene3_ManimCE_v0.18.0-min.png)"
   ]
  },
  {
   "cell_type": "markdown",
   "id": "1e082dea",
   "metadata": {},
   "source": [
    "Above we learn that SVM is about drawing hyperplane between support vectors, and the most optimal hyperplane is the one that has the largest margin. But what is the largest margin?"
   ]
  },
  {
   "cell_type": "markdown",
   "id": "fb54b0b0",
   "metadata": {},
   "source": [
    "If you see above plot you can see three different hyperplane: Purple, blue, and green."
   ]
  },
  {
   "cell_type": "markdown",
   "id": "c744220f",
   "metadata": {},
   "source": [
    "The problem if we choose the purple line as our hyperplane is that it’s too close with the red support vector, it makes the blue decision boundary slightly “invades” the red region, and it’s bad because it makes the model more prone to misclassification (it’s more likely to misclassify red data as blue)."
   ]
  },
  {
   "cell_type": "markdown",
   "id": "a0ede4ca",
   "metadata": {},
   "source": [
    "And the same thing happens if we choose the green line as our hyperplane, it’s too close with the blue support vector, it makes the red decision boundary slightly “invades” the blue region, and it’s bad because it makes the model more prone to misclassification (it’s more likely to misclassify blue data as red)."
   ]
  },
  {
   "cell_type": "markdown",
   "id": "41dd04c6",
   "metadata": {},
   "source": [
    "The ideal hyperplane is the blue line, the ideal margin is the maximum distance between the support vectors of all classes. It’s because the larger the margin, the lower the misclassification rate."
   ]
  },
  {
   "cell_type": "markdown",
   "id": "7d9469cb",
   "metadata": {},
   "source": [
    "# Some math of SVM"
   ]
  },
  {
   "cell_type": "markdown",
   "id": "7e5488a3",
   "metadata": {},
   "source": [
    "Below is the very basic math for the hyperplane and support vector:"
   ]
  },
  {
   "cell_type": "markdown",
   "id": "b43f536c",
   "metadata": {},
   "source": [
    "\n",
    "\\[\n",
    "\\text{Hyperplane}: w \\cdot x + b = 0 \\\\\n",
    "\\text{Support Vector for class 1}: w \\cdot x + b = 1 \\\\\n",
    "\\text{Support Vector for class 0}: w \\cdot x + b = -1 \\\\\n",
    "\\]\n"
   ]
  },
  {
   "cell_type": "markdown",
   "id": "f7e74ecd",
   "metadata": {},
   "source": [
    "Where $w$ is the weight vector, $x$ is the input vector, and $b$ is the bias. To reiterate $\\cdot$ is the dot product."
   ]
  },
  {
   "cell_type": "markdown",
   "id": "e7d7a631",
   "metadata": {},
   "source": [
    "If above constraint was solved by our SVM model, for inference we can use below formula to classify a vector:"
   ]
  },
  {
   "cell_type": "markdown",
   "id": "c7710e3c",
   "metadata": {},
   "source": [
    "\n",
    "\\[\n",
    "\\text{Vector that's classified as class 0}: w \\cdot x + b < 0 \\\\\n",
    "\\text{Vector that's classified as class 1}: w \\cdot x + b \\geq 0 \\\\\n",
    "\\]\n"
   ]
  },
  {
   "cell_type": "markdown",
   "id": "8775dd7e",
   "metadata": {},
   "source": [
    "And if a vector is between $-1$ and $1$, it’s on the margin (the area between the two support vectors)."
   ]
  },
  {
   "cell_type": "markdown",
   "id": "2de39247",
   "metadata": {},
   "source": [
    "# Some explanation for the math"
   ]
  },
  {
   "cell_type": "markdown",
   "id": "4ad5006c",
   "metadata": {},
   "source": []
  },
  {
   "cell_type": "markdown",
   "id": "51ac8e34",
   "metadata": {},
   "source": [
    "![Image](https://storage.googleapis.com/rg-ai-bootcamp/machine-learning/svm-math-min.png)"
   ]
  },
  {
   "cell_type": "markdown",
   "id": "f5460347",
   "metadata": {},
   "source": [
    "Above is the visual representation of the math, where the center line is the hyperplane, the dotted lines are the lines that goes through the support vectors."
   ]
  },
  {
   "cell_type": "markdown",
   "id": "86e67de6",
   "metadata": {},
   "source": [
    "On training we won’t allow for any vectors to be between the two dotted lines (for now we’ll use this assumption, later we’ll learn that it’s a little bit more complicated than that), so we can say that:"
   ]
  },
  {
   "cell_type": "markdown",
   "id": "601a7c08",
   "metadata": {},
   "source": []
  },
  {
   "cell_type": "markdown",
   "id": "b2f2d041",
   "metadata": {},
   "source": [
    "![Image](https://storage.googleapis.com/rg-ai-bootcamp/machine-learning/svm-math-2-min.png)"
   ]
  },
  {
   "cell_type": "markdown",
   "id": "b2ec3bff",
   "metadata": {},
   "source": [
    "If there are any vector between the two dotted lines, it means that the hyperplane is not the most optimal hyperplane, because if there are any vector between the two dotted lines, it means that it would be likely that vector would be the better candidate for the support vector rather than the current support vector. So let’s move the hyperplane a little bit to the vector that’s between the two dotted lines, and we’ll get below:"
   ]
  },
  {
   "cell_type": "markdown",
   "id": "d6bf0ca7",
   "metadata": {},
   "source": []
  },
  {
   "cell_type": "markdown",
   "id": "0e5f0ea0",
   "metadata": {},
   "source": [
    "![Image](https://storage.googleapis.com/rg-ai-bootcamp/machine-learning/svm-math-3-min.png)"
   ]
  },
  {
   "cell_type": "markdown",
   "id": "13c9cb79",
   "metadata": {},
   "source": [
    "# Let’s train SVM model"
   ]
  },
  {
   "cell_type": "markdown",
   "id": "47345b60",
   "metadata": {},
   "source": [
    "Wow, we’ve learned a lot about SVM, before we continue on, let’s take some cool down of adding new knowledge and just train an SVM model."
   ]
  },
  {
   "cell_type": "code",
   "execution_count": null,
   "id": "fd6f39be",
   "metadata": {},
   "outputs": [],
   "source": [
    "import numpy as np\n",
    "from sklearn import svm\n",
    "\n",
    "X = np.array([[3, 0.5], [5, -1], [1, -1], [6, 2], [4, 2], [-2, -2.5], [-2, 3], [-5, 1], [-3, -2], [-4, 2], [1, 2]])\n",
    "y = np.array([1, 1, 1, 1, 1, -1, -1, -1, -1, -1, -1])  # Blue points (class 1), Red points (class 0) as -1\n",
    "\n",
    "# Create an SVM classifier with a hard margin (What is hard margin?, what is C parameter? We'll learn about it later)\n",
    "clf = svm.SVC(kernel='linear', C=1e5)\n",
    "\n",
    "# Fit the classifier to the data\n",
    "clf.fit(X, y)\n",
    "\n",
    "# You can now use the trained classifier to make predictions on new data\n",
    "# Get the coefficients (weights) of the hyperplane\n",
    "coefficients = clf.coef_\n",
    "print(\"Weights:\", coefficients)\n",
    "\n",
    "# Get the bias (intercept) of the hyperplane\n",
    "intercept_ = clf.intercept_\n",
    "print(\"Bias:\", intercept_)\n",
    "\n",
    "# Get the Support Vectors\n",
    "support_vectors = clf.support_vectors_\n",
    "print(\"Support Vectors:\\n\", support_vectors)"
   ]
  },
  {
   "cell_type": "code",
   "execution_count": null,
   "id": "a0f7e35d",
   "metadata": {},
   "outputs": [],
   "source": [
    "Weights: [[ 0.99986773 -0.66640213]]\n",
    "Bias: [-0.6665344]\n",
    "Support Vectors:\n",
    " [[-2.  -2.5]\n",
    " [ 1.   2. ]\n",
    " [ 1.  -1. ]]"
   ]
  },
  {
   "cell_type": "markdown",
   "id": "9ea6f4f6",
   "metadata": {},
   "source": [
    "# Visualizing our SVM model"
   ]
  },
  {
   "cell_type": "markdown",
   "id": "edadbf25",
   "metadata": {},
   "source": [
    "So if we want to visualize our data in 2D plane for example for our dataset that has two features, we can derive the formula to:"
   ]
  },
  {
   "cell_type": "markdown",
   "id": "fa943847",
   "metadata": {},
   "source": [
    "\n",
    "\\[\n",
    "w \\cdot x + b = 0 \\\\\n",
    "w_1 \\times x_1 + w_2 \\times x_2 + b = 0 \\\\\n",
    "w_2 \\times x_2 = -(w_1 \\times x_1) - b \\\\\n",
    "x_2 = \\frac{-(w_1 \\times x_1) - b}{w_2} \\\\\n",
    "\\]\n"
   ]
  },
  {
   "cell_type": "markdown",
   "id": "bb25ee30",
   "metadata": {},
   "source": [
    "If we want to visualize line that goes through the support vectors, we can derive the formula for vector that’s classified as class 1:"
   ]
  },
  {
   "cell_type": "markdown",
   "id": "e0eb6bbc",
   "metadata": {},
   "source": [
    "\n",
    "\\[\n",
    "w \\cdot x + b = 1 \\\\\n",
    "w_1 \\times x_1 + w_2 \\times x_2 + b = 1 \\\\\n",
    "w_2 \\times x_2 = 1 - (w_1 \\times x_1) - b \\\\\n",
    "x_2 = \\frac{1 - (w_1 \\times x_1) - b}{w_2} \\\\\n",
    "\\]\n"
   ]
  },
  {
   "cell_type": "markdown",
   "id": "0a62be28",
   "metadata": {},
   "source": [
    "And for vectors with class -1:"
   ]
  },
  {
   "cell_type": "markdown",
   "id": "3840590a",
   "metadata": {},
   "source": [
    "\n",
    "\\[\n",
    "w \\cdot x + b = -1 \\\\\n",
    "w_1 \\times x_1 + w_2 \\times x_2 + b = -1 \\\\\n",
    "w_2 \\times x_2 = -1 - (w_1 \\times x_1) - b \\\\\n",
    "x_2 = \\frac{-1 - (w_1 \\times x_1) - b}{w_2}\n",
    "\\]\n"
   ]
  },
  {
   "cell_type": "code",
   "execution_count": null,
   "id": "079f0581",
   "metadata": {},
   "outputs": [],
   "source": [
    "import numpy as np\n",
    "import matplotlib.pyplot as plt\n",
    "from ipywidgets import interact\n",
    "\n",
    "def classify_point(x):\n",
    "    \"\"\"\n",
    "    Classify a point as 'Blue' or 'Red' using the hyperplane from the SVM.\n",
    "    \n",
    "    Args:\n",
    "    x (array-like): The coordinates of the point as a tuple or list.\n",
    "\n",
    "    Returns:\n",
    "    str: 'Blue' if the point is above the hyperplane, 'Red' otherwise.\n",
    "    \"\"\"\n",
    "    w = np.array([coefficients[0][0], coefficients[0][1]])  # Coefficients of the hyperplane\n",
    "    b = intercept_[0]  # Intercept of the hyperplane\n",
    "    \n",
    "    # Hyperplane equation using dot product: np.dot(w, x) + b\n",
    "    result = np.dot(w, x) + b\n",
    "    \n",
    "    return result\n",
    "\n",
    "# Function to plot the point and the hyperplane\n",
    "def plot_point(x1, x2):\n",
    "    point = np.array([x1, x2])\n",
    "    result = classify_point(point)\n",
    "    classification = 'Blue' if result >= 0 else 'Red'\n",
    "\n",
    "    # Plotting\n",
    "    plt.figure(figsize=(8, 6))\n",
    "    plt.axhline(0, color='grey', lw=1)\n",
    "    plt.axvline(0, color='grey', lw=1)\n",
    "\n",
    "    # Plotting the hyperplane\n",
    "    x_vals = np.linspace(-10, 10, 100)\n",
    "    y_vals = (-(coefficients[0][0] * x_vals) - intercept_[0]) / coefficients[0][1]\n",
    "    plt.plot(x_vals, y_vals, 'green', label='Hyperplane')\n",
    "\n",
    "    #Plotting the line that goes through the support vector with class 1\n",
    "    y_vals_1 = (1-(coefficients[0][0] * x_vals) - intercept_[0]) / coefficients[0][1]\n",
    "    plt.plot(x_vals, y_vals_1, 'purple', label='Line that goes through support vector with class 1', linestyle='--')\n",
    "    \n",
    "    #Plotting the line that goes through the support vector with class -1\n",
    "    y_vals_2 = (-1-(coefficients[0][0] * x_vals) - intercept_[0]) / coefficients[0][1]\n",
    "    plt.plot(x_vals, y_vals_2, 'purple', label='Line that goes through support vector with class -1', linestyle='--')\n",
    "\n",
    "    # Plotting the point\n",
    "    plt.scatter(x1, x2, color=classification.lower(), label=f'Point ({x1}, {x2})')\n",
    "    plt.xlim(-10, 10)\n",
    "    plt.ylim(-10, 10)\n",
    "    plt.xlabel('$x_1$')\n",
    "    plt.ylabel('$x_2$')\n",
    "    plt.title('Point Classification with Hyperplane')\n",
    "    plt.legend()\n",
    "    plt.show()\n",
    "\n",
    "    return classification, result\n",
    "\n",
    "# Interactive function\n",
    "def interactive_classification(x1=(-10.0, 10.0), x2=(-10.0, 10.0)):\n",
    "    classification, result = plot_point(x1, x2)\n",
    "    print(f\"The point ({x1}, {x2}) is classified as '{classification}' with result {result:.4f}.\")\n",
    "\n",
    "interact(interactive_classification)"
   ]
  },
  {
   "cell_type": "code",
   "execution_count": null,
   "id": "ccc8b45b",
   "metadata": {},
   "outputs": [],
   "source": [
    "<function __main__.interactive_classification(x1=(-10.0, 10.0), x2=(-10.0, 10.0))>"
   ]
  },
  {
   "cell_type": "markdown",
   "id": "e17f5b73",
   "metadata": {},
   "source": [
    "# Hard margin"
   ]
  },
  {
   "cell_type": "markdown",
   "id": "82eafd82",
   "metadata": {},
   "source": [
    "Try to place your vector on above interactive plot inside between the two purple lines and check the result. You’ll see that every vector that is plotted inside the margin will be resulted to between -1 and 1."
   ]
  },
  {
   "cell_type": "markdown",
   "id": "edfbf7c2",
   "metadata": {},
   "source": [
    "Let’s remember below properties of SVM"
   ]
  },
  {
   "cell_type": "markdown",
   "id": "0bb095b5",
   "metadata": {},
   "source": [
    "\n",
    "\\[\n",
    "\\text{Support Vector for class 1}: w \\cdot x + b = 1 \\\\\n",
    "\\text{Support Vector for class 0}: w \\cdot x + b = -1 \\\\\n",
    "\\]\n"
   ]
  },
  {
   "cell_type": "markdown",
   "id": "02e18b9e",
   "metadata": {},
   "source": [
    "So for the hard margin SVM we basically have below constraint:"
   ]
  },
  {
   "cell_type": "markdown",
   "id": "81a7ee27",
   "metadata": {},
   "source": [
    "If any vector is placed inside the margin during training, such that"
   ]
  },
  {
   "cell_type": "markdown",
   "id": "d338b119",
   "metadata": {},
   "source": [
    "\n",
    "\\[\n",
    "w \\cdot x + b \\gt 1 \\text{ and } w \\cdot x + b \\lt -1\n",
    "\\]\n"
   ]
  },
  {
   "cell_type": "markdown",
   "id": "aeea211a",
   "metadata": {},
   "source": [
    "the SVM model will update the parameters"
   ]
  },
  {
   "cell_type": "markdown",
   "id": "4982a8ae",
   "metadata": {},
   "source": [
    "And remember below properties of SVM also:"
   ]
  },
  {
   "cell_type": "markdown",
   "id": "dbcbb0ed",
   "metadata": {},
   "source": [
    "\n",
    "\\[\n",
    "\\text{Vector that's classified as class 1}: w \\cdot x + b \\geq 0 \\\\\n",
    "\\text{Vector that's classified as class 0}: w \\cdot x + b < 0 \\\\\n",
    "\\]\n"
   ]
  },
  {
   "cell_type": "markdown",
   "id": "03a03b83",
   "metadata": {},
   "source": [
    "So if a vector that’s classified as class 1 having $w \\cdot x + b \\lt 0$ or a vector that’s classified as class 0 having $w \\cdot x + b \\geq 0$ the SVM model will update the parameters as there’s a misclassification."
   ]
  },
  {
   "cell_type": "markdown",
   "id": "bbab6aa4",
   "metadata": {},
   "source": [
    "So basically the hyperplane when we use use hard margin SWM won’t be used and will be updated to a new hyperplane that can classify the vector correctly that will fit above constraint (no vector is placed inside the margin)."
   ]
  },
  {
   "cell_type": "markdown",
   "id": "d570de24",
   "metadata": {},
   "source": [
    "Which will make it less prone to misclassification for the training data, but it will make it more prone to overfitting."
   ]
  },
  {
   "cell_type": "markdown",
   "id": "791ad3f3",
   "metadata": {},
   "source": [
    "# Margin width"
   ]
  },
  {
   "cell_type": "markdown",
   "id": "f50d5944",
   "metadata": {},
   "source": [
    "Before we continue on learning about hard margin SVM, let’s stop a little bit and learn about margin width."
   ]
  },
  {
   "cell_type": "markdown",
   "id": "82479eb4",
   "metadata": {},
   "source": []
  },
  {
   "cell_type": "markdown",
   "id": "56a04aec",
   "metadata": {},
   "source": [
    "![Image](https://storage.googleapis.com/rg-ai-bootcamp/machine-learning/margin-width-min.png)"
   ]
  },
  {
   "cell_type": "markdown",
   "id": "9a14633a",
   "metadata": {},
   "source": [
    "Margin width is calculated by the distance between the two support vectors, and it’s calculated by below formula:"
   ]
  },
  {
   "cell_type": "markdown",
   "id": "7714521a",
   "metadata": {},
   "source": [
    "\n",
    "\\[\n",
    "\\text{Width of the margin} = \\frac{2}{\\|w\\|} \\\\\n",
    "\\]\n"
   ]
  },
  {
   "cell_type": "markdown",
   "id": "e0e14c25",
   "metadata": {},
   "source": [
    "How to derive the formula can be checked on supplementary material of SVM as it require some additional knowledge of vector math that will be explained there."
   ]
  },
  {
   "cell_type": "markdown",
   "id": "4ca6781a",
   "metadata": {},
   "source": [
    "# Hard margin optimization"
   ]
  },
  {
   "cell_type": "markdown",
   "id": "8d8e6309",
   "metadata": {},
   "source": [
    "So basically when we want to do SVM with hard margin, we want to find the parameters $w$ and $b$ that will satisfy below constraint:"
   ]
  },
  {
   "cell_type": "markdown",
   "id": "3d6901e1",
   "metadata": {},
   "source": [
    "\n",
    "\\[\n",
    "\\text{Hyperplane}: w \\cdot x + b = 0 \\\\\n",
    "\\text{Support Vector for class 1}: w \\cdot x + b = 1 \\\\\n",
    "\\text{Support Vector for class 0}: w \\cdot x + b = -1 \\\\\n",
    "\\]\n"
   ]
  },
  {
   "cell_type": "markdown",
   "id": "3800326f",
   "metadata": {},
   "source": [
    "And no vector is placed inside the margin, such that $w \\cdot x + b \\gt 1$ and $w \\cdot x + b \\lt -1$."
   ]
  },
  {
   "cell_type": "markdown",
   "id": "59acc6ea",
   "metadata": {},
   "source": [
    "If our hyperplane fulfill above constraint, then we need to find the largest margin by looking below formula:"
   ]
  },
  {
   "cell_type": "markdown",
   "id": "4bbb01de",
   "metadata": {},
   "source": [
    "\n",
    "\\[\n",
    "\\text{Width of the margin} = \\frac{2}{\\|w\\|} \\\\\n",
    "\\]\n"
   ]
  },
  {
   "cell_type": "markdown",
   "id": "5a44a41a",
   "metadata": {},
   "source": [
    "So if we want to find the largest margin, we need to find the smallest $\\|w\\|$ ($w$ vector that has the smallest magnitude) because $\\|w\\|$ is in the denominator of the formula."
   ]
  },
  {
   "cell_type": "markdown",
   "id": "60619b9a",
   "metadata": {},
   "source": [
    "So on optimizing SVM with hard margin, two things to consider: - Does it fulfill the constraint? - Does it has the smallest $\\|w\\|$?"
   ]
  },
  {
   "cell_type": "markdown",
   "id": "9e5c2ab7",
   "metadata": {},
   "source": [
    "For optimization of SVM normally we don’t use gradient descent but we use another method called “constrained optimization” (basically like the name suggests, we’re optimizing the model with some constraints), but unfortunately it’s out of the scope of our learning as it’s require a lot of foundation math knowledge such as lagrange multiplier, etc."
   ]
  },
  {
   "cell_type": "markdown",
   "id": "f31a294e",
   "metadata": {},
   "source": [
    "# Real world has outliers"
   ]
  },
  {
   "cell_type": "markdown",
   "id": "d255932b",
   "metadata": {},
   "source": [
    "Let’s be sneaky and add new data that inside the margin of our previous set of data"
   ]
  },
  {
   "cell_type": "markdown",
   "id": "3b14d677",
   "metadata": {},
   "source": []
  },
  {
   "cell_type": "markdown",
   "id": "05a747b1",
   "metadata": {},
   "source": [
    "![Image](https://storage.googleapis.com/rg-ai-bootcamp/machine-learning/HyperplaneLineWithPointsScene4NoLines_ManimCE_v0.18.0-min.png)"
   ]
  },
  {
   "cell_type": "code",
   "execution_count": null,
   "id": "29becc34",
   "metadata": {},
   "outputs": [],
   "source": [
    "import numpy as np\n",
    "from sklearn import svm\n",
    "\n",
    "X = np.array([\n",
    "    [3.00, 1.00], [3.07, 1.18], [1.48, -2.39], [6.77, -2.18], [5.83, -0.21], [3.67, -3.26], \n",
    "    [3.58, 3.02], [-0.09, -3.42], [1.45, -1.58], [2.79, 1.18], [6.10, -1.52], [6.46, -0.11], \n",
    "    [6.70, -2.54], [1.30, -0.30], [1.75, -3.09], [2.80, 0.97], [3.28, 2.76], [0.59, -1.67], \n",
    "    [6.20, -1.50], [6.52, 0.18], [3.28, 2.76], [0.59, -1.67], [6.20, -1.50], [6.52, 0.18], \n",
    "    [4.06, 0.75], [5.10, -0.73], [4.89, -0.03], [6.31, 0.89], [5.54, 0.30], [4.66, 1.55], \n",
    "    [5.48, -2.17], [4.27, -1.70], [5.65, -1.32], [4.84, -2.93], [5.38, 0.58], [5.00, 1.34], \n",
    "    [4.71, 0.84], [5.96, -0.79], [4.54, 0.30], [5.73, -0.61], [-2.00, 3.00], [-5.80, 3.44], \n",
    "    [-3.69, 3.85], [-1.63, 3.56], [-4.67, -0.32], [-4.58, 1.83], [-3.81, 3.38], [-2.90, 0.41], \n",
    "    [-4.69, -2.15], [-4.75, -3.36], [-2.40, 1.72], [-1.91, 2.53], [-5.73, 1.52], [-5.70, -0.21], \n",
    "    [-5.87, -2.00], [-1.35, 2.96], [-4.71, -2.75], [-6.62, 0.79], [-5.32, 1.10], [-1.89, 1.76]\n",
    "])\n",
    "\n",
    "\n",
    "y = np.array([\n",
    "    1,1, 1,1,1,\n",
    "    1,1, 1,1,1,\n",
    "    1,1, 1,1,1,\n",
    "    1,1, 1,1,1,\n",
    "    1,1, 1,1,1,\n",
    "    1,1, 1,1,1,\n",
    "    1,1, 1,1,1,\n",
    "    1,1, 1,1,1,\n",
    "    -1,-1,-1,-1,-1,\n",
    "    -1,-1,-1,-1,-1,\n",
    "    -1,-1,-1,-1,-1,\n",
    "    -1,-1,-1,-1,-1,\n",
    "])\n",
    "\n",
    "\n",
    "# Create an SVM classifier with a hard margin (What is hard margin?, what is C parameter? We'll learn about it later)\n",
    "clf = svm.SVC(kernel='linear', C=1e5)\n",
    "\n",
    "# Fit the classifier to the data\n",
    "clf.fit(X, y)\n",
    "\n",
    "# You can now use the trained classifier to make predictions on new data\n",
    "# Get the coefficients (weights) of the hyperplane\n",
    "coefficients = clf.coef_\n",
    "print(\"Weights:\", coefficients)\n",
    "\n",
    "# Get the bias (intercept) of the hyperplane\n",
    "intercept_ = clf.intercept_\n",
    "print(\"Bias:\", intercept_)\n",
    "\n",
    "# Get the Support Vectors\n",
    "support_vectors = clf.support_vectors_\n",
    "print(\"Support Vectors:\\n\", support_vectors)"
   ]
  },
  {
   "cell_type": "code",
   "execution_count": null,
   "id": "86ccc13c",
   "metadata": {},
   "outputs": [],
   "source": [
    "Weights: [[ 0.46068003 -0.25749064]]\n",
    "Bias: [0.32359972]\n",
    "Support Vectors:\n",
    " [[-4.75 -3.36]\n",
    " [-1.89  1.76]\n",
    " [ 1.3  -0.3 ]]"
   ]
  },
  {
   "cell_type": "markdown",
   "id": "eb4cffc3",
   "metadata": {},
   "source": [
    "Now with above trained SVM, we can see below result:"
   ]
  },
  {
   "cell_type": "markdown",
   "id": "c667c81b",
   "metadata": {},
   "source": []
  },
  {
   "cell_type": "markdown",
   "id": "15f8f9f4",
   "metadata": {},
   "source": [
    "![Image](https://storage.googleapis.com/rg-ai-bootcamp/machine-learning/HyperplaneLineWithPointsScene4_ManimCE_v0.18.0-min.png)"
   ]
  },
  {
   "cell_type": "markdown",
   "id": "d225914c",
   "metadata": {},
   "source": [
    "We can see we have a pretty wide margin for our SVM model, and it’s pretty fair to say if we input of a vector while inferencing say fall into (0, -1) for example, it will be classified as blue and if it falls into (-2, 0) it will be classified as red. The margin pretty wide so the likely that’s accurate is decent."
   ]
  },
  {
   "cell_type": "markdown",
   "id": "999a4340",
   "metadata": {},
   "source": [
    "But, what if on training there is a single outlier like below?"
   ]
  },
  {
   "cell_type": "markdown",
   "id": "f3f63804",
   "metadata": {},
   "source": []
  },
  {
   "cell_type": "markdown",
   "id": "49b61773",
   "metadata": {},
   "source": [
    "![Image](https://storage.googleapis.com/rg-ai-bootcamp/machine-learning/HyperplaneLineWithPointsScene4Outlier_ManimCE_v0.18.0-min.png)"
   ]
  },
  {
   "cell_type": "markdown",
   "id": "8e03393e",
   "metadata": {},
   "source": [
    "This red dot seems out of place as when we see it, it seems like it should be classified as blue. But this is the nature of real world data, it’s messy and it’s not perfect. Lots of the time we’ll have outliers on our dataset. Let’s see what will happen if we train our SVM model using hard margin with above dataset."
   ]
  },
  {
   "cell_type": "code",
   "execution_count": null,
   "id": "c5ca141e",
   "metadata": {},
   "outputs": [],
   "source": [
    "import numpy as np\n",
    "from sklearn import svm\n",
    "\n",
    "X = np.array([\n",
    "    [3.00, 1.00], [3.07, 1.18], [1.48, -2.39], [6.77, -2.18], [5.83, -0.21], [3.67, -3.26], \n",
    "    [3.58, 3.02], [-0.09, -3.42], [1.45, -1.58], [2.79, 1.18], [6.10, -1.52], [6.46, -0.11], \n",
    "    [6.70, -2.54], [1.30, -0.30], [1.75, -3.09], [2.80, 0.97], [3.28, 2.76], [0.59, -1.67], \n",
    "    [6.20, -1.50], [6.52, 0.18], [3.28, 2.76], [0.59, -1.67], [6.20, -1.50], [6.52, 0.18], \n",
    "    [4.06, 0.75], [5.10, -0.73], [4.89, -0.03], [6.31, 0.89], [5.54, 0.30], [4.66, 1.55], \n",
    "    [5.48, -2.17], [4.27, -1.70], [5.65, -1.32], [4.84, -2.93], [5.38, 0.58], [5.00, 1.34], \n",
    "    [4.71, 0.84], [5.96, -0.79], [4.54, 0.30], [5.73, -0.61], [-2.00, 3.00], [-5.80, 3.44], \n",
    "    [-3.69, 3.85], [-1.63, 3.56], [-4.67, -0.32], [-4.58, 1.83], [-3.81, 3.38], [-2.90, 0.41], \n",
    "    [-4.69, -2.15], [-4.75, -3.36], [-2.40, 1.72], [-1.91, 2.53], [-5.73, 1.52], [-5.70, -0.21], \n",
    "    [-5.87, -2.00], [-1.35, 2.96], [-4.71, -2.75], [-6.62, 0.79], [-5.32, 1.10], [-1.89, 1.76],\n",
    "    [0, -0.25]\n",
    "])\n",
    "\n",
    "\n",
    "y = np.array([\n",
    "    1,1, 1,1,1,\n",
    "    1,1, 1,1,1,\n",
    "    1,1, 1,1,1,\n",
    "    1,1, 1,1,1,\n",
    "    1,1, 1,1,1,\n",
    "    1,1, 1,1,1,\n",
    "    1,1, 1,1,1,\n",
    "    1,1, 1,1,1,\n",
    "    -1,-1,-1,-1,-1,\n",
    "    -1,-1,-1,-1,-1,\n",
    "    -1,-1,-1,-1,-1,\n",
    "    -1,-1,-1,-1,-1,\n",
    "    -1\n",
    "])\n",
    "\n",
    "\n",
    "# Create an SVM classifier with a hard margin (What is hard margin?, what is C parameter? We'll learn about it later)\n",
    "clf = svm.SVC(kernel='linear', C=1e5)\n",
    "\n",
    "# Fit the classifier to the data\n",
    "clf.fit(X, y)\n",
    "\n",
    "# You can now use the trained classifier to make predictions on new data\n",
    "# Get the coefficients (weights) of the hyperplane\n",
    "coefficients = clf.coef_\n",
    "print(\"Weights:\", coefficients)\n",
    "\n",
    "# Get the bias (intercept) of the hyperplane\n",
    "intercept_ = clf.intercept_\n",
    "print(\"Bias:\", intercept_)\n",
    "\n",
    "# Get the Support Vectors\n",
    "support_vectors = clf.support_vectors_\n",
    "print(\"Support Vectors:\\n\", support_vectors)"
   ]
  },
  {
   "cell_type": "code",
   "execution_count": null,
   "id": "4c77a3e6",
   "metadata": {},
   "outputs": [],
   "source": [
    "Weights: [[ 1.50867809 -0.78160554]]\n",
    "Bias: [-1.19552197]\n",
    "Support Vectors:\n",
    " [[ 0.   -0.25]\n",
    " [ 1.3  -0.3 ]\n",
    " [ 0.59 -1.67]]"
   ]
  },
  {
   "cell_type": "markdown",
   "id": "6939ec79",
   "metadata": {},
   "source": []
  },
  {
   "cell_type": "markdown",
   "id": "07defddb",
   "metadata": {},
   "source": [
    "![Image](https://storage.googleapis.com/rg-ai-bootcamp/machine-learning/HyperplaneLineWithPointsScene4OutlierWithLine_ManimCE_v0.18.0-min.png)"
   ]
  },
  {
   "cell_type": "markdown",
   "id": "e8a86ec1",
   "metadata": {},
   "source": [
    "Suddenly compared to previous SVM model, the margin is much smaller"
   ]
  },
  {
   "cell_type": "markdown",
   "id": "96278595",
   "metadata": {},
   "source": []
  },
  {
   "cell_type": "markdown",
   "id": "6fc32c02",
   "metadata": {},
   "source": [
    "![Image](https://storage.googleapis.com/rg-ai-bootcamp/machine-learning/HyperplaneLineWithPointsScene4_ManimCE_v0.18.0-min.png)"
   ]
  },
  {
   "cell_type": "markdown",
   "id": "5c89f215",
   "metadata": {},
   "source": [
    "Again if we check the whole red dot, it’s really likely that this single vector is an outlier."
   ]
  },
  {
   "cell_type": "markdown",
   "id": "ec7f16ef",
   "metadata": {},
   "source": [
    "Even more extreme in real world we can have below dataset:"
   ]
  },
  {
   "cell_type": "markdown",
   "id": "ae8fe6ae",
   "metadata": {},
   "source": []
  },
  {
   "cell_type": "markdown",
   "id": "1bdaa88c",
   "metadata": {},
   "source": [
    "![Image](https://storage.googleapis.com/rg-ai-bootcamp/machine-learning/HyperplaneLineWithPointsScene4Outlier2_ManimCE_v0.18.0-min.png)"
   ]
  },
  {
   "cell_type": "markdown",
   "id": "89f636c8",
   "metadata": {},
   "source": [
    "The red dot feels misclassified entirely, again if we use our feeling, it’s really likely that this single vector is an outlier."
   ]
  },
  {
   "cell_type": "code",
   "execution_count": null,
   "id": "d3846b09",
   "metadata": {},
   "outputs": [],
   "source": [
    "import numpy as np\n",
    "from sklearn import svm\n",
    "\n",
    "X = np.array([\n",
    "    [3.00, 1.00], [3.07, 1.18], [1.48, -2.39], [6.77, -2.18], [5.83, -0.21], [3.67, -3.26], \n",
    "    [3.58, 3.02], [-0.09, -3.42], [1.45, -1.58], [2.79, 1.18], [6.10, -1.52], [6.46, -0.11], \n",
    "    [6.70, -2.54], [1.30, -0.30], [1.75, -3.09], [2.80, 0.97], [3.28, 2.76], [0.59, -1.67], \n",
    "    [6.20, -1.50], [6.52, 0.18], [3.28, 2.76], [0.59, -1.67], [6.20, -1.50], [6.52, 0.18], \n",
    "    [4.06, 0.75], [5.10, -0.73], [4.89, -0.03], [6.31, 0.89], [5.54, 0.30], [4.66, 1.55], \n",
    "    [5.48, -2.17], [4.27, -1.70], [5.65, -1.32], [4.84, -2.93], [5.38, 0.58], [5.00, 1.34], \n",
    "    [4.71, 0.84], [5.96, -0.79], [4.54, 0.30], [5.73, -0.61], [-2.00, 3.00], [-5.80, 3.44], \n",
    "    [-3.69, 3.85], [-1.63, 3.56], [-4.67, -0.32], [-4.58, 1.83], [-3.81, 3.38], [-2.90, 0.41], \n",
    "    [-4.69, -2.15], [-4.75, -3.36], [-2.40, 1.72], [-1.91, 2.53], [-5.73, 1.52], [-5.70, -0.21], \n",
    "    [-5.87, -2.00], [-1.35, 2.96], [-4.71, -2.75], [-6.62, 0.79], [-5.32, 1.10], [-1.89, 1.76],\n",
    "    [1, -1]\n",
    "])\n",
    "\n",
    "\n",
    "y = np.array([\n",
    "    1,1, 1,1,1,\n",
    "    1,1, 1,1,1,\n",
    "    1,1, 1,1,1,\n",
    "    1,1, 1,1,1,\n",
    "    1,1, 1,1,1,\n",
    "    1,1, 1,1,1,\n",
    "    1,1, 1,1,1,\n",
    "    1,1, 1,1,1,\n",
    "    -1,-1,-1,-1,-1,\n",
    "    -1,-1,-1,-1,-1,\n",
    "    -1,-1,-1,-1,-1,\n",
    "    -1,-1,-1,-1,-1,\n",
    "    -1\n",
    "])\n",
    "\n",
    "\n",
    "# Create an SVM classifier with a hard margin (What is hard margin?, what is C parameter? We'll learn about it later)\n",
    "clf = svm.SVC(kernel='linear', C=1e7)\n",
    "\n",
    "# Fit the classifier to the data\n",
    "clf.fit(X, y)\n",
    "\n",
    "# You can now use the trained classifier to make predictions on new data\n",
    "# Get the coefficients (weights) of the hyperplane\n",
    "coefficients = clf.coef_\n",
    "print(\"Weights:\", coefficients)\n",
    "\n",
    "# Get the bias (intercept) of the hyperplane\n",
    "intercept_ = clf.intercept_\n",
    "print(\"Bias:\", intercept_)\n",
    "\n",
    "# Get the Support Vectors\n",
    "support_vectors = clf.support_vectors_\n",
    "print(\"Support Vectors:\\n\", support_vectors)"
   ]
  },
  {
   "cell_type": "code",
   "execution_count": null,
   "id": "f986abcd",
   "metadata": {},
   "outputs": [],
   "source": [
    "Weights: [[ 1.37253163 -0.21883039]]\n",
    "Bias: [-0.39185024]\n",
    "Support Vectors:\n",
    " [[ 1.   -1.  ]\n",
    " [-0.09 -3.42]\n",
    " [ 1.3  -0.3 ]\n",
    " [ 1.75 -3.09]\n",
    " [ 0.59 -1.67]]"
   ]
  },
  {
   "cell_type": "markdown",
   "id": "8e8800a6",
   "metadata": {},
   "source": []
  },
  {
   "cell_type": "markdown",
   "id": "72cd438b",
   "metadata": {},
   "source": [
    "![Image](https://storage.googleapis.com/rg-ai-bootcamp/machine-learning/HyperplaneLineWithPointsScene4Outlier2WithLine_ManimCE_v0.18.0-min.png)"
   ]
  },
  {
   "cell_type": "markdown",
   "id": "279f5fcb",
   "metadata": {},
   "source": [
    "If we’re forced to use hard margin SVM, we’ll have above result. Let’s iterate first that by default when we’re training SVM using scikit learn, it will using soft margin SVM, on above training we use a really high C value (which we’ll learn in a bit) to force it to use hard margin SVM, but by the nature of scikit we still can found the result even with hard margin SVM (in reality this shouldn’t be solvable using hard margin SVM)."
   ]
  },
  {
   "cell_type": "markdown",
   "id": "30bfe65c",
   "metadata": {},
   "source": [
    "But as we can see above this outlier make the hyperplane gone very near to the blue region, making the red region very big and can make lots of inputs misclassified as red rather than if we insist of using below hyperplane."
   ]
  },
  {
   "cell_type": "markdown",
   "id": "5b0d0aa5",
   "metadata": {},
   "source": []
  },
  {
   "cell_type": "markdown",
   "id": "01e677ad",
   "metadata": {},
   "source": [
    "![Image](https://storage.googleapis.com/rg-ai-bootcamp/machine-learning/HyperplaneLineWithPointsScene4Outlier2WithCorrectLine_ManimCE_v0.18.0-min.png)"
   ]
  },
  {
   "cell_type": "markdown",
   "id": "7cdbc74a",
   "metadata": {},
   "source": [
    "If we can ignore the outlier, we can see that the hyperplane is much more balanced and the margin is much wider. So how can we make sure that our SVM model can ignore the outlier?"
   ]
  },
  {
   "cell_type": "markdown",
   "id": "503be12b",
   "metadata": {},
   "source": [
    "# Soft margin"
   ]
  },
  {
   "cell_type": "markdown",
   "id": "17f700c7",
   "metadata": {},
   "source": [
    "Soft margin SVM is a method to allow some misclassification on our SVM model which means that the resulting hyperplane sometimes can ignore having some vectors inside the margin or any vectors that are misclassified."
   ]
  },
  {
   "cell_type": "markdown",
   "id": "85b2af99",
   "metadata": {},
   "source": [
    "So rather than previously that hard margin SVM is focused only on maximing margin width while still considering given constraint, soft margin SVM is focused on maximizing margin width while letting some misclassification to happen in training where this misclassification is controlled by a parameter called slack variable that we already often see before denoted as C."
   ]
  },
  {
   "cell_type": "markdown",
   "id": "6fd302f9",
   "metadata": {},
   "source": [
    "How much do we care about bringing high margin width vs how much do we care about making sure not much misclassification can be goes through the model? To understand better about slack variable let’s understand about hinge loss first."
   ]
  },
  {
   "cell_type": "markdown",
   "id": "2582cae0",
   "metadata": {},
   "source": [
    "# Hinge loss"
   ]
  },
  {
   "cell_type": "markdown",
   "id": "f03816ea",
   "metadata": {},
   "source": [
    "Hinge loss is basically a loss function that said: “Given current hyperplane, how bad this hyperplane is at classifying the data?”. So if we have a hyperplane that can classify all the data correctly, the hinge loss will be 0 (this will be the case on a data with no outlier). But if we have a hyperplane that can’t classify all the data correctly (some data might be misclassified), the hinge loss will be greater than 0."
   ]
  },
  {
   "cell_type": "markdown",
   "id": "0837728f",
   "metadata": {},
   "source": [
    "So let’s check the below set of data and given hyperplane:"
   ]
  },
  {
   "cell_type": "markdown",
   "id": "216943f5",
   "metadata": {},
   "source": []
  },
  {
   "cell_type": "markdown",
   "id": "aa7364a5",
   "metadata": {},
   "source": [
    "![Image](https://storage.googleapis.com/rg-ai-bootcamp/machine-learning/HyperplaneLineWithPointsScene4Outlier2HingeLoss_ManimCE_v0.18.0-min.png)"
   ]
  },
  {
   "cell_type": "markdown",
   "id": "2085bb29",
   "metadata": {},
   "source": [
    "So given hyperplane:"
   ]
  },
  {
   "cell_type": "markdown",
   "id": "7d760b0e",
   "metadata": {},
   "source": [
    "\n",
    "\\[\n",
    "Weight: 0.46068003, -0.25749064 \\\\\n",
    "Bias: 0.32359972\\\\\n",
    "\\]\n"
   ]
  },
  {
   "cell_type": "markdown",
   "id": "14da01a3",
   "metadata": {},
   "source": [
    "Where:"
   ]
  },
  {
   "cell_type": "markdown",
   "id": "9a22a132",
   "metadata": {},
   "source": [
    "\n",
    "\\[\n",
    "Blue: 1 \\\\\n",
    "Red: -1 \\\\\n",
    "\\]\n"
   ]
  },
  {
   "cell_type": "markdown",
   "id": "652c0f1a",
   "metadata": {},
   "source": [
    "We want to check the hinge loss for above 3 vectors with this hyperplane:"
   ]
  },
  {
   "cell_type": "markdown",
   "id": "353a915c",
   "metadata": {},
   "source": [
    "\n",
    "\\[\n",
    "A = \\begin{bmatrix} -4 \\\\ 0 \\end{bmatrix} \\\\\n",
    "\\]\n"
   ]
  },
  {
   "cell_type": "markdown",
   "id": "67329764",
   "metadata": {},
   "source": [
    "Where we can see is that this vector is placed correctly on the red region."
   ]
  },
  {
   "cell_type": "markdown",
   "id": "eae098ce",
   "metadata": {},
   "source": [
    "\n",
    "\\[\n",
    "B = \\begin{bmatrix} 1 \\\\ 1 \\end{bmatrix} \\\\\n",
    "\\]\n"
   ]
  },
  {
   "cell_type": "markdown",
   "id": "f292f924",
   "metadata": {},
   "source": [
    "Where we can see is that this vector is placed correctly for their classifcation but inside the margin."
   ]
  },
  {
   "cell_type": "markdown",
   "id": "6542a28a",
   "metadata": {},
   "source": [
    "\n",
    "\\[\n",
    "C = \\begin{bmatrix} 2 \\\\ -1 \\end{bmatrix} \\\\\n",
    "\\]\n"
   ]
  },
  {
   "cell_type": "markdown",
   "id": "2434f99b",
   "metadata": {},
   "source": [
    "Where we can see this vector is on the blue region but it’s classification is red."
   ]
  },
  {
   "cell_type": "markdown",
   "id": "d98f8d91",
   "metadata": {},
   "source": [
    "# Hinge loss formula"
   ]
  },
  {
   "cell_type": "markdown",
   "id": "2bf1da4f",
   "metadata": {},
   "source": [
    "Below is the hinge loss formula:"
   ]
  },
  {
   "cell_type": "markdown",
   "id": "4ff046b3",
   "metadata": {},
   "source": [
    "\n",
    "\\[\n",
    "\\text{Hinge Loss} = \\max(0, 1 - y(\\mathbf{w} \\cdot \\mathbf{x} + b))\n",
    "\\]\n"
   ]
  },
  {
   "cell_type": "markdown",
   "id": "2182e190",
   "metadata": {},
   "source": [
    "Where $y$ is the classification of the vector, $\\mathbf{w}$ is the weight vector, $\\mathbf{x}$ is the input vector, and $b$ is the bias."
   ]
  },
  {
   "cell_type": "markdown",
   "id": "2c117a4e",
   "metadata": {},
   "source": [
    "# Hinge loss for vector A (correctly classified)"
   ]
  },
  {
   "cell_type": "markdown",
   "id": "e5fa5415",
   "metadata": {},
   "source": [
    "Let’s input vector A to the formula:"
   ]
  },
  {
   "cell_type": "markdown",
   "id": "4aba3b4f",
   "metadata": {},
   "source": [
    "\n",
    "\\[\n",
    "\\text{Hinge Loss} = \\max(0, 1 - -1(w \\cdot x + b)) \\\\\n",
    "\\]\n"
   ]
  },
  {
   "cell_type": "markdown",
   "id": "3d7318f0",
   "metadata": {},
   "source": [
    "Where we change the y to -1 because the vector is classified as red, which is -1."
   ]
  },
  {
   "cell_type": "markdown",
   "id": "666cde7a",
   "metadata": {},
   "source": [
    "For the rest let’s just use Numpy to calculate:"
   ]
  },
  {
   "cell_type": "code",
   "execution_count": null,
   "id": "3a8dad37",
   "metadata": {},
   "outputs": [],
   "source": [
    "import numpy as np\n",
    "\n",
    "w = np.array([0.46068003, -0.25749064])\n",
    "x = np.array([-4, 0])\n",
    "b = 0.32359972\n",
    "\n",
    "1 - -1.0 * (w.dot(x) + b)"
   ]
  },
  {
   "cell_type": "code",
   "execution_count": null,
   "id": "393b7af8",
   "metadata": {},
   "outputs": [],
   "source": [
    "-0.5191204"
   ]
  },
  {
   "cell_type": "markdown",
   "id": "c436e379",
   "metadata": {},
   "source": [
    "As you can see the result is negative, so if we input the result"
   ]
  },
  {
   "cell_type": "markdown",
   "id": "0e8aeaeb",
   "metadata": {},
   "source": [
    "\n",
    "\\[\n",
    "\\text{Hinge loss} = \\max(0, -0.5191204)\\\\\n",
    "\\text{Hinge loss} = 0\n",
    "\\]\n"
   ]
  },
  {
   "cell_type": "markdown",
   "id": "40747ef4",
   "metadata": {},
   "source": [
    "As you can see, if the vector is correctly classified, the hinge loss will be 0."
   ]
  },
  {
   "cell_type": "markdown",
   "id": "b83ca945",
   "metadata": {},
   "source": [
    "# Hinge loss for vector B (correctly classified but inside the margin)"
   ]
  },
  {
   "cell_type": "markdown",
   "id": "693b339d",
   "metadata": {},
   "source": [
    "Let’s input vector B to the formula:"
   ]
  },
  {
   "cell_type": "markdown",
   "id": "14214196",
   "metadata": {},
   "source": [
    "\n",
    "\\[\n",
    "\\text{Hinge Loss} = \\max(0, 1 - 1(w \\cdot x + b)) \\\\\n",
    "\\]\n"
   ]
  },
  {
   "cell_type": "markdown",
   "id": "370ea12d",
   "metadata": {},
   "source": [
    "Where we change the y to 1 because the vector is classified as blue, which is 1."
   ]
  },
  {
   "cell_type": "markdown",
   "id": "00d671d6",
   "metadata": {},
   "source": [
    "For the rest let’s just use Numpy to calculate:"
   ]
  },
  {
   "cell_type": "code",
   "execution_count": null,
   "id": "84f8ff24",
   "metadata": {},
   "outputs": [],
   "source": [
    "import numpy as np\n",
    "\n",
    "w = np.array([0.46068003, -0.25749064])\n",
    "x = np.array([1, 1])\n",
    "b = 0.32359972\n",
    "\n",
    "1 - 1.0 * (w.dot(x) + b)"
   ]
  },
  {
   "cell_type": "code",
   "execution_count": null,
   "id": "c2c251ca",
   "metadata": {},
   "outputs": [],
   "source": [
    "0.47321089000000005"
   ]
  },
  {
   "cell_type": "markdown",
   "id": "1ecbeea5",
   "metadata": {},
   "source": [
    "Now if we input the result"
   ]
  },
  {
   "cell_type": "markdown",
   "id": "339d52a7",
   "metadata": {},
   "source": [
    "\n",
    "\\[\n",
    "\\text{Hinge loss} = \\max(0, 0.47321089000000005)\\\\\n",
    "\\text{Hinge loss} = 0.47321089000000005\n",
    "\\]\n"
   ]
  },
  {
   "cell_type": "markdown",
   "id": "c56e7b46",
   "metadata": {},
   "source": [
    "Basically if the vector is correctly classified but inside the margin, the hinge loss will be greater than 0 but always less than 1 (if the result is greater than 1, it means the vector is misclassified which we’ll learn next)."
   ]
  },
  {
   "cell_type": "markdown",
   "id": "70f5d2f6",
   "metadata": {},
   "source": [
    "This means that if there is a data that’s correctly classified but inside the margin, there is small penalty that we want to inform the SVM model for the current iteration of the hyperplane."
   ]
  },
  {
   "cell_type": "markdown",
   "id": "f919144a",
   "metadata": {},
   "source": [
    "# Hinge loss for vector C (misclassified)"
   ]
  },
  {
   "cell_type": "markdown",
   "id": "1172bfc9",
   "metadata": {},
   "source": [
    "Let’s input vector C to the formula:"
   ]
  },
  {
   "cell_type": "markdown",
   "id": "5d3013a9",
   "metadata": {},
   "source": [
    "\n",
    "\\[\n",
    "\\text{Hinge Loss} = \\max(0, 1 - -1(w \\cdot x + b)) \\\\\n",
    "\\]\n"
   ]
  },
  {
   "cell_type": "markdown",
   "id": "bb8a1b05",
   "metadata": {},
   "source": [
    "Where we change the y to -1 because the vector is classified as red, which is -1."
   ]
  },
  {
   "cell_type": "markdown",
   "id": "4ab5fa8e",
   "metadata": {},
   "source": [
    "For the rest let’s just use Numpy to calculate:"
   ]
  },
  {
   "cell_type": "code",
   "execution_count": null,
   "id": "9bb34836",
   "metadata": {},
   "outputs": [],
   "source": [
    "import numpy as np\n",
    "\n",
    "w = np.array([0.46068003, -0.25749064])\n",
    "x = np.array([2, -1])\n",
    "b = 0.32359972\n",
    "\n",
    "1 - -1.0 * (w.dot(x) + b)"
   ]
  },
  {
   "cell_type": "code",
   "execution_count": null,
   "id": "ebb8c8ab",
   "metadata": {},
   "outputs": [],
   "source": [
    "2.5024504199999997"
   ]
  },
  {
   "cell_type": "markdown",
   "id": "8ce65b14",
   "metadata": {},
   "source": [
    "Now if we input the result"
   ]
  },
  {
   "cell_type": "markdown",
   "id": "d34ae1c5",
   "metadata": {},
   "source": [
    "\n",
    "\\[\n",
    "\\text{Hinge loss} = \\max(0, 2.5024504199999997)\\\\\n",
    "\\text{Hinge loss} = 2.5024504199999997\n",
    "\\]\n"
   ]
  },
  {
   "cell_type": "markdown",
   "id": "fe779c2c",
   "metadata": {},
   "source": [
    "So as you can see if any of the vector is misclassified for the current iteration of the hyperplane, the hinge loss will be greater than 1. It means that there is a huge penalty that we want to inform the SVM model that saying “Hi, you might want to look at this vector because this vector is completely misclassified”."
   ]
  },
  {
   "cell_type": "markdown",
   "id": "b2e2fec3",
   "metadata": {},
   "source": [
    "# C parameter"
   ]
  },
  {
   "cell_type": "markdown",
   "id": "7c2b8b92",
   "metadata": {},
   "source": [
    "\n",
    "\\[\n",
    "\\text{Loss function} = \\frac{1}{n} \\sum_{i=1}^{n} \\max(0, 1 - y(\\mathbf{w} \\cdot \\mathbf{x} + b)) + C \\times \\|\\mathbf{w}\\|^2\n",
    "\\]\n"
   ]
  },
  {
   "cell_type": "markdown",
   "id": "32b4243c",
   "metadata": {},
   "source": [
    "Above is the formula for the loss function, compiled between the hinge loss and the loss function for the margin width. Basically if we want to allow as much as misclassification as possible, we can set the $C$ to 0, which means the model won’t care about the margin width at all, while if we make it as big as possible, the hinge loss will be really small that it won’t have any effect on the loss function, which means the model will care about the margin width as much as possible, granting the similar result as hard margin SVM (which is why we can still get the result on hard margin SVM using scikit learn, because it’s still basically soft margin SVM with a really high $C$ value)."
   ]
  },
  {
   "cell_type": "markdown",
   "id": "0318f47a",
   "metadata": {},
   "source": [
    "$C$ value commonly called as the regularization parameter or slack variable, and it’s a hyperparameter that we can tune to get the best result for our SVM model."
   ]
  },
  {
   "cell_type": "markdown",
   "id": "e99ac02b",
   "metadata": {},
   "source": [
    "# Linearly Separable Data"
   ]
  },
  {
   "cell_type": "markdown",
   "id": "63784991",
   "metadata": {},
   "source": [
    "If we get back to this plot:"
   ]
  },
  {
   "cell_type": "markdown",
   "id": "1c41a10c",
   "metadata": {},
   "source": []
  },
  {
   "cell_type": "markdown",
   "id": "c4414b8b",
   "metadata": {},
   "source": [
    "![Image](https://storage.googleapis.com/rg-ai-bootcamp/machine-learning/HyperplaneLineWithPointsScene2_ManimCE_v0.18.0-min.png)"
   ]
  },
  {
   "cell_type": "markdown",
   "id": "9e3b856c",
   "metadata": {},
   "source": [
    "This plot is based on a dataset that is linearly separable, which means we can draw a simple hyperplane (for this case a line) to separate the data into two classes. But what if the data is not linearly separable? What if we have a dataset like this:"
   ]
  },
  {
   "cell_type": "markdown",
   "id": "86b30b8e",
   "metadata": {},
   "source": []
  },
  {
   "cell_type": "markdown",
   "id": "7a6605db",
   "metadata": {},
   "source": [
    "![Image](https://storage.googleapis.com/rg-ai-bootcamp/machine-learning/LinearlyInseparable2D_ManimCE_v0.18.0-min.png)"
   ]
  },
  {
   "cell_type": "markdown",
   "id": "bb836f9c",
   "metadata": {},
   "source": [
    "As you can see from above data we can’t draw a hyperplane to separate the data into two classes. Let’s reiterate about hyperplane is that it’s a plane that has one less dimension than the original data. So for above data, the hyperplane is a line, and we can’t just draw a line to separate the data into two classes."
   ]
  },
  {
   "cell_type": "markdown",
   "id": "9eab400b",
   "metadata": {},
   "source": [
    "# Explicitly adding new dimension"
   ]
  },
  {
   "cell_type": "markdown",
   "id": "f8c4daac",
   "metadata": {},
   "source": [
    "Let’s try to convert above data into a matrix:"
   ]
  },
  {
   "cell_type": "markdown",
   "id": "5d355488",
   "metadata": {},
   "source": [
    "\n",
    "\\[\n",
    "\\begin{bmatrix}\n",
    "    0 & 1 & -1 & -1 & 0 & 1 & 0 & -1 & -1 & -2 & -2 & 1 & 2 & 2 & 1 & 0 & 1 \\\\\n",
    "    0 & 0 & 0 & -1 & -1 & -1 & -2 & -2 & 1 & -1 & 0 & -2 & -1 & 0 & 1 & 1 & 1 \\\\\n",
    "\\end{bmatrix}\n",
    "\\]\n"
   ]
  },
  {
   "cell_type": "markdown",
   "id": "6f78e045",
   "metadata": {},
   "source": [
    "We can create a new dimension by adding a new row to the matrix, let’s try with below formula:"
   ]
  },
  {
   "cell_type": "markdown",
   "id": "3b3fcff7",
   "metadata": {},
   "source": [
    "\n",
    "\\[\n",
    "z(x, y) = (-0.01716201 \\times x) + (1.41217877 \\times y) + (0.81613408 \\times x^2) - (0.01930726 \\times x \\times y) + (1.42907263 \\times y^2) - 3.4407150837988825\n",
    "\\]\n"
   ]
  },
  {
   "cell_type": "markdown",
   "id": "5a5c6a31",
   "metadata": {},
   "source": [
    "This formula will generate z value for each vector in the matrix by using the x and y value of the vector."
   ]
  },
  {
   "cell_type": "markdown",
   "id": "fc87947e",
   "metadata": {},
   "source": []
  },
  {
   "cell_type": "markdown",
   "id": "97080820",
   "metadata": {},
   "source": [
    "![Image](https://storage.googleapis.com/rg-ai-bootcamp/machine-learning/DataPlot3D_ManimCE_v0.18.0-min.gif)"
   ]
  },
  {
   "cell_type": "markdown",
   "id": "d1e79046",
   "metadata": {},
   "source": [
    "So we can see below how, by transforming existing data into a new dimension, we can draw a hyperplane to separate the data into two classes where above example we now have 3 dimensional data, and the hyperplane is a 2D plane."
   ]
  },
  {
   "cell_type": "markdown",
   "id": "79c2f48e",
   "metadata": {},
   "source": [
    "Note: For above example, we used polynomial regression to get above formula where we target all the red dots to be on 0 axis while blue dots to be on -3 axis"
   ]
  },
  {
   "cell_type": "markdown",
   "id": "c3ca6201",
   "metadata": {},
   "source": [
    "# Implicitly adding new dimension - Kernel Trick"
   ]
  },
  {
   "cell_type": "markdown",
   "id": "f92b0323",
   "metadata": {},
   "source": [
    "As you can see above, we can transform a data to higher dimension and it can provide a new “perspective” on that data. What if three dimensions is not enough? What if we need more dimensions? What if we need 100 dimensions? 1000 dimensions? 10000 dimensions? It’s not practical to do that, right?"
   ]
  },
  {
   "cell_type": "markdown",
   "id": "a53869eb",
   "metadata": {},
   "source": [
    "# Understanding the optimization method on SVM"
   ]
  },
  {
   "cell_type": "markdown",
   "id": "91807986",
   "metadata": {},
   "source": [
    "One of the most used optimization method on SVM that can help on how to find the most optimal hyperplane is called dual problem, which can be seen below:"
   ]
  },
  {
   "cell_type": "markdown",
   "id": "50b5cf79",
   "metadata": {},
   "source": [
    "\n",
    "\\[\n",
    "\\frac{1}{2} \\sum_{i=1}^{N} \\sum_{j=1}^{N} \\alpha_i \\alpha_j y_i y_j K(\\mathbf{x}_i, \\mathbf{x}_j) - \\sum_{i=1}^{N} \\alpha_i\n",
    "\\]\n"
   ]
  },
  {
   "cell_type": "markdown",
   "id": "68c1eb71",
   "metadata": {},
   "source": [
    "In this formula:"
   ]
  },
  {
   "cell_type": "markdown",
   "id": "0833dc1a",
   "metadata": {},
   "source": [
    "- \\(N\\)is the number of training samples.\n",
    "- \\(\\alpha_i\\)are the Lagrange multipliers (dual variables) associated with each training sample $ _i $.\n",
    "- \\(y_i\\)is the class label of training sample $ _i $ (-1 or 1).\n",
    "- \\(K(\\mathbf{x}_i, \\mathbf{x}_j)\\)is the kernel function that computes the dot product between the feature vectors $ _i $ and $ _j $ in the transformed feature space."
   ]
  },
  {
   "cell_type": "markdown",
   "id": "1df26e4a",
   "metadata": {},
   "source": [
    "Okay, so maybe we’ve got to go through lots of math to understand what’s going on (we need to delve in on constrained optimization which out of scope of our learning), but for now let’s focus on the $K(\\mathbf{x}_i, \\mathbf{x}_j)$ part. Why? Because $\\alpha_i$ and $C$ are data that is part of the model output after training, but $K(\\mathbf{x}_i, \\mathbf{x}_j)$ is the kernel function that we are interested because this value is derived from the input data, and as you can see, the kernel function is outputting the dot product between two vectors in a higher dimension."
   ]
  },
  {
   "cell_type": "markdown",
   "id": "67f86f1d",
   "metadata": {},
   "source": [
    "Above optimization method is only using the dot product between all pairs of input data to find the most optimal hyperplane. So if we can find a way to calculate the dot product between two vectors in a higher dimension without actually transforming the data into that dimension we can save lots of computation power and make our model more efficient and faster to train. And that’s what above kernel function means: A “trick” to fasten the computation by implicitly adding new dimension, mimicking as if we’re calculating the dot product in a higher dimension without actually transforming the data into that dimension."
   ]
  },
  {
   "cell_type": "markdown",
   "id": "c51d9f9b",
   "metadata": {},
   "source": [
    "# Why can we only use the dot product to find the most optimal hyperplane?"
   ]
  },
  {
   "cell_type": "markdown",
   "id": "e75e3224",
   "metadata": {},
   "source": [
    "Unfortunately, the concept of “why” is beyond the scope of our learning, because there are lots of foundational math, especially in the field of quadratic programming, that we need to learn first before we can understand why we only need the dot product."
   ]
  }
 ],
 "metadata": {},
 "nbformat": 4,
 "nbformat_minor": 5
}
