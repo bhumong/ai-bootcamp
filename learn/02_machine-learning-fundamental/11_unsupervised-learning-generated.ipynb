{
 "cells": [
  {
   "cell_type": "markdown",
   "id": "29306ec8",
   "metadata": {},
   "source": [
    "# Unsupervised Learning"
   ]
  },
  {
   "cell_type": "markdown",
   "id": "79f2c17a",
   "metadata": {},
   "source": [
    "# Introduction to Unsupervised Learning"
   ]
  },
  {
   "cell_type": "markdown",
   "id": "b62a2cc0",
   "metadata": {},
   "source": [
    "Unsupervised learning is a type of machine learning where the model learns from data without any explicit supervision. In other words, it’s like a baby learning to identify different animals. No one tells the baby, “This is a dog,” or “That’s a cat.” Instead, the baby observes various features, like size, shape, sound, and behavior, and gradually learns to distinguish between different animals."
   ]
  },
  {
   "cell_type": "markdown",
   "id": "2926d9d4",
   "metadata": {},
   "source": [
    "In the same way, unsupervised learning algorithms discover hidden patterns or data groupings without the need for human intervention. They’re used when we have a lot of data, but we don’t know what to look for, or when we’re not sure what the output should be."
   ]
  },
  {
   "cell_type": "markdown",
   "id": "8294cc4c",
   "metadata": {},
   "source": [
    "In unsupervised learning, we are given a dataset like this with only \\(x\\), but not the target label \\(y\\). That’s why when we plot a data set, it looks like this as below, only with dots instead of two classes denoted by \\(x\\)."
   ]
  },
  {
   "cell_type": "markdown",
   "id": "5d16d0a5",
   "metadata": {},
   "source": []
  },
  {
   "cell_type": "markdown",
   "id": "5082417c",
   "metadata": {},
   "source": [
    "Since we don’t have a target label \\(y\\), we can’t tell the algorithm what the “correct answer (\\(y\\))” is that we want to predict. Instead, we will ask the algorithm to discover something interesting about the data."
   ]
  },
  {
   "cell_type": "markdown",
   "id": "71a1fadb",
   "metadata": {},
   "source": [
    "# Types of Unsupervised Learning"
   ]
  },
  {
   "cell_type": "markdown",
   "id": "808a6034",
   "metadata": {},
   "source": [
    "There are three main types of unsupervised learning: clustering, Anomaly Detection and Dimensionality Reduction."
   ]
  },
  {
   "cell_type": "markdown",
   "id": "b7f110a6",
   "metadata": {},
   "source": [
    "Clustering"
   ]
  },
  {
   "cell_type": "markdown",
   "id": "341f525d",
   "metadata": {},
   "source": [
    "Imagine you have a basket full of different fruits mixed together, and you want to separate them by type. Clustering algorithms would analyze the characteristics of each fruit (like size, color, shape) and group similar fruits together."
   ]
  },
  {
   "cell_type": "markdown",
   "id": "1b1983fe",
   "metadata": {},
   "source": [
    "Clustering is a technique used to group data points or items into several groups (clusters) based on their similarity. The goal is to partition the data into sets such that the data points in the same set are similar to each other and different from the data points in other sets."
   ]
  },
  {
   "cell_type": "markdown",
   "id": "cfdb20e9",
   "metadata": {},
   "source": [
    "Anomaly Detection"
   ]
  },
  {
   "cell_type": "markdown",
   "id": "fdeca845",
   "metadata": {},
   "source": [
    "Suppose a credit card company is trying to spot suspicious transactions to prevent fraud. These transactions stick out because they’re different from usual behavior. They use a method called anomaly detection to do this."
   ]
  },
  {
   "cell_type": "markdown",
   "id": "d866a73a",
   "metadata": {},
   "source": [
    "Anomaly detection is like a detective. It hunts for things that are rare or unusual. In the case of the credit card company, it raises a flag when it detects uncommon transactions, which might mean someone is using the card fraudulently."
   ]
  },
  {
   "cell_type": "markdown",
   "id": "8e11b70b",
   "metadata": {},
   "source": [
    "Dimensionality Reduction"
   ]
  },
  {
   "cell_type": "markdown",
   "id": "68c21536",
   "metadata": {},
   "source": [
    "Let’s take a file compression as an example, we can reduce the size of a file, a movie for example into a smaller size using Winzip or WinRAR for example. Dimensionality reduction is similar in process. In machine learning, we usually have a lot of features, some of which we can merge together, remember Feature Engineering? So let’s say we have 1000 features that we can merge to let’s say 100. This will greatly speed up the training process because we have smaller amount of data to process and we still retain the important features."
   ]
  },
  {
   "cell_type": "markdown",
   "id": "1ee0b6f9",
   "metadata": {},
   "source": [
    "# Applications of Unsupervised Learning"
   ]
  },
  {
   "cell_type": "markdown",
   "id": "7b71a236",
   "metadata": {},
   "source": [
    "Unsupervised learning has a wide range of applications, including:"
   ]
  },
  {
   "cell_type": "markdown",
   "id": "b29ebb6a",
   "metadata": {},
   "source": [
    "Clustering: Customer Segmentation in marketing uses clustering to group data points together. The marketing team can then find the right customer group that matches their products and focus the marketing effort on that customer group to maximize profit."
   ]
  },
  {
   "cell_type": "markdown",
   "id": "f3aa7a24",
   "metadata": {},
   "source": [
    "Anomaly detection: Detecting fraudulent transactions in banking to identify unusual data points in datasets. An unusual credit card transactions done outside the country while most transactions are inside the country may warrant confirmation to the customer if their credit card data have been stolen."
   ]
  },
  {
   "cell_type": "markdown",
   "id": "3dd2a810",
   "metadata": {},
   "source": [
    "Association mining: Discovering interesting relationships in large datasets. For example, in a supermarket transaction database, we might find that if a customer buys bread, they also buy butter. In this case, the supermarket can then put butter next to bread or vice versa to improve their profit."
   ]
  },
  {
   "cell_type": "markdown",
   "id": "4e29b362",
   "metadata": {},
   "source": [
    "# Clustering"
   ]
  },
  {
   "cell_type": "markdown",
   "id": "60c42adb",
   "metadata": {},
   "source": [
    "Imagine you have a box of mixed candies of different colors and shapes. Clustering is like sorting these candies into different bowls based on their color or shape."
   ]
  },
  {
   "cell_type": "markdown",
   "id": "cd2743cb",
   "metadata": {},
   "source": [
    "Clustering is a technique used in unsupervised machine learning to group similar data points together and separate them from other groups of data points. The goal is to partition the data into sets such that the data points in the same set (or cluster) are similar to each other and different from the data points in other sets."
   ]
  },
  {
   "cell_type": "markdown",
   "id": "ec9c3749",
   "metadata": {},
   "source": [
    "In the context of machine learning, clustering is used to find patterns and structures in data that are hard to find manually, but can be useful in further analysis. It’s often used in exploratory data analysis, where you don’t necessarily know what you’re looking for."
   ]
  },
  {
   "cell_type": "markdown",
   "id": "0955615d",
   "metadata": {},
   "source": [
    "Let’s start with the most well-known clustering algorithm, K-means Clustering."
   ]
  },
  {
   "cell_type": "markdown",
   "id": "75ac4480",
   "metadata": {},
   "source": [
    "# K-means Clustering"
   ]
  },
  {
   "cell_type": "markdown",
   "id": "a8c0f127",
   "metadata": {},
   "source": [
    "It works by selecting ‘k’ number of centroids (center points) and assigning each data point to the nearest centroid. The centroids are then moved to the average point of all the data points assigned to them, and the process is repeated until the centroids no longer move significantly. Let’s see it in action."
   ]
  },
  {
   "cell_type": "code",
   "execution_count": null,
   "id": "e15dc15a",
   "metadata": {},
   "outputs": [],
   "source": [
    "#in local environment you may need to install ipywidgets first\n",
    "\n",
    "import matplotlib.pyplot as plt\n",
    "import numpy as np\n",
    "from sklearn.datasets import make_blobs\n",
    "from matplotlib.animation import FuncAnimation\n",
    "from IPython.display import HTML\n",
    "from ipywidgets import interact, IntSlider\n",
    "\n",
    "X, _ = make_blobs(n_samples=300, centers=4, cluster_std=0.6, random_state=0) #change random_state=None for truly random data.\n",
    "\n",
    "def kmeans_animation(n_clusters):\n",
    "    fig, ax = plt.subplots()\n",
    "\n",
    "    # Initialize centroids randomly\n",
    "    centroids = X[np.random.choice(len(X), size=n_clusters)]\n",
    "\n",
    "    def animate(i):\n",
    "        nonlocal centroids\n",
    "\n",
    "        # Assign each data point to the closest centroid\n",
    "        labels = np.argmin(np.linalg.norm(X[:, np.newaxis] - centroids, axis=2), axis=1)\n",
    "\n",
    "        # Calculate new centroids as the mean of the current clusters\n",
    "        new_centroids = np.array([X[labels == i].mean(axis=0) for i in range(n_clusters)])\n",
    "\n",
    "        ax.clear()\n",
    "        ax.scatter(X[:, 0], X[:, 1], c=labels, cmap='viridis', alpha=0.6)\n",
    "\n",
    "        # Plot the centroids\n",
    "        ax.scatter(centroids[:, 0], centroids[:, 1], c='red', s=200, alpha=0.5)\n",
    "        for (j, k), (l, m) in zip(centroids, new_centroids):\n",
    "            ax.arrow(j, k, l-j, m-k, color='red', width=0.02)\n",
    "\n",
    "        centroids = new_centroids\n",
    "\n",
    "    anim = FuncAnimation(fig, animate, frames=20, interval=500) #the loop is controlled by the frames parameter\n",
    "    plt.close(fig)\n",
    "    \n",
    "    return HTML(anim.to_jshtml())\n",
    "\n",
    "interact(kmeans_animation, n_clusters=IntSlider(value=4, min=2, max=10, step=1, description='n_clusters:'));"
   ]
  },
  {
   "cell_type": "markdown",
   "id": "d209b17a",
   "metadata": {},
   "source": [
    "Don’t worry about the code for now, it’s for quick animation to help you get the intuition behind the algorithm, later on we’ll write our own code."
   ]
  },
  {
   "cell_type": "markdown",
   "id": "40d64da7",
   "metadata": {},
   "source": [
    "Note that the data points remains the same for educational purposes, however the centroids are put on the graph randomly. You can adjust the ‘k’ number of centroids using the slider, the ideal is 4 as presented, you can adjust it using the slider."
   ]
  },
  {
   "cell_type": "markdown",
   "id": "8a0d0a11",
   "metadata": {},
   "source": [
    "You can try running the animation multiple times by pressing the “Run” button on the Code block and see how the “centroids” move from its random location towards its ideal location."
   ]
  },
  {
   "cell_type": "markdown",
   "id": "38e68690",
   "metadata": {},
   "source": [
    "Now, here’s what’s happening:"
   ]
  },
  {
   "cell_type": "markdown",
   "id": "3fb63207",
   "metadata": {},
   "source": [
    "We can now generalize how the algorithm works into 4 distinct steps:"
   ]
  },
  {
   "cell_type": "markdown",
   "id": "0f43b38d",
   "metadata": {},
   "source": [
    "Initialization: Start by randomly initilize \\(K\\) cluster centroids (\\(\\mu_1, \\mu_2, \\cdots , \\mu_k\\)). These can be randomly selected from the data points or created in the data space. Each centroid represents the center of a cluster."
   ]
  },
  {
   "cell_type": "markdown",
   "id": "bbb8e5bf",
   "metadata": {},
   "source": [
    "Assignment: Assign each data point to the nearest centroid. “Nearest” is typically determined using distance metrics. This step will create \\(K\\) clusters of data points."
   ]
  },
  {
   "cell_type": "markdown",
   "id": "6c1897b7",
   "metadata": {},
   "source": [
    "Update: Recalculate the centroids by finding the Mean (average) of all data points in each cluster. This Mean value becomes the new centroid for the cluster."
   ]
  },
  {
   "cell_type": "markdown",
   "id": "8a4ed843",
   "metadata": {},
   "source": [
    "Repeat: Repeat steps 2 and 3 until the centroids do not change significantly, or a predefined number of iterations have been reached. When the algorithm reaches this point it is said to have “converged”."
   ]
  },
  {
   "cell_type": "markdown",
   "id": "a25b464c",
   "metadata": {},
   "source": [
    "Case Study:"
   ]
  },
  {
   "cell_type": "markdown",
   "id": "5f4642f7",
   "metadata": {},
   "source": [
    "Let’s consider a retail store case for our clustering study example. Suppose a large retail store wants to understand the buying behavior of their customers in order to provide them with a personalized shopping experience. They have collected data about the annual income (in thousands of dollars) and the annual spend (in hundreds of dollars) of 30 customers. The annual income is represented by \\(x1\\), and the annual spend by \\(x2\\)."
   ]
  },
  {
   "cell_type": "markdown",
   "id": "1dc1c61b",
   "metadata": {},
   "source": [
    "Objective:"
   ]
  },
  {
   "cell_type": "markdown",
   "id": "8498a450",
   "metadata": {},
   "source": [
    "Maximize sales by targeting the right customers with more attractive personalized offers or setting the layout of the store accordingly, for example. The store assumes that different clusters may exhibit different buying behaviours. The store has hired you to provide them with customer segmentation based on the provided data. Your task is to use the K-means clustering algorithm to find the ideal clusters of customers. They can then study these clusters to understand the trend and make essential business decisions."
   ]
  },
  {
   "cell_type": "markdown",
   "id": "cc3afe33",
   "metadata": {},
   "source": [
    "We could interpret these two clusters in the context of the retail store as follows:"
   ]
  },
  {
   "cell_type": "markdown",
   "id": "da7e9a45",
   "metadata": {},
   "source": [
    "Income-Sensitive: This cluster includes customers whose spending is strongly influenced by their income. They tend to spend most of their income on shopping, regardless of income. For example, if income increases, expenses will also likely increase, and vice versa."
   ]
  },
  {
   "cell_type": "markdown",
   "id": "d3457c69",
   "metadata": {},
   "source": [
    "Income-Insensitive: Customers in this cluster tend to spend a fixed amount of money, no matter what their income is. For example, they may always spend a certain amount on shopping each year, no matter whether their income rises or falls."
   ]
  },
  {
   "cell_type": "markdown",
   "id": "142e1212",
   "metadata": {},
   "source": [
    "So, in this case we set k = 2, because we want to split the data into 2 customer segments (groups)."
   ]
  },
  {
   "cell_type": "markdown",
   "id": "10addbe5",
   "metadata": {},
   "source": [
    "Now let’s check the implementation using the example data set we have."
   ]
  },
  {
   "cell_type": "code",
   "execution_count": null,
   "id": "16bad177",
   "metadata": {},
   "outputs": [],
   "source": [
    "import numpy as np\n",
    "\n",
    "X = np.array([[7.29, 2.75],\n",
    "              [6.20, 2.68],\n",
    "              [5.39, 2.27],\n",
    "              [5.67, 2.96],\n",
    "              [6.60, 3.07],\n",
    "              [7.76, 3.16],\n",
    "              [6.63, 3.15],\n",
    "              [5.77, 3.14],\n",
    "              [5.99, 2.76],\n",
    "              [6.38, 2.65],\n",
    "              [5.74, 3.10],\n",
    "              [4.62, 2.79],\n",
    "              [5.34, 3.04],\n",
    "              [5.37, 2.82],\n",
    "              [5.04, 2.92],\n",
    "              [5.53, 3.34],\n",
    "              [6.05, 2.81],\n",
    "              [5.13, 2.20],\n",
    "              [5.73, 2.88],\n",
    "              [6.78, 3.06],\n",
    "              [6.45, 3.35],\n",
    "              [6.40, 2.90],\n",
    "              [5.86, 3.00],\n",
    "              [6.45, 3.17],\n",
    "              [5.37, 3.20],\n",
    "              [5.89, 3.35],\n",
    "              [3.96, 2.72],\n",
    "              [6.28, 3.17],\n",
    "              [4.21, 2.82],\n",
    "              [5.33, 3.03]])\n",
    "\n",
    "print('The shape of X is:', X.shape)"
   ]
  },
  {
   "cell_type": "code",
   "execution_count": null,
   "id": "b6f5abb1",
   "metadata": {},
   "outputs": [],
   "source": [
    "The shape of X is: (30, 2)"
   ]
  },
  {
   "cell_type": "markdown",
   "id": "8f840235",
   "metadata": {},
   "source": [
    "# Initializing cluster centroid"
   ]
  },
  {
   "cell_type": "markdown",
   "id": "e8e966eb",
   "metadata": {},
   "source": [
    "The first step of the K means clustering algorithm, is to choose a random location as an initial guess for the cluster centroid \\(\\mu_1\\) through \\(\\mu_k\\)."
   ]
  },
  {
   "cell_type": "markdown",
   "id": "f26a1626",
   "metadata": {},
   "source": [
    "The most common way is to randomly select from the available data points. In this example case we select the 3rd data (index 2) and the 16th data (index 15)."
   ]
  },
  {
   "cell_type": "markdown",
   "id": "d48e03e6",
   "metadata": {},
   "source": [
    "The alternative is to just set it to random as in the visualization above. However there are some issues: 1. If you tried running it multiple times, you may find that sometimes the centroids are not aligned with the four groups, one cluster can have two centroids on it while two clusters are attached to one centroid. Meaning, it failed to find the optimum result. K-means is sensitive to initial points. 2. By randomizing the initial location, the algorithm may take longer to converge. Again, if you try the visualization above multiple times, you’ll find that sometimes it takes more than 4-5 steps and may even exceed 20 steps."
   ]
  },
  {
   "cell_type": "code",
   "execution_count": null,
   "id": "976edab9",
   "metadata": {},
   "outputs": [],
   "source": [
    "initial_centroids = np.array([[5.39, 2.27], [5.53, 3.34]])\n",
    "\n",
    "print('The shape of initial centroids is:', initial_centroids.shape)"
   ]
  },
  {
   "cell_type": "code",
   "execution_count": null,
   "id": "d8f0645e",
   "metadata": {},
   "outputs": [],
   "source": [
    "The shape of initial centroids is: (2, 2)"
   ]
  },
  {
   "cell_type": "markdown",
   "id": "a7641e7a",
   "metadata": {},
   "source": [
    "Let’s visualize the data"
   ]
  },
  {
   "cell_type": "code",
   "execution_count": null,
   "id": "7aadbb94",
   "metadata": {},
   "outputs": [],
   "source": [
    "import matplotlib.pyplot as plt\n",
    "\n",
    "# Data points\n",
    "plt.scatter(X[:, 0], X[:, 1], label='Data Points')\n",
    "\n",
    "# Initial centroids\n",
    "plt.scatter(initial_centroids[:, 0], initial_centroids[:, 1], \n",
    "            color='red', s=100, edgecolor='k', label='Initial Centroids')\n",
    "\n",
    "plt.title('Data points and initial centroids')\n",
    "plt.xlabel('X')\n",
    "plt.ylabel('Y')\n",
    "plt.legend()\n",
    "plt.grid(True)\n",
    "plt.show()"
   ]
  },
  {
   "cell_type": "markdown",
   "id": "8fd4d76c",
   "metadata": {},
   "source": []
  },
  {
   "cell_type": "markdown",
   "id": "886fd77e",
   "metadata": {},
   "source": [
    "# Finding the closest centroids"
   ]
  },
  {
   "cell_type": "markdown",
   "id": "bcd8edff",
   "metadata": {},
   "source": [
    "The next step we will take is to assign each data point to the nearest centroid. To do this, we simply measure the distance between each data points with every centroids."
   ]
  },
  {
   "cell_type": "markdown",
   "id": "e49f9618",
   "metadata": {},
   "source": [
    "Let’s define the variable x as our data point and i as our data points index. Since the centroids is actually the Mean, we’ll define “\\(\\mu\\)” as our centroid data point and j as our centroids index. Now we have “\\(x_i\\)” which represents our data point at index i and “\\(\\mu_j\\)” represents our centroid point at index j."
   ]
  },
  {
   "cell_type": "markdown",
   "id": "410f60be",
   "metadata": {},
   "source": [
    "For example \\(x_1\\) is the data point [7.29, 2.75]; \\(x_2\\) is the data point [6.20, 2.68] and so on."
   ]
  },
  {
   "cell_type": "markdown",
   "id": "df98bffd",
   "metadata": {},
   "source": [
    "The same for \\(\\mu_1\\) is the centroid point [5.39, 2.27] and \\(\\mu_2\\) is the centroid point [5.53, 3.34]."
   ]
  },
  {
   "cell_type": "markdown",
   "id": "b19a4fac",
   "metadata": {},
   "source": [
    "We’ll then iterate over our x data points and for each data points “\\(x_i\\)”, we’ll measure the distance to each centroids “\\(\\mu_j\\)” by using the Euclidean norm, that calculates the Euclidean distance between two vectors. And find the closest centroid index j."
   ]
  },
  {
   "cell_type": "markdown",
   "id": "30da2d78",
   "metadata": {},
   "source": [
    "To make sure that we group close data points together around the centroid, and avoid data points that are far away, we square the Euclidean distances, which is like using a magnifying glass on the distances. Small distances look a bit bigger and big distances look way bigger. This helps the algorithm to do a better job of putting the right data points in the right centroid."
   ]
  },
  {
   "cell_type": "markdown",
   "id": "b462b35c",
   "metadata": {},
   "source": [
    "We can generalize this by writing it in a formula:"
   ]
  },
  {
   "cell_type": "markdown",
   "id": "7fbec5a1",
   "metadata": {},
   "source": [
    "\\[c_{(i)} := j \\quad \\mathrm{that \\; minimizes} \\quad ||x_{(i)} - \\mu_j||^2,\\]"
   ]
  },
  {
   "cell_type": "markdown",
   "id": "a18c0977",
   "metadata": {},
   "source": [
    "where * \\(c_{(i)}\\) is the index of the centroid that is closest to \\(x_{(i)}\\) (corresponds to idx[i] in the code below), and * \\(\\mu_j\\) is the position (value) of the \\(j\\)’th centroid. (stored in centroids in the code below) * \\(||x_{(i)} - \\mu_j||\\) is the Euclidean distance"
   ]
  },
  {
   "cell_type": "markdown",
   "id": "df27cbda",
   "metadata": {},
   "source": [
    "Now let’s put this into Python code:"
   ]
  },
  {
   "cell_type": "markdown",
   "id": "09d28c34",
   "metadata": {},
   "source": [
    "We’ll create find_closest_centroids function which will takes the all the points as well the centroid locations and do a loop to try and find which centroids is closest to data."
   ]
  },
  {
   "cell_type": "markdown",
   "id": "c2feabcc",
   "metadata": {},
   "source": [
    "Once we find the closest index, we’ll then store the centroids index for each data points using a one-dimensional array."
   ]
  },
  {
   "cell_type": "markdown",
   "id": "bc6cfddc",
   "metadata": {},
   "source": [
    "For example: - The 1st data point (\\(x_{(1)}\\)) is closer to \\(\\mu_1\\), meaning we can say \\(c_{(1)}\\) = 1. - The 2nd data point (\\(x_{(2)}\\)) is closer to \\(\\mu_0\\), meaning we can say \\(c_{(2)}\\) = 0. - The 3rd data point (\\(x_{(3)}\\)) is closer to \\(\\mu_0\\), meaning we can say \\(c_{(3)}\\) = 0."
   ]
  },
  {
   "cell_type": "markdown",
   "id": "e2b227a1",
   "metadata": {},
   "source": [
    "We’ll store this into the array like this: [1 0 0]"
   ]
  },
  {
   "cell_type": "markdown",
   "id": "201395ed",
   "metadata": {},
   "source": [
    "We can use Numpy functions np.linalg.norm to calculate the norm and np.argmin to find the index of the minimum value."
   ]
  },
  {
   "cell_type": "code",
   "execution_count": null,
   "id": "8878849b",
   "metadata": {},
   "outputs": [],
   "source": [
    "import numpy as np\n",
    "import matplotlib.pyplot as plt\n",
    "\n",
    "%matplotlib inline"
   ]
  },
  {
   "cell_type": "code",
   "execution_count": null,
   "id": "97fff1b2",
   "metadata": {},
   "outputs": [],
   "source": [
    "def find_closest_centroids(X, centroids):\n",
    "    \"\"\"\n",
    "    Computes the centroid memberships for every example\n",
    "\n",
    "    Args:\n",
    "        X (ndarray): (m, n) Input values\n",
    "        centroids (ndarray): (K, n) centroids\n",
    "\n",
    "    Returns:\n",
    "        idx (array_like): (m,) closest centroids\n",
    "\n",
    "    \"\"\"\n",
    "\n",
    "    K = centroids.shape[0] \n",
    "\n",
    "    idx = np.zeros(X.shape[0], dtype=int)\n",
    "\n",
    "    for i in range(X.shape[0]):\n",
    "      distance = []\n",
    "      for j in range(centroids.shape[0]):\n",
    "        norm_ij = np.linalg.norm(X[i] - centroids[j])\n",
    "        distance.append(norm_ij)\n",
    "\n",
    "      idx[i] = np.argmin(distance)\n",
    "\n",
    "    return idx"
   ]
  },
  {
   "cell_type": "code",
   "execution_count": null,
   "id": "5df757af",
   "metadata": {},
   "outputs": [],
   "source": [
    "# Find closest centroids using initial_centroids\n",
    "idx = find_closest_centroids(X, initial_centroids)\n",
    "\n",
    "# Print the closest centroids for the first three elements\n",
    "print(\"The shape of idx is:\", idx.shape[0])\n",
    "print(\"First three elements in idx are:\", idx[:3])\n",
    "print(\"All elements in idx are:\", idx)"
   ]
  },
  {
   "cell_type": "code",
   "execution_count": null,
   "id": "08c1bf9c",
   "metadata": {},
   "outputs": [],
   "source": [
    "The shape of idx is: 30\n",
    "First three elements in idx are: [1 0 0]\n",
    "All elements in idx are: [1 0 0 1 1 1 1 1 1 0 1 0 1 1 1 1 1 0 1 1 1 1 1 1 1 1 0 1 0 1]"
   ]
  },
  {
   "cell_type": "markdown",
   "id": "2730f7b7",
   "metadata": {},
   "source": [
    "From the results above we can see that every data point we have has been assigned to the nearest centroid. This is proven by having the same 30 data inside both idx and X."
   ]
  },
  {
   "cell_type": "markdown",
   "id": "feac2a7d",
   "metadata": {},
   "source": [
    "# Computing the centroid means"
   ]
  },
  {
   "cell_type": "markdown",
   "id": "a3f31a45",
   "metadata": {},
   "source": [
    "Now that we have map the data points to the centroids, we can do the next step which is calculating the Means for each centroids."
   ]
  },
  {
   "cell_type": "markdown",
   "id": "b067a252",
   "metadata": {},
   "source": [
    "I’m sure we all know how to calculate the Mean which is the sum of all the data divided by the number of data."
   ]
  },
  {
   "cell_type": "markdown",
   "id": "67ee4c58",
   "metadata": {},
   "source": [
    "We can write the formula like this: \\[\\mu_k = \\frac{1}{|C_k|} \\sum_{i \\in C_k} x^{(i)}\\]"
   ]
  },
  {
   "cell_type": "markdown",
   "id": "b0f55d90",
   "metadata": {},
   "source": [
    "where * \\(C_k\\) is the set of examples that are assigned to centroid \\(k\\) * \\(|C_k|\\) is the number of examples in the set \\(C_k\\)"
   ]
  },
  {
   "cell_type": "markdown",
   "id": "f288b795",
   "metadata": {},
   "source": [
    "Concretely, if two examples say \\(x_{(3)}\\) and \\(x_{(5)}\\) are assigned to centroid \\(k=0\\), then by inputting the data into the formula, we get \\(\\mu_0 = \\frac{1}{2}(x_{(3)}+x_{(5)})\\)."
   ]
  },
  {
   "cell_type": "markdown",
   "id": "d595e89d",
   "metadata": {},
   "source": [
    "Now we can write our Python code:"
   ]
  },
  {
   "cell_type": "code",
   "execution_count": null,
   "id": "4c293cee",
   "metadata": {},
   "outputs": [],
   "source": [
    "def compute_centroids_means(X, idx, K):\n",
    "    \"\"\"\n",
    "    Returns the new centroids by computing the means of the\n",
    "    data points assigned to each centroid.\n",
    "\n",
    "    Args:\n",
    "        X (ndarray):   (m, n) Data points\n",
    "        idx (ndarray): (m,) Array containing index of closest centroid for each\n",
    "                       example in X. Concretely, idx[i] contains the index of\n",
    "                       the centroid closest to example i\n",
    "        K (int):       number of centroids\n",
    "\n",
    "    Returns:\n",
    "        centroids (ndarray): (K, n) New centroids computed\n",
    "    \"\"\"\n",
    "\n",
    "    m, n = X.shape\n",
    "\n",
    "    centroids = np.zeros((K, n))\n",
    "\n",
    "    for k in range(K):\n",
    "      points = X[idx == k]\n",
    "      centroids[k] = np.mean(points, axis = 0)\n",
    "\n",
    "    return centroids"
   ]
  },
  {
   "cell_type": "code",
   "execution_count": null,
   "id": "4f24362f",
   "metadata": {},
   "outputs": [],
   "source": [
    "K = initial_centroids.shape[0]\n",
    "centroids = compute_centroids_means(X, idx, K)\n",
    "\n",
    "print(\"The centroids are:\", centroids)"
   ]
  },
  {
   "cell_type": "code",
   "execution_count": null,
   "id": "dccbbcc9",
   "metadata": {},
   "outputs": [],
   "source": [
    "The centroids are: [[5.12714286 2.59      ]\n",
    " [6.0573913  3.04913043]]"
   ]
  },
  {
   "cell_type": "markdown",
   "id": "161e5a5d",
   "metadata": {},
   "source": [
    "So, based on the results above, we succeeded in getting a new centroid by calculating the average of the data points determined for each centroid in the form [5.12714286, 2.59] and [6.0573913, 3.04913043]"
   ]
  },
  {
   "cell_type": "markdown",
   "id": "0a6875b7",
   "metadata": {},
   "source": [
    "# Data analysis using K-means"
   ]
  },
  {
   "cell_type": "markdown",
   "id": "c21811a1",
   "metadata": {},
   "source": [
    "Now we are ready to put all of them together (again) into a loop that will find the best centroids location. Which we’ll put into the kMeans function below. The kMeans_progress function is used to create the animation, so you can skip this in the real implementation of K-means."
   ]
  },
  {
   "cell_type": "markdown",
   "id": "3a5d371b",
   "metadata": {},
   "source": [
    "Now, let’s find out the clusters for the annual income and the annual spend. Where, this function will call the 2 functions that we created previously."
   ]
  },
  {
   "cell_type": "code",
   "execution_count": null,
   "id": "b18981d5",
   "metadata": {},
   "outputs": [],
   "source": [
    "import numpy as np\n",
    "import matplotlib.pyplot as plt\n",
    "from matplotlib.colors import ListedColormap\n",
    "import matplotlib.lines as mlines\n",
    "\n",
    "def kMeans_progress(X, centroids, previous_centroids, idx, K, i):\n",
    "    # Define colormap\n",
    "    cmap = ListedColormap([\"red\", \"blue\"])\n",
    "    c = cmap(idx)\n",
    "\n",
    "    # Draw a line from the previous centroid to the current centroid\n",
    "    for cent_idx in range(centroids.shape[0]):\n",
    "        plt.plot([previous_centroids[cent_idx, 0], centroids[cent_idx, 0]], [previous_centroids[cent_idx, 1], centroids[cent_idx, 1]], '-k', linewidth=1)\n",
    "\n",
    "    # Plot the examples\n",
    "    plt.scatter(X[:, 0], X[:, 1], facecolors='none', edgecolors=c, linewidth=0.1, alpha=0.7)\n",
    "\n",
    "    # Plot the centroids as black 'x's\n",
    "    plt.scatter(centroids[:, 0], centroids[:, 1], marker='x', c='k', linewidths=3)\n",
    "    plt.title(\"Iteration number %d\" % i)\n",
    "    \n",
    "    # Create a red circle for the Low Spenders legend entry\n",
    "    red_circle = mlines.Line2D([], [], color='red', marker='o', linestyle='None', markersize=10, label='Income-Sensitive')\n",
    "    \n",
    "    # Create a blue circle for the High Spenders legend entry\n",
    "    blue_circle = mlines.Line2D([], [], color='blue', marker='o', linestyle='None', markersize=10, label='Income-Insensitive')\n",
    "    \n",
    "    # Add legend\n",
    "    plt.legend(handles=[red_circle, blue_circle])\n",
    "\n",
    "def kMeans(X, initial_centroids, max_iters=5, plot_progress=False):\n",
    "    \"\"\"\n",
    "    Runs the K-Means algorithm on data matrix X, where each row of X\n",
    "    is a single example\n",
    "    \"\"\"\n",
    "\n",
    "    # Initialize values\n",
    "    m, n = X.shape\n",
    "    K = initial_centroids.shape[0]\n",
    "    centroids = initial_centroids\n",
    "    previous_centroids = centroids\n",
    "    idx = np.zeros(m)\n",
    "    plt.figure(figsize=(8, 6))\n",
    "\n",
    "    # Run K-Means\n",
    "    for i in range(max_iters):\n",
    "\n",
    "        #Output progress\n",
    "        print(\"K-Means iteration %d/%d\" % (i, max_iters-1))\n",
    "\n",
    "        # For each example in X, assign it to the closest centroid\n",
    "        idx = find_closest_centroids(X, centroids)\n",
    "\n",
    "        # Optionally plot progress\n",
    "        if plot_progress:\n",
    "            kMeans_progress(X, centroids, previous_centroids, idx, K, i)\n",
    "        \n",
    "            previous_centroids = centroids\n",
    "\n",
    "        # Given the memberships, compute new centroids\n",
    "        centroids = compute_centroids_means(X, idx, K)\n",
    "\n",
    "\n",
    "    # Set the y-axis label\n",
    "    plt.ylabel('Annual Spend in hundreds of dollars (x2)')\n",
    "    # Set the x-axis label\n",
    "    plt.xlabel('Annual Income in thousands of dollars (x1)')\n",
    "    plt.show()\n",
    "    return centroids, idx"
   ]
  },
  {
   "cell_type": "code",
   "execution_count": null,
   "id": "1e6d5649",
   "metadata": {},
   "outputs": [],
   "source": [
    "# Number of iterations\n",
    "max_iters = 10\n",
    "\n",
    "# Run K-Means\n",
    "centroids, idx = kMeans(X, initial_centroids, max_iters, plot_progress=True)"
   ]
  },
  {
   "cell_type": "code",
   "execution_count": null,
   "id": "83a3ca17",
   "metadata": {},
   "outputs": [],
   "source": [
    "K-Means iteration 0/9\n",
    "K-Means iteration 1/9\n",
    "K-Means iteration 2/9\n",
    "K-Means iteration 3/9\n",
    "K-Means iteration 4/9\n",
    "K-Means iteration 5/9\n",
    "K-Means iteration 6/9\n",
    "K-Means iteration 7/9\n",
    "K-Means iteration 8/9\n",
    "K-Means iteration 9/9"
   ]
  },
  {
   "cell_type": "markdown",
   "id": "a41e6928",
   "metadata": {},
   "source": []
  },
  {
   "cell_type": "markdown",
   "id": "a158ba86",
   "metadata": {},
   "source": [
    "From the K-means analysis and visualization above, we can draw the following conclusions:"
   ]
  },
  {
   "cell_type": "markdown",
   "id": "dd01f077",
   "metadata": {},
   "source": [
    "Income-Sensitive Customers (red cluster): This group includes consumers with low to medium annual income. They tend to spend a large portion of their income on shopping, meaning their spending habits are heavily influenced by how much income they have. If their income rises, they will spend more, and if their income falls, they will spend less. Retailers can design sales strategies or special offers that suit this group, such as providing discounts or other economical offers."
   ]
  },
  {
   "cell_type": "markdown",
   "id": "1879770a",
   "metadata": {},
   "source": [
    "Income-Insensitive Customers (blue cluster): This group includes consumers with medium to high annual incomes. In contrast to the previous group, consumers in this group tend to have fixed or consistent shopping patterns, no matter what their income. So, they may have a fixed annual spending budget. Even when their income rises, they may not increase their spending budget, and vice versa. For retailers, these consumers may be more interested in the value and quality of goods than price. They can target this group with premium or exclusive products."
   ]
  },
  {
   "cell_type": "markdown",
   "id": "0c9a0f60",
   "metadata": {},
   "source": [
    "# Inference"
   ]
  },
  {
   "cell_type": "markdown",
   "id": "b972bf77",
   "metadata": {},
   "source": [
    "What if we have new data ? This depends on the use case, we can integrate the new data into the training set and re-train the model or we can simply find out if the data belongs to any of the clusters, also called inference process. The re-train is quite straight forward, we just append the data to our old dataset and run the training process."
   ]
  },
  {
   "cell_type": "markdown",
   "id": "a2523e64",
   "metadata": {},
   "source": [
    "How about the inference process where we want to know which cluster the new data belongs to?"
   ]
  },
  {
   "cell_type": "markdown",
   "id": "3f532f30",
   "metadata": {},
   "source": [
    "Let’s say our data as [6.5, 3.1] which should falls somewhere inside the Income-Insensitive (blue on the chart above), with the cluster index of 1. Visually we can see it using this chart:"
   ]
  },
  {
   "cell_type": "code",
   "execution_count": null,
   "id": "873eb411",
   "metadata": {},
   "outputs": [],
   "source": [
    "# Here's our new data\n",
    "new_data = np.array([[6.5, 3.1]])\n",
    "\n",
    "# Define colormap\n",
    "cmap = ListedColormap([\"red\", \"blue\"])\n",
    "c = cmap(idx)\n",
    "\n",
    "# Plot the examples\n",
    "plt.scatter(X[:, 0], X[:, 1], facecolors='none', edgecolors=c, linewidth=0.1, alpha=0.7)\n",
    "\n",
    "# Plot the new data point in black\n",
    "plt.scatter(new_data[0, 0], new_data[0, 1], color='black')\n",
    "\n",
    "# Plot the centroids as large dots, colored according to the data points\n",
    "for i, centroid in enumerate(centroids):\n",
    "    color = cmap(i)\n",
    "    plt.scatter(centroid[0], centroid[1], marker='o', color=color, linewidths=5)\n",
    "\n",
    "# Set the axis labels and title\n",
    "plt.ylabel('Annual Spend in hundreds of dollars (x2)')\n",
    "plt.xlabel('Annual Income in thousands of dollars (x1)')\n",
    "plt.title('K-Means Clustering (final centroids and new data point)')\n",
    "\n",
    "# Create a red circle for the Low Spenders legend entry\n",
    "red_circle = mlines.Line2D([], [], color='red', marker='o', linestyle='None', markersize=10, label='Income-Sensitive')\n",
    "\n",
    "# Create a blue circle for the High Spenders legend entry\n",
    "blue_circle = mlines.Line2D([], [], color='blue', marker='o', linestyle='None', markersize=10, label='Income-Insensitive')\n",
    "\n",
    "# Create a black circle for the new data point legend entry\n",
    "black_circle = mlines.Line2D([], [], color='black', marker='o', linestyle='None', markersize=10, label='New Data Point')\n",
    "\n",
    "# Add legend\n",
    "plt.legend(handles=[red_circle, blue_circle, black_circle])\n",
    "\n",
    "plt.show()"
   ]
  },
  {
   "cell_type": "markdown",
   "id": "be8f3d50",
   "metadata": {},
   "source": []
  },
  {
   "cell_type": "markdown",
   "id": "2f777429",
   "metadata": {},
   "source": [
    "How does the model knows it belongs to cluster index 1 (blue) and not cluster index 0 (red) ? Well, if we recall, the data points are grouped according to the distance to the closest centroids, so we can do the same here. We already have a function for that, find_closest_centroids(), so let’s use that."
   ]
  },
  {
   "cell_type": "markdown",
   "id": "bd2c5dc5",
   "metadata": {},
   "source": [
    "Note: To make sure we have the right index, you can go up to the section Initializing Cluster Centroid and check where the index there."
   ]
  },
  {
   "cell_type": "code",
   "execution_count": null,
   "id": "c6d4182b",
   "metadata": {},
   "outputs": [],
   "source": [
    "# Use the final centroids to find the closest centroid for the new data point\n",
    "idx_new = find_closest_centroids(new_data, centroids)\n",
    "\n",
    "print(f\"The new data point belongs to cluster: {idx_new[0]}\")"
   ]
  },
  {
   "cell_type": "code",
   "execution_count": null,
   "id": "e1ee8615",
   "metadata": {},
   "outputs": [],
   "source": [
    "The new data point belongs to cluster: 1"
   ]
  },
  {
   "cell_type": "markdown",
   "id": "25096e03",
   "metadata": {},
   "source": [
    "# Other types of Clustering"
   ]
  },
  {
   "cell_type": "markdown",
   "id": "ac5f64f4",
   "metadata": {},
   "source": [
    "There are other types of clustering algorithms:"
   ]
  },
  {
   "cell_type": "markdown",
   "id": "c41a12c5",
   "metadata": {},
   "source": []
  },
  {
   "cell_type": "markdown",
   "id": "838924f5",
   "metadata": {},
   "source": [
    "Source: Miro - Medium"
   ]
  },
  {
   "cell_type": "markdown",
   "id": "3453feab",
   "metadata": {},
   "source": []
  },
  {
   "cell_type": "markdown",
   "id": "9288b90a",
   "metadata": {},
   "source": [
    "Source: https://github.com/chriswernst/dbscan-python/blob/master/README.md"
   ]
  },
  {
   "cell_type": "markdown",
   "id": "55af4cbb",
   "metadata": {},
   "source": [
    "If you want to learn more, here’s a good resource: Clustering with DBSCAN, Clearly Explained"
   ]
  }
 ],
 "metadata": {},
 "nbformat": 4,
 "nbformat_minor": 5
}
