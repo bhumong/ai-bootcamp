{
 "cells": [
  {
   "cell_type": "markdown",
   "id": "73e25b60",
   "metadata": {},
   "source": [
    "# Scalar"
   ]
  },
  {
   "cell_type": "markdown",
   "id": "f5df8c19",
   "metadata": {},
   "source": [
    "Scalar is a single number."
   ]
  },
  {
   "cell_type": "markdown",
   "id": "99715408",
   "metadata": {},
   "source": [
    "Example: x = 6"
   ]
  },
  {
   "cell_type": "markdown",
   "id": "f7411230",
   "metadata": {},
   "source": [
    "# Vector"
   ]
  },
  {
   "cell_type": "markdown",
   "id": "3d67a0a8",
   "metadata": {},
   "source": [
    "Vector is a one-dimensional array of numbers."
   ]
  },
  {
   "cell_type": "markdown",
   "id": "0fbaa8e1",
   "metadata": {},
   "source": [
    "Example: x = [1, 2] or usually written as"
   ]
  },
  {
   "cell_type": "markdown",
   "id": "9a65a049",
   "metadata": {},
   "source": [
    "\\[\n",
    "\\begin{bmatrix}\n",
    "1 \\\\\n",
    "2\n",
    "\\end{bmatrix}\n",
    "\\]"
   ]
  },
  {
   "cell_type": "markdown",
   "id": "85927223",
   "metadata": {},
   "source": [
    "# Multiplication of Scalar and Vector"
   ]
  },
  {
   "cell_type": "markdown",
   "id": "56c71e23",
   "metadata": {},
   "source": [
    "Vector can be multiplied by a scalar. For example, if we multiply the vector above by 2, written as"
   ]
  },
  {
   "cell_type": "markdown",
   "id": "5b055bdd",
   "metadata": {},
   "source": [
    "\\[\n",
    "2 \\begin{bmatrix}\n",
    "1 \\\\\n",
    "2 \\\\\n",
    "3\n",
    "\\end{bmatrix}\n",
    "\\]"
   ]
  },
  {
   "cell_type": "markdown",
   "id": "acedbb38",
   "metadata": {},
   "source": [
    "then the result is"
   ]
  },
  {
   "cell_type": "markdown",
   "id": "779fdb65",
   "metadata": {},
   "source": [
    "\\[\n",
    "\\begin{bmatrix}\n",
    "2 \\\\\n",
    "4 \\\\\n",
    "6\n",
    "\\end{bmatrix}\n",
    "\\]"
   ]
  },
  {
   "cell_type": "markdown",
   "id": "c66c975e",
   "metadata": {},
   "source": [
    "# Addition of Scalar and Vector"
   ]
  },
  {
   "cell_type": "markdown",
   "id": "88fd647a",
   "metadata": {},
   "source": [
    "This operation is not defined. Scalar can’t be added to vector."
   ]
  },
  {
   "cell_type": "markdown",
   "id": "1c11f5e4",
   "metadata": {},
   "source": [
    "# Addition of Vectors"
   ]
  },
  {
   "cell_type": "markdown",
   "id": "991179e2",
   "metadata": {},
   "source": [
    "Vectors can be added together"
   ]
  },
  {
   "cell_type": "markdown",
   "id": "e4b0ba28",
   "metadata": {},
   "source": [
    "\\[\n",
    "\\begin{bmatrix}\n",
    "1 \\\\\n",
    "2 \\\\\n",
    "3\n",
    "\\end{bmatrix} +\n",
    "\\begin{bmatrix}\n",
    "4 \\\\\n",
    "5 \\\\\n",
    "6\n",
    "\\end{bmatrix} =\n",
    "\\begin{bmatrix}\n",
    "5 \\\\\n",
    "7 \\\\\n",
    "9\n",
    "\\end{bmatrix}\n",
    "\\]"
   ]
  },
  {
   "cell_type": "markdown",
   "id": "bdf0ef25",
   "metadata": {},
   "source": [
    "When the dimension of the vectors are different, the addition is not defined. The following is NOT allowed"
   ]
  },
  {
   "cell_type": "markdown",
   "id": "439b21d8",
   "metadata": {},
   "source": [
    "\\[\n",
    "\\begin{bmatrix}\n",
    "1 \\\\\n",
    "2 \\\\\n",
    "3\n",
    "\\end{bmatrix} +\n",
    "\\begin{bmatrix}\n",
    "4 \\\\\n",
    "5 \\\\\n",
    "\\end{bmatrix}\n",
    "\\]"
   ]
  },
  {
   "cell_type": "markdown",
   "id": "037bde0c",
   "metadata": {},
   "source": [
    "# Vector dot product"
   ]
  },
  {
   "cell_type": "markdown",
   "id": "97afa12b",
   "metadata": {},
   "source": [
    "Vector dot product is a way to multiply vectors together. The result is a scalar."
   ]
  },
  {
   "cell_type": "markdown",
   "id": "ecbd5e13",
   "metadata": {},
   "source": [
    "\\[\n",
    "\\begin{bmatrix}\n",
    "1 \\\\\n",
    "2 \\\\\n",
    "3\n",
    "\\end{bmatrix} \\cdot\n",
    "\\begin{bmatrix}\n",
    "4 \\\\\n",
    "5 \\\\\n",
    "6\n",
    "\\end{bmatrix} =\n",
    "1 \\times 4 + 2 \\times 5 + 3 \\times 6 = 32\n",
    "\\]"
   ]
  },
  {
   "cell_type": "markdown",
   "id": "bae16790",
   "metadata": {},
   "source": [
    "Not:"
   ]
  },
  {
   "cell_type": "markdown",
   "id": "9e6117c1",
   "metadata": {},
   "source": [
    "\\[\n",
    "\\begin{bmatrix}\n",
    "1 \\\\\n",
    "2 \\\\\n",
    "3\n",
    "\\end{bmatrix} \\cdot\n",
    "\\begin{bmatrix}\n",
    "4 \\\\\n",
    "5 \\\\\n",
    "6\n",
    "\\end{bmatrix}\n",
    "=\n",
    "\\begin{bmatrix}\n",
    "1 * 4 \\\\\n",
    "2 * 5 \\\\\n",
    "3 * 6\n",
    "\\end{bmatrix}\n",
    "\\]"
   ]
  },
  {
   "cell_type": "markdown",
   "id": "ae56ed67",
   "metadata": {},
   "source": [
    "# Matrix"
   ]
  },
  {
   "cell_type": "markdown",
   "id": "3062e094",
   "metadata": {},
   "source": [
    "Matrix is a two-dimensional array of numbers. Matrix is usually written as"
   ]
  },
  {
   "cell_type": "markdown",
   "id": "1d04c6f1",
   "metadata": {},
   "source": [
    "\\[\n",
    "\\begin{bmatrix}\n",
    "1 & 2 & 3 \\\\\n",
    "4 & 5 & 6\n",
    "\\end{bmatrix}\n",
    "\\]"
   ]
  },
  {
   "cell_type": "markdown",
   "id": "7725e8e5",
   "metadata": {},
   "source": [
    "# Matrix dimension"
   ]
  },
  {
   "cell_type": "markdown",
   "id": "273b9985",
   "metadata": {},
   "source": [
    "The dimension of a matrix is the number of rows x columns. The above matrix has dimension of 2 x 3."
   ]
  },
  {
   "cell_type": "markdown",
   "id": "eac469f2",
   "metadata": {},
   "source": [
    "# Relation to Vector"
   ]
  },
  {
   "cell_type": "markdown",
   "id": "053ade3a",
   "metadata": {},
   "source": [
    "A vector is a matrix with only one column. The following vector is a matrix with dimension of 3 x 1"
   ]
  },
  {
   "cell_type": "markdown",
   "id": "caac9d88",
   "metadata": {},
   "source": [
    "\\[\n",
    "\\begin{bmatrix}\n",
    "1 \\\\\n",
    "2 \\\\\n",
    "3\n",
    "\\end{bmatrix}\n",
    "\\]"
   ]
  },
  {
   "cell_type": "markdown",
   "id": "28671d30",
   "metadata": {},
   "source": [
    "# Matrix addition"
   ]
  },
  {
   "cell_type": "markdown",
   "id": "9208b7db",
   "metadata": {},
   "source": [
    "Matrix can be added together if they have the same dimension. For example, the following is allowed"
   ]
  },
  {
   "cell_type": "markdown",
   "id": "2d15028b",
   "metadata": {},
   "source": [
    "\\[\n",
    "\\begin{bmatrix}\n",
    "1 & 2 & 3 \\\\\n",
    "4 & 5 & 6\n",
    "\\end{bmatrix} +\n",
    "\\begin{bmatrix}\n",
    "7 & 8 & 9 \\\\\n",
    "10 & 11 & 12\n",
    "\\end{bmatrix} =\n",
    "\\begin{bmatrix}\n",
    "8 & 10 & 12 \\\\\n",
    "14 & 16 & 18\n",
    "\\end{bmatrix}\n",
    "\\]"
   ]
  },
  {
   "cell_type": "markdown",
   "id": "f2883f82",
   "metadata": {},
   "source": [
    "# Matrix dot product"
   ]
  },
  {
   "cell_type": "markdown",
   "id": "44068396",
   "metadata": {},
   "source": [
    "Matrix dot product is defined as follows"
   ]
  },
  {
   "cell_type": "markdown",
   "id": "468e39a0",
   "metadata": {},
   "source": [
    "\\[\n",
    "\\begin{bmatrix}\n",
    "x_{00} & x_{01} \\\\\n",
    "x_{10} & x_{11}\n",
    "\\end{bmatrix} \\cdot\n",
    "\\begin{bmatrix}\n",
    "y_{00} \\\\\n",
    "y_{10}\n",
    "\\end{bmatrix} =\n",
    "\\begin{bmatrix}\n",
    "x_{00} y_{00} + x_{01} y_{10} \\\\\n",
    "x_{10} y_{00} + x_{11} y_{10}\n",
    "\\end{bmatrix}\n",
    "\\]"
   ]
  },
  {
   "cell_type": "markdown",
   "id": "57bb0939",
   "metadata": {},
   "source": [
    "For example:"
   ]
  },
  {
   "cell_type": "markdown",
   "id": "40b2b6da",
   "metadata": {},
   "source": [
    "\\[\n",
    "\\begin{bmatrix}\n",
    "1 & 2 \\\\\n",
    "3 & 4\n",
    "\\end{bmatrix} \\cdot\n",
    "\\begin{bmatrix}\n",
    "5 \\\\\n",
    "6\n",
    "\\end{bmatrix} =\n",
    "\\begin{bmatrix}\n",
    "1 \\times 5 + 2 \\times 6 \\\\\n",
    "3 \\times 5 + 4 \\times 6\n",
    "\\end{bmatrix} =\n",
    "\\begin{bmatrix}\n",
    "17 \\\\\n",
    "39\n",
    "\\end{bmatrix}\n",
    "\\]"
   ]
  },
  {
   "cell_type": "markdown",
   "id": "e63d269e",
   "metadata": {},
   "source": [
    "If X dimension is m x n and Y dimension is n x p, then the result of X dot Y is m x p."
   ]
  },
  {
   "cell_type": "markdown",
   "id": "7349b421",
   "metadata": {},
   "source": [
    "So, m x n dot o x p is not defined if n is not equal to o. Example"
   ]
  },
  {
   "cell_type": "markdown",
   "id": "a3decec2",
   "metadata": {},
   "source": [
    "\\[\n",
    "\\begin{bmatrix}\n",
    "1 & 2 \\\\\n",
    "3 & 4\n",
    "\\end{bmatrix} \\cdot\n",
    "\\begin{bmatrix}\n",
    "5 & 6 \\\\\n",
    "7 & 8 \\\\\n",
    "9 & 10\n",
    "\\end{bmatrix} = undefined\n",
    "\\]"
   ]
  },
  {
   "cell_type": "markdown",
   "id": "3c9da4f4",
   "metadata": {},
   "source": [
    "The order of the dot product is important."
   ]
  },
  {
   "cell_type": "markdown",
   "id": "9d535802",
   "metadata": {},
   "source": [
    "\\[\n",
    "A \\cdot B \\neq B \\cdot A\n",
    "\\]"
   ]
  },
  {
   "cell_type": "markdown",
   "id": "85e6f83c",
   "metadata": {},
   "source": [
    "For example, if we flip the order of the above dot product, we get"
   ]
  },
  {
   "cell_type": "markdown",
   "id": "9040a2fc",
   "metadata": {},
   "source": [
    "\\[\n",
    "\\begin{bmatrix}\n",
    "5 \\\\\n",
    "6\n",
    "\\end{bmatrix} \\cdot\n",
    "\\begin{bmatrix}\n",
    "1 & 2 \\\\\n",
    "3 & 4\n",
    "\\end{bmatrix} = undefined\n",
    "\\]"
   ]
  },
  {
   "cell_type": "markdown",
   "id": "83596e70",
   "metadata": {},
   "source": [
    "Matrix dot product is associative:"
   ]
  },
  {
   "cell_type": "markdown",
   "id": "92e66d63",
   "metadata": {},
   "source": [
    "\\[\n",
    "A \\cdot (B \\cdot C) = (A \\cdot B) \\cdot C\n",
    "\\]"
   ]
  },
  {
   "cell_type": "markdown",
   "id": "c055b59a",
   "metadata": {},
   "source": [
    "# Matrix Transpose"
   ]
  },
  {
   "cell_type": "markdown",
   "id": "32c048c7",
   "metadata": {},
   "source": [
    "Matrix transpose is a matrix that is flipped over its diagonal. For example, the transpose of the following matrix is"
   ]
  },
  {
   "cell_type": "markdown",
   "id": "2a8f8325",
   "metadata": {},
   "source": [
    "\\[\n",
    "\\begin{bmatrix}\n",
    "1 & 2 \\\\\n",
    "3 & 4\n",
    "\\end{bmatrix}^T =\n",
    "\\begin{bmatrix}\n",
    "1 & 3 \\\\\n",
    "2 & 4\n",
    "\\end{bmatrix}\n",
    "\\]"
   ]
  },
  {
   "cell_type": "markdown",
   "id": "0459e9cc",
   "metadata": {},
   "source": [
    "\\[\n",
    "\\begin{bmatrix}\n",
    "1 \\\\\n",
    "2 \\\\\n",
    "3\n",
    "\\end{bmatrix}^T =\n",
    "\\begin{bmatrix}\n",
    "1 & 2 & 3\n",
    "\\end{bmatrix}\n",
    "\\]"
   ]
  },
  {
   "cell_type": "markdown",
   "id": "e6caf94b",
   "metadata": {},
   "source": [
    "# Identity Matrix"
   ]
  },
  {
   "cell_type": "markdown",
   "id": "3863cc7e",
   "metadata": {},
   "source": [
    "Identity matrix is a matrix that doesn’t change any vector when multiplied by that vector"
   ]
  },
  {
   "cell_type": "markdown",
   "id": "5beff987",
   "metadata": {},
   "source": [
    "\\[\n",
    "I \\cdot \\begin{bmatrix}\n",
    "x_0 \\\\\n",
    "x_1 \\\\\n",
    "x_2\n",
    "\\end{bmatrix} =\n",
    "\\begin{bmatrix}\n",
    "x_0 \\\\\n",
    "x_1 \\\\\n",
    "x_2\n",
    "\\end{bmatrix}\n",
    "\\]"
   ]
  },
  {
   "cell_type": "markdown",
   "id": "1cc70aaf",
   "metadata": {},
   "source": [
    "Example of 2 x 2 identity matrix"
   ]
  },
  {
   "cell_type": "markdown",
   "id": "10e84866",
   "metadata": {},
   "source": [
    "\\[\n",
    "\\begin{bmatrix}\n",
    "1 & 0 \\\\\n",
    "0 & 1\n",
    "\\end{bmatrix}\n",
    "\\]"
   ]
  },
  {
   "cell_type": "markdown",
   "id": "2a7d51f9",
   "metadata": {},
   "source": [
    "Example of 3 x 3 identity matrix"
   ]
  },
  {
   "cell_type": "markdown",
   "id": "f36ef7f1",
   "metadata": {},
   "source": [
    "\\[\n",
    "\\begin{bmatrix}\n",
    "1 & 0 & 0 \\\\\n",
    "0 & 1 & 0 \\\\\n",
    "0 & 0 & 1\n",
    "\\end{bmatrix}\n",
    "\\]"
   ]
  },
  {
   "cell_type": "markdown",
   "id": "b9a39420",
   "metadata": {},
   "source": [
    "# Inverse Matrix"
   ]
  },
  {
   "cell_type": "markdown",
   "id": "a1e8559a",
   "metadata": {},
   "source": [
    "Inverse matrix is a matrix that when multiplied by the original matrix, results in an identity matrix:"
   ]
  },
  {
   "cell_type": "markdown",
   "id": "f9ee79eb",
   "metadata": {},
   "source": [
    "\\[\n",
    "A \\cdot A^{-1} = I\n",
    "\\]"
   ]
  },
  {
   "cell_type": "markdown",
   "id": "dcaa3763",
   "metadata": {},
   "source": [
    "# Linear Equation"
   ]
  },
  {
   "cell_type": "markdown",
   "id": "1c139c5f",
   "metadata": {},
   "source": [
    "\\[\n",
    "2x + 1y = 5\n",
    "\\]"
   ]
  },
  {
   "cell_type": "markdown",
   "id": "5c8cf588",
   "metadata": {},
   "source": [
    "\\[\n",
    "3x + 4y = 10\n",
    "\\]"
   ]
  },
  {
   "cell_type": "markdown",
   "id": "7cc3795c",
   "metadata": {},
   "source": [
    "It can modeled as a matrix equation"
   ]
  },
  {
   "cell_type": "markdown",
   "id": "d5f7e9ea",
   "metadata": {},
   "source": [
    "\\[\n",
    "\\begin{bmatrix}\n",
    "2 & 1 \\\\\n",
    "3 & 4\n",
    "\\end{bmatrix} \\cdot\n",
    "\\begin{bmatrix}\n",
    "x \\\\\n",
    "y\n",
    "\\end{bmatrix} =\n",
    "\\begin{bmatrix}\n",
    "5 \\\\\n",
    "10\n",
    "\\end{bmatrix}\n",
    "\\]"
   ]
  },
  {
   "cell_type": "markdown",
   "id": "c0828ccb",
   "metadata": {},
   "source": [
    "Let’s multiple both side with the inverse of the matrix"
   ]
  },
  {
   "cell_type": "markdown",
   "id": "6998e2ed",
   "metadata": {},
   "source": [
    "\\[\n",
    "\\begin{bmatrix}\n",
    "2 & 1 \\\\\n",
    "3 & 4\n",
    "\\end{bmatrix}^{-1} \\cdot\n",
    "\\begin{bmatrix}\n",
    "2 & 1 \\\\\n",
    "3 & 4\n",
    "\\end{bmatrix} \\cdot\n",
    "\\begin{bmatrix}\n",
    "x \\\\\n",
    "y\n",
    "\\end{bmatrix} =\n",
    "\\begin{bmatrix}\n",
    "2 & 1 \\\\\n",
    "3 & 4\n",
    "\\end{bmatrix}^{-1} \\cdot\n",
    "\\begin{bmatrix}\n",
    "5 \\\\\n",
    "10\n",
    "\\end{bmatrix}\n",
    "\\]"
   ]
  },
  {
   "cell_type": "markdown",
   "id": "773e3462",
   "metadata": {},
   "source": [
    "\\[\n",
    "I \\cdot \\begin{bmatrix}\n",
    "x \\\\\n",
    "y\n",
    "\\end{bmatrix} =\n",
    "\\begin{bmatrix}\n",
    "2 & 1 \\\\\n",
    "3 & 4\n",
    "\\end{bmatrix}^{-1} \\cdot\n",
    "\\begin{bmatrix}\n",
    "5 \\\\\n",
    "10\n",
    "\\end{bmatrix}\n",
    "\\]"
   ]
  },
  {
   "cell_type": "code",
   "execution_count": null,
   "id": "993f3c0a",
   "metadata": {},
   "outputs": [],
   "source": [
    "# Find the inverse of a matrix [[2, 1], [3, 4]]\n",
    "\n",
    "import numpy as np\n",
    "\n",
    "A = np.array([[2, 1], [3, 4]])\n",
    "A_inv = np.linalg.inv(A)\n",
    "print(A_inv)"
   ]
  },
  {
   "cell_type": "code",
   "execution_count": null,
   "id": "9de97798",
   "metadata": {},
   "outputs": [],
   "source": [
    "[[ 0.8 -0.2]\n",
    " [-0.6  0.4]]"
   ]
  },
  {
   "cell_type": "markdown",
   "id": "b141f06c",
   "metadata": {},
   "source": [
    "\\[\n",
    "I \\cdot \\begin{bmatrix}\n",
    "x \\\\\n",
    "y\n",
    "\\end{bmatrix} =\n",
    "\\begin{bmatrix}\n",
    "0.8 & -0.2 \\\\\n",
    "-0.6 & 0.4\n",
    "\\end{bmatrix} \\cdot\n",
    "\\begin{bmatrix}\n",
    "5 \\\\\n",
    "10\n",
    "\\end{bmatrix}\n",
    "\\]"
   ]
  },
  {
   "cell_type": "markdown",
   "id": "14705deb",
   "metadata": {},
   "source": [
    "\\[\n",
    "\\begin{bmatrix}\n",
    "x \\\\\n",
    "y\n",
    "\\end{bmatrix} =\n",
    "\\begin{bmatrix}\n",
    "2 \\\\\n",
    "1\n",
    "\\end{bmatrix}\n",
    "\\]"
   ]
  },
  {
   "cell_type": "markdown",
   "id": "7d899002",
   "metadata": {},
   "source": [
    "# Features can be represented as vectors and matrices"
   ]
  },
  {
   "cell_type": "markdown",
   "id": "d7bfa9df",
   "metadata": {},
   "source": [
    "In machine learning, we can represent features as vectors. For example, if we have a dataset of 100 people, and each person has 3 features: age, height, and weight, then we can represent each person as a vector of 3 elements."
   ]
  },
  {
   "cell_type": "markdown",
   "id": "56e1262c",
   "metadata": {},
   "source": [
    "\\[\n",
    "person = \\begin{bmatrix}\n",
    "age \\\\\n",
    "height \\\\\n",
    "weight\n",
    "\\end{bmatrix}\n",
    "\\]"
   ]
  },
  {
   "cell_type": "markdown",
   "id": "c754e3d2",
   "metadata": {},
   "source": [
    "and we can represent the whole dataset as a matrix of 100 rows and 3 columns."
   ]
  },
  {
   "cell_type": "markdown",
   "id": "955a4bc5",
   "metadata": {},
   "source": [
    "\\[\n",
    "people = \\begin{bmatrix}\n",
    "person_{1}^{T} \\\\\n",
    "person_{2}^{T} \\\\\n",
    "\\vdots \\\\\n",
    "person_{100}^{T}\n",
    "\\end{bmatrix}\n",
    "= \\begin{bmatrix}\n",
    "age_{1} & height_{1} & weight_{1} \\\\\n",
    "age_{2} & height_{2} & weight_{2} \\\\\n",
    "\\vdots & \\vdots & \\vdots \\\\\n",
    "age_{100} & height_{100} & weight_{100}\n",
    "\\end{bmatrix}\n",
    "\\]"
   ]
  },
  {
   "cell_type": "markdown",
   "id": "99ea594b",
   "metadata": {},
   "source": [
    "# Sigma Notation"
   ]
  },
  {
   "cell_type": "markdown",
   "id": "f731fd10",
   "metadata": {},
   "source": [
    "Sigma notation is a way to write a sum of many terms. For example, the following is a sum of 5 terms"
   ]
  },
  {
   "cell_type": "markdown",
   "id": "bede0009",
   "metadata": {},
   "source": [
    "\\[\n",
    "\\sum_{i=1}^{5} x_{i} = x_{1} + x_{2} + x_{3} + x_{4} + x_{5}\n",
    "\\]"
   ]
  },
  {
   "cell_type": "markdown",
   "id": "91b645b1",
   "metadata": {},
   "source": [
    "In a code it’s just a for loop"
   ]
  },
  {
   "cell_type": "code",
   "execution_count": null,
   "id": "411bfeca",
   "metadata": {},
   "outputs": [],
   "source": [
    "sum = 0\n",
    "for i in range(1, 6):\n",
    "    sum += x[i]"
   ]
  },
  {
   "cell_type": "markdown",
   "id": "e87ad460",
   "metadata": {},
   "source": [
    "# Product Notation"
   ]
  },
  {
   "cell_type": "markdown",
   "id": "83460c4d",
   "metadata": {},
   "source": [
    "Product notation is a way to write a product of many terms. For example, the following is a product of 5 terms"
   ]
  },
  {
   "cell_type": "markdown",
   "id": "97dfb65b",
   "metadata": {},
   "source": [
    "\\[\n",
    "\\prod_{i=1}^{5} x_{i} = x_{1} \\times x_{2} \\times x_{3} \\times x_{4} \\times x_{5}\n",
    "\\]"
   ]
  },
  {
   "cell_type": "markdown",
   "id": "725859fe",
   "metadata": {},
   "source": [
    "In a code it’s just a for loop"
   ]
  },
  {
   "cell_type": "code",
   "execution_count": null,
   "id": "de15dd90",
   "metadata": {},
   "outputs": [],
   "source": [
    "product = 1\n",
    "for i in range(1, 6):\n",
    "    product *= x[i]"
   ]
  }
 ],
 "metadata": {},
 "nbformat": 4,
 "nbformat_minor": 5
}
