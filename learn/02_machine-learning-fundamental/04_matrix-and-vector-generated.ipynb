{
 "cells": [
  {
   "cell_type": "markdown",
   "id": "31552ae2",
   "metadata": {},
   "source": [
    "source: [link](https://ai-bootcamp.ruangguru.com/learn/02_machine-learning-fundamental/04_matrix-and-vector.html)"
   ]
  },
  {
   "cell_type": "markdown",
   "id": "c17be7e2",
   "metadata": {},
   "source": [
    "# Scalar"
   ]
  },
  {
   "cell_type": "markdown",
   "id": "724addc8",
   "metadata": {},
   "source": [
    "Scalar is a single number."
   ]
  },
  {
   "cell_type": "markdown",
   "id": "343aa23b",
   "metadata": {},
   "source": [
    "Example: x = 6"
   ]
  },
  {
   "cell_type": "markdown",
   "id": "903be24f",
   "metadata": {},
   "source": [
    "# Vector"
   ]
  },
  {
   "cell_type": "markdown",
   "id": "ab0b5cd1",
   "metadata": {},
   "source": [
    "Vector is a one-dimensional array of numbers."
   ]
  },
  {
   "cell_type": "markdown",
   "id": "3f43e32c",
   "metadata": {},
   "source": [
    "Example: x = [1, 2] or usually written as"
   ]
  },
  {
   "cell_type": "markdown",
   "id": "6d45273e",
   "metadata": {},
   "source": [
    "\\[\n",
    "\\begin{bmatrix}\n",
    "1 \\\\\n",
    "2\n",
    "\\end{bmatrix}\n",
    "\\]"
   ]
  },
  {
   "cell_type": "markdown",
   "id": "0ef5c575",
   "metadata": {},
   "source": [
    "# Multiplication of Scalar and Vector"
   ]
  },
  {
   "cell_type": "markdown",
   "id": "01d6ee95",
   "metadata": {},
   "source": [
    "Vector can be multiplied by a scalar. For example, if we multiply the vector above by 2, written as"
   ]
  },
  {
   "cell_type": "markdown",
   "id": "419db228",
   "metadata": {},
   "source": [
    "\\[\n",
    "2 \\begin{bmatrix}\n",
    "1 \\\\\n",
    "2 \\\\\n",
    "3\n",
    "\\end{bmatrix}\n",
    "\\]"
   ]
  },
  {
   "cell_type": "markdown",
   "id": "7cd7e129",
   "metadata": {},
   "source": [
    "then the result is"
   ]
  },
  {
   "cell_type": "markdown",
   "id": "68844ece",
   "metadata": {},
   "source": [
    "\\[\n",
    "\\begin{bmatrix}\n",
    "2 \\\\\n",
    "4 \\\\\n",
    "6\n",
    "\\end{bmatrix}\n",
    "\\]"
   ]
  },
  {
   "cell_type": "markdown",
   "id": "994c709f",
   "metadata": {},
   "source": [
    "# Addition of Scalar and Vector"
   ]
  },
  {
   "cell_type": "markdown",
   "id": "8d4ca46f",
   "metadata": {},
   "source": [
    "This operation is not defined. Scalar can’t be added to vector."
   ]
  },
  {
   "cell_type": "markdown",
   "id": "dd24cc57",
   "metadata": {},
   "source": [
    "# Addition of Vectors"
   ]
  },
  {
   "cell_type": "markdown",
   "id": "3755d23f",
   "metadata": {},
   "source": [
    "Vectors can be added together"
   ]
  },
  {
   "cell_type": "markdown",
   "id": "ece81b40",
   "metadata": {},
   "source": [
    "\\[\n",
    "\\begin{bmatrix}\n",
    "1 \\\\\n",
    "2 \\\\\n",
    "3\n",
    "\\end{bmatrix} +\n",
    "\\begin{bmatrix}\n",
    "4 \\\\\n",
    "5 \\\\\n",
    "6\n",
    "\\end{bmatrix} =\n",
    "\\begin{bmatrix}\n",
    "5 \\\\\n",
    "7 \\\\\n",
    "9\n",
    "\\end{bmatrix}\n",
    "\\]"
   ]
  },
  {
   "cell_type": "markdown",
   "id": "5fc964d2",
   "metadata": {},
   "source": [
    "When the dimension of the vectors are different, the addition is not defined. The following is NOT allowed"
   ]
  },
  {
   "cell_type": "markdown",
   "id": "be008f33",
   "metadata": {},
   "source": [
    "\\[\n",
    "\\begin{bmatrix}\n",
    "1 \\\\\n",
    "2 \\\\\n",
    "3\n",
    "\\end{bmatrix} +\n",
    "\\begin{bmatrix}\n",
    "4 \\\\\n",
    "5 \\\\\n",
    "\\end{bmatrix}\n",
    "\\]"
   ]
  },
  {
   "cell_type": "markdown",
   "id": "3bf8fef9",
   "metadata": {},
   "source": [
    "# Vector dot product"
   ]
  },
  {
   "cell_type": "markdown",
   "id": "24ce8d9f",
   "metadata": {},
   "source": [
    "Vector dot product is a way to multiply vectors together. The result is a scalar."
   ]
  },
  {
   "cell_type": "markdown",
   "id": "1e62eec3",
   "metadata": {},
   "source": [
    "\\[\n",
    "\\begin{bmatrix}\n",
    "1 \\\\\n",
    "2 \\\\\n",
    "3\n",
    "\\end{bmatrix} \\cdot\n",
    "\\begin{bmatrix}\n",
    "4 \\\\\n",
    "5 \\\\\n",
    "6\n",
    "\\end{bmatrix} =\n",
    "1 \\times 4 + 2 \\times 5 + 3 \\times 6 = 32\n",
    "\\]"
   ]
  },
  {
   "cell_type": "markdown",
   "id": "76e68e88",
   "metadata": {},
   "source": [
    "Not:"
   ]
  },
  {
   "cell_type": "markdown",
   "id": "8364b7d5",
   "metadata": {},
   "source": [
    "\\[\n",
    "\\begin{bmatrix}\n",
    "1 \\\\\n",
    "2 \\\\\n",
    "3\n",
    "\\end{bmatrix} \\cdot\n",
    "\\begin{bmatrix}\n",
    "4 \\\\\n",
    "5 \\\\\n",
    "6\n",
    "\\end{bmatrix}\n",
    "=\n",
    "\\begin{bmatrix}\n",
    "1 * 4 \\\\\n",
    "2 * 5 \\\\\n",
    "3 * 6\n",
    "\\end{bmatrix}\n",
    "\\]"
   ]
  },
  {
   "cell_type": "markdown",
   "id": "83ab96eb",
   "metadata": {},
   "source": [
    "# Matrix"
   ]
  },
  {
   "cell_type": "markdown",
   "id": "a5b70b3d",
   "metadata": {},
   "source": [
    "Matrix is a two-dimensional array of numbers. Matrix is usually written as"
   ]
  },
  {
   "cell_type": "markdown",
   "id": "718e2aa6",
   "metadata": {},
   "source": [
    "\\[\n",
    "\\begin{bmatrix}\n",
    "1 & 2 & 3 \\\\\n",
    "4 & 5 & 6\n",
    "\\end{bmatrix}\n",
    "\\]"
   ]
  },
  {
   "cell_type": "markdown",
   "id": "04bfa934",
   "metadata": {},
   "source": [
    "# Matrix dimension"
   ]
  },
  {
   "cell_type": "markdown",
   "id": "51797e60",
   "metadata": {},
   "source": [
    "The dimension of a matrix is the number of rows x columns. The above matrix has dimension of 2 x 3."
   ]
  },
  {
   "cell_type": "markdown",
   "id": "855cea51",
   "metadata": {},
   "source": [
    "# Relation to Vector"
   ]
  },
  {
   "cell_type": "markdown",
   "id": "ea571a46",
   "metadata": {},
   "source": [
    "A vector is a matrix with only one column. The following vector is a matrix with dimension of 3 x 1"
   ]
  },
  {
   "cell_type": "markdown",
   "id": "ba1e39c4",
   "metadata": {},
   "source": [
    "\\[\n",
    "\\begin{bmatrix}\n",
    "1 \\\\\n",
    "2 \\\\\n",
    "3\n",
    "\\end{bmatrix}\n",
    "\\]"
   ]
  },
  {
   "cell_type": "markdown",
   "id": "520f5ba3",
   "metadata": {},
   "source": [
    "# Matrix addition"
   ]
  },
  {
   "cell_type": "markdown",
   "id": "1d43bb23",
   "metadata": {},
   "source": [
    "Matrix can be added together if they have the same dimension. For example, the following is allowed"
   ]
  },
  {
   "cell_type": "markdown",
   "id": "9353a1d3",
   "metadata": {},
   "source": [
    "\\[\n",
    "\\begin{bmatrix}\n",
    "1 & 2 & 3 \\\\\n",
    "4 & 5 & 6\n",
    "\\end{bmatrix} +\n",
    "\\begin{bmatrix}\n",
    "7 & 8 & 9 \\\\\n",
    "10 & 11 & 12\n",
    "\\end{bmatrix} =\n",
    "\\begin{bmatrix}\n",
    "8 & 10 & 12 \\\\\n",
    "14 & 16 & 18\n",
    "\\end{bmatrix}\n",
    "\\]"
   ]
  },
  {
   "cell_type": "markdown",
   "id": "2721efd8",
   "metadata": {},
   "source": [
    "# Matrix dot product"
   ]
  },
  {
   "cell_type": "markdown",
   "id": "cdaa918d",
   "metadata": {},
   "source": [
    "Matrix dot product is defined as follows"
   ]
  },
  {
   "cell_type": "markdown",
   "id": "47534c25",
   "metadata": {},
   "source": [
    "\\[\n",
    "\\begin{bmatrix}\n",
    "x_{00} & x_{01} \\\\\n",
    "x_{10} & x_{11}\n",
    "\\end{bmatrix} \\cdot\n",
    "\\begin{bmatrix}\n",
    "y_{00} \\\\\n",
    "y_{10}\n",
    "\\end{bmatrix} =\n",
    "\\begin{bmatrix}\n",
    "x_{00} y_{00} + x_{01} y_{10} \\\\\n",
    "x_{10} y_{00} + x_{11} y_{10}\n",
    "\\end{bmatrix}\n",
    "\\]"
   ]
  },
  {
   "cell_type": "markdown",
   "id": "15204a2f",
   "metadata": {},
   "source": [
    "For example:"
   ]
  },
  {
   "cell_type": "markdown",
   "id": "35dbea7e",
   "metadata": {},
   "source": [
    "\\[\n",
    "\\begin{bmatrix}\n",
    "1 & 2 \\\\\n",
    "3 & 4\n",
    "\\end{bmatrix} \\cdot\n",
    "\\begin{bmatrix}\n",
    "5 \\\\\n",
    "6\n",
    "\\end{bmatrix} =\n",
    "\\begin{bmatrix}\n",
    "1 \\times 5 + 2 \\times 6 \\\\\n",
    "3 \\times 5 + 4 \\times 6\n",
    "\\end{bmatrix} =\n",
    "\\begin{bmatrix}\n",
    "17 \\\\\n",
    "39\n",
    "\\end{bmatrix}\n",
    "\\]"
   ]
  },
  {
   "cell_type": "markdown",
   "id": "3670932a",
   "metadata": {},
   "source": [
    "If X dimension is m x n and Y dimension is n x p, then the result of X dot Y is m x p."
   ]
  },
  {
   "cell_type": "markdown",
   "id": "3d6886b7",
   "metadata": {},
   "source": [
    "So, m x n dot o x p is not defined if n is not equal to o. Example"
   ]
  },
  {
   "cell_type": "markdown",
   "id": "090a698e",
   "metadata": {},
   "source": [
    "\\[\n",
    "\\begin{bmatrix}\n",
    "1 & 2 \\\\\n",
    "3 & 4\n",
    "\\end{bmatrix} \\cdot\n",
    "\\begin{bmatrix}\n",
    "5 & 6 \\\\\n",
    "7 & 8 \\\\\n",
    "9 & 10\n",
    "\\end{bmatrix} = undefined\n",
    "\\]"
   ]
  },
  {
   "cell_type": "markdown",
   "id": "026ccb6d",
   "metadata": {},
   "source": [
    "The order of the dot product is important."
   ]
  },
  {
   "cell_type": "markdown",
   "id": "aaccfcc6",
   "metadata": {},
   "source": [
    "\\[\n",
    "A \\cdot B \\neq B \\cdot A\n",
    "\\]"
   ]
  },
  {
   "cell_type": "markdown",
   "id": "8d0aac14",
   "metadata": {},
   "source": [
    "For example, if we flip the order of the above dot product, we get"
   ]
  },
  {
   "cell_type": "markdown",
   "id": "558a1281",
   "metadata": {},
   "source": [
    "\\[\n",
    "\\begin{bmatrix}\n",
    "5 \\\\\n",
    "6\n",
    "\\end{bmatrix} \\cdot\n",
    "\\begin{bmatrix}\n",
    "1 & 2 \\\\\n",
    "3 & 4\n",
    "\\end{bmatrix} = undefined\n",
    "\\]"
   ]
  },
  {
   "cell_type": "markdown",
   "id": "8295cd77",
   "metadata": {},
   "source": [
    "Matrix dot product is associative:"
   ]
  },
  {
   "cell_type": "markdown",
   "id": "878b0ded",
   "metadata": {},
   "source": [
    "\\[\n",
    "A \\cdot (B \\cdot C) = (A \\cdot B) \\cdot C\n",
    "\\]"
   ]
  },
  {
   "cell_type": "markdown",
   "id": "df6586e8",
   "metadata": {},
   "source": [
    "# Matrix Transpose"
   ]
  },
  {
   "cell_type": "markdown",
   "id": "a647d152",
   "metadata": {},
   "source": [
    "Matrix transpose is a matrix that is flipped over its diagonal. For example, the transpose of the following matrix is"
   ]
  },
  {
   "cell_type": "markdown",
   "id": "6bea0726",
   "metadata": {},
   "source": [
    "\\[\n",
    "\\begin{bmatrix}\n",
    "1 & 2 \\\\\n",
    "3 & 4\n",
    "\\end{bmatrix}^T =\n",
    "\\begin{bmatrix}\n",
    "1 & 3 \\\\\n",
    "2 & 4\n",
    "\\end{bmatrix}\n",
    "\\]"
   ]
  },
  {
   "cell_type": "markdown",
   "id": "f99112ca",
   "metadata": {},
   "source": [
    "\\[\n",
    "\\begin{bmatrix}\n",
    "1 \\\\\n",
    "2 \\\\\n",
    "3\n",
    "\\end{bmatrix}^T =\n",
    "\\begin{bmatrix}\n",
    "1 & 2 & 3\n",
    "\\end{bmatrix}\n",
    "\\]"
   ]
  },
  {
   "cell_type": "markdown",
   "id": "aa4d8026",
   "metadata": {},
   "source": [
    "# Identity Matrix"
   ]
  },
  {
   "cell_type": "markdown",
   "id": "6bb5c23d",
   "metadata": {},
   "source": [
    "Identity matrix is a matrix that doesn’t change any vector when multiplied by that vector"
   ]
  },
  {
   "cell_type": "markdown",
   "id": "b48c4932",
   "metadata": {},
   "source": [
    "\\[\n",
    "I \\cdot \\begin{bmatrix}\n",
    "x_0 \\\\\n",
    "x_1 \\\\\n",
    "x_2\n",
    "\\end{bmatrix} =\n",
    "\\begin{bmatrix}\n",
    "x_0 \\\\\n",
    "x_1 \\\\\n",
    "x_2\n",
    "\\end{bmatrix}\n",
    "\\]"
   ]
  },
  {
   "cell_type": "markdown",
   "id": "b5c5b8bf",
   "metadata": {},
   "source": [
    "Example of 2 x 2 identity matrix"
   ]
  },
  {
   "cell_type": "markdown",
   "id": "bbc56b66",
   "metadata": {},
   "source": [
    "\\[\n",
    "\\begin{bmatrix}\n",
    "1 & 0 \\\\\n",
    "0 & 1\n",
    "\\end{bmatrix}\n",
    "\\]"
   ]
  },
  {
   "cell_type": "markdown",
   "id": "5e2f976b",
   "metadata": {},
   "source": [
    "Example of 3 x 3 identity matrix"
   ]
  },
  {
   "cell_type": "markdown",
   "id": "f0a0f911",
   "metadata": {},
   "source": [
    "\\[\n",
    "\\begin{bmatrix}\n",
    "1 & 0 & 0 \\\\\n",
    "0 & 1 & 0 \\\\\n",
    "0 & 0 & 1\n",
    "\\end{bmatrix}\n",
    "\\]"
   ]
  },
  {
   "cell_type": "markdown",
   "id": "6fad67d0",
   "metadata": {},
   "source": [
    "# Inverse Matrix"
   ]
  },
  {
   "cell_type": "markdown",
   "id": "1fd2b167",
   "metadata": {},
   "source": [
    "Inverse matrix is a matrix that when multiplied by the original matrix, results in an identity matrix:"
   ]
  },
  {
   "cell_type": "markdown",
   "id": "7d291c6f",
   "metadata": {},
   "source": [
    "\\[\n",
    "A \\cdot A^{-1} = I\n",
    "\\]"
   ]
  },
  {
   "cell_type": "markdown",
   "id": "019233c0",
   "metadata": {},
   "source": [
    "# Linear Equation"
   ]
  },
  {
   "cell_type": "markdown",
   "id": "778ccdae",
   "metadata": {},
   "source": [
    "\\[\n",
    "2x + 1y = 5\n",
    "\\]"
   ]
  },
  {
   "cell_type": "markdown",
   "id": "4641445a",
   "metadata": {},
   "source": [
    "\\[\n",
    "3x + 4y = 10\n",
    "\\]"
   ]
  },
  {
   "cell_type": "markdown",
   "id": "0ae25e9f",
   "metadata": {},
   "source": [
    "It can modeled as a matrix equation"
   ]
  },
  {
   "cell_type": "markdown",
   "id": "14e3ad8d",
   "metadata": {},
   "source": [
    "\\[\n",
    "\\begin{bmatrix}\n",
    "2 & 1 \\\\\n",
    "3 & 4\n",
    "\\end{bmatrix} \\cdot\n",
    "\\begin{bmatrix}\n",
    "x \\\\\n",
    "y\n",
    "\\end{bmatrix} =\n",
    "\\begin{bmatrix}\n",
    "5 \\\\\n",
    "10\n",
    "\\end{bmatrix}\n",
    "\\]"
   ]
  },
  {
   "cell_type": "markdown",
   "id": "03e5403b",
   "metadata": {},
   "source": [
    "Let’s multiple both side with the inverse of the matrix"
   ]
  },
  {
   "cell_type": "markdown",
   "id": "b7a3019d",
   "metadata": {},
   "source": [
    "\\[\n",
    "\\begin{bmatrix}\n",
    "2 & 1 \\\\\n",
    "3 & 4\n",
    "\\end{bmatrix}^{-1} \\cdot\n",
    "\\begin{bmatrix}\n",
    "2 & 1 \\\\\n",
    "3 & 4\n",
    "\\end{bmatrix} \\cdot\n",
    "\\begin{bmatrix}\n",
    "x \\\\\n",
    "y\n",
    "\\end{bmatrix} =\n",
    "\\begin{bmatrix}\n",
    "2 & 1 \\\\\n",
    "3 & 4\n",
    "\\end{bmatrix}^{-1} \\cdot\n",
    "\\begin{bmatrix}\n",
    "5 \\\\\n",
    "10\n",
    "\\end{bmatrix}\n",
    "\\]"
   ]
  },
  {
   "cell_type": "markdown",
   "id": "31c13e3c",
   "metadata": {},
   "source": [
    "\\[\n",
    "I \\cdot \\begin{bmatrix}\n",
    "x \\\\\n",
    "y\n",
    "\\end{bmatrix} =\n",
    "\\begin{bmatrix}\n",
    "2 & 1 \\\\\n",
    "3 & 4\n",
    "\\end{bmatrix}^{-1} \\cdot\n",
    "\\begin{bmatrix}\n",
    "5 \\\\\n",
    "10\n",
    "\\end{bmatrix}\n",
    "\\]"
   ]
  },
  {
   "cell_type": "code",
   "execution_count": null,
   "id": "833dcb0e",
   "metadata": {},
   "outputs": [],
   "source": [
    "# Find the inverse of a matrix [[2, 1], [3, 4]]\n",
    "\n",
    "import numpy as np\n",
    "\n",
    "A = np.array([[2, 1], [3, 4]])\n",
    "A_inv = np.linalg.inv(A)\n",
    "print(A_inv)"
   ]
  },
  {
   "cell_type": "code",
   "execution_count": null,
   "id": "5fb44c9d",
   "metadata": {},
   "outputs": [],
   "source": [
    "[[ 0.8 -0.2]\n",
    " [-0.6  0.4]]"
   ]
  },
  {
   "cell_type": "markdown",
   "id": "4bf773ff",
   "metadata": {},
   "source": [
    "\\[\n",
    "I \\cdot \\begin{bmatrix}\n",
    "x \\\\\n",
    "y\n",
    "\\end{bmatrix} =\n",
    "\\begin{bmatrix}\n",
    "0.8 & -0.2 \\\\\n",
    "-0.6 & 0.4\n",
    "\\end{bmatrix} \\cdot\n",
    "\\begin{bmatrix}\n",
    "5 \\\\\n",
    "10\n",
    "\\end{bmatrix}\n",
    "\\]"
   ]
  },
  {
   "cell_type": "markdown",
   "id": "b5c3637d",
   "metadata": {},
   "source": [
    "\\[\n",
    "\\begin{bmatrix}\n",
    "x \\\\\n",
    "y\n",
    "\\end{bmatrix} =\n",
    "\\begin{bmatrix}\n",
    "2 \\\\\n",
    "1\n",
    "\\end{bmatrix}\n",
    "\\]"
   ]
  },
  {
   "cell_type": "markdown",
   "id": "36f988f8",
   "metadata": {},
   "source": [
    "# Features can be represented as vectors and matrices"
   ]
  },
  {
   "cell_type": "markdown",
   "id": "0463677d",
   "metadata": {},
   "source": [
    "In machine learning, we can represent features as vectors. For example, if we have a dataset of 100 people, and each person has 3 features: age, height, and weight, then we can represent each person as a vector of 3 elements."
   ]
  },
  {
   "cell_type": "markdown",
   "id": "04f03904",
   "metadata": {},
   "source": [
    "\\[\n",
    "person = \\begin{bmatrix}\n",
    "age \\\\\n",
    "height \\\\\n",
    "weight\n",
    "\\end{bmatrix}\n",
    "\\]"
   ]
  },
  {
   "cell_type": "markdown",
   "id": "3f802057",
   "metadata": {},
   "source": [
    "and we can represent the whole dataset as a matrix of 100 rows and 3 columns."
   ]
  },
  {
   "cell_type": "markdown",
   "id": "4e6ab1ce",
   "metadata": {},
   "source": [
    "\\[\n",
    "people = \\begin{bmatrix}\n",
    "person_{1}^{T} \\\\\n",
    "person_{2}^{T} \\\\\n",
    "\\vdots \\\\\n",
    "person_{100}^{T}\n",
    "\\end{bmatrix}\n",
    "= \\begin{bmatrix}\n",
    "age_{1} & height_{1} & weight_{1} \\\\\n",
    "age_{2} & height_{2} & weight_{2} \\\\\n",
    "\\vdots & \\vdots & \\vdots \\\\\n",
    "age_{100} & height_{100} & weight_{100}\n",
    "\\end{bmatrix}\n",
    "\\]"
   ]
  },
  {
   "cell_type": "markdown",
   "id": "51a20b0d",
   "metadata": {},
   "source": [
    "# Sigma Notation"
   ]
  },
  {
   "cell_type": "markdown",
   "id": "5a6d7678",
   "metadata": {},
   "source": [
    "Sigma notation is a way to write a sum of many terms. For example, the following is a sum of 5 terms"
   ]
  },
  {
   "cell_type": "markdown",
   "id": "1f687eb1",
   "metadata": {},
   "source": [
    "\\[\n",
    "\\sum_{i=1}^{5} x_{i} = x_{1} + x_{2} + x_{3} + x_{4} + x_{5}\n",
    "\\]"
   ]
  },
  {
   "cell_type": "markdown",
   "id": "2c47c452",
   "metadata": {},
   "source": [
    "In a code it’s just a for loop"
   ]
  },
  {
   "cell_type": "code",
   "execution_count": null,
   "id": "d6df8c08",
   "metadata": {},
   "outputs": [],
   "source": [
    "sum = 0\n",
    "for i in range(1, 6):\n",
    "    sum += x[i]"
   ]
  },
  {
   "cell_type": "markdown",
   "id": "de6029bc",
   "metadata": {},
   "source": [
    "# Product Notation"
   ]
  },
  {
   "cell_type": "markdown",
   "id": "8a81892b",
   "metadata": {},
   "source": [
    "Product notation is a way to write a product of many terms. For example, the following is a product of 5 terms"
   ]
  },
  {
   "cell_type": "markdown",
   "id": "19380f12",
   "metadata": {},
   "source": [
    "\\[\n",
    "\\prod_{i=1}^{5} x_{i} = x_{1} \\times x_{2} \\times x_{3} \\times x_{4} \\times x_{5}\n",
    "\\]"
   ]
  },
  {
   "cell_type": "markdown",
   "id": "0cac0d99",
   "metadata": {},
   "source": [
    "In a code it’s just a for loop"
   ]
  },
  {
   "cell_type": "code",
   "execution_count": null,
   "id": "ab10097e",
   "metadata": {},
   "outputs": [],
   "source": [
    "product = 1\n",
    "for i in range(1, 6):\n",
    "    product *= x[i]"
   ]
  }
 ],
 "metadata": {},
 "nbformat": 4,
 "nbformat_minor": 5
}
