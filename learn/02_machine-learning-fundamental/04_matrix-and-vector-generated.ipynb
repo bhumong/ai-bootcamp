{
 "cells": [
  {
   "cell_type": "markdown",
   "id": "feb5fb4b",
   "metadata": {},
   "source": [
    "source: [link](https://ai-bootcamp.ruangguru.com/learn/02_machine-learning-fundamental/04_matrix-and-vector.html)"
   ]
  },
  {
   "cell_type": "markdown",
   "id": "05fbaa35",
   "metadata": {},
   "source": [
    "# Scalar"
   ]
  },
  {
   "cell_type": "markdown",
   "id": "34b13be0",
   "metadata": {},
   "source": [
    "Scalar is a single number."
   ]
  },
  {
   "cell_type": "markdown",
   "id": "647f77cc",
   "metadata": {},
   "source": [
    "Example: x = 6"
   ]
  },
  {
   "cell_type": "markdown",
   "id": "9c3a220c",
   "metadata": {},
   "source": [
    "# Vector"
   ]
  },
  {
   "cell_type": "markdown",
   "id": "fc6adc10",
   "metadata": {},
   "source": [
    "Vector is a one-dimensional array of numbers."
   ]
  },
  {
   "cell_type": "markdown",
   "id": "ea29f515",
   "metadata": {},
   "source": [
    "Example: x = [1, 2] or usually written as"
   ]
  },
  {
   "cell_type": "markdown",
   "id": "167d5231",
   "metadata": {},
   "source": [
    "\n",
    "\\[\n",
    "\\begin{bmatrix}\n",
    "1 \\\\\n",
    "2\n",
    "\\end{bmatrix}\n",
    "\\]\n"
   ]
  },
  {
   "cell_type": "markdown",
   "id": "906991b2",
   "metadata": {},
   "source": [
    "# Multiplication of Scalar and Vector"
   ]
  },
  {
   "cell_type": "markdown",
   "id": "461baa5c",
   "metadata": {},
   "source": [
    "Vector can be multiplied by a scalar. For example, if we multiply the vector above by 2, written as"
   ]
  },
  {
   "cell_type": "markdown",
   "id": "b3790b44",
   "metadata": {},
   "source": [
    "\n",
    "\\[\n",
    "2 \\begin{bmatrix}\n",
    "1 \\\\\n",
    "2 \\\\\n",
    "3\n",
    "\\end{bmatrix}\n",
    "\\]\n"
   ]
  },
  {
   "cell_type": "markdown",
   "id": "c3bf3828",
   "metadata": {},
   "source": [
    "then the result is"
   ]
  },
  {
   "cell_type": "markdown",
   "id": "502b4ad7",
   "metadata": {},
   "source": [
    "\n",
    "\\[\n",
    "\\begin{bmatrix}\n",
    "2 \\\\\n",
    "4 \\\\\n",
    "6\n",
    "\\end{bmatrix}\n",
    "\\]\n"
   ]
  },
  {
   "cell_type": "markdown",
   "id": "37ef8906",
   "metadata": {},
   "source": [
    "# Addition of Scalar and Vector"
   ]
  },
  {
   "cell_type": "markdown",
   "id": "1c5bd7ca",
   "metadata": {},
   "source": [
    "This operation is not defined. Scalar can’t be added to vector."
   ]
  },
  {
   "cell_type": "markdown",
   "id": "899266e0",
   "metadata": {},
   "source": [
    "# Addition of Vectors"
   ]
  },
  {
   "cell_type": "markdown",
   "id": "afd719b0",
   "metadata": {},
   "source": [
    "Vectors can be added together"
   ]
  },
  {
   "cell_type": "markdown",
   "id": "1c606aff",
   "metadata": {},
   "source": [
    "\n",
    "\\[\n",
    "\\begin{bmatrix}\n",
    "1 \\\\\n",
    "2 \\\\\n",
    "3\n",
    "\\end{bmatrix} +\n",
    "\\begin{bmatrix}\n",
    "4 \\\\\n",
    "5 \\\\\n",
    "6\n",
    "\\end{bmatrix} =\n",
    "\\begin{bmatrix}\n",
    "5 \\\\\n",
    "7 \\\\\n",
    "9\n",
    "\\end{bmatrix}\n",
    "\\]\n"
   ]
  },
  {
   "cell_type": "markdown",
   "id": "9e1aa722",
   "metadata": {},
   "source": [
    "When the dimension of the vectors are different, the addition is not defined. The following is NOT allowed"
   ]
  },
  {
   "cell_type": "markdown",
   "id": "940ee215",
   "metadata": {},
   "source": [
    "\n",
    "\\[\n",
    "\\begin{bmatrix}\n",
    "1 \\\\\n",
    "2 \\\\\n",
    "3\n",
    "\\end{bmatrix} +\n",
    "\\begin{bmatrix}\n",
    "4 \\\\\n",
    "5 \\\\\n",
    "\\end{bmatrix}\n",
    "\\]\n"
   ]
  },
  {
   "cell_type": "markdown",
   "id": "d8730960",
   "metadata": {},
   "source": [
    "# Vector dot product"
   ]
  },
  {
   "cell_type": "markdown",
   "id": "cf8a6247",
   "metadata": {},
   "source": [
    "Vector dot product is a way to multiply vectors together. The result is a scalar."
   ]
  },
  {
   "cell_type": "markdown",
   "id": "23e5227f",
   "metadata": {},
   "source": [
    "\n",
    "\\[\n",
    "\\begin{bmatrix}\n",
    "1 \\\\\n",
    "2 \\\\\n",
    "3\n",
    "\\end{bmatrix} \\cdot\n",
    "\\begin{bmatrix}\n",
    "4 \\\\\n",
    "5 \\\\\n",
    "6\n",
    "\\end{bmatrix} =\n",
    "1 \\times 4 + 2 \\times 5 + 3 \\times 6 = 32\n",
    "\\]\n"
   ]
  },
  {
   "cell_type": "markdown",
   "id": "e52025a9",
   "metadata": {},
   "source": [
    "Not:"
   ]
  },
  {
   "cell_type": "markdown",
   "id": "b7da1fd3",
   "metadata": {},
   "source": [
    "\n",
    "\\[\n",
    "\\begin{bmatrix}\n",
    "1 \\\\\n",
    "2 \\\\\n",
    "3\n",
    "\\end{bmatrix} \\cdot\n",
    "\\begin{bmatrix}\n",
    "4 \\\\\n",
    "5 \\\\\n",
    "6\n",
    "\\end{bmatrix}\n",
    "=\n",
    "\\begin{bmatrix}\n",
    "1 * 4 \\\\\n",
    "2 * 5 \\\\\n",
    "3 * 6\n",
    "\\end{bmatrix}\n",
    "\\]\n"
   ]
  },
  {
   "cell_type": "markdown",
   "id": "5cf3b894",
   "metadata": {},
   "source": [
    "# Matrix"
   ]
  },
  {
   "cell_type": "markdown",
   "id": "ad6dc41b",
   "metadata": {},
   "source": [
    "Matrix is a two-dimensional array of numbers. Matrix is usually written as"
   ]
  },
  {
   "cell_type": "markdown",
   "id": "a1deccc9",
   "metadata": {},
   "source": [
    "\n",
    "\\[\n",
    "\\begin{bmatrix}\n",
    "1 & 2 & 3 \\\\\n",
    "4 & 5 & 6\n",
    "\\end{bmatrix}\n",
    "\\]\n"
   ]
  },
  {
   "cell_type": "markdown",
   "id": "3f99e002",
   "metadata": {},
   "source": [
    "# Matrix dimension"
   ]
  },
  {
   "cell_type": "markdown",
   "id": "f3fff4cf",
   "metadata": {},
   "source": [
    "The dimension of a matrix is the number of rows x columns. The above matrix has dimension of 2 x 3."
   ]
  },
  {
   "cell_type": "markdown",
   "id": "242106d5",
   "metadata": {},
   "source": [
    "# Relation to Vector"
   ]
  },
  {
   "cell_type": "markdown",
   "id": "89982f58",
   "metadata": {},
   "source": [
    "A vector is a matrix with only one column. The following vector is a matrix with dimension of 3 x 1"
   ]
  },
  {
   "cell_type": "markdown",
   "id": "53bc1715",
   "metadata": {},
   "source": [
    "\n",
    "\\[\n",
    "\\begin{bmatrix}\n",
    "1 \\\\\n",
    "2 \\\\\n",
    "3\n",
    "\\end{bmatrix}\n",
    "\\]\n"
   ]
  },
  {
   "cell_type": "markdown",
   "id": "a8ae92a7",
   "metadata": {},
   "source": [
    "# Matrix addition"
   ]
  },
  {
   "cell_type": "markdown",
   "id": "ee9969cf",
   "metadata": {},
   "source": [
    "Matrix can be added together if they have the same dimension. For example, the following is allowed"
   ]
  },
  {
   "cell_type": "markdown",
   "id": "4533179a",
   "metadata": {},
   "source": [
    "\n",
    "\\[\n",
    "\\begin{bmatrix}\n",
    "1 & 2 & 3 \\\\\n",
    "4 & 5 & 6\n",
    "\\end{bmatrix} +\n",
    "\\begin{bmatrix}\n",
    "7 & 8 & 9 \\\\\n",
    "10 & 11 & 12\n",
    "\\end{bmatrix} =\n",
    "\\begin{bmatrix}\n",
    "8 & 10 & 12 \\\\\n",
    "14 & 16 & 18\n",
    "\\end{bmatrix}\n",
    "\\]\n"
   ]
  },
  {
   "cell_type": "markdown",
   "id": "dc0ab697",
   "metadata": {},
   "source": [
    "# Matrix dot product"
   ]
  },
  {
   "cell_type": "markdown",
   "id": "153ddc6a",
   "metadata": {},
   "source": [
    "Matrix dot product is defined as follows"
   ]
  },
  {
   "cell_type": "markdown",
   "id": "0c0d0004",
   "metadata": {},
   "source": [
    "\n",
    "\\[\n",
    "\\begin{bmatrix}\n",
    "x_{00} & x_{01} \\\\\n",
    "x_{10} & x_{11}\n",
    "\\end{bmatrix} \\cdot\n",
    "\\begin{bmatrix}\n",
    "y_{00} \\\\\n",
    "y_{10}\n",
    "\\end{bmatrix} =\n",
    "\\begin{bmatrix}\n",
    "x_{00} y_{00} + x_{01} y_{10} \\\\\n",
    "x_{10} y_{00} + x_{11} y_{10}\n",
    "\\end{bmatrix}\n",
    "\\]\n"
   ]
  },
  {
   "cell_type": "markdown",
   "id": "a6a45c25",
   "metadata": {},
   "source": [
    "For example:"
   ]
  },
  {
   "cell_type": "markdown",
   "id": "47855373",
   "metadata": {},
   "source": [
    "\n",
    "\\[\n",
    "\\begin{bmatrix}\n",
    "1 & 2 \\\\\n",
    "3 & 4\n",
    "\\end{bmatrix} \\cdot\n",
    "\\begin{bmatrix}\n",
    "5 \\\\\n",
    "6\n",
    "\\end{bmatrix} =\n",
    "\\begin{bmatrix}\n",
    "1 \\times 5 + 2 \\times 6 \\\\\n",
    "3 \\times 5 + 4 \\times 6\n",
    "\\end{bmatrix} =\n",
    "\\begin{bmatrix}\n",
    "17 \\\\\n",
    "39\n",
    "\\end{bmatrix}\n",
    "\\]\n"
   ]
  },
  {
   "cell_type": "markdown",
   "id": "0b9d0c3c",
   "metadata": {},
   "source": [
    "If X dimension is m x n and Y dimension is n x p, then the result of X dot Y is m x p."
   ]
  },
  {
   "cell_type": "markdown",
   "id": "d2868c93",
   "metadata": {},
   "source": [
    "So, m x n dot o x p is not defined if n is not equal to o. Example"
   ]
  },
  {
   "cell_type": "markdown",
   "id": "8581414c",
   "metadata": {},
   "source": [
    "\n",
    "\\[\n",
    "\\begin{bmatrix}\n",
    "1 & 2 \\\\\n",
    "3 & 4\n",
    "\\end{bmatrix} \\cdot\n",
    "\\begin{bmatrix}\n",
    "5 & 6 \\\\\n",
    "7 & 8 \\\\\n",
    "9 & 10\n",
    "\\end{bmatrix} = undefined\n",
    "\\]\n"
   ]
  },
  {
   "cell_type": "markdown",
   "id": "e0e1b4de",
   "metadata": {},
   "source": [
    "The order of the dot product is important."
   ]
  },
  {
   "cell_type": "markdown",
   "id": "97c7dbd5",
   "metadata": {},
   "source": [
    "\n",
    "\\[\n",
    "A \\cdot B \\neq B \\cdot A\n",
    "\\]\n"
   ]
  },
  {
   "cell_type": "markdown",
   "id": "6c22baa1",
   "metadata": {},
   "source": [
    "For example, if we flip the order of the above dot product, we get"
   ]
  },
  {
   "cell_type": "markdown",
   "id": "cc8789d5",
   "metadata": {},
   "source": [
    "\n",
    "\\[\n",
    "\\begin{bmatrix}\n",
    "5 \\\\\n",
    "6\n",
    "\\end{bmatrix} \\cdot\n",
    "\\begin{bmatrix}\n",
    "1 & 2 \\\\\n",
    "3 & 4\n",
    "\\end{bmatrix} = undefined\n",
    "\\]\n"
   ]
  },
  {
   "cell_type": "markdown",
   "id": "4defe374",
   "metadata": {},
   "source": [
    "Matrix dot product is associative:"
   ]
  },
  {
   "cell_type": "markdown",
   "id": "53ddc576",
   "metadata": {},
   "source": [
    "\n",
    "\\[\n",
    "A \\cdot (B \\cdot C) = (A \\cdot B) \\cdot C\n",
    "\\]\n"
   ]
  },
  {
   "cell_type": "markdown",
   "id": "af8d8303",
   "metadata": {},
   "source": [
    "# Matrix Transpose"
   ]
  },
  {
   "cell_type": "markdown",
   "id": "8939160c",
   "metadata": {},
   "source": [
    "Matrix transpose is a matrix that is flipped over its diagonal. For example, the transpose of the following matrix is"
   ]
  },
  {
   "cell_type": "markdown",
   "id": "54f41f7d",
   "metadata": {},
   "source": [
    "\n",
    "\\[\n",
    "\\begin{bmatrix}\n",
    "1 & 2 \\\\\n",
    "3 & 4\n",
    "\\end{bmatrix}^T =\n",
    "\\begin{bmatrix}\n",
    "1 & 3 \\\\\n",
    "2 & 4\n",
    "\\end{bmatrix}\n",
    "\\]\n"
   ]
  },
  {
   "cell_type": "markdown",
   "id": "b655ce9a",
   "metadata": {},
   "source": [
    "\n",
    "\\[\n",
    "\\begin{bmatrix}\n",
    "1 \\\\\n",
    "2 \\\\\n",
    "3\n",
    "\\end{bmatrix}^T =\n",
    "\\begin{bmatrix}\n",
    "1 & 2 & 3\n",
    "\\end{bmatrix}\n",
    "\\]\n"
   ]
  },
  {
   "cell_type": "markdown",
   "id": "52dfc508",
   "metadata": {},
   "source": [
    "# Identity Matrix"
   ]
  },
  {
   "cell_type": "markdown",
   "id": "12160c31",
   "metadata": {},
   "source": [
    "Identity matrix is a matrix that doesn’t change any vector when multiplied by that vector"
   ]
  },
  {
   "cell_type": "markdown",
   "id": "3aedb31f",
   "metadata": {},
   "source": [
    "\n",
    "\\[\n",
    "I \\cdot \\begin{bmatrix}\n",
    "x_0 \\\\\n",
    "x_1 \\\\\n",
    "x_2\n",
    "\\end{bmatrix} =\n",
    "\\begin{bmatrix}\n",
    "x_0 \\\\\n",
    "x_1 \\\\\n",
    "x_2\n",
    "\\end{bmatrix}\n",
    "\\]\n"
   ]
  },
  {
   "cell_type": "markdown",
   "id": "8a1ab8d3",
   "metadata": {},
   "source": [
    "Example of 2 x 2 identity matrix"
   ]
  },
  {
   "cell_type": "markdown",
   "id": "6190b825",
   "metadata": {},
   "source": [
    "\n",
    "\\[\n",
    "\\begin{bmatrix}\n",
    "1 & 0 \\\\\n",
    "0 & 1\n",
    "\\end{bmatrix}\n",
    "\\]\n"
   ]
  },
  {
   "cell_type": "markdown",
   "id": "6aa85927",
   "metadata": {},
   "source": [
    "Example of 3 x 3 identity matrix"
   ]
  },
  {
   "cell_type": "markdown",
   "id": "b5f8b9de",
   "metadata": {},
   "source": [
    "\n",
    "\\[\n",
    "\\begin{bmatrix}\n",
    "1 & 0 & 0 \\\\\n",
    "0 & 1 & 0 \\\\\n",
    "0 & 0 & 1\n",
    "\\end{bmatrix}\n",
    "\\]\n"
   ]
  },
  {
   "cell_type": "markdown",
   "id": "839c26fc",
   "metadata": {},
   "source": [
    "# Inverse Matrix"
   ]
  },
  {
   "cell_type": "markdown",
   "id": "97265709",
   "metadata": {},
   "source": [
    "Inverse matrix is a matrix that when multiplied by the original matrix, results in an identity matrix:"
   ]
  },
  {
   "cell_type": "markdown",
   "id": "1f1bbf66",
   "metadata": {},
   "source": [
    "\n",
    "\\[\n",
    "A \\cdot A^{-1} = I\n",
    "\\]\n"
   ]
  },
  {
   "cell_type": "markdown",
   "id": "a5ee24ea",
   "metadata": {},
   "source": [
    "# Linear Equation"
   ]
  },
  {
   "cell_type": "markdown",
   "id": "edfa4d00",
   "metadata": {},
   "source": [
    "- The price of 2 apples and 1 orange is 5 dollar.\n",
    "- The price of 3 apples and 4 oranges is 10 dollar.\n",
    "- What is the price of 1 apple and 1 orange?"
   ]
  },
  {
   "cell_type": "markdown",
   "id": "963456f3",
   "metadata": {},
   "source": [
    "\n",
    "\\[\n",
    "2x + 1y = 5\n",
    "\\]\n"
   ]
  },
  {
   "cell_type": "markdown",
   "id": "28c0aed2",
   "metadata": {},
   "source": [
    "\n",
    "\\[\n",
    "3x + 4y = 10\n",
    "\\]\n"
   ]
  },
  {
   "cell_type": "markdown",
   "id": "b664a1c0",
   "metadata": {},
   "source": [
    "It can modeled as a matrix equation"
   ]
  },
  {
   "cell_type": "markdown",
   "id": "5910c949",
   "metadata": {},
   "source": [
    "\n",
    "\\[\n",
    "\\begin{bmatrix}\n",
    "2 & 1 \\\\\n",
    "3 & 4\n",
    "\\end{bmatrix} \\cdot\n",
    "\\begin{bmatrix}\n",
    "x \\\\\n",
    "y\n",
    "\\end{bmatrix} =\n",
    "\\begin{bmatrix}\n",
    "5 \\\\\n",
    "10\n",
    "\\end{bmatrix}\n",
    "\\]\n"
   ]
  },
  {
   "cell_type": "markdown",
   "id": "7e04a7aa",
   "metadata": {},
   "source": [
    "Let’s multiple both side with the inverse of the matrix"
   ]
  },
  {
   "cell_type": "markdown",
   "id": "1037cbd5",
   "metadata": {},
   "source": [
    "\n",
    "\\[\n",
    "\\begin{bmatrix}\n",
    "2 & 1 \\\\\n",
    "3 & 4\n",
    "\\end{bmatrix}^{-1} \\cdot\n",
    "\\begin{bmatrix}\n",
    "2 & 1 \\\\\n",
    "3 & 4\n",
    "\\end{bmatrix} \\cdot\n",
    "\\begin{bmatrix}\n",
    "x \\\\\n",
    "y\n",
    "\\end{bmatrix} =\n",
    "\\begin{bmatrix}\n",
    "2 & 1 \\\\\n",
    "3 & 4\n",
    "\\end{bmatrix}^{-1} \\cdot\n",
    "\\begin{bmatrix}\n",
    "5 \\\\\n",
    "10\n",
    "\\end{bmatrix}\n",
    "\\]\n"
   ]
  },
  {
   "cell_type": "markdown",
   "id": "a5b675ef",
   "metadata": {},
   "source": [
    "\n",
    "\\[\n",
    "I \\cdot \\begin{bmatrix}\n",
    "x \\\\\n",
    "y\n",
    "\\end{bmatrix} =\n",
    "\\begin{bmatrix}\n",
    "2 & 1 \\\\\n",
    "3 & 4\n",
    "\\end{bmatrix}^{-1} \\cdot\n",
    "\\begin{bmatrix}\n",
    "5 \\\\\n",
    "10\n",
    "\\end{bmatrix}\n",
    "\\]\n"
   ]
  },
  {
   "cell_type": "code",
   "execution_count": null,
   "id": "c6bd7022",
   "metadata": {},
   "outputs": [],
   "source": [
    "# Find the inverse of a matrix [[2, 1], [3, 4]]\n",
    "\n",
    "import numpy as np\n",
    "\n",
    "A = np.array([[2, 1], [3, 4]])\n",
    "A_inv = np.linalg.inv(A)\n",
    "print(A_inv)"
   ]
  },
  {
   "cell_type": "code",
   "execution_count": null,
   "id": "51c3b78f",
   "metadata": {},
   "outputs": [],
   "source": [
    "[[ 0.8 -0.2]\n",
    " [-0.6  0.4]]"
   ]
  },
  {
   "cell_type": "markdown",
   "id": "621b4cb6",
   "metadata": {},
   "source": [
    "\n",
    "\\[\n",
    "I \\cdot \\begin{bmatrix}\n",
    "x \\\\\n",
    "y\n",
    "\\end{bmatrix} =\n",
    "\\begin{bmatrix}\n",
    "0.8 & -0.2 \\\\\n",
    "-0.6 & 0.4\n",
    "\\end{bmatrix} \\cdot\n",
    "\\begin{bmatrix}\n",
    "5 \\\\\n",
    "10\n",
    "\\end{bmatrix}\n",
    "\\]\n"
   ]
  },
  {
   "cell_type": "markdown",
   "id": "e3b926d6",
   "metadata": {},
   "source": [
    "\n",
    "\\[\n",
    "\\begin{bmatrix}\n",
    "x \\\\\n",
    "y\n",
    "\\end{bmatrix} =\n",
    "\\begin{bmatrix}\n",
    "2 \\\\\n",
    "1\n",
    "\\end{bmatrix}\n",
    "\\]\n"
   ]
  },
  {
   "cell_type": "markdown",
   "id": "b59ef6cf",
   "metadata": {},
   "source": [
    "# Features can be represented as vectors and matrices"
   ]
  },
  {
   "cell_type": "markdown",
   "id": "c280c787",
   "metadata": {},
   "source": [
    "In machine learning, we can represent features as vectors. For example, if we have a dataset of 100 people, and each person has 3 features: age, height, and weight, then we can represent each person as a vector of 3 elements."
   ]
  },
  {
   "cell_type": "markdown",
   "id": "c27506a3",
   "metadata": {},
   "source": [
    "\n",
    "\\[\n",
    "person = \\begin{bmatrix}\n",
    "age \\\\\n",
    "height \\\\\n",
    "weight\n",
    "\\end{bmatrix}\n",
    "\\]\n"
   ]
  },
  {
   "cell_type": "markdown",
   "id": "80942557",
   "metadata": {},
   "source": [
    "and we can represent the whole dataset as a matrix of 100 rows and 3 columns."
   ]
  },
  {
   "cell_type": "markdown",
   "id": "9b043a33",
   "metadata": {},
   "source": [
    "\n",
    "\\[\n",
    "people = \\begin{bmatrix}\n",
    "person_{1}^{T} \\\\\n",
    "person_{2}^{T} \\\\\n",
    "\\vdots \\\\\n",
    "person_{100}^{T}\n",
    "\\end{bmatrix}\n",
    "= \\begin{bmatrix}\n",
    "age_{1} & height_{1} & weight_{1} \\\\\n",
    "age_{2} & height_{2} & weight_{2} \\\\\n",
    "\\vdots & \\vdots & \\vdots \\\\\n",
    "age_{100} & height_{100} & weight_{100}\n",
    "\\end{bmatrix}\n",
    "\\]\n"
   ]
  },
  {
   "cell_type": "markdown",
   "id": "3aaa561f",
   "metadata": {},
   "source": [
    "# Sigma Notation"
   ]
  },
  {
   "cell_type": "markdown",
   "id": "7c415d53",
   "metadata": {},
   "source": [
    "Sigma notation is a way to write a sum of many terms. For example, the following is a sum of 5 terms"
   ]
  },
  {
   "cell_type": "markdown",
   "id": "51efe751",
   "metadata": {},
   "source": [
    "\n",
    "\\[\n",
    "\\sum_{i=1}^{5} x_{i} = x_{1} + x_{2} + x_{3} + x_{4} + x_{5}\n",
    "\\]\n"
   ]
  },
  {
   "cell_type": "markdown",
   "id": "1a4730cb",
   "metadata": {},
   "source": [
    "In a code it’s just a for loop"
   ]
  },
  {
   "cell_type": "code",
   "execution_count": null,
   "id": "34da91c5",
   "metadata": {},
   "outputs": [],
   "source": [
    "sum = 0\n",
    "for i in range(1, 6):\n",
    "    sum += x[i]"
   ]
  },
  {
   "cell_type": "markdown",
   "id": "b3b3c500",
   "metadata": {},
   "source": [
    "# Product Notation"
   ]
  },
  {
   "cell_type": "markdown",
   "id": "18044d88",
   "metadata": {},
   "source": [
    "Product notation is a way to write a product of many terms. For example, the following is a product of 5 terms"
   ]
  },
  {
   "cell_type": "markdown",
   "id": "31f12b8e",
   "metadata": {},
   "source": [
    "\n",
    "\\[\n",
    "\\prod_{i=1}^{5} x_{i} = x_{1} \\times x_{2} \\times x_{3} \\times x_{4} \\times x_{5}\n",
    "\\]\n"
   ]
  },
  {
   "cell_type": "markdown",
   "id": "611d7fa1",
   "metadata": {},
   "source": [
    "In a code it’s just a for loop"
   ]
  },
  {
   "cell_type": "code",
   "execution_count": null,
   "id": "b981c408",
   "metadata": {},
   "outputs": [],
   "source": [
    "product = 1\n",
    "for i in range(1, 6):\n",
    "    product *= x[i]"
   ]
  }
 ],
 "metadata": {},
 "nbformat": 4,
 "nbformat_minor": 5
}
