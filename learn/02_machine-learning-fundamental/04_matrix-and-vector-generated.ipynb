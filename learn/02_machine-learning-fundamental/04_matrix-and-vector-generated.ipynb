{
 "cells": [
  {
   "cell_type": "markdown",
   "id": "f13eb2fa",
   "metadata": {},
   "source": [
    "source: [link](https://ai-bootcamp.ruangguru.com/learn/02_machine-learning-fundamental/04_matrix-and-vector.html)"
   ]
  },
  {
   "cell_type": "markdown",
   "id": "2c48f9d9",
   "metadata": {},
   "source": [
    "# Scalar"
   ]
  },
  {
   "cell_type": "markdown",
   "id": "a967c802",
   "metadata": {},
   "source": [
    "Scalar is a single number."
   ]
  },
  {
   "cell_type": "markdown",
   "id": "c3edc334",
   "metadata": {},
   "source": [
    "Example: x = 6"
   ]
  },
  {
   "cell_type": "markdown",
   "id": "507e0431",
   "metadata": {},
   "source": [
    "# Vector"
   ]
  },
  {
   "cell_type": "markdown",
   "id": "8d96cb4d",
   "metadata": {},
   "source": [
    "Vector is a one-dimensional array of numbers."
   ]
  },
  {
   "cell_type": "markdown",
   "id": "08765d96",
   "metadata": {},
   "source": [
    "Example: x = [1, 2] or usually written as"
   ]
  },
  {
   "cell_type": "markdown",
   "id": "a170f1fd",
   "metadata": {},
   "source": [
    "\\[\n",
    "\\begin{bmatrix}\n",
    "1 \\\\\n",
    "2\n",
    "\\end{bmatrix}\n",
    "\\]"
   ]
  },
  {
   "cell_type": "markdown",
   "id": "4ea1b938",
   "metadata": {},
   "source": [
    "# Multiplication of Scalar and Vector"
   ]
  },
  {
   "cell_type": "markdown",
   "id": "70206644",
   "metadata": {},
   "source": [
    "Vector can be multiplied by a scalar. For example, if we multiply the vector above by 2, written as"
   ]
  },
  {
   "cell_type": "markdown",
   "id": "f137e784",
   "metadata": {},
   "source": [
    "\\[\n",
    "2 \\begin{bmatrix}\n",
    "1 \\\\\n",
    "2 \\\\\n",
    "3\n",
    "\\end{bmatrix}\n",
    "\\]"
   ]
  },
  {
   "cell_type": "markdown",
   "id": "ae85b0ef",
   "metadata": {},
   "source": [
    "then the result is"
   ]
  },
  {
   "cell_type": "markdown",
   "id": "fbc66f92",
   "metadata": {},
   "source": [
    "\\[\n",
    "\\begin{bmatrix}\n",
    "2 \\\\\n",
    "4 \\\\\n",
    "6\n",
    "\\end{bmatrix}\n",
    "\\]"
   ]
  },
  {
   "cell_type": "markdown",
   "id": "5cfe6b64",
   "metadata": {},
   "source": [
    "# Addition of Scalar and Vector"
   ]
  },
  {
   "cell_type": "markdown",
   "id": "ee2a7685",
   "metadata": {},
   "source": [
    "This operation is not defined. Scalar can’t be added to vector."
   ]
  },
  {
   "cell_type": "markdown",
   "id": "5cfdffa8",
   "metadata": {},
   "source": [
    "# Addition of Vectors"
   ]
  },
  {
   "cell_type": "markdown",
   "id": "e931fb7d",
   "metadata": {},
   "source": [
    "Vectors can be added together"
   ]
  },
  {
   "cell_type": "markdown",
   "id": "cc2a40b2",
   "metadata": {},
   "source": [
    "\\[\n",
    "\\begin{bmatrix}\n",
    "1 \\\\\n",
    "2 \\\\\n",
    "3\n",
    "\\end{bmatrix} +\n",
    "\\begin{bmatrix}\n",
    "4 \\\\\n",
    "5 \\\\\n",
    "6\n",
    "\\end{bmatrix} =\n",
    "\\begin{bmatrix}\n",
    "5 \\\\\n",
    "7 \\\\\n",
    "9\n",
    "\\end{bmatrix}\n",
    "\\]"
   ]
  },
  {
   "cell_type": "markdown",
   "id": "fb062182",
   "metadata": {},
   "source": [
    "When the dimension of the vectors are different, the addition is not defined. The following is NOT allowed"
   ]
  },
  {
   "cell_type": "markdown",
   "id": "1af81296",
   "metadata": {},
   "source": [
    "\\[\n",
    "\\begin{bmatrix}\n",
    "1 \\\\\n",
    "2 \\\\\n",
    "3\n",
    "\\end{bmatrix} +\n",
    "\\begin{bmatrix}\n",
    "4 \\\\\n",
    "5 \\\\\n",
    "\\end{bmatrix}\n",
    "\\]"
   ]
  },
  {
   "cell_type": "markdown",
   "id": "201c0ab0",
   "metadata": {},
   "source": [
    "# Vector dot product"
   ]
  },
  {
   "cell_type": "markdown",
   "id": "7948d2a5",
   "metadata": {},
   "source": [
    "Vector dot product is a way to multiply vectors together. The result is a scalar."
   ]
  },
  {
   "cell_type": "markdown",
   "id": "ab98fb0c",
   "metadata": {},
   "source": [
    "\\[\n",
    "\\begin{bmatrix}\n",
    "1 \\\\\n",
    "2 \\\\\n",
    "3\n",
    "\\end{bmatrix} \\cdot\n",
    "\\begin{bmatrix}\n",
    "4 \\\\\n",
    "5 \\\\\n",
    "6\n",
    "\\end{bmatrix} =\n",
    "1 \\times 4 + 2 \\times 5 + 3 \\times 6 = 32\n",
    "\\]"
   ]
  },
  {
   "cell_type": "markdown",
   "id": "e4c837bc",
   "metadata": {},
   "source": [
    "Not:"
   ]
  },
  {
   "cell_type": "markdown",
   "id": "083c963d",
   "metadata": {},
   "source": [
    "\\[\n",
    "\\begin{bmatrix}\n",
    "1 \\\\\n",
    "2 \\\\\n",
    "3\n",
    "\\end{bmatrix} \\cdot\n",
    "\\begin{bmatrix}\n",
    "4 \\\\\n",
    "5 \\\\\n",
    "6\n",
    "\\end{bmatrix}\n",
    "=\n",
    "\\begin{bmatrix}\n",
    "1 * 4 \\\\\n",
    "2 * 5 \\\\\n",
    "3 * 6\n",
    "\\end{bmatrix}\n",
    "\\]"
   ]
  },
  {
   "cell_type": "markdown",
   "id": "860528ea",
   "metadata": {},
   "source": [
    "# Matrix"
   ]
  },
  {
   "cell_type": "markdown",
   "id": "f2db2065",
   "metadata": {},
   "source": [
    "Matrix is a two-dimensional array of numbers. Matrix is usually written as"
   ]
  },
  {
   "cell_type": "markdown",
   "id": "6b767118",
   "metadata": {},
   "source": [
    "\\[\n",
    "\\begin{bmatrix}\n",
    "1 & 2 & 3 \\\\\n",
    "4 & 5 & 6\n",
    "\\end{bmatrix}\n",
    "\\]"
   ]
  },
  {
   "cell_type": "markdown",
   "id": "ccd5a94b",
   "metadata": {},
   "source": [
    "# Matrix dimension"
   ]
  },
  {
   "cell_type": "markdown",
   "id": "978bbb39",
   "metadata": {},
   "source": [
    "The dimension of a matrix is the number of rows x columns. The above matrix has dimension of 2 x 3."
   ]
  },
  {
   "cell_type": "markdown",
   "id": "cb8265c3",
   "metadata": {},
   "source": [
    "# Relation to Vector"
   ]
  },
  {
   "cell_type": "markdown",
   "id": "0501295c",
   "metadata": {},
   "source": [
    "A vector is a matrix with only one column. The following vector is a matrix with dimension of 3 x 1"
   ]
  },
  {
   "cell_type": "markdown",
   "id": "e2d2ba19",
   "metadata": {},
   "source": [
    "\\[\n",
    "\\begin{bmatrix}\n",
    "1 \\\\\n",
    "2 \\\\\n",
    "3\n",
    "\\end{bmatrix}\n",
    "\\]"
   ]
  },
  {
   "cell_type": "markdown",
   "id": "13dbd633",
   "metadata": {},
   "source": [
    "# Matrix addition"
   ]
  },
  {
   "cell_type": "markdown",
   "id": "71ab50ac",
   "metadata": {},
   "source": [
    "Matrix can be added together if they have the same dimension. For example, the following is allowed"
   ]
  },
  {
   "cell_type": "markdown",
   "id": "dcf3b453",
   "metadata": {},
   "source": [
    "\\[\n",
    "\\begin{bmatrix}\n",
    "1 & 2 & 3 \\\\\n",
    "4 & 5 & 6\n",
    "\\end{bmatrix} +\n",
    "\\begin{bmatrix}\n",
    "7 & 8 & 9 \\\\\n",
    "10 & 11 & 12\n",
    "\\end{bmatrix} =\n",
    "\\begin{bmatrix}\n",
    "8 & 10 & 12 \\\\\n",
    "14 & 16 & 18\n",
    "\\end{bmatrix}\n",
    "\\]"
   ]
  },
  {
   "cell_type": "markdown",
   "id": "6589f258",
   "metadata": {},
   "source": [
    "# Matrix dot product"
   ]
  },
  {
   "cell_type": "markdown",
   "id": "186e8d1e",
   "metadata": {},
   "source": [
    "Matrix dot product is defined as follows"
   ]
  },
  {
   "cell_type": "markdown",
   "id": "b25f2dcf",
   "metadata": {},
   "source": [
    "\\[\n",
    "\\begin{bmatrix}\n",
    "x_{00} & x_{01} \\\\\n",
    "x_{10} & x_{11}\n",
    "\\end{bmatrix} \\cdot\n",
    "\\begin{bmatrix}\n",
    "y_{00} \\\\\n",
    "y_{10}\n",
    "\\end{bmatrix} =\n",
    "\\begin{bmatrix}\n",
    "x_{00} y_{00} + x_{01} y_{10} \\\\\n",
    "x_{10} y_{00} + x_{11} y_{10}\n",
    "\\end{bmatrix}\n",
    "\\]"
   ]
  },
  {
   "cell_type": "markdown",
   "id": "9b8cc56c",
   "metadata": {},
   "source": [
    "For example:"
   ]
  },
  {
   "cell_type": "markdown",
   "id": "6a761011",
   "metadata": {},
   "source": [
    "\\[\n",
    "\\begin{bmatrix}\n",
    "1 & 2 \\\\\n",
    "3 & 4\n",
    "\\end{bmatrix} \\cdot\n",
    "\\begin{bmatrix}\n",
    "5 \\\\\n",
    "6\n",
    "\\end{bmatrix} =\n",
    "\\begin{bmatrix}\n",
    "1 \\times 5 + 2 \\times 6 \\\\\n",
    "3 \\times 5 + 4 \\times 6\n",
    "\\end{bmatrix} =\n",
    "\\begin{bmatrix}\n",
    "17 \\\\\n",
    "39\n",
    "\\end{bmatrix}\n",
    "\\]"
   ]
  },
  {
   "cell_type": "markdown",
   "id": "b0edb939",
   "metadata": {},
   "source": [
    "If X dimension is m x n and Y dimension is n x p, then the result of X dot Y is m x p."
   ]
  },
  {
   "cell_type": "markdown",
   "id": "fe42f4f4",
   "metadata": {},
   "source": [
    "So, m x n dot o x p is not defined if n is not equal to o. Example"
   ]
  },
  {
   "cell_type": "markdown",
   "id": "ddb3c3ad",
   "metadata": {},
   "source": [
    "\\[\n",
    "\\begin{bmatrix}\n",
    "1 & 2 \\\\\n",
    "3 & 4\n",
    "\\end{bmatrix} \\cdot\n",
    "\\begin{bmatrix}\n",
    "5 & 6 \\\\\n",
    "7 & 8 \\\\\n",
    "9 & 10\n",
    "\\end{bmatrix} = undefined\n",
    "\\]"
   ]
  },
  {
   "cell_type": "markdown",
   "id": "6e6e0cff",
   "metadata": {},
   "source": [
    "The order of the dot product is important."
   ]
  },
  {
   "cell_type": "markdown",
   "id": "d970e09f",
   "metadata": {},
   "source": [
    "\\[\n",
    "A \\cdot B \\neq B \\cdot A\n",
    "\\]"
   ]
  },
  {
   "cell_type": "markdown",
   "id": "6976d664",
   "metadata": {},
   "source": [
    "For example, if we flip the order of the above dot product, we get"
   ]
  },
  {
   "cell_type": "markdown",
   "id": "69be0551",
   "metadata": {},
   "source": [
    "\\[\n",
    "\\begin{bmatrix}\n",
    "5 \\\\\n",
    "6\n",
    "\\end{bmatrix} \\cdot\n",
    "\\begin{bmatrix}\n",
    "1 & 2 \\\\\n",
    "3 & 4\n",
    "\\end{bmatrix} = undefined\n",
    "\\]"
   ]
  },
  {
   "cell_type": "markdown",
   "id": "fc7e168e",
   "metadata": {},
   "source": [
    "Matrix dot product is associative:"
   ]
  },
  {
   "cell_type": "markdown",
   "id": "7763a937",
   "metadata": {},
   "source": [
    "\\[\n",
    "A \\cdot (B \\cdot C) = (A \\cdot B) \\cdot C\n",
    "\\]"
   ]
  },
  {
   "cell_type": "markdown",
   "id": "5833ea1c",
   "metadata": {},
   "source": [
    "# Matrix Transpose"
   ]
  },
  {
   "cell_type": "markdown",
   "id": "69ed002a",
   "metadata": {},
   "source": [
    "Matrix transpose is a matrix that is flipped over its diagonal. For example, the transpose of the following matrix is"
   ]
  },
  {
   "cell_type": "markdown",
   "id": "a1079f28",
   "metadata": {},
   "source": [
    "\\[\n",
    "\\begin{bmatrix}\n",
    "1 & 2 \\\\\n",
    "3 & 4\n",
    "\\end{bmatrix}^T =\n",
    "\\begin{bmatrix}\n",
    "1 & 3 \\\\\n",
    "2 & 4\n",
    "\\end{bmatrix}\n",
    "\\]"
   ]
  },
  {
   "cell_type": "markdown",
   "id": "0fb3e6e6",
   "metadata": {},
   "source": [
    "\\[\n",
    "\\begin{bmatrix}\n",
    "1 \\\\\n",
    "2 \\\\\n",
    "3\n",
    "\\end{bmatrix}^T =\n",
    "\\begin{bmatrix}\n",
    "1 & 2 & 3\n",
    "\\end{bmatrix}\n",
    "\\]"
   ]
  },
  {
   "cell_type": "markdown",
   "id": "00d9ea22",
   "metadata": {},
   "source": [
    "# Identity Matrix"
   ]
  },
  {
   "cell_type": "markdown",
   "id": "f19bd864",
   "metadata": {},
   "source": [
    "Identity matrix is a matrix that doesn’t change any vector when multiplied by that vector"
   ]
  },
  {
   "cell_type": "markdown",
   "id": "b3ec2e17",
   "metadata": {},
   "source": [
    "\\[\n",
    "I \\cdot \\begin{bmatrix}\n",
    "x_0 \\\\\n",
    "x_1 \\\\\n",
    "x_2\n",
    "\\end{bmatrix} =\n",
    "\\begin{bmatrix}\n",
    "x_0 \\\\\n",
    "x_1 \\\\\n",
    "x_2\n",
    "\\end{bmatrix}\n",
    "\\]"
   ]
  },
  {
   "cell_type": "markdown",
   "id": "5997fee9",
   "metadata": {},
   "source": [
    "Example of 2 x 2 identity matrix"
   ]
  },
  {
   "cell_type": "markdown",
   "id": "07b05755",
   "metadata": {},
   "source": [
    "\\[\n",
    "\\begin{bmatrix}\n",
    "1 & 0 \\\\\n",
    "0 & 1\n",
    "\\end{bmatrix}\n",
    "\\]"
   ]
  },
  {
   "cell_type": "markdown",
   "id": "4092c85c",
   "metadata": {},
   "source": [
    "Example of 3 x 3 identity matrix"
   ]
  },
  {
   "cell_type": "markdown",
   "id": "72db00ef",
   "metadata": {},
   "source": [
    "\\[\n",
    "\\begin{bmatrix}\n",
    "1 & 0 & 0 \\\\\n",
    "0 & 1 & 0 \\\\\n",
    "0 & 0 & 1\n",
    "\\end{bmatrix}\n",
    "\\]"
   ]
  },
  {
   "cell_type": "markdown",
   "id": "48e524ff",
   "metadata": {},
   "source": [
    "# Inverse Matrix"
   ]
  },
  {
   "cell_type": "markdown",
   "id": "6ca08bbb",
   "metadata": {},
   "source": [
    "Inverse matrix is a matrix that when multiplied by the original matrix, results in an identity matrix:"
   ]
  },
  {
   "cell_type": "markdown",
   "id": "ae135665",
   "metadata": {},
   "source": [
    "\\[\n",
    "A \\cdot A^{-1} = I\n",
    "\\]"
   ]
  },
  {
   "cell_type": "markdown",
   "id": "60de3993",
   "metadata": {},
   "source": [
    "# Linear Equation"
   ]
  },
  {
   "cell_type": "markdown",
   "id": "c3ec75d9",
   "metadata": {},
   "source": [
    "\\[\n",
    "2x + 1y = 5\n",
    "\\]"
   ]
  },
  {
   "cell_type": "markdown",
   "id": "5cdd5748",
   "metadata": {},
   "source": [
    "\\[\n",
    "3x + 4y = 10\n",
    "\\]"
   ]
  },
  {
   "cell_type": "markdown",
   "id": "8f4ff4c8",
   "metadata": {},
   "source": [
    "It can modeled as a matrix equation"
   ]
  },
  {
   "cell_type": "markdown",
   "id": "9e45646a",
   "metadata": {},
   "source": [
    "\\[\n",
    "\\begin{bmatrix}\n",
    "2 & 1 \\\\\n",
    "3 & 4\n",
    "\\end{bmatrix} \\cdot\n",
    "\\begin{bmatrix}\n",
    "x \\\\\n",
    "y\n",
    "\\end{bmatrix} =\n",
    "\\begin{bmatrix}\n",
    "5 \\\\\n",
    "10\n",
    "\\end{bmatrix}\n",
    "\\]"
   ]
  },
  {
   "cell_type": "markdown",
   "id": "ef41e266",
   "metadata": {},
   "source": [
    "Let’s multiple both side with the inverse of the matrix"
   ]
  },
  {
   "cell_type": "markdown",
   "id": "a2990d5c",
   "metadata": {},
   "source": [
    "\\[\n",
    "\\begin{bmatrix}\n",
    "2 & 1 \\\\\n",
    "3 & 4\n",
    "\\end{bmatrix}^{-1} \\cdot\n",
    "\\begin{bmatrix}\n",
    "2 & 1 \\\\\n",
    "3 & 4\n",
    "\\end{bmatrix} \\cdot\n",
    "\\begin{bmatrix}\n",
    "x \\\\\n",
    "y\n",
    "\\end{bmatrix} =\n",
    "\\begin{bmatrix}\n",
    "2 & 1 \\\\\n",
    "3 & 4\n",
    "\\end{bmatrix}^{-1} \\cdot\n",
    "\\begin{bmatrix}\n",
    "5 \\\\\n",
    "10\n",
    "\\end{bmatrix}\n",
    "\\]"
   ]
  },
  {
   "cell_type": "markdown",
   "id": "739d9ebf",
   "metadata": {},
   "source": [
    "\\[\n",
    "I \\cdot \\begin{bmatrix}\n",
    "x \\\\\n",
    "y\n",
    "\\end{bmatrix} =\n",
    "\\begin{bmatrix}\n",
    "2 & 1 \\\\\n",
    "3 & 4\n",
    "\\end{bmatrix}^{-1} \\cdot\n",
    "\\begin{bmatrix}\n",
    "5 \\\\\n",
    "10\n",
    "\\end{bmatrix}\n",
    "\\]"
   ]
  },
  {
   "cell_type": "code",
   "execution_count": null,
   "id": "02673a25",
   "metadata": {},
   "outputs": [],
   "source": [
    "# Find the inverse of a matrix [[2, 1], [3, 4]]\n",
    "\n",
    "import numpy as np\n",
    "\n",
    "A = np.array([[2, 1], [3, 4]])\n",
    "A_inv = np.linalg.inv(A)\n",
    "print(A_inv)"
   ]
  },
  {
   "cell_type": "code",
   "execution_count": null,
   "id": "f4f93e46",
   "metadata": {},
   "outputs": [],
   "source": [
    "[[ 0.8 -0.2]\n",
    " [-0.6  0.4]]"
   ]
  },
  {
   "cell_type": "markdown",
   "id": "ebff6ef0",
   "metadata": {},
   "source": [
    "\\[\n",
    "I \\cdot \\begin{bmatrix}\n",
    "x \\\\\n",
    "y\n",
    "\\end{bmatrix} =\n",
    "\\begin{bmatrix}\n",
    "0.8 & -0.2 \\\\\n",
    "-0.6 & 0.4\n",
    "\\end{bmatrix} \\cdot\n",
    "\\begin{bmatrix}\n",
    "5 \\\\\n",
    "10\n",
    "\\end{bmatrix}\n",
    "\\]"
   ]
  },
  {
   "cell_type": "markdown",
   "id": "9e6e5da8",
   "metadata": {},
   "source": [
    "\\[\n",
    "\\begin{bmatrix}\n",
    "x \\\\\n",
    "y\n",
    "\\end{bmatrix} =\n",
    "\\begin{bmatrix}\n",
    "2 \\\\\n",
    "1\n",
    "\\end{bmatrix}\n",
    "\\]"
   ]
  },
  {
   "cell_type": "markdown",
   "id": "f5a42b3b",
   "metadata": {},
   "source": [
    "# Features can be represented as vectors and matrices"
   ]
  },
  {
   "cell_type": "markdown",
   "id": "75edcf3a",
   "metadata": {},
   "source": [
    "In machine learning, we can represent features as vectors. For example, if we have a dataset of 100 people, and each person has 3 features: age, height, and weight, then we can represent each person as a vector of 3 elements."
   ]
  },
  {
   "cell_type": "markdown",
   "id": "4cb3abdd",
   "metadata": {},
   "source": [
    "\\[\n",
    "person = \\begin{bmatrix}\n",
    "age \\\\\n",
    "height \\\\\n",
    "weight\n",
    "\\end{bmatrix}\n",
    "\\]"
   ]
  },
  {
   "cell_type": "markdown",
   "id": "08af762b",
   "metadata": {},
   "source": [
    "and we can represent the whole dataset as a matrix of 100 rows and 3 columns."
   ]
  },
  {
   "cell_type": "markdown",
   "id": "43388073",
   "metadata": {},
   "source": [
    "\\[\n",
    "people = \\begin{bmatrix}\n",
    "person_{1}^{T} \\\\\n",
    "person_{2}^{T} \\\\\n",
    "\\vdots \\\\\n",
    "person_{100}^{T}\n",
    "\\end{bmatrix}\n",
    "= \\begin{bmatrix}\n",
    "age_{1} & height_{1} & weight_{1} \\\\\n",
    "age_{2} & height_{2} & weight_{2} \\\\\n",
    "\\vdots & \\vdots & \\vdots \\\\\n",
    "age_{100} & height_{100} & weight_{100}\n",
    "\\end{bmatrix}\n",
    "\\]"
   ]
  },
  {
   "cell_type": "markdown",
   "id": "4d5ddc95",
   "metadata": {},
   "source": [
    "# Sigma Notation"
   ]
  },
  {
   "cell_type": "markdown",
   "id": "b6c5e8c7",
   "metadata": {},
   "source": [
    "Sigma notation is a way to write a sum of many terms. For example, the following is a sum of 5 terms"
   ]
  },
  {
   "cell_type": "markdown",
   "id": "9e0ba2e0",
   "metadata": {},
   "source": [
    "\\[\n",
    "\\sum_{i=1}^{5} x_{i} = x_{1} + x_{2} + x_{3} + x_{4} + x_{5}\n",
    "\\]"
   ]
  },
  {
   "cell_type": "markdown",
   "id": "400e2604",
   "metadata": {},
   "source": [
    "In a code it’s just a for loop"
   ]
  },
  {
   "cell_type": "code",
   "execution_count": null,
   "id": "242cc5b2",
   "metadata": {},
   "outputs": [],
   "source": [
    "sum = 0\n",
    "for i in range(1, 6):\n",
    "    sum += x[i]"
   ]
  },
  {
   "cell_type": "markdown",
   "id": "66023fc3",
   "metadata": {},
   "source": [
    "# Product Notation"
   ]
  },
  {
   "cell_type": "markdown",
   "id": "51b8a8bf",
   "metadata": {},
   "source": [
    "Product notation is a way to write a product of many terms. For example, the following is a product of 5 terms"
   ]
  },
  {
   "cell_type": "markdown",
   "id": "792c96a7",
   "metadata": {},
   "source": [
    "\\[\n",
    "\\prod_{i=1}^{5} x_{i} = x_{1} \\times x_{2} \\times x_{3} \\times x_{4} \\times x_{5}\n",
    "\\]"
   ]
  },
  {
   "cell_type": "markdown",
   "id": "ccb70fe4",
   "metadata": {},
   "source": [
    "In a code it’s just a for loop"
   ]
  },
  {
   "cell_type": "code",
   "execution_count": null,
   "id": "586afecf",
   "metadata": {},
   "outputs": [],
   "source": [
    "product = 1\n",
    "for i in range(1, 6):\n",
    "    product *= x[i]"
   ]
  }
 ],
 "metadata": {},
 "nbformat": 4,
 "nbformat_minor": 5
}
