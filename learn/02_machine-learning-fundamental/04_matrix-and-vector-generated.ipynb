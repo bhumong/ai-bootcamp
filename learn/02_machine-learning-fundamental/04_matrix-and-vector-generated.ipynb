{
 "cells": [
  {
   "cell_type": "markdown",
   "id": "d26bb8b4",
   "metadata": {},
   "source": [
    "# Scalar"
   ]
  },
  {
   "cell_type": "markdown",
   "id": "2dd43da0",
   "metadata": {},
   "source": [
    "Scalar is a single number."
   ]
  },
  {
   "cell_type": "markdown",
   "id": "2e5585ec",
   "metadata": {},
   "source": [
    "Example: x = 6"
   ]
  },
  {
   "cell_type": "markdown",
   "id": "105f7713",
   "metadata": {},
   "source": [
    "# Vector"
   ]
  },
  {
   "cell_type": "markdown",
   "id": "f26385b6",
   "metadata": {},
   "source": [
    "Vector is a one-dimensional array of numbers."
   ]
  },
  {
   "cell_type": "markdown",
   "id": "1bd86dee",
   "metadata": {},
   "source": [
    "Example: x = [1, 2] or usually written as"
   ]
  },
  {
   "cell_type": "markdown",
   "id": "d388c48e",
   "metadata": {},
   "source": [
    "\\[\n",
    "\\begin{bmatrix}\n",
    "1 \\\\\n",
    "2\n",
    "\\end{bmatrix}\n",
    "\\]"
   ]
  },
  {
   "cell_type": "markdown",
   "id": "debba890",
   "metadata": {},
   "source": [
    "# Multiplication of Scalar and Vector"
   ]
  },
  {
   "cell_type": "markdown",
   "id": "793b8be1",
   "metadata": {},
   "source": [
    "Vector can be multiplied by a scalar. For example, if we multiply the vector above by 2, written as"
   ]
  },
  {
   "cell_type": "markdown",
   "id": "b6a06e05",
   "metadata": {},
   "source": [
    "\\[\n",
    "2 \\begin{bmatrix}\n",
    "1 \\\\\n",
    "2 \\\\\n",
    "3\n",
    "\\end{bmatrix}\n",
    "\\]"
   ]
  },
  {
   "cell_type": "markdown",
   "id": "df10d2ec",
   "metadata": {},
   "source": [
    "then the result is"
   ]
  },
  {
   "cell_type": "markdown",
   "id": "ef01969f",
   "metadata": {},
   "source": [
    "\\[\n",
    "\\begin{bmatrix}\n",
    "2 \\\\\n",
    "4 \\\\\n",
    "6\n",
    "\\end{bmatrix}\n",
    "\\]"
   ]
  },
  {
   "cell_type": "markdown",
   "id": "c9c4444b",
   "metadata": {},
   "source": [
    "# Addition of Scalar and Vector"
   ]
  },
  {
   "cell_type": "markdown",
   "id": "a046c709",
   "metadata": {},
   "source": [
    "This operation is not defined. Scalar can’t be added to vector."
   ]
  },
  {
   "cell_type": "markdown",
   "id": "cb2c0ba5",
   "metadata": {},
   "source": [
    "# Addition of Vectors"
   ]
  },
  {
   "cell_type": "markdown",
   "id": "938e44d2",
   "metadata": {},
   "source": [
    "Vectors can be added together"
   ]
  },
  {
   "cell_type": "markdown",
   "id": "84c4430c",
   "metadata": {},
   "source": [
    "\\[\n",
    "\\begin{bmatrix}\n",
    "1 \\\\\n",
    "2 \\\\\n",
    "3\n",
    "\\end{bmatrix} +\n",
    "\\begin{bmatrix}\n",
    "4 \\\\\n",
    "5 \\\\\n",
    "6\n",
    "\\end{bmatrix} =\n",
    "\\begin{bmatrix}\n",
    "5 \\\\\n",
    "7 \\\\\n",
    "9\n",
    "\\end{bmatrix}\n",
    "\\]"
   ]
  },
  {
   "cell_type": "markdown",
   "id": "17d76d25",
   "metadata": {},
   "source": [
    "When the dimension of the vectors are different, the addition is not defined. The following is NOT allowed"
   ]
  },
  {
   "cell_type": "markdown",
   "id": "9dd71765",
   "metadata": {},
   "source": [
    "\\[\n",
    "\\begin{bmatrix}\n",
    "1 \\\\\n",
    "2 \\\\\n",
    "3\n",
    "\\end{bmatrix} +\n",
    "\\begin{bmatrix}\n",
    "4 \\\\\n",
    "5 \\\\\n",
    "\\end{bmatrix}\n",
    "\\]"
   ]
  },
  {
   "cell_type": "markdown",
   "id": "11c6d1cc",
   "metadata": {},
   "source": [
    "# Vector dot product"
   ]
  },
  {
   "cell_type": "markdown",
   "id": "4a8e25ea",
   "metadata": {},
   "source": [
    "Vector dot product is a way to multiply vectors together. The result is a scalar."
   ]
  },
  {
   "cell_type": "markdown",
   "id": "cf6d00bc",
   "metadata": {},
   "source": [
    "\\[\n",
    "\\begin{bmatrix}\n",
    "1 \\\\\n",
    "2 \\\\\n",
    "3\n",
    "\\end{bmatrix} \\cdot\n",
    "\\begin{bmatrix}\n",
    "4 \\\\\n",
    "5 \\\\\n",
    "6\n",
    "\\end{bmatrix} =\n",
    "1 \\times 4 + 2 \\times 5 + 3 \\times 6 = 32\n",
    "\\]"
   ]
  },
  {
   "cell_type": "markdown",
   "id": "a5a4e859",
   "metadata": {},
   "source": [
    "Not:"
   ]
  },
  {
   "cell_type": "markdown",
   "id": "bea5b3cf",
   "metadata": {},
   "source": [
    "\\[\n",
    "\\begin{bmatrix}\n",
    "1 \\\\\n",
    "2 \\\\\n",
    "3\n",
    "\\end{bmatrix} \\cdot\n",
    "\\begin{bmatrix}\n",
    "4 \\\\\n",
    "5 \\\\\n",
    "6\n",
    "\\end{bmatrix}\n",
    "=\n",
    "\\begin{bmatrix}\n",
    "1 * 4 \\\\\n",
    "2 * 5 \\\\\n",
    "3 * 6\n",
    "\\end{bmatrix}\n",
    "\\]"
   ]
  },
  {
   "cell_type": "markdown",
   "id": "4fff2c68",
   "metadata": {},
   "source": [
    "# Matrix"
   ]
  },
  {
   "cell_type": "markdown",
   "id": "16d72446",
   "metadata": {},
   "source": [
    "Matrix is a two-dimensional array of numbers. Matrix is usually written as"
   ]
  },
  {
   "cell_type": "markdown",
   "id": "662a4312",
   "metadata": {},
   "source": [
    "\\[\n",
    "\\begin{bmatrix}\n",
    "1 & 2 & 3 \\\\\n",
    "4 & 5 & 6\n",
    "\\end{bmatrix}\n",
    "\\]"
   ]
  },
  {
   "cell_type": "markdown",
   "id": "5418b71f",
   "metadata": {},
   "source": [
    "# Matrix dimension"
   ]
  },
  {
   "cell_type": "markdown",
   "id": "ddbfc329",
   "metadata": {},
   "source": [
    "The dimension of a matrix is the number of rows x columns. The above matrix has dimension of 2 x 3."
   ]
  },
  {
   "cell_type": "markdown",
   "id": "c935789a",
   "metadata": {},
   "source": [
    "# Relation to Vector"
   ]
  },
  {
   "cell_type": "markdown",
   "id": "b8a4b128",
   "metadata": {},
   "source": [
    "A vector is a matrix with only one column. The following vector is a matrix with dimension of 3 x 1"
   ]
  },
  {
   "cell_type": "markdown",
   "id": "8d7bcca4",
   "metadata": {},
   "source": [
    "\\[\n",
    "\\begin{bmatrix}\n",
    "1 \\\\\n",
    "2 \\\\\n",
    "3\n",
    "\\end{bmatrix}\n",
    "\\]"
   ]
  },
  {
   "cell_type": "markdown",
   "id": "567588ee",
   "metadata": {},
   "source": [
    "# Matrix addition"
   ]
  },
  {
   "cell_type": "markdown",
   "id": "05c2b51b",
   "metadata": {},
   "source": [
    "Matrix can be added together if they have the same dimension. For example, the following is allowed"
   ]
  },
  {
   "cell_type": "markdown",
   "id": "3efa9167",
   "metadata": {},
   "source": [
    "\\[\n",
    "\\begin{bmatrix}\n",
    "1 & 2 & 3 \\\\\n",
    "4 & 5 & 6\n",
    "\\end{bmatrix} +\n",
    "\\begin{bmatrix}\n",
    "7 & 8 & 9 \\\\\n",
    "10 & 11 & 12\n",
    "\\end{bmatrix} =\n",
    "\\begin{bmatrix}\n",
    "8 & 10 & 12 \\\\\n",
    "14 & 16 & 18\n",
    "\\end{bmatrix}\n",
    "\\]"
   ]
  },
  {
   "cell_type": "markdown",
   "id": "1d52b79e",
   "metadata": {},
   "source": [
    "# Matrix dot product"
   ]
  },
  {
   "cell_type": "markdown",
   "id": "11f1fd00",
   "metadata": {},
   "source": [
    "Matrix dot product is defined as follows"
   ]
  },
  {
   "cell_type": "markdown",
   "id": "62800bc8",
   "metadata": {},
   "source": [
    "\\[\n",
    "\\begin{bmatrix}\n",
    "x_{00} & x_{01} \\\\\n",
    "x_{10} & x_{11}\n",
    "\\end{bmatrix} \\cdot\n",
    "\\begin{bmatrix}\n",
    "y_{00} \\\\\n",
    "y_{10}\n",
    "\\end{bmatrix} =\n",
    "\\begin{bmatrix}\n",
    "x_{00} y_{00} + x_{01} y_{10} \\\\\n",
    "x_{10} y_{00} + x_{11} y_{10}\n",
    "\\end{bmatrix}\n",
    "\\]"
   ]
  },
  {
   "cell_type": "markdown",
   "id": "05a948fc",
   "metadata": {},
   "source": [
    "For example:"
   ]
  },
  {
   "cell_type": "markdown",
   "id": "ff511d5d",
   "metadata": {},
   "source": [
    "\\[\n",
    "\\begin{bmatrix}\n",
    "1 & 2 \\\\\n",
    "3 & 4\n",
    "\\end{bmatrix} \\cdot\n",
    "\\begin{bmatrix}\n",
    "5 \\\\\n",
    "6\n",
    "\\end{bmatrix} =\n",
    "\\begin{bmatrix}\n",
    "1 \\times 5 + 2 \\times 6 \\\\\n",
    "3 \\times 5 + 4 \\times 6\n",
    "\\end{bmatrix} =\n",
    "\\begin{bmatrix}\n",
    "17 \\\\\n",
    "39\n",
    "\\end{bmatrix}\n",
    "\\]"
   ]
  },
  {
   "cell_type": "markdown",
   "id": "52dafea0",
   "metadata": {},
   "source": [
    "If X dimension is m x n and Y dimension is n x p, then the result of X dot Y is m x p."
   ]
  },
  {
   "cell_type": "markdown",
   "id": "9063378b",
   "metadata": {},
   "source": [
    "So, m x n dot o x p is not defined if n is not equal to o. Example"
   ]
  },
  {
   "cell_type": "markdown",
   "id": "3975fdd3",
   "metadata": {},
   "source": [
    "\\[\n",
    "\\begin{bmatrix}\n",
    "1 & 2 \\\\\n",
    "3 & 4\n",
    "\\end{bmatrix} \\cdot\n",
    "\\begin{bmatrix}\n",
    "5 & 6 \\\\\n",
    "7 & 8 \\\\\n",
    "9 & 10\n",
    "\\end{bmatrix} = undefined\n",
    "\\]"
   ]
  },
  {
   "cell_type": "markdown",
   "id": "7a02f23e",
   "metadata": {},
   "source": [
    "The order of the dot product is important."
   ]
  },
  {
   "cell_type": "markdown",
   "id": "9399036f",
   "metadata": {},
   "source": [
    "\\[\n",
    "A \\cdot B \\neq B \\cdot A\n",
    "\\]"
   ]
  },
  {
   "cell_type": "markdown",
   "id": "dd1378dd",
   "metadata": {},
   "source": [
    "For example, if we flip the order of the above dot product, we get"
   ]
  },
  {
   "cell_type": "markdown",
   "id": "3123f07c",
   "metadata": {},
   "source": [
    "\\[\n",
    "\\begin{bmatrix}\n",
    "5 \\\\\n",
    "6\n",
    "\\end{bmatrix} \\cdot\n",
    "\\begin{bmatrix}\n",
    "1 & 2 \\\\\n",
    "3 & 4\n",
    "\\end{bmatrix} = undefined\n",
    "\\]"
   ]
  },
  {
   "cell_type": "markdown",
   "id": "c43c3243",
   "metadata": {},
   "source": [
    "Matrix dot product is associative:"
   ]
  },
  {
   "cell_type": "markdown",
   "id": "d4776d09",
   "metadata": {},
   "source": [
    "\\[\n",
    "A \\cdot (B \\cdot C) = (A \\cdot B) \\cdot C\n",
    "\\]"
   ]
  },
  {
   "cell_type": "markdown",
   "id": "3c8d8dac",
   "metadata": {},
   "source": [
    "# Matrix Transpose"
   ]
  },
  {
   "cell_type": "markdown",
   "id": "3d94aab9",
   "metadata": {},
   "source": [
    "Matrix transpose is a matrix that is flipped over its diagonal. For example, the transpose of the following matrix is"
   ]
  },
  {
   "cell_type": "markdown",
   "id": "07a631b7",
   "metadata": {},
   "source": [
    "\\[\n",
    "\\begin{bmatrix}\n",
    "1 & 2 \\\\\n",
    "3 & 4\n",
    "\\end{bmatrix}^T =\n",
    "\\begin{bmatrix}\n",
    "1 & 3 \\\\\n",
    "2 & 4\n",
    "\\end{bmatrix}\n",
    "\\]"
   ]
  },
  {
   "cell_type": "markdown",
   "id": "da8a3967",
   "metadata": {},
   "source": [
    "\\[\n",
    "\\begin{bmatrix}\n",
    "1 \\\\\n",
    "2 \\\\\n",
    "3\n",
    "\\end{bmatrix}^T =\n",
    "\\begin{bmatrix}\n",
    "1 & 2 & 3\n",
    "\\end{bmatrix}\n",
    "\\]"
   ]
  },
  {
   "cell_type": "markdown",
   "id": "6dbf7cc5",
   "metadata": {},
   "source": [
    "# Identity Matrix"
   ]
  },
  {
   "cell_type": "markdown",
   "id": "ffe81066",
   "metadata": {},
   "source": [
    "Identity matrix is a matrix that doesn’t change any vector when multiplied by that vector"
   ]
  },
  {
   "cell_type": "markdown",
   "id": "deb57d4a",
   "metadata": {},
   "source": [
    "\\[\n",
    "I \\cdot \\begin{bmatrix}\n",
    "x_0 \\\\\n",
    "x_1 \\\\\n",
    "x_2\n",
    "\\end{bmatrix} =\n",
    "\\begin{bmatrix}\n",
    "x_0 \\\\\n",
    "x_1 \\\\\n",
    "x_2\n",
    "\\end{bmatrix}\n",
    "\\]"
   ]
  },
  {
   "cell_type": "markdown",
   "id": "319c414a",
   "metadata": {},
   "source": [
    "Example of 2 x 2 identity matrix"
   ]
  },
  {
   "cell_type": "markdown",
   "id": "318ca996",
   "metadata": {},
   "source": [
    "\\[\n",
    "\\begin{bmatrix}\n",
    "1 & 0 \\\\\n",
    "0 & 1\n",
    "\\end{bmatrix}\n",
    "\\]"
   ]
  },
  {
   "cell_type": "markdown",
   "id": "edb474e0",
   "metadata": {},
   "source": [
    "Example of 3 x 3 identity matrix"
   ]
  },
  {
   "cell_type": "markdown",
   "id": "98d1cc9c",
   "metadata": {},
   "source": [
    "\\[\n",
    "\\begin{bmatrix}\n",
    "1 & 0 & 0 \\\\\n",
    "0 & 1 & 0 \\\\\n",
    "0 & 0 & 1\n",
    "\\end{bmatrix}\n",
    "\\]"
   ]
  },
  {
   "cell_type": "markdown",
   "id": "43235d1c",
   "metadata": {},
   "source": [
    "# Inverse Matrix"
   ]
  },
  {
   "cell_type": "markdown",
   "id": "06d31c84",
   "metadata": {},
   "source": [
    "Inverse matrix is a matrix that when multiplied by the original matrix, results in an identity matrix:"
   ]
  },
  {
   "cell_type": "markdown",
   "id": "3f1d4486",
   "metadata": {},
   "source": [
    "\\[\n",
    "A \\cdot A^{-1} = I\n",
    "\\]"
   ]
  },
  {
   "cell_type": "markdown",
   "id": "99e1bdb6",
   "metadata": {},
   "source": [
    "# Linear Equation"
   ]
  },
  {
   "cell_type": "markdown",
   "id": "c5ceba67",
   "metadata": {},
   "source": [
    "\\[\n",
    "2x + 1y = 5\n",
    "\\]"
   ]
  },
  {
   "cell_type": "markdown",
   "id": "b007a94a",
   "metadata": {},
   "source": [
    "\\[\n",
    "3x + 4y = 10\n",
    "\\]"
   ]
  },
  {
   "cell_type": "markdown",
   "id": "ddf8930a",
   "metadata": {},
   "source": [
    "It can modeled as a matrix equation"
   ]
  },
  {
   "cell_type": "markdown",
   "id": "a83f57a2",
   "metadata": {},
   "source": [
    "\\[\n",
    "\\begin{bmatrix}\n",
    "2 & 1 \\\\\n",
    "3 & 4\n",
    "\\end{bmatrix} \\cdot\n",
    "\\begin{bmatrix}\n",
    "x \\\\\n",
    "y\n",
    "\\end{bmatrix} =\n",
    "\\begin{bmatrix}\n",
    "5 \\\\\n",
    "10\n",
    "\\end{bmatrix}\n",
    "\\]"
   ]
  },
  {
   "cell_type": "markdown",
   "id": "735018a2",
   "metadata": {},
   "source": [
    "Let’s multiple both side with the inverse of the matrix"
   ]
  },
  {
   "cell_type": "markdown",
   "id": "8e9800ac",
   "metadata": {},
   "source": [
    "\\[\n",
    "\\begin{bmatrix}\n",
    "2 & 1 \\\\\n",
    "3 & 4\n",
    "\\end{bmatrix}^{-1} \\cdot\n",
    "\\begin{bmatrix}\n",
    "2 & 1 \\\\\n",
    "3 & 4\n",
    "\\end{bmatrix} \\cdot\n",
    "\\begin{bmatrix}\n",
    "x \\\\\n",
    "y\n",
    "\\end{bmatrix} =\n",
    "\\begin{bmatrix}\n",
    "2 & 1 \\\\\n",
    "3 & 4\n",
    "\\end{bmatrix}^{-1} \\cdot\n",
    "\\begin{bmatrix}\n",
    "5 \\\\\n",
    "10\n",
    "\\end{bmatrix}\n",
    "\\]"
   ]
  },
  {
   "cell_type": "markdown",
   "id": "abe8de19",
   "metadata": {},
   "source": [
    "\\[\n",
    "I \\cdot \\begin{bmatrix}\n",
    "x \\\\\n",
    "y\n",
    "\\end{bmatrix} =\n",
    "\\begin{bmatrix}\n",
    "2 & 1 \\\\\n",
    "3 & 4\n",
    "\\end{bmatrix}^{-1} \\cdot\n",
    "\\begin{bmatrix}\n",
    "5 \\\\\n",
    "10\n",
    "\\end{bmatrix}\n",
    "\\]"
   ]
  },
  {
   "cell_type": "code",
   "execution_count": null,
   "id": "c86806ca",
   "metadata": {},
   "outputs": [],
   "source": [
    "# Find the inverse of a matrix [[2, 1], [3, 4]]\n",
    "\n",
    "import numpy as np\n",
    "\n",
    "A = np.array([[2, 1], [3, 4]])\n",
    "A_inv = np.linalg.inv(A)\n",
    "print(A_inv)"
   ]
  },
  {
   "cell_type": "code",
   "execution_count": null,
   "id": "e0816ee6",
   "metadata": {},
   "outputs": [],
   "source": [
    "[[ 0.8 -0.2]\n",
    " [-0.6  0.4]]"
   ]
  },
  {
   "cell_type": "markdown",
   "id": "6ad2666c",
   "metadata": {},
   "source": [
    "\\[\n",
    "I \\cdot \\begin{bmatrix}\n",
    "x \\\\\n",
    "y\n",
    "\\end{bmatrix} =\n",
    "\\begin{bmatrix}\n",
    "0.8 & -0.2 \\\\\n",
    "-0.6 & 0.4\n",
    "\\end{bmatrix} \\cdot\n",
    "\\begin{bmatrix}\n",
    "5 \\\\\n",
    "10\n",
    "\\end{bmatrix}\n",
    "\\]"
   ]
  },
  {
   "cell_type": "markdown",
   "id": "d3a97ce6",
   "metadata": {},
   "source": [
    "\\[\n",
    "\\begin{bmatrix}\n",
    "x \\\\\n",
    "y\n",
    "\\end{bmatrix} =\n",
    "\\begin{bmatrix}\n",
    "2 \\\\\n",
    "1\n",
    "\\end{bmatrix}\n",
    "\\]"
   ]
  },
  {
   "cell_type": "markdown",
   "id": "b35d0df6",
   "metadata": {},
   "source": [
    "# Features can be represented as vectors and matrices"
   ]
  },
  {
   "cell_type": "markdown",
   "id": "3625c7f6",
   "metadata": {},
   "source": [
    "In machine learning, we can represent features as vectors. For example, if we have a dataset of 100 people, and each person has 3 features: age, height, and weight, then we can represent each person as a vector of 3 elements."
   ]
  },
  {
   "cell_type": "markdown",
   "id": "7afe4d19",
   "metadata": {},
   "source": [
    "\\[\n",
    "person = \\begin{bmatrix}\n",
    "age \\\\\n",
    "height \\\\\n",
    "weight\n",
    "\\end{bmatrix}\n",
    "\\]"
   ]
  },
  {
   "cell_type": "markdown",
   "id": "5a95e6e9",
   "metadata": {},
   "source": [
    "and we can represent the whole dataset as a matrix of 100 rows and 3 columns."
   ]
  },
  {
   "cell_type": "markdown",
   "id": "2cb0e0bc",
   "metadata": {},
   "source": [
    "\\[\n",
    "people = \\begin{bmatrix}\n",
    "person_{1}^{T} \\\\\n",
    "person_{2}^{T} \\\\\n",
    "\\vdots \\\\\n",
    "person_{100}^{T}\n",
    "\\end{bmatrix}\n",
    "= \\begin{bmatrix}\n",
    "age_{1} & height_{1} & weight_{1} \\\\\n",
    "age_{2} & height_{2} & weight_{2} \\\\\n",
    "\\vdots & \\vdots & \\vdots \\\\\n",
    "age_{100} & height_{100} & weight_{100}\n",
    "\\end{bmatrix}\n",
    "\\]"
   ]
  },
  {
   "cell_type": "markdown",
   "id": "dd93f332",
   "metadata": {},
   "source": [
    "# Sigma Notation"
   ]
  },
  {
   "cell_type": "markdown",
   "id": "49e4516e",
   "metadata": {},
   "source": [
    "Sigma notation is a way to write a sum of many terms. For example, the following is a sum of 5 terms"
   ]
  },
  {
   "cell_type": "markdown",
   "id": "b95b435f",
   "metadata": {},
   "source": [
    "\\[\n",
    "\\sum_{i=1}^{5} x_{i} = x_{1} + x_{2} + x_{3} + x_{4} + x_{5}\n",
    "\\]"
   ]
  },
  {
   "cell_type": "markdown",
   "id": "2c96291b",
   "metadata": {},
   "source": [
    "In a code it’s just a for loop"
   ]
  },
  {
   "cell_type": "code",
   "execution_count": null,
   "id": "0eb66008",
   "metadata": {},
   "outputs": [],
   "source": [
    "sum = 0\n",
    "for i in range(1, 6):\n",
    "    sum += x[i]"
   ]
  },
  {
   "cell_type": "markdown",
   "id": "8404e2b8",
   "metadata": {},
   "source": [
    "# Product Notation"
   ]
  },
  {
   "cell_type": "markdown",
   "id": "9bd44e36",
   "metadata": {},
   "source": [
    "Product notation is a way to write a product of many terms. For example, the following is a product of 5 terms"
   ]
  },
  {
   "cell_type": "markdown",
   "id": "0f455abf",
   "metadata": {},
   "source": [
    "\\[\n",
    "\\prod_{i=1}^{5} x_{i} = x_{1} \\times x_{2} \\times x_{3} \\times x_{4} \\times x_{5}\n",
    "\\]"
   ]
  },
  {
   "cell_type": "markdown",
   "id": "aa4b603f",
   "metadata": {},
   "source": [
    "In a code it’s just a for loop"
   ]
  },
  {
   "cell_type": "code",
   "execution_count": null,
   "id": "63f70efd",
   "metadata": {},
   "outputs": [],
   "source": [
    "product = 1\n",
    "for i in range(1, 6):\n",
    "    product *= x[i]"
   ]
  }
 ],
 "metadata": {},
 "nbformat": 4,
 "nbformat_minor": 5
}
