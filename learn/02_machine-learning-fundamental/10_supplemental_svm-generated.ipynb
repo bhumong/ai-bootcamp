{
 "cells": [
  {
   "cell_type": "markdown",
   "id": "dfe03079",
   "metadata": {},
   "source": [
    "source: [https://ai-bootcamp.ruangguru.com/learn/02_machine-learning-fundamental/10_supplemental_svm.html](https://ai-bootcamp.ruangguru.com/learn/02_machine-learning-fundamental/10_supplemental_svm.html)"
   ]
  },
  {
   "cell_type": "markdown",
   "id": "40105908",
   "metadata": {},
   "source": [
    "> Note: Materi ini merupakan materi supplemental, tidak bersifat wajib. Namun akan mendukung kalian menjadi seorangAI engineeryang handal."
   ]
  },
  {
   "cell_type": "markdown",
   "id": "ccb4a538",
   "metadata": {},
   "source": [
    "Note: Materi ini merupakan materi supplemental, tidak bersifat wajib. Namun akan mendukung kalian menjadi seorang AI engineer yang handal."
   ]
  },
  {
   "cell_type": "markdown",
   "id": "93c5b4ab",
   "metadata": {},
   "source": [
    "# Direction of a vector"
   ]
  },
  {
   "cell_type": "markdown",
   "id": "cefe9b70",
   "metadata": {},
   "source": [
    "Vector consists of two components: direction and magnitude. For the direction of a vector, we basically “remove” the magnitude of the vector and keep only the direction. That’s why the formula as simple as below:"
   ]
  },
  {
   "cell_type": "markdown",
   "id": "b28e95dc",
   "metadata": {},
   "source": [
    "\n",
    "\\[\n",
    "\\text{Direction of vector } x = \\frac{x}{\\|x\\|}\n",
    "\\]\n"
   ]
  },
  {
   "cell_type": "markdown",
   "id": "3daf22d4",
   "metadata": {},
   "source": [
    "So the direction of a vector is a vector that reduced to only have a “direction” component where the magnitude of the vector is 1. The vector that have the magnitude of 1 is called a unit vector."
   ]
  },
  {
   "cell_type": "markdown",
   "id": "738cffe3",
   "metadata": {},
   "source": [
    "# Moving in the direction of a vector"
   ]
  },
  {
   "cell_type": "markdown",
   "id": "2628b53f",
   "metadata": {},
   "source": [
    "We can move an x vector several “steps” in the direction of y by using the formula below:"
   ]
  },
  {
   "cell_type": "markdown",
   "id": "92115d9a",
   "metadata": {},
   "source": [
    "\n",
    "\\[\n",
    "\\text{Move } x \\text{ in the direction of } y = x + k \\frac{y}{\\|y\\|}\n",
    "\\]\n"
   ]
  },
  {
   "cell_type": "markdown",
   "id": "0e5b3760",
   "metadata": {},
   "source": [
    "Where k is the number of steps we want to move in the direction of y."
   ]
  },
  {
   "cell_type": "code",
   "execution_count": null,
   "id": "0cc74523",
   "metadata": {},
   "outputs": [],
   "source": [
    "import matplotlib.pyplot as plt\n",
    "import numpy as np\n",
    "\n",
    "# Original vector\n",
    "original_vector = np.array([2, 3])\n",
    "\n",
    "# Direction vector\n",
    "direction_vector = np.array([4, 2])\n",
    "\n",
    "# Normalizing the direction vector\n",
    "normalized_direction_vector = direction_vector / np.linalg.norm(direction_vector)\n",
    "\n",
    "# Moving the original vector 2 units in the direction of the direction vector\n",
    "new_vector = original_vector + 2 * normalized_direction_vector\n",
    "new_vector\n",
    "\n",
    "\n",
    "# Creating the plot\n",
    "fig, ax = plt.subplots()\n",
    "\n",
    "# Original vector\n",
    "ax.quiver(0, 0, original_vector[0], original_vector[1], angles='xy', scale_units='xy', scale=1, color='blue', label='Original Vector (2,3)')\n",
    "\n",
    "ax.quiver(0, 0, direction_vector[0], direction_vector[1], angles='xy', scale_units='xy', scale=1, color='cyan', label='Vector that we get the direction from (4,2)')\n",
    "\n",
    "ax.quiver(original_vector[0], original_vector[1], normalized_direction_vector[0] * 2, normalized_direction_vector[1] *2, angles='xy', scale_units='xy', scale=1, color='violet', \n",
    "label='Direction from original vector to new vector')\n",
    "\n",
    "# New vector\n",
    "ax.quiver(0, 0, new_vector[0], new_vector[1], angles='xy', scale_units='xy', scale=1, color='green', label='New Vector (~3.79, ~3.89)')\n",
    "\n",
    "# Setting the limits\n",
    "ax.set_xlim([0, 10])\n",
    "ax.set_ylim([0, 10])\n",
    "\n",
    "# Adding labels and title\n",
    "ax.set_xlabel('X-axis')\n",
    "ax.set_ylabel('Y-axis')\n",
    "ax.set_title('Vector Transformation')\n",
    "ax.legend()\n",
    "\n",
    "# Display the plot\n",
    "plt.grid(True)\n",
    "plt.show()"
   ]
  },
  {
   "cell_type": "markdown",
   "id": "db37bcce",
   "metadata": {},
   "source": []
  },
  {
   "cell_type": "markdown",
   "id": "16977d45",
   "metadata": {},
   "source": [
    "Play around with above formula by changing the value of k and see how the vector x move in the direction of y."
   ]
  },
  {
   "cell_type": "markdown",
   "id": "0c667f8e",
   "metadata": {},
   "source": [
    "# Dot product of a vector with itself"
   ]
  },
  {
   "cell_type": "markdown",
   "id": "b2c3fb7d",
   "metadata": {},
   "source": [
    "One formula that we need for the next section is the dot product of a vector with itself. The formula is as simple as below:"
   ]
  },
  {
   "cell_type": "markdown",
   "id": "1a7be89d",
   "metadata": {},
   "source": [
    "\n",
    "\\[\n",
    "x \\cdot x = \\|x\\|^2\n",
    "\\]\n"
   ]
  },
  {
   "cell_type": "markdown",
   "id": "a8580470",
   "metadata": {},
   "source": [
    "So basically the dot product of a vector with itself is the square of the magnitude of the vector."
   ]
  },
  {
   "cell_type": "markdown",
   "id": "15c2f1c4",
   "metadata": {},
   "source": [
    "# Deriving the margin width formula"
   ]
  },
  {
   "cell_type": "markdown",
   "id": "f981b756",
   "metadata": {},
   "source": [
    "# All the equations needed to derive the margin width formula"
   ]
  },
  {
   "cell_type": "markdown",
   "id": "24a4d62e",
   "metadata": {},
   "source": [
    "So before we’ve already learned that SVM is about finding the most optimal hyperplane, and the most optimal hyperplane is the one that has the largest margin. But how do we calculate the margin width?"
   ]
  },
  {
   "cell_type": "markdown",
   "id": "5040ed1e",
   "metadata": {},
   "source": [
    "The width of the margin can be thought of as the distance of any of the possible vector inside of the hyperplane to their corresponding support vector."
   ]
  },
  {
   "cell_type": "markdown",
   "id": "79cbfaeb",
   "metadata": {},
   "source": [
    "Because it doesn’t matter of which class to choose to get the width (as the margin should have the same width for both classes), we can choose below formula for our calculation:"
   ]
  },
  {
   "cell_type": "markdown",
   "id": "e76c4e91",
   "metadata": {},
   "source": [
    "\n",
    "\\[\n",
    "\\text{Support Vector for class 1}: w \\cdot x + b = 1 \\\\\n",
    "\\]\n"
   ]
  },
  {
   "cell_type": "markdown",
   "id": "8ec7c878",
   "metadata": {},
   "source": [
    "Where $w$ is the weight vector, $x$ is the input vector, and $b$ is the bias."
   ]
  },
  {
   "cell_type": "markdown",
   "id": "682710f0",
   "metadata": {},
   "source": [
    "And let’s have another constraint that we’ve learned about hyperplane"
   ]
  },
  {
   "cell_type": "markdown",
   "id": "8770fbb7",
   "metadata": {},
   "source": [
    "\n",
    "\\[\n",
    "\\text{Hyperplane}: w \\cdot x + b = 0 \\\\\n",
    "\\]\n"
   ]
  },
  {
   "cell_type": "markdown",
   "id": "66dc856c",
   "metadata": {},
   "source": [
    "# Quick intuition"
   ]
  },
  {
   "cell_type": "code",
   "execution_count": null,
   "id": "ef526249",
   "metadata": {},
   "outputs": [],
   "source": [
    "import matplotlib.pyplot as plt\n",
    "import numpy as np\n",
    "from ipywidgets import interact, widgets, Layout\n",
    "\n",
    "coefficients =[[ 1, -0.6]]\n",
    "intercept_ = [-0.6]\n",
    "\n",
    "# Normalizing the direction vector\n",
    "normalized_direction_vector = coefficients / np.linalg.norm(coefficients)\n",
    "\n",
    "\n",
    "def update_plot(number_of_moves):\n",
    "    original_vector = np.array([4, 5.67])\n",
    "    # Moving the original vector in the direction of the direction vector\n",
    "    new_vector = original_vector + number_of_moves * normalized_direction_vector\n",
    "    \n",
    "    # Creating the plot\n",
    "    fig, ax = plt.subplots()\n",
    "\n",
    "    x_vals = np.linspace(-10, 10, 100)\n",
    "    y_vals = (-(coefficients[0][0] * x_vals) - intercept_[0]) / coefficients[0][1]\n",
    "    plt.plot(x_vals, y_vals, 'green', label='Hyperplane')\n",
    "\n",
    " #Plotting the line that goes through the support vector with class 1\n",
    "    y_vals_1 = (1-(coefficients[0][0] * x_vals) - intercept_[0]) / coefficients[0][1]\n",
    "    plt.plot(x_vals, y_vals_1, 'purple', label='Line that goes through support vector with class 1', linestyle='--')\n",
    "    \n",
    "    #Plotting the line that goes through the support vector with class -1\n",
    "    y_vals_2 = (-1-(coefficients[0][0] * x_vals) - intercept_[0]) / coefficients[0][1]\n",
    "    plt.plot(x_vals, y_vals_2, 'purple', label='Line that goes through support vector with class -1', linestyle='--')\n",
    "\n",
    "    # Setting the limits\n",
    "    ax.set_xlim([0, 10])\n",
    "    ax.set_ylim([0, 10])\n",
    "\n",
    "    # Adding labels and title\n",
    "    ax.set_xlabel('X-axis')\n",
    "    ax.set_ylabel('Y-axis')\n",
    "    ax.set_title('Vector Transformation')\n",
    "    ax.legend()\n",
    "\n",
    "    plt.scatter(new_vector[0][0], new_vector[0][1], color='red', label='New Vector')\n",
    "    # Display the plot\n",
    "    plt.grid(True)\n",
    "    plt.show()\n",
    "\n",
    "# Create an interactive slider for number_of_moves ranging from 1 to 10\n",
    "number_of_moves_slider = widgets.FloatSlider(value=0, min=0, max=10, step=0.1, description='k: ', layout=Layout(width='50%'))\n",
    "interact(update_plot, number_of_moves=number_of_moves_slider)"
   ]
  },
  {
   "cell_type": "code",
   "execution_count": null,
   "id": "498d9639",
   "metadata": {},
   "outputs": [],
   "source": [
    "<function __main__.update_plot(number_of_moves)>"
   ]
  },
  {
   "cell_type": "markdown",
   "id": "2c0fd3eb",
   "metadata": {},
   "source": [
    "So on above interactive plot, you can try to slide the slider to change the value of $k$ and see how the red points move. Several things to notice here:"
   ]
  },
  {
   "cell_type": "markdown",
   "id": "c010edd4",
   "metadata": {},
   "source": [
    "If you’re feeling confident with above points, let’s move on to the next section."
   ]
  },
  {
   "cell_type": "markdown",
   "id": "00c0de29",
   "metadata": {},
   "source": [
    "# Calculating"
   ]
  },
  {
   "cell_type": "markdown",
   "id": "d852b5b0",
   "metadata": {},
   "source": [
    "So given $x$ a vector inside the hyperplane:"
   ]
  },
  {
   "cell_type": "markdown",
   "id": "68401edd",
   "metadata": {},
   "source": [
    "\n",
    "\\[\n",
    "\\text{Hyperplane}: w \\cdot x + b = 0 \\\\\n",
    "\\]\n"
   ]
  },
  {
   "cell_type": "markdown",
   "id": "4d4634c9",
   "metadata": {},
   "source": [
    "And given $y$ is a vector inside the support vector that is the counterpart of $x$ when $x$ moves several unit of direction towards the support vector:"
   ]
  },
  {
   "cell_type": "markdown",
   "id": "210af0be",
   "metadata": {},
   "source": [
    "\n",
    "\\[\n",
    "y = x + k \\times \\text{direction towards the support vector} \\\\\n",
    "\\]\n"
   ]
  },
  {
   "cell_type": "markdown",
   "id": "8ddb7a73",
   "metadata": {},
   "source": [
    "The direction itself is the same direction as the $w$ vector, and the $k$ is the unit that $x$ needs to reach to $y$."
   ]
  },
  {
   "cell_type": "markdown",
   "id": "cffac69d",
   "metadata": {},
   "source": [
    "\n",
    "\\[\n",
    "y = x + k \\frac{w}{\\|w\\|} \\\\\n",
    "\\]\n"
   ]
  },
  {
   "cell_type": "markdown",
   "id": "3c8d8c45",
   "metadata": {},
   "source": [
    "The $y$ itself as said above is a support vector of $x$ counterpart, which means:"
   ]
  },
  {
   "cell_type": "markdown",
   "id": "6c15fc43",
   "metadata": {},
   "source": [
    "\n",
    "\\[\n",
    "w \\cdot y + b = 1 \\\\\n",
    "\\]\n",
    " \n",
    "\\[\n",
    "w \\cdot (x + k \\frac{w}{\\|w\\|}) + b = 1 \\\\\n",
    "\\]\n",
    " \n",
    "\\[\n",
    "w \\cdot x + k \\frac{w \\cdot w}{\\|w\\|} + b = 1 \\\\\n",
    "\\]\n"
   ]
  },
  {
   "cell_type": "markdown",
   "id": "e2cd6065",
   "metadata": {},
   "source": [
    "\n",
    "\\[\n",
    "w \\cdot x + b + k \\frac{w \\cdot w}{\\|w\\|}  = 1 \\\\\n",
    "\\]\n"
   ]
  },
  {
   "cell_type": "markdown",
   "id": "9ce5941c",
   "metadata": {},
   "source": [
    "And we already know that $w \\cdot x + b = 0$, so:"
   ]
  },
  {
   "cell_type": "markdown",
   "id": "54b3fc2b",
   "metadata": {},
   "source": [
    "\n",
    "\\[\n",
    "k \\frac{w \\cdot w}{\\|w\\|}  = 1 \\\\\n",
    "\\]\n",
    " \n",
    "\\[\n",
    "k \\frac{\\|w\\|^2}{\\|w\\|}  = 1 \\\\\n",
    "\\]\n",
    " \n",
    "\\[\n",
    "k \\|w\\|  = 1 \\\\\n",
    "\\]\n",
    " \n",
    "\\[\n",
    "k = \\frac{1}{\\|w\\|} \\\\\n",
    "\\]\n"
   ]
  },
  {
   "cell_type": "markdown",
   "id": "92825b0f",
   "metadata": {},
   "source": [
    "So for the width of the margin, because it’s distance is basically the same between two classes, we can just multiply the $k$ with 2:"
   ]
  },
  {
   "cell_type": "markdown",
   "id": "60264d0c",
   "metadata": {},
   "source": [
    "\n",
    "\\[\n",
    "\\text{Width of the margin} = 2k = \\frac{2}{\\|w\\|} \\\\\n",
    "\\]\n"
   ]
  },
  {
   "cell_type": "markdown",
   "id": "7ab0d6b5",
   "metadata": {},
   "source": [
    "Then we can see that if we want to maximize the margin width, we need to minimize the $\\|w\\|$ (the magnitude of vector w) because it’s in the denominator, the lower the value of $\\|w\\|$, the higher the width of the margin."
   ]
  }
 ],
 "metadata": {},
 "nbformat": 4,
 "nbformat_minor": 5
}
