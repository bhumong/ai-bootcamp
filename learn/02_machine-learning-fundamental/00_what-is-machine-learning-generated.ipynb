{
 "cells": [
  {
   "cell_type": "markdown",
   "id": "b50c43d0",
   "metadata": {},
   "source": [
    "source: [link](https://ai-bootcamp.ruangguru.com/learn/02_machine-learning-fundamental/00_what-is-machine-learning.html)"
   ]
  },
  {
   "cell_type": "markdown",
   "id": "7759ff9e",
   "metadata": {},
   "source": [
    "# What is Machine Learning"
   ]
  },
  {
   "cell_type": "code",
   "execution_count": null,
   "id": "84fd2418",
   "metadata": {},
   "outputs": [],
   "source": [
    "!pip install graphviz\n",
    "!pip install fastbook\n",
    "!pip install fastai"
   ]
  },
  {
   "cell_type": "code",
   "execution_count": null,
   "id": "7beb454c",
   "metadata": {},
   "outputs": [],
   "source": [
    "from fastbook import *"
   ]
  },
  {
   "cell_type": "markdown",
   "id": "364abb4b",
   "metadata": {},
   "source": [
    "# Traditional Programming"
   ]
  },
  {
   "cell_type": "code",
   "execution_count": null,
   "id": "d092572b",
   "metadata": {},
   "outputs": [],
   "source": [
    "gv('''program[shape=box3d]\n",
    "inputs->program->results''')"
   ]
  },
  {
   "cell_type": "markdown",
   "id": "3571f7eb",
   "metadata": {},
   "source": []
  },
  {
   "cell_type": "markdown",
   "id": "dc622a2d",
   "metadata": {},
   "source": [
    "Program:"
   ]
  },
  {
   "cell_type": "markdown",
   "id": "1cd2dca9",
   "metadata": {},
   "source": [
    "- if else\n",
    "- loop\n",
    "- function\n",
    "- etc"
   ]
  },
  {
   "cell_type": "markdown",
   "id": "a00eb787",
   "metadata": {},
   "source": [
    "We transfer our knowledge to the computer."
   ]
  },
  {
   "cell_type": "markdown",
   "id": "b16a227f",
   "metadata": {},
   "source": [
    "# AI vs ML vs DL"
   ]
  },
  {
   "cell_type": "markdown",
   "id": "93968cbd",
   "metadata": {},
   "source": []
  },
  {
   "cell_type": "markdown",
   "id": "7b5eb50d",
   "metadata": {},
   "source": [
    "![Image](https://storage.googleapis.com/rg-ai-bootcamp/machine-learning/ml-ai-dl-min.png)"
   ]
  },
  {
   "cell_type": "markdown",
   "id": "c19c7b9e",
   "metadata": {},
   "source": [
    "# Artificial Intelligence"
   ]
  },
  {
   "cell_type": "markdown",
   "id": "602d764d",
   "metadata": {},
   "source": [
    "> Artificial Intelligence (AI) is a branch of computer science that aims to create systems capable of performing tasks that would normally require human intelligence. These tasks include problem solving, understanding language, recognizing patterns, learning from experience, and making decisions."
   ]
  },
  {
   "cell_type": "markdown",
   "id": "dc2844f6",
   "metadata": {},
   "source": [
    "Artificial Intelligence (AI) is a branch of computer science that aims to create systems capable of performing tasks that would normally require human intelligence. These tasks include problem solving, understanding language, recognizing patterns, learning from experience, and making decisions."
   ]
  },
  {
   "cell_type": "markdown",
   "id": "53120024",
   "metadata": {},
   "source": [
    "Non-machine learning AIs requires human to program the rules (teach the computer how to do it)."
   ]
  },
  {
   "cell_type": "markdown",
   "id": "754d4fdd",
   "metadata": {},
   "source": [
    "Some example of non-machine learning AIs:"
   ]
  },
  {
   "cell_type": "markdown",
   "id": "cd4e62ce",
   "metadata": {},
   "source": [
    "# Rule-base System"
   ]
  },
  {
   "cell_type": "code",
   "execution_count": null,
   "id": "892b013f",
   "metadata": {},
   "outputs": [],
   "source": [
    "def predict_illness(symptoms: list[str]) -> str:\n",
    "    if 'fever' in symptoms:\n",
    "        if 'cough' in symptoms:\n",
    "            return 'flu'\n",
    "        elif' sore throat' in symptoms:\n",
    "            return 'cold'\n",
    "        elif 'vomitting' in symptoms:\n",
    "            return 'food poisoning'\n",
    "        else:\n",
    "            return 'unknown'\n",
    "    elif 'rash' in symptoms:\n",
    "        return 'measles'\n",
    "    else:\n",
    "        return 'unknown'"
   ]
  },
  {
   "cell_type": "code",
   "execution_count": null,
   "id": "0190eb8e",
   "metadata": {},
   "outputs": [],
   "source": [
    "print(predict_illness(['fever', 'cough']))\n",
    "print(predict_illness(['fever', 'vomitting']))"
   ]
  },
  {
   "cell_type": "code",
   "execution_count": null,
   "id": "4df6155e",
   "metadata": {},
   "outputs": [],
   "source": [
    "flu\n",
    "food poisoning"
   ]
  },
  {
   "cell_type": "markdown",
   "id": "a91fe8c5",
   "metadata": {},
   "source": [
    "# Constraint Satisfaction Problem"
   ]
  },
  {
   "cell_type": "code",
   "execution_count": null,
   "id": "f9325a1f",
   "metadata": {},
   "outputs": [],
   "source": [
    "def is_valid(board, row, col):\n",
    "    # Check if there is a queen in the same row\n",
    "    for i in range(col):\n",
    "        if board[row][i] == 1:\n",
    "            return False\n",
    "\n",
    "    # Check if there is a queen in the upper diagonal\n",
    "    for i, j in zip(range(row, -1, -1), range(col, -1, -1)):\n",
    "        if board[i][j] == 1:\n",
    "            return False\n",
    "\n",
    "    # Check if there is a queen in the lower diagonal\n",
    "    for i, j in zip(range(row, len(board)), range(col, -1, -1)):\n",
    "        if board[i][j] == 1:\n",
    "            return False\n",
    "\n",
    "    return True\n",
    "\n",
    "def solve_queen(board, col):\n",
    "    # Base case: all queens are placed\n",
    "    if col == len(board):\n",
    "        print_board(board)\n",
    "        return True\n",
    "\n",
    "    # Recursive case: try to place a queen in each row of the current column\n",
    "    for i in range(len(board)):\n",
    "        if is_valid(board, i, col):\n",
    "            board[i][col] = 1\n",
    "            solve_queen(board, col + 1)\n",
    "            board[i][col] = 0\n",
    "\n",
    "    return False\n",
    "\n",
    "def print_board(board):\n",
    "    for row in board:\n",
    "        for cell in row:\n",
    "            if cell == 1:\n",
    "                print(\"Q\", end=\" \")\n",
    "            else:\n",
    "                print(\".\", end=\" \")\n",
    "        print()\n",
    "    print()\n",
    "\n",
    "# Initialize the board\n",
    "n = 4\n",
    "board = [[0] * n for _ in range(n)]\n",
    "\n",
    "# Solve the eight queen problem\n",
    "solve_queen(board, 0)"
   ]
  },
  {
   "cell_type": "code",
   "execution_count": null,
   "id": "6f4ece3c",
   "metadata": {},
   "outputs": [],
   "source": [
    ". . Q . \n",
    "Q . . . \n",
    ". . . Q \n",
    ". Q . . \n",
    "\n",
    ". Q . . \n",
    ". . . Q \n",
    "Q . . . \n",
    ". . Q . \n"
   ]
  },
  {
   "cell_type": "code",
   "execution_count": null,
   "id": "1c122649",
   "metadata": {},
   "outputs": [],
   "source": [
    "False"
   ]
  },
  {
   "cell_type": "markdown",
   "id": "24c75a01",
   "metadata": {},
   "source": [
    "# Machine Learning"
   ]
  },
  {
   "cell_type": "markdown",
   "id": "7f5f56e7",
   "metadata": {},
   "source": [
    "> Machine Learning algorithms are able to learn without being explicitly programmed."
   ]
  },
  {
   "cell_type": "markdown",
   "id": "ce2dbfc7",
   "metadata": {},
   "source": [
    "Machine Learning algorithms are able to learn without being explicitly programmed."
   ]
  },
  {
   "cell_type": "markdown",
   "id": "2f0a00ac",
   "metadata": {},
   "source": [
    "Instead of writing the rules, we give the computer the data and let the computer learn the rules by itself."
   ]
  },
  {
   "cell_type": "markdown",
   "id": "cc223884",
   "metadata": {},
   "source": [
    "Describe to me - in words - how to recognize apple?"
   ]
  },
  {
   "cell_type": "markdown",
   "id": "0a97ec8a",
   "metadata": {},
   "source": []
  },
  {
   "cell_type": "markdown",
   "id": "cb9673f4",
   "metadata": {},
   "source": [
    "![Image](https://upload.wikimedia.org/wikipedia/commons/thumb/5/5b/The_SugarBee_Apple_now_grown_in_Washington_State.jpg/240px-The_SugarBee_Apple_now_grown_in_Washington_State.jpg)"
   ]
  },
  {
   "cell_type": "markdown",
   "id": "9e15f853",
   "metadata": {},
   "source": [
    "How about this, is it an apple?"
   ]
  },
  {
   "cell_type": "markdown",
   "id": "8a1dde12",
   "metadata": {},
   "source": []
  },
  {
   "cell_type": "markdown",
   "id": "a17d8a8e",
   "metadata": {},
   "source": [
    "![Image](https://upload.wikimedia.org/wikipedia/commons/thumb/f/f6/Cherry_season_%2848216568227%29.jpg/640px-Cherry_season_%2848216568227%29.jpg)"
   ]
  },
  {
   "cell_type": "markdown",
   "id": "a34c41af",
   "metadata": {},
   "source": [
    "Human learns by examples. We learn to recognize apple by seeing a lot of apple. We learn to recognize cherry by seeing a lot of cherry."
   ]
  },
  {
   "cell_type": "markdown",
   "id": "8eb8c0d7",
   "metadata": {},
   "source": [
    "Machine Learning consists of two stages:"
   ]
  },
  {
   "cell_type": "markdown",
   "id": "ff5a9166",
   "metadata": {},
   "source": [
    "# Training Stage"
   ]
  },
  {
   "cell_type": "markdown",
   "id": "f9686533",
   "metadata": {},
   "source": [
    "We only give the computer the data and the expected output. The computer will learn the rules by itself. The output is the model."
   ]
  },
  {
   "cell_type": "code",
   "execution_count": null,
   "id": "904eb9ce",
   "metadata": {},
   "outputs": [],
   "source": [
    "gv('''training[shape=box3d]\n",
    "model[shape=box3d]\n",
    "    inputs->training->model\n",
    "   results->training''')"
   ]
  },
  {
   "cell_type": "markdown",
   "id": "5cbe4c66",
   "metadata": {},
   "source": []
  },
  {
   "cell_type": "markdown",
   "id": "7e541a32",
   "metadata": {},
   "source": [
    "# Inference Stage"
   ]
  },
  {
   "cell_type": "markdown",
   "id": "18176b4c",
   "metadata": {},
   "source": [
    "Once the model is created, we can use the model to predict the output for new data."
   ]
  },
  {
   "cell_type": "code",
   "execution_count": null,
   "id": "32618457",
   "metadata": {},
   "outputs": [],
   "source": [
    "gv('''\n",
    "model[shape=box3d]\n",
    "inputs -> model -> results \n",
    "   ''')"
   ]
  },
  {
   "cell_type": "markdown",
   "id": "cbe80191",
   "metadata": {},
   "source": []
  },
  {
   "cell_type": "markdown",
   "id": "8fef5a71",
   "metadata": {},
   "source": [
    "Let’s see an example in action."
   ]
  },
  {
   "cell_type": "markdown",
   "id": "9e1a4072",
   "metadata": {},
   "source": [
    "# Decision Tree"
   ]
  },
  {
   "cell_type": "code",
   "execution_count": null,
   "id": "b5581138",
   "metadata": {},
   "outputs": [],
   "source": [
    "gv('''\n",
    "    node [shape=box]\n",
    "    inputs -> fever [label=\"symptoms\"]\n",
    "    fever -> cough [label=\"yes\"]\n",
    "    cough -> sore_throat [label=\"no\"]\n",
    "    cough -> flu [label=\"yes\"]\n",
    "    cough -> unknown [label=\"no\"]\n",
    "    sore_throat -> vomitting [label=\"yes\"]\n",
    "    sore_throat -> rash [label=\"no\"]\n",
    "    vomitting -> food_poisoning [label=\"yes\"]\n",
    "    vomitting -> unknown [label=\"no\"]\n",
    "    rash -> measles [label=\"yes\"]\n",
    "    rash -> unknown [label=\"no\"]\n",
    "''') "
   ]
  },
  {
   "cell_type": "markdown",
   "id": "71203dba",
   "metadata": {},
   "source": []
  },
  {
   "cell_type": "markdown",
   "id": "5595dc15",
   "metadata": {},
   "source": [
    "Differs to the traditional programming, we don’t need to write the rules. We only need to give the computer the data and the expected output. The computer will build the decision tree by itself."
   ]
  },
  {
   "cell_type": "markdown",
   "id": "148139c6",
   "metadata": {},
   "source": [
    "Let’s try to build decision tree to predict whether a titanic passenger survived or not."
   ]
  },
  {
   "cell_type": "code",
   "execution_count": null,
   "id": "ca3887d7",
   "metadata": {},
   "outputs": [],
   "source": [
    "from sklearn.tree import DecisionTreeClassifier, plot_tree\n",
    "import matplotlib.pyplot as plt\n",
    "import pandas as pd\n",
    "\n",
    "# Load the data\n",
    "url = 'https://raw.githubusercontent.com/datasciencedojo/datasets/master/titanic.csv'\n",
    "df = pd.read_csv(url)\n",
    "df.head()"
   ]
  },
  {
   "cell_type": "markdown",
   "id": "a823c9b2",
   "metadata": {},
   "source": [
    "|  | PassengerId | Survived | Pclass | Name | Sex | Age | SibSp | Parch | Ticket | Fare | Cabin | Embarked |\n",
    "| --- | --- | --- | --- | --- | --- | --- | --- | --- | --- | --- | --- | --- |\n",
    "| 0 | 1 | 0 | 3 | Braund, Mr. Owen Harris | male | 22.0 | 1 | 0 | A/5 21171 | 7.2500 | NaN | S |\n",
    "| 1 | 2 | 1 | 1 | Cumings, Mrs. John Bradley (Florence Briggs Th... | female | 38.0 | 1 | 0 | PC 17599 | 71.2833 | C85 | C |\n",
    "| 2 | 3 | 1 | 3 | Heikkinen, Miss. Laina | female | 26.0 | 0 | 0 | STON/O2. 3101282 | 7.9250 | NaN | S |\n",
    "| 3 | 4 | 1 | 1 | Futrelle, Mrs. Jacques Heath (Lily May Peel) | female | 35.0 | 1 | 0 | 113803 | 53.1000 | C123 | S |\n",
    "| 4 | 5 | 0 | 3 | Allen, Mr. William Henry | male | 35.0 | 0 | 0 | 373450 | 8.0500 | NaN | S |"
   ]
  },
  {
   "cell_type": "markdown",
   "id": "9b1c49dc",
   "metadata": {},
   "source": [
    "Let’s preprocess the data first."
   ]
  },
  {
   "cell_type": "code",
   "execution_count": null,
   "id": "6b07c348",
   "metadata": {},
   "outputs": [],
   "source": [
    "# Define the dependent variable\n",
    "dep_var = 'Survived'\n",
    "\n",
    "# Define the categorical and continuous variables\n",
    "cat_names = ['Pclass', 'Sex', 'Embarked']\n",
    "cont_names = ['Age', 'SibSp', 'Parch', 'Fare']\n",
    "\n",
    "# Preprocess the data\n",
    "df = df[cat_names + cont_names + [dep_var]].dropna()\n",
    "df[cat_names] = df[cat_names].apply(lambda x: pd.factorize(x)[0])\n",
    "X = df[cat_names + cont_names]\n",
    "y = df[dep_var]"
   ]
  },
  {
   "cell_type": "code",
   "execution_count": null,
   "id": "2352d434",
   "metadata": {},
   "outputs": [],
   "source": [
    "X.head()"
   ]
  },
  {
   "cell_type": "markdown",
   "id": "67e58a1a",
   "metadata": {},
   "source": [
    "|  | Pclass | Sex | Embarked | Age | SibSp | Parch | Fare |\n",
    "| --- | --- | --- | --- | --- | --- | --- | --- |\n",
    "| 0 | 0 | 0 | 0 | 22.0 | 1 | 0 | 7.2500 |\n",
    "| 1 | 1 | 1 | 1 | 38.0 | 1 | 0 | 71.2833 |\n",
    "| 2 | 0 | 1 | 0 | 26.0 | 0 | 0 | 7.9250 |\n",
    "| 3 | 1 | 1 | 0 | 35.0 | 1 | 0 | 53.1000 |\n",
    "| 4 | 0 | 0 | 0 | 35.0 | 0 | 0 | 8.0500 |"
   ]
  },
  {
   "cell_type": "code",
   "execution_count": null,
   "id": "83cd3f43",
   "metadata": {},
   "outputs": [],
   "source": [
    "y.head() "
   ]
  },
  {
   "cell_type": "code",
   "execution_count": null,
   "id": "0ad66730",
   "metadata": {},
   "outputs": [],
   "source": [
    "0    0\n",
    "1    1\n",
    "2    1\n",
    "3    1\n",
    "4    0\n",
    "Name: Survived, dtype: int64"
   ]
  },
  {
   "cell_type": "code",
   "execution_count": null,
   "id": "335961db",
   "metadata": {},
   "outputs": [],
   "source": [
    "# Create the decision tree model\n",
    "tree = DecisionTreeClassifier(max_depth=3)\n",
    "tree.fit(X, y)\n",
    "\n",
    "# Print the decision tree\n",
    "plt.figure(figsize=(10, 8))\n",
    "plot_tree(tree, feature_names=cat_names+cont_names, class_names=['Not Survived', 'Survived'], filled=True)\n",
    "plt.show()"
   ]
  },
  {
   "cell_type": "markdown",
   "id": "5f2013d5",
   "metadata": {},
   "source": []
  },
  {
   "cell_type": "code",
   "execution_count": null,
   "id": "7903f647",
   "metadata": {},
   "outputs": [],
   "source": [
    "# Use the tree to infer\n",
    "\n",
    "tree.predict([[1, 1, 0, 35.0, 1, 0, 52.1000]])"
   ]
  },
  {
   "cell_type": "code",
   "execution_count": null,
   "id": "7157e402",
   "metadata": {},
   "outputs": [],
   "source": [
    "/Users/ruangguru/.pyenv/versions/3.11.1/lib/python3.11/site-packages/sklearn/base.py:439: UserWarning: X does not have valid feature names, but DecisionTreeClassifier was fitted with feature names\n",
    "  warnings.warn("
   ]
  },
  {
   "cell_type": "code",
   "execution_count": null,
   "id": "289d6dd3",
   "metadata": {},
   "outputs": [],
   "source": [
    "array([1])"
   ]
  },
  {
   "cell_type": "markdown",
   "id": "c2e58e0f",
   "metadata": {},
   "source": [
    "# What is Gini?"
   ]
  },
  {
   "cell_type": "markdown",
   "id": "9de791ba",
   "metadata": {},
   "source": [
    "Gini is a measure of impurity. The lower the gini, the purer the node."
   ]
  },
  {
   "cell_type": "markdown",
   "id": "dae708c8",
   "metadata": {},
   "source": [
    "\n",
    "\\[Gini = 1 - \\sum_{i=1}^{n} p_i^2\\]\n"
   ]
  },
  {
   "cell_type": "markdown",
   "id": "7eb1ef65",
   "metadata": {},
   "source": []
  },
  {
   "cell_type": "markdown",
   "id": "6fc4ebe3",
   "metadata": {},
   "source": [
    "![Image](https://storage.googleapis.com/lds-media/images/gini-impurity-diagram.width-1200.png)"
   ]
  },
  {
   "cell_type": "markdown",
   "id": "ec6d3c53",
   "metadata": {},
   "source": [
    "Source: Learndatasci.com"
   ]
  },
  {
   "cell_type": "markdown",
   "id": "2420d3fc",
   "metadata": {},
   "source": [
    "Depends on how we split the data, we can get different purity."
   ]
  },
  {
   "cell_type": "markdown",
   "id": "a427dc9c",
   "metadata": {},
   "source": []
  },
  {
   "cell_type": "markdown",
   "id": "99f925a3",
   "metadata": {},
   "source": [
    "![Image](https://ekamperi.github.io/images/decision_trees/pure_vs_impure_node.png)"
   ]
  },
  {
   "cell_type": "markdown",
   "id": "2e2ae364",
   "metadata": {},
   "source": [
    "Source: ekamperi.github.io"
   ]
  },
  {
   "cell_type": "markdown",
   "id": "cc001670",
   "metadata": {},
   "source": [
    "# Deep Learning"
   ]
  },
  {
   "cell_type": "markdown",
   "id": "742ff04b",
   "metadata": {},
   "source": [
    "Deep Learning is a subset of Machine Learning."
   ]
  },
  {
   "cell_type": "markdown",
   "id": "5d37264d",
   "metadata": {},
   "source": [
    "Deep Learning was inspired by the structure and function of the brain, namely the interconnecting of many neurons."
   ]
  },
  {
   "cell_type": "markdown",
   "id": "e231b5f5",
   "metadata": {},
   "source": [
    "However, as the field of AI has grown, and the intricacies of the human brain have been studied more, the inspiration has shifted more towards inspiration by the brain rather than duplication of it."
   ]
  },
  {
   "cell_type": "markdown",
   "id": "6984a11d",
   "metadata": {},
   "source": []
  },
  {
   "cell_type": "markdown",
   "id": "15ff454e",
   "metadata": {},
   "source": [
    "![Image](https://upload.wikimedia.org/wikipedia/commons/thumb/1/10/Blausen_0657_MultipolarNeuron.png/375px-Blausen_0657_MultipolarNeuron.png)"
   ]
  },
  {
   "cell_type": "markdown",
   "id": "e96f4a5b",
   "metadata": {},
   "source": [
    "ANNs frequently outperform other ML techniques on very large and complex problems"
   ]
  },
  {
   "cell_type": "markdown",
   "id": "c0f28fd1",
   "metadata": {},
   "source": []
  },
  {
   "cell_type": "markdown",
   "id": "ecf51e01",
   "metadata": {},
   "source": [
    "![Image](https://storage.googleapis.com/rg-ai-bootcamp/machine-learning/neural-network-min.png)"
   ]
  }
 ],
 "metadata": {},
 "nbformat": 4,
 "nbformat_minor": 5
}
