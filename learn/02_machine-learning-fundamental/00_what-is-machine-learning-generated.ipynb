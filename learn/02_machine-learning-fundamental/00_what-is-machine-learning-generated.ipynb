{
 "cells": [
  {
   "cell_type": "markdown",
   "id": "4fa33ff0",
   "metadata": {},
   "source": [
    "source: [link](https://ai-bootcamp.ruangguru.com/learn/02_machine-learning-fundamental/00_what-is-machine-learning.html)"
   ]
  },
  {
   "cell_type": "markdown",
   "id": "845d1623",
   "metadata": {},
   "source": [
    "# What is Machine Learning"
   ]
  },
  {
   "cell_type": "code",
   "execution_count": null,
   "id": "b3e1a21c",
   "metadata": {},
   "outputs": [],
   "source": [
    "!pip install graphviz\n",
    "!pip install fastbook\n",
    "!pip install fastai"
   ]
  },
  {
   "cell_type": "code",
   "execution_count": null,
   "id": "889c3b50",
   "metadata": {},
   "outputs": [],
   "source": [
    "from fastbook import *"
   ]
  },
  {
   "cell_type": "markdown",
   "id": "c55619a6",
   "metadata": {},
   "source": [
    "# Traditional Programming"
   ]
  },
  {
   "cell_type": "code",
   "execution_count": null,
   "id": "13046b14",
   "metadata": {},
   "outputs": [],
   "source": [
    "gv('''program[shape=box3d]\n",
    "inputs->program->results''')"
   ]
  },
  {
   "cell_type": "markdown",
   "id": "0a4d2b87",
   "metadata": {},
   "source": []
  },
  {
   "cell_type": "markdown",
   "id": "d868444a",
   "metadata": {},
   "source": [
    "Program:"
   ]
  },
  {
   "cell_type": "markdown",
   "id": "7ccce037",
   "metadata": {},
   "source": [
    "- if else\n",
    "- loop\n",
    "- function\n",
    "- etc"
   ]
  },
  {
   "cell_type": "markdown",
   "id": "f9d39373",
   "metadata": {},
   "source": [
    "We transfer our knowledge to the computer."
   ]
  },
  {
   "cell_type": "markdown",
   "id": "667770f5",
   "metadata": {},
   "source": [
    "# AI vs ML vs DL"
   ]
  },
  {
   "cell_type": "markdown",
   "id": "42483c20",
   "metadata": {},
   "source": []
  },
  {
   "cell_type": "markdown",
   "id": "5b397150",
   "metadata": {},
   "source": [
    "![Image](https://storage.googleapis.com/rg-ai-bootcamp/machine-learning/ml-ai-dl-min.png)"
   ]
  },
  {
   "cell_type": "markdown",
   "id": "201fff14",
   "metadata": {},
   "source": [
    "# Artificial Intelligence"
   ]
  },
  {
   "cell_type": "markdown",
   "id": "fa96f567",
   "metadata": {},
   "source": [
    "Artificial Intelligence (AI) is a branch of computer science that aims to create systems capable of performing tasks that would normally require human intelligence. These tasks include problem solving, understanding language, recognizing patterns, learning from experience, and making decisions."
   ]
  },
  {
   "cell_type": "markdown",
   "id": "d3dea6c7",
   "metadata": {},
   "source": [
    "Non-machine learning AIs requires human to program the rules (teach the computer how to do it)."
   ]
  },
  {
   "cell_type": "markdown",
   "id": "0c6df53f",
   "metadata": {},
   "source": [
    "Some example of non-machine learning AIs:"
   ]
  },
  {
   "cell_type": "markdown",
   "id": "9e5875a9",
   "metadata": {},
   "source": [
    "# Rule-base System"
   ]
  },
  {
   "cell_type": "code",
   "execution_count": null,
   "id": "3aecbc00",
   "metadata": {},
   "outputs": [],
   "source": [
    "def predict_illness(symptoms: list[str]) -> str:\n",
    "    if 'fever' in symptoms:\n",
    "        if 'cough' in symptoms:\n",
    "            return 'flu'\n",
    "        elif' sore throat' in symptoms:\n",
    "            return 'cold'\n",
    "        elif 'vomitting' in symptoms:\n",
    "            return 'food poisoning'\n",
    "        else:\n",
    "            return 'unknown'\n",
    "    elif 'rash' in symptoms:\n",
    "        return 'measles'\n",
    "    else:\n",
    "        return 'unknown'"
   ]
  },
  {
   "cell_type": "code",
   "execution_count": null,
   "id": "dba7d828",
   "metadata": {},
   "outputs": [],
   "source": [
    "print(predict_illness(['fever', 'cough']))\n",
    "print(predict_illness(['fever', 'vomitting']))"
   ]
  },
  {
   "cell_type": "code",
   "execution_count": null,
   "id": "a228a1ad",
   "metadata": {},
   "outputs": [],
   "source": [
    "flu\n",
    "food poisoning"
   ]
  },
  {
   "cell_type": "markdown",
   "id": "002f68a7",
   "metadata": {},
   "source": [
    "# Constraint Satisfaction Problem"
   ]
  },
  {
   "cell_type": "code",
   "execution_count": null,
   "id": "b214ebda",
   "metadata": {},
   "outputs": [],
   "source": [
    "def is_valid(board, row, col):\n",
    "    # Check if there is a queen in the same row\n",
    "    for i in range(col):\n",
    "        if board[row][i] == 1:\n",
    "            return False\n",
    "\n",
    "    # Check if there is a queen in the upper diagonal\n",
    "    for i, j in zip(range(row, -1, -1), range(col, -1, -1)):\n",
    "        if board[i][j] == 1:\n",
    "            return False\n",
    "\n",
    "    # Check if there is a queen in the lower diagonal\n",
    "    for i, j in zip(range(row, len(board)), range(col, -1, -1)):\n",
    "        if board[i][j] == 1:\n",
    "            return False\n",
    "\n",
    "    return True\n",
    "\n",
    "def solve_queen(board, col):\n",
    "    # Base case: all queens are placed\n",
    "    if col == len(board):\n",
    "        print_board(board)\n",
    "        return True\n",
    "\n",
    "    # Recursive case: try to place a queen in each row of the current column\n",
    "    for i in range(len(board)):\n",
    "        if is_valid(board, i, col):\n",
    "            board[i][col] = 1\n",
    "            solve_queen(board, col + 1)\n",
    "            board[i][col] = 0\n",
    "\n",
    "    return False\n",
    "\n",
    "def print_board(board):\n",
    "    for row in board:\n",
    "        for cell in row:\n",
    "            if cell == 1:\n",
    "                print(\"Q\", end=\" \")\n",
    "            else:\n",
    "                print(\".\", end=\" \")\n",
    "        print()\n",
    "    print()\n",
    "\n",
    "# Initialize the board\n",
    "n = 4\n",
    "board = [[0] * n for _ in range(n)]\n",
    "\n",
    "# Solve the eight queen problem\n",
    "solve_queen(board, 0)"
   ]
  },
  {
   "cell_type": "code",
   "execution_count": null,
   "id": "043a7398",
   "metadata": {},
   "outputs": [],
   "source": [
    ". . Q . \n",
    "Q . . . \n",
    ". . . Q \n",
    ". Q . . \n",
    "\n",
    ". Q . . \n",
    ". . . Q \n",
    "Q . . . \n",
    ". . Q . \n"
   ]
  },
  {
   "cell_type": "code",
   "execution_count": null,
   "id": "532b5c35",
   "metadata": {},
   "outputs": [],
   "source": [
    "False"
   ]
  },
  {
   "cell_type": "markdown",
   "id": "33dfd0cb",
   "metadata": {},
   "source": [
    "# Machine Learning"
   ]
  },
  {
   "cell_type": "markdown",
   "id": "e40a349a",
   "metadata": {},
   "source": [
    "Machine Learning algorithms are able to learn without being explicitly programmed."
   ]
  },
  {
   "cell_type": "markdown",
   "id": "b785151a",
   "metadata": {},
   "source": [
    "Instead of writing the rules, we give the computer the data and let the computer learn the rules by itself."
   ]
  },
  {
   "cell_type": "markdown",
   "id": "d5b3a55a",
   "metadata": {},
   "source": [
    "Describe to me - in words - how to recognize apple?"
   ]
  },
  {
   "cell_type": "markdown",
   "id": "932d82b3",
   "metadata": {},
   "source": []
  },
  {
   "cell_type": "markdown",
   "id": "b585e5d1",
   "metadata": {},
   "source": [
    "![Image](https://upload.wikimedia.org/wikipedia/commons/thumb/5/5b/The_SugarBee_Apple_now_grown_in_Washington_State.jpg/240px-The_SugarBee_Apple_now_grown_in_Washington_State.jpg)"
   ]
  },
  {
   "cell_type": "markdown",
   "id": "19a8e779",
   "metadata": {},
   "source": [
    "How about this, is it an apple?"
   ]
  },
  {
   "cell_type": "markdown",
   "id": "057bde8a",
   "metadata": {},
   "source": []
  },
  {
   "cell_type": "markdown",
   "id": "6f3dd340",
   "metadata": {},
   "source": [
    "![Image](https://upload.wikimedia.org/wikipedia/commons/thumb/f/f6/Cherry_season_%2848216568227%29.jpg/640px-Cherry_season_%2848216568227%29.jpg)"
   ]
  },
  {
   "cell_type": "markdown",
   "id": "1f7a6b2d",
   "metadata": {},
   "source": [
    "Human learns by examples. We learn to recognize apple by seeing a lot of apple. We learn to recognize cherry by seeing a lot of cherry."
   ]
  },
  {
   "cell_type": "markdown",
   "id": "231caf69",
   "metadata": {},
   "source": [
    "Machine Learning consists of two stages:"
   ]
  },
  {
   "cell_type": "markdown",
   "id": "043a5106",
   "metadata": {},
   "source": [
    "# Training Stage"
   ]
  },
  {
   "cell_type": "markdown",
   "id": "e7f54fdf",
   "metadata": {},
   "source": [
    "We only give the computer the data and the expected output. The computer will learn the rules by itself. The output is the model."
   ]
  },
  {
   "cell_type": "code",
   "execution_count": null,
   "id": "2f882207",
   "metadata": {},
   "outputs": [],
   "source": [
    "gv('''training[shape=box3d]\n",
    "model[shape=box3d]\n",
    "    inputs->training->model\n",
    "   results->training''')"
   ]
  },
  {
   "cell_type": "markdown",
   "id": "0de961a3",
   "metadata": {},
   "source": []
  },
  {
   "cell_type": "markdown",
   "id": "81818f47",
   "metadata": {},
   "source": [
    "# Inference Stage"
   ]
  },
  {
   "cell_type": "markdown",
   "id": "b139fb43",
   "metadata": {},
   "source": [
    "Once the model is created, we can use the model to predict the output for new data."
   ]
  },
  {
   "cell_type": "code",
   "execution_count": null,
   "id": "0165d155",
   "metadata": {},
   "outputs": [],
   "source": [
    "gv('''\n",
    "model[shape=box3d]\n",
    "inputs -> model -> results \n",
    "   ''')"
   ]
  },
  {
   "cell_type": "markdown",
   "id": "d433eca8",
   "metadata": {},
   "source": []
  },
  {
   "cell_type": "markdown",
   "id": "0531d126",
   "metadata": {},
   "source": [
    "Let’s see an example in action."
   ]
  },
  {
   "cell_type": "markdown",
   "id": "e09787e8",
   "metadata": {},
   "source": [
    "# Decision Tree"
   ]
  },
  {
   "cell_type": "code",
   "execution_count": null,
   "id": "e1adc425",
   "metadata": {},
   "outputs": [],
   "source": [
    "gv('''\n",
    "    node [shape=box]\n",
    "    inputs -> fever [label=\"symptoms\"]\n",
    "    fever -> cough [label=\"yes\"]\n",
    "    cough -> sore_throat [label=\"no\"]\n",
    "    cough -> flu [label=\"yes\"]\n",
    "    cough -> unknown [label=\"no\"]\n",
    "    sore_throat -> vomitting [label=\"yes\"]\n",
    "    sore_throat -> rash [label=\"no\"]\n",
    "    vomitting -> food_poisoning [label=\"yes\"]\n",
    "    vomitting -> unknown [label=\"no\"]\n",
    "    rash -> measles [label=\"yes\"]\n",
    "    rash -> unknown [label=\"no\"]\n",
    "''') "
   ]
  },
  {
   "cell_type": "markdown",
   "id": "896dbee7",
   "metadata": {},
   "source": []
  },
  {
   "cell_type": "markdown",
   "id": "5ad18dc8",
   "metadata": {},
   "source": [
    "Differs to the traditional programming, we don’t need to write the rules. We only need to give the computer the data and the expected output. The computer will build the decision tree by itself."
   ]
  },
  {
   "cell_type": "markdown",
   "id": "af9f40f0",
   "metadata": {},
   "source": [
    "Let’s try to build decision tree to predict whether a titanic passenger survived or not."
   ]
  },
  {
   "cell_type": "code",
   "execution_count": null,
   "id": "7e7e96bc",
   "metadata": {},
   "outputs": [],
   "source": [
    "from sklearn.tree import DecisionTreeClassifier, plot_tree\n",
    "import matplotlib.pyplot as plt\n",
    "import pandas as pd\n",
    "\n",
    "# Load the data\n",
    "url = 'https://raw.githubusercontent.com/datasciencedojo/datasets/master/titanic.csv'\n",
    "df = pd.read_csv(url)\n",
    "df.head()"
   ]
  },
  {
   "cell_type": "markdown",
   "id": "9bd8e8b0",
   "metadata": {},
   "source": [
    "|  | PassengerId | Survived | Pclass | Name | Sex | Age | SibSp | Parch | Ticket | Fare | Cabin | Embarked |\n",
    "| --- | --- | --- | --- | --- | --- | --- | --- | --- | --- | --- | --- | --- |\n",
    "| 0 | 1 | 0 | 3 | Braund, Mr. Owen Harris | male | 22.0 | 1 | 0 | A/5 21171 | 7.2500 | NaN | S |\n",
    "| 1 | 2 | 1 | 1 | Cumings, Mrs. John Bradley (Florence Briggs Th... | female | 38.0 | 1 | 0 | PC 17599 | 71.2833 | C85 | C |\n",
    "| 2 | 3 | 1 | 3 | Heikkinen, Miss. Laina | female | 26.0 | 0 | 0 | STON/O2. 3101282 | 7.9250 | NaN | S |\n",
    "| 3 | 4 | 1 | 1 | Futrelle, Mrs. Jacques Heath (Lily May Peel) | female | 35.0 | 1 | 0 | 113803 | 53.1000 | C123 | S |\n",
    "| 4 | 5 | 0 | 3 | Allen, Mr. William Henry | male | 35.0 | 0 | 0 | 373450 | 8.0500 | NaN | S |"
   ]
  },
  {
   "cell_type": "markdown",
   "id": "4e5f47c9",
   "metadata": {},
   "source": [
    "Let’s preprocess the data first."
   ]
  },
  {
   "cell_type": "code",
   "execution_count": null,
   "id": "8f638cfb",
   "metadata": {},
   "outputs": [],
   "source": [
    "# Define the dependent variable\n",
    "dep_var = 'Survived'\n",
    "\n",
    "# Define the categorical and continuous variables\n",
    "cat_names = ['Pclass', 'Sex', 'Embarked']\n",
    "cont_names = ['Age', 'SibSp', 'Parch', 'Fare']\n",
    "\n",
    "# Preprocess the data\n",
    "df = df[cat_names + cont_names + [dep_var]].dropna()\n",
    "df[cat_names] = df[cat_names].apply(lambda x: pd.factorize(x)[0])\n",
    "X = df[cat_names + cont_names]\n",
    "y = df[dep_var]"
   ]
  },
  {
   "cell_type": "code",
   "execution_count": null,
   "id": "4bd911b1",
   "metadata": {},
   "outputs": [],
   "source": [
    "X.head()"
   ]
  },
  {
   "cell_type": "markdown",
   "id": "db6edcf2",
   "metadata": {},
   "source": [
    "|  | Pclass | Sex | Embarked | Age | SibSp | Parch | Fare |\n",
    "| --- | --- | --- | --- | --- | --- | --- | --- |\n",
    "| 0 | 0 | 0 | 0 | 22.0 | 1 | 0 | 7.2500 |\n",
    "| 1 | 1 | 1 | 1 | 38.0 | 1 | 0 | 71.2833 |\n",
    "| 2 | 0 | 1 | 0 | 26.0 | 0 | 0 | 7.9250 |\n",
    "| 3 | 1 | 1 | 0 | 35.0 | 1 | 0 | 53.1000 |\n",
    "| 4 | 0 | 0 | 0 | 35.0 | 0 | 0 | 8.0500 |"
   ]
  },
  {
   "cell_type": "code",
   "execution_count": null,
   "id": "b2781d06",
   "metadata": {},
   "outputs": [],
   "source": [
    "y.head() "
   ]
  },
  {
   "cell_type": "code",
   "execution_count": null,
   "id": "58ed25a3",
   "metadata": {},
   "outputs": [],
   "source": [
    "0    0\n",
    "1    1\n",
    "2    1\n",
    "3    1\n",
    "4    0\n",
    "Name: Survived, dtype: int64"
   ]
  },
  {
   "cell_type": "code",
   "execution_count": null,
   "id": "d48e23d7",
   "metadata": {},
   "outputs": [],
   "source": [
    "# Create the decision tree model\n",
    "tree = DecisionTreeClassifier(max_depth=3)\n",
    "tree.fit(X, y)\n",
    "\n",
    "# Print the decision tree\n",
    "plt.figure(figsize=(10, 8))\n",
    "plot_tree(tree, feature_names=cat_names+cont_names, class_names=['Not Survived', 'Survived'], filled=True)\n",
    "plt.show()"
   ]
  },
  {
   "cell_type": "markdown",
   "id": "059f1819",
   "metadata": {},
   "source": []
  },
  {
   "cell_type": "code",
   "execution_count": null,
   "id": "45dbf4b9",
   "metadata": {},
   "outputs": [],
   "source": [
    "# Use the tree to infer\n",
    "\n",
    "tree.predict([[1, 1, 0, 35.0, 1, 0, 52.1000]])"
   ]
  },
  {
   "cell_type": "code",
   "execution_count": null,
   "id": "2dba2005",
   "metadata": {},
   "outputs": [],
   "source": [
    "/Users/ruangguru/.pyenv/versions/3.11.1/lib/python3.11/site-packages/sklearn/base.py:439: UserWarning: X does not have valid feature names, but DecisionTreeClassifier was fitted with feature names\n",
    "  warnings.warn("
   ]
  },
  {
   "cell_type": "code",
   "execution_count": null,
   "id": "24e51d8d",
   "metadata": {},
   "outputs": [],
   "source": [
    "array([1])"
   ]
  },
  {
   "cell_type": "markdown",
   "id": "507b3f2d",
   "metadata": {},
   "source": [
    "# What is Gini?"
   ]
  },
  {
   "cell_type": "markdown",
   "id": "04189c78",
   "metadata": {},
   "source": [
    "Gini is a measure of impurity. The lower the gini, the purer the node."
   ]
  },
  {
   "cell_type": "markdown",
   "id": "4742facf",
   "metadata": {},
   "source": [
    "\\[Gini = 1 - \\sum_{i=1}^{n} p_i^2\\]"
   ]
  },
  {
   "cell_type": "markdown",
   "id": "9d2a4be2",
   "metadata": {},
   "source": []
  },
  {
   "cell_type": "markdown",
   "id": "691b727f",
   "metadata": {},
   "source": [
    "![Image](https://storage.googleapis.com/lds-media/images/gini-impurity-diagram.width-1200.png)"
   ]
  },
  {
   "cell_type": "markdown",
   "id": "6aa35182",
   "metadata": {},
   "source": [
    "Source: Learndatasci.com"
   ]
  },
  {
   "cell_type": "markdown",
   "id": "8045327a",
   "metadata": {},
   "source": [
    "Depends on how we split the data, we can get different purity."
   ]
  },
  {
   "cell_type": "markdown",
   "id": "421582b0",
   "metadata": {},
   "source": []
  },
  {
   "cell_type": "markdown",
   "id": "c1fd436c",
   "metadata": {},
   "source": [
    "![Image](https://ekamperi.github.io/images/decision_trees/pure_vs_impure_node.png)"
   ]
  },
  {
   "cell_type": "markdown",
   "id": "eb3c54ac",
   "metadata": {},
   "source": [
    "Source: ekamperi.github.io"
   ]
  },
  {
   "cell_type": "markdown",
   "id": "27d24cb7",
   "metadata": {},
   "source": [
    "# Deep Learning"
   ]
  },
  {
   "cell_type": "markdown",
   "id": "eb60ae99",
   "metadata": {},
   "source": [
    "Deep Learning is a subset of Machine Learning."
   ]
  },
  {
   "cell_type": "markdown",
   "id": "563f589c",
   "metadata": {},
   "source": [
    "Deep Learning was inspired by the structure and function of the brain, namely the interconnecting of many neurons."
   ]
  },
  {
   "cell_type": "markdown",
   "id": "6637286b",
   "metadata": {},
   "source": [
    "However, as the field of AI has grown, and the intricacies of the human brain have been studied more, the inspiration has shifted more towards inspiration by the brain rather than duplication of it."
   ]
  },
  {
   "cell_type": "markdown",
   "id": "330134ae",
   "metadata": {},
   "source": []
  },
  {
   "cell_type": "markdown",
   "id": "624602e8",
   "metadata": {},
   "source": [
    "![Image](https://upload.wikimedia.org/wikipedia/commons/thumb/1/10/Blausen_0657_MultipolarNeuron.png/375px-Blausen_0657_MultipolarNeuron.png)"
   ]
  },
  {
   "cell_type": "markdown",
   "id": "a3a0155a",
   "metadata": {},
   "source": [
    "ANNs frequently outperform other ML techniques on very large and complex problems"
   ]
  },
  {
   "cell_type": "markdown",
   "id": "c4e71b0e",
   "metadata": {},
   "source": []
  },
  {
   "cell_type": "markdown",
   "id": "6f96e86e",
   "metadata": {},
   "source": [
    "![Image](https://storage.googleapis.com/rg-ai-bootcamp/machine-learning/neural-network-min.png)"
   ]
  }
 ],
 "metadata": {},
 "nbformat": 4,
 "nbformat_minor": 5
}
