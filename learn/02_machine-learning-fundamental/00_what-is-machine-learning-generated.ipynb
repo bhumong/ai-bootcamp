{
 "cells": [
  {
   "cell_type": "markdown",
   "id": "a927373d",
   "metadata": {},
   "source": [
    "source: [link](https://ai-bootcamp.ruangguru.com/learn/02_machine-learning-fundamental/00_what-is-machine-learning.html)"
   ]
  },
  {
   "cell_type": "markdown",
   "id": "97b1457a",
   "metadata": {},
   "source": [
    "# What is Machine Learning"
   ]
  },
  {
   "cell_type": "code",
   "execution_count": null,
   "id": "cbdfceea",
   "metadata": {},
   "outputs": [],
   "source": [
    "!pip install graphviz\n",
    "!pip install fastbook\n",
    "!pip install fastai"
   ]
  },
  {
   "cell_type": "code",
   "execution_count": null,
   "id": "580f68e5",
   "metadata": {},
   "outputs": [],
   "source": [
    "from fastbook import *"
   ]
  },
  {
   "cell_type": "markdown",
   "id": "8aec769b",
   "metadata": {},
   "source": [
    "# Traditional Programming"
   ]
  },
  {
   "cell_type": "code",
   "execution_count": null,
   "id": "a82e8c92",
   "metadata": {},
   "outputs": [],
   "source": [
    "gv('''program[shape=box3d]\n",
    "inputs->program->results''')"
   ]
  },
  {
   "cell_type": "markdown",
   "id": "d8cfbf03",
   "metadata": {},
   "source": []
  },
  {
   "cell_type": "markdown",
   "id": "a12ea048",
   "metadata": {},
   "source": [
    "Program:"
   ]
  },
  {
   "cell_type": "markdown",
   "id": "158b5a68",
   "metadata": {},
   "source": [
    "We transfer our knowledge to the computer."
   ]
  },
  {
   "cell_type": "markdown",
   "id": "fb1ff1a8",
   "metadata": {},
   "source": [
    "# AI vs ML vs DL"
   ]
  },
  {
   "cell_type": "markdown",
   "id": "f7b1153a",
   "metadata": {},
   "source": []
  },
  {
   "cell_type": "markdown",
   "id": "d8580743",
   "metadata": {},
   "source": [
    "![Image](https://storage.googleapis.com/rg-ai-bootcamp/machine-learning/ml-ai-dl-min.png)"
   ]
  },
  {
   "cell_type": "markdown",
   "id": "cf03dd63",
   "metadata": {},
   "source": [
    "# Artificial Intelligence"
   ]
  },
  {
   "cell_type": "markdown",
   "id": "ee112551",
   "metadata": {},
   "source": [
    "Artificial Intelligence (AI) is a branch of computer science that aims to create systems capable of performing tasks that would normally require human intelligence. These tasks include problem solving, understanding language, recognizing patterns, learning from experience, and making decisions."
   ]
  },
  {
   "cell_type": "markdown",
   "id": "9c2a7d9c",
   "metadata": {},
   "source": [
    "Non-machine learning AIs requires human to program the rules (teach the computer how to do it)."
   ]
  },
  {
   "cell_type": "markdown",
   "id": "741eb3d9",
   "metadata": {},
   "source": [
    "Some example of non-machine learning AIs:"
   ]
  },
  {
   "cell_type": "markdown",
   "id": "6900a818",
   "metadata": {},
   "source": [
    "# Rule-base System"
   ]
  },
  {
   "cell_type": "code",
   "execution_count": null,
   "id": "64749813",
   "metadata": {},
   "outputs": [],
   "source": [
    "def predict_illness(symptoms: list[str]) -> str:\n",
    "    if 'fever' in symptoms:\n",
    "        if 'cough' in symptoms:\n",
    "            return 'flu'\n",
    "        elif' sore throat' in symptoms:\n",
    "            return 'cold'\n",
    "        elif 'vomitting' in symptoms:\n",
    "            return 'food poisoning'\n",
    "        else:\n",
    "            return 'unknown'\n",
    "    elif 'rash' in symptoms:\n",
    "        return 'measles'\n",
    "    else:\n",
    "        return 'unknown'"
   ]
  },
  {
   "cell_type": "code",
   "execution_count": null,
   "id": "222b04f3",
   "metadata": {},
   "outputs": [],
   "source": [
    "print(predict_illness(['fever', 'cough']))\n",
    "print(predict_illness(['fever', 'vomitting']))"
   ]
  },
  {
   "cell_type": "code",
   "execution_count": null,
   "id": "ef97d12b",
   "metadata": {},
   "outputs": [],
   "source": [
    "flu\n",
    "food poisoning"
   ]
  },
  {
   "cell_type": "markdown",
   "id": "981d35ca",
   "metadata": {},
   "source": [
    "# Constraint Satisfaction Problem"
   ]
  },
  {
   "cell_type": "code",
   "execution_count": null,
   "id": "24f5671d",
   "metadata": {},
   "outputs": [],
   "source": [
    "def is_valid(board, row, col):\n",
    "    # Check if there is a queen in the same row\n",
    "    for i in range(col):\n",
    "        if board[row][i] == 1:\n",
    "            return False\n",
    "\n",
    "    # Check if there is a queen in the upper diagonal\n",
    "    for i, j in zip(range(row, -1, -1), range(col, -1, -1)):\n",
    "        if board[i][j] == 1:\n",
    "            return False\n",
    "\n",
    "    # Check if there is a queen in the lower diagonal\n",
    "    for i, j in zip(range(row, len(board)), range(col, -1, -1)):\n",
    "        if board[i][j] == 1:\n",
    "            return False\n",
    "\n",
    "    return True\n",
    "\n",
    "def solve_queen(board, col):\n",
    "    # Base case: all queens are placed\n",
    "    if col == len(board):\n",
    "        print_board(board)\n",
    "        return True\n",
    "\n",
    "    # Recursive case: try to place a queen in each row of the current column\n",
    "    for i in range(len(board)):\n",
    "        if is_valid(board, i, col):\n",
    "            board[i][col] = 1\n",
    "            solve_queen(board, col + 1)\n",
    "            board[i][col] = 0\n",
    "\n",
    "    return False\n",
    "\n",
    "def print_board(board):\n",
    "    for row in board:\n",
    "        for cell in row:\n",
    "            if cell == 1:\n",
    "                print(\"Q\", end=\" \")\n",
    "            else:\n",
    "                print(\".\", end=\" \")\n",
    "        print()\n",
    "    print()\n",
    "\n",
    "# Initialize the board\n",
    "n = 4\n",
    "board = [[0] * n for _ in range(n)]\n",
    "\n",
    "# Solve the eight queen problem\n",
    "solve_queen(board, 0)"
   ]
  },
  {
   "cell_type": "code",
   "execution_count": null,
   "id": "513c6151",
   "metadata": {},
   "outputs": [],
   "source": [
    ". . Q . \n",
    "Q . . . \n",
    ". . . Q \n",
    ". Q . . \n",
    "\n",
    ". Q . . \n",
    ". . . Q \n",
    "Q . . . \n",
    ". . Q . \n"
   ]
  },
  {
   "cell_type": "code",
   "execution_count": null,
   "id": "90864c91",
   "metadata": {},
   "outputs": [],
   "source": [
    "False"
   ]
  },
  {
   "cell_type": "markdown",
   "id": "6888db80",
   "metadata": {},
   "source": [
    "# Machine Learning"
   ]
  },
  {
   "cell_type": "markdown",
   "id": "8b75dcc6",
   "metadata": {},
   "source": [
    "Machine Learning algorithms are able to learn without being explicitly programmed."
   ]
  },
  {
   "cell_type": "markdown",
   "id": "4db83f4f",
   "metadata": {},
   "source": [
    "Instead of writing the rules, we give the computer the data and let the computer learn the rules by itself."
   ]
  },
  {
   "cell_type": "markdown",
   "id": "d212ceb1",
   "metadata": {},
   "source": [
    "Describe to me - in words - how to recognize apple?"
   ]
  },
  {
   "cell_type": "markdown",
   "id": "135fc3f5",
   "metadata": {},
   "source": []
  },
  {
   "cell_type": "markdown",
   "id": "e2224272",
   "metadata": {},
   "source": [
    "![Image](https://upload.wikimedia.org/wikipedia/commons/thumb/5/5b/The_SugarBee_Apple_now_grown_in_Washington_State.jpg/240px-The_SugarBee_Apple_now_grown_in_Washington_State.jpg)"
   ]
  },
  {
   "cell_type": "markdown",
   "id": "b066a13d",
   "metadata": {},
   "source": [
    "How about this, is it an apple?"
   ]
  },
  {
   "cell_type": "markdown",
   "id": "1e039b2a",
   "metadata": {},
   "source": []
  },
  {
   "cell_type": "markdown",
   "id": "92d679f4",
   "metadata": {},
   "source": [
    "![Image](https://upload.wikimedia.org/wikipedia/commons/thumb/f/f6/Cherry_season_%2848216568227%29.jpg/640px-Cherry_season_%2848216568227%29.jpg)"
   ]
  },
  {
   "cell_type": "markdown",
   "id": "25891f14",
   "metadata": {},
   "source": [
    "Human learns by examples. We learn to recognize apple by seeing a lot of apple. We learn to recognize cherry by seeing a lot of cherry."
   ]
  },
  {
   "cell_type": "markdown",
   "id": "135630cc",
   "metadata": {},
   "source": [
    "Machine Learning consists of two stages:"
   ]
  },
  {
   "cell_type": "markdown",
   "id": "ddd6341a",
   "metadata": {},
   "source": [
    "# Training Stage"
   ]
  },
  {
   "cell_type": "markdown",
   "id": "693e35bc",
   "metadata": {},
   "source": [
    "We only give the computer the data and the expected output. The computer will learn the rules by itself. The output is the model."
   ]
  },
  {
   "cell_type": "code",
   "execution_count": null,
   "id": "273a5985",
   "metadata": {},
   "outputs": [],
   "source": [
    "gv('''training[shape=box3d]\n",
    "model[shape=box3d]\n",
    "    inputs->training->model\n",
    "   results->training''')"
   ]
  },
  {
   "cell_type": "markdown",
   "id": "637ecb8c",
   "metadata": {},
   "source": []
  },
  {
   "cell_type": "markdown",
   "id": "bff22be7",
   "metadata": {},
   "source": [
    "# Inference Stage"
   ]
  },
  {
   "cell_type": "markdown",
   "id": "86e89631",
   "metadata": {},
   "source": [
    "Once the model is created, we can use the model to predict the output for new data."
   ]
  },
  {
   "cell_type": "code",
   "execution_count": null,
   "id": "92b2ed5d",
   "metadata": {},
   "outputs": [],
   "source": [
    "gv('''\n",
    "model[shape=box3d]\n",
    "inputs -> model -> results \n",
    "   ''')"
   ]
  },
  {
   "cell_type": "markdown",
   "id": "98e8fafc",
   "metadata": {},
   "source": []
  },
  {
   "cell_type": "markdown",
   "id": "dde83d55",
   "metadata": {},
   "source": [
    "Let’s see an example in action."
   ]
  },
  {
   "cell_type": "markdown",
   "id": "54f4e37d",
   "metadata": {},
   "source": [
    "# Decision Tree"
   ]
  },
  {
   "cell_type": "code",
   "execution_count": null,
   "id": "c58d0ccd",
   "metadata": {},
   "outputs": [],
   "source": [
    "gv('''\n",
    "    node [shape=box]\n",
    "    inputs -> fever [label=\"symptoms\"]\n",
    "    fever -> cough [label=\"yes\"]\n",
    "    cough -> sore_throat [label=\"no\"]\n",
    "    cough -> flu [label=\"yes\"]\n",
    "    cough -> unknown [label=\"no\"]\n",
    "    sore_throat -> vomitting [label=\"yes\"]\n",
    "    sore_throat -> rash [label=\"no\"]\n",
    "    vomitting -> food_poisoning [label=\"yes\"]\n",
    "    vomitting -> unknown [label=\"no\"]\n",
    "    rash -> measles [label=\"yes\"]\n",
    "    rash -> unknown [label=\"no\"]\n",
    "''') "
   ]
  },
  {
   "cell_type": "markdown",
   "id": "aadf472f",
   "metadata": {},
   "source": []
  },
  {
   "cell_type": "markdown",
   "id": "1627b694",
   "metadata": {},
   "source": [
    "Differs to the traditional programming, we don’t need to write the rules. We only need to give the computer the data and the expected output. The computer will build the decision tree by itself."
   ]
  },
  {
   "cell_type": "markdown",
   "id": "a749aae8",
   "metadata": {},
   "source": [
    "Let’s try to build decision tree to predict whether a titanic passenger survived or not."
   ]
  },
  {
   "cell_type": "code",
   "execution_count": null,
   "id": "2be0be05",
   "metadata": {},
   "outputs": [],
   "source": [
    "from sklearn.tree import DecisionTreeClassifier, plot_tree\n",
    "import matplotlib.pyplot as plt\n",
    "import pandas as pd\n",
    "\n",
    "# Load the data\n",
    "url = 'https://raw.githubusercontent.com/datasciencedojo/datasets/master/titanic.csv'\n",
    "df = pd.read_csv(url)\n",
    "df.head()"
   ]
  },
  {
   "cell_type": "markdown",
   "id": "d0ac834f",
   "metadata": {},
   "source": [
    "|  | PassengerId | Survived | Pclass | Name | Sex | Age | SibSp | Parch | Ticket | Fare | Cabin | Embarked |\n",
    "| --- | --- | --- | --- | --- | --- | --- | --- | --- | --- | --- | --- | --- |\n",
    "| 0 | 1 | 0 | 3 | Braund, Mr. Owen Harris | male | 22.0 | 1 | 0 | A/5 21171 | 7.2500 | NaN | S |\n",
    "| 1 | 2 | 1 | 1 | Cumings, Mrs. John Bradley (Florence Briggs Th... | female | 38.0 | 1 | 0 | PC 17599 | 71.2833 | C85 | C |\n",
    "| 2 | 3 | 1 | 3 | Heikkinen, Miss. Laina | female | 26.0 | 0 | 0 | STON/O2. 3101282 | 7.9250 | NaN | S |\n",
    "| 3 | 4 | 1 | 1 | Futrelle, Mrs. Jacques Heath (Lily May Peel) | female | 35.0 | 1 | 0 | 113803 | 53.1000 | C123 | S |\n",
    "| 4 | 5 | 0 | 3 | Allen, Mr. William Henry | male | 35.0 | 0 | 0 | 373450 | 8.0500 | NaN | S |"
   ]
  },
  {
   "cell_type": "markdown",
   "id": "6e8baa4e",
   "metadata": {},
   "source": [
    "Let’s preprocess the data first."
   ]
  },
  {
   "cell_type": "code",
   "execution_count": null,
   "id": "b7368381",
   "metadata": {},
   "outputs": [],
   "source": [
    "# Define the dependent variable\n",
    "dep_var = 'Survived'\n",
    "\n",
    "# Define the categorical and continuous variables\n",
    "cat_names = ['Pclass', 'Sex', 'Embarked']\n",
    "cont_names = ['Age', 'SibSp', 'Parch', 'Fare']\n",
    "\n",
    "# Preprocess the data\n",
    "df = df[cat_names + cont_names + [dep_var]].dropna()\n",
    "df[cat_names] = df[cat_names].apply(lambda x: pd.factorize(x)[0])\n",
    "X = df[cat_names + cont_names]\n",
    "y = df[dep_var]"
   ]
  },
  {
   "cell_type": "code",
   "execution_count": null,
   "id": "3abe369a",
   "metadata": {},
   "outputs": [],
   "source": [
    "X.head()"
   ]
  },
  {
   "cell_type": "markdown",
   "id": "a118084b",
   "metadata": {},
   "source": [
    "|  | Pclass | Sex | Embarked | Age | SibSp | Parch | Fare |\n",
    "| --- | --- | --- | --- | --- | --- | --- | --- |\n",
    "| 0 | 0 | 0 | 0 | 22.0 | 1 | 0 | 7.2500 |\n",
    "| 1 | 1 | 1 | 1 | 38.0 | 1 | 0 | 71.2833 |\n",
    "| 2 | 0 | 1 | 0 | 26.0 | 0 | 0 | 7.9250 |\n",
    "| 3 | 1 | 1 | 0 | 35.0 | 1 | 0 | 53.1000 |\n",
    "| 4 | 0 | 0 | 0 | 35.0 | 0 | 0 | 8.0500 |"
   ]
  },
  {
   "cell_type": "code",
   "execution_count": null,
   "id": "5bb28c0c",
   "metadata": {},
   "outputs": [],
   "source": [
    "y.head() "
   ]
  },
  {
   "cell_type": "code",
   "execution_count": null,
   "id": "3ca3a68a",
   "metadata": {},
   "outputs": [],
   "source": [
    "0    0\n",
    "1    1\n",
    "2    1\n",
    "3    1\n",
    "4    0\n",
    "Name: Survived, dtype: int64"
   ]
  },
  {
   "cell_type": "code",
   "execution_count": null,
   "id": "f0eb72fb",
   "metadata": {},
   "outputs": [],
   "source": [
    "# Create the decision tree model\n",
    "tree = DecisionTreeClassifier(max_depth=3)\n",
    "tree.fit(X, y)\n",
    "\n",
    "# Print the decision tree\n",
    "plt.figure(figsize=(10, 8))\n",
    "plot_tree(tree, feature_names=cat_names+cont_names, class_names=['Not Survived', 'Survived'], filled=True)\n",
    "plt.show()"
   ]
  },
  {
   "cell_type": "markdown",
   "id": "d807f75b",
   "metadata": {},
   "source": []
  },
  {
   "cell_type": "code",
   "execution_count": null,
   "id": "bfacbb3b",
   "metadata": {},
   "outputs": [],
   "source": [
    "# Use the tree to infer\n",
    "\n",
    "tree.predict([[1, 1, 0, 35.0, 1, 0, 52.1000]])"
   ]
  },
  {
   "cell_type": "code",
   "execution_count": null,
   "id": "4e46c264",
   "metadata": {},
   "outputs": [],
   "source": [
    "/Users/ruangguru/.pyenv/versions/3.11.1/lib/python3.11/site-packages/sklearn/base.py:439: UserWarning: X does not have valid feature names, but DecisionTreeClassifier was fitted with feature names\n",
    "  warnings.warn("
   ]
  },
  {
   "cell_type": "code",
   "execution_count": null,
   "id": "36c70046",
   "metadata": {},
   "outputs": [],
   "source": [
    "array([1])"
   ]
  },
  {
   "cell_type": "markdown",
   "id": "1e5afd7d",
   "metadata": {},
   "source": [
    "# What is Gini?"
   ]
  },
  {
   "cell_type": "markdown",
   "id": "d9b9d16c",
   "metadata": {},
   "source": [
    "Gini is a measure of impurity. The lower the gini, the purer the node."
   ]
  },
  {
   "cell_type": "markdown",
   "id": "40884775",
   "metadata": {},
   "source": [
    "\\[Gini = 1 - \\sum_{i=1}^{n} p_i^2\\]"
   ]
  },
  {
   "cell_type": "markdown",
   "id": "db59d5fc",
   "metadata": {},
   "source": []
  },
  {
   "cell_type": "markdown",
   "id": "ff289e45",
   "metadata": {},
   "source": [
    "![Image](https://storage.googleapis.com/lds-media/images/gini-impurity-diagram.width-1200.png)"
   ]
  },
  {
   "cell_type": "markdown",
   "id": "be802d29",
   "metadata": {},
   "source": [
    "Source: Learndatasci.com"
   ]
  },
  {
   "cell_type": "markdown",
   "id": "411e5cf4",
   "metadata": {},
   "source": [
    "Depends on how we split the data, we can get different purity."
   ]
  },
  {
   "cell_type": "markdown",
   "id": "f7498998",
   "metadata": {},
   "source": []
  },
  {
   "cell_type": "markdown",
   "id": "53aa2826",
   "metadata": {},
   "source": [
    "![Image](https://ekamperi.github.io/images/decision_trees/pure_vs_impure_node.png)"
   ]
  },
  {
   "cell_type": "markdown",
   "id": "351d63e4",
   "metadata": {},
   "source": [
    "Source: ekamperi.github.io"
   ]
  },
  {
   "cell_type": "markdown",
   "id": "e6c7f1a5",
   "metadata": {},
   "source": [
    "# Deep Learning"
   ]
  },
  {
   "cell_type": "markdown",
   "id": "04abff10",
   "metadata": {},
   "source": [
    "Deep Learning is a subset of Machine Learning."
   ]
  },
  {
   "cell_type": "markdown",
   "id": "9d3e447f",
   "metadata": {},
   "source": [
    "Deep Learning was inspired by the structure and function of the brain, namely the interconnecting of many neurons."
   ]
  },
  {
   "cell_type": "markdown",
   "id": "f8193200",
   "metadata": {},
   "source": [
    "However, as the field of AI has grown, and the intricacies of the human brain have been studied more, the inspiration has shifted more towards inspiration by the brain rather than duplication of it."
   ]
  },
  {
   "cell_type": "markdown",
   "id": "484e2340",
   "metadata": {},
   "source": []
  },
  {
   "cell_type": "markdown",
   "id": "74ce179c",
   "metadata": {},
   "source": [
    "![Image](https://upload.wikimedia.org/wikipedia/commons/thumb/1/10/Blausen_0657_MultipolarNeuron.png/375px-Blausen_0657_MultipolarNeuron.png)"
   ]
  },
  {
   "cell_type": "markdown",
   "id": "e905c0a7",
   "metadata": {},
   "source": [
    "ANNs frequently outperform other ML techniques on very large and complex problems"
   ]
  },
  {
   "cell_type": "markdown",
   "id": "bfcfe0c7",
   "metadata": {},
   "source": []
  },
  {
   "cell_type": "markdown",
   "id": "f31ff3d0",
   "metadata": {},
   "source": [
    "![Image](https://storage.googleapis.com/rg-ai-bootcamp/machine-learning/neural-network-min.png)"
   ]
  }
 ],
 "metadata": {},
 "nbformat": 4,
 "nbformat_minor": 5
}
