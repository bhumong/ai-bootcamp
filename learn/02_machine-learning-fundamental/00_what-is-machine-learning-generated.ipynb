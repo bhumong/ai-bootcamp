{
 "cells": [
  {
   "cell_type": "markdown",
   "id": "059b6695",
   "metadata": {},
   "source": [
    "# What is Machine Learning"
   ]
  },
  {
   "cell_type": "code",
   "execution_count": null,
   "id": "4889be0d",
   "metadata": {},
   "outputs": [],
   "source": [
    "!pip install graphviz\n",
    "!pip install fastbook\n",
    "!pip install fastai"
   ]
  },
  {
   "cell_type": "code",
   "execution_count": null,
   "id": "b89d6654",
   "metadata": {},
   "outputs": [],
   "source": [
    "from fastbook import *"
   ]
  },
  {
   "cell_type": "markdown",
   "id": "f39c220b",
   "metadata": {},
   "source": [
    "# Traditional Programming"
   ]
  },
  {
   "cell_type": "code",
   "execution_count": null,
   "id": "b80b57a9",
   "metadata": {},
   "outputs": [],
   "source": [
    "gv('''program[shape=box3d]\n",
    "inputs->program->results''')"
   ]
  },
  {
   "cell_type": "markdown",
   "id": "7e515d54",
   "metadata": {},
   "source": []
  },
  {
   "cell_type": "markdown",
   "id": "3f0e15e1",
   "metadata": {},
   "source": [
    "Program:"
   ]
  },
  {
   "cell_type": "markdown",
   "id": "de7a4502",
   "metadata": {},
   "source": [
    "We transfer our knowledge to the computer."
   ]
  },
  {
   "cell_type": "markdown",
   "id": "c68844e3",
   "metadata": {},
   "source": [
    "# AI vs ML vs DL"
   ]
  },
  {
   "cell_type": "markdown",
   "id": "1fe5f773",
   "metadata": {},
   "source": []
  },
  {
   "cell_type": "markdown",
   "id": "6a43ad15",
   "metadata": {},
   "source": [
    "# Artificial Intelligence"
   ]
  },
  {
   "cell_type": "markdown",
   "id": "75275e4a",
   "metadata": {},
   "source": [
    "Artificial Intelligence (AI) is a branch of computer science that aims to create systems capable of performing tasks that would normally require human intelligence. These tasks include problem solving, understanding language, recognizing patterns, learning from experience, and making decisions."
   ]
  },
  {
   "cell_type": "markdown",
   "id": "381fe36a",
   "metadata": {},
   "source": [
    "Non-machine learning AIs requires human to program the rules (teach the computer how to do it)."
   ]
  },
  {
   "cell_type": "markdown",
   "id": "794ce017",
   "metadata": {},
   "source": [
    "Some example of non-machine learning AIs:"
   ]
  },
  {
   "cell_type": "markdown",
   "id": "b5888332",
   "metadata": {},
   "source": [
    "# Rule-base System"
   ]
  },
  {
   "cell_type": "code",
   "execution_count": null,
   "id": "81f6fe4b",
   "metadata": {},
   "outputs": [],
   "source": [
    "def predict_illness(symptoms: list[str]) -> str:\n",
    "    if 'fever' in symptoms:\n",
    "        if 'cough' in symptoms:\n",
    "            return 'flu'\n",
    "        elif' sore throat' in symptoms:\n",
    "            return 'cold'\n",
    "        elif 'vomitting' in symptoms:\n",
    "            return 'food poisoning'\n",
    "        else:\n",
    "            return 'unknown'\n",
    "    elif 'rash' in symptoms:\n",
    "        return 'measles'\n",
    "    else:\n",
    "        return 'unknown'"
   ]
  },
  {
   "cell_type": "code",
   "execution_count": null,
   "id": "9c2724cb",
   "metadata": {},
   "outputs": [],
   "source": [
    "print(predict_illness(['fever', 'cough']))\n",
    "print(predict_illness(['fever', 'vomitting']))"
   ]
  },
  {
   "cell_type": "code",
   "execution_count": null,
   "id": "bdad2ed1",
   "metadata": {},
   "outputs": [],
   "source": [
    "flu\n",
    "food poisoning"
   ]
  },
  {
   "cell_type": "markdown",
   "id": "765d0c3b",
   "metadata": {},
   "source": [
    "# Constraint Satisfaction Problem"
   ]
  },
  {
   "cell_type": "code",
   "execution_count": null,
   "id": "6dee2c83",
   "metadata": {},
   "outputs": [],
   "source": [
    "def is_valid(board, row, col):\n",
    "    # Check if there is a queen in the same row\n",
    "    for i in range(col):\n",
    "        if board[row][i] == 1:\n",
    "            return False\n",
    "\n",
    "    # Check if there is a queen in the upper diagonal\n",
    "    for i, j in zip(range(row, -1, -1), range(col, -1, -1)):\n",
    "        if board[i][j] == 1:\n",
    "            return False\n",
    "\n",
    "    # Check if there is a queen in the lower diagonal\n",
    "    for i, j in zip(range(row, len(board)), range(col, -1, -1)):\n",
    "        if board[i][j] == 1:\n",
    "            return False\n",
    "\n",
    "    return True\n",
    "\n",
    "def solve_queen(board, col):\n",
    "    # Base case: all queens are placed\n",
    "    if col == len(board):\n",
    "        print_board(board)\n",
    "        return True\n",
    "\n",
    "    # Recursive case: try to place a queen in each row of the current column\n",
    "    for i in range(len(board)):\n",
    "        if is_valid(board, i, col):\n",
    "            board[i][col] = 1\n",
    "            solve_queen(board, col + 1)\n",
    "            board[i][col] = 0\n",
    "\n",
    "    return False\n",
    "\n",
    "def print_board(board):\n",
    "    for row in board:\n",
    "        for cell in row:\n",
    "            if cell == 1:\n",
    "                print(\"Q\", end=\" \")\n",
    "            else:\n",
    "                print(\".\", end=\" \")\n",
    "        print()\n",
    "    print()\n",
    "\n",
    "# Initialize the board\n",
    "n = 4\n",
    "board = [[0] * n for _ in range(n)]\n",
    "\n",
    "# Solve the eight queen problem\n",
    "solve_queen(board, 0)"
   ]
  },
  {
   "cell_type": "code",
   "execution_count": null,
   "id": "10555e7c",
   "metadata": {},
   "outputs": [],
   "source": [
    ". . Q . \n",
    "Q . . . \n",
    ". . . Q \n",
    ". Q . . \n",
    "\n",
    ". Q . . \n",
    ". . . Q \n",
    "Q . . . \n",
    ". . Q . \n"
   ]
  },
  {
   "cell_type": "code",
   "execution_count": null,
   "id": "1cd8298b",
   "metadata": {},
   "outputs": [],
   "source": [
    "False"
   ]
  },
  {
   "cell_type": "markdown",
   "id": "f933360c",
   "metadata": {},
   "source": [
    "# Machine Learning"
   ]
  },
  {
   "cell_type": "markdown",
   "id": "02073f5f",
   "metadata": {},
   "source": [
    "Machine Learning algorithms are able to learn without being explicitly programmed."
   ]
  },
  {
   "cell_type": "markdown",
   "id": "fdcf518e",
   "metadata": {},
   "source": [
    "Instead of writing the rules, we give the computer the data and let the computer learn the rules by itself."
   ]
  },
  {
   "cell_type": "markdown",
   "id": "80ed888d",
   "metadata": {},
   "source": [
    "Describe to me - in words - how to recognize apple?"
   ]
  },
  {
   "cell_type": "markdown",
   "id": "a4a2b7d6",
   "metadata": {},
   "source": []
  },
  {
   "cell_type": "markdown",
   "id": "c9da330f",
   "metadata": {},
   "source": [
    "How about this, is it an apple?"
   ]
  },
  {
   "cell_type": "markdown",
   "id": "c5cf566b",
   "metadata": {},
   "source": []
  },
  {
   "cell_type": "markdown",
   "id": "82fc45c8",
   "metadata": {},
   "source": [
    "Human learns by examples. We learn to recognize apple by seeing a lot of apple. We learn to recognize cherry by seeing a lot of cherry."
   ]
  },
  {
   "cell_type": "markdown",
   "id": "41da9633",
   "metadata": {},
   "source": [
    "Machine Learning consists of two stages:"
   ]
  },
  {
   "cell_type": "markdown",
   "id": "7fe58d93",
   "metadata": {},
   "source": [
    "# Training Stage"
   ]
  },
  {
   "cell_type": "markdown",
   "id": "9aeee292",
   "metadata": {},
   "source": [
    "We only give the computer the data and the expected output. The computer will learn the rules by itself. The output is the model."
   ]
  },
  {
   "cell_type": "code",
   "execution_count": null,
   "id": "7207cebe",
   "metadata": {},
   "outputs": [],
   "source": [
    "gv('''training[shape=box3d]\n",
    "model[shape=box3d]\n",
    "    inputs->training->model\n",
    "   results->training''')"
   ]
  },
  {
   "cell_type": "markdown",
   "id": "72631c11",
   "metadata": {},
   "source": []
  },
  {
   "cell_type": "markdown",
   "id": "210ea767",
   "metadata": {},
   "source": [
    "# Inference Stage"
   ]
  },
  {
   "cell_type": "markdown",
   "id": "4da20e72",
   "metadata": {},
   "source": [
    "Once the model is created, we can use the model to predict the output for new data."
   ]
  },
  {
   "cell_type": "code",
   "execution_count": null,
   "id": "4dd7201e",
   "metadata": {},
   "outputs": [],
   "source": [
    "gv('''\n",
    "model[shape=box3d]\n",
    "inputs -> model -> results \n",
    "   ''')"
   ]
  },
  {
   "cell_type": "markdown",
   "id": "78794a97",
   "metadata": {},
   "source": []
  },
  {
   "cell_type": "markdown",
   "id": "0ccca98a",
   "metadata": {},
   "source": [
    "Let’s see an example in action."
   ]
  },
  {
   "cell_type": "markdown",
   "id": "7cee7317",
   "metadata": {},
   "source": [
    "# Decision Tree"
   ]
  },
  {
   "cell_type": "code",
   "execution_count": null,
   "id": "0c917699",
   "metadata": {},
   "outputs": [],
   "source": [
    "gv('''\n",
    "    node [shape=box]\n",
    "    inputs -> fever [label=\"symptoms\"]\n",
    "    fever -> cough [label=\"yes\"]\n",
    "    cough -> sore_throat [label=\"no\"]\n",
    "    cough -> flu [label=\"yes\"]\n",
    "    cough -> unknown [label=\"no\"]\n",
    "    sore_throat -> vomitting [label=\"yes\"]\n",
    "    sore_throat -> rash [label=\"no\"]\n",
    "    vomitting -> food_poisoning [label=\"yes\"]\n",
    "    vomitting -> unknown [label=\"no\"]\n",
    "    rash -> measles [label=\"yes\"]\n",
    "    rash -> unknown [label=\"no\"]\n",
    "''') "
   ]
  },
  {
   "cell_type": "markdown",
   "id": "d48c24e7",
   "metadata": {},
   "source": []
  },
  {
   "cell_type": "markdown",
   "id": "1c357666",
   "metadata": {},
   "source": [
    "Differs to the traditional programming, we don’t need to write the rules. We only need to give the computer the data and the expected output. The computer will build the decision tree by itself."
   ]
  },
  {
   "cell_type": "markdown",
   "id": "f8550f10",
   "metadata": {},
   "source": [
    "Let’s try to build decision tree to predict whether a titanic passenger survived or not."
   ]
  },
  {
   "cell_type": "code",
   "execution_count": null,
   "id": "29c28e09",
   "metadata": {},
   "outputs": [],
   "source": [
    "from sklearn.tree import DecisionTreeClassifier, plot_tree\n",
    "import matplotlib.pyplot as plt\n",
    "import pandas as pd\n",
    "\n",
    "# Load the data\n",
    "url = 'https://raw.githubusercontent.com/datasciencedojo/datasets/master/titanic.csv'\n",
    "df = pd.read_csv(url)\n",
    "df.head()"
   ]
  },
  {
   "cell_type": "markdown",
   "id": "87691747",
   "metadata": {},
   "source": [
    "Let’s preprocess the data first."
   ]
  },
  {
   "cell_type": "code",
   "execution_count": null,
   "id": "5c4a7ae8",
   "metadata": {},
   "outputs": [],
   "source": [
    "# Define the dependent variable\n",
    "dep_var = 'Survived'\n",
    "\n",
    "# Define the categorical and continuous variables\n",
    "cat_names = ['Pclass', 'Sex', 'Embarked']\n",
    "cont_names = ['Age', 'SibSp', 'Parch', 'Fare']\n",
    "\n",
    "# Preprocess the data\n",
    "df = df[cat_names + cont_names + [dep_var]].dropna()\n",
    "df[cat_names] = df[cat_names].apply(lambda x: pd.factorize(x)[0])\n",
    "X = df[cat_names + cont_names]\n",
    "y = df[dep_var]"
   ]
  },
  {
   "cell_type": "code",
   "execution_count": null,
   "id": "91f33f43",
   "metadata": {},
   "outputs": [],
   "source": [
    "X.head()"
   ]
  },
  {
   "cell_type": "code",
   "execution_count": null,
   "id": "64e42411",
   "metadata": {},
   "outputs": [],
   "source": [
    "y.head() "
   ]
  },
  {
   "cell_type": "code",
   "execution_count": null,
   "id": "446253e8",
   "metadata": {},
   "outputs": [],
   "source": [
    "0    0\n",
    "1    1\n",
    "2    1\n",
    "3    1\n",
    "4    0\n",
    "Name: Survived, dtype: int64"
   ]
  },
  {
   "cell_type": "code",
   "execution_count": null,
   "id": "201b84b5",
   "metadata": {},
   "outputs": [],
   "source": [
    "# Create the decision tree model\n",
    "tree = DecisionTreeClassifier(max_depth=3)\n",
    "tree.fit(X, y)\n",
    "\n",
    "# Print the decision tree\n",
    "plt.figure(figsize=(10, 8))\n",
    "plot_tree(tree, feature_names=cat_names+cont_names, class_names=['Not Survived', 'Survived'], filled=True)\n",
    "plt.show()"
   ]
  },
  {
   "cell_type": "markdown",
   "id": "36af5c95",
   "metadata": {},
   "source": []
  },
  {
   "cell_type": "code",
   "execution_count": null,
   "id": "c52531e6",
   "metadata": {},
   "outputs": [],
   "source": [
    "# Use the tree to infer\n",
    "\n",
    "tree.predict([[1, 1, 0, 35.0, 1, 0, 52.1000]])"
   ]
  },
  {
   "cell_type": "code",
   "execution_count": null,
   "id": "47976ed9",
   "metadata": {},
   "outputs": [],
   "source": [
    "/Users/ruangguru/.pyenv/versions/3.11.1/lib/python3.11/site-packages/sklearn/base.py:439: UserWarning: X does not have valid feature names, but DecisionTreeClassifier was fitted with feature names\n",
    "  warnings.warn("
   ]
  },
  {
   "cell_type": "code",
   "execution_count": null,
   "id": "8815692c",
   "metadata": {},
   "outputs": [],
   "source": [
    "array([1])"
   ]
  },
  {
   "cell_type": "markdown",
   "id": "95b32817",
   "metadata": {},
   "source": [
    "# What is Gini?"
   ]
  },
  {
   "cell_type": "markdown",
   "id": "183d346e",
   "metadata": {},
   "source": [
    "Gini is a measure of impurity. The lower the gini, the purer the node."
   ]
  },
  {
   "cell_type": "markdown",
   "id": "89c0efec",
   "metadata": {},
   "source": [
    "\\[Gini = 1 - \\sum_{i=1}^{n} p_i^2\\]"
   ]
  },
  {
   "cell_type": "markdown",
   "id": "3dc3324f",
   "metadata": {},
   "source": []
  },
  {
   "cell_type": "markdown",
   "id": "769e116e",
   "metadata": {},
   "source": [
    "Source: Learndatasci.com"
   ]
  },
  {
   "cell_type": "markdown",
   "id": "c16f5f1d",
   "metadata": {},
   "source": [
    "Depends on how we split the data, we can get different purity."
   ]
  },
  {
   "cell_type": "markdown",
   "id": "d70b69a8",
   "metadata": {},
   "source": []
  },
  {
   "cell_type": "markdown",
   "id": "17c79d90",
   "metadata": {},
   "source": [
    "Source: ekamperi.github.io"
   ]
  },
  {
   "cell_type": "markdown",
   "id": "563aa7c5",
   "metadata": {},
   "source": [
    "# Deep Learning"
   ]
  },
  {
   "cell_type": "markdown",
   "id": "c5a6717d",
   "metadata": {},
   "source": [
    "Deep Learning is a subset of Machine Learning."
   ]
  },
  {
   "cell_type": "markdown",
   "id": "467f0457",
   "metadata": {},
   "source": [
    "Deep Learning was inspired by the structure and function of the brain, namely the interconnecting of many neurons."
   ]
  },
  {
   "cell_type": "markdown",
   "id": "bbaee96a",
   "metadata": {},
   "source": [
    "However, as the field of AI has grown, and the intricacies of the human brain have been studied more, the inspiration has shifted more towards inspiration by the brain rather than duplication of it."
   ]
  },
  {
   "cell_type": "markdown",
   "id": "6118d9dd",
   "metadata": {},
   "source": []
  },
  {
   "cell_type": "markdown",
   "id": "808e4a4c",
   "metadata": {},
   "source": [
    "ANNs frequently outperform other ML techniques on very large and complex problems"
   ]
  },
  {
   "cell_type": "markdown",
   "id": "ca00f94a",
   "metadata": {},
   "source": []
  }
 ],
 "metadata": {},
 "nbformat": 4,
 "nbformat_minor": 5
}
