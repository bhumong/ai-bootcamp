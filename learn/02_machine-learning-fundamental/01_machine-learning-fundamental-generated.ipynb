{
 "cells": [
  {
   "cell_type": "markdown",
   "id": "438da7d3",
   "metadata": {},
   "source": [
    "source: [link](https://ai-bootcamp.ruangguru.com/learn/02_machine-learning-fundamental/01_machine-learning-fundamental.html)"
   ]
  },
  {
   "cell_type": "markdown",
   "id": "5bb1225c",
   "metadata": {},
   "source": [
    "# Introduction to Machine Learning"
   ]
  },
  {
   "cell_type": "markdown",
   "id": "11512615",
   "metadata": {},
   "source": [
    "# Supervised vs Unsupervised vs Semi-supervised"
   ]
  },
  {
   "cell_type": "markdown",
   "id": "f198fe9f",
   "metadata": {},
   "source": [
    "# Supervised"
   ]
  },
  {
   "cell_type": "markdown",
   "id": "a9cc75fc",
   "metadata": {},
   "source": [
    "Target/label is given, e.g."
   ]
  },
  {
   "cell_type": "markdown",
   "id": "d429a675",
   "metadata": {},
   "source": [
    "| Height | Weight (Label) |\n",
    "| --- | --- |\n",
    "| 180 | 80 |\n",
    "| 160 | 60 |\n",
    "| 170 | 70 |\n",
    "| 190 | 90 |"
   ]
  },
  {
   "cell_type": "markdown",
   "id": "4fbe90ae",
   "metadata": {},
   "source": [
    "Task: Given height (feature/attribute), predict the weight"
   ]
  },
  {
   "cell_type": "markdown",
   "id": "4d1788b2",
   "metadata": {},
   "source": [
    "Example: Linear regression, logistic regression, decision tree, random forest, support vector machine, neural network"
   ]
  },
  {
   "cell_type": "code",
   "execution_count": null,
   "id": "4ef0cdd8",
   "metadata": {},
   "outputs": [],
   "source": [
    "import matplotlib.pyplot as plt\n",
    "import numpy as np\n",
    "from math import sqrt\n",
    "\n",
    "weight = np.random.randint(40, 100, 30)\n",
    "height = np.sqrt(weight / 20) * 100 + np.random.randint(-20, 20, 30)\n",
    "\n",
    "# plot\n",
    "plt.scatter(weight, height)\n",
    "plt.xlabel('weight')\n",
    "plt.ylabel('height')\n",
    "plt.title('weight vs height')\n",
    "plt.show()"
   ]
  },
  {
   "cell_type": "markdown",
   "id": "d5786b68",
   "metadata": {},
   "source": []
  },
  {
   "cell_type": "markdown",
   "id": "fc4da3a9",
   "metadata": {},
   "source": [
    "Problem: How to predict the weight of a person with height 175cm?"
   ]
  },
  {
   "cell_type": "code",
   "execution_count": null,
   "id": "c87317a5",
   "metadata": {},
   "outputs": [],
   "source": [
    "import matplotlib.pyplot as plt\n",
    "import numpy as np\n",
    "from math import sqrt\n",
    "\n",
    "weight = np.random.randint(40, 100, 30)\n",
    "height = np.sqrt(weight / 20) * 100 + np.random.randint(-20, 20, 30)\n",
    "\n",
    "# implement linear regression using scikit to predict weight from height\n",
    "from sklearn.linear_model import LinearRegression\n",
    "model = LinearRegression()\n",
    "model.fit(height.reshape(-1, 1), weight)\n",
    "weight_pred = model.predict(height.reshape(-1, 1))\n",
    "\n",
    "\n",
    "# plot\n",
    "plt.scatter(weight, height)\n",
    "plt.xlabel('weight')\n",
    "plt.ylabel('height')\n",
    "plt.title('weight vs height')\n",
    "\n",
    "# plot the regression line\n",
    "plt.plot(weight_pred, height, color='red')\n",
    "plt.show()\n"
   ]
  },
  {
   "cell_type": "markdown",
   "id": "28834048",
   "metadata": {},
   "source": []
  },
  {
   "cell_type": "markdown",
   "id": "a68959c2",
   "metadata": {},
   "source": [
    "# Unsupervised"
   ]
  },
  {
   "cell_type": "markdown",
   "id": "c3cb5c7f",
   "metadata": {},
   "source": [
    "Label is not given, the task is to find the pattern in the data, e.g. anomaly detection, clustering"
   ]
  },
  {
   "cell_type": "code",
   "execution_count": null,
   "id": "69a36711",
   "metadata": {},
   "outputs": [],
   "source": [
    "# Create a sample of clustering data\n",
    "\n",
    "from sklearn.datasets import make_blobs\n",
    "import matplotlib.pyplot as plt\n",
    "\n",
    "# Generate sample data\n",
    "X, y = make_blobs(n_samples=300, centers=4, cluster_std=0.60, random_state=0)\n",
    "\n",
    "# Plot the data\n",
    "plt.scatter(X[:, 0], X[:, 1], s=50)\n",
    "plt.show()"
   ]
  },
  {
   "cell_type": "markdown",
   "id": "469192d5",
   "metadata": {},
   "source": []
  },
  {
   "cell_type": "markdown",
   "id": "ecd17752",
   "metadata": {},
   "source": [
    "Without any label or target, predict which data belongs to which cluster"
   ]
  },
  {
   "cell_type": "code",
   "execution_count": null,
   "id": "df9cbfc6",
   "metadata": {},
   "outputs": [],
   "source": [
    "# Create a sample of clustering data\n",
    "\n",
    "from sklearn.datasets import make_blobs\n",
    "import matplotlib.pyplot as plt\n",
    "\n",
    "# Generate sample data\n",
    "X, y = make_blobs(n_samples=300, centers=4, cluster_std=0.60, random_state=0)\n",
    "\n",
    "# Implement K-NN clustering\n",
    "from sklearn.cluster import KMeans\n",
    "kmeans = KMeans(n_clusters=4)\n",
    "kmeans.fit(X)\n",
    "y_pred = kmeans.predict(X)\n",
    "\n",
    "# Plot the clustering result\n",
    "plt.scatter(X[:, 0], X[:, 1], c=y_pred, s=50, cmap='viridis')\n",
    "plt.show()"
   ]
  },
  {
   "cell_type": "code",
   "execution_count": null,
   "id": "0025d6b0",
   "metadata": {},
   "outputs": [],
   "source": [
    "/Users/ruangguru/.pyenv/versions/3.11.1/lib/python3.11/site-packages/sklearn/cluster/_kmeans.py:870: FutureWarning: The default value of `n_init` will change from 10 to 'auto' in 1.4. Set the value of `n_init` explicitly to suppress the warning\n",
    "  warnings.warn("
   ]
  },
  {
   "cell_type": "markdown",
   "id": "6c22350b",
   "metadata": {},
   "source": []
  },
  {
   "cell_type": "markdown",
   "id": "025a0c93",
   "metadata": {},
   "source": [
    "# Semi Supervised"
   ]
  },
  {
   "cell_type": "markdown",
   "id": "e8a59231",
   "metadata": {},
   "source": [
    "Combination of unsupervised and supervised learning"
   ]
  },
  {
   "cell_type": "markdown",
   "id": "23040140",
   "metadata": {},
   "source": [
    "Example: Google Photos"
   ]
  },
  {
   "cell_type": "markdown",
   "id": "3f7d1fb7",
   "metadata": {},
   "source": [
    "- Unsupervised: Grouping photos based on the face\n",
    "- Supervised: Ask the user to label the face with name"
   ]
  },
  {
   "cell_type": "markdown",
   "id": "ac5188c0",
   "metadata": {},
   "source": []
  },
  {
   "cell_type": "markdown",
   "id": "7958ad15",
   "metadata": {},
   "source": [
    "![Image](https://storage.googleapis.com/support-forums-api/attachment/message-98489306-15452541684849637976.jpg)"
   ]
  },
  {
   "cell_type": "markdown",
   "id": "d4d08ce1",
   "metadata": {},
   "source": [
    "# Overfitting"
   ]
  },
  {
   "cell_type": "markdown",
   "id": "8d616147",
   "metadata": {},
   "source": [
    "The model doesn’t generalize well, it memorizes the training data"
   ]
  },
  {
   "cell_type": "code",
   "execution_count": null,
   "id": "e57c9452",
   "metadata": {},
   "outputs": [],
   "source": [
    "# Create a sample X and Y data\n",
    "\n",
    "import numpy as np\n",
    "import matplotlib.pyplot as plt\n",
    "\n",
    "# set seed\n",
    "np.random.seed(0)\n",
    "\n",
    "# Generate sample data\n",
    "X = np.random.rand(100, 1)\n",
    "y = 2 + 3 * X + np.random.rand(100, 1)\n",
    "\n",
    "# Make a overfit regression\n",
    "from sklearn.linear_model import LinearRegression\n",
    "from sklearn.preprocessing import PolynomialFeatures\n",
    "from sklearn.pipeline import make_pipeline\n",
    "\n",
    "model = make_pipeline(PolynomialFeatures(20), LinearRegression())\n",
    "model.fit(X, y)\n",
    "\n",
    "# Plot the data\n",
    "plt.scatter(X, y)\n",
    "\n",
    "# draw the model\n",
    "X_test = np.linspace(0, 1, 100)\n",
    "y_pred = model.predict(X_test.reshape(-1, 1))\n",
    "plt.plot(X_test, y_pred, color='red')\n",
    "\n",
    "plt.show()"
   ]
  },
  {
   "cell_type": "markdown",
   "id": "a4e7e695",
   "metadata": {},
   "source": []
  },
  {
   "cell_type": "markdown",
   "id": "260d2166",
   "metadata": {},
   "source": [
    "# Training Set & Test Set"
   ]
  },
  {
   "cell_type": "markdown",
   "id": "ca8317cc",
   "metadata": {},
   "source": [
    "To prevent overfitting, we need to have a separate data to evaluate the model"
   ]
  },
  {
   "cell_type": "markdown",
   "id": "a8be9dd2",
   "metadata": {},
   "source": [
    "One way to do it is to split the data into two sets:"
   ]
  },
  {
   "cell_type": "markdown",
   "id": "3cc7705a",
   "metadata": {},
   "source": [
    "- Training set: used to train the model\n",
    "- Test set: used to evaluate the model"
   ]
  },
  {
   "cell_type": "markdown",
   "id": "f02df628",
   "metadata": {},
   "source": [
    "When overfitting happen, the model will perform well on the training set but perform poorly on the test set"
   ]
  },
  {
   "cell_type": "markdown",
   "id": "bbcde335",
   "metadata": {},
   "source": [
    "To split the data, we can do it manually or use train_test_split function from sklearn"
   ]
  },
  {
   "cell_type": "code",
   "execution_count": null,
   "id": "684d6174",
   "metadata": {},
   "outputs": [],
   "source": [
    "# Split the data into training and test set manually\n",
    "\n",
    "import numpy as np\n",
    "import matplotlib.pyplot as plt\n",
    "\n",
    "# set seed\n",
    "np.random.seed(0)\n",
    "\n",
    "# Generate sample data\n",
    "X = np.random.rand(100, 1)\n",
    "y = 2 + 3 * X + np.random.rand(100, 1)\n",
    "\n",
    "# Split the data into training and test set manually\n",
    "X_train, y_train = X[:80], y[:80]\n",
    "X_test, y_test = X[80:], y[80:]\n",
    "\n",
    "# Plot the training and test set\n",
    "plt.scatter(X_train, y_train, label='Training set')\n",
    "plt.scatter(X_test, y_test, label='Test set')\n",
    "plt.legend()\n",
    "plt.show()"
   ]
  },
  {
   "cell_type": "markdown",
   "id": "e57db090",
   "metadata": {},
   "source": []
  },
  {
   "cell_type": "markdown",
   "id": "b034bccd",
   "metadata": {},
   "source": [
    "But be careful, the data should be shuffled first before splitting"
   ]
  },
  {
   "cell_type": "markdown",
   "id": "3d0b8d03",
   "metadata": {},
   "source": [
    "Otherwise, the model will be trained on the same data distribution"
   ]
  },
  {
   "cell_type": "code",
   "execution_count": null,
   "id": "7c8c1862",
   "metadata": {},
   "outputs": [],
   "source": [
    "# Split the data into training and test set manually\n",
    "\n",
    "import numpy as np\n",
    "import matplotlib.pyplot as plt\n",
    "\n",
    "# set seed\n",
    "np.random.seed(0)\n",
    "\n",
    "# Generate sample data\n",
    "# X being a 100 x 1 matrix, ordered from 0 to 100\n",
    "X = np.arange(100).reshape(100, 1)\n",
    "y = 2 + 3 * X + np.random.rand(100, 1)\n",
    "y[X >= 80] = 2 + 5 * X[X >= 80].flatten() + np.random.rand(len(X[X >= 80]))\n",
    "\n",
    "# Split the data into training and test set manually\n",
    "X_train, y_train = X[:80], y[:80]\n",
    "X_test, y_test = X[80:], y[80:]\n",
    "\n",
    "# Train a linear regression model\n",
    "model = LinearRegression()\n",
    "model.fit(X_train, y_train)\n",
    "\n",
    "# Plot the training and test set\n",
    "plt.scatter(X_train, y_train, label='Training set')\n",
    "plt.scatter(X_test, y_test, label='Test set')\n",
    "\n",
    "# Plot the regression line\n",
    "X_test = np.linspace(0, 100, 100)\n",
    "y_pred = model.predict(X_test.reshape(-1, 1))\n",
    "plt.plot(X_test, y_pred, color='red', label='Regression line')\n",
    "\n",
    "plt.legend()\n",
    "\n",
    "plt.show()"
   ]
  },
  {
   "cell_type": "markdown",
   "id": "5fedbfb1",
   "metadata": {},
   "source": []
  },
  {
   "cell_type": "code",
   "execution_count": null,
   "id": "d1c6826b",
   "metadata": {},
   "outputs": [],
   "source": [
    "# Split the data into training and test set manually\n",
    "\n",
    "import numpy as np\n",
    "import matplotlib.pyplot as plt\n",
    "\n",
    "# set seed\n",
    "np.random.seed(0)\n",
    "\n",
    "# Generate sample data\n",
    "# X being a 100 x 1 matrix, ordered from 0 to 100\n",
    "X = np.arange(100).reshape(100, 1)\n",
    "y = 2 + 3 * X + np.random.rand(100, 1)\n",
    "y[X >= 80] = 2 + 5 * X[X >= 80].flatten() + np.random.rand(len(X[X >= 80]))\n",
    "\n",
    "# Split the data into training and test using scikit\n",
    "from sklearn.model_selection import train_test_split\n",
    "X_train, X_test, y_train, y_test = train_test_split(X, y, shuffle=True) # Make sure it's shuffled \n",
    "\n",
    "# Train a linear regression model\n",
    "model = LinearRegression()\n",
    "model.fit(X_train, y_train)\n",
    "\n",
    "# Plot the training and test set\n",
    "plt.scatter(X_train, y_train, label='Training set')\n",
    "plt.scatter(X_test, y_test, label='Test set')\n",
    "\n",
    "# Plot the regression line\n",
    "X_test = np.linspace(0, 100, 100)\n",
    "y_pred = model.predict(X_test.reshape(-1, 1))\n",
    "plt.plot(X_test, y_pred, color='red', label='Regression line')\n",
    "\n",
    "plt.legend()\n",
    "\n",
    "plt.show()"
   ]
  },
  {
   "cell_type": "markdown",
   "id": "069e7c05",
   "metadata": {},
   "source": []
  },
  {
   "cell_type": "markdown",
   "id": "49b09d9c",
   "metadata": {},
   "source": [
    "# Cross Validation"
   ]
  },
  {
   "cell_type": "markdown",
   "id": "c2146c50",
   "metadata": {},
   "source": [
    "Cross validation is a technique to evaluate the model by splitting the data into training set and test set multiple times."
   ]
  },
  {
   "cell_type": "markdown",
   "id": "5cb86269",
   "metadata": {},
   "source": [
    "For example: 5-fold cross validation"
   ]
  },
  {
   "cell_type": "markdown",
   "id": "426b7095",
   "metadata": {},
   "source": [
    "- Split the data into 5 folds\n",
    "- Train the model using 4 folds, evaluate the model using the remaining fold\n",
    "- Repeat the process 5 times, each time use different fold as test set\n",
    "- Calculate the average score"
   ]
  },
  {
   "cell_type": "markdown",
   "id": "039e03ba",
   "metadata": {},
   "source": []
  },
  {
   "cell_type": "markdown",
   "id": "282c0537",
   "metadata": {},
   "source": [
    "![Image](https://upload.wikimedia.org/wikipedia/commons/b/b5/K-fold_cross_validation_EN.svg)"
   ]
  },
  {
   "cell_type": "code",
   "execution_count": null,
   "id": "00913dc7",
   "metadata": {},
   "outputs": [],
   "source": [
    "import numpy as np\n",
    "from sklearn.linear_model import LinearRegression\n",
    "from sklearn.model_selection import KFold, cross_val_score\n",
    "\n",
    "# Generate sample data\n",
    "np.random.seed(0)\n",
    "X = np.random.rand(100, 1)\n",
    "y = 2 + 3 * X + np.random.rand(100, 1)\n",
    "\n",
    "# Initialize the linear regression model\n",
    "model = LinearRegression()\n",
    "\n",
    "# Initialize the 5-fold cross-validation object\n",
    "kf = KFold(n_splits=5, shuffle=True)\n",
    "\n",
    "# Train and evaluate the model on each fold\n",
    "for train_index, test_index in kf.split(X):\n",
    "    # Split the data into training and test sets for this fold\n",
    "    X_train, X_test = X[train_index], X[test_index]\n",
    "    y_train, y_test = y[train_index], y[test_index]\n",
    "\n",
    "    # Fit the model on the training data for this fold\n",
    "    model.fit(X_train, y_train)\n",
    "\n",
    "    # Evaluate the model on the test data for this fold\n",
    "    score = model.score(X_test, y_test)\n",
    "\n",
    "    # Draw the plot\n",
    "    plt.scatter(X_train, y_train, label='Training set')\n",
    "    plt.scatter(X_test, y_test, label='Test set')\n",
    "    \n",
    "    # Show the plot\n",
    "    plt.legend()\n",
    "    plt.show()\n",
    "\n",
    "    # Print the score for this fold\n",
    "    print(f\"Fold score: {score:.2f}\")\n",
    "\n",
    "# Compute the overall score across all folds\n",
    "scores = cross_val_score(model, X, y, cv=kf)\n",
    "print(f\"Overall score: {np.mean(scores):.2f}\")"
   ]
  },
  {
   "cell_type": "markdown",
   "id": "b7e63ba5",
   "metadata": {},
   "source": []
  },
  {
   "cell_type": "code",
   "execution_count": null,
   "id": "707cee04",
   "metadata": {},
   "outputs": [],
   "source": [
    "Fold score: 0.83"
   ]
  },
  {
   "cell_type": "markdown",
   "id": "f65779ee",
   "metadata": {},
   "source": []
  },
  {
   "cell_type": "code",
   "execution_count": null,
   "id": "db52b07d",
   "metadata": {},
   "outputs": [],
   "source": [
    "Fold score: 0.93"
   ]
  },
  {
   "cell_type": "markdown",
   "id": "660ed070",
   "metadata": {},
   "source": []
  },
  {
   "cell_type": "code",
   "execution_count": null,
   "id": "841e9e47",
   "metadata": {},
   "outputs": [],
   "source": [
    "Fold score: 0.94"
   ]
  },
  {
   "cell_type": "markdown",
   "id": "68872e30",
   "metadata": {},
   "source": []
  },
  {
   "cell_type": "code",
   "execution_count": null,
   "id": "6c7bc163",
   "metadata": {},
   "outputs": [],
   "source": [
    "Fold score: 0.87"
   ]
  },
  {
   "cell_type": "markdown",
   "id": "e0320aea",
   "metadata": {},
   "source": []
  },
  {
   "cell_type": "code",
   "execution_count": null,
   "id": "39f33515",
   "metadata": {},
   "outputs": [],
   "source": [
    "Fold score: 0.88\n",
    "Overall score: 0.89"
   ]
  },
  {
   "cell_type": "markdown",
   "id": "71ebdfd6",
   "metadata": {},
   "source": [
    "# Regression vs Classification"
   ]
  },
  {
   "cell_type": "markdown",
   "id": "14f115a1",
   "metadata": {},
   "source": [
    "# Regression"
   ]
  },
  {
   "cell_type": "markdown",
   "id": "be21b1be",
   "metadata": {},
   "source": [
    "Predict continuous value, e.g. predict the weight of a person (as shown in the supervised learning example)"
   ]
  },
  {
   "cell_type": "markdown",
   "id": "54ac1012",
   "metadata": {},
   "source": [
    "# Classification"
   ]
  },
  {
   "cell_type": "markdown",
   "id": "b13d6725",
   "metadata": {},
   "source": [
    "Classify the data into different classes, e.g. classify the email into spam or not spam"
   ]
  },
  {
   "cell_type": "code",
   "execution_count": null,
   "id": "8065574f",
   "metadata": {},
   "outputs": [],
   "source": [
    "# Download MNIST dataset\n",
    "\n",
    "from sklearn.datasets import fetch_openml\n",
    "mnist = fetch_openml('mnist_784', version=1, as_frame=True)"
   ]
  },
  {
   "cell_type": "code",
   "execution_count": null,
   "id": "28158e91",
   "metadata": {},
   "outputs": [],
   "source": [
    "/Users/ruangguru/.pyenv/versions/3.11.1/lib/python3.11/site-packages/sklearn/datasets/_openml.py:968: FutureWarning: The default value of `parser` will change from `'liac-arff'` to `'auto'` in 1.4. You can set `parser='auto'` to silence this warning. Therefore, an `ImportError` will be raised from 1.4 if the dataset is dense and pandas is not installed. Note that the pandas parser may return different data types. See the Notes Section in fetch_openml's API doc for details.\n",
    "  warn("
   ]
  },
  {
   "cell_type": "code",
   "execution_count": null,
   "id": "5021bc12",
   "metadata": {},
   "outputs": [],
   "source": [
    "X = mnist['data']\n",
    "y = mnist['target']\n",
    "\n",
    "print(X.shape, y.shape)"
   ]
  },
  {
   "cell_type": "code",
   "execution_count": null,
   "id": "097d6f71",
   "metadata": {},
   "outputs": [],
   "source": [
    "(70000, 784) (70000,)"
   ]
  },
  {
   "cell_type": "code",
   "execution_count": null,
   "id": "c77ef823",
   "metadata": {},
   "outputs": [],
   "source": [
    "X.head()"
   ]
  },
  {
   "cell_type": "markdown",
   "id": "6eb2c738",
   "metadata": {},
   "source": [
    "|  | pixel1 | pixel2 | pixel3 | pixel4 | pixel5 | pixel6 | pixel7 | pixel8 | pixel9 | pixel10 | ... | pixel775 | pixel776 | pixel777 | pixel778 | pixel779 | pixel780 | pixel781 | pixel782 | pixel783 | pixel784 |\n",
    "| --- | --- | --- | --- | --- | --- | --- | --- | --- | --- | --- | --- | --- | --- | --- | --- | --- | --- | --- | --- | --- | --- |\n",
    "| 0 | 0.0 | 0.0 | 0.0 | 0.0 | 0.0 | 0.0 | 0.0 | 0.0 | 0.0 | 0.0 | ... | 0.0 | 0.0 | 0.0 | 0.0 | 0.0 | 0.0 | 0.0 | 0.0 | 0.0 | 0.0 |\n",
    "| 1 | 0.0 | 0.0 | 0.0 | 0.0 | 0.0 | 0.0 | 0.0 | 0.0 | 0.0 | 0.0 | ... | 0.0 | 0.0 | 0.0 | 0.0 | 0.0 | 0.0 | 0.0 | 0.0 | 0.0 | 0.0 |\n",
    "| 2 | 0.0 | 0.0 | 0.0 | 0.0 | 0.0 | 0.0 | 0.0 | 0.0 | 0.0 | 0.0 | ... | 0.0 | 0.0 | 0.0 | 0.0 | 0.0 | 0.0 | 0.0 | 0.0 | 0.0 | 0.0 |\n",
    "| 3 | 0.0 | 0.0 | 0.0 | 0.0 | 0.0 | 0.0 | 0.0 | 0.0 | 0.0 | 0.0 | ... | 0.0 | 0.0 | 0.0 | 0.0 | 0.0 | 0.0 | 0.0 | 0.0 | 0.0 | 0.0 |\n",
    "| 4 | 0.0 | 0.0 | 0.0 | 0.0 | 0.0 | 0.0 | 0.0 | 0.0 | 0.0 | 0.0 | ... | 0.0 | 0.0 | 0.0 | 0.0 | 0.0 | 0.0 | 0.0 | 0.0 | 0.0 | 0.0 |"
   ]
  },
  {
   "cell_type": "markdown",
   "id": "8566212e",
   "metadata": {},
   "source": [
    "5 rows × 784 columns"
   ]
  },
  {
   "cell_type": "code",
   "execution_count": null,
   "id": "088123ae",
   "metadata": {},
   "outputs": [],
   "source": [
    "y.head()"
   ]
  },
  {
   "cell_type": "code",
   "execution_count": null,
   "id": "57265217",
   "metadata": {},
   "outputs": [],
   "source": [
    "0    5\n",
    "1    0\n",
    "2    4\n",
    "3    1\n",
    "4    9\n",
    "Name: class, dtype: category\n",
    "Categories (10, object): ['0', '1', '2', '3', ..., '6', '7', '8', '9']"
   ]
  },
  {
   "cell_type": "code",
   "execution_count": null,
   "id": "d94bce37",
   "metadata": {},
   "outputs": [],
   "source": [
    "# Plot the first 20 images\n",
    "\n",
    "import matplotlib.pyplot as plt\n",
    "\n",
    "for i in range(5):\n",
    "    some_digit = X.iloc[i]\n",
    "    some_digit_image = some_digit.values.reshape(28, 28)\n",
    "\n",
    "    plt.imshow(some_digit_image, cmap='binary')\n",
    "    plt.axis('off')\n",
    "\n",
    "    # Draw label y on the bottom\n",
    "    plt.text(0, 28, y[i], fontsize=14, color='g')\n",
    "    plt.show()"
   ]
  },
  {
   "cell_type": "markdown",
   "id": "c87d2ae0",
   "metadata": {},
   "source": []
  },
  {
   "cell_type": "markdown",
   "id": "44720ad1",
   "metadata": {},
   "source": []
  },
  {
   "cell_type": "markdown",
   "id": "a26eb12e",
   "metadata": {},
   "source": []
  },
  {
   "cell_type": "markdown",
   "id": "0a45e481",
   "metadata": {},
   "source": []
  },
  {
   "cell_type": "markdown",
   "id": "a11c2c90",
   "metadata": {},
   "source": []
  },
  {
   "cell_type": "markdown",
   "id": "6dfca201",
   "metadata": {},
   "source": [
    "This is classification problem."
   ]
  },
  {
   "cell_type": "markdown",
   "id": "aca68409",
   "metadata": {},
   "source": [
    "Given images, classify the images into correct numbers"
   ]
  },
  {
   "cell_type": "markdown",
   "id": "e7e597f4",
   "metadata": {},
   "source": [
    "# Confusion Matrix"
   ]
  },
  {
   "cell_type": "markdown",
   "id": "6dca8d4b",
   "metadata": {},
   "source": [
    "Classification matrix needs different metrics to evaluate the model. And the objective metrics can be different for different problems."
   ]
  },
  {
   "cell_type": "markdown",
   "id": "8ab47433",
   "metadata": {},
   "source": [
    "Confusion matrix is a table to visualize the performance of the classification model"
   ]
  },
  {
   "cell_type": "markdown",
   "id": "7ef95009",
   "metadata": {},
   "source": [
    "Example of Confusion Matrix"
   ]
  },
  {
   "cell_type": "markdown",
   "id": "d2ebdc2f",
   "metadata": {},
   "source": [
    "|  | Predicted: Not Spam | Predicted: Spam |\n",
    "| --- | --- | --- |\n",
    "| Actual: Not Spam | True Negative | False Positive |\n",
    "| Actual: Spam | False Negative | True Positive |"
   ]
  },
  {
   "cell_type": "code",
   "execution_count": null,
   "id": "5cdfbed7",
   "metadata": {},
   "outputs": [],
   "source": [
    "import matplotlib.pyplot as plt\n",
    "\n",
    "# split the data into train and test\n",
    "train_size = 60000\n",
    "train_X, test_X = X[:train_size], X[train_size:]\n",
    "train_y, test_y = y[:train_size], y[train_size:]\n",
    "\n",
    "is_7_train = train_y == '7'\n",
    "is_7_test = test_y == '7'\n",
    "\n",
    "# Train the model\n",
    "from sklearn.linear_model import SGDClassifier\n",
    "sgd_clf = SGDClassifier(random_state=42)\n",
    "sgd_clf.fit(train_X, is_7_train)"
   ]
  },
  {
   "cell_type": "code",
   "execution_count": null,
   "id": "07172a47",
   "metadata": {},
   "outputs": [],
   "source": [
    "SGDClassifier(random_state=42)"
   ]
  },
  {
   "cell_type": "code",
   "execution_count": null,
   "id": "16c74463",
   "metadata": {},
   "outputs": [],
   "source": [
    "SGDClassifier(random_state=42)"
   ]
  },
  {
   "cell_type": "code",
   "execution_count": null,
   "id": "f5eab6ea",
   "metadata": {},
   "outputs": [],
   "source": [
    "# Draw confusion matrix\n",
    "from sklearn.metrics import confusion_matrix\n",
    "\n",
    "y_pred = sgd_clf.predict(test_X)\n",
    "cm = confusion_matrix(is_7_test, y_pred)\n",
    "print(cm)"
   ]
  },
  {
   "cell_type": "code",
   "execution_count": null,
   "id": "736b1ee1",
   "metadata": {},
   "outputs": [],
   "source": [
    "[[8902   70]\n",
    " [ 107  921]]"
   ]
  },
  {
   "cell_type": "markdown",
   "id": "154cf8a3",
   "metadata": {},
   "source": [
    "# False Positive"
   ]
  },
  {
   "cell_type": "code",
   "execution_count": null,
   "id": "fe19408e",
   "metadata": {},
   "outputs": [],
   "source": [
    "# Draw the false positive\n",
    "\n",
    "import matplotlib.pyplot as plt\n",
    "\n",
    "false_positive = (is_7_test == False) & (y_pred == True)\n",
    "false_positive_images = test_X[false_positive]\n",
    "\n",
    "for i in range(3):\n",
    "    some_digit = false_positive_images.iloc[i]\n",
    "    some_digit_image = some_digit.values.reshape(28, 28)\n",
    "\n",
    "    plt.imshow(some_digit_image, cmap='binary')\n",
    "    plt.axis('off')\n",
    "\n",
    "    # Draw label y on the bottom\n",
    "    plt.text(0, 28, 'False Positive (predicted 7, but it is NOT 7)', fontsize=14, color='r')\n",
    "    plt.show()"
   ]
  },
  {
   "cell_type": "markdown",
   "id": "3de212ce",
   "metadata": {},
   "source": []
  },
  {
   "cell_type": "markdown",
   "id": "83917d11",
   "metadata": {},
   "source": []
  },
  {
   "cell_type": "markdown",
   "id": "8eedf71b",
   "metadata": {},
   "source": []
  },
  {
   "cell_type": "markdown",
   "id": "5bc78e59",
   "metadata": {},
   "source": [
    "# False Negative"
   ]
  },
  {
   "cell_type": "code",
   "execution_count": null,
   "id": "f17e4e22",
   "metadata": {},
   "outputs": [],
   "source": [
    "# Draw the false negative\n",
    "\n",
    "import matplotlib.pyplot as plt\n",
    "\n",
    "false_negative = (is_7_test == True) & (y_pred == False)\n",
    "false_negative_images = test_X[false_negative]\n",
    "\n",
    "for i in range(3):\n",
    "    some_digit = false_negative_images.iloc[i]\n",
    "    some_digit_image = some_digit.values.reshape(28, 28)\n",
    "\n",
    "    plt.imshow(some_digit_image, cmap='binary')\n",
    "    plt.axis('off')\n",
    "\n",
    "    # Draw label y on the bottom\n",
    "    plt.text(0, 28, 'False Negative (predicted NOT 7, but it is 7)', fontsize=14, color='r')\n",
    "    plt.show()"
   ]
  },
  {
   "cell_type": "markdown",
   "id": "c4bce5cf",
   "metadata": {},
   "source": []
  },
  {
   "cell_type": "markdown",
   "id": "5cd755f4",
   "metadata": {},
   "source": []
  },
  {
   "cell_type": "markdown",
   "id": "0bb0e03f",
   "metadata": {},
   "source": []
  },
  {
   "cell_type": "markdown",
   "id": "916a6b51",
   "metadata": {},
   "source": [
    "# True Negative"
   ]
  },
  {
   "cell_type": "code",
   "execution_count": null,
   "id": "c6c9394f",
   "metadata": {},
   "outputs": [],
   "source": [
    "# Draw the true negative\n",
    "\n",
    "import matplotlib.pyplot as plt\n",
    "\n",
    "true_negative = (is_7_test == False) & (y_pred == False)\n",
    "true_negative_images = test_X[true_negative]\n",
    "\n",
    "for i in range(3):\n",
    "    some_digit = true_negative_images.iloc[i]\n",
    "    some_digit_image = some_digit.values.reshape(28, 28)\n",
    "\n",
    "    plt.imshow(some_digit_image, cmap='binary')\n",
    "    plt.axis('off')\n",
    "\n",
    "    # Draw label y on the bottom\n",
    "    plt.text(0, 28, 'True Negative (predicted NOT 7, and it is NOT 7)', fontsize=14, color='g')\n",
    "    plt.show()"
   ]
  },
  {
   "cell_type": "markdown",
   "id": "c3fa210d",
   "metadata": {},
   "source": []
  },
  {
   "cell_type": "markdown",
   "id": "6051f7ee",
   "metadata": {},
   "source": []
  },
  {
   "cell_type": "markdown",
   "id": "546ac1e5",
   "metadata": {},
   "source": []
  },
  {
   "cell_type": "markdown",
   "id": "5541668d",
   "metadata": {},
   "source": [
    "# True Positive"
   ]
  },
  {
   "cell_type": "code",
   "execution_count": null,
   "id": "463b516e",
   "metadata": {},
   "outputs": [],
   "source": [
    "# Draw the true positive\n",
    "\n",
    "import matplotlib.pyplot as plt\n",
    "\n",
    "true_positive = (is_7_test == True) & (y_pred == True)\n",
    "true_positive_images = test_X[true_positive]\n",
    "\n",
    "for i in range(3):\n",
    "    some_digit = true_positive_images.iloc[i]\n",
    "    some_digit_image = some_digit.values.reshape(28, 28)\n",
    "\n",
    "    plt.imshow(some_digit_image, cmap='binary')\n",
    "    plt.axis('off')\n",
    "\n",
    "    # Draw label y on the bottom\n",
    "    plt.text(0, 28, 'True Positive (predicted 7, and it is 7)', fontsize=14, color='g')\n",
    "    plt.show()"
   ]
  },
  {
   "cell_type": "markdown",
   "id": "8e209c8b",
   "metadata": {},
   "source": []
  },
  {
   "cell_type": "markdown",
   "id": "4a2adf04",
   "metadata": {},
   "source": []
  },
  {
   "cell_type": "markdown",
   "id": "75620921",
   "metadata": {},
   "source": []
  },
  {
   "cell_type": "markdown",
   "id": "7798905c",
   "metadata": {},
   "source": [
    "# Why not use accuracy?"
   ]
  },
  {
   "cell_type": "markdown",
   "id": "15c6a376",
   "metadata": {},
   "source": [
    "Accuracy may not be a good metric for classification problem, because the data can be imbalanced."
   ]
  },
  {
   "cell_type": "markdown",
   "id": "1b862bb1",
   "metadata": {},
   "source": [
    "For example:"
   ]
  },
  {
   "cell_type": "markdown",
   "id": "cd8a9952",
   "metadata": {},
   "source": [
    "- 99% of the email is not spam\n",
    "- 1% of the email is spam"
   ]
  },
  {
   "cell_type": "markdown",
   "id": "e80adf55",
   "metadata": {},
   "source": [
    "If the model always predict the email as not spam, the accuracy is 99%. But the model is not useful at all."
   ]
  },
  {
   "cell_type": "markdown",
   "id": "a8142d06",
   "metadata": {},
   "source": [
    "Confusion Matrix:"
   ]
  },
  {
   "cell_type": "markdown",
   "id": "6491996a",
   "metadata": {},
   "source": [
    "|  | Predicted: Not Spam | Predicted: Spam |\n",
    "| --- | --- | --- |\n",
    "| Actual: Not Spam | 99 | 0 |\n",
    "| Actual: Spam | 1 | 0 |"
   ]
  },
  {
   "cell_type": "markdown",
   "id": "c788c847",
   "metadata": {},
   "source": [
    "Or in our MNIST example:"
   ]
  },
  {
   "cell_type": "markdown",
   "id": "88749068",
   "metadata": {},
   "source": [
    "When we want to classify if the image is number 7 or not, a model that always predict the image as not 7 will have 90% accuracy."
   ]
  },
  {
   "cell_type": "markdown",
   "id": "b734b6c9",
   "metadata": {},
   "source": [
    "Confusion Matrix:"
   ]
  },
  {
   "cell_type": "markdown",
   "id": "604e9243",
   "metadata": {},
   "source": [
    "|  | Predicted: Not 7 | Predicted: 7 |\n",
    "| --- | --- | --- |\n",
    "| Actual: Not 7 | 90 | 0 |\n",
    "| Actual: 7 | 10 | 0 |"
   ]
  },
  {
   "cell_type": "markdown",
   "id": "f8457a5a",
   "metadata": {},
   "source": [
    "# Precision & Recall"
   ]
  },
  {
   "cell_type": "markdown",
   "id": "e74b252a",
   "metadata": {},
   "source": [
    "We need other metrics!"
   ]
  },
  {
   "cell_type": "markdown",
   "id": "d4446173",
   "metadata": {},
   "source": [
    "\\[\\begin{align*}\n",
    "\\text{Recall} &= \\frac{\\text{True Positive}}{\\text{True Positive} + \\text{False Negative}} \\\\\n",
    "\\text{Precision} &= \\frac{\\text{True Positive}}{\\text{True Positive} + \\text{False Positive}}\n",
    "\\end{align*}\\]"
   ]
  },
  {
   "cell_type": "markdown",
   "id": "61b56678",
   "metadata": {},
   "source": [
    " Source: Hands-on Machine Learning with Scikit-Learn, Keras, and TensorFlow, 2nd Edition"
   ]
  },
  {
   "cell_type": "markdown",
   "id": "c4677a94",
   "metadata": {},
   "source": [
    "![Image](https://storage.googleapis.com/rg-ai-bootcamp/machine-learning/precision-and-recall-min.png)"
   ]
  },
  {
   "cell_type": "markdown",
   "id": "84ba0c8a",
   "metadata": {},
   "source": [
    "Example:"
   ]
  },
  {
   "cell_type": "markdown",
   "id": "df0af6c5",
   "metadata": {},
   "source": [
    "|  | Predicted: Not 7 | Predicted: 7 |\n",
    "| --- | --- | --- |\n",
    "| Actual: Not 7 | 90 | 0 |\n",
    "| Actual: 7 | 10 | 0 |"
   ]
  },
  {
   "cell_type": "markdown",
   "id": "a65cc95b",
   "metadata": {},
   "source": [
    "- Recall = 0 / (0 + 10) = 0\n",
    "- Precision = 0 / (0 + 0) = 0"
   ]
  },
  {
   "cell_type": "markdown",
   "id": "cd4d66c2",
   "metadata": {},
   "source": [
    "# Perfect Recall"
   ]
  },
  {
   "cell_type": "markdown",
   "id": "ea3cf5f7",
   "metadata": {},
   "source": [
    "Confusion Matrix:"
   ]
  },
  {
   "cell_type": "markdown",
   "id": "d3be513e",
   "metadata": {},
   "source": [
    "|  | Predicted: Not 7 | Predicted: 7 |\n",
    "| --- | --- | --- |\n",
    "| Actual: Not 7 | 0 | 90 |\n",
    "| Actual: 7 | 0 | 10 |"
   ]
  },
  {
   "cell_type": "markdown",
   "id": "20f5803e",
   "metadata": {},
   "source": [
    "If our model always predict ALL image as 7, the recall will be 100% (10 / (10 + 0) = 1)."
   ]
  },
  {
   "cell_type": "markdown",
   "id": "3ad2065d",
   "metadata": {},
   "source": [
    "Perfect recall means that the model will never miss any 7, but it will also predict many non-7 as 7."
   ]
  },
  {
   "cell_type": "code",
   "execution_count": null,
   "id": "0e375252",
   "metadata": {},
   "outputs": [],
   "source": [
    "Q: Is \"7\" seven?\n",
    "A: Yes, it is seven\n",
    "Q: Is \"7\" seven?\n",
    "A: Yes, it is seven\n",
    "Q: Is \"8\" seven?\n",
    "A: Yes, it is seven\n",
    "Q: Is \"9\" seven?\n",
    "A: Yes, it is seven"
   ]
  },
  {
   "cell_type": "markdown",
   "id": "6d6115d6",
   "metadata": {},
   "source": [
    "# Perfect Precision"
   ]
  },
  {
   "cell_type": "markdown",
   "id": "7ea093d1",
   "metadata": {},
   "source": [
    "Confusion Matrix:"
   ]
  },
  {
   "cell_type": "markdown",
   "id": "60db7b2d",
   "metadata": {},
   "source": [
    "|  | Predicted: Not 7 | Predicted: 7 |\n",
    "| --- | --- | --- |\n",
    "| Actual: Not 7 | 90 | 0 |\n",
    "| Actual: 7 | 9 | 1 |"
   ]
  },
  {
   "cell_type": "markdown",
   "id": "0347fe73",
   "metadata": {},
   "source": [
    "If our model is very careful and only predict the image as 7 when it is very sure, we will have a perfect precision."
   ]
  },
  {
   "cell_type": "markdown",
   "id": "c1696c7a",
   "metadata": {},
   "source": [
    "Perfect precision means that when the model predict the image as 7, it is actually 7. But the model may miss a lot of 7s."
   ]
  },
  {
   "cell_type": "code",
   "execution_count": null,
   "id": "4424d2b8",
   "metadata": {},
   "outputs": [],
   "source": [
    "Q: Is \"7\" seven?\n",
    "A: Yes, it is seven\n",
    "Q: Is \"8\" seven?\n",
    "A: No, it is not seven\n",
    "Q: Is \"9\" seven?\n",
    "A: No, it is not seven\n",
    "Q: Is \"7\" seven?\n",
    "A: No, it is not seven\n",
    "Q: Is \"7\" seven?\n",
    "A: No, it is not seven"
   ]
  },
  {
   "cell_type": "markdown",
   "id": "245edb0b",
   "metadata": {},
   "source": [
    "# When to use precision and when to use recall?"
   ]
  },
  {
   "cell_type": "markdown",
   "id": "9457034a",
   "metadata": {},
   "source": [
    "It depends on the problem."
   ]
  },
  {
   "cell_type": "markdown",
   "id": "f985460b",
   "metadata": {},
   "source": [
    "High Recall"
   ]
  },
  {
   "cell_type": "markdown",
   "id": "bf24fdee",
   "metadata": {},
   "source": [
    "- High Recall is prioritized when the cost of false negative is high.\n",
    "- A false negative (a person who has cancer but is predicted as not having it) could lead to lack of treatment and dire health implications.\n",
    "- A false positive (a person who doesn’t have cancer but is predicted as having it) would lead to further tests, which might be stressful and costly but isn’t immediately harmful."
   ]
  },
  {
   "cell_type": "markdown",
   "id": "8f859436",
   "metadata": {},
   "source": [
    "High Precision"
   ]
  },
  {
   "cell_type": "markdown",
   "id": "7f2e3e2e",
   "metadata": {},
   "source": [
    "- High Precision is prioritized when the cost of false positives is high.\n",
    "- A false positive (a legitimate transaction is incorrectly flagged as fraudulent), can lead to customer frustration.\n",
    "- A false negative (missing a fraudulent transaction) may be deemed more acceptable than annoying or alienating a large number of genuine customers."
   ]
  },
  {
   "cell_type": "markdown",
   "id": "03157c90",
   "metadata": {},
   "source": [
    "# F1 Score"
   ]
  },
  {
   "cell_type": "markdown",
   "id": "6053f0cc",
   "metadata": {},
   "source": [
    "F1 score is a metric that combines precision and recall."
   ]
  },
  {
   "cell_type": "markdown",
   "id": "2354c528",
   "metadata": {},
   "source": [
    "The formula for F1 score is:"
   ]
  },
  {
   "cell_type": "markdown",
   "id": "b3e59b5b",
   "metadata": {},
   "source": [
    "\\[F1 = \\frac{2}{\\frac{1}{Precision} + \\frac{1}{Recall}}\\]"
   ]
  },
  {
   "cell_type": "markdown",
   "id": "39d27a69",
   "metadata": {},
   "source": [
    "The F1 score favors classifiers that have similar precision and recall. This is not always what you want: in some contexts you mostly care about precision, and in other contexts you really care about recall."
   ]
  }
 ],
 "metadata": {},
 "nbformat": 4,
 "nbformat_minor": 5
}
