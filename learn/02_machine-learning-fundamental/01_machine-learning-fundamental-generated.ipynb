{
 "cells": [
  {
   "cell_type": "markdown",
   "id": "2b784a31",
   "metadata": {},
   "source": [
    "source: [https://ai-bootcamp.ruangguru.com/learn/02_machine-learning-fundamental/01_machine-learning-fundamental.html](https://ai-bootcamp.ruangguru.com/learn/02_machine-learning-fundamental/01_machine-learning-fundamental.html)"
   ]
  },
  {
   "cell_type": "markdown",
   "id": "3c8b72cc",
   "metadata": {},
   "source": [
    "# Introduction to Machine Learning"
   ]
  },
  {
   "cell_type": "markdown",
   "id": "ade708cc",
   "metadata": {},
   "source": [
    "# Supervised vs Unsupervised vs Semi-supervised"
   ]
  },
  {
   "cell_type": "markdown",
   "id": "e739adc4",
   "metadata": {},
   "source": [
    "# Supervised"
   ]
  },
  {
   "cell_type": "markdown",
   "id": "1fcda680",
   "metadata": {},
   "source": [
    "Target/label is given, e.g."
   ]
  },
  {
   "cell_type": "markdown",
   "id": "28715df1",
   "metadata": {},
   "source": [
    "| Height | Weight (Label) |\n",
    "| --- | --- |\n",
    "| 180 | 80 |\n",
    "| 160 | 60 |\n",
    "| 170 | 70 |\n",
    "| 190 | 90 |"
   ]
  },
  {
   "cell_type": "markdown",
   "id": "2c2f8744",
   "metadata": {},
   "source": [
    "Task: Given height (feature/attribute), predict the weight"
   ]
  },
  {
   "cell_type": "markdown",
   "id": "e88983e2",
   "metadata": {},
   "source": [
    "Example: Linear regression, logistic regression, decision tree, random forest, support vector machine, neural network"
   ]
  },
  {
   "cell_type": "code",
   "execution_count": null,
   "id": "98706f06",
   "metadata": {},
   "outputs": [],
   "source": [
    "import matplotlib.pyplot as plt\n",
    "import numpy as np\n",
    "from math import sqrt\n",
    "\n",
    "weight = np.random.randint(40, 100, 30)\n",
    "height = np.sqrt(weight / 20) * 100 + np.random.randint(-20, 20, 30)\n",
    "\n",
    "# plot\n",
    "plt.scatter(weight, height)\n",
    "plt.xlabel('weight')\n",
    "plt.ylabel('height')\n",
    "plt.title('weight vs height')\n",
    "plt.show()"
   ]
  },
  {
   "cell_type": "markdown",
   "id": "f0e1debb",
   "metadata": {},
   "source": []
  },
  {
   "cell_type": "markdown",
   "id": "43b49346",
   "metadata": {},
   "source": [
    "Problem: How to predict the weight of a person with height 175cm?"
   ]
  },
  {
   "cell_type": "code",
   "execution_count": null,
   "id": "57092e87",
   "metadata": {},
   "outputs": [],
   "source": [
    "import matplotlib.pyplot as plt\n",
    "import numpy as np\n",
    "from math import sqrt\n",
    "\n",
    "weight = np.random.randint(40, 100, 30)\n",
    "height = np.sqrt(weight / 20) * 100 + np.random.randint(-20, 20, 30)\n",
    "\n",
    "# implement linear regression using scikit to predict weight from height\n",
    "from sklearn.linear_model import LinearRegression\n",
    "model = LinearRegression()\n",
    "model.fit(height.reshape(-1, 1), weight)\n",
    "weight_pred = model.predict(height.reshape(-1, 1))\n",
    "\n",
    "\n",
    "# plot\n",
    "plt.scatter(weight, height)\n",
    "plt.xlabel('weight')\n",
    "plt.ylabel('height')\n",
    "plt.title('weight vs height')\n",
    "\n",
    "# plot the regression line\n",
    "plt.plot(weight_pred, height, color='red')\n",
    "plt.show()\n"
   ]
  },
  {
   "cell_type": "markdown",
   "id": "cece5dd2",
   "metadata": {},
   "source": []
  },
  {
   "cell_type": "markdown",
   "id": "97c731c8",
   "metadata": {},
   "source": [
    "# Unsupervised"
   ]
  },
  {
   "cell_type": "markdown",
   "id": "cb0600f7",
   "metadata": {},
   "source": [
    "Label is not given, the task is to find the pattern in the data, e.g. anomaly detection, clustering"
   ]
  },
  {
   "cell_type": "code",
   "execution_count": null,
   "id": "549ca99b",
   "metadata": {},
   "outputs": [],
   "source": [
    "# Create a sample of clustering data\n",
    "\n",
    "from sklearn.datasets import make_blobs\n",
    "import matplotlib.pyplot as plt\n",
    "\n",
    "# Generate sample data\n",
    "X, y = make_blobs(n_samples=300, centers=4, cluster_std=0.60, random_state=0)\n",
    "\n",
    "# Plot the data\n",
    "plt.scatter(X[:, 0], X[:, 1], s=50)\n",
    "plt.show()"
   ]
  },
  {
   "cell_type": "markdown",
   "id": "9fc9c4f7",
   "metadata": {},
   "source": []
  },
  {
   "cell_type": "markdown",
   "id": "a679a303",
   "metadata": {},
   "source": [
    "Without any label or target, predict which data belongs to which cluster"
   ]
  },
  {
   "cell_type": "code",
   "execution_count": null,
   "id": "f3f0fc48",
   "metadata": {},
   "outputs": [],
   "source": [
    "# Create a sample of clustering data\n",
    "\n",
    "from sklearn.datasets import make_blobs\n",
    "import matplotlib.pyplot as plt\n",
    "\n",
    "# Generate sample data\n",
    "X, y = make_blobs(n_samples=300, centers=4, cluster_std=0.60, random_state=0)\n",
    "\n",
    "# Implement K-NN clustering\n",
    "from sklearn.cluster import KMeans\n",
    "kmeans = KMeans(n_clusters=4)\n",
    "kmeans.fit(X)\n",
    "y_pred = kmeans.predict(X)\n",
    "\n",
    "# Plot the clustering result\n",
    "plt.scatter(X[:, 0], X[:, 1], c=y_pred, s=50, cmap='viridis')\n",
    "plt.show()"
   ]
  },
  {
   "cell_type": "code",
   "execution_count": null,
   "id": "7d031d83",
   "metadata": {},
   "outputs": [],
   "source": [
    "/Users/ruangguru/.pyenv/versions/3.11.1/lib/python3.11/site-packages/sklearn/cluster/_kmeans.py:870: FutureWarning: The default value of `n_init` will change from 10 to 'auto' in 1.4. Set the value of `n_init` explicitly to suppress the warning\n",
    "  warnings.warn("
   ]
  },
  {
   "cell_type": "markdown",
   "id": "9f7ff170",
   "metadata": {},
   "source": []
  },
  {
   "cell_type": "markdown",
   "id": "e37ac47e",
   "metadata": {},
   "source": [
    "# Semi Supervised"
   ]
  },
  {
   "cell_type": "markdown",
   "id": "97036763",
   "metadata": {},
   "source": [
    "Combination of unsupervised and supervised learning"
   ]
  },
  {
   "cell_type": "markdown",
   "id": "b5267e10",
   "metadata": {},
   "source": [
    "Example: Google Photos"
   ]
  },
  {
   "cell_type": "markdown",
   "id": "188b5579",
   "metadata": {},
   "source": [
    "- Unsupervised: Grouping photos based on the face\n",
    "- Supervised: Ask the user to label the face with name"
   ]
  },
  {
   "cell_type": "markdown",
   "id": "15442741",
   "metadata": {},
   "source": []
  },
  {
   "cell_type": "markdown",
   "id": "eb1b5801",
   "metadata": {},
   "source": [
    "![Image](https://storage.googleapis.com/support-forums-api/attachment/message-98489306-15452541684849637976.jpg)"
   ]
  },
  {
   "cell_type": "markdown",
   "id": "6c678ba9",
   "metadata": {},
   "source": [
    "# Overfitting"
   ]
  },
  {
   "cell_type": "markdown",
   "id": "31fc6f57",
   "metadata": {},
   "source": [
    "The model doesn’t generalize well, it memorizes the training data"
   ]
  },
  {
   "cell_type": "code",
   "execution_count": null,
   "id": "e3f17dca",
   "metadata": {},
   "outputs": [],
   "source": [
    "# Create a sample X and Y data\n",
    "\n",
    "import numpy as np\n",
    "import matplotlib.pyplot as plt\n",
    "\n",
    "# set seed\n",
    "np.random.seed(0)\n",
    "\n",
    "# Generate sample data\n",
    "X = np.random.rand(100, 1)\n",
    "y = 2 + 3 * X + np.random.rand(100, 1)\n",
    "\n",
    "# Make a overfit regression\n",
    "from sklearn.linear_model import LinearRegression\n",
    "from sklearn.preprocessing import PolynomialFeatures\n",
    "from sklearn.pipeline import make_pipeline\n",
    "\n",
    "model = make_pipeline(PolynomialFeatures(20), LinearRegression())\n",
    "model.fit(X, y)\n",
    "\n",
    "# Plot the data\n",
    "plt.scatter(X, y)\n",
    "\n",
    "# draw the model\n",
    "X_test = np.linspace(0, 1, 100)\n",
    "y_pred = model.predict(X_test.reshape(-1, 1))\n",
    "plt.plot(X_test, y_pred, color='red')\n",
    "\n",
    "plt.show()"
   ]
  },
  {
   "cell_type": "markdown",
   "id": "936ec050",
   "metadata": {},
   "source": []
  },
  {
   "cell_type": "markdown",
   "id": "355808e9",
   "metadata": {},
   "source": [
    "# Training Set & Test Set"
   ]
  },
  {
   "cell_type": "markdown",
   "id": "91e825b3",
   "metadata": {},
   "source": [
    "To prevent overfitting, we need to have a separate data to evaluate the model"
   ]
  },
  {
   "cell_type": "markdown",
   "id": "0306b3c0",
   "metadata": {},
   "source": [
    "One way to do it is to split the data into two sets:"
   ]
  },
  {
   "cell_type": "markdown",
   "id": "98c1ab73",
   "metadata": {},
   "source": [
    "- Training set: used to train the model\n",
    "- Test set: used to evaluate the model"
   ]
  },
  {
   "cell_type": "markdown",
   "id": "506ebd64",
   "metadata": {},
   "source": [
    "When overfitting happen, the model will perform well on the training set but perform poorly on the test set"
   ]
  },
  {
   "cell_type": "markdown",
   "id": "bf69289d",
   "metadata": {},
   "source": [
    "To split the data, we can do it manually or use train_test_split function from sklearn"
   ]
  },
  {
   "cell_type": "code",
   "execution_count": null,
   "id": "90fbeaba",
   "metadata": {},
   "outputs": [],
   "source": [
    "# Split the data into training and test set manually\n",
    "\n",
    "import numpy as np\n",
    "import matplotlib.pyplot as plt\n",
    "\n",
    "# set seed\n",
    "np.random.seed(0)\n",
    "\n",
    "# Generate sample data\n",
    "X = np.random.rand(100, 1)\n",
    "y = 2 + 3 * X + np.random.rand(100, 1)\n",
    "\n",
    "# Split the data into training and test set manually\n",
    "X_train, y_train = X[:80], y[:80]\n",
    "X_test, y_test = X[80:], y[80:]\n",
    "\n",
    "# Plot the training and test set\n",
    "plt.scatter(X_train, y_train, label='Training set')\n",
    "plt.scatter(X_test, y_test, label='Test set')\n",
    "plt.legend()\n",
    "plt.show()"
   ]
  },
  {
   "cell_type": "markdown",
   "id": "3a5688ef",
   "metadata": {},
   "source": []
  },
  {
   "cell_type": "markdown",
   "id": "4af38e5c",
   "metadata": {},
   "source": [
    "But be careful, the data should be shuffled first before splitting"
   ]
  },
  {
   "cell_type": "markdown",
   "id": "8b4c74d6",
   "metadata": {},
   "source": [
    "Otherwise, the model will be trained on the same data distribution"
   ]
  },
  {
   "cell_type": "code",
   "execution_count": null,
   "id": "e41125e1",
   "metadata": {},
   "outputs": [],
   "source": [
    "# Split the data into training and test set manually\n",
    "\n",
    "import numpy as np\n",
    "import matplotlib.pyplot as plt\n",
    "\n",
    "# set seed\n",
    "np.random.seed(0)\n",
    "\n",
    "# Generate sample data\n",
    "# X being a 100 x 1 matrix, ordered from 0 to 100\n",
    "X = np.arange(100).reshape(100, 1)\n",
    "y = 2 + 3 * X + np.random.rand(100, 1)\n",
    "y[X >= 80] = 2 + 5 * X[X >= 80].flatten() + np.random.rand(len(X[X >= 80]))\n",
    "\n",
    "# Split the data into training and test set manually\n",
    "X_train, y_train = X[:80], y[:80]\n",
    "X_test, y_test = X[80:], y[80:]\n",
    "\n",
    "# Train a linear regression model\n",
    "model = LinearRegression()\n",
    "model.fit(X_train, y_train)\n",
    "\n",
    "# Plot the training and test set\n",
    "plt.scatter(X_train, y_train, label='Training set')\n",
    "plt.scatter(X_test, y_test, label='Test set')\n",
    "\n",
    "# Plot the regression line\n",
    "X_test = np.linspace(0, 100, 100)\n",
    "y_pred = model.predict(X_test.reshape(-1, 1))\n",
    "plt.plot(X_test, y_pred, color='red', label='Regression line')\n",
    "\n",
    "plt.legend()\n",
    "\n",
    "plt.show()"
   ]
  },
  {
   "cell_type": "markdown",
   "id": "fe81bb0e",
   "metadata": {},
   "source": []
  },
  {
   "cell_type": "code",
   "execution_count": null,
   "id": "8196ddfc",
   "metadata": {},
   "outputs": [],
   "source": [
    "# Split the data into training and test set manually\n",
    "\n",
    "import numpy as np\n",
    "import matplotlib.pyplot as plt\n",
    "\n",
    "# set seed\n",
    "np.random.seed(0)\n",
    "\n",
    "# Generate sample data\n",
    "# X being a 100 x 1 matrix, ordered from 0 to 100\n",
    "X = np.arange(100).reshape(100, 1)\n",
    "y = 2 + 3 * X + np.random.rand(100, 1)\n",
    "y[X >= 80] = 2 + 5 * X[X >= 80].flatten() + np.random.rand(len(X[X >= 80]))\n",
    "\n",
    "# Split the data into training and test using scikit\n",
    "from sklearn.model_selection import train_test_split\n",
    "X_train, X_test, y_train, y_test = train_test_split(X, y, shuffle=True) # Make sure it's shuffled \n",
    "\n",
    "# Train a linear regression model\n",
    "model = LinearRegression()\n",
    "model.fit(X_train, y_train)\n",
    "\n",
    "# Plot the training and test set\n",
    "plt.scatter(X_train, y_train, label='Training set')\n",
    "plt.scatter(X_test, y_test, label='Test set')\n",
    "\n",
    "# Plot the regression line\n",
    "X_test = np.linspace(0, 100, 100)\n",
    "y_pred = model.predict(X_test.reshape(-1, 1))\n",
    "plt.plot(X_test, y_pred, color='red', label='Regression line')\n",
    "\n",
    "plt.legend()\n",
    "\n",
    "plt.show()"
   ]
  },
  {
   "cell_type": "markdown",
   "id": "65b54828",
   "metadata": {},
   "source": []
  },
  {
   "cell_type": "markdown",
   "id": "8e59d11f",
   "metadata": {},
   "source": [
    "# Cross Validation"
   ]
  },
  {
   "cell_type": "markdown",
   "id": "ce3a9f0a",
   "metadata": {},
   "source": [
    "Cross validation is a technique to evaluate the model by splitting the data into training set and test set multiple times."
   ]
  },
  {
   "cell_type": "markdown",
   "id": "c6699149",
   "metadata": {},
   "source": [
    "For example: 5-fold cross validation"
   ]
  },
  {
   "cell_type": "markdown",
   "id": "f086f7ae",
   "metadata": {},
   "source": [
    "- Split the data into 5 folds\n",
    "- Train the model using 4 folds, evaluate the model using the remaining fold\n",
    "- Repeat the process 5 times, each time use different fold as test set\n",
    "- Calculate the average score"
   ]
  },
  {
   "cell_type": "markdown",
   "id": "942cea8e",
   "metadata": {},
   "source": []
  },
  {
   "cell_type": "markdown",
   "id": "4ded1af3",
   "metadata": {},
   "source": [
    "![Image](https://upload.wikimedia.org/wikipedia/commons/b/b5/K-fold_cross_validation_EN.svg)"
   ]
  },
  {
   "cell_type": "code",
   "execution_count": null,
   "id": "885e8a7d",
   "metadata": {},
   "outputs": [],
   "source": [
    "import numpy as np\n",
    "from sklearn.linear_model import LinearRegression\n",
    "from sklearn.model_selection import KFold, cross_val_score\n",
    "\n",
    "# Generate sample data\n",
    "np.random.seed(0)\n",
    "X = np.random.rand(100, 1)\n",
    "y = 2 + 3 * X + np.random.rand(100, 1)\n",
    "\n",
    "# Initialize the linear regression model\n",
    "model = LinearRegression()\n",
    "\n",
    "# Initialize the 5-fold cross-validation object\n",
    "kf = KFold(n_splits=5, shuffle=True)\n",
    "\n",
    "# Train and evaluate the model on each fold\n",
    "for train_index, test_index in kf.split(X):\n",
    "    # Split the data into training and test sets for this fold\n",
    "    X_train, X_test = X[train_index], X[test_index]\n",
    "    y_train, y_test = y[train_index], y[test_index]\n",
    "\n",
    "    # Fit the model on the training data for this fold\n",
    "    model.fit(X_train, y_train)\n",
    "\n",
    "    # Evaluate the model on the test data for this fold\n",
    "    score = model.score(X_test, y_test)\n",
    "\n",
    "    # Draw the plot\n",
    "    plt.scatter(X_train, y_train, label='Training set')\n",
    "    plt.scatter(X_test, y_test, label='Test set')\n",
    "    \n",
    "    # Show the plot\n",
    "    plt.legend()\n",
    "    plt.show()\n",
    "\n",
    "    # Print the score for this fold\n",
    "    print(f\"Fold score: {score:.2f}\")\n",
    "\n",
    "# Compute the overall score across all folds\n",
    "scores = cross_val_score(model, X, y, cv=kf)\n",
    "print(f\"Overall score: {np.mean(scores):.2f}\")"
   ]
  },
  {
   "cell_type": "markdown",
   "id": "4a054b7e",
   "metadata": {},
   "source": []
  },
  {
   "cell_type": "code",
   "execution_count": null,
   "id": "87d44e2d",
   "metadata": {},
   "outputs": [],
   "source": [
    "Fold score: 0.83"
   ]
  },
  {
   "cell_type": "markdown",
   "id": "df04a5f3",
   "metadata": {},
   "source": []
  },
  {
   "cell_type": "code",
   "execution_count": null,
   "id": "b754a739",
   "metadata": {},
   "outputs": [],
   "source": [
    "Fold score: 0.93"
   ]
  },
  {
   "cell_type": "markdown",
   "id": "94c1d903",
   "metadata": {},
   "source": []
  },
  {
   "cell_type": "code",
   "execution_count": null,
   "id": "bdda07f1",
   "metadata": {},
   "outputs": [],
   "source": [
    "Fold score: 0.94"
   ]
  },
  {
   "cell_type": "markdown",
   "id": "d94d8d2c",
   "metadata": {},
   "source": []
  },
  {
   "cell_type": "code",
   "execution_count": null,
   "id": "902db988",
   "metadata": {},
   "outputs": [],
   "source": [
    "Fold score: 0.87"
   ]
  },
  {
   "cell_type": "markdown",
   "id": "b74b45e9",
   "metadata": {},
   "source": []
  },
  {
   "cell_type": "code",
   "execution_count": null,
   "id": "03e50d38",
   "metadata": {},
   "outputs": [],
   "source": [
    "Fold score: 0.88\n",
    "Overall score: 0.89"
   ]
  },
  {
   "cell_type": "markdown",
   "id": "7b6ddfba",
   "metadata": {},
   "source": [
    "# Regression vs Classification"
   ]
  },
  {
   "cell_type": "markdown",
   "id": "6b260547",
   "metadata": {},
   "source": [
    "# Regression"
   ]
  },
  {
   "cell_type": "markdown",
   "id": "b667f585",
   "metadata": {},
   "source": [
    "Predict continuous value, e.g. predict the weight of a person (as shown in the supervised learning example)"
   ]
  },
  {
   "cell_type": "markdown",
   "id": "6e1362b2",
   "metadata": {},
   "source": [
    "# Classification"
   ]
  },
  {
   "cell_type": "markdown",
   "id": "7dd8776f",
   "metadata": {},
   "source": [
    "Classify the data into different classes, e.g. classify the email into spam or not spam"
   ]
  },
  {
   "cell_type": "code",
   "execution_count": null,
   "id": "0f68fcf0",
   "metadata": {},
   "outputs": [],
   "source": [
    "# Download MNIST dataset\n",
    "\n",
    "from sklearn.datasets import fetch_openml\n",
    "mnist = fetch_openml('mnist_784', version=1, as_frame=True)"
   ]
  },
  {
   "cell_type": "code",
   "execution_count": null,
   "id": "578c4045",
   "metadata": {},
   "outputs": [],
   "source": [
    "/Users/ruangguru/.pyenv/versions/3.11.1/lib/python3.11/site-packages/sklearn/datasets/_openml.py:968: FutureWarning: The default value of `parser` will change from `'liac-arff'` to `'auto'` in 1.4. You can set `parser='auto'` to silence this warning. Therefore, an `ImportError` will be raised from 1.4 if the dataset is dense and pandas is not installed. Note that the pandas parser may return different data types. See the Notes Section in fetch_openml's API doc for details.\n",
    "  warn("
   ]
  },
  {
   "cell_type": "code",
   "execution_count": null,
   "id": "311cc683",
   "metadata": {},
   "outputs": [],
   "source": [
    "X = mnist['data']\n",
    "y = mnist['target']\n",
    "\n",
    "print(X.shape, y.shape)"
   ]
  },
  {
   "cell_type": "code",
   "execution_count": null,
   "id": "b3bbc545",
   "metadata": {},
   "outputs": [],
   "source": [
    "(70000, 784) (70000,)"
   ]
  },
  {
   "cell_type": "code",
   "execution_count": null,
   "id": "94bc4386",
   "metadata": {},
   "outputs": [],
   "source": [
    "X.head()"
   ]
  },
  {
   "cell_type": "markdown",
   "id": "87688ddf",
   "metadata": {},
   "source": [
    "|  | pixel1 | pixel2 | pixel3 | pixel4 | pixel5 | pixel6 | pixel7 | pixel8 | pixel9 | pixel10 | ... | pixel775 | pixel776 | pixel777 | pixel778 | pixel779 | pixel780 | pixel781 | pixel782 | pixel783 | pixel784 |\n",
    "| --- | --- | --- | --- | --- | --- | --- | --- | --- | --- | --- | --- | --- | --- | --- | --- | --- | --- | --- | --- | --- | --- |\n",
    "| 0 | 0.0 | 0.0 | 0.0 | 0.0 | 0.0 | 0.0 | 0.0 | 0.0 | 0.0 | 0.0 | ... | 0.0 | 0.0 | 0.0 | 0.0 | 0.0 | 0.0 | 0.0 | 0.0 | 0.0 | 0.0 |\n",
    "| 1 | 0.0 | 0.0 | 0.0 | 0.0 | 0.0 | 0.0 | 0.0 | 0.0 | 0.0 | 0.0 | ... | 0.0 | 0.0 | 0.0 | 0.0 | 0.0 | 0.0 | 0.0 | 0.0 | 0.0 | 0.0 |\n",
    "| 2 | 0.0 | 0.0 | 0.0 | 0.0 | 0.0 | 0.0 | 0.0 | 0.0 | 0.0 | 0.0 | ... | 0.0 | 0.0 | 0.0 | 0.0 | 0.0 | 0.0 | 0.0 | 0.0 | 0.0 | 0.0 |\n",
    "| 3 | 0.0 | 0.0 | 0.0 | 0.0 | 0.0 | 0.0 | 0.0 | 0.0 | 0.0 | 0.0 | ... | 0.0 | 0.0 | 0.0 | 0.0 | 0.0 | 0.0 | 0.0 | 0.0 | 0.0 | 0.0 |\n",
    "| 4 | 0.0 | 0.0 | 0.0 | 0.0 | 0.0 | 0.0 | 0.0 | 0.0 | 0.0 | 0.0 | ... | 0.0 | 0.0 | 0.0 | 0.0 | 0.0 | 0.0 | 0.0 | 0.0 | 0.0 | 0.0 |"
   ]
  },
  {
   "cell_type": "markdown",
   "id": "ad2ff56f",
   "metadata": {},
   "source": [
    "5 rows × 784 columns"
   ]
  },
  {
   "cell_type": "code",
   "execution_count": null,
   "id": "5f9120dc",
   "metadata": {},
   "outputs": [],
   "source": [
    "y.head()"
   ]
  },
  {
   "cell_type": "code",
   "execution_count": null,
   "id": "f5082f06",
   "metadata": {},
   "outputs": [],
   "source": [
    "0    5\n",
    "1    0\n",
    "2    4\n",
    "3    1\n",
    "4    9\n",
    "Name: class, dtype: category\n",
    "Categories (10, object): ['0', '1', '2', '3', ..., '6', '7', '8', '9']"
   ]
  },
  {
   "cell_type": "code",
   "execution_count": null,
   "id": "2529de52",
   "metadata": {},
   "outputs": [],
   "source": [
    "# Plot the first 20 images\n",
    "\n",
    "import matplotlib.pyplot as plt\n",
    "\n",
    "for i in range(5):\n",
    "    some_digit = X.iloc[i]\n",
    "    some_digit_image = some_digit.values.reshape(28, 28)\n",
    "\n",
    "    plt.imshow(some_digit_image, cmap='binary')\n",
    "    plt.axis('off')\n",
    "\n",
    "    # Draw label y on the bottom\n",
    "    plt.text(0, 28, y[i], fontsize=14, color='g')\n",
    "    plt.show()"
   ]
  },
  {
   "cell_type": "markdown",
   "id": "560bd300",
   "metadata": {},
   "source": []
  },
  {
   "cell_type": "markdown",
   "id": "a90a3cae",
   "metadata": {},
   "source": []
  },
  {
   "cell_type": "markdown",
   "id": "89a1b50f",
   "metadata": {},
   "source": []
  },
  {
   "cell_type": "markdown",
   "id": "beb5683c",
   "metadata": {},
   "source": []
  },
  {
   "cell_type": "markdown",
   "id": "af127324",
   "metadata": {},
   "source": []
  },
  {
   "cell_type": "markdown",
   "id": "d639cf7a",
   "metadata": {},
   "source": [
    "This is classification problem."
   ]
  },
  {
   "cell_type": "markdown",
   "id": "af75793c",
   "metadata": {},
   "source": [
    "Given images, classify the images into correct numbers"
   ]
  },
  {
   "cell_type": "markdown",
   "id": "503fae87",
   "metadata": {},
   "source": [
    "# Confusion Matrix"
   ]
  },
  {
   "cell_type": "markdown",
   "id": "2fc3bb67",
   "metadata": {},
   "source": [
    "Classification matrix needs different metrics to evaluate the model. And the objective metrics can be different for different problems."
   ]
  },
  {
   "cell_type": "markdown",
   "id": "19f809ca",
   "metadata": {},
   "source": [
    "Confusion matrix is a table to visualize the performance of the classification model"
   ]
  },
  {
   "cell_type": "markdown",
   "id": "dcae6c7b",
   "metadata": {},
   "source": [
    "Example of Confusion Matrix"
   ]
  },
  {
   "cell_type": "markdown",
   "id": "018a8afd",
   "metadata": {},
   "source": [
    "|  | Predicted: Not Spam | Predicted: Spam |\n",
    "| --- | --- | --- |\n",
    "| Actual: Not Spam | True Negative | False Positive |\n",
    "| Actual: Spam | False Negative | True Positive |"
   ]
  },
  {
   "cell_type": "code",
   "execution_count": null,
   "id": "2ac9b1f3",
   "metadata": {},
   "outputs": [],
   "source": [
    "import matplotlib.pyplot as plt\n",
    "\n",
    "# split the data into train and test\n",
    "train_size = 60000\n",
    "train_X, test_X = X[:train_size], X[train_size:]\n",
    "train_y, test_y = y[:train_size], y[train_size:]\n",
    "\n",
    "is_7_train = train_y == '7'\n",
    "is_7_test = test_y == '7'\n",
    "\n",
    "# Train the model\n",
    "from sklearn.linear_model import SGDClassifier\n",
    "sgd_clf = SGDClassifier(random_state=42)\n",
    "sgd_clf.fit(train_X, is_7_train)"
   ]
  },
  {
   "cell_type": "code",
   "execution_count": null,
   "id": "c5c88adb",
   "metadata": {},
   "outputs": [],
   "source": [
    "SGDClassifier(random_state=42)"
   ]
  },
  {
   "cell_type": "code",
   "execution_count": null,
   "id": "17e59a88",
   "metadata": {},
   "outputs": [],
   "source": [
    "SGDClassifier(random_state=42)"
   ]
  },
  {
   "cell_type": "code",
   "execution_count": null,
   "id": "1ee84907",
   "metadata": {},
   "outputs": [],
   "source": [
    "# Draw confusion matrix\n",
    "from sklearn.metrics import confusion_matrix\n",
    "\n",
    "y_pred = sgd_clf.predict(test_X)\n",
    "cm = confusion_matrix(is_7_test, y_pred)\n",
    "print(cm)"
   ]
  },
  {
   "cell_type": "code",
   "execution_count": null,
   "id": "b3913642",
   "metadata": {},
   "outputs": [],
   "source": [
    "[[8902   70]\n",
    " [ 107  921]]"
   ]
  },
  {
   "cell_type": "markdown",
   "id": "c4f01762",
   "metadata": {},
   "source": [
    "# False Positive"
   ]
  },
  {
   "cell_type": "code",
   "execution_count": null,
   "id": "0c71de0d",
   "metadata": {},
   "outputs": [],
   "source": [
    "# Draw the false positive\n",
    "\n",
    "import matplotlib.pyplot as plt\n",
    "\n",
    "false_positive = (is_7_test == False) & (y_pred == True)\n",
    "false_positive_images = test_X[false_positive]\n",
    "\n",
    "for i in range(3):\n",
    "    some_digit = false_positive_images.iloc[i]\n",
    "    some_digit_image = some_digit.values.reshape(28, 28)\n",
    "\n",
    "    plt.imshow(some_digit_image, cmap='binary')\n",
    "    plt.axis('off')\n",
    "\n",
    "    # Draw label y on the bottom\n",
    "    plt.text(0, 28, 'False Positive (predicted 7, but it is NOT 7)', fontsize=14, color='r')\n",
    "    plt.show()"
   ]
  },
  {
   "cell_type": "markdown",
   "id": "fc5c0ed8",
   "metadata": {},
   "source": []
  },
  {
   "cell_type": "markdown",
   "id": "fd3b568e",
   "metadata": {},
   "source": []
  },
  {
   "cell_type": "markdown",
   "id": "e141fe42",
   "metadata": {},
   "source": []
  },
  {
   "cell_type": "markdown",
   "id": "970b646b",
   "metadata": {},
   "source": [
    "# False Negative"
   ]
  },
  {
   "cell_type": "code",
   "execution_count": null,
   "id": "f92430f6",
   "metadata": {},
   "outputs": [],
   "source": [
    "# Draw the false negative\n",
    "\n",
    "import matplotlib.pyplot as plt\n",
    "\n",
    "false_negative = (is_7_test == True) & (y_pred == False)\n",
    "false_negative_images = test_X[false_negative]\n",
    "\n",
    "for i in range(3):\n",
    "    some_digit = false_negative_images.iloc[i]\n",
    "    some_digit_image = some_digit.values.reshape(28, 28)\n",
    "\n",
    "    plt.imshow(some_digit_image, cmap='binary')\n",
    "    plt.axis('off')\n",
    "\n",
    "    # Draw label y on the bottom\n",
    "    plt.text(0, 28, 'False Negative (predicted NOT 7, but it is 7)', fontsize=14, color='r')\n",
    "    plt.show()"
   ]
  },
  {
   "cell_type": "markdown",
   "id": "af86a5ce",
   "metadata": {},
   "source": []
  },
  {
   "cell_type": "markdown",
   "id": "a83a71b5",
   "metadata": {},
   "source": []
  },
  {
   "cell_type": "markdown",
   "id": "0595de88",
   "metadata": {},
   "source": []
  },
  {
   "cell_type": "markdown",
   "id": "aa5414a1",
   "metadata": {},
   "source": [
    "# True Negative"
   ]
  },
  {
   "cell_type": "code",
   "execution_count": null,
   "id": "6e63eb99",
   "metadata": {},
   "outputs": [],
   "source": [
    "# Draw the true negative\n",
    "\n",
    "import matplotlib.pyplot as plt\n",
    "\n",
    "true_negative = (is_7_test == False) & (y_pred == False)\n",
    "true_negative_images = test_X[true_negative]\n",
    "\n",
    "for i in range(3):\n",
    "    some_digit = true_negative_images.iloc[i]\n",
    "    some_digit_image = some_digit.values.reshape(28, 28)\n",
    "\n",
    "    plt.imshow(some_digit_image, cmap='binary')\n",
    "    plt.axis('off')\n",
    "\n",
    "    # Draw label y on the bottom\n",
    "    plt.text(0, 28, 'True Negative (predicted NOT 7, and it is NOT 7)', fontsize=14, color='g')\n",
    "    plt.show()"
   ]
  },
  {
   "cell_type": "markdown",
   "id": "8cb5e952",
   "metadata": {},
   "source": []
  },
  {
   "cell_type": "markdown",
   "id": "587823c9",
   "metadata": {},
   "source": []
  },
  {
   "cell_type": "markdown",
   "id": "571bee1e",
   "metadata": {},
   "source": []
  },
  {
   "cell_type": "markdown",
   "id": "06257b8d",
   "metadata": {},
   "source": [
    "# True Positive"
   ]
  },
  {
   "cell_type": "code",
   "execution_count": null,
   "id": "11976002",
   "metadata": {},
   "outputs": [],
   "source": [
    "# Draw the true positive\n",
    "\n",
    "import matplotlib.pyplot as plt\n",
    "\n",
    "true_positive = (is_7_test == True) & (y_pred == True)\n",
    "true_positive_images = test_X[true_positive]\n",
    "\n",
    "for i in range(3):\n",
    "    some_digit = true_positive_images.iloc[i]\n",
    "    some_digit_image = some_digit.values.reshape(28, 28)\n",
    "\n",
    "    plt.imshow(some_digit_image, cmap='binary')\n",
    "    plt.axis('off')\n",
    "\n",
    "    # Draw label y on the bottom\n",
    "    plt.text(0, 28, 'True Positive (predicted 7, and it is 7)', fontsize=14, color='g')\n",
    "    plt.show()"
   ]
  },
  {
   "cell_type": "markdown",
   "id": "9c1cdbee",
   "metadata": {},
   "source": []
  },
  {
   "cell_type": "markdown",
   "id": "81e33a2e",
   "metadata": {},
   "source": []
  },
  {
   "cell_type": "markdown",
   "id": "54f85af4",
   "metadata": {},
   "source": []
  },
  {
   "cell_type": "markdown",
   "id": "8dbfbd33",
   "metadata": {},
   "source": [
    "# Why not use accuracy?"
   ]
  },
  {
   "cell_type": "markdown",
   "id": "8f4aeaf4",
   "metadata": {},
   "source": [
    "Accuracy may not be a good metric for classification problem, because the data can be imbalanced."
   ]
  },
  {
   "cell_type": "markdown",
   "id": "2de03310",
   "metadata": {},
   "source": [
    "For example:"
   ]
  },
  {
   "cell_type": "markdown",
   "id": "89dbc342",
   "metadata": {},
   "source": [
    "- 99% of the email is not spam\n",
    "- 1% of the email is spam"
   ]
  },
  {
   "cell_type": "markdown",
   "id": "412380ad",
   "metadata": {},
   "source": [
    "If the model always predict the email as not spam, the accuracy is 99%. But the model is not useful at all."
   ]
  },
  {
   "cell_type": "markdown",
   "id": "80423198",
   "metadata": {},
   "source": [
    "Confusion Matrix:"
   ]
  },
  {
   "cell_type": "markdown",
   "id": "3bb9d06f",
   "metadata": {},
   "source": [
    "|  | Predicted: Not Spam | Predicted: Spam |\n",
    "| --- | --- | --- |\n",
    "| Actual: Not Spam | 99 | 0 |\n",
    "| Actual: Spam | 1 | 0 |"
   ]
  },
  {
   "cell_type": "markdown",
   "id": "3cb9f26d",
   "metadata": {},
   "source": [
    "Or in our MNIST example:"
   ]
  },
  {
   "cell_type": "markdown",
   "id": "1b8075f8",
   "metadata": {},
   "source": [
    "When we want to classify if the image is number 7 or not, a model that always predict the image as not 7 will have 90% accuracy."
   ]
  },
  {
   "cell_type": "markdown",
   "id": "4d53f39d",
   "metadata": {},
   "source": [
    "Confusion Matrix:"
   ]
  },
  {
   "cell_type": "markdown",
   "id": "d118742d",
   "metadata": {},
   "source": [
    "|  | Predicted: Not 7 | Predicted: 7 |\n",
    "| --- | --- | --- |\n",
    "| Actual: Not 7 | 90 | 0 |\n",
    "| Actual: 7 | 10 | 0 |"
   ]
  },
  {
   "cell_type": "markdown",
   "id": "9a1206c3",
   "metadata": {},
   "source": [
    "# Precision & Recall"
   ]
  },
  {
   "cell_type": "markdown",
   "id": "db9d2b68",
   "metadata": {},
   "source": [
    "We need other metrics!"
   ]
  },
  {
   "cell_type": "markdown",
   "id": "808fea0d",
   "metadata": {},
   "source": [
    "\n",
    "\\[\\begin{align*}\n",
    "\\text{Recall} &= \\frac{\\text{True Positive}}{\\text{True Positive} + \\text{False Negative}} \\\\\n",
    "\\text{Precision} &= \\frac{\\text{True Positive}}{\\text{True Positive} + \\text{False Positive}}\n",
    "\\end{align*}\\]\n"
   ]
  },
  {
   "cell_type": "markdown",
   "id": "be21c6ee",
   "metadata": {},
   "source": [
    " Source: Hands-on Machine Learning with Scikit-Learn, Keras, and TensorFlow, 2nd Edition"
   ]
  },
  {
   "cell_type": "markdown",
   "id": "e9b5fa7c",
   "metadata": {},
   "source": [
    "![Image](https://storage.googleapis.com/rg-ai-bootcamp/machine-learning/precision-and-recall-min.png)"
   ]
  },
  {
   "cell_type": "markdown",
   "id": "675981a3",
   "metadata": {},
   "source": [
    "Example:"
   ]
  },
  {
   "cell_type": "markdown",
   "id": "dd505a11",
   "metadata": {},
   "source": [
    "|  | Predicted: Not 7 | Predicted: 7 |\n",
    "| --- | --- | --- |\n",
    "| Actual: Not 7 | 90 | 0 |\n",
    "| Actual: 7 | 10 | 0 |"
   ]
  },
  {
   "cell_type": "markdown",
   "id": "660c6cae",
   "metadata": {},
   "source": [
    "- Recall = 0 / (0 + 10) = 0\n",
    "- Precision = 0 / (0 + 0) = 0"
   ]
  },
  {
   "cell_type": "markdown",
   "id": "90c78171",
   "metadata": {},
   "source": [
    "# Perfect Recall"
   ]
  },
  {
   "cell_type": "markdown",
   "id": "323c9cf3",
   "metadata": {},
   "source": [
    "Confusion Matrix:"
   ]
  },
  {
   "cell_type": "markdown",
   "id": "b59485f0",
   "metadata": {},
   "source": [
    "|  | Predicted: Not 7 | Predicted: 7 |\n",
    "| --- | --- | --- |\n",
    "| Actual: Not 7 | 0 | 90 |\n",
    "| Actual: 7 | 0 | 10 |"
   ]
  },
  {
   "cell_type": "markdown",
   "id": "79f1f2fa",
   "metadata": {},
   "source": [
    "If our model always predict ALL image as 7, the recall will be 100% (10 / (10 + 0) = 1)."
   ]
  },
  {
   "cell_type": "markdown",
   "id": "487a1a7a",
   "metadata": {},
   "source": [
    "Perfect recall means that the model will never miss any 7, but it will also predict many non-7 as 7."
   ]
  },
  {
   "cell_type": "code",
   "execution_count": null,
   "id": "39cd4f1f",
   "metadata": {},
   "outputs": [],
   "source": [
    "Q: Is \"7\" seven?\n",
    "A: Yes, it is seven\n",
    "Q: Is \"7\" seven?\n",
    "A: Yes, it is seven\n",
    "Q: Is \"8\" seven?\n",
    "A: Yes, it is seven\n",
    "Q: Is \"9\" seven?\n",
    "A: Yes, it is seven"
   ]
  },
  {
   "cell_type": "markdown",
   "id": "36db3a12",
   "metadata": {},
   "source": [
    "# Perfect Precision"
   ]
  },
  {
   "cell_type": "markdown",
   "id": "855312b6",
   "metadata": {},
   "source": [
    "Confusion Matrix:"
   ]
  },
  {
   "cell_type": "markdown",
   "id": "81194a58",
   "metadata": {},
   "source": [
    "|  | Predicted: Not 7 | Predicted: 7 |\n",
    "| --- | --- | --- |\n",
    "| Actual: Not 7 | 90 | 0 |\n",
    "| Actual: 7 | 9 | 1 |"
   ]
  },
  {
   "cell_type": "markdown",
   "id": "4783af04",
   "metadata": {},
   "source": [
    "If our model is very careful and only predict the image as 7 when it is very sure, we will have a perfect precision."
   ]
  },
  {
   "cell_type": "markdown",
   "id": "6e6948a7",
   "metadata": {},
   "source": [
    "Perfect precision means that when the model predict the image as 7, it is actually 7. But the model may miss a lot of 7s."
   ]
  },
  {
   "cell_type": "code",
   "execution_count": null,
   "id": "d440f480",
   "metadata": {},
   "outputs": [],
   "source": [
    "Q: Is \"7\" seven?\n",
    "A: Yes, it is seven\n",
    "Q: Is \"8\" seven?\n",
    "A: No, it is not seven\n",
    "Q: Is \"9\" seven?\n",
    "A: No, it is not seven\n",
    "Q: Is \"7\" seven?\n",
    "A: No, it is not seven\n",
    "Q: Is \"7\" seven?\n",
    "A: No, it is not seven"
   ]
  },
  {
   "cell_type": "markdown",
   "id": "0dbcf8fd",
   "metadata": {},
   "source": [
    "# When to use precision and when to use recall?"
   ]
  },
  {
   "cell_type": "markdown",
   "id": "8dc6bbff",
   "metadata": {},
   "source": [
    "It depends on the problem."
   ]
  },
  {
   "cell_type": "markdown",
   "id": "ab9d4809",
   "metadata": {},
   "source": [
    "High Recall"
   ]
  },
  {
   "cell_type": "markdown",
   "id": "a0d2b893",
   "metadata": {},
   "source": [
    "- High Recall is prioritized when the cost of false negative is high.\n",
    "- A false negative (a person who has cancer but is predicted as not having it) could lead to lack of treatment and dire health implications.\n",
    "- A false positive (a person who doesn’t have cancer but is predicted as having it) would lead to further tests, which might be stressful and costly but isn’t immediately harmful."
   ]
  },
  {
   "cell_type": "markdown",
   "id": "6d205e9d",
   "metadata": {},
   "source": [
    "High Precision"
   ]
  },
  {
   "cell_type": "markdown",
   "id": "5457356f",
   "metadata": {},
   "source": [
    "- High Precision is prioritized when the cost of false positives is high.\n",
    "- A false positive (a legitimate transaction is incorrectly flagged as fraudulent), can lead to customer frustration.\n",
    "- A false negative (missing a fraudulent transaction) may be deemed more acceptable than annoying or alienating a large number of genuine customers."
   ]
  },
  {
   "cell_type": "markdown",
   "id": "359a59fd",
   "metadata": {},
   "source": [
    "# F1 Score"
   ]
  },
  {
   "cell_type": "markdown",
   "id": "c358c7a1",
   "metadata": {},
   "source": [
    "F1 score is a metric that combines precision and recall."
   ]
  },
  {
   "cell_type": "markdown",
   "id": "8cfd8307",
   "metadata": {},
   "source": [
    "The formula for F1 score is:"
   ]
  },
  {
   "cell_type": "markdown",
   "id": "6bc9746f",
   "metadata": {},
   "source": [
    "\n",
    "\\[F1 = \\frac{2}{\\frac{1}{Precision} + \\frac{1}{Recall}}\\]\n"
   ]
  },
  {
   "cell_type": "markdown",
   "id": "ff6a3e40",
   "metadata": {},
   "source": [
    "The F1 score favors classifiers that have similar precision and recall. This is not always what you want: in some contexts you mostly care about precision, and in other contexts you really care about recall."
   ]
  }
 ],
 "metadata": {},
 "nbformat": 4,
 "nbformat_minor": 5
}
