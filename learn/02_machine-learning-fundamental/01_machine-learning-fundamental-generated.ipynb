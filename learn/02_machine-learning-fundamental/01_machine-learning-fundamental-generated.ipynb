{
 "cells": [
  {
   "cell_type": "markdown",
   "id": "e02f25de",
   "metadata": {},
   "source": [
    "source: [link](https://ai-bootcamp.ruangguru.com/learn/02_machine-learning-fundamental/01_machine-learning-fundamental.html)"
   ]
  },
  {
   "cell_type": "markdown",
   "id": "f6a5fa0b",
   "metadata": {},
   "source": [
    "# Introduction to Machine Learning"
   ]
  },
  {
   "cell_type": "markdown",
   "id": "86bb32e0",
   "metadata": {},
   "source": [
    "# Supervised vs Unsupervised vs Semi-supervised"
   ]
  },
  {
   "cell_type": "markdown",
   "id": "dd1f0e46",
   "metadata": {},
   "source": [
    "# Supervised"
   ]
  },
  {
   "cell_type": "markdown",
   "id": "f109eaa3",
   "metadata": {},
   "source": [
    "Target/label is given, e.g."
   ]
  },
  {
   "cell_type": "markdown",
   "id": "cd16b816",
   "metadata": {},
   "source": [
    "Task: Given height (feature/attribute), predict the weight"
   ]
  },
  {
   "cell_type": "markdown",
   "id": "e17da6f9",
   "metadata": {},
   "source": [
    "Example: Linear regression, logistic regression, decision tree, random forest, support vector machine, neural network"
   ]
  },
  {
   "cell_type": "code",
   "execution_count": null,
   "id": "66bbc232",
   "metadata": {},
   "outputs": [],
   "source": [
    "import matplotlib.pyplot as plt\n",
    "import numpy as np\n",
    "from math import sqrt\n",
    "\n",
    "weight = np.random.randint(40, 100, 30)\n",
    "height = np.sqrt(weight / 20) * 100 + np.random.randint(-20, 20, 30)\n",
    "\n",
    "# plot\n",
    "plt.scatter(weight, height)\n",
    "plt.xlabel('weight')\n",
    "plt.ylabel('height')\n",
    "plt.title('weight vs height')\n",
    "plt.show()"
   ]
  },
  {
   "cell_type": "markdown",
   "id": "116aba58",
   "metadata": {},
   "source": []
  },
  {
   "cell_type": "markdown",
   "id": "b97e4fb5",
   "metadata": {},
   "source": [
    "Problem: How to predict the weight of a person with height 175cm?"
   ]
  },
  {
   "cell_type": "code",
   "execution_count": null,
   "id": "4f97ec4c",
   "metadata": {},
   "outputs": [],
   "source": [
    "import matplotlib.pyplot as plt\n",
    "import numpy as np\n",
    "from math import sqrt\n",
    "\n",
    "weight = np.random.randint(40, 100, 30)\n",
    "height = np.sqrt(weight / 20) * 100 + np.random.randint(-20, 20, 30)\n",
    "\n",
    "# implement linear regression using scikit to predict weight from height\n",
    "from sklearn.linear_model import LinearRegression\n",
    "model = LinearRegression()\n",
    "model.fit(height.reshape(-1, 1), weight)\n",
    "weight_pred = model.predict(height.reshape(-1, 1))\n",
    "\n",
    "\n",
    "# plot\n",
    "plt.scatter(weight, height)\n",
    "plt.xlabel('weight')\n",
    "plt.ylabel('height')\n",
    "plt.title('weight vs height')\n",
    "\n",
    "# plot the regression line\n",
    "plt.plot(weight_pred, height, color='red')\n",
    "plt.show()\n"
   ]
  },
  {
   "cell_type": "markdown",
   "id": "8bdfb223",
   "metadata": {},
   "source": []
  },
  {
   "cell_type": "markdown",
   "id": "42c64d8f",
   "metadata": {},
   "source": [
    "# Unsupervised"
   ]
  },
  {
   "cell_type": "markdown",
   "id": "cea960e1",
   "metadata": {},
   "source": [
    "Label is not given, the task is to find the pattern in the data, e.g. anomaly detection, clustering"
   ]
  },
  {
   "cell_type": "code",
   "execution_count": null,
   "id": "3f725399",
   "metadata": {},
   "outputs": [],
   "source": [
    "# Create a sample of clustering data\n",
    "\n",
    "from sklearn.datasets import make_blobs\n",
    "import matplotlib.pyplot as plt\n",
    "\n",
    "# Generate sample data\n",
    "X, y = make_blobs(n_samples=300, centers=4, cluster_std=0.60, random_state=0)\n",
    "\n",
    "# Plot the data\n",
    "plt.scatter(X[:, 0], X[:, 1], s=50)\n",
    "plt.show()"
   ]
  },
  {
   "cell_type": "markdown",
   "id": "ea229e92",
   "metadata": {},
   "source": []
  },
  {
   "cell_type": "markdown",
   "id": "d0f7986d",
   "metadata": {},
   "source": [
    "Without any label or target, predict which data belongs to which cluster"
   ]
  },
  {
   "cell_type": "code",
   "execution_count": null,
   "id": "c305a42d",
   "metadata": {},
   "outputs": [],
   "source": [
    "# Create a sample of clustering data\n",
    "\n",
    "from sklearn.datasets import make_blobs\n",
    "import matplotlib.pyplot as plt\n",
    "\n",
    "# Generate sample data\n",
    "X, y = make_blobs(n_samples=300, centers=4, cluster_std=0.60, random_state=0)\n",
    "\n",
    "# Implement K-NN clustering\n",
    "from sklearn.cluster import KMeans\n",
    "kmeans = KMeans(n_clusters=4)\n",
    "kmeans.fit(X)\n",
    "y_pred = kmeans.predict(X)\n",
    "\n",
    "# Plot the clustering result\n",
    "plt.scatter(X[:, 0], X[:, 1], c=y_pred, s=50, cmap='viridis')\n",
    "plt.show()"
   ]
  },
  {
   "cell_type": "code",
   "execution_count": null,
   "id": "1642b1ca",
   "metadata": {},
   "outputs": [],
   "source": [
    "/Users/ruangguru/.pyenv/versions/3.11.1/lib/python3.11/site-packages/sklearn/cluster/_kmeans.py:870: FutureWarning: The default value of `n_init` will change from 10 to 'auto' in 1.4. Set the value of `n_init` explicitly to suppress the warning\n",
    "  warnings.warn("
   ]
  },
  {
   "cell_type": "markdown",
   "id": "bd46ed5a",
   "metadata": {},
   "source": []
  },
  {
   "cell_type": "markdown",
   "id": "726605ed",
   "metadata": {},
   "source": [
    "# Semi Supervised"
   ]
  },
  {
   "cell_type": "markdown",
   "id": "dde0d65b",
   "metadata": {},
   "source": [
    "Combination of unsupervised and supervised learning"
   ]
  },
  {
   "cell_type": "markdown",
   "id": "65e6fb86",
   "metadata": {},
   "source": [
    "Example: Google Photos"
   ]
  },
  {
   "cell_type": "markdown",
   "id": "5b24e703",
   "metadata": {},
   "source": []
  },
  {
   "cell_type": "markdown",
   "id": "dc36b675",
   "metadata": {},
   "source": [
    "![Image](https://storage.googleapis.com/support-forums-api/attachment/message-98489306-15452541684849637976.jpg)"
   ]
  },
  {
   "cell_type": "markdown",
   "id": "fb76ac2a",
   "metadata": {},
   "source": [
    "# Overfitting"
   ]
  },
  {
   "cell_type": "markdown",
   "id": "9528d6e2",
   "metadata": {},
   "source": [
    "The model doesn’t generalize well, it memorizes the training data"
   ]
  },
  {
   "cell_type": "code",
   "execution_count": null,
   "id": "56eecea0",
   "metadata": {},
   "outputs": [],
   "source": [
    "# Create a sample X and Y data\n",
    "\n",
    "import numpy as np\n",
    "import matplotlib.pyplot as plt\n",
    "\n",
    "# set seed\n",
    "np.random.seed(0)\n",
    "\n",
    "# Generate sample data\n",
    "X = np.random.rand(100, 1)\n",
    "y = 2 + 3 * X + np.random.rand(100, 1)\n",
    "\n",
    "# Make a overfit regression\n",
    "from sklearn.linear_model import LinearRegression\n",
    "from sklearn.preprocessing import PolynomialFeatures\n",
    "from sklearn.pipeline import make_pipeline\n",
    "\n",
    "model = make_pipeline(PolynomialFeatures(20), LinearRegression())\n",
    "model.fit(X, y)\n",
    "\n",
    "# Plot the data\n",
    "plt.scatter(X, y)\n",
    "\n",
    "# draw the model\n",
    "X_test = np.linspace(0, 1, 100)\n",
    "y_pred = model.predict(X_test.reshape(-1, 1))\n",
    "plt.plot(X_test, y_pred, color='red')\n",
    "\n",
    "plt.show()"
   ]
  },
  {
   "cell_type": "markdown",
   "id": "96aab4ba",
   "metadata": {},
   "source": []
  },
  {
   "cell_type": "markdown",
   "id": "643860e7",
   "metadata": {},
   "source": [
    "# Training Set & Test Set"
   ]
  },
  {
   "cell_type": "markdown",
   "id": "64e4b0db",
   "metadata": {},
   "source": [
    "To prevent overfitting, we need to have a separate data to evaluate the model"
   ]
  },
  {
   "cell_type": "markdown",
   "id": "58d8652f",
   "metadata": {},
   "source": [
    "One way to do it is to split the data into two sets:"
   ]
  },
  {
   "cell_type": "markdown",
   "id": "095e6d81",
   "metadata": {},
   "source": [
    "When overfitting happen, the model will perform well on the training set but perform poorly on the test set"
   ]
  },
  {
   "cell_type": "markdown",
   "id": "706c543a",
   "metadata": {},
   "source": [
    "To split the data, we can do it manually or use train_test_split function from sklearn"
   ]
  },
  {
   "cell_type": "code",
   "execution_count": null,
   "id": "0fea35b9",
   "metadata": {},
   "outputs": [],
   "source": [
    "# Split the data into training and test set manually\n",
    "\n",
    "import numpy as np\n",
    "import matplotlib.pyplot as plt\n",
    "\n",
    "# set seed\n",
    "np.random.seed(0)\n",
    "\n",
    "# Generate sample data\n",
    "X = np.random.rand(100, 1)\n",
    "y = 2 + 3 * X + np.random.rand(100, 1)\n",
    "\n",
    "# Split the data into training and test set manually\n",
    "X_train, y_train = X[:80], y[:80]\n",
    "X_test, y_test = X[80:], y[80:]\n",
    "\n",
    "# Plot the training and test set\n",
    "plt.scatter(X_train, y_train, label='Training set')\n",
    "plt.scatter(X_test, y_test, label='Test set')\n",
    "plt.legend()\n",
    "plt.show()"
   ]
  },
  {
   "cell_type": "markdown",
   "id": "0ef678ba",
   "metadata": {},
   "source": []
  },
  {
   "cell_type": "markdown",
   "id": "81497b66",
   "metadata": {},
   "source": [
    "But be careful, the data should be shuffled first before splitting"
   ]
  },
  {
   "cell_type": "markdown",
   "id": "a0785de2",
   "metadata": {},
   "source": [
    "Otherwise, the model will be trained on the same data distribution"
   ]
  },
  {
   "cell_type": "code",
   "execution_count": null,
   "id": "4c17f99c",
   "metadata": {},
   "outputs": [],
   "source": [
    "# Split the data into training and test set manually\n",
    "\n",
    "import numpy as np\n",
    "import matplotlib.pyplot as plt\n",
    "\n",
    "# set seed\n",
    "np.random.seed(0)\n",
    "\n",
    "# Generate sample data\n",
    "# X being a 100 x 1 matrix, ordered from 0 to 100\n",
    "X = np.arange(100).reshape(100, 1)\n",
    "y = 2 + 3 * X + np.random.rand(100, 1)\n",
    "y[X >= 80] = 2 + 5 * X[X >= 80].flatten() + np.random.rand(len(X[X >= 80]))\n",
    "\n",
    "# Split the data into training and test set manually\n",
    "X_train, y_train = X[:80], y[:80]\n",
    "X_test, y_test = X[80:], y[80:]\n",
    "\n",
    "# Train a linear regression model\n",
    "model = LinearRegression()\n",
    "model.fit(X_train, y_train)\n",
    "\n",
    "# Plot the training and test set\n",
    "plt.scatter(X_train, y_train, label='Training set')\n",
    "plt.scatter(X_test, y_test, label='Test set')\n",
    "\n",
    "# Plot the regression line\n",
    "X_test = np.linspace(0, 100, 100)\n",
    "y_pred = model.predict(X_test.reshape(-1, 1))\n",
    "plt.plot(X_test, y_pred, color='red', label='Regression line')\n",
    "\n",
    "plt.legend()\n",
    "\n",
    "plt.show()"
   ]
  },
  {
   "cell_type": "markdown",
   "id": "1d7da4df",
   "metadata": {},
   "source": []
  },
  {
   "cell_type": "code",
   "execution_count": null,
   "id": "4ea74f2d",
   "metadata": {},
   "outputs": [],
   "source": [
    "# Split the data into training and test set manually\n",
    "\n",
    "import numpy as np\n",
    "import matplotlib.pyplot as plt\n",
    "\n",
    "# set seed\n",
    "np.random.seed(0)\n",
    "\n",
    "# Generate sample data\n",
    "# X being a 100 x 1 matrix, ordered from 0 to 100\n",
    "X = np.arange(100).reshape(100, 1)\n",
    "y = 2 + 3 * X + np.random.rand(100, 1)\n",
    "y[X >= 80] = 2 + 5 * X[X >= 80].flatten() + np.random.rand(len(X[X >= 80]))\n",
    "\n",
    "# Split the data into training and test using scikit\n",
    "from sklearn.model_selection import train_test_split\n",
    "X_train, X_test, y_train, y_test = train_test_split(X, y, shuffle=True) # Make sure it's shuffled \n",
    "\n",
    "# Train a linear regression model\n",
    "model = LinearRegression()\n",
    "model.fit(X_train, y_train)\n",
    "\n",
    "# Plot the training and test set\n",
    "plt.scatter(X_train, y_train, label='Training set')\n",
    "plt.scatter(X_test, y_test, label='Test set')\n",
    "\n",
    "# Plot the regression line\n",
    "X_test = np.linspace(0, 100, 100)\n",
    "y_pred = model.predict(X_test.reshape(-1, 1))\n",
    "plt.plot(X_test, y_pred, color='red', label='Regression line')\n",
    "\n",
    "plt.legend()\n",
    "\n",
    "plt.show()"
   ]
  },
  {
   "cell_type": "markdown",
   "id": "12e2165e",
   "metadata": {},
   "source": []
  },
  {
   "cell_type": "markdown",
   "id": "05ecedc9",
   "metadata": {},
   "source": [
    "# Cross Validation"
   ]
  },
  {
   "cell_type": "markdown",
   "id": "59cd1d37",
   "metadata": {},
   "source": [
    "Cross validation is a technique to evaluate the model by splitting the data into training set and test set multiple times."
   ]
  },
  {
   "cell_type": "markdown",
   "id": "ea301b31",
   "metadata": {},
   "source": [
    "For example: 5-fold cross validation"
   ]
  },
  {
   "cell_type": "markdown",
   "id": "3bb8c391",
   "metadata": {},
   "source": []
  },
  {
   "cell_type": "markdown",
   "id": "991e984e",
   "metadata": {},
   "source": [
    "![Image](https://upload.wikimedia.org/wikipedia/commons/b/b5/K-fold_cross_validation_EN.svg)"
   ]
  },
  {
   "cell_type": "code",
   "execution_count": null,
   "id": "fe03cc6b",
   "metadata": {},
   "outputs": [],
   "source": [
    "import numpy as np\n",
    "from sklearn.linear_model import LinearRegression\n",
    "from sklearn.model_selection import KFold, cross_val_score\n",
    "\n",
    "# Generate sample data\n",
    "np.random.seed(0)\n",
    "X = np.random.rand(100, 1)\n",
    "y = 2 + 3 * X + np.random.rand(100, 1)\n",
    "\n",
    "# Initialize the linear regression model\n",
    "model = LinearRegression()\n",
    "\n",
    "# Initialize the 5-fold cross-validation object\n",
    "kf = KFold(n_splits=5, shuffle=True)\n",
    "\n",
    "# Train and evaluate the model on each fold\n",
    "for train_index, test_index in kf.split(X):\n",
    "    # Split the data into training and test sets for this fold\n",
    "    X_train, X_test = X[train_index], X[test_index]\n",
    "    y_train, y_test = y[train_index], y[test_index]\n",
    "\n",
    "    # Fit the model on the training data for this fold\n",
    "    model.fit(X_train, y_train)\n",
    "\n",
    "    # Evaluate the model on the test data for this fold\n",
    "    score = model.score(X_test, y_test)\n",
    "\n",
    "    # Draw the plot\n",
    "    plt.scatter(X_train, y_train, label='Training set')\n",
    "    plt.scatter(X_test, y_test, label='Test set')\n",
    "    \n",
    "    # Show the plot\n",
    "    plt.legend()\n",
    "    plt.show()\n",
    "\n",
    "    # Print the score for this fold\n",
    "    print(f\"Fold score: {score:.2f}\")\n",
    "\n",
    "# Compute the overall score across all folds\n",
    "scores = cross_val_score(model, X, y, cv=kf)\n",
    "print(f\"Overall score: {np.mean(scores):.2f}\")"
   ]
  },
  {
   "cell_type": "markdown",
   "id": "a65c9125",
   "metadata": {},
   "source": []
  },
  {
   "cell_type": "code",
   "execution_count": null,
   "id": "d964eda7",
   "metadata": {},
   "outputs": [],
   "source": [
    "Fold score: 0.83"
   ]
  },
  {
   "cell_type": "markdown",
   "id": "e9297a63",
   "metadata": {},
   "source": []
  },
  {
   "cell_type": "code",
   "execution_count": null,
   "id": "ef6d40b6",
   "metadata": {},
   "outputs": [],
   "source": [
    "Fold score: 0.93"
   ]
  },
  {
   "cell_type": "markdown",
   "id": "9cbc0f58",
   "metadata": {},
   "source": []
  },
  {
   "cell_type": "code",
   "execution_count": null,
   "id": "9e6fee0b",
   "metadata": {},
   "outputs": [],
   "source": [
    "Fold score: 0.94"
   ]
  },
  {
   "cell_type": "markdown",
   "id": "da8d3e27",
   "metadata": {},
   "source": []
  },
  {
   "cell_type": "code",
   "execution_count": null,
   "id": "fd0885fc",
   "metadata": {},
   "outputs": [],
   "source": [
    "Fold score: 0.87"
   ]
  },
  {
   "cell_type": "markdown",
   "id": "bdddf93f",
   "metadata": {},
   "source": []
  },
  {
   "cell_type": "code",
   "execution_count": null,
   "id": "b30e0015",
   "metadata": {},
   "outputs": [],
   "source": [
    "Fold score: 0.88\n",
    "Overall score: 0.89"
   ]
  },
  {
   "cell_type": "markdown",
   "id": "48ce95b5",
   "metadata": {},
   "source": [
    "# Regression vs Classification"
   ]
  },
  {
   "cell_type": "markdown",
   "id": "a477867f",
   "metadata": {},
   "source": [
    "# Regression"
   ]
  },
  {
   "cell_type": "markdown",
   "id": "8100d2f0",
   "metadata": {},
   "source": [
    "Predict continuous value, e.g. predict the weight of a person (as shown in the supervised learning example)"
   ]
  },
  {
   "cell_type": "markdown",
   "id": "60a77147",
   "metadata": {},
   "source": [
    "# Classification"
   ]
  },
  {
   "cell_type": "markdown",
   "id": "960ae4aa",
   "metadata": {},
   "source": [
    "Classify the data into different classes, e.g. classify the email into spam or not spam"
   ]
  },
  {
   "cell_type": "code",
   "execution_count": null,
   "id": "d0f709bc",
   "metadata": {},
   "outputs": [],
   "source": [
    "# Download MNIST dataset\n",
    "\n",
    "from sklearn.datasets import fetch_openml\n",
    "mnist = fetch_openml('mnist_784', version=1, as_frame=True)"
   ]
  },
  {
   "cell_type": "code",
   "execution_count": null,
   "id": "052b931b",
   "metadata": {},
   "outputs": [],
   "source": [
    "/Users/ruangguru/.pyenv/versions/3.11.1/lib/python3.11/site-packages/sklearn/datasets/_openml.py:968: FutureWarning: The default value of `parser` will change from `'liac-arff'` to `'auto'` in 1.4. You can set `parser='auto'` to silence this warning. Therefore, an `ImportError` will be raised from 1.4 if the dataset is dense and pandas is not installed. Note that the pandas parser may return different data types. See the Notes Section in fetch_openml's API doc for details.\n",
    "  warn("
   ]
  },
  {
   "cell_type": "code",
   "execution_count": null,
   "id": "f7778e46",
   "metadata": {},
   "outputs": [],
   "source": [
    "X = mnist['data']\n",
    "y = mnist['target']\n",
    "\n",
    "print(X.shape, y.shape)"
   ]
  },
  {
   "cell_type": "code",
   "execution_count": null,
   "id": "b103e9fa",
   "metadata": {},
   "outputs": [],
   "source": [
    "(70000, 784) (70000,)"
   ]
  },
  {
   "cell_type": "code",
   "execution_count": null,
   "id": "0a252963",
   "metadata": {},
   "outputs": [],
   "source": [
    "X.head()"
   ]
  },
  {
   "cell_type": "markdown",
   "id": "55571511",
   "metadata": {},
   "source": [
    "5 rows × 784 columns"
   ]
  },
  {
   "cell_type": "code",
   "execution_count": null,
   "id": "c19cb533",
   "metadata": {},
   "outputs": [],
   "source": [
    "y.head()"
   ]
  },
  {
   "cell_type": "code",
   "execution_count": null,
   "id": "b1f77843",
   "metadata": {},
   "outputs": [],
   "source": [
    "0    5\n",
    "1    0\n",
    "2    4\n",
    "3    1\n",
    "4    9\n",
    "Name: class, dtype: category\n",
    "Categories (10, object): ['0', '1', '2', '3', ..., '6', '7', '8', '9']"
   ]
  },
  {
   "cell_type": "code",
   "execution_count": null,
   "id": "42e80b32",
   "metadata": {},
   "outputs": [],
   "source": [
    "# Plot the first 20 images\n",
    "\n",
    "import matplotlib.pyplot as plt\n",
    "\n",
    "for i in range(5):\n",
    "    some_digit = X.iloc[i]\n",
    "    some_digit_image = some_digit.values.reshape(28, 28)\n",
    "\n",
    "    plt.imshow(some_digit_image, cmap='binary')\n",
    "    plt.axis('off')\n",
    "\n",
    "    # Draw label y on the bottom\n",
    "    plt.text(0, 28, y[i], fontsize=14, color='g')\n",
    "    plt.show()"
   ]
  },
  {
   "cell_type": "markdown",
   "id": "6977c3eb",
   "metadata": {},
   "source": []
  },
  {
   "cell_type": "markdown",
   "id": "36b60835",
   "metadata": {},
   "source": []
  },
  {
   "cell_type": "markdown",
   "id": "8df1002c",
   "metadata": {},
   "source": []
  },
  {
   "cell_type": "markdown",
   "id": "cbc20f0b",
   "metadata": {},
   "source": []
  },
  {
   "cell_type": "markdown",
   "id": "8abc75ff",
   "metadata": {},
   "source": []
  },
  {
   "cell_type": "markdown",
   "id": "c02e0cdf",
   "metadata": {},
   "source": [
    "This is classification problem."
   ]
  },
  {
   "cell_type": "markdown",
   "id": "d023e60c",
   "metadata": {},
   "source": [
    "Given images, classify the images into correct numbers"
   ]
  },
  {
   "cell_type": "markdown",
   "id": "edce56c4",
   "metadata": {},
   "source": [
    "# Confusion Matrix"
   ]
  },
  {
   "cell_type": "markdown",
   "id": "21eebbab",
   "metadata": {},
   "source": [
    "Classification matrix needs different metrics to evaluate the model. And the objective metrics can be different for different problems."
   ]
  },
  {
   "cell_type": "markdown",
   "id": "a2513d06",
   "metadata": {},
   "source": [
    "Confusion matrix is a table to visualize the performance of the classification model"
   ]
  },
  {
   "cell_type": "markdown",
   "id": "6bdaed2b",
   "metadata": {},
   "source": [
    "Example of Confusion Matrix"
   ]
  },
  {
   "cell_type": "code",
   "execution_count": null,
   "id": "5424e3ce",
   "metadata": {},
   "outputs": [],
   "source": [
    "import matplotlib.pyplot as plt\n",
    "\n",
    "# split the data into train and test\n",
    "train_size = 60000\n",
    "train_X, test_X = X[:train_size], X[train_size:]\n",
    "train_y, test_y = y[:train_size], y[train_size:]\n",
    "\n",
    "is_7_train = train_y == '7'\n",
    "is_7_test = test_y == '7'\n",
    "\n",
    "# Train the model\n",
    "from sklearn.linear_model import SGDClassifier\n",
    "sgd_clf = SGDClassifier(random_state=42)\n",
    "sgd_clf.fit(train_X, is_7_train)"
   ]
  },
  {
   "cell_type": "code",
   "execution_count": null,
   "id": "95057a7c",
   "metadata": {},
   "outputs": [],
   "source": [
    "SGDClassifier(random_state=42)"
   ]
  },
  {
   "cell_type": "code",
   "execution_count": null,
   "id": "6b3a0aa5",
   "metadata": {},
   "outputs": [],
   "source": [
    "SGDClassifier(random_state=42)"
   ]
  },
  {
   "cell_type": "code",
   "execution_count": null,
   "id": "02da3a99",
   "metadata": {},
   "outputs": [],
   "source": [
    "# Draw confusion matrix\n",
    "from sklearn.metrics import confusion_matrix\n",
    "\n",
    "y_pred = sgd_clf.predict(test_X)\n",
    "cm = confusion_matrix(is_7_test, y_pred)\n",
    "print(cm)"
   ]
  },
  {
   "cell_type": "code",
   "execution_count": null,
   "id": "1254c15a",
   "metadata": {},
   "outputs": [],
   "source": [
    "[[8902   70]\n",
    " [ 107  921]]"
   ]
  },
  {
   "cell_type": "markdown",
   "id": "e312f28c",
   "metadata": {},
   "source": [
    "# False Positive"
   ]
  },
  {
   "cell_type": "code",
   "execution_count": null,
   "id": "b21acfa4",
   "metadata": {},
   "outputs": [],
   "source": [
    "# Draw the false positive\n",
    "\n",
    "import matplotlib.pyplot as plt\n",
    "\n",
    "false_positive = (is_7_test == False) & (y_pred == True)\n",
    "false_positive_images = test_X[false_positive]\n",
    "\n",
    "for i in range(3):\n",
    "    some_digit = false_positive_images.iloc[i]\n",
    "    some_digit_image = some_digit.values.reshape(28, 28)\n",
    "\n",
    "    plt.imshow(some_digit_image, cmap='binary')\n",
    "    plt.axis('off')\n",
    "\n",
    "    # Draw label y on the bottom\n",
    "    plt.text(0, 28, 'False Positive (predicted 7, but it is NOT 7)', fontsize=14, color='r')\n",
    "    plt.show()"
   ]
  },
  {
   "cell_type": "markdown",
   "id": "3207b5d3",
   "metadata": {},
   "source": []
  },
  {
   "cell_type": "markdown",
   "id": "b0339fe3",
   "metadata": {},
   "source": []
  },
  {
   "cell_type": "markdown",
   "id": "45365468",
   "metadata": {},
   "source": []
  },
  {
   "cell_type": "markdown",
   "id": "0ffb52e0",
   "metadata": {},
   "source": [
    "# False Negative"
   ]
  },
  {
   "cell_type": "code",
   "execution_count": null,
   "id": "df0b3ee4",
   "metadata": {},
   "outputs": [],
   "source": [
    "# Draw the false negative\n",
    "\n",
    "import matplotlib.pyplot as plt\n",
    "\n",
    "false_negative = (is_7_test == True) & (y_pred == False)\n",
    "false_negative_images = test_X[false_negative]\n",
    "\n",
    "for i in range(3):\n",
    "    some_digit = false_negative_images.iloc[i]\n",
    "    some_digit_image = some_digit.values.reshape(28, 28)\n",
    "\n",
    "    plt.imshow(some_digit_image, cmap='binary')\n",
    "    plt.axis('off')\n",
    "\n",
    "    # Draw label y on the bottom\n",
    "    plt.text(0, 28, 'False Negative (predicted NOT 7, but it is 7)', fontsize=14, color='r')\n",
    "    plt.show()"
   ]
  },
  {
   "cell_type": "markdown",
   "id": "a7a3f41c",
   "metadata": {},
   "source": []
  },
  {
   "cell_type": "markdown",
   "id": "05fa5fdc",
   "metadata": {},
   "source": []
  },
  {
   "cell_type": "markdown",
   "id": "dbdffc64",
   "metadata": {},
   "source": []
  },
  {
   "cell_type": "markdown",
   "id": "febc06ff",
   "metadata": {},
   "source": [
    "# True Negative"
   ]
  },
  {
   "cell_type": "code",
   "execution_count": null,
   "id": "be780251",
   "metadata": {},
   "outputs": [],
   "source": [
    "# Draw the true negative\n",
    "\n",
    "import matplotlib.pyplot as plt\n",
    "\n",
    "true_negative = (is_7_test == False) & (y_pred == False)\n",
    "true_negative_images = test_X[true_negative]\n",
    "\n",
    "for i in range(3):\n",
    "    some_digit = true_negative_images.iloc[i]\n",
    "    some_digit_image = some_digit.values.reshape(28, 28)\n",
    "\n",
    "    plt.imshow(some_digit_image, cmap='binary')\n",
    "    plt.axis('off')\n",
    "\n",
    "    # Draw label y on the bottom\n",
    "    plt.text(0, 28, 'True Negative (predicted NOT 7, and it is NOT 7)', fontsize=14, color='g')\n",
    "    plt.show()"
   ]
  },
  {
   "cell_type": "markdown",
   "id": "e2e3c7b6",
   "metadata": {},
   "source": []
  },
  {
   "cell_type": "markdown",
   "id": "bc3ca9bd",
   "metadata": {},
   "source": []
  },
  {
   "cell_type": "markdown",
   "id": "1a7c5be6",
   "metadata": {},
   "source": []
  },
  {
   "cell_type": "markdown",
   "id": "f13eb7f1",
   "metadata": {},
   "source": [
    "# True Positive"
   ]
  },
  {
   "cell_type": "code",
   "execution_count": null,
   "id": "c94819d7",
   "metadata": {},
   "outputs": [],
   "source": [
    "# Draw the true positive\n",
    "\n",
    "import matplotlib.pyplot as plt\n",
    "\n",
    "true_positive = (is_7_test == True) & (y_pred == True)\n",
    "true_positive_images = test_X[true_positive]\n",
    "\n",
    "for i in range(3):\n",
    "    some_digit = true_positive_images.iloc[i]\n",
    "    some_digit_image = some_digit.values.reshape(28, 28)\n",
    "\n",
    "    plt.imshow(some_digit_image, cmap='binary')\n",
    "    plt.axis('off')\n",
    "\n",
    "    # Draw label y on the bottom\n",
    "    plt.text(0, 28, 'True Positive (predicted 7, and it is 7)', fontsize=14, color='g')\n",
    "    plt.show()"
   ]
  },
  {
   "cell_type": "markdown",
   "id": "df69097c",
   "metadata": {},
   "source": []
  },
  {
   "cell_type": "markdown",
   "id": "68b0b3ca",
   "metadata": {},
   "source": []
  },
  {
   "cell_type": "markdown",
   "id": "18ed5393",
   "metadata": {},
   "source": []
  },
  {
   "cell_type": "markdown",
   "id": "59e38dac",
   "metadata": {},
   "source": [
    "# Why not use accuracy?"
   ]
  },
  {
   "cell_type": "markdown",
   "id": "d1254d88",
   "metadata": {},
   "source": [
    "Accuracy may not be a good metric for classification problem, because the data can be imbalanced."
   ]
  },
  {
   "cell_type": "markdown",
   "id": "de06b593",
   "metadata": {},
   "source": [
    "For example:"
   ]
  },
  {
   "cell_type": "markdown",
   "id": "b825dbe8",
   "metadata": {},
   "source": [
    "If the model always predict the email as not spam, the accuracy is 99%. But the model is not useful at all."
   ]
  },
  {
   "cell_type": "markdown",
   "id": "ccfc7ede",
   "metadata": {},
   "source": [
    "Confusion Matrix:"
   ]
  },
  {
   "cell_type": "markdown",
   "id": "8b2d7628",
   "metadata": {},
   "source": [
    "Or in our MNIST example:"
   ]
  },
  {
   "cell_type": "markdown",
   "id": "f158c480",
   "metadata": {},
   "source": [
    "When we want to classify if the image is number 7 or not, a model that always predict the image as not 7 will have 90% accuracy."
   ]
  },
  {
   "cell_type": "markdown",
   "id": "1a84eada",
   "metadata": {},
   "source": [
    "Confusion Matrix:"
   ]
  },
  {
   "cell_type": "markdown",
   "id": "bcdaa0fb",
   "metadata": {},
   "source": [
    "# Precision & Recall"
   ]
  },
  {
   "cell_type": "markdown",
   "id": "89a86c41",
   "metadata": {},
   "source": [
    "We need other metrics!"
   ]
  },
  {
   "cell_type": "markdown",
   "id": "1fb7baa2",
   "metadata": {},
   "source": [
    "\\[\\begin{align*}\n",
    "\\text{Recall} &= \\frac{\\text{True Positive}}{\\text{True Positive} + \\text{False Negative}} \\\\\n",
    "\\text{Precision} &= \\frac{\\text{True Positive}}{\\text{True Positive} + \\text{False Positive}}\n",
    "\\end{align*}\\]"
   ]
  },
  {
   "cell_type": "markdown",
   "id": "594c73e7",
   "metadata": {},
   "source": [
    " Source: Hands-on Machine Learning with Scikit-Learn, Keras, and TensorFlow, 2nd Edition"
   ]
  },
  {
   "cell_type": "markdown",
   "id": "cef316bb",
   "metadata": {},
   "source": [
    "![Image](https://storage.googleapis.com/rg-ai-bootcamp/machine-learning/precision-and-recall-min.png)"
   ]
  },
  {
   "cell_type": "markdown",
   "id": "e8819695",
   "metadata": {},
   "source": [
    "Example:"
   ]
  },
  {
   "cell_type": "markdown",
   "id": "0f57366d",
   "metadata": {},
   "source": [
    "# Perfect Recall"
   ]
  },
  {
   "cell_type": "markdown",
   "id": "8cd4867b",
   "metadata": {},
   "source": [
    "Confusion Matrix:"
   ]
  },
  {
   "cell_type": "markdown",
   "id": "7e9d46e5",
   "metadata": {},
   "source": [
    "If our model always predict ALL image as 7, the recall will be 100% (10 / (10 + 0) = 1)."
   ]
  },
  {
   "cell_type": "markdown",
   "id": "6cee44cc",
   "metadata": {},
   "source": [
    "Perfect recall means that the model will never miss any 7, but it will also predict many non-7 as 7."
   ]
  },
  {
   "cell_type": "code",
   "execution_count": null,
   "id": "907389e1",
   "metadata": {},
   "outputs": [],
   "source": [
    "Q: Is \"7\" seven?\n",
    "A: Yes, it is seven\n",
    "Q: Is \"7\" seven?\n",
    "A: Yes, it is seven\n",
    "Q: Is \"8\" seven?\n",
    "A: Yes, it is seven\n",
    "Q: Is \"9\" seven?\n",
    "A: Yes, it is seven"
   ]
  },
  {
   "cell_type": "markdown",
   "id": "615aa00a",
   "metadata": {},
   "source": [
    "# Perfect Precision"
   ]
  },
  {
   "cell_type": "markdown",
   "id": "11b9c86e",
   "metadata": {},
   "source": [
    "Confusion Matrix:"
   ]
  },
  {
   "cell_type": "markdown",
   "id": "ea0e03d9",
   "metadata": {},
   "source": [
    "If our model is very careful and only predict the image as 7 when it is very sure, we will have a perfect precision."
   ]
  },
  {
   "cell_type": "markdown",
   "id": "3ca61157",
   "metadata": {},
   "source": [
    "Perfect precision means that when the model predict the image as 7, it is actually 7. But the model may miss a lot of 7s."
   ]
  },
  {
   "cell_type": "code",
   "execution_count": null,
   "id": "9eb583b2",
   "metadata": {},
   "outputs": [],
   "source": [
    "Q: Is \"7\" seven?\n",
    "A: Yes, it is seven\n",
    "Q: Is \"8\" seven?\n",
    "A: No, it is not seven\n",
    "Q: Is \"9\" seven?\n",
    "A: No, it is not seven\n",
    "Q: Is \"7\" seven?\n",
    "A: No, it is not seven\n",
    "Q: Is \"7\" seven?\n",
    "A: No, it is not seven"
   ]
  },
  {
   "cell_type": "markdown",
   "id": "364fd2f7",
   "metadata": {},
   "source": [
    "# When to use precision and when to use recall?"
   ]
  },
  {
   "cell_type": "markdown",
   "id": "95e75809",
   "metadata": {},
   "source": [
    "It depends on the problem."
   ]
  },
  {
   "cell_type": "markdown",
   "id": "28e5540a",
   "metadata": {},
   "source": [
    "High Recall"
   ]
  },
  {
   "cell_type": "markdown",
   "id": "ec7082e7",
   "metadata": {},
   "source": [
    "High Precision"
   ]
  },
  {
   "cell_type": "markdown",
   "id": "44ccaf53",
   "metadata": {},
   "source": [
    "# F1 Score"
   ]
  },
  {
   "cell_type": "markdown",
   "id": "e72522e7",
   "metadata": {},
   "source": [
    "F1 score is a metric that combines precision and recall."
   ]
  },
  {
   "cell_type": "markdown",
   "id": "b53013bf",
   "metadata": {},
   "source": [
    "The formula for F1 score is:"
   ]
  },
  {
   "cell_type": "markdown",
   "id": "7d05970d",
   "metadata": {},
   "source": [
    "\\[F1 = \\frac{2}{\\frac{1}{Precision} + \\frac{1}{Recall}}\\]"
   ]
  },
  {
   "cell_type": "markdown",
   "id": "6682e86e",
   "metadata": {},
   "source": [
    "The F1 score favors classifiers that have similar precision and recall. This is not always what you want: in some contexts you mostly care about precision, and in other contexts you really care about recall."
   ]
  }
 ],
 "metadata": {},
 "nbformat": 4,
 "nbformat_minor": 5
}
