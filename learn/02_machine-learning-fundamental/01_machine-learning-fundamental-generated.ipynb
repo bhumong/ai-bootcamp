{
 "cells": [
  {
   "cell_type": "markdown",
   "id": "bba538d5",
   "metadata": {},
   "source": [
    "# Introduction to Machine Learning"
   ]
  },
  {
   "cell_type": "markdown",
   "id": "a9d0533b",
   "metadata": {},
   "source": [
    "# Supervised vs Unsupervised vs Semi-supervised"
   ]
  },
  {
   "cell_type": "markdown",
   "id": "221fd332",
   "metadata": {},
   "source": [
    "# Supervised"
   ]
  },
  {
   "cell_type": "markdown",
   "id": "943ce5c8",
   "metadata": {},
   "source": [
    "Target/label is given, e.g."
   ]
  },
  {
   "cell_type": "markdown",
   "id": "11179672",
   "metadata": {},
   "source": [
    "Task: Given height (feature/attribute), predict the weight"
   ]
  },
  {
   "cell_type": "markdown",
   "id": "087ea7c0",
   "metadata": {},
   "source": [
    "Example: Linear regression, logistic regression, decision tree, random forest, support vector machine, neural network"
   ]
  },
  {
   "cell_type": "code",
   "execution_count": null,
   "id": "19a4095e",
   "metadata": {},
   "outputs": [],
   "source": [
    "import matplotlib.pyplot as plt\n",
    "import numpy as np\n",
    "from math import sqrt\n",
    "\n",
    "weight = np.random.randint(40, 100, 30)\n",
    "height = np.sqrt(weight / 20) * 100 + np.random.randint(-20, 20, 30)\n",
    "\n",
    "# plot\n",
    "plt.scatter(weight, height)\n",
    "plt.xlabel('weight')\n",
    "plt.ylabel('height')\n",
    "plt.title('weight vs height')\n",
    "plt.show()"
   ]
  },
  {
   "cell_type": "markdown",
   "id": "afebf7ae",
   "metadata": {},
   "source": []
  },
  {
   "cell_type": "markdown",
   "id": "a1ebfd7b",
   "metadata": {},
   "source": [
    "Problem: How to predict the weight of a person with height 175cm?"
   ]
  },
  {
   "cell_type": "code",
   "execution_count": null,
   "id": "775ae778",
   "metadata": {},
   "outputs": [],
   "source": [
    "import matplotlib.pyplot as plt\n",
    "import numpy as np\n",
    "from math import sqrt\n",
    "\n",
    "weight = np.random.randint(40, 100, 30)\n",
    "height = np.sqrt(weight / 20) * 100 + np.random.randint(-20, 20, 30)\n",
    "\n",
    "# implement linear regression using scikit to predict weight from height\n",
    "from sklearn.linear_model import LinearRegression\n",
    "model = LinearRegression()\n",
    "model.fit(height.reshape(-1, 1), weight)\n",
    "weight_pred = model.predict(height.reshape(-1, 1))\n",
    "\n",
    "\n",
    "# plot\n",
    "plt.scatter(weight, height)\n",
    "plt.xlabel('weight')\n",
    "plt.ylabel('height')\n",
    "plt.title('weight vs height')\n",
    "\n",
    "# plot the regression line\n",
    "plt.plot(weight_pred, height, color='red')\n",
    "plt.show()\n"
   ]
  },
  {
   "cell_type": "markdown",
   "id": "66d85d7d",
   "metadata": {},
   "source": []
  },
  {
   "cell_type": "markdown",
   "id": "90397aaf",
   "metadata": {},
   "source": [
    "# Unsupervised"
   ]
  },
  {
   "cell_type": "markdown",
   "id": "a3a4fba6",
   "metadata": {},
   "source": [
    "Label is not given, the task is to find the pattern in the data, e.g. anomaly detection, clustering"
   ]
  },
  {
   "cell_type": "code",
   "execution_count": null,
   "id": "4f87c58f",
   "metadata": {},
   "outputs": [],
   "source": [
    "# Create a sample of clustering data\n",
    "\n",
    "from sklearn.datasets import make_blobs\n",
    "import matplotlib.pyplot as plt\n",
    "\n",
    "# Generate sample data\n",
    "X, y = make_blobs(n_samples=300, centers=4, cluster_std=0.60, random_state=0)\n",
    "\n",
    "# Plot the data\n",
    "plt.scatter(X[:, 0], X[:, 1], s=50)\n",
    "plt.show()"
   ]
  },
  {
   "cell_type": "markdown",
   "id": "f549b314",
   "metadata": {},
   "source": []
  },
  {
   "cell_type": "markdown",
   "id": "cbe3fee5",
   "metadata": {},
   "source": [
    "Without any label or target, predict which data belongs to which cluster"
   ]
  },
  {
   "cell_type": "code",
   "execution_count": null,
   "id": "e2fa8fec",
   "metadata": {},
   "outputs": [],
   "source": [
    "# Create a sample of clustering data\n",
    "\n",
    "from sklearn.datasets import make_blobs\n",
    "import matplotlib.pyplot as plt\n",
    "\n",
    "# Generate sample data\n",
    "X, y = make_blobs(n_samples=300, centers=4, cluster_std=0.60, random_state=0)\n",
    "\n",
    "# Implement K-NN clustering\n",
    "from sklearn.cluster import KMeans\n",
    "kmeans = KMeans(n_clusters=4)\n",
    "kmeans.fit(X)\n",
    "y_pred = kmeans.predict(X)\n",
    "\n",
    "# Plot the clustering result\n",
    "plt.scatter(X[:, 0], X[:, 1], c=y_pred, s=50, cmap='viridis')\n",
    "plt.show()"
   ]
  },
  {
   "cell_type": "code",
   "execution_count": null,
   "id": "31518640",
   "metadata": {},
   "outputs": [],
   "source": [
    "/Users/ruangguru/.pyenv/versions/3.11.1/lib/python3.11/site-packages/sklearn/cluster/_kmeans.py:870: FutureWarning: The default value of `n_init` will change from 10 to 'auto' in 1.4. Set the value of `n_init` explicitly to suppress the warning\n",
    "  warnings.warn("
   ]
  },
  {
   "cell_type": "markdown",
   "id": "3ba243e5",
   "metadata": {},
   "source": []
  },
  {
   "cell_type": "markdown",
   "id": "fcbae44e",
   "metadata": {},
   "source": [
    "# Semi Supervised"
   ]
  },
  {
   "cell_type": "markdown",
   "id": "87ddfccd",
   "metadata": {},
   "source": [
    "Combination of unsupervised and supervised learning"
   ]
  },
  {
   "cell_type": "markdown",
   "id": "67bf75d0",
   "metadata": {},
   "source": [
    "Example: Google Photos"
   ]
  },
  {
   "cell_type": "markdown",
   "id": "6171bd41",
   "metadata": {},
   "source": []
  },
  {
   "cell_type": "markdown",
   "id": "679542e7",
   "metadata": {},
   "source": [
    "![Image](https://storage.googleapis.com/support-forums-api/attachment/message-98489306-15452541684849637976.jpg)"
   ]
  },
  {
   "cell_type": "markdown",
   "id": "3a45bb17",
   "metadata": {},
   "source": [
    "# Overfitting"
   ]
  },
  {
   "cell_type": "markdown",
   "id": "8e1835dc",
   "metadata": {},
   "source": [
    "The model doesn’t generalize well, it memorizes the training data"
   ]
  },
  {
   "cell_type": "code",
   "execution_count": null,
   "id": "6c1857d0",
   "metadata": {},
   "outputs": [],
   "source": [
    "# Create a sample X and Y data\n",
    "\n",
    "import numpy as np\n",
    "import matplotlib.pyplot as plt\n",
    "\n",
    "# set seed\n",
    "np.random.seed(0)\n",
    "\n",
    "# Generate sample data\n",
    "X = np.random.rand(100, 1)\n",
    "y = 2 + 3 * X + np.random.rand(100, 1)\n",
    "\n",
    "# Make a overfit regression\n",
    "from sklearn.linear_model import LinearRegression\n",
    "from sklearn.preprocessing import PolynomialFeatures\n",
    "from sklearn.pipeline import make_pipeline\n",
    "\n",
    "model = make_pipeline(PolynomialFeatures(20), LinearRegression())\n",
    "model.fit(X, y)\n",
    "\n",
    "# Plot the data\n",
    "plt.scatter(X, y)\n",
    "\n",
    "# draw the model\n",
    "X_test = np.linspace(0, 1, 100)\n",
    "y_pred = model.predict(X_test.reshape(-1, 1))\n",
    "plt.plot(X_test, y_pred, color='red')\n",
    "\n",
    "plt.show()"
   ]
  },
  {
   "cell_type": "markdown",
   "id": "aaf13b64",
   "metadata": {},
   "source": []
  },
  {
   "cell_type": "markdown",
   "id": "5d799f66",
   "metadata": {},
   "source": [
    "# Training Set & Test Set"
   ]
  },
  {
   "cell_type": "markdown",
   "id": "472ffbcb",
   "metadata": {},
   "source": [
    "To prevent overfitting, we need to have a separate data to evaluate the model"
   ]
  },
  {
   "cell_type": "markdown",
   "id": "3de24dbb",
   "metadata": {},
   "source": [
    "One way to do it is to split the data into two sets:"
   ]
  },
  {
   "cell_type": "markdown",
   "id": "689e6245",
   "metadata": {},
   "source": [
    "When overfitting happen, the model will perform well on the training set but perform poorly on the test set"
   ]
  },
  {
   "cell_type": "markdown",
   "id": "d98e9ddb",
   "metadata": {},
   "source": [
    "To split the data, we can do it manually or use train_test_split function from sklearn"
   ]
  },
  {
   "cell_type": "code",
   "execution_count": null,
   "id": "0336b713",
   "metadata": {},
   "outputs": [],
   "source": [
    "# Split the data into training and test set manually\n",
    "\n",
    "import numpy as np\n",
    "import matplotlib.pyplot as plt\n",
    "\n",
    "# set seed\n",
    "np.random.seed(0)\n",
    "\n",
    "# Generate sample data\n",
    "X = np.random.rand(100, 1)\n",
    "y = 2 + 3 * X + np.random.rand(100, 1)\n",
    "\n",
    "# Split the data into training and test set manually\n",
    "X_train, y_train = X[:80], y[:80]\n",
    "X_test, y_test = X[80:], y[80:]\n",
    "\n",
    "# Plot the training and test set\n",
    "plt.scatter(X_train, y_train, label='Training set')\n",
    "plt.scatter(X_test, y_test, label='Test set')\n",
    "plt.legend()\n",
    "plt.show()"
   ]
  },
  {
   "cell_type": "markdown",
   "id": "4b506cb8",
   "metadata": {},
   "source": []
  },
  {
   "cell_type": "markdown",
   "id": "6cf0f787",
   "metadata": {},
   "source": [
    "But be careful, the data should be shuffled first before splitting"
   ]
  },
  {
   "cell_type": "markdown",
   "id": "ee481cea",
   "metadata": {},
   "source": [
    "Otherwise, the model will be trained on the same data distribution"
   ]
  },
  {
   "cell_type": "code",
   "execution_count": null,
   "id": "f99ef94d",
   "metadata": {},
   "outputs": [],
   "source": [
    "# Split the data into training and test set manually\n",
    "\n",
    "import numpy as np\n",
    "import matplotlib.pyplot as plt\n",
    "\n",
    "# set seed\n",
    "np.random.seed(0)\n",
    "\n",
    "# Generate sample data\n",
    "# X being a 100 x 1 matrix, ordered from 0 to 100\n",
    "X = np.arange(100).reshape(100, 1)\n",
    "y = 2 + 3 * X + np.random.rand(100, 1)\n",
    "y[X >= 80] = 2 + 5 * X[X >= 80].flatten() + np.random.rand(len(X[X >= 80]))\n",
    "\n",
    "# Split the data into training and test set manually\n",
    "X_train, y_train = X[:80], y[:80]\n",
    "X_test, y_test = X[80:], y[80:]\n",
    "\n",
    "# Train a linear regression model\n",
    "model = LinearRegression()\n",
    "model.fit(X_train, y_train)\n",
    "\n",
    "# Plot the training and test set\n",
    "plt.scatter(X_train, y_train, label='Training set')\n",
    "plt.scatter(X_test, y_test, label='Test set')\n",
    "\n",
    "# Plot the regression line\n",
    "X_test = np.linspace(0, 100, 100)\n",
    "y_pred = model.predict(X_test.reshape(-1, 1))\n",
    "plt.plot(X_test, y_pred, color='red', label='Regression line')\n",
    "\n",
    "plt.legend()\n",
    "\n",
    "plt.show()"
   ]
  },
  {
   "cell_type": "markdown",
   "id": "0c21fb37",
   "metadata": {},
   "source": []
  },
  {
   "cell_type": "code",
   "execution_count": null,
   "id": "43936e3c",
   "metadata": {},
   "outputs": [],
   "source": [
    "# Split the data into training and test set manually\n",
    "\n",
    "import numpy as np\n",
    "import matplotlib.pyplot as plt\n",
    "\n",
    "# set seed\n",
    "np.random.seed(0)\n",
    "\n",
    "# Generate sample data\n",
    "# X being a 100 x 1 matrix, ordered from 0 to 100\n",
    "X = np.arange(100).reshape(100, 1)\n",
    "y = 2 + 3 * X + np.random.rand(100, 1)\n",
    "y[X >= 80] = 2 + 5 * X[X >= 80].flatten() + np.random.rand(len(X[X >= 80]))\n",
    "\n",
    "# Split the data into training and test using scikit\n",
    "from sklearn.model_selection import train_test_split\n",
    "X_train, X_test, y_train, y_test = train_test_split(X, y, shuffle=True) # Make sure it's shuffled \n",
    "\n",
    "# Train a linear regression model\n",
    "model = LinearRegression()\n",
    "model.fit(X_train, y_train)\n",
    "\n",
    "# Plot the training and test set\n",
    "plt.scatter(X_train, y_train, label='Training set')\n",
    "plt.scatter(X_test, y_test, label='Test set')\n",
    "\n",
    "# Plot the regression line\n",
    "X_test = np.linspace(0, 100, 100)\n",
    "y_pred = model.predict(X_test.reshape(-1, 1))\n",
    "plt.plot(X_test, y_pred, color='red', label='Regression line')\n",
    "\n",
    "plt.legend()\n",
    "\n",
    "plt.show()"
   ]
  },
  {
   "cell_type": "markdown",
   "id": "25baa0b5",
   "metadata": {},
   "source": []
  },
  {
   "cell_type": "markdown",
   "id": "781f7689",
   "metadata": {},
   "source": [
    "# Cross Validation"
   ]
  },
  {
   "cell_type": "markdown",
   "id": "482c523b",
   "metadata": {},
   "source": [
    "Cross validation is a technique to evaluate the model by splitting the data into training set and test set multiple times."
   ]
  },
  {
   "cell_type": "markdown",
   "id": "928cb712",
   "metadata": {},
   "source": [
    "For example: 5-fold cross validation"
   ]
  },
  {
   "cell_type": "markdown",
   "id": "d8d2f953",
   "metadata": {},
   "source": []
  },
  {
   "cell_type": "markdown",
   "id": "d0711cec",
   "metadata": {},
   "source": [
    "![Image](https://upload.wikimedia.org/wikipedia/commons/b/b5/K-fold_cross_validation_EN.svg)"
   ]
  },
  {
   "cell_type": "code",
   "execution_count": null,
   "id": "9a868125",
   "metadata": {},
   "outputs": [],
   "source": [
    "import numpy as np\n",
    "from sklearn.linear_model import LinearRegression\n",
    "from sklearn.model_selection import KFold, cross_val_score\n",
    "\n",
    "# Generate sample data\n",
    "np.random.seed(0)\n",
    "X = np.random.rand(100, 1)\n",
    "y = 2 + 3 * X + np.random.rand(100, 1)\n",
    "\n",
    "# Initialize the linear regression model\n",
    "model = LinearRegression()\n",
    "\n",
    "# Initialize the 5-fold cross-validation object\n",
    "kf = KFold(n_splits=5, shuffle=True)\n",
    "\n",
    "# Train and evaluate the model on each fold\n",
    "for train_index, test_index in kf.split(X):\n",
    "    # Split the data into training and test sets for this fold\n",
    "    X_train, X_test = X[train_index], X[test_index]\n",
    "    y_train, y_test = y[train_index], y[test_index]\n",
    "\n",
    "    # Fit the model on the training data for this fold\n",
    "    model.fit(X_train, y_train)\n",
    "\n",
    "    # Evaluate the model on the test data for this fold\n",
    "    score = model.score(X_test, y_test)\n",
    "\n",
    "    # Draw the plot\n",
    "    plt.scatter(X_train, y_train, label='Training set')\n",
    "    plt.scatter(X_test, y_test, label='Test set')\n",
    "    \n",
    "    # Show the plot\n",
    "    plt.legend()\n",
    "    plt.show()\n",
    "\n",
    "    # Print the score for this fold\n",
    "    print(f\"Fold score: {score:.2f}\")\n",
    "\n",
    "# Compute the overall score across all folds\n",
    "scores = cross_val_score(model, X, y, cv=kf)\n",
    "print(f\"Overall score: {np.mean(scores):.2f}\")"
   ]
  },
  {
   "cell_type": "markdown",
   "id": "0f412578",
   "metadata": {},
   "source": []
  },
  {
   "cell_type": "code",
   "execution_count": null,
   "id": "f0d4502d",
   "metadata": {},
   "outputs": [],
   "source": [
    "Fold score: 0.83"
   ]
  },
  {
   "cell_type": "markdown",
   "id": "168a3338",
   "metadata": {},
   "source": []
  },
  {
   "cell_type": "code",
   "execution_count": null,
   "id": "1c1121c9",
   "metadata": {},
   "outputs": [],
   "source": [
    "Fold score: 0.93"
   ]
  },
  {
   "cell_type": "markdown",
   "id": "5a498329",
   "metadata": {},
   "source": []
  },
  {
   "cell_type": "code",
   "execution_count": null,
   "id": "621849ab",
   "metadata": {},
   "outputs": [],
   "source": [
    "Fold score: 0.94"
   ]
  },
  {
   "cell_type": "markdown",
   "id": "ed7c48e7",
   "metadata": {},
   "source": []
  },
  {
   "cell_type": "code",
   "execution_count": null,
   "id": "9325fd13",
   "metadata": {},
   "outputs": [],
   "source": [
    "Fold score: 0.87"
   ]
  },
  {
   "cell_type": "markdown",
   "id": "4ab23591",
   "metadata": {},
   "source": []
  },
  {
   "cell_type": "code",
   "execution_count": null,
   "id": "bf7b3d94",
   "metadata": {},
   "outputs": [],
   "source": [
    "Fold score: 0.88\n",
    "Overall score: 0.89"
   ]
  },
  {
   "cell_type": "markdown",
   "id": "3d9b3a43",
   "metadata": {},
   "source": [
    "# Regression vs Classification"
   ]
  },
  {
   "cell_type": "markdown",
   "id": "aa9bd36a",
   "metadata": {},
   "source": [
    "# Regression"
   ]
  },
  {
   "cell_type": "markdown",
   "id": "5898a6ce",
   "metadata": {},
   "source": [
    "Predict continuous value, e.g. predict the weight of a person (as shown in the supervised learning example)"
   ]
  },
  {
   "cell_type": "markdown",
   "id": "4f48e07e",
   "metadata": {},
   "source": [
    "# Classification"
   ]
  },
  {
   "cell_type": "markdown",
   "id": "8653aa2e",
   "metadata": {},
   "source": [
    "Classify the data into different classes, e.g. classify the email into spam or not spam"
   ]
  },
  {
   "cell_type": "code",
   "execution_count": null,
   "id": "33a35ef5",
   "metadata": {},
   "outputs": [],
   "source": [
    "# Download MNIST dataset\n",
    "\n",
    "from sklearn.datasets import fetch_openml\n",
    "mnist = fetch_openml('mnist_784', version=1, as_frame=True)"
   ]
  },
  {
   "cell_type": "code",
   "execution_count": null,
   "id": "e5cd747f",
   "metadata": {},
   "outputs": [],
   "source": [
    "/Users/ruangguru/.pyenv/versions/3.11.1/lib/python3.11/site-packages/sklearn/datasets/_openml.py:968: FutureWarning: The default value of `parser` will change from `'liac-arff'` to `'auto'` in 1.4. You can set `parser='auto'` to silence this warning. Therefore, an `ImportError` will be raised from 1.4 if the dataset is dense and pandas is not installed. Note that the pandas parser may return different data types. See the Notes Section in fetch_openml's API doc for details.\n",
    "  warn("
   ]
  },
  {
   "cell_type": "code",
   "execution_count": null,
   "id": "f40a0fc9",
   "metadata": {},
   "outputs": [],
   "source": [
    "X = mnist['data']\n",
    "y = mnist['target']\n",
    "\n",
    "print(X.shape, y.shape)"
   ]
  },
  {
   "cell_type": "code",
   "execution_count": null,
   "id": "21a20bfc",
   "metadata": {},
   "outputs": [],
   "source": [
    "(70000, 784) (70000,)"
   ]
  },
  {
   "cell_type": "code",
   "execution_count": null,
   "id": "f6e59161",
   "metadata": {},
   "outputs": [],
   "source": [
    "X.head()"
   ]
  },
  {
   "cell_type": "markdown",
   "id": "8d80ba1d",
   "metadata": {},
   "source": [
    "5 rows × 784 columns"
   ]
  },
  {
   "cell_type": "code",
   "execution_count": null,
   "id": "9c5bcb57",
   "metadata": {},
   "outputs": [],
   "source": [
    "y.head()"
   ]
  },
  {
   "cell_type": "code",
   "execution_count": null,
   "id": "34998407",
   "metadata": {},
   "outputs": [],
   "source": [
    "0    5\n",
    "1    0\n",
    "2    4\n",
    "3    1\n",
    "4    9\n",
    "Name: class, dtype: category\n",
    "Categories (10, object): ['0', '1', '2', '3', ..., '6', '7', '8', '9']"
   ]
  },
  {
   "cell_type": "code",
   "execution_count": null,
   "id": "26b57d41",
   "metadata": {},
   "outputs": [],
   "source": [
    "# Plot the first 20 images\n",
    "\n",
    "import matplotlib.pyplot as plt\n",
    "\n",
    "for i in range(5):\n",
    "    some_digit = X.iloc[i]\n",
    "    some_digit_image = some_digit.values.reshape(28, 28)\n",
    "\n",
    "    plt.imshow(some_digit_image, cmap='binary')\n",
    "    plt.axis('off')\n",
    "\n",
    "    # Draw label y on the bottom\n",
    "    plt.text(0, 28, y[i], fontsize=14, color='g')\n",
    "    plt.show()"
   ]
  },
  {
   "cell_type": "markdown",
   "id": "9535000e",
   "metadata": {},
   "source": []
  },
  {
   "cell_type": "markdown",
   "id": "3a6a17cf",
   "metadata": {},
   "source": []
  },
  {
   "cell_type": "markdown",
   "id": "5fa559ec",
   "metadata": {},
   "source": []
  },
  {
   "cell_type": "markdown",
   "id": "c81d15fc",
   "metadata": {},
   "source": []
  },
  {
   "cell_type": "markdown",
   "id": "00d79b9f",
   "metadata": {},
   "source": []
  },
  {
   "cell_type": "markdown",
   "id": "3ef5a9f8",
   "metadata": {},
   "source": [
    "This is classification problem."
   ]
  },
  {
   "cell_type": "markdown",
   "id": "72365f4d",
   "metadata": {},
   "source": [
    "Given images, classify the images into correct numbers"
   ]
  },
  {
   "cell_type": "markdown",
   "id": "aef1f222",
   "metadata": {},
   "source": [
    "# Confusion Matrix"
   ]
  },
  {
   "cell_type": "markdown",
   "id": "f10245df",
   "metadata": {},
   "source": [
    "Classification matrix needs different metrics to evaluate the model. And the objective metrics can be different for different problems."
   ]
  },
  {
   "cell_type": "markdown",
   "id": "5f2a3719",
   "metadata": {},
   "source": [
    "Confusion matrix is a table to visualize the performance of the classification model"
   ]
  },
  {
   "cell_type": "markdown",
   "id": "0410b122",
   "metadata": {},
   "source": [
    "Example of Confusion Matrix"
   ]
  },
  {
   "cell_type": "code",
   "execution_count": null,
   "id": "8cdbd19f",
   "metadata": {},
   "outputs": [],
   "source": [
    "import matplotlib.pyplot as plt\n",
    "\n",
    "# split the data into train and test\n",
    "train_size = 60000\n",
    "train_X, test_X = X[:train_size], X[train_size:]\n",
    "train_y, test_y = y[:train_size], y[train_size:]\n",
    "\n",
    "is_7_train = train_y == '7'\n",
    "is_7_test = test_y == '7'\n",
    "\n",
    "# Train the model\n",
    "from sklearn.linear_model import SGDClassifier\n",
    "sgd_clf = SGDClassifier(random_state=42)\n",
    "sgd_clf.fit(train_X, is_7_train)"
   ]
  },
  {
   "cell_type": "code",
   "execution_count": null,
   "id": "5f6dbabb",
   "metadata": {},
   "outputs": [],
   "source": [
    "SGDClassifier(random_state=42)"
   ]
  },
  {
   "cell_type": "code",
   "execution_count": null,
   "id": "721ce21d",
   "metadata": {},
   "outputs": [],
   "source": [
    "SGDClassifier(random_state=42)"
   ]
  },
  {
   "cell_type": "code",
   "execution_count": null,
   "id": "0435d957",
   "metadata": {},
   "outputs": [],
   "source": [
    "# Draw confusion matrix\n",
    "from sklearn.metrics import confusion_matrix\n",
    "\n",
    "y_pred = sgd_clf.predict(test_X)\n",
    "cm = confusion_matrix(is_7_test, y_pred)\n",
    "print(cm)"
   ]
  },
  {
   "cell_type": "code",
   "execution_count": null,
   "id": "c0651080",
   "metadata": {},
   "outputs": [],
   "source": [
    "[[8902   70]\n",
    " [ 107  921]]"
   ]
  },
  {
   "cell_type": "markdown",
   "id": "66bb18fb",
   "metadata": {},
   "source": [
    "# False Positive"
   ]
  },
  {
   "cell_type": "code",
   "execution_count": null,
   "id": "20e573a8",
   "metadata": {},
   "outputs": [],
   "source": [
    "# Draw the false positive\n",
    "\n",
    "import matplotlib.pyplot as plt\n",
    "\n",
    "false_positive = (is_7_test == False) & (y_pred == True)\n",
    "false_positive_images = test_X[false_positive]\n",
    "\n",
    "for i in range(3):\n",
    "    some_digit = false_positive_images.iloc[i]\n",
    "    some_digit_image = some_digit.values.reshape(28, 28)\n",
    "\n",
    "    plt.imshow(some_digit_image, cmap='binary')\n",
    "    plt.axis('off')\n",
    "\n",
    "    # Draw label y on the bottom\n",
    "    plt.text(0, 28, 'False Positive (predicted 7, but it is NOT 7)', fontsize=14, color='r')\n",
    "    plt.show()"
   ]
  },
  {
   "cell_type": "markdown",
   "id": "1580e06f",
   "metadata": {},
   "source": []
  },
  {
   "cell_type": "markdown",
   "id": "a7b3177a",
   "metadata": {},
   "source": []
  },
  {
   "cell_type": "markdown",
   "id": "7df4539e",
   "metadata": {},
   "source": []
  },
  {
   "cell_type": "markdown",
   "id": "5e048196",
   "metadata": {},
   "source": [
    "# False Negative"
   ]
  },
  {
   "cell_type": "code",
   "execution_count": null,
   "id": "a52a08ef",
   "metadata": {},
   "outputs": [],
   "source": [
    "# Draw the false negative\n",
    "\n",
    "import matplotlib.pyplot as plt\n",
    "\n",
    "false_negative = (is_7_test == True) & (y_pred == False)\n",
    "false_negative_images = test_X[false_negative]\n",
    "\n",
    "for i in range(3):\n",
    "    some_digit = false_negative_images.iloc[i]\n",
    "    some_digit_image = some_digit.values.reshape(28, 28)\n",
    "\n",
    "    plt.imshow(some_digit_image, cmap='binary')\n",
    "    plt.axis('off')\n",
    "\n",
    "    # Draw label y on the bottom\n",
    "    plt.text(0, 28, 'False Negative (predicted NOT 7, but it is 7)', fontsize=14, color='r')\n",
    "    plt.show()"
   ]
  },
  {
   "cell_type": "markdown",
   "id": "ba3dffd2",
   "metadata": {},
   "source": []
  },
  {
   "cell_type": "markdown",
   "id": "d5d04faa",
   "metadata": {},
   "source": []
  },
  {
   "cell_type": "markdown",
   "id": "869f0934",
   "metadata": {},
   "source": []
  },
  {
   "cell_type": "markdown",
   "id": "f12eba68",
   "metadata": {},
   "source": [
    "# True Negative"
   ]
  },
  {
   "cell_type": "code",
   "execution_count": null,
   "id": "eb176a80",
   "metadata": {},
   "outputs": [],
   "source": [
    "# Draw the true negative\n",
    "\n",
    "import matplotlib.pyplot as plt\n",
    "\n",
    "true_negative = (is_7_test == False) & (y_pred == False)\n",
    "true_negative_images = test_X[true_negative]\n",
    "\n",
    "for i in range(3):\n",
    "    some_digit = true_negative_images.iloc[i]\n",
    "    some_digit_image = some_digit.values.reshape(28, 28)\n",
    "\n",
    "    plt.imshow(some_digit_image, cmap='binary')\n",
    "    plt.axis('off')\n",
    "\n",
    "    # Draw label y on the bottom\n",
    "    plt.text(0, 28, 'True Negative (predicted NOT 7, and it is NOT 7)', fontsize=14, color='g')\n",
    "    plt.show()"
   ]
  },
  {
   "cell_type": "markdown",
   "id": "09e548c5",
   "metadata": {},
   "source": []
  },
  {
   "cell_type": "markdown",
   "id": "17ddb48f",
   "metadata": {},
   "source": []
  },
  {
   "cell_type": "markdown",
   "id": "7a20a983",
   "metadata": {},
   "source": []
  },
  {
   "cell_type": "markdown",
   "id": "994e9912",
   "metadata": {},
   "source": [
    "# True Positive"
   ]
  },
  {
   "cell_type": "code",
   "execution_count": null,
   "id": "58182d54",
   "metadata": {},
   "outputs": [],
   "source": [
    "# Draw the true positive\n",
    "\n",
    "import matplotlib.pyplot as plt\n",
    "\n",
    "true_positive = (is_7_test == True) & (y_pred == True)\n",
    "true_positive_images = test_X[true_positive]\n",
    "\n",
    "for i in range(3):\n",
    "    some_digit = true_positive_images.iloc[i]\n",
    "    some_digit_image = some_digit.values.reshape(28, 28)\n",
    "\n",
    "    plt.imshow(some_digit_image, cmap='binary')\n",
    "    plt.axis('off')\n",
    "\n",
    "    # Draw label y on the bottom\n",
    "    plt.text(0, 28, 'True Positive (predicted 7, and it is 7)', fontsize=14, color='g')\n",
    "    plt.show()"
   ]
  },
  {
   "cell_type": "markdown",
   "id": "32daa1ca",
   "metadata": {},
   "source": []
  },
  {
   "cell_type": "markdown",
   "id": "0af8b3ac",
   "metadata": {},
   "source": []
  },
  {
   "cell_type": "markdown",
   "id": "0bd2df07",
   "metadata": {},
   "source": []
  },
  {
   "cell_type": "markdown",
   "id": "9a036ecd",
   "metadata": {},
   "source": [
    "# Why not use accuracy?"
   ]
  },
  {
   "cell_type": "markdown",
   "id": "bc009838",
   "metadata": {},
   "source": [
    "Accuracy may not be a good metric for classification problem, because the data can be imbalanced."
   ]
  },
  {
   "cell_type": "markdown",
   "id": "710078d2",
   "metadata": {},
   "source": [
    "For example:"
   ]
  },
  {
   "cell_type": "markdown",
   "id": "3b7eab65",
   "metadata": {},
   "source": [
    "If the model always predict the email as not spam, the accuracy is 99%. But the model is not useful at all."
   ]
  },
  {
   "cell_type": "markdown",
   "id": "ca996af1",
   "metadata": {},
   "source": [
    "Confusion Matrix:"
   ]
  },
  {
   "cell_type": "markdown",
   "id": "040c1340",
   "metadata": {},
   "source": [
    "Or in our MNIST example:"
   ]
  },
  {
   "cell_type": "markdown",
   "id": "33dee7df",
   "metadata": {},
   "source": [
    "When we want to classify if the image is number 7 or not, a model that always predict the image as not 7 will have 90% accuracy."
   ]
  },
  {
   "cell_type": "markdown",
   "id": "faa1f82d",
   "metadata": {},
   "source": [
    "Confusion Matrix:"
   ]
  },
  {
   "cell_type": "markdown",
   "id": "76d60a29",
   "metadata": {},
   "source": [
    "# Precision & Recall"
   ]
  },
  {
   "cell_type": "markdown",
   "id": "a346e7b2",
   "metadata": {},
   "source": [
    "We need other metrics!"
   ]
  },
  {
   "cell_type": "markdown",
   "id": "c5e60614",
   "metadata": {},
   "source": [
    "\\[\\begin{align*}\n",
    "\\text{Recall} &= \\frac{\\text{True Positive}}{\\text{True Positive} + \\text{False Negative}} \\\\\n",
    "\\text{Precision} &= \\frac{\\text{True Positive}}{\\text{True Positive} + \\text{False Positive}}\n",
    "\\end{align*}\\]"
   ]
  },
  {
   "cell_type": "markdown",
   "id": "470b278d",
   "metadata": {},
   "source": [
    " Source: Hands-on Machine Learning with Scikit-Learn, Keras, and TensorFlow, 2nd Edition"
   ]
  },
  {
   "cell_type": "markdown",
   "id": "71eccaac",
   "metadata": {},
   "source": [
    "![Image](https://storage.googleapis.com/rg-ai-bootcamp/machine-learning/precision-and-recall-min.png)"
   ]
  },
  {
   "cell_type": "markdown",
   "id": "01d152e4",
   "metadata": {},
   "source": [
    "Example:"
   ]
  },
  {
   "cell_type": "markdown",
   "id": "d129c967",
   "metadata": {},
   "source": [
    "# Perfect Recall"
   ]
  },
  {
   "cell_type": "markdown",
   "id": "c42df182",
   "metadata": {},
   "source": [
    "Confusion Matrix:"
   ]
  },
  {
   "cell_type": "markdown",
   "id": "161fb71d",
   "metadata": {},
   "source": [
    "If our model always predict ALL image as 7, the recall will be 100% (10 / (10 + 0) = 1)."
   ]
  },
  {
   "cell_type": "markdown",
   "id": "3e8c2d49",
   "metadata": {},
   "source": [
    "Perfect recall means that the model will never miss any 7, but it will also predict many non-7 as 7."
   ]
  },
  {
   "cell_type": "code",
   "execution_count": null,
   "id": "2d4810f2",
   "metadata": {},
   "outputs": [],
   "source": [
    "Q: Is \"7\" seven?\n",
    "A: Yes, it is seven\n",
    "Q: Is \"7\" seven?\n",
    "A: Yes, it is seven\n",
    "Q: Is \"8\" seven?\n",
    "A: Yes, it is seven\n",
    "Q: Is \"9\" seven?\n",
    "A: Yes, it is seven"
   ]
  },
  {
   "cell_type": "markdown",
   "id": "d6899ee9",
   "metadata": {},
   "source": [
    "# Perfect Precision"
   ]
  },
  {
   "cell_type": "markdown",
   "id": "a231b10f",
   "metadata": {},
   "source": [
    "Confusion Matrix:"
   ]
  },
  {
   "cell_type": "markdown",
   "id": "94da472f",
   "metadata": {},
   "source": [
    "If our model is very careful and only predict the image as 7 when it is very sure, we will have a perfect precision."
   ]
  },
  {
   "cell_type": "markdown",
   "id": "dbe60abd",
   "metadata": {},
   "source": [
    "Perfect precision means that when the model predict the image as 7, it is actually 7. But the model may miss a lot of 7s."
   ]
  },
  {
   "cell_type": "code",
   "execution_count": null,
   "id": "2bdfc28f",
   "metadata": {},
   "outputs": [],
   "source": [
    "Q: Is \"7\" seven?\n",
    "A: Yes, it is seven\n",
    "Q: Is \"8\" seven?\n",
    "A: No, it is not seven\n",
    "Q: Is \"9\" seven?\n",
    "A: No, it is not seven\n",
    "Q: Is \"7\" seven?\n",
    "A: No, it is not seven\n",
    "Q: Is \"7\" seven?\n",
    "A: No, it is not seven"
   ]
  },
  {
   "cell_type": "markdown",
   "id": "ccf86400",
   "metadata": {},
   "source": [
    "# When to use precision and when to use recall?"
   ]
  },
  {
   "cell_type": "markdown",
   "id": "0ef4a2d8",
   "metadata": {},
   "source": [
    "It depends on the problem."
   ]
  },
  {
   "cell_type": "markdown",
   "id": "35ec77ea",
   "metadata": {},
   "source": [
    "High Recall"
   ]
  },
  {
   "cell_type": "markdown",
   "id": "63c41c37",
   "metadata": {},
   "source": [
    "High Precision"
   ]
  },
  {
   "cell_type": "markdown",
   "id": "c5607adf",
   "metadata": {},
   "source": [
    "# F1 Score"
   ]
  },
  {
   "cell_type": "markdown",
   "id": "24898e0c",
   "metadata": {},
   "source": [
    "F1 score is a metric that combines precision and recall."
   ]
  },
  {
   "cell_type": "markdown",
   "id": "b32494ed",
   "metadata": {},
   "source": [
    "The formula for F1 score is:"
   ]
  },
  {
   "cell_type": "markdown",
   "id": "b589dd5b",
   "metadata": {},
   "source": [
    "\\[F1 = \\frac{2}{\\frac{1}{Precision} + \\frac{1}{Recall}}\\]"
   ]
  },
  {
   "cell_type": "markdown",
   "id": "1dff9750",
   "metadata": {},
   "source": [
    "The F1 score favors classifiers that have similar precision and recall. This is not always what you want: in some contexts you mostly care about precision, and in other contexts you really care about recall."
   ]
  }
 ],
 "metadata": {},
 "nbformat": 4,
 "nbformat_minor": 5
}
