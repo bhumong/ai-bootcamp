{
 "cells": [
  {
   "cell_type": "markdown",
   "id": "466b886b",
   "metadata": {},
   "source": [
    "source: [link](https://ai-bootcamp.ruangguru.com/learn/02_machine-learning-fundamental/02_linear-equation.html)"
   ]
  },
  {
   "cell_type": "markdown",
   "id": "da27a981",
   "metadata": {},
   "source": [
    "# Linear Regression"
   ]
  },
  {
   "cell_type": "markdown",
   "id": "49f46b5f",
   "metadata": {},
   "source": [
    "Remember that machine learning is about learning some form of input-output mapping, and then using that model to make predictions on new data."
   ]
  },
  {
   "cell_type": "markdown",
   "id": "1096f60a",
   "metadata": {},
   "source": [
    "We will learn how to do this using linear regression, which is a simple yet powerful technique."
   ]
  },
  {
   "cell_type": "markdown",
   "id": "60f75593",
   "metadata": {},
   "source": [
    "But… Let’s revisit high school math for a moment."
   ]
  },
  {
   "cell_type": "markdown",
   "id": "c94bb3b8",
   "metadata": {},
   "source": [
    "# High School Math"
   ]
  },
  {
   "cell_type": "markdown",
   "id": "a9aaeed3",
   "metadata": {},
   "source": [
    "# Linear equation"
   ]
  },
  {
   "cell_type": "markdown",
   "id": "8738bd39",
   "metadata": {},
   "source": [
    "Let’s say we have a linear equation:"
   ]
  },
  {
   "cell_type": "code",
   "execution_count": null,
   "id": "cd39b661",
   "metadata": {},
   "outputs": [],
   "source": [
    "y = x"
   ]
  },
  {
   "cell_type": "markdown",
   "id": "234a2bf7",
   "metadata": {},
   "source": [
    "How the curve looks like?"
   ]
  },
  {
   "cell_type": "code",
   "execution_count": null,
   "id": "e116f6bf",
   "metadata": {},
   "outputs": [],
   "source": [
    "import numpy as np\n",
    "import matplotlib.pyplot as plt\n",
    "\n",
    "# Create data\n",
    "x = np.arange(0, 5, 0.1)\n",
    "y = x\n",
    "\n",
    "# Plot\n",
    "plt.plot(x, y)\n",
    "plt.xlim(0, 5)\n",
    "plt.ylim(0, 5)\n",
    "\n",
    "# Set the x and y labels\n",
    "plt.xlabel('x')\n",
    "plt.ylabel('y')\n",
    "\n",
    "plt.title('y = x')\n",
    "\n",
    "plt.show()"
   ]
  },
  {
   "cell_type": "markdown",
   "id": "84d50718",
   "metadata": {},
   "source": []
  },
  {
   "cell_type": "markdown",
   "id": "936d0243",
   "metadata": {},
   "source": [
    "How about this one?"
   ]
  },
  {
   "cell_type": "code",
   "execution_count": null,
   "id": "0be70e03",
   "metadata": {},
   "outputs": [],
   "source": [
    "y = 2x"
   ]
  },
  {
   "cell_type": "markdown",
   "id": "12be2b5d",
   "metadata": {},
   "source": [
    "How 2 changes the curve?"
   ]
  },
  {
   "cell_type": "code",
   "execution_count": null,
   "id": "23352a19",
   "metadata": {},
   "outputs": [],
   "source": [
    "# Draw y = 2x\n",
    "\n",
    "import numpy as np\n",
    "import matplotlib.pyplot as plt\n",
    "\n",
    "# Create data\n",
    "x = np.arange(0, 5, 0.1)\n",
    "y = 2* x\n",
    "\n",
    "# Plot\n",
    "plt.plot(x, y)\n",
    "plt.xlim(0, 5)\n",
    "plt.ylim(0, 5)\n",
    "\n",
    "# Set the x and y labels\n",
    "plt.xlabel('x')\n",
    "plt.ylabel('y')\n",
    "\n",
    "plt.title(\"y = 2x\")\n",
    "\n",
    "plt.show()"
   ]
  },
  {
   "cell_type": "markdown",
   "id": "4f4c6441",
   "metadata": {},
   "source": []
  },
  {
   "cell_type": "markdown",
   "id": "31121c2b",
   "metadata": {},
   "source": [
    "Notice the difference?"
   ]
  },
  {
   "cell_type": "markdown",
   "id": "ff68b42c",
   "metadata": {},
   "source": [
    "The slope is steeper."
   ]
  },
  {
   "cell_type": "markdown",
   "id": "5bcf5076",
   "metadata": {},
   "source": [
    "How about y = 0.5x?"
   ]
  },
  {
   "cell_type": "code",
   "execution_count": null,
   "id": "e29e9cdf",
   "metadata": {},
   "outputs": [],
   "source": [
    "# Draw y = 0.5x\n",
    "import numpy as np\n",
    "import matplotlib.pyplot as plt\n",
    "\n",
    "# Create data\n",
    "x = np.arange(0, 5, 0.1)\n",
    "y = 0.5*x\n",
    "\n",
    "# Plot\n",
    "plt.plot(x, y)\n",
    "plt.xlim(0, 5)\n",
    "plt.ylim(0, 5)\n",
    "\n",
    "# Set the x and y labels\n",
    "plt.xlabel('x')\n",
    "plt.ylabel('y')\n",
    "\n",
    "plt.title(\"y = 0.5x\")\n",
    "\n",
    "plt.show()"
   ]
  },
  {
   "cell_type": "markdown",
   "id": "2a2530fc",
   "metadata": {},
   "source": []
  },
  {
   "cell_type": "markdown",
   "id": "f2f95e2e",
   "metadata": {},
   "source": [
    "Now, how about this one?"
   ]
  },
  {
   "cell_type": "code",
   "execution_count": null,
   "id": "e5244e9c",
   "metadata": {},
   "outputs": [],
   "source": [
    "y = 2x + 1"
   ]
  },
  {
   "cell_type": "markdown",
   "id": "b24f4aed",
   "metadata": {},
   "source": [
    "How +1 changes the curve?"
   ]
  },
  {
   "cell_type": "code",
   "execution_count": null,
   "id": "8d7284c1",
   "metadata": {},
   "outputs": [],
   "source": [
    "# Draw y = 2x + 1\n",
    "\n",
    "import numpy as np\n",
    "import matplotlib.pyplot as plt\n",
    "\n",
    "# Create data\n",
    "x = np.arange(0, 5, 0.1)\n",
    "y = 2*x + 1\n",
    "\n",
    "# Plot\n",
    "plt.plot(x, y)\n",
    "plt.xlim(0, 5)\n",
    "plt.ylim(0, 5)\n",
    "\n",
    "# Set the x and y labels\n",
    "plt.xlabel('x')\n",
    "plt.ylabel('y')\n",
    "\n",
    "plt.title(\"y = 2x + 1\")\n",
    "\n",
    "plt.show()"
   ]
  },
  {
   "cell_type": "markdown",
   "id": "ecb451d9",
   "metadata": {},
   "source": []
  },
  {
   "cell_type": "markdown",
   "id": "bc790e99",
   "metadata": {},
   "source": [
    "The line intersect with the y-axis at 1, and the slope of the line is 2."
   ]
  },
  {
   "cell_type": "markdown",
   "id": "7c0278b8",
   "metadata": {},
   "source": [
    "The previous equations are all linear equations. Linear equations can be represented as:"
   ]
  },
  {
   "cell_type": "markdown",
   "id": "0b4b8afb",
   "metadata": {},
   "source": [
    "y = ax + b"
   ]
  },
  {
   "cell_type": "markdown",
   "id": "302879af",
   "metadata": {},
   "source": [
    "where a is the slope of the line and b is the y-intercept."
   ]
  },
  {
   "cell_type": "markdown",
   "id": "b2a44746",
   "metadata": {},
   "source": [
    "# Exercise: Linear Equation"
   ]
  },
  {
   "cell_type": "markdown",
   "id": "e258bb0f",
   "metadata": {},
   "source": [
    "# Visualizing 2D linear equation"
   ]
  },
  {
   "cell_type": "code",
   "execution_count": null,
   "id": "376d0e8f",
   "metadata": {},
   "outputs": [],
   "source": [
    "import numpy as np\n",
    "import matplotlib.pyplot as plt\n",
    "import ipywidgets as widgets\n",
    "\n",
    "def draw(a, b):\n",
    "    # Draw y = ax + b\n",
    "\n",
    "    # Create data\n",
    "    x = np.arange(0, 5, 0.1)\n",
    "    y = a*x + b\n",
    "\n",
    "    # Plot\n",
    "    plt.plot(x, y)\n",
    "    plt.xlim(0, 5)\n",
    "    plt.ylim(0, 5)\n",
    "\n",
    "    # Set the x and y labels\n",
    "    plt.xlabel('x')\n",
    "    plt.ylabel('y')\n",
    "\n",
    "    plt.title(\"y = ax + b\")\n",
    "\n",
    "    plt.show()\n",
    "\n",
    "a_slider = widgets.FloatSlider(min=0, max=10, step=0.1, value=2, description='a:')\n",
    "b_slider = widgets.FloatSlider(min=0, max=10, step=0.1, value=3, description='b:')\n",
    "\n",
    "# Display the widgets and plot\n",
    "widgets.interactive(draw, a=a_slider, b=b_slider)"
   ]
  },
  {
   "cell_type": "markdown",
   "id": "b819d9e9",
   "metadata": {},
   "source": [
    "# Visualizing 3D linear equation"
   ]
  },
  {
   "cell_type": "markdown",
   "id": "151cecd1",
   "metadata": {},
   "source": [
    "3D linear equation can be represented as:"
   ]
  },
  {
   "cell_type": "markdown",
   "id": "0fff0c28",
   "metadata": {},
   "source": [
    "z = ax + by + c"
   ]
  },
  {
   "cell_type": "markdown",
   "id": "1afc2b40",
   "metadata": {},
   "source": [
    "where a is the slope of the line on the x-axis, b is the slope of the line on the y-axis, and c is the z-intercept."
   ]
  },
  {
   "cell_type": "markdown",
   "id": "b84d763e",
   "metadata": {},
   "source": [
    "It can also be seen as an equation with two variables x and y:"
   ]
  },
  {
   "cell_type": "code",
   "execution_count": null,
   "id": "717c2910",
   "metadata": {},
   "outputs": [],
   "source": [
    "import numpy as np\n",
    "import matplotlib.pyplot as plt\n",
    "import ipywidgets as widgets\n",
    "\n",
    "def draw(a, b, c):\n",
    "    # Draw z = ax + by + c\n",
    "\n",
    "    # Create data\n",
    "    x = np.arange(0, 50, 1)\n",
    "    y = np.arange(0, 50, 1)\n",
    "    X, Y = np.meshgrid(x, y)\n",
    "    Z = a*X + b*Y + c\n",
    "\n",
    "    # Plot 3D\n",
    "    fig = plt.figure()\n",
    "    ax = fig.add_subplot(111, projection='3d')\n",
    "    ax.plot_surface(X, Y, Z)\n",
    "\n",
    "    # Fix the projection from X = [0, 5] and Y = [0, 5] and Z = [0, 5]\n",
    "    ax.set_xlim(0, 50)\n",
    "    ax.set_ylim(0, 50)\n",
    "    ax.set_zlim(0, 50)\n",
    "\n",
    "    # Set the x and y labels\n",
    "    plt.xlabel('x')\n",
    "    plt.ylabel('y')\n",
    "\n",
    "    plt.title(\"z = ax + by + c\")\n",
    "\n",
    "    plt.show()\n",
    "\n",
    "a_slider = widgets.FloatSlider(min=-5, max=5, step=0.1, value=0, description='a:')\n",
    "b_slider = widgets.FloatSlider(min=-5, max=5, step=0.1, value=0, description='b:')\n",
    "c_slider = widgets.FloatSlider(min=-50, max=50, step=0.1, value=0, description='c:')\n",
    "\n",
    "# Display the widgets and plot\n",
    "widgets.interactive(draw, a=a_slider, b=b_slider, c=c_slider)"
   ]
  },
  {
   "cell_type": "markdown",
   "id": "e2096fd5",
   "metadata": {},
   "source": [
    "# Fitting scatter plot into a line"
   ]
  },
  {
   "cell_type": "markdown",
   "id": "ed29125e",
   "metadata": {},
   "source": [
    "Now, let say we have the following data:"
   ]
  },
  {
   "cell_type": "code",
   "execution_count": null,
   "id": "adc2f642",
   "metadata": {},
   "outputs": [],
   "source": [
    "import numpy as np\n",
    "import matplotlib.pyplot as plt\n",
    "\n",
    "# Create scattered dot around y = 3x + 8\n",
    "x_data = np.random.rand(100) * 10\n",
    "noise = np.random.normal(0, 2, x_data.shape)\n",
    "y_data = 3*x_data + 8 + noise\n",
    "\n",
    "# Plot\n",
    "plt.scatter(x_data, y_data, s=1)\n",
    "\n",
    "# Set the x and y labels\n",
    "plt.xlabel('x')\n",
    "plt.ylabel('y')\n",
    "\n",
    "plt.show()"
   ]
  },
  {
   "cell_type": "markdown",
   "id": "84638868",
   "metadata": {},
   "source": []
  },
  {
   "cell_type": "markdown",
   "id": "8d380da7",
   "metadata": {},
   "source": [
    "The data can about anything, for example, the number of hours spent studying (x) and the grade you get in the exam (y)."
   ]
  },
  {
   "cell_type": "markdown",
   "id": "4496e37c",
   "metadata": {},
   "source": [
    "It can be obtained by asking your friends, or by doing a survey."
   ]
  },
  {
   "cell_type": "markdown",
   "id": "197fe922",
   "metadata": {},
   "source": [
    "Give that experiment data, can we predict the grade of a student if we know how many hours he/she spent studying?"
   ]
  },
  {
   "cell_type": "markdown",
   "id": "acc232de",
   "metadata": {},
   "source": [
    "How?"
   ]
  },
  {
   "cell_type": "markdown",
   "id": "5d78ee14",
   "metadata": {},
   "source": [
    "One way to do this is to fit a line into the data."
   ]
  },
  {
   "cell_type": "markdown",
   "id": "353ddddb",
   "metadata": {},
   "source": [
    "How do we do that?"
   ]
  },
  {
   "cell_type": "code",
   "execution_count": null,
   "id": "e9b18c1f",
   "metadata": {},
   "outputs": [],
   "source": [
    "import numpy as np\n",
    "import matplotlib.pyplot as plt\n",
    "\n",
    "# Create scattered dot around y = 3x + 8\n",
    "x_data = np.random.rand(100) * 10\n",
    "noise = np.random.normal(0, 2, x_data.shape)\n",
    "y_data = 3*x_data + 8 + noise\n",
    "\n",
    "# Plot\n",
    "plt.scatter(x_data, y_data, s=1)\n",
    "\n",
    "# Plot y = 3x + 8\n",
    "x = np.arange(0, 10, 0.1)\n",
    "\n",
    "a = 3\n",
    "b = 8\n",
    "y = a*x + b\n",
    "plt.plot(x, y, color='red')\n",
    "\n",
    "# Set the x and y labels\n",
    "plt.xlabel('time spent on studying')\n",
    "plt.ylabel('grade')\n",
    "\n",
    "plt.show()"
   ]
  },
  {
   "cell_type": "markdown",
   "id": "a4fc75b7",
   "metadata": {},
   "source": []
  },
  {
   "cell_type": "markdown",
   "id": "bae3eb41",
   "metadata": {},
   "source": [
    "Let’s try manual approach first, i.e. we try different values of m and b until we get a good fit."
   ]
  },
  {
   "cell_type": "markdown",
   "id": "4ec1aed3",
   "metadata": {},
   "source": [
    "Remember, the equation is y = mx + b."
   ]
  },
  {
   "cell_type": "code",
   "execution_count": null,
   "id": "e812d040",
   "metadata": {},
   "outputs": [],
   "source": [
    "import numpy as np\n",
    "import matplotlib.pyplot as plt\n",
    "import ipywidgets as widgets\n",
    "from IPython.display import display\n",
    "\n",
    "\n",
    "x_data = np.random.rand(100) * 10\n",
    "noise = np.random.normal(0, 2, x_data.shape)\n",
    "y_data = 3*x_data + 8 + noise\n",
    "\n",
    "# Define the update function\n",
    "def draw(a, b):\n",
    "    x = np.arange(0, 10, 0.1)\n",
    "    y = a*x + b\n",
    "    \n",
    "    plt.plot(x, y, color='red')\n",
    "    plt.scatter(x_data, y_data, s=1)\n",
    "    plt.xlabel('x')\n",
    "    plt.ylabel('y')\n",
    "\n",
    "    plt.title(f\"Equation y = {a}x + {b}\")\n",
    "    plt.show()\n",
    "\n",
    "# Create scattered dot around y = 3x + 8\n",
    "x = np.random.rand(100) * 10\n",
    "noise = np.random.normal(0, 2, x.shape)\n",
    "y = 3*x + 8 + noise\n",
    "\n",
    "# Define the slider widgets\n",
    "a_slider = widgets.FloatSlider(min=0, max=10, step=0.1, value=0, description='a:')\n",
    "b_slider = widgets.FloatSlider(min=0, max=10, step=0.1, value=0, description='b:')\n",
    "\n",
    "# Display the widgets and plot\n",
    "widgets.interactive(draw, a=a_slider, b=b_slider)"
   ]
  },
  {
   "cell_type": "markdown",
   "id": "3e523d6c",
   "metadata": {},
   "source": [
    "Given that equation, what would be the grade if the student spent 1 hour studying?"
   ]
  }
 ],
 "metadata": {},
 "nbformat": 4,
 "nbformat_minor": 5
}
