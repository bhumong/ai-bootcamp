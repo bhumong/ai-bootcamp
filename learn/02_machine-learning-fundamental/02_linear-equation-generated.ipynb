{
 "cells": [
  {
   "cell_type": "markdown",
   "id": "99c3b2e0",
   "metadata": {},
   "source": [
    "# Linear Regression"
   ]
  },
  {
   "cell_type": "markdown",
   "id": "41351c30",
   "metadata": {},
   "source": [
    "Remember that machine learning is about learning some form of input-output mapping, and then using that model to make predictions on new data."
   ]
  },
  {
   "cell_type": "markdown",
   "id": "25865b10",
   "metadata": {},
   "source": [
    "We will learn how to do this using linear regression, which is a simple yet powerful technique."
   ]
  },
  {
   "cell_type": "markdown",
   "id": "143263bc",
   "metadata": {},
   "source": [
    "But… Let’s revisit high school math for a moment."
   ]
  },
  {
   "cell_type": "markdown",
   "id": "07db18d9",
   "metadata": {},
   "source": [
    "# High School Math"
   ]
  },
  {
   "cell_type": "markdown",
   "id": "3c7f0592",
   "metadata": {},
   "source": [
    "# Linear equation"
   ]
  },
  {
   "cell_type": "markdown",
   "id": "e49b18e7",
   "metadata": {},
   "source": [
    "Let’s say we have a linear equation:"
   ]
  },
  {
   "cell_type": "code",
   "execution_count": null,
   "id": "880d656c",
   "metadata": {},
   "outputs": [],
   "source": [
    "y = x"
   ]
  },
  {
   "cell_type": "markdown",
   "id": "3fcc552b",
   "metadata": {},
   "source": [
    "How the curve looks like?"
   ]
  },
  {
   "cell_type": "code",
   "execution_count": null,
   "id": "aea3dbb8",
   "metadata": {},
   "outputs": [],
   "source": [
    "import numpy as np\n",
    "import matplotlib.pyplot as plt\n",
    "\n",
    "# Create data\n",
    "x = np.arange(0, 5, 0.1)\n",
    "y = x\n",
    "\n",
    "# Plot\n",
    "plt.plot(x, y)\n",
    "plt.xlim(0, 5)\n",
    "plt.ylim(0, 5)\n",
    "\n",
    "# Set the x and y labels\n",
    "plt.xlabel('x')\n",
    "plt.ylabel('y')\n",
    "\n",
    "plt.title('y = x')\n",
    "\n",
    "plt.show()"
   ]
  },
  {
   "cell_type": "markdown",
   "id": "bf891389",
   "metadata": {},
   "source": []
  },
  {
   "cell_type": "markdown",
   "id": "19e4c7db",
   "metadata": {},
   "source": [
    "How about this one?"
   ]
  },
  {
   "cell_type": "code",
   "execution_count": null,
   "id": "5a48a5a1",
   "metadata": {},
   "outputs": [],
   "source": [
    "y = 2x"
   ]
  },
  {
   "cell_type": "markdown",
   "id": "3f0478cb",
   "metadata": {},
   "source": [
    "How 2 changes the curve?"
   ]
  },
  {
   "cell_type": "code",
   "execution_count": null,
   "id": "6e87c663",
   "metadata": {},
   "outputs": [],
   "source": [
    "# Draw y = 2x\n",
    "\n",
    "import numpy as np\n",
    "import matplotlib.pyplot as plt\n",
    "\n",
    "# Create data\n",
    "x = np.arange(0, 5, 0.1)\n",
    "y = 2* x\n",
    "\n",
    "# Plot\n",
    "plt.plot(x, y)\n",
    "plt.xlim(0, 5)\n",
    "plt.ylim(0, 5)\n",
    "\n",
    "# Set the x and y labels\n",
    "plt.xlabel('x')\n",
    "plt.ylabel('y')\n",
    "\n",
    "plt.title(\"y = 2x\")\n",
    "\n",
    "plt.show()"
   ]
  },
  {
   "cell_type": "markdown",
   "id": "ea15c706",
   "metadata": {},
   "source": []
  },
  {
   "cell_type": "markdown",
   "id": "852f8403",
   "metadata": {},
   "source": [
    "Notice the difference?"
   ]
  },
  {
   "cell_type": "markdown",
   "id": "669bd677",
   "metadata": {},
   "source": [
    "The slope is steeper."
   ]
  },
  {
   "cell_type": "markdown",
   "id": "3b2de485",
   "metadata": {},
   "source": [
    "How about y = 0.5x?"
   ]
  },
  {
   "cell_type": "code",
   "execution_count": null,
   "id": "68a0660f",
   "metadata": {},
   "outputs": [],
   "source": [
    "# Draw y = 0.5x\n",
    "import numpy as np\n",
    "import matplotlib.pyplot as plt\n",
    "\n",
    "# Create data\n",
    "x = np.arange(0, 5, 0.1)\n",
    "y = 0.5*x\n",
    "\n",
    "# Plot\n",
    "plt.plot(x, y)\n",
    "plt.xlim(0, 5)\n",
    "plt.ylim(0, 5)\n",
    "\n",
    "# Set the x and y labels\n",
    "plt.xlabel('x')\n",
    "plt.ylabel('y')\n",
    "\n",
    "plt.title(\"y = 0.5x\")\n",
    "\n",
    "plt.show()"
   ]
  },
  {
   "cell_type": "markdown",
   "id": "2f17157d",
   "metadata": {},
   "source": []
  },
  {
   "cell_type": "markdown",
   "id": "ac0c16dd",
   "metadata": {},
   "source": [
    "Now, how about this one?"
   ]
  },
  {
   "cell_type": "code",
   "execution_count": null,
   "id": "4129b2a8",
   "metadata": {},
   "outputs": [],
   "source": [
    "y = 2x + 1"
   ]
  },
  {
   "cell_type": "markdown",
   "id": "dce64180",
   "metadata": {},
   "source": [
    "How +1 changes the curve?"
   ]
  },
  {
   "cell_type": "code",
   "execution_count": null,
   "id": "f6b3f863",
   "metadata": {},
   "outputs": [],
   "source": [
    "# Draw y = 2x + 1\n",
    "\n",
    "import numpy as np\n",
    "import matplotlib.pyplot as plt\n",
    "\n",
    "# Create data\n",
    "x = np.arange(0, 5, 0.1)\n",
    "y = 2*x + 1\n",
    "\n",
    "# Plot\n",
    "plt.plot(x, y)\n",
    "plt.xlim(0, 5)\n",
    "plt.ylim(0, 5)\n",
    "\n",
    "# Set the x and y labels\n",
    "plt.xlabel('x')\n",
    "plt.ylabel('y')\n",
    "\n",
    "plt.title(\"y = 2x + 1\")\n",
    "\n",
    "plt.show()"
   ]
  },
  {
   "cell_type": "markdown",
   "id": "f154eb06",
   "metadata": {},
   "source": []
  },
  {
   "cell_type": "markdown",
   "id": "f55b095d",
   "metadata": {},
   "source": [
    "The line intersect with the y-axis at 1, and the slope of the line is 2."
   ]
  },
  {
   "cell_type": "markdown",
   "id": "0118193b",
   "metadata": {},
   "source": [
    "The previous equations are all linear equations. Linear equations can be represented as:"
   ]
  },
  {
   "cell_type": "markdown",
   "id": "bc56e917",
   "metadata": {},
   "source": [
    "y = ax + b"
   ]
  },
  {
   "cell_type": "markdown",
   "id": "d021c5dc",
   "metadata": {},
   "source": [
    "where a is the slope of the line and b is the y-intercept."
   ]
  },
  {
   "cell_type": "markdown",
   "id": "7846556e",
   "metadata": {},
   "source": [
    "# Exercise: Linear Equation"
   ]
  },
  {
   "cell_type": "markdown",
   "id": "fd0de6da",
   "metadata": {},
   "source": [
    "# Visualizing 2D linear equation"
   ]
  },
  {
   "cell_type": "code",
   "execution_count": null,
   "id": "30a8d962",
   "metadata": {},
   "outputs": [],
   "source": [
    "import numpy as np\n",
    "import matplotlib.pyplot as plt\n",
    "import ipywidgets as widgets\n",
    "\n",
    "def draw(a, b):\n",
    "    # Draw y = ax + b\n",
    "\n",
    "    # Create data\n",
    "    x = np.arange(0, 5, 0.1)\n",
    "    y = a*x + b\n",
    "\n",
    "    # Plot\n",
    "    plt.plot(x, y)\n",
    "    plt.xlim(0, 5)\n",
    "    plt.ylim(0, 5)\n",
    "\n",
    "    # Set the x and y labels\n",
    "    plt.xlabel('x')\n",
    "    plt.ylabel('y')\n",
    "\n",
    "    plt.title(\"y = ax + b\")\n",
    "\n",
    "    plt.show()\n",
    "\n",
    "a_slider = widgets.FloatSlider(min=0, max=10, step=0.1, value=2, description='a:')\n",
    "b_slider = widgets.FloatSlider(min=0, max=10, step=0.1, value=3, description='b:')\n",
    "\n",
    "# Display the widgets and plot\n",
    "widgets.interactive(draw, a=a_slider, b=b_slider)"
   ]
  },
  {
   "cell_type": "markdown",
   "id": "b09f49a7",
   "metadata": {},
   "source": [
    "# Visualizing 3D linear equation"
   ]
  },
  {
   "cell_type": "markdown",
   "id": "9c46f85f",
   "metadata": {},
   "source": [
    "3D linear equation can be represented as:"
   ]
  },
  {
   "cell_type": "markdown",
   "id": "997005a9",
   "metadata": {},
   "source": [
    "z = ax + by + c"
   ]
  },
  {
   "cell_type": "markdown",
   "id": "bc016483",
   "metadata": {},
   "source": [
    "where a is the slope of the line on the x-axis, b is the slope of the line on the y-axis, and c is the z-intercept."
   ]
  },
  {
   "cell_type": "markdown",
   "id": "8c81191a",
   "metadata": {},
   "source": [
    "It can also be seen as an equation with two variables x and y:"
   ]
  },
  {
   "cell_type": "code",
   "execution_count": null,
   "id": "dd0fc8e9",
   "metadata": {},
   "outputs": [],
   "source": [
    "import numpy as np\n",
    "import matplotlib.pyplot as plt\n",
    "import ipywidgets as widgets\n",
    "\n",
    "def draw(a, b, c):\n",
    "    # Draw z = ax + by + c\n",
    "\n",
    "    # Create data\n",
    "    x = np.arange(0, 50, 1)\n",
    "    y = np.arange(0, 50, 1)\n",
    "    X, Y = np.meshgrid(x, y)\n",
    "    Z = a*X + b*Y + c\n",
    "\n",
    "    # Plot 3D\n",
    "    fig = plt.figure()\n",
    "    ax = fig.add_subplot(111, projection='3d')\n",
    "    ax.plot_surface(X, Y, Z)\n",
    "\n",
    "    # Fix the projection from X = [0, 5] and Y = [0, 5] and Z = [0, 5]\n",
    "    ax.set_xlim(0, 50)\n",
    "    ax.set_ylim(0, 50)\n",
    "    ax.set_zlim(0, 50)\n",
    "\n",
    "    # Set the x and y labels\n",
    "    plt.xlabel('x')\n",
    "    plt.ylabel('y')\n",
    "\n",
    "    plt.title(\"z = ax + by + c\")\n",
    "\n",
    "    plt.show()\n",
    "\n",
    "a_slider = widgets.FloatSlider(min=-5, max=5, step=0.1, value=0, description='a:')\n",
    "b_slider = widgets.FloatSlider(min=-5, max=5, step=0.1, value=0, description='b:')\n",
    "c_slider = widgets.FloatSlider(min=-50, max=50, step=0.1, value=0, description='c:')\n",
    "\n",
    "# Display the widgets and plot\n",
    "widgets.interactive(draw, a=a_slider, b=b_slider, c=c_slider)"
   ]
  },
  {
   "cell_type": "markdown",
   "id": "448027b1",
   "metadata": {},
   "source": [
    "# Fitting scatter plot into a line"
   ]
  },
  {
   "cell_type": "markdown",
   "id": "c117f6e2",
   "metadata": {},
   "source": [
    "Now, let say we have the following data:"
   ]
  },
  {
   "cell_type": "code",
   "execution_count": null,
   "id": "d23e8be2",
   "metadata": {},
   "outputs": [],
   "source": [
    "import numpy as np\n",
    "import matplotlib.pyplot as plt\n",
    "\n",
    "# Create scattered dot around y = 3x + 8\n",
    "x_data = np.random.rand(100) * 10\n",
    "noise = np.random.normal(0, 2, x_data.shape)\n",
    "y_data = 3*x_data + 8 + noise\n",
    "\n",
    "# Plot\n",
    "plt.scatter(x_data, y_data, s=1)\n",
    "\n",
    "# Set the x and y labels\n",
    "plt.xlabel('x')\n",
    "plt.ylabel('y')\n",
    "\n",
    "plt.show()"
   ]
  },
  {
   "cell_type": "markdown",
   "id": "29ebb5e7",
   "metadata": {},
   "source": []
  },
  {
   "cell_type": "markdown",
   "id": "bd8e7bab",
   "metadata": {},
   "source": [
    "The data can about anything, for example, the number of hours spent studying (x) and the grade you get in the exam (y)."
   ]
  },
  {
   "cell_type": "markdown",
   "id": "35c0da14",
   "metadata": {},
   "source": [
    "It can be obtained by asking your friends, or by doing a survey."
   ]
  },
  {
   "cell_type": "markdown",
   "id": "69ef429e",
   "metadata": {},
   "source": [
    "Give that experiment data, can we predict the grade of a student if we know how many hours he/she spent studying?"
   ]
  },
  {
   "cell_type": "markdown",
   "id": "44d1f9f5",
   "metadata": {},
   "source": [
    "How?"
   ]
  },
  {
   "cell_type": "markdown",
   "id": "760d3c38",
   "metadata": {},
   "source": [
    "One way to do this is to fit a line into the data."
   ]
  },
  {
   "cell_type": "markdown",
   "id": "a7720318",
   "metadata": {},
   "source": [
    "How do we do that?"
   ]
  },
  {
   "cell_type": "code",
   "execution_count": null,
   "id": "b8a5dfc5",
   "metadata": {},
   "outputs": [],
   "source": [
    "import numpy as np\n",
    "import matplotlib.pyplot as plt\n",
    "\n",
    "# Create scattered dot around y = 3x + 8\n",
    "x_data = np.random.rand(100) * 10\n",
    "noise = np.random.normal(0, 2, x_data.shape)\n",
    "y_data = 3*x_data + 8 + noise\n",
    "\n",
    "# Plot\n",
    "plt.scatter(x_data, y_data, s=1)\n",
    "\n",
    "# Plot y = 3x + 8\n",
    "x = np.arange(0, 10, 0.1)\n",
    "\n",
    "a = 3\n",
    "b = 8\n",
    "y = a*x + b\n",
    "plt.plot(x, y, color='red')\n",
    "\n",
    "# Set the x and y labels\n",
    "plt.xlabel('time spent on studying')\n",
    "plt.ylabel('grade')\n",
    "\n",
    "plt.show()"
   ]
  },
  {
   "cell_type": "markdown",
   "id": "c8cfa3a3",
   "metadata": {},
   "source": []
  },
  {
   "cell_type": "markdown",
   "id": "5a7c114c",
   "metadata": {},
   "source": [
    "Let’s try manual approach first, i.e. we try different values of m and b until we get a good fit."
   ]
  },
  {
   "cell_type": "markdown",
   "id": "a9aa7a2b",
   "metadata": {},
   "source": [
    "Remember, the equation is y = mx + b."
   ]
  },
  {
   "cell_type": "code",
   "execution_count": null,
   "id": "45bb4968",
   "metadata": {},
   "outputs": [],
   "source": [
    "import numpy as np\n",
    "import matplotlib.pyplot as plt\n",
    "import ipywidgets as widgets\n",
    "from IPython.display import display\n",
    "\n",
    "\n",
    "x_data = np.random.rand(100) * 10\n",
    "noise = np.random.normal(0, 2, x_data.shape)\n",
    "y_data = 3*x_data + 8 + noise\n",
    "\n",
    "# Define the update function\n",
    "def draw(a, b):\n",
    "    x = np.arange(0, 10, 0.1)\n",
    "    y = a*x + b\n",
    "    \n",
    "    plt.plot(x, y, color='red')\n",
    "    plt.scatter(x_data, y_data, s=1)\n",
    "    plt.xlabel('x')\n",
    "    plt.ylabel('y')\n",
    "\n",
    "    plt.title(f\"Equation y = {a}x + {b}\")\n",
    "    plt.show()\n",
    "\n",
    "# Create scattered dot around y = 3x + 8\n",
    "x = np.random.rand(100) * 10\n",
    "noise = np.random.normal(0, 2, x.shape)\n",
    "y = 3*x + 8 + noise\n",
    "\n",
    "# Define the slider widgets\n",
    "a_slider = widgets.FloatSlider(min=0, max=10, step=0.1, value=0, description='a:')\n",
    "b_slider = widgets.FloatSlider(min=0, max=10, step=0.1, value=0, description='b:')\n",
    "\n",
    "# Display the widgets and plot\n",
    "widgets.interactive(draw, a=a_slider, b=b_slider)"
   ]
  },
  {
   "cell_type": "markdown",
   "id": "25409589",
   "metadata": {},
   "source": [
    "Given that equation, what would be the grade if the student spent 1 hour studying?"
   ]
  }
 ],
 "metadata": {},
 "nbformat": 4,
 "nbformat_minor": 5
}
