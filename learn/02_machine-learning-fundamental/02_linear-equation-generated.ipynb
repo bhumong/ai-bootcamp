{
 "cells": [
  {
   "cell_type": "markdown",
   "id": "2d3dd9d4",
   "metadata": {},
   "source": [
    "source: [link](https://ai-bootcamp.ruangguru.com/learn/02_machine-learning-fundamental/02_linear-equation.html)"
   ]
  },
  {
   "cell_type": "markdown",
   "id": "16532a42",
   "metadata": {},
   "source": [
    "# Linear Regression"
   ]
  },
  {
   "cell_type": "markdown",
   "id": "9c0ff6b2",
   "metadata": {},
   "source": [
    "Remember that machine learning is about learning some form of input-output mapping, and then using that model to make predictions on new data."
   ]
  },
  {
   "cell_type": "markdown",
   "id": "134a2c86",
   "metadata": {},
   "source": [
    "We will learn how to do this using linear regression, which is a simple yet powerful technique."
   ]
  },
  {
   "cell_type": "markdown",
   "id": "7854ccbf",
   "metadata": {},
   "source": [
    "But… Let’s revisit high school math for a moment."
   ]
  },
  {
   "cell_type": "markdown",
   "id": "036e4828",
   "metadata": {},
   "source": [
    "# High School Math"
   ]
  },
  {
   "cell_type": "markdown",
   "id": "9f71ed46",
   "metadata": {},
   "source": [
    "# Linear equation"
   ]
  },
  {
   "cell_type": "markdown",
   "id": "4dabfcfc",
   "metadata": {},
   "source": [
    "Let’s say we have a linear equation:"
   ]
  },
  {
   "cell_type": "code",
   "execution_count": null,
   "id": "92ee7a8b",
   "metadata": {},
   "outputs": [],
   "source": [
    "y = x"
   ]
  },
  {
   "cell_type": "markdown",
   "id": "35a7f643",
   "metadata": {},
   "source": [
    "How the curve looks like?"
   ]
  },
  {
   "cell_type": "code",
   "execution_count": null,
   "id": "f0b8657b",
   "metadata": {},
   "outputs": [],
   "source": [
    "import numpy as np\n",
    "import matplotlib.pyplot as plt\n",
    "\n",
    "# Create data\n",
    "x = np.arange(0, 5, 0.1)\n",
    "y = x\n",
    "\n",
    "# Plot\n",
    "plt.plot(x, y)\n",
    "plt.xlim(0, 5)\n",
    "plt.ylim(0, 5)\n",
    "\n",
    "# Set the x and y labels\n",
    "plt.xlabel('x')\n",
    "plt.ylabel('y')\n",
    "\n",
    "plt.title('y = x')\n",
    "\n",
    "plt.show()"
   ]
  },
  {
   "cell_type": "markdown",
   "id": "0cc9643a",
   "metadata": {},
   "source": []
  },
  {
   "cell_type": "markdown",
   "id": "6a92ec81",
   "metadata": {},
   "source": [
    "How about this one?"
   ]
  },
  {
   "cell_type": "code",
   "execution_count": null,
   "id": "97ac0fe0",
   "metadata": {},
   "outputs": [],
   "source": [
    "y = 2x"
   ]
  },
  {
   "cell_type": "markdown",
   "id": "9287e774",
   "metadata": {},
   "source": [
    "How 2 changes the curve?"
   ]
  },
  {
   "cell_type": "code",
   "execution_count": null,
   "id": "560ace68",
   "metadata": {},
   "outputs": [],
   "source": [
    "# Draw y = 2x\n",
    "\n",
    "import numpy as np\n",
    "import matplotlib.pyplot as plt\n",
    "\n",
    "# Create data\n",
    "x = np.arange(0, 5, 0.1)\n",
    "y = 2* x\n",
    "\n",
    "# Plot\n",
    "plt.plot(x, y)\n",
    "plt.xlim(0, 5)\n",
    "plt.ylim(0, 5)\n",
    "\n",
    "# Set the x and y labels\n",
    "plt.xlabel('x')\n",
    "plt.ylabel('y')\n",
    "\n",
    "plt.title(\"y = 2x\")\n",
    "\n",
    "plt.show()"
   ]
  },
  {
   "cell_type": "markdown",
   "id": "5ffb416c",
   "metadata": {},
   "source": []
  },
  {
   "cell_type": "markdown",
   "id": "1c46beb2",
   "metadata": {},
   "source": [
    "Notice the difference?"
   ]
  },
  {
   "cell_type": "markdown",
   "id": "24d5c7b8",
   "metadata": {},
   "source": [
    "The slope is steeper."
   ]
  },
  {
   "cell_type": "markdown",
   "id": "b5e509de",
   "metadata": {},
   "source": [
    "How about y = 0.5x?"
   ]
  },
  {
   "cell_type": "code",
   "execution_count": null,
   "id": "8fe11ea5",
   "metadata": {},
   "outputs": [],
   "source": [
    "# Draw y = 0.5x\n",
    "import numpy as np\n",
    "import matplotlib.pyplot as plt\n",
    "\n",
    "# Create data\n",
    "x = np.arange(0, 5, 0.1)\n",
    "y = 0.5*x\n",
    "\n",
    "# Plot\n",
    "plt.plot(x, y)\n",
    "plt.xlim(0, 5)\n",
    "plt.ylim(0, 5)\n",
    "\n",
    "# Set the x and y labels\n",
    "plt.xlabel('x')\n",
    "plt.ylabel('y')\n",
    "\n",
    "plt.title(\"y = 0.5x\")\n",
    "\n",
    "plt.show()"
   ]
  },
  {
   "cell_type": "markdown",
   "id": "e10c458f",
   "metadata": {},
   "source": []
  },
  {
   "cell_type": "markdown",
   "id": "ba789e87",
   "metadata": {},
   "source": [
    "Now, how about this one?"
   ]
  },
  {
   "cell_type": "code",
   "execution_count": null,
   "id": "5924f8ee",
   "metadata": {},
   "outputs": [],
   "source": [
    "y = 2x + 1"
   ]
  },
  {
   "cell_type": "markdown",
   "id": "82ffeb17",
   "metadata": {},
   "source": [
    "How +1 changes the curve?"
   ]
  },
  {
   "cell_type": "code",
   "execution_count": null,
   "id": "15c2c388",
   "metadata": {},
   "outputs": [],
   "source": [
    "# Draw y = 2x + 1\n",
    "\n",
    "import numpy as np\n",
    "import matplotlib.pyplot as plt\n",
    "\n",
    "# Create data\n",
    "x = np.arange(0, 5, 0.1)\n",
    "y = 2*x + 1\n",
    "\n",
    "# Plot\n",
    "plt.plot(x, y)\n",
    "plt.xlim(0, 5)\n",
    "plt.ylim(0, 5)\n",
    "\n",
    "# Set the x and y labels\n",
    "plt.xlabel('x')\n",
    "plt.ylabel('y')\n",
    "\n",
    "plt.title(\"y = 2x + 1\")\n",
    "\n",
    "plt.show()"
   ]
  },
  {
   "cell_type": "markdown",
   "id": "41d5cdc9",
   "metadata": {},
   "source": []
  },
  {
   "cell_type": "markdown",
   "id": "7d0636ef",
   "metadata": {},
   "source": [
    "The line intersect with the y-axis at 1, and the slope of the line is 2."
   ]
  },
  {
   "cell_type": "markdown",
   "id": "669194b0",
   "metadata": {},
   "source": [
    "The previous equations are all linear equations. Linear equations can be represented as:"
   ]
  },
  {
   "cell_type": "markdown",
   "id": "bb3ecaf3",
   "metadata": {},
   "source": [
    "y = ax + b"
   ]
  },
  {
   "cell_type": "markdown",
   "id": "78c619aa",
   "metadata": {},
   "source": [
    "where a is the slope of the line and b is the y-intercept."
   ]
  },
  {
   "cell_type": "markdown",
   "id": "beb91e44",
   "metadata": {},
   "source": [
    "# Exercise: Linear Equation"
   ]
  },
  {
   "cell_type": "markdown",
   "id": "85b95f25",
   "metadata": {},
   "source": [
    "# Visualizing 2D linear equation"
   ]
  },
  {
   "cell_type": "code",
   "execution_count": null,
   "id": "bd51c603",
   "metadata": {},
   "outputs": [],
   "source": [
    "import numpy as np\n",
    "import matplotlib.pyplot as plt\n",
    "import ipywidgets as widgets\n",
    "\n",
    "def draw(a, b):\n",
    "    # Draw y = ax + b\n",
    "\n",
    "    # Create data\n",
    "    x = np.arange(0, 5, 0.1)\n",
    "    y = a*x + b\n",
    "\n",
    "    # Plot\n",
    "    plt.plot(x, y)\n",
    "    plt.xlim(0, 5)\n",
    "    plt.ylim(0, 5)\n",
    "\n",
    "    # Set the x and y labels\n",
    "    plt.xlabel('x')\n",
    "    plt.ylabel('y')\n",
    "\n",
    "    plt.title(\"y = ax + b\")\n",
    "\n",
    "    plt.show()\n",
    "\n",
    "a_slider = widgets.FloatSlider(min=0, max=10, step=0.1, value=2, description='a:')\n",
    "b_slider = widgets.FloatSlider(min=0, max=10, step=0.1, value=3, description='b:')\n",
    "\n",
    "# Display the widgets and plot\n",
    "widgets.interactive(draw, a=a_slider, b=b_slider)"
   ]
  },
  {
   "cell_type": "markdown",
   "id": "2a2fa4a6",
   "metadata": {},
   "source": [
    "# Visualizing 3D linear equation"
   ]
  },
  {
   "cell_type": "markdown",
   "id": "d4937c42",
   "metadata": {},
   "source": [
    "3D linear equation can be represented as:"
   ]
  },
  {
   "cell_type": "markdown",
   "id": "78afe82d",
   "metadata": {},
   "source": [
    "z = ax + by + c"
   ]
  },
  {
   "cell_type": "markdown",
   "id": "93ad3431",
   "metadata": {},
   "source": [
    "where a is the slope of the line on the x-axis, b is the slope of the line on the y-axis, and c is the z-intercept."
   ]
  },
  {
   "cell_type": "markdown",
   "id": "9144a297",
   "metadata": {},
   "source": [
    "It can also be seen as an equation with two variables x and y:"
   ]
  },
  {
   "cell_type": "code",
   "execution_count": null,
   "id": "6fb5a862",
   "metadata": {},
   "outputs": [],
   "source": [
    "import numpy as np\n",
    "import matplotlib.pyplot as plt\n",
    "import ipywidgets as widgets\n",
    "\n",
    "def draw(a, b, c):\n",
    "    # Draw z = ax + by + c\n",
    "\n",
    "    # Create data\n",
    "    x = np.arange(0, 50, 1)\n",
    "    y = np.arange(0, 50, 1)\n",
    "    X, Y = np.meshgrid(x, y)\n",
    "    Z = a*X + b*Y + c\n",
    "\n",
    "    # Plot 3D\n",
    "    fig = plt.figure()\n",
    "    ax = fig.add_subplot(111, projection='3d')\n",
    "    ax.plot_surface(X, Y, Z)\n",
    "\n",
    "    # Fix the projection from X = [0, 5] and Y = [0, 5] and Z = [0, 5]\n",
    "    ax.set_xlim(0, 50)\n",
    "    ax.set_ylim(0, 50)\n",
    "    ax.set_zlim(0, 50)\n",
    "\n",
    "    # Set the x and y labels\n",
    "    plt.xlabel('x')\n",
    "    plt.ylabel('y')\n",
    "\n",
    "    plt.title(\"z = ax + by + c\")\n",
    "\n",
    "    plt.show()\n",
    "\n",
    "a_slider = widgets.FloatSlider(min=-5, max=5, step=0.1, value=0, description='a:')\n",
    "b_slider = widgets.FloatSlider(min=-5, max=5, step=0.1, value=0, description='b:')\n",
    "c_slider = widgets.FloatSlider(min=-50, max=50, step=0.1, value=0, description='c:')\n",
    "\n",
    "# Display the widgets and plot\n",
    "widgets.interactive(draw, a=a_slider, b=b_slider, c=c_slider)"
   ]
  },
  {
   "cell_type": "markdown",
   "id": "78ea8d82",
   "metadata": {},
   "source": [
    "# Fitting scatter plot into a line"
   ]
  },
  {
   "cell_type": "markdown",
   "id": "e8bbd1b8",
   "metadata": {},
   "source": [
    "Now, let say we have the following data:"
   ]
  },
  {
   "cell_type": "code",
   "execution_count": null,
   "id": "afaf21a2",
   "metadata": {},
   "outputs": [],
   "source": [
    "import numpy as np\n",
    "import matplotlib.pyplot as plt\n",
    "\n",
    "# Create scattered dot around y = 3x + 8\n",
    "x_data = np.random.rand(100) * 10\n",
    "noise = np.random.normal(0, 2, x_data.shape)\n",
    "y_data = 3*x_data + 8 + noise\n",
    "\n",
    "# Plot\n",
    "plt.scatter(x_data, y_data, s=1)\n",
    "\n",
    "# Set the x and y labels\n",
    "plt.xlabel('x')\n",
    "plt.ylabel('y')\n",
    "\n",
    "plt.show()"
   ]
  },
  {
   "cell_type": "markdown",
   "id": "2ddf7841",
   "metadata": {},
   "source": []
  },
  {
   "cell_type": "markdown",
   "id": "b8312fe7",
   "metadata": {},
   "source": [
    "The data can about anything, for example, the number of hours spent studying (x) and the grade you get in the exam (y)."
   ]
  },
  {
   "cell_type": "markdown",
   "id": "deeda9eb",
   "metadata": {},
   "source": [
    "It can be obtained by asking your friends, or by doing a survey."
   ]
  },
  {
   "cell_type": "markdown",
   "id": "8d66ae3d",
   "metadata": {},
   "source": [
    "Give that experiment data, can we predict the grade of a student if we know how many hours he/she spent studying?"
   ]
  },
  {
   "cell_type": "markdown",
   "id": "5415517a",
   "metadata": {},
   "source": [
    "How?"
   ]
  },
  {
   "cell_type": "markdown",
   "id": "f4ea5f67",
   "metadata": {},
   "source": [
    "One way to do this is to fit a line into the data."
   ]
  },
  {
   "cell_type": "markdown",
   "id": "1411ff6e",
   "metadata": {},
   "source": [
    "How do we do that?"
   ]
  },
  {
   "cell_type": "code",
   "execution_count": null,
   "id": "d4282194",
   "metadata": {},
   "outputs": [],
   "source": [
    "import numpy as np\n",
    "import matplotlib.pyplot as plt\n",
    "\n",
    "# Create scattered dot around y = 3x + 8\n",
    "x_data = np.random.rand(100) * 10\n",
    "noise = np.random.normal(0, 2, x_data.shape)\n",
    "y_data = 3*x_data + 8 + noise\n",
    "\n",
    "# Plot\n",
    "plt.scatter(x_data, y_data, s=1)\n",
    "\n",
    "# Plot y = 3x + 8\n",
    "x = np.arange(0, 10, 0.1)\n",
    "\n",
    "a = 3\n",
    "b = 8\n",
    "y = a*x + b\n",
    "plt.plot(x, y, color='red')\n",
    "\n",
    "# Set the x and y labels\n",
    "plt.xlabel('time spent on studying')\n",
    "plt.ylabel('grade')\n",
    "\n",
    "plt.show()"
   ]
  },
  {
   "cell_type": "markdown",
   "id": "27f33013",
   "metadata": {},
   "source": []
  },
  {
   "cell_type": "markdown",
   "id": "5491d8f5",
   "metadata": {},
   "source": [
    "Let’s try manual approach first, i.e. we try different values of m and b until we get a good fit."
   ]
  },
  {
   "cell_type": "markdown",
   "id": "386ca967",
   "metadata": {},
   "source": [
    "Remember, the equation is y = mx + b."
   ]
  },
  {
   "cell_type": "code",
   "execution_count": null,
   "id": "e3151f1e",
   "metadata": {},
   "outputs": [],
   "source": [
    "import numpy as np\n",
    "import matplotlib.pyplot as plt\n",
    "import ipywidgets as widgets\n",
    "from IPython.display import display\n",
    "\n",
    "\n",
    "x_data = np.random.rand(100) * 10\n",
    "noise = np.random.normal(0, 2, x_data.shape)\n",
    "y_data = 3*x_data + 8 + noise\n",
    "\n",
    "# Define the update function\n",
    "def draw(a, b):\n",
    "    x = np.arange(0, 10, 0.1)\n",
    "    y = a*x + b\n",
    "    \n",
    "    plt.plot(x, y, color='red')\n",
    "    plt.scatter(x_data, y_data, s=1)\n",
    "    plt.xlabel('x')\n",
    "    plt.ylabel('y')\n",
    "\n",
    "    plt.title(f\"Equation y = {a}x + {b}\")\n",
    "    plt.show()\n",
    "\n",
    "# Create scattered dot around y = 3x + 8\n",
    "x = np.random.rand(100) * 10\n",
    "noise = np.random.normal(0, 2, x.shape)\n",
    "y = 3*x + 8 + noise\n",
    "\n",
    "# Define the slider widgets\n",
    "a_slider = widgets.FloatSlider(min=0, max=10, step=0.1, value=0, description='a:')\n",
    "b_slider = widgets.FloatSlider(min=0, max=10, step=0.1, value=0, description='b:')\n",
    "\n",
    "# Display the widgets and plot\n",
    "widgets.interactive(draw, a=a_slider, b=b_slider)"
   ]
  },
  {
   "cell_type": "markdown",
   "id": "70778048",
   "metadata": {},
   "source": [
    "Given that equation, what would be the grade if the student spent 1 hour studying?"
   ]
  }
 ],
 "metadata": {},
 "nbformat": 4,
 "nbformat_minor": 5
}
