{
 "cells": [
  {
   "cell_type": "markdown",
   "id": "dfee89ce",
   "metadata": {},
   "source": [
    "source: [link](https://ai-bootcamp.ruangguru.com/learn/02_machine-learning-fundamental/07_classification.html)"
   ]
  },
  {
   "cell_type": "markdown",
   "id": "a3fd5f3c",
   "metadata": {},
   "source": [
    "# Classification"
   ]
  },
  {
   "cell_type": "markdown",
   "id": "b1c041b0",
   "metadata": {},
   "source": [
    "Having explored how linear regression can help us predict house prices, let’s shift our attention to another powerful technique in the field of supervised learning: classification. While regression is best used for predicting continuous values like house prices, classification comes into its own when we need to sort data into specific categories."
   ]
  },
  {
   "cell_type": "markdown",
   "id": "69a6321d",
   "metadata": {},
   "source": [
    "# Introduction to Classification"
   ]
  },
  {
   "cell_type": "markdown",
   "id": "c871b686",
   "metadata": {},
   "source": [
    "Classification is a type of supervised learning where the output is a categorical variable. This means that the algorithm is trained on a labeled dataset, and it uses this training to categorize new, unseen data into specific classes. The output, or label, is a category, such as “spam” or “not spam” for an email classification system, or “malignant” or “benign” for a tumor classification system."
   ]
  },
  {
   "cell_type": "markdown",
   "id": "5c998473",
   "metadata": {},
   "source": []
  },
  {
   "cell_type": "markdown",
   "id": "024fbe7c",
   "metadata": {},
   "source": [
    "![Image](https://storage.googleapis.com/rg-ai-bootcamp/machine-learning/classification-min.png)"
   ]
  },
  {
   "cell_type": "markdown",
   "id": "3e8796f1",
   "metadata": {},
   "source": [
    "By convention, we can refer to these two classes or categories in several general ways. We often define clauses as no or yes or sometimes as equivalent to False or True or very commonly use the numbers 0 or 1. One technology commonly used is to call The False or 0 class, The negative class and The True class or 1 class, The positive class."
   ]
  },
  {
   "cell_type": "markdown",
   "id": "5ebc8e1a",
   "metadata": {},
   "source": [
    "| False | True |\n",
    "| --- | --- |\n",
    "| No | Yes |\n",
    "| 0 | 1 |\n",
    "| Negative class | Positive class |"
   ]
  },
  {
   "cell_type": "markdown",
   "id": "742e3ef7",
   "metadata": {},
   "source": [
    "There are two main types of classification problems:"
   ]
  },
  {
   "cell_type": "markdown",
   "id": "49c8ae56",
   "metadata": {},
   "source": [
    "Binary Classification: In binary classification, there are only two possible categories. The tumors classification example mentioned above is a binary classification problem, where the two categories are “malignant” and “benign”."
   ]
  },
  {
   "cell_type": "markdown",
   "id": "773e1bc5",
   "metadata": {},
   "source": [
    "Multiclass Classification: In multiclass classification, there are more than two categories. For example, a model that classifies news articles into categories like “sports”, “politics”, “technology”, and “entertainment” would be a multiclass classification problem."
   ]
  },
  {
   "cell_type": "markdown",
   "id": "697dd8bc",
   "metadata": {},
   "source": [
    "Let’s take a closer look at the tumor classification example to understand how classification works."
   ]
  },
  {
   "cell_type": "markdown",
   "id": "08ded59d",
   "metadata": {},
   "source": [
    "Imagine you’re a doctor who specializes in diagnosing tumors. Over the years, you’ve seen thousands of patients and have developed an intuition for diagnosing whether a tumor is malignant (cancerous) or benign (not cancerous) based on certain features such as the size of the tumor, its shape, and the rate at which it’s growing."
   ]
  },
  {
   "cell_type": "markdown",
   "id": "f92fd7dc",
   "metadata": {},
   "source": [
    "Now, suppose you want to train a machine learning model to do this task. You would start by collecting a dataset of tumors for which you already know the diagnosis. Each tumor in this dataset is labeled either “malignant” or “benign” - these are your classes. The features of each tumor, such as its size, shape, and growth rate, are your input variables."
   ]
  },
  {
   "cell_type": "markdown",
   "id": "2671c879",
   "metadata": {},
   "source": []
  },
  {
   "cell_type": "markdown",
   "id": "2123dc17",
   "metadata": {},
   "source": [
    "![Image](https://storage.googleapis.com/rg-ai-bootcamp/machine-learning/tumor-classification-min.png)"
   ]
  },
  {
   "cell_type": "markdown",
   "id": "d3a2e2b9",
   "metadata": {},
   "source": [
    "You feed this labeled dataset into your classification algorithm, which learns a function that maps the input variables (the features of the tumor) to the output variable (the class label). This function is essentially a decision boundary that separates the different classes based on the input variables."
   ]
  },
  {
   "cell_type": "markdown",
   "id": "b462df76",
   "metadata": {},
   "source": [
    "Once the model is trained, you can use it to classify new, unseen tumors. You input the features of the new tumor into the model, and it outputs a class label - either “malignant” or “benign”. The model has essentially learned to mimic your decision-making process based on the training you gave it."
   ]
  },
  {
   "cell_type": "markdown",
   "id": "f2aa2f70",
   "metadata": {},
   "source": [
    "# Types of Classification Algorithms"
   ]
  },
  {
   "cell_type": "markdown",
   "id": "fe5242a2",
   "metadata": {},
   "source": [
    "There are many algorithms that can be used for classification tasks, each with its own strengths and weaknesses. Some of the most commonly used ones include:"
   ]
  },
  {
   "cell_type": "markdown",
   "id": "b60f89b2",
   "metadata": {},
   "source": [
    "Logistic Regression: Despite its name, logistic regression is used for classification tasks. It uses the logistic function to transform its output into a probability that can be used to predict a class label."
   ]
  },
  {
   "cell_type": "markdown",
   "id": "d5235d5e",
   "metadata": {},
   "source": [
    "Decision Trees: These are simple yet powerful algorithms that split the feature space into regions. For any new instance, the algorithm checks which region it belongs to and assigns the class label accordingly."
   ]
  },
  {
   "cell_type": "markdown",
   "id": "30623afa",
   "metadata": {},
   "source": [
    "Random Forests: This is a type of ensemble method that combines multiple decision trees to make a more accurate prediction."
   ]
  },
  {
   "cell_type": "markdown",
   "id": "8b639f2d",
   "metadata": {},
   "source": [
    "Support Vector Machines (SVMs): SVMs try to find a hyperplane that best separates the classes in the feature space."
   ]
  },
  {
   "cell_type": "markdown",
   "id": "f6aa288e",
   "metadata": {},
   "source": [
    "Neural Networks: These are powerful and flexible algorithms that can learn complex patterns. They are particularly useful when dealing with high-dimensional data, such as images."
   ]
  },
  {
   "cell_type": "markdown",
   "id": "6475560c",
   "metadata": {},
   "source": [
    "# Euler Number"
   ]
  },
  {
   "cell_type": "markdown",
   "id": "60c8aced",
   "metadata": {},
   "source": [
    "Before we go deeper, let’s learn a bit of Math first."
   ]
  },
  {
   "cell_type": "markdown",
   "id": "61b9e278",
   "metadata": {},
   "source": [
    "Euler’s number, often denoted as e, is a special mathematical constant that is approximately equal to 2.71828. It’s named after the Swiss mathematician Leonhard Euler. Euler’s number is the base of natural logarithms and has several unique properties that make it fundamental in mathematics, especially in calculus."
   ]
  },
  {
   "cell_type": "markdown",
   "id": "ff5c212c",
   "metadata": {},
   "source": [
    "But where does Euler’s number come from? Euler’s number arises naturally when dealing with growth phenomena. Let’s use a simple compound interest analogy:"
   ]
  },
  {
   "cell_type": "markdown",
   "id": "eb94f046",
   "metadata": {},
   "source": [
    "Suppose you have $1 and you’re getting 100% interest per year."
   ]
  },
  {
   "cell_type": "markdown",
   "id": "553a53d2",
   "metadata": {},
   "source": [
    "If the interest is compounded annually (i.e., at the end of the year), after one year you’ll have $2."
   ]
  },
  {
   "cell_type": "markdown",
   "id": "4ebb1e41",
   "metadata": {},
   "source": [
    "If the interest is compounded semi-annually (twice a year), you would get more than $2. Specifically, you would get sqrt(2)^2 = 2.25."
   ]
  },
  {
   "cell_type": "markdown",
   "id": "ed4490d5",
   "metadata": {},
   "source": [
    "As we increase the frequency of compounding, the total amount after 1 year increases."
   ]
  },
  {
   "cell_type": "markdown",
   "id": "2bcbe1be",
   "metadata": {},
   "source": [
    "As we continue compounding more frequently (every minute, every second, and so on), the limit we reach as the compounding gets infinitely frequent is precisely Euler’s number e dollars or around $2.71828."
   ]
  },
  {
   "cell_type": "markdown",
   "id": "7ee5864c",
   "metadata": {},
   "source": [
    "| Compounded per yearn | Total Amount after 1 year |\n",
    "| --- | --- |\n",
    "| 1 (annually) | 2 |\n",
    "| 2 (semi-annually) | 2.25 |\n",
    "| 4 (quarterly) | 2.4414 |\n",
    "| 12 (monthly) | 2.6130 |\n",
    "| 365 (daily) | 2.7146 |\n",
    "| 1,000 | 2.7169 |\n",
    "| 10,000 | 2.7181 |\n",
    "| 100,000 | 2.7182 |\n",
    "| 1,000,000 | 2.71828 |\n",
    "| ∞ (continuously) | e ≈ 2.71828 |"
   ]
  },
  {
   "cell_type": "markdown",
   "id": "61210ec0",
   "metadata": {},
   "source": [
    "You can also try using different interest rates in here: Eulers number"
   ]
  },
  {
   "cell_type": "markdown",
   "id": "da92f44a",
   "metadata": {},
   "source": [
    "As n becomes very large, this expression approaches e. The mathematical formula is:"
   ]
  },
  {
   "cell_type": "markdown",
   "id": "1b52d640",
   "metadata": {},
   "source": [
    "\\[e = (1 + \\frac{1}{n})^n\\]"
   ]
  },
  {
   "cell_type": "markdown",
   "id": "91f1b46e",
   "metadata": {},
   "source": [
    "If a quantity grows at a rate proportional to its current size—a property known as “exponential growth”—then that growth is often described naturally using e."
   ]
  },
  {
   "cell_type": "markdown",
   "id": "87e072d2",
   "metadata": {},
   "source": [
    "Here are a few other examples:"
   ]
  },
  {
   "cell_type": "markdown",
   "id": "f63d0ad7",
   "metadata": {},
   "source": [
    "In population biology, if a population of organisms grows without bounds (i.e., has unlimited resources and no competition or predation), the population will grow exponentially over time. This growth can be modeled using e."
   ]
  },
  {
   "cell_type": "markdown",
   "id": "5e1aa388",
   "metadata": {},
   "source": [
    "In physics, certain quantities decay exponentially, like radioactive substances or the damping of a pendulum. The decay is often modeled using e."
   ]
  },
  {
   "cell_type": "markdown",
   "id": "fabeb97e",
   "metadata": {},
   "source": [
    "So, while e is often associated with growth, it’s specifically constant proportional growth (or decay)—in other words, situations where the rate of change of a quantity is proportional to the quantity itself. It helps us model and understand phenomena where things grow proportionally to their current amount, a kind of growth that’s common in nature and financial systems."
   ]
  },
  {
   "cell_type": "markdown",
   "id": "d2a8d0b3",
   "metadata": {},
   "source": [
    "In NumPy, you can use Euler’s number with the exp() function. Here’s how you can get the value of e:"
   ]
  },
  {
   "cell_type": "code",
   "execution_count": null,
   "id": "829b4733",
   "metadata": {},
   "outputs": [],
   "source": [
    "import numpy as np\n",
    "print(np.exp())"
   ]
  },
  {
   "cell_type": "markdown",
   "id": "ac760d52",
   "metadata": {},
   "source": [
    "Here is an example of how Euler's Number is used in Numpy with the exp() function:"
   ]
  },
  {
   "cell_type": "code",
   "execution_count": null,
   "id": "a65a37e6",
   "metadata": {},
   "outputs": [],
   "source": [
    "import numpy as np\n",
    "\n",
    "# Input is a single number\n",
    "print(np.exp(1))\n",
    "print(np.exp(2))\n",
    "\n",
    "# Input is an array\n",
    "print(np.exp(np.array([1,2,3])))"
   ]
  },
  {
   "cell_type": "code",
   "execution_count": null,
   "id": "87449894",
   "metadata": {},
   "outputs": [],
   "source": [
    "2.718281828459045\n",
    "7.38905609893065\n",
    "[ 2.71828183  7.3890561  20.08553692]"
   ]
  },
  {
   "cell_type": "markdown",
   "id": "1b7357a3",
   "metadata": {},
   "source": [
    "We won’t go too deep into Euler’s number or e, we’ll focus more on the practical use, for now we’ll use e as a constant in our machine learning calculation."
   ]
  },
  {
   "cell_type": "markdown",
   "id": "cd19a324",
   "metadata": {},
   "source": [
    "# Sigmoid Function"
   ]
  },
  {
   "cell_type": "markdown",
   "id": "cca77516",
   "metadata": {},
   "source": [
    "Now, we’ll take a look at Sigmoid function. Let’s see what the it looks like:"
   ]
  },
  {
   "cell_type": "code",
   "execution_count": null,
   "id": "200df9c3",
   "metadata": {},
   "outputs": [],
   "source": [
    "import numpy as np\n",
    "import matplotlib.pyplot as plt\n",
    "\n",
    "# Create a sigmoid function\n",
    "def sigmoid(x):\n",
    "    return 1 / (1 + np.exp(-x))\n",
    "\n",
    "# Generate x values\n",
    "x = np.linspace(-10, 10, 100)\n",
    "\n",
    "# Compute sigmoid(x)\n",
    "y = sigmoid(x)\n",
    "\n",
    "# Create the plot\n",
    "plt.figure(figsize=(9, 6))\n",
    "plt.plot(x, y, label=\"sigmoid function\")\n",
    "plt.title('Sigmoid Function')\n",
    "plt.legend(loc='best')\n",
    "plt.show()"
   ]
  },
  {
   "cell_type": "markdown",
   "id": "4ea44b12",
   "metadata": {},
   "source": []
  },
  {
   "cell_type": "markdown",
   "id": "32a0678c",
   "metadata": {},
   "source": [
    "The mathematical formula for a Sigmoid function is as follows:"
   ]
  },
  {
   "cell_type": "markdown",
   "id": "891f2dce",
   "metadata": {},
   "source": [
    "\\[g(z) = \\frac{1}{1+e^{-z}}\\]"
   ]
  },
  {
   "cell_type": "markdown",
   "id": "0a7e31a9",
   "metadata": {},
   "source": [
    "The sigmoid function is implemented in python as shown in the cell below."
   ]
  },
  {
   "cell_type": "code",
   "execution_count": null,
   "id": "b82c6377",
   "metadata": {},
   "outputs": [],
   "source": [
    "def sigmoid(z):\n",
    "    \"\"\"\n",
    "    Compute the sigmoid of z\n",
    "\n",
    "    Args:\n",
    "        z (ndarray): A scalar, numpy array of any size.\n",
    "\n",
    "    Returns:\n",
    "        g (ndarray): sigmoid(z), with the same shape as z\n",
    "         \n",
    "    \"\"\"\n",
    "\n",
    "    g = 1/(1+np.exp(-z))\n",
    "   \n",
    "    return g"
   ]
  },
  {
   "cell_type": "markdown",
   "id": "800c394b",
   "metadata": {},
   "source": [
    "Let’s examine the results this function generates for different z values."
   ]
  },
  {
   "cell_type": "code",
   "execution_count": null,
   "id": "82347384",
   "metadata": {},
   "outputs": [],
   "source": [
    "import numpy as np\n",
    "import matplotlib.pyplot as plt\n",
    "\n",
    "z_tmp = np.arange(-5,5)\n",
    "y = sigmoid(z_tmp)\n",
    "np.set_printoptions(precision=3) \n",
    "print(\"Input (z), Output (sigmoid(z))\")\n",
    "print(np.c_[z_tmp, y])"
   ]
  },
  {
   "cell_type": "code",
   "execution_count": null,
   "id": "0fc579d7",
   "metadata": {},
   "outputs": [],
   "source": [
    "Input (z), Output (sigmoid(z))\n",
    "[[-5.     0.007]\n",
    " [-4.     0.018]\n",
    " [-3.     0.047]\n",
    " [-2.     0.119]\n",
    " [-1.     0.269]\n",
    " [ 0.     0.5  ]\n",
    " [ 1.     0.731]\n",
    " [ 2.     0.881]\n",
    " [ 3.     0.953]\n",
    " [ 4.     0.982]]"
   ]
  },
  {
   "cell_type": "markdown",
   "id": "e2fd3e9a",
   "metadata": {},
   "source": [
    "The left column represents z, while the right column signifies sigmoid(z). It’s clear to see that the input values for the sigmoid fall between -5 and 5, and the resulting outputs are dispersed from 0 to 1. The value will never touch 0 and 1 but will be very close to 0 and 1."
   ]
  },
  {
   "cell_type": "markdown",
   "id": "2a3a62ce",
   "metadata": {},
   "source": [
    "Now, let’s attempt to visualize this function through the use of the matplotlib library."
   ]
  },
  {
   "cell_type": "code",
   "execution_count": null,
   "id": "a92e2f25",
   "metadata": {},
   "outputs": [],
   "source": [
    "#in local environment you may need to install ipywidgets first\n",
    "\n",
    "import numpy as np\n",
    "import matplotlib.pyplot as plt\n",
    "from ipywidgets import interact\n",
    "\n",
    "def plot_func(left=-5, right=5):\n",
    "    z_tmp = np.arange(left,right)\n",
    "    y = sigmoid(z_tmp)\n",
    "\n",
    "    plt.figure(figsize=(5, 3))\n",
    "    plt.plot(z_tmp, y, c=\"b\")\n",
    "    plt.title('Sigmoid Function')\n",
    "    plt.ylabel('sigmoid(z)')\n",
    "    plt.xlabel('z')\n",
    "    plt.show()\n",
    "\n",
    "interact(plot_func, left=(-10.0, 10.0), right=(-10.0, 10.0))"
   ]
  },
  {
   "cell_type": "code",
   "execution_count": null,
   "id": "5fc06c70",
   "metadata": {},
   "outputs": [],
   "source": [
    "<function __main__.plot_func(left=-5, right=5)>"
   ]
  },
  {
   "cell_type": "markdown",
   "id": "05c363fc",
   "metadata": {},
   "source": [
    "What you can observe here is the behavior of the sigmoid function: - Tends towards 0 when z is a significantly negative value - Gradually ascends towards 1 when z becomes a large positive value."
   ]
  },
  {
   "cell_type": "markdown",
   "id": "3c52b529",
   "metadata": {},
   "source": [
    "Note: Try changing the number -5,5 in the line above z_tmp = np.arange(-5,5) to other numbers and notice the shape of the function."
   ]
  },
  {
   "cell_type": "markdown",
   "id": "0bf895a1",
   "metadata": {},
   "source": [
    "In summary, the Sigmoid function will map any numeric ranges including big ranges -Infinity to Infinity values to 0 and 1."
   ]
  },
  {
   "cell_type": "markdown",
   "id": "b4d06554",
   "metadata": {},
   "source": [
    "Now, let’s see what we learn Sigmoid function for."
   ]
  },
  {
   "cell_type": "markdown",
   "id": "b4501ea7",
   "metadata": {},
   "source": [
    "# Logistic Regression"
   ]
  },
  {
   "cell_type": "markdown",
   "id": "65662c66",
   "metadata": {},
   "source": [
    "Logistic Regression is a classification algorithm used when the response variable is categorical. For instance, it can be used for cancer detection problems (like our tumor example) where the task is to predict a category - malignant or benign. To build out to the logistic regression algorithm, we’ll use The Sigmoid function."
   ]
  },
  {
   "cell_type": "markdown",
   "id": "7d19412c",
   "metadata": {},
   "source": [
    "The Sigmoid function is a fundamental part of logistic regression. It maps any real-valued number into the range [0, 1], which can be interpreted as a probability for binary classification."
   ]
  },
  {
   "cell_type": "markdown",
   "id": "7ddf117b",
   "metadata": {},
   "source": [
    "Let’s start with what we know, previously we use linear equation to help us find a model that fits our data. Which is a straight line, then we fine tune the line using parameter w and b."
   ]
  },
  {
   "cell_type": "code",
   "execution_count": null,
   "id": "a2d9ab15",
   "metadata": {},
   "outputs": [],
   "source": [
    "import numpy as np\n",
    "import matplotlib.pyplot as plt\n",
    "\n",
    "# Generate x values\n",
    "x = np.linspace(-10, 10, 100)\n",
    "\n",
    "# Define slope (m) and y-intercept (b)\n",
    "w = 2\n",
    "b = 1\n",
    "\n",
    "# Compute y = wx + b\n",
    "y = w*x + b\n",
    "\n",
    "# Create the plot\n",
    "plt.figure(figsize=(9, 6))\n",
    "plt.plot(x, y, label=\"linear function\")\n",
    "plt.title('Linear Function')\n",
    "plt.legend(loc='best')\n",
    "plt.show()"
   ]
  },
  {
   "cell_type": "markdown",
   "id": "af0c1632",
   "metadata": {},
   "source": []
  },
  {
   "cell_type": "markdown",
   "id": "9725836d",
   "metadata": {},
   "source": [
    "However in the case of our data, we need to find a model that is a better fit for our data. In the case of our tumor dataset, we need to map it to return only malignant or benign, or simply 1 or 0. Which is known as binary classification."
   ]
  },
  {
   "cell_type": "markdown",
   "id": "ea3be384",
   "metadata": {},
   "source": [
    "Scaling our data to fit the maximum of 1 and minimum of 0 is difficult, isn’t it ?"
   ]
  },
  {
   "cell_type": "markdown",
   "id": "6d0e2f48",
   "metadata": {},
   "source": [
    "We can input our linear equation into the Sigmoid function which will then “flatten” the line to “S” like curve we see above."
   ]
  },
  {
   "cell_type": "markdown",
   "id": "7647bd1e",
   "metadata": {},
   "source": [
    "If you recall the tumor graph above, the data is clustered around 0 and 1, so it’s kind of hard to plot a straight line through the data. The Sigmoid function by flattening the upper and bottom part around 0 and 1."
   ]
  },
  {
   "cell_type": "markdown",
   "id": "01fbebb3",
   "metadata": {},
   "source": [
    "We can write our logistic regression model combining our linear equation with sigmoid function as shown below:"
   ]
  },
  {
   "cell_type": "markdown",
   "id": "e1e60412",
   "metadata": {},
   "source": [
    "\\[ f(\\mathbf{x}_{(i)}) = g(\\mathbf{w} \\cdot \\mathbf{x}_{(i)} + b )\\]"
   ]
  },
  {
   "cell_type": "markdown",
   "id": "b9fbafa7",
   "metadata": {},
   "source": [
    "where"
   ]
  },
  {
   "cell_type": "markdown",
   "id": "5bafd411",
   "metadata": {},
   "source": [
    "\\[g(z) = \\frac{1}{1+e^{-z}}\\]"
   ]
  },
  {
   "cell_type": "markdown",
   "id": "0a4810a2",
   "metadata": {},
   "source": [
    "and \\(\\mathbf{w} \\cdot \\mathbf{x}\\) is the vector dot product:"
   ]
  },
  {
   "cell_type": "markdown",
   "id": "cb997ca8",
   "metadata": {},
   "source": [
    "\\[\\mathbf{w} \\cdot \\mathbf{x} = w_0 x_0 + w_1 x_1\\]"
   ]
  },
  {
   "cell_type": "markdown",
   "id": "bc16b884",
   "metadata": {},
   "source": [
    "# Case study"
   ]
  },
  {
   "cell_type": "markdown",
   "id": "96282af0",
   "metadata": {},
   "source": [
    "After understanding the basics of logistic regression, let’s get back to our case example, tumour classification. We have two features for our logistic regression model: tumor size and patient age. Let’s call these features \\(x_1\\) to \\(x_2\\). Since this is a binary classification task, the target label \\(y\\) takes only two values, 0 or 1."
   ]
  },
  {
   "cell_type": "markdown",
   "id": "1299b776",
   "metadata": {},
   "source": [
    "| Tumour Size (cm) (\\(x_1\\)) | Patient Age (\\(x_2\\)) | Malignant Status (\\(y\\)) |\n",
    "| --- | --- | --- |\n",
    "| 7.1 | 55 | 1 |\n",
    "| 3.2 | 30 | 0 |\n",
    "| 5.8 | 65 | 1 |\n",
    "| 2.0 | 20 | 0 |\n",
    "| 8.4 | 72 | 1 |\n",
    "| 4.2 | 40 | 0 |\n",
    "| 7.6 | 60 | 1 |\n",
    "| 2.5 | 25 | 0 |\n",
    "| 6.8 | 70 | 1 |\n",
    "| 1.7 | 22 | 0 |\n",
    "| 7.5 | 68 | 1 |\n",
    "| 3.1 | 35 | 0 |\n",
    "| 8.2 | 66 | 1 |\n",
    "| 2.2 | 28 | 0 |"
   ]
  },
  {
   "cell_type": "markdown",
   "id": "ca29fcfd",
   "metadata": {},
   "source": [
    "For our lesson, we’ll focus on using only 1 feature, because it’s easier to visualize."
   ]
  },
  {
   "cell_type": "markdown",
   "id": "9f4fad58",
   "metadata": {},
   "source": [
    "Let’s take a look at Tumour Size:"
   ]
  },
  {
   "cell_type": "code",
   "execution_count": null,
   "id": "6dd07b30",
   "metadata": {},
   "outputs": [],
   "source": [
    "import numpy as np\n",
    "\n",
    "#Given data\n",
    "data = {\n",
    "    'Tumour Size (cm)': [7.1, 3.2, 5.8, 2.0, 8.4, 4.2, 7.6, 2.5, 6.8, 1.7, 7.5, 3.1, 8.2, 2.2],\n",
    "    'Patient Age': [55, 30, 65, 20, 72, 40, 60, 25, 70, 22, 68, 35, 66, 28],\n",
    "    'Malignant Status': [1, 0, 1, 0, 1, 0, 1, 0, 1, 0, 1, 0, 1, 0]\n",
    "}\n",
    "\n",
    "# Create a dataframe\n",
    "df = pd.DataFrame(data)\n",
    "\n",
    "# Define your data\n",
    "tumour_size = df['Tumour Size (cm)']\n",
    "malignant_status = df['Malignant Status']\n",
    "\n",
    "# Create scatter plot\n",
    "plt.scatter(patient_age, malignant_status)\n",
    "plt.xlabel('Tumour Size (cm)')\n",
    "plt.ylabel('Malignant Status')\n",
    "plt.title('Tumour Size vs Malignant Status')\n",
    "plt.show()"
   ]
  },
  {
   "cell_type": "markdown",
   "id": "84678a68",
   "metadata": {},
   "source": []
  },
  {
   "cell_type": "markdown",
   "id": "12be057d",
   "metadata": {},
   "source": [
    "Now, let’s try using linear regression model to this data:"
   ]
  },
  {
   "cell_type": "code",
   "execution_count": null,
   "id": "7c9bc839",
   "metadata": {},
   "outputs": [],
   "source": [
    "# Presumed values of w and b, replace with your own values\n",
    "w = 0.6 #0.60562\n",
    "b = -2.5 #-2.4966\n",
    "\n",
    "# Create input range, using min and max of your data\n",
    "\n",
    "y = w*x + b\n",
    "\n",
    "# Create scatter plot\n",
    "plt.scatter(tumour_size, malignant_status, color='blue')\n",
    "plt.plot(x, y, '-r', label='y=wx+b')\n",
    "plt.title('Fitting Linear Regression')\n",
    "plt.xlabel('Tumour Size (cm)', color='#1C2833')\n",
    "plt.ylabel('Malignant Status', color='#1C2833')\n",
    "plt.ylim([-0.5, 1.5])  # Set the limits of y-axis here\n",
    "plt.legend(loc='best')\n",
    "plt.grid()\n",
    "plt.show()"
   ]
  },
  {
   "cell_type": "markdown",
   "id": "8708dbd2",
   "metadata": {},
   "source": []
  },
  {
   "cell_type": "markdown",
   "id": "d0a707e1",
   "metadata": {},
   "source": [
    "Now let’s try plotting the sigmoid function, keep in mind that if the linear regression is wrong, the result will also be wrong."
   ]
  },
  {
   "cell_type": "markdown",
   "id": "a6b588c2",
   "metadata": {},
   "source": [
    "As we can see, the Logistic Regression line is somewhere inside the range of 0 and 1 and will always be inside that range."
   ]
  },
  {
   "cell_type": "code",
   "execution_count": null,
   "id": "fbff1b55",
   "metadata": {},
   "outputs": [],
   "source": [
    "# Define sigmoid function\n",
    "def sigmoid(z):\n",
    "    return 1 / (1 + np.exp(-z))\n",
    "\n",
    "# Create input range, using min and max of your data\n",
    "y_sigmoid = sigmoid(y)\n",
    "\n",
    "# Create scatter plot\n",
    "plt.scatter(tumour_size, malignant_status, color='blue')\n",
    "plt.plot(x, y, '-r', label='Linear Regression')\n",
    "plt.plot(x, y_sigmoid, '-g', label='Logistic Regression')\n",
    "plt.title('Graph of Linear and Logistic Regression')\n",
    "plt.xlabel('Tumour Size (cm)', color='#1C2833')\n",
    "plt.ylabel('Malignant Status', color='#1C2833')\n",
    "plt.ylim([-0.5, 1.5])  # Set the limits of y-axis here\n",
    "plt.legend(loc='best')\n",
    "plt.grid()\n",
    "plt.show()"
   ]
  },
  {
   "cell_type": "markdown",
   "id": "eef9e3e8",
   "metadata": {},
   "source": []
  },
  {
   "cell_type": "markdown",
   "id": "51936ee3",
   "metadata": {},
   "source": [
    "Based on the visualization above, we can say that if a patient comes in and he has a tumor of a certain size, and if based on this input, our model would add 0.6, then what that means is that the model is predicting or the model thinks there is a 60 percent chance that the correct label y will equal 1 for this patient. In other words, the model is telling us that it thinks the patient has a 60 percent chance of the tumor turning malignant."
   ]
  },
  {
   "cell_type": "markdown",
   "id": "5ca4a3c5",
   "metadata": {},
   "source": [
    "Now, our question is if \\(y\\) has a 60 percent chance of being 1, what is its chance of being 0? Don’t we know that \\(y\\) must be 0 or 1?"
   ]
  },
  {
   "cell_type": "markdown",
   "id": "54fab682",
   "metadata": {},
   "source": [
    "# Decision Boundaries"
   ]
  },
  {
   "cell_type": "markdown",
   "id": "3adba60f",
   "metadata": {},
   "source": [
    "The decision boundary is a threshold that determines the class of an output. This output can be interpreted as the probability that a given input point belongs to a certain class."
   ]
  },
  {
   "cell_type": "markdown",
   "id": "5c8789fe",
   "metadata": {},
   "source": [
    "During the training process, the logistic regression model determines the optimal values for \\(w\\) and \\(b\\) to best separate the classes. The model’s output is given by the sigmoid function applied on the weighted sum of the features. This function transforms its input into a value between 0 and 1, which we interpret as the probability that a given input belongs to a certain class. The decision boundary occurs where the model’s predicted probability is 0.5, indicating an equal uncertainty for both classes."
   ]
  },
  {
   "cell_type": "markdown",
   "id": "13dff172",
   "metadata": {},
   "source": [
    "The output of the logistic regression model is given by the sigmoid function of the weighted sum of features, i.e.,"
   ]
  },
  {
   "cell_type": "markdown",
   "id": "9c70026b",
   "metadata": {},
   "source": [
    "\\[ p(y=1|x;\\mathbf{w},b) = \\sigma(\\mathbf{w}^T \\mathbf{x} + b) \\]"
   ]
  },
  {
   "cell_type": "markdown",
   "id": "10fb168e",
   "metadata": {},
   "source": [
    "where:"
   ]
  },
  {
   "cell_type": "markdown",
   "id": "53e5371b",
   "metadata": {},
   "source": [
    "The sigmoid function transforms its input into a value between 0 and 1, which can be interpreted as a probability."
   ]
  },
  {
   "cell_type": "markdown",
   "id": "0a8d0216",
   "metadata": {},
   "source": [
    "The decision boundary in logistic regression is the point where the model outputs a probability of 0.5. That means the model is equally uncertain about both classes."
   ]
  },
  {
   "cell_type": "markdown",
   "id": "49e2c9c9",
   "metadata": {},
   "source": [
    "If we set the sigmoid function equal to 0.5 and solve for \\(z\\), we get:"
   ]
  },
  {
   "cell_type": "markdown",
   "id": "5003cca1",
   "metadata": {},
   "source": [
    "\\[ \\frac{1}{1+e^{-z}} = 0.5 \\]"
   ]
  },
  {
   "cell_type": "markdown",
   "id": "a9c0e170",
   "metadata": {},
   "source": [
    "This simplifies to \\(z=0\\) after some basic algebra. Because \\(z\\) is the input to the sigmoid function, and that input is the linear combination of the features (\\(\\mathbf{w}^T \\mathbf{x} + b\\)), we get:"
   ]
  },
  {
   "cell_type": "markdown",
   "id": "20417376",
   "metadata": {},
   "source": [
    "\\[ \\mathbf{w}^T \\mathbf{x} + b = 0 \\]"
   ]
  },
  {
   "cell_type": "markdown",
   "id": "1ec64217",
   "metadata": {},
   "source": [
    "Hence, the decision boundary is the solution to the above equation. This is why the decision boundary equation corresponds to a probability of 0.5."
   ]
  },
  {
   "cell_type": "markdown",
   "id": "bd354be2",
   "metadata": {},
   "source": [
    "So the equation for decision boundary is:"
   ]
  },
  {
   "cell_type": "markdown",
   "id": "857ddd48",
   "metadata": {},
   "source": [
    "\\(w \\cdot x + b = 0\\)"
   ]
  },
  {
   "cell_type": "markdown",
   "id": "e83c1c4a",
   "metadata": {},
   "source": [
    "Where: - \\(w\\) represents the weights or coefficients corresponding to each feature - \\(x\\) represents the feature values - \\(b\\) is the bias or intercept term"
   ]
  },
  {
   "cell_type": "markdown",
   "id": "374c2e62",
   "metadata": {},
   "source": [
    "The dot product \\(w \\cdot x\\) sums up the product of each feature value with its corresponding weight. This sum, plus the bias, equals zero at the decision boundary. Thus, the decision boundary marks the threshold at which the model’s predicted probability changes from favoring one class to favor the other."
   ]
  },
  {
   "cell_type": "markdown",
   "id": "6bb79fe3",
   "metadata": {},
   "source": [
    "Let’s apply it to Python code using scikit-learn:"
   ]
  },
  {
   "cell_type": "code",
   "execution_count": null,
   "id": "2f9c7f52",
   "metadata": {},
   "outputs": [],
   "source": [
    "import numpy as np\n",
    "import matplotlib.pyplot as plt\n",
    "from sklearn.linear_model import LogisticRegression\n",
    "\n",
    "# Feature (Tumour Size)\n",
    "X = tumour_size.values.reshape(-1,1)\n",
    "\n",
    "# Target variable (Malignant Status)\n",
    "y = malignant_status\n",
    "\n",
    "model = LogisticRegression()\n",
    "model.fit(X, y)\n",
    "\n",
    "# Calculate the decision boundary\n",
    "decision_boundary = -model.intercept_/model.coef_\n",
    "decision_boundary = decision_boundary[0][0]  # Extract the value from the numpy array\n",
    "\n",
    "# Plot the data along with the decision boundary\n",
    "plt.figure(figsize=(8,6))\n",
    "plt.scatter(X[y==0], y[y==0], color='b', label='0: Benign')\n",
    "plt.scatter(X[y==1], y[y==1], color='r', label='1: Malignant')\n",
    "plt.plot([decision_boundary, decision_boundary], [-1, 2], \"k:\", label=\"Decision Boundary\")\n",
    "plt.plot(x, y_sigmoid, '-g', label='Logistic Regression')\n",
    "plt.xlabel('Tumour Size (cm)')\n",
    "plt.ylabel('Malignant Status')\n",
    "plt.legend()\n",
    "plt.show()"
   ]
  },
  {
   "cell_type": "markdown",
   "id": "71af0d42",
   "metadata": {},
   "source": []
  },
  {
   "cell_type": "markdown",
   "id": "d818a07d",
   "metadata": {},
   "source": [
    "Why in the code above, the calculation becomes decision_boundary = -model.intercept_/model.coef_ ?"
   ]
  },
  {
   "cell_type": "markdown",
   "id": "8fa26333",
   "metadata": {},
   "source": [
    "Keeping in mind the equation for decision boundary is w.x + b = 0"
   ]
  },
  {
   "cell_type": "markdown",
   "id": "ee545061",
   "metadata": {},
   "source": [
    "In scikit-learn, model.coef_ corresponds to w and model.intercept_ corresponds to b in the above equation."
   ]
  },
  {
   "cell_type": "markdown",
   "id": "a984c1c1",
   "metadata": {},
   "source": [
    "So if we rearrange the equation w.x + b = 0 to solve for x (the decision boundary), we get x = -b / w."
   ]
  },
  {
   "cell_type": "markdown",
   "id": "4c91401c",
   "metadata": {},
   "source": [
    "One more thing, to answer the question from earlier, if y = 0.6, then based on the decision boundary above, it will be marked as 1 (malignant)."
   ]
  },
  {
   "cell_type": "markdown",
   "id": "0c6e6c22",
   "metadata": {},
   "source": [
    "# Cost Function for Logistic Regression"
   ]
  },
  {
   "cell_type": "markdown",
   "id": "b868b1a2",
   "metadata": {},
   "source": [
    "The question we want you to answer is, given the training set, how can you choose the parameters \\(w\\) and \\(b\\) that will best fit the data? This is where we will again use the cost function."
   ]
  },
  {
   "cell_type": "markdown",
   "id": "11483a8c",
   "metadata": {},
   "source": [
    "You might remember that the cost function gives you a way to measure how well a certain set of parameters fit the training data. As such, it gives you a way to try to choose better parameters. The cost function measures how well the logistic regression model is doing on the training data. It quantifies the error between the predicted probabilities (output of the sigmoid function) and the actual class labels in the training data."
   ]
  },
  {
   "cell_type": "markdown",
   "id": "561764b3",
   "metadata": {},
   "source": [
    "Logistic Regression uses a loss function more suited to the task of categorization where the target is 0 or 1 rather than any number."
   ]
  },
  {
   "cell_type": "markdown",
   "id": "3ab09a9d",
   "metadata": {},
   "source": [
    "Loss is a measure of the difference of a single example to its target value while the\n",
    "Cost is a measure of the losses over the training set"
   ]
  },
  {
   "cell_type": "markdown",
   "id": "a1354cf4",
   "metadata": {},
   "source": [
    "In logistic regression, we use the Log Loss or Binary Cross-Entropy Loss as the cost function."
   ]
  },
  {
   "cell_type": "markdown",
   "id": "a02ef523",
   "metadata": {},
   "source": [
    "Take a look at the following graph plot:"
   ]
  },
  {
   "cell_type": "markdown",
   "id": "6453a67b",
   "metadata": {},
   "source": []
  },
  {
   "cell_type": "markdown",
   "id": "dff43f3e",
   "metadata": {},
   "source": [
    "![Image](https://miro.medium.com/max/1200/1*yWzKLQhWITQ4bR2aMSVVuw.png)"
   ]
  },
  {
   "cell_type": "markdown",
   "id": "45c83ec1",
   "metadata": {},
   "source": [
    "Source: Miro on Medium"
   ]
  },
  {
   "cell_type": "markdown",
   "id": "1ef2c1e5",
   "metadata": {},
   "source": [
    "Let’s break it down: - h(x) is the predicted probability of the positive class. This is the output of our logistic regression model, which is the sigmoid of our linear model. The sigmoid function maps any real valued number to the (0, 1) range, which can be used for classification."
   ]
  },
  {
   "cell_type": "markdown",
   "id": "613f0af4",
   "metadata": {},
   "source": [
    "The cost function consists of two parts:"
   ]
  },
  {
   "cell_type": "markdown",
   "id": "e384da1a",
   "metadata": {},
   "source": [
    "-y log(h(x)): This part of the cost function is used when the actual class (y) is 1. If our model predicts close to 1 (h(x) ~ 1), the cost is low, but if our model predicts close to 0 (h(x) ~ 0), the cost is high."
   ]
  },
  {
   "cell_type": "markdown",
   "id": "2838b784",
   "metadata": {},
   "source": [
    "-(1 − y) log(1 − h(x)): This part of the cost function is used when the actual class (y) is 0. If our model predicts close to 0 (h(x) ~ 0), the cost is low, but if our model predicts close to 1 (h(x) ~ 1), the cost is high."
   ]
  },
  {
   "cell_type": "markdown",
   "id": "a687e0bd",
   "metadata": {},
   "source": [
    "Let’s plot the first part -y log(h(x)) where y = 1. With simple math, we substitute y with 1 to get -1 log(h(x)) which can be written as -log(h(x))"
   ]
  },
  {
   "cell_type": "code",
   "execution_count": null,
   "id": "c72bd4b2",
   "metadata": {},
   "outputs": [],
   "source": [
    "import numpy as np\n",
    "import matplotlib.pyplot as plt\n",
    "\n",
    "# Predicted probability range from 0 to 1\n",
    "h = np.linspace(0.000001, 0.999999)\n",
    "\n",
    "# Cost when y=1\n",
    "cost = -np.log(h)\n",
    "\n",
    "plt.plot(h, cost)\n",
    "plt.xlabel('Predicted Probability')\n",
    "plt.ylabel('Cost')\n",
    "plt.title('Cost Function for y=1')\n",
    "plt.show()"
   ]
  },
  {
   "cell_type": "markdown",
   "id": "29fc7e85",
   "metadata": {},
   "source": []
  },
  {
   "cell_type": "markdown",
   "id": "f23a1c83",
   "metadata": {},
   "source": [
    "We then plot the cost when h(x) is close to 0, let’s say 0.000001 to a number close to 1, let’s use 0.999999. We can see that as the predicted probability h(x) is closer to 1, the cost went down significantly, which is what we want."
   ]
  },
  {
   "cell_type": "markdown",
   "id": "811c4e68",
   "metadata": {},
   "source": [
    "Now, let’s plot the second part -(1 − y) log(1 − h(x)) where y = 0. Again, with simple math, we substitute y with 0 and we get -(1)log(1 - h(x)) which can be written as follows -log(1 - h(x))"
   ]
  },
  {
   "cell_type": "code",
   "execution_count": null,
   "id": "4ee7daea",
   "metadata": {},
   "outputs": [],
   "source": [
    "import numpy as np\n",
    "import matplotlib.pyplot as plt\n",
    "\n",
    "# Predicted probability range from 0 to 1\n",
    "h = np.linspace(0.000001, 0.999999)\n",
    "\n",
    "# Cost when y=1\n",
    "cost = -np.log(1 - h)\n",
    "\n",
    "plt.plot(h, cost)\n",
    "plt.xlabel('Predicted Probability')\n",
    "plt.ylabel('Cost')\n",
    "plt.title('Cost Function for y=0')\n",
    "plt.show()"
   ]
  },
  {
   "cell_type": "markdown",
   "id": "4d44b015",
   "metadata": {},
   "source": []
  },
  {
   "cell_type": "markdown",
   "id": "82c028be",
   "metadata": {},
   "source": [
    "Again, we plot the cost when h(x) is close to 0, let’s say 0.000001 to a number close to 1, let’s use 0.999999. We can see that as the predicted probability h(x) is closer to 0, the cost went down significantly, which is what we want."
   ]
  },
  {
   "cell_type": "markdown",
   "id": "087b0875",
   "metadata": {},
   "source": [
    "This cost function works well because it “penalizes” wrong predictions with a high cost, and rewards correct predictions with a low cost. The goal of our training process is to find the parameters of our model that minimize this cost function."
   ]
  },
  {
   "cell_type": "markdown",
   "id": "6956c443",
   "metadata": {},
   "source": [
    "In other words, we adjust the parameters of our model to make our predictions as close as possible to the actual classes, thereby minimizing the cost."
   ]
  },
  {
   "cell_type": "markdown",
   "id": "2549252d",
   "metadata": {},
   "source": [
    "Combining them together, we get:"
   ]
  },
  {
   "cell_type": "markdown",
   "id": "8f5d6e82",
   "metadata": {},
   "source": [
    "\\[loss({h}(\\mathbf{x}), y) = -y \\log\\left({h}\\left( \\mathbf{x} \\right) \\right) - \\left( 1 - y\\right) \\log \\left( 1 - {h}\\left( \\mathbf{x} \\right) \\right) \\]"
   ]
  },
  {
   "cell_type": "markdown",
   "id": "748d18d4",
   "metadata": {},
   "source": [
    "This formula holds true because when y = 0 (we substitute y with 0):"
   ]
  },
  {
   "cell_type": "markdown",
   "id": "8e4c8248",
   "metadata": {},
   "source": [
    "-0 log(h(x))-(1 − 0) log(1 − h(x)) => -log(1 - h(x)) which is the same as the second part where y = 0."
   ]
  },
  {
   "cell_type": "markdown",
   "id": "8335e6ff",
   "metadata": {},
   "source": [
    "and when y = 1 (we substitute y with 1):"
   ]
  },
  {
   "cell_type": "markdown",
   "id": "c38502f6",
   "metadata": {},
   "source": [
    "-1 log(h(x))-(1 − 1) log(1 − h(x)) => -log(h(x)) which is the same as the first part where y = 1."
   ]
  },
  {
   "cell_type": "markdown",
   "id": "a8e13f05",
   "metadata": {},
   "source": [
    "To get the total cost for all of our training data, we need to find the average of the individual loss function:"
   ]
  },
  {
   "cell_type": "markdown",
   "id": "f74088b4",
   "metadata": {},
   "source": [
    "\\[ J(\\mathbf{w},b) = \\frac{1}{m} \\sum_{i=0}^{m-1} \\left[ loss({h}(\\mathbf{x}_{(i)}), y_{(i)}) \\right] \\]"
   ]
  },
  {
   "cell_type": "markdown",
   "id": "bbf2e946",
   "metadata": {},
   "source": [
    "where m is the number of instances in our training set."
   ]
  },
  {
   "cell_type": "markdown",
   "id": "85b81e8d",
   "metadata": {},
   "source": [
    "Now, let’s move on to the implementation:"
   ]
  },
  {
   "cell_type": "markdown",
   "id": "6d3a526c",
   "metadata": {},
   "source": [
    "Look at the code below, where we use compute_cost_logistic to calculate the loss for each example and accumulating the total."
   ]
  },
  {
   "cell_type": "code",
   "execution_count": null,
   "id": "11cb5094",
   "metadata": {},
   "outputs": [],
   "source": [
    "def sigmoid(z):\n",
    "    \"\"\"\n",
    "    Compute the sigmoid of z\n",
    "\n",
    "    Parameters\n",
    "    ----------\n",
    "    z : array_like\n",
    "        A scalar or numpy array of any size.\n",
    "\n",
    "    Returns\n",
    "    -------\n",
    "     g : array_like\n",
    "         sigmoid(z)\n",
    "    \"\"\"\n",
    "    g = 1.0/(1.0+np.exp(-z))\n",
    "\n",
    "    return g\n",
    "\n",
    "\n",
    "eps = 1e-7 #added for numerical stability, to avoid getting the value of 0 or 1\n",
    "def compute_cost_logistic(X, y, w, b):\n",
    "    \"\"\"\n",
    "    Computes cost\n",
    "\n",
    "    Args:\n",
    "      X (ndarray (m,n)): Data, m examples with n features\n",
    "      y (ndarray (m,)) : target values\n",
    "      w (ndarray (n,)) : model parameters  \n",
    "      b (scalar)       : model parameter\n",
    "      \n",
    "    Returns:\n",
    "      cost (scalar): cost\n",
    "    \"\"\"\n",
    "\n",
    "    m = X.shape[0]\n",
    "    cost = 0.0\n",
    "    for i in range(m):\n",
    "        z_i = np.dot(X[i],w) + b\n",
    "        f_wb_i = sigmoid(z_i)\n",
    "        \n",
    "        cost += -y[i]*np.log(f_wb_i + eps) - (1-y[i])*np.log(1-f_wb_i + eps)\n",
    "             \n",
    "    cost = cost / m\n",
    "    return cost"
   ]
  },
  {
   "cell_type": "code",
   "execution_count": null,
   "id": "2a0a9460",
   "metadata": {},
   "outputs": [],
   "source": [
    "import numpy as np\n",
    "\n",
    "X_train = np.array([[7.1, 55], [3.2, 30], [5.8, 65], [2.0, 20], [8.4, 72], \n",
    "              [4.2, 40], [7.6, 60], [2.5, 25], [6.8, 70], [1.7, 22], \n",
    "              [7.5, 68], [3.1, 35], [8.2, 66], [2.2, 28]])\n",
    "\n",
    "y_train = np.array([1, 0, 1, 0, 1, 0, 1, 0, 1, 0, 1, 0, 1, 0])\n",
    "\n",
    "w = np.array([1,1])\n",
    "b = -6\n",
    "\n",
    "cost = compute_cost_logistic(X_train, y_train, w, b)\n",
    "print(f\"Number of errors: {cost}\")"
   ]
  },
  {
   "cell_type": "code",
   "execution_count": null,
   "id": "3e47d8cf",
   "metadata": {},
   "outputs": [],
   "source": [
    "Number of errors: 7.9914896501466695"
   ]
  },
  {
   "cell_type": "markdown",
   "id": "25813ee6",
   "metadata": {},
   "source": [
    "Based on the data owned and the value of \\(w\\) and \\(b\\), when viewed from the results of the compute_cost_logistic function, the total mistakes we got were 7.9915."
   ]
  },
  {
   "cell_type": "markdown",
   "id": "9fb2ae27",
   "metadata": {},
   "source": [
    "Then, is the best amount? Then how do you do it? In other words we want to get the best \\(w\\) and \\(b\\) values that make the lines as close as possible to the spread points."
   ]
  },
  {
   "cell_type": "markdown",
   "id": "407b26e4",
   "metadata": {},
   "source": [
    "Again, at this stage we can use the Scikit-learn library."
   ]
  },
  {
   "cell_type": "markdown",
   "id": "33f33a56",
   "metadata": {},
   "source": [
    "# Logistic Regression using Scikit-Learn"
   ]
  },
  {
   "cell_type": "markdown",
   "id": "7ca104c2",
   "metadata": {},
   "source": [
    "Just like Linear Regression, for our Logistic Regression model, sklearn provides the LogisticRegression class in the sklearn.linear_model module."
   ]
  },
  {
   "cell_type": "markdown",
   "id": "0f389d18",
   "metadata": {},
   "source": [
    "Here’s how you can do it:"
   ]
  },
  {
   "cell_type": "code",
   "execution_count": null,
   "id": "9be41a0a",
   "metadata": {},
   "outputs": [],
   "source": [
    "import numpy as np\n",
    "from sklearn.linear_model import LogisticRegression\n",
    "\n",
    "# your data\n",
    "x_train = np.array([[7.1, 55], [3.2, 30], [5.8, 65], [2.0, 20], [8.4, 72], \n",
    "              [4.2, 40], [7.6, 60], [2.5, 25], [6.8, 70], [1.7, 22], \n",
    "              [7.5, 68], [3.1, 35], [8.2, 66], [2.2, 28]])\n",
    "y_train = np.array([1, 0, 1, 0, 1, 0, 1, 0, 1, 0, 1, 0, 1, 0])\n",
    "\n",
    "lr_model = LogisticRegression()\n",
    "lr_model.fit(x_train, y_train)\n",
    "\n",
    "coefficient = lr_model.coef_\n",
    "intercept = lr_model.intercept_\n",
    "print(f\"Coefficients: {coefficient}\")\n",
    "print(f\"Intercept: {intercept}\")"
   ]
  },
  {
   "cell_type": "code",
   "execution_count": null,
   "id": "84f31826",
   "metadata": {},
   "outputs": [],
   "source": [
    "Coefficients: [[0.08773648 0.4661736 ]]\n",
    "Intercept: [-22.63354811]"
   ]
  },
  {
   "cell_type": "markdown",
   "id": "e2f88844",
   "metadata": {},
   "source": [
    "From the results of the code above, the \\(w\\) (coefficient) value is 0.08773648 and 0.4661736, and for \\(b\\) (intercept) is -22.63354811. That way we can produce the minimum possible error/loss value. Now we look again at the data we have with the new \\(w\\) and \\(b\\) values and what error/loss we get."
   ]
  },
  {
   "cell_type": "code",
   "execution_count": null,
   "id": "1c1f950c",
   "metadata": {},
   "outputs": [],
   "source": [
    "w = np.array([0.08773648, 0.4661736 ])\n",
    "b = -22.63354811\n",
    "\n",
    "cost = compute_cost_logistic(X_train, y_train, w, b)\n",
    "print(f\"Number of errors: {cost}\")"
   ]
  },
  {
   "cell_type": "code",
   "execution_count": null,
   "id": "22234706",
   "metadata": {},
   "outputs": [],
   "source": [
    "Number of errors: 0.004169320992196987"
   ]
  },
  {
   "cell_type": "markdown",
   "id": "8df99629",
   "metadata": {},
   "source": [
    "We can see that the error/loss has decreased from 7.9914 to 0.0042. In this way, the accuracy of tumor classification will increase."
   ]
  },
  {
   "cell_type": "markdown",
   "id": "73584208",
   "metadata": {},
   "source": [
    "Besides helping us determine the right values for the \\(w\\) and \\(b\\) parameters, the sklearn library can also help us calculate the accuracy of our data. Let’s start with the dataset and the prediction made by this model by calling the predict function:"
   ]
  },
  {
   "cell_type": "code",
   "execution_count": null,
   "id": "fddb8de0",
   "metadata": {},
   "outputs": [],
   "source": [
    "y_pred = lr_model.predict(x_train)\n",
    "\n",
    "print(\"Prediction on training set:\", y_pred)"
   ]
  },
  {
   "cell_type": "code",
   "execution_count": null,
   "id": "393f2b25",
   "metadata": {},
   "outputs": [],
   "source": [
    "Prediction on training set: [1 0 1 0 1 0 1 0 1 0 1 0 1 0]"
   ]
  },
  {
   "cell_type": "markdown",
   "id": "86b18d01",
   "metadata": {},
   "source": [
    "Now, we can calculate this accuracy of this model by calling the score function. The output of score is a scalar in the form of a float number between 0 and 1 indicating the percentage of samples correctly classified by the model. - 1: the model successfully classified all samples correctly - 0: the model failed to classify all samples."
   ]
  },
  {
   "cell_type": "code",
   "execution_count": null,
   "id": "96363378",
   "metadata": {},
   "outputs": [],
   "source": [
    "print(\"Accuracy on training set:\", lr_model.score(x_train, y_train))"
   ]
  },
  {
   "cell_type": "code",
   "execution_count": null,
   "id": "36b5895a",
   "metadata": {},
   "outputs": [],
   "source": [
    "Accuracy on training set: 1.0"
   ]
  },
  {
   "cell_type": "markdown",
   "id": "a415bb89",
   "metadata": {},
   "source": [
    "If you look at the score result (1), it means that the model we used successfully predicted all the labels correctly for the given dataset. In other words, the model has 100% accuracy based on the data we used in the score method."
   ]
  },
  {
   "cell_type": "markdown",
   "id": "580e37d5",
   "metadata": {},
   "source": [
    "However, it is necessary to be careful in evaluating this result."
   ]
  },
  {
   "cell_type": "markdown",
   "id": "d5814897",
   "metadata": {},
   "source": [
    "Overfitting: If you see 1 or 100% accuracy on the training dataset, the model may have overfit. That is, the model may have learned the details and noise on the training dataset specifically, at a level where it goes beyond learning the underlying concepts. Overfitting causes the model to be unable to generalize well to new data. We’ll cover more on overfitting later on in the course."
   ]
  },
  {
   "cell_type": "markdown",
   "id": "d071b4b1",
   "metadata": {},
   "source": [
    "Evaluation on Training Data: If you use training data for evaluation (which is done when you call back training data for score), then the results tend to be overoptimistic because the model has ‘seen’ this training data before. It is always important to evaluate the model’s performance on validation or testing data sets that the model has not ‘seen’ to get an unbiased estimate of how the model will perform on data that it has not seen before."
   ]
  },
  {
   "cell_type": "markdown",
   "id": "589b63f3",
   "metadata": {},
   "source": [
    "Data is Easy to Predict: In some cases, the data may be simple enough or the patterns clear enough that the model is able to achieve 1 accuracy. However, this tends to apply to simple or synthetic datasets, and rarely to complex and messy real-world data."
   ]
  },
  {
   "cell_type": "markdown",
   "id": "727c3bb8",
   "metadata": {},
   "source": [
    "So while a 1 score may initially seem like a great result, it could be a sign that you need to examine in more detail how your model works and how you test your model."
   ]
  }
 ],
 "metadata": {},
 "nbformat": 4,
 "nbformat_minor": 5
}
