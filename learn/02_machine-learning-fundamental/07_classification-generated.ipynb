{
 "cells": [
  {
   "cell_type": "markdown",
   "id": "8a2fdb0f",
   "metadata": {},
   "source": [
    "source: [link](https://ai-bootcamp.ruangguru.com/learn/02_machine-learning-fundamental/07_classification.html)"
   ]
  },
  {
   "cell_type": "markdown",
   "id": "eb71c05a",
   "metadata": {},
   "source": [
    "# Classification"
   ]
  },
  {
   "cell_type": "markdown",
   "id": "63217b9a",
   "metadata": {},
   "source": [
    "Having explored how linear regression can help us predict house prices, let’s shift our attention to another powerful technique in the field of supervised learning: classification. While regression is best used for predicting continuous values like house prices, classification comes into its own when we need to sort data into specific categories."
   ]
  },
  {
   "cell_type": "markdown",
   "id": "af3df919",
   "metadata": {},
   "source": [
    "# Introduction to Classification"
   ]
  },
  {
   "cell_type": "markdown",
   "id": "9a799835",
   "metadata": {},
   "source": [
    "Classification is a type of supervised learning where the output is a categorical variable. This means that the algorithm is trained on a labeled dataset, and it uses this training to categorize new, unseen data into specific classes. The output, or label, is a category, such as “spam” or “not spam” for an email classification system, or “malignant” or “benign” for a tumor classification system."
   ]
  },
  {
   "cell_type": "markdown",
   "id": "034b61c8",
   "metadata": {},
   "source": []
  },
  {
   "cell_type": "markdown",
   "id": "a2ca5f34",
   "metadata": {},
   "source": [
    "![Image](https://storage.googleapis.com/rg-ai-bootcamp/machine-learning/classification-min.png)"
   ]
  },
  {
   "cell_type": "markdown",
   "id": "fba9d46c",
   "metadata": {},
   "source": [
    "By convention, we can refer to these two classes or categories in several general ways. We often define clauses as no or yes or sometimes as equivalent to False or True or very commonly use the numbers 0 or 1. One technology commonly used is to call The False or 0 class, The negative class and The True class or 1 class, The positive class."
   ]
  },
  {
   "cell_type": "markdown",
   "id": "e478adde",
   "metadata": {},
   "source": [
    "| False | True |\n",
    "| --- | --- |\n",
    "| No | Yes |\n",
    "| 0 | 1 |\n",
    "| Negative class | Positive class |"
   ]
  },
  {
   "cell_type": "markdown",
   "id": "c386bfca",
   "metadata": {},
   "source": [
    "There are two main types of classification problems:"
   ]
  },
  {
   "cell_type": "markdown",
   "id": "b10481a4",
   "metadata": {},
   "source": [
    "Binary Classification: In binary classification, there are only two possible categories. The tumors classification example mentioned above is a binary classification problem, where the two categories are “malignant” and “benign”."
   ]
  },
  {
   "cell_type": "markdown",
   "id": "fa54e411",
   "metadata": {},
   "source": [
    "Multiclass Classification: In multiclass classification, there are more than two categories. For example, a model that classifies news articles into categories like “sports”, “politics”, “technology”, and “entertainment” would be a multiclass classification problem."
   ]
  },
  {
   "cell_type": "markdown",
   "id": "1a8e4570",
   "metadata": {},
   "source": [
    "Let’s take a closer look at the tumor classification example to understand how classification works."
   ]
  },
  {
   "cell_type": "markdown",
   "id": "e7f0acf6",
   "metadata": {},
   "source": [
    "Imagine you’re a doctor who specializes in diagnosing tumors. Over the years, you’ve seen thousands of patients and have developed an intuition for diagnosing whether a tumor is malignant (cancerous) or benign (not cancerous) based on certain features such as the size of the tumor, its shape, and the rate at which it’s growing."
   ]
  },
  {
   "cell_type": "markdown",
   "id": "d704f7e7",
   "metadata": {},
   "source": [
    "Now, suppose you want to train a machine learning model to do this task. You would start by collecting a dataset of tumors for which you already know the diagnosis. Each tumor in this dataset is labeled either “malignant” or “benign” - these are your classes. The features of each tumor, such as its size, shape, and growth rate, are your input variables."
   ]
  },
  {
   "cell_type": "markdown",
   "id": "3ac3208b",
   "metadata": {},
   "source": []
  },
  {
   "cell_type": "markdown",
   "id": "913938ce",
   "metadata": {},
   "source": [
    "![Image](https://storage.googleapis.com/rg-ai-bootcamp/machine-learning/tumor-classification-min.png)"
   ]
  },
  {
   "cell_type": "markdown",
   "id": "862743e5",
   "metadata": {},
   "source": [
    "You feed this labeled dataset into your classification algorithm, which learns a function that maps the input variables (the features of the tumor) to the output variable (the class label). This function is essentially a decision boundary that separates the different classes based on the input variables."
   ]
  },
  {
   "cell_type": "markdown",
   "id": "e0714be3",
   "metadata": {},
   "source": [
    "Once the model is trained, you can use it to classify new, unseen tumors. You input the features of the new tumor into the model, and it outputs a class label - either “malignant” or “benign”. The model has essentially learned to mimic your decision-making process based on the training you gave it."
   ]
  },
  {
   "cell_type": "markdown",
   "id": "042e5e32",
   "metadata": {},
   "source": [
    "# Types of Classification Algorithms"
   ]
  },
  {
   "cell_type": "markdown",
   "id": "9cd118db",
   "metadata": {},
   "source": [
    "There are many algorithms that can be used for classification tasks, each with its own strengths and weaknesses. Some of the most commonly used ones include:"
   ]
  },
  {
   "cell_type": "markdown",
   "id": "30d1e477",
   "metadata": {},
   "source": [
    "Logistic Regression: Despite its name, logistic regression is used for classification tasks. It uses the logistic function to transform its output into a probability that can be used to predict a class label."
   ]
  },
  {
   "cell_type": "markdown",
   "id": "afda7189",
   "metadata": {},
   "source": [
    "Decision Trees: These are simple yet powerful algorithms that split the feature space into regions. For any new instance, the algorithm checks which region it belongs to and assigns the class label accordingly."
   ]
  },
  {
   "cell_type": "markdown",
   "id": "feb2362c",
   "metadata": {},
   "source": [
    "Random Forests: This is a type of ensemble method that combines multiple decision trees to make a more accurate prediction."
   ]
  },
  {
   "cell_type": "markdown",
   "id": "e5eac0a0",
   "metadata": {},
   "source": [
    "Support Vector Machines (SVMs): SVMs try to find a hyperplane that best separates the classes in the feature space."
   ]
  },
  {
   "cell_type": "markdown",
   "id": "658fbed8",
   "metadata": {},
   "source": [
    "Neural Networks: These are powerful and flexible algorithms that can learn complex patterns. They are particularly useful when dealing with high-dimensional data, such as images."
   ]
  },
  {
   "cell_type": "markdown",
   "id": "eff2f31b",
   "metadata": {},
   "source": [
    "# Euler Number"
   ]
  },
  {
   "cell_type": "markdown",
   "id": "ce1df323",
   "metadata": {},
   "source": [
    "Before we go deeper, let’s learn a bit of Math first."
   ]
  },
  {
   "cell_type": "markdown",
   "id": "1b51ef27",
   "metadata": {},
   "source": [
    "Euler’s number, often denoted as e, is a special mathematical constant that is approximately equal to 2.71828. It’s named after the Swiss mathematician Leonhard Euler. Euler’s number is the base of natural logarithms and has several unique properties that make it fundamental in mathematics, especially in calculus."
   ]
  },
  {
   "cell_type": "markdown",
   "id": "69cf391f",
   "metadata": {},
   "source": [
    "But where does Euler’s number come from? Euler’s number arises naturally when dealing with growth phenomena. Let’s use a simple compound interest analogy:"
   ]
  },
  {
   "cell_type": "markdown",
   "id": "14cf7ad0",
   "metadata": {},
   "source": [
    "Suppose you have $1 and you’re getting 100% interest per year."
   ]
  },
  {
   "cell_type": "markdown",
   "id": "63b1b118",
   "metadata": {},
   "source": [
    "- If the interest is compounded annually (i.e., at the end of the year), after one year you’ll have$2.\n",
    "- If the interest is compounded semi-annually (twice a year), you would get more than $2. Specifically, you would getsqrt(2)^2 = 2.25."
   ]
  },
  {
   "cell_type": "markdown",
   "id": "19c62b39",
   "metadata": {},
   "source": [
    "If the interest is compounded annually (i.e., at the end of the year), after one year you’ll have $2."
   ]
  },
  {
   "cell_type": "markdown",
   "id": "86c91ea7",
   "metadata": {},
   "source": [
    "If the interest is compounded semi-annually (twice a year), you would get more than $2. Specifically, you would get sqrt(2)^2 = 2.25."
   ]
  },
  {
   "cell_type": "markdown",
   "id": "28064c5f",
   "metadata": {},
   "source": [
    "As we increase the frequency of compounding, the total amount after 1 year increases."
   ]
  },
  {
   "cell_type": "markdown",
   "id": "64d64a74",
   "metadata": {},
   "source": [
    "- If we compound quarterly, we get around$2.4414.\n",
    "- Compounding monthly gives us around$2.6130.\n",
    "- Compounding daily increases the amount to approximately$2.7146."
   ]
  },
  {
   "cell_type": "markdown",
   "id": "c43c3efc",
   "metadata": {},
   "source": [
    "As we continue compounding more frequently (every minute, every second, and so on), the limit we reach as the compounding gets infinitely frequent is precisely Euler’s number e dollars or around $2.71828."
   ]
  },
  {
   "cell_type": "markdown",
   "id": "b77a7c84",
   "metadata": {},
   "source": [
    "| Compounded per yearn | Total Amount after 1 year |\n",
    "| --- | --- |\n",
    "| 1 (annually) | 2 |\n",
    "| 2 (semi-annually) | 2.25 |\n",
    "| 4 (quarterly) | 2.4414 |\n",
    "| 12 (monthly) | 2.6130 |\n",
    "| 365 (daily) | 2.7146 |\n",
    "| 1,000 | 2.7169 |\n",
    "| 10,000 | 2.7181 |\n",
    "| 100,000 | 2.7182 |\n",
    "| 1,000,000 | 2.71828 |\n",
    "| ∞ (continuously) | e ≈ 2.71828 |"
   ]
  },
  {
   "cell_type": "markdown",
   "id": "bdad02b8",
   "metadata": {},
   "source": [
    "You can also try using different interest rates in here: Eulers number"
   ]
  },
  {
   "cell_type": "markdown",
   "id": "04eef01b",
   "metadata": {},
   "source": [
    "As n becomes very large, this expression approaches e. The mathematical formula is:"
   ]
  },
  {
   "cell_type": "markdown",
   "id": "bd3d2c63",
   "metadata": {},
   "source": [
    "\\[e = (1 + \\frac{1}{n})^n\\]"
   ]
  },
  {
   "cell_type": "markdown",
   "id": "dbfee488",
   "metadata": {},
   "source": [
    "If a quantity grows at a rate proportional to its current size—a property known as “exponential growth”—then that growth is often described naturally using e."
   ]
  },
  {
   "cell_type": "markdown",
   "id": "dc05db2c",
   "metadata": {},
   "source": [
    "Here are a few other examples:"
   ]
  },
  {
   "cell_type": "markdown",
   "id": "d9cc60ec",
   "metadata": {},
   "source": [
    "- In population biology, if a population of organisms grows without bounds (i.e., has unlimited resources and no competition or predation), the population will grow exponentially over time. This growth can be modeled usinge.\n",
    "- In physics, certain quantities decay exponentially, like radioactive substances or the damping of a pendulum. The decay is often modeled usinge."
   ]
  },
  {
   "cell_type": "markdown",
   "id": "dea46a93",
   "metadata": {},
   "source": [
    "In population biology, if a population of organisms grows without bounds (i.e., has unlimited resources and no competition or predation), the population will grow exponentially over time. This growth can be modeled using e."
   ]
  },
  {
   "cell_type": "markdown",
   "id": "5d99e272",
   "metadata": {},
   "source": [
    "In physics, certain quantities decay exponentially, like radioactive substances or the damping of a pendulum. The decay is often modeled using e."
   ]
  },
  {
   "cell_type": "markdown",
   "id": "422790f1",
   "metadata": {},
   "source": [
    "So, while e is often associated with growth, it’s specifically constant proportional growth (or decay)—in other words, situations where the rate of change of a quantity is proportional to the quantity itself. It helps us model and understand phenomena where things grow proportionally to their current amount, a kind of growth that’s common in nature and financial systems."
   ]
  },
  {
   "cell_type": "markdown",
   "id": "4d508fe3",
   "metadata": {},
   "source": [
    "In NumPy, you can use Euler’s number with the exp() function. Here’s how you can get the value of e:"
   ]
  },
  {
   "cell_type": "code",
   "execution_count": null,
   "id": "85d0447d",
   "metadata": {},
   "outputs": [],
   "source": [
    "import numpy as np\n",
    "print(np.exp())"
   ]
  },
  {
   "cell_type": "markdown",
   "id": "6a20dd2c",
   "metadata": {},
   "source": [
    "Here is an example of how Euler's Number is used in Numpy with the exp() function:"
   ]
  },
  {
   "cell_type": "code",
   "execution_count": null,
   "id": "43d95c49",
   "metadata": {},
   "outputs": [],
   "source": [
    "import numpy as np\n",
    "\n",
    "# Input is a single number\n",
    "print(np.exp(1))\n",
    "print(np.exp(2))\n",
    "\n",
    "# Input is an array\n",
    "print(np.exp(np.array([1,2,3])))"
   ]
  },
  {
   "cell_type": "code",
   "execution_count": null,
   "id": "c0c55c3d",
   "metadata": {},
   "outputs": [],
   "source": [
    "2.718281828459045\n",
    "7.38905609893065\n",
    "[ 2.71828183  7.3890561  20.08553692]"
   ]
  },
  {
   "cell_type": "markdown",
   "id": "a7f8c12d",
   "metadata": {},
   "source": [
    "We won’t go too deep into Euler’s number or e, we’ll focus more on the practical use, for now we’ll use e as a constant in our machine learning calculation."
   ]
  },
  {
   "cell_type": "markdown",
   "id": "cf0c8d36",
   "metadata": {},
   "source": [
    "# Sigmoid Function"
   ]
  },
  {
   "cell_type": "markdown",
   "id": "72073fa1",
   "metadata": {},
   "source": [
    "Now, we’ll take a look at Sigmoid function. Let’s see what the it looks like:"
   ]
  },
  {
   "cell_type": "code",
   "execution_count": null,
   "id": "3340729f",
   "metadata": {},
   "outputs": [],
   "source": [
    "import numpy as np\n",
    "import matplotlib.pyplot as plt\n",
    "\n",
    "# Create a sigmoid function\n",
    "def sigmoid(x):\n",
    "    return 1 / (1 + np.exp(-x))\n",
    "\n",
    "# Generate x values\n",
    "x = np.linspace(-10, 10, 100)\n",
    "\n",
    "# Compute sigmoid(x)\n",
    "y = sigmoid(x)\n",
    "\n",
    "# Create the plot\n",
    "plt.figure(figsize=(9, 6))\n",
    "plt.plot(x, y, label=\"sigmoid function\")\n",
    "plt.title('Sigmoid Function')\n",
    "plt.legend(loc='best')\n",
    "plt.show()"
   ]
  },
  {
   "cell_type": "markdown",
   "id": "9c273c4e",
   "metadata": {},
   "source": []
  },
  {
   "cell_type": "markdown",
   "id": "031627dc",
   "metadata": {},
   "source": [
    "The mathematical formula for a Sigmoid function is as follows:"
   ]
  },
  {
   "cell_type": "markdown",
   "id": "4d06147e",
   "metadata": {},
   "source": [
    "\\[g(z) = \\frac{1}{1+e^{-z}}\\]"
   ]
  },
  {
   "cell_type": "markdown",
   "id": "99c82be2",
   "metadata": {},
   "source": [
    "The sigmoid function is implemented in python as shown in the cell below."
   ]
  },
  {
   "cell_type": "code",
   "execution_count": null,
   "id": "2409a38a",
   "metadata": {},
   "outputs": [],
   "source": [
    "def sigmoid(z):\n",
    "    \"\"\"\n",
    "    Compute the sigmoid of z\n",
    "\n",
    "    Args:\n",
    "        z (ndarray): A scalar, numpy array of any size.\n",
    "\n",
    "    Returns:\n",
    "        g (ndarray): sigmoid(z), with the same shape as z\n",
    "         \n",
    "    \"\"\"\n",
    "\n",
    "    g = 1/(1+np.exp(-z))\n",
    "   \n",
    "    return g"
   ]
  },
  {
   "cell_type": "markdown",
   "id": "486aa954",
   "metadata": {},
   "source": [
    "Let’s examine the results this function generates for different z values."
   ]
  },
  {
   "cell_type": "code",
   "execution_count": null,
   "id": "244d2e1d",
   "metadata": {},
   "outputs": [],
   "source": [
    "import numpy as np\n",
    "import matplotlib.pyplot as plt\n",
    "\n",
    "z_tmp = np.arange(-5,5)\n",
    "y = sigmoid(z_tmp)\n",
    "np.set_printoptions(precision=3) \n",
    "print(\"Input (z), Output (sigmoid(z))\")\n",
    "print(np.c_[z_tmp, y])"
   ]
  },
  {
   "cell_type": "code",
   "execution_count": null,
   "id": "8bd96c1a",
   "metadata": {},
   "outputs": [],
   "source": [
    "Input (z), Output (sigmoid(z))\n",
    "[[-5.     0.007]\n",
    " [-4.     0.018]\n",
    " [-3.     0.047]\n",
    " [-2.     0.119]\n",
    " [-1.     0.269]\n",
    " [ 0.     0.5  ]\n",
    " [ 1.     0.731]\n",
    " [ 2.     0.881]\n",
    " [ 3.     0.953]\n",
    " [ 4.     0.982]]"
   ]
  },
  {
   "cell_type": "markdown",
   "id": "71de8f6e",
   "metadata": {},
   "source": [
    "The left column represents z, while the right column signifies sigmoid(z). It’s clear to see that the input values for the sigmoid fall between -5 and 5, and the resulting outputs are dispersed from 0 to 1. The value will never touch 0 and 1 but will be very close to 0 and 1."
   ]
  },
  {
   "cell_type": "markdown",
   "id": "70d8c434",
   "metadata": {},
   "source": [
    "Now, let’s attempt to visualize this function through the use of the matplotlib library."
   ]
  },
  {
   "cell_type": "code",
   "execution_count": null,
   "id": "bcd10928",
   "metadata": {},
   "outputs": [],
   "source": [
    "#in local environment you may need to install ipywidgets first\n",
    "\n",
    "import numpy as np\n",
    "import matplotlib.pyplot as plt\n",
    "from ipywidgets import interact\n",
    "\n",
    "def plot_func(left=-5, right=5):\n",
    "    z_tmp = np.arange(left,right)\n",
    "    y = sigmoid(z_tmp)\n",
    "\n",
    "    plt.figure(figsize=(5, 3))\n",
    "    plt.plot(z_tmp, y, c=\"b\")\n",
    "    plt.title('Sigmoid Function')\n",
    "    plt.ylabel('sigmoid(z)')\n",
    "    plt.xlabel('z')\n",
    "    plt.show()\n",
    "\n",
    "interact(plot_func, left=(-10.0, 10.0), right=(-10.0, 10.0))"
   ]
  },
  {
   "cell_type": "code",
   "execution_count": null,
   "id": "ee02bc23",
   "metadata": {},
   "outputs": [],
   "source": [
    "<function __main__.plot_func(left=-5, right=5)>"
   ]
  },
  {
   "cell_type": "markdown",
   "id": "92f46f0b",
   "metadata": {},
   "source": [
    "What you can observe here is the behavior of the sigmoid function: - Tends towards 0 when z is a significantly negative value - Gradually ascends towards 1 when z becomes a large positive value."
   ]
  },
  {
   "cell_type": "markdown",
   "id": "50ef32ce",
   "metadata": {},
   "source": [
    "Note: Try changing the number -5,5 in the line above z_tmp = np.arange(-5,5) to other numbers and notice the shape of the function."
   ]
  },
  {
   "cell_type": "markdown",
   "id": "65c15ae2",
   "metadata": {},
   "source": [
    "In summary, the Sigmoid function will map any numeric ranges including big ranges -Infinity to Infinity values to 0 and 1."
   ]
  },
  {
   "cell_type": "markdown",
   "id": "82b4d35a",
   "metadata": {},
   "source": [
    "Now, let’s see what we learn Sigmoid function for."
   ]
  },
  {
   "cell_type": "markdown",
   "id": "d90e8e6e",
   "metadata": {},
   "source": [
    "# Logistic Regression"
   ]
  },
  {
   "cell_type": "markdown",
   "id": "9365905d",
   "metadata": {},
   "source": [
    "Logistic Regression is a classification algorithm used when the response variable is categorical. For instance, it can be used for cancer detection problems (like our tumor example) where the task is to predict a category - malignant or benign. To build out to the logistic regression algorithm, we’ll use The Sigmoid function."
   ]
  },
  {
   "cell_type": "markdown",
   "id": "700ce63c",
   "metadata": {},
   "source": [
    "The Sigmoid function is a fundamental part of logistic regression. It maps any real-valued number into the range [0, 1], which can be interpreted as a probability for binary classification."
   ]
  },
  {
   "cell_type": "markdown",
   "id": "3ede2a75",
   "metadata": {},
   "source": [
    "Let’s start with what we know, previously we use linear equation to help us find a model that fits our data. Which is a straight line, then we fine tune the line using parameter w and b."
   ]
  },
  {
   "cell_type": "code",
   "execution_count": null,
   "id": "e2accc92",
   "metadata": {},
   "outputs": [],
   "source": [
    "import numpy as np\n",
    "import matplotlib.pyplot as plt\n",
    "\n",
    "# Generate x values\n",
    "x = np.linspace(-10, 10, 100)\n",
    "\n",
    "# Define slope (m) and y-intercept (b)\n",
    "w = 2\n",
    "b = 1\n",
    "\n",
    "# Compute y = wx + b\n",
    "y = w*x + b\n",
    "\n",
    "# Create the plot\n",
    "plt.figure(figsize=(9, 6))\n",
    "plt.plot(x, y, label=\"linear function\")\n",
    "plt.title('Linear Function')\n",
    "plt.legend(loc='best')\n",
    "plt.show()"
   ]
  },
  {
   "cell_type": "markdown",
   "id": "d96767dc",
   "metadata": {},
   "source": []
  },
  {
   "cell_type": "markdown",
   "id": "dda6f4da",
   "metadata": {},
   "source": [
    "However in the case of our data, we need to find a model that is a better fit for our data. In the case of our tumor dataset, we need to map it to return only malignant or benign, or simply 1 or 0. Which is known as binary classification."
   ]
  },
  {
   "cell_type": "markdown",
   "id": "c4c37552",
   "metadata": {},
   "source": [
    "Scaling our data to fit the maximum of 1 and minimum of 0 is difficult, isn’t it ?"
   ]
  },
  {
   "cell_type": "markdown",
   "id": "9f30893e",
   "metadata": {},
   "source": [
    "We can input our linear equation into the Sigmoid function which will then “flatten” the line to “S” like curve we see above."
   ]
  },
  {
   "cell_type": "markdown",
   "id": "5d704e88",
   "metadata": {},
   "source": [
    "If you recall the tumor graph above, the data is clustered around 0 and 1, so it’s kind of hard to plot a straight line through the data. The Sigmoid function by flattening the upper and bottom part around 0 and 1."
   ]
  },
  {
   "cell_type": "markdown",
   "id": "30a6b308",
   "metadata": {},
   "source": [
    "We can write our logistic regression model combining our linear equation with sigmoid function as shown below:"
   ]
  },
  {
   "cell_type": "markdown",
   "id": "55b0e1ee",
   "metadata": {},
   "source": [
    "\\[ f(\\mathbf{x}_{(i)}) = g(\\mathbf{w} \\cdot \\mathbf{x}_{(i)} + b )\\]"
   ]
  },
  {
   "cell_type": "markdown",
   "id": "0bbf900c",
   "metadata": {},
   "source": [
    "where"
   ]
  },
  {
   "cell_type": "markdown",
   "id": "73055256",
   "metadata": {},
   "source": [
    "\\[g(z) = \\frac{1}{1+e^{-z}}\\]"
   ]
  },
  {
   "cell_type": "markdown",
   "id": "8fff7310",
   "metadata": {},
   "source": [
    "and \\(\\mathbf{w} \\cdot \\mathbf{x}\\) is the vector dot product:"
   ]
  },
  {
   "cell_type": "markdown",
   "id": "c684701e",
   "metadata": {},
   "source": [
    "\\[\\mathbf{w} \\cdot \\mathbf{x} = w_0 x_0 + w_1 x_1\\]"
   ]
  },
  {
   "cell_type": "markdown",
   "id": "bc6b5c82",
   "metadata": {},
   "source": [
    "# Case study"
   ]
  },
  {
   "cell_type": "markdown",
   "id": "968fa67e",
   "metadata": {},
   "source": [
    "After understanding the basics of logistic regression, let’s get back to our case example, tumour classification. We have two features for our logistic regression model: tumor size and patient age. Let’s call these features \\(x_1\\) to \\(x_2\\). Since this is a binary classification task, the target label \\(y\\) takes only two values, 0 or 1."
   ]
  },
  {
   "cell_type": "markdown",
   "id": "0b10149d",
   "metadata": {},
   "source": [
    "| Tumour Size (cm) (\\(x_1\\)) | Patient Age (\\(x_2\\)) | Malignant Status (\\(y\\)) |\n",
    "| --- | --- | --- |\n",
    "| 7.1 | 55 | 1 |\n",
    "| 3.2 | 30 | 0 |\n",
    "| 5.8 | 65 | 1 |\n",
    "| 2.0 | 20 | 0 |\n",
    "| 8.4 | 72 | 1 |\n",
    "| 4.2 | 40 | 0 |\n",
    "| 7.6 | 60 | 1 |\n",
    "| 2.5 | 25 | 0 |\n",
    "| 6.8 | 70 | 1 |\n",
    "| 1.7 | 22 | 0 |\n",
    "| 7.5 | 68 | 1 |\n",
    "| 3.1 | 35 | 0 |\n",
    "| 8.2 | 66 | 1 |\n",
    "| 2.2 | 28 | 0 |"
   ]
  },
  {
   "cell_type": "markdown",
   "id": "f9f2fcfb",
   "metadata": {},
   "source": [
    "For our lesson, we’ll focus on using only 1 feature, because it’s easier to visualize."
   ]
  },
  {
   "cell_type": "markdown",
   "id": "fc8d025c",
   "metadata": {},
   "source": [
    "Let’s take a look at Tumour Size:"
   ]
  },
  {
   "cell_type": "code",
   "execution_count": null,
   "id": "79e592e0",
   "metadata": {},
   "outputs": [],
   "source": [
    "import numpy as np\n",
    "\n",
    "#Given data\n",
    "data = {\n",
    "    'Tumour Size (cm)': [7.1, 3.2, 5.8, 2.0, 8.4, 4.2, 7.6, 2.5, 6.8, 1.7, 7.5, 3.1, 8.2, 2.2],\n",
    "    'Patient Age': [55, 30, 65, 20, 72, 40, 60, 25, 70, 22, 68, 35, 66, 28],\n",
    "    'Malignant Status': [1, 0, 1, 0, 1, 0, 1, 0, 1, 0, 1, 0, 1, 0]\n",
    "}\n",
    "\n",
    "# Create a dataframe\n",
    "df = pd.DataFrame(data)\n",
    "\n",
    "# Define your data\n",
    "tumour_size = df['Tumour Size (cm)']\n",
    "malignant_status = df['Malignant Status']\n",
    "\n",
    "# Create scatter plot\n",
    "plt.scatter(patient_age, malignant_status)\n",
    "plt.xlabel('Tumour Size (cm)')\n",
    "plt.ylabel('Malignant Status')\n",
    "plt.title('Tumour Size vs Malignant Status')\n",
    "plt.show()"
   ]
  },
  {
   "cell_type": "markdown",
   "id": "b0459fdb",
   "metadata": {},
   "source": []
  },
  {
   "cell_type": "markdown",
   "id": "f514c1a4",
   "metadata": {},
   "source": [
    "Now, let’s try using linear regression model to this data:"
   ]
  },
  {
   "cell_type": "code",
   "execution_count": null,
   "id": "84efbd95",
   "metadata": {},
   "outputs": [],
   "source": [
    "# Presumed values of w and b, replace with your own values\n",
    "w = 0.6 #0.60562\n",
    "b = -2.5 #-2.4966\n",
    "\n",
    "# Create input range, using min and max of your data\n",
    "\n",
    "y = w*x + b\n",
    "\n",
    "# Create scatter plot\n",
    "plt.scatter(tumour_size, malignant_status, color='blue')\n",
    "plt.plot(x, y, '-r', label='y=wx+b')\n",
    "plt.title('Fitting Linear Regression')\n",
    "plt.xlabel('Tumour Size (cm)', color='#1C2833')\n",
    "plt.ylabel('Malignant Status', color='#1C2833')\n",
    "plt.ylim([-0.5, 1.5])  # Set the limits of y-axis here\n",
    "plt.legend(loc='best')\n",
    "plt.grid()\n",
    "plt.show()"
   ]
  },
  {
   "cell_type": "markdown",
   "id": "f04c40e8",
   "metadata": {},
   "source": []
  },
  {
   "cell_type": "markdown",
   "id": "482f8f3e",
   "metadata": {},
   "source": [
    "Now let’s try plotting the sigmoid function, keep in mind that if the linear regression is wrong, the result will also be wrong."
   ]
  },
  {
   "cell_type": "markdown",
   "id": "6f3dd55c",
   "metadata": {},
   "source": [
    "As we can see, the Logistic Regression line is somewhere inside the range of 0 and 1 and will always be inside that range."
   ]
  },
  {
   "cell_type": "code",
   "execution_count": null,
   "id": "24aa1d4d",
   "metadata": {},
   "outputs": [],
   "source": [
    "# Define sigmoid function\n",
    "def sigmoid(z):\n",
    "    return 1 / (1 + np.exp(-z))\n",
    "\n",
    "# Create input range, using min and max of your data\n",
    "y_sigmoid = sigmoid(y)\n",
    "\n",
    "# Create scatter plot\n",
    "plt.scatter(tumour_size, malignant_status, color='blue')\n",
    "plt.plot(x, y, '-r', label='Linear Regression')\n",
    "plt.plot(x, y_sigmoid, '-g', label='Logistic Regression')\n",
    "plt.title('Graph of Linear and Logistic Regression')\n",
    "plt.xlabel('Tumour Size (cm)', color='#1C2833')\n",
    "plt.ylabel('Malignant Status', color='#1C2833')\n",
    "plt.ylim([-0.5, 1.5])  # Set the limits of y-axis here\n",
    "plt.legend(loc='best')\n",
    "plt.grid()\n",
    "plt.show()"
   ]
  },
  {
   "cell_type": "markdown",
   "id": "962306e7",
   "metadata": {},
   "source": []
  },
  {
   "cell_type": "markdown",
   "id": "5bb6b808",
   "metadata": {},
   "source": [
    "Based on the visualization above, we can say that if a patient comes in and he has a tumor of a certain size, and if based on this input, our model would add 0.6, then what that means is that the model is predicting or the model thinks there is a 60 percent chance that the correct label y will equal 1 for this patient. In other words, the model is telling us that it thinks the patient has a 60 percent chance of the tumor turning malignant."
   ]
  },
  {
   "cell_type": "markdown",
   "id": "e9c946e0",
   "metadata": {},
   "source": [
    "Now, our question is if \\(y\\) has a 60 percent chance of being 1, what is its chance of being 0? Don’t we know that \\(y\\) must be 0 or 1?"
   ]
  },
  {
   "cell_type": "markdown",
   "id": "2dfdf389",
   "metadata": {},
   "source": [
    "# Decision Boundaries"
   ]
  },
  {
   "cell_type": "markdown",
   "id": "a5f144b2",
   "metadata": {},
   "source": [
    "The decision boundary is a threshold that determines the class of an output. This output can be interpreted as the probability that a given input point belongs to a certain class."
   ]
  },
  {
   "cell_type": "markdown",
   "id": "412d597d",
   "metadata": {},
   "source": [
    "During the training process, the logistic regression model determines the optimal values for \\(w\\) and \\(b\\) to best separate the classes. The model’s output is given by the sigmoid function applied on the weighted sum of the features. This function transforms its input into a value between 0 and 1, which we interpret as the probability that a given input belongs to a certain class. The decision boundary occurs where the model’s predicted probability is 0.5, indicating an equal uncertainty for both classes."
   ]
  },
  {
   "cell_type": "markdown",
   "id": "9e17ea7b",
   "metadata": {},
   "source": [
    "The output of the logistic regression model is given by the sigmoid function of the weighted sum of features, i.e.,"
   ]
  },
  {
   "cell_type": "markdown",
   "id": "0c756f95",
   "metadata": {},
   "source": [
    "\\[ p(y=1|x;\\mathbf{w},b) = \\sigma(\\mathbf{w}^T \\mathbf{x} + b) \\]"
   ]
  },
  {
   "cell_type": "markdown",
   "id": "a82b65c0",
   "metadata": {},
   "source": [
    "where:"
   ]
  },
  {
   "cell_type": "markdown",
   "id": "e0e23e3e",
   "metadata": {},
   "source": [
    "- \\(\\mathbf{x}\\)is the feature vector,\n",
    "- \\(\\mathbf{w}\\)is the weights vector,\n",
    "- \\(b\\)is the bias,\n",
    "- \\(\\sigma(z)\\)is the sigmoid function defined as\\(\\sigma(z) = \\frac{1}{1+e^{-z}}\\)"
   ]
  },
  {
   "cell_type": "markdown",
   "id": "dd4f05e4",
   "metadata": {},
   "source": [
    "The sigmoid function transforms its input into a value between 0 and 1, which can be interpreted as a probability."
   ]
  },
  {
   "cell_type": "markdown",
   "id": "0c5d114c",
   "metadata": {},
   "source": [
    "The decision boundary in logistic regression is the point where the model outputs a probability of 0.5. That means the model is equally uncertain about both classes."
   ]
  },
  {
   "cell_type": "markdown",
   "id": "b3874609",
   "metadata": {},
   "source": [
    "If we set the sigmoid function equal to 0.5 and solve for \\(z\\), we get:"
   ]
  },
  {
   "cell_type": "markdown",
   "id": "47788c94",
   "metadata": {},
   "source": [
    "\\[ \\frac{1}{1+e^{-z}} = 0.5 \\]"
   ]
  },
  {
   "cell_type": "markdown",
   "id": "9666412e",
   "metadata": {},
   "source": [
    "This simplifies to \\(z=0\\) after some basic algebra. Because \\(z\\) is the input to the sigmoid function, and that input is the linear combination of the features (\\(\\mathbf{w}^T \\mathbf{x} + b\\)), we get:"
   ]
  },
  {
   "cell_type": "markdown",
   "id": "12548e0f",
   "metadata": {},
   "source": [
    "\\[ \\mathbf{w}^T \\mathbf{x} + b = 0 \\]"
   ]
  },
  {
   "cell_type": "markdown",
   "id": "101f8f44",
   "metadata": {},
   "source": [
    "Hence, the decision boundary is the solution to the above equation. This is why the decision boundary equation corresponds to a probability of 0.5."
   ]
  },
  {
   "cell_type": "markdown",
   "id": "2129251a",
   "metadata": {},
   "source": [
    "So the equation for decision boundary is:"
   ]
  },
  {
   "cell_type": "markdown",
   "id": "63ccb51a",
   "metadata": {},
   "source": [
    "\\(w \\cdot x + b = 0\\)"
   ]
  },
  {
   "cell_type": "markdown",
   "id": "a4cd479b",
   "metadata": {},
   "source": [
    "Where: - \\(w\\) represents the weights or coefficients corresponding to each feature - \\(x\\) represents the feature values - \\(b\\) is the bias or intercept term"
   ]
  },
  {
   "cell_type": "markdown",
   "id": "50a70d33",
   "metadata": {},
   "source": [
    "The dot product \\(w \\cdot x\\) sums up the product of each feature value with its corresponding weight. This sum, plus the bias, equals zero at the decision boundary. Thus, the decision boundary marks the threshold at which the model’s predicted probability changes from favoring one class to favor the other."
   ]
  },
  {
   "cell_type": "markdown",
   "id": "ae3f9f70",
   "metadata": {},
   "source": [
    "Let’s apply it to Python code using scikit-learn:"
   ]
  },
  {
   "cell_type": "code",
   "execution_count": null,
   "id": "e9b25b59",
   "metadata": {},
   "outputs": [],
   "source": [
    "import numpy as np\n",
    "import matplotlib.pyplot as plt\n",
    "from sklearn.linear_model import LogisticRegression\n",
    "\n",
    "# Feature (Tumour Size)\n",
    "X = tumour_size.values.reshape(-1,1)\n",
    "\n",
    "# Target variable (Malignant Status)\n",
    "y = malignant_status\n",
    "\n",
    "model = LogisticRegression()\n",
    "model.fit(X, y)\n",
    "\n",
    "# Calculate the decision boundary\n",
    "decision_boundary = -model.intercept_/model.coef_\n",
    "decision_boundary = decision_boundary[0][0]  # Extract the value from the numpy array\n",
    "\n",
    "# Plot the data along with the decision boundary\n",
    "plt.figure(figsize=(8,6))\n",
    "plt.scatter(X[y==0], y[y==0], color='b', label='0: Benign')\n",
    "plt.scatter(X[y==1], y[y==1], color='r', label='1: Malignant')\n",
    "plt.plot([decision_boundary, decision_boundary], [-1, 2], \"k:\", label=\"Decision Boundary\")\n",
    "plt.plot(x, y_sigmoid, '-g', label='Logistic Regression')\n",
    "plt.xlabel('Tumour Size (cm)')\n",
    "plt.ylabel('Malignant Status')\n",
    "plt.legend()\n",
    "plt.show()"
   ]
  },
  {
   "cell_type": "markdown",
   "id": "393b6604",
   "metadata": {},
   "source": []
  },
  {
   "cell_type": "markdown",
   "id": "d6103ff5",
   "metadata": {},
   "source": [
    "Why in the code above, the calculation becomes decision_boundary = -model.intercept_/model.coef_ ?"
   ]
  },
  {
   "cell_type": "markdown",
   "id": "40c54204",
   "metadata": {},
   "source": [
    "Keeping in mind the equation for decision boundary is w.x + b = 0"
   ]
  },
  {
   "cell_type": "markdown",
   "id": "11369b12",
   "metadata": {},
   "source": [
    "- wis the weight vector\n",
    "- xis the input vector\n",
    "- bis the bias term"
   ]
  },
  {
   "cell_type": "markdown",
   "id": "66dff694",
   "metadata": {},
   "source": [
    "In scikit-learn, model.coef_ corresponds to w and model.intercept_ corresponds to b in the above equation."
   ]
  },
  {
   "cell_type": "markdown",
   "id": "3cb67d27",
   "metadata": {},
   "source": [
    "So if we rearrange the equation w.x + b = 0 to solve for x (the decision boundary), we get x = -b / w."
   ]
  },
  {
   "cell_type": "markdown",
   "id": "1cad5cd2",
   "metadata": {},
   "source": [
    "One more thing, to answer the question from earlier, if y = 0.6, then based on the decision boundary above, it will be marked as 1 (malignant)."
   ]
  },
  {
   "cell_type": "markdown",
   "id": "37dd52a9",
   "metadata": {},
   "source": [
    "# Cost Function for Logistic Regression"
   ]
  },
  {
   "cell_type": "markdown",
   "id": "41333d03",
   "metadata": {},
   "source": [
    "The question we want you to answer is, given the training set, how can you choose the parameters \\(w\\) and \\(b\\) that will best fit the data? This is where we will again use the cost function."
   ]
  },
  {
   "cell_type": "markdown",
   "id": "fcc80578",
   "metadata": {},
   "source": [
    "You might remember that the cost function gives you a way to measure how well a certain set of parameters fit the training data. As such, it gives you a way to try to choose better parameters. The cost function measures how well the logistic regression model is doing on the training data. It quantifies the error between the predicted probabilities (output of the sigmoid function) and the actual class labels in the training data."
   ]
  },
  {
   "cell_type": "markdown",
   "id": "03a0818b",
   "metadata": {},
   "source": [
    "Logistic Regression uses a loss function more suited to the task of categorization where the target is 0 or 1 rather than any number."
   ]
  },
  {
   "cell_type": "markdown",
   "id": "8ed99cfc",
   "metadata": {},
   "source": [
    "Loss is a measure of the difference of a single example to its target value while the\n",
    "Cost is a measure of the losses over the training set"
   ]
  },
  {
   "cell_type": "markdown",
   "id": "36cd2d9f",
   "metadata": {},
   "source": [
    "In logistic regression, we use the Log Loss or Binary Cross-Entropy Loss as the cost function."
   ]
  },
  {
   "cell_type": "markdown",
   "id": "1e3e964f",
   "metadata": {},
   "source": [
    "Take a look at the following graph plot:"
   ]
  },
  {
   "cell_type": "markdown",
   "id": "d04b9d35",
   "metadata": {},
   "source": []
  },
  {
   "cell_type": "markdown",
   "id": "28a497f5",
   "metadata": {},
   "source": [
    "![Image](https://miro.medium.com/max/1200/1*yWzKLQhWITQ4bR2aMSVVuw.png)"
   ]
  },
  {
   "cell_type": "markdown",
   "id": "1d9b5b4d",
   "metadata": {},
   "source": [
    "Source: Miro on Medium"
   ]
  },
  {
   "cell_type": "markdown",
   "id": "34059d05",
   "metadata": {},
   "source": [
    "Let’s break it down: - h(x) is the predicted probability of the positive class. This is the output of our logistic regression model, which is the sigmoid of our linear model. The sigmoid function maps any real valued number to the (0, 1) range, which can be used for classification."
   ]
  },
  {
   "cell_type": "markdown",
   "id": "0e800bf3",
   "metadata": {},
   "source": [
    "- yis the actual class (0 or 1). In binary classification problems, we have two classes represented as 0 and 1."
   ]
  },
  {
   "cell_type": "markdown",
   "id": "4800a69d",
   "metadata": {},
   "source": [
    "The cost function consists of two parts:"
   ]
  },
  {
   "cell_type": "markdown",
   "id": "a8fcf206",
   "metadata": {},
   "source": [
    "- -y log(h(x)): This part of the cost function is used when the actual class (y) is 1. If our model predicts close to 1 (h(x) ~ 1), the cost is low, but if our model predicts close to 0 (h(x) ~ 0), the cost is high.\n",
    "- -(1 − y) log(1 − h(x)): This part of the cost function is used when the actual class (y) is 0. If our model predicts close to 0 (h(x) ~ 0), the cost is low, but if our model predicts close to 1 (h(x) ~ 1), the cost is high."
   ]
  },
  {
   "cell_type": "markdown",
   "id": "77b4da3c",
   "metadata": {},
   "source": [
    "-y log(h(x)): This part of the cost function is used when the actual class (y) is 1. If our model predicts close to 1 (h(x) ~ 1), the cost is low, but if our model predicts close to 0 (h(x) ~ 0), the cost is high."
   ]
  },
  {
   "cell_type": "markdown",
   "id": "f397fde9",
   "metadata": {},
   "source": [
    "-(1 − y) log(1 − h(x)): This part of the cost function is used when the actual class (y) is 0. If our model predicts close to 0 (h(x) ~ 0), the cost is low, but if our model predicts close to 1 (h(x) ~ 1), the cost is high."
   ]
  },
  {
   "cell_type": "markdown",
   "id": "b0f7cf2d",
   "metadata": {},
   "source": [
    "Let’s plot the first part -y log(h(x)) where y = 1. With simple math, we substitute y with 1 to get -1 log(h(x)) which can be written as -log(h(x))"
   ]
  },
  {
   "cell_type": "code",
   "execution_count": null,
   "id": "fa7ec230",
   "metadata": {},
   "outputs": [],
   "source": [
    "import numpy as np\n",
    "import matplotlib.pyplot as plt\n",
    "\n",
    "# Predicted probability range from 0 to 1\n",
    "h = np.linspace(0.000001, 0.999999)\n",
    "\n",
    "# Cost when y=1\n",
    "cost = -np.log(h)\n",
    "\n",
    "plt.plot(h, cost)\n",
    "plt.xlabel('Predicted Probability')\n",
    "plt.ylabel('Cost')\n",
    "plt.title('Cost Function for y=1')\n",
    "plt.show()"
   ]
  },
  {
   "cell_type": "markdown",
   "id": "03b0a1dc",
   "metadata": {},
   "source": []
  },
  {
   "cell_type": "markdown",
   "id": "9acf4bd6",
   "metadata": {},
   "source": [
    "We then plot the cost when h(x) is close to 0, let’s say 0.000001 to a number close to 1, let’s use 0.999999. We can see that as the predicted probability h(x) is closer to 1, the cost went down significantly, which is what we want."
   ]
  },
  {
   "cell_type": "markdown",
   "id": "3bb6809c",
   "metadata": {},
   "source": [
    "Now, let’s plot the second part -(1 − y) log(1 − h(x)) where y = 0. Again, with simple math, we substitute y with 0 and we get -(1)log(1 - h(x)) which can be written as follows -log(1 - h(x))"
   ]
  },
  {
   "cell_type": "code",
   "execution_count": null,
   "id": "eb2a5e6c",
   "metadata": {},
   "outputs": [],
   "source": [
    "import numpy as np\n",
    "import matplotlib.pyplot as plt\n",
    "\n",
    "# Predicted probability range from 0 to 1\n",
    "h = np.linspace(0.000001, 0.999999)\n",
    "\n",
    "# Cost when y=1\n",
    "cost = -np.log(1 - h)\n",
    "\n",
    "plt.plot(h, cost)\n",
    "plt.xlabel('Predicted Probability')\n",
    "plt.ylabel('Cost')\n",
    "plt.title('Cost Function for y=0')\n",
    "plt.show()"
   ]
  },
  {
   "cell_type": "markdown",
   "id": "e59a2f08",
   "metadata": {},
   "source": []
  },
  {
   "cell_type": "markdown",
   "id": "10159c98",
   "metadata": {},
   "source": [
    "Again, we plot the cost when h(x) is close to 0, let’s say 0.000001 to a number close to 1, let’s use 0.999999. We can see that as the predicted probability h(x) is closer to 0, the cost went down significantly, which is what we want."
   ]
  },
  {
   "cell_type": "markdown",
   "id": "90167e10",
   "metadata": {},
   "source": [
    "This cost function works well because it “penalizes” wrong predictions with a high cost, and rewards correct predictions with a low cost. The goal of our training process is to find the parameters of our model that minimize this cost function."
   ]
  },
  {
   "cell_type": "markdown",
   "id": "b8eb189a",
   "metadata": {},
   "source": [
    "In other words, we adjust the parameters of our model to make our predictions as close as possible to the actual classes, thereby minimizing the cost."
   ]
  },
  {
   "cell_type": "markdown",
   "id": "ee8013e0",
   "metadata": {},
   "source": [
    "Combining them together, we get:"
   ]
  },
  {
   "cell_type": "markdown",
   "id": "e854b556",
   "metadata": {},
   "source": [
    "\\[loss({h}(\\mathbf{x}), y) = -y \\log\\left({h}\\left( \\mathbf{x} \\right) \\right) - \\left( 1 - y\\right) \\log \\left( 1 - {h}\\left( \\mathbf{x} \\right) \\right) \\]"
   ]
  },
  {
   "cell_type": "markdown",
   "id": "fa805700",
   "metadata": {},
   "source": [
    "This formula holds true because when y = 0 (we substitute y with 0):"
   ]
  },
  {
   "cell_type": "markdown",
   "id": "ad3d8959",
   "metadata": {},
   "source": [
    "-0 log(h(x))-(1 − 0) log(1 − h(x)) => -log(1 - h(x)) which is the same as the second part where y = 0."
   ]
  },
  {
   "cell_type": "markdown",
   "id": "f3d35e0d",
   "metadata": {},
   "source": [
    "and when y = 1 (we substitute y with 1):"
   ]
  },
  {
   "cell_type": "markdown",
   "id": "80d29e14",
   "metadata": {},
   "source": [
    "-1 log(h(x))-(1 − 1) log(1 − h(x)) => -log(h(x)) which is the same as the first part where y = 1."
   ]
  },
  {
   "cell_type": "markdown",
   "id": "7f8555c0",
   "metadata": {},
   "source": [
    "To get the total cost for all of our training data, we need to find the average of the individual loss function:"
   ]
  },
  {
   "cell_type": "markdown",
   "id": "582e6209",
   "metadata": {},
   "source": [
    "\\[ J(\\mathbf{w},b) = \\frac{1}{m} \\sum_{i=0}^{m-1} \\left[ loss({h}(\\mathbf{x}_{(i)}), y_{(i)}) \\right] \\]"
   ]
  },
  {
   "cell_type": "markdown",
   "id": "cbc58a7b",
   "metadata": {},
   "source": [
    "where m is the number of instances in our training set."
   ]
  },
  {
   "cell_type": "markdown",
   "id": "f2b407eb",
   "metadata": {},
   "source": [
    "Now, let’s move on to the implementation:"
   ]
  },
  {
   "cell_type": "markdown",
   "id": "f4217bbd",
   "metadata": {},
   "source": [
    "Look at the code below, where we use compute_cost_logistic to calculate the loss for each example and accumulating the total."
   ]
  },
  {
   "cell_type": "code",
   "execution_count": null,
   "id": "c4af596c",
   "metadata": {},
   "outputs": [],
   "source": [
    "def sigmoid(z):\n",
    "    \"\"\"\n",
    "    Compute the sigmoid of z\n",
    "\n",
    "    Parameters\n",
    "    ----------\n",
    "    z : array_like\n",
    "        A scalar or numpy array of any size.\n",
    "\n",
    "    Returns\n",
    "    -------\n",
    "     g : array_like\n",
    "         sigmoid(z)\n",
    "    \"\"\"\n",
    "    g = 1.0/(1.0+np.exp(-z))\n",
    "\n",
    "    return g\n",
    "\n",
    "\n",
    "eps = 1e-7 #added for numerical stability, to avoid getting the value of 0 or 1\n",
    "def compute_cost_logistic(X, y, w, b):\n",
    "    \"\"\"\n",
    "    Computes cost\n",
    "\n",
    "    Args:\n",
    "      X (ndarray (m,n)): Data, m examples with n features\n",
    "      y (ndarray (m,)) : target values\n",
    "      w (ndarray (n,)) : model parameters  \n",
    "      b (scalar)       : model parameter\n",
    "      \n",
    "    Returns:\n",
    "      cost (scalar): cost\n",
    "    \"\"\"\n",
    "\n",
    "    m = X.shape[0]\n",
    "    cost = 0.0\n",
    "    for i in range(m):\n",
    "        z_i = np.dot(X[i],w) + b\n",
    "        f_wb_i = sigmoid(z_i)\n",
    "        \n",
    "        cost += -y[i]*np.log(f_wb_i + eps) - (1-y[i])*np.log(1-f_wb_i + eps)\n",
    "             \n",
    "    cost = cost / m\n",
    "    return cost"
   ]
  },
  {
   "cell_type": "code",
   "execution_count": null,
   "id": "3dcecbbf",
   "metadata": {},
   "outputs": [],
   "source": [
    "import numpy as np\n",
    "\n",
    "X_train = np.array([[7.1, 55], [3.2, 30], [5.8, 65], [2.0, 20], [8.4, 72], \n",
    "              [4.2, 40], [7.6, 60], [2.5, 25], [6.8, 70], [1.7, 22], \n",
    "              [7.5, 68], [3.1, 35], [8.2, 66], [2.2, 28]])\n",
    "\n",
    "y_train = np.array([1, 0, 1, 0, 1, 0, 1, 0, 1, 0, 1, 0, 1, 0])\n",
    "\n",
    "w = np.array([1,1])\n",
    "b = -6\n",
    "\n",
    "cost = compute_cost_logistic(X_train, y_train, w, b)\n",
    "print(f\"Number of errors: {cost}\")"
   ]
  },
  {
   "cell_type": "code",
   "execution_count": null,
   "id": "af26f6ca",
   "metadata": {},
   "outputs": [],
   "source": [
    "Number of errors: 7.9914896501466695"
   ]
  },
  {
   "cell_type": "markdown",
   "id": "898b246e",
   "metadata": {},
   "source": [
    "Based on the data owned and the value of \\(w\\) and \\(b\\), when viewed from the results of the compute_cost_logistic function, the total mistakes we got were 7.9915."
   ]
  },
  {
   "cell_type": "markdown",
   "id": "434dab8b",
   "metadata": {},
   "source": [
    "Then, is the best amount? Then how do you do it? In other words we want to get the best \\(w\\) and \\(b\\) values that make the lines as close as possible to the spread points."
   ]
  },
  {
   "cell_type": "markdown",
   "id": "07d50548",
   "metadata": {},
   "source": [
    "Again, at this stage we can use the Scikit-learn library."
   ]
  },
  {
   "cell_type": "markdown",
   "id": "f6ba48fc",
   "metadata": {},
   "source": [
    "# Logistic Regression using Scikit-Learn"
   ]
  },
  {
   "cell_type": "markdown",
   "id": "0d1805ef",
   "metadata": {},
   "source": [
    "Just like Linear Regression, for our Logistic Regression model, sklearn provides the LogisticRegression class in the sklearn.linear_model module."
   ]
  },
  {
   "cell_type": "markdown",
   "id": "53780df3",
   "metadata": {},
   "source": [
    "Here’s how you can do it:"
   ]
  },
  {
   "cell_type": "code",
   "execution_count": null,
   "id": "e35cd62a",
   "metadata": {},
   "outputs": [],
   "source": [
    "import numpy as np\n",
    "from sklearn.linear_model import LogisticRegression\n",
    "\n",
    "# your data\n",
    "x_train = np.array([[7.1, 55], [3.2, 30], [5.8, 65], [2.0, 20], [8.4, 72], \n",
    "              [4.2, 40], [7.6, 60], [2.5, 25], [6.8, 70], [1.7, 22], \n",
    "              [7.5, 68], [3.1, 35], [8.2, 66], [2.2, 28]])\n",
    "y_train = np.array([1, 0, 1, 0, 1, 0, 1, 0, 1, 0, 1, 0, 1, 0])\n",
    "\n",
    "lr_model = LogisticRegression()\n",
    "lr_model.fit(x_train, y_train)\n",
    "\n",
    "coefficient = lr_model.coef_\n",
    "intercept = lr_model.intercept_\n",
    "print(f\"Coefficients: {coefficient}\")\n",
    "print(f\"Intercept: {intercept}\")"
   ]
  },
  {
   "cell_type": "code",
   "execution_count": null,
   "id": "67d9a257",
   "metadata": {},
   "outputs": [],
   "source": [
    "Coefficients: [[0.08773648 0.4661736 ]]\n",
    "Intercept: [-22.63354811]"
   ]
  },
  {
   "cell_type": "markdown",
   "id": "1007a31f",
   "metadata": {},
   "source": [
    "From the results of the code above, the \\(w\\) (coefficient) value is 0.08773648 and 0.4661736, and for \\(b\\) (intercept) is -22.63354811. That way we can produce the minimum possible error/loss value. Now we look again at the data we have with the new \\(w\\) and \\(b\\) values and what error/loss we get."
   ]
  },
  {
   "cell_type": "code",
   "execution_count": null,
   "id": "3b25d61a",
   "metadata": {},
   "outputs": [],
   "source": [
    "w = np.array([0.08773648, 0.4661736 ])\n",
    "b = -22.63354811\n",
    "\n",
    "cost = compute_cost_logistic(X_train, y_train, w, b)\n",
    "print(f\"Number of errors: {cost}\")"
   ]
  },
  {
   "cell_type": "code",
   "execution_count": null,
   "id": "394f0948",
   "metadata": {},
   "outputs": [],
   "source": [
    "Number of errors: 0.004169320992196987"
   ]
  },
  {
   "cell_type": "markdown",
   "id": "f95f772e",
   "metadata": {},
   "source": [
    "We can see that the error/loss has decreased from 7.9914 to 0.0042. In this way, the accuracy of tumor classification will increase."
   ]
  },
  {
   "cell_type": "markdown",
   "id": "2d02d7a7",
   "metadata": {},
   "source": [
    "Besides helping us determine the right values for the \\(w\\) and \\(b\\) parameters, the sklearn library can also help us calculate the accuracy of our data. Let’s start with the dataset and the prediction made by this model by calling the predict function:"
   ]
  },
  {
   "cell_type": "code",
   "execution_count": null,
   "id": "592693d8",
   "metadata": {},
   "outputs": [],
   "source": [
    "y_pred = lr_model.predict(x_train)\n",
    "\n",
    "print(\"Prediction on training set:\", y_pred)"
   ]
  },
  {
   "cell_type": "code",
   "execution_count": null,
   "id": "30c63b41",
   "metadata": {},
   "outputs": [],
   "source": [
    "Prediction on training set: [1 0 1 0 1 0 1 0 1 0 1 0 1 0]"
   ]
  },
  {
   "cell_type": "markdown",
   "id": "6fc5f4ce",
   "metadata": {},
   "source": [
    "Now, we can calculate this accuracy of this model by calling the score function. The output of score is a scalar in the form of a float number between 0 and 1 indicating the percentage of samples correctly classified by the model. - 1: the model successfully classified all samples correctly - 0: the model failed to classify all samples."
   ]
  },
  {
   "cell_type": "code",
   "execution_count": null,
   "id": "aa792a18",
   "metadata": {},
   "outputs": [],
   "source": [
    "print(\"Accuracy on training set:\", lr_model.score(x_train, y_train))"
   ]
  },
  {
   "cell_type": "code",
   "execution_count": null,
   "id": "245f41f1",
   "metadata": {},
   "outputs": [],
   "source": [
    "Accuracy on training set: 1.0"
   ]
  },
  {
   "cell_type": "markdown",
   "id": "c32ddc28",
   "metadata": {},
   "source": [
    "If you look at the score result (1), it means that the model we used successfully predicted all the labels correctly for the given dataset. In other words, the model has 100% accuracy based on the data we used in the score method."
   ]
  },
  {
   "cell_type": "markdown",
   "id": "4903cdf6",
   "metadata": {},
   "source": [
    "However, it is necessary to be careful in evaluating this result."
   ]
  },
  {
   "cell_type": "markdown",
   "id": "823bb500",
   "metadata": {},
   "source": [
    "Overfitting: If you see 1 or 100% accuracy on the training dataset, the model may have overfit. That is, the model may have learned the details and noise on the training dataset specifically, at a level where it goes beyond learning the underlying concepts. Overfitting causes the model to be unable to generalize well to new data. We’ll cover more on overfitting later on in the course."
   ]
  },
  {
   "cell_type": "markdown",
   "id": "1276736f",
   "metadata": {},
   "source": [
    "Evaluation on Training Data: If you use training data for evaluation (which is done when you call back training data for score), then the results tend to be overoptimistic because the model has ‘seen’ this training data before. It is always important to evaluate the model’s performance on validation or testing data sets that the model has not ‘seen’ to get an unbiased estimate of how the model will perform on data that it has not seen before."
   ]
  },
  {
   "cell_type": "markdown",
   "id": "4b0bd3d2",
   "metadata": {},
   "source": [
    "Data is Easy to Predict: In some cases, the data may be simple enough or the patterns clear enough that the model is able to achieve 1 accuracy. However, this tends to apply to simple or synthetic datasets, and rarely to complex and messy real-world data."
   ]
  },
  {
   "cell_type": "markdown",
   "id": "f5b9ad1f",
   "metadata": {},
   "source": [
    "So while a 1 score may initially seem like a great result, it could be a sign that you need to examine in more detail how your model works and how you test your model."
   ]
  }
 ],
 "metadata": {},
 "nbformat": 4,
 "nbformat_minor": 5
}
