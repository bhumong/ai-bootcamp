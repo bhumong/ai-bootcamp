{
 "cells": [
  {
   "cell_type": "markdown",
   "id": "ec9e59fd",
   "metadata": {},
   "source": [
    "source: [link](https://ai-bootcamp.ruangguru.com/learn/02_machine-learning-fundamental/12_anomaly-detection.html)"
   ]
  },
  {
   "cell_type": "markdown",
   "id": "d7fb1c3e",
   "metadata": {},
   "source": [
    "# Anomaly Detection"
   ]
  },
  {
   "cell_type": "markdown",
   "id": "be74547b",
   "metadata": {},
   "source": [
    "# What is Anomaly Detection?"
   ]
  },
  {
   "cell_type": "markdown",
   "id": "c1a2d84a",
   "metadata": {},
   "source": [
    "Imagine you have an online store. Usually, you sell about 50 T-shirts a day. But one day, you sell 500! That’s strange and could be a sign of something wrong, like a glitch in your website or even fraud. To figure out what’s going on, you can use anomaly detection."
   ]
  },
  {
   "cell_type": "markdown",
   "id": "a4a294ce",
   "metadata": {},
   "source": [
    "Anomaly detection is like a “weirdness detector”. It helps you find things in your data that don’t follow the usual pattern. It’s useful in many areas, like spotting fraud, finding sick patients in healthcare, or predicting when a machine might break down."
   ]
  },
  {
   "cell_type": "markdown",
   "id": "14e04b76",
   "metadata": {},
   "source": [
    "The key to anomaly detection is figuring out what’s “normal” and what’s “weird”. You teach a model what’s normal, and then it can spot the weird things. There are many ways to do this, and the best way depends on your data and what you’re trying to find."
   ]
  },
  {
   "cell_type": "markdown",
   "id": "240fea40",
   "metadata": {},
   "source": [
    "# Solving the Case with Anomaly Detection"
   ]
  },
  {
   "cell_type": "markdown",
   "id": "3b0d5feb",
   "metadata": {},
   "source": [
    "Let’s say we have a data set that when we plot the graph, it’s clustered around a single group. In this case we have a data set of Sales Activity with two features, Price of sales and Time of sales. For Time of sales we do some scaling, so it falls in a similar range to Price."
   ]
  },
  {
   "cell_type": "code",
   "execution_count": null,
   "id": "1237a4cd",
   "metadata": {},
   "outputs": [],
   "source": [
    "import numpy as np\n",
    "import matplotlib.pyplot as plt\n",
    "\n",
    "%matplotlib inline"
   ]
  },
  {
   "cell_type": "code",
   "execution_count": null,
   "id": "b84fdcb8",
   "metadata": {},
   "outputs": [],
   "source": [
    "# Training data, used to fit a Gaussian distribution\n",
    "X_train = np.array( [[53.81548, 54.17169],\n",
    " [54.31098, 56.25419],\n",
    " [53.53597, 55.77020],\n",
    " [54.80103, 53.81813],\n",
    " [53.77274, 54.64955],\n",
    " [53.76510, 55.02311],\n",
    " [54.05349, 53.93946],\n",
    " [55.30905, 56.04190],\n",
    " [53.15523, 56.92122],\n",
    " [52.69940, 53.99916],\n",
    " [54.36799, 56.75782],\n",
    " [53.26325, 54.09898],\n",
    " [51.91253, 54.61325],\n",
    " [53.37000, 55.18268],\n",
    " [54.15764, 53.77083],\n",
    " [55.99450, 55.45329],\n",
    " [54.96982, 55.59222],\n",
    " [54.75068, 55.46889],\n",
    " [53.33027, 54.34699],\n",
    " [53.05002, 54.68726],\n",
    " [53.77642, 54.23618],\n",
    " [55.17426, 55.50957],\n",
    " [54.21251, 55.08270],\n",
    " [53.82089, 55.61146],\n",
    " [54.12355, 54.95509],\n",
    " [54.54752, 54.85861],\n",
    " [54.09944, 56.03131],\n",
    " [54.57730, 54.25667],\n",
    " [54.52331, 54.23004],\n",
    " [54.30044, 55.26643],\n",
    " [54.55839, 55.48691],\n",
    " [54.22494, 55.86117],\n",
    " [52.04029, 53.34483],\n",
    " [53.07931, 49.34787],\n",
    " [61.72713, 44.12623],\n",
    " [52.47662, 54.45936],\n",
    " [59.58257, 50.41161],\n",
    " [63.33986, 56.29887],\n",
    " [58.26118, 57.97830],\n",
    " [44.75261, 64.35040]])\n",
    "\n",
    "# Create a scatter plot of the data. To change the markers to blue \"x\",\n",
    "# we used the 'marker' and 'c' parameters\n",
    "plt.scatter(X_train[:, 0], X_train[:, 1], marker='x', c='b') \n",
    "\n",
    "# Set the title\n",
    "plt.title(\"Sales Activity\")\n",
    "# Set the y-axis label\n",
    "plt.ylabel('Time')\n",
    "# Set the x-axis label\n",
    "plt.xlabel('Price')\n",
    "# Set axis range\n",
    "plt.axis([40, 70, 40, 70])\n",
    "plt.show()"
   ]
  },
  {
   "cell_type": "markdown",
   "id": "fc873371",
   "metadata": {},
   "source": []
  },
  {
   "cell_type": "markdown",
   "id": "35376f48",
   "metadata": {},
   "source": [
    "From a human perspective, it’s easy to see that there is a single group of data points. However there are also data points that are quite far away from the group. Those data points that are far away from the group is considered an anomaly. The same as the concept of outliers in statistics. In anomaly detection, the job of the model is to identify those outliers."
   ]
  },
  {
   "cell_type": "markdown",
   "id": "4dc0dede",
   "metadata": {},
   "source": [
    "How can we do that ?"
   ]
  },
  {
   "cell_type": "markdown",
   "id": "9c943837",
   "metadata": {},
   "source": [
    "When we think of “normal”, “outliers” and “statistics”, one thing comes to mind. Gaussian distribution!"
   ]
  },
  {
   "cell_type": "markdown",
   "id": "e2827faa",
   "metadata": {},
   "source": [
    "Using the Gaussian distribution, we can say that the majority of the data will be close to the center of the bell curve or the mean. A minority of data will be either on the far left or far right. We can set a treshold at the far left or far right of the curve and declare anything outside that treshold as “anomaly”."
   ]
  },
  {
   "cell_type": "markdown",
   "id": "138cfea1",
   "metadata": {},
   "source": [
    "In the case above, we can see that the data is centered on a single cluster with outliers around it. Which is a good fit for using Gaussian Distribution."
   ]
  },
  {
   "cell_type": "markdown",
   "id": "47b984bb",
   "metadata": {},
   "source": []
  },
  {
   "cell_type": "markdown",
   "id": "d5a40fa9",
   "metadata": {},
   "source": [
    "![Image](https://storage.googleapis.com/rg-ai-bootcamp/machine-learning/bell-curve-min.png)"
   ]
  },
  {
   "cell_type": "markdown",
   "id": "db71fece",
   "metadata": {},
   "source": [
    "# Gaussian (Normal) Distribution Recap"
   ]
  },
  {
   "cell_type": "markdown",
   "id": "d063c3d4",
   "metadata": {},
   "source": [
    "The Gaussian distribution is characterized by two parameters: the mean (μ) and the standard deviation (σ)."
   ]
  },
  {
   "cell_type": "markdown",
   "id": "331317c9",
   "metadata": {},
   "source": [
    "The mean (\\(\\mu\\)) is the average value. In our case, this is average value for Price. The formula is: \\[\\mu_i = \\frac{1}{m} \\sum_{j=1}^m x_i^{(j)}\\]"
   ]
  },
  {
   "cell_type": "markdown",
   "id": "b2bbd0ab",
   "metadata": {},
   "source": [
    "The standard deviation (\\(\\sigma\\)) is a measure of the amount of variation or dispersion in the set of values. A low standard deviation means that the values tend to be close to the mean, while a high standard deviation means that the values are spread out over a wider range. The formula is: \\[\\sigma_i^2 = \\frac{1}{m} \\sum_{j=1}^m (x_i^{(j)} - \\mu_i)^2\\]"
   ]
  },
  {
   "cell_type": "markdown",
   "id": "3f63220f",
   "metadata": {},
   "source": [
    "The usual Gaussian Distribution bell curve we see will map a single feature which we’ll plot on x-axis while the y-axis will be the either the frequency or density of data points at each value on the x-axis."
   ]
  },
  {
   "cell_type": "markdown",
   "id": "ecaa121c",
   "metadata": {},
   "source": [
    "Because we have two features in our data set, it’s best so use Density because it’s a normalized version of the data, retaining the shape but making sure the range remains between 0 and 1."
   ]
  },
  {
   "cell_type": "code",
   "execution_count": null,
   "id": "bdc78cee",
   "metadata": {},
   "outputs": [],
   "source": [
    "import numpy as np\n",
    "import matplotlib.pyplot as plt\n",
    "from scipy.stats import norm\n",
    "\n",
    "# Select the first and second features from your data\n",
    "feature1 = X_train[:, 0]\n",
    "feature2 = X_train[:, 1]\n",
    "\n",
    "# Plotting the histograms with density=True\n",
    "plt.hist(feature1, bins=30, density=True, color='lightblue', edgecolor='black', alpha=0.5, label='Price')\n",
    "plt.hist(feature2, bins=30, density=True, color='lightgreen', edgecolor='black', alpha=0.5, label='Value')\n",
    "\n",
    "# Fit Gaussian curves to the data\n",
    "mean_feature1, std_feature1 = np.mean(feature1), np.std(feature1)\n",
    "mean_feature2, std_feature2 = np.mean(feature2), np.std(feature2)\n",
    "\n",
    "x_feature1 = np.linspace(min(feature1), max(feature1), 100)\n",
    "x_feature2 = np.linspace(min(feature2), max(feature2), 100)\n",
    "\n",
    "fit_feature1 = norm.pdf(x_feature1, mean_feature1, std_feature1)\n",
    "fit_feature2 = norm.pdf(x_feature2, mean_feature2, std_feature2)\n",
    "\n",
    "# Plot Gaussian curves\n",
    "plt.plot(x_feature1, fit_feature1, 'r-', linewidth=2, label='Fit Price')\n",
    "plt.plot(x_feature2, fit_feature2, 'g-', linewidth=2, label='Fit Time')\n",
    "\n",
    "plt.title('Density Histograms and Gaussian Fits of Features Price & Time')\n",
    "plt.xlabel('Value')\n",
    "plt.ylabel('Density')\n",
    "plt.legend()\n",
    "plt.show()"
   ]
  },
  {
   "cell_type": "markdown",
   "id": "e93716f9",
   "metadata": {},
   "source": []
  },
  {
   "cell_type": "markdown",
   "id": "6e8f6db2",
   "metadata": {},
   "source": [
    "As you can see, the bell curves between features are quite similar using Density which makes it easier for use to find the treshold, compared to the histogram using Frequency."
   ]
  },
  {
   "cell_type": "markdown",
   "id": "a98abce4",
   "metadata": {},
   "source": [
    "The formula for calculating the Density is commonly known as PDF (Probability Density Function) and because it maps any points in x to the bell curve, we can use it to find \\(p(x)\\) given \\(\\mu\\) and \\(\\sigma\\). The formula is"
   ]
  },
  {
   "cell_type": "markdown",
   "id": "cff4b902",
   "metadata": {},
   "source": [
    "\\[ p(x ; \\mu,\\sigma ^2) = f(x) = \\frac{1}{\\sqrt{2 \\pi \\sigma ^2}}\\exp^{ - \\frac{(x - \\mu)^2}{2 \\sigma ^2} }\\]"
   ]
  },
  {
   "cell_type": "markdown",
   "id": "bad7908f",
   "metadata": {},
   "source": [
    "Where:"
   ]
  },
  {
   "cell_type": "markdown",
   "id": "55275185",
   "metadata": {},
   "source": [
    "So, \\(p(x)\\) essentially gives us the ‘height’ of the data point on the normal distribution curve, or in other words, the probability of that data point in the data we have."
   ]
  },
  {
   "cell_type": "markdown",
   "id": "9e650f33",
   "metadata": {},
   "source": [
    "Note: We won’t go too deep into the Math behind PDF because it’s quite complex."
   ]
  },
  {
   "cell_type": "markdown",
   "id": "8ce24cd6",
   "metadata": {},
   "source": [
    "While it’s easy to interpret the overlapping bell curve, sometimes the data may not fit nicely like this. The best way to visualize two features or more is using a contour plot. Let’s see what it looks like:"
   ]
  },
  {
   "cell_type": "code",
   "execution_count": null,
   "id": "09635afa",
   "metadata": {},
   "outputs": [],
   "source": [
    "import numpy as np\n",
    "import matplotlib.pyplot as plt\n",
    "from scipy.stats import multivariate_normal\n",
    "\n",
    "# Select the first and second features from your data\n",
    "feature1 = X_train[:, 0]\n",
    "feature2 = X_train[:, 1]\n",
    "\n",
    "# Fit a 2D Gaussian to the data\n",
    "mean = [np.mean(feature1), np.mean(feature2)]\n",
    "covariance = np.cov(feature1, feature2)\n",
    "gaussian = multivariate_normal(mean=mean, cov=covariance)\n",
    "\n",
    "# Create a scatter plot of the data\n",
    "plt.scatter(X_train[:, 0], X_train[:, 1], marker='x', c='b')\n",
    "\n",
    "# Create a grid of values\n",
    "x, y = np.meshgrid(np.linspace(min(feature1), max(feature1), 100), np.linspace(min(feature2), max(feature2), 100))\n",
    "pos = np.dstack((x, y))\n",
    "\n",
    "# Plot Gaussian contour lines\n",
    "plt.contour(x, y, gaussian.pdf(pos), levels=5, linewidths=2, cmap='viridis')\n",
    "\n",
    "# Set the title\n",
    "plt.title(\"Contour Plot of the features Time and Price\")\n",
    "# Set the y-axis label\n",
    "plt.ylabel('Time')\n",
    "# Set the x-axis label\n",
    "plt.xlabel('Price')\n",
    "# Set axis range\n",
    "plt.axis([40, 70, 40, 70])\n",
    "\n",
    "plt.show()"
   ]
  },
  {
   "cell_type": "markdown",
   "id": "34498190",
   "metadata": {},
   "source": []
  },
  {
   "cell_type": "markdown",
   "id": "234d27bf",
   "metadata": {},
   "source": [
    "It’s a lot easier to see the outliers, isn’t it ?"
   ]
  },
  {
   "cell_type": "markdown",
   "id": "d99a99f2",
   "metadata": {},
   "source": [
    "Now, let’s build our own model and later on decide how to automatically find the outliers by setting the treshold."
   ]
  },
  {
   "cell_type": "markdown",
   "id": "298f111c",
   "metadata": {},
   "source": [
    "# Anomaly Detection Algorithm using Gaussian Distribution"
   ]
  },
  {
   "cell_type": "markdown",
   "id": "de25b0d5",
   "metadata": {},
   "source": [
    "In general, the Anomaly Detection Algorithm using Gaussian Distribution involves the following steps:"
   ]
  },
  {
   "cell_type": "markdown",
   "id": "65ef2fce",
   "metadata": {},
   "source": [
    "Gather and Preprocess Data: Begin with gathering the data that you need. In our case, this would be sales data. Preprocessing steps could include data cleaning (removing duplicate entries, handling missing values, etc.), and feature selection (choosing which data categories are relevant for detecting anomalies). If data scales vary significantly, normalization or standardization techniques can be used to bring the data into comparable ranges."
   ]
  },
  {
   "cell_type": "markdown",
   "id": "10dd5c72",
   "metadata": {},
   "source": [
    "Estimate Parameters: Next, we determine the parameters of the Gaussian distribution, specifically the mean (\\(\\mu\\)) and variance (\\(\\sigma^2\\)) for each feature in our dataset. These parameters define our “normal” behaviour."
   ]
  },
  {
   "cell_type": "markdown",
   "id": "dd1f8ae0",
   "metadata": {},
   "source": [
    "Calculate Probability Density: For a given sample \\(x\\) in our dataset, we can calculate the probability density function (\\(p(x)\\)) using the mean and variance we’ve calculated. This will give us a probability of seeing such a sample in a normal scenario."
   ]
  },
  {
   "cell_type": "markdown",
   "id": "7de717ed",
   "metadata": {},
   "source": [
    "Set Threshold: Set a threshold \\(\\epsilon\\) (epsilon), which is the cut-off point for identifying an anomaly. Any data point with a probability density less than \\(\\epsilon\\) would be considered an anomaly."
   ]
  },
  {
   "cell_type": "markdown",
   "id": "159bd49f",
   "metadata": {},
   "source": [
    "Flag Anomalies: Apply the model to new, unseen data. For each new data point, calculate the Gaussian probability density. If the probability is under the threshold \\(\\epsilon\\), flag it as an anomaly."
   ]
  },
  {
   "cell_type": "markdown",
   "id": "fa71a09f",
   "metadata": {},
   "source": [
    "# Applying the Gaussian (Normal) Distribution to Anomaly Detection"
   ]
  },
  {
   "cell_type": "markdown",
   "id": "a1b0735a",
   "metadata": {},
   "source": [
    "Again, here’s our data:"
   ]
  },
  {
   "cell_type": "markdown",
   "id": "95c58a2b",
   "metadata": {},
   "source": [
    "This table represents the X_train data, where each row corresponds to a sale. - The Price (x1) column represents the price of each sale. - The Time (x2) column represents the time of each sale, which is a normalized/scaled timestamp data for each sale."
   ]
  },
  {
   "cell_type": "markdown",
   "id": "6d638435",
   "metadata": {},
   "source": [
    "Case Study: Unusual Sales Activity in an E-commerce Store"
   ]
  },
  {
   "cell_type": "markdown",
   "id": "c0806f48",
   "metadata": {},
   "source": [
    "Imagine we’re running an online store that sells a variety of products. We have a steady stream of sales, with some predictable fluctuations based on the time of day and the price of the product."
   ]
  },
  {
   "cell_type": "markdown",
   "id": "b5984a54",
   "metadata": {},
   "source": [
    "However, one day we notice a few sales that seem unusual: they’re for a high price and they’re happening at odd times. We wonder: could these be signs of fraudulent activity?"
   ]
  },
  {
   "cell_type": "markdown",
   "id": "7e0406aa",
   "metadata": {},
   "source": [
    "To investigate this, we decided to use anomaly detection. We gather our sales data and preprocess it, and then we fit a Gaussian distribution to our training data (X_train). We then use our cross-validation data (X_val) and the corresponding labels (y_val) to select a threshold for determining whether a sale is normal or anomalous."
   ]
  },
  {
   "cell_type": "markdown",
   "id": "946684bb",
   "metadata": {},
   "source": [
    "X_train is used to fit a Gaussian distribution. Each row in X_train represents a sale, with the first column being the price of the sale and the second column being the time of the sale."
   ]
  },
  {
   "cell_type": "markdown",
   "id": "44c4cdaa",
   "metadata": {},
   "source": [
    "Now let’s check the implementation using the example data set we have."
   ]
  },
  {
   "cell_type": "markdown",
   "id": "4792ab57",
   "metadata": {},
   "source": [
    "# Estimating parameters for a Gaussian distribution"
   ]
  },
  {
   "cell_type": "markdown",
   "id": "d9025a02",
   "metadata": {},
   "source": [
    "To perform anomaly detection, we must first fit the model to the data distribution. Previously we already had a training set (\\(x(1)\\) and \\(x(2)\\)), from which we wanted to estimate a Gaussian distribution for each feature \\(x_i\\). However, before going into the estimation calculations of the Gaussian distribution, we first need to calculate the \\(\\mu\\) and \\(\\sigma\\) for each feature."
   ]
  },
  {
   "cell_type": "markdown",
   "id": "c8eabc77",
   "metadata": {},
   "source": [
    "In this stage, we will use the estimate_parameters function below to calculate \\(\\mu_i\\) (the average of each feature in \\(X\\)) and \\(\\sigma_i^2\\) (the variance of each feature in \\(X\\)). We can estimate the parameters ( \\(\\mu_i\\) and \\(\\sigma_i^2\\) ), of the \\(i\\)-th feature using the following equation: - mean:"
   ]
  },
  {
   "cell_type": "markdown",
   "id": "4e2d713b",
   "metadata": {},
   "source": [
    "\\[\\mu_i = \\frac{1}{m} \\sum_{j=1}^m x_i^{(j)}\\]"
   ]
  },
  {
   "cell_type": "code",
   "execution_count": null,
   "id": "c80de469",
   "metadata": {},
   "outputs": [],
   "source": [
    "def estimate_parameters(X): \n",
    "    \"\"\"\n",
    "    Calculates mean and variance of all features \n",
    "    in the dataset\n",
    "    \n",
    "    Args:\n",
    "        X (ndarray): (m, n) Data matrix\n",
    "    \n",
    "    Returns:\n",
    "        mu (ndarray): (n,) Mean of all features\n",
    "        var (ndarray): (n,) Variance of all features\n",
    "    \"\"\"\n",
    "\n",
    "    m, n = X.shape\n",
    "    \n",
    "    mu = 1 / m * np.sum(X, axis = 0)\n",
    "    var = 1 / m * np.sum((X - mu) ** 2, axis = 0)\n",
    "        \n",
    "    return mu, var"
   ]
  },
  {
   "cell_type": "code",
   "execution_count": null,
   "id": "409aa9cb",
   "metadata": {},
   "outputs": [],
   "source": [
    "# Estimate mean and variance of each feature\n",
    "mu, var = estimate_parameters(X_train)              \n",
    "\n",
    "print(\"Mean of each feature:\", mu)\n",
    "print(\"Variance of each feature:\", var)"
   ]
  },
  {
   "cell_type": "code",
   "execution_count": null,
   "id": "536d450d",
   "metadata": {},
   "outputs": [],
   "source": [
    "Mean of each feature: [54.38959275 54.80661075]\n",
    "Variance of each feature: [7.5778417  7.33594621]"
   ]
  },
  {
   "cell_type": "markdown",
   "id": "f560d6e4",
   "metadata": {},
   "source": [
    "# Calculate Probability Density"
   ]
  },
  {
   "cell_type": "markdown",
   "id": "20147d8b",
   "metadata": {},
   "source": [
    "Once we get the values of \\(\\mu\\) (54.38959275 and 54.80661075) and \\(\\sigma^2\\) (7.5778417 and 7.33594621), we can estimate a Gaussian distribution for each feature \\(x_i\\) and visualize the contour of the corresponding Gaussian distribution. We can find the Gaussian distribution with the formula:"
   ]
  },
  {
   "cell_type": "markdown",
   "id": "385f7c8c",
   "metadata": {},
   "source": [
    "\\[ p(x ; \\mu,\\sigma ^2) = \\frac{1}{\\sqrt{2 \\pi \\sigma ^2}}\\exp^{ - \\frac{(x - \\mu)^2}{2 \\sigma ^2} }\\]"
   ]
  },
  {
   "cell_type": "markdown",
   "id": "94b21b79",
   "metadata": {},
   "source": [
    "Where \\(\\mu\\) is the mean and \\(\\sigma^2\\) is the variance that we got in the previous stage. At this stage, we will use the gaussian_distribution function below to estimate the Gaussian distribution."
   ]
  },
  {
   "cell_type": "code",
   "execution_count": null,
   "id": "21ead561",
   "metadata": {},
   "outputs": [],
   "source": [
    "# Returns the density of the multivariate normal\n",
    "# at each data point (row) of X_train\n",
    "def gaussian_distribution(X, mu, var):\n",
    "    \"\"\"\n",
    "    Computes the probability \n",
    "    density function of the examples X under the multivariate gaussian \n",
    "    distribution with parameters mu and var. If var is a matrix, it is\n",
    "    treated as the covariance matrix. If var is a vector, it is treated\n",
    "    as the var values of the variances in each dimension (a diagonal\n",
    "    covariance matrix\n",
    "    \"\"\"\n",
    "    \n",
    "    k = len(mu)\n",
    "    \n",
    "    if var.ndim == 1:\n",
    "        var = np.diag(var)\n",
    "        \n",
    "    X = X - mu\n",
    "    p = (2* np.pi)**(-k/2) * np.linalg.det(var)**(-0.5) * \\\n",
    "        np.exp(-0.5 * np.sum(np.matmul(X, np.linalg.pinv(var)) * X, axis=1))\n",
    "    \n",
    "    return p\n",
    "\n",
    "p = gaussian_distribution(X_train, mu, var)\n",
    "print(p)\n",
    "\n",
    "#Plotting code \n",
    "def visualize_data(X, mu, var):\n",
    "    \"\"\"\n",
    "    This visualization shows you the \n",
    "    probability density function of the Gaussian distribution. Each example\n",
    "    has a location (x1, x2) that depends on its feature values.\n",
    "    \"\"\"\n",
    "    \n",
    "    X1, X2 = np.meshgrid(np.arange(40, 70.5, 0.5), np.arange(40, 70.5, 0.5))\n",
    "    Z = gaussian_distribution(np.stack([X1.ravel(), X2.ravel()], axis=1), mu, var)\n",
    "    Z = Z.reshape(X1.shape)\n",
    "\n",
    "    plt.plot(X[:, 0], X[:, 1], 'bx')\n",
    "\n",
    "    if np.sum(np.isinf(Z)) == 0:\n",
    "        plt.contour(X1, X2, Z, levels=10**(np.arange(-20., 1, 3)), linewidths=1)\n",
    "        \n",
    "    # Set the title\n",
    "    plt.title(\"The Gaussian contours of the distribution fit to the dataset\")\n",
    "    # Set the y-axis label\n",
    "    plt.ylabel('Time')\n",
    "    # Set the x-axis label\n",
    "    plt.xlabel('Price')\n",
    "    \n",
    "visualize_data(X_train, mu, var)"
   ]
  },
  {
   "cell_type": "code",
   "execution_count": null,
   "id": "bd41c9de",
   "metadata": {},
   "outputs": [],
   "source": [
    "[2.03208380e-02 1.84975797e-02 1.90965393e-02 1.97490428e-02\n",
    " 2.07819102e-02 2.07375027e-02 2.01290908e-02 1.81938816e-02\n",
    " 1.42330415e-02 1.69105879e-02 1.64668530e-02 1.89733198e-02\n",
    " 1.42032164e-02 1.97398355e-02 1.97706515e-02 1.75037734e-02\n",
    " 2.00171922e-02 2.05399750e-02 1.95393413e-02 1.89442121e-02\n",
    " 2.03663703e-02 1.98175010e-02 2.11916322e-02 1.99929462e-02\n",
    " 2.12147794e-02 2.13071107e-02 1.91650287e-02 2.08620722e-02\n",
    " 2.08433125e-02 2.10296965e-02 2.06444604e-02 1.97525842e-02\n",
    " 1.28207252e-02 2.50087949e-03 2.57028912e-07 1.66297608e-02\n",
    " 9.65609657e-04 9.28721377e-05 3.99969495e-03 9.37374199e-08]"
   ]
  },
  {
   "cell_type": "markdown",
   "id": "9902d561",
   "metadata": {},
   "source": []
  },
  {
   "cell_type": "markdown",
   "id": "0919af3b",
   "metadata": {},
   "source": [
    "# Setting the threshold"
   ]
  },
  {
   "cell_type": "markdown",
   "id": "a06f18d4",
   "metadata": {},
   "source": [
    "After the steps of Gaussian estimation and Probability Density calculation, we can proceed to examine which instances have a high or low probability according to this distribution."
   ]
  },
  {
   "cell_type": "markdown",
   "id": "697de6ca",
   "metadata": {},
   "source": [
    "Instances with low probability are likely to be anomalies within our data set."
   ]
  },
  {
   "cell_type": "markdown",
   "id": "32fe9fed",
   "metadata": {},
   "source": [
    "The easiest way is to “eyeball” it, meaning we simply define the treshold manually where if \\(p(x)\\) is less than a certain value, let’s call it \\(\\epsilon\\), we’ll declare it as an anomaly."
   ]
  },
  {
   "cell_type": "markdown",
   "id": "2058f7dd",
   "metadata": {},
   "source": [
    "We can also set the treshold using the training data but it’s not considered best practices because it risks overfitting. Overfitting happens when the model learns the training data so well that it performs poorly on unseen data."
   ]
  },
  {
   "cell_type": "markdown",
   "id": "b395cc61",
   "metadata": {},
   "source": [
    "The most common method for identifying these anomalous examples is to set a threshold originating from cross validation set. To do this we will use the ‘set_threshold’ function that will choose and return the threshold value of $ $ using the $ f_1 $ score on the cross validation set."
   ]
  },
  {
   "cell_type": "markdown",
   "id": "b3b29766",
   "metadata": {},
   "source": [
    "Note: Cross validation set comes from the split of the actual data into “training set” and “cross validation set”."
   ]
  },
  {
   "cell_type": "markdown",
   "id": "fdbca3d4",
   "metadata": {},
   "source": [
    "For each data inside the cross validation set, we set the prediction whether it’s normal or anomaly."
   ]
  },
  {
   "cell_type": "code",
   "execution_count": null,
   "id": "9b3432ae",
   "metadata": {},
   "outputs": [],
   "source": [
    "# Cross-validation data\n",
    "X_val = np.array([[53.65496, 53.97761], [55.59498, 55.04604], [53.77008, 55.37245], [56.22018, 54.39283], [53.55607, 53.83297], [54.71220, 55.16641], [54.27820, 55.55103], [53.22755, 53.69724], [53.17133, 53.04379], [55.22006, 55.70013], [53.08066, 54.47210], [53.68249, 54.24206], [52.77175, 54.87100], [54.86570, 55.49827], [55.14607, 56.29564], [53.03209, 54.37414], [56.30279, 54.08390], [53.71637, 56.42810], [53.77471, 53.43185], [55.06428, 55.40919], [52.31709, 54.07138], [54.22752, 55.52426], [54.68203, 54.84174], [54.21854, 54.60653], [54.38357, 55.40524], [54.74583, 56.98098], [53.76985, 53.51609], [54.02613, 54.18109], [52.71425, 54.42331], [54.22494, 56.28424], [54.29334, 55.99138], [54.95248, 54.36405], [54.73404, 55.81833], [59.28954, 50.67574], [48.73857, 56.79580], [40.30793, 45.39141], [68.54178, 61.59977], [59.03498, 52.02894], [54.37577, 63.35597], [48.77806, 56.68952]])"
   ]
  },
  {
   "cell_type": "code",
   "execution_count": null,
   "id": "49531776",
   "metadata": {},
   "outputs": [],
   "source": [
    "# Labels for cross-validation data\n",
    "y_val = np.array([0, 0, 0, 0, 0, 0, 0, 0, 0, 0, 0, 0, 0, 0, 0, 0, 0, 0, 0, 0, 0, 0, 0, 0, 0, 0, 0, 0, 0, 0, 0, 0, 0, 1, 1, 1, 1,\n",
    " 1, 1, 1])\n",
    "\n",
    "# In this case in y_val:\n",
    "# - 0 indicates a normal day of sales\n",
    "# - 1 indicates an anomalous day."
   ]
  },
  {
   "cell_type": "markdown",
   "id": "92ffa6c4",
   "metadata": {},
   "source": [
    "X_val and y_val are used as cross-validation sets to select a threshold for determining whether a sale is normal or anomalous. - X_val represents a sale, with the first column being the price of the sale and the second column being the time of the sale. - y_val is a binary array where 1 represents an anomalous sale and 0 represents a normal sale. - X_val and y_val values will be used as a cross-validation set \\[\\{(x_{\\rm cv}^{(1)}, y_{\\rm cv}^{(1)}),\\ldots, (x_{\\rm cv}^{(m_{\\rm cv})}, y_{\\rm cv}^{(m_{\\rm cv})})\\}\\] - For each cross validation example, we will compute \\(p(x_{\\rm cv}^{(i)})\\). The vector of all of these probabilities \\(p(x_{\\rm cv}^{(1)}), \\ldots, p(x_{\\rm cv}^{(m_{\\rm cv})})\\) is passed to set_threshold in the vector p_val."
   ]
  },
  {
   "cell_type": "code",
   "execution_count": null,
   "id": "4ae3741b",
   "metadata": {},
   "outputs": [],
   "source": [
    "# Display the shape of X_val \n",
    "print ('The shape of X_val is:', X_val.shape)\n",
    "\n",
    "# Display the shape of y_val \n",
    "print ('The shape of y_val is: ', y_val.shape)"
   ]
  },
  {
   "cell_type": "code",
   "execution_count": null,
   "id": "4e46857d",
   "metadata": {},
   "outputs": [],
   "source": [
    "The shape of X_val is: (40, 2)\n",
    "The shape of y_val is:  (40,)"
   ]
  },
  {
   "cell_type": "markdown",
   "id": "e0e4dee0",
   "metadata": {},
   "source": [
    "The set_threshold function below we will use to find the best threshold for use to choose outliers based on the results of the validation set (p_val) and the basic truth (y_val). We will do a loop to try various \\(\\epsilon\\) values and select the best \\(\\epsilon\\) based on \\(F_1\\) scores."
   ]
  },
  {
   "cell_type": "markdown",
   "id": "c253593b",
   "metadata": {},
   "source": [
    "The \\(F_1\\) score is the harmonic mean of precision and recall, a good F1 score means you have low false positives and low false negatives, so it is a good indication of the accuracy of your anomaly detection algorithm. We can calculate the F1 score by selecting epsilon as the threshold, and then we place the calculated value into F1. The \\(F_1\\) score is computed using precision (\\(prec\\)) and recall (\\(rec\\)) as follows: \\[F_1 = \\frac{2\\cdot prec \\cdot rec}{prec + rec}\\]"
   ]
  },
  {
   "cell_type": "markdown",
   "id": "9b938116",
   "metadata": {},
   "source": [
    "Precision/Positive Predictive Value (PPV) is the proportion of true positive predictions among all positive predictions. We can calculate it with the formula: \\[prec = \\frac{tp}{tp+fp}\\]"
   ]
  },
  {
   "cell_type": "markdown",
   "id": "24974f82",
   "metadata": {},
   "source": [
    "Meanwhile, Recall/Sensitivity/True Positive Rate (TPR) is the proportion of actual positives that are correctly identified. We can calculate it with the formula: \\[rec = \\frac{tp}{tp+fn}\\]"
   ]
  },
  {
   "cell_type": "markdown",
   "id": "f9c2d504",
   "metadata": {},
   "source": [
    "where"
   ]
  },
  {
   "cell_type": "markdown",
   "id": "522895e7",
   "metadata": {},
   "source": [
    "True Positives (tp): The number of anomalies that were correctly identified as anomalies."
   ]
  },
  {
   "cell_type": "markdown",
   "id": "57847333",
   "metadata": {},
   "source": [
    "False Positives (fp): The number of normal data points that were incorrectly identified as anomalies (Type I error)."
   ]
  },
  {
   "cell_type": "markdown",
   "id": "4c730cbb",
   "metadata": {},
   "source": [
    "True Negatives (tn): The number of normal data points that were correctly identified as normal."
   ]
  },
  {
   "cell_type": "markdown",
   "id": "018df99a",
   "metadata": {},
   "source": [
    "False Negatives (fn): The number of anomalies that were incorrectly identified as normal (Type II error)."
   ]
  },
  {
   "cell_type": "markdown",
   "id": "e1120d49",
   "metadata": {},
   "source": [
    "The matrix is generally set out as follows:"
   ]
  },
  {
   "cell_type": "code",
   "execution_count": null,
   "id": "3cedfe09",
   "metadata": {},
   "outputs": [],
   "source": [
    "def set_threshold(y_val, p_val): \n",
    "    \"\"\"\n",
    "    Finds the best threshold to use for selecting outliers \n",
    "    based on the results from a validation set (p_val) \n",
    "    and the ground truth (y_val)\n",
    "    \n",
    "    Args:\n",
    "        y_val (ndarray): Ground truth on validation set\n",
    "        p_val (ndarray): Results on validation set\n",
    "        \n",
    "    Returns:\n",
    "        epsilon (float): Threshold chosen \n",
    "        F1 (float):      F1 score by choosing epsilon as threshold\n",
    "        best_precision (float): Precision at best F1 score\n",
    "        best_recall (float): Recall at best F1 score\n",
    "    \"\"\" \n",
    "\n",
    "    best_epsilon = 0\n",
    "    best_F1 = 0\n",
    "    F1 = 0\n",
    "    best_precision = 0\n",
    "    best_recall = 0\n",
    "    \n",
    "    step_size = (max(p_val) - min(p_val)) / 1000\n",
    "    \n",
    "    for epsilon in np.arange(min(p_val), max(p_val), step_size):\n",
    "\n",
    "        predictions = (p_val < epsilon)\n",
    "\n",
    "        tp = np.sum((predictions == 1) & (y_val == 1))\n",
    "        fp = np.sum((predictions == 1) & (y_val == 0))\n",
    "        fn = np.sum((predictions == 0) & (y_val == 1))\n",
    "\n",
    "        # Check if the denominator of precision (tp + fp) is zero \n",
    "        if tp + fp == 0:\n",
    "            prec = 0\n",
    "        else:\n",
    "            prec = tp / (tp + fp)\n",
    "\n",
    "        # Similarly, check if the denominator of recall (tp + fn) is zero \n",
    "        if tp + fn == 0:\n",
    "            rec = 0\n",
    "        else:\n",
    "            rec = tp / (tp + fn)\n",
    "\n",
    "        # Check if the denominator of F1 (prec + rec) is zero \n",
    "        if prec + rec == 0:\n",
    "            F1 = 0\n",
    "        else:\n",
    "            F1 = 2 * prec * rec / (prec + rec)\n",
    "\n",
    "        if F1 > best_F1:\n",
    "            best_F1 = F1\n",
    "            best_epsilon = epsilon\n",
    "            best_precision = prec\n",
    "            best_recall = rec\n",
    "        \n",
    "    return best_epsilon, best_F1, best_precision, best_recall"
   ]
  },
  {
   "cell_type": "code",
   "execution_count": null,
   "id": "7400b223",
   "metadata": {},
   "outputs": [],
   "source": [
    "p_val = gaussian_distribution(X_val, mu, var)\n",
    "epsilon, F1, precision, recall = set_threshold(y_val, p_val)\n",
    "\n",
    "print('Best epsilon found using cross-validation: %e' % epsilon)\n",
    "print('Best F1 on Cross Validation Set: %f' % F1)\n",
    "print('Best Precision on Cross Validation Set: %f' % precision)\n",
    "print('Best Recall on Cross Validation Set: %f' % recall)"
   ]
  },
  {
   "cell_type": "code",
   "execution_count": null,
   "id": "0da6d106",
   "metadata": {},
   "outputs": [],
   "source": [
    "Best epsilon found using cross-validation: 3.038309e-03\n",
    "Best F1 on Cross Validation Set: 1.000000\n",
    "Best Precision on Cross Validation Set: 1.000000\n",
    "Best Recall on Cross Validation Set: 1.000000"
   ]
  },
  {
   "cell_type": "markdown",
   "id": "8be72561",
   "metadata": {},
   "source": [
    "# Flag Anomalies"
   ]
  },
  {
   "cell_type": "markdown",
   "id": "d3047ee6",
   "metadata": {},
   "source": [
    "In the final stage, after we have succeeded in getting the best values for epsilon and F1, we can mark anomalous data. we can recall that if an example \\(x\\) has a low probability \\(p(x) < \\epsilon\\), then the example is classified as an anomaly."
   ]
  },
  {
   "cell_type": "code",
   "execution_count": null,
   "id": "c367625f",
   "metadata": {},
   "outputs": [],
   "source": [
    "# Find the outliers in the training set \n",
    "outliers = p < epsilon\n",
    "\n",
    "# Visualize the fit\n",
    "visualize_data(X_train, mu, var)\n",
    "\n",
    "# Draw a red circle around those outliers\n",
    "plt.plot(X_train[outliers, 0], X_train[outliers, 1], 'ro',\n",
    "         markersize= 10,markerfacecolor='none', markeredgewidth=2)"
   ]
  },
  {
   "cell_type": "markdown",
   "id": "82c72646",
   "metadata": {},
   "source": []
  },
  {
   "cell_type": "markdown",
   "id": "b50415c6",
   "metadata": {},
   "source": [
    "And there we have it a complete Machine Learning model for anomaly detection using Gaussian Distribution."
   ]
  },
  {
   "cell_type": "markdown",
   "id": "22a71bc0",
   "metadata": {},
   "source": [
    "# Use Cases of Anomaly Detection"
   ]
  },
  {
   "cell_type": "markdown",
   "id": "c73cba46",
   "metadata": {},
   "source": [
    "Anomaly detection has a wide range of applications, including:"
   ]
  },
  {
   "cell_type": "markdown",
   "id": "fee1fef9",
   "metadata": {},
   "source": [
    "# Types of Anomalies"
   ]
  },
  {
   "cell_type": "markdown",
   "id": "afe71603",
   "metadata": {},
   "source": [
    "There are three main types of anomalies:"
   ]
  },
  {
   "cell_type": "markdown",
   "id": "7eaa9db1",
   "metadata": {},
   "source": [
    "Point Anomalies: A single data instance is anomalous if it’s too far off from the rest. For example, usually spending 10 dollars for lunch, and suddenly spending 100 dollars."
   ]
  },
  {
   "cell_type": "markdown",
   "id": "31f45c70",
   "metadata": {},
   "source": [
    "Contextual Anomalies: The abnormality is context-specific. This type of anomaly is common in time-series data. For example, someone is trying to copy large amount of data from a remote machine to a local host unexpectedly. While copying data from a remote machine to a local host may be normal, the large amount of data may indicate a potential cyber attak."
   ]
  },
  {
   "cell_type": "markdown",
   "id": "a2fc7803",
   "metadata": {},
   "source": [
    "Collective Anomalies: A set of data instances collectively helps in detecting anomalies. A single data point may look normal when looked in isolation, but when we look into a group of the datapoints, unexpected pattern may emerge. For example an irregular heartbeat may indicate a heart failure problem. When we look at an individual heartbeat it may look normal, when we look at a series of hearbeats we may notice that some heartbeats are missing. In this course, we will not explain this type of anomaly in more detail."
   ]
  },
  {
   "cell_type": "markdown",
   "id": "1dec83e3",
   "metadata": {},
   "source": [
    "# Anomaly Detection Techniques"
   ]
  },
  {
   "cell_type": "markdown",
   "id": "c9f1f277",
   "metadata": {},
   "source": [
    "There are several techniques for anomaly detection, including:"
   ]
  },
  {
   "cell_type": "markdown",
   "id": "53fd2af7",
   "metadata": {},
   "source": [
    "Statistical Methods: These methods model the normal data behaviour using statistical models and then use these models to detect anomalies."
   ]
  },
  {
   "cell_type": "markdown",
   "id": "a6d3d18a",
   "metadata": {},
   "source": [
    "Distance-Based Methods: These methods calculate the distance between data points. Data points that are far away from others are considered anomalies."
   ]
  },
  {
   "cell_type": "markdown",
   "id": "863ea5f4",
   "metadata": {},
   "source": [
    "Density-Based Methods: These methods consider the density of data points. Areas of low density could be indicative of anomalies."
   ]
  },
  {
   "cell_type": "markdown",
   "id": "caf00447",
   "metadata": {},
   "source": [
    "In this discussion, we used Statistical Methods. Where we fit a statistical model to the data and anomalies are identified as points where the model is a poor fit."
   ]
  },
  {
   "cell_type": "markdown",
   "id": "0cf7a289",
   "metadata": {},
   "source": [
    "In this particular case, a Gaussian distribution is used to model our data. Basically, we model the data we have with the assumption that the data closely follows (fit) a normal distribution."
   ]
  }
 ],
 "metadata": {},
 "nbformat": 4,
 "nbformat_minor": 5
}
