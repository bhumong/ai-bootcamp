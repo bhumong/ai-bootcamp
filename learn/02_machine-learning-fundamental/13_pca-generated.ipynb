{
 "cells": [
  {
   "cell_type": "markdown",
   "id": "02324d40",
   "metadata": {},
   "source": [
    "source: [link](https://ai-bootcamp.ruangguru.com/learn/02_machine-learning-fundamental/13_pca.html)"
   ]
  },
  {
   "cell_type": "markdown",
   "id": "5aa70fbb",
   "metadata": {},
   "source": [
    "# Principal Component Analysis"
   ]
  },
  {
   "cell_type": "markdown",
   "id": "2cb5f067",
   "metadata": {},
   "source": [
    "Principal Component Analysis (PCA) is a dimensionality reduction technique that can be used to reduce dimensionality of a dataset while retaining most of the information in the dataset. This concept might be daunting at first, but it is actually quite simple. Let’s start with a very simple example."
   ]
  },
  {
   "cell_type": "markdown",
   "id": "e36cab6c",
   "metadata": {},
   "source": [
    "# Student scores"
   ]
  },
  {
   "cell_type": "markdown",
   "id": "a58ba44a",
   "metadata": {},
   "source": [
    "To understand PCA it’s really a lot more fun if we use real data. We’ll use a dataset of student scores on various tests that’s available from Kaggle. For now let’s focused only on three features: math score, reading score, and writing score."
   ]
  },
  {
   "cell_type": "code",
   "execution_count": null,
   "id": "6c47fa4f",
   "metadata": {},
   "outputs": [],
   "source": [
    "import pandas as pd\n",
    "\n",
    "# Replace 'your_data_file.csv' with the actual path to your CSV file\n",
    "file_path = 'https://storage.googleapis.com/rg-ai-bootcamp/machine-learning/StudentsPerformance.csv'\n",
    "\n",
    "# Load the CSV data into a pandas DataFrame\n",
    "data = pd.read_csv(file_path)\n",
    "\n",
    "numerical_data = data[['math score', 'reading score', 'writing score']]\n",
    "numerical_data"
   ]
  },
  {
   "cell_type": "markdown",
   "id": "96a8154d",
   "metadata": {},
   "source": [
    "Let’s plot the data to see what it looks like."
   ]
  },
  {
   "cell_type": "code",
   "execution_count": null,
   "id": "2bd1b250",
   "metadata": {},
   "outputs": [],
   "source": [
    "import pandas as pd\n",
    "from plotly.subplots import make_subplots\n",
    "import plotly.graph_objects as go\n",
    "\n",
    "# Create a subplot with axis labels\n",
    "fig = make_subplots(rows=1, cols=3, subplot_titles=( \"Reading vs Writing\", \"Math vs Reading\", \"Math vs Writing\"))\n",
    "\n",
    "# Reading vs Writing\n",
    "fig.add_trace(go.Scatter(x=data['reading score'], y=data['writing score'], mode='markers', name='Reading vs Writing',\n",
    "                         hovertemplate='Reading Score: %{x:.2f}<br>Writing Score: %{y:.2f}<extra></extra>'), row=1, col=1)\n",
    "fig.update_xaxes(title_text=\"Reading Score\", row=1, col=1)\n",
    "fig.update_yaxes(title_text=\"Writing Score\", row=1, col=1)\n",
    "\n",
    "# Add scatter plots with axis labels\n",
    "# Math vs Reading\n",
    "fig.add_trace(go.Scatter(x=data['math score'], y=data['reading score'], mode='markers', name='Math vs Reading',\n",
    "                         hovertemplate='Math Score: %{x:.2f}<br>Reading Score: %{y:.2f}<extra></extra>'), row=1, col=2)\n",
    "fig.update_xaxes(title_text=\"Math Score\", row=1, col=2)\n",
    "fig.update_yaxes(title_text=\"Reading Score\", row=1, col=2)\n",
    "\n",
    "# Math vs Writing\n",
    "fig.add_trace(go.Scatter(x=data['math score'], y=data['writing score'], mode='markers', name='Math vs Writing',\n",
    "                         hovertemplate='Math Score: %{x:.2f}<br>Writing Score: %{y:.2f}<extra></extra>'), row=1, col=3)\n",
    "fig.update_xaxes(title_text=\"Math Score\", row=1, col=3)\n",
    "fig.update_yaxes(title_text=\"Writing Score\", row=1, col=3)\n",
    "\n",
    "# Update layout\n",
    "fig.update_layout(height=500, width=1500, title_text=\"Students' Performance Comparisons\")\n",
    "fig.show()"
   ]
  },
  {
   "cell_type": "markdown",
   "id": "deea03ea",
   "metadata": {},
   "source": [
    "If we see above 1000 student scores on a plot, we can see some patterns:"
   ]
  },
  {
   "cell_type": "markdown",
   "id": "98ea0c80",
   "metadata": {},
   "source": [
    "- Students who perform well on reading tend to perform well on writing as well\n",
    "- Students who perform well on reading or writing doesn’t mean they perform well on math, and vice versa\n",
    "- Students who do poor on any of the tests tend to do poor on all of the tests, and vice versa"
   ]
  },
  {
   "cell_type": "markdown",
   "id": "78b23115",
   "metadata": {},
   "source": [
    "As you can see the skills of reading and writing are more aligned than the skill of either of those with math. This “alignment” is something called covariance. Covariance is a measure of how two variables change together. Let’s check below calculation."
   ]
  },
  {
   "cell_type": "code",
   "execution_count": null,
   "id": "a155b569",
   "metadata": {},
   "outputs": [],
   "source": [
    "cov_reading_writing = data['reading score'].cov(data['writing score'])\n",
    "print(\"Covariance between Reading Score and Writing Score:\", cov_reading_writing)\n",
    "\n",
    "cov_math_writing = data['math score'].cov(data['writing score'])\n",
    "print(\"Covariance between Math Score and Writing Score:\", cov_math_writing)\n",
    "\n",
    "cov_math_reading = data['math score'].cov(data['reading score'])\n",
    "print(\"Covariance between Math Score and Reading Score:\", cov_math_reading)"
   ]
  },
  {
   "cell_type": "code",
   "execution_count": null,
   "id": "a733d618",
   "metadata": {},
   "outputs": [],
   "source": [
    "Covariance between Reading Score and Writing Score: 211.78666066066071\n",
    "Covariance between Math Score and Writing Score: 184.93913313313314\n",
    "Covariance between Math Score and Reading Score: 180.99895795795805"
   ]
  },
  {
   "cell_type": "markdown",
   "id": "84256275",
   "metadata": {},
   "source": [
    "As you can see above the math is validating our observation: reading and writing covariance score is higher than reading and math or writing and math. This means if a student either does well or poorly on reading, they tend to do the same on writing, so if we say have a class to improve student’s reading skills, we can expect their writing skills to improve as well."
   ]
  },
  {
   "cell_type": "markdown",
   "id": "7f8cfcfa",
   "metadata": {},
   "source": [
    "But because the covariance is still positive for math vs either reading or writing, can we say that if we improve student’s reading or writing skills, their math skills will improve as well? Maybe, intuitively if a student is get a better score from reading or writing, they will become a better learner, but this conclusion is a long shot compared to the conclusion we can make about reading and writing where it’s more obvious that if we improve one, the other will tend to improve as well."
   ]
  },
  {
   "cell_type": "markdown",
   "id": "0e0bfa78",
   "metadata": {},
   "source": [
    "# Let’s do some PCA"
   ]
  },
  {
   "cell_type": "markdown",
   "id": "44ee73a2",
   "metadata": {},
   "source": [
    "So before we already introduced our dataset and a little bit of covariance that will come in handy to understand PCA. Now let’s do some PCA to our data. PCA is a technique that can be used to reduce the dimensionality of a dataset while trying to retain as much information as possible. So let’s try to reduce our 3 features dataset into 2 features dataset."
   ]
  },
  {
   "cell_type": "code",
   "execution_count": null,
   "id": "6ff19cf1",
   "metadata": {},
   "outputs": [],
   "source": [
    "import plotly.express as px\n",
    "from sklearn.decomposition import PCA\n",
    "\n",
    "# Performing PCA\n",
    "pca = PCA(n_components=2)\n",
    "principal_components = pca.fit_transform(numerical_data)\n",
    "\n",
    "# Creating a DataFrame for the PCA results\n",
    "pca_df = pd.DataFrame(data=principal_components, columns=['Principal Component 1', 'Principal Component 2'])\n",
    "\n",
    "# Adding original scores as hover_data\n",
    "pca_df['Math Score'] = data['math score']\n",
    "pca_df['Reading Score'] = data['reading score']\n",
    "pca_df['Writing Score'] = data['writing score']\n",
    "\n",
    "# Create a scatter plot using Plotly\n",
    "fig = px.scatter(\n",
    "    pca_df, \n",
    "    x='Principal Component 1', \n",
    "    y='Principal Component 2', \n",
    "    hover_data=['Math Score', 'Reading Score', 'Writing Score'], \n",
    "    title='PCA of Student Performance',\n",
    "    labels={'Principal Component 1': 'PC1', 'Principal Component 2': 'PC2'}\n",
    ")\n",
    "\n",
    "# Show the plot\n",
    "fig.show()"
   ]
  },
  {
   "cell_type": "markdown",
   "id": "d3c70da2",
   "metadata": {},
   "source": [
    "Above is 2 dimensional plot of our data, reduced from 3 dimensions. The process of the data reduction is done by focusing on keeping the relation between features as much as possible. How so? Look at below plot"
   ]
  },
  {
   "cell_type": "code",
   "execution_count": null,
   "id": "5b7c2a75",
   "metadata": {},
   "outputs": [],
   "source": [
    "import plotly.express as px\n",
    "import plotly.subplots as sp\n",
    "\n",
    "\n",
    "# Adding original scores as hover_data\n",
    "pca_df['Math Score'] = data['math score']\n",
    "pca_df['Reading Score'] = data['reading score']\n",
    "pca_df['Writing Score'] = data['writing score']\n",
    "\n",
    "# Create scatter plots using Plotly\n",
    "fig1 = px.scatter(\n",
    "    pca_df, \n",
    "    x='Principal Component 1', \n",
    "    y='Principal Component 2', \n",
    "    hover_data=['Math Score', 'Reading Score', 'Writing Score'], \n",
    "    title='PCA of Student Performance (Math Score)',\n",
    "    labels={'Principal Component 1': 'PC1', 'Principal Component 2': 'PC2'},\n",
    "    color='Math Score',\n",
    "    color_continuous_scale='rainbow'\n",
    ")\n",
    "\n",
    "fig2 = px.scatter(\n",
    "    pca_df, \n",
    "    x='Principal Component 1', \n",
    "    y='Principal Component 2', \n",
    "    hover_data=['Math Score', 'Reading Score', 'Writing Score'], \n",
    "    title='PCA of Student Performance (Writing Score)',\n",
    "    labels={'Principal Component 1': 'PC1', 'Principal Component 2': 'PC2'},\n",
    "    color='Writing Score',\n",
    "    color_continuous_scale='rainbow'\n",
    ")\n",
    "\n",
    "fig3 = px.scatter(\n",
    "    pca_df, \n",
    "    x='Principal Component 1', \n",
    "    y='Principal Component 2', \n",
    "    hover_data=['Math Score', 'Reading Score', 'Writing Score'], \n",
    "    title='PCA of Student Performance (Reading Score)',\n",
    "    labels={'Principal Component 1': 'PC1', 'Principal Component 2': 'PC2'},\n",
    "    color='Reading Score',\n",
    "    color_continuous_scale='rainbow'\n",
    ")\n",
    "\n",
    "# Create subplots horizontally\n",
    "fig = sp.make_subplots(rows=1, cols=3, shared_xaxes=False, shared_yaxes=False, horizontal_spacing=0.1)\n",
    "\n",
    "# Add traces to the subplots\n",
    "fig.add_trace(fig1['data'][0], row=1, col=1)\n",
    "fig.add_trace(fig2['data'][0], row=1, col=2)\n",
    "fig.add_trace(fig3['data'][0], row=1, col=3)\n",
    "\n",
    "# Add labels at the top of each plot using annotations\n",
    "fig.add_annotation(\n",
    "    text='Math Score',\n",
    "    xref='paper', yref='paper',\n",
    "    x=0.07, y=1.15,\n",
    "    showarrow=False,\n",
    "    font=dict(size=14)\n",
    ")\n",
    "\n",
    "fig.add_annotation(\n",
    "    text='Writing Score',\n",
    "    xref='paper', yref='paper',\n",
    "    x=0.5, y=1.15,\n",
    "    showarrow=False,\n",
    "    font=dict(size=14)\n",
    ")\n",
    "\n",
    "fig.add_annotation(\n",
    "    text='Reading Score',\n",
    "    xref='paper', yref='paper',\n",
    "    x=0.9, y=1.15,\n",
    "    showarrow=False,\n",
    "    font=dict(size=14)\n",
    ")\n",
    "\n",
    "# Update layout for the overall figure\n",
    "fig.update_layout(\n",
    "    title='PCA of Student Performance',\n",
    "    xaxis=dict(title='Principal Component 1 (PC1)'),\n",
    "    yaxis=dict(title='Principal Component 2 (PC2)'),\n",
    "    showlegend=False,\n",
    ")\n",
    "\n",
    "# Show the horizontal subplot\n",
    "fig.show()"
   ]
  },
  {
   "cell_type": "markdown",
   "id": "88245564",
   "metadata": {},
   "source": [
    "Above are three identical plots but color coded by our three main features. As you can see for the writing and reading score, the gradient of the color is nearly the same. Why? Because as we’ve already learned their covariance is high."
   ]
  },
  {
   "cell_type": "markdown",
   "id": "3dfe6815",
   "metadata": {},
   "source": [
    "It’s different from math when compared to other features, because even if generally when writing or reading score get bigger the math score also get bigger, but because the covariance is low, we see that the gradient still from the left to right, but a little bit rotated clockwise."
   ]
  },
  {
   "cell_type": "markdown",
   "id": "51420b1a",
   "metadata": {},
   "source": [
    "One of the neat thing about PCA is that data that is related to each other will be clustered together. You can try to check above plot that:"
   ]
  },
  {
   "cell_type": "markdown",
   "id": "be84a49f",
   "metadata": {},
   "source": [
    "- Students that have all scores high are clustered together\n",
    "- Students that have all scores low are clustered together\n",
    "- Students that have high reading and writing scores but low math scores are clustered together\n",
    "- Students that have high math scores but low reading and writing scores are clustered together\n",
    "- And so on"
   ]
  },
  {
   "cell_type": "markdown",
   "id": "f85bd54a",
   "metadata": {},
   "source": [
    "You can try to check it yourself! But hang on, what if we have a machine learning model that can help us cluster unsupervised data automatically? Hmm, I wonder if there’s any machine learning model that can do that? 🤔"
   ]
  },
  {
   "cell_type": "markdown",
   "id": "3ce5372d",
   "metadata": {},
   "source": [
    "> Note: One term that you need to know is every features after PCA dimensionality reduction is calledprincipal component. So in our case we have 2 features after reducing the dimensionality of our dataset, so we have 2 principal components."
   ]
  },
  {
   "cell_type": "markdown",
   "id": "f815e0c0",
   "metadata": {},
   "source": [
    "Note: One term that you need to know is every features after PCA dimensionality reduction is called principal component. So in our case we have 2 features after reducing the dimensionality of our dataset, so we have 2 principal components."
   ]
  },
  {
   "cell_type": "code",
   "execution_count": null,
   "id": "3ad9ca7f",
   "metadata": {},
   "outputs": [],
   "source": [
    "from sklearn.cluster import KMeans\n",
    "import plotly.express as px\n",
    "\n",
    "# Perform k-means clustering on the PCA-transformed data\n",
    "kmeans = KMeans(n_clusters=22, random_state=0)\n",
    "pca_df['Cluster'] = kmeans.fit_predict(principal_components)\n",
    "\n",
    "# Create a scatter plot for the k-means clustering results\n",
    "fig4 = px.scatter(\n",
    "    pca_df, \n",
    "    x='Principal Component 1', \n",
    "    y='Principal Component 2', \n",
    "    color='Cluster',\n",
    "    title=f'K-Means Clustering on PCA Components',\n",
    "    labels={'Principal Component 1': 'PC1', 'Principal Component 2': 'PC2'},\n",
    "    color_continuous_scale='rainbow',\n",
    "    hover_data=['Math Score', 'Reading Score', 'Writing Score'], \n",
    ")\n",
    "\n",
    "# Show the k-means clustering plot\n",
    "fig4.show()"
   ]
  },
  {
   "cell_type": "code",
   "execution_count": null,
   "id": "45efa66c",
   "metadata": {},
   "outputs": [],
   "source": [
    "/home/imam/miniconda3/envs/my-manim-environment/lib/python3.11/site-packages/sklearn/cluster/_kmeans.py:1412: FutureWarning:\n",
    "\n",
    "The default value of `n_init` will change from 10 to 'auto' in 1.4. Set the value of `n_init` explicitly to suppress the warning\n"
   ]
  },
  {
   "cell_type": "markdown",
   "id": "c5d561ef",
   "metadata": {},
   "source": [
    "K-means of course! We can see above and formalize our learning about PCA will cluster the data that is related to each other together. There are so many action items that we can take from this that we might want to share to our stakeholders:"
   ]
  },
  {
   "cell_type": "markdown",
   "id": "f3daaeff",
   "metadata": {},
   "source": [
    "- If any students fall to the cluster number 5, 8, 17, 19, they might need major help to fix their scores (because as we can see most data that fall into those clusters are students with low scores)\n",
    "- Some students on 6 and 15 got good grades on math but not on reading and writing, maybe we can help them to improve their reading and writing skills\n",
    "- Some students on 4, 11, and 14 got good grades on reading and writing but not on math, maybe we can help them to improve their math skills\n",
    "- Students on cluster 20 are excellent students, maybe we can give them some special treatment"
   ]
  },
  {
   "cell_type": "markdown",
   "id": "c61e9a38",
   "metadata": {},
   "source": [
    "So as you can see PCA is a really amazing tools that can help us to visualize especially on unsupervised data, and even we can combine it’s power with other machine learning models to help us farther."
   ]
  },
  {
   "cell_type": "markdown",
   "id": "74b565ec",
   "metadata": {},
   "source": [
    "# So what’s the point behind PCA?"
   ]
  },
  {
   "cell_type": "markdown",
   "id": "77ccf56e",
   "metadata": {},
   "source": [
    "- PCA can help us visualize hundreds of dimensions into 2 or 3 dimensions, above data use only 3 dimensions for simplicity\n",
    "- Similar data will be clustered together, imagine if we’re on a finance company, PCA might help us reduce hundreds of features from our customer data into 2 or 3 features, and then we might see some pattern for our customers that are likely to pay their debt, and customers that are likely to not pay their debt, some fraud customers, and so on, because we might see they cluster together\n",
    "- We can use PCA as intermediate step to then feed the data into other machine learning models, such as above we can see that we can use PCA to reduce the dimensionality of our data, and then we can feed the data into K-means to cluster the data, and then we can say that some clusters are students that need help only on math, some clusters are students that need help only on reading and writing, and so on\n",
    "- Other use case is we can use PCA to compress our data\n",
    "- And so on"
   ]
  },
  {
   "cell_type": "markdown",
   "id": "b8678b52",
   "metadata": {},
   "source": [
    "# Inference"
   ]
  },
  {
   "cell_type": "markdown",
   "id": "ee08635e",
   "metadata": {},
   "source": [
    "So given we have a new student scores, for example: math score 45, reading score 80, and writing score 90, how can we manually predict the cluster number? Let’s breakdown"
   ]
  },
  {
   "cell_type": "markdown",
   "id": "584d063f",
   "metadata": {},
   "source": [
    "# Standardization"
   ]
  },
  {
   "cell_type": "markdown",
   "id": "b748d56e",
   "metadata": {},
   "source": [
    "Scikit by default will standardize the data for us, it’s basically subtracting the mean from each data point (some standardization method also divide the data point by the standard deviation, but scikit doesn’t do that by default). For the reason why this standardization is used, you can check the supplementary material. So let’s check every mean of each feature:"
   ]
  },
  {
   "cell_type": "code",
   "execution_count": null,
   "id": "b3910380",
   "metadata": {},
   "outputs": [],
   "source": [
    "import numpy as np\n",
    "\n",
    "mean_math = np.mean(numerical_data['math score'])\n",
    "mean_reading = np.mean(numerical_data['reading score'])\n",
    "mean_writing = np.mean(numerical_data['writing score'])\n",
    "\n",
    "print(\"Mean Math Score:\", mean_math)\n",
    "print(\"Mean Reading Score:\", mean_reading)\n",
    "print(\"Mean Writing Score:\", mean_writing)"
   ]
  },
  {
   "cell_type": "code",
   "execution_count": null,
   "id": "4bb37002",
   "metadata": {},
   "outputs": [],
   "source": [
    "Mean Math Score: 66.089\n",
    "Mean Reading Score: 69.169\n",
    "Mean Writing Score: 68.054"
   ]
  },
  {
   "cell_type": "markdown",
   "id": "4351b73d",
   "metadata": {},
   "source": [
    "Now let’s subtract the mean from each data point:"
   ]
  },
  {
   "cell_type": "code",
   "execution_count": null,
   "id": "720ee072",
   "metadata": {},
   "outputs": [],
   "source": [
    "math_score = 45\n",
    "reading_score = 80\n",
    "writing_score = 90\n",
    "\n",
    "math_score_standardized = math_score - mean_math \n",
    "reading_score_standardized = reading_score - mean_reading\n",
    "writing_score_standardized = writing_score - mean_writing\n",
    "\n",
    "print(\"Standardized Math Score:\", math_score_standardized)\n",
    "print(\"Standardized Reading Score:\", reading_score_standardized)\n",
    "print(\"Standardized Writing Score:\", writing_score_standardized)"
   ]
  },
  {
   "cell_type": "code",
   "execution_count": null,
   "id": "0081c1e6",
   "metadata": {},
   "outputs": [],
   "source": [
    "Standardized Math Score: -21.089\n",
    "Standardized Reading Score: 10.831000000000003\n",
    "Standardized Writing Score: 21.945999999999998"
   ]
  },
  {
   "cell_type": "markdown",
   "id": "7b54f48e",
   "metadata": {},
   "source": [
    "# Plotting our data"
   ]
  },
  {
   "cell_type": "markdown",
   "id": "ea8d85c7",
   "metadata": {},
   "source": [
    "Now let’s plot our data, to plot our data we need to know how every scores impact each principal component at their calculation. This impact is called loading score or weight. Let’s check the loading score of our data:"
   ]
  },
  {
   "cell_type": "code",
   "execution_count": null,
   "id": "88448557",
   "metadata": {},
   "outputs": [],
   "source": [
    "# Access the PCA components (weights) for each column\n",
    "pca_weights = pca.components_\n",
    "\n",
    "# Create a DataFrame to display the PCA weights\n",
    "pca_weights_df = pd.DataFrame(pca_weights, columns=numerical_data.columns, index=['PC1', 'PC2'])\n",
    "\n",
    "# Display the PCA weights\n",
    "print(\"PCA Weights for Each Column:\")\n",
    "print(pca_weights_df)"
   ]
  },
  {
   "cell_type": "code",
   "execution_count": null,
   "id": "3411d0dd",
   "metadata": {},
   "outputs": [],
   "source": [
    "PCA Weights for Each Column:\n",
    "     math score  reading score  writing score\n",
    "PC1   -0.562649      -0.573977      -0.594959\n",
    "PC2    0.825612      -0.353292      -0.439943"
   ]
  },
  {
   "cell_type": "markdown",
   "id": "bf073e8d",
   "metadata": {},
   "source": [
    "The formula is simple, we just need to multiply the loading score with the standardized data point. For example for the $PC1$ our standardized data point is:"
   ]
  },
  {
   "cell_type": "markdown",
   "id": "51e132e8",
   "metadata": {},
   "source": [
    "\n",
    "\\[\n",
    "\\text{Standardized Math Score}: -21.089 \\\\\n",
    "\\text{Standardized Reading Score}: 10.831000000000003 \\\\\n",
    "\\text{Standardized Writing Score}: 21.945999999999998 \\\\\n",
    "\\]\n"
   ]
  },
  {
   "cell_type": "markdown",
   "id": "edf2c1d5",
   "metadata": {},
   "source": [
    "With given weights:"
   ]
  },
  {
   "cell_type": "markdown",
   "id": "afd22725",
   "metadata": {},
   "source": [
    "\n",
    "\\[\n",
    "\\text{Math loading score}: -0.562649\\\\\n",
    "\\text{Reading loading score}: -0.573977\\\\\n",
    "\\text{Writing loading score}: -0.594959\n",
    "\\]\n"
   ]
  },
  {
   "cell_type": "markdown",
   "id": "46c0a04d",
   "metadata": {},
   "source": [
    "Then we just need to multiply them:"
   ]
  },
  {
   "cell_type": "markdown",
   "id": "8fa9909c",
   "metadata": {},
   "source": [
    "\n",
    "\\[\n",
    "PC1 = -21.089 \\times -0.562649 + 10.831000000000003 \\times -0.573977 + 21.945999999999998 \\times -0.594959 = -7.40801316088976\n",
    "\\]\n"
   ]
  },
  {
   "cell_type": "markdown",
   "id": "9c5fbc1b",
   "metadata": {},
   "source": [
    "This would be the value of all of our scores on the plot."
   ]
  },
  {
   "cell_type": "code",
   "execution_count": null,
   "id": "d18552dc",
   "metadata": {},
   "outputs": [],
   "source": [
    "pc1_calculation = pca_weights_df.loc[\"PC1\", \"math score\"] * math_score_standardized + pca_weights_df.loc[\"PC1\", \"reading score\"] * reading_score_standardized + pca_weights_df.loc[\"PC1\", \"writing score\"] * writing_score_standardized\n",
    "print(\"PC1 Calculation:\", pc1_calculation)\n",
    "\n",
    "pc2_calculation = pca_weights_df.loc[\"PC2\", \"math score\"] * math_score_standardized + pca_weights_df.loc[\"PC2\", \"reading score\"] * reading_score_standardized + pca_weights_df.loc[\"PC2\", \"writing score\"] * writing_score_standardized\n",
    "print(\"PC2 Calculation:\", pc2_calculation)"
   ]
  },
  {
   "cell_type": "code",
   "execution_count": null,
   "id": "c0bc8a0b",
   "metadata": {},
   "outputs": [],
   "source": [
    "PC1 Calculation: -7.40801316088976\n",
    "PC2 Calculation: -30.892823442881664"
   ]
  },
  {
   "cell_type": "markdown",
   "id": "c2516dbf",
   "metadata": {},
   "source": [
    "So after we calculate our points, we can plot it on our PCA plot on (-7.40801316088976, -30.892823442881664):"
   ]
  },
  {
   "cell_type": "code",
   "execution_count": null,
   "id": "acae7319",
   "metadata": {},
   "outputs": [],
   "source": [
    "from sklearn.cluster import KMeans\n",
    "import plotly.express as px\n",
    "\n",
    "# Perform k-means clustering on the PCA-transformed data\n",
    "kmeans = KMeans(n_clusters=22, random_state=0)\n",
    "pca_df['Cluster'] = kmeans.fit_predict(principal_components)\n",
    "data = {'Principal Component 1': [-7.40801316088976],\n",
    "        'Principal Component 2': [-30.892823442881664],\n",
    "        'Math Score': [45],\n",
    "        'Reading Score': [80],\n",
    "        'Writing Score': [90],}\n",
    "\n",
    "pca_df_new = pd.concat([pca_df, pd.DataFrame(data)], ignore_index=True)\n",
    "\n",
    "# Create a scatter plot for the k-means clustering results\n",
    "fig4 = px.scatter(\n",
    "    pca_df_new, \n",
    "    x='Principal Component 1', \n",
    "    y='Principal Component 2', \n",
    "    color='Cluster',\n",
    "    title=f'K-Means Clustering on PCA Components',\n",
    "    labels={'Principal Component 1': 'PC1', 'Principal Component 2': 'PC2'},\n",
    "    color_continuous_scale='rainbow',\n",
    "    hover_data=['Math Score', 'Reading Score', 'Writing Score'], \n",
    ")\n",
    "\n",
    "# Show the k-means clustering plot\n",
    "fig4.show()"
   ]
  },
  {
   "cell_type": "code",
   "execution_count": null,
   "id": "585b21b1",
   "metadata": {},
   "outputs": [],
   "source": [
    "/home/imam/miniconda3/envs/my-manim-environment/lib/python3.11/site-packages/sklearn/cluster/_kmeans.py:1412: FutureWarning:\n",
    "\n",
    "The default value of `n_init` will change from 10 to 'auto' in 1.4. Set the value of `n_init` explicitly to suppress the warning\n"
   ]
  },
  {
   "cell_type": "markdown",
   "id": "12605f7b",
   "metadata": {},
   "source": [
    "As you can see above we have a new single data point plotted that hasn’t been clustered yet. So let’s cluster it!"
   ]
  },
  {
   "cell_type": "markdown",
   "id": "51268d30",
   "metadata": {},
   "source": [
    "# Finding the cluster"
   ]
  },
  {
   "cell_type": "markdown",
   "id": "5a0356e5",
   "metadata": {},
   "source": [
    "To find the cluster we need to get all centroids first."
   ]
  },
  {
   "cell_type": "code",
   "execution_count": null,
   "id": "dc0b7c7a",
   "metadata": {},
   "outputs": [],
   "source": [
    "def centroids_to_dict(centroids):\n",
    "    centroid_dict = {}\n",
    "    for i, centroid in enumerate(centroids):\n",
    "        centroid_key = f\"Centroid {i+1}\"\n",
    "        centroid_dict[centroid_key] = centroid.tolist()\n",
    "    return centroid_dict\n",
    "\n",
    "\n",
    "centroid_dict = centroids_to_dict(kmeans.cluster_centers_)\n",
    "print(centroid_dict)"
   ]
  },
  {
   "cell_type": "code",
   "execution_count": null,
   "id": "2fada705",
   "metadata": {},
   "outputs": [],
   "source": [
    "{'Centroid 1': [-15.943224630791715, -0.9070053183920267], 'Centroid 2': [28.941650614567102, -5.73892623045976], 'Centroid 3': [14.548856375164332, 8.090328619793798], 'Centroid 4': [-36.90728358893218, 8.276377195361517], 'Centroid 5': [-8.037316954950125, -6.620486287888707], 'Centroid 6': [45.074468370806926, 5.384960771273996], 'Centroid 7': [0.5709137281666932, 10.003752461381284], 'Centroid 8': [6.858696711240797, 0.45803211514065306], 'Centroid 9': [82.89587081166918, -0.2214084346961526], 'Centroid 10': [-24.54073462940947, 5.511350838396982], 'Centroid 11': [-38.79923755663632, -3.6061203645457183], 'Centroid 12': [1.9393537216705061, -8.16380734697627], 'Centroid 13': [-4.925904319438298, 2.2747275647729213], 'Centroid 14': [32.650214032600545, 8.316239692597533], 'Centroid 15': [-17.45452344254033, -10.67078097671195], 'Centroid 16': [-15.058151807435763, 10.208996532914504], 'Centroid 17': [-28.630403914997597, -4.858285616417209], 'Centroid 18': [63.318695206200665, -4.273284559916566], 'Centroid 19': [23.348857451348792, 3.3812899585860605], 'Centroid 20': [42.81183801107755, -6.075533049246773], 'Centroid 21': [-51.87254205402511, -0.04876276936114911], 'Centroid 22': [15.940113122611777, -7.8049425291843875]}"
   ]
  },
  {
   "cell_type": "markdown",
   "id": "d06884f8",
   "metadata": {},
   "source": [
    "Then we need to calculate the distance between each centroid with our new data point and choose the smallest distance using euclidean distance:"
   ]
  },
  {
   "cell_type": "code",
   "execution_count": null,
   "id": "781dd35f",
   "metadata": {},
   "outputs": [],
   "source": [
    "import numpy as np\n",
    "\n",
    "def find_nearest_centroid(x, y, centroids):\n",
    "    # Create a point as a NumPy array\n",
    "    point = np.array([x, y])\n",
    "    \n",
    "    # Calculate the Euclidean distance between the point and all centroids\n",
    "    distances = np.linalg.norm(np.array(list(centroids.values())) - point, axis=1)\n",
    "    \n",
    "    # Find the index of the nearest centroid\n",
    "    nearest_centroid_index = np.argmin(distances)\n",
    "    \n",
    "    return f\"cluster {nearest_centroid_index}\"\n",
    "\n",
    "nearest_centroid = find_nearest_centroid(pc1_calculation, pc2_calculation, centroid_dict)\n",
    "print(f\"The cluster for ({pc1_calculation}, {pc2_calculation}) is {nearest_centroid}\")"
   ]
  },
  {
   "cell_type": "code",
   "execution_count": null,
   "id": "e1b7cd05",
   "metadata": {},
   "outputs": [],
   "source": [
    "The cluster for (-7.40801316088976, -30.892823442881664) is cluster 14"
   ]
  },
  {
   "cell_type": "markdown",
   "id": "4462fe20",
   "metadata": {},
   "source": [
    "Now we know that our data point is closest to cluster 14."
   ]
  },
  {
   "cell_type": "code",
   "execution_count": null,
   "id": "5bafd615",
   "metadata": {},
   "outputs": [],
   "source": [
    "from sklearn.cluster import KMeans\n",
    "import plotly.express as px\n",
    "\n",
    "# Perform k-means clustering on the PCA-transformed data\n",
    "kmeans = KMeans(n_clusters=22, random_state=0)\n",
    "pca_df['Cluster'] = kmeans.fit_predict(principal_components)\n",
    "data = {'Principal Component 1': [-8.488375],\n",
    "        'Principal Component 2': [-30.892823442881664],\n",
    "        'Math Score': [45],\n",
    "        'Reading Score': [80],\n",
    "        'Writing Score': [90],\n",
    "        'Cluster': [14]\n",
    "        }\n",
    "\n",
    "pca_df_new = pd.concat([pca_df, pd.DataFrame(data)], ignore_index=True)\n",
    "\n",
    "# Create a scatter plot for the k-means clustering results\n",
    "fig4 = px.scatter(\n",
    "    pca_df_new, \n",
    "    x='Principal Component 1', \n",
    "    y='Principal Component 2', \n",
    "    color='Cluster',\n",
    "    title=f'K-Means Clustering on PCA Components',\n",
    "    labels={'Principal Component 1': 'PC1', 'Principal Component 2': 'PC2'},\n",
    "    color_continuous_scale='rainbow',\n",
    "    hover_data=['Math Score', 'Reading Score', 'Writing Score'], \n",
    ")\n",
    "\n",
    "# Show the k-means clustering plot\n",
    "fig4.show()"
   ]
  },
  {
   "cell_type": "code",
   "execution_count": null,
   "id": "4e9125cf",
   "metadata": {},
   "outputs": [],
   "source": [
    "/home/imam/miniconda3/envs/my-manim-environment/lib/python3.11/site-packages/sklearn/cluster/_kmeans.py:1412: FutureWarning:\n",
    "\n",
    "The default value of `n_init` will change from 10 to 'auto' in 1.4. Set the value of `n_init` explicitly to suppress the warning\n"
   ]
  },
  {
   "cell_type": "markdown",
   "id": "0f50aa68",
   "metadata": {},
   "source": [
    "Now we know that a student with: math score 45, reading score 80, and writing score 90, is clustered on cluster 14. Basically if we check our previous notes:"
   ]
  },
  {
   "cell_type": "markdown",
   "id": "d043225d",
   "metadata": {},
   "source": [
    "- If any students fall to the cluster number 5, 8, 17, 19, they might need major help to fix their scores (because as we can see most data that fall into those clusters are students with low scores)\n",
    "- Some students on 6 and 15 got good grades on math but not on reading and writing, maybe we can help them to improve their reading and writing skills\n",
    "- Some students on 4, 11, and 14 got good grades on reading and writing but not on math, maybe we can help them to improve their math skills\n",
    "- Students on cluster 20 are excellent students, maybe we can give them some special treatment"
   ]
  },
  {
   "cell_type": "markdown",
   "id": "f6a26266",
   "metadata": {},
   "source": [
    "We can see that this student, because it’s clustered on cluster 14, got really good scores on reading and writing, but not on math, so we can help them to improve their math skills."
   ]
  }
 ],
 "metadata": {},
 "nbformat": 4,
 "nbformat_minor": 5
}
