{
 "cells": [
  {
   "cell_type": "markdown",
   "id": "5edd1ecf",
   "metadata": {},
   "source": [
    "source: [link](https://ai-bootcamp.ruangguru.com/learn/02_machine-learning-fundamental/06_knn.html)"
   ]
  },
  {
   "cell_type": "markdown",
   "id": "5064111d",
   "metadata": {},
   "source": [
    "# k-Nearest Neighbors (kNN)"
   ]
  },
  {
   "cell_type": "markdown",
   "id": "af8851c8",
   "metadata": {},
   "source": [
    "# Introduction"
   ]
  },
  {
   "cell_type": "markdown",
   "id": "a90437f9",
   "metadata": {},
   "source": [
    "Imagine we’re a doctor. We’re often faced with the task of identifying whether a tumour is cancerous (malignant) or not cancerous (benign). Normally, we’d have to inspect medical images and rely on years of medical training to make this call. But what if a computer could help do this job?"
   ]
  },
  {
   "cell_type": "markdown",
   "id": "10fe821d",
   "metadata": {},
   "source": [
    "In our previous discussions, we discussed using a logistic regression method to do just this. But sometimes, real-life data isn’t so straightforward. Take tumors for instance. Their characteristics can vary a lot. Some are small, some are big. Some are round, others are irregular in shape. When the straight “line of best fit” isn’t the best fit for our data, we use different methods. One such method is the k-Nearest Neighbors (kNN) algorithm."
   ]
  },
  {
   "cell_type": "markdown",
   "id": "75ba49ad",
   "metadata": {},
   "source": [
    "In simplest term, let’s just say that kNN is asking “k” neighbours around the prediction data and then make a decision based on the majority of those “k” closest data."
   ]
  },
  {
   "cell_type": "markdown",
   "id": "8eda797e",
   "metadata": {},
   "source": [
    "Let’s explore the kNN method in greater depth. We’ll learn how to decide how many neighbours (\\(k\\)) to consider and how to use kNN to sort out tumours into malignant or benign."
   ]
  },
  {
   "cell_type": "markdown",
   "id": "022eabd4",
   "metadata": {},
   "source": [
    "# What is k-Nearest Neighbors (kNN)?"
   ]
  },
  {
   "cell_type": "markdown",
   "id": "e89cc24e",
   "metadata": {},
   "source": [
    "The k-Nearest Neighbors (kNN) is a type of machine learning algorithm. It’s like the helpful neighbour we call on when we need advice, but with a twist."
   ]
  },
  {
   "cell_type": "markdown",
   "id": "89825279",
   "metadata": {},
   "source": [
    "In machine learning, we often want our computer (also referred to as a model) to learn from past data to make future decisions or predictions. The kNN algorithm is one such tool that helps in this learning."
   ]
  },
  {
   "cell_type": "markdown",
   "id": "989f1355",
   "metadata": {},
   "source": [
    "The concept of kNN is quite simple and is used for both classification and regression tasks."
   ]
  },
  {
   "cell_type": "markdown",
   "id": "c1fdb9c3",
   "metadata": {},
   "source": [
    "Classification"
   ]
  },
  {
   "cell_type": "markdown",
   "id": "b33fd456",
   "metadata": {},
   "source": [
    "Classification is like sorting objects into buckets. For example, deciding if an email is ‘spam’ or ‘not spam’, or classifying a tumor as ‘malignant’ or ‘benign’ are classification problems. Here, the kNN algorithm sorts a new object (like an email or a tumour) into a category based on how similar it is to objects it already knows about."
   ]
  },
  {
   "cell_type": "markdown",
   "id": "ff8af956",
   "metadata": {},
   "source": [
    "Regression"
   ]
  },
  {
   "cell_type": "markdown",
   "id": "59d4855d",
   "metadata": {},
   "source": [
    "Regression, on the other hand, is like predicting a number. For example, predicting a house’s price based on features like the number of bedrooms, location, and size. Here, the kNN algorithm predicts a new number based on the existing numbers it has seen that are most similar to the new entry."
   ]
  },
  {
   "cell_type": "markdown",
   "id": "e070d628",
   "metadata": {},
   "source": [
    "The “k” in kNN stands for the number of neighbours the algorithm checks with before making its decision or prediction. If we have “5” as our k value, the algorithm looks at the 5 closest neighbours (i.e., the 5 most similar data points) it already knows about to make its prediction. Finally, “Nearest” signifies that we consider only the closest or most similar data points to make this prediction."
   ]
  },
  {
   "cell_type": "markdown",
   "id": "68278cbe",
   "metadata": {},
   "source": [
    "# How Does kNN Work?"
   ]
  },
  {
   "cell_type": "markdown",
   "id": "a7908b16",
   "metadata": {},
   "source": []
  },
  {
   "cell_type": "markdown",
   "id": "8c94556e",
   "metadata": {},
   "source": [
    "![Image](https://storage.googleapis.com/rg-ai-bootcamp/machine-learning/knn-visual-min.png)"
   ]
  },
  {
   "cell_type": "markdown",
   "id": "025dd0f1",
   "metadata": {},
   "source": [
    "Source: Youtube"
   ]
  },
  {
   "cell_type": "markdown",
   "id": "3dd93aac",
   "metadata": {},
   "source": [
    "Let’s dive deeper into the k-Nearest Neighbors (kNN) method. Imagine that we are a doctor who examines the scan results of a tumour and decides whether the tumour is dangerous (malignant) or not (benign). We can think of kNN as a way to make decisions based on community wisdom."
   ]
  },
  {
   "cell_type": "markdown",
   "id": "a70ec222",
   "metadata": {},
   "source": [
    "In this case, the so-called ‘crowd’ consists of tumours that have been previously examined. These past examples have known classifications—they can be malignant or benign. This is our training data."
   ]
  },
  {
   "cell_type": "markdown",
   "id": "da2f8439",
   "metadata": {},
   "source": [
    "| Tumour size | Age | Status |\n",
    "| --- | --- | --- |\n",
    "| 3.6 | 50 | 0 |\n",
    "| 6.6 | 31 | 1 |\n",
    "| 3.3 | 32 | 0 |\n",
    "| 8.1 | 21 | 1 |\n",
    "| 3.1 | 33 | 0 |\n",
    "| 5.6 | 30 | 1 |\n",
    "| 1.0 | 26 | 0 |\n",
    "| … | .. | . |\n",
    "| 1.2 | 44 | 0 |"
   ]
  },
  {
   "cell_type": "markdown",
   "id": "1ab3b192",
   "metadata": {},
   "source": [
    "But how is our new tumour related to this ‘crowd’ of tumours?"
   ]
  },
  {
   "cell_type": "markdown",
   "id": "d695dbf4",
   "metadata": {},
   "source": [
    "# Distance"
   ]
  },
  {
   "cell_type": "markdown",
   "id": "5528b678",
   "metadata": {},
   "source": [
    "This is where the concept of ‘distance’ comes into play. We consider each feature of our tumour – such as tumour size and patient age – as a dimension. These dimensions form a space, and each tumour occupies a point in that space."
   ]
  },
  {
   "cell_type": "markdown",
   "id": "6930f6c9",
   "metadata": {},
   "source": [
    "The ‘distance’ between two tumours in this multidimensional space shows how similar they are. Two tumours that are small distances apart are very similar, whereas two tumours that are large distances are very different."
   ]
  },
  {
   "cell_type": "markdown",
   "id": "69c1eb25",
   "metadata": {},
   "source": []
  },
  {
   "cell_type": "markdown",
   "id": "c2f5fe2b",
   "metadata": {},
   "source": [
    "![Image](https://storage.googleapis.com/rg-ai-bootcamp/machine-learning/distance-min.png)"
   ]
  },
  {
   "cell_type": "markdown",
   "id": "0f623225",
   "metadata": {},
   "source": [
    "# Measuring distance"
   ]
  },
  {
   "cell_type": "markdown",
   "id": "87b2786c",
   "metadata": {},
   "source": [
    "How do we calculate this distance? There are many ways to calculate distance, one of which is by using Euclidean distance. Euclidean plays a role in measuring the distance between two points. The only difference here is that we can do it in more than two dimensions!"
   ]
  },
  {
   "cell_type": "markdown",
   "id": "2ace88b2",
   "metadata": {},
   "source": []
  },
  {
   "cell_type": "markdown",
   "id": "8681ec76",
   "metadata": {},
   "source": [
    "![Image](https://storage.googleapis.com/rg-ai-bootcamp/machine-learning/euclidean-min.png)"
   ]
  },
  {
   "cell_type": "markdown",
   "id": "7bb71bba",
   "metadata": {},
   "source": [
    "(Source: medium.com/@luigi.fiori.lf0303)"
   ]
  },
  {
   "cell_type": "markdown",
   "id": "e005ef3b",
   "metadata": {},
   "source": [
    "For example, the Euclidean distance between tumours A and B uses the formula: \\[d(x,y) = \\sqrt{\\sum_{i=1}^{m}(x_i - y_i)^2}\\]"
   ]
  },
  {
   "cell_type": "markdown",
   "id": "79704485",
   "metadata": {},
   "source": [
    "In each dimension, we calculate the difference between the two points’ values, which gives us the length of that dimension’s “side” of the hypothetical triangle. We then square this length and add it to our ongoing sum. Taking the square root of this cumulative sum yields our Euclidean distance."
   ]
  },
  {
   "cell_type": "markdown",
   "id": "594886fc",
   "metadata": {},
   "source": [
    "Besides Euclidean, there are also other ways to measure distance, such as Manhattan Distance or Minkowski Distance, but Euclidean is the most common."
   ]
  },
  {
   "cell_type": "markdown",
   "id": "efc1668e",
   "metadata": {},
   "source": [
    "# Neighbours"
   ]
  },
  {
   "cell_type": "markdown",
   "id": "b8e7f0c1",
   "metadata": {},
   "source": [
    "Now that we have a way to calculate distance, how do we use it to classify our new tumour?"
   ]
  },
  {
   "cell_type": "markdown",
   "id": "b8440276",
   "metadata": {},
   "source": [
    "Remember the ‘k’ in kNN. This is where this comes into play."
   ]
  },
  {
   "cell_type": "markdown",
   "id": "d306c4c5",
   "metadata": {},
   "source": [
    "If k=3, the system will check the 3 tumours ‘closest’ to the new tumour."
   ]
  },
  {
   "cell_type": "markdown",
   "id": "26283b6f",
   "metadata": {},
   "source": [
    "If k=6, the system will check the 6 tumours ‘closest’ to the new tumour."
   ]
  },
  {
   "cell_type": "markdown",
   "id": "43e9c5c9",
   "metadata": {},
   "source": []
  },
  {
   "cell_type": "markdown",
   "id": "c2993641",
   "metadata": {},
   "source": [
    "![Image](https://storage.googleapis.com/rg-ai-bootcamp/machine-learning/k-ilustration-min.png)"
   ]
  },
  {
   "cell_type": "markdown",
   "id": "0fc75712",
   "metadata": {},
   "source": [
    "In other words, our new tumor is classified based on the majority vote of its nearest neighbours."
   ]
  },
  {
   "cell_type": "markdown",
   "id": "d2baf63b",
   "metadata": {},
   "source": [
    "# Selecting the Right ‘\\(k\\)’"
   ]
  },
  {
   "cell_type": "markdown",
   "id": "3736f7b7",
   "metadata": {},
   "source": [
    "Just as we need the right number of people to make a group decision, we also need the right number of neighbors (\\(k\\)) in kNN to make a good classification. But how do we choose the right ‘\\(k\\)’?"
   ]
  },
  {
   "cell_type": "markdown",
   "id": "4529dd09",
   "metadata": {},
   "source": [
    "# Importance of ‘\\(k\\)’ in kNN"
   ]
  },
  {
   "cell_type": "markdown",
   "id": "5d3deff4",
   "metadata": {},
   "source": [
    "Suppose we go back to analyzing a tumor and ask the opinion of three nearby tumors. If two people say it is benign and one says it is malignant, we will choose the majority and classify it as benign."
   ]
  },
  {
   "cell_type": "markdown",
   "id": "b2abb0fe",
   "metadata": {},
   "source": [
    "Now, what if we asked five tumors for their opinions and three said they were benign while two said they were malignant? We still classify this new tumor as benign."
   ]
  },
  {
   "cell_type": "markdown",
   "id": "fa08d291",
   "metadata": {},
   "source": [
    "Herein lies the problem: what if the three closest tumors are said to be benign, but when we take the five closest tumors, three tumors are said to be malignant?"
   ]
  },
  {
   "cell_type": "markdown",
   "id": "1cf80e24",
   "metadata": {},
   "source": [
    "The number of neighbors we ask (\\(k\\)) can change our final decision. Therefore, ‘k’ in kNN is the hyperparameter that we have to choose at the beginning. Hyperparameters are settings in a machine learning algorithm that we must set before the learning process begins."
   ]
  },
  {
   "cell_type": "markdown",
   "id": "e0fe419d",
   "metadata": {},
   "source": [
    "# Selects the optimal ‘\\(k\\)’"
   ]
  },
  {
   "cell_type": "markdown",
   "id": "98a0d1e2",
   "metadata": {},
   "source": [
    "If we only ask one neighbor (\\(k=1\\)), we are essentially letting one tumor decide. This can lead to overfitting. These models may work well on existing tumor data, but may fail on new tumors. Why? Because he is very sensitive to tumors that he already knows about."
   ]
  },
  {
   "cell_type": "markdown",
   "id": "12435fcf",
   "metadata": {},
   "source": [
    "On the other hand, if we ask for all our tumors (let’s say we have a thousand), we will only select the class with the most tumors. This can lead to underfitting, because we don’t actually learn any patterns or consider their similarities."
   ]
  },
  {
   "cell_type": "markdown",
   "id": "2a552f1b",
   "metadata": {},
   "source": [
    "So, in the middle is the ‘exact’ value of ‘\\(k\\)’. But how do we find it? There are several ways to determine the ‘correct’ value of \\(k\\), including: 1. Try different \\(k\\) values and see which produces the most accurate predictions on a portion of our data set aside for validation (called the validation set). This is a common practice. 2. We can start from Sqrt(n), where n is the total number of data points. Odd ‘k’ values are chosen to avoid confusion in case of a tie (same number of neighbors from both classes). We should have a small enough ‘k’ to start the initial predictions before figuring the optimal."
   ]
  },
  {
   "cell_type": "markdown",
   "id": "fbc0485e",
   "metadata": {},
   "source": [
    "We can also use kNN for clustering:"
   ]
  },
  {
   "cell_type": "markdown",
   "id": "6ecbcce4",
   "metadata": {},
   "source": []
  },
  {
   "cell_type": "markdown",
   "id": "3e48efd2",
   "metadata": {},
   "source": [
    "![Image](https://storage.googleapis.com/rg-ai-bootcamp/machine-learning/knn-clustering-min.png)"
   ]
  },
  {
   "cell_type": "markdown",
   "id": "60638b7e",
   "metadata": {},
   "source": [
    "# Advantages and Disadvantages of kNN"
   ]
  },
  {
   "cell_type": "markdown",
   "id": "6924affe",
   "metadata": {},
   "source": [
    "Every tool has its strengths and weaknesses, and k-Nearest Neighbors (kNN) is no exception. Let’s understand where kNN shines and where caution needs to be applied."
   ]
  },
  {
   "cell_type": "markdown",
   "id": "018c7ff0",
   "metadata": {},
   "source": [
    "# Advantages of kNN"
   ]
  },
  {
   "cell_type": "markdown",
   "id": "eae633cf",
   "metadata": {},
   "source": [
    "1. Simplicity: One of the main advantages of kNN is its simplicity. It’s easy to understand and implement. The concept of “choosing based on the opinion of neighbours” is straightforward."
   ]
  },
  {
   "cell_type": "markdown",
   "id": "48d19baf",
   "metadata": {},
   "source": [
    "2. Effectiveness with Large Datasets: When it comes to big datasets with lots of examples to learn from, kNN is quite effective. Just as a doctor gets better at diagnosing with more patients, kNN improves with more data."
   ]
  },
  {
   "cell_type": "markdown",
   "id": "ad9a4b0d",
   "metadata": {},
   "source": [
    "# Disadvantages of kNN"
   ]
  },
  {
   "cell_type": "markdown",
   "id": "2015fb20",
   "metadata": {},
   "source": [
    "1. Sensitivity to Irrelevant Features: Imagine we have tumour data with an irrelevant feature, like the patient’s favourite colour. kNN does not differentiate important features from less important ones, which can cause misclassifications. We must be careful in selecting relevant features for the model."
   ]
  },
  {
   "cell_type": "markdown",
   "id": "cced2dae",
   "metadata": {},
   "source": [
    "2. The Curse of Dimensionality: Remember how we discussed data being plotted in a space with dimensions? Well, as the number of dimensions (features) increases, the data becomes sparse and distant from each other, making it more challenging for kNN to find meaningful neighbours. This problem is known as the “curse of dimensionality.”"
   ]
  },
  {
   "cell_type": "markdown",
   "id": "abe6ff22",
   "metadata": {},
   "source": [
    "# Hands-On Example: Using kNN in Machine Learning"
   ]
  },
  {
   "cell_type": "markdown",
   "id": "484e4c2e",
   "metadata": {},
   "source": [
    "# Import libraries"
   ]
  },
  {
   "cell_type": "markdown",
   "id": "a9d9fe2f",
   "metadata": {},
   "source": [
    "Before any machine learning wizardry can happen, we need to set our stage first! This involves importing all the necessary Python libraries and functions we’ll need for our journey. So, Let’s call upon pandas, numpy, scikit-learn and some of its modules."
   ]
  },
  {
   "cell_type": "code",
   "execution_count": null,
   "id": "48e2195d",
   "metadata": {},
   "outputs": [],
   "source": [
    "import pandas as pd\n",
    "import numpy as np\n",
    "from sklearn.model_selection import train_test_split\n",
    "from sklearn.neighbors import KNeighborsClassifier\n",
    "from sklearn.metrics import confusion_matrix\n",
    "from sklearn.metrics import f1_score\n",
    "from sklearn.metrics import accuracy_score"
   ]
  },
  {
   "cell_type": "markdown",
   "id": "5d4c1435",
   "metadata": {},
   "source": [
    "# Load dataset"
   ]
  },
  {
   "cell_type": "markdown",
   "id": "27dad115",
   "metadata": {},
   "source": [
    "Once we’ve set the stage, our next step is to load the patient data that we will analyze. We’ll use the Python library pandas, which provides excellent data reading capabilities."
   ]
  },
  {
   "cell_type": "code",
   "execution_count": null,
   "id": "b43dd25b",
   "metadata": {},
   "outputs": [],
   "source": [
    "dataset = pd.read_csv('https://storage.googleapis.com/rg-ai-bootcamp/machine-learning/patients-data.csv')\n",
    "print(len(dataset))\n",
    "dataset.head(10)"
   ]
  },
  {
   "cell_type": "code",
   "execution_count": null,
   "id": "b5b45216",
   "metadata": {},
   "outputs": [],
   "source": [
    "299"
   ]
  },
  {
   "cell_type": "markdown",
   "id": "05733012",
   "metadata": {},
   "source": [
    "|  | tumour_size | age | status |\n",
    "| --- | --- | --- | --- |\n",
    "| 0 | 3.6 | 50 | 0 |\n",
    "| 1 | 6.6 | 31 | 1 |\n",
    "| 2 | 3.3 | 32 | 0 |\n",
    "| 3 | 8.1 | 21 | 1 |\n",
    "| 4 | 3.1 | 33 | 0 |\n",
    "| 5 | 5.6 | 30 | 1 |\n",
    "| 6 | 1.0 | 26 | 0 |\n",
    "| 7 | 5.3 | 29 | 1 |\n",
    "| 8 | 7.6 | 30 | 1 |\n",
    "| 9 | 8.0 | 34 | 1 |"
   ]
  },
  {
   "cell_type": "markdown",
   "id": "868f4b1f",
   "metadata": {},
   "source": [
    "# Split dataset"
   ]
  },
  {
   "cell_type": "markdown",
   "id": "3fa31680",
   "metadata": {},
   "source": [
    "Let’s now take a third step. We will divide our dataset into two parts - the training set and the testing set. This will allow us to train our model and evaluate its performance on unseen data."
   ]
  },
  {
   "cell_type": "code",
   "execution_count": null,
   "id": "4f3b530c",
   "metadata": {},
   "outputs": [],
   "source": [
    "from sklearn.model_selection import train_test_split\n",
    "X = dataset.iloc[:, 0:2]\n",
    "y = dataset.iloc[:, 2]\n",
    "X_train, X_test, y_train, y_test = train_test_split(X, y, random_state=0, test_size=0.2)\n",
    "print ('Train set:', X_train.shape,  y_train.shape)\n",
    "print ('Test set:', X_test.shape,  y_test.shape)"
   ]
  },
  {
   "cell_type": "code",
   "execution_count": null,
   "id": "15a76f2b",
   "metadata": {},
   "outputs": [],
   "source": [
    "Train set: (239, 2) (239,)\n",
    "Test set: (60, 2) (60,)"
   ]
  },
  {
   "cell_type": "markdown",
   "id": "b117b458",
   "metadata": {},
   "source": [
    "# Train Model and Predict"
   ]
  },
  {
   "cell_type": "markdown",
   "id": "452580e4",
   "metadata": {},
   "source": [
    "After that, we define the model using KNeighborsClassifier and fit the train data in the model. Just like Logistic Regression, sklearn provides the KNeighborsClassifier class in the sklearn.model_selection module. Here’s how you can do it:"
   ]
  },
  {
   "cell_type": "code",
   "execution_count": null,
   "id": "1cbc3350",
   "metadata": {},
   "outputs": [],
   "source": [
    "k = 11\n",
    "classifier = KNeighborsClassifier(n_neighbors = k, metric='euclidean').fit(X_train,y_train)\n",
    "classifier"
   ]
  },
  {
   "cell_type": "code",
   "execution_count": null,
   "id": "015d574e",
   "metadata": {},
   "outputs": [],
   "source": [
    "KNeighborsClassifier(metric='euclidean', n_neighbors=11)"
   ]
  },
  {
   "cell_type": "code",
   "execution_count": null,
   "id": "29b09ec2",
   "metadata": {},
   "outputs": [],
   "source": [
    "KNeighborsClassifier(metric='euclidean', n_neighbors=11)"
   ]
  },
  {
   "cell_type": "markdown",
   "id": "6f7ea86e",
   "metadata": {},
   "source": [
    "# Predict the test set results"
   ]
  },
  {
   "cell_type": "markdown",
   "id": "5a4d0f48",
   "metadata": {},
   "source": [
    "After training the model, the next step is to utilize our trained classifier to predict results on the test set. Let’s delve directly into making these predictions and observe the results our model produces."
   ]
  },
  {
   "cell_type": "code",
   "execution_count": null,
   "id": "dc6b666a",
   "metadata": {},
   "outputs": [],
   "source": [
    "X_test.head()"
   ]
  },
  {
   "cell_type": "markdown",
   "id": "3f596880",
   "metadata": {},
   "source": [
    "|  | tumour_size | age |\n",
    "| --- | --- | --- |\n",
    "| 206 | 4.0 | 22 |\n",
    "| 188 | 2.8 | 24 |\n",
    "| 12 | 5.8 | 31 |\n",
    "| 219 | 8.2 | 29 |\n",
    "| 237 | 5.1 | 21 |"
   ]
  },
  {
   "cell_type": "code",
   "execution_count": null,
   "id": "ab93291d",
   "metadata": {},
   "outputs": [],
   "source": [
    "y_hat = classifier.predict(X_test)\n",
    "y_hat"
   ]
  },
  {
   "cell_type": "code",
   "execution_count": null,
   "id": "91b4d759",
   "metadata": {},
   "outputs": [],
   "source": [
    "array([0, 0, 1, 1, 0, 1, 0, 1, 0, 0, 0, 0, 1, 0, 1, 0, 1, 1, 1, 1, 0, 0,\n",
    "       0, 1, 0, 0, 1, 1, 0, 1, 0, 0, 1, 1, 1, 1, 0, 0, 0, 1, 0, 1, 1, 1,\n",
    "       1, 1, 0, 0, 1, 0, 1, 0, 0, 0, 0, 1, 0, 0, 0, 1])"
   ]
  },
  {
   "cell_type": "markdown",
   "id": "5ea102ac",
   "metadata": {},
   "source": [
    "Upon executing our classifier’s prediction on the test set, we can see the predicted tumour categories. - 0 represents ‘benign’ - 1 stands for ‘malignant’."
   ]
  },
  {
   "cell_type": "markdown",
   "id": "99cf0330",
   "metadata": {},
   "source": [
    "This array of 0s and 1s is our model’s attempt at diagnosing each analyzed tumour based on the patterns it discovered during the training phase. We will proceed next to evaluate the accuracy of these predictions. It’s important to evaluate the model."
   ]
  },
  {
   "cell_type": "markdown",
   "id": "520a70d1",
   "metadata": {},
   "source": [
    "# Evaluate Model"
   ]
  },
  {
   "cell_type": "markdown",
   "id": "9860c9bf",
   "metadata": {},
   "source": [
    "Moving on to the next crucial phase, let’s use confusion matrix to do that. The confusion matrix will provide us valuable insights into the accuracy of our model’s predictions. It allows us to understand the model’s performance by showcasing the correctly and incorrectly predicted values. Let’s delve into creating our confusion matrix now."
   ]
  },
  {
   "cell_type": "code",
   "execution_count": null,
   "id": "5ff24d8f",
   "metadata": {},
   "outputs": [],
   "source": [
    "cm = confusion_matrix(y_test, y_hat)\n",
    "print (cm)"
   ]
  },
  {
   "cell_type": "code",
   "execution_count": null,
   "id": "4243bbd4",
   "metadata": {},
   "outputs": [],
   "source": [
    "[[29  0]\n",
    " [ 3 28]]"
   ]
  },
  {
   "cell_type": "markdown",
   "id": "e9d7e2d9",
   "metadata": {},
   "source": [
    "A confusion matrix is a table used in statistics to evaluate the accuracy of a classification model. It displays the number of correctly and incorrectly predicted observations. Here’s how to interpret the matrix:"
   ]
  },
  {
   "cell_type": "code",
   "execution_count": null,
   "id": "126adcae",
   "metadata": {},
   "outputs": [],
   "source": [
    "[[29  0]\n",
    " [ 3 28]]"
   ]
  },
  {
   "cell_type": "markdown",
   "id": "796e757a",
   "metadata": {},
   "source": [
    "The top left value 29 represents the True Positives (TP): These are cases in which we predicted malignant, and it is indeed malignant."
   ]
  },
  {
   "cell_type": "markdown",
   "id": "d98371ae",
   "metadata": {},
   "source": [
    "The top right value 0 represents the False Positives (FP): These are cases in which we predicted malignant, but the tumor is not actually malignant. There are none such cases in your result."
   ]
  },
  {
   "cell_type": "markdown",
   "id": "bd51bd5b",
   "metadata": {},
   "source": [
    "The bottom left value 3 represents the False Negatives (FN): These are cases in which we predicted benign, but the tumor is malignant. We have 3 such cases here."
   ]
  },
  {
   "cell_type": "markdown",
   "id": "dab59c3b",
   "metadata": {},
   "source": [
    "The bottom right value 28 represents the True Negatives (TN): These are cases in which we predicted benign, and the the tumor is indeed benign."
   ]
  },
  {
   "cell_type": "markdown",
   "id": "83004829",
   "metadata": {},
   "source": [
    "In summary, our model performed quite well! Out of the 60 test instances, it correctly predicted 57 (29 + 28 = 57) of them, and misclassified 3. The model successfully identified all negative cases, and only misclassified 3 positive cases."
   ]
  },
  {
   "cell_type": "markdown",
   "id": "1c4268a2",
   "metadata": {},
   "source": [
    "After evaluating our model, it is now important to assess how well our model performs. We will calculate the F1 score and accuracy, which is a key evaluation metric in machine learning. The F1 score indicates the balance between precision and recall, while accuracy represents a fraction from the correct predictions our model makes."
   ]
  },
  {
   "cell_type": "code",
   "execution_count": null,
   "id": "3466e995",
   "metadata": {},
   "outputs": [],
   "source": [
    "print(f1_score(y_test, y_hat))\n",
    "print(accuracy_score(y_test, y_hat))"
   ]
  },
  {
   "cell_type": "code",
   "execution_count": null,
   "id": "20152ac1",
   "metadata": {},
   "outputs": [],
   "source": [
    "0.9491525423728813\n",
    "0.95"
   ]
  },
  {
   "cell_type": "markdown",
   "id": "3ad1594d",
   "metadata": {},
   "source": [
    "The F1 score is 0.9491525423728813 which is quite high. An F1 score is a measure of a model’s precision and recall, and it ranges from 0 to 1. A high F1 score, as in this case, indicates that our model has high precision and recall. In other words, when our model predicts that a tumor is malignant, it is usually correct (high precision), and also correctly identifies the majority of malignant tumors (high recall)."
   ]
  },
  {
   "cell_type": "markdown",
   "id": "3ba95dbf",
   "metadata": {},
   "source": [
    "The model accuracy is 0.95 or 95% indicating the proportion of the total model predictions that are made correctly. Specifically, it makes correct predictions in 95% of cases."
   ]
  },
  {
   "cell_type": "markdown",
   "id": "4f746a6e",
   "metadata": {},
   "source": [
    "Overall, with an F1 score of 0.949 and an accuracy score of 0.95, our model seems to perform very well in classifying the data in this case. A high value indicates that the model is reliable and likely to make correct predictions. Of course, this assumes that any new data follows a similar distribution to the training data."
   ]
  },
  {
   "cell_type": "markdown",
   "id": "3836a735",
   "metadata": {},
   "source": [
    "# How to find the best \\(k\\)"
   ]
  },
  {
   "cell_type": "markdown",
   "id": "dd00ff39",
   "metadata": {},
   "source": [
    "Now we come to the most important stage in our analysis when applying the k-Nearest Neighbors (kNN) algorithm, namely determining the optimal number of ‘neighbours’ (k) for our model. A common solution is to back up some of your data to test the accuracy of the model. we will test different k values from 1 to 20. By calculating the model accuracy for each k, we can determine the most appropriate value of k —the one that allows the model to most accurately predict the class labels"
   ]
  },
  {
   "cell_type": "markdown",
   "id": "6d2918fc",
   "metadata": {},
   "source": [
    "We can calculate the accuracy of KNN for different values of \\(k\\)."
   ]
  },
  {
   "cell_type": "code",
   "execution_count": null,
   "id": "015eff45",
   "metadata": {},
   "outputs": [],
   "source": [
    "import matplotlib.pyplot as plt\n",
    "%matplotlib inline"
   ]
  },
  {
   "cell_type": "code",
   "execution_count": null,
   "id": "0c94dd5e",
   "metadata": {},
   "outputs": [],
   "source": [
    "Ks = 20\n",
    "mean_acc = np.zeros((Ks-1))\n",
    "std_acc = np.zeros((Ks-1))\n",
    "\n",
    "for n in range(1,Ks):\n",
    "    #Train Model and Predict\n",
    "    classifier = KNeighborsClassifier(n_neighbors = n).fit(X_train,y_train)\n",
    "    yhat=classifier.predict(X_test)\n",
    "    mean_acc[n-1] = accuracy_score(y_test, yhat)\n",
    "    std_acc[n-1]=np.std(yhat==y_test)/np.sqrt(yhat.shape[0])\n",
    "\n",
    "mean_acc"
   ]
  },
  {
   "cell_type": "code",
   "execution_count": null,
   "id": "d7feb8b5",
   "metadata": {},
   "outputs": [],
   "source": [
    "array([0.93333333, 0.86666667, 0.9       , 0.9       , 0.9       ,\n",
    "       0.9       , 0.91666667, 0.93333333, 0.96666667, 0.95      ,\n",
    "       0.95      , 0.95      , 0.93333333, 0.91666667, 0.91666667,\n",
    "       0.91666667, 0.9       , 0.9       , 0.9       ])"
   ]
  },
  {
   "cell_type": "code",
   "execution_count": null,
   "id": "0179552e",
   "metadata": {},
   "outputs": [],
   "source": [
    "plt.plot(range(1,Ks),mean_acc,'g')\n",
    "plt.fill_between(range(1,Ks),mean_acc - 1 * std_acc,mean_acc + 1 * std_acc, alpha=0.10)\n",
    "plt.fill_between(range(1,Ks),mean_acc - 3 * std_acc,mean_acc + 3 * std_acc, alpha=0.10,color=\"green\")\n",
    "plt.legend(('Accuracy ', '+/- 1xstd','+/- 3xstd'))\n",
    "plt.ylabel('Accuracy ')\n",
    "plt.xlabel('Number of Neighbors (K)')\n",
    "plt.tight_layout()\n",
    "plt.show()"
   ]
  },
  {
   "cell_type": "markdown",
   "id": "6655e988",
   "metadata": {},
   "source": []
  },
  {
   "cell_type": "code",
   "execution_count": null,
   "id": "defcab29",
   "metadata": {},
   "outputs": [],
   "source": [
    "print( \"The best accuracy was with\", mean_acc.max(), \"with k=\", mean_acc.argmax()+1)"
   ]
  },
  {
   "cell_type": "code",
   "execution_count": null,
   "id": "b0f98e3a",
   "metadata": {},
   "outputs": [],
   "source": [
    "The best accuracy was with 0.9666666666666667 with k= 9"
   ]
  },
  {
   "cell_type": "markdown",
   "id": "16a26298",
   "metadata": {},
   "source": [
    "The numbers you see in the array represent the accuracy of the model (how close the output is to the expected outcome) for each “k”. Accuracy is presented as a value between 0 (0%) and 1 (100%)."
   ]
  },
  {
   "cell_type": "markdown",
   "id": "2e40d0ac",
   "metadata": {},
   "source": [
    "For example, when k=1, the model accuracy was about 93.3%, and when k=2, the accuracy dropped to around 86.7%. As we increased “k”, we observed that the accuracy fluctuated. The highest accuracy achieved was about 96.7% (k=9)."
   ]
  },
  {
   "cell_type": "markdown",
   "id": "c0d1dbb4",
   "metadata": {},
   "source": [
    "From this experiment, it appears that choosing 9 as the number of nearest neighbors (k=9) would give us the highest accuracy for our model."
   ]
  }
 ],
 "metadata": {},
 "nbformat": 4,
 "nbformat_minor": 5
}
