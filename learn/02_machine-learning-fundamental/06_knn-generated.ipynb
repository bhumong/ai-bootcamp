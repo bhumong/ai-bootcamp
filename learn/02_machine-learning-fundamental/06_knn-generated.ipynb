{
 "cells": [
  {
   "cell_type": "markdown",
   "id": "aaa521f3",
   "metadata": {},
   "source": [
    "source: [link](https://ai-bootcamp.ruangguru.com/learn/02_machine-learning-fundamental/06_knn.html)"
   ]
  },
  {
   "cell_type": "markdown",
   "id": "10e71897",
   "metadata": {},
   "source": [
    "# k-Nearest Neighbors (kNN)"
   ]
  },
  {
   "cell_type": "markdown",
   "id": "8e893754",
   "metadata": {},
   "source": [
    "# Introduction"
   ]
  },
  {
   "cell_type": "markdown",
   "id": "a7c5fc9b",
   "metadata": {},
   "source": [
    "Imagine we’re a doctor. We’re often faced with the task of identifying whether a tumour is cancerous (malignant) or not cancerous (benign). Normally, we’d have to inspect medical images and rely on years of medical training to make this call. But what if a computer could help do this job?"
   ]
  },
  {
   "cell_type": "markdown",
   "id": "c661ecfe",
   "metadata": {},
   "source": [
    "In our previous discussions, we discussed using a logistic regression method to do just this. But sometimes, real-life data isn’t so straightforward. Take tumors for instance. Their characteristics can vary a lot. Some are small, some are big. Some are round, others are irregular in shape. When the straight “line of best fit” isn’t the best fit for our data, we use different methods. One such method is the k-Nearest Neighbors (kNN) algorithm."
   ]
  },
  {
   "cell_type": "markdown",
   "id": "5c2051ce",
   "metadata": {},
   "source": [
    "In simplest term, let’s just say that kNN is asking “k” neighbours around the prediction data and then make a decision based on the majority of those “k” closest data."
   ]
  },
  {
   "cell_type": "markdown",
   "id": "8ee6bd52",
   "metadata": {},
   "source": [
    "Let’s explore the kNN method in greater depth. We’ll learn how to decide how many neighbours ($k$) to consider and how to use kNN to sort out tumours into malignant or benign."
   ]
  },
  {
   "cell_type": "markdown",
   "id": "066a9b72",
   "metadata": {},
   "source": [
    "# What is k-Nearest Neighbors (kNN)?"
   ]
  },
  {
   "cell_type": "markdown",
   "id": "da448c8f",
   "metadata": {},
   "source": [
    "The k-Nearest Neighbors (kNN) is a type of machine learning algorithm. It’s like the helpful neighbour we call on when we need advice, but with a twist."
   ]
  },
  {
   "cell_type": "markdown",
   "id": "a489f662",
   "metadata": {},
   "source": [
    "In machine learning, we often want our computer (also referred to as a model) to learn from past data to make future decisions or predictions. The kNN algorithm is one such tool that helps in this learning."
   ]
  },
  {
   "cell_type": "markdown",
   "id": "f98e4a71",
   "metadata": {},
   "source": [
    "The concept of kNN is quite simple and is used for both classification and regression tasks."
   ]
  },
  {
   "cell_type": "markdown",
   "id": "c2b606fd",
   "metadata": {},
   "source": [
    "- ClassificationClassification is like sorting objects into buckets. For example, deciding if an email is ‘spam’ or ‘not spam’, or classifying a tumor as ‘malignant’ or ‘benign’ are classification problems. Here, the kNN algorithm sorts a new object (like an email or a tumour) into a category based on how similar it is to objects it already knows about.\n",
    "- RegressionRegression, on the other hand, is like predicting a number. For example, predicting a house’s price based on features like the number of bedrooms, location, and size. Here, the kNN algorithm predicts a new number based on the existing numbers it has seen that are most similar to the new entry."
   ]
  },
  {
   "cell_type": "markdown",
   "id": "9322d3e3",
   "metadata": {},
   "source": [
    "Classification"
   ]
  },
  {
   "cell_type": "markdown",
   "id": "ae5cd154",
   "metadata": {},
   "source": [
    "Classification is like sorting objects into buckets. For example, deciding if an email is ‘spam’ or ‘not spam’, or classifying a tumor as ‘malignant’ or ‘benign’ are classification problems. Here, the kNN algorithm sorts a new object (like an email or a tumour) into a category based on how similar it is to objects it already knows about."
   ]
  },
  {
   "cell_type": "markdown",
   "id": "e81c469c",
   "metadata": {},
   "source": [
    "Regression"
   ]
  },
  {
   "cell_type": "markdown",
   "id": "150ff73c",
   "metadata": {},
   "source": [
    "Regression, on the other hand, is like predicting a number. For example, predicting a house’s price based on features like the number of bedrooms, location, and size. Here, the kNN algorithm predicts a new number based on the existing numbers it has seen that are most similar to the new entry."
   ]
  },
  {
   "cell_type": "markdown",
   "id": "1a053de0",
   "metadata": {},
   "source": [
    "The “k” in kNN stands for the number of neighbours the algorithm checks with before making its decision or prediction. If we have “5” as our k value, the algorithm looks at the 5 closest neighbours (i.e., the 5 most similar data points) it already knows about to make its prediction. Finally, “Nearest” signifies that we consider only the closest or most similar data points to make this prediction."
   ]
  },
  {
   "cell_type": "markdown",
   "id": "6ee6e9ef",
   "metadata": {},
   "source": [
    "# How Does kNN Work?"
   ]
  },
  {
   "cell_type": "markdown",
   "id": "8f5773c0",
   "metadata": {},
   "source": []
  },
  {
   "cell_type": "markdown",
   "id": "7470bc1d",
   "metadata": {},
   "source": [
    "![Image](https://storage.googleapis.com/rg-ai-bootcamp/machine-learning/knn-visual-min.png)"
   ]
  },
  {
   "cell_type": "markdown",
   "id": "5ccd3da0",
   "metadata": {},
   "source": [
    "Source: Youtube"
   ]
  },
  {
   "cell_type": "markdown",
   "id": "5ac7ab6e",
   "metadata": {},
   "source": [
    "Let’s dive deeper into the k-Nearest Neighbors (kNN) method. Imagine that we are a doctor who examines the scan results of a tumour and decides whether the tumour is dangerous (malignant) or not (benign). We can think of kNN as a way to make decisions based on community wisdom."
   ]
  },
  {
   "cell_type": "markdown",
   "id": "a34b753d",
   "metadata": {},
   "source": [
    "In this case, the so-called ‘crowd’ consists of tumours that have been previously examined. These past examples have known classifications—they can be malignant or benign. This is our training data."
   ]
  },
  {
   "cell_type": "markdown",
   "id": "91e021e4",
   "metadata": {},
   "source": [
    "| Tumour size | Age | Status |\n",
    "| --- | --- | --- |\n",
    "| 3.6 | 50 | 0 |\n",
    "| 6.6 | 31 | 1 |\n",
    "| 3.3 | 32 | 0 |\n",
    "| 8.1 | 21 | 1 |\n",
    "| 3.1 | 33 | 0 |\n",
    "| 5.6 | 30 | 1 |\n",
    "| 1.0 | 26 | 0 |\n",
    "| … | .. | . |\n",
    "| 1.2 | 44 | 0 |"
   ]
  },
  {
   "cell_type": "markdown",
   "id": "859b5d00",
   "metadata": {},
   "source": [
    "But how is our new tumour related to this ‘crowd’ of tumours?"
   ]
  },
  {
   "cell_type": "markdown",
   "id": "9a041f37",
   "metadata": {},
   "source": [
    "# Distance"
   ]
  },
  {
   "cell_type": "markdown",
   "id": "de0ca572",
   "metadata": {},
   "source": [
    "This is where the concept of ‘distance’ comes into play. We consider each feature of our tumour – such as tumour size and patient age – as a dimension. These dimensions form a space, and each tumour occupies a point in that space."
   ]
  },
  {
   "cell_type": "markdown",
   "id": "945a93c5",
   "metadata": {},
   "source": [
    "The ‘distance’ between two tumours in this multidimensional space shows how similar they are. Two tumours that are small distances apart are very similar, whereas two tumours that are large distances are very different."
   ]
  },
  {
   "cell_type": "markdown",
   "id": "8d8b6710",
   "metadata": {},
   "source": []
  },
  {
   "cell_type": "markdown",
   "id": "7159b45c",
   "metadata": {},
   "source": [
    "![Image](https://storage.googleapis.com/rg-ai-bootcamp/machine-learning/distance-min.png)"
   ]
  },
  {
   "cell_type": "markdown",
   "id": "5f0fc1be",
   "metadata": {},
   "source": [
    "# Measuring distance"
   ]
  },
  {
   "cell_type": "markdown",
   "id": "7be49118",
   "metadata": {},
   "source": [
    "How do we calculate this distance? There are many ways to calculate distance, one of which is by using Euclidean distance. Euclidean plays a role in measuring the distance between two points. The only difference here is that we can do it in more than two dimensions!"
   ]
  },
  {
   "cell_type": "markdown",
   "id": "a5150dad",
   "metadata": {},
   "source": []
  },
  {
   "cell_type": "markdown",
   "id": "6fb956a3",
   "metadata": {},
   "source": [
    "![Image](https://storage.googleapis.com/rg-ai-bootcamp/machine-learning/euclidean-min.png)"
   ]
  },
  {
   "cell_type": "markdown",
   "id": "6af1be6e",
   "metadata": {},
   "source": [
    "(Source: medium.com/@luigi.fiori.lf0303)"
   ]
  },
  {
   "cell_type": "markdown",
   "id": "03b0dd36",
   "metadata": {},
   "source": [
    "For example, the Euclidean distance between tumours A and B uses the formula: \n",
    "\\[d(x,y) = \\sqrt{\\sum_{i=1}^{m}(x_i - y_i)^2}\\]\n"
   ]
  },
  {
   "cell_type": "markdown",
   "id": "5ce4e72c",
   "metadata": {},
   "source": [
    "In each dimension, we calculate the difference between the two points’ values, which gives us the length of that dimension’s “side” of the hypothetical triangle. We then square this length and add it to our ongoing sum. Taking the square root of this cumulative sum yields our Euclidean distance."
   ]
  },
  {
   "cell_type": "markdown",
   "id": "424ef71d",
   "metadata": {},
   "source": [
    "Besides Euclidean, there are also other ways to measure distance, such as Manhattan Distance or Minkowski Distance, but Euclidean is the most common."
   ]
  },
  {
   "cell_type": "markdown",
   "id": "6b06055b",
   "metadata": {},
   "source": [
    "# Neighbours"
   ]
  },
  {
   "cell_type": "markdown",
   "id": "0f9450c6",
   "metadata": {},
   "source": [
    "Now that we have a way to calculate distance, how do we use it to classify our new tumour?"
   ]
  },
  {
   "cell_type": "markdown",
   "id": "e6f16c8f",
   "metadata": {},
   "source": [
    "Remember the ‘k’ in kNN. This is where this comes into play."
   ]
  },
  {
   "cell_type": "markdown",
   "id": "80bf3348",
   "metadata": {},
   "source": [
    "If k=3, the system will check the 3 tumours ‘closest’ to the new tumour."
   ]
  },
  {
   "cell_type": "markdown",
   "id": "b037468f",
   "metadata": {},
   "source": [
    "If k=6, the system will check the 6 tumours ‘closest’ to the new tumour."
   ]
  },
  {
   "cell_type": "markdown",
   "id": "0c4e43a7",
   "metadata": {},
   "source": [
    "- If more of the ‘nearest neighbours’ are benign, the system will classify the new tumour as benign.\n",
    "- If more of the ‘nearest neighbours’ are malignant, it classifies the new tumour as malignant."
   ]
  },
  {
   "cell_type": "markdown",
   "id": "e282a916",
   "metadata": {},
   "source": []
  },
  {
   "cell_type": "markdown",
   "id": "193170c3",
   "metadata": {},
   "source": [
    "![Image](https://storage.googleapis.com/rg-ai-bootcamp/machine-learning/k-ilustration-min.png)"
   ]
  },
  {
   "cell_type": "markdown",
   "id": "4d296dc4",
   "metadata": {},
   "source": [
    "In other words, our new tumor is classified based on the majority vote of its nearest neighbours."
   ]
  },
  {
   "cell_type": "markdown",
   "id": "363915c9",
   "metadata": {},
   "source": [
    "# Selecting the Right ‘\\(k\\)’"
   ]
  },
  {
   "cell_type": "markdown",
   "id": "e66cfd38",
   "metadata": {},
   "source": [
    "Just as we need the right number of people to make a group decision, we also need the right number of neighbors ($k$) in kNN to make a good classification. But how do we choose the right ‘$k$’?"
   ]
  },
  {
   "cell_type": "markdown",
   "id": "4de571de",
   "metadata": {},
   "source": [
    "# Importance of ‘\\(k\\)’ in kNN"
   ]
  },
  {
   "cell_type": "markdown",
   "id": "5dd915dc",
   "metadata": {},
   "source": [
    "Suppose we go back to analyzing a tumor and ask the opinion of three nearby tumors. If two people say it is benign and one says it is malignant, we will choose the majority and classify it as benign."
   ]
  },
  {
   "cell_type": "markdown",
   "id": "d1e94408",
   "metadata": {},
   "source": [
    "Now, what if we asked five tumors for their opinions and three said they were benign while two said they were malignant? We still classify this new tumor as benign."
   ]
  },
  {
   "cell_type": "markdown",
   "id": "15f1c7da",
   "metadata": {},
   "source": [
    "Herein lies the problem: what if the three closest tumors are said to be benign, but when we take the five closest tumors, three tumors are said to be malignant?"
   ]
  },
  {
   "cell_type": "markdown",
   "id": "a3056e4b",
   "metadata": {},
   "source": [
    "The number of neighbors we ask ($k$) can change our final decision. Therefore, ‘k’ in kNN is the hyperparameter that we have to choose at the beginning. Hyperparameters are settings in a machine learning algorithm that we must set before the learning process begins."
   ]
  },
  {
   "cell_type": "markdown",
   "id": "5225c47a",
   "metadata": {},
   "source": [
    "# Selects the optimal ‘\\(k\\)’"
   ]
  },
  {
   "cell_type": "markdown",
   "id": "b1c3af2b",
   "metadata": {},
   "source": [
    "If we only ask one neighbor ($k=1$), we are essentially letting one tumor decide. This can lead to overfitting. These models may work well on existing tumor data, but may fail on new tumors. Why? Because he is very sensitive to tumors that he already knows about."
   ]
  },
  {
   "cell_type": "markdown",
   "id": "5e39ac4c",
   "metadata": {},
   "source": [
    "On the other hand, if we ask for all our tumors (let’s say we have a thousand), we will only select the class with the most tumors. This can lead to underfitting, because we don’t actually learn any patterns or consider their similarities."
   ]
  },
  {
   "cell_type": "markdown",
   "id": "696af4bf",
   "metadata": {},
   "source": [
    "So, in the middle is the ‘exact’ value of ‘$k$’. But how do we find it? There are several ways to determine the ‘correct’ value of $k$, including: 1. Try different $k$ values and see which produces the most accurate predictions on a portion of our data set aside for validation (called the validation set). This is a common practice. 2. We can start from Sqrt(n), where n is the total number of data points. Odd ‘k’ values are chosen to avoid confusion in case of a tie (same number of neighbors from both classes). We should have a small enough ‘k’ to start the initial predictions before figuring the optimal."
   ]
  },
  {
   "cell_type": "markdown",
   "id": "24918ffe",
   "metadata": {},
   "source": [
    "We can also use kNN for clustering:"
   ]
  },
  {
   "cell_type": "markdown",
   "id": "9ad13991",
   "metadata": {},
   "source": []
  },
  {
   "cell_type": "markdown",
   "id": "461e5597",
   "metadata": {},
   "source": [
    "![Image](https://storage.googleapis.com/rg-ai-bootcamp/machine-learning/knn-clustering-min.png)"
   ]
  },
  {
   "cell_type": "markdown",
   "id": "1a7d0cc1",
   "metadata": {},
   "source": [
    "# Advantages and Disadvantages of kNN"
   ]
  },
  {
   "cell_type": "markdown",
   "id": "8c7c8c75",
   "metadata": {},
   "source": [
    "Every tool has its strengths and weaknesses, and k-Nearest Neighbors (kNN) is no exception. Let’s understand where kNN shines and where caution needs to be applied."
   ]
  },
  {
   "cell_type": "markdown",
   "id": "0f501919",
   "metadata": {},
   "source": [
    "# Advantages of kNN"
   ]
  },
  {
   "cell_type": "markdown",
   "id": "50aa574e",
   "metadata": {},
   "source": [
    "1. Simplicity: One of the main advantages of kNN is its simplicity. It’s easy to understand and implement. The concept of “choosing based on the opinion of neighbours” is straightforward."
   ]
  },
  {
   "cell_type": "markdown",
   "id": "96d90e5f",
   "metadata": {},
   "source": [
    "2. Effectiveness with Large Datasets: When it comes to big datasets with lots of examples to learn from, kNN is quite effective. Just as a doctor gets better at diagnosing with more patients, kNN improves with more data."
   ]
  },
  {
   "cell_type": "markdown",
   "id": "def80922",
   "metadata": {},
   "source": [
    "# Disadvantages of kNN"
   ]
  },
  {
   "cell_type": "markdown",
   "id": "f669529d",
   "metadata": {},
   "source": [
    "1. Sensitivity to Irrelevant Features: Imagine we have tumour data with an irrelevant feature, like the patient’s favourite colour. kNN does not differentiate important features from less important ones, which can cause misclassifications. We must be careful in selecting relevant features for the model."
   ]
  },
  {
   "cell_type": "markdown",
   "id": "9956388a",
   "metadata": {},
   "source": [
    "2. The Curse of Dimensionality: Remember how we discussed data being plotted in a space with dimensions? Well, as the number of dimensions (features) increases, the data becomes sparse and distant from each other, making it more challenging for kNN to find meaningful neighbours. This problem is known as the “curse of dimensionality.”"
   ]
  },
  {
   "cell_type": "markdown",
   "id": "1eab335f",
   "metadata": {},
   "source": [
    "# Hands-On Example: Using kNN in Machine Learning"
   ]
  },
  {
   "cell_type": "markdown",
   "id": "272e7917",
   "metadata": {},
   "source": [
    "# Import libraries"
   ]
  },
  {
   "cell_type": "markdown",
   "id": "7ee42302",
   "metadata": {},
   "source": [
    "Before any machine learning wizardry can happen, we need to set our stage first! This involves importing all the necessary Python libraries and functions we’ll need for our journey. So, Let’s call upon pandas, numpy, scikit-learn and some of its modules."
   ]
  },
  {
   "cell_type": "code",
   "execution_count": null,
   "id": "1d3b1262",
   "metadata": {},
   "outputs": [],
   "source": [
    "import pandas as pd\n",
    "import numpy as np\n",
    "from sklearn.model_selection import train_test_split\n",
    "from sklearn.neighbors import KNeighborsClassifier\n",
    "from sklearn.metrics import confusion_matrix\n",
    "from sklearn.metrics import f1_score\n",
    "from sklearn.metrics import accuracy_score"
   ]
  },
  {
   "cell_type": "markdown",
   "id": "500df798",
   "metadata": {},
   "source": [
    "# Load dataset"
   ]
  },
  {
   "cell_type": "markdown",
   "id": "898a4aef",
   "metadata": {},
   "source": [
    "Once we’ve set the stage, our next step is to load the patient data that we will analyze. We’ll use the Python library pandas, which provides excellent data reading capabilities."
   ]
  },
  {
   "cell_type": "code",
   "execution_count": null,
   "id": "bdd8fa38",
   "metadata": {},
   "outputs": [],
   "source": [
    "dataset = pd.read_csv('https://storage.googleapis.com/rg-ai-bootcamp/machine-learning/patients-data.csv')\n",
    "print(len(dataset))\n",
    "dataset.head(10)"
   ]
  },
  {
   "cell_type": "code",
   "execution_count": null,
   "id": "a9b767bf",
   "metadata": {},
   "outputs": [],
   "source": [
    "299"
   ]
  },
  {
   "cell_type": "markdown",
   "id": "b3ded360",
   "metadata": {},
   "source": [
    "|  | tumour_size | age | status |\n",
    "| --- | --- | --- | --- |\n",
    "| 0 | 3.6 | 50 | 0 |\n",
    "| 1 | 6.6 | 31 | 1 |\n",
    "| 2 | 3.3 | 32 | 0 |\n",
    "| 3 | 8.1 | 21 | 1 |\n",
    "| 4 | 3.1 | 33 | 0 |\n",
    "| 5 | 5.6 | 30 | 1 |\n",
    "| 6 | 1.0 | 26 | 0 |\n",
    "| 7 | 5.3 | 29 | 1 |\n",
    "| 8 | 7.6 | 30 | 1 |\n",
    "| 9 | 8.0 | 34 | 1 |"
   ]
  },
  {
   "cell_type": "markdown",
   "id": "213d278f",
   "metadata": {},
   "source": [
    "# Split dataset"
   ]
  },
  {
   "cell_type": "markdown",
   "id": "29ce093f",
   "metadata": {},
   "source": [
    "Let’s now take a third step. We will divide our dataset into two parts - the training set and the testing set. This will allow us to train our model and evaluate its performance on unseen data."
   ]
  },
  {
   "cell_type": "code",
   "execution_count": null,
   "id": "93f730a2",
   "metadata": {},
   "outputs": [],
   "source": [
    "from sklearn.model_selection import train_test_split\n",
    "X = dataset.iloc[:, 0:2]\n",
    "y = dataset.iloc[:, 2]\n",
    "X_train, X_test, y_train, y_test = train_test_split(X, y, random_state=0, test_size=0.2)\n",
    "print ('Train set:', X_train.shape,  y_train.shape)\n",
    "print ('Test set:', X_test.shape,  y_test.shape)"
   ]
  },
  {
   "cell_type": "code",
   "execution_count": null,
   "id": "7448b2aa",
   "metadata": {},
   "outputs": [],
   "source": [
    "Train set: (239, 2) (239,)\n",
    "Test set: (60, 2) (60,)"
   ]
  },
  {
   "cell_type": "markdown",
   "id": "6177a73f",
   "metadata": {},
   "source": [
    "# Train Model and Predict"
   ]
  },
  {
   "cell_type": "markdown",
   "id": "8a542fc4",
   "metadata": {},
   "source": [
    "After that, we define the model using KNeighborsClassifier and fit the train data in the model. Just like Logistic Regression, sklearn provides the KNeighborsClassifier class in the sklearn.model_selection module. Here’s how you can do it:"
   ]
  },
  {
   "cell_type": "code",
   "execution_count": null,
   "id": "d2cb4896",
   "metadata": {},
   "outputs": [],
   "source": [
    "k = 11\n",
    "classifier = KNeighborsClassifier(n_neighbors = k, metric='euclidean').fit(X_train,y_train)\n",
    "classifier"
   ]
  },
  {
   "cell_type": "code",
   "execution_count": null,
   "id": "7794dfe8",
   "metadata": {},
   "outputs": [],
   "source": [
    "KNeighborsClassifier(metric='euclidean', n_neighbors=11)"
   ]
  },
  {
   "cell_type": "code",
   "execution_count": null,
   "id": "289e20c4",
   "metadata": {},
   "outputs": [],
   "source": [
    "KNeighborsClassifier(metric='euclidean', n_neighbors=11)"
   ]
  },
  {
   "cell_type": "markdown",
   "id": "d2e392f2",
   "metadata": {},
   "source": [
    "# Predict the test set results"
   ]
  },
  {
   "cell_type": "markdown",
   "id": "aa6f0d3a",
   "metadata": {},
   "source": [
    "After training the model, the next step is to utilize our trained classifier to predict results on the test set. Let’s delve directly into making these predictions and observe the results our model produces."
   ]
  },
  {
   "cell_type": "code",
   "execution_count": null,
   "id": "e450b46a",
   "metadata": {},
   "outputs": [],
   "source": [
    "X_test.head()"
   ]
  },
  {
   "cell_type": "markdown",
   "id": "f9ab407d",
   "metadata": {},
   "source": [
    "|  | tumour_size | age |\n",
    "| --- | --- | --- |\n",
    "| 206 | 4.0 | 22 |\n",
    "| 188 | 2.8 | 24 |\n",
    "| 12 | 5.8 | 31 |\n",
    "| 219 | 8.2 | 29 |\n",
    "| 237 | 5.1 | 21 |"
   ]
  },
  {
   "cell_type": "code",
   "execution_count": null,
   "id": "e4ac1348",
   "metadata": {},
   "outputs": [],
   "source": [
    "y_hat = classifier.predict(X_test)\n",
    "y_hat"
   ]
  },
  {
   "cell_type": "code",
   "execution_count": null,
   "id": "b9933746",
   "metadata": {},
   "outputs": [],
   "source": [
    "array([0, 0, 1, 1, 0, 1, 0, 1, 0, 0, 0, 0, 1, 0, 1, 0, 1, 1, 1, 1, 0, 0,\n",
    "       0, 1, 0, 0, 1, 1, 0, 1, 0, 0, 1, 1, 1, 1, 0, 0, 0, 1, 0, 1, 1, 1,\n",
    "       1, 1, 0, 0, 1, 0, 1, 0, 0, 0, 0, 1, 0, 0, 0, 1])"
   ]
  },
  {
   "cell_type": "markdown",
   "id": "2890e216",
   "metadata": {},
   "source": [
    "Upon executing our classifier’s prediction on the test set, we can see the predicted tumour categories. - 0 represents ‘benign’ - 1 stands for ‘malignant’."
   ]
  },
  {
   "cell_type": "markdown",
   "id": "29f1aa46",
   "metadata": {},
   "source": [
    "This array of 0s and 1s is our model’s attempt at diagnosing each analyzed tumour based on the patterns it discovered during the training phase. We will proceed next to evaluate the accuracy of these predictions. It’s important to evaluate the model."
   ]
  },
  {
   "cell_type": "markdown",
   "id": "f5052b76",
   "metadata": {},
   "source": [
    "# Evaluate Model"
   ]
  },
  {
   "cell_type": "markdown",
   "id": "d3a5ce24",
   "metadata": {},
   "source": [
    "Moving on to the next crucial phase, let’s use confusion matrix to do that. The confusion matrix will provide us valuable insights into the accuracy of our model’s predictions. It allows us to understand the model’s performance by showcasing the correctly and incorrectly predicted values. Let’s delve into creating our confusion matrix now."
   ]
  },
  {
   "cell_type": "code",
   "execution_count": null,
   "id": "4b4269b1",
   "metadata": {},
   "outputs": [],
   "source": [
    "cm = confusion_matrix(y_test, y_hat)\n",
    "print (cm)"
   ]
  },
  {
   "cell_type": "code",
   "execution_count": null,
   "id": "10580bd3",
   "metadata": {},
   "outputs": [],
   "source": [
    "[[29  0]\n",
    " [ 3 28]]"
   ]
  },
  {
   "cell_type": "markdown",
   "id": "00814f5e",
   "metadata": {},
   "source": [
    "A confusion matrix is a table used in statistics to evaluate the accuracy of a classification model. It displays the number of correctly and incorrectly predicted observations. Here’s how to interpret the matrix:"
   ]
  },
  {
   "cell_type": "code",
   "execution_count": null,
   "id": "8b98b02e",
   "metadata": {},
   "outputs": [],
   "source": [
    "[[29  0]\n",
    " [ 3 28]]"
   ]
  },
  {
   "cell_type": "markdown",
   "id": "cc13e3d8",
   "metadata": {},
   "source": [
    "- The top left value29represents theTrue Positives (TP): These are cases in which we predicted malignant, and it is indeed malignant.\n",
    "- The top right value0represents theFalse Positives (FP): These are cases in which we predicted malignant, but the tumor is not actually malignant. There are none such cases in your result.\n",
    "- The bottom left value3represents theFalse Negatives (FN): These are cases in which we predicted benign, but the tumor is malignant. We have 3 such cases here.\n",
    "- The bottom right value28represents theTrue Negatives (TN): These are cases in which we predicted benign, and the the tumor is indeed benign."
   ]
  },
  {
   "cell_type": "markdown",
   "id": "a315a765",
   "metadata": {},
   "source": [
    "The top left value 29 represents the True Positives (TP): These are cases in which we predicted malignant, and it is indeed malignant."
   ]
  },
  {
   "cell_type": "markdown",
   "id": "30b20062",
   "metadata": {},
   "source": [
    "The top right value 0 represents the False Positives (FP): These are cases in which we predicted malignant, but the tumor is not actually malignant. There are none such cases in your result."
   ]
  },
  {
   "cell_type": "markdown",
   "id": "98363904",
   "metadata": {},
   "source": [
    "The bottom left value 3 represents the False Negatives (FN): These are cases in which we predicted benign, but the tumor is malignant. We have 3 such cases here."
   ]
  },
  {
   "cell_type": "markdown",
   "id": "831ab875",
   "metadata": {},
   "source": [
    "The bottom right value 28 represents the True Negatives (TN): These are cases in which we predicted benign, and the the tumor is indeed benign."
   ]
  },
  {
   "cell_type": "markdown",
   "id": "3ccec008",
   "metadata": {},
   "source": [
    "In summary, our model performed quite well! Out of the 60 test instances, it correctly predicted 57 (29 + 28 = 57) of them, and misclassified 3. The model successfully identified all negative cases, and only misclassified 3 positive cases."
   ]
  },
  {
   "cell_type": "markdown",
   "id": "186f4c30",
   "metadata": {},
   "source": [
    "After evaluating our model, it is now important to assess how well our model performs. We will calculate the F1 score and accuracy, which is a key evaluation metric in machine learning. The F1 score indicates the balance between precision and recall, while accuracy represents a fraction from the correct predictions our model makes."
   ]
  },
  {
   "cell_type": "code",
   "execution_count": null,
   "id": "d85e75aa",
   "metadata": {},
   "outputs": [],
   "source": [
    "print(f1_score(y_test, y_hat))\n",
    "print(accuracy_score(y_test, y_hat))"
   ]
  },
  {
   "cell_type": "code",
   "execution_count": null,
   "id": "02a46fdc",
   "metadata": {},
   "outputs": [],
   "source": [
    "0.9491525423728813\n",
    "0.95"
   ]
  },
  {
   "cell_type": "markdown",
   "id": "36bf2b67",
   "metadata": {},
   "source": [
    "The F1 score is 0.9491525423728813 which is quite high. An F1 score is a measure of a model’s precision and recall, and it ranges from 0 to 1. A high F1 score, as in this case, indicates that our model has high precision and recall. In other words, when our model predicts that a tumor is malignant, it is usually correct (high precision), and also correctly identifies the majority of malignant tumors (high recall)."
   ]
  },
  {
   "cell_type": "markdown",
   "id": "7b1fa838",
   "metadata": {},
   "source": [
    "The model accuracy is 0.95 or 95% indicating the proportion of the total model predictions that are made correctly. Specifically, it makes correct predictions in 95% of cases."
   ]
  },
  {
   "cell_type": "markdown",
   "id": "0840c6bb",
   "metadata": {},
   "source": [
    "Overall, with an F1 score of 0.949 and an accuracy score of 0.95, our model seems to perform very well in classifying the data in this case. A high value indicates that the model is reliable and likely to make correct predictions. Of course, this assumes that any new data follows a similar distribution to the training data."
   ]
  },
  {
   "cell_type": "markdown",
   "id": "3280a8d2",
   "metadata": {},
   "source": [
    "# How to find the best \\(k\\)"
   ]
  },
  {
   "cell_type": "markdown",
   "id": "532b6a94",
   "metadata": {},
   "source": [
    "Now we come to the most important stage in our analysis when applying the k-Nearest Neighbors (kNN) algorithm, namely determining the optimal number of ‘neighbours’ (k) for our model. A common solution is to back up some of your data to test the accuracy of the model. we will test different k values from 1 to 20. By calculating the model accuracy for each k, we can determine the most appropriate value of k —the one that allows the model to most accurately predict the class labels"
   ]
  },
  {
   "cell_type": "markdown",
   "id": "87c63b82",
   "metadata": {},
   "source": [
    "We can calculate the accuracy of KNN for different values of $k$."
   ]
  },
  {
   "cell_type": "code",
   "execution_count": null,
   "id": "d820fa49",
   "metadata": {},
   "outputs": [],
   "source": [
    "import matplotlib.pyplot as plt\n",
    "%matplotlib inline"
   ]
  },
  {
   "cell_type": "code",
   "execution_count": null,
   "id": "bea3ac21",
   "metadata": {},
   "outputs": [],
   "source": [
    "Ks = 20\n",
    "mean_acc = np.zeros((Ks-1))\n",
    "std_acc = np.zeros((Ks-1))\n",
    "\n",
    "for n in range(1,Ks):\n",
    "    #Train Model and Predict\n",
    "    classifier = KNeighborsClassifier(n_neighbors = n).fit(X_train,y_train)\n",
    "    yhat=classifier.predict(X_test)\n",
    "    mean_acc[n-1] = accuracy_score(y_test, yhat)\n",
    "    std_acc[n-1]=np.std(yhat==y_test)/np.sqrt(yhat.shape[0])\n",
    "\n",
    "mean_acc"
   ]
  },
  {
   "cell_type": "code",
   "execution_count": null,
   "id": "3e22d420",
   "metadata": {},
   "outputs": [],
   "source": [
    "array([0.93333333, 0.86666667, 0.9       , 0.9       , 0.9       ,\n",
    "       0.9       , 0.91666667, 0.93333333, 0.96666667, 0.95      ,\n",
    "       0.95      , 0.95      , 0.93333333, 0.91666667, 0.91666667,\n",
    "       0.91666667, 0.9       , 0.9       , 0.9       ])"
   ]
  },
  {
   "cell_type": "code",
   "execution_count": null,
   "id": "4790a370",
   "metadata": {},
   "outputs": [],
   "source": [
    "plt.plot(range(1,Ks),mean_acc,'g')\n",
    "plt.fill_between(range(1,Ks),mean_acc - 1 * std_acc,mean_acc + 1 * std_acc, alpha=0.10)\n",
    "plt.fill_between(range(1,Ks),mean_acc - 3 * std_acc,mean_acc + 3 * std_acc, alpha=0.10,color=\"green\")\n",
    "plt.legend(('Accuracy ', '+/- 1xstd','+/- 3xstd'))\n",
    "plt.ylabel('Accuracy ')\n",
    "plt.xlabel('Number of Neighbors (K)')\n",
    "plt.tight_layout()\n",
    "plt.show()"
   ]
  },
  {
   "cell_type": "markdown",
   "id": "40f5d3fa",
   "metadata": {},
   "source": []
  },
  {
   "cell_type": "code",
   "execution_count": null,
   "id": "03bc2d0d",
   "metadata": {},
   "outputs": [],
   "source": [
    "print( \"The best accuracy was with\", mean_acc.max(), \"with k=\", mean_acc.argmax()+1)"
   ]
  },
  {
   "cell_type": "code",
   "execution_count": null,
   "id": "42336df7",
   "metadata": {},
   "outputs": [],
   "source": [
    "The best accuracy was with 0.9666666666666667 with k= 9"
   ]
  },
  {
   "cell_type": "markdown",
   "id": "ceb2bc34",
   "metadata": {},
   "source": [
    "The numbers you see in the array represent the accuracy of the model (how close the output is to the expected outcome) for each “k”. Accuracy is presented as a value between 0 (0%) and 1 (100%)."
   ]
  },
  {
   "cell_type": "markdown",
   "id": "c1a14abc",
   "metadata": {},
   "source": [
    "For example, when k=1, the model accuracy was about 93.3%, and when k=2, the accuracy dropped to around 86.7%. As we increased “k”, we observed that the accuracy fluctuated. The highest accuracy achieved was about 96.7% (k=9)."
   ]
  },
  {
   "cell_type": "markdown",
   "id": "1abf42df",
   "metadata": {},
   "source": [
    "From this experiment, it appears that choosing 9 as the number of nearest neighbors (k=9) would give us the highest accuracy for our model."
   ]
  }
 ],
 "metadata": {},
 "nbformat": 4,
 "nbformat_minor": 5
}
