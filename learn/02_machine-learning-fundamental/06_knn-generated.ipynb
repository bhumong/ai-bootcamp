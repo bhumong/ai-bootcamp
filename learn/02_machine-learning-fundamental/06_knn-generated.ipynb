{
 "cells": [
  {
   "cell_type": "markdown",
   "id": "bebb21e8",
   "metadata": {},
   "source": [
    "source: [https://ai-bootcamp.ruangguru.com/learn/02_machine-learning-fundamental/06_knn.html](https://ai-bootcamp.ruangguru.com/learn/02_machine-learning-fundamental/06_knn.html)"
   ]
  },
  {
   "cell_type": "markdown",
   "id": "aeed2bf1",
   "metadata": {},
   "source": [
    "# k-Nearest Neighbors (kNN)"
   ]
  },
  {
   "cell_type": "markdown",
   "id": "cc951a0a",
   "metadata": {},
   "source": [
    "# Introduction"
   ]
  },
  {
   "cell_type": "markdown",
   "id": "83a4936f",
   "metadata": {},
   "source": [
    "Imagine we’re a doctor. We’re often faced with the task of identifying whether a tumour is cancerous (malignant) or not cancerous (benign). Normally, we’d have to inspect medical images and rely on years of medical training to make this call. But what if a computer could help do this job?"
   ]
  },
  {
   "cell_type": "markdown",
   "id": "720ffdb3",
   "metadata": {},
   "source": [
    "In our previous discussions, we discussed using a logistic regression method to do just this. But sometimes, real-life data isn’t so straightforward. Take tumors for instance. Their characteristics can vary a lot. Some are small, some are big. Some are round, others are irregular in shape. When the straight “line of best fit” isn’t the best fit for our data, we use different methods. One such method is the k-Nearest Neighbors (kNN) algorithm."
   ]
  },
  {
   "cell_type": "markdown",
   "id": "b6b5a73d",
   "metadata": {},
   "source": [
    "In simplest term, let’s just say that kNN is asking “k” neighbours around the prediction data and then make a decision based on the majority of those “k” closest data."
   ]
  },
  {
   "cell_type": "markdown",
   "id": "357f44fa",
   "metadata": {},
   "source": [
    "Let’s explore the kNN method in greater depth. We’ll learn how to decide how many neighbours ($k$) to consider and how to use kNN to sort out tumours into malignant or benign."
   ]
  },
  {
   "cell_type": "markdown",
   "id": "eb07f79c",
   "metadata": {},
   "source": [
    "# What is k-Nearest Neighbors (kNN)?"
   ]
  },
  {
   "cell_type": "markdown",
   "id": "c6236c18",
   "metadata": {},
   "source": [
    "The k-Nearest Neighbors (kNN) is a type of machine learning algorithm. It’s like the helpful neighbour we call on when we need advice, but with a twist."
   ]
  },
  {
   "cell_type": "markdown",
   "id": "ccfaf046",
   "metadata": {},
   "source": [
    "In machine learning, we often want our computer (also referred to as a model) to learn from past data to make future decisions or predictions. The kNN algorithm is one such tool that helps in this learning."
   ]
  },
  {
   "cell_type": "markdown",
   "id": "51691e6c",
   "metadata": {},
   "source": [
    "The concept of kNN is quite simple and is used for both classification and regression tasks."
   ]
  },
  {
   "cell_type": "markdown",
   "id": "f58ce902",
   "metadata": {},
   "source": [
    "- ClassificationClassification is like sorting objects into buckets. For example, deciding if an email is ‘spam’ or ‘not spam’, or classifying a tumor as ‘malignant’ or ‘benign’ are classification problems. Here, the kNN algorithm sorts a new object (like an email or a tumour) into a category based on how similar it is to objects it already knows about.\n",
    "- RegressionRegression, on the other hand, is like predicting a number. For example, predicting a house’s price based on features like the number of bedrooms, location, and size. Here, the kNN algorithm predicts a new number based on the existing numbers it has seen that are most similar to the new entry."
   ]
  },
  {
   "cell_type": "markdown",
   "id": "e6fe8364",
   "metadata": {},
   "source": [
    "Classification"
   ]
  },
  {
   "cell_type": "markdown",
   "id": "2c9746c4",
   "metadata": {},
   "source": [
    "Classification is like sorting objects into buckets. For example, deciding if an email is ‘spam’ or ‘not spam’, or classifying a tumor as ‘malignant’ or ‘benign’ are classification problems. Here, the kNN algorithm sorts a new object (like an email or a tumour) into a category based on how similar it is to objects it already knows about."
   ]
  },
  {
   "cell_type": "markdown",
   "id": "54fc809a",
   "metadata": {},
   "source": [
    "Regression"
   ]
  },
  {
   "cell_type": "markdown",
   "id": "c8011081",
   "metadata": {},
   "source": [
    "Regression, on the other hand, is like predicting a number. For example, predicting a house’s price based on features like the number of bedrooms, location, and size. Here, the kNN algorithm predicts a new number based on the existing numbers it has seen that are most similar to the new entry."
   ]
  },
  {
   "cell_type": "markdown",
   "id": "eae40d9a",
   "metadata": {},
   "source": [
    "The “k” in kNN stands for the number of neighbours the algorithm checks with before making its decision or prediction. If we have “5” as our k value, the algorithm looks at the 5 closest neighbours (i.e., the 5 most similar data points) it already knows about to make its prediction. Finally, “Nearest” signifies that we consider only the closest or most similar data points to make this prediction."
   ]
  },
  {
   "cell_type": "markdown",
   "id": "77a60b47",
   "metadata": {},
   "source": [
    "# How Does kNN Work?"
   ]
  },
  {
   "cell_type": "markdown",
   "id": "03ae2d0a",
   "metadata": {},
   "source": []
  },
  {
   "cell_type": "markdown",
   "id": "ec2f2c16",
   "metadata": {},
   "source": [
    "![Image](https://storage.googleapis.com/rg-ai-bootcamp/machine-learning/knn-visual-min.png)"
   ]
  },
  {
   "cell_type": "markdown",
   "id": "528f57eb",
   "metadata": {},
   "source": [
    "Source: Youtube"
   ]
  },
  {
   "cell_type": "markdown",
   "id": "a9977771",
   "metadata": {},
   "source": [
    "Let’s dive deeper into the k-Nearest Neighbors (kNN) method. Imagine that we are a doctor who examines the scan results of a tumour and decides whether the tumour is dangerous (malignant) or not (benign). We can think of kNN as a way to make decisions based on community wisdom."
   ]
  },
  {
   "cell_type": "markdown",
   "id": "4df9bad4",
   "metadata": {},
   "source": [
    "In this case, the so-called ‘crowd’ consists of tumours that have been previously examined. These past examples have known classifications—they can be malignant or benign. This is our training data."
   ]
  },
  {
   "cell_type": "markdown",
   "id": "fdb462ff",
   "metadata": {},
   "source": [
    "| Tumour size | Age | Status |\n",
    "| --- | --- | --- |\n",
    "| 3.6 | 50 | 0 |\n",
    "| 6.6 | 31 | 1 |\n",
    "| 3.3 | 32 | 0 |\n",
    "| 8.1 | 21 | 1 |\n",
    "| 3.1 | 33 | 0 |\n",
    "| 5.6 | 30 | 1 |\n",
    "| 1.0 | 26 | 0 |\n",
    "| … | .. | . |\n",
    "| 1.2 | 44 | 0 |"
   ]
  },
  {
   "cell_type": "markdown",
   "id": "15bac8ab",
   "metadata": {},
   "source": [
    "But how is our new tumour related to this ‘crowd’ of tumours?"
   ]
  },
  {
   "cell_type": "markdown",
   "id": "f1de6983",
   "metadata": {},
   "source": [
    "# Distance"
   ]
  },
  {
   "cell_type": "markdown",
   "id": "fbb285a7",
   "metadata": {},
   "source": [
    "This is where the concept of ‘distance’ comes into play. We consider each feature of our tumour – such as tumour size and patient age – as a dimension. These dimensions form a space, and each tumour occupies a point in that space."
   ]
  },
  {
   "cell_type": "markdown",
   "id": "322a08f3",
   "metadata": {},
   "source": [
    "The ‘distance’ between two tumours in this multidimensional space shows how similar they are. Two tumours that are small distances apart are very similar, whereas two tumours that are large distances are very different."
   ]
  },
  {
   "cell_type": "markdown",
   "id": "6ceeb819",
   "metadata": {},
   "source": []
  },
  {
   "cell_type": "markdown",
   "id": "a8e922c2",
   "metadata": {},
   "source": [
    "![Image](https://storage.googleapis.com/rg-ai-bootcamp/machine-learning/distance-min.png)"
   ]
  },
  {
   "cell_type": "markdown",
   "id": "dcef1272",
   "metadata": {},
   "source": [
    "# Measuring distance"
   ]
  },
  {
   "cell_type": "markdown",
   "id": "fabd9592",
   "metadata": {},
   "source": [
    "How do we calculate this distance? There are many ways to calculate distance, one of which is by using Euclidean distance. Euclidean plays a role in measuring the distance between two points. The only difference here is that we can do it in more than two dimensions!"
   ]
  },
  {
   "cell_type": "markdown",
   "id": "0cb2a20c",
   "metadata": {},
   "source": []
  },
  {
   "cell_type": "markdown",
   "id": "dcc377af",
   "metadata": {},
   "source": [
    "![Image](https://storage.googleapis.com/rg-ai-bootcamp/machine-learning/euclidean-min.png)"
   ]
  },
  {
   "cell_type": "markdown",
   "id": "8e9a8a0d",
   "metadata": {},
   "source": [
    "(Source: medium.com/@luigi.fiori.lf0303)"
   ]
  },
  {
   "cell_type": "markdown",
   "id": "324da00c",
   "metadata": {},
   "source": [
    "For example, the Euclidean distance between tumours A and B uses the formula: \n",
    "\\[d(x,y) = \\sqrt{\\sum_{i=1}^{m}(x_i - y_i)^2}\\]\n"
   ]
  },
  {
   "cell_type": "markdown",
   "id": "819f937e",
   "metadata": {},
   "source": [
    "In each dimension, we calculate the difference between the two points’ values, which gives us the length of that dimension’s “side” of the hypothetical triangle. We then square this length and add it to our ongoing sum. Taking the square root of this cumulative sum yields our Euclidean distance."
   ]
  },
  {
   "cell_type": "markdown",
   "id": "dfdd2b3d",
   "metadata": {},
   "source": [
    "Besides Euclidean, there are also other ways to measure distance, such as Manhattan Distance or Minkowski Distance, but Euclidean is the most common."
   ]
  },
  {
   "cell_type": "markdown",
   "id": "f9101acf",
   "metadata": {},
   "source": [
    "# Neighbours"
   ]
  },
  {
   "cell_type": "markdown",
   "id": "48e879c5",
   "metadata": {},
   "source": [
    "Now that we have a way to calculate distance, how do we use it to classify our new tumour?"
   ]
  },
  {
   "cell_type": "markdown",
   "id": "623a9227",
   "metadata": {},
   "source": [
    "Remember the ‘k’ in kNN. This is where this comes into play."
   ]
  },
  {
   "cell_type": "markdown",
   "id": "cb6e2859",
   "metadata": {},
   "source": [
    "If k=3, the system will check the 3 tumours ‘closest’ to the new tumour."
   ]
  },
  {
   "cell_type": "markdown",
   "id": "aff54fd1",
   "metadata": {},
   "source": [
    "If k=6, the system will check the 6 tumours ‘closest’ to the new tumour."
   ]
  },
  {
   "cell_type": "markdown",
   "id": "8a62b474",
   "metadata": {},
   "source": [
    "- If more of the ‘nearest neighbours’ are benign, the system will classify the new tumour as benign.\n",
    "- If more of the ‘nearest neighbours’ are malignant, it classifies the new tumour as malignant."
   ]
  },
  {
   "cell_type": "markdown",
   "id": "812a8353",
   "metadata": {},
   "source": []
  },
  {
   "cell_type": "markdown",
   "id": "48314c41",
   "metadata": {},
   "source": [
    "![Image](https://storage.googleapis.com/rg-ai-bootcamp/machine-learning/k-ilustration-min.png)"
   ]
  },
  {
   "cell_type": "markdown",
   "id": "a0f50e83",
   "metadata": {},
   "source": [
    "In other words, our new tumor is classified based on the majority vote of its nearest neighbours."
   ]
  },
  {
   "cell_type": "markdown",
   "id": "1dc49422",
   "metadata": {},
   "source": [
    "# Selecting the Right ‘\\(k\\)’"
   ]
  },
  {
   "cell_type": "markdown",
   "id": "57655b3f",
   "metadata": {},
   "source": [
    "Just as we need the right number of people to make a group decision, we also need the right number of neighbors ($k$) in kNN to make a good classification. But how do we choose the right ‘$k$’?"
   ]
  },
  {
   "cell_type": "markdown",
   "id": "4a3a0071",
   "metadata": {},
   "source": [
    "# Importance of ‘\\(k\\)’ in kNN"
   ]
  },
  {
   "cell_type": "markdown",
   "id": "fb235d56",
   "metadata": {},
   "source": [
    "Suppose we go back to analyzing a tumor and ask the opinion of three nearby tumors. If two people say it is benign and one says it is malignant, we will choose the majority and classify it as benign."
   ]
  },
  {
   "cell_type": "markdown",
   "id": "2d19265f",
   "metadata": {},
   "source": [
    "Now, what if we asked five tumors for their opinions and three said they were benign while two said they were malignant? We still classify this new tumor as benign."
   ]
  },
  {
   "cell_type": "markdown",
   "id": "a70c39b3",
   "metadata": {},
   "source": [
    "Herein lies the problem: what if the three closest tumors are said to be benign, but when we take the five closest tumors, three tumors are said to be malignant?"
   ]
  },
  {
   "cell_type": "markdown",
   "id": "0717d481",
   "metadata": {},
   "source": [
    "The number of neighbors we ask ($k$) can change our final decision. Therefore, ‘k’ in kNN is the hyperparameter that we have to choose at the beginning. Hyperparameters are settings in a machine learning algorithm that we must set before the learning process begins."
   ]
  },
  {
   "cell_type": "markdown",
   "id": "f362f1b5",
   "metadata": {},
   "source": [
    "# Selects the optimal ‘\\(k\\)’"
   ]
  },
  {
   "cell_type": "markdown",
   "id": "bead4a67",
   "metadata": {},
   "source": [
    "If we only ask one neighbor ($k=1$), we are essentially letting one tumor decide. This can lead to overfitting. These models may work well on existing tumor data, but may fail on new tumors. Why? Because he is very sensitive to tumors that he already knows about."
   ]
  },
  {
   "cell_type": "markdown",
   "id": "60e4c429",
   "metadata": {},
   "source": [
    "On the other hand, if we ask for all our tumors (let’s say we have a thousand), we will only select the class with the most tumors. This can lead to underfitting, because we don’t actually learn any patterns or consider their similarities."
   ]
  },
  {
   "cell_type": "markdown",
   "id": "b8ca1647",
   "metadata": {},
   "source": [
    "So, in the middle is the ‘exact’ value of ‘$k$’. But how do we find it? There are several ways to determine the ‘correct’ value of $k$, including: 1. Try different $k$ values and see which produces the most accurate predictions on a portion of our data set aside for validation (called the validation set). This is a common practice. 2. We can start from Sqrt(n), where n is the total number of data points. Odd ‘k’ values are chosen to avoid confusion in case of a tie (same number of neighbors from both classes). We should have a small enough ‘k’ to start the initial predictions before figuring the optimal."
   ]
  },
  {
   "cell_type": "markdown",
   "id": "0f04d491",
   "metadata": {},
   "source": [
    "We can also use kNN for clustering:"
   ]
  },
  {
   "cell_type": "markdown",
   "id": "d5e3d2c4",
   "metadata": {},
   "source": []
  },
  {
   "cell_type": "markdown",
   "id": "25611cfa",
   "metadata": {},
   "source": [
    "![Image](https://storage.googleapis.com/rg-ai-bootcamp/machine-learning/knn-clustering-min.png)"
   ]
  },
  {
   "cell_type": "markdown",
   "id": "bae74a94",
   "metadata": {},
   "source": [
    "# Advantages and Disadvantages of kNN"
   ]
  },
  {
   "cell_type": "markdown",
   "id": "1fb25010",
   "metadata": {},
   "source": [
    "Every tool has its strengths and weaknesses, and k-Nearest Neighbors (kNN) is no exception. Let’s understand where kNN shines and where caution needs to be applied."
   ]
  },
  {
   "cell_type": "markdown",
   "id": "0fec638e",
   "metadata": {},
   "source": [
    "# Advantages of kNN"
   ]
  },
  {
   "cell_type": "markdown",
   "id": "13be127c",
   "metadata": {},
   "source": [
    "1. Simplicity: One of the main advantages of kNN is its simplicity. It’s easy to understand and implement. The concept of “choosing based on the opinion of neighbours” is straightforward."
   ]
  },
  {
   "cell_type": "markdown",
   "id": "c7a1c185",
   "metadata": {},
   "source": [
    "2. Effectiveness with Large Datasets: When it comes to big datasets with lots of examples to learn from, kNN is quite effective. Just as a doctor gets better at diagnosing with more patients, kNN improves with more data."
   ]
  },
  {
   "cell_type": "markdown",
   "id": "a62db202",
   "metadata": {},
   "source": [
    "# Disadvantages of kNN"
   ]
  },
  {
   "cell_type": "markdown",
   "id": "b792fbb8",
   "metadata": {},
   "source": [
    "1. Sensitivity to Irrelevant Features: Imagine we have tumour data with an irrelevant feature, like the patient’s favourite colour. kNN does not differentiate important features from less important ones, which can cause misclassifications. We must be careful in selecting relevant features for the model."
   ]
  },
  {
   "cell_type": "markdown",
   "id": "84d18b36",
   "metadata": {},
   "source": [
    "2. The Curse of Dimensionality: Remember how we discussed data being plotted in a space with dimensions? Well, as the number of dimensions (features) increases, the data becomes sparse and distant from each other, making it more challenging for kNN to find meaningful neighbours. This problem is known as the “curse of dimensionality.”"
   ]
  },
  {
   "cell_type": "markdown",
   "id": "5eb0595d",
   "metadata": {},
   "source": [
    "# Hands-On Example: Using kNN in Machine Learning"
   ]
  },
  {
   "cell_type": "markdown",
   "id": "e5e12bc9",
   "metadata": {},
   "source": [
    "# Import libraries"
   ]
  },
  {
   "cell_type": "markdown",
   "id": "6a45f252",
   "metadata": {},
   "source": [
    "Before any machine learning wizardry can happen, we need to set our stage first! This involves importing all the necessary Python libraries and functions we’ll need for our journey. So, Let’s call upon pandas, numpy, scikit-learn and some of its modules."
   ]
  },
  {
   "cell_type": "code",
   "execution_count": null,
   "id": "12054b36",
   "metadata": {},
   "outputs": [],
   "source": [
    "import pandas as pd\n",
    "import numpy as np\n",
    "from sklearn.model_selection import train_test_split\n",
    "from sklearn.neighbors import KNeighborsClassifier\n",
    "from sklearn.metrics import confusion_matrix\n",
    "from sklearn.metrics import f1_score\n",
    "from sklearn.metrics import accuracy_score"
   ]
  },
  {
   "cell_type": "markdown",
   "id": "2e8210bf",
   "metadata": {},
   "source": [
    "# Load dataset"
   ]
  },
  {
   "cell_type": "markdown",
   "id": "1bed7061",
   "metadata": {},
   "source": [
    "Once we’ve set the stage, our next step is to load the patient data that we will analyze. We’ll use the Python library pandas, which provides excellent data reading capabilities."
   ]
  },
  {
   "cell_type": "code",
   "execution_count": null,
   "id": "b92ab965",
   "metadata": {},
   "outputs": [],
   "source": [
    "dataset = pd.read_csv('https://storage.googleapis.com/rg-ai-bootcamp/machine-learning/patients-data.csv')\n",
    "print(len(dataset))\n",
    "dataset.head(10)"
   ]
  },
  {
   "cell_type": "code",
   "execution_count": null,
   "id": "7988d399",
   "metadata": {},
   "outputs": [],
   "source": [
    "299"
   ]
  },
  {
   "cell_type": "markdown",
   "id": "8a2433de",
   "metadata": {},
   "source": [
    "|  | tumour_size | age | status |\n",
    "| --- | --- | --- | --- |\n",
    "| 0 | 3.6 | 50 | 0 |\n",
    "| 1 | 6.6 | 31 | 1 |\n",
    "| 2 | 3.3 | 32 | 0 |\n",
    "| 3 | 8.1 | 21 | 1 |\n",
    "| 4 | 3.1 | 33 | 0 |\n",
    "| 5 | 5.6 | 30 | 1 |\n",
    "| 6 | 1.0 | 26 | 0 |\n",
    "| 7 | 5.3 | 29 | 1 |\n",
    "| 8 | 7.6 | 30 | 1 |\n",
    "| 9 | 8.0 | 34 | 1 |"
   ]
  },
  {
   "cell_type": "markdown",
   "id": "b4bfc7df",
   "metadata": {},
   "source": [
    "# Split dataset"
   ]
  },
  {
   "cell_type": "markdown",
   "id": "6d1a207a",
   "metadata": {},
   "source": [
    "Let’s now take a third step. We will divide our dataset into two parts - the training set and the testing set. This will allow us to train our model and evaluate its performance on unseen data."
   ]
  },
  {
   "cell_type": "code",
   "execution_count": null,
   "id": "70d80b6b",
   "metadata": {},
   "outputs": [],
   "source": [
    "from sklearn.model_selection import train_test_split\n",
    "X = dataset.iloc[:, 0:2]\n",
    "y = dataset.iloc[:, 2]\n",
    "X_train, X_test, y_train, y_test = train_test_split(X, y, random_state=0, test_size=0.2)\n",
    "print ('Train set:', X_train.shape,  y_train.shape)\n",
    "print ('Test set:', X_test.shape,  y_test.shape)"
   ]
  },
  {
   "cell_type": "code",
   "execution_count": null,
   "id": "c3068e01",
   "metadata": {},
   "outputs": [],
   "source": [
    "Train set: (239, 2) (239,)\n",
    "Test set: (60, 2) (60,)"
   ]
  },
  {
   "cell_type": "markdown",
   "id": "362133b0",
   "metadata": {},
   "source": [
    "# Train Model and Predict"
   ]
  },
  {
   "cell_type": "markdown",
   "id": "f2896d39",
   "metadata": {},
   "source": [
    "After that, we define the model using KNeighborsClassifier and fit the train data in the model. Just like Logistic Regression, sklearn provides the KNeighborsClassifier class in the sklearn.model_selection module. Here’s how you can do it:"
   ]
  },
  {
   "cell_type": "code",
   "execution_count": null,
   "id": "4641f612",
   "metadata": {},
   "outputs": [],
   "source": [
    "k = 11\n",
    "classifier = KNeighborsClassifier(n_neighbors = k, metric='euclidean').fit(X_train,y_train)\n",
    "classifier"
   ]
  },
  {
   "cell_type": "code",
   "execution_count": null,
   "id": "8f73fd8d",
   "metadata": {},
   "outputs": [],
   "source": [
    "KNeighborsClassifier(metric='euclidean', n_neighbors=11)"
   ]
  },
  {
   "cell_type": "code",
   "execution_count": null,
   "id": "7a64d7cd",
   "metadata": {},
   "outputs": [],
   "source": [
    "KNeighborsClassifier(metric='euclidean', n_neighbors=11)"
   ]
  },
  {
   "cell_type": "markdown",
   "id": "1292fdd0",
   "metadata": {},
   "source": [
    "# Predict the test set results"
   ]
  },
  {
   "cell_type": "markdown",
   "id": "e3692adc",
   "metadata": {},
   "source": [
    "After training the model, the next step is to utilize our trained classifier to predict results on the test set. Let’s delve directly into making these predictions and observe the results our model produces."
   ]
  },
  {
   "cell_type": "code",
   "execution_count": null,
   "id": "9f0d6952",
   "metadata": {},
   "outputs": [],
   "source": [
    "X_test.head()"
   ]
  },
  {
   "cell_type": "markdown",
   "id": "b38af7a0",
   "metadata": {},
   "source": [
    "|  | tumour_size | age |\n",
    "| --- | --- | --- |\n",
    "| 206 | 4.0 | 22 |\n",
    "| 188 | 2.8 | 24 |\n",
    "| 12 | 5.8 | 31 |\n",
    "| 219 | 8.2 | 29 |\n",
    "| 237 | 5.1 | 21 |"
   ]
  },
  {
   "cell_type": "code",
   "execution_count": null,
   "id": "625e04d9",
   "metadata": {},
   "outputs": [],
   "source": [
    "y_hat = classifier.predict(X_test)\n",
    "y_hat"
   ]
  },
  {
   "cell_type": "code",
   "execution_count": null,
   "id": "46b6e8ea",
   "metadata": {},
   "outputs": [],
   "source": [
    "array([0, 0, 1, 1, 0, 1, 0, 1, 0, 0, 0, 0, 1, 0, 1, 0, 1, 1, 1, 1, 0, 0,\n",
    "       0, 1, 0, 0, 1, 1, 0, 1, 0, 0, 1, 1, 1, 1, 0, 0, 0, 1, 0, 1, 1, 1,\n",
    "       1, 1, 0, 0, 1, 0, 1, 0, 0, 0, 0, 1, 0, 0, 0, 1])"
   ]
  },
  {
   "cell_type": "markdown",
   "id": "61af606f",
   "metadata": {},
   "source": [
    "Upon executing our classifier’s prediction on the test set, we can see the predicted tumour categories. - 0 represents ‘benign’ - 1 stands for ‘malignant’."
   ]
  },
  {
   "cell_type": "markdown",
   "id": "58f3b43b",
   "metadata": {},
   "source": [
    "This array of 0s and 1s is our model’s attempt at diagnosing each analyzed tumour based on the patterns it discovered during the training phase. We will proceed next to evaluate the accuracy of these predictions. It’s important to evaluate the model."
   ]
  },
  {
   "cell_type": "markdown",
   "id": "45f7a3ee",
   "metadata": {},
   "source": [
    "# Evaluate Model"
   ]
  },
  {
   "cell_type": "markdown",
   "id": "b4ac5bdf",
   "metadata": {},
   "source": [
    "Moving on to the next crucial phase, let’s use confusion matrix to do that. The confusion matrix will provide us valuable insights into the accuracy of our model’s predictions. It allows us to understand the model’s performance by showcasing the correctly and incorrectly predicted values. Let’s delve into creating our confusion matrix now."
   ]
  },
  {
   "cell_type": "code",
   "execution_count": null,
   "id": "4138ca10",
   "metadata": {},
   "outputs": [],
   "source": [
    "cm = confusion_matrix(y_test, y_hat)\n",
    "print (cm)"
   ]
  },
  {
   "cell_type": "code",
   "execution_count": null,
   "id": "7e00f67b",
   "metadata": {},
   "outputs": [],
   "source": [
    "[[29  0]\n",
    " [ 3 28]]"
   ]
  },
  {
   "cell_type": "markdown",
   "id": "b96f9da8",
   "metadata": {},
   "source": [
    "A confusion matrix is a table used in statistics to evaluate the accuracy of a classification model. It displays the number of correctly and incorrectly predicted observations. Here’s how to interpret the matrix:"
   ]
  },
  {
   "cell_type": "code",
   "execution_count": null,
   "id": "6392f2ee",
   "metadata": {},
   "outputs": [],
   "source": [
    "[[29  0]\n",
    " [ 3 28]]"
   ]
  },
  {
   "cell_type": "markdown",
   "id": "2e007110",
   "metadata": {},
   "source": [
    "- The top left value29represents theTrue Positives (TP): These are cases in which we predicted malignant, and it is indeed malignant.\n",
    "- The top right value0represents theFalse Positives (FP): These are cases in which we predicted malignant, but the tumor is not actually malignant. There are none such cases in your result.\n",
    "- The bottom left value3represents theFalse Negatives (FN): These are cases in which we predicted benign, but the tumor is malignant. We have 3 such cases here.\n",
    "- The bottom right value28represents theTrue Negatives (TN): These are cases in which we predicted benign, and the the tumor is indeed benign."
   ]
  },
  {
   "cell_type": "markdown",
   "id": "19902aff",
   "metadata": {},
   "source": [
    "The top left value 29 represents the True Positives (TP): These are cases in which we predicted malignant, and it is indeed malignant."
   ]
  },
  {
   "cell_type": "markdown",
   "id": "37bf9840",
   "metadata": {},
   "source": [
    "The top right value 0 represents the False Positives (FP): These are cases in which we predicted malignant, but the tumor is not actually malignant. There are none such cases in your result."
   ]
  },
  {
   "cell_type": "markdown",
   "id": "b5a8dc4e",
   "metadata": {},
   "source": [
    "The bottom left value 3 represents the False Negatives (FN): These are cases in which we predicted benign, but the tumor is malignant. We have 3 such cases here."
   ]
  },
  {
   "cell_type": "markdown",
   "id": "299d949c",
   "metadata": {},
   "source": [
    "The bottom right value 28 represents the True Negatives (TN): These are cases in which we predicted benign, and the the tumor is indeed benign."
   ]
  },
  {
   "cell_type": "markdown",
   "id": "5cc9568e",
   "metadata": {},
   "source": [
    "In summary, our model performed quite well! Out of the 60 test instances, it correctly predicted 57 (29 + 28 = 57) of them, and misclassified 3. The model successfully identified all negative cases, and only misclassified 3 positive cases."
   ]
  },
  {
   "cell_type": "markdown",
   "id": "33388015",
   "metadata": {},
   "source": [
    "After evaluating our model, it is now important to assess how well our model performs. We will calculate the F1 score and accuracy, which is a key evaluation metric in machine learning. The F1 score indicates the balance between precision and recall, while accuracy represents a fraction from the correct predictions our model makes."
   ]
  },
  {
   "cell_type": "code",
   "execution_count": null,
   "id": "94756e50",
   "metadata": {},
   "outputs": [],
   "source": [
    "print(f1_score(y_test, y_hat))\n",
    "print(accuracy_score(y_test, y_hat))"
   ]
  },
  {
   "cell_type": "code",
   "execution_count": null,
   "id": "ec26315f",
   "metadata": {},
   "outputs": [],
   "source": [
    "0.9491525423728813\n",
    "0.95"
   ]
  },
  {
   "cell_type": "markdown",
   "id": "aabb0159",
   "metadata": {},
   "source": [
    "The F1 score is 0.9491525423728813 which is quite high. An F1 score is a measure of a model’s precision and recall, and it ranges from 0 to 1. A high F1 score, as in this case, indicates that our model has high precision and recall. In other words, when our model predicts that a tumor is malignant, it is usually correct (high precision), and also correctly identifies the majority of malignant tumors (high recall)."
   ]
  },
  {
   "cell_type": "markdown",
   "id": "2819a133",
   "metadata": {},
   "source": [
    "The model accuracy is 0.95 or 95% indicating the proportion of the total model predictions that are made correctly. Specifically, it makes correct predictions in 95% of cases."
   ]
  },
  {
   "cell_type": "markdown",
   "id": "77f57320",
   "metadata": {},
   "source": [
    "Overall, with an F1 score of 0.949 and an accuracy score of 0.95, our model seems to perform very well in classifying the data in this case. A high value indicates that the model is reliable and likely to make correct predictions. Of course, this assumes that any new data follows a similar distribution to the training data."
   ]
  },
  {
   "cell_type": "markdown",
   "id": "ab7c4fb9",
   "metadata": {},
   "source": [
    "# How to find the best \\(k\\)"
   ]
  },
  {
   "cell_type": "markdown",
   "id": "175d30a5",
   "metadata": {},
   "source": [
    "Now we come to the most important stage in our analysis when applying the k-Nearest Neighbors (kNN) algorithm, namely determining the optimal number of ‘neighbours’ (k) for our model. A common solution is to back up some of your data to test the accuracy of the model. we will test different k values from 1 to 20. By calculating the model accuracy for each k, we can determine the most appropriate value of k —the one that allows the model to most accurately predict the class labels"
   ]
  },
  {
   "cell_type": "markdown",
   "id": "b7e44042",
   "metadata": {},
   "source": [
    "We can calculate the accuracy of KNN for different values of $k$."
   ]
  },
  {
   "cell_type": "code",
   "execution_count": null,
   "id": "e4d56a73",
   "metadata": {},
   "outputs": [],
   "source": [
    "import matplotlib.pyplot as plt\n",
    "%matplotlib inline"
   ]
  },
  {
   "cell_type": "code",
   "execution_count": null,
   "id": "2f997d7d",
   "metadata": {},
   "outputs": [],
   "source": [
    "Ks = 20\n",
    "mean_acc = np.zeros((Ks-1))\n",
    "std_acc = np.zeros((Ks-1))\n",
    "\n",
    "for n in range(1,Ks):\n",
    "    #Train Model and Predict\n",
    "    classifier = KNeighborsClassifier(n_neighbors = n).fit(X_train,y_train)\n",
    "    yhat=classifier.predict(X_test)\n",
    "    mean_acc[n-1] = accuracy_score(y_test, yhat)\n",
    "    std_acc[n-1]=np.std(yhat==y_test)/np.sqrt(yhat.shape[0])\n",
    "\n",
    "mean_acc"
   ]
  },
  {
   "cell_type": "code",
   "execution_count": null,
   "id": "5a8e5187",
   "metadata": {},
   "outputs": [],
   "source": [
    "array([0.93333333, 0.86666667, 0.9       , 0.9       , 0.9       ,\n",
    "       0.9       , 0.91666667, 0.93333333, 0.96666667, 0.95      ,\n",
    "       0.95      , 0.95      , 0.93333333, 0.91666667, 0.91666667,\n",
    "       0.91666667, 0.9       , 0.9       , 0.9       ])"
   ]
  },
  {
   "cell_type": "code",
   "execution_count": null,
   "id": "acf861e1",
   "metadata": {},
   "outputs": [],
   "source": [
    "plt.plot(range(1,Ks),mean_acc,'g')\n",
    "plt.fill_between(range(1,Ks),mean_acc - 1 * std_acc,mean_acc + 1 * std_acc, alpha=0.10)\n",
    "plt.fill_between(range(1,Ks),mean_acc - 3 * std_acc,mean_acc + 3 * std_acc, alpha=0.10,color=\"green\")\n",
    "plt.legend(('Accuracy ', '+/- 1xstd','+/- 3xstd'))\n",
    "plt.ylabel('Accuracy ')\n",
    "plt.xlabel('Number of Neighbors (K)')\n",
    "plt.tight_layout()\n",
    "plt.show()"
   ]
  },
  {
   "cell_type": "markdown",
   "id": "ed76ed53",
   "metadata": {},
   "source": []
  },
  {
   "cell_type": "code",
   "execution_count": null,
   "id": "b47dad90",
   "metadata": {},
   "outputs": [],
   "source": [
    "print( \"The best accuracy was with\", mean_acc.max(), \"with k=\", mean_acc.argmax()+1)"
   ]
  },
  {
   "cell_type": "code",
   "execution_count": null,
   "id": "934de7dd",
   "metadata": {},
   "outputs": [],
   "source": [
    "The best accuracy was with 0.9666666666666667 with k= 9"
   ]
  },
  {
   "cell_type": "markdown",
   "id": "ba9f3c77",
   "metadata": {},
   "source": [
    "The numbers you see in the array represent the accuracy of the model (how close the output is to the expected outcome) for each “k”. Accuracy is presented as a value between 0 (0%) and 1 (100%)."
   ]
  },
  {
   "cell_type": "markdown",
   "id": "35f97a3e",
   "metadata": {},
   "source": [
    "For example, when k=1, the model accuracy was about 93.3%, and when k=2, the accuracy dropped to around 86.7%. As we increased “k”, we observed that the accuracy fluctuated. The highest accuracy achieved was about 96.7% (k=9)."
   ]
  },
  {
   "cell_type": "markdown",
   "id": "83312984",
   "metadata": {},
   "source": [
    "From this experiment, it appears that choosing 9 as the number of nearest neighbors (k=9) would give us the highest accuracy for our model."
   ]
  }
 ],
 "metadata": {},
 "nbformat": 4,
 "nbformat_minor": 5
}
