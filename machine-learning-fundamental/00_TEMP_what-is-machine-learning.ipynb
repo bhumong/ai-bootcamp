{
 "cells": [
  {
   "cell_type": "markdown",
   "id": "ebb333b2",
   "metadata": {},
   "source": [
    "# What is Machine Learning"
   ]
  },
  {
   "cell_type": "code",
   "execution_count": null,
   "id": "3ae7dd60",
   "metadata": {},
   "outputs": [],
   "source": [
    "!pip install graphviz\n",
    "!pip install fastbook\n",
    "!pip install fastai"
   ]
  },
  {
   "cell_type": "code",
   "execution_count": null,
   "id": "938f5bd7",
   "metadata": {},
   "outputs": [],
   "source": [
    "from fastbook import *"
   ]
  },
  {
   "cell_type": "markdown",
   "id": "43421020",
   "metadata": {},
   "source": [
    "## Traditional Programming"
   ]
  },
  {
   "cell_type": "code",
   "execution_count": null,
   "id": "323f76c4",
   "metadata": {},
   "outputs": [],
   "source": [
    "gv('''program[shape=box3d]\n",
    "inputs->program->results''')"
   ]
  },
  {
   "cell_type": "markdown",
   "id": "a91488ef",
   "metadata": {},
   "source": [
    "![image.png](https://ai-bootcamp.ruangguru.com/learn/02_machine-learning-fundamental/00_what-is-machine-learning_files/figure-html/cell-4-output-1.svg)"
   ]
  },
  {
   "cell_type": "markdown",
   "id": "316e37a8",
   "metadata": {},
   "source": [
    "Program:\n",
    "- if else\n",
    "- loop\n",
    "- function\n",
    "- etc\n",
    "We transfer our knowledge to the computer."
   ]
  },
  {
   "cell_type": "markdown",
   "id": "b7ebd1be",
   "metadata": {},
   "source": [
    "Program:"
   ]
  },
  {
   "cell_type": "markdown",
   "id": "d989df50",
   "metadata": {},
   "source": [
    "We transfer our knowledge to the computer."
   ]
  },
  {
   "cell_type": "markdown",
   "id": "43a5b124",
   "metadata": {},
   "source": [
    "## AI vs ML vs DL"
   ]
  },
  {
   "cell_type": "markdown",
   "id": "eacb4550",
   "metadata": {},
   "source": [
    "![alt text](image.png)"
   ]
  },
  {
   "cell_type": "markdown",
   "id": "797b0403",
   "metadata": {},
   "source": [
    "## Artificial Intelligence"
   ]
  },
  {
   "cell_type": "markdown",
   "id": "079cefae",
   "metadata": {},
   "source": [
    "Artificial Intelligence (AI) is a branch of computer science that aims to create systems capable of performing tasks that would normally require human intelligence. These tasks include problem solving, understanding language, recognizing patterns, learning from experience, and making decisions."
   ]
  },
  {
   "cell_type": "markdown",
   "id": "006c7c3d",
   "metadata": {},
   "source": [
    "Non-machine learning AIs requires human to program the rules (teach the computer how to do it)."
   ]
  },
  {
   "cell_type": "markdown",
   "id": "3718281b",
   "metadata": {},
   "source": [
    "Some example of non-machine learning AIs:"
   ]
  },
  {
   "cell_type": "markdown",
   "id": "12f7f8c0",
   "metadata": {},
   "source": [
    "### Rule-base System"
   ]
  },
  {
   "cell_type": "code",
   "execution_count": null,
   "id": "35de5ace",
   "metadata": {},
   "outputs": [],
   "source": [
    "def predict_illness(symptoms: list[str]) -> str:\n",
    "    if 'fever' in symptoms:\n",
    "        if 'cough' in symptoms:\n",
    "            return 'flu'\n",
    "        elif' sore throat' in symptoms:\n",
    "            return 'cold'\n",
    "        elif 'vomitting' in symptoms:\n",
    "            return 'food poisoning'\n",
    "        else:\n",
    "            return 'unknown'\n",
    "    elif 'rash' in symptoms:\n",
    "        return 'measles'\n",
    "    else:\n",
    "        return 'unknown'"
   ]
  },
  {
   "cell_type": "code",
   "execution_count": null,
   "id": "4839340c",
   "metadata": {},
   "outputs": [],
   "source": [
    "print(predict_illness(['fever', 'cough']))\n",
    "print(predict_illness(['fever', 'vomitting']))"
   ]
  },
  {
   "cell_type": "code",
   "execution_count": null,
   "id": "055380d6",
   "metadata": {},
   "outputs": [],
   "source": [
    "flu\n",
    "food poisoning"
   ]
  },
  {
   "cell_type": "markdown",
   "id": "9a0fc570",
   "metadata": {},
   "source": [
    "### Constraint Satisfaction Problem"
   ]
  },
  {
   "cell_type": "code",
   "execution_count": null,
   "id": "dc5b42e7",
   "metadata": {},
   "outputs": [],
   "source": [
    "def is_valid(board, row, col):\n",
    "    # Check if there is a queen in the same row\n",
    "    for i in range(col):\n",
    "        if board[row][i] == 1:\n",
    "            return False\n",
    "\n",
    "    # Check if there is a queen in the upper diagonal\n",
    "    for i, j in zip(range(row, -1, -1), range(col, -1, -1)):\n",
    "        if board[i][j] == 1:\n",
    "            return False\n",
    "\n",
    "    # Check if there is a queen in the lower diagonal\n",
    "    for i, j in zip(range(row, len(board)), range(col, -1, -1)):\n",
    "        if board[i][j] == 1:\n",
    "            return False\n",
    "\n",
    "    return True\n",
    "\n",
    "def solve_queen(board, col):\n",
    "    # Base case: all queens are placed\n",
    "    if col == len(board):\n",
    "        print_board(board)\n",
    "        return True\n",
    "\n",
    "    # Recursive case: try to place a queen in each row of the current column\n",
    "    for i in range(len(board)):\n",
    "        if is_valid(board, i, col):\n",
    "            board[i][col] = 1\n",
    "            solve_queen(board, col + 1)\n",
    "            board[i][col] = 0\n",
    "\n",
    "    return False\n",
    "\n",
    "def print_board(board):\n",
    "    for row in board:\n",
    "        for cell in row:\n",
    "            if cell == 1:\n",
    "                print(\"Q\", end=\" \")\n",
    "            else:\n",
    "                print(\".\", end=\" \")\n",
    "        print()\n",
    "    print()\n",
    "\n",
    "# Initialize the board\n",
    "n = 4\n",
    "board = [[0] * n for _ in range(n)]\n",
    "\n",
    "# Solve the eight queen problem\n",
    "solve_queen(board, 0)"
   ]
  },
  {
   "cell_type": "code",
   "execution_count": null,
   "id": "0cc5e46a",
   "metadata": {},
   "outputs": [],
   "source": [
    ". . Q . \n",
    "Q . . . \n",
    ". . . Q \n",
    ". Q . . \n",
    "\n",
    ". Q . . \n",
    ". . . Q \n",
    "Q . . . \n",
    ". . Q . \n"
   ]
  },
  {
   "cell_type": "code",
   "execution_count": null,
   "id": "c5d6079e",
   "metadata": {},
   "outputs": [],
   "source": [
    "False"
   ]
  },
  {
   "cell_type": "markdown",
   "id": "b6447872",
   "metadata": {},
   "source": [
    "## Machine Learning"
   ]
  },
  {
   "cell_type": "markdown",
   "id": "03ac8c97",
   "metadata": {},
   "source": [
    "Machine Learning algorithms are able to learn without being explicitly programmed."
   ]
  },
  {
   "cell_type": "markdown",
   "id": "488b5ae5",
   "metadata": {},
   "source": [
    "Instead of writing the rules, we give the computer the data and let the computer learn the rules by itself."
   ]
  },
  {
   "cell_type": "markdown",
   "id": "e3cbbadb",
   "metadata": {},
   "source": [
    "Describe to me - in words - how to recognize apple?"
   ]
  },
  {
   "cell_type": "markdown",
   "id": "b97e2a99",
   "metadata": {},
   "source": []
  },
  {
   "cell_type": "markdown",
   "id": "2c8a65f0",
   "metadata": {},
   "source": [
    "How about this, is it an apple?"
   ]
  },
  {
   "cell_type": "markdown",
   "id": "41376f38",
   "metadata": {},
   "source": []
  },
  {
   "cell_type": "markdown",
   "id": "9ce9879d",
   "metadata": {},
   "source": [
    "Human learns by examples. We learn to recognize apple by seeing a lot of apple. We learn to recognize cherry by seeing a lot of cherry."
   ]
  },
  {
   "cell_type": "markdown",
   "id": "3c2cf0d2",
   "metadata": {},
   "source": [
    "Machine Learning consists of two stages:"
   ]
  },
  {
   "cell_type": "markdown",
   "id": "30ea6a64",
   "metadata": {},
   "source": [
    "### Training Stage"
   ]
  },
  {
   "cell_type": "markdown",
   "id": "a63881f4",
   "metadata": {},
   "source": [
    "We only give the computer the data and the expected output. The computer will learn the rules by itself. The output is the model."
   ]
  },
  {
   "cell_type": "code",
   "execution_count": null,
   "id": "6de829f7",
   "metadata": {},
   "outputs": [],
   "source": [
    "gv('''training[shape=box3d]\n",
    "model[shape=box3d]\n",
    "    inputs->training->model\n",
    "   results->training''')"
   ]
  },
  {
   "cell_type": "markdown",
   "id": "f40f63ae",
   "metadata": {},
   "source": []
  },
  {
   "cell_type": "markdown",
   "id": "2ea5aa61",
   "metadata": {},
   "source": [
    "### Inference Stage"
   ]
  },
  {
   "cell_type": "markdown",
   "id": "c819a201",
   "metadata": {},
   "source": [
    "Once the model is created, we can use the model to predict the output for new data."
   ]
  },
  {
   "cell_type": "code",
   "execution_count": null,
   "id": "4b86b902",
   "metadata": {},
   "outputs": [],
   "source": [
    "gv('''\n",
    "model[shape=box3d]\n",
    "inputs -> model -> results \n",
    "   ''')"
   ]
  },
  {
   "cell_type": "markdown",
   "id": "83a1b391",
   "metadata": {},
   "source": []
  },
  {
   "cell_type": "markdown",
   "id": "146ea3e3",
   "metadata": {},
   "source": [
    "Let’s see an example in action."
   ]
  },
  {
   "cell_type": "markdown",
   "id": "f6a6328c",
   "metadata": {},
   "source": [
    "### Decision Tree"
   ]
  },
  {
   "cell_type": "code",
   "execution_count": null,
   "id": "ecb801fe",
   "metadata": {},
   "outputs": [],
   "source": [
    "gv('''\n",
    "    node [shape=box]\n",
    "    inputs -> fever [label=\"symptoms\"]\n",
    "    fever -> cough [label=\"yes\"]\n",
    "    cough -> sore_throat [label=\"no\"]\n",
    "    cough -> flu [label=\"yes\"]\n",
    "    cough -> unknown [label=\"no\"]\n",
    "    sore_throat -> vomitting [label=\"yes\"]\n",
    "    sore_throat -> rash [label=\"no\"]\n",
    "    vomitting -> food_poisoning [label=\"yes\"]\n",
    "    vomitting -> unknown [label=\"no\"]\n",
    "    rash -> measles [label=\"yes\"]\n",
    "    rash -> unknown [label=\"no\"]\n",
    "''') "
   ]
  },
  {
   "cell_type": "markdown",
   "id": "be918d38",
   "metadata": {},
   "source": []
  },
  {
   "cell_type": "markdown",
   "id": "6bc9b05a",
   "metadata": {},
   "source": [
    "Differs to the traditional programming, we don’t need to write the rules. We only need to give the computer the data and the expected output. The computer will build the decision tree by itself."
   ]
  },
  {
   "cell_type": "markdown",
   "id": "15331520",
   "metadata": {},
   "source": [
    "Let’s try to build decision tree to predict whether a titanic passenger survived or not."
   ]
  },
  {
   "cell_type": "code",
   "execution_count": null,
   "id": "0e57f59b",
   "metadata": {},
   "outputs": [],
   "source": [
    "from sklearn.tree import DecisionTreeClassifier, plot_tree\n",
    "import matplotlib.pyplot as plt\n",
    "import pandas as pd\n",
    "\n",
    "# Load the data\n",
    "url = 'https://raw.githubusercontent.com/datasciencedojo/datasets/master/titanic.csv'\n",
    "df = pd.read_csv(url)\n",
    "df.head()"
   ]
  },
  {
   "cell_type": "markdown",
   "id": "e95f4317",
   "metadata": {},
   "source": [
    "Let’s preprocess the data first."
   ]
  },
  {
   "cell_type": "code",
   "execution_count": null,
   "id": "aa7fb5ad",
   "metadata": {},
   "outputs": [],
   "source": [
    "# Define the dependent variable\n",
    "dep_var = 'Survived'\n",
    "\n",
    "# Define the categorical and continuous variables\n",
    "cat_names = ['Pclass', 'Sex', 'Embarked']\n",
    "cont_names = ['Age', 'SibSp', 'Parch', 'Fare']\n",
    "\n",
    "# Preprocess the data\n",
    "df = df[cat_names + cont_names + [dep_var]].dropna()\n",
    "df[cat_names] = df[cat_names].apply(lambda x: pd.factorize(x)[0])\n",
    "X = df[cat_names + cont_names]\n",
    "y = df[dep_var]"
   ]
  },
  {
   "cell_type": "code",
   "execution_count": null,
   "id": "be8c43fb",
   "metadata": {},
   "outputs": [],
   "source": [
    "X.head()"
   ]
  },
  {
   "cell_type": "code",
   "execution_count": null,
   "id": "6ec4e0e4",
   "metadata": {},
   "outputs": [],
   "source": [
    "y.head() "
   ]
  },
  {
   "cell_type": "code",
   "execution_count": null,
   "id": "8ce10109",
   "metadata": {},
   "outputs": [],
   "source": [
    "0    0\n",
    "1    1\n",
    "2    1\n",
    "3    1\n",
    "4    0\n",
    "Name: Survived, dtype: int64"
   ]
  },
  {
   "cell_type": "code",
   "execution_count": null,
   "id": "6ced32a0",
   "metadata": {},
   "outputs": [],
   "source": [
    "# Create the decision tree model\n",
    "tree = DecisionTreeClassifier(max_depth=3)\n",
    "tree.fit(X, y)\n",
    "\n",
    "# Print the decision tree\n",
    "plt.figure(figsize=(10, 8))\n",
    "plot_tree(tree, feature_names=cat_names+cont_names, class_names=['Not Survived', 'Survived'], filled=True)\n",
    "plt.show()"
   ]
  },
  {
   "cell_type": "markdown",
   "id": "a134cb5d",
   "metadata": {},
   "source": []
  },
  {
   "cell_type": "code",
   "execution_count": null,
   "id": "4ce76364",
   "metadata": {},
   "outputs": [],
   "source": [
    "# Use the tree to infer\n",
    "\n",
    "tree.predict([[1, 1, 0, 35.0, 1, 0, 52.1000]])"
   ]
  },
  {
   "cell_type": "code",
   "execution_count": null,
   "id": "21c511b9",
   "metadata": {},
   "outputs": [],
   "source": [
    "/Users/ruangguru/.pyenv/versions/3.11.1/lib/python3.11/site-packages/sklearn/base.py:439: UserWarning: X does not have valid feature names, but DecisionTreeClassifier was fitted with feature names\n",
    "  warnings.warn("
   ]
  },
  {
   "cell_type": "code",
   "execution_count": null,
   "id": "ae90afe9",
   "metadata": {},
   "outputs": [],
   "source": [
    "array([1])"
   ]
  },
  {
   "cell_type": "markdown",
   "id": "10a55c84",
   "metadata": {},
   "source": [
    "### What is Gini?"
   ]
  },
  {
   "cell_type": "markdown",
   "id": "eeef7ae8",
   "metadata": {},
   "source": [
    "Gini is a measure of impurity. The lower the gini, the purer the node."
   ]
  },
  {
   "cell_type": "markdown",
   "id": "00b5654a",
   "metadata": {},
   "source": [
    "\\[Gini = 1 - \\sum_{i=1}^{n} p_i^2\\]"
   ]
  },
  {
   "cell_type": "markdown",
   "id": "003257d9",
   "metadata": {},
   "source": []
  },
  {
   "cell_type": "markdown",
   "id": "839063f0",
   "metadata": {},
   "source": [
    "Source: Learndatasci.com"
   ]
  },
  {
   "cell_type": "markdown",
   "id": "369d65cc",
   "metadata": {},
   "source": [
    "Depends on how we split the data, we can get different purity."
   ]
  },
  {
   "cell_type": "markdown",
   "id": "4ed8f63f",
   "metadata": {},
   "source": []
  },
  {
   "cell_type": "markdown",
   "id": "7faa3593",
   "metadata": {},
   "source": [
    "Source: ekamperi.github.io"
   ]
  },
  {
   "cell_type": "markdown",
   "id": "c2385d2d",
   "metadata": {},
   "source": [
    "## Deep Learning"
   ]
  },
  {
   "cell_type": "markdown",
   "id": "e6bec1fa",
   "metadata": {},
   "source": [
    "Deep Learning is a subset of Machine Learning."
   ]
  },
  {
   "cell_type": "markdown",
   "id": "c69db2c2",
   "metadata": {},
   "source": [
    "Deep Learning was inspired by the structure and function of the brain, namely the interconnecting of many neurons."
   ]
  },
  {
   "cell_type": "markdown",
   "id": "dbf23708",
   "metadata": {},
   "source": [
    "However, as the field of AI has grown, and the intricacies of the human brain have been studied more, the inspiration has shifted more towards inspiration by the brain rather than duplication of it."
   ]
  },
  {
   "cell_type": "markdown",
   "id": "3b4991cf",
   "metadata": {},
   "source": []
  },
  {
   "cell_type": "markdown",
   "id": "29bc9926",
   "metadata": {},
   "source": [
    "ANNs frequently outperform other ML techniques on very large and complex problems"
   ]
  },
  {
   "cell_type": "markdown",
   "id": "3a310b90",
   "metadata": {},
   "source": []
  }
 ],
 "metadata": {
  "language_info": {
   "name": "python"
  }
 },
 "nbformat": 4,
 "nbformat_minor": 5
}
