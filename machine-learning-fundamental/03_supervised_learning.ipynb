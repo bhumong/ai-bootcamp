{
  "cells": [
    {
      "cell_type": "markdown",
      "metadata": {
        "id": "view-in-github",
        "colab_type": "text"
      },
      "source": [
        "<a href=\"https://colab.research.google.com/github/bhumong/ai-bootcamp/blob/main/machine-learning-fundamental/03_supervised_learning.ipynb\" target=\"_parent\"><img src=\"https://colab.research.google.com/assets/colab-badge.svg\" alt=\"Open In Colab\"/></a>"
      ]
    },
    {
      "cell_type": "markdown",
      "metadata": {
        "id": "gnNVkM_xm3Sb"
      },
      "source": [
        "# Supervised Learning"
      ]
    },
    {
      "cell_type": "markdown",
      "metadata": {
        "id": "H14xOpJYm3Sd"
      },
      "source": [
        "**What is Supervised Learning?**  Maybe that's one of your big questions when you get into this topic. But, before digging deeper into Supervised Learning, it's a good idea to first do a quick recap about Machine Learning and what it has to do with Supervised Learning."
      ]
    },
    {
      "cell_type": "markdown",
      "metadata": {
        "id": "IJvAWLEGm3Se"
      },
      "source": [
        "## Introduction to Machine Learning\n",
        "\n",
        "**Machine Learning** (ML) is a subset of Artificial Intelligence (AI) that allows software applications to become more accurate in predicting outcomes without being explicitly programmed. In simple terms, it provides machines the ability to automatically learn and improve from experience.\n",
        "\n",
        "It's like teaching a small child how to walk. First, the kid observes how others do it, then they try to do it themselves and keep on trying until they walk perfectly. This process involves a lot of falling and getting up. Similarly, in machine learning, models are given data, with which they make predictions. Based on the outcome of those predictions—right or wrong, the models adjust their behaviours, learning and improving over time to make accurate predictions.\n",
        "\n",
        "According to **Arthur Samuel** (American pioneer in AI and gaming), Machine Learning is a **field of study that gives computers the ability to learn without being explicitly programmed**."
      ]
    },
    {
      "cell_type": "markdown",
      "metadata": {
        "id": "tTPqCwnIm3Sf"
      },
      "source": [
        "### Definition and types of Machine Learning Algorithms\n",
        "\n",
        "![machine-learning-algorithm](https://storage.googleapis.com/rg-ai-bootcamp/machine-learning/machine-learning-algorithm-min.png)\n",
        "\n",
        "There are various machine learning algorithms:\n",
        "\n",
        "1. **Supervised Learning** - In supervised learning, we provide the machine with labelled input data and a correct output. In other words, we guide the machine towards the right output. It's kind of like a student learning under the guidance of a teacher. The 'teacher', in this case, is the label that tells the model about the data so it can learn from it. Once the model is trained with this labelled data, it can start to make predictions or decisions when new, unlabeled data is fed to it. A common example of supervised learning is classifying emails into \"spam\" or \"not spam\".\n",
        "\n",
        "2. **Unsupervised Learning** - Unlike supervised learning, we do not have the comfort of a 'teacher' or labelled data here. In unsupervised learning, we only provide input to the machine learning model but no corresponding output. That is, the model is not told the right answer. The idea is for the model to explore the data and find some structure within. A classic example of unsupervised learning is customer segmentation, where you want to group your customers into different segments based on purchasing behaviour, but you don't have any pre-existing labels.\n",
        "\n",
        "3. **Recommender Systems** - Imagine walking into a bookstore and having an expert assistant who knows your reading habits guide you to books that would perfectly suit your taste – wouldn’t it be a delight? This is what recommender systems strive to do in virtual environments. They are intelligent algorithms that create a personalized list of suggestions based on data about each user's past behaviour or user-item interactions.\n",
        "\n",
        "4. **Reinforcement Learning** - This is a bit like learning to ride a bike. You don't know how to do it at first, but with trial and error, you learn that pedalling keeps you balanced and turning the handlebars allows you to change direction. That's essentially how reinforcement learning works - the model learns by interacting with its environment and receiving rewards or penalties.\n"
      ]
    },
    {
      "cell_type": "markdown",
      "metadata": {
        "id": "wgrEakr6m3Sf"
      },
      "source": [
        "### What is Supervised Learning?\n",
        "\n",
        "Now, let's dig deeper into supervised learning, as it's the most commonly used type of machine learning.\n",
        "\n",
        "In supervised learning, we train the model using 'labeled' data. That means our data set includes both the input ($x$) data and its corresponding correct output ($y$). This pair of input-output is also known as a '**feature**' and a '**label**'. An easy way to think about this is with a recipe: the 'feature' is a list of ingredients (our input), and the 'label' is the dish that results from those ingredients (our correct output).\n",
        "\n",
        "The algorithm analyses this input-output pair, maps the function that transforms input to output, and tries to gain understanding of such relationship so that it can apply it to unlabeled, new data.\n",
        "\n",
        "There are two main types of problems that Supervised Learning tackles: Regression and Classification.\n",
        "1. **Regression**: predict a number from many possible numbers (like predicting the price of a house based on its features like size, location etc.).\n",
        "2. **Classification**: predicts only a small number of possible outputs or categories (like determining whether an email is spam or not spam, or whether a tumor is malignant or benign, or the picture is of a cat or a dog etc.)\n",
        "\n",
        "Overall, supervised learning offers an efficient way to use known data to make meaningful predictions about new, future data. By analyzing the relationships within labeled training data, supervised learning models can then apply what they've learned to unlabeled, real-world data and make informed decisions or predictions."
      ]
    },
    {
      "cell_type": "markdown",
      "metadata": {
        "id": "_eF3jIAQm3Sf"
      },
      "source": [
        "## Linear Regression\n",
        "\n",
        "Let's dive into one of the most basic and fundamental algorithms in the realm of Supervised Learning: **Linear Regression**."
      ]
    },
    {
      "cell_type": "code",
      "execution_count": null,
      "metadata": {
        "id": "2g_dTQlDm3Sg",
        "outputId": "423234dc-26b0-4052-afb6-28100c80a24a",
        "colab": {
          "base_uri": "https://localhost:8080/",
          "height": 472
        }
      },
      "outputs": [
        {
          "output_type": "display_data",
          "data": {
            "text/plain": [
              "<Figure size 640x480 with 1 Axes>"
            ],
            "image/png": "[encoded data removed]"
          },
          "metadata": {}
        }
      ],
      "source": [
        "import numpy as np\n",
        "import matplotlib.pyplot as plt\n",
        "\n",
        "x_train = np.array([6.50, 7.60, 12.00, 7.20, 9.75, 10.75, 9.00, 11.50, 8.60, 13.25])\n",
        "y_train = np.array([77.2, 99.8, 120.5, 89.5, 113.5, 124.2, 106.0, 133.0, 101.5, 148.2])\n",
        "\n",
        "# Plot the data points\n",
        "plt.scatter(x_train, y_train, marker='x', c='b')\n",
        "# Set the title\n",
        "plt.title(\"Housing Prices\")\n",
        "# Set the y-axis label\n",
        "plt.ylabel('Price (in 10.000s of dollars)')\n",
        "# Set the x-axis label\n",
        "plt.xlabel('Size (in 100s sqft)')\n",
        "plt.show()"
      ]
    },
    {
      "cell_type": "markdown",
      "metadata": {
        "id": "6bFFPHeam3Sh"
      },
      "source": [
        "### Introduction to Linear Regression\n",
        "\n",
        "Imagine you're a real estate agent, and you're helping customers sell their houses at a reasonable market price. To do this, you need a way to predict a house's market price based on its characteristics, such as the number of rooms, the year it was built, the neighborhood it's in, etc.\n",
        "\n",
        "This is where Linear Regression comes in!\n",
        "\n",
        "**Linear Regression** is like drawing a straight line through a cloud of data points. The line represents the relationship between **the independent variables** (the house characteristics, or 'features') and **the dependent variable** (the house price, or 'target variable').\n",
        "\n",
        "But you might be wondering, \"Why is it called 'Linear' Regression?\" Well, it's because this approach **assumes that the relationship between the independent and dependent variables is linear**. This simply means that if you were to plot this relationship on a graph, you could draw a straight line, or 'linear' line, to represent this relationship.\n",
        "\n",
        "In simple terms, we're trying to draw a line of best fit through our data points that minimizes the distance between the line and all the data points. Let's take a look below, this is how the linear regression process works:\n",
        "\n",
        "![linear-regression](https://storage.googleapis.com/rg-ai-bootcamp/machine-learning/linear-regression-min.png)\n",
        "\n",
        "Supervised Learning includes both the input features and also the output targets, The output targets are the right answers to the model we'll learn from. To train the model, you feed the training set, both the input features and the output targets to your learning algorithm. Then your supervised learning algorithm will produce some function ($f$). The job with $f$ is to take a new input $x$ and output and estimate or a prediction ($\\hat{y}$), In machine learning, the convention is that **$\\hat{y}$ is the estimate or the prediction for $y$**.\n",
        "\n",
        "The model for Linear Regression is a linear function of the input features. It's represented as:\n",
        "\n",
        "$$ f(x_{(i)}) = wx_{(i)} + b$$\n",
        "\n",
        "\n",
        "|General Notation | Description|\n",
        "|:------------:|:------------------------------------------------------------:|\n",
        "|  $x$ | Training Example feature values   |  \n",
        "|  $x_{(i)}$ | $i_{th}$Training Example |\n",
        "|  $\\hat{y}$  | Training Example  targets  |\n",
        "| m | Number of training examples |\n",
        "|  $w$  |  parameter: weight                                 |\n",
        "|  $b$           |  parameter: bias                                           |   \n",
        "| $f$ | The model for Linear Regression  |\n",
        "\n",
        "If you pay attention, in a linear function there are $w$ and $b$. The $w$ and $b$ are called the parameters of the model. In machine learning parameters of the model are the variables you can adjust during training in order to improve the model. Sometimes you also hear the parameters $w$ and $b$ referred to as weights and bias. Now let's take a look at what these parameters $w$ and $b$ do."
      ]
    },
    {
      "cell_type": "code",
      "execution_count": null,
      "metadata": {
        "id": "mX7QasmAm3Sh"
      },
      "outputs": [],
      "source": [
        "import numpy as np\n",
        "import matplotlib.pyplot as plt\n",
        "\n",
        "x = np.arange(0, 5)\n",
        "y = np.arange(0, 5)"
      ]
    },
    {
      "cell_type": "code",
      "source": [
        "x"
      ],
      "metadata": {
        "colab": {
          "base_uri": "https://localhost:8080/"
        },
        "id": "P2MqLRzvUgTV",
        "outputId": "22eb87ac-8234-4482-adc3-27b4f4e12b56"
      },
      "execution_count": null,
      "outputs": [
        {
          "output_type": "execute_result",
          "data": {
            "text/plain": [
              "array([0, 1, 2, 3, 4])"
            ]
          },
          "metadata": {},
          "execution_count": 3
        }
      ]
    },
    {
      "cell_type": "code",
      "source": [
        "y"
      ],
      "metadata": {
        "colab": {
          "base_uri": "https://localhost:8080/"
        },
        "id": "Kr0QS3os3QZ2",
        "outputId": "9cdd1162-4e5e-45d2-ec28-e89ca3faaf73"
      },
      "execution_count": null,
      "outputs": [
        {
          "output_type": "execute_result",
          "data": {
            "text/plain": [
              "array([0, 1, 2, 3, 4])"
            ]
          },
          "metadata": {},
          "execution_count": 4
        }
      ]
    },
    {
      "cell_type": "markdown",
      "metadata": {
        "id": "F2Ok7UDbm3Si"
      },
      "source": [
        "#### Case 1\n",
        "\n",
        "If $w$ = 0 and $b$ = 1.5, then $f$ looks like a horizontal line.\n",
        "\n",
        "In this case the function $f (x)=0 * x + 1.5 $ so $f$ is always constant. It always predicts 1.5 for the estimated $y$ value.\n",
        "\n",
        "$\\hat{y}$ is always equal to $b$ and here $b$ is also called y-intercept because it intersects the vertical axis or y-axis on this graph."
      ]
    },
    {
      "cell_type": "code",
      "execution_count": null,
      "metadata": {
        "id": "wGchmlfbm3Si",
        "outputId": "843d53fa-3fe8-468c-88fa-40114be594e5",
        "colab": {
          "base_uri": "https://localhost:8080/",
          "height": 452
        }
      },
      "outputs": [
        {
          "output_type": "display_data",
          "data": {
            "text/plain": [
              "<Figure size 640x480 with 1 Axes>"
            ],
            "image/png": "[encoded data removed]"
          },
          "metadata": {}
        }
      ],
      "source": [
        "w = 0\n",
        "b = 1.5\n",
        "# f(x) = w*x + b\n",
        "\n",
        "def compute(x, w, b):\n",
        "    return w * x + b\n",
        "\n",
        "tmp_fx = compute(x, w, b,)\n",
        "\n",
        "tmp_x = 2.5\n",
        "y = w * tmp_x + b\n",
        "\n",
        "plt.plot(x, tmp_fx, c='r')\n",
        "plt.scatter(tmp_x, y, marker='o', c='b')\n",
        "plt.xlim(0, 3)\n",
        "plt.ylim(0, 3)\n",
        "plt.title(\"w=0, b=1.5 -> y = 0x + 1.5\")\n",
        "plt.show()"
      ]
    },
    {
      "cell_type": "markdown",
      "metadata": {
        "id": "Rgl5KiGkm3Si"
      },
      "source": [
        "#### Case 2\n",
        "\n",
        "If $w$ = 0.5 and $b$ = 0, then $f(x)=0.5 * x $.\n",
        "\n",
        "If $x$ = 0 then the prediction is also 0, and if $x$ =  2 then the prediction is 0.5 * 2 which is 1.\n",
        "\n",
        "You get a line like this and notice that the slope is 0.5 / 1. The value of $w$ gives you the slope of the line , which is 0.5"
      ]
    },
    {
      "cell_type": "code",
      "execution_count": null,
      "metadata": {
        "id": "ldZ8pb_Om3Si",
        "outputId": "342ba18c-39fa-49ba-feec-4c51b916b3ac",
        "colab": {
          "base_uri": "https://localhost:8080/",
          "height": 452
        }
      },
      "outputs": [
        {
          "output_type": "display_data",
          "data": {
            "text/plain": [
              "<Figure size 640x480 with 1 Axes>"
            ],
            "image/png": "[encoded data removed]"
          },
          "metadata": {}
        }
      ],
      "source": [
        "w = 0.5\n",
        "b = 0\n",
        "\n",
        "def compute(x, w, b):\n",
        "    return w * x + b\n",
        "\n",
        "tmp_fx = compute(x, w, b,)\n",
        "\n",
        "tmp_x = 2\n",
        "y = w * tmp_x + b\n",
        "\n",
        "plt.plot(x, tmp_fx, c='r')\n",
        "plt.scatter(tmp_x, y, marker='o', c='b')\n",
        "plt.xlim(0, 3)\n",
        "plt.ylim(0, 3)\n",
        "plt.title(\"w=0.5, b=0 -> y = 0.5x + 0\")\n",
        "plt.show()"
      ]
    },
    {
      "cell_type": "markdown",
      "metadata": {
        "id": "A46HUAtDm3Sj"
      },
      "source": [
        "#### Case 3\n",
        "\n",
        "If $w$ = 0.5 and $b$ = 1,  then $f(x)=0.5 * x + 1$. and if $x$ = 0, then $f(x)= b$, which is 1. So the line intersects the vertical axis at $b$, the intersection $y$ .\n",
        "\n",
        "Also if $x$ = 2, then $f(x)= 2$, so the line looks like this.\n",
        "\n",
        "Again, this slope is 0.5 / 1 so the value of $w$ results in a slope of 0.5."
      ]
    },
    {
      "cell_type": "code",
      "execution_count": null,
      "metadata": {
        "id": "Pza0rv2-m3Sj",
        "outputId": "e486ac6d-318b-4ce2-db9c-12ba24f6e17e",
        "colab": {
          "base_uri": "https://localhost:8080/",
          "height": 452
        }
      },
      "outputs": [
        {
          "output_type": "display_data",
          "data": {
            "text/plain": [
              "<Figure size 640x480 with 1 Axes>"
            ],
            "image/png": "[encoded data removed]"
          },
          "metadata": {}
        }
      ],
      "source": [
        "w = 0.5\n",
        "b = 1\n",
        "\n",
        "def compute(x, w, b):\n",
        "    return w * x + b\n",
        "\n",
        "tmp_fx = compute(x, w, b,)\n",
        "\n",
        "tmp_x = 2\n",
        "y = w * tmp_x + b\n",
        "\n",
        "plt.plot(x, tmp_fx, c='r')\n",
        "plt.scatter(tmp_x, y, marker='o', c='b')\n",
        "plt.xlim(0, 3)\n",
        "plt.ylim(0, 3)\n",
        "plt.title(\"w=0.5, b=1 -> y = 0.5x + 1\")\n",
        "plt.show()"
      ]
    },
    {
      "cell_type": "markdown",
      "metadata": {
        "id": "lTHuLVvCm3Sj"
      },
      "source": [
        "Let's consider a simple case study by Predicting a house's price based on its size. The **train set** can be represented as follows:\n",
        "\n",
        "| House Size (100 sq.ft) ($x$) | Price (10.000s USD) ($y$) |\n",
        "|:-----------------:|:-----------------:|\n",
        "| 6.5               | 77.2              |\n",
        "| 7.6               | 99.8              |\n",
        "| 12.0              | 120.5             |\n",
        "| 7.20              | 89.5              |\n",
        "| 9.75              | 113.5             |\n",
        "| 10.75             | 124.2             |\n",
        "| 9.0               | 106.0             |\n",
        "| 11.5              | 133.0             |\n",
        "| 8.6               | 101.5             |\n",
        "| 13.25             | 148.2             |\n",
        "\n",
        "Explanation:\n",
        "\n",
        "In this example, we have house sizes as our independent variable (input) and corresponding house price as the dependent variable (output we want to predict). Assuming a linear relationship between size and price, we can use a linear regression model to predict the price based on the size."
      ]
    },
    {
      "cell_type": "code",
      "execution_count": null,
      "metadata": {
        "id": "-aMuoP-Ym3Sj",
        "outputId": "09393ad4-2a1c-47f0-ba0b-1710dc5965ca",
        "colab": {
          "base_uri": "https://localhost:8080/",
          "height": 472
        }
      },
      "outputs": [
        {
          "output_type": "display_data",
          "data": {
            "text/plain": [
              "<Figure size 640x480 with 1 Axes>"
            ],
            "image/png": "[encoded data removed]"
          },
          "metadata": {}
        }
      ],
      "source": [
        "import numpy as np\n",
        "import matplotlib.pyplot as plt\n",
        "\n",
        "x_train = np.array([6.50, 7.60, 12.00, 7.20, 9.75, 10.75, 9.00, 11.50, 8.60, 13.25])\n",
        "y_train = np.array([77.2, 99.8, 120.5, 89.5, 113.5, 124.2, 106.0, 133.0, 101.5, 148.2])\n",
        "\n",
        "# Plot the data points\n",
        "plt.scatter(x_train, y_train, marker='x', c='b')\n",
        "# Set the title\n",
        "plt.title(\"Housing Prices\")\n",
        "# Set the y-axis label\n",
        "plt.ylabel('Price (in 10.000s of dollars)')\n",
        "# Set the x-axis label\n",
        "plt.xlabel('Size (in 100s sqft)')\n",
        "plt.show()"
      ]
    },
    {
      "cell_type": "markdown",
      "metadata": {
        "id": "yQi91eVsm3Sj"
      },
      "source": [
        "Now, the question is: How to predict the price of 9.5 sqft house? We can use the Linear Regression model to predict this.\n",
        "\n",
        "With the amount of data we have, it would be difficult if we did 1 by 1 calculations manually. So, you can compute the function output in a `for` loop as shown in the `compute_output` function below."
      ]
    },
    {
      "cell_type": "code",
      "execution_count": null,
      "metadata": {
        "id": "g4nxtFZsm3Sk"
      },
      "outputs": [],
      "source": [
        "def compute_output(x, w, b):\n",
        "    \"\"\"\n",
        "    Computes the prediction of a linear model\n",
        "    Args:\n",
        "      x    : Data, m examples\n",
        "      w,b  : model parameters\n",
        "    Returns\n",
        "      f_wb : model prediction\n",
        "    \"\"\"\n",
        "    m = len(x_train)\n",
        "    f_wb = w * x + b\n",
        "\n",
        "    return f_wb"
      ]
    },
    {
      "cell_type": "code",
      "execution_count": null,
      "metadata": {
        "id": "FzqSV-uOm3Sk",
        "outputId": "9f591674-bea2-469f-baca-d8eeec0d8dda",
        "colab": {
          "base_uri": "https://localhost:8080/",
          "height": 472
        }
      },
      "outputs": [
        {
          "output_type": "display_data",
          "data": {
            "text/plain": [
              "<Figure size 640x480 with 1 Axes>"
            ],
            "image/png": "[encoded data removed]"
          },
          "metadata": {}
        }
      ],
      "source": [
        "# Please replace the values of w and b with numbers that you think are appropriate\n",
        "w = 9.8  #9.8\n",
        "b = 15 # 15\n",
        "\n",
        "tmp_f_wb = compute_output(x_train, w, b,)\n",
        "\n",
        "# predict the price of 9.5 sqft house\n",
        "tmp_x = 7.60\n",
        "y_hat = w * tmp_x + b\n",
        "\n",
        "# Plot the price of 9.5 sqft house\n",
        "plt.scatter(tmp_x, y_hat, marker='o', c='black',label='9.5 sqft house')\n",
        "plt.text(11.5, 80, f\"Price = {y_hat:.2f}\", fontsize=12)\n",
        "\n",
        "# Plot our model prediction\n",
        "plt.plot(x_train, tmp_f_wb, c='r',label='Our Prediction')\n",
        "\n",
        "# Plot the data points\n",
        "plt.scatter(x_train, y_train, marker='x', c='b',label='Actual Values')\n",
        "\n",
        "# Set the title\n",
        "plt.title(\"Housing Prices\")\n",
        "# Set the y-axis label\n",
        "plt.ylabel('Price (in 10.000s of dollars)')\n",
        "# Set the x-axis label\n",
        "plt.xlabel('Size (in 100s sqft)')\n",
        "plt.legend()\n",
        "plt.show()"
      ]
    },
    {
      "cell_type": "markdown",
      "metadata": {
        "id": "DbCQhg71m3Sk"
      },
      "source": [
        "## Loss function"
      ]
    },
    {
      "cell_type": "markdown",
      "metadata": {
        "id": "Chi4AS_em3Sk"
      },
      "source": [
        "Now, how do we know if the line is a good fit?"
      ]
    },
    {
      "cell_type": "markdown",
      "metadata": {
        "id": "eUu9Us6vm3Sk"
      },
      "source": [
        "We can calculate the error between the predicted value and the actual value.\n",
        "\n",
        "![error-loss](https://storage.googleapis.com/rg-ai-bootcamp/machine-learning/error-loss-min.png)\n",
        "\n",
        "For example, if the actual value is $y$, and the predicted value is $\\hat{y}$, then the error is $y - \\hat{y}$.\n",
        "\n",
        "We can calculate the error for each data point, and then sum them up.\n",
        "\n",
        "The error function is:\n",
        "\n",
        "$$\n",
        "E = \\sum_{i=1}^{n} (y_i - \\hat{y_i})^2\n",
        "$$\n",
        "\n",
        "where $y$ is the actual value, and $\\hat{y}$ is the predicted value.\n",
        "\n",
        "This is called the **sum of squared errors**. (SSE)"
      ]
    },
    {
      "cell_type": "code",
      "execution_count": null,
      "metadata": {
        "colab": {
          "referenced_widgets": [
            "0005836c69fc4a88971e47b9402a98f2",
            "1cf0e9a1e40a43c7bbfd2b1d89997ebd",
            "e77034b115db467f8b02f4af16b925e9",
            "e298b05ad6ea4b14b181f72b34f59f0e",
            "0bbc039d221e45169326e51a0c47819b",
            "21892183ea8148c28efce3c93d4de627",
            "5a8ff48dae0a43ed8a57ede132cbfd06",
            "0500f15aeea44d45b61064691af2ddfd",
            "098f948713714204900e529fa1e8db94",
            "1fcf5409b89f4733a3f11ebb6a7cb46e"
          ],
          "base_uri": "https://localhost:8080/",
          "height": 536
        },
        "id": "qnBLutI_m3Sk",
        "outputId": "5ec15578-6cc1-4add-e4b3-0acadf20e6ec"
      },
      "outputs": [
        {
          "output_type": "display_data",
          "data": {
            "text/plain": [
              "interactive(children=(FloatSlider(value=0.0, description='a:', max=10.0), FloatSlider(value=0.0, description='…"
            ],
            "application/vnd.jupyter.widget-view+json": {
              "version_major": 2,
              "version_minor": 0,
              "model_id": "0005836c69fc4a88971e47b9402a98f2"
            }
          },
          "metadata": {}
        }
      ],
      "source": [
        "import numpy as np\n",
        "import matplotlib.pyplot as plt\n",
        "import ipywidgets as widgets\n",
        "from IPython.display import display\n",
        "\n",
        "x_data = np.random.rand(100) * 10\n",
        "noise = np.random.normal(0, 2, x_data.shape)\n",
        "y_data = 3*x_data + 8 + noise\n",
        "\n",
        "# Define the update function\n",
        "def update(a, b):\n",
        "    y = a*x + b\n",
        "    plt.plot(x, y, color='red')\n",
        "    plt.scatter(x_data, y_data, s=1)\n",
        "    plt.xlabel('x')\n",
        "    plt.ylabel('y')\n",
        "\n",
        "    plt.title(f\"Equation y = {a}x + {b}\")\n",
        "\n",
        "    # Calculate the loss\n",
        "    loss = np.sum((y_data - y)**2)\n",
        "\n",
        "    # Draw the loss\n",
        "    plt.text(0, 20, f\"Loss = {loss:.2f}\", fontsize=12)\n",
        "\n",
        "    plt.show()\n",
        "\n",
        "# Create scattered dot around y = 3x + 8\n",
        "x = np.random.rand(100) * 10\n",
        "noise = np.random.normal(0, 2, x.shape)\n",
        "y = 3*x + 8 + noise\n",
        "\n",
        "# Define the slider widgets\n",
        "a_slider = widgets.FloatSlider(min=0, max=10, step=0.1, value=0, description='a:')\n",
        "b_slider = widgets.FloatSlider(min=0, max=10, step=0.1, value=0, description='b:')\n",
        "\n",
        "# Display the widgets and plot\n",
        "widgets.interactive(update, a=a_slider, b=b_slider)"
      ]
    },
    {
      "cell_type": "markdown",
      "metadata": {
        "id": "XTzOpyJIm3Sl"
      },
      "source": [
        "So, the goal of linear regression is to find the best a and b that minimize the loss function.\n",
        "\n",
        "In other words, we want to find the best a and b that make the red line as close as possible to the scattered dots."
      ]
    },
    {
      "cell_type": "markdown",
      "metadata": {
        "id": "TdCeuuuSm3Sl"
      },
      "source": [
        "### Other Loss Functions\n",
        "\n",
        "There are other loss functions, for example:\n",
        "\n",
        "#### Mean Square Error (MSE)\n",
        "\n",
        "$$\n",
        "E = \\frac{1}{n} \\sum_{i=1}^{n} (y_i - \\hat{y_i})^2\n",
        "$$\n",
        "\n",
        "#### Mean Absolute Error (MAE)\n",
        "\n",
        "$$\n",
        "E = \\sum_{i=1}^{n} |y_i - \\hat{y_i}|\n",
        "$$\n",
        "\n",
        "#### Root Mean Squared Error (RMSE)\n",
        "\n",
        "$$\n",
        "E = \\sqrt{\\frac{1}{n}\\sum_{i=1}^{n} (y_i - \\hat{y_i})^2}\n",
        "$$\n",
        "\n",
        "RMSE is in the same units as the target variable, which can make it more interpretable in some cases.\n"
      ]
    },
    {
      "cell_type": "markdown",
      "metadata": {
        "id": "8kAIlh2Xm3Sl"
      },
      "source": [
        "The loss function, also called the cost function, tells us how well the model performs so we can try to make it better. **The cost function itself measures the difference (error/loss rate) between the model prediction and the actual value for $y$**.\n",
        "\n",
        "Let's break down the formula for SSE to help you understand:\n",
        "\n",
        "The cost function takes the prediction y hat and compares it to the target $y$ by taking $\\hat{y}$ minus $y$\n",
        "\n",
        " $$ (f(x^{(i)}) - y^{(i)})^2 $$\n",
        "\n",
        "Then, the formula is the sum of the absolute value of the diff\n",
        "\n",
        " $$J(w,b) = \\sum\\limits_{i = 0}^{m-1} (f(x^{(i)}) - y^{(i)})^2$$\n",
        "\n",
        "But that equation is not fair because it doesn't take into account the number of examples we have. So we divide it by the number of examples, $m$.\n",
        "\n",
        "  $$J(w,b) = \\frac{1}{m} \\sum\\limits_{i = 0}^{m-1} (f(x^{(i)}) - y^{(i)})^2$$\n",
        "\n",
        "where\n",
        "  $$f(x^{(i)}) = wx^{(i)} + b$$\n",
        "  \n",
        "- $f(x^{(i)})$ is our prediction for example $i$ using parameters $w,b$.  \n",
        "- $(f(x^{(i)}) -y^{(i)})^2$ is the squared difference between the target value and the prediction.   \n",
        "- These differences are summed over all the $m$ examples and divided by `m` to produce the cost, $J(w,b)$.  \n",
        "\n",
        "Look at the code below, where it will calculate the cost by looping each example. In each loop:\n",
        "\n",
        "- $fx$, a prediction is calculated\n",
        "- the difference between the target and the prediction is calculated and squared.\n",
        "- this is added to the total cost."
      ]
    },
    {
      "cell_type": "code",
      "execution_count": null,
      "metadata": {
        "id": "t783OEzAm3Sl"
      },
      "outputs": [],
      "source": [
        "def compute_cost(x, y, w, b):\n",
        "    \"\"\"\n",
        "    Computes the cost function for linear regression.\n",
        "\n",
        "    Args:\n",
        "      x : Data, m examples\n",
        "      y : target values\n",
        "      w,b : model parameters\n",
        "\n",
        "    Returns\n",
        "        total_cost (float): The cost of using w,b as the parameters for linear regression\n",
        "               to fit the data points in x and y\n",
        "    \"\"\"\n",
        "    # number of training examples\n",
        "    m = len(x_train)\n",
        "\n",
        "    cost_sum = 0\n",
        "    for i in range(m):\n",
        "        fx = w * x[i] + b\n",
        "        cost = (fx - y[i]) ** 2\n",
        "        cost_sum = cost_sum + cost\n",
        "    total_cost = (1 / m) * cost_sum\n",
        "\n",
        "    return total_cost"
      ]
    },
    {
      "cell_type": "code",
      "execution_count": null,
      "metadata": {
        "id": "IDxrVZ0Nm3Sl",
        "colab": {
          "base_uri": "https://localhost:8080/"
        },
        "outputId": "57be389b-7423-49db-a357-8a9f3a4b4900"
      },
      "outputs": [
        {
          "output_type": "execute_result",
          "data": {
            "text/plain": [
              "31.641"
            ]
          },
          "metadata": {},
          "execution_count": 48
        }
      ],
      "source": [
        "x_train = np.array([6.50, 7.60, 12.00, 7.20, 9.75, 10.75, 9.00, 11.50, 8.60, 13.25])\n",
        "y_train = np.array([77.2, 99.8, 120.5, 89.5, 113.5, 124.2, 106.0, 133.0, 101.5, 148.2])\n",
        "w = 10\n",
        "b = 15\n",
        "\n",
        "errors = compute_cost(x_train, y_train, w, b)\n",
        "errors\n",
        "# print(f\"Number of errors: {errors}\")"
      ]
    },
    {
      "cell_type": "markdown",
      "metadata": {
        "id": "RuVF9zPvm3Sl"
      },
      "source": [
        "Based on the data owned and the value of $w$ and $b$, when viewed from the results of the `compute_cost` function, the total mistakes we got were `31.641`.\n",
        "\n",
        "Then, is the best amount? Remember that **the purpose of linear regression is to minimize total errors**.\n",
        "\n",
        "Then how do you do it? In other words we want to get the best $w$ and $b$ values that **make the lines as close as possible to the spread points**.\n",
        "\n",
        "One way is you can use the Scikit-learn library."
      ]
    },
    {
      "cell_type": "code",
      "execution_count": null,
      "metadata": {
        "id": "jyB1hIxGm3Sl",
        "colab": {
          "base_uri": "https://localhost:8080/"
        },
        "outputId": "71152bf1-6df0-408c-b88f-199f482fa492"
      },
      "outputs": [
        {
          "output_type": "stream",
          "name": "stdout",
          "text": [
            "Minimum cost: 31.590884482750955\n",
            "w: 9.976999999998904 b: 14.998999999998892\n"
          ]
        }
      ],
      "source": [
        "import numpy as np\n",
        "\n",
        "answer = ()\n",
        "minimum_cost = 10000\n",
        "\n",
        "for w in np.arange(8.0, 12.0, 0.001):\n",
        "    for b in np.arange(13.0, 15.0, 0.001):\n",
        "        cost = compute_cost(x_train, y_train, w, b)\n",
        "        if cost < minimum_cost:\n",
        "            minimum_cost = cost\n",
        "            answer = (w, b)\n",
        "\n",
        "print(f\"Minimum cost: {minimum_cost}\")\n",
        "print(f\"w: {answer[0]} b: {answer[1]}\")"
      ]
    },
    {
      "cell_type": "markdown",
      "metadata": {
        "id": "f-PURQoVm3Sm"
      },
      "source": [
        "### Scikit-learn for Linear Regression\n",
        "\n",
        "The `sklearn` (or Scikit-learn) library in Python is a powerful, open-source library that provides simple and efficient tools for data analysis and modeling, including machine learning. It has numerous features, ranging from simple regression models to complex machine learning models.\n",
        "\n",
        "For our Linear Regression model, `sklearn` provides the `LinearRegression` class within the `sklearn.linear_model` module.\n",
        "\n",
        "Here's how you can do it:"
      ]
    },
    {
      "cell_type": "code",
      "execution_count": null,
      "metadata": {
        "id": "YGEyM5B3m3Sm",
        "outputId": "b890e431-19f1-4489-ac75-e8dd53875e3e",
        "colab": {
          "base_uri": "https://localhost:8080/"
        }
      },
      "outputs": [
        {
          "output_type": "stream",
          "name": "stdout",
          "text": [
            "Coefficients: [9.09553728]\n",
            "Intercept: 23.88640910080923\n"
          ]
        }
      ],
      "source": [
        "from sklearn.linear_model import LinearRegression\n",
        "\n",
        "# Reshape the input array\n",
        "x_train = np.array([6.50, 7.60, 12.00, 7.20, 9.75, 10.75, 9.00, 11.50, 8.60, 13.25]).reshape((-1, 1))\n",
        "y_train = np.array([77.2, 99.8, 120.5, 89.5, 113.5, 124.2, 106.0, 133.0, 101.5, 148.2])\n",
        "\n",
        "model = LinearRegression()\n",
        "\n",
        "# Use this score function to in model.fit\n",
        "model.fit(x_train, y_train)\n",
        "\n",
        "# Generates and displays coefficients and intercepts\n",
        "coefficient = model.coef_ # w\n",
        "intercept = model.intercept_ # b\n",
        "print(f\"Coefficients: {coefficient}\")\n",
        "print(f\"Intercept: {intercept}\")"
      ]
    },
    {
      "cell_type": "markdown",
      "metadata": {
        "id": "J8UYVEHrm3Sm"
      },
      "source": [
        "From the results of the code above, the $w$ (coefficient) value is `9.09553728` and $b$ (intercept) is `23.886409100809274`. That way we can produce the minimum possible error/loss value. Now we look again at the data we have with the new $w$ and $b$ values and what error/loss we get."
      ]
    },
    {
      "cell_type": "code",
      "execution_count": null,
      "metadata": {
        "id": "DOtpNOQFm3Sm",
        "outputId": "bfaa5169-f8f4-4bf9-a15a-ca6028104187",
        "colab": {
          "base_uri": "https://localhost:8080/",
          "height": 472
        }
      },
      "outputs": [
        {
          "output_type": "display_data",
          "data": {
            "text/plain": [
              "<Figure size 640x480 with 1 Axes>"
            ],
            "image/png": "[encoded data removed]"
          },
          "metadata": {}
        }
      ],
      "source": [
        "x_train = np.array([6.50, 7.60, 12.00, 7.20, 9.75, 10.75, 9.00, 11.50, 8.60, 13.25])\n",
        "y_train = np.array([77.2, 99.8, 120.5, 89.5, 113.5, 124.2, 106.0, 133.0, 101.5, 148.2])\n",
        "w = coefficient[0]\n",
        "b = intercept\n",
        "\n",
        "cost = compute_cost(x_train, y_train, w, b)\n",
        "tmp_f_wb = compute_output(x_train, w, b,)\n",
        "\n",
        "# predict the price of 9.5 sqft house\n",
        "tmp_x = 9.5\n",
        "y_hat = w * tmp_x + b\n",
        "\n",
        "# Plot the price of 9.5 sqft house\n",
        "plt.scatter(tmp_x, y_hat, marker='o', c='black',label='9.5 sqft house')\n",
        "plt.text(12, 75, f\"Price = {y_hat:.2f}\", fontsize=10)\n",
        "\n",
        "# Plot our model prediction\n",
        "plt.plot(x_train, tmp_f_wb, c='r',label='Our Prediction')\n",
        "\n",
        "# Plot the data points\n",
        "plt.scatter(x_train, y_train, marker='x', c='b',label='Actual Values')\n",
        "plt.text(12, 80, f\"Cost = {cost:.2f}\", fontsize=10)\n",
        "\n",
        "# Set the title\n",
        "plt.title(\"Housing Prices\")\n",
        "# Set the y-axis label\n",
        "plt.ylabel('Price (in 10.000s of dollars)')\n",
        "# Set the x-axis label\n",
        "plt.xlabel('Size (in 100s sqft)')\n",
        "plt.legend()\n",
        "plt.show()"
      ]
    },
    {
      "cell_type": "markdown",
      "metadata": {
        "id": "agoT5FXrm3Sm"
      },
      "source": [
        "Based on the results in the graph above, we can see a decrease in the error/loss that we got, from the previous amount of `31.641` to `27.94`. In this way, the level of accuracy in predicting the price of the house we are looking for will increase."
      ]
    },
    {
      "cell_type": "markdown",
      "metadata": {
        "id": "g0wTkmQgm3Sm"
      },
      "source": [
        "You can also make predictions with this trained model. For example, if you want to predict the y value for `x = 9.5`, you can do it using the `predict()` method like this:"
      ]
    },
    {
      "cell_type": "code",
      "execution_count": null,
      "metadata": {
        "id": "vjv5LUWbm3Sm",
        "outputId": "7950075c-e965-44a3-c545-8badf64d9912",
        "colab": {
          "base_uri": "https://localhost:8080/"
        }
      },
      "outputs": [
        {
          "output_type": "stream",
          "name": "stdout",
          "text": [
            "Predicted value for x = 9.5: [110.29401321]\n"
          ]
        }
      ],
      "source": [
        "x_new = np.array([9.5]).reshape((-1, 1))\n",
        "y_pred = model.predict(x_new)\n",
        "print(f\"Predicted value for x = 9.5: {y_pred}\")"
      ]
    },
    {
      "cell_type": "markdown",
      "metadata": {
        "id": "dNcD-7Bmm3Sn"
      },
      "source": [
        "But, how does the `sklearn` library calculate the best $w$ and $b$ values? The answer is using the **Gradient Descent** algorithm, which will be discussed in the next section."
      ]
    },
    {
      "cell_type": "markdown",
      "metadata": {
        "id": "VXc1hclsm3Sr"
      },
      "source": [
        "## Linear Regression with Multiple Input Variables"
      ]
    },
    {
      "cell_type": "markdown",
      "metadata": {
        "id": "o4AoJKdem3Sr"
      },
      "source": [
        "### Multiple Features\n",
        "\n",
        "In real-world scenarios, an output variable or a result often depends on more than one factor or input variable. In machine learning, these factors are referred to as \"features\". In the previous discussion, you have one feature $x$, the size of the house and you can predict $y$, the price of the house. But now, what if you don't just use the size of the house as a feature that can be used to predict prices such as the number of bedrooms and bathrooms and the age of the house. Let's look at the example below:\n",
        "\n",
        "![multiple-feature](https://storage.googleapis.com/rg-ai-bootcamp/machine-learning/multiple-feature-min.png)\n",
        "\n",
        "| General Notation | Description |\n",
        "|:----------------:|:-----------:|\n",
        "| $x_1$            | House Size   |  \n",
        "| $x_2$            | Number of Bedrooms |\n",
        "| $x_3$            | Number of Bathrooms  |\n",
        "| $x_4$            | House Age |\n",
        "| $y$              | Price |\n",
        "| $x_{j}$             | $j$ Feature (red rectangle)|   \n",
        "| $n$              | Number of Feature  |\n",
        "| $\\vec{x}^{(i)}$  | Feature of $i^{th}$ training example, also called a row vector (yellow rectangle)  |\n",
        "| ${\\vec{x}_{j}}^{(i)}$ | Value of Feature $j$ in $i^{th}$ in the training example (blue rectangle) |\n",
        "\n",
        "If you just used the size of a house to predict its price, it would be a simple linear regression problem. In the previous discussion, this is how we defined the model, with $x$ as a single feature:\n",
        "\n",
        "$$ f(x) = wx + b$$\n",
        "\n",
        "But now with many features, we will define them differently. We still multiply $w$ with $x$, but since now we have multiples of $w.x$, we sum them up together. The model then look like this:\n",
        "\n",
        "$$ f(\\vec{x}) = w_{1}x_{1} + w_{2}x_{2} + \\dots + w_{n}x_{n} + b$$\n",
        "\n",
        "or in vector notation can be written like this:\n",
        "\n",
        "$$ f(\\vec{x}) = \\vec{w} \\cdot \\vec{x} + b$$\n",
        "\n",
        "where $\\cdot$ is a vector `dot product`\n",
        "\n",
        "| General Notation | Description |\n",
        "|:----------------:|:-----------:|\n",
        "| $\\vec{w}$        | [ $w_{1}, w_{2}, \\dots , w_{n}$ ]  |  \n",
        "| $b$              | Number of Bias Parameter |\n",
        "| $\\vec{x}$        | [ $x_{1}, x_{2}, \\dots , x_{n}$ ]  |\n",
        "\n",
        "Here, $\\vec{w}$ are parameters of the model that it learns during the training phase. The $\\vec{x}$ are the features. Using multiple features usually gives a better prediction than using just one feature, as real-world scenarios are often influenced by more than just one factor. It's worth noting, however, that adding more and more features can also lead to overfitting where the model learns the training data too well and performs poorly on unseen data.\n",
        "\n",
        ">Note: We'll learn more about `dot product` in the next material on Matrix and Vector.\n",
        "\n",
        "Let's go back to our case, where now we have multiple features to predict house prices\n",
        "\n",
        "| House Size (100 sq.ft) ($x_1$) | Bedrooms ($x_2$) | Bathrooms ($x_3$) | Age (years) ($x_4$) | Price (10.000s USD) ($y$) |\n",
        "|:------------------:|:---------:|:---------:|:---------:|:-----------------:|\n",
        "| 6.50               | 2         | 1         | 15        | 77.2              |\n",
        "| 7.60               | 3         | 2         | 5         | 99.8              |\n",
        "| 12.00              | 4         | 3         | 10        | 120.5             |\n",
        "| 7.20               | 2         | 1         | 7         | 89.5              |\n",
        "| 9.75               | 3         | 2         | 12        | 113.5             |\n",
        "| 10.75              | 3         | 2         | 3         | 124.2             |\n",
        "| 9.00               | 3         | 2         | 8         | 106.0             |\n",
        "| 11.50              | 4         | 3         | 10        | 133.0             |\n",
        "| 8.60               | 2         | 2         | 15        | 101.5             |\n",
        "| 13.25              | 4         | 3         | 1         | 148.2             |\n"
      ]
    },
    {
      "cell_type": "markdown",
      "metadata": {
        "id": "wFayxByRm3Sr"
      },
      "source": [
        "In this example, we not only have the size of the house as the independent variable, but also the number of bedrooms and bathrooms as well as the age of the house itself and don't forget the price of the house as the dependent variable.\n",
        "\n",
        "Let's take what we learn and apply it to code:\n",
        "\n",
        "<!-- Now we will create a linear regression model using these values so that we can predict other house prices. For example, a 1400 square foot house, 5 bedrooms, 2 bathroom, 30 years old. -->"
      ]
    },
    {
      "cell_type": "code",
      "execution_count": null,
      "metadata": {
        "id": "4XHwZyNam3Sr",
        "outputId": "59e67fd6-1378-4520-add6-5535b0e810a6",
        "colab": {
          "base_uri": "https://localhost:8080/"
        }
      },
      "outputs": [
        {
          "output_type": "stream",
          "name": "stdout",
          "text": [
            "X Shape: (10, 4), X Type:<class 'numpy.ndarray'>)\n",
            "[[ 6.5   2.    1.   15.  ]\n",
            " [ 7.6   3.    2.    5.  ]\n",
            " [12.    4.    3.   10.  ]\n",
            " [ 7.2   2.    1.    7.  ]\n",
            " [ 9.75  3.    2.   12.  ]\n",
            " [10.75  3.    2.    3.  ]\n",
            " [ 9.    3.    2.    8.  ]\n",
            " [11.5   4.    3.   10.  ]\n",
            " [ 8.6   2.    2.   15.  ]\n",
            " [13.25  4.    3.    1.  ]]\n",
            "y Shape: (10,), y Type:<class 'numpy.ndarray'>)\n",
            "[ 77.2  99.8 120.5  89.5 113.5 124.2 106.  133.  101.5 148.2]\n"
          ]
        }
      ],
      "source": [
        "X_train = np.array([\n",
        "    [6.50, 2, 1, 15],\n",
        "    [7.60, 3, 2, 5],\n",
        "    [12.00, 4, 3, 10],\n",
        "    [7.20, 2, 1, 7],\n",
        "    [9.75, 3, 2, 12],\n",
        "    [10.75, 3, 2, 3],\n",
        "    [9.00, 3, 2, 8],\n",
        "    [11.50, 4, 3, 10],\n",
        "    [8.60, 2, 2, 15],\n",
        "    [13.25, 4, 3, 1]\n",
        "])\n",
        "\n",
        "y_train = np.array([77.2, 99.8, 120.5, 89.5, 113.5, 124.2, 106.0, 133.0, 101.5, 148.2])\n",
        "\n",
        "print(f\"X Shape: {X_train.shape}, X Type:{type(X_train)})\")\n",
        "print(X_train)\n",
        "print(f\"y Shape: {y_train.shape}, y Type:{type(y_train)})\")\n",
        "print(y_train)"
      ]
    },
    {
      "cell_type": "markdown",
      "metadata": {
        "id": "b_nGcqi5m3Ss"
      },
      "source": [
        "For parameter vector $w$ and $b$ can be written like this:\n",
        "\n",
        "* $w$ is a vector with $n$ elements.\n",
        "  - Each element contains the parameter associated with one feature.\n",
        "  - in our dataset, n is 4.\n",
        "  - notionally, we draw this as a column vector\n",
        "  \n",
        "* $b$ is a scalar parameter."
      ]
    },
    {
      "cell_type": "code",
      "execution_count": null,
      "metadata": {
        "id": "gxKFGPLnm3Ss",
        "outputId": "7535f4a9-a2e5-488b-b76f-4068a17fe702",
        "colab": {
          "base_uri": "https://localhost:8080/"
        }
      },
      "outputs": [
        {
          "output_type": "stream",
          "name": "stdout",
          "text": [
            "w_init shape: (4,), b_init type: <class 'float'>\n"
          ]
        }
      ],
      "source": [
        "b_init = 46.68178303822603\n",
        "w_init = np.array([ 7.05979876, -4.1870478, 8.30627675, -0.94230069])\n",
        "print(f\"w_init shape: {w_init.shape}, b_init type: {type(b_init)}\")"
      ]
    },
    {
      "cell_type": "markdown",
      "metadata": {
        "id": "k7rhhHLom3Ss"
      },
      "source": [
        "Now, let's look at a basic implementation using a for loop for computing the model's prediction.\n",
        "\n",
        "$$f(\\vec{x}) = \\sum\\limits_{j = 1}^{n} w_{j}x_{j} + b$$"
      ]
    },
    {
      "cell_type": "code",
      "execution_count": null,
      "metadata": {
        "id": "F8W2jLPMm3Ss"
      },
      "outputs": [],
      "source": [
        "def predict_single_loop(x, w, b):\n",
        "    \"\"\"\n",
        "    single predict using linear regression\n",
        "\n",
        "    Args:\n",
        "      x (ndarray): Shape (n,) example with multiple features\n",
        "      w (ndarray): Shape (n,) model parameters\n",
        "      b (scalar):  model parameter\n",
        "\n",
        "    Returns:\n",
        "      f (scalar):  prediction\n",
        "    \"\"\"\n",
        "    n = len(x)\n",
        "    f = 0\n",
        "    for i in range(n):\n",
        "        f_i = x[i] * w[i]\n",
        "        f = f + f_i\n",
        "    f = f + b\n",
        "    return f"
      ]
    },
    {
      "cell_type": "code",
      "execution_count": null,
      "metadata": {
        "id": "VqvuhGjUm3Ss",
        "outputId": "efc97dc7-fdac-4c3d-a871-23a3b1ca07e7",
        "colab": {
          "base_uri": "https://localhost:8080/"
        }
      },
      "outputs": [
        {
          "output_type": "stream",
          "name": "stdout",
          "text": [
            "x_vec shape (4,), x_vec value: [ 6.5  2.   1.  15. ]\n",
            "f_wb shape (), prediction: 78.36814577822602\n"
          ]
        }
      ],
      "source": [
        "# get a row from our training data\n",
        "x_vec = X_train[0,:]\n",
        "print(f\"x_vec shape {x_vec.shape}, x_vec value: {x_vec}\")\n",
        "\n",
        "# make a prediction\n",
        "f_x = predict_single_loop(x_vec, w_init, b_init)\n",
        "print(f\"f_wb shape {f_x.shape}, prediction: {f_x}\")"
      ]
    },
    {
      "cell_type": "code",
      "execution_count": null,
      "metadata": {
        "id": "Hh0avfNLm3Ss"
      },
      "outputs": [],
      "source": [
        "def compute_cost_for_multiple_variables(X, y, w, b):\n",
        "    \"\"\"\n",
        "    Computes the cost function for linear regression.\n",
        "\n",
        "    Args:\n",
        "      X : Data, m examples\n",
        "      y : target values\n",
        "      w,b : model parameters\n",
        "\n",
        "    Returns\n",
        "        total_cost (float): The cost of using w,b as the parameters for linear regression\n",
        "               to fit the data points in X and y\n",
        "    \"\"\"\n",
        "    m = len(y)  # number of training examples\n",
        "\n",
        "    # hypothesis calculation - output prediction\n",
        "    fx = np.dot(X, w) + b\n",
        "\n",
        "    # error calculation\n",
        "    errors = fx - y\n",
        "\n",
        "    # calculate total cost\n",
        "    total_cost = (1 / m) * np.dot(errors.T, errors)\n",
        "\n",
        "    return total_cost"
      ]
    },
    {
      "cell_type": "markdown",
      "metadata": {
        "id": "8_0wWxPnm3Ss"
      },
      "source": [
        "Now, there is a very interesting trick called vectorization, which will make it easier to implement this algorithm and many other learning algorithms. And it will runs much faster too! Let's go into the next discussion to see what vectorization is."
      ]
    },
    {
      "cell_type": "markdown",
      "metadata": {
        "id": "K3XpIlmGm3St"
      },
      "source": [
        "### Vectorization\n",
        "\n",
        "Vectorization is a powerful ability within NumPy (and other similar libraries) to express operations as occurring on entire arrays, rather than their individual elements.\n",
        "\n",
        "When we loop over elements of an array and perform operations, this is called scalar computation. In Python, scalar computation is relatively slow compared to vectorized computation. This is where vectorization can be of great use in machine learning tasks which often require performing operations on large amounts of data.\n",
        "\n",
        "Now, let's look at how we can do this using vectorization.\n",
        "\n",
        "$$ f(\\vec{x}) = \\vec{w} \\cdot \\vec{x} + b$$\n",
        "\n",
        "And now you can implement it with one line of code like below using `dot()` method from NumPy:"
      ]
    },
    {
      "cell_type": "code",
      "execution_count": null,
      "metadata": {
        "id": "lZaKSIBem3St"
      },
      "outputs": [],
      "source": [
        "def predict(x, w, b):\n",
        "    \"\"\"\n",
        "    single predict using linear regression\n",
        "\n",
        "    Args:\n",
        "      x (ndarray): Shape (n,) example with multiple features\n",
        "      w (ndarray): Shape (n,) model parameters\n",
        "      b (scalar):             model parameter\n",
        "\n",
        "    Returns:\n",
        "      f (scalar):  prediction\n",
        "    \"\"\"\n",
        "    f = np.dot(x, w) + b\n",
        "    return f"
      ]
    },
    {
      "cell_type": "code",
      "execution_count": null,
      "metadata": {
        "id": "aO-D6Ry2m3St",
        "outputId": "fa35d715-30aa-49a6-e7a7-7edb389a518f",
        "colab": {
          "base_uri": "https://localhost:8080/"
        }
      },
      "outputs": [
        {
          "output_type": "stream",
          "name": "stdout",
          "text": [
            "x_vec shape (4,), x_vec value: [ 6.5  2.   1.  15. ]\n",
            "f_wb shape (), prediction: 78.36814577822602\n"
          ]
        }
      ],
      "source": [
        "# get a row from our training data\n",
        "x_vec = X_train[0,:]\n",
        "print(f\"x_vec shape {x_vec.shape}, x_vec value: {x_vec}\")\n",
        "\n",
        "# make a prediction\n",
        "f_wb = predict(x_vec,w_init, b_init)\n",
        "print(f\"f_wb shape {f_wb.shape}, prediction: {f_wb}\")"
      ]
    },
    {
      "cell_type": "markdown",
      "metadata": {
        "id": "6VnEY_2Nm3St"
      },
      "source": [
        "## How many features do we need?\n",
        "\n",
        "In the previous discussion, we have discussed how to use multiple features to predict house prices. But, how many features do we need?\n",
        "\n",
        "Should we add the following features to our model?\n",
        "- The number of floors\n",
        "- The size of the backyard\n",
        "- Is it near a school?\n",
        "- Is it near a mall?\n",
        "- Does it have a swimming pool?\n",
        "\n",
        "More features are not always better. Adding more features can lead to overfitting, where the model learns the training data too well and performs poorly on unseen data."
      ]
    },
    {
      "cell_type": "markdown",
      "metadata": {
        "id": "9SKtyi_dm3St"
      },
      "source": [
        "### Feature Engineering\n",
        "\n",
        "Feature choices can have a big impact on the performance of your learning algorithm. In fact, for many practical applications, selecting or including the right features is a critical step for an algorithm to function properly. In this topic, let's see how we can select or engineer the most suitable features for our learning algorthm.\n",
        "\n",
        "**Feature Engineering** is the process of transforming raw data into features that better represent the underlying problem to the predictive models, resulting in improved model accuracy on unseen data. In other words, you're creating new features from the existing ones, or even removing some that you deem unnecessary.\n",
        "\n",
        "Feature engineering can be considered as adding more useful information for your model to learn from. In the context of linear regression with multiple input variables, feature engineering can be crucial because the relationship between the response variable and predictors may not always be linear or may depend on multiple interacting variables.\n",
        "\n",
        "For a dataset describing different lands, let's say we have three original features -- `Width`, `Depth`, and `Price`:\n",
        "\n",
        "| LandID | Width (m) | Depth (m) | Price ($) |\n",
        "|:------:|:---------:|:---------:|:---------:|\n",
        "| 1 | 10 | 20 | 2000 |\n",
        "| 2 | 20 | 15 | 3000 |\n",
        "| 3 | 15 | 20 | 2500 |\n",
        "| 4 | 10 | 12 | 1200 |\n",
        "| 5 | 12 | 15 | 2250 |\n",
        "\n",
        "The simple Machine learning model using `Width` and `Depth` to predict `price` could look like this:\n",
        "\n",
        "$$ f(\\vec{x}) = w_{1}x_{1} + w_{2}x_{2} + b$$\n",
        "\n",
        "Now let's see how feature engineering can enhance this dataset.\n",
        "\n",
        "#### Creating new features\n",
        "\n",
        "One simple feature engineering task on this dataset could be creating a new feature representing the total `area`. While the `width` and `depth` by themselves might not be the best indicators of `price`, land `area` (calculated as `depth` x `width`) could be a stronger feature.\n",
        "\n",
        "| LandID | Width (m) | Depth (m) | Area (m²) | Price ($) |\n",
        "|:------:|:---------:|:---------:|:---------:|:---------:|\n",
        "| 1 | 10 | 20 | 200 | 2000 |\n",
        "| 2 | 20 | 15 | 300 | 3000 |\n",
        "| 3 | 15 | 20 | 300 | 2500 |\n",
        "| 4 | 10 | 12 | 120 | 1200 |\n",
        "| 5 | 12 | 15 | 180 | 2250 |\n",
        "\n",
        "In certain situations, raw features as given in the dataset might not have a clear and direct relationship with the target variable. In the example of predicting land `price`, it’s possible that neither the `depth` nor the `width` of the land independently has a strong predictable effect on the `price`.\n",
        "\n",
        "However, when you combine them into a single feature (the total area, which is `depth` multiplied by `width`), you can create a new representation of your data that might have a better correlation or association with the target variable (`price`, in this case). It's common that a property, such as area here, can have more correlation to `price` than either `width` or `depth` individually.\n",
        "\n",
        "In other words, even though the `width` and `depth` independently may not be good predictors, their product (which represents the total area) might prove to be a very good predictor. This can be understood intuitively too - larger lands (greater area) usually cost more.\n",
        "\n",
        "This process of creating new and more effective features is a key part of feature engineering. Good feature engineering can often make the difference between a weak model and a highly accurate one. It's an essential step in any machine learning project and often requires knowledge about the domain from which the data originates\n",
        "\n",
        "Now with the new feature, the Machine Learning model will look like this:\n",
        "\n",
        "$$ f(\\vec{x}) = w_{1}x_{1} + w_{2}x_{2} + w_{3}x_{3} + b$$\n",
        "\n",
        "#### Why Feature Engineering important in Linear Regression\n",
        "\n",
        "Linear regression aims to establish a linear relationship between the input variables (features) and the single output variable (target). Feature engineering aids in improving this relationship, leading to more accurate models. Good features capture important aspects of the data and provide information that helps the model make correct predictions.\n",
        "\n",
        "When it comes to linear regression, the importance of feature engineering arises from the fact that the model is quite simple. The model assumes a simple linear relationship between input and outputs. If the features can capture complex dependencies in simple forms, the model has a much easier time learning from them.\n",
        "\n",
        "It is also important to note that feature engineering often requires domain knowledge. In the land-price example, knowing that land price is often a function of total area is key to creating the \"area\" feature from the original \"width\" and \"depth\" features. As such, while Machine Learning provides many powerful tools, domain expertise is often key to applying these tools effectively.\n",
        "\n",
        "Here are some common methods used in feature engineering:\n",
        "\n",
        "1. **Feature scaling**: This includes methods such as standardization and normalization. Feature scaling is used to standardize the range of features of data. This is important because features might have different units and may vary in range. Some algorithms, like gradient descent, converge faster when features are on a similar scale.\n",
        "\n",
        "2. **Polynomial features**: This is useful when the relationship between the independent and dependent variable is not linear. Polynomial features create interactions between features and also create features to the power of the exponent. For example, if we have a feature $x$, we can create a new feature that is $x^2$ or $x^3$."
      ]
    },
    {
      "cell_type": "markdown",
      "metadata": {
        "id": "4GufBEFem3St"
      },
      "source": [
        "### Feature Scalling\n",
        "\n",
        "Feature Scalling is a **technique that will enable gradient descent (the algorithm behind `model.fit`) to run much faster**. Feature scaling is a step in data preprocessing that aims to standardize the range of features in the data. When the range of values in different features varies greatly, the ML algorithm might take longer to converge, or it may not effectively learn the correct weights for each feature.\n",
        "\n",
        "Two common types of feature scaling are:\n",
        "- **Mean Normalization**\n",
        "- **Standardization (Z-score Scaling)**\n",
        "\n",
        "> Notes: To find out what gradient descent is, it will be discussed in the next material."
      ]
    },
    {
      "cell_type": "markdown",
      "metadata": {
        "id": "2C11hbtvm3Su"
      },
      "source": [
        "#### Mean Normalization\n",
        "\n",
        "This method centers the data around 0. It scales the data between -1 and 1 by subtracting each observation by the average of observations and then dividing by the difference between the maximum and minimum value.\n",
        "\n",
        "$$x_i := \\dfrac{x_i - \\mu_i}{max - min} $$\n",
        "\n",
        "So, when do we use it? Mean Normalization is used when we want to center our variables around zero and vary between -1 and 1. Mean normalization can be useful in cases where we want to eliminate the effect of the units on an algorithm. It's particularly good when our data has outliers, as mean normalization does not bound values to a specific range.\n",
        "\n",
        "Below is a Python example to illustrate this:"
      ]
    },
    {
      "cell_type": "code",
      "execution_count": null,
      "metadata": {
        "id": "qSRwY5Uzm3Su",
        "outputId": "67c81c41-2f29-499f-f791-dd99c02d1a77",
        "colab": {
          "base_uri": "https://localhost:8080/"
        }
      },
      "outputs": [
        {
          "output_type": "stream",
          "name": "stdout",
          "text": [
            "Mean Normalized data:\n",
            "[[ 0.30679758 -0.1826284  -0.18338369 -0.17280967]\n",
            " [ 0.38987915 -0.18187311 -0.1826284  -0.18036254]\n",
            " [ 0.72220544 -0.18111782 -0.18187311 -0.1765861 ]\n",
            " [ 0.35966767 -0.1826284  -0.18338369 -0.17885196]\n",
            " [ 0.55226586 -0.18187311 -0.1826284  -0.17507553]\n",
            " [ 0.62779456 -0.18187311 -0.1826284  -0.18187311]\n",
            " [ 0.49561934 -0.18187311 -0.1826284  -0.17809668]\n",
            " [ 0.68444109 -0.18111782 -0.18187311 -0.1765861 ]\n",
            " [ 0.46540785 -0.1826284  -0.1826284  -0.17280967]\n",
            " [ 0.81661631 -0.18111782 -0.18187311 -0.18338369]]\n"
          ]
        }
      ],
      "source": [
        "import numpy as np\n",
        "\n",
        "# Here is an array with some numbers\n",
        "x = np.array([\n",
        "    [650, 2, 1, 15],\n",
        "    [760, 3, 2, 5],\n",
        "    [1200, 4, 3, 10],\n",
        "    [720, 2, 1, 7],\n",
        "    [975, 3, 2, 12],\n",
        "    [1075, 3, 2, 3],\n",
        "    [900, 3, 2, 8],\n",
        "    [1150, 4, 3, 10],\n",
        "    [860, 2, 2, 15],\n",
        "    [1325, 4, 3, 1]\n",
        "], dtype=float)\n",
        "\n",
        "# Mean normalization\n",
        "x_mean_norm = (x - np.mean(x)) / (np.max(x) - np.min(x))\n",
        "print('Mean Normalized data:')\n",
        "print(x_mean_norm)"
      ]
    },
    {
      "cell_type": "markdown",
      "metadata": {
        "id": "F8UsH0WNm3Su"
      },
      "source": [
        "#### Standardization (Z-score Scaling)\n",
        "\n",
        "This method transform the feature to have a mean of 0 and standard deviation of 1 by subtracting each value by the mean and then dividing by the standard deviation.\n",
        "\n",
        "Why do we use standardization? If a feature in our dataset has a variance that is orders of magnitude larger than others, it might dominate the objective function and make the estimator unable to learn from other features correctly, leading to sub-optimal performance. Standardization mitigates this issue.\n",
        "\n",
        "To implement z-score normalization, adjust our input values as shown in this formula:\n",
        "$$x^{(i)}_j = \\dfrac{x^{(i)}_j - \\mu_j}{\\sigma_j}$$\n",
        "where $j$ selects a feature or a column in the $\\mathbf{X}$ matrix. $µ_j$ is the mean of all the values for feature (j) and $\\sigma_j$ is the standard deviation of feature (j).\n",
        "$$\n",
        "\\begin{align}\n",
        "\\mu_j &= \\frac{1}{m} \\sum_{i=0}^{m-1} x^{(i)}_j\\\\\n",
        "\\sigma^2_j &= \\frac{1}{m} \\sum_{i=0}^{m-1} (x^{(i)}_j - \\mu_j)^2\n",
        "\\end{align}\n",
        "$$\n",
        "\n",
        "Here's an illustrative Python example using `sklearn` library's `StandardScaler`:"
      ]
    },
    {
      "cell_type": "code",
      "execution_count": null,
      "metadata": {
        "id": "eDFVBLK2m3Su",
        "outputId": "69751e52-451a-4cdd-ca16-bedaf5674a38",
        "colab": {
          "base_uri": "https://localhost:8080/"
        }
      },
      "outputs": [
        {
          "output_type": "stream",
          "name": "stdout",
          "text": [
            "Standardized data:\n",
            "[[-1.47227028 -1.29099445 -1.57142857  1.42257352]\n",
            " [-0.95236745  0.         -0.14285714 -0.8001976 ]\n",
            " [ 1.12724385  1.29099445  1.28571429  0.31118796]\n",
            " [-1.14142302 -1.29099445 -1.57142857 -0.35564338]\n",
            " [ 0.06380626  0.         -0.14285714  0.75574218]\n",
            " [ 0.53644519  0.         -0.14285714 -1.24475183]\n",
            " [-0.29067294  0.         -0.14285714 -0.13336627]\n",
            " [ 0.89092439  1.29099445  1.28571429  0.31118796]\n",
            " [-0.47972852 -1.29099445 -0.14285714  1.42257352]\n",
            " [ 1.71804252  1.29099445  1.28571429 -1.68930605]]\n"
          ]
        }
      ],
      "source": [
        "from sklearn.preprocessing import StandardScaler\n",
        "import numpy as np\n",
        "\n",
        "# Here is an array with some random numbers\n",
        "x = np.array([\n",
        "    [650, 2, 1, 15],\n",
        "    [760, 3, 2, 5],\n",
        "    [1200, 4, 3, 10],\n",
        "    [720, 2, 1, 7],\n",
        "    [975, 3, 2, 12],\n",
        "    [1075, 3, 2, 3],\n",
        "    [900, 3, 2, 8],\n",
        "    [1150, 4, 3, 10],\n",
        "    [860, 2, 2, 15],\n",
        "    [1325, 4, 3, 1]\n",
        "], dtype=float)\n",
        "\n",
        "# Standardization\n",
        "std_scaler = StandardScaler()\n",
        "x_std = std_scaler.fit_transform(x)\n",
        "\n",
        "print('Standardized data:')\n",
        "print(x_std)"
      ]
    },
    {
      "cell_type": "markdown",
      "metadata": {
        "id": "pxnYYSf5m3Su"
      },
      "source": [
        "The output dimensions of standardization do not have a particular range, which means the data can be negative, zero, or positive. This kind of scaling is less affected by outliers or extreme values as it is based on the mean and standard deviation."
      ]
    },
    {
      "cell_type": "markdown",
      "metadata": {
        "id": "BOTuTK_Rm3Su"
      },
      "source": [
        "#### Rule of Thumb Feature Scaling\n",
        "\n",
        "| Feature Range | Status |\n",
        "|:----------------------------:|:--------------------:|\n",
        "| 0 $ \\le x_1 \\le $ 3          | ok, no rescaling     |\n",
        "| -2 $ \\le x_2 \\le $ 0.5       | ok, no rescaling     |\n",
        "| -100 $ \\le x_3 \\le $ 100     | too large, rescaling |\n",
        "| -0.001 $ \\le x_4 \\le $ 0.001 | too small, rescaling |\n",
        "\n"
      ]
    },
    {
      "cell_type": "markdown",
      "metadata": {
        "id": "Blr2uN-Nm3Su"
      },
      "source": [
        "### Polynomial Regression\n",
        "\n",
        "Now, we have learned that linear regression algorithm can find a linear line that best fits the data. But, what if the data is not linear? What if the data is curved?\n",
        "\n",
        "**Polynomial Regression** is a form of regression analysis in which the relationship between the independent variable $x$ and the dependent variable $y$ is modeled as an nth degree polynomial. Polynomial regression fits a nonlinear relationship between the value of $x$ and the corresponding conditional mean of $y$.\n",
        "\n",
        "For example, a simple linear regression equation represent like this:\n",
        "$$ f(x) = wx + b$$\n",
        "\n",
        "However, in polynomial regression, you might have an equation that looks like this for a second degree (quadratic) polynomial:\n",
        "\n",
        "$$f(x)= w_0{x_0}^2 + b$$\n",
        "\n",
        "This equation is still linear in the coefficients. The linearity in polynomial regression applies to the coefficients, and not the degree of the variables.\n",
        "\n",
        "Polynomial regression can be very useful. When a linear regression model is not sufficient to capture the data relationships, it can be extended with polynomial features."
      ]
    },
    {
      "cell_type": "markdown",
      "metadata": {
        "id": "xYi6Fks2m3Sv"
      },
      "source": [
        "Let's consider a simple case study. Imagine we are running a small business selling ice cream. We notice that the sales of our ice cream seems to be heavily influenced by the temperature outside.\n",
        "\n",
        "Let's say we've collected the following data regarding outside temperature (in Celsius) and ice cream sales for a few days:\n",
        "\n",
        "| Temperature (In Celsius) ($x$) | Ice Cream Sales ($y$) |\n",
        "|:---------------:|:-------------------:|\n",
        "| 14              | 200                 |\n",
        "| 16              | 225                 |\n",
        "| 18              | 255                 |\n",
        "| 20              | 290                 |\n",
        "| 22              | 330                 |\n",
        "| 24              | 370                 |\n",
        "| 26              | 410                 |\n",
        "| 28              | 440                 |\n",
        "| 30              | 460                 |\n",
        "| 32              | 470                 |\n",
        "| 34              | 480                 |\n",
        "| 36              | 485                 |\n",
        "| 37              | 490                 |"
      ]
    },
    {
      "cell_type": "code",
      "execution_count": null,
      "metadata": {
        "id": "xbIma24lm3Sv"
      },
      "outputs": [],
      "source": [
        "import numpy as np\n",
        "\n",
        "x_train = np.array([14, 16, 18, 20, 22, 24, 26, 28, 30, 32, 34, 36, 37])\n",
        "y_train = np.array([200, 225, 255, 290, 330, 370, 410, 440, 460, 470, 480, 485, 490])"
      ]
    },
    {
      "cell_type": "markdown",
      "metadata": {
        "id": "HbwNVTgIm3Sv"
      },
      "source": [
        "We're going to visualize our data first to get a better understanding"
      ]
    },
    {
      "cell_type": "code",
      "execution_count": null,
      "metadata": {
        "id": "rrLjswtjm3Sv",
        "outputId": "3acf26bb-61b9-44c4-df3b-38c1f8946f7b",
        "colab": {
          "base_uri": "https://localhost:8080/",
          "height": 472
        }
      },
      "outputs": [
        {
          "output_type": "display_data",
          "data": {
            "text/plain": [
              "<Figure size 640x480 with 1 Axes>"
            ],
            "image/png": "[encoded data removed]"
          },
          "metadata": {}
        }
      ],
      "source": [
        "import matplotlib.pyplot as plt\n",
        "\n",
        "plt.scatter(x_train, y_train)\n",
        "plt.xlabel('Temperature in Celsius')\n",
        "plt.ylabel('Ice Cream Sales')\n",
        "plt.title('Ice Cream Sales vs Temperature')\n",
        "plt.show()"
      ]
    },
    {
      "cell_type": "markdown",
      "metadata": {
        "id": "4kI26d9Qm3Sv"
      },
      "source": [
        "Our data appears to show a non-linear trend (increases, then decreases). So, we decided to use quadratic Polynomial Regression to model this data. In this case we will use the `sklearn` library. `sklearn` itself provides the `PolynomialFeatures` class in the `sklearn.preprocessing` module.\n",
        "\n",
        "The `PolynomialFeatures` class in the `sklearn.preprocessing` module is a feature transformation tool in Scikit-learn. It generates a new matrix consisting of all polynomial combinations of the features with degree less than or equal to the specified degree.\n",
        "\n",
        "If we have one feature (`x`), `PolynomialFeatures` would transform this based on the degree parameter. For a degree of 2, it would transform it to [1, `x`, `x`^2]. For a degree of 3, it would transform it to [1, `x`, `x`^2, `x`^3] and so on. The 1 is included as it acts as the intercept term.\n",
        "\n",
        "Here's an example of how to use `PolynomialFeatures`:"
      ]
    },
    {
      "cell_type": "code",
      "execution_count": null,
      "metadata": {
        "id": "QM1a8Tt2m3Sv",
        "outputId": "ddebca04-bab8-4633-e209-b6e167ca046a",
        "colab": {
          "base_uri": "https://localhost:8080/"
        }
      },
      "outputs": [
        {
          "output_type": "stream",
          "name": "stdout",
          "text": [
            "Original Data:\n",
            "[[0 1]\n",
            " [2 3]\n",
            " [4 5]]\n",
            "Transformed Data:\n",
            "[[ 1.  0.  1.  0.  0.  1.]\n",
            " [ 1.  2.  3.  4.  6.  9.]\n",
            " [ 1.  4.  5. 16. 20. 25.]]\n"
          ]
        }
      ],
      "source": [
        "from sklearn.preprocessing import PolynomialFeatures\n",
        "import numpy as np\n",
        "\n",
        "# Given a simple 2D numpy array\n",
        "X = np.arange(6).reshape(3, 2)\n",
        "print(\"Original Data:\")\n",
        "print(X)\n",
        "\n",
        "# Create a PolynomialFeatures object and transform the data\n",
        "poly = PolynomialFeatures(2) # let's choose degree 2\n",
        "X_poly = poly.fit_transform(X)\n",
        "\n",
        "print(\"Transformed Data:\")\n",
        "print(X_poly)\n"
      ]
    },
    {
      "cell_type": "code",
      "source": [
        "# [x^0, (x1, x2), x1^2, x1*x2, x2^2 ]"
      ],
      "metadata": {
        "id": "b9-qpH_GpnUI"
      },
      "execution_count": null,
      "outputs": []
    },
    {
      "cell_type": "markdown",
      "metadata": {
        "id": "gKeVC_0Am3Sw"
      },
      "source": [
        "Now, we return to our case example."
      ]
    },
    {
      "cell_type": "code",
      "execution_count": null,
      "metadata": {
        "id": "Mrldfltxm3Sw",
        "colab": {
          "base_uri": "https://localhost:8080/",
          "height": 472
        },
        "outputId": "71da0f41-7ecc-4bd5-e88f-8b92843a3ed7"
      },
      "outputs": [
        {
          "output_type": "display_data",
          "data": {
            "text/plain": [
              "<Figure size 640x480 with 1 Axes>"
            ],
            "image/png": "[encoded data removed]"
          },
          "metadata": {}
        }
      ],
      "source": [
        "from sklearn.preprocessing import PolynomialFeatures\n",
        "from sklearn.linear_model import LinearRegression\n",
        "\n",
        "# Transform our x input to 1D array for fitting\n",
        "x_train_fit = x_train.reshape(-1, 1)\n",
        "\n",
        "# Create Polynomial Features\n",
        "poly = PolynomialFeatures(degree=[2, 6])\n",
        "x_poly = poly.fit_transform(x_train_fit)\n",
        "\n",
        "# Fit the Polynomial Features to the Linear Regression\n",
        "poly_model = LinearRegression()\n",
        "poly_model.fit(x_poly, y_train)\n",
        "\n",
        "# Generate a sequence of temperatures for prediction\n",
        "num_samples = 100\n",
        "X_seq = np.linspace(x_train_fit.min(),x_train_fit.max(),num_samples).reshape(-1,1)\n",
        "\n",
        "# Use model to predict ice cream sales\n",
        "y_poly_pred = poly_model.predict(poly.fit_transform(X_seq))\n",
        "\n",
        "# Visualize the original data and the polynomial fit\n",
        "plt.scatter(x_train, y_train)\n",
        "plt.plot(X_seq, y_poly_pred, color='r')\n",
        "plt.xlabel('Temperature in Celsius')\n",
        "plt.ylabel('Ice Cream Sales')\n",
        "plt.title('Ice Cream Sales vs Temperature')\n",
        "plt.show()"
      ]
    },
    {
      "cell_type": "markdown",
      "metadata": {
        "id": "m0ghxA5Rm3Sw"
      },
      "source": [
        "Now we have a model that not only fits our training data but can predict the ice cream sales at any given temperature, which will help in managing our ice cream supply based on predicted sales."
      ]
    },
    {
      "cell_type": "code",
      "source": [
        "x_poly"
      ],
      "metadata": {
        "id": "LVeZbg9oeyrE",
        "outputId": "c78bbad5-cd7b-4d5a-9024-554d394c3c7c",
        "colab": {
          "base_uri": "https://localhost:8080/"
        }
      },
      "execution_count": null,
      "outputs": [
        {
          "output_type": "execute_result",
          "data": {
            "text/plain": [
              "array([[1.00000000e+00, 1.96000000e+02, 2.74400000e+03, 3.84160000e+04,\n",
              "        5.37824000e+05, 7.52953600e+06],\n",
              "       [1.00000000e+00, 2.56000000e+02, 4.09600000e+03, 6.55360000e+04,\n",
              "        1.04857600e+06, 1.67772160e+07],\n",
              "       [1.00000000e+00, 3.24000000e+02, 5.83200000e+03, 1.04976000e+05,\n",
              "        1.88956800e+06, 3.40122240e+07],\n",
              "       [1.00000000e+00, 4.00000000e+02, 8.00000000e+03, 1.60000000e+05,\n",
              "        3.20000000e+06, 6.40000000e+07],\n",
              "       [1.00000000e+00, 4.84000000e+02, 1.06480000e+04, 2.34256000e+05,\n",
              "        5.15363200e+06, 1.13379904e+08],\n",
              "       [1.00000000e+00, 5.76000000e+02, 1.38240000e+04, 3.31776000e+05,\n",
              "        7.96262400e+06, 1.91102976e+08],\n",
              "       [1.00000000e+00, 6.76000000e+02, 1.75760000e+04, 4.56976000e+05,\n",
              "        1.18813760e+07, 3.08915776e+08],\n",
              "       [1.00000000e+00, 7.84000000e+02, 2.19520000e+04, 6.14656000e+05,\n",
              "        1.72103680e+07, 4.81890304e+08],\n",
              "       [1.00000000e+00, 9.00000000e+02, 2.70000000e+04, 8.10000000e+05,\n",
              "        2.43000000e+07, 7.29000000e+08],\n",
              "       [1.00000000e+00, 1.02400000e+03, 3.27680000e+04, 1.04857600e+06,\n",
              "        3.35544320e+07, 1.07374182e+09],\n",
              "       [1.00000000e+00, 1.15600000e+03, 3.93040000e+04, 1.33633600e+06,\n",
              "        4.54354240e+07, 1.54480442e+09],\n",
              "       [1.00000000e+00, 1.29600000e+03, 4.66560000e+04, 1.67961600e+06,\n",
              "        6.04661760e+07, 2.17678234e+09],\n",
              "       [1.00000000e+00, 1.36900000e+03, 5.06530000e+04, 1.87416100e+06,\n",
              "        6.93439570e+07, 2.56572641e+09]])"
            ]
          },
          "metadata": {},
          "execution_count": 36
        }
      ]
    }
  ],
  "metadata": {
    "kernelspec": {
      "display_name": "Python 3 (ipykernel)",
      "language": "python",
      "name": "python3"
    },
    "language_info": {
      "codemirror_mode": {
        "name": "ipython",
        "version": 3
      },
      "file_extension": ".py",
      "mimetype": "text/x-python",
      "name": "python",
      "nbconvert_exporter": "python",
      "pygments_lexer": "ipython3",
      "version": "3.11.3"
    },
    "colab": {
      "provenance": [],
      "include_colab_link": true
    },
    "widgets": {
      "application/vnd.jupyter.widget-state+json": {
        "0005836c69fc4a88971e47b9402a98f2": {
          "model_module": "@jupyter-widgets/controls",
          "model_name": "VBoxModel",
          "model_module_version": "1.5.0",
          "state": {
            "_dom_classes": [
              "widget-interact"
            ],
            "_model_module": "@jupyter-widgets/controls",
            "_model_module_version": "1.5.0",
            "_model_name": "VBoxModel",
            "_view_count": null,
            "_view_module": "@jupyter-widgets/controls",
            "_view_module_version": "1.5.0",
            "_view_name": "VBoxView",
            "box_style": "",
            "children": [
              "IPY_MODEL_1cf0e9a1e40a43c7bbfd2b1d89997ebd",
              "IPY_MODEL_e77034b115db467f8b02f4af16b925e9",
              "IPY_MODEL_e298b05ad6ea4b14b181f72b34f59f0e"
            ],
            "layout": "IPY_MODEL_0bbc039d221e45169326e51a0c47819b"
          }
        },
        "1cf0e9a1e40a43c7bbfd2b1d89997ebd": {
          "model_module": "@jupyter-widgets/controls",
          "model_name": "FloatSliderModel",
          "model_module_version": "1.5.0",
          "state": {
            "_dom_classes": [],
            "_model_module": "@jupyter-widgets/controls",
            "_model_module_version": "1.5.0",
            "_model_name": "FloatSliderModel",
            "_view_count": null,
            "_view_module": "@jupyter-widgets/controls",
            "_view_module_version": "1.5.0",
            "_view_name": "FloatSliderView",
            "continuous_update": true,
            "description": "a:",
            "description_tooltip": null,
            "disabled": false,
            "layout": "IPY_MODEL_21892183ea8148c28efce3c93d4de627",
            "max": 10,
            "min": 0,
            "orientation": "horizontal",
            "readout": true,
            "readout_format": ".2f",
            "step": 0.1,
            "style": "IPY_MODEL_5a8ff48dae0a43ed8a57ede132cbfd06",
            "value": 3.3
          }
        },
        "e77034b115db467f8b02f4af16b925e9": {
          "model_module": "@jupyter-widgets/controls",
          "model_name": "FloatSliderModel",
          "model_module_version": "1.5.0",
          "state": {
            "_dom_classes": [],
            "_model_module": "@jupyter-widgets/controls",
            "_model_module_version": "1.5.0",
            "_model_name": "FloatSliderModel",
            "_view_count": null,
            "_view_module": "@jupyter-widgets/controls",
            "_view_module_version": "1.5.0",
            "_view_name": "FloatSliderView",
            "continuous_update": true,
            "description": "b:",
            "description_tooltip": null,
            "disabled": false,
            "layout": "IPY_MODEL_0500f15aeea44d45b61064691af2ddfd",
            "max": 10,
            "min": 0,
            "orientation": "horizontal",
            "readout": true,
            "readout_format": ".2f",
            "step": 0.1,
            "style": "IPY_MODEL_098f948713714204900e529fa1e8db94",
            "value": 5.1
          }
        },
        "e298b05ad6ea4b14b181f72b34f59f0e": {
          "model_module": "@jupyter-widgets/output",
          "model_name": "OutputModel",
          "model_module_version": "1.0.0",
          "state": {
            "_dom_classes": [],
            "_model_module": "@jupyter-widgets/output",
            "_model_module_version": "1.0.0",
            "_model_name": "OutputModel",
            "_view_count": null,
            "_view_module": "@jupyter-widgets/output",
            "_view_module_version": "1.0.0",
            "_view_name": "OutputView",
            "layout": "IPY_MODEL_1fcf5409b89f4733a3f11ebb6a7cb46e",
            "msg_id": "",
            "outputs": [
              {
                "output_type": "display_data",
                "data": {
                  "text/plain": "<Figure size 640x480 with 1 Axes>",
                  "image/png": "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\n"
                },
                "metadata": {}
              }
            ]
          }
        },
        "0bbc039d221e45169326e51a0c47819b": {
          "model_module": "@jupyter-widgets/base",
          "model_name": "LayoutModel",
          "model_module_version": "1.2.0",
          "state": {
            "_model_module": "@jupyter-widgets/base",
            "_model_module_version": "1.2.0",
            "_model_name": "LayoutModel",
            "_view_count": null,
            "_view_module": "@jupyter-widgets/base",
            "_view_module_version": "1.2.0",
            "_view_name": "LayoutView",
            "align_content": null,
            "align_items": null,
            "align_self": null,
            "border": null,
            "bottom": null,
            "display": null,
            "flex": null,
            "flex_flow": null,
            "grid_area": null,
            "grid_auto_columns": null,
            "grid_auto_flow": null,
            "grid_auto_rows": null,
            "grid_column": null,
            "grid_gap": null,
            "grid_row": null,
            "grid_template_areas": null,
            "grid_template_columns": null,
            "grid_template_rows": null,
            "height": null,
            "justify_content": null,
            "justify_items": null,
            "left": null,
            "margin": null,
            "max_height": null,
            "max_width": null,
            "min_height": null,
            "min_width": null,
            "object_fit": null,
            "object_position": null,
            "order": null,
            "overflow": null,
            "overflow_x": null,
            "overflow_y": null,
            "padding": null,
            "right": null,
            "top": null,
            "visibility": null,
            "width": null
          }
        },
        "21892183ea8148c28efce3c93d4de627": {
          "model_module": "@jupyter-widgets/base",
          "model_name": "LayoutModel",
          "model_module_version": "1.2.0",
          "state": {
            "_model_module": "@jupyter-widgets/base",
            "_model_module_version": "1.2.0",
            "_model_name": "LayoutModel",
            "_view_count": null,
            "_view_module": "@jupyter-widgets/base",
            "_view_module_version": "1.2.0",
            "_view_name": "LayoutView",
            "align_content": null,
            "align_items": null,
            "align_self": null,
            "border": null,
            "bottom": null,
            "display": null,
            "flex": null,
            "flex_flow": null,
            "grid_area": null,
            "grid_auto_columns": null,
            "grid_auto_flow": null,
            "grid_auto_rows": null,
            "grid_column": null,
            "grid_gap": null,
            "grid_row": null,
            "grid_template_areas": null,
            "grid_template_columns": null,
            "grid_template_rows": null,
            "height": null,
            "justify_content": null,
            "justify_items": null,
            "left": null,
            "margin": null,
            "max_height": null,
            "max_width": null,
            "min_height": null,
            "min_width": null,
            "object_fit": null,
            "object_position": null,
            "order": null,
            "overflow": null,
            "overflow_x": null,
            "overflow_y": null,
            "padding": null,
            "right": null,
            "top": null,
            "visibility": null,
            "width": null
          }
        },
        "5a8ff48dae0a43ed8a57ede132cbfd06": {
          "model_module": "@jupyter-widgets/controls",
          "model_name": "SliderStyleModel",
          "model_module_version": "1.5.0",
          "state": {
            "_model_module": "@jupyter-widgets/controls",
            "_model_module_version": "1.5.0",
            "_model_name": "SliderStyleModel",
            "_view_count": null,
            "_view_module": "@jupyter-widgets/base",
            "_view_module_version": "1.2.0",
            "_view_name": "StyleView",
            "description_width": "",
            "handle_color": null
          }
        },
        "0500f15aeea44d45b61064691af2ddfd": {
          "model_module": "@jupyter-widgets/base",
          "model_name": "LayoutModel",
          "model_module_version": "1.2.0",
          "state": {
            "_model_module": "@jupyter-widgets/base",
            "_model_module_version": "1.2.0",
            "_model_name": "LayoutModel",
            "_view_count": null,
            "_view_module": "@jupyter-widgets/base",
            "_view_module_version": "1.2.0",
            "_view_name": "LayoutView",
            "align_content": null,
            "align_items": null,
            "align_self": null,
            "border": null,
            "bottom": null,
            "display": null,
            "flex": null,
            "flex_flow": null,
            "grid_area": null,
            "grid_auto_columns": null,
            "grid_auto_flow": null,
            "grid_auto_rows": null,
            "grid_column": null,
            "grid_gap": null,
            "grid_row": null,
            "grid_template_areas": null,
            "grid_template_columns": null,
            "grid_template_rows": null,
            "height": null,
            "justify_content": null,
            "justify_items": null,
            "left": null,
            "margin": null,
            "max_height": null,
            "max_width": null,
            "min_height": null,
            "min_width": null,
            "object_fit": null,
            "object_position": null,
            "order": null,
            "overflow": null,
            "overflow_x": null,
            "overflow_y": null,
            "padding": null,
            "right": null,
            "top": null,
            "visibility": null,
            "width": null
          }
        },
        "098f948713714204900e529fa1e8db94": {
          "model_module": "@jupyter-widgets/controls",
          "model_name": "SliderStyleModel",
          "model_module_version": "1.5.0",
          "state": {
            "_model_module": "@jupyter-widgets/controls",
            "_model_module_version": "1.5.0",
            "_model_name": "SliderStyleModel",
            "_view_count": null,
            "_view_module": "@jupyter-widgets/base",
            "_view_module_version": "1.2.0",
            "_view_name": "StyleView",
            "description_width": "",
            "handle_color": null
          }
        },
        "1fcf5409b89f4733a3f11ebb6a7cb46e": {
          "model_module": "@jupyter-widgets/base",
          "model_name": "LayoutModel",
          "model_module_version": "1.2.0",
          "state": {
            "_model_module": "@jupyter-widgets/base",
            "_model_module_version": "1.2.0",
            "_model_name": "LayoutModel",
            "_view_count": null,
            "_view_module": "@jupyter-widgets/base",
            "_view_module_version": "1.2.0",
            "_view_name": "LayoutView",
            "align_content": null,
            "align_items": null,
            "align_self": null,
            "border": null,
            "bottom": null,
            "display": null,
            "flex": null,
            "flex_flow": null,
            "grid_area": null,
            "grid_auto_columns": null,
            "grid_auto_flow": null,
            "grid_auto_rows": null,
            "grid_column": null,
            "grid_gap": null,
            "grid_row": null,
            "grid_template_areas": null,
            "grid_template_columns": null,
            "grid_template_rows": null,
            "height": null,
            "justify_content": null,
            "justify_items": null,
            "left": null,
            "margin": null,
            "max_height": null,
            "max_width": null,
            "min_height": null,
            "min_width": null,
            "object_fit": null,
            "object_position": null,
            "order": null,
            "overflow": null,
            "overflow_x": null,
            "overflow_y": null,
            "padding": null,
            "right": null,
            "top": null,
            "visibility": null,
            "width": null
          }
        }
      }
    }
  },
  "nbformat": 4,
  "nbformat_minor": 0
}