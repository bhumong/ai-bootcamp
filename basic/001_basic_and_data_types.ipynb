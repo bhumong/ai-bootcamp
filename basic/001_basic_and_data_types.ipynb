{
  "cells": [
    {
      "cell_type": "markdown",
      "metadata": {
        "id": "view-in-github",
        "colab_type": "text"
      },
      "source": [
        "<a href=\"https://colab.research.google.com/github/bhumong/ai-bootcamp/blob/main/basic/001_basic_and_data_types.ipynb\" target=\"_parent\"><img src=\"https://colab.research.google.com/assets/colab-badge.svg\" alt=\"Open In Colab\"/></a>"
      ]
    },
    {
      "cell_type": "markdown",
      "metadata": {
        "id": "OAH41rSlXsN_"
      },
      "source": [
        "# Objective:\n",
        "\n",
        "Can understanding that programming is basically manipulating data to fit into a specific requirement."
      ]
    },
    {
      "cell_type": "markdown",
      "metadata": {
        "id": "9alwCdE_XsOB"
      },
      "source": [
        "# What is programming?\n",
        "\n",
        "![image.png](https://storage.googleapis.com/rg-ai-bootcamp/python-prep/programming-main-focus-min.png)\n",
        "\n",
        "The real foundation of programming, the essence of it is to manipulate data to adhere to what we need to do next.\n",
        "\n",
        "This \"what we need to do next\" itself is depends on what kind of programming we currently doing. For example, if we're doing a web programming, the \"thing we need to do next after manipulating data\" might be to render a web page, saving user data to database, or sending an email. If we're doing a game programming, what we need to do might be to render a game screen, playing a sound, or saving the game state.\n",
        "\n",
        "Let's check below simple program:"
      ]
    },
    {
      "cell_type": "code",
      "execution_count": null,
      "metadata": {
        "id": "s-jxwu2uXsOC"
      },
      "outputs": [],
      "source": [
        "#@title Preparation so we can do get_emotion(data), you can just run and ignore this line of code for now\n",
        "%pip install transformers\n",
        "%pip install torch\n",
        "from transformers import pipeline\n",
        "\n",
        "classifier = pipeline(task=\"text-classification\", model=\"SamLowe/roberta-base-go_emotions\", top_k=None)\n",
        "\n",
        "def get_emotion(text):\n",
        "    model_outputs = classifier(text)\n",
        "    return highest_confidence_label(model_outputs[0])\n",
        "\n",
        "def highest_confidence_label(data):\n",
        "    highest_score = max(data, key=lambda x:x['score'])\n",
        "    confidence = round(highest_score['score'] * 100, 2)\n",
        "    return f\"{highest_score['label']}, {confidence}% confidence\""
      ]
    },
    {
      "cell_type": "code",
      "execution_count": null,
      "metadata": {
        "id": "a0uAlFaiXsOD"
      },
      "outputs": [],
      "source": [
        "get_emotion(\"I'm so excited to meet you guys there!\")"
      ]
    },
    {
      "cell_type": "markdown",
      "metadata": {
        "id": "TDYTG6FUXsOD"
      },
      "source": [
        "In above line of code we can see that:\n",
        "\n",
        "- We have a data that we want to process: \"I'm so excited to meet you guys there!\"\n",
        "- We have a requirement that we want to do: Get the emotion probability of the data using get_emotion(\"we put our data here\")\n",
        "- And it return a response of the confidence of the emotion probability: excitement, 81.15% confidence\n",
        "\n",
        "So we have an input, we process it, and we get an output, we can use that output as an input again, and so on. That's the essence of programming.\n",
        "\n",
        "> Please have fun: While you're at it, have fun change the data above (change inside the `\"` symbol) to feed it with your own data, and see what kind of emotion probability that you get. Try to change it something like \"Why are you running late?\", \"Stuck in traffic, ugh!\", \"I'm not feeling well today, sorry guys\""
      ]
    },
    {
      "cell_type": "markdown",
      "metadata": {
        "id": "5fztLLKaXsOD"
      },
      "source": [
        "# Challenge\n",
        "\n",
        "## Challenge 1\n",
        "\n",
        "For the first challenge we'll start with a really simple task:\n",
        "\n",
        "Change the `get_emotion(\"I'm so excited to meet you guys there!\")` to \"I'm really stressed out for this meeting, I hope it goes well\" and send the result of the probability."
      ]
    },
    {
      "cell_type": "code",
      "execution_count": null,
      "metadata": {
        "id": "DAVUbn3WXsOD"
      },
      "outputs": [],
      "source": [
        "get_emotion(\"I'm so excited to meet you guys there!\") #Change the text inside get_emotion()"
      ]
    },
    {
      "cell_type": "markdown",
      "metadata": {
        "id": "cFqepQcpXsOE"
      },
      "source": [
        "To send the result:\n",
        "1. Input your student_id and name in the box below\n",
        "2. Change the text \"my result\" below with the text output from get_emotion() above. example: \"excitement, 81.15% confidence\"\n",
        "3. Run the code block by pressing the play button."
      ]
    },
    {
      "cell_type": "code",
      "execution_count": null,
      "metadata": {
        "id": "GAT78UU0XsOE"
      },
      "outputs": [],
      "source": [
        "!pip install rggrader\n",
        "\n",
        "from rggrader import submit\n",
        "\n",
        "# @title #### Student Identity\n",
        "student_id = \"your student id\" # @param {type:\"string\"}\n",
        "name = \"your name\" # @param {type:\"string\"}\n",
        "\n",
        "result = \"my result\"\n",
        "\n",
        "# Submit Method\n",
        "assignment_id = \"001_the-basics\"\n",
        "question_id = \"01_get_emotion\"\n",
        "submit(student_id, name, assignment_id, result, question_id)"
      ]
    },
    {
      "cell_type": "markdown",
      "metadata": {
        "id": "zsQb9SHtXsOE"
      },
      "source": [
        "# Uh oh, the input changed!\n",
        "\n",
        "As we said above, one of the most fundamental thing for us to understand programming is to manipulate data. For above code, we have a convenient text that we can just pass to `get_emotion`, but what if the data isn't that convenient? Such as we have two inputs like so:\n",
        "\n",
        "```\n",
        "\"I'm so {emotion} to meet you guys there!\"\n",
        "\"excited\"\n",
        "```\n",
        "\n",
        "We have two separate inputs, and, to make sure that we can process that input to `get_emotion`, we need to make sure that input is compatible with `get_emotion` requirement. Which can be done like so:"
      ]
    },
    {
      "cell_type": "code",
      "execution_count": null,
      "metadata": {
        "id": "ig7Ld3qcXsOE"
      },
      "outputs": [],
      "source": [
        "get_emotion(\"I'm so {emotion} to meet you guys there!\".replace(\"{emotion}\", \"excited\"))"
      ]
    },
    {
      "cell_type": "markdown",
      "metadata": {
        "id": "m51bJtSpXsOF"
      },
      "source": [
        "So now we're talking! If we see above, we'll see additional code after our \"I'm so {emotion} to meet you guys there!\" data, which is `.replace(\"{emotion}\", \"excited\")`.\n",
        "\n",
        "We'll learn about how that works later, but for now, let's just say that we're replacing the `{emotion}` part of the data with the \"excited\" data, as the `get_emotion` function requires to have only a single text data as an input."
      ]
    },
    {
      "cell_type": "markdown",
      "metadata": {
        "id": "_BqBx-qzXsOF"
      },
      "source": [
        "# Conclusion\n",
        "\n",
        "As we said above, the complexity on programming mostly rely only on making sure that your data is ready to be inputted to our given task. When we want to save our data to database, we want to manipulate our data so it can be saved properly. If we want to render a web page, we want to manipulate our data so it can be rendered properly. And so on.\n",
        "\n",
        "It's simple right?"
      ]
    },
    {
      "cell_type": "markdown",
      "metadata": {
        "id": "mIeI1XngXsOF"
      },
      "source": [
        "# Terminology alert!\n",
        "\n",
        "Let's return to our first line of code:\n",
        "    \n",
        "```\n",
        "get_emotion(\"I'm so excited to meet you guys there!\")\n",
        "```\n",
        "\n",
        "- `get_emotion` is a function\n",
        "- `\"I'm so excited to meet you guys there!\"` is a data with a data type of string\n",
        "\n",
        "We'll learn more about function and data type later, and other terminology that's related to function and data type, but for now just remember above terminology."
      ]
    },
    {
      "cell_type": "markdown",
      "metadata": {
        "id": "5YZJxv4fxEDX"
      },
      "source": [
        "# Data Types and comments"
      ]
    },
    {
      "cell_type": "markdown",
      "metadata": {
        "id": "pUlf3GY6xEDu"
      },
      "source": [
        "We've already learned this before:\n",
        "\n",
        "- `\"I'm so excited to meet you guys there!\"` is a data with a data type of string\n",
        "\n",
        "There are several data types in Python, we'll explore three of them for now: `string`, `float` and `int`."
      ]
    },
    {
      "cell_type": "markdown",
      "metadata": {
        "id": "LUA1cseYxEDw"
      },
      "source": [
        "# Google Colab, Jupyter Notebook, and Visual Studio Code will \"print\" the last line of code automatically\n",
        "\n",
        "Before we continue, please check below code"
      ]
    },
    {
      "cell_type": "code",
      "execution_count": null,
      "metadata": {
        "id": "QcAgXYzjxEDx",
        "outputId": "1dfcf327-c035-45bb-afe2-bca384f14f4c"
      },
      "outputs": [
        {
          "data": {
            "text/plain": [
              "'Hello!'"
            ]
          },
          "execution_count": 1,
          "metadata": {},
          "output_type": "execute_result"
        }
      ],
      "source": [
        "\"Hi everyone\"\n",
        "\"Hello!\""
      ]
    },
    {
      "cell_type": "markdown",
      "metadata": {
        "id": "6BjHGd6NxED5"
      },
      "source": [
        "As you can see above, our result to above two lines of code will only show the result of the last line of code. This concept is called printing, we can print any code in any line by using `print()` like below:"
      ]
    },
    {
      "cell_type": "code",
      "execution_count": null,
      "metadata": {
        "id": "ZxV25pW0xEEA",
        "outputId": "3df3473c-168f-45a1-cd3d-ad8282053422"
      },
      "outputs": [
        {
          "name": "stdout",
          "output_type": "stream",
          "text": [
            "Hello!\n"
          ]
        },
        {
          "data": {
            "text/plain": [
              "'Hi!'"
            ]
          },
          "execution_count": 3,
          "metadata": {},
          "output_type": "execute_result"
        }
      ],
      "source": [
        "\"Yes!\"\n",
        "print(\"Hello!\")\n",
        "\"Hi!\""
      ]
    },
    {
      "cell_type": "markdown",
      "metadata": {
        "id": "01v9jFsdxEEB"
      },
      "source": [
        "As you can see above we have 3 lines of code, but we only print the second and third line of code. The second line of code is printed because we use `print()`, while the third line of code is printed because it is the last line of code."
      ]
    },
    {
      "cell_type": "markdown",
      "metadata": {
        "id": "vye1RS7yXsOH"
      },
      "source": [
        "# Challenge!\n",
        "\n",
        "## Challenge 1\n",
        "\n",
        "Make sure both of the string below are printed"
      ]
    },
    {
      "cell_type": "code",
      "execution_count": null,
      "metadata": {
        "id": "UouChLmMXsOH"
      },
      "outputs": [],
      "source": [
        "\"Halo dunia\"\n",
        "\"Hi world\""
      ]
    },
    {
      "cell_type": "markdown",
      "metadata": {
        "id": "7R2ndrBzXsOH"
      },
      "source": [
        "When you are done with the above challenge, then:\n",
        "1. Input your student_id and name in the box below\n",
        "2. Change the text \"my result\" below with the text \"done\"\n",
        "3. Run the code block by pressing the play button."
      ]
    },
    {
      "cell_type": "code",
      "execution_count": null,
      "metadata": {
        "id": "nVU_5p3_XsOH"
      },
      "outputs": [],
      "source": [
        "!pip install rggrader\n",
        "\n",
        "from rggrader import submit\n",
        "\n",
        "# @title #### Student Identity\n",
        "student_id = \"your student id\" # @param {type:\"string\"}\n",
        "name = \"your name\" # @param {type:\"string\"}\n",
        "\n",
        "result = \"my result\"\n",
        "\n",
        "# Submit Method\n",
        "assignment_id = \"002_data_types\"\n",
        "question_id = \"01_using_print\"\n",
        "submit(student_id, name, assignment_id, result, question_id)"
      ]
    },
    {
      "cell_type": "markdown",
      "metadata": {
        "id": "aP64qYkVxEEC"
      },
      "source": [
        "# String\n",
        "\n",
        "A string is a data type that is used to represent text. It is enclosed by either single or double quotes.\n",
        "\n",
        "```python\n",
        "'Thank you for coming to my TED talk'\n",
        "\n",
        "\"I'm so excited to meet you guys there!\"\n",
        "```\n",
        "\n",
        "A string can be manipulated like what we've already seen in previous learning\n",
        "\n",
        "```python\n",
        "\"I'm so {emotion} to meet you guys there!\".replace(\"{emotion}\", \"excited\")\n",
        "```\n",
        "\n",
        "We see above our more complex string from previous learning: `\"I'm so excited to meet you guys there!\"`, then we replace the `{emotion}` with `\"excited\"`."
      ]
    },
    {
      "cell_type": "markdown",
      "metadata": {
        "id": "-Z2VvtdBxEEI"
      },
      "source": [
        "# Arguments\n",
        "\n",
        "We'll learn more about method and a concept that's basically similar to method called function later, but for now, let's give a quick brief about methods and arguments.\n",
        "\n",
        "If we see the code below:\n",
        "\n",
        "```python\n",
        "\"I'm so {emotion} to meet you guys there!\".replace(\"{emotion}\", \"excited\")\n",
        "```\n",
        "\n",
        "What's called method is the `.replace()` part, while the `{emotion}` and `\"excited\"` are called arguments.\n",
        "\n",
        "The number of arguments itself can be varied between method, sometimes a method can have no argument, sometimes it can have one, two, or even more arguments."
      ]
    },
    {
      "cell_type": "markdown",
      "metadata": {
        "id": "dnwP-gA1xEEK"
      },
      "source": [
        "# String methods"
      ]
    },
    {
      "cell_type": "markdown",
      "metadata": {
        "id": "VmLy1A8NxEEK"
      },
      "source": [
        "## `.lower()`\n",
        "\n",
        "This method will convert all characters in a string into lowercase"
      ]
    },
    {
      "cell_type": "code",
      "execution_count": null,
      "metadata": {
        "id": "y3cfvwXCxEEM"
      },
      "outputs": [],
      "source": [
        "\"I'M NOT SHOUTING\".lower()"
      ]
    },
    {
      "cell_type": "markdown",
      "metadata": {
        "id": "3FeP60d1xEER"
      },
      "source": [
        "## `.strip()`\n",
        "\n",
        "This method will remove all leading and trailing whitespaces from a string"
      ]
    },
    {
      "cell_type": "code",
      "execution_count": null,
      "metadata": {
        "id": "qIjSknRUxEER",
        "outputId": "0b8261b7-131d-44fc-a61a-9ab2ae40a832"
      },
      "outputs": [
        {
          "data": {
            "text/plain": [
              "'Hello'"
            ]
          },
          "execution_count": 1,
          "metadata": {},
          "output_type": "execute_result"
        }
      ],
      "source": [
        "\"   Hello   \".strip()"
      ]
    },
    {
      "cell_type": "markdown",
      "metadata": {
        "id": "1Rjj2VFgxEES"
      },
      "source": [
        "## `.replace()`\n",
        "\n",
        "This method will replace all occurrences of a string with another string"
      ]
    },
    {
      "cell_type": "code",
      "execution_count": null,
      "metadata": {
        "id": "Gke9KB3GxEES",
        "outputId": "81b97869-ce11-4185-c96b-5b6884dd1ea4"
      },
      "outputs": [
        {
          "data": {
            "text/plain": [
              "'Bob is a dog'"
            ]
          },
          "execution_count": 2,
          "metadata": {},
          "output_type": "execute_result"
        }
      ],
      "source": [
        "\"Bob is a cat\".replace(\"cat\", \"dog\")"
      ]
    },
    {
      "cell_type": "markdown",
      "metadata": {
        "id": "kJjPQoqsxEEV"
      },
      "source": [
        "If we add an empty string as the second argument, it will remove all occurrences of a string"
      ]
    },
    {
      "cell_type": "code",
      "execution_count": null,
      "metadata": {
        "id": "xp-YUhpvxEEY",
        "outputId": "dcb92a7b-4644-4aca-9284-d5fd8311995f"
      },
      "outputs": [
        {
          "data": {
            "text/plain": [
              "'   dog human horse'"
            ]
          },
          "execution_count": 3,
          "metadata": {},
          "output_type": "execute_result"
        }
      ],
      "source": [
        "\"cat cat cat dog human horse\".replace(\"cat\", \"\")"
      ]
    },
    {
      "cell_type": "markdown",
      "metadata": {
        "id": "2LB05oQTxEEc"
      },
      "source": [
        "We won't list down every methods here, you can check more on https://www.w3schools.com/python/python_ref_string.asp"
      ]
    },
    {
      "cell_type": "markdown",
      "metadata": {
        "id": "dULvG5pf7yVF"
      },
      "source": [
        "# Challenge!"
      ]
    },
    {
      "cell_type": "markdown",
      "metadata": {
        "id": "igioKO6iXsOK"
      },
      "source": [
        "## Upper\n",
        "\n",
        "Using `.upper()` method, convert the string below into uppercase"
      ]
    },
    {
      "cell_type": "code",
      "execution_count": null,
      "metadata": {
        "id": "FbMUkrHiXsOP"
      },
      "outputs": [],
      "source": [
        "\"hi my name is andi\""
      ]
    },
    {
      "cell_type": "markdown",
      "metadata": {
        "id": "LXS7JlYdXsOQ"
      },
      "source": [
        "When you are done with the above challenge, then:\n",
        "\n",
        "1. Change the text \"my result\" below with the text \"done\"\n",
        "2. Run the code block by pressing the play button."
      ]
    },
    {
      "cell_type": "code",
      "execution_count": null,
      "metadata": {
        "id": "IV8cT9pxXsOQ"
      },
      "outputs": [],
      "source": [
        "# Submit Method\n",
        "assignment_id = \"002_data_types\"\n",
        "question_id = \"02_upper\"\n",
        "\n",
        "result = \"my result\"\n",
        "\n",
        "submit(student_id, name, assignment_id, result, question_id)"
      ]
    },
    {
      "cell_type": "markdown",
      "metadata": {
        "id": "mYLuBxd-XsOQ"
      },
      "source": [
        "## Replace\n",
        "\n",
        "Replace below name from \"Ridho\" to \"Fajar\"!"
      ]
    },
    {
      "cell_type": "code",
      "execution_count": null,
      "metadata": {
        "id": "ltVxWg1DXsOQ"
      },
      "outputs": [],
      "source": [
        "\"Hi, my name is Ridho\""
      ]
    },
    {
      "cell_type": "markdown",
      "metadata": {
        "id": "jbeh-ynbXsOQ"
      },
      "source": [
        "When you are done with the above challenge, then:\n",
        "\n",
        "1. Change the text \"my result\" below with the text \"done\"\n",
        "2. Run the code block by pressing the play button."
      ]
    },
    {
      "cell_type": "code",
      "execution_count": null,
      "metadata": {
        "id": "2ggzf_ijXsOR"
      },
      "outputs": [],
      "source": [
        "# Submit Method\n",
        "assignment_id = \"002_data_types\"\n",
        "question_id = \"03_replace\"\n",
        "\n",
        "result = \"my result\"\n",
        "\n",
        "submit(student_id, name, assignment_id, result, question_id)"
      ]
    },
    {
      "cell_type": "markdown",
      "metadata": {
        "id": "76UPRO4wXsOR"
      },
      "source": [
        "## String\n",
        "\n",
        "Remove all leading and trailing whitespaces from below string"
      ]
    },
    {
      "cell_type": "code",
      "execution_count": null,
      "metadata": {
        "id": "mUU45-1VXsOR"
      },
      "outputs": [],
      "source": [
        "\"   HELLO   \""
      ]
    },
    {
      "cell_type": "markdown",
      "metadata": {
        "id": "2Uq7EPQHXsOR"
      },
      "source": [
        "When you are done with the above challenge, then:\n",
        "\n",
        "1. Change the text \"my result\" below with the text \"done\"\n",
        "2. Run the code block by pressing the play button."
      ]
    },
    {
      "cell_type": "code",
      "execution_count": null,
      "metadata": {
        "id": "sYHVHWzCXsOR"
      },
      "outputs": [],
      "source": [
        "# Submit Method\n",
        "assignment_id = \"002_data_types\"\n",
        "question_id = \"04_string\"\n",
        "\n",
        "result = \"my result\"\n",
        "\n",
        "submit(student_id, name, assignment_id, result, question_id)"
      ]
    },
    {
      "cell_type": "markdown",
      "metadata": {
        "id": "h2PJVEW_xEEd"
      },
      "source": [
        "## Method chaining\n",
        "\n",
        "We can chain multiple methods together, for example:\n",
        "\n",
        "```python\n",
        "\"I'm so excited to meet you guys there!\".lower().replace(\"excited\", \"happy\")\n",
        "```\n",
        "\n",
        "Will result in:\n",
        "\n",
        "```python\n",
        "\"i'm so happy to meet you guys there!\"\n",
        "```"
      ]
    },
    {
      "cell_type": "markdown",
      "metadata": {
        "id": "wEy0WTXRXsOS"
      },
      "source": [
        "# Challenge\n",
        "\n",
        "## Challenge 1\n",
        "\n",
        "Replace all occurrences of \"cat\" to \"\" (empty string) and remove all leading whitespaces (the output should be: \"dog human horse\")"
      ]
    },
    {
      "cell_type": "code",
      "execution_count": null,
      "metadata": {
        "id": "1J2JPrAsXsOS"
      },
      "outputs": [],
      "source": [
        "\"cat cat cat dog human horse\""
      ]
    },
    {
      "cell_type": "markdown",
      "metadata": {
        "id": "cW1pu2yGXsOS"
      },
      "source": [
        "When you are done with the above challenge, then:\n",
        "\n",
        "1. Change the text \"my result\" below with the text \"done\"\n",
        "2. Run the code block by pressing the play button."
      ]
    },
    {
      "cell_type": "code",
      "execution_count": null,
      "metadata": {
        "id": "gPSO2Z4rXsOS"
      },
      "outputs": [],
      "source": [
        "# Submit Method\n",
        "assignment_id = \"002_data_types\"\n",
        "question_id = \"05_method_chain_1\"\n",
        "\n",
        "result = \"my result\"\n",
        "\n",
        "submit(student_id, name, assignment_id, result, question_id)"
      ]
    },
    {
      "cell_type": "markdown",
      "metadata": {
        "id": "fyrjjVQXXsOS"
      },
      "source": [
        "## Challenge 2\n",
        "\n",
        "Convert below string to \"IT'S SO COOL!\""
      ]
    },
    {
      "cell_type": "code",
      "execution_count": null,
      "metadata": {
        "id": "VzaCDDO4xEEq"
      },
      "outputs": [],
      "source": [
        "print(\"  It's so cool!    \")"
      ]
    },
    {
      "cell_type": "markdown",
      "metadata": {
        "id": "SI_4Q7rSXsOT"
      },
      "source": [
        "When you are done with the above challenge, then:\n",
        "\n",
        "1. Change the text \"my result\" below with the text \"done\"\n",
        "2. Run the code block by pressing the play button."
      ]
    },
    {
      "cell_type": "code",
      "execution_count": null,
      "metadata": {
        "id": "_T-ZqHI9XsOT"
      },
      "outputs": [],
      "source": [
        "# Submit Method\n",
        "assignment_id = \"002_data_types\"\n",
        "question_id = \"06_method_chain_2\"\n",
        "\n",
        "result = \"my result\"\n",
        "\n",
        "submit(student_id, name, assignment_id, result, question_id)"
      ]
    },
    {
      "cell_type": "markdown",
      "metadata": {
        "id": "TeNdoSzjXsOT"
      },
      "source": [
        "## Challenge 3\n",
        "\n",
        "Convert below string to \"I'm not a bird\"\n",
        "\n",
        "Note:\n",
        "\n",
        "- If you want to delete a word from a sentence, make sure you add space before and after the word so it will remove the word and the space before and after it.\n",
        "\n",
        "```python\n",
        "\"I'm so hungry\".replace(\"so\", \"\") # WRONG, it will result in \"I'm  hungry\" (notice the extra space)\n",
        "\"I'm so hungry\".replace(\" so \", \"\") # CORRECT, it will result in \"I'm hungry\"\n",
        "```"
      ]
    },
    {
      "cell_type": "code",
      "execution_count": null,
      "metadata": {
        "id": "aplSApe_XsOT"
      },
      "outputs": [],
      "source": [
        "\"I'm not a cat\""
      ]
    },
    {
      "cell_type": "markdown",
      "metadata": {
        "id": "HgKk5yHwXsOU"
      },
      "source": [
        "When you are done with the above challenge, then:\n",
        "\n",
        "1. Change the text \"my result\" below with the text \"done\"\n",
        "2. Run the code block by pressing the play button."
      ]
    },
    {
      "cell_type": "code",
      "execution_count": null,
      "metadata": {
        "id": "cgKbF_UWXsOU"
      },
      "outputs": [],
      "source": [
        "# Submit Method\n",
        "assignment_id = \"002_data_types\"\n",
        "question_id = \"07_method_chain_3\"\n",
        "\n",
        "result = \"my result\"\n",
        "\n",
        "submit(student_id, name, assignment_id, result, question_id)"
      ]
    },
    {
      "cell_type": "markdown",
      "metadata": {
        "id": "4UZDgI8bXsOU"
      },
      "source": [
        "# Comment\n",
        "\n",
        "Comment is a text that is ignored by the computer, it's mostly used to explain what a code does."
      ]
    },
    {
      "cell_type": "code",
      "execution_count": null,
      "metadata": {
        "id": "vOuv2DZfXsOU"
      },
      "outputs": [],
      "source": [
        "# This is a comment, this line will not be executed\n",
        "# def my_function():\n",
        "#     print(\"Hello from a function\")\n",
        "# above code will not be executed either\n",
        "\n",
        "\"This line will be executed\" # print(\"This line will not be executed\")"
      ]
    },
    {
      "cell_type": "markdown",
      "metadata": {
        "id": "EnxX7SS6xEEe"
      },
      "source": [
        "# String concatenation\n",
        "\n",
        "We can concatenate (combine) two strings together using `+` operator"
      ]
    },
    {
      "cell_type": "code",
      "execution_count": null,
      "metadata": {
        "id": "SfO_hZb_xEEe",
        "outputId": "00962a8e-9976-44a8-db97-6ab192ce3fe7"
      },
      "outputs": [
        {
          "data": {
            "text/plain": [
              "'Hello world!'"
            ]
          },
          "execution_count": 1,
          "metadata": {},
          "output_type": "execute_result"
        }
      ],
      "source": [
        "\"Hello \" + \"world!\""
      ]
    },
    {
      "cell_type": "markdown",
      "metadata": {
        "id": "quMijRJfXsOV"
      },
      "source": [
        "# Challenge\n",
        "\n",
        "## Challenge 1\n",
        "\n",
        "Try to concatenate below string with Rudi's name"
      ]
    },
    {
      "cell_type": "code",
      "execution_count": null,
      "metadata": {
        "id": "6cgjgHKJXsOV"
      },
      "outputs": [],
      "source": [
        "\"Imam, Andi, Ridho\" # Convert to \"Imam, Andi, Ridho, Rudi\""
      ]
    },
    {
      "cell_type": "markdown",
      "metadata": {
        "id": "kQi7SxfsXsOV"
      },
      "source": [
        "When you are done with the above challenge, then:\n",
        "\n",
        "1. Change the text \"my result\" below with the text \"done\"\n",
        "2. Run the code block by pressing the play button."
      ]
    },
    {
      "cell_type": "code",
      "execution_count": null,
      "metadata": {
        "id": "QcDrIevAXsOV"
      },
      "outputs": [],
      "source": [
        "# Submit Method\n",
        "assignment_id = \"002_data_types\"\n",
        "question_id = \"08_concat\"\n",
        "\n",
        "result = \"my result\"\n",
        "\n",
        "submit(student_id, name, assignment_id, result, question_id)"
      ]
    },
    {
      "cell_type": "markdown",
      "metadata": {
        "id": "AbHz-S75xEEf"
      },
      "source": [
        "# Numbers (integers and floats)\n",
        "\n",
        "Numbers in Python are divided into two types: integers and floats. Integers are whole numbers, while floats are decimal numbers.\n",
        "\n",
        "Below are integers:\n",
        "\n",
        "```python\n",
        "1\n",
        "30\n",
        "70\n",
        "```\n",
        "\n",
        "Below are floats:\n",
        "\n",
        "```python\n",
        "1.0\n",
        "30.0\n",
        "70.0\n",
        "```\n",
        "\n",
        "We can do basic math operations with either integers or floats:"
      ]
    },
    {
      "cell_type": "code",
      "execution_count": null,
      "metadata": {
        "id": "BzkkiW0AxEEg",
        "outputId": "8e16998e-49c2-4738-a49f-faabb8eda001"
      },
      "outputs": [
        {
          "data": {
            "text/plain": [
              "16.0"
            ]
          },
          "execution_count": 1,
          "metadata": {},
          "output_type": "execute_result"
        }
      ],
      "source": [
        "(5 + 3) * 2.0"
      ]
    },
    {
      "cell_type": "markdown",
      "metadata": {
        "id": "3Mj1EjyKXsOW"
      },
      "source": [
        "# Challenge!\n",
        "\n",
        "## Challenge 1\n",
        "\n",
        "Create a formula of 10 times 2.\n",
        "The output = 20"
      ]
    },
    {
      "cell_type": "code",
      "execution_count": null,
      "metadata": {
        "id": "Mk5U2nmGXsOW"
      },
      "outputs": [],
      "source": [
        "# Write the code"
      ]
    },
    {
      "cell_type": "markdown",
      "metadata": {
        "id": "5SIZnpANXsOW"
      },
      "source": [
        "When you are done with the above challenge, then:\n",
        "\n",
        "1. Change the text \"my result\" below with the formula you created above.\n",
        "2. Run the code block by pressing the play button."
      ]
    },
    {
      "cell_type": "code",
      "execution_count": null,
      "metadata": {
        "id": "KuvYCHeCXsOW"
      },
      "outputs": [],
      "source": [
        "# Submit Method\n",
        "assignment_id = \"002_data_types\"\n",
        "question_id = \"09_math_1\"\n",
        "\n",
        "result = \"my result\"\n",
        "\n",
        "submit(student_id, name, assignment_id, result, question_id)"
      ]
    },
    {
      "cell_type": "markdown",
      "metadata": {
        "id": "WkreAPeCXsOX"
      },
      "source": [
        "## Challenge 2\n",
        "\n",
        "Create a formula of 10 plus 2 then times 3 (remember the order of operations, you might need to use parentheses?)\n",
        "The output = 36"
      ]
    },
    {
      "cell_type": "code",
      "execution_count": null,
      "metadata": {
        "id": "qvbS7JfSXsOX"
      },
      "outputs": [],
      "source": [
        "# Write the code"
      ]
    },
    {
      "cell_type": "markdown",
      "metadata": {
        "id": "i0QRV00hXsOX"
      },
      "source": [
        "When you are done with the above challenge, then:\n",
        "\n",
        "1. Change the text \"my result\" below with the formula you created above.\n",
        "2. Run the code block by pressing the play button."
      ]
    },
    {
      "cell_type": "code",
      "execution_count": null,
      "metadata": {
        "id": "9Pm9NxXYXsOX"
      },
      "outputs": [],
      "source": [
        "# Submit Method\n",
        "assignment_id = \"002_data_types\"\n",
        "question_id = \"10_math_2\"\n",
        "\n",
        "result = \"my result\"\n",
        "\n",
        "submit(student_id, name, assignment_id, result, question_id)"
      ]
    }
  ],
  "metadata": {
    "colab": {
      "provenance": [],
      "include_colab_link": true
    },
    "kernelspec": {
      "display_name": "Python 3 (ipykernel)",
      "language": "python",
      "name": "python3"
    },
    "language_info": {
      "codemirror_mode": {
        "name": "ipython",
        "version": 3
      },
      "file_extension": ".py",
      "mimetype": "text/x-python",
      "name": "python",
      "nbconvert_exporter": "python",
      "pygments_lexer": "ipython3",
      "version": "3.11.3"
    }
  },
  "nbformat": 4,
  "nbformat_minor": 0
}