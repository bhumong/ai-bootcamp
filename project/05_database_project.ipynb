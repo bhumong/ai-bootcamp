{
  "cells": [
    {
      "cell_type": "markdown",
      "metadata": {
        "id": "view-in-github",
        "colab_type": "text"
      },
      "source": [
        "<a href=\"https://colab.research.google.com/github/bhumong/ai-bootcamp/blob/main/project/05_database_project.ipynb\" target=\"_parent\"><img src=\"https://colab.research.google.com/assets/colab-badge.svg\" alt=\"Open In Colab\"/></a>"
      ]
    },
    {
      "cell_type": "markdown",
      "id": "def8e46c-7606-4991-9b29-9223ccacd54b",
      "metadata": {
        "id": "def8e46c-7606-4991-9b29-9223ccacd54b"
      },
      "source": [
        "# Project: Database"
      ]
    },
    {
      "cell_type": "markdown",
      "id": "911a145c-7d01-4210-9699-0e1fef80ff19",
      "metadata": {
        "id": "911a145c-7d01-4210-9699-0e1fef80ff19"
      },
      "source": [
        "**Instructions for Students:**\n",
        "\n",
        "Please carefully follow these steps to complete and submit your project:\n",
        "\n",
        "1. **Make a copy of the Project**: Please make a copy of this project either to your own Google Drive or download locally. Work on the copy of the project. The master project is **Read-Only**, meaning you can edit, but it will not be saved when you close the master project. To avoid total loss of your work, remember to make a copy.\n",
        "\n",
        "2. **Completing the Project**: You are required to work on and complete all tasks in the provided project. Be disciplined and ensure that you thoroughly engage with each task.\n",
        "   \n",
        "3. **Creating a Google Drive Folder**: Each of you must create a new folder on your Google Drive. This will be the repository for all your completed project files, aiding you in keeping your work organized and accessible.\n",
        "   \n",
        "4. **Uploading Completed Project**: Upon completion of your project, make sure to upload all necessary files, involving codes, reports, and related documents into the created Google Drive folder. Save this link in the 'Student Identity' section and also provide it as the last parameter in the `submit` function that has been provided.\n",
        "   \n",
        "5. **Sharing Folder Link**: You're required to share the link to your project Google Drive folder. This is crucial for the submission and evaluation of your project.\n",
        "   \n",
        "6. **Setting Permission to Public**: Please make sure your Google Drive folder is set to public. This allows your instructor to access your solutions and assess your work correctly.\n",
        "\n",
        "Adhering to these procedures will facilitate a smooth project evaluation process for you and the reviewers."
      ]
    },
    {
      "cell_type": "markdown",
      "id": "d3b9e0f7-75d2-476a-9b29-07c1a3800925",
      "metadata": {
        "id": "d3b9e0f7-75d2-476a-9b29-07c1a3800925"
      },
      "source": [
        "## Project Description\n",
        "\n",
        "In this project, you'll work with the Kaggle E-commerce dataset. Your tasks are to import this dataset into a SQLite database, explore it using SQL to identify key attributes and patterns, and perform basic data cleaning procedures. This project is designed to improve your skills in database management, SQL usage, and data cleaning."
      ]
    },
    {
      "cell_type": "markdown",
      "id": "828e87fd-b41c-41a2-a243-139017327661",
      "metadata": {
        "id": "828e87fd-b41c-41a2-a243-139017327661"
      },
      "source": [
        "## Grading Criteria\n",
        "\n",
        "There are 13 criterias in this project, all have the same weight divided into two: 8 criterias for SQL and 5 criterias for Elasticssearch. Each task will give you either 100 point if you are correct and 0 if you are wrong. The final score for the project will the the average of all 13 tasks.\n",
        "\n",
        "* Criteria 1, Task I.3: This task will assess your ability to create an SQL database, in this case using sqlite. To ensure correct data is imported, this will check that database table have the correct amount of columns and the correct column names. This will ensure a uniform dataset for all students.\n",
        "\n",
        "* Criteria 2, Task I.3: Same as Criteria 1, instead of columns, this will check that the total rows of data in the table is correct. This will ensure a uniform dataset for all students.\n",
        "\n",
        "* Criteria 3, Task I.3.4 query 1: The task will assess your ability to understand and perform basic dataset check, that one row in the database does not guarantee uniqueness for individual columns.\n",
        "\n",
        "* Criteria 4, Task I.3.4 query 1: Same as Criteria 3.\n",
        "\n",
        "* Criteria 5, Task I.3.4 query 2: This task will assess your ability to create a SQL query that will get the data, perform arithmetic operations on the data, sort and limit the data returned.\n",
        "\n",
        "* Criteria 6, Task I.3.4 query 3: Same as Criteria 5.\n",
        "\n",
        "* Criteria 7, Task I.3.4 query 4: This task will assess your ability to create a SQL query that will get the data, perform arithmetic operations on the data, sort, limit the data and structure the result in a concise format where the all the data are retrieved and presented in a format that is easy to understand can be further processed through programming.\n",
        "\n",
        "* Criteria 8, Task I.3.4 query 5: Same as Criteria 7.\n",
        "\n",
        "* Criteria 9, Task II.3: This task will assess your ability to create an Elasticsearch Index. To ensure correct data is imported, this will check that the index have the correct amount of columns the the correct column names. This will ensure a uniform dataset for all students.\n",
        "\n",
        "* Criteria 10, Task II.3: Same as Criteria 9, instead of columns, this will check that the total rows of data in the table is correct. This will ensure a uniform dataset for all students.\n",
        "\n",
        "* Criteria 11, Task II.4 query 1: This task will assess your ability to perform a basic elastic search and return the result.\n",
        "\n",
        "* Criteria 12, Task II.4 query 2: This task will assess your ability to perform an elastic search, perform arithmetic operations on the data and return the result.\n",
        "\n",
        "* Criteria 13, Task II.4 query 3: This task will assess your ability to perform an elastic search, perform arithmetic operations on the data, sort and limit the data returned.\n"
      ]
    },
    {
      "cell_type": "markdown",
      "id": "8018f21d-d661-4ae4-a50d-9fb66feb291d",
      "metadata": {
        "id": "8018f21d-d661-4ae4-a50d-9fb66feb291d"
      },
      "source": [
        "## Student Identity"
      ]
    },
    {
      "cell_type": "code",
      "execution_count": null,
      "id": "9fc57472-0432-474a-b1f7-c825edfc007a",
      "metadata": {
        "id": "9fc57472-0432-474a-b1f7-c825edfc007a"
      },
      "outputs": [],
      "source": [
        "# @title #### Student Identity\n",
        "student_id = \"\" # @param {type:\"string\"}\n",
        "name = \"\" # @param {type:\"string\"}\n",
        "drive_link = \"\"  # @param {type:\"string\"}\n",
        "\n",
        "assignment_id = \"00_database_project\"\n",
        "\n",
        "# Import grader package\n",
        "!pip install rggrader\n",
        "from rggrader import submit, submit_image"
      ]
    },
    {
      "cell_type": "markdown",
      "id": "84fea308-2c09-472c-a5ec-e4ba0900d496",
      "metadata": {
        "id": "84fea308-2c09-472c-a5ec-e4ba0900d496"
      },
      "source": [
        "Rmember to make a copy of this notebook in your Google Drive and work in your own copy."
      ]
    },
    {
      "cell_type": "markdown",
      "id": "e0b68327-fc7b-43de-9f16-b058d11d775b",
      "metadata": {
        "id": "e0b68327-fc7b-43de-9f16-b058d11d775b"
      },
      "source": [
        "## I. Loading and Querying with SQL\n",
        "\n",
        "In this task, you will use Kaggle E-commerce dataset. You need to download it from the link here: [Kaggle E-commerce data](https://www.kaggle.com/datasets/carrie1/ecommerce-data?select=data.csv).\n",
        "\n",
        "After you download the dataset, you will then import the dataset into SQL format, using SQLite."
      ]
    },
    {
      "cell_type": "markdown",
      "id": "25ecc459-5019-42d8-84a6-8644cecafef3",
      "metadata": {
        "id": "25ecc459-5019-42d8-84a6-8644cecafef3"
      },
      "source": [
        "### I.1. Package and Module Installation\n",
        "\n",
        "First, let's pool all package and module that you'll need in the installation section below."
      ]
    },
    {
      "cell_type": "code",
      "execution_count": null,
      "id": "62606ca1-5868-4c65-93ef-1d6ee8d8d59a",
      "metadata": {
        "id": "62606ca1-5868-4c65-93ef-1d6ee8d8d59a"
      },
      "outputs": [],
      "source": [
        "# Write any package/module installation that you need\n",
        "# pip install goes here, this helps declutter your output below\n",
        "\n"
      ]
    },
    {
      "cell_type": "markdown",
      "id": "b0837717-de95-4193-9898-e2f4cadfcfc6",
      "metadata": {
        "id": "b0837717-de95-4193-9898-e2f4cadfcfc6"
      },
      "source": [
        "### I.2. Data Loading and SQL CREATE and INSERT to database table\n",
        "\n",
        "Now you can create the database and tables. Follow the same column naming as the dataset.\n",
        "\n",
        "Next insert all the data from the dataset into the table in the database."
      ]
    },
    {
      "cell_type": "code",
      "execution_count": null,
      "id": "3b0e5e58-277e-41ef-9b1c-951e5d150191",
      "metadata": {
        "id": "3b0e5e58-277e-41ef-9b1c-951e5d150191"
      },
      "outputs": [],
      "source": [
        "# Write your data loading to SQL database here\n",
        "\n"
      ]
    },
    {
      "cell_type": "markdown",
      "id": "30ce0c59-0e94-480a-81ae-528e68356a15",
      "metadata": {
        "id": "30ce0c59-0e94-480a-81ae-528e68356a15"
      },
      "source": [
        "### I.3. Verifying the database\n",
        "\n",
        "Before we go to the next section, let's check our database first. You need to change the db_name and table_name with your database name and table name, afterwards you can just run the code block. The result should be:\n",
        "\n",
        "- Columns: ['InvoiceNo', 'StockCode', 'Description', 'Quantity', 'InvoiceDate', 'UnitPrice', 'CustomerID', 'Country']\n",
        "- Number of rows: 541909"
      ]
    },
    {
      "cell_type": "code",
      "execution_count": null,
      "id": "1aa3c3f7-c6c5-4419-9b25-e8d7a8ec345a",
      "metadata": {
        "id": "1aa3c3f7-c6c5-4419-9b25-e8d7a8ec345a"
      },
      "outputs": [],
      "source": [
        "import sqlite3\n",
        "\n",
        "# Connect to SQLite database\n",
        "conn = sqlite3.connect('db_name.sqlite') #change db_name to your database name.\n",
        "cur = conn.cursor()\n",
        "\n",
        "# Get column names\n",
        "cur.execute(\"PRAGMA table_info(table_name)\") #change table_name to your table name\n",
        "sql_columns = [column[1] for column in cur.fetchall()] #the variable sql_columns is used for submission, do not change the variable name\n",
        "print(f\"Columns: {sql_columns}\")\n",
        "\n",
        "# Get total number of rows\n",
        "cur.execute(\"SELECT COUNT(*) FROM table_name\") #change table_name to your table name\n",
        "sql_num_rows = cur.fetchone()[0] #the variable sql_num_rows is used for submission, do not change the variable name\n",
        "print(f\"Number of rows: {sql_num_rows}\")\n",
        "\n",
        "# Close the connection\n",
        "conn.close()"
      ]
    },
    {
      "cell_type": "markdown",
      "id": "585b925f-fcf0-4518-81d8-598dba65d646",
      "metadata": {
        "id": "585b925f-fcf0-4518-81d8-598dba65d646"
      },
      "source": [
        "### I.3.4. Running SQL Queries\n",
        "\n",
        "Once we have the database in SQL format, let's do some data exploration and analysis.\n",
        "\n",
        "You are part of the engineering team at a global e-commerce company. Your company has a vast catalogue of products and serves customers around the globe. As the company continues to grow, the management decides it's time to expand the business even more.\n",
        "\n",
        "As an essential part of this expansion, your team is tasked with diving into your company's rich e-commerce dataset to extract crucial insights that will guide the expansion strategy.\n",
        "\n",
        "1. **Total number of unique products and unique customers:**\n",
        "\n",
        "   Your first task is to gauge the breadth of your operations. By determining the total number of unique products you sell and the total number of unique customers you serve, you can assess the scale and diversity of your business.\n",
        "\n",
        "2. **Total revenue for each product:**\n",
        "\n",
        "   Next, you're going to identify the star performers in your product portfolio. Calculating the total revenue for each product will reveal which items are the biggest revenue drivers. These insights can help guide decisions about product focus and marketing efforts. Limit the result to the top 5 product with the biggest revenue.\n",
        "\n",
        "3. **Most profitable countries (by total sales):**\n",
        "\n",
        "   To pinpoint the most fruitful geographic areas for your business, you'll identify which countries generate the most profit. This data will help you understand where your operations are already strong and where there might be potential for regional expansion. Limit the result to the top 5 countries with the biggest profit.\n",
        "\n",
        "4. **Top-selling products (by total sales) for each country from number 3:**\n",
        "\n",
        "   Product popularity may vary across different regions. Determining the top-selling products by sales for each country will provide a clear picture of regional preferences, informing decisions about product distribution in different markets. Limit the result to the top 5 products for each countries.\n",
        "\n",
        "4. **Top-selling products (by quantity) for each country from number 3:**\n",
        "\n",
        "   Product popularity may vary across different regions. Determining the top-selling products by quantity for each country will provide a clear picture of regional preferences, informing decisions about product distribution in different markets. Limit the result to the top 5 products for each countries.\n",
        "\n",
        "By answering these queries, your team will provide valuable data-driven insights that will directly contribute to the strategic decisions about where and how your business expands. As part of the engineering team, you're not just maintaining the technical infrastructure - you're shaping the future of the company.\n",
        "\n",
        "> Hint: The Product name is stored in column Descrioption"
      ]
    },
    {
      "cell_type": "code",
      "execution_count": null,
      "id": "ee33d9bc-2b35-4f78-b5d8-3eb65db1e361",
      "metadata": {
        "id": "ee33d9bc-2b35-4f78-b5d8-3eb65db1e361"
      },
      "outputs": [],
      "source": [
        "# Write your SQL Query here\n",
        "\n",
        "#use the following variable name to store the result from your SQL Query\n",
        "sql_num_products = 0\n",
        "sql_num_customers = 0\n",
        "sql_top_product_revenues = [] # list of tuples, where each tupple contains the product name and total revenue/total sales, see example\n",
        "sql_top_countries = [] # list of tuples, where each tupple contains the product name and total revenue/total sales, see example\n",
        "sql_top_selling_products_by_country_by_sales = {} #dictionary where key is country name, value is a list of top-selling products by sales, see example below\n",
        "sql_top_selling_products_by_country_by_quantity = {} #dictionary where key is country name, value is a list of top-selling products by quantity, see example below\n",
        "\n",
        "\n",
        "# 1. Find the total number of unique products and unique customers\n",
        "# Example: sql_num_products = 1559\n",
        "# Example: sql_num_customers = 1675\n",
        "\n",
        "\n"
      ]
    },
    {
      "cell_type": "code",
      "execution_count": null,
      "id": "d1cbbedc-d36e-4957-8359-98e948d5b177",
      "metadata": {
        "id": "d1cbbedc-d36e-4957-8359-98e948d5b177"
      },
      "outputs": [],
      "source": [
        "# 2. Calculate the total revenue for each product, limited to top 5\n",
        "# Example: sql_top_product_revenues = [('PRODUCT 1', 149385.12), ('PRODUCT 2', 54895.53), ('PRODUCT 3', 44545.55), ('PRODUCT 4', 38000.00), ('PRODUCT 5', 36000.00)]\n",
        "\n",
        "\n"
      ]
    },
    {
      "cell_type": "code",
      "execution_count": null,
      "id": "7af4cf62-9d0a-4cae-92cd-fac4a9468d5e",
      "metadata": {
        "id": "7af4cf62-9d0a-4cae-92cd-fac4a9468d5e"
      },
      "outputs": [],
      "source": [
        "# 3. Identify the most profitable countries (by total sales), limited to top 5\n",
        "# Example: sql_top_countries = [('COUNTRY 1', 600000.00), ('COUNTRY 2', 334857.45), ('COUNTRY 3', 245879.00), ('COUNTRY 4', 180000.00), ('COUNTRY 5', 164389.45)]\n",
        "\n",
        "\n"
      ]
    },
    {
      "cell_type": "code",
      "execution_count": null,
      "id": "776308cd-3733-4767-95c3-fc9d3eda3cb7",
      "metadata": {
        "id": "776308cd-3733-4767-95c3-fc9d3eda3cb7"
      },
      "outputs": [],
      "source": [
        "# 4. Find the top-selling products (by total sales) for each country, limited to top 5\n",
        "# Example: sql_top_selling_products_by_country_by_sales = {\n",
        "#    'COUNTRY 1': [('PRODUCT 1', 200000.00), ('PRODUCT 2', 100000.00), ('PRODUCT 3', 95348.00), ('PRODUCT 4', 90000.43), ('PRODUCT 5', 80000.00)],\n",
        "#    'COUNTRY 2': [('PRODUCT 1', 9000.00), ('PRODUCT 2', 7345.00), ('PRODUCT 3', 6934.23), ('PRODUCT 4', 6800.23), ('PRODUCT 5', 4000.00)],\n",
        "#    ... to simplify, country 3 and 4 are not shown\n",
        "#    'COUNTRY 5': [('PRODUCT 1', 7442.84), ('PRODUCT 2', 5175.00), ('PRODUCT 3', 3098.0), ('PRODUCT 4', 3014.34), ('PRODUCT 5', 2857.83)],\n",
        "\n",
        "\n"
      ]
    },
    {
      "cell_type": "code",
      "execution_count": null,
      "id": "54adc06d-fe7d-468c-8515-0b9f52170cf8",
      "metadata": {
        "id": "54adc06d-fe7d-468c-8515-0b9f52170cf8"
      },
      "outputs": [],
      "source": [
        "# 5. Find the top-selling products (by quantity) for each country, limited to top 5\n",
        "# Example: sql_top_selling_products_by_country_by_quantity = {\n",
        "#    'COUNTRY 1': [('COUNTRY 1, PRODUCT 1', 22343), ('COUNTRY 1, PRODUCT 2', 12345), ('COUNTRY 1, PRODUCT 3', 9534), ('COUNTRY 1, PRODUCT 4', 9000), ('COUNTRY 1, PRODUCT 5', 8000)],\n",
        "#    'COUNTRY 2': [('COUNTRY 2, PRODUCT 1', 9000), ('COUNTRY 2, PRODUCT 2', 7345), ('COUNTRY 2, PRODUCT 3', 6934), ('COUNTRY 2, PRODUCT 4', 6800), ('COUNTRY 2, PRODUCT 5', 4000)],\n",
        "#    ... to simplify, country 3 and 4 are not shown\n",
        "#    'COUNTRY 5': [('COUNTRY 5, PRODUCT 1', 48345), ('COUNTRY 5, PRODUCT 2', 43965), ('COUNTRY 5, PRODUCT 3', 43556), ('COUNTRY 5, PRODUCT 4', 34567), ('COUNTRY 5, PRODUCT 5', 33436)],\n",
        "\n",
        "\n"
      ]
    },
    {
      "cell_type": "markdown",
      "id": "1d391ec9-ca95-4c56-b4f6-fccf8e0be14a",
      "metadata": {
        "id": "1d391ec9-ca95-4c56-b4f6-fccf8e0be14a"
      },
      "source": [
        "## II. Indexing and Querying with Elasticsearch\n",
        "\n",
        "You should have a better understanding of how to use SQL, now let's leverage the power of Elasticsearch to explore and analyze the data. We'll use the same dataset.\n"
      ]
    },
    {
      "cell_type": "markdown",
      "id": "e7dd72e3-4d2f-4f3a-80ef-7b8b6440b124",
      "metadata": {
        "id": "e7dd72e3-4d2f-4f3a-80ef-7b8b6440b124"
      },
      "source": [
        "### II.1. Package and Module Installation\n",
        "\n",
        "First, let's pool all package and module that you'll need in the installation section below."
      ]
    },
    {
      "cell_type": "code",
      "execution_count": null,
      "id": "c8ca8f78-e33c-4552-9f4d-8bed711e661f",
      "metadata": {
        "id": "c8ca8f78-e33c-4552-9f4d-8bed711e661f"
      },
      "outputs": [],
      "source": [
        "# Write any package/module installation that you need\n",
        "# pip install goes here, this helps declutter your output below\n",
        "\n"
      ]
    },
    {
      "cell_type": "markdown",
      "id": "6c1633bd-61cb-4009-a064-b2ce2fdfeee4",
      "metadata": {
        "id": "6c1633bd-61cb-4009-a064-b2ce2fdfeee4"
      },
      "source": [
        "### II.2. Set up Elasticsearch Index\n",
        "\n",
        "The first step you need to do which is **preprocessing, let's keep it simple and simply drop all row that have missing values.**\n",
        "\n",
        "Next, you need to set up an Elasticsearch index. An Elasticsearch index is like a database in a traditional relational database. An index lets you store, search, and analyze big volumes of data quickly and in near real time.\n",
        "\n",
        "You'll also need to setup the mappings for the data types, let's do that here."
      ]
    },
    {
      "cell_type": "code",
      "execution_count": null,
      "id": "60d70360-3456-4e3c-b757-630bc129ad6d",
      "metadata": {
        "id": "60d70360-3456-4e3c-b757-630bc129ad6d"
      },
      "outputs": [],
      "source": [
        "# Preprocessing here\n",
        "\n",
        "# Load your dataset and create an Elasticsearch index\n",
        "# Hints: use the BulkAPI for faster creation of the index\n",
        "\n"
      ]
    },
    {
      "cell_type": "markdown",
      "id": "39f7d0b8-698d-4666-a64a-8a1122bc5421",
      "metadata": {
        "id": "39f7d0b8-698d-4666-a64a-8a1122bc5421"
      },
      "source": [
        "### II.3. Verifying the index\n",
        "\n",
        "Before we go to the next section, let's check our index first. You need to change the my_index_name with your chosen index name, afterwards you can just run the code block. The result should be:\n",
        "\n",
        "- Columns: ['Country', 'CustomerID', 'Description', 'InvoiceDate', 'InvoiceNo', 'Quantity', 'StockCode', 'UnitPrice']\n",
        "- Number of rows: 406829"
      ]
    },
    {
      "cell_type": "code",
      "execution_count": null,
      "id": "ac844f06-2729-4299-a0c3-409a35fa39f1",
      "metadata": {
        "id": "ac844f06-2729-4299-a0c3-409a35fa39f1"
      },
      "outputs": [],
      "source": [
        "from elasticsearch import Elasticsearch\n",
        "\n",
        "# Connect to the Elasticsearch server\n",
        "es = Elasticsearch([{'host': 'localhost', 'port': 9200, 'scheme': 'http'}])\n",
        "\n",
        "index_name = my_index_name #change the my_index_name value\n",
        "\n",
        "# Get index mapping (equivalent to getting column names in SQL)\n",
        "mapping = es.indices.get_mapping(index=index_name)\n",
        "es_columns = list(mapping[index_name]['mappings']['properties'].keys()) #the variable es_columns is used for submission, do not change the variable name\n",
        "print(f\"Columns: {es_columns}\")\n",
        "\n",
        "# Count documents in the index (equivalent to counting rows in SQL)\n",
        "es_num_rows = es.count(index=index_name)['count'] #the variable es_num_rows is used for submission, do not change the variable name\n",
        "print(f\"Number of rows: {es_num_rows}\")\n"
      ]
    },
    {
      "cell_type": "markdown",
      "id": "dbf3e34d-1092-4326-9f42-83fc2c3bfa29",
      "metadata": {
        "id": "dbf3e34d-1092-4326-9f42-83fc2c3bfa29"
      },
      "source": [
        "### II.4. Running Elasticsearch queries\n",
        "\n",
        "Once your e-commerce data is cleaned and ready, let's analyse the data to gain insights that will drive the expansion strategy, this time using Elasticsearch and we'll focus on one specific country, which is Germany.\n",
        "\n",
        "1. **Find all transactions for a specific country**\n",
        "\n",
        "   Your company operates globally, but you want to understand better how different countries contribute to your sales. By finding all transactions that happened in a specific country, you can get a clearer picture of your company's reach and performance in that location. In our case, we'll focus on the country Germany.\n",
        "\n",
        "\n",
        "2. **Find all unique products in Germany**\n",
        "\n",
        "   Your first task is to understand the breadth of your company's product portfolio in Germany. By determining the total number of unique products you sell, you can assess the scale and diversity of your operations.\n",
        "\n",
        "\n",
        "3. **Find the top 5 most purchased products in Germany**\n",
        "\n",
        "   Next up, you'll identify the best-selling products in your portfolio in Germany. Knowing which items are the most purchased can help guide decisions about product focus and marketing efforts. We'll limit the result to 5 most purchased products.\n",
        "\n",
        "\n",
        "By executing these tasks, you will enable your team to provide data-driven insights which will directly contribute to the strategic decisions about your business expansion. As part of the data engineering team, you're not only maintaining the technical infrastructure - you're shaping the future of the company.\n"
      ]
    },
    {
      "cell_type": "code",
      "execution_count": null,
      "id": "38753049-8198-43fa-b497-b1b52e70e51e",
      "metadata": {
        "id": "38753049-8198-43fa-b497-b1b52e70e51e"
      },
      "outputs": [],
      "source": [
        "# Write your Elasticsearch Query here\n",
        "\n",
        "#use the following variable name to store the result from your Elasticsearch Query\n",
        "es_total_unique_products = 0\n",
        "es_transactions_in_germany = 0\n",
        "es_top_products = {} #dictionary where key is product name, value is the quantity sold, see example below\n",
        "\n",
        "# 1. Find all transactions for a specific country (Germany)\n",
        "# Example: es_transactions_in_germany = 7584\n",
        "\n",
        "\n"
      ]
    },
    {
      "cell_type": "code",
      "execution_count": null,
      "id": "ef83c53f-bec9-484e-8f37-904879d987e3",
      "metadata": {
        "id": "ef83c53f-bec9-484e-8f37-904879d987e3"
      },
      "outputs": [],
      "source": [
        "# 2. Find all unique products in Germany\n",
        "# Hints: Use set() to remove duplicate values\n",
        "# Example: es_total_unique_products = 45345\n",
        "\n",
        "\n"
      ]
    },
    {
      "cell_type": "code",
      "execution_count": null,
      "id": "aa3c9f70-11de-4bd8-b4c2-9471392c0cf2",
      "metadata": {
        "id": "aa3c9f70-11de-4bd8-b4c2-9471392c0cf2"
      },
      "outputs": [],
      "source": [
        "# 3. Find the top 5 most purchased products in Germany\n",
        "# Example: es_top_products = {'PRODUCT 1': 498, 'PRODUCT 2': 452, 'PRODUCT 3': 342, 'PRODUCT 4': 231, 'PRODUCT 5': 123}\n",
        "\n",
        "\n"
      ]
    },
    {
      "cell_type": "markdown",
      "id": "5d59af48-18c0-4e40-80ff-33a85030b205",
      "metadata": {
        "id": "5d59af48-18c0-4e40-80ff-33a85030b205"
      },
      "source": [
        "## Submission\n",
        "\n",
        "Once you are satisfied with the performance of your model, then you run the code block below to submit your project.\n"
      ]
    },
    {
      "cell_type": "code",
      "execution_count": null,
      "id": "010d7f7f-711d-4f41-82a3-3c2562e59709",
      "metadata": {
        "id": "010d7f7f-711d-4f41-82a3-3c2562e59709"
      },
      "outputs": [],
      "source": [
        "# Submit Method\n",
        "\n",
        "# Do not change the code below\n",
        "question_id = \"01_sql_columns\"\n",
        "submit(student_id, name, assignment_id, str(sql_columns), question_id, drive_link)\n",
        "question_id = \"02_sql_num_rows\"\n",
        "submit(student_id, name, assignment_id, str(sql_num_rows), question_id, drive_link)\n",
        "question_id = \"03_sql_num_products\"\n",
        "submit(student_id, name, assignment_id, str(sql_num_products), question_id, drive_link)\n",
        "question_id = \"04_sql_num_customers\"\n",
        "submit(student_id, name, assignment_id, str(sql_num_customers), question_id, drive_link)\n",
        "question_id = \"05_sql_top_product_revenues\"\n",
        "submit(student_id, name, assignment_id, str(sql_top_product_revenues), question_id, drive_link)\n",
        "question_id = \"06_sql_top_countries\"\n",
        "submit(student_id, name, assignment_id, str(sql_top_countries), question_id, drive_link)\n",
        "question_id = \"07_sql_top_selling_products_by_country_by_sales\"\n",
        "submit(student_id, name, assignment_id, str(sql_top_selling_products_by_country_by_sales), question_id, drive_link)\n",
        "question_id = \"08_sql_top_selling_products_by_country_by_quantity\"\n",
        "submit(student_id, name, assignment_id, str(sql_top_selling_products_by_country_by_quantity), question_id, drive_link)\n",
        "\n",
        "question_id = \"09_es_columns\"\n",
        "submit(student_id, name, assignment_id, str(es_columns), question_id, drive_link)\n",
        "question_id = \"10_es_num_rows\"\n",
        "submit(student_id, name, assignment_id, str(es_num_rows), question_id, drive_link)\n",
        "question_id = \"11_es_total_unique_products\"\n",
        "submit(student_id, name, assignment_id, str(es_total_unique_products), question_id, drive_link)\n",
        "question_id = \"12_es_transactions_in_germany\"\n",
        "submit(student_id, name, assignment_id, str(es_transactions_in_germany), question_id, drive_link)\n",
        "question_id = \"13_es_top_products\"\n",
        "submit(student_id, name, assignment_id, str(es_top_products), question_id, drive_link)"
      ]
    },
    {
      "cell_type": "markdown",
      "id": "aa89b9ff-0d31-416a-b3c4-851c725fadf7",
      "metadata": {
        "id": "aa89b9ff-0d31-416a-b3c4-851c725fadf7"
      },
      "source": [
        "## FIN"
      ]
    }
  ],
  "metadata": {
    "kernelspec": {
      "display_name": "Python 3 (ipykernel)",
      "language": "python",
      "name": "python3"
    },
    "language_info": {
      "codemirror_mode": {
        "name": "ipython",
        "version": 3
      },
      "file_extension": ".py",
      "mimetype": "text/x-python",
      "name": "python",
      "nbconvert_exporter": "python",
      "pygments_lexer": "ipython3",
      "version": "3.11.3"
    },
    "colab": {
      "provenance": [],
      "include_colab_link": true
    }
  },
  "nbformat": 4,
  "nbformat_minor": 5
}