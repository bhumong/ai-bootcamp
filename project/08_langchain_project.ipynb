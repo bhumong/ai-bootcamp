{
  "cells": [
    {
      "cell_type": "markdown",
      "metadata": {
        "id": "view-in-github",
        "colab_type": "text"
      },
      "source": [
        "<a href=\"https://colab.research.google.com/github/bhumong/ai-bootcamp/blob/main/project/08_langchain_project.ipynb\" target=\"_parent\"><img src=\"https://colab.research.google.com/assets/colab-badge.svg\" alt=\"Open In Colab\"/></a>"
      ]
    },
    {
      "cell_type": "markdown",
      "id": "be58b994-bc68-4166-91d5-282418b78864",
      "metadata": {
        "id": "be58b994-bc68-4166-91d5-282418b78864"
      },
      "source": [
        "# Project: Langchain"
      ]
    },
    {
      "cell_type": "markdown",
      "id": "c5120b06-0abf-49e3-b54d-db8afa9eda01",
      "metadata": {
        "id": "c5120b06-0abf-49e3-b54d-db8afa9eda01"
      },
      "source": [
        "**Instructions for Students:**\n",
        "\n",
        "Please carefully follow these steps to complete and submit your project:\n",
        "\n",
        "1. **Make a copy of the Project**: Please make a copy of this project either to your own Google Drive or download locally. Work on the copy of the project. The master project is **Read-Only**, meaning you can edit, but it will not be saved when you close the master project. To avoid total loss of your work, remember to make a copy.\n",
        "\n",
        "2. **Completing the Project**: You are required to work on and complete all tasks in the provided project. Be disciplined and ensure that you thoroughly engage with each task.\n",
        "   \n",
        "3. **Creating a Google Drive Folder**: Each of you must create a new folder on your Google Drive. This will be the repository for all your completed project files, aiding you in keeping your work organized and accessible.\n",
        "   \n",
        "4. **Uploading Completed Project**: Upon completion of your project, make sure to upload all necessary files, involving codes, reports, and related documents into the created Google Drive folder. Save this link in the 'Student Identity' section and also provide it as the last parameter in the `submit` function that has been provided.\n",
        "   \n",
        "5. **Sharing Folder Link**: You're required to share the link to your project Google Drive folder. This is crucial for the submission and evaluation of your project.\n",
        "   \n",
        "6. **Setting Permission to Public**: Please make sure your Google Drive folder is set to public. This allows your instructor to access your solutions and assess your work correctly.\n",
        "\n",
        "Adhering to these procedures will facilitate a smooth project evaluation process for you and the reviewers."
      ]
    },
    {
      "cell_type": "markdown",
      "id": "eca56111-19cb-46c0-a77b-11bd18c55673",
      "metadata": {
        "id": "eca56111-19cb-46c0-a77b-11bd18c55673"
      },
      "source": [
        "**Description:**\n",
        "\n",
        "Welcome to your project assignment on Langchain. This project will give you hands-on experience and a deeper understanding of the concepts you learned. You will be assigned the following novel `Pride and Prejudice` by Jane Austen:\n",
        "\n",
        "* In text file format (.txt) as your source of data: https://www.gutenberg.org/cache/epub/1342/pg1342.txt\n",
        "* Alternatively you can also use the html version: http://authorama.com/book/pride-and-prejudice.html\n",
        "\n",
        "Your task is to:\n",
        "\n",
        "* Create a chatbot that will receive a user query and get the answer based on the content of the novel.\n",
        "* Create a gradio interface for your chatbot.\n",
        "\n",
        "Remember, the key to mastering these concepts is practice. So, take your time to understand each task, apply your knowledge, and don't hesitate to ask questions if you encounter any difficulties. Good luck!"
      ]
    },
    {
      "cell_type": "markdown",
      "id": "d1cfea16-f8bf-4d6e-acf6-68bc94a4651e",
      "metadata": {
        "id": "d1cfea16-f8bf-4d6e-acf6-68bc94a4651e"
      },
      "source": [
        "## Grading Criteria\n",
        "\n",
        "There are 2 criterias for scoring, all have the same weight. Each criteria will give you either 100 point if you are correct and 0 if you are wrong. The final score for the project will the the average of all criterias in this project.\n",
        "\n",
        "* Criteria 1: This task will assess your ability to use langchain to pass a text input, query the LLM and return the result.\n",
        "\n",
        "* Criteria 2: This task will assess your ability to use Gradio as UI (User Interface) and interact with Langchain.\n"
      ]
    },
    {
      "cell_type": "markdown",
      "id": "c56269c6-cdf6-452a-ab67-1771dd20e7a9",
      "metadata": {
        "id": "c56269c6-cdf6-452a-ab67-1771dd20e7a9"
      },
      "source": [
        "**Notes:**\n",
        "\n",
        "Please take note of the following important points while working on this project:\n",
        "\n",
        "1. Do not change the Query Space code block, you can make a copy for your own inference.\n",
        "\n",
        "2. Feel free to add new code block to separate your code into manageable blocks.\n",
        "\n",
        "3. We recommend OpenAI or Gemini, a trial version is still available. But if you want to try other LLM, please feel free to do so.\n",
        "\n",
        "4. You do need to pass OPENAI_API_KEY as an environment variable because the Google Colab will be public, there are many methods, but here is one that you may use:\n",
        "   - Install python-dotenv\n",
        "   - Create an env file\n",
        "   - Fill the env file with the key-value pair for OPENAI_API_KEY\n",
        "   - Run the following magic command\n",
        "     - `%load_ext dotenv`\n",
        "     - `%dotenv ./openai.env`\n",
        "   - You can check if the API KEY is available using `os.environ`\n",
        "     - `os.environ['OPENAI_API_KEY']`"
      ]
    },
    {
      "cell_type": "code",
      "execution_count": null,
      "id": "213a611a-c434-4894-ba35-689963ee5274",
      "metadata": {
        "id": "213a611a-c434-4894-ba35-689963ee5274"
      },
      "outputs": [],
      "source": [
        "# @title #### Student Identity\n",
        "student_id = \"\" # @param {type:\"string\"}\n",
        "name = \"\" # @param {type:\"string\"}\n",
        "drive_link = \"\"  # @param {type:\"string\"}\n",
        "assignment_id = \"00_langchain_project\""
      ]
    },
    {
      "cell_type": "markdown",
      "id": "2c97aef3-b747-49f7-99e0-4086c03e4200",
      "metadata": {
        "id": "2c97aef3-b747-49f7-99e0-4086c03e4200"
      },
      "source": [
        "## Installation and Import `rggrader` Package"
      ]
    },
    {
      "cell_type": "code",
      "execution_count": null,
      "id": "36c07e23-0280-467f-b0d2-44d966253bb4",
      "metadata": {
        "id": "36c07e23-0280-467f-b0d2-44d966253bb4"
      },
      "outputs": [],
      "source": [
        "%pip install rggrader\n",
        "from rggrader import submit_image\n",
        "from rggrader import submit"
      ]
    },
    {
      "cell_type": "markdown",
      "id": "a4af3420-ff0e-472b-8b44-7a495ddf76c3",
      "metadata": {
        "id": "a4af3420-ff0e-472b-8b44-7a495ddf76c3"
      },
      "source": [
        "## Working Space"
      ]
    },
    {
      "cell_type": "code",
      "execution_count": null,
      "id": "c1fb239a-1c81-4476-9009-d87abadf9506",
      "metadata": {
        "id": "c1fb239a-1c81-4476-9009-d87abadf9506"
      },
      "outputs": [],
      "source": [
        "# Write your code here\n",
        "\n"
      ]
    },
    {
      "cell_type": "markdown",
      "id": "fc8d6a4a-e296-4540-92ff-c813131a4e41",
      "metadata": {
        "id": "fc8d6a4a-e296-4540-92ff-c813131a4e41"
      },
      "source": [
        "## Query Space"
      ]
    },
    {
      "cell_type": "code",
      "execution_count": null,
      "id": "2acc62c3-a773-4761-951c-fbf8ead87261",
      "metadata": {
        "id": "2acc62c3-a773-4761-951c-fbf8ead87261"
      },
      "outputs": [],
      "source": [
        "query = \"What are the full names of the two main characters in Pride and Prejudice ?\"\n",
        "answer = qa.run(query)\n",
        "\n",
        "question_id = \"00_langchain_query_answer\"\n",
        "submit(student_id, name, assignment_id, str(answer), question_id, drive_link)"
      ]
    },
    {
      "cell_type": "markdown",
      "id": "2b151c52-20a3-432f-ab16-4721c16581c4",
      "metadata": {
        "id": "2b151c52-20a3-432f-ab16-4721c16581c4"
      },
      "source": [
        "## Submit Gradio screenshot\n",
        "\n",
        "![Upload colab](https://storage.googleapis.com/rg-ai-bootcamp/project-3-pipeline-and-gradio/upload-colab.png)\n",
        "\n",
        "You need to submit screenshot of your Gradio's app. In Google Colab you can just use the \"Folder\" sidebar and click the upload button.\n",
        "\n",
        "Make sure your screenshot match below requirements:\n",
        "\n",
        "- It should have an input box for user to type the query and an output box for user to type the query.\n",
        "- It should have the query and the answer from Query Space block in the respective boxes."
      ]
    },
    {
      "cell_type": "markdown",
      "id": "ce55a43f-9af3-47ee-8b76-2a6597159635",
      "metadata": {
        "id": "ce55a43f-9af3-47ee-8b76-2a6597159635"
      },
      "source": [
        "Example of Expected Output:\n",
        "\n",
        "![gradio-result](https://storage.googleapis.com/rg-ai-bootcamp/projects/langchain-gradio.png)"
      ]
    },
    {
      "cell_type": "code",
      "execution_count": null,
      "id": "8d025e7e-e51c-4194-ba0e-1eb83cc92315",
      "metadata": {
        "id": "8d025e7e-e51c-4194-ba0e-1eb83cc92315"
      },
      "outputs": [],
      "source": [
        "#write your Gradio implementation here\n",
        "\n",
        "\n"
      ]
    },
    {
      "cell_type": "code",
      "execution_count": null,
      "id": "ced6b581-708f-4758-86ff-3cd51bf14f99",
      "metadata": {
        "id": "ced6b581-708f-4758-86ff-3cd51bf14f99"
      },
      "outputs": [],
      "source": [
        "question_id = \"01_langchain_gradio\"\n",
        "submit_image(student_id, question_id, './submission.jpg')"
      ]
    },
    {
      "cell_type": "markdown",
      "id": "792aa177-c74e-42e5-9881-40376cd746a8",
      "metadata": {
        "id": "792aa177-c74e-42e5-9881-40376cd746a8"
      },
      "source": [
        "# FIN"
      ]
    }
  ],
  "metadata": {
    "kernelspec": {
      "display_name": "Python 3 (ipykernel)",
      "language": "python",
      "name": "python3"
    },
    "language_info": {
      "codemirror_mode": {
        "name": "ipython",
        "version": 3
      },
      "file_extension": ".py",
      "mimetype": "text/x-python",
      "name": "python",
      "nbconvert_exporter": "python",
      "pygments_lexer": "ipython3",
      "version": "3.11.3"
    },
    "colab": {
      "provenance": [],
      "include_colab_link": true
    }
  },
  "nbformat": 4,
  "nbformat_minor": 5
}