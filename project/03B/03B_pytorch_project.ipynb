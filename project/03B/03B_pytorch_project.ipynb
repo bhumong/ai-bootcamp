{
  "cells": [
    {
      "cell_type": "markdown",
      "metadata": {
        "colab_type": "text",
        "id": "view-in-github"
      },
      "source": [
        "<a href=\"https://colab.research.google.com/github/bhumong/ai-bootcamp/blob/main/project/03B_pytorch_project.ipynb\" target=\"_parent\"><img src=\"https://colab.research.google.com/assets/colab-badge.svg\" alt=\"Open In Colab\"/></a>"
      ]
    },
    {
      "cell_type": "markdown",
      "id": "def8e46c-7606-4991-9b29-9223ccacd54b",
      "metadata": {
        "id": "def8e46c-7606-4991-9b29-9223ccacd54b"
      },
      "source": [
        "# Project: Deep Learning - Pytorch"
      ]
    },
    {
      "cell_type": "markdown",
      "id": "911a145c-7d01-4210-9699-0e1fef80ff19",
      "metadata": {
        "id": "911a145c-7d01-4210-9699-0e1fef80ff19"
      },
      "source": [
        "**Instructions for Students:**\n",
        "\n",
        "Please carefully follow these steps to complete and submit your project:\n",
        "\n",
        "1. **Make a copy of the Project**: Please make a copy of this project either to your own Google Drive or download locally. Work on the copy of the project. The master project is **Read-Only**, meaning you can edit, but it will not be saved when you close the master project. To avoid total loss of your work, remember to make a copy.\n",
        "\n",
        "2. **Completing the Project**: You are required to work on and complete all tasks in the provided project. Be disciplined and ensure that you thoroughly engage with each task.\n",
        "   \n",
        "3. **Creating a Google Drive Folder**: Each of you must create a new folder on your Google Drive. This will be the repository for all your completed project files, aiding you in keeping your work organized and accessible.\n",
        "   \n",
        "4. **Uploading Completed Project**: Upon completion of your project, make sure to upload all necessary files, involving codes, reports, and related documents into the created Google Drive folder. Save this link in the 'Student Identity' section and also provide it as the last parameter in the `submit` function that has been provided.\n",
        "   \n",
        "5. **Sharing Folder Link**: You're required to share the link to your project Google Drive folder. This is crucial for the submission and evaluation of your project.\n",
        "   \n",
        "6. **Setting Permission to Public**: Please make sure your Google Drive folder is set to public. This allows your instructor to access your solutions and assess your work correctly.\n",
        "\n",
        "Adhering to these procedures will facilitate a smooth project evaluation process for you and the reviewers."
      ]
    },
    {
      "cell_type": "markdown",
      "id": "d3b9e0f7-75d2-476a-9b29-07c1a3800925",
      "metadata": {
        "id": "d3b9e0f7-75d2-476a-9b29-07c1a3800925"
      },
      "source": [
        "## Project Description\n",
        "\n",
        "The Deep Learning Projects are divided into two parts, the first is the Calculations worth 30% and the second one is Pytorch Project worth 70% in this notebook.\n",
        "\n",
        "The two projects will help you gain experience to learn about Deep Learning in detail.\n",
        "\n",
        "In this project, you will use what you learn to create your own Deep Learning model. We'll use a variety of datasets, each with different data types such as images, text, and numerical/categorical data. Your task is to choose one of these datasets and build a deep learning model upon it.\n"
      ]
    },
    {
      "cell_type": "markdown",
      "id": "d333f8fe-3ae6-4060-b597-e9f7d9e37582",
      "metadata": {
        "id": "d333f8fe-3ae6-4060-b597-e9f7d9e37582"
      },
      "source": [
        "## Datasets\n",
        "\n",
        "Choose one from the following datasets for your project:\n",
        "\n",
        "1. **Digits Dataset**: A simplified version of MNIST containing 8x8 images of hand-written digits. [Dataset Link](https://scikit-learn.org/stable/auto_examples/datasets/plot_digits_last_image.html)\n",
        "2. **Dogs vs. Cats Dataset from Kaggle**: A sizable dataset of 25,000 images with equal representation of dogs and cats. [Dataset Link](https://www.kaggle.com/c/dogs-vs-cats)\n",
        "3. **Breast Cancer Wisconsin (Diagnostic) Dataset**: Computed features from a digitized image of a fine needle aspirate (FNA) of a breast mass. [Dataset Link](https://archive.ics.uci.edu/ml/datasets/Breast+Cancer+Wisconsin+%28Diagnostic%29)\n",
        "4. **Spam Text Message Classification Dataset**: A collection of labeled SMS messages, categorized as \"spam\" or \"ham\". [Dataset Link](https://www.kaggle.com/uciml/sms-spam-collection-dataset)\n",
        "5. **German Credit Risk Dataset**: People's data categorized by various attributes to predict credit risk. [Dataset Link](https://archive.ics.uci.edu/ml/datasets/Statlog+%28German+Credit+Data%29)\n"
      ]
    },
    {
      "cell_type": "markdown",
      "id": "84fea308-2c09-472c-a5ec-e4ba0900d496",
      "metadata": {
        "id": "84fea308-2c09-472c-a5ec-e4ba0900d496"
      },
      "source": [
        "\n",
        "## Grading Criteria\n",
        "\n",
        "Your work will be evaluated based on both accuracy and loss value:\n",
        "\n",
        "100: The model has an accuracy of more than 80% and a Loss Value of less than 0.2. This model is excellent and demonstrates a strong understanding of the task.\n",
        "\n",
        "90: The model has an accuracy between 70% - 79% and a Loss Value between 0.2 - 0.3. This model is very good, with some room for improvement.\n",
        "\n",
        "80: The model has an accuracy between 60% - 69% and a Loss Value between 0.3 - 0.4. This model is fairly good but needs improvement in balancing accuracy and loss value.\n",
        "\n",
        "70: The model has an accuracy between 50% - 59% and a Loss Value between 0.4 - 0.5. This model is below average and needs significant improvement.\n",
        "\n",
        "60 or below: The model has an accuracy of less than 50% or a Loss Value of more than 0.5, or the student did not submit the accuracy and Loss Value. This model is poor and needs considerable improvement."
      ]
    },
    {
      "cell_type": "markdown",
      "id": "915df21b-3a7e-444a-999d-c830acdbe7f2",
      "metadata": {
        "id": "915df21b-3a7e-444a-999d-c830acdbe7f2"
      },
      "source": [
        "Rmember to make a copy of this notebook in your Google Drive and work in your own copy.\n",
        "\n",
        "Let's start your deep learning journey! Choose your dataset and delve into the project! Happy modeling!"
      ]
    },
    {
      "cell_type": "markdown",
      "id": "8018f21d-d661-4ae4-a50d-9fb66feb291d",
      "metadata": {
        "id": "8018f21d-d661-4ae4-a50d-9fb66feb291d"
      },
      "source": [
        "## Student Identity"
      ]
    },
    {
      "cell_type": "code",
      "execution_count": null,
      "id": "9fc57472-0432-474a-b1f7-c825edfc007a",
      "metadata": {
        "id": "9fc57472-0432-474a-b1f7-c825edfc007a"
      },
      "outputs": [],
      "source": [
        "# @title #### Student Identity\n",
        "student_id = \"\" # @param {type:\"string\"}\n",
        "name = \"\" # @param {type:\"string\"}\n",
        "drive_link = \"\"  # @param {type:\"string\"}\n",
        "\n",
        "assignment_id = \"00_pytorch_project\"\n",
        "\n",
        "# Import grader package\n",
        "!pip install rggrader\n",
        "from rggrader import submit, submit_image"
      ]
    },
    {
      "cell_type": "markdown",
      "id": "e0b68327-fc7b-43de-9f16-b058d11d775b",
      "metadata": {
        "id": "e0b68327-fc7b-43de-9f16-b058d11d775b"
      },
      "source": [
        "## Project Structure\n",
        "\n",
        "Your project should be organized into five main sections."
      ]
    },
    {
      "cell_type": "markdown",
      "id": "25ecc459-5019-42d8-84a6-8644cecafef3",
      "metadata": {
        "id": "25ecc459-5019-42d8-84a6-8644cecafef3"
      },
      "source": [
        "### 1. Package and Module Installation\n",
        "\n",
        "First, let's pool all package and module that you'll need in the installation section below."
      ]
    },
    {
      "cell_type": "code",
      "execution_count": null,
      "id": "f0bed9c2",
      "metadata": {},
      "outputs": [],
      "source": [
        "!kaggle datasets download uciml/sms-spam-collection-dataset"
      ]
    },
    {
      "cell_type": "code",
      "execution_count": null,
      "id": "0436aecf",
      "metadata": {},
      "outputs": [],
      "source": [
        "!unzip sms-spam-collection-dataset.zip"
      ]
    },
    {
      "cell_type": "code",
      "execution_count": null,
      "id": "709a008a",
      "metadata": {},
      "outputs": [],
      "source": [
        "!pip install pandas torch scikit-learn"
      ]
    },
    {
      "cell_type": "markdown",
      "id": "b0837717-de95-4193-9898-e2f4cadfcfc6",
      "metadata": {
        "id": "b0837717-de95-4193-9898-e2f4cadfcfc6"
      },
      "source": [
        "### 2. Data Loading and Preprocessing\n",
        "\n",
        "Load the chosen dataset and preprocess it for deep learning."
      ]
    },
    {
      "cell_type": "code",
      "execution_count": null,
      "id": "3b0e5e58-277e-41ef-9b1c-951e5d150191",
      "metadata": {
        "id": "3b0e5e58-277e-41ef-9b1c-951e5d150191"
      },
      "outputs": [],
      "source": [
        "# Write your preprocessing here\n",
        "import pandas as pd\n",
        "\n",
        "data = pd.read_csv(\"./spam.csv\", header=None, encoding='latin-1')\n",
        "data = data[[0, 1]]\n",
        "data.columns = ['label', 'text']\n",
        "data.drop(0, inplace= True)\n",
        "\n",
        "data['label'] = data['label'].map({\"ham\": 0, \"spam\": 1})\n",
        "data"
      ]
    },
    {
      "cell_type": "code",
      "execution_count": null,
      "id": "cda0be88",
      "metadata": {},
      "outputs": [],
      "source": [
        "def tokenize(text):\n",
        "    return text.lower().split()\n",
        "\n",
        "data['tokens'] = data['text'].apply(tokenize)\n",
        "data"
      ]
    },
    {
      "cell_type": "code",
      "execution_count": null,
      "id": "994b1bf6",
      "metadata": {},
      "outputs": [],
      "source": [
        "\n",
        "from collections import Counter\n",
        "\n",
        "counter = Counter()\n",
        "for tokens in data['tokens']:\n",
        "    counter.update(tokens)\n",
        "counter"
      ]
    },
    {
      "cell_type": "code",
      "execution_count": null,
      "id": "fe458914",
      "metadata": {},
      "outputs": [],
      "source": [
        "vocab = {'<PAD>': 0, '<UNK>': 1}\n",
        "for word, freq in counter.items():\n",
        "    if word not in vocab:\n",
        "        vocab[word] = len(vocab)\n",
        "vocab"
      ]
    },
    {
      "cell_type": "code",
      "execution_count": null,
      "id": "78edbefd",
      "metadata": {},
      "outputs": [],
      "source": [
        "def tokens_to_indices(tokens, vocab):\n",
        "    return [vocab.get(token, vocab['<UNK>']) for token in tokens]\n",
        "data['indices'] = data['tokens'].apply(lambda tokens: tokens_to_indices(tokens, vocab))\n",
        "data"
      ]
    },
    {
      "cell_type": "code",
      "execution_count": null,
      "id": "ead88074",
      "metadata": {},
      "outputs": [],
      "source": [
        "from sklearn.model_selection import train_test_split\n",
        "\n",
        "train_data, test_data = train_test_split(data, test_size=0.2, random_state=42)\n",
        "print(len(train_data), len(test_data))"
      ]
    },
    {
      "cell_type": "code",
      "execution_count": null,
      "id": "65dba3ca",
      "metadata": {},
      "outputs": [],
      "source": [
        "import torch\n",
        "\n",
        "class SpamDataset(torch.utils.data.Dataset):\n",
        "    def __init__(self, df):\n",
        "        self.df = df.copy()\n",
        "        self.df.reset_index(drop=True, inplace=True)\n",
        "\n",
        "    def __len__(self):\n",
        "        return len(self.df)\n",
        "    \n",
        "    def __getitem__(self, index):\n",
        "        indices = self.df.loc[index, 'indices']\n",
        "        label = self.df.loc[index, 'label']\n",
        "        return torch.tensor(indices, dtype=torch.long), torch.tensor(label, dtype=torch.long)\n",
        "\n",
        "train_dataset = SpamDataset(train_data)\n",
        "test_dataset = SpamDataset(test_data)\n",
        "print(train_dataset, test_dataset)"
      ]
    },
    {
      "cell_type": "code",
      "execution_count": null,
      "id": "413f072f",
      "metadata": {},
      "outputs": [],
      "source": [
        "from torch.utils.data import DataLoader\n",
        "\n",
        "def collate_batch(batch):\n",
        "    texts, labels = zip(*batch)\n",
        "    texts_padded = pad_sequence(texts, batch_first=True, padding_value=vocab['<PAD>'])\n",
        "    labels = torch.stack(labels)\n",
        "    return texts_padded, labels\n",
        "\n",
        "train_loader = DataLoader(train_dataset, batch_size=32, shuffle=True, collate_fn=collate_batch)\n",
        "test_loader  = DataLoader(test_dataset, batch_size=32, shuffle=False, collate_fn=collate_batch)\n"
      ]
    },
    {
      "cell_type": "markdown",
      "id": "30ce0c59-0e94-480a-81ae-528e68356a15",
      "metadata": {
        "id": "30ce0c59-0e94-480a-81ae-528e68356a15"
      },
      "source": [
        "### 3. Model Building\n",
        "\n",
        "Define your deep learning model's architecture."
      ]
    },
    {
      "cell_type": "code",
      "execution_count": null,
      "id": "1aa3c3f7-c6c5-4419-9b25-e8d7a8ec345a",
      "metadata": {
        "id": "1aa3c3f7-c6c5-4419-9b25-e8d7a8ec345a"
      },
      "outputs": [],
      "source": [
        "# Write your code here for Model Building here\n",
        "\n",
        "# define your Deep Learning Model here, training is in the next section.\n",
        "\n",
        "from torch import nn\n",
        "import logging\n",
        "class SpamDetection(nn.Module):\n",
        "    def __init__(self, vocab_size, embed_dim, hidden_dim, num_classes, padding_idx):\n",
        "        super(SpamDetection, self).__init__()\n",
        "\n",
        "        self.vocab_size = vocab_size\n",
        "        self.embed_dim = embed_dim\n",
        "        self.hidden_dim = hidden_dim\n",
        "        self.num_classes = num_classes\n",
        "\n",
        "        self.embedding = nn.Embedding(vocab_size, embed_dim, padding_idx=padding_idx)\n",
        "        self.lstm = nn.LSTM(embed_dim, hidden_dim, batch_first=True)\n",
        "        self.fc = nn.Linear(hidden_dim, num_classes)\n",
        "\n",
        "    def forward(self, x):\n",
        "        embedded = self.embedding(x)\n",
        "        # print({\"embedded\": embedded})\n",
        "\n",
        "        lstm_out, (h_n, c_n) = self.lstm(embedded)\n",
        "        # print({\"lstm_out\": lstm_out, \"h_n\": h_n, \"c_n\": c_n})\n",
        "\n",
        "        out = self.fc(h_n[-1])\n",
        "        # print({\"out\": out})\n",
        "        return out"
      ]
    },
    {
      "cell_type": "markdown",
      "id": "585b925f-fcf0-4518-81d8-598dba65d646",
      "metadata": {
        "id": "585b925f-fcf0-4518-81d8-598dba65d646"
      },
      "source": [
        "### 4. Model Training\n",
        "\n",
        "Train your model and evaluate its performance using validation data."
      ]
    },
    {
      "cell_type": "code",
      "execution_count": null,
      "id": "ee33d9bc-2b35-4f78-b5d8-3eb65db1e361",
      "metadata": {
        "id": "ee33d9bc-2b35-4f78-b5d8-3eb65db1e361"
      },
      "outputs": [],
      "source": [
        "# Write your code here for Model Training here\n",
        "dl_loss_value = 1\n",
        "\n",
        "#define the iteration\n",
        "import torch.optim as optim\n",
        "from torch import nn\n",
        "\n",
        "vocab_size = len(vocab)\n",
        "embed_dim = 100\n",
        "hidden_dim = 128\n",
        "num_classes = 2\n",
        "padding_idx = vocab['<PAD>']\n",
        "\n",
        "model = SpamDetection(vocab_size, embed_dim, hidden_dim, num_classes, padding_idx)\n",
        "device = \"cpu\"\n",
        "model = model.to(device)\n",
        "\n",
        "criterion = nn.CrossEntropyLoss()\n",
        "optimizer = optim.Adam(model.parameters(), lr=0.001)\n",
        "\n",
        "#create the training loop\n",
        "from torch.nn.utils.rnn import pad_sequence\n",
        "from sklearn.metrics import confusion_matrix, classification_report\n",
        "\n",
        "latest_pred = {\"accuracy\": None, \"cm\": None, \"report\": None}\n",
        "num_epochs = 25\n",
        "for epoch in range(num_epochs):\n",
        "    model.train()\n",
        "    total_loss = 0\n",
        "    for texts, labels in train_loader:\n",
        "        texts, labels = texts.to(device), labels.to(device)\n",
        "        optimizer.zero_grad()\n",
        "        outputs = model(texts)\n",
        "        loss = criterion(outputs, labels)\n",
        "        loss.backward()\n",
        "        optimizer.step()\n",
        "        total_loss += loss.item()\n",
        "    avg_loss = total_loss / len(train_loader)\n",
        "    dl_loss_value = avg_loss\n",
        "    print(f\"Epoch {epoch+1}/{num_epochs}, Loss: {avg_loss:.4f}\")\n",
        "\n",
        "    all_labels = []\n",
        "    all_preds = []\n",
        "    model.eval()\n",
        "    correct = 0\n",
        "    total = 0\n",
        "    with torch.no_grad():\n",
        "        for texts, labels in test_loader:\n",
        "            texts, labels = texts.to(device), labels.to(device)\n",
        "            outputs = model(texts)\n",
        "            _, predicted = torch.max(outputs, 1)\n",
        "            total += labels.size(0)\n",
        "            correct += (predicted == labels).sum().item()\n",
        "            all_preds.extend(predicted.cpu().numpy())\n",
        "            all_labels.extend(labels.cpu().numpy())\n",
        "\n",
        "    accuracy = 100 * correct / total\n",
        "    cm = confusion_matrix(all_labels, all_preds)\n",
        "    report = classification_report(all_labels, all_preds, target_names=['ham', 'spam'])\n",
        "\n",
        "    latest_pred[\"accuracy\"] = accuracy\n",
        "    latest_pred[\"cm\"] = cm\n",
        "    latest_pred[\"report\"] = report\n",
        "\n",
        "\n",
        "print(\"Training complete!\")\n"
      ]
    },
    {
      "cell_type": "markdown",
      "id": "1d391ec9-ca95-4c56-b4f6-fccf8e0be14a",
      "metadata": {
        "id": "1d391ec9-ca95-4c56-b4f6-fccf8e0be14a"
      },
      "source": [
        "### 5. Model Evaluation\n",
        "Evaluate your model's performance on the test data using the grading scheme defined above."
      ]
    },
    {
      "cell_type": "code",
      "execution_count": null,
      "id": "c8ca8f78-e33c-4552-9f4d-8bed711e661f",
      "metadata": {
        "id": "c8ca8f78-e33c-4552-9f4d-8bed711e661f"
      },
      "outputs": [],
      "source": [
        "print(f\"accuracy: {latest_pred['accuracy']}\")\n",
        "\n",
        "print(\"confusion matrix:\")\n",
        "print(latest_pred['cm'])\n",
        "\n",
        "print(\"classification report:\")\n",
        "print(latest_pred['report'])\n",
        "\n",
        "# Write your code here for Model Evaluation here\n",
        "dl_accuracy = latest_pred['accuracy']\n",
        "\n",
        "#define the iteration\n",
        "\n",
        "#create the training loop\n"
      ]
    },
    {
      "cell_type": "markdown",
      "id": "5d59af48-18c0-4e40-80ff-33a85030b205",
      "metadata": {
        "id": "5d59af48-18c0-4e40-80ff-33a85030b205"
      },
      "source": [
        "## Submission\n",
        "\n",
        "Once you are satisfied with the performance of your model, then you run the code block below to submit your project.\n"
      ]
    },
    {
      "cell_type": "code",
      "execution_count": null,
      "id": "010d7f7f-711d-4f41-82a3-3c2562e59709",
      "metadata": {
        "id": "010d7f7f-711d-4f41-82a3-3c2562e59709"
      },
      "outputs": [],
      "source": [
        "# Submit Method\n",
        "\n",
        "# Do not change the code below\n",
        "question_id = \"01_dl_project_accuracy\"\n",
        "submit(student_id, name, assignment_id, str(dl_accuracy), question_id, drive_link)\n",
        "question_id = \"02_dl_project_loss_value\"\n",
        "submit(student_id, name, assignment_id, str(dl_loss_value), question_id, drive_link)"
      ]
    },
    {
      "cell_type": "markdown",
      "id": "aa89b9ff-0d31-416a-b3c4-851c725fadf7",
      "metadata": {
        "id": "aa89b9ff-0d31-416a-b3c4-851c725fadf7"
      },
      "source": [
        "## FIN"
      ]
    }
  ],
  "metadata": {
    "colab": {
      "include_colab_link": true,
      "provenance": []
    },
    "kernelspec": {
      "display_name": "Python 3 (ipykernel)",
      "language": "python",
      "name": "python3"
    },
    "language_info": {
      "codemirror_mode": {
        "name": "ipython",
        "version": 3
      },
      "file_extension": ".py",
      "mimetype": "text/x-python",
      "name": "python",
      "nbconvert_exporter": "python",
      "pygments_lexer": "ipython3",
      "version": "3.11.3"
    }
  },
  "nbformat": 4,
  "nbformat_minor": 5
}
