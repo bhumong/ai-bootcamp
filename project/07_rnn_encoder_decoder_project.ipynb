{
  "cells": [
    {
      "cell_type": "markdown",
      "metadata": {
        "id": "view-in-github",
        "colab_type": "text"
      },
      "source": [
        "<a href=\"https://colab.research.google.com/github/bhumong/ai-bootcamp/blob/main/project/07_rnn_encoder_decoder_project.ipynb\" target=\"_parent\"><img src=\"https://colab.research.google.com/assets/colab-badge.svg\" alt=\"Open In Colab\"/></a>"
      ]
    },
    {
      "cell_type": "markdown",
      "metadata": {
        "id": "ncwsyGuG3hQV"
      },
      "source": [
        "# Project: NLP - RNN Encoder Decoder"
      ]
    },
    {
      "cell_type": "markdown",
      "metadata": {
        "id": "lTJ3566r3hQX"
      },
      "source": [
        "**Instructions for Students:**\n",
        "\n",
        "Please carefully follow these steps to complete and submit your project:\n",
        "\n",
        "1. **Make a copy of the Project**: Please make a copy of this project either to your own Google Drive or download locally. Work on the copy of the project. The master project is **Read-Only**, meaning you can edit, but it will not be saved when you close the master project. To avoid total loss of your work, remember to make a copy.\n",
        "\n",
        "2. **Completing the Project**: You are required to work on and complete all tasks in the provided project. Be disciplined and ensure that you thoroughly engage with each task.\n",
        "   \n",
        "3. **Creating a Google Drive Folder**: Each of you must create a new folder on your Google Drive. This will be the repository for all your completed project files, aiding you in keeping your work organized and accessible.\n",
        "   \n",
        "4. **Uploading Completed Project**: Upon completion of your project, make sure to upload all necessary files, involving codes, reports, and related documents into the created Google Drive folder. Save this link in the 'Student Identity' section and also provide it as the last parameter in the `submit` function that has been provided.\n",
        "   \n",
        "5. **Sharing Folder Link**: You're required to share the link to your project Google Drive folder. This is crucial for the submission and evaluation of your project.\n",
        "   \n",
        "6. **Setting Permission to Public**: Please make sure your Google Drive folder is set to public. This allows your instructor to access your solutions and assess your work correctly.\n",
        "\n",
        "Adhering to these procedures will facilitate a smooth project evaluation process for you and the reviewers."
      ]
    },
    {
      "cell_type": "markdown",
      "metadata": {
        "id": "T_jxt8DW3hQY"
      },
      "source": [
        "## Grading Criteria\n",
        "\n",
        "There are 15 criterias in this project, all have the same weight divided into three: 5 criterias for RNN Encoder Project-1, 7 criterias for RNN Encoder Project-2 and 3 criterias for RNN Decoder Project-1. Each criteria will give you either 100 point if you are correct and 0 if you are wrong. The final score for the project will the the average of all 15 tasks.\n",
        "\n",
        "* Criteria 1, Encoder RNN Project-1: This task will assess your ability in understanding how RNN Encoder works by evaluating the values for word embeddings (likeness, beverage, bos).\n",
        "\n",
        "* Criteria 2, Encoder RNN Project-1: Same as Criteria 1.\n",
        "\n",
        "* Criteria 3, Encoder RNN Project-1: Same as Criteria 1.\n",
        "\n",
        "* Criteria 4, Encoder RNN Project-1: Same as Criteria 1.\n",
        "\n",
        "* Criteria 5, Encoder RNN Project-1: Same as Criteria 1.\n",
        "\n",
        "* Criteria 6, Encoder RNN Project-2: This task will assess your ability in understanding how RNN Encoder works by evaluating the values for word embeddings (likeness, beverage, fruits, bos).\n",
        "\n",
        "* Criteria 7, Encoder RNN Project-2: Same as Criteria 6.\n",
        "\n",
        "* Criteria 8, Encoder RNN Project-2: Same as Criteria 6.\n",
        "\n",
        "* Criteria 9, Encoder RNN Project-2: Same as Criteria 6.\n",
        "\n",
        "* Criteria 10, Encoder RNN Project-2: Same as Criteria 6.\n",
        "\n",
        "* Criteria 11, Encoder RNN Project-2: Same as Criteria 6.\n",
        "\n",
        "* Criteria 12, Encoder RNN Project-2: Same as Criteria 6.\n",
        "\n",
        "* Criteria 13, Decoder RNN Project-3: This task will assess your ability to understand how RNN Decoder works by evaluating the values for word embeddings and choosing the most probable next word.\n",
        "\n",
        "* Criteria 14, Decoder RNN Project-3: Same as Criteria 13.\n",
        "\n",
        "* Criteria 15, Decoder RNN Project-3: Same as Criteria 13.\n"
      ]
    },
    {
      "cell_type": "markdown",
      "metadata": {
        "id": "QHjRkIfb3hQY"
      },
      "source": [
        "## Student Identity"
      ]
    },
    {
      "cell_type": "code",
      "execution_count": null,
      "metadata": {
        "id": "WKM3oZoV3hQY"
      },
      "outputs": [],
      "source": [
        "# @title #### Student Identity\n",
        "student_id = \"\" # @param {type:\"string\"}\n",
        "name = \"\" # @param {type:\"string\"}\n",
        "# Don't forget to fill in the link to your Google Sheet\n",
        "link_to_gsheet = \"\"  # @param {type:\"string\"}"
      ]
    },
    {
      "cell_type": "markdown",
      "metadata": {
        "id": "vUjagW6Z3hQZ"
      },
      "source": [
        "## Import package"
      ]
    },
    {
      "cell_type": "code",
      "execution_count": null,
      "metadata": {
        "id": "bpw7WulM3hQa"
      },
      "outputs": [],
      "source": [
        "!pip install rggrader\n",
        "from rggrader import submit"
      ]
    },
    {
      "cell_type": "markdown",
      "metadata": {
        "id": "FW9RxME-3hQa"
      },
      "source": [
        "## Encoder RNN Project 1"
      ]
    },
    {
      "cell_type": "markdown",
      "metadata": {
        "id": "NHm_UtpX3hQa"
      },
      "source": [
        "**Copy the Provided Google Sheets File**: Make a copy of the provided [Encoder RNN base Google Sheets file](https://docs.google.com/spreadsheets/d/1qhbYFykF0T9QwpywUIJ5p-VnlwZUhxq9P_GrJY2lZE0/edit?usp=sharing). This copied file will serve as the repository for all your completed project files.\n",
        "\n",
        "Your task is to modify the network to process a new sentence. Please use the following sentence for your task: **\"aku suka coklat\"**.\n",
        "\n",
        "Submit the **cell calculation -> tanh** _(3rd timestep)_  for the \"since_bos\", \"since_likeness\", \"likeness\", \"since_beverages\" and \"beverages\" feature.\n",
        "\n",
        "> **Notes**: Do not change the values of the sheet \"Weights and bias\" and \"Encoder embedding\"!\n"
      ]
    },
    {
      "cell_type": "code",
      "execution_count": null,
      "metadata": {
        "id": "6kLzPIdl3hQa"
      },
      "outputs": [],
      "source": [
        "# Please clone the Google Sheet and do your calculation there\n",
        "\n",
        "# Please change this\n",
        "final_hidden_state_since_bos = 0\n",
        "final_hidden_state_since_likeness = 0\n",
        "final_hidden_state_likeness = 0\n",
        "final_hidden_state_since_beverages = 0\n",
        "final_hidden_state_beverages = 0\n",
        "\n",
        "print(f\"The final hidden_state for 'since_bos' is {final_hidden_state_since_bos}\")\n",
        "print(f\"The final hidden_state for 'since_likeness' is {final_hidden_state_since_likeness}\")\n",
        "print(f\"The final hidden_state for 'likeness' is {final_hidden_state_likeness}\")\n",
        "print(f\"The final hidden_state for 'since_beverages' is {final_hidden_state_since_beverages}\")\n",
        "print(f\"The final hidden_state for 'beverages' is {final_hidden_state_beverages}\")\n",
        "\n",
        "assignment_id = \"00-encoder-rnn-project-1\"\n",
        "submit(student_id, name, assignment_id, str(final_hidden_state_since_bos), \"q1_final_hidden_state_since_bos\", link_to_gsheet)\n",
        "submit(student_id, name, assignment_id, str(final_hidden_state_since_likeness), \"q1_final_hidden_state_since_likeness\", link_to_gsheet)\n",
        "submit(student_id, name, assignment_id, str(final_hidden_state_likeness), \"q1_final_hidden_state_likeness\", link_to_gsheet)\n",
        "submit(student_id, name, assignment_id, str(final_hidden_state_since_beverages), \"q1_final_hidden_state_since_beverages\", link_to_gsheet)\n",
        "submit(student_id, name, assignment_id, str(final_hidden_state_beverages), \"q1_final_hidden_state_beverages\", link_to_gsheet)"
      ]
    },
    {
      "cell_type": "markdown",
      "metadata": {
        "id": "N0jCAX7G3hQb"
      },
      "source": [
        "## Encoder RNN Project 2"
      ]
    },
    {
      "cell_type": "markdown",
      "metadata": {
        "id": "DN4BTpAw3hQb"
      },
      "source": [
        "Use the copy of the provided Encoder RNN base Google Sheets file: [Encoder RNN base Google Sheets file](https://docs.google.com/spreadsheets/d/1qhbYFykF0T9QwpywUIJ5p-VnlwZUhxq9P_GrJY2lZE0/edit?usp=sharing) that you used in Encoder RNN Project 1.\n",
        "\n",
        "Your task is to modify the network and the encoding scheme to process the following sentence: **\"aku tidak suka apel\"**.\n",
        "\n",
        "Please follow the steps below:\n",
        "\n",
        "1. Add a new feature \"fruits\" to the network in the 'Weights and bias' sheet. Set the corresponding weights for each word as follows:\n",
        "   - aku: 0 (Because \"aku\" is not a fruit)\n",
        "   - suka: 0 (Because \"suka\" is not a fruit)\n",
        "   - tidak: 0 (Because \"tidak\" is not a fruit)\n",
        "   - coklat: 0 (Because \"coklat\" is not a fruit)\n",
        "   - jus: 0 (Because \"jus\" is not a fruit)\n",
        "   - apel: 5 (Because \"apel\" is a fruit)\n",
        "   - jeruk: -5 (Because \"jeruk\" is a fruit)\n",
        "\n",
        "   Add new feature \"since_fruits\" with 0 in all words.\n",
        "\n",
        "2. Update the weights for all features for the word \"apel\" and \"jeruk\" as follows:\n",
        "   - \"since_bos\": 0\n",
        "   - \"since_likeness\": 0\n",
        "   - \"likeness\": 0 (Because there is no statement of likeness or dislike associated with \"apel\" and \"jeruk\" in this sentence)\n",
        "   - \"since_beverage\": 0\n",
        "   - \"beverage\": 0 (Because \"apel\" and \"jeruk\" are not beverages)\n",
        "\n",
        "3. On the 'Encoder embedding' sheet, add the one-hot encoded vectors for `[0, 0, 0, 0, 0, 1, 0]` for \"apel\" and `[0, 0, 0, 0, 0, 0, 1]` for \"jeruk\"\n",
        "\n",
        "4. Calculate the hidden states and the corresponding tanh calculations for each timestep.\n",
        "\n",
        "Submit the **cell calculation -> tanh** _(4th timestep)_ for the \"since_bos\", \"since_likeness\", \"likeness\", \"since_beverages\", \"beverages\", \"since_fruits\" and \"fruits\" features."
      ]
    },
    {
      "cell_type": "code",
      "execution_count": null,
      "metadata": {
        "id": "4nxkKlhk3hQb"
      },
      "outputs": [],
      "source": [
        "# Please clone the Google Sheet and do your calculation there\n",
        "\n",
        "# Please change these\n",
        "final_hidden_state_since_bos = 0\n",
        "final_hidden_state_since_likeness = 0\n",
        "final_hidden_state_likeness = 0\n",
        "final_hidden_state_since_beverages = 0\n",
        "final_hidden_state_beverages = 0\n",
        "final_hidden_state_since_fruits = 0\n",
        "final_hidden_state_fruits = 0\n",
        "\n",
        "print(f\"The final hidden_state for 'since_bos' is {final_hidden_state_since_bos}\")\n",
        "print(f\"The final hidden_state for 'since_likeness' is {final_hidden_state_since_likeness}\")\n",
        "print(f\"The final hidden_state for 'likeness' is {final_hidden_state_likeness}\")\n",
        "print(f\"The final hidden_state for 'since_beverages' is {final_hidden_state_since_beverages}\")\n",
        "print(f\"The final hidden_state for 'beverages' is {final_hidden_state_beverages}\")\n",
        "print(f\"The final hidden_state for 'since_fruits' is {final_hidden_state_since_fruits}\")\n",
        "print(f\"The final hidden_state for 'fruits' is {final_hidden_state_fruits}\")\n",
        "\n",
        "assignment_id = \"01-encoder-rnn-project-2\"\n",
        "submit(student_id, name, assignment_id, str(final_hidden_state_since_bos), \"q2_final_hidden_state_since_bos\", link_to_gsheet)\n",
        "submit(student_id, name, assignment_id, str(final_hidden_state_since_likeness), \"q2_final_hidden_state_since_likeness\", link_to_gsheet)\n",
        "submit(student_id, name, assignment_id, str(final_hidden_state_likeness), \"q2_final_hidden_state_likeness\", link_to_gsheet)\n",
        "submit(student_id, name, assignment_id, str(final_hidden_state_since_beverages), \"q2_final_hidden_state_since_beverages\", link_to_gsheet)\n",
        "submit(student_id, name, assignment_id, str(final_hidden_state_beverages), \"q2_final_hidden_state_beverages\", link_to_gsheet)\n",
        "submit(student_id, name, assignment_id, str(final_hidden_state_since_fruits), \"q2_final_hidden_state_since_fruits\", link_to_gsheet)\n",
        "submit(student_id, name, assignment_id, str(final_hidden_state_fruits), \"q2_final_hidden_state_fruits\", link_to_gsheet)"
      ]
    },
    {
      "cell_type": "markdown",
      "metadata": {
        "id": "ZJqBIcFp3hQb"
      },
      "source": [
        "## Decoder RNN Project 3"
      ]
    },
    {
      "cell_type": "markdown",
      "metadata": {
        "id": "LDvT3_pA3hQc"
      },
      "source": [
        "**Copy the Provided Google Sheets File**: Make a copy of the provided [Decoder RNN base Google Sheets file](https://docs.google.com/spreadsheets/d/1PM8hxXDTYR9jObl9oS4i2M-5PpUbbWIgBbnKDC9O02I/edit?usp=sharing). This copied file will serve as the repository for all your completed project files.\n",
        "\n",
        "Building on your work with the **Encoder in Project 2**, we now turn our attention to the Decoder part of our Recurrent Neural Network (RNN), used for machine translation. In this phase, the hidden states generated by the Encoder serve as inputs for the Decoder. The following steps provide guidance on how to manipulate these hidden states in the Decoder to generate our desired output sequence.\n",
        "\n",
        "1. **Copy the Last Hidden State from the Encoder**:\n",
        "    - Start by identifying the last hidden state from the encoder. This can be found in the final column of 'hidden state' on the encoder sheet.\n",
        "    - Once found, copy these values and paste them into the 'hidden state (prev)' row for the first timestep in the decoder sheet.\n",
        "\n",
        "      > **Note:** We only need to copy and paste the value, not the formula, so use `ctrl+shift+v` or \"Paste by Value\" methods to ensure that you're pasting the text correctly.\n",
        "\n",
        "2. **Identify the Most Probable Word for Timestep 1**:\n",
        "    - Look at the 'Output probability' section for the first timestep in the decoder sheet.\n",
        "    - The most probable word would be the one with the highest value. Identify this word.\n",
        "\n",
        "3. **Input the Most Probable Word in Timestep 2**:\n",
        "    - After identifying the most probable word from timestep 1, input this word into the 'Input' row for timestep 2 on the decoder sheet.\n",
        "    - Also, update the 'Word embedding' row for timestep 2 to match the one-hot encoded vector for the identified word.\n",
        "\n",
        "4. **Continue the Process Until the Last Timestep**:\n",
        "    - Repeat steps 2 and 3 for each subsequent timestep until you reach the final timestep.\n",
        "    - For the final timestep, the input should be `[eos]` which signals the end of the sentence.\n",
        "\n",
        "Remember, the goal of the RNN Decoder is to generate a sequence of words, so it's crucial to ensure the inputs, hidden states, and activities are updated correctly at each timestep."
      ]
    },
    {
      "cell_type": "markdown",
      "metadata": {
        "id": "vJFz4xOx3hQc"
      },
      "source": [
        "**For example**, consider the following image:\n",
        "\n",
        "![Alt text](https://storage.googleapis.com/rg-ai-bootcamp/projects/image.png)"
      ]
    },
    {
      "cell_type": "markdown",
      "metadata": {
        "id": "4cFaM9UV3hQc"
      },
      "source": [
        "Once you've followed the instructions and completed the calculations in your cloned Google Sheet, the next step is to submit your results. In this process, you will be focusing on the **final hidden state** for four features: 'likeness', 'beverages' and 'fruits'.\n",
        "\n",
        "You'll need to assign the final probabilities for these features to the variables `final_eos_likeness`, `final_eos_beverages`, and `final_eos_fruits` respectively. Then, use the `submit` function provided to submit your results along with the Google Sheet link. Ensure you're submitting under the correct assignment_id, and the specific question identifier."
      ]
    },
    {
      "cell_type": "code",
      "execution_count": null,
      "metadata": {
        "id": "3wHYOxN23hQc"
      },
      "outputs": [],
      "source": [
        "# Clone the provided Google Sheet and do your calculation there\n",
        "\n",
        "# Please input your results in the following variables\n",
        "final_eos_likeness = 0\n",
        "final_eos_beverages = 0\n",
        "final_eos_fruits = 0\n",
        "\n",
        "print(f\"The final probability for '[final_eos_likeness]' is {final_eos_likeness}\")\n",
        "print(f\"The final probability for '[final_eos_beverages]' is {final_eos_beverages}\")\n",
        "print(f\"The final probability for '[final_eos_fruits]' is {final_eos_fruits}\")\n",
        "\n",
        "assignment_id = \"00-decoder-rnn-project-1\"\n",
        "# Submit your answers here\n",
        "submit(student_id, name, assignment_id, str(final_eos_likeness), \"q1_final_hidden_state_eos_likeness\", link_to_gsheet)\n",
        "submit(student_id, name, assignment_id, str(final_eos_beverages), \"q1_final_hidden_state_eos_beverages\", link_to_gsheet)\n",
        "submit(student_id, name, assignment_id, str(final_eos_fruits), \"q1_final_hidden_state_eos_fruits\", link_to_gsheet)"
      ]
    }
  ],
  "metadata": {
    "kernelspec": {
      "display_name": "Python 3 (ipykernel)",
      "language": "python",
      "name": "python3"
    },
    "language_info": {
      "codemirror_mode": {
        "name": "ipython",
        "version": 3
      },
      "file_extension": ".py",
      "mimetype": "text/x-python",
      "name": "python",
      "nbconvert_exporter": "python",
      "pygments_lexer": "ipython3",
      "version": "3.11.3"
    },
    "colab": {
      "provenance": [],
      "include_colab_link": true
    }
  },
  "nbformat": 4,
  "nbformat_minor": 0
}