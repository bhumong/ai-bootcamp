{
  "cells": [
    {
      "cell_type": "markdown",
      "metadata": {
        "colab_type": "text",
        "id": "view-in-github"
      },
      "source": [
        "<a href=\"https://colab.research.google.com/github/bhumong/ai-bootcamp/blob/main/project/05_database_project.ipynb\" target=\"_parent\"><img src=\"https://colab.research.google.com/assets/colab-badge.svg\" alt=\"Open In Colab\"/></a>"
      ]
    },
    {
      "cell_type": "markdown",
      "id": "def8e46c-7606-4991-9b29-9223ccacd54b",
      "metadata": {
        "id": "def8e46c-7606-4991-9b29-9223ccacd54b"
      },
      "source": [
        "# Project: Database"
      ]
    },
    {
      "cell_type": "markdown",
      "id": "911a145c-7d01-4210-9699-0e1fef80ff19",
      "metadata": {
        "id": "911a145c-7d01-4210-9699-0e1fef80ff19"
      },
      "source": [
        "**Instructions for Students:**\n",
        "\n",
        "Please carefully follow these steps to complete and submit your project:\n",
        "\n",
        "1. **Make a copy of the Project**: Please make a copy of this project either to your own Google Drive or download locally. Work on the copy of the project. The master project is **Read-Only**, meaning you can edit, but it will not be saved when you close the master project. To avoid total loss of your work, remember to make a copy.\n",
        "\n",
        "2. **Completing the Project**: You are required to work on and complete all tasks in the provided project. Be disciplined and ensure that you thoroughly engage with each task.\n",
        "   \n",
        "3. **Creating a Google Drive Folder**: Each of you must create a new folder on your Google Drive. This will be the repository for all your completed project files, aiding you in keeping your work organized and accessible.\n",
        "   \n",
        "4. **Uploading Completed Project**: Upon completion of your project, make sure to upload all necessary files, involving codes, reports, and related documents into the created Google Drive folder. Save this link in the 'Student Identity' section and also provide it as the last parameter in the `submit` function that has been provided.\n",
        "   \n",
        "5. **Sharing Folder Link**: You're required to share the link to your project Google Drive folder. This is crucial for the submission and evaluation of your project.\n",
        "   \n",
        "6. **Setting Permission to Public**: Please make sure your Google Drive folder is set to public. This allows your instructor to access your solutions and assess your work correctly.\n",
        "\n",
        "Adhering to these procedures will facilitate a smooth project evaluation process for you and the reviewers."
      ]
    },
    {
      "cell_type": "markdown",
      "id": "d3b9e0f7-75d2-476a-9b29-07c1a3800925",
      "metadata": {
        "id": "d3b9e0f7-75d2-476a-9b29-07c1a3800925"
      },
      "source": [
        "## Project Description\n",
        "\n",
        "In this project, you'll work with the Kaggle E-commerce dataset. Your tasks are to import this dataset into a SQLite database, explore it using SQL to identify key attributes and patterns, and perform basic data cleaning procedures. This project is designed to improve your skills in database management, SQL usage, and data cleaning."
      ]
    },
    {
      "cell_type": "markdown",
      "id": "828e87fd-b41c-41a2-a243-139017327661",
      "metadata": {
        "id": "828e87fd-b41c-41a2-a243-139017327661"
      },
      "source": [
        "## Grading Criteria\n",
        "\n",
        "There are 13 criterias in this project, all have the same weight divided into two: 8 criterias for SQL and 5 criterias for Elasticssearch. Each task will give you either 100 point if you are correct and 0 if you are wrong. The final score for the project will the the average of all 13 tasks.\n",
        "\n",
        "* Criteria 1, Task I.3: This task will assess your ability to create an SQL database, in this case using sqlite. To ensure correct data is imported, this will check that database table have the correct amount of columns and the correct column names. This will ensure a uniform dataset for all students.\n",
        "\n",
        "* Criteria 2, Task I.3: Same as Criteria 1, instead of columns, this will check that the total rows of data in the table is correct. This will ensure a uniform dataset for all students.\n",
        "\n",
        "* Criteria 3, Task I.3.4 query 1: The task will assess your ability to understand and perform basic dataset check, that one row in the database does not guarantee uniqueness for individual columns.\n",
        "\n",
        "* Criteria 4, Task I.3.4 query 1: Same as Criteria 3.\n",
        "\n",
        "* Criteria 5, Task I.3.4 query 2: This task will assess your ability to create a SQL query that will get the data, perform arithmetic operations on the data, sort and limit the data returned.\n",
        "\n",
        "* Criteria 6, Task I.3.4 query 3: Same as Criteria 5.\n",
        "\n",
        "* Criteria 7, Task I.3.4 query 4: This task will assess your ability to create a SQL query that will get the data, perform arithmetic operations on the data, sort, limit the data and structure the result in a concise format where the all the data are retrieved and presented in a format that is easy to understand can be further processed through programming.\n",
        "\n",
        "* Criteria 8, Task I.3.4 query 5: Same as Criteria 7.\n",
        "\n",
        "* Criteria 9, Task II.3: This task will assess your ability to create an Elasticsearch Index. To ensure correct data is imported, this will check that the index have the correct amount of columns the the correct column names. This will ensure a uniform dataset for all students.\n",
        "\n",
        "* Criteria 10, Task II.3: Same as Criteria 9, instead of columns, this will check that the total rows of data in the table is correct. This will ensure a uniform dataset for all students.\n",
        "\n",
        "* Criteria 11, Task II.4 query 1: This task will assess your ability to perform a basic elastic search and return the result.\n",
        "\n",
        "* Criteria 12, Task II.4 query 2: This task will assess your ability to perform an elastic search, perform arithmetic operations on the data and return the result.\n",
        "\n",
        "* Criteria 13, Task II.4 query 3: This task will assess your ability to perform an elastic search, perform arithmetic operations on the data, sort and limit the data returned.\n"
      ]
    },
    {
      "cell_type": "markdown",
      "id": "8018f21d-d661-4ae4-a50d-9fb66feb291d",
      "metadata": {
        "id": "8018f21d-d661-4ae4-a50d-9fb66feb291d"
      },
      "source": [
        "## Student Identity"
      ]
    },
    {
      "cell_type": "code",
      "execution_count": 14,
      "id": "9fc57472-0432-474a-b1f7-c825edfc007a",
      "metadata": {
        "id": "9fc57472-0432-474a-b1f7-c825edfc007a"
      },
      "outputs": [
        {
          "name": "stdout",
          "output_type": "stream",
          "text": [
            "Requirement already satisfied: rggrader in /Users/samuel-sqe/DEV/TEST_AREA/ai-bootcamp/.venv/lib/python3.10/site-packages (0.1.6)\n",
            "Requirement already satisfied: requests in /Users/samuel-sqe/DEV/TEST_AREA/ai-bootcamp/.venv/lib/python3.10/site-packages (from rggrader) (2.32.3)\n",
            "Requirement already satisfied: pandas in /Users/samuel-sqe/DEV/TEST_AREA/ai-bootcamp/.venv/lib/python3.10/site-packages (from rggrader) (2.2.3)\n",
            "Requirement already satisfied: Pillow in /Users/samuel-sqe/DEV/TEST_AREA/ai-bootcamp/.venv/lib/python3.10/site-packages (from rggrader) (11.1.0)\n",
            "Requirement already satisfied: numpy>=1.22.4 in /Users/samuel-sqe/DEV/TEST_AREA/ai-bootcamp/.venv/lib/python3.10/site-packages (from pandas->rggrader) (2.2.1)\n",
            "Requirement already satisfied: python-dateutil>=2.8.2 in /Users/samuel-sqe/DEV/TEST_AREA/ai-bootcamp/.venv/lib/python3.10/site-packages (from pandas->rggrader) (2.9.0.post0)\n",
            "Requirement already satisfied: pytz>=2020.1 in /Users/samuel-sqe/DEV/TEST_AREA/ai-bootcamp/.venv/lib/python3.10/site-packages (from pandas->rggrader) (2024.2)\n",
            "Requirement already satisfied: tzdata>=2022.7 in /Users/samuel-sqe/DEV/TEST_AREA/ai-bootcamp/.venv/lib/python3.10/site-packages (from pandas->rggrader) (2024.2)\n",
            "Requirement already satisfied: charset-normalizer<4,>=2 in /Users/samuel-sqe/DEV/TEST_AREA/ai-bootcamp/.venv/lib/python3.10/site-packages (from requests->rggrader) (3.4.1)\n",
            "Requirement already satisfied: idna<4,>=2.5 in /Users/samuel-sqe/DEV/TEST_AREA/ai-bootcamp/.venv/lib/python3.10/site-packages (from requests->rggrader) (3.10)\n",
            "Requirement already satisfied: urllib3<3,>=1.21.1 in /Users/samuel-sqe/DEV/TEST_AREA/ai-bootcamp/.venv/lib/python3.10/site-packages (from requests->rggrader) (2.3.0)\n",
            "Requirement already satisfied: certifi>=2017.4.17 in /Users/samuel-sqe/DEV/TEST_AREA/ai-bootcamp/.venv/lib/python3.10/site-packages (from requests->rggrader) (2024.12.14)\n",
            "Requirement already satisfied: six>=1.5 in /Users/samuel-sqe/DEV/TEST_AREA/ai-bootcamp/.venv/lib/python3.10/site-packages (from python-dateutil>=2.8.2->pandas->rggrader) (1.17.0)\n",
            "\n",
            "\u001b[1m[\u001b[0m\u001b[34;49mnotice\u001b[0m\u001b[1;39;49m]\u001b[0m\u001b[39;49m A new release of pip is available: \u001b[0m\u001b[31;49m24.3.1\u001b[0m\u001b[39;49m -> \u001b[0m\u001b[32;49m25.0.1\u001b[0m\n",
            "\u001b[1m[\u001b[0m\u001b[34;49mnotice\u001b[0m\u001b[1;39;49m]\u001b[0m\u001b[39;49m To update, run: \u001b[0m\u001b[32;49mpip install --upgrade pip\u001b[0m\n"
          ]
        }
      ],
      "source": [
        "# @title #### Student Identity\n",
        "student_id = \"\" # @param {type:\"string\"}\n",
        "name = \"\" # @param {type:\"string\"}\n",
        "drive_link = \"\"  # @param {type:\"string\"}\n",
        "\n",
        "assignment_id = \"00_database_project\"\n",
        "\n",
        "# Import grader package\n",
        "!pip install rggrader\n",
        "# from rggrader import submit, submit_image\n",
        "def submit(*args):\n",
        "    pass\n",
        "def submit_image(*args):\n",
        "    pass"
      ]
    },
    {
      "cell_type": "markdown",
      "id": "84fea308-2c09-472c-a5ec-e4ba0900d496",
      "metadata": {
        "id": "84fea308-2c09-472c-a5ec-e4ba0900d496"
      },
      "source": [
        "Rmember to make a copy of this notebook in your Google Drive and work in your own copy."
      ]
    },
    {
      "cell_type": "markdown",
      "id": "e0b68327-fc7b-43de-9f16-b058d11d775b",
      "metadata": {
        "id": "e0b68327-fc7b-43de-9f16-b058d11d775b"
      },
      "source": [
        "## I. Loading and Querying with SQL\n",
        "\n",
        "In this task, you will use Kaggle E-commerce dataset. You need to download it from the link here: [Kaggle E-commerce data](https://www.kaggle.com/datasets/carrie1/ecommerce-data?select=data.csv).\n",
        "\n",
        "After you download the dataset, you will then import the dataset into SQL format, using SQLite."
      ]
    },
    {
      "cell_type": "markdown",
      "id": "25ecc459-5019-42d8-84a6-8644cecafef3",
      "metadata": {
        "id": "25ecc459-5019-42d8-84a6-8644cecafef3"
      },
      "source": [
        "### I.1. Package and Module Installation\n",
        "\n",
        "First, let's pool all package and module that you'll need in the installation section below."
      ]
    },
    {
      "cell_type": "code",
      "execution_count": 19,
      "id": "6c5dfb70",
      "metadata": {},
      "outputs": [
        {
          "name": "stdout",
          "output_type": "stream",
          "text": [
            "Collecting sqlalchemy\n",
            "  Downloading SQLAlchemy-2.0.38-cp310-cp310-macosx_11_0_arm64.whl.metadata (9.6 kB)\n",
            "Requirement already satisfied: typing-extensions>=4.6.0 in /Users/samuel-sqe/DEV/TEST_AREA/ai-bootcamp/.venv/lib/python3.10/site-packages (from sqlalchemy) (4.12.2)\n",
            "Downloading SQLAlchemy-2.0.38-cp310-cp310-macosx_11_0_arm64.whl (2.1 MB)\n",
            "\u001b[2K   \u001b[90m━━━━━━━━━━━━━━━━━━━━━━━━━━━━━━━━━━━━━━━━\u001b[0m \u001b[32m2.1/2.1 MB\u001b[0m \u001b[31m3.9 MB/s\u001b[0m eta \u001b[36m0:00:00\u001b[0ma \u001b[36m0:00:01\u001b[0m\n",
            "\u001b[?25hInstalling collected packages: sqlalchemy\n",
            "Successfully installed sqlalchemy-2.0.38\n",
            "\n",
            "\u001b[1m[\u001b[0m\u001b[34;49mnotice\u001b[0m\u001b[1;39;49m]\u001b[0m\u001b[39;49m A new release of pip is available: \u001b[0m\u001b[31;49m24.3.1\u001b[0m\u001b[39;49m -> \u001b[0m\u001b[32;49m25.0.1\u001b[0m\n",
            "\u001b[1m[\u001b[0m\u001b[34;49mnotice\u001b[0m\u001b[1;39;49m]\u001b[0m\u001b[39;49m To update, run: \u001b[0m\u001b[32;49mpip install --upgrade pip\u001b[0m\n"
          ]
        }
      ],
      "source": [
        "!pip install sqlalchemy"
      ]
    },
    {
      "cell_type": "code",
      "execution_count": null,
      "id": "ec747e10",
      "metadata": {},
      "outputs": [],
      "source": [
        "#!/bin/bash\n",
        "!kaggle datasets download carrie1/ecommerce-data"
      ]
    },
    {
      "cell_type": "code",
      "execution_count": 1,
      "id": "f76d7005",
      "metadata": {},
      "outputs": [
        {
          "name": "stdout",
          "output_type": "stream",
          "text": [
            "Archive:  ecommerce-data.zip\n",
            "  inflating: data.csv                \n"
          ]
        }
      ],
      "source": [
        "!unzip ecommerce-data.zip"
      ]
    },
    {
      "cell_type": "code",
      "execution_count": null,
      "id": "62606ca1-5868-4c65-93ef-1d6ee8d8d59a",
      "metadata": {
        "id": "62606ca1-5868-4c65-93ef-1d6ee8d8d59a"
      },
      "outputs": [],
      "source": [
        "# Write any package/module installation that you need\n",
        "# pip install goes here, this helps declutter your output below\n",
        "\n"
      ]
    },
    {
      "cell_type": "markdown",
      "id": "b0837717-de95-4193-9898-e2f4cadfcfc6",
      "metadata": {
        "id": "b0837717-de95-4193-9898-e2f4cadfcfc6"
      },
      "source": [
        "### I.2. Data Loading and SQL CREATE and INSERT to database table\n",
        "\n",
        "Now you can create the database and tables. Follow the same column naming as the dataset.\n",
        "\n",
        "Next insert all the data from the dataset into the table in the database."
      ]
    },
    {
      "cell_type": "code",
      "execution_count": 15,
      "id": "e3dc6ce6",
      "metadata": {},
      "outputs": [
        {
          "data": {
            "text/html": [
              "<div>\n",
              "<style scoped>\n",
              "    .dataframe tbody tr th:only-of-type {\n",
              "        vertical-align: middle;\n",
              "    }\n",
              "\n",
              "    .dataframe tbody tr th {\n",
              "        vertical-align: top;\n",
              "    }\n",
              "\n",
              "    .dataframe thead th {\n",
              "        text-align: right;\n",
              "    }\n",
              "</style>\n",
              "<table border=\"1\" class=\"dataframe\">\n",
              "  <thead>\n",
              "    <tr style=\"text-align: right;\">\n",
              "      <th></th>\n",
              "      <th>InvoiceNo</th>\n",
              "      <th>StockCode</th>\n",
              "      <th>Description</th>\n",
              "      <th>Quantity</th>\n",
              "      <th>InvoiceDate</th>\n",
              "      <th>UnitPrice</th>\n",
              "      <th>CustomerID</th>\n",
              "      <th>Country</th>\n",
              "    </tr>\n",
              "  </thead>\n",
              "  <tbody>\n",
              "    <tr>\n",
              "      <th>0</th>\n",
              "      <td>536365</td>\n",
              "      <td>85123A</td>\n",
              "      <td>WHITE HANGING HEART T-LIGHT HOLDER</td>\n",
              "      <td>6</td>\n",
              "      <td>12/1/2010 8:26</td>\n",
              "      <td>2.55</td>\n",
              "      <td>17850.0</td>\n",
              "      <td>United Kingdom</td>\n",
              "    </tr>\n",
              "    <tr>\n",
              "      <th>1</th>\n",
              "      <td>536365</td>\n",
              "      <td>71053</td>\n",
              "      <td>WHITE METAL LANTERN</td>\n",
              "      <td>6</td>\n",
              "      <td>12/1/2010 8:26</td>\n",
              "      <td>3.39</td>\n",
              "      <td>17850.0</td>\n",
              "      <td>United Kingdom</td>\n",
              "    </tr>\n",
              "    <tr>\n",
              "      <th>2</th>\n",
              "      <td>536365</td>\n",
              "      <td>84406B</td>\n",
              "      <td>CREAM CUPID HEARTS COAT HANGER</td>\n",
              "      <td>8</td>\n",
              "      <td>12/1/2010 8:26</td>\n",
              "      <td>2.75</td>\n",
              "      <td>17850.0</td>\n",
              "      <td>United Kingdom</td>\n",
              "    </tr>\n",
              "    <tr>\n",
              "      <th>3</th>\n",
              "      <td>536365</td>\n",
              "      <td>84029G</td>\n",
              "      <td>KNITTED UNION FLAG HOT WATER BOTTLE</td>\n",
              "      <td>6</td>\n",
              "      <td>12/1/2010 8:26</td>\n",
              "      <td>3.39</td>\n",
              "      <td>17850.0</td>\n",
              "      <td>United Kingdom</td>\n",
              "    </tr>\n",
              "    <tr>\n",
              "      <th>4</th>\n",
              "      <td>536365</td>\n",
              "      <td>84029E</td>\n",
              "      <td>RED WOOLLY HOTTIE WHITE HEART.</td>\n",
              "      <td>6</td>\n",
              "      <td>12/1/2010 8:26</td>\n",
              "      <td>3.39</td>\n",
              "      <td>17850.0</td>\n",
              "      <td>United Kingdom</td>\n",
              "    </tr>\n",
              "    <tr>\n",
              "      <th>...</th>\n",
              "      <td>...</td>\n",
              "      <td>...</td>\n",
              "      <td>...</td>\n",
              "      <td>...</td>\n",
              "      <td>...</td>\n",
              "      <td>...</td>\n",
              "      <td>...</td>\n",
              "      <td>...</td>\n",
              "    </tr>\n",
              "    <tr>\n",
              "      <th>541904</th>\n",
              "      <td>581587</td>\n",
              "      <td>22613</td>\n",
              "      <td>PACK OF 20 SPACEBOY NAPKINS</td>\n",
              "      <td>12</td>\n",
              "      <td>12/9/2011 12:50</td>\n",
              "      <td>0.85</td>\n",
              "      <td>12680.0</td>\n",
              "      <td>France</td>\n",
              "    </tr>\n",
              "    <tr>\n",
              "      <th>541905</th>\n",
              "      <td>581587</td>\n",
              "      <td>22899</td>\n",
              "      <td>CHILDREN'S APRON DOLLY GIRL</td>\n",
              "      <td>6</td>\n",
              "      <td>12/9/2011 12:50</td>\n",
              "      <td>2.10</td>\n",
              "      <td>12680.0</td>\n",
              "      <td>France</td>\n",
              "    </tr>\n",
              "    <tr>\n",
              "      <th>541906</th>\n",
              "      <td>581587</td>\n",
              "      <td>23254</td>\n",
              "      <td>CHILDRENS CUTLERY DOLLY GIRL</td>\n",
              "      <td>4</td>\n",
              "      <td>12/9/2011 12:50</td>\n",
              "      <td>4.15</td>\n",
              "      <td>12680.0</td>\n",
              "      <td>France</td>\n",
              "    </tr>\n",
              "    <tr>\n",
              "      <th>541907</th>\n",
              "      <td>581587</td>\n",
              "      <td>23255</td>\n",
              "      <td>CHILDRENS CUTLERY CIRCUS PARADE</td>\n",
              "      <td>4</td>\n",
              "      <td>12/9/2011 12:50</td>\n",
              "      <td>4.15</td>\n",
              "      <td>12680.0</td>\n",
              "      <td>France</td>\n",
              "    </tr>\n",
              "    <tr>\n",
              "      <th>541908</th>\n",
              "      <td>581587</td>\n",
              "      <td>22138</td>\n",
              "      <td>BAKING SET 9 PIECE RETROSPOT</td>\n",
              "      <td>3</td>\n",
              "      <td>12/9/2011 12:50</td>\n",
              "      <td>4.95</td>\n",
              "      <td>12680.0</td>\n",
              "      <td>France</td>\n",
              "    </tr>\n",
              "  </tbody>\n",
              "</table>\n",
              "<p>541909 rows × 8 columns</p>\n",
              "</div>"
            ],
            "text/plain": [
              "       InvoiceNo StockCode                          Description  Quantity  \\\n",
              "0         536365    85123A   WHITE HANGING HEART T-LIGHT HOLDER         6   \n",
              "1         536365     71053                  WHITE METAL LANTERN         6   \n",
              "2         536365    84406B       CREAM CUPID HEARTS COAT HANGER         8   \n",
              "3         536365    84029G  KNITTED UNION FLAG HOT WATER BOTTLE         6   \n",
              "4         536365    84029E       RED WOOLLY HOTTIE WHITE HEART.         6   \n",
              "...          ...       ...                                  ...       ...   \n",
              "541904    581587     22613          PACK OF 20 SPACEBOY NAPKINS        12   \n",
              "541905    581587     22899         CHILDREN'S APRON DOLLY GIRL          6   \n",
              "541906    581587     23254        CHILDRENS CUTLERY DOLLY GIRL          4   \n",
              "541907    581587     23255      CHILDRENS CUTLERY CIRCUS PARADE         4   \n",
              "541908    581587     22138        BAKING SET 9 PIECE RETROSPOT          3   \n",
              "\n",
              "            InvoiceDate  UnitPrice  CustomerID         Country  \n",
              "0        12/1/2010 8:26       2.55     17850.0  United Kingdom  \n",
              "1        12/1/2010 8:26       3.39     17850.0  United Kingdom  \n",
              "2        12/1/2010 8:26       2.75     17850.0  United Kingdom  \n",
              "3        12/1/2010 8:26       3.39     17850.0  United Kingdom  \n",
              "4        12/1/2010 8:26       3.39     17850.0  United Kingdom  \n",
              "...                 ...        ...         ...             ...  \n",
              "541904  12/9/2011 12:50       0.85     12680.0          France  \n",
              "541905  12/9/2011 12:50       2.10     12680.0          France  \n",
              "541906  12/9/2011 12:50       4.15     12680.0          France  \n",
              "541907  12/9/2011 12:50       4.15     12680.0          France  \n",
              "541908  12/9/2011 12:50       4.95     12680.0          France  \n",
              "\n",
              "[541909 rows x 8 columns]"
            ]
          },
          "execution_count": 15,
          "metadata": {},
          "output_type": "execute_result"
        }
      ],
      "source": [
        "import pandas as pd\n",
        "df = pd.read_csv('data.csv', encoding='latin-1')\n",
        "df"
      ]
    },
    {
      "cell_type": "code",
      "execution_count": null,
      "id": "3a5abe73",
      "metadata": {},
      "outputs": [],
      "source": [
        "import sqlite3\n",
        "\n",
        "# Connect to SQLite database (creates the file if it doesn't exist)\n",
        "conn = sqlite3.connect('ecommerce.sqlite')\n",
        "cursor = conn.cursor()\n",
        "\n",
        "# Create the 'commerce' table if it doesn't exist\n",
        "cursor.execute('''\n",
        "CREATE TABLE IF NOT EXISTS commerce (\n",
        "    id INTEGER PRIMARY KEY AUTOINCREMENT,\n",
        "    InvoiceNo TEXT NOT NULL,\n",
        "    StockCode TEXT NOT NULL,\n",
        "    Description TEXT,\n",
        "    Quantity INTEGER NOT NULL,\n",
        "    InvoiceDate DATETIME,\n",
        "    UnitPrice REAL,\n",
        "    CustomerID INTEGER,\n",
        "    Country TEXT\n",
        ")\n",
        "''')\n",
        "\n",
        "# Commit the table creation\n",
        "conn.commit()"
      ]
    },
    {
      "cell_type": "code",
      "execution_count": 39,
      "id": "68d0f3f2",
      "metadata": {},
      "outputs": [
        {
          "data": {
            "text/plain": [
              "541909"
            ]
          },
          "execution_count": 39,
          "metadata": {},
          "output_type": "execute_result"
        }
      ],
      "source": [
        "df.to_sql(\"commerce\", engine, if_exists='append', index=False)\n"
      ]
    },
    {
      "cell_type": "code",
      "execution_count": 40,
      "id": "886c8693",
      "metadata": {},
      "outputs": [
        {
          "name": "stdout",
          "output_type": "stream",
          "text": [
            "(1, '536365', '85123A', 'WHITE HANGING HEART T-LIGHT HOLDER', 6, '12/1/2010 8:26', 2.55, 17850, 'United Kingdom')\n",
            "(2, '536365', '71053', 'WHITE METAL LANTERN', 6, '12/1/2010 8:26', 3.39, 17850, 'United Kingdom')\n",
            "(3, '536365', '84406B', 'CREAM CUPID HEARTS COAT HANGER', 8, '12/1/2010 8:26', 2.75, 17850, 'United Kingdom')\n",
            "(4, '536365', '84029G', 'KNITTED UNION FLAG HOT WATER BOTTLE', 6, '12/1/2010 8:26', 3.39, 17850, 'United Kingdom')\n",
            "(5, '536365', '84029E', 'RED WOOLLY HOTTIE WHITE HEART.', 6, '12/1/2010 8:26', 3.39, 17850, 'United Kingdom')\n",
            "(6, '536365', '22752', 'SET 7 BABUSHKA NESTING BOXES', 2, '12/1/2010 8:26', 7.65, 17850, 'United Kingdom')\n",
            "(7, '536365', '21730', 'GLASS STAR FROSTED T-LIGHT HOLDER', 6, '12/1/2010 8:26', 4.25, 17850, 'United Kingdom')\n",
            "(8, '536366', '22633', 'HAND WARMER UNION JACK', 6, '12/1/2010 8:28', 1.85, 17850, 'United Kingdom')\n",
            "(9, '536366', '22632', 'HAND WARMER RED POLKA DOT', 6, '12/1/2010 8:28', 1.85, 17850, 'United Kingdom')\n",
            "(10, '536367', '84879', 'ASSORTED COLOUR BIRD ORNAMENT', 32, '12/1/2010 8:34', 1.69, 13047, 'United Kingdom')\n"
          ]
        }
      ],
      "source": [
        "cursor.execute(\"SELECT * FROM commerce LIMIT 10;\")\n",
        "rows = cursor.fetchall()\n",
        "for row in rows:\n",
        "    print(row)  # Each row is a tuple"
      ]
    },
    {
      "cell_type": "code",
      "execution_count": 42,
      "id": "4ac95644",
      "metadata": {},
      "outputs": [],
      "source": [
        "import sqlite3\n",
        "\n",
        "def execute_query(sql, parameters=()):\n",
        "    \"\"\"Execute a query and return all rows\"\"\"\n",
        "    with sqlite3.connect('ecommerce.sqlite') as conn:\n",
        "        cursor = conn.cursor()\n",
        "        cursor.execute(sql, parameters)\n",
        "        return cursor.fetchall()\n",
        "\n",
        "def execute_count_query(sql, parameters=()):\n",
        "    \"\"\"Execute a query that returns a count value\"\"\"\n",
        "    with sqlite3.connect('ecommerce.sqlite') as conn:\n",
        "        cursor = conn.cursor()\n",
        "        cursor.execute(sql, parameters)\n",
        "        result = cursor.fetchone()\n",
        "        return result[0] if result else 0"
      ]
    },
    {
      "cell_type": "markdown",
      "id": "30ce0c59-0e94-480a-81ae-528e68356a15",
      "metadata": {
        "id": "30ce0c59-0e94-480a-81ae-528e68356a15"
      },
      "source": [
        "### I.3. Verifying the database\n",
        "\n",
        "Before we go to the next section, let's check our database first. You need to change the db_name and table_name with your database name and table name, afterwards you can just run the code block. The result should be:\n",
        "\n",
        "- Columns: ['InvoiceNo', 'StockCode', 'Description', 'Quantity', 'InvoiceDate', 'UnitPrice', 'CustomerID', 'Country']\n",
        "- Number of rows: 541909"
      ]
    },
    {
      "cell_type": "code",
      "execution_count": null,
      "id": "4ad9e803",
      "metadata": {},
      "outputs": [],
      "source": []
    },
    {
      "cell_type": "code",
      "execution_count": 41,
      "id": "1aa3c3f7-c6c5-4419-9b25-e8d7a8ec345a",
      "metadata": {
        "id": "1aa3c3f7-c6c5-4419-9b25-e8d7a8ec345a"
      },
      "outputs": [
        {
          "name": "stdout",
          "output_type": "stream",
          "text": [
            "Columns: ['id', 'InvoiceNo', 'StockCode', 'Description', 'Quantity', 'InvoiceDate', 'UnitPrice', 'CustomerID', 'Country']\n",
            "Number of rows: 541909\n"
          ]
        }
      ],
      "source": [
        "import sqlite3\n",
        "\n",
        "# Connect to SQLite database\n",
        "conn = sqlite3.connect('ecommerce.sqlite') #change db_name to your database name.\n",
        "cur = conn.cursor()\n",
        "\n",
        "# Get column names\n",
        "cur.execute(\"PRAGMA table_info(commerce)\") #change commerce to your table name\n",
        "sql_columns = [column[1] for column in cur.fetchall()] #the variable sql_columns is used for submission, do not change the variable name\n",
        "print(f\"Columns: {sql_columns}\")\n",
        "\n",
        "# Get total number of rows\n",
        "cur.execute(\"SELECT COUNT(*) FROM commerce\") #change commerce to your table name\n",
        "sql_num_rows = cur.fetchone()[0] #the variable sql_num_rows is used for submission, do not change the variable name\n",
        "print(f\"Number of rows: {sql_num_rows}\")\n",
        "\n",
        "# Close the connection\n",
        "conn.close()"
      ]
    },
    {
      "cell_type": "markdown",
      "id": "585b925f-fcf0-4518-81d8-598dba65d646",
      "metadata": {
        "id": "585b925f-fcf0-4518-81d8-598dba65d646"
      },
      "source": [
        "### I.3.4. Running SQL Queries\n",
        "\n",
        "Once we have the database in SQL format, let's do some data exploration and analysis.\n",
        "\n",
        "You are part of the engineering team at a global e-commerce company. Your company has a vast catalogue of products and serves customers around the globe. As the company continues to grow, the management decides it's time to expand the business even more.\n",
        "\n",
        "As an essential part of this expansion, your team is tasked with diving into your company's rich e-commerce dataset to extract crucial insights that will guide the expansion strategy.\n",
        "\n",
        "1. **Total number of unique products and unique customers:**\n",
        "\n",
        "   Your first task is to gauge the breadth of your operations. By determining the total number of unique products you sell and the total number of unique customers you serve, you can assess the scale and diversity of your business.\n",
        "\n",
        "2. **Total revenue for each product:**\n",
        "\n",
        "   Next, you're going to identify the star performers in your product portfolio. Calculating the total revenue for each product will reveal which items are the biggest revenue drivers. These insights can help guide decisions about product focus and marketing efforts. Limit the result to the top 5 product with the biggest revenue.\n",
        "\n",
        "3. **Most profitable countries (by total sales):**\n",
        "\n",
        "   To pinpoint the most fruitful geographic areas for your business, you'll identify which countries generate the most profit. This data will help you understand where your operations are already strong and where there might be potential for regional expansion. Limit the result to the top 5 countries with the biggest profit.\n",
        "\n",
        "4. **Top-selling products (by total sales) for each country from number 3:**\n",
        "\n",
        "   Product popularity may vary across different regions. Determining the top-selling products by sales for each country will provide a clear picture of regional preferences, informing decisions about product distribution in different markets. Limit the result to the top 5 products for each countries.\n",
        "\n",
        "4. **Top-selling products (by quantity) for each country from number 3:**\n",
        "\n",
        "   Product popularity may vary across different regions. Determining the top-selling products by quantity for each country will provide a clear picture of regional preferences, informing decisions about product distribution in different markets. Limit the result to the top 5 products for each countries.\n",
        "\n",
        "By answering these queries, your team will provide valuable data-driven insights that will directly contribute to the strategic decisions about where and how your business expands. As part of the engineering team, you're not just maintaining the technical infrastructure - you're shaping the future of the company.\n",
        "\n",
        "> Hint: The Product name is stored in column Descrioption"
      ]
    },
    {
      "cell_type": "code",
      "execution_count": null,
      "id": "ee33d9bc-2b35-4f78-b5d8-3eb65db1e361",
      "metadata": {
        "id": "ee33d9bc-2b35-4f78-b5d8-3eb65db1e361"
      },
      "outputs": [
        {
          "data": {
            "text/plain": [
              "[(4070,)]"
            ]
          },
          "execution_count": 43,
          "metadata": {},
          "output_type": "execute_result"
        }
      ],
      "source": [
        "# Write your SQL Query here\n",
        "\n",
        "#use the following variable name to store the result from your SQL Query\n",
        "sql_num_products = 0\n",
        "sql_num_customers = 0\n",
        "sql_top_product_revenues = [] # list of tuples, where each tupple contains the product name and total revenue/total sales, see example\n",
        "sql_top_countries = [] # list of tuples, where each tupple contains the product name and total revenue/total sales, see example\n",
        "sql_top_selling_products_by_country_by_sales = {} #dictionary where key is country name, value is a list of top-selling products by sales, see example below\n",
        "sql_top_selling_products_by_country_by_quantity = {} #dictionary where key is country name, value is a list of top-selling products by quantity, see example below\n",
        "\n",
        "\n",
        "# 1. Find the total number of unique products and unique customers\n",
        "# Example: sql_num_products = 1559\n",
        "# Example: sql_num_customers = 1675\n",
        "\n"
      ]
    },
    {
      "cell_type": "code",
      "execution_count": null,
      "id": "28a733f6",
      "metadata": {},
      "outputs": [
        {
          "data": {
            "text/plain": [
              "4070"
            ]
          },
          "execution_count": 45,
          "metadata": {},
          "output_type": "execute_result"
        }
      ],
      "source": [
        "sql_num_products = execute_count_query(\"SELECT count(distinct StockCode) from commerce;\")\n",
        "sql_num_products"
      ]
    },
    {
      "cell_type": "code",
      "execution_count": 46,
      "id": "0c99a01e",
      "metadata": {},
      "outputs": [
        {
          "data": {
            "text/plain": [
              "4372"
            ]
          },
          "execution_count": 46,
          "metadata": {},
          "output_type": "execute_result"
        }
      ],
      "source": [
        "sql_num_customers = execute_count_query(\"SELECT count(distinct CustomerID) from commerce;\")\n",
        "sql_num_customers"
      ]
    },
    {
      "cell_type": "code",
      "execution_count": 50,
      "id": "d1cbbedc-d36e-4957-8359-98e948d5b177",
      "metadata": {
        "id": "d1cbbedc-d36e-4957-8359-98e948d5b177"
      },
      "outputs": [
        {
          "data": {
            "text/plain": [
              "[('AMAZONFEE', 249042.68),\n",
              " ('M', 214448.41),\n",
              " ('DOT', 206252.06),\n",
              " ('POST', 46388.47),\n",
              " ('22423', 30360.61)]"
            ]
          },
          "execution_count": 50,
          "metadata": {},
          "output_type": "execute_result"
        }
      ],
      "source": [
        "# 2. Calculate the total revenue for each product, limited to top 5\n",
        "# Example: sql_top_product_revenues = [('PRODUCT 1', 149385.12), ('PRODUCT 2', 54895.53), ('PRODUCT 3', 44545.55), ('PRODUCT 4', 38000.00), ('PRODUCT 5', 36000.00)]\n",
        "\n",
        "sql_top_product_revenues = execute_query(\"SELECT StockCode, SUM(UnitPrice) AS TotalUnitPrice FROM commerce GROUP BY StockCode ORDER BY TotalUnitPrice DESC LIMIT 5;\")\n",
        "sql_top_product_revenues\n"
      ]
    },
    {
      "cell_type": "code",
      "execution_count": 51,
      "id": "7af4cf62-9d0a-4cae-92cd-fac4a9468d5e",
      "metadata": {
        "id": "7af4cf62-9d0a-4cae-92cd-fac4a9468d5e"
      },
      "outputs": [
        {
          "data": {
            "text/plain": [
              "[('United Kingdom', 2245715.474),\n",
              " ('EIRE', 48447.19),\n",
              " ('France', 43031.99),\n",
              " ('Germany', 37666.0),\n",
              " ('Singapore', 25108.89)]"
            ]
          },
          "execution_count": 51,
          "metadata": {},
          "output_type": "execute_result"
        }
      ],
      "source": [
        "# 3. Identify the most profitable countries (by total sales), limited to top 5\n",
        "# Example: sql_top_countries = [('COUNTRY 1', 600000.00), ('COUNTRY 2', 334857.45), ('COUNTRY 3', 245879.00), ('COUNTRY 4', 180000.00), ('COUNTRY 5', 164389.45)]\n",
        "\n",
        "sql_top_countries = execute_query(\"SELECT Country, SUM(UnitPrice) AS TotalUnitPrice FROM commerce GROUP BY Country ORDER BY TotalUnitPrice DESC LIMIT 5;\")\n",
        "sql_top_countries\n"
      ]
    },
    {
      "cell_type": "code",
      "execution_count": 54,
      "id": "776308cd-3733-4767-95c3-fc9d3eda3cb7",
      "metadata": {
        "id": "776308cd-3733-4767-95c3-fc9d3eda3cb7"
      },
      "outputs": [
        {
          "data": {
            "text/plain": [
              "{'Australia': [('23084', 3375.84),\n",
              "  ('22722', 2082.0),\n",
              "  ('21731', 1987.2),\n",
              "  ('22720', 1978.25),\n",
              "  ('22423', 1978.2)],\n",
              " 'Austria': [('POST', 1456.0),\n",
              "  ('22584', 302.4),\n",
              "  ('22582', 302.4),\n",
              "  ('20679', 214.2),\n",
              "  ('15056N', 214.2)],\n",
              " 'Bahrain': [('23076', 120.0),\n",
              "  ('23077', 75.0),\n",
              "  ('22890', 59.7),\n",
              "  ('22649', 39.6),\n",
              "  ('22693', 30.0)],\n",
              " 'Belgium': [('POST', 4248.0),\n",
              "  ('22326', 1181.4),\n",
              "  ('22630', 641.85),\n",
              "  ('22629', 641.85),\n",
              "  ('22423', 599.25)],\n",
              " 'Brazil': [('22423', 175.2),\n",
              "  ('22722', 82.8),\n",
              "  ('21430', 81.36),\n",
              "  ('22366', 67.5),\n",
              "  ('22699', 61.2)],\n",
              " 'Canada': [('POST', 550.94),\n",
              "  ('37370', 534.24),\n",
              "  ('20727', 82.5),\n",
              "  ('84077', 60.48),\n",
              "  ('22383', 49.5)],\n",
              " 'Channel Islands': [('22423', 517.8),\n",
              "  ('85099B', 460.7),\n",
              "  ('22720', 408.0),\n",
              "  ('85099C', 399.6),\n",
              "  ('23199', 399.6)],\n",
              " 'Cyprus': [('22827', 580.0),\n",
              "  ('85123A', 386.4),\n",
              "  ('22423', 382.5),\n",
              "  ('22656', 250.0),\n",
              "  ('22655', 250.0)],\n",
              " 'Czech Republic': [('22326', 70.8),\n",
              "  ('84347', 61.2),\n",
              "  ('21428', 51.0),\n",
              "  ('47594B', 46.8),\n",
              "  ('22930', 45.9)],\n",
              " 'Denmark': [('22625', 734.4),\n",
              "  ('POST', 726.0),\n",
              "  ('22624', 696.15),\n",
              "  ('22467', 575.1),\n",
              "  ('22179', 428.4)],\n",
              " 'EIRE': [('22423', 7442.85),\n",
              "  ('C2', 5175.0),\n",
              "  ('22960', 3089.0),\n",
              "  ('22838', 3041.55),\n",
              "  ('85123A', 2857.8)],\n",
              " 'European Community': [('POST', 141.0),\n",
              "  ('22843', 54.0),\n",
              "  ('22842', 54.0),\n",
              "  ('22314', 53.1),\n",
              "  ('85036B', 51.0)],\n",
              " 'Finland': [('POST', 3472.0),\n",
              "  ('84997D', 2063.28),\n",
              "  ('84997C', 1367.4),\n",
              "  ('84997A', 919.6),\n",
              "  ('M', 551.2)],\n",
              " 'France': [('POST', 15065.0),\n",
              "  ('23084', 7275.12),\n",
              "  ('22423', 2581.8),\n",
              "  ('21731', 2168.1),\n",
              "  ('22554', 1868.4)],\n",
              " 'Germany': [('POST', 20821.0),\n",
              "  ('22423', 8257.35),\n",
              "  ('22326', 3554.7),\n",
              "  ('22328', 1949.95),\n",
              "  ('22629', 1629.45)],\n",
              " 'Greece': [('POST', 285.0),\n",
              "  ('22423', 175.2),\n",
              "  ('72760B', 135.84),\n",
              "  ('48188', 135.0),\n",
              "  ('48187', 135.0)],\n",
              " 'Hong Kong': [('84997D', 488.4),\n",
              "  ('84997B', 455.2),\n",
              "  ('22326', 384.9),\n",
              "  ('22452', 318.6),\n",
              "  ('22139', 235.65)],\n",
              " 'Iceland': [('84558A', 371.7),\n",
              "  ('23076', 249.6),\n",
              "  ('22423', 191.25),\n",
              "  ('23084', 153.84),\n",
              "  ('22727', 135.0)],\n",
              " 'Israel': [('22423', 551.1),\n",
              "  ('23240', 254.7),\n",
              "  ('22326', 244.8),\n",
              "  ('22192', 183.6),\n",
              "  ('23236', 159.98)],\n",
              " 'Italy': [('POST', 1645.0),\n",
              "  ('22139', 222.75),\n",
              "  ('22720', 212.85),\n",
              "  ('22847', 179.4),\n",
              "  ('22326', 177.0)],\n",
              " 'Japan': [('23084', 6087.79),\n",
              "  ('22328', 2220.9),\n",
              "  ('21218', 815.75),\n",
              "  ('20750', 762.0),\n",
              "  ('21217', 751.8)],\n",
              " 'Lebanon': [('22423', 153.0),\n",
              "  ('85066', 102.0),\n",
              "  ('22606', 102.0),\n",
              "  ('21906', 81.0),\n",
              "  ('22842', 71.4)],\n",
              " 'Lithuania': [('20967', 135.0),\n",
              "  ('22271', 122.4),\n",
              "  ('22750', 120.0),\n",
              "  ('22751', 105.0),\n",
              "  ('22569', 90.0)],\n",
              " 'Malta': [('POST', 525.0),\n",
              "  ('72741', 108.75),\n",
              "  ('22423', 89.25),\n",
              "  ('23173', 79.6),\n",
              "  ('22796', 59.7)],\n",
              " 'Netherlands': [('23084', 9568.48),\n",
              "  ('22326', 7991.4),\n",
              "  ('22629', 7485.6),\n",
              "  ('22630', 6828.6),\n",
              "  ('22328', 4039.2)],\n",
              " 'Norway': [('POST', 2870.5),\n",
              "  ('22693', 538.8),\n",
              "  ('22635', 527.4),\n",
              "  ('22634', 487.6),\n",
              "  ('22720', 441.6)],\n",
              " 'Poland': [('POST', 360.0),\n",
              "  ('21232', 196.32),\n",
              "  ('37448', 182.58),\n",
              "  ('22722', 177.6),\n",
              "  ('22720', 161.4)],\n",
              " 'Portugal': [('POST', 2508.0),\n",
              "  ('22139', 463.35),\n",
              "  ('22411', 387.4),\n",
              "  ('20725', 354.75),\n",
              "  ('22138', 334.65)],\n",
              " 'RSA': [('21340', 38.25),\n",
              "  ('22605', 29.9),\n",
              "  ('23298', 29.7),\n",
              "  ('85066', 25.5),\n",
              "  ('22960', 25.5)],\n",
              " 'Saudi Arabia': [('22556', 19.8),\n",
              "  ('22555', 19.8),\n",
              "  ('22553', 19.8),\n",
              "  ('22363', 17.7),\n",
              "  ('22362', 17.7)],\n",
              " 'Singapore': [('48138', 340.8),\n",
              "  ('22655', 250.0),\n",
              "  ('22197', 216.0),\n",
              "  ('20685', 205.8),\n",
              "  ('21936', 201.25)],\n",
              " 'Spain': [('POST', 5852.0),\n",
              "  ('84997D', 3957.75),\n",
              "  ('84997C', 3671.15),\n",
              "  ('22423', 1660.35),\n",
              "  ('84997B', 1044.76)],\n",
              " 'Sweden': [('22492', 1895.4),\n",
              "  ('22720', 1767.15),\n",
              "  ('POST', 1389.0),\n",
              "  ('23297', 1240.8),\n",
              "  ('23245', 1108.8)],\n",
              " 'Switzerland': [('POST', 3880.0),\n",
              "  ('22326', 1297.85),\n",
              "  ('22554', 977.55),\n",
              "  ('22423', 911.4),\n",
              "  ('22551', 732.15)],\n",
              " 'USA': [('23328', 162.72),\n",
              "  ('22423', 114.75),\n",
              "  ('21124', 60.0),\n",
              "  ('21123', 60.0),\n",
              "  ('21122', 60.0)],\n",
              " 'United Arab Emirates': [('22423', 153.0),\n",
              "  ('23009', 89.7),\n",
              "  ('23008', 89.7),\n",
              "  ('23007', 89.7),\n",
              "  ('47590B', 65.4)],\n",
              " 'United Kingdom': [('DOT', 206245.48),\n",
              "  ('22423', 134405.94),\n",
              "  ('47566', 92501.73),\n",
              "  ('85123A', 92179.1),\n",
              "  ('85099B', 84516.44)],\n",
              " 'Unspecified': [('22960', 70.5),\n",
              "  ('23236', 69.36),\n",
              "  ('23234', 69.36),\n",
              "  ('23076', 60.0),\n",
              "  ('22138', 54.45)]}"
            ]
          },
          "execution_count": 54,
          "metadata": {},
          "output_type": "execute_result"
        }
      ],
      "source": [
        "# 4. Find the top-selling products (by total sales) for each country, limited to top 5\n",
        "# Example: sql_top_selling_products_by_country_by_sales = {\n",
        "#    'COUNTRY 1': [('PRODUCT 1', 200000.00), ('PRODUCT 2', 100000.00), ('PRODUCT 3', 95348.00), ('PRODUCT 4', 90000.43), ('PRODUCT 5', 80000.00)],\n",
        "#    'COUNTRY 2': [('PRODUCT 1', 9000.00), ('PRODUCT 2', 7345.00), ('PRODUCT 3', 6934.23), ('PRODUCT 4', 6800.23), ('PRODUCT 5', 4000.00)],\n",
        "#    ... to simplify, country 3 and 4 are not shown\n",
        "#    'COUNTRY 5': [('PRODUCT 1', 7442.84), ('PRODUCT 2', 5175.00), ('PRODUCT 3', 3098.0), ('PRODUCT 4', 3014.34), ('PRODUCT 5', 2857.83)],\n",
        "\n",
        "def get_top_products_by_country():\n",
        "    query = \"\"\"\n",
        "    WITH SalesCTE AS (\n",
        "        SELECT \n",
        "            Country,\n",
        "            StockCode,\n",
        "            SUM(UnitPrice * Quantity) AS TotalSales,\n",
        "            ROW_NUMBER() OVER (PARTITION BY Country ORDER BY SUM(UnitPrice * Quantity) DESC) AS Rank\n",
        "        FROM commerce\n",
        "        GROUP BY Country, StockCode\n",
        "    )\n",
        "    SELECT Country, StockCode, TotalSales\n",
        "    FROM SalesCTE\n",
        "    WHERE Rank <= 5\n",
        "    ORDER BY Country, Rank;\n",
        "    \"\"\"\n",
        "    \n",
        "    results = execute_query(query)\n",
        "    \n",
        "    output = {}\n",
        "    for row in results:\n",
        "        country = row[0]\n",
        "        product = row[1]\n",
        "        sales = round(row[2], 2)\n",
        "        \n",
        "        if country not in output:\n",
        "            output[country] = []\n",
        "        output[country].append((product, sales))\n",
        "    \n",
        "    return output\n",
        "\n",
        "sql_top_selling_products_by_country_by_sales = get_top_products_by_country()\n",
        "sql_top_selling_products_by_country_by_sales\n"
      ]
    },
    {
      "cell_type": "code",
      "execution_count": 55,
      "id": "54adc06d-fe7d-468c-8515-0b9f52170cf8",
      "metadata": {
        "id": "54adc06d-fe7d-468c-8515-0b9f52170cf8"
      },
      "outputs": [
        {
          "data": {
            "text/plain": [
              "{'Australia': [('Australia, MINI PAINT SET VINTAGE ', 2916),\n",
              "  ('Australia, RABBIT NIGHT LIGHT', 1884),\n",
              "  ('Australia, RED  HARMONICA IN BOX ', 1704),\n",
              "  ('Australia, RED TOADSTOOL LED NIGHT LIGHT', 1344),\n",
              "  ('Australia, DOLLY GIRL LUNCH BOX', 1024)],\n",
              " 'Austria': [('Austria, SET 12 KIDS COLOUR  CHALK STICKS', 288),\n",
              "  ('Austria, MINI JIGSAW PURDEY', 240),\n",
              "  ('Austria, PACK OF 6 PANNETONE GIFT BOXES', 144),\n",
              "  ('Austria, PACK OF 6 SWEETIE GIFT BOXES', 144),\n",
              "  ('Austria, PLASTERS IN TIN CIRCUS PARADE ', 48)],\n",
              " 'Bahrain': [('Bahrain, ICE CREAM SUNDAE LIP GLOSS', 96),\n",
              "  ('Bahrain, DOUGHNUT LIP GLOSS ', 60),\n",
              "  ('Bahrain, GROW A FLYTRAP OR SUNFLOWER IN TIN', 24),\n",
              "  ('Bahrain, S/4 PINK FLOWER CANDLES IN BOWL', 12),\n",
              "  ('Bahrain, MINI CAKE STAND WITH HANGING CAKES', 8)],\n",
              " 'Belgium': [('Belgium, PACK OF 72 RETROSPOT CAKE CASES', 480),\n",
              "  ('Belgium, ROUND SNACK BOXES SET OF4 WOODLAND ', 420),\n",
              "  ('Belgium, PACK OF 60 SPACEBOY CAKE CASES', 384),\n",
              "  ('Belgium, DOLLY GIRL LUNCH BOX', 339),\n",
              "  ('Belgium, SPACEBOY LUNCH BOX ', 339)],\n",
              " 'Brazil': [('Brazil, SMALL HEART FLOWERS HOOK ', 24),\n",
              "  ('Brazil, SET OF 4 PANTRY JELLY MOULDS', 24),\n",
              "  ('Brazil, SET OF 6 SPICE TINS PANTRY DESIGN', 24),\n",
              "  ('Brazil, ROSES REGENCY TEACUP AND SAUCER ', 24),\n",
              "  ('Brazil, PINK REGENCY TEACUP AND SAUCER', 24)],\n",
              " 'Canada': [('Canada, RETRO COFFEE MUGS ASSORTED', 504),\n",
              "  ('Canada, WORLD WAR 2 GLIDERS ASSTD DESIGNS', 288),\n",
              "  ('Canada, LUNCH BAG  BLACK SKULL.', 50),\n",
              "  ('Canada, SCOTTIE DOGS BABY BIB', 48),\n",
              "  ('Canada, COLOURING PENCILS BROWN TUBE', 40)],\n",
              " 'Channel Islands': [('Channel Islands, RAIN PONCHO ', 407),\n",
              "  ('Channel Islands, JUMBO BAG RED RETROSPOT', 250),\n",
              "  ('Channel Islands, JUMBO  BAG BAROQUE BLACK WHITE', 220),\n",
              "  ('Channel Islands, JUMBO BAG APPLES', 220),\n",
              "  ('Channel Islands, JUMBO BAG PINK POLKADOT', 200)],\n",
              " 'Cyprus': [('Cyprus, HEART DECORATION PAINTED ZINC ', 384),\n",
              "  ('Cyprus, BOYS ALPHABET IRON ON PATCHES', 288),\n",
              "  ('Cyprus, GIRLS ALPHABET IRON ON PATCHES ', 288),\n",
              "  ('Cyprus, WHITE HANGING HEART T-LIGHT HOLDER', 144),\n",
              "  ('Cyprus, HANGING WOOD AND FELT FLOWER', 96)],\n",
              " 'Czech Republic': [('Czech Republic, WOODEN TREE CHRISTMAS SCANDINAVIAN', 72),\n",
              "  ('Czech Republic, WOODEN STAR CHRISTMAS SCANDINAVIAN', 72),\n",
              "  ('Czech Republic, COLOUR GLASS T-LIGHT HOLDER HANGING', 48),\n",
              "  ('Czech Republic, CHRISTMAS TABLE SILVER CANDLE SPIKE', 48),\n",
              "  ('Czech Republic, DECORATION  BUTTERFLY  MAGIC GARDEN', 32)],\n",
              " 'Denmark': [('Denmark, RED  HARMONICA IN BOX ', 288),\n",
              "  ('Denmark, SET OF 6 TEA TIME BAKING CASES', 280),\n",
              "  ('Denmark, GUMBALL COAT RACK', 270),\n",
              "  ('Denmark, SET OF 12 MINI LOAF BAKING CASES', 256),\n",
              "  ('Denmark, DOLLY GIRL LUNCH BOX', 160)],\n",
              " 'EIRE': [('EIRE, SMALL POPCORN HOLDER', 1809),\n",
              "  ('EIRE, PACK OF 72 RETROSPOT CAKE CASES', 1728),\n",
              "  ('EIRE, 60 TEATIME FAIRY CAKE CASES', 1536),\n",
              "  ('EIRE, VINTAGE SNAP CARDS', 1492),\n",
              "  ('EIRE, ASSORTED INCENSE PACK', 1440)],\n",
              " 'European Community': [('European Community, SET OF 60 VINTAGE LEAF CAKE CASES ',\n",
              "   24),\n",
              "  ('European Community, SET OF 60 PANTRY DESIGN CAKE CASES ', 24),\n",
              "  ('European Community, RED ROCKING HORSE HAND PAINTED', 24),\n",
              "  ('European Community, WHITE ROCKING HORSE HAND PAINTED', 24),\n",
              "  ('European Community, ROCKING HORSE GREEN CHRISTMAS ', 24)],\n",
              " 'Finland': [('Finland, PINK 3 PIECE POLKADOT CUTLERY SET', 552),\n",
              "  ('Finland, CHILDRENS CUTLERY POLKADOT BLUE', 348),\n",
              "  ('Finland, GREEN 3 PIECE POLKADOT CUTLERY SET', 232),\n",
              "  ('Finland, DOUGHNUT LIP GLOSS ', 200),\n",
              "  ('Finland, 60 TEATIME FAIRY CAKE CASES', 192)],\n",
              " 'France': [('France, RABBIT NIGHT LIGHT', 4023),\n",
              "  ('France, MINI PAINT SET VINTAGE ', 2196),\n",
              "  ('France, RED TOADSTOOL LED NIGHT LIGHT', 1314),\n",
              "  ('France, SET/6 RED SPOTTY PAPER CUPS', 1272),\n",
              "  ('France, ASSORTED COLOUR BIRD ORNAMENT', 1204)],\n",
              " 'Germany': [('Germany, ROUND SNACK BOXES SET OF4 WOODLAND ', 1218),\n",
              "  ('Germany, ASSORTED COLOURS SILK FAN', 1164),\n",
              "  ('Germany, POSTAGE', 1104),\n",
              "  ('Germany, WOODLAND CHARLOTTE BAG', 1019),\n",
              "  ('Germany, PACK OF 72 RETROSPOT CAKE CASES', 1002)],\n",
              " 'Greece': [('Greece, 4 PEAR BOTANICAL DINNER CANDLES', 48),\n",
              "  ('Greece, 4 LAVENDER BOTANICAL DINNER CANDLES', 48),\n",
              "  ('Greece, SET OF 4 NAPKIN CHARMS CUTLERY', 32),\n",
              "  ('Greece, ASSTD FRUIT+FLOWERS FRIDGE MAGNETS', 24),\n",
              "  ('Greece, SET OF 3 WOODEN HEART DECORATIONS', 24)],\n",
              " 'Hong Kong': [('Hong Kong, ROUND SNACK BOXES SET OF4 WOODLAND ', 150),\n",
              "  ('Hong Kong, WORLD WAR 2 GLIDERS ASSTD DESIGNS', 144),\n",
              "  ('Hong Kong, PINK 3 PIECE POLKADOT CUTLERY SET', 120),\n",
              "  ('Hong Kong, PINK POLKADOT BOWL', 120),\n",
              "  ('Hong Kong, RED RETROSPOT BOWL', 120)],\n",
              " 'Iceland': [('Iceland, ICE CREAM SUNDAE LIP GLOSS', 240),\n",
              "  ('Iceland, 3D DOG PICTURE PLAYING CARDS', 126),\n",
              "  ('Iceland, MINI PAINT SET VINTAGE ', 108),\n",
              "  ('Iceland, RABBIT NIGHT LIGHT', 84),\n",
              "  ('Iceland, 72 SWEETHEART FAIRY CAKE CASES', 72)],\n",
              " 'Israel': [('Israel, WOODLAND CHARLOTTE BAG', 130),\n",
              "  ('Israel, RED RETROSPOT CHARLOTTE BAG', 110),\n",
              "  ('Israel, ROUND SNACK BOXES SET OF4 WOODLAND ', 96),\n",
              "  ('Israel, BLUE STRIPE CERAMIC DRAWER KNOB', 96),\n",
              "  ('Israel, ASS FLORAL PRINT MULTI SCREWDRIVER', 72)],\n",
              " 'Italy': [('Italy, FEATHER PEN,HOT PINK', 240),\n",
              "  ('Italy, ICE CREAM BUBBLES', 200),\n",
              "  ('Italy, FEATHER PEN,COAL BLACK', 168),\n",
              "  ('Italy, SMALL POPCORN HOLDER', 160),\n",
              "  ('Italy, FEATHER PEN,LIGHT PINK', 120)],\n",
              " 'Japan': [('Japan, RABBIT NIGHT LIGHT', 3401),\n",
              "  ('Japan, PACK OF 12 TRADITIONAL CRAYONS', 1201),\n",
              "  ('Japan, ROUND SNACK BOXES SET OF 4 FRUITS ', 870),\n",
              "  ('Japan, WORLD WAR 2 GLIDERS ASSTD DESIGNS', 577),\n",
              "  ('Japan, MAGIC DRAWING SLATE PURDEY', 577)],\n",
              " 'Lebanon': [('Lebanon, ASSTD FRUIT+FLOWERS FRIDGE MAGNETS', 24),\n",
              "  ('Lebanon, PARTY BUNTING', 15),\n",
              "  ('Lebanon, NO SINGING METAL SIGN', 12),\n",
              "  ('Lebanon, WASHROOM METAL SIGN', 12),\n",
              "  ('Lebanon, LAUNDRY 15C METAL SIGN', 12)],\n",
              " 'Lithuania': [('Lithuania, FELTCRAFT DOLL ROSIE', 48),\n",
              "  ('Lithuania, RED  HARMONICA IN BOX ', 48),\n",
              "  ('Lithuania, GOLD MUG BONE CHINA TREE OF LIFE', 36),\n",
              "  ('Lithuania, SILVER MUG BONE CHINA TREE OF LIFE', 36),\n",
              "  ('Lithuania, BLUE HARMONICA IN BOX ', 36)],\n",
              " 'Malta': [('Malta, GRAND CHOCOLATECANDLE', 75),\n",
              "  ('Malta, CHRISTMAS PUDDING TRINKET POT ', 56),\n",
              "  ('Malta, WRAP CHRISTMAS VILLAGE', 25),\n",
              "  ('Malta, OPIUM SCENTED VOTIVE CANDLE', 24),\n",
              "  ('Malta, FILIGREE HEART BIRD WHITE ', 24)],\n",
              " 'Netherlands': [('Netherlands, RABBIT NIGHT LIGHT', 4801),\n",
              "  ('Netherlands, SPACEBOY LUNCH BOX ', 4528),\n",
              "  ('Netherlands, DOLLY GIRL LUNCH BOX', 4132),\n",
              "  ('Netherlands, PACK OF 72 RETROSPOT CAKE CASES', 4128),\n",
              "  ('Netherlands, ROUND SNACK BOXES SET OF4 WOODLAND ', 3132)],\n",
              " 'Norway': [('Norway, SMALL FOLDING SCISSOR(POINTED EDGE)', 576),\n",
              "  ('Norway, GROW A FLYTRAP OR SUNFLOWER IN TIN', 504),\n",
              "  ('Norway, SMALL POPCORN HOLDER', 444),\n",
              "  ('Norway, FENG SHUI PILLAR CANDLE', 384),\n",
              "  ('Norway, PINK HEART SHAPE EGG FRYING PAN', 240)],\n",
              " 'Poland': [('Poland, STRAWBERRY CERAMIC TRINKET POT', 168),\n",
              "  ('Poland, CERAMIC CAKE DESIGN SPOTTED MUG', 138),\n",
              "  ('Poland, JAM MAKING SET PRINTED', 108),\n",
              "  ('Poland, LARGE CHINESE STYLE SCISSOR', 100),\n",
              "  ('Poland, CERAMIC STRAWBERRY DESIGN MUG', 96)],\n",
              " 'Portugal': [('Portugal, POLKADOT PEN', 240),\n",
              "  ('Portugal, 60 TEATIME FAIRY CAKE CASES', 218),\n",
              "  ('Portugal, LUNCH BAG RED RETROSPOT', 215),\n",
              "  ('Portugal, LUNCH BAG SUKI DESIGN ', 193),\n",
              "  ('Portugal, JUMBO SHOPPER VINTAGE RED PAISLEY', 190)],\n",
              " 'RSA': [('RSA, SET OF 20 KIDS COOKIE CUTTERS', 12),\n",
              "  ('RSA, ASSORTED BOTTLE TOP  MAGNETS ', 12),\n",
              "  ('RSA, 4 TRADITIONAL SPINNING TOPS', 12),\n",
              "  ('RSA, PACK OF 6 BIRDY GIFT TAGS', 12),\n",
              "  ('RSA, WOODEN BOX OF DOMINOES', 12)],\n",
              " 'Saudi Arabia': [('Saudi Arabia, HOMEMADE JAM SCENTED CANDLES', 12),\n",
              "  ('Saudi Arabia, ASSORTED BOTTLE TOP  MAGNETS ', 12),\n",
              "  ('Saudi Arabia, PLASTERS IN TIN CIRCUS PARADE ', 12),\n",
              "  ('Saudi Arabia, PLASTERS IN TIN STRONGMAN', 12),\n",
              "  ('Saudi Arabia, PLASTERS IN TIN SKULLS', 12)],\n",
              " 'Singapore': [('Singapore, CHRISTMAS TREE PAINTED ZINC ', 384),\n",
              "  ('Singapore, SMALL POPCORN HOLDER', 300),\n",
              "  ('Singapore, PARTY PIZZA DISH RED RETROSPOT', 240),\n",
              "  ('Singapore, GIN & TONIC DIET GREETING CARD ', 144),\n",
              "  ('Singapore, TEA BAG PLATE RED RETROSPOT', 96)],\n",
              " 'Spain': [('Spain, PINK 3 PIECE POLKADOT CUTLERY SET', 1089),\n",
              "  ('Spain, CHILDRENS CUTLERY POLKADOT BLUE', 1013),\n",
              "  ('Spain, LUNCH BAG CARS BLUE', 558),\n",
              "  ('Spain, ASSORTED COLOUR BIRD ORNAMENT', 417),\n",
              "  ('Spain, LUNCH BAG PINK POLKADOT', 406)],\n",
              " 'Sweden': [('Sweden, MINI PAINT SET VINTAGE ', 2916),\n",
              "  ('Sweden, WORLD WAR 2 GLIDERS ASSTD DESIGNS', 2304),\n",
              "  ('Sweden, BUBBLEGUM RING ASSORTED', 1080),\n",
              "  ('Sweden, 60 CAKE CASES VINTAGE CHRISTMAS', 984),\n",
              "  ('Sweden, PACK OF 60 PINK PAISLEY CAKE CASES', 984)],\n",
              " 'Switzerland': [('Switzerland, PLASTERS IN TIN WOODLAND ANIMALS', 639),\n",
              "  ('Switzerland, ROUND SNACK BOXES SET OF4 WOODLAND ', 479),\n",
              "  ('Switzerland, PLASTERS IN TIN SPACEBOY', 467),\n",
              "  ('Switzerland, PACK OF 72 RETROSPOT CAKE CASES', 432),\n",
              "  ('Switzerland, WOODLAND CHARLOTTE BAG', 340)],\n",
              " 'USA': [('USA, SET 12 COLOURING PENCILS DOILY', 88),\n",
              "  ('USA, 12 PENCILS SMALL TUBE RED RETROSPOT', 72),\n",
              "  ('USA, SET 6 SCHOOL MILK BOTTLES IN CRATE', 48),\n",
              "  ('USA, SET/10 BLUE POLKADOT PARTY CANDLES', 48),\n",
              "  ('USA, SET/10 IVORY POLKADOT PARTY CANDLES', 48)],\n",
              " 'United Arab Emirates': [('United Arab Emirates, ASSORTED CHEESE FRIDGE MAGNETS',\n",
              "   72),\n",
              "  ('United Arab Emirates, BIG DOUGHNUT FRIDGE MAGNETS', 72),\n",
              "  ('United Arab Emirates, MINI PAINT SET VINTAGE ', 36),\n",
              "  ('United Arab Emirates, BLUE PAISLEY TISSUE BOX', 36),\n",
              "  ('United Arab Emirates, WRAP PAISLEY PARK ', 25)],\n",
              " 'United Kingdom': [('United Kingdom, SMALL POPCORN HOLDER', 52928),\n",
              "  ('United Kingdom, WORLD WAR 2 GLIDERS ASSTD DESIGNS', 48326),\n",
              "  ('United Kingdom, JUMBO BAG RED RETROSPOT', 43167),\n",
              "  ('United Kingdom, wrongly marked carton 22804', 36706),\n",
              "  ('United Kingdom, damaged', 33519)],\n",
              " 'Unspecified': [('Unspecified, WORLD WAR 2 GLIDERS ASSTD DESIGNS', 96),\n",
              "  ('Unspecified, 72 SWEETHEART FAIRY CAKE CASES', 48),\n",
              "  ('Unspecified, SET/6 BEAD COASTERS GAUZE BAG GOLD', 48),\n",
              "  ('Unspecified, ICE CREAM SUNDAE LIP GLOSS', 48),\n",
              "  ('Unspecified, 6 ROCKET BALLOONS ', 40)]}"
            ]
          },
          "execution_count": 55,
          "metadata": {},
          "output_type": "execute_result"
        }
      ],
      "source": [
        "# 5. Find the top-selling products (by quantity) for each country, limited to top 5\n",
        "# Example: sql_top_selling_products_by_country_by_quantity = {\n",
        "#    'COUNTRY 1': [('COUNTRY 1, PRODUCT 1', 22343), ('COUNTRY 1, PRODUCT 2', 12345), ('COUNTRY 1, PRODUCT 3', 9534), ('COUNTRY 1, PRODUCT 4', 9000), ('COUNTRY 1, PRODUCT 5', 8000)],\n",
        "#    'COUNTRY 2': [('COUNTRY 2, PRODUCT 1', 9000), ('COUNTRY 2, PRODUCT 2', 7345), ('COUNTRY 2, PRODUCT 3', 6934), ('COUNTRY 2, PRODUCT 4', 6800), ('COUNTRY 2, PRODUCT 5', 4000)],\n",
        "#    ... to simplify, country 3 and 4 are not shown\n",
        "#    'COUNTRY 5': [('COUNTRY 5, PRODUCT 1', 48345), ('COUNTRY 5, PRODUCT 2', 43965), ('COUNTRY 5, PRODUCT 3', 43556), ('COUNTRY 5, PRODUCT 4', 34567), ('COUNTRY 5, PRODUCT 5', 33436)],\n",
        "\n",
        "\n",
        "def get_top_products_by_country_quantity():\n",
        "    query = \"\"\"\n",
        "    WITH QuantityCTE AS (\n",
        "        SELECT \n",
        "            Country,\n",
        "            StockCode,\n",
        "            Country || ', ' || MAX(Description) AS ProductName,\n",
        "            SUM(Quantity) AS TotalQuantity,\n",
        "            ROW_NUMBER() OVER (\n",
        "                PARTITION BY Country \n",
        "                ORDER BY SUM(Quantity) DESC\n",
        "            ) AS Rank\n",
        "        FROM commerce\n",
        "        GROUP BY Country, StockCode\n",
        "    )\n",
        "    SELECT Country, ProductName, TotalQuantity\n",
        "    FROM QuantityCTE\n",
        "    WHERE Rank <= 5\n",
        "    ORDER BY Country, Rank;\n",
        "    \"\"\"\n",
        "    \n",
        "    results = execute_query(query)\n",
        "    \n",
        "    # Format results into dictionary structure\n",
        "    output = {}\n",
        "    for row in results:\n",
        "        country = row[0]\n",
        "        product = row[1]\n",
        "        quantity = row[2]\n",
        "        \n",
        "        if country not in output:\n",
        "            output[country] = []\n",
        "        output[country].append((product, quantity))\n",
        "    \n",
        "    return output\n",
        "\n",
        "sql_top_selling_products_by_country_by_quantity = get_top_products_by_country_quantity()\n",
        "sql_top_selling_products_by_country_by_quantity"
      ]
    },
    {
      "cell_type": "markdown",
      "id": "1d391ec9-ca95-4c56-b4f6-fccf8e0be14a",
      "metadata": {
        "id": "1d391ec9-ca95-4c56-b4f6-fccf8e0be14a"
      },
      "source": [
        "## II. Indexing and Querying with Elasticsearch\n",
        "\n",
        "You should have a better understanding of how to use SQL, now let's leverage the power of Elasticsearch to explore and analyze the data. We'll use the same dataset.\n"
      ]
    },
    {
      "cell_type": "markdown",
      "id": "e7dd72e3-4d2f-4f3a-80ef-7b8b6440b124",
      "metadata": {
        "id": "e7dd72e3-4d2f-4f3a-80ef-7b8b6440b124"
      },
      "source": [
        "### II.1. Package and Module Installation\n",
        "\n",
        "First, let's pool all package and module that you'll need in the installation section below."
      ]
    },
    {
      "cell_type": "code",
      "execution_count": 56,
      "id": "c8ca8f78-e33c-4552-9f4d-8bed711e661f",
      "metadata": {
        "id": "c8ca8f78-e33c-4552-9f4d-8bed711e661f"
      },
      "outputs": [
        {
          "name": "stdout",
          "output_type": "stream",
          "text": [
            "Collecting elasticsearch\n",
            "  Downloading elasticsearch-8.17.2-py3-none-any.whl.metadata (8.8 kB)\n",
            "Collecting elastic-transport<9,>=8.15.1 (from elasticsearch)\n",
            "  Downloading elastic_transport-8.17.0-py3-none-any.whl.metadata (3.6 kB)\n",
            "Requirement already satisfied: urllib3<3,>=1.26.2 in /Users/samuel-sqe/DEV/TEST_AREA/ai-bootcamp/.venv/lib/python3.10/site-packages (from elastic-transport<9,>=8.15.1->elasticsearch) (2.3.0)\n",
            "Requirement already satisfied: certifi in /Users/samuel-sqe/DEV/TEST_AREA/ai-bootcamp/.venv/lib/python3.10/site-packages (from elastic-transport<9,>=8.15.1->elasticsearch) (2024.12.14)\n",
            "Downloading elasticsearch-8.17.2-py3-none-any.whl (717 kB)\n",
            "\u001b[2K   \u001b[90m━━━━━━━━━━━━━━━━━━━━━━━━━━━━━━━━━━━━━━━\u001b[0m \u001b[32m718.0/718.0 kB\u001b[0m \u001b[31m997.2 kB/s\u001b[0m eta \u001b[36m0:00:00\u001b[0m \u001b[36m0:00:01\u001b[0m\n",
            "\u001b[?25hDownloading elastic_transport-8.17.0-py3-none-any.whl (64 kB)\n",
            "Installing collected packages: elastic-transport, elasticsearch\n",
            "Successfully installed elastic-transport-8.17.0 elasticsearch-8.17.2\n",
            "\n",
            "\u001b[1m[\u001b[0m\u001b[34;49mnotice\u001b[0m\u001b[1;39;49m]\u001b[0m\u001b[39;49m A new release of pip is available: \u001b[0m\u001b[31;49m24.3.1\u001b[0m\u001b[39;49m -> \u001b[0m\u001b[32;49m25.0.1\u001b[0m\n",
            "\u001b[1m[\u001b[0m\u001b[34;49mnotice\u001b[0m\u001b[1;39;49m]\u001b[0m\u001b[39;49m To update, run: \u001b[0m\u001b[32;49mpip install --upgrade pip\u001b[0m\n"
          ]
        }
      ],
      "source": [
        "# Write any package/module installation that you need\n",
        "# pip install goes here, this helps declutter your output below\n",
        "!pip install elasticsearch\n"
      ]
    },
    {
      "cell_type": "markdown",
      "id": "6c1633bd-61cb-4009-a064-b2ce2fdfeee4",
      "metadata": {
        "id": "6c1633bd-61cb-4009-a064-b2ce2fdfeee4"
      },
      "source": [
        "### II.2. Set up Elasticsearch Index\n",
        "\n",
        "The first step you need to do which is **preprocessing, let's keep it simple and simply drop all row that have missing values.**\n",
        "\n",
        "Next, you need to set up an Elasticsearch index. An Elasticsearch index is like a database in a traditional relational database. An index lets you store, search, and analyze big volumes of data quickly and in near real time.\n",
        "\n",
        "You'll also need to setup the mappings for the data types, let's do that here."
      ]
    },
    {
      "cell_type": "code",
      "execution_count": 68,
      "id": "60d70360-3456-4e3c-b757-630bc129ad6d",
      "metadata": {
        "id": "60d70360-3456-4e3c-b757-630bc129ad6d"
      },
      "outputs": [
        {
          "data": {
            "text/html": [
              "<div>\n",
              "<style scoped>\n",
              "    .dataframe tbody tr th:only-of-type {\n",
              "        vertical-align: middle;\n",
              "    }\n",
              "\n",
              "    .dataframe tbody tr th {\n",
              "        vertical-align: top;\n",
              "    }\n",
              "\n",
              "    .dataframe thead th {\n",
              "        text-align: right;\n",
              "    }\n",
              "</style>\n",
              "<table border=\"1\" class=\"dataframe\">\n",
              "  <thead>\n",
              "    <tr style=\"text-align: right;\">\n",
              "      <th></th>\n",
              "      <th>InvoiceNo</th>\n",
              "      <th>StockCode</th>\n",
              "      <th>Description</th>\n",
              "      <th>Quantity</th>\n",
              "      <th>InvoiceDate</th>\n",
              "      <th>UnitPrice</th>\n",
              "      <th>CustomerID</th>\n",
              "      <th>Country</th>\n",
              "    </tr>\n",
              "  </thead>\n",
              "  <tbody>\n",
              "    <tr>\n",
              "      <th>0</th>\n",
              "      <td>536365</td>\n",
              "      <td>85123A</td>\n",
              "      <td>WHITE HANGING HEART T-LIGHT HOLDER</td>\n",
              "      <td>6</td>\n",
              "      <td>2010-12-01 08:26:00</td>\n",
              "      <td>2.55</td>\n",
              "      <td>17850.0</td>\n",
              "      <td>United Kingdom</td>\n",
              "    </tr>\n",
              "    <tr>\n",
              "      <th>1</th>\n",
              "      <td>536365</td>\n",
              "      <td>71053</td>\n",
              "      <td>WHITE METAL LANTERN</td>\n",
              "      <td>6</td>\n",
              "      <td>2010-12-01 08:26:00</td>\n",
              "      <td>3.39</td>\n",
              "      <td>17850.0</td>\n",
              "      <td>United Kingdom</td>\n",
              "    </tr>\n",
              "    <tr>\n",
              "      <th>2</th>\n",
              "      <td>536365</td>\n",
              "      <td>84406B</td>\n",
              "      <td>CREAM CUPID HEARTS COAT HANGER</td>\n",
              "      <td>8</td>\n",
              "      <td>2010-12-01 08:26:00</td>\n",
              "      <td>2.75</td>\n",
              "      <td>17850.0</td>\n",
              "      <td>United Kingdom</td>\n",
              "    </tr>\n",
              "    <tr>\n",
              "      <th>3</th>\n",
              "      <td>536365</td>\n",
              "      <td>84029G</td>\n",
              "      <td>KNITTED UNION FLAG HOT WATER BOTTLE</td>\n",
              "      <td>6</td>\n",
              "      <td>2010-12-01 08:26:00</td>\n",
              "      <td>3.39</td>\n",
              "      <td>17850.0</td>\n",
              "      <td>United Kingdom</td>\n",
              "    </tr>\n",
              "    <tr>\n",
              "      <th>4</th>\n",
              "      <td>536365</td>\n",
              "      <td>84029E</td>\n",
              "      <td>RED WOOLLY HOTTIE WHITE HEART.</td>\n",
              "      <td>6</td>\n",
              "      <td>2010-12-01 08:26:00</td>\n",
              "      <td>3.39</td>\n",
              "      <td>17850.0</td>\n",
              "      <td>United Kingdom</td>\n",
              "    </tr>\n",
              "    <tr>\n",
              "      <th>...</th>\n",
              "      <td>...</td>\n",
              "      <td>...</td>\n",
              "      <td>...</td>\n",
              "      <td>...</td>\n",
              "      <td>...</td>\n",
              "      <td>...</td>\n",
              "      <td>...</td>\n",
              "      <td>...</td>\n",
              "    </tr>\n",
              "    <tr>\n",
              "      <th>541904</th>\n",
              "      <td>581587</td>\n",
              "      <td>22613</td>\n",
              "      <td>PACK OF 20 SPACEBOY NAPKINS</td>\n",
              "      <td>12</td>\n",
              "      <td>2011-12-09 12:50:00</td>\n",
              "      <td>0.85</td>\n",
              "      <td>12680.0</td>\n",
              "      <td>France</td>\n",
              "    </tr>\n",
              "    <tr>\n",
              "      <th>541905</th>\n",
              "      <td>581587</td>\n",
              "      <td>22899</td>\n",
              "      <td>CHILDREN'S APRON DOLLY GIRL</td>\n",
              "      <td>6</td>\n",
              "      <td>2011-12-09 12:50:00</td>\n",
              "      <td>2.10</td>\n",
              "      <td>12680.0</td>\n",
              "      <td>France</td>\n",
              "    </tr>\n",
              "    <tr>\n",
              "      <th>541906</th>\n",
              "      <td>581587</td>\n",
              "      <td>23254</td>\n",
              "      <td>CHILDRENS CUTLERY DOLLY GIRL</td>\n",
              "      <td>4</td>\n",
              "      <td>2011-12-09 12:50:00</td>\n",
              "      <td>4.15</td>\n",
              "      <td>12680.0</td>\n",
              "      <td>France</td>\n",
              "    </tr>\n",
              "    <tr>\n",
              "      <th>541907</th>\n",
              "      <td>581587</td>\n",
              "      <td>23255</td>\n",
              "      <td>CHILDRENS CUTLERY CIRCUS PARADE</td>\n",
              "      <td>4</td>\n",
              "      <td>2011-12-09 12:50:00</td>\n",
              "      <td>4.15</td>\n",
              "      <td>12680.0</td>\n",
              "      <td>France</td>\n",
              "    </tr>\n",
              "    <tr>\n",
              "      <th>541908</th>\n",
              "      <td>581587</td>\n",
              "      <td>22138</td>\n",
              "      <td>BAKING SET 9 PIECE RETROSPOT</td>\n",
              "      <td>3</td>\n",
              "      <td>2011-12-09 12:50:00</td>\n",
              "      <td>4.95</td>\n",
              "      <td>12680.0</td>\n",
              "      <td>France</td>\n",
              "    </tr>\n",
              "  </tbody>\n",
              "</table>\n",
              "<p>406829 rows × 8 columns</p>\n",
              "</div>"
            ],
            "text/plain": [
              "       InvoiceNo StockCode                          Description  Quantity  \\\n",
              "0         536365    85123A   WHITE HANGING HEART T-LIGHT HOLDER         6   \n",
              "1         536365     71053                  WHITE METAL LANTERN         6   \n",
              "2         536365    84406B       CREAM CUPID HEARTS COAT HANGER         8   \n",
              "3         536365    84029G  KNITTED UNION FLAG HOT WATER BOTTLE         6   \n",
              "4         536365    84029E       RED WOOLLY HOTTIE WHITE HEART.         6   \n",
              "...          ...       ...                                  ...       ...   \n",
              "541904    581587     22613          PACK OF 20 SPACEBOY NAPKINS        12   \n",
              "541905    581587     22899         CHILDREN'S APRON DOLLY GIRL          6   \n",
              "541906    581587     23254        CHILDRENS CUTLERY DOLLY GIRL          4   \n",
              "541907    581587     23255      CHILDRENS CUTLERY CIRCUS PARADE         4   \n",
              "541908    581587     22138        BAKING SET 9 PIECE RETROSPOT          3   \n",
              "\n",
              "               InvoiceDate  UnitPrice  CustomerID         Country  \n",
              "0      2010-12-01 08:26:00       2.55     17850.0  United Kingdom  \n",
              "1      2010-12-01 08:26:00       3.39     17850.0  United Kingdom  \n",
              "2      2010-12-01 08:26:00       2.75     17850.0  United Kingdom  \n",
              "3      2010-12-01 08:26:00       3.39     17850.0  United Kingdom  \n",
              "4      2010-12-01 08:26:00       3.39     17850.0  United Kingdom  \n",
              "...                    ...        ...         ...             ...  \n",
              "541904 2011-12-09 12:50:00       0.85     12680.0          France  \n",
              "541905 2011-12-09 12:50:00       2.10     12680.0          France  \n",
              "541906 2011-12-09 12:50:00       4.15     12680.0          France  \n",
              "541907 2011-12-09 12:50:00       4.15     12680.0          France  \n",
              "541908 2011-12-09 12:50:00       4.95     12680.0          France  \n",
              "\n",
              "[406829 rows x 8 columns]"
            ]
          },
          "execution_count": 68,
          "metadata": {},
          "output_type": "execute_result"
        }
      ],
      "source": [
        "# Preprocessing here\n",
        "\n",
        "# Load your dataset and create an Elasticsearch index\n",
        "# Hints: use the BulkAPI for faster creation of the index\n",
        "from elasticsearch import Elasticsearch\n",
        "\n",
        "df = pd.read_csv('data.csv', encoding='latin-1' ,parse_dates=['InvoiceDate'])\n",
        "df.dropna(inplace=True)\n",
        "df"
      ]
    },
    {
      "cell_type": "code",
      "execution_count": 107,
      "id": "f73f502e",
      "metadata": {},
      "outputs": [
        {
          "data": {
            "text/plain": [
              "ObjectApiResponse({'acknowledged': True, 'shards_acknowledged': True, 'index': 'commerce'})"
            ]
          },
          "execution_count": 107,
          "metadata": {},
          "output_type": "execute_result"
        }
      ],
      "source": [
        "es = Elasticsearch([{'host': 'localhost', 'port': 9200, 'scheme': 'http'}])\n",
        "\n",
        "index_name = \"commerce\"\n",
        "\n",
        "mappings = {\n",
        "    \"mappings\": {\n",
        "        \"properties\": {\n",
        "            \"InvoiceNo\": {\"type\": \"keyword\"},\n",
        "            \"StockCode\": {\"type\": \"keyword\"},\n",
        "            \"Description\": { # Modified Description mapping\n",
        "                \"type\": \"text\",\n",
        "                \"fields\": {\n",
        "                    \"keyword\": {\"type\": \"keyword\"} # Add keyword sub-field\n",
        "                }\n",
        "            },\n",
        "            \"Quantity\": {\"type\": \"integer\"},\n",
        "            \"InvoiceDate\": {\"type\": \"date\"},\n",
        "            \"UnitPrice\": {\"type\": \"float\"},\n",
        "            \"CustomerID\": {\"type\": \"keyword\"},\n",
        "            \"Country\": {\"type\": \"keyword\"}\n",
        "        }\n",
        "    }\n",
        "}\n",
        "\n",
        "if es.indices.exists(index=index_name):\n",
        "    es.indices.delete(index=index_name)\n",
        "\n",
        "es.indices.create(index=index_name, body=mappings)"
      ]
    },
    {
      "cell_type": "code",
      "execution_count": 108,
      "id": "a292cfa4",
      "metadata": {},
      "outputs": [],
      "source": [
        "from elasticsearch.helpers import bulk\n",
        "\n",
        "documents = df.to_dict(orient='records')\n",
        "def generate_actions(docs):\n",
        "    for doc in docs:\n",
        "        yield {\n",
        "            \"_index\": index_name,\n",
        "            \"_source\": doc\n",
        "        }"
      ]
    },
    {
      "cell_type": "code",
      "execution_count": 109,
      "id": "350b9787",
      "metadata": {},
      "outputs": [
        {
          "name": "stdout",
          "output_type": "stream",
          "text": [
            "Successfully inserted 406829 documents\n"
          ]
        }
      ],
      "source": [
        "from elasticsearch.helpers import bulk\n",
        "\n",
        "try:\n",
        "    success, failed = bulk(\n",
        "        es,\n",
        "        generate_actions(documents),\n",
        "        raise_on_error=False  # Don't raise exceptions, return errors instead\n",
        "    )\n",
        "    print(f\"Successfully inserted {success} documents\")\n",
        "    \n",
        "    # Inspect failed documents\n",
        "    if failed:\n",
        "        print(\"Failed documents:\")\n",
        "        for error in failed:\n",
        "            print(f\"Error: {error}\")\n",
        "\n",
        "except Exception as e:\n",
        "    print(f\"Unexpected error: {e}\")"
      ]
    },
    {
      "cell_type": "code",
      "execution_count": 110,
      "id": "cdf3dc49",
      "metadata": {},
      "outputs": [],
      "source": [
        "my_index_name = index_name\n"
      ]
    },
    {
      "cell_type": "markdown",
      "id": "39f7d0b8-698d-4666-a64a-8a1122bc5421",
      "metadata": {
        "id": "39f7d0b8-698d-4666-a64a-8a1122bc5421"
      },
      "source": [
        "### II.3. Verifying the index\n",
        "\n",
        "Before we go to the next section, let's check our index first. You need to change the my_index_name with your chosen index name, afterwards you can just run the code block. The result should be:\n",
        "\n",
        "- Columns: ['Country', 'CustomerID', 'Description', 'InvoiceDate', 'InvoiceNo', 'Quantity', 'StockCode', 'UnitPrice']\n",
        "- Number of rows: 406829"
      ]
    },
    {
      "cell_type": "code",
      "execution_count": 111,
      "id": "ac844f06-2729-4299-a0c3-409a35fa39f1",
      "metadata": {
        "id": "ac844f06-2729-4299-a0c3-409a35fa39f1"
      },
      "outputs": [
        {
          "name": "stdout",
          "output_type": "stream",
          "text": [
            "Columns: ['Country', 'CustomerID', 'Description', 'InvoiceDate', 'InvoiceNo', 'Quantity', 'StockCode', 'UnitPrice']\n",
            "Number of rows: 406829\n"
          ]
        }
      ],
      "source": [
        "from elasticsearch import Elasticsearch\n",
        "\n",
        "# Connect to the Elasticsearch server\n",
        "es = Elasticsearch([{'host': 'localhost', 'port': 9200, 'scheme': 'http'}])\n",
        "\n",
        "index_name = my_index_name #change the my_index_name value\n",
        "\n",
        "# Get index mapping (equivalent to getting column names in SQL)\n",
        "mapping = es.indices.get_mapping(index=index_name)\n",
        "es_columns = list(mapping[index_name]['mappings']['properties'].keys()) #the variable es_columns is used for submission, do not change the variable name\n",
        "print(f\"Columns: {es_columns}\")\n",
        "\n",
        "# Count documents in the index (equivalent to counting rows in SQL)\n",
        "es_num_rows = es.count(index=index_name)['count'] #the variable es_num_rows is used for submission, do not change the variable name\n",
        "print(f\"Number of rows: {es_num_rows}\")\n"
      ]
    },
    {
      "cell_type": "markdown",
      "id": "dbf3e34d-1092-4326-9f42-83fc2c3bfa29",
      "metadata": {
        "id": "dbf3e34d-1092-4326-9f42-83fc2c3bfa29"
      },
      "source": [
        "### II.4. Running Elasticsearch queries\n",
        "\n",
        "Once your e-commerce data is cleaned and ready, let's analyse the data to gain insights that will drive the expansion strategy, this time using Elasticsearch and we'll focus on one specific country, which is Germany.\n",
        "\n",
        "1. **Find all transactions for a specific country**\n",
        "\n",
        "   Your company operates globally, but you want to understand better how different countries contribute to your sales. By finding all transactions that happened in a specific country, you can get a clearer picture of your company's reach and performance in that location. In our case, we'll focus on the country Germany.\n",
        "\n",
        "\n",
        "2. **Find all unique products in Germany**\n",
        "\n",
        "   Your first task is to understand the breadth of your company's product portfolio in Germany. By determining the total number of unique products you sell, you can assess the scale and diversity of your operations.\n",
        "\n",
        "\n",
        "3. **Find the top 5 most purchased products in Germany**\n",
        "\n",
        "   Next up, you'll identify the best-selling products in your portfolio in Germany. Knowing which items are the most purchased can help guide decisions about product focus and marketing efforts. We'll limit the result to 5 most purchased products.\n",
        "\n",
        "\n",
        "By executing these tasks, you will enable your team to provide data-driven insights which will directly contribute to the strategic decisions about your business expansion. As part of the data engineering team, you're not only maintaining the technical infrastructure - you're shaping the future of the company.\n"
      ]
    },
    {
      "cell_type": "code",
      "execution_count": 112,
      "id": "38753049-8198-43fa-b497-b1b52e70e51e",
      "metadata": {
        "id": "38753049-8198-43fa-b497-b1b52e70e51e"
      },
      "outputs": [],
      "source": [
        "# Write your Elasticsearch Query here\n",
        "\n",
        "#use the following variable name to store the result from your Elasticsearch Query\n",
        "es_total_unique_products = 0\n",
        "es_transactions_in_germany = 0\n",
        "es_top_products = {} #dictionary where key is product name, value is the quantity sold, see example below\n",
        "\n",
        "# 1. Find all transactions for a specific country (Germany)\n",
        "# Example: es_transactions_in_germany = 7584\n",
        "\n",
        "\n"
      ]
    },
    {
      "cell_type": "code",
      "execution_count": 113,
      "id": "060fed74",
      "metadata": {},
      "outputs": [
        {
          "name": "stdout",
          "output_type": "stream",
          "text": [
            "Total transactions in Germany: 9495\n",
            "{'InvoiceNo': '540553', 'StockCode': '22858', 'Description': 'EASTER TIN KEEPSAKE', 'Quantity': 48, 'InvoiceDate': '2011-01-10T09:48:00', 'UnitPrice': 1.65, 'CustomerID': 12500.0, 'Country': 'Germany'}\n",
            "{'InvoiceNo': '540553', 'StockCode': '22861', 'Description': 'EASTER TIN CHICKS IN GARDEN', 'Quantity': 48, 'InvoiceDate': '2011-01-10T09:48:00', 'UnitPrice': 1.65, 'CustomerID': 12500.0, 'Country': 'Germany'}\n",
            "{'InvoiceNo': '540553', 'StockCode': '22585', 'Description': 'PACK OF 6 BIRDY GIFT TAGS', 'Quantity': 144, 'InvoiceDate': '2011-01-10T09:48:00', 'UnitPrice': 1.06, 'CustomerID': 12500.0, 'Country': 'Germany'}\n",
            "{'InvoiceNo': '540553', 'StockCode': '22366', 'Description': 'DOORMAT AIRMAIL ', 'Quantity': 2, 'InvoiceDate': '2011-01-10T09:48:00', 'UnitPrice': 7.95, 'CustomerID': 12500.0, 'Country': 'Germany'}\n",
            "{'InvoiceNo': '540553', 'StockCode': 'POST', 'Description': 'POSTAGE', 'Quantity': 1, 'InvoiceDate': '2011-01-10T09:48:00', 'UnitPrice': 18.0, 'CustomerID': 12500.0, 'Country': 'Germany'}\n"
          ]
        }
      ],
      "source": [
        "# 1. Find all transactions for a specific country (Germany)\n",
        "# Example: es_transactions_in_germany = 7584\n",
        "\n",
        "query = {\n",
        "    \"query\": {\n",
        "        \"match\": {\n",
        "            \"Country\": \"Germany\"\n",
        "        }\n",
        "    }\n",
        "}\n",
        "\n",
        "response = es.search(index=\"commerce\", body=query)\n",
        "\n",
        "total_transactions = response[\"hits\"][\"total\"][\"value\"]\n",
        "print(f\"Total transactions in Germany: {total_transactions}\")\n",
        "\n",
        "for hit in response[\"hits\"][\"hits\"][:5]:\n",
        "    print(hit[\"_source\"])\n",
        "\n",
        "es_transactions_in_germany = total_transactions"
      ]
    },
    {
      "cell_type": "code",
      "execution_count": 114,
      "id": "ef83c53f-bec9-484e-8f37-904879d987e3",
      "metadata": {
        "id": "ef83c53f-bec9-484e-8f37-904879d987e3"
      },
      "outputs": [
        {
          "data": {
            "text/plain": [
              "1671"
            ]
          },
          "execution_count": 114,
          "metadata": {},
          "output_type": "execute_result"
        }
      ],
      "source": [
        "# 2. Find all unique products in Germany\n",
        "# Hints: Use set() to remove duplicate values\n",
        "# Example: es_total_unique_products = 45345\n",
        "query = {\n",
        "    \"query\": {\n",
        "        \"match\": {\n",
        "            \"Country\": \"Germany\"\n",
        "        }\n",
        "    },\n",
        "    \"aggs\": {\n",
        "        \"unique_products\": {\n",
        "            \"terms\": {\n",
        "                \"field\": \"StockCode\",\n",
        "                \"size\": 10000\n",
        "            }\n",
        "        }\n",
        "    },\n",
        "    \"size\": 0\n",
        "}\n",
        "\n",
        "# Execute the search\n",
        "response = es.search(index=\"commerce\", body=query)\n",
        "\n",
        "# Extract the result\n",
        "total_unique_products = response[\"aggregations\"][\"unique_products\"][\"buckets\"]\n",
        "es_total_unique_products = len(total_unique_products)\n",
        "es_total_unique_products\n",
        "\n"
      ]
    },
    {
      "cell_type": "code",
      "execution_count": 115,
      "id": "a8ca3076",
      "metadata": {},
      "outputs": [
        {
          "name": "stdout",
          "output_type": "stream",
          "text": [
            "Top 5 products in Germany: {'ROUND SNACK BOXES SET OF4 WOODLAND ': 1218, 'ASSORTED COLOURS SILK FAN': 1164, 'POSTAGE': 1104, 'WOODLAND CHARLOTTE BAG': 1019, 'PACK OF 72 RETROSPOT CAKE CASES': 1002}\n"
          ]
        }
      ],
      "source": [
        "query = {\n",
        "    \"query\": {\n",
        "        \"term\": {\n",
        "            \"Country\": \"Germany\"\n",
        "        }\n",
        "    },\n",
        "    \"aggs\": {\n",
        "        \"top_products\": {\n",
        "            \"terms\": {\n",
        "                \"field\": \"Description.keyword\", # Now Description.keyword should work!\n",
        "                \"size\": 5,\n",
        "                \"order\": { \"total_quantity\": \"desc\" }\n",
        "            },\n",
        "            \"aggs\": {\n",
        "                \"total_quantity\": {\n",
        "                    \"sum\": { \"field\": \"Quantity\" }\n",
        "                }\n",
        "            }\n",
        "        }\n",
        "    },\n",
        "    \"size\": 0\n",
        "}\n",
        "\n",
        "response = es.search(index=\"commerce\", body=query)\n",
        "\n",
        "# Extract and format results\n",
        "buckets = response[\"aggregations\"][\"top_products\"][\"buckets\"]\n",
        "es_top_products = {bucket[\"key\"]: int(bucket[\"total_quantity\"][\"value\"]) for bucket in buckets}\n",
        "\n",
        "print(f\"Top 5 products in Germany: {es_top_products}\")"
      ]
    },
    {
      "cell_type": "code",
      "execution_count": 118,
      "id": "7e3f37c9",
      "metadata": {},
      "outputs": [],
      "source": [
        "from rggrader import submit, submit_image"
      ]
    },
    {
      "cell_type": "markdown",
      "id": "5d59af48-18c0-4e40-80ff-33a85030b205",
      "metadata": {
        "id": "5d59af48-18c0-4e40-80ff-33a85030b205"
      },
      "source": [
        "## Submission\n",
        "\n",
        "Once you are satisfied with the performance of your model, then you run the code block below to submit your project.\n"
      ]
    },
    {
      "cell_type": "code",
      "execution_count": 119,
      "id": "010d7f7f-711d-4f41-82a3-3c2562e59709",
      "metadata": {
        "id": "010d7f7f-711d-4f41-82a3-3c2562e59709"
      },
      "outputs": [
        {
          "data": {
            "text/plain": [
              "'Assignment successfully submitted'"
            ]
          },
          "execution_count": 119,
          "metadata": {},
          "output_type": "execute_result"
        }
      ],
      "source": [
        "# Submit Method\n",
        "\n",
        "# Do not change the code below\n",
        "question_id = \"01_sql_columns\"\n",
        "submit(student_id, name, assignment_id, str(sql_columns), question_id, drive_link)\n",
        "question_id = \"02_sql_num_rows\"\n",
        "submit(student_id, name, assignment_id, str(sql_num_rows), question_id, drive_link)\n",
        "question_id = \"03_sql_num_products\"\n",
        "submit(student_id, name, assignment_id, str(sql_num_products), question_id, drive_link)\n",
        "question_id = \"04_sql_num_customers\"\n",
        "submit(student_id, name, assignment_id, str(sql_num_customers), question_id, drive_link)\n",
        "question_id = \"05_sql_top_product_revenues\"\n",
        "submit(student_id, name, assignment_id, str(sql_top_product_revenues), question_id, drive_link)\n",
        "question_id = \"06_sql_top_countries\"\n",
        "submit(student_id, name, assignment_id, str(sql_top_countries), question_id, drive_link)\n",
        "question_id = \"07_sql_top_selling_products_by_country_by_sales\"\n",
        "submit(student_id, name, assignment_id, str(sql_top_selling_products_by_country_by_sales), question_id, drive_link)\n",
        "question_id = \"08_sql_top_selling_products_by_country_by_quantity\"\n",
        "submit(student_id, name, assignment_id, str(sql_top_selling_products_by_country_by_quantity), question_id, drive_link)\n",
        "\n",
        "question_id = \"09_es_columns\"\n",
        "submit(student_id, name, assignment_id, str(es_columns), question_id, drive_link)\n",
        "question_id = \"10_es_num_rows\"\n",
        "submit(student_id, name, assignment_id, str(es_num_rows), question_id, drive_link)\n",
        "question_id = \"11_es_total_unique_products\"\n",
        "submit(student_id, name, assignment_id, str(es_total_unique_products), question_id, drive_link)\n",
        "question_id = \"12_es_transactions_in_germany\"\n",
        "submit(student_id, name, assignment_id, str(es_transactions_in_germany), question_id, drive_link)\n",
        "question_id = \"13_es_top_products\"\n",
        "submit(student_id, name, assignment_id, str(es_top_products), question_id, drive_link)"
      ]
    },
    {
      "cell_type": "markdown",
      "id": "aa89b9ff-0d31-416a-b3c4-851c725fadf7",
      "metadata": {
        "id": "aa89b9ff-0d31-416a-b3c4-851c725fadf7"
      },
      "source": [
        "## FIN"
      ]
    }
  ],
  "metadata": {
    "colab": {
      "include_colab_link": true,
      "provenance": []
    },
    "kernelspec": {
      "display_name": ".venv",
      "language": "python",
      "name": "python3"
    },
    "language_info": {
      "codemirror_mode": {
        "name": "ipython",
        "version": 3
      },
      "file_extension": ".py",
      "mimetype": "text/x-python",
      "name": "python",
      "nbconvert_exporter": "python",
      "pygments_lexer": "ipython3",
      "version": "3.10.14"
    }
  },
  "nbformat": 4,
  "nbformat_minor": 5
}
