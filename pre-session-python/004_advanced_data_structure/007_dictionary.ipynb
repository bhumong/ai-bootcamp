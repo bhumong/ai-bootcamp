{
  "cells": [
    {
      "cell_type": "markdown",
      "metadata": {
        "id": "view-in-github",
        "colab_type": "text"
      },
      "source": [
        "<a href=\"https://colab.research.google.com/github/bhumong/ai-bootcamp/blob/main/pre-session-python/004_advanced_data_structure/007_dictionary.ipynb\" target=\"_parent\"><img src=\"https://colab.research.google.com/assets/colab-badge.svg\" alt=\"Open In Colab\"/></a>"
      ]
    },
    {
      "cell_type": "markdown",
      "metadata": {
        "id": "JLhglexTGffp"
      },
      "source": [
        "# A single data type that can hold lots of information: Dictionary\n",
        "\n",
        "Using a list we might be able to store the information about a person like this:\n",
        "\n",
        "```python\n",
        "person = [\n",
        "    \"John\",\n",
        "    \"Doe\",\n",
        "    46,\n",
        "    \"Programmer\",\n",
        "]\n",
        "```\n",
        "\n",
        "Of course it's doable, but it's not that easy to understand what's going on here. We have to remember that the first element is the first name, the second is the last name, the third is the age and the fourth is the job. It's not that easy to remember, and it's not that easy to read either."
      ]
    },
    {
      "cell_type": "markdown",
      "metadata": {
        "id": "EfQ4J2A2Gffs"
      },
      "source": [
        "## Dictionary comes for the rescue!\n",
        "\n",
        "A dictionary is a data type that can hold lots of information but it's much readable than a list because it uses keys and values where we can name the key with a readable name. Let's take a look how can we convert above list to a dictionary:"
      ]
    },
    {
      "cell_type": "code",
      "execution_count": null,
      "metadata": {
        "id": "qcisK9UVGfft",
        "outputId": "b9683807-22f0-49f9-c96c-b5cdf80416a8"
      },
      "outputs": [
        {
          "name": "stdout",
          "output_type": "stream",
          "text": [
            "{'first_name': 'John', 'last_name': 'Doe', 'age': 46, 'profession': 'Programmer'}\n"
          ]
        }
      ],
      "source": [
        "person = {\n",
        "    \"first_name\": \"John\",\n",
        "    \"last_name\": \"Doe\",\n",
        "    \"age\": 46,\n",
        "    \"profession\": \"Programmer\"\n",
        "}\n",
        "\n",
        "print(person)"
      ]
    },
    {
      "cell_type": "markdown",
      "metadata": {
        "id": "YWXq7PUpGffu"
      },
      "source": [
        "Now it's much readable and we can easily understand what's going on here. We know that this data holds an information about a person with the first name of John, last name of Doe, age of 46 and job of Programmer.\n",
        "\n",
        "We can also access any value in the dictionary by using the key:"
      ]
    },
    {
      "cell_type": "code",
      "execution_count": null,
      "metadata": {
        "id": "cugoWXE5Gffu",
        "outputId": "259d7c56-f50c-4c29-b9e9-e5d5bab560f5"
      },
      "outputs": [
        {
          "data": {
            "text/plain": [
              "'John'"
            ]
          },
          "execution_count": 3,
          "metadata": {},
          "output_type": "execute_result"
        }
      ],
      "source": [
        "person[\"first_name\"]"
      ]
    },
    {
      "cell_type": "markdown",
      "metadata": {
        "id": "U0opHPo_Gffv"
      },
      "source": [
        "Just like the list, we can mutate any information in the dictionary:"
      ]
    },
    {
      "cell_type": "code",
      "execution_count": null,
      "metadata": {
        "id": "y4mJoyIyGffv",
        "outputId": "ec169e44-69f3-417c-ebe7-e776906ebc03"
      },
      "outputs": [
        {
          "name": "stdout",
          "output_type": "stream",
          "text": [
            "{'first_name': 'Andi', 'last_name': 'Doe', 'age': 46, 'profession': 'Programmer'}\n"
          ]
        }
      ],
      "source": [
        "person['first_name'] = \"Andi\"\n",
        "print(person)"
      ]
    },
    {
      "cell_type": "markdown",
      "metadata": {
        "id": "5F_cosv5Gffw"
      },
      "source": [
        "# Challenge!"
      ]
    },
    {
      "cell_type": "markdown",
      "metadata": {
        "id": "INPSMtq4Gffw"
      },
      "source": [
        "## Challenge 1\n",
        "Access the price of bananas from the prices dictionary and print it."
      ]
    },
    {
      "cell_type": "code",
      "execution_count": null,
      "metadata": {
        "id": "Jg_ILJWGGffx"
      },
      "outputs": [],
      "source": [
        "prices = {'apple': 1.2, 'banana': 0.5, 'orange': 0.8}\n",
        "\n",
        "# Change below code\n",
        "print(prices['apple']) # Expected output: 0.5"
      ]
    },
    {
      "cell_type": "markdown",
      "metadata": {
        "id": "XAXHFLc5Gffx"
      },
      "source": [
        "When you are done with the above challenge, then:\n",
        "\n",
        "1. Change the text \"my result\" below with the text \"done\"\n",
        "2. Run the code block by pressing the play button."
      ]
    },
    {
      "cell_type": "code",
      "execution_count": null,
      "metadata": {
        "id": "hzAq4r3yGffx"
      },
      "outputs": [],
      "source": [
        "!pip install rggrader\n",
        "\n",
        "from rggrader import submit\n",
        "\n",
        "# @title #### Student Identity\n",
        "student_id = \"your student id\" # @param {type:\"string\"}\n",
        "name = \"your name\" # @param {type:\"string\"}\n",
        "\n",
        "# Submit Method\n",
        "assignment_id = \"009_dictionary\"\n",
        "question_id = \"01_dictionary_access\"\n",
        "\n",
        "result = \"my result\"\n",
        "\n",
        "submit(student_id, name, assignment_id, result, question_id)"
      ]
    },
    {
      "cell_type": "markdown",
      "metadata": {
        "id": "gQ5_aqXIGffx"
      },
      "source": [
        "## Challenge 2\n",
        "\n",
        "Change the score of 'Alice' in student_scores to 90."
      ]
    },
    {
      "cell_type": "code",
      "execution_count": null,
      "metadata": {
        "id": "cWLrvil6Gffx"
      },
      "outputs": [],
      "source": [
        "student_scores = {'Alice': 85, 'Bob': 90}\n",
        "\n",
        "# Add your code below!\n",
        "print(student_scores) # Expected output: {'Alice': 90, 'Bob': 90}"
      ]
    },
    {
      "cell_type": "markdown",
      "metadata": {
        "id": "L3uVlm01Gffy"
      },
      "source": [
        "When you are done with the above challenge, then:\n",
        "1. Run the code block by pressing the play button."
      ]
    },
    {
      "cell_type": "code",
      "execution_count": null,
      "metadata": {
        "id": "XmWWpUTjGffy"
      },
      "outputs": [],
      "source": [
        "# Submit Method\n",
        "assignment_id = \"009_dictionary\"\n",
        "question_id = \"02_dictionary_update\"\n",
        "\n",
        "submit(student_id, name, assignment_id, str(student_scores['Alice']), question_id)"
      ]
    },
    {
      "cell_type": "markdown",
      "metadata": {
        "id": "PRtrnTp-Gffy"
      },
      "source": [
        "## Challenge 3\n",
        "\n",
        "Add a new key-value pair to the pets dictionary. The key should be 'bird' and its value 'tweet'."
      ]
    },
    {
      "cell_type": "code",
      "execution_count": null,
      "metadata": {
        "id": "fULf83qXGffy"
      },
      "outputs": [],
      "source": [
        "pets = {'dog': 'bark', 'cat': 'meow'}\n",
        "\n",
        "# Add your code below!\n",
        "print(pets) # Expected output: {'dog': 'bark', 'cat': 'meow', 'bird': 'tweet'}"
      ]
    },
    {
      "cell_type": "markdown",
      "metadata": {
        "id": "WCKpUuYFGffy"
      },
      "source": [
        "When you are done with the above challenge, then:\n",
        "1. Run the code block by pressing the play button."
      ]
    },
    {
      "cell_type": "code",
      "execution_count": null,
      "metadata": {
        "id": "I9-SP2jdGffy"
      },
      "outputs": [],
      "source": [
        "# Submit Method\n",
        "assignment_id = \"009_dictionary\"\n",
        "question_id = \"03_dictionary_add\"\n",
        "\n",
        "submit(student_id, name, assignment_id, str(pets['bird']), question_id)"
      ]
    },
    {
      "cell_type": "markdown",
      "metadata": {
        "id": "UISmwLEuGffy"
      },
      "source": [
        "## Iterating Over Dictionary Values\n",
        "In Python, dictionaries are incredibly versatile data structures that allow us to store data in key-value pairs. Often, you might find yourself needing to work with just the values in a dictionary. This is where iterating over dictionary values becomes handy.\n",
        "\n",
        "For example, let's say we have a dictionary of countries and their respective capitals:\n"
      ]
    },
    {
      "cell_type": "code",
      "execution_count": null,
      "metadata": {
        "id": "yKJeSXGhGffy"
      },
      "outputs": [],
      "source": [
        "countries = {'USA': 'Washington', 'UK': 'London', 'Japan': 'Tokyo'}"
      ]
    },
    {
      "cell_type": "markdown",
      "metadata": {
        "id": "lDZN7-FwGffy"
      },
      "source": [
        "To access and work with just the capitals, we use a simple for loop combined with the .values() method:"
      ]
    },
    {
      "cell_type": "code",
      "execution_count": null,
      "metadata": {
        "id": "CWuCK22DGffy",
        "outputId": "7be0e2af-49be-427a-f336-22be8e78b7ba"
      },
      "outputs": [
        {
          "name": "stdout",
          "output_type": "stream",
          "text": [
            "Washington\n",
            "London\n",
            "Tokyo\n"
          ]
        }
      ],
      "source": [
        "for capital in countries.values():\n",
        "    print(capital)"
      ]
    },
    {
      "cell_type": "markdown",
      "metadata": {
        "id": "79KGJZttGffy"
      },
      "source": [
        "This loop will print each capital city in our dictionary. It's a straightforward and efficient way to access all the values without needing to worry about the keys."
      ]
    },
    {
      "cell_type": "markdown",
      "metadata": {
        "id": "i9KH3BOhGffy"
      },
      "source": [
        "# Iterating Over Dictionary Items\n",
        "Sometimes, you need both the key and the value in a dictionary. In such cases, iterating over items is the approach to take. Continuing with our countries example, if we want to print both the country and its capital, we can use the .items() method.\n",
        "\n",
        "Here's how it's done:"
      ]
    },
    {
      "cell_type": "code",
      "execution_count": null,
      "metadata": {
        "id": "J3aFF-yCGffy",
        "outputId": "cd347d99-12b3-40aa-ea6f-ca1cc3149198"
      },
      "outputs": [
        {
          "name": "stdout",
          "output_type": "stream",
          "text": [
            "The capital of USA is Washington\n",
            "The capital of UK is London\n",
            "The capital of Japan is Tokyo\n"
          ]
        }
      ],
      "source": [
        "countries = {'USA': 'Washington', 'UK': 'London', 'Japan': 'Tokyo'}\n",
        "\n",
        "for country, capital in countries.items():\n",
        "    print(f\"The capital of {country} is {capital}\")"
      ]
    },
    {
      "cell_type": "markdown",
      "metadata": {
        "id": "6UW427DJGffz"
      },
      "source": [
        "This loop goes through each key-value pair in the dictionary, giving us access to both the country (key) and its capital (value). The .items() method is particularly useful when you need to perform operations that involve both keys and values."
      ]
    },
    {
      "cell_type": "markdown",
      "metadata": {
        "id": "Q9EZ1TcwGffz"
      },
      "source": [
        "# Challenge"
      ]
    },
    {
      "cell_type": "markdown",
      "metadata": {
        "id": "Fcl4zLhMGffz"
      },
      "source": [
        "## Challenge 1\n",
        "\n",
        "Iterate over the indonesian_cuisine dictionary and print each local dish."
      ]
    },
    {
      "cell_type": "code",
      "execution_count": null,
      "metadata": {
        "id": "z_MOCcrNGffz"
      },
      "outputs": [],
      "source": [
        "indonesian_cuisine = {'Sumatra': 'Rendang', 'Java': 'Rawon', 'Yogyakarta': 'Gudeg'}\n",
        "\n",
        "# Add your code below!\n",
        "# Expected output:\n",
        "# Rendang\n",
        "# Rawon\n",
        "# Gudeg"
      ]
    },
    {
      "cell_type": "markdown",
      "metadata": {
        "id": "_bzaKLTlGffz"
      },
      "source": [
        "When you are done with the above challenge, then:\n",
        "\n",
        "1. Change the text \"my result\" below with the text \"done\"\n",
        "2. Run the code block by pressing the play button."
      ]
    },
    {
      "cell_type": "code",
      "execution_count": null,
      "metadata": {
        "id": "iRgoW7c-Gffz"
      },
      "outputs": [],
      "source": [
        "# Submit Method\n",
        "assignment_id = \"009_dictionary\"\n",
        "question_id = \"04_dictionary_loop\"\n",
        "\n",
        "result = \"my result\"\n",
        "\n",
        "submit(student_id, name, assignment_id, result, question_id)"
      ]
    },
    {
      "cell_type": "markdown",
      "metadata": {
        "id": "gMP1mNyOGffz"
      },
      "source": [
        "## Challenge 2\n",
        "\n",
        "Iterate over the book_titles dictionary and print each author with their book title."
      ]
    },
    {
      "cell_type": "code",
      "execution_count": null,
      "metadata": {
        "id": "G1cHjezwGffz"
      },
      "outputs": [],
      "source": [
        "book_titles = {'Orwell': '1984', 'Huxley': 'Brave New World'}\n",
        "\n",
        "# Add your code below!\n",
        "# Expected output:\n",
        "# Orwell wrote 1984\n",
        "# Huxley wrote Brave New World"
      ]
    },
    {
      "cell_type": "markdown",
      "metadata": {
        "id": "6s1P3nd5Gffz"
      },
      "source": [
        "When you are done with the above challenge, then:\n",
        "\n",
        "1. Change the text \"my result\" below with the text \"done\"\n",
        "2. Run the code block by pressing the play button."
      ]
    },
    {
      "cell_type": "code",
      "execution_count": null,
      "metadata": {
        "id": "NrB6ITDLGffz"
      },
      "outputs": [],
      "source": [
        "# Submit Method\n",
        "assignment_id = \"009_dictionary\"\n",
        "question_id = \"05_dictionary_concat\"\n",
        "\n",
        "result = \"my result\"\n",
        "\n",
        "submit(student_id, name, assignment_id, result, question_id)"
      ]
    }
  ],
  "metadata": {
    "kernelspec": {
      "display_name": "Python 3 (ipykernel)",
      "language": "python",
      "name": "python3"
    },
    "language_info": {
      "codemirror_mode": {
        "name": "ipython",
        "version": 3
      },
      "file_extension": ".py",
      "mimetype": "text/x-python",
      "name": "python",
      "nbconvert_exporter": "python",
      "pygments_lexer": "ipython3",
      "version": "3.11.3"
    },
    "colab": {
      "provenance": [],
      "include_colab_link": true
    }
  },
  "nbformat": 4,
  "nbformat_minor": 0
}