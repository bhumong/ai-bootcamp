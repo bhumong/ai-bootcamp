{
  "cells": [
    {
      "cell_type": "markdown",
      "metadata": {
        "id": "view-in-github",
        "colab_type": "text"
      },
      "source": [
        "<a href=\"https://colab.research.google.com/github/bhumong/ai-bootcamp/blob/main/pre-session-python/007_practice/013_soal_latihan_1.ipynb\" target=\"_parent\"><img src=\"https://colab.research.google.com/assets/colab-badge.svg\" alt=\"Open In Colab\"/></a>"
      ]
    },
    {
      "cell_type": "markdown",
      "metadata": {
        "id": "saVjv3Q1w8tU"
      },
      "source": [
        "# Panduan Mentoring Session\n",
        "\n",
        "Notebook ini berisi soal-soal latihan untuk dikerjakan bersama oleh student dan instruktur.\n",
        "\n",
        "Pengerjaan dilakukan per challenge. Student akan diberikan waktu pengerjaan selama 5 menit. Setelah 5 menit berakhir, maka student bisa mendemokan solusi-nya. Instruktur akan memvalidasi dan membantu menambahkan penjelasan.\n",
        "\n",
        "Kemudian berlanjut ke Challenge berikutnya."
      ]
    },
    {
      "cell_type": "markdown",
      "metadata": {
        "id": "x3TjwxkPb4aS"
      },
      "source": [
        "## Challenge 1\n",
        "### Conditional: Memeriksa Bilangan Positif, Negatif, atau Nol\n",
        "\n",
        "Buatlah sebuah fungsi yang akan memeriksa apakah sebuah bilangan integer positif, negatif, atau nol. Gunakan if-elif-else untuk memeriksa setiap kondisi."
      ]
    },
    {
      "cell_type": "code",
      "execution_count": null,
      "metadata": {
        "id": "jE7c6PAfbPW-"
      },
      "outputs": [],
      "source": [
        "def check_number(num):\n",
        "    # Memeriksa apakah bilangan positif, negatif, atau nol\n",
        "    return any\n",
        "\n",
        "check_number(10) # -> \"Positive\"\n",
        "check_number(-5) # -> \"Negative\"\n",
        "check_number(0) # -> \"Zero\"\n"
      ]
    },
    {
      "cell_type": "markdown",
      "metadata": {
        "id": "da1RfJU-dkoc"
      },
      "source": [
        "## Challenge 2\n",
        "### Loop: Menampilkan Bilangan Prima\n",
        "\n",
        "Kamu diminta membuat fungsi yang menampilkan semua bilangan prima dari 2 hingga angka `n`. Fungsi ini menggunakan loop untuk memeriksa setiap bilangan dan menentukan apakah bilangan tersebut **prima**. Bilangan prima adalah bilangan yang hanya habis dibagi oleh dirinya sendiri."
      ]
    },
    {
      "cell_type": "code",
      "execution_count": null,
      "metadata": {
        "id": "NLUBdkyndtg8"
      },
      "outputs": [],
      "source": [
        "def prime_numbers(n):\n",
        "    # Menampilkan semua bilangan prima dari 2 hingga n\n",
        "    return any\n",
        "\n",
        "prime_numbers(10) # -> 2, 3, 5, 7\n"
      ]
    },
    {
      "cell_type": "markdown",
      "metadata": {
        "id": "e9NVeHVmd0Cs"
      },
      "source": [
        "## Challenge 3\n",
        "### Accessing and Mutating Data in List: Memodifikasi Daftar\n",
        "\n",
        "Soal ini meminta kamu untuk mengubah elemen tertentu dalam sebuah `list`. Kamu akan mengakses elemen menggunakan `index` dan menggantinya dengan nilai baru."
      ]
    },
    {
      "cell_type": "code",
      "execution_count": null,
      "metadata": {
        "id": "NiOIPcYcd_JM"
      },
      "outputs": [],
      "source": [
        "def modify_list(lst):\n",
        "    # Mengubah elemen kedua dan keempat dalam daftar\n",
        "    return any\n",
        "\n",
        "lst = [5, 10, 15, 20, 25, 30]\n",
        "modify_list(lst) # -> [5, 12, 15, 22, 25, 30]\n"
      ]
    },
    {
      "cell_type": "markdown",
      "metadata": {
        "id": "FBsD93uYejwp"
      },
      "source": [
        "## Challenge 4\n",
        "### Loop dan Conditional: Memisahkan Bilangan Genap dan Ganjil\n",
        "Kamu diminta membuat fungsi yang menerima daftar angka dan memisahkan angka genap dan ganjil ke dalam dua daftar berbeda. Gunakan **loop** untuk iterasi dan **if-else** untuk pengecekan.\n",
        "\n"
      ]
    },
    {
      "cell_type": "code",
      "execution_count": null,
      "metadata": {
        "id": "aGUnJtITeq2P"
      },
      "outputs": [],
      "source": [
        "def even_odd_split(lst):\n",
        "    # Memisahkan bilangan genap dan ganjil dari daftar\n",
        "    return any\n",
        "\n",
        "even_odd_split([1, 2, 3, 4, 5]) # -> ([2, 4], [1, 3, 5])\n"
      ]
    },
    {
      "cell_type": "markdown",
      "metadata": {
        "id": "ULYBO0X7ezaO"
      },
      "source": [
        "## Challenge 5\n",
        "### Dictionary: Menghitung Frekuensi Kata\n",
        "Untuk soal ini kamu harus menggunakan sebuah `dictionary` untuk menyimpan frekuensi kemunculan kata dalam sebuah **string**. Kamu harus membagi string menjadi kata-kata dan kemudian menghitung berapa kali setiap kata muncul."
      ]
    },
    {
      "cell_type": "code",
      "execution_count": null,
      "metadata": {
        "id": "H8aiixlEe7lQ"
      },
      "outputs": [],
      "source": [
        "def word_count(sentence):\n",
        "    # Menghitung frekuensi kemunculan kata dalam sebuah kalimat\n",
        "    return any\n",
        "\n",
        "word_count(\"apple orange apple banana\") # -> {'apple': 2, 'orange': 1, 'banana': 1}\n"
      ]
    },
    {
      "cell_type": "markdown",
      "metadata": {
        "id": "1Fh1arhmfJ8j"
      },
      "source": [
        "## Challenge 6\n",
        "### List dan Loop: Mencari Nilai Maksimum Tanpa Fungsi Bawaan\n",
        "Kamu diminta menemukan nilai maksimum dalam daftar tanpa menggunakan fungsi bawaan seperti `max()`. Kamu harus menggunakan loop untuk iterasi dan kondisi untuk memperbarui nilai maksimum."
      ]
    },
    {
      "cell_type": "code",
      "execution_count": null,
      "metadata": {
        "id": "Uwbp1owbfMi-"
      },
      "outputs": [],
      "source": [
        "def find_max(lst):\n",
        "    # Mencari nilai maksimum dalam daftar tanpa menggunakan max()\n",
        "    return any\n",
        "\n",
        "\n",
        "find_max([100, 22, 133, 74, 52]) # -> 133\n"
      ]
    },
    {
      "cell_type": "markdown",
      "metadata": {
        "id": "cuwh6TFtf3UK"
      },
      "source": [
        "## Challenge 7\n",
        "### Dictionary: Mengupdate Nilai dalam Dictionary\n",
        "Kamu harus membuat fungsi yang mengubah nilai di dalam `dictionary` berdasarkan suatu kondisi. Jika nilai harga lebih besar dari 100, harga tersebut akan digandakan."
      ]
    },
    {
      "cell_type": "code",
      "execution_count": null,
      "metadata": {
        "id": "HA7ty0Tff8R6"
      },
      "outputs": [],
      "source": [
        "def update_price(prices):\n",
        "    # Menggandakan harga yang lebih dari 100 dalam dictionary\n",
        "    return any\n",
        "\n",
        "\n",
        "prices = {\"apple\": 50, \"banana\": 120, \"cherry\": 200}\n",
        "update_price(prices) # -> {\"apple\": 50, \"banana\": 240, \"cherry\": 400}\n"
      ]
    },
    {
      "cell_type": "markdown",
      "metadata": {
        "id": "9xS3447JgHMR"
      },
      "source": [
        "## Challenge 8\n",
        "### Gradio: Membuat Aplikasi Sederhana untuk Konversi Huruf Besar\n",
        "Soal ini meminta kamu membuat aplikasi sederhana menggunakan Gradio untuk mengubah teks menjadi huruf besar (uppercase). Gradio digunakan untuk membuat antarmuka."
      ]
    },
    {
      "cell_type": "code",
      "execution_count": null,
      "metadata": {
        "collapsed": true,
        "id": "CFgwdmqcg9Uo",
        "jupyter": {
          "outputs_hidden": true
        }
      },
      "outputs": [],
      "source": [
        "%pip install gradio"
      ]
    },
    {
      "cell_type": "code",
      "execution_count": null,
      "metadata": {
        "id": "uXszblq0gu4J"
      },
      "outputs": [],
      "source": [
        "import gradio as gr\n",
        "\n",
        "def to_uppercase(text):\n",
        "    # Mengubah teks menjadi huruf besar\n",
        "    return any\n",
        "\n",
        "# Membuat antarmuka\n",
        "iface = any\n",
        "\n",
        "# Contoh penggunaan:\n",
        "# Input: \"hello world\"\n",
        "# Output: \"HELLO WORLD\"\n"
      ]
    },
    {
      "cell_type": "markdown",
      "metadata": {
        "id": "9K3WkJMIKB2a"
      },
      "source": [
        "## Challenge 9\n",
        "### Menghitung Total Angka dalam List\n",
        "Buat sebuah fungsi yang menerima sebuah list berisi angka-angka dan mengembalikan jumlah total dari semua angka tersebut."
      ]
    },
    {
      "cell_type": "code",
      "execution_count": null,
      "metadata": {
        "id": "zg6haUStKGe2"
      },
      "outputs": [],
      "source": [
        "def total_sum(lst):\n",
        "    # Menghitung total dari semua angka dalam list\n",
        "    return any\n",
        "\n",
        "\n",
        "print(total_sum([1, 2, 3, 4]))  # -> 10\n",
        "print(total_sum([10, -2, 5]))   # -> 13\n",
        "print(total_sum([0, 0, 0]))     # -> 0\n"
      ]
    },
    {
      "cell_type": "markdown",
      "metadata": {
        "id": "XzO2vrKzLFN0"
      },
      "source": [
        "## Challenge 10\n",
        "### Membuat Dictionary dari Dua List\n",
        "Buat sebuah fungsi yang menerima dua list, satu list sebagai key dan satu list sebagai value, lalu mengembalikan dictionary yang menghubungkan keduanya."
      ]
    },
    {
      "cell_type": "code",
      "execution_count": null,
      "metadata": {
        "id": "RLeqSpGeLI5N"
      },
      "outputs": [],
      "source": [
        "def lists_to_dict(keys, values):\n",
        "    # Membuat dictionary dari dua list\n",
        "    return any\n",
        "\n",
        "print(lists_to_dict(['a', 'b', 'c'], [1, 2, 3]))  # -> {'a': 1, 'b': 2, 'c': 3}\n",
        "print(lists_to_dict(['name', 'age'], ['Alice', 30]))  # -> {'name': 'Alice', 'age': 30}\n",
        "print(lists_to_dict([1, 2], [True, False]))  # -> {1: True, 2: False}\n"
      ]
    },
    {
      "cell_type": "markdown",
      "metadata": {
        "id": "mFFpLTbtLRRb"
      },
      "source": [
        "## Challenge 11\n",
        "### Menghitung Bilangan Faktorial\n",
        "Buat sebuah fungsi yang menghitung faktorial dari sebuah bilangan bulat `n` (`n!`). Fungsi ini menggunakan perulangan untuk menghitung faktorial bilangan dengan cara mengalikan semua bilangan dari 1 hingga `n`.\n",
        "\n"
      ]
    },
    {
      "cell_type": "code",
      "execution_count": null,
      "metadata": {
        "id": "7Pqi8X7HLXpY"
      },
      "outputs": [],
      "source": [
        "def factorial(n):\n",
        "    # Menghitung faktorial dari n\n",
        "    return any\n",
        "\n",
        "# Contoh penggunaan:\n",
        "print(factorial(5))  # -> 120 (5! = 5*4*3*2*1)\n",
        "print(factorial(1))  # -> 1\n",
        "print(factorial(7))  # -> 5040\n"
      ]
    },
    {
      "cell_type": "markdown",
      "metadata": {
        "id": "WQZr2tISLo5c"
      },
      "source": [
        "## Challenge 12\n",
        "### Memeriksa Apakah Dua String Anagram\n",
        "Buat sebuah fungsi yang memeriksa apakah dua string adalah anagram (memiliki karakter yang sama dengan urutan yang berbeda)."
      ]
    },
    {
      "cell_type": "code",
      "execution_count": null,
      "metadata": {
        "id": "uIk0H_N1Lt1g"
      },
      "outputs": [],
      "source": [
        "def is_anagram(s1, s2):\n",
        "    # Memeriksa apakah dua string adalah anagram\n",
        "    return any\n",
        "\n",
        "print(is_anagram(\"listen\", \"silent\"))  # -> True\n",
        "print(is_anagram(\"triangle\", \"integral\"))  # -> True\n",
        "print(is_anagram(\"apple\", \"pale\"))     # -> False\n"
      ]
    }
  ],
  "metadata": {
    "colab": {
      "provenance": [],
      "include_colab_link": true
    },
    "kernelspec": {
      "display_name": "Python 3 (ipykernel)",
      "language": "python",
      "name": "python3"
    },
    "language_info": {
      "codemirror_mode": {
        "name": "ipython",
        "version": 3
      },
      "file_extension": ".py",
      "mimetype": "text/x-python",
      "name": "python",
      "nbconvert_exporter": "python",
      "pygments_lexer": "ipython3",
      "version": "3.11.3"
    }
  },
  "nbformat": 4,
  "nbformat_minor": 0
}