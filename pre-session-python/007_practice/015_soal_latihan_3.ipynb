{
  "cells": [
    {
      "cell_type": "markdown",
      "metadata": {
        "id": "view-in-github",
        "colab_type": "text"
      },
      "source": [
        "<a href=\"https://colab.research.google.com/github/bhumong/ai-bootcamp/blob/main/pre-session-python/007_practice/015_soal_latihan_3.ipynb\" target=\"_parent\"><img src=\"https://colab.research.google.com/assets/colab-badge.svg\" alt=\"Open In Colab\"/></a>"
      ]
    },
    {
      "cell_type": "markdown",
      "metadata": {
        "id": "9QMNoFo2LVeW"
      },
      "source": [
        "# Panduan Mentoring Session\n",
        "\n",
        "Notebook ini berisi soal-soal latihan untuk dikerjakan bersama oleh student dan instruktur.\n",
        "\n",
        "Pengerjaan dilakukan per challenge. Student akan diberikan waktu pengerjaan selama 5 menit. Setelah 5 menit berakhir, maka student bisa mendemokan solusi-nya. Instruktur akan memvalidasi dan membantu menambahkan penjelasan.\n",
        "\n",
        "Kemudian berlanjut ke Challenge berikutnya."
      ]
    },
    {
      "cell_type": "markdown",
      "metadata": {
        "id": "cXxdQ3-ppr3G"
      },
      "source": [
        "## Challenge 1\n",
        "### Menemukan Pasangan Elemen yang Berjumlah Tertentu dalam Daftar\n",
        "Buat fungsi yang menerima daftar angka dan sebuah target, kemudian menemukan semua pasangan elemen yang jumlahnya sama dengan target tersebut. Pastikan setiap pasangan unik dan elemen tidak digunakan lebih dari sekali."
      ]
    },
    {
      "cell_type": "code",
      "execution_count": null,
      "metadata": {
        "colab": {
          "base_uri": "https://localhost:8080/"
        },
        "id": "jd6xT-Q2qXGc",
        "outputId": "6793a521-caed-408a-98b3-95f852ffdfd4"
      },
      "outputs": [
        {
          "name": "stdout",
          "output_type": "stream",
          "text": [
            "[(3, 7), (4, 6), (1, 9), (2, 8)]\n",
            "[(-4, 11), (2, 5)]\n",
            "[(-3, 1)]\n"
          ]
        }
      ],
      "source": [
        "def find_pairs(arr, target):\n",
        "    # Menemukan semua pasangan yang berjumlah target\n",
        "    return any\n",
        "\n",
        "# Contoh penggunaan:\n",
        "print(find_pairs([1, 2, 3, 4, 5, 6, 7, 8, 9], 10))  # -> [(1, 9), (2, 8), (3, 7), (4, 6)]\n",
        "print(find_pairs([3, 5, 2, -4, 8, 11], 7))         # -> [(11, -4), (5, 2)]\n",
        "print(find_pairs([0, -1, 2, -3, 1], -2))           # -> [(-1, -3)]\n"
      ]
    },
    {
      "cell_type": "markdown",
      "metadata": {
        "id": "6h2N-PT_qK4A"
      },
      "source": [
        "## Challenge 2\n",
        "### Melakukan Flattening Nested List\n",
        "Buat fungsi yang menerima sebuah nested list (list di dalam list) dan menghasilkan satu list yang rata (flattened). Daftar bisa memiliki tingkat kedalaman yang tidak terbatas, dan kamu bisa menggunakan teknik rekursif untuk menyelesaikan masalah ini."
      ]
    },
    {
      "cell_type": "code",
      "execution_count": null,
      "metadata": {
        "colab": {
          "base_uri": "https://localhost:8080/"
        },
        "id": "tpEWYfLMrQqE",
        "outputId": "952c94f5-e14a-4443-bf86-957fe045ecdd"
      },
      "outputs": [
        {
          "name": "stdout",
          "output_type": "stream",
          "text": [
            "[1, 2, 3, 4, 5, 6, 7, 8]\n",
            "[1, 2, 3, 4, 5]\n",
            "[1, 2, 3, 4, 5]\n"
          ]
        }
      ],
      "source": [
        "def flatten(nested_list):\n",
        "    # Melakukan flatten pada list bertingkat\n",
        "    return any\n",
        "\n",
        "# Contoh penggunaan:\n",
        "print(flatten([[1, 2, [3, 4]], [5, 6], [7], 8]))     # -> [1, 2, 3, 4, 5, 6, 7, 8]\n",
        "print(flatten([1, [2, [3, [4, [5]]]]]))             # -> [1, 2, 3, 4, 5]\n",
        "print(flatten([[[[1], 2], 3], 4, 5]))               # -> [1, 2, 3, 4, 5]\n"
      ]
    },
    {
      "cell_type": "markdown",
      "metadata": {
        "id": "Qp77aLQGrZcA"
      },
      "source": [
        "## Challenge 3\n",
        "### Menggabungkan Dua Daftar yang Sudah Diurutkan\n",
        "Buat fungsi yang menggabungkan dua daftar terurut ke dalam satu daftar terurut tanpa menggunakan fungsi built-in seperti sorted()."
      ]
    },
    {
      "cell_type": "code",
      "execution_count": null,
      "metadata": {
        "colab": {
          "base_uri": "https://localhost:8080/"
        },
        "id": "0G5LNUPQrZGK",
        "outputId": "4f302cd5-421c-4f64-ff4b-cbf8feaee235"
      },
      "outputs": [
        {
          "name": "stdout",
          "output_type": "stream",
          "text": [
            "[1, 2, 3, 4, 5, 6]\n",
            "[1, 2, 3, 4, 7, 8]\n",
            "[1, 2, 3, 5, 6, 7]\n"
          ]
        }
      ],
      "source": [
        "def merge_sorted_lists(list1, list2):\n",
        "    # Menggabungkan dua daftar yang terurut\n",
        "    return any\n",
        "\n",
        "# Contoh penggunaan:\n",
        "print(merge_sorted_lists([1, 3, 5], [2, 4, 6]))   # -> [1, 2, 3, 4, 5, 6]\n",
        "print(merge_sorted_lists([1, 3, 7], [2, 4, 8]))   # -> [1, 2, 3, 4, 7, 8]\n",
        "print(merge_sorted_lists([5, 6, 7], [1, 2, 3]))   # -> [1, 2, 3, 5, 6, 7]\n"
      ]
    },
    {
      "cell_type": "markdown",
      "metadata": {
        "id": "BVlsuMbfriTL"
      },
      "source": [
        "## Challenge 4\n",
        "### Menghasilkan Bilangan Prima hingga N\n",
        "Buat fungsi yang menghasilkan semua bilangan prima hingga N."
      ]
    },
    {
      "cell_type": "code",
      "execution_count": null,
      "metadata": {
        "colab": {
          "base_uri": "https://localhost:8080/"
        },
        "id": "mXDwoOSnroE9",
        "outputId": "8f4b3838-973b-4fcf-dda9-e7a423014b8c"
      },
      "outputs": [
        {
          "name": "stdout",
          "output_type": "stream",
          "text": [
            "[2, 3, 5, 7, 11, 13, 17, 19, 23, 29]\n",
            "[2, 3, 5, 7, 11, 13, 17, 19, 23, 29, 31, 37, 41, 43, 47]\n",
            "[2, 3, 5, 7, 11, 13, 17, 19, 23, 29, 31, 37, 41, 43, 47, 53, 59, 61, 67, 71, 73, 79, 83, 89, 97]\n"
          ]
        }
      ],
      "source": [
        "def sieve_of_eratosthenes(n):\n",
        "    # Menghasilkan semua bilangan prima hingga N\n",
        "    return any\n",
        "\n",
        "# Contoh penggunaan:\n",
        "print(sieve_of_eratosthenes(30))  # -> [2, 3, 5, 7, 11, 13, 17, 19, 23, 29]\n",
        "print(sieve_of_eratosthenes(50))  # -> [2, 3, 5, 7, 11, 13, 17, 19, 23, 29, 31, 37, 41, 43, 47]\n",
        "print(sieve_of_eratosthenes(100)) # -> [2, 3, 5, 7, 11, 13, 17, 19, 23, 29, 31, 37, 41, 43, 47, 53, 59, 61, 67, 71, 73, 79, 83, 89, 97]\n"
      ]
    },
    {
      "cell_type": "markdown",
      "metadata": {
        "id": "yEn2tF1cIzkl"
      },
      "source": [
        "## Challenge 5\n",
        "### Menggabungkan Daftar Berurutan dan Menghilangkan Duplikat\n",
        "Diberikan dua daftar terurut, kamu diminta untuk menggabungkannya menjadi satu daftar terurut dan menghilangkan semua elemen yang duplikat."
      ]
    },
    {
      "cell_type": "code",
      "execution_count": null,
      "metadata": {
        "colab": {
          "base_uri": "https://localhost:8080/"
        },
        "id": "avN0BcjwI287",
        "outputId": "0aeff26e-72e3-4c23-eabf-64883d93d71e"
      },
      "outputs": [
        {
          "name": "stdout",
          "output_type": "stream",
          "text": [
            "[1, 2, 3, 4, 5]\n",
            "[1, 2, 3]\n",
            "[1, 2, 3, 4]\n"
          ]
        }
      ],
      "source": [
        "def merge_sorted_lists(list1, list2):\n",
        "    # Menggabungkan dua daftar terurut dan menghilangkan duplikat\n",
        "    return any\n",
        "\n",
        "print(merge_sorted_lists([1, 2, 4], [2, 3, 5]))  # -> [1, 2, 3, 4, 5]\n",
        "print(merge_sorted_lists([1, 1, 2], [2, 2, 3]))  # -> [1, 2, 3]\n",
        "print(merge_sorted_lists([3, 4], [1, 2, 3]))     # -> [1, 2, 3, 4]\n"
      ]
    },
    {
      "cell_type": "markdown",
      "metadata": {
        "id": "uFqX_QkGJhTl"
      },
      "source": [
        "## Challenge 6\n",
        "### Mengelompokkan Anagram\n",
        "Kamu diminta membuat fungsi yang mengelompokkan kata-kata yang merupakan anagram dari satu sama lain ke dalam subkelompok. Kata-kata yang merupakan anagram adalah kata yang memiliki huruf yang sama tetapi disusun secara berbeda."
      ]
    },
    {
      "cell_type": "code",
      "execution_count": null,
      "metadata": {
        "colab": {
          "base_uri": "https://localhost:8080/"
        },
        "id": "aPBIRl5sJkeS",
        "outputId": "40558aa4-cfd4-44c4-ad50-5656c36b67e9"
      },
      "outputs": [
        {
          "name": "stdout",
          "output_type": "stream",
          "text": [
            "[['eat', 'tea', 'ate'], ['tan', 'nat'], ['bat']]\n",
            "[['listen', 'silent', 'enlist']]\n",
            "[['abc'], ['def'], ['ghi']]\n"
          ]
        }
      ],
      "source": [
        "def group_anagrams(words):\n",
        "    # Mengelompokkan anagram\n",
        "    return any\n",
        "\n",
        "print(group_anagrams([\"eat\", \"tea\", \"tan\", \"ate\", \"nat\", \"bat\"]))\n",
        "# -> [['eat', 'tea', 'ate'], ['tan', 'nat'], ['bat']]\n",
        "\n",
        "print(group_anagrams([\"listen\", \"silent\", \"enlist\"]))\n",
        "# -> [['listen', 'silent', 'enlist']]\n",
        "\n",
        "print(group_anagrams([\"abc\", \"def\", \"ghi\"]))\n",
        "# -> [['abc'], ['def'], ['ghi']]\n"
      ]
    },
    {
      "cell_type": "markdown",
      "metadata": {
        "id": "rkdsoVmMMLQI"
      },
      "source": [
        "## Bonus Challenge (Optional)\n",
        "### Knight's Tour Problem\n",
        "**Knight's Tour** adalah salah satu masalah klasik dalam teori graf dan pemrograman yang menantang. Kamu diminta untuk mencari jalur di mana sebuah kuda catur dapat mengunjungi setiap kotak pada papan catur ukuran NxN tepat satu kali, mengikuti pola gerakan kuda dalam catur. Pola gerakan kuda adalah 2 langkah horizontal dan 1 langkah vertikal atau sebaliknya (membentuk huruf \"L\")."
      ]
    },
    {
      "cell_type": "code",
      "execution_count": null,
      "metadata": {
        "id": "5RyiFkY4MVST"
      },
      "outputs": [],
      "source": [
        "def knights_tour(n):\n",
        "    # Mencari jalur kuda catur yang mengunjungi setiap kotak\n",
        "    # beginanswer\n",
        "    return any\n",
        "\n",
        "\n",
        "result = knights_tour(5)\n",
        "for row in result:\n",
        "    print(row)\n",
        "\n",
        "# [0, 5, 14, 9, 20]\n",
        "# [13, 8, 19, 4, 15]\n",
        "# [18, 1, 6, 21, 10]\n",
        "# [7, 12, 23, 16, 3]\n",
        "# [24, 17, 2, 11, 22]"
      ]
    },
    {
      "cell_type": "markdown",
      "metadata": {
        "id": "sz0fznvrNMAE"
      },
      "source": [
        "Pendekatan yang digunakan untuk menyelesaikan masalah ini adalah **backtracking**. Algoritma backtracking bekerja dengan mencoba setiap kemungkinan dan mundur jika menemui jalan buntu (dead end). Kita mencoba menempatkan kuda di setiap kotak yang memungkinkan dan menelusuri jalur berikutnya sampai semua kotak dikunjungi, atau jika tidak ada jalur, kita kembali (backtrack) dan mencoba jalur lain."
      ]
    }
  ],
  "metadata": {
    "colab": {
      "provenance": [],
      "include_colab_link": true
    },
    "kernelspec": {
      "display_name": "Python 3 (ipykernel)",
      "language": "python",
      "name": "python3"
    },
    "language_info": {
      "codemirror_mode": {
        "name": "ipython",
        "version": 3
      },
      "file_extension": ".py",
      "mimetype": "text/x-python",
      "name": "python",
      "nbconvert_exporter": "python",
      "pygments_lexer": "ipython3",
      "version": "3.11.3"
    }
  },
  "nbformat": 4,
  "nbformat_minor": 0
}