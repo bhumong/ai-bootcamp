{
  "cells": [
    {
      "cell_type": "markdown",
      "metadata": {
        "id": "view-in-github",
        "colab_type": "text"
      },
      "source": [
        "<a href=\"https://colab.research.google.com/github/bhumong/ai-bootcamp/blob/main/pre-session-python/003_basic_data_structure/006_accessing_and_mutating_data_in_list.ipynb\" target=\"_parent\"><img src=\"https://colab.research.google.com/assets/colab-badge.svg\" alt=\"Open In Colab\"/></a>"
      ]
    },
    {
      "cell_type": "markdown",
      "metadata": {
        "id": "A3c2Si8MCMMU"
      },
      "source": [
        "# Accessing data and mutating data"
      ]
    },
    {
      "cell_type": "code",
      "execution_count": null,
      "metadata": {
        "id": "B5Gy4U2eCMMV"
      },
      "outputs": [],
      "source": [
        "texts = [\n",
        "    \"The service at the restaurant was really impressive\",\n",
        "    \"What is the status of my order number #1234?\",\n",
        "    \"I have a proposal for a new feature in your app\",\n",
        "    \"My package arrived late and the item was damaged\",\n",
        "    \"Your team is doing an excellent job\",\n",
        "    \"Could you help clarify the specifications of this product?\",\n",
        "    \"I'm extremely dissatisfied with the customer service\",\n",
        "    \"Have you thought about offering more plant-based options on your menu?\",\n",
        "    \"I really appreciate the speedy response from your customer service team\",\n",
        "    \"I enjoy using your application, great work\"\n",
        "]\n"
      ]
    },
    {
      "cell_type": "markdown",
      "metadata": {
        "id": "VmXQD4UECMMW"
      },
      "source": [
        "Imagine if we have a requirement of getting only single value from the list. How can we do so?\n",
        "\n",
        "We can use index. Index is the position of the element in our list. Like most other programming languages, Python starts counting from 0. So, the first element in the list has index 0, the second element has index 1, and so on."
      ]
    },
    {
      "cell_type": "code",
      "execution_count": null,
      "metadata": {
        "id": "1tUium-_CMMW",
        "outputId": "742d46e7-aab5-4f29-a1ea-41fc053a0fb7"
      },
      "outputs": [
        {
          "name": "stdout",
          "output_type": "stream",
          "text": [
            "The service at the restaurant was really impressive\n",
            "My package arrived late and the item was damaged\n",
            "Could you help clarify the specifications of this product?\n"
          ]
        }
      ],
      "source": [
        "print(texts[0])\n",
        "print(texts[3])\n",
        "print(texts[5])"
      ]
    },
    {
      "cell_type": "markdown",
      "metadata": {
        "id": "4uf0pS1oCMMX"
      },
      "source": [
        "Please take your time to compare the index, above result, and the list before moving on 😄"
      ]
    },
    {
      "cell_type": "markdown",
      "metadata": {
        "id": "cm42ImGvCMMX"
      },
      "source": [
        "# How to mutate?\n",
        "\n",
        "One of the crucial things to understand about lists is that they are mutable, which means that we can change any of their elements after they have been created. We can do this by assigning new values to specific indexes."
      ]
    },
    {
      "cell_type": "code",
      "execution_count": null,
      "metadata": {
        "id": "MaWMQJWrCMMX",
        "outputId": "2f26ce4b-5423-415a-edc2-95df4b360800"
      },
      "outputs": [
        {
          "name": "stdout",
          "output_type": "stream",
          "text": [
            "John\n",
            "Jonathan\n"
          ]
        }
      ],
      "source": [
        "names = [\n",
        "    \"John\",\n",
        "    \"Jane\",\n",
        "    \"Jack\",\n",
        "    \"Jill\",\n",
        "    \"James\",\n",
        "]\n",
        "\n",
        "print(names[0])\n",
        "names[0] = \"Jonathan\"\n",
        "print(names[0])"
      ]
    },
    {
      "cell_type": "markdown",
      "metadata": {
        "id": "1YKGhF-ZCMMX"
      },
      "source": [
        "# Mutating several elements at once in a list using for loop\n",
        "\n",
        "We can also mutate several elements at once in a list using for loop. Let's say we want to change all the elements in the list to their multiplied value by 2, we can kinda doing it like below:"
      ]
    },
    {
      "cell_type": "code",
      "execution_count": null,
      "metadata": {
        "id": "tFfCmrk1CMMY",
        "outputId": "dc13879e-d058-4a65-8183-547c1ee3540b"
      },
      "outputs": [
        {
          "name": "stdout",
          "output_type": "stream",
          "text": [
            "[2, 4, 6, 8, 10]\n"
          ]
        }
      ],
      "source": [
        "numbers = [\n",
        "    1,\n",
        "    2,\n",
        "    3,\n",
        "    4,\n",
        "    5,\n",
        "]\n",
        "\n",
        "numbers[0] = numbers[0] * 2\n",
        "numbers[1] = numbers[1] * 2\n",
        "numbers[2] = numbers[2] * 2\n",
        "numbers[3] = numbers[3] * 2\n",
        "numbers[4] = numbers[4] * 2\n",
        "\n",
        "print(numbers)"
      ]
    },
    {
      "cell_type": "markdown",
      "metadata": {
        "id": "6XMb00lmCMMY"
      },
      "source": [
        "But of course it's time consuming to write the same line of code over and over again with only difference is in the index. So, we can use for loop to do so."
      ]
    },
    {
      "cell_type": "code",
      "execution_count": null,
      "metadata": {
        "id": "ZPga4qV-CMMY"
      },
      "outputs": [],
      "source": [
        "numbers = [\n",
        "    1,\n",
        "    2,\n",
        "    3,\n",
        "    4,\n",
        "    5,\n",
        "]\n",
        "\n",
        "for index, number in enumerate(numbers):\n",
        "    numbers[index] = number * 2\n",
        "\n",
        "print(numbers)"
      ]
    },
    {
      "cell_type": "markdown",
      "metadata": {
        "id": "eayzHTlwCMMY"
      },
      "source": [
        "Above code and the one before that is basically the same, but without the need to write the index over and over again.\n",
        "\n",
        "Here we are using special function called `enumerate`, so we can create a foor loop that iterates over both the indexes and the elements in a list. Just to remind you, if we don't use enumerate, we can only code like this:"
      ]
    },
    {
      "cell_type": "code",
      "execution_count": null,
      "metadata": {
        "id": "LARXewj4CMMY"
      },
      "outputs": [],
      "source": [
        "for number in numbers:\n",
        "    print(number)"
      ]
    },
    {
      "cell_type": "markdown",
      "metadata": {
        "id": "fN0OCB8aCMMY"
      },
      "source": [
        "But because we want to mutate each element in the list, we need to know the index of each element. So, we can use enumerate to do so."
      ]
    },
    {
      "cell_type": "markdown",
      "metadata": {
        "id": "oqGFfzY7CMMY"
      },
      "source": [
        "# Challenge!"
      ]
    },
    {
      "cell_type": "markdown",
      "metadata": {
        "id": "O8fnZOoeCMMZ"
      },
      "source": [
        "# Challenge 1\n",
        "\n",
        "Change the fourth name `Rahmat` to `Rahmat Adianto` in the list below."
      ]
    },
    {
      "cell_type": "code",
      "execution_count": null,
      "metadata": {
        "id": "yBy-KHguCMMZ"
      },
      "outputs": [],
      "source": [
        "names = [\n",
        "    \"Imran\",\n",
        "    \"Jake\",\n",
        "    \"Fadhil\",\n",
        "    \"Rahmat\",\n",
        "    \"Ricky\"\n",
        "]\n",
        "\n",
        "# Add your code below"
      ]
    },
    {
      "cell_type": "markdown",
      "metadata": {
        "id": "j0gRds3-CMMZ"
      },
      "source": [
        "When you are done with the above challenge, then:\n",
        "1. Input your student_id and name in the box below\n",
        "2. Run the code block by pressing the play button."
      ]
    },
    {
      "cell_type": "code",
      "execution_count": null,
      "metadata": {
        "id": "ni5XXnXWCMMZ"
      },
      "outputs": [],
      "source": [
        "!pip install rggrader\n",
        "\n",
        "from rggrader import submit\n",
        "\n",
        "# @title #### Student Identity\n",
        "student_id = \"your student id\" # @param {type:\"string\"}\n",
        "name = \"your name\" # @param {type:\"string\"}\n",
        "\n",
        "# Submit Method\n",
        "assignment_id = \"007_accessing_and_mutating_data_in_list\"\n",
        "question_id = \"01_list_1\"\n",
        "submit(student_id, name, assignment_id, names[3], question_id)"
      ]
    },
    {
      "cell_type": "markdown",
      "metadata": {
        "id": "C5eHMiOaCMMZ"
      },
      "source": [
        "## Challenge 2\n",
        "\n",
        "For the first challenge, we want to get the multiplied by 2 value of each element in the list. So when the list is [1, 2, 3, 4, 5], the result should be [2, 4, 6, 8, 10]."
      ]
    },
    {
      "cell_type": "code",
      "execution_count": null,
      "metadata": {
        "id": "0vqKucxrCMMZ"
      },
      "outputs": [],
      "source": [
        "def multiplied_by_2(numbers):\n",
        "    # Your answer here\n",
        "\n",
        "multiplied_by_2([1, 2, 3, 4, 5]) # Expected output: [2, 4, 6, 8, 10]"
      ]
    },
    {
      "cell_type": "markdown",
      "metadata": {
        "id": "ZCDSqnkVCMMZ"
      },
      "source": [
        "When you are done with the above challenge, then:\n",
        "\n",
        "1. Run the code block by pressing the play button."
      ]
    },
    {
      "cell_type": "code",
      "execution_count": null,
      "metadata": {
        "id": "9cBWfbhlCMMZ"
      },
      "outputs": [],
      "source": [
        "# Submit Method\n",
        "assignment_id = \"007_accessing_and_mutating_data_in_list\"\n",
        "question_id = \"02_list_2\"\n",
        "\n",
        "submit(student_id, name, assignment_id, str(multiplied_by_2([5, 7, 3, 4, 6])), question_id)"
      ]
    },
    {
      "cell_type": "markdown",
      "metadata": {
        "id": "Ddpp_qPXCMMZ"
      },
      "source": [
        "## Challenge 3\n",
        "\n",
        "Using `.upper()` method, change the array of string below to uppercase."
      ]
    },
    {
      "cell_type": "code",
      "execution_count": null,
      "metadata": {
        "id": "61ZnpRvtCMMZ"
      },
      "outputs": [],
      "source": [
        "def change_to_uppercase(texts):\n",
        "    return texts# Your answer here\n",
        "\n",
        "change_to_uppercase([\"hello\", \"world\"]) # Expected output: [\"HELLO\", \"WORLD\"]"
      ]
    },
    {
      "cell_type": "markdown",
      "metadata": {
        "id": "omDSbimyCMMZ"
      },
      "source": [
        "When you are done with the above challenge, then:\n",
        "\n",
        "1. Run the code block by pressing the play button."
      ]
    },
    {
      "cell_type": "code",
      "execution_count": null,
      "metadata": {
        "id": "OOlGYhpZCMMZ"
      },
      "outputs": [],
      "source": [
        "# Submit Method\n",
        "assignment_id = \"007_accessing_and_mutating_data_in_list\"\n",
        "question_id = \"03_list_3\"\n",
        "\n",
        "submit(student_id, name, assignment_id, str(change_to_uppercase([\"mastering\", \"ai\"])), question_id)"
      ]
    },
    {
      "cell_type": "markdown",
      "metadata": {
        "id": "hvg6m08kCMMZ"
      },
      "source": [
        "# Appending data\n",
        "\n",
        "We can add new data to an existing list using the append() method. The append() method adds the data to the end of the list."
      ]
    },
    {
      "cell_type": "code",
      "execution_count": null,
      "metadata": {
        "id": "bTfO7-fWCMMa",
        "outputId": "99162e26-ec49-48ef-cb36-0fa5f2ae5c09"
      },
      "outputs": [
        {
          "name": "stdout",
          "output_type": "stream",
          "text": [
            "['Peter', 'John', 'Mary', 'George', 'Paul']\n",
            "['Peter', 'John', 'Mary', 'George', 'Paul', 'Jill']\n"
          ]
        }
      ],
      "source": [
        "names = [\n",
        "    \"Peter\",\n",
        "    \"John\",\n",
        "    \"Mary\",\n",
        "    \"George\",\n",
        "    \"Paul\",\n",
        "]\n",
        "\n",
        "print(names)\n",
        "names.append(\"Jill\")\n",
        "print(names)"
      ]
    },
    {
      "cell_type": "markdown",
      "metadata": {
        "id": "oDftiKs-CMMa"
      },
      "source": [
        "# Inserting data at specific index\n",
        "\n",
        "If we want to insert data at a specific index rather than at the end of the list, we can use the insert() method."
      ]
    },
    {
      "cell_type": "code",
      "execution_count": null,
      "metadata": {
        "id": "7GchraYaCMMa",
        "outputId": "41869be7-d48b-450c-d19d-fc90b69b212b"
      },
      "outputs": [
        {
          "name": "stdout",
          "output_type": "stream",
          "text": [
            "['Peter', 'John', 'Mary', 'George', 'Paul']\n",
            "['Peter', 'John', 'Jill', 'Mary', 'George', 'Paul']\n"
          ]
        }
      ],
      "source": [
        "names = [\n",
        "    \"Peter\",\n",
        "    \"John\",\n",
        "    \"Mary\",\n",
        "    \"George\",\n",
        "    \"Paul\",\n",
        "]\n",
        "\n",
        "print(names)\n",
        "names.insert(2, \"Jill\")\n",
        "print(names)"
      ]
    },
    {
      "cell_type": "markdown",
      "metadata": {
        "id": "2mnGjMygCMMa"
      },
      "source": [
        "As you can see above, `Jill` was added to the second index of the list and pushing the name `Mary` to be the third index."
      ]
    },
    {
      "cell_type": "markdown",
      "metadata": {
        "id": "pE-yg1TaCMMa"
      },
      "source": [
        "# Popping data\n",
        "\n",
        "We can remove the last data from a list using the pop() method. The pop() method returns the data that was removed."
      ]
    },
    {
      "cell_type": "code",
      "execution_count": null,
      "metadata": {
        "id": "9zCkVydXCMMa",
        "outputId": "7977132a-ffef-4b00-b080-3a7c96030190"
      },
      "outputs": [
        {
          "name": "stdout",
          "output_type": "stream",
          "text": [
            "['Peter', 'John', 'Mary', 'George', 'Paul']\n",
            "['Peter', 'John', 'Mary', 'George']\n"
          ]
        }
      ],
      "source": [
        "names = [\n",
        "    \"Peter\",\n",
        "    \"John\",\n",
        "    \"Mary\",\n",
        "    \"George\",\n",
        "    \"Paul\",\n",
        "]\n",
        "\n",
        "print(names)\n",
        "names.pop()\n",
        "print(names)"
      ]
    },
    {
      "cell_type": "markdown",
      "metadata": {
        "id": "0rRpkQCSCMMa"
      },
      "source": [
        "You can specify the index of the data you want to remove too like so:"
      ]
    },
    {
      "cell_type": "code",
      "execution_count": null,
      "metadata": {
        "id": "zhjcG_mxCMMa",
        "outputId": "1840b317-6e87-4df0-f25a-37580a135527"
      },
      "outputs": [
        {
          "name": "stdout",
          "output_type": "stream",
          "text": [
            "['Peter', 'John', 'Mary', 'George', 'Paul']\n",
            "['Peter', 'John', 'George', 'Paul']\n"
          ]
        }
      ],
      "source": [
        "names = [\n",
        "    \"Peter\",\n",
        "    \"John\",\n",
        "    \"Mary\",\n",
        "    \"George\",\n",
        "    \"Paul\",\n",
        "]\n",
        "\n",
        "print(names)\n",
        "names.pop(2)\n",
        "print(names)"
      ]
    },
    {
      "cell_type": "markdown",
      "metadata": {
        "id": "O_yGJ02SCMMa"
      },
      "source": [
        "# Challenge!"
      ]
    },
    {
      "cell_type": "markdown",
      "metadata": {
        "id": "a2nwKnonCMMa"
      },
      "source": [
        "# Challenge 1\n",
        "\n",
        "Append new car named `Toyota` to the list of cars."
      ]
    },
    {
      "cell_type": "code",
      "execution_count": null,
      "metadata": {
        "id": "nqG5Li7hCMMa"
      },
      "outputs": [],
      "source": [
        "cars = [\"BMW\", \"Audi\", \"Mercedes\", \"Volkswagen\", \"Porsche\"]\n",
        "\n",
        "# Add your code below!\n",
        "print(cars) # Expected output: ['BMW', 'Audi', 'Mercedes', 'Volkswagen', 'Porsche', 'Toyota']"
      ]
    },
    {
      "cell_type": "markdown",
      "metadata": {
        "id": "Icf1VezeCMMf"
      },
      "source": [
        "When you are done with the above challenge, then:\n",
        "1. Input your student_id and name in the box below\n",
        "2. Run the code block by pressing the play button."
      ]
    },
    {
      "cell_type": "code",
      "execution_count": null,
      "metadata": {
        "id": "gqkNBvBVCMMf"
      },
      "outputs": [],
      "source": [
        "!pip install rggrader\n",
        "\n",
        "from rggrader import submit\n",
        "\n",
        "# @title #### Student Identity\n",
        "student_id = \"your student id\" # @param {type:\"string\"}\n",
        "name = \"your name\" # @param {type:\"string\"}\n",
        "\n",
        "# Submit Method\n",
        "assignment_id = \"008_more_on_list\"\n",
        "question_id = \"01_more_list_1\"\n",
        "submit(student_id, name, assignment_id, cars[5], question_id)"
      ]
    },
    {
      "cell_type": "markdown",
      "metadata": {
        "id": "-SurLlSTCMMf"
      },
      "source": [
        "## Challenge 2\n",
        "\n",
        "Insert a new car named `Honda` between `Mercedes` and `Volkswagen`"
      ]
    },
    {
      "cell_type": "code",
      "execution_count": null,
      "metadata": {
        "id": "kCvPrhKtCMMf"
      },
      "outputs": [],
      "source": [
        "cars = [\"BMW\", \"Audi\", \"Mercedes\", \"Volkswagen\", \"Porsche\"]\n",
        "\n",
        "# Add your code below!\n",
        "print(cars) # Expected output: ['BMW', 'Audi', 'Mercedes', 'Honda', 'Volkswagen', 'Porsche']"
      ]
    },
    {
      "cell_type": "markdown",
      "metadata": {
        "id": "66aR_yJfCMMf"
      },
      "source": [
        "When you are done with the above challenge, then:\n",
        "1. Run the code block by pressing the play button."
      ]
    },
    {
      "cell_type": "code",
      "execution_count": null,
      "metadata": {
        "id": "Ev8117cTCMMf"
      },
      "outputs": [],
      "source": [
        "# Submit Method\n",
        "assignment_id = \"008_more_on_list\"\n",
        "question_id = \"02_more_list_2\"\n",
        "\n",
        "submit(student_id, name, assignment_id, cars[3], question_id)"
      ]
    },
    {
      "cell_type": "markdown",
      "metadata": {
        "id": "66sDyHMKCMMf"
      },
      "source": [
        "## Challenge 3\n",
        "\n",
        "Remove \"BMW\" and \"Porche\" from the list of cars."
      ]
    },
    {
      "cell_type": "code",
      "execution_count": null,
      "metadata": {
        "id": "8e1UFQi4CMMf"
      },
      "outputs": [],
      "source": [
        "cars = [\"BMW\", \"Audi\", \"Mercedes\", \"Volkswagen\", \"Porsche\"]\n",
        "\n",
        "# Add your code below!\n",
        "print(cars) # Expected output: ['Audi', 'Mercedes', 'Volkswagen']"
      ]
    },
    {
      "cell_type": "markdown",
      "metadata": {
        "id": "lz7HLzfbCMMf"
      },
      "source": [
        "When you are done with the above challenge, then:\n",
        "1. Run the code block by pressing the play button."
      ]
    },
    {
      "cell_type": "code",
      "execution_count": null,
      "metadata": {
        "id": "bY8afWvXCMMf"
      },
      "outputs": [],
      "source": [
        "# Submit Method\n",
        "assignment_id = \"008_more_on_list\"\n",
        "question_id = \"03_more_list_3\"\n",
        "\n",
        "submit(student_id, name, assignment_id, cars[0], question_id)"
      ]
    },
    {
      "cell_type": "markdown",
      "metadata": {
        "id": "vAoHSSvOCMMg"
      },
      "source": [
        "# Filtering data on list by creating a new list\n",
        "\n",
        "We can filter data on a list by creating a new list. Let's say we want to filter out all employees who are not in the `Sales` department. We can do so by creating a new list and adding only the employees who are in the `Sales` department to the new list.\n",
        "\n",
        "How so? Using combination of `for` loop and `if` statement of course!"
      ]
    },
    {
      "cell_type": "code",
      "execution_count": null,
      "metadata": {
        "id": "6PxQRzX0CMMg",
        "outputId": "6fc75f57-ddce-4bc7-c73a-890a4f09007e"
      },
      "outputs": [
        {
          "name": "stdout",
          "output_type": "stream",
          "text": [
            "[1, 3, 5, 7, 9]\n"
          ]
        }
      ],
      "source": [
        "all_numbers = [1, 2, 3, 4, 5, 6, 7, 8, 9]\n",
        "odd_numbers = []\n",
        "\n",
        "for number in all_numbers:\n",
        "    if number % 2 == 1:\n",
        "        odd_numbers.append(number)\n",
        "\n",
        "print(odd_numbers)"
      ]
    },
    {
      "cell_type": "markdown",
      "metadata": {
        "id": "nJEDLcY0CMMg"
      },
      "source": [
        "# Challenge!"
      ]
    },
    {
      "cell_type": "markdown",
      "metadata": {
        "id": "2TMrjjOiCMMg"
      },
      "source": [
        "## Challenge 1\n",
        "\n",
        "Create a new list of numbers that is greater than 5 from the list of numbers below."
      ]
    },
    {
      "cell_type": "code",
      "execution_count": null,
      "metadata": {
        "id": "I-gmL_r3CMMg"
      },
      "outputs": [],
      "source": [
        "all_numbers = [1, 2, 3, 4, 5, 6, 7, 8, 9]\n",
        "greater_than_five = []\n",
        "\n",
        "for number in all_numbers:\n",
        "    if True:\n",
        "        greater_than_five.append(number)\n",
        "\n",
        "print(greater_than_five) # Expected output: [6, 7, 8, 9]"
      ]
    },
    {
      "cell_type": "markdown",
      "metadata": {
        "id": "1CTXdFOJCMMg"
      },
      "source": [
        "When you are done with the above challenge, then:\n",
        "1. Run the code block by pressing the play button."
      ]
    },
    {
      "cell_type": "code",
      "execution_count": null,
      "metadata": {
        "id": "9_rRFhSxCMMg"
      },
      "outputs": [],
      "source": [
        "# Submit Method\n",
        "assignment_id = \"008_more_on_list\"\n",
        "question_id = \"04_filter_1\"\n",
        "\n",
        "submit(student_id, name, assignment_id, str(greater_than_five), question_id)"
      ]
    },
    {
      "cell_type": "markdown",
      "metadata": {
        "id": "DkJnfMbZCMMg"
      },
      "source": [
        "## Challenge 2\n",
        "\n",
        "Get all names that are longer than 5 characters from the list of words below."
      ]
    },
    {
      "cell_type": "code",
      "execution_count": null,
      "metadata": {
        "id": "77h3pER5CMMg"
      },
      "outputs": [],
      "source": [
        "all_names = ['John', 'Ardian', 'Jill', 'Jennifer', 'Pahlevi', 'Ricky']\n",
        "names_more_than_five_characters = []\n",
        "\n",
        "# Add your code below!\n",
        "\n",
        "print(names_more_than_five_characters) # Expected output: ['Ardian', 'Jennifer', 'Pahlevi']"
      ]
    },
    {
      "cell_type": "markdown",
      "metadata": {
        "id": "AQg_NZzZCMMg"
      },
      "source": [
        "When you are done with the above challenge, then:\n",
        "1. Run the code block by pressing the play button."
      ]
    },
    {
      "cell_type": "code",
      "execution_count": null,
      "metadata": {
        "id": "lEgQIX26CMMg"
      },
      "outputs": [],
      "source": [
        "# Submit Method\n",
        "assignment_id = \"008_more_on_list\"\n",
        "question_id = \"05_filter_2\"\n",
        "\n",
        "submit(student_id, name, assignment_id, str(names_more_than_five_characters), question_id)"
      ]
    }
  ],
  "metadata": {
    "kernelspec": {
      "display_name": "Python 3 (ipykernel)",
      "language": "python",
      "name": "python3"
    },
    "language_info": {
      "codemirror_mode": {
        "name": "ipython",
        "version": 3
      },
      "file_extension": ".py",
      "mimetype": "text/x-python",
      "name": "python",
      "nbconvert_exporter": "python",
      "pygments_lexer": "ipython3",
      "version": "3.11.3"
    },
    "colab": {
      "provenance": [],
      "include_colab_link": true
    }
  },
  "nbformat": 4,
  "nbformat_minor": 0
}