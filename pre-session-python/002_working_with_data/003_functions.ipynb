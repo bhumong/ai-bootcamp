{
  "cells": [
    {
      "cell_type": "markdown",
      "metadata": {
        "id": "view-in-github",
        "colab_type": "text"
      },
      "source": [
        "<a href=\"https://colab.research.google.com/github/bhumong/ai-bootcamp/blob/main/pre-session-python/002_working_with_data/003_functions.ipynb\" target=\"_parent\"><img src=\"https://colab.research.google.com/assets/colab-badge.svg\" alt=\"Open In Colab\"/></a>"
      ]
    },
    {
      "cell_type": "markdown",
      "metadata": {
        "id": "cX44tqOUXzpr"
      },
      "source": [
        "# Function\n",
        "\n",
        "Function is a block of code that can be called to perform a specific task. It can take in input and return output. It is a way to organize your code and make it reusable. The syntax for defining a function is as below:"
      ]
    },
    {
      "cell_type": "code",
      "execution_count": null,
      "metadata": {
        "id": "9mXzFQv8Xzpt",
        "outputId": "4ed31a1a-f7e0-495c-e37a-60e72ed0aaa0"
      },
      "outputs": [
        {
          "name": "stdout",
          "output_type": "stream",
          "text": [
            "5\n"
          ]
        },
        {
          "data": {
            "text/plain": [
              "23"
            ]
          },
          "execution_count": 6,
          "metadata": {},
          "output_type": "execute_result"
        }
      ],
      "source": [
        "def add(a, b):\n",
        "    return a + b\n",
        "\n",
        "print(add(2, 3))\n",
        "add(9, 14)"
      ]
    },
    {
      "cell_type": "markdown",
      "metadata": {
        "id": "UKySBP7nXzpv"
      },
      "source": [
        "Python is an indentation-sensitive language. The code inside the function is indented, which you can just use tab to indent.\n",
        "\n",
        "So, as long as:\n",
        "- The code after the function definition is indented, it is considered as part of the function.\n",
        "- Every code after that that's in the same indentation level, as long as it isn't separated by an empty line, is considered as part of the same function\n",
        "\n",
        "So we can have several lines of code like so:"
      ]
    },
    {
      "cell_type": "code",
      "execution_count": null,
      "metadata": {
        "id": "-1jeaRAIXzpv",
        "outputId": "b41453bf-c02d-4f7a-a69e-a014836f5270"
      },
      "outputs": [
        {
          "data": {
            "text/plain": [
              "\"HI, I'M A DOG\""
            ]
          },
          "execution_count": 9,
          "metadata": {},
          "output_type": "execute_result"
        }
      ],
      "source": [
        "def several_text_manipulation(text):\n",
        "    data = text.replace('cat', 'dog')\n",
        "    data = data.upper()\n",
        "    return data\n",
        "\n",
        "several_text_manipulation(\"Hi, I'm a cat\")"
      ]
    },
    {
      "cell_type": "markdown",
      "metadata": {
        "id": "nBGZtxULXzpw"
      },
      "source": [
        "So as we can see above, we have a single `text` parameter (we'll cover this term in detail in a bit), then we manipulate that inside the function, after that we return the result, which will make it the output of the function."
      ]
    },
    {
      "cell_type": "code",
      "execution_count": null,
      "metadata": {
        "id": "uiBGbx8PXzpw"
      },
      "outputs": [],
      "source": [
        "def several_text_manipulation(text):\n",
        "data = text.replace('cat', 'dog')\n",
        "data = data.upper()\n",
        "return data\n",
        "\n",
        "several_text_manipulation(\"Hi, I'm a cat\")"
      ]
    },
    {
      "cell_type": "markdown",
      "metadata": {
        "id": "R9C8izW6Xzpw"
      },
      "source": [
        "This will not work, as the code after the function definition hasn't been indented correctly"
      ]
    },
    {
      "cell_type": "markdown",
      "metadata": {
        "id": "z6GsIHoOXzpw"
      },
      "source": [
        "# Intermezo: Parameters? Arguments?\n",
        "\n",
        "> This section is not mandatory to understand, it's for some of you that might learn outside of this course and might have heard these terms before. For the rest of this course you can pretend that these two terms are interchangeable, and this course will use the term \"parameter\" for both of them.\n",
        "\n",
        "We'll keep hearing these two terms a lot when talking about functions. So what are they and how are they different?\n",
        "\n",
        "## When we're writing the function it's called parameter\n",
        "\n",
        "When we're writing the function, we can define the parameters of that function. The total number of parameters can be differ from one function to another according to the need of the function, sometimes it can be zero, sometimes it can be one, sometimes it can be more than one."
      ]
    },
    {
      "cell_type": "code",
      "execution_count": null,
      "metadata": {
        "id": "5eh8fUNoXzpw"
      },
      "outputs": [],
      "source": [
        "def sum_three(a, b, c):\n",
        "    return a + b + c"
      ]
    },
    {
      "cell_type": "markdown",
      "metadata": {
        "id": "KACsEKuzXzpx"
      },
      "source": [
        "From above examples, what's called as parameter are `a`, `b`, and `c`."
      ]
    },
    {
      "cell_type": "markdown",
      "metadata": {
        "id": "VVQMSBXRXzpx"
      },
      "source": [
        "## When we're using the function, we're passing arguments\n",
        "\n",
        "Now when we're **using** the function after the function is already defined, we're passing arguments to the function. So if we use the `sum_three` function above, we can use it with `3`, `4`, and `5` as the arguments:"
      ]
    },
    {
      "cell_type": "code",
      "execution_count": null,
      "metadata": {
        "id": "V7o3_OQ4Xzpx",
        "outputId": "9f374248-3395-4ead-f663-dd460422a9cf"
      },
      "outputs": [
        {
          "data": {
            "text/plain": [
              "12"
            ]
          },
          "execution_count": 16,
          "metadata": {},
          "output_type": "execute_result"
        }
      ],
      "source": [
        "sum_three(3, 4, 5)"
      ]
    },
    {
      "cell_type": "markdown",
      "metadata": {
        "id": "Jf5yfYclXzpx"
      },
      "source": [
        "Of course we can use variables as the arguments:"
      ]
    },
    {
      "cell_type": "code",
      "execution_count": null,
      "metadata": {
        "id": "wJ2iR8aIXzpy",
        "outputId": "1ec7e13a-96a5-4ed5-f012-9714d94b177d"
      },
      "outputs": [
        {
          "data": {
            "text/plain": [
              "12"
            ]
          },
          "execution_count": 17,
          "metadata": {},
          "output_type": "execute_result"
        }
      ],
      "source": [
        "num_1 = 3\n",
        "num_3 = 5\n",
        "\n",
        "sum_three(num_1, 4, num_3)"
      ]
    },
    {
      "cell_type": "markdown",
      "metadata": {
        "id": "LJfL2t8IXzpy"
      },
      "source": [
        "Hard to remember between parameters and arguments? For learning you can remember that those two words are really similar, and not knowing which is which is not a big deal,but you'll find those two words used a lot in here and other learning resources, but you can just pretend that they're the same thing."
      ]
    },
    {
      "cell_type": "markdown",
      "metadata": {
        "id": "7PYds69-Xzpy"
      },
      "source": [
        "# Challenge!"
      ]
    },
    {
      "cell_type": "markdown",
      "metadata": {
        "id": "0rhIJIFtXzpy"
      },
      "source": [
        "## Challenge 1\n",
        "\n",
        "Using `.capitalize()` function, modify below function so it will return the capitalized version of the `input` parameter."
      ]
    },
    {
      "cell_type": "code",
      "execution_count": null,
      "metadata": {
        "id": "xmkFmP3wXzpy",
        "outputId": "6ecefb31-a58c-41af-e0d9-8b4f9e368bd0"
      },
      "outputs": [
        {
          "name": "stdout",
          "output_type": "stream",
          "text": [
            "Hello world\n",
            "My name is andi\n",
            "I am crazy text\n"
          ]
        }
      ],
      "source": [
        "def capitalize_me(input):\n",
        "    return input # Put your code here\n",
        "\n",
        "print(capitalize_me(\"hello world\")) # \"Hello world\"\n",
        "print(capitalize_me(\"My name is Andi\")) # \"My name is andi\"\n",
        "print(capitalize_me(\"I aM CrAzY TeXT\")) # \"I am crazy text\""
      ]
    },
    {
      "cell_type": "markdown",
      "metadata": {
        "id": "xAG5ZFEPXzpy"
      },
      "source": [
        "When you are done with the above challenge, then:\n",
        "\n",
        "1. Run the code block below by pressing the play button."
      ]
    },
    {
      "cell_type": "code",
      "execution_count": null,
      "metadata": {
        "id": "IBlM3WLMXzpz"
      },
      "outputs": [],
      "source": [
        "# Submit Method\n",
        "assignment_id = \"003_variables-and-functions\"\n",
        "question_id = \"05_function_1\"\n",
        "\n",
        "submit(student_id, name, assignment_id, capitalize_me(\"ruangguru skill academy bootcamp\"), question_id)"
      ]
    },
    {
      "cell_type": "markdown",
      "metadata": {
        "id": "RwBjJ0FqXzpz"
      },
      "source": [
        "## Challenge 2\n",
        "\n",
        "From below two input parameters, concatenate them into one string and then make it all uppercase."
      ]
    },
    {
      "cell_type": "code",
      "execution_count": null,
      "metadata": {
        "id": "lYhcHK5HXzpz"
      },
      "outputs": [],
      "source": [
        "def concat_then_upper(input_one, input_two):\n",
        "    to_return = input_one + \" \" + input_two # Example: Concatenate the two inputs\n",
        "    to_return = to_return # Make the result uppercase\n",
        "    return to_return\n",
        "\n",
        "print(concat_then_upper(\"Hello\", \"World\")) # \"HELLO WORLD\"\n",
        "print(concat_then_upper(\"Ibu\", \"Kota\")) # \"IBU KOTA\"\n",
        "print(concat_then_upper(\"Ini\", \"Kapital\")) # \"INI KAPITAL\""
      ]
    },
    {
      "cell_type": "markdown",
      "metadata": {
        "id": "SKE7Otx3Xzpz"
      },
      "source": [
        "When you are done with the above challenge, then:\n",
        "\n",
        "1. Run the code block below by pressing the play button."
      ]
    },
    {
      "cell_type": "code",
      "execution_count": null,
      "metadata": {
        "id": "3L72TiLjXzpz"
      },
      "outputs": [],
      "source": [
        "# Submit Method\n",
        "assignment_id = \"003_variables-and-functions\"\n",
        "question_id = \"06_function_2\"\n",
        "\n",
        "submit(student_id, name, assignment_id, concat_then_upper(\"Mastering\", \"ai\"), question_id)"
      ]
    },
    {
      "cell_type": "markdown",
      "metadata": {
        "id": "Coh_iye2Xzp0"
      },
      "source": [
        "## Challenge 3\n",
        "\n",
        "From below three input parameters, concatenate them into one string and then make it all uppercase."
      ]
    },
    {
      "cell_type": "code",
      "execution_count": null,
      "metadata": {
        "id": "SOtpQxF_Xzp0"
      },
      "outputs": [],
      "source": [
        "def concat_then_upper(input_one, input_two, input_three):\n",
        "    to_return = to_return # Concatenate the three inputs\n",
        "    to_return = to_return # Make the result uppercase\n",
        "    return to_return\n",
        "\n",
        "print(concat_then_upper(\"Hello\", \"all of\", \"you\")) # \"HELLO ALL OF YOU\"\n",
        "print(concat_then_upper(\"Ibu\", \"Kota\", \"Indonesia\")) # \"IBU KOTA INDONESIA\"\n",
        "print(concat_then_upper(\"Ini\", \"Kapital\", \"loh\")) # \"INI KAPITAL LOH\""
      ]
    },
    {
      "cell_type": "markdown",
      "metadata": {
        "id": "AYE_A5QtXzp0"
      },
      "source": [
        "When you are done with the above challenge, then:\n",
        "\n",
        "1. Run the code block below by pressing the play button."
      ]
    },
    {
      "cell_type": "code",
      "execution_count": null,
      "metadata": {
        "id": "ddkhw25qXzp0"
      },
      "outputs": [],
      "source": [
        "# Submit Method\n",
        "assignment_id = \"003_variables-and-functions\"\n",
        "question_id = \"07_function_3\"\n",
        "\n",
        "submit(student_id, name, assignment_id, concat_then_upper(\"Mastering\", \"ai\", \"Bootcamp\"), question_id)"
      ]
    },
    {
      "cell_type": "markdown",
      "metadata": {
        "id": "I9aUBLNPXzp0"
      },
      "source": [
        "## Challenge 4\n",
        "\n",
        "From below two input parameters, subtract first parameter with the second parameter (first parameter - second parameter) and then return the result."
      ]
    },
    {
      "cell_type": "code",
      "execution_count": null,
      "metadata": {
        "id": "mM_0-dj-Xzp0"
      },
      "outputs": [],
      "source": [
        "def substract(first, second):\n",
        "    return first# Put your code here\n",
        "\n",
        "print(substract(10, 5)) # 5\n",
        "print(substract(20, 10)) # 10\n",
        "print(substract(100, 50)) # 50"
      ]
    },
    {
      "cell_type": "markdown",
      "metadata": {
        "id": "8u7dQjEHXzp1"
      },
      "source": [
        "When you are done with the above challenge, then:\n",
        "\n",
        "1. Run the code block below by pressing the play button."
      ]
    },
    {
      "cell_type": "code",
      "execution_count": null,
      "metadata": {
        "id": "w2WaLDEeXzp1"
      },
      "outputs": [],
      "source": [
        "# Submit Method\n",
        "assignment_id = \"003_variables-and-functions\"\n",
        "question_id = \"08_function_4\"\n",
        "\n",
        "submit(student_id, name, assignment_id, str(substract(1024, 128)), question_id)"
      ]
    },
    {
      "cell_type": "markdown",
      "metadata": {
        "id": "tyepxORPXzp1"
      },
      "source": [
        "## Challenge 5\n",
        "\n",
        "Create a very basic multiplication function that will receive two arguments and return the multiplication result of those two arguments. Feel free write the name of the function and the parameters as you like (as long as it's following the rules of variable naming)!"
      ]
    },
    {
      "cell_type": "code",
      "execution_count": null,
      "metadata": {
        "id": "4nAltgNbXzp1"
      },
      "outputs": [],
      "source": [
        "# Put your code below"
      ]
    },
    {
      "cell_type": "markdown",
      "metadata": {
        "id": "SqpHLZIkXzp1"
      },
      "source": [
        "When you are done with the above challenge, then:\n",
        "\n",
        "1. Change the text \"my result\" below with the text \"done\"\n",
        "2. Run the code block by pressing the play button."
      ]
    },
    {
      "cell_type": "code",
      "execution_count": null,
      "metadata": {
        "id": "JDPDhrILXzp1"
      },
      "outputs": [],
      "source": [
        "# Submit Method\n",
        "assignment_id = \"003_variables-and-functions\"\n",
        "question_id = \"09_function_5\"\n",
        "\n",
        "result = \"my result\"\n",
        "\n",
        "submit(student_id, name, assignment_id, result, question_id)"
      ]
    },
    {
      "cell_type": "markdown",
      "metadata": {
        "id": "KwCoRDAjXzp1"
      },
      "source": [
        "## Challenge 6\n",
        "\n",
        "Create a function that will receive three arguments and return the multiplication result of those three arguments."
      ]
    },
    {
      "cell_type": "code",
      "execution_count": null,
      "metadata": {
        "id": "JvH9QNqiXzp2"
      },
      "outputs": [],
      "source": [
        "# Put your code below"
      ]
    },
    {
      "cell_type": "markdown",
      "metadata": {
        "id": "497A1yRrXzp2"
      },
      "source": [
        "When you are done with the above challenge, then:\n",
        "\n",
        "1. Change the text \"my result\" below with the text \"done\"\n",
        "2. Run the code block by pressing the play button."
      ]
    },
    {
      "cell_type": "code",
      "execution_count": null,
      "metadata": {
        "id": "inkTTzwSXzp7"
      },
      "outputs": [],
      "source": [
        "# Submit Method\n",
        "assignment_id = \"003_variables-and-functions\"\n",
        "question_id = \"10_function_6\"\n",
        "\n",
        "result = \"my result\"\n",
        "\n",
        "submit(student_id, name, assignment_id, result, question_id)"
      ]
    },
    {
      "cell_type": "markdown",
      "metadata": {
        "id": "NyFc9DEmXzp8"
      },
      "source": [
        "# Positional vs Keyword arguments\n",
        "\n",
        "Consider below function:"
      ]
    },
    {
      "cell_type": "code",
      "execution_count": null,
      "metadata": {
        "id": "vAvSZAtuXzp8"
      },
      "outputs": [],
      "source": [
        "def substract(a, b):\n",
        "    return a - b"
      ]
    },
    {
      "cell_type": "markdown",
      "metadata": {
        "id": "CRxGc4dXXzp8"
      },
      "source": [
        "As we said previously, we can use it like below:"
      ]
    },
    {
      "cell_type": "code",
      "execution_count": null,
      "metadata": {
        "id": "ozV3qZsCXzp8"
      },
      "outputs": [],
      "source": [
        "substract(5, 2)"
      ]
    },
    {
      "cell_type": "markdown",
      "metadata": {
        "id": "Brq6qeYfXzp8"
      },
      "source": [
        "This is called **positional arguments**. The arguments are passed to the function according to the position of the parameters in the function definition.\n",
        "\n",
        "Another way to pass arguments is by using the parameter name:"
      ]
    },
    {
      "cell_type": "code",
      "execution_count": null,
      "metadata": {
        "id": "XmAAFBCaXzp8",
        "outputId": "9746e126-a8ab-402c-8c01-a6d0c6a78c2a"
      },
      "outputs": [
        {
          "data": {
            "text/plain": [
              "3"
            ]
          },
          "execution_count": 20,
          "metadata": {},
          "output_type": "execute_result"
        }
      ],
      "source": [
        "substract(a=5, b=2)"
      ]
    },
    {
      "cell_type": "markdown",
      "metadata": {
        "id": "pzmNqSWCXzp9"
      },
      "source": [
        "This is called **keyword arguments**. The arguments are passed to the function using the parameter name. What makes keyword arguments different from positional arguments is that **the order of the arguments doesn't matter**, which means we can do this and the result will be the same:"
      ]
    },
    {
      "cell_type": "code",
      "execution_count": null,
      "metadata": {
        "id": "opKJSC8XXzp9",
        "outputId": "babac737-3454-49f0-90a6-27d1bd1195fe"
      },
      "outputs": [
        {
          "data": {
            "text/plain": [
              "3"
            ]
          },
          "execution_count": 21,
          "metadata": {},
          "output_type": "execute_result"
        }
      ],
      "source": [
        "substract(b=2, a=5)"
      ]
    },
    {
      "cell_type": "markdown",
      "metadata": {
        "id": "qkorS0uqXzp9"
      },
      "source": [
        "# Challenge"
      ]
    },
    {
      "cell_type": "markdown",
      "metadata": {
        "id": "hwKyLsCgXzp9"
      },
      "source": [
        "## Chellenge 1\n",
        "\n",
        "Return the substraction result of below three arguments"
      ]
    },
    {
      "cell_type": "code",
      "execution_count": null,
      "metadata": {
        "id": "8oxlcMScXzp9"
      },
      "outputs": [],
      "source": [
        "def sub_three(first_number, second_number, third_number):\n",
        "    return None # Put your code here\n",
        "\n",
        "print(sub_three(10, 5, 2)) # 3\n",
        "print(sub_three(third_number=7, second_number=5, first_number=10)) # -2\n",
        "print(sub_three(second_number=20, third_number=10, first_number=100)) # 70"
      ]
    },
    {
      "cell_type": "markdown",
      "metadata": {
        "id": "FJQeAkI6Xzp-"
      },
      "source": [
        "When you are done with the above challenge, then:\n",
        "\n",
        "1. Run the code block below by pressing the play button."
      ]
    },
    {
      "cell_type": "code",
      "execution_count": null,
      "metadata": {
        "id": "rI_cccYhXzp-"
      },
      "outputs": [],
      "source": [
        "# Submit Method\n",
        "assignment_id = \"003_variables-and-functions\"\n",
        "question_id = \"11_function_positional_argument_1\"\n",
        "\n",
        "submit(student_id, name, assignment_id, str(sub_three(second_number=2, third_number=3, first_number=1)), question_id)"
      ]
    },
    {
      "cell_type": "markdown",
      "metadata": {
        "id": "1wA7u9sQXzp-"
      },
      "source": [
        "## Challenge 2\n",
        "\n",
        "Below is a function call that will receive three arguments and return the concatenation result of those three arguments (Remember to add space between words). Your task is to create the function that will be called by below function call."
      ]
    },
    {
      "cell_type": "code",
      "execution_count": null,
      "metadata": {
        "id": "VuUDI75KXzp-"
      },
      "outputs": [],
      "source": [
        "# Put your code below\n",
        "\n",
        "concat_texts(\"You\", \"are\", \"breathtaking\") # Should return \"You are breathtaking\"\n",
        "concat_texts(third=\"breathtaking\", first=\"You\", second=\"are\") # Should return \"You are breathtaking\""
      ]
    },
    {
      "cell_type": "markdown",
      "metadata": {
        "id": "P14FRLCTXzp-"
      },
      "source": [
        "When you are done with the above challenge, then:\n",
        "\n",
        "1. Run the code block below by pressing the play button."
      ]
    },
    {
      "cell_type": "code",
      "execution_count": null,
      "metadata": {
        "id": "UU4XiXwiXzp_"
      },
      "outputs": [],
      "source": [
        "# Submit Method\n",
        "assignment_id = \"003_variables-and-functions\"\n",
        "question_id = \"12_function_positional_argument_2\"\n",
        "\n",
        "submit(student_id, name, assignment_id, concat_texts(first=\"My\", third=\"ring\", second=\"precious\"), question_id)"
      ]
    },
    {
      "cell_type": "markdown",
      "metadata": {
        "id": "qd_-v_l8Xzp_"
      },
      "source": [
        "# Value returned can be assigned to a variable\n",
        "\n",
        "The value returned by a function can be assigned to a variable, because something returned from a function is basically the datatype of the function. For example:"
      ]
    },
    {
      "cell_type": "code",
      "execution_count": null,
      "metadata": {
        "id": "EEEwla4JXzp_"
      },
      "outputs": [],
      "source": [
        "def add_two(a, b):\n",
        "    return a + b\n",
        "\n",
        "result = add_two(3, 4)\n",
        "result"
      ]
    },
    {
      "cell_type": "markdown",
      "metadata": {
        "id": "N2T5f0l8Xzp_"
      },
      "source": [
        "# Challenge!"
      ]
    },
    {
      "cell_type": "markdown",
      "metadata": {
        "id": "2LkJhs11Xzp_"
      },
      "source": [
        "## Challenge 1\n",
        "\n",
        "Concat Rudi's name to the result of below `concat_three` function"
      ]
    },
    {
      "cell_type": "code",
      "execution_count": null,
      "metadata": {
        "id": "_Y0yn8O4Xzp_"
      },
      "outputs": [],
      "source": [
        "def concat_three(a, b, c):\n",
        "    return a + \" \" + b + \" \" + c\n",
        "\n",
        "concat_three(\"Yoda\", \"Sam\", \"Frodo\") + \"\" # Change this line only, concat Rudi so it will be resulted in \"Yoda Sam Frodo Rudi\""
      ]
    },
    {
      "cell_type": "markdown",
      "metadata": {
        "id": "KtJ4YAEkXzqA"
      },
      "source": [
        "When you are done with the above challenge, then:\n",
        "\n",
        "1. Change the text \"my result\" below with the text \"done\"\n",
        "2. Run the code block by pressing the play button."
      ]
    },
    {
      "cell_type": "code",
      "execution_count": null,
      "metadata": {
        "id": "je8Bp32PXzqA"
      },
      "outputs": [],
      "source": [
        "# Submit Method\n",
        "assignment_id = \"003_variables-and-functions\"\n",
        "question_id = \"13_function_result_as_variable_1\"\n",
        "\n",
        "result = \"my result\"\n",
        "\n",
        "submit(student_id, name, assignment_id, result, question_id)"
      ]
    },
    {
      "cell_type": "markdown",
      "metadata": {
        "id": "v8MAq-svXzqA"
      },
      "source": [
        "## Challenge 2"
      ]
    },
    {
      "cell_type": "code",
      "execution_count": null,
      "metadata": {
        "id": "F3koYajiXzqA"
      },
      "outputs": [],
      "source": [
        "def add_three(a, b, c):\n",
        "    return a + b + c\n",
        "\n",
        "add_three(1, 2, 3) # Change this line only, add the result of this function with 4 so it will be resulted in 10"
      ]
    },
    {
      "cell_type": "markdown",
      "metadata": {
        "id": "FK8-mK8tXzqA"
      },
      "source": [
        "When you are done with the above challenge, then:\n",
        "\n",
        "1. Change the text \"my result\" below with the text \"done\"\n",
        "2. Run the code block by pressing the play button."
      ]
    },
    {
      "cell_type": "code",
      "execution_count": null,
      "metadata": {
        "id": "MCLa0mUvXzqA"
      },
      "outputs": [],
      "source": [
        "# Submit Method\n",
        "assignment_id = \"003_variables-and-functions\"\n",
        "question_id = \"14_function_result_as_variable_2\"\n",
        "\n",
        "result = \"my result\"\n",
        "\n",
        "submit(student_id, name, assignment_id, result, question_id)"
      ]
    },
    {
      "cell_type": "markdown",
      "metadata": {
        "id": "oKAZeWyHXzqB"
      },
      "source": [
        "## Challenge 3\n",
        "\n",
        "Use two different functions below and sum the result of those two functions"
      ]
    },
    {
      "cell_type": "code",
      "execution_count": null,
      "metadata": {
        "id": "0DhvY-B9XzqB"
      },
      "outputs": [],
      "source": [
        "def divide(a, b):\n",
        "    return a / b\n",
        "\n",
        "def multiply(a, b):\n",
        "    return a * b\n",
        "\n",
        "divide(10, 2) + multiply(2, 3) # Example\n",
        "# Now create the division of 9 and 3, and multiplication of 2 and 4, then add the result of those two operations in this line (use existing functions except for the addition)"
      ]
    },
    {
      "cell_type": "markdown",
      "metadata": {
        "id": "4fWNX3D8XzqB"
      },
      "source": [
        "When you are done with the above challenge, then:\n",
        "\n",
        "1. Change the text \"my result\" below with the output of the calculation above.\n",
        "2. Run the code block by pressing the play button."
      ]
    },
    {
      "cell_type": "code",
      "execution_count": null,
      "metadata": {
        "id": "XTuGfsn1XzqB"
      },
      "outputs": [],
      "source": [
        "# Submit Method\n",
        "assignment_id = \"003_variables-and-functions\"\n",
        "question_id = \"15_function_result_as_variable_3\"\n",
        "\n",
        "result = \"my result\"\n",
        "\n",
        "submit(student_id, name, assignment_id, result, question_id)"
      ]
    },
    {
      "cell_type": "markdown",
      "metadata": {
        "id": "pN6_rjHwXzqB"
      },
      "source": [
        "## Challenge 4\n",
        "\n",
        "Now use the variable `result` and `result2`, results of given functions, and sum them together"
      ]
    },
    {
      "cell_type": "code",
      "execution_count": null,
      "metadata": {
        "id": "XTGyrVdvXzqB"
      },
      "outputs": [],
      "source": [
        "def multiply_two(a, b):\n",
        "    return a * b\n",
        "\n",
        "result = multiply_two(3, 4)\n",
        "result2 = multiply_two(5, 6)\n",
        "\n",
        "# Sum the result and result2 variable in this line"
      ]
    },
    {
      "cell_type": "markdown",
      "metadata": {
        "id": "JULLfkyXXzqC"
      },
      "source": [
        "When you are done with the above challenge, then:\n",
        "\n",
        "1. Change the text \"my result\" below with the output of the calculation above.\n",
        "2. Run the code block by pressing the play button."
      ]
    },
    {
      "cell_type": "code",
      "execution_count": null,
      "metadata": {
        "id": "R5svQvR1XzqC"
      },
      "outputs": [],
      "source": [
        "# Submit Method\n",
        "assignment_id = \"003_variables-and-functions\"\n",
        "question_id = \"16_function_result_as_variable_4\"\n",
        "\n",
        "result = \"my result\"\n",
        "\n",
        "submit(student_id, name, assignment_id, result, question_id)"
      ]
    },
    {
      "cell_type": "markdown",
      "metadata": {
        "id": "CCmgST58XzqC"
      },
      "source": [
        "# Let's have fun, machine learning enthusiasts!"
      ]
    },
    {
      "cell_type": "markdown",
      "metadata": {
        "id": "8kvDYm52XzqC"
      },
      "source": [
        "Let's take a look to several line of code at our \"The basics\" learning section when we're just trying to learn about programming"
      ]
    },
    {
      "cell_type": "code",
      "execution_count": null,
      "metadata": {
        "id": "1Ggl7sD7XzqC"
      },
      "outputs": [],
      "source": [
        "%pip install transformers\n",
        "from transformers import pipeline\n",
        "\n",
        "classifier = pipeline(task=\"text-classification\", model=\"SamLowe/roberta-base-go_emotions\", top_k=None)"
      ]
    },
    {
      "cell_type": "markdown",
      "metadata": {
        "id": "JCdkKAlJXzqD"
      },
      "source": [
        "Ignore the first two line of code as we'll cover it in later section.\n",
        "\n",
        "Beside the argument of `top_k` being `None` (which we haven't covered yet), you should already understand the gist of above code. Python isn't that hard right?!\n",
        "\n",
        "What's unique about above `pipeline` function is that **this function is returning another function**, a \"trick\" that we might haven't learned yet, but let's just take it as it is for now.\n",
        "\n",
        "Let's use the `classifier` function like below:"
      ]
    },
    {
      "cell_type": "code",
      "execution_count": null,
      "metadata": {
        "id": "R8q81XQhXzqD"
      },
      "outputs": [],
      "source": [
        "classifier(\"Mom, thanks for your prayers, I passed the interview on Ruangguru!\")"
      ]
    },
    {
      "cell_type": "markdown",
      "metadata": {
        "id": "VXG_v9OVXzqD"
      },
      "source": [
        "# Intermezo: Function vs method\n",
        "\n",
        "We've been using the term function a lot, but there's another term that's similar to function, which is method. So what's the difference between function and method?\n",
        "\n",
        "So basically we'll learn more intense about method in OOP section, but to be concise:\n",
        "\n",
        "- Function is written just like we've learned so far (e.g. `function_name(argument)`)\n",
        "- Method is written after a compatible data type (e.g. `\"This is a string\".replace(\"is\", \"was\")`)\n"
      ]
    }
  ],
  "metadata": {
    "kernelspec": {
      "display_name": "Python 3 (ipykernel)",
      "language": "python",
      "name": "python3"
    },
    "language_info": {
      "codemirror_mode": {
        "name": "ipython",
        "version": 3
      },
      "file_extension": ".py",
      "mimetype": "text/x-python",
      "name": "python",
      "nbconvert_exporter": "python",
      "pygments_lexer": "ipython3",
      "version": "3.11.3"
    },
    "colab": {
      "provenance": [],
      "include_colab_link": true
    }
  },
  "nbformat": 4,
  "nbformat_minor": 0
}