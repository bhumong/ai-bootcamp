{
  "cells": [
    {
      "cell_type": "markdown",
      "metadata": {
        "id": "view-in-github",
        "colab_type": "text"
      },
      "source": [
        "<a href=\"https://colab.research.google.com/github/bhumong/ai-bootcamp/blob/main/pre-session-python/002_working_with_data/004_conditional.ipynb\" target=\"_parent\"><img src=\"https://colab.research.google.com/assets/colab-badge.svg\" alt=\"Open In Colab\"/></a>"
      ]
    },
    {
      "cell_type": "markdown",
      "metadata": {
        "id": "xO30Nb9y1fly"
      },
      "source": [
        "# Different input can lead to different path\n",
        "\n",
        "Below is a function `translate_text` that enable us to translate between two languages.\n"
      ]
    },
    {
      "cell_type": "code",
      "execution_count": null,
      "metadata": {
        "id": "5BAaJopv1fl0"
      },
      "outputs": [],
      "source": [
        "%pip install transformers sentencepiece\n",
        "from transformers import MBartForConditionalGeneration, MBart50TokenizerFast\n",
        "\n",
        "def translate_text(text,\n",
        "                   src_lang, tgt_lang):\n",
        "    # Load model and tokenizer\n",
        "    model = MBartForConditionalGeneration.from_pretrained('facebook/mbart-large-50-many-to-many-mmt')\n",
        "    tokenizer = MBart50TokenizerFast.from_pretrained('facebook/mbart-large-50-many-to-many-mmt')\n",
        "\n",
        "    # Apply the tokenizer to the input text, using the appropriate source and target language codes\n",
        "    tokenizer.src_lang = src_lang\n",
        "    encoded_text = tokenizer(text, return_tensors=\"pt\")\n",
        "\n",
        "    # Generate translation using the model\n",
        "    translated = model.generate(**encoded_text, forced_bos_token_id=tokenizer.lang_code_to_id[tgt_lang])\n",
        "\n",
        "    # Decode it and return the result\n",
        "    return tokenizer.batch_decode(translated, skip_special_tokens=True)[0]"
      ]
    },
    {
      "cell_type": "markdown",
      "metadata": {
        "id": "H57Frri61fl1"
      },
      "source": [
        "There are several syntax that we haven't introduced yet, but let's only focus on what this `translate_text` function does:\n",
        "\n",
        "It takes a `text` argument (the text that we want to be translated), a `src_lang` argument (the language of the text), and a `tgt_lang` argument (the language that we want to translate to).\n",
        "\n",
        "Below are the available languages that we can use for `src_lang` and `tgt_lang`:\n",
        "\n",
        "```\n",
        "Arabic (ar_AR), Czech (cs_CZ), German (de_DE), English (en_XX), Spanish (es_XX), Estonian (et_EE), Finnish (fi_FI), French (fr_XX), Gujarati (gu_IN), Hindi (hi_IN), Italian (it_IT), Japanese (ja_XX), Kazakh (kk_KZ), Korean (ko_KR), Lithuanian (lt_LT), Latvian (lv_LV), Burmese (my_MM), Nepali (ne_NP), Dutch (nl_XX), Romanian (ro_RO), Russian (ru_RU), Sinhala (si_LK), Turkish (tr_TR), Vietnamese (vi_VN), Chinese (zh_CN), Afrikaans (af_ZA), Azerbaijani (az_AZ), Bengali (bn_IN), Persian (fa_IR), Hebrew (he_IL), Croatian (hr_HR), Indonesian (id_ID), Georgian (ka_GE), Khmer (km_KH), Macedonian (mk_MK), Malayalam (ml_IN), Mongolian (mn_MN), Marathi (mr_IN), Polish (pl_PL), Pashto (ps_AF), Portuguese (pt_XX), Swedish (sv_SE), Swahili (sw_KE), Tamil (ta_IN), Telugu (te_IN), Thai (th_TH), Tagalog (tl_XX), Ukrainian (uk_UA), Urdu (ur_PK), Xhosa (xh_ZA), Galician (gl_ES), Slovene (sl_SI)\n",
        "```\n",
        "\n",
        "Use the countries' code to specify the language. Let's try to have fun!\n"
      ]
    },
    {
      "cell_type": "code",
      "execution_count": null,
      "metadata": {
        "id": "J4NjyDm01fl2"
      },
      "outputs": [],
      "source": [
        "text = \"Let's eat at that restaurant!\"\n",
        "translated_text = translate_text(text, \"en_XX\", \"ar_AR\")\n",
        "print(\"Translated Text : \" + translated_text)"
      ]
    },
    {
      "cell_type": "markdown",
      "metadata": {
        "id": "envB0FUN1fl2"
      },
      "source": [
        "# Challenge!"
      ]
    },
    {
      "cell_type": "markdown",
      "metadata": {
        "id": "FZrBvZpb1fl2"
      },
      "source": [
        "# Requirement alert 🚨🚨\n",
        "\n",
        "Our stakeholder want us to create a function that use that `translate_text` function, the input from the user isn't exactly like \"en_XX\" or \"id_ID\", but instead, it's \"English\" or \"Indonesia\".\n",
        "\n",
        "Oh no! How can we solve this problem?"
      ]
    },
    {
      "cell_type": "markdown",
      "metadata": {
        "id": "MJIwZEIS1fl3"
      },
      "source": [
        "# Conditional To The Rescue!\n",
        "\n",
        "Conditional is a way to make a decision based on a condition. It's like a different path that we can take based on certain condition."
      ]
    },
    {
      "cell_type": "code",
      "execution_count": null,
      "metadata": {
        "id": "zMzfOMG61fl3",
        "outputId": "8c6ee50f-ebac-451d-bd4b-4bbdc8f88929"
      },
      "outputs": [
        {
          "name": "stdout",
          "output_type": "stream",
          "text": [
            "None\n"
          ]
        }
      ],
      "source": [
        "src_lang = \"English\"\n",
        "src_code = None\n",
        "\n",
        "if src_lang == \"Indonesian\":\n",
        "    src_code = \"id_ID\"\n",
        "else:\n",
        "    src_code = None\n",
        "\n",
        "print(src_code)"
      ]
    },
    {
      "cell_type": "markdown",
      "metadata": {
        "id": "WaE9si-o1fl4"
      },
      "source": [
        "As you can see above that we can create a simple conditional with `if` and `else` keyword. `==` is a comparison operator that will return `True` if the right value is equal to the left value, and `False` if it's not. More about `True` and `False` will be explained in later section.\n",
        "\n",
        "And as you can see above we learn another data type as well called `None`, which will prevent us to get an error if certain variable hasn't yet been defined."
      ]
    },
    {
      "cell_type": "code",
      "execution_count": null,
      "metadata": {
        "id": "AorSMr211fl5"
      },
      "outputs": [],
      "source": [
        "src_lang = \"English\"\n",
        "src_code = None\n",
        "\n",
        "if src_lang == \"Indonesian\":\n",
        "    src_code = \"id_ID\"\n",
        "else:\n",
        "    src_code = \"Default\"\n",
        "\n",
        "print(src_code)"
      ]
    },
    {
      "cell_type": "markdown",
      "metadata": {
        "id": "0lp3ldn61fl5"
      },
      "source": [
        "Another common way is to add assignment to a default value if the condition is not fulfilled."
      ]
    },
    {
      "cell_type": "code",
      "execution_count": null,
      "metadata": {
        "id": "7Dh0xwtP1fl5",
        "outputId": "0711d182-4477-436a-80b6-bc0a382a9664"
      },
      "outputs": [
        {
          "ename": "NameError",
          "evalue": "name 'undeclared_variable' is not defined",
          "output_type": "error",
          "traceback": [
            "\u001b[0;31m---------------------------------------------------------------------------\u001b[0m",
            "\u001b[0;31mNameError\u001b[0m                                 Traceback (most recent call last)",
            "\u001b[1;32m/home/imam/ai-bootcamp/00_python-2-weeks/004_conditional.ipynb Cell 9\u001b[0m line \u001b[0;36m1\n\u001b[0;32m----> <a href='vscode-notebook-cell://wsl%2Bubuntu/home/imam/ai-bootcamp/00_python-2-weeks/004_conditional.ipynb#X13sdnNjb2RlLXJlbW90ZQ%3D%3D?line=0'>1</a>\u001b[0m undeclared_variable\n",
            "\u001b[0;31mNameError\u001b[0m: name 'undeclared_variable' is not defined"
          ]
        }
      ],
      "source": [
        "this_variable_is_not_defined"
      ]
    },
    {
      "cell_type": "code",
      "execution_count": null,
      "metadata": {
        "id": "jLnfv06K1fl5"
      },
      "outputs": [],
      "source": [
        "this_variable_is_not_defined = None\n",
        "this_variable_is_not_defined"
      ]
    },
    {
      "cell_type": "markdown",
      "metadata": {
        "id": "Bwzdjvfe1fl5"
      },
      "source": [
        "As you can see, using `None` will prevent us to have undefined variable error. It's a good practice to use `None` if we want to create a variable that we don't know the value yet or if the variable is sometimes intended to hold no value, this basically translated to: This variable is exist, but it doesn't have any value. In other programming language, lots of time this is called `null`."
      ]
    },
    {
      "cell_type": "markdown",
      "metadata": {
        "id": "-rd_jWVp1fl5"
      },
      "source": [
        "# Challenge"
      ]
    },
    {
      "cell_type": "markdown",
      "metadata": {
        "id": "k7AUo4oj1fl5"
      },
      "source": [
        "## Challenge 1\n",
        "\n",
        "Create a conditional that will assign `Great!` to `result` variable if the input is `I'm in love with Python!`, and assign `Oh no!` if the input is anything else."
      ]
    },
    {
      "cell_type": "code",
      "execution_count": null,
      "metadata": {
        "id": "7XQ7At--1fl5"
      },
      "outputs": [],
      "source": [
        "input = \"I'm in love with Python!\"\n",
        "result = None\n",
        "\n",
        "if input == \"I'm in love with Python!\":\n",
        "    result = \"\"\n",
        "else:\n",
        "    result = \"\"\n",
        "\n",
        "print(result)"
      ]
    },
    {
      "cell_type": "markdown",
      "metadata": {
        "id": "rBCIUwZt1fl6"
      },
      "source": [
        "When you are done with the above challenge, then:\n",
        "1. Input your student_id and name in the box below\n",
        "2. Run the code block by pressing the play button."
      ]
    },
    {
      "cell_type": "code",
      "execution_count": null,
      "metadata": {
        "id": "EDf1IveW1fl6"
      },
      "outputs": [],
      "source": [
        "!pip install rggrader\n",
        "\n",
        "from rggrader import submit\n",
        "\n",
        "# @title #### Student Identity\n",
        "student_id = \"your student id\" # @param {type:\"string\"}\n",
        "name = \"your name\" # @param {type:\"string\"}\n",
        "\n",
        "# Submit Method\n",
        "assignment_id = \"004_conditional_part_1\"\n",
        "question_id = \"01_basic_conditional_1\"\n",
        "submit(student_id, name, assignment_id, result, question_id)"
      ]
    },
    {
      "cell_type": "markdown",
      "metadata": {
        "id": "ZdlXyymD1fl6"
      },
      "source": [
        "## Challenge 2\n",
        "\n",
        "Create a conditional that will assign  `Great!` to `result` variable if the input is `I'm in love with Python!`, and assign `None` if the input is anything else."
      ]
    },
    {
      "cell_type": "code",
      "execution_count": null,
      "metadata": {
        "id": "-49avRmI1fl6"
      },
      "outputs": [],
      "source": [
        "input = \"I'm in love with Python!\"\n",
        "\n",
        "# Create the conditional statement"
      ]
    },
    {
      "cell_type": "markdown",
      "metadata": {
        "id": "SU1FnLTC1fl6"
      },
      "source": [
        "When you are done with the above challenge, then:\n",
        "\n",
        "1. Change the text \"my result\" below with the text \"done\"\n",
        "2. Run the code block by pressing the play button."
      ]
    },
    {
      "cell_type": "code",
      "execution_count": null,
      "metadata": {
        "id": "8I6W8snJ1fl6"
      },
      "outputs": [],
      "source": [
        "# Submit Method\n",
        "assignment_id = \"004_conditional_part_1\"\n",
        "question_id = \"02_basic_conditional_2\"\n",
        "\n",
        "result = \"my result\"\n",
        "\n",
        "submit(student_id, name, assignment_id, result, question_id)"
      ]
    },
    {
      "cell_type": "markdown",
      "metadata": {
        "id": "f0c40gRN1fl6"
      },
      "source": [
        "# Else if\n",
        "\n",
        "Let's say for now we only want our function to only compatible for 3 languages: English, Indonesian, and Swedish. We can do it like so:"
      ]
    },
    {
      "cell_type": "code",
      "execution_count": null,
      "metadata": {
        "id": "9ZgAQb7l1fl6"
      },
      "outputs": [],
      "source": [
        "src_lang = \"Swedish\"\n",
        "\n",
        "if src_lang == \"Indonesian\":\n",
        "    src_code = \"id_ID\"\n",
        "elif src_lang == \"English\":\n",
        "    src_code = \"en_XX\"\n",
        "elif src_lang == \"Swedish\":\n",
        "    src_code = \"sv_SE\"\n",
        "else:\n",
        "    src_code = None"
      ]
    },
    {
      "cell_type": "markdown",
      "metadata": {
        "id": "boatgiGK1fl7"
      },
      "source": [
        "`elif` is a keyword that is short for `else if`. It's a way to add another condition to our conditional. So basically using `if` we can have two kind of branching:\n",
        "\n",
        "- Using `elif` to add another condition\n",
        "- Using `else` to add a default condition that will be chosen if all the condition above it is `False`\n",
        "\n",
        "So looking at the code above, this is how our code \"think\":\n",
        "- If the `src_lang` is \"Indonesian\", then the `src_code` is \"id_ID\"\n",
        "- If the `src_lang` is \"English\", then the `src_code` is \"en_XX\"\n",
        "- If the `src_lang` is \"Swedish\", then the `src_code` is \"sv_SE\"\n",
        "- If the `src_lang` is anything else, then the `src_code` is `None`"
      ]
    },
    {
      "cell_type": "markdown",
      "metadata": {
        "id": "-6DbKmCa1fl7"
      },
      "source": [
        "# Side note: Conditional and function indentation\n",
        "\n",
        "Just to make sure we fully understand how indentation in Python works, remember that if we want to make a conditional inside a function, we need to indent the conditional as well, the indentation should be indented right after the function declaration.\n",
        "\n",
        "```python\n",
        "def my_function():\n",
        "    if \"Imam\" == \"Imam\":\n",
        "        print(\"Hello World\")\n",
        "```"
      ]
    },
    {
      "cell_type": "markdown",
      "metadata": {
        "id": "uruvCjSa1fl7"
      },
      "source": [
        "# Challenge Accepted!"
      ]
    },
    {
      "cell_type": "markdown",
      "metadata": {
        "id": "_S7IcIWq1fl7"
      },
      "source": [
        "## First challenge\n",
        "\n",
        "Now that you're ready, we'll try to fulfill our stakeholder's requirement. First let's create a basic conditional that will \"decide\" based on `tgt_lang` value.\n",
        "\n",
        "The `tgt_lang` will receive these three languages:\n",
        "- English (en_XX)\n",
        "- Arabic (ar_AR)\n",
        "- Indonesian (id_ID)\n",
        "\n",
        "If the `tgt_lang` isn't one of those three languages, then the function will return `None`."
      ]
    },
    {
      "cell_type": "code",
      "execution_count": null,
      "metadata": {
        "id": "lsWf6RgW1fl7"
      },
      "outputs": [],
      "source": [
        "tgt_lang = \"Arabic\"\n",
        "\n",
        "if tgt_lang == \"Arabic\":\n",
        "    tgt_code = \"ar_AR\"\n",
        "# Do the rest of the code here\n",
        "# The variable name tgt_code here is arbitrary, you can use any name you want"
      ]
    },
    {
      "cell_type": "markdown",
      "metadata": {
        "id": "i31WpXq91fl7"
      },
      "source": [
        "When you are done with the above challenge, then:\n",
        "\n",
        "1. Change the text \"my result\" below with the text \"done\"\n",
        "2. Run the code block by pressing the play button."
      ]
    },
    {
      "cell_type": "code",
      "execution_count": null,
      "metadata": {
        "id": "7-EzR2Rc1fl7"
      },
      "outputs": [],
      "source": [
        "# Submit Method\n",
        "assignment_id = \"004_conditional_part_1\"\n",
        "question_id = \"03_basic_conditional_3\"\n",
        "\n",
        "result = \"my result\"\n",
        "\n",
        "submit(student_id, name, assignment_id, result, question_id)"
      ]
    },
    {
      "cell_type": "markdown",
      "metadata": {
        "id": "Glo9F2Al1fl7"
      },
      "source": [
        "# Second challenge\n",
        "\n",
        "Now, integrate above condition in below function and create the function that can retrieve the `text` and `tgt_lang` from the user, and return the translated text. For now we'll just use English for the `src_lang`."
      ]
    },
    {
      "cell_type": "code",
      "execution_count": null,
      "metadata": {
        "id": "b79dSXlW1fl7"
      },
      "outputs": [],
      "source": [
        "def my_translate_text(text, tgt_lang):\n",
        "    src_code = \"en_XX\"\n",
        "\n",
        "    if tgt_lang == \"Arabic\":\n",
        "        tgt_code = \"ar_AR\"\n",
        "    # Do the rest of the code here\n",
        "\n",
        "    return translate_text(text, None, None) # Replace None with the correct variables\n",
        "\n",
        "my_translate_text(\"Let's eat at that restaurant!\", \"Arabic\")\n",
        "my_translate_text(\"Let's eat at that restaurant!\", \"Indonesian\")\n",
        "my_translate_text(\"Let's eat at that restaurant!\", \"Spanish\")"
      ]
    },
    {
      "cell_type": "markdown",
      "metadata": {
        "id": "T3g_XYo81fl7"
      },
      "source": [
        "When you are done with the above challenge, then:\n",
        "\n",
        "1. Run the code block by pressing the play button."
      ]
    },
    {
      "cell_type": "code",
      "execution_count": null,
      "metadata": {
        "id": "0Z47n6tJ1fl7"
      },
      "outputs": [],
      "source": [
        "# Submit Method\n",
        "assignment_id = \"004_conditional_part_1\"\n",
        "question_id = \"04_basic_conditional_4\"\n",
        "\n",
        "submit(student_id, name, assignment_id, my_translate_text(\"Let's go study AI!\", \"Indonesian\"), question_id)"
      ]
    },
    {
      "cell_type": "markdown",
      "metadata": {
        "id": "bAIYJIny1fl8"
      },
      "source": [
        "# Final challenge\n",
        "\n",
        "For the final challenge, make a complete function that the `src_lang` now is provided as well with three languages that's compatible: \"English\" (en_XX), \"Indonesian\" (id_ID), and \"Swedish\" (sv_SE)."
      ]
    },
    {
      "cell_type": "code",
      "execution_count": null,
      "metadata": {
        "id": "IfkPoOpU1fl8"
      },
      "outputs": [],
      "source": [
        "# write the code here\n",
        "def final_challenge_translation(text, src_lang, tgt_lang):\n",
        "\n",
        "  #your code here\n",
        "\n",
        "  return translate_text(text, src_code, tgt_code)\n",
        "\n",
        "# implementation example\n",
        "print(final_challenge_translation(\"Let's eat at that restaurant!\", \"English\", \"Indonesian\")) #atas\n",
        "final_challenge_translation(\"Ayo makan di restoran itu!\", \"Indonesian\", \"English\") #bawah"
      ]
    },
    {
      "cell_type": "markdown",
      "metadata": {
        "id": "hUP0yUU01fl8"
      },
      "source": [
        "When you are done with the above challenge, then:\n",
        "\n",
        "1. Run the code block by pressing the play button."
      ]
    },
    {
      "cell_type": "code",
      "execution_count": null,
      "metadata": {
        "id": "A37t9Jh01fmB"
      },
      "outputs": [],
      "source": [
        "# Submit Method\n",
        "assignment_id = \"004_conditional_part_1\"\n",
        "question_id = \"05_basic_conditional_5\"\n",
        "\n",
        "submit(student_id, name, assignment_id, final_challenge_translation(\"Let's learn AI together!\", \"English\", \"Spanish\"), question_id)"
      ]
    },
    {
      "cell_type": "markdown",
      "metadata": {
        "id": "EGWXmMm81fmB"
      },
      "source": [
        "# Conditional == The art of making true things true and false things false\n",
        "\n",
        "We'll dive in a little bit on the theoritical side of conditionals.\n",
        "\n",
        "`True` and `False` are a data type in Python called booleans. They are used to represent the truth value of an expression.\n",
        "\n",
        "When we're working with `if` statements, we're basically saying to the computer: \"If this is equal to `True`, do this. If it's equal to `False`, do that.\""
      ]
    },
    {
      "cell_type": "code",
      "execution_count": null,
      "metadata": {
        "id": "TVvRgK1r1fmB",
        "outputId": "1d8d362f-9ac6-474f-bb2b-5ded2df2717d"
      },
      "outputs": [
        {
          "name": "stdout",
          "output_type": "stream",
          "text": [
            "True\n"
          ]
        }
      ],
      "source": [
        "if True:\n",
        "    print(\"True\")\n",
        "\n",
        "if False:\n",
        "    print(\"False\")"
      ]
    },
    {
      "cell_type": "markdown",
      "metadata": {
        "id": "WL4Qxs5B1fmB"
      },
      "source": [
        "So basically when we're working with conditional, we're trying to manipulate data to make sure it's end up with `True` or `False`.\n",
        "\n",
        "Like previous lesson, when we're doing example like so:"
      ]
    },
    {
      "cell_type": "code",
      "execution_count": null,
      "metadata": {
        "id": "hiadbpmJ1fmB",
        "outputId": "84f5bb7a-e19c-4c15-e51c-6e17fa38e7ce"
      },
      "outputs": [
        {
          "name": "stdout",
          "output_type": "stream",
          "text": [
            "True\n",
            "False\n"
          ]
        }
      ],
      "source": [
        "print(\"Imam\" == \"Imam\")\n",
        "print(\"Andi\" == \"Imam\")"
      ]
    },
    {
      "cell_type": "markdown",
      "metadata": {
        "id": "80jcNBOD1fmB"
      },
      "source": [
        "As you can see above, `\"Imam\" == \"Imam\"` is equal to `True`, while `\"Andi\" == \"Imam\"` is equal to `False`.\n",
        "\n",
        "So basically when we're working with `if`:\n",
        "\n",
        "- We should manipulate the code after the `if` to make sure it's either values: `True` or `False`.\n",
        "\n",
        "This `\"Imam\" == \"Imam\"` and `\"Andi\" == \"Imam\"` is called **logical statement**. Logical statement is a statement that will result in `True` or `False`."
      ]
    },
    {
      "cell_type": "markdown",
      "metadata": {
        "id": "IN_2AafN1fmC"
      },
      "source": [
        "# Other example of logical statement"
      ]
    },
    {
      "cell_type": "markdown",
      "metadata": {
        "id": "oC4YeoaQ1fmC"
      },
      "source": [
        "## Logical statement on numbers\n",
        "\n",
        "Below are several examples of logical statement on numbers."
      ]
    },
    {
      "cell_type": "code",
      "execution_count": null,
      "metadata": {
        "id": "OK9YauDJ1fmC",
        "outputId": "73569ddd-35b8-4c95-b914-13e4dbe85d58"
      },
      "outputs": [
        {
          "name": "stdout",
          "output_type": "stream",
          "text": [
            "True\n",
            "False\n",
            "False\n",
            "True\n"
          ]
        }
      ],
      "source": [
        "print(1 == 1) # True -> 1 is equal to 1\n",
        "print(1 == 2) # False -> 1 is not equal to 2\n",
        "print(1 > 2) # False -> 1 is not greater than 2\n",
        "print(1 < 2) # True -> 1 is less than 2\n",
        "print(1 >= 2) # False -> 1 is not greater than or equal to 2\n",
        "print(1 <= 2) # True -> 1 is less than or equal to 2\n",
        "print(1 <= 1) # True -> 1 is less than or equal to 1"
      ]
    },
    {
      "cell_type": "markdown",
      "metadata": {
        "id": "JA1yoA_01fmC"
      },
      "source": [
        "## Negation\n",
        "\n",
        "Negation is a statement that will invert the value of the statement. Basically, if the statement is `True`, it will be converted to `False`, and `False` will be converted to `True`."
      ]
    },
    {
      "cell_type": "code",
      "execution_count": null,
      "metadata": {
        "id": "L134e1UJ1fmC",
        "outputId": "80e41b15-7eb4-4460-c3bd-5676de71d890"
      },
      "outputs": [
        {
          "name": "stdout",
          "output_type": "stream",
          "text": [
            "True\n",
            "False\n"
          ]
        }
      ],
      "source": [
        "print(False != True) # True -> False is not equal to True\n",
        "print(True != True) # False -> True is equal to True"
      ]
    },
    {
      "cell_type": "markdown",
      "metadata": {
        "id": "O_yu1hgE1fmC"
      },
      "source": [
        "# `and` and `or`\n",
        "\n",
        "`and` and `or` are logical operator that combine two or more logical statement.\n",
        "\n",
        "`and` will return `True` if all of the logical statement is `True`, and `False` if one of the logical statement is `False`.\n",
        "\n",
        "`or` will return `True` if one of the logical statement is `True`, and `False` if all of the logical statement is `False`."
      ]
    },
    {
      "cell_type": "code",
      "execution_count": null,
      "metadata": {
        "id": "Z3Yup1kn1fmC",
        "outputId": "3f2ee2a1-e467-4edf-8565-6bfb1bc8c1e9"
      },
      "outputs": [
        {
          "name": "stdout",
          "output_type": "stream",
          "text": [
            "True\n",
            "False\n",
            "False\n",
            "True\n",
            "True\n",
            "False\n",
            "True\n",
            "False\n",
            "False\n",
            "True\n",
            "True\n",
            "False\n"
          ]
        }
      ],
      "source": [
        "print(True and True) # True -> All conditions are True\n",
        "print(True and False) # False -> One condition is False\n",
        "print(False and False) # False -> All conditions are False\n",
        "\n",
        "print(True or True) # True -> All conditions are True\n",
        "print(True or False) # True -> One condition is True\n",
        "print(False or False) # False -> All conditions are False\n",
        "\n",
        "print(1 == 1 and 2 == 2) # True -> All conditions are True\n",
        "print(1 == 1 and 2 == 3) # False -> One condition is False\n",
        "print(1 != 1 and 2 == 3) # False -> All conditions are False\n",
        "\n",
        "print(1 == 1 or 2 == 2) # True -> All conditions are True\n",
        "print(1 == 1 or 2 == 3) # True -> One condition is True\n",
        "print(1 != 1 or 2 == 3) # False -> All conditions are False"
      ]
    },
    {
      "cell_type": "markdown",
      "metadata": {
        "id": "ziB3jf1E1fmD"
      },
      "source": [
        "# Conditional function\n",
        "\n",
        "Let's take our learning to the next level by creating a function that will return `True` or `False` based on the input. We'll call this function `is_even_and_divisible_by_five`."
      ]
    },
    {
      "cell_type": "code",
      "execution_count": null,
      "metadata": {
        "id": "barxX3Ax1fmD",
        "outputId": "f33089d5-7970-4e0a-fb9c-1bf455a47fa5"
      },
      "outputs": [
        {
          "name": "stdout",
          "output_type": "stream",
          "text": [
            "True\n",
            "False\n",
            "False\n",
            "True\n"
          ]
        }
      ],
      "source": [
        "def is_even_and_divisible_by_five(number):\n",
        "    return number % 2 == 0 and number % 5 == 0\n",
        "\n",
        "print(is_even_and_divisible_by_five(10)) # True\n",
        "print(is_even_and_divisible_by_five(5)) # False\n",
        "print(is_even_and_divisible_by_five(9)) # False\n",
        "print(is_even_and_divisible_by_five(30)) # True"
      ]
    },
    {
      "cell_type": "markdown",
      "metadata": {
        "id": "4PIL6YBA1fmD"
      },
      "source": [
        "Note: `%` in Python is called modulus. It will return the remainder of the division. For example `5 % 2` will return `1` because `5 / 2` is `2` with remainder `1`, while `4 % 2` will return `0` because `4 / 2` is `2` with remainder `0`."
      ]
    },
    {
      "cell_type": "markdown",
      "metadata": {
        "id": "mzyHiu2j1fmD"
      },
      "source": [
        "# Challenge!"
      ]
    },
    {
      "cell_type": "markdown",
      "metadata": {
        "id": "mY_Sqhgr1fmD"
      },
      "source": [
        "## Challenge 1\n",
        "\n",
        "Create a function that will return `True` if the input is divisible by 2 and 3, and `False` if it's not."
      ]
    },
    {
      "cell_type": "code",
      "execution_count": null,
      "metadata": {
        "id": "Zw5Tgoxn1fmD"
      },
      "outputs": [],
      "source": [
        "def is_divisible_by_two_and_three(number):\n",
        "    return number % 2 and False # Replace this line with your code\n",
        "\n",
        "print(is_divisible_by_two_and_three(6)) # True\n",
        "print(is_divisible_by_two_and_three(7)) # False\n",
        "print(is_divisible_by_two_and_three(4)) # False\n",
        "print(is_divisible_by_two_and_three(12)) # True"
      ]
    },
    {
      "cell_type": "markdown",
      "metadata": {
        "id": "_dFo3AKv1fmE"
      },
      "source": [
        "When you are done with the above challenge, then:\n",
        "1. Input your student_id and name in the box below\n",
        "2. Run the code block by pressing the play button."
      ]
    },
    {
      "cell_type": "code",
      "execution_count": null,
      "metadata": {
        "id": "DgMyym951fmE"
      },
      "outputs": [],
      "source": [
        "!pip install rggrader\n",
        "\n",
        "from rggrader import submit\n",
        "\n",
        "# @title #### Student Identity\n",
        "student_id = \"your student id\" # @param {type:\"string\"}\n",
        "name = \"your name\" # @param {type:\"string\"}\n",
        "\n",
        "# Submit Method\n",
        "assignment_id = \"005_conditional_part_2\"\n",
        "question_id = \"01_conditional_function_1\"\n",
        "submit(student_id, name, assignment_id, str(is_divisible_by_two_and_three(8)), question_id)"
      ]
    },
    {
      "cell_type": "markdown",
      "metadata": {
        "id": "1QjGARNm1fmE"
      },
      "source": [
        "## Challenge 2\n",
        "\n",
        "Create a function that will return `True` if the input is divisible by 4 and 6, and `False` if it's not."
      ]
    },
    {
      "cell_type": "code",
      "execution_count": null,
      "metadata": {
        "id": "faZ0qG2t1fmE"
      },
      "outputs": [],
      "source": [
        "def is_divisible_by_four_and_six(number):\n",
        "    return None # Replace this line with your code\n",
        "\n",
        "print(is_divisible_by_four_and_six(24)) # True\n",
        "print(is_divisible_by_four_and_six(25)) # False\n",
        "print(is_divisible_by_four_and_six(36)) # True"
      ]
    },
    {
      "cell_type": "markdown",
      "metadata": {
        "id": "8zdhkMHt1fmE"
      },
      "source": [
        "When you are done with the above challenge, then:\n",
        "\n",
        "1. Run the code block by pressing the play button."
      ]
    },
    {
      "cell_type": "code",
      "execution_count": null,
      "metadata": {
        "id": "40-EZ3YK1fmE"
      },
      "outputs": [],
      "source": [
        "# Submit Method\n",
        "assignment_id = \"005_conditional_part_2\"\n",
        "question_id = \"02_conditional_function_2\"\n",
        "\n",
        "submit(student_id, name, assignment_id, str(is_divisible_by_four_and_six(50)), question_id)"
      ]
    },
    {
      "cell_type": "markdown",
      "metadata": {
        "id": "0yDZos-A1fmE"
      },
      "source": [
        "## Challenge 3\n",
        "\n",
        "Create a function that will return `True` if the input is either a person named \"Levi\" or \"Ricky\", and `False` if it's not."
      ]
    },
    {
      "cell_type": "code",
      "execution_count": null,
      "metadata": {
        "id": "iwGfpWTf1fmE"
      },
      "outputs": [],
      "source": [
        "def is_levi_or_ricky(name):\n",
        "    return True # Replace this line with your code\n",
        "\n",
        "print(is_levi_or_ricky(\"Levi\")) # True\n",
        "print(is_levi_or_ricky(\"Ricky\")) # True\n",
        "print(is_levi_or_ricky(\"Calvin\")) # False\n",
        "print(is_levi_or_ricky(\"Nick\")) # False"
      ]
    },
    {
      "cell_type": "markdown",
      "metadata": {
        "id": "reI0NOmp1fmE"
      },
      "source": [
        "When you are done with the above challenge, then:\n",
        "\n",
        "1. Run the code block by pressing the play button."
      ]
    },
    {
      "cell_type": "code",
      "execution_count": null,
      "metadata": {
        "id": "BZVP-cnz1fmE"
      },
      "outputs": [],
      "source": [
        "# Submit Method\n",
        "assignment_id = \"005_conditional_part_2\"\n",
        "question_id = \"03_conditional_function_3\"\n",
        "\n",
        "submit(student_id, name, assignment_id, str(is_levi_or_ricky(\"Levi\")), question_id)"
      ]
    },
    {
      "cell_type": "markdown",
      "metadata": {
        "id": "hA6KP9mg1fmE"
      },
      "source": [
        "# Multiple condition\n",
        "\n",
        "For multiple condition such as: When we're creating a function to make sure that the return is only true when the employee type either `developer` or `designer` and the experience is more than 2 years, we can use combination of `and` and `or` to make sure that the condition is met. Let's see the example below:"
      ]
    },
    {
      "cell_type": "code",
      "execution_count": null,
      "metadata": {
        "id": "tXMYQGvT1fmF",
        "outputId": "fb6690ce-ab8a-41cf-edae-729ec653fb73"
      },
      "outputs": [
        {
          "name": "stdout",
          "output_type": "stream",
          "text": [
            "True\n",
            "False\n",
            "True\n",
            "False\n",
            "False\n"
          ]
        }
      ],
      "source": [
        "def experienced_dev_or_design(role, years):\n",
        "    return (role == \"dev\" or role == \"design\") and years >= 2\n",
        "\n",
        "print(experienced_dev_or_design(\"dev\", 3)) # True\n",
        "print(experienced_dev_or_design(\"dev\", 1)) # False\n",
        "print(experienced_dev_or_design(\"design\", 5)) # True\n",
        "print(experienced_dev_or_design(\"design\", 0)) # False\n",
        "print(experienced_dev_or_design(\"management\", 4)) # False"
      ]
    },
    {
      "cell_type": "markdown",
      "metadata": {
        "id": "7CF4M78a1fmF"
      },
      "source": [
        "So how does that work? When working with conditionals, Python will start to evaluate the condition that has parentheses first. So in below case:\n",
        "\n",
        "```python\n",
        "(role == \"dev\" or role == \"design\") and years >= 2\n",
        "```\n",
        "\n",
        "Python will evaluate the condition `role == \"dev\" or role == \"design\"` first, so, if for example the `role` is equal to `dev`, the result would be:\n",
        "\n",
        "```python\n",
        "(True or False) and years >= 2\n",
        "```\n",
        "\n",
        "Then it will be evaluated to:\n",
        "\n",
        "```python\n",
        "True and years >= 2\n",
        "```\n",
        "\n",
        "Then, if the `years` is equal to `3`, the result would be:\n",
        "\n",
        "```python\n",
        "True and True\n",
        "```\n",
        "\n",
        "When working with multiple conditionals, it's always easier \"to see\" the conditionals by evaluating it yourself one by one.\n",
        "\n",
        "## No parentheses\n",
        "\n",
        "What if there is no parentheses? Well, Python will evaluate the conditionals from left to right. Let's see that in action:\n",
        "\n",
        "\n",
        "```python\n",
        "role = \"dev\"\n",
        "years = 3\n",
        "\n",
        "role == \"dev\" or role == \"design\" and years >= 2\n",
        "True or False and True # We evaluate each logical statement first\n",
        "True and True # Then we evaluate left conditional first (True or False)\n",
        "True # Then we evaluate the next most left conditional (True and True)\n",
        "```\n",
        "\n",
        "The parentheses is mostly used to maintain readability of the code. So, if you're working with multiple conditionals, it's always better to use parentheses to make sure that the conditionals is evaluated in the order that you want and avoid confusion."
      ]
    },
    {
      "cell_type": "markdown",
      "metadata": {
        "id": "4hjUd8Wn1fmF"
      },
      "source": [
        "# Challenge!"
      ]
    },
    {
      "cell_type": "markdown",
      "metadata": {
        "id": "f8gNjdu41fmF"
      },
      "source": [
        "## First Challenge\n",
        "\n",
        "Create a function that will return true if the gender is equal to `male` and the profession is equal to `writer` or `storyteller`.\n",
        "\n",
        "Hint:\n",
        "- Make sure you add parentheses to make sure that the conditionals is evaluated in the order that you want\n",
        "- Profession should be evaluated independently first before you evaluate the gender with the evaluated profession"
      ]
    },
    {
      "cell_type": "code",
      "execution_count": null,
      "metadata": {
        "id": "2hUw_Tqi1fmF"
      },
      "outputs": [],
      "source": [
        "def get_correct_person(gender, profession):\n",
        "    return True # Replace this line with your code\n",
        "\n",
        "print(get_correct_person(\"male\", \"writer\")) # True\n",
        "print(get_correct_person(\"male\", \"storyteller\")) # True\n",
        "print(get_correct_person(\"female\", \"writer\")) # False\n",
        "print(get_correct_person(\"male\", \"doctor\")) # False"
      ]
    },
    {
      "cell_type": "markdown",
      "metadata": {
        "id": "cmYgop6o1fmF"
      },
      "source": [
        "When you are done with the above challenge, then:\n",
        "\n",
        "1. Run the code block by pressing the play button."
      ]
    },
    {
      "cell_type": "code",
      "execution_count": null,
      "metadata": {
        "id": "WB3fNHoc1fmG"
      },
      "outputs": [],
      "source": [
        "# Submit Method\n",
        "assignment_id = \"005_conditional_part_2\"\n",
        "question_id = \"04_multiple_conditional_1\"\n",
        "\n",
        "submit(student_id, name, assignment_id, str(get_correct_person(\"female\", \"doctor\")), question_id)"
      ]
    },
    {
      "cell_type": "markdown",
      "metadata": {
        "id": "DzYbeAJo1fmG"
      },
      "source": [
        "## Second challenge\n",
        "\n",
        "Create a function that will return true if the house price is less than 1000, the house type is equal to `townhouse` or `apartment`, and the house location is equal to `Jakarta` or `Bandung`."
      ]
    },
    {
      "cell_type": "code",
      "execution_count": null,
      "metadata": {
        "id": "2z7pKcdV1fmH"
      },
      "outputs": [],
      "source": [
        "def is_house_affordable(price, house_type, location):\n",
        "    # Your code here\n",
        "    return True\n",
        "\n",
        "print(is_house_affordable(900, \"townhouse\", \"Jakarta\")) # Should return True because price is less than 1000, house type is townhouse and location is Jakarta\n",
        "print(is_house_affordable(450, \"townhouse\", \"Bandung\")) # Should return True because price is less than 1000, house type is townhouse and location is Bandung\n",
        "print(is_house_affordable(900, \"villa\", \"Jakarta\")) # Should return False because even though the price is less than 1000 and location is Jakarta, the house type is not townhouse or apartment\n",
        "print(is_house_affordable(1000, \"townhouse\", \"Jakarta\")) # Should return False because price is not less than 1000\n",
        "print(is_house_affordable(500, \"apartment\", \"Bandung\")) # Should return True because price is less than 1000, house type is apartment and location is Bandung\n",
        "print(is_house_affordable(2000, \"townhouse\", \"Paris\")) # Should return False because price is more than 1000 and location is not Jakarta or Bandung\n",
        "print(is_house_affordable(900, \"apartment\", \"Tokyo\")) # Should return False because even though the price is less than 1000 and house type is apartment, the location is not Jakarta or Bandung\n",
        "print(is_house_affordable(850, \"apartment\", \"Jakarta\")) # Should return True because price is less than 1000, house type is apartment and location is Jakarta\n",
        "print(is_house_affordable(1050, \"apartment\", \"Bandung\")) # Should return False because price is not less than 1000"
      ]
    },
    {
      "cell_type": "markdown",
      "metadata": {
        "id": "gqvPCIis1fmH"
      },
      "source": [
        "When you are done with the above challenge, then:\n",
        "\n",
        "1. Run the code block by pressing the play button."
      ]
    },
    {
      "cell_type": "code",
      "execution_count": null,
      "metadata": {
        "id": "3DAWoaWa1fmI"
      },
      "outputs": [],
      "source": [
        "# Submit Method\n",
        "assignment_id = \"005_conditional_part_2\"\n",
        "question_id = \"05_multiple_conditional_2\"\n",
        "\n",
        "submit(student_id, name, assignment_id, str(is_house_affordable(1000, \"apartment\", \"Bandung\")), question_id)"
      ]
    }
  ],
  "metadata": {
    "kernelspec": {
      "display_name": "Python 3 (ipykernel)",
      "language": "python",
      "name": "python3"
    },
    "language_info": {
      "codemirror_mode": {
        "name": "ipython",
        "version": 3
      },
      "file_extension": ".py",
      "mimetype": "text/x-python",
      "name": "python",
      "nbconvert_exporter": "python",
      "pygments_lexer": "ipython3",
      "version": "3.11.3"
    },
    "colab": {
      "provenance": [],
      "include_colab_link": true
    }
  },
  "nbformat": 4,
  "nbformat_minor": 0
}