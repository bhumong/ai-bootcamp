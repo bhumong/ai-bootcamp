{
  "cells": [
    {
      "cell_type": "markdown",
      "metadata": {
        "id": "view-in-github",
        "colab_type": "text"
      },
      "source": [
        "<a href=\"https://colab.research.google.com/github/bhumong/ai-bootcamp/blob/main/pre-session%20python/001_intro_python/002_variables.ipynb\" target=\"_parent\"><img src=\"https://colab.research.google.com/assets/colab-badge.svg\" alt=\"Open In Colab\"/></a>"
      ]
    },
    {
      "cell_type": "markdown",
      "metadata": {
        "id": "7e5it6D88TKY"
      },
      "source": [
        "# Variable\n",
        "\n",
        "Having to write out the same thing over and over again is tedious and error-prone.\n",
        "\n",
        "Python, like most programming languages, allows us to assign a name to a value. This is called a variable. So we can do below code:"
      ]
    },
    {
      "cell_type": "code",
      "execution_count": null,
      "metadata": {
        "id": "wlOZThag8TKZ"
      },
      "outputs": [],
      "source": [
        "name = \"Imam\""
      ]
    },
    {
      "cell_type": "markdown",
      "metadata": {
        "id": "_doimVZm8TKa"
      },
      "source": [
        "And then we can use the variable `name` again when needed"
      ]
    },
    {
      "cell_type": "code",
      "execution_count": null,
      "metadata": {
        "id": "tXdyjyyq8TKa",
        "outputId": "55253d8d-9874-48e3-cdb5-200cfd87e121"
      },
      "outputs": [
        {
          "data": {
            "text/plain": [
              "'Imam'"
            ]
          },
          "execution_count": 3,
          "metadata": {},
          "output_type": "execute_result"
        }
      ],
      "source": [
        "name"
      ]
    },
    {
      "cell_type": "markdown",
      "metadata": {
        "id": "ZtiK7wB58TKa"
      },
      "source": [
        "Of course assigning variable can be done for other data types such as string and other data types that we haven't yet covered."
      ]
    },
    {
      "cell_type": "code",
      "execution_count": null,
      "metadata": {
        "id": "BbD36rLo8TKa"
      },
      "outputs": [],
      "source": [
        "name = 'John' # string\n",
        "age = 25 # integer\n",
        "weight = 75.5 # float\n",
        "is_adult = True # boolean\n",
        "wife = None # null"
      ]
    },
    {
      "cell_type": "markdown",
      "metadata": {
        "id": "9LHLtCdo8TKb"
      },
      "source": [
        "# `print` won't print out on a line of variable assignment\n",
        "\n",
        "Just to note is that if you're assigning a data to a variable in the last line of code, unlike previously learned, the last line of code will not be automatically printed out. You can put only the variable after you already assigned it to a value though."
      ]
    },
    {
      "cell_type": "code",
      "execution_count": null,
      "metadata": {
        "id": "779bmNnr8TKb"
      },
      "outputs": [],
      "source": [
        "will_not_be_printed = \"This will not be printed as this line is used to assign a value to a variable\""
      ]
    },
    {
      "cell_type": "code",
      "execution_count": null,
      "metadata": {
        "id": "TIt5Vrw78TKb",
        "outputId": "46d9422c-1d3d-4c4b-bdf2-5b4f03cb9e39"
      },
      "outputs": [
        {
          "data": {
            "text/plain": [
              "'Andi'"
            ]
          },
          "execution_count": 4,
          "metadata": {},
          "output_type": "execute_result"
        }
      ],
      "source": [
        "investor = \"Andi\"\n",
        "investor"
      ]
    },
    {
      "cell_type": "markdown",
      "metadata": {
        "id": "out1WkUV8TKc"
      },
      "source": [
        "Basic syntax rules for variable names:\n",
        "\n",
        "- Variable names can only contain letters, numbers, and underscores. Variable names can start with a letter or an underscore, but not with a number.\n",
        "- Spaces are not allowed in variable names, so we use underscores instead of spaces. For example, use `student_name` instead of `student name`.\n",
        "- You cannot use Python keywords as variable names such as `print`, `if`, `else`, `elif`, `for`, `while`, `def`, `class`, `try`, `except`, `finally`, `raise`, `import`, `from`, `as`, `with`, `lambda`, `return`, `yield`, `del`, `pass`, `break`, `continue`, `global`, `nonlocal`, `assert`, `in`, `is`, `not`, `or`, `and`, `True`, `False`, `None`, `async`, `await`, etc.\n",
        "\n",
        "Most of the time, developers will only use either this pattern \"my_variable_name\" (snake case) or this pattern \"myVariableName\" (camel case) for variable names and for most of the time developers will only use what's already been standardized by their company or their team."
      ]
    },
    {
      "cell_type": "markdown",
      "metadata": {
        "id": "9f41y6vI8TKc"
      },
      "source": [
        "# Operation on variables\n",
        "\n",
        "You can operate on variables just like you can operate on values - Eg. If the variable `x` is equal to 5, then `x + 1` will be equal to 6, if the variable `y` is a string, then we can operate on it with string operations such as `y.upper()`."
      ]
    },
    {
      "cell_type": "code",
      "execution_count": null,
      "metadata": {
        "id": "QUozEyNy8TKc",
        "outputId": "3a0ff089-9360-4e97-b7a4-56a7edff490a"
      },
      "outputs": [
        {
          "name": "stdout",
          "output_type": "stream",
          "text": [
            "11\n",
            "IMAM\n"
          ]
        }
      ],
      "source": [
        "my_number = 10\n",
        "print(my_number + 1)\n",
        "my_name = \"Imam\"\n",
        "print(my_name.upper())"
      ]
    },
    {
      "cell_type": "markdown",
      "metadata": {
        "id": "ArksOBvD8TKc"
      },
      "source": [
        "# Challenge\n",
        "\n",
        "## Challenge 1\n",
        "\n",
        "Create a variable with the name `car` and assign the value `Tesla` to it. Then make sure the variable is printed out."
      ]
    },
    {
      "cell_type": "code",
      "execution_count": null,
      "metadata": {
        "id": "y6-3MCiq8TKc"
      },
      "outputs": [],
      "source": [
        "# Put your code here"
      ]
    },
    {
      "cell_type": "markdown",
      "metadata": {
        "id": "ByA_sMmk8TKc"
      },
      "source": [
        "When you are done with the above challenge, then:\n",
        "1. Input your student_id and name in the box below\n",
        "3. Run the code block by pressing the play button."
      ]
    },
    {
      "cell_type": "code",
      "execution_count": null,
      "metadata": {
        "id": "b-WxQ3tt8TKc"
      },
      "outputs": [],
      "source": [
        "!pip install rggrader\n",
        "\n",
        "from rggrader import submit\n",
        "\n",
        "# @title #### Student Identity\n",
        "student_id = \"your student id\" # @param {type:\"string\"}\n",
        "name = \"your name\" # @param {type:\"string\"}\n",
        "\n",
        "# Submit Method\n",
        "assignment_id = \"003_variables-and-functions\"\n",
        "question_id = \"01_variable_1\"\n",
        "submit(student_id, name, assignment_id, car, question_id)"
      ]
    },
    {
      "cell_type": "markdown",
      "metadata": {
        "id": "GHB_rYgu8TKc"
      },
      "source": [
        "## Challenge 2\n",
        "\n",
        "Concatenate below three variables into one variable called `sentence` and print it out. Remember to add space between first_word and second_word."
      ]
    },
    {
      "cell_type": "code",
      "execution_count": null,
      "metadata": {
        "id": "JGr2vgch8TKc"
      },
      "outputs": [],
      "source": [
        "first_word = \"Hello\"\n",
        "second_word = \"World\"\n",
        "third_word = \"!\"\n",
        "\n",
        "sentence = None # Put your code here, replace `None` with the variables.\n",
        "# Put your code here to make sure the `sentence` variable is printed\n",
        "#Expected output: \"Hello World!\""
      ]
    },
    {
      "cell_type": "markdown",
      "metadata": {
        "id": "UVIMH3KS8TKc"
      },
      "source": [
        "When you are done with the above challenge, then:\n",
        "\n",
        "1. Run the code block below by pressing the play button."
      ]
    },
    {
      "cell_type": "code",
      "execution_count": null,
      "metadata": {
        "id": "BlfH0Gr58TKc"
      },
      "outputs": [],
      "source": [
        "# Submit Method\n",
        "assignment_id = \"003_variables-and-functions\"\n",
        "question_id = \"02_variable_2\"\n",
        "\n",
        "submit(student_id, name, assignment_id, sentence, question_id)"
      ]
    },
    {
      "cell_type": "markdown",
      "metadata": {
        "id": "DmCZp4Cs8TKd"
      },
      "source": [
        "## Variable overwriting\n",
        "\n",
        "You can overwrite a variable by assigning a new value to it. For example:\n"
      ]
    },
    {
      "cell_type": "code",
      "execution_count": null,
      "metadata": {
        "id": "uUBoHyOL8TKd",
        "outputId": "2ac5e66e-d384-4eb9-8eb0-dd658fe6970d"
      },
      "outputs": [
        {
          "data": {
            "text/plain": [
              "'Andi'"
            ]
          },
          "execution_count": 10,
          "metadata": {},
          "output_type": "execute_result"
        }
      ],
      "source": [
        "name = \"Budi\"\n",
        "print(name)\n",
        "name = \"Andi\"\n",
        "name"
      ]
    },
    {
      "cell_type": "markdown",
      "metadata": {
        "id": "77TPCg5n8TKd"
      },
      "source": [
        "This behavior will help if you want to manipulate the value of a variable. For example:"
      ]
    },
    {
      "cell_type": "code",
      "execution_count": null,
      "metadata": {
        "id": "e8miJ-9c8TKd",
        "outputId": "42f501a4-39a1-439c-b641-6a359de582c9"
      },
      "outputs": [
        {
          "data": {
            "text/plain": [
              "'MANGO BANANA APPLE'"
            ]
          },
          "execution_count": 2,
          "metadata": {},
          "output_type": "execute_result"
        }
      ],
      "source": [
        "fruits = \"pear orange apple\"\n",
        "fruits = fruits.replace(\"pear\", \"mango\") # mango orange apple\n",
        "fruits = fruits.replace(\"orange\", \"banana\") # mango banana apple\n",
        "fruits = fruits.upper() # MANGO BANANA APPLE\n",
        "fruits"
      ]
    },
    {
      "cell_type": "markdown",
      "metadata": {
        "id": "qwv3-JMx8TKd"
      },
      "source": [
        "# Challenge\n",
        "\n",
        "## Challenge 1\n",
        "\n",
        "Try to override below `city` to include `Jakarta` in the end of the string, make sure that the end result is: \"Surabaya, Bandung, Yogyakarta, Jakarta\""
      ]
    },
    {
      "cell_type": "code",
      "execution_count": null,
      "metadata": {
        "id": "m0xWKRGm8TKd"
      },
      "outputs": [],
      "source": [
        "cities = \"Surabaya, Bandung, Yogyakarta\"\n",
        "cities = cities # Change this line of code only\n",
        "cities #Output must be \"Surabaya, Bandung, Yogyakarta, Jakarta\""
      ]
    },
    {
      "cell_type": "markdown",
      "metadata": {
        "id": "WO8L-qz_8TKd"
      },
      "source": [
        "When you are done with the above challenge, then:\n",
        "\n",
        "1. Run the code block below by pressing the play button."
      ]
    },
    {
      "cell_type": "code",
      "execution_count": null,
      "metadata": {
        "id": "dcnuMJvk8TKd"
      },
      "outputs": [],
      "source": [
        "# Submit Method\n",
        "assignment_id = \"003_variables-and-functions\"\n",
        "question_id = \"03_variable_overwriting_1\"\n",
        "\n",
        "submit(student_id, name, assignment_id, cities, question_id)"
      ]
    },
    {
      "cell_type": "markdown",
      "metadata": {
        "id": "K0JWbv268TKd"
      },
      "source": [
        "## Challenge 2\n",
        "\n",
        "Follow the guide on below line of code to finish the challenge"
      ]
    },
    {
      "cell_type": "code",
      "execution_count": null,
      "metadata": {
        "id": "xS_o_dHr8TKd"
      },
      "outputs": [],
      "source": [
        "calculation = 5\n",
        "calculation = calculation # Times this variable by 2\n",
        "calculation = calculation # Add 10 to this variable\n",
        "calculation = calculation # Subtract 5 from this variable\n",
        "calculation #Output must be the number 15"
      ]
    },
    {
      "cell_type": "markdown",
      "metadata": {
        "id": "PbPUTFLK8TKd"
      },
      "source": [
        "When you are done with the above challenge, then:\n",
        "\n",
        "1. Run the code block below by pressing the play button."
      ]
    },
    {
      "cell_type": "code",
      "execution_count": null,
      "metadata": {
        "id": "bV_5wMBA8TKd"
      },
      "outputs": [],
      "source": [
        "# Submit Method\n",
        "assignment_id = \"003_variables-and-functions\"\n",
        "question_id = \"04_variable_overwriting_2\"\n",
        "\n",
        "submit(student_id, name, assignment_id, str(calculation), question_id)"
      ]
    }
  ],
  "metadata": {
    "kernelspec": {
      "display_name": "Python 3 (ipykernel)",
      "language": "python",
      "name": "python3"
    },
    "language_info": {
      "codemirror_mode": {
        "name": "ipython",
        "version": 3
      },
      "file_extension": ".py",
      "mimetype": "text/x-python",
      "name": "python",
      "nbconvert_exporter": "python",
      "pygments_lexer": "ipython3",
      "version": "3.11.3"
    },
    "colab": {
      "provenance": [],
      "include_colab_link": true
    }
  },
  "nbformat": 4,
  "nbformat_minor": 0
}